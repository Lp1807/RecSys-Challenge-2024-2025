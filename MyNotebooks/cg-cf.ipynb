{
 "cells": [
  {
   "cell_type": "code",
   "execution_count": 3,
   "metadata": {},
   "outputs": [],
   "source": [
    "import os\n",
    "\n",
    "os.chdir('../')"
   ]
  },
  {
   "cell_type": "code",
   "execution_count": 4,
   "metadata": {},
   "outputs": [
    {
     "name": "stdout",
     "output_type": "stream",
     "text": [
      "   user_id  item_id  data\n",
      "0        0        0   1.0\n",
      "1        0        2   1.0\n",
      "2        0      120   1.0\n",
      "3        0      128   1.0\n",
      "4        0      211   1.0\n",
      "5        0      232   1.0\n",
      "6        0      282   1.0\n",
      "7        0      453   1.0\n",
      "8        0      458   1.0\n",
      "9        0      491   1.0\n"
     ]
    }
   ],
   "source": [
    "import numpy as np\n",
    "import pandas as pd\n",
    "import matplotlib.pyplot as plt\n",
    "\n",
    "data_train_path = \"Dataset/data_train.csv\"\n",
    "\n",
    "URM_all_dataframe = pd.read_csv(data_train_path)\n",
    "print(URM_all_dataframe.head(10))"
   ]
  },
  {
   "cell_type": "code",
   "execution_count": 5,
   "metadata": {},
   "outputs": [
    {
     "name": "stdout",
     "output_type": "stream",
     "text": [
      "Warning: 141 (0.39 %) of 35736 users have no sampled items\n",
      "EvaluatorHoldout: Ignoring 141 ( 0.4%) Users that have less than 1 test interactions\n"
     ]
    }
   ],
   "source": [
    "import numpy as np\n",
    "import scipy.sparse as sps\n",
    "from Data_manager.split_functions.split_train_validation_random_holdout import split_train_in_two_percentage_global_sample\n",
    "from Evaluation.Evaluator import EvaluatorHoldout\n",
    "\n",
    "\n",
    "\n",
    "URM_all = sps.coo_matrix((URM_all_dataframe['data'], (URM_all_dataframe['user_id'], URM_all_dataframe['item_id'])))\n",
    "URM_all = URM_all.tocsr()\n",
    "\n",
    "URM_train_validation, URM_test = split_train_in_two_percentage_global_sample(URM_all, train_percentage = 0.8)\n",
    "evaluator_test = EvaluatorHoldout(URM_test, cutoff_list=[10])"
   ]
  },
  {
   "cell_type": "code",
   "execution_count": 4,
   "metadata": {},
   "outputs": [
    {
     "name": "stderr",
     "output_type": "stream",
     "text": [
      "[I 2024-12-30 17:21:59,170] A new study created in memory with name: GraphConvolution\n"
     ]
    },
    {
     "name": "stdout",
     "output_type": "stream",
     "text": [
      "GraphConvolution: Computing SVD decomposition of the normalized adjacency matrix...\n",
      "Computing first term\n",
      "D_I_inv shape: (38121, 38121)\n",
      "V shape: (498, 38121)\n",
      "D_I shape: (38121, 38121)\n",
      "Computing second term: V^T * V\n",
      "Computing third term: alpha * D_I_inv * V^T * V\n",
      "Computing fourth term: third_term * D_I\n",
      "Computed Similarity matrix\n",
      "EvaluatorHoldout: Processed 35595 (100.0%) in 3.15 min. Users per second: 188\n"
     ]
    },
    {
     "name": "stderr",
     "output_type": "stream",
     "text": [
      "[I 2024-12-30 17:32:45,073] Trial 0 finished with value: 0.034686656766933346 and parameters: {'factors': 498, 'alpha': 3.7139085869566326}. Best is trial 0 with value: 0.034686656766933346.\n"
     ]
    },
    {
     "name": "stdout",
     "output_type": "stream",
     "text": [
      "GraphConvolution: Computing SVD decomposition of the normalized adjacency matrix...\n",
      "Computing first term\n",
      "D_I_inv shape: (38121, 38121)\n",
      "V shape: (91, 38121)\n",
      "D_I shape: (38121, 38121)\n",
      "Computing second term: V^T * V\n",
      "Computing third term: alpha * D_I_inv * V^T * V\n",
      "Computing fourth term: third_term * D_I\n",
      "Computed Similarity matrix\n",
      "EvaluatorHoldout: Processed 35595 (100.0%) in 3.82 min. Users per second: 155\n"
     ]
    },
    {
     "name": "stderr",
     "output_type": "stream",
     "text": [
      "[I 2024-12-30 17:44:33,645] Trial 1 finished with value: 0.020240066265771933 and parameters: {'factors': 91, 'alpha': 6.271988717134312}. Best is trial 0 with value: 0.034686656766933346.\n"
     ]
    },
    {
     "name": "stdout",
     "output_type": "stream",
     "text": [
      "GraphConvolution: Computing SVD decomposition of the normalized adjacency matrix...\n",
      "Computing first term\n",
      "D_I_inv shape: (38121, 38121)\n",
      "V shape: (341, 38121)\n",
      "D_I shape: (38121, 38121)\n",
      "Computing second term: V^T * V\n",
      "Computing third term: alpha * D_I_inv * V^T * V\n",
      "Computing fourth term: third_term * D_I\n",
      "Computed Similarity matrix\n",
      "EvaluatorHoldout: Processed 35595 (100.0%) in 3.63 min. Users per second: 163\n"
     ]
    },
    {
     "name": "stderr",
     "output_type": "stream",
     "text": [
      "[I 2024-12-30 17:56:19,651] Trial 2 finished with value: 0.031164143795832537 and parameters: {'factors': 341, 'alpha': 10.78275386578148}. Best is trial 0 with value: 0.034686656766933346.\n"
     ]
    },
    {
     "name": "stdout",
     "output_type": "stream",
     "text": [
      "GraphConvolution: Computing SVD decomposition of the normalized adjacency matrix...\n",
      "Computing first term\n",
      "D_I_inv shape: (38121, 38121)\n",
      "V shape: (60, 38121)\n",
      "D_I shape: (38121, 38121)\n",
      "Computing second term: V^T * V\n",
      "Computing third term: alpha * D_I_inv * V^T * V\n",
      "Computing fourth term: third_term * D_I\n",
      "Computed Similarity matrix\n",
      "EvaluatorHoldout: Processed 35595 (100.0%) in 3.07 min. Users per second: 193\n"
     ]
    },
    {
     "name": "stderr",
     "output_type": "stream",
     "text": [
      "[I 2024-12-30 18:07:07,451] Trial 3 finished with value: 0.016993923036274595 and parameters: {'factors': 60, 'alpha': 6.869817509996496}. Best is trial 0 with value: 0.034686656766933346.\n"
     ]
    },
    {
     "name": "stdout",
     "output_type": "stream",
     "text": [
      "GraphConvolution: Computing SVD decomposition of the normalized adjacency matrix...\n",
      "Computing first term\n",
      "D_I_inv shape: (38121, 38121)\n",
      "V shape: (255, 38121)\n",
      "D_I shape: (38121, 38121)\n",
      "Computing second term: V^T * V\n",
      "Computing third term: alpha * D_I_inv * V^T * V\n",
      "Computing fourth term: third_term * D_I\n",
      "Computed Similarity matrix\n",
      "EvaluatorHoldout: Processed 35595 (100.0%) in 3.69 min. Users per second: 161\n"
     ]
    },
    {
     "name": "stderr",
     "output_type": "stream",
     "text": [
      "[I 2024-12-30 18:18:52,796] Trial 4 finished with value: 0.02862001864003479 and parameters: {'factors': 255, 'alpha': 14.37888527078544}. Best is trial 0 with value: 0.034686656766933346.\n"
     ]
    },
    {
     "name": "stdout",
     "output_type": "stream",
     "text": [
      "GraphConvolution: Computing SVD decomposition of the normalized adjacency matrix...\n",
      "Computing first term\n",
      "D_I_inv shape: (38121, 38121)\n",
      "V shape: (100, 38121)\n",
      "D_I shape: (38121, 38121)\n",
      "Computing second term: V^T * V\n"
     ]
    },
    {
     "name": "stderr",
     "output_type": "stream",
     "text": [
      "[W 2024-12-30 18:19:17,345] Trial 5 failed with parameters: {'factors': 100, 'alpha': 8.782889106263408} because of the following error: KeyboardInterrupt().\n",
      "Traceback (most recent call last):\n",
      "  File \"/Users/lucapagano/miniconda3/envs/RecSysPD/lib/python3.8/site-packages/optuna/study/_optimize.py\", line 197, in _run_trial\n",
      "    value_or_values = func(trial)\n",
      "  File \"/var/folders/50/7hjr20g17_18p725nbt0qqv00000gn/T/ipykernel_35677/262824940.py\", line 8, in objective_function\n",
      "    recommender.fit(num_factors=factors, alpha=alpha, random_seed=42)\n",
      "  File \"/Users/lucapagano/Developer/RecSys/Competizione/Recommenders/Neural/Convolution/GraphConvolution.py\", line 54, in fit\n",
      "    VTDotV = self.V.T.dot(self.V)\n",
      "  File \"/Users/lucapagano/miniconda3/envs/RecSysPD/lib/python3.8/site-packages/scipy/sparse/_compressed.py\", line 85, in __init__\n",
      "    self._coo_container(arg1, dtype=dtype)\n",
      "  File \"/Users/lucapagano/miniconda3/envs/RecSysPD/lib/python3.8/site-packages/scipy/sparse/_coo.py\", line 190, in __init__\n",
      "    self.row, self.col = M.nonzero()\n",
      "KeyboardInterrupt\n",
      "[W 2024-12-30 18:19:17,361] Trial 5 failed with value None.\n"
     ]
    },
    {
     "ename": "KeyboardInterrupt",
     "evalue": "",
     "output_type": "error",
     "traceback": [
      "\u001b[0;31m---------------------------------------------------------------------------\u001b[0m",
      "\u001b[0;31mKeyboardInterrupt\u001b[0m                         Traceback (most recent call last)",
      "Cell \u001b[0;32mIn[4], line 30\u001b[0m\n\u001b[1;32m     26\u001b[0m optuna_study \u001b[38;5;241m=\u001b[39m optuna\u001b[38;5;241m.\u001b[39mcreate_study(study_name\u001b[38;5;241m=\u001b[39m\u001b[38;5;124m\"\u001b[39m\u001b[38;5;124mGraphConvolution\u001b[39m\u001b[38;5;124m\"\u001b[39m, direction\u001b[38;5;241m=\u001b[39m\u001b[38;5;124m\"\u001b[39m\u001b[38;5;124mmaximize\u001b[39m\u001b[38;5;124m\"\u001b[39m)\n\u001b[1;32m     28\u001b[0m save_results \u001b[38;5;241m=\u001b[39m SaveResults()\n\u001b[0;32m---> 30\u001b[0m \u001b[43moptuna_study\u001b[49m\u001b[38;5;241;43m.\u001b[39;49m\u001b[43moptimize\u001b[49m\u001b[43m(\u001b[49m\u001b[43mobjective_function\u001b[49m\u001b[43m,\u001b[49m\n\u001b[1;32m     31\u001b[0m \u001b[43m                      \u001b[49m\u001b[43mcallbacks\u001b[49m\u001b[38;5;241;43m=\u001b[39;49m\u001b[43m[\u001b[49m\u001b[43msave_results\u001b[49m\u001b[43m]\u001b[49m\u001b[43m,\u001b[49m\n\u001b[1;32m     32\u001b[0m \u001b[43m                      \u001b[49m\u001b[43mn_trials\u001b[49m\u001b[43m \u001b[49m\u001b[38;5;241;43m=\u001b[39;49m\u001b[43m \u001b[49m\u001b[38;5;241;43m100\u001b[39;49m\u001b[43m,\u001b[49m\n\u001b[1;32m     33\u001b[0m \u001b[43m                      \u001b[49m\u001b[43m)\u001b[49m\n",
      "File \u001b[0;32m~/miniconda3/envs/RecSysPD/lib/python3.8/site-packages/optuna/study/study.py:475\u001b[0m, in \u001b[0;36mStudy.optimize\u001b[0;34m(self, func, n_trials, timeout, n_jobs, catch, callbacks, gc_after_trial, show_progress_bar)\u001b[0m\n\u001b[1;32m    373\u001b[0m \u001b[38;5;28;01mdef\u001b[39;00m \u001b[38;5;21moptimize\u001b[39m(\n\u001b[1;32m    374\u001b[0m     \u001b[38;5;28mself\u001b[39m,\n\u001b[1;32m    375\u001b[0m     func: ObjectiveFuncType,\n\u001b[0;32m   (...)\u001b[0m\n\u001b[1;32m    382\u001b[0m     show_progress_bar: \u001b[38;5;28mbool\u001b[39m \u001b[38;5;241m=\u001b[39m \u001b[38;5;28;01mFalse\u001b[39;00m,\n\u001b[1;32m    383\u001b[0m ) \u001b[38;5;241m-\u001b[39m\u001b[38;5;241m>\u001b[39m \u001b[38;5;28;01mNone\u001b[39;00m:\n\u001b[1;32m    384\u001b[0m \u001b[38;5;250m    \u001b[39m\u001b[38;5;124;03m\"\"\"Optimize an objective function.\u001b[39;00m\n\u001b[1;32m    385\u001b[0m \n\u001b[1;32m    386\u001b[0m \u001b[38;5;124;03m    Optimization is done by choosing a suitable set of hyperparameter values from a given\u001b[39;00m\n\u001b[0;32m   (...)\u001b[0m\n\u001b[1;32m    473\u001b[0m \u001b[38;5;124;03m            If nested invocation of this method occurs.\u001b[39;00m\n\u001b[1;32m    474\u001b[0m \u001b[38;5;124;03m    \"\"\"\u001b[39;00m\n\u001b[0;32m--> 475\u001b[0m     \u001b[43m_optimize\u001b[49m\u001b[43m(\u001b[49m\n\u001b[1;32m    476\u001b[0m \u001b[43m        \u001b[49m\u001b[43mstudy\u001b[49m\u001b[38;5;241;43m=\u001b[39;49m\u001b[38;5;28;43mself\u001b[39;49m\u001b[43m,\u001b[49m\n\u001b[1;32m    477\u001b[0m \u001b[43m        \u001b[49m\u001b[43mfunc\u001b[49m\u001b[38;5;241;43m=\u001b[39;49m\u001b[43mfunc\u001b[49m\u001b[43m,\u001b[49m\n\u001b[1;32m    478\u001b[0m \u001b[43m        \u001b[49m\u001b[43mn_trials\u001b[49m\u001b[38;5;241;43m=\u001b[39;49m\u001b[43mn_trials\u001b[49m\u001b[43m,\u001b[49m\n\u001b[1;32m    479\u001b[0m \u001b[43m        \u001b[49m\u001b[43mtimeout\u001b[49m\u001b[38;5;241;43m=\u001b[39;49m\u001b[43mtimeout\u001b[49m\u001b[43m,\u001b[49m\n\u001b[1;32m    480\u001b[0m \u001b[43m        \u001b[49m\u001b[43mn_jobs\u001b[49m\u001b[38;5;241;43m=\u001b[39;49m\u001b[43mn_jobs\u001b[49m\u001b[43m,\u001b[49m\n\u001b[1;32m    481\u001b[0m \u001b[43m        \u001b[49m\u001b[43mcatch\u001b[49m\u001b[38;5;241;43m=\u001b[39;49m\u001b[38;5;28;43mtuple\u001b[39;49m\u001b[43m(\u001b[49m\u001b[43mcatch\u001b[49m\u001b[43m)\u001b[49m\u001b[43m \u001b[49m\u001b[38;5;28;43;01mif\u001b[39;49;00m\u001b[43m \u001b[49m\u001b[38;5;28;43misinstance\u001b[39;49m\u001b[43m(\u001b[49m\u001b[43mcatch\u001b[49m\u001b[43m,\u001b[49m\u001b[43m \u001b[49m\u001b[43mIterable\u001b[49m\u001b[43m)\u001b[49m\u001b[43m \u001b[49m\u001b[38;5;28;43;01melse\u001b[39;49;00m\u001b[43m \u001b[49m\u001b[43m(\u001b[49m\u001b[43mcatch\u001b[49m\u001b[43m,\u001b[49m\u001b[43m)\u001b[49m\u001b[43m,\u001b[49m\n\u001b[1;32m    482\u001b[0m \u001b[43m        \u001b[49m\u001b[43mcallbacks\u001b[49m\u001b[38;5;241;43m=\u001b[39;49m\u001b[43mcallbacks\u001b[49m\u001b[43m,\u001b[49m\n\u001b[1;32m    483\u001b[0m \u001b[43m        \u001b[49m\u001b[43mgc_after_trial\u001b[49m\u001b[38;5;241;43m=\u001b[39;49m\u001b[43mgc_after_trial\u001b[49m\u001b[43m,\u001b[49m\n\u001b[1;32m    484\u001b[0m \u001b[43m        \u001b[49m\u001b[43mshow_progress_bar\u001b[49m\u001b[38;5;241;43m=\u001b[39;49m\u001b[43mshow_progress_bar\u001b[49m\u001b[43m,\u001b[49m\n\u001b[1;32m    485\u001b[0m \u001b[43m    \u001b[49m\u001b[43m)\u001b[49m\n",
      "File \u001b[0;32m~/miniconda3/envs/RecSysPD/lib/python3.8/site-packages/optuna/study/_optimize.py:63\u001b[0m, in \u001b[0;36m_optimize\u001b[0;34m(study, func, n_trials, timeout, n_jobs, catch, callbacks, gc_after_trial, show_progress_bar)\u001b[0m\n\u001b[1;32m     61\u001b[0m \u001b[38;5;28;01mtry\u001b[39;00m:\n\u001b[1;32m     62\u001b[0m     \u001b[38;5;28;01mif\u001b[39;00m n_jobs \u001b[38;5;241m==\u001b[39m \u001b[38;5;241m1\u001b[39m:\n\u001b[0;32m---> 63\u001b[0m         \u001b[43m_optimize_sequential\u001b[49m\u001b[43m(\u001b[49m\n\u001b[1;32m     64\u001b[0m \u001b[43m            \u001b[49m\u001b[43mstudy\u001b[49m\u001b[43m,\u001b[49m\n\u001b[1;32m     65\u001b[0m \u001b[43m            \u001b[49m\u001b[43mfunc\u001b[49m\u001b[43m,\u001b[49m\n\u001b[1;32m     66\u001b[0m \u001b[43m            \u001b[49m\u001b[43mn_trials\u001b[49m\u001b[43m,\u001b[49m\n\u001b[1;32m     67\u001b[0m \u001b[43m            \u001b[49m\u001b[43mtimeout\u001b[49m\u001b[43m,\u001b[49m\n\u001b[1;32m     68\u001b[0m \u001b[43m            \u001b[49m\u001b[43mcatch\u001b[49m\u001b[43m,\u001b[49m\n\u001b[1;32m     69\u001b[0m \u001b[43m            \u001b[49m\u001b[43mcallbacks\u001b[49m\u001b[43m,\u001b[49m\n\u001b[1;32m     70\u001b[0m \u001b[43m            \u001b[49m\u001b[43mgc_after_trial\u001b[49m\u001b[43m,\u001b[49m\n\u001b[1;32m     71\u001b[0m \u001b[43m            \u001b[49m\u001b[43mreseed_sampler_rng\u001b[49m\u001b[38;5;241;43m=\u001b[39;49m\u001b[38;5;28;43;01mFalse\u001b[39;49;00m\u001b[43m,\u001b[49m\n\u001b[1;32m     72\u001b[0m \u001b[43m            \u001b[49m\u001b[43mtime_start\u001b[49m\u001b[38;5;241;43m=\u001b[39;49m\u001b[38;5;28;43;01mNone\u001b[39;49;00m\u001b[43m,\u001b[49m\n\u001b[1;32m     73\u001b[0m \u001b[43m            \u001b[49m\u001b[43mprogress_bar\u001b[49m\u001b[38;5;241;43m=\u001b[39;49m\u001b[43mprogress_bar\u001b[49m\u001b[43m,\u001b[49m\n\u001b[1;32m     74\u001b[0m \u001b[43m        \u001b[49m\u001b[43m)\u001b[49m\n\u001b[1;32m     75\u001b[0m     \u001b[38;5;28;01melse\u001b[39;00m:\n\u001b[1;32m     76\u001b[0m         \u001b[38;5;28;01mif\u001b[39;00m n_jobs \u001b[38;5;241m==\u001b[39m \u001b[38;5;241m-\u001b[39m\u001b[38;5;241m1\u001b[39m:\n",
      "File \u001b[0;32m~/miniconda3/envs/RecSysPD/lib/python3.8/site-packages/optuna/study/_optimize.py:160\u001b[0m, in \u001b[0;36m_optimize_sequential\u001b[0;34m(study, func, n_trials, timeout, catch, callbacks, gc_after_trial, reseed_sampler_rng, time_start, progress_bar)\u001b[0m\n\u001b[1;32m    157\u001b[0m         \u001b[38;5;28;01mbreak\u001b[39;00m\n\u001b[1;32m    159\u001b[0m \u001b[38;5;28;01mtry\u001b[39;00m:\n\u001b[0;32m--> 160\u001b[0m     frozen_trial \u001b[38;5;241m=\u001b[39m \u001b[43m_run_trial\u001b[49m\u001b[43m(\u001b[49m\u001b[43mstudy\u001b[49m\u001b[43m,\u001b[49m\u001b[43m \u001b[49m\u001b[43mfunc\u001b[49m\u001b[43m,\u001b[49m\u001b[43m \u001b[49m\u001b[43mcatch\u001b[49m\u001b[43m)\u001b[49m\n\u001b[1;32m    161\u001b[0m \u001b[38;5;28;01mfinally\u001b[39;00m:\n\u001b[1;32m    162\u001b[0m     \u001b[38;5;66;03m# The following line mitigates memory problems that can be occurred in some\u001b[39;00m\n\u001b[1;32m    163\u001b[0m     \u001b[38;5;66;03m# environments (e.g., services that use computing containers such as GitHub Actions).\u001b[39;00m\n\u001b[1;32m    164\u001b[0m     \u001b[38;5;66;03m# Please refer to the following PR for further details:\u001b[39;00m\n\u001b[1;32m    165\u001b[0m     \u001b[38;5;66;03m# https://github.com/optuna/optuna/pull/325.\u001b[39;00m\n\u001b[1;32m    166\u001b[0m     \u001b[38;5;28;01mif\u001b[39;00m gc_after_trial:\n",
      "File \u001b[0;32m~/miniconda3/envs/RecSysPD/lib/python3.8/site-packages/optuna/study/_optimize.py:248\u001b[0m, in \u001b[0;36m_run_trial\u001b[0;34m(study, func, catch)\u001b[0m\n\u001b[1;32m    241\u001b[0m         \u001b[38;5;28;01massert\u001b[39;00m \u001b[38;5;28;01mFalse\u001b[39;00m, \u001b[38;5;124m\"\u001b[39m\u001b[38;5;124mShould not reach.\u001b[39m\u001b[38;5;124m\"\u001b[39m\n\u001b[1;32m    243\u001b[0m \u001b[38;5;28;01mif\u001b[39;00m (\n\u001b[1;32m    244\u001b[0m     frozen_trial\u001b[38;5;241m.\u001b[39mstate \u001b[38;5;241m==\u001b[39m TrialState\u001b[38;5;241m.\u001b[39mFAIL\n\u001b[1;32m    245\u001b[0m     \u001b[38;5;129;01mand\u001b[39;00m func_err \u001b[38;5;129;01mis\u001b[39;00m \u001b[38;5;129;01mnot\u001b[39;00m \u001b[38;5;28;01mNone\u001b[39;00m\n\u001b[1;32m    246\u001b[0m     \u001b[38;5;129;01mand\u001b[39;00m \u001b[38;5;129;01mnot\u001b[39;00m \u001b[38;5;28misinstance\u001b[39m(func_err, catch)\n\u001b[1;32m    247\u001b[0m ):\n\u001b[0;32m--> 248\u001b[0m     \u001b[38;5;28;01mraise\u001b[39;00m func_err\n\u001b[1;32m    249\u001b[0m \u001b[38;5;28;01mreturn\u001b[39;00m frozen_trial\n",
      "File \u001b[0;32m~/miniconda3/envs/RecSysPD/lib/python3.8/site-packages/optuna/study/_optimize.py:197\u001b[0m, in \u001b[0;36m_run_trial\u001b[0;34m(study, func, catch)\u001b[0m\n\u001b[1;32m    195\u001b[0m \u001b[38;5;28;01mwith\u001b[39;00m get_heartbeat_thread(trial\u001b[38;5;241m.\u001b[39m_trial_id, study\u001b[38;5;241m.\u001b[39m_storage):\n\u001b[1;32m    196\u001b[0m     \u001b[38;5;28;01mtry\u001b[39;00m:\n\u001b[0;32m--> 197\u001b[0m         value_or_values \u001b[38;5;241m=\u001b[39m \u001b[43mfunc\u001b[49m\u001b[43m(\u001b[49m\u001b[43mtrial\u001b[49m\u001b[43m)\u001b[49m\n\u001b[1;32m    198\u001b[0m     \u001b[38;5;28;01mexcept\u001b[39;00m exceptions\u001b[38;5;241m.\u001b[39mTrialPruned \u001b[38;5;28;01mas\u001b[39;00m e:\n\u001b[1;32m    199\u001b[0m         \u001b[38;5;66;03m# TODO(mamu): Handle multi-objective cases.\u001b[39;00m\n\u001b[1;32m    200\u001b[0m         state \u001b[38;5;241m=\u001b[39m TrialState\u001b[38;5;241m.\u001b[39mPRUNED\n",
      "Cell \u001b[0;32mIn[4], line 8\u001b[0m, in \u001b[0;36mobjective_function\u001b[0;34m(trial)\u001b[0m\n\u001b[1;32m      6\u001b[0m alpha \u001b[38;5;241m=\u001b[39m trial\u001b[38;5;241m.\u001b[39msuggest_float(\u001b[38;5;124m\"\u001b[39m\u001b[38;5;124malpha\u001b[39m\u001b[38;5;124m\"\u001b[39m, \u001b[38;5;241m0\u001b[39m, \u001b[38;5;241m15\u001b[39m)\n\u001b[1;32m      7\u001b[0m recommender \u001b[38;5;241m=\u001b[39m GraphConvolution(URM_train_validation)\n\u001b[0;32m----> 8\u001b[0m \u001b[43mrecommender\u001b[49m\u001b[38;5;241;43m.\u001b[39;49m\u001b[43mfit\u001b[49m\u001b[43m(\u001b[49m\u001b[43mnum_factors\u001b[49m\u001b[38;5;241;43m=\u001b[39;49m\u001b[43mfactors\u001b[49m\u001b[43m,\u001b[49m\u001b[43m \u001b[49m\u001b[43malpha\u001b[49m\u001b[38;5;241;43m=\u001b[39;49m\u001b[43malpha\u001b[49m\u001b[43m,\u001b[49m\u001b[43m \u001b[49m\u001b[43mrandom_seed\u001b[49m\u001b[38;5;241;43m=\u001b[39;49m\u001b[38;5;241;43m42\u001b[39;49m\u001b[43m)\u001b[49m\n\u001b[1;32m     10\u001b[0m result_dic, _ \u001b[38;5;241m=\u001b[39m evaluator_test\u001b[38;5;241m.\u001b[39mevaluateRecommender(recommender)\n\u001b[1;32m     11\u001b[0m MAP \u001b[38;5;241m=\u001b[39m result_dic\u001b[38;5;241m.\u001b[39mloc[\u001b[38;5;241m10\u001b[39m][\u001b[38;5;124m\"\u001b[39m\u001b[38;5;124mMAP\u001b[39m\u001b[38;5;124m\"\u001b[39m]\n",
      "File \u001b[0;32m~/Developer/RecSys/Competizione/Recommenders/Neural/Convolution/GraphConvolution.py:54\u001b[0m, in \u001b[0;36mGraphConvolution.fit\u001b[0;34m(self, alpha, num_factors, random_seed)\u001b[0m\n\u001b[1;32m     52\u001b[0m \u001b[38;5;66;03m# Had to transpose V to make the dot product work -> gpt agrees with me\u001b[39;00m\n\u001b[1;32m     53\u001b[0m \u001b[38;5;28mprint\u001b[39m(\u001b[38;5;124m\"\u001b[39m\u001b[38;5;124mComputing second term: V^T * V\u001b[39m\u001b[38;5;124m\"\u001b[39m)\n\u001b[0;32m---> 54\u001b[0m VTDotV \u001b[38;5;241m=\u001b[39m \u001b[38;5;28mself\u001b[39m\u001b[38;5;241m.\u001b[39mV\u001b[38;5;241m.\u001b[39mT\u001b[38;5;241m.\u001b[39mdot(\u001b[38;5;28mself\u001b[39m\u001b[38;5;241m.\u001b[39mV)\n\u001b[1;32m     55\u001b[0m VTDotV \u001b[38;5;241m=\u001b[39m sp\u001b[38;5;241m.\u001b[39mcsr_matrix(VTDotV)\n\u001b[1;32m     57\u001b[0m \u001b[38;5;28mprint\u001b[39m(\u001b[38;5;124m\"\u001b[39m\u001b[38;5;124mComputing third term: alpha * D_I_inv * V^T * V\u001b[39m\u001b[38;5;124m\"\u001b[39m)\n",
      "File \u001b[0;32m~/miniconda3/envs/RecSysPD/lib/python3.8/site-packages/scipy/sparse/_compressed.py:85\u001b[0m, in \u001b[0;36m_cs_matrix.__init__\u001b[0;34m(self, arg1, shape, dtype, copy)\u001b[0m\n\u001b[1;32m     81\u001b[0m     \u001b[38;5;28;01mexcept\u001b[39;00m \u001b[38;5;167;01mException\u001b[39;00m \u001b[38;5;28;01mas\u001b[39;00m e:\n\u001b[1;32m     82\u001b[0m         \u001b[38;5;28;01mraise\u001b[39;00m \u001b[38;5;167;01mValueError\u001b[39;00m(\u001b[38;5;124m\"\u001b[39m\u001b[38;5;124munrecognized \u001b[39m\u001b[38;5;132;01m{}\u001b[39;00m\u001b[38;5;124m_matrix constructor usage\u001b[39m\u001b[38;5;124m\"\u001b[39m\n\u001b[1;32m     83\u001b[0m                          \u001b[38;5;124m\"\u001b[39m\u001b[38;5;124m\"\u001b[39m\u001b[38;5;241m.\u001b[39mformat(\u001b[38;5;28mself\u001b[39m\u001b[38;5;241m.\u001b[39mformat)) \u001b[38;5;28;01mfrom\u001b[39;00m \u001b[38;5;21;01me\u001b[39;00m\n\u001b[1;32m     84\u001b[0m     \u001b[38;5;28mself\u001b[39m\u001b[38;5;241m.\u001b[39m_set_self(\u001b[38;5;28mself\u001b[39m\u001b[38;5;241m.\u001b[39m\u001b[38;5;18m__class__\u001b[39m(\n\u001b[0;32m---> 85\u001b[0m         \u001b[38;5;28;43mself\u001b[39;49m\u001b[38;5;241;43m.\u001b[39;49m\u001b[43m_coo_container\u001b[49m\u001b[43m(\u001b[49m\u001b[43marg1\u001b[49m\u001b[43m,\u001b[49m\u001b[43m \u001b[49m\u001b[43mdtype\u001b[49m\u001b[38;5;241;43m=\u001b[39;49m\u001b[43mdtype\u001b[49m\u001b[43m)\u001b[49m\n\u001b[1;32m     86\u001b[0m     ))\n\u001b[1;32m     88\u001b[0m \u001b[38;5;66;03m# Read matrix dimensions given, if any\u001b[39;00m\n\u001b[1;32m     89\u001b[0m \u001b[38;5;28;01mif\u001b[39;00m shape \u001b[38;5;129;01mis\u001b[39;00m \u001b[38;5;129;01mnot\u001b[39;00m \u001b[38;5;28;01mNone\u001b[39;00m:\n",
      "File \u001b[0;32m~/miniconda3/envs/RecSysPD/lib/python3.8/site-packages/scipy/sparse/_coo.py:190\u001b[0m, in \u001b[0;36mcoo_matrix.__init__\u001b[0;34m(self, arg1, shape, dtype, copy)\u001b[0m\n\u001b[1;32m    186\u001b[0m     \u001b[38;5;28;01mif\u001b[39;00m check_shape(shape) \u001b[38;5;241m!=\u001b[39m \u001b[38;5;28mself\u001b[39m\u001b[38;5;241m.\u001b[39m_shape:\n\u001b[1;32m    187\u001b[0m         \u001b[38;5;28;01mraise\u001b[39;00m \u001b[38;5;167;01mValueError\u001b[39;00m(\u001b[38;5;124m'\u001b[39m\u001b[38;5;124minconsistent shapes: \u001b[39m\u001b[38;5;132;01m%s\u001b[39;00m\u001b[38;5;124m != \u001b[39m\u001b[38;5;132;01m%s\u001b[39;00m\u001b[38;5;124m'\u001b[39m \u001b[38;5;241m%\u001b[39m\n\u001b[1;32m    188\u001b[0m                          (shape, \u001b[38;5;28mself\u001b[39m\u001b[38;5;241m.\u001b[39m_shape))\n\u001b[0;32m--> 190\u001b[0m \u001b[38;5;28mself\u001b[39m\u001b[38;5;241m.\u001b[39mrow, \u001b[38;5;28mself\u001b[39m\u001b[38;5;241m.\u001b[39mcol \u001b[38;5;241m=\u001b[39m \u001b[43mM\u001b[49m\u001b[38;5;241;43m.\u001b[39;49m\u001b[43mnonzero\u001b[49m\u001b[43m(\u001b[49m\u001b[43m)\u001b[49m\n\u001b[1;32m    191\u001b[0m \u001b[38;5;28mself\u001b[39m\u001b[38;5;241m.\u001b[39mdata \u001b[38;5;241m=\u001b[39m M[\u001b[38;5;28mself\u001b[39m\u001b[38;5;241m.\u001b[39mrow, \u001b[38;5;28mself\u001b[39m\u001b[38;5;241m.\u001b[39mcol]\n\u001b[1;32m    192\u001b[0m \u001b[38;5;28mself\u001b[39m\u001b[38;5;241m.\u001b[39mhas_canonical_format \u001b[38;5;241m=\u001b[39m \u001b[38;5;28;01mTrue\u001b[39;00m\n",
      "\u001b[0;31mKeyboardInterrupt\u001b[0m: "
     ]
    }
   ],
   "source": [
    "from Recommenders.Neural.Convolution.GraphConvolution import GraphConvolutionWithBlockMatrix, GraphConvolution\n",
    "import optuna\n",
    "\n",
    "def objective_function(trial):\n",
    "    factors = trial.suggest_int(\"factors\", 10, 500)\n",
    "    alpha = trial.suggest_float(\"alpha\", 0, 15)\n",
    "    recommender = GraphConvolution(URM_train_validation)\n",
    "    recommender.fit(num_factors=factors, alpha=alpha, random_seed=42)\n",
    "    \n",
    "    result_dic, _ = evaluator_test.evaluateRecommender(recommender)\n",
    "    MAP = result_dic.loc[10][\"MAP\"]\n",
    "    return MAP\n",
    "\n",
    "class SaveResults(object):\n",
    "    \n",
    "    def __init__(self):\n",
    "        self.results_df = pd.DataFrame(columns = [\"result\"])\n",
    "    \n",
    "    def __call__(self, optuna_study, optuna_trial):\n",
    "        hyperparam_dict = optuna_trial.params.copy()\n",
    "        hyperparam_dict[\"result\"] = optuna_trial.values[0]\n",
    "        \n",
    "        self.results_df = pd.concat([self.results_df, pd.DataFrame([hyperparam_dict])], ignore_index=True)\n",
    "        self.results_df.to_csv(\"logs/GraphConvolution/gf_firstTrial.csv\", index = False)\n",
    "\n",
    "optuna_study = optuna.create_study(study_name=\"GraphConvolution\", direction=\"maximize\")\n",
    "        \n",
    "save_results = SaveResults()\n",
    "        \n",
    "optuna_study.optimize(objective_function,\n",
    "                      callbacks=[save_results],\n",
    "                      n_trials = 100,\n",
    "                      )"
   ]
  },
  {
   "cell_type": "markdown",
   "metadata": {},
   "source": [
    "# We can already see that we need bigger factors"
   ]
  },
  {
   "cell_type": "code",
   "execution_count": null,
   "metadata": {},
   "outputs": [
    {
     "name": "stderr",
     "output_type": "stream",
     "text": [
      "[I 2024-12-30 18:40:58,341] A new study created in memory with name: GraphConvolution\n"
     ]
    },
    {
     "name": "stdout",
     "output_type": "stream",
     "text": [
      "GraphConvolution: Computing SVD decomposition of the normalized adjacency matrix...\n",
      "Computing first term\n",
      "D_I_inv shape: (38121, 38121)\n",
      "V shape: (1608, 38121)\n",
      "D_I shape: (38121, 38121)\n",
      "Computing second term: V^T * V\n",
      "Computing third term: alpha * D_I_inv * V^T * V\n",
      "Computing fourth term: third_term * D_I\n",
      "Computed Similarity matrix\n",
      "EvaluatorHoldout: Processed 35595 (100.0%) in 3.28 min. Users per second: 181\n"
     ]
    },
    {
     "name": "stderr",
     "output_type": "stream",
     "text": [
      "[I 2024-12-30 18:52:50,249] Trial 0 finished with value: 0.043327983241803945 and parameters: {'factors': 1608, 'alpha': 5.051769446290934}. Best is trial 0 with value: 0.043327983241803945.\n"
     ]
    },
    {
     "name": "stdout",
     "output_type": "stream",
     "text": [
      "GraphConvolution: Computing SVD decomposition of the normalized adjacency matrix...\n",
      "Computing first term\n",
      "D_I_inv shape: (38121, 38121)\n",
      "V shape: (2236, 38121)\n",
      "D_I shape: (38121, 38121)\n",
      "Computing second term: V^T * V\n",
      "Computing third term: alpha * D_I_inv * V^T * V\n",
      "Computing fourth term: third_term * D_I\n",
      "Computed Similarity matrix\n",
      "EvaluatorHoldout: Processed 35595 (100.0%) in 4.44 min. Users per second: 134\n"
     ]
    },
    {
     "name": "stderr",
     "output_type": "stream",
     "text": [
      "[I 2024-12-30 19:06:24,287] Trial 1 finished with value: 0.0454054553319184 and parameters: {'factors': 2236, 'alpha': 6.009407100047718}. Best is trial 1 with value: 0.0454054553319184.\n"
     ]
    },
    {
     "name": "stdout",
     "output_type": "stream",
     "text": [
      "GraphConvolution: Computing SVD decomposition of the normalized adjacency matrix...\n",
      "Computing first term\n",
      "D_I_inv shape: (38121, 38121)\n",
      "V shape: (2381, 38121)\n",
      "D_I shape: (38121, 38121)\n",
      "Computing second term: V^T * V\n",
      "Computing third term: alpha * D_I_inv * V^T * V\n",
      "Computing fourth term: third_term * D_I\n",
      "Computed Similarity matrix\n",
      "EvaluatorHoldout: Processed 35595 (100.0%) in 3.41 min. Users per second: 174\n"
     ]
    },
    {
     "name": "stderr",
     "output_type": "stream",
     "text": [
      "[I 2024-12-30 19:18:45,254] Trial 2 finished with value: 0.045802090092016766 and parameters: {'factors': 2381, 'alpha': 13.65337908117169}. Best is trial 2 with value: 0.045802090092016766.\n"
     ]
    },
    {
     "name": "stdout",
     "output_type": "stream",
     "text": [
      "GraphConvolution: Computing SVD decomposition of the normalized adjacency matrix...\n",
      "Computing first term\n",
      "D_I_inv shape: (38121, 38121)\n",
      "V shape: (1960, 38121)\n",
      "D_I shape: (38121, 38121)\n",
      "Computing second term: V^T * V\n",
      "Computing third term: alpha * D_I_inv * V^T * V\n",
      "Computing fourth term: third_term * D_I\n",
      "Computed Similarity matrix\n",
      "EvaluatorHoldout: Processed 35595 (100.0%) in 2.75 min. Users per second: 216\n"
     ]
    },
    {
     "name": "stderr",
     "output_type": "stream",
     "text": [
      "[I 2024-12-30 19:30:12,873] Trial 3 finished with value: 0.044659397944689344 and parameters: {'factors': 1960, 'alpha': 13.232627727638812}. Best is trial 2 with value: 0.045802090092016766.\n"
     ]
    },
    {
     "name": "stdout",
     "output_type": "stream",
     "text": [
      "GraphConvolution: Computing SVD decomposition of the normalized adjacency matrix...\n",
      "Computing first term\n",
      "D_I_inv shape: (38121, 38121)\n",
      "V shape: (2302, 38121)\n",
      "D_I shape: (38121, 38121)\n",
      "Computing second term: V^T * V\n",
      "Computing third term: alpha * D_I_inv * V^T * V\n",
      "Computing fourth term: third_term * D_I\n"
     ]
    }
   ],
   "source": [
    "from Recommenders.Neural.Convolution.GraphConvolution import GraphConvolution\n",
    "import optuna\n",
    "\n",
    "def objective_function(trial):\n",
    "    factors = trial.suggest_int(\"factors\", 500, 2500)\n",
    "    alpha = trial.suggest_float(\"alpha\", 0, 15)\n",
    "    recommender = GraphConvolution(URM_train_validation)\n",
    "    recommender.fit(num_factors=factors, alpha=alpha, random_seed=42)\n",
    "    \n",
    "    result_dic, _ = evaluator_test.evaluateRecommender(recommender)\n",
    "    MAP = result_dic.loc[10][\"MAP\"]\n",
    "    return MAP\n",
    "\n",
    "class SaveResults(object):\n",
    "    \n",
    "    def __init__(self):\n",
    "        self.results_df = pd.DataFrame(columns = [\"result\"])\n",
    "    \n",
    "    def __call__(self, optuna_study, optuna_trial):\n",
    "        hyperparam_dict = optuna_trial.params.copy()\n",
    "        hyperparam_dict[\"result\"] = optuna_trial.values[0]\n",
    "        \n",
    "        self.results_df = pd.concat([self.results_df, pd.DataFrame([hyperparam_dict])], ignore_index=True)\n",
    "        self.results_df.to_csv(\"logs/GraphConvolution/gf_secondTrial.csv\", index = False)\n",
    "\n",
    "optuna_study = optuna.create_study(study_name=\"GraphConvolution\", direction=\"maximize\")\n",
    "        \n",
    "save_results = SaveResults()\n",
    "        \n",
    "optuna_study.optimize(objective_function,\n",
    "                      callbacks=[save_results],\n",
    "                      n_trials = 100,\n",
    "                      )"
   ]
  },
  {
   "cell_type": "markdown",
   "metadata": {},
   "source": [
    "# Even higher"
   ]
  },
  {
   "cell_type": "code",
   "execution_count": 4,
   "metadata": {},
   "outputs": [
    {
     "name": "stderr",
     "output_type": "stream",
     "text": [
      "[I 2024-12-30 19:40:20,841] A new study created in memory with name: GraphConvolution\n"
     ]
    },
    {
     "name": "stdout",
     "output_type": "stream",
     "text": [
      "GraphConvolution: Computing SVD decomposition of the normalized adjacency matrix...\n",
      "Computing first term\n",
      "D_I_inv shape: (38121, 38121)\n",
      "V shape: (2341, 38121)\n",
      "D_I shape: (38121, 38121)\n",
      "Computing second term: V^T * V\n",
      "Computing third term: alpha * D_I_inv * V^T * V\n",
      "Computing fourth term: third_term * D_I\n",
      "Computed Similarity matrix\n",
      "EvaluatorHoldout: Processed 35595 (100.0%) in 2.83 min. Users per second: 210\n"
     ]
    },
    {
     "name": "stderr",
     "output_type": "stream",
     "text": [
      "[I 2024-12-30 19:52:35,151] Trial 0 finished with value: 0.04620460894944539 and parameters: {'factors': 2341, 'alpha': 0.7174368134138076}. Best is trial 0 with value: 0.04620460894944539.\n"
     ]
    },
    {
     "name": "stdout",
     "output_type": "stream",
     "text": [
      "GraphConvolution: Computing SVD decomposition of the normalized adjacency matrix...\n",
      "Computing first term\n",
      "D_I_inv shape: (38121, 38121)\n",
      "V shape: (3033, 38121)\n",
      "D_I shape: (38121, 38121)\n",
      "Computing second term: V^T * V\n",
      "Computing third term: alpha * D_I_inv * V^T * V\n",
      "Computing fourth term: third_term * D_I\n",
      "Computed Similarity matrix\n",
      "EvaluatorHoldout: Processed 35595 (100.0%) in 2.75 min. Users per second: 215\n"
     ]
    },
    {
     "name": "stderr",
     "output_type": "stream",
     "text": [
      "[I 2024-12-30 20:05:09,533] Trial 1 finished with value: 0.04680404885651251 and parameters: {'factors': 3033, 'alpha': 7.23175879418644}. Best is trial 1 with value: 0.04680404885651251.\n"
     ]
    },
    {
     "name": "stdout",
     "output_type": "stream",
     "text": [
      "GraphConvolution: Computing SVD decomposition of the normalized adjacency matrix...\n",
      "Computing first term\n",
      "D_I_inv shape: (38121, 38121)\n",
      "V shape: (2002, 38121)\n",
      "D_I shape: (38121, 38121)\n",
      "Computing second term: V^T * V\n",
      "Computing third term: alpha * D_I_inv * V^T * V\n",
      "Computing fourth term: third_term * D_I\n",
      "Computed Similarity matrix\n",
      "EvaluatorHoldout: Processed 35595 (100.0%) in 2.68 min. Users per second: 221\n"
     ]
    },
    {
     "name": "stderr",
     "output_type": "stream",
     "text": [
      "[I 2024-12-30 20:17:08,336] Trial 2 finished with value: 0.0447459191477297 and parameters: {'factors': 2002, 'alpha': 11.037943396597363}. Best is trial 1 with value: 0.04680404885651251.\n"
     ]
    },
    {
     "name": "stdout",
     "output_type": "stream",
     "text": [
      "GraphConvolution: Computing SVD decomposition of the normalized adjacency matrix...\n",
      "Computing first term\n",
      "D_I_inv shape: (38121, 38121)\n",
      "V shape: (2187, 38121)\n",
      "D_I shape: (38121, 38121)\n",
      "Computing second term: V^T * V\n",
      "Computing third term: alpha * D_I_inv * V^T * V\n",
      "Computing fourth term: third_term * D_I\n",
      "Computed Similarity matrix\n",
      "EvaluatorHoldout: Processed 35595 (100.0%) in 2.70 min. Users per second: 220\n"
     ]
    },
    {
     "name": "stderr",
     "output_type": "stream",
     "text": [
      "[I 2024-12-30 20:28:47,159] Trial 3 finished with value: 0.04528229508781402 and parameters: {'factors': 2187, 'alpha': 11.258568316242709}. Best is trial 1 with value: 0.04680404885651251.\n"
     ]
    },
    {
     "name": "stdout",
     "output_type": "stream",
     "text": [
      "GraphConvolution: Computing SVD decomposition of the normalized adjacency matrix...\n",
      "Computing first term\n",
      "D_I_inv shape: (38121, 38121)\n",
      "V shape: (2623, 38121)\n",
      "D_I shape: (38121, 38121)\n",
      "Computing second term: V^T * V\n",
      "Computing third term: alpha * D_I_inv * V^T * V\n",
      "Computing fourth term: third_term * D_I\n",
      "Computed Similarity matrix\n",
      "EvaluatorHoldout: Processed 35595 (100.0%) in 2.66 min. Users per second: 223\n"
     ]
    },
    {
     "name": "stderr",
     "output_type": "stream",
     "text": [
      "[I 2024-12-30 20:40:07,299] Trial 4 finished with value: 0.04614409460932701 and parameters: {'factors': 2623, 'alpha': 12.037957655911061}. Best is trial 1 with value: 0.04680404885651251.\n"
     ]
    },
    {
     "name": "stdout",
     "output_type": "stream",
     "text": [
      "GraphConvolution: Computing SVD decomposition of the normalized adjacency matrix...\n",
      "Computing first term\n",
      "D_I_inv shape: (38121, 38121)\n",
      "V shape: (1451, 38121)\n",
      "D_I shape: (38121, 38121)\n",
      "Computing second term: V^T * V\n",
      "Computing third term: alpha * D_I_inv * V^T * V\n",
      "Computing fourth term: third_term * D_I\n",
      "Computed Similarity matrix\n",
      "EvaluatorHoldout: Processed 35595 (100.0%) in 2.92 min. Users per second: 203\n"
     ]
    },
    {
     "name": "stderr",
     "output_type": "stream",
     "text": [
      "[I 2024-12-30 20:52:05,858] Trial 5 finished with value: 0.04276018122752072 and parameters: {'factors': 1451, 'alpha': 3.956042624788899}. Best is trial 1 with value: 0.04680404885651251.\n"
     ]
    },
    {
     "name": "stdout",
     "output_type": "stream",
     "text": [
      "GraphConvolution: Computing SVD decomposition of the normalized adjacency matrix...\n",
      "Computing first term\n",
      "D_I_inv shape: (38121, 38121)\n",
      "V shape: (1427, 38121)\n",
      "D_I shape: (38121, 38121)\n",
      "Computing second term: V^T * V\n",
      "Computing third term: alpha * D_I_inv * V^T * V\n",
      "Computing fourth term: third_term * D_I\n",
      "Computed Similarity matrix\n",
      "EvaluatorHoldout: Processed 35595 (100.0%) in 2.82 min. Users per second: 211\n"
     ]
    },
    {
     "name": "stderr",
     "output_type": "stream",
     "text": [
      "[I 2024-12-30 21:03:10,297] Trial 6 finished with value: 0.04309368178605299 and parameters: {'factors': 1427, 'alpha': 1.2999532721318836}. Best is trial 1 with value: 0.04680404885651251.\n"
     ]
    },
    {
     "name": "stdout",
     "output_type": "stream",
     "text": [
      "GraphConvolution: Computing SVD decomposition of the normalized adjacency matrix...\n",
      "Computing first term\n",
      "D_I_inv shape: (38121, 38121)\n",
      "V shape: (1739, 38121)\n",
      "D_I shape: (38121, 38121)\n",
      "Computing second term: V^T * V\n",
      "Computing third term: alpha * D_I_inv * V^T * V\n"
     ]
    },
    {
     "name": "stderr",
     "output_type": "stream",
     "text": [
      "[W 2024-12-30 21:09:28,356] Trial 7 failed with parameters: {'factors': 1739, 'alpha': 2.669393926880328} because of the following error: KeyboardInterrupt().\n",
      "Traceback (most recent call last):\n",
      "  File \"/Users/lucapagano/miniconda3/envs/RecSysPD/lib/python3.8/site-packages/optuna/study/_optimize.py\", line 197, in _run_trial\n",
      "    value_or_values = func(trial)\n",
      "  File \"/var/folders/50/7hjr20g17_18p725nbt0qqv00000gn/T/ipykernel_65980/2032058779.py\", line 8, in objective_function\n",
      "    recommender.fit(num_factors=factors, alpha=alpha, random_seed=42)\n",
      "  File \"/Users/lucapagano/Developer/RecSys/Competizione/Recommenders/Neural/Convolution/GraphConvolution.py\", line 58, in fit\n",
      "    partial_res = self.alpha * self.D_I_inv.dot(VTDotV)\n",
      "  File \"/Users/lucapagano/miniconda3/envs/RecSysPD/lib/python3.8/site-packages/scipy/sparse/_base.py\", line 620, in __rmul__\n",
      "    return self._rmul_dispatch(other)\n",
      "  File \"/Users/lucapagano/miniconda3/envs/RecSysPD/lib/python3.8/site-packages/scipy/sparse/_base.py\", line 607, in _rmul_dispatch\n",
      "    return self._mul_scalar(other)\n",
      "  File \"/Users/lucapagano/miniconda3/envs/RecSysPD/lib/python3.8/site-packages/scipy/sparse/_data.py\", line 124, in _mul_scalar\n",
      "    return self._with_data(self.data * other)\n",
      "KeyboardInterrupt\n",
      "[W 2024-12-30 21:09:28,390] Trial 7 failed with value None.\n"
     ]
    },
    {
     "ename": "KeyboardInterrupt",
     "evalue": "",
     "output_type": "error",
     "traceback": [
      "\u001b[0;31m---------------------------------------------------------------------------\u001b[0m",
      "\u001b[0;31mKeyboardInterrupt\u001b[0m                         Traceback (most recent call last)",
      "Cell \u001b[0;32mIn[4], line 30\u001b[0m\n\u001b[1;32m     26\u001b[0m optuna_study \u001b[38;5;241m=\u001b[39m optuna\u001b[38;5;241m.\u001b[39mcreate_study(study_name\u001b[38;5;241m=\u001b[39m\u001b[38;5;124m\"\u001b[39m\u001b[38;5;124mGraphConvolution\u001b[39m\u001b[38;5;124m\"\u001b[39m, direction\u001b[38;5;241m=\u001b[39m\u001b[38;5;124m\"\u001b[39m\u001b[38;5;124mmaximize\u001b[39m\u001b[38;5;124m\"\u001b[39m)\n\u001b[1;32m     28\u001b[0m save_results \u001b[38;5;241m=\u001b[39m SaveResults()\n\u001b[0;32m---> 30\u001b[0m \u001b[43moptuna_study\u001b[49m\u001b[38;5;241;43m.\u001b[39;49m\u001b[43moptimize\u001b[49m\u001b[43m(\u001b[49m\u001b[43mobjective_function\u001b[49m\u001b[43m,\u001b[49m\n\u001b[1;32m     31\u001b[0m \u001b[43m                      \u001b[49m\u001b[43mcallbacks\u001b[49m\u001b[38;5;241;43m=\u001b[39;49m\u001b[43m[\u001b[49m\u001b[43msave_results\u001b[49m\u001b[43m]\u001b[49m\u001b[43m,\u001b[49m\n\u001b[1;32m     32\u001b[0m \u001b[43m                      \u001b[49m\u001b[43mn_trials\u001b[49m\u001b[43m \u001b[49m\u001b[38;5;241;43m=\u001b[39;49m\u001b[43m \u001b[49m\u001b[38;5;241;43m100\u001b[39;49m\u001b[43m,\u001b[49m\n\u001b[1;32m     33\u001b[0m \u001b[43m                      \u001b[49m\u001b[43m)\u001b[49m\n",
      "File \u001b[0;32m~/miniconda3/envs/RecSysPD/lib/python3.8/site-packages/optuna/study/study.py:475\u001b[0m, in \u001b[0;36mStudy.optimize\u001b[0;34m(self, func, n_trials, timeout, n_jobs, catch, callbacks, gc_after_trial, show_progress_bar)\u001b[0m\n\u001b[1;32m    373\u001b[0m \u001b[38;5;28;01mdef\u001b[39;00m \u001b[38;5;21moptimize\u001b[39m(\n\u001b[1;32m    374\u001b[0m     \u001b[38;5;28mself\u001b[39m,\n\u001b[1;32m    375\u001b[0m     func: ObjectiveFuncType,\n\u001b[0;32m   (...)\u001b[0m\n\u001b[1;32m    382\u001b[0m     show_progress_bar: \u001b[38;5;28mbool\u001b[39m \u001b[38;5;241m=\u001b[39m \u001b[38;5;28;01mFalse\u001b[39;00m,\n\u001b[1;32m    383\u001b[0m ) \u001b[38;5;241m-\u001b[39m\u001b[38;5;241m>\u001b[39m \u001b[38;5;28;01mNone\u001b[39;00m:\n\u001b[1;32m    384\u001b[0m \u001b[38;5;250m    \u001b[39m\u001b[38;5;124;03m\"\"\"Optimize an objective function.\u001b[39;00m\n\u001b[1;32m    385\u001b[0m \n\u001b[1;32m    386\u001b[0m \u001b[38;5;124;03m    Optimization is done by choosing a suitable set of hyperparameter values from a given\u001b[39;00m\n\u001b[0;32m   (...)\u001b[0m\n\u001b[1;32m    473\u001b[0m \u001b[38;5;124;03m            If nested invocation of this method occurs.\u001b[39;00m\n\u001b[1;32m    474\u001b[0m \u001b[38;5;124;03m    \"\"\"\u001b[39;00m\n\u001b[0;32m--> 475\u001b[0m     \u001b[43m_optimize\u001b[49m\u001b[43m(\u001b[49m\n\u001b[1;32m    476\u001b[0m \u001b[43m        \u001b[49m\u001b[43mstudy\u001b[49m\u001b[38;5;241;43m=\u001b[39;49m\u001b[38;5;28;43mself\u001b[39;49m\u001b[43m,\u001b[49m\n\u001b[1;32m    477\u001b[0m \u001b[43m        \u001b[49m\u001b[43mfunc\u001b[49m\u001b[38;5;241;43m=\u001b[39;49m\u001b[43mfunc\u001b[49m\u001b[43m,\u001b[49m\n\u001b[1;32m    478\u001b[0m \u001b[43m        \u001b[49m\u001b[43mn_trials\u001b[49m\u001b[38;5;241;43m=\u001b[39;49m\u001b[43mn_trials\u001b[49m\u001b[43m,\u001b[49m\n\u001b[1;32m    479\u001b[0m \u001b[43m        \u001b[49m\u001b[43mtimeout\u001b[49m\u001b[38;5;241;43m=\u001b[39;49m\u001b[43mtimeout\u001b[49m\u001b[43m,\u001b[49m\n\u001b[1;32m    480\u001b[0m \u001b[43m        \u001b[49m\u001b[43mn_jobs\u001b[49m\u001b[38;5;241;43m=\u001b[39;49m\u001b[43mn_jobs\u001b[49m\u001b[43m,\u001b[49m\n\u001b[1;32m    481\u001b[0m \u001b[43m        \u001b[49m\u001b[43mcatch\u001b[49m\u001b[38;5;241;43m=\u001b[39;49m\u001b[38;5;28;43mtuple\u001b[39;49m\u001b[43m(\u001b[49m\u001b[43mcatch\u001b[49m\u001b[43m)\u001b[49m\u001b[43m \u001b[49m\u001b[38;5;28;43;01mif\u001b[39;49;00m\u001b[43m \u001b[49m\u001b[38;5;28;43misinstance\u001b[39;49m\u001b[43m(\u001b[49m\u001b[43mcatch\u001b[49m\u001b[43m,\u001b[49m\u001b[43m \u001b[49m\u001b[43mIterable\u001b[49m\u001b[43m)\u001b[49m\u001b[43m \u001b[49m\u001b[38;5;28;43;01melse\u001b[39;49;00m\u001b[43m \u001b[49m\u001b[43m(\u001b[49m\u001b[43mcatch\u001b[49m\u001b[43m,\u001b[49m\u001b[43m)\u001b[49m\u001b[43m,\u001b[49m\n\u001b[1;32m    482\u001b[0m \u001b[43m        \u001b[49m\u001b[43mcallbacks\u001b[49m\u001b[38;5;241;43m=\u001b[39;49m\u001b[43mcallbacks\u001b[49m\u001b[43m,\u001b[49m\n\u001b[1;32m    483\u001b[0m \u001b[43m        \u001b[49m\u001b[43mgc_after_trial\u001b[49m\u001b[38;5;241;43m=\u001b[39;49m\u001b[43mgc_after_trial\u001b[49m\u001b[43m,\u001b[49m\n\u001b[1;32m    484\u001b[0m \u001b[43m        \u001b[49m\u001b[43mshow_progress_bar\u001b[49m\u001b[38;5;241;43m=\u001b[39;49m\u001b[43mshow_progress_bar\u001b[49m\u001b[43m,\u001b[49m\n\u001b[1;32m    485\u001b[0m \u001b[43m    \u001b[49m\u001b[43m)\u001b[49m\n",
      "File \u001b[0;32m~/miniconda3/envs/RecSysPD/lib/python3.8/site-packages/optuna/study/_optimize.py:63\u001b[0m, in \u001b[0;36m_optimize\u001b[0;34m(study, func, n_trials, timeout, n_jobs, catch, callbacks, gc_after_trial, show_progress_bar)\u001b[0m\n\u001b[1;32m     61\u001b[0m \u001b[38;5;28;01mtry\u001b[39;00m:\n\u001b[1;32m     62\u001b[0m     \u001b[38;5;28;01mif\u001b[39;00m n_jobs \u001b[38;5;241m==\u001b[39m \u001b[38;5;241m1\u001b[39m:\n\u001b[0;32m---> 63\u001b[0m         \u001b[43m_optimize_sequential\u001b[49m\u001b[43m(\u001b[49m\n\u001b[1;32m     64\u001b[0m \u001b[43m            \u001b[49m\u001b[43mstudy\u001b[49m\u001b[43m,\u001b[49m\n\u001b[1;32m     65\u001b[0m \u001b[43m            \u001b[49m\u001b[43mfunc\u001b[49m\u001b[43m,\u001b[49m\n\u001b[1;32m     66\u001b[0m \u001b[43m            \u001b[49m\u001b[43mn_trials\u001b[49m\u001b[43m,\u001b[49m\n\u001b[1;32m     67\u001b[0m \u001b[43m            \u001b[49m\u001b[43mtimeout\u001b[49m\u001b[43m,\u001b[49m\n\u001b[1;32m     68\u001b[0m \u001b[43m            \u001b[49m\u001b[43mcatch\u001b[49m\u001b[43m,\u001b[49m\n\u001b[1;32m     69\u001b[0m \u001b[43m            \u001b[49m\u001b[43mcallbacks\u001b[49m\u001b[43m,\u001b[49m\n\u001b[1;32m     70\u001b[0m \u001b[43m            \u001b[49m\u001b[43mgc_after_trial\u001b[49m\u001b[43m,\u001b[49m\n\u001b[1;32m     71\u001b[0m \u001b[43m            \u001b[49m\u001b[43mreseed_sampler_rng\u001b[49m\u001b[38;5;241;43m=\u001b[39;49m\u001b[38;5;28;43;01mFalse\u001b[39;49;00m\u001b[43m,\u001b[49m\n\u001b[1;32m     72\u001b[0m \u001b[43m            \u001b[49m\u001b[43mtime_start\u001b[49m\u001b[38;5;241;43m=\u001b[39;49m\u001b[38;5;28;43;01mNone\u001b[39;49;00m\u001b[43m,\u001b[49m\n\u001b[1;32m     73\u001b[0m \u001b[43m            \u001b[49m\u001b[43mprogress_bar\u001b[49m\u001b[38;5;241;43m=\u001b[39;49m\u001b[43mprogress_bar\u001b[49m\u001b[43m,\u001b[49m\n\u001b[1;32m     74\u001b[0m \u001b[43m        \u001b[49m\u001b[43m)\u001b[49m\n\u001b[1;32m     75\u001b[0m     \u001b[38;5;28;01melse\u001b[39;00m:\n\u001b[1;32m     76\u001b[0m         \u001b[38;5;28;01mif\u001b[39;00m n_jobs \u001b[38;5;241m==\u001b[39m \u001b[38;5;241m-\u001b[39m\u001b[38;5;241m1\u001b[39m:\n",
      "File \u001b[0;32m~/miniconda3/envs/RecSysPD/lib/python3.8/site-packages/optuna/study/_optimize.py:160\u001b[0m, in \u001b[0;36m_optimize_sequential\u001b[0;34m(study, func, n_trials, timeout, catch, callbacks, gc_after_trial, reseed_sampler_rng, time_start, progress_bar)\u001b[0m\n\u001b[1;32m    157\u001b[0m         \u001b[38;5;28;01mbreak\u001b[39;00m\n\u001b[1;32m    159\u001b[0m \u001b[38;5;28;01mtry\u001b[39;00m:\n\u001b[0;32m--> 160\u001b[0m     frozen_trial \u001b[38;5;241m=\u001b[39m \u001b[43m_run_trial\u001b[49m\u001b[43m(\u001b[49m\u001b[43mstudy\u001b[49m\u001b[43m,\u001b[49m\u001b[43m \u001b[49m\u001b[43mfunc\u001b[49m\u001b[43m,\u001b[49m\u001b[43m \u001b[49m\u001b[43mcatch\u001b[49m\u001b[43m)\u001b[49m\n\u001b[1;32m    161\u001b[0m \u001b[38;5;28;01mfinally\u001b[39;00m:\n\u001b[1;32m    162\u001b[0m     \u001b[38;5;66;03m# The following line mitigates memory problems that can be occurred in some\u001b[39;00m\n\u001b[1;32m    163\u001b[0m     \u001b[38;5;66;03m# environments (e.g., services that use computing containers such as GitHub Actions).\u001b[39;00m\n\u001b[1;32m    164\u001b[0m     \u001b[38;5;66;03m# Please refer to the following PR for further details:\u001b[39;00m\n\u001b[1;32m    165\u001b[0m     \u001b[38;5;66;03m# https://github.com/optuna/optuna/pull/325.\u001b[39;00m\n\u001b[1;32m    166\u001b[0m     \u001b[38;5;28;01mif\u001b[39;00m gc_after_trial:\n",
      "File \u001b[0;32m~/miniconda3/envs/RecSysPD/lib/python3.8/site-packages/optuna/study/_optimize.py:248\u001b[0m, in \u001b[0;36m_run_trial\u001b[0;34m(study, func, catch)\u001b[0m\n\u001b[1;32m    241\u001b[0m         \u001b[38;5;28;01massert\u001b[39;00m \u001b[38;5;28;01mFalse\u001b[39;00m, \u001b[38;5;124m\"\u001b[39m\u001b[38;5;124mShould not reach.\u001b[39m\u001b[38;5;124m\"\u001b[39m\n\u001b[1;32m    243\u001b[0m \u001b[38;5;28;01mif\u001b[39;00m (\n\u001b[1;32m    244\u001b[0m     frozen_trial\u001b[38;5;241m.\u001b[39mstate \u001b[38;5;241m==\u001b[39m TrialState\u001b[38;5;241m.\u001b[39mFAIL\n\u001b[1;32m    245\u001b[0m     \u001b[38;5;129;01mand\u001b[39;00m func_err \u001b[38;5;129;01mis\u001b[39;00m \u001b[38;5;129;01mnot\u001b[39;00m \u001b[38;5;28;01mNone\u001b[39;00m\n\u001b[1;32m    246\u001b[0m     \u001b[38;5;129;01mand\u001b[39;00m \u001b[38;5;129;01mnot\u001b[39;00m \u001b[38;5;28misinstance\u001b[39m(func_err, catch)\n\u001b[1;32m    247\u001b[0m ):\n\u001b[0;32m--> 248\u001b[0m     \u001b[38;5;28;01mraise\u001b[39;00m func_err\n\u001b[1;32m    249\u001b[0m \u001b[38;5;28;01mreturn\u001b[39;00m frozen_trial\n",
      "File \u001b[0;32m~/miniconda3/envs/RecSysPD/lib/python3.8/site-packages/optuna/study/_optimize.py:197\u001b[0m, in \u001b[0;36m_run_trial\u001b[0;34m(study, func, catch)\u001b[0m\n\u001b[1;32m    195\u001b[0m \u001b[38;5;28;01mwith\u001b[39;00m get_heartbeat_thread(trial\u001b[38;5;241m.\u001b[39m_trial_id, study\u001b[38;5;241m.\u001b[39m_storage):\n\u001b[1;32m    196\u001b[0m     \u001b[38;5;28;01mtry\u001b[39;00m:\n\u001b[0;32m--> 197\u001b[0m         value_or_values \u001b[38;5;241m=\u001b[39m \u001b[43mfunc\u001b[49m\u001b[43m(\u001b[49m\u001b[43mtrial\u001b[49m\u001b[43m)\u001b[49m\n\u001b[1;32m    198\u001b[0m     \u001b[38;5;28;01mexcept\u001b[39;00m exceptions\u001b[38;5;241m.\u001b[39mTrialPruned \u001b[38;5;28;01mas\u001b[39;00m e:\n\u001b[1;32m    199\u001b[0m         \u001b[38;5;66;03m# TODO(mamu): Handle multi-objective cases.\u001b[39;00m\n\u001b[1;32m    200\u001b[0m         state \u001b[38;5;241m=\u001b[39m TrialState\u001b[38;5;241m.\u001b[39mPRUNED\n",
      "Cell \u001b[0;32mIn[4], line 8\u001b[0m, in \u001b[0;36mobjective_function\u001b[0;34m(trial)\u001b[0m\n\u001b[1;32m      6\u001b[0m alpha \u001b[38;5;241m=\u001b[39m trial\u001b[38;5;241m.\u001b[39msuggest_float(\u001b[38;5;124m\"\u001b[39m\u001b[38;5;124malpha\u001b[39m\u001b[38;5;124m\"\u001b[39m, \u001b[38;5;241m0\u001b[39m, \u001b[38;5;241m15\u001b[39m)\n\u001b[1;32m      7\u001b[0m recommender \u001b[38;5;241m=\u001b[39m GraphConvolution(URM_train_validation)\n\u001b[0;32m----> 8\u001b[0m \u001b[43mrecommender\u001b[49m\u001b[38;5;241;43m.\u001b[39;49m\u001b[43mfit\u001b[49m\u001b[43m(\u001b[49m\u001b[43mnum_factors\u001b[49m\u001b[38;5;241;43m=\u001b[39;49m\u001b[43mfactors\u001b[49m\u001b[43m,\u001b[49m\u001b[43m \u001b[49m\u001b[43malpha\u001b[49m\u001b[38;5;241;43m=\u001b[39;49m\u001b[43malpha\u001b[49m\u001b[43m,\u001b[49m\u001b[43m \u001b[49m\u001b[43mrandom_seed\u001b[49m\u001b[38;5;241;43m=\u001b[39;49m\u001b[38;5;241;43m42\u001b[39;49m\u001b[43m)\u001b[49m\n\u001b[1;32m     10\u001b[0m result_dic, _ \u001b[38;5;241m=\u001b[39m evaluator_test\u001b[38;5;241m.\u001b[39mevaluateRecommender(recommender)\n\u001b[1;32m     11\u001b[0m MAP \u001b[38;5;241m=\u001b[39m result_dic\u001b[38;5;241m.\u001b[39mloc[\u001b[38;5;241m10\u001b[39m][\u001b[38;5;124m\"\u001b[39m\u001b[38;5;124mMAP\u001b[39m\u001b[38;5;124m\"\u001b[39m]\n",
      "File \u001b[0;32m~/Developer/RecSys/Competizione/Recommenders/Neural/Convolution/GraphConvolution.py:58\u001b[0m, in \u001b[0;36mGraphConvolution.fit\u001b[0;34m(self, alpha, num_factors, random_seed)\u001b[0m\n\u001b[1;32m     55\u001b[0m VTDotV \u001b[38;5;241m=\u001b[39m sp\u001b[38;5;241m.\u001b[39mcsr_matrix(VTDotV)\n\u001b[1;32m     57\u001b[0m \u001b[38;5;28mprint\u001b[39m(\u001b[38;5;124m\"\u001b[39m\u001b[38;5;124mComputing third term: alpha * D_I_inv * V^T * V\u001b[39m\u001b[38;5;124m\"\u001b[39m)\n\u001b[0;32m---> 58\u001b[0m partial_res \u001b[38;5;241m=\u001b[39m \u001b[38;5;28;43mself\u001b[39;49m\u001b[38;5;241;43m.\u001b[39;49m\u001b[43malpha\u001b[49m\u001b[43m \u001b[49m\u001b[38;5;241;43m*\u001b[39;49m\u001b[43m \u001b[49m\u001b[38;5;28;43mself\u001b[39;49m\u001b[38;5;241;43m.\u001b[39;49m\u001b[43mD_I_inv\u001b[49m\u001b[38;5;241;43m.\u001b[39;49m\u001b[43mdot\u001b[49m\u001b[43m(\u001b[49m\u001b[43mVTDotV\u001b[49m\u001b[43m)\u001b[49m\n\u001b[1;32m     59\u001b[0m partial_res \u001b[38;5;241m=\u001b[39m sp\u001b[38;5;241m.\u001b[39mcsr_matrix(partial_res)\n\u001b[1;32m     60\u001b[0m \u001b[38;5;28;01mdel\u001b[39;00m VTDotV, \u001b[38;5;28mself\u001b[39m\u001b[38;5;241m.\u001b[39mD_I_inv\n",
      "File \u001b[0;32m~/miniconda3/envs/RecSysPD/lib/python3.8/site-packages/scipy/sparse/_base.py:620\u001b[0m, in \u001b[0;36mspmatrix.__rmul__\u001b[0;34m(self, other)\u001b[0m\n\u001b[1;32m    619\u001b[0m \u001b[38;5;28;01mdef\u001b[39;00m \u001b[38;5;21m__rmul__\u001b[39m(\u001b[38;5;28mself\u001b[39m, other):  \u001b[38;5;66;03m# other * self\u001b[39;00m\n\u001b[0;32m--> 620\u001b[0m     \u001b[38;5;28;01mreturn\u001b[39;00m \u001b[38;5;28;43mself\u001b[39;49m\u001b[38;5;241;43m.\u001b[39;49m\u001b[43m_rmul_dispatch\u001b[49m\u001b[43m(\u001b[49m\u001b[43mother\u001b[49m\u001b[43m)\u001b[49m\n",
      "File \u001b[0;32m~/miniconda3/envs/RecSysPD/lib/python3.8/site-packages/scipy/sparse/_base.py:607\u001b[0m, in \u001b[0;36mspmatrix._rmul_dispatch\u001b[0;34m(self, other)\u001b[0m\n\u001b[1;32m    605\u001b[0m \u001b[38;5;28;01mdef\u001b[39;00m \u001b[38;5;21m_rmul_dispatch\u001b[39m(\u001b[38;5;28mself\u001b[39m, other):\n\u001b[1;32m    606\u001b[0m     \u001b[38;5;28;01mif\u001b[39;00m isscalarlike(other):\n\u001b[0;32m--> 607\u001b[0m         \u001b[38;5;28;01mreturn\u001b[39;00m \u001b[38;5;28;43mself\u001b[39;49m\u001b[38;5;241;43m.\u001b[39;49m\u001b[43m_mul_scalar\u001b[49m\u001b[43m(\u001b[49m\u001b[43mother\u001b[49m\u001b[43m)\u001b[49m\n\u001b[1;32m    608\u001b[0m     \u001b[38;5;28;01melse\u001b[39;00m:\n\u001b[1;32m    609\u001b[0m         \u001b[38;5;66;03m# Don't use asarray unless we have to\u001b[39;00m\n\u001b[1;32m    610\u001b[0m         \u001b[38;5;28;01mtry\u001b[39;00m:\n",
      "File \u001b[0;32m~/miniconda3/envs/RecSysPD/lib/python3.8/site-packages/scipy/sparse/_data.py:124\u001b[0m, in \u001b[0;36m_data_matrix._mul_scalar\u001b[0;34m(self, other)\u001b[0m\n\u001b[1;32m    123\u001b[0m \u001b[38;5;28;01mdef\u001b[39;00m \u001b[38;5;21m_mul_scalar\u001b[39m(\u001b[38;5;28mself\u001b[39m, other):\n\u001b[0;32m--> 124\u001b[0m     \u001b[38;5;28;01mreturn\u001b[39;00m \u001b[38;5;28mself\u001b[39m\u001b[38;5;241m.\u001b[39m_with_data(\u001b[38;5;28;43mself\u001b[39;49m\u001b[38;5;241;43m.\u001b[39;49m\u001b[43mdata\u001b[49m\u001b[43m \u001b[49m\u001b[38;5;241;43m*\u001b[39;49m\u001b[43m \u001b[49m\u001b[43mother\u001b[49m)\n",
      "\u001b[0;31mKeyboardInterrupt\u001b[0m: "
     ]
    }
   ],
   "source": [
    "from Recommenders.Neural.Convolution.GraphConvolution import GraphConvolution\n",
    "import optuna\n",
    "\n",
    "def objective_function(trial):\n",
    "    factors = trial.suggest_int(\"factors\", 1000, 3500)\n",
    "    alpha = trial.suggest_float(\"alpha\", 0, 15)\n",
    "    recommender = GraphConvolution(URM_train_validation)\n",
    "    recommender.fit(num_factors=factors, alpha=alpha, random_seed=42)\n",
    "    \n",
    "    result_dic, _ = evaluator_test.evaluateRecommender(recommender)\n",
    "    MAP = result_dic.loc[10][\"MAP\"]\n",
    "    return MAP\n",
    "\n",
    "class SaveResults(object):\n",
    "    \n",
    "    def __init__(self):\n",
    "        self.results_df = pd.DataFrame(columns = [\"result\"])\n",
    "    \n",
    "    def __call__(self, optuna_study, optuna_trial):\n",
    "        hyperparam_dict = optuna_trial.params.copy()\n",
    "        hyperparam_dict[\"result\"] = optuna_trial.values[0]\n",
    "        \n",
    "        self.results_df = pd.concat([self.results_df, pd.DataFrame([hyperparam_dict])], ignore_index=True)\n",
    "        self.results_df.to_csv(\"logs/GraphConvolution/gf_thirdTrial.csv\", index = False)\n",
    "\n",
    "optuna_study = optuna.create_study(study_name=\"GraphConvolution\", direction=\"maximize\")\n",
    "        \n",
    "save_results = SaveResults()\n",
    "        \n",
    "optuna_study.optimize(objective_function,\n",
    "                      callbacks=[save_results],\n",
    "                      n_trials = 100,\n",
    "                      )"
   ]
  },
  {
   "cell_type": "markdown",
   "metadata": {},
   "source": [
    "# Ok we need more factors and run a longer trial all night"
   ]
  },
  {
   "cell_type": "code",
   "execution_count": null,
   "metadata": {},
   "outputs": [
    {
     "name": "stderr",
     "output_type": "stream",
     "text": [
      "[I 2024-12-30 21:10:15,290] A new study created in memory with name: GraphConvolution\n"
     ]
    },
    {
     "name": "stdout",
     "output_type": "stream",
     "text": [
      "GraphConvolution: Computing SVD decomposition of the normalized adjacency matrix...\n",
      "Computing first term\n",
      "D_I_inv shape: (38121, 38121)\n",
      "V shape: (2760, 38121)\n",
      "D_I shape: (38121, 38121)\n",
      "Computing second term: V^T * V\n",
      "Computing third term: alpha * D_I_inv * V^T * V\n",
      "Computing fourth term: third_term * D_I\n",
      "Computed Similarity matrix\n",
      "EvaluatorHoldout: Processed 35595 (100.0%) in 2.84 min. Users per second: 209\n"
     ]
    },
    {
     "name": "stderr",
     "output_type": "stream",
     "text": [
      "[I 2024-12-30 21:22:29,845] Trial 0 finished with value: 0.046335783739911714 and parameters: {'factors': 2760, 'alpha': 11.901829407351755}. Best is trial 0 with value: 0.046335783739911714.\n"
     ]
    },
    {
     "name": "stdout",
     "output_type": "stream",
     "text": [
      "GraphConvolution: Computing SVD decomposition of the normalized adjacency matrix...\n",
      "Computing first term\n",
      "D_I_inv shape: (38121, 38121)\n",
      "V shape: (2648, 38121)\n",
      "D_I shape: (38121, 38121)\n",
      "Computing second term: V^T * V\n",
      "Computing third term: alpha * D_I_inv * V^T * V\n",
      "Computing fourth term: third_term * D_I\n",
      "Computed Similarity matrix\n",
      "EvaluatorHoldout: Processed 35595 (100.0%) in 2.61 min. Users per second: 228\n"
     ]
    },
    {
     "name": "stderr",
     "output_type": "stream",
     "text": [
      "[I 2024-12-30 21:34:12,688] Trial 1 finished with value: 0.04633034000227268 and parameters: {'factors': 2648, 'alpha': 6.461344645519348}. Best is trial 0 with value: 0.046335783739911714.\n"
     ]
    },
    {
     "name": "stdout",
     "output_type": "stream",
     "text": [
      "GraphConvolution: Computing SVD decomposition of the normalized adjacency matrix...\n",
      "Computing first term\n",
      "D_I_inv shape: (38121, 38121)\n",
      "V shape: (5387, 38121)\n",
      "D_I shape: (38121, 38121)\n",
      "Computing second term: V^T * V\n",
      "Computing third term: alpha * D_I_inv * V^T * V\n",
      "Computing fourth term: third_term * D_I\n",
      "Computed Similarity matrix\n",
      "EvaluatorHoldout: Processed 35595 (100.0%) in 2.88 min. Users per second: 206\n"
     ]
    },
    {
     "name": "stderr",
     "output_type": "stream",
     "text": [
      "[I 2024-12-30 21:47:53,016] Trial 2 finished with value: 0.048184587633806286 and parameters: {'factors': 5387, 'alpha': 1.1654935837366893}. Best is trial 2 with value: 0.048184587633806286.\n"
     ]
    },
    {
     "name": "stdout",
     "output_type": "stream",
     "text": [
      "GraphConvolution: Computing SVD decomposition of the normalized adjacency matrix...\n",
      "Computing first term\n",
      "D_I_inv shape: (38121, 38121)\n",
      "V shape: (6198, 38121)\n",
      "D_I shape: (38121, 38121)\n",
      "Computing second term: V^T * V\n",
      "Computing third term: alpha * D_I_inv * V^T * V\n",
      "Computing fourth term: third_term * D_I\n",
      "Computed Similarity matrix\n",
      "EvaluatorHoldout: Processed 35595 (100.0%) in 2.85 min. Users per second: 208\n"
     ]
    },
    {
     "name": "stderr",
     "output_type": "stream",
     "text": [
      "[I 2024-12-30 22:02:48,671] Trial 3 finished with value: 0.04764093962724222 and parameters: {'factors': 6198, 'alpha': 4.114320645313396}. Best is trial 2 with value: 0.048184587633806286.\n"
     ]
    },
    {
     "name": "stdout",
     "output_type": "stream",
     "text": [
      "GraphConvolution: Computing SVD decomposition of the normalized adjacency matrix...\n",
      "Computing first term\n",
      "D_I_inv shape: (38121, 38121)\n",
      "V shape: (4681, 38121)\n",
      "D_I shape: (38121, 38121)\n",
      "Computing second term: V^T * V\n",
      "Computing third term: alpha * D_I_inv * V^T * V\n",
      "Computing fourth term: third_term * D_I\n",
      "Computed Similarity matrix\n",
      "EvaluatorHoldout: Processed 35595 (100.0%) in 2.50 min. Users per second: 238\n"
     ]
    },
    {
     "name": "stderr",
     "output_type": "stream",
     "text": [
      "[I 2024-12-30 22:15:33,136] Trial 4 finished with value: 0.04776159818237178 and parameters: {'factors': 4681, 'alpha': 11.67845917608939}. Best is trial 2 with value: 0.048184587633806286.\n"
     ]
    },
    {
     "name": "stdout",
     "output_type": "stream",
     "text": [
      "GraphConvolution: Computing SVD decomposition of the normalized adjacency matrix...\n",
      "Computing first term\n",
      "D_I_inv shape: (38121, 38121)\n",
      "V shape: (6533, 38121)\n",
      "D_I shape: (38121, 38121)\n",
      "Computing second term: V^T * V\n",
      "Computing third term: alpha * D_I_inv * V^T * V\n",
      "Computing fourth term: third_term * D_I\n",
      "Computed Similarity matrix\n",
      "EvaluatorHoldout: Processed 35595 (100.0%) in 2.56 min. Users per second: 231\n"
     ]
    },
    {
     "name": "stderr",
     "output_type": "stream",
     "text": [
      "[I 2024-12-30 22:29:43,372] Trial 5 finished with value: 0.047798517046935086 and parameters: {'factors': 6533, 'alpha': 1.978297498436759}. Best is trial 2 with value: 0.048184587633806286.\n"
     ]
    },
    {
     "name": "stdout",
     "output_type": "stream",
     "text": [
      "GraphConvolution: Computing SVD decomposition of the normalized adjacency matrix...\n",
      "Computing first term\n",
      "D_I_inv shape: (38121, 38121)\n",
      "V shape: (2829, 38121)\n",
      "D_I shape: (38121, 38121)\n",
      "Computing second term: V^T * V\n",
      "Computing third term: alpha * D_I_inv * V^T * V\n",
      "Computing fourth term: third_term * D_I\n",
      "Computed Similarity matrix\n",
      "EvaluatorHoldout: Processed 35595 (100.0%) in 2.21 min. Users per second: 268\n"
     ]
    },
    {
     "name": "stderr",
     "output_type": "stream",
     "text": [
      "[I 2024-12-30 22:40:58,520] Trial 6 finished with value: 0.046571450868120194 and parameters: {'factors': 2829, 'alpha': 4.719744598202624}. Best is trial 2 with value: 0.048184587633806286.\n"
     ]
    },
    {
     "name": "stdout",
     "output_type": "stream",
     "text": [
      "GraphConvolution: Computing SVD decomposition of the normalized adjacency matrix...\n",
      "Computing first term\n",
      "D_I_inv shape: (38121, 38121)\n",
      "V shape: (4305, 38121)\n",
      "D_I shape: (38121, 38121)\n",
      "Computing second term: V^T * V\n",
      "Computing third term: alpha * D_I_inv * V^T * V\n",
      "Computing fourth term: third_term * D_I\n",
      "Computed Similarity matrix\n",
      "EvaluatorHoldout: Processed 35595 (100.0%) in 2.53 min. Users per second: 234\n"
     ]
    },
    {
     "name": "stderr",
     "output_type": "stream",
     "text": [
      "[I 2024-12-30 22:53:27,216] Trial 7 finished with value: 0.047807484776931045 and parameters: {'factors': 4305, 'alpha': 11.256801910738595}. Best is trial 2 with value: 0.048184587633806286.\n"
     ]
    },
    {
     "name": "stdout",
     "output_type": "stream",
     "text": [
      "GraphConvolution: Computing SVD decomposition of the normalized adjacency matrix...\n",
      "Computing first term\n",
      "D_I_inv shape: (38121, 38121)\n",
      "V shape: (4468, 38121)\n",
      "D_I shape: (38121, 38121)\n",
      "Computing second term: V^T * V\n",
      "Computing third term: alpha * D_I_inv * V^T * V\n",
      "Computing fourth term: third_term * D_I\n",
      "Computed Similarity matrix\n",
      "EvaluatorHoldout: Processed 35595 (100.0%) in 2.62 min. Users per second: 226\n"
     ]
    },
    {
     "name": "stderr",
     "output_type": "stream",
     "text": [
      "[I 2024-12-30 23:06:09,533] Trial 8 finished with value: 0.0478445675221891 and parameters: {'factors': 4468, 'alpha': 6.142636880635036}. Best is trial 2 with value: 0.048184587633806286.\n"
     ]
    },
    {
     "name": "stdout",
     "output_type": "stream",
     "text": [
      "GraphConvolution: Computing SVD decomposition of the normalized adjacency matrix...\n",
      "Computing first term\n",
      "D_I_inv shape: (38121, 38121)\n",
      "V shape: (4441, 38121)\n",
      "D_I shape: (38121, 38121)\n",
      "Computing second term: V^T * V\n",
      "Computing third term: alpha * D_I_inv * V^T * V\n",
      "Computing fourth term: third_term * D_I\n",
      "Computed Similarity matrix\n",
      "EvaluatorHoldout: Processed 35595 (100.0%) in 2.66 min. Users per second: 223\n"
     ]
    },
    {
     "name": "stderr",
     "output_type": "stream",
     "text": [
      "[I 2024-12-30 23:18:44,680] Trial 9 finished with value: 0.0481383520959988 and parameters: {'factors': 4441, 'alpha': 1.320819566328479}. Best is trial 2 with value: 0.048184587633806286.\n"
     ]
    },
    {
     "name": "stdout",
     "output_type": "stream",
     "text": [
      "GraphConvolution: Computing SVD decomposition of the normalized adjacency matrix...\n",
      "Computing first term\n",
      "D_I_inv shape: (38121, 38121)\n",
      "V shape: (5713, 38121)\n",
      "D_I shape: (38121, 38121)\n",
      "Computing second term: V^T * V\n",
      "Computing third term: alpha * D_I_inv * V^T * V\n",
      "Computing fourth term: third_term * D_I\n",
      "Computed Similarity matrix\n",
      "EvaluatorHoldout: Processed 35595 (100.0%) in 2.41 min. Users per second: 246\n"
     ]
    },
    {
     "name": "stderr",
     "output_type": "stream",
     "text": [
      "[I 2024-12-30 23:32:06,033] Trial 10 finished with value: 0.048832784834679274 and parameters: {'factors': 5713, 'alpha': 0.1824647541257356}. Best is trial 10 with value: 0.048832784834679274.\n"
     ]
    },
    {
     "name": "stdout",
     "output_type": "stream",
     "text": [
      "GraphConvolution: Computing SVD decomposition of the normalized adjacency matrix...\n",
      "Computing first term\n",
      "D_I_inv shape: (38121, 38121)\n",
      "V shape: (5705, 38121)\n",
      "D_I shape: (38121, 38121)\n",
      "Computing second term: V^T * V\n",
      "Computing third term: alpha * D_I_inv * V^T * V\n",
      "Computing fourth term: third_term * D_I\n",
      "Computed Similarity matrix\n",
      "EvaluatorHoldout: Processed 35595 (100.0%) in 2.71 min. Users per second: 219\n"
     ]
    },
    {
     "name": "stderr",
     "output_type": "stream",
     "text": [
      "[I 2024-12-30 23:45:58,887] Trial 11 finished with value: 0.048809268512384985 and parameters: {'factors': 5705, 'alpha': 0.33531406722615265}. Best is trial 10 with value: 0.048832784834679274.\n"
     ]
    },
    {
     "name": "stdout",
     "output_type": "stream",
     "text": [
      "GraphConvolution: Computing SVD decomposition of the normalized adjacency matrix...\n",
      "Computing first term\n",
      "D_I_inv shape: (38121, 38121)\n",
      "V shape: (5645, 38121)\n",
      "D_I shape: (38121, 38121)\n",
      "Computing second term: V^T * V\n",
      "Computing third term: alpha * D_I_inv * V^T * V\n",
      "Computing fourth term: third_term * D_I\n",
      "Computed Similarity matrix\n",
      "EvaluatorHoldout: Processed 35595 (100.0%) in 2.56 min. Users per second: 232\n"
     ]
    },
    {
     "name": "stderr",
     "output_type": "stream",
     "text": [
      "[I 2024-12-30 23:59:26,825] Trial 12 finished with value: 0.04890634385514104 and parameters: {'factors': 5645, 'alpha': 0.2233286445252573}. Best is trial 12 with value: 0.04890634385514104.\n"
     ]
    },
    {
     "name": "stdout",
     "output_type": "stream",
     "text": [
      "GraphConvolution: Computing SVD decomposition of the normalized adjacency matrix...\n",
      "Computing first term\n",
      "D_I_inv shape: (38121, 38121)\n",
      "V shape: (5467, 38121)\n",
      "D_I shape: (38121, 38121)\n",
      "Computing second term: V^T * V\n",
      "Computing third term: alpha * D_I_inv * V^T * V\n",
      "Computing fourth term: third_term * D_I\n",
      "Computed Similarity matrix\n",
      "EvaluatorHoldout: Processed 35595 (100.0%) in 2.61 min. Users per second: 228\n"
     ]
    },
    {
     "name": "stderr",
     "output_type": "stream",
     "text": [
      "[I 2024-12-31 00:12:49,043] Trial 13 finished with value: 0.047731356062580624 and parameters: {'factors': 5467, 'alpha': 14.650086861160336}. Best is trial 12 with value: 0.04890634385514104.\n"
     ]
    },
    {
     "name": "stdout",
     "output_type": "stream",
     "text": [
      "GraphConvolution: Computing SVD decomposition of the normalized adjacency matrix...\n",
      "Computing first term\n",
      "D_I_inv shape: (38121, 38121)\n",
      "V shape: (6921, 38121)\n",
      "D_I shape: (38121, 38121)\n",
      "Computing second term: V^T * V\n",
      "Computing third term: alpha * D_I_inv * V^T * V\n",
      "Computing fourth term: third_term * D_I\n",
      "Computed Similarity matrix\n",
      "EvaluatorHoldout: Processed 35595 (100.0%) in 2.58 min. Users per second: 230\n"
     ]
    },
    {
     "name": "stderr",
     "output_type": "stream",
     "text": [
      "[I 2024-12-31 00:27:45,316] Trial 14 finished with value: 0.047294103416520565 and parameters: {'factors': 6921, 'alpha': 3.8801803112094064}. Best is trial 12 with value: 0.04890634385514104.\n"
     ]
    },
    {
     "name": "stdout",
     "output_type": "stream",
     "text": [
      "GraphConvolution: Computing SVD decomposition of the normalized adjacency matrix...\n",
      "Computing first term\n",
      "D_I_inv shape: (38121, 38121)\n",
      "V shape: (5992, 38121)\n",
      "D_I shape: (38121, 38121)\n",
      "Computing second term: V^T * V\n",
      "Computing third term: alpha * D_I_inv * V^T * V\n",
      "Computing fourth term: third_term * D_I\n",
      "Computed Similarity matrix\n",
      "EvaluatorHoldout: Processed 35595 (100.0%) in 2.62 min. Users per second: 226\n"
     ]
    },
    {
     "name": "stderr",
     "output_type": "stream",
     "text": [
      "[I 2024-12-31 00:41:45,626] Trial 15 finished with value: 0.04761470199354536 and parameters: {'factors': 5992, 'alpha': 8.186821895838984}. Best is trial 12 with value: 0.04890634385514104.\n"
     ]
    },
    {
     "name": "stdout",
     "output_type": "stream",
     "text": [
      "GraphConvolution: Computing SVD decomposition of the normalized adjacency matrix...\n",
      "Computing first term\n",
      "D_I_inv shape: (38121, 38121)\n",
      "V shape: (3667, 38121)\n",
      "D_I shape: (38121, 38121)\n",
      "Computing second term: V^T * V\n",
      "Computing third term: alpha * D_I_inv * V^T * V\n",
      "Computing fourth term: third_term * D_I\n",
      "Computed Similarity matrix\n",
      "EvaluatorHoldout: Processed 35595 (100.0%) in 2.71 min. Users per second: 219\n"
     ]
    },
    {
     "name": "stderr",
     "output_type": "stream",
     "text": [
      "[I 2024-12-31 00:53:37,921] Trial 16 finished with value: 0.047534936688537935 and parameters: {'factors': 3667, 'alpha': 2.7630011150163485}. Best is trial 12 with value: 0.04890634385514104.\n"
     ]
    },
    {
     "name": "stdout",
     "output_type": "stream",
     "text": [
      "GraphConvolution: Computing SVD decomposition of the normalized adjacency matrix...\n",
      "Computing first term\n",
      "D_I_inv shape: (38121, 38121)\n",
      "V shape: (5102, 38121)\n",
      "D_I shape: (38121, 38121)\n",
      "Computing second term: V^T * V\n",
      "Computing third term: alpha * D_I_inv * V^T * V\n",
      "Computing fourth term: third_term * D_I\n",
      "Computed Similarity matrix\n",
      "EvaluatorHoldout: Processed 35595 (100.0%) in 2.62 min. Users per second: 226\n"
     ]
    },
    {
     "name": "stderr",
     "output_type": "stream",
     "text": [
      "[I 2024-12-31 01:06:49,647] Trial 17 finished with value: 0.04780441340744593 and parameters: {'factors': 5102, 'alpha': 8.287712875612108}. Best is trial 12 with value: 0.04890634385514104.\n"
     ]
    },
    {
     "name": "stdout",
     "output_type": "stream",
     "text": [
      "GraphConvolution: Computing SVD decomposition of the normalized adjacency matrix...\n",
      "Computing first term\n",
      "D_I_inv shape: (38121, 38121)\n",
      "V shape: (3826, 38121)\n",
      "D_I shape: (38121, 38121)\n",
      "Computing second term: V^T * V\n",
      "Computing third term: alpha * D_I_inv * V^T * V\n",
      "Computing fourth term: third_term * D_I\n",
      "Computed Similarity matrix\n",
      "EvaluatorHoldout: Processed 35595 (100.0%) in 2.45 min. Users per second: 242\n"
     ]
    },
    {
     "name": "stderr",
     "output_type": "stream",
     "text": [
      "[I 2024-12-31 01:18:39,984] Trial 18 finished with value: 0.04825817006579574 and parameters: {'factors': 3826, 'alpha': 0.2869091167734327}. Best is trial 12 with value: 0.04890634385514104.\n"
     ]
    },
    {
     "name": "stdout",
     "output_type": "stream",
     "text": [
      "GraphConvolution: Computing SVD decomposition of the normalized adjacency matrix...\n",
      "Computing first term\n",
      "D_I_inv shape: (38121, 38121)\n",
      "V shape: (6391, 38121)\n",
      "D_I shape: (38121, 38121)\n",
      "Computing second term: V^T * V\n",
      "Computing third term: alpha * D_I_inv * V^T * V\n",
      "Computing fourth term: third_term * D_I\n",
      "Computed Similarity matrix\n",
      "EvaluatorHoldout: Processed 35595 (100.0%) in 2.55 min. Users per second: 233\n"
     ]
    },
    {
     "name": "stderr",
     "output_type": "stream",
     "text": [
      "[I 2024-12-31 01:32:50,318] Trial 19 finished with value: 0.0476621426676191 and parameters: {'factors': 6391, 'alpha': 2.938561262870884}. Best is trial 12 with value: 0.04890634385514104.\n"
     ]
    },
    {
     "name": "stdout",
     "output_type": "stream",
     "text": [
      "GraphConvolution: Computing SVD decomposition of the normalized adjacency matrix...\n",
      "Computing first term\n",
      "D_I_inv shape: (38121, 38121)\n",
      "V shape: (4968, 38121)\n",
      "D_I shape: (38121, 38121)\n",
      "Computing second term: V^T * V\n",
      "Computing third term: alpha * D_I_inv * V^T * V\n",
      "Computing fourth term: third_term * D_I\n",
      "Computed Similarity matrix\n",
      "EvaluatorHoldout: Processed 35595 (100.0%) in 2.55 min. Users per second: 233\n"
     ]
    },
    {
     "name": "stderr",
     "output_type": "stream",
     "text": [
      "[I 2024-12-31 01:45:45,707] Trial 20 finished with value: 0.04784647611912501 and parameters: {'factors': 4968, 'alpha': 9.581492357338604}. Best is trial 12 with value: 0.04890634385514104.\n"
     ]
    },
    {
     "name": "stdout",
     "output_type": "stream",
     "text": [
      "GraphConvolution: Computing SVD decomposition of the normalized adjacency matrix...\n",
      "Computing first term\n",
      "D_I_inv shape: (38121, 38121)\n",
      "V shape: (5892, 38121)\n",
      "D_I shape: (38121, 38121)\n",
      "Computing second term: V^T * V\n",
      "Computing third term: alpha * D_I_inv * V^T * V\n",
      "Computing fourth term: third_term * D_I\n",
      "Computed Similarity matrix\n",
      "EvaluatorHoldout: Processed 35595 (100.0%) in 2.58 min. Users per second: 230\n"
     ]
    },
    {
     "name": "stderr",
     "output_type": "stream",
     "text": [
      "[I 2024-12-31 01:59:21,547] Trial 21 finished with value: 0.04888697583261246 and parameters: {'factors': 5892, 'alpha': 0.2523354389138704}. Best is trial 12 with value: 0.04890634385514104.\n"
     ]
    },
    {
     "name": "stdout",
     "output_type": "stream",
     "text": [
      "GraphConvolution: Computing SVD decomposition of the normalized adjacency matrix...\n",
      "Computing first term\n",
      "D_I_inv shape: (38121, 38121)\n",
      "V shape: (5645, 38121)\n",
      "D_I shape: (38121, 38121)\n",
      "Computing second term: V^T * V\n",
      "Computing third term: alpha * D_I_inv * V^T * V\n",
      "Computing fourth term: third_term * D_I\n",
      "Computed Similarity matrix\n",
      "EvaluatorHoldout: Processed 35595 (100.0%) in 2.55 min. Users per second: 233\n"
     ]
    },
    {
     "name": "stderr",
     "output_type": "stream",
     "text": [
      "[I 2024-12-31 02:12:43,121] Trial 22 finished with value: 0.04858843648898241 and parameters: {'factors': 5645, 'alpha': 0.12654194678627112}. Best is trial 12 with value: 0.04890634385514104.\n"
     ]
    },
    {
     "name": "stdout",
     "output_type": "stream",
     "text": [
      "GraphConvolution: Computing SVD decomposition of the normalized adjacency matrix...\n",
      "Computing first term\n",
      "D_I_inv shape: (38121, 38121)\n",
      "V shape: (5942, 38121)\n",
      "D_I shape: (38121, 38121)\n",
      "Computing second term: V^T * V\n",
      "Computing third term: alpha * D_I_inv * V^T * V\n",
      "Computing fourth term: third_term * D_I\n",
      "Computed Similarity matrix\n",
      "EvaluatorHoldout: Processed 35595 (100.0%) in 2.66 min. Users per second: 223\n"
     ]
    },
    {
     "name": "stderr",
     "output_type": "stream",
     "text": [
      "[I 2024-12-31 02:26:19,974] Trial 23 finished with value: 0.04790086555762729 and parameters: {'factors': 5942, 'alpha': 2.2366536704173776}. Best is trial 12 with value: 0.04890634385514104.\n"
     ]
    },
    {
     "name": "stdout",
     "output_type": "stream",
     "text": [
      "GraphConvolution: Computing SVD decomposition of the normalized adjacency matrix...\n",
      "Computing first term\n",
      "D_I_inv shape: (38121, 38121)\n",
      "V shape: (6907, 38121)\n",
      "D_I shape: (38121, 38121)\n",
      "Computing second term: V^T * V\n",
      "Computing third term: alpha * D_I_inv * V^T * V\n",
      "Computing fourth term: third_term * D_I\n",
      "Computed Similarity matrix\n",
      "EvaluatorHoldout: Processed 35595 (100.0%) in 2.57 min. Users per second: 230\n"
     ]
    },
    {
     "name": "stderr",
     "output_type": "stream",
     "text": [
      "[I 2024-12-31 02:40:50,848] Trial 24 finished with value: 0.04718400791978357 and parameters: {'factors': 6907, 'alpha': 5.326753021479133}. Best is trial 12 with value: 0.04890634385514104.\n"
     ]
    },
    {
     "name": "stdout",
     "output_type": "stream",
     "text": [
      "GraphConvolution: Computing SVD decomposition of the normalized adjacency matrix...\n",
      "Computing first term\n",
      "D_I_inv shape: (38121, 38121)\n",
      "V shape: (5203, 38121)\n",
      "D_I shape: (38121, 38121)\n",
      "Computing second term: V^T * V\n",
      "Computing third term: alpha * D_I_inv * V^T * V\n",
      "Computing fourth term: third_term * D_I\n",
      "Computed Similarity matrix\n",
      "EvaluatorHoldout: Processed 35595 (100.0%) in 2.66 min. Users per second: 223\n"
     ]
    },
    {
     "name": "stderr",
     "output_type": "stream",
     "text": [
      "[I 2024-12-31 02:54:10,214] Trial 25 finished with value: 0.048074192246545966 and parameters: {'factors': 5203, 'alpha': 3.21094839209093}. Best is trial 12 with value: 0.04890634385514104.\n"
     ]
    },
    {
     "name": "stdout",
     "output_type": "stream",
     "text": [
      "GraphConvolution: Computing SVD decomposition of the normalized adjacency matrix...\n",
      "Computing first term\n",
      "D_I_inv shape: (38121, 38121)\n",
      "V shape: (5885, 38121)\n",
      "D_I shape: (38121, 38121)\n",
      "Computing second term: V^T * V\n",
      "Computing third term: alpha * D_I_inv * V^T * V\n",
      "Computing fourth term: third_term * D_I\n",
      "Computed Similarity matrix\n",
      "EvaluatorHoldout: Processed 35595 (100.0%) in 2.60 min. Users per second: 228\n"
     ]
    },
    {
     "name": "stderr",
     "output_type": "stream",
     "text": [
      "[I 2024-12-31 03:07:38,410] Trial 26 finished with value: 0.048102199122846134 and parameters: {'factors': 5885, 'alpha': 1.3317747007923801}. Best is trial 12 with value: 0.04890634385514104.\n"
     ]
    },
    {
     "name": "stdout",
     "output_type": "stream",
     "text": [
      "GraphConvolution: Computing SVD decomposition of the normalized adjacency matrix...\n",
      "Computing first term\n",
      "D_I_inv shape: (38121, 38121)\n",
      "V shape: (6519, 38121)\n",
      "D_I shape: (38121, 38121)\n",
      "Computing second term: V^T * V\n",
      "Computing third term: alpha * D_I_inv * V^T * V\n",
      "Computing fourth term: third_term * D_I\n",
      "Computed Similarity matrix\n",
      "EvaluatorHoldout: Processed 35595 (100.0%) in 2.75 min. Users per second: 216\n"
     ]
    },
    {
     "name": "stderr",
     "output_type": "stream",
     "text": [
      "[I 2024-12-31 03:22:44,085] Trial 27 finished with value: 0.04884622305165736 and parameters: {'factors': 6519, 'alpha': 0.14035363845612828}. Best is trial 12 with value: 0.04890634385514104.\n"
     ]
    },
    {
     "name": "stdout",
     "output_type": "stream",
     "text": [
      "GraphConvolution: Computing SVD decomposition of the normalized adjacency matrix...\n",
      "Computing first term\n",
      "D_I_inv shape: (38121, 38121)\n",
      "V shape: (6643, 38121)\n",
      "D_I shape: (38121, 38121)\n",
      "Computing second term: V^T * V\n",
      "Computing third term: alpha * D_I_inv * V^T * V\n",
      "Computing fourth term: third_term * D_I\n",
      "Computed Similarity matrix\n",
      "EvaluatorHoldout: Processed 35595 (100.0%) in 2.55 min. Users per second: 233\n"
     ]
    },
    {
     "name": "stderr",
     "output_type": "stream",
     "text": [
      "[I 2024-12-31 03:37:20,829] Trial 28 finished with value: 0.047789681982263514 and parameters: {'factors': 6643, 'alpha': 1.5851362089519698}. Best is trial 12 with value: 0.04890634385514104.\n"
     ]
    },
    {
     "name": "stdout",
     "output_type": "stream",
     "text": [
      "GraphConvolution: Computing SVD decomposition of the normalized adjacency matrix...\n",
      "Computing first term\n",
      "D_I_inv shape: (38121, 38121)\n",
      "V shape: (6252, 38121)\n",
      "D_I shape: (38121, 38121)\n",
      "Computing second term: V^T * V\n",
      "Computing third term: alpha * D_I_inv * V^T * V\n",
      "Computing fourth term: third_term * D_I\n",
      "Computed Similarity matrix\n",
      "EvaluatorHoldout: Processed 35595 (100.0%) in 2.73 min. Users per second: 217\n"
     ]
    },
    {
     "name": "stderr",
     "output_type": "stream",
     "text": [
      "[I 2024-12-31 03:51:36,870] Trial 29 finished with value: 0.04737079066303508 and parameters: {'factors': 6252, 'alpha': 13.951770343799778}. Best is trial 12 with value: 0.04890634385514104.\n"
     ]
    },
    {
     "name": "stdout",
     "output_type": "stream",
     "text": [
      "GraphConvolution: Computing SVD decomposition of the normalized adjacency matrix...\n",
      "Computing first term\n",
      "D_I_inv shape: (38121, 38121)\n",
      "V shape: (6490, 38121)\n",
      "D_I shape: (38121, 38121)\n",
      "Computing second term: V^T * V\n",
      "Computing third term: alpha * D_I_inv * V^T * V\n",
      "Computing fourth term: third_term * D_I\n",
      "Computed Similarity matrix\n",
      "EvaluatorHoldout: Processed 35595 (100.0%) in 2.95 min. Users per second: 201\n"
     ]
    },
    {
     "name": "stderr",
     "output_type": "stream",
     "text": [
      "[I 2024-12-31 04:06:44,045] Trial 30 finished with value: 0.04764162636539187 and parameters: {'factors': 6490, 'alpha': 3.5092197812024986}. Best is trial 12 with value: 0.04890634385514104.\n"
     ]
    },
    {
     "name": "stdout",
     "output_type": "stream",
     "text": [
      "GraphConvolution: Computing SVD decomposition of the normalized adjacency matrix...\n",
      "Computing first term\n",
      "D_I_inv shape: (38121, 38121)\n",
      "V shape: (6103, 38121)\n",
      "D_I shape: (38121, 38121)\n",
      "Computing second term: V^T * V\n",
      "Computing third term: alpha * D_I_inv * V^T * V\n",
      "Computing fourth term: third_term * D_I\n",
      "Computed Similarity matrix\n",
      "EvaluatorHoldout: Processed 35595 (100.0%) in 2.74 min. Users per second: 216\n"
     ]
    },
    {
     "name": "stderr",
     "output_type": "stream",
     "text": [
      "[I 2024-12-31 04:20:35,398] Trial 31 finished with value: 0.04889757902505286 and parameters: {'factors': 6103, 'alpha': 0.20374150595551627}. Best is trial 12 with value: 0.04890634385514104.\n"
     ]
    },
    {
     "name": "stdout",
     "output_type": "stream",
     "text": [
      "GraphConvolution: Computing SVD decomposition of the normalized adjacency matrix...\n",
      "Computing first term\n",
      "D_I_inv shape: (38121, 38121)\n",
      "V shape: (6141, 38121)\n",
      "D_I shape: (38121, 38121)\n",
      "Computing second term: V^T * V\n",
      "Computing third term: alpha * D_I_inv * V^T * V\n",
      "Computing fourth term: third_term * D_I\n",
      "Computed Similarity matrix\n",
      "EvaluatorHoldout: Processed 35595 (100.0%) in 2.61 min. Users per second: 227\n"
     ]
    },
    {
     "name": "stderr",
     "output_type": "stream",
     "text": [
      "[I 2024-12-31 04:34:19,685] Trial 32 finished with value: 0.04836538705944325 and parameters: {'factors': 6141, 'alpha': 0.8573910796269615}. Best is trial 12 with value: 0.04890634385514104.\n"
     ]
    },
    {
     "name": "stdout",
     "output_type": "stream",
     "text": [
      "GraphConvolution: Computing SVD decomposition of the normalized adjacency matrix...\n",
      "Computing first term\n",
      "D_I_inv shape: (38121, 38121)\n",
      "V shape: (6682, 38121)\n",
      "D_I shape: (38121, 38121)\n",
      "Computing second term: V^T * V\n",
      "Computing third term: alpha * D_I_inv * V^T * V\n",
      "Computing fourth term: third_term * D_I\n",
      "Computed Similarity matrix\n",
      "EvaluatorHoldout: Processed 35595 (100.0%) in 2.64 min. Users per second: 225\n"
     ]
    },
    {
     "name": "stderr",
     "output_type": "stream",
     "text": [
      "[I 2024-12-31 04:48:37,334] Trial 33 finished with value: 0.04752820531686763 and parameters: {'factors': 6682, 'alpha': 2.232066187354219}. Best is trial 12 with value: 0.04890634385514104.\n"
     ]
    },
    {
     "name": "stdout",
     "output_type": "stream",
     "text": [
      "GraphConvolution: Computing SVD decomposition of the normalized adjacency matrix...\n",
      "Computing first term\n",
      "D_I_inv shape: (38121, 38121)\n",
      "V shape: (5503, 38121)\n",
      "D_I shape: (38121, 38121)\n",
      "Computing second term: V^T * V\n",
      "Computing third term: alpha * D_I_inv * V^T * V\n",
      "Computing fourth term: third_term * D_I\n",
      "Computed Similarity matrix\n",
      "EvaluatorHoldout: Processed 35595 (100.0%) in 2.69 min. Users per second: 220\n"
     ]
    },
    {
     "name": "stderr",
     "output_type": "stream",
     "text": [
      "[I 2024-12-31 05:01:56,973] Trial 34 finished with value: 0.0484348468328646 and parameters: {'factors': 5503, 'alpha': 0.8405678019017273}. Best is trial 12 with value: 0.04890634385514104.\n"
     ]
    },
    {
     "name": "stdout",
     "output_type": "stream",
     "text": [
      "GraphConvolution: Computing SVD decomposition of the normalized adjacency matrix...\n",
      "Computing first term\n",
      "D_I_inv shape: (38121, 38121)\n",
      "V shape: (6111, 38121)\n",
      "D_I shape: (38121, 38121)\n",
      "Computing second term: V^T * V\n",
      "Computing third term: alpha * D_I_inv * V^T * V\n",
      "Computing fourth term: third_term * D_I\n",
      "Computed Similarity matrix\n",
      "EvaluatorHoldout: Processed 35595 (100.0%) in 2.58 min. Users per second: 230\n"
     ]
    },
    {
     "name": "stderr",
     "output_type": "stream",
     "text": [
      "[I 2024-12-31 05:15:51,967] Trial 35 finished with value: 0.04792683897550995 and parameters: {'factors': 6111, 'alpha': 2.191764662956837}. Best is trial 12 with value: 0.04890634385514104.\n"
     ]
    },
    {
     "name": "stdout",
     "output_type": "stream",
     "text": [
      "GraphConvolution: Computing SVD decomposition of the normalized adjacency matrix...\n",
      "Computing first term\n",
      "D_I_inv shape: (38121, 38121)\n",
      "V shape: (5251, 38121)\n",
      "D_I shape: (38121, 38121)\n",
      "Computing second term: V^T * V\n",
      "Computing third term: alpha * D_I_inv * V^T * V\n",
      "Computing fourth term: third_term * D_I\n",
      "Computed Similarity matrix\n",
      "EvaluatorHoldout: Processed 35595 (100.0%) in 2.50 min. Users per second: 237\n"
     ]
    },
    {
     "name": "stderr",
     "output_type": "stream",
     "text": [
      "[I 2024-12-31 05:28:43,799] Trial 36 finished with value: 0.046831180587605166 and parameters: {'factors': 5251, 'alpha': 0.0348500332724946}. Best is trial 12 with value: 0.04890634385514104.\n"
     ]
    },
    {
     "name": "stdout",
     "output_type": "stream",
     "text": [
      "GraphConvolution: Computing SVD decomposition of the normalized adjacency matrix...\n",
      "Computing first term\n",
      "D_I_inv shape: (38121, 38121)\n",
      "V shape: (6358, 38121)\n",
      "D_I shape: (38121, 38121)\n",
      "Computing second term: V^T * V\n",
      "Computing third term: alpha * D_I_inv * V^T * V\n",
      "Computing fourth term: third_term * D_I\n",
      "Computed Similarity matrix\n",
      "EvaluatorHoldout: Processed 35595 (100.0%) in 2.63 min. Users per second: 225\n"
     ]
    },
    {
     "name": "stderr",
     "output_type": "stream",
     "text": [
      "[I 2024-12-31 05:42:49,795] Trial 37 finished with value: 0.047622075509979205 and parameters: {'factors': 6358, 'alpha': 4.526309301356008}. Best is trial 12 with value: 0.04890634385514104.\n"
     ]
    },
    {
     "name": "stdout",
     "output_type": "stream",
     "text": [
      "GraphConvolution: Computing SVD decomposition of the normalized adjacency matrix...\n",
      "Computing first term\n",
      "D_I_inv shape: (38121, 38121)\n",
      "V shape: (6722, 38121)\n",
      "D_I shape: (38121, 38121)\n",
      "Computing second term: V^T * V\n",
      "Computing third term: alpha * D_I_inv * V^T * V\n",
      "Computing fourth term: third_term * D_I\n",
      "Computed Similarity matrix\n",
      "EvaluatorHoldout: Processed 35595 (100.0%) in 2.68 min. Users per second: 222\n"
     ]
    },
    {
     "name": "stderr",
     "output_type": "stream",
     "text": [
      "[I 2024-12-31 05:57:11,949] Trial 38 finished with value: 0.047835383514269345 and parameters: {'factors': 6722, 'alpha': 1.408329353094081}. Best is trial 12 with value: 0.04890634385514104.\n"
     ]
    },
    {
     "name": "stdout",
     "output_type": "stream",
     "text": [
      "GraphConvolution: Computing SVD decomposition of the normalized adjacency matrix...\n",
      "Computing first term\n",
      "D_I_inv shape: (38121, 38121)\n",
      "V shape: (4897, 38121)\n",
      "D_I shape: (38121, 38121)\n",
      "Computing second term: V^T * V\n",
      "Computing third term: alpha * D_I_inv * V^T * V\n",
      "Computing fourth term: third_term * D_I\n",
      "Computed Similarity matrix\n",
      "EvaluatorHoldout: Processed 35595 (100.0%) in 2.24 min. Users per second: 265\n"
     ]
    },
    {
     "name": "stderr",
     "output_type": "stream",
     "text": [
      "[I 2024-12-31 06:09:41,418] Trial 39 finished with value: 0.04794008767059583 and parameters: {'factors': 4897, 'alpha': 5.379952604653593}. Best is trial 12 with value: 0.04890634385514104.\n"
     ]
    },
    {
     "name": "stdout",
     "output_type": "stream",
     "text": [
      "GraphConvolution: Computing SVD decomposition of the normalized adjacency matrix...\n",
      "Computing first term\n",
      "D_I_inv shape: (38121, 38121)\n",
      "V shape: (5863, 38121)\n",
      "D_I shape: (38121, 38121)\n",
      "Computing second term: V^T * V\n",
      "Computing third term: alpha * D_I_inv * V^T * V\n",
      "Computing fourth term: third_term * D_I\n",
      "Computed Similarity matrix\n",
      "EvaluatorHoldout: Processed 35595 (100.0%) in 2.51 min. Users per second: 237\n"
     ]
    },
    {
     "name": "stderr",
     "output_type": "stream",
     "text": [
      "[I 2024-12-31 06:22:53,544] Trial 40 finished with value: 0.04762227729505259 and parameters: {'factors': 5863, 'alpha': 6.506713715642308}. Best is trial 12 with value: 0.04890634385514104.\n"
     ]
    },
    {
     "name": "stdout",
     "output_type": "stream",
     "text": [
      "GraphConvolution: Computing SVD decomposition of the normalized adjacency matrix...\n",
      "Computing first term\n",
      "D_I_inv shape: (38121, 38121)\n",
      "V shape: (5677, 38121)\n",
      "D_I shape: (38121, 38121)\n",
      "Computing second term: V^T * V\n",
      "Computing third term: alpha * D_I_inv * V^T * V\n",
      "Computing fourth term: third_term * D_I\n",
      "Computed Similarity matrix\n",
      "EvaluatorHoldout: Processed 35595 (100.0%) in 2.28 min. Users per second: 260\n"
     ]
    },
    {
     "name": "stderr",
     "output_type": "stream",
     "text": [
      "[I 2024-12-31 06:36:03,068] Trial 41 finished with value: 0.04851746165526002 and parameters: {'factors': 5677, 'alpha': 0.8159553719061026}. Best is trial 12 with value: 0.04890634385514104.\n"
     ]
    },
    {
     "name": "stdout",
     "output_type": "stream",
     "text": [
      "GraphConvolution: Computing SVD decomposition of the normalized adjacency matrix...\n",
      "Computing first term\n",
      "D_I_inv shape: (38121, 38121)\n",
      "V shape: (5408, 38121)\n",
      "D_I shape: (38121, 38121)\n",
      "Computing second term: V^T * V\n",
      "Computing third term: alpha * D_I_inv * V^T * V\n",
      "Computing fourth term: third_term * D_I\n",
      "Computed Similarity matrix\n",
      "EvaluatorHoldout: Processed 35595 (100.0%) in 2.57 min. Users per second: 231\n"
     ]
    },
    {
     "name": "stderr",
     "output_type": "stream",
     "text": [
      "[I 2024-12-31 06:49:04,647] Trial 42 finished with value: 0.04844929397520889 and parameters: {'factors': 5408, 'alpha': 0.7806941257830429}. Best is trial 12 with value: 0.04890634385514104.\n"
     ]
    },
    {
     "name": "stdout",
     "output_type": "stream",
     "text": [
      "GraphConvolution: Computing SVD decomposition of the normalized adjacency matrix...\n",
      "Computing first term\n",
      "D_I_inv shape: (38121, 38121)\n",
      "V shape: (5744, 38121)\n",
      "D_I shape: (38121, 38121)\n",
      "Computing second term: V^T * V\n",
      "Computing third term: alpha * D_I_inv * V^T * V\n",
      "Computing fourth term: third_term * D_I\n",
      "Computed Similarity matrix\n",
      "EvaluatorHoldout: Processed 35595 (100.0%) in 2.30 min. Users per second: 258\n"
     ]
    },
    {
     "name": "stderr",
     "output_type": "stream",
     "text": [
      "[I 2024-12-31 07:02:00,655] Trial 43 finished with value: 0.04803832801557003 and parameters: {'factors': 5744, 'alpha': 1.6685821645881511}. Best is trial 12 with value: 0.04890634385514104.\n"
     ]
    },
    {
     "name": "stdout",
     "output_type": "stream",
     "text": [
      "GraphConvolution: Computing SVD decomposition of the normalized adjacency matrix...\n",
      "Computing first term\n",
      "D_I_inv shape: (38121, 38121)\n",
      "V shape: (6176, 38121)\n",
      "D_I shape: (38121, 38121)\n",
      "Computing second term: V^T * V\n",
      "Computing third term: alpha * D_I_inv * V^T * V\n",
      "Computing fourth term: third_term * D_I\n",
      "Computed Similarity matrix\n",
      "EvaluatorHoldout: Processed 35595 (100.0%) in 2.69 min. Users per second: 220\n"
     ]
    },
    {
     "name": "stderr",
     "output_type": "stream",
     "text": [
      "[I 2024-12-31 07:15:57,960] Trial 44 finished with value: 0.04779517254295843 and parameters: {'factors': 6176, 'alpha': 2.7593937997724733}. Best is trial 12 with value: 0.04890634385514104.\n"
     ]
    },
    {
     "name": "stdout",
     "output_type": "stream",
     "text": [
      "GraphConvolution: Computing SVD decomposition of the normalized adjacency matrix...\n",
      "Computing first term\n",
      "D_I_inv shape: (38121, 38121)\n",
      "V shape: (4753, 38121)\n",
      "D_I shape: (38121, 38121)\n",
      "Computing second term: V^T * V\n",
      "Computing third term: alpha * D_I_inv * V^T * V\n",
      "Computing fourth term: third_term * D_I\n",
      "Computed Similarity matrix\n",
      "EvaluatorHoldout: Processed 35595 (100.0%) in 2.67 min. Users per second: 222\n"
     ]
    },
    {
     "name": "stderr",
     "output_type": "stream",
     "text": [
      "[I 2024-12-31 07:28:48,963] Trial 45 finished with value: 0.0482838335596429 and parameters: {'factors': 4753, 'alpha': 0.11275403117361506}. Best is trial 12 with value: 0.04890634385514104.\n"
     ]
    },
    {
     "name": "stdout",
     "output_type": "stream",
     "text": [
      "GraphConvolution: Computing SVD decomposition of the normalized adjacency matrix...\n",
      "Computing first term\n",
      "D_I_inv shape: (38121, 38121)\n",
      "V shape: (2870, 38121)\n",
      "D_I shape: (38121, 38121)\n",
      "Computing second term: V^T * V\n",
      "Computing third term: alpha * D_I_inv * V^T * V\n",
      "Computing fourth term: third_term * D_I\n",
      "Computed Similarity matrix\n",
      "EvaluatorHoldout: Processed 35595 (100.0%) in 2.42 min. Users per second: 245\n"
     ]
    },
    {
     "name": "stderr",
     "output_type": "stream",
     "text": [
      "[I 2024-12-31 07:40:09,638] Trial 46 finished with value: 0.0467005933150039 and parameters: {'factors': 2870, 'alpha': 2.147757565232023}. Best is trial 12 with value: 0.04890634385514104.\n"
     ]
    },
    {
     "name": "stdout",
     "output_type": "stream",
     "text": [
      "GraphConvolution: Computing SVD decomposition of the normalized adjacency matrix...\n",
      "Computing first term\n",
      "D_I_inv shape: (38121, 38121)\n",
      "V shape: (5553, 38121)\n",
      "D_I shape: (38121, 38121)\n",
      "Computing second term: V^T * V\n",
      "Computing third term: alpha * D_I_inv * V^T * V\n",
      "Computing fourth term: third_term * D_I\n",
      "Computed Similarity matrix\n",
      "EvaluatorHoldout: Processed 35595 (100.0%) in 2.61 min. Users per second: 227\n"
     ]
    },
    {
     "name": "stderr",
     "output_type": "stream",
     "text": [
      "[I 2024-12-31 07:53:23,646] Trial 47 finished with value: 0.048427304976397204 and parameters: {'factors': 5553, 'alpha': 0.8921893615392886}. Best is trial 12 with value: 0.04890634385514104.\n"
     ]
    },
    {
     "name": "stdout",
     "output_type": "stream",
     "text": [
      "GraphConvolution: Computing SVD decomposition of the normalized adjacency matrix...\n",
      "Computing first term\n",
      "D_I_inv shape: (38121, 38121)\n",
      "V shape: (6040, 38121)\n",
      "D_I shape: (38121, 38121)\n",
      "Computing second term: V^T * V\n",
      "Computing third term: alpha * D_I_inv * V^T * V\n",
      "Computing fourth term: third_term * D_I\n",
      "Computed Similarity matrix\n",
      "EvaluatorHoldout: Processed 35595 (100.0%) in 2.64 min. Users per second: 224\n"
     ]
    },
    {
     "name": "stderr",
     "output_type": "stream",
     "text": [
      "[I 2024-12-31 08:07:12,654] Trial 48 finished with value: 0.04848889736163025 and parameters: {'factors': 6040, 'alpha': 0.6712387598174137}. Best is trial 12 with value: 0.04890634385514104.\n"
     ]
    },
    {
     "name": "stdout",
     "output_type": "stream",
     "text": [
      "GraphConvolution: Computing SVD decomposition of the normalized adjacency matrix...\n",
      "Computing first term\n",
      "D_I_inv shape: (38121, 38121)\n",
      "V shape: (6310, 38121)\n",
      "D_I shape: (38121, 38121)\n",
      "Computing second term: V^T * V\n",
      "Computing third term: alpha * D_I_inv * V^T * V\n",
      "Computing fourth term: third_term * D_I\n",
      "Computed Similarity matrix\n",
      "EvaluatorHoldout: Processed 35595 (100.0%) in 2.43 min. Users per second: 244\n"
     ]
    },
    {
     "name": "stderr",
     "output_type": "stream",
     "text": [
      "[I 2024-12-31 08:20:46,439] Trial 49 finished with value: 0.047503450413267416 and parameters: {'factors': 6310, 'alpha': 9.839561928229386}. Best is trial 12 with value: 0.04890634385514104.\n"
     ]
    },
    {
     "name": "stdout",
     "output_type": "stream",
     "text": [
      "GraphConvolution: Computing SVD decomposition of the normalized adjacency matrix...\n",
      "Computing first term\n",
      "D_I_inv shape: (38121, 38121)\n",
      "V shape: (6832, 38121)\n",
      "D_I shape: (38121, 38121)\n",
      "Computing second term: V^T * V\n",
      "Computing third term: alpha * D_I_inv * V^T * V\n",
      "Computing fourth term: third_term * D_I\n",
      "Computed Similarity matrix\n",
      "EvaluatorHoldout: Processed 35595 (100.0%) in 2.23 min. Users per second: 265\n"
     ]
    },
    {
     "name": "stderr",
     "output_type": "stream",
     "text": [
      "[I 2024-12-31 08:35:02,225] Trial 50 finished with value: 0.04732642135844643 and parameters: {'factors': 6832, 'alpha': 3.618881536199168}. Best is trial 12 with value: 0.04890634385514104.\n"
     ]
    },
    {
     "name": "stdout",
     "output_type": "stream",
     "text": [
      "GraphConvolution: Computing SVD decomposition of the normalized adjacency matrix...\n",
      "Computing first term\n",
      "D_I_inv shape: (38121, 38121)\n",
      "V shape: (5827, 38121)\n",
      "D_I shape: (38121, 38121)\n",
      "Computing second term: V^T * V\n",
      "Computing third term: alpha * D_I_inv * V^T * V\n",
      "Computing fourth term: third_term * D_I\n",
      "Computed Similarity matrix\n",
      "EvaluatorHoldout: Processed 35595 (100.0%) in 2.54 min. Users per second: 234\n"
     ]
    },
    {
     "name": "stderr",
     "output_type": "stream",
     "text": [
      "[I 2024-12-31 08:48:22,233] Trial 51 finished with value: 0.048231182148373644 and parameters: {'factors': 5827, 'alpha': 0.08198609547687374}. Best is trial 12 with value: 0.04890634385514104.\n"
     ]
    },
    {
     "name": "stdout",
     "output_type": "stream",
     "text": [
      "GraphConvolution: Computing SVD decomposition of the normalized adjacency matrix...\n",
      "Computing first term\n",
      "D_I_inv shape: (38121, 38121)\n",
      "V shape: (5387, 38121)\n",
      "D_I shape: (38121, 38121)\n",
      "Computing second term: V^T * V\n",
      "Computing third term: alpha * D_I_inv * V^T * V\n",
      "Computing fourth term: third_term * D_I\n",
      "Computed Similarity matrix\n",
      "EvaluatorHoldout: Processed 35595 (100.0%) in 2.42 min. Users per second: 245\n"
     ]
    },
    {
     "name": "stderr",
     "output_type": "stream",
     "text": [
      "[I 2024-12-31 09:01:15,281] Trial 52 finished with value: 0.04808497269769732 and parameters: {'factors': 5387, 'alpha': 1.5606827034738497}. Best is trial 12 with value: 0.04890634385514104.\n"
     ]
    },
    {
     "name": "stdout",
     "output_type": "stream",
     "text": [
      "GraphConvolution: Computing SVD decomposition of the normalized adjacency matrix...\n",
      "Computing first term\n",
      "D_I_inv shape: (38121, 38121)\n",
      "V shape: (6505, 38121)\n",
      "D_I shape: (38121, 38121)\n",
      "Computing second term: V^T * V\n",
      "Computing third term: alpha * D_I_inv * V^T * V\n",
      "Computing fourth term: third_term * D_I\n",
      "Computed Similarity matrix\n",
      "EvaluatorHoldout: Processed 35595 (100.0%) in 2.07 min. Users per second: 287\n"
     ]
    },
    {
     "name": "stderr",
     "output_type": "stream",
     "text": [
      "[I 2024-12-31 09:15:09,597] Trial 53 finished with value: 0.04856897816484647 and parameters: {'factors': 6505, 'alpha': 0.48869173438793123}. Best is trial 12 with value: 0.04890634385514104.\n"
     ]
    },
    {
     "name": "stdout",
     "output_type": "stream",
     "text": [
      "GraphConvolution: Computing SVD decomposition of the normalized adjacency matrix...\n",
      "Computing first term\n",
      "D_I_inv shape: (38121, 38121)\n",
      "V shape: (5678, 38121)\n",
      "D_I shape: (38121, 38121)\n",
      "Computing second term: V^T * V\n",
      "Computing third term: alpha * D_I_inv * V^T * V\n",
      "Computing fourth term: third_term * D_I\n",
      "Computed Similarity matrix\n",
      "EvaluatorHoldout: Processed 35595 (100.0%) in 2.65 min. Users per second: 224\n"
     ]
    },
    {
     "name": "stderr",
     "output_type": "stream",
     "text": [
      "[I 2024-12-31 09:28:34,083] Trial 54 finished with value: 0.047944824603061244 and parameters: {'factors': 5678, 'alpha': 2.625856889580654}. Best is trial 12 with value: 0.04890634385514104.\n"
     ]
    },
    {
     "name": "stdout",
     "output_type": "stream",
     "text": [
      "GraphConvolution: Computing SVD decomposition of the normalized adjacency matrix...\n",
      "Computing first term\n",
      "D_I_inv shape: (38121, 38121)\n",
      "V shape: (6001, 38121)\n",
      "D_I shape: (38121, 38121)\n",
      "Computing second term: V^T * V\n",
      "Computing third term: alpha * D_I_inv * V^T * V\n",
      "Computing fourth term: third_term * D_I\n",
      "Computed Similarity matrix\n",
      "EvaluatorHoldout: Processed 35595 (100.0%) in 2.12 min. Users per second: 279\n"
     ]
    },
    {
     "name": "stderr",
     "output_type": "stream",
     "text": [
      "[I 2024-12-31 09:41:34,362] Trial 55 finished with value: 0.048061401748505 and parameters: {'factors': 6001, 'alpha': 1.2393675283284893}. Best is trial 12 with value: 0.04890634385514104.\n"
     ]
    },
    {
     "name": "stdout",
     "output_type": "stream",
     "text": [
      "GraphConvolution: Computing SVD decomposition of the normalized adjacency matrix...\n",
      "Computing first term\n",
      "D_I_inv shape: (38121, 38121)\n",
      "V shape: (5225, 38121)\n",
      "D_I shape: (38121, 38121)\n",
      "Computing second term: V^T * V\n",
      "Computing third term: alpha * D_I_inv * V^T * V\n"
     ]
    }
   ],
   "source": [
    "from Recommenders.Neural.Convolution.GraphConvolution import GraphConvolution\n",
    "import optuna\n",
    "\n",
    "def objective_function(trial):\n",
    "    factors = trial.suggest_int(\"factors\", 2500, 7000)\n",
    "    alpha = trial.suggest_float(\"alpha\", 0, 15)\n",
    "    recommender = GraphConvolution(URM_train_validation)\n",
    "    recommender.fit(num_factors=factors, alpha=alpha, random_seed=42)\n",
    "    \n",
    "    result_dic, _ = evaluator_test.evaluateRecommender(recommender)\n",
    "    MAP = result_dic.loc[10][\"MAP\"]\n",
    "    return MAP\n",
    "\n",
    "class SaveResults(object):\n",
    "    \n",
    "    def __init__(self):\n",
    "        self.results_df = pd.DataFrame(columns = [\"result\"])\n",
    "    \n",
    "    def __call__(self, optuna_study, optuna_trial):\n",
    "        hyperparam_dict = optuna_trial.params.copy()\n",
    "        hyperparam_dict[\"result\"] = optuna_trial.values[0]\n",
    "        \n",
    "        self.results_df = pd.concat([self.results_df, pd.DataFrame([hyperparam_dict])], ignore_index=True)\n",
    "        self.results_df.to_csv(\"logs/GraphConvolution/gf_fourthTrial.csv\", index = False)\n",
    "\n",
    "optuna_study = optuna.create_study(study_name=\"GraphConvolution\", direction=\"maximize\")\n",
    "        \n",
    "save_results = SaveResults()\n",
    "        \n",
    "optuna_study.optimize(objective_function,\n",
    "                      callbacks=[save_results],\n",
    "                      n_trials = 100,\n",
    "                      )"
   ]
  },
  {
   "cell_type": "markdown",
   "metadata": {},
   "source": [
    "# We can stop here, we can start the submission\n",
    "I must test if having low factors despite a worse validation is less overfitted and more beneficial to the hybrid!  "
   ]
  },
  {
   "cell_type": "markdown",
   "metadata": {},
   "source": [
    "Top 10 is \n",
    "\n",
    "\n",
    "| Rank | Result       | Factors | Alpha     |\n",
    "|------|--------------|---------|-----------|\n",
    "| 1    | 0.048906     | 5645.0  | 0.223329  |\n",
    "| 2    | 0.048898     | 6103.0  | 0.203742  |\n",
    "| 3    | 0.048887     | 5892.0  | 0.252335  |\n",
    "| 4    | 0.048846     | 6519.0  | 0.140354  |\n",
    "| 5    | 0.048833     | 5713.0  | 0.182465  |\n",
    "| 6    | 0.048809     | 5705.0  | 0.335314  |\n",
    "| 7    | 0.048588     | 5645.0  | 0.126542  |\n",
    "| 8    | 0.048569     | 6505.0  | 0.488692  |\n",
    "| 9    | 0.048517     | 5677.0  | 0.815955  |\n",
    "| 10   | 0.048489     | 6040.0  | 0.671239  |\n",
    "| 11   | 0.048449     | 5408.0  | 0.780694  |\n",
    "| 12   | 0.048435     | 5503.0  | 0.840568  |\n",
    "| 13   | 0.048427     | 5553.0  | 0.892189  |\n",
    "| 14   | 0.048365     | 6141.0  | 0.857391  |\n",
    "| 15   | 0.048284     | 4753.0  | 0.112754  |\n",
    "| 16   | 0.048258     | 3826.0  | 0.286909  |\n",
    "| 17   | 0.048231     | 5827.0  | 0.081986  |\n",
    "| 18   | 0.048185     | 5387.0  | 1.165494  |\n",
    "| 19   | 0.048138     | 4441.0  | 1.320820  |\n",
    "| 20   | 0.048102     | 5885.0  | 1.331775  |\n",
    "\n"
   ]
  },
  {
   "cell_type": "markdown",
   "metadata": {},
   "source": [
    "We can see that entry 16 despite having a sensible lower amount of num factors had a similar MAP. "
   ]
  },
  {
   "cell_type": "markdown",
   "metadata": {},
   "source": [
    "Let's first do a submission with the best parameters and then one with entry 16"
   ]
  },
  {
   "cell_type": "code",
   "execution_count": 13,
   "metadata": {},
   "outputs": [
    {
     "name": "stdout",
     "output_type": "stream",
     "text": [
      "GraphConvolution: Computing SVD decomposition of the normalized adjacency matrix...\n",
      "Computing first term\n",
      "D_I_inv shape: (38121, 38121)\n",
      "V shape: (5645, 38121)\n",
      "D_I shape: (38121, 38121)\n",
      "Computing second term: V^T * V\n",
      "Computing third term: alpha * D_I_inv * V^T * V\n",
      "Computing fourth term: third_term * D_I\n",
      "Computed Similarity matrix\n",
      "   user_id\n",
      "0        0\n",
      "1        1\n",
      "2        2\n",
      "3        3\n",
      "4        4\n",
      "5        5\n",
      "6        6\n",
      "7        7\n",
      "8        8\n",
      "9        9\n"
     ]
    }
   ],
   "source": [
    "from Recommenders.Neural.Convolution.GraphConvolution import GraphConvolution\n",
    "\n",
    "best_params = {'num_factors' : 5645, 'alpha' : 0.223329, 'random_seed':42}\n",
    "\n",
    "recommender = GraphConvolution(URM_all)\n",
    "recommender.fit(**best_params)\n",
    "\n",
    "target_user = pd.read_csv(\"Dataset/data_target_users_test.csv\")\n",
    "print(target_user.head(10))\n",
    "\n",
    "user_id = target_user['user_id']\n",
    "recommendations = []\n",
    "for user in user_id:\n",
    "    recommendations.append(recommender.recommend(user, cutoff=10))\n",
    "\n",
    "# Saving in a submission file for the competition\n",
    "submission = pd.DataFrame(columns=['user_id', 'item_list'])\n",
    "submission['user_id'] = user_id\n",
    "# Convert list of recommendations into a space-separated string\n",
    "submission['item_list'] = [' '.join(map(str, recs)) for recs in recommendations]\n",
    "\n",
    "# Save the submission file\n",
    "num_factors = best_params[\"num_factors\"]\n",
    "alpha = best_params[\"alpha\"]\n",
    "submission.to_csv(f\"submissions/graphConvolution_num_factors:{num_factors}_alpha:_{alpha}.csv\", index=False)"
   ]
  },
  {
   "cell_type": "code",
   "execution_count": 14,
   "metadata": {},
   "outputs": [],
   "source": [
    "W_sparse = recommender.W_sparse\n",
    "\n",
    "sps.save_npz(f'graphConvolution_W_sparse_num_factors:{num_factors}_alpha:_{alpha}.npz', W_sparse)"
   ]
  },
  {
   "cell_type": "markdown",
   "metadata": {},
   "source": [
    "# Let's also save the W_sparse with only train and validation for hybrid"
   ]
  },
  {
   "cell_type": "code",
   "execution_count": 15,
   "metadata": {},
   "outputs": [
    {
     "data": {
      "text/plain": [
       "0"
      ]
     },
     "execution_count": 15,
     "metadata": {},
     "output_type": "execute_result"
    }
   ],
   "source": [
    "import gc\n",
    "gc.collect()"
   ]
  },
  {
   "cell_type": "code",
   "execution_count": 16,
   "metadata": {},
   "outputs": [
    {
     "name": "stdout",
     "output_type": "stream",
     "text": [
      "GraphConvolution: Computing SVD decomposition of the normalized adjacency matrix...\n",
      "Computing first term\n",
      "D_I_inv shape: (38121, 38121)\n",
      "V shape: (5645, 38121)\n",
      "D_I shape: (38121, 38121)\n",
      "Computing second term: V^T * V\n",
      "Computing third term: alpha * D_I_inv * V^T * V\n",
      "Computing fourth term: third_term * D_I\n",
      "Computed Similarity matrix\n"
     ]
    }
   ],
   "source": [
    "from Recommenders.Neural.Convolution.GraphConvolution import GraphConvolution\n",
    "\n",
    "best_params = {'num_factors' : 5645, 'alpha' : 0.223329, 'random_seed':42}\n",
    "\n",
    "recommender = GraphConvolution(URM_train_validation)\n",
    "recommender.fit(**best_params)\n",
    "\n",
    "W_sparse = recommender.W_sparse\n",
    "\n",
    "sps.save_npz(f'graphConvolution_W_sparse_TRAINVAL_num_factors:{num_factors}_alpha:_{alpha}.npz', W_sparse)"
   ]
  }
 ],
 "metadata": {
  "kernelspec": {
   "display_name": "RecSysPD",
   "language": "python",
   "name": "python3"
  },
  "language_info": {
   "codemirror_mode": {
    "name": "ipython",
    "version": 3
   },
   "file_extension": ".py",
   "mimetype": "text/x-python",
   "name": "python",
   "nbconvert_exporter": "python",
   "pygments_lexer": "ipython3",
   "version": "3.8.20"
  }
 },
 "nbformat": 4,
 "nbformat_minor": 2
}
