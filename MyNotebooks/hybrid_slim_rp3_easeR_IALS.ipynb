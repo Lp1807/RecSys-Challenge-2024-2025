{
 "cells": [
  {
   "cell_type": "code",
   "execution_count": 1,
   "metadata": {},
   "outputs": [],
   "source": [
    "import os\n",
    "\n",
    "os.chdir('../')"
   ]
  },
  {
   "cell_type": "code",
   "execution_count": 2,
   "metadata": {},
   "outputs": [
    {
     "name": "stdout",
     "output_type": "stream",
     "text": [
      "   user_id  item_id  data\n",
      "0        0        0   1.0\n",
      "1        0        2   1.0\n",
      "2        0      120   1.0\n",
      "3        0      128   1.0\n",
      "4        0      211   1.0\n",
      "5        0      232   1.0\n",
      "6        0      282   1.0\n",
      "7        0      453   1.0\n",
      "8        0      458   1.0\n",
      "9        0      491   1.0\n"
     ]
    }
   ],
   "source": [
    "import numpy as np\n",
    "import pandas as pd\n",
    "import matplotlib.pyplot as plt\n",
    "\n",
    "data_train_path = \"Dataset/data_train.csv\"\n",
    "\n",
    "URM_all_dataframe = pd.read_csv(data_train_path)\n",
    "print(URM_all_dataframe.head(10))"
   ]
  },
  {
   "cell_type": "code",
   "execution_count": 3,
   "metadata": {},
   "outputs": [
    {
     "name": "stdout",
     "output_type": "stream",
     "text": [
      "Warning: 141 (0.39 %) of 35736 users have no sampled items\n",
      "EvaluatorHoldout: Ignoring 141 ( 0.4%) Users that have less than 1 test interactions\n"
     ]
    }
   ],
   "source": [
    "import numpy as np\n",
    "import scipy.sparse as sps\n",
    "from Data_manager.split_functions.split_train_validation_random_holdout import split_train_in_two_percentage_global_sample\n",
    "from Evaluation.Evaluator import EvaluatorHoldout\n",
    "\n",
    "\n",
    "\n",
    "URM_all = sps.coo_matrix((URM_all_dataframe['data'], (URM_all_dataframe['user_id'], URM_all_dataframe['item_id'])))\n",
    "URM_all = URM_all.tocsr()\n",
    "\n",
    "URM_train_validation, URM_test = split_train_in_two_percentage_global_sample(URM_all, train_percentage = 0.8)\n",
    "evaluator_test = EvaluatorHoldout(URM_test, cutoff_list=[10])"
   ]
  },
  {
   "cell_type": "code",
   "execution_count": 4,
   "metadata": {},
   "outputs": [
    {
     "name": "stdout",
     "output_type": "stream",
     "text": [
      "RP3betaRecommender: Similarity column 38121 (100.0%), 3370.42 column/sec. Elapsed time 11.31 sec\n"
     ]
    }
   ],
   "source": [
    "from Recommenders.GraphBased.RP3betaRecommender import RP3betaRecommender\n",
    "from Recommenders.KNN.ItemKNNCustomSimilarityRecommender import ItemKNNCustomSimilarityRecommender\n",
    "\n",
    "slim_W = sps.load_npz(\"slim_best_W_TRAINVAL.npz\")\n",
    "easeR_W = sps.load_npz(\"easeR_best_W_TRAINVAL.npz\")\n",
    "\n",
    "alpha_slim_EASER = 0.622977719931239\n",
    "\n",
    "similarity_SLIM_EASER = slim_W.multiply(alpha_slim_EASER) + easeR_W.multiply(1-alpha_slim_EASER)\n",
    "del slim_W, easeR_W\n",
    "\n",
    "import gc\n",
    "gc.collect()\n",
    "\n",
    "# RP3\n",
    "rp3_recommender = RP3betaRecommender(URM_train_validation)\n",
    "rp3_recommender.fit(topK=14, alpha=0.3683550822991944, beta=0.19877125816137325)\n",
    "\n",
    "# Hybrid\n",
    "final_recommender = ItemKNNCustomSimilarityRecommender(URM_train_validation)\n",
    "alpha = 0.8407690672301905\n",
    "new_similarity = similarity_SLIM_EASER.multiply(alpha) + rp3_recommender.W_sparse.multiply(1-alpha)\n",
    "del similarity_SLIM_EASER\n",
    "del rp3_recommender\n",
    "import gc\n",
    "gc.collect()\n",
    "final_recommender.fit(new_similarity)\n"
   ]
  },
  {
   "cell_type": "code",
   "execution_count": 7,
   "metadata": {},
   "outputs": [
    {
     "data": {
      "application/vnd.jupyter.widget-view+json": {
       "model_id": "fa40a092c4424f4ca9506a90860ecc37",
       "version_major": 2,
       "version_minor": 0
      },
      "text/plain": [
       "  0%|          | 0/10 [00:00<?, ?it/s]"
      ]
     },
     "metadata": {},
     "output_type": "display_data"
    }
   ],
   "source": [
    "'''result,factors,alpha,regularization\n",
    "0.04866350388073791,1903.0,10.365656056877015,0.43781149051372426\n",
    "'''\n",
    "\n",
    "from Recommenders.MatrixFactorization.ImplicitALSRecommender import ImplicitALSRecommender\n",
    "\n",
    "als_recommender = ImplicitALSRecommender(URM_train_validation)\n",
    "als_recommender.fit(factors=1903, regularization=0.43781149051372426, iterations=10, use_gpu=False, **{\"alpha\": 10.365656056877015})"
   ]
  },
  {
   "cell_type": "code",
   "execution_count": 14,
   "metadata": {},
   "outputs": [
    {
     "name": "stderr",
     "output_type": "stream",
     "text": [
      "[I 2024-12-30 01:19:46,526] A new study created in memory with name: HYBRID_IALS_INCLUDED\n",
      "/var/folders/50/7hjr20g17_18p725nbt0qqv00000gn/T/ipykernel_98650/1578609616.py:7: FutureWarning: suggest_uniform has been deprecated in v3.0.0. This feature will be removed in v6.0.0. See https://github.com/optuna/optuna/releases/tag/v3.0.0. Use suggest_float instead.\n",
      "  alpha = trial.suggest_uniform('alpha', 0, 1)\n"
     ]
    },
    {
     "name": "stdout",
     "output_type": "stream",
     "text": [
      "EvaluatorHoldout: Processed 35595 (100.0%) in 4.91 min. Users per second: 121\n"
     ]
    },
    {
     "name": "stderr",
     "output_type": "stream",
     "text": [
      "[I 2024-12-30 01:24:41,054] Trial 0 finished with value: 0.050479412348352994 and parameters: {'alpha': 0.097905282755954}. Best is trial 0 with value: 0.050479412348352994.\n",
      "/var/folders/50/7hjr20g17_18p725nbt0qqv00000gn/T/ipykernel_98650/1578609616.py:7: FutureWarning: suggest_uniform has been deprecated in v3.0.0. This feature will be removed in v6.0.0. See https://github.com/optuna/optuna/releases/tag/v3.0.0. Use suggest_float instead.\n",
      "  alpha = trial.suggest_uniform('alpha', 0, 1)\n"
     ]
    },
    {
     "name": "stdout",
     "output_type": "stream",
     "text": [
      "EvaluatorHoldout: Processed 35595 (100.0%) in 4.40 min. Users per second: 135\n"
     ]
    },
    {
     "name": "stderr",
     "output_type": "stream",
     "text": [
      "[I 2024-12-30 01:29:05,538] Trial 1 finished with value: 0.05936781628416496 and parameters: {'alpha': 0.5912161468947038}. Best is trial 1 with value: 0.05936781628416496.\n",
      "/var/folders/50/7hjr20g17_18p725nbt0qqv00000gn/T/ipykernel_98650/1578609616.py:7: FutureWarning: suggest_uniform has been deprecated in v3.0.0. This feature will be removed in v6.0.0. See https://github.com/optuna/optuna/releases/tag/v3.0.0. Use suggest_float instead.\n",
      "  alpha = trial.suggest_uniform('alpha', 0, 1)\n"
     ]
    },
    {
     "name": "stdout",
     "output_type": "stream",
     "text": [
      "EvaluatorHoldout: Processed 35595 (100.0%) in 4.11 min. Users per second: 144\n"
     ]
    },
    {
     "name": "stderr",
     "output_type": "stream",
     "text": [
      "[I 2024-12-30 01:33:12,411] Trial 2 finished with value: 0.05111282126747594 and parameters: {'alpha': 0.12886267340602053}. Best is trial 1 with value: 0.05936781628416496.\n",
      "/var/folders/50/7hjr20g17_18p725nbt0qqv00000gn/T/ipykernel_98650/1578609616.py:7: FutureWarning: suggest_uniform has been deprecated in v3.0.0. This feature will be removed in v6.0.0. See https://github.com/optuna/optuna/releases/tag/v3.0.0. Use suggest_float instead.\n",
      "  alpha = trial.suggest_uniform('alpha', 0, 1)\n"
     ]
    },
    {
     "name": "stdout",
     "output_type": "stream",
     "text": [
      "EvaluatorHoldout: Processed 35595 (100.0%) in 4.92 min. Users per second: 121\n"
     ]
    },
    {
     "name": "stderr",
     "output_type": "stream",
     "text": [
      "[I 2024-12-30 01:38:07,876] Trial 3 finished with value: 0.06129248913593425 and parameters: {'alpha': 0.828975084798271}. Best is trial 3 with value: 0.06129248913593425.\n",
      "/var/folders/50/7hjr20g17_18p725nbt0qqv00000gn/T/ipykernel_98650/1578609616.py:7: FutureWarning: suggest_uniform has been deprecated in v3.0.0. This feature will be removed in v6.0.0. See https://github.com/optuna/optuna/releases/tag/v3.0.0. Use suggest_float instead.\n",
      "  alpha = trial.suggest_uniform('alpha', 0, 1)\n"
     ]
    },
    {
     "name": "stdout",
     "output_type": "stream",
     "text": [
      "EvaluatorHoldout: Processed 35595 (100.0%) in 4.18 min. Users per second: 142\n"
     ]
    },
    {
     "name": "stderr",
     "output_type": "stream",
     "text": [
      "[I 2024-12-30 01:42:18,799] Trial 4 finished with value: 0.049965270670705185 and parameters: {'alpha': 0.07158418643703934}. Best is trial 3 with value: 0.06129248913593425.\n",
      "/var/folders/50/7hjr20g17_18p725nbt0qqv00000gn/T/ipykernel_98650/1578609616.py:7: FutureWarning: suggest_uniform has been deprecated in v3.0.0. This feature will be removed in v6.0.0. See https://github.com/optuna/optuna/releases/tag/v3.0.0. Use suggest_float instead.\n",
      "  alpha = trial.suggest_uniform('alpha', 0, 1)\n"
     ]
    },
    {
     "name": "stdout",
     "output_type": "stream",
     "text": [
      "EvaluatorHoldout: Processed 35595 (100.0%) in 3.85 min. Users per second: 154\n"
     ]
    },
    {
     "name": "stderr",
     "output_type": "stream",
     "text": [
      "[I 2024-12-30 01:46:09,730] Trial 5 finished with value: 0.05886849967781067 and parameters: {'alpha': 0.5592958841138226}. Best is trial 3 with value: 0.06129248913593425.\n",
      "/var/folders/50/7hjr20g17_18p725nbt0qqv00000gn/T/ipykernel_98650/1578609616.py:7: FutureWarning: suggest_uniform has been deprecated in v3.0.0. This feature will be removed in v6.0.0. See https://github.com/optuna/optuna/releases/tag/v3.0.0. Use suggest_float instead.\n",
      "  alpha = trial.suggest_uniform('alpha', 0, 1)\n"
     ]
    },
    {
     "name": "stdout",
     "output_type": "stream",
     "text": [
      "EvaluatorHoldout: Processed 35595 (100.0%) in 3.84 min. Users per second: 155\n"
     ]
    },
    {
     "name": "stderr",
     "output_type": "stream",
     "text": [
      "[I 2024-12-30 01:50:00,173] Trial 6 finished with value: 0.061233270233689636 and parameters: {'alpha': 0.9859693691486457}. Best is trial 3 with value: 0.06129248913593425.\n",
      "/var/folders/50/7hjr20g17_18p725nbt0qqv00000gn/T/ipykernel_98650/1578609616.py:7: FutureWarning: suggest_uniform has been deprecated in v3.0.0. This feature will be removed in v6.0.0. See https://github.com/optuna/optuna/releases/tag/v3.0.0. Use suggest_float instead.\n",
      "  alpha = trial.suggest_uniform('alpha', 0, 1)\n"
     ]
    },
    {
     "name": "stdout",
     "output_type": "stream",
     "text": [
      "EvaluatorHoldout: Processed 35595 (100.0%) in 4.23 min. Users per second: 140\n"
     ]
    },
    {
     "name": "stderr",
     "output_type": "stream",
     "text": [
      "[I 2024-12-30 01:54:14,119] Trial 7 finished with value: 0.05860267181274131 and parameters: {'alpha': 0.543426456604261}. Best is trial 3 with value: 0.06129248913593425.\n",
      "/var/folders/50/7hjr20g17_18p725nbt0qqv00000gn/T/ipykernel_98650/1578609616.py:7: FutureWarning: suggest_uniform has been deprecated in v3.0.0. This feature will be removed in v6.0.0. See https://github.com/optuna/optuna/releases/tag/v3.0.0. Use suggest_float instead.\n",
      "  alpha = trial.suggest_uniform('alpha', 0, 1)\n"
     ]
    },
    {
     "name": "stdout",
     "output_type": "stream",
     "text": [
      "EvaluatorHoldout: Processed 35595 (100.0%) in 3.84 min. Users per second: 154\n"
     ]
    },
    {
     "name": "stderr",
     "output_type": "stream",
     "text": [
      "[I 2024-12-30 01:58:04,907] Trial 8 finished with value: 0.05960555923450811 and parameters: {'alpha': 0.6099066936792525}. Best is trial 3 with value: 0.06129248913593425.\n",
      "/var/folders/50/7hjr20g17_18p725nbt0qqv00000gn/T/ipykernel_98650/1578609616.py:7: FutureWarning: suggest_uniform has been deprecated in v3.0.0. This feature will be removed in v6.0.0. See https://github.com/optuna/optuna/releases/tag/v3.0.0. Use suggest_float instead.\n",
      "  alpha = trial.suggest_uniform('alpha', 0, 1)\n"
     ]
    },
    {
     "name": "stdout",
     "output_type": "stream",
     "text": [
      "EvaluatorHoldout: Processed 35595 (100.0%) in 3.97 min. Users per second: 149\n"
     ]
    },
    {
     "name": "stderr",
     "output_type": "stream",
     "text": [
      "[I 2024-12-30 02:02:03,160] Trial 9 finished with value: 0.0552952037583287 and parameters: {'alpha': 0.3478562982216581}. Best is trial 3 with value: 0.06129248913593425.\n",
      "/var/folders/50/7hjr20g17_18p725nbt0qqv00000gn/T/ipykernel_98650/1578609616.py:7: FutureWarning: suggest_uniform has been deprecated in v3.0.0. This feature will be removed in v6.0.0. See https://github.com/optuna/optuna/releases/tag/v3.0.0. Use suggest_float instead.\n",
      "  alpha = trial.suggest_uniform('alpha', 0, 1)\n"
     ]
    },
    {
     "name": "stdout",
     "output_type": "stream",
     "text": [
      "EvaluatorHoldout: Processed 35595 (100.0%) in 3.94 min. Users per second: 150\n"
     ]
    },
    {
     "name": "stderr",
     "output_type": "stream",
     "text": [
      "[I 2024-12-30 02:06:00,017] Trial 10 finished with value: 0.06136866578817493 and parameters: {'alpha': 0.9035810046746403}. Best is trial 10 with value: 0.06136866578817493.\n",
      "/var/folders/50/7hjr20g17_18p725nbt0qqv00000gn/T/ipykernel_98650/1578609616.py:7: FutureWarning: suggest_uniform has been deprecated in v3.0.0. This feature will be removed in v6.0.0. See https://github.com/optuna/optuna/releases/tag/v3.0.0. Use suggest_float instead.\n",
      "  alpha = trial.suggest_uniform('alpha', 0, 1)\n"
     ]
    },
    {
     "name": "stdout",
     "output_type": "stream",
     "text": [
      "EvaluatorHoldout: Processed 35595 (100.0%) in 3.91 min. Users per second: 152\n"
     ]
    },
    {
     "name": "stderr",
     "output_type": "stream",
     "text": [
      "[I 2024-12-30 02:09:54,761] Trial 11 finished with value: 0.06135647172667632 and parameters: {'alpha': 0.929301780292038}. Best is trial 10 with value: 0.06136866578817493.\n",
      "/var/folders/50/7hjr20g17_18p725nbt0qqv00000gn/T/ipykernel_98650/1578609616.py:7: FutureWarning: suggest_uniform has been deprecated in v3.0.0. This feature will be removed in v6.0.0. See https://github.com/optuna/optuna/releases/tag/v3.0.0. Use suggest_float instead.\n",
      "  alpha = trial.suggest_uniform('alpha', 0, 1)\n"
     ]
    },
    {
     "name": "stdout",
     "output_type": "stream",
     "text": [
      "EvaluatorHoldout: Processed 35595 (100.0%) in 3.92 min. Users per second: 151\n"
     ]
    },
    {
     "name": "stderr",
     "output_type": "stream",
     "text": [
      "[I 2024-12-30 02:13:50,234] Trial 12 finished with value: 0.06129335647729887 and parameters: {'alpha': 0.8285968218030203}. Best is trial 10 with value: 0.06136866578817493.\n",
      "/var/folders/50/7hjr20g17_18p725nbt0qqv00000gn/T/ipykernel_98650/1578609616.py:7: FutureWarning: suggest_uniform has been deprecated in v3.0.0. This feature will be removed in v6.0.0. See https://github.com/optuna/optuna/releases/tag/v3.0.0. Use suggest_float instead.\n",
      "  alpha = trial.suggest_uniform('alpha', 0, 1)\n"
     ]
    },
    {
     "name": "stdout",
     "output_type": "stream",
     "text": [
      "EvaluatorHoldout: Processed 35595 (100.0%) in 3.67 min. Users per second: 162\n"
     ]
    },
    {
     "name": "stderr",
     "output_type": "stream",
     "text": [
      "[I 2024-12-30 02:17:30,629] Trial 13 finished with value: 0.061214425068616185 and parameters: {'alpha': 0.9954718202900279}. Best is trial 10 with value: 0.06136866578817493.\n",
      "/var/folders/50/7hjr20g17_18p725nbt0qqv00000gn/T/ipykernel_98650/1578609616.py:7: FutureWarning: suggest_uniform has been deprecated in v3.0.0. This feature will be removed in v6.0.0. See https://github.com/optuna/optuna/releases/tag/v3.0.0. Use suggest_float instead.\n",
      "  alpha = trial.suggest_uniform('alpha', 0, 1)\n"
     ]
    },
    {
     "name": "stdout",
     "output_type": "stream",
     "text": [
      "EvaluatorHoldout: Processed 35595 (100.0%) in 3.83 min. Users per second: 155\n"
     ]
    },
    {
     "name": "stderr",
     "output_type": "stream",
     "text": [
      "[I 2024-12-30 02:21:20,314] Trial 14 finished with value: 0.06103984865004484 and parameters: {'alpha': 0.7613837194053987}. Best is trial 10 with value: 0.06136866578817493.\n",
      "/var/folders/50/7hjr20g17_18p725nbt0qqv00000gn/T/ipykernel_98650/1578609616.py:7: FutureWarning: suggest_uniform has been deprecated in v3.0.0. This feature will be removed in v6.0.0. See https://github.com/optuna/optuna/releases/tag/v3.0.0. Use suggest_float instead.\n",
      "  alpha = trial.suggest_uniform('alpha', 0, 1)\n"
     ]
    },
    {
     "name": "stdout",
     "output_type": "stream",
     "text": [
      "EvaluatorHoldout: Processed 35595 (100.0%) in 4.11 min. Users per second: 144\n"
     ]
    },
    {
     "name": "stderr",
     "output_type": "stream",
     "text": [
      "[I 2024-12-30 02:25:27,167] Trial 15 finished with value: 0.0557312512681223 and parameters: {'alpha': 0.37316052788680776}. Best is trial 10 with value: 0.06136866578817493.\n",
      "/var/folders/50/7hjr20g17_18p725nbt0qqv00000gn/T/ipykernel_98650/1578609616.py:7: FutureWarning: suggest_uniform has been deprecated in v3.0.0. This feature will be removed in v6.0.0. See https://github.com/optuna/optuna/releases/tag/v3.0.0. Use suggest_float instead.\n",
      "  alpha = trial.suggest_uniform('alpha', 0, 1)\n"
     ]
    },
    {
     "name": "stdout",
     "output_type": "stream",
     "text": [
      "EvaluatorHoldout: Processed 35595 (100.0%) in 3.63 min. Users per second: 163\n"
     ]
    },
    {
     "name": "stderr",
     "output_type": "stream",
     "text": [
      "[I 2024-12-30 02:29:05,039] Trial 16 finished with value: 0.060730085151069646 and parameters: {'alpha': 0.714255281906965}. Best is trial 10 with value: 0.06136866578817493.\n",
      "/var/folders/50/7hjr20g17_18p725nbt0qqv00000gn/T/ipykernel_98650/1578609616.py:7: FutureWarning: suggest_uniform has been deprecated in v3.0.0. This feature will be removed in v6.0.0. See https://github.com/optuna/optuna/releases/tag/v3.0.0. Use suggest_float instead.\n",
      "  alpha = trial.suggest_uniform('alpha', 0, 1)\n"
     ]
    },
    {
     "name": "stdout",
     "output_type": "stream",
     "text": [
      "EvaluatorHoldout: Processed 35595 (100.0%) in 3.97 min. Users per second: 149\n"
     ]
    },
    {
     "name": "stderr",
     "output_type": "stream",
     "text": [
      "[I 2024-12-30 02:33:03,696] Trial 17 finished with value: 0.06136073373957706 and parameters: {'alpha': 0.9131585558503326}. Best is trial 10 with value: 0.06136866578817493.\n",
      "/var/folders/50/7hjr20g17_18p725nbt0qqv00000gn/T/ipykernel_98650/1578609616.py:7: FutureWarning: suggest_uniform has been deprecated in v3.0.0. This feature will be removed in v6.0.0. See https://github.com/optuna/optuna/releases/tag/v3.0.0. Use suggest_float instead.\n",
      "  alpha = trial.suggest_uniform('alpha', 0, 1)\n"
     ]
    },
    {
     "name": "stdout",
     "output_type": "stream",
     "text": [
      "EvaluatorHoldout: Processed 35595 (100.0%) in 4.31 min. Users per second: 138\n"
     ]
    },
    {
     "name": "stderr",
     "output_type": "stream",
     "text": [
      "[I 2024-12-30 02:37:22,331] Trial 18 finished with value: 0.05602205477405435 and parameters: {'alpha': 0.3885163029605956}. Best is trial 10 with value: 0.06136866578817493.\n",
      "/var/folders/50/7hjr20g17_18p725nbt0qqv00000gn/T/ipykernel_98650/1578609616.py:7: FutureWarning: suggest_uniform has been deprecated in v3.0.0. This feature will be removed in v6.0.0. See https://github.com/optuna/optuna/releases/tag/v3.0.0. Use suggest_float instead.\n",
      "  alpha = trial.suggest_uniform('alpha', 0, 1)\n"
     ]
    },
    {
     "name": "stdout",
     "output_type": "stream",
     "text": [
      "EvaluatorHoldout: Processed 35595 (100.0%) in 4.12 min. Users per second: 144\n"
     ]
    },
    {
     "name": "stderr",
     "output_type": "stream",
     "text": [
      "[I 2024-12-30 02:41:29,637] Trial 19 finished with value: 0.06133995210670114 and parameters: {'alpha': 0.8786128400407828}. Best is trial 10 with value: 0.06136866578817493.\n",
      "/var/folders/50/7hjr20g17_18p725nbt0qqv00000gn/T/ipykernel_98650/1578609616.py:7: FutureWarning: suggest_uniform has been deprecated in v3.0.0. This feature will be removed in v6.0.0. See https://github.com/optuna/optuna/releases/tag/v3.0.0. Use suggest_float instead.\n",
      "  alpha = trial.suggest_uniform('alpha', 0, 1)\n"
     ]
    },
    {
     "name": "stdout",
     "output_type": "stream",
     "text": [
      "EvaluatorHoldout: Processed 35595 (100.0%) in 4.23 min. Users per second: 140\n"
     ]
    },
    {
     "name": "stderr",
     "output_type": "stream",
     "text": [
      "[I 2024-12-30 02:45:43,820] Trial 20 finished with value: 0.06079156605283717 and parameters: {'alpha': 0.722371879096842}. Best is trial 10 with value: 0.06136866578817493.\n",
      "/var/folders/50/7hjr20g17_18p725nbt0qqv00000gn/T/ipykernel_98650/1578609616.py:7: FutureWarning: suggest_uniform has been deprecated in v3.0.0. This feature will be removed in v6.0.0. See https://github.com/optuna/optuna/releases/tag/v3.0.0. Use suggest_float instead.\n",
      "  alpha = trial.suggest_uniform('alpha', 0, 1)\n"
     ]
    },
    {
     "name": "stdout",
     "output_type": "stream",
     "text": [
      "EvaluatorHoldout: Processed 35595 (100.0%) in 3.81 min. Users per second: 156\n"
     ]
    },
    {
     "name": "stderr",
     "output_type": "stream",
     "text": [
      "[I 2024-12-30 02:49:32,716] Trial 21 finished with value: 0.06138050979159086 and parameters: {'alpha': 0.9187542628548138}. Best is trial 21 with value: 0.06138050979159086.\n",
      "/var/folders/50/7hjr20g17_18p725nbt0qqv00000gn/T/ipykernel_98650/1578609616.py:7: FutureWarning: suggest_uniform has been deprecated in v3.0.0. This feature will be removed in v6.0.0. See https://github.com/optuna/optuna/releases/tag/v3.0.0. Use suggest_float instead.\n",
      "  alpha = trial.suggest_uniform('alpha', 0, 1)\n"
     ]
    },
    {
     "name": "stdout",
     "output_type": "stream",
     "text": [
      "EvaluatorHoldout: Processed 35595 (100.0%) in 4.02 min. Users per second: 148\n"
     ]
    },
    {
     "name": "stderr",
     "output_type": "stream",
     "text": [
      "[I 2024-12-30 02:53:34,091] Trial 22 finished with value: 0.061369694780565094 and parameters: {'alpha': 0.8984620175126407}. Best is trial 21 with value: 0.06138050979159086.\n",
      "/var/folders/50/7hjr20g17_18p725nbt0qqv00000gn/T/ipykernel_98650/1578609616.py:7: FutureWarning: suggest_uniform has been deprecated in v3.0.0. This feature will be removed in v6.0.0. See https://github.com/optuna/optuna/releases/tag/v3.0.0. Use suggest_float instead.\n",
      "  alpha = trial.suggest_uniform('alpha', 0, 1)\n"
     ]
    },
    {
     "name": "stdout",
     "output_type": "stream",
     "text": [
      "EvaluatorHoldout: Processed 35595 (100.0%) in 3.92 min. Users per second: 151\n"
     ]
    },
    {
     "name": "stderr",
     "output_type": "stream",
     "text": [
      "[I 2024-12-30 02:57:29,679] Trial 23 finished with value: 0.06028362062622322 and parameters: {'alpha': 0.6688420482643049}. Best is trial 21 with value: 0.06138050979159086.\n",
      "/var/folders/50/7hjr20g17_18p725nbt0qqv00000gn/T/ipykernel_98650/1578609616.py:7: FutureWarning: suggest_uniform has been deprecated in v3.0.0. This feature will be removed in v6.0.0. See https://github.com/optuna/optuna/releases/tag/v3.0.0. Use suggest_float instead.\n",
      "  alpha = trial.suggest_uniform('alpha', 0, 1)\n"
     ]
    },
    {
     "name": "stdout",
     "output_type": "stream",
     "text": [
      "EvaluatorHoldout: Processed 35595 (100.0%) in 4.49 min. Users per second: 132\n"
     ]
    },
    {
     "name": "stderr",
     "output_type": "stream",
     "text": [
      "[I 2024-12-30 03:01:59,258] Trial 24 finished with value: 0.06127543662499214 and parameters: {'alpha': 0.8039508601628129}. Best is trial 21 with value: 0.06138050979159086.\n",
      "/var/folders/50/7hjr20g17_18p725nbt0qqv00000gn/T/ipykernel_98650/1578609616.py:7: FutureWarning: suggest_uniform has been deprecated in v3.0.0. This feature will be removed in v6.0.0. See https://github.com/optuna/optuna/releases/tag/v3.0.0. Use suggest_float instead.\n",
      "  alpha = trial.suggest_uniform('alpha', 0, 1)\n"
     ]
    },
    {
     "name": "stdout",
     "output_type": "stream",
     "text": [
      "EvaluatorHoldout: Processed 35595 (100.0%) in 4.40 min. Users per second: 135\n"
     ]
    },
    {
     "name": "stderr",
     "output_type": "stream",
     "text": [
      "[I 2024-12-30 03:06:23,447] Trial 25 finished with value: 0.06136599798883624 and parameters: {'alpha': 0.9025545841130127}. Best is trial 21 with value: 0.06138050979159086.\n",
      "/var/folders/50/7hjr20g17_18p725nbt0qqv00000gn/T/ipykernel_98650/1578609616.py:7: FutureWarning: suggest_uniform has been deprecated in v3.0.0. This feature will be removed in v6.0.0. See https://github.com/optuna/optuna/releases/tag/v3.0.0. Use suggest_float instead.\n",
      "  alpha = trial.suggest_uniform('alpha', 0, 1)\n"
     ]
    },
    {
     "name": "stdout",
     "output_type": "stream",
     "text": [
      "EvaluatorHoldout: Processed 35595 (100.0%) in 4.42 min. Users per second: 134\n"
     ]
    },
    {
     "name": "stderr",
     "output_type": "stream",
     "text": [
      "[I 2024-12-30 03:10:48,806] Trial 26 finished with value: 0.052479417922525966 and parameters: {'alpha': 0.20368575065613825}. Best is trial 21 with value: 0.06138050979159086.\n",
      "/var/folders/50/7hjr20g17_18p725nbt0qqv00000gn/T/ipykernel_98650/1578609616.py:7: FutureWarning: suggest_uniform has been deprecated in v3.0.0. This feature will be removed in v6.0.0. See https://github.com/optuna/optuna/releases/tag/v3.0.0. Use suggest_float instead.\n",
      "  alpha = trial.suggest_uniform('alpha', 0, 1)\n"
     ]
    },
    {
     "name": "stdout",
     "output_type": "stream",
     "text": [
      "EvaluatorHoldout: Processed 35595 (100.0%) in 4.18 min. Users per second: 142\n"
     ]
    },
    {
     "name": "stderr",
     "output_type": "stream",
     "text": [
      "[I 2024-12-30 03:14:59,485] Trial 27 finished with value: 0.06014255167815897 and parameters: {'alpha': 0.655002851921237}. Best is trial 21 with value: 0.06138050979159086.\n",
      "/var/folders/50/7hjr20g17_18p725nbt0qqv00000gn/T/ipykernel_98650/1578609616.py:7: FutureWarning: suggest_uniform has been deprecated in v3.0.0. This feature will be removed in v6.0.0. See https://github.com/optuna/optuna/releases/tag/v3.0.0. Use suggest_float instead.\n",
      "  alpha = trial.suggest_uniform('alpha', 0, 1)\n"
     ]
    },
    {
     "name": "stdout",
     "output_type": "stream",
     "text": [
      "EvaluatorHoldout: Processed 35595 (100.0%) in 4.48 min. Users per second: 133\n"
     ]
    },
    {
     "name": "stderr",
     "output_type": "stream",
     "text": [
      "[I 2024-12-30 03:19:28,151] Trial 28 finished with value: 0.06121529352481536 and parameters: {'alpha': 0.9923734885898081}. Best is trial 21 with value: 0.06138050979159086.\n",
      "/var/folders/50/7hjr20g17_18p725nbt0qqv00000gn/T/ipykernel_98650/1578609616.py:7: FutureWarning: suggest_uniform has been deprecated in v3.0.0. This feature will be removed in v6.0.0. See https://github.com/optuna/optuna/releases/tag/v3.0.0. Use suggest_float instead.\n",
      "  alpha = trial.suggest_uniform('alpha', 0, 1)\n"
     ]
    },
    {
     "name": "stdout",
     "output_type": "stream",
     "text": [
      "EvaluatorHoldout: Processed 35595 (100.0%) in 4.61 min. Users per second: 129\n"
     ]
    },
    {
     "name": "stderr",
     "output_type": "stream",
     "text": [
      "[I 2024-12-30 03:24:04,865] Trial 29 finished with value: 0.057652684410372815 and parameters: {'alpha': 0.4813221317625943}. Best is trial 21 with value: 0.06138050979159086.\n",
      "/var/folders/50/7hjr20g17_18p725nbt0qqv00000gn/T/ipykernel_98650/1578609616.py:7: FutureWarning: suggest_uniform has been deprecated in v3.0.0. This feature will be removed in v6.0.0. See https://github.com/optuna/optuna/releases/tag/v3.0.0. Use suggest_float instead.\n",
      "  alpha = trial.suggest_uniform('alpha', 0, 1)\n"
     ]
    },
    {
     "name": "stdout",
     "output_type": "stream",
     "text": [
      "EvaluatorHoldout: Processed 35595 (100.0%) in 4.19 min. Users per second: 142\n"
     ]
    },
    {
     "name": "stderr",
     "output_type": "stream",
     "text": [
      "[I 2024-12-30 03:28:16,433] Trial 30 finished with value: 0.061067367228764394 and parameters: {'alpha': 0.7661352493862729}. Best is trial 21 with value: 0.06138050979159086.\n",
      "/var/folders/50/7hjr20g17_18p725nbt0qqv00000gn/T/ipykernel_98650/1578609616.py:7: FutureWarning: suggest_uniform has been deprecated in v3.0.0. This feature will be removed in v6.0.0. See https://github.com/optuna/optuna/releases/tag/v3.0.0. Use suggest_float instead.\n",
      "  alpha = trial.suggest_uniform('alpha', 0, 1)\n"
     ]
    },
    {
     "name": "stdout",
     "output_type": "stream",
     "text": [
      "EvaluatorHoldout: Processed 35595 (100.0%) in 4.19 min. Users per second: 142\n"
     ]
    },
    {
     "name": "stderr",
     "output_type": "stream",
     "text": [
      "[I 2024-12-30 03:32:27,941] Trial 31 finished with value: 0.06137028564293433 and parameters: {'alpha': 0.896224796515141}. Best is trial 21 with value: 0.06138050979159086.\n",
      "/var/folders/50/7hjr20g17_18p725nbt0qqv00000gn/T/ipykernel_98650/1578609616.py:7: FutureWarning: suggest_uniform has been deprecated in v3.0.0. This feature will be removed in v6.0.0. See https://github.com/optuna/optuna/releases/tag/v3.0.0. Use suggest_float instead.\n",
      "  alpha = trial.suggest_uniform('alpha', 0, 1)\n"
     ]
    },
    {
     "name": "stdout",
     "output_type": "stream",
     "text": [
      "EvaluatorHoldout: Processed 35595 (100.0%) in 4.59 min. Users per second: 129\n"
     ]
    },
    {
     "name": "stderr",
     "output_type": "stream",
     "text": [
      "[I 2024-12-30 03:37:03,792] Trial 32 finished with value: 0.061328429175667026 and parameters: {'alpha': 0.8718430880868724}. Best is trial 21 with value: 0.06138050979159086.\n",
      "/var/folders/50/7hjr20g17_18p725nbt0qqv00000gn/T/ipykernel_98650/1578609616.py:7: FutureWarning: suggest_uniform has been deprecated in v3.0.0. This feature will be removed in v6.0.0. See https://github.com/optuna/optuna/releases/tag/v3.0.0. Use suggest_float instead.\n",
      "  alpha = trial.suggest_uniform('alpha', 0, 1)\n"
     ]
    },
    {
     "name": "stdout",
     "output_type": "stream",
     "text": [
      "EvaluatorHoldout: Processed 35595 (100.0%) in 4.53 min. Users per second: 131\n"
     ]
    },
    {
     "name": "stderr",
     "output_type": "stream",
     "text": [
      "[I 2024-12-30 03:41:35,687] Trial 33 finished with value: 0.06129187486203725 and parameters: {'alpha': 0.8523324969414193}. Best is trial 21 with value: 0.06138050979159086.\n",
      "/var/folders/50/7hjr20g17_18p725nbt0qqv00000gn/T/ipykernel_98650/1578609616.py:7: FutureWarning: suggest_uniform has been deprecated in v3.0.0. This feature will be removed in v6.0.0. See https://github.com/optuna/optuna/releases/tag/v3.0.0. Use suggest_float instead.\n",
      "  alpha = trial.suggest_uniform('alpha', 0, 1)\n"
     ]
    },
    {
     "name": "stdout",
     "output_type": "stream",
     "text": [
      "EvaluatorHoldout: Processed 35595 (100.0%) in 4.40 min. Users per second: 135\n"
     ]
    },
    {
     "name": "stderr",
     "output_type": "stream",
     "text": [
      "[I 2024-12-30 03:46:00,018] Trial 34 finished with value: 0.06136793222696957 and parameters: {'alpha': 0.9436514275969388}. Best is trial 21 with value: 0.06138050979159086.\n",
      "/var/folders/50/7hjr20g17_18p725nbt0qqv00000gn/T/ipykernel_98650/1578609616.py:7: FutureWarning: suggest_uniform has been deprecated in v3.0.0. This feature will be removed in v6.0.0. See https://github.com/optuna/optuna/releases/tag/v3.0.0. Use suggest_float instead.\n",
      "  alpha = trial.suggest_uniform('alpha', 0, 1)\n"
     ]
    },
    {
     "name": "stdout",
     "output_type": "stream",
     "text": [
      "EvaluatorHoldout: Processed 35595 (100.0%) in 4.48 min. Users per second: 132\n"
     ]
    },
    {
     "name": "stderr",
     "output_type": "stream",
     "text": [
      "[I 2024-12-30 03:50:28,820] Trial 35 finished with value: 0.06120968367681209 and parameters: {'alpha': 0.7889641538411553}. Best is trial 21 with value: 0.06138050979159086.\n",
      "/var/folders/50/7hjr20g17_18p725nbt0qqv00000gn/T/ipykernel_98650/1578609616.py:7: FutureWarning: suggest_uniform has been deprecated in v3.0.0. This feature will be removed in v6.0.0. See https://github.com/optuna/optuna/releases/tag/v3.0.0. Use suggest_float instead.\n",
      "  alpha = trial.suggest_uniform('alpha', 0, 1)\n"
     ]
    },
    {
     "name": "stdout",
     "output_type": "stream",
     "text": [
      "EvaluatorHoldout: Processed 35595 (100.0%) in 4.48 min. Users per second: 132\n"
     ]
    },
    {
     "name": "stderr",
     "output_type": "stream",
     "text": [
      "[I 2024-12-30 03:54:57,633] Trial 36 finished with value: 0.04871565919058392 and parameters: {'alpha': 0.002890981328235509}. Best is trial 21 with value: 0.06138050979159086.\n",
      "/var/folders/50/7hjr20g17_18p725nbt0qqv00000gn/T/ipykernel_98650/1578609616.py:7: FutureWarning: suggest_uniform has been deprecated in v3.0.0. This feature will be removed in v6.0.0. See https://github.com/optuna/optuna/releases/tag/v3.0.0. Use suggest_float instead.\n",
      "  alpha = trial.suggest_uniform('alpha', 0, 1)\n"
     ]
    },
    {
     "name": "stdout",
     "output_type": "stream",
     "text": [
      "EvaluatorHoldout: Processed 35595 (100.0%) in 3.97 min. Users per second: 149\n"
     ]
    },
    {
     "name": "stderr",
     "output_type": "stream",
     "text": [
      "[I 2024-12-30 03:58:56,219] Trial 37 finished with value: 0.06136705373725839 and parameters: {'alpha': 0.9243608382883032}. Best is trial 21 with value: 0.06138050979159086.\n",
      "/var/folders/50/7hjr20g17_18p725nbt0qqv00000gn/T/ipykernel_98650/1578609616.py:7: FutureWarning: suggest_uniform has been deprecated in v3.0.0. This feature will be removed in v6.0.0. See https://github.com/optuna/optuna/releases/tag/v3.0.0. Use suggest_float instead.\n",
      "  alpha = trial.suggest_uniform('alpha', 0, 1)\n"
     ]
    },
    {
     "name": "stdout",
     "output_type": "stream",
     "text": [
      "EvaluatorHoldout: Processed 35595 (100.0%) in 4.09 min. Users per second: 145\n"
     ]
    },
    {
     "name": "stderr",
     "output_type": "stream",
     "text": [
      "[I 2024-12-30 04:03:01,832] Trial 38 finished with value: 0.06130330414695988 and parameters: {'alpha': 0.8366089652358938}. Best is trial 21 with value: 0.06138050979159086.\n",
      "/var/folders/50/7hjr20g17_18p725nbt0qqv00000gn/T/ipykernel_98650/1578609616.py:7: FutureWarning: suggest_uniform has been deprecated in v3.0.0. This feature will be removed in v6.0.0. See https://github.com/optuna/optuna/releases/tag/v3.0.0. Use suggest_float instead.\n",
      "  alpha = trial.suggest_uniform('alpha', 0, 1)\n"
     ]
    },
    {
     "name": "stdout",
     "output_type": "stream",
     "text": [
      "EvaluatorHoldout: Processed 35595 (100.0%) in 4.29 min. Users per second: 138\n"
     ]
    },
    {
     "name": "stderr",
     "output_type": "stream",
     "text": [
      "[I 2024-12-30 04:07:19,182] Trial 39 finished with value: 0.06134363775008342 and parameters: {'alpha': 0.9661571901552073}. Best is trial 21 with value: 0.06138050979159086.\n",
      "/var/folders/50/7hjr20g17_18p725nbt0qqv00000gn/T/ipykernel_98650/1578609616.py:7: FutureWarning: suggest_uniform has been deprecated in v3.0.0. This feature will be removed in v6.0.0. See https://github.com/optuna/optuna/releases/tag/v3.0.0. Use suggest_float instead.\n",
      "  alpha = trial.suggest_uniform('alpha', 0, 1)\n"
     ]
    },
    {
     "name": "stdout",
     "output_type": "stream",
     "text": [
      "EvaluatorHoldout: Processed 35595 (100.0%) in 4.21 min. Users per second: 141\n"
     ]
    },
    {
     "name": "stderr",
     "output_type": "stream",
     "text": [
      "[I 2024-12-30 04:11:32,037] Trial 40 finished with value: 0.0606287778959487 and parameters: {'alpha': 0.7027095248203156}. Best is trial 21 with value: 0.06138050979159086.\n",
      "/var/folders/50/7hjr20g17_18p725nbt0qqv00000gn/T/ipykernel_98650/1578609616.py:7: FutureWarning: suggest_uniform has been deprecated in v3.0.0. This feature will be removed in v6.0.0. See https://github.com/optuna/optuna/releases/tag/v3.0.0. Use suggest_float instead.\n",
      "  alpha = trial.suggest_uniform('alpha', 0, 1)\n"
     ]
    },
    {
     "name": "stdout",
     "output_type": "stream",
     "text": [
      "EvaluatorHoldout: Processed 35595 (100.0%) in 4.39 min. Users per second: 135\n"
     ]
    },
    {
     "name": "stderr",
     "output_type": "stream",
     "text": [
      "[I 2024-12-30 04:15:55,772] Trial 41 finished with value: 0.06133417726316812 and parameters: {'alpha': 0.950293800357585}. Best is trial 21 with value: 0.06138050979159086.\n",
      "/var/folders/50/7hjr20g17_18p725nbt0qqv00000gn/T/ipykernel_98650/1578609616.py:7: FutureWarning: suggest_uniform has been deprecated in v3.0.0. This feature will be removed in v6.0.0. See https://github.com/optuna/optuna/releases/tag/v3.0.0. Use suggest_float instead.\n",
      "  alpha = trial.suggest_uniform('alpha', 0, 1)\n"
     ]
    },
    {
     "name": "stdout",
     "output_type": "stream",
     "text": [
      "EvaluatorHoldout: Processed 35595 (100.0%) in 4.25 min. Users per second: 139\n"
     ]
    },
    {
     "name": "stderr",
     "output_type": "stream",
     "text": [
      "[I 2024-12-30 04:20:11,197] Trial 42 finished with value: 0.0613636534915487 and parameters: {'alpha': 0.8861988142079852}. Best is trial 21 with value: 0.06138050979159086.\n",
      "/var/folders/50/7hjr20g17_18p725nbt0qqv00000gn/T/ipykernel_98650/1578609616.py:7: FutureWarning: suggest_uniform has been deprecated in v3.0.0. This feature will be removed in v6.0.0. See https://github.com/optuna/optuna/releases/tag/v3.0.0. Use suggest_float instead.\n",
      "  alpha = trial.suggest_uniform('alpha', 0, 1)\n"
     ]
    },
    {
     "name": "stdout",
     "output_type": "stream",
     "text": [
      "EvaluatorHoldout: Processed 35595 (100.0%) in 4.27 min. Users per second: 139\n"
     ]
    },
    {
     "name": "stderr",
     "output_type": "stream",
     "text": [
      "[I 2024-12-30 04:24:27,872] Trial 43 finished with value: 0.06135420638264949 and parameters: {'alpha': 0.9262143785953078}. Best is trial 21 with value: 0.06138050979159086.\n",
      "/var/folders/50/7hjr20g17_18p725nbt0qqv00000gn/T/ipykernel_98650/1578609616.py:7: FutureWarning: suggest_uniform has been deprecated in v3.0.0. This feature will be removed in v6.0.0. See https://github.com/optuna/optuna/releases/tag/v3.0.0. Use suggest_float instead.\n",
      "  alpha = trial.suggest_uniform('alpha', 0, 1)\n"
     ]
    },
    {
     "name": "stdout",
     "output_type": "stream",
     "text": [
      "EvaluatorHoldout: Processed 35595 (100.0%) in 4.13 min. Users per second: 144\n"
     ]
    },
    {
     "name": "stderr",
     "output_type": "stream",
     "text": [
      "[I 2024-12-30 04:28:35,851] Trial 44 finished with value: 0.06128083353957579 and parameters: {'alpha': 0.8272606574070346}. Best is trial 21 with value: 0.06138050979159086.\n",
      "/var/folders/50/7hjr20g17_18p725nbt0qqv00000gn/T/ipykernel_98650/1578609616.py:7: FutureWarning: suggest_uniform has been deprecated in v3.0.0. This feature will be removed in v6.0.0. See https://github.com/optuna/optuna/releases/tag/v3.0.0. Use suggest_float instead.\n",
      "  alpha = trial.suggest_uniform('alpha', 0, 1)\n"
     ]
    },
    {
     "name": "stdout",
     "output_type": "stream",
     "text": [
      "EvaluatorHoldout: Processed 35595 (100.0%) in 4.10 min. Users per second: 145\n"
     ]
    },
    {
     "name": "stderr",
     "output_type": "stream",
     "text": [
      "[I 2024-12-30 04:32:41,996] Trial 45 finished with value: 0.061337062455265275 and parameters: {'alpha': 0.9504654048481764}. Best is trial 21 with value: 0.06138050979159086.\n",
      "/var/folders/50/7hjr20g17_18p725nbt0qqv00000gn/T/ipykernel_98650/1578609616.py:7: FutureWarning: suggest_uniform has been deprecated in v3.0.0. This feature will be removed in v6.0.0. See https://github.com/optuna/optuna/releases/tag/v3.0.0. Use suggest_float instead.\n",
      "  alpha = trial.suggest_uniform('alpha', 0, 1)\n"
     ]
    },
    {
     "name": "stdout",
     "output_type": "stream",
     "text": [
      "EvaluatorHoldout: Processed 35595 (100.0%) in 4.06 min. Users per second: 146\n"
     ]
    },
    {
     "name": "stderr",
     "output_type": "stream",
     "text": [
      "[I 2024-12-30 04:36:45,480] Trial 46 finished with value: 0.061043438417646416 and parameters: {'alpha': 0.7618075714670056}. Best is trial 21 with value: 0.06138050979159086.\n",
      "/var/folders/50/7hjr20g17_18p725nbt0qqv00000gn/T/ipykernel_98650/1578609616.py:7: FutureWarning: suggest_uniform has been deprecated in v3.0.0. This feature will be removed in v6.0.0. See https://github.com/optuna/optuna/releases/tag/v3.0.0. Use suggest_float instead.\n",
      "  alpha = trial.suggest_uniform('alpha', 0, 1)\n"
     ]
    },
    {
     "name": "stdout",
     "output_type": "stream",
     "text": [
      "EvaluatorHoldout: Processed 35595 (100.0%) in 4.07 min. Users per second: 146\n"
     ]
    },
    {
     "name": "stderr",
     "output_type": "stream",
     "text": [
      "[I 2024-12-30 04:40:49,930] Trial 47 finished with value: 0.06131188725899862 and parameters: {'alpha': 0.8641509979630481}. Best is trial 21 with value: 0.06138050979159086.\n",
      "/var/folders/50/7hjr20g17_18p725nbt0qqv00000gn/T/ipykernel_98650/1578609616.py:7: FutureWarning: suggest_uniform has been deprecated in v3.0.0. This feature will be removed in v6.0.0. See https://github.com/optuna/optuna/releases/tag/v3.0.0. Use suggest_float instead.\n",
      "  alpha = trial.suggest_uniform('alpha', 0, 1)\n"
     ]
    },
    {
     "name": "stdout",
     "output_type": "stream",
     "text": [
      "EvaluatorHoldout: Processed 35595 (100.0%) in 4.03 min. Users per second: 147\n"
     ]
    },
    {
     "name": "stderr",
     "output_type": "stream",
     "text": [
      "[I 2024-12-30 04:44:52,082] Trial 48 finished with value: 0.0612034495213996 and parameters: {'alpha': 0.9943228944220902}. Best is trial 21 with value: 0.06138050979159086.\n",
      "/var/folders/50/7hjr20g17_18p725nbt0qqv00000gn/T/ipykernel_98650/1578609616.py:7: FutureWarning: suggest_uniform has been deprecated in v3.0.0. This feature will be removed in v6.0.0. See https://github.com/optuna/optuna/releases/tag/v3.0.0. Use suggest_float instead.\n",
      "  alpha = trial.suggest_uniform('alpha', 0, 1)\n"
     ]
    },
    {
     "name": "stdout",
     "output_type": "stream",
     "text": [
      "EvaluatorHoldout: Processed 35595 (100.0%) in 4.11 min. Users per second: 144\n"
     ]
    },
    {
     "name": "stderr",
     "output_type": "stream",
     "text": [
      "[I 2024-12-30 04:48:58,959] Trial 49 finished with value: 0.05948339230808496 and parameters: {'alpha': 0.6000835950292094}. Best is trial 21 with value: 0.06138050979159086.\n",
      "/var/folders/50/7hjr20g17_18p725nbt0qqv00000gn/T/ipykernel_98650/1578609616.py:7: FutureWarning: suggest_uniform has been deprecated in v3.0.0. This feature will be removed in v6.0.0. See https://github.com/optuna/optuna/releases/tag/v3.0.0. Use suggest_float instead.\n",
      "  alpha = trial.suggest_uniform('alpha', 0, 1)\n"
     ]
    },
    {
     "name": "stdout",
     "output_type": "stream",
     "text": [
      "EvaluatorHoldout: Processed 35595 (100.0%) in 4.30 min. Users per second: 138\n"
     ]
    },
    {
     "name": "stderr",
     "output_type": "stream",
     "text": [
      "[I 2024-12-30 04:53:17,241] Trial 50 finished with value: 0.06125424361812702 and parameters: {'alpha': 0.8018256047855655}. Best is trial 21 with value: 0.06138050979159086.\n",
      "/var/folders/50/7hjr20g17_18p725nbt0qqv00000gn/T/ipykernel_98650/1578609616.py:7: FutureWarning: suggest_uniform has been deprecated in v3.0.0. This feature will be removed in v6.0.0. See https://github.com/optuna/optuna/releases/tag/v3.0.0. Use suggest_float instead.\n",
      "  alpha = trial.suggest_uniform('alpha', 0, 1)\n"
     ]
    },
    {
     "name": "stdout",
     "output_type": "stream",
     "text": [
      "EvaluatorHoldout: Processed 35595 (100.0%) in 3.92 min. Users per second: 151\n"
     ]
    },
    {
     "name": "stderr",
     "output_type": "stream",
     "text": [
      "[I 2024-12-30 04:57:12,840] Trial 51 finished with value: 0.06135024871961053 and parameters: {'alpha': 0.929984280406605}. Best is trial 21 with value: 0.06138050979159086.\n",
      "/var/folders/50/7hjr20g17_18p725nbt0qqv00000gn/T/ipykernel_98650/1578609616.py:7: FutureWarning: suggest_uniform has been deprecated in v3.0.0. This feature will be removed in v6.0.0. See https://github.com/optuna/optuna/releases/tag/v3.0.0. Use suggest_float instead.\n",
      "  alpha = trial.suggest_uniform('alpha', 0, 1)\n"
     ]
    },
    {
     "name": "stdout",
     "output_type": "stream",
     "text": [
      "EvaluatorHoldout: Processed 35595 (100.0%) in 4.29 min. Users per second: 138\n"
     ]
    },
    {
     "name": "stderr",
     "output_type": "stream",
     "text": [
      "[I 2024-12-30 05:01:30,463] Trial 52 finished with value: 0.06136218859880678 and parameters: {'alpha': 0.9090264127832435}. Best is trial 21 with value: 0.06138050979159086.\n",
      "/var/folders/50/7hjr20g17_18p725nbt0qqv00000gn/T/ipykernel_98650/1578609616.py:7: FutureWarning: suggest_uniform has been deprecated in v3.0.0. This feature will be removed in v6.0.0. See https://github.com/optuna/optuna/releases/tag/v3.0.0. Use suggest_float instead.\n",
      "  alpha = trial.suggest_uniform('alpha', 0, 1)\n"
     ]
    },
    {
     "name": "stdout",
     "output_type": "stream",
     "text": [
      "EvaluatorHoldout: Processed 35595 (100.0%) in 4.27 min. Users per second: 139\n"
     ]
    },
    {
     "name": "stderr",
     "output_type": "stream",
     "text": [
      "[I 2024-12-30 05:05:46,860] Trial 53 finished with value: 0.061327150460313395 and parameters: {'alpha': 0.9553615215979132}. Best is trial 21 with value: 0.06138050979159086.\n",
      "/var/folders/50/7hjr20g17_18p725nbt0qqv00000gn/T/ipykernel_98650/1578609616.py:7: FutureWarning: suggest_uniform has been deprecated in v3.0.0. This feature will be removed in v6.0.0. See https://github.com/optuna/optuna/releases/tag/v3.0.0. Use suggest_float instead.\n",
      "  alpha = trial.suggest_uniform('alpha', 0, 1)\n"
     ]
    },
    {
     "name": "stdout",
     "output_type": "stream",
     "text": [
      "EvaluatorHoldout: Processed 35595 (100.0%) in 4.27 min. Users per second: 139\n"
     ]
    },
    {
     "name": "stderr",
     "output_type": "stream",
     "text": [
      "[I 2024-12-30 05:10:03,445] Trial 54 finished with value: 0.053760775434393476 and parameters: {'alpha': 0.2670119248889541}. Best is trial 21 with value: 0.06138050979159086.\n",
      "/var/folders/50/7hjr20g17_18p725nbt0qqv00000gn/T/ipykernel_98650/1578609616.py:7: FutureWarning: suggest_uniform has been deprecated in v3.0.0. This feature will be removed in v6.0.0. See https://github.com/optuna/optuna/releases/tag/v3.0.0. Use suggest_float instead.\n",
      "  alpha = trial.suggest_uniform('alpha', 0, 1)\n"
     ]
    },
    {
     "name": "stdout",
     "output_type": "stream",
     "text": [
      "EvaluatorHoldout: Processed 35595 (100.0%) in 4.22 min. Users per second: 141\n"
     ]
    },
    {
     "name": "stderr",
     "output_type": "stream",
     "text": [
      "[I 2024-12-30 05:14:16,911] Trial 55 finished with value: 0.06138079184475956 and parameters: {'alpha': 0.8937122470856019}. Best is trial 55 with value: 0.06138079184475956.\n",
      "/var/folders/50/7hjr20g17_18p725nbt0qqv00000gn/T/ipykernel_98650/1578609616.py:7: FutureWarning: suggest_uniform has been deprecated in v3.0.0. This feature will be removed in v6.0.0. See https://github.com/optuna/optuna/releases/tag/v3.0.0. Use suggest_float instead.\n",
      "  alpha = trial.suggest_uniform('alpha', 0, 1)\n"
     ]
    },
    {
     "name": "stdout",
     "output_type": "stream",
     "text": [
      "EvaluatorHoldout: Processed 35595 (100.0%) in 4.38 min. Users per second: 135\n"
     ]
    },
    {
     "name": "stderr",
     "output_type": "stream",
     "text": [
      "[I 2024-12-30 05:18:40,119] Trial 56 finished with value: 0.05772969384410365 and parameters: {'alpha': 0.48611481688596336}. Best is trial 55 with value: 0.06138079184475956.\n",
      "/var/folders/50/7hjr20g17_18p725nbt0qqv00000gn/T/ipykernel_98650/1578609616.py:7: FutureWarning: suggest_uniform has been deprecated in v3.0.0. This feature will be removed in v6.0.0. See https://github.com/optuna/optuna/releases/tag/v3.0.0. Use suggest_float instead.\n",
      "  alpha = trial.suggest_uniform('alpha', 0, 1)\n"
     ]
    },
    {
     "name": "stdout",
     "output_type": "stream",
     "text": [
      "EvaluatorHoldout: Processed 35595 (100.0%) in 4.24 min. Users per second: 140\n"
     ]
    },
    {
     "name": "stderr",
     "output_type": "stream",
     "text": [
      "[I 2024-12-30 05:22:54,851] Trial 57 finished with value: 0.061350373581092264 and parameters: {'alpha': 0.8822704384876734}. Best is trial 55 with value: 0.06138079184475956.\n",
      "/var/folders/50/7hjr20g17_18p725nbt0qqv00000gn/T/ipykernel_98650/1578609616.py:7: FutureWarning: suggest_uniform has been deprecated in v3.0.0. This feature will be removed in v6.0.0. See https://github.com/optuna/optuna/releases/tag/v3.0.0. Use suggest_float instead.\n",
      "  alpha = trial.suggest_uniform('alpha', 0, 1)\n"
     ]
    },
    {
     "name": "stdout",
     "output_type": "stream",
     "text": [
      "EvaluatorHoldout: Processed 35595 (100.0%) in 4.04 min. Users per second: 147\n"
     ]
    },
    {
     "name": "stderr",
     "output_type": "stream",
     "text": [
      "[I 2024-12-30 05:26:57,377] Trial 58 finished with value: 0.061326067955859376 and parameters: {'alpha': 0.8447390512517065}. Best is trial 55 with value: 0.06138079184475956.\n",
      "/var/folders/50/7hjr20g17_18p725nbt0qqv00000gn/T/ipykernel_98650/1578609616.py:7: FutureWarning: suggest_uniform has been deprecated in v3.0.0. This feature will be removed in v6.0.0. See https://github.com/optuna/optuna/releases/tag/v3.0.0. Use suggest_float instead.\n",
      "  alpha = trial.suggest_uniform('alpha', 0, 1)\n"
     ]
    },
    {
     "name": "stdout",
     "output_type": "stream",
     "text": [
      "EvaluatorHoldout: Processed 35595 (100.0%) in 3.96 min. Users per second: 150\n"
     ]
    },
    {
     "name": "stderr",
     "output_type": "stream",
     "text": [
      "[I 2024-12-30 05:30:55,283] Trial 59 finished with value: 0.06082869896565478 and parameters: {'alpha': 0.7284940442268375}. Best is trial 55 with value: 0.06138079184475956.\n",
      "/var/folders/50/7hjr20g17_18p725nbt0qqv00000gn/T/ipykernel_98650/1578609616.py:7: FutureWarning: suggest_uniform has been deprecated in v3.0.0. This feature will be removed in v6.0.0. See https://github.com/optuna/optuna/releases/tag/v3.0.0. Use suggest_float instead.\n",
      "  alpha = trial.suggest_uniform('alpha', 0, 1)\n"
     ]
    },
    {
     "name": "stdout",
     "output_type": "stream",
     "text": [
      "EvaluatorHoldout: Processed 35595 (100.0%) in 4.28 min. Users per second: 139\n"
     ]
    },
    {
     "name": "stderr",
     "output_type": "stream",
     "text": [
      "[I 2024-12-30 05:35:12,377] Trial 60 finished with value: 0.061262959395490056 and parameters: {'alpha': 0.8103018224364403}. Best is trial 55 with value: 0.06138079184475956.\n",
      "/var/folders/50/7hjr20g17_18p725nbt0qqv00000gn/T/ipykernel_98650/1578609616.py:7: FutureWarning: suggest_uniform has been deprecated in v3.0.0. This feature will be removed in v6.0.0. See https://github.com/optuna/optuna/releases/tag/v3.0.0. Use suggest_float instead.\n",
      "  alpha = trial.suggest_uniform('alpha', 0, 1)\n"
     ]
    },
    {
     "name": "stdout",
     "output_type": "stream",
     "text": [
      "EvaluatorHoldout: Processed 35595 (100.0%) in 4.24 min. Users per second: 140\n"
     ]
    },
    {
     "name": "stderr",
     "output_type": "stream",
     "text": [
      "[I 2024-12-30 05:39:26,651] Trial 61 finished with value: 0.061357403728451 and parameters: {'alpha': 0.9127434063985099}. Best is trial 55 with value: 0.06138079184475956.\n",
      "/var/folders/50/7hjr20g17_18p725nbt0qqv00000gn/T/ipykernel_98650/1578609616.py:7: FutureWarning: suggest_uniform has been deprecated in v3.0.0. This feature will be removed in v6.0.0. See https://github.com/optuna/optuna/releases/tag/v3.0.0. Use suggest_float instead.\n",
      "  alpha = trial.suggest_uniform('alpha', 0, 1)\n"
     ]
    },
    {
     "name": "stdout",
     "output_type": "stream",
     "text": [
      "EvaluatorHoldout: Processed 35595 (100.0%) in 4.34 min. Users per second: 137\n"
     ]
    },
    {
     "name": "stderr",
     "output_type": "stream",
     "text": [
      "[I 2024-12-30 05:43:47,148] Trial 62 finished with value: 0.061330523949991125 and parameters: {'alpha': 0.9672169467112729}. Best is trial 55 with value: 0.06138079184475956.\n",
      "/var/folders/50/7hjr20g17_18p725nbt0qqv00000gn/T/ipykernel_98650/1578609616.py:7: FutureWarning: suggest_uniform has been deprecated in v3.0.0. This feature will be removed in v6.0.0. See https://github.com/optuna/optuna/releases/tag/v3.0.0. Use suggest_float instead.\n",
      "  alpha = trial.suggest_uniform('alpha', 0, 1)\n"
     ]
    },
    {
     "name": "stdout",
     "output_type": "stream",
     "text": [
      "EvaluatorHoldout: Processed 35595 (100.0%) in 4.21 min. Users per second: 141\n"
     ]
    },
    {
     "name": "stderr",
     "output_type": "stream",
     "text": [
      "[I 2024-12-30 05:47:59,706] Trial 63 finished with value: 0.06138277959495626 and parameters: {'alpha': 0.8970963152710164}. Best is trial 63 with value: 0.06138277959495626.\n",
      "/var/folders/50/7hjr20g17_18p725nbt0qqv00000gn/T/ipykernel_98650/1578609616.py:7: FutureWarning: suggest_uniform has been deprecated in v3.0.0. This feature will be removed in v6.0.0. See https://github.com/optuna/optuna/releases/tag/v3.0.0. Use suggest_float instead.\n",
      "  alpha = trial.suggest_uniform('alpha', 0, 1)\n"
     ]
    },
    {
     "name": "stdout",
     "output_type": "stream",
     "text": [
      "EvaluatorHoldout: Processed 35595 (100.0%) in 4.50 min. Users per second: 132\n"
     ]
    },
    {
     "name": "stderr",
     "output_type": "stream",
     "text": [
      "[I 2024-12-30 05:52:29,705] Trial 64 finished with value: 0.061205887664798474 and parameters: {'alpha': 0.9991410142340252}. Best is trial 63 with value: 0.06138277959495626.\n",
      "/var/folders/50/7hjr20g17_18p725nbt0qqv00000gn/T/ipykernel_98650/1578609616.py:7: FutureWarning: suggest_uniform has been deprecated in v3.0.0. This feature will be removed in v6.0.0. See https://github.com/optuna/optuna/releases/tag/v3.0.0. Use suggest_float instead.\n",
      "  alpha = trial.suggest_uniform('alpha', 0, 1)\n"
     ]
    },
    {
     "name": "stdout",
     "output_type": "stream",
     "text": [
      "EvaluatorHoldout: Processed 35595 (100.0%) in 4.43 min. Users per second: 134\n"
     ]
    },
    {
     "name": "stderr",
     "output_type": "stream",
     "text": [
      "[I 2024-12-30 05:56:55,403] Trial 65 finished with value: 0.0613400658198363 and parameters: {'alpha': 0.8837737188032679}. Best is trial 63 with value: 0.06138277959495626.\n",
      "/var/folders/50/7hjr20g17_18p725nbt0qqv00000gn/T/ipykernel_98650/1578609616.py:7: FutureWarning: suggest_uniform has been deprecated in v3.0.0. This feature will be removed in v6.0.0. See https://github.com/optuna/optuna/releases/tag/v3.0.0. Use suggest_float instead.\n",
      "  alpha = trial.suggest_uniform('alpha', 0, 1)\n"
     ]
    },
    {
     "name": "stdout",
     "output_type": "stream",
     "text": [
      "EvaluatorHoldout: Processed 35595 (100.0%) in 4.01 min. Users per second: 148\n"
     ]
    },
    {
     "name": "stderr",
     "output_type": "stream",
     "text": [
      "[I 2024-12-30 06:00:56,283] Trial 66 finished with value: 0.06115073567938946 and parameters: {'alpha': 0.7765782346905894}. Best is trial 63 with value: 0.06138277959495626.\n",
      "/var/folders/50/7hjr20g17_18p725nbt0qqv00000gn/T/ipykernel_98650/1578609616.py:7: FutureWarning: suggest_uniform has been deprecated in v3.0.0. This feature will be removed in v6.0.0. See https://github.com/optuna/optuna/releases/tag/v3.0.0. Use suggest_float instead.\n",
      "  alpha = trial.suggest_uniform('alpha', 0, 1)\n"
     ]
    },
    {
     "name": "stdout",
     "output_type": "stream",
     "text": [
      "EvaluatorHoldout: Processed 35595 (100.0%) in 3.97 min. Users per second: 149\n"
     ]
    },
    {
     "name": "stderr",
     "output_type": "stream",
     "text": [
      "[I 2024-12-30 06:04:54,957] Trial 67 finished with value: 0.06128295284026225 and parameters: {'alpha': 0.8493321766978772}. Best is trial 63 with value: 0.06138277959495626.\n",
      "/var/folders/50/7hjr20g17_18p725nbt0qqv00000gn/T/ipykernel_98650/1578609616.py:7: FutureWarning: suggest_uniform has been deprecated in v3.0.0. This feature will be removed in v6.0.0. See https://github.com/optuna/optuna/releases/tag/v3.0.0. Use suggest_float instead.\n",
      "  alpha = trial.suggest_uniform('alpha', 0, 1)\n"
     ]
    },
    {
     "name": "stdout",
     "output_type": "stream",
     "text": [
      "EvaluatorHoldout: Processed 35595 (100.0%) in 4.24 min. Users per second: 140\n"
     ]
    },
    {
     "name": "stderr",
     "output_type": "stream",
     "text": [
      "[I 2024-12-30 06:09:09,287] Trial 68 finished with value: 0.05878631629642796 and parameters: {'alpha': 0.554607709793438}. Best is trial 63 with value: 0.06138277959495626.\n",
      "/var/folders/50/7hjr20g17_18p725nbt0qqv00000gn/T/ipykernel_98650/1578609616.py:7: FutureWarning: suggest_uniform has been deprecated in v3.0.0. This feature will be removed in v6.0.0. See https://github.com/optuna/optuna/releases/tag/v3.0.0. Use suggest_float instead.\n",
      "  alpha = trial.suggest_uniform('alpha', 0, 1)\n"
     ]
    },
    {
     "name": "stdout",
     "output_type": "stream",
     "text": [
      "EvaluatorHoldout: Processed 35595 (100.0%) in 4.10 min. Users per second: 145\n"
     ]
    },
    {
     "name": "stderr",
     "output_type": "stream",
     "text": [
      "[I 2024-12-30 06:13:15,127] Trial 69 finished with value: 0.061352567575701004 and parameters: {'alpha': 0.9462188514371958}. Best is trial 63 with value: 0.06138277959495626.\n",
      "/var/folders/50/7hjr20g17_18p725nbt0qqv00000gn/T/ipykernel_98650/1578609616.py:7: FutureWarning: suggest_uniform has been deprecated in v3.0.0. This feature will be removed in v6.0.0. See https://github.com/optuna/optuna/releases/tag/v3.0.0. Use suggest_float instead.\n",
      "  alpha = trial.suggest_uniform('alpha', 0, 1)\n"
     ]
    },
    {
     "name": "stdout",
     "output_type": "stream",
     "text": [
      "EvaluatorHoldout: Processed 35595 (100.0%) in 4.06 min. Users per second: 146\n"
     ]
    },
    {
     "name": "stderr",
     "output_type": "stream",
     "text": [
      "[I 2024-12-30 06:17:18,638] Trial 70 finished with value: 0.06086526777213505 and parameters: {'alpha': 0.7344918428263671}. Best is trial 63 with value: 0.06138277959495626.\n",
      "/var/folders/50/7hjr20g17_18p725nbt0qqv00000gn/T/ipykernel_98650/1578609616.py:7: FutureWarning: suggest_uniform has been deprecated in v3.0.0. This feature will be removed in v6.0.0. See https://github.com/optuna/optuna/releases/tag/v3.0.0. Use suggest_float instead.\n",
      "  alpha = trial.suggest_uniform('alpha', 0, 1)\n"
     ]
    },
    {
     "name": "stdout",
     "output_type": "stream",
     "text": [
      "EvaluatorHoldout: Processed 35595 (100.0%) in 3.80 min. Users per second: 156\n"
     ]
    },
    {
     "name": "stderr",
     "output_type": "stream",
     "text": [
      "[I 2024-12-30 06:21:07,038] Trial 71 finished with value: 0.06136069360552931 and parameters: {'alpha': 0.9012433584715205}. Best is trial 63 with value: 0.06138277959495626.\n",
      "/var/folders/50/7hjr20g17_18p725nbt0qqv00000gn/T/ipykernel_98650/1578609616.py:7: FutureWarning: suggest_uniform has been deprecated in v3.0.0. This feature will be removed in v6.0.0. See https://github.com/optuna/optuna/releases/tag/v3.0.0. Use suggest_float instead.\n",
      "  alpha = trial.suggest_uniform('alpha', 0, 1)\n"
     ]
    },
    {
     "name": "stdout",
     "output_type": "stream",
     "text": [
      "EvaluatorHoldout: Processed 35595 (100.0%) in 4.13 min. Users per second: 144\n"
     ]
    },
    {
     "name": "stderr",
     "output_type": "stream",
     "text": [
      "[I 2024-12-30 06:25:14,988] Trial 72 finished with value: 0.06135174928706132 and parameters: {'alpha': 0.9281229626971759}. Best is trial 63 with value: 0.06138277959495626.\n",
      "/var/folders/50/7hjr20g17_18p725nbt0qqv00000gn/T/ipykernel_98650/1578609616.py:7: FutureWarning: suggest_uniform has been deprecated in v3.0.0. This feature will be removed in v6.0.0. See https://github.com/optuna/optuna/releases/tag/v3.0.0. Use suggest_float instead.\n",
      "  alpha = trial.suggest_uniform('alpha', 0, 1)\n"
     ]
    },
    {
     "name": "stdout",
     "output_type": "stream",
     "text": [
      "EvaluatorHoldout: Processed 35595 (100.0%) in 4.13 min. Users per second: 144\n"
     ]
    },
    {
     "name": "stderr",
     "output_type": "stream",
     "text": [
      "[I 2024-12-30 06:29:23,080] Trial 73 finished with value: 0.06130806114644938 and parameters: {'alpha': 0.9716939405637052}. Best is trial 63 with value: 0.06138277959495626.\n",
      "/var/folders/50/7hjr20g17_18p725nbt0qqv00000gn/T/ipykernel_98650/1578609616.py:7: FutureWarning: suggest_uniform has been deprecated in v3.0.0. This feature will be removed in v6.0.0. See https://github.com/optuna/optuna/releases/tag/v3.0.0. Use suggest_float instead.\n",
      "  alpha = trial.suggest_uniform('alpha', 0, 1)\n"
     ]
    },
    {
     "name": "stdout",
     "output_type": "stream",
     "text": [
      "EvaluatorHoldout: Processed 35595 (100.0%) in 3.72 min. Users per second: 160\n"
     ]
    },
    {
     "name": "stderr",
     "output_type": "stream",
     "text": [
      "[I 2024-12-30 06:33:06,259] Trial 74 finished with value: 0.06127398845477031 and parameters: {'alpha': 0.8259459448144739}. Best is trial 63 with value: 0.06138277959495626.\n",
      "/var/folders/50/7hjr20g17_18p725nbt0qqv00000gn/T/ipykernel_98650/1578609616.py:7: FutureWarning: suggest_uniform has been deprecated in v3.0.0. This feature will be removed in v6.0.0. See https://github.com/optuna/optuna/releases/tag/v3.0.0. Use suggest_float instead.\n",
      "  alpha = trial.suggest_uniform('alpha', 0, 1)\n"
     ]
    },
    {
     "name": "stdout",
     "output_type": "stream",
     "text": [
      "EvaluatorHoldout: Processed 35595 (100.0%) in 3.63 min. Users per second: 164\n"
     ]
    },
    {
     "name": "stderr",
     "output_type": "stream",
     "text": [
      "[I 2024-12-30 06:36:43,967] Trial 75 finished with value: 0.06131425851231806 and parameters: {'alpha': 0.8572222351975116}. Best is trial 63 with value: 0.06138277959495626.\n",
      "/var/folders/50/7hjr20g17_18p725nbt0qqv00000gn/T/ipykernel_98650/1578609616.py:7: FutureWarning: suggest_uniform has been deprecated in v3.0.0. This feature will be removed in v6.0.0. See https://github.com/optuna/optuna/releases/tag/v3.0.0. Use suggest_float instead.\n",
      "  alpha = trial.suggest_uniform('alpha', 0, 1)\n"
     ]
    },
    {
     "name": "stdout",
     "output_type": "stream",
     "text": [
      "EvaluatorHoldout: Processed 35595 (100.0%) in 3.74 min. Users per second: 159\n"
     ]
    },
    {
     "name": "stderr",
     "output_type": "stream",
     "text": [
      "[I 2024-12-30 06:40:28,424] Trial 76 finished with value: 0.061383204346961324 and parameters: {'alpha': 0.8974985572967044}. Best is trial 76 with value: 0.061383204346961324.\n",
      "/var/folders/50/7hjr20g17_18p725nbt0qqv00000gn/T/ipykernel_98650/1578609616.py:7: FutureWarning: suggest_uniform has been deprecated in v3.0.0. This feature will be removed in v6.0.0. See https://github.com/optuna/optuna/releases/tag/v3.0.0. Use suggest_float instead.\n",
      "  alpha = trial.suggest_uniform('alpha', 0, 1)\n"
     ]
    },
    {
     "name": "stdout",
     "output_type": "stream",
     "text": [
      "EvaluatorHoldout: Processed 35595 (100.0%) in 3.99 min. Users per second: 149\n"
     ]
    },
    {
     "name": "stderr",
     "output_type": "stream",
     "text": [
      "[I 2024-12-30 06:44:27,833] Trial 77 finished with value: 0.05691962599526652 and parameters: {'alpha': 0.43760174259293244}. Best is trial 76 with value: 0.061383204346961324.\n",
      "/var/folders/50/7hjr20g17_18p725nbt0qqv00000gn/T/ipykernel_98650/1578609616.py:7: FutureWarning: suggest_uniform has been deprecated in v3.0.0. This feature will be removed in v6.0.0. See https://github.com/optuna/optuna/releases/tag/v3.0.0. Use suggest_float instead.\n",
      "  alpha = trial.suggest_uniform('alpha', 0, 1)\n"
     ]
    },
    {
     "name": "stdout",
     "output_type": "stream",
     "text": [
      "EvaluatorHoldout: Processed 35595 (100.0%) in 3.93 min. Users per second: 151\n"
     ]
    },
    {
     "name": "stderr",
     "output_type": "stream",
     "text": [
      "[I 2024-12-30 06:48:23,546] Trial 78 finished with value: 0.060466249495535744 and parameters: {'alpha': 0.6839161843869745}. Best is trial 76 with value: 0.061383204346961324.\n",
      "/var/folders/50/7hjr20g17_18p725nbt0qqv00000gn/T/ipykernel_98650/1578609616.py:7: FutureWarning: suggest_uniform has been deprecated in v3.0.0. This feature will be removed in v6.0.0. See https://github.com/optuna/optuna/releases/tag/v3.0.0. Use suggest_float instead.\n",
      "  alpha = trial.suggest_uniform('alpha', 0, 1)\n"
     ]
    },
    {
     "name": "stdout",
     "output_type": "stream",
     "text": [
      "EvaluatorHoldout: Processed 35595 (100.0%) in 3.80 min. Users per second: 156\n"
     ]
    },
    {
     "name": "stderr",
     "output_type": "stream",
     "text": [
      "[I 2024-12-30 06:52:11,425] Trial 79 finished with value: 0.061374751670577724 and parameters: {'alpha': 0.8872218018091735}. Best is trial 76 with value: 0.061383204346961324.\n",
      "/var/folders/50/7hjr20g17_18p725nbt0qqv00000gn/T/ipykernel_98650/1578609616.py:7: FutureWarning: suggest_uniform has been deprecated in v3.0.0. This feature will be removed in v6.0.0. See https://github.com/optuna/optuna/releases/tag/v3.0.0. Use suggest_float instead.\n",
      "  alpha = trial.suggest_uniform('alpha', 0, 1)\n"
     ]
    },
    {
     "name": "stdout",
     "output_type": "stream",
     "text": [
      "EvaluatorHoldout: Processed 35595 (100.0%) in 3.85 min. Users per second: 154\n"
     ]
    },
    {
     "name": "stderr",
     "output_type": "stream",
     "text": [
      "[I 2024-12-30 06:56:02,550] Trial 80 finished with value: 0.061262779907109925 and parameters: {'alpha': 0.8114664817803355}. Best is trial 76 with value: 0.061383204346961324.\n",
      "/var/folders/50/7hjr20g17_18p725nbt0qqv00000gn/T/ipykernel_98650/1578609616.py:7: FutureWarning: suggest_uniform has been deprecated in v3.0.0. This feature will be removed in v6.0.0. See https://github.com/optuna/optuna/releases/tag/v3.0.0. Use suggest_float instead.\n",
      "  alpha = trial.suggest_uniform('alpha', 0, 1)\n"
     ]
    },
    {
     "name": "stdout",
     "output_type": "stream",
     "text": [
      "EvaluatorHoldout: Processed 35595 (100.0%) in 4.35 min. Users per second: 136\n"
     ]
    },
    {
     "name": "stderr",
     "output_type": "stream",
     "text": [
      "[I 2024-12-30 07:00:23,895] Trial 81 finished with value: 0.06136990659915031 and parameters: {'alpha': 0.8961442694086067}. Best is trial 76 with value: 0.061383204346961324.\n",
      "/var/folders/50/7hjr20g17_18p725nbt0qqv00000gn/T/ipykernel_98650/1578609616.py:7: FutureWarning: suggest_uniform has been deprecated in v3.0.0. This feature will be removed in v6.0.0. See https://github.com/optuna/optuna/releases/tag/v3.0.0. Use suggest_float instead.\n",
      "  alpha = trial.suggest_uniform('alpha', 0, 1)\n"
     ]
    },
    {
     "name": "stdout",
     "output_type": "stream",
     "text": [
      "EvaluatorHoldout: Processed 35595 (100.0%) in 4.19 min. Users per second: 142\n"
     ]
    },
    {
     "name": "stderr",
     "output_type": "stream",
     "text": [
      "[I 2024-12-30 07:04:35,248] Trial 82 finished with value: 0.061380177570862456 and parameters: {'alpha': 0.8905502319667689}. Best is trial 76 with value: 0.061383204346961324.\n",
      "/var/folders/50/7hjr20g17_18p725nbt0qqv00000gn/T/ipykernel_98650/1578609616.py:7: FutureWarning: suggest_uniform has been deprecated in v3.0.0. This feature will be removed in v6.0.0. See https://github.com/optuna/optuna/releases/tag/v3.0.0. Use suggest_float instead.\n",
      "  alpha = trial.suggest_uniform('alpha', 0, 1)\n"
     ]
    },
    {
     "name": "stdout",
     "output_type": "stream",
     "text": [
      "EvaluatorHoldout: Processed 35595 (100.0%) in 4.28 min. Users per second: 139\n"
     ]
    },
    {
     "name": "stderr",
     "output_type": "stream",
     "text": [
      "[I 2024-12-30 07:08:52,289] Trial 83 finished with value: 0.06137496237432824 and parameters: {'alpha': 0.8883240938154886}. Best is trial 76 with value: 0.061383204346961324.\n",
      "/var/folders/50/7hjr20g17_18p725nbt0qqv00000gn/T/ipykernel_98650/1578609616.py:7: FutureWarning: suggest_uniform has been deprecated in v3.0.0. This feature will be removed in v6.0.0. See https://github.com/optuna/optuna/releases/tag/v3.0.0. Use suggest_float instead.\n",
      "  alpha = trial.suggest_uniform('alpha', 0, 1)\n"
     ]
    },
    {
     "name": "stdout",
     "output_type": "stream",
     "text": [
      "EvaluatorHoldout: Processed 35595 (100.0%) in 4.67 min. Users per second: 127\n"
     ]
    },
    {
     "name": "stderr",
     "output_type": "stream",
     "text": [
      "[I 2024-12-30 07:13:32,407] Trial 84 finished with value: 0.06134104464466682 and parameters: {'alpha': 0.8766518819363152}. Best is trial 76 with value: 0.061383204346961324.\n",
      "/var/folders/50/7hjr20g17_18p725nbt0qqv00000gn/T/ipykernel_98650/1578609616.py:7: FutureWarning: suggest_uniform has been deprecated in v3.0.0. This feature will be removed in v6.0.0. See https://github.com/optuna/optuna/releases/tag/v3.0.0. Use suggest_float instead.\n",
      "  alpha = trial.suggest_uniform('alpha', 0, 1)\n"
     ]
    },
    {
     "name": "stdout",
     "output_type": "stream",
     "text": [
      "EvaluatorHoldout: Processed 35595 (100.0%) in 4.47 min. Users per second: 133\n"
     ]
    },
    {
     "name": "stderr",
     "output_type": "stream",
     "text": [
      "[I 2024-12-30 07:18:01,045] Trial 85 finished with value: 0.06131323174959721 and parameters: {'alpha': 0.8645282682481648}. Best is trial 76 with value: 0.061383204346961324.\n",
      "/var/folders/50/7hjr20g17_18p725nbt0qqv00000gn/T/ipykernel_98650/1578609616.py:7: FutureWarning: suggest_uniform has been deprecated in v3.0.0. This feature will be removed in v6.0.0. See https://github.com/optuna/optuna/releases/tag/v3.0.0. Use suggest_float instead.\n",
      "  alpha = trial.suggest_uniform('alpha', 0, 1)\n"
     ]
    },
    {
     "name": "stdout",
     "output_type": "stream",
     "text": [
      "EvaluatorHoldout: Processed 35595 (100.0%) in 4.22 min. Users per second: 140\n"
     ]
    },
    {
     "name": "stderr",
     "output_type": "stream",
     "text": [
      "[I 2024-12-30 07:22:14,604] Trial 86 finished with value: 0.05999881604559068 and parameters: {'alpha': 0.6405078986706624}. Best is trial 76 with value: 0.061383204346961324.\n",
      "/var/folders/50/7hjr20g17_18p725nbt0qqv00000gn/T/ipykernel_98650/1578609616.py:7: FutureWarning: suggest_uniform has been deprecated in v3.0.0. This feature will be removed in v6.0.0. See https://github.com/optuna/optuna/releases/tag/v3.0.0. Use suggest_float instead.\n",
      "  alpha = trial.suggest_uniform('alpha', 0, 1)\n"
     ]
    },
    {
     "name": "stdout",
     "output_type": "stream",
     "text": [
      "EvaluatorHoldout: Processed 35595 (100.0%) in 4.15 min. Users per second: 143\n"
     ]
    },
    {
     "name": "stderr",
     "output_type": "stream",
     "text": [
      "[I 2024-12-30 07:26:23,941] Trial 87 finished with value: 0.06091804293005125 and parameters: {'alpha': 0.7482524053468399}. Best is trial 76 with value: 0.061383204346961324.\n",
      "/var/folders/50/7hjr20g17_18p725nbt0qqv00000gn/T/ipykernel_98650/1578609616.py:7: FutureWarning: suggest_uniform has been deprecated in v3.0.0. This feature will be removed in v6.0.0. See https://github.com/optuna/optuna/releases/tag/v3.0.0. Use suggest_float instead.\n",
      "  alpha = trial.suggest_uniform('alpha', 0, 1)\n"
     ]
    },
    {
     "name": "stdout",
     "output_type": "stream",
     "text": [
      "EvaluatorHoldout: Processed 35595 (100.0%) in 3.61 min. Users per second: 164\n"
     ]
    },
    {
     "name": "stderr",
     "output_type": "stream",
     "text": [
      "[I 2024-12-30 07:30:00,500] Trial 88 finished with value: 0.061354452761108985 and parameters: {'alpha': 0.9002827023137308}. Best is trial 76 with value: 0.061383204346961324.\n",
      "/var/folders/50/7hjr20g17_18p725nbt0qqv00000gn/T/ipykernel_98650/1578609616.py:7: FutureWarning: suggest_uniform has been deprecated in v3.0.0. This feature will be removed in v6.0.0. See https://github.com/optuna/optuna/releases/tag/v3.0.0. Use suggest_float instead.\n",
      "  alpha = trial.suggest_uniform('alpha', 0, 1)\n"
     ]
    },
    {
     "name": "stdout",
     "output_type": "stream",
     "text": [
      "EvaluatorHoldout: Processed 35595 (100.0%) in 3.92 min. Users per second: 151\n"
     ]
    },
    {
     "name": "stderr",
     "output_type": "stream",
     "text": [
      "[I 2024-12-30 07:33:55,839] Trial 89 finished with value: 0.061173944307317873 and parameters: {'alpha': 0.7834117592596994}. Best is trial 76 with value: 0.061383204346961324.\n",
      "/var/folders/50/7hjr20g17_18p725nbt0qqv00000gn/T/ipykernel_98650/1578609616.py:7: FutureWarning: suggest_uniform has been deprecated in v3.0.0. This feature will be removed in v6.0.0. See https://github.com/optuna/optuna/releases/tag/v3.0.0. Use suggest_float instead.\n",
      "  alpha = trial.suggest_uniform('alpha', 0, 1)\n"
     ]
    },
    {
     "name": "stdout",
     "output_type": "stream",
     "text": [
      "EvaluatorHoldout: Processed 35595 (100.0%) in 3.74 min. Users per second: 159\n"
     ]
    },
    {
     "name": "stderr",
     "output_type": "stream",
     "text": [
      "[I 2024-12-30 07:37:40,207] Trial 90 finished with value: 0.061303576166616795 and parameters: {'alpha': 0.8309929091303752}. Best is trial 76 with value: 0.061383204346961324.\n",
      "/var/folders/50/7hjr20g17_18p725nbt0qqv00000gn/T/ipykernel_98650/1578609616.py:7: FutureWarning: suggest_uniform has been deprecated in v3.0.0. This feature will be removed in v6.0.0. See https://github.com/optuna/optuna/releases/tag/v3.0.0. Use suggest_float instead.\n",
      "  alpha = trial.suggest_uniform('alpha', 0, 1)\n"
     ]
    },
    {
     "name": "stdout",
     "output_type": "stream",
     "text": [
      "EvaluatorHoldout: Processed 35595 (100.0%) in 3.46 min. Users per second: 171\n"
     ]
    },
    {
     "name": "stderr",
     "output_type": "stream",
     "text": [
      "[I 2024-12-30 07:41:08,117] Trial 91 finished with value: 0.06136130676459171 and parameters: {'alpha': 0.9008047871670759}. Best is trial 76 with value: 0.061383204346961324.\n",
      "/var/folders/50/7hjr20g17_18p725nbt0qqv00000gn/T/ipykernel_98650/1578609616.py:7: FutureWarning: suggest_uniform has been deprecated in v3.0.0. This feature will be removed in v6.0.0. See https://github.com/optuna/optuna/releases/tag/v3.0.0. Use suggest_float instead.\n",
      "  alpha = trial.suggest_uniform('alpha', 0, 1)\n"
     ]
    },
    {
     "name": "stdout",
     "output_type": "stream",
     "text": [
      "EvaluatorHoldout: Processed 35595 (100.0%) in 3.59 min. Users per second: 165\n"
     ]
    },
    {
     "name": "stderr",
     "output_type": "stream",
     "text": [
      "[I 2024-12-30 07:44:43,809] Trial 92 finished with value: 0.06128497849483735 and parameters: {'alpha': 0.9782756692026774}. Best is trial 76 with value: 0.061383204346961324.\n",
      "/var/folders/50/7hjr20g17_18p725nbt0qqv00000gn/T/ipykernel_98650/1578609616.py:7: FutureWarning: suggest_uniform has been deprecated in v3.0.0. This feature will be removed in v6.0.0. See https://github.com/optuna/optuna/releases/tag/v3.0.0. Use suggest_float instead.\n",
      "  alpha = trial.suggest_uniform('alpha', 0, 1)\n"
     ]
    },
    {
     "name": "stdout",
     "output_type": "stream",
     "text": [
      "EvaluatorHoldout: Processed 35595 (100.0%) in 3.83 min. Users per second: 155\n"
     ]
    },
    {
     "name": "stderr",
     "output_type": "stream",
     "text": [
      "[I 2024-12-30 07:48:33,481] Trial 93 finished with value: 0.061386468582842586 and parameters: {'alpha': 0.9349411719193435}. Best is trial 93 with value: 0.061386468582842586.\n",
      "/var/folders/50/7hjr20g17_18p725nbt0qqv00000gn/T/ipykernel_98650/1578609616.py:7: FutureWarning: suggest_uniform has been deprecated in v3.0.0. This feature will be removed in v6.0.0. See https://github.com/optuna/optuna/releases/tag/v3.0.0. Use suggest_float instead.\n",
      "  alpha = trial.suggest_uniform('alpha', 0, 1)\n"
     ]
    },
    {
     "name": "stdout",
     "output_type": "stream",
     "text": [
      "EvaluatorHoldout: Processed 35595 (100.0%) in 3.68 min. Users per second: 161\n"
     ]
    },
    {
     "name": "stderr",
     "output_type": "stream",
     "text": [
      "[I 2024-12-30 07:52:14,300] Trial 94 finished with value: 0.0613334548503092 and parameters: {'alpha': 0.8686622527385697}. Best is trial 93 with value: 0.061386468582842586.\n",
      "/var/folders/50/7hjr20g17_18p725nbt0qqv00000gn/T/ipykernel_98650/1578609616.py:7: FutureWarning: suggest_uniform has been deprecated in v3.0.0. This feature will be removed in v6.0.0. See https://github.com/optuna/optuna/releases/tag/v3.0.0. Use suggest_float instead.\n",
      "  alpha = trial.suggest_uniform('alpha', 0, 1)\n"
     ]
    },
    {
     "name": "stdout",
     "output_type": "stream",
     "text": [
      "EvaluatorHoldout: Processed 35595 (100.0%) in 3.55 min. Users per second: 167\n"
     ]
    },
    {
     "name": "stderr",
     "output_type": "stream",
     "text": [
      "[I 2024-12-30 07:55:47,669] Trial 95 finished with value: 0.06138405050646751 and parameters: {'alpha': 0.9365030565578573}. Best is trial 93 with value: 0.061386468582842586.\n",
      "/var/folders/50/7hjr20g17_18p725nbt0qqv00000gn/T/ipykernel_98650/1578609616.py:7: FutureWarning: suggest_uniform has been deprecated in v3.0.0. This feature will be removed in v6.0.0. See https://github.com/optuna/optuna/releases/tag/v3.0.0. Use suggest_float instead.\n",
      "  alpha = trial.suggest_uniform('alpha', 0, 1)\n"
     ]
    },
    {
     "name": "stdout",
     "output_type": "stream",
     "text": [
      "EvaluatorHoldout: Processed 35595 (100.0%) in 3.66 min. Users per second: 162\n"
     ]
    },
    {
     "name": "stderr",
     "output_type": "stream",
     "text": [
      "[I 2024-12-30 07:59:27,774] Trial 96 finished with value: 0.061388178739209306 and parameters: {'alpha': 0.9363330179334278}. Best is trial 96 with value: 0.061388178739209306.\n",
      "/var/folders/50/7hjr20g17_18p725nbt0qqv00000gn/T/ipykernel_98650/1578609616.py:7: FutureWarning: suggest_uniform has been deprecated in v3.0.0. This feature will be removed in v6.0.0. See https://github.com/optuna/optuna/releases/tag/v3.0.0. Use suggest_float instead.\n",
      "  alpha = trial.suggest_uniform('alpha', 0, 1)\n"
     ]
    },
    {
     "name": "stdout",
     "output_type": "stream",
     "text": [
      "EvaluatorHoldout: Processed 35595 (100.0%) in 4.31 min. Users per second: 138\n"
     ]
    },
    {
     "name": "stderr",
     "output_type": "stream",
     "text": [
      "[I 2024-12-30 08:03:46,503] Trial 97 finished with value: 0.061384563330410584 and parameters: {'alpha': 0.9357885551998323}. Best is trial 96 with value: 0.061388178739209306.\n",
      "/var/folders/50/7hjr20g17_18p725nbt0qqv00000gn/T/ipykernel_98650/1578609616.py:7: FutureWarning: suggest_uniform has been deprecated in v3.0.0. This feature will be removed in v6.0.0. See https://github.com/optuna/optuna/releases/tag/v3.0.0. Use suggest_float instead.\n",
      "  alpha = trial.suggest_uniform('alpha', 0, 1)\n"
     ]
    },
    {
     "name": "stdout",
     "output_type": "stream",
     "text": [
      "EvaluatorHoldout: Processed 35595 (100.0%) in 4.04 min. Users per second: 147\n"
     ]
    },
    {
     "name": "stderr",
     "output_type": "stream",
     "text": [
      "[I 2024-12-30 08:07:49,245] Trial 98 finished with value: 0.06136303810281713 and parameters: {'alpha': 0.9329867348614059}. Best is trial 96 with value: 0.061388178739209306.\n",
      "/var/folders/50/7hjr20g17_18p725nbt0qqv00000gn/T/ipykernel_98650/1578609616.py:7: FutureWarning: suggest_uniform has been deprecated in v3.0.0. This feature will be removed in v6.0.0. See https://github.com/optuna/optuna/releases/tag/v3.0.0. Use suggest_float instead.\n",
      "  alpha = trial.suggest_uniform('alpha', 0, 1)\n"
     ]
    },
    {
     "name": "stdout",
     "output_type": "stream",
     "text": [
      "EvaluatorHoldout: Processed 35595 (100.0%) in 3.94 min. Users per second: 151\n"
     ]
    },
    {
     "name": "stderr",
     "output_type": "stream",
     "text": [
      "[I 2024-12-30 08:11:45,529] Trial 99 finished with value: 0.06128886034911959 and parameters: {'alpha': 0.9765662144824331}. Best is trial 96 with value: 0.061388178739209306.\n"
     ]
    }
   ],
   "source": [
    "from Recommenders.Hybrid.GeneralizedLinearCoupleHybridRecommender import GeneralizedLinearCoupleHybridRecommender\n",
    "import optuna\n",
    "\n",
    "recommenders = [final_recommender, als_recommender]\n",
    "def objective_function(trial):\n",
    "    recommender = GeneralizedLinearCoupleHybridRecommender(URM_train_validation, recommenders)\n",
    "    alpha = trial.suggest_uniform('alpha', 0, 1)\n",
    "    recommender.fit(alpha)\n",
    "    result_dict, _ = evaluator_test.evaluateRecommender(recommender)\n",
    "    MAP = result_dict.loc[10][\"MAP\"]\n",
    "    return MAP\n",
    "\n",
    "class SaveResults(object):\n",
    "    \n",
    "    def __init__(self):\n",
    "        self.results_df = pd.DataFrame(columns = [\"result\"])\n",
    "    \n",
    "    def __call__(self, optuna_study, optuna_trial):\n",
    "        hyperparam_dict = optuna_trial.params.copy()\n",
    "        hyperparam_dict[\"result\"] = optuna_trial.values[0]\n",
    "        \n",
    "        self.results_df = pd.concat([self.results_df, pd.DataFrame([hyperparam_dict])], ignore_index=True)\n",
    "        self.results_df.to_csv(\"logs/Hybrid/hybrid_best_IALS_LINEAR.csv\", index = False)\n",
    "\n",
    "optuna_study = optuna.create_study(study_name=\"HYBRID_IALS_INCLUDED\", direction=\"maximize\")\n",
    "        \n",
    "save_results = SaveResults()\n",
    "        \n",
    "optuna_study.optimize(objective_function,\n",
    "                      callbacks=[save_results],\n",
    "                      n_trials = 100,\n",
    "                      )"
   ]
  },
  {
   "cell_type": "code",
   "execution_count": 15,
   "metadata": {},
   "outputs": [
    {
     "name": "stdout",
     "output_type": "stream",
     "text": [
      "{'result': 0.061388178739209306, 'alpha': 0.9363330179334278}\n"
     ]
    }
   ],
   "source": [
    "best_index = save_results.results_df[\"result\"].idxmax()\n",
    "best_hyperparams = save_results.results_df.loc[best_index].to_dict()\n",
    "print(best_hyperparams)"
   ]
  },
  {
   "cell_type": "markdown",
   "metadata": {},
   "source": [
    "# Preparing submission"
   ]
  },
  {
   "cell_type": "code",
   "execution_count": 17,
   "metadata": {},
   "outputs": [],
   "source": [
    "alpha = best_hyperparams[\"alpha\"]\n",
    "\n",
    "gc.collect()\n",
    "del new_similarity, final_recommender, als_recommender, recommenders"
   ]
  },
  {
   "cell_type": "code",
   "execution_count": 4,
   "metadata": {},
   "outputs": [
    {
     "name": "stdout",
     "output_type": "stream",
     "text": [
      "RP3betaRecommender: Similarity column 38121 (100.0%), 2480.80 column/sec. Elapsed time 15.36 sec\n"
     ]
    }
   ],
   "source": [
    "from Recommenders.GraphBased.RP3betaRecommender import RP3betaRecommender\n",
    "from Recommenders.KNN.ItemKNNCustomSimilarityRecommender import ItemKNNCustomSimilarityRecommender\n",
    "from Recommenders.MatrixFactorization.ImplicitALSRecommender import ImplicitALSRecommender\n",
    "from Recommenders.Hybrid.GeneralizedLinearCoupleHybridRecommender import GeneralizedLinearCoupleHybridRecommender\n",
    "\n",
    "\n",
    "slim_W = sps.load_npz(\"slim_best_W.npz\")\n",
    "easeR_W = sps.load_npz(\"easeR_best_W.npz\")\n",
    "alpha_slim_EASER = 0.622977719931239\n",
    "\n",
    "similarity_SLIM_EASER = slim_W.multiply(alpha_slim_EASER) + easeR_W.multiply(1-alpha_slim_EASER)\n",
    "del slim_W, easeR_W\n",
    "# RP3\n",
    "rp3_recommender = RP3betaRecommender(URM_all)\n",
    "rp3_recommender.fit(topK=14, alpha=0.3683550822991944, beta=0.19877125816137325)\n",
    "\n",
    "# Hybrid\n",
    "final_recommender = ItemKNNCustomSimilarityRecommender(URM_all)\n",
    "alpha = 0.8407690672301905\n",
    "new_similarity = similarity_SLIM_EASER.multiply(alpha) + rp3_recommender.W_sparse.multiply(1-alpha)\n",
    "del similarity_SLIM_EASER, rp3_recommender\n",
    "final_recommender.fit(new_similarity)"
   ]
  },
  {
   "cell_type": "code",
   "execution_count": 5,
   "metadata": {},
   "outputs": [
    {
     "name": "stderr",
     "output_type": "stream",
     "text": [
      "/Users/lucapagano/miniconda3/envs/RecSysPD/lib/python3.8/site-packages/implicit/cpu/als.py:95: RuntimeWarning: OpenBLAS is configured to use 8 threads. It is highly recommended to disable its internal threadpool by setting the environment variable 'OPENBLAS_NUM_THREADS=1' or by calling 'threadpoolctl.threadpool_limits(1, \"blas\")'. Having OpenBLAS use a threadpool can lead to severe performance issues here.\n",
      "  check_blas_config()\n"
     ]
    },
    {
     "data": {
      "application/vnd.jupyter.widget-view+json": {
       "model_id": "97f2b58c23cf4e2aba880e5b7f1e6272",
       "version_major": 2,
       "version_minor": 0
      },
      "text/plain": [
       "  0%|          | 0/10 [00:00<?, ?it/s]"
      ]
     },
     "metadata": {},
     "output_type": "display_data"
    }
   ],
   "source": [
    "als_recommender = ImplicitALSRecommender(URM_all)\n",
    "als_recommender.fit(factors=1903, regularization=0.43781149051372426, iterations=10, use_gpu=False, **{\"alpha\": 10.365656056877015})"
   ]
  },
  {
   "cell_type": "code",
   "execution_count": 6,
   "metadata": {},
   "outputs": [],
   "source": [
    "alpha = 0.9363330179334278\n",
    "\n",
    "recommenders = [final_recommender, als_recommender]\n",
    "\n",
    "linear_comb_rec = GeneralizedLinearCoupleHybridRecommender(URM_all, recommenders)\n",
    "linear_comb_rec.fit(alpha)"
   ]
  },
  {
   "cell_type": "code",
   "execution_count": 8,
   "metadata": {},
   "outputs": [
    {
     "name": "stdout",
     "output_type": "stream",
     "text": [
      "   user_id\n",
      "0        0\n",
      "1        1\n",
      "2        2\n",
      "3        3\n",
      "4        4\n",
      "5        5\n",
      "6        6\n",
      "7        7\n",
      "8        8\n",
      "9        9\n"
     ]
    }
   ],
   "source": [
    "target_user = pd.read_csv(\"Dataset/data_target_users_test.csv\")\n",
    "print(target_user.head(10))\n",
    "\n",
    "user_id = target_user['user_id']\n",
    "recommendations = []\n",
    "for user in user_id:\n",
    "    recommendations.append(linear_comb_rec.recommend(user, cutoff=10))\n",
    "\n",
    "# Saving in a submission file for the competition\n",
    "submission = pd.DataFrame(columns=['user_id', 'item_list'])\n",
    "submission['user_id'] = user_id\n",
    "# Convert list of recommendations into a space-separated string\n",
    "submission['item_list'] = [' '.join(map(str, recs)) for recs in recommendations]\n",
    "\n",
    "# Save the submission file\n",
    "submission.to_csv(f\"submissions/hybrid_best_IALS_alpha:{alpha}.csv\", index=False)"
   ]
  },
  {
   "cell_type": "markdown",
   "metadata": {},
   "source": [
    "# Let's save the similarity matrix in general"
   ]
  },
  {
   "cell_type": "code",
   "execution_count": 5,
   "metadata": {},
   "outputs": [
    {
     "name": "stdout",
     "output_type": "stream",
     "text": [
      "RP3betaRecommender: Similarity column 38121 (100.0%), 3534.47 column/sec. Elapsed time 10.79 sec\n"
     ]
    }
   ],
   "source": [
    "from Recommenders.GraphBased.RP3betaRecommender import RP3betaRecommender\n",
    "from Recommenders.KNN.ItemKNNCustomSimilarityRecommender import ItemKNNCustomSimilarityRecommender\n",
    "from Recommenders.MatrixFactorization.ImplicitALSRecommender import ImplicitALSRecommender\n",
    "from Recommenders.Hybrid.GeneralizedLinearCoupleHybridRecommender import GeneralizedLinearCoupleHybridRecommender\n",
    "\n",
    "\n",
    "slim_W = sps.load_npz(\"slim_best_W_TRAINVAL.npz\")\n",
    "easeR_W = sps.load_npz(\"easeR_best_W_TRAINVAL.npz\")\n",
    "alpha_slim_EASER = 0.622977719931239\n",
    "\n",
    "similarity_SLIM_EASER = slim_W.multiply(alpha_slim_EASER) + easeR_W.multiply(1-alpha_slim_EASER)\n",
    "del slim_W, easeR_W\n",
    "# RP3\n",
    "rp3_recommender = RP3betaRecommender(URM_train_validation)\n",
    "rp3_recommender.fit(topK=14, alpha=0.3683550822991944, beta=0.19877125816137325)\n",
    "\n",
    "# Hybrid\n",
    "final_recommender = ItemKNNCustomSimilarityRecommender(URM_train_validation)\n",
    "alpha = 0.8407690672301905\n",
    "new_similarity = similarity_SLIM_EASER.multiply(alpha) + rp3_recommender.W_sparse.multiply(1-alpha)\n",
    "del similarity_SLIM_EASER, rp3_recommender\n",
    "final_recommender.fit(new_similarity)\n",
    "\n",
    "sps.save_npz(\"merging_models_final_similarity_TRAINVAL.npz\", new_similarity)\n"
   ]
  },
  {
   "cell_type": "code",
   "execution_count": 6,
   "metadata": {},
   "outputs": [
    {
     "name": "stderr",
     "output_type": "stream",
     "text": [
      "/Users/lucapagano/miniconda3/envs/RecSysPD/lib/python3.8/site-packages/implicit/cpu/als.py:95: RuntimeWarning: OpenBLAS is configured to use 8 threads. It is highly recommended to disable its internal threadpool by setting the environment variable 'OPENBLAS_NUM_THREADS=1' or by calling 'threadpoolctl.threadpool_limits(1, \"blas\")'. Having OpenBLAS use a threadpool can lead to severe performance issues here.\n",
      "  check_blas_config()\n"
     ]
    },
    {
     "data": {
      "application/vnd.jupyter.widget-view+json": {
       "model_id": "cc45e811c34848c5a275be0621b72ef8",
       "version_major": 2,
       "version_minor": 0
      },
      "text/plain": [
       "  0%|          | 0/10 [00:00<?, ?it/s]"
      ]
     },
     "metadata": {},
     "output_type": "display_data"
    },
    {
     "name": "stdout",
     "output_type": "stream",
     "text": [
      "EvaluatorHoldout: Processed 35595 (100.0%) in 3.57 min. Users per second: 166\n",
      "0.061310419021752945\n"
     ]
    }
   ],
   "source": [
    "from Recommenders.Hybrid.GeneralizedLinearCoupleHybridRecommender import GeneralizedLinearCoupleHybridRecommender\n",
    "\n",
    "implicit_als_recommender = ImplicitALSRecommender(URM_train_validation)\n",
    "'''0.04903989435826635,2509.0,8.194448980757322,0.5475440613233895\n",
    "'''\n",
    "\n",
    "implicit_als_recommender.fit(factors=2509, regularization=0.5475440613233895, iterations=10, use_gpu=False, **{\"alpha\": 8.194448980757322})\n",
    "\n",
    "recommenders = [final_recommender, implicit_als_recommender]\n",
    "hybrid_linear_recommender = GeneralizedLinearCoupleHybridRecommender(URM_train_validation, recommenders)\n",
    "alpha = 0.9363330179334278\n",
    "hybrid_linear_recommender.fit(alpha)\n",
    "\n",
    "result_dict, _ = evaluator_test.evaluateRecommender(hybrid_linear_recommender)\n",
    "MAP = result_dict.loc[10][\"MAP\"]\n",
    "print(MAP)"
   ]
  },
  {
   "cell_type": "markdown",
   "metadata": {},
   "source": [
    "Despite IALS being slightly higher the overall result is smaller. I should experiment with different alphas"
   ]
  },
  {
   "cell_type": "code",
   "execution_count": 7,
   "metadata": {},
   "outputs": [
    {
     "name": "stderr",
     "output_type": "stream",
     "text": [
      "[I 2024-12-30 12:52:55,185] A new study created in memory with name: HYBRID_IALS_INCLUDED\n",
      "/var/folders/50/7hjr20g17_18p725nbt0qqv00000gn/T/ipykernel_67248/2275645446.py:6: FutureWarning: suggest_uniform has been deprecated in v3.0.0. This feature will be removed in v6.0.0. See https://github.com/optuna/optuna/releases/tag/v3.0.0. Use suggest_float instead.\n",
      "  alpha = trial.suggest_uniform('alpha', 0, 1)\n"
     ]
    },
    {
     "name": "stdout",
     "output_type": "stream",
     "text": [
      "EvaluatorHoldout: Processed 35595 (100.0%) in 3.55 min. Users per second: 167\n"
     ]
    },
    {
     "name": "stderr",
     "output_type": "stream",
     "text": [
      "[I 2024-12-30 12:56:28,066] Trial 0 finished with value: 0.0600759692929922 and parameters: {'alpha': 0.6615671873528312}. Best is trial 0 with value: 0.0600759692929922.\n",
      "/var/folders/50/7hjr20g17_18p725nbt0qqv00000gn/T/ipykernel_67248/2275645446.py:6: FutureWarning: suggest_uniform has been deprecated in v3.0.0. This feature will be removed in v6.0.0. See https://github.com/optuna/optuna/releases/tag/v3.0.0. Use suggest_float instead.\n",
      "  alpha = trial.suggest_uniform('alpha', 0, 1)\n"
     ]
    },
    {
     "name": "stdout",
     "output_type": "stream",
     "text": [
      "EvaluatorHoldout: Processed 35595 (100.0%) in 4.99 min. Users per second: 119\n"
     ]
    },
    {
     "name": "stderr",
     "output_type": "stream",
     "text": [
      "[I 2024-12-30 13:01:27,779] Trial 1 finished with value: 0.05797081362862851 and parameters: {'alpha': 0.49409048349215656}. Best is trial 0 with value: 0.0600759692929922.\n",
      "/var/folders/50/7hjr20g17_18p725nbt0qqv00000gn/T/ipykernel_67248/2275645446.py:6: FutureWarning: suggest_uniform has been deprecated in v3.0.0. This feature will be removed in v6.0.0. See https://github.com/optuna/optuna/releases/tag/v3.0.0. Use suggest_float instead.\n",
      "  alpha = trial.suggest_uniform('alpha', 0, 1)\n"
     ]
    },
    {
     "name": "stdout",
     "output_type": "stream",
     "text": [
      "EvaluatorHoldout: Processed 35595 (100.0%) in 4.66 min. Users per second: 127\n"
     ]
    },
    {
     "name": "stderr",
     "output_type": "stream",
     "text": [
      "[I 2024-12-30 13:06:07,731] Trial 2 finished with value: 0.05559607533606507 and parameters: {'alpha': 0.3581845287376244}. Best is trial 0 with value: 0.0600759692929922.\n",
      "/var/folders/50/7hjr20g17_18p725nbt0qqv00000gn/T/ipykernel_67248/2275645446.py:6: FutureWarning: suggest_uniform has been deprecated in v3.0.0. This feature will be removed in v6.0.0. See https://github.com/optuna/optuna/releases/tag/v3.0.0. Use suggest_float instead.\n",
      "  alpha = trial.suggest_uniform('alpha', 0, 1)\n"
     ]
    },
    {
     "name": "stdout",
     "output_type": "stream",
     "text": [
      "EvaluatorHoldout: Processed 26000 (73.0%) in 5.08 min. Users per second: 85\n",
      "EvaluatorHoldout: Processed 35595 (100.0%) in 5.73 min. Users per second: 104\n"
     ]
    },
    {
     "name": "stderr",
     "output_type": "stream",
     "text": [
      "[I 2024-12-30 13:11:51,652] Trial 3 finished with value: 0.05914695638989596 and parameters: {'alpha': 0.575070600069869}. Best is trial 0 with value: 0.0600759692929922.\n",
      "/var/folders/50/7hjr20g17_18p725nbt0qqv00000gn/T/ipykernel_67248/2275645446.py:6: FutureWarning: suggest_uniform has been deprecated in v3.0.0. This feature will be removed in v6.0.0. See https://github.com/optuna/optuna/releases/tag/v3.0.0. Use suggest_float instead.\n",
      "  alpha = trial.suggest_uniform('alpha', 0, 1)\n"
     ]
    },
    {
     "name": "stdout",
     "output_type": "stream",
     "text": [
      "EvaluatorHoldout: Processed 23000 (64.6%) in 5.56 min. Users per second: 69\n",
      "EvaluatorHoldout: Processed 35595 (100.0%) in 8.06 min. Users per second: 74\n"
     ]
    },
    {
     "name": "stderr",
     "output_type": "stream",
     "text": [
      "[I 2024-12-30 13:19:55,497] Trial 4 finished with value: 0.061313959736629564 and parameters: {'alpha': 0.9302980267975752}. Best is trial 4 with value: 0.061313959736629564.\n",
      "/var/folders/50/7hjr20g17_18p725nbt0qqv00000gn/T/ipykernel_67248/2275645446.py:6: FutureWarning: suggest_uniform has been deprecated in v3.0.0. This feature will be removed in v6.0.0. See https://github.com/optuna/optuna/releases/tag/v3.0.0. Use suggest_float instead.\n",
      "  alpha = trial.suggest_uniform('alpha', 0, 1)\n"
     ]
    },
    {
     "name": "stdout",
     "output_type": "stream",
     "text": [
      "EvaluatorHoldout: Processed 9000 (25.3%) in 5.06 min. Users per second: 30\n",
      "EvaluatorHoldout: Processed 35595 (100.0%) in 8.88 min. Users per second: 67\n"
     ]
    },
    {
     "name": "stderr",
     "output_type": "stream",
     "text": [
      "[I 2024-12-30 13:28:48,218] Trial 5 finished with value: 0.05306797815815753 and parameters: {'alpha': 0.22490428780724658}. Best is trial 4 with value: 0.061313959736629564.\n",
      "/var/folders/50/7hjr20g17_18p725nbt0qqv00000gn/T/ipykernel_67248/2275645446.py:6: FutureWarning: suggest_uniform has been deprecated in v3.0.0. This feature will be removed in v6.0.0. See https://github.com/optuna/optuna/releases/tag/v3.0.0. Use suggest_float instead.\n",
      "  alpha = trial.suggest_uniform('alpha', 0, 1)\n"
     ]
    },
    {
     "name": "stdout",
     "output_type": "stream",
     "text": [
      "EvaluatorHoldout: Processed 35595 (100.0%) in 3.95 min. Users per second: 150\n"
     ]
    },
    {
     "name": "stderr",
     "output_type": "stream",
     "text": [
      "[I 2024-12-30 13:32:45,047] Trial 6 finished with value: 0.061308658697826604 and parameters: {'alpha': 0.9357420337696893}. Best is trial 4 with value: 0.061313959736629564.\n",
      "/var/folders/50/7hjr20g17_18p725nbt0qqv00000gn/T/ipykernel_67248/2275645446.py:6: FutureWarning: suggest_uniform has been deprecated in v3.0.0. This feature will be removed in v6.0.0. See https://github.com/optuna/optuna/releases/tag/v3.0.0. Use suggest_float instead.\n",
      "  alpha = trial.suggest_uniform('alpha', 0, 1)\n"
     ]
    },
    {
     "name": "stdout",
     "output_type": "stream",
     "text": [
      "EvaluatorHoldout: Processed 35595 (100.0%) in 3.63 min. Users per second: 163\n"
     ]
    },
    {
     "name": "stderr",
     "output_type": "stream",
     "text": [
      "[I 2024-12-30 13:36:22,939] Trial 7 finished with value: 0.057123074401833264 and parameters: {'alpha': 0.4431495183919998}. Best is trial 4 with value: 0.061313959736629564.\n",
      "/var/folders/50/7hjr20g17_18p725nbt0qqv00000gn/T/ipykernel_67248/2275645446.py:6: FutureWarning: suggest_uniform has been deprecated in v3.0.0. This feature will be removed in v6.0.0. See https://github.com/optuna/optuna/releases/tag/v3.0.0. Use suggest_float instead.\n",
      "  alpha = trial.suggest_uniform('alpha', 0, 1)\n"
     ]
    },
    {
     "name": "stdout",
     "output_type": "stream",
     "text": [
      "EvaluatorHoldout: Processed 35595 (100.0%) in 3.47 min. Users per second: 171\n"
     ]
    },
    {
     "name": "stderr",
     "output_type": "stream",
     "text": [
      "[I 2024-12-30 13:39:51,211] Trial 8 finished with value: 0.05526983123632743 and parameters: {'alpha': 0.33950894115561714}. Best is trial 4 with value: 0.061313959736629564.\n",
      "/var/folders/50/7hjr20g17_18p725nbt0qqv00000gn/T/ipykernel_67248/2275645446.py:6: FutureWarning: suggest_uniform has been deprecated in v3.0.0. This feature will be removed in v6.0.0. See https://github.com/optuna/optuna/releases/tag/v3.0.0. Use suggest_float instead.\n",
      "  alpha = trial.suggest_uniform('alpha', 0, 1)\n"
     ]
    },
    {
     "name": "stdout",
     "output_type": "stream",
     "text": [
      "EvaluatorHoldout: Processed 35595 (100.0%) in 3.29 min. Users per second: 180\n"
     ]
    },
    {
     "name": "stderr",
     "output_type": "stream",
     "text": [
      "[I 2024-12-30 13:43:08,569] Trial 9 finished with value: 0.05677112332969693 and parameters: {'alpha': 0.42133165836591335}. Best is trial 4 with value: 0.061313959736629564.\n",
      "/var/folders/50/7hjr20g17_18p725nbt0qqv00000gn/T/ipykernel_67248/2275645446.py:6: FutureWarning: suggest_uniform has been deprecated in v3.0.0. This feature will be removed in v6.0.0. See https://github.com/optuna/optuna/releases/tag/v3.0.0. Use suggest_float instead.\n",
      "  alpha = trial.suggest_uniform('alpha', 0, 1)\n"
     ]
    },
    {
     "name": "stdout",
     "output_type": "stream",
     "text": [
      "EvaluatorHoldout: Processed 35595 (100.0%) in 3.66 min. Users per second: 162\n"
     ]
    },
    {
     "name": "stderr",
     "output_type": "stream",
     "text": [
      "[I 2024-12-30 13:46:48,408] Trial 10 finished with value: 0.06127873542074772 and parameters: {'alpha': 0.9731080000838163}. Best is trial 4 with value: 0.061313959736629564.\n",
      "/var/folders/50/7hjr20g17_18p725nbt0qqv00000gn/T/ipykernel_67248/2275645446.py:6: FutureWarning: suggest_uniform has been deprecated in v3.0.0. This feature will be removed in v6.0.0. See https://github.com/optuna/optuna/releases/tag/v3.0.0. Use suggest_float instead.\n",
      "  alpha = trial.suggest_uniform('alpha', 0, 1)\n"
     ]
    },
    {
     "name": "stdout",
     "output_type": "stream",
     "text": [
      "EvaluatorHoldout: Processed 35595 (100.0%) in 3.51 min. Users per second: 169\n"
     ]
    },
    {
     "name": "stderr",
     "output_type": "stream",
     "text": [
      "[I 2024-12-30 13:50:19,117] Trial 11 finished with value: 0.06120631576130748 and parameters: {'alpha': 0.9991582067597758}. Best is trial 4 with value: 0.061313959736629564.\n",
      "/var/folders/50/7hjr20g17_18p725nbt0qqv00000gn/T/ipykernel_67248/2275645446.py:6: FutureWarning: suggest_uniform has been deprecated in v3.0.0. This feature will be removed in v6.0.0. See https://github.com/optuna/optuna/releases/tag/v3.0.0. Use suggest_float instead.\n",
      "  alpha = trial.suggest_uniform('alpha', 0, 1)\n"
     ]
    },
    {
     "name": "stdout",
     "output_type": "stream",
     "text": [
      "EvaluatorHoldout: Processed 35595 (100.0%) in 3.44 min. Users per second: 173\n"
     ]
    },
    {
     "name": "stderr",
     "output_type": "stream",
     "text": [
      "[I 2024-12-30 13:53:45,419] Trial 12 finished with value: 0.060898894529950384 and parameters: {'alpha': 0.762654247459206}. Best is trial 4 with value: 0.061313959736629564.\n",
      "/var/folders/50/7hjr20g17_18p725nbt0qqv00000gn/T/ipykernel_67248/2275645446.py:6: FutureWarning: suggest_uniform has been deprecated in v3.0.0. This feature will be removed in v6.0.0. See https://github.com/optuna/optuna/releases/tag/v3.0.0. Use suggest_float instead.\n",
      "  alpha = trial.suggest_uniform('alpha', 0, 1)\n"
     ]
    },
    {
     "name": "stdout",
     "output_type": "stream",
     "text": [
      "EvaluatorHoldout: Processed 35595 (100.0%) in 4.73 min. Users per second: 125\n"
     ]
    },
    {
     "name": "stderr",
     "output_type": "stream",
     "text": [
      "[I 2024-12-30 13:58:29,162] Trial 13 finished with value: 0.06114458290690722 and parameters: {'alpha': 0.8102354107867936}. Best is trial 4 with value: 0.061313959736629564.\n",
      "/var/folders/50/7hjr20g17_18p725nbt0qqv00000gn/T/ipykernel_67248/2275645446.py:6: FutureWarning: suggest_uniform has been deprecated in v3.0.0. This feature will be removed in v6.0.0. See https://github.com/optuna/optuna/releases/tag/v3.0.0. Use suggest_float instead.\n",
      "  alpha = trial.suggest_uniform('alpha', 0, 1)\n"
     ]
    },
    {
     "name": "stdout",
     "output_type": "stream",
     "text": [
      "EvaluatorHoldout: Processed 35595 (100.0%) in 3.59 min. Users per second: 165\n"
     ]
    },
    {
     "name": "stderr",
     "output_type": "stream",
     "text": [
      "[I 2024-12-30 14:02:04,714] Trial 14 finished with value: 0.04934650510482638 and parameters: {'alpha': 0.016386530968582003}. Best is trial 4 with value: 0.061313959736629564.\n",
      "/var/folders/50/7hjr20g17_18p725nbt0qqv00000gn/T/ipykernel_67248/2275645446.py:6: FutureWarning: suggest_uniform has been deprecated in v3.0.0. This feature will be removed in v6.0.0. See https://github.com/optuna/optuna/releases/tag/v3.0.0. Use suggest_float instead.\n",
      "  alpha = trial.suggest_uniform('alpha', 0, 1)\n"
     ]
    },
    {
     "name": "stdout",
     "output_type": "stream",
     "text": [
      "EvaluatorHoldout: Processed 35595 (100.0%) in 3.32 min. Users per second: 178\n"
     ]
    },
    {
     "name": "stderr",
     "output_type": "stream",
     "text": [
      "[I 2024-12-30 14:05:24,308] Trial 15 finished with value: 0.06128270646180273 and parameters: {'alpha': 0.8450338678536223}. Best is trial 4 with value: 0.061313959736629564.\n",
      "/var/folders/50/7hjr20g17_18p725nbt0qqv00000gn/T/ipykernel_67248/2275645446.py:6: FutureWarning: suggest_uniform has been deprecated in v3.0.0. This feature will be removed in v6.0.0. See https://github.com/optuna/optuna/releases/tag/v3.0.0. Use suggest_float instead.\n",
      "  alpha = trial.suggest_uniform('alpha', 0, 1)\n"
     ]
    },
    {
     "name": "stdout",
     "output_type": "stream",
     "text": [
      "EvaluatorHoldout: Processed 35595 (100.0%) in 3.42 min. Users per second: 173\n"
     ]
    },
    {
     "name": "stderr",
     "output_type": "stream",
     "text": [
      "[I 2024-12-30 14:08:49,678] Trial 16 finished with value: 0.061294601747612844 and parameters: {'alpha': 0.8803454077078071}. Best is trial 4 with value: 0.061313959736629564.\n",
      "/var/folders/50/7hjr20g17_18p725nbt0qqv00000gn/T/ipykernel_67248/2275645446.py:6: FutureWarning: suggest_uniform has been deprecated in v3.0.0. This feature will be removed in v6.0.0. See https://github.com/optuna/optuna/releases/tag/v3.0.0. Use suggest_float instead.\n",
      "  alpha = trial.suggest_uniform('alpha', 0, 1)\n"
     ]
    },
    {
     "name": "stdout",
     "output_type": "stream",
     "text": [
      "EvaluatorHoldout: Processed 35595 (100.0%) in 3.53 min. Users per second: 168\n"
     ]
    },
    {
     "name": "stderr",
     "output_type": "stream",
     "text": [
      "[I 2024-12-30 14:12:21,469] Trial 17 finished with value: 0.06062519816185856 and parameters: {'alpha': 0.7142392873816155}. Best is trial 4 with value: 0.061313959736629564.\n",
      "/var/folders/50/7hjr20g17_18p725nbt0qqv00000gn/T/ipykernel_67248/2275645446.py:6: FutureWarning: suggest_uniform has been deprecated in v3.0.0. This feature will be removed in v6.0.0. See https://github.com/optuna/optuna/releases/tag/v3.0.0. Use suggest_float instead.\n",
      "  alpha = trial.suggest_uniform('alpha', 0, 1)\n"
     ]
    },
    {
     "name": "stdout",
     "output_type": "stream",
     "text": [
      "EvaluatorHoldout: Processed 35595 (100.0%) in 3.81 min. Users per second: 156\n"
     ]
    },
    {
     "name": "stderr",
     "output_type": "stream",
     "text": [
      "[I 2024-12-30 14:16:10,146] Trial 18 finished with value: 0.05981769777724075 and parameters: {'alpha': 0.6295398271434447}. Best is trial 4 with value: 0.061313959736629564.\n",
      "/var/folders/50/7hjr20g17_18p725nbt0qqv00000gn/T/ipykernel_67248/2275645446.py:6: FutureWarning: suggest_uniform has been deprecated in v3.0.0. This feature will be removed in v6.0.0. See https://github.com/optuna/optuna/releases/tag/v3.0.0. Use suggest_float instead.\n",
      "  alpha = trial.suggest_uniform('alpha', 0, 1)\n"
     ]
    },
    {
     "name": "stdout",
     "output_type": "stream",
     "text": [
      "EvaluatorHoldout: Processed 35595 (100.0%) in 3.53 min. Users per second: 168\n"
     ]
    },
    {
     "name": "stderr",
     "output_type": "stream",
     "text": [
      "[I 2024-12-30 14:19:42,093] Trial 19 finished with value: 0.061285040925578134 and parameters: {'alpha': 0.9112014402245352}. Best is trial 4 with value: 0.061313959736629564.\n",
      "/var/folders/50/7hjr20g17_18p725nbt0qqv00000gn/T/ipykernel_67248/2275645446.py:6: FutureWarning: suggest_uniform has been deprecated in v3.0.0. This feature will be removed in v6.0.0. See https://github.com/optuna/optuna/releases/tag/v3.0.0. Use suggest_float instead.\n",
      "  alpha = trial.suggest_uniform('alpha', 0, 1)\n"
     ]
    },
    {
     "name": "stdout",
     "output_type": "stream",
     "text": [
      "EvaluatorHoldout: Processed 35595 (100.0%) in 3.51 min. Users per second: 169\n"
     ]
    },
    {
     "name": "stderr",
     "output_type": "stream",
     "text": [
      "[I 2024-12-30 14:23:12,881] Trial 20 finished with value: 0.06085758767616991 and parameters: {'alpha': 0.7524815601669312}. Best is trial 4 with value: 0.061313959736629564.\n",
      "/var/folders/50/7hjr20g17_18p725nbt0qqv00000gn/T/ipykernel_67248/2275645446.py:6: FutureWarning: suggest_uniform has been deprecated in v3.0.0. This feature will be removed in v6.0.0. See https://github.com/optuna/optuna/releases/tag/v3.0.0. Use suggest_float instead.\n",
      "  alpha = trial.suggest_uniform('alpha', 0, 1)\n"
     ]
    },
    {
     "name": "stdout",
     "output_type": "stream",
     "text": [
      "EvaluatorHoldout: Processed 35595 (100.0%) in 3.37 min. Users per second: 176\n"
     ]
    },
    {
     "name": "stderr",
     "output_type": "stream",
     "text": [
      "[I 2024-12-30 14:26:35,019] Trial 21 finished with value: 0.06128227279112039 and parameters: {'alpha': 0.8911142483524215}. Best is trial 4 with value: 0.061313959736629564.\n",
      "/var/folders/50/7hjr20g17_18p725nbt0qqv00000gn/T/ipykernel_67248/2275645446.py:6: FutureWarning: suggest_uniform has been deprecated in v3.0.0. This feature will be removed in v6.0.0. See https://github.com/optuna/optuna/releases/tag/v3.0.0. Use suggest_float instead.\n",
      "  alpha = trial.suggest_uniform('alpha', 0, 1)\n"
     ]
    },
    {
     "name": "stdout",
     "output_type": "stream",
     "text": [
      "EvaluatorHoldout: Processed 35595 (100.0%) in 3.27 min. Users per second: 181\n"
     ]
    },
    {
     "name": "stderr",
     "output_type": "stream",
     "text": [
      "[I 2024-12-30 14:29:51,432] Trial 22 finished with value: 0.06128851140587122 and parameters: {'alpha': 0.9090880533373127}. Best is trial 4 with value: 0.061313959736629564.\n",
      "/var/folders/50/7hjr20g17_18p725nbt0qqv00000gn/T/ipykernel_67248/2275645446.py:6: FutureWarning: suggest_uniform has been deprecated in v3.0.0. This feature will be removed in v6.0.0. See https://github.com/optuna/optuna/releases/tag/v3.0.0. Use suggest_float instead.\n",
      "  alpha = trial.suggest_uniform('alpha', 0, 1)\n"
     ]
    },
    {
     "name": "stdout",
     "output_type": "stream",
     "text": [
      "EvaluatorHoldout: Processed 35595 (100.0%) in 3.56 min. Users per second: 167\n"
     ]
    },
    {
     "name": "stderr",
     "output_type": "stream",
     "text": [
      "[I 2024-12-30 14:33:25,120] Trial 23 finished with value: 0.06124207185332157 and parameters: {'alpha': 0.838872292119743}. Best is trial 4 with value: 0.061313959736629564.\n",
      "/var/folders/50/7hjr20g17_18p725nbt0qqv00000gn/T/ipykernel_67248/2275645446.py:6: FutureWarning: suggest_uniform has been deprecated in v3.0.0. This feature will be removed in v6.0.0. See https://github.com/optuna/optuna/releases/tag/v3.0.0. Use suggest_float instead.\n",
      "  alpha = trial.suggest_uniform('alpha', 0, 1)\n"
     ]
    },
    {
     "name": "stdout",
     "output_type": "stream",
     "text": [
      "EvaluatorHoldout: Processed 35595 (100.0%) in 3.41 min. Users per second: 174\n"
     ]
    },
    {
     "name": "stderr",
     "output_type": "stream",
     "text": [
      "[I 2024-12-30 14:36:49,632] Trial 24 finished with value: 0.061245158830491836 and parameters: {'alpha': 0.9827128826864281}. Best is trial 4 with value: 0.061313959736629564.\n",
      "/var/folders/50/7hjr20g17_18p725nbt0qqv00000gn/T/ipykernel_67248/2275645446.py:6: FutureWarning: suggest_uniform has been deprecated in v3.0.0. This feature will be removed in v6.0.0. See https://github.com/optuna/optuna/releases/tag/v3.0.0. Use suggest_float instead.\n",
      "  alpha = trial.suggest_uniform('alpha', 0, 1)\n"
     ]
    },
    {
     "name": "stdout",
     "output_type": "stream",
     "text": [
      "EvaluatorHoldout: Processed 35595 (100.0%) in 3.23 min. Users per second: 184\n"
     ]
    },
    {
     "name": "stderr",
     "output_type": "stream",
     "text": [
      "[I 2024-12-30 14:40:03,668] Trial 25 finished with value: 0.06037918759768536 and parameters: {'alpha': 0.6879630909680672}. Best is trial 4 with value: 0.061313959736629564.\n",
      "/var/folders/50/7hjr20g17_18p725nbt0qqv00000gn/T/ipykernel_67248/2275645446.py:6: FutureWarning: suggest_uniform has been deprecated in v3.0.0. This feature will be removed in v6.0.0. See https://github.com/optuna/optuna/releases/tag/v3.0.0. Use suggest_float instead.\n",
      "  alpha = trial.suggest_uniform('alpha', 0, 1)\n"
     ]
    },
    {
     "name": "stdout",
     "output_type": "stream",
     "text": [
      "EvaluatorHoldout: Processed 35595 (100.0%) in 3.19 min. Users per second: 186\n"
     ]
    },
    {
     "name": "stderr",
     "output_type": "stream",
     "text": [
      "[I 2024-12-30 14:43:15,027] Trial 26 finished with value: 0.06104954882641158 and parameters: {'alpha': 0.7947817580286337}. Best is trial 4 with value: 0.061313959736629564.\n",
      "/var/folders/50/7hjr20g17_18p725nbt0qqv00000gn/T/ipykernel_67248/2275645446.py:6: FutureWarning: suggest_uniform has been deprecated in v3.0.0. This feature will be removed in v6.0.0. See https://github.com/optuna/optuna/releases/tag/v3.0.0. Use suggest_float instead.\n",
      "  alpha = trial.suggest_uniform('alpha', 0, 1)\n"
     ]
    },
    {
     "name": "stdout",
     "output_type": "stream",
     "text": [
      "EvaluatorHoldout: Processed 35595 (100.0%) in 3.29 min. Users per second: 180\n"
     ]
    },
    {
     "name": "stderr",
     "output_type": "stream",
     "text": [
      "[I 2024-12-30 14:46:32,580] Trial 27 finished with value: 0.059186658996602456 and parameters: {'alpha': 0.5795566185640524}. Best is trial 4 with value: 0.061313959736629564.\n",
      "/var/folders/50/7hjr20g17_18p725nbt0qqv00000gn/T/ipykernel_67248/2275645446.py:6: FutureWarning: suggest_uniform has been deprecated in v3.0.0. This feature will be removed in v6.0.0. See https://github.com/optuna/optuna/releases/tag/v3.0.0. Use suggest_float instead.\n",
      "  alpha = trial.suggest_uniform('alpha', 0, 1)\n"
     ]
    },
    {
     "name": "stdout",
     "output_type": "stream",
     "text": [
      "EvaluatorHoldout: Processed 35595 (100.0%) in 3.27 min. Users per second: 182\n"
     ]
    },
    {
     "name": "stderr",
     "output_type": "stream",
     "text": [
      "[I 2024-12-30 14:49:48,659] Trial 28 finished with value: 0.061276120018637914 and parameters: {'alpha': 0.8999400795736145}. Best is trial 4 with value: 0.061313959736629564.\n",
      "/var/folders/50/7hjr20g17_18p725nbt0qqv00000gn/T/ipykernel_67248/2275645446.py:6: FutureWarning: suggest_uniform has been deprecated in v3.0.0. This feature will be removed in v6.0.0. See https://github.com/optuna/optuna/releases/tag/v3.0.0. Use suggest_float instead.\n",
      "  alpha = trial.suggest_uniform('alpha', 0, 1)\n"
     ]
    },
    {
     "name": "stdout",
     "output_type": "stream",
     "text": [
      "EvaluatorHoldout: Processed 35595 (100.0%) in 3.33 min. Users per second: 178\n"
     ]
    },
    {
     "name": "stderr",
     "output_type": "stream",
     "text": [
      "[I 2024-12-30 14:53:08,826] Trial 29 finished with value: 0.05995948133432141 and parameters: {'alpha': 0.6475755680051996}. Best is trial 4 with value: 0.061313959736629564.\n",
      "/var/folders/50/7hjr20g17_18p725nbt0qqv00000gn/T/ipykernel_67248/2275645446.py:6: FutureWarning: suggest_uniform has been deprecated in v3.0.0. This feature will be removed in v6.0.0. See https://github.com/optuna/optuna/releases/tag/v3.0.0. Use suggest_float instead.\n",
      "  alpha = trial.suggest_uniform('alpha', 0, 1)\n"
     ]
    },
    {
     "name": "stdout",
     "output_type": "stream",
     "text": [
      "EvaluatorHoldout: Processed 35595 (100.0%) in 3.44 min. Users per second: 173\n"
     ]
    },
    {
     "name": "stderr",
     "output_type": "stream",
     "text": [
      "[I 2024-12-30 14:56:35,181] Trial 30 finished with value: 0.06131041010307567 and parameters: {'alpha': 0.9363725190969949}. Best is trial 4 with value: 0.061313959736629564.\n",
      "/var/folders/50/7hjr20g17_18p725nbt0qqv00000gn/T/ipykernel_67248/2275645446.py:6: FutureWarning: suggest_uniform has been deprecated in v3.0.0. This feature will be removed in v6.0.0. See https://github.com/optuna/optuna/releases/tag/v3.0.0. Use suggest_float instead.\n",
      "  alpha = trial.suggest_uniform('alpha', 0, 1)\n"
     ]
    },
    {
     "name": "stdout",
     "output_type": "stream",
     "text": [
      "EvaluatorHoldout: Processed 35595 (100.0%) in 3.42 min. Users per second: 174\n"
     ]
    },
    {
     "name": "stderr",
     "output_type": "stream",
     "text": [
      "[I 2024-12-30 15:00:00,421] Trial 31 finished with value: 0.06132807800274939 and parameters: {'alpha': 0.9451248329331026}. Best is trial 31 with value: 0.06132807800274939.\n",
      "/var/folders/50/7hjr20g17_18p725nbt0qqv00000gn/T/ipykernel_67248/2275645446.py:6: FutureWarning: suggest_uniform has been deprecated in v3.0.0. This feature will be removed in v6.0.0. See https://github.com/optuna/optuna/releases/tag/v3.0.0. Use suggest_float instead.\n",
      "  alpha = trial.suggest_uniform('alpha', 0, 1)\n"
     ]
    },
    {
     "name": "stdout",
     "output_type": "stream",
     "text": [
      "EvaluatorHoldout: Processed 35595 (100.0%) in 3.45 min. Users per second: 172\n"
     ]
    },
    {
     "name": "stderr",
     "output_type": "stream",
     "text": [
      "[I 2024-12-30 15:03:27,549] Trial 32 finished with value: 0.06127940655121235 and parameters: {'alpha': 0.9722907400987734}. Best is trial 31 with value: 0.06132807800274939.\n",
      "/var/folders/50/7hjr20g17_18p725nbt0qqv00000gn/T/ipykernel_67248/2275645446.py:6: FutureWarning: suggest_uniform has been deprecated in v3.0.0. This feature will be removed in v6.0.0. See https://github.com/optuna/optuna/releases/tag/v3.0.0. Use suggest_float instead.\n",
      "  alpha = trial.suggest_uniform('alpha', 0, 1)\n"
     ]
    },
    {
     "name": "stdout",
     "output_type": "stream",
     "text": [
      "EvaluatorHoldout: Processed 35595 (100.0%) in 3.22 min. Users per second: 184\n"
     ]
    },
    {
     "name": "stderr",
     "output_type": "stream",
     "text": [
      "[I 2024-12-30 15:06:40,901] Trial 33 finished with value: 0.06130509345658745 and parameters: {'alpha': 0.9413207719334937}. Best is trial 31 with value: 0.06132807800274939.\n",
      "/var/folders/50/7hjr20g17_18p725nbt0qqv00000gn/T/ipykernel_67248/2275645446.py:6: FutureWarning: suggest_uniform has been deprecated in v3.0.0. This feature will be removed in v6.0.0. See https://github.com/optuna/optuna/releases/tag/v3.0.0. Use suggest_float instead.\n",
      "  alpha = trial.suggest_uniform('alpha', 0, 1)\n"
     ]
    },
    {
     "name": "stdout",
     "output_type": "stream",
     "text": [
      "EvaluatorHoldout: Processed 35595 (100.0%) in 3.48 min. Users per second: 170\n"
     ]
    },
    {
     "name": "stderr",
     "output_type": "stream",
     "text": [
      "[I 2024-12-30 15:10:09,951] Trial 34 finished with value: 0.06128681239785137 and parameters: {'alpha': 0.8487721015337472}. Best is trial 31 with value: 0.06132807800274939.\n",
      "/var/folders/50/7hjr20g17_18p725nbt0qqv00000gn/T/ipykernel_67248/2275645446.py:6: FutureWarning: suggest_uniform has been deprecated in v3.0.0. This feature will be removed in v6.0.0. See https://github.com/optuna/optuna/releases/tag/v3.0.0. Use suggest_float instead.\n",
      "  alpha = trial.suggest_uniform('alpha', 0, 1)\n"
     ]
    },
    {
     "name": "stdout",
     "output_type": "stream",
     "text": [
      "EvaluatorHoldout: Processed 35595 (100.0%) in 3.39 min. Users per second: 175\n"
     ]
    },
    {
     "name": "stderr",
     "output_type": "stream",
     "text": [
      "[I 2024-12-30 15:13:33,555] Trial 35 finished with value: 0.06081853055873089 and parameters: {'alpha': 0.7392227480850188}. Best is trial 31 with value: 0.06132807800274939.\n",
      "/var/folders/50/7hjr20g17_18p725nbt0qqv00000gn/T/ipykernel_67248/2275645446.py:6: FutureWarning: suggest_uniform has been deprecated in v3.0.0. This feature will be removed in v6.0.0. See https://github.com/optuna/optuna/releases/tag/v3.0.0. Use suggest_float instead.\n",
      "  alpha = trial.suggest_uniform('alpha', 0, 1)\n"
     ]
    },
    {
     "name": "stdout",
     "output_type": "stream",
     "text": [
      "EvaluatorHoldout: Processed 35595 (100.0%) in 3.54 min. Users per second: 167\n"
     ]
    },
    {
     "name": "stderr",
     "output_type": "stream",
     "text": [
      "[I 2024-12-30 15:17:06,340] Trial 36 finished with value: 0.05020743394047073 and parameters: {'alpha': 0.06151467488125706}. Best is trial 31 with value: 0.06132807800274939.\n",
      "/var/folders/50/7hjr20g17_18p725nbt0qqv00000gn/T/ipykernel_67248/2275645446.py:6: FutureWarning: suggest_uniform has been deprecated in v3.0.0. This feature will be removed in v6.0.0. See https://github.com/optuna/optuna/releases/tag/v3.0.0. Use suggest_float instead.\n",
      "  alpha = trial.suggest_uniform('alpha', 0, 1)\n"
     ]
    },
    {
     "name": "stdout",
     "output_type": "stream",
     "text": [
      "EvaluatorHoldout: Processed 35595 (100.0%) in 3.53 min. Users per second: 168\n"
     ]
    },
    {
     "name": "stderr",
     "output_type": "stream",
     "text": [
      "[I 2024-12-30 15:20:38,411] Trial 37 finished with value: 0.053260501185067345 and parameters: {'alpha': 0.23381637130715172}. Best is trial 31 with value: 0.06132807800274939.\n",
      "/var/folders/50/7hjr20g17_18p725nbt0qqv00000gn/T/ipykernel_67248/2275645446.py:6: FutureWarning: suggest_uniform has been deprecated in v3.0.0. This feature will be removed in v6.0.0. See https://github.com/optuna/optuna/releases/tag/v3.0.0. Use suggest_float instead.\n",
      "  alpha = trial.suggest_uniform('alpha', 0, 1)\n"
     ]
    },
    {
     "name": "stdout",
     "output_type": "stream",
     "text": [
      "EvaluatorHoldout: Processed 35595 (100.0%) in 3.70 min. Users per second: 160\n"
     ]
    },
    {
     "name": "stderr",
     "output_type": "stream",
     "text": [
      "[I 2024-12-30 15:24:20,777] Trial 38 finished with value: 0.06129999977703112 and parameters: {'alpha': 0.9370914716951577}. Best is trial 31 with value: 0.06132807800274939.\n",
      "/var/folders/50/7hjr20g17_18p725nbt0qqv00000gn/T/ipykernel_67248/2275645446.py:6: FutureWarning: suggest_uniform has been deprecated in v3.0.0. This feature will be removed in v6.0.0. See https://github.com/optuna/optuna/releases/tag/v3.0.0. Use suggest_float instead.\n",
      "  alpha = trial.suggest_uniform('alpha', 0, 1)\n"
     ]
    },
    {
     "name": "stdout",
     "output_type": "stream",
     "text": [
      "EvaluatorHoldout: Processed 35595 (100.0%) in 3.15 min. Users per second: 189\n"
     ]
    },
    {
     "name": "stderr",
     "output_type": "stream",
     "text": [
      "[I 2024-12-30 15:27:29,606] Trial 39 finished with value: 0.061088061904537035 and parameters: {'alpha': 0.8026864622586796}. Best is trial 31 with value: 0.06132807800274939.\n",
      "/var/folders/50/7hjr20g17_18p725nbt0qqv00000gn/T/ipykernel_67248/2275645446.py:6: FutureWarning: suggest_uniform has been deprecated in v3.0.0. This feature will be removed in v6.0.0. See https://github.com/optuna/optuna/releases/tag/v3.0.0. Use suggest_float instead.\n",
      "  alpha = trial.suggest_uniform('alpha', 0, 1)\n",
      "[W 2024-12-30 15:29:42,815] Trial 40 failed with parameters: {'alpha': 0.570236754612205} because of the following error: KeyboardInterrupt().\n",
      "Traceback (most recent call last):\n",
      "  File \"/Users/lucapagano/miniconda3/envs/RecSysPD/lib/python3.8/site-packages/optuna/study/_optimize.py\", line 197, in _run_trial\n",
      "    value_or_values = func(trial)\n",
      "  File \"/var/folders/50/7hjr20g17_18p725nbt0qqv00000gn/T/ipykernel_67248/2275645446.py\", line 8, in objective_function\n",
      "    result_dict, _ = evaluator_test.evaluateRecommender(recommender)\n",
      "  File \"/Users/lucapagano/Developer/RecSys/Competizione/Evaluation/Evaluator.py\", line 276, in evaluateRecommender\n",
      "    results_dict = self._run_evaluation_on_selected_users(recommender_object, self.users_to_evaluate)\n",
      "  File \"/Users/lucapagano/Developer/RecSys/Competizione/Evaluation/Evaluator.py\", line 476, in _run_evaluation_on_selected_users\n",
      "    recommended_items_batch_list, scores_batch = recommender_object.recommend(test_user_batch_array,\n",
      "  File \"/Users/lucapagano/Developer/RecSys/Competizione/Recommenders/BaseRecommender.py\", line 147, in recommend\n",
      "    scores_batch = self._compute_item_score(user_id_array, items_to_compute=items_to_compute)\n",
      "  File \"/Users/lucapagano/Developer/RecSys/Competizione/Recommenders/Hybrid/GeneralizedLinearCoupleHybridRecommender.py\", line 71, in _compute_item_score\n",
      "    result = self.alpha*self.recommenders[0]._compute_item_score(user_id_array,items_to_compute)\n",
      "  File \"/Users/lucapagano/Developer/RecSys/Competizione/Recommenders/BaseSimilarityMatrixRecommender.py\", line 90, in _compute_item_score\n",
      "    item_scores = user_profile_array.dot(self.W_sparse).toarray()\n",
      "  File \"/Users/lucapagano/miniconda3/envs/RecSysPD/lib/python3.8/site-packages/scipy/sparse/_base.py\", line 416, in dot\n",
      "    return self @ other\n",
      "  File \"/Users/lucapagano/miniconda3/envs/RecSysPD/lib/python3.8/site-packages/scipy/sparse/_base.py\", line 630, in __matmul__\n",
      "    return self._mul_dispatch(other)\n",
      "  File \"/Users/lucapagano/miniconda3/envs/RecSysPD/lib/python3.8/site-packages/scipy/sparse/_base.py\", line 541, in _mul_dispatch\n",
      "    return self._mul_sparse_matrix(other)\n",
      "  File \"/Users/lucapagano/miniconda3/envs/RecSysPD/lib/python3.8/site-packages/scipy/sparse/_compressed.py\", line 533, in _mul_sparse_matrix\n",
      "    fn(M, N, np.asarray(self.indptr, dtype=idx_dtype),\n",
      "KeyboardInterrupt\n",
      "[W 2024-12-30 15:29:42,836] Trial 40 failed with value None.\n"
     ]
    },
    {
     "ename": "KeyboardInterrupt",
     "evalue": "",
     "output_type": "error",
     "traceback": [
      "\u001b[0;31m---------------------------------------------------------------------------\u001b[0m",
      "\u001b[0;31mKeyboardInterrupt\u001b[0m                         Traceback (most recent call last)",
      "Cell \u001b[0;32mIn[7], line 28\u001b[0m\n\u001b[1;32m     24\u001b[0m optuna_study \u001b[38;5;241m=\u001b[39m optuna\u001b[38;5;241m.\u001b[39mcreate_study(study_name\u001b[38;5;241m=\u001b[39m\u001b[38;5;124m\"\u001b[39m\u001b[38;5;124mHYBRID_IALS_INCLUDED\u001b[39m\u001b[38;5;124m\"\u001b[39m, direction\u001b[38;5;241m=\u001b[39m\u001b[38;5;124m\"\u001b[39m\u001b[38;5;124mmaximize\u001b[39m\u001b[38;5;124m\"\u001b[39m)\n\u001b[1;32m     26\u001b[0m save_results \u001b[38;5;241m=\u001b[39m SaveResults()\n\u001b[0;32m---> 28\u001b[0m \u001b[43moptuna_study\u001b[49m\u001b[38;5;241;43m.\u001b[39;49m\u001b[43moptimize\u001b[49m\u001b[43m(\u001b[49m\u001b[43mobjective_function\u001b[49m\u001b[43m,\u001b[49m\n\u001b[1;32m     29\u001b[0m \u001b[43m                      \u001b[49m\u001b[43mcallbacks\u001b[49m\u001b[38;5;241;43m=\u001b[39;49m\u001b[43m[\u001b[49m\u001b[43msave_results\u001b[49m\u001b[43m]\u001b[49m\u001b[43m,\u001b[49m\n\u001b[1;32m     30\u001b[0m \u001b[43m                      \u001b[49m\u001b[43mn_trials\u001b[49m\u001b[43m \u001b[49m\u001b[38;5;241;43m=\u001b[39;49m\u001b[43m \u001b[49m\u001b[38;5;241;43m100\u001b[39;49m\u001b[43m,\u001b[49m\n\u001b[1;32m     31\u001b[0m \u001b[43m                      \u001b[49m\u001b[43m)\u001b[49m\n",
      "File \u001b[0;32m~/miniconda3/envs/RecSysPD/lib/python3.8/site-packages/optuna/study/study.py:475\u001b[0m, in \u001b[0;36mStudy.optimize\u001b[0;34m(self, func, n_trials, timeout, n_jobs, catch, callbacks, gc_after_trial, show_progress_bar)\u001b[0m\n\u001b[1;32m    373\u001b[0m \u001b[38;5;28;01mdef\u001b[39;00m \u001b[38;5;21moptimize\u001b[39m(\n\u001b[1;32m    374\u001b[0m     \u001b[38;5;28mself\u001b[39m,\n\u001b[1;32m    375\u001b[0m     func: ObjectiveFuncType,\n\u001b[0;32m   (...)\u001b[0m\n\u001b[1;32m    382\u001b[0m     show_progress_bar: \u001b[38;5;28mbool\u001b[39m \u001b[38;5;241m=\u001b[39m \u001b[38;5;28;01mFalse\u001b[39;00m,\n\u001b[1;32m    383\u001b[0m ) \u001b[38;5;241m-\u001b[39m\u001b[38;5;241m>\u001b[39m \u001b[38;5;28;01mNone\u001b[39;00m:\n\u001b[1;32m    384\u001b[0m \u001b[38;5;250m    \u001b[39m\u001b[38;5;124;03m\"\"\"Optimize an objective function.\u001b[39;00m\n\u001b[1;32m    385\u001b[0m \n\u001b[1;32m    386\u001b[0m \u001b[38;5;124;03m    Optimization is done by choosing a suitable set of hyperparameter values from a given\u001b[39;00m\n\u001b[0;32m   (...)\u001b[0m\n\u001b[1;32m    473\u001b[0m \u001b[38;5;124;03m            If nested invocation of this method occurs.\u001b[39;00m\n\u001b[1;32m    474\u001b[0m \u001b[38;5;124;03m    \"\"\"\u001b[39;00m\n\u001b[0;32m--> 475\u001b[0m     \u001b[43m_optimize\u001b[49m\u001b[43m(\u001b[49m\n\u001b[1;32m    476\u001b[0m \u001b[43m        \u001b[49m\u001b[43mstudy\u001b[49m\u001b[38;5;241;43m=\u001b[39;49m\u001b[38;5;28;43mself\u001b[39;49m\u001b[43m,\u001b[49m\n\u001b[1;32m    477\u001b[0m \u001b[43m        \u001b[49m\u001b[43mfunc\u001b[49m\u001b[38;5;241;43m=\u001b[39;49m\u001b[43mfunc\u001b[49m\u001b[43m,\u001b[49m\n\u001b[1;32m    478\u001b[0m \u001b[43m        \u001b[49m\u001b[43mn_trials\u001b[49m\u001b[38;5;241;43m=\u001b[39;49m\u001b[43mn_trials\u001b[49m\u001b[43m,\u001b[49m\n\u001b[1;32m    479\u001b[0m \u001b[43m        \u001b[49m\u001b[43mtimeout\u001b[49m\u001b[38;5;241;43m=\u001b[39;49m\u001b[43mtimeout\u001b[49m\u001b[43m,\u001b[49m\n\u001b[1;32m    480\u001b[0m \u001b[43m        \u001b[49m\u001b[43mn_jobs\u001b[49m\u001b[38;5;241;43m=\u001b[39;49m\u001b[43mn_jobs\u001b[49m\u001b[43m,\u001b[49m\n\u001b[1;32m    481\u001b[0m \u001b[43m        \u001b[49m\u001b[43mcatch\u001b[49m\u001b[38;5;241;43m=\u001b[39;49m\u001b[38;5;28;43mtuple\u001b[39;49m\u001b[43m(\u001b[49m\u001b[43mcatch\u001b[49m\u001b[43m)\u001b[49m\u001b[43m \u001b[49m\u001b[38;5;28;43;01mif\u001b[39;49;00m\u001b[43m \u001b[49m\u001b[38;5;28;43misinstance\u001b[39;49m\u001b[43m(\u001b[49m\u001b[43mcatch\u001b[49m\u001b[43m,\u001b[49m\u001b[43m \u001b[49m\u001b[43mIterable\u001b[49m\u001b[43m)\u001b[49m\u001b[43m \u001b[49m\u001b[38;5;28;43;01melse\u001b[39;49;00m\u001b[43m \u001b[49m\u001b[43m(\u001b[49m\u001b[43mcatch\u001b[49m\u001b[43m,\u001b[49m\u001b[43m)\u001b[49m\u001b[43m,\u001b[49m\n\u001b[1;32m    482\u001b[0m \u001b[43m        \u001b[49m\u001b[43mcallbacks\u001b[49m\u001b[38;5;241;43m=\u001b[39;49m\u001b[43mcallbacks\u001b[49m\u001b[43m,\u001b[49m\n\u001b[1;32m    483\u001b[0m \u001b[43m        \u001b[49m\u001b[43mgc_after_trial\u001b[49m\u001b[38;5;241;43m=\u001b[39;49m\u001b[43mgc_after_trial\u001b[49m\u001b[43m,\u001b[49m\n\u001b[1;32m    484\u001b[0m \u001b[43m        \u001b[49m\u001b[43mshow_progress_bar\u001b[49m\u001b[38;5;241;43m=\u001b[39;49m\u001b[43mshow_progress_bar\u001b[49m\u001b[43m,\u001b[49m\n\u001b[1;32m    485\u001b[0m \u001b[43m    \u001b[49m\u001b[43m)\u001b[49m\n",
      "File \u001b[0;32m~/miniconda3/envs/RecSysPD/lib/python3.8/site-packages/optuna/study/_optimize.py:63\u001b[0m, in \u001b[0;36m_optimize\u001b[0;34m(study, func, n_trials, timeout, n_jobs, catch, callbacks, gc_after_trial, show_progress_bar)\u001b[0m\n\u001b[1;32m     61\u001b[0m \u001b[38;5;28;01mtry\u001b[39;00m:\n\u001b[1;32m     62\u001b[0m     \u001b[38;5;28;01mif\u001b[39;00m n_jobs \u001b[38;5;241m==\u001b[39m \u001b[38;5;241m1\u001b[39m:\n\u001b[0;32m---> 63\u001b[0m         \u001b[43m_optimize_sequential\u001b[49m\u001b[43m(\u001b[49m\n\u001b[1;32m     64\u001b[0m \u001b[43m            \u001b[49m\u001b[43mstudy\u001b[49m\u001b[43m,\u001b[49m\n\u001b[1;32m     65\u001b[0m \u001b[43m            \u001b[49m\u001b[43mfunc\u001b[49m\u001b[43m,\u001b[49m\n\u001b[1;32m     66\u001b[0m \u001b[43m            \u001b[49m\u001b[43mn_trials\u001b[49m\u001b[43m,\u001b[49m\n\u001b[1;32m     67\u001b[0m \u001b[43m            \u001b[49m\u001b[43mtimeout\u001b[49m\u001b[43m,\u001b[49m\n\u001b[1;32m     68\u001b[0m \u001b[43m            \u001b[49m\u001b[43mcatch\u001b[49m\u001b[43m,\u001b[49m\n\u001b[1;32m     69\u001b[0m \u001b[43m            \u001b[49m\u001b[43mcallbacks\u001b[49m\u001b[43m,\u001b[49m\n\u001b[1;32m     70\u001b[0m \u001b[43m            \u001b[49m\u001b[43mgc_after_trial\u001b[49m\u001b[43m,\u001b[49m\n\u001b[1;32m     71\u001b[0m \u001b[43m            \u001b[49m\u001b[43mreseed_sampler_rng\u001b[49m\u001b[38;5;241;43m=\u001b[39;49m\u001b[38;5;28;43;01mFalse\u001b[39;49;00m\u001b[43m,\u001b[49m\n\u001b[1;32m     72\u001b[0m \u001b[43m            \u001b[49m\u001b[43mtime_start\u001b[49m\u001b[38;5;241;43m=\u001b[39;49m\u001b[38;5;28;43;01mNone\u001b[39;49;00m\u001b[43m,\u001b[49m\n\u001b[1;32m     73\u001b[0m \u001b[43m            \u001b[49m\u001b[43mprogress_bar\u001b[49m\u001b[38;5;241;43m=\u001b[39;49m\u001b[43mprogress_bar\u001b[49m\u001b[43m,\u001b[49m\n\u001b[1;32m     74\u001b[0m \u001b[43m        \u001b[49m\u001b[43m)\u001b[49m\n\u001b[1;32m     75\u001b[0m     \u001b[38;5;28;01melse\u001b[39;00m:\n\u001b[1;32m     76\u001b[0m         \u001b[38;5;28;01mif\u001b[39;00m n_jobs \u001b[38;5;241m==\u001b[39m \u001b[38;5;241m-\u001b[39m\u001b[38;5;241m1\u001b[39m:\n",
      "File \u001b[0;32m~/miniconda3/envs/RecSysPD/lib/python3.8/site-packages/optuna/study/_optimize.py:160\u001b[0m, in \u001b[0;36m_optimize_sequential\u001b[0;34m(study, func, n_trials, timeout, catch, callbacks, gc_after_trial, reseed_sampler_rng, time_start, progress_bar)\u001b[0m\n\u001b[1;32m    157\u001b[0m         \u001b[38;5;28;01mbreak\u001b[39;00m\n\u001b[1;32m    159\u001b[0m \u001b[38;5;28;01mtry\u001b[39;00m:\n\u001b[0;32m--> 160\u001b[0m     frozen_trial \u001b[38;5;241m=\u001b[39m \u001b[43m_run_trial\u001b[49m\u001b[43m(\u001b[49m\u001b[43mstudy\u001b[49m\u001b[43m,\u001b[49m\u001b[43m \u001b[49m\u001b[43mfunc\u001b[49m\u001b[43m,\u001b[49m\u001b[43m \u001b[49m\u001b[43mcatch\u001b[49m\u001b[43m)\u001b[49m\n\u001b[1;32m    161\u001b[0m \u001b[38;5;28;01mfinally\u001b[39;00m:\n\u001b[1;32m    162\u001b[0m     \u001b[38;5;66;03m# The following line mitigates memory problems that can be occurred in some\u001b[39;00m\n\u001b[1;32m    163\u001b[0m     \u001b[38;5;66;03m# environments (e.g., services that use computing containers such as GitHub Actions).\u001b[39;00m\n\u001b[1;32m    164\u001b[0m     \u001b[38;5;66;03m# Please refer to the following PR for further details:\u001b[39;00m\n\u001b[1;32m    165\u001b[0m     \u001b[38;5;66;03m# https://github.com/optuna/optuna/pull/325.\u001b[39;00m\n\u001b[1;32m    166\u001b[0m     \u001b[38;5;28;01mif\u001b[39;00m gc_after_trial:\n",
      "File \u001b[0;32m~/miniconda3/envs/RecSysPD/lib/python3.8/site-packages/optuna/study/_optimize.py:248\u001b[0m, in \u001b[0;36m_run_trial\u001b[0;34m(study, func, catch)\u001b[0m\n\u001b[1;32m    241\u001b[0m         \u001b[38;5;28;01massert\u001b[39;00m \u001b[38;5;28;01mFalse\u001b[39;00m, \u001b[38;5;124m\"\u001b[39m\u001b[38;5;124mShould not reach.\u001b[39m\u001b[38;5;124m\"\u001b[39m\n\u001b[1;32m    243\u001b[0m \u001b[38;5;28;01mif\u001b[39;00m (\n\u001b[1;32m    244\u001b[0m     frozen_trial\u001b[38;5;241m.\u001b[39mstate \u001b[38;5;241m==\u001b[39m TrialState\u001b[38;5;241m.\u001b[39mFAIL\n\u001b[1;32m    245\u001b[0m     \u001b[38;5;129;01mand\u001b[39;00m func_err \u001b[38;5;129;01mis\u001b[39;00m \u001b[38;5;129;01mnot\u001b[39;00m \u001b[38;5;28;01mNone\u001b[39;00m\n\u001b[1;32m    246\u001b[0m     \u001b[38;5;129;01mand\u001b[39;00m \u001b[38;5;129;01mnot\u001b[39;00m \u001b[38;5;28misinstance\u001b[39m(func_err, catch)\n\u001b[1;32m    247\u001b[0m ):\n\u001b[0;32m--> 248\u001b[0m     \u001b[38;5;28;01mraise\u001b[39;00m func_err\n\u001b[1;32m    249\u001b[0m \u001b[38;5;28;01mreturn\u001b[39;00m frozen_trial\n",
      "File \u001b[0;32m~/miniconda3/envs/RecSysPD/lib/python3.8/site-packages/optuna/study/_optimize.py:197\u001b[0m, in \u001b[0;36m_run_trial\u001b[0;34m(study, func, catch)\u001b[0m\n\u001b[1;32m    195\u001b[0m \u001b[38;5;28;01mwith\u001b[39;00m get_heartbeat_thread(trial\u001b[38;5;241m.\u001b[39m_trial_id, study\u001b[38;5;241m.\u001b[39m_storage):\n\u001b[1;32m    196\u001b[0m     \u001b[38;5;28;01mtry\u001b[39;00m:\n\u001b[0;32m--> 197\u001b[0m         value_or_values \u001b[38;5;241m=\u001b[39m \u001b[43mfunc\u001b[49m\u001b[43m(\u001b[49m\u001b[43mtrial\u001b[49m\u001b[43m)\u001b[49m\n\u001b[1;32m    198\u001b[0m     \u001b[38;5;28;01mexcept\u001b[39;00m exceptions\u001b[38;5;241m.\u001b[39mTrialPruned \u001b[38;5;28;01mas\u001b[39;00m e:\n\u001b[1;32m    199\u001b[0m         \u001b[38;5;66;03m# TODO(mamu): Handle multi-objective cases.\u001b[39;00m\n\u001b[1;32m    200\u001b[0m         state \u001b[38;5;241m=\u001b[39m TrialState\u001b[38;5;241m.\u001b[39mPRUNED\n",
      "Cell \u001b[0;32mIn[7], line 8\u001b[0m, in \u001b[0;36mobjective_function\u001b[0;34m(trial)\u001b[0m\n\u001b[1;32m      6\u001b[0m alpha \u001b[38;5;241m=\u001b[39m trial\u001b[38;5;241m.\u001b[39msuggest_uniform(\u001b[38;5;124m'\u001b[39m\u001b[38;5;124malpha\u001b[39m\u001b[38;5;124m'\u001b[39m, \u001b[38;5;241m0\u001b[39m, \u001b[38;5;241m1\u001b[39m)\n\u001b[1;32m      7\u001b[0m recommender\u001b[38;5;241m.\u001b[39mfit(alpha)\n\u001b[0;32m----> 8\u001b[0m result_dict, _ \u001b[38;5;241m=\u001b[39m \u001b[43mevaluator_test\u001b[49m\u001b[38;5;241;43m.\u001b[39;49m\u001b[43mevaluateRecommender\u001b[49m\u001b[43m(\u001b[49m\u001b[43mrecommender\u001b[49m\u001b[43m)\u001b[49m\n\u001b[1;32m      9\u001b[0m MAP \u001b[38;5;241m=\u001b[39m result_dict\u001b[38;5;241m.\u001b[39mloc[\u001b[38;5;241m10\u001b[39m][\u001b[38;5;124m\"\u001b[39m\u001b[38;5;124mMAP\u001b[39m\u001b[38;5;124m\"\u001b[39m]\n\u001b[1;32m     10\u001b[0m \u001b[38;5;28;01mreturn\u001b[39;00m MAP\n",
      "File \u001b[0;32m~/Developer/RecSys/Competizione/Evaluation/Evaluator.py:276\u001b[0m, in \u001b[0;36mEvaluator.evaluateRecommender\u001b[0;34m(self, recommender_object)\u001b[0m\n\u001b[1;32m    273\u001b[0m \u001b[38;5;28mself\u001b[39m\u001b[38;5;241m.\u001b[39m_start_time_print \u001b[38;5;241m=\u001b[39m time\u001b[38;5;241m.\u001b[39mtime()\n\u001b[1;32m    274\u001b[0m \u001b[38;5;28mself\u001b[39m\u001b[38;5;241m.\u001b[39m_n_users_evaluated \u001b[38;5;241m=\u001b[39m \u001b[38;5;241m0\u001b[39m\n\u001b[0;32m--> 276\u001b[0m results_dict \u001b[38;5;241m=\u001b[39m \u001b[38;5;28;43mself\u001b[39;49m\u001b[38;5;241;43m.\u001b[39;49m\u001b[43m_run_evaluation_on_selected_users\u001b[49m\u001b[43m(\u001b[49m\u001b[43mrecommender_object\u001b[49m\u001b[43m,\u001b[49m\u001b[43m \u001b[49m\u001b[38;5;28;43mself\u001b[39;49m\u001b[38;5;241;43m.\u001b[39;49m\u001b[43musers_to_evaluate\u001b[49m\u001b[43m)\u001b[49m\n\u001b[1;32m    279\u001b[0m \u001b[38;5;28;01mif\u001b[39;00m \u001b[38;5;28mself\u001b[39m\u001b[38;5;241m.\u001b[39m_n_users_evaluated \u001b[38;5;241m>\u001b[39m \u001b[38;5;241m0\u001b[39m:\n\u001b[1;32m    281\u001b[0m     \u001b[38;5;28;01mfor\u001b[39;00m cutoff \u001b[38;5;129;01min\u001b[39;00m \u001b[38;5;28mself\u001b[39m\u001b[38;5;241m.\u001b[39mcutoff_list:\n",
      "File \u001b[0;32m~/Developer/RecSys/Competizione/Evaluation/Evaluator.py:476\u001b[0m, in \u001b[0;36mEvaluatorHoldout._run_evaluation_on_selected_users\u001b[0;34m(self, recommender_object, users_to_evaluate, block_size)\u001b[0m\n\u001b[1;32m    473\u001b[0m     user_batch_start \u001b[38;5;241m=\u001b[39m user_batch_end\n\u001b[1;32m    475\u001b[0m     \u001b[38;5;66;03m# Compute predictions for a batch of users using vectorization, much more efficient than computing it one at a time\u001b[39;00m\n\u001b[0;32m--> 476\u001b[0m     recommended_items_batch_list, scores_batch \u001b[38;5;241m=\u001b[39m \u001b[43mrecommender_object\u001b[49m\u001b[38;5;241;43m.\u001b[39;49m\u001b[43mrecommend\u001b[49m\u001b[43m(\u001b[49m\u001b[43mtest_user_batch_array\u001b[49m\u001b[43m,\u001b[49m\n\u001b[1;32m    477\u001b[0m \u001b[43m                                                              \u001b[49m\u001b[43mremove_seen_flag\u001b[49m\u001b[38;5;241;43m=\u001b[39;49m\u001b[38;5;28;43mself\u001b[39;49m\u001b[38;5;241;43m.\u001b[39;49m\u001b[43mexclude_seen\u001b[49m\u001b[43m,\u001b[49m\n\u001b[1;32m    478\u001b[0m \u001b[43m                                                              \u001b[49m\u001b[43mcutoff\u001b[49m\u001b[43m \u001b[49m\u001b[38;5;241;43m=\u001b[39;49m\u001b[43m \u001b[49m\u001b[38;5;28;43mself\u001b[39;49m\u001b[38;5;241;43m.\u001b[39;49m\u001b[43mmax_cutoff\u001b[49m\u001b[43m,\u001b[49m\n\u001b[1;32m    479\u001b[0m \u001b[43m                                                              \u001b[49m\u001b[43mremove_top_pop_flag\u001b[49m\u001b[38;5;241;43m=\u001b[39;49m\u001b[38;5;28;43;01mFalse\u001b[39;49;00m\u001b[43m,\u001b[49m\n\u001b[1;32m    480\u001b[0m \u001b[43m                                                              \u001b[49m\u001b[43mremove_custom_items_flag\u001b[49m\u001b[38;5;241;43m=\u001b[39;49m\u001b[38;5;28;43mself\u001b[39;49m\u001b[38;5;241;43m.\u001b[39;49m\u001b[43mignore_items_flag\u001b[49m\u001b[43m,\u001b[49m\n\u001b[1;32m    481\u001b[0m \u001b[43m                                                              \u001b[49m\u001b[43mreturn_scores\u001b[49m\u001b[43m \u001b[49m\u001b[38;5;241;43m=\u001b[39;49m\u001b[43m \u001b[49m\u001b[38;5;28;43;01mTrue\u001b[39;49;00m\n\u001b[1;32m    482\u001b[0m \u001b[43m                                                             \u001b[49m\u001b[43m)\u001b[49m\n\u001b[1;32m    484\u001b[0m     results_dict \u001b[38;5;241m=\u001b[39m \u001b[38;5;28mself\u001b[39m\u001b[38;5;241m.\u001b[39m_compute_metrics_on_recommendation_list(test_user_batch_array \u001b[38;5;241m=\u001b[39m test_user_batch_array,\n\u001b[1;32m    485\u001b[0m                                                  recommended_items_batch_list \u001b[38;5;241m=\u001b[39m recommended_items_batch_list,\n\u001b[1;32m    486\u001b[0m                                                  scores_batch \u001b[38;5;241m=\u001b[39m scores_batch,\n\u001b[1;32m    487\u001b[0m                                                  results_dict \u001b[38;5;241m=\u001b[39m results_dict)\n\u001b[1;32m    490\u001b[0m \u001b[38;5;28;01mreturn\u001b[39;00m results_dict\n",
      "File \u001b[0;32m~/Developer/RecSys/Competizione/Recommenders/BaseRecommender.py:147\u001b[0m, in \u001b[0;36mBaseRecommender.recommend\u001b[0;34m(self, user_id_array, cutoff, remove_seen_flag, items_to_compute, remove_top_pop_flag, remove_custom_items_flag, return_scores)\u001b[0m\n\u001b[1;32m    143\u001b[0m cutoff \u001b[38;5;241m=\u001b[39m \u001b[38;5;28mmin\u001b[39m(cutoff, \u001b[38;5;28mself\u001b[39m\u001b[38;5;241m.\u001b[39mURM_train\u001b[38;5;241m.\u001b[39mshape[\u001b[38;5;241m1\u001b[39m] \u001b[38;5;241m-\u001b[39m \u001b[38;5;241m1\u001b[39m)\n\u001b[1;32m    145\u001b[0m \u001b[38;5;66;03m# Compute the scores using the model-specific function\u001b[39;00m\n\u001b[1;32m    146\u001b[0m \u001b[38;5;66;03m# Vectorize over all users in user_id_array\u001b[39;00m\n\u001b[0;32m--> 147\u001b[0m scores_batch \u001b[38;5;241m=\u001b[39m \u001b[38;5;28;43mself\u001b[39;49m\u001b[38;5;241;43m.\u001b[39;49m\u001b[43m_compute_item_score\u001b[49m\u001b[43m(\u001b[49m\u001b[43muser_id_array\u001b[49m\u001b[43m,\u001b[49m\u001b[43m \u001b[49m\u001b[43mitems_to_compute\u001b[49m\u001b[38;5;241;43m=\u001b[39;49m\u001b[43mitems_to_compute\u001b[49m\u001b[43m)\u001b[49m\n\u001b[1;32m    150\u001b[0m \u001b[38;5;28;01mfor\u001b[39;00m user_index \u001b[38;5;129;01min\u001b[39;00m \u001b[38;5;28mrange\u001b[39m(\u001b[38;5;28mlen\u001b[39m(user_id_array)):\n\u001b[1;32m    152\u001b[0m     user_id \u001b[38;5;241m=\u001b[39m user_id_array[user_index]\n",
      "File \u001b[0;32m~/Developer/RecSys/Competizione/Recommenders/Hybrid/GeneralizedLinearCoupleHybridRecommender.py:71\u001b[0m, in \u001b[0;36mGeneralizedLinearCoupleHybridRecommender._compute_item_score\u001b[0;34m(self, user_id_array, items_to_compute)\u001b[0m\n\u001b[1;32m     70\u001b[0m \u001b[38;5;28;01mdef\u001b[39;00m \u001b[38;5;21m_compute_item_score\u001b[39m(\u001b[38;5;28mself\u001b[39m, user_id_array, items_to_compute\u001b[38;5;241m=\u001b[39m\u001b[38;5;28;01mNone\u001b[39;00m):\n\u001b[0;32m---> 71\u001b[0m     result \u001b[38;5;241m=\u001b[39m \u001b[38;5;28mself\u001b[39m\u001b[38;5;241m.\u001b[39malpha\u001b[38;5;241m*\u001b[39m\u001b[38;5;28;43mself\u001b[39;49m\u001b[38;5;241;43m.\u001b[39;49m\u001b[43mrecommenders\u001b[49m\u001b[43m[\u001b[49m\u001b[38;5;241;43m0\u001b[39;49m\u001b[43m]\u001b[49m\u001b[38;5;241;43m.\u001b[39;49m\u001b[43m_compute_item_score\u001b[49m\u001b[43m(\u001b[49m\u001b[43muser_id_array\u001b[49m\u001b[43m,\u001b[49m\u001b[43mitems_to_compute\u001b[49m\u001b[43m)\u001b[49m\n\u001b[1;32m     72\u001b[0m     result \u001b[38;5;241m+\u001b[39m\u001b[38;5;241m=\u001b[39m (\u001b[38;5;241m1\u001b[39m\u001b[38;5;241m-\u001b[39m\u001b[38;5;28mself\u001b[39m\u001b[38;5;241m.\u001b[39malpha)\u001b[38;5;241m*\u001b[39m\u001b[38;5;28mself\u001b[39m\u001b[38;5;241m.\u001b[39mrecommenders[\u001b[38;5;241m1\u001b[39m]\u001b[38;5;241m.\u001b[39m_compute_item_score(user_id_array,items_to_compute)\n\u001b[1;32m     73\u001b[0m     \u001b[38;5;28;01mreturn\u001b[39;00m result\n",
      "File \u001b[0;32m~/Developer/RecSys/Competizione/Recommenders/BaseSimilarityMatrixRecommender.py:90\u001b[0m, in \u001b[0;36mBaseItemSimilarityMatrixRecommender._compute_item_score\u001b[0;34m(self, user_id_array, items_to_compute)\u001b[0m\n\u001b[1;32m     88\u001b[0m     item_scores[:, items_to_compute] \u001b[38;5;241m=\u001b[39m item_scores_all[:, items_to_compute]\n\u001b[1;32m     89\u001b[0m \u001b[38;5;28;01melse\u001b[39;00m:\n\u001b[0;32m---> 90\u001b[0m     item_scores \u001b[38;5;241m=\u001b[39m \u001b[43muser_profile_array\u001b[49m\u001b[38;5;241;43m.\u001b[39;49m\u001b[43mdot\u001b[49m\u001b[43m(\u001b[49m\u001b[38;5;28;43mself\u001b[39;49m\u001b[38;5;241;43m.\u001b[39;49m\u001b[43mW_sparse\u001b[49m\u001b[43m)\u001b[49m\u001b[38;5;241m.\u001b[39mtoarray()\n\u001b[1;32m     92\u001b[0m \u001b[38;5;28;01mreturn\u001b[39;00m item_scores\n",
      "File \u001b[0;32m~/miniconda3/envs/RecSysPD/lib/python3.8/site-packages/scipy/sparse/_base.py:416\u001b[0m, in \u001b[0;36mspmatrix.dot\u001b[0;34m(self, other)\u001b[0m\n\u001b[1;32m    414\u001b[0m     \u001b[38;5;28;01mreturn\u001b[39;00m \u001b[38;5;28mself\u001b[39m \u001b[38;5;241m*\u001b[39m other\n\u001b[1;32m    415\u001b[0m \u001b[38;5;28;01melse\u001b[39;00m:\n\u001b[0;32m--> 416\u001b[0m     \u001b[38;5;28;01mreturn\u001b[39;00m \u001b[38;5;28;43mself\u001b[39;49m\u001b[43m \u001b[49m\u001b[38;5;241;43m@\u001b[39;49m\u001b[43m \u001b[49m\u001b[43mother\u001b[49m\n",
      "File \u001b[0;32m~/miniconda3/envs/RecSysPD/lib/python3.8/site-packages/scipy/sparse/_base.py:630\u001b[0m, in \u001b[0;36mspmatrix.__matmul__\u001b[0;34m(self, other)\u001b[0m\n\u001b[1;32m    627\u001b[0m \u001b[38;5;28;01mif\u001b[39;00m isscalarlike(other):\n\u001b[1;32m    628\u001b[0m     \u001b[38;5;28;01mraise\u001b[39;00m \u001b[38;5;167;01mValueError\u001b[39;00m(\u001b[38;5;124m\"\u001b[39m\u001b[38;5;124mScalar operands are not allowed, \u001b[39m\u001b[38;5;124m\"\u001b[39m\n\u001b[1;32m    629\u001b[0m                      \u001b[38;5;124m\"\u001b[39m\u001b[38;5;124muse \u001b[39m\u001b[38;5;124m'\u001b[39m\u001b[38;5;124m*\u001b[39m\u001b[38;5;124m'\u001b[39m\u001b[38;5;124m instead\u001b[39m\u001b[38;5;124m\"\u001b[39m)\n\u001b[0;32m--> 630\u001b[0m \u001b[38;5;28;01mreturn\u001b[39;00m \u001b[38;5;28;43mself\u001b[39;49m\u001b[38;5;241;43m.\u001b[39;49m\u001b[43m_mul_dispatch\u001b[49m\u001b[43m(\u001b[49m\u001b[43mother\u001b[49m\u001b[43m)\u001b[49m\n",
      "File \u001b[0;32m~/miniconda3/envs/RecSysPD/lib/python3.8/site-packages/scipy/sparse/_base.py:541\u001b[0m, in \u001b[0;36mspmatrix._mul_dispatch\u001b[0;34m(self, other)\u001b[0m\n\u001b[1;32m    539\u001b[0m     \u001b[38;5;28;01mif\u001b[39;00m \u001b[38;5;28mself\u001b[39m\u001b[38;5;241m.\u001b[39mshape[\u001b[38;5;241m1\u001b[39m] \u001b[38;5;241m!=\u001b[39m other\u001b[38;5;241m.\u001b[39mshape[\u001b[38;5;241m0\u001b[39m]:\n\u001b[1;32m    540\u001b[0m         \u001b[38;5;28;01mraise\u001b[39;00m \u001b[38;5;167;01mValueError\u001b[39;00m(\u001b[38;5;124m'\u001b[39m\u001b[38;5;124mdimension mismatch\u001b[39m\u001b[38;5;124m'\u001b[39m)\n\u001b[0;32m--> 541\u001b[0m     \u001b[38;5;28;01mreturn\u001b[39;00m \u001b[38;5;28;43mself\u001b[39;49m\u001b[38;5;241;43m.\u001b[39;49m\u001b[43m_mul_sparse_matrix\u001b[49m\u001b[43m(\u001b[49m\u001b[43mother\u001b[49m\u001b[43m)\u001b[49m\n\u001b[1;32m    543\u001b[0m \u001b[38;5;66;03m# If it's a list or whatever, treat it like a matrix\u001b[39;00m\n\u001b[1;32m    544\u001b[0m other_a \u001b[38;5;241m=\u001b[39m np\u001b[38;5;241m.\u001b[39masanyarray(other)\n",
      "File \u001b[0;32m~/miniconda3/envs/RecSysPD/lib/python3.8/site-packages/scipy/sparse/_compressed.py:533\u001b[0m, in \u001b[0;36m_cs_matrix._mul_sparse_matrix\u001b[0;34m(self, other)\u001b[0m\n\u001b[1;32m    530\u001b[0m data \u001b[38;5;241m=\u001b[39m np\u001b[38;5;241m.\u001b[39mempty(nnz, dtype\u001b[38;5;241m=\u001b[39mupcast(\u001b[38;5;28mself\u001b[39m\u001b[38;5;241m.\u001b[39mdtype, other\u001b[38;5;241m.\u001b[39mdtype))\n\u001b[1;32m    532\u001b[0m fn \u001b[38;5;241m=\u001b[39m \u001b[38;5;28mgetattr\u001b[39m(_sparsetools, \u001b[38;5;28mself\u001b[39m\u001b[38;5;241m.\u001b[39mformat \u001b[38;5;241m+\u001b[39m \u001b[38;5;124m'\u001b[39m\u001b[38;5;124m_matmat\u001b[39m\u001b[38;5;124m'\u001b[39m)\n\u001b[0;32m--> 533\u001b[0m \u001b[43mfn\u001b[49m\u001b[43m(\u001b[49m\u001b[43mM\u001b[49m\u001b[43m,\u001b[49m\u001b[43m \u001b[49m\u001b[43mN\u001b[49m\u001b[43m,\u001b[49m\u001b[43m \u001b[49m\u001b[43mnp\u001b[49m\u001b[38;5;241;43m.\u001b[39;49m\u001b[43masarray\u001b[49m\u001b[43m(\u001b[49m\u001b[38;5;28;43mself\u001b[39;49m\u001b[38;5;241;43m.\u001b[39;49m\u001b[43mindptr\u001b[49m\u001b[43m,\u001b[49m\u001b[43m \u001b[49m\u001b[43mdtype\u001b[49m\u001b[38;5;241;43m=\u001b[39;49m\u001b[43midx_dtype\u001b[49m\u001b[43m)\u001b[49m\u001b[43m,\u001b[49m\n\u001b[1;32m    534\u001b[0m \u001b[43m   \u001b[49m\u001b[43mnp\u001b[49m\u001b[38;5;241;43m.\u001b[39;49m\u001b[43masarray\u001b[49m\u001b[43m(\u001b[49m\u001b[38;5;28;43mself\u001b[39;49m\u001b[38;5;241;43m.\u001b[39;49m\u001b[43mindices\u001b[49m\u001b[43m,\u001b[49m\u001b[43m \u001b[49m\u001b[43mdtype\u001b[49m\u001b[38;5;241;43m=\u001b[39;49m\u001b[43midx_dtype\u001b[49m\u001b[43m)\u001b[49m\u001b[43m,\u001b[49m\n\u001b[1;32m    535\u001b[0m \u001b[43m   \u001b[49m\u001b[38;5;28;43mself\u001b[39;49m\u001b[38;5;241;43m.\u001b[39;49m\u001b[43mdata\u001b[49m\u001b[43m,\u001b[49m\n\u001b[1;32m    536\u001b[0m \u001b[43m   \u001b[49m\u001b[43mnp\u001b[49m\u001b[38;5;241;43m.\u001b[39;49m\u001b[43masarray\u001b[49m\u001b[43m(\u001b[49m\u001b[43mother\u001b[49m\u001b[38;5;241;43m.\u001b[39;49m\u001b[43mindptr\u001b[49m\u001b[43m,\u001b[49m\u001b[43m \u001b[49m\u001b[43mdtype\u001b[49m\u001b[38;5;241;43m=\u001b[39;49m\u001b[43midx_dtype\u001b[49m\u001b[43m)\u001b[49m\u001b[43m,\u001b[49m\n\u001b[1;32m    537\u001b[0m \u001b[43m   \u001b[49m\u001b[43mnp\u001b[49m\u001b[38;5;241;43m.\u001b[39;49m\u001b[43masarray\u001b[49m\u001b[43m(\u001b[49m\u001b[43mother\u001b[49m\u001b[38;5;241;43m.\u001b[39;49m\u001b[43mindices\u001b[49m\u001b[43m,\u001b[49m\u001b[43m \u001b[49m\u001b[43mdtype\u001b[49m\u001b[38;5;241;43m=\u001b[39;49m\u001b[43midx_dtype\u001b[49m\u001b[43m)\u001b[49m\u001b[43m,\u001b[49m\n\u001b[1;32m    538\u001b[0m \u001b[43m   \u001b[49m\u001b[43mother\u001b[49m\u001b[38;5;241;43m.\u001b[39;49m\u001b[43mdata\u001b[49m\u001b[43m,\u001b[49m\n\u001b[1;32m    539\u001b[0m \u001b[43m   \u001b[49m\u001b[43mindptr\u001b[49m\u001b[43m,\u001b[49m\u001b[43m \u001b[49m\u001b[43mindices\u001b[49m\u001b[43m,\u001b[49m\u001b[43m \u001b[49m\u001b[43mdata\u001b[49m\u001b[43m)\u001b[49m\n\u001b[1;32m    541\u001b[0m \u001b[38;5;28;01mreturn\u001b[39;00m \u001b[38;5;28mself\u001b[39m\u001b[38;5;241m.\u001b[39m\u001b[38;5;18m__class__\u001b[39m((data, indices, indptr), shape\u001b[38;5;241m=\u001b[39m(M, N))\n",
      "\u001b[0;31mKeyboardInterrupt\u001b[0m: "
     ]
    }
   ],
   "source": [
    "from Recommenders.Hybrid.GeneralizedLinearCoupleHybridRecommender import GeneralizedLinearCoupleHybridRecommender\n",
    "import optuna\n",
    "\n",
    "def objective_function(trial):\n",
    "    recommender = GeneralizedLinearCoupleHybridRecommender(URM_train_validation, recommenders)\n",
    "    alpha = trial.suggest_uniform('alpha', 0, 1)\n",
    "    recommender.fit(alpha)\n",
    "    result_dict, _ = evaluator_test.evaluateRecommender(recommender)\n",
    "    MAP = result_dict.loc[10][\"MAP\"]\n",
    "    return MAP\n",
    "\n",
    "class SaveResults(object):\n",
    "    \n",
    "    def __init__(self):\n",
    "        self.results_df = pd.DataFrame(columns = [\"result\"])\n",
    "    \n",
    "    def __call__(self, optuna_study, optuna_trial):\n",
    "        hyperparam_dict = optuna_trial.params.copy()\n",
    "        hyperparam_dict[\"result\"] = optuna_trial.values[0]\n",
    "        \n",
    "        self.results_df = pd.concat([self.results_df, pd.DataFrame([hyperparam_dict])], ignore_index=True)\n",
    "        self.results_df.to_csv(\"logs/Hybrid/hybrid_best_IALS_LINEAR_0,49IALS.csv\", index = False)\n",
    "\n",
    "optuna_study = optuna.create_study(study_name=\"HYBRID_IALS_INCLUDED\", direction=\"maximize\")\n",
    "        \n",
    "save_results = SaveResults()\n",
    "        \n",
    "optuna_study.optimize(objective_function,\n",
    "                      callbacks=[save_results],\n",
    "                      n_trials = 100,\n",
    "                      )"
   ]
  },
  {
   "cell_type": "markdown",
   "metadata": {},
   "source": [
    "It is pointless to go further, small changes, negative or positive, are not improving"
   ]
  },
  {
   "cell_type": "code",
   "execution_count": 8,
   "metadata": {},
   "outputs": [
    {
     "name": "stdout",
     "output_type": "stream",
     "text": [
      "{'result': 0.06132807800274939, 'alpha': 0.9451248329331026}\n"
     ]
    },
    {
     "ename": "",
     "evalue": "",
     "output_type": "error",
     "traceback": [
      "\u001b[1;31mThe Kernel crashed while executing code in the current cell or a previous cell. \n",
      "\u001b[1;31mPlease review the code in the cell(s) to identify a possible cause of the failure. \n",
      "\u001b[1;31mClick <a href='https://aka.ms/vscodeJupyterKernelCrash'>here</a> for more info. \n",
      "\u001b[1;31mView Jupyter <a href='command:jupyter.viewOutput'>log</a> for further details."
     ]
    }
   ],
   "source": [
    "best_index = save_results.results_df[\"result\"].idxmax()\n",
    "best_hyperparams = save_results.results_df.loc[best_index].to_dict()\n",
    "print(best_hyperparams)"
   ]
  },
  {
   "cell_type": "markdown",
   "metadata": {},
   "source": [
    "# Let's try normalized score"
   ]
  },
  {
   "cell_type": "code",
   "execution_count": 4,
   "metadata": {},
   "outputs": [],
   "source": [
    "from Recommenders.KNN.ItemKNNCustomSimilarityRecommender import ItemKNNCustomSimilarityRecommender\n",
    "W_sparse_best = sps.load_npz(\"SimilarityMatrixes/merging_models_final_similarity_TRAINVAL.npz\")\n",
    "final_recommender = ItemKNNCustomSimilarityRecommender(URM_train_validation)"
   ]
  },
  {
   "cell_type": "code",
   "execution_count": 8,
   "metadata": {},
   "outputs": [],
   "source": [
    "final_recommender.fit(W_sparse_best)"
   ]
  },
  {
   "cell_type": "code",
   "execution_count": 5,
   "metadata": {},
   "outputs": [
    {
     "name": "stderr",
     "output_type": "stream",
     "text": [
      "/Users/lucapagano/miniconda3/envs/RecSysPD/lib/python3.8/site-packages/implicit/cpu/als.py:95: RuntimeWarning: OpenBLAS is configured to use 8 threads. It is highly recommended to disable its internal threadpool by setting the environment variable 'OPENBLAS_NUM_THREADS=1' or by calling 'threadpoolctl.threadpool_limits(1, \"blas\")'. Having OpenBLAS use a threadpool can lead to severe performance issues here.\n",
      "  check_blas_config()\n"
     ]
    },
    {
     "data": {
      "application/vnd.jupyter.widget-view+json": {
       "model_id": "ea24347297cd423e9afdf5755214ff67",
       "version_major": 2,
       "version_minor": 0
      },
      "text/plain": [
       "  0%|          | 0/10 [00:00<?, ?it/s]"
      ]
     },
     "metadata": {},
     "output_type": "display_data"
    }
   ],
   "source": [
    "'''result,factors,alpha,regularization\n",
    "0.04866350388073791,1903.0,10.365656056877015,0.43781149051372426\n",
    "'''\n",
    "\n",
    "from Recommenders.MatrixFactorization.ImplicitALSRecommender import ImplicitALSRecommender\n",
    "\n",
    "als_recommender = ImplicitALSRecommender(URM_train_validation)\n",
    "als_recommender.fit(factors=1903, regularization=0.43781149051372426, iterations=10, use_gpu=False, **{\"alpha\": 10.365656056877015})"
   ]
  },
  {
   "cell_type": "code",
   "execution_count": 14,
   "metadata": {},
   "outputs": [
    {
     "name": "stderr",
     "output_type": "stream",
     "text": [
      "[I 2025-01-04 19:11:14,705] A new study created in memory with name: HYBRID_IALS_INCLUDED_NORMALIZED\n",
      "/var/folders/50/7hjr20g17_18p725nbt0qqv00000gn/T/ipykernel_30469/1654928293.py:8: FutureWarning: suggest_uniform has been deprecated in v3.0.0. This feature will be removed in v6.0.0. See https://github.com/optuna/optuna/releases/tag/v3.0.0. Use suggest_float instead.\n",
      "  alpha = trial.suggest_uniform('alpha', 0, 1)\n"
     ]
    },
    {
     "name": "stdout",
     "output_type": "stream",
     "text": [
      "EvaluatorHoldout: Processed 35595 (100.0%) in 4.24 min. Users per second: 140\n"
     ]
    },
    {
     "name": "stderr",
     "output_type": "stream",
     "text": [
      "[I 2025-01-04 19:15:29,222] Trial 0 finished with value: 0.05223859468402047 and parameters: {'alpha': 0.19053758752715022}. Best is trial 0 with value: 0.05223859468402047.\n",
      "/var/folders/50/7hjr20g17_18p725nbt0qqv00000gn/T/ipykernel_30469/1654928293.py:8: FutureWarning: suggest_uniform has been deprecated in v3.0.0. This feature will be removed in v6.0.0. See https://github.com/optuna/optuna/releases/tag/v3.0.0. Use suggest_float instead.\n",
      "  alpha = trial.suggest_uniform('alpha', 0, 1)\n"
     ]
    },
    {
     "name": "stdout",
     "output_type": "stream",
     "text": [
      "EvaluatorHoldout: Processed 35595 (100.0%) in 4.17 min. Users per second: 142\n"
     ]
    },
    {
     "name": "stderr",
     "output_type": "stream",
     "text": [
      "[I 2025-01-04 19:19:39,530] Trial 1 finished with value: 0.05327789929475368 and parameters: {'alpha': 0.24372616897356514}. Best is trial 1 with value: 0.05327789929475368.\n",
      "/var/folders/50/7hjr20g17_18p725nbt0qqv00000gn/T/ipykernel_30469/1654928293.py:8: FutureWarning: suggest_uniform has been deprecated in v3.0.0. This feature will be removed in v6.0.0. See https://github.com/optuna/optuna/releases/tag/v3.0.0. Use suggest_float instead.\n",
      "  alpha = trial.suggest_uniform('alpha', 0, 1)\n"
     ]
    },
    {
     "name": "stdout",
     "output_type": "stream",
     "text": [
      "EvaluatorHoldout: Processed 35595 (100.0%) in 3.91 min. Users per second: 152\n"
     ]
    },
    {
     "name": "stderr",
     "output_type": "stream",
     "text": [
      "[I 2025-01-04 19:23:34,458] Trial 2 finished with value: 0.053186605484538685 and parameters: {'alpha': 0.2391416706159275}. Best is trial 1 with value: 0.05327789929475368.\n",
      "/var/folders/50/7hjr20g17_18p725nbt0qqv00000gn/T/ipykernel_30469/1654928293.py:8: FutureWarning: suggest_uniform has been deprecated in v3.0.0. This feature will be removed in v6.0.0. See https://github.com/optuna/optuna/releases/tag/v3.0.0. Use suggest_float instead.\n",
      "  alpha = trial.suggest_uniform('alpha', 0, 1)\n"
     ]
    },
    {
     "name": "stdout",
     "output_type": "stream",
     "text": [
      "EvaluatorHoldout: Processed 35595 (100.0%) in 4.43 min. Users per second: 134\n"
     ]
    },
    {
     "name": "stderr",
     "output_type": "stream",
     "text": [
      "[I 2025-01-04 19:28:00,231] Trial 3 finished with value: 0.05586355761576788 and parameters: {'alpha': 0.3794110213602444}. Best is trial 3 with value: 0.05586355761576788.\n",
      "/var/folders/50/7hjr20g17_18p725nbt0qqv00000gn/T/ipykernel_30469/1654928293.py:8: FutureWarning: suggest_uniform has been deprecated in v3.0.0. This feature will be removed in v6.0.0. See https://github.com/optuna/optuna/releases/tag/v3.0.0. Use suggest_float instead.\n",
      "  alpha = trial.suggest_uniform('alpha', 0, 1)\n"
     ]
    },
    {
     "name": "stdout",
     "output_type": "stream",
     "text": [
      "EvaluatorHoldout: Processed 33000 (92.7%) in 5.04 min. Users per second: 109\n",
      "EvaluatorHoldout: Processed 35595 (100.0%) in 5.16 min. Users per second: 115\n"
     ]
    },
    {
     "name": "stderr",
     "output_type": "stream",
     "text": [
      "[I 2025-01-04 19:33:09,972] Trial 4 finished with value: 0.0586319986532776 and parameters: {'alpha': 0.5449189478998396}. Best is trial 4 with value: 0.0586319986532776.\n",
      "/var/folders/50/7hjr20g17_18p725nbt0qqv00000gn/T/ipykernel_30469/1654928293.py:8: FutureWarning: suggest_uniform has been deprecated in v3.0.0. This feature will be removed in v6.0.0. See https://github.com/optuna/optuna/releases/tag/v3.0.0. Use suggest_float instead.\n",
      "  alpha = trial.suggest_uniform('alpha', 0, 1)\n"
     ]
    },
    {
     "name": "stdout",
     "output_type": "stream",
     "text": [
      "EvaluatorHoldout: Processed 35595 (100.0%) in 4.42 min. Users per second: 134\n"
     ]
    },
    {
     "name": "stderr",
     "output_type": "stream",
     "text": [
      "[I 2025-01-04 19:37:35,512] Trial 5 finished with value: 0.05084794993054405 and parameters: {'alpha': 0.11526990914678681}. Best is trial 4 with value: 0.0586319986532776.\n",
      "/var/folders/50/7hjr20g17_18p725nbt0qqv00000gn/T/ipykernel_30469/1654928293.py:8: FutureWarning: suggest_uniform has been deprecated in v3.0.0. This feature will be removed in v6.0.0. See https://github.com/optuna/optuna/releases/tag/v3.0.0. Use suggest_float instead.\n",
      "  alpha = trial.suggest_uniform('alpha', 0, 1)\n"
     ]
    },
    {
     "name": "stdout",
     "output_type": "stream",
     "text": [
      "EvaluatorHoldout: Processed 35595 (100.0%) in 3.38 min. Users per second: 176\n"
     ]
    },
    {
     "name": "stderr",
     "output_type": "stream",
     "text": [
      "[I 2025-01-04 19:40:58,204] Trial 6 finished with value: 0.061274991805963304 and parameters: {'alpha': 0.804915030485574}. Best is trial 6 with value: 0.061274991805963304.\n",
      "/var/folders/50/7hjr20g17_18p725nbt0qqv00000gn/T/ipykernel_30469/1654928293.py:8: FutureWarning: suggest_uniform has been deprecated in v3.0.0. This feature will be removed in v6.0.0. See https://github.com/optuna/optuna/releases/tag/v3.0.0. Use suggest_float instead.\n",
      "  alpha = trial.suggest_uniform('alpha', 0, 1)\n"
     ]
    },
    {
     "name": "stdout",
     "output_type": "stream",
     "text": [
      "EvaluatorHoldout: Processed 35595 (100.0%) in 3.23 min. Users per second: 184\n"
     ]
    },
    {
     "name": "stderr",
     "output_type": "stream",
     "text": [
      "[I 2025-01-04 19:44:11,961] Trial 7 finished with value: 0.055316345482799525 and parameters: {'alpha': 0.3493758069211743}. Best is trial 6 with value: 0.061274991805963304.\n",
      "/var/folders/50/7hjr20g17_18p725nbt0qqv00000gn/T/ipykernel_30469/1654928293.py:8: FutureWarning: suggest_uniform has been deprecated in v3.0.0. This feature will be removed in v6.0.0. See https://github.com/optuna/optuna/releases/tag/v3.0.0. Use suggest_float instead.\n",
      "  alpha = trial.suggest_uniform('alpha', 0, 1)\n"
     ]
    },
    {
     "name": "stdout",
     "output_type": "stream",
     "text": [
      "EvaluatorHoldout: Processed 35595 (100.0%) in 3.11 min. Users per second: 191\n"
     ]
    },
    {
     "name": "stderr",
     "output_type": "stream",
     "text": [
      "[I 2025-01-04 19:47:18,456] Trial 8 finished with value: 0.06019337699025688 and parameters: {'alpha': 0.6624759573709534}. Best is trial 6 with value: 0.061274991805963304.\n",
      "/var/folders/50/7hjr20g17_18p725nbt0qqv00000gn/T/ipykernel_30469/1654928293.py:8: FutureWarning: suggest_uniform has been deprecated in v3.0.0. This feature will be removed in v6.0.0. See https://github.com/optuna/optuna/releases/tag/v3.0.0. Use suggest_float instead.\n",
      "  alpha = trial.suggest_uniform('alpha', 0, 1)\n"
     ]
    },
    {
     "name": "stdout",
     "output_type": "stream",
     "text": [
      "EvaluatorHoldout: Processed 35595 (100.0%) in 3.31 min. Users per second: 179\n"
     ]
    },
    {
     "name": "stderr",
     "output_type": "stream",
     "text": [
      "[I 2025-01-04 19:50:37,403] Trial 9 finished with value: 0.06135120970708647 and parameters: {'alpha': 0.9314949115744872}. Best is trial 9 with value: 0.06135120970708647.\n",
      "/var/folders/50/7hjr20g17_18p725nbt0qqv00000gn/T/ipykernel_30469/1654928293.py:8: FutureWarning: suggest_uniform has been deprecated in v3.0.0. This feature will be removed in v6.0.0. See https://github.com/optuna/optuna/releases/tag/v3.0.0. Use suggest_float instead.\n",
      "  alpha = trial.suggest_uniform('alpha', 0, 1)\n"
     ]
    },
    {
     "name": "stdout",
     "output_type": "stream",
     "text": [
      "EvaluatorHoldout: Processed 35595 (100.0%) in 3.06 min. Users per second: 194\n"
     ]
    },
    {
     "name": "stderr",
     "output_type": "stream",
     "text": [
      "[I 2025-01-04 19:53:40,817] Trial 10 finished with value: 0.061354281076571614 and parameters: {'alpha': 0.928728534545296}. Best is trial 10 with value: 0.061354281076571614.\n",
      "/var/folders/50/7hjr20g17_18p725nbt0qqv00000gn/T/ipykernel_30469/1654928293.py:8: FutureWarning: suggest_uniform has been deprecated in v3.0.0. This feature will be removed in v6.0.0. See https://github.com/optuna/optuna/releases/tag/v3.0.0. Use suggest_float instead.\n",
      "  alpha = trial.suggest_uniform('alpha', 0, 1)\n"
     ]
    },
    {
     "name": "stdout",
     "output_type": "stream",
     "text": [
      "EvaluatorHoldout: Processed 35595 (100.0%) in 3.15 min. Users per second: 188\n"
     ]
    },
    {
     "name": "stderr",
     "output_type": "stream",
     "text": [
      "[I 2025-01-04 19:56:50,078] Trial 11 finished with value: 0.061196206440620834 and parameters: {'alpha': 0.9994747639902839}. Best is trial 10 with value: 0.061354281076571614.\n",
      "/var/folders/50/7hjr20g17_18p725nbt0qqv00000gn/T/ipykernel_30469/1654928293.py:8: FutureWarning: suggest_uniform has been deprecated in v3.0.0. This feature will be removed in v6.0.0. See https://github.com/optuna/optuna/releases/tag/v3.0.0. Use suggest_float instead.\n",
      "  alpha = trial.suggest_uniform('alpha', 0, 1)\n"
     ]
    },
    {
     "name": "stdout",
     "output_type": "stream",
     "text": [
      "EvaluatorHoldout: Processed 35595 (100.0%) in 3.18 min. Users per second: 186\n"
     ]
    },
    {
     "name": "stderr",
     "output_type": "stream",
     "text": [
      "[I 2025-01-04 20:00:01,286] Trial 12 finished with value: 0.0612102321754641 and parameters: {'alpha': 0.992608117136168}. Best is trial 10 with value: 0.061354281076571614.\n",
      "/var/folders/50/7hjr20g17_18p725nbt0qqv00000gn/T/ipykernel_30469/1654928293.py:8: FutureWarning: suggest_uniform has been deprecated in v3.0.0. This feature will be removed in v6.0.0. See https://github.com/optuna/optuna/releases/tag/v3.0.0. Use suggest_float instead.\n",
      "  alpha = trial.suggest_uniform('alpha', 0, 1)\n"
     ]
    },
    {
     "name": "stdout",
     "output_type": "stream",
     "text": [
      "EvaluatorHoldout: Processed 35595 (100.0%) in 3.22 min. Users per second: 184\n"
     ]
    },
    {
     "name": "stderr",
     "output_type": "stream",
     "text": [
      "[I 2025-01-04 20:03:14,856] Trial 13 finished with value: 0.06126623477971783 and parameters: {'alpha': 0.8101620352471884}. Best is trial 10 with value: 0.061354281076571614.\n",
      "/var/folders/50/7hjr20g17_18p725nbt0qqv00000gn/T/ipykernel_30469/1654928293.py:8: FutureWarning: suggest_uniform has been deprecated in v3.0.0. This feature will be removed in v6.0.0. See https://github.com/optuna/optuna/releases/tag/v3.0.0. Use suggest_float instead.\n",
      "  alpha = trial.suggest_uniform('alpha', 0, 1)\n"
     ]
    },
    {
     "name": "stdout",
     "output_type": "stream",
     "text": [
      "EvaluatorHoldout: Processed 35595 (100.0%) in 3.13 min. Users per second: 190\n"
     ]
    },
    {
     "name": "stderr",
     "output_type": "stream",
     "text": [
      "[I 2025-01-04 20:06:22,550] Trial 14 finished with value: 0.06126781227076006 and parameters: {'alpha': 0.8148990108307057}. Best is trial 10 with value: 0.061354281076571614.\n",
      "/var/folders/50/7hjr20g17_18p725nbt0qqv00000gn/T/ipykernel_30469/1654928293.py:8: FutureWarning: suggest_uniform has been deprecated in v3.0.0. This feature will be removed in v6.0.0. See https://github.com/optuna/optuna/releases/tag/v3.0.0. Use suggest_float instead.\n",
      "  alpha = trial.suggest_uniform('alpha', 0, 1)\n"
     ]
    },
    {
     "name": "stdout",
     "output_type": "stream",
     "text": [
      "EvaluatorHoldout: Processed 35595 (100.0%) in 3.08 min. Users per second: 192\n"
     ]
    },
    {
     "name": "stderr",
     "output_type": "stream",
     "text": [
      "[I 2025-01-04 20:09:27,710] Trial 15 finished with value: 0.060336050185395354 and parameters: {'alpha': 0.672470834340924}. Best is trial 10 with value: 0.061354281076571614.\n",
      "/var/folders/50/7hjr20g17_18p725nbt0qqv00000gn/T/ipykernel_30469/1654928293.py:8: FutureWarning: suggest_uniform has been deprecated in v3.0.0. This feature will be removed in v6.0.0. See https://github.com/optuna/optuna/releases/tag/v3.0.0. Use suggest_float instead.\n",
      "  alpha = trial.suggest_uniform('alpha', 0, 1)\n"
     ]
    },
    {
     "name": "stdout",
     "output_type": "stream",
     "text": [
      "EvaluatorHoldout: Processed 35595 (100.0%) in 3.11 min. Users per second: 191\n"
     ]
    },
    {
     "name": "stderr",
     "output_type": "stream",
     "text": [
      "[I 2025-01-04 20:12:34,551] Trial 16 finished with value: 0.06137517976708678 and parameters: {'alpha': 0.8978375783061211}. Best is trial 16 with value: 0.06137517976708678.\n",
      "/var/folders/50/7hjr20g17_18p725nbt0qqv00000gn/T/ipykernel_30469/1654928293.py:8: FutureWarning: suggest_uniform has been deprecated in v3.0.0. This feature will be removed in v6.0.0. See https://github.com/optuna/optuna/releases/tag/v3.0.0. Use suggest_float instead.\n",
      "  alpha = trial.suggest_uniform('alpha', 0, 1)\n"
     ]
    },
    {
     "name": "stdout",
     "output_type": "stream",
     "text": [
      "EvaluatorHoldout: Processed 35595 (100.0%) in 3.28 min. Users per second: 181\n"
     ]
    },
    {
     "name": "stderr",
     "output_type": "stream",
     "text": [
      "[I 2025-01-04 20:15:51,770] Trial 17 finished with value: 0.048725238964807585 and parameters: {'alpha': 0.0033168528191467317}. Best is trial 16 with value: 0.06137517976708678.\n",
      "/var/folders/50/7hjr20g17_18p725nbt0qqv00000gn/T/ipykernel_30469/1654928293.py:8: FutureWarning: suggest_uniform has been deprecated in v3.0.0. This feature will be removed in v6.0.0. See https://github.com/optuna/optuna/releases/tag/v3.0.0. Use suggest_float instead.\n",
      "  alpha = trial.suggest_uniform('alpha', 0, 1)\n"
     ]
    },
    {
     "name": "stdout",
     "output_type": "stream",
     "text": [
      "EvaluatorHoldout: Processed 35595 (100.0%) in 3.31 min. Users per second: 179\n"
     ]
    },
    {
     "name": "stderr",
     "output_type": "stream",
     "text": [
      "[I 2025-01-04 20:19:10,359] Trial 18 finished with value: 0.06033441137844682 and parameters: {'alpha': 0.6728258503656969}. Best is trial 16 with value: 0.06137517976708678.\n",
      "/var/folders/50/7hjr20g17_18p725nbt0qqv00000gn/T/ipykernel_30469/1654928293.py:8: FutureWarning: suggest_uniform has been deprecated in v3.0.0. This feature will be removed in v6.0.0. See https://github.com/optuna/optuna/releases/tag/v3.0.0. Use suggest_float instead.\n",
      "  alpha = trial.suggest_uniform('alpha', 0, 1)\n"
     ]
    },
    {
     "name": "stdout",
     "output_type": "stream",
     "text": [
      "EvaluatorHoldout: Processed 35595 (100.0%) in 3.10 min. Users per second: 192\n"
     ]
    },
    {
     "name": "stderr",
     "output_type": "stream",
     "text": [
      "[I 2025-01-04 20:22:16,194] Trial 19 finished with value: 0.05864452270583538 and parameters: {'alpha': 0.5461738586404212}. Best is trial 16 with value: 0.06137517976708678.\n",
      "/var/folders/50/7hjr20g17_18p725nbt0qqv00000gn/T/ipykernel_30469/1654928293.py:8: FutureWarning: suggest_uniform has been deprecated in v3.0.0. This feature will be removed in v6.0.0. See https://github.com/optuna/optuna/releases/tag/v3.0.0. Use suggest_float instead.\n",
      "  alpha = trial.suggest_uniform('alpha', 0, 1)\n"
     ]
    },
    {
     "name": "stdout",
     "output_type": "stream",
     "text": [
      "EvaluatorHoldout: Processed 35595 (100.0%) in 3.22 min. Users per second: 184\n"
     ]
    },
    {
     "name": "stderr",
     "output_type": "stream",
     "text": [
      "[I 2025-01-04 20:25:29,399] Trial 20 finished with value: 0.06132069556763842 and parameters: {'alpha': 0.8712916260110658}. Best is trial 16 with value: 0.06137517976708678.\n",
      "/var/folders/50/7hjr20g17_18p725nbt0qqv00000gn/T/ipykernel_30469/1654928293.py:8: FutureWarning: suggest_uniform has been deprecated in v3.0.0. This feature will be removed in v6.0.0. See https://github.com/optuna/optuna/releases/tag/v3.0.0. Use suggest_float instead.\n",
      "  alpha = trial.suggest_uniform('alpha', 0, 1)\n"
     ]
    },
    {
     "name": "stdout",
     "output_type": "stream",
     "text": [
      "EvaluatorHoldout: Processed 35595 (100.0%) in 3.01 min. Users per second: 197\n"
     ]
    },
    {
     "name": "stderr",
     "output_type": "stream",
     "text": [
      "[I 2025-01-04 20:28:30,246] Trial 21 finished with value: 0.06136712508667626 and parameters: {'alpha': 0.9092465089801861}. Best is trial 16 with value: 0.06137517976708678.\n",
      "/var/folders/50/7hjr20g17_18p725nbt0qqv00000gn/T/ipykernel_30469/1654928293.py:8: FutureWarning: suggest_uniform has been deprecated in v3.0.0. This feature will be removed in v6.0.0. See https://github.com/optuna/optuna/releases/tag/v3.0.0. Use suggest_float instead.\n",
      "  alpha = trial.suggest_uniform('alpha', 0, 1)\n"
     ]
    },
    {
     "name": "stdout",
     "output_type": "stream",
     "text": [
      "EvaluatorHoldout: Processed 35595 (100.0%) in 3.12 min. Users per second: 190\n"
     ]
    },
    {
     "name": "stderr",
     "output_type": "stream",
     "text": [
      "[I 2025-01-04 20:31:37,805] Trial 22 finished with value: 0.060860410437526345 and parameters: {'alpha': 0.7324619059411139}. Best is trial 16 with value: 0.06137517976708678.\n",
      "/var/folders/50/7hjr20g17_18p725nbt0qqv00000gn/T/ipykernel_30469/1654928293.py:8: FutureWarning: suggest_uniform has been deprecated in v3.0.0. This feature will be removed in v6.0.0. See https://github.com/optuna/optuna/releases/tag/v3.0.0. Use suggest_float instead.\n",
      "  alpha = trial.suggest_uniform('alpha', 0, 1)\n"
     ]
    },
    {
     "name": "stdout",
     "output_type": "stream",
     "text": [
      "EvaluatorHoldout: Processed 35595 (100.0%) in 3.02 min. Users per second: 196\n"
     ]
    },
    {
     "name": "stderr",
     "output_type": "stream",
     "text": [
      "[I 2025-01-04 20:34:39,203] Trial 23 finished with value: 0.06136829008889491 and parameters: {'alpha': 0.8984723566809985}. Best is trial 16 with value: 0.06137517976708678.\n",
      "/var/folders/50/7hjr20g17_18p725nbt0qqv00000gn/T/ipykernel_30469/1654928293.py:8: FutureWarning: suggest_uniform has been deprecated in v3.0.0. This feature will be removed in v6.0.0. See https://github.com/optuna/optuna/releases/tag/v3.0.0. Use suggest_float instead.\n",
      "  alpha = trial.suggest_uniform('alpha', 0, 1)\n"
     ]
    },
    {
     "name": "stdout",
     "output_type": "stream",
     "text": [
      "EvaluatorHoldout: Processed 35595 (100.0%) in 3.12 min. Users per second: 190\n"
     ]
    },
    {
     "name": "stderr",
     "output_type": "stream",
     "text": [
      "[I 2025-01-04 20:37:46,312] Trial 24 finished with value: 0.061332461532628155 and parameters: {'alpha': 0.868528213897923}. Best is trial 16 with value: 0.06137517976708678.\n",
      "/var/folders/50/7hjr20g17_18p725nbt0qqv00000gn/T/ipykernel_30469/1654928293.py:8: FutureWarning: suggest_uniform has been deprecated in v3.0.0. This feature will be removed in v6.0.0. See https://github.com/optuna/optuna/releases/tag/v3.0.0. Use suggest_float instead.\n",
      "  alpha = trial.suggest_uniform('alpha', 0, 1)\n"
     ]
    },
    {
     "name": "stdout",
     "output_type": "stream",
     "text": [
      "EvaluatorHoldout: Processed 35595 (100.0%) in 3.14 min. Users per second: 189\n"
     ]
    },
    {
     "name": "stderr",
     "output_type": "stream",
     "text": [
      "[I 2025-01-04 20:40:54,711] Trial 25 finished with value: 0.06078157713429373 and parameters: {'alpha': 0.7206059764054656}. Best is trial 16 with value: 0.06137517976708678.\n",
      "/var/folders/50/7hjr20g17_18p725nbt0qqv00000gn/T/ipykernel_30469/1654928293.py:8: FutureWarning: suggest_uniform has been deprecated in v3.0.0. This feature will be removed in v6.0.0. See https://github.com/optuna/optuna/releases/tag/v3.0.0. Use suggest_float instead.\n",
      "  alpha = trial.suggest_uniform('alpha', 0, 1)\n"
     ]
    },
    {
     "name": "stdout",
     "output_type": "stream",
     "text": [
      "EvaluatorHoldout: Processed 35595 (100.0%) in 3.06 min. Users per second: 194\n"
     ]
    },
    {
     "name": "stderr",
     "output_type": "stream",
     "text": [
      "[I 2025-01-04 20:43:58,252] Trial 26 finished with value: 0.05946533533111519 and parameters: {'alpha': 0.5983561370545322}. Best is trial 16 with value: 0.06137517976708678.\n",
      "/var/folders/50/7hjr20g17_18p725nbt0qqv00000gn/T/ipykernel_30469/1654928293.py:8: FutureWarning: suggest_uniform has been deprecated in v3.0.0. This feature will be removed in v6.0.0. See https://github.com/optuna/optuna/releases/tag/v3.0.0. Use suggest_float instead.\n",
      "  alpha = trial.suggest_uniform('alpha', 0, 1)\n"
     ]
    },
    {
     "name": "stdout",
     "output_type": "stream",
     "text": [
      "EvaluatorHoldout: Processed 35595 (100.0%) in 2.93 min. Users per second: 202\n"
     ]
    },
    {
     "name": "stderr",
     "output_type": "stream",
     "text": [
      "[I 2025-01-04 20:46:54,205] Trial 27 finished with value: 0.056942451120072304 and parameters: {'alpha': 0.43976726883181005}. Best is trial 16 with value: 0.06137517976708678.\n",
      "/var/folders/50/7hjr20g17_18p725nbt0qqv00000gn/T/ipykernel_30469/1654928293.py:8: FutureWarning: suggest_uniform has been deprecated in v3.0.0. This feature will be removed in v6.0.0. See https://github.com/optuna/optuna/releases/tag/v3.0.0. Use suggest_float instead.\n",
      "  alpha = trial.suggest_uniform('alpha', 0, 1)\n"
     ]
    },
    {
     "name": "stdout",
     "output_type": "stream",
     "text": [
      "EvaluatorHoldout: Processed 35595 (100.0%) in 3.21 min. Users per second: 185\n"
     ]
    },
    {
     "name": "stderr",
     "output_type": "stream",
     "text": [
      "[I 2025-01-04 20:50:06,709] Trial 28 finished with value: 0.061366597769882666 and parameters: {'alpha': 0.9108944067090394}. Best is trial 16 with value: 0.06137517976708678.\n",
      "/var/folders/50/7hjr20g17_18p725nbt0qqv00000gn/T/ipykernel_30469/1654928293.py:8: FutureWarning: suggest_uniform has been deprecated in v3.0.0. This feature will be removed in v6.0.0. See https://github.com/optuna/optuna/releases/tag/v3.0.0. Use suggest_float instead.\n",
      "  alpha = trial.suggest_uniform('alpha', 0, 1)\n"
     ]
    },
    {
     "name": "stdout",
     "output_type": "stream",
     "text": [
      "EvaluatorHoldout: Processed 35595 (100.0%) in 3.08 min. Users per second: 193\n"
     ]
    },
    {
     "name": "stderr",
     "output_type": "stream",
     "text": [
      "[I 2025-01-04 20:53:11,382] Trial 29 finished with value: 0.061004302146946784 and parameters: {'alpha': 0.7570445335197857}. Best is trial 16 with value: 0.06137517976708678.\n",
      "/var/folders/50/7hjr20g17_18p725nbt0qqv00000gn/T/ipykernel_30469/1654928293.py:8: FutureWarning: suggest_uniform has been deprecated in v3.0.0. This feature will be removed in v6.0.0. See https://github.com/optuna/optuna/releases/tag/v3.0.0. Use suggest_float instead.\n",
      "  alpha = trial.suggest_uniform('alpha', 0, 1)\n"
     ]
    },
    {
     "name": "stdout",
     "output_type": "stream",
     "text": [
      "EvaluatorHoldout: Processed 35595 (100.0%) in 3.05 min. Users per second: 195\n"
     ]
    },
    {
     "name": "stderr",
     "output_type": "stream",
     "text": [
      "[I 2025-01-04 20:56:14,315] Trial 30 finished with value: 0.06132262200192886 and parameters: {'alpha': 0.8588041006963122}. Best is trial 16 with value: 0.06137517976708678.\n",
      "/var/folders/50/7hjr20g17_18p725nbt0qqv00000gn/T/ipykernel_30469/1654928293.py:8: FutureWarning: suggest_uniform has been deprecated in v3.0.0. This feature will be removed in v6.0.0. See https://github.com/optuna/optuna/releases/tag/v3.0.0. Use suggest_float instead.\n",
      "  alpha = trial.suggest_uniform('alpha', 0, 1)\n"
     ]
    },
    {
     "name": "stdout",
     "output_type": "stream",
     "text": [
      "EvaluatorHoldout: Processed 35595 (100.0%) in 3.14 min. Users per second: 189\n"
     ]
    },
    {
     "name": "stderr",
     "output_type": "stream",
     "text": [
      "[I 2025-01-04 20:59:22,760] Trial 31 finished with value: 0.061366050386065164 and parameters: {'alpha': 0.9054418531483034}. Best is trial 16 with value: 0.06137517976708678.\n",
      "/var/folders/50/7hjr20g17_18p725nbt0qqv00000gn/T/ipykernel_30469/1654928293.py:8: FutureWarning: suggest_uniform has been deprecated in v3.0.0. This feature will be removed in v6.0.0. See https://github.com/optuna/optuna/releases/tag/v3.0.0. Use suggest_float instead.\n",
      "  alpha = trial.suggest_uniform('alpha', 0, 1)\n"
     ]
    },
    {
     "name": "stdout",
     "output_type": "stream",
     "text": [
      "EvaluatorHoldout: Processed 35595 (100.0%) in 3.19 min. Users per second: 186\n"
     ]
    },
    {
     "name": "stderr",
     "output_type": "stream",
     "text": [
      "[I 2025-01-04 21:02:34,328] Trial 32 finished with value: 0.06135737251308074 and parameters: {'alpha': 0.9614176360983409}. Best is trial 16 with value: 0.06137517976708678.\n",
      "/var/folders/50/7hjr20g17_18p725nbt0qqv00000gn/T/ipykernel_30469/1654928293.py:8: FutureWarning: suggest_uniform has been deprecated in v3.0.0. This feature will be removed in v6.0.0. See https://github.com/optuna/optuna/releases/tag/v3.0.0. Use suggest_float instead.\n",
      "  alpha = trial.suggest_uniform('alpha', 0, 1)\n"
     ]
    },
    {
     "name": "stdout",
     "output_type": "stream",
     "text": [
      "EvaluatorHoldout: Processed 35595 (100.0%) in 2.97 min. Users per second: 200\n"
     ]
    },
    {
     "name": "stderr",
     "output_type": "stream",
     "text": [
      "[I 2025-01-04 21:05:32,350] Trial 33 finished with value: 0.06126830056834072 and parameters: {'alpha': 0.8262301664691409}. Best is trial 16 with value: 0.06137517976708678.\n",
      "/var/folders/50/7hjr20g17_18p725nbt0qqv00000gn/T/ipykernel_30469/1654928293.py:8: FutureWarning: suggest_uniform has been deprecated in v3.0.0. This feature will be removed in v6.0.0. See https://github.com/optuna/optuna/releases/tag/v3.0.0. Use suggest_float instead.\n",
      "  alpha = trial.suggest_uniform('alpha', 0, 1)\n"
     ]
    },
    {
     "name": "stdout",
     "output_type": "stream",
     "text": [
      "EvaluatorHoldout: Processed 35595 (100.0%) in 2.96 min. Users per second: 201\n"
     ]
    },
    {
     "name": "stderr",
     "output_type": "stream",
     "text": [
      "[I 2025-01-04 21:08:29,870] Trial 34 finished with value: 0.06135933796658415 and parameters: {'alpha': 0.9133697146253944}. Best is trial 16 with value: 0.06137517976708678.\n",
      "/var/folders/50/7hjr20g17_18p725nbt0qqv00000gn/T/ipykernel_30469/1654928293.py:8: FutureWarning: suggest_uniform has been deprecated in v3.0.0. This feature will be removed in v6.0.0. See https://github.com/optuna/optuna/releases/tag/v3.0.0. Use suggest_float instead.\n",
      "  alpha = trial.suggest_uniform('alpha', 0, 1)\n"
     ]
    },
    {
     "name": "stdout",
     "output_type": "stream",
     "text": [
      "EvaluatorHoldout: Processed 35595 (100.0%) in 3.08 min. Users per second: 193\n"
     ]
    },
    {
     "name": "stderr",
     "output_type": "stream",
     "text": [
      "[I 2025-01-04 21:11:34,558] Trial 35 finished with value: 0.060972702158541066 and parameters: {'alpha': 0.755584764741595}. Best is trial 16 with value: 0.06137517976708678.\n",
      "/var/folders/50/7hjr20g17_18p725nbt0qqv00000gn/T/ipykernel_30469/1654928293.py:8: FutureWarning: suggest_uniform has been deprecated in v3.0.0. This feature will be removed in v6.0.0. See https://github.com/optuna/optuna/releases/tag/v3.0.0. Use suggest_float instead.\n",
      "  alpha = trial.suggest_uniform('alpha', 0, 1)\n"
     ]
    },
    {
     "name": "stdout",
     "output_type": "stream",
     "text": [
      "EvaluatorHoldout: Processed 35595 (100.0%) in 3.03 min. Users per second: 196\n"
     ]
    },
    {
     "name": "stderr",
     "output_type": "stream",
     "text": [
      "[I 2025-01-04 21:14:36,460] Trial 36 finished with value: 0.06135503358996637 and parameters: {'alpha': 0.9636902925123684}. Best is trial 16 with value: 0.06137517976708678.\n",
      "/var/folders/50/7hjr20g17_18p725nbt0qqv00000gn/T/ipykernel_30469/1654928293.py:8: FutureWarning: suggest_uniform has been deprecated in v3.0.0. This feature will be removed in v6.0.0. See https://github.com/optuna/optuna/releases/tag/v3.0.0. Use suggest_float instead.\n",
      "  alpha = trial.suggest_uniform('alpha', 0, 1)\n"
     ]
    },
    {
     "name": "stdout",
     "output_type": "stream",
     "text": [
      "EvaluatorHoldout: Processed 35595 (100.0%) in 3.01 min. Users per second: 197\n"
     ]
    },
    {
     "name": "stderr",
     "output_type": "stream",
     "text": [
      "[I 2025-01-04 21:17:37,062] Trial 37 finished with value: 0.06133708698162787 and parameters: {'alpha': 0.878453543724399}. Best is trial 16 with value: 0.06137517976708678.\n",
      "/var/folders/50/7hjr20g17_18p725nbt0qqv00000gn/T/ipykernel_30469/1654928293.py:8: FutureWarning: suggest_uniform has been deprecated in v3.0.0. This feature will be removed in v6.0.0. See https://github.com/optuna/optuna/releases/tag/v3.0.0. Use suggest_float instead.\n",
      "  alpha = trial.suggest_uniform('alpha', 0, 1)\n"
     ]
    },
    {
     "name": "stdout",
     "output_type": "stream",
     "text": [
      "EvaluatorHoldout: Processed 35595 (100.0%) in 3.08 min. Users per second: 193\n"
     ]
    },
    {
     "name": "stderr",
     "output_type": "stream",
     "text": [
      "[I 2025-01-04 21:20:42,060] Trial 38 finished with value: 0.061234116393195794 and parameters: {'alpha': 0.7923477025417295}. Best is trial 16 with value: 0.06137517976708678.\n",
      "/var/folders/50/7hjr20g17_18p725nbt0qqv00000gn/T/ipykernel_30469/1654928293.py:8: FutureWarning: suggest_uniform has been deprecated in v3.0.0. This feature will be removed in v6.0.0. See https://github.com/optuna/optuna/releases/tag/v3.0.0. Use suggest_float instead.\n",
      "  alpha = trial.suggest_uniform('alpha', 0, 1)\n"
     ]
    },
    {
     "name": "stdout",
     "output_type": "stream",
     "text": [
      "EvaluatorHoldout: Processed 35595 (100.0%) in 3.03 min. Users per second: 196\n"
     ]
    },
    {
     "name": "stderr",
     "output_type": "stream",
     "text": [
      "[I 2025-01-04 21:23:43,832] Trial 39 finished with value: 0.054410271417644304 and parameters: {'alpha': 0.3044456998109665}. Best is trial 16 with value: 0.06137517976708678.\n",
      "/var/folders/50/7hjr20g17_18p725nbt0qqv00000gn/T/ipykernel_30469/1654928293.py:8: FutureWarning: suggest_uniform has been deprecated in v3.0.0. This feature will be removed in v6.0.0. See https://github.com/optuna/optuna/releases/tag/v3.0.0. Use suggest_float instead.\n",
      "  alpha = trial.suggest_uniform('alpha', 0, 1)\n"
     ]
    },
    {
     "name": "stdout",
     "output_type": "stream",
     "text": [
      "EvaluatorHoldout: Processed 35595 (100.0%) in 3.06 min. Users per second: 194\n"
     ]
    },
    {
     "name": "stderr",
     "output_type": "stream",
     "text": [
      "[I 2025-01-04 21:26:47,672] Trial 40 finished with value: 0.059712203203141224 and parameters: {'alpha': 0.6171857508649383}. Best is trial 16 with value: 0.06137517976708678.\n",
      "/var/folders/50/7hjr20g17_18p725nbt0qqv00000gn/T/ipykernel_30469/1654928293.py:8: FutureWarning: suggest_uniform has been deprecated in v3.0.0. This feature will be removed in v6.0.0. See https://github.com/optuna/optuna/releases/tag/v3.0.0. Use suggest_float instead.\n",
      "  alpha = trial.suggest_uniform('alpha', 0, 1)\n"
     ]
    },
    {
     "name": "stdout",
     "output_type": "stream",
     "text": [
      "EvaluatorHoldout: Processed 35595 (100.0%) in 3.05 min. Users per second: 194\n"
     ]
    },
    {
     "name": "stderr",
     "output_type": "stream",
     "text": [
      "[I 2025-01-04 21:29:50,846] Trial 41 finished with value: 0.06137175722468389 and parameters: {'alpha': 0.9084302221241201}. Best is trial 16 with value: 0.06137517976708678.\n",
      "/var/folders/50/7hjr20g17_18p725nbt0qqv00000gn/T/ipykernel_30469/1654928293.py:8: FutureWarning: suggest_uniform has been deprecated in v3.0.0. This feature will be removed in v6.0.0. See https://github.com/optuna/optuna/releases/tag/v3.0.0. Use suggest_float instead.\n",
      "  alpha = trial.suggest_uniform('alpha', 0, 1)\n"
     ]
    },
    {
     "name": "stdout",
     "output_type": "stream",
     "text": [
      "EvaluatorHoldout: Processed 35595 (100.0%) in 3.08 min. Users per second: 193\n"
     ]
    },
    {
     "name": "stderr",
     "output_type": "stream",
     "text": [
      "[I 2025-01-04 21:32:55,681] Trial 42 finished with value: 0.06137723106285924 and parameters: {'alpha': 0.9421042749613191}. Best is trial 42 with value: 0.06137723106285924.\n",
      "/var/folders/50/7hjr20g17_18p725nbt0qqv00000gn/T/ipykernel_30469/1654928293.py:8: FutureWarning: suggest_uniform has been deprecated in v3.0.0. This feature will be removed in v6.0.0. See https://github.com/optuna/optuna/releases/tag/v3.0.0. Use suggest_float instead.\n",
      "  alpha = trial.suggest_uniform('alpha', 0, 1)\n"
     ]
    },
    {
     "name": "stdout",
     "output_type": "stream",
     "text": [
      "EvaluatorHoldout: Processed 35595 (100.0%) in 2.94 min. Users per second: 202\n"
     ]
    },
    {
     "name": "stderr",
     "output_type": "stream",
     "text": [
      "[I 2025-01-04 21:35:51,992] Trial 43 finished with value: 0.06132977255143083 and parameters: {'alpha': 0.8456227665879542}. Best is trial 42 with value: 0.06137723106285924.\n",
      "/var/folders/50/7hjr20g17_18p725nbt0qqv00000gn/T/ipykernel_30469/1654928293.py:8: FutureWarning: suggest_uniform has been deprecated in v3.0.0. This feature will be removed in v6.0.0. See https://github.com/optuna/optuna/releases/tag/v3.0.0. Use suggest_float instead.\n",
      "  alpha = trial.suggest_uniform('alpha', 0, 1)\n"
     ]
    },
    {
     "name": "stdout",
     "output_type": "stream",
     "text": [
      "EvaluatorHoldout: Processed 35595 (100.0%) in 3.13 min. Users per second: 189\n"
     ]
    },
    {
     "name": "stderr",
     "output_type": "stream",
     "text": [
      "[I 2025-01-04 21:39:00,088] Trial 44 finished with value: 0.06136027442769778 and parameters: {'alpha': 0.9471140562907021}. Best is trial 42 with value: 0.06137723106285924.\n",
      "/var/folders/50/7hjr20g17_18p725nbt0qqv00000gn/T/ipykernel_30469/1654928293.py:8: FutureWarning: suggest_uniform has been deprecated in v3.0.0. This feature will be removed in v6.0.0. See https://github.com/optuna/optuna/releases/tag/v3.0.0. Use suggest_float instead.\n",
      "  alpha = trial.suggest_uniform('alpha', 0, 1)\n"
     ]
    },
    {
     "name": "stdout",
     "output_type": "stream",
     "text": [
      "EvaluatorHoldout: Processed 35595 (100.0%) in 3.03 min. Users per second: 196\n"
     ]
    },
    {
     "name": "stderr",
     "output_type": "stream",
     "text": [
      "[I 2025-01-04 21:42:02,195] Trial 45 finished with value: 0.06120492667732252 and parameters: {'alpha': 0.9992624978249549}. Best is trial 42 with value: 0.06137723106285924.\n",
      "/var/folders/50/7hjr20g17_18p725nbt0qqv00000gn/T/ipykernel_30469/1654928293.py:8: FutureWarning: suggest_uniform has been deprecated in v3.0.0. This feature will be removed in v6.0.0. See https://github.com/optuna/optuna/releases/tag/v3.0.0. Use suggest_float instead.\n",
      "  alpha = trial.suggest_uniform('alpha', 0, 1)\n"
     ]
    },
    {
     "name": "stdout",
     "output_type": "stream",
     "text": [
      "EvaluatorHoldout: Processed 35595 (100.0%) in 2.92 min. Users per second: 203\n"
     ]
    },
    {
     "name": "stderr",
     "output_type": "stream",
     "text": [
      "[I 2025-01-04 21:44:57,473] Trial 46 finished with value: 0.06116637792448815 and parameters: {'alpha': 0.7807748529538012}. Best is trial 42 with value: 0.06137723106285924.\n",
      "/var/folders/50/7hjr20g17_18p725nbt0qqv00000gn/T/ipykernel_30469/1654928293.py:8: FutureWarning: suggest_uniform has been deprecated in v3.0.0. This feature will be removed in v6.0.0. See https://github.com/optuna/optuna/releases/tag/v3.0.0. Use suggest_float instead.\n",
      "  alpha = trial.suggest_uniform('alpha', 0, 1)\n"
     ]
    },
    {
     "name": "stdout",
     "output_type": "stream",
     "text": [
      "EvaluatorHoldout: Processed 35595 (100.0%) in 2.99 min. Users per second: 198\n"
     ]
    },
    {
     "name": "stderr",
     "output_type": "stream",
     "text": [
      "[I 2025-01-04 21:47:57,198] Trial 47 finished with value: 0.061366632329757184 and parameters: {'alpha': 0.8957271984038961}. Best is trial 42 with value: 0.06137723106285924.\n",
      "/var/folders/50/7hjr20g17_18p725nbt0qqv00000gn/T/ipykernel_30469/1654928293.py:8: FutureWarning: suggest_uniform has been deprecated in v3.0.0. This feature will be removed in v6.0.0. See https://github.com/optuna/optuna/releases/tag/v3.0.0. Use suggest_float instead.\n",
      "  alpha = trial.suggest_uniform('alpha', 0, 1)\n"
     ]
    },
    {
     "name": "stdout",
     "output_type": "stream",
     "text": [
      "EvaluatorHoldout: Processed 35595 (100.0%) in 3.04 min. Users per second: 195\n"
     ]
    },
    {
     "name": "stderr",
     "output_type": "stream",
     "text": [
      "[I 2025-01-04 21:50:59,680] Trial 48 finished with value: 0.061339616541468904 and parameters: {'alpha': 0.9584357679695363}. Best is trial 42 with value: 0.06137723106285924.\n",
      "/var/folders/50/7hjr20g17_18p725nbt0qqv00000gn/T/ipykernel_30469/1654928293.py:8: FutureWarning: suggest_uniform has been deprecated in v3.0.0. This feature will be removed in v6.0.0. See https://github.com/optuna/optuna/releases/tag/v3.0.0. Use suggest_float instead.\n",
      "  alpha = trial.suggest_uniform('alpha', 0, 1)\n"
     ]
    },
    {
     "name": "stdout",
     "output_type": "stream",
     "text": [
      "EvaluatorHoldout: Processed 35595 (100.0%) in 2.96 min. Users per second: 201\n"
     ]
    },
    {
     "name": "stderr",
     "output_type": "stream",
     "text": [
      "[I 2025-01-04 21:53:57,107] Trial 49 finished with value: 0.05183516612151045 and parameters: {'alpha': 0.17004146761459038}. Best is trial 42 with value: 0.06137723106285924.\n",
      "/var/folders/50/7hjr20g17_18p725nbt0qqv00000gn/T/ipykernel_30469/1654928293.py:8: FutureWarning: suggest_uniform has been deprecated in v3.0.0. This feature will be removed in v6.0.0. See https://github.com/optuna/optuna/releases/tag/v3.0.0. Use suggest_float instead.\n",
      "  alpha = trial.suggest_uniform('alpha', 0, 1)\n"
     ]
    },
    {
     "name": "stdout",
     "output_type": "stream",
     "text": [
      "EvaluatorHoldout: Processed 35595 (100.0%) in 3.05 min. Users per second: 195\n"
     ]
    },
    {
     "name": "stderr",
     "output_type": "stream",
     "text": [
      "[I 2025-01-04 21:56:59,941] Trial 50 finished with value: 0.06071690557573248 and parameters: {'alpha': 0.7132874918832497}. Best is trial 42 with value: 0.06137723106285924.\n",
      "/var/folders/50/7hjr20g17_18p725nbt0qqv00000gn/T/ipykernel_30469/1654928293.py:8: FutureWarning: suggest_uniform has been deprecated in v3.0.0. This feature will be removed in v6.0.0. See https://github.com/optuna/optuna/releases/tag/v3.0.0. Use suggest_float instead.\n",
      "  alpha = trial.suggest_uniform('alpha', 0, 1)\n"
     ]
    },
    {
     "name": "stdout",
     "output_type": "stream",
     "text": [
      "EvaluatorHoldout: Processed 35595 (100.0%) in 3.01 min. Users per second: 197\n"
     ]
    },
    {
     "name": "stderr",
     "output_type": "stream",
     "text": [
      "[I 2025-01-04 22:00:00,874] Trial 51 finished with value: 0.06138101146718732 and parameters: {'alpha': 0.8941466509804892}. Best is trial 51 with value: 0.06138101146718732.\n",
      "/var/folders/50/7hjr20g17_18p725nbt0qqv00000gn/T/ipykernel_30469/1654928293.py:8: FutureWarning: suggest_uniform has been deprecated in v3.0.0. This feature will be removed in v6.0.0. See https://github.com/optuna/optuna/releases/tag/v3.0.0. Use suggest_float instead.\n",
      "  alpha = trial.suggest_uniform('alpha', 0, 1)\n"
     ]
    },
    {
     "name": "stdout",
     "output_type": "stream",
     "text": [
      "EvaluatorHoldout: Processed 35595 (100.0%) in 3.01 min. Users per second: 197\n"
     ]
    },
    {
     "name": "stderr",
     "output_type": "stream",
     "text": [
      "[I 2025-01-04 22:03:01,352] Trial 52 finished with value: 0.061313941899274874 and parameters: {'alpha': 0.8346642754755879}. Best is trial 51 with value: 0.06138101146718732.\n",
      "/var/folders/50/7hjr20g17_18p725nbt0qqv00000gn/T/ipykernel_30469/1654928293.py:8: FutureWarning: suggest_uniform has been deprecated in v3.0.0. This feature will be removed in v6.0.0. See https://github.com/optuna/optuna/releases/tag/v3.0.0. Use suggest_float instead.\n",
      "  alpha = trial.suggest_uniform('alpha', 0, 1)\n"
     ]
    },
    {
     "name": "stdout",
     "output_type": "stream",
     "text": [
      "EvaluatorHoldout: Processed 35595 (100.0%) in 3.02 min. Users per second: 197\n"
     ]
    },
    {
     "name": "stderr",
     "output_type": "stream",
     "text": [
      "[I 2025-01-04 22:06:02,566] Trial 53 finished with value: 0.061358007968836246 and parameters: {'alpha': 0.9255285892036594}. Best is trial 51 with value: 0.06138101146718732.\n",
      "/var/folders/50/7hjr20g17_18p725nbt0qqv00000gn/T/ipykernel_30469/1654928293.py:8: FutureWarning: suggest_uniform has been deprecated in v3.0.0. This feature will be removed in v6.0.0. See https://github.com/optuna/optuna/releases/tag/v3.0.0. Use suggest_float instead.\n",
      "  alpha = trial.suggest_uniform('alpha', 0, 1)\n"
     ]
    },
    {
     "name": "stdout",
     "output_type": "stream",
     "text": [
      "EvaluatorHoldout: Processed 35595 (100.0%) in 3.03 min. Users per second: 195\n"
     ]
    },
    {
     "name": "stderr",
     "output_type": "stream",
     "text": [
      "[I 2025-01-04 22:09:04,732] Trial 54 finished with value: 0.061335772591565106 and parameters: {'alpha': 0.9569921720480733}. Best is trial 51 with value: 0.06138101146718732.\n",
      "/var/folders/50/7hjr20g17_18p725nbt0qqv00000gn/T/ipykernel_30469/1654928293.py:8: FutureWarning: suggest_uniform has been deprecated in v3.0.0. This feature will be removed in v6.0.0. See https://github.com/optuna/optuna/releases/tag/v3.0.0. Use suggest_float instead.\n",
      "  alpha = trial.suggest_uniform('alpha', 0, 1)\n"
     ]
    },
    {
     "name": "stdout",
     "output_type": "stream",
     "text": [
      "EvaluatorHoldout: Processed 35595 (100.0%) in 2.96 min. Users per second: 200\n"
     ]
    },
    {
     "name": "stderr",
     "output_type": "stream",
     "text": [
      "[I 2025-01-04 22:12:02,522] Trial 55 finished with value: 0.06135315397873149 and parameters: {'alpha': 0.8821978487082465}. Best is trial 51 with value: 0.06138101146718732.\n",
      "/var/folders/50/7hjr20g17_18p725nbt0qqv00000gn/T/ipykernel_30469/1654928293.py:8: FutureWarning: suggest_uniform has been deprecated in v3.0.0. This feature will be removed in v6.0.0. See https://github.com/optuna/optuna/releases/tag/v3.0.0. Use suggest_float instead.\n",
      "  alpha = trial.suggest_uniform('alpha', 0, 1)\n"
     ]
    },
    {
     "name": "stdout",
     "output_type": "stream",
     "text": [
      "EvaluatorHoldout: Processed 35595 (100.0%) in 3.06 min. Users per second: 194\n"
     ]
    },
    {
     "name": "stderr",
     "output_type": "stream",
     "text": [
      "[I 2025-01-04 22:15:06,353] Trial 56 finished with value: 0.06124426919243413 and parameters: {'alpha': 0.797882756607097}. Best is trial 51 with value: 0.06138101146718732.\n",
      "/var/folders/50/7hjr20g17_18p725nbt0qqv00000gn/T/ipykernel_30469/1654928293.py:8: FutureWarning: suggest_uniform has been deprecated in v3.0.0. This feature will be removed in v6.0.0. See https://github.com/optuna/optuna/releases/tag/v3.0.0. Use suggest_float instead.\n",
      "  alpha = trial.suggest_uniform('alpha', 0, 1)\n"
     ]
    },
    {
     "name": "stdout",
     "output_type": "stream",
     "text": [
      "EvaluatorHoldout: Processed 35595 (100.0%) in 2.93 min. Users per second: 202\n"
     ]
    },
    {
     "name": "stderr",
     "output_type": "stream",
     "text": [
      "[I 2025-01-04 22:18:02,478] Trial 57 finished with value: 0.061215728310332354 and parameters: {'alpha': 0.988572289320126}. Best is trial 51 with value: 0.06138101146718732.\n",
      "/var/folders/50/7hjr20g17_18p725nbt0qqv00000gn/T/ipykernel_30469/1654928293.py:8: FutureWarning: suggest_uniform has been deprecated in v3.0.0. This feature will be removed in v6.0.0. See https://github.com/optuna/optuna/releases/tag/v3.0.0. Use suggest_float instead.\n",
      "  alpha = trial.suggest_uniform('alpha', 0, 1)\n"
     ]
    },
    {
     "name": "stdout",
     "output_type": "stream",
     "text": [
      "EvaluatorHoldout: Processed 35595 (100.0%) in 3.00 min. Users per second: 198\n"
     ]
    },
    {
     "name": "stderr",
     "output_type": "stream",
     "text": [
      "[I 2025-01-04 22:21:02,675] Trial 58 finished with value: 0.06128575330492533 and parameters: {'alpha': 0.849181524045313}. Best is trial 51 with value: 0.06138101146718732.\n",
      "/var/folders/50/7hjr20g17_18p725nbt0qqv00000gn/T/ipykernel_30469/1654928293.py:8: FutureWarning: suggest_uniform has been deprecated in v3.0.0. This feature will be removed in v6.0.0. See https://github.com/optuna/optuna/releases/tag/v3.0.0. Use suggest_float instead.\n",
      "  alpha = trial.suggest_uniform('alpha', 0, 1)\n"
     ]
    },
    {
     "name": "stdout",
     "output_type": "stream",
     "text": [
      "EvaluatorHoldout: Processed 35595 (100.0%) in 3.07 min. Users per second: 193\n"
     ]
    },
    {
     "name": "stderr",
     "output_type": "stream",
     "text": [
      "[I 2025-01-04 22:24:07,040] Trial 59 finished with value: 0.057311251803242896 and parameters: {'alpha': 0.4615425765162359}. Best is trial 51 with value: 0.06138101146718732.\n",
      "/var/folders/50/7hjr20g17_18p725nbt0qqv00000gn/T/ipykernel_30469/1654928293.py:8: FutureWarning: suggest_uniform has been deprecated in v3.0.0. This feature will be removed in v6.0.0. See https://github.com/optuna/optuna/releases/tag/v3.0.0. Use suggest_float instead.\n",
      "  alpha = trial.suggest_uniform('alpha', 0, 1)\n"
     ]
    },
    {
     "name": "stdout",
     "output_type": "stream",
     "text": [
      "EvaluatorHoldout: Processed 35595 (100.0%) in 3.12 min. Users per second: 190\n"
     ]
    },
    {
     "name": "stderr",
     "output_type": "stream",
     "text": [
      "[I 2025-01-04 22:27:14,516] Trial 60 finished with value: 0.06055727463059797 and parameters: {'alpha': 0.6922033572663704}. Best is trial 51 with value: 0.06138101146718732.\n",
      "/var/folders/50/7hjr20g17_18p725nbt0qqv00000gn/T/ipykernel_30469/1654928293.py:8: FutureWarning: suggest_uniform has been deprecated in v3.0.0. This feature will be removed in v6.0.0. See https://github.com/optuna/optuna/releases/tag/v3.0.0. Use suggest_float instead.\n",
      "  alpha = trial.suggest_uniform('alpha', 0, 1)\n"
     ]
    },
    {
     "name": "stdout",
     "output_type": "stream",
     "text": [
      "EvaluatorHoldout: Processed 35595 (100.0%) in 3.07 min. Users per second: 193\n"
     ]
    },
    {
     "name": "stderr",
     "output_type": "stream",
     "text": [
      "[I 2025-01-04 22:30:18,604] Trial 61 finished with value: 0.06135507595368343 and parameters: {'alpha': 0.92697218152037}. Best is trial 51 with value: 0.06138101146718732.\n",
      "/var/folders/50/7hjr20g17_18p725nbt0qqv00000gn/T/ipykernel_30469/1654928293.py:8: FutureWarning: suggest_uniform has been deprecated in v3.0.0. This feature will be removed in v6.0.0. See https://github.com/optuna/optuna/releases/tag/v3.0.0. Use suggest_float instead.\n",
      "  alpha = trial.suggest_uniform('alpha', 0, 1)\n"
     ]
    },
    {
     "name": "stdout",
     "output_type": "stream",
     "text": [
      "EvaluatorHoldout: Processed 35595 (100.0%) in 3.07 min. Users per second: 193\n"
     ]
    },
    {
     "name": "stderr",
     "output_type": "stream",
     "text": [
      "[I 2025-01-04 22:33:23,116] Trial 62 finished with value: 0.06138711853144864 and parameters: {'alpha': 0.8919762499351769}. Best is trial 62 with value: 0.06138711853144864.\n",
      "/var/folders/50/7hjr20g17_18p725nbt0qqv00000gn/T/ipykernel_30469/1654928293.py:8: FutureWarning: suggest_uniform has been deprecated in v3.0.0. This feature will be removed in v6.0.0. See https://github.com/optuna/optuna/releases/tag/v3.0.0. Use suggest_float instead.\n",
      "  alpha = trial.suggest_uniform('alpha', 0, 1)\n"
     ]
    },
    {
     "name": "stdout",
     "output_type": "stream",
     "text": [
      "EvaluatorHoldout: Processed 35595 (100.0%) in 2.91 min. Users per second: 204\n"
     ]
    },
    {
     "name": "stderr",
     "output_type": "stream",
     "text": [
      "[I 2025-01-04 22:36:17,755] Trial 63 finished with value: 0.061051215504226715 and parameters: {'alpha': 0.7686593053749604}. Best is trial 62 with value: 0.06138711853144864.\n",
      "/var/folders/50/7hjr20g17_18p725nbt0qqv00000gn/T/ipykernel_30469/1654928293.py:8: FutureWarning: suggest_uniform has been deprecated in v3.0.0. This feature will be removed in v6.0.0. See https://github.com/optuna/optuna/releases/tag/v3.0.0. Use suggest_float instead.\n",
      "  alpha = trial.suggest_uniform('alpha', 0, 1)\n"
     ]
    },
    {
     "name": "stdout",
     "output_type": "stream",
     "text": [
      "EvaluatorHoldout: Processed 35595 (100.0%) in 3.01 min. Users per second: 197\n"
     ]
    },
    {
     "name": "stderr",
     "output_type": "stream",
     "text": [
      "[I 2025-01-04 22:39:18,255] Trial 64 finished with value: 0.06134566897883179 and parameters: {'alpha': 0.884732485503406}. Best is trial 62 with value: 0.06138711853144864.\n",
      "/var/folders/50/7hjr20g17_18p725nbt0qqv00000gn/T/ipykernel_30469/1654928293.py:8: FutureWarning: suggest_uniform has been deprecated in v3.0.0. This feature will be removed in v6.0.0. See https://github.com/optuna/optuna/releases/tag/v3.0.0. Use suggest_float instead.\n",
      "  alpha = trial.suggest_uniform('alpha', 0, 1)\n"
     ]
    },
    {
     "name": "stdout",
     "output_type": "stream",
     "text": [
      "EvaluatorHoldout: Processed 35595 (100.0%) in 2.86 min. Users per second: 208\n"
     ]
    },
    {
     "name": "stderr",
     "output_type": "stream",
     "text": [
      "[I 2025-01-04 22:42:09,818] Trial 65 finished with value: 0.06131207120671729 and parameters: {'alpha': 0.8347170388647414}. Best is trial 62 with value: 0.06138711853144864.\n",
      "/var/folders/50/7hjr20g17_18p725nbt0qqv00000gn/T/ipykernel_30469/1654928293.py:8: FutureWarning: suggest_uniform has been deprecated in v3.0.0. This feature will be removed in v6.0.0. See https://github.com/optuna/optuna/releases/tag/v3.0.0. Use suggest_float instead.\n",
      "  alpha = trial.suggest_uniform('alpha', 0, 1)\n"
     ]
    },
    {
     "name": "stdout",
     "output_type": "stream",
     "text": [
      "EvaluatorHoldout: Processed 35595 (100.0%) in 3.00 min. Users per second: 198\n"
     ]
    },
    {
     "name": "stderr",
     "output_type": "stream",
     "text": [
      "[I 2025-01-04 22:45:09,787] Trial 66 finished with value: 0.061380983596320965 and parameters: {'alpha': 0.9353388543250566}. Best is trial 62 with value: 0.06138711853144864.\n",
      "/var/folders/50/7hjr20g17_18p725nbt0qqv00000gn/T/ipykernel_30469/1654928293.py:8: FutureWarning: suggest_uniform has been deprecated in v3.0.0. This feature will be removed in v6.0.0. See https://github.com/optuna/optuna/releases/tag/v3.0.0. Use suggest_float instead.\n",
      "  alpha = trial.suggest_uniform('alpha', 0, 1)\n"
     ]
    },
    {
     "name": "stdout",
     "output_type": "stream",
     "text": [
      "EvaluatorHoldout: Processed 35595 (100.0%) in 3.01 min. Users per second: 197\n"
     ]
    },
    {
     "name": "stderr",
     "output_type": "stream",
     "text": [
      "[I 2025-01-04 22:48:10,477] Trial 67 finished with value: 0.061285464562748616 and parameters: {'alpha': 0.9761078716947661}. Best is trial 62 with value: 0.06138711853144864.\n",
      "/var/folders/50/7hjr20g17_18p725nbt0qqv00000gn/T/ipykernel_30469/1654928293.py:8: FutureWarning: suggest_uniform has been deprecated in v3.0.0. This feature will be removed in v6.0.0. See https://github.com/optuna/optuna/releases/tag/v3.0.0. Use suggest_float instead.\n",
      "  alpha = trial.suggest_uniform('alpha', 0, 1)\n"
     ]
    },
    {
     "name": "stdout",
     "output_type": "stream",
     "text": [
      "EvaluatorHoldout: Processed 35595 (100.0%) in 3.35 min. Users per second: 177\n"
     ]
    },
    {
     "name": "stderr",
     "output_type": "stream",
     "text": [
      "[I 2025-01-04 22:51:31,719] Trial 68 finished with value: 0.061264729752928314 and parameters: {'alpha': 0.8122729191699896}. Best is trial 62 with value: 0.06138711853144864.\n",
      "/var/folders/50/7hjr20g17_18p725nbt0qqv00000gn/T/ipykernel_30469/1654928293.py:8: FutureWarning: suggest_uniform has been deprecated in v3.0.0. This feature will be removed in v6.0.0. See https://github.com/optuna/optuna/releases/tag/v3.0.0. Use suggest_float instead.\n",
      "  alpha = trial.suggest_uniform('alpha', 0, 1)\n"
     ]
    },
    {
     "name": "stdout",
     "output_type": "stream",
     "text": [
      "EvaluatorHoldout: Processed 35595 (100.0%) in 3.06 min. Users per second: 194\n"
     ]
    },
    {
     "name": "stderr",
     "output_type": "stream",
     "text": [
      "[I 2025-01-04 22:54:35,323] Trial 69 finished with value: 0.06138603045282167 and parameters: {'alpha': 0.9403872630913133}. Best is trial 62 with value: 0.06138711853144864.\n",
      "/var/folders/50/7hjr20g17_18p725nbt0qqv00000gn/T/ipykernel_30469/1654928293.py:8: FutureWarning: suggest_uniform has been deprecated in v3.0.0. This feature will be removed in v6.0.0. See https://github.com/optuna/optuna/releases/tag/v3.0.0. Use suggest_float instead.\n",
      "  alpha = trial.suggest_uniform('alpha', 0, 1)\n"
     ]
    },
    {
     "name": "stdout",
     "output_type": "stream",
     "text": [
      "EvaluatorHoldout: Processed 35595 (100.0%) in 2.90 min. Users per second: 205\n"
     ]
    },
    {
     "name": "stderr",
     "output_type": "stream",
     "text": [
      "[I 2025-01-04 22:57:29,221] Trial 70 finished with value: 0.06136394334856013 and parameters: {'alpha': 0.9327624253327338}. Best is trial 62 with value: 0.06138711853144864.\n",
      "/var/folders/50/7hjr20g17_18p725nbt0qqv00000gn/T/ipykernel_30469/1654928293.py:8: FutureWarning: suggest_uniform has been deprecated in v3.0.0. This feature will be removed in v6.0.0. See https://github.com/optuna/optuna/releases/tag/v3.0.0. Use suggest_float instead.\n",
      "  alpha = trial.suggest_uniform('alpha', 0, 1)\n"
     ]
    },
    {
     "name": "stdout",
     "output_type": "stream",
     "text": [
      "EvaluatorHoldout: Processed 35595 (100.0%) in 2.89 min. Users per second: 205\n"
     ]
    },
    {
     "name": "stderr",
     "output_type": "stream",
     "text": [
      "[I 2025-01-04 23:00:22,894] Trial 71 finished with value: 0.06138314526072442 and parameters: {'alpha': 0.8929772669540585}. Best is trial 62 with value: 0.06138711853144864.\n",
      "/var/folders/50/7hjr20g17_18p725nbt0qqv00000gn/T/ipykernel_30469/1654928293.py:8: FutureWarning: suggest_uniform has been deprecated in v3.0.0. This feature will be removed in v6.0.0. See https://github.com/optuna/optuna/releases/tag/v3.0.0. Use suggest_float instead.\n",
      "  alpha = trial.suggest_uniform('alpha', 0, 1)\n"
     ]
    },
    {
     "name": "stdout",
     "output_type": "stream",
     "text": [
      "EvaluatorHoldout: Processed 35595 (100.0%) in 2.87 min. Users per second: 207\n"
     ]
    },
    {
     "name": "stderr",
     "output_type": "stream",
     "text": [
      "[I 2025-01-04 23:03:15,085] Trial 72 finished with value: 0.06134898115260328 and parameters: {'alpha': 0.8748032501409067}. Best is trial 62 with value: 0.06138711853144864.\n",
      "/var/folders/50/7hjr20g17_18p725nbt0qqv00000gn/T/ipykernel_30469/1654928293.py:8: FutureWarning: suggest_uniform has been deprecated in v3.0.0. This feature will be removed in v6.0.0. See https://github.com/optuna/optuna/releases/tag/v3.0.0. Use suggest_float instead.\n",
      "  alpha = trial.suggest_uniform('alpha', 0, 1)\n"
     ]
    },
    {
     "name": "stdout",
     "output_type": "stream",
     "text": [
      "EvaluatorHoldout: Processed 35595 (100.0%) in 3.05 min. Users per second: 195\n"
     ]
    },
    {
     "name": "stderr",
     "output_type": "stream",
     "text": [
      "[I 2025-01-04 23:06:18,092] Trial 73 finished with value: 0.06135312945236899 and parameters: {'alpha': 0.9285277836112772}. Best is trial 62 with value: 0.06138711853144864.\n",
      "/var/folders/50/7hjr20g17_18p725nbt0qqv00000gn/T/ipykernel_30469/1654928293.py:8: FutureWarning: suggest_uniform has been deprecated in v3.0.0. This feature will be removed in v6.0.0. See https://github.com/optuna/optuna/releases/tag/v3.0.0. Use suggest_float instead.\n",
      "  alpha = trial.suggest_uniform('alpha', 0, 1)\n"
     ]
    },
    {
     "name": "stdout",
     "output_type": "stream",
     "text": [
      "EvaluatorHoldout: Processed 35595 (100.0%) in 2.93 min. Users per second: 203\n"
     ]
    },
    {
     "name": "stderr",
     "output_type": "stream",
     "text": [
      "[I 2025-01-04 23:09:13,799] Trial 74 finished with value: 0.061318210601183754 and parameters: {'alpha': 0.8574462349469542}. Best is trial 62 with value: 0.06138711853144864.\n",
      "/var/folders/50/7hjr20g17_18p725nbt0qqv00000gn/T/ipykernel_30469/1654928293.py:8: FutureWarning: suggest_uniform has been deprecated in v3.0.0. This feature will be removed in v6.0.0. See https://github.com/optuna/optuna/releases/tag/v3.0.0. Use suggest_float instead.\n",
      "  alpha = trial.suggest_uniform('alpha', 0, 1)\n"
     ]
    },
    {
     "name": "stdout",
     "output_type": "stream",
     "text": [
      "EvaluatorHoldout: Processed 35595 (100.0%) in 3.05 min. Users per second: 194\n"
     ]
    },
    {
     "name": "stderr",
     "output_type": "stream",
     "text": [
      "[I 2025-01-04 23:12:16,987] Trial 75 finished with value: 0.061280277237080856 and parameters: {'alpha': 0.9784082510614778}. Best is trial 62 with value: 0.06138711853144864.\n",
      "/var/folders/50/7hjr20g17_18p725nbt0qqv00000gn/T/ipykernel_30469/1654928293.py:8: FutureWarning: suggest_uniform has been deprecated in v3.0.0. This feature will be removed in v6.0.0. See https://github.com/optuna/optuna/releases/tag/v3.0.0. Use suggest_float instead.\n",
      "  alpha = trial.suggest_uniform('alpha', 0, 1)\n"
     ]
    },
    {
     "name": "stdout",
     "output_type": "stream",
     "text": [
      "EvaluatorHoldout: Processed 35595 (100.0%) in 3.10 min. Users per second: 191\n"
     ]
    },
    {
     "name": "stderr",
     "output_type": "stream",
     "text": [
      "[I 2025-01-04 23:15:23,360] Trial 76 finished with value: 0.06135841153898264 and parameters: {'alpha': 0.899659478540541}. Best is trial 62 with value: 0.06138711853144864.\n",
      "/var/folders/50/7hjr20g17_18p725nbt0qqv00000gn/T/ipykernel_30469/1654928293.py:8: FutureWarning: suggest_uniform has been deprecated in v3.0.0. This feature will be removed in v6.0.0. See https://github.com/optuna/optuna/releases/tag/v3.0.0. Use suggest_float instead.\n",
      "  alpha = trial.suggest_uniform('alpha', 0, 1)\n"
     ]
    },
    {
     "name": "stdout",
     "output_type": "stream",
     "text": [
      "EvaluatorHoldout: Processed 35595 (100.0%) in 2.76 min. Users per second: 215\n"
     ]
    },
    {
     "name": "stderr",
     "output_type": "stream",
     "text": [
      "[I 2025-01-04 23:18:09,133] Trial 77 finished with value: 0.04978395619145559 and parameters: {'alpha': 0.06135213282757479}. Best is trial 62 with value: 0.06138711853144864.\n",
      "/var/folders/50/7hjr20g17_18p725nbt0qqv00000gn/T/ipykernel_30469/1654928293.py:8: FutureWarning: suggest_uniform has been deprecated in v3.0.0. This feature will be removed in v6.0.0. See https://github.com/optuna/optuna/releases/tag/v3.0.0. Use suggest_float instead.\n",
      "  alpha = trial.suggest_uniform('alpha', 0, 1)\n"
     ]
    },
    {
     "name": "stdout",
     "output_type": "stream",
     "text": [
      "EvaluatorHoldout: Processed 35595 (100.0%) in 2.86 min. Users per second: 207\n"
     ]
    },
    {
     "name": "stderr",
     "output_type": "stream",
     "text": [
      "[I 2025-01-04 23:21:00,992] Trial 78 finished with value: 0.061382296871549086 and parameters: {'alpha': 0.94007086538528}. Best is trial 62 with value: 0.06138711853144864.\n",
      "/var/folders/50/7hjr20g17_18p725nbt0qqv00000gn/T/ipykernel_30469/1654928293.py:8: FutureWarning: suggest_uniform has been deprecated in v3.0.0. This feature will be removed in v6.0.0. See https://github.com/optuna/optuna/releases/tag/v3.0.0. Use suggest_float instead.\n",
      "  alpha = trial.suggest_uniform('alpha', 0, 1)\n"
     ]
    },
    {
     "name": "stdout",
     "output_type": "stream",
     "text": [
      "EvaluatorHoldout: Processed 35595 (100.0%) in 2.75 min. Users per second: 215\n"
     ]
    },
    {
     "name": "stderr",
     "output_type": "stream",
     "text": [
      "[I 2025-01-04 23:23:46,332] Trial 79 finished with value: 0.06135760439868977 and parameters: {'alpha': 0.9465905893020725}. Best is trial 62 with value: 0.06138711853144864.\n",
      "/var/folders/50/7hjr20g17_18p725nbt0qqv00000gn/T/ipykernel_30469/1654928293.py:8: FutureWarning: suggest_uniform has been deprecated in v3.0.0. This feature will be removed in v6.0.0. See https://github.com/optuna/optuna/releases/tag/v3.0.0. Use suggest_float instead.\n",
      "  alpha = trial.suggest_uniform('alpha', 0, 1)\n"
     ]
    },
    {
     "name": "stdout",
     "output_type": "stream",
     "text": [
      "EvaluatorHoldout: Processed 35595 (100.0%) in 2.87 min. Users per second: 207\n"
     ]
    },
    {
     "name": "stderr",
     "output_type": "stream",
     "text": [
      "[I 2025-01-04 23:26:38,374] Trial 80 finished with value: 0.061287836930902805 and parameters: {'alpha': 0.8208568399566497}. Best is trial 62 with value: 0.06138711853144864.\n",
      "/var/folders/50/7hjr20g17_18p725nbt0qqv00000gn/T/ipykernel_30469/1654928293.py:8: FutureWarning: suggest_uniform has been deprecated in v3.0.0. This feature will be removed in v6.0.0. See https://github.com/optuna/optuna/releases/tag/v3.0.0. Use suggest_float instead.\n",
      "  alpha = trial.suggest_uniform('alpha', 0, 1)\n"
     ]
    },
    {
     "name": "stdout",
     "output_type": "stream",
     "text": [
      "EvaluatorHoldout: Processed 35595 (100.0%) in 2.95 min. Users per second: 201\n"
     ]
    },
    {
     "name": "stderr",
     "output_type": "stream",
     "text": [
      "[I 2025-01-04 23:29:35,755] Trial 81 finished with value: 0.061382064985939816 and parameters: {'alpha': 0.9061601260410012}. Best is trial 62 with value: 0.06138711853144864.\n",
      "/var/folders/50/7hjr20g17_18p725nbt0qqv00000gn/T/ipykernel_30469/1654928293.py:8: FutureWarning: suggest_uniform has been deprecated in v3.0.0. This feature will be removed in v6.0.0. See https://github.com/optuna/optuna/releases/tag/v3.0.0. Use suggest_float instead.\n",
      "  alpha = trial.suggest_uniform('alpha', 0, 1)\n"
     ]
    },
    {
     "name": "stdout",
     "output_type": "stream",
     "text": [
      "EvaluatorHoldout: Processed 35595 (100.0%) in 3.21 min. Users per second: 185\n"
     ]
    },
    {
     "name": "stderr",
     "output_type": "stream",
     "text": [
      "[I 2025-01-04 23:32:48,572] Trial 82 finished with value: 0.061290232710584695 and parameters: {'alpha': 0.9729887546638738}. Best is trial 62 with value: 0.06138711853144864.\n",
      "/var/folders/50/7hjr20g17_18p725nbt0qqv00000gn/T/ipykernel_30469/1654928293.py:8: FutureWarning: suggest_uniform has been deprecated in v3.0.0. This feature will be removed in v6.0.0. See https://github.com/optuna/optuna/releases/tag/v3.0.0. Use suggest_float instead.\n",
      "  alpha = trial.suggest_uniform('alpha', 0, 1)\n"
     ]
    },
    {
     "name": "stdout",
     "output_type": "stream",
     "text": [
      "EvaluatorHoldout: Processed 35595 (100.0%) in 2.97 min. Users per second: 199\n"
     ]
    },
    {
     "name": "stderr",
     "output_type": "stream",
     "text": [
      "[I 2025-01-04 23:35:47,164] Trial 83 finished with value: 0.061322045632410234 and parameters: {'alpha': 0.8601357612437199}. Best is trial 62 with value: 0.06138711853144864.\n",
      "/var/folders/50/7hjr20g17_18p725nbt0qqv00000gn/T/ipykernel_30469/1654928293.py:8: FutureWarning: suggest_uniform has been deprecated in v3.0.0. This feature will be removed in v6.0.0. See https://github.com/optuna/optuna/releases/tag/v3.0.0. Use suggest_float instead.\n",
      "  alpha = trial.suggest_uniform('alpha', 0, 1)\n"
     ]
    },
    {
     "name": "stdout",
     "output_type": "stream",
     "text": [
      "EvaluatorHoldout: Processed 35595 (100.0%) in 2.96 min. Users per second: 200\n"
     ]
    },
    {
     "name": "stderr",
     "output_type": "stream",
     "text": [
      "[I 2025-01-04 23:38:44,978] Trial 84 finished with value: 0.06138270713070356 and parameters: {'alpha': 0.9408802499924291}. Best is trial 62 with value: 0.06138711853144864.\n",
      "/var/folders/50/7hjr20g17_18p725nbt0qqv00000gn/T/ipykernel_30469/1654928293.py:8: FutureWarning: suggest_uniform has been deprecated in v3.0.0. This feature will be removed in v6.0.0. See https://github.com/optuna/optuna/releases/tag/v3.0.0. Use suggest_float instead.\n",
      "  alpha = trial.suggest_uniform('alpha', 0, 1)\n"
     ]
    },
    {
     "name": "stdout",
     "output_type": "stream",
     "text": [
      "EvaluatorHoldout: Processed 35595 (100.0%) in 3.15 min. Users per second: 189\n"
     ]
    },
    {
     "name": "stderr",
     "output_type": "stream",
     "text": [
      "[I 2025-01-04 23:41:53,852] Trial 85 finished with value: 0.06120794676441341 and parameters: {'alpha': 0.9990843679223419}. Best is trial 62 with value: 0.06138711853144864.\n",
      "/var/folders/50/7hjr20g17_18p725nbt0qqv00000gn/T/ipykernel_30469/1654928293.py:8: FutureWarning: suggest_uniform has been deprecated in v3.0.0. This feature will be removed in v6.0.0. See https://github.com/optuna/optuna/releases/tag/v3.0.0. Use suggest_float instead.\n",
      "  alpha = trial.suggest_uniform('alpha', 0, 1)\n"
     ]
    },
    {
     "name": "stdout",
     "output_type": "stream",
     "text": [
      "EvaluatorHoldout: Processed 35595 (100.0%) in 2.98 min. Users per second: 199\n"
     ]
    },
    {
     "name": "stderr",
     "output_type": "stream",
     "text": [
      "[I 2025-01-04 23:44:52,490] Trial 86 finished with value: 0.061384951292871894 and parameters: {'alpha': 0.940477000971534}. Best is trial 62 with value: 0.06138711853144864.\n",
      "/var/folders/50/7hjr20g17_18p725nbt0qqv00000gn/T/ipykernel_30469/1654928293.py:8: FutureWarning: suggest_uniform has been deprecated in v3.0.0. This feature will be removed in v6.0.0. See https://github.com/optuna/optuna/releases/tag/v3.0.0. Use suggest_float instead.\n",
      "  alpha = trial.suggest_uniform('alpha', 0, 1)\n"
     ]
    },
    {
     "name": "stdout",
     "output_type": "stream",
     "text": [
      "EvaluatorHoldout: Processed 35595 (100.0%) in 2.90 min. Users per second: 205\n"
     ]
    },
    {
     "name": "stderr",
     "output_type": "stream",
     "text": [
      "[I 2025-01-04 23:47:46,453] Trial 87 finished with value: 0.06136279395402672 and parameters: {'alpha': 0.9176136243014422}. Best is trial 62 with value: 0.06138711853144864.\n",
      "/var/folders/50/7hjr20g17_18p725nbt0qqv00000gn/T/ipykernel_30469/1654928293.py:8: FutureWarning: suggest_uniform has been deprecated in v3.0.0. This feature will be removed in v6.0.0. See https://github.com/optuna/optuna/releases/tag/v3.0.0. Use suggest_float instead.\n",
      "  alpha = trial.suggest_uniform('alpha', 0, 1)\n"
     ]
    },
    {
     "name": "stdout",
     "output_type": "stream",
     "text": [
      "EvaluatorHoldout: Processed 35595 (100.0%) in 3.18 min. Users per second: 187\n"
     ]
    },
    {
     "name": "stderr",
     "output_type": "stream",
     "text": [
      "[I 2025-01-04 23:50:57,243] Trial 88 finished with value: 0.0613377135187061 and parameters: {'alpha': 0.9495687771962528}. Best is trial 62 with value: 0.06138711853144864.\n",
      "/var/folders/50/7hjr20g17_18p725nbt0qqv00000gn/T/ipykernel_30469/1654928293.py:8: FutureWarning: suggest_uniform has been deprecated in v3.0.0. This feature will be removed in v6.0.0. See https://github.com/optuna/optuna/releases/tag/v3.0.0. Use suggest_float instead.\n",
      "  alpha = trial.suggest_uniform('alpha', 0, 1)\n"
     ]
    },
    {
     "name": "stdout",
     "output_type": "stream",
     "text": [
      "EvaluatorHoldout: Processed 35595 (100.0%) in 2.93 min. Users per second: 203\n"
     ]
    },
    {
     "name": "stderr",
     "output_type": "stream",
     "text": [
      "[I 2025-01-04 23:53:53,046] Trial 89 finished with value: 0.06136351302238167 and parameters: {'alpha': 0.8865841733032869}. Best is trial 62 with value: 0.06138711853144864.\n",
      "/var/folders/50/7hjr20g17_18p725nbt0qqv00000gn/T/ipykernel_30469/1654928293.py:8: FutureWarning: suggest_uniform has been deprecated in v3.0.0. This feature will be removed in v6.0.0. See https://github.com/optuna/optuna/releases/tag/v3.0.0. Use suggest_float instead.\n",
      "  alpha = trial.suggest_uniform('alpha', 0, 1)\n"
     ]
    },
    {
     "name": "stdout",
     "output_type": "stream",
     "text": [
      "EvaluatorHoldout: Processed 35595 (100.0%) in 3.02 min. Users per second: 196\n"
     ]
    },
    {
     "name": "stderr",
     "output_type": "stream",
     "text": [
      "[I 2025-01-04 23:56:54,508] Trial 90 finished with value: 0.05887936820090002 and parameters: {'alpha': 0.5598651946032904}. Best is trial 62 with value: 0.06138711853144864.\n",
      "/var/folders/50/7hjr20g17_18p725nbt0qqv00000gn/T/ipykernel_30469/1654928293.py:8: FutureWarning: suggest_uniform has been deprecated in v3.0.0. This feature will be removed in v6.0.0. See https://github.com/optuna/optuna/releases/tag/v3.0.0. Use suggest_float instead.\n",
      "  alpha = trial.suggest_uniform('alpha', 0, 1)\n"
     ]
    },
    {
     "name": "stdout",
     "output_type": "stream",
     "text": [
      "EvaluatorHoldout: Processed 35595 (100.0%) in 3.09 min. Users per second: 192\n"
     ]
    },
    {
     "name": "stderr",
     "output_type": "stream",
     "text": [
      "[I 2025-01-05 00:00:00,151] Trial 91 finished with value: 0.061378167523972696 and parameters: {'alpha': 0.9373974251079752}. Best is trial 62 with value: 0.06138711853144864.\n",
      "/var/folders/50/7hjr20g17_18p725nbt0qqv00000gn/T/ipykernel_30469/1654928293.py:8: FutureWarning: suggest_uniform has been deprecated in v3.0.0. This feature will be removed in v6.0.0. See https://github.com/optuna/optuna/releases/tag/v3.0.0. Use suggest_float instead.\n",
      "  alpha = trial.suggest_uniform('alpha', 0, 1)\n"
     ]
    },
    {
     "name": "stdout",
     "output_type": "stream",
     "text": [
      "EvaluatorHoldout: Processed 35595 (100.0%) in 3.04 min. Users per second: 195\n"
     ]
    },
    {
     "name": "stderr",
     "output_type": "stream",
     "text": [
      "[I 2025-01-05 00:03:02,752] Trial 92 finished with value: 0.06135366791750927 and parameters: {'alpha': 0.9604726864077823}. Best is trial 62 with value: 0.06138711853144864.\n",
      "/var/folders/50/7hjr20g17_18p725nbt0qqv00000gn/T/ipykernel_30469/1654928293.py:8: FutureWarning: suggest_uniform has been deprecated in v3.0.0. This feature will be removed in v6.0.0. See https://github.com/optuna/optuna/releases/tag/v3.0.0. Use suggest_float instead.\n",
      "  alpha = trial.suggest_uniform('alpha', 0, 1)\n"
     ]
    },
    {
     "name": "stdout",
     "output_type": "stream",
     "text": [
      "EvaluatorHoldout: Processed 35595 (100.0%) in 2.99 min. Users per second: 198\n"
     ]
    },
    {
     "name": "stderr",
     "output_type": "stream",
     "text": [
      "[I 2025-01-05 00:06:02,532] Trial 93 finished with value: 0.06135760105418561 and parameters: {'alpha': 0.9125858703099309}. Best is trial 62 with value: 0.06138711853144864.\n",
      "/var/folders/50/7hjr20g17_18p725nbt0qqv00000gn/T/ipykernel_30469/1654928293.py:8: FutureWarning: suggest_uniform has been deprecated in v3.0.0. This feature will be removed in v6.0.0. See https://github.com/optuna/optuna/releases/tag/v3.0.0. Use suggest_float instead.\n",
      "  alpha = trial.suggest_uniform('alpha', 0, 1)\n"
     ]
    },
    {
     "name": "stdout",
     "output_type": "stream",
     "text": [
      "EvaluatorHoldout: Processed 35595 (100.0%) in 3.02 min. Users per second: 196\n"
     ]
    },
    {
     "name": "stderr",
     "output_type": "stream",
     "text": [
      "[I 2025-01-05 00:09:03,955] Trial 94 finished with value: 0.06132294976331863 and parameters: {'alpha': 0.869685711422736}. Best is trial 62 with value: 0.06138711853144864.\n",
      "/var/folders/50/7hjr20g17_18p725nbt0qqv00000gn/T/ipykernel_30469/1654928293.py:8: FutureWarning: suggest_uniform has been deprecated in v3.0.0. This feature will be removed in v6.0.0. See https://github.com/optuna/optuna/releases/tag/v3.0.0. Use suggest_float instead.\n",
      "  alpha = trial.suggest_uniform('alpha', 0, 1)\n"
     ]
    },
    {
     "name": "stdout",
     "output_type": "stream",
     "text": [
      "EvaluatorHoldout: Processed 35595 (100.0%) in 2.99 min. Users per second: 199\n"
     ]
    },
    {
     "name": "stderr",
     "output_type": "stream",
     "text": [
      "[I 2025-01-05 00:12:03,193] Trial 95 finished with value: 0.06137245399634593 and parameters: {'alpha': 0.936906166047107}. Best is trial 62 with value: 0.06138711853144864.\n",
      "/var/folders/50/7hjr20g17_18p725nbt0qqv00000gn/T/ipykernel_30469/1654928293.py:8: FutureWarning: suggest_uniform has been deprecated in v3.0.0. This feature will be removed in v6.0.0. See https://github.com/optuna/optuna/releases/tag/v3.0.0. Use suggest_float instead.\n",
      "  alpha = trial.suggest_uniform('alpha', 0, 1)\n"
     ]
    },
    {
     "name": "stdout",
     "output_type": "stream",
     "text": [
      "EvaluatorHoldout: Processed 35595 (100.0%) in 3.40 min. Users per second: 175\n"
     ]
    },
    {
     "name": "stderr",
     "output_type": "stream",
     "text": [
      "[I 2025-01-05 00:15:27,026] Trial 96 finished with value: 0.061328442553682784 and parameters: {'alpha': 0.8445866394873393}. Best is trial 62 with value: 0.06138711853144864.\n",
      "/var/folders/50/7hjr20g17_18p725nbt0qqv00000gn/T/ipykernel_30469/1654928293.py:8: FutureWarning: suggest_uniform has been deprecated in v3.0.0. This feature will be removed in v6.0.0. See https://github.com/optuna/optuna/releases/tag/v3.0.0. Use suggest_float instead.\n",
      "  alpha = trial.suggest_uniform('alpha', 0, 1)\n"
     ]
    },
    {
     "name": "stdout",
     "output_type": "stream",
     "text": [
      "EvaluatorHoldout: Processed 35595 (100.0%) in 2.93 min. Users per second: 202\n"
     ]
    },
    {
     "name": "stderr",
     "output_type": "stream",
     "text": [
      "[I 2025-01-05 00:18:22,933] Trial 97 finished with value: 0.055138289665257814 and parameters: {'alpha': 0.3410908775827485}. Best is trial 62 with value: 0.06138711853144864.\n",
      "/var/folders/50/7hjr20g17_18p725nbt0qqv00000gn/T/ipykernel_30469/1654928293.py:8: FutureWarning: suggest_uniform has been deprecated in v3.0.0. This feature will be removed in v6.0.0. See https://github.com/optuna/optuna/releases/tag/v3.0.0. Use suggest_float instead.\n",
      "  alpha = trial.suggest_uniform('alpha', 0, 1)\n"
     ]
    },
    {
     "name": "stdout",
     "output_type": "stream",
     "text": [
      "EvaluatorHoldout: Processed 35595 (100.0%) in 2.97 min. Users per second: 200\n"
     ]
    },
    {
     "name": "stderr",
     "output_type": "stream",
     "text": [
      "[I 2025-01-05 00:21:21,021] Trial 98 finished with value: 0.06129323718999025 and parameters: {'alpha': 0.9752061071788877}. Best is trial 62 with value: 0.06138711853144864.\n",
      "/var/folders/50/7hjr20g17_18p725nbt0qqv00000gn/T/ipykernel_30469/1654928293.py:8: FutureWarning: suggest_uniform has been deprecated in v3.0.0. This feature will be removed in v6.0.0. See https://github.com/optuna/optuna/releases/tag/v3.0.0. Use suggest_float instead.\n",
      "  alpha = trial.suggest_uniform('alpha', 0, 1)\n"
     ]
    },
    {
     "name": "stdout",
     "output_type": "stream",
     "text": [
      "EvaluatorHoldout: Processed 35595 (100.0%) in 2.93 min. Users per second: 202\n"
     ]
    },
    {
     "name": "stderr",
     "output_type": "stream",
     "text": [
      "[I 2025-01-05 00:24:16,949] Trial 99 finished with value: 0.06137923442074111 and parameters: {'alpha': 0.8976375657307794}. Best is trial 62 with value: 0.06138711853144864.\n"
     ]
    }
   ],
   "source": [
    "from Recommenders.Hybrid.GeneralizedLinearHybridRecommender import GeneralizedNormalizedLinearHybridRecommender\n",
    "import optuna\n",
    "\n",
    "recommenders = [final_recommender, als_recommender]\n",
    "\n",
    "def objective_function(trial):\n",
    "    recommender = GeneralizedNormalizedLinearHybridRecommender(URM_train_validation, recommenders)\n",
    "    alpha = trial.suggest_uniform('alpha', 0, 1)\n",
    "    recommender.fit([alpha, 1-alpha])\n",
    "    result_dict, _ = evaluator_test.evaluateRecommender(recommender)\n",
    "    MAP = result_dict.loc[10][\"MAP\"]\n",
    "    return MAP\n",
    "\n",
    "class SaveResults(object):\n",
    "    \n",
    "    def __init__(self):\n",
    "        self.results_df = pd.DataFrame(columns = [\"result\"])\n",
    "    \n",
    "    def __call__(self, optuna_study, optuna_trial):\n",
    "        hyperparam_dict = optuna_trial.params.copy()\n",
    "        hyperparam_dict[\"result\"] = optuna_trial.values[0]\n",
    "        \n",
    "        self.results_df = pd.concat([self.results_df, pd.DataFrame([hyperparam_dict])], ignore_index=True)\n",
    "        self.results_df.to_csv(\"logs/Hybrid/hybrid_best_IALS_LINEAR_IALS_NORMALIZED_SCORE.csv\", index = False)\n",
    "\n",
    "optuna_study = optuna.create_study(study_name=\"HYBRID_IALS_INCLUDED_NORMALIZED\", direction=\"maximize\")\n",
    "        \n",
    "save_results = SaveResults()\n",
    "        \n",
    "optuna_study.optimize(objective_function,\n",
    "                      callbacks=[save_results],\n",
    "                      n_trials = 100,\n",
    "                      )"
   ]
  },
  {
   "cell_type": "markdown",
   "metadata": {},
   "source": [
    "# Consideration\n",
    "0.06138711853144864 was the best result, compared to 0.061388178739209306, so it was pointless"
   ]
  }
 ],
 "metadata": {
  "kernelspec": {
   "display_name": "RecSysPD",
   "language": "python",
   "name": "python3"
  },
  "language_info": {
   "codemirror_mode": {
    "name": "ipython",
    "version": 3
   },
   "file_extension": ".py",
   "mimetype": "text/x-python",
   "name": "python",
   "nbconvert_exporter": "python",
   "pygments_lexer": "ipython3",
   "version": "3.8.20"
  }
 },
 "nbformat": 4,
 "nbformat_minor": 2
}
