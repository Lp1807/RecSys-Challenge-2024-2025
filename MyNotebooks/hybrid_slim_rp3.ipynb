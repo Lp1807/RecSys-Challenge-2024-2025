{
 "cells": [
  {
   "cell_type": "markdown",
   "metadata": {},
   "source": [
    "# Hybrid\n",
    "Now SLIMNet and RP3 are my best models, let's try to combine them since they have the same characteristics for model merging."
   ]
  },
  {
   "cell_type": "code",
   "execution_count": 1,
   "metadata": {},
   "outputs": [],
   "source": [
    "import os\n",
    "\n",
    "os.chdir('../')"
   ]
  },
  {
   "cell_type": "markdown",
   "metadata": {},
   "source": [
    "## Some analysis"
   ]
  },
  {
   "cell_type": "code",
   "execution_count": 2,
   "metadata": {},
   "outputs": [
    {
     "name": "stdout",
     "output_type": "stream",
     "text": [
      "   user_id  item_id  data\n",
      "0        0        0   1.0\n",
      "1        0        2   1.0\n",
      "2        0      120   1.0\n",
      "3        0      128   1.0\n",
      "4        0      211   1.0\n",
      "5        0      232   1.0\n",
      "6        0      282   1.0\n",
      "7        0      453   1.0\n",
      "8        0      458   1.0\n",
      "9        0      491   1.0\n"
     ]
    }
   ],
   "source": [
    "import numpy as np\n",
    "import pandas as pd\n",
    "import matplotlib.pyplot as plt\n",
    "\n",
    "data_train_path = \"Dataset/data_train.csv\"\n",
    "\n",
    "URM_all_dataframe = pd.read_csv(data_train_path)\n",
    "print(URM_all_dataframe.head(10))"
   ]
  },
  {
   "cell_type": "code",
   "execution_count": 4,
   "metadata": {},
   "outputs": [
    {
     "name": "stdout",
     "output_type": "stream",
     "text": [
      "Warning: 141 (0.39 %) of 35736 users have no sampled items\n",
      "EvaluatorHoldout: Ignoring 141 ( 0.4%) Users that have less than 1 test interactions\n"
     ]
    }
   ],
   "source": [
    "import numpy as np\n",
    "import scipy.sparse as sps\n",
    "from Data_manager.split_functions.split_train_validation_random_holdout import split_train_in_two_percentage_global_sample\n",
    "from Evaluation.Evaluator import EvaluatorHoldout\n",
    "\n",
    "\n",
    "\n",
    "URM_all = sps.coo_matrix((URM_all_dataframe['data'], (URM_all_dataframe['user_id'], URM_all_dataframe['item_id'])))\n",
    "URM_all = URM_all.tocsr()\n",
    "\n",
    "URM_train_validation, URM_test = split_train_in_two_percentage_global_sample(URM_all, train_percentage = 0.8)\n",
    "evaluator_test = EvaluatorHoldout(URM_test, cutoff_list=[10])"
   ]
  },
  {
   "cell_type": "markdown",
   "metadata": {},
   "source": [
    "# Building Hybrid"
   ]
  },
  {
   "cell_type": "code",
   "execution_count": 8,
   "metadata": {},
   "outputs": [
    {
     "name": "stderr",
     "output_type": "stream",
     "text": [
      "Progress: 100%|██████████| 38121/38121 [08:56<00:00, 71.03items/s]\n"
     ]
    },
    {
     "name": "stdout",
     "output_type": "stream",
     "text": [
      "RP3betaRecommender: Similarity column 38121 (100.0%), 3846.02 column/sec. Elapsed time 9.91 sec\n"
     ]
    }
   ],
   "source": [
    "from Recommenders.SLIM.SLIMElasticNetRecommender_Peppe import MultiThreadSLIM_SLIMElasticNetRecommender\n",
    "from Recommenders.GraphBased.RP3betaRecommender import RP3betaRecommender\n",
    "\n",
    "recommender_slimNet = MultiThreadSLIM_SLIMElasticNetRecommender(URM_train_validation)\n",
    "recommender_slimNet.fit(topK=142, alpha = 9.521340863590419e-05, l1_ratio = 0.4033590645217344)\n",
    "\n",
    "recommender_rp3 = RP3betaRecommender(URM_train_validation)\n",
    "recommender_rp3.fit(topK=14, alpha=0.3683550822991944, beta=0.19877125816137325, implicit=True)"
   ]
  },
  {
   "cell_type": "code",
   "execution_count": 9,
   "metadata": {},
   "outputs": [],
   "source": [
    "from Recommenders.KNN.ItemKNNCustomSimilarityRecommender import ItemKNNCustomSimilarityRecommender\n",
    "\n",
    "def objective_function(trial):\n",
    "\n",
    "    alpha = trial.suggest_uniform('alpha', 0.0, 1.0)\n",
    "\n",
    "\n",
    "    recommender = ItemKNNCustomSimilarityRecommender(URM_train_validation)\n",
    "\n",
    "    new_similarity = recommender_slimNet.W_sparse * alpha + recommender_rp3.W_sparse * (1-alpha)\n",
    "\n",
    "    recommender.fit(new_similarity)\n",
    "\n",
    "    result_dict, _ = evaluator_test.evaluateRecommender(recommender)\n",
    "\n",
    "    MAP = result_dict.loc[10][\"MAP\"]\n",
    "    \n",
    "    return MAP"
   ]
  },
  {
   "cell_type": "code",
   "execution_count": 10,
   "metadata": {},
   "outputs": [],
   "source": [
    "class SaveResults(object):\n",
    "    \n",
    "    def __init__(self):\n",
    "        self.results_df = pd.DataFrame(columns = [\"result\"])\n",
    "    \n",
    "    def __call__(self, optuna_study, optuna_trial):\n",
    "        hyperparam_dict = optuna_trial.params.copy()\n",
    "        hyperparam_dict[\"result\"] = optuna_trial.values[0]\n",
    "        \n",
    "        self.results_df = pd.concat([self.results_df, pd.DataFrame([hyperparam_dict])], ignore_index=True)\n",
    "        self.results_df.to_csv(\"logs/Hybrid/hybrid_slim_RP3_MM.csv\", index = False)"
   ]
  },
  {
   "cell_type": "code",
   "execution_count": 11,
   "metadata": {},
   "outputs": [
    {
     "name": "stderr",
     "output_type": "stream",
     "text": [
      "[I 2024-12-24 17:48:49,644] A new study created in memory with name: hybrid_slim_ep3\n",
      "/var/folders/50/7hjr20g17_18p725nbt0qqv00000gn/T/ipykernel_49684/3036968644.py:5: FutureWarning: suggest_uniform has been deprecated in v3.0.0. This feature will be removed in v6.0.0. See https://github.com/optuna/optuna/releases/tag/v3.0.0. Use suggest_float instead.\n",
      "  alpha = trial.suggest_uniform('alpha', 0.0, 1.0)\n"
     ]
    },
    {
     "name": "stdout",
     "output_type": "stream",
     "text": [
      "EvaluatorHoldout: Processed 35595 (100.0%) in 15.36 sec. Users per second: 2317\n"
     ]
    },
    {
     "name": "stderr",
     "output_type": "stream",
     "text": [
      "[I 2024-12-24 17:49:05,061] Trial 0 finished with value: 0.05703360223145108 and parameters: {'alpha': 0.17934580697435976}. Best is trial 0 with value: 0.05703360223145108.\n",
      "/var/folders/50/7hjr20g17_18p725nbt0qqv00000gn/T/ipykernel_49684/3036968644.py:5: FutureWarning: suggest_uniform has been deprecated in v3.0.0. This feature will be removed in v6.0.0. See https://github.com/optuna/optuna/releases/tag/v3.0.0. Use suggest_float instead.\n",
      "  alpha = trial.suggest_uniform('alpha', 0.0, 1.0)\n"
     ]
    },
    {
     "name": "stdout",
     "output_type": "stream",
     "text": [
      "EvaluatorHoldout: Processed 35595 (100.0%) in 15.30 sec. Users per second: 2326\n"
     ]
    },
    {
     "name": "stderr",
     "output_type": "stream",
     "text": [
      "[I 2024-12-24 17:49:20,407] Trial 1 finished with value: 0.060279897078462354 and parameters: {'alpha': 0.9369286807355108}. Best is trial 1 with value: 0.060279897078462354.\n",
      "/var/folders/50/7hjr20g17_18p725nbt0qqv00000gn/T/ipykernel_49684/3036968644.py:5: FutureWarning: suggest_uniform has been deprecated in v3.0.0. This feature will be removed in v6.0.0. See https://github.com/optuna/optuna/releases/tag/v3.0.0. Use suggest_float instead.\n",
      "  alpha = trial.suggest_uniform('alpha', 0.0, 1.0)\n"
     ]
    },
    {
     "name": "stdout",
     "output_type": "stream",
     "text": [
      "EvaluatorHoldout: Processed 35595 (100.0%) in 15.30 sec. Users per second: 2326\n"
     ]
    },
    {
     "name": "stderr",
     "output_type": "stream",
     "text": [
      "[I 2024-12-24 17:49:35,748] Trial 2 finished with value: 0.05835540705957693 and parameters: {'alpha': 0.2828911348502485}. Best is trial 1 with value: 0.060279897078462354.\n",
      "/var/folders/50/7hjr20g17_18p725nbt0qqv00000gn/T/ipykernel_49684/3036968644.py:5: FutureWarning: suggest_uniform has been deprecated in v3.0.0. This feature will be removed in v6.0.0. See https://github.com/optuna/optuna/releases/tag/v3.0.0. Use suggest_float instead.\n",
      "  alpha = trial.suggest_uniform('alpha', 0.0, 1.0)\n"
     ]
    },
    {
     "name": "stdout",
     "output_type": "stream",
     "text": [
      "EvaluatorHoldout: Processed 35595 (100.0%) in 15.28 sec. Users per second: 2330\n"
     ]
    },
    {
     "name": "stderr",
     "output_type": "stream",
     "text": [
      "[I 2024-12-24 17:49:51,067] Trial 3 finished with value: 0.060316383387177916 and parameters: {'alpha': 0.9261790423108401}. Best is trial 3 with value: 0.060316383387177916.\n",
      "/var/folders/50/7hjr20g17_18p725nbt0qqv00000gn/T/ipykernel_49684/3036968644.py:5: FutureWarning: suggest_uniform has been deprecated in v3.0.0. This feature will be removed in v6.0.0. See https://github.com/optuna/optuna/releases/tag/v3.0.0. Use suggest_float instead.\n",
      "  alpha = trial.suggest_uniform('alpha', 0.0, 1.0)\n"
     ]
    },
    {
     "name": "stdout",
     "output_type": "stream",
     "text": [
      "EvaluatorHoldout: Processed 35595 (100.0%) in 15.28 sec. Users per second: 2329\n"
     ]
    },
    {
     "name": "stderr",
     "output_type": "stream",
     "text": [
      "[I 2024-12-24 17:50:06,387] Trial 4 finished with value: 0.0586573433044125 and parameters: {'alpha': 0.311502366535797}. Best is trial 3 with value: 0.060316383387177916.\n",
      "/var/folders/50/7hjr20g17_18p725nbt0qqv00000gn/T/ipykernel_49684/3036968644.py:5: FutureWarning: suggest_uniform has been deprecated in v3.0.0. This feature will be removed in v6.0.0. See https://github.com/optuna/optuna/releases/tag/v3.0.0. Use suggest_float instead.\n",
      "  alpha = trial.suggest_uniform('alpha', 0.0, 1.0)\n"
     ]
    },
    {
     "name": "stdout",
     "output_type": "stream",
     "text": [
      "EvaluatorHoldout: Processed 35595 (100.0%) in 15.30 sec. Users per second: 2326\n"
     ]
    },
    {
     "name": "stderr",
     "output_type": "stream",
     "text": [
      "[I 2024-12-24 17:50:21,726] Trial 5 finished with value: 0.05910509992262851 and parameters: {'alpha': 0.35385006078322945}. Best is trial 3 with value: 0.060316383387177916.\n",
      "/var/folders/50/7hjr20g17_18p725nbt0qqv00000gn/T/ipykernel_49684/3036968644.py:5: FutureWarning: suggest_uniform has been deprecated in v3.0.0. This feature will be removed in v6.0.0. See https://github.com/optuna/optuna/releases/tag/v3.0.0. Use suggest_float instead.\n",
      "  alpha = trial.suggest_uniform('alpha', 0.0, 1.0)\n"
     ]
    },
    {
     "name": "stdout",
     "output_type": "stream",
     "text": [
      "EvaluatorHoldout: Processed 35595 (100.0%) in 15.26 sec. Users per second: 2333\n"
     ]
    },
    {
     "name": "stderr",
     "output_type": "stream",
     "text": [
      "[I 2024-12-24 17:50:37,024] Trial 6 finished with value: 0.057950120067690694 and parameters: {'alpha': 0.24687113890914514}. Best is trial 3 with value: 0.060316383387177916.\n",
      "/var/folders/50/7hjr20g17_18p725nbt0qqv00000gn/T/ipykernel_49684/3036968644.py:5: FutureWarning: suggest_uniform has been deprecated in v3.0.0. This feature will be removed in v6.0.0. See https://github.com/optuna/optuna/releases/tag/v3.0.0. Use suggest_float instead.\n",
      "  alpha = trial.suggest_uniform('alpha', 0.0, 1.0)\n"
     ]
    },
    {
     "name": "stdout",
     "output_type": "stream",
     "text": [
      "EvaluatorHoldout: Processed 35595 (100.0%) in 15.25 sec. Users per second: 2335\n"
     ]
    },
    {
     "name": "stderr",
     "output_type": "stream",
     "text": [
      "[I 2024-12-24 17:50:52,308] Trial 7 finished with value: 0.060364475124692736 and parameters: {'alpha': 0.5486308888028444}. Best is trial 7 with value: 0.060364475124692736.\n",
      "/var/folders/50/7hjr20g17_18p725nbt0qqv00000gn/T/ipykernel_49684/3036968644.py:5: FutureWarning: suggest_uniform has been deprecated in v3.0.0. This feature will be removed in v6.0.0. See https://github.com/optuna/optuna/releases/tag/v3.0.0. Use suggest_float instead.\n",
      "  alpha = trial.suggest_uniform('alpha', 0.0, 1.0)\n"
     ]
    },
    {
     "name": "stdout",
     "output_type": "stream",
     "text": [
      "EvaluatorHoldout: Processed 35595 (100.0%) in 15.30 sec. Users per second: 2327\n"
     ]
    },
    {
     "name": "stderr",
     "output_type": "stream",
     "text": [
      "[I 2024-12-24 17:51:07,641] Trial 8 finished with value: 0.05593148337669846 and parameters: {'alpha': 0.10083833200539516}. Best is trial 7 with value: 0.060364475124692736.\n",
      "/var/folders/50/7hjr20g17_18p725nbt0qqv00000gn/T/ipykernel_49684/3036968644.py:5: FutureWarning: suggest_uniform has been deprecated in v3.0.0. This feature will be removed in v6.0.0. See https://github.com/optuna/optuna/releases/tag/v3.0.0. Use suggest_float instead.\n",
      "  alpha = trial.suggest_uniform('alpha', 0.0, 1.0)\n"
     ]
    },
    {
     "name": "stdout",
     "output_type": "stream",
     "text": [
      "EvaluatorHoldout: Processed 35595 (100.0%) in 15.36 sec. Users per second: 2317\n"
     ]
    },
    {
     "name": "stderr",
     "output_type": "stream",
     "text": [
      "[I 2024-12-24 17:51:23,040] Trial 9 finished with value: 0.05977830175006552 and parameters: {'alpha': 0.43995547447003525}. Best is trial 7 with value: 0.060364475124692736.\n",
      "/var/folders/50/7hjr20g17_18p725nbt0qqv00000gn/T/ipykernel_49684/3036968644.py:5: FutureWarning: suggest_uniform has been deprecated in v3.0.0. This feature will be removed in v6.0.0. See https://github.com/optuna/optuna/releases/tag/v3.0.0. Use suggest_float instead.\n",
      "  alpha = trial.suggest_uniform('alpha', 0.0, 1.0)\n"
     ]
    },
    {
     "name": "stdout",
     "output_type": "stream",
     "text": [
      "EvaluatorHoldout: Processed 35595 (100.0%) in 15.44 sec. Users per second: 2305\n"
     ]
    },
    {
     "name": "stderr",
     "output_type": "stream",
     "text": [
      "[I 2024-12-24 17:51:38,521] Trial 10 finished with value: 0.06075538186431417 and parameters: {'alpha': 0.6836801504055559}. Best is trial 10 with value: 0.06075538186431417.\n",
      "/var/folders/50/7hjr20g17_18p725nbt0qqv00000gn/T/ipykernel_49684/3036968644.py:5: FutureWarning: suggest_uniform has been deprecated in v3.0.0. This feature will be removed in v6.0.0. See https://github.com/optuna/optuna/releases/tag/v3.0.0. Use suggest_float instead.\n",
      "  alpha = trial.suggest_uniform('alpha', 0.0, 1.0)\n"
     ]
    },
    {
     "name": "stdout",
     "output_type": "stream",
     "text": [
      "EvaluatorHoldout: Processed 35595 (100.0%) in 15.31 sec. Users per second: 2325\n"
     ]
    },
    {
     "name": "stderr",
     "output_type": "stream",
     "text": [
      "[I 2024-12-24 17:51:53,870] Trial 11 finished with value: 0.0607603963906098 and parameters: {'alpha': 0.6945382247782669}. Best is trial 11 with value: 0.0607603963906098.\n",
      "/var/folders/50/7hjr20g17_18p725nbt0qqv00000gn/T/ipykernel_49684/3036968644.py:5: FutureWarning: suggest_uniform has been deprecated in v3.0.0. This feature will be removed in v6.0.0. See https://github.com/optuna/optuna/releases/tag/v3.0.0. Use suggest_float instead.\n",
      "  alpha = trial.suggest_uniform('alpha', 0.0, 1.0)\n"
     ]
    },
    {
     "name": "stdout",
     "output_type": "stream",
     "text": [
      "EvaluatorHoldout: Processed 35595 (100.0%) in 15.20 sec. Users per second: 2342\n"
     ]
    },
    {
     "name": "stderr",
     "output_type": "stream",
     "text": [
      "[I 2024-12-24 17:52:09,111] Trial 12 finished with value: 0.06075994265290364 and parameters: {'alpha': 0.6922296351762773}. Best is trial 11 with value: 0.0607603963906098.\n",
      "/var/folders/50/7hjr20g17_18p725nbt0qqv00000gn/T/ipykernel_49684/3036968644.py:5: FutureWarning: suggest_uniform has been deprecated in v3.0.0. This feature will be removed in v6.0.0. See https://github.com/optuna/optuna/releases/tag/v3.0.0. Use suggest_float instead.\n",
      "  alpha = trial.suggest_uniform('alpha', 0.0, 1.0)\n"
     ]
    },
    {
     "name": "stdout",
     "output_type": "stream",
     "text": [
      "EvaluatorHoldout: Processed 35595 (100.0%) in 15.30 sec. Users per second: 2327\n"
     ]
    },
    {
     "name": "stderr",
     "output_type": "stream",
     "text": [
      "[I 2024-12-24 17:52:24,446] Trial 13 finished with value: 0.06073918554639008 and parameters: {'alpha': 0.7081122563225358}. Best is trial 11 with value: 0.0607603963906098.\n",
      "/var/folders/50/7hjr20g17_18p725nbt0qqv00000gn/T/ipykernel_49684/3036968644.py:5: FutureWarning: suggest_uniform has been deprecated in v3.0.0. This feature will be removed in v6.0.0. See https://github.com/optuna/optuna/releases/tag/v3.0.0. Use suggest_float instead.\n",
      "  alpha = trial.suggest_uniform('alpha', 0.0, 1.0)\n"
     ]
    },
    {
     "name": "stdout",
     "output_type": "stream",
     "text": [
      "EvaluatorHoldout: Processed 35595 (100.0%) in 15.31 sec. Users per second: 2325\n"
     ]
    },
    {
     "name": "stderr",
     "output_type": "stream",
     "text": [
      "[I 2024-12-24 17:52:39,795] Trial 14 finished with value: 0.060708190913203904 and parameters: {'alpha': 0.743518431756839}. Best is trial 11 with value: 0.0607603963906098.\n",
      "/var/folders/50/7hjr20g17_18p725nbt0qqv00000gn/T/ipykernel_49684/3036968644.py:5: FutureWarning: suggest_uniform has been deprecated in v3.0.0. This feature will be removed in v6.0.0. See https://github.com/optuna/optuna/releases/tag/v3.0.0. Use suggest_float instead.\n",
      "  alpha = trial.suggest_uniform('alpha', 0.0, 1.0)\n"
     ]
    },
    {
     "name": "stdout",
     "output_type": "stream",
     "text": [
      "EvaluatorHoldout: Processed 35595 (100.0%) in 15.31 sec. Users per second: 2325\n"
     ]
    },
    {
     "name": "stderr",
     "output_type": "stream",
     "text": [
      "[I 2024-12-24 17:52:55,143] Trial 15 finished with value: 0.06049013705777137 and parameters: {'alpha': 0.5816384467817367}. Best is trial 11 with value: 0.0607603963906098.\n",
      "/var/folders/50/7hjr20g17_18p725nbt0qqv00000gn/T/ipykernel_49684/3036968644.py:5: FutureWarning: suggest_uniform has been deprecated in v3.0.0. This feature will be removed in v6.0.0. See https://github.com/optuna/optuna/releases/tag/v3.0.0. Use suggest_float instead.\n",
      "  alpha = trial.suggest_uniform('alpha', 0.0, 1.0)\n"
     ]
    },
    {
     "name": "stdout",
     "output_type": "stream",
     "text": [
      "EvaluatorHoldout: Processed 35595 (100.0%) in 15.32 sec. Users per second: 2324\n"
     ]
    },
    {
     "name": "stderr",
     "output_type": "stream",
     "text": [
      "[I 2024-12-24 17:53:10,498] Trial 16 finished with value: 0.06057345980017532 and parameters: {'alpha': 0.8322014386320896}. Best is trial 11 with value: 0.0607603963906098.\n",
      "/var/folders/50/7hjr20g17_18p725nbt0qqv00000gn/T/ipykernel_49684/3036968644.py:5: FutureWarning: suggest_uniform has been deprecated in v3.0.0. This feature will be removed in v6.0.0. See https://github.com/optuna/optuna/releases/tag/v3.0.0. Use suggest_float instead.\n",
      "  alpha = trial.suggest_uniform('alpha', 0.0, 1.0)\n"
     ]
    },
    {
     "name": "stdout",
     "output_type": "stream",
     "text": [
      "EvaluatorHoldout: Processed 35595 (100.0%) in 15.32 sec. Users per second: 2324\n"
     ]
    },
    {
     "name": "stderr",
     "output_type": "stream",
     "text": [
      "[I 2024-12-24 17:53:25,853] Trial 17 finished with value: 0.060638016530766774 and parameters: {'alpha': 0.6119014259156185}. Best is trial 11 with value: 0.0607603963906098.\n",
      "/var/folders/50/7hjr20g17_18p725nbt0qqv00000gn/T/ipykernel_49684/3036968644.py:5: FutureWarning: suggest_uniform has been deprecated in v3.0.0. This feature will be removed in v6.0.0. See https://github.com/optuna/optuna/releases/tag/v3.0.0. Use suggest_float instead.\n",
      "  alpha = trial.suggest_uniform('alpha', 0.0, 1.0)\n"
     ]
    },
    {
     "name": "stdout",
     "output_type": "stream",
     "text": [
      "EvaluatorHoldout: Processed 35595 (100.0%) in 15.32 sec. Users per second: 2324\n"
     ]
    },
    {
     "name": "stderr",
     "output_type": "stream",
     "text": [
      "[I 2024-12-24 17:53:41,207] Trial 18 finished with value: 0.05993599845706707 and parameters: {'alpha': 0.4622107625148367}. Best is trial 11 with value: 0.0607603963906098.\n",
      "/var/folders/50/7hjr20g17_18p725nbt0qqv00000gn/T/ipykernel_49684/3036968644.py:5: FutureWarning: suggest_uniform has been deprecated in v3.0.0. This feature will be removed in v6.0.0. See https://github.com/optuna/optuna/releases/tag/v3.0.0. Use suggest_float instead.\n",
      "  alpha = trial.suggest_uniform('alpha', 0.0, 1.0)\n"
     ]
    },
    {
     "name": "stdout",
     "output_type": "stream",
     "text": [
      "EvaluatorHoldout: Processed 35595 (100.0%) in 15.32 sec. Users per second: 2324\n"
     ]
    },
    {
     "name": "stderr",
     "output_type": "stream",
     "text": [
      "[I 2024-12-24 17:53:56,598] Trial 19 finished with value: 0.06055765701888575 and parameters: {'alpha': 0.8372088458590885}. Best is trial 11 with value: 0.0607603963906098.\n",
      "/var/folders/50/7hjr20g17_18p725nbt0qqv00000gn/T/ipykernel_49684/3036968644.py:5: FutureWarning: suggest_uniform has been deprecated in v3.0.0. This feature will be removed in v6.0.0. See https://github.com/optuna/optuna/releases/tag/v3.0.0. Use suggest_float instead.\n",
      "  alpha = trial.suggest_uniform('alpha', 0.0, 1.0)\n"
     ]
    },
    {
     "name": "stdout",
     "output_type": "stream",
     "text": [
      "EvaluatorHoldout: Processed 35595 (100.0%) in 15.28 sec. Users per second: 2330\n"
     ]
    },
    {
     "name": "stderr",
     "output_type": "stream",
     "text": [
      "[I 2024-12-24 17:54:11,920] Trial 20 finished with value: 0.06061892052789478 and parameters: {'alpha': 0.8092524332267612}. Best is trial 11 with value: 0.0607603963906098.\n",
      "/var/folders/50/7hjr20g17_18p725nbt0qqv00000gn/T/ipykernel_49684/3036968644.py:5: FutureWarning: suggest_uniform has been deprecated in v3.0.0. This feature will be removed in v6.0.0. See https://github.com/optuna/optuna/releases/tag/v3.0.0. Use suggest_float instead.\n",
      "  alpha = trial.suggest_uniform('alpha', 0.0, 1.0)\n"
     ]
    },
    {
     "name": "stdout",
     "output_type": "stream",
     "text": [
      "EvaluatorHoldout: Processed 35595 (100.0%) in 15.30 sec. Users per second: 2327\n"
     ]
    },
    {
     "name": "stderr",
     "output_type": "stream",
     "text": [
      "[I 2024-12-24 17:54:27,255] Trial 21 finished with value: 0.0607607241519995 and parameters: {'alpha': 0.6729347689085529}. Best is trial 21 with value: 0.0607607241519995.\n",
      "/var/folders/50/7hjr20g17_18p725nbt0qqv00000gn/T/ipykernel_49684/3036968644.py:5: FutureWarning: suggest_uniform has been deprecated in v3.0.0. This feature will be removed in v6.0.0. See https://github.com/optuna/optuna/releases/tag/v3.0.0. Use suggest_float instead.\n",
      "  alpha = trial.suggest_uniform('alpha', 0.0, 1.0)\n"
     ]
    },
    {
     "name": "stdout",
     "output_type": "stream",
     "text": [
      "EvaluatorHoldout: Processed 35595 (100.0%) in 15.49 sec. Users per second: 2298\n"
     ]
    },
    {
     "name": "stderr",
     "output_type": "stream",
     "text": [
      "[I 2024-12-24 17:54:42,782] Trial 22 finished with value: 0.060688462799080765 and parameters: {'alpha': 0.6295492513271287}. Best is trial 21 with value: 0.0607607241519995.\n",
      "/var/folders/50/7hjr20g17_18p725nbt0qqv00000gn/T/ipykernel_49684/3036968644.py:5: FutureWarning: suggest_uniform has been deprecated in v3.0.0. This feature will be removed in v6.0.0. See https://github.com/optuna/optuna/releases/tag/v3.0.0. Use suggest_float instead.\n",
      "  alpha = trial.suggest_uniform('alpha', 0.0, 1.0)\n"
     ]
    },
    {
     "name": "stdout",
     "output_type": "stream",
     "text": [
      "EvaluatorHoldout: Processed 35595 (100.0%) in 15.21 sec. Users per second: 2340\n"
     ]
    },
    {
     "name": "stderr",
     "output_type": "stream",
     "text": [
      "[I 2024-12-24 17:54:58,037] Trial 23 finished with value: 0.060726769632794164 and parameters: {'alpha': 0.7524575262216738}. Best is trial 21 with value: 0.0607607241519995.\n",
      "/var/folders/50/7hjr20g17_18p725nbt0qqv00000gn/T/ipykernel_49684/3036968644.py:5: FutureWarning: suggest_uniform has been deprecated in v3.0.0. This feature will be removed in v6.0.0. See https://github.com/optuna/optuna/releases/tag/v3.0.0. Use suggest_float instead.\n",
      "  alpha = trial.suggest_uniform('alpha', 0.0, 1.0)\n"
     ]
    },
    {
     "name": "stdout",
     "output_type": "stream",
     "text": [
      "EvaluatorHoldout: Processed 35595 (100.0%) in 15.17 sec. Users per second: 2347\n"
     ]
    },
    {
     "name": "stderr",
     "output_type": "stream",
     "text": [
      "[I 2024-12-24 17:55:13,244] Trial 24 finished with value: 0.060041925587014294 and parameters: {'alpha': 0.9959460101838954}. Best is trial 21 with value: 0.0607607241519995.\n",
      "/var/folders/50/7hjr20g17_18p725nbt0qqv00000gn/T/ipykernel_49684/3036968644.py:5: FutureWarning: suggest_uniform has been deprecated in v3.0.0. This feature will be removed in v6.0.0. See https://github.com/optuna/optuna/releases/tag/v3.0.0. Use suggest_float instead.\n",
      "  alpha = trial.suggest_uniform('alpha', 0.0, 1.0)\n"
     ]
    },
    {
     "name": "stdout",
     "output_type": "stream",
     "text": [
      "EvaluatorHoldout: Processed 35595 (100.0%) in 15.19 sec. Users per second: 2343\n"
     ]
    },
    {
     "name": "stderr",
     "output_type": "stream",
     "text": [
      "[I 2024-12-24 17:55:28,476] Trial 25 finished with value: 0.060180720272374755 and parameters: {'alpha': 0.5061172067266053}. Best is trial 21 with value: 0.0607607241519995.\n",
      "/var/folders/50/7hjr20g17_18p725nbt0qqv00000gn/T/ipykernel_49684/3036968644.py:5: FutureWarning: suggest_uniform has been deprecated in v3.0.0. This feature will be removed in v6.0.0. See https://github.com/optuna/optuna/releases/tag/v3.0.0. Use suggest_float instead.\n",
      "  alpha = trial.suggest_uniform('alpha', 0.0, 1.0)\n"
     ]
    },
    {
     "name": "stdout",
     "output_type": "stream",
     "text": [
      "EvaluatorHoldout: Processed 35595 (100.0%) in 14.96 sec. Users per second: 2379\n"
     ]
    },
    {
     "name": "stderr",
     "output_type": "stream",
     "text": [
      "[I 2024-12-24 17:55:43,476] Trial 26 finished with value: 0.06072639727801811 and parameters: {'alpha': 0.659889549175327}. Best is trial 21 with value: 0.0607607241519995.\n",
      "/var/folders/50/7hjr20g17_18p725nbt0qqv00000gn/T/ipykernel_49684/3036968644.py:5: FutureWarning: suggest_uniform has been deprecated in v3.0.0. This feature will be removed in v6.0.0. See https://github.com/optuna/optuna/releases/tag/v3.0.0. Use suggest_float instead.\n",
      "  alpha = trial.suggest_uniform('alpha', 0.0, 1.0)\n"
     ]
    },
    {
     "name": "stdout",
     "output_type": "stream",
     "text": [
      "EvaluatorHoldout: Processed 35595 (100.0%) in 14.57 sec. Users per second: 2444\n"
     ]
    },
    {
     "name": "stderr",
     "output_type": "stream",
     "text": [
      "[I 2024-12-24 17:55:58,080] Trial 27 finished with value: 0.059568095215796694 and parameters: {'alpha': 0.41362090603418217}. Best is trial 21 with value: 0.0607607241519995.\n",
      "/var/folders/50/7hjr20g17_18p725nbt0qqv00000gn/T/ipykernel_49684/3036968644.py:5: FutureWarning: suggest_uniform has been deprecated in v3.0.0. This feature will be removed in v6.0.0. See https://github.com/optuna/optuna/releases/tag/v3.0.0. Use suggest_float instead.\n",
      "  alpha = trial.suggest_uniform('alpha', 0.0, 1.0)\n"
     ]
    },
    {
     "name": "stdout",
     "output_type": "stream",
     "text": [
      "EvaluatorHoldout: Processed 35595 (100.0%) in 14.78 sec. Users per second: 2408\n"
     ]
    },
    {
     "name": "stderr",
     "output_type": "stream",
     "text": [
      "[I 2024-12-24 17:56:12,906] Trial 28 finished with value: 0.060281967326424254 and parameters: {'alpha': 0.531015128085142}. Best is trial 21 with value: 0.0607607241519995.\n",
      "/var/folders/50/7hjr20g17_18p725nbt0qqv00000gn/T/ipykernel_49684/3036968644.py:5: FutureWarning: suggest_uniform has been deprecated in v3.0.0. This feature will be removed in v6.0.0. See https://github.com/optuna/optuna/releases/tag/v3.0.0. Use suggest_float instead.\n",
      "  alpha = trial.suggest_uniform('alpha', 0.0, 1.0)\n"
     ]
    },
    {
     "name": "stdout",
     "output_type": "stream",
     "text": [
      "EvaluatorHoldout: Processed 35595 (100.0%) in 14.76 sec. Users per second: 2411\n"
     ]
    },
    {
     "name": "stderr",
     "output_type": "stream",
     "text": [
      "[I 2024-12-24 17:56:27,708] Trial 29 finished with value: 0.06070391998162574 and parameters: {'alpha': 0.7735138575589781}. Best is trial 21 with value: 0.0607607241519995.\n",
      "/var/folders/50/7hjr20g17_18p725nbt0qqv00000gn/T/ipykernel_49684/3036968644.py:5: FutureWarning: suggest_uniform has been deprecated in v3.0.0. This feature will be removed in v6.0.0. See https://github.com/optuna/optuna/releases/tag/v3.0.0. Use suggest_float instead.\n",
      "  alpha = trial.suggest_uniform('alpha', 0.0, 1.0)\n"
     ]
    },
    {
     "name": "stdout",
     "output_type": "stream",
     "text": [
      "EvaluatorHoldout: Processed 35595 (100.0%) in 14.66 sec. Users per second: 2428\n"
     ]
    },
    {
     "name": "stderr",
     "output_type": "stream",
     "text": [
      "[I 2024-12-24 17:56:42,407] Trial 30 finished with value: 0.06049242581332589 and parameters: {'alpha': 0.872167871837109}. Best is trial 21 with value: 0.0607607241519995.\n",
      "/var/folders/50/7hjr20g17_18p725nbt0qqv00000gn/T/ipykernel_49684/3036968644.py:5: FutureWarning: suggest_uniform has been deprecated in v3.0.0. This feature will be removed in v6.0.0. See https://github.com/optuna/optuna/releases/tag/v3.0.0. Use suggest_float instead.\n",
      "  alpha = trial.suggest_uniform('alpha', 0.0, 1.0)\n"
     ]
    },
    {
     "name": "stdout",
     "output_type": "stream",
     "text": [
      "EvaluatorHoldout: Processed 35595 (100.0%) in 14.67 sec. Users per second: 2426\n"
     ]
    },
    {
     "name": "stderr",
     "output_type": "stream",
     "text": [
      "[I 2024-12-24 17:56:57,120] Trial 31 finished with value: 0.06075820685533979 and parameters: {'alpha': 0.684729524117753}. Best is trial 21 with value: 0.0607607241519995.\n",
      "/var/folders/50/7hjr20g17_18p725nbt0qqv00000gn/T/ipykernel_49684/3036968644.py:5: FutureWarning: suggest_uniform has been deprecated in v3.0.0. This feature will be removed in v6.0.0. See https://github.com/optuna/optuna/releases/tag/v3.0.0. Use suggest_float instead.\n",
      "  alpha = trial.suggest_uniform('alpha', 0.0, 1.0)\n"
     ]
    },
    {
     "name": "stdout",
     "output_type": "stream",
     "text": [
      "EvaluatorHoldout: Processed 35595 (100.0%) in 14.83 sec. Users per second: 2401\n"
     ]
    },
    {
     "name": "stderr",
     "output_type": "stream",
     "text": [
      "[I 2024-12-24 17:57:11,988] Trial 32 finished with value: 0.060749549049378945 and parameters: {'alpha': 0.7028541081497347}. Best is trial 21 with value: 0.0607607241519995.\n",
      "/var/folders/50/7hjr20g17_18p725nbt0qqv00000gn/T/ipykernel_49684/3036968644.py:5: FutureWarning: suggest_uniform has been deprecated in v3.0.0. This feature will be removed in v6.0.0. See https://github.com/optuna/optuna/releases/tag/v3.0.0. Use suggest_float instead.\n",
      "  alpha = trial.suggest_uniform('alpha', 0.0, 1.0)\n"
     ]
    },
    {
     "name": "stdout",
     "output_type": "stream",
     "text": [
      "EvaluatorHoldout: Processed 35595 (100.0%) in 14.94 sec. Users per second: 2383\n"
     ]
    },
    {
     "name": "stderr",
     "output_type": "stream",
     "text": [
      "[I 2024-12-24 17:57:26,971] Trial 33 finished with value: 0.06060377661388881 and parameters: {'alpha': 0.6090113480842624}. Best is trial 21 with value: 0.0607607241519995.\n",
      "/var/folders/50/7hjr20g17_18p725nbt0qqv00000gn/T/ipykernel_49684/3036968644.py:5: FutureWarning: suggest_uniform has been deprecated in v3.0.0. This feature will be removed in v6.0.0. See https://github.com/optuna/optuna/releases/tag/v3.0.0. Use suggest_float instead.\n",
      "  alpha = trial.suggest_uniform('alpha', 0.0, 1.0)\n"
     ]
    },
    {
     "name": "stdout",
     "output_type": "stream",
     "text": [
      "EvaluatorHoldout: Processed 35595 (100.0%) in 14.90 sec. Users per second: 2390\n"
     ]
    },
    {
     "name": "stderr",
     "output_type": "stream",
     "text": [
      "[I 2024-12-24 17:57:41,905] Trial 34 finished with value: 0.06031485829336459 and parameters: {'alpha': 0.9265475018833885}. Best is trial 21 with value: 0.0607607241519995.\n",
      "/var/folders/50/7hjr20g17_18p725nbt0qqv00000gn/T/ipykernel_49684/3036968644.py:5: FutureWarning: suggest_uniform has been deprecated in v3.0.0. This feature will be removed in v6.0.0. See https://github.com/optuna/optuna/releases/tag/v3.0.0. Use suggest_float instead.\n",
      "  alpha = trial.suggest_uniform('alpha', 0.0, 1.0)\n"
     ]
    },
    {
     "name": "stdout",
     "output_type": "stream",
     "text": [
      "EvaluatorHoldout: Processed 35595 (100.0%) in 14.68 sec. Users per second: 2424\n"
     ]
    },
    {
     "name": "stderr",
     "output_type": "stream",
     "text": [
      "[I 2024-12-24 17:57:56,627] Trial 35 finished with value: 0.05466609029714599 and parameters: {'alpha': 0.0205999631885887}. Best is trial 21 with value: 0.0607607241519995.\n",
      "/var/folders/50/7hjr20g17_18p725nbt0qqv00000gn/T/ipykernel_49684/3036968644.py:5: FutureWarning: suggest_uniform has been deprecated in v3.0.0. This feature will be removed in v6.0.0. See https://github.com/optuna/optuna/releases/tag/v3.0.0. Use suggest_float instead.\n",
      "  alpha = trial.suggest_uniform('alpha', 0.0, 1.0)\n"
     ]
    },
    {
     "name": "stdout",
     "output_type": "stream",
     "text": [
      "EvaluatorHoldout: Processed 35595 (100.0%) in 14.73 sec. Users per second: 2416\n"
     ]
    },
    {
     "name": "stderr",
     "output_type": "stream",
     "text": [
      "[I 2024-12-24 17:58:11,399] Trial 36 finished with value: 0.06072433929323783 and parameters: {'alpha': 0.6538221625040681}. Best is trial 21 with value: 0.0607607241519995.\n",
      "/var/folders/50/7hjr20g17_18p725nbt0qqv00000gn/T/ipykernel_49684/3036968644.py:5: FutureWarning: suggest_uniform has been deprecated in v3.0.0. This feature will be removed in v6.0.0. See https://github.com/optuna/optuna/releases/tag/v3.0.0. Use suggest_float instead.\n",
      "  alpha = trial.suggest_uniform('alpha', 0.0, 1.0)\n"
     ]
    },
    {
     "name": "stdout",
     "output_type": "stream",
     "text": [
      "EvaluatorHoldout: Processed 35595 (100.0%) in 15.16 sec. Users per second: 2348\n"
     ]
    },
    {
     "name": "stderr",
     "output_type": "stream",
     "text": [
      "[I 2024-12-24 17:58:26,600] Trial 37 finished with value: 0.06048474794703044 and parameters: {'alpha': 0.5702905120467685}. Best is trial 21 with value: 0.0607607241519995.\n",
      "/var/folders/50/7hjr20g17_18p725nbt0qqv00000gn/T/ipykernel_49684/3036968644.py:5: FutureWarning: suggest_uniform has been deprecated in v3.0.0. This feature will be removed in v6.0.0. See https://github.com/optuna/optuna/releases/tag/v3.0.0. Use suggest_float instead.\n",
      "  alpha = trial.suggest_uniform('alpha', 0.0, 1.0)\n"
     ]
    },
    {
     "name": "stdout",
     "output_type": "stream",
     "text": [
      "EvaluatorHoldout: Processed 35595 (100.0%) in 15.15 sec. Users per second: 2349\n"
     ]
    },
    {
     "name": "stderr",
     "output_type": "stream",
     "text": [
      "[I 2024-12-24 17:58:41,790] Trial 38 finished with value: 0.06049236226775034 and parameters: {'alpha': 0.8698582802147599}. Best is trial 21 with value: 0.0607607241519995.\n",
      "/var/folders/50/7hjr20g17_18p725nbt0qqv00000gn/T/ipykernel_49684/3036968644.py:5: FutureWarning: suggest_uniform has been deprecated in v3.0.0. This feature will be removed in v6.0.0. See https://github.com/optuna/optuna/releases/tag/v3.0.0. Use suggest_float instead.\n",
      "  alpha = trial.suggest_uniform('alpha', 0.0, 1.0)\n"
     ]
    },
    {
     "name": "stdout",
     "output_type": "stream",
     "text": [
      "EvaluatorHoldout: Processed 35595 (100.0%) in 15.19 sec. Users per second: 2343\n"
     ]
    },
    {
     "name": "stderr",
     "output_type": "stream",
     "text": [
      "[I 2024-12-24 17:58:57,024] Trial 39 finished with value: 0.06071760011772482 and parameters: {'alpha': 0.747025549781247}. Best is trial 21 with value: 0.0607607241519995.\n",
      "/var/folders/50/7hjr20g17_18p725nbt0qqv00000gn/T/ipykernel_49684/3036968644.py:5: FutureWarning: suggest_uniform has been deprecated in v3.0.0. This feature will be removed in v6.0.0. See https://github.com/optuna/optuna/releases/tag/v3.0.0. Use suggest_float instead.\n",
      "  alpha = trial.suggest_uniform('alpha', 0.0, 1.0)\n"
     ]
    },
    {
     "name": "stdout",
     "output_type": "stream",
     "text": [
      "EvaluatorHoldout: Processed 35595 (100.0%) in 15.32 sec. Users per second: 2323\n"
     ]
    },
    {
     "name": "stderr",
     "output_type": "stream",
     "text": [
      "[I 2024-12-24 17:59:12,385] Trial 40 finished with value: 0.060659888471938955 and parameters: {'alpha': 0.7850397008068215}. Best is trial 21 with value: 0.0607607241519995.\n",
      "/var/folders/50/7hjr20g17_18p725nbt0qqv00000gn/T/ipykernel_49684/3036968644.py:5: FutureWarning: suggest_uniform has been deprecated in v3.0.0. This feature will be removed in v6.0.0. See https://github.com/optuna/optuna/releases/tag/v3.0.0. Use suggest_float instead.\n",
      "  alpha = trial.suggest_uniform('alpha', 0.0, 1.0)\n"
     ]
    },
    {
     "name": "stdout",
     "output_type": "stream",
     "text": [
      "EvaluatorHoldout: Processed 35595 (100.0%) in 15.77 sec. Users per second: 2257\n"
     ]
    },
    {
     "name": "stderr",
     "output_type": "stream",
     "text": [
      "[I 2024-12-24 17:59:28,233] Trial 41 finished with value: 0.06075738856670017 and parameters: {'alpha': 0.6737049454731399}. Best is trial 21 with value: 0.0607607241519995.\n",
      "/var/folders/50/7hjr20g17_18p725nbt0qqv00000gn/T/ipykernel_49684/3036968644.py:5: FutureWarning: suggest_uniform has been deprecated in v3.0.0. This feature will be removed in v6.0.0. See https://github.com/optuna/optuna/releases/tag/v3.0.0. Use suggest_float instead.\n",
      "  alpha = trial.suggest_uniform('alpha', 0.0, 1.0)\n"
     ]
    },
    {
     "name": "stdout",
     "output_type": "stream",
     "text": [
      "EvaluatorHoldout: Processed 35595 (100.0%) in 15.84 sec. Users per second: 2247\n"
     ]
    },
    {
     "name": "stderr",
     "output_type": "stream",
     "text": [
      "[I 2024-12-24 17:59:44,114] Trial 42 finished with value: 0.06074960925045052 and parameters: {'alpha': 0.6899950498506232}. Best is trial 21 with value: 0.0607607241519995.\n",
      "/var/folders/50/7hjr20g17_18p725nbt0qqv00000gn/T/ipykernel_49684/3036968644.py:5: FutureWarning: suggest_uniform has been deprecated in v3.0.0. This feature will be removed in v6.0.0. See https://github.com/optuna/optuna/releases/tag/v3.0.0. Use suggest_float instead.\n",
      "  alpha = trial.suggest_uniform('alpha', 0.0, 1.0)\n"
     ]
    },
    {
     "name": "stdout",
     "output_type": "stream",
     "text": [
      "EvaluatorHoldout: Processed 35595 (100.0%) in 15.64 sec. Users per second: 2276\n"
     ]
    },
    {
     "name": "stderr",
     "output_type": "stream",
     "text": [
      "[I 2024-12-24 17:59:59,793] Trial 43 finished with value: 0.060756183430433826 and parameters: {'alpha': 0.7216143933409099}. Best is trial 21 with value: 0.0607607241519995.\n",
      "/var/folders/50/7hjr20g17_18p725nbt0qqv00000gn/T/ipykernel_49684/3036968644.py:5: FutureWarning: suggest_uniform has been deprecated in v3.0.0. This feature will be removed in v6.0.0. See https://github.com/optuna/optuna/releases/tag/v3.0.0. Use suggest_float instead.\n",
      "  alpha = trial.suggest_uniform('alpha', 0.0, 1.0)\n"
     ]
    },
    {
     "name": "stdout",
     "output_type": "stream",
     "text": [
      "EvaluatorHoldout: Processed 35595 (100.0%) in 15.14 sec. Users per second: 2351\n"
     ]
    },
    {
     "name": "stderr",
     "output_type": "stream",
     "text": [
      "[I 2024-12-24 18:00:14,971] Trial 44 finished with value: 0.06005219321422261 and parameters: {'alpha': 0.48466152752045044}. Best is trial 21 with value: 0.0607607241519995.\n",
      "/var/folders/50/7hjr20g17_18p725nbt0qqv00000gn/T/ipykernel_49684/3036968644.py:5: FutureWarning: suggest_uniform has been deprecated in v3.0.0. This feature will be removed in v6.0.0. See https://github.com/optuna/optuna/releases/tag/v3.0.0. Use suggest_float instead.\n",
      "  alpha = trial.suggest_uniform('alpha', 0.0, 1.0)\n"
     ]
    },
    {
     "name": "stdout",
     "output_type": "stream",
     "text": [
      "EvaluatorHoldout: Processed 35595 (100.0%) in 15.17 sec. Users per second: 2346\n"
     ]
    },
    {
     "name": "stderr",
     "output_type": "stream",
     "text": [
      "[I 2024-12-24 18:00:30,184] Trial 45 finished with value: 0.0592892059478641 and parameters: {'alpha': 0.37273000563415964}. Best is trial 21 with value: 0.0607607241519995.\n",
      "/var/folders/50/7hjr20g17_18p725nbt0qqv00000gn/T/ipykernel_49684/3036968644.py:5: FutureWarning: suggest_uniform has been deprecated in v3.0.0. This feature will be removed in v6.0.0. See https://github.com/optuna/optuna/releases/tag/v3.0.0. Use suggest_float instead.\n",
      "  alpha = trial.suggest_uniform('alpha', 0.0, 1.0)\n"
     ]
    },
    {
     "name": "stdout",
     "output_type": "stream",
     "text": [
      "EvaluatorHoldout: Processed 35595 (100.0%) in 15.13 sec. Users per second: 2353\n"
     ]
    },
    {
     "name": "stderr",
     "output_type": "stream",
     "text": [
      "[I 2024-12-24 18:00:45,353] Trial 46 finished with value: 0.06050474808081047 and parameters: {'alpha': 0.5780689029750034}. Best is trial 21 with value: 0.0607607241519995.\n",
      "/var/folders/50/7hjr20g17_18p725nbt0qqv00000gn/T/ipykernel_49684/3036968644.py:5: FutureWarning: suggest_uniform has been deprecated in v3.0.0. This feature will be removed in v6.0.0. See https://github.com/optuna/optuna/releases/tag/v3.0.0. Use suggest_float instead.\n",
      "  alpha = trial.suggest_uniform('alpha', 0.0, 1.0)\n"
     ]
    },
    {
     "name": "stdout",
     "output_type": "stream",
     "text": [
      "EvaluatorHoldout: Processed 35595 (100.0%) in 15.12 sec. Users per second: 2355\n"
     ]
    },
    {
     "name": "stderr",
     "output_type": "stream",
     "text": [
      "[I 2024-12-24 18:01:00,508] Trial 47 finished with value: 0.06072196803991844 and parameters: {'alpha': 0.6518188163356058}. Best is trial 21 with value: 0.0607607241519995.\n",
      "/var/folders/50/7hjr20g17_18p725nbt0qqv00000gn/T/ipykernel_49684/3036968644.py:5: FutureWarning: suggest_uniform has been deprecated in v3.0.0. This feature will be removed in v6.0.0. See https://github.com/optuna/optuna/releases/tag/v3.0.0. Use suggest_float instead.\n",
      "  alpha = trial.suggest_uniform('alpha', 0.0, 1.0)\n"
     ]
    },
    {
     "name": "stdout",
     "output_type": "stream",
     "text": [
      "EvaluatorHoldout: Processed 35595 (100.0%) in 15.25 sec. Users per second: 2334\n"
     ]
    },
    {
     "name": "stderr",
     "output_type": "stream",
     "text": [
      "[I 2024-12-24 18:01:15,796] Trial 48 finished with value: 0.06030083144368701 and parameters: {'alpha': 0.5332072647768498}. Best is trial 21 with value: 0.0607607241519995.\n",
      "/var/folders/50/7hjr20g17_18p725nbt0qqv00000gn/T/ipykernel_49684/3036968644.py:5: FutureWarning: suggest_uniform has been deprecated in v3.0.0. This feature will be removed in v6.0.0. See https://github.com/optuna/optuna/releases/tag/v3.0.0. Use suggest_float instead.\n",
      "  alpha = trial.suggest_uniform('alpha', 0.0, 1.0)\n"
     ]
    },
    {
     "name": "stdout",
     "output_type": "stream",
     "text": [
      "EvaluatorHoldout: Processed 35595 (100.0%) in 15.13 sec. Users per second: 2353\n"
     ]
    },
    {
     "name": "stderr",
     "output_type": "stream",
     "text": [
      "[I 2024-12-24 18:01:30,962] Trial 49 finished with value: 0.057011777113334355 and parameters: {'alpha': 0.17817392582541203}. Best is trial 21 with value: 0.0607607241519995.\n",
      "/var/folders/50/7hjr20g17_18p725nbt0qqv00000gn/T/ipykernel_49684/3036968644.py:5: FutureWarning: suggest_uniform has been deprecated in v3.0.0. This feature will be removed in v6.0.0. See https://github.com/optuna/optuna/releases/tag/v3.0.0. Use suggest_float instead.\n",
      "  alpha = trial.suggest_uniform('alpha', 0.0, 1.0)\n"
     ]
    },
    {
     "name": "stdout",
     "output_type": "stream",
     "text": [
      "EvaluatorHoldout: Processed 35595 (100.0%) in 15.15 sec. Users per second: 2350\n"
     ]
    },
    {
     "name": "stderr",
     "output_type": "stream",
     "text": [
      "[I 2024-12-24 18:01:46,147] Trial 50 finished with value: 0.060497303214958484 and parameters: {'alpha': 0.8666575682610724}. Best is trial 21 with value: 0.0607607241519995.\n",
      "/var/folders/50/7hjr20g17_18p725nbt0qqv00000gn/T/ipykernel_49684/3036968644.py:5: FutureWarning: suggest_uniform has been deprecated in v3.0.0. This feature will be removed in v6.0.0. See https://github.com/optuna/optuna/releases/tag/v3.0.0. Use suggest_float instead.\n",
      "  alpha = trial.suggest_uniform('alpha', 0.0, 1.0)\n"
     ]
    },
    {
     "name": "stdout",
     "output_type": "stream",
     "text": [
      "EvaluatorHoldout: Processed 35595 (100.0%) in 15.15 sec. Users per second: 2349\n"
     ]
    },
    {
     "name": "stderr",
     "output_type": "stream",
     "text": [
      "[I 2024-12-24 18:02:01,336] Trial 51 finished with value: 0.06074327141541473 and parameters: {'alpha': 0.7317083004308121}. Best is trial 21 with value: 0.0607607241519995.\n",
      "/var/folders/50/7hjr20g17_18p725nbt0qqv00000gn/T/ipykernel_49684/3036968644.py:5: FutureWarning: suggest_uniform has been deprecated in v3.0.0. This feature will be removed in v6.0.0. See https://github.com/optuna/optuna/releases/tag/v3.0.0. Use suggest_float instead.\n",
      "  alpha = trial.suggest_uniform('alpha', 0.0, 1.0)\n"
     ]
    },
    {
     "name": "stdout",
     "output_type": "stream",
     "text": [
      "EvaluatorHoldout: Processed 35595 (100.0%) in 15.13 sec. Users per second: 2352\n"
     ]
    },
    {
     "name": "stderr",
     "output_type": "stream",
     "text": [
      "[I 2024-12-24 18:02:16,507] Trial 52 finished with value: 0.0607573885667001 and parameters: {'alpha': 0.7040101379862933}. Best is trial 21 with value: 0.0607607241519995.\n",
      "/var/folders/50/7hjr20g17_18p725nbt0qqv00000gn/T/ipykernel_49684/3036968644.py:5: FutureWarning: suggest_uniform has been deprecated in v3.0.0. This feature will be removed in v6.0.0. See https://github.com/optuna/optuna/releases/tag/v3.0.0. Use suggest_float instead.\n",
      "  alpha = trial.suggest_uniform('alpha', 0.0, 1.0)\n"
     ]
    },
    {
     "name": "stdout",
     "output_type": "stream",
     "text": [
      "EvaluatorHoldout: Processed 35595 (100.0%) in 15.17 sec. Users per second: 2346\n"
     ]
    },
    {
     "name": "stderr",
     "output_type": "stream",
     "text": [
      "[I 2024-12-24 18:02:31,718] Trial 53 finished with value: 0.06065662089155401 and parameters: {'alpha': 0.6133124417524884}. Best is trial 21 with value: 0.0607607241519995.\n",
      "/var/folders/50/7hjr20g17_18p725nbt0qqv00000gn/T/ipykernel_49684/3036968644.py:5: FutureWarning: suggest_uniform has been deprecated in v3.0.0. This feature will be removed in v6.0.0. See https://github.com/optuna/optuna/releases/tag/v3.0.0. Use suggest_float instead.\n",
      "  alpha = trial.suggest_uniform('alpha', 0.0, 1.0)\n"
     ]
    },
    {
     "name": "stdout",
     "output_type": "stream",
     "text": [
      "EvaluatorHoldout: Processed 35595 (100.0%) in 15.10 sec. Users per second: 2357\n"
     ]
    },
    {
     "name": "stderr",
     "output_type": "stream",
     "text": [
      "[I 2024-12-24 18:02:46,860] Trial 54 finished with value: 0.06061896846578504 and parameters: {'alpha': 0.8022243893567422}. Best is trial 21 with value: 0.0607607241519995.\n",
      "/var/folders/50/7hjr20g17_18p725nbt0qqv00000gn/T/ipykernel_49684/3036968644.py:5: FutureWarning: suggest_uniform has been deprecated in v3.0.0. This feature will be removed in v6.0.0. See https://github.com/optuna/optuna/releases/tag/v3.0.0. Use suggest_float instead.\n",
      "  alpha = trial.suggest_uniform('alpha', 0.0, 1.0)\n"
     ]
    },
    {
     "name": "stdout",
     "output_type": "stream",
     "text": [
      "EvaluatorHoldout: Processed 35595 (100.0%) in 15.22 sec. Users per second: 2339\n"
     ]
    },
    {
     "name": "stderr",
     "output_type": "stream",
     "text": [
      "[I 2024-12-24 18:03:02,118] Trial 55 finished with value: 0.060756698484046315 and parameters: {'alpha': 0.6845412483345982}. Best is trial 21 with value: 0.0607607241519995.\n",
      "/var/folders/50/7hjr20g17_18p725nbt0qqv00000gn/T/ipykernel_49684/3036968644.py:5: FutureWarning: suggest_uniform has been deprecated in v3.0.0. This feature will be removed in v6.0.0. See https://github.com/optuna/optuna/releases/tag/v3.0.0. Use suggest_float instead.\n",
      "  alpha = trial.suggest_uniform('alpha', 0.0, 1.0)\n"
     ]
    },
    {
     "name": "stdout",
     "output_type": "stream",
     "text": [
      "EvaluatorHoldout: Processed 35595 (100.0%) in 15.19 sec. Users per second: 2343\n"
     ]
    },
    {
     "name": "stderr",
     "output_type": "stream",
     "text": [
      "[I 2024-12-24 18:03:17,348] Trial 56 finished with value: 0.06072192456136671 and parameters: {'alpha': 0.6610536061812329}. Best is trial 21 with value: 0.0607607241519995.\n",
      "/var/folders/50/7hjr20g17_18p725nbt0qqv00000gn/T/ipykernel_49684/3036968644.py:5: FutureWarning: suggest_uniform has been deprecated in v3.0.0. This feature will be removed in v6.0.0. See https://github.com/optuna/optuna/releases/tag/v3.0.0. Use suggest_float instead.\n",
      "  alpha = trial.suggest_uniform('alpha', 0.0, 1.0)\n"
     ]
    },
    {
     "name": "stdout",
     "output_type": "stream",
     "text": [
      "EvaluatorHoldout: Processed 35595 (100.0%) in 15.15 sec. Users per second: 2350\n"
     ]
    },
    {
     "name": "stderr",
     "output_type": "stream",
     "text": [
      "[I 2024-12-24 18:03:32,533] Trial 57 finished with value: 0.060702302356535724 and parameters: {'alpha': 0.7730785176857091}. Best is trial 21 with value: 0.0607607241519995.\n",
      "/var/folders/50/7hjr20g17_18p725nbt0qqv00000gn/T/ipykernel_49684/3036968644.py:5: FutureWarning: suggest_uniform has been deprecated in v3.0.0. This feature will be removed in v6.0.0. See https://github.com/optuna/optuna/releases/tag/v3.0.0. Use suggest_float instead.\n",
      "  alpha = trial.suggest_uniform('alpha', 0.0, 1.0)\n"
     ]
    },
    {
     "name": "stdout",
     "output_type": "stream",
     "text": [
      "EvaluatorHoldout: Processed 35595 (100.0%) in 15.13 sec. Users per second: 2353\n"
     ]
    },
    {
     "name": "stderr",
     "output_type": "stream",
     "text": [
      "[I 2024-12-24 18:03:47,701] Trial 58 finished with value: 0.060673633268448456 and parameters: {'alpha': 0.6208281438191694}. Best is trial 21 with value: 0.0607607241519995.\n",
      "/var/folders/50/7hjr20g17_18p725nbt0qqv00000gn/T/ipykernel_49684/3036968644.py:5: FutureWarning: suggest_uniform has been deprecated in v3.0.0. This feature will be removed in v6.0.0. See https://github.com/optuna/optuna/releases/tag/v3.0.0. Use suggest_float instead.\n",
      "  alpha = trial.suggest_uniform('alpha', 0.0, 1.0)\n"
     ]
    },
    {
     "name": "stdout",
     "output_type": "stream",
     "text": [
      "EvaluatorHoldout: Processed 35595 (100.0%) in 15.19 sec. Users per second: 2344\n"
     ]
    },
    {
     "name": "stderr",
     "output_type": "stream",
     "text": [
      "[I 2024-12-24 18:04:02,929] Trial 59 finished with value: 0.06057535167459142 and parameters: {'alpha': 0.8273598459578606}. Best is trial 21 with value: 0.0607607241519995.\n",
      "/var/folders/50/7hjr20g17_18p725nbt0qqv00000gn/T/ipykernel_49684/3036968644.py:5: FutureWarning: suggest_uniform has been deprecated in v3.0.0. This feature will be removed in v6.0.0. See https://github.com/optuna/optuna/releases/tag/v3.0.0. Use suggest_float instead.\n",
      "  alpha = trial.suggest_uniform('alpha', 0.0, 1.0)\n"
     ]
    },
    {
     "name": "stdout",
     "output_type": "stream",
     "text": [
      "EvaluatorHoldout: Processed 35595 (100.0%) in 15.16 sec. Users per second: 2349\n"
     ]
    },
    {
     "name": "stderr",
     "output_type": "stream",
     "text": [
      "[I 2024-12-24 18:04:18,125] Trial 60 finished with value: 0.06048404337152603 and parameters: {'alpha': 0.5701656186386386}. Best is trial 21 with value: 0.0607607241519995.\n",
      "/var/folders/50/7hjr20g17_18p725nbt0qqv00000gn/T/ipykernel_49684/3036968644.py:5: FutureWarning: suggest_uniform has been deprecated in v3.0.0. This feature will be removed in v6.0.0. See https://github.com/optuna/optuna/releases/tag/v3.0.0. Use suggest_float instead.\n",
      "  alpha = trial.suggest_uniform('alpha', 0.0, 1.0)\n"
     ]
    },
    {
     "name": "stdout",
     "output_type": "stream",
     "text": [
      "EvaluatorHoldout: Processed 35595 (100.0%) in 15.16 sec. Users per second: 2347\n"
     ]
    },
    {
     "name": "stderr",
     "output_type": "stream",
     "text": [
      "[I 2024-12-24 18:04:33,330] Trial 61 finished with value: 0.060756889120772956 and parameters: {'alpha': 0.6913296156065483}. Best is trial 21 with value: 0.0607607241519995.\n",
      "/var/folders/50/7hjr20g17_18p725nbt0qqv00000gn/T/ipykernel_49684/3036968644.py:5: FutureWarning: suggest_uniform has been deprecated in v3.0.0. This feature will be removed in v6.0.0. See https://github.com/optuna/optuna/releases/tag/v3.0.0. Use suggest_float instead.\n",
      "  alpha = trial.suggest_uniform('alpha', 0.0, 1.0)\n"
     ]
    },
    {
     "name": "stdout",
     "output_type": "stream",
     "text": [
      "EvaluatorHoldout: Processed 35595 (100.0%) in 15.12 sec. Users per second: 2354\n"
     ]
    },
    {
     "name": "stderr",
     "output_type": "stream",
     "text": [
      "[I 2024-12-24 18:04:48,490] Trial 62 finished with value: 0.06074879653598423 and parameters: {'alpha': 0.7004967627519542}. Best is trial 21 with value: 0.0607607241519995.\n",
      "/var/folders/50/7hjr20g17_18p725nbt0qqv00000gn/T/ipykernel_49684/3036968644.py:5: FutureWarning: suggest_uniform has been deprecated in v3.0.0. This feature will be removed in v6.0.0. See https://github.com/optuna/optuna/releases/tag/v3.0.0. Use suggest_float instead.\n",
      "  alpha = trial.suggest_uniform('alpha', 0.0, 1.0)\n"
     ]
    },
    {
     "name": "stdout",
     "output_type": "stream",
     "text": [
      "EvaluatorHoldout: Processed 35595 (100.0%) in 15.19 sec. Users per second: 2343\n"
     ]
    },
    {
     "name": "stderr",
     "output_type": "stream",
     "text": [
      "[I 2024-12-24 18:05:03,719] Trial 63 finished with value: 0.060715431764313384 and parameters: {'alpha': 0.7547425252294357}. Best is trial 21 with value: 0.0607607241519995.\n",
      "/var/folders/50/7hjr20g17_18p725nbt0qqv00000gn/T/ipykernel_49684/3036968644.py:5: FutureWarning: suggest_uniform has been deprecated in v3.0.0. This feature will be removed in v6.0.0. See https://github.com/optuna/optuna/releases/tag/v3.0.0. Use suggest_float instead.\n",
      "  alpha = trial.suggest_uniform('alpha', 0.0, 1.0)\n"
     ]
    },
    {
     "name": "stdout",
     "output_type": "stream",
     "text": [
      "EvaluatorHoldout: Processed 35595 (100.0%) in 15.17 sec. Users per second: 2347\n"
     ]
    },
    {
     "name": "stderr",
     "output_type": "stream",
     "text": [
      "[I 2024-12-24 18:05:18,927] Trial 64 finished with value: 0.060711311335414304 and parameters: {'alpha': 0.6418213810096836}. Best is trial 21 with value: 0.0607607241519995.\n",
      "/var/folders/50/7hjr20g17_18p725nbt0qqv00000gn/T/ipykernel_49684/3036968644.py:5: FutureWarning: suggest_uniform has been deprecated in v3.0.0. This feature will be removed in v6.0.0. See https://github.com/optuna/optuna/releases/tag/v3.0.0. Use suggest_float instead.\n",
      "  alpha = trial.suggest_uniform('alpha', 0.0, 1.0)\n"
     ]
    },
    {
     "name": "stdout",
     "output_type": "stream",
     "text": [
      "EvaluatorHoldout: Processed 35595 (100.0%) in 15.15 sec. Users per second: 2349\n"
     ]
    },
    {
     "name": "stderr",
     "output_type": "stream",
     "text": [
      "[I 2024-12-24 18:05:34,118] Trial 65 finished with value: 0.060750240246867405 and parameters: {'alpha': 0.7236016626690839}. Best is trial 21 with value: 0.0607607241519995.\n",
      "/var/folders/50/7hjr20g17_18p725nbt0qqv00000gn/T/ipykernel_49684/3036968644.py:5: FutureWarning: suggest_uniform has been deprecated in v3.0.0. This feature will be removed in v6.0.0. See https://github.com/optuna/optuna/releases/tag/v3.0.0. Use suggest_float instead.\n",
      "  alpha = trial.suggest_uniform('alpha', 0.0, 1.0)\n"
     ]
    },
    {
     "name": "stdout",
     "output_type": "stream",
     "text": [
      "EvaluatorHoldout: Processed 35595 (100.0%) in 15.17 sec. Users per second: 2346\n"
     ]
    },
    {
     "name": "stderr",
     "output_type": "stream",
     "text": [
      "[I 2024-12-24 18:05:49,332] Trial 66 finished with value: 0.06074917780943757 and parameters: {'alpha': 0.6694732802367679}. Best is trial 21 with value: 0.0607607241519995.\n",
      "/var/folders/50/7hjr20g17_18p725nbt0qqv00000gn/T/ipykernel_49684/3036968644.py:5: FutureWarning: suggest_uniform has been deprecated in v3.0.0. This feature will be removed in v6.0.0. See https://github.com/optuna/optuna/releases/tag/v3.0.0. Use suggest_float instead.\n",
      "  alpha = trial.suggest_uniform('alpha', 0.0, 1.0)\n"
     ]
    },
    {
     "name": "stdout",
     "output_type": "stream",
     "text": [
      "EvaluatorHoldout: Processed 35595 (100.0%) in 15.18 sec. Users per second: 2344\n"
     ]
    },
    {
     "name": "stderr",
     "output_type": "stream",
     "text": [
      "[I 2024-12-24 18:06:04,555] Trial 67 finished with value: 0.06052936808941704 and parameters: {'alpha': 0.5876993652970764}. Best is trial 21 with value: 0.0607607241519995.\n",
      "/var/folders/50/7hjr20g17_18p725nbt0qqv00000gn/T/ipykernel_49684/3036968644.py:5: FutureWarning: suggest_uniform has been deprecated in v3.0.0. This feature will be removed in v6.0.0. See https://github.com/optuna/optuna/releases/tag/v3.0.0. Use suggest_float instead.\n",
      "  alpha = trial.suggest_uniform('alpha', 0.0, 1.0)\n"
     ]
    },
    {
     "name": "stdout",
     "output_type": "stream",
     "text": [
      "EvaluatorHoldout: Processed 35595 (100.0%) in 15.22 sec. Users per second: 2338\n"
     ]
    },
    {
     "name": "stderr",
     "output_type": "stream",
     "text": [
      "[I 2024-12-24 18:06:19,815] Trial 68 finished with value: 0.060628088928129216 and parameters: {'alpha': 0.8003917893189285}. Best is trial 21 with value: 0.0607607241519995.\n",
      "/var/folders/50/7hjr20g17_18p725nbt0qqv00000gn/T/ipykernel_49684/3036968644.py:5: FutureWarning: suggest_uniform has been deprecated in v3.0.0. This feature will be removed in v6.0.0. See https://github.com/optuna/optuna/releases/tag/v3.0.0. Use suggest_float instead.\n",
      "  alpha = trial.suggest_uniform('alpha', 0.0, 1.0)\n"
     ]
    },
    {
     "name": "stdout",
     "output_type": "stream",
     "text": [
      "EvaluatorHoldout: Processed 35595 (100.0%) in 15.17 sec. Users per second: 2347\n"
     ]
    },
    {
     "name": "stderr",
     "output_type": "stream",
     "text": [
      "[I 2024-12-24 18:06:35,022] Trial 69 finished with value: 0.06018651964227022 and parameters: {'alpha': 0.5088763743654506}. Best is trial 21 with value: 0.0607607241519995.\n",
      "/var/folders/50/7hjr20g17_18p725nbt0qqv00000gn/T/ipykernel_49684/3036968644.py:5: FutureWarning: suggest_uniform has been deprecated in v3.0.0. This feature will be removed in v6.0.0. See https://github.com/optuna/optuna/releases/tag/v3.0.0. Use suggest_float instead.\n",
      "  alpha = trial.suggest_uniform('alpha', 0.0, 1.0)\n"
     ]
    },
    {
     "name": "stdout",
     "output_type": "stream",
     "text": [
      "EvaluatorHoldout: Processed 35595 (100.0%) in 15.15 sec. Users per second: 2349\n"
     ]
    },
    {
     "name": "stderr",
     "output_type": "stream",
     "text": [
      "[I 2024-12-24 18:06:50,216] Trial 70 finished with value: 0.06076781450042979 and parameters: {'alpha': 0.7173774225755019}. Best is trial 70 with value: 0.06076781450042979.\n",
      "/var/folders/50/7hjr20g17_18p725nbt0qqv00000gn/T/ipykernel_49684/3036968644.py:5: FutureWarning: suggest_uniform has been deprecated in v3.0.0. This feature will be removed in v6.0.0. See https://github.com/optuna/optuna/releases/tag/v3.0.0. Use suggest_float instead.\n",
      "  alpha = trial.suggest_uniform('alpha', 0.0, 1.0)\n"
     ]
    },
    {
     "name": "stdout",
     "output_type": "stream",
     "text": [
      "EvaluatorHoldout: Processed 35595 (100.0%) in 15.26 sec. Users per second: 2332\n"
     ]
    },
    {
     "name": "stderr",
     "output_type": "stream",
     "text": [
      "[I 2024-12-24 18:07:05,520] Trial 71 finished with value: 0.06072339502828171 and parameters: {'alpha': 0.7586216616527877}. Best is trial 70 with value: 0.06076781450042979.\n",
      "/var/folders/50/7hjr20g17_18p725nbt0qqv00000gn/T/ipykernel_49684/3036968644.py:5: FutureWarning: suggest_uniform has been deprecated in v3.0.0. This feature will be removed in v6.0.0. See https://github.com/optuna/optuna/releases/tag/v3.0.0. Use suggest_float instead.\n",
      "  alpha = trial.suggest_uniform('alpha', 0.0, 1.0)\n"
     ]
    },
    {
     "name": "stdout",
     "output_type": "stream",
     "text": [
      "EvaluatorHoldout: Processed 35595 (100.0%) in 15.14 sec. Users per second: 2352\n"
     ]
    },
    {
     "name": "stderr",
     "output_type": "stream",
     "text": [
      "[I 2024-12-24 18:07:20,695] Trial 72 finished with value: 0.06076396386151819 and parameters: {'alpha': 0.6954848369709243}. Best is trial 70 with value: 0.06076781450042979.\n",
      "/var/folders/50/7hjr20g17_18p725nbt0qqv00000gn/T/ipykernel_49684/3036968644.py:5: FutureWarning: suggest_uniform has been deprecated in v3.0.0. This feature will be removed in v6.0.0. See https://github.com/optuna/optuna/releases/tag/v3.0.0. Use suggest_float instead.\n",
      "  alpha = trial.suggest_uniform('alpha', 0.0, 1.0)\n"
     ]
    },
    {
     "name": "stdout",
     "output_type": "stream",
     "text": [
      "EvaluatorHoldout: Processed 35595 (100.0%) in 15.21 sec. Users per second: 2340\n"
     ]
    },
    {
     "name": "stderr",
     "output_type": "stream",
     "text": [
      "[I 2024-12-24 18:07:35,942] Trial 73 finished with value: 0.06076094488926188 and parameters: {'alpha': 0.7209450501047294}. Best is trial 70 with value: 0.06076781450042979.\n",
      "/var/folders/50/7hjr20g17_18p725nbt0qqv00000gn/T/ipykernel_49684/3036968644.py:5: FutureWarning: suggest_uniform has been deprecated in v3.0.0. This feature will be removed in v6.0.0. See https://github.com/optuna/optuna/releases/tag/v3.0.0. Use suggest_float instead.\n",
      "  alpha = trial.suggest_uniform('alpha', 0.0, 1.0)\n"
     ]
    },
    {
     "name": "stdout",
     "output_type": "stream",
     "text": [
      "EvaluatorHoldout: Processed 35595 (100.0%) in 15.17 sec. Users per second: 2347\n"
     ]
    },
    {
     "name": "stderr",
     "output_type": "stream",
     "text": [
      "[I 2024-12-24 18:07:51,149] Trial 74 finished with value: 0.06019438480078815 and parameters: {'alpha': 0.9656918196220278}. Best is trial 70 with value: 0.06076781450042979.\n",
      "/var/folders/50/7hjr20g17_18p725nbt0qqv00000gn/T/ipykernel_49684/3036968644.py:5: FutureWarning: suggest_uniform has been deprecated in v3.0.0. This feature will be removed in v6.0.0. See https://github.com/optuna/optuna/releases/tag/v3.0.0. Use suggest_float instead.\n",
      "  alpha = trial.suggest_uniform('alpha', 0.0, 1.0)\n"
     ]
    },
    {
     "name": "stdout",
     "output_type": "stream",
     "text": [
      "EvaluatorHoldout: Processed 35595 (100.0%) in 15.14 sec. Users per second: 2351\n"
     ]
    },
    {
     "name": "stderr",
     "output_type": "stream",
     "text": [
      "[I 2024-12-24 18:08:06,331] Trial 75 finished with value: 0.06044879787378555 and parameters: {'alpha': 0.8939099748413488}. Best is trial 70 with value: 0.06076781450042979.\n",
      "/var/folders/50/7hjr20g17_18p725nbt0qqv00000gn/T/ipykernel_49684/3036968644.py:5: FutureWarning: suggest_uniform has been deprecated in v3.0.0. This feature will be removed in v6.0.0. See https://github.com/optuna/optuna/releases/tag/v3.0.0. Use suggest_float instead.\n",
      "  alpha = trial.suggest_uniform('alpha', 0.0, 1.0)\n"
     ]
    },
    {
     "name": "stdout",
     "output_type": "stream",
     "text": [
      "EvaluatorHoldout: Processed 35595 (100.0%) in 15.15 sec. Users per second: 2349\n"
     ]
    },
    {
     "name": "stderr",
     "output_type": "stream",
     "text": [
      "[I 2024-12-24 18:08:21,524] Trial 76 finished with value: 0.06057292133503507 and parameters: {'alpha': 0.8321441700022574}. Best is trial 70 with value: 0.06076781450042979.\n",
      "/var/folders/50/7hjr20g17_18p725nbt0qqv00000gn/T/ipykernel_49684/3036968644.py:5: FutureWarning: suggest_uniform has been deprecated in v3.0.0. This feature will be removed in v6.0.0. See https://github.com/optuna/optuna/releases/tag/v3.0.0. Use suggest_float instead.\n",
      "  alpha = trial.suggest_uniform('alpha', 0.0, 1.0)\n"
     ]
    },
    {
     "name": "stdout",
     "output_type": "stream",
     "text": [
      "EvaluatorHoldout: Processed 35595 (100.0%) in 15.16 sec. Users per second: 2348\n"
     ]
    },
    {
     "name": "stderr",
     "output_type": "stream",
     "text": [
      "[I 2024-12-24 18:08:36,723] Trial 77 finished with value: 0.06071432138899331 and parameters: {'alpha': 0.6376325356321781}. Best is trial 70 with value: 0.06076781450042979.\n",
      "/var/folders/50/7hjr20g17_18p725nbt0qqv00000gn/T/ipykernel_49684/3036968644.py:5: FutureWarning: suggest_uniform has been deprecated in v3.0.0. This feature will be removed in v6.0.0. See https://github.com/optuna/optuna/releases/tag/v3.0.0. Use suggest_float instead.\n",
      "  alpha = trial.suggest_uniform('alpha', 0.0, 1.0)\n"
     ]
    },
    {
     "name": "stdout",
     "output_type": "stream",
     "text": [
      "EvaluatorHoldout: Processed 35595 (100.0%) in 15.23 sec. Users per second: 2337\n"
     ]
    },
    {
     "name": "stderr",
     "output_type": "stream",
     "text": [
      "[I 2024-12-24 18:08:51,992] Trial 78 finished with value: 0.06057224908973588 and parameters: {'alpha': 0.5991250814259027}. Best is trial 70 with value: 0.06076781450042979.\n",
      "/var/folders/50/7hjr20g17_18p725nbt0qqv00000gn/T/ipykernel_49684/3036968644.py:5: FutureWarning: suggest_uniform has been deprecated in v3.0.0. This feature will be removed in v6.0.0. See https://github.com/optuna/optuna/releases/tag/v3.0.0. Use suggest_float instead.\n",
      "  alpha = trial.suggest_uniform('alpha', 0.0, 1.0)\n"
     ]
    },
    {
     "name": "stdout",
     "output_type": "stream",
     "text": [
      "EvaluatorHoldout: Processed 35595 (100.0%) in 15.15 sec. Users per second: 2349\n"
     ]
    },
    {
     "name": "stderr",
     "output_type": "stream",
     "text": [
      "[I 2024-12-24 18:09:07,182] Trial 79 finished with value: 0.06072935604920262 and parameters: {'alpha': 0.7381381448591791}. Best is trial 70 with value: 0.06076781450042979.\n",
      "/var/folders/50/7hjr20g17_18p725nbt0qqv00000gn/T/ipykernel_49684/3036968644.py:5: FutureWarning: suggest_uniform has been deprecated in v3.0.0. This feature will be removed in v6.0.0. See https://github.com/optuna/optuna/releases/tag/v3.0.0. Use suggest_float instead.\n",
      "  alpha = trial.suggest_uniform('alpha', 0.0, 1.0)\n"
     ]
    },
    {
     "name": "stdout",
     "output_type": "stream",
     "text": [
      "EvaluatorHoldout: Processed 35595 (100.0%) in 14.99 sec. Users per second: 2374\n"
     ]
    },
    {
     "name": "stderr",
     "output_type": "stream",
     "text": [
      "[I 2024-12-24 18:09:22,210] Trial 80 finished with value: 0.060352908715106894 and parameters: {'alpha': 0.5431867720223506}. Best is trial 70 with value: 0.06076781450042979.\n",
      "/var/folders/50/7hjr20g17_18p725nbt0qqv00000gn/T/ipykernel_49684/3036968644.py:5: FutureWarning: suggest_uniform has been deprecated in v3.0.0. This feature will be removed in v6.0.0. See https://github.com/optuna/optuna/releases/tag/v3.0.0. Use suggest_float instead.\n",
      "  alpha = trial.suggest_uniform('alpha', 0.0, 1.0)\n"
     ]
    },
    {
     "name": "stdout",
     "output_type": "stream",
     "text": [
      "EvaluatorHoldout: Processed 35595 (100.0%) in 14.91 sec. Users per second: 2388\n"
     ]
    },
    {
     "name": "stderr",
     "output_type": "stream",
     "text": [
      "[I 2024-12-24 18:09:37,154] Trial 81 finished with value: 0.06075807530484996 and parameters: {'alpha': 0.7127088164353095}. Best is trial 70 with value: 0.06076781450042979.\n",
      "/var/folders/50/7hjr20g17_18p725nbt0qqv00000gn/T/ipykernel_49684/3036968644.py:5: FutureWarning: suggest_uniform has been deprecated in v3.0.0. This feature will be removed in v6.0.0. See https://github.com/optuna/optuna/releases/tag/v3.0.0. Use suggest_float instead.\n",
      "  alpha = trial.suggest_uniform('alpha', 0.0, 1.0)\n"
     ]
    },
    {
     "name": "stdout",
     "output_type": "stream",
     "text": [
      "EvaluatorHoldout: Processed 35595 (100.0%) in 15.07 sec. Users per second: 2361\n"
     ]
    },
    {
     "name": "stderr",
     "output_type": "stream",
     "text": [
      "[I 2024-12-24 18:09:52,269] Trial 82 finished with value: 0.060759246996076426 and parameters: {'alpha': 0.721353423023103}. Best is trial 70 with value: 0.06076781450042979.\n",
      "/var/folders/50/7hjr20g17_18p725nbt0qqv00000gn/T/ipykernel_49684/3036968644.py:5: FutureWarning: suggest_uniform has been deprecated in v3.0.0. This feature will be removed in v6.0.0. See https://github.com/optuna/optuna/releases/tag/v3.0.0. Use suggest_float instead.\n",
      "  alpha = trial.suggest_uniform('alpha', 0.0, 1.0)\n"
     ]
    },
    {
     "name": "stdout",
     "output_type": "stream",
     "text": [
      "EvaluatorHoldout: Processed 35595 (100.0%) in 15.21 sec. Users per second: 2340\n"
     ]
    },
    {
     "name": "stderr",
     "output_type": "stream",
     "text": [
      "[I 2024-12-24 18:10:07,517] Trial 83 finished with value: 0.06069876721583245 and parameters: {'alpha': 0.7798611172779384}. Best is trial 70 with value: 0.06076781450042979.\n",
      "/var/folders/50/7hjr20g17_18p725nbt0qqv00000gn/T/ipykernel_49684/3036968644.py:5: FutureWarning: suggest_uniform has been deprecated in v3.0.0. This feature will be removed in v6.0.0. See https://github.com/optuna/optuna/releases/tag/v3.0.0. Use suggest_float instead.\n",
      "  alpha = trial.suggest_uniform('alpha', 0.0, 1.0)\n"
     ]
    },
    {
     "name": "stdout",
     "output_type": "stream",
     "text": [
      "EvaluatorHoldout: Processed 35595 (100.0%) in 15.14 sec. Users per second: 2351\n"
     ]
    },
    {
     "name": "stderr",
     "output_type": "stream",
     "text": [
      "[I 2024-12-24 18:10:22,694] Trial 84 finished with value: 0.06076114555950048 and parameters: {'alpha': 0.720943264146908}. Best is trial 70 with value: 0.06076781450042979.\n",
      "/var/folders/50/7hjr20g17_18p725nbt0qqv00000gn/T/ipykernel_49684/3036968644.py:5: FutureWarning: suggest_uniform has been deprecated in v3.0.0. This feature will be removed in v6.0.0. See https://github.com/optuna/optuna/releases/tag/v3.0.0. Use suggest_float instead.\n",
      "  alpha = trial.suggest_uniform('alpha', 0.0, 1.0)\n"
     ]
    },
    {
     "name": "stdout",
     "output_type": "stream",
     "text": [
      "EvaluatorHoldout: Processed 35595 (100.0%) in 15.12 sec. Users per second: 2355\n"
     ]
    },
    {
     "name": "stderr",
     "output_type": "stream",
     "text": [
      "[I 2024-12-24 18:10:37,849] Trial 85 finished with value: 0.060734508814996 and parameters: {'alpha': 0.7338744703926098}. Best is trial 70 with value: 0.06076781450042979.\n",
      "/var/folders/50/7hjr20g17_18p725nbt0qqv00000gn/T/ipykernel_49684/3036968644.py:5: FutureWarning: suggest_uniform has been deprecated in v3.0.0. This feature will be removed in v6.0.0. See https://github.com/optuna/optuna/releases/tag/v3.0.0. Use suggest_float instead.\n",
      "  alpha = trial.suggest_uniform('alpha', 0.0, 1.0)\n"
     ]
    },
    {
     "name": "stdout",
     "output_type": "stream",
     "text": [
      "EvaluatorHoldout: Processed 35595 (100.0%) in 15.12 sec. Users per second: 2354\n"
     ]
    },
    {
     "name": "stderr",
     "output_type": "stream",
     "text": [
      "[I 2024-12-24 18:10:53,011] Trial 86 finished with value: 0.0607553617972903 and parameters: {'alpha': 0.6759795688142937}. Best is trial 70 with value: 0.06076781450042979.\n",
      "/var/folders/50/7hjr20g17_18p725nbt0qqv00000gn/T/ipykernel_49684/3036968644.py:5: FutureWarning: suggest_uniform has been deprecated in v3.0.0. This feature will be removed in v6.0.0. See https://github.com/optuna/optuna/releases/tag/v3.0.0. Use suggest_float instead.\n",
      "  alpha = trial.suggest_uniform('alpha', 0.0, 1.0)\n"
     ]
    },
    {
     "name": "stdout",
     "output_type": "stream",
     "text": [
      "EvaluatorHoldout: Processed 35595 (100.0%) in 15.17 sec. Users per second: 2347\n"
     ]
    },
    {
     "name": "stderr",
     "output_type": "stream",
     "text": [
      "[I 2024-12-24 18:11:08,217] Trial 87 finished with value: 0.06070577506649841 and parameters: {'alpha': 0.6338188888815265}. Best is trial 70 with value: 0.06076781450042979.\n",
      "/var/folders/50/7hjr20g17_18p725nbt0qqv00000gn/T/ipykernel_49684/3036968644.py:5: FutureWarning: suggest_uniform has been deprecated in v3.0.0. This feature will be removed in v6.0.0. See https://github.com/optuna/optuna/releases/tag/v3.0.0. Use suggest_float instead.\n",
      "  alpha = trial.suggest_uniform('alpha', 0.0, 1.0)\n"
     ]
    },
    {
     "name": "stdout",
     "output_type": "stream",
     "text": [
      "EvaluatorHoldout: Processed 35595 (100.0%) in 15.13 sec. Users per second: 2353\n"
     ]
    },
    {
     "name": "stderr",
     "output_type": "stream",
     "text": [
      "[I 2024-12-24 18:11:23,386] Trial 88 finished with value: 0.06072072499927362 and parameters: {'alpha': 0.7619269759729983}. Best is trial 70 with value: 0.06076781450042979.\n",
      "/var/folders/50/7hjr20g17_18p725nbt0qqv00000gn/T/ipykernel_49684/3036968644.py:5: FutureWarning: suggest_uniform has been deprecated in v3.0.0. This feature will be removed in v6.0.0. See https://github.com/optuna/optuna/releases/tag/v3.0.0. Use suggest_float instead.\n",
      "  alpha = trial.suggest_uniform('alpha', 0.0, 1.0)\n"
     ]
    },
    {
     "name": "stdout",
     "output_type": "stream",
     "text": [
      "EvaluatorHoldout: Processed 35595 (100.0%) in 15.14 sec. Users per second: 2351\n"
     ]
    },
    {
     "name": "stderr",
     "output_type": "stream",
     "text": [
      "[I 2024-12-24 18:11:38,564] Trial 89 finished with value: 0.06065117603907983 and parameters: {'alpha': 0.7926441857895434}. Best is trial 70 with value: 0.06076781450042979.\n",
      "/var/folders/50/7hjr20g17_18p725nbt0qqv00000gn/T/ipykernel_49684/3036968644.py:5: FutureWarning: suggest_uniform has been deprecated in v3.0.0. This feature will be removed in v6.0.0. See https://github.com/optuna/optuna/releases/tag/v3.0.0. Use suggest_float instead.\n",
      "  alpha = trial.suggest_uniform('alpha', 0.0, 1.0)\n"
     ]
    },
    {
     "name": "stdout",
     "output_type": "stream",
     "text": [
      "EvaluatorHoldout: Processed 35595 (100.0%) in 15.16 sec. Users per second: 2348\n"
     ]
    },
    {
     "name": "stderr",
     "output_type": "stream",
     "text": [
      "[I 2024-12-24 18:11:53,760] Trial 90 finished with value: 0.0607693919914721 and parameters: {'alpha': 0.7161276393044346}. Best is trial 90 with value: 0.0607693919914721.\n",
      "/var/folders/50/7hjr20g17_18p725nbt0qqv00000gn/T/ipykernel_49684/3036968644.py:5: FutureWarning: suggest_uniform has been deprecated in v3.0.0. This feature will be removed in v6.0.0. See https://github.com/optuna/optuna/releases/tag/v3.0.0. Use suggest_float instead.\n",
      "  alpha = trial.suggest_uniform('alpha', 0.0, 1.0)\n"
     ]
    },
    {
     "name": "stdout",
     "output_type": "stream",
     "text": [
      "EvaluatorHoldout: Processed 35595 (100.0%) in 15.28 sec. Users per second: 2330\n"
     ]
    },
    {
     "name": "stderr",
     "output_type": "stream",
     "text": [
      "[I 2024-12-24 18:12:09,076] Trial 91 finished with value: 0.06076795608443148 and parameters: {'alpha': 0.7160682262637666}. Best is trial 90 with value: 0.0607693919914721.\n",
      "/var/folders/50/7hjr20g17_18p725nbt0qqv00000gn/T/ipykernel_49684/3036968644.py:5: FutureWarning: suggest_uniform has been deprecated in v3.0.0. This feature will be removed in v6.0.0. See https://github.com/optuna/optuna/releases/tag/v3.0.0. Use suggest_float instead.\n",
      "  alpha = trial.suggest_uniform('alpha', 0.0, 1.0)\n"
     ]
    },
    {
     "name": "stdout",
     "output_type": "stream",
     "text": [
      "EvaluatorHoldout: Processed 35595 (100.0%) in 15.22 sec. Users per second: 2338\n"
     ]
    },
    {
     "name": "stderr",
     "output_type": "stream",
     "text": [
      "[I 2024-12-24 18:12:24,340] Trial 92 finished with value: 0.06074307966385351 and parameters: {'alpha': 0.7067516554847417}. Best is trial 90 with value: 0.0607693919914721.\n",
      "/var/folders/50/7hjr20g17_18p725nbt0qqv00000gn/T/ipykernel_49684/3036968644.py:5: FutureWarning: suggest_uniform has been deprecated in v3.0.0. This feature will be removed in v6.0.0. See https://github.com/optuna/optuna/releases/tag/v3.0.0. Use suggest_float instead.\n",
      "  alpha = trial.suggest_uniform('alpha', 0.0, 1.0)\n"
     ]
    },
    {
     "name": "stdout",
     "output_type": "stream",
     "text": [
      "EvaluatorHoldout: Processed 35595 (100.0%) in 15.22 sec. Users per second: 2339\n"
     ]
    },
    {
     "name": "stderr",
     "output_type": "stream",
     "text": [
      "[I 2024-12-24 18:12:39,600] Trial 93 finished with value: 0.06061077443104235 and parameters: {'alpha': 0.8152049956582875}. Best is trial 90 with value: 0.0607693919914721.\n",
      "/var/folders/50/7hjr20g17_18p725nbt0qqv00000gn/T/ipykernel_49684/3036968644.py:5: FutureWarning: suggest_uniform has been deprecated in v3.0.0. This feature will be removed in v6.0.0. See https://github.com/optuna/optuna/releases/tag/v3.0.0. Use suggest_float instead.\n",
      "  alpha = trial.suggest_uniform('alpha', 0.0, 1.0)\n"
     ]
    },
    {
     "name": "stdout",
     "output_type": "stream",
     "text": [
      "EvaluatorHoldout: Processed 35595 (100.0%) in 15.21 sec. Users per second: 2340\n"
     ]
    },
    {
     "name": "stderr",
     "output_type": "stream",
     "text": [
      "[I 2024-12-24 18:12:54,851] Trial 94 finished with value: 0.06072322891791741 and parameters: {'alpha': 0.7407293779884762}. Best is trial 90 with value: 0.0607693919914721.\n",
      "/var/folders/50/7hjr20g17_18p725nbt0qqv00000gn/T/ipykernel_49684/3036968644.py:5: FutureWarning: suggest_uniform has been deprecated in v3.0.0. This feature will be removed in v6.0.0. See https://github.com/optuna/optuna/releases/tag/v3.0.0. Use suggest_float instead.\n",
      "  alpha = trial.suggest_uniform('alpha', 0.0, 1.0)\n"
     ]
    },
    {
     "name": "stdout",
     "output_type": "stream",
     "text": [
      "EvaluatorHoldout: Processed 35595 (100.0%) in 15.23 sec. Users per second: 2338\n"
     ]
    },
    {
     "name": "stderr",
     "output_type": "stream",
     "text": [
      "[I 2024-12-24 18:13:10,115] Trial 95 finished with value: 0.06053758776535676 and parameters: {'alpha': 0.8528238276609018}. Best is trial 90 with value: 0.0607693919914721.\n",
      "/var/folders/50/7hjr20g17_18p725nbt0qqv00000gn/T/ipykernel_49684/3036968644.py:5: FutureWarning: suggest_uniform has been deprecated in v3.0.0. This feature will be removed in v6.0.0. See https://github.com/optuna/optuna/releases/tag/v3.0.0. Use suggest_float instead.\n",
      "  alpha = trial.suggest_uniform('alpha', 0.0, 1.0)\n"
     ]
    },
    {
     "name": "stdout",
     "output_type": "stream",
     "text": [
      "EvaluatorHoldout: Processed 35595 (100.0%) in 15.20 sec. Users per second: 2342\n"
     ]
    },
    {
     "name": "stderr",
     "output_type": "stream",
     "text": [
      "[I 2024-12-24 18:13:25,392] Trial 96 finished with value: 0.060707877644664926 and parameters: {'alpha': 0.6574640607109401}. Best is trial 90 with value: 0.0607693919914721.\n",
      "/var/folders/50/7hjr20g17_18p725nbt0qqv00000gn/T/ipykernel_49684/3036968644.py:5: FutureWarning: suggest_uniform has been deprecated in v3.0.0. This feature will be removed in v6.0.0. See https://github.com/optuna/optuna/releases/tag/v3.0.0. Use suggest_float instead.\n",
      "  alpha = trial.suggest_uniform('alpha', 0.0, 1.0)\n"
     ]
    },
    {
     "name": "stdout",
     "output_type": "stream",
     "text": [
      "EvaluatorHoldout: Processed 35595 (100.0%) in 15.21 sec. Users per second: 2340\n"
     ]
    },
    {
     "name": "stderr",
     "output_type": "stream",
     "text": [
      "[I 2024-12-24 18:13:40,639] Trial 97 finished with value: 0.060756183430433826 and parameters: {'alpha': 0.7216088095387635}. Best is trial 90 with value: 0.0607693919914721.\n",
      "/var/folders/50/7hjr20g17_18p725nbt0qqv00000gn/T/ipykernel_49684/3036968644.py:5: FutureWarning: suggest_uniform has been deprecated in v3.0.0. This feature will be removed in v6.0.0. See https://github.com/optuna/optuna/releases/tag/v3.0.0. Use suggest_float instead.\n",
      "  alpha = trial.suggest_uniform('alpha', 0.0, 1.0)\n"
     ]
    },
    {
     "name": "stdout",
     "output_type": "stream",
     "text": [
      "EvaluatorHoldout: Processed 35595 (100.0%) in 15.24 sec. Users per second: 2335\n"
     ]
    },
    {
     "name": "stderr",
     "output_type": "stream",
     "text": [
      "[I 2024-12-24 18:13:55,923] Trial 98 finished with value: 0.060719954648524435 and parameters: {'alpha': 0.7581978755902727}. Best is trial 90 with value: 0.0607693919914721.\n",
      "/var/folders/50/7hjr20g17_18p725nbt0qqv00000gn/T/ipykernel_49684/3036968644.py:5: FutureWarning: suggest_uniform has been deprecated in v3.0.0. This feature will be removed in v6.0.0. See https://github.com/optuna/optuna/releases/tag/v3.0.0. Use suggest_float instead.\n",
      "  alpha = trial.suggest_uniform('alpha', 0.0, 1.0)\n"
     ]
    },
    {
     "name": "stdout",
     "output_type": "stream",
     "text": [
      "EvaluatorHoldout: Processed 35595 (100.0%) in 15.21 sec. Users per second: 2341\n"
     ]
    },
    {
     "name": "stderr",
     "output_type": "stream",
     "text": [
      "[I 2024-12-24 18:14:11,166] Trial 99 finished with value: 0.060748196754937735 and parameters: {'alpha': 0.682194048322318}. Best is trial 90 with value: 0.0607693919914721.\n"
     ]
    }
   ],
   "source": [
    "import optuna\n",
    "\n",
    "optuna_study = optuna.create_study(study_name=\"hybrid_slim_ep3\", direction=\"maximize\")\n",
    "        \n",
    "save_results = SaveResults()\n",
    "        \n",
    "optuna_study.optimize(objective_function,\n",
    "                      callbacks=[save_results],\n",
    "                      n_trials = 100\n",
    "                      )"
   ]
  },
  {
   "cell_type": "code",
   "execution_count": 12,
   "metadata": {},
   "outputs": [
    {
     "name": "stdout",
     "output_type": "stream",
     "text": [
      "{'result': 0.0607693919914721, 'alpha': 0.7161276393044346}\n"
     ]
    }
   ],
   "source": [
    "best_index = save_results.results_df[\"result\"].idxmax()\n",
    "best_hyperparams = save_results.results_df.loc[best_index].to_dict()\n",
    "print(best_hyperparams)"
   ]
  },
  {
   "cell_type": "markdown",
   "metadata": {},
   "source": [
    "Let's compare it to our best model"
   ]
  },
  {
   "cell_type": "code",
   "execution_count": 13,
   "metadata": {},
   "outputs": [
    {
     "name": "stdout",
     "output_type": "stream",
     "text": [
      "EvaluatorHoldout: Processed 35595 (100.0%) in 15.37 sec. Users per second: 2316\n",
      "0.06001860882012401\n"
     ]
    }
   ],
   "source": [
    "alpha = 1\n",
    "\n",
    "recommender = ItemKNNCustomSimilarityRecommender(URM_train_validation)\n",
    "\n",
    "new_similarity = recommender_slimNet.W_sparse * alpha + recommender_rp3.W_sparse * (1-alpha)\n",
    "\n",
    "recommender.fit(new_similarity)\n",
    "\n",
    "result_dict, _ = evaluator_test.evaluateRecommender(recommender)\n",
    "MAP = result_dict.loc[10][\"MAP\"]\n",
    "print(MAP)"
   ]
  },
  {
   "cell_type": "markdown",
   "metadata": {},
   "source": [
    "So we had a 0.01 improvement"
   ]
  },
  {
   "cell_type": "markdown",
   "metadata": {},
   "source": [
    "# Cross Validation"
   ]
  },
  {
   "cell_type": "code",
   "execution_count": 14,
   "metadata": {},
   "outputs": [],
   "source": [
    "k_fold = 10\n",
    "seeds = [192760, 1393659, 1269293, 138973, 931308, 1088652, 1361151, 1456105, 820535, 1240839]\n",
    "assert len(seeds) == k_fold"
   ]
  },
  {
   "cell_type": "code",
   "execution_count": 15,
   "metadata": {},
   "outputs": [
    {
     "name": "stdout",
     "output_type": "stream",
     "text": [
      "Warning: 167 (0.47 %) of 35736 users have no sampled items\n",
      "Warning: 425 (1.19 %) of 35736 users have no sampled items\n",
      "EvaluatorHoldout: Ignoring 425 ( 1.2%) Users that have less than 1 test interactions\n",
      "EvaluatorHoldout: Ignoring 167 ( 0.5%) Users that have less than 1 test interactions\n",
      "Warning: 155 (0.43 %) of 35736 users have no sampled items\n",
      "Warning: 447 (1.25 %) of 35736 users have no sampled items\n",
      "EvaluatorHoldout: Ignoring 447 ( 1.3%) Users that have less than 1 test interactions\n",
      "EvaluatorHoldout: Ignoring 155 ( 0.4%) Users that have less than 1 test interactions\n",
      "Warning: 167 (0.47 %) of 35736 users have no sampled items\n",
      "Warning: 441 (1.23 %) of 35736 users have no sampled items\n",
      "EvaluatorHoldout: Ignoring 441 ( 1.2%) Users that have less than 1 test interactions\n",
      "EvaluatorHoldout: Ignoring 167 ( 0.5%) Users that have less than 1 test interactions\n",
      "Warning: 163 (0.46 %) of 35736 users have no sampled items\n",
      "Warning: 467 (1.31 %) of 35736 users have no sampled items\n",
      "EvaluatorHoldout: Ignoring 467 ( 1.3%) Users that have less than 1 test interactions\n",
      "EvaluatorHoldout: Ignoring 163 ( 0.5%) Users that have less than 1 test interactions\n",
      "Warning: 169 (0.47 %) of 35736 users have no sampled items\n",
      "Warning: 425 (1.19 %) of 35736 users have no sampled items\n",
      "EvaluatorHoldout: Ignoring 425 ( 1.2%) Users that have less than 1 test interactions\n",
      "EvaluatorHoldout: Ignoring 169 ( 0.5%) Users that have less than 1 test interactions\n",
      "Warning: 154 (0.43 %) of 35736 users have no sampled items\n",
      "Warning: 413 (1.16 %) of 35736 users have no sampled items\n",
      "EvaluatorHoldout: Ignoring 413 ( 1.2%) Users that have less than 1 test interactions\n",
      "EvaluatorHoldout: Ignoring 154 ( 0.4%) Users that have less than 1 test interactions\n",
      "Warning: 169 (0.47 %) of 35736 users have no sampled items\n",
      "Warning: 409 (1.14 %) of 35736 users have no sampled items\n",
      "EvaluatorHoldout: Ignoring 409 ( 1.1%) Users that have less than 1 test interactions\n",
      "EvaluatorHoldout: Ignoring 169 ( 0.5%) Users that have less than 1 test interactions\n",
      "Warning: 158 (0.44 %) of 35736 users have no sampled items\n",
      "Warning: 400 (1.12 %) of 35736 users have no sampled items\n",
      "EvaluatorHoldout: Ignoring 400 ( 1.1%) Users that have less than 1 test interactions\n",
      "EvaluatorHoldout: Ignoring 158 ( 0.4%) Users that have less than 1 test interactions\n",
      "Warning: 173 (0.48 %) of 35736 users have no sampled items\n",
      "Warning: 466 (1.30 %) of 35736 users have no sampled items\n",
      "EvaluatorHoldout: Ignoring 466 ( 1.3%) Users that have less than 1 test interactions\n",
      "EvaluatorHoldout: Ignoring 173 ( 0.5%) Users that have less than 1 test interactions\n",
      "Warning: 176 (0.49 %) of 35736 users have no sampled items\n",
      "Warning: 459 (1.28 %) of 35736 users have no sampled items\n",
      "EvaluatorHoldout: Ignoring 459 ( 1.3%) Users that have less than 1 test interactions\n",
      "EvaluatorHoldout: Ignoring 176 ( 0.5%) Users that have less than 1 test interactions\n"
     ]
    }
   ],
   "source": [
    "import numpy as np\n",
    "import scipy.sparse as sps\n",
    "from Data_manager.split_functions.split_train_validation_random_holdout import split_train_in_two_percentage_global_sample\n",
    "from Evaluation.Evaluator import EvaluatorHoldout\n",
    "\n",
    "\n",
    "\n",
    "URM_all = sps.coo_matrix((URM_all_dataframe['data'], (URM_all_dataframe['user_id'], URM_all_dataframe['item_id'])))\n",
    "URM_all = URM_all.tocsr()\n",
    "urm_trains = []\n",
    "urm_validations = []\n",
    "urm_test = []\n",
    "urm_train_validations = []\n",
    "# Defining evaluators\n",
    "evaluator_validation = []\n",
    "evaluator_test = []\n",
    "\n",
    "for i in range(k_fold):\n",
    "    # Splitting data into 64% train, 16% validation, 20% test\n",
    "    URM_train_validation, URM_test = split_train_in_two_percentage_global_sample(URM_all, train_percentage = 0.8, seed=seeds[i])\n",
    "    URM_train, URM_validation = split_train_in_two_percentage_global_sample(URM_train_validation, train_percentage = 0.8, seed=seeds[i])\n",
    "    \n",
    "    urm_trains.append(URM_train)\n",
    "    urm_validations.append(URM_validation)\n",
    "    urm_test.append(URM_test)\n",
    "    urm_train_validations.append(URM_train_validation)\n",
    "    \n",
    "    evaluator_validation.append(EvaluatorHoldout(URM_validation, cutoff_list=[10]))\n",
    "    evaluator_test.append(EvaluatorHoldout(URM_test, cutoff_list=[10]))"
   ]
  },
  {
   "cell_type": "code",
   "execution_count": null,
   "metadata": {},
   "outputs": [],
   "source": [
    "slim_recommenders = []\n",
    "rp3_recommenders = []\n",
    "\n",
    "for i in range(k_fold):\n",
    "    recommender_slimNet = MultiThreadSLIM_SLIMElasticNetRecommender(urm_train_validations[i])\n",
    "    recommender_slimNet.fit(topK=142, alpha = 9.521340863590419e-05, l1_ratio = 0.4033590645217344)\n",
    "    slim_recommenders.append(recommender_slimNet)\n",
    "    \n",
    "    recommender_rp3 = RP3betaRecommender(urm_train_validations[i])\n",
    "    recommender_rp3.fit(topK=14, alpha=0.3683550822991944, beta=0.19877125816137325, implicit=True)\n",
    "    rp3_recommenders.append(recommender_rp3)"
   ]
  },
  {
   "cell_type": "markdown",
   "metadata": {},
   "source": [
    "## Now again optuna"
   ]
  },
  {
   "cell_type": "code",
   "execution_count": 26,
   "metadata": {},
   "outputs": [],
   "source": [
    "def objective_function(trial):\n",
    "    alpha = trial.suggest_uniform('alpha', 0.0, 1.0)\n",
    "\n",
    "    MAP = 0\n",
    "    for i in range(k_fold):\n",
    "        recommender = ItemKNNCustomSimilarityRecommender(urm_train_validations[i])\n",
    "\n",
    "        new_similarity = slim_recommenders[i].W_sparse * alpha + rp3_recommenders[i].W_sparse * (1-alpha)\n",
    "\n",
    "        recommender.fit(new_similarity)\n",
    "\n",
    "        result_dict, _ = evaluator_test[i].evaluateRecommender(recommender)\n",
    "\n",
    "        MAP += result_dict.loc[10][\"MAP\"]\n",
    "    \n",
    "    MAP /= k_fold\n",
    "    \n",
    "    return MAP"
   ]
  },
  {
   "cell_type": "code",
   "execution_count": 27,
   "metadata": {},
   "outputs": [],
   "source": [
    "class SaveResults(object):\n",
    "    \n",
    "    def __init__(self):\n",
    "        self.results_df = pd.DataFrame(columns = [\"result\"])\n",
    "    \n",
    "    def __call__(self, optuna_study, optuna_trial):\n",
    "        hyperparam_dict = optuna_trial.params.copy()\n",
    "        hyperparam_dict[\"result\"] = optuna_trial.values[0]\n",
    "        \n",
    "        self.results_df = pd.concat([self.results_df, pd.DataFrame([hyperparam_dict])], ignore_index=True)\n",
    "        self.results_df.to_csv(\"logs/Hybrid/hybrid_slim_RP3_MM_CROSSVALIDATIOn.csv\", index = False)"
   ]
  },
  {
   "cell_type": "code",
   "execution_count": 28,
   "metadata": {},
   "outputs": [
    {
     "name": "stderr",
     "output_type": "stream",
     "text": [
      "[I 2024-12-24 21:04:07,733] A new study created in memory with name: hybrid_slim_rp3_CROSSVAL\n",
      "/var/folders/50/7hjr20g17_18p725nbt0qqv00000gn/T/ipykernel_49684/3888098177.py:2: FutureWarning: suggest_uniform has been deprecated in v3.0.0. This feature will be removed in v6.0.0. See https://github.com/optuna/optuna/releases/tag/v3.0.0. Use suggest_float instead.\n",
      "  alpha = trial.suggest_uniform('alpha', 0.0, 1.0)\n"
     ]
    },
    {
     "name": "stdout",
     "output_type": "stream",
     "text": [
      "EvaluatorHoldout: Processed 35569 (100.0%) in 15.39 sec. Users per second: 2311\n",
      "EvaluatorHoldout: Processed 35581 (100.0%) in 15.43 sec. Users per second: 2305\n",
      "EvaluatorHoldout: Processed 35569 (100.0%) in 15.42 sec. Users per second: 2307\n",
      "EvaluatorHoldout: Processed 35573 (100.0%) in 15.32 sec. Users per second: 2323\n",
      "EvaluatorHoldout: Processed 35567 (100.0%) in 15.64 sec. Users per second: 2274\n",
      "EvaluatorHoldout: Processed 35582 (100.0%) in 15.22 sec. Users per second: 2338\n",
      "EvaluatorHoldout: Processed 35567 (100.0%) in 15.19 sec. Users per second: 2341\n",
      "EvaluatorHoldout: Processed 35578 (100.0%) in 15.24 sec. Users per second: 2334\n",
      "EvaluatorHoldout: Processed 35563 (100.0%) in 15.23 sec. Users per second: 2334\n",
      "EvaluatorHoldout: Processed 35560 (100.0%) in 15.21 sec. Users per second: 2338\n"
     ]
    },
    {
     "name": "stderr",
     "output_type": "stream",
     "text": [
      "[I 2024-12-24 21:06:41,786] Trial 0 finished with value: 0.059304029021660834 and parameters: {'alpha': 0.29126618073263155}. Best is trial 0 with value: 0.059304029021660834.\n",
      "/var/folders/50/7hjr20g17_18p725nbt0qqv00000gn/T/ipykernel_49684/3888098177.py:2: FutureWarning: suggest_uniform has been deprecated in v3.0.0. This feature will be removed in v6.0.0. See https://github.com/optuna/optuna/releases/tag/v3.0.0. Use suggest_float instead.\n",
      "  alpha = trial.suggest_uniform('alpha', 0.0, 1.0)\n"
     ]
    },
    {
     "name": "stdout",
     "output_type": "stream",
     "text": [
      "EvaluatorHoldout: Processed 35569 (100.0%) in 15.21 sec. Users per second: 2339\n",
      "EvaluatorHoldout: Processed 35581 (100.0%) in 15.17 sec. Users per second: 2345\n",
      "EvaluatorHoldout: Processed 35569 (100.0%) in 15.18 sec. Users per second: 2343\n",
      "EvaluatorHoldout: Processed 35573 (100.0%) in 15.19 sec. Users per second: 2342\n",
      "EvaluatorHoldout: Processed 35567 (100.0%) in 15.22 sec. Users per second: 2337\n",
      "EvaluatorHoldout: Processed 35582 (100.0%) in 15.25 sec. Users per second: 2332\n",
      "EvaluatorHoldout: Processed 35567 (100.0%) in 15.14 sec. Users per second: 2349\n",
      "EvaluatorHoldout: Processed 35578 (100.0%) in 15.24 sec. Users per second: 2335\n",
      "EvaluatorHoldout: Processed 35563 (100.0%) in 15.17 sec. Users per second: 2344\n",
      "EvaluatorHoldout: Processed 35560 (100.0%) in 15.19 sec. Users per second: 2341\n"
     ]
    },
    {
     "name": "stderr",
     "output_type": "stream",
     "text": [
      "[I 2024-12-24 21:09:14,101] Trial 1 finished with value: 0.06126806468861749 and parameters: {'alpha': 0.8768724039190811}. Best is trial 1 with value: 0.06126806468861749.\n",
      "/var/folders/50/7hjr20g17_18p725nbt0qqv00000gn/T/ipykernel_49684/3888098177.py:2: FutureWarning: suggest_uniform has been deprecated in v3.0.0. This feature will be removed in v6.0.0. See https://github.com/optuna/optuna/releases/tag/v3.0.0. Use suggest_float instead.\n",
      "  alpha = trial.suggest_uniform('alpha', 0.0, 1.0)\n"
     ]
    },
    {
     "name": "stdout",
     "output_type": "stream",
     "text": [
      "EvaluatorHoldout: Processed 35569 (100.0%) in 15.19 sec. Users per second: 2341\n",
      "EvaluatorHoldout: Processed 35581 (100.0%) in 15.19 sec. Users per second: 2342\n",
      "EvaluatorHoldout: Processed 35569 (100.0%) in 15.22 sec. Users per second: 2337\n",
      "EvaluatorHoldout: Processed 35573 (100.0%) in 15.18 sec. Users per second: 2343\n",
      "EvaluatorHoldout: Processed 35567 (100.0%) in 15.19 sec. Users per second: 2341\n",
      "EvaluatorHoldout: Processed 35582 (100.0%) in 15.14 sec. Users per second: 2350\n",
      "EvaluatorHoldout: Processed 35567 (100.0%) in 15.23 sec. Users per second: 2335\n",
      "EvaluatorHoldout: Processed 35578 (100.0%) in 15.22 sec. Users per second: 2338\n",
      "EvaluatorHoldout: Processed 35563 (100.0%) in 15.26 sec. Users per second: 2330\n",
      "EvaluatorHoldout: Processed 35560 (100.0%) in 15.20 sec. Users per second: 2339\n"
     ]
    },
    {
     "name": "stderr",
     "output_type": "stream",
     "text": [
      "[I 2024-12-24 21:11:46,471] Trial 2 finished with value: 0.06115670463562454 and parameters: {'alpha': 0.5530220310253461}. Best is trial 1 with value: 0.06126806468861749.\n",
      "/var/folders/50/7hjr20g17_18p725nbt0qqv00000gn/T/ipykernel_49684/3888098177.py:2: FutureWarning: suggest_uniform has been deprecated in v3.0.0. This feature will be removed in v6.0.0. See https://github.com/optuna/optuna/releases/tag/v3.0.0. Use suggest_float instead.\n",
      "  alpha = trial.suggest_uniform('alpha', 0.0, 1.0)\n"
     ]
    },
    {
     "name": "stdout",
     "output_type": "stream",
     "text": [
      "EvaluatorHoldout: Processed 35569 (100.0%) in 15.24 sec. Users per second: 2334\n",
      "EvaluatorHoldout: Processed 35581 (100.0%) in 15.19 sec. Users per second: 2342\n",
      "EvaluatorHoldout: Processed 35569 (100.0%) in 15.25 sec. Users per second: 2333\n",
      "EvaluatorHoldout: Processed 35573 (100.0%) in 15.17 sec. Users per second: 2345\n",
      "EvaluatorHoldout: Processed 35567 (100.0%) in 15.19 sec. Users per second: 2341\n",
      "EvaluatorHoldout: Processed 35582 (100.0%) in 15.15 sec. Users per second: 2349\n",
      "EvaluatorHoldout: Processed 35567 (100.0%) in 15.18 sec. Users per second: 2343\n",
      "EvaluatorHoldout: Processed 35578 (100.0%) in 15.26 sec. Users per second: 2332\n",
      "EvaluatorHoldout: Processed 35563 (100.0%) in 15.22 sec. Users per second: 2336\n",
      "EvaluatorHoldout: Processed 35560 (100.0%) in 15.19 sec. Users per second: 2341\n"
     ]
    },
    {
     "name": "stderr",
     "output_type": "stream",
     "text": [
      "[I 2024-12-24 21:14:18,860] Trial 3 finished with value: 0.06136429107687909 and parameters: {'alpha': 0.8385649441649419}. Best is trial 3 with value: 0.06136429107687909.\n",
      "/var/folders/50/7hjr20g17_18p725nbt0qqv00000gn/T/ipykernel_49684/3888098177.py:2: FutureWarning: suggest_uniform has been deprecated in v3.0.0. This feature will be removed in v6.0.0. See https://github.com/optuna/optuna/releases/tag/v3.0.0. Use suggest_float instead.\n",
      "  alpha = trial.suggest_uniform('alpha', 0.0, 1.0)\n"
     ]
    },
    {
     "name": "stdout",
     "output_type": "stream",
     "text": [
      "EvaluatorHoldout: Processed 35569 (100.0%) in 15.20 sec. Users per second: 2340\n",
      "EvaluatorHoldout: Processed 35581 (100.0%) in 15.18 sec. Users per second: 2344\n",
      "EvaluatorHoldout: Processed 35569 (100.0%) in 15.31 sec. Users per second: 2324\n",
      "EvaluatorHoldout: Processed 35573 (100.0%) in 15.18 sec. Users per second: 2344\n",
      "EvaluatorHoldout: Processed 35567 (100.0%) in 15.23 sec. Users per second: 2336\n",
      "EvaluatorHoldout: Processed 35582 (100.0%) in 15.23 sec. Users per second: 2337\n",
      "EvaluatorHoldout: Processed 35567 (100.0%) in 15.20 sec. Users per second: 2340\n",
      "EvaluatorHoldout: Processed 35578 (100.0%) in 15.19 sec. Users per second: 2342\n",
      "EvaluatorHoldout: Processed 35563 (100.0%) in 15.24 sec. Users per second: 2334\n",
      "EvaluatorHoldout: Processed 35560 (100.0%) in 15.15 sec. Users per second: 2347\n"
     ]
    },
    {
     "name": "stderr",
     "output_type": "stream",
     "text": [
      "[I 2024-12-24 21:16:51,308] Trial 4 finished with value: 0.05522757092068416 and parameters: {'alpha': 0.0027165383712230984}. Best is trial 3 with value: 0.06136429107687909.\n",
      "/var/folders/50/7hjr20g17_18p725nbt0qqv00000gn/T/ipykernel_49684/3888098177.py:2: FutureWarning: suggest_uniform has been deprecated in v3.0.0. This feature will be removed in v6.0.0. See https://github.com/optuna/optuna/releases/tag/v3.0.0. Use suggest_float instead.\n",
      "  alpha = trial.suggest_uniform('alpha', 0.0, 1.0)\n"
     ]
    },
    {
     "name": "stdout",
     "output_type": "stream",
     "text": [
      "EvaluatorHoldout: Processed 35569 (100.0%) in 15.17 sec. Users per second: 2344\n",
      "EvaluatorHoldout: Processed 35581 (100.0%) in 15.24 sec. Users per second: 2334\n",
      "EvaluatorHoldout: Processed 35569 (100.0%) in 15.24 sec. Users per second: 2334\n",
      "EvaluatorHoldout: Processed 35573 (100.0%) in 15.17 sec. Users per second: 2345\n",
      "EvaluatorHoldout: Processed 35567 (100.0%) in 15.25 sec. Users per second: 2332\n",
      "EvaluatorHoldout: Processed 35582 (100.0%) in 15.22 sec. Users per second: 2337\n",
      "EvaluatorHoldout: Processed 35567 (100.0%) in 15.19 sec. Users per second: 2341\n",
      "EvaluatorHoldout: Processed 35578 (100.0%) in 15.20 sec. Users per second: 2341\n",
      "EvaluatorHoldout: Processed 35563 (100.0%) in 15.20 sec. Users per second: 2339\n",
      "EvaluatorHoldout: Processed 35560 (100.0%) in 15.20 sec. Users per second: 2339\n"
     ]
    },
    {
     "name": "stderr",
     "output_type": "stream",
     "text": [
      "[I 2024-12-24 21:19:23,763] Trial 5 finished with value: 0.06051041229560642 and parameters: {'alpha': 0.42742711749434303}. Best is trial 3 with value: 0.06136429107687909.\n",
      "/var/folders/50/7hjr20g17_18p725nbt0qqv00000gn/T/ipykernel_49684/3888098177.py:2: FutureWarning: suggest_uniform has been deprecated in v3.0.0. This feature will be removed in v6.0.0. See https://github.com/optuna/optuna/releases/tag/v3.0.0. Use suggest_float instead.\n",
      "  alpha = trial.suggest_uniform('alpha', 0.0, 1.0)\n"
     ]
    },
    {
     "name": "stdout",
     "output_type": "stream",
     "text": [
      "EvaluatorHoldout: Processed 35569 (100.0%) in 15.32 sec. Users per second: 2322\n",
      "EvaluatorHoldout: Processed 35581 (100.0%) in 15.23 sec. Users per second: 2336\n",
      "EvaluatorHoldout: Processed 35569 (100.0%) in 15.24 sec. Users per second: 2334\n",
      "EvaluatorHoldout: Processed 35573 (100.0%) in 15.21 sec. Users per second: 2338\n",
      "EvaluatorHoldout: Processed 35567 (100.0%) in 15.23 sec. Users per second: 2335\n",
      "EvaluatorHoldout: Processed 35582 (100.0%) in 15.18 sec. Users per second: 2344\n",
      "EvaluatorHoldout: Processed 35567 (100.0%) in 15.18 sec. Users per second: 2343\n",
      "EvaluatorHoldout: Processed 35578 (100.0%) in 15.15 sec. Users per second: 2348\n",
      "EvaluatorHoldout: Processed 35563 (100.0%) in 15.18 sec. Users per second: 2342\n",
      "EvaluatorHoldout: Processed 35560 (100.0%) in 15.16 sec. Users per second: 2346\n"
     ]
    },
    {
     "name": "stderr",
     "output_type": "stream",
     "text": [
      "[I 2024-12-24 21:21:56,195] Trial 6 finished with value: 0.0613095305868284 and parameters: {'alpha': 0.8600165952695068}. Best is trial 3 with value: 0.06136429107687909.\n",
      "/var/folders/50/7hjr20g17_18p725nbt0qqv00000gn/T/ipykernel_49684/3888098177.py:2: FutureWarning: suggest_uniform has been deprecated in v3.0.0. This feature will be removed in v6.0.0. See https://github.com/optuna/optuna/releases/tag/v3.0.0. Use suggest_float instead.\n",
      "  alpha = trial.suggest_uniform('alpha', 0.0, 1.0)\n"
     ]
    },
    {
     "name": "stdout",
     "output_type": "stream",
     "text": [
      "EvaluatorHoldout: Processed 35569 (100.0%) in 15.20 sec. Users per second: 2340\n",
      "EvaluatorHoldout: Processed 35581 (100.0%) in 15.30 sec. Users per second: 2325\n",
      "EvaluatorHoldout: Processed 35569 (100.0%) in 15.24 sec. Users per second: 2334\n",
      "EvaluatorHoldout: Processed 35573 (100.0%) in 15.23 sec. Users per second: 2335\n",
      "EvaluatorHoldout: Processed 35567 (100.0%) in 15.20 sec. Users per second: 2339\n",
      "EvaluatorHoldout: Processed 35582 (100.0%) in 15.19 sec. Users per second: 2343\n",
      "EvaluatorHoldout: Processed 35567 (100.0%) in 15.22 sec. Users per second: 2337\n",
      "EvaluatorHoldout: Processed 35578 (100.0%) in 15.15 sec. Users per second: 2349\n",
      "EvaluatorHoldout: Processed 35563 (100.0%) in 15.20 sec. Users per second: 2339\n",
      "EvaluatorHoldout: Processed 35560 (100.0%) in 15.18 sec. Users per second: 2343\n"
     ]
    },
    {
     "name": "stderr",
     "output_type": "stream",
     "text": [
      "[I 2024-12-24 21:24:28,656] Trial 7 finished with value: 0.06147656787933713 and parameters: {'alpha': 0.7375398426849475}. Best is trial 7 with value: 0.06147656787933713.\n",
      "/var/folders/50/7hjr20g17_18p725nbt0qqv00000gn/T/ipykernel_49684/3888098177.py:2: FutureWarning: suggest_uniform has been deprecated in v3.0.0. This feature will be removed in v6.0.0. See https://github.com/optuna/optuna/releases/tag/v3.0.0. Use suggest_float instead.\n",
      "  alpha = trial.suggest_uniform('alpha', 0.0, 1.0)\n"
     ]
    },
    {
     "name": "stdout",
     "output_type": "stream",
     "text": [
      "EvaluatorHoldout: Processed 35569 (100.0%) in 15.24 sec. Users per second: 2333\n",
      "EvaluatorHoldout: Processed 35581 (100.0%) in 15.19 sec. Users per second: 2342\n",
      "EvaluatorHoldout: Processed 35569 (100.0%) in 15.25 sec. Users per second: 2333\n",
      "EvaluatorHoldout: Processed 35573 (100.0%) in 15.22 sec. Users per second: 2338\n",
      "EvaluatorHoldout: Processed 35567 (100.0%) in 15.22 sec. Users per second: 2336\n",
      "EvaluatorHoldout: Processed 35582 (100.0%) in 15.23 sec. Users per second: 2337\n",
      "EvaluatorHoldout: Processed 35567 (100.0%) in 15.17 sec. Users per second: 2344\n",
      "EvaluatorHoldout: Processed 35578 (100.0%) in 15.20 sec. Users per second: 2340\n",
      "EvaluatorHoldout: Processed 35563 (100.0%) in 15.16 sec. Users per second: 2345\n",
      "EvaluatorHoldout: Processed 35560 (100.0%) in 15.20 sec. Users per second: 2340\n"
     ]
    },
    {
     "name": "stderr",
     "output_type": "stream",
     "text": [
      "[I 2024-12-24 21:27:01,095] Trial 8 finished with value: 0.06115095974974889 and parameters: {'alpha': 0.9143028988430978}. Best is trial 7 with value: 0.06147656787933713.\n",
      "/var/folders/50/7hjr20g17_18p725nbt0qqv00000gn/T/ipykernel_49684/3888098177.py:2: FutureWarning: suggest_uniform has been deprecated in v3.0.0. This feature will be removed in v6.0.0. See https://github.com/optuna/optuna/releases/tag/v3.0.0. Use suggest_float instead.\n",
      "  alpha = trial.suggest_uniform('alpha', 0.0, 1.0)\n"
     ]
    },
    {
     "name": "stdout",
     "output_type": "stream",
     "text": [
      "EvaluatorHoldout: Processed 35569 (100.0%) in 15.19 sec. Users per second: 2341\n",
      "EvaluatorHoldout: Processed 35581 (100.0%) in 15.21 sec. Users per second: 2339\n",
      "EvaluatorHoldout: Processed 35569 (100.0%) in 15.22 sec. Users per second: 2337\n",
      "EvaluatorHoldout: Processed 35573 (100.0%) in 15.20 sec. Users per second: 2341\n",
      "EvaluatorHoldout: Processed 35567 (100.0%) in 15.31 sec. Users per second: 2323\n",
      "EvaluatorHoldout: Processed 35582 (100.0%) in 15.23 sec. Users per second: 2336\n",
      "EvaluatorHoldout: Processed 35567 (100.0%) in 15.13 sec. Users per second: 2351\n",
      "EvaluatorHoldout: Processed 35578 (100.0%) in 15.14 sec. Users per second: 2349\n",
      "EvaluatorHoldout: Processed 35563 (100.0%) in 15.12 sec. Users per second: 2352\n",
      "EvaluatorHoldout: Processed 35560 (100.0%) in 15.20 sec. Users per second: 2340\n"
     ]
    },
    {
     "name": "stderr",
     "output_type": "stream",
     "text": [
      "[I 2024-12-24 21:29:33,454] Trial 9 finished with value: 0.05765359068335002 and parameters: {'alpha': 0.1592104654283638}. Best is trial 7 with value: 0.06147656787933713.\n",
      "/var/folders/50/7hjr20g17_18p725nbt0qqv00000gn/T/ipykernel_49684/3888098177.py:2: FutureWarning: suggest_uniform has been deprecated in v3.0.0. This feature will be removed in v6.0.0. See https://github.com/optuna/optuna/releases/tag/v3.0.0. Use suggest_float instead.\n",
      "  alpha = trial.suggest_uniform('alpha', 0.0, 1.0)\n"
     ]
    },
    {
     "name": "stdout",
     "output_type": "stream",
     "text": [
      "EvaluatorHoldout: Processed 35569 (100.0%) in 15.15 sec. Users per second: 2348\n",
      "EvaluatorHoldout: Processed 35581 (100.0%) in 14.96 sec. Users per second: 2378\n",
      "EvaluatorHoldout: Processed 35569 (100.0%) in 15.16 sec. Users per second: 2346\n",
      "EvaluatorHoldout: Processed 35573 (100.0%) in 15.22 sec. Users per second: 2338\n",
      "EvaluatorHoldout: Processed 35567 (100.0%) in 15.13 sec. Users per second: 2350\n",
      "EvaluatorHoldout: Processed 35582 (100.0%) in 15.25 sec. Users per second: 2333\n",
      "EvaluatorHoldout: Processed 35567 (100.0%) in 15.19 sec. Users per second: 2342\n",
      "EvaluatorHoldout: Processed 35578 (100.0%) in 15.18 sec. Users per second: 2344\n",
      "EvaluatorHoldout: Processed 35563 (100.0%) in 15.15 sec. Users per second: 2348\n",
      "EvaluatorHoldout: Processed 35560 (100.0%) in 15.15 sec. Users per second: 2347\n"
     ]
    },
    {
     "name": "stderr",
     "output_type": "stream",
     "text": [
      "[I 2024-12-24 21:32:05,349] Trial 10 finished with value: 0.061368614434206756 and parameters: {'alpha': 0.6253967040765113}. Best is trial 7 with value: 0.06147656787933713.\n",
      "/var/folders/50/7hjr20g17_18p725nbt0qqv00000gn/T/ipykernel_49684/3888098177.py:2: FutureWarning: suggest_uniform has been deprecated in v3.0.0. This feature will be removed in v6.0.0. See https://github.com/optuna/optuna/releases/tag/v3.0.0. Use suggest_float instead.\n",
      "  alpha = trial.suggest_uniform('alpha', 0.0, 1.0)\n"
     ]
    },
    {
     "name": "stdout",
     "output_type": "stream",
     "text": [
      "EvaluatorHoldout: Processed 35569 (100.0%) in 15.15 sec. Users per second: 2347\n",
      "EvaluatorHoldout: Processed 35581 (100.0%) in 15.19 sec. Users per second: 2343\n",
      "EvaluatorHoldout: Processed 35569 (100.0%) in 15.14 sec. Users per second: 2349\n",
      "EvaluatorHoldout: Processed 35573 (100.0%) in 15.11 sec. Users per second: 2355\n",
      "EvaluatorHoldout: Processed 35567 (100.0%) in 15.16 sec. Users per second: 2347\n",
      "EvaluatorHoldout: Processed 35582 (100.0%) in 15.18 sec. Users per second: 2344\n",
      "EvaluatorHoldout: Processed 35567 (100.0%) in 15.15 sec. Users per second: 2347\n",
      "EvaluatorHoldout: Processed 35578 (100.0%) in 15.32 sec. Users per second: 2322\n",
      "EvaluatorHoldout: Processed 35563 (100.0%) in 15.17 sec. Users per second: 2344\n",
      "EvaluatorHoldout: Processed 35560 (100.0%) in 15.19 sec. Users per second: 2342\n"
     ]
    },
    {
     "name": "stderr",
     "output_type": "stream",
     "text": [
      "[I 2024-12-24 21:34:37,455] Trial 11 finished with value: 0.06136215838174217 and parameters: {'alpha': 0.6228266333113133}. Best is trial 7 with value: 0.06147656787933713.\n",
      "/var/folders/50/7hjr20g17_18p725nbt0qqv00000gn/T/ipykernel_49684/3888098177.py:2: FutureWarning: suggest_uniform has been deprecated in v3.0.0. This feature will be removed in v6.0.0. See https://github.com/optuna/optuna/releases/tag/v3.0.0. Use suggest_float instead.\n",
      "  alpha = trial.suggest_uniform('alpha', 0.0, 1.0)\n"
     ]
    },
    {
     "name": "stdout",
     "output_type": "stream",
     "text": [
      "EvaluatorHoldout: Processed 35569 (100.0%) in 15.21 sec. Users per second: 2338\n",
      "EvaluatorHoldout: Processed 35581 (100.0%) in 15.18 sec. Users per second: 2344\n",
      "EvaluatorHoldout: Processed 35569 (100.0%) in 15.15 sec. Users per second: 2348\n",
      "EvaluatorHoldout: Processed 35573 (100.0%) in 15.17 sec. Users per second: 2345\n",
      "EvaluatorHoldout: Processed 35567 (100.0%) in 15.17 sec. Users per second: 2344\n",
      "EvaluatorHoldout: Processed 35582 (100.0%) in 15.18 sec. Users per second: 2343\n",
      "EvaluatorHoldout: Processed 35567 (100.0%) in 15.15 sec. Users per second: 2347\n",
      "EvaluatorHoldout: Processed 35578 (100.0%) in 15.21 sec. Users per second: 2340\n",
      "EvaluatorHoldout: Processed 35563 (100.0%) in 15.19 sec. Users per second: 2341\n",
      "EvaluatorHoldout: Processed 35560 (100.0%) in 15.21 sec. Users per second: 2338\n"
     ]
    },
    {
     "name": "stderr",
     "output_type": "stream",
     "text": [
      "[I 2024-12-24 21:37:09,633] Trial 12 finished with value: 0.06145891824480397 and parameters: {'alpha': 0.6839137113014568}. Best is trial 7 with value: 0.06147656787933713.\n",
      "/var/folders/50/7hjr20g17_18p725nbt0qqv00000gn/T/ipykernel_49684/3888098177.py:2: FutureWarning: suggest_uniform has been deprecated in v3.0.0. This feature will be removed in v6.0.0. See https://github.com/optuna/optuna/releases/tag/v3.0.0. Use suggest_float instead.\n",
      "  alpha = trial.suggest_uniform('alpha', 0.0, 1.0)\n"
     ]
    },
    {
     "name": "stdout",
     "output_type": "stream",
     "text": [
      "EvaluatorHoldout: Processed 35569 (100.0%) in 15.18 sec. Users per second: 2344\n",
      "EvaluatorHoldout: Processed 35581 (100.0%) in 15.18 sec. Users per second: 2344\n",
      "EvaluatorHoldout: Processed 35569 (100.0%) in 15.18 sec. Users per second: 2344\n",
      "EvaluatorHoldout: Processed 35573 (100.0%) in 15.15 sec. Users per second: 2348\n",
      "EvaluatorHoldout: Processed 35567 (100.0%) in 15.22 sec. Users per second: 2337\n",
      "EvaluatorHoldout: Processed 35582 (100.0%) in 15.18 sec. Users per second: 2344\n",
      "EvaluatorHoldout: Processed 35567 (100.0%) in 15.15 sec. Users per second: 2348\n",
      "EvaluatorHoldout: Processed 35578 (100.0%) in 15.20 sec. Users per second: 2341\n",
      "EvaluatorHoldout: Processed 35563 (100.0%) in 15.17 sec. Users per second: 2344\n",
      "EvaluatorHoldout: Processed 35560 (100.0%) in 15.33 sec. Users per second: 2319\n"
     ]
    },
    {
     "name": "stderr",
     "output_type": "stream",
     "text": [
      "[I 2024-12-24 21:39:41,915] Trial 13 finished with value: 0.06146947763419123 and parameters: {'alpha': 0.7607290025474157}. Best is trial 7 with value: 0.06147656787933713.\n",
      "/var/folders/50/7hjr20g17_18p725nbt0qqv00000gn/T/ipykernel_49684/3888098177.py:2: FutureWarning: suggest_uniform has been deprecated in v3.0.0. This feature will be removed in v6.0.0. See https://github.com/optuna/optuna/releases/tag/v3.0.0. Use suggest_float instead.\n",
      "  alpha = trial.suggest_uniform('alpha', 0.0, 1.0)\n"
     ]
    },
    {
     "name": "stdout",
     "output_type": "stream",
     "text": [
      "EvaluatorHoldout: Processed 35569 (100.0%) in 15.16 sec. Users per second: 2347\n",
      "EvaluatorHoldout: Processed 35581 (100.0%) in 15.21 sec. Users per second: 2339\n",
      "EvaluatorHoldout: Processed 35569 (100.0%) in 15.20 sec. Users per second: 2340\n",
      "EvaluatorHoldout: Processed 35573 (100.0%) in 15.15 sec. Users per second: 2347\n",
      "EvaluatorHoldout: Processed 35567 (100.0%) in 15.20 sec. Users per second: 2340\n",
      "EvaluatorHoldout: Processed 35582 (100.0%) in 15.13 sec. Users per second: 2352\n",
      "EvaluatorHoldout: Processed 35567 (100.0%) in 15.15 sec. Users per second: 2347\n",
      "EvaluatorHoldout: Processed 35578 (100.0%) in 15.17 sec. Users per second: 2345\n",
      "EvaluatorHoldout: Processed 35563 (100.0%) in 15.17 sec. Users per second: 2345\n",
      "EvaluatorHoldout: Processed 35560 (100.0%) in 15.15 sec. Users per second: 2347\n"
     ]
    },
    {
     "name": "stderr",
     "output_type": "stream",
     "text": [
      "[I 2024-12-24 21:42:13,963] Trial 14 finished with value: 0.0614695334110546 and parameters: {'alpha': 0.7567108050200249}. Best is trial 7 with value: 0.06147656787933713.\n",
      "/var/folders/50/7hjr20g17_18p725nbt0qqv00000gn/T/ipykernel_49684/3888098177.py:2: FutureWarning: suggest_uniform has been deprecated in v3.0.0. This feature will be removed in v6.0.0. See https://github.com/optuna/optuna/releases/tag/v3.0.0. Use suggest_float instead.\n",
      "  alpha = trial.suggest_uniform('alpha', 0.0, 1.0)\n"
     ]
    },
    {
     "name": "stdout",
     "output_type": "stream",
     "text": [
      "EvaluatorHoldout: Processed 35569 (100.0%) in 15.17 sec. Users per second: 2345\n",
      "EvaluatorHoldout: Processed 35581 (100.0%) in 15.13 sec. Users per second: 2351\n",
      "EvaluatorHoldout: Processed 35569 (100.0%) in 15.16 sec. Users per second: 2346\n",
      "EvaluatorHoldout: Processed 35573 (100.0%) in 15.13 sec. Users per second: 2351\n",
      "EvaluatorHoldout: Processed 35567 (100.0%) in 15.24 sec. Users per second: 2334\n",
      "EvaluatorHoldout: Processed 35582 (100.0%) in 15.15 sec. Users per second: 2349\n",
      "EvaluatorHoldout: Processed 35567 (100.0%) in 15.16 sec. Users per second: 2347\n",
      "EvaluatorHoldout: Processed 35578 (100.0%) in 15.17 sec. Users per second: 2345\n",
      "EvaluatorHoldout: Processed 35563 (100.0%) in 15.20 sec. Users per second: 2340\n",
      "EvaluatorHoldout: Processed 35560 (100.0%) in 15.14 sec. Users per second: 2349\n"
     ]
    },
    {
     "name": "stderr",
     "output_type": "stream",
     "text": [
      "[I 2024-12-24 21:44:45,964] Trial 15 finished with value: 0.06088034563219398 and parameters: {'alpha': 0.9841774856039305}. Best is trial 7 with value: 0.06147656787933713.\n",
      "/var/folders/50/7hjr20g17_18p725nbt0qqv00000gn/T/ipykernel_49684/3888098177.py:2: FutureWarning: suggest_uniform has been deprecated in v3.0.0. This feature will be removed in v6.0.0. See https://github.com/optuna/optuna/releases/tag/v3.0.0. Use suggest_float instead.\n",
      "  alpha = trial.suggest_uniform('alpha', 0.0, 1.0)\n"
     ]
    },
    {
     "name": "stdout",
     "output_type": "stream",
     "text": [
      "EvaluatorHoldout: Processed 35569 (100.0%) in 15.18 sec. Users per second: 2344\n",
      "EvaluatorHoldout: Processed 35581 (100.0%) in 15.14 sec. Users per second: 2350\n",
      "EvaluatorHoldout: Processed 35569 (100.0%) in 15.22 sec. Users per second: 2338\n",
      "EvaluatorHoldout: Processed 35573 (100.0%) in 15.16 sec. Users per second: 2346\n",
      "EvaluatorHoldout: Processed 35567 (100.0%) in 15.18 sec. Users per second: 2344\n",
      "EvaluatorHoldout: Processed 35582 (100.0%) in 15.16 sec. Users per second: 2347\n",
      "EvaluatorHoldout: Processed 35567 (100.0%) in 15.15 sec. Users per second: 2348\n",
      "EvaluatorHoldout: Processed 35578 (100.0%) in 15.18 sec. Users per second: 2344\n",
      "EvaluatorHoldout: Processed 35563 (100.0%) in 15.17 sec. Users per second: 2344\n",
      "EvaluatorHoldout: Processed 35560 (100.0%) in 15.13 sec. Users per second: 2351\n"
     ]
    },
    {
     "name": "stderr",
     "output_type": "stream",
     "text": [
      "[I 2024-12-24 21:47:17,969] Trial 16 finished with value: 0.060613081871873344 and parameters: {'alpha': 0.44284793978711867}. Best is trial 7 with value: 0.06147656787933713.\n",
      "/var/folders/50/7hjr20g17_18p725nbt0qqv00000gn/T/ipykernel_49684/3888098177.py:2: FutureWarning: suggest_uniform has been deprecated in v3.0.0. This feature will be removed in v6.0.0. See https://github.com/optuna/optuna/releases/tag/v3.0.0. Use suggest_float instead.\n",
      "  alpha = trial.suggest_uniform('alpha', 0.0, 1.0)\n"
     ]
    },
    {
     "name": "stdout",
     "output_type": "stream",
     "text": [
      "EvaluatorHoldout: Processed 35569 (100.0%) in 15.16 sec. Users per second: 2346\n",
      "EvaluatorHoldout: Processed 35581 (100.0%) in 15.15 sec. Users per second: 2349\n",
      "EvaluatorHoldout: Processed 35569 (100.0%) in 15.25 sec. Users per second: 2333\n",
      "EvaluatorHoldout: Processed 35573 (100.0%) in 15.18 sec. Users per second: 2344\n",
      "EvaluatorHoldout: Processed 35567 (100.0%) in 15.17 sec. Users per second: 2344\n",
      "EvaluatorHoldout: Processed 35582 (100.0%) in 15.15 sec. Users per second: 2349\n",
      "EvaluatorHoldout: Processed 35567 (100.0%) in 15.20 sec. Users per second: 2339\n",
      "EvaluatorHoldout: Processed 35578 (100.0%) in 15.17 sec. Users per second: 2345\n",
      "EvaluatorHoldout: Processed 35563 (100.0%) in 15.22 sec. Users per second: 2337\n",
      "EvaluatorHoldout: Processed 35560 (100.0%) in 15.16 sec. Users per second: 2345\n"
     ]
    },
    {
     "name": "stderr",
     "output_type": "stream",
     "text": [
      "[I 2024-12-24 21:49:50,131] Trial 17 finished with value: 0.06146838260870885 and parameters: {'alpha': 0.7208319592888538}. Best is trial 7 with value: 0.06147656787933713.\n",
      "/var/folders/50/7hjr20g17_18p725nbt0qqv00000gn/T/ipykernel_49684/3888098177.py:2: FutureWarning: suggest_uniform has been deprecated in v3.0.0. This feature will be removed in v6.0.0. See https://github.com/optuna/optuna/releases/tag/v3.0.0. Use suggest_float instead.\n",
      "  alpha = trial.suggest_uniform('alpha', 0.0, 1.0)\n"
     ]
    },
    {
     "name": "stdout",
     "output_type": "stream",
     "text": [
      "EvaluatorHoldout: Processed 35569 (100.0%) in 15.13 sec. Users per second: 2351\n",
      "EvaluatorHoldout: Processed 35581 (100.0%) in 15.16 sec. Users per second: 2346\n",
      "EvaluatorHoldout: Processed 35569 (100.0%) in 15.18 sec. Users per second: 2343\n",
      "EvaluatorHoldout: Processed 35573 (100.0%) in 15.16 sec. Users per second: 2346\n",
      "EvaluatorHoldout: Processed 35567 (100.0%) in 15.21 sec. Users per second: 2339\n",
      "EvaluatorHoldout: Processed 35582 (100.0%) in 15.10 sec. Users per second: 2356\n",
      "EvaluatorHoldout: Processed 35567 (100.0%) in 15.13 sec. Users per second: 2350\n",
      "EvaluatorHoldout: Processed 35578 (100.0%) in 15.16 sec. Users per second: 2347\n",
      "EvaluatorHoldout: Processed 35563 (100.0%) in 15.17 sec. Users per second: 2345\n",
      "EvaluatorHoldout: Processed 35560 (100.0%) in 15.17 sec. Users per second: 2345\n"
     ]
    },
    {
     "name": "stderr",
     "output_type": "stream",
     "text": [
      "[I 2024-12-24 21:52:22,056] Trial 18 finished with value: 0.06109284614160656 and parameters: {'alpha': 0.5355367731940655}. Best is trial 7 with value: 0.06147656787933713.\n",
      "/var/folders/50/7hjr20g17_18p725nbt0qqv00000gn/T/ipykernel_49684/3888098177.py:2: FutureWarning: suggest_uniform has been deprecated in v3.0.0. This feature will be removed in v6.0.0. See https://github.com/optuna/optuna/releases/tag/v3.0.0. Use suggest_float instead.\n",
      "  alpha = trial.suggest_uniform('alpha', 0.0, 1.0)\n"
     ]
    },
    {
     "name": "stdout",
     "output_type": "stream",
     "text": [
      "EvaluatorHoldout: Processed 35569 (100.0%) in 15.15 sec. Users per second: 2347\n",
      "EvaluatorHoldout: Processed 35581 (100.0%) in 15.16 sec. Users per second: 2347\n",
      "EvaluatorHoldout: Processed 35569 (100.0%) in 15.25 sec. Users per second: 2333\n",
      "EvaluatorHoldout: Processed 35573 (100.0%) in 15.14 sec. Users per second: 2349\n",
      "EvaluatorHoldout: Processed 35567 (100.0%) in 15.16 sec. Users per second: 2347\n",
      "EvaluatorHoldout: Processed 35582 (100.0%) in 15.15 sec. Users per second: 2349\n",
      "EvaluatorHoldout: Processed 35567 (100.0%) in 15.21 sec. Users per second: 2338\n",
      "EvaluatorHoldout: Processed 35578 (100.0%) in 15.15 sec. Users per second: 2348\n",
      "EvaluatorHoldout: Processed 35563 (100.0%) in 15.21 sec. Users per second: 2339\n",
      "EvaluatorHoldout: Processed 35560 (100.0%) in 15.17 sec. Users per second: 2344\n"
     ]
    },
    {
     "name": "stderr",
     "output_type": "stream",
     "text": [
      "[I 2024-12-24 21:54:54,153] Trial 19 finished with value: 0.06147033122169234 and parameters: {'alpha': 0.762144122144204}. Best is trial 7 with value: 0.06147656787933713.\n",
      "/var/folders/50/7hjr20g17_18p725nbt0qqv00000gn/T/ipykernel_49684/3888098177.py:2: FutureWarning: suggest_uniform has been deprecated in v3.0.0. This feature will be removed in v6.0.0. See https://github.com/optuna/optuna/releases/tag/v3.0.0. Use suggest_float instead.\n",
      "  alpha = trial.suggest_uniform('alpha', 0.0, 1.0)\n"
     ]
    },
    {
     "name": "stdout",
     "output_type": "stream",
     "text": [
      "EvaluatorHoldout: Processed 35569 (100.0%) in 15.14 sec. Users per second: 2349\n",
      "EvaluatorHoldout: Processed 35581 (100.0%) in 15.15 sec. Users per second: 2348\n",
      "EvaluatorHoldout: Processed 35569 (100.0%) in 15.21 sec. Users per second: 2339\n",
      "EvaluatorHoldout: Processed 35573 (100.0%) in 15.17 sec. Users per second: 2344\n",
      "EvaluatorHoldout: Processed 35567 (100.0%) in 15.20 sec. Users per second: 2340\n",
      "EvaluatorHoldout: Processed 35582 (100.0%) in 15.13 sec. Users per second: 2351\n",
      "EvaluatorHoldout: Processed 35567 (100.0%) in 15.18 sec. Users per second: 2343\n",
      "EvaluatorHoldout: Processed 35578 (100.0%) in 15.22 sec. Users per second: 2337\n",
      "EvaluatorHoldout: Processed 35563 (100.0%) in 15.15 sec. Users per second: 2347\n",
      "EvaluatorHoldout: Processed 35560 (100.0%) in 15.15 sec. Users per second: 2347\n"
     ]
    },
    {
     "name": "stderr",
     "output_type": "stream",
     "text": [
      "[I 2024-12-24 21:57:26,211] Trial 20 finished with value: 0.05946996303890689 and parameters: {'alpha': 0.30712841855787143}. Best is trial 7 with value: 0.06147656787933713.\n",
      "/var/folders/50/7hjr20g17_18p725nbt0qqv00000gn/T/ipykernel_49684/3888098177.py:2: FutureWarning: suggest_uniform has been deprecated in v3.0.0. This feature will be removed in v6.0.0. See https://github.com/optuna/optuna/releases/tag/v3.0.0. Use suggest_float instead.\n",
      "  alpha = trial.suggest_uniform('alpha', 0.0, 1.0)\n"
     ]
    },
    {
     "name": "stdout",
     "output_type": "stream",
     "text": [
      "EvaluatorHoldout: Processed 35569 (100.0%) in 15.13 sec. Users per second: 2351\n",
      "EvaluatorHoldout: Processed 35581 (100.0%) in 15.16 sec. Users per second: 2347\n",
      "EvaluatorHoldout: Processed 35569 (100.0%) in 14.79 sec. Users per second: 2406\n",
      "EvaluatorHoldout: Processed 35573 (100.0%) in 15.21 sec. Users per second: 2339\n",
      "EvaluatorHoldout: Processed 35567 (100.0%) in 15.16 sec. Users per second: 2346\n",
      "EvaluatorHoldout: Processed 35582 (100.0%) in 15.19 sec. Users per second: 2343\n",
      "EvaluatorHoldout: Processed 35567 (100.0%) in 15.14 sec. Users per second: 2350\n",
      "EvaluatorHoldout: Processed 35578 (100.0%) in 15.15 sec. Users per second: 2349\n",
      "EvaluatorHoldout: Processed 35563 (100.0%) in 15.16 sec. Users per second: 2345\n",
      "EvaluatorHoldout: Processed 35560 (100.0%) in 15.22 sec. Users per second: 2337\n"
     ]
    },
    {
     "name": "stderr",
     "output_type": "stream",
     "text": [
      "[I 2024-12-24 21:59:57,847] Trial 21 finished with value: 0.06146621095809599 and parameters: {'alpha': 0.7635974077202587}. Best is trial 7 with value: 0.06147656787933713.\n",
      "/var/folders/50/7hjr20g17_18p725nbt0qqv00000gn/T/ipykernel_49684/3888098177.py:2: FutureWarning: suggest_uniform has been deprecated in v3.0.0. This feature will be removed in v6.0.0. See https://github.com/optuna/optuna/releases/tag/v3.0.0. Use suggest_float instead.\n",
      "  alpha = trial.suggest_uniform('alpha', 0.0, 1.0)\n"
     ]
    },
    {
     "name": "stdout",
     "output_type": "stream",
     "text": [
      "EvaluatorHoldout: Processed 35569 (100.0%) in 15.16 sec. Users per second: 2347\n",
      "EvaluatorHoldout: Processed 35581 (100.0%) in 15.16 sec. Users per second: 2348\n",
      "EvaluatorHoldout: Processed 35569 (100.0%) in 15.19 sec. Users per second: 2342\n",
      "EvaluatorHoldout: Processed 35573 (100.0%) in 15.17 sec. Users per second: 2346\n",
      "EvaluatorHoldout: Processed 35567 (100.0%) in 15.17 sec. Users per second: 2345\n",
      "EvaluatorHoldout: Processed 35582 (100.0%) in 15.19 sec. Users per second: 2343\n",
      "EvaluatorHoldout: Processed 35567 (100.0%) in 15.18 sec. Users per second: 2342\n",
      "EvaluatorHoldout: Processed 35578 (100.0%) in 15.19 sec. Users per second: 2342\n",
      "EvaluatorHoldout: Processed 35563 (100.0%) in 15.15 sec. Users per second: 2347\n",
      "EvaluatorHoldout: Processed 35560 (100.0%) in 15.16 sec. Users per second: 2345\n"
     ]
    },
    {
     "name": "stderr",
     "output_type": "stream",
     "text": [
      "[I 2024-12-24 22:02:29,909] Trial 22 finished with value: 0.061450692413219585 and parameters: {'alpha': 0.7839530505225778}. Best is trial 7 with value: 0.06147656787933713.\n",
      "/var/folders/50/7hjr20g17_18p725nbt0qqv00000gn/T/ipykernel_49684/3888098177.py:2: FutureWarning: suggest_uniform has been deprecated in v3.0.0. This feature will be removed in v6.0.0. See https://github.com/optuna/optuna/releases/tag/v3.0.0. Use suggest_float instead.\n",
      "  alpha = trial.suggest_uniform('alpha', 0.0, 1.0)\n"
     ]
    },
    {
     "name": "stdout",
     "output_type": "stream",
     "text": [
      "EvaluatorHoldout: Processed 35569 (100.0%) in 15.18 sec. Users per second: 2342\n",
      "EvaluatorHoldout: Processed 35581 (100.0%) in 15.18 sec. Users per second: 2344\n",
      "EvaluatorHoldout: Processed 35569 (100.0%) in 15.21 sec. Users per second: 2339\n",
      "EvaluatorHoldout: Processed 35573 (100.0%) in 15.18 sec. Users per second: 2343\n",
      "EvaluatorHoldout: Processed 35567 (100.0%) in 15.14 sec. Users per second: 2350\n",
      "EvaluatorHoldout: Processed 35582 (100.0%) in 15.13 sec. Users per second: 2351\n",
      "EvaluatorHoldout: Processed 35567 (100.0%) in 15.15 sec. Users per second: 2348\n",
      "EvaluatorHoldout: Processed 35578 (100.0%) in 15.21 sec. Users per second: 2339\n",
      "EvaluatorHoldout: Processed 35563 (100.0%) in 15.17 sec. Users per second: 2345\n",
      "EvaluatorHoldout: Processed 35560 (100.0%) in 15.14 sec. Users per second: 2349\n"
     ]
    },
    {
     "name": "stderr",
     "output_type": "stream",
     "text": [
      "[I 2024-12-24 22:05:01,948] Trial 23 finished with value: 0.06141314494718547 and parameters: {'alpha': 0.6487997508710459}. Best is trial 7 with value: 0.06147656787933713.\n",
      "/var/folders/50/7hjr20g17_18p725nbt0qqv00000gn/T/ipykernel_49684/3888098177.py:2: FutureWarning: suggest_uniform has been deprecated in v3.0.0. This feature will be removed in v6.0.0. See https://github.com/optuna/optuna/releases/tag/v3.0.0. Use suggest_float instead.\n",
      "  alpha = trial.suggest_uniform('alpha', 0.0, 1.0)\n"
     ]
    },
    {
     "name": "stdout",
     "output_type": "stream",
     "text": [
      "EvaluatorHoldout: Processed 35569 (100.0%) in 15.17 sec. Users per second: 2345\n",
      "EvaluatorHoldout: Processed 35581 (100.0%) in 15.20 sec. Users per second: 2341\n",
      "EvaluatorHoldout: Processed 35569 (100.0%) in 15.15 sec. Users per second: 2347\n",
      "EvaluatorHoldout: Processed 35573 (100.0%) in 15.16 sec. Users per second: 2347\n",
      "EvaluatorHoldout: Processed 35567 (100.0%) in 15.19 sec. Users per second: 2342\n",
      "EvaluatorHoldout: Processed 35582 (100.0%) in 15.18 sec. Users per second: 2344\n",
      "EvaluatorHoldout: Processed 35567 (100.0%) in 15.13 sec. Users per second: 2351\n",
      "EvaluatorHoldout: Processed 35578 (100.0%) in 15.18 sec. Users per second: 2343\n",
      "EvaluatorHoldout: Processed 35563 (100.0%) in 15.16 sec. Users per second: 2346\n",
      "EvaluatorHoldout: Processed 35560 (100.0%) in 15.20 sec. Users per second: 2339\n"
     ]
    },
    {
     "name": "stderr",
     "output_type": "stream",
     "text": [
      "[I 2024-12-24 22:07:34,030] Trial 24 finished with value: 0.06083407840878363 and parameters: {'alpha': 0.9959182463598818}. Best is trial 7 with value: 0.06147656787933713.\n",
      "/var/folders/50/7hjr20g17_18p725nbt0qqv00000gn/T/ipykernel_49684/3888098177.py:2: FutureWarning: suggest_uniform has been deprecated in v3.0.0. This feature will be removed in v6.0.0. See https://github.com/optuna/optuna/releases/tag/v3.0.0. Use suggest_float instead.\n",
      "  alpha = trial.suggest_uniform('alpha', 0.0, 1.0)\n"
     ]
    },
    {
     "name": "stdout",
     "output_type": "stream",
     "text": [
      "EvaluatorHoldout: Processed 35569 (100.0%) in 15.14 sec. Users per second: 2350\n",
      "EvaluatorHoldout: Processed 35581 (100.0%) in 15.15 sec. Users per second: 2349\n",
      "EvaluatorHoldout: Processed 35569 (100.0%) in 15.23 sec. Users per second: 2336\n",
      "EvaluatorHoldout: Processed 35573 (100.0%) in 15.16 sec. Users per second: 2347\n",
      "EvaluatorHoldout: Processed 35567 (100.0%) in 15.16 sec. Users per second: 2347\n",
      "EvaluatorHoldout: Processed 35582 (100.0%) in 15.18 sec. Users per second: 2344\n",
      "EvaluatorHoldout: Processed 35567 (100.0%) in 15.13 sec. Users per second: 2350\n",
      "EvaluatorHoldout: Processed 35578 (100.0%) in 15.19 sec. Users per second: 2342\n",
      "EvaluatorHoldout: Processed 35563 (100.0%) in 15.14 sec. Users per second: 2349\n",
      "EvaluatorHoldout: Processed 35560 (100.0%) in 15.16 sec. Users per second: 2345\n"
     ]
    },
    {
     "name": "stderr",
     "output_type": "stream",
     "text": [
      "[I 2024-12-24 22:10:06,016] Trial 25 finished with value: 0.061268955028024596 and parameters: {'alpha': 0.5848863505474681}. Best is trial 7 with value: 0.06147656787933713.\n",
      "/var/folders/50/7hjr20g17_18p725nbt0qqv00000gn/T/ipykernel_49684/3888098177.py:2: FutureWarning: suggest_uniform has been deprecated in v3.0.0. This feature will be removed in v6.0.0. See https://github.com/optuna/optuna/releases/tag/v3.0.0. Use suggest_float instead.\n",
      "  alpha = trial.suggest_uniform('alpha', 0.0, 1.0)\n"
     ]
    },
    {
     "name": "stdout",
     "output_type": "stream",
     "text": [
      "EvaluatorHoldout: Processed 35569 (100.0%) in 15.15 sec. Users per second: 2347\n",
      "EvaluatorHoldout: Processed 35581 (100.0%) in 15.15 sec. Users per second: 2349\n",
      "EvaluatorHoldout: Processed 35569 (100.0%) in 15.20 sec. Users per second: 2340\n",
      "EvaluatorHoldout: Processed 35573 (100.0%) in 15.25 sec. Users per second: 2333\n",
      "EvaluatorHoldout: Processed 35567 (100.0%) in 15.14 sec. Users per second: 2350\n",
      "EvaluatorHoldout: Processed 35582 (100.0%) in 15.19 sec. Users per second: 2343\n",
      "EvaluatorHoldout: Processed 35567 (100.0%) in 15.15 sec. Users per second: 2347\n",
      "EvaluatorHoldout: Processed 35578 (100.0%) in 15.19 sec. Users per second: 2342\n",
      "EvaluatorHoldout: Processed 35563 (100.0%) in 15.18 sec. Users per second: 2343\n",
      "EvaluatorHoldout: Processed 35560 (100.0%) in 15.17 sec. Users per second: 2345\n"
     ]
    },
    {
     "name": "stderr",
     "output_type": "stream",
     "text": [
      "[I 2024-12-24 22:12:38,116] Trial 26 finished with value: 0.061431179998112186 and parameters: {'alpha': 0.7983485556243878}. Best is trial 7 with value: 0.06147656787933713.\n",
      "/var/folders/50/7hjr20g17_18p725nbt0qqv00000gn/T/ipykernel_49684/3888098177.py:2: FutureWarning: suggest_uniform has been deprecated in v3.0.0. This feature will be removed in v6.0.0. See https://github.com/optuna/optuna/releases/tag/v3.0.0. Use suggest_float instead.\n",
      "  alpha = trial.suggest_uniform('alpha', 0.0, 1.0)\n"
     ]
    },
    {
     "name": "stdout",
     "output_type": "stream",
     "text": [
      "EvaluatorHoldout: Processed 35569 (100.0%) in 15.15 sec. Users per second: 2347\n",
      "EvaluatorHoldout: Processed 35581 (100.0%) in 15.17 sec. Users per second: 2346\n",
      "EvaluatorHoldout: Processed 35569 (100.0%) in 15.20 sec. Users per second: 2339\n",
      "EvaluatorHoldout: Processed 35573 (100.0%) in 15.17 sec. Users per second: 2344\n",
      "EvaluatorHoldout: Processed 35567 (100.0%) in 15.25 sec. Users per second: 2333\n",
      "EvaluatorHoldout: Processed 35582 (100.0%) in 15.19 sec. Users per second: 2343\n",
      "EvaluatorHoldout: Processed 35567 (100.0%) in 15.14 sec. Users per second: 2350\n",
      "EvaluatorHoldout: Processed 35578 (100.0%) in 15.17 sec. Users per second: 2346\n",
      "EvaluatorHoldout: Processed 35563 (100.0%) in 15.17 sec. Users per second: 2345\n",
      "EvaluatorHoldout: Processed 35560 (100.0%) in 15.19 sec. Users per second: 2341\n"
     ]
    },
    {
     "name": "stderr",
     "output_type": "stream",
     "text": [
      "[I 2024-12-24 22:15:10,264] Trial 27 finished with value: 0.060806864655110614 and parameters: {'alpha': 0.4789511897244601}. Best is trial 7 with value: 0.06147656787933713.\n",
      "/var/folders/50/7hjr20g17_18p725nbt0qqv00000gn/T/ipykernel_49684/3888098177.py:2: FutureWarning: suggest_uniform has been deprecated in v3.0.0. This feature will be removed in v6.0.0. See https://github.com/optuna/optuna/releases/tag/v3.0.0. Use suggest_float instead.\n",
      "  alpha = trial.suggest_uniform('alpha', 0.0, 1.0)\n"
     ]
    },
    {
     "name": "stdout",
     "output_type": "stream",
     "text": [
      "EvaluatorHoldout: Processed 35569 (100.0%) in 15.17 sec. Users per second: 2345\n",
      "EvaluatorHoldout: Processed 35581 (100.0%) in 15.15 sec. Users per second: 2348\n",
      "EvaluatorHoldout: Processed 35569 (100.0%) in 15.17 sec. Users per second: 2345\n",
      "EvaluatorHoldout: Processed 35573 (100.0%) in 15.17 sec. Users per second: 2345\n",
      "EvaluatorHoldout: Processed 35567 (100.0%) in 15.16 sec. Users per second: 2347\n",
      "EvaluatorHoldout: Processed 35582 (100.0%) in 15.16 sec. Users per second: 2347\n",
      "EvaluatorHoldout: Processed 35567 (100.0%) in 15.20 sec. Users per second: 2341\n",
      "EvaluatorHoldout: Processed 35578 (100.0%) in 15.15 sec. Users per second: 2348\n",
      "EvaluatorHoldout: Processed 35563 (100.0%) in 15.14 sec. Users per second: 2349\n",
      "EvaluatorHoldout: Processed 35560 (100.0%) in 15.12 sec. Users per second: 2352\n"
     ]
    },
    {
     "name": "stderr",
     "output_type": "stream",
     "text": [
      "[I 2024-12-24 22:17:42,181] Trial 28 finished with value: 0.06147367262963068 and parameters: {'alpha': 0.7126386436505637}. Best is trial 7 with value: 0.06147656787933713.\n",
      "/var/folders/50/7hjr20g17_18p725nbt0qqv00000gn/T/ipykernel_49684/3888098177.py:2: FutureWarning: suggest_uniform has been deprecated in v3.0.0. This feature will be removed in v6.0.0. See https://github.com/optuna/optuna/releases/tag/v3.0.0. Use suggest_float instead.\n",
      "  alpha = trial.suggest_uniform('alpha', 0.0, 1.0)\n"
     ]
    },
    {
     "name": "stdout",
     "output_type": "stream",
     "text": [
      "EvaluatorHoldout: Processed 35569 (100.0%) in 15.16 sec. Users per second: 2347\n",
      "EvaluatorHoldout: Processed 35581 (100.0%) in 15.19 sec. Users per second: 2343\n",
      "EvaluatorHoldout: Processed 35569 (100.0%) in 15.22 sec. Users per second: 2337\n",
      "EvaluatorHoldout: Processed 35573 (100.0%) in 15.17 sec. Users per second: 2344\n",
      "EvaluatorHoldout: Processed 35567 (100.0%) in 15.20 sec. Users per second: 2340\n",
      "EvaluatorHoldout: Processed 35582 (100.0%) in 15.21 sec. Users per second: 2339\n",
      "EvaluatorHoldout: Processed 35567 (100.0%) in 15.14 sec. Users per second: 2349\n",
      "EvaluatorHoldout: Processed 35578 (100.0%) in 15.20 sec. Users per second: 2340\n",
      "EvaluatorHoldout: Processed 35563 (100.0%) in 15.20 sec. Users per second: 2339\n",
      "EvaluatorHoldout: Processed 35560 (100.0%) in 15.16 sec. Users per second: 2346\n"
     ]
    },
    {
     "name": "stderr",
     "output_type": "stream",
     "text": [
      "[I 2024-12-24 22:20:14,384] Trial 29 finished with value: 0.05970782593724248 and parameters: {'alpha': 0.32993313610318054}. Best is trial 7 with value: 0.06147656787933713.\n",
      "/var/folders/50/7hjr20g17_18p725nbt0qqv00000gn/T/ipykernel_49684/3888098177.py:2: FutureWarning: suggest_uniform has been deprecated in v3.0.0. This feature will be removed in v6.0.0. See https://github.com/optuna/optuna/releases/tag/v3.0.0. Use suggest_float instead.\n",
      "  alpha = trial.suggest_uniform('alpha', 0.0, 1.0)\n"
     ]
    },
    {
     "name": "stdout",
     "output_type": "stream",
     "text": [
      "EvaluatorHoldout: Processed 35569 (100.0%) in 15.21 sec. Users per second: 2339\n",
      "EvaluatorHoldout: Processed 35581 (100.0%) in 15.11 sec. Users per second: 2355\n",
      "EvaluatorHoldout: Processed 35569 (100.0%) in 15.17 sec. Users per second: 2345\n",
      "EvaluatorHoldout: Processed 35573 (100.0%) in 15.20 sec. Users per second: 2340\n",
      "EvaluatorHoldout: Processed 35567 (100.0%) in 15.18 sec. Users per second: 2343\n",
      "EvaluatorHoldout: Processed 35582 (100.0%) in 15.16 sec. Users per second: 2346\n",
      "EvaluatorHoldout: Processed 35567 (100.0%) in 15.18 sec. Users per second: 2343\n",
      "EvaluatorHoldout: Processed 35578 (100.0%) in 15.16 sec. Users per second: 2347\n",
      "EvaluatorHoldout: Processed 35563 (100.0%) in 15.14 sec. Users per second: 2349\n",
      "EvaluatorHoldout: Processed 35560 (100.0%) in 15.24 sec. Users per second: 2333\n"
     ]
    },
    {
     "name": "stderr",
     "output_type": "stream",
     "text": [
      "[I 2024-12-24 22:22:46,476] Trial 30 finished with value: 0.06146712645958854 and parameters: {'alpha': 0.6990266536142068}. Best is trial 7 with value: 0.06147656787933713.\n",
      "/var/folders/50/7hjr20g17_18p725nbt0qqv00000gn/T/ipykernel_49684/3888098177.py:2: FutureWarning: suggest_uniform has been deprecated in v3.0.0. This feature will be removed in v6.0.0. See https://github.com/optuna/optuna/releases/tag/v3.0.0. Use suggest_float instead.\n",
      "  alpha = trial.suggest_uniform('alpha', 0.0, 1.0)\n"
     ]
    },
    {
     "name": "stdout",
     "output_type": "stream",
     "text": [
      "EvaluatorHoldout: Processed 35569 (100.0%) in 15.14 sec. Users per second: 2350\n",
      "EvaluatorHoldout: Processed 35581 (100.0%) in 15.14 sec. Users per second: 2350\n",
      "EvaluatorHoldout: Processed 35569 (100.0%) in 15.15 sec. Users per second: 2348\n",
      "EvaluatorHoldout: Processed 35573 (100.0%) in 15.17 sec. Users per second: 2345\n",
      "EvaluatorHoldout: Processed 35567 (100.0%) in 15.14 sec. Users per second: 2350\n",
      "EvaluatorHoldout: Processed 35582 (100.0%) in 15.22 sec. Users per second: 2338\n",
      "EvaluatorHoldout: Processed 35567 (100.0%) in 15.18 sec. Users per second: 2343\n",
      "EvaluatorHoldout: Processed 35578 (100.0%) in 15.20 sec. Users per second: 2340\n",
      "EvaluatorHoldout: Processed 35563 (100.0%) in 15.12 sec. Users per second: 2352\n",
      "EvaluatorHoldout: Processed 35560 (100.0%) in 15.14 sec. Users per second: 2349\n"
     ]
    },
    {
     "name": "stderr",
     "output_type": "stream",
     "text": [
      "[I 2024-12-24 22:25:18,424] Trial 31 finished with value: 0.061468563866190276 and parameters: {'alpha': 0.7188203184201764}. Best is trial 7 with value: 0.06147656787933713.\n",
      "/var/folders/50/7hjr20g17_18p725nbt0qqv00000gn/T/ipykernel_49684/3888098177.py:2: FutureWarning: suggest_uniform has been deprecated in v3.0.0. This feature will be removed in v6.0.0. See https://github.com/optuna/optuna/releases/tag/v3.0.0. Use suggest_float instead.\n",
      "  alpha = trial.suggest_uniform('alpha', 0.0, 1.0)\n"
     ]
    },
    {
     "name": "stdout",
     "output_type": "stream",
     "text": [
      "EvaluatorHoldout: Processed 35569 (100.0%) in 15.22 sec. Users per second: 2337\n",
      "EvaluatorHoldout: Processed 35581 (100.0%) in 15.10 sec. Users per second: 2356\n",
      "EvaluatorHoldout: Processed 35569 (100.0%) in 15.25 sec. Users per second: 2332\n",
      "EvaluatorHoldout: Processed 35573 (100.0%) in 15.16 sec. Users per second: 2346\n",
      "EvaluatorHoldout: Processed 35567 (100.0%) in 15.20 sec. Users per second: 2340\n",
      "EvaluatorHoldout: Processed 35582 (100.0%) in 15.14 sec. Users per second: 2349\n",
      "EvaluatorHoldout: Processed 35567 (100.0%) in 15.16 sec. Users per second: 2346\n",
      "EvaluatorHoldout: Processed 35578 (100.0%) in 15.16 sec. Users per second: 2347\n",
      "EvaluatorHoldout: Processed 35563 (100.0%) in 15.18 sec. Users per second: 2343\n",
      "EvaluatorHoldout: Processed 35560 (100.0%) in 15.19 sec. Users per second: 2340\n"
     ]
    },
    {
     "name": "stderr",
     "output_type": "stream",
     "text": [
      "[I 2024-12-24 22:27:50,545] Trial 32 finished with value: 0.06115976835368855 and parameters: {'alpha': 0.9099447963674325}. Best is trial 7 with value: 0.06147656787933713.\n",
      "/var/folders/50/7hjr20g17_18p725nbt0qqv00000gn/T/ipykernel_49684/3888098177.py:2: FutureWarning: suggest_uniform has been deprecated in v3.0.0. This feature will be removed in v6.0.0. See https://github.com/optuna/optuna/releases/tag/v3.0.0. Use suggest_float instead.\n",
      "  alpha = trial.suggest_uniform('alpha', 0.0, 1.0)\n"
     ]
    },
    {
     "name": "stdout",
     "output_type": "stream",
     "text": [
      "EvaluatorHoldout: Processed 35569 (100.0%) in 15.15 sec. Users per second: 2348\n",
      "EvaluatorHoldout: Processed 35581 (100.0%) in 15.15 sec. Users per second: 2348\n",
      "EvaluatorHoldout: Processed 35569 (100.0%) in 15.21 sec. Users per second: 2338\n",
      "EvaluatorHoldout: Processed 35573 (100.0%) in 15.14 sec. Users per second: 2349\n",
      "EvaluatorHoldout: Processed 35567 (100.0%) in 15.14 sec. Users per second: 2350\n",
      "EvaluatorHoldout: Processed 35582 (100.0%) in 15.18 sec. Users per second: 2344\n",
      "EvaluatorHoldout: Processed 35567 (100.0%) in 15.16 sec. Users per second: 2346\n",
      "EvaluatorHoldout: Processed 35578 (100.0%) in 15.12 sec. Users per second: 2353\n",
      "EvaluatorHoldout: Processed 35563 (100.0%) in 15.12 sec. Users per second: 2352\n",
      "EvaluatorHoldout: Processed 35560 (100.0%) in 15.06 sec. Users per second: 2362\n"
     ]
    },
    {
     "name": "stderr",
     "output_type": "stream",
     "text": [
      "[I 2024-12-24 22:30:22,335] Trial 33 finished with value: 0.06138950667422457 and parameters: {'alpha': 0.8278121828562295}. Best is trial 7 with value: 0.06147656787933713.\n",
      "/var/folders/50/7hjr20g17_18p725nbt0qqv00000gn/T/ipykernel_49684/3888098177.py:2: FutureWarning: suggest_uniform has been deprecated in v3.0.0. This feature will be removed in v6.0.0. See https://github.com/optuna/optuna/releases/tag/v3.0.0. Use suggest_float instead.\n",
      "  alpha = trial.suggest_uniform('alpha', 0.0, 1.0)\n"
     ]
    },
    {
     "name": "stdout",
     "output_type": "stream",
     "text": [
      "EvaluatorHoldout: Processed 35569 (100.0%) in 15.13 sec. Users per second: 2350\n",
      "EvaluatorHoldout: Processed 35581 (100.0%) in 15.06 sec. Users per second: 2363\n",
      "EvaluatorHoldout: Processed 35569 (100.0%) in 15.23 sec. Users per second: 2336\n",
      "EvaluatorHoldout: Processed 35573 (100.0%) in 15.13 sec. Users per second: 2351\n",
      "EvaluatorHoldout: Processed 35567 (100.0%) in 15.21 sec. Users per second: 2339\n",
      "EvaluatorHoldout: Processed 35582 (100.0%) in 15.14 sec. Users per second: 2350\n",
      "EvaluatorHoldout: Processed 35567 (100.0%) in 15.09 sec. Users per second: 2357\n",
      "EvaluatorHoldout: Processed 35578 (100.0%) in 15.12 sec. Users per second: 2352\n",
      "EvaluatorHoldout: Processed 35563 (100.0%) in 15.13 sec. Users per second: 2351\n",
      "EvaluatorHoldout: Processed 35560 (100.0%) in 15.17 sec. Users per second: 2343\n"
     ]
    },
    {
     "name": "stderr",
     "output_type": "stream",
     "text": [
      "[I 2024-12-24 22:32:54,104] Trial 34 finished with value: 0.06113815557629585 and parameters: {'alpha': 0.9186206272020692}. Best is trial 7 with value: 0.06147656787933713.\n",
      "/var/folders/50/7hjr20g17_18p725nbt0qqv00000gn/T/ipykernel_49684/3888098177.py:2: FutureWarning: suggest_uniform has been deprecated in v3.0.0. This feature will be removed in v6.0.0. See https://github.com/optuna/optuna/releases/tag/v3.0.0. Use suggest_float instead.\n",
      "  alpha = trial.suggest_uniform('alpha', 0.0, 1.0)\n"
     ]
    },
    {
     "name": "stdout",
     "output_type": "stream",
     "text": [
      "EvaluatorHoldout: Processed 35569 (100.0%) in 15.11 sec. Users per second: 2354\n",
      "EvaluatorHoldout: Processed 35581 (100.0%) in 15.18 sec. Users per second: 2343\n",
      "EvaluatorHoldout: Processed 35569 (100.0%) in 15.19 sec. Users per second: 2341\n",
      "EvaluatorHoldout: Processed 35573 (100.0%) in 15.24 sec. Users per second: 2334\n",
      "EvaluatorHoldout: Processed 35567 (100.0%) in 15.21 sec. Users per second: 2338\n",
      "EvaluatorHoldout: Processed 35582 (100.0%) in 15.19 sec. Users per second: 2342\n",
      "EvaluatorHoldout: Processed 35567 (100.0%) in 15.17 sec. Users per second: 2344\n",
      "EvaluatorHoldout: Processed 35578 (100.0%) in 15.15 sec. Users per second: 2348\n",
      "EvaluatorHoldout: Processed 35563 (100.0%) in 15.15 sec. Users per second: 2348\n",
      "EvaluatorHoldout: Processed 35560 (100.0%) in 15.14 sec. Users per second: 2349\n"
     ]
    },
    {
     "name": "stderr",
     "output_type": "stream",
     "text": [
      "[I 2024-12-24 22:35:26,208] Trial 35 finished with value: 0.06125137466948179 and parameters: {'alpha': 0.5797959465047768}. Best is trial 7 with value: 0.06147656787933713.\n",
      "/var/folders/50/7hjr20g17_18p725nbt0qqv00000gn/T/ipykernel_49684/3888098177.py:2: FutureWarning: suggest_uniform has been deprecated in v3.0.0. This feature will be removed in v6.0.0. See https://github.com/optuna/optuna/releases/tag/v3.0.0. Use suggest_float instead.\n",
      "  alpha = trial.suggest_uniform('alpha', 0.0, 1.0)\n"
     ]
    },
    {
     "name": "stdout",
     "output_type": "stream",
     "text": [
      "EvaluatorHoldout: Processed 35569 (100.0%) in 15.16 sec. Users per second: 2346\n",
      "EvaluatorHoldout: Processed 35581 (100.0%) in 15.15 sec. Users per second: 2349\n",
      "EvaluatorHoldout: Processed 35569 (100.0%) in 15.18 sec. Users per second: 2343\n",
      "EvaluatorHoldout: Processed 35573 (100.0%) in 15.19 sec. Users per second: 2341\n",
      "EvaluatorHoldout: Processed 35567 (100.0%) in 15.25 sec. Users per second: 2332\n",
      "EvaluatorHoldout: Processed 35582 (100.0%) in 15.19 sec. Users per second: 2343\n",
      "EvaluatorHoldout: Processed 35567 (100.0%) in 15.13 sec. Users per second: 2350\n",
      "EvaluatorHoldout: Processed 35578 (100.0%) in 15.13 sec. Users per second: 2352\n",
      "EvaluatorHoldout: Processed 35563 (100.0%) in 15.13 sec. Users per second: 2351\n",
      "EvaluatorHoldout: Processed 35560 (100.0%) in 15.16 sec. Users per second: 2346\n"
     ]
    },
    {
     "name": "stderr",
     "output_type": "stream",
     "text": [
      "[I 2024-12-24 22:37:58,222] Trial 36 finished with value: 0.061448932469628556 and parameters: {'alpha': 0.6698339162212765}. Best is trial 7 with value: 0.06147656787933713.\n",
      "/var/folders/50/7hjr20g17_18p725nbt0qqv00000gn/T/ipykernel_49684/3888098177.py:2: FutureWarning: suggest_uniform has been deprecated in v3.0.0. This feature will be removed in v6.0.0. See https://github.com/optuna/optuna/releases/tag/v3.0.0. Use suggest_float instead.\n",
      "  alpha = trial.suggest_uniform('alpha', 0.0, 1.0)\n"
     ]
    },
    {
     "name": "stdout",
     "output_type": "stream",
     "text": [
      "EvaluatorHoldout: Processed 35569 (100.0%) in 15.18 sec. Users per second: 2343\n",
      "EvaluatorHoldout: Processed 35581 (100.0%) in 15.15 sec. Users per second: 2349\n",
      "EvaluatorHoldout: Processed 35569 (100.0%) in 15.16 sec. Users per second: 2346\n",
      "EvaluatorHoldout: Processed 35573 (100.0%) in 15.19 sec. Users per second: 2342\n",
      "EvaluatorHoldout: Processed 35567 (100.0%) in 15.16 sec. Users per second: 2346\n",
      "EvaluatorHoldout: Processed 35582 (100.0%) in 15.19 sec. Users per second: 2342\n",
      "EvaluatorHoldout: Processed 35567 (100.0%) in 15.23 sec. Users per second: 2336\n",
      "EvaluatorHoldout: Processed 35578 (100.0%) in 15.13 sec. Users per second: 2351\n",
      "EvaluatorHoldout: Processed 35563 (100.0%) in 15.12 sec. Users per second: 2353\n",
      "EvaluatorHoldout: Processed 35560 (100.0%) in 15.11 sec. Users per second: 2353\n"
     ]
    },
    {
     "name": "stderr",
     "output_type": "stream",
     "text": [
      "[I 2024-12-24 22:40:30,238] Trial 37 finished with value: 0.06132151213592859 and parameters: {'alpha': 0.8528206339737499}. Best is trial 7 with value: 0.06147656787933713.\n",
      "/var/folders/50/7hjr20g17_18p725nbt0qqv00000gn/T/ipykernel_49684/3888098177.py:2: FutureWarning: suggest_uniform has been deprecated in v3.0.0. This feature will be removed in v6.0.0. See https://github.com/optuna/optuna/releases/tag/v3.0.0. Use suggest_float instead.\n",
      "  alpha = trial.suggest_uniform('alpha', 0.0, 1.0)\n"
     ]
    },
    {
     "name": "stdout",
     "output_type": "stream",
     "text": [
      "EvaluatorHoldout: Processed 35569 (100.0%) in 15.11 sec. Users per second: 2354\n",
      "EvaluatorHoldout: Processed 35581 (100.0%) in 15.13 sec. Users per second: 2351\n",
      "EvaluatorHoldout: Processed 35569 (100.0%) in 15.16 sec. Users per second: 2346\n",
      "EvaluatorHoldout: Processed 35573 (100.0%) in 15.18 sec. Users per second: 2343\n",
      "EvaluatorHoldout: Processed 35567 (100.0%) in 15.20 sec. Users per second: 2340\n",
      "EvaluatorHoldout: Processed 35582 (100.0%) in 15.18 sec. Users per second: 2343\n",
      "EvaluatorHoldout: Processed 35567 (100.0%) in 15.10 sec. Users per second: 2355\n",
      "EvaluatorHoldout: Processed 35578 (100.0%) in 15.22 sec. Users per second: 2337\n",
      "EvaluatorHoldout: Processed 35563 (100.0%) in 15.11 sec. Users per second: 2353\n",
      "EvaluatorHoldout: Processed 35560 (100.0%) in 15.13 sec. Users per second: 2350\n"
     ]
    },
    {
     "name": "stderr",
     "output_type": "stream",
     "text": [
      "[I 2024-12-24 22:43:02,130] Trial 38 finished with value: 0.06147669344869272 and parameters: {'alpha': 0.7383448844804885}. Best is trial 38 with value: 0.06147669344869272.\n",
      "/var/folders/50/7hjr20g17_18p725nbt0qqv00000gn/T/ipykernel_49684/3888098177.py:2: FutureWarning: suggest_uniform has been deprecated in v3.0.0. This feature will be removed in v6.0.0. See https://github.com/optuna/optuna/releases/tag/v3.0.0. Use suggest_float instead.\n",
      "  alpha = trial.suggest_uniform('alpha', 0.0, 1.0)\n"
     ]
    },
    {
     "name": "stdout",
     "output_type": "stream",
     "text": [
      "EvaluatorHoldout: Processed 35569 (100.0%) in 15.13 sec. Users per second: 2352\n",
      "EvaluatorHoldout: Processed 35581 (100.0%) in 15.13 sec. Users per second: 2351\n",
      "EvaluatorHoldout: Processed 35569 (100.0%) in 15.14 sec. Users per second: 2349\n",
      "EvaluatorHoldout: Processed 35573 (100.0%) in 15.14 sec. Users per second: 2349\n",
      "EvaluatorHoldout: Processed 35567 (100.0%) in 15.17 sec. Users per second: 2345\n",
      "EvaluatorHoldout: Processed 35582 (100.0%) in 15.16 sec. Users per second: 2347\n",
      "EvaluatorHoldout: Processed 35567 (100.0%) in 15.17 sec. Users per second: 2345\n",
      "EvaluatorHoldout: Processed 35578 (100.0%) in 15.12 sec. Users per second: 2353\n",
      "EvaluatorHoldout: Processed 35563 (100.0%) in 15.13 sec. Users per second: 2351\n",
      "EvaluatorHoldout: Processed 35560 (100.0%) in 15.18 sec. Users per second: 2343\n"
     ]
    },
    {
     "name": "stderr",
     "output_type": "stream",
     "text": [
      "[I 2024-12-24 22:45:33,936] Trial 39 finished with value: 0.06027555910189031 and parameters: {'alpha': 0.39536862400209277}. Best is trial 38 with value: 0.06147669344869272.\n",
      "/var/folders/50/7hjr20g17_18p725nbt0qqv00000gn/T/ipykernel_49684/3888098177.py:2: FutureWarning: suggest_uniform has been deprecated in v3.0.0. This feature will be removed in v6.0.0. See https://github.com/optuna/optuna/releases/tag/v3.0.0. Use suggest_float instead.\n",
      "  alpha = trial.suggest_uniform('alpha', 0.0, 1.0)\n"
     ]
    },
    {
     "name": "stdout",
     "output_type": "stream",
     "text": [
      "EvaluatorHoldout: Processed 35569 (100.0%) in 15.12 sec. Users per second: 2352\n",
      "EvaluatorHoldout: Processed 35581 (100.0%) in 15.12 sec. Users per second: 2354\n",
      "EvaluatorHoldout: Processed 35569 (100.0%) in 15.18 sec. Users per second: 2344\n",
      "EvaluatorHoldout: Processed 35573 (100.0%) in 15.17 sec. Users per second: 2345\n",
      "EvaluatorHoldout: Processed 35567 (100.0%) in 15.13 sec. Users per second: 2350\n",
      "EvaluatorHoldout: Processed 35582 (100.0%) in 15.19 sec. Users per second: 2343\n",
      "EvaluatorHoldout: Processed 35567 (100.0%) in 15.10 sec. Users per second: 2355\n",
      "EvaluatorHoldout: Processed 35578 (100.0%) in 15.20 sec. Users per second: 2341\n",
      "EvaluatorHoldout: Processed 35563 (100.0%) in 15.11 sec. Users per second: 2353\n",
      "EvaluatorHoldout: Processed 35560 (100.0%) in 15.15 sec. Users per second: 2347\n"
     ]
    },
    {
     "name": "stderr",
     "output_type": "stream",
     "text": [
      "[I 2024-12-24 22:48:05,754] Trial 40 finished with value: 0.06099842032871526 and parameters: {'alpha': 0.5152099367662529}. Best is trial 38 with value: 0.06147669344869272.\n",
      "/var/folders/50/7hjr20g17_18p725nbt0qqv00000gn/T/ipykernel_49684/3888098177.py:2: FutureWarning: suggest_uniform has been deprecated in v3.0.0. This feature will be removed in v6.0.0. See https://github.com/optuna/optuna/releases/tag/v3.0.0. Use suggest_float instead.\n",
      "  alpha = trial.suggest_uniform('alpha', 0.0, 1.0)\n"
     ]
    },
    {
     "name": "stdout",
     "output_type": "stream",
     "text": [
      "EvaluatorHoldout: Processed 35569 (100.0%) in 15.14 sec. Users per second: 2349\n",
      "EvaluatorHoldout: Processed 35581 (100.0%) in 15.14 sec. Users per second: 2350\n",
      "EvaluatorHoldout: Processed 35569 (100.0%) in 15.12 sec. Users per second: 2353\n",
      "EvaluatorHoldout: Processed 35573 (100.0%) in 15.20 sec. Users per second: 2340\n",
      "EvaluatorHoldout: Processed 35567 (100.0%) in 15.19 sec. Users per second: 2342\n",
      "EvaluatorHoldout: Processed 35582 (100.0%) in 15.18 sec. Users per second: 2345\n",
      "EvaluatorHoldout: Processed 35567 (100.0%) in 15.15 sec. Users per second: 2348\n",
      "EvaluatorHoldout: Processed 35578 (100.0%) in 15.14 sec. Users per second: 2349\n",
      "EvaluatorHoldout: Processed 35563 (100.0%) in 15.15 sec. Users per second: 2347\n",
      "EvaluatorHoldout: Processed 35560 (100.0%) in 15.11 sec. Users per second: 2353\n"
     ]
    },
    {
     "name": "stderr",
     "output_type": "stream",
     "text": [
      "[I 2024-12-24 22:50:37,616] Trial 41 finished with value: 0.06146840196768001 and parameters: {'alpha': 0.7549346971511592}. Best is trial 38 with value: 0.06147669344869272.\n",
      "/var/folders/50/7hjr20g17_18p725nbt0qqv00000gn/T/ipykernel_49684/3888098177.py:2: FutureWarning: suggest_uniform has been deprecated in v3.0.0. This feature will be removed in v6.0.0. See https://github.com/optuna/optuna/releases/tag/v3.0.0. Use suggest_float instead.\n",
      "  alpha = trial.suggest_uniform('alpha', 0.0, 1.0)\n"
     ]
    },
    {
     "name": "stdout",
     "output_type": "stream",
     "text": [
      "EvaluatorHoldout: Processed 35569 (100.0%) in 15.17 sec. Users per second: 2345\n",
      "EvaluatorHoldout: Processed 35581 (100.0%) in 15.17 sec. Users per second: 2345\n",
      "EvaluatorHoldout: Processed 35569 (100.0%) in 15.15 sec. Users per second: 2348\n",
      "EvaluatorHoldout: Processed 35573 (100.0%) in 15.15 sec. Users per second: 2348\n",
      "EvaluatorHoldout: Processed 35567 (100.0%) in 15.19 sec. Users per second: 2342\n",
      "EvaluatorHoldout: Processed 35582 (100.0%) in 15.14 sec. Users per second: 2351\n",
      "EvaluatorHoldout: Processed 35567 (100.0%) in 15.11 sec. Users per second: 2354\n",
      "EvaluatorHoldout: Processed 35578 (100.0%) in 15.15 sec. Users per second: 2349\n",
      "EvaluatorHoldout: Processed 35563 (100.0%) in 15.08 sec. Users per second: 2358\n",
      "EvaluatorHoldout: Processed 35560 (100.0%) in 15.16 sec. Users per second: 2346\n"
     ]
    },
    {
     "name": "stderr",
     "output_type": "stream",
     "text": [
      "[I 2024-12-24 22:53:09,416] Trial 42 finished with value: 0.061409906181495735 and parameters: {'alpha': 0.8175957661114521}. Best is trial 38 with value: 0.06147669344869272.\n",
      "/var/folders/50/7hjr20g17_18p725nbt0qqv00000gn/T/ipykernel_49684/3888098177.py:2: FutureWarning: suggest_uniform has been deprecated in v3.0.0. This feature will be removed in v6.0.0. See https://github.com/optuna/optuna/releases/tag/v3.0.0. Use suggest_float instead.\n",
      "  alpha = trial.suggest_uniform('alpha', 0.0, 1.0)\n"
     ]
    },
    {
     "name": "stdout",
     "output_type": "stream",
     "text": [
      "EvaluatorHoldout: Processed 35569 (100.0%) in 15.10 sec. Users per second: 2355\n",
      "EvaluatorHoldout: Processed 35581 (100.0%) in 15.13 sec. Users per second: 2352\n",
      "EvaluatorHoldout: Processed 35569 (100.0%) in 15.17 sec. Users per second: 2344\n",
      "EvaluatorHoldout: Processed 35573 (100.0%) in 15.20 sec. Users per second: 2340\n",
      "EvaluatorHoldout: Processed 35567 (100.0%) in 15.14 sec. Users per second: 2349\n",
      "EvaluatorHoldout: Processed 35582 (100.0%) in 15.21 sec. Users per second: 2339\n",
      "EvaluatorHoldout: Processed 35567 (100.0%) in 15.19 sec. Users per second: 2342\n",
      "EvaluatorHoldout: Processed 35578 (100.0%) in 15.07 sec. Users per second: 2361\n",
      "EvaluatorHoldout: Processed 35563 (100.0%) in 15.07 sec. Users per second: 2360\n",
      "EvaluatorHoldout: Processed 35560 (100.0%) in 15.06 sec. Users per second: 2361\n"
     ]
    },
    {
     "name": "stderr",
     "output_type": "stream",
     "text": [
      "[I 2024-12-24 22:55:41,112] Trial 43 finished with value: 0.06134955130102937 and parameters: {'alpha': 0.6195139922316822}. Best is trial 38 with value: 0.06147669344869272.\n",
      "/var/folders/50/7hjr20g17_18p725nbt0qqv00000gn/T/ipykernel_49684/3888098177.py:2: FutureWarning: suggest_uniform has been deprecated in v3.0.0. This feature will be removed in v6.0.0. See https://github.com/optuna/optuna/releases/tag/v3.0.0. Use suggest_float instead.\n",
      "  alpha = trial.suggest_uniform('alpha', 0.0, 1.0)\n"
     ]
    },
    {
     "name": "stdout",
     "output_type": "stream",
     "text": [
      "EvaluatorHoldout: Processed 35569 (100.0%) in 14.99 sec. Users per second: 2373\n",
      "EvaluatorHoldout: Processed 35581 (100.0%) in 15.02 sec. Users per second: 2369\n",
      "EvaluatorHoldout: Processed 35569 (100.0%) in 15.12 sec. Users per second: 2352\n",
      "EvaluatorHoldout: Processed 35573 (100.0%) in 15.05 sec. Users per second: 2364\n",
      "EvaluatorHoldout: Processed 35567 (100.0%) in 15.17 sec. Users per second: 2344\n",
      "EvaluatorHoldout: Processed 35582 (100.0%) in 15.13 sec. Users per second: 2352\n",
      "EvaluatorHoldout: Processed 35567 (100.0%) in 15.11 sec. Users per second: 2354\n",
      "EvaluatorHoldout: Processed 35578 (100.0%) in 15.11 sec. Users per second: 2354\n",
      "EvaluatorHoldout: Processed 35563 (100.0%) in 15.09 sec. Users per second: 2357\n",
      "EvaluatorHoldout: Processed 35560 (100.0%) in 15.08 sec. Users per second: 2359\n"
     ]
    },
    {
     "name": "stderr",
     "output_type": "stream",
     "text": [
      "[I 2024-12-24 22:58:12,316] Trial 44 finished with value: 0.06121822163748516 and parameters: {'alpha': 0.8907150927326448}. Best is trial 38 with value: 0.06147669344869272.\n",
      "/var/folders/50/7hjr20g17_18p725nbt0qqv00000gn/T/ipykernel_49684/3888098177.py:2: FutureWarning: suggest_uniform has been deprecated in v3.0.0. This feature will be removed in v6.0.0. See https://github.com/optuna/optuna/releases/tag/v3.0.0. Use suggest_float instead.\n",
      "  alpha = trial.suggest_uniform('alpha', 0.0, 1.0)\n"
     ]
    },
    {
     "name": "stdout",
     "output_type": "stream",
     "text": [
      "EvaluatorHoldout: Processed 35569 (100.0%) in 15.02 sec. Users per second: 2368\n",
      "EvaluatorHoldout: Processed 35581 (100.0%) in 15.01 sec. Users per second: 2370\n",
      "EvaluatorHoldout: Processed 35569 (100.0%) in 15.13 sec. Users per second: 2351\n",
      "EvaluatorHoldout: Processed 35573 (100.0%) in 15.09 sec. Users per second: 2357\n",
      "EvaluatorHoldout: Processed 35567 (100.0%) in 15.14 sec. Users per second: 2349\n",
      "EvaluatorHoldout: Processed 35582 (100.0%) in 15.22 sec. Users per second: 2338\n",
      "EvaluatorHoldout: Processed 35567 (100.0%) in 15.06 sec. Users per second: 2361\n",
      "EvaluatorHoldout: Processed 35578 (100.0%) in 15.10 sec. Users per second: 2357\n",
      "EvaluatorHoldout: Processed 35563 (100.0%) in 15.11 sec. Users per second: 2354\n",
      "EvaluatorHoldout: Processed 35560 (100.0%) in 15.07 sec. Users per second: 2360\n"
     ]
    },
    {
     "name": "stderr",
     "output_type": "stream",
     "text": [
      "[I 2024-12-24 23:00:43,667] Trial 45 finished with value: 0.06146939042503219 and parameters: {'alpha': 0.7339659870856843}. Best is trial 38 with value: 0.06147669344869272.\n",
      "/var/folders/50/7hjr20g17_18p725nbt0qqv00000gn/T/ipykernel_49684/3888098177.py:2: FutureWarning: suggest_uniform has been deprecated in v3.0.0. This feature will be removed in v6.0.0. See https://github.com/optuna/optuna/releases/tag/v3.0.0. Use suggest_float instead.\n",
      "  alpha = trial.suggest_uniform('alpha', 0.0, 1.0)\n"
     ]
    },
    {
     "name": "stdout",
     "output_type": "stream",
     "text": [
      "EvaluatorHoldout: Processed 35569 (100.0%) in 14.97 sec. Users per second: 2376\n",
      "EvaluatorHoldout: Processed 35581 (100.0%) in 14.93 sec. Users per second: 2383\n",
      "EvaluatorHoldout: Processed 35569 (100.0%) in 15.12 sec. Users per second: 2353\n",
      "EvaluatorHoldout: Processed 35573 (100.0%) in 15.11 sec. Users per second: 2355\n",
      "EvaluatorHoldout: Processed 35567 (100.0%) in 15.13 sec. Users per second: 2351\n",
      "EvaluatorHoldout: Processed 35582 (100.0%) in 15.11 sec. Users per second: 2355\n",
      "EvaluatorHoldout: Processed 35567 (100.0%) in 15.11 sec. Users per second: 2354\n",
      "EvaluatorHoldout: Processed 35578 (100.0%) in 15.10 sec. Users per second: 2356\n",
      "EvaluatorHoldout: Processed 35563 (100.0%) in 15.15 sec. Users per second: 2348\n",
      "EvaluatorHoldout: Processed 35560 (100.0%) in 15.08 sec. Users per second: 2358\n"
     ]
    },
    {
     "name": "stderr",
     "output_type": "stream",
     "text": [
      "[I 2024-12-24 23:03:14,810] Trial 46 finished with value: 0.06144810308118757 and parameters: {'alpha': 0.669373304280939}. Best is trial 38 with value: 0.06147669344869272.\n",
      "/var/folders/50/7hjr20g17_18p725nbt0qqv00000gn/T/ipykernel_49684/3888098177.py:2: FutureWarning: suggest_uniform has been deprecated in v3.0.0. This feature will be removed in v6.0.0. See https://github.com/optuna/optuna/releases/tag/v3.0.0. Use suggest_float instead.\n",
      "  alpha = trial.suggest_uniform('alpha', 0.0, 1.0)\n"
     ]
    },
    {
     "name": "stdout",
     "output_type": "stream",
     "text": [
      "EvaluatorHoldout: Processed 35569 (100.0%) in 15.01 sec. Users per second: 2369\n",
      "EvaluatorHoldout: Processed 35581 (100.0%) in 14.97 sec. Users per second: 2377\n",
      "EvaluatorHoldout: Processed 35569 (100.0%) in 15.14 sec. Users per second: 2349\n",
      "EvaluatorHoldout: Processed 35573 (100.0%) in 15.12 sec. Users per second: 2352\n",
      "EvaluatorHoldout: Processed 35567 (100.0%) in 15.13 sec. Users per second: 2350\n",
      "EvaluatorHoldout: Processed 35582 (100.0%) in 15.13 sec. Users per second: 2352\n",
      "EvaluatorHoldout: Processed 35567 (100.0%) in 15.09 sec. Users per second: 2357\n",
      "EvaluatorHoldout: Processed 35578 (100.0%) in 15.13 sec. Users per second: 2351\n",
      "EvaluatorHoldout: Processed 35563 (100.0%) in 15.09 sec. Users per second: 2357\n",
      "EvaluatorHoldout: Processed 35560 (100.0%) in 15.09 sec. Users per second: 2356\n"
     ]
    },
    {
     "name": "stderr",
     "output_type": "stream",
     "text": [
      "[I 2024-12-24 23:05:46,073] Trial 47 finished with value: 0.05671297988366488 and parameters: {'alpha': 0.0945078830256123}. Best is trial 38 with value: 0.06147669344869272.\n",
      "/var/folders/50/7hjr20g17_18p725nbt0qqv00000gn/T/ipykernel_49684/3888098177.py:2: FutureWarning: suggest_uniform has been deprecated in v3.0.0. This feature will be removed in v6.0.0. See https://github.com/optuna/optuna/releases/tag/v3.0.0. Use suggest_float instead.\n",
      "  alpha = trial.suggest_uniform('alpha', 0.0, 1.0)\n"
     ]
    },
    {
     "name": "stdout",
     "output_type": "stream",
     "text": [
      "EvaluatorHoldout: Processed 35569 (100.0%) in 14.96 sec. Users per second: 2377\n",
      "EvaluatorHoldout: Processed 35581 (100.0%) in 14.95 sec. Users per second: 2381\n",
      "EvaluatorHoldout: Processed 35569 (100.0%) in 15.15 sec. Users per second: 2348\n",
      "EvaluatorHoldout: Processed 35573 (100.0%) in 15.10 sec. Users per second: 2355\n",
      "EvaluatorHoldout: Processed 35567 (100.0%) in 15.09 sec. Users per second: 2356\n",
      "EvaluatorHoldout: Processed 35582 (100.0%) in 15.12 sec. Users per second: 2353\n",
      "EvaluatorHoldout: Processed 35567 (100.0%) in 15.08 sec. Users per second: 2359\n",
      "EvaluatorHoldout: Processed 35578 (100.0%) in 15.10 sec. Users per second: 2356\n",
      "EvaluatorHoldout: Processed 35563 (100.0%) in 15.15 sec. Users per second: 2347\n",
      "EvaluatorHoldout: Processed 35560 (100.0%) in 15.11 sec. Users per second: 2354\n"
     ]
    },
    {
     "name": "stderr",
     "output_type": "stream",
     "text": [
      "[I 2024-12-24 23:08:17,296] Trial 48 finished with value: 0.06097307897456093 and parameters: {'alpha': 0.9626263644126256}. Best is trial 38 with value: 0.06147669344869272.\n",
      "/var/folders/50/7hjr20g17_18p725nbt0qqv00000gn/T/ipykernel_49684/3888098177.py:2: FutureWarning: suggest_uniform has been deprecated in v3.0.0. This feature will be removed in v6.0.0. See https://github.com/optuna/optuna/releases/tag/v3.0.0. Use suggest_float instead.\n",
      "  alpha = trial.suggest_uniform('alpha', 0.0, 1.0)\n"
     ]
    },
    {
     "name": "stdout",
     "output_type": "stream",
     "text": [
      "EvaluatorHoldout: Processed 35569 (100.0%) in 15.03 sec. Users per second: 2367\n",
      "EvaluatorHoldout: Processed 35581 (100.0%) in 15.01 sec. Users per second: 2370\n",
      "EvaluatorHoldout: Processed 35569 (100.0%) in 15.17 sec. Users per second: 2344\n",
      "EvaluatorHoldout: Processed 35573 (100.0%) in 15.15 sec. Users per second: 2349\n",
      "EvaluatorHoldout: Processed 35567 (100.0%) in 15.15 sec. Users per second: 2347\n",
      "EvaluatorHoldout: Processed 35582 (100.0%) in 15.17 sec. Users per second: 2346\n",
      "EvaluatorHoldout: Processed 35567 (100.0%) in 15.13 sec. Users per second: 2351\n",
      "EvaluatorHoldout: Processed 35578 (100.0%) in 15.11 sec. Users per second: 2355\n",
      "EvaluatorHoldout: Processed 35563 (100.0%) in 15.15 sec. Users per second: 2347\n",
      "EvaluatorHoldout: Processed 35560 (100.0%) in 15.09 sec. Users per second: 2356\n"
     ]
    },
    {
     "name": "stderr",
     "output_type": "stream",
     "text": [
      "[I 2024-12-24 23:10:48,808] Trial 49 finished with value: 0.06127830714694259 and parameters: {'alpha': 0.5881196988838328}. Best is trial 38 with value: 0.06147669344869272.\n",
      "/var/folders/50/7hjr20g17_18p725nbt0qqv00000gn/T/ipykernel_49684/3888098177.py:2: FutureWarning: suggest_uniform has been deprecated in v3.0.0. This feature will be removed in v6.0.0. See https://github.com/optuna/optuna/releases/tag/v3.0.0. Use suggest_float instead.\n",
      "  alpha = trial.suggest_uniform('alpha', 0.0, 1.0)\n"
     ]
    },
    {
     "name": "stdout",
     "output_type": "stream",
     "text": [
      "EvaluatorHoldout: Processed 35569 (100.0%) in 15.09 sec. Users per second: 2357\n",
      "EvaluatorHoldout: Processed 35581 (100.0%) in 14.96 sec. Users per second: 2379\n",
      "EvaluatorHoldout: Processed 35569 (100.0%) in 15.15 sec. Users per second: 2349\n",
      "EvaluatorHoldout: Processed 35573 (100.0%) in 15.10 sec. Users per second: 2355\n",
      "EvaluatorHoldout: Processed 35567 (100.0%) in 15.13 sec. Users per second: 2351\n",
      "EvaluatorHoldout: Processed 35582 (100.0%) in 15.08 sec. Users per second: 2359\n",
      "EvaluatorHoldout: Processed 35567 (100.0%) in 15.12 sec. Users per second: 2352\n",
      "EvaluatorHoldout: Processed 35578 (100.0%) in 15.07 sec. Users per second: 2362\n",
      "EvaluatorHoldout: Processed 35563 (100.0%) in 15.08 sec. Users per second: 2358\n",
      "EvaluatorHoldout: Processed 35560 (100.0%) in 15.08 sec. Users per second: 2357\n"
     ]
    },
    {
     "name": "stderr",
     "output_type": "stream",
     "text": [
      "[I 2024-12-24 23:13:20,021] Trial 50 finished with value: 0.06130174708313496 and parameters: {'alpha': 0.8641768422892941}. Best is trial 38 with value: 0.06147669344869272.\n",
      "/var/folders/50/7hjr20g17_18p725nbt0qqv00000gn/T/ipykernel_49684/3888098177.py:2: FutureWarning: suggest_uniform has been deprecated in v3.0.0. This feature will be removed in v6.0.0. See https://github.com/optuna/optuna/releases/tag/v3.0.0. Use suggest_float instead.\n",
      "  alpha = trial.suggest_uniform('alpha', 0.0, 1.0)\n"
     ]
    },
    {
     "name": "stdout",
     "output_type": "stream",
     "text": [
      "EvaluatorHoldout: Processed 35569 (100.0%) in 15.03 sec. Users per second: 2367\n",
      "EvaluatorHoldout: Processed 35581 (100.0%) in 15.03 sec. Users per second: 2367\n",
      "EvaluatorHoldout: Processed 35569 (100.0%) in 15.14 sec. Users per second: 2349\n",
      "EvaluatorHoldout: Processed 35573 (100.0%) in 15.10 sec. Users per second: 2356\n",
      "EvaluatorHoldout: Processed 35567 (100.0%) in 15.12 sec. Users per second: 2353\n",
      "EvaluatorHoldout: Processed 35582 (100.0%) in 15.13 sec. Users per second: 2351\n",
      "EvaluatorHoldout: Processed 35567 (100.0%) in 15.10 sec. Users per second: 2356\n",
      "EvaluatorHoldout: Processed 35578 (100.0%) in 15.11 sec. Users per second: 2354\n",
      "EvaluatorHoldout: Processed 35563 (100.0%) in 15.13 sec. Users per second: 2351\n",
      "EvaluatorHoldout: Processed 35560 (100.0%) in 15.07 sec. Users per second: 2360\n"
     ]
    },
    {
     "name": "stderr",
     "output_type": "stream",
     "text": [
      "[I 2024-12-24 23:15:51,324] Trial 51 finished with value: 0.06146934620033963 and parameters: {'alpha': 0.7593401522610944}. Best is trial 38 with value: 0.06147669344869272.\n",
      "/var/folders/50/7hjr20g17_18p725nbt0qqv00000gn/T/ipykernel_49684/3888098177.py:2: FutureWarning: suggest_uniform has been deprecated in v3.0.0. This feature will be removed in v6.0.0. See https://github.com/optuna/optuna/releases/tag/v3.0.0. Use suggest_float instead.\n",
      "  alpha = trial.suggest_uniform('alpha', 0.0, 1.0)\n"
     ]
    },
    {
     "name": "stdout",
     "output_type": "stream",
     "text": [
      "EvaluatorHoldout: Processed 35569 (100.0%) in 15.02 sec. Users per second: 2368\n",
      "EvaluatorHoldout: Processed 35581 (100.0%) in 14.97 sec. Users per second: 2377\n",
      "EvaluatorHoldout: Processed 35569 (100.0%) in 15.10 sec. Users per second: 2355\n",
      "EvaluatorHoldout: Processed 35573 (100.0%) in 15.16 sec. Users per second: 2346\n",
      "EvaluatorHoldout: Processed 35567 (100.0%) in 15.14 sec. Users per second: 2349\n",
      "EvaluatorHoldout: Processed 35582 (100.0%) in 15.12 sec. Users per second: 2354\n",
      "EvaluatorHoldout: Processed 35567 (100.0%) in 15.00 sec. Users per second: 2371\n",
      "EvaluatorHoldout: Processed 35578 (100.0%) in 15.09 sec. Users per second: 2358\n",
      "EvaluatorHoldout: Processed 35563 (100.0%) in 15.13 sec. Users per second: 2350\n",
      "EvaluatorHoldout: Processed 35560 (100.0%) in 15.07 sec. Users per second: 2359\n"
     ]
    },
    {
     "name": "stderr",
     "output_type": "stream",
     "text": [
      "[I 2024-12-24 23:18:22,481] Trial 52 finished with value: 0.061450932548503145 and parameters: {'alpha': 0.7822468727277598}. Best is trial 38 with value: 0.06147669344869272.\n",
      "/var/folders/50/7hjr20g17_18p725nbt0qqv00000gn/T/ipykernel_49684/3888098177.py:2: FutureWarning: suggest_uniform has been deprecated in v3.0.0. This feature will be removed in v6.0.0. See https://github.com/optuna/optuna/releases/tag/v3.0.0. Use suggest_float instead.\n",
      "  alpha = trial.suggest_uniform('alpha', 0.0, 1.0)\n"
     ]
    },
    {
     "name": "stdout",
     "output_type": "stream",
     "text": [
      "EvaluatorHoldout: Processed 35569 (100.0%) in 15.01 sec. Users per second: 2369\n",
      "EvaluatorHoldout: Processed 35581 (100.0%) in 15.02 sec. Users per second: 2368\n",
      "EvaluatorHoldout: Processed 35569 (100.0%) in 15.14 sec. Users per second: 2349\n",
      "EvaluatorHoldout: Processed 35573 (100.0%) in 15.14 sec. Users per second: 2349\n",
      "EvaluatorHoldout: Processed 35567 (100.0%) in 15.20 sec. Users per second: 2339\n",
      "EvaluatorHoldout: Processed 35582 (100.0%) in 15.19 sec. Users per second: 2342\n",
      "EvaluatorHoldout: Processed 35567 (100.0%) in 15.07 sec. Users per second: 2360\n",
      "EvaluatorHoldout: Processed 35578 (100.0%) in 15.06 sec. Users per second: 2363\n",
      "EvaluatorHoldout: Processed 35563 (100.0%) in 15.10 sec. Users per second: 2355\n",
      "EvaluatorHoldout: Processed 35560 (100.0%) in 15.14 sec. Users per second: 2349\n"
     ]
    },
    {
     "name": "stderr",
     "output_type": "stream",
     "text": [
      "[I 2024-12-24 23:20:53,912] Trial 53 finished with value: 0.06146741982410434 and parameters: {'alpha': 0.6994956580648876}. Best is trial 38 with value: 0.06147669344869272.\n",
      "/var/folders/50/7hjr20g17_18p725nbt0qqv00000gn/T/ipykernel_49684/3888098177.py:2: FutureWarning: suggest_uniform has been deprecated in v3.0.0. This feature will be removed in v6.0.0. See https://github.com/optuna/optuna/releases/tag/v3.0.0. Use suggest_float instead.\n",
      "  alpha = trial.suggest_uniform('alpha', 0.0, 1.0)\n"
     ]
    },
    {
     "name": "stdout",
     "output_type": "stream",
     "text": [
      "EvaluatorHoldout: Processed 35569 (100.0%) in 15.04 sec. Users per second: 2365\n",
      "EvaluatorHoldout: Processed 35581 (100.0%) in 15.03 sec. Users per second: 2368\n",
      "EvaluatorHoldout: Processed 35569 (100.0%) in 15.14 sec. Users per second: 2349\n",
      "EvaluatorHoldout: Processed 35573 (100.0%) in 15.11 sec. Users per second: 2354\n",
      "EvaluatorHoldout: Processed 35567 (100.0%) in 15.15 sec. Users per second: 2347\n",
      "EvaluatorHoldout: Processed 35582 (100.0%) in 15.14 sec. Users per second: 2350\n",
      "EvaluatorHoldout: Processed 35567 (100.0%) in 15.18 sec. Users per second: 2342\n",
      "EvaluatorHoldout: Processed 35578 (100.0%) in 15.08 sec. Users per second: 2360\n",
      "EvaluatorHoldout: Processed 35563 (100.0%) in 15.09 sec. Users per second: 2357\n",
      "EvaluatorHoldout: Processed 35560 (100.0%) in 15.07 sec. Users per second: 2360\n"
     ]
    },
    {
     "name": "stderr",
     "output_type": "stream",
     "text": [
      "[I 2024-12-24 23:23:25,289] Trial 54 finished with value: 0.06140688742572337 and parameters: {'alpha': 0.8140086698506819}. Best is trial 38 with value: 0.06147669344869272.\n",
      "/var/folders/50/7hjr20g17_18p725nbt0qqv00000gn/T/ipykernel_49684/3888098177.py:2: FutureWarning: suggest_uniform has been deprecated in v3.0.0. This feature will be removed in v6.0.0. See https://github.com/optuna/optuna/releases/tag/v3.0.0. Use suggest_float instead.\n",
      "  alpha = trial.suggest_uniform('alpha', 0.0, 1.0)\n"
     ]
    },
    {
     "name": "stdout",
     "output_type": "stream",
     "text": [
      "EvaluatorHoldout: Processed 35569 (100.0%) in 14.98 sec. Users per second: 2374\n",
      "EvaluatorHoldout: Processed 35581 (100.0%) in 15.04 sec. Users per second: 2366\n",
      "EvaluatorHoldout: Processed 35569 (100.0%) in 15.14 sec. Users per second: 2349\n",
      "EvaluatorHoldout: Processed 35573 (100.0%) in 15.13 sec. Users per second: 2351\n",
      "EvaluatorHoldout: Processed 35567 (100.0%) in 15.12 sec. Users per second: 2352\n",
      "EvaluatorHoldout: Processed 35582 (100.0%) in 15.18 sec. Users per second: 2344\n",
      "EvaluatorHoldout: Processed 35567 (100.0%) in 15.10 sec. Users per second: 2356\n",
      "EvaluatorHoldout: Processed 35578 (100.0%) in 15.10 sec. Users per second: 2356\n",
      "EvaluatorHoldout: Processed 35563 (100.0%) in 15.09 sec. Users per second: 2357\n",
      "EvaluatorHoldout: Processed 35560 (100.0%) in 15.11 sec. Users per second: 2354\n"
     ]
    },
    {
     "name": "stderr",
     "output_type": "stream",
     "text": [
      "[I 2024-12-24 23:25:56,672] Trial 55 finished with value: 0.06139184571343124 and parameters: {'alpha': 0.6345927884292333}. Best is trial 38 with value: 0.06147669344869272.\n",
      "/var/folders/50/7hjr20g17_18p725nbt0qqv00000gn/T/ipykernel_49684/3888098177.py:2: FutureWarning: suggest_uniform has been deprecated in v3.0.0. This feature will be removed in v6.0.0. See https://github.com/optuna/optuna/releases/tag/v3.0.0. Use suggest_float instead.\n",
      "  alpha = trial.suggest_uniform('alpha', 0.0, 1.0)\n"
     ]
    },
    {
     "name": "stdout",
     "output_type": "stream",
     "text": [
      "EvaluatorHoldout: Processed 35569 (100.0%) in 15.00 sec. Users per second: 2372\n",
      "EvaluatorHoldout: Processed 35581 (100.0%) in 15.00 sec. Users per second: 2372\n",
      "EvaluatorHoldout: Processed 35569 (100.0%) in 15.11 sec. Users per second: 2354\n",
      "EvaluatorHoldout: Processed 35573 (100.0%) in 15.13 sec. Users per second: 2350\n",
      "EvaluatorHoldout: Processed 35567 (100.0%) in 15.18 sec. Users per second: 2344\n",
      "EvaluatorHoldout: Processed 35582 (100.0%) in 15.15 sec. Users per second: 2349\n",
      "EvaluatorHoldout: Processed 35567 (100.0%) in 15.06 sec. Users per second: 2362\n",
      "EvaluatorHoldout: Processed 35578 (100.0%) in 15.12 sec. Users per second: 2354\n",
      "EvaluatorHoldout: Processed 35563 (100.0%) in 15.11 sec. Users per second: 2353\n",
      "EvaluatorHoldout: Processed 35560 (100.0%) in 15.09 sec. Users per second: 2356\n"
     ]
    },
    {
     "name": "stderr",
     "output_type": "stream",
     "text": [
      "[I 2024-12-24 23:28:27,981] Trial 56 finished with value: 0.061470616684167964 and parameters: {'alpha': 0.7294325144597761}. Best is trial 38 with value: 0.06147669344869272.\n",
      "/var/folders/50/7hjr20g17_18p725nbt0qqv00000gn/T/ipykernel_49684/3888098177.py:2: FutureWarning: suggest_uniform has been deprecated in v3.0.0. This feature will be removed in v6.0.0. See https://github.com/optuna/optuna/releases/tag/v3.0.0. Use suggest_float instead.\n",
      "  alpha = trial.suggest_uniform('alpha', 0.0, 1.0)\n"
     ]
    },
    {
     "name": "stdout",
     "output_type": "stream",
     "text": [
      "EvaluatorHoldout: Processed 35569 (100.0%) in 15.00 sec. Users per second: 2371\n",
      "EvaluatorHoldout: Processed 35581 (100.0%) in 14.97 sec. Users per second: 2377\n",
      "EvaluatorHoldout: Processed 35569 (100.0%) in 15.13 sec. Users per second: 2351\n",
      "EvaluatorHoldout: Processed 35573 (100.0%) in 15.13 sec. Users per second: 2352\n",
      "EvaluatorHoldout: Processed 35567 (100.0%) in 15.16 sec. Users per second: 2347\n",
      "EvaluatorHoldout: Processed 35582 (100.0%) in 15.15 sec. Users per second: 2349\n",
      "EvaluatorHoldout: Processed 35567 (100.0%) in 15.09 sec. Users per second: 2356\n",
      "EvaluatorHoldout: Processed 35578 (100.0%) in 15.09 sec. Users per second: 2357\n",
      "EvaluatorHoldout: Processed 35563 (100.0%) in 15.09 sec. Users per second: 2356\n",
      "EvaluatorHoldout: Processed 35560 (100.0%) in 15.09 sec. Users per second: 2356\n"
     ]
    },
    {
     "name": "stderr",
     "output_type": "stream",
     "text": [
      "[I 2024-12-24 23:30:59,237] Trial 57 finished with value: 0.06103752833896795 and parameters: {'alpha': 0.9452221942717527}. Best is trial 38 with value: 0.06147669344869272.\n",
      "/var/folders/50/7hjr20g17_18p725nbt0qqv00000gn/T/ipykernel_49684/3888098177.py:2: FutureWarning: suggest_uniform has been deprecated in v3.0.0. This feature will be removed in v6.0.0. See https://github.com/optuna/optuna/releases/tag/v3.0.0. Use suggest_float instead.\n",
      "  alpha = trial.suggest_uniform('alpha', 0.0, 1.0)\n"
     ]
    },
    {
     "name": "stdout",
     "output_type": "stream",
     "text": [
      "EvaluatorHoldout: Processed 35569 (100.0%) in 15.05 sec. Users per second: 2364\n",
      "EvaluatorHoldout: Processed 35581 (100.0%) in 15.02 sec. Users per second: 2369\n",
      "EvaluatorHoldout: Processed 35569 (100.0%) in 15.12 sec. Users per second: 2353\n",
      "EvaluatorHoldout: Processed 35573 (100.0%) in 15.12 sec. Users per second: 2353\n",
      "EvaluatorHoldout: Processed 35567 (100.0%) in 15.10 sec. Users per second: 2356\n",
      "EvaluatorHoldout: Processed 35582 (100.0%) in 15.11 sec. Users per second: 2356\n",
      "EvaluatorHoldout: Processed 35567 (100.0%) in 15.07 sec. Users per second: 2360\n",
      "EvaluatorHoldout: Processed 35578 (100.0%) in 15.11 sec. Users per second: 2354\n",
      "EvaluatorHoldout: Processed 35563 (100.0%) in 15.06 sec. Users per second: 2362\n",
      "EvaluatorHoldout: Processed 35560 (100.0%) in 15.08 sec. Users per second: 2358\n"
     ]
    },
    {
     "name": "stderr",
     "output_type": "stream",
     "text": [
      "[I 2024-12-24 23:33:30,452] Trial 58 finished with value: 0.06147822639346223 and parameters: {'alpha': 0.7399599601611663}. Best is trial 58 with value: 0.06147822639346223.\n",
      "/var/folders/50/7hjr20g17_18p725nbt0qqv00000gn/T/ipykernel_49684/3888098177.py:2: FutureWarning: suggest_uniform has been deprecated in v3.0.0. This feature will be removed in v6.0.0. See https://github.com/optuna/optuna/releases/tag/v3.0.0. Use suggest_float instead.\n",
      "  alpha = trial.suggest_uniform('alpha', 0.0, 1.0)\n"
     ]
    },
    {
     "name": "stdout",
     "output_type": "stream",
     "text": [
      "EvaluatorHoldout: Processed 35569 (100.0%) in 14.99 sec. Users per second: 2372\n",
      "EvaluatorHoldout: Processed 35581 (100.0%) in 15.09 sec. Users per second: 2359\n",
      "EvaluatorHoldout: Processed 35569 (100.0%) in 15.10 sec. Users per second: 2355\n",
      "EvaluatorHoldout: Processed 35573 (100.0%) in 15.10 sec. Users per second: 2355\n",
      "EvaluatorHoldout: Processed 35567 (100.0%) in 15.11 sec. Users per second: 2353\n",
      "EvaluatorHoldout: Processed 35582 (100.0%) in 15.22 sec. Users per second: 2337\n",
      "EvaluatorHoldout: Processed 35567 (100.0%) in 15.11 sec. Users per second: 2355\n",
      "EvaluatorHoldout: Processed 35578 (100.0%) in 15.16 sec. Users per second: 2347\n",
      "EvaluatorHoldout: Processed 35563 (100.0%) in 15.09 sec. Users per second: 2357\n",
      "EvaluatorHoldout: Processed 35560 (100.0%) in 15.23 sec. Users per second: 2334\n"
     ]
    },
    {
     "name": "stderr",
     "output_type": "stream",
     "text": [
      "[I 2024-12-24 23:36:02,011] Trial 59 finished with value: 0.06147123558409885 and parameters: {'alpha': 0.7123437629155}. Best is trial 58 with value: 0.06147822639346223.\n",
      "/var/folders/50/7hjr20g17_18p725nbt0qqv00000gn/T/ipykernel_49684/3888098177.py:2: FutureWarning: suggest_uniform has been deprecated in v3.0.0. This feature will be removed in v6.0.0. See https://github.com/optuna/optuna/releases/tag/v3.0.0. Use suggest_float instead.\n",
      "  alpha = trial.suggest_uniform('alpha', 0.0, 1.0)\n"
     ]
    },
    {
     "name": "stdout",
     "output_type": "stream",
     "text": [
      "EvaluatorHoldout: Processed 35569 (100.0%) in 15.05 sec. Users per second: 2363\n",
      "EvaluatorHoldout: Processed 35581 (100.0%) in 15.00 sec. Users per second: 2371\n",
      "EvaluatorHoldout: Processed 35569 (100.0%) in 15.20 sec. Users per second: 2340\n",
      "EvaluatorHoldout: Processed 35573 (100.0%) in 15.13 sec. Users per second: 2351\n",
      "EvaluatorHoldout: Processed 35567 (100.0%) in 15.14 sec. Users per second: 2349\n",
      "EvaluatorHoldout: Processed 35582 (100.0%) in 15.17 sec. Users per second: 2345\n",
      "EvaluatorHoldout: Processed 35567 (100.0%) in 15.11 sec. Users per second: 2354\n",
      "EvaluatorHoldout: Processed 35578 (100.0%) in 15.12 sec. Users per second: 2353\n",
      "EvaluatorHoldout: Processed 35563 (100.0%) in 15.10 sec. Users per second: 2355\n",
      "EvaluatorHoldout: Processed 35560 (100.0%) in 15.04 sec. Users per second: 2365\n"
     ]
    },
    {
     "name": "stderr",
     "output_type": "stream",
     "text": [
      "[I 2024-12-24 23:38:33,423] Trial 60 finished with value: 0.061427436898283096 and parameters: {'alpha': 0.6580486069267896}. Best is trial 58 with value: 0.06147822639346223.\n",
      "/var/folders/50/7hjr20g17_18p725nbt0qqv00000gn/T/ipykernel_49684/3888098177.py:2: FutureWarning: suggest_uniform has been deprecated in v3.0.0. This feature will be removed in v6.0.0. See https://github.com/optuna/optuna/releases/tag/v3.0.0. Use suggest_float instead.\n",
      "  alpha = trial.suggest_uniform('alpha', 0.0, 1.0)\n"
     ]
    },
    {
     "name": "stdout",
     "output_type": "stream",
     "text": [
      "EvaluatorHoldout: Processed 35569 (100.0%) in 15.01 sec. Users per second: 2370\n",
      "EvaluatorHoldout: Processed 35581 (100.0%) in 15.04 sec. Users per second: 2366\n",
      "EvaluatorHoldout: Processed 35569 (100.0%) in 15.11 sec. Users per second: 2354\n",
      "EvaluatorHoldout: Processed 35573 (100.0%) in 15.14 sec. Users per second: 2349\n",
      "EvaluatorHoldout: Processed 35567 (100.0%) in 15.11 sec. Users per second: 2354\n",
      "EvaluatorHoldout: Processed 35582 (100.0%) in 15.20 sec. Users per second: 2341\n",
      "EvaluatorHoldout: Processed 35567 (100.0%) in 15.03 sec. Users per second: 2366\n",
      "EvaluatorHoldout: Processed 35578 (100.0%) in 15.08 sec. Users per second: 2359\n",
      "EvaluatorHoldout: Processed 35563 (100.0%) in 15.07 sec. Users per second: 2360\n",
      "EvaluatorHoldout: Processed 35560 (100.0%) in 15.10 sec. Users per second: 2355\n"
     ]
    },
    {
     "name": "stderr",
     "output_type": "stream",
     "text": [
      "[I 2024-12-24 23:41:04,657] Trial 61 finished with value: 0.06147432348269435 and parameters: {'alpha': 0.7167439021729134}. Best is trial 58 with value: 0.06147822639346223.\n",
      "/var/folders/50/7hjr20g17_18p725nbt0qqv00000gn/T/ipykernel_49684/3888098177.py:2: FutureWarning: suggest_uniform has been deprecated in v3.0.0. This feature will be removed in v6.0.0. See https://github.com/optuna/optuna/releases/tag/v3.0.0. Use suggest_float instead.\n",
      "  alpha = trial.suggest_uniform('alpha', 0.0, 1.0)\n"
     ]
    },
    {
     "name": "stdout",
     "output_type": "stream",
     "text": [
      "EvaluatorHoldout: Processed 35569 (100.0%) in 15.01 sec. Users per second: 2370\n",
      "EvaluatorHoldout: Processed 35581 (100.0%) in 15.03 sec. Users per second: 2367\n",
      "EvaluatorHoldout: Processed 35569 (100.0%) in 15.15 sec. Users per second: 2348\n",
      "EvaluatorHoldout: Processed 35573 (100.0%) in 15.10 sec. Users per second: 2355\n",
      "EvaluatorHoldout: Processed 35567 (100.0%) in 15.14 sec. Users per second: 2350\n",
      "EvaluatorHoldout: Processed 35582 (100.0%) in 15.19 sec. Users per second: 2343\n",
      "EvaluatorHoldout: Processed 35567 (100.0%) in 15.09 sec. Users per second: 2358\n",
      "EvaluatorHoldout: Processed 35578 (100.0%) in 15.10 sec. Users per second: 2357\n",
      "EvaluatorHoldout: Processed 35563 (100.0%) in 15.11 sec. Users per second: 2354\n",
      "EvaluatorHoldout: Processed 35560 (100.0%) in 15.11 sec. Users per second: 2354\n"
     ]
    },
    {
     "name": "stderr",
     "output_type": "stream",
     "text": [
      "[I 2024-12-24 23:43:36,017] Trial 62 finished with value: 0.061466111230449205 and parameters: {'alpha': 0.7193711397550864}. Best is trial 58 with value: 0.06147822639346223.\n",
      "/var/folders/50/7hjr20g17_18p725nbt0qqv00000gn/T/ipykernel_49684/3888098177.py:2: FutureWarning: suggest_uniform has been deprecated in v3.0.0. This feature will be removed in v6.0.0. See https://github.com/optuna/optuna/releases/tag/v3.0.0. Use suggest_float instead.\n",
      "  alpha = trial.suggest_uniform('alpha', 0.0, 1.0)\n"
     ]
    },
    {
     "name": "stdout",
     "output_type": "stream",
     "text": [
      "EvaluatorHoldout: Processed 35569 (100.0%) in 14.99 sec. Users per second: 2373\n",
      "EvaluatorHoldout: Processed 35581 (100.0%) in 15.00 sec. Users per second: 2372\n",
      "EvaluatorHoldout: Processed 35569 (100.0%) in 15.13 sec. Users per second: 2351\n",
      "EvaluatorHoldout: Processed 35573 (100.0%) in 15.16 sec. Users per second: 2347\n",
      "EvaluatorHoldout: Processed 35567 (100.0%) in 15.17 sec. Users per second: 2345\n",
      "EvaluatorHoldout: Processed 35582 (100.0%) in 15.14 sec. Users per second: 2350\n",
      "EvaluatorHoldout: Processed 35567 (100.0%) in 15.12 sec. Users per second: 2352\n",
      "EvaluatorHoldout: Processed 35578 (100.0%) in 15.08 sec. Users per second: 2359\n",
      "EvaluatorHoldout: Processed 35563 (100.0%) in 15.08 sec. Users per second: 2359\n",
      "EvaluatorHoldout: Processed 35560 (100.0%) in 15.11 sec. Users per second: 2353\n"
     ]
    },
    {
     "name": "stderr",
     "output_type": "stream",
     "text": [
      "[I 2024-12-24 23:46:07,336] Trial 63 finished with value: 0.06133099710745119 and parameters: {'alpha': 0.6102992058799227}. Best is trial 58 with value: 0.06147822639346223.\n",
      "/var/folders/50/7hjr20g17_18p725nbt0qqv00000gn/T/ipykernel_49684/3888098177.py:2: FutureWarning: suggest_uniform has been deprecated in v3.0.0. This feature will be removed in v6.0.0. See https://github.com/optuna/optuna/releases/tag/v3.0.0. Use suggest_float instead.\n",
      "  alpha = trial.suggest_uniform('alpha', 0.0, 1.0)\n"
     ]
    },
    {
     "name": "stdout",
     "output_type": "stream",
     "text": [
      "EvaluatorHoldout: Processed 35569 (100.0%) in 15.07 sec. Users per second: 2360\n",
      "EvaluatorHoldout: Processed 35581 (100.0%) in 15.00 sec. Users per second: 2372\n",
      "EvaluatorHoldout: Processed 35569 (100.0%) in 15.13 sec. Users per second: 2351\n",
      "EvaluatorHoldout: Processed 35573 (100.0%) in 15.11 sec. Users per second: 2354\n",
      "EvaluatorHoldout: Processed 35567 (100.0%) in 15.15 sec. Users per second: 2347\n",
      "EvaluatorHoldout: Processed 35582 (100.0%) in 15.17 sec. Users per second: 2346\n",
      "EvaluatorHoldout: Processed 35567 (100.0%) in 15.11 sec. Users per second: 2353\n",
      "EvaluatorHoldout: Processed 35578 (100.0%) in 15.12 sec. Users per second: 2353\n",
      "EvaluatorHoldout: Processed 35563 (100.0%) in 15.09 sec. Users per second: 2356\n",
      "EvaluatorHoldout: Processed 35560 (100.0%) in 15.11 sec. Users per second: 2353\n"
     ]
    },
    {
     "name": "stderr",
     "output_type": "stream",
     "text": [
      "[I 2024-12-24 23:48:38,770] Trial 64 finished with value: 0.061157278131999206 and parameters: {'alpha': 0.5537235482130608}. Best is trial 58 with value: 0.06147822639346223.\n",
      "/var/folders/50/7hjr20g17_18p725nbt0qqv00000gn/T/ipykernel_49684/3888098177.py:2: FutureWarning: suggest_uniform has been deprecated in v3.0.0. This feature will be removed in v6.0.0. See https://github.com/optuna/optuna/releases/tag/v3.0.0. Use suggest_float instead.\n",
      "  alpha = trial.suggest_uniform('alpha', 0.0, 1.0)\n"
     ]
    },
    {
     "name": "stdout",
     "output_type": "stream",
     "text": [
      "EvaluatorHoldout: Processed 35569 (100.0%) in 15.02 sec. Users per second: 2369\n",
      "EvaluatorHoldout: Processed 35581 (100.0%) in 14.98 sec. Users per second: 2376\n",
      "EvaluatorHoldout: Processed 35569 (100.0%) in 15.14 sec. Users per second: 2350\n",
      "EvaluatorHoldout: Processed 35573 (100.0%) in 15.10 sec. Users per second: 2356\n",
      "EvaluatorHoldout: Processed 35567 (100.0%) in 15.15 sec. Users per second: 2347\n",
      "EvaluatorHoldout: Processed 35582 (100.0%) in 15.18 sec. Users per second: 2343\n",
      "EvaluatorHoldout: Processed 35567 (100.0%) in 15.14 sec. Users per second: 2349\n",
      "EvaluatorHoldout: Processed 35578 (100.0%) in 15.11 sec. Users per second: 2354\n",
      "EvaluatorHoldout: Processed 35563 (100.0%) in 15.07 sec. Users per second: 2360\n",
      "EvaluatorHoldout: Processed 35560 (100.0%) in 15.16 sec. Users per second: 2345\n"
     ]
    },
    {
     "name": "stderr",
     "output_type": "stream",
     "text": [
      "[I 2024-12-24 23:51:10,172] Trial 65 finished with value: 0.06146702028694247 and parameters: {'alpha': 0.6974709448874922}. Best is trial 58 with value: 0.06147822639346223.\n",
      "/var/folders/50/7hjr20g17_18p725nbt0qqv00000gn/T/ipykernel_49684/3888098177.py:2: FutureWarning: suggest_uniform has been deprecated in v3.0.0. This feature will be removed in v6.0.0. See https://github.com/optuna/optuna/releases/tag/v3.0.0. Use suggest_float instead.\n",
      "  alpha = trial.suggest_uniform('alpha', 0.0, 1.0)\n"
     ]
    },
    {
     "name": "stdout",
     "output_type": "stream",
     "text": [
      "EvaluatorHoldout: Processed 35569 (100.0%) in 14.99 sec. Users per second: 2373\n",
      "EvaluatorHoldout: Processed 35581 (100.0%) in 14.92 sec. Users per second: 2384\n",
      "EvaluatorHoldout: Processed 35569 (100.0%) in 15.18 sec. Users per second: 2344\n",
      "EvaluatorHoldout: Processed 35573 (100.0%) in 15.17 sec. Users per second: 2346\n",
      "EvaluatorHoldout: Processed 35567 (100.0%) in 15.18 sec. Users per second: 2343\n",
      "EvaluatorHoldout: Processed 35582 (100.0%) in 15.18 sec. Users per second: 2344\n",
      "EvaluatorHoldout: Processed 35567 (100.0%) in 15.12 sec. Users per second: 2352\n",
      "EvaluatorHoldout: Processed 35578 (100.0%) in 15.11 sec. Users per second: 2355\n",
      "EvaluatorHoldout: Processed 35563 (100.0%) in 15.10 sec. Users per second: 2355\n",
      "EvaluatorHoldout: Processed 35560 (100.0%) in 15.11 sec. Users per second: 2354\n"
     ]
    },
    {
     "name": "stderr",
     "output_type": "stream",
     "text": [
      "[I 2024-12-24 23:53:41,614] Trial 66 finished with value: 0.06147524348747806 and parameters: {'alpha': 0.7394599336238546}. Best is trial 58 with value: 0.06147822639346223.\n",
      "/var/folders/50/7hjr20g17_18p725nbt0qqv00000gn/T/ipykernel_49684/3888098177.py:2: FutureWarning: suggest_uniform has been deprecated in v3.0.0. This feature will be removed in v6.0.0. See https://github.com/optuna/optuna/releases/tag/v3.0.0. Use suggest_float instead.\n",
      "  alpha = trial.suggest_uniform('alpha', 0.0, 1.0)\n"
     ]
    },
    {
     "name": "stdout",
     "output_type": "stream",
     "text": [
      "EvaluatorHoldout: Processed 35569 (100.0%) in 15.16 sec. Users per second: 2346\n",
      "EvaluatorHoldout: Processed 35581 (100.0%) in 15.08 sec. Users per second: 2360\n",
      "EvaluatorHoldout: Processed 35569 (100.0%) in 15.17 sec. Users per second: 2344\n",
      "EvaluatorHoldout: Processed 35573 (100.0%) in 15.17 sec. Users per second: 2345\n",
      "EvaluatorHoldout: Processed 35567 (100.0%) in 15.24 sec. Users per second: 2333\n",
      "EvaluatorHoldout: Processed 35582 (100.0%) in 15.16 sec. Users per second: 2348\n",
      "EvaluatorHoldout: Processed 35567 (100.0%) in 15.11 sec. Users per second: 2354\n",
      "EvaluatorHoldout: Processed 35578 (100.0%) in 15.08 sec. Users per second: 2359\n",
      "EvaluatorHoldout: Processed 35563 (100.0%) in 15.19 sec. Users per second: 2342\n",
      "EvaluatorHoldout: Processed 35560 (100.0%) in 15.13 sec. Users per second: 2351\n"
     ]
    },
    {
     "name": "stderr",
     "output_type": "stream",
     "text": [
      "[I 2024-12-24 23:56:13,441] Trial 67 finished with value: 0.06141828494240546 and parameters: {'alpha': 0.8070684547633767}. Best is trial 58 with value: 0.06147822639346223.\n",
      "/var/folders/50/7hjr20g17_18p725nbt0qqv00000gn/T/ipykernel_49684/3888098177.py:2: FutureWarning: suggest_uniform has been deprecated in v3.0.0. This feature will be removed in v6.0.0. See https://github.com/optuna/optuna/releases/tag/v3.0.0. Use suggest_float instead.\n",
      "  alpha = trial.suggest_uniform('alpha', 0.0, 1.0)\n"
     ]
    },
    {
     "name": "stdout",
     "output_type": "stream",
     "text": [
      "EvaluatorHoldout: Processed 35569 (100.0%) in 15.10 sec. Users per second: 2356\n",
      "EvaluatorHoldout: Processed 35581 (100.0%) in 15.03 sec. Users per second: 2367\n",
      "EvaluatorHoldout: Processed 35569 (100.0%) in 15.25 sec. Users per second: 2333\n",
      "EvaluatorHoldout: Processed 35573 (100.0%) in 15.16 sec. Users per second: 2346\n",
      "EvaluatorHoldout: Processed 35567 (100.0%) in 15.16 sec. Users per second: 2347\n",
      "EvaluatorHoldout: Processed 35582 (100.0%) in 15.16 sec. Users per second: 2348\n",
      "EvaluatorHoldout: Processed 35567 (100.0%) in 15.08 sec. Users per second: 2359\n",
      "EvaluatorHoldout: Processed 35578 (100.0%) in 15.09 sec. Users per second: 2357\n",
      "EvaluatorHoldout: Processed 35563 (100.0%) in 15.12 sec. Users per second: 2352\n",
      "EvaluatorHoldout: Processed 35560 (100.0%) in 15.08 sec. Users per second: 2359\n"
     ]
    },
    {
     "name": "stderr",
     "output_type": "stream",
     "text": [
      "[I 2024-12-24 23:58:45,009] Trial 68 finished with value: 0.06144706695355155 and parameters: {'alpha': 0.7877337038925658}. Best is trial 58 with value: 0.06147822639346223.\n",
      "/var/folders/50/7hjr20g17_18p725nbt0qqv00000gn/T/ipykernel_49684/3888098177.py:2: FutureWarning: suggest_uniform has been deprecated in v3.0.0. This feature will be removed in v6.0.0. See https://github.com/optuna/optuna/releases/tag/v3.0.0. Use suggest_float instead.\n",
      "  alpha = trial.suggest_uniform('alpha', 0.0, 1.0)\n"
     ]
    },
    {
     "name": "stdout",
     "output_type": "stream",
     "text": [
      "EvaluatorHoldout: Processed 35569 (100.0%) in 15.13 sec. Users per second: 2352\n",
      "EvaluatorHoldout: Processed 35581 (100.0%) in 15.09 sec. Users per second: 2358\n",
      "EvaluatorHoldout: Processed 35569 (100.0%) in 15.17 sec. Users per second: 2345\n",
      "EvaluatorHoldout: Processed 35573 (100.0%) in 15.21 sec. Users per second: 2338\n",
      "EvaluatorHoldout: Processed 35567 (100.0%) in 15.18 sec. Users per second: 2342\n",
      "EvaluatorHoldout: Processed 35582 (100.0%) in 15.13 sec. Users per second: 2351\n",
      "EvaluatorHoldout: Processed 35567 (100.0%) in 15.17 sec. Users per second: 2344\n",
      "EvaluatorHoldout: Processed 35578 (100.0%) in 15.11 sec. Users per second: 2355\n",
      "EvaluatorHoldout: Processed 35563 (100.0%) in 15.14 sec. Users per second: 2350\n",
      "EvaluatorHoldout: Processed 35560 (100.0%) in 15.11 sec. Users per second: 2354\n"
     ]
    },
    {
     "name": "stderr",
     "output_type": "stream",
     "text": [
      "[I 2024-12-25 00:01:16,803] Trial 69 finished with value: 0.06137249231785945 and parameters: {'alpha': 0.8363329947555678}. Best is trial 58 with value: 0.06147822639346223.\n",
      "/var/folders/50/7hjr20g17_18p725nbt0qqv00000gn/T/ipykernel_49684/3888098177.py:2: FutureWarning: suggest_uniform has been deprecated in v3.0.0. This feature will be removed in v6.0.0. See https://github.com/optuna/optuna/releases/tag/v3.0.0. Use suggest_float instead.\n",
      "  alpha = trial.suggest_uniform('alpha', 0.0, 1.0)\n"
     ]
    },
    {
     "name": "stdout",
     "output_type": "stream",
     "text": [
      "EvaluatorHoldout: Processed 35569 (100.0%) in 15.13 sec. Users per second: 2350\n",
      "EvaluatorHoldout: Processed 35581 (100.0%) in 15.14 sec. Users per second: 2350\n",
      "EvaluatorHoldout: Processed 35569 (100.0%) in 15.19 sec. Users per second: 2342\n",
      "EvaluatorHoldout: Processed 35573 (100.0%) in 15.13 sec. Users per second: 2352\n",
      "EvaluatorHoldout: Processed 35567 (100.0%) in 15.28 sec. Users per second: 2328\n",
      "EvaluatorHoldout: Processed 35582 (100.0%) in 15.14 sec. Users per second: 2350\n",
      "EvaluatorHoldout: Processed 35567 (100.0%) in 15.15 sec. Users per second: 2348\n",
      "EvaluatorHoldout: Processed 35578 (100.0%) in 15.11 sec. Users per second: 2354\n",
      "EvaluatorHoldout: Processed 35563 (100.0%) in 15.14 sec. Users per second: 2350\n",
      "EvaluatorHoldout: Processed 35560 (100.0%) in 15.13 sec. Users per second: 2350\n"
     ]
    },
    {
     "name": "stderr",
     "output_type": "stream",
     "text": [
      "[I 2024-12-25 00:03:48,686] Trial 70 finished with value: 0.06146009413499204 and parameters: {'alpha': 0.6841373737285743}. Best is trial 58 with value: 0.06147822639346223.\n",
      "/var/folders/50/7hjr20g17_18p725nbt0qqv00000gn/T/ipykernel_49684/3888098177.py:2: FutureWarning: suggest_uniform has been deprecated in v3.0.0. This feature will be removed in v6.0.0. See https://github.com/optuna/optuna/releases/tag/v3.0.0. Use suggest_float instead.\n",
      "  alpha = trial.suggest_uniform('alpha', 0.0, 1.0)\n"
     ]
    },
    {
     "name": "stdout",
     "output_type": "stream",
     "text": [
      "EvaluatorHoldout: Processed 35569 (100.0%) in 15.09 sec. Users per second: 2357\n",
      "EvaluatorHoldout: Processed 35581 (100.0%) in 15.10 sec. Users per second: 2357\n",
      "EvaluatorHoldout: Processed 35569 (100.0%) in 15.19 sec. Users per second: 2342\n",
      "EvaluatorHoldout: Processed 35573 (100.0%) in 15.14 sec. Users per second: 2349\n",
      "EvaluatorHoldout: Processed 35567 (100.0%) in 15.23 sec. Users per second: 2335\n",
      "EvaluatorHoldout: Processed 35582 (100.0%) in 15.17 sec. Users per second: 2346\n",
      "EvaluatorHoldout: Processed 35567 (100.0%) in 15.13 sec. Users per second: 2351\n",
      "EvaluatorHoldout: Processed 35578 (100.0%) in 15.12 sec. Users per second: 2353\n",
      "EvaluatorHoldout: Processed 35563 (100.0%) in 15.15 sec. Users per second: 2347\n",
      "EvaluatorHoldout: Processed 35560 (100.0%) in 15.07 sec. Users per second: 2360\n"
     ]
    },
    {
     "name": "stderr",
     "output_type": "stream",
     "text": [
      "[I 2024-12-25 00:06:20,417] Trial 71 finished with value: 0.06146755535539068 and parameters: {'alpha': 0.7328823429604171}. Best is trial 58 with value: 0.06147822639346223.\n",
      "/var/folders/50/7hjr20g17_18p725nbt0qqv00000gn/T/ipykernel_49684/3888098177.py:2: FutureWarning: suggest_uniform has been deprecated in v3.0.0. This feature will be removed in v6.0.0. See https://github.com/optuna/optuna/releases/tag/v3.0.0. Use suggest_float instead.\n",
      "  alpha = trial.suggest_uniform('alpha', 0.0, 1.0)\n"
     ]
    },
    {
     "name": "stdout",
     "output_type": "stream",
     "text": [
      "EvaluatorHoldout: Processed 35569 (100.0%) in 15.11 sec. Users per second: 2355\n",
      "EvaluatorHoldout: Processed 35581 (100.0%) in 15.08 sec. Users per second: 2360\n",
      "EvaluatorHoldout: Processed 35569 (100.0%) in 15.18 sec. Users per second: 2343\n",
      "EvaluatorHoldout: Processed 35573 (100.0%) in 15.12 sec. Users per second: 2352\n",
      "EvaluatorHoldout: Processed 35567 (100.0%) in 15.19 sec. Users per second: 2342\n",
      "EvaluatorHoldout: Processed 35582 (100.0%) in 15.08 sec. Users per second: 2360\n",
      "EvaluatorHoldout: Processed 35567 (100.0%) in 15.14 sec. Users per second: 2349\n",
      "EvaluatorHoldout: Processed 35578 (100.0%) in 15.09 sec. Users per second: 2357\n",
      "EvaluatorHoldout: Processed 35563 (100.0%) in 15.13 sec. Users per second: 2350\n",
      "EvaluatorHoldout: Processed 35560 (100.0%) in 15.09 sec. Users per second: 2356\n"
     ]
    },
    {
     "name": "stderr",
     "output_type": "stream",
     "text": [
      "[I 2024-12-25 00:08:52,036] Trial 72 finished with value: 0.06147879852097141 and parameters: {'alpha': 0.7414857378820595}. Best is trial 72 with value: 0.06147879852097141.\n",
      "/var/folders/50/7hjr20g17_18p725nbt0qqv00000gn/T/ipykernel_49684/3888098177.py:2: FutureWarning: suggest_uniform has been deprecated in v3.0.0. This feature will be removed in v6.0.0. See https://github.com/optuna/optuna/releases/tag/v3.0.0. Use suggest_float instead.\n",
      "  alpha = trial.suggest_uniform('alpha', 0.0, 1.0)\n"
     ]
    },
    {
     "name": "stdout",
     "output_type": "stream",
     "text": [
      "EvaluatorHoldout: Processed 35569 (100.0%) in 15.14 sec. Users per second: 2350\n",
      "EvaluatorHoldout: Processed 35581 (100.0%) in 15.11 sec. Users per second: 2354\n",
      "EvaluatorHoldout: Processed 35569 (100.0%) in 15.17 sec. Users per second: 2345\n",
      "EvaluatorHoldout: Processed 35573 (100.0%) in 15.14 sec. Users per second: 2350\n",
      "EvaluatorHoldout: Processed 35567 (100.0%) in 15.23 sec. Users per second: 2336\n",
      "EvaluatorHoldout: Processed 35582 (100.0%) in 15.13 sec. Users per second: 2352\n",
      "EvaluatorHoldout: Processed 35567 (100.0%) in 15.11 sec. Users per second: 2354\n",
      "EvaluatorHoldout: Processed 35578 (100.0%) in 15.13 sec. Users per second: 2352\n",
      "EvaluatorHoldout: Processed 35563 (100.0%) in 15.20 sec. Users per second: 2340\n",
      "EvaluatorHoldout: Processed 35560 (100.0%) in 15.09 sec. Users per second: 2356\n"
     ]
    },
    {
     "name": "stderr",
     "output_type": "stream",
     "text": [
      "[I 2024-12-25 00:11:23,824] Trial 73 finished with value: 0.06140904823965745 and parameters: {'alpha': 0.6462717847816424}. Best is trial 72 with value: 0.06147879852097141.\n",
      "/var/folders/50/7hjr20g17_18p725nbt0qqv00000gn/T/ipykernel_49684/3888098177.py:2: FutureWarning: suggest_uniform has been deprecated in v3.0.0. This feature will be removed in v6.0.0. See https://github.com/optuna/optuna/releases/tag/v3.0.0. Use suggest_float instead.\n",
      "  alpha = trial.suggest_uniform('alpha', 0.0, 1.0)\n"
     ]
    },
    {
     "name": "stdout",
     "output_type": "stream",
     "text": [
      "EvaluatorHoldout: Processed 35569 (100.0%) in 15.09 sec. Users per second: 2357\n",
      "EvaluatorHoldout: Processed 35581 (100.0%) in 15.10 sec. Users per second: 2357\n",
      "EvaluatorHoldout: Processed 35569 (100.0%) in 15.19 sec. Users per second: 2341\n",
      "EvaluatorHoldout: Processed 35573 (100.0%) in 15.13 sec. Users per second: 2351\n",
      "EvaluatorHoldout: Processed 35567 (100.0%) in 15.19 sec. Users per second: 2342\n",
      "EvaluatorHoldout: Processed 35582 (100.0%) in 15.13 sec. Users per second: 2352\n",
      "EvaluatorHoldout: Processed 35567 (100.0%) in 15.16 sec. Users per second: 2346\n",
      "EvaluatorHoldout: Processed 35578 (100.0%) in 15.12 sec. Users per second: 2353\n",
      "EvaluatorHoldout: Processed 35563 (100.0%) in 15.14 sec. Users per second: 2348\n",
      "EvaluatorHoldout: Processed 35560 (100.0%) in 15.16 sec. Users per second: 2345\n"
     ]
    },
    {
     "name": "stderr",
     "output_type": "stream",
     "text": [
      "[I 2024-12-25 00:13:55,592] Trial 74 finished with value: 0.061465773471992405 and parameters: {'alpha': 0.767779292261877}. Best is trial 72 with value: 0.06147879852097141.\n",
      "/var/folders/50/7hjr20g17_18p725nbt0qqv00000gn/T/ipykernel_49684/3888098177.py:2: FutureWarning: suggest_uniform has been deprecated in v3.0.0. This feature will be removed in v6.0.0. See https://github.com/optuna/optuna/releases/tag/v3.0.0. Use suggest_float instead.\n",
      "  alpha = trial.suggest_uniform('alpha', 0.0, 1.0)\n"
     ]
    },
    {
     "name": "stdout",
     "output_type": "stream",
     "text": [
      "EvaluatorHoldout: Processed 35569 (100.0%) in 15.10 sec. Users per second: 2355\n",
      "EvaluatorHoldout: Processed 35581 (100.0%) in 15.14 sec. Users per second: 2350\n",
      "EvaluatorHoldout: Processed 35569 (100.0%) in 15.19 sec. Users per second: 2341\n",
      "EvaluatorHoldout: Processed 35573 (100.0%) in 15.15 sec. Users per second: 2348\n",
      "EvaluatorHoldout: Processed 35567 (100.0%) in 15.22 sec. Users per second: 2337\n",
      "EvaluatorHoldout: Processed 35582 (100.0%) in 15.17 sec. Users per second: 2346\n",
      "EvaluatorHoldout: Processed 35567 (100.0%) in 15.13 sec. Users per second: 2351\n",
      "EvaluatorHoldout: Processed 35578 (100.0%) in 15.12 sec. Users per second: 2353\n",
      "EvaluatorHoldout: Processed 35563 (100.0%) in 15.15 sec. Users per second: 2347\n",
      "EvaluatorHoldout: Processed 35560 (100.0%) in 15.15 sec. Users per second: 2348\n"
     ]
    },
    {
     "name": "stderr",
     "output_type": "stream",
     "text": [
      "[I 2024-12-25 00:16:27,463] Trial 75 finished with value: 0.06146575534131106 and parameters: {'alpha': 0.6914151584794671}. Best is trial 72 with value: 0.06147879852097141.\n",
      "/var/folders/50/7hjr20g17_18p725nbt0qqv00000gn/T/ipykernel_49684/3888098177.py:2: FutureWarning: suggest_uniform has been deprecated in v3.0.0. This feature will be removed in v6.0.0. See https://github.com/optuna/optuna/releases/tag/v3.0.0. Use suggest_float instead.\n",
      "  alpha = trial.suggest_uniform('alpha', 0.0, 1.0)\n"
     ]
    },
    {
     "name": "stdout",
     "output_type": "stream",
     "text": [
      "EvaluatorHoldout: Processed 35569 (100.0%) in 15.16 sec. Users per second: 2346\n",
      "EvaluatorHoldout: Processed 35581 (100.0%) in 15.10 sec. Users per second: 2357\n",
      "EvaluatorHoldout: Processed 35569 (100.0%) in 15.15 sec. Users per second: 2348\n",
      "EvaluatorHoldout: Processed 35573 (100.0%) in 15.21 sec. Users per second: 2339\n",
      "EvaluatorHoldout: Processed 35567 (100.0%) in 15.17 sec. Users per second: 2345\n",
      "EvaluatorHoldout: Processed 35582 (100.0%) in 15.17 sec. Users per second: 2345\n",
      "EvaluatorHoldout: Processed 35567 (100.0%) in 15.13 sec. Users per second: 2350\n",
      "EvaluatorHoldout: Processed 35578 (100.0%) in 15.12 sec. Users per second: 2352\n",
      "EvaluatorHoldout: Processed 35563 (100.0%) in 15.07 sec. Users per second: 2359\n",
      "EvaluatorHoldout: Processed 35560 (100.0%) in 15.12 sec. Users per second: 2352\n"
     ]
    },
    {
     "name": "stderr",
     "output_type": "stream",
     "text": [
      "[I 2024-12-25 00:18:59,222] Trial 76 finished with value: 0.061235191291113565 and parameters: {'alpha': 0.8856901978911089}. Best is trial 72 with value: 0.06147879852097141.\n",
      "/var/folders/50/7hjr20g17_18p725nbt0qqv00000gn/T/ipykernel_49684/3888098177.py:2: FutureWarning: suggest_uniform has been deprecated in v3.0.0. This feature will be removed in v6.0.0. See https://github.com/optuna/optuna/releases/tag/v3.0.0. Use suggest_float instead.\n",
      "  alpha = trial.suggest_uniform('alpha', 0.0, 1.0)\n"
     ]
    },
    {
     "name": "stdout",
     "output_type": "stream",
     "text": [
      "EvaluatorHoldout: Processed 35569 (100.0%) in 15.13 sec. Users per second: 2352\n",
      "EvaluatorHoldout: Processed 35581 (100.0%) in 15.13 sec. Users per second: 2352\n",
      "EvaluatorHoldout: Processed 35569 (100.0%) in 15.26 sec. Users per second: 2330\n",
      "EvaluatorHoldout: Processed 35573 (100.0%) in 15.19 sec. Users per second: 2342\n",
      "EvaluatorHoldout: Processed 35567 (100.0%) in 15.22 sec. Users per second: 2337\n",
      "EvaluatorHoldout: Processed 35582 (100.0%) in 15.17 sec. Users per second: 2346\n",
      "EvaluatorHoldout: Processed 35567 (100.0%) in 15.08 sec. Users per second: 2358\n",
      "EvaluatorHoldout: Processed 35578 (100.0%) in 15.17 sec. Users per second: 2346\n",
      "EvaluatorHoldout: Processed 35563 (100.0%) in 15.13 sec. Users per second: 2350\n",
      "EvaluatorHoldout: Processed 35560 (100.0%) in 15.14 sec. Users per second: 2349\n"
     ]
    },
    {
     "name": "stderr",
     "output_type": "stream",
     "text": [
      "[I 2024-12-25 00:21:31,184] Trial 77 finished with value: 0.06147646494992191 and parameters: {'alpha': 0.7380578813997698}. Best is trial 72 with value: 0.06147879852097141.\n",
      "/var/folders/50/7hjr20g17_18p725nbt0qqv00000gn/T/ipykernel_49684/3888098177.py:2: FutureWarning: suggest_uniform has been deprecated in v3.0.0. This feature will be removed in v6.0.0. See https://github.com/optuna/optuna/releases/tag/v3.0.0. Use suggest_float instead.\n",
      "  alpha = trial.suggest_uniform('alpha', 0.0, 1.0)\n"
     ]
    },
    {
     "name": "stdout",
     "output_type": "stream",
     "text": [
      "EvaluatorHoldout: Processed 35569 (100.0%) in 15.12 sec. Users per second: 2353\n",
      "EvaluatorHoldout: Processed 35581 (100.0%) in 15.13 sec. Users per second: 2351\n",
      "EvaluatorHoldout: Processed 35569 (100.0%) in 15.18 sec. Users per second: 2344\n",
      "EvaluatorHoldout: Processed 35573 (100.0%) in 15.25 sec. Users per second: 2333\n",
      "EvaluatorHoldout: Processed 35567 (100.0%) in 15.19 sec. Users per second: 2341\n",
      "EvaluatorHoldout: Processed 35582 (100.0%) in 15.18 sec. Users per second: 2344\n",
      "EvaluatorHoldout: Processed 35567 (100.0%) in 15.14 sec. Users per second: 2349\n",
      "EvaluatorHoldout: Processed 35578 (100.0%) in 15.17 sec. Users per second: 2345\n",
      "EvaluatorHoldout: Processed 35563 (100.0%) in 15.11 sec. Users per second: 2353\n",
      "EvaluatorHoldout: Processed 35560 (100.0%) in 15.21 sec. Users per second: 2337\n"
     ]
    },
    {
     "name": "stderr",
     "output_type": "stream",
     "text": [
      "[I 2024-12-25 00:24:03,245] Trial 78 finished with value: 0.06145031716160117 and parameters: {'alpha': 0.7818172159142496}. Best is trial 72 with value: 0.06147879852097141.\n",
      "/var/folders/50/7hjr20g17_18p725nbt0qqv00000gn/T/ipykernel_49684/3888098177.py:2: FutureWarning: suggest_uniform has been deprecated in v3.0.0. This feature will be removed in v6.0.0. See https://github.com/optuna/optuna/releases/tag/v3.0.0. Use suggest_float instead.\n",
      "  alpha = trial.suggest_uniform('alpha', 0.0, 1.0)\n"
     ]
    },
    {
     "name": "stdout",
     "output_type": "stream",
     "text": [
      "EvaluatorHoldout: Processed 35569 (100.0%) in 15.13 sec. Users per second: 2351\n",
      "EvaluatorHoldout: Processed 35581 (100.0%) in 15.16 sec. Users per second: 2348\n",
      "EvaluatorHoldout: Processed 35569 (100.0%) in 15.18 sec. Users per second: 2343\n",
      "EvaluatorHoldout: Processed 35573 (100.0%) in 15.21 sec. Users per second: 2338\n",
      "EvaluatorHoldout: Processed 35567 (100.0%) in 15.18 sec. Users per second: 2343\n",
      "EvaluatorHoldout: Processed 35582 (100.0%) in 15.31 sec. Users per second: 2324\n",
      "EvaluatorHoldout: Processed 35567 (100.0%) in 15.16 sec. Users per second: 2346\n",
      "EvaluatorHoldout: Processed 35578 (100.0%) in 15.15 sec. Users per second: 2348\n",
      "EvaluatorHoldout: Processed 35563 (100.0%) in 15.11 sec. Users per second: 2354\n",
      "EvaluatorHoldout: Processed 35560 (100.0%) in 15.16 sec. Users per second: 2346\n"
     ]
    },
    {
     "name": "stderr",
     "output_type": "stream",
     "text": [
      "[I 2024-12-25 00:26:35,343] Trial 79 finished with value: 0.061474195214103834 and parameters: {'alpha': 0.7436441132105338}. Best is trial 72 with value: 0.06147879852097141.\n",
      "/var/folders/50/7hjr20g17_18p725nbt0qqv00000gn/T/ipykernel_49684/3888098177.py:2: FutureWarning: suggest_uniform has been deprecated in v3.0.0. This feature will be removed in v6.0.0. See https://github.com/optuna/optuna/releases/tag/v3.0.0. Use suggest_float instead.\n",
      "  alpha = trial.suggest_uniform('alpha', 0.0, 1.0)\n"
     ]
    },
    {
     "name": "stdout",
     "output_type": "stream",
     "text": [
      "EvaluatorHoldout: Processed 35569 (100.0%) in 15.14 sec. Users per second: 2349\n",
      "EvaluatorHoldout: Processed 35581 (100.0%) in 15.21 sec. Users per second: 2339\n",
      "EvaluatorHoldout: Processed 35569 (100.0%) in 15.17 sec. Users per second: 2345\n",
      "EvaluatorHoldout: Processed 35573 (100.0%) in 15.15 sec. Users per second: 2347\n",
      "EvaluatorHoldout: Processed 35567 (100.0%) in 15.17 sec. Users per second: 2345\n",
      "EvaluatorHoldout: Processed 35582 (100.0%) in 15.21 sec. Users per second: 2339\n",
      "EvaluatorHoldout: Processed 35567 (100.0%) in 15.21 sec. Users per second: 2338\n",
      "EvaluatorHoldout: Processed 35578 (100.0%) in 15.16 sec. Users per second: 2346\n",
      "EvaluatorHoldout: Processed 35563 (100.0%) in 15.12 sec. Users per second: 2351\n",
      "EvaluatorHoldout: Processed 35560 (100.0%) in 15.20 sec. Users per second: 2339\n"
     ]
    },
    {
     "name": "stderr",
     "output_type": "stream",
     "text": [
      "[I 2024-12-25 00:29:07,446] Trial 80 finished with value: 0.061327924618560216 and parameters: {'alpha': 0.8501267617980288}. Best is trial 72 with value: 0.06147879852097141.\n",
      "/var/folders/50/7hjr20g17_18p725nbt0qqv00000gn/T/ipykernel_49684/3888098177.py:2: FutureWarning: suggest_uniform has been deprecated in v3.0.0. This feature will be removed in v6.0.0. See https://github.com/optuna/optuna/releases/tag/v3.0.0. Use suggest_float instead.\n",
      "  alpha = trial.suggest_uniform('alpha', 0.0, 1.0)\n"
     ]
    },
    {
     "name": "stdout",
     "output_type": "stream",
     "text": [
      "EvaluatorHoldout: Processed 35569 (100.0%) in 15.15 sec. Users per second: 2348\n",
      "EvaluatorHoldout: Processed 35581 (100.0%) in 15.15 sec. Users per second: 2348\n",
      "EvaluatorHoldout: Processed 35569 (100.0%) in 15.18 sec. Users per second: 2343\n",
      "EvaluatorHoldout: Processed 35573 (100.0%) in 15.18 sec. Users per second: 2343\n",
      "EvaluatorHoldout: Processed 35567 (100.0%) in 15.17 sec. Users per second: 2344\n",
      "EvaluatorHoldout: Processed 35582 (100.0%) in 15.17 sec. Users per second: 2346\n",
      "EvaluatorHoldout: Processed 35567 (100.0%) in 15.14 sec. Users per second: 2350\n",
      "EvaluatorHoldout: Processed 35578 (100.0%) in 15.16 sec. Users per second: 2347\n",
      "EvaluatorHoldout: Processed 35563 (100.0%) in 15.18 sec. Users per second: 2343\n",
      "EvaluatorHoldout: Processed 35560 (100.0%) in 15.14 sec. Users per second: 2348\n"
     ]
    },
    {
     "name": "stderr",
     "output_type": "stream",
     "text": [
      "[I 2024-12-25 00:31:39,414] Trial 81 finished with value: 0.06147192816533233 and parameters: {'alpha': 0.746906781744292}. Best is trial 72 with value: 0.06147879852097141.\n",
      "/var/folders/50/7hjr20g17_18p725nbt0qqv00000gn/T/ipykernel_49684/3888098177.py:2: FutureWarning: suggest_uniform has been deprecated in v3.0.0. This feature will be removed in v6.0.0. See https://github.com/optuna/optuna/releases/tag/v3.0.0. Use suggest_float instead.\n",
      "  alpha = trial.suggest_uniform('alpha', 0.0, 1.0)\n"
     ]
    },
    {
     "name": "stdout",
     "output_type": "stream",
     "text": [
      "EvaluatorHoldout: Processed 35569 (100.0%) in 15.12 sec. Users per second: 2352\n",
      "EvaluatorHoldout: Processed 35581 (100.0%) in 15.14 sec. Users per second: 2351\n",
      "EvaluatorHoldout: Processed 35569 (100.0%) in 15.16 sec. Users per second: 2346\n",
      "EvaluatorHoldout: Processed 35573 (100.0%) in 15.23 sec. Users per second: 2336\n",
      "EvaluatorHoldout: Processed 35567 (100.0%) in 15.15 sec. Users per second: 2348\n",
      "EvaluatorHoldout: Processed 35582 (100.0%) in 15.11 sec. Users per second: 2354\n",
      "EvaluatorHoldout: Processed 35567 (100.0%) in 15.16 sec. Users per second: 2346\n",
      "EvaluatorHoldout: Processed 35578 (100.0%) in 15.19 sec. Users per second: 2342\n",
      "EvaluatorHoldout: Processed 35563 (100.0%) in 15.22 sec. Users per second: 2337\n",
      "EvaluatorHoldout: Processed 35560 (100.0%) in 15.15 sec. Users per second: 2347\n"
     ]
    },
    {
     "name": "stderr",
     "output_type": "stream",
     "text": [
      "[I 2024-12-25 00:34:11,389] Trial 82 finished with value: 0.061446907954348776 and parameters: {'alpha': 0.668990036822387}. Best is trial 72 with value: 0.06147879852097141.\n",
      "/var/folders/50/7hjr20g17_18p725nbt0qqv00000gn/T/ipykernel_49684/3888098177.py:2: FutureWarning: suggest_uniform has been deprecated in v3.0.0. This feature will be removed in v6.0.0. See https://github.com/optuna/optuna/releases/tag/v3.0.0. Use suggest_float instead.\n",
      "  alpha = trial.suggest_uniform('alpha', 0.0, 1.0)\n"
     ]
    },
    {
     "name": "stdout",
     "output_type": "stream",
     "text": [
      "EvaluatorHoldout: Processed 35569 (100.0%) in 15.13 sec. Users per second: 2350\n",
      "EvaluatorHoldout: Processed 35581 (100.0%) in 15.13 sec. Users per second: 2352\n",
      "EvaluatorHoldout: Processed 35569 (100.0%) in 15.20 sec. Users per second: 2339\n",
      "EvaluatorHoldout: Processed 35573 (100.0%) in 15.17 sec. Users per second: 2345\n",
      "EvaluatorHoldout: Processed 35567 (100.0%) in 15.20 sec. Users per second: 2340\n",
      "EvaluatorHoldout: Processed 35582 (100.0%) in 15.19 sec. Users per second: 2343\n",
      "EvaluatorHoldout: Processed 35567 (100.0%) in 15.17 sec. Users per second: 2345\n",
      "EvaluatorHoldout: Processed 35578 (100.0%) in 15.18 sec. Users per second: 2343\n",
      "EvaluatorHoldout: Processed 35563 (100.0%) in 15.20 sec. Users per second: 2340\n",
      "EvaluatorHoldout: Processed 35560 (100.0%) in 15.17 sec. Users per second: 2345\n"
     ]
    },
    {
     "name": "stderr",
     "output_type": "stream",
     "text": [
      "[I 2024-12-25 00:36:43,464] Trial 83 finished with value: 0.061468640010534446 and parameters: {'alpha': 0.7486638150773346}. Best is trial 72 with value: 0.06147879852097141.\n",
      "/var/folders/50/7hjr20g17_18p725nbt0qqv00000gn/T/ipykernel_49684/3888098177.py:2: FutureWarning: suggest_uniform has been deprecated in v3.0.0. This feature will be removed in v6.0.0. See https://github.com/optuna/optuna/releases/tag/v3.0.0. Use suggest_float instead.\n",
      "  alpha = trial.suggest_uniform('alpha', 0.0, 1.0)\n"
     ]
    },
    {
     "name": "stdout",
     "output_type": "stream",
     "text": [
      "EvaluatorHoldout: Processed 35569 (100.0%) in 15.18 sec. Users per second: 2343\n",
      "EvaluatorHoldout: Processed 35581 (100.0%) in 15.14 sec. Users per second: 2350\n",
      "EvaluatorHoldout: Processed 35569 (100.0%) in 15.18 sec. Users per second: 2343\n",
      "EvaluatorHoldout: Processed 35573 (100.0%) in 15.17 sec. Users per second: 2346\n",
      "EvaluatorHoldout: Processed 35567 (100.0%) in 15.26 sec. Users per second: 2331\n",
      "EvaluatorHoldout: Processed 35582 (100.0%) in 15.15 sec. Users per second: 2349\n",
      "EvaluatorHoldout: Processed 35567 (100.0%) in 15.15 sec. Users per second: 2347\n",
      "EvaluatorHoldout: Processed 35578 (100.0%) in 15.15 sec. Users per second: 2348\n",
      "EvaluatorHoldout: Processed 35563 (100.0%) in 15.14 sec. Users per second: 2349\n",
      "EvaluatorHoldout: Processed 35560 (100.0%) in 15.18 sec. Users per second: 2343\n"
     ]
    },
    {
     "name": "stderr",
     "output_type": "stream",
     "text": [
      "[I 2024-12-25 00:39:15,516] Trial 84 finished with value: 0.061431547154599433 and parameters: {'alpha': 0.8002016772346424}. Best is trial 72 with value: 0.06147879852097141.\n",
      "/var/folders/50/7hjr20g17_18p725nbt0qqv00000gn/T/ipykernel_49684/3888098177.py:2: FutureWarning: suggest_uniform has been deprecated in v3.0.0. This feature will be removed in v6.0.0. See https://github.com/optuna/optuna/releases/tag/v3.0.0. Use suggest_float instead.\n",
      "  alpha = trial.suggest_uniform('alpha', 0.0, 1.0)\n"
     ]
    },
    {
     "name": "stdout",
     "output_type": "stream",
     "text": [
      "EvaluatorHoldout: Processed 35569 (100.0%) in 15.16 sec. Users per second: 2347\n",
      "EvaluatorHoldout: Processed 35581 (100.0%) in 15.25 sec. Users per second: 2333\n",
      "EvaluatorHoldout: Processed 35569 (100.0%) in 15.22 sec. Users per second: 2338\n",
      "EvaluatorHoldout: Processed 35573 (100.0%) in 15.18 sec. Users per second: 2344\n",
      "EvaluatorHoldout: Processed 35567 (100.0%) in 15.22 sec. Users per second: 2337\n",
      "EvaluatorHoldout: Processed 35582 (100.0%) in 15.11 sec. Users per second: 2354\n",
      "EvaluatorHoldout: Processed 35567 (100.0%) in 15.16 sec. Users per second: 2345\n",
      "EvaluatorHoldout: Processed 35578 (100.0%) in 15.15 sec. Users per second: 2349\n",
      "EvaluatorHoldout: Processed 35563 (100.0%) in 15.72 sec. Users per second: 2263\n",
      "EvaluatorHoldout: Processed 35560 (100.0%) in 15.36 sec. Users per second: 2315\n"
     ]
    },
    {
     "name": "stderr",
     "output_type": "stream",
     "text": [
      "[I 2024-12-25 00:41:48,376] Trial 85 finished with value: 0.06138591922478239 and parameters: {'alpha': 0.8305783157436305}. Best is trial 72 with value: 0.06147879852097141.\n",
      "/var/folders/50/7hjr20g17_18p725nbt0qqv00000gn/T/ipykernel_49684/3888098177.py:2: FutureWarning: suggest_uniform has been deprecated in v3.0.0. This feature will be removed in v6.0.0. See https://github.com/optuna/optuna/releases/tag/v3.0.0. Use suggest_float instead.\n",
      "  alpha = trial.suggest_uniform('alpha', 0.0, 1.0)\n"
     ]
    },
    {
     "name": "stdout",
     "output_type": "stream",
     "text": [
      "EvaluatorHoldout: Processed 35569 (100.0%) in 14.93 sec. Users per second: 2383\n",
      "EvaluatorHoldout: Processed 35581 (100.0%) in 15.31 sec. Users per second: 2325\n",
      "EvaluatorHoldout: Processed 35569 (100.0%) in 15.22 sec. Users per second: 2338\n",
      "EvaluatorHoldout: Processed 35573 (100.0%) in 15.14 sec. Users per second: 2350\n",
      "EvaluatorHoldout: Processed 35567 (100.0%) in 15.21 sec. Users per second: 2339\n",
      "EvaluatorHoldout: Processed 35582 (100.0%) in 15.19 sec. Users per second: 2343\n",
      "EvaluatorHoldout: Processed 35567 (100.0%) in 15.20 sec. Users per second: 2340\n",
      "EvaluatorHoldout: Processed 35578 (100.0%) in 15.19 sec. Users per second: 2342\n",
      "EvaluatorHoldout: Processed 35563 (100.0%) in 15.22 sec. Users per second: 2336\n",
      "EvaluatorHoldout: Processed 35560 (100.0%) in 15.14 sec. Users per second: 2348\n"
     ]
    },
    {
     "name": "stderr",
     "output_type": "stream",
     "text": [
      "[I 2024-12-25 00:44:20,475] Trial 86 finished with value: 0.06130464303950883 and parameters: {'alpha': 0.6011962520060932}. Best is trial 72 with value: 0.06147879852097141.\n",
      "/var/folders/50/7hjr20g17_18p725nbt0qqv00000gn/T/ipykernel_49684/3888098177.py:2: FutureWarning: suggest_uniform has been deprecated in v3.0.0. This feature will be removed in v6.0.0. See https://github.com/optuna/optuna/releases/tag/v3.0.0. Use suggest_float instead.\n",
      "  alpha = trial.suggest_uniform('alpha', 0.0, 1.0)\n"
     ]
    },
    {
     "name": "stdout",
     "output_type": "stream",
     "text": [
      "EvaluatorHoldout: Processed 35569 (100.0%) in 15.18 sec. Users per second: 2344\n",
      "EvaluatorHoldout: Processed 35581 (100.0%) in 15.11 sec. Users per second: 2354\n",
      "EvaluatorHoldout: Processed 35569 (100.0%) in 15.32 sec. Users per second: 2322\n",
      "EvaluatorHoldout: Processed 35573 (100.0%) in 15.20 sec. Users per second: 2340\n",
      "EvaluatorHoldout: Processed 35567 (100.0%) in 15.25 sec. Users per second: 2332\n",
      "EvaluatorHoldout: Processed 35582 (100.0%) in 15.22 sec. Users per second: 2338\n",
      "EvaluatorHoldout: Processed 35567 (100.0%) in 15.17 sec. Users per second: 2344\n",
      "EvaluatorHoldout: Processed 35578 (100.0%) in 15.17 sec. Users per second: 2345\n",
      "EvaluatorHoldout: Processed 35563 (100.0%) in 15.19 sec. Users per second: 2342\n",
      "EvaluatorHoldout: Processed 35560 (100.0%) in 15.18 sec. Users per second: 2343\n"
     ]
    },
    {
     "name": "stderr",
     "output_type": "stream",
     "text": [
      "[I 2024-12-25 00:46:52,821] Trial 87 finished with value: 0.06118653346346324 and parameters: {'alpha': 0.5640758380652522}. Best is trial 72 with value: 0.06147879852097141.\n",
      "/var/folders/50/7hjr20g17_18p725nbt0qqv00000gn/T/ipykernel_49684/3888098177.py:2: FutureWarning: suggest_uniform has been deprecated in v3.0.0. This feature will be removed in v6.0.0. See https://github.com/optuna/optuna/releases/tag/v3.0.0. Use suggest_float instead.\n",
      "  alpha = trial.suggest_uniform('alpha', 0.0, 1.0)\n"
     ]
    },
    {
     "name": "stdout",
     "output_type": "stream",
     "text": [
      "EvaluatorHoldout: Processed 35569 (100.0%) in 15.18 sec. Users per second: 2344\n",
      "EvaluatorHoldout: Processed 35581 (100.0%) in 15.14 sec. Users per second: 2351\n",
      "EvaluatorHoldout: Processed 35569 (100.0%) in 15.22 sec. Users per second: 2337\n",
      "EvaluatorHoldout: Processed 35573 (100.0%) in 15.19 sec. Users per second: 2342\n",
      "EvaluatorHoldout: Processed 35567 (100.0%) in 15.21 sec. Users per second: 2338\n",
      "EvaluatorHoldout: Processed 35582 (100.0%) in 15.21 sec. Users per second: 2340\n",
      "EvaluatorHoldout: Processed 35567 (100.0%) in 15.18 sec. Users per second: 2344\n",
      "EvaluatorHoldout: Processed 35578 (100.0%) in 15.22 sec. Users per second: 2338\n",
      "EvaluatorHoldout: Processed 35563 (100.0%) in 15.17 sec. Users per second: 2344\n",
      "EvaluatorHoldout: Processed 35560 (100.0%) in 15.16 sec. Users per second: 2346\n"
     ]
    },
    {
     "name": "stderr",
     "output_type": "stream",
     "text": [
      "[I 2024-12-25 00:49:25,040] Trial 88 finished with value: 0.0614740043111852 and parameters: {'alpha': 0.7165912264991401}. Best is trial 72 with value: 0.06147879852097141.\n",
      "/var/folders/50/7hjr20g17_18p725nbt0qqv00000gn/T/ipykernel_49684/3888098177.py:2: FutureWarning: suggest_uniform has been deprecated in v3.0.0. This feature will be removed in v6.0.0. See https://github.com/optuna/optuna/releases/tag/v3.0.0. Use suggest_float instead.\n",
      "  alpha = trial.suggest_uniform('alpha', 0.0, 1.0)\n"
     ]
    },
    {
     "name": "stdout",
     "output_type": "stream",
     "text": [
      "EvaluatorHoldout: Processed 35569 (100.0%) in 15.13 sec. Users per second: 2350\n",
      "EvaluatorHoldout: Processed 35581 (100.0%) in 15.19 sec. Users per second: 2343\n",
      "EvaluatorHoldout: Processed 35569 (100.0%) in 15.20 sec. Users per second: 2340\n",
      "EvaluatorHoldout: Processed 35573 (100.0%) in 15.15 sec. Users per second: 2348\n",
      "EvaluatorHoldout: Processed 35567 (100.0%) in 15.17 sec. Users per second: 2345\n",
      "EvaluatorHoldout: Processed 35582 (100.0%) in 15.09 sec. Users per second: 2358\n",
      "EvaluatorHoldout: Processed 35567 (100.0%) in 15.21 sec. Users per second: 2338\n",
      "EvaluatorHoldout: Processed 35578 (100.0%) in 15.17 sec. Users per second: 2346\n",
      "EvaluatorHoldout: Processed 35563 (100.0%) in 15.00 sec. Users per second: 2371\n",
      "EvaluatorHoldout: Processed 35560 (100.0%) in 14.81 sec. Users per second: 2401\n"
     ]
    },
    {
     "name": "stderr",
     "output_type": "stream",
     "text": [
      "[I 2024-12-25 00:51:56,502] Trial 89 finished with value: 0.06138961198832915 and parameters: {'alpha': 0.6336471166685631}. Best is trial 72 with value: 0.06147879852097141.\n",
      "/var/folders/50/7hjr20g17_18p725nbt0qqv00000gn/T/ipykernel_49684/3888098177.py:2: FutureWarning: suggest_uniform has been deprecated in v3.0.0. This feature will be removed in v6.0.0. See https://github.com/optuna/optuna/releases/tag/v3.0.0. Use suggest_float instead.\n",
      "  alpha = trial.suggest_uniform('alpha', 0.0, 1.0)\n"
     ]
    },
    {
     "name": "stdout",
     "output_type": "stream",
     "text": [
      "EvaluatorHoldout: Processed 35569 (100.0%) in 15.15 sec. Users per second: 2347\n",
      "EvaluatorHoldout: Processed 35581 (100.0%) in 15.19 sec. Users per second: 2343\n",
      "EvaluatorHoldout: Processed 35569 (100.0%) in 15.17 sec. Users per second: 2344\n",
      "EvaluatorHoldout: Processed 35573 (100.0%) in 15.21 sec. Users per second: 2338\n",
      "EvaluatorHoldout: Processed 35567 (100.0%) in 15.19 sec. Users per second: 2342\n",
      "EvaluatorHoldout: Processed 35582 (100.0%) in 15.21 sec. Users per second: 2340\n",
      "EvaluatorHoldout: Processed 35567 (100.0%) in 15.21 sec. Users per second: 2339\n",
      "EvaluatorHoldout: Processed 35578 (100.0%) in 15.29 sec. Users per second: 2326\n",
      "EvaluatorHoldout: Processed 35563 (100.0%) in 15.20 sec. Users per second: 2340\n",
      "EvaluatorHoldout: Processed 35560 (100.0%) in 15.20 sec. Users per second: 2340\n"
     ]
    },
    {
     "name": "stderr",
     "output_type": "stream",
     "text": [
      "[I 2024-12-25 00:54:28,869] Trial 90 finished with value: 0.061460420772786316 and parameters: {'alpha': 0.774826869185959}. Best is trial 72 with value: 0.06147879852097141.\n",
      "/var/folders/50/7hjr20g17_18p725nbt0qqv00000gn/T/ipykernel_49684/3888098177.py:2: FutureWarning: suggest_uniform has been deprecated in v3.0.0. This feature will be removed in v6.0.0. See https://github.com/optuna/optuna/releases/tag/v3.0.0. Use suggest_float instead.\n",
      "  alpha = trial.suggest_uniform('alpha', 0.0, 1.0)\n"
     ]
    },
    {
     "name": "stdout",
     "output_type": "stream",
     "text": [
      "EvaluatorHoldout: Processed 35569 (100.0%) in 15.16 sec. Users per second: 2346\n",
      "EvaluatorHoldout: Processed 35581 (100.0%) in 15.25 sec. Users per second: 2333\n",
      "EvaluatorHoldout: Processed 35569 (100.0%) in 15.21 sec. Users per second: 2339\n",
      "EvaluatorHoldout: Processed 35573 (100.0%) in 15.20 sec. Users per second: 2340\n",
      "EvaluatorHoldout: Processed 35567 (100.0%) in 15.23 sec. Users per second: 2336\n",
      "EvaluatorHoldout: Processed 35582 (100.0%) in 15.18 sec. Users per second: 2344\n",
      "EvaluatorHoldout: Processed 35567 (100.0%) in 15.17 sec. Users per second: 2344\n",
      "EvaluatorHoldout: Processed 35578 (100.0%) in 15.18 sec. Users per second: 2344\n",
      "EvaluatorHoldout: Processed 35563 (100.0%) in 15.14 sec. Users per second: 2349\n",
      "EvaluatorHoldout: Processed 35560 (100.0%) in 15.26 sec. Users per second: 2330\n"
     ]
    },
    {
     "name": "stderr",
     "output_type": "stream",
     "text": [
      "[I 2024-12-25 00:57:01,244] Trial 91 finished with value: 0.06147405625018815 and parameters: {'alpha': 0.7127039783416402}. Best is trial 72 with value: 0.06147879852097141.\n",
      "/var/folders/50/7hjr20g17_18p725nbt0qqv00000gn/T/ipykernel_49684/3888098177.py:2: FutureWarning: suggest_uniform has been deprecated in v3.0.0. This feature will be removed in v6.0.0. See https://github.com/optuna/optuna/releases/tag/v3.0.0. Use suggest_float instead.\n",
      "  alpha = trial.suggest_uniform('alpha', 0.0, 1.0)\n"
     ]
    },
    {
     "name": "stdout",
     "output_type": "stream",
     "text": [
      "EvaluatorHoldout: Processed 35569 (100.0%) in 15.23 sec. Users per second: 2336\n",
      "EvaluatorHoldout: Processed 35581 (100.0%) in 15.19 sec. Users per second: 2342\n",
      "EvaluatorHoldout: Processed 35569 (100.0%) in 15.24 sec. Users per second: 2334\n",
      "EvaluatorHoldout: Processed 35573 (100.0%) in 15.20 sec. Users per second: 2340\n",
      "EvaluatorHoldout: Processed 35567 (100.0%) in 15.22 sec. Users per second: 2337\n",
      "EvaluatorHoldout: Processed 35582 (100.0%) in 15.21 sec. Users per second: 2339\n",
      "EvaluatorHoldout: Processed 35567 (100.0%) in 15.23 sec. Users per second: 2336\n",
      "EvaluatorHoldout: Processed 35578 (100.0%) in 15.19 sec. Users per second: 2342\n",
      "EvaluatorHoldout: Processed 35563 (100.0%) in 15.19 sec. Users per second: 2341\n",
      "EvaluatorHoldout: Processed 35560 (100.0%) in 15.25 sec. Users per second: 2332\n"
     ]
    },
    {
     "name": "stderr",
     "output_type": "stream",
     "text": [
      "[I 2024-12-25 00:59:33,741] Trial 92 finished with value: 0.061475330074869584 and parameters: {'alpha': 0.739494953462542}. Best is trial 72 with value: 0.06147879852097141.\n",
      "/var/folders/50/7hjr20g17_18p725nbt0qqv00000gn/T/ipykernel_49684/3888098177.py:2: FutureWarning: suggest_uniform has been deprecated in v3.0.0. This feature will be removed in v6.0.0. See https://github.com/optuna/optuna/releases/tag/v3.0.0. Use suggest_float instead.\n",
      "  alpha = trial.suggest_uniform('alpha', 0.0, 1.0)\n"
     ]
    },
    {
     "name": "stdout",
     "output_type": "stream",
     "text": [
      "EvaluatorHoldout: Processed 35569 (100.0%) in 15.19 sec. Users per second: 2341\n",
      "EvaluatorHoldout: Processed 35581 (100.0%) in 15.16 sec. Users per second: 2346\n",
      "EvaluatorHoldout: Processed 35569 (100.0%) in 15.15 sec. Users per second: 2347\n",
      "EvaluatorHoldout: Processed 35573 (100.0%) in 15.16 sec. Users per second: 2346\n",
      "EvaluatorHoldout: Processed 35567 (100.0%) in 15.17 sec. Users per second: 2344\n",
      "EvaluatorHoldout: Processed 35582 (100.0%) in 15.18 sec. Users per second: 2345\n",
      "EvaluatorHoldout: Processed 35567 (100.0%) in 15.21 sec. Users per second: 2339\n",
      "EvaluatorHoldout: Processed 35578 (100.0%) in 15.17 sec. Users per second: 2345\n",
      "EvaluatorHoldout: Processed 35563 (100.0%) in 15.12 sec. Users per second: 2351\n",
      "EvaluatorHoldout: Processed 35560 (100.0%) in 15.17 sec. Users per second: 2345\n"
     ]
    },
    {
     "name": "stderr",
     "output_type": "stream",
     "text": [
      "[I 2024-12-25 01:02:05,865] Trial 93 finished with value: 0.05875185132465423 and parameters: {'alpha': 0.24264660547121447}. Best is trial 72 with value: 0.06147879852097141.\n",
      "/var/folders/50/7hjr20g17_18p725nbt0qqv00000gn/T/ipykernel_49684/3888098177.py:2: FutureWarning: suggest_uniform has been deprecated in v3.0.0. This feature will be removed in v6.0.0. See https://github.com/optuna/optuna/releases/tag/v3.0.0. Use suggest_float instead.\n",
      "  alpha = trial.suggest_uniform('alpha', 0.0, 1.0)\n"
     ]
    },
    {
     "name": "stdout",
     "output_type": "stream",
     "text": [
      "EvaluatorHoldout: Processed 35569 (100.0%) in 15.14 sec. Users per second: 2349\n",
      "EvaluatorHoldout: Processed 35581 (100.0%) in 15.30 sec. Users per second: 2326\n",
      "EvaluatorHoldout: Processed 35569 (100.0%) in 15.15 sec. Users per second: 2347\n",
      "EvaluatorHoldout: Processed 35573 (100.0%) in 15.17 sec. Users per second: 2345\n",
      "EvaluatorHoldout: Processed 35567 (100.0%) in 15.19 sec. Users per second: 2341\n",
      "EvaluatorHoldout: Processed 35582 (100.0%) in 15.13 sec. Users per second: 2351\n",
      "EvaluatorHoldout: Processed 35567 (100.0%) in 15.13 sec. Users per second: 2351\n",
      "EvaluatorHoldout: Processed 35578 (100.0%) in 15.15 sec. Users per second: 2349\n",
      "EvaluatorHoldout: Processed 35563 (100.0%) in 15.17 sec. Users per second: 2345\n",
      "EvaluatorHoldout: Processed 35560 (100.0%) in 15.24 sec. Users per second: 2334\n"
     ]
    },
    {
     "name": "stderr",
     "output_type": "stream",
     "text": [
      "[I 2024-12-25 01:04:37,989] Trial 94 finished with value: 0.06147389952210843 and parameters: {'alpha': 0.7456494848379716}. Best is trial 72 with value: 0.06147879852097141.\n",
      "/var/folders/50/7hjr20g17_18p725nbt0qqv00000gn/T/ipykernel_49684/3888098177.py:2: FutureWarning: suggest_uniform has been deprecated in v3.0.0. This feature will be removed in v6.0.0. See https://github.com/optuna/optuna/releases/tag/v3.0.0. Use suggest_float instead.\n",
      "  alpha = trial.suggest_uniform('alpha', 0.0, 1.0)\n"
     ]
    },
    {
     "name": "stdout",
     "output_type": "stream",
     "text": [
      "EvaluatorHoldout: Processed 35569 (100.0%) in 15.16 sec. Users per second: 2346\n",
      "EvaluatorHoldout: Processed 35581 (100.0%) in 15.27 sec. Users per second: 2331\n",
      "EvaluatorHoldout: Processed 35569 (100.0%) in 15.21 sec. Users per second: 2338\n",
      "EvaluatorHoldout: Processed 35573 (100.0%) in 15.16 sec. Users per second: 2346\n",
      "EvaluatorHoldout: Processed 35567 (100.0%) in 15.19 sec. Users per second: 2342\n",
      "EvaluatorHoldout: Processed 35582 (100.0%) in 15.17 sec. Users per second: 2345\n",
      "EvaluatorHoldout: Processed 35567 (100.0%) in 15.14 sec. Users per second: 2349\n",
      "EvaluatorHoldout: Processed 35578 (100.0%) in 15.17 sec. Users per second: 2345\n",
      "EvaluatorHoldout: Processed 35563 (100.0%) in 15.16 sec. Users per second: 2347\n",
      "EvaluatorHoldout: Processed 35560 (100.0%) in 15.19 sec. Users per second: 2342\n"
     ]
    },
    {
     "name": "stderr",
     "output_type": "stream",
     "text": [
      "[I 2024-12-25 01:07:10,153] Trial 95 finished with value: 0.06146872634790462 and parameters: {'alpha': 0.6902925760062977}. Best is trial 72 with value: 0.06147879852097141.\n",
      "/var/folders/50/7hjr20g17_18p725nbt0qqv00000gn/T/ipykernel_49684/3888098177.py:2: FutureWarning: suggest_uniform has been deprecated in v3.0.0. This feature will be removed in v6.0.0. See https://github.com/optuna/optuna/releases/tag/v3.0.0. Use suggest_float instead.\n",
      "  alpha = trial.suggest_uniform('alpha', 0.0, 1.0)\n"
     ]
    },
    {
     "name": "stdout",
     "output_type": "stream",
     "text": [
      "EvaluatorHoldout: Processed 35569 (100.0%) in 15.14 sec. Users per second: 2350\n",
      "EvaluatorHoldout: Processed 35581 (100.0%) in 15.20 sec. Users per second: 2341\n",
      "EvaluatorHoldout: Processed 35569 (100.0%) in 15.13 sec. Users per second: 2350\n",
      "EvaluatorHoldout: Processed 35573 (100.0%) in 15.18 sec. Users per second: 2343\n",
      "EvaluatorHoldout: Processed 35567 (100.0%) in 15.20 sec. Users per second: 2340\n",
      "EvaluatorHoldout: Processed 35582 (100.0%) in 15.17 sec. Users per second: 2346\n",
      "EvaluatorHoldout: Processed 35567 (100.0%) in 15.21 sec. Users per second: 2338\n",
      "EvaluatorHoldout: Processed 35578 (100.0%) in 15.16 sec. Users per second: 2347\n",
      "EvaluatorHoldout: Processed 35563 (100.0%) in 15.15 sec. Users per second: 2348\n",
      "EvaluatorHoldout: Processed 35560 (100.0%) in 15.17 sec. Users per second: 2344\n"
     ]
    },
    {
     "name": "stderr",
     "output_type": "stream",
     "text": [
      "[I 2024-12-25 01:09:42,247] Trial 96 finished with value: 0.06144116664703484 and parameters: {'alpha': 0.6654904417302318}. Best is trial 72 with value: 0.06147879852097141.\n",
      "/var/folders/50/7hjr20g17_18p725nbt0qqv00000gn/T/ipykernel_49684/3888098177.py:2: FutureWarning: suggest_uniform has been deprecated in v3.0.0. This feature will be removed in v6.0.0. See https://github.com/optuna/optuna/releases/tag/v3.0.0. Use suggest_float instead.\n",
      "  alpha = trial.suggest_uniform('alpha', 0.0, 1.0)\n"
     ]
    },
    {
     "name": "stdout",
     "output_type": "stream",
     "text": [
      "EvaluatorHoldout: Processed 35569 (100.0%) in 15.18 sec. Users per second: 2343\n",
      "EvaluatorHoldout: Processed 35581 (100.0%) in 15.24 sec. Users per second: 2335\n",
      "EvaluatorHoldout: Processed 35569 (100.0%) in 15.16 sec. Users per second: 2346\n",
      "EvaluatorHoldout: Processed 35573 (100.0%) in 15.06 sec. Users per second: 2362\n",
      "EvaluatorHoldout: Processed 35567 (100.0%) in 15.22 sec. Users per second: 2337\n",
      "EvaluatorHoldout: Processed 35582 (100.0%) in 15.26 sec. Users per second: 2332\n",
      "EvaluatorHoldout: Processed 35567 (100.0%) in 15.21 sec. Users per second: 2339\n",
      "EvaluatorHoldout: Processed 35578 (100.0%) in 15.17 sec. Users per second: 2345\n",
      "EvaluatorHoldout: Processed 35563 (100.0%) in 15.17 sec. Users per second: 2345\n",
      "EvaluatorHoldout: Processed 35560 (100.0%) in 15.23 sec. Users per second: 2335\n"
     ]
    },
    {
     "name": "stderr",
     "output_type": "stream",
     "text": [
      "[I 2024-12-25 01:12:14,492] Trial 97 finished with value: 0.061426577616172484 and parameters: {'alpha': 0.8039607247369135}. Best is trial 72 with value: 0.06147879852097141.\n",
      "/var/folders/50/7hjr20g17_18p725nbt0qqv00000gn/T/ipykernel_49684/3888098177.py:2: FutureWarning: suggest_uniform has been deprecated in v3.0.0. This feature will be removed in v6.0.0. See https://github.com/optuna/optuna/releases/tag/v3.0.0. Use suggest_float instead.\n",
      "  alpha = trial.suggest_uniform('alpha', 0.0, 1.0)\n"
     ]
    },
    {
     "name": "stdout",
     "output_type": "stream",
     "text": [
      "EvaluatorHoldout: Processed 35569 (100.0%) in 15.19 sec. Users per second: 2342\n",
      "EvaluatorHoldout: Processed 35581 (100.0%) in 15.15 sec. Users per second: 2349\n",
      "EvaluatorHoldout: Processed 35569 (100.0%) in 15.22 sec. Users per second: 2337\n",
      "EvaluatorHoldout: Processed 35573 (100.0%) in 15.22 sec. Users per second: 2338\n",
      "EvaluatorHoldout: Processed 35567 (100.0%) in 15.20 sec. Users per second: 2341\n",
      "EvaluatorHoldout: Processed 35582 (100.0%) in 15.17 sec. Users per second: 2345\n",
      "EvaluatorHoldout: Processed 35567 (100.0%) in 15.19 sec. Users per second: 2341\n",
      "EvaluatorHoldout: Processed 35578 (100.0%) in 15.21 sec. Users per second: 2339\n",
      "EvaluatorHoldout: Processed 35563 (100.0%) in 15.21 sec. Users per second: 2339\n",
      "EvaluatorHoldout: Processed 35560 (100.0%) in 15.16 sec. Users per second: 2346\n"
     ]
    },
    {
     "name": "stderr",
     "output_type": "stream",
     "text": [
      "[I 2024-12-25 01:14:46,773] Trial 98 finished with value: 0.061463638505055776 and parameters: {'alpha': 0.7651316264947496}. Best is trial 72 with value: 0.06147879852097141.\n",
      "/var/folders/50/7hjr20g17_18p725nbt0qqv00000gn/T/ipykernel_49684/3888098177.py:2: FutureWarning: suggest_uniform has been deprecated in v3.0.0. This feature will be removed in v6.0.0. See https://github.com/optuna/optuna/releases/tag/v3.0.0. Use suggest_float instead.\n",
      "  alpha = trial.suggest_uniform('alpha', 0.0, 1.0)\n"
     ]
    },
    {
     "name": "stdout",
     "output_type": "stream",
     "text": [
      "EvaluatorHoldout: Processed 35569 (100.0%) in 15.22 sec. Users per second: 2338\n",
      "EvaluatorHoldout: Processed 35581 (100.0%) in 15.27 sec. Users per second: 2331\n",
      "EvaluatorHoldout: Processed 35569 (100.0%) in 15.21 sec. Users per second: 2338\n",
      "EvaluatorHoldout: Processed 35573 (100.0%) in 15.17 sec. Users per second: 2345\n",
      "EvaluatorHoldout: Processed 35567 (100.0%) in 15.22 sec. Users per second: 2337\n",
      "EvaluatorHoldout: Processed 35582 (100.0%) in 15.21 sec. Users per second: 2339\n",
      "EvaluatorHoldout: Processed 35567 (100.0%) in 15.22 sec. Users per second: 2338\n",
      "EvaluatorHoldout: Processed 35578 (100.0%) in 15.15 sec. Users per second: 2348\n",
      "EvaluatorHoldout: Processed 35563 (100.0%) in 15.19 sec. Users per second: 2342\n",
      "EvaluatorHoldout: Processed 35560 (100.0%) in 15.17 sec. Users per second: 2344\n"
     ]
    },
    {
     "name": "stderr",
     "output_type": "stream",
     "text": [
      "[I 2024-12-25 01:17:19,144] Trial 99 finished with value: 0.0614730780702236 and parameters: {'alpha': 0.7358312418781159}. Best is trial 72 with value: 0.06147879852097141.\n"
     ]
    }
   ],
   "source": [
    "import optuna\n",
    "\n",
    "optuna_study = optuna.create_study(study_name=\"hybrid_slim_rp3_CROSSVAL\", direction=\"maximize\")\n",
    "        \n",
    "save_results = SaveResults()\n",
    "        \n",
    "optuna_study.optimize(objective_function,\n",
    "                      callbacks=[save_results],\n",
    "                      n_trials = 100\n",
    "                      )"
   ]
  },
  {
   "cell_type": "code",
   "execution_count": 29,
   "metadata": {},
   "outputs": [
    {
     "name": "stdout",
     "output_type": "stream",
     "text": [
      "{'result': 0.06147879852097141, 'alpha': 0.7414857378820595}\n"
     ]
    }
   ],
   "source": [
    "best_index = save_results.results_df[\"result\"].idxmax()\n",
    "best_hyperparams = save_results.results_df.loc[best_index].to_dict()\n",
    "print(best_hyperparams)"
   ]
  },
  {
   "cell_type": "markdown",
   "metadata": {},
   "source": [
    "# Submitting"
   ]
  },
  {
   "cell_type": "code",
   "execution_count": 31,
   "metadata": {},
   "outputs": [
    {
     "name": "stdout",
     "output_type": "stream",
     "text": [
      "   user_id  item_id  data\n",
      "0        0        0   1.0\n",
      "1        0        2   1.0\n",
      "2        0      120   1.0\n",
      "3        0      128   1.0\n",
      "4        0      211   1.0\n",
      "5        0      232   1.0\n",
      "6        0      282   1.0\n",
      "7        0      453   1.0\n",
      "8        0      458   1.0\n",
      "9        0      491   1.0\n"
     ]
    }
   ],
   "source": [
    "import numpy as np\n",
    "import pandas as pd\n",
    "import matplotlib.pyplot as plt\n",
    "\n",
    "data_train_path = \"Dataset/data_train.csv\"\n",
    "\n",
    "URM_all_dataframe = pd.read_csv(data_train_path)\n",
    "print(URM_all_dataframe.head(10))"
   ]
  },
  {
   "cell_type": "code",
   "execution_count": 33,
   "metadata": {},
   "outputs": [],
   "source": [
    "import numpy as np\n",
    "import scipy.sparse as sps\n",
    "from Data_manager.split_functions.split_train_validation_random_holdout import split_train_in_two_percentage_global_sample\n",
    "from Evaluation.Evaluator import EvaluatorHoldout\n",
    "\n",
    "\n",
    "\n",
    "URM_all = sps.coo_matrix((URM_all_dataframe['data'], (URM_all_dataframe['user_id'], URM_all_dataframe['item_id'])))\n",
    "URM_all = URM_all.tocsr()"
   ]
  },
  {
   "cell_type": "code",
   "execution_count": 34,
   "metadata": {},
   "outputs": [
    {
     "name": "stderr",
     "output_type": "stream",
     "text": [
      "Progress: 100%|██████████| 38121/38121 [11:59<00:00, 52.98items/s] \n"
     ]
    },
    {
     "name": "stdout",
     "output_type": "stream",
     "text": [
      "RP3betaRecommender: Similarity column 38121 (100.0%), 3454.65 column/sec. Elapsed time 11.03 sec\n"
     ]
    }
   ],
   "source": [
    "slim_URM_all = MultiThreadSLIM_SLIMElasticNetRecommender(URM_all)\n",
    "slim_URM_all.fit(topK=142, alpha = 9.521340863590419e-05, l1_ratio = 0.4033590645217344)\n",
    "\n",
    "rp3_URM_all = RP3betaRecommender(URM_all)\n",
    "rp3_URM_all.fit(topK=14, alpha=0.3683550822991944, beta=0.19877125816137325, implicit=True)"
   ]
  },
  {
   "cell_type": "code",
   "execution_count": 35,
   "metadata": {},
   "outputs": [],
   "source": [
    "\n",
    "alpha = 0.7414857378820595\n",
    "new_similarity = slim_URM_all.W_sparse * alpha + rp3_URM_all.W_sparse * (1-alpha)\n",
    "\n",
    "final_recommender = ItemKNNCustomSimilarityRecommender(URM_all)\n",
    "final_recommender.fit(new_similarity)"
   ]
  },
  {
   "cell_type": "code",
   "execution_count": 37,
   "metadata": {},
   "outputs": [
    {
     "name": "stdout",
     "output_type": "stream",
     "text": [
      "   user_id\n",
      "0        0\n",
      "1        1\n",
      "2        2\n",
      "3        3\n",
      "4        4\n",
      "5        5\n",
      "6        6\n",
      "7        7\n",
      "8        8\n",
      "9        9\n"
     ]
    }
   ],
   "source": [
    "target_user = pd.read_csv(\"Dataset/data_target_users_test.csv\")\n",
    "print(target_user.head(10))\n",
    "\n",
    "user_id = target_user['user_id']\n",
    "recommendations = []\n",
    "for user in user_id:\n",
    "    recommendations.append(final_recommender.recommend(user, cutoff=10))\n",
    "\n",
    "# Saving in a submission file for the competition\n",
    "submission = pd.DataFrame(columns=['user_id', 'item_list'])\n",
    "submission['user_id'] = user_id\n",
    "# Convert list of recommendations into a space-separated string\n",
    "submission['item_list'] = [' '.join(map(str, recs)) for recs in recommendations]\n",
    "\n",
    "# Save the submission file\n",
    "submission.to_csv(f\"submissions/hybrid_slim_rp3_alpha:{alpha}.csv\", index=False)"
   ]
  },
  {
   "cell_type": "code",
   "execution_count": 38,
   "metadata": {},
   "outputs": [
    {
     "name": "stdout",
     "output_type": "stream",
     "text": [
      "   user_id\n",
      "0        0\n",
      "1        1\n",
      "2        2\n",
      "3        3\n",
      "4        4\n",
      "5        5\n",
      "6        6\n",
      "7        7\n",
      "8        8\n",
      "9        9\n"
     ]
    }
   ],
   "source": [
    "# Just out of curiosity\n",
    "alpha = 0.7414857378820595\n",
    "new_similarity = slim_URM_all.W_sparse * alpha + rp3_URM_all.W_sparse * (1-alpha)\n",
    "\n",
    "final_recommender.fit(new_similarity)\n",
    "\n",
    "target_user = pd.read_csv(\"Dataset/data_target_users_test.csv\")\n",
    "print(target_user.head(10))\n",
    "\n",
    "user_id = target_user['user_id']\n",
    "recommendations = []\n",
    "for user in user_id:\n",
    "    recommendations.append(final_recommender.recommend(user, cutoff=10))\n",
    "\n",
    "# Saving in a submission file for the competition\n",
    "submission = pd.DataFrame(columns=['user_id', 'item_list'])\n",
    "submission['user_id'] = user_id\n",
    "# Convert list of recommendations into a space-separated string\n",
    "submission['item_list'] = [' '.join(map(str, recs)) for recs in recommendations]\n",
    "\n",
    "# Save the submission file\n",
    "submission.to_csv(f\"submissions/hybrid_slim_rp3_Oldalpha:{alpha}.csv\", index=False)"
   ]
  }
 ],
 "metadata": {
  "kernelspec": {
   "display_name": "RecSysPD",
   "language": "python",
   "name": "python3"
  },
  "language_info": {
   "codemirror_mode": {
    "name": "ipython",
    "version": 3
   },
   "file_extension": ".py",
   "mimetype": "text/x-python",
   "name": "python",
   "nbconvert_exporter": "python",
   "pygments_lexer": "ipython3",
   "version": "3.8.20"
  }
 },
 "nbformat": 4,
 "nbformat_minor": 2
}
