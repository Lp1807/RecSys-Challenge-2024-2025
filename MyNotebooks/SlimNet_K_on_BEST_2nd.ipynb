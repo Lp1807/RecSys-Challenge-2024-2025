{
 "cells": [
  {
   "cell_type": "code",
   "execution_count": 1,
   "metadata": {},
   "outputs": [],
   "source": [
    "import os\n",
    "os.chdir('../')"
   ]
  },
  {
   "cell_type": "code",
   "execution_count": 2,
   "metadata": {},
   "outputs": [
    {
     "name": "stdout",
     "output_type": "stream",
     "text": [
      "   user_id  item_id  data\n",
      "0        0        0   1.0\n",
      "1        0        2   1.0\n",
      "2        0      120   1.0\n",
      "3        0      128   1.0\n",
      "4        0      211   1.0\n",
      "5        0      232   1.0\n",
      "6        0      282   1.0\n",
      "7        0      453   1.0\n",
      "8        0      458   1.0\n",
      "9        0      491   1.0\n"
     ]
    }
   ],
   "source": [
    "import numpy as np\n",
    "import pandas as pd\n",
    "import matplotlib.pyplot as plt\n",
    "\n",
    "data_train_path = \"Dataset/data_train.csv\"\n",
    "\n",
    "URM_all_dataframe = pd.read_csv(data_train_path)\n",
    "print(URM_all_dataframe.head(10))"
   ]
  },
  {
   "cell_type": "code",
   "execution_count": 3,
   "metadata": {},
   "outputs": [
    {
     "name": "stdout",
     "output_type": "stream",
     "text": [
      "Warning: 141 (0.39 %) of 35736 users have no sampled items\n",
      "EvaluatorHoldout: Ignoring 141 ( 0.4%) Users that have less than 1 test interactions\n"
     ]
    }
   ],
   "source": [
    "import numpy as np\n",
    "import scipy.sparse as sps\n",
    "from Data_manager.split_functions.split_train_validation_random_holdout import split_train_in_two_percentage_global_sample\n",
    "from Evaluation.Evaluator import EvaluatorHoldout\n",
    "\n",
    "\n",
    "\n",
    "URM_all = sps.coo_matrix((URM_all_dataframe['data'], (URM_all_dataframe['user_id'], URM_all_dataframe['item_id'])))\n",
    "URM_all = URM_all.tocsr()\n",
    "\n",
    "URM_train_validation, URM_test = split_train_in_two_percentage_global_sample(URM_all, train_percentage = 0.8)\n",
    "\n",
    "evaluator_test = EvaluatorHoldout(URM_test, cutoff_list=[10])"
   ]
  },
  {
   "cell_type": "code",
   "execution_count": null,
   "metadata": {},
   "outputs": [
    {
     "name": "stderr",
     "output_type": "stream",
     "text": [
      "[I 2024-11-30 23:29:03,769] A new study created in memory with name: no-name-0bafb40d-4c69-4ca9-bc11-246700a69687\n",
      "Progress: 100%|██████████| 38121/38121 [09:39<00:00, 65.81items/s]\n"
     ]
    },
    {
     "name": "stdout",
     "output_type": "stream",
     "text": [
      "EvaluatorHoldout: Processed 35595 (100.0%) in 15.16 sec. Users per second: 2348\n"
     ]
    },
    {
     "name": "stderr",
     "output_type": "stream",
     "text": [
      "[I 2024-11-30 23:38:59,035] Trial 0 finished with value: 0.05997583930327103 and parameters: {'topK': 122}. Best is trial 0 with value: 0.05997583930327103.\n"
     ]
    },
    {
     "name": "stdout",
     "output_type": "stream",
     "text": [
      "Current MAP = 0.0600 with parameters {'topK': 122, 'l1_ratio': 0.4033590645217344, 'alpha': 9.521340863590419e-05}\n"
     ]
    },
    {
     "name": "stderr",
     "output_type": "stream",
     "text": [
      "Progress: 100%|██████████| 38121/38121 [10:09<00:00, 62.51items/s] \n"
     ]
    },
    {
     "name": "stdout",
     "output_type": "stream",
     "text": [
      "EvaluatorHoldout: Processed 35595 (100.0%) in 15.90 sec. Users per second: 2239\n"
     ]
    },
    {
     "name": "stderr",
     "output_type": "stream",
     "text": [
      "[I 2024-11-30 23:49:25,623] Trial 1 finished with value: 0.05999292302958375 and parameters: {'topK': 597}. Best is trial 1 with value: 0.05999292302958375.\n"
     ]
    },
    {
     "name": "stdout",
     "output_type": "stream",
     "text": [
      "Current MAP = 0.0600 with parameters {'topK': 597, 'l1_ratio': 0.4033590645217344, 'alpha': 9.521340863590419e-05}\n"
     ]
    },
    {
     "name": "stderr",
     "output_type": "stream",
     "text": [
      "Progress: 100%|██████████| 38121/38121 [10:12<00:00, 62.28items/s] \n"
     ]
    },
    {
     "name": "stdout",
     "output_type": "stream",
     "text": [
      "EvaluatorHoldout: Processed 35595 (100.0%) in 15.90 sec. Users per second: 2239\n"
     ]
    },
    {
     "name": "stderr",
     "output_type": "stream",
     "text": [
      "[I 2024-11-30 23:59:54,419] Trial 2 finished with value: 0.0600064069547828 and parameters: {'topK': 360}. Best is trial 2 with value: 0.0600064069547828.\n"
     ]
    },
    {
     "name": "stdout",
     "output_type": "stream",
     "text": [
      "Current MAP = 0.0600 with parameters {'topK': 360, 'l1_ratio': 0.4033590645217344, 'alpha': 9.521340863590419e-05}\n"
     ]
    },
    {
     "name": "stderr",
     "output_type": "stream",
     "text": [
      "Progress: 100%|██████████| 38121/38121 [10:11<00:00, 62.38items/s] \n"
     ]
    },
    {
     "name": "stdout",
     "output_type": "stream",
     "text": [
      "EvaluatorHoldout: Processed 35595 (100.0%) in 15.89 sec. Users per second: 2240\n"
     ]
    },
    {
     "name": "stderr",
     "output_type": "stream",
     "text": [
      "[I 2024-12-01 00:10:22,243] Trial 3 finished with value: 0.05999426194600907 and parameters: {'topK': 664}. Best is trial 2 with value: 0.0600064069547828.\n"
     ]
    },
    {
     "name": "stdout",
     "output_type": "stream",
     "text": [
      "Current MAP = 0.0600 with parameters {'topK': 664, 'l1_ratio': 0.4033590645217344, 'alpha': 9.521340863590419e-05}\n"
     ]
    },
    {
     "name": "stderr",
     "output_type": "stream",
     "text": [
      "Progress: 100%|██████████| 38121/38121 [10:12<00:00, 62.19items/s] \n"
     ]
    },
    {
     "name": "stdout",
     "output_type": "stream",
     "text": [
      "EvaluatorHoldout: Processed 35595 (100.0%) in 15.91 sec. Users per second: 2238\n"
     ]
    },
    {
     "name": "stderr",
     "output_type": "stream",
     "text": [
      "[I 2024-12-01 00:20:51,906] Trial 4 finished with value: 0.05999974804736534 and parameters: {'topK': 491}. Best is trial 2 with value: 0.0600064069547828.\n"
     ]
    },
    {
     "name": "stdout",
     "output_type": "stream",
     "text": [
      "Current MAP = 0.0600 with parameters {'topK': 491, 'l1_ratio': 0.4033590645217344, 'alpha': 9.521340863590419e-05}\n"
     ]
    },
    {
     "name": "stderr",
     "output_type": "stream",
     "text": [
      "Progress: 100%|██████████| 38121/38121 [10:09<00:00, 62.52items/s] \n"
     ]
    },
    {
     "name": "stdout",
     "output_type": "stream",
     "text": [
      "EvaluatorHoldout: Processed 35595 (100.0%) in 15.74 sec. Users per second: 2261\n"
     ]
    },
    {
     "name": "stderr",
     "output_type": "stream",
     "text": [
      "[I 2024-12-01 00:31:18,179] Trial 5 finished with value: 0.06003234915729457 and parameters: {'topK': 185}. Best is trial 5 with value: 0.06003234915729457.\n"
     ]
    },
    {
     "name": "stdout",
     "output_type": "stream",
     "text": [
      "Current MAP = 0.0600 with parameters {'topK': 185, 'l1_ratio': 0.4033590645217344, 'alpha': 9.521340863590419e-05}\n"
     ]
    },
    {
     "name": "stderr",
     "output_type": "stream",
     "text": [
      "Progress: 100%|██████████| 38121/38121 [10:14<00:00, 62.04items/s] \n"
     ]
    },
    {
     "name": "stdout",
     "output_type": "stream",
     "text": [
      "EvaluatorHoldout: Processed 35595 (100.0%) in 15.95 sec. Users per second: 2232\n"
     ]
    },
    {
     "name": "stderr",
     "output_type": "stream",
     "text": [
      "[I 2024-12-01 00:41:49,443] Trial 6 finished with value: 0.059999789296247726 and parameters: {'topK': 536}. Best is trial 5 with value: 0.06003234915729457.\n"
     ]
    },
    {
     "name": "stdout",
     "output_type": "stream",
     "text": [
      "Current MAP = 0.0600 with parameters {'topK': 536, 'l1_ratio': 0.4033590645217344, 'alpha': 9.521340863590419e-05}\n"
     ]
    },
    {
     "name": "stderr",
     "output_type": "stream",
     "text": [
      "Progress: 100%|██████████| 38121/38121 [10:15<00:00, 61.98items/s] \n"
     ]
    },
    {
     "name": "stdout",
     "output_type": "stream",
     "text": [
      "EvaluatorHoldout: Processed 35595 (100.0%) in 15.97 sec. Users per second: 2229\n"
     ]
    },
    {
     "name": "stderr",
     "output_type": "stream",
     "text": [
      "[I 2024-12-01 00:52:21,317] Trial 7 finished with value: 0.05999482493751178 and parameters: {'topK': 582}. Best is trial 5 with value: 0.06003234915729457.\n"
     ]
    },
    {
     "name": "stdout",
     "output_type": "stream",
     "text": [
      "Current MAP = 0.0600 with parameters {'topK': 582, 'l1_ratio': 0.4033590645217344, 'alpha': 9.521340863590419e-05}\n"
     ]
    },
    {
     "name": "stderr",
     "output_type": "stream",
     "text": [
      "Progress: 100%|██████████| 38121/38121 [10:14<00:00, 62.04items/s] \n"
     ]
    },
    {
     "name": "stdout",
     "output_type": "stream",
     "text": [
      "EvaluatorHoldout: Processed 35595 (100.0%) in 15.91 sec. Users per second: 2237\n"
     ]
    },
    {
     "name": "stderr",
     "output_type": "stream",
     "text": [
      "[I 2024-12-01 01:02:52,557] Trial 8 finished with value: 0.05999960757819834 and parameters: {'topK': 638}. Best is trial 5 with value: 0.06003234915729457.\n"
     ]
    },
    {
     "name": "stdout",
     "output_type": "stream",
     "text": [
      "Current MAP = 0.0600 with parameters {'topK': 638, 'l1_ratio': 0.4033590645217344, 'alpha': 9.521340863590419e-05}\n"
     ]
    },
    {
     "name": "stderr",
     "output_type": "stream",
     "text": [
      "Progress: 100%|██████████| 38121/38121 [10:09<00:00, 62.56items/s] \n"
     ]
    },
    {
     "name": "stdout",
     "output_type": "stream",
     "text": [
      "EvaluatorHoldout: Processed 35595 (100.0%) in 14.50 sec. Users per second: 2455\n"
     ]
    },
    {
     "name": "stderr",
     "output_type": "stream",
     "text": [
      "[I 2024-12-01 01:13:17,085] Trial 9 finished with value: 0.05983747494408919 and parameters: {'topK': 87}. Best is trial 5 with value: 0.06003234915729457.\n"
     ]
    },
    {
     "name": "stdout",
     "output_type": "stream",
     "text": [
      "Current MAP = 0.0598 with parameters {'topK': 87, 'l1_ratio': 0.4033590645217344, 'alpha': 9.521340863590419e-05}\n"
     ]
    },
    {
     "name": "stderr",
     "output_type": "stream",
     "text": [
      "Progress: 100%|██████████| 38121/38121 [10:11<00:00, 62.39items/s] \n"
     ]
    },
    {
     "name": "stdout",
     "output_type": "stream",
     "text": [
      "EvaluatorHoldout: Processed 35595 (100.0%) in 15.86 sec. Users per second: 2244\n"
     ]
    },
    {
     "name": "stderr",
     "output_type": "stream",
     "text": [
      "[I 2024-12-01 01:23:44,847] Trial 10 finished with value: 0.0600382622403253 and parameters: {'topK': 291}. Best is trial 10 with value: 0.0600382622403253.\n"
     ]
    },
    {
     "name": "stdout",
     "output_type": "stream",
     "text": [
      "Current MAP = 0.0600 with parameters {'topK': 291, 'l1_ratio': 0.4033590645217344, 'alpha': 9.521340863590419e-05}\n"
     ]
    },
    {
     "name": "stderr",
     "output_type": "stream",
     "text": [
      "Progress: 100%|██████████| 38121/38121 [10:09<00:00, 62.50items/s] \n"
     ]
    },
    {
     "name": "stdout",
     "output_type": "stream",
     "text": [
      "EvaluatorHoldout: Processed 35595 (100.0%) in 15.83 sec. Users per second: 2249\n"
     ]
    },
    {
     "name": "stderr",
     "output_type": "stream",
     "text": [
      "[I 2024-12-01 01:34:11,453] Trial 11 finished with value: 0.060035380392732124 and parameters: {'topK': 291}. Best is trial 10 with value: 0.0600382622403253.\n"
     ]
    },
    {
     "name": "stdout",
     "output_type": "stream",
     "text": [
      "Current MAP = 0.0600 with parameters {'topK': 291, 'l1_ratio': 0.4033590645217344, 'alpha': 9.521340863590419e-05}\n"
     ]
    },
    {
     "name": "stderr",
     "output_type": "stream",
     "text": [
      "Progress: 100%|██████████| 38121/38121 [10:10<00:00, 62.45items/s] \n"
     ]
    },
    {
     "name": "stdout",
     "output_type": "stream",
     "text": [
      "EvaluatorHoldout: Processed 35595 (100.0%) in 15.88 sec. Users per second: 2242\n"
     ]
    },
    {
     "name": "stderr",
     "output_type": "stream",
     "text": [
      "[I 2024-12-01 01:44:38,586] Trial 12 finished with value: 0.06001980615254772 and parameters: {'topK': 316}. Best is trial 10 with value: 0.0600382622403253.\n"
     ]
    },
    {
     "name": "stdout",
     "output_type": "stream",
     "text": [
      "Current MAP = 0.0600 with parameters {'topK': 316, 'l1_ratio': 0.4033590645217344, 'alpha': 9.521340863590419e-05}\n"
     ]
    },
    {
     "name": "stderr",
     "output_type": "stream",
     "text": [
      "Progress: 100%|██████████| 38121/38121 [10:13<00:00, 62.16items/s] \n"
     ]
    },
    {
     "name": "stdout",
     "output_type": "stream",
     "text": [
      "EvaluatorHoldout: Processed 35595 (100.0%) in 15.89 sec. Users per second: 2239\n"
     ]
    },
    {
     "name": "stderr",
     "output_type": "stream",
     "text": [
      "[I 2024-12-01 01:55:08,646] Trial 13 finished with value: 0.06005484540587597 and parameters: {'topK': 258}. Best is trial 13 with value: 0.06005484540587597.\n"
     ]
    },
    {
     "name": "stdout",
     "output_type": "stream",
     "text": [
      "Current MAP = 0.0601 with parameters {'topK': 258, 'l1_ratio': 0.4033590645217344, 'alpha': 9.521340863590419e-05}\n"
     ]
    },
    {
     "name": "stderr",
     "output_type": "stream",
     "text": [
      "Progress: 100%|██████████| 38121/38121 [10:12<00:00, 62.24items/s] \n"
     ]
    },
    {
     "name": "stdout",
     "output_type": "stream",
     "text": [
      "EvaluatorHoldout: Processed 35595 (100.0%) in 15.82 sec. Users per second: 2251\n"
     ]
    },
    {
     "name": "stderr",
     "output_type": "stream",
     "text": [
      "[I 2024-12-01 02:05:37,757] Trial 14 finished with value: 0.06004173049094906 and parameters: {'topK': 229}. Best is trial 13 with value: 0.06005484540587597.\n"
     ]
    },
    {
     "name": "stdout",
     "output_type": "stream",
     "text": [
      "Current MAP = 0.0600 with parameters {'topK': 229, 'l1_ratio': 0.4033590645217344, 'alpha': 9.521340863590419e-05}\n"
     ]
    },
    {
     "name": "stderr",
     "output_type": "stream",
     "text": [
      "Progress: 100%|██████████| 38121/38121 [10:09<00:00, 62.57items/s] \n"
     ]
    },
    {
     "name": "stdout",
     "output_type": "stream",
     "text": [
      "EvaluatorHoldout: Processed 35595 (100.0%) in 15.83 sec. Users per second: 2248\n"
     ]
    },
    {
     "name": "stderr",
     "output_type": "stream",
     "text": [
      "[I 2024-12-01 02:16:03,635] Trial 15 finished with value: 0.060040039286771575 and parameters: {'topK': 212}. Best is trial 13 with value: 0.06005484540587597.\n"
     ]
    },
    {
     "name": "stdout",
     "output_type": "stream",
     "text": [
      "Current MAP = 0.0600 with parameters {'topK': 212, 'l1_ratio': 0.4033590645217344, 'alpha': 9.521340863590419e-05}\n"
     ]
    },
    {
     "name": "stderr",
     "output_type": "stream",
     "text": [
      "Progress: 100%|██████████| 38121/38121 [10:14<00:00, 62.01items/s] \n"
     ]
    },
    {
     "name": "stdout",
     "output_type": "stream",
     "text": [
      "EvaluatorHoldout: Processed 35595 (100.0%) in 15.97 sec. Users per second: 2229\n"
     ]
    },
    {
     "name": "stderr",
     "output_type": "stream",
     "text": [
      "[I 2024-12-01 02:26:35,163] Trial 16 finished with value: 0.05999181711360216 and parameters: {'topK': 773}. Best is trial 13 with value: 0.06005484540587597.\n"
     ]
    },
    {
     "name": "stdout",
     "output_type": "stream",
     "text": [
      "Current MAP = 0.0600 with parameters {'topK': 773, 'l1_ratio': 0.4033590645217344, 'alpha': 9.521340863590419e-05}\n"
     ]
    },
    {
     "name": "stderr",
     "output_type": "stream",
     "text": [
      "Progress: 100%|██████████| 38121/38121 [10:15<00:00, 61.89items/s] \n"
     ]
    },
    {
     "name": "stdout",
     "output_type": "stream",
     "text": [
      "EvaluatorHoldout: Processed 35595 (100.0%) in 15.92 sec. Users per second: 2236\n"
     ]
    },
    {
     "name": "stderr",
     "output_type": "stream",
     "text": [
      "[I 2024-12-01 02:37:07,912] Trial 17 finished with value: 0.059996309897277396 and parameters: {'topK': 409}. Best is trial 13 with value: 0.06005484540587597.\n"
     ]
    },
    {
     "name": "stdout",
     "output_type": "stream",
     "text": [
      "Current MAP = 0.0600 with parameters {'topK': 409, 'l1_ratio': 0.4033590645217344, 'alpha': 9.521340863590419e-05}\n"
     ]
    },
    {
     "name": "stderr",
     "output_type": "stream",
     "text": [
      "Progress: 100%|██████████| 38121/38121 [10:10<00:00, 62.49items/s] \n"
     ]
    },
    {
     "name": "stdout",
     "output_type": "stream",
     "text": [
      "EvaluatorHoldout: Processed 35595 (100.0%) in 15.76 sec. Users per second: 2258\n"
     ]
    },
    {
     "name": "stderr",
     "output_type": "stream",
     "text": [
      "[I 2024-12-01 02:47:34,564] Trial 18 finished with value: 0.060052284630664594 and parameters: {'topK': 206}. Best is trial 13 with value: 0.06005484540587597.\n"
     ]
    },
    {
     "name": "stdout",
     "output_type": "stream",
     "text": [
      "Current MAP = 0.0601 with parameters {'topK': 206, 'l1_ratio': 0.4033590645217344, 'alpha': 9.521340863590419e-05}\n"
     ]
    },
    {
     "name": "stderr",
     "output_type": "stream",
     "text": [
      "Progress: 100%|██████████| 38121/38121 [10:13<00:00, 62.16items/s] \n"
     ]
    },
    {
     "name": "stdout",
     "output_type": "stream",
     "text": [
      "EvaluatorHoldout: Processed 35595 (100.0%) in 15.52 sec. Users per second: 2294\n"
     ]
    },
    {
     "name": "stderr",
     "output_type": "stream",
     "text": [
      "[I 2024-12-01 02:58:04,093] Trial 19 finished with value: 0.06000979493731097 and parameters: {'topK': 147}. Best is trial 13 with value: 0.06005484540587597.\n"
     ]
    },
    {
     "name": "stdout",
     "output_type": "stream",
     "text": [
      "Current MAP = 0.0600 with parameters {'topK': 147, 'l1_ratio': 0.4033590645217344, 'alpha': 9.521340863590419e-05}\n"
     ]
    },
    {
     "name": "stderr",
     "output_type": "stream",
     "text": [
      "Progress: 100%|██████████| 38121/38121 [10:15<00:00, 61.95items/s] \n"
     ]
    },
    {
     "name": "stdout",
     "output_type": "stream",
     "text": [
      "EvaluatorHoldout: Processed 35595 (100.0%) in 15.88 sec. Users per second: 2241\n"
     ]
    },
    {
     "name": "stderr",
     "output_type": "stream",
     "text": [
      "[I 2024-12-01 03:08:36,152] Trial 20 finished with value: 0.06000131996423435 and parameters: {'topK': 427}. Best is trial 13 with value: 0.06005484540587597.\n"
     ]
    },
    {
     "name": "stdout",
     "output_type": "stream",
     "text": [
      "Current MAP = 0.0600 with parameters {'topK': 427, 'l1_ratio': 0.4033590645217344, 'alpha': 9.521340863590419e-05}\n"
     ]
    },
    {
     "name": "stderr",
     "output_type": "stream",
     "text": [
      "Progress: 100%|██████████| 38121/38121 [10:12<00:00, 62.27items/s] \n"
     ]
    },
    {
     "name": "stdout",
     "output_type": "stream",
     "text": [
      "EvaluatorHoldout: Processed 35595 (100.0%) in 15.73 sec. Users per second: 2263\n"
     ]
    },
    {
     "name": "stderr",
     "output_type": "stream",
     "text": [
      "[I 2024-12-01 03:19:04,874] Trial 21 finished with value: 0.060048871006939154 and parameters: {'topK': 200}. Best is trial 13 with value: 0.06005484540587597.\n"
     ]
    },
    {
     "name": "stdout",
     "output_type": "stream",
     "text": [
      "Current MAP = 0.0600 with parameters {'topK': 200, 'l1_ratio': 0.4033590645217344, 'alpha': 9.521340863590419e-05}\n"
     ]
    },
    {
     "name": "stderr",
     "output_type": "stream",
     "text": [
      "Progress: 100%|██████████| 38121/38121 [10:10<00:00, 62.42items/s] \n"
     ]
    },
    {
     "name": "stdout",
     "output_type": "stream",
     "text": [
      "EvaluatorHoldout: Processed 35595 (100.0%) in 15.80 sec. Users per second: 2254\n"
     ]
    },
    {
     "name": "stderr",
     "output_type": "stream",
     "text": [
      "[I 2024-12-01 03:29:32,206] Trial 22 finished with value: 0.06005955223780571 and parameters: {'topK': 245}. Best is trial 22 with value: 0.06005955223780571.\n"
     ]
    },
    {
     "name": "stdout",
     "output_type": "stream",
     "text": [
      "Current MAP = 0.0601 with parameters {'topK': 245, 'l1_ratio': 0.4033590645217344, 'alpha': 9.521340863590419e-05}\n"
     ]
    },
    {
     "name": "stderr",
     "output_type": "stream",
     "text": [
      "Progress: 100%|██████████| 38121/38121 [10:09<00:00, 62.58items/s] \n"
     ]
    },
    {
     "name": "stdout",
     "output_type": "stream",
     "text": [
      "EvaluatorHoldout: Processed 35595 (100.0%) in 15.88 sec. Users per second: 2241\n"
     ]
    },
    {
     "name": "stderr",
     "output_type": "stream",
     "text": [
      "[I 2024-12-01 03:39:58,113] Trial 23 finished with value: 0.06001190754898965 and parameters: {'topK': 364}. Best is trial 22 with value: 0.06005955223780571.\n"
     ]
    },
    {
     "name": "stdout",
     "output_type": "stream",
     "text": [
      "Current MAP = 0.0600 with parameters {'topK': 364, 'l1_ratio': 0.4033590645217344, 'alpha': 9.521340863590419e-05}\n"
     ]
    },
    {
     "name": "stderr",
     "output_type": "stream",
     "text": [
      "Progress: 100%|██████████| 38121/38121 [10:11<00:00, 62.32items/s] \n"
     ]
    },
    {
     "name": "stdout",
     "output_type": "stream",
     "text": [
      "EvaluatorHoldout: Processed 35595 (100.0%) in 15.85 sec. Users per second: 2246\n"
     ]
    },
    {
     "name": "stderr",
     "output_type": "stream",
     "text": [
      "[I 2024-12-01 03:50:26,504] Trial 24 finished with value: 0.060059503185080736 and parameters: {'topK': 261}. Best is trial 22 with value: 0.06005955223780571.\n"
     ]
    },
    {
     "name": "stdout",
     "output_type": "stream",
     "text": [
      "Current MAP = 0.0601 with parameters {'topK': 261, 'l1_ratio': 0.4033590645217344, 'alpha': 9.521340863590419e-05}\n"
     ]
    },
    {
     "name": "stderr",
     "output_type": "stream",
     "text": [
      "Progress: 100%|██████████| 38121/38121 [10:12<00:00, 62.26items/s] \n"
     ]
    },
    {
     "name": "stdout",
     "output_type": "stream",
     "text": [
      "EvaluatorHoldout: Processed 35595 (100.0%) in 15.91 sec. Users per second: 2237\n"
     ]
    },
    {
     "name": "stderr",
     "output_type": "stream",
     "text": [
      "[I 2024-12-01 04:00:55,546] Trial 25 finished with value: 0.060046350365775374 and parameters: {'topK': 264}. Best is trial 22 with value: 0.06005955223780571.\n"
     ]
    },
    {
     "name": "stdout",
     "output_type": "stream",
     "text": [
      "Current MAP = 0.0600 with parameters {'topK': 264, 'l1_ratio': 0.4033590645217344, 'alpha': 9.521340863590419e-05}\n"
     ]
    },
    {
     "name": "stderr",
     "output_type": "stream",
     "text": [
      "Progress: 100%|██████████| 38121/38121 [10:12<00:00, 62.22items/s] \n"
     ]
    },
    {
     "name": "stdout",
     "output_type": "stream",
     "text": [
      "EvaluatorHoldout: Processed 35595 (100.0%) in 15.88 sec. Users per second: 2242\n"
     ]
    },
    {
     "name": "stderr",
     "output_type": "stream",
     "text": [
      "[I 2024-12-01 04:11:24,943] Trial 26 finished with value: 0.06001002124874683 and parameters: {'topK': 372}. Best is trial 22 with value: 0.06005955223780571.\n"
     ]
    },
    {
     "name": "stdout",
     "output_type": "stream",
     "text": [
      "Current MAP = 0.0600 with parameters {'topK': 372, 'l1_ratio': 0.4033590645217344, 'alpha': 9.521340863590419e-05}\n"
     ]
    },
    {
     "name": "stderr",
     "output_type": "stream",
     "text": [
      "Progress: 100%|██████████| 38121/38121 [10:09<00:00, 62.58items/s] \n"
     ]
    },
    {
     "name": "stdout",
     "output_type": "stream",
     "text": [
      "EvaluatorHoldout: Processed 35595 (100.0%) in 15.95 sec. Users per second: 2232\n"
     ]
    },
    {
     "name": "stderr",
     "output_type": "stream",
     "text": [
      "[I 2024-12-01 04:21:50,842] Trial 27 finished with value: 0.05999787178063447 and parameters: {'topK': 486}. Best is trial 22 with value: 0.06005955223780571.\n"
     ]
    },
    {
     "name": "stdout",
     "output_type": "stream",
     "text": [
      "Current MAP = 0.0600 with parameters {'topK': 486, 'l1_ratio': 0.4033590645217344, 'alpha': 9.521340863590419e-05}\n"
     ]
    },
    {
     "name": "stderr",
     "output_type": "stream",
     "text": [
      "Progress: 100%|██████████| 38121/38121 [09:54<00:00, 64.12items/s]\n"
     ]
    },
    {
     "name": "stdout",
     "output_type": "stream",
     "text": [
      "EvaluatorHoldout: Processed 35595 (100.0%) in 14.97 sec. Users per second: 2378\n"
     ]
    },
    {
     "name": "stderr",
     "output_type": "stream",
     "text": [
      "[I 2024-12-01 04:32:01,118] Trial 28 finished with value: 0.0600046332528404 and parameters: {'topK': 149}. Best is trial 22 with value: 0.06005955223780571.\n"
     ]
    },
    {
     "name": "stdout",
     "output_type": "stream",
     "text": [
      "Current MAP = 0.0600 with parameters {'topK': 149, 'l1_ratio': 0.4033590645217344, 'alpha': 9.521340863590419e-05}\n"
     ]
    },
    {
     "name": "stderr",
     "output_type": "stream",
     "text": [
      "Progress: 100%|██████████| 38121/38121 [10:00<00:00, 63.48items/s]\n"
     ]
    },
    {
     "name": "stdout",
     "output_type": "stream",
     "text": [
      "EvaluatorHoldout: Processed 35595 (100.0%) in 14.68 sec. Users per second: 2425\n"
     ]
    },
    {
     "name": "stderr",
     "output_type": "stream",
     "text": [
      "[I 2024-12-01 04:42:17,017] Trial 29 finished with value: 0.059870220982524244 and parameters: {'topK': 93}. Best is trial 22 with value: 0.06005955223780571.\n"
     ]
    },
    {
     "name": "stdout",
     "output_type": "stream",
     "text": [
      "Current MAP = 0.0599 with parameters {'topK': 93, 'l1_ratio': 0.4033590645217344, 'alpha': 9.521340863590419e-05}\n"
     ]
    },
    {
     "name": "stderr",
     "output_type": "stream",
     "text": [
      "Progress: 100%|██████████| 38121/38121 [10:13<00:00, 62.16items/s] \n"
     ]
    },
    {
     "name": "stdout",
     "output_type": "stream",
     "text": [
      "EvaluatorHoldout: Processed 35595 (100.0%) in 15.84 sec. Users per second: 2247\n"
     ]
    },
    {
     "name": "stderr",
     "output_type": "stream",
     "text": [
      "[I 2024-12-01 04:52:46,940] Trial 30 finished with value: 0.06005838166141391 and parameters: {'topK': 261}. Best is trial 22 with value: 0.06005955223780571.\n"
     ]
    },
    {
     "name": "stdout",
     "output_type": "stream",
     "text": [
      "Current MAP = 0.0601 with parameters {'topK': 261, 'l1_ratio': 0.4033590645217344, 'alpha': 9.521340863590419e-05}\n"
     ]
    },
    {
     "name": "stderr",
     "output_type": "stream",
     "text": [
      "Progress: 100%|██████████| 38121/38121 [10:08<00:00, 62.61items/s] \n"
     ]
    },
    {
     "name": "stdout",
     "output_type": "stream",
     "text": [
      "EvaluatorHoldout: Processed 35595 (100.0%) in 15.84 sec. Users per second: 2247\n"
     ]
    },
    {
     "name": "stderr",
     "output_type": "stream",
     "text": [
      "[I 2024-12-01 05:03:12,546] Trial 31 finished with value: 0.06005667596438582 and parameters: {'topK': 256}. Best is trial 22 with value: 0.06005955223780571.\n"
     ]
    },
    {
     "name": "stdout",
     "output_type": "stream",
     "text": [
      "Current MAP = 0.0601 with parameters {'topK': 256, 'l1_ratio': 0.4033590645217344, 'alpha': 9.521340863590419e-05}\n"
     ]
    },
    {
     "name": "stderr",
     "output_type": "stream",
     "text": [
      "Progress: 100%|██████████| 38121/38121 [10:09<00:00, 62.51items/s] \n"
     ]
    },
    {
     "name": "stdout",
     "output_type": "stream",
     "text": [
      "EvaluatorHoldout: Processed 35595 (100.0%) in 15.88 sec. Users per second: 2241\n"
     ]
    },
    {
     "name": "stderr",
     "output_type": "stream",
     "text": [
      "[I 2024-12-01 05:13:39,088] Trial 32 finished with value: 0.06001885742825307 and parameters: {'topK': 338}. Best is trial 22 with value: 0.06005955223780571.\n"
     ]
    },
    {
     "name": "stdout",
     "output_type": "stream",
     "text": [
      "Current MAP = 0.0600 with parameters {'topK': 338, 'l1_ratio': 0.4033590645217344, 'alpha': 9.521340863590419e-05}\n"
     ]
    },
    {
     "name": "stderr",
     "output_type": "stream",
     "text": [
      "Progress: 100%|██████████| 38121/38121 [10:14<00:00, 62.07items/s] \n"
     ]
    },
    {
     "name": "stdout",
     "output_type": "stream",
     "text": [
      "EvaluatorHoldout: Processed 35595 (100.0%) in 15.62 sec. Users per second: 2279\n"
     ]
    },
    {
     "name": "stderr",
     "output_type": "stream",
     "text": [
      "[I 2024-12-01 05:24:09,673] Trial 33 finished with value: 0.060038409398500206 and parameters: {'topK': 161}. Best is trial 22 with value: 0.06005955223780571.\n"
     ]
    },
    {
     "name": "stdout",
     "output_type": "stream",
     "text": [
      "Current MAP = 0.0600 with parameters {'topK': 161, 'l1_ratio': 0.4033590645217344, 'alpha': 9.521340863590419e-05}\n"
     ]
    },
    {
     "name": "stderr",
     "output_type": "stream",
     "text": [
      "Progress: 100%|██████████| 38121/38121 [10:12<00:00, 62.20items/s] \n"
     ]
    },
    {
     "name": "stdout",
     "output_type": "stream",
     "text": [
      "EvaluatorHoldout: Processed 35595 (100.0%) in 15.82 sec. Users per second: 2250\n"
     ]
    },
    {
     "name": "stderr",
     "output_type": "stream",
     "text": [
      "[I 2024-12-01 05:34:39,221] Trial 34 finished with value: 0.06004940389790603 and parameters: {'topK': 259}. Best is trial 22 with value: 0.06005955223780571.\n"
     ]
    },
    {
     "name": "stdout",
     "output_type": "stream",
     "text": [
      "Current MAP = 0.0600 with parameters {'topK': 259, 'l1_ratio': 0.4033590645217344, 'alpha': 9.521340863590419e-05}\n"
     ]
    },
    {
     "name": "stderr",
     "output_type": "stream",
     "text": [
      "Progress: 100%|██████████| 38121/38121 [10:11<00:00, 62.30items/s] \n"
     ]
    },
    {
     "name": "stdout",
     "output_type": "stream",
     "text": [
      "EvaluatorHoldout: Processed 35595 (100.0%) in 15.90 sec. Users per second: 2239\n"
     ]
    },
    {
     "name": "stderr",
     "output_type": "stream",
     "text": [
      "[I 2024-12-01 05:45:07,880] Trial 35 finished with value: 0.06001708149664144 and parameters: {'topK': 309}. Best is trial 22 with value: 0.06005955223780571.\n"
     ]
    },
    {
     "name": "stdout",
     "output_type": "stream",
     "text": [
      "Current MAP = 0.0600 with parameters {'topK': 309, 'l1_ratio': 0.4033590645217344, 'alpha': 9.521340863590419e-05}\n"
     ]
    },
    {
     "name": "stderr",
     "output_type": "stream",
     "text": [
      "Progress: 100%|██████████| 38121/38121 [10:09<00:00, 62.56items/s] \n"
     ]
    },
    {
     "name": "stdout",
     "output_type": "stream",
     "text": [
      "EvaluatorHoldout: Processed 35595 (100.0%) in 15.89 sec. Users per second: 2240\n"
     ]
    },
    {
     "name": "stderr",
     "output_type": "stream",
     "text": [
      "[I 2024-12-01 05:55:33,982] Trial 36 finished with value: 0.059998890739512686 and parameters: {'topK': 399}. Best is trial 22 with value: 0.06005955223780571.\n"
     ]
    },
    {
     "name": "stdout",
     "output_type": "stream",
     "text": [
      "Current MAP = 0.0600 with parameters {'topK': 399, 'l1_ratio': 0.4033590645217344, 'alpha': 9.521340863590419e-05}\n"
     ]
    },
    {
     "name": "stderr",
     "output_type": "stream",
     "text": [
      "Progress: 100%|██████████| 38121/38121 [10:06<00:00, 62.81items/s] \n"
     ]
    },
    {
     "name": "stdout",
     "output_type": "stream",
     "text": [
      "EvaluatorHoldout: Processed 35595 (100.0%) in 15.86 sec. Users per second: 2245\n"
     ]
    },
    {
     "name": "stderr",
     "output_type": "stream",
     "text": [
      "[I 2024-12-01 06:05:57,582] Trial 37 finished with value: 0.06005532144027528 and parameters: {'topK': 245}. Best is trial 22 with value: 0.06005955223780571.\n"
     ]
    },
    {
     "name": "stdout",
     "output_type": "stream",
     "text": [
      "Current MAP = 0.0601 with parameters {'topK': 245, 'l1_ratio': 0.4033590645217344, 'alpha': 9.521340863590419e-05}\n"
     ]
    },
    {
     "name": "stderr",
     "output_type": "stream",
     "text": [
      "Progress: 100%|██████████| 38121/38121 [10:13<00:00, 62.10items/s] \n"
     ]
    },
    {
     "name": "stdout",
     "output_type": "stream",
     "text": [
      "EvaluatorHoldout: Processed 35595 (100.0%) in 15.68 sec. Users per second: 2271\n"
     ]
    },
    {
     "name": "stderr",
     "output_type": "stream",
     "text": [
      "[I 2024-12-01 06:16:27,962] Trial 38 finished with value: 0.06002479615248072 and parameters: {'topK': 182}. Best is trial 22 with value: 0.06005955223780571.\n"
     ]
    },
    {
     "name": "stdout",
     "output_type": "stream",
     "text": [
      "Current MAP = 0.0600 with parameters {'topK': 182, 'l1_ratio': 0.4033590645217344, 'alpha': 9.521340863590419e-05}\n"
     ]
    },
    {
     "name": "stderr",
     "output_type": "stream",
     "text": [
      "Progress: 100%|██████████| 38121/38121 [10:08<00:00, 62.69items/s] \n"
     ]
    },
    {
     "name": "stdout",
     "output_type": "stream",
     "text": [
      "EvaluatorHoldout: Processed 35595 (100.0%) in 15.23 sec. Users per second: 2338\n"
     ]
    },
    {
     "name": "stderr",
     "output_type": "stream",
     "text": [
      "[I 2024-12-01 06:26:52,118] Trial 39 finished with value: 0.059966713266753485 and parameters: {'topK': 123}. Best is trial 22 with value: 0.06005955223780571.\n"
     ]
    },
    {
     "name": "stdout",
     "output_type": "stream",
     "text": [
      "Current MAP = 0.0600 with parameters {'topK': 123, 'l1_ratio': 0.4033590645217344, 'alpha': 9.521340863590419e-05}\n"
     ]
    },
    {
     "name": "stderr",
     "output_type": "stream",
     "text": [
      "Progress: 100%|██████████| 38121/38121 [10:11<00:00, 62.36items/s] \n"
     ]
    },
    {
     "name": "stdout",
     "output_type": "stream",
     "text": [
      "EvaluatorHoldout: Processed 35595 (100.0%) in 15.93 sec. Users per second: 2234\n"
     ]
    },
    {
     "name": "stderr",
     "output_type": "stream",
     "text": [
      "[I 2024-12-01 06:37:20,199] Trial 40 finished with value: 0.060016335672254686 and parameters: {'topK': 341}. Best is trial 22 with value: 0.06005955223780571.\n"
     ]
    },
    {
     "name": "stdout",
     "output_type": "stream",
     "text": [
      "Current MAP = 0.0600 with parameters {'topK': 341, 'l1_ratio': 0.4033590645217344, 'alpha': 9.521340863590419e-05}\n"
     ]
    },
    {
     "name": "stderr",
     "output_type": "stream",
     "text": [
      "Progress: 100%|██████████| 38121/38121 [10:13<00:00, 62.17items/s] \n"
     ]
    },
    {
     "name": "stdout",
     "output_type": "stream",
     "text": [
      "EvaluatorHoldout: Processed 35595 (100.0%) in 15.87 sec. Users per second: 2243\n"
     ]
    },
    {
     "name": "stderr",
     "output_type": "stream",
     "text": [
      "[I 2024-12-01 06:47:50,068] Trial 41 finished with value: 0.06005954220429377 and parameters: {'topK': 250}. Best is trial 22 with value: 0.06005955223780571.\n"
     ]
    },
    {
     "name": "stdout",
     "output_type": "stream",
     "text": [
      "Current MAP = 0.0601 with parameters {'topK': 250, 'l1_ratio': 0.4033590645217344, 'alpha': 9.521340863590419e-05}\n"
     ]
    },
    {
     "name": "stderr",
     "output_type": "stream",
     "text": [
      "Progress: 100%|██████████| 38121/38121 [10:16<00:00, 61.84items/s] \n"
     ]
    },
    {
     "name": "stdout",
     "output_type": "stream",
     "text": [
      "EvaluatorHoldout: Processed 35595 (100.0%) in 15.85 sec. Users per second: 2246\n"
     ]
    },
    {
     "name": "stderr",
     "output_type": "stream",
     "text": [
      "[I 2024-12-01 06:58:23,256] Trial 42 finished with value: 0.06003327781456544 and parameters: {'topK': 271}. Best is trial 22 with value: 0.06005955223780571.\n"
     ]
    },
    {
     "name": "stdout",
     "output_type": "stream",
     "text": [
      "Current MAP = 0.0600 with parameters {'topK': 271, 'l1_ratio': 0.4033590645217344, 'alpha': 9.521340863590419e-05}\n"
     ]
    },
    {
     "name": "stderr",
     "output_type": "stream",
     "text": [
      "Progress: 100%|██████████| 38121/38121 [10:09<00:00, 62.52items/s] \n"
     ]
    },
    {
     "name": "stdout",
     "output_type": "stream",
     "text": [
      "EvaluatorHoldout: Processed 35595 (100.0%) in 15.92 sec. Users per second: 2236\n"
     ]
    },
    {
     "name": "stderr",
     "output_type": "stream",
     "text": [
      "[I 2024-12-01 07:08:49,710] Trial 43 finished with value: 0.059996383476364885 and parameters: {'topK': 451}. Best is trial 22 with value: 0.06005955223780571.\n"
     ]
    },
    {
     "name": "stdout",
     "output_type": "stream",
     "text": [
      "Current MAP = 0.0600 with parameters {'topK': 451, 'l1_ratio': 0.4033590645217344, 'alpha': 9.521340863590419e-05}\n"
     ]
    },
    {
     "name": "stderr",
     "output_type": "stream",
     "text": [
      "Progress: 100%|██████████| 38121/38121 [10:12<00:00, 62.23items/s] \n"
     ]
    },
    {
     "name": "stdout",
     "output_type": "stream",
     "text": [
      "EvaluatorHoldout: Processed 35595 (100.0%) in 15.81 sec. Users per second: 2251\n"
     ]
    },
    {
     "name": "stderr",
     "output_type": "stream",
     "text": [
      "[I 2024-12-01 07:19:18,900] Trial 44 finished with value: 0.060043728274657766 and parameters: {'topK': 232}. Best is trial 22 with value: 0.06005955223780571.\n"
     ]
    },
    {
     "name": "stdout",
     "output_type": "stream",
     "text": [
      "Current MAP = 0.0600 with parameters {'topK': 232, 'l1_ratio': 0.4033590645217344, 'alpha': 9.521340863590419e-05}\n"
     ]
    },
    {
     "name": "stderr",
     "output_type": "stream",
     "text": [
      "Progress: 100%|██████████| 38121/38121 [10:12<00:00, 62.23items/s] \n"
     ]
    },
    {
     "name": "stdout",
     "output_type": "stream",
     "text": [
      "EvaluatorHoldout: Processed 35595 (100.0%) in 15.90 sec. Users per second: 2239\n"
     ]
    },
    {
     "name": "stderr",
     "output_type": "stream",
     "text": [
      "[I 2024-12-01 07:29:48,196] Trial 45 finished with value: 0.060015103779956586 and parameters: {'topK': 305}. Best is trial 22 with value: 0.06005955223780571.\n"
     ]
    },
    {
     "name": "stdout",
     "output_type": "stream",
     "text": [
      "Current MAP = 0.0600 with parameters {'topK': 305, 'l1_ratio': 0.4033590645217344, 'alpha': 9.521340863590419e-05}\n"
     ]
    },
    {
     "name": "stderr",
     "output_type": "stream",
     "text": [
      "Progress: 100%|██████████| 38121/38121 [10:13<00:00, 62.15items/s] \n"
     ]
    },
    {
     "name": "stdout",
     "output_type": "stream",
     "text": [
      "EvaluatorHoldout: Processed 35595 (100.0%) in 15.69 sec. Users per second: 2268\n"
     ]
    },
    {
     "name": "stderr",
     "output_type": "stream",
     "text": [
      "[I 2024-12-01 07:40:18,086] Trial 46 finished with value: 0.06001945274996075 and parameters: {'topK': 179}. Best is trial 22 with value: 0.06005955223780571.\n"
     ]
    },
    {
     "name": "stdout",
     "output_type": "stream",
     "text": [
      "Current MAP = 0.0600 with parameters {'topK': 179, 'l1_ratio': 0.4033590645217344, 'alpha': 9.521340863590419e-05}\n"
     ]
    },
    {
     "name": "stderr",
     "output_type": "stream",
     "text": [
      "Progress: 100%|██████████| 38121/38121 [10:11<00:00, 62.32items/s] \n"
     ]
    },
    {
     "name": "stdout",
     "output_type": "stream",
     "text": [
      "EvaluatorHoldout: Processed 35595 (100.0%) in 15.77 sec. Users per second: 2257\n"
     ]
    },
    {
     "name": "stderr",
     "output_type": "stream",
     "text": [
      "[I 2024-12-01 07:50:46,399] Trial 47 finished with value: 0.06001341257577914 and parameters: {'topK': 336}. Best is trial 22 with value: 0.06005955223780571.\n"
     ]
    },
    {
     "name": "stdout",
     "output_type": "stream",
     "text": [
      "Current MAP = 0.0600 with parameters {'topK': 336, 'l1_ratio': 0.4033590645217344, 'alpha': 9.521340863590419e-05}\n"
     ]
    },
    {
     "name": "stderr",
     "output_type": "stream",
     "text": [
      "Progress: 100%|██████████| 38121/38121 [10:11<00:00, 62.32items/s] \n"
     ]
    },
    {
     "name": "stdout",
     "output_type": "stream",
     "text": [
      "EvaluatorHoldout: Processed 35595 (100.0%) in 15.26 sec. Users per second: 2333\n"
     ]
    },
    {
     "name": "stderr",
     "output_type": "stream",
     "text": [
      "[I 2024-12-01 08:01:14,093] Trial 48 finished with value: 0.059956858128369074 and parameters: {'topK': 124}. Best is trial 22 with value: 0.06005955223780571.\n"
     ]
    },
    {
     "name": "stdout",
     "output_type": "stream",
     "text": [
      "Current MAP = 0.0600 with parameters {'topK': 124, 'l1_ratio': 0.4033590645217344, 'alpha': 9.521340863590419e-05}\n"
     ]
    },
    {
     "name": "stderr",
     "output_type": "stream",
     "text": [
      "Progress: 100%|██████████| 38121/38121 [10:08<00:00, 62.65items/s] \n"
     ]
    },
    {
     "name": "stdout",
     "output_type": "stream",
     "text": [
      "EvaluatorHoldout: Processed 35595 (100.0%) in 15.87 sec. Users per second: 2242\n"
     ]
    },
    {
     "name": "stderr",
     "output_type": "stream",
     "text": [
      "[I 2024-12-01 08:11:39,258] Trial 49 finished with value: 0.06002956764482074 and parameters: {'topK': 287}. Best is trial 22 with value: 0.06005955223780571.\n"
     ]
    },
    {
     "name": "stdout",
     "output_type": "stream",
     "text": [
      "Current MAP = 0.0600 with parameters {'topK': 287, 'l1_ratio': 0.4033590645217344, 'alpha': 9.521340863590419e-05}\n"
     ]
    },
    {
     "name": "stderr",
     "output_type": "stream",
     "text": [
      "Progress: 100%|██████████| 38121/38121 [10:11<00:00, 62.33items/s] \n"
     ]
    },
    {
     "name": "stdout",
     "output_type": "stream",
     "text": [
      "EvaluatorHoldout: Processed 35595 (100.0%) in 15.86 sec. Users per second: 2244\n"
     ]
    },
    {
     "name": "stderr",
     "output_type": "stream",
     "text": [
      "[I 2024-12-01 08:22:07,578] Trial 50 finished with value: 0.06004342169512658 and parameters: {'topK': 230}. Best is trial 22 with value: 0.06005955223780571.\n"
     ]
    },
    {
     "name": "stdout",
     "output_type": "stream",
     "text": [
      "Current MAP = 0.0600 with parameters {'topK': 230, 'l1_ratio': 0.4033590645217344, 'alpha': 9.521340863590419e-05}\n"
     ]
    },
    {
     "name": "stderr",
     "output_type": "stream",
     "text": [
      "Progress: 100%|██████████| 38121/38121 [34:45<00:00, 18.28items/s] \n"
     ]
    },
    {
     "name": "stdout",
     "output_type": "stream",
     "text": [
      "EvaluatorHoldout: Processed 35595 (100.0%) in 15.53 sec. Users per second: 2292\n"
     ]
    },
    {
     "name": "stderr",
     "output_type": "stream",
     "text": [
      "[I 2024-12-01 08:57:09,897] Trial 51 finished with value: 0.060054209950120445 and parameters: {'topK': 236}. Best is trial 22 with value: 0.06005955223780571.\n"
     ]
    },
    {
     "name": "stdout",
     "output_type": "stream",
     "text": [
      "Current MAP = 0.0601 with parameters {'topK': 236, 'l1_ratio': 0.4033590645217344, 'alpha': 9.521340863590419e-05}\n"
     ]
    },
    {
     "name": "stderr",
     "output_type": "stream",
     "text": [
      "Progress: 100%|██████████| 38121/38121 [36:53<00:00, 17.22items/s]  \n"
     ]
    },
    {
     "name": "stdout",
     "output_type": "stream",
     "text": [
      "EvaluatorHoldout: Processed 35595 (100.0%) in 15.28 sec. Users per second: 2329\n"
     ]
    },
    {
     "name": "stderr",
     "output_type": "stream",
     "text": [
      "[I 2024-12-01 09:34:19,929] Trial 52 finished with value: 0.06006386664793552 and parameters: {'topK': 248}. Best is trial 52 with value: 0.06006386664793552.\n"
     ]
    },
    {
     "name": "stdout",
     "output_type": "stream",
     "text": [
      "Current MAP = 0.0601 with parameters {'topK': 248, 'l1_ratio': 0.4033590645217344, 'alpha': 9.521340863590419e-05}\n"
     ]
    },
    {
     "name": "stderr",
     "output_type": "stream",
     "text": [
      "Progress: 100%|██████████| 38121/38121 [09:25<00:00, 67.42items/s]\n"
     ]
    },
    {
     "name": "stdout",
     "output_type": "stream",
     "text": [
      "EvaluatorHoldout: Processed 35595 (100.0%) in 15.69 sec. Users per second: 2269\n"
     ]
    },
    {
     "name": "stderr",
     "output_type": "stream",
     "text": [
      "[I 2024-12-01 09:44:01,869] Trial 53 finished with value: 0.06002536806266077 and parameters: {'topK': 277}. Best is trial 52 with value: 0.06006386664793552.\n"
     ]
    },
    {
     "name": "stdout",
     "output_type": "stream",
     "text": [
      "Current MAP = 0.0600 with parameters {'topK': 277, 'l1_ratio': 0.4033590645217344, 'alpha': 9.521340863590419e-05}\n"
     ]
    },
    {
     "name": "stderr",
     "output_type": "stream",
     "text": [
      "Progress: 100%|██████████| 38121/38121 [09:13<00:00, 68.82items/s]\n"
     ]
    },
    {
     "name": "stdout",
     "output_type": "stream",
     "text": [
      "EvaluatorHoldout: Processed 35595 (100.0%) in 15.53 sec. Users per second: 2292\n"
     ]
    },
    {
     "name": "stderr",
     "output_type": "stream",
     "text": [
      "[I 2024-12-01 09:53:32,173] Trial 54 finished with value: 0.06004951872587595 and parameters: {'topK': 204}. Best is trial 52 with value: 0.06006386664793552.\n"
     ]
    },
    {
     "name": "stdout",
     "output_type": "stream",
     "text": [
      "Current MAP = 0.0600 with parameters {'topK': 204, 'l1_ratio': 0.4033590645217344, 'alpha': 9.521340863590419e-05}\n"
     ]
    },
    {
     "name": "stderr",
     "output_type": "stream",
     "text": [
      "Progress: 100%|██████████| 38121/38121 [08:56<00:00, 71.07items/s]\n"
     ]
    },
    {
     "name": "stdout",
     "output_type": "stream",
     "text": [
      "EvaluatorHoldout: Processed 35595 (100.0%) in 15.20 sec. Users per second: 2341\n"
     ]
    },
    {
     "name": "stderr",
     "output_type": "stream",
     "text": [
      "[I 2024-12-01 10:02:44,602] Trial 55 finished with value: 0.059996172772614355 and parameters: {'topK': 727}. Best is trial 52 with value: 0.06006386664793552.\n"
     ]
    },
    {
     "name": "stdout",
     "output_type": "stream",
     "text": [
      "Current MAP = 0.0600 with parameters {'topK': 727, 'l1_ratio': 0.4033590645217344, 'alpha': 9.521340863590419e-05}\n"
     ]
    },
    {
     "name": "stderr",
     "output_type": "stream",
     "text": [
      "Progress: 100%|██████████| 38121/38121 [08:55<00:00, 71.12items/s]\n"
     ]
    },
    {
     "name": "stdout",
     "output_type": "stream",
     "text": [
      "EvaluatorHoldout: Processed 35595 (100.0%) in 15.32 sec. Users per second: 2323\n"
     ]
    },
    {
     "name": "stderr",
     "output_type": "stream",
     "text": [
      "[I 2024-12-01 10:11:56,774] Trial 56 finished with value: 0.059993643212773375 and parameters: {'topK': 548}. Best is trial 52 with value: 0.06006386664793552.\n"
     ]
    },
    {
     "name": "stdout",
     "output_type": "stream",
     "text": [
      "Current MAP = 0.0600 with parameters {'topK': 548, 'l1_ratio': 0.4033590645217344, 'alpha': 9.521340863590419e-05}\n"
     ]
    },
    {
     "name": "stderr",
     "output_type": "stream",
     "text": [
      "Progress: 100%|██████████| 38121/38121 [11:26<00:00, 55.54items/s] \n"
     ]
    },
    {
     "name": "stdout",
     "output_type": "stream",
     "text": [
      "EvaluatorHoldout: Processed 35595 (100.0%) in 24.03 sec. Users per second: 1481\n"
     ]
    },
    {
     "name": "stderr",
     "output_type": "stream",
     "text": [
      "[I 2024-12-01 10:23:48,776] Trial 57 finished with value: 0.05999864770555704 and parameters: {'topK': 380}. Best is trial 52 with value: 0.06006386664793552.\n"
     ]
    },
    {
     "name": "stdout",
     "output_type": "stream",
     "text": [
      "Current MAP = 0.0600 with parameters {'topK': 380, 'l1_ratio': 0.4033590645217344, 'alpha': 9.521340863590419e-05}\n"
     ]
    },
    {
     "name": "stderr",
     "output_type": "stream",
     "text": [
      "Progress: 100%|██████████| 38121/38121 [15:52<00:00, 40.02items/s] \n"
     ]
    },
    {
     "name": "stdout",
     "output_type": "stream",
     "text": [
      "EvaluatorHoldout: Processed 35595 (100.0%) in 16.16 sec. Users per second: 2202\n"
     ]
    },
    {
     "name": "stderr",
     "output_type": "stream",
     "text": [
      "[I 2024-12-01 10:39:58,335] Trial 58 finished with value: 0.060022675736959685 and parameters: {'topK': 321}. Best is trial 52 with value: 0.06006386664793552.\n"
     ]
    },
    {
     "name": "stdout",
     "output_type": "stream",
     "text": [
      "Current MAP = 0.0600 with parameters {'topK': 321, 'l1_ratio': 0.4033590645217344, 'alpha': 9.521340863590419e-05}\n"
     ]
    },
    {
     "name": "stderr",
     "output_type": "stream",
     "text": [
      "Progress:   0%|          | 0/38121 [03:05<?, ?items/s]\n"
     ]
    }
   ],
   "source": [
    "# New optuna study\n",
    "import optuna\n",
    "from Recommenders.SLIM.SLIMElasticNetRecommender_MultithreadWorking import MultiThreadSLIM_SLIMElasticNetRecommender\n",
    "\n",
    "def objective_function(trial):\n",
    "\n",
    "    params = {\n",
    "        'topK' : trial.suggest_int('topK', 80, 800),\n",
    "        'l1_ratio': 0.4033590645217344,\n",
    "        'alpha': 9.521340863590419e-05\n",
    "    }\n",
    "\n",
    "\n",
    "    MAP = 0\n",
    "    recommender = MultiThreadSLIM_SLIMElasticNetRecommender(URM_train_validation)\n",
    "    recommender.fit(**params)\n",
    "\n",
    "    result_dict, _ = evaluator_test.evaluateRecommender(recommender)\n",
    "\n",
    "    MAP = result_dict.loc[10][\"MAP\"]\n",
    "    print(\"Current MAP = {:.4f} with parameters {}\".format(MAP, params))\n",
    "    \n",
    "    return MAP\n",
    "\n",
    "\n",
    "class SaveResults(object):\n",
    "    \n",
    "    def __init__(self):\n",
    "        self.results_df = pd.DataFrame(columns = [\"result\"])\n",
    "    \n",
    "    def __call__(self, optuna_study, optuna_trial):\n",
    "        hyperparam_dict = optuna_trial.params.copy()\n",
    "        hyperparam_dict[\"result\"] = optuna_trial.values[0]\n",
    "        \n",
    "        self.results_df = pd.concat([self.results_df, pd.DataFrame([hyperparam_dict])], ignore_index=True)\n",
    "        self.results_df.to_csv(\"logs/SLIM/Slimnet_K_Best_2nd.csv\", index = False)\n",
    "    \n",
    "optuna_study = optuna.create_study(direction=\"maximize\")\n",
    "        \n",
    "save_results = SaveResults()\n",
    "        \n",
    "optuna_study.optimize(objective_function,\n",
    "                      callbacks=[save_results],\n",
    "                      n_trials = 100)"
   ]
  },
  {
   "cell_type": "code",
   "execution_count": 13,
   "metadata": {},
   "outputs": [
    {
     "name": "stdout",
     "output_type": "stream",
     "text": [
      "{'result': 0.05739971393342457, 'l1_ratio': 0.9789616374877664, 'alpha': 9.950495272337068e-06}\n"
     ]
    }
   ],
   "source": [
    "best_index = save_results.results_df[\"result\"].idxmax()\n",
    "best_hyperparams = save_results.results_df.loc[best_index].to_dict()\n",
    "print(best_hyperparams)"
   ]
  }
 ],
 "metadata": {
  "kernelspec": {
   "display_name": "RecSysPD",
   "language": "python",
   "name": "python3"
  },
  "language_info": {
   "codemirror_mode": {
    "name": "ipython",
    "version": 3
   },
   "file_extension": ".py",
   "mimetype": "text/x-python",
   "name": "python",
   "nbconvert_exporter": "python",
   "pygments_lexer": "ipython3",
   "version": "3.8.20"
  }
 },
 "nbformat": 4,
 "nbformat_minor": 2
}
