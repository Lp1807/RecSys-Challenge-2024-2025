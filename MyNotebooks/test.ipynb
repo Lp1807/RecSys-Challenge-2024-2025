{
 "cells": [
  {
   "cell_type": "code",
   "execution_count": 2,
   "metadata": {},
   "outputs": [],
   "source": [
    "import os\n",
    "os.chdir('../')"
   ]
  },
  {
   "cell_type": "code",
   "execution_count": 4,
   "metadata": {},
   "outputs": [
    {
     "name": "stdout",
     "output_type": "stream",
     "text": [
      "   user_id  item_id  data\n",
      "0        0        0   1.0\n",
      "1        0        2   1.0\n",
      "2        0      120   1.0\n",
      "3        0      128   1.0\n",
      "4        0      211   1.0\n",
      "5        0      232   1.0\n",
      "6        0      282   1.0\n",
      "7        0      453   1.0\n",
      "8        0      458   1.0\n",
      "9        0      491   1.0\n"
     ]
    }
   ],
   "source": [
    "import numpy as np\n",
    "import pandas as pd\n",
    "import matplotlib.pyplot as plt\n",
    "\n",
    "data_train_path = \"Dataset/data_train.csv\"\n",
    "\n",
    "URM_all_dataframe = pd.read_csv(data_train_path)\n",
    "print(URM_all_dataframe.head(10))"
   ]
  },
  {
   "cell_type": "code",
   "execution_count": 5,
   "metadata": {},
   "outputs": [],
   "source": [
    "import numpy as np\n",
    "import scipy.sparse as sps\n",
    "from Data_manager.split_functions.split_train_validation_random_holdout import split_train_in_two_percentage_global_sample\n",
    "from Evaluation.Evaluator import EvaluatorHoldout\n",
    "\n",
    "\n",
    "\n",
    "URM_all = sps.coo_matrix((URM_all_dataframe['data'], (URM_all_dataframe['user_id'], URM_all_dataframe['item_id'])))\n",
    "URM_all = URM_all.tocsr()"
   ]
  },
  {
   "cell_type": "code",
   "execution_count": 6,
   "metadata": {},
   "outputs": [],
   "source": [
    "'''Best alpha: 0.0014665049349635376, l1_ratio: 0.00012146265227371838, topK: 734\n",
    "'''\n",
    "\n",
    "alpha = 0.0014665049349635376\n",
    "l1_ratio = 0.00012146265227371838\n",
    "topK = 734 "
   ]
  },
  {
   "cell_type": "code",
   "execution_count": 10,
   "metadata": {},
   "outputs": [
    {
     "name": "stdout",
     "output_type": "stream",
     "text": [
      "SLIMElasticNetRecommender: Processed 2899 ( 7.6%) in 5.00 min. Items per second: 9.66\n",
      "SLIMElasticNetRecommender: Processed 5811 (15.2%) in 10.00 min. Items per second: 9.68\n",
      "SLIMElasticNetRecommender: Processed 8653 (22.7%) in 15.00 min. Items per second: 9.61\n",
      "SLIMElasticNetRecommender: Processed 11443 (30.0%) in 20.01 min. Items per second: 9.53\n",
      "SLIMElasticNetRecommender: Processed 14275 (37.4%) in 25.01 min. Items per second: 9.51\n",
      "SLIMElasticNetRecommender: Processed 17297 (45.4%) in 30.01 min. Items per second: 9.61\n",
      "SLIMElasticNetRecommender: Processed 20239 (53.1%) in 35.01 min. Items per second: 9.63\n",
      "SLIMElasticNetRecommender: Processed 23013 (60.4%) in 40.01 min. Items per second: 9.59\n",
      "SLIMElasticNetRecommender: Processed 25752 (67.6%) in 45.01 min. Items per second: 9.54\n",
      "SLIMElasticNetRecommender: Processed 28479 (74.7%) in 50.01 min. Items per second: 9.49\n",
      "SLIMElasticNetRecommender: Processed 31363 (82.3%) in 55.01 min. Items per second: 9.50\n",
      "SLIMElasticNetRecommender: Processed 34434 (90.3%) in 1.00 hour. Items per second: 9.56\n",
      "SLIMElasticNetRecommender: Processed 37150 (97.5%) in 1.08 hour. Items per second: 9.52\n",
      "SLIMElasticNetRecommender: Processed 38121 (100.0%) in 1.11 hour. Items per second: 9.50\n"
     ]
    }
   ],
   "source": [
    "from Recommenders.SLIM.SLIMElasticNetRecommender import SLIMElasticNetRecommender\n",
    "\n",
    "newRecommender = SLIMElasticNetRecommender(URM_all)\n",
    "newRecommender.fit(topK=topK, l1_ratio=l1_ratio, alpha=alpha)"
   ]
  },
  {
   "cell_type": "code",
   "execution_count": null,
   "metadata": {},
   "outputs": [],
   "source": [
    "target_user = pd.read_csv(\"Dataset/data_target_users_test.csv\")\n",
    "print(target_user.head(10))\n",
    "\n",
    "user_id = target_user['user_id']\n",
    "recommendations = []\n",
    "for user in user_id:\n",
    "    recommendations.append(newRecommender.recommend(user, cutoff=10))\n",
    "\n",
    "# Saving in a submission file for the competition\n",
    "submission = pd.DataFrame(columns=['user_id', 'item_list'])\n",
    "submission['user_id'] = user_id\n",
    "# Convert list of recommendations into a space-separated string\n",
    "submission['item_list'] = [' '.join(map(str, recs)) for recs in recommendations]\n",
    "\n",
    "# Save the submission file\n",
    "submission.to_csv(\"submissions/slimnet_firstFinal.csv\", index=False)"
   ]
  }
 ],
 "metadata": {
  "kernelspec": {
   "display_name": "RecSysPD",
   "language": "python",
   "name": "python3"
  },
  "language_info": {
   "codemirror_mode": {
    "name": "ipython",
    "version": 3
   },
   "file_extension": ".py",
   "mimetype": "text/x-python",
   "name": "python",
   "nbconvert_exporter": "python",
   "pygments_lexer": "ipython3",
   "version": "3.8.20"
  }
 },
 "nbformat": 4,
 "nbformat_minor": 2
}
