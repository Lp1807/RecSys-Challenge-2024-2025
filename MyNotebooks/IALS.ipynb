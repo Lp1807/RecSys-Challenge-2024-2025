{
 "cells": [
  {
   "cell_type": "code",
   "execution_count": 2,
   "metadata": {},
   "outputs": [],
   "source": [
    "import os\n",
    "\n",
    "os.chdir('../')"
   ]
  },
  {
   "cell_type": "code",
   "execution_count": 3,
   "metadata": {},
   "outputs": [
    {
     "name": "stdout",
     "output_type": "stream",
     "text": [
      "   user_id  item_id  data\n",
      "0        0        0   1.0\n",
      "1        0        2   1.0\n",
      "2        0      120   1.0\n",
      "3        0      128   1.0\n",
      "4        0      211   1.0\n",
      "5        0      232   1.0\n",
      "6        0      282   1.0\n",
      "7        0      453   1.0\n",
      "8        0      458   1.0\n",
      "9        0      491   1.0\n"
     ]
    }
   ],
   "source": [
    "import numpy as np\n",
    "import pandas as pd\n",
    "import matplotlib.pyplot as plt\n",
    "\n",
    "data_train_path = \"Dataset/data_train.csv\"\n",
    "\n",
    "URM_all_dataframe = pd.read_csv(data_train_path)\n",
    "print(URM_all_dataframe.head(10))"
   ]
  },
  {
   "cell_type": "code",
   "execution_count": 4,
   "metadata": {},
   "outputs": [
    {
     "name": "stdout",
     "output_type": "stream",
     "text": [
      "Warning: 141 (0.39 %) of 35736 users have no sampled items\n",
      "EvaluatorHoldout: Ignoring 141 ( 0.4%) Users that have less than 1 test interactions\n"
     ]
    }
   ],
   "source": [
    "import numpy as np\n",
    "import scipy.sparse as sps\n",
    "from Data_manager.split_functions.split_train_validation_random_holdout import split_train_in_two_percentage_global_sample\n",
    "from Evaluation.Evaluator import EvaluatorHoldout\n",
    "\n",
    "\n",
    "\n",
    "URM_all = sps.coo_matrix((URM_all_dataframe['data'], (URM_all_dataframe['user_id'], URM_all_dataframe['item_id'])))\n",
    "URM_all = URM_all.tocsr()\n",
    "\n",
    "URM_train_validation, URM_test = split_train_in_two_percentage_global_sample(URM_all, train_percentage = 0.8)\n",
    "evaluator_test = EvaluatorHoldout(URM_test, cutoff_list=[10])"
   ]
  },
  {
   "cell_type": "code",
   "execution_count": 5,
   "metadata": {},
   "outputs": [],
   "source": [
    "os.environ[\"OPENBLAS_NUM_THREADS\"] = \"1\""
   ]
  },
  {
   "cell_type": "code",
   "execution_count": 6,
   "metadata": {},
   "outputs": [
    {
     "name": "stderr",
     "output_type": "stream",
     "text": [
      "[I 2024-12-27 17:55:21,627] A new study created in memory with name: IALS\n"
     ]
    },
    {
     "name": "stdout",
     "output_type": "stream",
     "text": [
      "Current parameters: factors=122, iterations=203, regularization=0.1149551173878709, alpha=31.40168583772485\n"
     ]
    },
    {
     "name": "stderr",
     "output_type": "stream",
     "text": [
      "/var/folders/50/7hjr20g17_18p725nbt0qqv00000gn/T/ipykernel_81509/1494389866.py:12: FutureWarning: suggest_uniform has been deprecated in v3.0.0. This feature will be removed in v6.0.0. See https://github.com/optuna/optuna/releases/tag/v3.0.0. Use suggest_float instead.\n",
      "  regularization = trial.suggest_uniform(\"regularization\", 0.0, 1.0)\n",
      "/var/folders/50/7hjr20g17_18p725nbt0qqv00000gn/T/ipykernel_81509/1494389866.py:13: FutureWarning: suggest_uniform has been deprecated in v3.0.0. This feature will be removed in v6.0.0. See https://github.com/optuna/optuna/releases/tag/v3.0.0. Use suggest_float instead.\n",
      "  alpha = trial.suggest_uniform(\"alpha\", 0.0, 50.0)\n",
      "/Users/lucapagano/miniconda3/envs/RecSysPD/lib/python3.8/site-packages/implicit/cpu/als.py:95: RuntimeWarning: OpenBLAS is configured to use 8 threads. It is highly recommended to disable its internal threadpool by setting the environment variable 'OPENBLAS_NUM_THREADS=1' or by calling 'threadpoolctl.threadpool_limits(1, \"blas\")'. Having OpenBLAS use a threadpool can lead to severe performance issues here.\n",
      "  check_blas_config()\n"
     ]
    },
    {
     "data": {
      "application/vnd.jupyter.widget-view+json": {
       "model_id": "6057dd405f754b95b38d738fb3e65da4",
       "version_major": 2,
       "version_minor": 0
      },
      "text/plain": [
       "  0%|          | 0/203 [00:00<?, ?it/s]"
      ]
     },
     "metadata": {},
     "output_type": "display_data"
    },
    {
     "name": "stdout",
     "output_type": "stream",
     "text": [
      "EvaluatorHoldout: Processed 35595 (100.0%) in 19.90 sec. Users per second: 1788\n"
     ]
    },
    {
     "name": "stderr",
     "output_type": "stream",
     "text": [
      "[I 2024-12-27 18:02:52,502] Trial 0 finished with value: 0.027279619484633304 and parameters: {'factors': 122, 'iterations': 203, 'regularization': 0.1149551173878709, 'alpha': 31.40168583772485}. Best is trial 0 with value: 0.027279619484633304.\n"
     ]
    },
    {
     "name": "stdout",
     "output_type": "stream",
     "text": [
      "Current parameters: factors=3, iterations=470, regularization=0.9420767954979459, alpha=31.763352876290064\n"
     ]
    },
    {
     "name": "stderr",
     "output_type": "stream",
     "text": [
      "/var/folders/50/7hjr20g17_18p725nbt0qqv00000gn/T/ipykernel_81509/1494389866.py:12: FutureWarning: suggest_uniform has been deprecated in v3.0.0. This feature will be removed in v6.0.0. See https://github.com/optuna/optuna/releases/tag/v3.0.0. Use suggest_float instead.\n",
      "  regularization = trial.suggest_uniform(\"regularization\", 0.0, 1.0)\n",
      "/var/folders/50/7hjr20g17_18p725nbt0qqv00000gn/T/ipykernel_81509/1494389866.py:13: FutureWarning: suggest_uniform has been deprecated in v3.0.0. This feature will be removed in v6.0.0. See https://github.com/optuna/optuna/releases/tag/v3.0.0. Use suggest_float instead.\n",
      "  alpha = trial.suggest_uniform(\"alpha\", 0.0, 50.0)\n"
     ]
    },
    {
     "data": {
      "application/vnd.jupyter.widget-view+json": {
       "model_id": "1f3f82189ec449e7be25ccda44b35f17",
       "version_major": 2,
       "version_minor": 0
      },
      "text/plain": [
       "  0%|          | 0/470 [00:00<?, ?it/s]"
      ]
     },
     "metadata": {},
     "output_type": "display_data"
    },
    {
     "name": "stdout",
     "output_type": "stream",
     "text": [
      "EvaluatorHoldout: Processed 35595 (100.0%) in 18.97 sec. Users per second: 1877\n"
     ]
    },
    {
     "name": "stderr",
     "output_type": "stream",
     "text": [
      "[I 2024-12-27 18:04:32,580] Trial 1 finished with value: 0.005411336084745312 and parameters: {'factors': 3, 'iterations': 470, 'regularization': 0.9420767954979459, 'alpha': 31.763352876290064}. Best is trial 0 with value: 0.027279619484633304.\n"
     ]
    },
    {
     "name": "stdout",
     "output_type": "stream",
     "text": [
      "Current parameters: factors=45, iterations=490, regularization=0.49543669509232613, alpha=38.482630398083465\n"
     ]
    },
    {
     "name": "stderr",
     "output_type": "stream",
     "text": [
      "/var/folders/50/7hjr20g17_18p725nbt0qqv00000gn/T/ipykernel_81509/1494389866.py:12: FutureWarning: suggest_uniform has been deprecated in v3.0.0. This feature will be removed in v6.0.0. See https://github.com/optuna/optuna/releases/tag/v3.0.0. Use suggest_float instead.\n",
      "  regularization = trial.suggest_uniform(\"regularization\", 0.0, 1.0)\n",
      "/var/folders/50/7hjr20g17_18p725nbt0qqv00000gn/T/ipykernel_81509/1494389866.py:13: FutureWarning: suggest_uniform has been deprecated in v3.0.0. This feature will be removed in v6.0.0. See https://github.com/optuna/optuna/releases/tag/v3.0.0. Use suggest_float instead.\n",
      "  alpha = trial.suggest_uniform(\"alpha\", 0.0, 50.0)\n"
     ]
    },
    {
     "data": {
      "application/vnd.jupyter.widget-view+json": {
       "model_id": "a9c8f50ae5384336859b558e44e1970b",
       "version_major": 2,
       "version_minor": 0
      },
      "text/plain": [
       "  0%|          | 0/490 [00:00<?, ?it/s]"
      ]
     },
     "metadata": {},
     "output_type": "display_data"
    },
    {
     "name": "stdout",
     "output_type": "stream",
     "text": [
      "EvaluatorHoldout: Processed 35595 (100.0%) in 19.56 sec. Users per second: 1820\n"
     ]
    },
    {
     "name": "stderr",
     "output_type": "stream",
     "text": [
      "[I 2024-12-27 18:12:01,432] Trial 2 finished with value: 0.019853490658800065 and parameters: {'factors': 45, 'iterations': 490, 'regularization': 0.49543669509232613, 'alpha': 38.482630398083465}. Best is trial 0 with value: 0.027279619484633304.\n"
     ]
    },
    {
     "name": "stdout",
     "output_type": "stream",
     "text": [
      "Current parameters: factors=265, iterations=457, regularization=0.09638925734042814, alpha=18.21351526643521\n"
     ]
    },
    {
     "name": "stderr",
     "output_type": "stream",
     "text": [
      "/var/folders/50/7hjr20g17_18p725nbt0qqv00000gn/T/ipykernel_81509/1494389866.py:12: FutureWarning: suggest_uniform has been deprecated in v3.0.0. This feature will be removed in v6.0.0. See https://github.com/optuna/optuna/releases/tag/v3.0.0. Use suggest_float instead.\n",
      "  regularization = trial.suggest_uniform(\"regularization\", 0.0, 1.0)\n",
      "/var/folders/50/7hjr20g17_18p725nbt0qqv00000gn/T/ipykernel_81509/1494389866.py:13: FutureWarning: suggest_uniform has been deprecated in v3.0.0. This feature will be removed in v6.0.0. See https://github.com/optuna/optuna/releases/tag/v3.0.0. Use suggest_float instead.\n",
      "  alpha = trial.suggest_uniform(\"alpha\", 0.0, 50.0)\n"
     ]
    },
    {
     "data": {
      "application/vnd.jupyter.widget-view+json": {
       "model_id": "fb9ff39500e6429bbe9c6cc98b581f2b",
       "version_major": 2,
       "version_minor": 0
      },
      "text/plain": [
       "  0%|          | 0/457 [00:00<?, ?it/s]"
      ]
     },
     "metadata": {},
     "output_type": "display_data"
    },
    {
     "name": "stdout",
     "output_type": "stream",
     "text": [
      "EvaluatorHoldout: Processed 35595 (100.0%) in 20.57 sec. Users per second: 1731\n"
     ]
    },
    {
     "name": "stderr",
     "output_type": "stream",
     "text": [
      "[I 2024-12-28 01:08:09,266] Trial 3 finished with value: 0.03461632742247865 and parameters: {'factors': 265, 'iterations': 457, 'regularization': 0.09638925734042814, 'alpha': 18.21351526643521}. Best is trial 3 with value: 0.03461632742247865.\n"
     ]
    },
    {
     "name": "stdout",
     "output_type": "stream",
     "text": [
      "Current parameters: factors=308, iterations=63, regularization=0.09439523531588456, alpha=27.638496684729468\n"
     ]
    },
    {
     "name": "stderr",
     "output_type": "stream",
     "text": [
      "/var/folders/50/7hjr20g17_18p725nbt0qqv00000gn/T/ipykernel_81509/1494389866.py:12: FutureWarning: suggest_uniform has been deprecated in v3.0.0. This feature will be removed in v6.0.0. See https://github.com/optuna/optuna/releases/tag/v3.0.0. Use suggest_float instead.\n",
      "  regularization = trial.suggest_uniform(\"regularization\", 0.0, 1.0)\n",
      "/var/folders/50/7hjr20g17_18p725nbt0qqv00000gn/T/ipykernel_81509/1494389866.py:13: FutureWarning: suggest_uniform has been deprecated in v3.0.0. This feature will be removed in v6.0.0. See https://github.com/optuna/optuna/releases/tag/v3.0.0. Use suggest_float instead.\n",
      "  alpha = trial.suggest_uniform(\"alpha\", 0.0, 50.0)\n"
     ]
    },
    {
     "data": {
      "application/vnd.jupyter.widget-view+json": {
       "model_id": "ff5bd42a18514a6cbfdee4020ae4ac79",
       "version_major": 2,
       "version_minor": 0
      },
      "text/plain": [
       "  0%|          | 0/63 [00:00<?, ?it/s]"
      ]
     },
     "metadata": {},
     "output_type": "display_data"
    },
    {
     "name": "stdout",
     "output_type": "stream",
     "text": [
      "EvaluatorHoldout: Processed 35595 (100.0%) in 20.76 sec. Users per second: 1715\n"
     ]
    },
    {
     "name": "stderr",
     "output_type": "stream",
     "text": [
      "[I 2024-12-28 01:27:10,302] Trial 4 finished with value: 0.03521310956371938 and parameters: {'factors': 308, 'iterations': 63, 'regularization': 0.09439523531588456, 'alpha': 27.638496684729468}. Best is trial 4 with value: 0.03521310956371938.\n"
     ]
    },
    {
     "name": "stdout",
     "output_type": "stream",
     "text": [
      "Current parameters: factors=142, iterations=434, regularization=0.18445189650943172, alpha=15.829837647517214\n"
     ]
    },
    {
     "name": "stderr",
     "output_type": "stream",
     "text": [
      "/var/folders/50/7hjr20g17_18p725nbt0qqv00000gn/T/ipykernel_81509/1494389866.py:12: FutureWarning: suggest_uniform has been deprecated in v3.0.0. This feature will be removed in v6.0.0. See https://github.com/optuna/optuna/releases/tag/v3.0.0. Use suggest_float instead.\n",
      "  regularization = trial.suggest_uniform(\"regularization\", 0.0, 1.0)\n",
      "/var/folders/50/7hjr20g17_18p725nbt0qqv00000gn/T/ipykernel_81509/1494389866.py:13: FutureWarning: suggest_uniform has been deprecated in v3.0.0. This feature will be removed in v6.0.0. See https://github.com/optuna/optuna/releases/tag/v3.0.0. Use suggest_float instead.\n",
      "  alpha = trial.suggest_uniform(\"alpha\", 0.0, 50.0)\n"
     ]
    },
    {
     "data": {
      "application/vnd.jupyter.widget-view+json": {
       "model_id": "4e4241d920bd4e9bb7f2055239a8fb5f",
       "version_major": 2,
       "version_minor": 0
      },
      "text/plain": [
       "  0%|          | 0/434 [00:00<?, ?it/s]"
      ]
     },
     "metadata": {},
     "output_type": "display_data"
    },
    {
     "name": "stdout",
     "output_type": "stream",
     "text": [
      "EvaluatorHoldout: Processed 35595 (100.0%) in 19.84 sec. Users per second: 1794\n"
     ]
    },
    {
     "name": "stderr",
     "output_type": "stream",
     "text": [
      "[I 2024-12-28 01:40:00,941] Trial 5 finished with value: 0.029344768192428365 and parameters: {'factors': 142, 'iterations': 434, 'regularization': 0.18445189650943172, 'alpha': 15.829837647517214}. Best is trial 4 with value: 0.03521310956371938.\n"
     ]
    },
    {
     "name": "stdout",
     "output_type": "stream",
     "text": [
      "Current parameters: factors=40, iterations=159, regularization=0.7191265817795159, alpha=29.47774638915756\n"
     ]
    },
    {
     "name": "stderr",
     "output_type": "stream",
     "text": [
      "/var/folders/50/7hjr20g17_18p725nbt0qqv00000gn/T/ipykernel_81509/1494389866.py:12: FutureWarning: suggest_uniform has been deprecated in v3.0.0. This feature will be removed in v6.0.0. See https://github.com/optuna/optuna/releases/tag/v3.0.0. Use suggest_float instead.\n",
      "  regularization = trial.suggest_uniform(\"regularization\", 0.0, 1.0)\n",
      "/var/folders/50/7hjr20g17_18p725nbt0qqv00000gn/T/ipykernel_81509/1494389866.py:13: FutureWarning: suggest_uniform has been deprecated in v3.0.0. This feature will be removed in v6.0.0. See https://github.com/optuna/optuna/releases/tag/v3.0.0. Use suggest_float instead.\n",
      "  alpha = trial.suggest_uniform(\"alpha\", 0.0, 50.0)\n"
     ]
    },
    {
     "data": {
      "application/vnd.jupyter.widget-view+json": {
       "model_id": "0065b67f47b7496c96a7938454ae4261",
       "version_major": 2,
       "version_minor": 0
      },
      "text/plain": [
       "  0%|          | 0/159 [00:00<?, ?it/s]"
      ]
     },
     "metadata": {},
     "output_type": "display_data"
    },
    {
     "name": "stdout",
     "output_type": "stream",
     "text": [
      "EvaluatorHoldout: Processed 35595 (100.0%) in 18.40 sec. Users per second: 1934\n"
     ]
    },
    {
     "name": "stderr",
     "output_type": "stream",
     "text": [
      "[I 2024-12-28 01:42:14,332] Trial 6 finished with value: 0.018908352787197824 and parameters: {'factors': 40, 'iterations': 159, 'regularization': 0.7191265817795159, 'alpha': 29.47774638915756}. Best is trial 4 with value: 0.03521310956371938.\n"
     ]
    },
    {
     "name": "stdout",
     "output_type": "stream",
     "text": [
      "Current parameters: factors=336, iterations=125, regularization=0.7901574988024191, alpha=14.057635545378583\n"
     ]
    },
    {
     "name": "stderr",
     "output_type": "stream",
     "text": [
      "/var/folders/50/7hjr20g17_18p725nbt0qqv00000gn/T/ipykernel_81509/1494389866.py:12: FutureWarning: suggest_uniform has been deprecated in v3.0.0. This feature will be removed in v6.0.0. See https://github.com/optuna/optuna/releases/tag/v3.0.0. Use suggest_float instead.\n",
      "  regularization = trial.suggest_uniform(\"regularization\", 0.0, 1.0)\n",
      "/var/folders/50/7hjr20g17_18p725nbt0qqv00000gn/T/ipykernel_81509/1494389866.py:13: FutureWarning: suggest_uniform has been deprecated in v3.0.0. This feature will be removed in v6.0.0. See https://github.com/optuna/optuna/releases/tag/v3.0.0. Use suggest_float instead.\n",
      "  alpha = trial.suggest_uniform(\"alpha\", 0.0, 50.0)\n"
     ]
    },
    {
     "data": {
      "application/vnd.jupyter.widget-view+json": {
       "model_id": "04ec3f1ad34b404494e61c9f4dd7bd71",
       "version_major": 2,
       "version_minor": 0
      },
      "text/plain": [
       "  0%|          | 0/125 [00:00<?, ?it/s]"
      ]
     },
     "metadata": {},
     "output_type": "display_data"
    },
    {
     "name": "stdout",
     "output_type": "stream",
     "text": [
      "EvaluatorHoldout: Processed 35595 (100.0%) in 21.14 sec. Users per second: 1684\n"
     ]
    },
    {
     "name": "stderr",
     "output_type": "stream",
     "text": [
      "[I 2024-12-28 02:28:14,275] Trial 7 finished with value: 0.036855551988083254 and parameters: {'factors': 336, 'iterations': 125, 'regularization': 0.7901574988024191, 'alpha': 14.057635545378583}. Best is trial 7 with value: 0.036855551988083254.\n"
     ]
    },
    {
     "name": "stdout",
     "output_type": "stream",
     "text": [
      "Current parameters: factors=119, iterations=28, regularization=0.9331080599337755, alpha=18.5233109238035\n"
     ]
    },
    {
     "name": "stderr",
     "output_type": "stream",
     "text": [
      "/var/folders/50/7hjr20g17_18p725nbt0qqv00000gn/T/ipykernel_81509/1494389866.py:12: FutureWarning: suggest_uniform has been deprecated in v3.0.0. This feature will be removed in v6.0.0. See https://github.com/optuna/optuna/releases/tag/v3.0.0. Use suggest_float instead.\n",
      "  regularization = trial.suggest_uniform(\"regularization\", 0.0, 1.0)\n",
      "/var/folders/50/7hjr20g17_18p725nbt0qqv00000gn/T/ipykernel_81509/1494389866.py:13: FutureWarning: suggest_uniform has been deprecated in v3.0.0. This feature will be removed in v6.0.0. See https://github.com/optuna/optuna/releases/tag/v3.0.0. Use suggest_float instead.\n",
      "  alpha = trial.suggest_uniform(\"alpha\", 0.0, 50.0)\n"
     ]
    },
    {
     "data": {
      "application/vnd.jupyter.widget-view+json": {
       "model_id": "11b6598b1f2f42e1be875d644a30e442",
       "version_major": 2,
       "version_minor": 0
      },
      "text/plain": [
       "  0%|          | 0/28 [00:00<?, ?it/s]"
      ]
     },
     "metadata": {},
     "output_type": "display_data"
    },
    {
     "name": "stdout",
     "output_type": "stream",
     "text": [
      "EvaluatorHoldout: Processed 35595 (100.0%) in 20.07 sec. Users per second: 1773\n"
     ]
    },
    {
     "name": "stderr",
     "output_type": "stream",
     "text": [
      "[I 2024-12-28 02:29:30,056] Trial 8 finished with value: 0.027668570804263055 and parameters: {'factors': 119, 'iterations': 28, 'regularization': 0.9331080599337755, 'alpha': 18.5233109238035}. Best is trial 7 with value: 0.036855551988083254.\n"
     ]
    },
    {
     "name": "stdout",
     "output_type": "stream",
     "text": [
      "Current parameters: factors=251, iterations=446, regularization=0.16397496485399543, alpha=24.058706177578383\n"
     ]
    },
    {
     "name": "stderr",
     "output_type": "stream",
     "text": [
      "/var/folders/50/7hjr20g17_18p725nbt0qqv00000gn/T/ipykernel_81509/1494389866.py:12: FutureWarning: suggest_uniform has been deprecated in v3.0.0. This feature will be removed in v6.0.0. See https://github.com/optuna/optuna/releases/tag/v3.0.0. Use suggest_float instead.\n",
      "  regularization = trial.suggest_uniform(\"regularization\", 0.0, 1.0)\n",
      "/var/folders/50/7hjr20g17_18p725nbt0qqv00000gn/T/ipykernel_81509/1494389866.py:13: FutureWarning: suggest_uniform has been deprecated in v3.0.0. This feature will be removed in v6.0.0. See https://github.com/optuna/optuna/releases/tag/v3.0.0. Use suggest_float instead.\n",
      "  alpha = trial.suggest_uniform(\"alpha\", 0.0, 50.0)\n"
     ]
    },
    {
     "data": {
      "application/vnd.jupyter.widget-view+json": {
       "model_id": "6e13c1863eee4403b4a3713896d2b9b7",
       "version_major": 2,
       "version_minor": 0
      },
      "text/plain": [
       "  0%|          | 0/446 [00:00<?, ?it/s]"
      ]
     },
     "metadata": {},
     "output_type": "display_data"
    },
    {
     "name": "stdout",
     "output_type": "stream",
     "text": [
      "EvaluatorHoldout: Processed 35595 (100.0%) in 20.71 sec. Users per second: 1718\n"
     ]
    },
    {
     "name": "stderr",
     "output_type": "stream",
     "text": [
      "[I 2024-12-28 04:56:26,131] Trial 9 finished with value: 0.03378367302345278 and parameters: {'factors': 251, 'iterations': 446, 'regularization': 0.16397496485399543, 'alpha': 24.058706177578383}. Best is trial 7 with value: 0.036855551988083254.\n"
     ]
    },
    {
     "name": "stdout",
     "output_type": "stream",
     "text": [
      "Current parameters: factors=397, iterations=325, regularization=0.5644825071916673, alpha=0.4158491806375224\n"
     ]
    },
    {
     "name": "stderr",
     "output_type": "stream",
     "text": [
      "/var/folders/50/7hjr20g17_18p725nbt0qqv00000gn/T/ipykernel_81509/1494389866.py:12: FutureWarning: suggest_uniform has been deprecated in v3.0.0. This feature will be removed in v6.0.0. See https://github.com/optuna/optuna/releases/tag/v3.0.0. Use suggest_float instead.\n",
      "  regularization = trial.suggest_uniform(\"regularization\", 0.0, 1.0)\n",
      "/var/folders/50/7hjr20g17_18p725nbt0qqv00000gn/T/ipykernel_81509/1494389866.py:13: FutureWarning: suggest_uniform has been deprecated in v3.0.0. This feature will be removed in v6.0.0. See https://github.com/optuna/optuna/releases/tag/v3.0.0. Use suggest_float instead.\n",
      "  alpha = trial.suggest_uniform(\"alpha\", 0.0, 50.0)\n"
     ]
    },
    {
     "data": {
      "application/vnd.jupyter.widget-view+json": {
       "model_id": "c9363b55b5e54578a02541ab7593bb5a",
       "version_major": 2,
       "version_minor": 0
      },
      "text/plain": [
       "  0%|          | 0/325 [00:00<?, ?it/s]"
      ]
     },
     "metadata": {},
     "output_type": "display_data"
    },
    {
     "name": "stdout",
     "output_type": "stream",
     "text": [
      "EvaluatorHoldout: Processed 35595 (100.0%) in 22.01 sec. Users per second: 1617\n"
     ]
    },
    {
     "name": "stderr",
     "output_type": "stream",
     "text": [
      "[I 2024-12-28 07:03:46,664] Trial 10 finished with value: 0.03349564657065588 and parameters: {'factors': 397, 'iterations': 325, 'regularization': 0.5644825071916673, 'alpha': 0.4158491806375224}. Best is trial 7 with value: 0.036855551988083254.\n"
     ]
    },
    {
     "name": "stdout",
     "output_type": "stream",
     "text": [
      "Current parameters: factors=363, iterations=54, regularization=0.30368463341723256, alpha=5.932447293840539\n"
     ]
    },
    {
     "name": "stderr",
     "output_type": "stream",
     "text": [
      "/var/folders/50/7hjr20g17_18p725nbt0qqv00000gn/T/ipykernel_81509/1494389866.py:12: FutureWarning: suggest_uniform has been deprecated in v3.0.0. This feature will be removed in v6.0.0. See https://github.com/optuna/optuna/releases/tag/v3.0.0. Use suggest_float instead.\n",
      "  regularization = trial.suggest_uniform(\"regularization\", 0.0, 1.0)\n",
      "/var/folders/50/7hjr20g17_18p725nbt0qqv00000gn/T/ipykernel_81509/1494389866.py:13: FutureWarning: suggest_uniform has been deprecated in v3.0.0. This feature will be removed in v6.0.0. See https://github.com/optuna/optuna/releases/tag/v3.0.0. Use suggest_float instead.\n",
      "  alpha = trial.suggest_uniform(\"alpha\", 0.0, 50.0)\n"
     ]
    },
    {
     "data": {
      "application/vnd.jupyter.widget-view+json": {
       "model_id": "5e28d7f84e1d43e4b5a3be7f25de4169",
       "version_major": 2,
       "version_minor": 0
      },
      "text/plain": [
       "  0%|          | 0/54 [00:00<?, ?it/s]"
      ]
     },
     "metadata": {},
     "output_type": "display_data"
    },
    {
     "name": "stdout",
     "output_type": "stream",
     "text": [
      "EvaluatorHoldout: Processed 35595 (100.0%) in 21.27 sec. Users per second: 1674\n"
     ]
    },
    {
     "name": "stderr",
     "output_type": "stream",
     "text": [
      "[I 2024-12-28 07:19:56,284] Trial 11 finished with value: 0.037688185205250614 and parameters: {'factors': 363, 'iterations': 54, 'regularization': 0.30368463341723256, 'alpha': 5.932447293840539}. Best is trial 11 with value: 0.037688185205250614.\n"
     ]
    },
    {
     "name": "stdout",
     "output_type": "stream",
     "text": [
      "Current parameters: factors=397, iterations=105, regularization=0.3707848450257657, alpha=4.815638211952356\n"
     ]
    },
    {
     "name": "stderr",
     "output_type": "stream",
     "text": [
      "/var/folders/50/7hjr20g17_18p725nbt0qqv00000gn/T/ipykernel_81509/1494389866.py:12: FutureWarning: suggest_uniform has been deprecated in v3.0.0. This feature will be removed in v6.0.0. See https://github.com/optuna/optuna/releases/tag/v3.0.0. Use suggest_float instead.\n",
      "  regularization = trial.suggest_uniform(\"regularization\", 0.0, 1.0)\n",
      "/var/folders/50/7hjr20g17_18p725nbt0qqv00000gn/T/ipykernel_81509/1494389866.py:13: FutureWarning: suggest_uniform has been deprecated in v3.0.0. This feature will be removed in v6.0.0. See https://github.com/optuna/optuna/releases/tag/v3.0.0. Use suggest_float instead.\n",
      "  alpha = trial.suggest_uniform(\"alpha\", 0.0, 50.0)\n"
     ]
    },
    {
     "data": {
      "application/vnd.jupyter.widget-view+json": {
       "model_id": "3f964be4c216492faebcbe7d1e9680f3",
       "version_major": 2,
       "version_minor": 0
      },
      "text/plain": [
       "  0%|          | 0/105 [00:00<?, ?it/s]"
      ]
     },
     "metadata": {},
     "output_type": "display_data"
    },
    {
     "name": "stdout",
     "output_type": "stream",
     "text": [
      "EvaluatorHoldout: Processed 35595 (100.0%) in 21.56 sec. Users per second: 1651\n"
     ]
    },
    {
     "name": "stderr",
     "output_type": "stream",
     "text": [
      "[I 2024-12-28 07:54:04,396] Trial 12 finished with value: 0.03834431445472179 and parameters: {'factors': 397, 'iterations': 105, 'regularization': 0.3707848450257657, 'alpha': 4.815638211952356}. Best is trial 12 with value: 0.03834431445472179.\n"
     ]
    },
    {
     "name": "stdout",
     "output_type": "stream",
     "text": [
      "Current parameters: factors=393, iterations=2, regularization=0.3688620716191408, alpha=4.891390074533831\n"
     ]
    },
    {
     "name": "stderr",
     "output_type": "stream",
     "text": [
      "/var/folders/50/7hjr20g17_18p725nbt0qqv00000gn/T/ipykernel_81509/1494389866.py:12: FutureWarning: suggest_uniform has been deprecated in v3.0.0. This feature will be removed in v6.0.0. See https://github.com/optuna/optuna/releases/tag/v3.0.0. Use suggest_float instead.\n",
      "  regularization = trial.suggest_uniform(\"regularization\", 0.0, 1.0)\n",
      "/var/folders/50/7hjr20g17_18p725nbt0qqv00000gn/T/ipykernel_81509/1494389866.py:13: FutureWarning: suggest_uniform has been deprecated in v3.0.0. This feature will be removed in v6.0.0. See https://github.com/optuna/optuna/releases/tag/v3.0.0. Use suggest_float instead.\n",
      "  alpha = trial.suggest_uniform(\"alpha\", 0.0, 50.0)\n"
     ]
    },
    {
     "data": {
      "application/vnd.jupyter.widget-view+json": {
       "model_id": "47ea033720174cb4941455ac7c20a626",
       "version_major": 2,
       "version_minor": 0
      },
      "text/plain": [
       "  0%|          | 0/2 [00:00<?, ?it/s]"
      ]
     },
     "metadata": {},
     "output_type": "display_data"
    },
    {
     "name": "stdout",
     "output_type": "stream",
     "text": [
      "EvaluatorHoldout: Processed 35595 (100.0%) in 21.10 sec. Users per second: 1687\n"
     ]
    },
    {
     "name": "stderr",
     "output_type": "stream",
     "text": [
      "[I 2024-12-28 07:55:00,238] Trial 13 finished with value: 0.03089511412562314 and parameters: {'factors': 393, 'iterations': 2, 'regularization': 0.3688620716191408, 'alpha': 4.891390074533831}. Best is trial 12 with value: 0.03834431445472179.\n"
     ]
    },
    {
     "name": "stdout",
     "output_type": "stream",
     "text": [
      "Current parameters: factors=345, iterations=291, regularization=0.34656270197307504, alpha=7.952606099919077\n"
     ]
    },
    {
     "name": "stderr",
     "output_type": "stream",
     "text": [
      "/var/folders/50/7hjr20g17_18p725nbt0qqv00000gn/T/ipykernel_81509/1494389866.py:12: FutureWarning: suggest_uniform has been deprecated in v3.0.0. This feature will be removed in v6.0.0. See https://github.com/optuna/optuna/releases/tag/v3.0.0. Use suggest_float instead.\n",
      "  regularization = trial.suggest_uniform(\"regularization\", 0.0, 1.0)\n",
      "/var/folders/50/7hjr20g17_18p725nbt0qqv00000gn/T/ipykernel_81509/1494389866.py:13: FutureWarning: suggest_uniform has been deprecated in v3.0.0. This feature will be removed in v6.0.0. See https://github.com/optuna/optuna/releases/tag/v3.0.0. Use suggest_float instead.\n",
      "  alpha = trial.suggest_uniform(\"alpha\", 0.0, 50.0)\n"
     ]
    },
    {
     "data": {
      "application/vnd.jupyter.widget-view+json": {
       "model_id": "44a1ffc9656141f0891d33d695564120",
       "version_major": 2,
       "version_minor": 0
      },
      "text/plain": [
       "  0%|          | 0/291 [00:00<?, ?it/s]"
      ]
     },
     "metadata": {},
     "output_type": "display_data"
    },
    {
     "name": "stdout",
     "output_type": "stream",
     "text": [
      "EvaluatorHoldout: Processed 35595 (100.0%) in 21.14 sec. Users per second: 1684\n"
     ]
    },
    {
     "name": "stderr",
     "output_type": "stream",
     "text": [
      "[I 2024-12-28 09:16:29,544] Trial 14 finished with value: 0.037281775574863105 and parameters: {'factors': 345, 'iterations': 291, 'regularization': 0.34656270197307504, 'alpha': 7.952606099919077}. Best is trial 12 with value: 0.03834431445472179.\n"
     ]
    },
    {
     "name": "stdout",
     "output_type": "stream",
     "text": [
      "Current parameters: factors=207, iterations=117, regularization=0.32934525582715213, alpha=8.880101326361228\n"
     ]
    },
    {
     "name": "stderr",
     "output_type": "stream",
     "text": [
      "/var/folders/50/7hjr20g17_18p725nbt0qqv00000gn/T/ipykernel_81509/1494389866.py:12: FutureWarning: suggest_uniform has been deprecated in v3.0.0. This feature will be removed in v6.0.0. See https://github.com/optuna/optuna/releases/tag/v3.0.0. Use suggest_float instead.\n",
      "  regularization = trial.suggest_uniform(\"regularization\", 0.0, 1.0)\n",
      "/var/folders/50/7hjr20g17_18p725nbt0qqv00000gn/T/ipykernel_81509/1494389866.py:13: FutureWarning: suggest_uniform has been deprecated in v3.0.0. This feature will be removed in v6.0.0. See https://github.com/optuna/optuna/releases/tag/v3.0.0. Use suggest_float instead.\n",
      "  alpha = trial.suggest_uniform(\"alpha\", 0.0, 50.0)\n"
     ]
    },
    {
     "data": {
      "application/vnd.jupyter.widget-view+json": {
       "model_id": "20cc4a219af241a2947c2a650cb9e030",
       "version_major": 2,
       "version_minor": 0
      },
      "text/plain": [
       "  0%|          | 0/117 [00:00<?, ?it/s]"
      ]
     },
     "metadata": {},
     "output_type": "display_data"
    },
    {
     "name": "stdout",
     "output_type": "stream",
     "text": [
      "EvaluatorHoldout: Processed 35595 (100.0%) in 20.72 sec. Users per second: 1718\n"
     ]
    },
    {
     "name": "stderr",
     "output_type": "stream",
     "text": [
      "[I 2024-12-28 09:49:09,955] Trial 15 finished with value: 0.03275868400457395 and parameters: {'factors': 207, 'iterations': 117, 'regularization': 0.32934525582715213, 'alpha': 8.880101326361228}. Best is trial 12 with value: 0.03834431445472179.\n"
     ]
    },
    {
     "name": "stdout",
     "output_type": "stream",
     "text": [
      "Current parameters: factors=356, iterations=217, regularization=0.4986468500811877, alpha=1.9245746750880008\n"
     ]
    },
    {
     "name": "stderr",
     "output_type": "stream",
     "text": [
      "/var/folders/50/7hjr20g17_18p725nbt0qqv00000gn/T/ipykernel_81509/1494389866.py:12: FutureWarning: suggest_uniform has been deprecated in v3.0.0. This feature will be removed in v6.0.0. See https://github.com/optuna/optuna/releases/tag/v3.0.0. Use suggest_float instead.\n",
      "  regularization = trial.suggest_uniform(\"regularization\", 0.0, 1.0)\n",
      "/var/folders/50/7hjr20g17_18p725nbt0qqv00000gn/T/ipykernel_81509/1494389866.py:13: FutureWarning: suggest_uniform has been deprecated in v3.0.0. This feature will be removed in v6.0.0. See https://github.com/optuna/optuna/releases/tag/v3.0.0. Use suggest_float instead.\n",
      "  alpha = trial.suggest_uniform(\"alpha\", 0.0, 50.0)\n"
     ]
    },
    {
     "data": {
      "application/vnd.jupyter.widget-view+json": {
       "model_id": "91d3edd5d0ea4f04b5923c52204f8656",
       "version_major": 2,
       "version_minor": 0
      },
      "text/plain": [
       "  0%|          | 0/217 [00:00<?, ?it/s]"
      ]
     },
     "metadata": {},
     "output_type": "display_data"
    },
    {
     "name": "stdout",
     "output_type": "stream",
     "text": [
      "EvaluatorHoldout: Processed 35595 (100.0%) in 21.40 sec. Users per second: 1663\n"
     ]
    },
    {
     "name": "stderr",
     "output_type": "stream",
     "text": [
      "[I 2024-12-28 10:49:47,390] Trial 16 finished with value: 0.03595410002742356 and parameters: {'factors': 356, 'iterations': 217, 'regularization': 0.4986468500811877, 'alpha': 1.9245746750880008}. Best is trial 12 with value: 0.03834431445472179.\n"
     ]
    },
    {
     "name": "stdout",
     "output_type": "stream",
     "text": [
      "Current parameters: factors=279, iterations=73, regularization=0.27709609948267133, alpha=49.80959354747548\n"
     ]
    },
    {
     "name": "stderr",
     "output_type": "stream",
     "text": [
      "/var/folders/50/7hjr20g17_18p725nbt0qqv00000gn/T/ipykernel_81509/1494389866.py:12: FutureWarning: suggest_uniform has been deprecated in v3.0.0. This feature will be removed in v6.0.0. See https://github.com/optuna/optuna/releases/tag/v3.0.0. Use suggest_float instead.\n",
      "  regularization = trial.suggest_uniform(\"regularization\", 0.0, 1.0)\n",
      "/var/folders/50/7hjr20g17_18p725nbt0qqv00000gn/T/ipykernel_81509/1494389866.py:13: FutureWarning: suggest_uniform has been deprecated in v3.0.0. This feature will be removed in v6.0.0. See https://github.com/optuna/optuna/releases/tag/v3.0.0. Use suggest_float instead.\n",
      "  alpha = trial.suggest_uniform(\"alpha\", 0.0, 50.0)\n"
     ]
    },
    {
     "data": {
      "application/vnd.jupyter.widget-view+json": {
       "model_id": "e52076aa0b7c4e9f9907317f51f4727a",
       "version_major": 2,
       "version_minor": 0
      },
      "text/plain": [
       "  0%|          | 0/73 [00:00<?, ?it/s]"
      ]
     },
     "metadata": {},
     "output_type": "display_data"
    },
    {
     "name": "stdout",
     "output_type": "stream",
     "text": [
      "EvaluatorHoldout: Processed 35595 (100.0%) in 21.40 sec. Users per second: 1663\n"
     ]
    },
    {
     "name": "stderr",
     "output_type": "stream",
     "text": [
      "[I 2024-12-28 11:10:51,897] Trial 17 finished with value: 0.03330218819746721 and parameters: {'factors': 279, 'iterations': 73, 'regularization': 0.27709609948267133, 'alpha': 49.80959354747548}. Best is trial 12 with value: 0.03834431445472179.\n"
     ]
    },
    {
     "name": "stdout",
     "output_type": "stream",
     "text": [
      "Current parameters: factors=211, iterations=89, regularization=0.64559435575324, alpha=10.676198828149722\n"
     ]
    },
    {
     "name": "stderr",
     "output_type": "stream",
     "text": [
      "/var/folders/50/7hjr20g17_18p725nbt0qqv00000gn/T/ipykernel_81509/1494389866.py:12: FutureWarning: suggest_uniform has been deprecated in v3.0.0. This feature will be removed in v6.0.0. See https://github.com/optuna/optuna/releases/tag/v3.0.0. Use suggest_float instead.\n",
      "  regularization = trial.suggest_uniform(\"regularization\", 0.0, 1.0)\n",
      "/var/folders/50/7hjr20g17_18p725nbt0qqv00000gn/T/ipykernel_81509/1494389866.py:13: FutureWarning: suggest_uniform has been deprecated in v3.0.0. This feature will be removed in v6.0.0. See https://github.com/optuna/optuna/releases/tag/v3.0.0. Use suggest_float instead.\n",
      "  alpha = trial.suggest_uniform(\"alpha\", 0.0, 50.0)\n"
     ]
    },
    {
     "data": {
      "application/vnd.jupyter.widget-view+json": {
       "model_id": "5f829f69173a4ac38ee701e77aec248c",
       "version_major": 2,
       "version_minor": 0
      },
      "text/plain": [
       "  0%|          | 0/89 [00:00<?, ?it/s]"
      ]
     },
     "metadata": {},
     "output_type": "display_data"
    },
    {
     "name": "stdout",
     "output_type": "stream",
     "text": [
      "EvaluatorHoldout: Processed 35595 (100.0%) in 19.92 sec. Users per second: 1787\n"
     ]
    },
    {
     "name": "stderr",
     "output_type": "stream",
     "text": [
      "[I 2024-12-28 11:30:27,393] Trial 18 finished with value: 0.03291462930632642 and parameters: {'factors': 211, 'iterations': 89, 'regularization': 0.64559435575324, 'alpha': 10.676198828149722}. Best is trial 12 with value: 0.03834431445472179.\n"
     ]
    },
    {
     "name": "stdout",
     "output_type": "stream",
     "text": [
      "Current parameters: factors=400, iterations=166, regularization=0.4356122121441422, alpha=22.576904050703593\n"
     ]
    },
    {
     "name": "stderr",
     "output_type": "stream",
     "text": [
      "/var/folders/50/7hjr20g17_18p725nbt0qqv00000gn/T/ipykernel_81509/1494389866.py:12: FutureWarning: suggest_uniform has been deprecated in v3.0.0. This feature will be removed in v6.0.0. See https://github.com/optuna/optuna/releases/tag/v3.0.0. Use suggest_float instead.\n",
      "  regularization = trial.suggest_uniform(\"regularization\", 0.0, 1.0)\n",
      "/var/folders/50/7hjr20g17_18p725nbt0qqv00000gn/T/ipykernel_81509/1494389866.py:13: FutureWarning: suggest_uniform has been deprecated in v3.0.0. This feature will be removed in v6.0.0. See https://github.com/optuna/optuna/releases/tag/v3.0.0. Use suggest_float instead.\n",
      "  alpha = trial.suggest_uniform(\"alpha\", 0.0, 50.0)\n"
     ]
    },
    {
     "data": {
      "application/vnd.jupyter.widget-view+json": {
       "model_id": "b254d49906e54d6a866da726bd983ab6",
       "version_major": 2,
       "version_minor": 0
      },
      "text/plain": [
       "  0%|          | 0/166 [00:00<?, ?it/s]"
      ]
     },
     "metadata": {},
     "output_type": "display_data"
    },
    {
     "name": "stdout",
     "output_type": "stream",
     "text": [
      "EvaluatorHoldout: Processed 35595 (100.0%) in 21.96 sec. Users per second: 1621\n"
     ]
    },
    {
     "name": "stderr",
     "output_type": "stream",
     "text": [
      "[I 2024-12-28 12:15:41,767] Trial 19 finished with value: 0.03783554182079123 and parameters: {'factors': 400, 'iterations': 166, 'regularization': 0.4356122121441422, 'alpha': 22.576904050703593}. Best is trial 12 with value: 0.03834431445472179.\n"
     ]
    },
    {
     "name": "stdout",
     "output_type": "stream",
     "text": [
      "Current parameters: factors=322, iterations=167, regularization=0.00018787441567325036, alpha=38.94920850186149\n"
     ]
    },
    {
     "name": "stderr",
     "output_type": "stream",
     "text": [
      "/var/folders/50/7hjr20g17_18p725nbt0qqv00000gn/T/ipykernel_81509/1494389866.py:12: FutureWarning: suggest_uniform has been deprecated in v3.0.0. This feature will be removed in v6.0.0. See https://github.com/optuna/optuna/releases/tag/v3.0.0. Use suggest_float instead.\n",
      "  regularization = trial.suggest_uniform(\"regularization\", 0.0, 1.0)\n",
      "/var/folders/50/7hjr20g17_18p725nbt0qqv00000gn/T/ipykernel_81509/1494389866.py:13: FutureWarning: suggest_uniform has been deprecated in v3.0.0. This feature will be removed in v6.0.0. See https://github.com/optuna/optuna/releases/tag/v3.0.0. Use suggest_float instead.\n",
      "  alpha = trial.suggest_uniform(\"alpha\", 0.0, 50.0)\n"
     ]
    },
    {
     "data": {
      "application/vnd.jupyter.widget-view+json": {
       "model_id": "9ac1706821ff45c29c8e5f321a3ee1b2",
       "version_major": 2,
       "version_minor": 0
      },
      "text/plain": [
       "  0%|          | 0/167 [00:00<?, ?it/s]"
      ]
     },
     "metadata": {},
     "output_type": "display_data"
    },
    {
     "name": "stdout",
     "output_type": "stream",
     "text": [
      "EvaluatorHoldout: Processed 35595 (100.0%) in 21.08 sec. Users per second: 1689\n"
     ]
    },
    {
     "name": "stderr",
     "output_type": "stream",
     "text": [
      "[I 2024-12-28 13:01:11,105] Trial 20 finished with value: 0.034988234035008885 and parameters: {'factors': 322, 'iterations': 167, 'regularization': 0.00018787441567325036, 'alpha': 38.94920850186149}. Best is trial 12 with value: 0.03834431445472179.\n"
     ]
    },
    {
     "name": "stdout",
     "output_type": "stream",
     "text": [
      "Current parameters: factors=381, iterations=270, regularization=0.47422583614815794, alpha=20.862818785884432\n"
     ]
    },
    {
     "name": "stderr",
     "output_type": "stream",
     "text": [
      "/var/folders/50/7hjr20g17_18p725nbt0qqv00000gn/T/ipykernel_81509/1494389866.py:12: FutureWarning: suggest_uniform has been deprecated in v3.0.0. This feature will be removed in v6.0.0. See https://github.com/optuna/optuna/releases/tag/v3.0.0. Use suggest_float instead.\n",
      "  regularization = trial.suggest_uniform(\"regularization\", 0.0, 1.0)\n",
      "/var/folders/50/7hjr20g17_18p725nbt0qqv00000gn/T/ipykernel_81509/1494389866.py:13: FutureWarning: suggest_uniform has been deprecated in v3.0.0. This feature will be removed in v6.0.0. See https://github.com/optuna/optuna/releases/tag/v3.0.0. Use suggest_float instead.\n",
      "  alpha = trial.suggest_uniform(\"alpha\", 0.0, 50.0)\n"
     ]
    },
    {
     "data": {
      "application/vnd.jupyter.widget-view+json": {
       "model_id": "f5e6eec99f344aaaa5ea5f39e3020685",
       "version_major": 2,
       "version_minor": 0
      },
      "text/plain": [
       "  0%|          | 0/270 [00:00<?, ?it/s]"
      ]
     },
     "metadata": {},
     "output_type": "display_data"
    },
    {
     "name": "stdout",
     "output_type": "stream",
     "text": [
      "EvaluatorHoldout: Processed 35595 (100.0%) in 21.52 sec. Users per second: 1654\n"
     ]
    },
    {
     "name": "stderr",
     "output_type": "stream",
     "text": [
      "[I 2024-12-28 14:36:35,051] Trial 21 finished with value: 0.037518834016725545 and parameters: {'factors': 381, 'iterations': 270, 'regularization': 0.47422583614815794, 'alpha': 20.862818785884432}. Best is trial 12 with value: 0.03834431445472179.\n"
     ]
    },
    {
     "name": "stdout",
     "output_type": "stream",
     "text": [
      "Current parameters: factors=367, iterations=146, regularization=0.3958437639316722, alpha=12.347335329486922\n"
     ]
    },
    {
     "name": "stderr",
     "output_type": "stream",
     "text": [
      "/var/folders/50/7hjr20g17_18p725nbt0qqv00000gn/T/ipykernel_81509/1494389866.py:12: FutureWarning: suggest_uniform has been deprecated in v3.0.0. This feature will be removed in v6.0.0. See https://github.com/optuna/optuna/releases/tag/v3.0.0. Use suggest_float instead.\n",
      "  regularization = trial.suggest_uniform(\"regularization\", 0.0, 1.0)\n",
      "/var/folders/50/7hjr20g17_18p725nbt0qqv00000gn/T/ipykernel_81509/1494389866.py:13: FutureWarning: suggest_uniform has been deprecated in v3.0.0. This feature will be removed in v6.0.0. See https://github.com/optuna/optuna/releases/tag/v3.0.0. Use suggest_float instead.\n",
      "  alpha = trial.suggest_uniform(\"alpha\", 0.0, 50.0)\n"
     ]
    },
    {
     "data": {
      "application/vnd.jupyter.widget-view+json": {
       "model_id": "2d7c14e324544062a9c44866471320d6",
       "version_major": 2,
       "version_minor": 0
      },
      "text/plain": [
       "  0%|          | 0/146 [00:00<?, ?it/s]"
      ]
     },
     "metadata": {},
     "output_type": "display_data"
    },
    {
     "name": "stdout",
     "output_type": "stream",
     "text": [
      "EvaluatorHoldout: Processed 35595 (100.0%) in 22.10 sec. Users per second: 1611\n"
     ]
    },
    {
     "name": "stderr",
     "output_type": "stream",
     "text": [
      "[I 2024-12-28 15:54:26,582] Trial 22 finished with value: 0.03773129697634396 and parameters: {'factors': 367, 'iterations': 146, 'regularization': 0.3958437639316722, 'alpha': 12.347335329486922}. Best is trial 12 with value: 0.03834431445472179.\n"
     ]
    },
    {
     "name": "stdout",
     "output_type": "stream",
     "text": [
      "Current parameters: factors=312, iterations=208, regularization=0.41682701467153505, alpha=11.55775932033436\n"
     ]
    },
    {
     "name": "stderr",
     "output_type": "stream",
     "text": [
      "/var/folders/50/7hjr20g17_18p725nbt0qqv00000gn/T/ipykernel_81509/1494389866.py:12: FutureWarning: suggest_uniform has been deprecated in v3.0.0. This feature will be removed in v6.0.0. See https://github.com/optuna/optuna/releases/tag/v3.0.0. Use suggest_float instead.\n",
      "  regularization = trial.suggest_uniform(\"regularization\", 0.0, 1.0)\n",
      "/var/folders/50/7hjr20g17_18p725nbt0qqv00000gn/T/ipykernel_81509/1494389866.py:13: FutureWarning: suggest_uniform has been deprecated in v3.0.0. This feature will be removed in v6.0.0. See https://github.com/optuna/optuna/releases/tag/v3.0.0. Use suggest_float instead.\n",
      "  alpha = trial.suggest_uniform(\"alpha\", 0.0, 50.0)\n"
     ]
    },
    {
     "data": {
      "application/vnd.jupyter.widget-view+json": {
       "model_id": "294155f53b77477a807016d9577988a4",
       "version_major": 2,
       "version_minor": 0
      },
      "text/plain": [
       "  0%|          | 0/208 [00:00<?, ?it/s]"
      ]
     },
     "metadata": {},
     "output_type": "display_data"
    },
    {
     "name": "stderr",
     "output_type": "stream",
     "text": [
      "[W 2024-12-28 15:54:44,718] Trial 23 failed with parameters: {'factors': 312, 'iterations': 208, 'regularization': 0.41682701467153505, 'alpha': 11.55775932033436} because of the following error: KeyboardInterrupt().\n",
      "Traceback (most recent call last):\n",
      "  File \"/Users/lucapagano/miniconda3/envs/RecSysPD/lib/python3.8/site-packages/optuna/study/_optimize.py\", line 197, in _run_trial\n",
      "    value_or_values = func(trial)\n",
      "  File \"/var/folders/50/7hjr20g17_18p725nbt0qqv00000gn/T/ipykernel_81509/1494389866.py\", line 17, in objective_function\n",
      "    recommender.fit(iterations=iterations, factors=factors, regularization=regularization, use_gpu=False, num_threads=0, confidence_scaling=\"linear\", **{\"alpha\":alpha})\n",
      "  File \"/Users/lucapagano/Developer/RecSys/Competizione/Recommenders/MatrixFactorization/ImplicitALSRecommender.py\", line 76, in fit\n",
      "    use_native=use_native, use_cg=use_cg, use_gpu=use_gpu,\n",
      "  File \"/Users/lucapagano/miniconda3/envs/RecSysPD/lib/python3.8/site-packages/implicit/cpu/als.py\", line 170, in fit\n",
      "    solver(\n",
      "KeyboardInterrupt\n",
      "[W 2024-12-28 15:54:44,720] Trial 23 failed with value None.\n"
     ]
    },
    {
     "ename": "KeyboardInterrupt",
     "evalue": "",
     "output_type": "error",
     "traceback": [
      "\u001b[0;31m---------------------------------------------------------------------------\u001b[0m",
      "\u001b[0;31mKeyboardInterrupt\u001b[0m                         Traceback (most recent call last)",
      "Cell \u001b[0;32mIn[6], line 42\u001b[0m\n\u001b[1;32m     38\u001b[0m optuna_study \u001b[38;5;241m=\u001b[39m optuna\u001b[38;5;241m.\u001b[39mcreate_study(study_name\u001b[38;5;241m=\u001b[39m\u001b[38;5;124m\"\u001b[39m\u001b[38;5;124mIALS\u001b[39m\u001b[38;5;124m\"\u001b[39m, direction\u001b[38;5;241m=\u001b[39m\u001b[38;5;124m\"\u001b[39m\u001b[38;5;124mmaximize\u001b[39m\u001b[38;5;124m\"\u001b[39m)\n\u001b[1;32m     40\u001b[0m save_results \u001b[38;5;241m=\u001b[39m SaveResults()\n\u001b[0;32m---> 42\u001b[0m \u001b[43moptuna_study\u001b[49m\u001b[38;5;241;43m.\u001b[39;49m\u001b[43moptimize\u001b[49m\u001b[43m(\u001b[49m\u001b[43mobjective_function\u001b[49m\u001b[43m,\u001b[49m\n\u001b[1;32m     43\u001b[0m \u001b[43m                      \u001b[49m\u001b[43mcallbacks\u001b[49m\u001b[38;5;241;43m=\u001b[39;49m\u001b[43m[\u001b[49m\u001b[43msave_results\u001b[49m\u001b[43m]\u001b[49m\u001b[43m,\u001b[49m\n\u001b[1;32m     44\u001b[0m \u001b[43m                      \u001b[49m\u001b[43mn_trials\u001b[49m\u001b[43m \u001b[49m\u001b[38;5;241;43m=\u001b[39;49m\u001b[43m \u001b[49m\u001b[38;5;241;43m100\u001b[39;49m\u001b[43m,\u001b[49m\n\u001b[1;32m     45\u001b[0m \u001b[43m                      \u001b[49m\u001b[43m)\u001b[49m\n",
      "File \u001b[0;32m~/miniconda3/envs/RecSysPD/lib/python3.8/site-packages/optuna/study/study.py:475\u001b[0m, in \u001b[0;36mStudy.optimize\u001b[0;34m(self, func, n_trials, timeout, n_jobs, catch, callbacks, gc_after_trial, show_progress_bar)\u001b[0m\n\u001b[1;32m    373\u001b[0m \u001b[38;5;28;01mdef\u001b[39;00m \u001b[38;5;21moptimize\u001b[39m(\n\u001b[1;32m    374\u001b[0m     \u001b[38;5;28mself\u001b[39m,\n\u001b[1;32m    375\u001b[0m     func: ObjectiveFuncType,\n\u001b[0;32m   (...)\u001b[0m\n\u001b[1;32m    382\u001b[0m     show_progress_bar: \u001b[38;5;28mbool\u001b[39m \u001b[38;5;241m=\u001b[39m \u001b[38;5;28;01mFalse\u001b[39;00m,\n\u001b[1;32m    383\u001b[0m ) \u001b[38;5;241m-\u001b[39m\u001b[38;5;241m>\u001b[39m \u001b[38;5;28;01mNone\u001b[39;00m:\n\u001b[1;32m    384\u001b[0m \u001b[38;5;250m    \u001b[39m\u001b[38;5;124;03m\"\"\"Optimize an objective function.\u001b[39;00m\n\u001b[1;32m    385\u001b[0m \n\u001b[1;32m    386\u001b[0m \u001b[38;5;124;03m    Optimization is done by choosing a suitable set of hyperparameter values from a given\u001b[39;00m\n\u001b[0;32m   (...)\u001b[0m\n\u001b[1;32m    473\u001b[0m \u001b[38;5;124;03m            If nested invocation of this method occurs.\u001b[39;00m\n\u001b[1;32m    474\u001b[0m \u001b[38;5;124;03m    \"\"\"\u001b[39;00m\n\u001b[0;32m--> 475\u001b[0m     \u001b[43m_optimize\u001b[49m\u001b[43m(\u001b[49m\n\u001b[1;32m    476\u001b[0m \u001b[43m        \u001b[49m\u001b[43mstudy\u001b[49m\u001b[38;5;241;43m=\u001b[39;49m\u001b[38;5;28;43mself\u001b[39;49m\u001b[43m,\u001b[49m\n\u001b[1;32m    477\u001b[0m \u001b[43m        \u001b[49m\u001b[43mfunc\u001b[49m\u001b[38;5;241;43m=\u001b[39;49m\u001b[43mfunc\u001b[49m\u001b[43m,\u001b[49m\n\u001b[1;32m    478\u001b[0m \u001b[43m        \u001b[49m\u001b[43mn_trials\u001b[49m\u001b[38;5;241;43m=\u001b[39;49m\u001b[43mn_trials\u001b[49m\u001b[43m,\u001b[49m\n\u001b[1;32m    479\u001b[0m \u001b[43m        \u001b[49m\u001b[43mtimeout\u001b[49m\u001b[38;5;241;43m=\u001b[39;49m\u001b[43mtimeout\u001b[49m\u001b[43m,\u001b[49m\n\u001b[1;32m    480\u001b[0m \u001b[43m        \u001b[49m\u001b[43mn_jobs\u001b[49m\u001b[38;5;241;43m=\u001b[39;49m\u001b[43mn_jobs\u001b[49m\u001b[43m,\u001b[49m\n\u001b[1;32m    481\u001b[0m \u001b[43m        \u001b[49m\u001b[43mcatch\u001b[49m\u001b[38;5;241;43m=\u001b[39;49m\u001b[38;5;28;43mtuple\u001b[39;49m\u001b[43m(\u001b[49m\u001b[43mcatch\u001b[49m\u001b[43m)\u001b[49m\u001b[43m \u001b[49m\u001b[38;5;28;43;01mif\u001b[39;49;00m\u001b[43m \u001b[49m\u001b[38;5;28;43misinstance\u001b[39;49m\u001b[43m(\u001b[49m\u001b[43mcatch\u001b[49m\u001b[43m,\u001b[49m\u001b[43m \u001b[49m\u001b[43mIterable\u001b[49m\u001b[43m)\u001b[49m\u001b[43m \u001b[49m\u001b[38;5;28;43;01melse\u001b[39;49;00m\u001b[43m \u001b[49m\u001b[43m(\u001b[49m\u001b[43mcatch\u001b[49m\u001b[43m,\u001b[49m\u001b[43m)\u001b[49m\u001b[43m,\u001b[49m\n\u001b[1;32m    482\u001b[0m \u001b[43m        \u001b[49m\u001b[43mcallbacks\u001b[49m\u001b[38;5;241;43m=\u001b[39;49m\u001b[43mcallbacks\u001b[49m\u001b[43m,\u001b[49m\n\u001b[1;32m    483\u001b[0m \u001b[43m        \u001b[49m\u001b[43mgc_after_trial\u001b[49m\u001b[38;5;241;43m=\u001b[39;49m\u001b[43mgc_after_trial\u001b[49m\u001b[43m,\u001b[49m\n\u001b[1;32m    484\u001b[0m \u001b[43m        \u001b[49m\u001b[43mshow_progress_bar\u001b[49m\u001b[38;5;241;43m=\u001b[39;49m\u001b[43mshow_progress_bar\u001b[49m\u001b[43m,\u001b[49m\n\u001b[1;32m    485\u001b[0m \u001b[43m    \u001b[49m\u001b[43m)\u001b[49m\n",
      "File \u001b[0;32m~/miniconda3/envs/RecSysPD/lib/python3.8/site-packages/optuna/study/_optimize.py:63\u001b[0m, in \u001b[0;36m_optimize\u001b[0;34m(study, func, n_trials, timeout, n_jobs, catch, callbacks, gc_after_trial, show_progress_bar)\u001b[0m\n\u001b[1;32m     61\u001b[0m \u001b[38;5;28;01mtry\u001b[39;00m:\n\u001b[1;32m     62\u001b[0m     \u001b[38;5;28;01mif\u001b[39;00m n_jobs \u001b[38;5;241m==\u001b[39m \u001b[38;5;241m1\u001b[39m:\n\u001b[0;32m---> 63\u001b[0m         \u001b[43m_optimize_sequential\u001b[49m\u001b[43m(\u001b[49m\n\u001b[1;32m     64\u001b[0m \u001b[43m            \u001b[49m\u001b[43mstudy\u001b[49m\u001b[43m,\u001b[49m\n\u001b[1;32m     65\u001b[0m \u001b[43m            \u001b[49m\u001b[43mfunc\u001b[49m\u001b[43m,\u001b[49m\n\u001b[1;32m     66\u001b[0m \u001b[43m            \u001b[49m\u001b[43mn_trials\u001b[49m\u001b[43m,\u001b[49m\n\u001b[1;32m     67\u001b[0m \u001b[43m            \u001b[49m\u001b[43mtimeout\u001b[49m\u001b[43m,\u001b[49m\n\u001b[1;32m     68\u001b[0m \u001b[43m            \u001b[49m\u001b[43mcatch\u001b[49m\u001b[43m,\u001b[49m\n\u001b[1;32m     69\u001b[0m \u001b[43m            \u001b[49m\u001b[43mcallbacks\u001b[49m\u001b[43m,\u001b[49m\n\u001b[1;32m     70\u001b[0m \u001b[43m            \u001b[49m\u001b[43mgc_after_trial\u001b[49m\u001b[43m,\u001b[49m\n\u001b[1;32m     71\u001b[0m \u001b[43m            \u001b[49m\u001b[43mreseed_sampler_rng\u001b[49m\u001b[38;5;241;43m=\u001b[39;49m\u001b[38;5;28;43;01mFalse\u001b[39;49;00m\u001b[43m,\u001b[49m\n\u001b[1;32m     72\u001b[0m \u001b[43m            \u001b[49m\u001b[43mtime_start\u001b[49m\u001b[38;5;241;43m=\u001b[39;49m\u001b[38;5;28;43;01mNone\u001b[39;49;00m\u001b[43m,\u001b[49m\n\u001b[1;32m     73\u001b[0m \u001b[43m            \u001b[49m\u001b[43mprogress_bar\u001b[49m\u001b[38;5;241;43m=\u001b[39;49m\u001b[43mprogress_bar\u001b[49m\u001b[43m,\u001b[49m\n\u001b[1;32m     74\u001b[0m \u001b[43m        \u001b[49m\u001b[43m)\u001b[49m\n\u001b[1;32m     75\u001b[0m     \u001b[38;5;28;01melse\u001b[39;00m:\n\u001b[1;32m     76\u001b[0m         \u001b[38;5;28;01mif\u001b[39;00m n_jobs \u001b[38;5;241m==\u001b[39m \u001b[38;5;241m-\u001b[39m\u001b[38;5;241m1\u001b[39m:\n",
      "File \u001b[0;32m~/miniconda3/envs/RecSysPD/lib/python3.8/site-packages/optuna/study/_optimize.py:160\u001b[0m, in \u001b[0;36m_optimize_sequential\u001b[0;34m(study, func, n_trials, timeout, catch, callbacks, gc_after_trial, reseed_sampler_rng, time_start, progress_bar)\u001b[0m\n\u001b[1;32m    157\u001b[0m         \u001b[38;5;28;01mbreak\u001b[39;00m\n\u001b[1;32m    159\u001b[0m \u001b[38;5;28;01mtry\u001b[39;00m:\n\u001b[0;32m--> 160\u001b[0m     frozen_trial \u001b[38;5;241m=\u001b[39m \u001b[43m_run_trial\u001b[49m\u001b[43m(\u001b[49m\u001b[43mstudy\u001b[49m\u001b[43m,\u001b[49m\u001b[43m \u001b[49m\u001b[43mfunc\u001b[49m\u001b[43m,\u001b[49m\u001b[43m \u001b[49m\u001b[43mcatch\u001b[49m\u001b[43m)\u001b[49m\n\u001b[1;32m    161\u001b[0m \u001b[38;5;28;01mfinally\u001b[39;00m:\n\u001b[1;32m    162\u001b[0m     \u001b[38;5;66;03m# The following line mitigates memory problems that can be occurred in some\u001b[39;00m\n\u001b[1;32m    163\u001b[0m     \u001b[38;5;66;03m# environments (e.g., services that use computing containers such as GitHub Actions).\u001b[39;00m\n\u001b[1;32m    164\u001b[0m     \u001b[38;5;66;03m# Please refer to the following PR for further details:\u001b[39;00m\n\u001b[1;32m    165\u001b[0m     \u001b[38;5;66;03m# https://github.com/optuna/optuna/pull/325.\u001b[39;00m\n\u001b[1;32m    166\u001b[0m     \u001b[38;5;28;01mif\u001b[39;00m gc_after_trial:\n",
      "File \u001b[0;32m~/miniconda3/envs/RecSysPD/lib/python3.8/site-packages/optuna/study/_optimize.py:248\u001b[0m, in \u001b[0;36m_run_trial\u001b[0;34m(study, func, catch)\u001b[0m\n\u001b[1;32m    241\u001b[0m         \u001b[38;5;28;01massert\u001b[39;00m \u001b[38;5;28;01mFalse\u001b[39;00m, \u001b[38;5;124m\"\u001b[39m\u001b[38;5;124mShould not reach.\u001b[39m\u001b[38;5;124m\"\u001b[39m\n\u001b[1;32m    243\u001b[0m \u001b[38;5;28;01mif\u001b[39;00m (\n\u001b[1;32m    244\u001b[0m     frozen_trial\u001b[38;5;241m.\u001b[39mstate \u001b[38;5;241m==\u001b[39m TrialState\u001b[38;5;241m.\u001b[39mFAIL\n\u001b[1;32m    245\u001b[0m     \u001b[38;5;129;01mand\u001b[39;00m func_err \u001b[38;5;129;01mis\u001b[39;00m \u001b[38;5;129;01mnot\u001b[39;00m \u001b[38;5;28;01mNone\u001b[39;00m\n\u001b[1;32m    246\u001b[0m     \u001b[38;5;129;01mand\u001b[39;00m \u001b[38;5;129;01mnot\u001b[39;00m \u001b[38;5;28misinstance\u001b[39m(func_err, catch)\n\u001b[1;32m    247\u001b[0m ):\n\u001b[0;32m--> 248\u001b[0m     \u001b[38;5;28;01mraise\u001b[39;00m func_err\n\u001b[1;32m    249\u001b[0m \u001b[38;5;28;01mreturn\u001b[39;00m frozen_trial\n",
      "File \u001b[0;32m~/miniconda3/envs/RecSysPD/lib/python3.8/site-packages/optuna/study/_optimize.py:197\u001b[0m, in \u001b[0;36m_run_trial\u001b[0;34m(study, func, catch)\u001b[0m\n\u001b[1;32m    195\u001b[0m \u001b[38;5;28;01mwith\u001b[39;00m get_heartbeat_thread(trial\u001b[38;5;241m.\u001b[39m_trial_id, study\u001b[38;5;241m.\u001b[39m_storage):\n\u001b[1;32m    196\u001b[0m     \u001b[38;5;28;01mtry\u001b[39;00m:\n\u001b[0;32m--> 197\u001b[0m         value_or_values \u001b[38;5;241m=\u001b[39m \u001b[43mfunc\u001b[49m\u001b[43m(\u001b[49m\u001b[43mtrial\u001b[49m\u001b[43m)\u001b[49m\n\u001b[1;32m    198\u001b[0m     \u001b[38;5;28;01mexcept\u001b[39;00m exceptions\u001b[38;5;241m.\u001b[39mTrialPruned \u001b[38;5;28;01mas\u001b[39;00m e:\n\u001b[1;32m    199\u001b[0m         \u001b[38;5;66;03m# TODO(mamu): Handle multi-objective cases.\u001b[39;00m\n\u001b[1;32m    200\u001b[0m         state \u001b[38;5;241m=\u001b[39m TrialState\u001b[38;5;241m.\u001b[39mPRUNED\n",
      "Cell \u001b[0;32mIn[6], line 17\u001b[0m, in \u001b[0;36mobjective_function\u001b[0;34m(trial)\u001b[0m\n\u001b[1;32m     15\u001b[0m \u001b[38;5;28mprint\u001b[39m(\u001b[38;5;124mf\u001b[39m\u001b[38;5;124m\"\u001b[39m\u001b[38;5;124mCurrent parameters: factors=\u001b[39m\u001b[38;5;132;01m{\u001b[39;00mfactors\u001b[38;5;132;01m}\u001b[39;00m\u001b[38;5;124m, iterations=\u001b[39m\u001b[38;5;132;01m{\u001b[39;00miterations\u001b[38;5;132;01m}\u001b[39;00m\u001b[38;5;124m, regularization=\u001b[39m\u001b[38;5;132;01m{\u001b[39;00mregularization\u001b[38;5;132;01m}\u001b[39;00m\u001b[38;5;124m, alpha=\u001b[39m\u001b[38;5;132;01m{\u001b[39;00malpha\u001b[38;5;132;01m}\u001b[39;00m\u001b[38;5;124m\"\u001b[39m)\n\u001b[1;32m     16\u001b[0m recommender \u001b[38;5;241m=\u001b[39m ImplicitALSRecommender(URM_train_validation)\n\u001b[0;32m---> 17\u001b[0m \u001b[43mrecommender\u001b[49m\u001b[38;5;241;43m.\u001b[39;49m\u001b[43mfit\u001b[49m\u001b[43m(\u001b[49m\u001b[43miterations\u001b[49m\u001b[38;5;241;43m=\u001b[39;49m\u001b[43miterations\u001b[49m\u001b[43m,\u001b[49m\u001b[43m \u001b[49m\u001b[43mfactors\u001b[49m\u001b[38;5;241;43m=\u001b[39;49m\u001b[43mfactors\u001b[49m\u001b[43m,\u001b[49m\u001b[43m \u001b[49m\u001b[43mregularization\u001b[49m\u001b[38;5;241;43m=\u001b[39;49m\u001b[43mregularization\u001b[49m\u001b[43m,\u001b[49m\u001b[43m \u001b[49m\u001b[43muse_gpu\u001b[49m\u001b[38;5;241;43m=\u001b[39;49m\u001b[38;5;28;43;01mFalse\u001b[39;49;00m\u001b[43m,\u001b[49m\u001b[43m \u001b[49m\u001b[43mnum_threads\u001b[49m\u001b[38;5;241;43m=\u001b[39;49m\u001b[38;5;241;43m0\u001b[39;49m\u001b[43m,\u001b[49m\u001b[43m \u001b[49m\u001b[43mconfidence_scaling\u001b[49m\u001b[38;5;241;43m=\u001b[39;49m\u001b[38;5;124;43m\"\u001b[39;49m\u001b[38;5;124;43mlinear\u001b[39;49m\u001b[38;5;124;43m\"\u001b[39;49m\u001b[43m,\u001b[49m\u001b[43m \u001b[49m\u001b[38;5;241;43m*\u001b[39;49m\u001b[38;5;241;43m*\u001b[39;49m\u001b[43m{\u001b[49m\u001b[38;5;124;43m\"\u001b[39;49m\u001b[38;5;124;43malpha\u001b[39;49m\u001b[38;5;124;43m\"\u001b[39;49m\u001b[43m:\u001b[49m\u001b[43malpha\u001b[49m\u001b[43m}\u001b[49m\u001b[43m)\u001b[49m\n\u001b[1;32m     19\u001b[0m result_dict, _ \u001b[38;5;241m=\u001b[39m evaluator_test\u001b[38;5;241m.\u001b[39mevaluateRecommender(recommender)\n\u001b[1;32m     21\u001b[0m MAP \u001b[38;5;241m=\u001b[39m result_dict\u001b[38;5;241m.\u001b[39mloc[\u001b[38;5;241m10\u001b[39m][\u001b[38;5;124m\"\u001b[39m\u001b[38;5;124mMAP\u001b[39m\u001b[38;5;124m\"\u001b[39m]\n",
      "File \u001b[0;32m~/Developer/RecSys/Competizione/Recommenders/MatrixFactorization/ImplicitALSRecommender.py:76\u001b[0m, in \u001b[0;36mfit\u001b[0;34m(self, factors, regularization, use_native, use_cg, use_gpu, iterations, calculate_training_loss, num_threads, confidence_scaling, icm_coeff, **confidence_args)\u001b[0m\n\u001b[1;32m     65\u001b[0m \u001b[38;5;28;01mdef\u001b[39;00m \u001b[38;5;21mfit\u001b[39m(\u001b[38;5;28mself\u001b[39m,\n\u001b[1;32m     66\u001b[0m         factors\u001b[38;5;241m=\u001b[39m\u001b[38;5;241m100\u001b[39m,\n\u001b[1;32m     67\u001b[0m         regularization\u001b[38;5;241m=\u001b[39m\u001b[38;5;241m0.01\u001b[39m,\n\u001b[0;32m   (...)\u001b[0m\n\u001b[1;32m     73\u001b[0m         \u001b[38;5;241m*\u001b[39m\u001b[38;5;241m*\u001b[39mconfidence_args\n\u001b[1;32m     74\u001b[0m         ):\n\u001b[1;32m     75\u001b[0m     \u001b[38;5;28mself\u001b[39m\u001b[38;5;241m.\u001b[39mrec \u001b[38;5;241m=\u001b[39m implicit\u001b[38;5;241m.\u001b[39mals\u001b[38;5;241m.\u001b[39mAlternatingLeastSquares(factors\u001b[38;5;241m=\u001b[39mfactors, regularization\u001b[38;5;241m=\u001b[39mregularization,\n\u001b[0;32m---> 76\u001b[0m                                                     use_native\u001b[38;5;241m=\u001b[39muse_native, use_cg\u001b[38;5;241m=\u001b[39muse_cg, use_gpu\u001b[38;5;241m=\u001b[39muse_gpu,\n\u001b[1;32m     77\u001b[0m                                                     iterations\u001b[38;5;241m=\u001b[39miterations,\n\u001b[1;32m     78\u001b[0m                                                     calculate_training_loss\u001b[38;5;241m=\u001b[39mcalculate_training_loss,\n\u001b[1;32m     79\u001b[0m                                                     num_threads\u001b[38;5;241m=\u001b[39mnum_threads,\n\u001b[1;32m     80\u001b[0m                                                     random_state\u001b[38;5;241m=\u001b[39m\u001b[38;5;241m42\u001b[39m)\n\u001b[1;32m     81\u001b[0m     tmp \u001b[38;5;241m=\u001b[39m \u001b[38;5;28mself\u001b[39m\u001b[38;5;241m.\u001b[39mlinear_scaling_confidence(\u001b[38;5;241m*\u001b[39m\u001b[38;5;241m*\u001b[39mconfidence_args)\n\u001b[1;32m     83\u001b[0m     \u001b[38;5;28mself\u001b[39m\u001b[38;5;241m.\u001b[39mrec\u001b[38;5;241m.\u001b[39mfit(tmp, show_progress\u001b[38;5;241m=\u001b[39m\u001b[38;5;28mself\u001b[39m\u001b[38;5;241m.\u001b[39mverbose)\n",
      "File \u001b[0;32m~/miniconda3/envs/RecSysPD/lib/python3.8/site-packages/implicit/cpu/als.py:170\u001b[0m, in \u001b[0;36mAlternatingLeastSquares.fit\u001b[0;34m(self, user_items, show_progress, callback)\u001b[0m\n\u001b[1;32m    162\u001b[0m s \u001b[38;5;241m=\u001b[39m time\u001b[38;5;241m.\u001b[39mtime()\n\u001b[1;32m    163\u001b[0m solver(\n\u001b[1;32m    164\u001b[0m     Cui,\n\u001b[1;32m    165\u001b[0m     \u001b[38;5;28mself\u001b[39m\u001b[38;5;241m.\u001b[39muser_factors,\n\u001b[0;32m   (...)\u001b[0m\n\u001b[1;32m    168\u001b[0m     num_threads\u001b[38;5;241m=\u001b[39m\u001b[38;5;28mself\u001b[39m\u001b[38;5;241m.\u001b[39mnum_threads,\n\u001b[1;32m    169\u001b[0m )\n\u001b[0;32m--> 170\u001b[0m \u001b[43msolver\u001b[49m\u001b[43m(\u001b[49m\n\u001b[1;32m    171\u001b[0m \u001b[43m    \u001b[49m\u001b[43mCiu\u001b[49m\u001b[43m,\u001b[49m\n\u001b[1;32m    172\u001b[0m \u001b[43m    \u001b[49m\u001b[38;5;28;43mself\u001b[39;49m\u001b[38;5;241;43m.\u001b[39;49m\u001b[43mitem_factors\u001b[49m\u001b[43m,\u001b[49m\n\u001b[1;32m    173\u001b[0m \u001b[43m    \u001b[49m\u001b[38;5;28;43mself\u001b[39;49m\u001b[38;5;241;43m.\u001b[39;49m\u001b[43muser_factors\u001b[49m\u001b[43m,\u001b[49m\n\u001b[1;32m    174\u001b[0m \u001b[43m    \u001b[49m\u001b[38;5;28;43mself\u001b[39;49m\u001b[38;5;241;43m.\u001b[39;49m\u001b[43mregularization\u001b[49m\u001b[43m,\u001b[49m\n\u001b[1;32m    175\u001b[0m \u001b[43m    \u001b[49m\u001b[43mnum_threads\u001b[49m\u001b[38;5;241;43m=\u001b[39;49m\u001b[38;5;28;43mself\u001b[39;49m\u001b[38;5;241;43m.\u001b[39;49m\u001b[43mnum_threads\u001b[49m\u001b[43m,\u001b[49m\n\u001b[1;32m    176\u001b[0m \u001b[43m\u001b[49m\u001b[43m)\u001b[49m\n\u001b[1;32m    177\u001b[0m progress\u001b[38;5;241m.\u001b[39mupdate(\u001b[38;5;241m1\u001b[39m)\n\u001b[1;32m    179\u001b[0m \u001b[38;5;28;01mif\u001b[39;00m \u001b[38;5;28mself\u001b[39m\u001b[38;5;241m.\u001b[39mcalculate_training_loss:\n",
      "\u001b[0;31mKeyboardInterrupt\u001b[0m: "
     ]
    }
   ],
   "source": [
    "# too slow -> from Recommenders.MatrixFactorization.IALSRecommender import IALSRecommender\n",
    "from Recommenders.MatrixFactorization.ImplicitALSRecommender import ImplicitALSRecommender # Credit Nicola Cesare Github\n",
    "import optuna\n",
    "\n",
    "def objective_function(trial):\n",
    "    \n",
    "    '''recommender_implicitAls.fit(iterations= int(83.64347328971459), factors= int(125.3856187337561), regularization= 0.05106206327352681, use_gpu=False, num_threads=0, confidence_scaling=linear_scaling_confidence,**{\"alpha\":5.579621138255679})\n",
    "'''\n",
    "    \n",
    "    factors = trial.suggest_int(\"factors\", 1, 400)\n",
    "    iterations = trial.suggest_int(\"iterations\", 1, 500)\n",
    "    regularization = trial.suggest_uniform(\"regularization\", 0.0, 1.0)\n",
    "    alpha = trial.suggest_uniform(\"alpha\", 0.0, 50.0)\n",
    "    \n",
    "    print(f\"Current parameters: factors={factors}, iterations={iterations}, regularization={regularization}, alpha={alpha}\")\n",
    "    recommender = ImplicitALSRecommender(URM_train_validation)\n",
    "    recommender.fit(iterations=iterations, factors=factors, regularization=regularization, use_gpu=False, num_threads=0, confidence_scaling=\"linear\", **{\"alpha\":alpha})\n",
    "\n",
    "    result_dict, _ = evaluator_test.evaluateRecommender(recommender)\n",
    "\n",
    "    MAP = result_dict.loc[10][\"MAP\"]\n",
    "    \n",
    "    return MAP\n",
    "\n",
    "\n",
    "class SaveResults(object):\n",
    "    \n",
    "    def __init__(self):\n",
    "        self.results_df = pd.DataFrame(columns = [\"result\"])\n",
    "    \n",
    "    def __call__(self, optuna_study, optuna_trial):\n",
    "        hyperparam_dict = optuna_trial.params.copy()\n",
    "        hyperparam_dict[\"result\"] = optuna_trial.values[0]\n",
    "        \n",
    "        self.results_df = pd.concat([self.results_df, pd.DataFrame([hyperparam_dict])], ignore_index=True)\n",
    "        self.results_df.to_csv(\"logs/IALS/IALS_first_trial.csv\", index = False)\n",
    "\n",
    "optuna_study = optuna.create_study(study_name=\"IALS\", direction=\"maximize\")\n",
    "        \n",
    "save_results = SaveResults()\n",
    "        \n",
    "optuna_study.optimize(objective_function,\n",
    "                      callbacks=[save_results],\n",
    "                      n_trials = 100,\n",
    "                      )"
   ]
  },
  {
   "cell_type": "markdown",
   "metadata": {},
   "source": [
    "# Too slow\n",
    "First let's verify it isn't just a problem of more epochs. Then in case let's speed up the convergence"
   ]
  },
  {
   "cell_type": "code",
   "execution_count": 7,
   "metadata": {},
   "outputs": [
    {
     "name": "stdout",
     "output_type": "stream",
     "text": [
      "{'result': 0.03834431445472179, 'factors': 397.0, 'iterations': 105.0, 'regularization': 0.3707848450257657, 'alpha': 4.815638211952356}\n"
     ]
    }
   ],
   "source": [
    "best_index = save_results.results_df[\"result\"].idxmax()\n",
    "best_hyperparams = save_results.results_df.loc[best_index].to_dict()\n",
    "print(best_hyperparams)"
   ]
  },
  {
   "cell_type": "code",
   "execution_count": 12,
   "metadata": {},
   "outputs": [
    {
     "name": "stdout",
     "output_type": "stream",
     "text": [
      "New Parameters:  {'factors': 397, 'iterations': 300, 'regularization': 0.3707848450257657, 'alpha': 4.815638211952356}\n"
     ]
    }
   ],
   "source": [
    "params = optuna_study.best_params\n",
    "params[\"iterations\"] = 300\n",
    "print(\"New Parameters: \", params)"
   ]
  },
  {
   "cell_type": "code",
   "execution_count": 13,
   "metadata": {},
   "outputs": [
    {
     "data": {
      "application/vnd.jupyter.widget-view+json": {
       "model_id": "22676e2611ce4ea4acb3b35b185af324",
       "version_major": 2,
       "version_minor": 0
      },
      "text/plain": [
       "  0%|          | 0/300 [00:00<?, ?it/s]"
      ]
     },
     "metadata": {},
     "output_type": "display_data"
    }
   ],
   "source": [
    "recommender = ImplicitALSRecommender(URM_train_validation)\n",
    "recommender.fit(**params)"
   ]
  },
  {
   "cell_type": "code",
   "execution_count": 14,
   "metadata": {},
   "outputs": [
    {
     "name": "stdout",
     "output_type": "stream",
     "text": [
      "EvaluatorHoldout: Processed 35595 (100.0%) in 22.50 sec. Users per second: 1582\n",
      "0.038388545519812474\n"
     ]
    }
   ],
   "source": [
    "result_dict, _ = evaluator_test.evaluateRecommender(recommender)\n",
    "MAP = result_dict.loc[10][\"MAP\"]\n",
    "print(MAP)"
   ]
  },
  {
   "cell_type": "markdown",
   "metadata": {},
   "source": [
    "# Nevermind, using colab with gpu :("
   ]
  },
  {
   "cell_type": "markdown",
   "metadata": {},
   "source": [
    "Doing some tests after some experiments with colab"
   ]
  },
  {
   "cell_type": "code",
   "execution_count": 33,
   "metadata": {},
   "outputs": [
    {
     "data": {
      "application/vnd.jupyter.widget-view+json": {
       "model_id": "1add7876434f4420a0696b0878f20638",
       "version_major": 2,
       "version_minor": 0
      },
      "text/plain": [
       "  0%|          | 0/150 [00:00<?, ?it/s]"
      ]
     },
     "metadata": {},
     "output_type": "display_data"
    },
    {
     "name": "stdout",
     "output_type": "stream",
     "text": [
      "EvaluatorHoldout: Ignoring 141 ( 0.4%) Users that have less than 1 test interactions\n",
      "EvaluatorHoldout: Processed 35595 (100.0%) in 25.85 sec. Users per second: 1377\n",
      "0.04497427296057561\n"
     ]
    }
   ],
   "source": [
    "trial_recomm = ImplicitALSRecommender(URM_train_validation)\n",
    "trial_recomm.fit(iterations=150, factors=985, regularization=0.05358304457765484, use_gpu=False, num_threads=0, confidence_scaling=\"linear\", **{\"alpha\":11.70840956665871})\n",
    "evaluator_test = EvaluatorHoldout(URM_test, cutoff_list=[10])\n",
    "result_dict, _ = evaluator_test.evaluateRecommender(trial_recomm)\n",
    "MAP = result_dict.loc[10][\"MAP\"]\n",
    "print(MAP)"
   ]
  },
  {
   "cell_type": "code",
   "execution_count": 45,
   "metadata": {},
   "outputs": [
    {
     "data": {
      "application/vnd.jupyter.widget-view+json": {
       "model_id": "63438c2603754d7b808016dc75aefdec",
       "version_major": 2,
       "version_minor": 0
      },
      "text/plain": [
       "  0%|          | 0/10 [00:00<?, ?it/s]"
      ]
     },
     "metadata": {},
     "output_type": "display_data"
    },
    {
     "name": "stdout",
     "output_type": "stream",
     "text": [
      "EvaluatorHoldout: Ignoring 141 ( 0.4%) Users that have less than 1 test interactions\n",
      "EvaluatorHoldout: Processed 35595 (100.0%) in 27.63 sec. Users per second: 1288\n",
      "0.045899234554521294\n"
     ]
    }
   ],
   "source": [
    "from Recommenders.MatrixFactorization.ImplicitALSRecommender import ImplicitALSRecommender # Credit Nicola Cesare Github\n",
    "\n",
    "trial_recomm = ImplicitALSRecommender(URM_train_validation)\n",
    "trial_recomm.fit(iterations=10, factors=985, regularization=0.7, use_gpu=False, num_threads=0, confidence_scaling=\"linear\", **{\"alpha\":7})\n",
    "evaluator_test = EvaluatorHoldout(URM_test, cutoff_list=[10])\n",
    "result_dict, _ = evaluator_test.evaluateRecommender(trial_recomm)\n",
    "MAP = result_dict.loc[10][\"MAP\"]\n",
    "print(MAP)"
   ]
  },
  {
   "cell_type": "code",
   "execution_count": 43,
   "metadata": {},
   "outputs": [
    {
     "data": {
      "application/vnd.jupyter.widget-view+json": {
       "model_id": "396985c00f194356bb1ef0e434ff27e8",
       "version_major": 2,
       "version_minor": 0
      },
      "text/plain": [
       "  0%|          | 0/10 [00:00<?, ?it/s]"
      ]
     },
     "metadata": {},
     "output_type": "display_data"
    },
    {
     "name": "stdout",
     "output_type": "stream",
     "text": [
      "EvaluatorHoldout: Ignoring 141 ( 0.4%) Users that have less than 1 test interactions\n",
      "EvaluatorHoldout: Processed 35595 (100.0%) in 27.34 sec. Users per second: 1302\n",
      "0.04593349899776172\n"
     ]
    }
   ],
   "source": [
    "from Recommenders.MatrixFactorization.ImplicitALSRecommender import ImplicitALSRecommender # Credit Nicola Cesare Github\n",
    "\n",
    "trial_recomm = ImplicitALSRecommender(URM_train_validation)\n",
    "trial_recomm.fit(iterations=10, factors=985, regularization=0.3, use_gpu=False, num_threads=0, confidence_scaling=\"linear\", **{\"alpha\":10})\n",
    "evaluator_test = EvaluatorHoldout(URM_test, cutoff_list=[10])\n",
    "result_dict, _ = evaluator_test.evaluateRecommender(trial_recomm)\n",
    "MAP = result_dict.loc[10][\"MAP\"]\n",
    "print(MAP)"
   ]
  },
  {
   "cell_type": "code",
   "execution_count": 49,
   "metadata": {},
   "outputs": [
    {
     "data": {
      "application/vnd.jupyter.widget-view+json": {
       "model_id": "535c578335fe447aadb4bbaddea7d37f",
       "version_major": 2,
       "version_minor": 0
      },
      "text/plain": [
       "  0%|          | 0/10 [00:00<?, ?it/s]"
      ]
     },
     "metadata": {},
     "output_type": "display_data"
    },
    {
     "name": "stdout",
     "output_type": "stream",
     "text": [
      "EvaluatorHoldout: Ignoring 141 ( 0.4%) Users that have less than 1 test interactions\n",
      "EvaluatorHoldout: Processed 35595 (100.0%) in 25.70 sec. Users per second: 1385\n",
      "0.04609735962559245\n"
     ]
    }
   ],
   "source": [
    "from Recommenders.MatrixFactorization.ImplicitALSRecommender import ImplicitALSRecommender # Credit Nicola Cesare Github\n",
    "\n",
    "trial_recomm = ImplicitALSRecommender(URM_train_validation)\n",
    "trial_recomm.fit(iterations=10, factors=1000, regularization=0.3, use_gpu=False, num_threads=0, confidence_scaling=\"linear\", **{\"alpha\":10})\n",
    "evaluator_test = EvaluatorHoldout(URM_test, cutoff_list=[10])\n",
    "result_dict, _ = evaluator_test.evaluateRecommender(trial_recomm)\n",
    "MAP = result_dict.loc[10][\"MAP\"]\n",
    "print(MAP)"
   ]
  },
  {
   "cell_type": "code",
   "execution_count": 52,
   "metadata": {},
   "outputs": [
    {
     "data": {
      "application/vnd.jupyter.widget-view+json": {
       "model_id": "05e2804161be435aa3c8abdf96186f17",
       "version_major": 2,
       "version_minor": 0
      },
      "text/plain": [
       "  0%|          | 0/10 [00:00<?, ?it/s]"
      ]
     },
     "metadata": {},
     "output_type": "display_data"
    },
    {
     "name": "stdout",
     "output_type": "stream",
     "text": [
      "EvaluatorHoldout: Ignoring 141 ( 0.4%) Users that have less than 1 test interactions\n",
      "EvaluatorHoldout: Processed 35595 (100.0%) in 27.99 sec. Users per second: 1272\n",
      "0.04689272057560994\n"
     ]
    }
   ],
   "source": [
    "from Recommenders.MatrixFactorization.ImplicitALSRecommender import ImplicitALSRecommender # Credit Nicola Cesare Github\n",
    "\n",
    "trial_recomm = ImplicitALSRecommender(URM_train_validation)\n",
    "trial_recomm.fit(iterations=10, factors=1250, regularization=0.3, use_gpu=False, num_threads=0, confidence_scaling=\"linear\", **{\"alpha\":10})\n",
    "evaluator_test = EvaluatorHoldout(URM_test, cutoff_list=[10])\n",
    "result_dict, _ = evaluator_test.evaluateRecommender(trial_recomm)\n",
    "MAP = result_dict.loc[10][\"MAP\"]\n",
    "print(MAP)"
   ]
  },
  {
   "cell_type": "code",
   "execution_count": 54,
   "metadata": {},
   "outputs": [
    {
     "data": {
      "application/vnd.jupyter.widget-view+json": {
       "model_id": "0a4c9dc4eee5496785e77964fde54a6f",
       "version_major": 2,
       "version_minor": 0
      },
      "text/plain": [
       "  0%|          | 0/10 [00:00<?, ?it/s]"
      ]
     },
     "metadata": {},
     "output_type": "display_data"
    },
    {
     "name": "stdout",
     "output_type": "stream",
     "text": [
      "EvaluatorHoldout: Ignoring 141 ( 0.4%) Users that have less than 1 test interactions\n",
      "EvaluatorHoldout: Processed 35595 (100.0%) in 29.52 sec. Users per second: 1206\n",
      "0.04757753898019192\n"
     ]
    }
   ],
   "source": [
    "from Recommenders.MatrixFactorization.ImplicitALSRecommender import ImplicitALSRecommender # Credit Nicola Cesare Github\n",
    "\n",
    "trial_recomm = ImplicitALSRecommender(URM_train_validation)\n",
    "trial_recomm.fit(iterations=10, factors=1350, regularization=0.3, use_gpu=False, num_threads=0, confidence_scaling=\"linear\", **{\"alpha\":10})\n",
    "evaluator_test = EvaluatorHoldout(URM_test, cutoff_list=[10])\n",
    "result_dict, _ = evaluator_test.evaluateRecommender(trial_recomm)\n",
    "MAP = result_dict.loc[10][\"MAP\"]\n",
    "print(MAP)"
   ]
  },
  {
   "cell_type": "code",
   "execution_count": 55,
   "metadata": {},
   "outputs": [
    {
     "data": {
      "application/vnd.jupyter.widget-view+json": {
       "model_id": "baf39e887c884c43932d9002a56eb798",
       "version_major": 2,
       "version_minor": 0
      },
      "text/plain": [
       "  0%|          | 0/10 [00:00<?, ?it/s]"
      ]
     },
     "metadata": {},
     "output_type": "display_data"
    },
    {
     "name": "stdout",
     "output_type": "stream",
     "text": [
      "EvaluatorHoldout: Ignoring 141 ( 0.4%) Users that have less than 1 test interactions\n",
      "EvaluatorHoldout: Processed 35595 (100.0%) in 28.86 sec. Users per second: 1233\n",
      "0.047689126125702884\n"
     ]
    }
   ],
   "source": [
    "from Recommenders.MatrixFactorization.ImplicitALSRecommender import ImplicitALSRecommender # Credit Nicola Cesare Github\n",
    "\n",
    "trial_recomm = ImplicitALSRecommender(URM_train_validation)\n",
    "trial_recomm.fit(iterations=10, factors=1450, regularization=0.3, use_gpu=False, num_threads=0, confidence_scaling=\"linear\", **{\"alpha\":10})\n",
    "evaluator_test = EvaluatorHoldout(URM_test, cutoff_list=[10])\n",
    "result_dict, _ = evaluator_test.evaluateRecommender(trial_recomm)\n",
    "MAP = result_dict.loc[10][\"MAP\"]\n",
    "print(MAP)"
   ]
  },
  {
   "cell_type": "code",
   "execution_count": 56,
   "metadata": {},
   "outputs": [
    {
     "data": {
      "application/vnd.jupyter.widget-view+json": {
       "model_id": "1df28fed98834bf48b6c3d4361729127",
       "version_major": 2,
       "version_minor": 0
      },
      "text/plain": [
       "  0%|          | 0/10 [00:00<?, ?it/s]"
      ]
     },
     "metadata": {},
     "output_type": "display_data"
    },
    {
     "name": "stdout",
     "output_type": "stream",
     "text": [
      "EvaluatorHoldout: Ignoring 141 ( 0.4%) Users that have less than 1 test interactions\n",
      "EvaluatorHoldout: Processed 35595 (100.0%) in 28.78 sec. Users per second: 1237\n",
      "0.048148553947962094\n"
     ]
    }
   ],
   "source": [
    "from Recommenders.MatrixFactorization.ImplicitALSRecommender import ImplicitALSRecommender # Credit Nicola Cesare Github\n",
    "\n",
    "trial_recomm = ImplicitALSRecommender(URM_train_validation)\n",
    "trial_recomm.fit(iterations=10, factors=1550, regularization=0.3, use_gpu=False, num_threads=0, confidence_scaling=\"linear\", **{\"alpha\":10})\n",
    "evaluator_test = EvaluatorHoldout(URM_test, cutoff_list=[10])\n",
    "result_dict, _ = evaluator_test.evaluateRecommender(trial_recomm)\n",
    "MAP = result_dict.loc[10][\"MAP\"]\n",
    "print(MAP)"
   ]
  },
  {
   "cell_type": "code",
   "execution_count": 57,
   "metadata": {},
   "outputs": [
    {
     "data": {
      "application/vnd.jupyter.widget-view+json": {
       "model_id": "d8fbafadcab242fb9cd5907d4ec7ead1",
       "version_major": 2,
       "version_minor": 0
      },
      "text/plain": [
       "  0%|          | 0/10 [00:00<?, ?it/s]"
      ]
     },
     "metadata": {},
     "output_type": "display_data"
    },
    {
     "name": "stdout",
     "output_type": "stream",
     "text": [
      "EvaluatorHoldout: Ignoring 141 ( 0.4%) Users that have less than 1 test interactions\n",
      "EvaluatorHoldout: Processed 35595 (100.0%) in 29.88 sec. Users per second: 1191\n",
      "0.048254146627511894\n"
     ]
    }
   ],
   "source": [
    "from Recommenders.MatrixFactorization.ImplicitALSRecommender import ImplicitALSRecommender # Credit Nicola Cesare Github\n",
    "\n",
    "trial_recomm = ImplicitALSRecommender(URM_train_validation)\n",
    "trial_recomm.fit(iterations=10, factors=1650, regularization=0.3, use_gpu=False, num_threads=0, confidence_scaling=\"linear\", **{\"alpha\":10})\n",
    "evaluator_test = EvaluatorHoldout(URM_test, cutoff_list=[10])\n",
    "result_dict, _ = evaluator_test.evaluateRecommender(trial_recomm)\n",
    "MAP = result_dict.loc[10][\"MAP\"]\n",
    "print(MAP)"
   ]
  },
  {
   "cell_type": "code",
   "execution_count": 61,
   "metadata": {},
   "outputs": [
    {
     "data": {
      "application/vnd.jupyter.widget-view+json": {
       "model_id": "e611c815b7654c64b31c9b51e650f9cc",
       "version_major": 2,
       "version_minor": 0
      },
      "text/plain": [
       "  0%|          | 0/10 [00:00<?, ?it/s]"
      ]
     },
     "metadata": {},
     "output_type": "display_data"
    },
    {
     "name": "stdout",
     "output_type": "stream",
     "text": [
      "EvaluatorHoldout: Ignoring 141 ( 0.4%) Users that have less than 1 test interactions\n",
      "EvaluatorHoldout: Processed 35595 (100.0%) in 31.17 sec. Users per second: 1142\n",
      "0.048276074310417236\n"
     ]
    }
   ],
   "source": [
    "from Recommenders.MatrixFactorization.ImplicitALSRecommender import ImplicitALSRecommender # Credit Nicola Cesare Github\n",
    "\n",
    "trial_recomm = ImplicitALSRecommender(URM_train_validation)\n",
    "trial_recomm.fit(iterations=10, factors=1650, regularization=0.4, use_gpu=False, num_threads=0, confidence_scaling=\"linear\", **{\"alpha\":10})\n",
    "evaluator_test = EvaluatorHoldout(URM_test, cutoff_list=[10])\n",
    "result_dict, _ = evaluator_test.evaluateRecommender(trial_recomm)\n",
    "MAP = result_dict.loc[10][\"MAP\"]\n",
    "print(MAP)"
   ]
  },
  {
   "cell_type": "code",
   "execution_count": 62,
   "metadata": {},
   "outputs": [
    {
     "data": {
      "application/vnd.jupyter.widget-view+json": {
       "model_id": "ce32127f0e054b5cb4404a75fa43ce0d",
       "version_major": 2,
       "version_minor": 0
      },
      "text/plain": [
       "  0%|          | 0/10 [00:00<?, ?it/s]"
      ]
     },
     "metadata": {},
     "output_type": "display_data"
    },
    {
     "name": "stdout",
     "output_type": "stream",
     "text": [
      "EvaluatorHoldout: Ignoring 141 ( 0.4%) Users that have less than 1 test interactions\n",
      "EvaluatorHoldout: Processed 35595 (100.0%) in 30.34 sec. Users per second: 1173\n",
      "0.04828206320220468\n"
     ]
    }
   ],
   "source": [
    "from Recommenders.MatrixFactorization.ImplicitALSRecommender import ImplicitALSRecommender # Credit Nicola Cesare Github\n",
    "\n",
    "trial_recomm = ImplicitALSRecommender(URM_train_validation)\n",
    "trial_recomm.fit(iterations=10, factors=1650, regularization=0.5, use_gpu=False, num_threads=0, confidence_scaling=\"linear\", **{\"alpha\":10})\n",
    "evaluator_test = EvaluatorHoldout(URM_test, cutoff_list=[10])\n",
    "result_dict, _ = evaluator_test.evaluateRecommender(trial_recomm)\n",
    "MAP = result_dict.loc[10][\"MAP\"]\n",
    "print(MAP)"
   ]
  },
  {
   "cell_type": "markdown",
   "metadata": {},
   "source": [
    "Not finding anything better..."
   ]
  },
  {
   "cell_type": "code",
   "execution_count": 63,
   "metadata": {},
   "outputs": [
    {
     "data": {
      "application/vnd.jupyter.widget-view+json": {
       "model_id": "064b4506c37c4310bbf24436e6362e99",
       "version_major": 2,
       "version_minor": 0
      },
      "text/plain": [
       "  0%|          | 0/10 [00:00<?, ?it/s]"
      ]
     },
     "metadata": {},
     "output_type": "display_data"
    },
    {
     "name": "stdout",
     "output_type": "stream",
     "text": [
      "   user_id\n",
      "0        0\n",
      "1        1\n",
      "2        2\n",
      "3        3\n",
      "4        4\n",
      "5        5\n",
      "6        6\n",
      "7        7\n",
      "8        8\n",
      "9        9\n"
     ]
    }
   ],
   "source": [
    "from Recommenders.MatrixFactorization.ImplicitALSRecommender import ImplicitALSRecommender # Credit Nicola Cesare Github\n",
    "\n",
    "trial_recomm = ImplicitALSRecommender(URM_all)\n",
    "trial_recomm.fit(iterations=10, factors=1650, regularization=0.5, use_gpu=False, num_threads=0, confidence_scaling=\"linear\", **{\"alpha\":10})\n",
    "\n",
    "target_user = pd.read_csv(\"Dataset/data_target_users_test.csv\")\n",
    "print(target_user.head(10))\n",
    "\n",
    "user_id = target_user['user_id']\n",
    "recommendations = []\n",
    "for user in user_id:\n",
    "    recommendations.append(trial_recomm.recommend(user, cutoff=10))\n",
    "\n",
    "# Saving in a submission file for the competition\n",
    "submission = pd.DataFrame(columns=['user_id', 'item_list'])\n",
    "submission['user_id'] = user_id\n",
    "# Convert list of recommendations into a space-separated string\n",
    "submission['item_list'] = [' '.join(map(str, recs)) for recs in recommendations]\n",
    "\n",
    "# Save the submission file\n",
    "submission.to_csv(f\"submissions/IALS_implicit_iterations=10, factors=1650, regularization=0.5_alpha_10_MAP:0,0482.csv\", index=False)"
   ]
  },
  {
   "cell_type": "code",
   "execution_count": 64,
   "metadata": {},
   "outputs": [
    {
     "data": {
      "text/plain": [
       "0"
      ]
     },
     "execution_count": 64,
     "metadata": {},
     "output_type": "execute_result"
    }
   ],
   "source": [
    "import gc\n",
    "gc.collect()"
   ]
  },
  {
   "cell_type": "markdown",
   "metadata": {},
   "source": [
    "# Back on Mac\n",
    "Since we don't need huge amounts of epochs, we can go back running optuna here. This time I want to try optimizing only alpha and factors"
   ]
  },
  {
   "cell_type": "code",
   "execution_count": 65,
   "metadata": {},
   "outputs": [
    {
     "name": "stderr",
     "output_type": "stream",
     "text": [
      "[I 2024-12-29 21:26:23,780] A new study created in memory with name: IALS\n",
      "/var/folders/50/7hjr20g17_18p725nbt0qqv00000gn/T/ipykernel_81509/1249916818.py:12: FutureWarning: suggest_uniform has been deprecated in v3.0.0. This feature will be removed in v6.0.0. See https://github.com/optuna/optuna/releases/tag/v3.0.0. Use suggest_float instead.\n",
      "  alpha = trial.suggest_uniform(\"alpha\", 0.0, 20.0)  # Refined range for alpha\n",
      "/var/folders/50/7hjr20g17_18p725nbt0qqv00000gn/T/ipykernel_81509/1249916818.py:14: FutureWarning: suggest_uniform has been deprecated in v3.0.0. This feature will be removed in v6.0.0. See https://github.com/optuna/optuna/releases/tag/v3.0.0. Use suggest_float instead.\n",
      "  regularization = trial.suggest_uniform(\"regularization\", 0.1, 0.8)\n"
     ]
    },
    {
     "name": "stdout",
     "output_type": "stream",
     "text": [
      "Current parameters: factors=1610, iterations=10, regularization=0.3106873884636875, alpha=1.2237073580995639\n"
     ]
    },
    {
     "data": {
      "application/vnd.jupyter.widget-view+json": {
       "model_id": "1f1863d5f0ec4a83876572ba3eca475a",
       "version_major": 2,
       "version_minor": 0
      },
      "text/plain": [
       "  0%|          | 0/10 [00:00<?, ?it/s]"
      ]
     },
     "metadata": {},
     "output_type": "display_data"
    },
    {
     "name": "stdout",
     "output_type": "stream",
     "text": [
      "EvaluatorHoldout: Processed 35595 (100.0%) in 32.60 sec. Users per second: 1092\n"
     ]
    },
    {
     "name": "stderr",
     "output_type": "stream",
     "text": [
      "[I 2024-12-29 21:33:57,285] Trial 0 finished with value: 0.0454691837403578 and parameters: {'factors': 1610, 'alpha': 1.2237073580995639, 'regularization': 0.3106873884636875}. Best is trial 0 with value: 0.0454691837403578.\n"
     ]
    },
    {
     "name": "stdout",
     "output_type": "stream",
     "text": [
      "Current parameters: factors=1764, iterations=10, regularization=0.7747662684672514, alpha=8.546742566985625\n"
     ]
    },
    {
     "name": "stderr",
     "output_type": "stream",
     "text": [
      "/var/folders/50/7hjr20g17_18p725nbt0qqv00000gn/T/ipykernel_81509/1249916818.py:12: FutureWarning: suggest_uniform has been deprecated in v3.0.0. This feature will be removed in v6.0.0. See https://github.com/optuna/optuna/releases/tag/v3.0.0. Use suggest_float instead.\n",
      "  alpha = trial.suggest_uniform(\"alpha\", 0.0, 20.0)  # Refined range for alpha\n",
      "/var/folders/50/7hjr20g17_18p725nbt0qqv00000gn/T/ipykernel_81509/1249916818.py:14: FutureWarning: suggest_uniform has been deprecated in v3.0.0. This feature will be removed in v6.0.0. See https://github.com/optuna/optuna/releases/tag/v3.0.0. Use suggest_float instead.\n",
      "  regularization = trial.suggest_uniform(\"regularization\", 0.1, 0.8)\n"
     ]
    },
    {
     "data": {
      "application/vnd.jupyter.widget-view+json": {
       "model_id": "d70561a5674e4e37a8c5ab68ca1ed73d",
       "version_major": 2,
       "version_minor": 0
      },
      "text/plain": [
       "  0%|          | 0/10 [00:00<?, ?it/s]"
      ]
     },
     "metadata": {},
     "output_type": "display_data"
    },
    {
     "name": "stdout",
     "output_type": "stream",
     "text": [
      "EvaluatorHoldout: Processed 35595 (100.0%) in 29.07 sec. Users per second: 1225\n"
     ]
    },
    {
     "name": "stderr",
     "output_type": "stream",
     "text": [
      "[I 2024-12-29 21:41:48,909] Trial 1 finished with value: 0.048537960120132735 and parameters: {'factors': 1764, 'alpha': 8.546742566985625, 'regularization': 0.7747662684672514}. Best is trial 1 with value: 0.048537960120132735.\n"
     ]
    },
    {
     "name": "stdout",
     "output_type": "stream",
     "text": [
      "Current parameters: factors=1913, iterations=10, regularization=0.5911286320878204, alpha=9.500468762323585\n"
     ]
    },
    {
     "name": "stderr",
     "output_type": "stream",
     "text": [
      "/var/folders/50/7hjr20g17_18p725nbt0qqv00000gn/T/ipykernel_81509/1249916818.py:12: FutureWarning: suggest_uniform has been deprecated in v3.0.0. This feature will be removed in v6.0.0. See https://github.com/optuna/optuna/releases/tag/v3.0.0. Use suggest_float instead.\n",
      "  alpha = trial.suggest_uniform(\"alpha\", 0.0, 20.0)  # Refined range for alpha\n",
      "/var/folders/50/7hjr20g17_18p725nbt0qqv00000gn/T/ipykernel_81509/1249916818.py:14: FutureWarning: suggest_uniform has been deprecated in v3.0.0. This feature will be removed in v6.0.0. See https://github.com/optuna/optuna/releases/tag/v3.0.0. Use suggest_float instead.\n",
      "  regularization = trial.suggest_uniform(\"regularization\", 0.1, 0.8)\n"
     ]
    },
    {
     "data": {
      "application/vnd.jupyter.widget-view+json": {
       "model_id": "0d2c1e931c8e416da46e389a4223d08d",
       "version_major": 2,
       "version_minor": 0
      },
      "text/plain": [
       "  0%|          | 0/10 [00:00<?, ?it/s]"
      ]
     },
     "metadata": {},
     "output_type": "display_data"
    },
    {
     "name": "stdout",
     "output_type": "stream",
     "text": [
      "EvaluatorHoldout: Processed 35595 (100.0%) in 30.30 sec. Users per second: 1175\n"
     ]
    },
    {
     "name": "stderr",
     "output_type": "stream",
     "text": [
      "[I 2024-12-29 21:51:04,260] Trial 2 finished with value: 0.04863959625147823 and parameters: {'factors': 1913, 'alpha': 9.500468762323585, 'regularization': 0.5911286320878204}. Best is trial 2 with value: 0.04863959625147823.\n"
     ]
    },
    {
     "name": "stdout",
     "output_type": "stream",
     "text": [
      "Current parameters: factors=1562, iterations=10, regularization=0.6300696714651794, alpha=13.185031561356148\n"
     ]
    },
    {
     "name": "stderr",
     "output_type": "stream",
     "text": [
      "/var/folders/50/7hjr20g17_18p725nbt0qqv00000gn/T/ipykernel_81509/1249916818.py:12: FutureWarning: suggest_uniform has been deprecated in v3.0.0. This feature will be removed in v6.0.0. See https://github.com/optuna/optuna/releases/tag/v3.0.0. Use suggest_float instead.\n",
      "  alpha = trial.suggest_uniform(\"alpha\", 0.0, 20.0)  # Refined range for alpha\n",
      "/var/folders/50/7hjr20g17_18p725nbt0qqv00000gn/T/ipykernel_81509/1249916818.py:14: FutureWarning: suggest_uniform has been deprecated in v3.0.0. This feature will be removed in v6.0.0. See https://github.com/optuna/optuna/releases/tag/v3.0.0. Use suggest_float instead.\n",
      "  regularization = trial.suggest_uniform(\"regularization\", 0.1, 0.8)\n"
     ]
    },
    {
     "data": {
      "application/vnd.jupyter.widget-view+json": {
       "model_id": "d7b213d4dc8043708421ef24bf943558",
       "version_major": 2,
       "version_minor": 0
      },
      "text/plain": [
       "  0%|          | 0/10 [00:00<?, ?it/s]"
      ]
     },
     "metadata": {},
     "output_type": "display_data"
    },
    {
     "name": "stdout",
     "output_type": "stream",
     "text": [
      "EvaluatorHoldout: Processed 35595 (100.0%) in 28.21 sec. Users per second: 1262\n"
     ]
    },
    {
     "name": "stderr",
     "output_type": "stream",
     "text": [
      "[I 2024-12-29 21:58:17,210] Trial 3 finished with value: 0.0477519359103833 and parameters: {'factors': 1562, 'alpha': 13.185031561356148, 'regularization': 0.6300696714651794}. Best is trial 2 with value: 0.04863959625147823.\n"
     ]
    },
    {
     "name": "stdout",
     "output_type": "stream",
     "text": [
      "Current parameters: factors=1767, iterations=10, regularization=0.13833163709024107, alpha=11.79385231317446\n"
     ]
    },
    {
     "name": "stderr",
     "output_type": "stream",
     "text": [
      "/var/folders/50/7hjr20g17_18p725nbt0qqv00000gn/T/ipykernel_81509/1249916818.py:12: FutureWarning: suggest_uniform has been deprecated in v3.0.0. This feature will be removed in v6.0.0. See https://github.com/optuna/optuna/releases/tag/v3.0.0. Use suggest_float instead.\n",
      "  alpha = trial.suggest_uniform(\"alpha\", 0.0, 20.0)  # Refined range for alpha\n",
      "/var/folders/50/7hjr20g17_18p725nbt0qqv00000gn/T/ipykernel_81509/1249916818.py:14: FutureWarning: suggest_uniform has been deprecated in v3.0.0. This feature will be removed in v6.0.0. See https://github.com/optuna/optuna/releases/tag/v3.0.0. Use suggest_float instead.\n",
      "  regularization = trial.suggest_uniform(\"regularization\", 0.1, 0.8)\n"
     ]
    },
    {
     "data": {
      "application/vnd.jupyter.widget-view+json": {
       "model_id": "f2e1a1be91434c2488a68a8fe03e4834",
       "version_major": 2,
       "version_minor": 0
      },
      "text/plain": [
       "  0%|          | 0/10 [00:00<?, ?it/s]"
      ]
     },
     "metadata": {},
     "output_type": "display_data"
    },
    {
     "name": "stdout",
     "output_type": "stream",
     "text": [
      "EvaluatorHoldout: Processed 35595 (100.0%) in 29.86 sec. Users per second: 1192\n"
     ]
    },
    {
     "name": "stderr",
     "output_type": "stream",
     "text": [
      "[I 2024-12-29 22:06:54,419] Trial 4 finished with value: 0.048398844362391294 and parameters: {'factors': 1767, 'alpha': 11.79385231317446, 'regularization': 0.13833163709024107}. Best is trial 2 with value: 0.04863959625147823.\n"
     ]
    },
    {
     "name": "stdout",
     "output_type": "stream",
     "text": [
      "Current parameters: factors=1350, iterations=10, regularization=0.7493113033382544, alpha=5.986112193725315\n"
     ]
    },
    {
     "name": "stderr",
     "output_type": "stream",
     "text": [
      "/var/folders/50/7hjr20g17_18p725nbt0qqv00000gn/T/ipykernel_81509/1249916818.py:12: FutureWarning: suggest_uniform has been deprecated in v3.0.0. This feature will be removed in v6.0.0. See https://github.com/optuna/optuna/releases/tag/v3.0.0. Use suggest_float instead.\n",
      "  alpha = trial.suggest_uniform(\"alpha\", 0.0, 20.0)  # Refined range for alpha\n",
      "/var/folders/50/7hjr20g17_18p725nbt0qqv00000gn/T/ipykernel_81509/1249916818.py:14: FutureWarning: suggest_uniform has been deprecated in v3.0.0. This feature will be removed in v6.0.0. See https://github.com/optuna/optuna/releases/tag/v3.0.0. Use suggest_float instead.\n",
      "  regularization = trial.suggest_uniform(\"regularization\", 0.1, 0.8)\n"
     ]
    },
    {
     "data": {
      "application/vnd.jupyter.widget-view+json": {
       "model_id": "3fabc2c76e4649e487afe3ab2967e595",
       "version_major": 2,
       "version_minor": 0
      },
      "text/plain": [
       "  0%|          | 0/10 [00:00<?, ?it/s]"
      ]
     },
     "metadata": {},
     "output_type": "display_data"
    },
    {
     "name": "stdout",
     "output_type": "stream",
     "text": [
      "EvaluatorHoldout: Processed 35595 (100.0%) in 27.09 sec. Users per second: 1314\n"
     ]
    },
    {
     "name": "stderr",
     "output_type": "stream",
     "text": [
      "[I 2024-12-29 22:13:12,602] Trial 5 finished with value: 0.04747222946864598 and parameters: {'factors': 1350, 'alpha': 5.986112193725315, 'regularization': 0.7493113033382544}. Best is trial 2 with value: 0.04863959625147823.\n"
     ]
    },
    {
     "name": "stdout",
     "output_type": "stream",
     "text": [
      "Current parameters: factors=1497, iterations=10, regularization=0.7151494610200161, alpha=5.077099898457444\n"
     ]
    },
    {
     "name": "stderr",
     "output_type": "stream",
     "text": [
      "/var/folders/50/7hjr20g17_18p725nbt0qqv00000gn/T/ipykernel_81509/1249916818.py:12: FutureWarning: suggest_uniform has been deprecated in v3.0.0. This feature will be removed in v6.0.0. See https://github.com/optuna/optuna/releases/tag/v3.0.0. Use suggest_float instead.\n",
      "  alpha = trial.suggest_uniform(\"alpha\", 0.0, 20.0)  # Refined range for alpha\n",
      "/var/folders/50/7hjr20g17_18p725nbt0qqv00000gn/T/ipykernel_81509/1249916818.py:14: FutureWarning: suggest_uniform has been deprecated in v3.0.0. This feature will be removed in v6.0.0. See https://github.com/optuna/optuna/releases/tag/v3.0.0. Use suggest_float instead.\n",
      "  regularization = trial.suggest_uniform(\"regularization\", 0.1, 0.8)\n"
     ]
    },
    {
     "data": {
      "application/vnd.jupyter.widget-view+json": {
       "model_id": "57001c2606904e1f8c9a100dce83b718",
       "version_major": 2,
       "version_minor": 0
      },
      "text/plain": [
       "  0%|          | 0/10 [00:00<?, ?it/s]"
      ]
     },
     "metadata": {},
     "output_type": "display_data"
    },
    {
     "name": "stdout",
     "output_type": "stream",
     "text": [
      "EvaluatorHoldout: Processed 35595 (100.0%) in 28.05 sec. Users per second: 1269\n"
     ]
    },
    {
     "name": "stderr",
     "output_type": "stream",
     "text": [
      "[I 2024-12-29 22:20:13,490] Trial 6 finished with value: 0.04780480694408054 and parameters: {'factors': 1497, 'alpha': 5.077099898457444, 'regularization': 0.7151494610200161}. Best is trial 2 with value: 0.04863959625147823.\n"
     ]
    },
    {
     "name": "stdout",
     "output_type": "stream",
     "text": [
      "Current parameters: factors=1944, iterations=10, regularization=0.23572225250906254, alpha=0.7037311965670034\n"
     ]
    },
    {
     "name": "stderr",
     "output_type": "stream",
     "text": [
      "/var/folders/50/7hjr20g17_18p725nbt0qqv00000gn/T/ipykernel_81509/1249916818.py:12: FutureWarning: suggest_uniform has been deprecated in v3.0.0. This feature will be removed in v6.0.0. See https://github.com/optuna/optuna/releases/tag/v3.0.0. Use suggest_float instead.\n",
      "  alpha = trial.suggest_uniform(\"alpha\", 0.0, 20.0)  # Refined range for alpha\n",
      "/var/folders/50/7hjr20g17_18p725nbt0qqv00000gn/T/ipykernel_81509/1249916818.py:14: FutureWarning: suggest_uniform has been deprecated in v3.0.0. This feature will be removed in v6.0.0. See https://github.com/optuna/optuna/releases/tag/v3.0.0. Use suggest_float instead.\n",
      "  regularization = trial.suggest_uniform(\"regularization\", 0.1, 0.8)\n"
     ]
    },
    {
     "data": {
      "application/vnd.jupyter.widget-view+json": {
       "model_id": "1fc2cde727eb4fbe95b44b3e905a6658",
       "version_major": 2,
       "version_minor": 0
      },
      "text/plain": [
       "  0%|          | 0/10 [00:00<?, ?it/s]"
      ]
     },
     "metadata": {},
     "output_type": "display_data"
    },
    {
     "name": "stdout",
     "output_type": "stream",
     "text": [
      "EvaluatorHoldout: Processed 35595 (100.0%) in 30.28 sec. Users per second: 1176\n"
     ]
    },
    {
     "name": "stderr",
     "output_type": "stream",
     "text": [
      "[I 2024-12-29 22:29:21,888] Trial 7 finished with value: 0.04474976086796412 and parameters: {'factors': 1944, 'alpha': 0.7037311965670034, 'regularization': 0.23572225250906254}. Best is trial 2 with value: 0.04863959625147823.\n"
     ]
    },
    {
     "name": "stdout",
     "output_type": "stream",
     "text": [
      "Current parameters: factors=1470, iterations=10, regularization=0.530008506211682, alpha=0.22344718103849193\n"
     ]
    },
    {
     "name": "stderr",
     "output_type": "stream",
     "text": [
      "/var/folders/50/7hjr20g17_18p725nbt0qqv00000gn/T/ipykernel_81509/1249916818.py:12: FutureWarning: suggest_uniform has been deprecated in v3.0.0. This feature will be removed in v6.0.0. See https://github.com/optuna/optuna/releases/tag/v3.0.0. Use suggest_float instead.\n",
      "  alpha = trial.suggest_uniform(\"alpha\", 0.0, 20.0)  # Refined range for alpha\n",
      "/var/folders/50/7hjr20g17_18p725nbt0qqv00000gn/T/ipykernel_81509/1249916818.py:14: FutureWarning: suggest_uniform has been deprecated in v3.0.0. This feature will be removed in v6.0.0. See https://github.com/optuna/optuna/releases/tag/v3.0.0. Use suggest_float instead.\n",
      "  regularization = trial.suggest_uniform(\"regularization\", 0.1, 0.8)\n"
     ]
    },
    {
     "data": {
      "application/vnd.jupyter.widget-view+json": {
       "model_id": "bf3c4962bd8544c685958fc40aba9fcc",
       "version_major": 2,
       "version_minor": 0
      },
      "text/plain": [
       "  0%|          | 0/10 [00:00<?, ?it/s]"
      ]
     },
     "metadata": {},
     "output_type": "display_data"
    },
    {
     "name": "stdout",
     "output_type": "stream",
     "text": [
      "EvaluatorHoldout: Processed 35595 (100.0%) in 27.85 sec. Users per second: 1278\n"
     ]
    },
    {
     "name": "stderr",
     "output_type": "stream",
     "text": [
      "[I 2024-12-29 22:36:15,079] Trial 8 finished with value: 0.04102704142948407 and parameters: {'factors': 1470, 'alpha': 0.22344718103849193, 'regularization': 0.530008506211682}. Best is trial 2 with value: 0.04863959625147823.\n"
     ]
    },
    {
     "name": "stdout",
     "output_type": "stream",
     "text": [
      "Current parameters: factors=1731, iterations=10, regularization=0.6168136737837199, alpha=9.538674623887166\n"
     ]
    },
    {
     "name": "stderr",
     "output_type": "stream",
     "text": [
      "/var/folders/50/7hjr20g17_18p725nbt0qqv00000gn/T/ipykernel_81509/1249916818.py:12: FutureWarning: suggest_uniform has been deprecated in v3.0.0. This feature will be removed in v6.0.0. See https://github.com/optuna/optuna/releases/tag/v3.0.0. Use suggest_float instead.\n",
      "  alpha = trial.suggest_uniform(\"alpha\", 0.0, 20.0)  # Refined range for alpha\n",
      "/var/folders/50/7hjr20g17_18p725nbt0qqv00000gn/T/ipykernel_81509/1249916818.py:14: FutureWarning: suggest_uniform has been deprecated in v3.0.0. This feature will be removed in v6.0.0. See https://github.com/optuna/optuna/releases/tag/v3.0.0. Use suggest_float instead.\n",
      "  regularization = trial.suggest_uniform(\"regularization\", 0.1, 0.8)\n"
     ]
    },
    {
     "data": {
      "application/vnd.jupyter.widget-view+json": {
       "model_id": "1d0f0ee24e724710bb9ad679049865e7",
       "version_major": 2,
       "version_minor": 0
      },
      "text/plain": [
       "  0%|          | 0/10 [00:00<?, ?it/s]"
      ]
     },
     "metadata": {},
     "output_type": "display_data"
    },
    {
     "name": "stdout",
     "output_type": "stream",
     "text": [
      "EvaluatorHoldout: Processed 35595 (100.0%) in 28.78 sec. Users per second: 1237\n"
     ]
    },
    {
     "name": "stderr",
     "output_type": "stream",
     "text": [
      "[I 2024-12-29 22:44:26,246] Trial 9 finished with value: 0.048494028945565426 and parameters: {'factors': 1731, 'alpha': 9.538674623887166, 'regularization': 0.6168136737837199}. Best is trial 2 with value: 0.04863959625147823.\n"
     ]
    },
    {
     "name": "stdout",
     "output_type": "stream",
     "text": [
      "Current parameters: factors=1943, iterations=10, regularization=0.44933304547350583, alpha=19.169636470271357\n"
     ]
    },
    {
     "name": "stderr",
     "output_type": "stream",
     "text": [
      "/var/folders/50/7hjr20g17_18p725nbt0qqv00000gn/T/ipykernel_81509/1249916818.py:12: FutureWarning: suggest_uniform has been deprecated in v3.0.0. This feature will be removed in v6.0.0. See https://github.com/optuna/optuna/releases/tag/v3.0.0. Use suggest_float instead.\n",
      "  alpha = trial.suggest_uniform(\"alpha\", 0.0, 20.0)  # Refined range for alpha\n",
      "/var/folders/50/7hjr20g17_18p725nbt0qqv00000gn/T/ipykernel_81509/1249916818.py:14: FutureWarning: suggest_uniform has been deprecated in v3.0.0. This feature will be removed in v6.0.0. See https://github.com/optuna/optuna/releases/tag/v3.0.0. Use suggest_float instead.\n",
      "  regularization = trial.suggest_uniform(\"regularization\", 0.1, 0.8)\n"
     ]
    },
    {
     "data": {
      "application/vnd.jupyter.widget-view+json": {
       "model_id": "c21c697d15f74a9d9a7c692447717a1d",
       "version_major": 2,
       "version_minor": 0
      },
      "text/plain": [
       "  0%|          | 0/10 [00:00<?, ?it/s]"
      ]
     },
     "metadata": {},
     "output_type": "display_data"
    },
    {
     "name": "stdout",
     "output_type": "stream",
     "text": [
      "EvaluatorHoldout: Processed 35595 (100.0%) in 29.78 sec. Users per second: 1195\n"
     ]
    },
    {
     "name": "stderr",
     "output_type": "stream",
     "text": [
      "[I 2024-12-29 22:54:00,295] Trial 10 finished with value: 0.04791671962131148 and parameters: {'factors': 1943, 'alpha': 19.169636470271357, 'regularization': 0.44933304547350583}. Best is trial 2 with value: 0.04863959625147823.\n"
     ]
    },
    {
     "name": "stdout",
     "output_type": "stream",
     "text": [
      "Current parameters: factors=1815, iterations=10, regularization=0.7789920698189541, alpha=8.34925306789765\n"
     ]
    },
    {
     "name": "stderr",
     "output_type": "stream",
     "text": [
      "/var/folders/50/7hjr20g17_18p725nbt0qqv00000gn/T/ipykernel_81509/1249916818.py:12: FutureWarning: suggest_uniform has been deprecated in v3.0.0. This feature will be removed in v6.0.0. See https://github.com/optuna/optuna/releases/tag/v3.0.0. Use suggest_float instead.\n",
      "  alpha = trial.suggest_uniform(\"alpha\", 0.0, 20.0)  # Refined range for alpha\n",
      "/var/folders/50/7hjr20g17_18p725nbt0qqv00000gn/T/ipykernel_81509/1249916818.py:14: FutureWarning: suggest_uniform has been deprecated in v3.0.0. This feature will be removed in v6.0.0. See https://github.com/optuna/optuna/releases/tag/v3.0.0. Use suggest_float instead.\n",
      "  regularization = trial.suggest_uniform(\"regularization\", 0.1, 0.8)\n"
     ]
    },
    {
     "data": {
      "application/vnd.jupyter.widget-view+json": {
       "model_id": "ee6a5a86568d4aeb9c3670eb9b7a0c0b",
       "version_major": 2,
       "version_minor": 0
      },
      "text/plain": [
       "  0%|          | 0/10 [00:00<?, ?it/s]"
      ]
     },
     "metadata": {},
     "output_type": "display_data"
    },
    {
     "name": "stdout",
     "output_type": "stream",
     "text": [
      "EvaluatorHoldout: Processed 35595 (100.0%) in 29.33 sec. Users per second: 1214\n"
     ]
    },
    {
     "name": "stderr",
     "output_type": "stream",
     "text": [
      "[I 2024-12-29 23:02:38,378] Trial 11 finished with value: 0.04849837011172678 and parameters: {'factors': 1815, 'alpha': 8.34925306789765, 'regularization': 0.7789920698189541}. Best is trial 2 with value: 0.04863959625147823.\n"
     ]
    },
    {
     "name": "stdout",
     "output_type": "stream",
     "text": [
      "Current parameters: factors=1859, iterations=10, regularization=0.47699562438760273, alpha=15.360029589011502\n"
     ]
    },
    {
     "name": "stderr",
     "output_type": "stream",
     "text": [
      "/var/folders/50/7hjr20g17_18p725nbt0qqv00000gn/T/ipykernel_81509/1249916818.py:12: FutureWarning: suggest_uniform has been deprecated in v3.0.0. This feature will be removed in v6.0.0. See https://github.com/optuna/optuna/releases/tag/v3.0.0. Use suggest_float instead.\n",
      "  alpha = trial.suggest_uniform(\"alpha\", 0.0, 20.0)  # Refined range for alpha\n",
      "/var/folders/50/7hjr20g17_18p725nbt0qqv00000gn/T/ipykernel_81509/1249916818.py:14: FutureWarning: suggest_uniform has been deprecated in v3.0.0. This feature will be removed in v6.0.0. See https://github.com/optuna/optuna/releases/tag/v3.0.0. Use suggest_float instead.\n",
      "  regularization = trial.suggest_uniform(\"regularization\", 0.1, 0.8)\n"
     ]
    },
    {
     "data": {
      "application/vnd.jupyter.widget-view+json": {
       "model_id": "4010a427d9d44d9591517106d5487d4f",
       "version_major": 2,
       "version_minor": 0
      },
      "text/plain": [
       "  0%|          | 0/10 [00:00<?, ?it/s]"
      ]
     },
     "metadata": {},
     "output_type": "display_data"
    },
    {
     "name": "stdout",
     "output_type": "stream",
     "text": [
      "EvaluatorHoldout: Processed 35595 (100.0%) in 30.20 sec. Users per second: 1178\n"
     ]
    },
    {
     "name": "stderr",
     "output_type": "stream",
     "text": [
      "[I 2024-12-29 23:11:37,530] Trial 12 finished with value: 0.04819039592237911 and parameters: {'factors': 1859, 'alpha': 15.360029589011502, 'regularization': 0.47699562438760273}. Best is trial 2 with value: 0.04863959625147823.\n"
     ]
    },
    {
     "name": "stdout",
     "output_type": "stream",
     "text": [
      "Current parameters: factors=1691, iterations=10, regularization=0.6392624193317522, alpha=5.986561196247102\n"
     ]
    },
    {
     "name": "stderr",
     "output_type": "stream",
     "text": [
      "/var/folders/50/7hjr20g17_18p725nbt0qqv00000gn/T/ipykernel_81509/1249916818.py:12: FutureWarning: suggest_uniform has been deprecated in v3.0.0. This feature will be removed in v6.0.0. See https://github.com/optuna/optuna/releases/tag/v3.0.0. Use suggest_float instead.\n",
      "  alpha = trial.suggest_uniform(\"alpha\", 0.0, 20.0)  # Refined range for alpha\n",
      "/var/folders/50/7hjr20g17_18p725nbt0qqv00000gn/T/ipykernel_81509/1249916818.py:14: FutureWarning: suggest_uniform has been deprecated in v3.0.0. This feature will be removed in v6.0.0. See https://github.com/optuna/optuna/releases/tag/v3.0.0. Use suggest_float instead.\n",
      "  regularization = trial.suggest_uniform(\"regularization\", 0.1, 0.8)\n"
     ]
    },
    {
     "data": {
      "application/vnd.jupyter.widget-view+json": {
       "model_id": "3599ff4cd3fa42bf9d1f0285f14d0ce2",
       "version_major": 2,
       "version_minor": 0
      },
      "text/plain": [
       "  0%|          | 0/10 [00:00<?, ?it/s]"
      ]
     },
     "metadata": {},
     "output_type": "display_data"
    },
    {
     "name": "stdout",
     "output_type": "stream",
     "text": [
      "EvaluatorHoldout: Processed 35595 (100.0%) in 29.02 sec. Users per second: 1226\n"
     ]
    },
    {
     "name": "stderr",
     "output_type": "stream",
     "text": [
      "[I 2024-12-29 23:20:01,095] Trial 13 finished with value: 0.04841987125889204 and parameters: {'factors': 1691, 'alpha': 5.986561196247102, 'regularization': 0.6392624193317522}. Best is trial 2 with value: 0.04863959625147823.\n"
     ]
    },
    {
     "name": "stdout",
     "output_type": "stream",
     "text": [
      "Current parameters: factors=1863, iterations=10, regularization=0.3808563275284292, alpha=15.343380617909268\n"
     ]
    },
    {
     "name": "stderr",
     "output_type": "stream",
     "text": [
      "/var/folders/50/7hjr20g17_18p725nbt0qqv00000gn/T/ipykernel_81509/1249916818.py:12: FutureWarning: suggest_uniform has been deprecated in v3.0.0. This feature will be removed in v6.0.0. See https://github.com/optuna/optuna/releases/tag/v3.0.0. Use suggest_float instead.\n",
      "  alpha = trial.suggest_uniform(\"alpha\", 0.0, 20.0)  # Refined range for alpha\n",
      "/var/folders/50/7hjr20g17_18p725nbt0qqv00000gn/T/ipykernel_81509/1249916818.py:14: FutureWarning: suggest_uniform has been deprecated in v3.0.0. This feature will be removed in v6.0.0. See https://github.com/optuna/optuna/releases/tag/v3.0.0. Use suggest_float instead.\n",
      "  regularization = trial.suggest_uniform(\"regularization\", 0.1, 0.8)\n"
     ]
    },
    {
     "data": {
      "application/vnd.jupyter.widget-view+json": {
       "model_id": "26c2ca44f0f34d1ab9b888ba02e27e38",
       "version_major": 2,
       "version_minor": 0
      },
      "text/plain": [
       "  0%|          | 0/10 [00:00<?, ?it/s]"
      ]
     },
     "metadata": {},
     "output_type": "display_data"
    },
    {
     "name": "stdout",
     "output_type": "stream",
     "text": [
      "EvaluatorHoldout: Processed 35595 (100.0%) in 29.78 sec. Users per second: 1195\n"
     ]
    },
    {
     "name": "stderr",
     "output_type": "stream",
     "text": [
      "[I 2024-12-29 23:29:08,638] Trial 14 finished with value: 0.04814208567727188 and parameters: {'factors': 1863, 'alpha': 15.343380617909268, 'regularization': 0.3808563275284292}. Best is trial 2 with value: 0.04863959625147823.\n"
     ]
    },
    {
     "name": "stdout",
     "output_type": "stream",
     "text": [
      "Current parameters: factors=1802, iterations=10, regularization=0.5478574799212632, alpha=8.48314391919525\n"
     ]
    },
    {
     "name": "stderr",
     "output_type": "stream",
     "text": [
      "/var/folders/50/7hjr20g17_18p725nbt0qqv00000gn/T/ipykernel_81509/1249916818.py:12: FutureWarning: suggest_uniform has been deprecated in v3.0.0. This feature will be removed in v6.0.0. See https://github.com/optuna/optuna/releases/tag/v3.0.0. Use suggest_float instead.\n",
      "  alpha = trial.suggest_uniform(\"alpha\", 0.0, 20.0)  # Refined range for alpha\n",
      "/var/folders/50/7hjr20g17_18p725nbt0qqv00000gn/T/ipykernel_81509/1249916818.py:14: FutureWarning: suggest_uniform has been deprecated in v3.0.0. This feature will be removed in v6.0.0. See https://github.com/optuna/optuna/releases/tag/v3.0.0. Use suggest_float instead.\n",
      "  regularization = trial.suggest_uniform(\"regularization\", 0.1, 0.8)\n"
     ]
    },
    {
     "data": {
      "application/vnd.jupyter.widget-view+json": {
       "model_id": "7798e51499214afebf395318bfeb2cd1",
       "version_major": 2,
       "version_minor": 0
      },
      "text/plain": [
       "  0%|          | 0/10 [00:00<?, ?it/s]"
      ]
     },
     "metadata": {},
     "output_type": "display_data"
    },
    {
     "name": "stdout",
     "output_type": "stream",
     "text": [
      "EvaluatorHoldout: Processed 35595 (100.0%) in 29.62 sec. Users per second: 1202\n"
     ]
    },
    {
     "name": "stderr",
     "output_type": "stream",
     "text": [
      "[I 2024-12-29 23:37:40,302] Trial 15 finished with value: 0.0485042285678594 and parameters: {'factors': 1802, 'alpha': 8.48314391919525, 'regularization': 0.5478574799212632}. Best is trial 2 with value: 0.04863959625147823.\n"
     ]
    },
    {
     "name": "stdout",
     "output_type": "stream",
     "text": [
      "Current parameters: factors=1886, iterations=10, regularization=0.7056368715689026, alpha=3.9232671190197728\n"
     ]
    },
    {
     "name": "stderr",
     "output_type": "stream",
     "text": [
      "/var/folders/50/7hjr20g17_18p725nbt0qqv00000gn/T/ipykernel_81509/1249916818.py:12: FutureWarning: suggest_uniform has been deprecated in v3.0.0. This feature will be removed in v6.0.0. See https://github.com/optuna/optuna/releases/tag/v3.0.0. Use suggest_float instead.\n",
      "  alpha = trial.suggest_uniform(\"alpha\", 0.0, 20.0)  # Refined range for alpha\n",
      "/var/folders/50/7hjr20g17_18p725nbt0qqv00000gn/T/ipykernel_81509/1249916818.py:14: FutureWarning: suggest_uniform has been deprecated in v3.0.0. This feature will be removed in v6.0.0. See https://github.com/optuna/optuna/releases/tag/v3.0.0. Use suggest_float instead.\n",
      "  regularization = trial.suggest_uniform(\"regularization\", 0.1, 0.8)\n"
     ]
    },
    {
     "data": {
      "application/vnd.jupyter.widget-view+json": {
       "model_id": "739d2bd8125e4c3aa32ce5ac7de88101",
       "version_major": 2,
       "version_minor": 0
      },
      "text/plain": [
       "  0%|          | 0/10 [00:00<?, ?it/s]"
      ]
     },
     "metadata": {},
     "output_type": "display_data"
    },
    {
     "name": "stdout",
     "output_type": "stream",
     "text": [
      "EvaluatorHoldout: Processed 35595 (100.0%) in 30.44 sec. Users per second: 1169\n"
     ]
    },
    {
     "name": "stderr",
     "output_type": "stream",
     "text": [
      "[I 2024-12-29 23:46:45,860] Trial 16 finished with value: 0.04825802179278601 and parameters: {'factors': 1886, 'alpha': 3.9232671190197728, 'regularization': 0.7056368715689026}. Best is trial 2 with value: 0.04863959625147823.\n"
     ]
    },
    {
     "name": "stdout",
     "output_type": "stream",
     "text": [
      "Current parameters: factors=1677, iterations=10, regularization=0.7955945430568707, alpha=11.333553485395475\n"
     ]
    },
    {
     "name": "stderr",
     "output_type": "stream",
     "text": [
      "/var/folders/50/7hjr20g17_18p725nbt0qqv00000gn/T/ipykernel_81509/1249916818.py:12: FutureWarning: suggest_uniform has been deprecated in v3.0.0. This feature will be removed in v6.0.0. See https://github.com/optuna/optuna/releases/tag/v3.0.0. Use suggest_float instead.\n",
      "  alpha = trial.suggest_uniform(\"alpha\", 0.0, 20.0)  # Refined range for alpha\n",
      "/var/folders/50/7hjr20g17_18p725nbt0qqv00000gn/T/ipykernel_81509/1249916818.py:14: FutureWarning: suggest_uniform has been deprecated in v3.0.0. This feature will be removed in v6.0.0. See https://github.com/optuna/optuna/releases/tag/v3.0.0. Use suggest_float instead.\n",
      "  regularization = trial.suggest_uniform(\"regularization\", 0.1, 0.8)\n"
     ]
    },
    {
     "data": {
      "application/vnd.jupyter.widget-view+json": {
       "model_id": "319cd7e6ea5049db8d3e051c745dc5f2",
       "version_major": 2,
       "version_minor": 0
      },
      "text/plain": [
       "  0%|          | 0/10 [00:00<?, ?it/s]"
      ]
     },
     "metadata": {},
     "output_type": "display_data"
    },
    {
     "name": "stdout",
     "output_type": "stream",
     "text": [
      "EvaluatorHoldout: Processed 35595 (100.0%) in 29.35 sec. Users per second: 1213\n"
     ]
    },
    {
     "name": "stderr",
     "output_type": "stream",
     "text": [
      "[I 2024-12-29 23:54:46,157] Trial 17 finished with value: 0.04792209312436682 and parameters: {'factors': 1677, 'alpha': 11.333553485395475, 'regularization': 0.7955945430568707}. Best is trial 2 with value: 0.04863959625147823.\n"
     ]
    },
    {
     "name": "stdout",
     "output_type": "stream",
     "text": [
      "Current parameters: factors=1735, iterations=10, regularization=0.673408222644219, alpha=14.665755416066725\n"
     ]
    },
    {
     "name": "stderr",
     "output_type": "stream",
     "text": [
      "/var/folders/50/7hjr20g17_18p725nbt0qqv00000gn/T/ipykernel_81509/1249916818.py:12: FutureWarning: suggest_uniform has been deprecated in v3.0.0. This feature will be removed in v6.0.0. See https://github.com/optuna/optuna/releases/tag/v3.0.0. Use suggest_float instead.\n",
      "  alpha = trial.suggest_uniform(\"alpha\", 0.0, 20.0)  # Refined range for alpha\n",
      "/var/folders/50/7hjr20g17_18p725nbt0qqv00000gn/T/ipykernel_81509/1249916818.py:14: FutureWarning: suggest_uniform has been deprecated in v3.0.0. This feature will be removed in v6.0.0. See https://github.com/optuna/optuna/releases/tag/v3.0.0. Use suggest_float instead.\n",
      "  regularization = trial.suggest_uniform(\"regularization\", 0.1, 0.8)\n"
     ]
    },
    {
     "data": {
      "application/vnd.jupyter.widget-view+json": {
       "model_id": "cdfc5e83b4104c1cbf893993d9eea402",
       "version_major": 2,
       "version_minor": 0
      },
      "text/plain": [
       "  0%|          | 0/10 [00:00<?, ?it/s]"
      ]
     },
     "metadata": {},
     "output_type": "display_data"
    },
    {
     "name": "stdout",
     "output_type": "stream",
     "text": [
      "EvaluatorHoldout: Processed 35595 (100.0%) in 29.27 sec. Users per second: 1216\n"
     ]
    },
    {
     "name": "stderr",
     "output_type": "stream",
     "text": [
      "[I 2024-12-30 00:03:07,479] Trial 18 finished with value: 0.0481063095182338 and parameters: {'factors': 1735, 'alpha': 14.665755416066725, 'regularization': 0.673408222644219}. Best is trial 2 with value: 0.04863959625147823.\n"
     ]
    },
    {
     "name": "stdout",
     "output_type": "stream",
     "text": [
      "Current parameters: factors=1893, iterations=10, regularization=0.5722977711828662, alpha=7.687141908043798\n"
     ]
    },
    {
     "name": "stderr",
     "output_type": "stream",
     "text": [
      "/var/folders/50/7hjr20g17_18p725nbt0qqv00000gn/T/ipykernel_81509/1249916818.py:12: FutureWarning: suggest_uniform has been deprecated in v3.0.0. This feature will be removed in v6.0.0. See https://github.com/optuna/optuna/releases/tag/v3.0.0. Use suggest_float instead.\n",
      "  alpha = trial.suggest_uniform(\"alpha\", 0.0, 20.0)  # Refined range for alpha\n",
      "/var/folders/50/7hjr20g17_18p725nbt0qqv00000gn/T/ipykernel_81509/1249916818.py:14: FutureWarning: suggest_uniform has been deprecated in v3.0.0. This feature will be removed in v6.0.0. See https://github.com/optuna/optuna/releases/tag/v3.0.0. Use suggest_float instead.\n",
      "  regularization = trial.suggest_uniform(\"regularization\", 0.1, 0.8)\n"
     ]
    },
    {
     "data": {
      "application/vnd.jupyter.widget-view+json": {
       "model_id": "753c5d62f018437f9cecbfdf6252660b",
       "version_major": 2,
       "version_minor": 0
      },
      "text/plain": [
       "  0%|          | 0/10 [00:00<?, ?it/s]"
      ]
     },
     "metadata": {},
     "output_type": "display_data"
    },
    {
     "name": "stdout",
     "output_type": "stream",
     "text": [
      "EvaluatorHoldout: Processed 35595 (100.0%) in 30.28 sec. Users per second: 1176\n"
     ]
    },
    {
     "name": "stderr",
     "output_type": "stream",
     "text": [
      "[I 2024-12-30 00:12:34,645] Trial 19 finished with value: 0.04860843662276257 and parameters: {'factors': 1893, 'alpha': 7.687141908043798, 'regularization': 0.5722977711828662}. Best is trial 2 with value: 0.04863959625147823.\n"
     ]
    },
    {
     "name": "stdout",
     "output_type": "stream",
     "text": [
      "Current parameters: factors=1901, iterations=10, regularization=0.5454654705615117, alpha=3.500517119679891\n"
     ]
    },
    {
     "name": "stderr",
     "output_type": "stream",
     "text": [
      "/var/folders/50/7hjr20g17_18p725nbt0qqv00000gn/T/ipykernel_81509/1249916818.py:12: FutureWarning: suggest_uniform has been deprecated in v3.0.0. This feature will be removed in v6.0.0. See https://github.com/optuna/optuna/releases/tag/v3.0.0. Use suggest_float instead.\n",
      "  alpha = trial.suggest_uniform(\"alpha\", 0.0, 20.0)  # Refined range for alpha\n",
      "/var/folders/50/7hjr20g17_18p725nbt0qqv00000gn/T/ipykernel_81509/1249916818.py:14: FutureWarning: suggest_uniform has been deprecated in v3.0.0. This feature will be removed in v6.0.0. See https://github.com/optuna/optuna/releases/tag/v3.0.0. Use suggest_float instead.\n",
      "  regularization = trial.suggest_uniform(\"regularization\", 0.1, 0.8)\n"
     ]
    },
    {
     "data": {
      "application/vnd.jupyter.widget-view+json": {
       "model_id": "616f22a5f1544d098f57675e7ae8063b",
       "version_major": 2,
       "version_minor": 0
      },
      "text/plain": [
       "  0%|          | 0/10 [00:00<?, ?it/s]"
      ]
     },
     "metadata": {},
     "output_type": "display_data"
    },
    {
     "name": "stdout",
     "output_type": "stream",
     "text": [
      "EvaluatorHoldout: Processed 35595 (100.0%) in 30.48 sec. Users per second: 1168\n"
     ]
    },
    {
     "name": "stderr",
     "output_type": "stream",
     "text": [
      "[I 2024-12-30 00:22:04,884] Trial 20 finished with value: 0.04821121434479896 and parameters: {'factors': 1901, 'alpha': 3.500517119679891, 'regularization': 0.5454654705615117}. Best is trial 2 with value: 0.04863959625147823.\n"
     ]
    },
    {
     "name": "stdout",
     "output_type": "stream",
     "text": [
      "Current parameters: factors=1817, iterations=10, regularization=0.590592920554355, alpha=7.576205907877315\n"
     ]
    },
    {
     "name": "stderr",
     "output_type": "stream",
     "text": [
      "/var/folders/50/7hjr20g17_18p725nbt0qqv00000gn/T/ipykernel_81509/1249916818.py:12: FutureWarning: suggest_uniform has been deprecated in v3.0.0. This feature will be removed in v6.0.0. See https://github.com/optuna/optuna/releases/tag/v3.0.0. Use suggest_float instead.\n",
      "  alpha = trial.suggest_uniform(\"alpha\", 0.0, 20.0)  # Refined range for alpha\n",
      "/var/folders/50/7hjr20g17_18p725nbt0qqv00000gn/T/ipykernel_81509/1249916818.py:14: FutureWarning: suggest_uniform has been deprecated in v3.0.0. This feature will be removed in v6.0.0. See https://github.com/optuna/optuna/releases/tag/v3.0.0. Use suggest_float instead.\n",
      "  regularization = trial.suggest_uniform(\"regularization\", 0.1, 0.8)\n"
     ]
    },
    {
     "data": {
      "application/vnd.jupyter.widget-view+json": {
       "model_id": "16f12e3b50fc46eb9a467e46f931e51a",
       "version_major": 2,
       "version_minor": 0
      },
      "text/plain": [
       "  0%|          | 0/10 [00:00<?, ?it/s]"
      ]
     },
     "metadata": {},
     "output_type": "display_data"
    },
    {
     "name": "stdout",
     "output_type": "stream",
     "text": [
      "EvaluatorHoldout: Processed 35595 (100.0%) in 29.34 sec. Users per second: 1213\n"
     ]
    },
    {
     "name": "stderr",
     "output_type": "stream",
     "text": [
      "[I 2024-12-30 00:31:03,200] Trial 21 finished with value: 0.04852401688305464 and parameters: {'factors': 1817, 'alpha': 7.576205907877315, 'regularization': 0.590592920554355}. Best is trial 2 with value: 0.04863959625147823.\n"
     ]
    },
    {
     "name": "stdout",
     "output_type": "stream",
     "text": [
      "Current parameters: factors=1903, iterations=10, regularization=0.43781149051372426, alpha=10.365656056877015\n"
     ]
    },
    {
     "name": "stderr",
     "output_type": "stream",
     "text": [
      "/var/folders/50/7hjr20g17_18p725nbt0qqv00000gn/T/ipykernel_81509/1249916818.py:12: FutureWarning: suggest_uniform has been deprecated in v3.0.0. This feature will be removed in v6.0.0. See https://github.com/optuna/optuna/releases/tag/v3.0.0. Use suggest_float instead.\n",
      "  alpha = trial.suggest_uniform(\"alpha\", 0.0, 20.0)  # Refined range for alpha\n",
      "/var/folders/50/7hjr20g17_18p725nbt0qqv00000gn/T/ipykernel_81509/1249916818.py:14: FutureWarning: suggest_uniform has been deprecated in v3.0.0. This feature will be removed in v6.0.0. See https://github.com/optuna/optuna/releases/tag/v3.0.0. Use suggest_float instead.\n",
      "  regularization = trial.suggest_uniform(\"regularization\", 0.1, 0.8)\n"
     ]
    },
    {
     "data": {
      "application/vnd.jupyter.widget-view+json": {
       "model_id": "4c19f140fccb434f8529e5868a22797b",
       "version_major": 2,
       "version_minor": 0
      },
      "text/plain": [
       "  0%|          | 0/10 [00:00<?, ?it/s]"
      ]
     },
     "metadata": {},
     "output_type": "display_data"
    },
    {
     "name": "stdout",
     "output_type": "stream",
     "text": [
      "EvaluatorHoldout: Processed 35595 (100.0%) in 30.18 sec. Users per second: 1180\n"
     ]
    },
    {
     "name": "stderr",
     "output_type": "stream",
     "text": [
      "[I 2024-12-30 00:40:34,970] Trial 22 finished with value: 0.04866350388073791 and parameters: {'factors': 1903, 'alpha': 10.365656056877015, 'regularization': 0.43781149051372426}. Best is trial 22 with value: 0.04866350388073791.\n"
     ]
    },
    {
     "name": "stdout",
     "output_type": "stream",
     "text": [
      "Current parameters: factors=1950, iterations=10, regularization=0.4117731883893314, alpha=10.756737135383688\n"
     ]
    },
    {
     "name": "stderr",
     "output_type": "stream",
     "text": [
      "/var/folders/50/7hjr20g17_18p725nbt0qqv00000gn/T/ipykernel_81509/1249916818.py:12: FutureWarning: suggest_uniform has been deprecated in v3.0.0. This feature will be removed in v6.0.0. See https://github.com/optuna/optuna/releases/tag/v3.0.0. Use suggest_float instead.\n",
      "  alpha = trial.suggest_uniform(\"alpha\", 0.0, 20.0)  # Refined range for alpha\n",
      "/var/folders/50/7hjr20g17_18p725nbt0qqv00000gn/T/ipykernel_81509/1249916818.py:14: FutureWarning: suggest_uniform has been deprecated in v3.0.0. This feature will be removed in v6.0.0. See https://github.com/optuna/optuna/releases/tag/v3.0.0. Use suggest_float instead.\n",
      "  regularization = trial.suggest_uniform(\"regularization\", 0.1, 0.8)\n"
     ]
    },
    {
     "data": {
      "application/vnd.jupyter.widget-view+json": {
       "model_id": "901d5319364745258c39b5a4666b401c",
       "version_major": 2,
       "version_minor": 0
      },
      "text/plain": [
       "  0%|          | 0/10 [00:00<?, ?it/s]"
      ]
     },
     "metadata": {},
     "output_type": "display_data"
    },
    {
     "name": "stdout",
     "output_type": "stream",
     "text": [
      "EvaluatorHoldout: Processed 35595 (100.0%) in 29.19 sec. Users per second: 1219\n"
     ]
    },
    {
     "name": "stderr",
     "output_type": "stream",
     "text": [
      "[I 2024-12-30 00:50:02,002] Trial 23 finished with value: 0.048488491561814916 and parameters: {'factors': 1950, 'alpha': 10.756737135383688, 'regularization': 0.4117731883893314}. Best is trial 22 with value: 0.04866350388073791.\n"
     ]
    },
    {
     "name": "stdout",
     "output_type": "stream",
     "text": [
      "Current parameters: factors=1854, iterations=10, regularization=0.35705527240267715, alpha=12.784070584192303\n"
     ]
    },
    {
     "name": "stderr",
     "output_type": "stream",
     "text": [
      "/var/folders/50/7hjr20g17_18p725nbt0qqv00000gn/T/ipykernel_81509/1249916818.py:12: FutureWarning: suggest_uniform has been deprecated in v3.0.0. This feature will be removed in v6.0.0. See https://github.com/optuna/optuna/releases/tag/v3.0.0. Use suggest_float instead.\n",
      "  alpha = trial.suggest_uniform(\"alpha\", 0.0, 20.0)  # Refined range for alpha\n",
      "/var/folders/50/7hjr20g17_18p725nbt0qqv00000gn/T/ipykernel_81509/1249916818.py:14: FutureWarning: suggest_uniform has been deprecated in v3.0.0. This feature will be removed in v6.0.0. See https://github.com/optuna/optuna/releases/tag/v3.0.0. Use suggest_float instead.\n",
      "  regularization = trial.suggest_uniform(\"regularization\", 0.1, 0.8)\n"
     ]
    },
    {
     "data": {
      "application/vnd.jupyter.widget-view+json": {
       "model_id": "44af4a2ce1e74cc89b60092ac97612bd",
       "version_major": 2,
       "version_minor": 0
      },
      "text/plain": [
       "  0%|          | 0/10 [00:00<?, ?it/s]"
      ]
     },
     "metadata": {},
     "output_type": "display_data"
    },
    {
     "name": "stdout",
     "output_type": "stream",
     "text": [
      "EvaluatorHoldout: Processed 35595 (100.0%) in 33.38 sec. Users per second: 1066\n"
     ]
    },
    {
     "name": "stderr",
     "output_type": "stream",
     "text": [
      "[I 2024-12-30 01:01:56,851] Trial 24 finished with value: 0.04833016051389237 and parameters: {'factors': 1854, 'alpha': 12.784070584192303, 'regularization': 0.35705527240267715}. Best is trial 22 with value: 0.04866350388073791.\n"
     ]
    },
    {
     "name": "stdout",
     "output_type": "stream",
     "text": [
      "Current parameters: factors=1912, iterations=10, regularization=0.4789464099283705, alpha=6.884635910690805\n"
     ]
    },
    {
     "name": "stderr",
     "output_type": "stream",
     "text": [
      "/var/folders/50/7hjr20g17_18p725nbt0qqv00000gn/T/ipykernel_81509/1249916818.py:12: FutureWarning: suggest_uniform has been deprecated in v3.0.0. This feature will be removed in v6.0.0. See https://github.com/optuna/optuna/releases/tag/v3.0.0. Use suggest_float instead.\n",
      "  alpha = trial.suggest_uniform(\"alpha\", 0.0, 20.0)  # Refined range for alpha\n",
      "/var/folders/50/7hjr20g17_18p725nbt0qqv00000gn/T/ipykernel_81509/1249916818.py:14: FutureWarning: suggest_uniform has been deprecated in v3.0.0. This feature will be removed in v6.0.0. See https://github.com/optuna/optuna/releases/tag/v3.0.0. Use suggest_float instead.\n",
      "  regularization = trial.suggest_uniform(\"regularization\", 0.1, 0.8)\n"
     ]
    },
    {
     "data": {
      "application/vnd.jupyter.widget-view+json": {
       "model_id": "e9f3a37918db4b1194564345a4acdf5c",
       "version_major": 2,
       "version_minor": 0
      },
      "text/plain": [
       "  0%|          | 0/10 [00:00<?, ?it/s]"
      ]
     },
     "metadata": {},
     "output_type": "display_data"
    },
    {
     "name": "stderr",
     "output_type": "stream",
     "text": [
      "[W 2024-12-30 01:03:29,308] Trial 25 failed with parameters: {'factors': 1912, 'alpha': 6.884635910690805, 'regularization': 0.4789464099283705} because of the following error: KeyboardInterrupt().\n",
      "Traceback (most recent call last):\n",
      "  File \"/Users/lucapagano/miniconda3/envs/RecSysPD/lib/python3.8/site-packages/optuna/study/_optimize.py\", line 197, in _run_trial\n",
      "    value_or_values = func(trial)\n",
      "  File \"/var/folders/50/7hjr20g17_18p725nbt0qqv00000gn/T/ipykernel_81509/1249916818.py\", line 19, in objective_function\n",
      "    recommender.fit(iterations=iterations, factors=factors, regularization=regularization, use_gpu=False, num_threads=0, confidence_scaling=\"linear\", **{\"alpha\":alpha})\n",
      "  File \"/Users/lucapagano/Developer/RecSys/Competizione/Recommenders/MatrixFactorization/ImplicitALSRecommender.py\", line 76, in fit\n",
      "    use_native=use_native, use_cg=use_cg, use_gpu=use_gpu,\n",
      "  File \"/Users/lucapagano/miniconda3/envs/RecSysPD/lib/python3.8/site-packages/implicit/cpu/als.py\", line 170, in fit\n",
      "    solver(\n",
      "KeyboardInterrupt\n",
      "[W 2024-12-30 01:03:29,310] Trial 25 failed with value None.\n"
     ]
    },
    {
     "ename": "KeyboardInterrupt",
     "evalue": "",
     "output_type": "error",
     "traceback": [
      "\u001b[0;31m---------------------------------------------------------------------------\u001b[0m",
      "\u001b[0;31mKeyboardInterrupt\u001b[0m                         Traceback (most recent call last)",
      "Cell \u001b[0;32mIn[65], line 44\u001b[0m\n\u001b[1;32m     40\u001b[0m optuna_study \u001b[38;5;241m=\u001b[39m optuna\u001b[38;5;241m.\u001b[39mcreate_study(study_name\u001b[38;5;241m=\u001b[39m\u001b[38;5;124m\"\u001b[39m\u001b[38;5;124mIALS\u001b[39m\u001b[38;5;124m\"\u001b[39m, direction\u001b[38;5;241m=\u001b[39m\u001b[38;5;124m\"\u001b[39m\u001b[38;5;124mmaximize\u001b[39m\u001b[38;5;124m\"\u001b[39m)\n\u001b[1;32m     42\u001b[0m save_results \u001b[38;5;241m=\u001b[39m SaveResults()\n\u001b[0;32m---> 44\u001b[0m \u001b[43moptuna_study\u001b[49m\u001b[38;5;241;43m.\u001b[39;49m\u001b[43moptimize\u001b[49m\u001b[43m(\u001b[49m\u001b[43mobjective_function\u001b[49m\u001b[43m,\u001b[49m\n\u001b[1;32m     45\u001b[0m \u001b[43m                      \u001b[49m\u001b[43mcallbacks\u001b[49m\u001b[38;5;241;43m=\u001b[39;49m\u001b[43m[\u001b[49m\u001b[43msave_results\u001b[49m\u001b[43m]\u001b[49m\u001b[43m,\u001b[49m\n\u001b[1;32m     46\u001b[0m \u001b[43m                      \u001b[49m\u001b[43mn_trials\u001b[49m\u001b[43m \u001b[49m\u001b[38;5;241;43m=\u001b[39;49m\u001b[43m \u001b[49m\u001b[38;5;241;43m100\u001b[39;49m\u001b[43m,\u001b[49m\n\u001b[1;32m     47\u001b[0m \u001b[43m                      \u001b[49m\u001b[43m)\u001b[49m\n",
      "File \u001b[0;32m~/miniconda3/envs/RecSysPD/lib/python3.8/site-packages/optuna/study/study.py:475\u001b[0m, in \u001b[0;36mStudy.optimize\u001b[0;34m(self, func, n_trials, timeout, n_jobs, catch, callbacks, gc_after_trial, show_progress_bar)\u001b[0m\n\u001b[1;32m    373\u001b[0m \u001b[38;5;28;01mdef\u001b[39;00m \u001b[38;5;21moptimize\u001b[39m(\n\u001b[1;32m    374\u001b[0m     \u001b[38;5;28mself\u001b[39m,\n\u001b[1;32m    375\u001b[0m     func: ObjectiveFuncType,\n\u001b[0;32m   (...)\u001b[0m\n\u001b[1;32m    382\u001b[0m     show_progress_bar: \u001b[38;5;28mbool\u001b[39m \u001b[38;5;241m=\u001b[39m \u001b[38;5;28;01mFalse\u001b[39;00m,\n\u001b[1;32m    383\u001b[0m ) \u001b[38;5;241m-\u001b[39m\u001b[38;5;241m>\u001b[39m \u001b[38;5;28;01mNone\u001b[39;00m:\n\u001b[1;32m    384\u001b[0m \u001b[38;5;250m    \u001b[39m\u001b[38;5;124;03m\"\"\"Optimize an objective function.\u001b[39;00m\n\u001b[1;32m    385\u001b[0m \n\u001b[1;32m    386\u001b[0m \u001b[38;5;124;03m    Optimization is done by choosing a suitable set of hyperparameter values from a given\u001b[39;00m\n\u001b[0;32m   (...)\u001b[0m\n\u001b[1;32m    473\u001b[0m \u001b[38;5;124;03m            If nested invocation of this method occurs.\u001b[39;00m\n\u001b[1;32m    474\u001b[0m \u001b[38;5;124;03m    \"\"\"\u001b[39;00m\n\u001b[0;32m--> 475\u001b[0m     \u001b[43m_optimize\u001b[49m\u001b[43m(\u001b[49m\n\u001b[1;32m    476\u001b[0m \u001b[43m        \u001b[49m\u001b[43mstudy\u001b[49m\u001b[38;5;241;43m=\u001b[39;49m\u001b[38;5;28;43mself\u001b[39;49m\u001b[43m,\u001b[49m\n\u001b[1;32m    477\u001b[0m \u001b[43m        \u001b[49m\u001b[43mfunc\u001b[49m\u001b[38;5;241;43m=\u001b[39;49m\u001b[43mfunc\u001b[49m\u001b[43m,\u001b[49m\n\u001b[1;32m    478\u001b[0m \u001b[43m        \u001b[49m\u001b[43mn_trials\u001b[49m\u001b[38;5;241;43m=\u001b[39;49m\u001b[43mn_trials\u001b[49m\u001b[43m,\u001b[49m\n\u001b[1;32m    479\u001b[0m \u001b[43m        \u001b[49m\u001b[43mtimeout\u001b[49m\u001b[38;5;241;43m=\u001b[39;49m\u001b[43mtimeout\u001b[49m\u001b[43m,\u001b[49m\n\u001b[1;32m    480\u001b[0m \u001b[43m        \u001b[49m\u001b[43mn_jobs\u001b[49m\u001b[38;5;241;43m=\u001b[39;49m\u001b[43mn_jobs\u001b[49m\u001b[43m,\u001b[49m\n\u001b[1;32m    481\u001b[0m \u001b[43m        \u001b[49m\u001b[43mcatch\u001b[49m\u001b[38;5;241;43m=\u001b[39;49m\u001b[38;5;28;43mtuple\u001b[39;49m\u001b[43m(\u001b[49m\u001b[43mcatch\u001b[49m\u001b[43m)\u001b[49m\u001b[43m \u001b[49m\u001b[38;5;28;43;01mif\u001b[39;49;00m\u001b[43m \u001b[49m\u001b[38;5;28;43misinstance\u001b[39;49m\u001b[43m(\u001b[49m\u001b[43mcatch\u001b[49m\u001b[43m,\u001b[49m\u001b[43m \u001b[49m\u001b[43mIterable\u001b[49m\u001b[43m)\u001b[49m\u001b[43m \u001b[49m\u001b[38;5;28;43;01melse\u001b[39;49;00m\u001b[43m \u001b[49m\u001b[43m(\u001b[49m\u001b[43mcatch\u001b[49m\u001b[43m,\u001b[49m\u001b[43m)\u001b[49m\u001b[43m,\u001b[49m\n\u001b[1;32m    482\u001b[0m \u001b[43m        \u001b[49m\u001b[43mcallbacks\u001b[49m\u001b[38;5;241;43m=\u001b[39;49m\u001b[43mcallbacks\u001b[49m\u001b[43m,\u001b[49m\n\u001b[1;32m    483\u001b[0m \u001b[43m        \u001b[49m\u001b[43mgc_after_trial\u001b[49m\u001b[38;5;241;43m=\u001b[39;49m\u001b[43mgc_after_trial\u001b[49m\u001b[43m,\u001b[49m\n\u001b[1;32m    484\u001b[0m \u001b[43m        \u001b[49m\u001b[43mshow_progress_bar\u001b[49m\u001b[38;5;241;43m=\u001b[39;49m\u001b[43mshow_progress_bar\u001b[49m\u001b[43m,\u001b[49m\n\u001b[1;32m    485\u001b[0m \u001b[43m    \u001b[49m\u001b[43m)\u001b[49m\n",
      "File \u001b[0;32m~/miniconda3/envs/RecSysPD/lib/python3.8/site-packages/optuna/study/_optimize.py:63\u001b[0m, in \u001b[0;36m_optimize\u001b[0;34m(study, func, n_trials, timeout, n_jobs, catch, callbacks, gc_after_trial, show_progress_bar)\u001b[0m\n\u001b[1;32m     61\u001b[0m \u001b[38;5;28;01mtry\u001b[39;00m:\n\u001b[1;32m     62\u001b[0m     \u001b[38;5;28;01mif\u001b[39;00m n_jobs \u001b[38;5;241m==\u001b[39m \u001b[38;5;241m1\u001b[39m:\n\u001b[0;32m---> 63\u001b[0m         \u001b[43m_optimize_sequential\u001b[49m\u001b[43m(\u001b[49m\n\u001b[1;32m     64\u001b[0m \u001b[43m            \u001b[49m\u001b[43mstudy\u001b[49m\u001b[43m,\u001b[49m\n\u001b[1;32m     65\u001b[0m \u001b[43m            \u001b[49m\u001b[43mfunc\u001b[49m\u001b[43m,\u001b[49m\n\u001b[1;32m     66\u001b[0m \u001b[43m            \u001b[49m\u001b[43mn_trials\u001b[49m\u001b[43m,\u001b[49m\n\u001b[1;32m     67\u001b[0m \u001b[43m            \u001b[49m\u001b[43mtimeout\u001b[49m\u001b[43m,\u001b[49m\n\u001b[1;32m     68\u001b[0m \u001b[43m            \u001b[49m\u001b[43mcatch\u001b[49m\u001b[43m,\u001b[49m\n\u001b[1;32m     69\u001b[0m \u001b[43m            \u001b[49m\u001b[43mcallbacks\u001b[49m\u001b[43m,\u001b[49m\n\u001b[1;32m     70\u001b[0m \u001b[43m            \u001b[49m\u001b[43mgc_after_trial\u001b[49m\u001b[43m,\u001b[49m\n\u001b[1;32m     71\u001b[0m \u001b[43m            \u001b[49m\u001b[43mreseed_sampler_rng\u001b[49m\u001b[38;5;241;43m=\u001b[39;49m\u001b[38;5;28;43;01mFalse\u001b[39;49;00m\u001b[43m,\u001b[49m\n\u001b[1;32m     72\u001b[0m \u001b[43m            \u001b[49m\u001b[43mtime_start\u001b[49m\u001b[38;5;241;43m=\u001b[39;49m\u001b[38;5;28;43;01mNone\u001b[39;49;00m\u001b[43m,\u001b[49m\n\u001b[1;32m     73\u001b[0m \u001b[43m            \u001b[49m\u001b[43mprogress_bar\u001b[49m\u001b[38;5;241;43m=\u001b[39;49m\u001b[43mprogress_bar\u001b[49m\u001b[43m,\u001b[49m\n\u001b[1;32m     74\u001b[0m \u001b[43m        \u001b[49m\u001b[43m)\u001b[49m\n\u001b[1;32m     75\u001b[0m     \u001b[38;5;28;01melse\u001b[39;00m:\n\u001b[1;32m     76\u001b[0m         \u001b[38;5;28;01mif\u001b[39;00m n_jobs \u001b[38;5;241m==\u001b[39m \u001b[38;5;241m-\u001b[39m\u001b[38;5;241m1\u001b[39m:\n",
      "File \u001b[0;32m~/miniconda3/envs/RecSysPD/lib/python3.8/site-packages/optuna/study/_optimize.py:160\u001b[0m, in \u001b[0;36m_optimize_sequential\u001b[0;34m(study, func, n_trials, timeout, catch, callbacks, gc_after_trial, reseed_sampler_rng, time_start, progress_bar)\u001b[0m\n\u001b[1;32m    157\u001b[0m         \u001b[38;5;28;01mbreak\u001b[39;00m\n\u001b[1;32m    159\u001b[0m \u001b[38;5;28;01mtry\u001b[39;00m:\n\u001b[0;32m--> 160\u001b[0m     frozen_trial \u001b[38;5;241m=\u001b[39m \u001b[43m_run_trial\u001b[49m\u001b[43m(\u001b[49m\u001b[43mstudy\u001b[49m\u001b[43m,\u001b[49m\u001b[43m \u001b[49m\u001b[43mfunc\u001b[49m\u001b[43m,\u001b[49m\u001b[43m \u001b[49m\u001b[43mcatch\u001b[49m\u001b[43m)\u001b[49m\n\u001b[1;32m    161\u001b[0m \u001b[38;5;28;01mfinally\u001b[39;00m:\n\u001b[1;32m    162\u001b[0m     \u001b[38;5;66;03m# The following line mitigates memory problems that can be occurred in some\u001b[39;00m\n\u001b[1;32m    163\u001b[0m     \u001b[38;5;66;03m# environments (e.g., services that use computing containers such as GitHub Actions).\u001b[39;00m\n\u001b[1;32m    164\u001b[0m     \u001b[38;5;66;03m# Please refer to the following PR for further details:\u001b[39;00m\n\u001b[1;32m    165\u001b[0m     \u001b[38;5;66;03m# https://github.com/optuna/optuna/pull/325.\u001b[39;00m\n\u001b[1;32m    166\u001b[0m     \u001b[38;5;28;01mif\u001b[39;00m gc_after_trial:\n",
      "File \u001b[0;32m~/miniconda3/envs/RecSysPD/lib/python3.8/site-packages/optuna/study/_optimize.py:248\u001b[0m, in \u001b[0;36m_run_trial\u001b[0;34m(study, func, catch)\u001b[0m\n\u001b[1;32m    241\u001b[0m         \u001b[38;5;28;01massert\u001b[39;00m \u001b[38;5;28;01mFalse\u001b[39;00m, \u001b[38;5;124m\"\u001b[39m\u001b[38;5;124mShould not reach.\u001b[39m\u001b[38;5;124m\"\u001b[39m\n\u001b[1;32m    243\u001b[0m \u001b[38;5;28;01mif\u001b[39;00m (\n\u001b[1;32m    244\u001b[0m     frozen_trial\u001b[38;5;241m.\u001b[39mstate \u001b[38;5;241m==\u001b[39m TrialState\u001b[38;5;241m.\u001b[39mFAIL\n\u001b[1;32m    245\u001b[0m     \u001b[38;5;129;01mand\u001b[39;00m func_err \u001b[38;5;129;01mis\u001b[39;00m \u001b[38;5;129;01mnot\u001b[39;00m \u001b[38;5;28;01mNone\u001b[39;00m\n\u001b[1;32m    246\u001b[0m     \u001b[38;5;129;01mand\u001b[39;00m \u001b[38;5;129;01mnot\u001b[39;00m \u001b[38;5;28misinstance\u001b[39m(func_err, catch)\n\u001b[1;32m    247\u001b[0m ):\n\u001b[0;32m--> 248\u001b[0m     \u001b[38;5;28;01mraise\u001b[39;00m func_err\n\u001b[1;32m    249\u001b[0m \u001b[38;5;28;01mreturn\u001b[39;00m frozen_trial\n",
      "File \u001b[0;32m~/miniconda3/envs/RecSysPD/lib/python3.8/site-packages/optuna/study/_optimize.py:197\u001b[0m, in \u001b[0;36m_run_trial\u001b[0;34m(study, func, catch)\u001b[0m\n\u001b[1;32m    195\u001b[0m \u001b[38;5;28;01mwith\u001b[39;00m get_heartbeat_thread(trial\u001b[38;5;241m.\u001b[39m_trial_id, study\u001b[38;5;241m.\u001b[39m_storage):\n\u001b[1;32m    196\u001b[0m     \u001b[38;5;28;01mtry\u001b[39;00m:\n\u001b[0;32m--> 197\u001b[0m         value_or_values \u001b[38;5;241m=\u001b[39m \u001b[43mfunc\u001b[49m\u001b[43m(\u001b[49m\u001b[43mtrial\u001b[49m\u001b[43m)\u001b[49m\n\u001b[1;32m    198\u001b[0m     \u001b[38;5;28;01mexcept\u001b[39;00m exceptions\u001b[38;5;241m.\u001b[39mTrialPruned \u001b[38;5;28;01mas\u001b[39;00m e:\n\u001b[1;32m    199\u001b[0m         \u001b[38;5;66;03m# TODO(mamu): Handle multi-objective cases.\u001b[39;00m\n\u001b[1;32m    200\u001b[0m         state \u001b[38;5;241m=\u001b[39m TrialState\u001b[38;5;241m.\u001b[39mPRUNED\n",
      "Cell \u001b[0;32mIn[65], line 19\u001b[0m, in \u001b[0;36mobjective_function\u001b[0;34m(trial)\u001b[0m\n\u001b[1;32m     17\u001b[0m \u001b[38;5;28mprint\u001b[39m(\u001b[38;5;124mf\u001b[39m\u001b[38;5;124m\"\u001b[39m\u001b[38;5;124mCurrent parameters: factors=\u001b[39m\u001b[38;5;132;01m{\u001b[39;00mfactors\u001b[38;5;132;01m}\u001b[39;00m\u001b[38;5;124m, iterations=\u001b[39m\u001b[38;5;132;01m{\u001b[39;00miterations\u001b[38;5;132;01m}\u001b[39;00m\u001b[38;5;124m, regularization=\u001b[39m\u001b[38;5;132;01m{\u001b[39;00mregularization\u001b[38;5;132;01m}\u001b[39;00m\u001b[38;5;124m, alpha=\u001b[39m\u001b[38;5;132;01m{\u001b[39;00malpha\u001b[38;5;132;01m}\u001b[39;00m\u001b[38;5;124m\"\u001b[39m)\n\u001b[1;32m     18\u001b[0m recommender \u001b[38;5;241m=\u001b[39m ImplicitALSRecommender(URM_train_validation)\n\u001b[0;32m---> 19\u001b[0m \u001b[43mrecommender\u001b[49m\u001b[38;5;241;43m.\u001b[39;49m\u001b[43mfit\u001b[49m\u001b[43m(\u001b[49m\u001b[43miterations\u001b[49m\u001b[38;5;241;43m=\u001b[39;49m\u001b[43miterations\u001b[49m\u001b[43m,\u001b[49m\u001b[43m \u001b[49m\u001b[43mfactors\u001b[49m\u001b[38;5;241;43m=\u001b[39;49m\u001b[43mfactors\u001b[49m\u001b[43m,\u001b[49m\u001b[43m \u001b[49m\u001b[43mregularization\u001b[49m\u001b[38;5;241;43m=\u001b[39;49m\u001b[43mregularization\u001b[49m\u001b[43m,\u001b[49m\u001b[43m \u001b[49m\u001b[43muse_gpu\u001b[49m\u001b[38;5;241;43m=\u001b[39;49m\u001b[38;5;28;43;01mFalse\u001b[39;49;00m\u001b[43m,\u001b[49m\u001b[43m \u001b[49m\u001b[43mnum_threads\u001b[49m\u001b[38;5;241;43m=\u001b[39;49m\u001b[38;5;241;43m0\u001b[39;49m\u001b[43m,\u001b[49m\u001b[43m \u001b[49m\u001b[43mconfidence_scaling\u001b[49m\u001b[38;5;241;43m=\u001b[39;49m\u001b[38;5;124;43m\"\u001b[39;49m\u001b[38;5;124;43mlinear\u001b[39;49m\u001b[38;5;124;43m\"\u001b[39;49m\u001b[43m,\u001b[49m\u001b[43m \u001b[49m\u001b[38;5;241;43m*\u001b[39;49m\u001b[38;5;241;43m*\u001b[39;49m\u001b[43m{\u001b[49m\u001b[38;5;124;43m\"\u001b[39;49m\u001b[38;5;124;43malpha\u001b[39;49m\u001b[38;5;124;43m\"\u001b[39;49m\u001b[43m:\u001b[49m\u001b[43malpha\u001b[49m\u001b[43m}\u001b[49m\u001b[43m)\u001b[49m\n\u001b[1;32m     21\u001b[0m result_dict, _ \u001b[38;5;241m=\u001b[39m evaluator_test\u001b[38;5;241m.\u001b[39mevaluateRecommender(recommender)\n\u001b[1;32m     23\u001b[0m MAP \u001b[38;5;241m=\u001b[39m result_dict\u001b[38;5;241m.\u001b[39mloc[\u001b[38;5;241m10\u001b[39m][\u001b[38;5;124m\"\u001b[39m\u001b[38;5;124mMAP\u001b[39m\u001b[38;5;124m\"\u001b[39m]\n",
      "File \u001b[0;32m~/Developer/RecSys/Competizione/Recommenders/MatrixFactorization/ImplicitALSRecommender.py:76\u001b[0m, in \u001b[0;36mfit\u001b[0;34m(self, factors, regularization, use_native, use_cg, use_gpu, iterations, calculate_training_loss, num_threads, confidence_scaling, icm_coeff, **confidence_args)\u001b[0m\n\u001b[1;32m     65\u001b[0m \u001b[38;5;28;01mdef\u001b[39;00m \u001b[38;5;21mfit\u001b[39m(\u001b[38;5;28mself\u001b[39m,\n\u001b[1;32m     66\u001b[0m         factors\u001b[38;5;241m=\u001b[39m\u001b[38;5;241m100\u001b[39m,\n\u001b[1;32m     67\u001b[0m         regularization\u001b[38;5;241m=\u001b[39m\u001b[38;5;241m0.01\u001b[39m,\n\u001b[0;32m   (...)\u001b[0m\n\u001b[1;32m     73\u001b[0m         \u001b[38;5;241m*\u001b[39m\u001b[38;5;241m*\u001b[39mconfidence_args\n\u001b[1;32m     74\u001b[0m         ):\n\u001b[1;32m     75\u001b[0m     \u001b[38;5;28mself\u001b[39m\u001b[38;5;241m.\u001b[39mrec \u001b[38;5;241m=\u001b[39m implicit\u001b[38;5;241m.\u001b[39mals\u001b[38;5;241m.\u001b[39mAlternatingLeastSquares(factors\u001b[38;5;241m=\u001b[39mfactors, regularization\u001b[38;5;241m=\u001b[39mregularization,\n\u001b[0;32m---> 76\u001b[0m                                                     use_native\u001b[38;5;241m=\u001b[39muse_native, use_cg\u001b[38;5;241m=\u001b[39muse_cg, use_gpu\u001b[38;5;241m=\u001b[39muse_gpu,\n\u001b[1;32m     77\u001b[0m                                                     iterations\u001b[38;5;241m=\u001b[39miterations,\n\u001b[1;32m     78\u001b[0m                                                     calculate_training_loss\u001b[38;5;241m=\u001b[39mcalculate_training_loss,\n\u001b[1;32m     79\u001b[0m                                                     num_threads\u001b[38;5;241m=\u001b[39mnum_threads,\n\u001b[1;32m     80\u001b[0m                                                     random_state\u001b[38;5;241m=\u001b[39m\u001b[38;5;241m42\u001b[39m)\n\u001b[1;32m     81\u001b[0m     tmp \u001b[38;5;241m=\u001b[39m \u001b[38;5;28mself\u001b[39m\u001b[38;5;241m.\u001b[39mlinear_scaling_confidence(\u001b[38;5;241m*\u001b[39m\u001b[38;5;241m*\u001b[39mconfidence_args)\n\u001b[1;32m     83\u001b[0m     \u001b[38;5;28mself\u001b[39m\u001b[38;5;241m.\u001b[39mrec\u001b[38;5;241m.\u001b[39mfit(tmp, show_progress\u001b[38;5;241m=\u001b[39m\u001b[38;5;28mself\u001b[39m\u001b[38;5;241m.\u001b[39mverbose)\n",
      "File \u001b[0;32m~/miniconda3/envs/RecSysPD/lib/python3.8/site-packages/implicit/cpu/als.py:170\u001b[0m, in \u001b[0;36mAlternatingLeastSquares.fit\u001b[0;34m(self, user_items, show_progress, callback)\u001b[0m\n\u001b[1;32m    162\u001b[0m s \u001b[38;5;241m=\u001b[39m time\u001b[38;5;241m.\u001b[39mtime()\n\u001b[1;32m    163\u001b[0m solver(\n\u001b[1;32m    164\u001b[0m     Cui,\n\u001b[1;32m    165\u001b[0m     \u001b[38;5;28mself\u001b[39m\u001b[38;5;241m.\u001b[39muser_factors,\n\u001b[0;32m   (...)\u001b[0m\n\u001b[1;32m    168\u001b[0m     num_threads\u001b[38;5;241m=\u001b[39m\u001b[38;5;28mself\u001b[39m\u001b[38;5;241m.\u001b[39mnum_threads,\n\u001b[1;32m    169\u001b[0m )\n\u001b[0;32m--> 170\u001b[0m \u001b[43msolver\u001b[49m\u001b[43m(\u001b[49m\n\u001b[1;32m    171\u001b[0m \u001b[43m    \u001b[49m\u001b[43mCiu\u001b[49m\u001b[43m,\u001b[49m\n\u001b[1;32m    172\u001b[0m \u001b[43m    \u001b[49m\u001b[38;5;28;43mself\u001b[39;49m\u001b[38;5;241;43m.\u001b[39;49m\u001b[43mitem_factors\u001b[49m\u001b[43m,\u001b[49m\n\u001b[1;32m    173\u001b[0m \u001b[43m    \u001b[49m\u001b[38;5;28;43mself\u001b[39;49m\u001b[38;5;241;43m.\u001b[39;49m\u001b[43muser_factors\u001b[49m\u001b[43m,\u001b[49m\n\u001b[1;32m    174\u001b[0m \u001b[43m    \u001b[49m\u001b[38;5;28;43mself\u001b[39;49m\u001b[38;5;241;43m.\u001b[39;49m\u001b[43mregularization\u001b[49m\u001b[43m,\u001b[49m\n\u001b[1;32m    175\u001b[0m \u001b[43m    \u001b[49m\u001b[43mnum_threads\u001b[49m\u001b[38;5;241;43m=\u001b[39;49m\u001b[38;5;28;43mself\u001b[39;49m\u001b[38;5;241;43m.\u001b[39;49m\u001b[43mnum_threads\u001b[49m\u001b[43m,\u001b[49m\n\u001b[1;32m    176\u001b[0m \u001b[43m\u001b[49m\u001b[43m)\u001b[49m\n\u001b[1;32m    177\u001b[0m progress\u001b[38;5;241m.\u001b[39mupdate(\u001b[38;5;241m1\u001b[39m)\n\u001b[1;32m    179\u001b[0m \u001b[38;5;28;01mif\u001b[39;00m \u001b[38;5;28mself\u001b[39m\u001b[38;5;241m.\u001b[39mcalculate_training_loss:\n",
      "\u001b[0;31mKeyboardInterrupt\u001b[0m: "
     ]
    }
   ],
   "source": [
    "# too slow -> from Recommenders.MatrixFactorization.IALSRecommender import IALSRecommender\n",
    "from Recommenders.MatrixFactorization.ImplicitALSRecommender import ImplicitALSRecommender # Credit Nicola Cesare Github\n",
    "import optuna\n",
    "\n",
    "def objective_function(trial):\n",
    "    \n",
    "    '''recommender_implicitAls.fit(iterations= int(83.64347328971459), factors= int(125.3856187337561), regularization= 0.05106206327352681, use_gpu=False, num_threads=0, confidence_scaling=linear_scaling_confidence,**{\"alpha\":5.579621138255679})\n",
    "'''\n",
    "    \n",
    "    factors = trial.suggest_int(\"factors\", 1350, 1950)  # Refined range for factors\n",
    "    #regularization = trial.suggest_uniform(\"regularization\", 0.0, 1.0)  # Refined range for regularization\n",
    "    alpha = trial.suggest_uniform(\"alpha\", 0.0, 20.0)  # Refined range for alpha\n",
    "    iterations = 10\n",
    "    regularization = trial.suggest_uniform(\"regularization\", 0.1, 0.8)\n",
    "\n",
    "    \n",
    "    print(f\"Current parameters: factors={factors}, iterations={iterations}, regularization={regularization}, alpha={alpha}\")\n",
    "    recommender = ImplicitALSRecommender(URM_train_validation)\n",
    "    recommender.fit(iterations=iterations, factors=factors, regularization=regularization, use_gpu=False, num_threads=0, confidence_scaling=\"linear\", **{\"alpha\":alpha})\n",
    "\n",
    "    result_dict, _ = evaluator_test.evaluateRecommender(recommender)\n",
    "\n",
    "    MAP = result_dict.loc[10][\"MAP\"]\n",
    "    \n",
    "    return MAP\n",
    "\n",
    "\n",
    "class SaveResults(object):\n",
    "    \n",
    "    def __init__(self):\n",
    "        self.results_df = pd.DataFrame(columns = [\"result\"])\n",
    "    \n",
    "    def __call__(self, optuna_study, optuna_trial):\n",
    "        hyperparam_dict = optuna_trial.params.copy()\n",
    "        hyperparam_dict[\"result\"] = optuna_trial.values[0]\n",
    "        \n",
    "        self.results_df = pd.concat([self.results_df, pd.DataFrame([hyperparam_dict])], ignore_index=True)\n",
    "        self.results_df.to_csv(\"logs/IALS/IALS_restart_first.csv\", index = False)\n",
    "\n",
    "optuna_study = optuna.create_study(study_name=\"IALS\", direction=\"maximize\")\n",
    "        \n",
    "save_results = SaveResults()\n",
    "        \n",
    "optuna_study.optimize(objective_function,\n",
    "                      callbacks=[save_results],\n",
    "                      n_trials = 100,\n",
    "                      )"
   ]
  },
  {
   "cell_type": "markdown",
   "metadata": {},
   "source": [
    "# We could use even more factors"
   ]
  },
  {
   "cell_type": "code",
   "execution_count": 66,
   "metadata": {},
   "outputs": [
    {
     "data": {
      "text/plain": [
       "1072"
      ]
     },
     "execution_count": 66,
     "metadata": {},
     "output_type": "execute_result"
    }
   ],
   "source": [
    "import gc\n",
    "gc.collect()"
   ]
  },
  {
   "cell_type": "code",
   "execution_count": 67,
   "metadata": {},
   "outputs": [
    {
     "name": "stderr",
     "output_type": "stream",
     "text": [
      "[I 2024-12-30 01:04:04,209] A new study created in memory with name: IALS\n",
      "/var/folders/50/7hjr20g17_18p725nbt0qqv00000gn/T/ipykernel_81509/1016136916.py:9: FutureWarning: suggest_uniform has been deprecated in v3.0.0. This feature will be removed in v6.0.0. See https://github.com/optuna/optuna/releases/tag/v3.0.0. Use suggest_float instead.\n",
      "  alpha = trial.suggest_uniform(\"alpha\", 0.0, 20.0)  # Refined range for alpha\n",
      "/var/folders/50/7hjr20g17_18p725nbt0qqv00000gn/T/ipykernel_81509/1016136916.py:11: FutureWarning: suggest_uniform has been deprecated in v3.0.0. This feature will be removed in v6.0.0. See https://github.com/optuna/optuna/releases/tag/v3.0.0. Use suggest_float instead.\n",
      "  regularization = trial.suggest_uniform(\"regularization\", 0.1, 0.8)\n"
     ]
    },
    {
     "name": "stdout",
     "output_type": "stream",
     "text": [
      "Current parameters: factors=1620, iterations=10, regularization=0.39867791536626407, alpha=12.848834943026686\n"
     ]
    },
    {
     "data": {
      "application/vnd.jupyter.widget-view+json": {
       "model_id": "006dd67a0b5d48b298407d4d97ec5510",
       "version_major": 2,
       "version_minor": 0
      },
      "text/plain": [
       "  0%|          | 0/10 [00:00<?, ?it/s]"
      ]
     },
     "metadata": {},
     "output_type": "display_data"
    },
    {
     "name": "stdout",
     "output_type": "stream",
     "text": [
      "EvaluatorHoldout: Processed 35595 (100.0%) in 35.12 sec. Users per second: 1014\n"
     ]
    },
    {
     "name": "stderr",
     "output_type": "stream",
     "text": [
      "[I 2024-12-30 01:14:14,427] Trial 0 finished with value: 0.04793973426800887 and parameters: {'factors': 1620, 'alpha': 12.848834943026686, 'regularization': 0.39867791536626407}. Best is trial 0 with value: 0.04793973426800887.\n"
     ]
    },
    {
     "name": "stdout",
     "output_type": "stream",
     "text": [
      "Current parameters: factors=1857, iterations=10, regularization=0.5786582027589765, alpha=1.4909358417478003\n"
     ]
    },
    {
     "name": "stderr",
     "output_type": "stream",
     "text": [
      "/var/folders/50/7hjr20g17_18p725nbt0qqv00000gn/T/ipykernel_81509/1016136916.py:9: FutureWarning: suggest_uniform has been deprecated in v3.0.0. This feature will be removed in v6.0.0. See https://github.com/optuna/optuna/releases/tag/v3.0.0. Use suggest_float instead.\n",
      "  alpha = trial.suggest_uniform(\"alpha\", 0.0, 20.0)  # Refined range for alpha\n",
      "/var/folders/50/7hjr20g17_18p725nbt0qqv00000gn/T/ipykernel_81509/1016136916.py:11: FutureWarning: suggest_uniform has been deprecated in v3.0.0. This feature will be removed in v6.0.0. See https://github.com/optuna/optuna/releases/tag/v3.0.0. Use suggest_float instead.\n",
      "  regularization = trial.suggest_uniform(\"regularization\", 0.1, 0.8)\n"
     ]
    },
    {
     "data": {
      "application/vnd.jupyter.widget-view+json": {
       "model_id": "a28d621bd847423faa87911cb0e00ef1",
       "version_major": 2,
       "version_minor": 0
      },
      "text/plain": [
       "  0%|          | 0/10 [00:00<?, ?it/s]"
      ]
     },
     "metadata": {},
     "output_type": "display_data"
    },
    {
     "name": "stdout",
     "output_type": "stream",
     "text": [
      "EvaluatorHoldout: Processed 35595 (100.0%) in 39.17 sec. Users per second: 909\n"
     ]
    },
    {
     "name": "stderr",
     "output_type": "stream",
     "text": [
      "[I 2024-12-30 01:24:28,995] Trial 1 finished with value: 0.04653096007330988 and parameters: {'factors': 1857, 'alpha': 1.4909358417478003, 'regularization': 0.5786582027589765}. Best is trial 0 with value: 0.04793973426800887.\n"
     ]
    },
    {
     "name": "stdout",
     "output_type": "stream",
     "text": [
      "Current parameters: factors=2113, iterations=10, regularization=0.2411845178565116, alpha=16.622670411797113\n"
     ]
    },
    {
     "name": "stderr",
     "output_type": "stream",
     "text": [
      "/var/folders/50/7hjr20g17_18p725nbt0qqv00000gn/T/ipykernel_81509/1016136916.py:9: FutureWarning: suggest_uniform has been deprecated in v3.0.0. This feature will be removed in v6.0.0. See https://github.com/optuna/optuna/releases/tag/v3.0.0. Use suggest_float instead.\n",
      "  alpha = trial.suggest_uniform(\"alpha\", 0.0, 20.0)  # Refined range for alpha\n",
      "/var/folders/50/7hjr20g17_18p725nbt0qqv00000gn/T/ipykernel_81509/1016136916.py:11: FutureWarning: suggest_uniform has been deprecated in v3.0.0. This feature will be removed in v6.0.0. See https://github.com/optuna/optuna/releases/tag/v3.0.0. Use suggest_float instead.\n",
      "  regularization = trial.suggest_uniform(\"regularization\", 0.1, 0.8)\n"
     ]
    },
    {
     "data": {
      "application/vnd.jupyter.widget-view+json": {
       "model_id": "c48479ae587d4203851b7efeaecece90",
       "version_major": 2,
       "version_minor": 0
      },
      "text/plain": [
       "  0%|          | 0/10 [00:00<?, ?it/s]"
      ]
     },
     "metadata": {},
     "output_type": "display_data"
    },
    {
     "name": "stdout",
     "output_type": "stream",
     "text": [
      "EvaluatorHoldout: Processed 35595 (100.0%) in 40.45 sec. Users per second: 880\n"
     ]
    },
    {
     "name": "stderr",
     "output_type": "stream",
     "text": [
      "[I 2024-12-30 01:38:24,406] Trial 2 finished with value: 0.04818166119282715 and parameters: {'factors': 2113, 'alpha': 16.622670411797113, 'regularization': 0.2411845178565116}. Best is trial 2 with value: 0.04818166119282715.\n"
     ]
    },
    {
     "name": "stdout",
     "output_type": "stream",
     "text": [
      "Current parameters: factors=2108, iterations=10, regularization=0.6516578272689889, alpha=5.437944974187465\n"
     ]
    },
    {
     "name": "stderr",
     "output_type": "stream",
     "text": [
      "/var/folders/50/7hjr20g17_18p725nbt0qqv00000gn/T/ipykernel_81509/1016136916.py:9: FutureWarning: suggest_uniform has been deprecated in v3.0.0. This feature will be removed in v6.0.0. See https://github.com/optuna/optuna/releases/tag/v3.0.0. Use suggest_float instead.\n",
      "  alpha = trial.suggest_uniform(\"alpha\", 0.0, 20.0)  # Refined range for alpha\n",
      "/var/folders/50/7hjr20g17_18p725nbt0qqv00000gn/T/ipykernel_81509/1016136916.py:11: FutureWarning: suggest_uniform has been deprecated in v3.0.0. This feature will be removed in v6.0.0. See https://github.com/optuna/optuna/releases/tag/v3.0.0. Use suggest_float instead.\n",
      "  regularization = trial.suggest_uniform(\"regularization\", 0.1, 0.8)\n"
     ]
    },
    {
     "data": {
      "application/vnd.jupyter.widget-view+json": {
       "model_id": "6a088203b97449b680e6871dcbcf3731",
       "version_major": 2,
       "version_minor": 0
      },
      "text/plain": [
       "  0%|          | 0/10 [00:00<?, ?it/s]"
      ]
     },
     "metadata": {},
     "output_type": "display_data"
    },
    {
     "name": "stdout",
     "output_type": "stream",
     "text": [
      "EvaluatorHoldout: Processed 35595 (100.0%) in 41.10 sec. Users per second: 866\n"
     ]
    },
    {
     "name": "stderr",
     "output_type": "stream",
     "text": [
      "[I 2024-12-30 01:51:31,176] Trial 3 finished with value: 0.04875531943357298 and parameters: {'factors': 2108, 'alpha': 5.437944974187465, 'regularization': 0.6516578272689889}. Best is trial 3 with value: 0.04875531943357298.\n"
     ]
    },
    {
     "name": "stdout",
     "output_type": "stream",
     "text": [
      "Current parameters: factors=1928, iterations=10, regularization=0.42341466198333116, alpha=4.392688451986775\n"
     ]
    },
    {
     "name": "stderr",
     "output_type": "stream",
     "text": [
      "/var/folders/50/7hjr20g17_18p725nbt0qqv00000gn/T/ipykernel_81509/1016136916.py:9: FutureWarning: suggest_uniform has been deprecated in v3.0.0. This feature will be removed in v6.0.0. See https://github.com/optuna/optuna/releases/tag/v3.0.0. Use suggest_float instead.\n",
      "  alpha = trial.suggest_uniform(\"alpha\", 0.0, 20.0)  # Refined range for alpha\n",
      "/var/folders/50/7hjr20g17_18p725nbt0qqv00000gn/T/ipykernel_81509/1016136916.py:11: FutureWarning: suggest_uniform has been deprecated in v3.0.0. This feature will be removed in v6.0.0. See https://github.com/optuna/optuna/releases/tag/v3.0.0. Use suggest_float instead.\n",
      "  regularization = trial.suggest_uniform(\"regularization\", 0.1, 0.8)\n"
     ]
    },
    {
     "data": {
      "application/vnd.jupyter.widget-view+json": {
       "model_id": "b14381adc28f4917a410905ace3e52e7",
       "version_major": 2,
       "version_minor": 0
      },
      "text/plain": [
       "  0%|          | 0/10 [00:00<?, ?it/s]"
      ]
     },
     "metadata": {},
     "output_type": "display_data"
    },
    {
     "name": "stdout",
     "output_type": "stream",
     "text": [
      "EvaluatorHoldout: Processed 35595 (100.0%) in 37.44 sec. Users per second: 951\n"
     ]
    },
    {
     "name": "stderr",
     "output_type": "stream",
     "text": [
      "[I 2024-12-30 02:02:43,269] Trial 4 finished with value: 0.048441147878356294 and parameters: {'factors': 1928, 'alpha': 4.392688451986775, 'regularization': 0.42341466198333116}. Best is trial 3 with value: 0.04875531943357298.\n"
     ]
    },
    {
     "name": "stdout",
     "output_type": "stream",
     "text": [
      "Current parameters: factors=1787, iterations=10, regularization=0.774116137570269, alpha=19.201734250312214\n"
     ]
    },
    {
     "name": "stderr",
     "output_type": "stream",
     "text": [
      "/var/folders/50/7hjr20g17_18p725nbt0qqv00000gn/T/ipykernel_81509/1016136916.py:9: FutureWarning: suggest_uniform has been deprecated in v3.0.0. This feature will be removed in v6.0.0. See https://github.com/optuna/optuna/releases/tag/v3.0.0. Use suggest_float instead.\n",
      "  alpha = trial.suggest_uniform(\"alpha\", 0.0, 20.0)  # Refined range for alpha\n",
      "/var/folders/50/7hjr20g17_18p725nbt0qqv00000gn/T/ipykernel_81509/1016136916.py:11: FutureWarning: suggest_uniform has been deprecated in v3.0.0. This feature will be removed in v6.0.0. See https://github.com/optuna/optuna/releases/tag/v3.0.0. Use suggest_float instead.\n",
      "  regularization = trial.suggest_uniform(\"regularization\", 0.1, 0.8)\n"
     ]
    },
    {
     "data": {
      "application/vnd.jupyter.widget-view+json": {
       "model_id": "520090f1b711433b8d5e53b9b3fd5c04",
       "version_major": 2,
       "version_minor": 0
      },
      "text/plain": [
       "  0%|          | 0/10 [00:00<?, ?it/s]"
      ]
     },
     "metadata": {},
     "output_type": "display_data"
    },
    {
     "name": "stdout",
     "output_type": "stream",
     "text": [
      "EvaluatorHoldout: Processed 35595 (100.0%) in 37.62 sec. Users per second: 946\n"
     ]
    },
    {
     "name": "stderr",
     "output_type": "stream",
     "text": [
      "[I 2024-12-30 02:12:49,772] Trial 5 finished with value: 0.04781535327995338 and parameters: {'factors': 1787, 'alpha': 19.201734250312214, 'regularization': 0.774116137570269}. Best is trial 3 with value: 0.04875531943357298.\n"
     ]
    },
    {
     "name": "stdout",
     "output_type": "stream",
     "text": [
      "Current parameters: factors=1700, iterations=10, regularization=0.6856263950147187, alpha=16.85839432589205\n"
     ]
    },
    {
     "name": "stderr",
     "output_type": "stream",
     "text": [
      "/var/folders/50/7hjr20g17_18p725nbt0qqv00000gn/T/ipykernel_81509/1016136916.py:9: FutureWarning: suggest_uniform has been deprecated in v3.0.0. This feature will be removed in v6.0.0. See https://github.com/optuna/optuna/releases/tag/v3.0.0. Use suggest_float instead.\n",
      "  alpha = trial.suggest_uniform(\"alpha\", 0.0, 20.0)  # Refined range for alpha\n",
      "/var/folders/50/7hjr20g17_18p725nbt0qqv00000gn/T/ipykernel_81509/1016136916.py:11: FutureWarning: suggest_uniform has been deprecated in v3.0.0. This feature will be removed in v6.0.0. See https://github.com/optuna/optuna/releases/tag/v3.0.0. Use suggest_float instead.\n",
      "  regularization = trial.suggest_uniform(\"regularization\", 0.1, 0.8)\n"
     ]
    },
    {
     "data": {
      "application/vnd.jupyter.widget-view+json": {
       "model_id": "cd4faa60555a43bdb7825b1653d60a80",
       "version_major": 2,
       "version_minor": 0
      },
      "text/plain": [
       "  0%|          | 0/10 [00:00<?, ?it/s]"
      ]
     },
     "metadata": {},
     "output_type": "display_data"
    },
    {
     "name": "stdout",
     "output_type": "stream",
     "text": [
      "EvaluatorHoldout: Processed 35595 (100.0%) in 38.04 sec. Users per second: 936\n"
     ]
    },
    {
     "name": "stderr",
     "output_type": "stream",
     "text": [
      "[I 2024-12-30 02:22:08,217] Trial 6 finished with value: 0.04801224868839553 and parameters: {'factors': 1700, 'alpha': 16.85839432589205, 'regularization': 0.6856263950147187}. Best is trial 3 with value: 0.04875531943357298.\n"
     ]
    },
    {
     "name": "stdout",
     "output_type": "stream",
     "text": [
      "Current parameters: factors=1679, iterations=10, regularization=0.17439513711597118, alpha=12.692527451015806\n"
     ]
    },
    {
     "name": "stderr",
     "output_type": "stream",
     "text": [
      "/var/folders/50/7hjr20g17_18p725nbt0qqv00000gn/T/ipykernel_81509/1016136916.py:9: FutureWarning: suggest_uniform has been deprecated in v3.0.0. This feature will be removed in v6.0.0. See https://github.com/optuna/optuna/releases/tag/v3.0.0. Use suggest_float instead.\n",
      "  alpha = trial.suggest_uniform(\"alpha\", 0.0, 20.0)  # Refined range for alpha\n",
      "/var/folders/50/7hjr20g17_18p725nbt0qqv00000gn/T/ipykernel_81509/1016136916.py:11: FutureWarning: suggest_uniform has been deprecated in v3.0.0. This feature will be removed in v6.0.0. See https://github.com/optuna/optuna/releases/tag/v3.0.0. Use suggest_float instead.\n",
      "  regularization = trial.suggest_uniform(\"regularization\", 0.1, 0.8)\n"
     ]
    },
    {
     "data": {
      "application/vnd.jupyter.widget-view+json": {
       "model_id": "ff18c7195f034b08b1f7ce7050615e2c",
       "version_major": 2,
       "version_minor": 0
      },
      "text/plain": [
       "  0%|          | 0/10 [00:00<?, ?it/s]"
      ]
     },
     "metadata": {},
     "output_type": "display_data"
    },
    {
     "name": "stdout",
     "output_type": "stream",
     "text": [
      "EvaluatorHoldout: Processed 35595 (100.0%) in 36.05 sec. Users per second: 987\n"
     ]
    },
    {
     "name": "stderr",
     "output_type": "stream",
     "text": [
      "[I 2024-12-30 02:31:25,869] Trial 7 finished with value: 0.04797591622686267 and parameters: {'factors': 1679, 'alpha': 12.692527451015806, 'regularization': 0.17439513711597118}. Best is trial 3 with value: 0.04875531943357298.\n"
     ]
    },
    {
     "name": "stdout",
     "output_type": "stream",
     "text": [
      "Current parameters: factors=2021, iterations=10, regularization=0.7973449206471607, alpha=13.894886568165019\n"
     ]
    },
    {
     "name": "stderr",
     "output_type": "stream",
     "text": [
      "/var/folders/50/7hjr20g17_18p725nbt0qqv00000gn/T/ipykernel_81509/1016136916.py:9: FutureWarning: suggest_uniform has been deprecated in v3.0.0. This feature will be removed in v6.0.0. See https://github.com/optuna/optuna/releases/tag/v3.0.0. Use suggest_float instead.\n",
      "  alpha = trial.suggest_uniform(\"alpha\", 0.0, 20.0)  # Refined range for alpha\n",
      "/var/folders/50/7hjr20g17_18p725nbt0qqv00000gn/T/ipykernel_81509/1016136916.py:11: FutureWarning: suggest_uniform has been deprecated in v3.0.0. This feature will be removed in v6.0.0. See https://github.com/optuna/optuna/releases/tag/v3.0.0. Use suggest_float instead.\n",
      "  regularization = trial.suggest_uniform(\"regularization\", 0.1, 0.8)\n"
     ]
    },
    {
     "data": {
      "application/vnd.jupyter.widget-view+json": {
       "model_id": "7f30da1daf1841abb8c5e91543da6055",
       "version_major": 2,
       "version_minor": 0
      },
      "text/plain": [
       "  0%|          | 0/10 [00:00<?, ?it/s]"
      ]
     },
     "metadata": {},
     "output_type": "display_data"
    },
    {
     "name": "stdout",
     "output_type": "stream",
     "text": [
      "EvaluatorHoldout: Processed 35595 (100.0%) in 38.86 sec. Users per second: 916\n"
     ]
    },
    {
     "name": "stderr",
     "output_type": "stream",
     "text": [
      "[I 2024-12-30 02:44:04,395] Trial 8 finished with value: 0.048267155633146375 and parameters: {'factors': 2021, 'alpha': 13.894886568165019, 'regularization': 0.7973449206471607}. Best is trial 3 with value: 0.04875531943357298.\n"
     ]
    },
    {
     "name": "stdout",
     "output_type": "stream",
     "text": [
      "Current parameters: factors=2135, iterations=10, regularization=0.4104904710375822, alpha=16.12185898653977\n"
     ]
    },
    {
     "name": "stderr",
     "output_type": "stream",
     "text": [
      "/var/folders/50/7hjr20g17_18p725nbt0qqv00000gn/T/ipykernel_81509/1016136916.py:9: FutureWarning: suggest_uniform has been deprecated in v3.0.0. This feature will be removed in v6.0.0. See https://github.com/optuna/optuna/releases/tag/v3.0.0. Use suggest_float instead.\n",
      "  alpha = trial.suggest_uniform(\"alpha\", 0.0, 20.0)  # Refined range for alpha\n",
      "/var/folders/50/7hjr20g17_18p725nbt0qqv00000gn/T/ipykernel_81509/1016136916.py:11: FutureWarning: suggest_uniform has been deprecated in v3.0.0. This feature will be removed in v6.0.0. See https://github.com/optuna/optuna/releases/tag/v3.0.0. Use suggest_float instead.\n",
      "  regularization = trial.suggest_uniform(\"regularization\", 0.1, 0.8)\n"
     ]
    },
    {
     "data": {
      "application/vnd.jupyter.widget-view+json": {
       "model_id": "561da9c6ec8d4652b2f1b65200ebf853",
       "version_major": 2,
       "version_minor": 0
      },
      "text/plain": [
       "  0%|          | 0/10 [00:00<?, ?it/s]"
      ]
     },
     "metadata": {},
     "output_type": "display_data"
    },
    {
     "name": "stdout",
     "output_type": "stream",
     "text": [
      "EvaluatorHoldout: Processed 35595 (100.0%) in 39.55 sec. Users per second: 900\n"
     ]
    },
    {
     "name": "stderr",
     "output_type": "stream",
     "text": [
      "[I 2024-12-30 02:57:43,438] Trial 9 finished with value: 0.04824323574070566 and parameters: {'factors': 2135, 'alpha': 16.12185898653977, 'regularization': 0.4104904710375822}. Best is trial 3 with value: 0.04875531943357298.\n"
     ]
    },
    {
     "name": "stdout",
     "output_type": "stream",
     "text": [
      "Current parameters: factors=2491, iterations=10, regularization=0.5901114724476016, alpha=6.853300579600483\n"
     ]
    },
    {
     "name": "stderr",
     "output_type": "stream",
     "text": [
      "/var/folders/50/7hjr20g17_18p725nbt0qqv00000gn/T/ipykernel_81509/1016136916.py:9: FutureWarning: suggest_uniform has been deprecated in v3.0.0. This feature will be removed in v6.0.0. See https://github.com/optuna/optuna/releases/tag/v3.0.0. Use suggest_float instead.\n",
      "  alpha = trial.suggest_uniform(\"alpha\", 0.0, 20.0)  # Refined range for alpha\n",
      "/var/folders/50/7hjr20g17_18p725nbt0qqv00000gn/T/ipykernel_81509/1016136916.py:11: FutureWarning: suggest_uniform has been deprecated in v3.0.0. This feature will be removed in v6.0.0. See https://github.com/optuna/optuna/releases/tag/v3.0.0. Use suggest_float instead.\n",
      "  regularization = trial.suggest_uniform(\"regularization\", 0.1, 0.8)\n"
     ]
    },
    {
     "data": {
      "application/vnd.jupyter.widget-view+json": {
       "model_id": "d5b647eafda647659a91223cbfbb5bb2",
       "version_major": 2,
       "version_minor": 0
      },
      "text/plain": [
       "  0%|          | 0/10 [00:00<?, ?it/s]"
      ]
     },
     "metadata": {},
     "output_type": "display_data"
    },
    {
     "name": "stdout",
     "output_type": "stream",
     "text": [
      "EvaluatorHoldout: Processed 35595 (100.0%) in 44.07 sec. Users per second: 808\n"
     ]
    },
    {
     "name": "stderr",
     "output_type": "stream",
     "text": [
      "[I 2024-12-30 03:16:16,128] Trial 10 finished with value: 0.048912740776413735 and parameters: {'factors': 2491, 'alpha': 6.853300579600483, 'regularization': 0.5901114724476016}. Best is trial 10 with value: 0.048912740776413735.\n"
     ]
    },
    {
     "name": "stdout",
     "output_type": "stream",
     "text": [
      "Current parameters: factors=2466, iterations=10, regularization=0.6170653734494409, alpha=6.8934470163930985\n"
     ]
    },
    {
     "name": "stderr",
     "output_type": "stream",
     "text": [
      "/var/folders/50/7hjr20g17_18p725nbt0qqv00000gn/T/ipykernel_81509/1016136916.py:9: FutureWarning: suggest_uniform has been deprecated in v3.0.0. This feature will be removed in v6.0.0. See https://github.com/optuna/optuna/releases/tag/v3.0.0. Use suggest_float instead.\n",
      "  alpha = trial.suggest_uniform(\"alpha\", 0.0, 20.0)  # Refined range for alpha\n",
      "/var/folders/50/7hjr20g17_18p725nbt0qqv00000gn/T/ipykernel_81509/1016136916.py:11: FutureWarning: suggest_uniform has been deprecated in v3.0.0. This feature will be removed in v6.0.0. See https://github.com/optuna/optuna/releases/tag/v3.0.0. Use suggest_float instead.\n",
      "  regularization = trial.suggest_uniform(\"regularization\", 0.1, 0.8)\n"
     ]
    },
    {
     "data": {
      "application/vnd.jupyter.widget-view+json": {
       "model_id": "e374b24a1b6048eda5d2dd01db212c1b",
       "version_major": 2,
       "version_minor": 0
      },
      "text/plain": [
       "  0%|          | 0/10 [00:00<?, ?it/s]"
      ]
     },
     "metadata": {},
     "output_type": "display_data"
    },
    {
     "name": "stdout",
     "output_type": "stream",
     "text": [
      "EvaluatorHoldout: Processed 35595 (100.0%) in 44.63 sec. Users per second: 798\n"
     ]
    },
    {
     "name": "stderr",
     "output_type": "stream",
     "text": [
      "[I 2024-12-30 03:34:10,236] Trial 11 finished with value: 0.048805163691171126 and parameters: {'factors': 2466, 'alpha': 6.8934470163930985, 'regularization': 0.6170653734494409}. Best is trial 10 with value: 0.048912740776413735.\n"
     ]
    },
    {
     "name": "stdout",
     "output_type": "stream",
     "text": [
      "Current parameters: factors=2509, iterations=10, regularization=0.5475440613233895, alpha=8.194448980757322\n"
     ]
    },
    {
     "name": "stderr",
     "output_type": "stream",
     "text": [
      "/var/folders/50/7hjr20g17_18p725nbt0qqv00000gn/T/ipykernel_81509/1016136916.py:9: FutureWarning: suggest_uniform has been deprecated in v3.0.0. This feature will be removed in v6.0.0. See https://github.com/optuna/optuna/releases/tag/v3.0.0. Use suggest_float instead.\n",
      "  alpha = trial.suggest_uniform(\"alpha\", 0.0, 20.0)  # Refined range for alpha\n",
      "/var/folders/50/7hjr20g17_18p725nbt0qqv00000gn/T/ipykernel_81509/1016136916.py:11: FutureWarning: suggest_uniform has been deprecated in v3.0.0. This feature will be removed in v6.0.0. See https://github.com/optuna/optuna/releases/tag/v3.0.0. Use suggest_float instead.\n",
      "  regularization = trial.suggest_uniform(\"regularization\", 0.1, 0.8)\n"
     ]
    },
    {
     "data": {
      "application/vnd.jupyter.widget-view+json": {
       "model_id": "44830df17a4f4ecdba09e76c3c0c0ada",
       "version_major": 2,
       "version_minor": 0
      },
      "text/plain": [
       "  0%|          | 0/10 [00:00<?, ?it/s]"
      ]
     },
     "metadata": {},
     "output_type": "display_data"
    },
    {
     "name": "stdout",
     "output_type": "stream",
     "text": [
      "EvaluatorHoldout: Processed 35595 (100.0%) in 43.24 sec. Users per second: 823\n"
     ]
    },
    {
     "name": "stderr",
     "output_type": "stream",
     "text": [
      "[I 2024-12-30 03:52:40,315] Trial 12 finished with value: 0.04903989435826635 and parameters: {'factors': 2509, 'alpha': 8.194448980757322, 'regularization': 0.5475440613233895}. Best is trial 12 with value: 0.04903989435826635.\n"
     ]
    },
    {
     "name": "stdout",
     "output_type": "stream",
     "text": [
      "Current parameters: factors=2539, iterations=10, regularization=0.5420474929402946, alpha=8.807929914653169\n"
     ]
    },
    {
     "name": "stderr",
     "output_type": "stream",
     "text": [
      "/var/folders/50/7hjr20g17_18p725nbt0qqv00000gn/T/ipykernel_81509/1016136916.py:9: FutureWarning: suggest_uniform has been deprecated in v3.0.0. This feature will be removed in v6.0.0. See https://github.com/optuna/optuna/releases/tag/v3.0.0. Use suggest_float instead.\n",
      "  alpha = trial.suggest_uniform(\"alpha\", 0.0, 20.0)  # Refined range for alpha\n",
      "/var/folders/50/7hjr20g17_18p725nbt0qqv00000gn/T/ipykernel_81509/1016136916.py:11: FutureWarning: suggest_uniform has been deprecated in v3.0.0. This feature will be removed in v6.0.0. See https://github.com/optuna/optuna/releases/tag/v3.0.0. Use suggest_float instead.\n",
      "  regularization = trial.suggest_uniform(\"regularization\", 0.1, 0.8)\n"
     ]
    },
    {
     "data": {
      "application/vnd.jupyter.widget-view+json": {
       "model_id": "fef766d1ae1d4fd2be1cdb6d5d5c5840",
       "version_major": 2,
       "version_minor": 0
      },
      "text/plain": [
       "  0%|          | 0/10 [00:00<?, ?it/s]"
      ]
     },
     "metadata": {},
     "output_type": "display_data"
    },
    {
     "name": "stdout",
     "output_type": "stream",
     "text": [
      "EvaluatorHoldout: Processed 35595 (100.0%) in 43.58 sec. Users per second: 817\n"
     ]
    },
    {
     "name": "stderr",
     "output_type": "stream",
     "text": [
      "[I 2024-12-30 04:11:48,824] Trial 13 finished with value: 0.048750178930960966 and parameters: {'factors': 2539, 'alpha': 8.807929914653169, 'regularization': 0.5420474929402946}. Best is trial 12 with value: 0.04903989435826635.\n"
     ]
    },
    {
     "name": "stdout",
     "output_type": "stream",
     "text": [
      "Current parameters: factors=2342, iterations=10, regularization=0.5208799772864479, alpha=9.757485281379925\n"
     ]
    },
    {
     "name": "stderr",
     "output_type": "stream",
     "text": [
      "/var/folders/50/7hjr20g17_18p725nbt0qqv00000gn/T/ipykernel_81509/1016136916.py:9: FutureWarning: suggest_uniform has been deprecated in v3.0.0. This feature will be removed in v6.0.0. See https://github.com/optuna/optuna/releases/tag/v3.0.0. Use suggest_float instead.\n",
      "  alpha = trial.suggest_uniform(\"alpha\", 0.0, 20.0)  # Refined range for alpha\n",
      "/var/folders/50/7hjr20g17_18p725nbt0qqv00000gn/T/ipykernel_81509/1016136916.py:11: FutureWarning: suggest_uniform has been deprecated in v3.0.0. This feature will be removed in v6.0.0. See https://github.com/optuna/optuna/releases/tag/v3.0.0. Use suggest_float instead.\n",
      "  regularization = trial.suggest_uniform(\"regularization\", 0.1, 0.8)\n"
     ]
    },
    {
     "data": {
      "application/vnd.jupyter.widget-view+json": {
       "model_id": "3e5a25b755204b6f93bbfbf6524b64d9",
       "version_major": 2,
       "version_minor": 0
      },
      "text/plain": [
       "  0%|          | 0/10 [00:00<?, ?it/s]"
      ]
     },
     "metadata": {},
     "output_type": "display_data"
    },
    {
     "name": "stdout",
     "output_type": "stream",
     "text": [
      "EvaluatorHoldout: Processed 35595 (100.0%) in 42.51 sec. Users per second: 837\n"
     ]
    },
    {
     "name": "stderr",
     "output_type": "stream",
     "text": [
      "[I 2024-12-30 04:28:06,637] Trial 14 finished with value: 0.04876505639948368 and parameters: {'factors': 2342, 'alpha': 9.757485281379925, 'regularization': 0.5208799772864479}. Best is trial 12 with value: 0.04903989435826635.\n"
     ]
    },
    {
     "name": "stdout",
     "output_type": "stream",
     "text": [
      "Current parameters: factors=2343, iterations=10, regularization=0.26898153592338325, alpha=0.006526259943823831\n"
     ]
    },
    {
     "name": "stderr",
     "output_type": "stream",
     "text": [
      "/var/folders/50/7hjr20g17_18p725nbt0qqv00000gn/T/ipykernel_81509/1016136916.py:9: FutureWarning: suggest_uniform has been deprecated in v3.0.0. This feature will be removed in v6.0.0. See https://github.com/optuna/optuna/releases/tag/v3.0.0. Use suggest_float instead.\n",
      "  alpha = trial.suggest_uniform(\"alpha\", 0.0, 20.0)  # Refined range for alpha\n",
      "/var/folders/50/7hjr20g17_18p725nbt0qqv00000gn/T/ipykernel_81509/1016136916.py:11: FutureWarning: suggest_uniform has been deprecated in v3.0.0. This feature will be removed in v6.0.0. See https://github.com/optuna/optuna/releases/tag/v3.0.0. Use suggest_float instead.\n",
      "  regularization = trial.suggest_uniform(\"regularization\", 0.1, 0.8)\n"
     ]
    },
    {
     "data": {
      "application/vnd.jupyter.widget-view+json": {
       "model_id": "e2b5ddf5ae6c4aa3a86b6cecfc528169",
       "version_major": 2,
       "version_minor": 0
      },
      "text/plain": [
       "  0%|          | 0/10 [00:00<?, ?it/s]"
      ]
     },
     "metadata": {},
     "output_type": "display_data"
    },
    {
     "name": "stdout",
     "output_type": "stream",
     "text": [
      "EvaluatorHoldout: Processed 35595 (100.0%) in 42.43 sec. Users per second: 839\n"
     ]
    },
    {
     "name": "stderr",
     "output_type": "stream",
     "text": [
      "[I 2024-12-30 04:44:37,117] Trial 15 finished with value: 0.04148197535323385 and parameters: {'factors': 2343, 'alpha': 0.006526259943823831, 'regularization': 0.26898153592338325}. Best is trial 12 with value: 0.04903989435826635.\n"
     ]
    },
    {
     "name": "stdout",
     "output_type": "stream",
     "text": [
      "Current parameters: factors=2295, iterations=10, regularization=0.499757572012471, alpha=3.4893865518602096\n"
     ]
    },
    {
     "name": "stderr",
     "output_type": "stream",
     "text": [
      "/var/folders/50/7hjr20g17_18p725nbt0qqv00000gn/T/ipykernel_81509/1016136916.py:9: FutureWarning: suggest_uniform has been deprecated in v3.0.0. This feature will be removed in v6.0.0. See https://github.com/optuna/optuna/releases/tag/v3.0.0. Use suggest_float instead.\n",
      "  alpha = trial.suggest_uniform(\"alpha\", 0.0, 20.0)  # Refined range for alpha\n",
      "/var/folders/50/7hjr20g17_18p725nbt0qqv00000gn/T/ipykernel_81509/1016136916.py:11: FutureWarning: suggest_uniform has been deprecated in v3.0.0. This feature will be removed in v6.0.0. See https://github.com/optuna/optuna/releases/tag/v3.0.0. Use suggest_float instead.\n",
      "  regularization = trial.suggest_uniform(\"regularization\", 0.1, 0.8)\n"
     ]
    },
    {
     "data": {
      "application/vnd.jupyter.widget-view+json": {
       "model_id": "48f7c799d0bf483e94be4c74704f1698",
       "version_major": 2,
       "version_minor": 0
      },
      "text/plain": [
       "  0%|          | 0/10 [00:00<?, ?it/s]"
      ]
     },
     "metadata": {},
     "output_type": "display_data"
    },
    {
     "name": "stdout",
     "output_type": "stream",
     "text": [
      "EvaluatorHoldout: Processed 35595 (100.0%) in 42.57 sec. Users per second: 836\n"
     ]
    },
    {
     "name": "stderr",
     "output_type": "stream",
     "text": [
      "[I 2024-12-30 05:00:38,873] Trial 16 finished with value: 0.04862187038040222 and parameters: {'factors': 2295, 'alpha': 3.4893865518602096, 'regularization': 0.499757572012471}. Best is trial 12 with value: 0.04903989435826635.\n"
     ]
    },
    {
     "name": "stdout",
     "output_type": "stream",
     "text": [
      "Current parameters: factors=2439, iterations=10, regularization=0.7112785803413544, alpha=7.451105919812596\n"
     ]
    },
    {
     "name": "stderr",
     "output_type": "stream",
     "text": [
      "/var/folders/50/7hjr20g17_18p725nbt0qqv00000gn/T/ipykernel_81509/1016136916.py:9: FutureWarning: suggest_uniform has been deprecated in v3.0.0. This feature will be removed in v6.0.0. See https://github.com/optuna/optuna/releases/tag/v3.0.0. Use suggest_float instead.\n",
      "  alpha = trial.suggest_uniform(\"alpha\", 0.0, 20.0)  # Refined range for alpha\n",
      "/var/folders/50/7hjr20g17_18p725nbt0qqv00000gn/T/ipykernel_81509/1016136916.py:11: FutureWarning: suggest_uniform has been deprecated in v3.0.0. This feature will be removed in v6.0.0. See https://github.com/optuna/optuna/releases/tag/v3.0.0. Use suggest_float instead.\n",
      "  regularization = trial.suggest_uniform(\"regularization\", 0.1, 0.8)\n"
     ]
    },
    {
     "data": {
      "application/vnd.jupyter.widget-view+json": {
       "model_id": "7f6486b823a54319a2d94344bb92cee4",
       "version_major": 2,
       "version_minor": 0
      },
      "text/plain": [
       "  0%|          | 0/10 [00:00<?, ?it/s]"
      ]
     },
     "metadata": {},
     "output_type": "display_data"
    },
    {
     "name": "stdout",
     "output_type": "stream",
     "text": [
      "EvaluatorHoldout: Processed 35595 (100.0%) in 43.54 sec. Users per second: 818\n"
     ]
    },
    {
     "name": "stderr",
     "output_type": "stream",
     "text": [
      "[I 2024-12-30 05:18:11,654] Trial 17 finished with value: 0.04886909499951901 and parameters: {'factors': 2439, 'alpha': 7.451105919812596, 'regularization': 0.7112785803413544}. Best is trial 12 with value: 0.04903989435826635.\n"
     ]
    },
    {
     "name": "stdout",
     "output_type": "stream",
     "text": [
      "Current parameters: factors=2236, iterations=10, regularization=0.31646354740817206, alpha=10.35113297456701\n"
     ]
    },
    {
     "name": "stderr",
     "output_type": "stream",
     "text": [
      "/var/folders/50/7hjr20g17_18p725nbt0qqv00000gn/T/ipykernel_81509/1016136916.py:9: FutureWarning: suggest_uniform has been deprecated in v3.0.0. This feature will be removed in v6.0.0. See https://github.com/optuna/optuna/releases/tag/v3.0.0. Use suggest_float instead.\n",
      "  alpha = trial.suggest_uniform(\"alpha\", 0.0, 20.0)  # Refined range for alpha\n",
      "/var/folders/50/7hjr20g17_18p725nbt0qqv00000gn/T/ipykernel_81509/1016136916.py:11: FutureWarning: suggest_uniform has been deprecated in v3.0.0. This feature will be removed in v6.0.0. See https://github.com/optuna/optuna/releases/tag/v3.0.0. Use suggest_float instead.\n",
      "  regularization = trial.suggest_uniform(\"regularization\", 0.1, 0.8)\n"
     ]
    },
    {
     "data": {
      "application/vnd.jupyter.widget-view+json": {
       "model_id": "f0a7f2a8ceee4e17a2701eefd9737d5d",
       "version_major": 2,
       "version_minor": 0
      },
      "text/plain": [
       "  0%|          | 0/10 [00:00<?, ?it/s]"
      ]
     },
     "metadata": {},
     "output_type": "display_data"
    },
    {
     "name": "stdout",
     "output_type": "stream",
     "text": [
      "EvaluatorHoldout: Processed 35595 (100.0%) in 40.37 sec. Users per second: 882\n"
     ]
    },
    {
     "name": "stderr",
     "output_type": "stream",
     "text": [
      "[I 2024-12-30 05:32:46,920] Trial 18 finished with value: 0.04853624215992376 and parameters: {'factors': 2236, 'alpha': 10.35113297456701, 'regularization': 0.31646354740817206}. Best is trial 12 with value: 0.04903989435826635.\n"
     ]
    },
    {
     "name": "stdout",
     "output_type": "stream",
     "text": [
      "Current parameters: factors=2549, iterations=10, regularization=0.4750411737120978, alpha=11.054776000834003\n"
     ]
    },
    {
     "name": "stderr",
     "output_type": "stream",
     "text": [
      "/var/folders/50/7hjr20g17_18p725nbt0qqv00000gn/T/ipykernel_81509/1016136916.py:9: FutureWarning: suggest_uniform has been deprecated in v3.0.0. This feature will be removed in v6.0.0. See https://github.com/optuna/optuna/releases/tag/v3.0.0. Use suggest_float instead.\n",
      "  alpha = trial.suggest_uniform(\"alpha\", 0.0, 20.0)  # Refined range for alpha\n",
      "/var/folders/50/7hjr20g17_18p725nbt0qqv00000gn/T/ipykernel_81509/1016136916.py:11: FutureWarning: suggest_uniform has been deprecated in v3.0.0. This feature will be removed in v6.0.0. See https://github.com/optuna/optuna/releases/tag/v3.0.0. Use suggest_float instead.\n",
      "  regularization = trial.suggest_uniform(\"regularization\", 0.1, 0.8)\n"
     ]
    },
    {
     "data": {
      "application/vnd.jupyter.widget-view+json": {
       "model_id": "f3e69d16b02942c2b40cc97c6b193385",
       "version_major": 2,
       "version_minor": 0
      },
      "text/plain": [
       "  0%|          | 0/10 [00:00<?, ?it/s]"
      ]
     },
     "metadata": {},
     "output_type": "display_data"
    },
    {
     "name": "stdout",
     "output_type": "stream",
     "text": [
      "EvaluatorHoldout: Processed 35595 (100.0%) in 44.02 sec. Users per second: 809\n"
     ]
    },
    {
     "name": "stderr",
     "output_type": "stream",
     "text": [
      "[I 2024-12-30 05:51:56,538] Trial 19 finished with value: 0.04870914409683723 and parameters: {'factors': 2549, 'alpha': 11.054776000834003, 'regularization': 0.4750411737120978}. Best is trial 12 with value: 0.04903989435826635.\n"
     ]
    },
    {
     "name": "stdout",
     "output_type": "stream",
     "text": [
      "Current parameters: factors=2416, iterations=10, regularization=0.10459886618700798, alpha=7.397848400338885\n"
     ]
    },
    {
     "name": "stderr",
     "output_type": "stream",
     "text": [
      "/var/folders/50/7hjr20g17_18p725nbt0qqv00000gn/T/ipykernel_81509/1016136916.py:9: FutureWarning: suggest_uniform has been deprecated in v3.0.0. This feature will be removed in v6.0.0. See https://github.com/optuna/optuna/releases/tag/v3.0.0. Use suggest_float instead.\n",
      "  alpha = trial.suggest_uniform(\"alpha\", 0.0, 20.0)  # Refined range for alpha\n",
      "/var/folders/50/7hjr20g17_18p725nbt0qqv00000gn/T/ipykernel_81509/1016136916.py:11: FutureWarning: suggest_uniform has been deprecated in v3.0.0. This feature will be removed in v6.0.0. See https://github.com/optuna/optuna/releases/tag/v3.0.0. Use suggest_float instead.\n",
      "  regularization = trial.suggest_uniform(\"regularization\", 0.1, 0.8)\n"
     ]
    },
    {
     "data": {
      "application/vnd.jupyter.widget-view+json": {
       "model_id": "d79ac6e1037545629ddfe71384478419",
       "version_major": 2,
       "version_minor": 0
      },
      "text/plain": [
       "  0%|          | 0/10 [00:00<?, ?it/s]"
      ]
     },
     "metadata": {},
     "output_type": "display_data"
    },
    {
     "name": "stdout",
     "output_type": "stream",
     "text": [
      "EvaluatorHoldout: Processed 35595 (100.0%) in 43.51 sec. Users per second: 818\n"
     ]
    },
    {
     "name": "stderr",
     "output_type": "stream",
     "text": [
      "[I 2024-12-30 06:08:54,178] Trial 20 finished with value: 0.04860611442216816 and parameters: {'factors': 2416, 'alpha': 7.397848400338885, 'regularization': 0.10459886618700798}. Best is trial 12 with value: 0.04903989435826635.\n",
      "/var/folders/50/7hjr20g17_18p725nbt0qqv00000gn/T/ipykernel_81509/1016136916.py:9: FutureWarning: suggest_uniform has been deprecated in v3.0.0. This feature will be removed in v6.0.0. See https://github.com/optuna/optuna/releases/tag/v3.0.0. Use suggest_float instead.\n",
      "  alpha = trial.suggest_uniform(\"alpha\", 0.0, 20.0)  # Refined range for alpha\n",
      "/var/folders/50/7hjr20g17_18p725nbt0qqv00000gn/T/ipykernel_81509/1016136916.py:11: FutureWarning: suggest_uniform has been deprecated in v3.0.0. This feature will be removed in v6.0.0. See https://github.com/optuna/optuna/releases/tag/v3.0.0. Use suggest_float instead.\n",
      "  regularization = trial.suggest_uniform(\"regularization\", 0.1, 0.8)\n"
     ]
    },
    {
     "name": "stdout",
     "output_type": "stream",
     "text": [
      "Current parameters: factors=2445, iterations=10, regularization=0.7236255761463171, alpha=7.317121185647187\n"
     ]
    },
    {
     "data": {
      "application/vnd.jupyter.widget-view+json": {
       "model_id": "6604937012a945f0b0f746f8156a1a8c",
       "version_major": 2,
       "version_minor": 0
      },
      "text/plain": [
       "  0%|          | 0/10 [00:00<?, ?it/s]"
      ]
     },
     "metadata": {},
     "output_type": "display_data"
    },
    {
     "name": "stdout",
     "output_type": "stream",
     "text": [
      "EvaluatorHoldout: Processed 35595 (100.0%) in 42.14 sec. Users per second: 845\n"
     ]
    },
    {
     "name": "stderr",
     "output_type": "stream",
     "text": [
      "[I 2024-12-30 06:26:38,494] Trial 21 finished with value: 0.048737699471789714 and parameters: {'factors': 2445, 'alpha': 7.317121185647187, 'regularization': 0.7236255761463171}. Best is trial 12 with value: 0.04903989435826635.\n"
     ]
    },
    {
     "name": "stdout",
     "output_type": "stream",
     "text": [
      "Current parameters: factors=2232, iterations=10, regularization=0.5998396367356811, alpha=5.385962721543887\n"
     ]
    },
    {
     "name": "stderr",
     "output_type": "stream",
     "text": [
      "/var/folders/50/7hjr20g17_18p725nbt0qqv00000gn/T/ipykernel_81509/1016136916.py:9: FutureWarning: suggest_uniform has been deprecated in v3.0.0. This feature will be removed in v6.0.0. See https://github.com/optuna/optuna/releases/tag/v3.0.0. Use suggest_float instead.\n",
      "  alpha = trial.suggest_uniform(\"alpha\", 0.0, 20.0)  # Refined range for alpha\n",
      "/var/folders/50/7hjr20g17_18p725nbt0qqv00000gn/T/ipykernel_81509/1016136916.py:11: FutureWarning: suggest_uniform has been deprecated in v3.0.0. This feature will be removed in v6.0.0. See https://github.com/optuna/optuna/releases/tag/v3.0.0. Use suggest_float instead.\n",
      "  regularization = trial.suggest_uniform(\"regularization\", 0.1, 0.8)\n"
     ]
    },
    {
     "data": {
      "application/vnd.jupyter.widget-view+json": {
       "model_id": "395cec0127554ea9b946b01caf388ab2",
       "version_major": 2,
       "version_minor": 0
      },
      "text/plain": [
       "  0%|          | 0/10 [00:00<?, ?it/s]"
      ]
     },
     "metadata": {},
     "output_type": "display_data"
    },
    {
     "name": "stdout",
     "output_type": "stream",
     "text": [
      "EvaluatorHoldout: Processed 35595 (100.0%) in 40.31 sec. Users per second: 883\n"
     ]
    },
    {
     "name": "stderr",
     "output_type": "stream",
     "text": [
      "[I 2024-12-30 06:41:07,858] Trial 22 finished with value: 0.0487085131004203 and parameters: {'factors': 2232, 'alpha': 5.385962721543887, 'regularization': 0.5998396367356811}. Best is trial 12 with value: 0.04903989435826635.\n"
     ]
    },
    {
     "name": "stdout",
     "output_type": "stream",
     "text": [
      "Current parameters: factors=2407, iterations=10, regularization=0.7171056918708086, alpha=8.726140604481284\n"
     ]
    },
    {
     "name": "stderr",
     "output_type": "stream",
     "text": [
      "/var/folders/50/7hjr20g17_18p725nbt0qqv00000gn/T/ipykernel_81509/1016136916.py:9: FutureWarning: suggest_uniform has been deprecated in v3.0.0. This feature will be removed in v6.0.0. See https://github.com/optuna/optuna/releases/tag/v3.0.0. Use suggest_float instead.\n",
      "  alpha = trial.suggest_uniform(\"alpha\", 0.0, 20.0)  # Refined range for alpha\n",
      "/var/folders/50/7hjr20g17_18p725nbt0qqv00000gn/T/ipykernel_81509/1016136916.py:11: FutureWarning: suggest_uniform has been deprecated in v3.0.0. This feature will be removed in v6.0.0. See https://github.com/optuna/optuna/releases/tag/v3.0.0. Use suggest_float instead.\n",
      "  regularization = trial.suggest_uniform(\"regularization\", 0.1, 0.8)\n"
     ]
    },
    {
     "data": {
      "application/vnd.jupyter.widget-view+json": {
       "model_id": "c7c0ac0de18d4c529f958a4b78f8a23d",
       "version_major": 2,
       "version_minor": 0
      },
      "text/plain": [
       "  0%|          | 0/10 [00:00<?, ?it/s]"
      ]
     },
     "metadata": {},
     "output_type": "display_data"
    },
    {
     "name": "stdout",
     "output_type": "stream",
     "text": [
      "EvaluatorHoldout: Processed 35595 (100.0%) in 42.03 sec. Users per second: 847\n"
     ]
    },
    {
     "name": "stderr",
     "output_type": "stream",
     "text": [
      "[I 2024-12-30 06:58:18,797] Trial 23 finished with value: 0.048643089028464676 and parameters: {'factors': 2407, 'alpha': 8.726140604481284, 'regularization': 0.7171056918708086}. Best is trial 12 with value: 0.04903989435826635.\n"
     ]
    },
    {
     "name": "stdout",
     "output_type": "stream",
     "text": [
      "Current parameters: factors=2494, iterations=10, regularization=0.6439022304842867, alpha=3.2023479267084696\n"
     ]
    },
    {
     "name": "stderr",
     "output_type": "stream",
     "text": [
      "/var/folders/50/7hjr20g17_18p725nbt0qqv00000gn/T/ipykernel_81509/1016136916.py:9: FutureWarning: suggest_uniform has been deprecated in v3.0.0. This feature will be removed in v6.0.0. See https://github.com/optuna/optuna/releases/tag/v3.0.0. Use suggest_float instead.\n",
      "  alpha = trial.suggest_uniform(\"alpha\", 0.0, 20.0)  # Refined range for alpha\n",
      "/var/folders/50/7hjr20g17_18p725nbt0qqv00000gn/T/ipykernel_81509/1016136916.py:11: FutureWarning: suggest_uniform has been deprecated in v3.0.0. This feature will be removed in v6.0.0. See https://github.com/optuna/optuna/releases/tag/v3.0.0. Use suggest_float instead.\n",
      "  regularization = trial.suggest_uniform(\"regularization\", 0.1, 0.8)\n"
     ]
    },
    {
     "data": {
      "application/vnd.jupyter.widget-view+json": {
       "model_id": "14df546372564cc9b9dfd38216febf00",
       "version_major": 2,
       "version_minor": 0
      },
      "text/plain": [
       "  0%|          | 0/10 [00:00<?, ?it/s]"
      ]
     },
     "metadata": {},
     "output_type": "display_data"
    },
    {
     "name": "stdout",
     "output_type": "stream",
     "text": [
      "EvaluatorHoldout: Processed 35595 (100.0%) in 43.59 sec. Users per second: 817\n"
     ]
    },
    {
     "name": "stderr",
     "output_type": "stream",
     "text": [
      "[I 2024-12-30 07:16:55,703] Trial 24 finished with value: 0.048465609580441396 and parameters: {'factors': 2494, 'alpha': 3.2023479267084696, 'regularization': 0.6439022304842867}. Best is trial 12 with value: 0.04903989435826635.\n"
     ]
    },
    {
     "name": "stdout",
     "output_type": "stream",
     "text": [
      "Current parameters: factors=2359, iterations=10, regularization=0.5577012082039989, alpha=5.715992661911319\n"
     ]
    },
    {
     "name": "stderr",
     "output_type": "stream",
     "text": [
      "/var/folders/50/7hjr20g17_18p725nbt0qqv00000gn/T/ipykernel_81509/1016136916.py:9: FutureWarning: suggest_uniform has been deprecated in v3.0.0. This feature will be removed in v6.0.0. See https://github.com/optuna/optuna/releases/tag/v3.0.0. Use suggest_float instead.\n",
      "  alpha = trial.suggest_uniform(\"alpha\", 0.0, 20.0)  # Refined range for alpha\n",
      "/var/folders/50/7hjr20g17_18p725nbt0qqv00000gn/T/ipykernel_81509/1016136916.py:11: FutureWarning: suggest_uniform has been deprecated in v3.0.0. This feature will be removed in v6.0.0. See https://github.com/optuna/optuna/releases/tag/v3.0.0. Use suggest_float instead.\n",
      "  regularization = trial.suggest_uniform(\"regularization\", 0.1, 0.8)\n"
     ]
    },
    {
     "data": {
      "application/vnd.jupyter.widget-view+json": {
       "model_id": "9f276480fa564d119bd9fc536c1c750d",
       "version_major": 2,
       "version_minor": 0
      },
      "text/plain": [
       "  0%|          | 0/10 [00:00<?, ?it/s]"
      ]
     },
     "metadata": {},
     "output_type": "display_data"
    },
    {
     "name": "stdout",
     "output_type": "stream",
     "text": [
      "EvaluatorHoldout: Processed 35595 (100.0%) in 41.30 sec. Users per second: 862\n"
     ]
    },
    {
     "name": "stderr",
     "output_type": "stream",
     "text": [
      "[I 2024-12-30 07:33:25,887] Trial 25 finished with value: 0.048875126255023355 and parameters: {'factors': 2359, 'alpha': 5.715992661911319, 'regularization': 0.5577012082039989}. Best is trial 12 with value: 0.04903989435826635.\n"
     ]
    },
    {
     "name": "stdout",
     "output_type": "stream",
     "text": [
      "Current parameters: factors=2244, iterations=10, regularization=0.5551391781015578, alpha=5.9095999220077005\n"
     ]
    },
    {
     "name": "stderr",
     "output_type": "stream",
     "text": [
      "/var/folders/50/7hjr20g17_18p725nbt0qqv00000gn/T/ipykernel_81509/1016136916.py:9: FutureWarning: suggest_uniform has been deprecated in v3.0.0. This feature will be removed in v6.0.0. See https://github.com/optuna/optuna/releases/tag/v3.0.0. Use suggest_float instead.\n",
      "  alpha = trial.suggest_uniform(\"alpha\", 0.0, 20.0)  # Refined range for alpha\n",
      "/var/folders/50/7hjr20g17_18p725nbt0qqv00000gn/T/ipykernel_81509/1016136916.py:11: FutureWarning: suggest_uniform has been deprecated in v3.0.0. This feature will be removed in v6.0.0. See https://github.com/optuna/optuna/releases/tag/v3.0.0. Use suggest_float instead.\n",
      "  regularization = trial.suggest_uniform(\"regularization\", 0.1, 0.8)\n"
     ]
    },
    {
     "data": {
      "application/vnd.jupyter.widget-view+json": {
       "model_id": "8d7bb3843f8848a5b9219159af675392",
       "version_major": 2,
       "version_minor": 0
      },
      "text/plain": [
       "  0%|          | 0/10 [00:00<?, ?it/s]"
      ]
     },
     "metadata": {},
     "output_type": "display_data"
    },
    {
     "name": "stdout",
     "output_type": "stream",
     "text": [
      "EvaluatorHoldout: Processed 35595 (100.0%) in 42.15 sec. Users per second: 845\n"
     ]
    },
    {
     "name": "stderr",
     "output_type": "stream",
     "text": [
      "[I 2024-12-30 07:48:08,309] Trial 26 finished with value: 0.04891331491626322 and parameters: {'factors': 2244, 'alpha': 5.9095999220077005, 'regularization': 0.5551391781015578}. Best is trial 12 with value: 0.04903989435826635.\n"
     ]
    },
    {
     "name": "stdout",
     "output_type": "stream",
     "text": [
      "Current parameters: factors=2257, iterations=10, regularization=0.3469073026218443, alpha=3.1142380369927896\n"
     ]
    },
    {
     "name": "stderr",
     "output_type": "stream",
     "text": [
      "/var/folders/50/7hjr20g17_18p725nbt0qqv00000gn/T/ipykernel_81509/1016136916.py:9: FutureWarning: suggest_uniform has been deprecated in v3.0.0. This feature will be removed in v6.0.0. See https://github.com/optuna/optuna/releases/tag/v3.0.0. Use suggest_float instead.\n",
      "  alpha = trial.suggest_uniform(\"alpha\", 0.0, 20.0)  # Refined range for alpha\n",
      "/var/folders/50/7hjr20g17_18p725nbt0qqv00000gn/T/ipykernel_81509/1016136916.py:11: FutureWarning: suggest_uniform has been deprecated in v3.0.0. This feature will be removed in v6.0.0. See https://github.com/optuna/optuna/releases/tag/v3.0.0. Use suggest_float instead.\n",
      "  regularization = trial.suggest_uniform(\"regularization\", 0.1, 0.8)\n"
     ]
    },
    {
     "data": {
      "application/vnd.jupyter.widget-view+json": {
       "model_id": "26c85aed263b4e298d36c018e73e9bf8",
       "version_major": 2,
       "version_minor": 0
      },
      "text/plain": [
       "  0%|          | 0/10 [00:00<?, ?it/s]"
      ]
     },
     "metadata": {},
     "output_type": "display_data"
    },
    {
     "name": "stdout",
     "output_type": "stream",
     "text": [
      "EvaluatorHoldout: Processed 35595 (100.0%) in 42.91 sec. Users per second: 830\n"
     ]
    },
    {
     "name": "stderr",
     "output_type": "stream",
     "text": [
      "[I 2024-12-30 08:03:35,417] Trial 27 finished with value: 0.04842380662523803 and parameters: {'factors': 2257, 'alpha': 3.1142380369927896, 'regularization': 0.3469073026218443}. Best is trial 12 with value: 0.04903989435826635.\n"
     ]
    },
    {
     "name": "stdout",
     "output_type": "stream",
     "text": [
      "Current parameters: factors=2172, iterations=10, regularization=0.4801889707151802, alpha=11.28786636481863\n"
     ]
    },
    {
     "name": "stderr",
     "output_type": "stream",
     "text": [
      "/var/folders/50/7hjr20g17_18p725nbt0qqv00000gn/T/ipykernel_81509/1016136916.py:9: FutureWarning: suggest_uniform has been deprecated in v3.0.0. This feature will be removed in v6.0.0. See https://github.com/optuna/optuna/releases/tag/v3.0.0. Use suggest_float instead.\n",
      "  alpha = trial.suggest_uniform(\"alpha\", 0.0, 20.0)  # Refined range for alpha\n",
      "/var/folders/50/7hjr20g17_18p725nbt0qqv00000gn/T/ipykernel_81509/1016136916.py:11: FutureWarning: suggest_uniform has been deprecated in v3.0.0. This feature will be removed in v6.0.0. See https://github.com/optuna/optuna/releases/tag/v3.0.0. Use suggest_float instead.\n",
      "  regularization = trial.suggest_uniform(\"regularization\", 0.1, 0.8)\n"
     ]
    },
    {
     "data": {
      "application/vnd.jupyter.widget-view+json": {
       "model_id": "89c0c6de8c094bd2b0f8c5b52535f6dc",
       "version_major": 2,
       "version_minor": 0
      },
      "text/plain": [
       "  0%|          | 0/10 [00:00<?, ?it/s]"
      ]
     },
     "metadata": {},
     "output_type": "display_data"
    },
    {
     "name": "stdout",
     "output_type": "stream",
     "text": [
      "EvaluatorHoldout: Processed 35595 (100.0%) in 34.33 sec. Users per second: 1037\n"
     ]
    },
    {
     "name": "stderr",
     "output_type": "stream",
     "text": [
      "[I 2024-12-30 08:16:08,769] Trial 28 finished with value: 0.04844108321794619 and parameters: {'factors': 2172, 'alpha': 11.28786636481863, 'regularization': 0.4801889707151802}. Best is trial 12 with value: 0.04903989435826635.\n"
     ]
    },
    {
     "name": "stdout",
     "output_type": "stream",
     "text": [
      "Current parameters: factors=1992, iterations=10, regularization=0.36904037774094145, alpha=8.871717064355348\n"
     ]
    },
    {
     "name": "stderr",
     "output_type": "stream",
     "text": [
      "/var/folders/50/7hjr20g17_18p725nbt0qqv00000gn/T/ipykernel_81509/1016136916.py:9: FutureWarning: suggest_uniform has been deprecated in v3.0.0. This feature will be removed in v6.0.0. See https://github.com/optuna/optuna/releases/tag/v3.0.0. Use suggest_float instead.\n",
      "  alpha = trial.suggest_uniform(\"alpha\", 0.0, 20.0)  # Refined range for alpha\n",
      "/var/folders/50/7hjr20g17_18p725nbt0qqv00000gn/T/ipykernel_81509/1016136916.py:11: FutureWarning: suggest_uniform has been deprecated in v3.0.0. This feature will be removed in v6.0.0. See https://github.com/optuna/optuna/releases/tag/v3.0.0. Use suggest_float instead.\n",
      "  regularization = trial.suggest_uniform(\"regularization\", 0.1, 0.8)\n"
     ]
    },
    {
     "data": {
      "application/vnd.jupyter.widget-view+json": {
       "model_id": "4759cc79061b40d89d4a0179e75ffcd0",
       "version_major": 2,
       "version_minor": 0
      },
      "text/plain": [
       "  0%|          | 0/10 [00:00<?, ?it/s]"
      ]
     },
     "metadata": {},
     "output_type": "display_data"
    },
    {
     "name": "stdout",
     "output_type": "stream",
     "text": [
      "EvaluatorHoldout: Processed 35595 (100.0%) in 29.66 sec. Users per second: 1200\n"
     ]
    },
    {
     "name": "stderr",
     "output_type": "stream",
     "text": [
      "[I 2024-12-30 08:25:58,902] Trial 29 finished with value: 0.04862333304347469 and parameters: {'factors': 1992, 'alpha': 8.871717064355348, 'regularization': 0.36904037774094145}. Best is trial 12 with value: 0.04903989435826635.\n"
     ]
    },
    {
     "name": "stdout",
     "output_type": "stream",
     "text": [
      "Current parameters: factors=2317, iterations=10, regularization=0.4605894750275359, alpha=12.969917228988209\n"
     ]
    },
    {
     "name": "stderr",
     "output_type": "stream",
     "text": [
      "/var/folders/50/7hjr20g17_18p725nbt0qqv00000gn/T/ipykernel_81509/1016136916.py:9: FutureWarning: suggest_uniform has been deprecated in v3.0.0. This feature will be removed in v6.0.0. See https://github.com/optuna/optuna/releases/tag/v3.0.0. Use suggest_float instead.\n",
      "  alpha = trial.suggest_uniform(\"alpha\", 0.0, 20.0)  # Refined range for alpha\n",
      "/var/folders/50/7hjr20g17_18p725nbt0qqv00000gn/T/ipykernel_81509/1016136916.py:11: FutureWarning: suggest_uniform has been deprecated in v3.0.0. This feature will be removed in v6.0.0. See https://github.com/optuna/optuna/releases/tag/v3.0.0. Use suggest_float instead.\n",
      "  regularization = trial.suggest_uniform(\"regularization\", 0.1, 0.8)\n"
     ]
    },
    {
     "data": {
      "application/vnd.jupyter.widget-view+json": {
       "model_id": "d7653e80b2924ace9dd2caceaba19aac",
       "version_major": 2,
       "version_minor": 0
      },
      "text/plain": [
       "  0%|          | 0/10 [00:00<?, ?it/s]"
      ]
     },
     "metadata": {},
     "output_type": "display_data"
    },
    {
     "name": "stdout",
     "output_type": "stream",
     "text": [
      "EvaluatorHoldout: Processed 35595 (100.0%) in 31.92 sec. Users per second: 1115\n"
     ]
    },
    {
     "name": "stderr",
     "output_type": "stream",
     "text": [
      "[I 2024-12-30 08:39:11,025] Trial 30 finished with value: 0.048498284269458375 and parameters: {'factors': 2317, 'alpha': 12.969917228988209, 'regularization': 0.4605894750275359}. Best is trial 12 with value: 0.04903989435826635.\n"
     ]
    },
    {
     "name": "stdout",
     "output_type": "stream",
     "text": [
      "Current parameters: factors=2376, iterations=10, regularization=0.5573321733599919, alpha=5.892355300685465\n"
     ]
    },
    {
     "name": "stderr",
     "output_type": "stream",
     "text": [
      "/var/folders/50/7hjr20g17_18p725nbt0qqv00000gn/T/ipykernel_81509/1016136916.py:9: FutureWarning: suggest_uniform has been deprecated in v3.0.0. This feature will be removed in v6.0.0. See https://github.com/optuna/optuna/releases/tag/v3.0.0. Use suggest_float instead.\n",
      "  alpha = trial.suggest_uniform(\"alpha\", 0.0, 20.0)  # Refined range for alpha\n",
      "/var/folders/50/7hjr20g17_18p725nbt0qqv00000gn/T/ipykernel_81509/1016136916.py:11: FutureWarning: suggest_uniform has been deprecated in v3.0.0. This feature will be removed in v6.0.0. See https://github.com/optuna/optuna/releases/tag/v3.0.0. Use suggest_float instead.\n",
      "  regularization = trial.suggest_uniform(\"regularization\", 0.1, 0.8)\n"
     ]
    },
    {
     "data": {
      "application/vnd.jupyter.widget-view+json": {
       "model_id": "c4fca16dfa324844921fcfb4002fceb5",
       "version_major": 2,
       "version_minor": 0
      },
      "text/plain": [
       "  0%|          | 0/10 [00:00<?, ?it/s]"
      ]
     },
     "metadata": {},
     "output_type": "display_data"
    },
    {
     "name": "stdout",
     "output_type": "stream",
     "text": [
      "EvaluatorHoldout: Processed 35595 (100.0%) in 35.28 sec. Users per second: 1009\n"
     ]
    },
    {
     "name": "stderr",
     "output_type": "stream",
     "text": [
      "[I 2024-12-30 08:54:29,534] Trial 31 finished with value: 0.04880997977689764 and parameters: {'factors': 2376, 'alpha': 5.892355300685465, 'regularization': 0.5573321733599919}. Best is trial 12 with value: 0.04903989435826635.\n"
     ]
    },
    {
     "name": "stdout",
     "output_type": "stream",
     "text": [
      "Current parameters: factors=2514, iterations=10, regularization=0.5687047485194247, alpha=4.471317069433278\n"
     ]
    },
    {
     "name": "stderr",
     "output_type": "stream",
     "text": [
      "/var/folders/50/7hjr20g17_18p725nbt0qqv00000gn/T/ipykernel_81509/1016136916.py:9: FutureWarning: suggest_uniform has been deprecated in v3.0.0. This feature will be removed in v6.0.0. See https://github.com/optuna/optuna/releases/tag/v3.0.0. Use suggest_float instead.\n",
      "  alpha = trial.suggest_uniform(\"alpha\", 0.0, 20.0)  # Refined range for alpha\n",
      "/var/folders/50/7hjr20g17_18p725nbt0qqv00000gn/T/ipykernel_81509/1016136916.py:11: FutureWarning: suggest_uniform has been deprecated in v3.0.0. This feature will be removed in v6.0.0. See https://github.com/optuna/optuna/releases/tag/v3.0.0. Use suggest_float instead.\n",
      "  regularization = trial.suggest_uniform(\"regularization\", 0.1, 0.8)\n"
     ]
    },
    {
     "data": {
      "application/vnd.jupyter.widget-view+json": {
       "model_id": "3ad8b05e5be641f48d1bd6ec964ecce0",
       "version_major": 2,
       "version_minor": 0
      },
      "text/plain": [
       "  0%|          | 0/10 [00:00<?, ?it/s]"
      ]
     },
     "metadata": {},
     "output_type": "display_data"
    },
    {
     "name": "stderr",
     "output_type": "stream",
     "text": [
      "[W 2024-12-30 09:10:51,028] Trial 32 failed with parameters: {'factors': 2514, 'alpha': 4.471317069433278, 'regularization': 0.5687047485194247} because of the following error: KeyboardInterrupt().\n",
      "Traceback (most recent call last):\n",
      "  File \"/Users/lucapagano/miniconda3/envs/RecSysPD/lib/python3.8/site-packages/optuna/study/_optimize.py\", line 197, in _run_trial\n",
      "    value_or_values = func(trial)\n",
      "  File \"/var/folders/50/7hjr20g17_18p725nbt0qqv00000gn/T/ipykernel_81509/1016136916.py\", line 16, in objective_function\n",
      "    recommender.fit(iterations=iterations, factors=factors, regularization=regularization, use_gpu=False, num_threads=0, confidence_scaling=\"linear\", **{\"alpha\":alpha})\n",
      "  File \"/Users/lucapagano/Developer/RecSys/Competizione/Recommenders/MatrixFactorization/ImplicitALSRecommender.py\", line 76, in fit\n",
      "    use_native=use_native, use_cg=use_cg, use_gpu=use_gpu,\n",
      "  File \"/Users/lucapagano/miniconda3/envs/RecSysPD/lib/python3.8/site-packages/implicit/cpu/als.py\", line 163, in fit\n",
      "    solver(\n",
      "KeyboardInterrupt\n",
      "[W 2024-12-30 09:10:51,048] Trial 32 failed with value None.\n"
     ]
    },
    {
     "ename": "KeyboardInterrupt",
     "evalue": "",
     "output_type": "error",
     "traceback": [
      "\u001b[0;31m---------------------------------------------------------------------------\u001b[0m",
      "\u001b[0;31mKeyboardInterrupt\u001b[0m                         Traceback (most recent call last)",
      "Cell \u001b[0;32mIn[67], line 41\u001b[0m\n\u001b[1;32m     37\u001b[0m optuna_study \u001b[38;5;241m=\u001b[39m optuna\u001b[38;5;241m.\u001b[39mcreate_study(study_name\u001b[38;5;241m=\u001b[39m\u001b[38;5;124m\"\u001b[39m\u001b[38;5;124mIALS\u001b[39m\u001b[38;5;124m\"\u001b[39m, direction\u001b[38;5;241m=\u001b[39m\u001b[38;5;124m\"\u001b[39m\u001b[38;5;124mmaximize\u001b[39m\u001b[38;5;124m\"\u001b[39m)\n\u001b[1;32m     39\u001b[0m save_results \u001b[38;5;241m=\u001b[39m SaveResults()\n\u001b[0;32m---> 41\u001b[0m \u001b[43moptuna_study\u001b[49m\u001b[38;5;241;43m.\u001b[39;49m\u001b[43moptimize\u001b[49m\u001b[43m(\u001b[49m\u001b[43mobjective_function\u001b[49m\u001b[43m,\u001b[49m\n\u001b[1;32m     42\u001b[0m \u001b[43m                      \u001b[49m\u001b[43mcallbacks\u001b[49m\u001b[38;5;241;43m=\u001b[39;49m\u001b[43m[\u001b[49m\u001b[43msave_results\u001b[49m\u001b[43m]\u001b[49m\u001b[43m,\u001b[49m\n\u001b[1;32m     43\u001b[0m \u001b[43m                      \u001b[49m\u001b[43mn_trials\u001b[49m\u001b[43m \u001b[49m\u001b[38;5;241;43m=\u001b[39;49m\u001b[43m \u001b[49m\u001b[38;5;241;43m100\u001b[39;49m\u001b[43m,\u001b[49m\n\u001b[1;32m     44\u001b[0m \u001b[43m                      \u001b[49m\u001b[43m)\u001b[49m\n",
      "File \u001b[0;32m~/miniconda3/envs/RecSysPD/lib/python3.8/site-packages/optuna/study/study.py:475\u001b[0m, in \u001b[0;36mStudy.optimize\u001b[0;34m(self, func, n_trials, timeout, n_jobs, catch, callbacks, gc_after_trial, show_progress_bar)\u001b[0m\n\u001b[1;32m    373\u001b[0m \u001b[38;5;28;01mdef\u001b[39;00m \u001b[38;5;21moptimize\u001b[39m(\n\u001b[1;32m    374\u001b[0m     \u001b[38;5;28mself\u001b[39m,\n\u001b[1;32m    375\u001b[0m     func: ObjectiveFuncType,\n\u001b[0;32m   (...)\u001b[0m\n\u001b[1;32m    382\u001b[0m     show_progress_bar: \u001b[38;5;28mbool\u001b[39m \u001b[38;5;241m=\u001b[39m \u001b[38;5;28;01mFalse\u001b[39;00m,\n\u001b[1;32m    383\u001b[0m ) \u001b[38;5;241m-\u001b[39m\u001b[38;5;241m>\u001b[39m \u001b[38;5;28;01mNone\u001b[39;00m:\n\u001b[1;32m    384\u001b[0m \u001b[38;5;250m    \u001b[39m\u001b[38;5;124;03m\"\"\"Optimize an objective function.\u001b[39;00m\n\u001b[1;32m    385\u001b[0m \n\u001b[1;32m    386\u001b[0m \u001b[38;5;124;03m    Optimization is done by choosing a suitable set of hyperparameter values from a given\u001b[39;00m\n\u001b[0;32m   (...)\u001b[0m\n\u001b[1;32m    473\u001b[0m \u001b[38;5;124;03m            If nested invocation of this method occurs.\u001b[39;00m\n\u001b[1;32m    474\u001b[0m \u001b[38;5;124;03m    \"\"\"\u001b[39;00m\n\u001b[0;32m--> 475\u001b[0m     \u001b[43m_optimize\u001b[49m\u001b[43m(\u001b[49m\n\u001b[1;32m    476\u001b[0m \u001b[43m        \u001b[49m\u001b[43mstudy\u001b[49m\u001b[38;5;241;43m=\u001b[39;49m\u001b[38;5;28;43mself\u001b[39;49m\u001b[43m,\u001b[49m\n\u001b[1;32m    477\u001b[0m \u001b[43m        \u001b[49m\u001b[43mfunc\u001b[49m\u001b[38;5;241;43m=\u001b[39;49m\u001b[43mfunc\u001b[49m\u001b[43m,\u001b[49m\n\u001b[1;32m    478\u001b[0m \u001b[43m        \u001b[49m\u001b[43mn_trials\u001b[49m\u001b[38;5;241;43m=\u001b[39;49m\u001b[43mn_trials\u001b[49m\u001b[43m,\u001b[49m\n\u001b[1;32m    479\u001b[0m \u001b[43m        \u001b[49m\u001b[43mtimeout\u001b[49m\u001b[38;5;241;43m=\u001b[39;49m\u001b[43mtimeout\u001b[49m\u001b[43m,\u001b[49m\n\u001b[1;32m    480\u001b[0m \u001b[43m        \u001b[49m\u001b[43mn_jobs\u001b[49m\u001b[38;5;241;43m=\u001b[39;49m\u001b[43mn_jobs\u001b[49m\u001b[43m,\u001b[49m\n\u001b[1;32m    481\u001b[0m \u001b[43m        \u001b[49m\u001b[43mcatch\u001b[49m\u001b[38;5;241;43m=\u001b[39;49m\u001b[38;5;28;43mtuple\u001b[39;49m\u001b[43m(\u001b[49m\u001b[43mcatch\u001b[49m\u001b[43m)\u001b[49m\u001b[43m \u001b[49m\u001b[38;5;28;43;01mif\u001b[39;49;00m\u001b[43m \u001b[49m\u001b[38;5;28;43misinstance\u001b[39;49m\u001b[43m(\u001b[49m\u001b[43mcatch\u001b[49m\u001b[43m,\u001b[49m\u001b[43m \u001b[49m\u001b[43mIterable\u001b[49m\u001b[43m)\u001b[49m\u001b[43m \u001b[49m\u001b[38;5;28;43;01melse\u001b[39;49;00m\u001b[43m \u001b[49m\u001b[43m(\u001b[49m\u001b[43mcatch\u001b[49m\u001b[43m,\u001b[49m\u001b[43m)\u001b[49m\u001b[43m,\u001b[49m\n\u001b[1;32m    482\u001b[0m \u001b[43m        \u001b[49m\u001b[43mcallbacks\u001b[49m\u001b[38;5;241;43m=\u001b[39;49m\u001b[43mcallbacks\u001b[49m\u001b[43m,\u001b[49m\n\u001b[1;32m    483\u001b[0m \u001b[43m        \u001b[49m\u001b[43mgc_after_trial\u001b[49m\u001b[38;5;241;43m=\u001b[39;49m\u001b[43mgc_after_trial\u001b[49m\u001b[43m,\u001b[49m\n\u001b[1;32m    484\u001b[0m \u001b[43m        \u001b[49m\u001b[43mshow_progress_bar\u001b[49m\u001b[38;5;241;43m=\u001b[39;49m\u001b[43mshow_progress_bar\u001b[49m\u001b[43m,\u001b[49m\n\u001b[1;32m    485\u001b[0m \u001b[43m    \u001b[49m\u001b[43m)\u001b[49m\n",
      "File \u001b[0;32m~/miniconda3/envs/RecSysPD/lib/python3.8/site-packages/optuna/study/_optimize.py:63\u001b[0m, in \u001b[0;36m_optimize\u001b[0;34m(study, func, n_trials, timeout, n_jobs, catch, callbacks, gc_after_trial, show_progress_bar)\u001b[0m\n\u001b[1;32m     61\u001b[0m \u001b[38;5;28;01mtry\u001b[39;00m:\n\u001b[1;32m     62\u001b[0m     \u001b[38;5;28;01mif\u001b[39;00m n_jobs \u001b[38;5;241m==\u001b[39m \u001b[38;5;241m1\u001b[39m:\n\u001b[0;32m---> 63\u001b[0m         \u001b[43m_optimize_sequential\u001b[49m\u001b[43m(\u001b[49m\n\u001b[1;32m     64\u001b[0m \u001b[43m            \u001b[49m\u001b[43mstudy\u001b[49m\u001b[43m,\u001b[49m\n\u001b[1;32m     65\u001b[0m \u001b[43m            \u001b[49m\u001b[43mfunc\u001b[49m\u001b[43m,\u001b[49m\n\u001b[1;32m     66\u001b[0m \u001b[43m            \u001b[49m\u001b[43mn_trials\u001b[49m\u001b[43m,\u001b[49m\n\u001b[1;32m     67\u001b[0m \u001b[43m            \u001b[49m\u001b[43mtimeout\u001b[49m\u001b[43m,\u001b[49m\n\u001b[1;32m     68\u001b[0m \u001b[43m            \u001b[49m\u001b[43mcatch\u001b[49m\u001b[43m,\u001b[49m\n\u001b[1;32m     69\u001b[0m \u001b[43m            \u001b[49m\u001b[43mcallbacks\u001b[49m\u001b[43m,\u001b[49m\n\u001b[1;32m     70\u001b[0m \u001b[43m            \u001b[49m\u001b[43mgc_after_trial\u001b[49m\u001b[43m,\u001b[49m\n\u001b[1;32m     71\u001b[0m \u001b[43m            \u001b[49m\u001b[43mreseed_sampler_rng\u001b[49m\u001b[38;5;241;43m=\u001b[39;49m\u001b[38;5;28;43;01mFalse\u001b[39;49;00m\u001b[43m,\u001b[49m\n\u001b[1;32m     72\u001b[0m \u001b[43m            \u001b[49m\u001b[43mtime_start\u001b[49m\u001b[38;5;241;43m=\u001b[39;49m\u001b[38;5;28;43;01mNone\u001b[39;49;00m\u001b[43m,\u001b[49m\n\u001b[1;32m     73\u001b[0m \u001b[43m            \u001b[49m\u001b[43mprogress_bar\u001b[49m\u001b[38;5;241;43m=\u001b[39;49m\u001b[43mprogress_bar\u001b[49m\u001b[43m,\u001b[49m\n\u001b[1;32m     74\u001b[0m \u001b[43m        \u001b[49m\u001b[43m)\u001b[49m\n\u001b[1;32m     75\u001b[0m     \u001b[38;5;28;01melse\u001b[39;00m:\n\u001b[1;32m     76\u001b[0m         \u001b[38;5;28;01mif\u001b[39;00m n_jobs \u001b[38;5;241m==\u001b[39m \u001b[38;5;241m-\u001b[39m\u001b[38;5;241m1\u001b[39m:\n",
      "File \u001b[0;32m~/miniconda3/envs/RecSysPD/lib/python3.8/site-packages/optuna/study/_optimize.py:160\u001b[0m, in \u001b[0;36m_optimize_sequential\u001b[0;34m(study, func, n_trials, timeout, catch, callbacks, gc_after_trial, reseed_sampler_rng, time_start, progress_bar)\u001b[0m\n\u001b[1;32m    157\u001b[0m         \u001b[38;5;28;01mbreak\u001b[39;00m\n\u001b[1;32m    159\u001b[0m \u001b[38;5;28;01mtry\u001b[39;00m:\n\u001b[0;32m--> 160\u001b[0m     frozen_trial \u001b[38;5;241m=\u001b[39m \u001b[43m_run_trial\u001b[49m\u001b[43m(\u001b[49m\u001b[43mstudy\u001b[49m\u001b[43m,\u001b[49m\u001b[43m \u001b[49m\u001b[43mfunc\u001b[49m\u001b[43m,\u001b[49m\u001b[43m \u001b[49m\u001b[43mcatch\u001b[49m\u001b[43m)\u001b[49m\n\u001b[1;32m    161\u001b[0m \u001b[38;5;28;01mfinally\u001b[39;00m:\n\u001b[1;32m    162\u001b[0m     \u001b[38;5;66;03m# The following line mitigates memory problems that can be occurred in some\u001b[39;00m\n\u001b[1;32m    163\u001b[0m     \u001b[38;5;66;03m# environments (e.g., services that use computing containers such as GitHub Actions).\u001b[39;00m\n\u001b[1;32m    164\u001b[0m     \u001b[38;5;66;03m# Please refer to the following PR for further details:\u001b[39;00m\n\u001b[1;32m    165\u001b[0m     \u001b[38;5;66;03m# https://github.com/optuna/optuna/pull/325.\u001b[39;00m\n\u001b[1;32m    166\u001b[0m     \u001b[38;5;28;01mif\u001b[39;00m gc_after_trial:\n",
      "File \u001b[0;32m~/miniconda3/envs/RecSysPD/lib/python3.8/site-packages/optuna/study/_optimize.py:248\u001b[0m, in \u001b[0;36m_run_trial\u001b[0;34m(study, func, catch)\u001b[0m\n\u001b[1;32m    241\u001b[0m         \u001b[38;5;28;01massert\u001b[39;00m \u001b[38;5;28;01mFalse\u001b[39;00m, \u001b[38;5;124m\"\u001b[39m\u001b[38;5;124mShould not reach.\u001b[39m\u001b[38;5;124m\"\u001b[39m\n\u001b[1;32m    243\u001b[0m \u001b[38;5;28;01mif\u001b[39;00m (\n\u001b[1;32m    244\u001b[0m     frozen_trial\u001b[38;5;241m.\u001b[39mstate \u001b[38;5;241m==\u001b[39m TrialState\u001b[38;5;241m.\u001b[39mFAIL\n\u001b[1;32m    245\u001b[0m     \u001b[38;5;129;01mand\u001b[39;00m func_err \u001b[38;5;129;01mis\u001b[39;00m \u001b[38;5;129;01mnot\u001b[39;00m \u001b[38;5;28;01mNone\u001b[39;00m\n\u001b[1;32m    246\u001b[0m     \u001b[38;5;129;01mand\u001b[39;00m \u001b[38;5;129;01mnot\u001b[39;00m \u001b[38;5;28misinstance\u001b[39m(func_err, catch)\n\u001b[1;32m    247\u001b[0m ):\n\u001b[0;32m--> 248\u001b[0m     \u001b[38;5;28;01mraise\u001b[39;00m func_err\n\u001b[1;32m    249\u001b[0m \u001b[38;5;28;01mreturn\u001b[39;00m frozen_trial\n",
      "File \u001b[0;32m~/miniconda3/envs/RecSysPD/lib/python3.8/site-packages/optuna/study/_optimize.py:197\u001b[0m, in \u001b[0;36m_run_trial\u001b[0;34m(study, func, catch)\u001b[0m\n\u001b[1;32m    195\u001b[0m \u001b[38;5;28;01mwith\u001b[39;00m get_heartbeat_thread(trial\u001b[38;5;241m.\u001b[39m_trial_id, study\u001b[38;5;241m.\u001b[39m_storage):\n\u001b[1;32m    196\u001b[0m     \u001b[38;5;28;01mtry\u001b[39;00m:\n\u001b[0;32m--> 197\u001b[0m         value_or_values \u001b[38;5;241m=\u001b[39m \u001b[43mfunc\u001b[49m\u001b[43m(\u001b[49m\u001b[43mtrial\u001b[49m\u001b[43m)\u001b[49m\n\u001b[1;32m    198\u001b[0m     \u001b[38;5;28;01mexcept\u001b[39;00m exceptions\u001b[38;5;241m.\u001b[39mTrialPruned \u001b[38;5;28;01mas\u001b[39;00m e:\n\u001b[1;32m    199\u001b[0m         \u001b[38;5;66;03m# TODO(mamu): Handle multi-objective cases.\u001b[39;00m\n\u001b[1;32m    200\u001b[0m         state \u001b[38;5;241m=\u001b[39m TrialState\u001b[38;5;241m.\u001b[39mPRUNED\n",
      "Cell \u001b[0;32mIn[67], line 16\u001b[0m, in \u001b[0;36mobjective_function\u001b[0;34m(trial)\u001b[0m\n\u001b[1;32m     14\u001b[0m \u001b[38;5;28mprint\u001b[39m(\u001b[38;5;124mf\u001b[39m\u001b[38;5;124m\"\u001b[39m\u001b[38;5;124mCurrent parameters: factors=\u001b[39m\u001b[38;5;132;01m{\u001b[39;00mfactors\u001b[38;5;132;01m}\u001b[39;00m\u001b[38;5;124m, iterations=\u001b[39m\u001b[38;5;132;01m{\u001b[39;00miterations\u001b[38;5;132;01m}\u001b[39;00m\u001b[38;5;124m, regularization=\u001b[39m\u001b[38;5;132;01m{\u001b[39;00mregularization\u001b[38;5;132;01m}\u001b[39;00m\u001b[38;5;124m, alpha=\u001b[39m\u001b[38;5;132;01m{\u001b[39;00malpha\u001b[38;5;132;01m}\u001b[39;00m\u001b[38;5;124m\"\u001b[39m)\n\u001b[1;32m     15\u001b[0m recommender \u001b[38;5;241m=\u001b[39m ImplicitALSRecommender(URM_train_validation)\n\u001b[0;32m---> 16\u001b[0m \u001b[43mrecommender\u001b[49m\u001b[38;5;241;43m.\u001b[39;49m\u001b[43mfit\u001b[49m\u001b[43m(\u001b[49m\u001b[43miterations\u001b[49m\u001b[38;5;241;43m=\u001b[39;49m\u001b[43miterations\u001b[49m\u001b[43m,\u001b[49m\u001b[43m \u001b[49m\u001b[43mfactors\u001b[49m\u001b[38;5;241;43m=\u001b[39;49m\u001b[43mfactors\u001b[49m\u001b[43m,\u001b[49m\u001b[43m \u001b[49m\u001b[43mregularization\u001b[49m\u001b[38;5;241;43m=\u001b[39;49m\u001b[43mregularization\u001b[49m\u001b[43m,\u001b[49m\u001b[43m \u001b[49m\u001b[43muse_gpu\u001b[49m\u001b[38;5;241;43m=\u001b[39;49m\u001b[38;5;28;43;01mFalse\u001b[39;49;00m\u001b[43m,\u001b[49m\u001b[43m \u001b[49m\u001b[43mnum_threads\u001b[49m\u001b[38;5;241;43m=\u001b[39;49m\u001b[38;5;241;43m0\u001b[39;49m\u001b[43m,\u001b[49m\u001b[43m \u001b[49m\u001b[43mconfidence_scaling\u001b[49m\u001b[38;5;241;43m=\u001b[39;49m\u001b[38;5;124;43m\"\u001b[39;49m\u001b[38;5;124;43mlinear\u001b[39;49m\u001b[38;5;124;43m\"\u001b[39;49m\u001b[43m,\u001b[49m\u001b[43m \u001b[49m\u001b[38;5;241;43m*\u001b[39;49m\u001b[38;5;241;43m*\u001b[39;49m\u001b[43m{\u001b[49m\u001b[38;5;124;43m\"\u001b[39;49m\u001b[38;5;124;43malpha\u001b[39;49m\u001b[38;5;124;43m\"\u001b[39;49m\u001b[43m:\u001b[49m\u001b[43malpha\u001b[49m\u001b[43m}\u001b[49m\u001b[43m)\u001b[49m\n\u001b[1;32m     18\u001b[0m result_dict, _ \u001b[38;5;241m=\u001b[39m evaluator_test\u001b[38;5;241m.\u001b[39mevaluateRecommender(recommender)\n\u001b[1;32m     20\u001b[0m MAP \u001b[38;5;241m=\u001b[39m result_dict\u001b[38;5;241m.\u001b[39mloc[\u001b[38;5;241m10\u001b[39m][\u001b[38;5;124m\"\u001b[39m\u001b[38;5;124mMAP\u001b[39m\u001b[38;5;124m\"\u001b[39m]\n",
      "File \u001b[0;32m~/Developer/RecSys/Competizione/Recommenders/MatrixFactorization/ImplicitALSRecommender.py:76\u001b[0m, in \u001b[0;36mfit\u001b[0;34m(self, factors, regularization, use_native, use_cg, use_gpu, iterations, calculate_training_loss, num_threads, confidence_scaling, icm_coeff, **confidence_args)\u001b[0m\n\u001b[1;32m     65\u001b[0m \u001b[38;5;28;01mdef\u001b[39;00m \u001b[38;5;21mfit\u001b[39m(\u001b[38;5;28mself\u001b[39m,\n\u001b[1;32m     66\u001b[0m         factors\u001b[38;5;241m=\u001b[39m\u001b[38;5;241m100\u001b[39m,\n\u001b[1;32m     67\u001b[0m         regularization\u001b[38;5;241m=\u001b[39m\u001b[38;5;241m0.01\u001b[39m,\n\u001b[0;32m   (...)\u001b[0m\n\u001b[1;32m     73\u001b[0m         \u001b[38;5;241m*\u001b[39m\u001b[38;5;241m*\u001b[39mconfidence_args\n\u001b[1;32m     74\u001b[0m         ):\n\u001b[1;32m     75\u001b[0m     \u001b[38;5;28mself\u001b[39m\u001b[38;5;241m.\u001b[39mrec \u001b[38;5;241m=\u001b[39m implicit\u001b[38;5;241m.\u001b[39mals\u001b[38;5;241m.\u001b[39mAlternatingLeastSquares(factors\u001b[38;5;241m=\u001b[39mfactors, regularization\u001b[38;5;241m=\u001b[39mregularization,\n\u001b[0;32m---> 76\u001b[0m                                                     use_native\u001b[38;5;241m=\u001b[39muse_native, use_cg\u001b[38;5;241m=\u001b[39muse_cg, use_gpu\u001b[38;5;241m=\u001b[39muse_gpu,\n\u001b[1;32m     77\u001b[0m                                                     iterations\u001b[38;5;241m=\u001b[39miterations,\n\u001b[1;32m     78\u001b[0m                                                     calculate_training_loss\u001b[38;5;241m=\u001b[39mcalculate_training_loss,\n\u001b[1;32m     79\u001b[0m                                                     num_threads\u001b[38;5;241m=\u001b[39mnum_threads,\n\u001b[1;32m     80\u001b[0m                                                     random_state\u001b[38;5;241m=\u001b[39m\u001b[38;5;241m42\u001b[39m)\n\u001b[1;32m     81\u001b[0m     tmp \u001b[38;5;241m=\u001b[39m \u001b[38;5;28mself\u001b[39m\u001b[38;5;241m.\u001b[39mlinear_scaling_confidence(\u001b[38;5;241m*\u001b[39m\u001b[38;5;241m*\u001b[39mconfidence_args)\n\u001b[1;32m     83\u001b[0m     \u001b[38;5;28mself\u001b[39m\u001b[38;5;241m.\u001b[39mrec\u001b[38;5;241m.\u001b[39mfit(tmp, show_progress\u001b[38;5;241m=\u001b[39m\u001b[38;5;28mself\u001b[39m\u001b[38;5;241m.\u001b[39mverbose)\n",
      "File \u001b[0;32m~/miniconda3/envs/RecSysPD/lib/python3.8/site-packages/implicit/cpu/als.py:163\u001b[0m, in \u001b[0;36mAlternatingLeastSquares.fit\u001b[0;34m(self, user_items, show_progress, callback)\u001b[0m\n\u001b[1;32m    161\u001b[0m \u001b[38;5;28;01mfor\u001b[39;00m iteration \u001b[38;5;129;01min\u001b[39;00m \u001b[38;5;28mrange\u001b[39m(\u001b[38;5;28mself\u001b[39m\u001b[38;5;241m.\u001b[39miterations):\n\u001b[1;32m    162\u001b[0m     s \u001b[38;5;241m=\u001b[39m time\u001b[38;5;241m.\u001b[39mtime()\n\u001b[0;32m--> 163\u001b[0m     \u001b[43msolver\u001b[49m\u001b[43m(\u001b[49m\n\u001b[1;32m    164\u001b[0m \u001b[43m        \u001b[49m\u001b[43mCui\u001b[49m\u001b[43m,\u001b[49m\n\u001b[1;32m    165\u001b[0m \u001b[43m        \u001b[49m\u001b[38;5;28;43mself\u001b[39;49m\u001b[38;5;241;43m.\u001b[39;49m\u001b[43muser_factors\u001b[49m\u001b[43m,\u001b[49m\n\u001b[1;32m    166\u001b[0m \u001b[43m        \u001b[49m\u001b[38;5;28;43mself\u001b[39;49m\u001b[38;5;241;43m.\u001b[39;49m\u001b[43mitem_factors\u001b[49m\u001b[43m,\u001b[49m\n\u001b[1;32m    167\u001b[0m \u001b[43m        \u001b[49m\u001b[38;5;28;43mself\u001b[39;49m\u001b[38;5;241;43m.\u001b[39;49m\u001b[43mregularization\u001b[49m\u001b[43m,\u001b[49m\n\u001b[1;32m    168\u001b[0m \u001b[43m        \u001b[49m\u001b[43mnum_threads\u001b[49m\u001b[38;5;241;43m=\u001b[39;49m\u001b[38;5;28;43mself\u001b[39;49m\u001b[38;5;241;43m.\u001b[39;49m\u001b[43mnum_threads\u001b[49m\u001b[43m,\u001b[49m\n\u001b[1;32m    169\u001b[0m \u001b[43m    \u001b[49m\u001b[43m)\u001b[49m\n\u001b[1;32m    170\u001b[0m     solver(\n\u001b[1;32m    171\u001b[0m         Ciu,\n\u001b[1;32m    172\u001b[0m         \u001b[38;5;28mself\u001b[39m\u001b[38;5;241m.\u001b[39mitem_factors,\n\u001b[0;32m   (...)\u001b[0m\n\u001b[1;32m    175\u001b[0m         num_threads\u001b[38;5;241m=\u001b[39m\u001b[38;5;28mself\u001b[39m\u001b[38;5;241m.\u001b[39mnum_threads,\n\u001b[1;32m    176\u001b[0m     )\n\u001b[1;32m    177\u001b[0m     progress\u001b[38;5;241m.\u001b[39mupdate(\u001b[38;5;241m1\u001b[39m)\n",
      "\u001b[0;31mKeyboardInterrupt\u001b[0m: "
     ]
    }
   ],
   "source": [
    "# too slow -> from Recommenders.MatrixFactorization.IALSRecommender import IALSRecommender\n",
    "from Recommenders.MatrixFactorization.ImplicitALSRecommender import ImplicitALSRecommender # Credit Nicola Cesare Github\n",
    "import optuna\n",
    "\n",
    "def objective_function(trial):\n",
    "    \n",
    "    factors = trial.suggest_int(\"factors\", 1550, 2550)  # Refined range for factors\n",
    "    #regularization = trial.suggest_uniform(\"regularization\", 0.0, 1.0)  # Refined range for regularization\n",
    "    alpha = trial.suggest_uniform(\"alpha\", 0.0, 20.0)  # Refined range for alpha\n",
    "    iterations = 10\n",
    "    regularization = trial.suggest_uniform(\"regularization\", 0.1, 0.8)\n",
    "\n",
    "    \n",
    "    print(f\"Current parameters: factors={factors}, iterations={iterations}, regularization={regularization}, alpha={alpha}\")\n",
    "    recommender = ImplicitALSRecommender(URM_train_validation)\n",
    "    recommender.fit(iterations=iterations, factors=factors, regularization=regularization, use_gpu=False, num_threads=0, confidence_scaling=\"linear\", **{\"alpha\":alpha})\n",
    "\n",
    "    result_dict, _ = evaluator_test.evaluateRecommender(recommender)\n",
    "\n",
    "    MAP = result_dict.loc[10][\"MAP\"]\n",
    "    \n",
    "    return MAP\n",
    "\n",
    "\n",
    "class SaveResults(object):\n",
    "    \n",
    "    def __init__(self):\n",
    "        self.results_df = pd.DataFrame(columns = [\"result\"])\n",
    "    \n",
    "    def __call__(self, optuna_study, optuna_trial):\n",
    "        hyperparam_dict = optuna_trial.params.copy()\n",
    "        hyperparam_dict[\"result\"] = optuna_trial.values[0]\n",
    "        \n",
    "        self.results_df = pd.concat([self.results_df, pd.DataFrame([hyperparam_dict])], ignore_index=True)\n",
    "        self.results_df.to_csv(\"logs/IALS/IALS_restart_second.csv\", index = False)\n",
    "\n",
    "optuna_study = optuna.create_study(study_name=\"IALS\", direction=\"maximize\")\n",
    "        \n",
    "save_results = SaveResults()\n",
    "        \n",
    "optuna_study.optimize(objective_function,\n",
    "                      callbacks=[save_results],\n",
    "                      n_trials = 100,\n",
    "                      )"
   ]
  },
  {
   "cell_type": "markdown",
   "metadata": {},
   "source": [
    "# Factors can be increased even more"
   ]
  },
  {
   "cell_type": "code",
   "execution_count": 69,
   "metadata": {},
   "outputs": [
    {
     "name": "stderr",
     "output_type": "stream",
     "text": [
      "[I 2024-12-30 09:11:17,577] A new study created in memory with name: IALS\n",
      "/var/folders/50/7hjr20g17_18p725nbt0qqv00000gn/T/ipykernel_81509/4107685421.py:9: FutureWarning: suggest_uniform has been deprecated in v3.0.0. This feature will be removed in v6.0.0. See https://github.com/optuna/optuna/releases/tag/v3.0.0. Use suggest_float instead.\n",
      "  alpha = trial.suggest_uniform(\"alpha\", 0.0, 20.0)  # Refined range for alpha\n",
      "/var/folders/50/7hjr20g17_18p725nbt0qqv00000gn/T/ipykernel_81509/4107685421.py:11: FutureWarning: suggest_uniform has been deprecated in v3.0.0. This feature will be removed in v6.0.0. See https://github.com/optuna/optuna/releases/tag/v3.0.0. Use suggest_float instead.\n",
      "  regularization = trial.suggest_uniform(\"regularization\", 0.1, 0.8)\n"
     ]
    },
    {
     "name": "stdout",
     "output_type": "stream",
     "text": [
      "Current parameters: factors=3484, iterations=10, regularization=0.41929558393279837, alpha=19.58419802629827\n"
     ]
    },
    {
     "data": {
      "application/vnd.jupyter.widget-view+json": {
       "model_id": "9e3d103ea2794cb79ac4c72416107de5",
       "version_major": 2,
       "version_minor": 0
      },
      "text/plain": [
       "  0%|          | 0/10 [00:00<?, ?it/s]"
      ]
     },
     "metadata": {},
     "output_type": "display_data"
    },
    {
     "name": "stderr",
     "output_type": "stream",
     "text": [
      "[W 2024-12-30 09:27:02,980] Trial 0 failed with parameters: {'factors': 3484, 'alpha': 19.58419802629827, 'regularization': 0.41929558393279837} because of the following error: KeyboardInterrupt().\n",
      "Traceback (most recent call last):\n",
      "  File \"/Users/lucapagano/miniconda3/envs/RecSysPD/lib/python3.8/site-packages/optuna/study/_optimize.py\", line 197, in _run_trial\n",
      "    value_or_values = func(trial)\n",
      "  File \"/var/folders/50/7hjr20g17_18p725nbt0qqv00000gn/T/ipykernel_81509/4107685421.py\", line 16, in objective_function\n",
      "    recommender.fit(iterations=iterations, factors=factors, regularization=regularization, use_gpu=False, num_threads=0, confidence_scaling=\"linear\", **{\"alpha\":alpha})\n",
      "  File \"/Users/lucapagano/Developer/RecSys/Competizione/Recommenders/MatrixFactorization/ImplicitALSRecommender.py\", line 76, in fit\n",
      "    use_native=use_native, use_cg=use_cg, use_gpu=use_gpu,\n",
      "  File \"/Users/lucapagano/miniconda3/envs/RecSysPD/lib/python3.8/site-packages/implicit/cpu/als.py\", line 170, in fit\n",
      "    solver(\n",
      "KeyboardInterrupt\n",
      "[W 2024-12-30 09:27:02,988] Trial 0 failed with value None.\n"
     ]
    },
    {
     "ename": "KeyboardInterrupt",
     "evalue": "",
     "output_type": "error",
     "traceback": [
      "\u001b[0;31m---------------------------------------------------------------------------\u001b[0m",
      "\u001b[0;31mKeyboardInterrupt\u001b[0m                         Traceback (most recent call last)",
      "Cell \u001b[0;32mIn[69], line 41\u001b[0m\n\u001b[1;32m     37\u001b[0m optuna_study \u001b[38;5;241m=\u001b[39m optuna\u001b[38;5;241m.\u001b[39mcreate_study(study_name\u001b[38;5;241m=\u001b[39m\u001b[38;5;124m\"\u001b[39m\u001b[38;5;124mIALS\u001b[39m\u001b[38;5;124m\"\u001b[39m, direction\u001b[38;5;241m=\u001b[39m\u001b[38;5;124m\"\u001b[39m\u001b[38;5;124mmaximize\u001b[39m\u001b[38;5;124m\"\u001b[39m)\n\u001b[1;32m     39\u001b[0m save_results \u001b[38;5;241m=\u001b[39m SaveResults()\n\u001b[0;32m---> 41\u001b[0m \u001b[43moptuna_study\u001b[49m\u001b[38;5;241;43m.\u001b[39;49m\u001b[43moptimize\u001b[49m\u001b[43m(\u001b[49m\u001b[43mobjective_function\u001b[49m\u001b[43m,\u001b[49m\n\u001b[1;32m     42\u001b[0m \u001b[43m                      \u001b[49m\u001b[43mcallbacks\u001b[49m\u001b[38;5;241;43m=\u001b[39;49m\u001b[43m[\u001b[49m\u001b[43msave_results\u001b[49m\u001b[43m]\u001b[49m\u001b[43m,\u001b[49m\n\u001b[1;32m     43\u001b[0m \u001b[43m                      \u001b[49m\u001b[43mn_trials\u001b[49m\u001b[43m \u001b[49m\u001b[38;5;241;43m=\u001b[39;49m\u001b[43m \u001b[49m\u001b[38;5;241;43m100\u001b[39;49m\u001b[43m,\u001b[49m\n\u001b[1;32m     44\u001b[0m \u001b[43m                      \u001b[49m\u001b[43m)\u001b[49m\n",
      "File \u001b[0;32m~/miniconda3/envs/RecSysPD/lib/python3.8/site-packages/optuna/study/study.py:475\u001b[0m, in \u001b[0;36mStudy.optimize\u001b[0;34m(self, func, n_trials, timeout, n_jobs, catch, callbacks, gc_after_trial, show_progress_bar)\u001b[0m\n\u001b[1;32m    373\u001b[0m \u001b[38;5;28;01mdef\u001b[39;00m \u001b[38;5;21moptimize\u001b[39m(\n\u001b[1;32m    374\u001b[0m     \u001b[38;5;28mself\u001b[39m,\n\u001b[1;32m    375\u001b[0m     func: ObjectiveFuncType,\n\u001b[0;32m   (...)\u001b[0m\n\u001b[1;32m    382\u001b[0m     show_progress_bar: \u001b[38;5;28mbool\u001b[39m \u001b[38;5;241m=\u001b[39m \u001b[38;5;28;01mFalse\u001b[39;00m,\n\u001b[1;32m    383\u001b[0m ) \u001b[38;5;241m-\u001b[39m\u001b[38;5;241m>\u001b[39m \u001b[38;5;28;01mNone\u001b[39;00m:\n\u001b[1;32m    384\u001b[0m \u001b[38;5;250m    \u001b[39m\u001b[38;5;124;03m\"\"\"Optimize an objective function.\u001b[39;00m\n\u001b[1;32m    385\u001b[0m \n\u001b[1;32m    386\u001b[0m \u001b[38;5;124;03m    Optimization is done by choosing a suitable set of hyperparameter values from a given\u001b[39;00m\n\u001b[0;32m   (...)\u001b[0m\n\u001b[1;32m    473\u001b[0m \u001b[38;5;124;03m            If nested invocation of this method occurs.\u001b[39;00m\n\u001b[1;32m    474\u001b[0m \u001b[38;5;124;03m    \"\"\"\u001b[39;00m\n\u001b[0;32m--> 475\u001b[0m     \u001b[43m_optimize\u001b[49m\u001b[43m(\u001b[49m\n\u001b[1;32m    476\u001b[0m \u001b[43m        \u001b[49m\u001b[43mstudy\u001b[49m\u001b[38;5;241;43m=\u001b[39;49m\u001b[38;5;28;43mself\u001b[39;49m\u001b[43m,\u001b[49m\n\u001b[1;32m    477\u001b[0m \u001b[43m        \u001b[49m\u001b[43mfunc\u001b[49m\u001b[38;5;241;43m=\u001b[39;49m\u001b[43mfunc\u001b[49m\u001b[43m,\u001b[49m\n\u001b[1;32m    478\u001b[0m \u001b[43m        \u001b[49m\u001b[43mn_trials\u001b[49m\u001b[38;5;241;43m=\u001b[39;49m\u001b[43mn_trials\u001b[49m\u001b[43m,\u001b[49m\n\u001b[1;32m    479\u001b[0m \u001b[43m        \u001b[49m\u001b[43mtimeout\u001b[49m\u001b[38;5;241;43m=\u001b[39;49m\u001b[43mtimeout\u001b[49m\u001b[43m,\u001b[49m\n\u001b[1;32m    480\u001b[0m \u001b[43m        \u001b[49m\u001b[43mn_jobs\u001b[49m\u001b[38;5;241;43m=\u001b[39;49m\u001b[43mn_jobs\u001b[49m\u001b[43m,\u001b[49m\n\u001b[1;32m    481\u001b[0m \u001b[43m        \u001b[49m\u001b[43mcatch\u001b[49m\u001b[38;5;241;43m=\u001b[39;49m\u001b[38;5;28;43mtuple\u001b[39;49m\u001b[43m(\u001b[49m\u001b[43mcatch\u001b[49m\u001b[43m)\u001b[49m\u001b[43m \u001b[49m\u001b[38;5;28;43;01mif\u001b[39;49;00m\u001b[43m \u001b[49m\u001b[38;5;28;43misinstance\u001b[39;49m\u001b[43m(\u001b[49m\u001b[43mcatch\u001b[49m\u001b[43m,\u001b[49m\u001b[43m \u001b[49m\u001b[43mIterable\u001b[49m\u001b[43m)\u001b[49m\u001b[43m \u001b[49m\u001b[38;5;28;43;01melse\u001b[39;49;00m\u001b[43m \u001b[49m\u001b[43m(\u001b[49m\u001b[43mcatch\u001b[49m\u001b[43m,\u001b[49m\u001b[43m)\u001b[49m\u001b[43m,\u001b[49m\n\u001b[1;32m    482\u001b[0m \u001b[43m        \u001b[49m\u001b[43mcallbacks\u001b[49m\u001b[38;5;241;43m=\u001b[39;49m\u001b[43mcallbacks\u001b[49m\u001b[43m,\u001b[49m\n\u001b[1;32m    483\u001b[0m \u001b[43m        \u001b[49m\u001b[43mgc_after_trial\u001b[49m\u001b[38;5;241;43m=\u001b[39;49m\u001b[43mgc_after_trial\u001b[49m\u001b[43m,\u001b[49m\n\u001b[1;32m    484\u001b[0m \u001b[43m        \u001b[49m\u001b[43mshow_progress_bar\u001b[49m\u001b[38;5;241;43m=\u001b[39;49m\u001b[43mshow_progress_bar\u001b[49m\u001b[43m,\u001b[49m\n\u001b[1;32m    485\u001b[0m \u001b[43m    \u001b[49m\u001b[43m)\u001b[49m\n",
      "File \u001b[0;32m~/miniconda3/envs/RecSysPD/lib/python3.8/site-packages/optuna/study/_optimize.py:63\u001b[0m, in \u001b[0;36m_optimize\u001b[0;34m(study, func, n_trials, timeout, n_jobs, catch, callbacks, gc_after_trial, show_progress_bar)\u001b[0m\n\u001b[1;32m     61\u001b[0m \u001b[38;5;28;01mtry\u001b[39;00m:\n\u001b[1;32m     62\u001b[0m     \u001b[38;5;28;01mif\u001b[39;00m n_jobs \u001b[38;5;241m==\u001b[39m \u001b[38;5;241m1\u001b[39m:\n\u001b[0;32m---> 63\u001b[0m         \u001b[43m_optimize_sequential\u001b[49m\u001b[43m(\u001b[49m\n\u001b[1;32m     64\u001b[0m \u001b[43m            \u001b[49m\u001b[43mstudy\u001b[49m\u001b[43m,\u001b[49m\n\u001b[1;32m     65\u001b[0m \u001b[43m            \u001b[49m\u001b[43mfunc\u001b[49m\u001b[43m,\u001b[49m\n\u001b[1;32m     66\u001b[0m \u001b[43m            \u001b[49m\u001b[43mn_trials\u001b[49m\u001b[43m,\u001b[49m\n\u001b[1;32m     67\u001b[0m \u001b[43m            \u001b[49m\u001b[43mtimeout\u001b[49m\u001b[43m,\u001b[49m\n\u001b[1;32m     68\u001b[0m \u001b[43m            \u001b[49m\u001b[43mcatch\u001b[49m\u001b[43m,\u001b[49m\n\u001b[1;32m     69\u001b[0m \u001b[43m            \u001b[49m\u001b[43mcallbacks\u001b[49m\u001b[43m,\u001b[49m\n\u001b[1;32m     70\u001b[0m \u001b[43m            \u001b[49m\u001b[43mgc_after_trial\u001b[49m\u001b[43m,\u001b[49m\n\u001b[1;32m     71\u001b[0m \u001b[43m            \u001b[49m\u001b[43mreseed_sampler_rng\u001b[49m\u001b[38;5;241;43m=\u001b[39;49m\u001b[38;5;28;43;01mFalse\u001b[39;49;00m\u001b[43m,\u001b[49m\n\u001b[1;32m     72\u001b[0m \u001b[43m            \u001b[49m\u001b[43mtime_start\u001b[49m\u001b[38;5;241;43m=\u001b[39;49m\u001b[38;5;28;43;01mNone\u001b[39;49;00m\u001b[43m,\u001b[49m\n\u001b[1;32m     73\u001b[0m \u001b[43m            \u001b[49m\u001b[43mprogress_bar\u001b[49m\u001b[38;5;241;43m=\u001b[39;49m\u001b[43mprogress_bar\u001b[49m\u001b[43m,\u001b[49m\n\u001b[1;32m     74\u001b[0m \u001b[43m        \u001b[49m\u001b[43m)\u001b[49m\n\u001b[1;32m     75\u001b[0m     \u001b[38;5;28;01melse\u001b[39;00m:\n\u001b[1;32m     76\u001b[0m         \u001b[38;5;28;01mif\u001b[39;00m n_jobs \u001b[38;5;241m==\u001b[39m \u001b[38;5;241m-\u001b[39m\u001b[38;5;241m1\u001b[39m:\n",
      "File \u001b[0;32m~/miniconda3/envs/RecSysPD/lib/python3.8/site-packages/optuna/study/_optimize.py:160\u001b[0m, in \u001b[0;36m_optimize_sequential\u001b[0;34m(study, func, n_trials, timeout, catch, callbacks, gc_after_trial, reseed_sampler_rng, time_start, progress_bar)\u001b[0m\n\u001b[1;32m    157\u001b[0m         \u001b[38;5;28;01mbreak\u001b[39;00m\n\u001b[1;32m    159\u001b[0m \u001b[38;5;28;01mtry\u001b[39;00m:\n\u001b[0;32m--> 160\u001b[0m     frozen_trial \u001b[38;5;241m=\u001b[39m \u001b[43m_run_trial\u001b[49m\u001b[43m(\u001b[49m\u001b[43mstudy\u001b[49m\u001b[43m,\u001b[49m\u001b[43m \u001b[49m\u001b[43mfunc\u001b[49m\u001b[43m,\u001b[49m\u001b[43m \u001b[49m\u001b[43mcatch\u001b[49m\u001b[43m)\u001b[49m\n\u001b[1;32m    161\u001b[0m \u001b[38;5;28;01mfinally\u001b[39;00m:\n\u001b[1;32m    162\u001b[0m     \u001b[38;5;66;03m# The following line mitigates memory problems that can be occurred in some\u001b[39;00m\n\u001b[1;32m    163\u001b[0m     \u001b[38;5;66;03m# environments (e.g., services that use computing containers such as GitHub Actions).\u001b[39;00m\n\u001b[1;32m    164\u001b[0m     \u001b[38;5;66;03m# Please refer to the following PR for further details:\u001b[39;00m\n\u001b[1;32m    165\u001b[0m     \u001b[38;5;66;03m# https://github.com/optuna/optuna/pull/325.\u001b[39;00m\n\u001b[1;32m    166\u001b[0m     \u001b[38;5;28;01mif\u001b[39;00m gc_after_trial:\n",
      "File \u001b[0;32m~/miniconda3/envs/RecSysPD/lib/python3.8/site-packages/optuna/study/_optimize.py:248\u001b[0m, in \u001b[0;36m_run_trial\u001b[0;34m(study, func, catch)\u001b[0m\n\u001b[1;32m    241\u001b[0m         \u001b[38;5;28;01massert\u001b[39;00m \u001b[38;5;28;01mFalse\u001b[39;00m, \u001b[38;5;124m\"\u001b[39m\u001b[38;5;124mShould not reach.\u001b[39m\u001b[38;5;124m\"\u001b[39m\n\u001b[1;32m    243\u001b[0m \u001b[38;5;28;01mif\u001b[39;00m (\n\u001b[1;32m    244\u001b[0m     frozen_trial\u001b[38;5;241m.\u001b[39mstate \u001b[38;5;241m==\u001b[39m TrialState\u001b[38;5;241m.\u001b[39mFAIL\n\u001b[1;32m    245\u001b[0m     \u001b[38;5;129;01mand\u001b[39;00m func_err \u001b[38;5;129;01mis\u001b[39;00m \u001b[38;5;129;01mnot\u001b[39;00m \u001b[38;5;28;01mNone\u001b[39;00m\n\u001b[1;32m    246\u001b[0m     \u001b[38;5;129;01mand\u001b[39;00m \u001b[38;5;129;01mnot\u001b[39;00m \u001b[38;5;28misinstance\u001b[39m(func_err, catch)\n\u001b[1;32m    247\u001b[0m ):\n\u001b[0;32m--> 248\u001b[0m     \u001b[38;5;28;01mraise\u001b[39;00m func_err\n\u001b[1;32m    249\u001b[0m \u001b[38;5;28;01mreturn\u001b[39;00m frozen_trial\n",
      "File \u001b[0;32m~/miniconda3/envs/RecSysPD/lib/python3.8/site-packages/optuna/study/_optimize.py:197\u001b[0m, in \u001b[0;36m_run_trial\u001b[0;34m(study, func, catch)\u001b[0m\n\u001b[1;32m    195\u001b[0m \u001b[38;5;28;01mwith\u001b[39;00m get_heartbeat_thread(trial\u001b[38;5;241m.\u001b[39m_trial_id, study\u001b[38;5;241m.\u001b[39m_storage):\n\u001b[1;32m    196\u001b[0m     \u001b[38;5;28;01mtry\u001b[39;00m:\n\u001b[0;32m--> 197\u001b[0m         value_or_values \u001b[38;5;241m=\u001b[39m \u001b[43mfunc\u001b[49m\u001b[43m(\u001b[49m\u001b[43mtrial\u001b[49m\u001b[43m)\u001b[49m\n\u001b[1;32m    198\u001b[0m     \u001b[38;5;28;01mexcept\u001b[39;00m exceptions\u001b[38;5;241m.\u001b[39mTrialPruned \u001b[38;5;28;01mas\u001b[39;00m e:\n\u001b[1;32m    199\u001b[0m         \u001b[38;5;66;03m# TODO(mamu): Handle multi-objective cases.\u001b[39;00m\n\u001b[1;32m    200\u001b[0m         state \u001b[38;5;241m=\u001b[39m TrialState\u001b[38;5;241m.\u001b[39mPRUNED\n",
      "Cell \u001b[0;32mIn[69], line 16\u001b[0m, in \u001b[0;36mobjective_function\u001b[0;34m(trial)\u001b[0m\n\u001b[1;32m     14\u001b[0m \u001b[38;5;28mprint\u001b[39m(\u001b[38;5;124mf\u001b[39m\u001b[38;5;124m\"\u001b[39m\u001b[38;5;124mCurrent parameters: factors=\u001b[39m\u001b[38;5;132;01m{\u001b[39;00mfactors\u001b[38;5;132;01m}\u001b[39;00m\u001b[38;5;124m, iterations=\u001b[39m\u001b[38;5;132;01m{\u001b[39;00miterations\u001b[38;5;132;01m}\u001b[39;00m\u001b[38;5;124m, regularization=\u001b[39m\u001b[38;5;132;01m{\u001b[39;00mregularization\u001b[38;5;132;01m}\u001b[39;00m\u001b[38;5;124m, alpha=\u001b[39m\u001b[38;5;132;01m{\u001b[39;00malpha\u001b[38;5;132;01m}\u001b[39;00m\u001b[38;5;124m\"\u001b[39m)\n\u001b[1;32m     15\u001b[0m recommender \u001b[38;5;241m=\u001b[39m ImplicitALSRecommender(URM_train_validation)\n\u001b[0;32m---> 16\u001b[0m \u001b[43mrecommender\u001b[49m\u001b[38;5;241;43m.\u001b[39;49m\u001b[43mfit\u001b[49m\u001b[43m(\u001b[49m\u001b[43miterations\u001b[49m\u001b[38;5;241;43m=\u001b[39;49m\u001b[43miterations\u001b[49m\u001b[43m,\u001b[49m\u001b[43m \u001b[49m\u001b[43mfactors\u001b[49m\u001b[38;5;241;43m=\u001b[39;49m\u001b[43mfactors\u001b[49m\u001b[43m,\u001b[49m\u001b[43m \u001b[49m\u001b[43mregularization\u001b[49m\u001b[38;5;241;43m=\u001b[39;49m\u001b[43mregularization\u001b[49m\u001b[43m,\u001b[49m\u001b[43m \u001b[49m\u001b[43muse_gpu\u001b[49m\u001b[38;5;241;43m=\u001b[39;49m\u001b[38;5;28;43;01mFalse\u001b[39;49;00m\u001b[43m,\u001b[49m\u001b[43m \u001b[49m\u001b[43mnum_threads\u001b[49m\u001b[38;5;241;43m=\u001b[39;49m\u001b[38;5;241;43m0\u001b[39;49m\u001b[43m,\u001b[49m\u001b[43m \u001b[49m\u001b[43mconfidence_scaling\u001b[49m\u001b[38;5;241;43m=\u001b[39;49m\u001b[38;5;124;43m\"\u001b[39;49m\u001b[38;5;124;43mlinear\u001b[39;49m\u001b[38;5;124;43m\"\u001b[39;49m\u001b[43m,\u001b[49m\u001b[43m \u001b[49m\u001b[38;5;241;43m*\u001b[39;49m\u001b[38;5;241;43m*\u001b[39;49m\u001b[43m{\u001b[49m\u001b[38;5;124;43m\"\u001b[39;49m\u001b[38;5;124;43malpha\u001b[39;49m\u001b[38;5;124;43m\"\u001b[39;49m\u001b[43m:\u001b[49m\u001b[43malpha\u001b[49m\u001b[43m}\u001b[49m\u001b[43m)\u001b[49m\n\u001b[1;32m     18\u001b[0m result_dict, _ \u001b[38;5;241m=\u001b[39m evaluator_test\u001b[38;5;241m.\u001b[39mevaluateRecommender(recommender)\n\u001b[1;32m     20\u001b[0m MAP \u001b[38;5;241m=\u001b[39m result_dict\u001b[38;5;241m.\u001b[39mloc[\u001b[38;5;241m10\u001b[39m][\u001b[38;5;124m\"\u001b[39m\u001b[38;5;124mMAP\u001b[39m\u001b[38;5;124m\"\u001b[39m]\n",
      "File \u001b[0;32m~/Developer/RecSys/Competizione/Recommenders/MatrixFactorization/ImplicitALSRecommender.py:76\u001b[0m, in \u001b[0;36mfit\u001b[0;34m(self, factors, regularization, use_native, use_cg, use_gpu, iterations, calculate_training_loss, num_threads, confidence_scaling, icm_coeff, **confidence_args)\u001b[0m\n\u001b[1;32m     65\u001b[0m \u001b[38;5;28;01mdef\u001b[39;00m \u001b[38;5;21mfit\u001b[39m(\u001b[38;5;28mself\u001b[39m,\n\u001b[1;32m     66\u001b[0m         factors\u001b[38;5;241m=\u001b[39m\u001b[38;5;241m100\u001b[39m,\n\u001b[1;32m     67\u001b[0m         regularization\u001b[38;5;241m=\u001b[39m\u001b[38;5;241m0.01\u001b[39m,\n\u001b[0;32m   (...)\u001b[0m\n\u001b[1;32m     73\u001b[0m         \u001b[38;5;241m*\u001b[39m\u001b[38;5;241m*\u001b[39mconfidence_args\n\u001b[1;32m     74\u001b[0m         ):\n\u001b[1;32m     75\u001b[0m     \u001b[38;5;28mself\u001b[39m\u001b[38;5;241m.\u001b[39mrec \u001b[38;5;241m=\u001b[39m implicit\u001b[38;5;241m.\u001b[39mals\u001b[38;5;241m.\u001b[39mAlternatingLeastSquares(factors\u001b[38;5;241m=\u001b[39mfactors, regularization\u001b[38;5;241m=\u001b[39mregularization,\n\u001b[0;32m---> 76\u001b[0m                                                     use_native\u001b[38;5;241m=\u001b[39muse_native, use_cg\u001b[38;5;241m=\u001b[39muse_cg, use_gpu\u001b[38;5;241m=\u001b[39muse_gpu,\n\u001b[1;32m     77\u001b[0m                                                     iterations\u001b[38;5;241m=\u001b[39miterations,\n\u001b[1;32m     78\u001b[0m                                                     calculate_training_loss\u001b[38;5;241m=\u001b[39mcalculate_training_loss,\n\u001b[1;32m     79\u001b[0m                                                     num_threads\u001b[38;5;241m=\u001b[39mnum_threads,\n\u001b[1;32m     80\u001b[0m                                                     random_state\u001b[38;5;241m=\u001b[39m\u001b[38;5;241m42\u001b[39m)\n\u001b[1;32m     81\u001b[0m     tmp \u001b[38;5;241m=\u001b[39m \u001b[38;5;28mself\u001b[39m\u001b[38;5;241m.\u001b[39mlinear_scaling_confidence(\u001b[38;5;241m*\u001b[39m\u001b[38;5;241m*\u001b[39mconfidence_args)\n\u001b[1;32m     83\u001b[0m     \u001b[38;5;28mself\u001b[39m\u001b[38;5;241m.\u001b[39mrec\u001b[38;5;241m.\u001b[39mfit(tmp, show_progress\u001b[38;5;241m=\u001b[39m\u001b[38;5;28mself\u001b[39m\u001b[38;5;241m.\u001b[39mverbose)\n",
      "File \u001b[0;32m~/miniconda3/envs/RecSysPD/lib/python3.8/site-packages/implicit/cpu/als.py:170\u001b[0m, in \u001b[0;36mAlternatingLeastSquares.fit\u001b[0;34m(self, user_items, show_progress, callback)\u001b[0m\n\u001b[1;32m    162\u001b[0m s \u001b[38;5;241m=\u001b[39m time\u001b[38;5;241m.\u001b[39mtime()\n\u001b[1;32m    163\u001b[0m solver(\n\u001b[1;32m    164\u001b[0m     Cui,\n\u001b[1;32m    165\u001b[0m     \u001b[38;5;28mself\u001b[39m\u001b[38;5;241m.\u001b[39muser_factors,\n\u001b[0;32m   (...)\u001b[0m\n\u001b[1;32m    168\u001b[0m     num_threads\u001b[38;5;241m=\u001b[39m\u001b[38;5;28mself\u001b[39m\u001b[38;5;241m.\u001b[39mnum_threads,\n\u001b[1;32m    169\u001b[0m )\n\u001b[0;32m--> 170\u001b[0m \u001b[43msolver\u001b[49m\u001b[43m(\u001b[49m\n\u001b[1;32m    171\u001b[0m \u001b[43m    \u001b[49m\u001b[43mCiu\u001b[49m\u001b[43m,\u001b[49m\n\u001b[1;32m    172\u001b[0m \u001b[43m    \u001b[49m\u001b[38;5;28;43mself\u001b[39;49m\u001b[38;5;241;43m.\u001b[39;49m\u001b[43mitem_factors\u001b[49m\u001b[43m,\u001b[49m\n\u001b[1;32m    173\u001b[0m \u001b[43m    \u001b[49m\u001b[38;5;28;43mself\u001b[39;49m\u001b[38;5;241;43m.\u001b[39;49m\u001b[43muser_factors\u001b[49m\u001b[43m,\u001b[49m\n\u001b[1;32m    174\u001b[0m \u001b[43m    \u001b[49m\u001b[38;5;28;43mself\u001b[39;49m\u001b[38;5;241;43m.\u001b[39;49m\u001b[43mregularization\u001b[49m\u001b[43m,\u001b[49m\n\u001b[1;32m    175\u001b[0m \u001b[43m    \u001b[49m\u001b[43mnum_threads\u001b[49m\u001b[38;5;241;43m=\u001b[39;49m\u001b[38;5;28;43mself\u001b[39;49m\u001b[38;5;241;43m.\u001b[39;49m\u001b[43mnum_threads\u001b[49m\u001b[43m,\u001b[49m\n\u001b[1;32m    176\u001b[0m \u001b[43m\u001b[49m\u001b[43m)\u001b[49m\n\u001b[1;32m    177\u001b[0m progress\u001b[38;5;241m.\u001b[39mupdate(\u001b[38;5;241m1\u001b[39m)\n\u001b[1;32m    179\u001b[0m \u001b[38;5;28;01mif\u001b[39;00m \u001b[38;5;28mself\u001b[39m\u001b[38;5;241m.\u001b[39mcalculate_training_loss:\n",
      "\u001b[0;31mKeyboardInterrupt\u001b[0m: "
     ]
    }
   ],
   "source": [
    "# too slow -> from Recommenders.MatrixFactorization.IALSRecommender import IALSRecommender\n",
    "from Recommenders.MatrixFactorization.ImplicitALSRecommender import ImplicitALSRecommender # Credit Nicola Cesare Github\n",
    "import optuna\n",
    "\n",
    "def objective_function(trial):\n",
    "    \n",
    "    factors = trial.suggest_int(\"factors\", 2300, 4000)  # Refined range for factors\n",
    "    #regularization = trial.suggest_uniform(\"regularization\", 0.0, 1.0)  # Refined range for regularization\n",
    "    alpha = trial.suggest_uniform(\"alpha\", 0.0, 20.0)  # Refined range for alpha\n",
    "    iterations = 10\n",
    "    regularization = trial.suggest_uniform(\"regularization\", 0.1, 0.8)\n",
    "\n",
    "    \n",
    "    print(f\"Current parameters: factors={factors}, iterations={iterations}, regularization={regularization}, alpha={alpha}\")\n",
    "    recommender = ImplicitALSRecommender(URM_train_validation)\n",
    "    recommender.fit(iterations=iterations, factors=factors, regularization=regularization, use_gpu=False, num_threads=0, confidence_scaling=\"linear\", **{\"alpha\":alpha})\n",
    "\n",
    "    result_dict, _ = evaluator_test.evaluateRecommender(recommender)\n",
    "\n",
    "    MAP = result_dict.loc[10][\"MAP\"]\n",
    "    \n",
    "    return MAP\n",
    "\n",
    "\n",
    "class SaveResults(object):\n",
    "    \n",
    "    def __init__(self):\n",
    "        self.results_df = pd.DataFrame(columns = [\"result\"])\n",
    "    \n",
    "    def __call__(self, optuna_study, optuna_trial):\n",
    "        hyperparam_dict = optuna_trial.params.copy()\n",
    "        hyperparam_dict[\"result\"] = optuna_trial.values[0]\n",
    "        \n",
    "        self.results_df = pd.concat([self.results_df, pd.DataFrame([hyperparam_dict])], ignore_index=True)\n",
    "        self.results_df.to_csv(\"logs/IALS/IALS_restart_third.csv\", index = False)\n",
    "\n",
    "optuna_study = optuna.create_study(study_name=\"IALS\", direction=\"maximize\")\n",
    "        \n",
    "save_results = SaveResults()\n",
    "        \n",
    "optuna_study.optimize(objective_function,\n",
    "                      callbacks=[save_results],\n",
    "                      n_trials = 100,\n",
    "                      )"
   ]
  }
 ],
 "metadata": {
  "kernelspec": {
   "display_name": "RecSysPD",
   "language": "python",
   "name": "python3"
  },
  "language_info": {
   "codemirror_mode": {
    "name": "ipython",
    "version": 3
   },
   "file_extension": ".py",
   "mimetype": "text/x-python",
   "name": "python",
   "nbconvert_exporter": "python",
   "pygments_lexer": "ipython3",
   "version": "3.8.20"
  }
 },
 "nbformat": 4,
 "nbformat_minor": 2
}
