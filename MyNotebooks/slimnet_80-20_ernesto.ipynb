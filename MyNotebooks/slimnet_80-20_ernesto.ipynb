{
 "cells": [
  {
   "cell_type": "code",
   "execution_count": 1,
   "metadata": {},
   "outputs": [],
   "source": [
    "import os\n",
    "os.chdir('../')"
   ]
  },
  {
   "cell_type": "code",
   "execution_count": 2,
   "metadata": {},
   "outputs": [
    {
     "name": "stdout",
     "output_type": "stream",
     "text": [
      "   user_id  item_id  data\n",
      "0        0        0   1.0\n",
      "1        0        2   1.0\n",
      "2        0      120   1.0\n",
      "3        0      128   1.0\n",
      "4        0      211   1.0\n",
      "5        0      232   1.0\n",
      "6        0      282   1.0\n",
      "7        0      453   1.0\n",
      "8        0      458   1.0\n",
      "9        0      491   1.0\n"
     ]
    }
   ],
   "source": [
    "import numpy as np\n",
    "import pandas as pd\n",
    "import matplotlib.pyplot as plt\n",
    "\n",
    "data_train_path = \"Dataset/data_train.csv\"\n",
    "\n",
    "URM_all_dataframe = pd.read_csv(data_train_path)\n",
    "print(URM_all_dataframe.head(10))"
   ]
  },
  {
   "cell_type": "code",
   "execution_count": 4,
   "metadata": {},
   "outputs": [
    {
     "name": "stdout",
     "output_type": "stream",
     "text": [
      "Warning: 141 (0.39 %) of 35736 users have no sampled items\n"
     ]
    }
   ],
   "source": [
    "import numpy as np\n",
    "import scipy.sparse as sps\n",
    "from Data_manager.split_functions.split_train_validation_random_holdout import split_train_in_two_percentage_global_sample\n",
    "from Evaluation.Evaluator import EvaluatorHoldout\n",
    "from Data_manager.split_functions import split_train_validation_random_holdout\n",
    "\n",
    "\n",
    "URM_all = sps.coo_matrix((URM_all_dataframe['data'], (URM_all_dataframe['user_id'], URM_all_dataframe['item_id'])))\n",
    "URM_all = URM_all.tocsr()\n",
    "\n",
    "URM_train_validation, URM_test = split_train_in_two_percentage_global_sample(URM_all, train_percentage = 0.8)\n",
    "\n"
   ]
  },
  {
   "cell_type": "markdown",
   "metadata": {},
   "source": [
    "result,topK,l1_ratio,alpha\n",
    "\n",
    "0.06001721416196575,142.0,0.4033590645217344,9.521340863590419e-05"
   ]
  },
  {
   "cell_type": "code",
   "execution_count": 5,
   "metadata": {},
   "outputs": [
    {
     "name": "stderr",
     "output_type": "stream",
     "text": [
      "Progress: 100%|██████████| 38121/38121 [08:50<00:00, 71.83items/s]\n"
     ]
    }
   ],
   "source": [
    "from Recommenders.SLIM.SLIMElasticNetRecommender_Peppe import MultiThreadSLIM_SLIMElasticNetRecommender\n",
    "\n",
    "recommender = MultiThreadSLIM_SLIMElasticNetRecommender(URM_train_validation)\n",
    "\n",
    "topK = int(142.0)\n",
    "alpha = 9.521340863590419e-05\n",
    "l1_ratio = 0.4033590645217344\n",
    "recommender.fit(topK=topK, l1_ratio=l1_ratio, alpha=alpha)"
   ]
  },
  {
   "cell_type": "code",
   "execution_count": 15,
   "metadata": {},
   "outputs": [
    {
     "name": "stdout",
     "output_type": "stream",
     "text": [
      "EvaluatorHoldout: Ignoring 141 ( 0.4%) Users that have less than 1 test interactions\n",
      "[    0     1     2 ... 35733 35734 35735]\n",
      "[    0     1     2 ... 35733 35734 35735]\n",
      "   user_id                                          item_list\n",
      "0        0     3653 471 8604 3074 1425 6348 116 2743 399 7548\n",
      "1        1  11699 3130 13778 13733 15088 9812 13766 2644 1...\n",
      "2        2  29656 22471 15542 31131 4851 18518 1195 21495 ...\n",
      "3        3  25643 25079 11753 6827 9742 7448 27392 9115 16...\n",
      "4        4  3422 11753 9812 17624 15694 15902 527 3472 152...\n",
      "5        5  28805 4280 39 4253 2 15648 13005 19209 19208 2782\n",
      "6        6  4636 8505 9747 18609 3532 15139 8661 125 6822 ...\n",
      "7        7  5436 15137 3077 2843 515 2892 3767 3070 15104 ...\n",
      "8        8  627 19497 2566 21162 211 7780 2837 3844 7778 1...\n",
      "9        9  11753 12600 4142 446 24304 2565 7034 22497 399...\n"
     ]
    }
   ],
   "source": [
    "# Check the 20% of the URM_test\n",
    "from Evaluation.Evaluator import EvaluatorHoldout\n",
    "evaluator_test = EvaluatorHoldout(URM_test, cutoff_list=[10])\n",
    "recommendations = []\n",
    "# Get user_id from the test set\n",
    "user_id = np.unique(URM_test.nonzero()[0])\n",
    "print(user_id)\n",
    "\n",
    "for id in user_id:\n",
    "    # Get the recommendations\n",
    "    recommendations.append(recommender.recommend(id, cutoff=10))\n",
    "\n",
    "submission = pd.DataFrame(columns=['user_id', 'item_list'])\n",
    "print(user_id)\n",
    "submission['user_id'] = user_id\n",
    "# Convert list of recommendations into a space-separated string\n",
    "submission['item_list'] = [' '.join(map(str, recs)) for recs in recommendations]\n",
    "\n",
    "print(submission.head(10))\n",
    "# Save the submission file\n",
    "submission.to_csv(\"submissions/slimnet_ERNESTO.csv\", index=False)"
   ]
  }
 ],
 "metadata": {
  "kernelspec": {
   "display_name": "RecSysPD",
   "language": "python",
   "name": "python3"
  },
  "language_info": {
   "codemirror_mode": {
    "name": "ipython",
    "version": 3
   },
   "file_extension": ".py",
   "mimetype": "text/x-python",
   "name": "python",
   "nbconvert_exporter": "python",
   "pygments_lexer": "ipython3",
   "version": "3.8.20"
  }
 },
 "nbformat": 4,
 "nbformat_minor": 2
}
