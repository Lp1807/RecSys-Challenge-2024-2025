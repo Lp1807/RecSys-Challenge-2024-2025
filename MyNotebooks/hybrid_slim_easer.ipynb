{
 "cells": [
  {
   "cell_type": "code",
   "execution_count": 1,
   "metadata": {},
   "outputs": [],
   "source": [
    "import os\n",
    "\n",
    "os.chdir('../')"
   ]
  },
  {
   "cell_type": "markdown",
   "metadata": {},
   "source": [
    "## Some analysis"
   ]
  },
  {
   "cell_type": "code",
   "execution_count": 2,
   "metadata": {},
   "outputs": [
    {
     "name": "stdout",
     "output_type": "stream",
     "text": [
      "   user_id  item_id  data\n",
      "0        0        0   1.0\n",
      "1        0        2   1.0\n",
      "2        0      120   1.0\n",
      "3        0      128   1.0\n",
      "4        0      211   1.0\n",
      "5        0      232   1.0\n",
      "6        0      282   1.0\n",
      "7        0      453   1.0\n",
      "8        0      458   1.0\n",
      "9        0      491   1.0\n"
     ]
    }
   ],
   "source": [
    "import numpy as np\n",
    "import pandas as pd\n",
    "import matplotlib.pyplot as plt\n",
    "\n",
    "data_train_path = \"Dataset/data_train.csv\"\n",
    "\n",
    "URM_all_dataframe = pd.read_csv(data_train_path)\n",
    "print(URM_all_dataframe.head(10))"
   ]
  },
  {
   "cell_type": "code",
   "execution_count": 3,
   "metadata": {},
   "outputs": [
    {
     "name": "stdout",
     "output_type": "stream",
     "text": [
      "Warning: 141 (0.39 %) of 35736 users have no sampled items\n",
      "EvaluatorHoldout: Ignoring 141 ( 0.4%) Users that have less than 1 test interactions\n"
     ]
    }
   ],
   "source": [
    "import numpy as np\n",
    "import scipy.sparse as sps\n",
    "from Data_manager.split_functions.split_train_validation_random_holdout import split_train_in_two_percentage_global_sample\n",
    "from Evaluation.Evaluator import EvaluatorHoldout\n",
    "\n",
    "\n",
    "\n",
    "URM_all = sps.coo_matrix((URM_all_dataframe['data'], (URM_all_dataframe['user_id'], URM_all_dataframe['item_id'])))\n",
    "URM_all = URM_all.tocsr()\n",
    "\n",
    "URM_train_validation, URM_test = split_train_in_two_percentage_global_sample(URM_all, train_percentage = 0.8)\n",
    "evaluator_test = EvaluatorHoldout(URM_test, cutoff_list=[10])"
   ]
  },
  {
   "cell_type": "code",
   "execution_count": 4,
   "metadata": {},
   "outputs": [
    {
     "name": "stderr",
     "output_type": "stream",
     "text": [
      "Progress: 100%|██████████| 38121/38121 [09:02<00:00, 70.24items/s]\n"
     ]
    },
    {
     "name": "stdout",
     "output_type": "stream",
     "text": [
      "EASE_R_Recommender: Fitting model... \n",
      "EASE_R_Recommender: Fitting model... done in 15.20 min\n"
     ]
    }
   ],
   "source": [
    "from Recommenders.SLIM.SLIMElasticNetRecommender_Peppe import MultiThreadSLIM_SLIMElasticNetRecommender\n",
    "from Recommenders.EASE_R.EASE_R_Recommender import EASE_R_Recommender\n",
    "\n",
    "recommender_slimNet = MultiThreadSLIM_SLIMElasticNetRecommender(URM_train_validation)\n",
    "recommender_slimNet.fit(topK=142, alpha = 9.521340863590419e-05, l1_ratio = 0.4033590645217344)\n",
    "\n",
    "recommender_easeR = EASE_R_Recommender(URM_train_validation)\n",
    "recommender_easeR.fit(l2_norm=33.20)"
   ]
  },
  {
   "cell_type": "code",
   "execution_count": 5,
   "metadata": {},
   "outputs": [
    {
     "name": "stdout",
     "output_type": "stream",
     "text": [
      "<class 'scipy.sparse._csr.csr_matrix'>\n",
      "<class 'scipy.sparse._csr.csr_matrix'>\n"
     ]
    }
   ],
   "source": [
    "W_sparse_EASER = recommender_easeR.W_sparse\n",
    "W_sparse_EASER = sps.csr_matrix(W_sparse_EASER)\n",
    "W_sparse_SLIM = recommender_slimNet.W_sparse\n",
    "print(type(W_sparse_EASER))\n",
    "print(type(W_sparse_SLIM))"
   ]
  },
  {
   "cell_type": "markdown",
   "metadata": {},
   "source": [
    "# Optuna Study"
   ]
  },
  {
   "cell_type": "code",
   "execution_count": 6,
   "metadata": {},
   "outputs": [],
   "source": [
    "from Recommenders.KNN.ItemKNNCustomSimilarityRecommender import ItemKNNCustomSimilarityRecommender\n",
    "\n",
    "def objective_function(trial):\n",
    "\n",
    "    alpha = trial.suggest_uniform('alpha', 0.0, 1.0)\n",
    "\n",
    "\n",
    "    recommender = ItemKNNCustomSimilarityRecommender(URM_train_validation)\n",
    "\n",
    "    new_similarity = W_sparse_SLIM.multiply(alpha) + W_sparse_EASER.multiply(1-alpha)\n",
    "\n",
    "    recommender.fit(new_similarity)\n",
    "\n",
    "    result_dict, _ = evaluator_test.evaluateRecommender(recommender)\n",
    "\n",
    "    MAP = result_dict.loc[10][\"MAP\"]\n",
    "    \n",
    "    return MAP"
   ]
  },
  {
   "cell_type": "code",
   "execution_count": 7,
   "metadata": {},
   "outputs": [],
   "source": [
    "class SaveResults(object):\n",
    "    \n",
    "    def __init__(self):\n",
    "        self.results_df = pd.DataFrame(columns = [\"result\"])\n",
    "    \n",
    "    def __call__(self, optuna_study, optuna_trial):\n",
    "        hyperparam_dict = optuna_trial.params.copy()\n",
    "        hyperparam_dict[\"result\"] = optuna_trial.values[0]\n",
    "        \n",
    "        self.results_df = pd.concat([self.results_df, pd.DataFrame([hyperparam_dict])], ignore_index=True)\n",
    "        self.results_df.to_csv(\"logs/Hybrid/hybrid_slim_EASER_MM.csv\", index = False)"
   ]
  },
  {
   "cell_type": "code",
   "execution_count": 8,
   "metadata": {},
   "outputs": [
    {
     "name": "stderr",
     "output_type": "stream",
     "text": [
      "[I 2024-12-25 12:30:56,630] A new study created in memory with name: hybrid_slim_ep3\n",
      "/var/folders/50/7hjr20g17_18p725nbt0qqv00000gn/T/ipykernel_83744/1623604117.py:5: FutureWarning: suggest_uniform has been deprecated in v3.0.0. This feature will be removed in v6.0.0. See https://github.com/optuna/optuna/releases/tag/v3.0.0. Use suggest_float instead.\n",
      "  alpha = trial.suggest_uniform('alpha', 0.0, 1.0)\n"
     ]
    },
    {
     "name": "stdout",
     "output_type": "stream",
     "text": [
      "EvaluatorHoldout: Processed 35595 (100.0%) in 2.94 min. Users per second: 202\n"
     ]
    },
    {
     "name": "stderr",
     "output_type": "stream",
     "text": [
      "[I 2024-12-25 12:36:35,093] Trial 0 finished with value: 0.05782048932322598 and parameters: {'alpha': 0.21121052426062592}. Best is trial 0 with value: 0.05782048932322598.\n",
      "/var/folders/50/7hjr20g17_18p725nbt0qqv00000gn/T/ipykernel_83744/1623604117.py:5: FutureWarning: suggest_uniform has been deprecated in v3.0.0. This feature will be removed in v6.0.0. See https://github.com/optuna/optuna/releases/tag/v3.0.0. Use suggest_float instead.\n",
      "  alpha = trial.suggest_uniform('alpha', 0.0, 1.0)\n"
     ]
    },
    {
     "name": "stdout",
     "output_type": "stream",
     "text": [
      "EvaluatorHoldout: Processed 35595 (100.0%) in 2.78 min. Users per second: 213\n"
     ]
    },
    {
     "name": "stderr",
     "output_type": "stream",
     "text": [
      "[I 2024-12-25 12:41:47,770] Trial 1 finished with value: 0.05980981812587179 and parameters: {'alpha': 0.3731075231474956}. Best is trial 1 with value: 0.05980981812587179.\n",
      "/var/folders/50/7hjr20g17_18p725nbt0qqv00000gn/T/ipykernel_83744/1623604117.py:5: FutureWarning: suggest_uniform has been deprecated in v3.0.0. This feature will be removed in v6.0.0. See https://github.com/optuna/optuna/releases/tag/v3.0.0. Use suggest_float instead.\n",
      "  alpha = trial.suggest_uniform('alpha', 0.0, 1.0)\n"
     ]
    },
    {
     "name": "stdout",
     "output_type": "stream",
     "text": [
      "EvaluatorHoldout: Processed 35595 (100.0%) in 2.82 min. Users per second: 210\n"
     ]
    },
    {
     "name": "stderr",
     "output_type": "stream",
     "text": [
      "[I 2024-12-25 12:46:57,897] Trial 2 finished with value: 0.05993097055275531 and parameters: {'alpha': 0.3941360768433869}. Best is trial 2 with value: 0.05993097055275531.\n",
      "/var/folders/50/7hjr20g17_18p725nbt0qqv00000gn/T/ipykernel_83744/1623604117.py:5: FutureWarning: suggest_uniform has been deprecated in v3.0.0. This feature will be removed in v6.0.0. See https://github.com/optuna/optuna/releases/tag/v3.0.0. Use suggest_float instead.\n",
      "  alpha = trial.suggest_uniform('alpha', 0.0, 1.0)\n"
     ]
    },
    {
     "name": "stdout",
     "output_type": "stream",
     "text": [
      "EvaluatorHoldout: Processed 35595 (100.0%) in 2.80 min. Users per second: 212\n"
     ]
    },
    {
     "name": "stderr",
     "output_type": "stream",
     "text": [
      "[I 2024-12-25 12:52:06,604] Trial 3 finished with value: 0.060089328356709326 and parameters: {'alpha': 0.4248923540542153}. Best is trial 3 with value: 0.060089328356709326.\n",
      "/var/folders/50/7hjr20g17_18p725nbt0qqv00000gn/T/ipykernel_83744/1623604117.py:5: FutureWarning: suggest_uniform has been deprecated in v3.0.0. This feature will be removed in v6.0.0. See https://github.com/optuna/optuna/releases/tag/v3.0.0. Use suggest_float instead.\n",
      "  alpha = trial.suggest_uniform('alpha', 0.0, 1.0)\n"
     ]
    },
    {
     "name": "stdout",
     "output_type": "stream",
     "text": [
      "EvaluatorHoldout: Processed 35595 (100.0%) in 2.75 min. Users per second: 216\n"
     ]
    },
    {
     "name": "stderr",
     "output_type": "stream",
     "text": [
      "[I 2024-12-25 12:57:06,896] Trial 4 finished with value: 0.05219891325917244 and parameters: {'alpha': 0.015692347023143483}. Best is trial 3 with value: 0.060089328356709326.\n",
      "/var/folders/50/7hjr20g17_18p725nbt0qqv00000gn/T/ipykernel_83744/1623604117.py:5: FutureWarning: suggest_uniform has been deprecated in v3.0.0. This feature will be removed in v6.0.0. See https://github.com/optuna/optuna/releases/tag/v3.0.0. Use suggest_float instead.\n",
      "  alpha = trial.suggest_uniform('alpha', 0.0, 1.0)\n"
     ]
    },
    {
     "name": "stdout",
     "output_type": "stream",
     "text": [
      "EvaluatorHoldout: Processed 35595 (100.0%) in 2.82 min. Users per second: 211\n"
     ]
    },
    {
     "name": "stderr",
     "output_type": "stream",
     "text": [
      "[I 2024-12-25 13:02:13,478] Trial 5 finished with value: 0.06037737153202638 and parameters: {'alpha': 0.8238129351825279}. Best is trial 5 with value: 0.06037737153202638.\n",
      "/var/folders/50/7hjr20g17_18p725nbt0qqv00000gn/T/ipykernel_83744/1623604117.py:5: FutureWarning: suggest_uniform has been deprecated in v3.0.0. This feature will be removed in v6.0.0. See https://github.com/optuna/optuna/releases/tag/v3.0.0. Use suggest_float instead.\n",
      "  alpha = trial.suggest_uniform('alpha', 0.0, 1.0)\n"
     ]
    },
    {
     "name": "stdout",
     "output_type": "stream",
     "text": [
      "EvaluatorHoldout: Processed 35595 (100.0%) in 2.83 min. Users per second: 210\n"
     ]
    },
    {
     "name": "stderr",
     "output_type": "stream",
     "text": [
      "[I 2024-12-25 13:07:18,354] Trial 6 finished with value: 0.053270983975364464 and parameters: {'alpha': 0.042703283757351884}. Best is trial 5 with value: 0.06037737153202638.\n",
      "/var/folders/50/7hjr20g17_18p725nbt0qqv00000gn/T/ipykernel_83744/1623604117.py:5: FutureWarning: suggest_uniform has been deprecated in v3.0.0. This feature will be removed in v6.0.0. See https://github.com/optuna/optuna/releases/tag/v3.0.0. Use suggest_float instead.\n",
      "  alpha = trial.suggest_uniform('alpha', 0.0, 1.0)\n"
     ]
    },
    {
     "name": "stdout",
     "output_type": "stream",
     "text": [
      "EvaluatorHoldout: Processed 35595 (100.0%) in 2.87 min. Users per second: 207\n"
     ]
    },
    {
     "name": "stderr",
     "output_type": "stream",
     "text": [
      "[I 2024-12-25 13:12:27,872] Trial 7 finished with value: 0.06050122074394942 and parameters: {'alpha': 0.5242881637775566}. Best is trial 7 with value: 0.06050122074394942.\n",
      "/var/folders/50/7hjr20g17_18p725nbt0qqv00000gn/T/ipykernel_83744/1623604117.py:5: FutureWarning: suggest_uniform has been deprecated in v3.0.0. This feature will be removed in v6.0.0. See https://github.com/optuna/optuna/releases/tag/v3.0.0. Use suggest_float instead.\n",
      "  alpha = trial.suggest_uniform('alpha', 0.0, 1.0)\n"
     ]
    },
    {
     "name": "stdout",
     "output_type": "stream",
     "text": [
      "EvaluatorHoldout: Processed 35595 (100.0%) in 2.88 min. Users per second: 206\n"
     ]
    },
    {
     "name": "stderr",
     "output_type": "stream",
     "text": [
      "[I 2024-12-25 13:17:34,404] Trial 8 finished with value: 0.060493530614472484 and parameters: {'alpha': 0.5147734141857077}. Best is trial 7 with value: 0.06050122074394942.\n",
      "/var/folders/50/7hjr20g17_18p725nbt0qqv00000gn/T/ipykernel_83744/1623604117.py:5: FutureWarning: suggest_uniform has been deprecated in v3.0.0. This feature will be removed in v6.0.0. See https://github.com/optuna/optuna/releases/tag/v3.0.0. Use suggest_float instead.\n",
      "  alpha = trial.suggest_uniform('alpha', 0.0, 1.0)\n"
     ]
    },
    {
     "name": "stdout",
     "output_type": "stream",
     "text": [
      "EvaluatorHoldout: Processed 35595 (100.0%) in 2.78 min. Users per second: 213\n"
     ]
    },
    {
     "name": "stderr",
     "output_type": "stream",
     "text": [
      "[I 2024-12-25 13:22:37,397] Trial 9 finished with value: 0.06025933618284876 and parameters: {'alpha': 0.45506383522091465}. Best is trial 7 with value: 0.06050122074394942.\n",
      "/var/folders/50/7hjr20g17_18p725nbt0qqv00000gn/T/ipykernel_83744/1623604117.py:5: FutureWarning: suggest_uniform has been deprecated in v3.0.0. This feature will be removed in v6.0.0. See https://github.com/optuna/optuna/releases/tag/v3.0.0. Use suggest_float instead.\n",
      "  alpha = trial.suggest_uniform('alpha', 0.0, 1.0)\n"
     ]
    },
    {
     "name": "stdout",
     "output_type": "stream",
     "text": [
      "EvaluatorHoldout: Processed 35595 (100.0%) in 2.81 min. Users per second: 211\n"
     ]
    },
    {
     "name": "stderr",
     "output_type": "stream",
     "text": [
      "[I 2024-12-25 13:27:39,926] Trial 10 finished with value: 0.06046365639011903 and parameters: {'alpha': 0.7494112964737658}. Best is trial 7 with value: 0.06050122074394942.\n",
      "/var/folders/50/7hjr20g17_18p725nbt0qqv00000gn/T/ipykernel_83744/1623604117.py:5: FutureWarning: suggest_uniform has been deprecated in v3.0.0. This feature will be removed in v6.0.0. See https://github.com/optuna/optuna/releases/tag/v3.0.0. Use suggest_float instead.\n",
      "  alpha = trial.suggest_uniform('alpha', 0.0, 1.0)\n"
     ]
    },
    {
     "name": "stdout",
     "output_type": "stream",
     "text": [
      "EvaluatorHoldout: Processed 35595 (100.0%) in 2.84 min. Users per second: 209\n"
     ]
    },
    {
     "name": "stderr",
     "output_type": "stream",
     "text": [
      "[I 2024-12-25 13:32:44,586] Trial 11 finished with value: 0.06056975297493444 and parameters: {'alpha': 0.6968233599883056}. Best is trial 11 with value: 0.06056975297493444.\n",
      "/var/folders/50/7hjr20g17_18p725nbt0qqv00000gn/T/ipykernel_83744/1623604117.py:5: FutureWarning: suggest_uniform has been deprecated in v3.0.0. This feature will be removed in v6.0.0. See https://github.com/optuna/optuna/releases/tag/v3.0.0. Use suggest_float instead.\n",
      "  alpha = trial.suggest_uniform('alpha', 0.0, 1.0)\n"
     ]
    },
    {
     "name": "stdout",
     "output_type": "stream",
     "text": [
      "EvaluatorHoldout: Processed 35595 (100.0%) in 2.82 min. Users per second: 210\n"
     ]
    },
    {
     "name": "stderr",
     "output_type": "stream",
     "text": [
      "[I 2024-12-25 13:37:52,580] Trial 12 finished with value: 0.06060769525771465 and parameters: {'alpha': 0.6449059336836828}. Best is trial 12 with value: 0.06060769525771465.\n",
      "/var/folders/50/7hjr20g17_18p725nbt0qqv00000gn/T/ipykernel_83744/1623604117.py:5: FutureWarning: suggest_uniform has been deprecated in v3.0.0. This feature will be removed in v6.0.0. See https://github.com/optuna/optuna/releases/tag/v3.0.0. Use suggest_float instead.\n",
      "  alpha = trial.suggest_uniform('alpha', 0.0, 1.0)\n"
     ]
    },
    {
     "name": "stdout",
     "output_type": "stream",
     "text": [
      "EvaluatorHoldout: Processed 35595 (100.0%) in 2.87 min. Users per second: 207\n"
     ]
    },
    {
     "name": "stderr",
     "output_type": "stream",
     "text": [
      "[I 2024-12-25 13:43:03,594] Trial 13 finished with value: 0.060547874344754136 and parameters: {'alpha': 0.6772465862259905}. Best is trial 12 with value: 0.06060769525771465.\n",
      "/var/folders/50/7hjr20g17_18p725nbt0qqv00000gn/T/ipykernel_83744/1623604117.py:5: FutureWarning: suggest_uniform has been deprecated in v3.0.0. This feature will be removed in v6.0.0. See https://github.com/optuna/optuna/releases/tag/v3.0.0. Use suggest_float instead.\n",
      "  alpha = trial.suggest_uniform('alpha', 0.0, 1.0)\n"
     ]
    },
    {
     "name": "stdout",
     "output_type": "stream",
     "text": [
      "EvaluatorHoldout: Processed 35595 (100.0%) in 2.92 min. Users per second: 203\n"
     ]
    },
    {
     "name": "stderr",
     "output_type": "stream",
     "text": [
      "[I 2024-12-25 13:48:19,735] Trial 14 finished with value: 0.060063514360183284 and parameters: {'alpha': 0.9820516008173805}. Best is trial 12 with value: 0.06060769525771465.\n",
      "/var/folders/50/7hjr20g17_18p725nbt0qqv00000gn/T/ipykernel_83744/1623604117.py:5: FutureWarning: suggest_uniform has been deprecated in v3.0.0. This feature will be removed in v6.0.0. See https://github.com/optuna/optuna/releases/tag/v3.0.0. Use suggest_float instead.\n",
      "  alpha = trial.suggest_uniform('alpha', 0.0, 1.0)\n"
     ]
    },
    {
     "name": "stdout",
     "output_type": "stream",
     "text": [
      "EvaluatorHoldout: Processed 35595 (100.0%) in 2.83 min. Users per second: 209\n"
     ]
    },
    {
     "name": "stderr",
     "output_type": "stream",
     "text": [
      "[I 2024-12-25 13:53:25,697] Trial 15 finished with value: 0.06060583348383434 and parameters: {'alpha': 0.645474242625041}. Best is trial 12 with value: 0.06060769525771465.\n",
      "/var/folders/50/7hjr20g17_18p725nbt0qqv00000gn/T/ipykernel_83744/1623604117.py:5: FutureWarning: suggest_uniform has been deprecated in v3.0.0. This feature will be removed in v6.0.0. See https://github.com/optuna/optuna/releases/tag/v3.0.0. Use suggest_float instead.\n",
      "  alpha = trial.suggest_uniform('alpha', 0.0, 1.0)\n"
     ]
    },
    {
     "name": "stdout",
     "output_type": "stream",
     "text": [
      "EvaluatorHoldout: Processed 35595 (100.0%) in 2.78 min. Users per second: 213\n"
     ]
    },
    {
     "name": "stderr",
     "output_type": "stream",
     "text": [
      "[I 2024-12-25 13:58:28,723] Trial 16 finished with value: 0.060202443940537344 and parameters: {'alpha': 0.9286074705537333}. Best is trial 12 with value: 0.06060769525771465.\n",
      "/var/folders/50/7hjr20g17_18p725nbt0qqv00000gn/T/ipykernel_83744/1623604117.py:5: FutureWarning: suggest_uniform has been deprecated in v3.0.0. This feature will be removed in v6.0.0. See https://github.com/optuna/optuna/releases/tag/v3.0.0. Use suggest_float instead.\n",
      "  alpha = trial.suggest_uniform('alpha', 0.0, 1.0)\n"
     ]
    },
    {
     "name": "stdout",
     "output_type": "stream",
     "text": [
      "EvaluatorHoldout: Processed 35595 (100.0%) in 2.90 min. Users per second: 205\n"
     ]
    },
    {
     "name": "stderr",
     "output_type": "stream",
     "text": [
      "[I 2024-12-25 14:03:38,421] Trial 17 finished with value: 0.06062708000276302 and parameters: {'alpha': 0.6069488890654876}. Best is trial 17 with value: 0.06062708000276302.\n",
      "/var/folders/50/7hjr20g17_18p725nbt0qqv00000gn/T/ipykernel_83744/1623604117.py:5: FutureWarning: suggest_uniform has been deprecated in v3.0.0. This feature will be removed in v6.0.0. See https://github.com/optuna/optuna/releases/tag/v3.0.0. Use suggest_float instead.\n",
      "  alpha = trial.suggest_uniform('alpha', 0.0, 1.0)\n"
     ]
    },
    {
     "name": "stdout",
     "output_type": "stream",
     "text": [
      "EvaluatorHoldout: Processed 35595 (100.0%) in 2.77 min. Users per second: 214\n"
     ]
    },
    {
     "name": "stderr",
     "output_type": "stream",
     "text": [
      "[I 2024-12-25 14:08:39,630] Trial 18 finished with value: 0.06060579892395986 and parameters: {'alpha': 0.5962769585996885}. Best is trial 17 with value: 0.06062708000276302.\n",
      "/var/folders/50/7hjr20g17_18p725nbt0qqv00000gn/T/ipykernel_83744/1623604117.py:5: FutureWarning: suggest_uniform has been deprecated in v3.0.0. This feature will be removed in v6.0.0. See https://github.com/optuna/optuna/releases/tag/v3.0.0. Use suggest_float instead.\n",
      "  alpha = trial.suggest_uniform('alpha', 0.0, 1.0)\n"
     ]
    },
    {
     "name": "stdout",
     "output_type": "stream",
     "text": [
      "EvaluatorHoldout: Processed 35595 (100.0%) in 2.82 min. Users per second: 210\n"
     ]
    },
    {
     "name": "stderr",
     "output_type": "stream",
     "text": [
      "[I 2024-12-25 14:13:51,732] Trial 19 finished with value: 0.0588417848948799 and parameters: {'alpha': 0.2756814983207106}. Best is trial 17 with value: 0.06062708000276302.\n",
      "/var/folders/50/7hjr20g17_18p725nbt0qqv00000gn/T/ipykernel_83744/1623604117.py:5: FutureWarning: suggest_uniform has been deprecated in v3.0.0. This feature will be removed in v6.0.0. See https://github.com/optuna/optuna/releases/tag/v3.0.0. Use suggest_float instead.\n",
      "  alpha = trial.suggest_uniform('alpha', 0.0, 1.0)\n"
     ]
    },
    {
     "name": "stdout",
     "output_type": "stream",
     "text": [
      "EvaluatorHoldout: Processed 35595 (100.0%) in 2.75 min. Users per second: 215\n"
     ]
    },
    {
     "name": "stderr",
     "output_type": "stream",
     "text": [
      "[I 2024-12-25 14:18:52,602] Trial 20 finished with value: 0.060366611147898944 and parameters: {'alpha': 0.8295726012077993}. Best is trial 17 with value: 0.06062708000276302.\n",
      "/var/folders/50/7hjr20g17_18p725nbt0qqv00000gn/T/ipykernel_83744/1623604117.py:5: FutureWarning: suggest_uniform has been deprecated in v3.0.0. This feature will be removed in v6.0.0. See https://github.com/optuna/optuna/releases/tag/v3.0.0. Use suggest_float instead.\n",
      "  alpha = trial.suggest_uniform('alpha', 0.0, 1.0)\n"
     ]
    },
    {
     "name": "stdout",
     "output_type": "stream",
     "text": [
      "EvaluatorHoldout: Processed 35595 (100.0%) in 2.83 min. Users per second: 209\n"
     ]
    },
    {
     "name": "stderr",
     "output_type": "stream",
     "text": [
      "[I 2024-12-25 14:23:56,593] Trial 21 finished with value: 0.06065537227673599 and parameters: {'alpha': 0.6278438173557258}. Best is trial 21 with value: 0.06065537227673599.\n",
      "/var/folders/50/7hjr20g17_18p725nbt0qqv00000gn/T/ipykernel_83744/1623604117.py:5: FutureWarning: suggest_uniform has been deprecated in v3.0.0. This feature will be removed in v6.0.0. See https://github.com/optuna/optuna/releases/tag/v3.0.0. Use suggest_float instead.\n",
      "  alpha = trial.suggest_uniform('alpha', 0.0, 1.0)\n"
     ]
    },
    {
     "name": "stdout",
     "output_type": "stream",
     "text": [
      "EvaluatorHoldout: Processed 35595 (100.0%) in 2.84 min. Users per second: 209\n"
     ]
    },
    {
     "name": "stderr",
     "output_type": "stream",
     "text": [
      "[I 2024-12-25 14:29:05,797] Trial 22 finished with value: 0.06056735385074836 and parameters: {'alpha': 0.5682858821798606}. Best is trial 21 with value: 0.06065537227673599.\n",
      "/var/folders/50/7hjr20g17_18p725nbt0qqv00000gn/T/ipykernel_83744/1623604117.py:5: FutureWarning: suggest_uniform has been deprecated in v3.0.0. This feature will be removed in v6.0.0. See https://github.com/optuna/optuna/releases/tag/v3.0.0. Use suggest_float instead.\n",
      "  alpha = trial.suggest_uniform('alpha', 0.0, 1.0)\n"
     ]
    },
    {
     "name": "stdout",
     "output_type": "stream",
     "text": [
      "EvaluatorHoldout: Processed 35595 (100.0%) in 2.94 min. Users per second: 201\n"
     ]
    },
    {
     "name": "stderr",
     "output_type": "stream",
     "text": [
      "[I 2024-12-25 14:34:21,062] Trial 23 finished with value: 0.06043834072468546 and parameters: {'alpha': 0.7838861124144535}. Best is trial 21 with value: 0.06065537227673599.\n",
      "/var/folders/50/7hjr20g17_18p725nbt0qqv00000gn/T/ipykernel_83744/1623604117.py:5: FutureWarning: suggest_uniform has been deprecated in v3.0.0. This feature will be removed in v6.0.0. See https://github.com/optuna/optuna/releases/tag/v3.0.0. Use suggest_float instead.\n",
      "  alpha = trial.suggest_uniform('alpha', 0.0, 1.0)\n"
     ]
    },
    {
     "name": "stdout",
     "output_type": "stream",
     "text": [
      "EvaluatorHoldout: Processed 35595 (100.0%) in 2.89 min. Users per second: 205\n"
     ]
    },
    {
     "name": "stderr",
     "output_type": "stream",
     "text": [
      "[I 2024-12-25 14:39:27,701] Trial 24 finished with value: 0.0606383732778574 and parameters: {'alpha': 0.6132625023208692}. Best is trial 21 with value: 0.06065537227673599.\n",
      "/var/folders/50/7hjr20g17_18p725nbt0qqv00000gn/T/ipykernel_83744/1623604117.py:5: FutureWarning: suggest_uniform has been deprecated in v3.0.0. This feature will be removed in v6.0.0. See https://github.com/optuna/optuna/releases/tag/v3.0.0. Use suggest_float instead.\n",
      "  alpha = trial.suggest_uniform('alpha', 0.0, 1.0)\n"
     ]
    },
    {
     "name": "stdout",
     "output_type": "stream",
     "text": [
      "EvaluatorHoldout: Processed 35595 (100.0%) in 2.91 min. Users per second: 204\n"
     ]
    },
    {
     "name": "stderr",
     "output_type": "stream",
     "text": [
      "[I 2024-12-25 14:44:37,886] Trial 25 finished with value: 0.060573693915453385 and parameters: {'alpha': 0.571137024289834}. Best is trial 21 with value: 0.06065537227673599.\n",
      "/var/folders/50/7hjr20g17_18p725nbt0qqv00000gn/T/ipykernel_83744/1623604117.py:5: FutureWarning: suggest_uniform has been deprecated in v3.0.0. This feature will be removed in v6.0.0. See https://github.com/optuna/optuna/releases/tag/v3.0.0. Use suggest_float instead.\n",
      "  alpha = trial.suggest_uniform('alpha', 0.0, 1.0)\n"
     ]
    },
    {
     "name": "stdout",
     "output_type": "stream",
     "text": [
      "EvaluatorHoldout: Processed 35595 (100.0%) in 2.87 min. Users per second: 207\n"
     ]
    },
    {
     "name": "stderr",
     "output_type": "stream",
     "text": [
      "[I 2024-12-25 14:49:48,854] Trial 26 finished with value: 0.05915977029946473 and parameters: {'alpha': 0.3057959203853116}. Best is trial 21 with value: 0.06065537227673599.\n",
      "/var/folders/50/7hjr20g17_18p725nbt0qqv00000gn/T/ipykernel_83744/1623604117.py:5: FutureWarning: suggest_uniform has been deprecated in v3.0.0. This feature will be removed in v6.0.0. See https://github.com/optuna/optuna/releases/tag/v3.0.0. Use suggest_float instead.\n",
      "  alpha = trial.suggest_uniform('alpha', 0.0, 1.0)\n"
     ]
    },
    {
     "name": "stdout",
     "output_type": "stream",
     "text": [
      "EvaluatorHoldout: Processed 35595 (100.0%) in 2.86 min. Users per second: 207\n"
     ]
    },
    {
     "name": "stderr",
     "output_type": "stream",
     "text": [
      "[I 2024-12-25 14:54:55,950] Trial 27 finished with value: 0.06035246724058182 and parameters: {'alpha': 0.8656550984577107}. Best is trial 21 with value: 0.06065537227673599.\n",
      "/var/folders/50/7hjr20g17_18p725nbt0qqv00000gn/T/ipykernel_83744/1623604117.py:5: FutureWarning: suggest_uniform has been deprecated in v3.0.0. This feature will be removed in v6.0.0. See https://github.com/optuna/optuna/releases/tag/v3.0.0. Use suggest_float instead.\n",
      "  alpha = trial.suggest_uniform('alpha', 0.0, 1.0)\n"
     ]
    },
    {
     "name": "stdout",
     "output_type": "stream",
     "text": [
      "EvaluatorHoldout: Processed 35595 (100.0%) in 2.94 min. Users per second: 202\n"
     ]
    },
    {
     "name": "stderr",
     "output_type": "stream",
     "text": [
      "[I 2024-12-25 15:00:07,413] Trial 28 finished with value: 0.06049584724089391 and parameters: {'alpha': 0.7369800084750919}. Best is trial 21 with value: 0.06065537227673599.\n",
      "/var/folders/50/7hjr20g17_18p725nbt0qqv00000gn/T/ipykernel_83744/1623604117.py:5: FutureWarning: suggest_uniform has been deprecated in v3.0.0. This feature will be removed in v6.0.0. See https://github.com/optuna/optuna/releases/tag/v3.0.0. Use suggest_float instead.\n",
      "  alpha = trial.suggest_uniform('alpha', 0.0, 1.0)\n"
     ]
    },
    {
     "name": "stdout",
     "output_type": "stream",
     "text": [
      "EvaluatorHoldout: Processed 35595 (100.0%) in 2.81 min. Users per second: 211\n"
     ]
    },
    {
     "name": "stderr",
     "output_type": "stream",
     "text": [
      "[I 2024-12-25 15:05:14,091] Trial 29 finished with value: 0.060404819876162134 and parameters: {'alpha': 0.48246307821719125}. Best is trial 21 with value: 0.06065537227673599.\n",
      "/var/folders/50/7hjr20g17_18p725nbt0qqv00000gn/T/ipykernel_83744/1623604117.py:5: FutureWarning: suggest_uniform has been deprecated in v3.0.0. This feature will be removed in v6.0.0. See https://github.com/optuna/optuna/releases/tag/v3.0.0. Use suggest_float instead.\n",
      "  alpha = trial.suggest_uniform('alpha', 0.0, 1.0)\n"
     ]
    },
    {
     "name": "stdout",
     "output_type": "stream",
     "text": [
      "EvaluatorHoldout: Processed 35595 (100.0%) in 2.83 min. Users per second: 210\n"
     ]
    },
    {
     "name": "stderr",
     "output_type": "stream",
     "text": [
      "[I 2024-12-25 15:10:20,019] Trial 30 finished with value: 0.06066013150589465 and parameters: {'alpha': 0.6182168091088279}. Best is trial 30 with value: 0.06066013150589465.\n",
      "/var/folders/50/7hjr20g17_18p725nbt0qqv00000gn/T/ipykernel_83744/1623604117.py:5: FutureWarning: suggest_uniform has been deprecated in v3.0.0. This feature will be removed in v6.0.0. See https://github.com/optuna/optuna/releases/tag/v3.0.0. Use suggest_float instead.\n",
      "  alpha = trial.suggest_uniform('alpha', 0.0, 1.0)\n"
     ]
    },
    {
     "name": "stdout",
     "output_type": "stream",
     "text": [
      "EvaluatorHoldout: Processed 35595 (100.0%) in 2.92 min. Users per second: 203\n"
     ]
    },
    {
     "name": "stderr",
     "output_type": "stream",
     "text": [
      "[I 2024-12-25 15:15:31,614] Trial 31 finished with value: 0.06064058288015126 and parameters: {'alpha': 0.6129218512243937}. Best is trial 30 with value: 0.06066013150589465.\n",
      "/var/folders/50/7hjr20g17_18p725nbt0qqv00000gn/T/ipykernel_83744/1623604117.py:5: FutureWarning: suggest_uniform has been deprecated in v3.0.0. This feature will be removed in v6.0.0. See https://github.com/optuna/optuna/releases/tag/v3.0.0. Use suggest_float instead.\n",
      "  alpha = trial.suggest_uniform('alpha', 0.0, 1.0)\n"
     ]
    },
    {
     "name": "stdout",
     "output_type": "stream",
     "text": [
      "EvaluatorHoldout: Processed 35595 (100.0%) in 2.74 min. Users per second: 216\n"
     ]
    },
    {
     "name": "stderr",
     "output_type": "stream",
     "text": [
      "[I 2024-12-25 15:20:31,737] Trial 32 finished with value: 0.060529028064845836 and parameters: {'alpha': 0.7229446123500977}. Best is trial 30 with value: 0.06066013150589465.\n",
      "/var/folders/50/7hjr20g17_18p725nbt0qqv00000gn/T/ipykernel_83744/1623604117.py:5: FutureWarning: suggest_uniform has been deprecated in v3.0.0. This feature will be removed in v6.0.0. See https://github.com/optuna/optuna/releases/tag/v3.0.0. Use suggest_float instead.\n",
      "  alpha = trial.suggest_uniform('alpha', 0.0, 1.0)\n"
     ]
    },
    {
     "name": "stdout",
     "output_type": "stream",
     "text": [
      "EvaluatorHoldout: Processed 35595 (100.0%) in 2.87 min. Users per second: 207\n"
     ]
    },
    {
     "name": "stderr",
     "output_type": "stream",
     "text": [
      "[I 2024-12-25 15:25:38,589] Trial 33 finished with value: 0.060523978978675556 and parameters: {'alpha': 0.5364105264655694}. Best is trial 30 with value: 0.06066013150589465.\n",
      "/var/folders/50/7hjr20g17_18p725nbt0qqv00000gn/T/ipykernel_83744/1623604117.py:5: FutureWarning: suggest_uniform has been deprecated in v3.0.0. This feature will be removed in v6.0.0. See https://github.com/optuna/optuna/releases/tag/v3.0.0. Use suggest_float instead.\n",
      "  alpha = trial.suggest_uniform('alpha', 0.0, 1.0)\n"
     ]
    },
    {
     "name": "stdout",
     "output_type": "stream",
     "text": [
      "EvaluatorHoldout: Processed 35595 (100.0%) in 2.85 min. Users per second: 208\n"
     ]
    },
    {
     "name": "stderr",
     "output_type": "stream",
     "text": [
      "[I 2024-12-25 15:30:44,779] Trial 34 finished with value: 0.05949004341165946 and parameters: {'alpha': 0.33872385446471026}. Best is trial 30 with value: 0.06066013150589465.\n",
      "/var/folders/50/7hjr20g17_18p725nbt0qqv00000gn/T/ipykernel_83744/1623604117.py:5: FutureWarning: suggest_uniform has been deprecated in v3.0.0. This feature will be removed in v6.0.0. See https://github.com/optuna/optuna/releases/tag/v3.0.0. Use suggest_float instead.\n",
      "  alpha = trial.suggest_uniform('alpha', 0.0, 1.0)\n"
     ]
    },
    {
     "name": "stdout",
     "output_type": "stream",
     "text": [
      "EvaluatorHoldout: Processed 35595 (100.0%) in 2.79 min. Users per second: 212\n"
     ]
    },
    {
     "name": "stderr",
     "output_type": "stream",
     "text": [
      "[I 2024-12-25 15:35:49,884] Trial 35 finished with value: 0.060108514661188606 and parameters: {'alpha': 0.42776895413053007}. Best is trial 30 with value: 0.06066013150589465.\n",
      "/var/folders/50/7hjr20g17_18p725nbt0qqv00000gn/T/ipykernel_83744/1623604117.py:5: FutureWarning: suggest_uniform has been deprecated in v3.0.0. This feature will be removed in v6.0.0. See https://github.com/optuna/optuna/releases/tag/v3.0.0. Use suggest_float instead.\n",
      "  alpha = trial.suggest_uniform('alpha', 0.0, 1.0)\n"
     ]
    },
    {
     "name": "stdout",
     "output_type": "stream",
     "text": [
      "EvaluatorHoldout: Processed 35595 (100.0%) in 2.82 min. Users per second: 210\n"
     ]
    },
    {
     "name": "stderr",
     "output_type": "stream",
     "text": [
      "[I 2024-12-25 15:40:57,160] Trial 36 finished with value: 0.056219198790625105 and parameters: {'alpha': 0.13545387971600897}. Best is trial 30 with value: 0.06066013150589465.\n",
      "/var/folders/50/7hjr20g17_18p725nbt0qqv00000gn/T/ipykernel_83744/1623604117.py:5: FutureWarning: suggest_uniform has been deprecated in v3.0.0. This feature will be removed in v6.0.0. See https://github.com/optuna/optuna/releases/tag/v3.0.0. Use suggest_float instead.\n",
      "  alpha = trial.suggest_uniform('alpha', 0.0, 1.0)\n"
     ]
    },
    {
     "name": "stdout",
     "output_type": "stream",
     "text": [
      "EvaluatorHoldout: Processed 35595 (100.0%) in 2.88 min. Users per second: 206\n"
     ]
    },
    {
     "name": "stderr",
     "output_type": "stream",
     "text": [
      "[I 2024-12-25 15:46:07,770] Trial 37 finished with value: 0.06064995975446718 and parameters: {'alpha': 0.6283787176981134}. Best is trial 30 with value: 0.06066013150589465.\n",
      "/var/folders/50/7hjr20g17_18p725nbt0qqv00000gn/T/ipykernel_83744/1623604117.py:5: FutureWarning: suggest_uniform has been deprecated in v3.0.0. This feature will be removed in v6.0.0. See https://github.com/optuna/optuna/releases/tag/v3.0.0. Use suggest_float instead.\n",
      "  alpha = trial.suggest_uniform('alpha', 0.0, 1.0)\n"
     ]
    },
    {
     "name": "stdout",
     "output_type": "stream",
     "text": [
      "EvaluatorHoldout: Processed 35595 (100.0%) in 2.80 min. Users per second: 212\n"
     ]
    },
    {
     "name": "stderr",
     "output_type": "stream",
     "text": [
      "[I 2024-12-25 15:51:13,013] Trial 38 finished with value: 0.05983661652140171 and parameters: {'alpha': 0.3792963899110291}. Best is trial 30 with value: 0.06066013150589465.\n",
      "/var/folders/50/7hjr20g17_18p725nbt0qqv00000gn/T/ipykernel_83744/1623604117.py:5: FutureWarning: suggest_uniform has been deprecated in v3.0.0. This feature will be removed in v6.0.0. See https://github.com/optuna/optuna/releases/tag/v3.0.0. Use suggest_float instead.\n",
      "  alpha = trial.suggest_uniform('alpha', 0.0, 1.0)\n"
     ]
    },
    {
     "name": "stdout",
     "output_type": "stream",
     "text": [
      "EvaluatorHoldout: Processed 35595 (100.0%) in 2.90 min. Users per second: 205\n"
     ]
    },
    {
     "name": "stderr",
     "output_type": "stream",
     "text": [
      "[I 2024-12-25 15:56:25,488] Trial 39 finished with value: 0.06056829031186207 and parameters: {'alpha': 0.6639003132450049}. Best is trial 30 with value: 0.06066013150589465.\n",
      "/var/folders/50/7hjr20g17_18p725nbt0qqv00000gn/T/ipykernel_83744/1623604117.py:5: FutureWarning: suggest_uniform has been deprecated in v3.0.0. This feature will be removed in v6.0.0. See https://github.com/optuna/optuna/releases/tag/v3.0.0. Use suggest_float instead.\n",
      "  alpha = trial.suggest_uniform('alpha', 0.0, 1.0)\n"
     ]
    },
    {
     "name": "stdout",
     "output_type": "stream",
     "text": [
      "EvaluatorHoldout: Processed 35595 (100.0%) in 2.85 min. Users per second: 208\n"
     ]
    },
    {
     "name": "stderr",
     "output_type": "stream",
     "text": [
      "[I 2024-12-25 16:01:30,436] Trial 40 finished with value: 0.0602880075006056 and parameters: {'alpha': 0.4631772250695496}. Best is trial 30 with value: 0.06066013150589465.\n",
      "/var/folders/50/7hjr20g17_18p725nbt0qqv00000gn/T/ipykernel_83744/1623604117.py:5: FutureWarning: suggest_uniform has been deprecated in v3.0.0. This feature will be removed in v6.0.0. See https://github.com/optuna/optuna/releases/tag/v3.0.0. Use suggest_float instead.\n",
      "  alpha = trial.suggest_uniform('alpha', 0.0, 1.0)\n"
     ]
    },
    {
     "name": "stdout",
     "output_type": "stream",
     "text": [
      "EvaluatorHoldout: Processed 35595 (100.0%) in 2.75 min. Users per second: 216\n"
     ]
    },
    {
     "name": "stderr",
     "output_type": "stream",
     "text": [
      "[I 2024-12-25 16:06:33,091] Trial 41 finished with value: 0.06065799213818428 and parameters: {'alpha': 0.6186392778357991}. Best is trial 30 with value: 0.06066013150589465.\n",
      "/var/folders/50/7hjr20g17_18p725nbt0qqv00000gn/T/ipykernel_83744/1623604117.py:5: FutureWarning: suggest_uniform has been deprecated in v3.0.0. This feature will be removed in v6.0.0. See https://github.com/optuna/optuna/releases/tag/v3.0.0. Use suggest_float instead.\n",
      "  alpha = trial.suggest_uniform('alpha', 0.0, 1.0)\n"
     ]
    },
    {
     "name": "stdout",
     "output_type": "stream",
     "text": [
      "EvaluatorHoldout: Processed 35595 (100.0%) in 2.95 min. Users per second: 201\n"
     ]
    },
    {
     "name": "stderr",
     "output_type": "stream",
     "text": [
      "[I 2024-12-25 16:11:54,831] Trial 42 finished with value: 0.060526263274891634 and parameters: {'alpha': 0.5315399517936568}. Best is trial 30 with value: 0.06066013150589465.\n",
      "/var/folders/50/7hjr20g17_18p725nbt0qqv00000gn/T/ipykernel_83744/1623604117.py:5: FutureWarning: suggest_uniform has been deprecated in v3.0.0. This feature will be removed in v6.0.0. See https://github.com/optuna/optuna/releases/tag/v3.0.0. Use suggest_float instead.\n",
      "  alpha = trial.suggest_uniform('alpha', 0.0, 1.0)\n"
     ]
    },
    {
     "name": "stdout",
     "output_type": "stream",
     "text": [
      "EvaluatorHoldout: Processed 35595 (100.0%) in 2.89 min. Users per second: 206\n"
     ]
    },
    {
     "name": "stderr",
     "output_type": "stream",
     "text": [
      "[I 2024-12-25 16:17:07,492] Trial 43 finished with value: 0.060453362006879105 and parameters: {'alpha': 0.7887152348657962}. Best is trial 30 with value: 0.06066013150589465.\n",
      "/var/folders/50/7hjr20g17_18p725nbt0qqv00000gn/T/ipykernel_83744/1623604117.py:5: FutureWarning: suggest_uniform has been deprecated in v3.0.0. This feature will be removed in v6.0.0. See https://github.com/optuna/optuna/releases/tag/v3.0.0. Use suggest_float instead.\n",
      "  alpha = trial.suggest_uniform('alpha', 0.0, 1.0)\n"
     ]
    },
    {
     "name": "stdout",
     "output_type": "stream",
     "text": [
      "EvaluatorHoldout: Processed 35595 (100.0%) in 2.76 min. Users per second: 215\n"
     ]
    },
    {
     "name": "stderr",
     "output_type": "stream",
     "text": [
      "[I 2024-12-25 16:22:13,400] Trial 44 finished with value: 0.06056496587490919 and parameters: {'alpha': 0.6995826720413639}. Best is trial 30 with value: 0.06066013150589465.\n",
      "/var/folders/50/7hjr20g17_18p725nbt0qqv00000gn/T/ipykernel_83744/1623604117.py:5: FutureWarning: suggest_uniform has been deprecated in v3.0.0. This feature will be removed in v6.0.0. See https://github.com/optuna/optuna/releases/tag/v3.0.0. Use suggest_float instead.\n",
      "  alpha = trial.suggest_uniform('alpha', 0.0, 1.0)\n"
     ]
    },
    {
     "name": "stdout",
     "output_type": "stream",
     "text": [
      "EvaluatorHoldout: Processed 35595 (100.0%) in 2.86 min. Users per second: 207\n"
     ]
    },
    {
     "name": "stderr",
     "output_type": "stream",
     "text": [
      "[I 2024-12-25 16:27:22,509] Trial 45 finished with value: 0.06062245343892879 and parameters: {'alpha': 0.6397081938701021}. Best is trial 30 with value: 0.06066013150589465.\n",
      "/var/folders/50/7hjr20g17_18p725nbt0qqv00000gn/T/ipykernel_83744/1623604117.py:5: FutureWarning: suggest_uniform has been deprecated in v3.0.0. This feature will be removed in v6.0.0. See https://github.com/optuna/optuna/releases/tag/v3.0.0. Use suggest_float instead.\n",
      "  alpha = trial.suggest_uniform('alpha', 0.0, 1.0)\n"
     ]
    },
    {
     "name": "stdout",
     "output_type": "stream",
     "text": [
      "EvaluatorHoldout: Processed 35595 (100.0%) in 2.86 min. Users per second: 208\n"
     ]
    },
    {
     "name": "stderr",
     "output_type": "stream",
     "text": [
      "[I 2024-12-25 16:32:32,784] Trial 46 finished with value: 0.06052348510692167 and parameters: {'alpha': 0.5512822104591044}. Best is trial 30 with value: 0.06066013150589465.\n",
      "/var/folders/50/7hjr20g17_18p725nbt0qqv00000gn/T/ipykernel_83744/1623604117.py:5: FutureWarning: suggest_uniform has been deprecated in v3.0.0. This feature will be removed in v6.0.0. See https://github.com/optuna/optuna/releases/tag/v3.0.0. Use suggest_float instead.\n",
      "  alpha = trial.suggest_uniform('alpha', 0.0, 1.0)\n"
     ]
    },
    {
     "name": "stdout",
     "output_type": "stream",
     "text": [
      "EvaluatorHoldout: Processed 35595 (100.0%) in 2.77 min. Users per second: 214\n"
     ]
    },
    {
     "name": "stderr",
     "output_type": "stream",
     "text": [
      "[I 2024-12-25 16:37:39,035] Trial 47 finished with value: 0.060439567042809714 and parameters: {'alpha': 0.5011246945468504}. Best is trial 30 with value: 0.06066013150589465.\n",
      "/var/folders/50/7hjr20g17_18p725nbt0qqv00000gn/T/ipykernel_83744/1623604117.py:5: FutureWarning: suggest_uniform has been deprecated in v3.0.0. This feature will be removed in v6.0.0. See https://github.com/optuna/optuna/releases/tag/v3.0.0. Use suggest_float instead.\n",
      "  alpha = trial.suggest_uniform('alpha', 0.0, 1.0)\n"
     ]
    },
    {
     "name": "stdout",
     "output_type": "stream",
     "text": [
      "EvaluatorHoldout: Processed 35595 (100.0%) in 2.74 min. Users per second: 217\n"
     ]
    },
    {
     "name": "stderr",
     "output_type": "stream",
     "text": [
      "[I 2024-12-25 16:42:37,113] Trial 48 finished with value: 0.06055653549521893 and parameters: {'alpha': 0.6887202757915218}. Best is trial 30 with value: 0.06066013150589465.\n",
      "/var/folders/50/7hjr20g17_18p725nbt0qqv00000gn/T/ipykernel_83744/1623604117.py:5: FutureWarning: suggest_uniform has been deprecated in v3.0.0. This feature will be removed in v6.0.0. See https://github.com/optuna/optuna/releases/tag/v3.0.0. Use suggest_float instead.\n",
      "  alpha = trial.suggest_uniform('alpha', 0.0, 1.0)\n"
     ]
    },
    {
     "name": "stdout",
     "output_type": "stream",
     "text": [
      "EvaluatorHoldout: Processed 35595 (100.0%) in 2.78 min. Users per second: 214\n"
     ]
    },
    {
     "name": "stderr",
     "output_type": "stream",
     "text": [
      "[I 2024-12-25 16:47:40,151] Trial 49 finished with value: 0.06045461954037431 and parameters: {'alpha': 0.7686904436082571}. Best is trial 30 with value: 0.06066013150589465.\n",
      "/var/folders/50/7hjr20g17_18p725nbt0qqv00000gn/T/ipykernel_83744/1623604117.py:5: FutureWarning: suggest_uniform has been deprecated in v3.0.0. This feature will be removed in v6.0.0. See https://github.com/optuna/optuna/releases/tag/v3.0.0. Use suggest_float instead.\n",
      "  alpha = trial.suggest_uniform('alpha', 0.0, 1.0)\n"
     ]
    },
    {
     "name": "stdout",
     "output_type": "stream",
     "text": [
      "EvaluatorHoldout: Processed 35595 (100.0%) in 2.94 min. Users per second: 202\n"
     ]
    },
    {
     "name": "stderr",
     "output_type": "stream",
     "text": [
      "[I 2024-12-25 16:52:56,018] Trial 50 finished with value: 0.060650237348297144 and parameters: {'alpha': 0.6240617118800402}. Best is trial 30 with value: 0.06066013150589465.\n",
      "/var/folders/50/7hjr20g17_18p725nbt0qqv00000gn/T/ipykernel_83744/1623604117.py:5: FutureWarning: suggest_uniform has been deprecated in v3.0.0. This feature will be removed in v6.0.0. See https://github.com/optuna/optuna/releases/tag/v3.0.0. Use suggest_float instead.\n",
      "  alpha = trial.suggest_uniform('alpha', 0.0, 1.0)\n"
     ]
    },
    {
     "name": "stdout",
     "output_type": "stream",
     "text": [
      "EvaluatorHoldout: Processed 35595 (100.0%) in 2.98 min. Users per second: 199\n"
     ]
    },
    {
     "name": "stderr",
     "output_type": "stream",
     "text": [
      "[I 2024-12-25 16:58:12,252] Trial 51 finished with value: 0.06063637772381805 and parameters: {'alpha': 0.6116647254413804}. Best is trial 30 with value: 0.06066013150589465.\n",
      "/var/folders/50/7hjr20g17_18p725nbt0qqv00000gn/T/ipykernel_83744/1623604117.py:5: FutureWarning: suggest_uniform has been deprecated in v3.0.0. This feature will be removed in v6.0.0. See https://github.com/optuna/optuna/releases/tag/v3.0.0. Use suggest_float instead.\n",
      "  alpha = trial.suggest_uniform('alpha', 0.0, 1.0)\n"
     ]
    },
    {
     "name": "stdout",
     "output_type": "stream",
     "text": [
      "EvaluatorHoldout: Processed 35595 (100.0%) in 2.98 min. Users per second: 199\n"
     ]
    },
    {
     "name": "stderr",
     "output_type": "stream",
     "text": [
      "[I 2024-12-25 17:03:31,603] Trial 52 finished with value: 0.06057627364285408 and parameters: {'alpha': 0.5788838858681561}. Best is trial 30 with value: 0.06066013150589465.\n",
      "/var/folders/50/7hjr20g17_18p725nbt0qqv00000gn/T/ipykernel_83744/1623604117.py:5: FutureWarning: suggest_uniform has been deprecated in v3.0.0. This feature will be removed in v6.0.0. See https://github.com/optuna/optuna/releases/tag/v3.0.0. Use suggest_float instead.\n",
      "  alpha = trial.suggest_uniform('alpha', 0.0, 1.0)\n"
     ]
    },
    {
     "name": "stdout",
     "output_type": "stream",
     "text": [
      "EvaluatorHoldout: Processed 35595 (100.0%) in 2.82 min. Users per second: 210\n"
     ]
    },
    {
     "name": "stderr",
     "output_type": "stream",
     "text": [
      "[I 2024-12-25 17:08:41,240] Trial 53 finished with value: 0.06063886603477678 and parameters: {'alpha': 0.6342260576364827}. Best is trial 30 with value: 0.06066013150589465.\n",
      "/var/folders/50/7hjr20g17_18p725nbt0qqv00000gn/T/ipykernel_83744/1623604117.py:5: FutureWarning: suggest_uniform has been deprecated in v3.0.0. This feature will be removed in v6.0.0. See https://github.com/optuna/optuna/releases/tag/v3.0.0. Use suggest_float instead.\n",
      "  alpha = trial.suggest_uniform('alpha', 0.0, 1.0)\n"
     ]
    },
    {
     "name": "stdout",
     "output_type": "stream",
     "text": [
      "EvaluatorHoldout: Processed 35595 (100.0%) in 3.26 min. Users per second: 182\n"
     ]
    },
    {
     "name": "stderr",
     "output_type": "stream",
     "text": [
      "[I 2024-12-25 17:14:16,886] Trial 54 finished with value: 0.060542103960559805 and parameters: {'alpha': 0.6728303956877257}. Best is trial 30 with value: 0.06066013150589465.\n",
      "/var/folders/50/7hjr20g17_18p725nbt0qqv00000gn/T/ipykernel_83744/1623604117.py:5: FutureWarning: suggest_uniform has been deprecated in v3.0.0. This feature will be removed in v6.0.0. See https://github.com/optuna/optuna/releases/tag/v3.0.0. Use suggest_float instead.\n",
      "  alpha = trial.suggest_uniform('alpha', 0.0, 1.0)\n"
     ]
    },
    {
     "name": "stdout",
     "output_type": "stream",
     "text": [
      "EvaluatorHoldout: Processed 35595 (100.0%) in 2.85 min. Users per second: 209\n"
     ]
    },
    {
     "name": "stderr",
     "output_type": "stream",
     "text": [
      "[I 2024-12-25 17:19:26,924] Trial 55 finished with value: 0.060552782961757 and parameters: {'alpha': 0.712463094821695}. Best is trial 30 with value: 0.06066013150589465.\n",
      "/var/folders/50/7hjr20g17_18p725nbt0qqv00000gn/T/ipykernel_83744/1623604117.py:5: FutureWarning: suggest_uniform has been deprecated in v3.0.0. This feature will be removed in v6.0.0. See https://github.com/optuna/optuna/releases/tag/v3.0.0. Use suggest_float instead.\n",
      "  alpha = trial.suggest_uniform('alpha', 0.0, 1.0)\n"
     ]
    },
    {
     "name": "stdout",
     "output_type": "stream",
     "text": [
      "EvaluatorHoldout: Processed 35595 (100.0%) in 2.81 min. Users per second: 211\n"
     ]
    },
    {
     "name": "stderr",
     "output_type": "stream",
     "text": [
      "[I 2024-12-25 17:24:33,931] Trial 56 finished with value: 0.060431020720314886 and parameters: {'alpha': 0.49668060303472156}. Best is trial 30 with value: 0.06066013150589465.\n",
      "/var/folders/50/7hjr20g17_18p725nbt0qqv00000gn/T/ipykernel_83744/1623604117.py:5: FutureWarning: suggest_uniform has been deprecated in v3.0.0. This feature will be removed in v6.0.0. See https://github.com/optuna/optuna/releases/tag/v3.0.0. Use suggest_float instead.\n",
      "  alpha = trial.suggest_uniform('alpha', 0.0, 1.0)\n"
     ]
    },
    {
     "name": "stdout",
     "output_type": "stream",
     "text": [
      "EvaluatorHoldout: Processed 35595 (100.0%) in 2.80 min. Users per second: 212\n"
     ]
    },
    {
     "name": "stderr",
     "output_type": "stream",
     "text": [
      "[I 2024-12-25 17:29:39,918] Trial 57 finished with value: 0.06013646133641717 and parameters: {'alpha': 0.43506283338252705}. Best is trial 30 with value: 0.06066013150589465.\n",
      "/var/folders/50/7hjr20g17_18p725nbt0qqv00000gn/T/ipykernel_83744/1623604117.py:5: FutureWarning: suggest_uniform has been deprecated in v3.0.0. This feature will be removed in v6.0.0. See https://github.com/optuna/optuna/releases/tag/v3.0.0. Use suggest_float instead.\n",
      "  alpha = trial.suggest_uniform('alpha', 0.0, 1.0)\n"
     ]
    },
    {
     "name": "stdout",
     "output_type": "stream",
     "text": [
      "EvaluatorHoldout: Processed 5000 (14.0%) in 19.64 min. Users per second: 4\n",
      "EvaluatorHoldout: Processed 35595 (100.0%) in 21.81 min. Users per second: 27\n"
     ]
    },
    {
     "name": "stderr",
     "output_type": "stream",
     "text": [
      "[I 2024-12-25 17:58:01,633] Trial 58 finished with value: 0.060377049344809926 and parameters: {'alpha': 0.8266678175218887}. Best is trial 30 with value: 0.06066013150589465.\n",
      "/var/folders/50/7hjr20g17_18p725nbt0qqv00000gn/T/ipykernel_83744/1623604117.py:5: FutureWarning: suggest_uniform has been deprecated in v3.0.0. This feature will be removed in v6.0.0. See https://github.com/optuna/optuna/releases/tag/v3.0.0. Use suggest_float instead.\n",
      "  alpha = trial.suggest_uniform('alpha', 0.0, 1.0)\n"
     ]
    },
    {
     "name": "stdout",
     "output_type": "stream",
     "text": [
      "EvaluatorHoldout: Processed 35595 (100.0%) in 2.85 min. Users per second: 208\n"
     ]
    },
    {
     "name": "stderr",
     "output_type": "stream",
     "text": [
      "[I 2024-12-25 18:03:14,141] Trial 59 finished with value: 0.06061145336534961 and parameters: {'alpha': 0.5935870044260229}. Best is trial 30 with value: 0.06066013150589465.\n",
      "/var/folders/50/7hjr20g17_18p725nbt0qqv00000gn/T/ipykernel_83744/1623604117.py:5: FutureWarning: suggest_uniform has been deprecated in v3.0.0. This feature will be removed in v6.0.0. See https://github.com/optuna/optuna/releases/tag/v3.0.0. Use suggest_float instead.\n",
      "  alpha = trial.suggest_uniform('alpha', 0.0, 1.0)\n"
     ]
    },
    {
     "name": "stdout",
     "output_type": "stream",
     "text": [
      "EvaluatorHoldout: Processed 35595 (100.0%) in 2.86 min. Users per second: 208\n"
     ]
    },
    {
     "name": "stderr",
     "output_type": "stream",
     "text": [
      "[I 2024-12-25 18:08:20,582] Trial 60 finished with value: 0.060638170377949656 and parameters: {'alpha': 0.634158465593685}. Best is trial 30 with value: 0.06066013150589465.\n",
      "/var/folders/50/7hjr20g17_18p725nbt0qqv00000gn/T/ipykernel_83744/1623604117.py:5: FutureWarning: suggest_uniform has been deprecated in v3.0.0. This feature will be removed in v6.0.0. See https://github.com/optuna/optuna/releases/tag/v3.0.0. Use suggest_float instead.\n",
      "  alpha = trial.suggest_uniform('alpha', 0.0, 1.0)\n"
     ]
    },
    {
     "name": "stdout",
     "output_type": "stream",
     "text": [
      "EvaluatorHoldout: Processed 35595 (100.0%) in 2.82 min. Users per second: 210\n"
     ]
    },
    {
     "name": "stderr",
     "output_type": "stream",
     "text": [
      "[I 2024-12-25 18:13:24,536] Trial 61 finished with value: 0.06062906106395194 and parameters: {'alpha': 0.6387612623748379}. Best is trial 30 with value: 0.06066013150589465.\n",
      "/var/folders/50/7hjr20g17_18p725nbt0qqv00000gn/T/ipykernel_83744/1623604117.py:5: FutureWarning: suggest_uniform has been deprecated in v3.0.0. This feature will be removed in v6.0.0. See https://github.com/optuna/optuna/releases/tag/v3.0.0. Use suggest_float instead.\n",
      "  alpha = trial.suggest_uniform('alpha', 0.0, 1.0)\n"
     ]
    },
    {
     "name": "stdout",
     "output_type": "stream",
     "text": [
      "EvaluatorHoldout: Processed 35595 (100.0%) in 2.75 min. Users per second: 216\n"
     ]
    },
    {
     "name": "stderr",
     "output_type": "stream",
     "text": [
      "[I 2024-12-25 18:18:23,205] Trial 62 finished with value: 0.06053427336191559 and parameters: {'alpha': 0.5485626223732964}. Best is trial 30 with value: 0.06066013150589465.\n",
      "/var/folders/50/7hjr20g17_18p725nbt0qqv00000gn/T/ipykernel_83744/1623604117.py:5: FutureWarning: suggest_uniform has been deprecated in v3.0.0. This feature will be removed in v6.0.0. See https://github.com/optuna/optuna/releases/tag/v3.0.0. Use suggest_float instead.\n",
      "  alpha = trial.suggest_uniform('alpha', 0.0, 1.0)\n"
     ]
    },
    {
     "name": "stdout",
     "output_type": "stream",
     "text": [
      "EvaluatorHoldout: Processed 35595 (100.0%) in 2.85 min. Users per second: 208\n"
     ]
    },
    {
     "name": "stderr",
     "output_type": "stream",
     "text": [
      "[I 2024-12-25 18:23:25,845] Trial 63 finished with value: 0.06048906458682936 and parameters: {'alpha': 0.7406684302537998}. Best is trial 30 with value: 0.06066013150589465.\n",
      "/var/folders/50/7hjr20g17_18p725nbt0qqv00000gn/T/ipykernel_83744/1623604117.py:5: FutureWarning: suggest_uniform has been deprecated in v3.0.0. This feature will be removed in v6.0.0. See https://github.com/optuna/optuna/releases/tag/v3.0.0. Use suggest_float instead.\n",
      "  alpha = trial.suggest_uniform('alpha', 0.0, 1.0)\n"
     ]
    },
    {
     "name": "stdout",
     "output_type": "stream",
     "text": [
      "EvaluatorHoldout: Processed 35595 (100.0%) in 2.73 min. Users per second: 217\n"
     ]
    },
    {
     "name": "stderr",
     "output_type": "stream",
     "text": [
      "[I 2024-12-25 18:28:23,787] Trial 64 finished with value: 0.060659522806170874 and parameters: {'alpha': 0.617289309362487}. Best is trial 30 with value: 0.06066013150589465.\n",
      "/var/folders/50/7hjr20g17_18p725nbt0qqv00000gn/T/ipykernel_83744/1623604117.py:5: FutureWarning: suggest_uniform has been deprecated in v3.0.0. This feature will be removed in v6.0.0. See https://github.com/optuna/optuna/releases/tag/v3.0.0. Use suggest_float instead.\n",
      "  alpha = trial.suggest_uniform('alpha', 0.0, 1.0)\n"
     ]
    },
    {
     "name": "stdout",
     "output_type": "stream",
     "text": [
      "EvaluatorHoldout: Processed 35595 (100.0%) in 2.80 min. Users per second: 212\n"
     ]
    },
    {
     "name": "stderr",
     "output_type": "stream",
     "text": [
      "[I 2024-12-25 18:33:25,157] Trial 65 finished with value: 0.060590775412096745 and parameters: {'alpha': 0.583273190961432}. Best is trial 30 with value: 0.06066013150589465.\n",
      "/var/folders/50/7hjr20g17_18p725nbt0qqv00000gn/T/ipykernel_83744/1623604117.py:5: FutureWarning: suggest_uniform has been deprecated in v3.0.0. This feature will be removed in v6.0.0. See https://github.com/optuna/optuna/releases/tag/v3.0.0. Use suggest_float instead.\n",
      "  alpha = trial.suggest_uniform('alpha', 0.0, 1.0)\n"
     ]
    },
    {
     "name": "stdout",
     "output_type": "stream",
     "text": [
      "EvaluatorHoldout: Processed 35595 (100.0%) in 2.79 min. Users per second: 213\n"
     ]
    },
    {
     "name": "stderr",
     "output_type": "stream",
     "text": [
      "[I 2024-12-25 18:38:25,131] Trial 66 finished with value: 0.0605459178099278 and parameters: {'alpha': 0.6762214990430399}. Best is trial 30 with value: 0.06066013150589465.\n",
      "/var/folders/50/7hjr20g17_18p725nbt0qqv00000gn/T/ipykernel_83744/1623604117.py:5: FutureWarning: suggest_uniform has been deprecated in v3.0.0. This feature will be removed in v6.0.0. See https://github.com/optuna/optuna/releases/tag/v3.0.0. Use suggest_float instead.\n",
      "  alpha = trial.suggest_uniform('alpha', 0.0, 1.0)\n"
     ]
    },
    {
     "name": "stdout",
     "output_type": "stream",
     "text": [
      "EvaluatorHoldout: Processed 35595 (100.0%) in 2.85 min. Users per second: 208\n"
     ]
    },
    {
     "name": "stderr",
     "output_type": "stream",
     "text": [
      "[I 2024-12-25 18:43:31,117] Trial 67 finished with value: 0.060628078894617396 and parameters: {'alpha': 0.6054132060675}. Best is trial 30 with value: 0.06066013150589465.\n",
      "/var/folders/50/7hjr20g17_18p725nbt0qqv00000gn/T/ipykernel_83744/1623604117.py:5: FutureWarning: suggest_uniform has been deprecated in v3.0.0. This feature will be removed in v6.0.0. See https://github.com/optuna/optuna/releases/tag/v3.0.0. Use suggest_float instead.\n",
      "  alpha = trial.suggest_uniform('alpha', 0.0, 1.0)\n"
     ]
    },
    {
     "name": "stdout",
     "output_type": "stream",
     "text": [
      "EvaluatorHoldout: Processed 35595 (100.0%) in 2.82 min. Users per second: 210\n"
     ]
    },
    {
     "name": "stderr",
     "output_type": "stream",
     "text": [
      "[I 2024-12-25 18:48:37,113] Trial 68 finished with value: 0.060538480747918164 and parameters: {'alpha': 0.5573959600322748}. Best is trial 30 with value: 0.06066013150589465.\n",
      "/var/folders/50/7hjr20g17_18p725nbt0qqv00000gn/T/ipykernel_83744/1623604117.py:5: FutureWarning: suggest_uniform has been deprecated in v3.0.0. This feature will be removed in v6.0.0. See https://github.com/optuna/optuna/releases/tag/v3.0.0. Use suggest_float instead.\n",
      "  alpha = trial.suggest_uniform('alpha', 0.0, 1.0)\n"
     ]
    },
    {
     "name": "stdout",
     "output_type": "stream",
     "text": [
      "EvaluatorHoldout: Processed 35595 (100.0%) in 2.86 min. Users per second: 208\n"
     ]
    },
    {
     "name": "stderr",
     "output_type": "stream",
     "text": [
      "[I 2024-12-25 18:53:43,716] Trial 69 finished with value: 0.06056602719750455 and parameters: {'alpha': 0.6648080229248646}. Best is trial 30 with value: 0.06066013150589465.\n",
      "/var/folders/50/7hjr20g17_18p725nbt0qqv00000gn/T/ipykernel_83744/1623604117.py:5: FutureWarning: suggest_uniform has been deprecated in v3.0.0. This feature will be removed in v6.0.0. See https://github.com/optuna/optuna/releases/tag/v3.0.0. Use suggest_float instead.\n",
      "  alpha = trial.suggest_uniform('alpha', 0.0, 1.0)\n"
     ]
    },
    {
     "name": "stdout",
     "output_type": "stream",
     "text": [
      "EvaluatorHoldout: Processed 35595 (100.0%) in 2.82 min. Users per second: 211\n"
     ]
    },
    {
     "name": "stderr",
     "output_type": "stream",
     "text": [
      "[I 2024-12-25 18:58:48,078] Trial 70 finished with value: 0.06048776580445148 and parameters: {'alpha': 0.5129161362811936}. Best is trial 30 with value: 0.06066013150589465.\n",
      "/var/folders/50/7hjr20g17_18p725nbt0qqv00000gn/T/ipykernel_83744/1623604117.py:5: FutureWarning: suggest_uniform has been deprecated in v3.0.0. This feature will be removed in v6.0.0. See https://github.com/optuna/optuna/releases/tag/v3.0.0. Use suggest_float instead.\n",
      "  alpha = trial.suggest_uniform('alpha', 0.0, 1.0)\n"
     ]
    },
    {
     "name": "stdout",
     "output_type": "stream",
     "text": [
      "EvaluatorHoldout: Processed 35595 (100.0%) in 2.82 min. Users per second: 211\n"
     ]
    },
    {
     "name": "stderr",
     "output_type": "stream",
     "text": [
      "[I 2024-12-25 19:03:54,530] Trial 71 finished with value: 0.06065371674726749 and parameters: {'alpha': 0.6246406455390123}. Best is trial 30 with value: 0.06066013150589465.\n",
      "/var/folders/50/7hjr20g17_18p725nbt0qqv00000gn/T/ipykernel_83744/1623604117.py:5: FutureWarning: suggest_uniform has been deprecated in v3.0.0. This feature will be removed in v6.0.0. See https://github.com/optuna/optuna/releases/tag/v3.0.0. Use suggest_float instead.\n",
      "  alpha = trial.suggest_uniform('alpha', 0.0, 1.0)\n"
     ]
    },
    {
     "name": "stdout",
     "output_type": "stream",
     "text": [
      "EvaluatorHoldout: Processed 35595 (100.0%) in 2.79 min. Users per second: 213\n"
     ]
    },
    {
     "name": "stderr",
     "output_type": "stream",
     "text": [
      "[I 2024-12-25 19:09:01,502] Trial 72 finished with value: 0.060650237348297144 and parameters: {'alpha': 0.624049421604534}. Best is trial 30 with value: 0.06066013150589465.\n",
      "/var/folders/50/7hjr20g17_18p725nbt0qqv00000gn/T/ipykernel_83744/1623604117.py:5: FutureWarning: suggest_uniform has been deprecated in v3.0.0. This feature will be removed in v6.0.0. See https://github.com/optuna/optuna/releases/tag/v3.0.0. Use suggest_float instead.\n",
      "  alpha = trial.suggest_uniform('alpha', 0.0, 1.0)\n"
     ]
    },
    {
     "name": "stdout",
     "output_type": "stream",
     "text": [
      "EvaluatorHoldout: Processed 35595 (100.0%) in 2.83 min. Users per second: 209\n"
     ]
    },
    {
     "name": "stderr",
     "output_type": "stream",
     "text": [
      "[I 2024-12-25 19:14:10,137] Trial 73 finished with value: 0.060550905580191466 and parameters: {'alpha': 0.7063375169962852}. Best is trial 30 with value: 0.06066013150589465.\n",
      "/var/folders/50/7hjr20g17_18p725nbt0qqv00000gn/T/ipykernel_83744/1623604117.py:5: FutureWarning: suggest_uniform has been deprecated in v3.0.0. This feature will be removed in v6.0.0. See https://github.com/optuna/optuna/releases/tag/v3.0.0. Use suggest_float instead.\n",
      "  alpha = trial.suggest_uniform('alpha', 0.0, 1.0)\n"
     ]
    },
    {
     "name": "stdout",
     "output_type": "stream",
     "text": [
      "EvaluatorHoldout: Processed 35595 (100.0%) in 2.78 min. Users per second: 213\n"
     ]
    },
    {
     "name": "stderr",
     "output_type": "stream",
     "text": [
      "[I 2024-12-25 19:19:13,857] Trial 74 finished with value: 0.06045938768821022 and parameters: {'alpha': 0.7610223779791307}. Best is trial 30 with value: 0.06066013150589465.\n",
      "/var/folders/50/7hjr20g17_18p725nbt0qqv00000gn/T/ipykernel_83744/1623604117.py:5: FutureWarning: suggest_uniform has been deprecated in v3.0.0. This feature will be removed in v6.0.0. See https://github.com/optuna/optuna/releases/tag/v3.0.0. Use suggest_float instead.\n",
      "  alpha = trial.suggest_uniform('alpha', 0.0, 1.0)\n"
     ]
    },
    {
     "name": "stdout",
     "output_type": "stream",
     "text": [
      "EvaluatorHoldout: Processed 35595 (100.0%) in 2.85 min. Users per second: 208\n"
     ]
    },
    {
     "name": "stderr",
     "output_type": "stream",
     "text": [
      "[I 2024-12-25 19:24:23,089] Trial 75 finished with value: 0.060591057465265566 and parameters: {'alpha': 0.6529195227057378}. Best is trial 30 with value: 0.06066013150589465.\n",
      "/var/folders/50/7hjr20g17_18p725nbt0qqv00000gn/T/ipykernel_83744/1623604117.py:5: FutureWarning: suggest_uniform has been deprecated in v3.0.0. This feature will be removed in v6.0.0. See https://github.com/optuna/optuna/releases/tag/v3.0.0. Use suggest_float instead.\n",
      "  alpha = trial.suggest_uniform('alpha', 0.0, 1.0)\n"
     ]
    },
    {
     "name": "stdout",
     "output_type": "stream",
     "text": [
      "EvaluatorHoldout: Processed 35595 (100.0%) in 2.84 min. Users per second: 209\n"
     ]
    },
    {
     "name": "stderr",
     "output_type": "stream",
     "text": [
      "[I 2024-12-25 19:29:28,143] Trial 76 finished with value: 0.060362714800765965 and parameters: {'alpha': 0.47464240294331733}. Best is trial 30 with value: 0.06066013150589465.\n",
      "/var/folders/50/7hjr20g17_18p725nbt0qqv00000gn/T/ipykernel_83744/1623604117.py:5: FutureWarning: suggest_uniform has been deprecated in v3.0.0. This feature will be removed in v6.0.0. See https://github.com/optuna/optuna/releases/tag/v3.0.0. Use suggest_float instead.\n",
      "  alpha = trial.suggest_uniform('alpha', 0.0, 1.0)\n"
     ]
    },
    {
     "name": "stdout",
     "output_type": "stream",
     "text": [
      "EvaluatorHoldout: Processed 35595 (100.0%) in 2.91 min. Users per second: 204\n"
     ]
    },
    {
     "name": "stderr",
     "output_type": "stream",
     "text": [
      "[I 2024-12-25 19:34:37,769] Trial 77 finished with value: 0.060586644949685624 and parameters: {'alpha': 0.5817266677729432}. Best is trial 30 with value: 0.06066013150589465.\n",
      "/var/folders/50/7hjr20g17_18p725nbt0qqv00000gn/T/ipykernel_83744/1623604117.py:5: FutureWarning: suggest_uniform has been deprecated in v3.0.0. This feature will be removed in v6.0.0. See https://github.com/optuna/optuna/releases/tag/v3.0.0. Use suggest_float instead.\n",
      "  alpha = trial.suggest_uniform('alpha', 0.0, 1.0)\n"
     ]
    },
    {
     "name": "stdout",
     "output_type": "stream",
     "text": [
      "EvaluatorHoldout: Processed 35595 (100.0%) in 2.78 min. Users per second: 213\n"
     ]
    },
    {
     "name": "stderr",
     "output_type": "stream",
     "text": [
      "[I 2024-12-25 19:39:41,634] Trial 78 finished with value: 0.060649924079757986 and parameters: {'alpha': 0.6241979479137533}. Best is trial 30 with value: 0.06066013150589465.\n",
      "/var/folders/50/7hjr20g17_18p725nbt0qqv00000gn/T/ipykernel_83744/1623604117.py:5: FutureWarning: suggest_uniform has been deprecated in v3.0.0. This feature will be removed in v6.0.0. See https://github.com/optuna/optuna/releases/tag/v3.0.0. Use suggest_float instead.\n",
      "  alpha = trial.suggest_uniform('alpha', 0.0, 1.0)\n"
     ]
    },
    {
     "name": "stdout",
     "output_type": "stream",
     "text": [
      "EvaluatorHoldout: Processed 35595 (100.0%) in 2.87 min. Users per second: 206\n"
     ]
    },
    {
     "name": "stderr",
     "output_type": "stream",
     "text": [
      "[I 2024-12-25 19:44:52,783] Trial 79 finished with value: 0.060528864184151 and parameters: {'alpha': 0.7218703508644796}. Best is trial 30 with value: 0.06066013150589465.\n",
      "/var/folders/50/7hjr20g17_18p725nbt0qqv00000gn/T/ipykernel_83744/1623604117.py:5: FutureWarning: suggest_uniform has been deprecated in v3.0.0. This feature will be removed in v6.0.0. See https://github.com/optuna/optuna/releases/tag/v3.0.0. Use suggest_float instead.\n",
      "  alpha = trial.suggest_uniform('alpha', 0.0, 1.0)\n"
     ]
    },
    {
     "name": "stdout",
     "output_type": "stream",
     "text": [
      "EvaluatorHoldout: Processed 35595 (100.0%) in 2.81 min. Users per second: 211\n"
     ]
    },
    {
     "name": "stderr",
     "output_type": "stream",
     "text": [
      "[I 2024-12-25 19:49:56,767] Trial 80 finished with value: 0.060552901134230924 and parameters: {'alpha': 0.6872255297847897}. Best is trial 30 with value: 0.06066013150589465.\n",
      "/var/folders/50/7hjr20g17_18p725nbt0qqv00000gn/T/ipykernel_83744/1623604117.py:5: FutureWarning: suggest_uniform has been deprecated in v3.0.0. This feature will be removed in v6.0.0. See https://github.com/optuna/optuna/releases/tag/v3.0.0. Use suggest_float instead.\n",
      "  alpha = trial.suggest_uniform('alpha', 0.0, 1.0)\n"
     ]
    },
    {
     "name": "stdout",
     "output_type": "stream",
     "text": [
      "EvaluatorHoldout: Processed 35595 (100.0%) in 2.88 min. Users per second: 206\n"
     ]
    },
    {
     "name": "stderr",
     "output_type": "stream",
     "text": [
      "[I 2024-12-25 19:55:05,918] Trial 81 finished with value: 0.06065320057882042 and parameters: {'alpha': 0.6243560185647231}. Best is trial 30 with value: 0.06066013150589465.\n",
      "/var/folders/50/7hjr20g17_18p725nbt0qqv00000gn/T/ipykernel_83744/1623604117.py:5: FutureWarning: suggest_uniform has been deprecated in v3.0.0. This feature will be removed in v6.0.0. See https://github.com/optuna/optuna/releases/tag/v3.0.0. Use suggest_float instead.\n",
      "  alpha = trial.suggest_uniform('alpha', 0.0, 1.0)\n"
     ]
    },
    {
     "name": "stdout",
     "output_type": "stream",
     "text": [
      "EvaluatorHoldout: Processed 35595 (100.0%) in 2.82 min. Users per second: 210\n"
     ]
    },
    {
     "name": "stderr",
     "output_type": "stream",
     "text": [
      "[I 2024-12-25 20:00:16,240] Trial 82 finished with value: 0.06052762894734872 and parameters: {'alpha': 0.5550331010610732}. Best is trial 30 with value: 0.06066013150589465.\n",
      "/var/folders/50/7hjr20g17_18p725nbt0qqv00000gn/T/ipykernel_83744/1623604117.py:5: FutureWarning: suggest_uniform has been deprecated in v3.0.0. This feature will be removed in v6.0.0. See https://github.com/optuna/optuna/releases/tag/v3.0.0. Use suggest_float instead.\n",
      "  alpha = trial.suggest_uniform('alpha', 0.0, 1.0)\n"
     ]
    },
    {
     "name": "stdout",
     "output_type": "stream",
     "text": [
      "EvaluatorHoldout: Processed 35595 (100.0%) in 2.84 min. Users per second: 209\n"
     ]
    },
    {
     "name": "stderr",
     "output_type": "stream",
     "text": [
      "[I 2024-12-25 20:05:25,985] Trial 83 finished with value: 0.06051138357669974 and parameters: {'alpha': 0.5262527352161941}. Best is trial 30 with value: 0.06066013150589465.\n",
      "/var/folders/50/7hjr20g17_18p725nbt0qqv00000gn/T/ipykernel_83744/1623604117.py:5: FutureWarning: suggest_uniform has been deprecated in v3.0.0. This feature will be removed in v6.0.0. See https://github.com/optuna/optuna/releases/tag/v3.0.0. Use suggest_float instead.\n",
      "  alpha = trial.suggest_uniform('alpha', 0.0, 1.0)\n"
     ]
    },
    {
     "name": "stdout",
     "output_type": "stream",
     "text": [
      "EvaluatorHoldout: Processed 35595 (100.0%) in 2.84 min. Users per second: 209\n"
     ]
    },
    {
     "name": "stderr",
     "output_type": "stream",
     "text": [
      "[I 2024-12-25 20:10:32,377] Trial 84 finished with value: 0.060613986269694616 and parameters: {'alpha': 0.6016170386399363}. Best is trial 30 with value: 0.06066013150589465.\n",
      "/var/folders/50/7hjr20g17_18p725nbt0qqv00000gn/T/ipykernel_83744/1623604117.py:5: FutureWarning: suggest_uniform has been deprecated in v3.0.0. This feature will be removed in v6.0.0. See https://github.com/optuna/optuna/releases/tag/v3.0.0. Use suggest_float instead.\n",
      "  alpha = trial.suggest_uniform('alpha', 0.0, 1.0)\n"
     ]
    },
    {
     "name": "stdout",
     "output_type": "stream",
     "text": [
      "EvaluatorHoldout: Processed 35595 (100.0%) in 2.83 min. Users per second: 209\n"
     ]
    },
    {
     "name": "stderr",
     "output_type": "stream",
     "text": [
      "[I 2024-12-25 20:15:37,900] Trial 85 finished with value: 0.0606037442836836 and parameters: {'alpha': 0.647497424066781}. Best is trial 30 with value: 0.06066013150589465.\n",
      "/var/folders/50/7hjr20g17_18p725nbt0qqv00000gn/T/ipykernel_83744/1623604117.py:5: FutureWarning: suggest_uniform has been deprecated in v3.0.0. This feature will be removed in v6.0.0. See https://github.com/optuna/optuna/releases/tag/v3.0.0. Use suggest_float instead.\n",
      "  alpha = trial.suggest_uniform('alpha', 0.0, 1.0)\n"
     ]
    },
    {
     "name": "stdout",
     "output_type": "stream",
     "text": [
      "EvaluatorHoldout: Processed 35595 (100.0%) in 2.82 min. Users per second: 210\n"
     ]
    },
    {
     "name": "stderr",
     "output_type": "stream",
     "text": [
      "[I 2024-12-25 20:20:43,661] Trial 86 finished with value: 0.060432476694379775 and parameters: {'alpha': 0.7960503958465232}. Best is trial 30 with value: 0.06066013150589465.\n",
      "/var/folders/50/7hjr20g17_18p725nbt0qqv00000gn/T/ipykernel_83744/1623604117.py:5: FutureWarning: suggest_uniform has been deprecated in v3.0.0. This feature will be removed in v6.0.0. See https://github.com/optuna/optuna/releases/tag/v3.0.0. Use suggest_float instead.\n",
      "  alpha = trial.suggest_uniform('alpha', 0.0, 1.0)\n"
     ]
    },
    {
     "name": "stdout",
     "output_type": "stream",
     "text": [
      "EvaluatorHoldout: Processed 35595 (100.0%) in 2.79 min. Users per second: 213\n"
     ]
    },
    {
     "name": "stderr",
     "output_type": "stream",
     "text": [
      "[I 2024-12-25 20:25:51,091] Trial 87 finished with value: 0.060578032851945775 and parameters: {'alpha': 0.5742860588960488}. Best is trial 30 with value: 0.06066013150589465.\n",
      "/var/folders/50/7hjr20g17_18p725nbt0qqv00000gn/T/ipykernel_83744/1623604117.py:5: FutureWarning: suggest_uniform has been deprecated in v3.0.0. This feature will be removed in v6.0.0. See https://github.com/optuna/optuna/releases/tag/v3.0.0. Use suggest_float instead.\n",
      "  alpha = trial.suggest_uniform('alpha', 0.0, 1.0)\n"
     ]
    },
    {
     "name": "stdout",
     "output_type": "stream",
     "text": [
      "EvaluatorHoldout: Processed 35595 (100.0%) in 2.82 min. Users per second: 211\n"
     ]
    },
    {
     "name": "stderr",
     "output_type": "stream",
     "text": [
      "[I 2024-12-25 20:30:55,909] Trial 88 finished with value: 0.06065964766765267 and parameters: {'alpha': 0.6172850269047339}. Best is trial 30 with value: 0.06066013150589465.\n",
      "/var/folders/50/7hjr20g17_18p725nbt0qqv00000gn/T/ipykernel_83744/1623604117.py:5: FutureWarning: suggest_uniform has been deprecated in v3.0.0. This feature will be removed in v6.0.0. See https://github.com/optuna/optuna/releases/tag/v3.0.0. Use suggest_float instead.\n",
      "  alpha = trial.suggest_uniform('alpha', 0.0, 1.0)\n"
     ]
    },
    {
     "name": "stdout",
     "output_type": "stream",
     "text": [
      "EvaluatorHoldout: Processed 35595 (100.0%) in 2.83 min. Users per second: 210\n"
     ]
    },
    {
     "name": "stderr",
     "output_type": "stream",
     "text": [
      "[I 2024-12-25 20:36:02,208] Trial 89 finished with value: 0.06055800038796062 and parameters: {'alpha': 0.667494476523605}. Best is trial 30 with value: 0.06066013150589465.\n",
      "/var/folders/50/7hjr20g17_18p725nbt0qqv00000gn/T/ipykernel_83744/1623604117.py:5: FutureWarning: suggest_uniform has been deprecated in v3.0.0. This feature will be removed in v6.0.0. See https://github.com/optuna/optuna/releases/tag/v3.0.0. Use suggest_float instead.\n",
      "  alpha = trial.suggest_uniform('alpha', 0.0, 1.0)\n"
     ]
    },
    {
     "name": "stdout",
     "output_type": "stream",
     "text": [
      "EvaluatorHoldout: Processed 35595 (100.0%) in 2.94 min. Users per second: 202\n"
     ]
    },
    {
     "name": "stderr",
     "output_type": "stream",
     "text": [
      "[I 2024-12-25 20:41:15,456] Trial 90 finished with value: 0.060642010983349336 and parameters: {'alpha': 0.6141751263393094}. Best is trial 30 with value: 0.06066013150589465.\n",
      "/var/folders/50/7hjr20g17_18p725nbt0qqv00000gn/T/ipykernel_83744/1623604117.py:5: FutureWarning: suggest_uniform has been deprecated in v3.0.0. This feature will be removed in v6.0.0. See https://github.com/optuna/optuna/releases/tag/v3.0.0. Use suggest_float instead.\n",
      "  alpha = trial.suggest_uniform('alpha', 0.0, 1.0)\n"
     ]
    },
    {
     "name": "stdout",
     "output_type": "stream",
     "text": [
      "EvaluatorHoldout: Processed 35595 (100.0%) in 2.79 min. Users per second: 213\n"
     ]
    },
    {
     "name": "stderr",
     "output_type": "stream",
     "text": [
      "[I 2024-12-25 20:46:21,091] Trial 91 finished with value: 0.060664285379833566 and parameters: {'alpha': 0.622977719931239}. Best is trial 91 with value: 0.060664285379833566.\n",
      "/var/folders/50/7hjr20g17_18p725nbt0qqv00000gn/T/ipykernel_83744/1623604117.py:5: FutureWarning: suggest_uniform has been deprecated in v3.0.0. This feature will be removed in v6.0.0. See https://github.com/optuna/optuna/releases/tag/v3.0.0. Use suggest_float instead.\n",
      "  alpha = trial.suggest_uniform('alpha', 0.0, 1.0)\n"
     ]
    },
    {
     "name": "stdout",
     "output_type": "stream",
     "text": [
      "EvaluatorHoldout: Processed 35595 (100.0%) in 2.78 min. Users per second: 214\n"
     ]
    },
    {
     "name": "stderr",
     "output_type": "stream",
     "text": [
      "[I 2024-12-25 20:51:28,390] Trial 92 finished with value: 0.06051280276122045 and parameters: {'alpha': 0.5278581401798902}. Best is trial 91 with value: 0.060664285379833566.\n",
      "/var/folders/50/7hjr20g17_18p725nbt0qqv00000gn/T/ipykernel_83744/1623604117.py:5: FutureWarning: suggest_uniform has been deprecated in v3.0.0. This feature will be removed in v6.0.0. See https://github.com/optuna/optuna/releases/tag/v3.0.0. Use suggest_float instead.\n",
      "  alpha = trial.suggest_uniform('alpha', 0.0, 1.0)\n"
     ]
    },
    {
     "name": "stdout",
     "output_type": "stream",
     "text": [
      "EvaluatorHoldout: Processed 35595 (100.0%) in 2.81 min. Users per second: 211\n"
     ]
    },
    {
     "name": "stderr",
     "output_type": "stream",
     "text": [
      "[I 2024-12-25 20:56:48,162] Trial 93 finished with value: 0.06060635522645461 and parameters: {'alpha': 0.5947908849137805}. Best is trial 91 with value: 0.060664285379833566.\n",
      "/var/folders/50/7hjr20g17_18p725nbt0qqv00000gn/T/ipykernel_83744/1623604117.py:5: FutureWarning: suggest_uniform has been deprecated in v3.0.0. This feature will be removed in v6.0.0. See https://github.com/optuna/optuna/releases/tag/v3.0.0. Use suggest_float instead.\n",
      "  alpha = trial.suggest_uniform('alpha', 0.0, 1.0)\n"
     ]
    },
    {
     "name": "stdout",
     "output_type": "stream",
     "text": [
      "EvaluatorHoldout: Processed 35595 (100.0%) in 2.92 min. Users per second: 203\n"
     ]
    },
    {
     "name": "stderr",
     "output_type": "stream",
     "text": [
      "[I 2024-12-25 21:02:04,354] Trial 94 finished with value: 0.060504881860969396 and parameters: {'alpha': 0.7310383845312747}. Best is trial 91 with value: 0.060664285379833566.\n",
      "/var/folders/50/7hjr20g17_18p725nbt0qqv00000gn/T/ipykernel_83744/1623604117.py:5: FutureWarning: suggest_uniform has been deprecated in v3.0.0. This feature will be removed in v6.0.0. See https://github.com/optuna/optuna/releases/tag/v3.0.0. Use suggest_float instead.\n",
      "  alpha = trial.suggest_uniform('alpha', 0.0, 1.0)\n"
     ]
    },
    {
     "name": "stdout",
     "output_type": "stream",
     "text": [
      "EvaluatorHoldout: Processed 35595 (100.0%) in 2.90 min. Users per second: 205\n"
     ]
    },
    {
     "name": "stderr",
     "output_type": "stream",
     "text": [
      "[I 2024-12-25 21:07:17,189] Trial 95 finished with value: 0.06057230037212994 and parameters: {'alpha': 0.6978565844034061}. Best is trial 91 with value: 0.060664285379833566.\n",
      "/var/folders/50/7hjr20g17_18p725nbt0qqv00000gn/T/ipykernel_83744/1623604117.py:5: FutureWarning: suggest_uniform has been deprecated in v3.0.0. This feature will be removed in v6.0.0. See https://github.com/optuna/optuna/releases/tag/v3.0.0. Use suggest_float instead.\n",
      "  alpha = trial.suggest_uniform('alpha', 0.0, 1.0)\n"
     ]
    },
    {
     "name": "stdout",
     "output_type": "stream",
     "text": [
      "EvaluatorHoldout: Processed 35595 (100.0%) in 2.89 min. Users per second: 206\n"
     ]
    },
    {
     "name": "stderr",
     "output_type": "stream",
     "text": [
      "[I 2024-12-25 21:12:29,979] Trial 96 finished with value: 0.06059929720822934 and parameters: {'alpha': 0.6479565732144962}. Best is trial 91 with value: 0.060664285379833566.\n",
      "/var/folders/50/7hjr20g17_18p725nbt0qqv00000gn/T/ipykernel_83744/1623604117.py:5: FutureWarning: suggest_uniform has been deprecated in v3.0.0. This feature will be removed in v6.0.0. See https://github.com/optuna/optuna/releases/tag/v3.0.0. Use suggest_float instead.\n",
      "  alpha = trial.suggest_uniform('alpha', 0.0, 1.0)\n"
     ]
    },
    {
     "name": "stdout",
     "output_type": "stream",
     "text": [
      "EvaluatorHoldout: Processed 35595 (100.0%) in 2.88 min. Users per second: 206\n"
     ]
    },
    {
     "name": "stderr",
     "output_type": "stream",
     "text": [
      "[I 2024-12-25 21:17:41,055] Trial 97 finished with value: 0.05348922177851594 and parameters: {'alpha': 0.047033528291713034}. Best is trial 91 with value: 0.060664285379833566.\n",
      "/var/folders/50/7hjr20g17_18p725nbt0qqv00000gn/T/ipykernel_83744/1623604117.py:5: FutureWarning: suggest_uniform has been deprecated in v3.0.0. This feature will be removed in v6.0.0. See https://github.com/optuna/optuna/releases/tag/v3.0.0. Use suggest_float instead.\n",
      "  alpha = trial.suggest_uniform('alpha', 0.0, 1.0)\n"
     ]
    },
    {
     "name": "stdout",
     "output_type": "stream",
     "text": [
      "EvaluatorHoldout: Processed 35595 (100.0%) in 2.81 min. Users per second: 211\n"
     ]
    },
    {
     "name": "stderr",
     "output_type": "stream",
     "text": [
      "[I 2024-12-25 21:22:48,968] Trial 98 finished with value: 0.06065873907740571 and parameters: {'alpha': 0.6196575166473326}. Best is trial 91 with value: 0.060664285379833566.\n",
      "/var/folders/50/7hjr20g17_18p725nbt0qqv00000gn/T/ipykernel_83744/1623604117.py:5: FutureWarning: suggest_uniform has been deprecated in v3.0.0. This feature will be removed in v6.0.0. See https://github.com/optuna/optuna/releases/tag/v3.0.0. Use suggest_float instead.\n",
      "  alpha = trial.suggest_uniform('alpha', 0.0, 1.0)\n"
     ]
    },
    {
     "name": "stdout",
     "output_type": "stream",
     "text": [
      "EvaluatorHoldout: Processed 35595 (100.0%) in 2.87 min. Users per second: 207\n"
     ]
    },
    {
     "name": "stderr",
     "output_type": "stream",
     "text": [
      "[I 2024-12-25 21:27:57,833] Trial 99 finished with value: 0.06055491564045933 and parameters: {'alpha': 0.5658948114289528}. Best is trial 91 with value: 0.060664285379833566.\n"
     ]
    }
   ],
   "source": [
    "import optuna\n",
    "\n",
    "optuna_study = optuna.create_study(study_name=\"hybrid_slim_ep3\", direction=\"maximize\")\n",
    "        \n",
    "save_results = SaveResults()\n",
    "        \n",
    "optuna_study.optimize(objective_function,\n",
    "                      callbacks=[save_results],\n",
    "                      n_trials = 100\n",
    "                      )"
   ]
  },
  {
   "cell_type": "code",
   "execution_count": 9,
   "metadata": {},
   "outputs": [
    {
     "name": "stdout",
     "output_type": "stream",
     "text": [
      "{'result': 0.060664285379833566, 'alpha': 0.622977719931239}\n"
     ]
    }
   ],
   "source": [
    "best_index = save_results.results_df[\"result\"].idxmax()\n",
    "best_hyperparams = save_results.results_df.loc[best_index].to_dict()\n",
    "print(best_hyperparams)"
   ]
  },
  {
   "cell_type": "markdown",
   "metadata": {},
   "source": [
    "# Now let's produce the csv"
   ]
  },
  {
   "cell_type": "code",
   "execution_count": 5,
   "metadata": {},
   "outputs": [
    {
     "name": "stderr",
     "output_type": "stream",
     "text": [
      "Progress: 100%|██████████| 38121/38121 [15:25<00:00, 41.17items/s] \n"
     ]
    },
    {
     "name": "stdout",
     "output_type": "stream",
     "text": [
      "EASE_R_Recommender: Fitting model... \n",
      "EASE_R_Recommender: Fitting model... done in 15.88 min\n"
     ]
    }
   ],
   "source": [
    "from Recommenders.KNN.ItemKNNCustomSimilarityRecommender import ItemKNNCustomSimilarityRecommender\n",
    "from Recommenders.SLIM.SLIMElasticNetRecommender_Peppe import MultiThreadSLIM_SLIMElasticNetRecommender\n",
    "from Recommenders.EASE_R.EASE_R_Recommender import EASE_R_Recommender\n",
    "\n",
    "recommender_slimNet = MultiThreadSLIM_SLIMElasticNetRecommender(URM_all)\n",
    "recommender_slimNet.fit(topK=142, alpha = 9.521340863590419e-05, l1_ratio = 0.4033590645217344)\n",
    "\n",
    "recommender_easeR = EASE_R_Recommender(URM_all)\n",
    "recommender_easeR.fit(l2_norm=33.20)"
   ]
  },
  {
   "cell_type": "code",
   "execution_count": 6,
   "metadata": {},
   "outputs": [],
   "source": [
    "slim_similarity = recommender_slimNet.W_sparse\n",
    "easeR_similarity = recommender_easeR.W_sparse\n",
    "easeR_similarity = sps.csr_matrix(easeR_similarity)\n",
    "\n",
    "# Saving to disk\n",
    "sps.save_npz(\"slim_best_W.npz\", slim_similarity)\n",
    "sps.save_npz(\"easeR_best_W.npz\", easeR_similarity)"
   ]
  },
  {
   "cell_type": "code",
   "execution_count": 9,
   "metadata": {},
   "outputs": [],
   "source": [
    "alpha = 0.622977719931239\n",
    "new_similarity = slim_similarity.multiply(alpha) + easeR_similarity.multiply(1-alpha)\n",
    "\n",
    "final_recommender = ItemKNNCustomSimilarityRecommender(URM_all)\n",
    "final_recommender.fit(new_similarity)"
   ]
  },
  {
   "cell_type": "code",
   "execution_count": 10,
   "metadata": {},
   "outputs": [
    {
     "name": "stdout",
     "output_type": "stream",
     "text": [
      "   user_id\n",
      "0        0\n",
      "1        1\n",
      "2        2\n",
      "3        3\n",
      "4        4\n",
      "5        5\n",
      "6        6\n",
      "7        7\n",
      "8        8\n",
      "9        9\n"
     ]
    }
   ],
   "source": [
    "target_user = pd.read_csv(\"Dataset/data_target_users_test.csv\")\n",
    "print(target_user.head(10))\n",
    "\n",
    "user_id = target_user['user_id']\n",
    "recommendations = []\n",
    "for user in user_id:\n",
    "    recommendations.append(final_recommender.recommend(user, cutoff=10))\n",
    "\n",
    "# Saving in a submission file for the competition\n",
    "submission = pd.DataFrame(columns=['user_id', 'item_list'])\n",
    "submission['user_id'] = user_id\n",
    "# Convert list of recommendations into a space-separated string\n",
    "submission['item_list'] = [' '.join(map(str, recs)) for recs in recommendations]\n",
    "\n",
    "# Save the submission file\n",
    "submission.to_csv(f\"submissions/hybrid_slim_EASER_alpha:{alpha}.csv\", index=False)"
   ]
  }
 ],
 "metadata": {
  "kernelspec": {
   "display_name": "RecSysPD",
   "language": "python",
   "name": "python3"
  },
  "language_info": {
   "codemirror_mode": {
    "name": "ipython",
    "version": 3
   },
   "file_extension": ".py",
   "mimetype": "text/x-python",
   "name": "python",
   "nbconvert_exporter": "python",
   "pygments_lexer": "ipython3",
   "version": "3.8.20"
  }
 },
 "nbformat": 4,
 "nbformat_minor": 2
}
