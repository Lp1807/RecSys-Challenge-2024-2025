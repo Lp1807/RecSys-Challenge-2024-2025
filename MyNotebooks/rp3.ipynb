{
 "cells": [
  {
   "cell_type": "code",
   "execution_count": 1,
   "metadata": {},
   "outputs": [],
   "source": [
    "import os\n",
    "os.chdir('../')"
   ]
  },
  {
   "cell_type": "code",
   "execution_count": 2,
   "metadata": {},
   "outputs": [
    {
     "name": "stdout",
     "output_type": "stream",
     "text": [
      "   user_id  item_id  data\n",
      "0        0        0   1.0\n",
      "1        0        2   1.0\n",
      "2        0      120   1.0\n",
      "3        0      128   1.0\n",
      "4        0      211   1.0\n",
      "5        0      232   1.0\n",
      "6        0      282   1.0\n",
      "7        0      453   1.0\n",
      "8        0      458   1.0\n",
      "9        0      491   1.0\n"
     ]
    }
   ],
   "source": [
    "import numpy as np\n",
    "import pandas as pd\n",
    "import matplotlib.pyplot as plt\n",
    "\n",
    "data_train_path = \"Dataset/data_train.csv\"\n",
    "\n",
    "URM_all_dataframe = pd.read_csv(data_train_path)\n",
    "print(URM_all_dataframe.head(10))"
   ]
  },
  {
   "cell_type": "markdown",
   "metadata": {},
   "source": [
    "# Splitting 70/20/10 "
   ]
  },
  {
   "cell_type": "code",
   "execution_count": 3,
   "metadata": {},
   "outputs": [
    {
     "name": "stdout",
     "output_type": "stream",
     "text": [
      "Warning: 141 (0.39 %) of 35736 users have no sampled items\n",
      "Warning: 456 (1.28 %) of 35736 users have no sampled items\n",
      "EvaluatorHoldout: Ignoring 456 ( 1.3%) Users that have less than 1 test interactions\n",
      "EvaluatorHoldout: Ignoring 141 ( 0.4%) Users that have less than 1 test interactions\n"
     ]
    }
   ],
   "source": [
    "import numpy as np\n",
    "import scipy.sparse as sps\n",
    "from Data_manager.split_functions.split_train_validation_random_holdout import split_train_in_two_percentage_global_sample\n",
    "from Evaluation.Evaluator import EvaluatorHoldout\n",
    "\n",
    "\n",
    "\n",
    "URM_all = sps.coo_matrix((URM_all_dataframe['data'], (URM_all_dataframe['user_id'], URM_all_dataframe['item_id'])))\n",
    "URM_all = URM_all.tocsr()\n",
    "\n",
    "URM_train_validation, URM_test = split_train_in_two_percentage_global_sample(URM_all, train_percentage = 0.8)\n",
    "URM_train, URM_validation = split_train_in_two_percentage_global_sample(URM_train_validation, train_percentage = 0.8)\n",
    "\n",
    "evaluator_validation = EvaluatorHoldout(URM_validation, cutoff_list=[10])\n",
    "evaluator_test = EvaluatorHoldout(URM_test, cutoff_list=[10])"
   ]
  },
  {
   "cell_type": "markdown",
   "metadata": {},
   "source": [
    "# Defining recommender"
   ]
  },
  {
   "cell_type": "code",
   "execution_count": 4,
   "metadata": {},
   "outputs": [],
   "source": [
    "from Recommenders.GraphBased.RP3betaRecommender import RP3betaRecommender\n",
    "\n",
    "\n",
    "def objective_function(trial):\n",
    "\n",
    "    params = {\n",
    "        'topK': trial.suggest_int('topK', 5, 1000),\n",
    "        'alpha': trial.suggest_float('alpha', 0, 2),\n",
    "        'beta': trial.suggest_float('beta', 0, 2),\n",
    "    }\n",
    "\n",
    "\n",
    "    recommender = RP3betaRecommender(URM_train)\n",
    "\n",
    "    recommender.fit(**params)\n",
    "\n",
    "    result_dict, _ = evaluator_validation.evaluateRecommender(recommender)\n",
    "\n",
    "    MAP = result_dict.loc[10][\"MAP\"]\n",
    "    \n",
    "    return MAP"
   ]
  },
  {
   "cell_type": "code",
   "execution_count": 5,
   "metadata": {},
   "outputs": [],
   "source": [
    "class SaveResults(object):\n",
    "    \n",
    "    def __init__(self):\n",
    "        self.results_df = pd.DataFrame(columns = [\"result\"])\n",
    "    \n",
    "    def __call__(self, optuna_study, optuna_trial):\n",
    "        hyperparam_dict = optuna_trial.params.copy()\n",
    "        hyperparam_dict[\"result\"] = optuna_trial.values[0]\n",
    "        \n",
    "        self.results_df = pd.concat([self.results_df, pd.DataFrame([hyperparam_dict])], ignore_index=True)\n",
    "        self.results_df.to_csv(\"logs/RP3/rp3_firstTrail.csv\", index = False)"
   ]
  },
  {
   "cell_type": "code",
   "execution_count": 6,
   "metadata": {},
   "outputs": [
    {
     "name": "stderr",
     "output_type": "stream",
     "text": [
      "[I 2024-12-23 18:18:07,534] A new study created in memory with name: rp3\n"
     ]
    },
    {
     "name": "stdout",
     "output_type": "stream",
     "text": [
      "RP3betaRecommender: Similarity column 38121 (100.0%), 3198.73 column/sec. Elapsed time 11.92 sec\n",
      "EvaluatorHoldout: Processed 35280 (100.0%) in 13.51 sec. Users per second: 2611\n"
     ]
    },
    {
     "name": "stderr",
     "output_type": "stream",
     "text": [
      "[I 2024-12-23 18:18:36,131] Trial 0 finished with value: 0.016675441142065425 and parameters: {'topK': 139, 'alpha': 0.6145139516361975, 'beta': 0.9092745480766007}. Best is trial 0 with value: 0.016675441142065425.\n"
     ]
    },
    {
     "name": "stdout",
     "output_type": "stream",
     "text": [
      "RP3betaRecommender: Similarity column 38121 (100.0%), 1365.52 column/sec. Elapsed time 27.92 sec\n",
      "EvaluatorHoldout: Processed 35280 (100.0%) in 20.56 sec. Users per second: 1716\n"
     ]
    },
    {
     "name": "stderr",
     "output_type": "stream",
     "text": [
      "[I 2024-12-23 18:19:40,932] Trial 1 finished with value: 0.02646666914120053 and parameters: {'topK': 775, 'alpha': 0.3193621483681308, 'beta': 0.2681333676809894}. Best is trial 1 with value: 0.02646666914120053.\n"
     ]
    },
    {
     "name": "stdout",
     "output_type": "stream",
     "text": [
      "RP3betaRecommender: Similarity column 38121 (100.0%), 1324.78 column/sec. Elapsed time 28.78 sec\n",
      "EvaluatorHoldout: Processed 35280 (100.0%) in 22.25 sec. Users per second: 1585\n"
     ]
    },
    {
     "name": "stderr",
     "output_type": "stream",
     "text": [
      "[I 2024-12-23 18:20:49,993] Trial 2 finished with value: 0.010170759772162998 and parameters: {'topK': 843, 'alpha': 1.7653391237244394, 'beta': 0.9808714240356011}. Best is trial 1 with value: 0.02646666914120053.\n"
     ]
    },
    {
     "name": "stdout",
     "output_type": "stream",
     "text": [
      "RP3betaRecommender: Similarity column 38121 (100.0%), 1301.56 column/sec. Elapsed time 29.29 sec\n",
      "EvaluatorHoldout: Processed 35280 (100.0%) in 22.41 sec. Users per second: 1574\n"
     ]
    },
    {
     "name": "stderr",
     "output_type": "stream",
     "text": [
      "[I 2024-12-23 18:22:00,811] Trial 3 finished with value: 0.023675356782924355 and parameters: {'topK': 870, 'alpha': 0.5700201453123455, 'beta': 0.674483367215329}. Best is trial 1 with value: 0.02646666914120053.\n"
     ]
    },
    {
     "name": "stdout",
     "output_type": "stream",
     "text": [
      "RP3betaRecommender: Similarity column 38121 (100.0%), 1454.29 column/sec. Elapsed time 26.21 sec\n",
      "EvaluatorHoldout: Processed 35280 (100.0%) in 19.54 sec. Users per second: 1805\n"
     ]
    },
    {
     "name": "stderr",
     "output_type": "stream",
     "text": [
      "[I 2024-12-23 18:23:00,934] Trial 4 finished with value: 0.004493588705323395 and parameters: {'topK': 721, 'alpha': 0.013039802929906585, 'beta': 1.9795105057240998}. Best is trial 1 with value: 0.02646666914120053.\n"
     ]
    },
    {
     "name": "stdout",
     "output_type": "stream",
     "text": [
      "RP3betaRecommender: Similarity column 38121 (100.0%), 3619.40 column/sec. Elapsed time 10.53 sec\n",
      "EvaluatorHoldout: Processed 35280 (100.0%) in 11.23 sec. Users per second: 3141\n"
     ]
    },
    {
     "name": "stderr",
     "output_type": "stream",
     "text": [
      "[I 2024-12-23 18:23:24,360] Trial 5 finished with value: 0.029323850241153634 and parameters: {'topK': 83, 'alpha': 0.3970187027360055, 'beta': 0.04422996646500854}. Best is trial 5 with value: 0.029323850241153634.\n"
     ]
    },
    {
     "name": "stdout",
     "output_type": "stream",
     "text": [
      "RP3betaRecommender: Similarity column 38121 (100.0%), 1383.84 column/sec. Elapsed time 27.55 sec\n",
      "EvaluatorHoldout: Processed 35280 (100.0%) in 21.58 sec. Users per second: 1635\n"
     ]
    },
    {
     "name": "stderr",
     "output_type": "stream",
     "text": [
      "[I 2024-12-23 18:24:30,246] Trial 6 finished with value: 0.023791996229708172 and parameters: {'topK': 796, 'alpha': 1.154746572869142, 'beta': 0.5449065111703923}. Best is trial 5 with value: 0.029323850241153634.\n"
     ]
    },
    {
     "name": "stdout",
     "output_type": "stream",
     "text": [
      "RP3betaRecommender: Similarity column 38121 (100.0%), 1778.75 column/sec. Elapsed time 21.43 sec\n",
      "EvaluatorHoldout: Processed 35280 (100.0%) in 17.92 sec. Users per second: 1969\n"
     ]
    },
    {
     "name": "stderr",
     "output_type": "stream",
     "text": [
      "[I 2024-12-23 18:25:20,491] Trial 7 finished with value: 0.012374316128568104 and parameters: {'topK': 510, 'alpha': 0.23604548179377227, 'beta': 1.050958036994773}. Best is trial 5 with value: 0.029323850241153634.\n"
     ]
    },
    {
     "name": "stdout",
     "output_type": "stream",
     "text": [
      "RP3betaRecommender: Similarity column 38121 (100.0%), 2098.63 column/sec. Elapsed time 18.16 sec\n",
      "EvaluatorHoldout: Processed 35280 (100.0%) in 17.67 sec. Users per second: 1997\n"
     ]
    },
    {
     "name": "stderr",
     "output_type": "stream",
     "text": [
      "[I 2024-12-23 18:26:05,551] Trial 8 finished with value: 0.008430165253932363 and parameters: {'topK': 384, 'alpha': 1.6750163850397624, 'beta': 1.213926418124982}. Best is trial 5 with value: 0.029323850241153634.\n"
     ]
    },
    {
     "name": "stdout",
     "output_type": "stream",
     "text": [
      "RP3betaRecommender: Similarity column 38121 (100.0%), 1352.60 column/sec. Elapsed time 28.18 sec\n",
      "EvaluatorHoldout: Processed 35280 (100.0%) in 23.17 sec. Users per second: 1523\n"
     ]
    },
    {
     "name": "stderr",
     "output_type": "stream",
     "text": [
      "[I 2024-12-23 18:27:14,914] Trial 9 finished with value: 0.010746227459237883 and parameters: {'topK': 788, 'alpha': 1.2417549901712102, 'beta': 1.1770091714320627}. Best is trial 5 with value: 0.029323850241153634.\n"
     ]
    },
    {
     "name": "stdout",
     "output_type": "stream",
     "text": [
      "RP3betaRecommender: Similarity column 38121 (100.0%), 4502.55 column/sec. Elapsed time 8.47 sec\n",
      "EvaluatorHoldout: Processed 35280 (100.0%) in 10.30 sec. Users per second: 3424\n"
     ]
    },
    {
     "name": "stderr",
     "output_type": "stream",
     "text": [
      "[I 2024-12-23 18:27:34,206] Trial 10 finished with value: 0.029896792777956878 and parameters: {'topK': 15, 'alpha': 0.9076847913847905, 'beta': 0.03581736083488063}. Best is trial 10 with value: 0.029896792777956878.\n"
     ]
    },
    {
     "name": "stdout",
     "output_type": "stream",
     "text": [
      "RP3betaRecommender: Similarity column 38121 (100.0%), 4566.25 column/sec. Elapsed time 8.35 sec\n",
      "EvaluatorHoldout: Processed 35280 (100.0%) in 10.40 sec. Users per second: 3392\n"
     ]
    },
    {
     "name": "stderr",
     "output_type": "stream",
     "text": [
      "[I 2024-12-23 18:27:53,361] Trial 11 finished with value: 0.029577634029801632 and parameters: {'topK': 8, 'alpha': 0.7797662479082383, 'beta': 0.07382239051759124}. Best is trial 10 with value: 0.029896792777956878.\n"
     ]
    },
    {
     "name": "stdout",
     "output_type": "stream",
     "text": [
      "RP3betaRecommender: Similarity column 38121 (100.0%), 4225.22 column/sec. Elapsed time 9.02 sec\n",
      "EvaluatorHoldout: Processed 35280 (100.0%) in 10.54 sec. Users per second: 3346\n"
     ]
    },
    {
     "name": "stderr",
     "output_type": "stream",
     "text": [
      "[I 2024-12-23 18:28:13,573] Trial 12 finished with value: 0.030545462827987535 and parameters: {'topK': 19, 'alpha': 0.8250519962634792, 'beta': 0.11017570882368712}. Best is trial 12 with value: 0.030545462827987535.\n"
     ]
    },
    {
     "name": "stdout",
     "output_type": "stream",
     "text": [
      "RP3betaRecommender: Similarity column 38121 (100.0%), 2441.72 column/sec. Elapsed time 15.61 sec\n",
      "EvaluatorHoldout: Processed 35280 (100.0%) in 16.02 sec. Users per second: 2203\n"
     ]
    },
    {
     "name": "stderr",
     "output_type": "stream",
     "text": [
      "[I 2024-12-23 18:28:51,487] Trial 13 finished with value: 0.02746169757585484 and parameters: {'topK': 264, 'alpha': 0.8810113660362263, 'beta': 0.40936913783243745}. Best is trial 12 with value: 0.030545462827987535.\n"
     ]
    },
    {
     "name": "stdout",
     "output_type": "stream",
     "text": [
      "RP3betaRecommender: Similarity column 38121 (100.0%), 2506.64 column/sec. Elapsed time 15.21 sec\n",
      "EvaluatorHoldout: Processed 35280 (100.0%) in 15.92 sec. Users per second: 2217\n"
     ]
    },
    {
     "name": "stderr",
     "output_type": "stream",
     "text": [
      "[I 2024-12-23 18:29:28,349] Trial 14 finished with value: 0.006276504517150805 and parameters: {'topK': 240, 'alpha': 1.4528879313313103, 'beta': 1.6830725962615614}. Best is trial 12 with value: 0.030545462827987535.\n"
     ]
    },
    {
     "name": "stdout",
     "output_type": "stream",
     "text": [
      "RP3betaRecommender: Similarity column 38121 (100.0%), 1747.65 column/sec. Elapsed time 21.81 sec\n",
      "EvaluatorHoldout: Processed 35280 (100.0%) in 18.55 sec. Users per second: 1902\n"
     ]
    },
    {
     "name": "stderr",
     "output_type": "stream",
     "text": [
      "[I 2024-12-23 18:30:18,831] Trial 15 finished with value: 0.026816715707446096 and parameters: {'topK': 461, 'alpha': 0.9736286513010928, 'beta': 0.26151204069395206}. Best is trial 12 with value: 0.030545462827987535.\n"
     ]
    },
    {
     "name": "stdout",
     "output_type": "stream",
     "text": [
      "RP3betaRecommender: Similarity column 38121 (100.0%), 2546.74 column/sec. Elapsed time 14.97 sec\n",
      "EvaluatorHoldout: Processed 35280 (100.0%) in 15.17 sec. Users per second: 2325\n"
     ]
    },
    {
     "name": "stderr",
     "output_type": "stream",
     "text": [
      "[I 2024-12-23 18:30:53,981] Trial 16 finished with value: 0.007595887098225578 and parameters: {'topK': 208, 'alpha': 1.3062151073487196, 'beta': 1.4906885981166211}. Best is trial 12 with value: 0.030545462827987535.\n"
     ]
    },
    {
     "name": "stdout",
     "output_type": "stream",
     "text": [
      "RP3betaRecommender: Similarity column 38121 (100.0%), 4394.28 column/sec. Elapsed time 8.68 sec\n",
      "EvaluatorHoldout: Processed 35280 (100.0%) in 10.56 sec. Users per second: 3340\n"
     ]
    },
    {
     "name": "stderr",
     "output_type": "stream",
     "text": [
      "[I 2024-12-23 18:31:13,725] Trial 17 finished with value: 0.02401277084907979 and parameters: {'topK': 12, 'alpha': 0.6229639302134676, 'beta': 0.738173300884339}. Best is trial 12 with value: 0.030545462827987535.\n"
     ]
    },
    {
     "name": "stdout",
     "output_type": "stream",
     "text": [
      "RP3betaRecommender: Similarity column 38121 (100.0%), 1538.31 column/sec. Elapsed time 24.78 sec\n",
      "EvaluatorHoldout: Processed 35280 (100.0%) in 19.22 sec. Users per second: 1835\n"
     ]
    },
    {
     "name": "stderr",
     "output_type": "stream",
     "text": [
      "[I 2024-12-23 18:32:10,489] Trial 18 finished with value: 0.02424794388654869 and parameters: {'topK': 614, 'alpha': 1.061646565381753, 'beta': 0.032816086024484076}. Best is trial 12 with value: 0.030545462827987535.\n"
     ]
    },
    {
     "name": "stdout",
     "output_type": "stream",
     "text": [
      "RP3betaRecommender: Similarity column 38121 (100.0%), 1134.02 column/sec. Elapsed time 33.62 sec\n",
      "EvaluatorHoldout: Processed 35280 (100.0%) in 23.44 sec. Users per second: 1505\n"
     ]
    },
    {
     "name": "stderr",
     "output_type": "stream",
     "text": [
      "[I 2024-12-23 18:33:28,041] Trial 19 finished with value: 0.023570559109886716 and parameters: {'topK': 991, 'alpha': 1.5005106103225543, 'beta': 0.3262783478376186}. Best is trial 12 with value: 0.030545462827987535.\n"
     ]
    },
    {
     "name": "stdout",
     "output_type": "stream",
     "text": [
      "RP3betaRecommender: Similarity column 38121 (100.0%), 2190.02 column/sec. Elapsed time 17.41 sec\n",
      "EvaluatorHoldout: Processed 35280 (100.0%) in 17.02 sec. Users per second: 2072\n"
     ]
    },
    {
     "name": "stderr",
     "output_type": "stream",
     "text": [
      "[I 2024-12-23 18:34:10,865] Trial 20 finished with value: 0.026568562610228504 and parameters: {'topK': 337, 'alpha': 0.8497442572382834, 'beta': 0.5156795555169251}. Best is trial 12 with value: 0.030545462827987535.\n"
     ]
    },
    {
     "name": "stdout",
     "output_type": "stream",
     "text": [
      "RP3betaRecommender: Similarity column 38121 (100.0%), 4456.44 column/sec. Elapsed time 8.55 sec\n",
      "EvaluatorHoldout: Processed 35280 (100.0%) in 10.35 sec. Users per second: 3408\n"
     ]
    },
    {
     "name": "stderr",
     "output_type": "stream",
     "text": [
      "[I 2024-12-23 18:34:30,154] Trial 21 finished with value: 0.02886239112046863 and parameters: {'topK': 7, 'alpha': 0.7753130828131873, 'beta': 0.015719970247386122}. Best is trial 12 with value: 0.030545462827987535.\n"
     ]
    },
    {
     "name": "stdout",
     "output_type": "stream",
     "text": [
      "RP3betaRecommender: Similarity column 38121 (100.0%), 3278.69 column/sec. Elapsed time 11.63 sec\n",
      "EvaluatorHoldout: Processed 35280 (100.0%) in 13.32 sec. Users per second: 2648\n"
     ]
    },
    {
     "name": "stderr",
     "output_type": "stream",
     "text": [
      "[I 2024-12-23 18:34:57,911] Trial 22 finished with value: 0.022944496184716903 and parameters: {'topK': 120, 'alpha': 1.9615466123768848, 'beta': 0.2027753611883167}. Best is trial 12 with value: 0.030545462827987535.\n"
     ]
    },
    {
     "name": "stdout",
     "output_type": "stream",
     "text": [
      "RP3betaRecommender: Similarity column 38121 (100.0%), 3559.31 column/sec. Elapsed time 10.71 sec\n",
      "EvaluatorHoldout: Processed 35280 (100.0%) in 12.48 sec. Users per second: 2826\n"
     ]
    },
    {
     "name": "stderr",
     "output_type": "stream",
     "text": [
      "[I 2024-12-23 18:35:23,154] Trial 23 finished with value: 0.02974912716409217 and parameters: {'topK': 69, 'alpha': 0.7122354376875499, 'beta': 0.1603081396220971}. Best is trial 12 with value: 0.030545462827987535.\n"
     ]
    },
    {
     "name": "stdout",
     "output_type": "stream",
     "text": [
      "RP3betaRecommender: Similarity column 38121 (100.0%), 2934.38 column/sec. Elapsed time 12.99 sec\n",
      "EvaluatorHoldout: Processed 35280 (100.0%) in 14.48 sec. Users per second: 2436\n"
     ]
    },
    {
     "name": "stderr",
     "output_type": "stream",
     "text": [
      "[I 2024-12-23 18:35:54,374] Trial 24 finished with value: 0.026792554124823866 and parameters: {'topK': 148, 'alpha': 1.043208463438937, 'beta': 0.4236792100766464}. Best is trial 12 with value: 0.030545462827987535.\n"
     ]
    },
    {
     "name": "stdout",
     "output_type": "stream",
     "text": [
      "RP3betaRecommender: Similarity column 38121 (100.0%), 3377.94 column/sec. Elapsed time 11.29 sec\n",
      "EvaluatorHoldout: Processed 35280 (100.0%) in 12.69 sec. Users per second: 2779\n"
     ]
    },
    {
     "name": "stderr",
     "output_type": "stream",
     "text": [
      "[I 2024-12-23 18:36:20,506] Trial 25 finished with value: 0.023788899686858288 and parameters: {'topK': 89, 'alpha': 0.44099515556346, 'beta': 0.6938542106436467}. Best is trial 12 with value: 0.030545462827987535.\n"
     ]
    },
    {
     "name": "stdout",
     "output_type": "stream",
     "text": [
      "RP3betaRecommender: Similarity column 38121 (100.0%), 2214.92 column/sec. Elapsed time 17.21 sec\n",
      "EvaluatorHoldout: Processed 35280 (100.0%) in 15.98 sec. Users per second: 2208\n"
     ]
    },
    {
     "name": "stderr",
     "output_type": "stream",
     "text": [
      "[I 2024-12-23 18:37:00,630] Trial 26 finished with value: 0.02717968271964791 and parameters: {'topK': 304, 'alpha': 0.6765106470197508, 'beta': 0.1815815303684618}. Best is trial 12 with value: 0.030545462827987535.\n"
     ]
    },
    {
     "name": "stdout",
     "output_type": "stream",
     "text": [
      "RP3betaRecommender: Similarity column 38121 (100.0%), 3603.19 column/sec. Elapsed time 10.58 sec\n",
      "EvaluatorHoldout: Processed 35280 (100.0%) in 12.43 sec. Users per second: 2839\n"
     ]
    },
    {
     "name": "stderr",
     "output_type": "stream",
     "text": [
      "[I 2024-12-23 18:37:25,382] Trial 27 finished with value: 0.028998923577366588 and parameters: {'topK': 70, 'alpha': 0.9438563681163183, 'beta': 0.17917905566868053}. Best is trial 12 with value: 0.030545462827987535.\n"
     ]
    },
    {
     "name": "stdout",
     "output_type": "stream",
     "text": [
      "RP3betaRecommender: Similarity column 38121 (100.0%), 2833.10 column/sec. Elapsed time 13.46 sec\n",
      "EvaluatorHoldout: Processed 35280 (100.0%) in 14.21 sec. Users per second: 2483\n"
     ]
    },
    {
     "name": "stderr",
     "output_type": "stream",
     "text": [
      "[I 2024-12-23 18:37:57,115] Trial 28 finished with value: 0.0267872484972818 and parameters: {'topK': 172, 'alpha': 0.15774129599772113, 'beta': 0.5153045547794468}. Best is trial 12 with value: 0.030545462827987535.\n"
     ]
    },
    {
     "name": "stdout",
     "output_type": "stream",
     "text": [
      "RP3betaRecommender: Similarity column 38121 (100.0%), 2833.60 column/sec. Elapsed time 13.45 sec\n",
      "EvaluatorHoldout: Processed 35280 (100.0%) in 14.53 sec. Users per second: 2427\n"
     ]
    },
    {
     "name": "stderr",
     "output_type": "stream",
     "text": [
      "[I 2024-12-23 18:38:29,377] Trial 29 finished with value: 0.018160021415973816 and parameters: {'topK': 180, 'alpha': 0.49991352303217673, 'beta': 0.8520654905788507}. Best is trial 12 with value: 0.030545462827987535.\n"
     ]
    },
    {
     "name": "stdout",
     "output_type": "stream",
     "text": [
      "RP3betaRecommender: Similarity column 38121 (100.0%), 2011.54 column/sec. Elapsed time 18.95 sec\n",
      "EvaluatorHoldout: Processed 35280 (100.0%) in 17.52 sec. Users per second: 2014\n"
     ]
    },
    {
     "name": "stderr",
     "output_type": "stream",
     "text": [
      "[I 2024-12-23 18:39:15,075] Trial 30 finished with value: 0.02796863414677951 and parameters: {'topK': 394, 'alpha': 0.6487961326687408, 'beta': 0.33735881901965437}. Best is trial 12 with value: 0.030545462827987535.\n"
     ]
    },
    {
     "name": "stdout",
     "output_type": "stream",
     "text": [
      "RP3betaRecommender: Similarity column 38121 (100.0%), 3965.13 column/sec. Elapsed time 9.61 sec\n",
      "EvaluatorHoldout: Processed 35280 (100.0%) in 10.91 sec. Users per second: 3232\n"
     ]
    },
    {
     "name": "stderr",
     "output_type": "stream",
     "text": [
      "[I 2024-12-23 18:39:36,538] Trial 31 finished with value: 0.030539018914443185 and parameters: {'topK': 35, 'alpha': 0.7426791055384174, 'beta': 0.13088828647465645}. Best is trial 12 with value: 0.030545462827987535.\n"
     ]
    },
    {
     "name": "stdout",
     "output_type": "stream",
     "text": [
      "RP3betaRecommender: Similarity column 38121 (100.0%), 3802.71 column/sec. Elapsed time 10.02 sec\n",
      "EvaluatorHoldout: Processed 35280 (100.0%) in 11.93 sec. Users per second: 2957\n"
     ]
    },
    {
     "name": "stderr",
     "output_type": "stream",
     "text": [
      "[I 2024-12-23 18:39:59,971] Trial 32 finished with value: 0.02981126723175945 and parameters: {'topK': 62, 'alpha': 0.7485242743859561, 'beta': 0.1520614684385064}. Best is trial 12 with value: 0.030545462827987535.\n"
     ]
    },
    {
     "name": "stdout",
     "output_type": "stream",
     "text": [
      "RP3betaRecommender: Similarity column 38121 (100.0%), 3105.87 column/sec. Elapsed time 12.27 sec\n",
      "EvaluatorHoldout: Processed 35280 (100.0%) in 12.67 sec. Users per second: 2784\n"
     ]
    },
    {
     "name": "stderr",
     "output_type": "stream",
     "text": [
      "[I 2024-12-23 18:40:27,561] Trial 33 finished with value: 0.02669159423028386 and parameters: {'topK': 128, 'alpha': 1.0955542996680077, 'beta': 0.006560661488728831}. Best is trial 12 with value: 0.030545462827987535.\n"
     ]
    },
    {
     "name": "stdout",
     "output_type": "stream",
     "text": [
      "RP3betaRecommender: Similarity column 38121 (100.0%), 3919.79 column/sec. Elapsed time 9.73 sec\n",
      "EvaluatorHoldout: Processed 35280 (100.0%) in 11.80 sec. Users per second: 2990\n"
     ]
    },
    {
     "name": "stderr",
     "output_type": "stream",
     "text": [
      "[I 2024-12-23 18:40:50,411] Trial 34 finished with value: 0.030075081884604834 and parameters: {'topK': 47, 'alpha': 0.536036097492696, 'beta': 0.3512439162683722}. Best is trial 12 with value: 0.030545462827987535.\n"
     ]
    },
    {
     "name": "stdout",
     "output_type": "stream",
     "text": [
      "RP3betaRecommender: Similarity column 38121 (100.0%), 2577.60 column/sec. Elapsed time 14.79 sec\n",
      "EvaluatorHoldout: Processed 35280 (100.0%) in 18.38 sec. Users per second: 1919\n"
     ]
    },
    {
     "name": "stderr",
     "output_type": "stream",
     "text": [
      "[I 2024-12-23 18:41:29,183] Trial 35 finished with value: 0.028567022774717458 and parameters: {'topK': 217, 'alpha': 0.5214433031832046, 'beta': 0.3800569616677909}. Best is trial 12 with value: 0.030545462827987535.\n"
     ]
    },
    {
     "name": "stdout",
     "output_type": "stream",
     "text": [
      "RP3betaRecommender: Similarity column 38121 (100.0%), 3253.09 column/sec. Elapsed time 11.72 sec\n",
      "EvaluatorHoldout: Processed 35280 (100.0%) in 13.22 sec. Users per second: 2669\n"
     ]
    },
    {
     "name": "stderr",
     "output_type": "stream",
     "text": [
      "[I 2024-12-23 18:41:54,636] Trial 36 finished with value: 0.026152839641146956 and parameters: {'topK': 5, 'alpha': 0.30243044356582977, 'beta': 0.5979434591690633}. Best is trial 12 with value: 0.030545462827987535.\n"
     ]
    },
    {
     "name": "stdout",
     "output_type": "stream",
     "text": [
      "RP3betaRecommender: Similarity column 38121 (100.0%), 2386.83 column/sec. Elapsed time 15.97 sec\n",
      "EvaluatorHoldout: Processed 35280 (100.0%) in 17.20 sec. Users per second: 2051\n"
     ]
    },
    {
     "name": "stderr",
     "output_type": "stream",
     "text": [
      "[I 2024-12-23 18:42:31,612] Trial 37 finished with value: 0.02824509817154287 and parameters: {'topK': 125, 'alpha': 0.8834427115648079, 'beta': 0.2690843976829207}. Best is trial 12 with value: 0.030545462827987535.\n"
     ]
    },
    {
     "name": "stdout",
     "output_type": "stream",
     "text": [
      "RP3betaRecommender: Similarity column 38121 (100.0%), 1172.38 column/sec. Elapsed time 32.52 sec\n",
      "EvaluatorHoldout: Processed 35280 (100.0%) in 24.81 sec. Users per second: 1422\n"
     ]
    },
    {
     "name": "stderr",
     "output_type": "stream",
     "text": [
      "[I 2024-12-23 18:43:46,966] Trial 38 finished with value: 0.02473720103120541 and parameters: {'topK': 627, 'alpha': 0.40470405676599225, 'beta': 0.09366342750064188}. Best is trial 12 with value: 0.030545462827987535.\n"
     ]
    },
    {
     "name": "stdout",
     "output_type": "stream",
     "text": [
      "RP3betaRecommender: Similarity column 38121 (100.0%), 1639.71 column/sec. Elapsed time 23.25 sec\n",
      "EvaluatorHoldout: Processed 35280 (100.0%) in 22.19 sec. Users per second: 1590\n"
     ]
    },
    {
     "name": "stderr",
     "output_type": "stream",
     "text": [
      "[I 2024-12-23 18:44:41,881] Trial 39 finished with value: 0.02692308021091968 and parameters: {'topK': 297, 'alpha': 0.13020078187107997, 'beta': 0.4548288090617685}. Best is trial 12 with value: 0.030545462827987535.\n"
     ]
    },
    {
     "name": "stdout",
     "output_type": "stream",
     "text": [
      "RP3betaRecommender: Similarity column 38121 (100.0%), 2547.70 column/sec. Elapsed time 14.96 sec\n",
      "EvaluatorHoldout: Processed 35280 (100.0%) in 16.43 sec. Users per second: 2147\n"
     ]
    },
    {
     "name": "stderr",
     "output_type": "stream",
     "text": [
      "[I 2024-12-23 18:45:15,354] Trial 40 finished with value: 0.016537570186805087 and parameters: {'topK': 56, 'alpha': 1.20474297140423, 'beta': 0.8039245366045693}. Best is trial 12 with value: 0.030545462827987535.\n"
     ]
    },
    {
     "name": "stdout",
     "output_type": "stream",
     "text": [
      "RP3betaRecommender: Similarity column 38121 (100.0%), 2661.60 column/sec. Elapsed time 14.32 sec\n",
      "EvaluatorHoldout: Processed 35280 (100.0%) in 15.53 sec. Users per second: 2271\n"
     ]
    },
    {
     "name": "stderr",
     "output_type": "stream",
     "text": [
      "[I 2024-12-23 18:45:47,358] Trial 41 finished with value: 0.029724019634307822 and parameters: {'topK': 62, 'alpha': 0.7844798066494004, 'beta': 0.15396848277638447}. Best is trial 12 with value: 0.030545462827987535.\n"
     ]
    },
    {
     "name": "stdout",
     "output_type": "stream",
     "text": [
      "RP3betaRecommender: Similarity column 38121 (100.0%), 2350.55 column/sec. Elapsed time 16.22 sec\n",
      "EvaluatorHoldout: Processed 35280 (100.0%) in 16.01 sec. Users per second: 2204\n"
     ]
    },
    {
     "name": "stderr",
     "output_type": "stream",
     "text": [
      "[I 2024-12-23 18:46:22,975] Trial 42 finished with value: 0.029523162770398174 and parameters: {'topK': 101, 'alpha': 0.5613951534523296, 'beta': 0.261361531785623}. Best is trial 12 with value: 0.030545462827987535.\n"
     ]
    },
    {
     "name": "stdout",
     "output_type": "stream",
     "text": [
      "RP3betaRecommender: Similarity column 38121 (100.0%), 2670.61 column/sec. Elapsed time 14.27 sec\n",
      "EvaluatorHoldout: Processed 35280 (100.0%) in 14.63 sec. Users per second: 2411\n"
     ]
    },
    {
     "name": "stderr",
     "output_type": "stream",
     "text": [
      "[I 2024-12-23 18:46:53,578] Trial 43 finished with value: 0.03009664295612332 and parameters: {'topK': 56, 'alpha': 0.7177502249999679, 'beta': 0.10834794049939381}. Best is trial 12 with value: 0.030545462827987535.\n"
     ]
    },
    {
     "name": "stdout",
     "output_type": "stream",
     "text": [
      "RP3betaRecommender: Similarity column 38121 (100.0%), 2182.08 column/sec. Elapsed time 17.47 sec\n",
      "EvaluatorHoldout: Processed 35280 (100.0%) in 17.75 sec. Users per second: 1988\n"
     ]
    },
    {
     "name": "stderr",
     "output_type": "stream",
     "text": [
      "[I 2024-12-23 18:47:33,599] Trial 44 finished with value: 0.02701180690530085 and parameters: {'topK': 179, 'alpha': 0.949210196080831, 'beta': 0.10162045035551541}. Best is trial 12 with value: 0.030545462827987535.\n"
     ]
    },
    {
     "name": "stdout",
     "output_type": "stream",
     "text": [
      "RP3betaRecommender: Similarity column 38121 (100.0%), 2998.63 column/sec. Elapsed time 12.71 sec\n",
      "EvaluatorHoldout: Processed 35280 (100.0%) in 14.27 sec. Users per second: 2472\n"
     ]
    },
    {
     "name": "stderr",
     "output_type": "stream",
     "text": [
      "[I 2024-12-23 18:48:01,813] Trial 45 finished with value: 0.030773801650288802 and parameters: {'topK': 31, 'alpha': 0.5977913840491179, 'beta': 0.2789509154327634}. Best is trial 45 with value: 0.030773801650288802.\n"
     ]
    },
    {
     "name": "stdout",
     "output_type": "stream",
     "text": [
      "RP3betaRecommender: Similarity column 38121 (100.0%), 2809.05 column/sec. Elapsed time 13.57 sec\n",
      "EvaluatorHoldout: Processed 35280 (100.0%) in 14.66 sec. Users per second: 2407\n"
     ]
    },
    {
     "name": "stderr",
     "output_type": "stream",
     "text": [
      "[I 2024-12-23 18:48:31,483] Trial 46 finished with value: 0.02615209278155635 and parameters: {'topK': 38, 'alpha': 0.5964944136948793, 'beta': 0.6223190127251746}. Best is trial 45 with value: 0.030773801650288802.\n"
     ]
    },
    {
     "name": "stdout",
     "output_type": "stream",
     "text": [
      "RP3betaRecommender: Similarity column 38121 (100.0%), 2146.78 column/sec. Elapsed time 17.76 sec\n",
      "EvaluatorHoldout: Processed 35280 (100.0%) in 17.17 sec. Users per second: 2054\n"
     ]
    },
    {
     "name": "stderr",
     "output_type": "stream",
     "text": [
      "[I 2024-12-23 18:49:10,403] Trial 47 finished with value: 0.029166672290608334 and parameters: {'topK': 129, 'alpha': 0.2833422892671138, 'beta': 0.2960785641627408}. Best is trial 45 with value: 0.030773801650288802.\n"
     ]
    },
    {
     "name": "stdout",
     "output_type": "stream",
     "text": [
      "RP3betaRecommender: Similarity column 38121 (100.0%), 1745.22 column/sec. Elapsed time 21.84 sec\n",
      "EvaluatorHoldout: Processed 35280 (100.0%) in 21.11 sec. Users per second: 1671\n"
     ]
    },
    {
     "name": "stderr",
     "output_type": "stream",
     "text": [
      "[I 2024-12-23 18:50:01,375] Trial 48 finished with value: 0.014801893244070425 and parameters: {'topK': 265, 'alpha': 0.47030207769060145, 'beta': 0.9816630877433358}. Best is trial 45 with value: 0.030773801650288802.\n"
     ]
    },
    {
     "name": "stdout",
     "output_type": "stream",
     "text": [
      "RP3betaRecommender: Similarity column 38121 (100.0%), 1892.33 column/sec. Elapsed time 20.15 sec\n",
      "EvaluatorHoldout: Processed 35280 (100.0%) in 18.33 sec. Users per second: 1925\n"
     ]
    },
    {
     "name": "stderr",
     "output_type": "stream",
     "text": [
      "[I 2024-12-23 18:50:43,976] Trial 49 finished with value: 0.01017551312853201 and parameters: {'topK': 160, 'alpha': 0.396865097352771, 'beta': 1.364846626033414}. Best is trial 45 with value: 0.030773801650288802.\n"
     ]
    },
    {
     "name": "stdout",
     "output_type": "stream",
     "text": [
      "RP3betaRecommender: Similarity column 38121 (100.0%), 2242.44 column/sec. Elapsed time 17.00 sec\n",
      "EvaluatorHoldout: Processed 35280 (100.0%) in 16.96 sec. Users per second: 2081\n"
     ]
    },
    {
     "name": "stderr",
     "output_type": "stream",
     "text": [
      "[I 2024-12-23 18:51:20,617] Trial 50 finished with value: 0.006926762768599545 and parameters: {'topK': 103, 'alpha': 0.6649916564370832, 'beta': 1.8088969007532052}. Best is trial 45 with value: 0.030773801650288802.\n"
     ]
    },
    {
     "name": "stdout",
     "output_type": "stream",
     "text": [
      "RP3betaRecommender: Similarity column 38121 (100.0%), 2606.94 column/sec. Elapsed time 14.62 sec\n",
      "EvaluatorHoldout: Processed 35280 (100.0%) in 15.30 sec. Users per second: 2306\n"
     ]
    },
    {
     "name": "stderr",
     "output_type": "stream",
     "text": [
      "[I 2024-12-23 18:51:51,894] Trial 51 finished with value: 0.029998011373860833 and parameters: {'topK': 38, 'alpha': 0.8080099664576857, 'beta': 0.06987493766032488}. Best is trial 45 with value: 0.030773801650288802.\n"
     ]
    },
    {
     "name": "stdout",
     "output_type": "stream",
     "text": [
      "RP3betaRecommender: Similarity column 38121 (100.0%), 2843.23 column/sec. Elapsed time 13.41 sec\n",
      "EvaluatorHoldout: Processed 35280 (100.0%) in 15.06 sec. Users per second: 2343\n"
     ]
    },
    {
     "name": "stderr",
     "output_type": "stream",
     "text": [
      "[I 2024-12-23 18:52:21,882] Trial 52 finished with value: 0.03006499253140341 and parameters: {'topK': 43, 'alpha': 0.8065919233007397, 'beta': 0.23902457013571674}. Best is trial 45 with value: 0.030773801650288802.\n"
     ]
    },
    {
     "name": "stdout",
     "output_type": "stream",
     "text": [
      "RP3betaRecommender: Similarity column 38121 (100.0%), 2800.25 column/sec. Elapsed time 13.61 sec\n",
      "EvaluatorHoldout: Processed 35280 (100.0%) in 14.63 sec. Users per second: 2411\n"
     ]
    },
    {
     "name": "stderr",
     "output_type": "stream",
     "text": [
      "[I 2024-12-23 18:52:51,561] Trial 53 finished with value: 0.03083604069934767 and parameters: {'topK': 40, 'alpha': 0.5660188634864036, 'beta': 0.22276130735820146}. Best is trial 53 with value: 0.03083604069934767.\n"
     ]
    },
    {
     "name": "stdout",
     "output_type": "stream",
     "text": [
      "RP3betaRecommender: Similarity column 38121 (100.0%), 1849.82 column/sec. Elapsed time 20.61 sec\n",
      "EvaluatorHoldout: Processed 35280 (100.0%) in 16.16 sec. Users per second: 2183\n"
     ]
    },
    {
     "name": "stderr",
     "output_type": "stream",
     "text": [
      "[I 2024-12-23 18:53:34,363] Trial 54 finished with value: 0.02845140576071613 and parameters: {'topK': 212, 'alpha': 0.5747135036390731, 'beta': 0.405322176819228}. Best is trial 53 with value: 0.03083604069934767.\n"
     ]
    },
    {
     "name": "stdout",
     "output_type": "stream",
     "text": [
      "RP3betaRecommender: Similarity column 38121 (100.0%), 3472.14 column/sec. Elapsed time 10.98 sec\n",
      "EvaluatorHoldout: Processed 35280 (100.0%) in 12.84 sec. Users per second: 2747\n"
     ]
    },
    {
     "name": "stderr",
     "output_type": "stream",
     "text": [
      "[I 2024-12-23 18:54:00,668] Trial 55 finished with value: 0.029200350709065823 and parameters: {'topK': 96, 'alpha': 0.6737708665769553, 'beta': 0.32402245292021514}. Best is trial 53 with value: 0.03083604069934767.\n"
     ]
    },
    {
     "name": "stdout",
     "output_type": "stream",
     "text": [
      "RP3betaRecommender: Similarity column 38121 (100.0%), 4040.62 column/sec. Elapsed time 9.43 sec\n",
      "EvaluatorHoldout: Processed 35280 (100.0%) in 11.18 sec. Users per second: 3156\n"
     ]
    },
    {
     "name": "stderr",
     "output_type": "stream",
     "text": [
      "[I 2024-12-23 18:54:22,382] Trial 56 finished with value: 0.029013043047906226 and parameters: {'topK': 38, 'alpha': 0.3629456535198827, 'beta': 0.49018569359899056}. Best is trial 53 with value: 0.03083604069934767.\n"
     ]
    },
    {
     "name": "stdout",
     "output_type": "stream",
     "text": [
      "RP3betaRecommender: Similarity column 38121 (100.0%), 1270.50 column/sec. Elapsed time 30.00 sec\n",
      "EvaluatorHoldout: Processed 35280 (100.0%) in 20.63 sec. Users per second: 1710\n"
     ]
    },
    {
     "name": "stderr",
     "output_type": "stream",
     "text": [
      "[I 2024-12-23 18:55:29,735] Trial 57 finished with value: 0.024335922596551145 and parameters: {'topK': 850, 'alpha': 0.5146831703804668, 'beta': 0.08552947778017869}. Best is trial 53 with value: 0.03083604069934767.\n"
     ]
    },
    {
     "name": "stdout",
     "output_type": "stream",
     "text": [
      "RP3betaRecommender: Similarity column 38121 (100.0%), 1775.03 column/sec. Elapsed time 21.48 sec\n",
      "EvaluatorHoldout: Processed 35280 (100.0%) in 18.51 sec. Users per second: 1907\n"
     ]
    },
    {
     "name": "stderr",
     "output_type": "stream",
     "text": [
      "[I 2024-12-23 18:56:20,737] Trial 58 finished with value: 0.013506202084008533 and parameters: {'topK': 478, 'alpha': 0.6049072340938733, 'beta': 1.0604214237093081}. Best is trial 53 with value: 0.03083604069934767.\n"
     ]
    },
    {
     "name": "stdout",
     "output_type": "stream",
     "text": [
      "RP3betaRecommender: Similarity column 38121 (100.0%), 1217.52 column/sec. Elapsed time 31.31 sec\n",
      "EvaluatorHoldout: Processed 35280 (100.0%) in 21.65 sec. Users per second: 1629\n"
     ]
    },
    {
     "name": "stderr",
     "output_type": "stream",
     "text": [
      "[I 2024-12-23 18:57:31,872] Trial 59 finished with value: 0.02638521870388282 and parameters: {'topK': 916, 'alpha': 0.722187831800506, 'beta': 0.22868322133161503}. Best is trial 53 with value: 0.03083604069934767.\n"
     ]
    },
    {
     "name": "stdout",
     "output_type": "stream",
     "text": [
      "RP3betaRecommender: Similarity column 38121 (100.0%), 1611.04 column/sec. Elapsed time 23.66 sec\n",
      "EvaluatorHoldout: Processed 35280 (100.0%) in 19.06 sec. Users per second: 1851\n"
     ]
    },
    {
     "name": "stderr",
     "output_type": "stream",
     "text": [
      "[I 2024-12-23 18:58:27,829] Trial 60 finished with value: 0.0270094819673893 and parameters: {'topK': 577, 'alpha': 0.19454298352162824, 'beta': 0.3552154223076215}. Best is trial 53 with value: 0.03083604069934767.\n"
     ]
    },
    {
     "name": "stdout",
     "output_type": "stream",
     "text": [
      "RP3betaRecommender: Similarity column 38121 (100.0%), 4276.42 column/sec. Elapsed time 8.91 sec\n",
      "EvaluatorHoldout: Processed 35280 (100.0%) in 10.53 sec. Users per second: 3352\n"
     ]
    },
    {
     "name": "stderr",
     "output_type": "stream",
     "text": [
      "[I 2024-12-23 18:58:48,057] Trial 61 finished with value: 0.030284201445127473 and parameters: {'topK': 28, 'alpha': 0.8544409515198964, 'beta': 0.1221983519969872}. Best is trial 53 with value: 0.03083604069934767.\n"
     ]
    },
    {
     "name": "stdout",
     "output_type": "stream",
     "text": [
      "RP3betaRecommender: Similarity column 38121 (100.0%), 4412.52 column/sec. Elapsed time 8.64 sec\n",
      "EvaluatorHoldout: Processed 35280 (100.0%) in 10.29 sec. Users per second: 3428\n"
     ]
    },
    {
     "name": "stderr",
     "output_type": "stream",
     "text": [
      "[I 2024-12-23 18:59:07,521] Trial 62 finished with value: 0.029725730437676925 and parameters: {'topK': 14, 'alpha': 1.0012916789101023, 'beta': 0.13028340783741296}. Best is trial 53 with value: 0.03083604069934767.\n"
     ]
    },
    {
     "name": "stdout",
     "output_type": "stream",
     "text": [
      "RP3betaRecommender: Similarity column 38121 (100.0%), 3631.59 column/sec. Elapsed time 10.50 sec\n",
      "EvaluatorHoldout: Processed 35280 (100.0%) in 11.57 sec. Users per second: 3050\n"
     ]
    },
    {
     "name": "stderr",
     "output_type": "stream",
     "text": [
      "[I 2024-12-23 18:59:31,391] Trial 63 finished with value: 0.028321168745274954 and parameters: {'topK': 84, 'alpha': 0.837801119211402, 'beta': 0.003138608673650456}. Best is trial 53 with value: 0.03083604069934767.\n"
     ]
    },
    {
     "name": "stdout",
     "output_type": "stream",
     "text": [
      "RP3betaRecommender: Similarity column 38121 (100.0%), 3097.66 column/sec. Elapsed time 12.31 sec\n",
      "EvaluatorHoldout: Processed 35280 (100.0%) in 13.30 sec. Users per second: 2653\n"
     ]
    },
    {
     "name": "stderr",
     "output_type": "stream",
     "text": [
      "[I 2024-12-23 19:00:00,260] Trial 64 finished with value: 0.027927790825323956 and parameters: {'topK': 142, 'alpha': 0.8773671293953731, 'beta': 0.19643963164450667}. Best is trial 53 with value: 0.03083604069934767.\n"
     ]
    },
    {
     "name": "stdout",
     "output_type": "stream",
     "text": [
      "RP3betaRecommender: Similarity column 38121 (100.0%), 4039.86 column/sec. Elapsed time 9.44 sec\n",
      "EvaluatorHoldout: Processed 35280 (100.0%) in 11.21 sec. Users per second: 3147\n"
     ]
    },
    {
     "name": "stderr",
     "output_type": "stream",
     "text": [
      "[I 2024-12-23 19:00:21,968] Trial 65 finished with value: 0.030331151243565297 and parameters: {'topK': 37, 'alpha': 0.7316758889592333, 'beta': 0.27655419697757855}. Best is trial 53 with value: 0.03083604069934767.\n"
     ]
    },
    {
     "name": "stdout",
     "output_type": "stream",
     "text": [
      "RP3betaRecommender: Similarity column 38121 (100.0%), 3354.28 column/sec. Elapsed time 11.36 sec\n",
      "EvaluatorHoldout: Processed 35280 (100.0%) in 12.27 sec. Users per second: 2875\n"
     ]
    },
    {
     "name": "stderr",
     "output_type": "stream",
     "text": [
      "[I 2024-12-23 19:00:47,513] Trial 66 finished with value: 0.029173613360687328 and parameters: {'topK': 82, 'alpha': 0.7349923984469109, 'beta': 0.11711834424541757}. Best is trial 53 with value: 0.03083604069934767.\n"
     ]
    },
    {
     "name": "stdout",
     "output_type": "stream",
     "text": [
      "RP3betaRecommender: Similarity column 38121 (100.0%), 4140.86 column/sec. Elapsed time 9.21 sec\n",
      "EvaluatorHoldout: Processed 35280 (100.0%) in 11.00 sec. Users per second: 3208\n"
     ]
    },
    {
     "name": "stderr",
     "output_type": "stream",
     "text": [
      "[I 2024-12-23 19:01:08,536] Trial 67 finished with value: 0.029803482570275777 and parameters: {'topK': 26, 'alpha': 0.9323015399355413, 'beta': 0.24183013699353992}. Best is trial 53 with value: 0.03083604069934767.\n"
     ]
    },
    {
     "name": "stdout",
     "output_type": "stream",
     "text": [
      "RP3betaRecommender: Similarity column 38121 (100.0%), 1403.33 column/sec. Elapsed time 27.16 sec\n",
      "EvaluatorHoldout: Processed 35280 (100.0%) in 20.54 sec. Users per second: 1717\n"
     ]
    },
    {
     "name": "stderr",
     "output_type": "stream",
     "text": [
      "[I 2024-12-23 19:02:11,309] Trial 68 finished with value: 0.02424716328330207 and parameters: {'topK': 718, 'alpha': 1.0923814168729442, 'beta': 0.053903680368323326}. Best is trial 53 with value: 0.03083604069934767.\n"
     ]
    },
    {
     "name": "stdout",
     "output_type": "stream",
     "text": [
      "RP3betaRecommender: Similarity column 38121 (100.0%), 2709.41 column/sec. Elapsed time 14.07 sec\n",
      "EvaluatorHoldout: Processed 35280 (100.0%) in 14.10 sec. Users per second: 2502\n"
     ]
    },
    {
     "name": "stderr",
     "output_type": "stream",
     "text": [
      "[I 2024-12-23 19:02:43,905] Trial 69 finished with value: 0.02807240713745727 and parameters: {'topK': 195, 'alpha': 0.6688984730176418, 'beta': 0.20387703545434147}. Best is trial 53 with value: 0.03083604069934767.\n"
     ]
    },
    {
     "name": "stdout",
     "output_type": "stream",
     "text": [
      "RP3betaRecommender: Similarity column 38121 (100.0%), 3268.76 column/sec. Elapsed time 11.66 sec\n",
      "EvaluatorHoldout: Processed 35280 (100.0%) in 13.43 sec. Users per second: 2627\n"
     ]
    },
    {
     "name": "stderr",
     "output_type": "stream",
     "text": [
      "[I 2024-12-23 19:03:11,722] Trial 70 finished with value: 0.02644429709714515 and parameters: {'topK': 106, 'alpha': 1.0209002920531205, 'beta': 0.476151346516157}. Best is trial 53 with value: 0.03083604069934767.\n"
     ]
    },
    {
     "name": "stdout",
     "output_type": "stream",
     "text": [
      "RP3betaRecommender: Similarity column 38121 (100.0%), 3730.64 column/sec. Elapsed time 10.22 sec\n",
      "EvaluatorHoldout: Processed 35280 (100.0%) in 11.85 sec. Users per second: 2977\n"
     ]
    },
    {
     "name": "stderr",
     "output_type": "stream",
     "text": [
      "[I 2024-12-23 19:03:35,349] Trial 71 finished with value: 0.03009038800705376 and parameters: {'topK': 56, 'alpha': 0.5497476354369812, 'beta': 0.3190544045871456}. Best is trial 53 with value: 0.03083604069934767.\n"
     ]
    },
    {
     "name": "stdout",
     "output_type": "stream",
     "text": [
      "RP3betaRecommender: Similarity column 38121 (100.0%), 4011.12 column/sec. Elapsed time 9.50 sec\n",
      "EvaluatorHoldout: Processed 35280 (100.0%) in 10.55 sec. Users per second: 3345\n"
     ]
    },
    {
     "name": "stderr",
     "output_type": "stream",
     "text": [
      "[I 2024-12-23 19:03:55,844] Trial 72 finished with value: 0.028659611992944575 and parameters: {'topK': 8, 'alpha': 0.7243057516141775, 'beta': 0.41349889922229544}. Best is trial 53 with value: 0.03083604069934767.\n"
     ]
    },
    {
     "name": "stdout",
     "output_type": "stream",
     "text": [
      "RP3betaRecommender: Similarity column 38121 (100.0%), 3504.51 column/sec. Elapsed time 10.88 sec\n",
      "EvaluatorHoldout: Processed 35280 (100.0%) in 12.35 sec. Users per second: 2857\n"
     ]
    },
    {
     "name": "stderr",
     "output_type": "stream",
     "text": [
      "[I 2024-12-23 19:04:21,005] Trial 73 finished with value: 0.029715836797681045 and parameters: {'topK': 75, 'alpha': 0.6230683366871688, 'beta': 0.2972963038963176}. Best is trial 53 with value: 0.03083604069934767.\n"
     ]
    },
    {
     "name": "stdout",
     "output_type": "stream",
     "text": [
      "RP3betaRecommender: Similarity column 38121 (100.0%), 2832.83 column/sec. Elapsed time 13.46 sec\n",
      "EvaluatorHoldout: Processed 35280 (100.0%) in 13.30 sec. Users per second: 2652\n"
     ]
    },
    {
     "name": "stderr",
     "output_type": "stream",
     "text": [
      "[I 2024-12-23 19:04:51,203] Trial 74 finished with value: 0.028484861471042542 and parameters: {'topK': 156, 'alpha': 0.4421444381382468, 'beta': 0.16206250588709506}. Best is trial 53 with value: 0.03083604069934767.\n"
     ]
    },
    {
     "name": "stdout",
     "output_type": "stream",
     "text": [
      "RP3betaRecommender: Similarity column 38121 (100.0%), 3823.45 column/sec. Elapsed time 9.97 sec\n",
      "EvaluatorHoldout: Processed 35280 (100.0%) in 11.61 sec. Users per second: 3038\n"
     ]
    },
    {
     "name": "stderr",
     "output_type": "stream",
     "text": [
      "[I 2024-12-23 19:05:14,051] Trial 75 finished with value: 0.025496380430478454 and parameters: {'topK': 46, 'alpha': 0.8469798070012216, 'beta': 0.5916350016050835}. Best is trial 53 with value: 0.03083604069934767.\n"
     ]
    },
    {
     "name": "stdout",
     "output_type": "stream",
     "text": [
      "RP3betaRecommender: Similarity column 38121 (100.0%), 2932.70 column/sec. Elapsed time 13.00 sec\n",
      "EvaluatorHoldout: Processed 35280 (100.0%) in 12.58 sec. Users per second: 2804\n"
     ]
    },
    {
     "name": "stderr",
     "output_type": "stream",
     "text": [
      "[I 2024-12-23 19:05:42,322] Trial 76 finished with value: 0.027883322310404735 and parameters: {'topK': 126, 'alpha': 0.7776180245801596, 'beta': 0.060083362055858736}. Best is trial 53 with value: 0.03083604069934767.\n"
     ]
    },
    {
     "name": "stdout",
     "output_type": "stream",
     "text": [
      "RP3betaRecommender: Similarity column 38121 (100.0%), 3534.25 column/sec. Elapsed time 10.79 sec\n",
      "EvaluatorHoldout: Processed 35280 (100.0%) in 11.87 sec. Users per second: 2972\n"
     ]
    },
    {
     "name": "stderr",
     "output_type": "stream",
     "text": [
      "[I 2024-12-23 19:06:06,716] Trial 77 finished with value: 0.02884014167836362 and parameters: {'topK': 75, 'alpha': 0.9060561762667759, 'beta': 0.1271431390910403}. Best is trial 53 with value: 0.03083604069934767.\n"
     ]
    },
    {
     "name": "stdout",
     "output_type": "stream",
     "text": [
      "RP3betaRecommender: Similarity column 38121 (100.0%), 2349.08 column/sec. Elapsed time 16.23 sec\n",
      "EvaluatorHoldout: Processed 35280 (100.0%) in 15.36 sec. Users per second: 2297\n"
     ]
    },
    {
     "name": "stderr",
     "output_type": "stream",
     "text": [
      "[I 2024-12-23 19:06:43,878] Trial 78 finished with value: 0.028155830453873876 and parameters: {'topK': 238, 'alpha': 0.7030687298989509, 'beta': 0.30592309197685713}. Best is trial 53 with value: 0.03083604069934767.\n"
     ]
    },
    {
     "name": "stdout",
     "output_type": "stream",
     "text": [
      "RP3betaRecommender: Similarity column 38121 (100.0%), 3871.96 column/sec. Elapsed time 9.85 sec\n",
      "EvaluatorHoldout: Processed 35280 (100.0%) in 10.31 sec. Users per second: 3423\n"
     ]
    },
    {
     "name": "stderr",
     "output_type": "stream",
     "text": [
      "[I 2024-12-23 19:07:04,409] Trial 79 finished with value: 0.02843253630817344 and parameters: {'topK': 5, 'alpha': 0.4874895083072953, 'beta': 0.21847875520185245}. Best is trial 53 with value: 0.03083604069934767.\n"
     ]
    },
    {
     "name": "stdout",
     "output_type": "stream",
     "text": [
      "RP3betaRecommender: Similarity column 38121 (100.0%), 1900.15 column/sec. Elapsed time 20.06 sec\n",
      "EvaluatorHoldout: Processed 35280 (100.0%) in 18.44 sec. Users per second: 1913\n"
     ]
    },
    {
     "name": "stderr",
     "output_type": "stream",
     "text": [
      "[I 2024-12-23 19:07:53,219] Trial 80 finished with value: 0.026685655346793957 and parameters: {'topK': 418, 'alpha': 0.5732577922719686, 'beta': 0.5566319053722096}. Best is trial 53 with value: 0.03083604069934767.\n"
     ]
    },
    {
     "name": "stdout",
     "output_type": "stream",
     "text": [
      "RP3betaRecommender: Similarity column 38121 (100.0%), 3792.72 column/sec. Elapsed time 10.05 sec\n",
      "EvaluatorHoldout: Processed 35280 (100.0%) in 11.48 sec. Users per second: 3074\n"
     ]
    },
    {
     "name": "stderr",
     "output_type": "stream",
     "text": [
      "[I 2024-12-23 19:08:16,006] Trial 81 finished with value: 0.030213798680847 and parameters: {'topK': 42, 'alpha': 0.5217753596913969, 'beta': 0.3601016166122637}. Best is trial 53 with value: 0.03083604069934767.\n"
     ]
    },
    {
     "name": "stdout",
     "output_type": "stream",
     "text": [
      "RP3betaRecommender: Similarity column 38121 (100.0%), 3748.87 column/sec. Elapsed time 10.17 sec\n",
      "EvaluatorHoldout: Processed 35280 (100.0%) in 11.10 sec. Users per second: 3177\n"
     ]
    },
    {
     "name": "stderr",
     "output_type": "stream",
     "text": [
      "[I 2024-12-23 19:08:38,264] Trial 82 finished with value: 0.030141523143648017 and parameters: {'topK': 32, 'alpha': 0.6318462770498794, 'beta': 0.358877047302274}. Best is trial 53 with value: 0.03083604069934767.\n"
     ]
    },
    {
     "name": "stdout",
     "output_type": "stream",
     "text": [
      "RP3betaRecommender: Similarity column 38121 (100.0%), 3497.79 column/sec. Elapsed time 10.90 sec\n",
      "EvaluatorHoldout: Processed 35280 (100.0%) in 11.12 sec. Users per second: 3173\n"
     ]
    },
    {
     "name": "stderr",
     "output_type": "stream",
     "text": [
      "[I 2024-12-23 19:09:01,240] Trial 83 finished with value: 0.029423626858149917 and parameters: {'topK': 31, 'alpha': 0.6325281588978006, 'beta': 0.4378444935744933}. Best is trial 53 with value: 0.03083604069934767.\n"
     ]
    },
    {
     "name": "stdout",
     "output_type": "stream",
     "text": [
      "RP3betaRecommender: Similarity column 38121 (100.0%), 3112.34 column/sec. Elapsed time 12.25 sec\n",
      "EvaluatorHoldout: Processed 35280 (100.0%) in 12.91 sec. Users per second: 2733\n"
     ]
    },
    {
     "name": "stderr",
     "output_type": "stream",
     "text": [
      "[I 2024-12-23 19:09:29,053] Trial 84 finished with value: 0.02890886513335393 and parameters: {'topK': 109, 'alpha': 0.7617855787698163, 'beta': 0.2650635289835894}. Best is trial 53 with value: 0.03083604069934767.\n"
     ]
    },
    {
     "name": "stdout",
     "output_type": "stream",
     "text": [
      "RP3betaRecommender: Similarity column 38121 (100.0%), 3153.08 column/sec. Elapsed time 12.09 sec\n",
      "EvaluatorHoldout: Processed 35280 (100.0%) in 12.14 sec. Users per second: 2905\n"
     ]
    },
    {
     "name": "stderr",
     "output_type": "stream",
     "text": [
      "[I 2024-12-23 19:09:55,072] Trial 85 finished with value: 0.029662886252383697 and parameters: {'topK': 67, 'alpha': 0.336750958956746, 'beta': 0.3694114660573182}. Best is trial 53 with value: 0.03083604069934767.\n"
     ]
    },
    {
     "name": "stdout",
     "output_type": "stream",
     "text": [
      "RP3betaRecommender: Similarity column 38121 (100.0%), 3850.30 column/sec. Elapsed time 9.90 sec\n",
      "EvaluatorHoldout: Processed 35280 (100.0%) in 10.95 sec. Users per second: 3222\n"
     ]
    },
    {
     "name": "stderr",
     "output_type": "stream",
     "text": [
      "[I 2024-12-23 19:10:16,762] Trial 86 finished with value: 0.031226893469026802 and parameters: {'topK': 29, 'alpha': 0.4471501253412825, 'beta': 0.17909607754152246}. Best is trial 86 with value: 0.031226893469026802.\n"
     ]
    },
    {
     "name": "stdout",
     "output_type": "stream",
     "text": [
      "RP3betaRecommender: Similarity column 38121 (100.0%), 3762.82 column/sec. Elapsed time 10.13 sec\n",
      "EvaluatorHoldout: Processed 35280 (100.0%) in 10.87 sec. Users per second: 3245\n"
     ]
    },
    {
     "name": "stderr",
     "output_type": "stream",
     "text": [
      "[I 2024-12-23 19:10:38,594] Trial 87 finished with value: 0.031243904770902015 and parameters: {'topK': 29, 'alpha': 0.4395810091954744, 'beta': 0.17129301254582419}. Best is trial 87 with value: 0.031243904770902015.\n"
     ]
    },
    {
     "name": "stdout",
     "output_type": "stream",
     "text": [
      "RP3betaRecommender: Similarity column 38121 (100.0%), 2912.35 column/sec. Elapsed time 13.09 sec\n",
      "EvaluatorHoldout: Processed 35280 (100.0%) in 12.30 sec. Users per second: 2867\n"
     ]
    },
    {
     "name": "stderr",
     "output_type": "stream",
     "text": [
      "[I 2024-12-23 19:11:06,175] Trial 88 finished with value: 0.029637638124031872 and parameters: {'topK': 95, 'alpha': 0.38572366789972945, 'beta': 0.17670721020411964}. Best is trial 87 with value: 0.031243904770902015.\n"
     ]
    },
    {
     "name": "stdout",
     "output_type": "stream",
     "text": [
      "RP3betaRecommender: Similarity column 38121 (100.0%), 2685.22 column/sec. Elapsed time 14.20 sec\n",
      "EvaluatorHoldout: Processed 35280 (100.0%) in 12.56 sec. Users per second: 2810\n"
     ]
    },
    {
     "name": "stderr",
     "output_type": "stream",
     "text": [
      "[I 2024-12-23 19:11:35,700] Trial 89 finished with value: 0.02758191722456095 and parameters: {'topK': 144, 'alpha': 0.26699050590857976, 'beta': 0.00622203522042826}. Best is trial 87 with value: 0.031243904770902015.\n"
     ]
    },
    {
     "name": "stdout",
     "output_type": "stream",
     "text": [
      "RP3betaRecommender: Similarity column 38121 (100.0%), 3899.40 column/sec. Elapsed time 9.78 sec\n",
      "EvaluatorHoldout: Processed 35280 (100.0%) in 10.84 sec. Users per second: 3253\n"
     ]
    },
    {
     "name": "stderr",
     "output_type": "stream",
     "text": [
      "[I 2024-12-23 19:11:57,149] Trial 90 finished with value: 0.03130132635064518 and parameters: {'topK': 27, 'alpha': 0.4416940951220855, 'beta': 0.16321472067538506}. Best is trial 90 with value: 0.03130132635064518.\n"
     ]
    },
    {
     "name": "stdout",
     "output_type": "stream",
     "text": [
      "RP3betaRecommender: Similarity column 38121 (100.0%), 3262.90 column/sec. Elapsed time 11.68 sec\n",
      "EvaluatorHoldout: Processed 35280 (100.0%) in 10.80 sec. Users per second: 3265\n"
     ]
    },
    {
     "name": "stderr",
     "output_type": "stream",
     "text": [
      "[I 2024-12-23 19:12:20,395] Trial 91 finished with value: 0.03125014059856655 and parameters: {'topK': 26, 'alpha': 0.44446774843187914, 'beta': 0.14874191893009142}. Best is trial 90 with value: 0.03130132635064518.\n"
     ]
    },
    {
     "name": "stdout",
     "output_type": "stream",
     "text": [
      "RP3betaRecommender: Similarity column 38121 (100.0%), 3731.62 column/sec. Elapsed time 10.22 sec\n",
      "EvaluatorHoldout: Processed 35280 (100.0%) in 10.29 sec. Users per second: 3429\n"
     ]
    },
    {
     "name": "stderr",
     "output_type": "stream",
     "text": [
      "[I 2024-12-23 19:12:41,286] Trial 92 finished with value: 0.029310626102292094 and parameters: {'topK': 6, 'alpha': 0.430025245283274, 'beta': 0.14862793209349018}. Best is trial 90 with value: 0.03130132635064518.\n"
     ]
    },
    {
     "name": "stdout",
     "output_type": "stream",
     "text": [
      "RP3betaRecommender: Similarity column 38121 (100.0%), 3393.35 column/sec. Elapsed time 11.23 sec\n",
      "EvaluatorHoldout: Processed 35280 (100.0%) in 11.72 sec. Users per second: 3009\n"
     ]
    },
    {
     "name": "stderr",
     "output_type": "stream",
     "text": [
      "[I 2024-12-23 19:13:05,902] Trial 93 finished with value: 0.029425293794765703 and parameters: {'topK': 79, 'alpha': 0.4724925539361762, 'beta': 0.04281198321127054}. Best is trial 90 with value: 0.03130132635064518.\n"
     ]
    },
    {
     "name": "stdout",
     "output_type": "stream",
     "text": [
      "RP3betaRecommender: Similarity column 38121 (100.0%), 3651.45 column/sec. Elapsed time 10.44 sec\n",
      "EvaluatorHoldout: Processed 35280 (100.0%) in 11.01 sec. Users per second: 3206\n"
     ]
    },
    {
     "name": "stderr",
     "output_type": "stream",
     "text": [
      "[I 2024-12-23 19:13:28,141] Trial 94 finished with value: 0.03131802271172927 and parameters: {'topK': 25, 'alpha': 0.30711312115284617, 'beta': 0.27487028510714795}. Best is trial 94 with value: 0.03131802271172927.\n"
     ]
    },
    {
     "name": "stdout",
     "output_type": "stream",
     "text": [
      "RP3betaRecommender: Similarity column 38121 (100.0%), 3223.49 column/sec. Elapsed time 11.83 sec\n",
      "EvaluatorHoldout: Processed 35280 (100.0%) in 12.66 sec. Users per second: 2788\n"
     ]
    },
    {
     "name": "stderr",
     "output_type": "stream",
     "text": [
      "[I 2024-12-23 19:13:55,298] Trial 95 finished with value: 0.028607616393117163 and parameters: {'topK': 120, 'alpha': 0.09671895459163998, 'beta': 0.20684711212273074}. Best is trial 94 with value: 0.03131802271172927.\n"
     ]
    },
    {
     "name": "stdout",
     "output_type": "stream",
     "text": [
      "RP3betaRecommender: Similarity column 38121 (100.0%), 3424.02 column/sec. Elapsed time 11.13 sec\n",
      "EvaluatorHoldout: Processed 35280 (100.0%) in 11.66 sec. Users per second: 3027\n"
     ]
    },
    {
     "name": "stderr",
     "output_type": "stream",
     "text": [
      "[I 2024-12-23 19:14:19,558] Trial 96 finished with value: 0.030076174054276848 and parameters: {'topK': 59, 'alpha': 0.22436349679743736, 'beta': 0.2464285087266792}. Best is trial 94 with value: 0.03131802271172927.\n"
     ]
    },
    {
     "name": "stdout",
     "output_type": "stream",
     "text": [
      "RP3betaRecommender: Similarity column 38121 (100.0%), 3179.09 column/sec. Elapsed time 11.99 sec\n",
      "EvaluatorHoldout: Processed 35280 (100.0%) in 11.28 sec. Users per second: 3128\n"
     ]
    },
    {
     "name": "stderr",
     "output_type": "stream",
     "text": [
      "[I 2024-12-23 19:14:44,052] Trial 97 finished with value: 0.030153451526112172 and parameters: {'topK': 55, 'alpha': 0.3434352639325443, 'beta': 0.08206428572607197}. Best is trial 94 with value: 0.03131802271172927.\n"
     ]
    },
    {
     "name": "stdout",
     "output_type": "stream",
     "text": [
      "RP3betaRecommender: Similarity column 38121 (100.0%), 3705.95 column/sec. Elapsed time 10.29 sec\n",
      "EvaluatorHoldout: Processed 35280 (100.0%) in 10.84 sec. Users per second: 3254\n"
     ]
    },
    {
     "name": "stderr",
     "output_type": "stream",
     "text": [
      "[I 2024-12-23 19:15:05,941] Trial 98 finished with value: 0.031195181180936973 and parameters: {'topK': 23, 'alpha': 0.42503711832305624, 'beta': 0.2930682805258472}. Best is trial 94 with value: 0.03131802271172927.\n"
     ]
    },
    {
     "name": "stdout",
     "output_type": "stream",
     "text": [
      "RP3betaRecommender: Similarity column 38121 (100.0%), 3558.99 column/sec. Elapsed time 10.71 sec\n",
      "EvaluatorHoldout: Processed 35280 (100.0%) in 10.62 sec. Users per second: 3322\n"
     ]
    },
    {
     "name": "stderr",
     "output_type": "stream",
     "text": [
      "[I 2024-12-23 19:15:27,968] Trial 99 finished with value: 0.0314285849260329 and parameters: {'topK': 22, 'alpha': 0.4294843699758765, 'beta': 0.18002013067989414}. Best is trial 99 with value: 0.0314285849260329.\n"
     ]
    }
   ],
   "source": [
    "import optuna\n",
    "\n",
    "optuna_study = optuna.create_study(study_name=\"rp3\", direction=\"maximize\")\n",
    "        \n",
    "save_results = SaveResults()\n",
    "        \n",
    "optuna_study.optimize(objective_function,\n",
    "                      callbacks=[save_results],\n",
    "                      n_trials = 100\n",
    "                      )"
   ]
  },
  {
   "cell_type": "code",
   "execution_count": 7,
   "metadata": {},
   "outputs": [
    {
     "name": "stdout",
     "output_type": "stream",
     "text": [
      "Best hyperparameters found: {'topK': 22, 'alpha': 0.4294843699758765, 'beta': 0.18002013067989414}\n"
     ]
    }
   ],
   "source": [
    "# Let's print the best hyperparameters we found\n",
    "print(\"Best hyperparameters found: \" + str(optuna_study.best_params))"
   ]
  },
  {
   "cell_type": "code",
   "execution_count": 9,
   "metadata": {},
   "outputs": [
    {
     "name": "stdout",
     "output_type": "stream",
     "text": [
      "RP3betaRecommender: Similarity column 38121 (100.0%), 3779.08 column/sec. Elapsed time 10.09 sec\n",
      "EvaluatorHoldout: Processed 35595 (100.0%) in 11.18 sec. Users per second: 3185\n",
      "MAP on test: 0.03990267381944437\n"
     ]
    }
   ],
   "source": [
    "# Performance on test\n",
    "recommender = RP3betaRecommender(URM_train)\n",
    "recommender.fit(**optuna_study.best_params)\n",
    "\n",
    "result_dict, _ = evaluator_test.evaluateRecommender(recommender)\n",
    "\n",
    "MAP = result_dict.loc[10][\"MAP\"]\n",
    "\n",
    "print(\"MAP on test: \"+str(MAP))"
   ]
  },
  {
   "cell_type": "code",
   "execution_count": 12,
   "metadata": {},
   "outputs": [
    {
     "name": "stdout",
     "output_type": "stream",
     "text": [
      "RP3betaRecommender: Similarity column 38121 (100.0%), 3550.07 column/sec. Elapsed time 10.74 sec\n",
      "EvaluatorHoldout: Processed 35595 (100.0%) in 11.14 sec. Users per second: 3195\n",
      "MAP on test considering validation: 0.05377804199358983\n"
     ]
    }
   ],
   "source": [
    "# Let's see also considering validation\n",
    "recommender = RP3betaRecommender(URM_train_validation)\n",
    "recommender.fit(**optuna_study.best_params)\n",
    "result_dict, _ = evaluator_test.evaluateRecommender(recommender)\n",
    "\n",
    "MAP = result_dict.loc[10][\"MAP\"]\n",
    "\n",
    "print(\"MAP on test considering validation: \"+str(MAP))"
   ]
  },
  {
   "cell_type": "markdown",
   "metadata": {},
   "source": [
    "# Further parameters searching\n",
    "Based on the above results, let's facilitate the search of the best hyperparameters in a smaller hyperparameters space"
   ]
  },
  {
   "cell_type": "code",
   "execution_count": 13,
   "metadata": {},
   "outputs": [],
   "source": [
    "def objective_function_smaller(trial):\n",
    "    params = {\n",
    "        'topK': trial.suggest_int('topK', 5, 300),\n",
    "        'alpha': trial.suggest_float('alpha', 0.3, 1.5),\n",
    "        'beta': trial.suggest_float('beta', 0.1, 1.0),\n",
    "    }\n",
    "\n",
    "    recommender = RP3betaRecommender(URM_train)\n",
    "    recommender.fit(**params)\n",
    "    result_dict, _ = evaluator_validation.evaluateRecommender(recommender)\n",
    "    MAP = result_dict.loc[10][\"MAP\"]\n",
    "    \n",
    "    return MAP"
   ]
  },
  {
   "cell_type": "code",
   "execution_count": 14,
   "metadata": {},
   "outputs": [],
   "source": [
    "class SaveResults(object):\n",
    "    \n",
    "    def __init__(self):\n",
    "        self.results_df = pd.DataFrame(columns = [\"result\"])\n",
    "    \n",
    "    def __call__(self, optuna_study, optuna_trial):\n",
    "        hyperparam_dict = optuna_trial.params.copy()\n",
    "        hyperparam_dict[\"result\"] = optuna_trial.values[0]\n",
    "        \n",
    "        self.results_df = pd.concat([self.results_df, pd.DataFrame([hyperparam_dict])], ignore_index=True)\n",
    "        self.results_df.to_csv(\"logs/RP3/rp3_smallerHyperSpace.csv\", index = False)"
   ]
  },
  {
   "cell_type": "code",
   "execution_count": 15,
   "metadata": {},
   "outputs": [
    {
     "name": "stderr",
     "output_type": "stream",
     "text": [
      "[I 2024-12-23 19:33:49,366] A new study created in memory with name: rp3_smaller\n"
     ]
    },
    {
     "name": "stdout",
     "output_type": "stream",
     "text": [
      "RP3betaRecommender: Similarity column 38121 (100.0%), 1360.99 column/sec. Elapsed time 28.01 sec\n",
      "EvaluatorHoldout: Processed 35280 (100.0%) in 24.57 sec. Users per second: 1436\n"
     ]
    },
    {
     "name": "stderr",
     "output_type": "stream",
     "text": [
      "[I 2024-12-23 19:34:56,428] Trial 0 finished with value: 0.022322091071878047 and parameters: {'topK': 421, 'alpha': 0.8693959588116751, 'beta': 0.7019254269166117}. Best is trial 0 with value: 0.022322091071878047.\n"
     ]
    },
    {
     "name": "stdout",
     "output_type": "stream",
     "text": [
      "RP3betaRecommender: Similarity column 38121 (100.0%), 1635.95 column/sec. Elapsed time 23.30 sec\n",
      "EvaluatorHoldout: Processed 35280 (100.0%) in 22.08 sec. Users per second: 1598\n"
     ]
    },
    {
     "name": "stderr",
     "output_type": "stream",
     "text": [
      "[I 2024-12-23 19:35:51,649] Trial 1 finished with value: 0.009799997975380819 and parameters: {'topK': 322, 'alpha': 1.772213689105113, 'beta': 1.0085990087846484}. Best is trial 0 with value: 0.022322091071878047.\n"
     ]
    },
    {
     "name": "stdout",
     "output_type": "stream",
     "text": [
      "RP3betaRecommender: Similarity column 38121 (100.0%), 1640.36 column/sec. Elapsed time 23.24 sec\n",
      "EvaluatorHoldout: Processed 35280 (100.0%) in 20.14 sec. Users per second: 1752\n"
     ]
    },
    {
     "name": "stderr",
     "output_type": "stream",
     "text": [
      "[I 2024-12-23 19:36:42,345] Trial 2 finished with value: 0.023059692527804144 and parameters: {'topK': 266, 'alpha': 1.8083467147161865, 'beta': 0.008821174813765653}. Best is trial 2 with value: 0.023059692527804144.\n"
     ]
    },
    {
     "name": "stdout",
     "output_type": "stream",
     "text": [
      "RP3betaRecommender: Similarity column 38121 (100.0%), 854.04 column/sec. Elapsed time 44.64 sec\n",
      "EvaluatorHoldout: Processed 35280 (100.0%) in 28.99 sec. Users per second: 1217\n"
     ]
    },
    {
     "name": "stderr",
     "output_type": "stream",
     "text": [
      "[I 2024-12-23 19:38:19,194] Trial 3 finished with value: 0.008198377829968028 and parameters: {'topK': 888, 'alpha': 0.06833219883614028, 'beta': 1.3022469032530124}. Best is trial 2 with value: 0.023059692527804144.\n"
     ]
    },
    {
     "name": "stdout",
     "output_type": "stream",
     "text": [
      "RP3betaRecommender: Similarity column 38121 (100.0%), 1210.13 column/sec. Elapsed time 31.50 sec\n",
      "EvaluatorHoldout: Processed 35280 (100.0%) in 26.30 sec. Users per second: 1341\n"
     ]
    },
    {
     "name": "stderr",
     "output_type": "stream",
     "text": [
      "[I 2024-12-23 19:39:33,255] Trial 4 finished with value: 0.022517539952488442 and parameters: {'topK': 487, 'alpha': 0.7945509696344111, 'beta': 0.7068988327670893}. Best is trial 2 with value: 0.023059692527804144.\n"
     ]
    },
    {
     "name": "stdout",
     "output_type": "stream",
     "text": [
      "RP3betaRecommender: Similarity column 38121 (100.0%), 1080.60 column/sec. Elapsed time 35.28 sec\n",
      "EvaluatorHoldout: Processed 35280 (100.0%) in 28.13 sec. Users per second: 1254\n"
     ]
    },
    {
     "name": "stderr",
     "output_type": "stream",
     "text": [
      "[I 2024-12-23 19:40:54,347] Trial 5 finished with value: 0.018881145844581122 and parameters: {'topK': 508, 'alpha': 0.5322200838989135, 'beta': 0.8220622115036662}. Best is trial 2 with value: 0.023059692527804144.\n"
     ]
    },
    {
     "name": "stdout",
     "output_type": "stream",
     "text": [
      "RP3betaRecommender: Similarity column 38121 (100.0%), 1226.44 column/sec. Elapsed time 31.08 sec\n",
      "EvaluatorHoldout: Processed 35280 (100.0%) in 25.97 sec. Users per second: 1359\n"
     ]
    },
    {
     "name": "stderr",
     "output_type": "stream",
     "text": [
      "[I 2024-12-23 19:42:05,282] Trial 6 finished with value: 0.014441287163013692 and parameters: {'topK': 395, 'alpha': 0.712546027223609, 'beta': 0.9989914089661744}. Best is trial 2 with value: 0.023059692527804144.\n"
     ]
    },
    {
     "name": "stdout",
     "output_type": "stream",
     "text": [
      "RP3betaRecommender: Similarity column 38121 (100.0%), 1104.57 column/sec. Elapsed time 34.51 sec\n",
      "EvaluatorHoldout: Processed 35280 (100.0%) in 19.74 sec. Users per second: 1787\n"
     ]
    },
    {
     "name": "stderr",
     "output_type": "stream",
     "text": [
      "[I 2024-12-23 19:43:14,764] Trial 7 finished with value: 0.014831654024043761 and parameters: {'topK': 455, 'alpha': 1.1164895910803039, 'beta': 0.9162147581564477}. Best is trial 2 with value: 0.023059692527804144.\n"
     ]
    },
    {
     "name": "stdout",
     "output_type": "stream",
     "text": [
      "RP3betaRecommender: Similarity column 38121 (100.0%), 2529.79 column/sec. Elapsed time 15.07 sec\n",
      "EvaluatorHoldout: Processed 35280 (100.0%) in 14.79 sec. Users per second: 2386\n"
     ]
    },
    {
     "name": "stderr",
     "output_type": "stream",
     "text": [
      "[I 2024-12-23 19:43:49,107] Trial 8 finished with value: 0.027092836671704937 and parameters: {'topK': 212, 'alpha': 0.1675335615102691, 'beta': 0.11132990963524758}. Best is trial 8 with value: 0.027092836671704937.\n"
     ]
    },
    {
     "name": "stdout",
     "output_type": "stream",
     "text": [
      "RP3betaRecommender: Similarity column 38121 (100.0%), 1337.93 column/sec. Elapsed time 28.49 sec\n",
      "EvaluatorHoldout: Processed 35280 (100.0%) in 22.40 sec. Users per second: 1575\n"
     ]
    },
    {
     "name": "stderr",
     "output_type": "stream",
     "text": [
      "[I 2024-12-23 19:44:56,710] Trial 9 finished with value: 0.010476561656408787 and parameters: {'topK': 733, 'alpha': 1.5543351158580443, 'beta': 1.0554435968463676}. Best is trial 8 with value: 0.027092836671704937.\n"
     ]
    },
    {
     "name": "stdout",
     "output_type": "stream",
     "text": [
      "RP3betaRecommender: Similarity column 38121 (100.0%), 3603.55 column/sec. Elapsed time 10.58 sec\n",
      "EvaluatorHoldout: Processed 35280 (100.0%) in 11.50 sec. Users per second: 3068\n"
     ]
    },
    {
     "name": "stderr",
     "output_type": "stream",
     "text": [
      "[I 2024-12-23 19:45:19,999] Trial 10 finished with value: 0.029831092754561177 and parameters: {'topK': 51, 'alpha': 0.05864473705610336, 'beta': 0.12376555559093094}. Best is trial 10 with value: 0.029831092754561177.\n"
     ]
    },
    {
     "name": "stdout",
     "output_type": "stream",
     "text": [
      "RP3betaRecommender: Similarity column 38121 (100.0%), 4278.16 column/sec. Elapsed time 8.91 sec\n",
      "EvaluatorHoldout: Processed 35280 (100.0%) in 10.68 sec. Users per second: 3304\n"
     ]
    },
    {
     "name": "stderr",
     "output_type": "stream",
     "text": [
      "[I 2024-12-23 19:45:40,021] Trial 11 finished with value: 0.030786427401647627 and parameters: {'topK': 10, 'alpha': 0.015524629883730184, 'beta': 0.028331355992058355}. Best is trial 11 with value: 0.030786427401647627.\n"
     ]
    },
    {
     "name": "stdout",
     "output_type": "stream",
     "text": [
      "RP3betaRecommender: Similarity column 38121 (100.0%), 4049.23 column/sec. Elapsed time 9.41 sec\n",
      "EvaluatorHoldout: Processed 35280 (100.0%) in 10.75 sec. Users per second: 3282\n"
     ]
    },
    {
     "name": "stderr",
     "output_type": "stream",
     "text": [
      "[I 2024-12-23 19:46:00,612] Trial 12 finished with value: 0.007807850124176736 and parameters: {'topK': 18, 'alpha': 0.24421165440090414, 'beta': 1.9642261035643502}. Best is trial 11 with value: 0.030786427401647627.\n"
     ]
    },
    {
     "name": "stdout",
     "output_type": "stream",
     "text": [
      "RP3betaRecommender: Similarity column 38121 (100.0%), 3833.20 column/sec. Elapsed time 9.94 sec\n",
      "EvaluatorHoldout: Processed 35280 (100.0%) in 11.43 sec. Users per second: 3087\n"
     ]
    },
    {
     "name": "stderr",
     "output_type": "stream",
     "text": [
      "[I 2024-12-23 19:46:22,897] Trial 13 finished with value: 0.030985007693552682 and parameters: {'topK': 28, 'alpha': 0.3946834938674426, 'beta': 0.3400085487306477}. Best is trial 13 with value: 0.030985007693552682.\n"
     ]
    },
    {
     "name": "stdout",
     "output_type": "stream",
     "text": [
      "RP3betaRecommender: Similarity column 38121 (100.0%), 2945.85 column/sec. Elapsed time 12.94 sec\n",
      "EvaluatorHoldout: Processed 35280 (100.0%) in 13.99 sec. Users per second: 2521\n"
     ]
    },
    {
     "name": "stderr",
     "output_type": "stream",
     "text": [
      "[I 2024-12-23 19:46:53,213] Trial 14 finished with value: 0.02892853093618308 and parameters: {'topK': 129, 'alpha': 0.47159496771924103, 'beta': 0.41145921787469963}. Best is trial 13 with value: 0.030985007693552682.\n"
     ]
    },
    {
     "name": "stdout",
     "output_type": "stream",
     "text": [
      "RP3betaRecommender: Similarity column 38121 (100.0%), 2928.75 column/sec. Elapsed time 13.02 sec\n",
      "EvaluatorHoldout: Processed 35280 (100.0%) in 14.52 sec. Users per second: 2429\n"
     ]
    },
    {
     "name": "stderr",
     "output_type": "stream",
     "text": [
      "[I 2024-12-23 19:47:24,750] Trial 15 finished with value: 0.028905581875606483 and parameters: {'topK': 158, 'alpha': 0.3839906306212704, 'beta': 0.3774510532160494}. Best is trial 13 with value: 0.030985007693552682.\n"
     ]
    },
    {
     "name": "stdout",
     "output_type": "stream",
     "text": [
      "RP3betaRecommender: Similarity column 38121 (100.0%), 3799.61 column/sec. Elapsed time 10.03 sec\n",
      "EvaluatorHoldout: Processed 35280 (100.0%) in 11.52 sec. Users per second: 3061\n"
     ]
    },
    {
     "name": "stderr",
     "output_type": "stream",
     "text": [
      "[I 2024-12-23 19:47:47,294] Trial 16 finished with value: 0.02752960106000004 and parameters: {'topK': 32, 'alpha': 1.1343435218047295, 'beta': 0.3885047978561932}. Best is trial 13 with value: 0.030985007693552682.\n"
     ]
    },
    {
     "name": "stdout",
     "output_type": "stream",
     "text": [
      "RP3betaRecommender: Similarity column 38121 (100.0%), 1382.54 column/sec. Elapsed time 27.57 sec\n",
      "EvaluatorHoldout: Processed 35280 (100.0%) in 20.17 sec. Users per second: 1749\n"
     ]
    },
    {
     "name": "stderr",
     "output_type": "stream",
     "text": [
      "[I 2024-12-23 19:48:48,878] Trial 17 finished with value: 0.006198198988590161 and parameters: {'topK': 667, 'alpha': 0.006569165536564503, 'beta': 1.5507220023685861}. Best is trial 13 with value: 0.030985007693552682.\n"
     ]
    },
    {
     "name": "stdout",
     "output_type": "stream",
     "text": [
      "RP3betaRecommender: Similarity column 38121 (100.0%), 3028.67 column/sec. Elapsed time 12.59 sec\n",
      "EvaluatorHoldout: Processed 35280 (100.0%) in 13.39 sec. Users per second: 2634\n"
     ]
    },
    {
     "name": "stderr",
     "output_type": "stream",
     "text": [
      "[I 2024-12-23 19:49:17,917] Trial 18 finished with value: 0.029114150289744546 and parameters: {'topK': 129, 'alpha': 0.33711844673670893, 'beta': 0.24551785784567312}. Best is trial 13 with value: 0.030985007693552682.\n"
     ]
    },
    {
     "name": "stdout",
     "output_type": "stream",
     "text": [
      "RP3betaRecommender: Similarity column 38121 (100.0%), 1151.01 column/sec. Elapsed time 33.12 sec\n",
      "EvaluatorHoldout: Processed 35280 (100.0%) in 23.85 sec. Users per second: 1480\n"
     ]
    },
    {
     "name": "stderr",
     "output_type": "stream",
     "text": [
      "[I 2024-12-23 19:50:35,749] Trial 19 finished with value: 0.02676738473166969 and parameters: {'topK': 965, 'alpha': 0.5935958112015123, 'beta': 0.5335637716032826}. Best is trial 13 with value: 0.030985007693552682.\n"
     ]
    },
    {
     "name": "stdout",
     "output_type": "stream",
     "text": [
      "RP3betaRecommender: Similarity column 38121 (100.0%), 1532.25 column/sec. Elapsed time 24.88 sec\n",
      "EvaluatorHoldout: Processed 35280 (100.0%) in 20.20 sec. Users per second: 1747\n"
     ]
    },
    {
     "name": "stderr",
     "output_type": "stream",
     "text": [
      "[I 2024-12-23 19:51:34,123] Trial 20 finished with value: 0.024826729699815895 and parameters: {'topK': 618, 'alpha': 1.3941434465906208, 'beta': 0.23868847874892551}. Best is trial 13 with value: 0.030985007693552682.\n"
     ]
    },
    {
     "name": "stdout",
     "output_type": "stream",
     "text": [
      "RP3betaRecommender: Similarity column 38121 (100.0%), 4069.06 column/sec. Elapsed time 9.37 sec\n",
      "EvaluatorHoldout: Processed 35280 (100.0%) in 10.72 sec. Users per second: 3292\n"
     ]
    },
    {
     "name": "stderr",
     "output_type": "stream",
     "text": [
      "[I 2024-12-23 19:51:54,777] Trial 21 finished with value: 0.031214305960478587 and parameters: {'topK': 19, 'alpha': 0.17925782944136892, 'beta': 0.03272830169638258}. Best is trial 21 with value: 0.031214305960478587.\n"
     ]
    },
    {
     "name": "stdout",
     "output_type": "stream",
     "text": [
      "RP3betaRecommender: Similarity column 38121 (100.0%), 4242.71 column/sec. Elapsed time 8.99 sec\n",
      "EvaluatorHoldout: Processed 35280 (100.0%) in 10.33 sec. Users per second: 3414\n"
     ]
    },
    {
     "name": "stderr",
     "output_type": "stream",
     "text": [
      "[I 2024-12-23 19:52:14,440] Trial 22 finished with value: 0.028222306581361965 and parameters: {'topK': 5, 'alpha': 0.2449085154704919, 'beta': 0.03193521452109714}. Best is trial 21 with value: 0.031214305960478587.\n"
     ]
    },
    {
     "name": "stdout",
     "output_type": "stream",
     "text": [
      "RP3betaRecommender: Similarity column 38121 (100.0%), 3004.17 column/sec. Elapsed time 12.69 sec\n",
      "EvaluatorHoldout: Processed 35280 (100.0%) in 13.73 sec. Users per second: 2570\n"
     ]
    },
    {
     "name": "stderr",
     "output_type": "stream",
     "text": [
      "[I 2024-12-23 19:52:43,802] Trial 23 finished with value: 0.026682179750206165 and parameters: {'topK': 119, 'alpha': 0.2628609541804531, 'beta': 0.5538668360220944}. Best is trial 21 with value: 0.031214305960478587.\n"
     ]
    },
    {
     "name": "stdout",
     "output_type": "stream",
     "text": [
      "RP3betaRecommender: Similarity column 38121 (100.0%), 2266.06 column/sec. Elapsed time 16.82 sec\n",
      "EvaluatorHoldout: Processed 35280 (100.0%) in 15.77 sec. Users per second: 2237\n"
     ]
    },
    {
     "name": "stderr",
     "output_type": "stream",
     "text": [
      "[I 2024-12-23 19:53:22,445] Trial 24 finished with value: 0.027546187191807025 and parameters: {'topK': 273, 'alpha': 0.6493864561775994, 'beta': 0.2019761638041201}. Best is trial 21 with value: 0.031214305960478587.\n"
     ]
    },
    {
     "name": "stdout",
     "output_type": "stream",
     "text": [
      "RP3betaRecommender: Similarity column 38121 (100.0%), 2657.91 column/sec. Elapsed time 14.34 sec\n",
      "EvaluatorHoldout: Processed 35280 (100.0%) in 14.69 sec. Users per second: 2401\n"
     ]
    },
    {
     "name": "stderr",
     "output_type": "stream",
     "text": [
      "[I 2024-12-23 19:53:56,074] Trial 25 finished with value: 0.028772073975091673 and parameters: {'topK': 188, 'alpha': 0.46082266690287266, 'beta': 0.3340510015913226}. Best is trial 21 with value: 0.031214305960478587.\n"
     ]
    },
    {
     "name": "stdout",
     "output_type": "stream",
     "text": [
      "RP3betaRecommender: Similarity column 38121 (100.0%), 3369.54 column/sec. Elapsed time 11.31 sec\n",
      "EvaluatorHoldout: Processed 35280 (100.0%) in 13.00 sec. Users per second: 2715\n"
     ]
    },
    {
     "name": "stderr",
     "output_type": "stream",
     "text": [
      "[I 2024-12-23 19:54:22,418] Trial 26 finished with value: 0.026647582379511953 and parameters: {'topK': 82, 'alpha': 0.13840201710495736, 'beta': 0.5451591445182953}. Best is trial 21 with value: 0.031214305960478587.\n"
     ]
    },
    {
     "name": "stdout",
     "output_type": "stream",
     "text": [
      "RP3betaRecommender: Similarity column 38121 (100.0%), 2085.32 column/sec. Elapsed time 18.28 sec\n",
      "EvaluatorHoldout: Processed 35280 (100.0%) in 16.33 sec. Users per second: 2161\n"
     ]
    },
    {
     "name": "stderr",
     "output_type": "stream",
     "text": [
      "[I 2024-12-23 19:55:03,756] Trial 27 finished with value: 0.025002463286901293 and parameters: {'topK': 332, 'alpha': 1.014180073102616, 'beta': 0.004530983380596664}. Best is trial 21 with value: 0.031214305960478587.\n"
     ]
    },
    {
     "name": "stdout",
     "output_type": "stream",
     "text": [
      "RP3betaRecommender: Similarity column 38121 (100.0%), 2543.56 column/sec. Elapsed time 14.99 sec\n",
      "EvaluatorHoldout: Processed 35280 (100.0%) in 14.26 sec. Users per second: 2474\n"
     ]
    },
    {
     "name": "stderr",
     "output_type": "stream",
     "text": [
      "[I 2024-12-23 19:55:37,362] Trial 28 finished with value: 0.026966940215238648 and parameters: {'topK': 207, 'alpha': 0.00839100881870794, 'beta': 0.1900068610834325}. Best is trial 21 with value: 0.031214305960478587.\n"
     ]
    },
    {
     "name": "stdout",
     "output_type": "stream",
     "text": [
      "RP3betaRecommender: Similarity column 38121 (100.0%), 3499.82 column/sec. Elapsed time 10.89 sec\n",
      "EvaluatorHoldout: Processed 35280 (100.0%) in 12.69 sec. Users per second: 2781\n"
     ]
    },
    {
     "name": "stderr",
     "output_type": "stream",
     "text": [
      "[I 2024-12-23 19:56:02,823] Trial 29 finished with value: 0.024777106279018954 and parameters: {'topK': 71, 'alpha': 0.8558960527860009, 'beta': 0.6117100354641034}. Best is trial 21 with value: 0.031214305960478587.\n"
     ]
    },
    {
     "name": "stdout",
     "output_type": "stream",
     "text": [
      "RP3betaRecommender: Similarity column 38121 (100.0%), 1998.41 column/sec. Elapsed time 19.08 sec\n",
      "EvaluatorHoldout: Processed 35280 (100.0%) in 17.08 sec. Users per second: 2065\n"
     ]
    },
    {
     "name": "stderr",
     "output_type": "stream",
     "text": [
      "[I 2024-12-23 19:56:47,077] Trial 30 finished with value: 0.009966114620451523 and parameters: {'topK': 378, 'alpha': 0.3660395183528469, 'beta': 1.3194053102170358}. Best is trial 21 with value: 0.031214305960478587.\n"
     ]
    },
    {
     "name": "stdout",
     "output_type": "stream",
     "text": [
      "RP3betaRecommender: Similarity column 38121 (100.0%), 3836.76 column/sec. Elapsed time 9.94 sec\n",
      "EvaluatorHoldout: Processed 35280 (100.0%) in 11.69 sec. Users per second: 3017\n"
     ]
    },
    {
     "name": "stderr",
     "output_type": "stream",
     "text": [
      "[I 2024-12-23 19:57:10,271] Trial 31 finished with value: 0.02972836131807121 and parameters: {'topK': 67, 'alpha': 0.1417854368936176, 'beta': 0.16525190645924037}. Best is trial 21 with value: 0.031214305960478587.\n"
     ]
    },
    {
     "name": "stdout",
     "output_type": "stream",
     "text": [
      "RP3betaRecommender: Similarity column 38121 (100.0%), 4080.63 column/sec. Elapsed time 9.34 sec\n",
      "EvaluatorHoldout: Processed 35280 (100.0%) in 10.89 sec. Users per second: 3239\n"
     ]
    },
    {
     "name": "stderr",
     "output_type": "stream",
     "text": [
      "[I 2024-12-23 19:57:30,967] Trial 32 finished with value: 0.03123767231760331 and parameters: {'topK': 12, 'alpha': 0.16732161154009698, 'beta': 0.10345862561104432}. Best is trial 32 with value: 0.03123767231760331.\n"
     ]
    },
    {
     "name": "stdout",
     "output_type": "stream",
     "text": [
      "RP3betaRecommender: Similarity column 38121 (100.0%), 4440.97 column/sec. Elapsed time 8.58 sec\n",
      "EvaluatorHoldout: Processed 35280 (100.0%) in 10.67 sec. Users per second: 3306\n"
     ]
    },
    {
     "name": "stderr",
     "output_type": "stream",
     "text": [
      "[I 2024-12-23 19:57:50,606] Trial 33 finished with value: 0.028487347253715475 and parameters: {'topK': 5, 'alpha': 0.2625432032807326, 'beta': 0.31887390486587586}. Best is trial 32 with value: 0.03123767231760331.\n"
     ]
    },
    {
     "name": "stdout",
     "output_type": "stream",
     "text": [
      "RP3betaRecommender: Similarity column 38121 (100.0%), 2357.89 column/sec. Elapsed time 16.17 sec\n",
      "EvaluatorHoldout: Processed 35280 (100.0%) in 15.61 sec. Users per second: 2260\n"
     ]
    },
    {
     "name": "stderr",
     "output_type": "stream",
     "text": [
      "[I 2024-12-23 19:58:27,832] Trial 34 finished with value: 0.022372619947449372 and parameters: {'topK': 256, 'alpha': 1.945601984263889, 'beta': 0.010798005856478249}. Best is trial 32 with value: 0.03123767231760331.\n"
     ]
    },
    {
     "name": "stdout",
     "output_type": "stream",
     "text": [
      "RP3betaRecommender: Similarity column 38121 (100.0%), 3331.67 column/sec. Elapsed time 11.44 sec\n",
      "EvaluatorHoldout: Processed 35280 (100.0%) in 13.08 sec. Users per second: 2697\n"
     ]
    },
    {
     "name": "stderr",
     "output_type": "stream",
     "text": [
      "[I 2024-12-23 19:58:54,815] Trial 35 finished with value: 0.028088412878377968 and parameters: {'topK': 99, 'alpha': 0.1717559156547722, 'beta': 0.46146478328600266}. Best is trial 32 with value: 0.03123767231760331.\n"
     ]
    },
    {
     "name": "stdout",
     "output_type": "stream",
     "text": [
      "RP3betaRecommender: Similarity column 38121 (100.0%), 2785.87 column/sec. Elapsed time 13.68 sec\n",
      "EvaluatorHoldout: Processed 35280 (100.0%) in 13.87 sec. Users per second: 2543\n"
     ]
    },
    {
     "name": "stderr",
     "output_type": "stream",
     "text": [
      "[I 2024-12-23 19:59:26,169] Trial 36 finished with value: 0.027570429759204543 and parameters: {'topK': 181, 'alpha': 0.430755394975839, 'beta': 0.08550214234540927}. Best is trial 32 with value: 0.03123767231760331.\n"
     ]
    },
    {
     "name": "stdout",
     "output_type": "stream",
     "text": [
      "RP3betaRecommender: Similarity column 38121 (100.0%), 2415.14 column/sec. Elapsed time 15.78 sec\n",
      "EvaluatorHoldout: Processed 35280 (100.0%) in 15.99 sec. Users per second: 2206\n"
     ]
    },
    {
     "name": "stderr",
     "output_type": "stream",
     "text": [
      "[I 2024-12-23 20:00:03,616] Trial 37 finished with value: 0.021080999397112922 and parameters: {'topK': 262, 'alpha': 0.09859698901470623, 'beta': 0.6964663726398885}. Best is trial 32 with value: 0.03123767231760331.\n"
     ]
    },
    {
     "name": "stdout",
     "output_type": "stream",
     "text": [
      "RP3betaRecommender: Similarity column 38121 (100.0%), 1533.86 column/sec. Elapsed time 24.85 sec\n",
      "EvaluatorHoldout: Processed 35280 (100.0%) in 19.65 sec. Users per second: 1796\n"
     ]
    },
    {
     "name": "stderr",
     "output_type": "stream",
     "text": [
      "[I 2024-12-23 20:01:00,374] Trial 38 finished with value: 0.027170517942626028 and parameters: {'topK': 558, 'alpha': 0.5465188688272735, 'beta': 0.2575994811464424}. Best is trial 32 with value: 0.03123767231760331.\n"
     ]
    },
    {
     "name": "stdout",
     "output_type": "stream",
     "text": [
      "RP3betaRecommender: Similarity column 38121 (100.0%), 3003.01 column/sec. Elapsed time 12.69 sec\n",
      "EvaluatorHoldout: Processed 35280 (100.0%) in 13.88 sec. Users per second: 2542\n"
     ]
    },
    {
     "name": "stderr",
     "output_type": "stream",
     "text": [
      "[I 2024-12-23 20:01:30,270] Trial 39 finished with value: 0.028209800057588368 and parameters: {'topK': 148, 'alpha': 0.7228583637367103, 'beta': 0.1546115005650621}. Best is trial 32 with value: 0.03123767231760331.\n"
     ]
    },
    {
     "name": "stdout",
     "output_type": "stream",
     "text": [
      "RP3betaRecommender: Similarity column 38121 (100.0%), 2113.85 column/sec. Elapsed time 18.03 sec\n",
      "EvaluatorHoldout: Processed 35280 (100.0%) in 16.77 sec. Users per second: 2104\n"
     ]
    },
    {
     "name": "stderr",
     "output_type": "stream",
     "text": [
      "[I 2024-12-23 20:02:13,092] Trial 40 finished with value: 0.02783090379008663 and parameters: {'topK': 335, 'alpha': 0.32138401432924746, 'beta': 0.28081882432184013}. Best is trial 32 with value: 0.03123767231760331.\n"
     ]
    },
    {
     "name": "stdout",
     "output_type": "stream",
     "text": [
      "RP3betaRecommender: Similarity column 38121 (100.0%), 3703.54 column/sec. Elapsed time 10.29 sec\n",
      "EvaluatorHoldout: Processed 35280 (100.0%) in 11.81 sec. Users per second: 2988\n"
     ]
    },
    {
     "name": "stderr",
     "output_type": "stream",
     "text": [
      "[I 2024-12-23 20:02:36,565] Trial 41 finished with value: 0.029563983596083056 and parameters: {'topK': 60, 'alpha': 0.05889763180250217, 'beta': 0.11473336748295039}. Best is trial 32 with value: 0.03123767231760331.\n"
     ]
    },
    {
     "name": "stdout",
     "output_type": "stream",
     "text": [
      "RP3betaRecommender: Similarity column 38121 (100.0%), 3992.85 column/sec. Elapsed time 9.55 sec\n",
      "EvaluatorHoldout: Processed 35280 (100.0%) in 11.32 sec. Users per second: 3117\n"
     ]
    },
    {
     "name": "stderr",
     "output_type": "stream",
     "text": [
      "[I 2024-12-23 20:02:58,349] Trial 42 finished with value: 0.029976139860705225 and parameters: {'topK': 37, 'alpha': 0.00040943075169480245, 'beta': 0.07581101787098637}. Best is trial 32 with value: 0.03123767231760331.\n"
     ]
    },
    {
     "name": "stdout",
     "output_type": "stream",
     "text": [
      "RP3betaRecommender: Similarity column 38121 (100.0%), 1223.14 column/sec. Elapsed time 31.17 sec\n",
      "EvaluatorHoldout: Processed 35280 (100.0%) in 21.25 sec. Users per second: 1661\n"
     ]
    },
    {
     "name": "stderr",
     "output_type": "stream",
     "text": [
      "[I 2024-12-23 20:04:07,774] Trial 43 finished with value: 0.02331628716301265 and parameters: {'topK': 828, 'alpha': 0.18504180745270316, 'beta': 0.07403588018619969}. Best is trial 32 with value: 0.03123767231760331.\n"
     ]
    },
    {
     "name": "stdout",
     "output_type": "stream",
     "text": [
      "RP3betaRecommender: Similarity column 38121 (100.0%), 3229.04 column/sec. Elapsed time 11.81 sec\n",
      "EvaluatorHoldout: Processed 35280 (100.0%) in 12.38 sec. Users per second: 2849\n"
     ]
    },
    {
     "name": "stderr",
     "output_type": "stream",
     "text": [
      "[I 2024-12-23 20:04:34,132] Trial 44 finished with value: 0.027960826989525244 and parameters: {'topK': 103, 'alpha': 0.006143134790516255, 'beta': 0.003905342532301792}. Best is trial 32 with value: 0.03123767231760331.\n"
     ]
    },
    {
     "name": "stdout",
     "output_type": "stream",
     "text": [
      "RP3betaRecommender: Similarity column 38121 (100.0%), 4270.77 column/sec. Elapsed time 8.93 sec\n",
      "EvaluatorHoldout: Processed 35280 (100.0%) in 11.55 sec. Users per second: 3055\n"
     ]
    },
    {
     "name": "stderr",
     "output_type": "stream",
     "text": [
      "[I 2024-12-23 20:04:55,594] Trial 45 finished with value: 0.029829173865312534 and parameters: {'topK': 32, 'alpha': 0.2204959365331578, 'beta': 0.4384419967465911}. Best is trial 32 with value: 0.03123767231760331.\n"
     ]
    },
    {
     "name": "stdout",
     "output_type": "stream",
     "text": [
      "RP3betaRecommender: Similarity column 38121 (100.0%), 4401.17 column/sec. Elapsed time 8.66 sec\n",
      "EvaluatorHoldout: Processed 35280 (100.0%) in 10.61 sec. Users per second: 3324\n"
     ]
    },
    {
     "name": "stderr",
     "output_type": "stream",
     "text": [
      "[I 2024-12-23 20:05:15,250] Trial 46 finished with value: 0.02199365731742407 and parameters: {'topK': 6, 'alpha': 0.09394556248723483, 'beta': 0.8191563996544174}. Best is trial 32 with value: 0.03123767231760331.\n"
     ]
    },
    {
     "name": "stdout",
     "output_type": "stream",
     "text": [
      "RP3betaRecommender: Similarity column 38121 (100.0%), 3513.06 column/sec. Elapsed time 10.85 sec\n",
      "EvaluatorHoldout: Processed 35280 (100.0%) in 11.92 sec. Users per second: 2959\n"
     ]
    },
    {
     "name": "stderr",
     "output_type": "stream",
     "text": [
      "[I 2024-12-23 20:05:39,452] Trial 47 finished with value: 0.030261400856638077 and parameters: {'topK': 62, 'alpha': 0.314943064432163, 'beta': 0.1369076470857239}. Best is trial 32 with value: 0.03123767231760331.\n"
     ]
    },
    {
     "name": "stdout",
     "output_type": "stream",
     "text": [
      "RP3betaRecommender: Similarity column 38121 (100.0%), 2507.57 column/sec. Elapsed time 15.20 sec\n",
      "EvaluatorHoldout: Processed 35280 (100.0%) in 14.60 sec. Users per second: 2416\n"
     ]
    },
    {
     "name": "stderr",
     "output_type": "stream",
     "text": [
      "[I 2024-12-23 20:06:13,754] Trial 48 finished with value: 0.011180215869416752 and parameters: {'topK': 227, 'alpha': 0.3281308358457684, 'beta': 1.2223790678276192}. Best is trial 32 with value: 0.03123767231760331.\n"
     ]
    },
    {
     "name": "stdout",
     "output_type": "stream",
     "text": [
      "RP3betaRecommender: Similarity column 38121 (100.0%), 3025.19 column/sec. Elapsed time 12.60 sec\n",
      "EvaluatorHoldout: Processed 35280 (100.0%) in 14.04 sec. Users per second: 2513\n"
     ]
    },
    {
     "name": "stderr",
     "output_type": "stream",
     "text": [
      "[I 2024-12-23 20:06:44,107] Trial 49 finished with value: 0.02905153218694785 and parameters: {'topK': 151, 'alpha': 0.49661190655301524, 'beta': 0.3250110337781881}. Best is trial 32 with value: 0.03123767231760331.\n"
     ]
    },
    {
     "name": "stdout",
     "output_type": "stream",
     "text": [
      "RP3betaRecommender: Similarity column 38121 (100.0%), 3411.38 column/sec. Elapsed time 11.17 sec\n",
      "EvaluatorHoldout: Processed 35280 (100.0%) in 13.00 sec. Users per second: 2714\n"
     ]
    },
    {
     "name": "stderr",
     "output_type": "stream",
     "text": [
      "[I 2024-12-23 20:07:10,665] Trial 50 finished with value: 0.026727464861605373 and parameters: {'topK': 105, 'alpha': 1.3118490877482372, 'beta': 0.14910399775350922}. Best is trial 32 with value: 0.03123767231760331.\n"
     ]
    },
    {
     "name": "stdout",
     "output_type": "stream",
     "text": [
      "RP3betaRecommender: Similarity column 38121 (100.0%), 4050.57 column/sec. Elapsed time 9.41 sec\n",
      "EvaluatorHoldout: Processed 35280 (100.0%) in 11.60 sec. Users per second: 3040\n"
     ]
    },
    {
     "name": "stderr",
     "output_type": "stream",
     "text": [
      "[I 2024-12-23 20:07:32,964] Trial 51 finished with value: 0.029844403502140716 and parameters: {'topK': 57, 'alpha': 0.14734579805183592, 'beta': 0.09470451650322043}. Best is trial 32 with value: 0.03123767231760331.\n"
     ]
    },
    {
     "name": "stdout",
     "output_type": "stream",
     "text": [
      "RP3betaRecommender: Similarity column 38121 (100.0%), 3872.43 column/sec. Elapsed time 9.84 sec\n",
      "EvaluatorHoldout: Processed 35280 (100.0%) in 10.75 sec. Users per second: 3283\n"
     ]
    },
    {
     "name": "stderr",
     "output_type": "stream",
     "text": [
      "[I 2024-12-23 20:07:54,277] Trial 52 finished with value: 0.007014326431630878 and parameters: {'topK': 45, 'alpha': 0.08124333230843242, 'beta': 1.9294649993820265}. Best is trial 32 with value: 0.03123767231760331.\n"
     ]
    },
    {
     "name": "stdout",
     "output_type": "stream",
     "text": [
      "RP3betaRecommender: Similarity column 38121 (100.0%), 3336.79 column/sec. Elapsed time 11.42 sec\n",
      "EvaluatorHoldout: Processed 35280 (100.0%) in 12.20 sec. Users per second: 2891\n"
     ]
    },
    {
     "name": "stderr",
     "output_type": "stream",
     "text": [
      "[I 2024-12-23 20:08:19,743] Trial 53 finished with value: 0.029969133552891068 and parameters: {'topK': 76, 'alpha': 0.31104661046039944, 'beta': 0.20789418537465648}. Best is trial 32 with value: 0.03123767231760331.\n"
     ]
    },
    {
     "name": "stdout",
     "output_type": "stream",
     "text": [
      "RP3betaRecommender: Similarity column 38121 (100.0%), 2968.45 column/sec. Elapsed time 12.84 sec\n",
      "EvaluatorHoldout: Processed 35280 (100.0%) in 13.28 sec. Users per second: 2657\n"
     ]
    },
    {
     "name": "stderr",
     "output_type": "stream",
     "text": [
      "[I 2024-12-23 20:08:49,235] Trial 54 finished with value: 0.027704531548068043 and parameters: {'topK': 164, 'alpha': 0.22529130177643975, 'beta': 0.07500291701644078}. Best is trial 32 with value: 0.03123767231760331.\n"
     ]
    },
    {
     "name": "stdout",
     "output_type": "stream",
     "text": [
      "RP3betaRecommender: Similarity column 38121 (100.0%), 3226.27 column/sec. Elapsed time 11.82 sec\n",
      "EvaluatorHoldout: Processed 35280 (100.0%) in 13.32 sec. Users per second: 2649\n"
     ]
    },
    {
     "name": "stderr",
     "output_type": "stream",
     "text": [
      "[I 2024-12-23 20:09:17,315] Trial 55 finished with value: 0.02930315075765659 and parameters: {'topK': 120, 'alpha': 0.40375175256017637, 'beta': 0.25078046608135285}. Best is trial 32 with value: 0.03123767231760331.\n"
     ]
    },
    {
     "name": "stdout",
     "output_type": "stream",
     "text": [
      "RP3betaRecommender: Similarity column 38121 (100.0%), 3697.30 column/sec. Elapsed time 10.31 sec\n",
      "EvaluatorHoldout: Processed 35280 (100.0%) in 11.44 sec. Users per second: 3085\n"
     ]
    },
    {
     "name": "stderr",
     "output_type": "stream",
     "text": [
      "[I 2024-12-23 20:09:39,928] Trial 56 finished with value: 0.030318927041715318 and parameters: {'topK': 26, 'alpha': 0.5676840031296516, 'beta': 0.392681916262157}. Best is trial 32 with value: 0.03123767231760331.\n"
     ]
    },
    {
     "name": "stdout",
     "output_type": "stream",
     "text": [
      "RP3betaRecommender: Similarity column 38121 (100.0%), 4113.24 column/sec. Elapsed time 9.27 sec\n",
      "EvaluatorHoldout: Processed 35280 (100.0%) in 10.44 sec. Users per second: 3380\n"
     ]
    },
    {
     "name": "stderr",
     "output_type": "stream",
     "text": [
      "[I 2024-12-23 20:10:00,145] Trial 57 finished with value: 0.030178640040671393 and parameters: {'topK': 11, 'alpha': 0.5386944569657178, 'beta': 0.3891365586046197}. Best is trial 32 with value: 0.03123767231760331.\n"
     ]
    },
    {
     "name": "stdout",
     "output_type": "stream",
     "text": [
      "RP3betaRecommender: Similarity column 38121 (100.0%), 3570.07 column/sec. Elapsed time 10.68 sec\n",
      "EvaluatorHoldout: Processed 35280 (100.0%) in 12.86 sec. Users per second: 2744\n"
     ]
    },
    {
     "name": "stderr",
     "output_type": "stream",
     "text": [
      "[I 2024-12-23 20:10:26,059] Trial 58 finished with value: 0.02783595858978429 and parameters: {'topK': 94, 'alpha': 0.7838616205731966, 'beta': 0.4709598141413116}. Best is trial 32 with value: 0.03123767231760331.\n"
     ]
    },
    {
     "name": "stdout",
     "output_type": "stream",
     "text": [
      "RP3betaRecommender: Similarity column 38121 (100.0%), 3056.81 column/sec. Elapsed time 12.47 sec\n",
      "EvaluatorHoldout: Processed 35280 (100.0%) in 13.48 sec. Users per second: 2617\n"
     ]
    },
    {
     "name": "stderr",
     "output_type": "stream",
     "text": [
      "[I 2024-12-23 20:10:55,187] Trial 59 finished with value: 0.028844368633696 and parameters: {'topK': 134, 'alpha': 0.6813946000714696, 'beta': 0.3128580234742841}. Best is trial 32 with value: 0.03123767231760331.\n"
     ]
    },
    {
     "name": "stdout",
     "output_type": "stream",
     "text": [
      "RP3betaRecommender: Similarity column 38121 (100.0%), 1866.90 column/sec. Elapsed time 20.42 sec\n",
      "EvaluatorHoldout: Processed 35280 (100.0%) in 18.83 sec. Users per second: 1874\n"
     ]
    },
    {
     "name": "stderr",
     "output_type": "stream",
     "text": [
      "[I 2024-12-23 20:11:45,322] Trial 60 finished with value: 0.02554034279055476 and parameters: {'topK': 448, 'alpha': 0.5856015717737818, 'beta': 0.6099659235557227}. Best is trial 32 with value: 0.03123767231760331.\n"
     ]
    },
    {
     "name": "stdout",
     "output_type": "stream",
     "text": [
      "RP3betaRecommender: Similarity column 38121 (100.0%), 3676.00 column/sec. Elapsed time 10.37 sec\n",
      "EvaluatorHoldout: Processed 35280 (100.0%) in 11.28 sec. Users per second: 3127\n"
     ]
    },
    {
     "name": "stderr",
     "output_type": "stream",
     "text": [
      "[I 2024-12-23 20:12:08,059] Trial 61 finished with value: 0.030371111606017204 and parameters: {'topK': 37, 'alpha': 0.5044791799684809, 'beta': 0.37266270333930074}. Best is trial 32 with value: 0.03123767231760331.\n"
     ]
    },
    {
     "name": "stdout",
     "output_type": "stream",
     "text": [
      "RP3betaRecommender: Similarity column 38121 (100.0%), 4199.95 column/sec. Elapsed time 9.08 sec\n",
      "EvaluatorHoldout: Processed 35280 (100.0%) in 10.92 sec. Users per second: 3231\n"
     ]
    },
    {
     "name": "stderr",
     "output_type": "stream",
     "text": [
      "[I 2024-12-23 20:12:28,959] Trial 62 finished with value: 0.031203838678327437 and parameters: {'topK': 31, 'alpha': 0.40957219372087156, 'beta': 0.19257088795483865}. Best is trial 32 with value: 0.03123767231760331.\n"
     ]
    },
    {
     "name": "stdout",
     "output_type": "stream",
     "text": [
      "RP3betaRecommender: Similarity column 38121 (100.0%), 4063.53 column/sec. Elapsed time 9.38 sec\n",
      "EvaluatorHoldout: Processed 35280 (100.0%) in 11.18 sec. Users per second: 3155\n"
     ]
    },
    {
     "name": "stderr",
     "output_type": "stream",
     "text": [
      "[I 2024-12-23 20:12:50,532] Trial 63 finished with value: 0.030943003590324057 and parameters: {'topK': 38, 'alpha': 0.44219477980810956, 'beta': 0.21219427434719804}. Best is trial 32 with value: 0.03123767231760331.\n"
     ]
    },
    {
     "name": "stdout",
     "output_type": "stream",
     "text": [
      "RP3betaRecommender: Similarity column 38121 (100.0%), 4007.38 column/sec. Elapsed time 9.51 sec\n",
      "EvaluatorHoldout: Processed 35280 (100.0%) in 11.35 sec. Users per second: 3109\n"
     ]
    },
    {
     "name": "stderr",
     "output_type": "stream",
     "text": [
      "[I 2024-12-23 20:13:12,588] Trial 64 finished with value: 0.03076246040744247 and parameters: {'topK': 47, 'alpha': 0.4197735220688668, 'beta': 0.20583367426533403}. Best is trial 32 with value: 0.03123767231760331.\n"
     ]
    },
    {
     "name": "stdout",
     "output_type": "stream",
     "text": [
      "RP3betaRecommender: Similarity column 38121 (100.0%), 3438.59 column/sec. Elapsed time 11.09 sec\n",
      "EvaluatorHoldout: Processed 35280 (100.0%) in 12.16 sec. Users per second: 2901\n"
     ]
    },
    {
     "name": "stderr",
     "output_type": "stream",
     "text": [
      "[I 2024-12-23 20:13:37,870] Trial 65 finished with value: 0.029759084917034745 and parameters: {'topK': 90, 'alpha': 0.3882404172951297, 'beta': 0.1822175955379343}. Best is trial 32 with value: 0.03123767231760331.\n"
     ]
    },
    {
     "name": "stdout",
     "output_type": "stream",
     "text": [
      "RP3betaRecommender: Similarity column 38121 (100.0%), 2732.62 column/sec. Elapsed time 13.95 sec\n",
      "EvaluatorHoldout: Processed 35280 (100.0%) in 14.11 sec. Users per second: 2501\n"
     ]
    },
    {
     "name": "stderr",
     "output_type": "stream",
     "text": [
      "[I 2024-12-23 20:14:10,139] Trial 66 finished with value: 0.02840429511751715 and parameters: {'topK': 191, 'alpha': 0.4655032801740654, 'beta': 0.223700394763601}. Best is trial 32 with value: 0.03123767231760331.\n"
     ]
    },
    {
     "name": "stdout",
     "output_type": "stream",
     "text": [
      "RP3betaRecommender: Similarity column 38121 (100.0%), 2490.53 column/sec. Elapsed time 15.31 sec\n",
      "EvaluatorHoldout: Processed 35280 (100.0%) in 14.10 sec. Users per second: 2502\n"
     ]
    },
    {
     "name": "stderr",
     "output_type": "stream",
     "text": [
      "[I 2024-12-23 20:14:44,011] Trial 67 finished with value: 0.026579068135189798 and parameters: {'topK': 226, 'alpha': 0.6373461741319815, 'beta': 0.05498023876536343}. Best is trial 32 with value: 0.03123767231760331.\n"
     ]
    },
    {
     "name": "stdout",
     "output_type": "stream",
     "text": [
      "RP3betaRecommender: Similarity column 38121 (100.0%), 1415.96 column/sec. Elapsed time 26.92 sec\n",
      "EvaluatorHoldout: Processed 35280 (100.0%) in 21.08 sec. Users per second: 1674\n"
     ]
    },
    {
     "name": "stderr",
     "output_type": "stream",
     "text": [
      "[I 2024-12-23 20:15:47,135] Trial 68 finished with value: 0.02660321846992689 and parameters: {'topK': 741, 'alpha': 0.9732974015475285, 'beta': 0.29220283959207777}. Best is trial 32 with value: 0.03123767231760331.\n"
     ]
    },
    {
     "name": "stdout",
     "output_type": "stream",
     "text": [
      "RP3betaRecommender: Similarity column 38121 (100.0%), 4150.95 column/sec. Elapsed time 9.18 sec\n",
      "EvaluatorHoldout: Processed 35280 (100.0%) in 10.22 sec. Users per second: 3452\n"
     ]
    },
    {
     "name": "stderr",
     "output_type": "stream",
     "text": [
      "[I 2024-12-23 20:16:06,923] Trial 69 finished with value: 0.029634976874346887 and parameters: {'topK': 6, 'alpha': 0.18630090795256873, 'beta': 0.18885901249153572}. Best is trial 32 with value: 0.03123767231760331.\n"
     ]
    },
    {
     "name": "stdout",
     "output_type": "stream",
     "text": [
      "RP3betaRecommender: Similarity column 38121 (100.0%), 3088.10 column/sec. Elapsed time 12.34 sec\n",
      "EvaluatorHoldout: Processed 35280 (100.0%) in 12.18 sec. Users per second: 2897\n"
     ]
    },
    {
     "name": "stderr",
     "output_type": "stream",
     "text": [
      "[I 2024-12-23 20:16:33,781] Trial 70 finished with value: 0.02793138564949704 and parameters: {'topK': 127, 'alpha': 0.2729789973220863, 'beta': 0.002397405345334707}. Best is trial 32 with value: 0.03123767231760331.\n"
     ]
    },
    {
     "name": "stdout",
     "output_type": "stream",
     "text": [
      "RP3betaRecommender: Similarity column 38121 (100.0%), 4016.78 column/sec. Elapsed time 9.49 sec\n",
      "EvaluatorHoldout: Processed 35280 (100.0%) in 11.58 sec. Users per second: 3047\n"
     ]
    },
    {
     "name": "stderr",
     "output_type": "stream",
     "text": [
      "[I 2024-12-23 20:16:56,154] Trial 71 finished with value: 0.030108659072093476 and parameters: {'topK': 48, 'alpha': 0.4427573293377269, 'beta': 0.34869563610569787}. Best is trial 32 with value: 0.03123767231760331.\n"
     ]
    },
    {
     "name": "stdout",
     "output_type": "stream",
     "text": [
      "RP3betaRecommender: Similarity column 38121 (100.0%), 3459.63 column/sec. Elapsed time 11.02 sec\n",
      "EvaluatorHoldout: Processed 35280 (100.0%) in 12.19 sec. Users per second: 2895\n"
     ]
    },
    {
     "name": "stderr",
     "output_type": "stream",
     "text": [
      "[I 2024-12-23 20:17:21,248] Trial 72 finished with value: 0.028462700887232312 and parameters: {'topK': 72, 'alpha': 0.38600830891724525, 'beta': 0.4870529208533677}. Best is trial 32 with value: 0.03123767231760331.\n"
     ]
    },
    {
     "name": "stdout",
     "output_type": "stream",
     "text": [
      "RP3betaRecommender: Similarity column 38121 (100.0%), 3945.25 column/sec. Elapsed time 9.66 sec\n",
      "EvaluatorHoldout: Processed 35280 (100.0%) in 11.24 sec. Users per second: 3140\n"
     ]
    },
    {
     "name": "stderr",
     "output_type": "stream",
     "text": [
      "[I 2024-12-23 20:17:43,261] Trial 73 finished with value: 0.030805095517041955 and parameters: {'topK': 40, 'alpha': 0.5248217531082078, 'beta': 0.2638417216106468}. Best is trial 32 with value: 0.03123767231760331.\n"
     ]
    },
    {
     "name": "stdout",
     "output_type": "stream",
     "text": [
      "RP3betaRecommender: Similarity column 38121 (100.0%), 3162.25 column/sec. Elapsed time 12.06 sec\n",
      "EvaluatorHoldout: Processed 35280 (100.0%) in 11.92 sec. Users per second: 2960\n"
     ]
    },
    {
     "name": "stderr",
     "output_type": "stream",
     "text": [
      "[I 2024-12-23 20:18:09,133] Trial 74 finished with value: 0.02894950599287232 and parameters: {'topK': 88, 'alpha': 0.10863957717921952, 'beta': 0.1294318615867992}. Best is trial 32 with value: 0.03123767231760331.\n"
     ]
    },
    {
     "name": "stdout",
     "output_type": "stream",
     "text": [
      "RP3betaRecommender: Similarity column 38121 (100.0%), 3380.90 column/sec. Elapsed time 11.28 sec\n",
      "EvaluatorHoldout: Processed 35280 (100.0%) in 11.09 sec. Users per second: 3182\n"
     ]
    },
    {
     "name": "stderr",
     "output_type": "stream",
     "text": [
      "[I 2024-12-23 20:18:32,441] Trial 75 finished with value: 0.02566512683115522 and parameters: {'topK': 34, 'alpha': 1.7004182130968835, 'beta': 0.18989791230102687}. Best is trial 32 with value: 0.03123767231760331.\n"
     ]
    },
    {
     "name": "stdout",
     "output_type": "stream",
     "text": [
      "RP3betaRecommender: Similarity column 38121 (100.0%), 3224.66 column/sec. Elapsed time 11.82 sec\n",
      "EvaluatorHoldout: Processed 35280 (100.0%) in 12.88 sec. Users per second: 2739\n"
     ]
    },
    {
     "name": "stderr",
     "output_type": "stream",
     "text": [
      "[I 2024-12-23 20:18:59,953] Trial 76 finished with value: 0.02916969684699178 and parameters: {'topK': 118, 'alpha': 0.2803013000696049, 'beta': 0.2731921804339701}. Best is trial 32 with value: 0.03123767231760331.\n"
     ]
    },
    {
     "name": "stdout",
     "output_type": "stream",
     "text": [
      "RP3betaRecommender: Similarity column 38121 (100.0%), 2922.73 column/sec. Elapsed time 13.04 sec\n",
      "EvaluatorHoldout: Processed 35280 (100.0%) in 13.23 sec. Users per second: 2666\n"
     ]
    },
    {
     "name": "stderr",
     "output_type": "stream",
     "text": [
      "[I 2024-12-23 20:19:29,578] Trial 77 finished with value: 0.027582968901845736 and parameters: {'topK': 166, 'alpha': 0.6341492020577006, 'beta': 0.06669209147421212}. Best is trial 32 with value: 0.03123767231760331.\n"
     ]
    },
    {
     "name": "stdout",
     "output_type": "stream",
     "text": [
      "RP3betaRecommender: Similarity column 38121 (100.0%), 3311.57 column/sec. Elapsed time 11.51 sec\n",
      "EvaluatorHoldout: Processed 35280 (100.0%) in 10.97 sec. Users per second: 3217\n"
     ]
    },
    {
     "name": "stderr",
     "output_type": "stream",
     "text": [
      "[I 2024-12-23 20:19:52,969] Trial 78 finished with value: 0.008853558156066772 and parameters: {'topK': 56, 'alpha': 0.2085164422988425, 'beta': 1.630479292974146}. Best is trial 32 with value: 0.03123767231760331.\n"
     ]
    },
    {
     "name": "stdout",
     "output_type": "stream",
     "text": [
      "RP3betaRecommender: Similarity column 38121 (100.0%), 1621.76 column/sec. Elapsed time 23.51 sec\n",
      "EvaluatorHoldout: Processed 35280 (100.0%) in 18.42 sec. Users per second: 1915\n"
     ]
    },
    {
     "name": "stderr",
     "output_type": "stream",
     "text": [
      "[I 2024-12-23 20:20:46,100] Trial 79 finished with value: 0.027013689801316524 and parameters: {'topK': 532, 'alpha': 0.7731878351852333, 'beta': 0.24938593480662916}. Best is trial 32 with value: 0.03123767231760331.\n"
     ]
    },
    {
     "name": "stdout",
     "output_type": "stream",
     "text": [
      "RP3betaRecommender: Similarity column 38121 (100.0%), 3423.87 column/sec. Elapsed time 11.13 sec\n",
      "EvaluatorHoldout: Processed 35280 (100.0%) in 9.67 sec. Users per second: 3649\n"
     ]
    },
    {
     "name": "stderr",
     "output_type": "stream",
     "text": [
      "[I 2024-12-23 20:21:07,295] Trial 80 finished with value: 0.03011080629341608 and parameters: {'topK': 7, 'alpha': 0.3561001560652446, 'beta': 0.13365783037653747}. Best is trial 32 with value: 0.03123767231760331.\n"
     ]
    },
    {
     "name": "stdout",
     "output_type": "stream",
     "text": [
      "RP3betaRecommender: Similarity column 38121 (100.0%), 3387.81 column/sec. Elapsed time 11.25 sec\n",
      "EvaluatorHoldout: Processed 35280 (100.0%) in 11.06 sec. Users per second: 3190\n"
     ]
    },
    {
     "name": "stderr",
     "output_type": "stream",
     "text": [
      "[I 2024-12-23 20:21:30,645] Trial 81 finished with value: 0.0306083407569367 and parameters: {'topK': 34, 'alpha': 0.49107302762716626, 'beta': 0.33835793043729284}. Best is trial 32 with value: 0.03123767231760331.\n"
     ]
    },
    {
     "name": "stdout",
     "output_type": "stream",
     "text": [
      "RP3betaRecommender: Similarity column 38121 (100.0%), 4112.31 column/sec. Elapsed time 9.27 sec\n",
      "EvaluatorHoldout: Processed 35280 (100.0%) in 11.15 sec. Users per second: 3163\n"
     ]
    },
    {
     "name": "stderr",
     "output_type": "stream",
     "text": [
      "[I 2024-12-23 20:21:52,039] Trial 82 finished with value: 0.028797403088218532 and parameters: {'topK': 33, 'alpha': 0.4202614788716668, 'beta': 0.515137512910275}. Best is trial 32 with value: 0.03123767231760331.\n"
     ]
    },
    {
     "name": "stdout",
     "output_type": "stream",
     "text": [
      "RP3betaRecommender: Similarity column 38121 (100.0%), 3506.83 column/sec. Elapsed time 10.87 sec\n",
      "EvaluatorHoldout: Processed 35280 (100.0%) in 12.28 sec. Users per second: 2873\n"
     ]
    },
    {
     "name": "stderr",
     "output_type": "stream",
     "text": [
      "[I 2024-12-23 20:22:17,281] Trial 83 finished with value: 0.029143228323074435 and parameters: {'topK': 81, 'alpha': 0.5283970724341066, 'beta': 0.42064440265198444}. Best is trial 32 with value: 0.03123767231760331.\n"
     ]
    },
    {
     "name": "stdout",
     "output_type": "stream",
     "text": [
      "RP3betaRecommender: Similarity column 38121 (100.0%), 3746.56 column/sec. Elapsed time 10.17 sec\n",
      "EvaluatorHoldout: Processed 35280 (100.0%) in 11.25 sec. Users per second: 3137\n"
     ]
    },
    {
     "name": "stderr",
     "output_type": "stream",
     "text": [
      "[I 2024-12-23 20:22:39,909] Trial 84 finished with value: 0.029330057949104718 and parameters: {'topK': 56, 'alpha': 0.04934963260448233, 'beta': 0.039240886151531054}. Best is trial 32 with value: 0.03123767231760331.\n"
     ]
    },
    {
     "name": "stdout",
     "output_type": "stream",
     "text": [
      "RP3betaRecommender: Similarity column 38121 (100.0%), 2805.43 column/sec. Elapsed time 13.59 sec\n",
      "EvaluatorHoldout: Processed 35280 (100.0%) in 12.62 sec. Users per second: 2796\n"
     ]
    },
    {
     "name": "stderr",
     "output_type": "stream",
     "text": [
      "[I 2024-12-23 20:23:08,569] Trial 85 finished with value: 0.029537923370405325 and parameters: {'topK': 106, 'alpha': 0.4860273477423356, 'beta': 0.22919665279690138}. Best is trial 32 with value: 0.03123767231760331.\n"
     ]
    },
    {
     "name": "stdout",
     "output_type": "stream",
     "text": [
      "RP3betaRecommender: Similarity column 38121 (100.0%), 3777.78 column/sec. Elapsed time 10.09 sec\n",
      "EvaluatorHoldout: Processed 35280 (100.0%) in 10.78 sec. Users per second: 3274\n"
     ]
    },
    {
     "name": "stderr",
     "output_type": "stream",
     "text": [
      "[I 2024-12-23 20:23:30,166] Trial 86 finished with value: 0.018497470350574075 and parameters: {'topK': 29, 'alpha': 0.13740610585740262, 'beta': 0.9195129117695706}. Best is trial 32 with value: 0.03123767231760331.\n"
     ]
    },
    {
     "name": "stdout",
     "output_type": "stream",
     "text": [
      "RP3betaRecommender: Similarity column 38121 (100.0%), 3068.49 column/sec. Elapsed time 12.42 sec\n",
      "EvaluatorHoldout: Processed 35280 (100.0%) in 13.94 sec. Users per second: 2530\n"
     ]
    },
    {
     "name": "stderr",
     "output_type": "stream",
     "text": [
      "[I 2024-12-23 20:24:00,202] Trial 87 finished with value: 0.026012716859229852 and parameters: {'topK': 145, 'alpha': 0.6072350261659835, 'beta': 0.5894447304091328}. Best is trial 32 with value: 0.03123767231760331.\n"
     ]
    },
    {
     "name": "stdout",
     "output_type": "stream",
     "text": [
      "RP3betaRecommender: Similarity column 38121 (100.0%), 3247.89 column/sec. Elapsed time 11.74 sec\n",
      "EvaluatorHoldout: Processed 35280 (100.0%) in 12.12 sec. Users per second: 2911\n"
     ]
    },
    {
     "name": "stderr",
     "output_type": "stream",
     "text": [
      "[I 2024-12-23 20:24:25,900] Trial 88 finished with value: 0.029590900910627986 and parameters: {'topK': 73, 'alpha': 0.2798943970144438, 'beta': 0.34343495735766755}. Best is trial 32 with value: 0.03123767231760331.\n"
     ]
    },
    {
     "name": "stdout",
     "output_type": "stream",
     "text": [
      "RP3betaRecommender: Similarity column 38121 (100.0%), 4182.65 column/sec. Elapsed time 9.11 sec\n",
      "EvaluatorHoldout: Processed 35280 (100.0%) in 10.75 sec. Users per second: 3282\n"
     ]
    },
    {
     "name": "stderr",
     "output_type": "stream",
     "text": [
      "[I 2024-12-23 20:24:46,488] Trial 89 finished with value: 0.030752039241621683 and parameters: {'topK': 25, 'alpha': 0.7170269434200951, 'beta': 0.10947660291301625}. Best is trial 32 with value: 0.03123767231760331.\n"
     ]
    },
    {
     "name": "stdout",
     "output_type": "stream",
     "text": [
      "RP3betaRecommender: Similarity column 38121 (100.0%), 3188.35 column/sec. Elapsed time 11.96 sec\n",
      "EvaluatorHoldout: Processed 35280 (100.0%) in 12.34 sec. Users per second: 2860\n"
     ]
    },
    {
     "name": "stderr",
     "output_type": "stream",
     "text": [
      "[I 2024-12-23 20:25:13,033] Trial 90 finished with value: 0.028767249757044807 and parameters: {'topK': 103, 'alpha': 0.7106428791336086, 'beta': 0.10511635805611502}. Best is trial 32 with value: 0.03123767231760331.\n"
     ]
    },
    {
     "name": "stdout",
     "output_type": "stream",
     "text": [
      "RP3betaRecommender: Similarity column 38121 (100.0%), 3467.25 column/sec. Elapsed time 10.99 sec\n",
      "EvaluatorHoldout: Processed 35280 (100.0%) in 10.82 sec. Users per second: 3260\n"
     ]
    },
    {
     "name": "stderr",
     "output_type": "stream",
     "text": [
      "[I 2024-12-23 20:25:35,611] Trial 91 finished with value: 0.03125775541698067 and parameters: {'topK': 24, 'alpha': 0.437028703169021, 'beta': 0.2816082517589572}. Best is trial 91 with value: 0.03125775541698067.\n"
     ]
    },
    {
     "name": "stdout",
     "output_type": "stream",
     "text": [
      "RP3betaRecommender: Similarity column 38121 (100.0%), 3463.77 column/sec. Elapsed time 11.01 sec\n",
      "EvaluatorHoldout: Processed 35280 (100.0%) in 10.67 sec. Users per second: 3306\n"
     ]
    },
    {
     "name": "stderr",
     "output_type": "stream",
     "text": [
      "[I 2024-12-23 20:25:57,954] Trial 92 finished with value: 0.030385894701795247 and parameters: {'topK': 20, 'alpha': 0.8525536718453364, 'beta': 0.1820804897348612}. Best is trial 91 with value: 0.03125775541698067.\n"
     ]
    },
    {
     "name": "stdout",
     "output_type": "stream",
     "text": [
      "RP3betaRecommender: Similarity column 38121 (100.0%), 3934.80 column/sec. Elapsed time 9.69 sec\n",
      "EvaluatorHoldout: Processed 35280 (100.0%) in 11.19 sec. Users per second: 3154\n"
     ]
    },
    {
     "name": "stderr",
     "output_type": "stream",
     "text": [
      "[I 2024-12-23 20:26:19,962] Trial 93 finished with value: 0.03002813321095531 and parameters: {'topK': 55, 'alpha': 0.32464217618316715, 'beta': 0.040065661217779075}. Best is trial 91 with value: 0.03125775541698067.\n"
     ]
    },
    {
     "name": "stdout",
     "output_type": "stream",
     "text": [
      "RP3betaRecommender: Similarity column 38121 (100.0%), 3614.07 column/sec. Elapsed time 10.55 sec\n",
      "EvaluatorHoldout: Processed 35280 (100.0%) in 12.35 sec. Users per second: 2856\n"
     ]
    },
    {
     "name": "stderr",
     "output_type": "stream",
     "text": [
      "[I 2024-12-23 20:26:44,900] Trial 94 finished with value: 0.029891202578914124 and parameters: {'topK': 83, 'alpha': 0.43153736954280464, 'beta': 0.28616686726328683}. Best is trial 91 with value: 0.03125775541698067.\n"
     ]
    },
    {
     "name": "stdout",
     "output_type": "stream",
     "text": [
      "RP3betaRecommender: Similarity column 38121 (100.0%), 3463.95 column/sec. Elapsed time 11.01 sec\n",
      "EvaluatorHoldout: Processed 35280 (100.0%) in 10.61 sec. Users per second: 3325\n"
     ]
    },
    {
     "name": "stderr",
     "output_type": "stream",
     "text": [
      "[I 2024-12-23 20:27:07,102] Trial 95 finished with value: 0.031600887908072334 and parameters: {'topK': 18, 'alpha': 0.35836185552301125, 'beta': 0.14541539336200693}. Best is trial 95 with value: 0.031600887908072334.\n"
     ]
    },
    {
     "name": "stdout",
     "output_type": "stream",
     "text": [
      "RP3betaRecommender: Similarity column 38121 (100.0%), 3731.02 column/sec. Elapsed time 10.22 sec\n",
      "EvaluatorHoldout: Processed 35280 (100.0%) in 10.27 sec. Users per second: 3435\n"
     ]
    },
    {
     "name": "stderr",
     "output_type": "stream",
     "text": [
      "[I 2024-12-23 20:27:27,950] Trial 96 finished with value: 0.02863301411834507 and parameters: {'topK': 5, 'alpha': 0.3557697071582699, 'beta': 0.154517592958584}. Best is trial 95 with value: 0.031600887908072334.\n"
     ]
    },
    {
     "name": "stdout",
     "output_type": "stream",
     "text": [
      "RP3betaRecommender: Similarity column 38121 (100.0%), 3761.17 column/sec. Elapsed time 10.14 sec\n",
      "EvaluatorHoldout: Processed 35280 (100.0%) in 11.64 sec. Users per second: 3031\n"
     ]
    },
    {
     "name": "stderr",
     "output_type": "stream",
     "text": [
      "[I 2024-12-23 20:27:51,178] Trial 97 finished with value: 0.03006670220998365 and parameters: {'topK': 62, 'alpha': 0.237358667684739, 'beta': 0.21829969332394913}. Best is trial 95 with value: 0.031600887908072334.\n"
     ]
    },
    {
     "name": "stdout",
     "output_type": "stream",
     "text": [
      "RP3betaRecommender: Similarity column 38121 (100.0%), 4097.63 column/sec. Elapsed time 9.30 sec\n",
      "EvaluatorHoldout: Processed 35280 (100.0%) in 11.34 sec. Users per second: 3110\n"
     ]
    },
    {
     "name": "stderr",
     "output_type": "stream",
     "text": [
      "[I 2024-12-23 20:28:12,947] Trial 98 finished with value: 0.022639081227728786 and parameters: {'topK': 46, 'alpha': 0.04002780576826248, 'beta': 0.7076822601272551}. Best is trial 95 with value: 0.031600887908072334.\n"
     ]
    },
    {
     "name": "stdout",
     "output_type": "stream",
     "text": [
      "RP3betaRecommender: Similarity column 38121 (100.0%), 1199.96 column/sec. Elapsed time 31.77 sec\n",
      "EvaluatorHoldout: Processed 35280 (100.0%) in 21.15 sec. Users per second: 1668\n"
     ]
    },
    {
     "name": "stderr",
     "output_type": "stream",
     "text": [
      "[I 2024-12-23 20:29:23,609] Trial 99 finished with value: 0.02259943130691376 and parameters: {'topK': 925, 'alpha': 0.18667941648392344, 'beta': 0.04184326236692414}. Best is trial 95 with value: 0.031600887908072334.\n"
     ]
    }
   ],
   "source": [
    "import optuna\n",
    "\n",
    "optuna_study = optuna.create_study(study_name=\"rp3_smaller\", direction=\"maximize\")\n",
    "        \n",
    "save_results = SaveResults()\n",
    "        \n",
    "optuna_study.optimize(objective_function,\n",
    "                      callbacks=[save_results],\n",
    "                      n_trials = 100\n",
    "                      )"
   ]
  },
  {
   "cell_type": "code",
   "execution_count": 16,
   "metadata": {},
   "outputs": [
    {
     "name": "stdout",
     "output_type": "stream",
     "text": [
      "Best hyperparameters found: {'topK': 18, 'alpha': 0.35836185552301125, 'beta': 0.14541539336200693}\n"
     ]
    }
   ],
   "source": [
    "# Let's print the best hyperparameters we found\n",
    "print(\"Best hyperparameters found: \" + str(optuna_study.best_params))"
   ]
  },
  {
   "cell_type": "markdown",
   "metadata": {},
   "source": [
    "Let's see if we have better performance than before"
   ]
  },
  {
   "cell_type": "code",
   "execution_count": 17,
   "metadata": {},
   "outputs": [
    {
     "name": "stdout",
     "output_type": "stream",
     "text": [
      "RP3betaRecommender: Similarity column 38121 (100.0%), 4159.90 column/sec. Elapsed time 9.16 sec\n",
      "EvaluatorHoldout: Processed 35595 (100.0%) in 10.73 sec. Users per second: 3317\n",
      "MAP on test: 0.0396921462127938\n"
     ]
    }
   ],
   "source": [
    "# Performance on test\n",
    "recommender = RP3betaRecommender(URM_train)\n",
    "recommender.fit(**optuna_study.best_params)\n",
    "\n",
    "result_dict, _ = evaluator_test.evaluateRecommender(recommender)\n",
    "\n",
    "MAP = result_dict.loc[10][\"MAP\"]\n",
    "\n",
    "print(\"MAP on test: \"+str(MAP))"
   ]
  },
  {
   "cell_type": "markdown",
   "metadata": {},
   "source": [
    "So we had similar results if not worse, let's find our final values but with URM_train_validation"
   ]
  },
  {
   "cell_type": "markdown",
   "metadata": {},
   "source": [
    "# Find final parameters\n",
    "Let's also use k-cross-validatio since easy to compute for this model"
   ]
  },
  {
   "cell_type": "code",
   "execution_count": 18,
   "metadata": {},
   "outputs": [],
   "source": [
    "k_fold = 10\n",
    "seeds = [192760, 1393659, 1269293, 138973, 931308, 1088652, 1361151, 1456105, 820535, 1240839]\n",
    "assert len(seeds) == k_fold"
   ]
  },
  {
   "cell_type": "code",
   "execution_count": 19,
   "metadata": {},
   "outputs": [
    {
     "name": "stdout",
     "output_type": "stream",
     "text": [
      "Warning: 167 (0.47 %) of 35736 users have no sampled items\n",
      "Warning: 425 (1.19 %) of 35736 users have no sampled items\n",
      "EvaluatorHoldout: Ignoring 425 ( 1.2%) Users that have less than 1 test interactions\n",
      "EvaluatorHoldout: Ignoring 167 ( 0.5%) Users that have less than 1 test interactions\n",
      "Warning: 155 (0.43 %) of 35736 users have no sampled items\n",
      "Warning: 447 (1.25 %) of 35736 users have no sampled items\n",
      "EvaluatorHoldout: Ignoring 447 ( 1.3%) Users that have less than 1 test interactions\n",
      "EvaluatorHoldout: Ignoring 155 ( 0.4%) Users that have less than 1 test interactions\n",
      "Warning: 167 (0.47 %) of 35736 users have no sampled items\n",
      "Warning: 441 (1.23 %) of 35736 users have no sampled items\n",
      "EvaluatorHoldout: Ignoring 441 ( 1.2%) Users that have less than 1 test interactions\n",
      "EvaluatorHoldout: Ignoring 167 ( 0.5%) Users that have less than 1 test interactions\n",
      "Warning: 163 (0.46 %) of 35736 users have no sampled items\n",
      "Warning: 467 (1.31 %) of 35736 users have no sampled items\n",
      "EvaluatorHoldout: Ignoring 467 ( 1.3%) Users that have less than 1 test interactions\n",
      "EvaluatorHoldout: Ignoring 163 ( 0.5%) Users that have less than 1 test interactions\n",
      "Warning: 169 (0.47 %) of 35736 users have no sampled items\n",
      "Warning: 425 (1.19 %) of 35736 users have no sampled items\n",
      "EvaluatorHoldout: Ignoring 425 ( 1.2%) Users that have less than 1 test interactions\n",
      "EvaluatorHoldout: Ignoring 169 ( 0.5%) Users that have less than 1 test interactions\n",
      "Warning: 154 (0.43 %) of 35736 users have no sampled items\n",
      "Warning: 413 (1.16 %) of 35736 users have no sampled items\n",
      "EvaluatorHoldout: Ignoring 413 ( 1.2%) Users that have less than 1 test interactions\n",
      "EvaluatorHoldout: Ignoring 154 ( 0.4%) Users that have less than 1 test interactions\n",
      "Warning: 169 (0.47 %) of 35736 users have no sampled items\n",
      "Warning: 409 (1.14 %) of 35736 users have no sampled items\n",
      "EvaluatorHoldout: Ignoring 409 ( 1.1%) Users that have less than 1 test interactions\n",
      "EvaluatorHoldout: Ignoring 169 ( 0.5%) Users that have less than 1 test interactions\n",
      "Warning: 158 (0.44 %) of 35736 users have no sampled items\n",
      "Warning: 400 (1.12 %) of 35736 users have no sampled items\n",
      "EvaluatorHoldout: Ignoring 400 ( 1.1%) Users that have less than 1 test interactions\n",
      "EvaluatorHoldout: Ignoring 158 ( 0.4%) Users that have less than 1 test interactions\n",
      "Warning: 173 (0.48 %) of 35736 users have no sampled items\n",
      "Warning: 466 (1.30 %) of 35736 users have no sampled items\n",
      "EvaluatorHoldout: Ignoring 466 ( 1.3%) Users that have less than 1 test interactions\n",
      "EvaluatorHoldout: Ignoring 173 ( 0.5%) Users that have less than 1 test interactions\n",
      "Warning: 176 (0.49 %) of 35736 users have no sampled items\n",
      "Warning: 459 (1.28 %) of 35736 users have no sampled items\n",
      "EvaluatorHoldout: Ignoring 459 ( 1.3%) Users that have less than 1 test interactions\n",
      "EvaluatorHoldout: Ignoring 176 ( 0.5%) Users that have less than 1 test interactions\n"
     ]
    }
   ],
   "source": [
    "import numpy as np\n",
    "import scipy.sparse as sps\n",
    "from Data_manager.split_functions.split_train_validation_random_holdout import split_train_in_two_percentage_global_sample\n",
    "from Evaluation.Evaluator import EvaluatorHoldout\n",
    "\n",
    "\n",
    "\n",
    "URM_all = sps.coo_matrix((URM_all_dataframe['data'], (URM_all_dataframe['user_id'], URM_all_dataframe['item_id'])))\n",
    "URM_all = URM_all.tocsr()\n",
    "urm_trains = []\n",
    "urm_validations = []\n",
    "urm_test = []\n",
    "urm_train_validations = []\n",
    "# Defining evaluators\n",
    "evaluator_validation = []\n",
    "evaluator_test = []\n",
    "\n",
    "for i in range(k_fold):\n",
    "    # Splitting data into 64% train, 16% validation, 20% test\n",
    "    URM_train_validation, URM_test = split_train_in_two_percentage_global_sample(URM_all, train_percentage = 0.8, seed=seeds[i])\n",
    "    URM_train, URM_validation = split_train_in_two_percentage_global_sample(URM_train_validation, train_percentage = 0.8, seed=seeds[i])\n",
    "    \n",
    "    urm_trains.append(URM_train)\n",
    "    urm_validations.append(URM_validation)\n",
    "    urm_test.append(URM_test)\n",
    "    urm_train_validations.append(URM_train_validation)\n",
    "    \n",
    "    evaluator_validation.append(EvaluatorHoldout(URM_validation, cutoff_list=[10]))\n",
    "    evaluator_test.append(EvaluatorHoldout(URM_test, cutoff_list=[10]))"
   ]
  },
  {
   "cell_type": "code",
   "execution_count": 23,
   "metadata": {},
   "outputs": [],
   "source": [
    "def objective_function_smaller(trial):\n",
    "    params = {\n",
    "        'topK': trial.suggest_int('topK', 5, 300),\n",
    "        'alpha': trial.suggest_float('alpha', 0.3, 1.5),\n",
    "        'beta': trial.suggest_float('beta', 0.1, 1.0),\n",
    "    }\n",
    "    \n",
    "    MAP = 0\n",
    "    for i in range(k_fold):\n",
    "        recommender = RP3betaRecommender(urm_train_validations[i])\n",
    "        recommender.fit(**params)\n",
    "\n",
    "        result_dict, _ = evaluator_test[i].evaluateRecommender(recommender)\n",
    "\n",
    "        MAP += result_dict.loc[10][\"MAP\"]\n",
    "    \n",
    "    MAP /= k_fold\n",
    "    \n",
    "    return MAP"
   ]
  },
  {
   "cell_type": "code",
   "execution_count": 24,
   "metadata": {},
   "outputs": [],
   "source": [
    "class SaveResults(object):\n",
    "    \n",
    "    def __init__(self):\n",
    "        self.results_df = pd.DataFrame(columns = [\"result\"])\n",
    "    \n",
    "    def __call__(self, optuna_study, optuna_trial):\n",
    "        hyperparam_dict = optuna_trial.params.copy()\n",
    "        hyperparam_dict[\"result\"] = optuna_trial.values[0]\n",
    "        \n",
    "        self.results_df = pd.concat([self.results_df, pd.DataFrame([hyperparam_dict])], ignore_index=True)\n",
    "        self.results_df.to_csv(\"logs/RP3/rp3_kcross_trainVal.csv\", index = False)"
   ]
  },
  {
   "cell_type": "code",
   "execution_count": 25,
   "metadata": {},
   "outputs": [
    {
     "name": "stderr",
     "output_type": "stream",
     "text": [
      "[I 2024-12-24 09:05:50,784] A new study created in memory with name: rp3_kcross_trainVal\n"
     ]
    },
    {
     "name": "stdout",
     "output_type": "stream",
     "text": [
      "RP3betaRecommender: Similarity column 38121 (100.0%), 2547.51 column/sec. Elapsed time 14.96 sec\n",
      "EvaluatorHoldout: Processed 35569 (100.0%) in 15.44 sec. Users per second: 2303\n",
      "RP3betaRecommender: Similarity column 38121 (100.0%), 2490.57 column/sec. Elapsed time 15.31 sec\n",
      "EvaluatorHoldout: Processed 35581 (100.0%) in 15.48 sec. Users per second: 2299\n",
      "RP3betaRecommender: Similarity column 38121 (100.0%), 2634.73 column/sec. Elapsed time 14.47 sec\n",
      "EvaluatorHoldout: Processed 35569 (100.0%) in 15.40 sec. Users per second: 2310\n",
      "RP3betaRecommender: Similarity column 38121 (100.0%), 2640.41 column/sec. Elapsed time 14.44 sec\n",
      "EvaluatorHoldout: Processed 35573 (100.0%) in 15.37 sec. Users per second: 2314\n",
      "RP3betaRecommender: Similarity column 38121 (100.0%), 2642.87 column/sec. Elapsed time 14.42 sec\n",
      "EvaluatorHoldout: Processed 35567 (100.0%) in 15.37 sec. Users per second: 2315\n",
      "RP3betaRecommender: Similarity column 38121 (100.0%), 2493.55 column/sec. Elapsed time 15.29 sec\n",
      "EvaluatorHoldout: Processed 35582 (100.0%) in 15.39 sec. Users per second: 2312\n",
      "RP3betaRecommender: Similarity column 38121 (100.0%), 2500.17 column/sec. Elapsed time 15.25 sec\n",
      "EvaluatorHoldout: Processed 35567 (100.0%) in 15.35 sec. Users per second: 2318\n",
      "RP3betaRecommender: Similarity column 38121 (100.0%), 2485.77 column/sec. Elapsed time 15.34 sec\n",
      "EvaluatorHoldout: Processed 35578 (100.0%) in 15.38 sec. Users per second: 2313\n",
      "RP3betaRecommender: Similarity column 38121 (100.0%), 2634.70 column/sec. Elapsed time 14.47 sec\n",
      "EvaluatorHoldout: Processed 35563 (100.0%) in 15.39 sec. Users per second: 2311\n",
      "RP3betaRecommender: Similarity column 38121 (100.0%), 2643.04 column/sec. Elapsed time 14.42 sec\n",
      "EvaluatorHoldout: Processed 35560 (100.0%) in 15.41 sec. Users per second: 2307\n"
     ]
    },
    {
     "name": "stderr",
     "output_type": "stream",
     "text": [
      "[I 2024-12-24 09:11:40,076] Trial 0 finished with value: 0.04835806230888804 and parameters: {'topK': 194, 'alpha': 0.5552078548529443, 'beta': 0.37767419387555407}. Best is trial 0 with value: 0.04835806230888804.\n"
     ]
    },
    {
     "name": "stdout",
     "output_type": "stream",
     "text": [
      "RP3betaRecommender: Similarity column 38121 (100.0%), 2593.22 column/sec. Elapsed time 14.70 sec\n",
      "EvaluatorHoldout: Processed 35569 (100.0%) in 16.22 sec. Users per second: 2192\n",
      "RP3betaRecommender: Similarity column 38121 (100.0%), 2572.59 column/sec. Elapsed time 14.82 sec\n",
      "EvaluatorHoldout: Processed 35581 (100.0%) in 16.14 sec. Users per second: 2204\n",
      "RP3betaRecommender: Similarity column 38121 (100.0%), 2583.30 column/sec. Elapsed time 14.76 sec\n",
      "EvaluatorHoldout: Processed 35569 (100.0%) in 16.18 sec. Users per second: 2199\n",
      "RP3betaRecommender: Similarity column 38121 (100.0%), 2604.70 column/sec. Elapsed time 14.64 sec\n",
      "EvaluatorHoldout: Processed 35573 (100.0%) in 16.09 sec. Users per second: 2211\n",
      "RP3betaRecommender: Similarity column 38121 (100.0%), 2601.88 column/sec. Elapsed time 14.65 sec\n",
      "EvaluatorHoldout: Processed 35567 (100.0%) in 16.12 sec. Users per second: 2207\n",
      "RP3betaRecommender: Similarity column 38121 (100.0%), 2582.72 column/sec. Elapsed time 14.76 sec\n",
      "EvaluatorHoldout: Processed 35582 (100.0%) in 16.17 sec. Users per second: 2201\n",
      "RP3betaRecommender: Similarity column 38121 (100.0%), 2591.38 column/sec. Elapsed time 14.71 sec\n",
      "EvaluatorHoldout: Processed 35567 (100.0%) in 16.14 sec. Users per second: 2203\n",
      "RP3betaRecommender: Similarity column 38121 (100.0%), 2580.53 column/sec. Elapsed time 14.77 sec\n",
      "EvaluatorHoldout: Processed 35578 (100.0%) in 16.92 sec. Users per second: 2103\n",
      "RP3betaRecommender: Similarity column 38121 (100.0%), 2413.79 column/sec. Elapsed time 15.79 sec\n",
      "EvaluatorHoldout: Processed 35563 (100.0%) in 16.13 sec. Users per second: 2205\n",
      "RP3betaRecommender: Similarity column 38121 (100.0%), 2611.92 column/sec. Elapsed time 14.60 sec\n",
      "EvaluatorHoldout: Processed 35560 (100.0%) in 16.04 sec. Users per second: 2217\n"
     ]
    },
    {
     "name": "stderr",
     "output_type": "stream",
     "text": [
      "[I 2024-12-24 09:17:39,966] Trial 1 finished with value: 0.036230258567758813 and parameters: {'topK': 202, 'alpha': 1.479909029333969, 'beta': 0.653164055020753}. Best is trial 0 with value: 0.04835806230888804.\n"
     ]
    },
    {
     "name": "stdout",
     "output_type": "stream",
     "text": [
      "RP3betaRecommender: Similarity column 38121 (100.0%), 2322.25 column/sec. Elapsed time 16.42 sec\n",
      "EvaluatorHoldout: Processed 35569 (100.0%) in 16.59 sec. Users per second: 2144\n",
      "RP3betaRecommender: Similarity column 38121 (100.0%), 2294.27 column/sec. Elapsed time 16.62 sec\n",
      "EvaluatorHoldout: Processed 35581 (100.0%) in 16.62 sec. Users per second: 2141\n",
      "RP3betaRecommender: Similarity column 38121 (100.0%), 2291.44 column/sec. Elapsed time 16.64 sec\n",
      "EvaluatorHoldout: Processed 35569 (100.0%) in 16.61 sec. Users per second: 2141\n",
      "RP3betaRecommender: Similarity column 38121 (100.0%), 2323.13 column/sec. Elapsed time 16.41 sec\n",
      "EvaluatorHoldout: Processed 35573 (100.0%) in 16.58 sec. Users per second: 2146\n",
      "RP3betaRecommender: Similarity column 38121 (100.0%), 2326.12 column/sec. Elapsed time 16.39 sec\n",
      "EvaluatorHoldout: Processed 35567 (100.0%) in 16.57 sec. Users per second: 2146\n",
      "RP3betaRecommender: Similarity column 38121 (100.0%), 2331.53 column/sec. Elapsed time 16.35 sec\n",
      "EvaluatorHoldout: Processed 35582 (100.0%) in 16.54 sec. Users per second: 2151\n",
      "RP3betaRecommender: Similarity column 38121 (100.0%), 2215.23 column/sec. Elapsed time 17.21 sec\n",
      "EvaluatorHoldout: Processed 35567 (100.0%) in 16.53 sec. Users per second: 2152\n",
      "RP3betaRecommender: Similarity column 38121 (100.0%), 2323.41 column/sec. Elapsed time 16.41 sec\n",
      "EvaluatorHoldout: Processed 35578 (100.0%) in 16.55 sec. Users per second: 2150\n",
      "RP3betaRecommender: Similarity column 38121 (100.0%), 2327.33 column/sec. Elapsed time 16.38 sec\n",
      "EvaluatorHoldout: Processed 35563 (100.0%) in 16.59 sec. Users per second: 2144\n",
      "RP3betaRecommender: Similarity column 38121 (100.0%), 2314.71 column/sec. Elapsed time 16.47 sec\n",
      "EvaluatorHoldout: Processed 35560 (100.0%) in 16.60 sec. Users per second: 2142\n"
     ]
    },
    {
     "name": "stderr",
     "output_type": "stream",
     "text": [
      "[I 2024-12-24 09:24:10,530] Trial 2 finished with value: 0.031898897101115445 and parameters: {'topK': 265, 'alpha': 0.4603996212766259, 'beta': 0.8637429809389521}. Best is trial 0 with value: 0.04835806230888804.\n"
     ]
    },
    {
     "name": "stdout",
     "output_type": "stream",
     "text": [
      "RP3betaRecommender: Similarity column 38121 (100.0%), 2209.60 column/sec. Elapsed time 17.25 sec\n",
      "EvaluatorHoldout: Processed 35569 (100.0%) in 16.93 sec. Users per second: 2101\n",
      "RP3betaRecommender: Similarity column 38121 (100.0%), 2116.35 column/sec. Elapsed time 18.01 sec\n",
      "EvaluatorHoldout: Processed 35581 (100.0%) in 16.97 sec. Users per second: 2097\n",
      "RP3betaRecommender: Similarity column 38121 (100.0%), 2115.19 column/sec. Elapsed time 18.02 sec\n",
      "EvaluatorHoldout: Processed 35569 (100.0%) in 16.91 sec. Users per second: 2103\n",
      "RP3betaRecommender: Similarity column 38121 (100.0%), 2122.67 column/sec. Elapsed time 17.96 sec\n",
      "EvaluatorHoldout: Processed 35573 (100.0%) in 16.94 sec. Users per second: 2100\n",
      "RP3betaRecommender: Similarity column 38121 (100.0%), 2130.23 column/sec. Elapsed time 17.90 sec\n",
      "EvaluatorHoldout: Processed 35567 (100.0%) in 16.96 sec. Users per second: 2097\n",
      "RP3betaRecommender: Similarity column 38121 (100.0%), 2226.82 column/sec. Elapsed time 17.12 sec\n",
      "EvaluatorHoldout: Processed 35582 (100.0%) in 16.95 sec. Users per second: 2099\n",
      "RP3betaRecommender: Similarity column 38121 (100.0%), 2207.39 column/sec. Elapsed time 17.27 sec\n",
      "EvaluatorHoldout: Processed 35567 (100.0%) in 17.32 sec. Users per second: 2053\n",
      "RP3betaRecommender: Similarity column 38121 (100.0%), 2171.83 column/sec. Elapsed time 17.55 sec\n",
      "EvaluatorHoldout: Processed 35578 (100.0%) in 22.61 sec. Users per second: 1573\n",
      "RP3betaRecommender: Similarity column 38121 (100.0%), 2203.21 column/sec. Elapsed time 17.30 sec\n",
      "EvaluatorHoldout: Processed 35563 (100.0%) in 16.89 sec. Users per second: 2105\n",
      "RP3betaRecommender: Similarity column 38121 (100.0%), 2205.75 column/sec. Elapsed time 17.28 sec\n",
      "EvaluatorHoldout: Processed 35560 (100.0%) in 16.93 sec. Users per second: 2100\n"
     ]
    },
    {
     "name": "stderr",
     "output_type": "stream",
     "text": [
      "[I 2024-12-24 09:31:08,942] Trial 3 finished with value: 0.04625603606448062 and parameters: {'topK': 299, 'alpha': 0.747410829632483, 'beta': 0.29485775016419963}. Best is trial 0 with value: 0.04835806230888804.\n"
     ]
    },
    {
     "name": "stdout",
     "output_type": "stream",
     "text": [
      "RP3betaRecommender: Similarity column 38121 (100.0%), 2701.19 column/sec. Elapsed time 14.11 sec\n",
      "EvaluatorHoldout: Processed 35569 (100.0%) in 14.68 sec. Users per second: 2424\n",
      "RP3betaRecommender: Similarity column 38121 (100.0%), 2685.42 column/sec. Elapsed time 14.20 sec\n",
      "EvaluatorHoldout: Processed 35581 (100.0%) in 14.71 sec. Users per second: 2419\n",
      "RP3betaRecommender: Similarity column 38121 (100.0%), 2555.88 column/sec. Elapsed time 14.91 sec\n",
      "EvaluatorHoldout: Processed 35569 (100.0%) in 14.67 sec. Users per second: 2425\n",
      "RP3betaRecommender: Similarity column 38121 (100.0%), 2702.72 column/sec. Elapsed time 14.10 sec\n",
      "EvaluatorHoldout: Processed 35573 (100.0%) in 14.65 sec. Users per second: 2429\n",
      "RP3betaRecommender: Similarity column 38121 (100.0%), 2577.67 column/sec. Elapsed time 14.79 sec\n",
      "EvaluatorHoldout: Processed 35567 (100.0%) in 14.63 sec. Users per second: 2432\n",
      "RP3betaRecommender: Similarity column 38121 (100.0%), 2555.72 column/sec. Elapsed time 14.92 sec\n",
      "EvaluatorHoldout: Processed 35582 (100.0%) in 14.70 sec. Users per second: 2421\n",
      "RP3betaRecommender: Similarity column 38121 (100.0%), 2714.35 column/sec. Elapsed time 14.04 sec\n",
      "EvaluatorHoldout: Processed 35567 (100.0%) in 14.62 sec. Users per second: 2434\n",
      "RP3betaRecommender: Similarity column 38121 (100.0%), 2683.69 column/sec. Elapsed time 14.20 sec\n",
      "EvaluatorHoldout: Processed 35578 (100.0%) in 14.63 sec. Users per second: 2431\n",
      "RP3betaRecommender: Similarity column 38121 (100.0%), 2695.63 column/sec. Elapsed time 14.14 sec\n",
      "EvaluatorHoldout: Processed 35563 (100.0%) in 14.60 sec. Users per second: 2437\n",
      "RP3betaRecommender: Similarity column 38121 (100.0%), 2553.98 column/sec. Elapsed time 14.93 sec\n",
      "EvaluatorHoldout: Processed 35560 (100.0%) in 14.64 sec. Users per second: 2429\n"
     ]
    },
    {
     "name": "stderr",
     "output_type": "stream",
     "text": [
      "[I 2024-12-24 09:36:40,015] Trial 4 finished with value: 0.04684008115514306 and parameters: {'topK': 180, 'alpha': 0.8314938643014881, 'beta': 0.23323158712903713}. Best is trial 0 with value: 0.04835806230888804.\n"
     ]
    },
    {
     "name": "stdout",
     "output_type": "stream",
     "text": [
      "RP3betaRecommender: Similarity column 38121 (100.0%), 2381.64 column/sec. Elapsed time 16.01 sec\n",
      "EvaluatorHoldout: Processed 35569 (100.0%) in 16.97 sec. Users per second: 2097\n",
      "RP3betaRecommender: Similarity column 38121 (100.0%), 2434.27 column/sec. Elapsed time 15.66 sec\n",
      "EvaluatorHoldout: Processed 35581 (100.0%) in 17.17 sec. Users per second: 2073\n",
      "RP3betaRecommender: Similarity column 38121 (100.0%), 2312.13 column/sec. Elapsed time 16.49 sec\n",
      "EvaluatorHoldout: Processed 35569 (100.0%) in 17.04 sec. Users per second: 2087\n",
      "RP3betaRecommender: Similarity column 38121 (100.0%), 2432.65 column/sec. Elapsed time 15.67 sec\n",
      "EvaluatorHoldout: Processed 35573 (100.0%) in 16.94 sec. Users per second: 2100\n",
      "RP3betaRecommender: Similarity column 38121 (100.0%), 2431.25 column/sec. Elapsed time 15.68 sec\n",
      "EvaluatorHoldout: Processed 35567 (100.0%) in 16.99 sec. Users per second: 2094\n",
      "RP3betaRecommender: Similarity column 38121 (100.0%), 2439.19 column/sec. Elapsed time 15.63 sec\n",
      "EvaluatorHoldout: Processed 35582 (100.0%) in 17.78 sec. Users per second: 2002\n",
      "RP3betaRecommender: Similarity column 38121 (100.0%), 2419.65 column/sec. Elapsed time 15.75 sec\n",
      "EvaluatorHoldout: Processed 35567 (100.0%) in 17.21 sec. Users per second: 2067\n",
      "RP3betaRecommender: Similarity column 38121 (100.0%), 2476.25 column/sec. Elapsed time 15.39 sec\n",
      "EvaluatorHoldout: Processed 35578 (100.0%) in 16.52 sec. Users per second: 2154\n",
      "RP3betaRecommender: Similarity column 38121 (100.0%), 2453.09 column/sec. Elapsed time 15.54 sec\n",
      "EvaluatorHoldout: Processed 35563 (100.0%) in 16.98 sec. Users per second: 2094\n",
      "RP3betaRecommender: Similarity column 38121 (100.0%), 2356.26 column/sec. Elapsed time 16.18 sec\n",
      "EvaluatorHoldout: Processed 35560 (100.0%) in 16.96 sec. Users per second: 2097\n"
     ]
    },
    {
     "name": "stderr",
     "output_type": "stream",
     "text": [
      "[I 2024-12-24 09:43:07,397] Trial 5 finished with value: 0.03653388711820818 and parameters: {'topK': 240, 'alpha': 1.2548897052434578, 'beta': 0.6988192030762578}. Best is trial 0 with value: 0.04835806230888804.\n"
     ]
    },
    {
     "name": "stdout",
     "output_type": "stream",
     "text": [
      "RP3betaRecommender: Similarity column 38121 (100.0%), 2574.04 column/sec. Elapsed time 14.81 sec\n",
      "EvaluatorHoldout: Processed 35569 (100.0%) in 15.89 sec. Users per second: 2239\n",
      "RP3betaRecommender: Similarity column 38121 (100.0%), 2586.09 column/sec. Elapsed time 14.74 sec\n",
      "EvaluatorHoldout: Processed 35581 (100.0%) in 15.89 sec. Users per second: 2239\n",
      "RP3betaRecommender: Similarity column 38121 (100.0%), 2585.51 column/sec. Elapsed time 14.74 sec\n",
      "EvaluatorHoldout: Processed 35569 (100.0%) in 15.99 sec. Users per second: 2224\n",
      "RP3betaRecommender: Similarity column 38121 (100.0%), 2604.80 column/sec. Elapsed time 14.63 sec\n",
      "EvaluatorHoldout: Processed 35573 (100.0%) in 15.89 sec. Users per second: 2239\n",
      "RP3betaRecommender: Similarity column 38121 (100.0%), 2585.35 column/sec. Elapsed time 14.75 sec\n",
      "EvaluatorHoldout: Processed 35567 (100.0%) in 15.88 sec. Users per second: 2239\n",
      "RP3betaRecommender: Similarity column 38121 (100.0%), 2588.20 column/sec. Elapsed time 14.73 sec\n",
      "EvaluatorHoldout: Processed 35582 (100.0%) in 15.85 sec. Users per second: 2245\n",
      "RP3betaRecommender: Similarity column 38121 (100.0%), 2605.31 column/sec. Elapsed time 14.63 sec\n",
      "EvaluatorHoldout: Processed 35567 (100.0%) in 15.86 sec. Users per second: 2242\n",
      "RP3betaRecommender: Similarity column 38121 (100.0%), 2592.40 column/sec. Elapsed time 14.70 sec\n",
      "EvaluatorHoldout: Processed 35578 (100.0%) in 15.86 sec. Users per second: 2243\n",
      "RP3betaRecommender: Similarity column 38121 (100.0%), 2610.31 column/sec. Elapsed time 14.60 sec\n",
      "EvaluatorHoldout: Processed 35563 (100.0%) in 15.89 sec. Users per second: 2239\n",
      "RP3betaRecommender: Similarity column 38121 (100.0%), 2576.53 column/sec. Elapsed time 14.80 sec\n",
      "EvaluatorHoldout: Processed 35560 (100.0%) in 15.90 sec. Users per second: 2236\n"
     ]
    },
    {
     "name": "stderr",
     "output_type": "stream",
     "text": [
      "[I 2024-12-24 09:49:02,415] Trial 6 finished with value: 0.04695173371461815 and parameters: {'topK': 211, 'alpha': 0.9188473621460452, 'beta': 0.3943118101837231}. Best is trial 0 with value: 0.04835806230888804.\n"
     ]
    },
    {
     "name": "stdout",
     "output_type": "stream",
     "text": [
      "RP3betaRecommender: Similarity column 38121 (100.0%), 2836.59 column/sec. Elapsed time 13.44 sec\n",
      "EvaluatorHoldout: Processed 35569 (100.0%) in 14.41 sec. Users per second: 2468\n",
      "RP3betaRecommender: Similarity column 38121 (100.0%), 2847.16 column/sec. Elapsed time 13.39 sec\n",
      "EvaluatorHoldout: Processed 35581 (100.0%) in 14.35 sec. Users per second: 2479\n",
      "RP3betaRecommender: Similarity column 38121 (100.0%), 2827.65 column/sec. Elapsed time 13.48 sec\n",
      "EvaluatorHoldout: Processed 35569 (100.0%) in 14.40 sec. Users per second: 2470\n",
      "RP3betaRecommender: Similarity column 38121 (100.0%), 2658.54 column/sec. Elapsed time 14.34 sec\n",
      "EvaluatorHoldout: Processed 35573 (100.0%) in 14.28 sec. Users per second: 2491\n",
      "RP3betaRecommender: Similarity column 38121 (100.0%), 2865.24 column/sec. Elapsed time 13.30 sec\n",
      "EvaluatorHoldout: Processed 35567 (100.0%) in 14.40 sec. Users per second: 2470\n",
      "RP3betaRecommender: Similarity column 38121 (100.0%), 2837.31 column/sec. Elapsed time 13.44 sec\n",
      "EvaluatorHoldout: Processed 35582 (100.0%) in 14.41 sec. Users per second: 2470\n",
      "RP3betaRecommender: Similarity column 38121 (100.0%), 2850.69 column/sec. Elapsed time 13.37 sec\n",
      "EvaluatorHoldout: Processed 35567 (100.0%) in 14.41 sec. Users per second: 2469\n",
      "RP3betaRecommender: Similarity column 38121 (100.0%), 2837.45 column/sec. Elapsed time 13.43 sec\n",
      "EvaluatorHoldout: Processed 35578 (100.0%) in 14.40 sec. Users per second: 2470\n",
      "RP3betaRecommender: Similarity column 38121 (100.0%), 2844.89 column/sec. Elapsed time 13.40 sec\n",
      "EvaluatorHoldout: Processed 35563 (100.0%) in 14.36 sec. Users per second: 2476\n",
      "RP3betaRecommender: Similarity column 38121 (100.0%), 2839.66 column/sec. Elapsed time 13.42 sec\n",
      "EvaluatorHoldout: Processed 35560 (100.0%) in 14.37 sec. Users per second: 2474\n"
     ]
    },
    {
     "name": "stderr",
     "output_type": "stream",
     "text": [
      "[I 2024-12-24 09:54:15,226] Trial 7 finished with value: 0.044090463635885965 and parameters: {'topK': 159, 'alpha': 1.4232101994098463, 'beta': 0.18676691184107172}. Best is trial 0 with value: 0.04835806230888804.\n"
     ]
    },
    {
     "name": "stdout",
     "output_type": "stream",
     "text": [
      "RP3betaRecommender: Similarity column 38121 (100.0%), 3242.12 column/sec. Elapsed time 11.76 sec\n",
      "EvaluatorHoldout: Processed 35569 (100.0%) in 13.49 sec. Users per second: 2637\n",
      "RP3betaRecommender: Similarity column 38121 (100.0%), 3248.85 column/sec. Elapsed time 11.73 sec\n",
      "EvaluatorHoldout: Processed 35581 (100.0%) in 13.56 sec. Users per second: 2625\n",
      "RP3betaRecommender: Similarity column 38121 (100.0%), 3255.46 column/sec. Elapsed time 11.71 sec\n",
      "EvaluatorHoldout: Processed 35569 (100.0%) in 13.50 sec. Users per second: 2635\n",
      "RP3betaRecommender: Similarity column 38121 (100.0%), 3258.46 column/sec. Elapsed time 11.70 sec\n",
      "EvaluatorHoldout: Processed 35573 (100.0%) in 13.49 sec. Users per second: 2636\n",
      "RP3betaRecommender: Similarity column 38121 (100.0%), 3205.02 column/sec. Elapsed time 11.89 sec\n",
      "EvaluatorHoldout: Processed 35567 (100.0%) in 13.50 sec. Users per second: 2636\n",
      "RP3betaRecommender: Similarity column 38121 (100.0%), 3209.62 column/sec. Elapsed time 11.88 sec\n",
      "EvaluatorHoldout: Processed 35582 (100.0%) in 13.53 sec. Users per second: 2630\n",
      "RP3betaRecommender: Similarity column 38121 (100.0%), 3228.84 column/sec. Elapsed time 11.81 sec\n",
      "EvaluatorHoldout: Processed 35567 (100.0%) in 13.49 sec. Users per second: 2637\n",
      "RP3betaRecommender: Similarity column 38121 (100.0%), 3229.69 column/sec. Elapsed time 11.80 sec\n",
      "EvaluatorHoldout: Processed 35578 (100.0%) in 13.48 sec. Users per second: 2640\n",
      "RP3betaRecommender: Similarity column 38121 (100.0%), 3249.07 column/sec. Elapsed time 11.73 sec\n",
      "EvaluatorHoldout: Processed 35563 (100.0%) in 13.49 sec. Users per second: 2636\n",
      "RP3betaRecommender: Similarity column 38121 (100.0%), 3205.93 column/sec. Elapsed time 11.89 sec\n",
      "EvaluatorHoldout: Processed 35560 (100.0%) in 13.50 sec. Users per second: 2633\n"
     ]
    },
    {
     "name": "stderr",
     "output_type": "stream",
     "text": [
      "[I 2024-12-24 09:58:52,255] Trial 8 finished with value: 0.045343266444912114 and parameters: {'topK': 100, 'alpha': 1.379119136615965, 'beta': 0.3688939542407932}. Best is trial 0 with value: 0.04835806230888804.\n"
     ]
    },
    {
     "name": "stdout",
     "output_type": "stream",
     "text": [
      "RP3betaRecommender: Similarity column 38121 (100.0%), 3686.47 column/sec. Elapsed time 10.34 sec\n",
      "EvaluatorHoldout: Processed 35569 (100.0%) in 11.79 sec. Users per second: 3018\n",
      "RP3betaRecommender: Similarity column 38121 (100.0%), 3655.47 column/sec. Elapsed time 10.43 sec\n",
      "EvaluatorHoldout: Processed 35581 (100.0%) in 11.78 sec. Users per second: 3020\n",
      "RP3betaRecommender: Similarity column 38121 (100.0%), 3637.20 column/sec. Elapsed time 10.48 sec\n",
      "EvaluatorHoldout: Processed 35569 (100.0%) in 11.81 sec. Users per second: 3011\n",
      "RP3betaRecommender: Similarity column 38121 (100.0%), 3664.81 column/sec. Elapsed time 10.40 sec\n",
      "EvaluatorHoldout: Processed 35573 (100.0%) in 11.87 sec. Users per second: 2997\n",
      "RP3betaRecommender: Similarity column 38121 (100.0%), 3610.72 column/sec. Elapsed time 10.56 sec\n",
      "EvaluatorHoldout: Processed 35567 (100.0%) in 11.79 sec. Users per second: 3016\n",
      "RP3betaRecommender: Similarity column 38121 (100.0%), 3680.40 column/sec. Elapsed time 10.36 sec\n",
      "EvaluatorHoldout: Processed 35582 (100.0%) in 11.80 sec. Users per second: 3017\n",
      "RP3betaRecommender: Similarity column 38121 (100.0%), 3668.09 column/sec. Elapsed time 10.39 sec\n",
      "EvaluatorHoldout: Processed 35567 (100.0%) in 11.77 sec. Users per second: 3022\n",
      "RP3betaRecommender: Similarity column 38121 (100.0%), 3665.00 column/sec. Elapsed time 10.40 sec\n",
      "EvaluatorHoldout: Processed 35578 (100.0%) in 11.79 sec. Users per second: 3017\n",
      "RP3betaRecommender: Similarity column 38121 (100.0%), 3636.26 column/sec. Elapsed time 10.48 sec\n",
      "EvaluatorHoldout: Processed 35563 (100.0%) in 11.82 sec. Users per second: 3009\n",
      "RP3betaRecommender: Similarity column 38121 (100.0%), 3674.96 column/sec. Elapsed time 10.37 sec\n",
      "EvaluatorHoldout: Processed 35560 (100.0%) in 11.81 sec. Users per second: 3012\n"
     ]
    },
    {
     "name": "stderr",
     "output_type": "stream",
     "text": [
      "[I 2024-12-24 10:02:46,161] Trial 9 finished with value: 0.029556150440023476 and parameters: {'topK': 49, 'alpha': 0.889468326932003, 'beta': 0.9670448702724158}. Best is trial 0 with value: 0.04835806230888804.\n"
     ]
    },
    {
     "name": "stdout",
     "output_type": "stream",
     "text": [
      "RP3betaRecommender: Similarity column 38121 (100.0%), 2991.36 column/sec. Elapsed time 12.74 sec\n",
      "EvaluatorHoldout: Processed 35569 (100.0%) in 13.43 sec. Users per second: 2648\n",
      "RP3betaRecommender: Similarity column 38121 (100.0%), 3177.30 column/sec. Elapsed time 12.00 sec\n",
      "EvaluatorHoldout: Processed 35581 (100.0%) in 13.43 sec. Users per second: 2650\n",
      "RP3betaRecommender: Similarity column 38121 (100.0%), 3178.24 column/sec. Elapsed time 11.99 sec\n",
      "EvaluatorHoldout: Processed 35569 (100.0%) in 13.49 sec. Users per second: 2637\n",
      "RP3betaRecommender: Similarity column 38121 (100.0%), 3190.50 column/sec. Elapsed time 11.95 sec\n",
      "EvaluatorHoldout: Processed 35573 (100.0%) in 13.45 sec. Users per second: 2645\n",
      "RP3betaRecommender: Similarity column 38121 (100.0%), 3201.12 column/sec. Elapsed time 11.91 sec\n",
      "EvaluatorHoldout: Processed 35567 (100.0%) in 13.44 sec. Users per second: 2646\n",
      "RP3betaRecommender: Similarity column 38121 (100.0%), 3165.38 column/sec. Elapsed time 12.04 sec\n",
      "EvaluatorHoldout: Processed 35582 (100.0%) in 13.45 sec. Users per second: 2646\n",
      "RP3betaRecommender: Similarity column 38121 (100.0%), 3194.09 column/sec. Elapsed time 11.93 sec\n",
      "EvaluatorHoldout: Processed 35567 (100.0%) in 13.43 sec. Users per second: 2648\n",
      "RP3betaRecommender: Similarity column 38121 (100.0%), 3219.39 column/sec. Elapsed time 11.84 sec\n",
      "EvaluatorHoldout: Processed 35578 (100.0%) in 13.50 sec. Users per second: 2636\n",
      "RP3betaRecommender: Similarity column 38121 (100.0%), 3219.10 column/sec. Elapsed time 11.84 sec\n",
      "EvaluatorHoldout: Processed 35563 (100.0%) in 13.46 sec. Users per second: 2641\n",
      "RP3betaRecommender: Similarity column 38121 (100.0%), 3208.60 column/sec. Elapsed time 11.88 sec\n",
      "EvaluatorHoldout: Processed 35560 (100.0%) in 13.46 sec. Users per second: 2642\n"
     ]
    },
    {
     "name": "stderr",
     "output_type": "stream",
     "text": [
      "[I 2024-12-24 10:07:26,103] Trial 10 finished with value: 0.04839755048385124 and parameters: {'topK': 102, 'alpha': 0.32205971053630855, 'beta': 0.5157822597169677}. Best is trial 10 with value: 0.04839755048385124.\n"
     ]
    },
    {
     "name": "stdout",
     "output_type": "stream",
     "text": [
      "RP3betaRecommender: Similarity column 38121 (100.0%), 3159.28 column/sec. Elapsed time 12.07 sec\n",
      "EvaluatorHoldout: Processed 35569 (100.0%) in 13.45 sec. Users per second: 2644\n",
      "RP3betaRecommender: Similarity column 38121 (100.0%), 3207.20 column/sec. Elapsed time 11.89 sec\n",
      "EvaluatorHoldout: Processed 35581 (100.0%) in 13.46 sec. Users per second: 2643\n",
      "RP3betaRecommender: Similarity column 38121 (100.0%), 3198.68 column/sec. Elapsed time 11.92 sec\n",
      "EvaluatorHoldout: Processed 35569 (100.0%) in 13.52 sec. Users per second: 2630\n",
      "RP3betaRecommender: Similarity column 38121 (100.0%), 3194.01 column/sec. Elapsed time 11.94 sec\n",
      "EvaluatorHoldout: Processed 35573 (100.0%) in 13.46 sec. Users per second: 2643\n",
      "RP3betaRecommender: Similarity column 38121 (100.0%), 3175.82 column/sec. Elapsed time 12.00 sec\n",
      "EvaluatorHoldout: Processed 35567 (100.0%) in 13.46 sec. Users per second: 2642\n",
      "RP3betaRecommender: Similarity column 38121 (100.0%), 3207.17 column/sec. Elapsed time 11.89 sec\n",
      "EvaluatorHoldout: Processed 35582 (100.0%) in 13.48 sec. Users per second: 2640\n",
      "RP3betaRecommender: Similarity column 38121 (100.0%), 3118.10 column/sec. Elapsed time 12.23 sec\n",
      "EvaluatorHoldout: Processed 35567 (100.0%) in 14.06 sec. Users per second: 2529\n",
      "RP3betaRecommender: Similarity column 38121 (100.0%), 3135.04 column/sec. Elapsed time 12.16 sec\n",
      "EvaluatorHoldout: Processed 35578 (100.0%) in 14.10 sec. Users per second: 2524\n",
      "RP3betaRecommender: Similarity column 38121 (100.0%), 3171.19 column/sec. Elapsed time 12.02 sec\n",
      "EvaluatorHoldout: Processed 35563 (100.0%) in 13.23 sec. Users per second: 2688\n",
      "RP3betaRecommender: Similarity column 38121 (100.0%), 3161.00 column/sec. Elapsed time 12.06 sec\n",
      "EvaluatorHoldout: Processed 35560 (100.0%) in 13.35 sec. Users per second: 2664\n"
     ]
    },
    {
     "name": "stderr",
     "output_type": "stream",
     "text": [
      "[I 2024-12-24 10:12:07,606] Trial 11 finished with value: 0.0488217987531306 and parameters: {'topK': 103, 'alpha': 0.32204343924293244, 'beta': 0.4925448978200976}. Best is trial 11 with value: 0.0488217987531306.\n"
     ]
    },
    {
     "name": "stdout",
     "output_type": "stream",
     "text": [
      "RP3betaRecommender: Similarity column 38121 (100.0%), 3309.08 column/sec. Elapsed time 11.52 sec\n",
      "EvaluatorHoldout: Processed 35569 (100.0%) in 13.09 sec. Users per second: 2718\n",
      "RP3betaRecommender: Similarity column 38121 (100.0%), 3336.75 column/sec. Elapsed time 11.42 sec\n",
      "EvaluatorHoldout: Processed 35581 (100.0%) in 13.03 sec. Users per second: 2731\n",
      "RP3betaRecommender: Similarity column 38121 (100.0%), 3342.29 column/sec. Elapsed time 11.41 sec\n",
      "EvaluatorHoldout: Processed 35569 (100.0%) in 13.19 sec. Users per second: 2697\n",
      "RP3betaRecommender: Similarity column 38121 (100.0%), 3348.14 column/sec. Elapsed time 11.39 sec\n",
      "EvaluatorHoldout: Processed 35573 (100.0%) in 13.09 sec. Users per second: 2718\n",
      "RP3betaRecommender: Similarity column 38121 (100.0%), 3343.92 column/sec. Elapsed time 11.40 sec\n",
      "EvaluatorHoldout: Processed 35567 (100.0%) in 13.05 sec. Users per second: 2726\n",
      "RP3betaRecommender: Similarity column 38121 (100.0%), 3352.27 column/sec. Elapsed time 11.37 sec\n",
      "EvaluatorHoldout: Processed 35582 (100.0%) in 13.03 sec. Users per second: 2730\n",
      "RP3betaRecommender: Similarity column 38121 (100.0%), 3357.79 column/sec. Elapsed time 11.35 sec\n",
      "EvaluatorHoldout: Processed 35567 (100.0%) in 13.05 sec. Users per second: 2726\n",
      "RP3betaRecommender: Similarity column 38121 (100.0%), 3368.98 column/sec. Elapsed time 11.32 sec\n",
      "EvaluatorHoldout: Processed 35578 (100.0%) in 13.01 sec. Users per second: 2734\n",
      "RP3betaRecommender: Similarity column 38121 (100.0%), 3377.70 column/sec. Elapsed time 11.29 sec\n",
      "EvaluatorHoldout: Processed 35563 (100.0%) in 13.07 sec. Users per second: 2721\n",
      "RP3betaRecommender: Similarity column 38121 (100.0%), 3349.22 column/sec. Elapsed time 11.38 sec\n",
      "EvaluatorHoldout: Processed 35560 (100.0%) in 13.03 sec. Users per second: 2729\n"
     ]
    },
    {
     "name": "stderr",
     "output_type": "stream",
     "text": [
      "[I 2024-12-24 10:16:33,557] Trial 12 finished with value: 0.048444024756588086 and parameters: {'topK': 86, 'alpha': 0.30897452535728537, 'beta': 0.5263211300640906}. Best is trial 11 with value: 0.0488217987531306.\n"
     ]
    },
    {
     "name": "stdout",
     "output_type": "stream",
     "text": [
      "RP3betaRecommender: Similarity column 38121 (100.0%), 3668.50 column/sec. Elapsed time 10.39 sec\n",
      "EvaluatorHoldout: Processed 35569 (100.0%) in 10.45 sec. Users per second: 3404\n",
      "RP3betaRecommender: Similarity column 38121 (100.0%), 4112.03 column/sec. Elapsed time 9.27 sec\n",
      "EvaluatorHoldout: Processed 35581 (100.0%) in 10.46 sec. Users per second: 3401\n",
      "RP3betaRecommender: Similarity column 38121 (100.0%), 4080.06 column/sec. Elapsed time 9.34 sec\n",
      "EvaluatorHoldout: Processed 35569 (100.0%) in 10.49 sec. Users per second: 3391\n",
      "RP3betaRecommender: Similarity column 38121 (100.0%), 4135.54 column/sec. Elapsed time 9.22 sec\n",
      "EvaluatorHoldout: Processed 35573 (100.0%) in 10.47 sec. Users per second: 3398\n",
      "RP3betaRecommender: Similarity column 38121 (100.0%), 3698.94 column/sec. Elapsed time 10.31 sec\n",
      "EvaluatorHoldout: Processed 35567 (100.0%) in 10.48 sec. Users per second: 3393\n",
      "RP3betaRecommender: Similarity column 38121 (100.0%), 4070.13 column/sec. Elapsed time 9.37 sec\n",
      "EvaluatorHoldout: Processed 35582 (100.0%) in 10.43 sec. Users per second: 3411\n",
      "RP3betaRecommender: Similarity column 38121 (100.0%), 3687.83 column/sec. Elapsed time 10.34 sec\n",
      "EvaluatorHoldout: Processed 35567 (100.0%) in 10.47 sec. Users per second: 3396\n",
      "RP3betaRecommender: Similarity column 38121 (100.0%), 4061.53 column/sec. Elapsed time 9.39 sec\n",
      "EvaluatorHoldout: Processed 35578 (100.0%) in 10.45 sec. Users per second: 3404\n",
      "RP3betaRecommender: Similarity column 38121 (100.0%), 4092.79 column/sec. Elapsed time 9.31 sec\n",
      "EvaluatorHoldout: Processed 35563 (100.0%) in 10.48 sec. Users per second: 3394\n",
      "RP3betaRecommender: Similarity column 38121 (100.0%), 3547.80 column/sec. Elapsed time 10.74 sec\n",
      "EvaluatorHoldout: Processed 35560 (100.0%) in 10.46 sec. Users per second: 3398\n"
     ]
    },
    {
     "name": "stderr",
     "output_type": "stream",
     "text": [
      "[I 2024-12-24 10:19:59,694] Trial 13 finished with value: 0.04809640180330052 and parameters: {'topK': 5, 'alpha': 0.3047130012363364, 'beta': 0.5615591424713252}. Best is trial 11 with value: 0.0488217987531306.\n"
     ]
    },
    {
     "name": "stdout",
     "output_type": "stream",
     "text": [
      "RP3betaRecommender: Similarity column 38121 (100.0%), 3144.61 column/sec. Elapsed time 12.12 sec\n",
      "EvaluatorHoldout: Processed 35569 (100.0%) in 13.66 sec. Users per second: 2603\n",
      "RP3betaRecommender: Similarity column 38121 (100.0%), 3156.75 column/sec. Elapsed time 12.08 sec\n",
      "EvaluatorHoldout: Processed 35581 (100.0%) in 13.65 sec. Users per second: 2606\n",
      "RP3betaRecommender: Similarity column 38121 (100.0%), 2837.03 column/sec. Elapsed time 13.44 sec\n",
      "EvaluatorHoldout: Processed 35569 (100.0%) in 13.66 sec. Users per second: 2605\n",
      "RP3betaRecommender: Similarity column 38121 (100.0%), 3139.73 column/sec. Elapsed time 12.14 sec\n",
      "EvaluatorHoldout: Processed 35573 (100.0%) in 13.73 sec. Users per second: 2592\n",
      "RP3betaRecommender: Similarity column 38121 (100.0%), 3135.57 column/sec. Elapsed time 12.16 sec\n",
      "EvaluatorHoldout: Processed 35567 (100.0%) in 13.73 sec. Users per second: 2590\n",
      "RP3betaRecommender: Similarity column 38121 (100.0%), 3136.98 column/sec. Elapsed time 12.15 sec\n",
      "EvaluatorHoldout: Processed 35582 (100.0%) in 13.68 sec. Users per second: 2602\n",
      "RP3betaRecommender: Similarity column 38121 (100.0%), 3128.42 column/sec. Elapsed time 12.19 sec\n",
      "EvaluatorHoldout: Processed 35567 (100.0%) in 13.68 sec. Users per second: 2601\n",
      "RP3betaRecommender: Similarity column 38121 (100.0%), 3080.02 column/sec. Elapsed time 12.38 sec\n",
      "EvaluatorHoldout: Processed 35578 (100.0%) in 13.78 sec. Users per second: 2582\n",
      "RP3betaRecommender: Similarity column 38121 (100.0%), 2830.04 column/sec. Elapsed time 13.47 sec\n",
      "EvaluatorHoldout: Processed 35563 (100.0%) in 13.04 sec. Users per second: 2728\n",
      "RP3betaRecommender: Similarity column 38121 (100.0%), 3160.87 column/sec. Elapsed time 12.06 sec\n",
      "EvaluatorHoldout: Processed 35560 (100.0%) in 13.94 sec. Users per second: 2551\n"
     ]
    },
    {
     "name": "stderr",
     "output_type": "stream",
     "text": [
      "[I 2024-12-24 10:24:47,624] Trial 14 finished with value: 0.048475011234328305 and parameters: {'topK': 107, 'alpha': 0.5793376351350019, 'beta': 0.5078991426333673}. Best is trial 11 with value: 0.0488217987531306.\n"
     ]
    },
    {
     "name": "stdout",
     "output_type": "stream",
     "text": [
      "RP3betaRecommender: Similarity column 38121 (100.0%), 2779.02 column/sec. Elapsed time 13.72 sec\n",
      "EvaluatorHoldout: Processed 35569 (100.0%) in 14.57 sec. Users per second: 2441\n",
      "RP3betaRecommender: Similarity column 38121 (100.0%), 2949.50 column/sec. Elapsed time 12.92 sec\n",
      "EvaluatorHoldout: Processed 35581 (100.0%) in 13.55 sec. Users per second: 2626\n",
      "RP3betaRecommender: Similarity column 38121 (100.0%), 3038.93 column/sec. Elapsed time 12.54 sec\n",
      "EvaluatorHoldout: Processed 35569 (100.0%) in 14.02 sec. Users per second: 2536\n",
      "RP3betaRecommender: Similarity column 38121 (100.0%), 2986.35 column/sec. Elapsed time 12.77 sec\n",
      "EvaluatorHoldout: Processed 35573 (100.0%) in 14.07 sec. Users per second: 2528\n",
      "RP3betaRecommender: Similarity column 38121 (100.0%), 2953.11 column/sec. Elapsed time 12.91 sec\n",
      "EvaluatorHoldout: Processed 35567 (100.0%) in 14.31 sec. Users per second: 2486\n",
      "RP3betaRecommender: Similarity column 38121 (100.0%), 2949.15 column/sec. Elapsed time 12.93 sec\n",
      "EvaluatorHoldout: Processed 35582 (100.0%) in 13.58 sec. Users per second: 2619\n",
      "RP3betaRecommender: Similarity column 38121 (100.0%), 3053.84 column/sec. Elapsed time 12.48 sec\n",
      "EvaluatorHoldout: Processed 35567 (100.0%) in 14.50 sec. Users per second: 2453\n",
      "RP3betaRecommender: Similarity column 38121 (100.0%), 3087.12 column/sec. Elapsed time 12.35 sec\n",
      "EvaluatorHoldout: Processed 35578 (100.0%) in 13.66 sec. Users per second: 2604\n",
      "RP3betaRecommender: Similarity column 38121 (100.0%), 3025.92 column/sec. Elapsed time 12.60 sec\n",
      "EvaluatorHoldout: Processed 35563 (100.0%) in 13.68 sec. Users per second: 2600\n",
      "RP3betaRecommender: Similarity column 38121 (100.0%), 2918.02 column/sec. Elapsed time 13.06 sec\n",
      "EvaluatorHoldout: Processed 35560 (100.0%) in 14.34 sec. Users per second: 2481\n"
     ]
    },
    {
     "name": "stderr",
     "output_type": "stream",
     "text": [
      "[I 2024-12-24 10:29:46,723] Trial 15 finished with value: 0.039209922527134324 and parameters: {'topK': 129, 'alpha': 0.6238970617282331, 'beta': 0.7412330117294408}. Best is trial 11 with value: 0.0488217987531306.\n"
     ]
    },
    {
     "name": "stdout",
     "output_type": "stream",
     "text": [
      "RP3betaRecommender: Similarity column 38121 (100.0%), 3595.74 column/sec. Elapsed time 10.60 sec\n",
      "EvaluatorHoldout: Processed 35569 (100.0%) in 11.96 sec. Users per second: 2973\n",
      "RP3betaRecommender: Similarity column 38121 (100.0%), 3570.33 column/sec. Elapsed time 10.68 sec\n",
      "EvaluatorHoldout: Processed 35581 (100.0%) in 11.93 sec. Users per second: 2983\n",
      "RP3betaRecommender: Similarity column 38121 (100.0%), 3555.35 column/sec. Elapsed time 10.72 sec\n",
      "EvaluatorHoldout: Processed 35569 (100.0%) in 11.94 sec. Users per second: 2978\n",
      "RP3betaRecommender: Similarity column 38121 (100.0%), 3507.01 column/sec. Elapsed time 10.87 sec\n",
      "EvaluatorHoldout: Processed 35573 (100.0%) in 12.36 sec. Users per second: 2877\n",
      "RP3betaRecommender: Similarity column 38121 (100.0%), 3548.09 column/sec. Elapsed time 10.74 sec\n",
      "EvaluatorHoldout: Processed 35567 (100.0%) in 12.29 sec. Users per second: 2895\n",
      "RP3betaRecommender: Similarity column 38121 (100.0%), 3530.12 column/sec. Elapsed time 10.80 sec\n",
      "EvaluatorHoldout: Processed 35582 (100.0%) in 12.29 sec. Users per second: 2896\n",
      "RP3betaRecommender: Similarity column 38121 (100.0%), 3612.95 column/sec. Elapsed time 10.55 sec\n",
      "EvaluatorHoldout: Processed 35567 (100.0%) in 12.28 sec. Users per second: 2897\n",
      "RP3betaRecommender: Similarity column 38121 (100.0%), 3099.91 column/sec. Elapsed time 12.30 sec\n",
      "EvaluatorHoldout: Processed 35578 (100.0%) in 12.32 sec. Users per second: 2889\n",
      "RP3betaRecommender: Similarity column 38121 (100.0%), 3321.06 column/sec. Elapsed time 11.48 sec\n",
      "EvaluatorHoldout: Processed 35563 (100.0%) in 12.26 sec. Users per second: 2900\n",
      "RP3betaRecommender: Similarity column 38121 (100.0%), 3586.71 column/sec. Elapsed time 10.63 sec\n",
      "EvaluatorHoldout: Processed 35560 (100.0%) in 12.26 sec. Users per second: 2901\n"
     ]
    },
    {
     "name": "stderr",
     "output_type": "stream",
     "text": [
      "[I 2024-12-24 10:33:52,943] Trial 16 finished with value: 0.04788197183688175 and parameters: {'topK': 56, 'alpha': 1.0572208688159899, 'beta': 0.45080159837651496}. Best is trial 11 with value: 0.0488217987531306.\n"
     ]
    },
    {
     "name": "stdout",
     "output_type": "stream",
     "text": [
      "RP3betaRecommender: Similarity column 38121 (100.0%), 2604.31 column/sec. Elapsed time 14.64 sec\n",
      "EvaluatorHoldout: Processed 35569 (100.0%) in 14.35 sec. Users per second: 2479\n",
      "RP3betaRecommender: Similarity column 38121 (100.0%), 2955.48 column/sec. Elapsed time 12.90 sec\n",
      "EvaluatorHoldout: Processed 35581 (100.0%) in 14.49 sec. Users per second: 2456\n",
      "RP3betaRecommender: Similarity column 38121 (100.0%), 2923.40 column/sec. Elapsed time 13.04 sec\n",
      "EvaluatorHoldout: Processed 35569 (100.0%) in 14.49 sec. Users per second: 2455\n",
      "RP3betaRecommender: Similarity column 38121 (100.0%), 2902.57 column/sec. Elapsed time 13.13 sec\n",
      "EvaluatorHoldout: Processed 35573 (100.0%) in 14.50 sec. Users per second: 2453\n",
      "RP3betaRecommender: Similarity column 38121 (100.0%), 2945.72 column/sec. Elapsed time 12.94 sec\n",
      "EvaluatorHoldout: Processed 35567 (100.0%) in 14.45 sec. Users per second: 2462\n",
      "RP3betaRecommender: Similarity column 38121 (100.0%), 2910.29 column/sec. Elapsed time 13.10 sec\n",
      "EvaluatorHoldout: Processed 35582 (100.0%) in 14.48 sec. Users per second: 2457\n",
      "RP3betaRecommender: Similarity column 38121 (100.0%), 2964.33 column/sec. Elapsed time 12.86 sec\n",
      "EvaluatorHoldout: Processed 35567 (100.0%) in 14.46 sec. Users per second: 2459\n",
      "RP3betaRecommender: Similarity column 38121 (100.0%), 2919.09 column/sec. Elapsed time 13.06 sec\n",
      "EvaluatorHoldout: Processed 35578 (100.0%) in 14.47 sec. Users per second: 2459\n",
      "RP3betaRecommender: Similarity column 38121 (100.0%), 2922.53 column/sec. Elapsed time 13.04 sec\n",
      "EvaluatorHoldout: Processed 35563 (100.0%) in 14.46 sec. Users per second: 2459\n",
      "RP3betaRecommender: Similarity column 38121 (100.0%), 2700.16 column/sec. Elapsed time 14.12 sec\n",
      "EvaluatorHoldout: Processed 35560 (100.0%) in 14.46 sec. Users per second: 2460\n"
     ]
    },
    {
     "name": "stderr",
     "output_type": "stream",
     "text": [
      "[I 2024-12-24 10:39:04,787] Trial 17 finished with value: 0.04362569710268741 and parameters: {'topK': 143, 'alpha': 0.49252636657280807, 'beta': 0.6504886560020942}. Best is trial 11 with value: 0.0488217987531306.\n"
     ]
    },
    {
     "name": "stdout",
     "output_type": "stream",
     "text": [
      "RP3betaRecommender: Similarity column 38121 (100.0%), 3590.30 column/sec. Elapsed time 10.62 sec\n",
      "EvaluatorHoldout: Processed 35569 (100.0%) in 12.14 sec. Users per second: 2930\n",
      "RP3betaRecommender: Similarity column 38121 (100.0%), 3607.66 column/sec. Elapsed time 10.57 sec\n",
      "EvaluatorHoldout: Processed 35581 (100.0%) in 12.05 sec. Users per second: 2952\n",
      "RP3betaRecommender: Similarity column 38121 (100.0%), 3524.18 column/sec. Elapsed time 10.82 sec\n",
      "EvaluatorHoldout: Processed 35569 (100.0%) in 12.07 sec. Users per second: 2948\n",
      "RP3betaRecommender: Similarity column 38121 (100.0%), 3558.32 column/sec. Elapsed time 10.71 sec\n",
      "EvaluatorHoldout: Processed 35573 (100.0%) in 12.10 sec. Users per second: 2939\n",
      "RP3betaRecommender: Similarity column 38121 (100.0%), 3620.37 column/sec. Elapsed time 10.53 sec\n",
      "EvaluatorHoldout: Processed 35567 (100.0%) in 12.09 sec. Users per second: 2943\n",
      "RP3betaRecommender: Similarity column 38121 (100.0%), 3330.52 column/sec. Elapsed time 11.45 sec\n",
      "EvaluatorHoldout: Processed 35582 (100.0%) in 12.10 sec. Users per second: 2941\n",
      "RP3betaRecommender: Similarity column 38121 (100.0%), 3568.66 column/sec. Elapsed time 10.68 sec\n",
      "EvaluatorHoldout: Processed 35567 (100.0%) in 12.07 sec. Users per second: 2947\n",
      "RP3betaRecommender: Similarity column 38121 (100.0%), 3606.63 column/sec. Elapsed time 10.57 sec\n",
      "EvaluatorHoldout: Processed 35578 (100.0%) in 12.11 sec. Users per second: 2938\n",
      "RP3betaRecommender: Similarity column 38121 (100.0%), 3558.67 column/sec. Elapsed time 10.71 sec\n",
      "EvaluatorHoldout: Processed 35563 (100.0%) in 12.07 sec. Users per second: 2945\n",
      "RP3betaRecommender: Similarity column 38121 (100.0%), 3537.16 column/sec. Elapsed time 10.78 sec\n",
      "EvaluatorHoldout: Processed 35560 (100.0%) in 12.07 sec. Users per second: 2946\n"
     ]
    },
    {
     "name": "stderr",
     "output_type": "stream",
     "text": [
      "[I 2024-12-24 10:43:06,561] Trial 18 finished with value: 0.037009631328994486 and parameters: {'topK': 56, 'alpha': 0.6468444538165565, 'beta': 0.8180395912847747}. Best is trial 11 with value: 0.0488217987531306.\n"
     ]
    },
    {
     "name": "stdout",
     "output_type": "stream",
     "text": [
      "RP3betaRecommender: Similarity column 38121 (100.0%), 3942.99 column/sec. Elapsed time 9.67 sec\n",
      "EvaluatorHoldout: Processed 35569 (100.0%) in 10.67 sec. Users per second: 3333\n",
      "RP3betaRecommender: Similarity column 38121 (100.0%), 3925.62 column/sec. Elapsed time 9.71 sec\n",
      "EvaluatorHoldout: Processed 35581 (100.0%) in 10.66 sec. Users per second: 3337\n",
      "RP3betaRecommender: Similarity column 38121 (100.0%), 3902.12 column/sec. Elapsed time 9.77 sec\n",
      "EvaluatorHoldout: Processed 35569 (100.0%) in 10.63 sec. Users per second: 3347\n",
      "RP3betaRecommender: Similarity column 38121 (100.0%), 3987.47 column/sec. Elapsed time 9.56 sec\n",
      "EvaluatorHoldout: Processed 35573 (100.0%) in 10.72 sec. Users per second: 3317\n",
      "RP3betaRecommender: Similarity column 38121 (100.0%), 3847.69 column/sec. Elapsed time 9.91 sec\n",
      "EvaluatorHoldout: Processed 35567 (100.0%) in 10.67 sec. Users per second: 3335\n",
      "RP3betaRecommender: Similarity column 38121 (100.0%), 3931.24 column/sec. Elapsed time 9.70 sec\n",
      "EvaluatorHoldout: Processed 35582 (100.0%) in 10.65 sec. Users per second: 3343\n",
      "RP3betaRecommender: Similarity column 38121 (100.0%), 3912.68 column/sec. Elapsed time 9.74 sec\n",
      "EvaluatorHoldout: Processed 35567 (100.0%) in 10.70 sec. Users per second: 3325\n",
      "RP3betaRecommender: Similarity column 38121 (100.0%), 3923.04 column/sec. Elapsed time 9.72 sec\n",
      "EvaluatorHoldout: Processed 35578 (100.0%) in 10.66 sec. Users per second: 3337\n",
      "RP3betaRecommender: Similarity column 38121 (100.0%), 3986.95 column/sec. Elapsed time 9.56 sec\n",
      "EvaluatorHoldout: Processed 35563 (100.0%) in 10.60 sec. Users per second: 3354\n",
      "RP3betaRecommender: Similarity column 38121 (100.0%), 3939.09 column/sec. Elapsed time 9.68 sec\n",
      "EvaluatorHoldout: Processed 35560 (100.0%) in 10.64 sec. Users per second: 3342\n"
     ]
    },
    {
     "name": "stderr",
     "output_type": "stream",
     "text": [
      "[I 2024-12-24 10:46:35,339] Trial 19 finished with value: 0.054877525259747706 and parameters: {'topK': 16, 'alpha': 0.407976373301422, 'beta': 0.11931436991116279}. Best is trial 19 with value: 0.054877525259747706.\n"
     ]
    },
    {
     "name": "stdout",
     "output_type": "stream",
     "text": [
      "RP3betaRecommender: Similarity column 38121 (100.0%), 3814.29 column/sec. Elapsed time 9.99 sec\n",
      "EvaluatorHoldout: Processed 35569 (100.0%) in 10.61 sec. Users per second: 3351\n",
      "RP3betaRecommender: Similarity column 38121 (100.0%), 3538.96 column/sec. Elapsed time 10.77 sec\n",
      "EvaluatorHoldout: Processed 35581 (100.0%) in 10.63 sec. Users per second: 3347\n",
      "RP3betaRecommender: Similarity column 38121 (100.0%), 3902.78 column/sec. Elapsed time 9.77 sec\n",
      "EvaluatorHoldout: Processed 35569 (100.0%) in 10.62 sec. Users per second: 3349\n",
      "RP3betaRecommender: Similarity column 38121 (100.0%), 3792.95 column/sec. Elapsed time 10.05 sec\n",
      "EvaluatorHoldout: Processed 35573 (100.0%) in 10.66 sec. Users per second: 3338\n",
      "RP3betaRecommender: Similarity column 38121 (100.0%), 3958.78 column/sec. Elapsed time 9.63 sec\n",
      "EvaluatorHoldout: Processed 35567 (100.0%) in 10.61 sec. Users per second: 3353\n",
      "RP3betaRecommender: Similarity column 38121 (100.0%), 4011.76 column/sec. Elapsed time 9.50 sec\n",
      "EvaluatorHoldout: Processed 35582 (100.0%) in 10.57 sec. Users per second: 3366\n",
      "RP3betaRecommender: Similarity column 38121 (100.0%), 3942.65 column/sec. Elapsed time 9.67 sec\n",
      "EvaluatorHoldout: Processed 35567 (100.0%) in 10.63 sec. Users per second: 3347\n",
      "RP3betaRecommender: Similarity column 38121 (100.0%), 3659.23 column/sec. Elapsed time 10.42 sec\n",
      "EvaluatorHoldout: Processed 35578 (100.0%) in 10.63 sec. Users per second: 3347\n",
      "RP3betaRecommender: Similarity column 38121 (100.0%), 3994.08 column/sec. Elapsed time 9.54 sec\n",
      "EvaluatorHoldout: Processed 35563 (100.0%) in 10.60 sec. Users per second: 3355\n",
      "RP3betaRecommender: Similarity column 38121 (100.0%), 4030.81 column/sec. Elapsed time 9.46 sec\n",
      "EvaluatorHoldout: Processed 35560 (100.0%) in 10.62 sec. Users per second: 3348\n"
     ]
    },
    {
     "name": "stderr",
     "output_type": "stream",
     "text": [
      "[I 2024-12-24 10:50:05,147] Trial 20 finished with value: 0.05485618995444563 and parameters: {'topK': 14, 'alpha': 0.4323464458030152, 'beta': 0.1029046323651423}. Best is trial 19 with value: 0.054877525259747706.\n"
     ]
    },
    {
     "name": "stdout",
     "output_type": "stream",
     "text": [
      "RP3betaRecommender: Similarity column 38121 (100.0%), 4035.99 column/sec. Elapsed time 9.45 sec\n",
      "EvaluatorHoldout: Processed 35569 (100.0%) in 10.39 sec. Users per second: 3424\n",
      "RP3betaRecommender: Similarity column 38121 (100.0%), 4078.55 column/sec. Elapsed time 9.35 sec\n",
      "EvaluatorHoldout: Processed 35581 (100.0%) in 10.41 sec. Users per second: 3417\n",
      "RP3betaRecommender: Similarity column 38121 (100.0%), 4084.52 column/sec. Elapsed time 9.33 sec\n",
      "EvaluatorHoldout: Processed 35569 (100.0%) in 10.41 sec. Users per second: 3417\n",
      "RP3betaRecommender: Similarity column 38121 (100.0%), 3723.55 column/sec. Elapsed time 10.24 sec\n",
      "EvaluatorHoldout: Processed 35573 (100.0%) in 10.41 sec. Users per second: 3419\n",
      "RP3betaRecommender: Similarity column 38121 (100.0%), 4124.82 column/sec. Elapsed time 9.24 sec\n",
      "EvaluatorHoldout: Processed 35567 (100.0%) in 10.40 sec. Users per second: 3419\n",
      "RP3betaRecommender: Similarity column 38121 (100.0%), 4112.14 column/sec. Elapsed time 9.27 sec\n",
      "EvaluatorHoldout: Processed 35582 (100.0%) in 10.42 sec. Users per second: 3415\n",
      "RP3betaRecommender: Similarity column 38121 (100.0%), 3999.93 column/sec. Elapsed time 9.53 sec\n",
      "EvaluatorHoldout: Processed 35567 (100.0%) in 10.38 sec. Users per second: 3425\n",
      "RP3betaRecommender: Similarity column 38121 (100.0%), 4124.27 column/sec. Elapsed time 9.24 sec\n",
      "EvaluatorHoldout: Processed 35578 (100.0%) in 10.42 sec. Users per second: 3416\n",
      "RP3betaRecommender: Similarity column 38121 (100.0%), 4097.15 column/sec. Elapsed time 9.30 sec\n",
      "EvaluatorHoldout: Processed 35563 (100.0%) in 10.42 sec. Users per second: 3413\n",
      "RP3betaRecommender: Similarity column 38121 (100.0%), 3788.55 column/sec. Elapsed time 10.06 sec\n",
      "EvaluatorHoldout: Processed 35560 (100.0%) in 10.41 sec. Users per second: 3417\n"
     ]
    },
    {
     "name": "stderr",
     "output_type": "stream",
     "text": [
      "[I 2024-12-24 10:53:27,878] Trial 21 finished with value: 0.05246387486140097 and parameters: {'topK': 6, 'alpha': 0.43568225989006626, 'beta': 0.11556327146207707}. Best is trial 19 with value: 0.054877525259747706.\n"
     ]
    },
    {
     "name": "stdout",
     "output_type": "stream",
     "text": [
      "RP3betaRecommender: Similarity column 38121 (100.0%), 4078.00 column/sec. Elapsed time 9.35 sec\n",
      "EvaluatorHoldout: Processed 35569 (100.0%) in 10.41 sec. Users per second: 3418\n",
      "RP3betaRecommender: Similarity column 38121 (100.0%), 4127.39 column/sec. Elapsed time 9.24 sec\n",
      "EvaluatorHoldout: Processed 35581 (100.0%) in 10.38 sec. Users per second: 3429\n",
      "RP3betaRecommender: Similarity column 38121 (100.0%), 3551.17 column/sec. Elapsed time 10.73 sec\n",
      "EvaluatorHoldout: Processed 35569 (100.0%) in 10.36 sec. Users per second: 3433\n",
      "RP3betaRecommender: Similarity column 38121 (100.0%), 4132.05 column/sec. Elapsed time 9.23 sec\n",
      "EvaluatorHoldout: Processed 35573 (100.0%) in 10.40 sec. Users per second: 3419\n",
      "RP3betaRecommender: Similarity column 38121 (100.0%), 3640.41 column/sec. Elapsed time 10.47 sec\n",
      "EvaluatorHoldout: Processed 35567 (100.0%) in 10.42 sec. Users per second: 3415\n",
      "RP3betaRecommender: Similarity column 38121 (100.0%), 4027.75 column/sec. Elapsed time 9.46 sec\n",
      "EvaluatorHoldout: Processed 35582 (100.0%) in 10.41 sec. Users per second: 3419\n",
      "RP3betaRecommender: Similarity column 38121 (100.0%), 4120.05 column/sec. Elapsed time 9.25 sec\n",
      "EvaluatorHoldout: Processed 35567 (100.0%) in 10.39 sec. Users per second: 3423\n",
      "RP3betaRecommender: Similarity column 38121 (100.0%), 3620.52 column/sec. Elapsed time 10.53 sec\n",
      "EvaluatorHoldout: Processed 35578 (100.0%) in 10.38 sec. Users per second: 3429\n",
      "RP3betaRecommender: Similarity column 38121 (100.0%), 4111.07 column/sec. Elapsed time 9.27 sec\n",
      "EvaluatorHoldout: Processed 35563 (100.0%) in 10.41 sec. Users per second: 3415\n",
      "RP3betaRecommender: Similarity column 38121 (100.0%), 4040.55 column/sec. Elapsed time 9.43 sec\n",
      "EvaluatorHoldout: Processed 35560 (100.0%) in 10.39 sec. Users per second: 3421\n"
     ]
    },
    {
     "name": "stderr",
     "output_type": "stream",
     "text": [
      "[I 2024-12-24 10:56:52,274] Trial 22 finished with value: 0.05089447026200431 and parameters: {'topK': 5, 'alpha': 0.4262464197158022, 'beta': 0.10464948977963112}. Best is trial 19 with value: 0.054877525259747706.\n"
     ]
    },
    {
     "name": "stdout",
     "output_type": "stream",
     "text": [
      "RP3betaRecommender: Similarity column 38121 (100.0%), 3628.30 column/sec. Elapsed time 10.51 sec\n",
      "EvaluatorHoldout: Processed 35569 (100.0%) in 10.96 sec. Users per second: 3244\n",
      "RP3betaRecommender: Similarity column 38121 (100.0%), 3756.62 column/sec. Elapsed time 10.15 sec\n",
      "EvaluatorHoldout: Processed 35581 (100.0%) in 10.81 sec. Users per second: 3293\n",
      "RP3betaRecommender: Similarity column 38121 (100.0%), 3931.28 column/sec. Elapsed time 9.70 sec\n",
      "EvaluatorHoldout: Processed 35569 (100.0%) in 10.76 sec. Users per second: 3305\n",
      "RP3betaRecommender: Similarity column 38121 (100.0%), 3795.91 column/sec. Elapsed time 10.04 sec\n",
      "EvaluatorHoldout: Processed 35573 (100.0%) in 10.73 sec. Users per second: 3317\n",
      "RP3betaRecommender: Similarity column 38121 (100.0%), 3802.42 column/sec. Elapsed time 10.03 sec\n",
      "EvaluatorHoldout: Processed 35567 (100.0%) in 10.70 sec. Users per second: 3325\n",
      "RP3betaRecommender: Similarity column 38121 (100.0%), 3819.36 column/sec. Elapsed time 9.98 sec\n",
      "EvaluatorHoldout: Processed 35582 (100.0%) in 10.71 sec. Users per second: 3324\n",
      "RP3betaRecommender: Similarity column 38121 (100.0%), 3898.73 column/sec. Elapsed time 9.78 sec\n",
      "EvaluatorHoldout: Processed 35567 (100.0%) in 10.67 sec. Users per second: 3332\n",
      "RP3betaRecommender: Similarity column 38121 (100.0%), 3831.41 column/sec. Elapsed time 9.95 sec\n",
      "EvaluatorHoldout: Processed 35578 (100.0%) in 10.83 sec. Users per second: 3285\n",
      "RP3betaRecommender: Similarity column 38121 (100.0%), 3831.62 column/sec. Elapsed time 9.95 sec\n",
      "EvaluatorHoldout: Processed 35563 (100.0%) in 10.69 sec. Users per second: 3327\n",
      "RP3betaRecommender: Similarity column 38121 (100.0%), 3803.69 column/sec. Elapsed time 10.02 sec\n",
      "EvaluatorHoldout: Processed 35560 (100.0%) in 10.65 sec. Users per second: 3340\n"
     ]
    },
    {
     "name": "stderr",
     "output_type": "stream",
     "text": [
      "[I 2024-12-24 11:00:27,535] Trial 23 finished with value: 0.05297526531510414 and parameters: {'topK': 29, 'alpha': 0.7500731010746653, 'beta': 0.10263452164211267}. Best is trial 19 with value: 0.054877525259747706.\n"
     ]
    },
    {
     "name": "stdout",
     "output_type": "stream",
     "text": [
      "RP3betaRecommender: Similarity column 38121 (100.0%), 3788.64 column/sec. Elapsed time 10.06 sec\n",
      "EvaluatorHoldout: Processed 35569 (100.0%) in 10.87 sec. Users per second: 3272\n",
      "RP3betaRecommender: Similarity column 38121 (100.0%), 3798.01 column/sec. Elapsed time 10.04 sec\n",
      "EvaluatorHoldout: Processed 35581 (100.0%) in 10.85 sec. Users per second: 3278\n",
      "RP3betaRecommender: Similarity column 38121 (100.0%), 3796.99 column/sec. Elapsed time 10.04 sec\n",
      "EvaluatorHoldout: Processed 35569 (100.0%) in 10.88 sec. Users per second: 3269\n",
      "RP3betaRecommender: Similarity column 38121 (100.0%), 3795.09 column/sec. Elapsed time 10.04 sec\n",
      "EvaluatorHoldout: Processed 35573 (100.0%) in 10.89 sec. Users per second: 3268\n",
      "RP3betaRecommender: Similarity column 38121 (100.0%), 3696.78 column/sec. Elapsed time 10.31 sec\n",
      "EvaluatorHoldout: Processed 35567 (100.0%) in 11.68 sec. Users per second: 3044\n",
      "RP3betaRecommender: Similarity column 38121 (100.0%), 3729.86 column/sec. Elapsed time 10.22 sec\n",
      "EvaluatorHoldout: Processed 35582 (100.0%) in 11.53 sec. Users per second: 3087\n",
      "RP3betaRecommender: Similarity column 38121 (100.0%), 3452.65 column/sec. Elapsed time 11.04 sec\n",
      "EvaluatorHoldout: Processed 35567 (100.0%) in 10.95 sec. Users per second: 3249\n",
      "RP3betaRecommender: Similarity column 38121 (100.0%), 3400.85 column/sec. Elapsed time 11.21 sec\n",
      "EvaluatorHoldout: Processed 35578 (100.0%) in 10.85 sec. Users per second: 3280\n",
      "RP3betaRecommender: Similarity column 38121 (100.0%), 3821.26 column/sec. Elapsed time 9.98 sec\n",
      "EvaluatorHoldout: Processed 35563 (100.0%) in 10.68 sec. Users per second: 3329\n",
      "RP3betaRecommender: Similarity column 38121 (100.0%), 3875.56 column/sec. Elapsed time 9.84 sec\n",
      "EvaluatorHoldout: Processed 35560 (100.0%) in 10.62 sec. Users per second: 3348\n"
     ]
    },
    {
     "name": "stderr",
     "output_type": "stream",
     "text": [
      "[I 2024-12-24 11:04:08,721] Trial 24 finished with value: 0.053208140229484294 and parameters: {'topK': 31, 'alpha': 0.7224969603176781, 'beta': 0.19926684026950608}. Best is trial 19 with value: 0.054877525259747706.\n"
     ]
    },
    {
     "name": "stdout",
     "output_type": "stream",
     "text": [
      "RP3betaRecommender: Similarity column 38121 (100.0%), 3780.75 column/sec. Elapsed time 10.08 sec\n",
      "EvaluatorHoldout: Processed 35569 (100.0%) in 10.97 sec. Users per second: 3242\n",
      "RP3betaRecommender: Similarity column 38121 (100.0%), 3754.39 column/sec. Elapsed time 10.15 sec\n",
      "EvaluatorHoldout: Processed 35581 (100.0%) in 10.96 sec. Users per second: 3247\n",
      "RP3betaRecommender: Similarity column 38121 (100.0%), 3781.09 column/sec. Elapsed time 10.08 sec\n",
      "EvaluatorHoldout: Processed 35569 (100.0%) in 11.02 sec. Users per second: 3227\n",
      "RP3betaRecommender: Similarity column 38121 (100.0%), 3819.26 column/sec. Elapsed time 9.98 sec\n",
      "EvaluatorHoldout: Processed 35573 (100.0%) in 11.73 sec. Users per second: 3032\n",
      "RP3betaRecommender: Similarity column 38121 (100.0%), 3653.89 column/sec. Elapsed time 10.43 sec\n",
      "EvaluatorHoldout: Processed 35567 (100.0%) in 11.37 sec. Users per second: 3128\n",
      "RP3betaRecommender: Similarity column 38121 (100.0%), 3500.43 column/sec. Elapsed time 10.89 sec\n",
      "EvaluatorHoldout: Processed 35582 (100.0%) in 11.35 sec. Users per second: 3134\n",
      "RP3betaRecommender: Similarity column 38121 (100.0%), 3620.55 column/sec. Elapsed time 10.53 sec\n",
      "EvaluatorHoldout: Processed 35567 (100.0%) in 11.89 sec. Users per second: 2991\n",
      "RP3betaRecommender: Similarity column 38121 (100.0%), 3245.18 column/sec. Elapsed time 11.75 sec\n",
      "EvaluatorHoldout: Processed 35578 (100.0%) in 11.60 sec. Users per second: 3067\n",
      "RP3betaRecommender: Similarity column 38121 (100.0%), 3364.10 column/sec. Elapsed time 11.33 sec\n",
      "EvaluatorHoldout: Processed 35563 (100.0%) in 11.55 sec. Users per second: 3080\n",
      "RP3betaRecommender: Similarity column 38121 (100.0%), 3607.96 column/sec. Elapsed time 10.57 sec\n",
      "EvaluatorHoldout: Processed 35560 (100.0%) in 11.72 sec. Users per second: 3034\n"
     ]
    },
    {
     "name": "stderr",
     "output_type": "stream",
     "text": [
      "[I 2024-12-24 11:07:59,300] Trial 25 finished with value: 0.05072561785656134 and parameters: {'topK': 39, 'alpha': 1.0393562514084334, 'beta': 0.24044275767699996}. Best is trial 19 with value: 0.054877525259747706.\n"
     ]
    },
    {
     "name": "stdout",
     "output_type": "stream",
     "text": [
      "RP3betaRecommender: Similarity column 38121 (100.0%), 3298.10 column/sec. Elapsed time 11.56 sec\n",
      "EvaluatorHoldout: Processed 35569 (100.0%) in 12.42 sec. Users per second: 2863\n",
      "RP3betaRecommender: Similarity column 38121 (100.0%), 3302.23 column/sec. Elapsed time 11.54 sec\n",
      "EvaluatorHoldout: Processed 35581 (100.0%) in 12.44 sec. Users per second: 2859\n",
      "RP3betaRecommender: Similarity column 38121 (100.0%), 3211.38 column/sec. Elapsed time 11.87 sec\n",
      "EvaluatorHoldout: Processed 35569 (100.0%) in 13.32 sec. Users per second: 2671\n",
      "RP3betaRecommender: Similarity column 38121 (100.0%), 3368.54 column/sec. Elapsed time 11.32 sec\n",
      "EvaluatorHoldout: Processed 35573 (100.0%) in 12.05 sec. Users per second: 2953\n",
      "RP3betaRecommender: Similarity column 38121 (100.0%), 3171.14 column/sec. Elapsed time 12.02 sec\n",
      "EvaluatorHoldout: Processed 35567 (100.0%) in 12.59 sec. Users per second: 2826\n",
      "RP3betaRecommender: Similarity column 38121 (100.0%), 3319.71 column/sec. Elapsed time 11.48 sec\n",
      "EvaluatorHoldout: Processed 35582 (100.0%) in 11.98 sec. Users per second: 2970\n",
      "RP3betaRecommender: Similarity column 38121 (100.0%), 3385.52 column/sec. Elapsed time 11.26 sec\n",
      "EvaluatorHoldout: Processed 35567 (100.0%) in 12.46 sec. Users per second: 2854\n",
      "RP3betaRecommender: Similarity column 38121 (100.0%), 3340.50 column/sec. Elapsed time 11.41 sec\n",
      "EvaluatorHoldout: Processed 35578 (100.0%) in 12.07 sec. Users per second: 2947\n",
      "RP3betaRecommender: Similarity column 38121 (100.0%), 3396.52 column/sec. Elapsed time 11.22 sec\n",
      "EvaluatorHoldout: Processed 35563 (100.0%) in 12.00 sec. Users per second: 2962\n",
      "RP3betaRecommender: Similarity column 38121 (100.0%), 3391.86 column/sec. Elapsed time 11.24 sec\n",
      "EvaluatorHoldout: Processed 35560 (100.0%) in 11.98 sec. Users per second: 2967\n"
     ]
    },
    {
     "name": "stderr",
     "output_type": "stream",
     "text": [
      "[I 2024-12-24 11:12:15,074] Trial 26 finished with value: 0.05042181212684094 and parameters: {'topK': 75, 'alpha': 0.6879392495214994, 'beta': 0.19075880432028003}. Best is trial 19 with value: 0.054877525259747706.\n"
     ]
    },
    {
     "name": "stdout",
     "output_type": "stream",
     "text": [
      "RP3betaRecommender: Similarity column 38121 (100.0%), 3779.48 column/sec. Elapsed time 10.09 sec\n",
      "EvaluatorHoldout: Processed 35569 (100.0%) in 11.09 sec. Users per second: 3207\n",
      "RP3betaRecommender: Similarity column 38121 (100.0%), 3809.55 column/sec. Elapsed time 10.01 sec\n",
      "EvaluatorHoldout: Processed 35581 (100.0%) in 11.05 sec. Users per second: 3220\n",
      "RP3betaRecommender: Similarity column 38121 (100.0%), 3804.47 column/sec. Elapsed time 10.02 sec\n",
      "EvaluatorHoldout: Processed 35569 (100.0%) in 10.88 sec. Users per second: 3268\n",
      "RP3betaRecommender: Similarity column 38121 (100.0%), 3968.25 column/sec. Elapsed time 9.61 sec\n",
      "EvaluatorHoldout: Processed 35573 (100.0%) in 11.08 sec. Users per second: 3211\n",
      "RP3betaRecommender: Similarity column 38121 (100.0%), 3818.88 column/sec. Elapsed time 9.98 sec\n",
      "EvaluatorHoldout: Processed 35567 (100.0%) in 11.58 sec. Users per second: 3072\n",
      "RP3betaRecommender: Similarity column 38121 (100.0%), 3759.06 column/sec. Elapsed time 10.14 sec\n",
      "EvaluatorHoldout: Processed 35582 (100.0%) in 10.99 sec. Users per second: 3239\n",
      "RP3betaRecommender: Similarity column 38121 (100.0%), 3798.90 column/sec. Elapsed time 10.03 sec\n",
      "EvaluatorHoldout: Processed 35567 (100.0%) in 11.25 sec. Users per second: 3161\n",
      "RP3betaRecommender: Similarity column 38121 (100.0%), 3849.33 column/sec. Elapsed time 9.90 sec\n",
      "EvaluatorHoldout: Processed 35578 (100.0%) in 11.03 sec. Users per second: 3225\n",
      "RP3betaRecommender: Similarity column 38121 (100.0%), 3782.25 column/sec. Elapsed time 10.08 sec\n",
      "EvaluatorHoldout: Processed 35563 (100.0%) in 11.02 sec. Users per second: 3228\n",
      "RP3betaRecommender: Similarity column 38121 (100.0%), 3807.27 column/sec. Elapsed time 10.01 sec\n",
      "EvaluatorHoldout: Processed 35560 (100.0%) in 11.02 sec. Users per second: 3227\n"
     ]
    },
    {
     "name": "stderr",
     "output_type": "stream",
     "text": [
      "[I 2024-12-24 11:15:54,789] Trial 27 finished with value: 0.05371019610268905 and parameters: {'topK': 30, 'alpha': 0.5270391691180607, 'beta': 0.29886606974322083}. Best is trial 19 with value: 0.054877525259747706.\n"
     ]
    },
    {
     "name": "stdout",
     "output_type": "stream",
     "text": [
      "RP3betaRecommender: Similarity column 38121 (100.0%), 3016.23 column/sec. Elapsed time 12.64 sec\n",
      "EvaluatorHoldout: Processed 35569 (100.0%) in 12.18 sec. Users per second: 2920\n",
      "RP3betaRecommender: Similarity column 38121 (100.0%), 3404.72 column/sec. Elapsed time 11.20 sec\n",
      "EvaluatorHoldout: Processed 35581 (100.0%) in 12.32 sec. Users per second: 2887\n",
      "RP3betaRecommender: Similarity column 38121 (100.0%), 3384.94 column/sec. Elapsed time 11.26 sec\n",
      "EvaluatorHoldout: Processed 35569 (100.0%) in 11.92 sec. Users per second: 2983\n",
      "RP3betaRecommender: Similarity column 38121 (100.0%), 3477.41 column/sec. Elapsed time 10.96 sec\n",
      "EvaluatorHoldout: Processed 35573 (100.0%) in 12.28 sec. Users per second: 2898\n",
      "RP3betaRecommender: Similarity column 38121 (100.0%), 3409.25 column/sec. Elapsed time 11.18 sec\n",
      "EvaluatorHoldout: Processed 35567 (100.0%) in 12.40 sec. Users per second: 2868\n",
      "RP3betaRecommender: Similarity column 38121 (100.0%), 3419.66 column/sec. Elapsed time 11.15 sec\n",
      "EvaluatorHoldout: Processed 35582 (100.0%) in 12.27 sec. Users per second: 2900\n",
      "RP3betaRecommender: Similarity column 38121 (100.0%), 3102.56 column/sec. Elapsed time 12.29 sec\n",
      "EvaluatorHoldout: Processed 35567 (100.0%) in 12.24 sec. Users per second: 2905\n",
      "RP3betaRecommender: Similarity column 38121 (100.0%), 3377.71 column/sec. Elapsed time 11.29 sec\n",
      "EvaluatorHoldout: Processed 35578 (100.0%) in 13.42 sec. Users per second: 2651\n",
      "RP3betaRecommender: Similarity column 38121 (100.0%), 3057.04 column/sec. Elapsed time 12.47 sec\n",
      "EvaluatorHoldout: Processed 35563 (100.0%) in 12.87 sec. Users per second: 2763\n",
      "RP3betaRecommender: Similarity column 38121 (100.0%), 3340.13 column/sec. Elapsed time 11.41 sec\n",
      "EvaluatorHoldout: Processed 35560 (100.0%) in 12.56 sec. Users per second: 2831\n"
     ]
    },
    {
     "name": "stderr",
     "output_type": "stream",
     "text": [
      "[I 2024-12-24 11:20:13,820] Trial 28 finished with value: 0.05110668365642357 and parameters: {'topK': 75, 'alpha': 0.5193074520223672, 'beta': 0.3116788044692107}. Best is trial 19 with value: 0.054877525259747706.\n"
     ]
    },
    {
     "name": "stdout",
     "output_type": "stream",
     "text": [
      "RP3betaRecommender: Similarity column 38121 (100.0%), 3811.76 column/sec. Elapsed time 10.00 sec\n",
      "EvaluatorHoldout: Processed 35569 (100.0%) in 10.75 sec. Users per second: 3310\n",
      "RP3betaRecommender: Similarity column 38121 (100.0%), 3808.57 column/sec. Elapsed time 10.01 sec\n",
      "EvaluatorHoldout: Processed 35581 (100.0%) in 10.96 sec. Users per second: 3246\n",
      "RP3betaRecommender: Similarity column 38121 (100.0%), 3881.12 column/sec. Elapsed time 9.82 sec\n",
      "EvaluatorHoldout: Processed 35569 (100.0%) in 10.87 sec. Users per second: 3273\n",
      "RP3betaRecommender: Similarity column 38121 (100.0%), 3935.46 column/sec. Elapsed time 9.69 sec\n",
      "EvaluatorHoldout: Processed 35573 (100.0%) in 10.80 sec. Users per second: 3293\n",
      "RP3betaRecommender: Similarity column 38121 (100.0%), 3965.27 column/sec. Elapsed time 9.61 sec\n",
      "EvaluatorHoldout: Processed 35567 (100.0%) in 10.82 sec. Users per second: 3288\n",
      "RP3betaRecommender: Similarity column 38121 (100.0%), 3900.75 column/sec. Elapsed time 9.77 sec\n",
      "EvaluatorHoldout: Processed 35582 (100.0%) in 10.81 sec. Users per second: 3293\n",
      "RP3betaRecommender: Similarity column 38121 (100.0%), 3939.64 column/sec. Elapsed time 9.68 sec\n",
      "EvaluatorHoldout: Processed 35567 (100.0%) in 10.80 sec. Users per second: 3292\n",
      "RP3betaRecommender: Similarity column 38121 (100.0%), 3884.14 column/sec. Elapsed time 9.81 sec\n",
      "EvaluatorHoldout: Processed 35578 (100.0%) in 10.85 sec. Users per second: 3279\n",
      "RP3betaRecommender: Similarity column 38121 (100.0%), 3878.63 column/sec. Elapsed time 9.83 sec\n",
      "EvaluatorHoldout: Processed 35563 (100.0%) in 10.77 sec. Users per second: 3302\n",
      "RP3betaRecommender: Similarity column 38121 (100.0%), 3944.21 column/sec. Elapsed time 9.67 sec\n",
      "EvaluatorHoldout: Processed 35560 (100.0%) in 10.78 sec. Users per second: 3299\n"
     ]
    },
    {
     "name": "stderr",
     "output_type": "stream",
     "text": [
      "[I 2024-12-24 11:23:47,684] Trial 29 finished with value: 0.05403581143585399 and parameters: {'topK': 25, 'alpha': 0.5515767655009726, 'beta': 0.30017699720198643}. Best is trial 19 with value: 0.054877525259747706.\n"
     ]
    },
    {
     "name": "stdout",
     "output_type": "stream",
     "text": [
      "RP3betaRecommender: Similarity column 38121 (100.0%), 3545.51 column/sec. Elapsed time 10.75 sec\n",
      "EvaluatorHoldout: Processed 35569 (100.0%) in 10.55 sec. Users per second: 3371\n",
      "RP3betaRecommender: Similarity column 38121 (100.0%), 3822.28 column/sec. Elapsed time 9.97 sec\n",
      "EvaluatorHoldout: Processed 35581 (100.0%) in 10.83 sec. Users per second: 3286\n",
      "RP3betaRecommender: Similarity column 38121 (100.0%), 3702.10 column/sec. Elapsed time 10.30 sec\n",
      "EvaluatorHoldout: Processed 35569 (100.0%) in 10.80 sec. Users per second: 3292\n",
      "RP3betaRecommender: Similarity column 38121 (100.0%), 3969.26 column/sec. Elapsed time 9.60 sec\n",
      "EvaluatorHoldout: Processed 35573 (100.0%) in 10.49 sec. Users per second: 3390\n",
      "RP3betaRecommender: Similarity column 38121 (100.0%), 3902.42 column/sec. Elapsed time 9.77 sec\n",
      "EvaluatorHoldout: Processed 35567 (100.0%) in 10.56 sec. Users per second: 3368\n",
      "RP3betaRecommender: Similarity column 38121 (100.0%), 3939.93 column/sec. Elapsed time 9.68 sec\n",
      "EvaluatorHoldout: Processed 35582 (100.0%) in 10.49 sec. Users per second: 3392\n",
      "RP3betaRecommender: Similarity column 38121 (100.0%), 4002.68 column/sec. Elapsed time 9.52 sec\n",
      "EvaluatorHoldout: Processed 35567 (100.0%) in 10.77 sec. Users per second: 3302\n",
      "RP3betaRecommender: Similarity column 38121 (100.0%), 3808.12 column/sec. Elapsed time 10.01 sec\n",
      "EvaluatorHoldout: Processed 35578 (100.0%) in 10.83 sec. Users per second: 3286\n",
      "RP3betaRecommender: Similarity column 38121 (100.0%), 3883.25 column/sec. Elapsed time 9.82 sec\n",
      "EvaluatorHoldout: Processed 35563 (100.0%) in 10.59 sec. Users per second: 3358\n",
      "RP3betaRecommender: Similarity column 38121 (100.0%), 3862.59 column/sec. Elapsed time 9.87 sec\n",
      "EvaluatorHoldout: Processed 35560 (100.0%) in 10.51 sec. Users per second: 3384\n"
     ]
    },
    {
     "name": "stderr",
     "output_type": "stream",
     "text": [
      "[I 2024-12-24 11:27:19,380] Trial 30 finished with value: 0.054829946512400474 and parameters: {'topK': 19, 'alpha': 0.38933046136303784, 'beta': 0.15984503292238167}. Best is trial 19 with value: 0.054877525259747706.\n"
     ]
    },
    {
     "name": "stdout",
     "output_type": "stream",
     "text": [
      "RP3betaRecommender: Similarity column 38121 (100.0%), 3633.84 column/sec. Elapsed time 10.49 sec\n",
      "EvaluatorHoldout: Processed 35569 (100.0%) in 10.85 sec. Users per second: 3279\n",
      "RP3betaRecommender: Similarity column 38121 (100.0%), 3741.80 column/sec. Elapsed time 10.19 sec\n",
      "EvaluatorHoldout: Processed 35581 (100.0%) in 11.30 sec. Users per second: 3148\n",
      "RP3betaRecommender: Similarity column 38121 (100.0%), 3838.64 column/sec. Elapsed time 9.93 sec\n",
      "EvaluatorHoldout: Processed 35569 (100.0%) in 10.59 sec. Users per second: 3359\n",
      "RP3betaRecommender: Similarity column 38121 (100.0%), 3842.69 column/sec. Elapsed time 9.92 sec\n",
      "EvaluatorHoldout: Processed 35573 (100.0%) in 10.64 sec. Users per second: 3344\n",
      "RP3betaRecommender: Similarity column 38121 (100.0%), 3808.76 column/sec. Elapsed time 10.01 sec\n",
      "EvaluatorHoldout: Processed 35567 (100.0%) in 10.66 sec. Users per second: 3335\n",
      "RP3betaRecommender: Similarity column 38121 (100.0%), 3895.23 column/sec. Elapsed time 9.79 sec\n",
      "EvaluatorHoldout: Processed 35582 (100.0%) in 10.47 sec. Users per second: 3399\n",
      "RP3betaRecommender: Similarity column 38121 (100.0%), 3971.35 column/sec. Elapsed time 9.60 sec\n",
      "EvaluatorHoldout: Processed 35567 (100.0%) in 10.27 sec. Users per second: 3465\n",
      "RP3betaRecommender: Similarity column 38121 (100.0%), 3915.13 column/sec. Elapsed time 9.74 sec\n",
      "EvaluatorHoldout: Processed 35578 (100.0%) in 10.47 sec. Users per second: 3397\n",
      "RP3betaRecommender: Similarity column 38121 (100.0%), 3653.57 column/sec. Elapsed time 10.43 sec\n",
      "EvaluatorHoldout: Processed 35563 (100.0%) in 10.57 sec. Users per second: 3363\n",
      "RP3betaRecommender: Similarity column 38121 (100.0%), 3973.79 column/sec. Elapsed time 9.59 sec\n",
      "EvaluatorHoldout: Processed 35560 (100.0%) in 10.97 sec. Users per second: 3242\n"
     ]
    },
    {
     "name": "stderr",
     "output_type": "stream",
     "text": [
      "[I 2024-12-24 11:30:51,510] Trial 31 finished with value: 0.05492762162195084 and parameters: {'topK': 17, 'alpha': 0.4186185676486085, 'beta': 0.15545506915727927}. Best is trial 31 with value: 0.05492762162195084.\n"
     ]
    },
    {
     "name": "stdout",
     "output_type": "stream",
     "text": [
      "RP3betaRecommender: Similarity column 38121 (100.0%), 3444.78 column/sec. Elapsed time 11.07 sec\n",
      "EvaluatorHoldout: Processed 35569 (100.0%) in 11.87 sec. Users per second: 2997\n",
      "RP3betaRecommender: Similarity column 38121 (100.0%), 3106.85 column/sec. Elapsed time 12.27 sec\n",
      "EvaluatorHoldout: Processed 35581 (100.0%) in 11.44 sec. Users per second: 3111\n",
      "RP3betaRecommender: Similarity column 38121 (100.0%), 3532.82 column/sec. Elapsed time 10.79 sec\n",
      "EvaluatorHoldout: Processed 35569 (100.0%) in 11.45 sec. Users per second: 3107\n",
      "RP3betaRecommender: Similarity column 38121 (100.0%), 3601.85 column/sec. Elapsed time 10.58 sec\n",
      "EvaluatorHoldout: Processed 35573 (100.0%) in 11.38 sec. Users per second: 3126\n",
      "RP3betaRecommender: Similarity column 38121 (100.0%), 3515.65 column/sec. Elapsed time 10.84 sec\n",
      "EvaluatorHoldout: Processed 35567 (100.0%) in 11.86 sec. Users per second: 2998\n",
      "RP3betaRecommender: Similarity column 38121 (100.0%), 3317.55 column/sec. Elapsed time 11.49 sec\n",
      "EvaluatorHoldout: Processed 35582 (100.0%) in 11.84 sec. Users per second: 3005\n",
      "RP3betaRecommender: Similarity column 38121 (100.0%), 3384.79 column/sec. Elapsed time 11.26 sec\n",
      "EvaluatorHoldout: Processed 35567 (100.0%) in 11.94 sec. Users per second: 2979\n",
      "RP3betaRecommender: Similarity column 38121 (100.0%), 3382.89 column/sec. Elapsed time 11.27 sec\n",
      "EvaluatorHoldout: Processed 35578 (100.0%) in 11.83 sec. Users per second: 3008\n",
      "RP3betaRecommender: Similarity column 38121 (100.0%), 3216.94 column/sec. Elapsed time 11.85 sec\n",
      "EvaluatorHoldout: Processed 35563 (100.0%) in 11.73 sec. Users per second: 3031\n",
      "RP3betaRecommender: Similarity column 38121 (100.0%), 3345.50 column/sec. Elapsed time 11.39 sec\n",
      "EvaluatorHoldout: Processed 35560 (100.0%) in 11.55 sec. Users per second: 3079\n"
     ]
    },
    {
     "name": "stderr",
     "output_type": "stream",
     "text": [
      "[I 2024-12-24 11:34:54,164] Trial 32 finished with value: 0.0520463141836711 and parameters: {'topK': 55, 'alpha': 0.40564456405452115, 'beta': 0.16097227020974575}. Best is trial 31 with value: 0.05492762162195084.\n"
     ]
    },
    {
     "name": "stdout",
     "output_type": "stream",
     "text": [
      "RP3betaRecommender: Similarity column 38121 (100.0%), 3896.21 column/sec. Elapsed time 9.78 sec\n",
      "EvaluatorHoldout: Processed 35569 (100.0%) in 10.80 sec. Users per second: 3294\n",
      "RP3betaRecommender: Similarity column 38121 (100.0%), 3839.85 column/sec. Elapsed time 9.93 sec\n",
      "EvaluatorHoldout: Processed 35581 (100.0%) in 10.70 sec. Users per second: 3325\n",
      "RP3betaRecommender: Similarity column 38121 (100.0%), 3919.99 column/sec. Elapsed time 9.72 sec\n",
      "EvaluatorHoldout: Processed 35569 (100.0%) in 10.91 sec. Users per second: 3260\n",
      "RP3betaRecommender: Similarity column 38121 (100.0%), 3619.38 column/sec. Elapsed time 10.53 sec\n",
      "EvaluatorHoldout: Processed 35573 (100.0%) in 10.97 sec. Users per second: 3242\n",
      "RP3betaRecommender: Similarity column 38121 (100.0%), 3590.16 column/sec. Elapsed time 10.62 sec\n",
      "EvaluatorHoldout: Processed 35567 (100.0%) in 10.95 sec. Users per second: 3249\n",
      "RP3betaRecommender: Similarity column 38121 (100.0%), 3819.22 column/sec. Elapsed time 9.98 sec\n",
      "EvaluatorHoldout: Processed 35582 (100.0%) in 10.87 sec. Users per second: 3272\n",
      "RP3betaRecommender: Similarity column 38121 (100.0%), 3903.10 column/sec. Elapsed time 9.77 sec\n",
      "EvaluatorHoldout: Processed 35567 (100.0%) in 10.63 sec. Users per second: 3347\n",
      "RP3betaRecommender: Similarity column 38121 (100.0%), 3930.83 column/sec. Elapsed time 9.70 sec\n",
      "EvaluatorHoldout: Processed 35578 (100.0%) in 10.59 sec. Users per second: 3359\n",
      "RP3betaRecommender: Similarity column 38121 (100.0%), 3641.65 column/sec. Elapsed time 10.47 sec\n",
      "EvaluatorHoldout: Processed 35563 (100.0%) in 10.53 sec. Users per second: 3379\n",
      "RP3betaRecommender: Similarity column 38121 (100.0%), 3884.94 column/sec. Elapsed time 9.81 sec\n",
      "EvaluatorHoldout: Processed 35560 (100.0%) in 10.63 sec. Users per second: 3346\n"
     ]
    },
    {
     "name": "stderr",
     "output_type": "stream",
     "text": [
      "[I 2024-12-24 11:38:27,313] Trial 33 finished with value: 0.055050136852613105 and parameters: {'topK': 15, 'alpha': 0.3920675283371442, 'beta': 0.1504326590870335}. Best is trial 33 with value: 0.055050136852613105.\n"
     ]
    },
    {
     "name": "stdout",
     "output_type": "stream",
     "text": [
      "RP3betaRecommender: Similarity column 38121 (100.0%), 3224.05 column/sec. Elapsed time 11.82 sec\n",
      "EvaluatorHoldout: Processed 35569 (100.0%) in 12.10 sec. Users per second: 2941\n",
      "RP3betaRecommender: Similarity column 38121 (100.0%), 3367.66 column/sec. Elapsed time 11.32 sec\n",
      "EvaluatorHoldout: Processed 35581 (100.0%) in 12.06 sec. Users per second: 2950\n",
      "RP3betaRecommender: Similarity column 38121 (100.0%), 3107.56 column/sec. Elapsed time 12.27 sec\n",
      "EvaluatorHoldout: Processed 35569 (100.0%) in 12.16 sec. Users per second: 2926\n",
      "RP3betaRecommender: Similarity column 38121 (100.0%), 3042.78 column/sec. Elapsed time 12.53 sec\n",
      "EvaluatorHoldout: Processed 35573 (100.0%) in 12.09 sec. Users per second: 2943\n",
      "RP3betaRecommender: Similarity column 38121 (100.0%), 3326.41 column/sec. Elapsed time 11.46 sec\n",
      "EvaluatorHoldout: Processed 35567 (100.0%) in 12.04 sec. Users per second: 2955\n",
      "RP3betaRecommender: Similarity column 38121 (100.0%), 3405.09 column/sec. Elapsed time 11.20 sec\n",
      "EvaluatorHoldout: Processed 35582 (100.0%) in 12.14 sec. Users per second: 2932\n",
      "RP3betaRecommender: Similarity column 38121 (100.0%), 3173.43 column/sec. Elapsed time 12.01 sec\n",
      "EvaluatorHoldout: Processed 35567 (100.0%) in 12.39 sec. Users per second: 2870\n",
      "RP3betaRecommender: Similarity column 38121 (100.0%), 3404.07 column/sec. Elapsed time 11.20 sec\n",
      "EvaluatorHoldout: Processed 35578 (100.0%) in 12.26 sec. Users per second: 2901\n",
      "RP3betaRecommender: Similarity column 38121 (100.0%), 3452.51 column/sec. Elapsed time 11.04 sec\n",
      "EvaluatorHoldout: Processed 35563 (100.0%) in 12.03 sec. Users per second: 2957\n",
      "RP3betaRecommender: Similarity column 38121 (100.0%), 3386.55 column/sec. Elapsed time 11.26 sec\n",
      "EvaluatorHoldout: Processed 35560 (100.0%) in 12.00 sec. Users per second: 2963\n"
     ]
    },
    {
     "name": "stderr",
     "output_type": "stream",
     "text": [
      "[I 2024-12-24 11:42:41,578] Trial 34 finished with value: 0.05133767827773961 and parameters: {'topK': 71, 'alpha': 0.46866756133880405, 'beta': 0.24509897109450443}. Best is trial 33 with value: 0.055050136852613105.\n"
     ]
    },
    {
     "name": "stdout",
     "output_type": "stream",
     "text": [
      "RP3betaRecommender: Similarity column 38121 (100.0%), 3188.95 column/sec. Elapsed time 11.95 sec\n",
      "EvaluatorHoldout: Processed 35569 (100.0%) in 11.38 sec. Users per second: 3126\n",
      "RP3betaRecommender: Similarity column 38121 (100.0%), 3545.33 column/sec. Elapsed time 10.75 sec\n",
      "EvaluatorHoldout: Processed 35581 (100.0%) in 11.53 sec. Users per second: 3087\n",
      "RP3betaRecommender: Similarity column 38121 (100.0%), 3310.96 column/sec. Elapsed time 11.51 sec\n",
      "EvaluatorHoldout: Processed 35569 (100.0%) in 11.79 sec. Users per second: 3017\n",
      "RP3betaRecommender: Similarity column 38121 (100.0%), 3523.97 column/sec. Elapsed time 10.82 sec\n",
      "EvaluatorHoldout: Processed 35573 (100.0%) in 11.87 sec. Users per second: 2998\n",
      "RP3betaRecommender: Similarity column 38121 (100.0%), 3346.69 column/sec. Elapsed time 11.39 sec\n",
      "EvaluatorHoldout: Processed 35567 (100.0%) in 11.33 sec. Users per second: 3138\n",
      "RP3betaRecommender: Similarity column 38121 (100.0%), 3571.37 column/sec. Elapsed time 10.67 sec\n",
      "EvaluatorHoldout: Processed 35582 (100.0%) in 11.41 sec. Users per second: 3118\n",
      "RP3betaRecommender: Similarity column 38121 (100.0%), 3256.30 column/sec. Elapsed time 11.71 sec\n",
      "EvaluatorHoldout: Processed 35567 (100.0%) in 11.84 sec. Users per second: 3003\n",
      "RP3betaRecommender: Similarity column 38121 (100.0%), 3305.70 column/sec. Elapsed time 11.53 sec\n",
      "EvaluatorHoldout: Processed 35578 (100.0%) in 11.27 sec. Users per second: 3156\n",
      "RP3betaRecommender: Similarity column 38121 (100.0%), 3559.66 column/sec. Elapsed time 10.71 sec\n",
      "EvaluatorHoldout: Processed 35563 (100.0%) in 11.55 sec. Users per second: 3080\n",
      "RP3betaRecommender: Similarity column 38121 (100.0%), 3682.60 column/sec. Elapsed time 10.35 sec\n",
      "EvaluatorHoldout: Processed 35560 (100.0%) in 11.02 sec. Users per second: 3228\n"
     ]
    },
    {
     "name": "stderr",
     "output_type": "stream",
     "text": [
      "[I 2024-12-24 11:46:39,235] Trial 35 finished with value: 0.052584395518407975 and parameters: {'topK': 47, 'alpha': 0.372685744102472, 'beta': 0.1569210492394868}. Best is trial 33 with value: 0.055050136852613105.\n"
     ]
    },
    {
     "name": "stdout",
     "output_type": "stream",
     "text": [
      "RP3betaRecommender: Similarity column 38121 (100.0%), 3471.67 column/sec. Elapsed time 10.98 sec\n",
      "EvaluatorHoldout: Processed 35569 (100.0%) in 11.11 sec. Users per second: 3201\n",
      "RP3betaRecommender: Similarity column 38121 (100.0%), 3971.33 column/sec. Elapsed time 9.60 sec\n",
      "EvaluatorHoldout: Processed 35581 (100.0%) in 10.53 sec. Users per second: 3379\n",
      "RP3betaRecommender: Similarity column 38121 (100.0%), 3912.58 column/sec. Elapsed time 9.74 sec\n",
      "EvaluatorHoldout: Processed 35569 (100.0%) in 10.50 sec. Users per second: 3388\n",
      "RP3betaRecommender: Similarity column 38121 (100.0%), 3856.65 column/sec. Elapsed time 9.88 sec\n",
      "EvaluatorHoldout: Processed 35573 (100.0%) in 10.72 sec. Users per second: 3317\n",
      "RP3betaRecommender: Similarity column 38121 (100.0%), 3993.10 column/sec. Elapsed time 9.55 sec\n",
      "EvaluatorHoldout: Processed 35567 (100.0%) in 10.53 sec. Users per second: 3379\n",
      "RP3betaRecommender: Similarity column 38121 (100.0%), 3971.26 column/sec. Elapsed time 9.60 sec\n",
      "EvaluatorHoldout: Processed 35582 (100.0%) in 10.62 sec. Users per second: 3349\n",
      "RP3betaRecommender: Similarity column 38121 (100.0%), 4059.08 column/sec. Elapsed time 9.39 sec\n",
      "EvaluatorHoldout: Processed 35567 (100.0%) in 11.01 sec. Users per second: 3230\n",
      "RP3betaRecommender: Similarity column 38121 (100.0%), 3620.02 column/sec. Elapsed time 10.53 sec\n",
      "EvaluatorHoldout: Processed 35578 (100.0%) in 10.53 sec. Users per second: 3380\n",
      "RP3betaRecommender: Similarity column 38121 (100.0%), 4026.71 column/sec. Elapsed time 9.47 sec\n",
      "EvaluatorHoldout: Processed 35563 (100.0%) in 10.47 sec. Users per second: 3397\n",
      "RP3betaRecommender: Similarity column 38121 (100.0%), 3774.99 column/sec. Elapsed time 10.10 sec\n",
      "EvaluatorHoldout: Processed 35560 (100.0%) in 10.73 sec. Users per second: 3314\n"
     ]
    },
    {
     "name": "stderr",
     "output_type": "stream",
     "text": [
      "[I 2024-12-24 11:50:11,291] Trial 36 finished with value: 0.054348368930360026 and parameters: {'topK': 18, 'alpha': 0.47991843071210005, 'beta': 0.3475069292425551}. Best is trial 33 with value: 0.055050136852613105.\n"
     ]
    },
    {
     "name": "stdout",
     "output_type": "stream",
     "text": [
      "RP3betaRecommender: Similarity column 38121 (100.0%), 2158.36 column/sec. Elapsed time 17.66 sec\n",
      "EvaluatorHoldout: Processed 35569 (100.0%) in 15.98 sec. Users per second: 2226\n",
      "RP3betaRecommender: Similarity column 38121 (100.0%), 2270.26 column/sec. Elapsed time 16.79 sec\n",
      "EvaluatorHoldout: Processed 35581 (100.0%) in 15.99 sec. Users per second: 2225\n",
      "RP3betaRecommender: Similarity column 38121 (100.0%), 2198.75 column/sec. Elapsed time 17.34 sec\n",
      "EvaluatorHoldout: Processed 35569 (100.0%) in 15.81 sec. Users per second: 2249\n",
      "RP3betaRecommender: Similarity column 38121 (100.0%), 2223.99 column/sec. Elapsed time 17.14 sec\n",
      "EvaluatorHoldout: Processed 35573 (100.0%) in 15.87 sec. Users per second: 2241\n",
      "RP3betaRecommender: Similarity column 38121 (100.0%), 2277.90 column/sec. Elapsed time 16.74 sec\n",
      "EvaluatorHoldout: Processed 35567 (100.0%) in 16.18 sec. Users per second: 2198\n",
      "RP3betaRecommender: Similarity column 38121 (100.0%), 2148.32 column/sec. Elapsed time 17.74 sec\n",
      "EvaluatorHoldout: Processed 35582 (100.0%) in 16.28 sec. Users per second: 2185\n",
      "RP3betaRecommender: Similarity column 38121 (100.0%), 2284.28 column/sec. Elapsed time 16.69 sec\n",
      "EvaluatorHoldout: Processed 35567 (100.0%) in 16.10 sec. Users per second: 2209\n",
      "RP3betaRecommender: Similarity column 38121 (100.0%), 2202.65 column/sec. Elapsed time 17.31 sec\n",
      "EvaluatorHoldout: Processed 35578 (100.0%) in 16.01 sec. Users per second: 2223\n",
      "RP3betaRecommender: Similarity column 38121 (100.0%), 2316.30 column/sec. Elapsed time 16.46 sec\n",
      "EvaluatorHoldout: Processed 35563 (100.0%) in 15.82 sec. Users per second: 2248\n",
      "RP3betaRecommender: Similarity column 38121 (100.0%), 2341.63 column/sec. Elapsed time 16.28 sec\n",
      "EvaluatorHoldout: Processed 35560 (100.0%) in 15.80 sec. Users per second: 2250\n"
     ]
    },
    {
     "name": "stderr",
     "output_type": "stream",
     "text": [
      "[I 2024-12-24 11:56:40,278] Trial 37 finished with value: 0.046000901612276456 and parameters: {'topK': 266, 'alpha': 0.594204259740976, 'beta': 0.23282707313433237}. Best is trial 33 with value: 0.055050136852613105.\n"
     ]
    },
    {
     "name": "stdout",
     "output_type": "stream",
     "text": [
      "RP3betaRecommender: Similarity column 38121 (100.0%), 3452.41 column/sec. Elapsed time 11.04 sec\n",
      "EvaluatorHoldout: Processed 35569 (100.0%) in 12.14 sec. Users per second: 2929\n",
      "RP3betaRecommender: Similarity column 38121 (100.0%), 3406.62 column/sec. Elapsed time 11.19 sec\n",
      "EvaluatorHoldout: Processed 35581 (100.0%) in 11.75 sec. Users per second: 3027\n",
      "RP3betaRecommender: Similarity column 38121 (100.0%), 3520.91 column/sec. Elapsed time 10.83 sec\n",
      "EvaluatorHoldout: Processed 35569 (100.0%) in 11.74 sec. Users per second: 3031\n",
      "RP3betaRecommender: Similarity column 38121 (100.0%), 3540.43 column/sec. Elapsed time 10.77 sec\n",
      "EvaluatorHoldout: Processed 35573 (100.0%) in 11.65 sec. Users per second: 3054\n",
      "RP3betaRecommender: Similarity column 38121 (100.0%), 3593.84 column/sec. Elapsed time 10.61 sec\n",
      "EvaluatorHoldout: Processed 35567 (100.0%) in 12.01 sec. Users per second: 2962\n",
      "RP3betaRecommender: Similarity column 38121 (100.0%), 3443.87 column/sec. Elapsed time 11.07 sec\n",
      "EvaluatorHoldout: Processed 35582 (100.0%) in 12.63 sec. Users per second: 2818\n",
      "RP3betaRecommender: Similarity column 38121 (100.0%), 3447.41 column/sec. Elapsed time 11.06 sec\n",
      "EvaluatorHoldout: Processed 35567 (100.0%) in 12.28 sec. Users per second: 2896\n",
      "RP3betaRecommender: Similarity column 38121 (100.0%), 3270.41 column/sec. Elapsed time 11.66 sec\n",
      "EvaluatorHoldout: Processed 35578 (100.0%) in 12.37 sec. Users per second: 2876\n",
      "RP3betaRecommender: Similarity column 38121 (100.0%), 3449.83 column/sec. Elapsed time 11.05 sec\n",
      "EvaluatorHoldout: Processed 35563 (100.0%) in 12.47 sec. Users per second: 2852\n",
      "RP3betaRecommender: Similarity column 38121 (100.0%), 3420.59 column/sec. Elapsed time 11.14 sec\n",
      "EvaluatorHoldout: Processed 35560 (100.0%) in 12.35 sec. Users per second: 2880\n"
     ]
    },
    {
     "name": "stderr",
     "output_type": "stream",
     "text": [
      "[I 2024-12-24 12:00:48,702] Trial 38 finished with value: 0.05054479187892223 and parameters: {'topK': 66, 'alpha': 0.8052358422295397, 'beta': 0.2647633223578827}. Best is trial 33 with value: 0.055050136852613105.\n"
     ]
    },
    {
     "name": "stdout",
     "output_type": "stream",
     "text": [
      "RP3betaRecommender: Similarity column 38121 (100.0%), 3734.35 column/sec. Elapsed time 10.21 sec\n",
      "EvaluatorHoldout: Processed 35569 (100.0%) in 11.47 sec. Users per second: 3100\n",
      "RP3betaRecommender: Similarity column 38121 (100.0%), 3328.58 column/sec. Elapsed time 11.45 sec\n",
      "EvaluatorHoldout: Processed 35581 (100.0%) in 11.49 sec. Users per second: 3095\n",
      "RP3betaRecommender: Similarity column 38121 (100.0%), 3746.18 column/sec. Elapsed time 10.18 sec\n",
      "EvaluatorHoldout: Processed 35569 (100.0%) in 11.42 sec. Users per second: 3115\n",
      "RP3betaRecommender: Similarity column 38121 (100.0%), 3700.16 column/sec. Elapsed time 10.30 sec\n",
      "EvaluatorHoldout: Processed 35573 (100.0%) in 11.44 sec. Users per second: 3109\n",
      "RP3betaRecommender: Similarity column 38121 (100.0%), 3730.75 column/sec. Elapsed time 10.22 sec\n",
      "EvaluatorHoldout: Processed 35567 (100.0%) in 11.52 sec. Users per second: 3089\n",
      "RP3betaRecommender: Similarity column 38121 (100.0%), 3733.73 column/sec. Elapsed time 10.21 sec\n",
      "EvaluatorHoldout: Processed 35582 (100.0%) in 11.51 sec. Users per second: 3092\n",
      "RP3betaRecommender: Similarity column 38121 (100.0%), 3689.82 column/sec. Elapsed time 10.33 sec\n",
      "EvaluatorHoldout: Processed 35567 (100.0%) in 12.03 sec. Users per second: 2957\n",
      "RP3betaRecommender: Similarity column 38121 (100.0%), 3525.65 column/sec. Elapsed time 10.81 sec\n",
      "EvaluatorHoldout: Processed 35578 (100.0%) in 11.59 sec. Users per second: 3069\n",
      "RP3betaRecommender: Similarity column 38121 (100.0%), 3752.09 column/sec. Elapsed time 10.16 sec\n",
      "EvaluatorHoldout: Processed 35563 (100.0%) in 11.57 sec. Users per second: 3073\n",
      "RP3betaRecommender: Similarity column 38121 (100.0%), 3290.21 column/sec. Elapsed time 11.59 sec\n",
      "EvaluatorHoldout: Processed 35560 (100.0%) in 11.54 sec. Users per second: 3082\n"
     ]
    },
    {
     "name": "stderr",
     "output_type": "stream",
     "text": [
      "[I 2024-12-24 12:04:40,774] Trial 39 finished with value: 0.052436622704440196 and parameters: {'topK': 38, 'alpha': 0.3817916161359139, 'beta': 0.4178580903605721}. Best is trial 33 with value: 0.055050136852613105.\n"
     ]
    },
    {
     "name": "stdout",
     "output_type": "stream",
     "text": [
      "RP3betaRecommender: Similarity column 38121 (100.0%), 2413.65 column/sec. Elapsed time 15.79 sec\n",
      "EvaluatorHoldout: Processed 35569 (100.0%) in 14.22 sec. Users per second: 2501\n",
      "RP3betaRecommender: Similarity column 38121 (100.0%), 2609.93 column/sec. Elapsed time 14.61 sec\n",
      "EvaluatorHoldout: Processed 35581 (100.0%) in 14.19 sec. Users per second: 2507\n",
      "RP3betaRecommender: Similarity column 38121 (100.0%), 2681.63 column/sec. Elapsed time 14.22 sec\n",
      "EvaluatorHoldout: Processed 35569 (100.0%) in 14.12 sec. Users per second: 2519\n",
      "RP3betaRecommender: Similarity column 38121 (100.0%), 2647.20 column/sec. Elapsed time 14.40 sec\n",
      "EvaluatorHoldout: Processed 35573 (100.0%) in 14.08 sec. Users per second: 2526\n",
      "RP3betaRecommender: Similarity column 38121 (100.0%), 2672.63 column/sec. Elapsed time 14.26 sec\n",
      "EvaluatorHoldout: Processed 35567 (100.0%) in 14.13 sec. Users per second: 2518\n",
      "RP3betaRecommender: Similarity column 38121 (100.0%), 2638.66 column/sec. Elapsed time 14.45 sec\n",
      "EvaluatorHoldout: Processed 35582 (100.0%) in 14.69 sec. Users per second: 2423\n",
      "RP3betaRecommender: Similarity column 38121 (100.0%), 2556.12 column/sec. Elapsed time 14.91 sec\n",
      "EvaluatorHoldout: Processed 35567 (100.0%) in 14.68 sec. Users per second: 2422\n",
      "RP3betaRecommender: Similarity column 38121 (100.0%), 2640.17 column/sec. Elapsed time 14.44 sec\n",
      "EvaluatorHoldout: Processed 35578 (100.0%) in 14.66 sec. Users per second: 2427\n",
      "RP3betaRecommender: Similarity column 38121 (100.0%), 2371.87 column/sec. Elapsed time 16.07 sec\n",
      "EvaluatorHoldout: Processed 35563 (100.0%) in 14.54 sec. Users per second: 2445\n",
      "RP3betaRecommender: Similarity column 38121 (100.0%), 2680.28 column/sec. Elapsed time 14.22 sec\n",
      "EvaluatorHoldout: Processed 35560 (100.0%) in 14.14 sec. Users per second: 2515\n"
     ]
    },
    {
     "name": "stderr",
     "output_type": "stream",
     "text": [
      "[I 2024-12-24 12:10:13,736] Trial 40 finished with value: 0.043963363664104006 and parameters: {'topK': 200, 'alpha': 1.1948272181910418, 'beta': 0.140597102800259}. Best is trial 33 with value: 0.055050136852613105.\n"
     ]
    },
    {
     "name": "stdout",
     "output_type": "stream",
     "text": [
      "RP3betaRecommender: Similarity column 38121 (100.0%), 3655.00 column/sec. Elapsed time 10.43 sec\n",
      "EvaluatorHoldout: Processed 35569 (100.0%) in 10.25 sec. Users per second: 3471\n",
      "RP3betaRecommender: Similarity column 38121 (100.0%), 4063.52 column/sec. Elapsed time 9.38 sec\n",
      "EvaluatorHoldout: Processed 35581 (100.0%) in 10.24 sec. Users per second: 3476\n",
      "RP3betaRecommender: Similarity column 38121 (100.0%), 4043.40 column/sec. Elapsed time 9.43 sec\n",
      "EvaluatorHoldout: Processed 35569 (100.0%) in 10.30 sec. Users per second: 3454\n",
      "RP3betaRecommender: Similarity column 38121 (100.0%), 4078.27 column/sec. Elapsed time 9.35 sec\n",
      "EvaluatorHoldout: Processed 35573 (100.0%) in 10.27 sec. Users per second: 3462\n",
      "RP3betaRecommender: Similarity column 38121 (100.0%), 4044.66 column/sec. Elapsed time 9.43 sec\n",
      "EvaluatorHoldout: Processed 35567 (100.0%) in 10.29 sec. Users per second: 3455\n",
      "RP3betaRecommender: Similarity column 38121 (100.0%), 4064.92 column/sec. Elapsed time 9.38 sec\n",
      "EvaluatorHoldout: Processed 35582 (100.0%) in 10.22 sec. Users per second: 3482\n",
      "RP3betaRecommender: Similarity column 38121 (100.0%), 3976.02 column/sec. Elapsed time 9.59 sec\n",
      "EvaluatorHoldout: Processed 35567 (100.0%) in 10.23 sec. Users per second: 3477\n",
      "RP3betaRecommender: Similarity column 38121 (100.0%), 4078.42 column/sec. Elapsed time 9.35 sec\n",
      "EvaluatorHoldout: Processed 35578 (100.0%) in 10.24 sec. Users per second: 3475\n",
      "RP3betaRecommender: Similarity column 38121 (100.0%), 4069.41 column/sec. Elapsed time 9.37 sec\n",
      "EvaluatorHoldout: Processed 35563 (100.0%) in 10.26 sec. Users per second: 3466\n",
      "RP3betaRecommender: Similarity column 38121 (100.0%), 3975.60 column/sec. Elapsed time 9.59 sec\n",
      "EvaluatorHoldout: Processed 35560 (100.0%) in 10.29 sec. Users per second: 3455\n"
     ]
    },
    {
     "name": "stderr",
     "output_type": "stream",
     "text": [
      "[I 2024-12-24 12:13:37,715] Trial 41 finished with value: 0.05485954931876005 and parameters: {'topK': 20, 'alpha': 0.3950202460827369, 'beta': 0.18886329571812532}. Best is trial 33 with value: 0.055050136852613105.\n"
     ]
    },
    {
     "name": "stdout",
     "output_type": "stream",
     "text": [
      "RP3betaRecommender: Similarity column 38121 (100.0%), 3568.21 column/sec. Elapsed time 10.68 sec\n",
      "EvaluatorHoldout: Processed 35569 (100.0%) in 10.07 sec. Users per second: 3534\n",
      "RP3betaRecommender: Similarity column 38121 (100.0%), 4038.79 column/sec. Elapsed time 9.44 sec\n",
      "EvaluatorHoldout: Processed 35581 (100.0%) in 10.11 sec. Users per second: 3518\n",
      "RP3betaRecommender: Similarity column 38121 (100.0%), 3561.78 column/sec. Elapsed time 10.70 sec\n",
      "EvaluatorHoldout: Processed 35569 (100.0%) in 10.11 sec. Users per second: 3517\n",
      "RP3betaRecommender: Similarity column 38121 (100.0%), 3976.53 column/sec. Elapsed time 9.59 sec\n",
      "EvaluatorHoldout: Processed 35573 (100.0%) in 10.59 sec. Users per second: 3360\n",
      "RP3betaRecommender: Similarity column 38121 (100.0%), 3655.88 column/sec. Elapsed time 10.43 sec\n",
      "EvaluatorHoldout: Processed 35567 (100.0%) in 10.45 sec. Users per second: 3404\n",
      "RP3betaRecommender: Similarity column 38121 (100.0%), 3943.98 column/sec. Elapsed time 9.67 sec\n",
      "EvaluatorHoldout: Processed 35582 (100.0%) in 10.53 sec. Users per second: 3380\n",
      "RP3betaRecommender: Similarity column 38121 (100.0%), 3776.68 column/sec. Elapsed time 10.09 sec\n",
      "EvaluatorHoldout: Processed 35567 (100.0%) in 10.50 sec. Users per second: 3386\n",
      "RP3betaRecommender: Similarity column 38121 (100.0%), 3934.98 column/sec. Elapsed time 9.69 sec\n",
      "EvaluatorHoldout: Processed 35578 (100.0%) in 10.51 sec. Users per second: 3385\n",
      "RP3betaRecommender: Similarity column 38121 (100.0%), 3662.33 column/sec. Elapsed time 10.41 sec\n",
      "EvaluatorHoldout: Processed 35563 (100.0%) in 10.54 sec. Users per second: 3373\n",
      "RP3betaRecommender: Similarity column 38121 (100.0%), 3723.98 column/sec. Elapsed time 10.24 sec\n",
      "EvaluatorHoldout: Processed 35560 (100.0%) in 10.50 sec. Users per second: 3387\n"
     ]
    },
    {
     "name": "stderr",
     "output_type": "stream",
     "text": [
      "[I 2024-12-24 12:17:07,661] Trial 42 finished with value: 0.05517828622068708 and parameters: {'topK': 14, 'alpha': 0.3683550822991944, 'beta': 0.19877125816137325}. Best is trial 42 with value: 0.05517828622068708.\n"
     ]
    },
    {
     "name": "stdout",
     "output_type": "stream",
     "text": [
      "RP3betaRecommender: Similarity column 38121 (100.0%), 3244.63 column/sec. Elapsed time 11.75 sec\n",
      "EvaluatorHoldout: Processed 35569 (100.0%) in 11.22 sec. Users per second: 3172\n",
      "RP3betaRecommender: Similarity column 38121 (100.0%), 3659.59 column/sec. Elapsed time 10.42 sec\n",
      "EvaluatorHoldout: Processed 35581 (100.0%) in 11.33 sec. Users per second: 3141\n",
      "RP3betaRecommender: Similarity column 38121 (100.0%), 3589.13 column/sec. Elapsed time 10.62 sec\n",
      "EvaluatorHoldout: Processed 35569 (100.0%) in 11.60 sec. Users per second: 3066\n",
      "RP3betaRecommender: Similarity column 38121 (100.0%), 3352.65 column/sec. Elapsed time 11.37 sec\n",
      "EvaluatorHoldout: Processed 35573 (100.0%) in 11.54 sec. Users per second: 3083\n",
      "RP3betaRecommender: Similarity column 38121 (100.0%), 3209.55 column/sec. Elapsed time 11.88 sec\n",
      "EvaluatorHoldout: Processed 35567 (100.0%) in 12.01 sec. Users per second: 2961\n",
      "RP3betaRecommender: Similarity column 38121 (100.0%), 3312.02 column/sec. Elapsed time 11.51 sec\n",
      "EvaluatorHoldout: Processed 35582 (100.0%) in 11.29 sec. Users per second: 3151\n",
      "RP3betaRecommender: Similarity column 38121 (100.0%), 3382.97 column/sec. Elapsed time 11.27 sec\n",
      "EvaluatorHoldout: Processed 35567 (100.0%) in 12.30 sec. Users per second: 2891\n",
      "RP3betaRecommender: Similarity column 38121 (100.0%), 3241.62 column/sec. Elapsed time 11.76 sec\n",
      "EvaluatorHoldout: Processed 35578 (100.0%) in 11.45 sec. Users per second: 3108\n",
      "RP3betaRecommender: Similarity column 38121 (100.0%), 3478.25 column/sec. Elapsed time 10.96 sec\n",
      "EvaluatorHoldout: Processed 35563 (100.0%) in 11.41 sec. Users per second: 3116\n",
      "RP3betaRecommender: Similarity column 38121 (100.0%), 3194.99 column/sec. Elapsed time 11.93 sec\n",
      "EvaluatorHoldout: Processed 35560 (100.0%) in 12.60 sec. Users per second: 2823\n"
     ]
    },
    {
     "name": "stderr",
     "output_type": "stream",
     "text": [
      "[I 2024-12-24 12:21:08,543] Trial 43 finished with value: 0.053093899721603555 and parameters: {'topK': 42, 'alpha': 0.3458345042641741, 'beta': 0.20618334535820654}. Best is trial 42 with value: 0.05517828622068708.\n"
     ]
    },
    {
     "name": "stdout",
     "output_type": "stream",
     "text": [
      "RP3betaRecommender: Similarity column 38121 (100.0%), 2575.67 column/sec. Elapsed time 14.80 sec\n",
      "EvaluatorHoldout: Processed 35569 (100.0%) in 14.86 sec. Users per second: 2394\n",
      "RP3betaRecommender: Similarity column 38121 (100.0%), 2663.22 column/sec. Elapsed time 14.31 sec\n",
      "EvaluatorHoldout: Processed 35581 (100.0%) in 14.84 sec. Users per second: 2398\n",
      "RP3betaRecommender: Similarity column 38121 (100.0%), 2691.29 column/sec. Elapsed time 14.16 sec\n",
      "EvaluatorHoldout: Processed 35569 (100.0%) in 14.55 sec. Users per second: 2444\n",
      "RP3betaRecommender: Similarity column 38121 (100.0%), 2525.45 column/sec. Elapsed time 15.09 sec\n",
      "EvaluatorHoldout: Processed 35573 (100.0%) in 14.99 sec. Users per second: 2374\n",
      "RP3betaRecommender: Similarity column 38121 (100.0%), 2501.32 column/sec. Elapsed time 15.24 sec\n",
      "EvaluatorHoldout: Processed 35567 (100.0%) in 14.55 sec. Users per second: 2444\n",
      "RP3betaRecommender: Similarity column 38121 (100.0%), 2739.81 column/sec. Elapsed time 13.91 sec\n",
      "EvaluatorHoldout: Processed 35582 (100.0%) in 14.50 sec. Users per second: 2454\n",
      "RP3betaRecommender: Similarity column 38121 (100.0%), 2745.31 column/sec. Elapsed time 13.89 sec\n",
      "EvaluatorHoldout: Processed 35567 (100.0%) in 14.52 sec. Users per second: 2449\n",
      "RP3betaRecommender: Similarity column 38121 (100.0%), 2745.47 column/sec. Elapsed time 13.89 sec\n",
      "EvaluatorHoldout: Processed 35578 (100.0%) in 14.48 sec. Users per second: 2456\n",
      "RP3betaRecommender: Similarity column 38121 (100.0%), 2785.45 column/sec. Elapsed time 13.69 sec\n",
      "EvaluatorHoldout: Processed 35563 (100.0%) in 14.52 sec. Users per second: 2450\n",
      "RP3betaRecommender: Similarity column 38121 (100.0%), 2743.43 column/sec. Elapsed time 13.90 sec\n",
      "EvaluatorHoldout: Processed 35560 (100.0%) in 14.49 sec. Users per second: 2454\n"
     ]
    },
    {
     "name": "stderr",
     "output_type": "stream",
     "text": [
      "[I 2024-12-24 12:26:39,110] Trial 44 finished with value: 0.04860333647204216 and parameters: {'topK': 172, 'alpha': 0.47985234319199555, 'beta': 0.33206548631237964}. Best is trial 42 with value: 0.05517828622068708.\n"
     ]
    },
    {
     "name": "stdout",
     "output_type": "stream",
     "text": [
      "RP3betaRecommender: Similarity column 38121 (100.0%), 3584.34 column/sec. Elapsed time 10.64 sec\n",
      "EvaluatorHoldout: Processed 35569 (100.0%) in 10.76 sec. Users per second: 3305\n",
      "RP3betaRecommender: Similarity column 38121 (100.0%), 3955.34 column/sec. Elapsed time 9.64 sec\n",
      "EvaluatorHoldout: Processed 35581 (100.0%) in 10.55 sec. Users per second: 3373\n",
      "RP3betaRecommender: Similarity column 38121 (100.0%), 4034.90 column/sec. Elapsed time 9.45 sec\n",
      "EvaluatorHoldout: Processed 35569 (100.0%) in 10.82 sec. Users per second: 3287\n",
      "RP3betaRecommender: Similarity column 38121 (100.0%), 3934.12 column/sec. Elapsed time 9.69 sec\n",
      "EvaluatorHoldout: Processed 35573 (100.0%) in 10.79 sec. Users per second: 3297\n",
      "RP3betaRecommender: Similarity column 38121 (100.0%), 3892.71 column/sec. Elapsed time 9.79 sec\n",
      "EvaluatorHoldout: Processed 35567 (100.0%) in 10.89 sec. Users per second: 3267\n",
      "RP3betaRecommender: Similarity column 38121 (100.0%), 3942.53 column/sec. Elapsed time 9.67 sec\n",
      "EvaluatorHoldout: Processed 35582 (100.0%) in 10.84 sec. Users per second: 3282\n",
      "RP3betaRecommender: Similarity column 38121 (100.0%), 3967.23 column/sec. Elapsed time 9.61 sec\n",
      "EvaluatorHoldout: Processed 35567 (100.0%) in 10.84 sec. Users per second: 3280\n",
      "RP3betaRecommender: Similarity column 38121 (100.0%), 3868.89 column/sec. Elapsed time 9.85 sec\n",
      "EvaluatorHoldout: Processed 35578 (100.0%) in 10.83 sec. Users per second: 3284\n",
      "RP3betaRecommender: Similarity column 38121 (100.0%), 3374.76 column/sec. Elapsed time 11.30 sec\n",
      "EvaluatorHoldout: Processed 35563 (100.0%) in 10.85 sec. Users per second: 3279\n",
      "RP3betaRecommender: Similarity column 38121 (100.0%), 3851.34 column/sec. Elapsed time 9.90 sec\n",
      "EvaluatorHoldout: Processed 35560 (100.0%) in 11.16 sec. Users per second: 3186\n"
     ]
    },
    {
     "name": "stderr",
     "output_type": "stream",
     "text": [
      "[I 2024-12-24 12:30:13,654] Trial 45 finished with value: 0.05479542834238436 and parameters: {'topK': 21, 'alpha': 0.36065998489487133, 'beta': 0.2626669215664356}. Best is trial 42 with value: 0.05517828622068708.\n"
     ]
    },
    {
     "name": "stdout",
     "output_type": "stream",
     "text": [
      "RP3betaRecommender: Similarity column 38121 (100.0%), 3014.83 column/sec. Elapsed time 12.64 sec\n",
      "EvaluatorHoldout: Processed 35569 (100.0%) in 12.43 sec. Users per second: 2862\n",
      "RP3betaRecommender: Similarity column 38121 (100.0%), 3280.77 column/sec. Elapsed time 11.62 sec\n",
      "EvaluatorHoldout: Processed 35581 (100.0%) in 12.47 sec. Users per second: 2853\n",
      "RP3betaRecommender: Similarity column 38121 (100.0%), 3268.37 column/sec. Elapsed time 11.66 sec\n",
      "EvaluatorHoldout: Processed 35569 (100.0%) in 12.40 sec. Users per second: 2869\n",
      "RP3betaRecommender: Similarity column 38121 (100.0%), 3268.91 column/sec. Elapsed time 11.66 sec\n",
      "EvaluatorHoldout: Processed 35573 (100.0%) in 12.39 sec. Users per second: 2871\n",
      "RP3betaRecommender: Similarity column 38121 (100.0%), 3276.64 column/sec. Elapsed time 11.63 sec\n",
      "EvaluatorHoldout: Processed 35567 (100.0%) in 12.39 sec. Users per second: 2870\n",
      "RP3betaRecommender: Similarity column 38121 (100.0%), 2963.18 column/sec. Elapsed time 12.86 sec\n",
      "EvaluatorHoldout: Processed 35582 (100.0%) in 12.41 sec. Users per second: 2868\n",
      "RP3betaRecommender: Similarity column 38121 (100.0%), 3240.24 column/sec. Elapsed time 11.76 sec\n",
      "EvaluatorHoldout: Processed 35567 (100.0%) in 12.33 sec. Users per second: 2883\n",
      "RP3betaRecommender: Similarity column 38121 (100.0%), 3277.17 column/sec. Elapsed time 11.63 sec\n",
      "EvaluatorHoldout: Processed 35578 (100.0%) in 12.47 sec. Users per second: 2854\n",
      "RP3betaRecommender: Similarity column 38121 (100.0%), 3008.65 column/sec. Elapsed time 12.67 sec\n",
      "EvaluatorHoldout: Processed 35563 (100.0%) in 12.44 sec. Users per second: 2858\n",
      "RP3betaRecommender: Similarity column 38121 (100.0%), 3015.71 column/sec. Elapsed time 12.64 sec\n",
      "EvaluatorHoldout: Processed 35560 (100.0%) in 12.43 sec. Users per second: 2861\n"
     ]
    },
    {
     "name": "stderr",
     "output_type": "stream",
     "text": [
      "[I 2024-12-24 12:34:38,806] Trial 46 finished with value: 0.050211217468312495 and parameters: {'topK': 88, 'alpha': 0.5537485980221064, 'beta': 0.20267762866080602}. Best is trial 42 with value: 0.05517828622068708.\n"
     ]
    },
    {
     "name": "stdout",
     "output_type": "stream",
     "text": [
      "RP3betaRecommender: Similarity column 38121 (100.0%), 3498.08 column/sec. Elapsed time 10.90 sec\n",
      "EvaluatorHoldout: Processed 35569 (100.0%) in 10.76 sec. Users per second: 3306\n",
      "RP3betaRecommender: Similarity column 38121 (100.0%), 3959.49 column/sec. Elapsed time 9.63 sec\n",
      "EvaluatorHoldout: Processed 35581 (100.0%) in 10.55 sec. Users per second: 3372\n",
      "RP3betaRecommender: Similarity column 38121 (100.0%), 3938.82 column/sec. Elapsed time 9.68 sec\n",
      "EvaluatorHoldout: Processed 35569 (100.0%) in 10.95 sec. Users per second: 3250\n",
      "RP3betaRecommender: Similarity column 38121 (100.0%), 3902.65 column/sec. Elapsed time 9.77 sec\n",
      "EvaluatorHoldout: Processed 35573 (100.0%) in 10.55 sec. Users per second: 3372\n",
      "RP3betaRecommender: Similarity column 38121 (100.0%), 3914.80 column/sec. Elapsed time 9.74 sec\n",
      "EvaluatorHoldout: Processed 35567 (100.0%) in 10.47 sec. Users per second: 3397\n",
      "RP3betaRecommender: Similarity column 38121 (100.0%), 3963.02 column/sec. Elapsed time 9.62 sec\n",
      "EvaluatorHoldout: Processed 35582 (100.0%) in 10.23 sec. Users per second: 3477\n",
      "RP3betaRecommender: Similarity column 38121 (100.0%), 4004.75 column/sec. Elapsed time 9.52 sec\n",
      "EvaluatorHoldout: Processed 35567 (100.0%) in 10.16 sec. Users per second: 3501\n",
      "RP3betaRecommender: Similarity column 38121 (100.0%), 4034.19 column/sec. Elapsed time 9.45 sec\n",
      "EvaluatorHoldout: Processed 35578 (100.0%) in 10.81 sec. Users per second: 3290\n",
      "RP3betaRecommender: Similarity column 38121 (100.0%), 3663.04 column/sec. Elapsed time 10.41 sec\n",
      "EvaluatorHoldout: Processed 35563 (100.0%) in 10.77 sec. Users per second: 3303\n",
      "RP3betaRecommender: Similarity column 38121 (100.0%), 3735.85 column/sec. Elapsed time 10.20 sec\n",
      "EvaluatorHoldout: Processed 35560 (100.0%) in 10.62 sec. Users per second: 3348\n"
     ]
    },
    {
     "name": "stderr",
     "output_type": "stream",
     "text": [
      "[I 2024-12-24 12:38:08,793] Trial 47 finished with value: 0.054504981530634565 and parameters: {'topK': 14, 'alpha': 0.6518174290977041, 'beta': 0.15243269484289587}. Best is trial 42 with value: 0.05517828622068708.\n"
     ]
    },
    {
     "name": "stdout",
     "output_type": "stream",
     "text": [
      "RP3betaRecommender: Similarity column 38121 (100.0%), 3017.98 column/sec. Elapsed time 12.63 sec\n",
      "EvaluatorHoldout: Processed 35569 (100.0%) in 13.60 sec. Users per second: 2616\n",
      "RP3betaRecommender: Similarity column 38121 (100.0%), 2798.43 column/sec. Elapsed time 13.62 sec\n",
      "EvaluatorHoldout: Processed 35581 (100.0%) in 13.88 sec. Users per second: 2563\n",
      "RP3betaRecommender: Similarity column 38121 (100.0%), 3007.23 column/sec. Elapsed time 12.68 sec\n",
      "EvaluatorHoldout: Processed 35569 (100.0%) in 13.83 sec. Users per second: 2573\n",
      "RP3betaRecommender: Similarity column 38121 (100.0%), 2945.49 column/sec. Elapsed time 12.94 sec\n",
      "EvaluatorHoldout: Processed 35573 (100.0%) in 13.52 sec. Users per second: 2630\n",
      "RP3betaRecommender: Similarity column 38121 (100.0%), 2989.21 column/sec. Elapsed time 12.75 sec\n",
      "EvaluatorHoldout: Processed 35567 (100.0%) in 13.61 sec. Users per second: 2614\n",
      "RP3betaRecommender: Similarity column 38121 (100.0%), 2986.09 column/sec. Elapsed time 12.77 sec\n",
      "EvaluatorHoldout: Processed 35582 (100.0%) in 13.83 sec. Users per second: 2573\n",
      "RP3betaRecommender: Similarity column 38121 (100.0%), 2805.07 column/sec. Elapsed time 13.59 sec\n",
      "EvaluatorHoldout: Processed 35567 (100.0%) in 14.16 sec. Users per second: 2512\n",
      "RP3betaRecommender: Similarity column 38121 (100.0%), 2916.86 column/sec. Elapsed time 13.07 sec\n",
      "EvaluatorHoldout: Processed 35578 (100.0%) in 13.64 sec. Users per second: 2608\n",
      "RP3betaRecommender: Similarity column 38121 (100.0%), 3005.63 column/sec. Elapsed time 12.68 sec\n",
      "EvaluatorHoldout: Processed 35563 (100.0%) in 13.84 sec. Users per second: 2570\n",
      "RP3betaRecommender: Similarity column 38121 (100.0%), 2982.04 column/sec. Elapsed time 12.78 sec\n",
      "EvaluatorHoldout: Processed 35560 (100.0%) in 13.57 sec. Users per second: 2620\n"
     ]
    },
    {
     "name": "stderr",
     "output_type": "stream",
     "text": [
      "[I 2024-12-24 12:43:06,215] Trial 48 finished with value: 0.04933796463287162 and parameters: {'topK': 125, 'alpha': 0.3036752704880227, 'beta': 0.3669624739032282}. Best is trial 42 with value: 0.05517828622068708.\n"
     ]
    },
    {
     "name": "stdout",
     "output_type": "stream",
     "text": [
      "RP3betaRecommender: Similarity column 38121 (100.0%), 3262.52 column/sec. Elapsed time 11.68 sec\n",
      "EvaluatorHoldout: Processed 35569 (100.0%) in 12.06 sec. Users per second: 2950\n",
      "RP3betaRecommender: Similarity column 38121 (100.0%), 3485.89 column/sec. Elapsed time 10.94 sec\n",
      "EvaluatorHoldout: Processed 35581 (100.0%) in 11.82 sec. Users per second: 3011\n",
      "RP3betaRecommender: Similarity column 38121 (100.0%), 3480.78 column/sec. Elapsed time 10.95 sec\n",
      "EvaluatorHoldout: Processed 35569 (100.0%) in 12.42 sec. Users per second: 2865\n",
      "RP3betaRecommender: Similarity column 38121 (100.0%), 3191.48 column/sec. Elapsed time 11.94 sec\n",
      "EvaluatorHoldout: Processed 35573 (100.0%) in 12.05 sec. Users per second: 2952\n",
      "RP3betaRecommender: Similarity column 38121 (100.0%), 3211.08 column/sec. Elapsed time 11.87 sec\n",
      "EvaluatorHoldout: Processed 35567 (100.0%) in 12.28 sec. Users per second: 2897\n",
      "RP3betaRecommender: Similarity column 38121 (100.0%), 3143.49 column/sec. Elapsed time 12.13 sec\n",
      "EvaluatorHoldout: Processed 35582 (100.0%) in 12.11 sec. Users per second: 2938\n",
      "RP3betaRecommender: Similarity column 38121 (100.0%), 3177.97 column/sec. Elapsed time 12.00 sec\n",
      "EvaluatorHoldout: Processed 35567 (100.0%) in 12.95 sec. Users per second: 2746\n",
      "RP3betaRecommender: Similarity column 38121 (100.0%), 3248.15 column/sec. Elapsed time 11.74 sec\n",
      "EvaluatorHoldout: Processed 35578 (100.0%) in 11.89 sec. Users per second: 2992\n",
      "RP3betaRecommender: Similarity column 38121 (100.0%), 3326.05 column/sec. Elapsed time 11.46 sec\n",
      "EvaluatorHoldout: Processed 35563 (100.0%) in 11.95 sec. Users per second: 2975\n",
      "RP3betaRecommender: Similarity column 38121 (100.0%), 3437.10 column/sec. Elapsed time 11.09 sec\n",
      "EvaluatorHoldout: Processed 35560 (100.0%) in 11.56 sec. Users per second: 3076\n"
     ]
    },
    {
     "name": "stderr",
     "output_type": "stream",
     "text": [
      "[I 2024-12-24 12:47:18,014] Trial 49 finished with value: 0.05189236097675898 and parameters: {'topK': 61, 'alpha': 0.43674121799199395, 'beta': 0.22109078010635388}. Best is trial 42 with value: 0.05517828622068708.\n"
     ]
    },
    {
     "name": "stdout",
     "output_type": "stream",
     "text": [
      "RP3betaRecommender: Similarity column 38121 (100.0%), 3660.28 column/sec. Elapsed time 10.41 sec\n",
      "EvaluatorHoldout: Processed 35569 (100.0%) in 11.32 sec. Users per second: 3142\n",
      "RP3betaRecommender: Similarity column 38121 (100.0%), 3726.41 column/sec. Elapsed time 10.23 sec\n",
      "EvaluatorHoldout: Processed 35581 (100.0%) in 11.28 sec. Users per second: 3155\n",
      "RP3betaRecommender: Similarity column 38121 (100.0%), 3729.44 column/sec. Elapsed time 10.22 sec\n",
      "EvaluatorHoldout: Processed 35569 (100.0%) in 11.07 sec. Users per second: 3213\n",
      "RP3betaRecommender: Similarity column 38121 (100.0%), 3720.35 column/sec. Elapsed time 10.25 sec\n",
      "EvaluatorHoldout: Processed 35573 (100.0%) in 11.03 sec. Users per second: 3224\n",
      "RP3betaRecommender: Similarity column 38121 (100.0%), 3808.04 column/sec. Elapsed time 10.01 sec\n",
      "EvaluatorHoldout: Processed 35567 (100.0%) in 11.04 sec. Users per second: 3223\n",
      "RP3betaRecommender: Similarity column 38121 (100.0%), 3725.22 column/sec. Elapsed time 10.23 sec\n",
      "EvaluatorHoldout: Processed 35582 (100.0%) in 11.05 sec. Users per second: 3219\n",
      "RP3betaRecommender: Similarity column 38121 (100.0%), 3808.94 column/sec. Elapsed time 10.01 sec\n",
      "EvaluatorHoldout: Processed 35567 (100.0%) in 11.29 sec. Users per second: 3150\n",
      "RP3betaRecommender: Similarity column 38121 (100.0%), 3325.27 column/sec. Elapsed time 11.46 sec\n",
      "EvaluatorHoldout: Processed 35578 (100.0%) in 11.63 sec. Users per second: 3059\n",
      "RP3betaRecommender: Similarity column 38121 (100.0%), 3202.09 column/sec. Elapsed time 11.91 sec\n",
      "EvaluatorHoldout: Processed 35563 (100.0%) in 11.87 sec. Users per second: 2996\n",
      "RP3betaRecommender: Similarity column 38121 (100.0%), 3739.01 column/sec. Elapsed time 10.20 sec\n",
      "EvaluatorHoldout: Processed 35560 (100.0%) in 11.08 sec. Users per second: 3208\n"
     ]
    },
    {
     "name": "stderr",
     "output_type": "stream",
     "text": [
      "[I 2024-12-24 12:51:05,827] Trial 50 finished with value: 0.0319508016659187 and parameters: {'topK': 42, 'alpha': 0.5989447964917385, 'beta': 0.9610477644674479}. Best is trial 42 with value: 0.05517828622068708.\n"
     ]
    },
    {
     "name": "stdout",
     "output_type": "stream",
     "text": [
      "RP3betaRecommender: Similarity column 38121 (100.0%), 2351.51 column/sec. Elapsed time 16.21 sec\n",
      "EvaluatorHoldout: Processed 35569 (100.0%) in 13.90 sec. Users per second: 2559\n",
      "RP3betaRecommender: Similarity column 38121 (100.0%), 2573.01 column/sec. Elapsed time 14.82 sec\n",
      "EvaluatorHoldout: Processed 35581 (100.0%) in 13.92 sec. Users per second: 2556\n",
      "RP3betaRecommender: Similarity column 38121 (100.0%), 2580.75 column/sec. Elapsed time 14.77 sec\n",
      "EvaluatorHoldout: Processed 35569 (100.0%) in 13.88 sec. Users per second: 2563\n",
      "RP3betaRecommender: Similarity column 38121 (100.0%), 2549.17 column/sec. Elapsed time 14.95 sec\n",
      "EvaluatorHoldout: Processed 35573 (100.0%) in 13.89 sec. Users per second: 2560\n",
      "RP3betaRecommender: Similarity column 38121 (100.0%), 2559.86 column/sec. Elapsed time 14.89 sec\n",
      "EvaluatorHoldout: Processed 35567 (100.0%) in 13.86 sec. Users per second: 2565\n",
      "RP3betaRecommender: Similarity column 38121 (100.0%), 2557.71 column/sec. Elapsed time 14.90 sec\n",
      "EvaluatorHoldout: Processed 35582 (100.0%) in 14.39 sec. Users per second: 2473\n",
      "RP3betaRecommender: Similarity column 38121 (100.0%), 2575.22 column/sec. Elapsed time 14.80 sec\n",
      "EvaluatorHoldout: Processed 35567 (100.0%) in 13.88 sec. Users per second: 2562\n",
      "RP3betaRecommender: Similarity column 38121 (100.0%), 2546.61 column/sec. Elapsed time 14.97 sec\n",
      "EvaluatorHoldout: Processed 35578 (100.0%) in 13.86 sec. Users per second: 2567\n",
      "RP3betaRecommender: Similarity column 38121 (100.0%), 2562.22 column/sec. Elapsed time 14.88 sec\n",
      "EvaluatorHoldout: Processed 35563 (100.0%) in 13.91 sec. Users per second: 2557\n",
      "RP3betaRecommender: Similarity column 38121 (100.0%), 2561.17 column/sec. Elapsed time 14.88 sec\n",
      "EvaluatorHoldout: Processed 35560 (100.0%) in 13.94 sec. Users per second: 2551\n"
     ]
    },
    {
     "name": "stderr",
     "output_type": "stream",
     "text": [
      "[I 2024-12-24 12:56:39,007] Trial 51 finished with value: 0.04466999079119864 and parameters: {'topK': 222, 'alpha': 0.409909106992317, 'beta': 0.1046033166297758}. Best is trial 42 with value: 0.05517828622068708.\n"
     ]
    },
    {
     "name": "stdout",
     "output_type": "stream",
     "text": [
      "RP3betaRecommender: Similarity column 38121 (100.0%), 4062.58 column/sec. Elapsed time 9.38 sec\n",
      "EvaluatorHoldout: Processed 35569 (100.0%) in 10.13 sec. Users per second: 3512\n",
      "RP3betaRecommender: Similarity column 38121 (100.0%), 4038.04 column/sec. Elapsed time 9.44 sec\n",
      "EvaluatorHoldout: Processed 35581 (100.0%) in 10.17 sec. Users per second: 3497\n",
      "RP3betaRecommender: Similarity column 38121 (100.0%), 4077.38 column/sec. Elapsed time 9.35 sec\n",
      "EvaluatorHoldout: Processed 35569 (100.0%) in 10.12 sec. Users per second: 3514\n",
      "RP3betaRecommender: Similarity column 38121 (100.0%), 4095.37 column/sec. Elapsed time 9.31 sec\n",
      "EvaluatorHoldout: Processed 35573 (100.0%) in 10.14 sec. Users per second: 3509\n",
      "RP3betaRecommender: Similarity column 38121 (100.0%), 4063.34 column/sec. Elapsed time 9.38 sec\n",
      "EvaluatorHoldout: Processed 35567 (100.0%) in 10.17 sec. Users per second: 3499\n",
      "RP3betaRecommender: Similarity column 38121 (100.0%), 3961.26 column/sec. Elapsed time 9.62 sec\n",
      "EvaluatorHoldout: Processed 35582 (100.0%) in 10.15 sec. Users per second: 3505\n",
      "RP3betaRecommender: Similarity column 38121 (100.0%), 4119.65 column/sec. Elapsed time 9.25 sec\n",
      "EvaluatorHoldout: Processed 35567 (100.0%) in 10.13 sec. Users per second: 3511\n",
      "RP3betaRecommender: Similarity column 38121 (100.0%), 4091.84 column/sec. Elapsed time 9.32 sec\n",
      "EvaluatorHoldout: Processed 35578 (100.0%) in 10.19 sec. Users per second: 3490\n",
      "RP3betaRecommender: Similarity column 38121 (100.0%), 4112.57 column/sec. Elapsed time 9.27 sec\n",
      "EvaluatorHoldout: Processed 35563 (100.0%) in 10.22 sec. Users per second: 3480\n",
      "RP3betaRecommender: Similarity column 38121 (100.0%), 4094.50 column/sec. Elapsed time 9.31 sec\n",
      "EvaluatorHoldout: Processed 35560 (100.0%) in 10.15 sec. Users per second: 3502\n"
     ]
    },
    {
     "name": "stderr",
     "output_type": "stream",
     "text": [
      "[I 2024-12-24 12:59:58,919] Trial 52 finished with value: 0.055061451481260036 and parameters: {'topK': 13, 'alpha': 0.35816866995991065, 'beta': 0.1360390889055737}. Best is trial 42 with value: 0.05517828622068708.\n"
     ]
    },
    {
     "name": "stdout",
     "output_type": "stream",
     "text": [
      "RP3betaRecommender: Similarity column 38121 (100.0%), 3805.10 column/sec. Elapsed time 10.02 sec\n",
      "EvaluatorHoldout: Processed 35569 (100.0%) in 10.67 sec. Users per second: 3333\n",
      "RP3betaRecommender: Similarity column 38121 (100.0%), 3877.47 column/sec. Elapsed time 9.83 sec\n",
      "EvaluatorHoldout: Processed 35581 (100.0%) in 10.68 sec. Users per second: 3331\n",
      "RP3betaRecommender: Similarity column 38121 (100.0%), 3629.80 column/sec. Elapsed time 10.50 sec\n",
      "EvaluatorHoldout: Processed 35569 (100.0%) in 10.65 sec. Users per second: 3341\n",
      "RP3betaRecommender: Similarity column 38121 (100.0%), 3421.82 column/sec. Elapsed time 11.14 sec\n",
      "EvaluatorHoldout: Processed 35573 (100.0%) in 10.81 sec. Users per second: 3289\n",
      "RP3betaRecommender: Similarity column 38121 (100.0%), 3488.35 column/sec. Elapsed time 10.93 sec\n",
      "EvaluatorHoldout: Processed 35567 (100.0%) in 10.54 sec. Users per second: 3373\n",
      "RP3betaRecommender: Similarity column 38121 (100.0%), 3798.71 column/sec. Elapsed time 10.04 sec\n",
      "EvaluatorHoldout: Processed 35582 (100.0%) in 11.09 sec. Users per second: 3207\n",
      "RP3betaRecommender: Similarity column 38121 (100.0%), 3725.33 column/sec. Elapsed time 10.23 sec\n",
      "EvaluatorHoldout: Processed 35567 (100.0%) in 11.19 sec. Users per second: 3178\n",
      "RP3betaRecommender: Similarity column 38121 (100.0%), 3754.67 column/sec. Elapsed time 10.15 sec\n",
      "EvaluatorHoldout: Processed 35578 (100.0%) in 11.14 sec. Users per second: 3193\n",
      "RP3betaRecommender: Similarity column 38121 (100.0%), 3829.96 column/sec. Elapsed time 9.95 sec\n",
      "EvaluatorHoldout: Processed 35563 (100.0%) in 11.04 sec. Users per second: 3220\n",
      "RP3betaRecommender: Similarity column 38121 (100.0%), 3765.52 column/sec. Elapsed time 10.12 sec\n",
      "EvaluatorHoldout: Processed 35560 (100.0%) in 10.88 sec. Users per second: 3267\n"
     ]
    },
    {
     "name": "stderr",
     "output_type": "stream",
     "text": [
      "[I 2024-12-24 13:03:38,824] Trial 53 finished with value: 0.053713687421747536 and parameters: {'topK': 33, 'alpha': 0.35584992381821534, 'beta': 0.17499279550841468}. Best is trial 42 with value: 0.05517828622068708.\n"
     ]
    },
    {
     "name": "stdout",
     "output_type": "stream",
     "text": [
      "RP3betaRecommender: Similarity column 38121 (100.0%), 3558.42 column/sec. Elapsed time 10.71 sec\n",
      "EvaluatorHoldout: Processed 35569 (100.0%) in 10.76 sec. Users per second: 3307\n",
      "RP3betaRecommender: Similarity column 38121 (100.0%), 3981.69 column/sec. Elapsed time 9.57 sec\n",
      "EvaluatorHoldout: Processed 35581 (100.0%) in 10.73 sec. Users per second: 3316\n",
      "RP3betaRecommender: Similarity column 38121 (100.0%), 3891.22 column/sec. Elapsed time 9.80 sec\n",
      "EvaluatorHoldout: Processed 35569 (100.0%) in 10.71 sec. Users per second: 3322\n",
      "RP3betaRecommender: Similarity column 38121 (100.0%), 3604.57 column/sec. Elapsed time 10.58 sec\n",
      "EvaluatorHoldout: Processed 35573 (100.0%) in 10.75 sec. Users per second: 3308\n",
      "RP3betaRecommender: Similarity column 38121 (100.0%), 3998.68 column/sec. Elapsed time 9.53 sec\n",
      "EvaluatorHoldout: Processed 35567 (100.0%) in 10.73 sec. Users per second: 3314\n",
      "RP3betaRecommender: Similarity column 38121 (100.0%), 3988.48 column/sec. Elapsed time 9.56 sec\n",
      "EvaluatorHoldout: Processed 35582 (100.0%) in 10.74 sec. Users per second: 3313\n",
      "RP3betaRecommender: Similarity column 38121 (100.0%), 3947.87 column/sec. Elapsed time 9.66 sec\n",
      "EvaluatorHoldout: Processed 35567 (100.0%) in 10.75 sec. Users per second: 3308\n",
      "RP3betaRecommender: Similarity column 38121 (100.0%), 3783.17 column/sec. Elapsed time 10.08 sec\n",
      "EvaluatorHoldout: Processed 35578 (100.0%) in 10.72 sec. Users per second: 3319\n",
      "RP3betaRecommender: Similarity column 38121 (100.0%), 3952.26 column/sec. Elapsed time 9.65 sec\n",
      "EvaluatorHoldout: Processed 35563 (100.0%) in 10.71 sec. Users per second: 3321\n",
      "RP3betaRecommender: Similarity column 38121 (100.0%), 3944.68 column/sec. Elapsed time 9.66 sec\n",
      "EvaluatorHoldout: Processed 35560 (100.0%) in 10.73 sec. Users per second: 3315\n"
     ]
    },
    {
     "name": "stderr",
     "output_type": "stream",
     "text": [
      "[I 2024-12-24 13:07:10,107] Trial 54 finished with value: 0.05482115799516437 and parameters: {'topK': 13, 'alpha': 0.5072733085308712, 'beta': 0.2662068951083523}. Best is trial 42 with value: 0.05517828622068708.\n"
     ]
    },
    {
     "name": "stdout",
     "output_type": "stream",
     "text": [
      "RP3betaRecommender: Similarity column 38121 (100.0%), 4009.11 column/sec. Elapsed time 9.51 sec\n",
      "EvaluatorHoldout: Processed 35569 (100.0%) in 10.52 sec. Users per second: 3380\n",
      "RP3betaRecommender: Similarity column 38121 (100.0%), 3701.93 column/sec. Elapsed time 10.30 sec\n",
      "EvaluatorHoldout: Processed 35581 (100.0%) in 10.57 sec. Users per second: 3366\n",
      "RP3betaRecommender: Similarity column 38121 (100.0%), 3995.70 column/sec. Elapsed time 9.54 sec\n",
      "EvaluatorHoldout: Processed 35569 (100.0%) in 10.53 sec. Users per second: 3378\n",
      "RP3betaRecommender: Similarity column 38121 (100.0%), 4005.17 column/sec. Elapsed time 9.52 sec\n",
      "EvaluatorHoldout: Processed 35573 (100.0%) in 10.56 sec. Users per second: 3368\n",
      "RP3betaRecommender: Similarity column 38121 (100.0%), 4032.87 column/sec. Elapsed time 9.45 sec\n",
      "EvaluatorHoldout: Processed 35567 (100.0%) in 10.51 sec. Users per second: 3384\n",
      "RP3betaRecommender: Similarity column 38121 (100.0%), 4046.31 column/sec. Elapsed time 9.42 sec\n",
      "EvaluatorHoldout: Processed 35582 (100.0%) in 10.54 sec. Users per second: 3376\n",
      "RP3betaRecommender: Similarity column 38121 (100.0%), 4061.45 column/sec. Elapsed time 9.39 sec\n",
      "EvaluatorHoldout: Processed 35567 (100.0%) in 10.53 sec. Users per second: 3379\n",
      "RP3betaRecommender: Similarity column 38121 (100.0%), 4054.97 column/sec. Elapsed time 9.40 sec\n",
      "EvaluatorHoldout: Processed 35578 (100.0%) in 10.57 sec. Users per second: 3367\n",
      "RP3betaRecommender: Similarity column 38121 (100.0%), 4049.29 column/sec. Elapsed time 9.41 sec\n",
      "EvaluatorHoldout: Processed 35563 (100.0%) in 10.52 sec. Users per second: 3382\n",
      "RP3betaRecommender: Similarity column 38121 (100.0%), 4025.93 column/sec. Elapsed time 9.47 sec\n",
      "EvaluatorHoldout: Processed 35560 (100.0%) in 10.59 sec. Users per second: 3359\n"
     ]
    },
    {
     "name": "stderr",
     "output_type": "stream",
     "text": [
      "[I 2024-12-24 13:10:35,143] Trial 55 finished with value: 0.04857255798864963 and parameters: {'topK': 8, 'alpha': 1.4991327472810676, 'beta': 0.1346055785558721}. Best is trial 42 with value: 0.05517828622068708.\n"
     ]
    },
    {
     "name": "stdout",
     "output_type": "stream",
     "text": [
      "RP3betaRecommender: Similarity column 38121 (100.0%), 3063.90 column/sec. Elapsed time 12.44 sec\n",
      "EvaluatorHoldout: Processed 35569 (100.0%) in 11.42 sec. Users per second: 3115\n",
      "RP3betaRecommender: Similarity column 38121 (100.0%), 3590.77 column/sec. Elapsed time 10.62 sec\n",
      "EvaluatorHoldout: Processed 35581 (100.0%) in 11.48 sec. Users per second: 3100\n",
      "RP3betaRecommender: Similarity column 38121 (100.0%), 3666.46 column/sec. Elapsed time 10.40 sec\n",
      "EvaluatorHoldout: Processed 35569 (100.0%) in 11.42 sec. Users per second: 3115\n",
      "RP3betaRecommender: Similarity column 38121 (100.0%), 3568.20 column/sec. Elapsed time 10.68 sec\n",
      "EvaluatorHoldout: Processed 35573 (100.0%) in 11.50 sec. Users per second: 3094\n",
      "RP3betaRecommender: Similarity column 38121 (100.0%), 3565.47 column/sec. Elapsed time 10.69 sec\n",
      "EvaluatorHoldout: Processed 35567 (100.0%) in 11.50 sec. Users per second: 3092\n",
      "RP3betaRecommender: Similarity column 38121 (100.0%), 3595.42 column/sec. Elapsed time 10.60 sec\n",
      "EvaluatorHoldout: Processed 35582 (100.0%) in 11.45 sec. Users per second: 3108\n",
      "RP3betaRecommender: Similarity column 38121 (100.0%), 3597.04 column/sec. Elapsed time 10.60 sec\n",
      "EvaluatorHoldout: Processed 35567 (100.0%) in 11.47 sec. Users per second: 3102\n",
      "RP3betaRecommender: Similarity column 38121 (100.0%), 3639.72 column/sec. Elapsed time 10.47 sec\n",
      "EvaluatorHoldout: Processed 35578 (100.0%) in 11.43 sec. Users per second: 3113\n",
      "RP3betaRecommender: Similarity column 38121 (100.0%), 3580.90 column/sec. Elapsed time 10.65 sec\n",
      "EvaluatorHoldout: Processed 35563 (100.0%) in 11.44 sec. Users per second: 3110\n",
      "RP3betaRecommender: Similarity column 38121 (100.0%), 3640.68 column/sec. Elapsed time 10.47 sec\n",
      "EvaluatorHoldout: Processed 35560 (100.0%) in 11.45 sec. Users per second: 3106\n"
     ]
    },
    {
     "name": "stderr",
     "output_type": "stream",
     "text": [
      "[I 2024-12-24 13:14:28,046] Trial 56 finished with value: 0.052261836717366804 and parameters: {'topK': 49, 'alpha': 0.3463839916634392, 'beta': 0.1343097607656653}. Best is trial 42 with value: 0.05517828622068708.\n"
     ]
    },
    {
     "name": "stdout",
     "output_type": "stream",
     "text": [
      "RP3betaRecommender: Similarity column 38121 (100.0%), 3861.87 column/sec. Elapsed time 9.87 sec\n",
      "EvaluatorHoldout: Processed 35569 (100.0%) in 10.96 sec. Users per second: 3246\n",
      "RP3betaRecommender: Similarity column 38121 (100.0%), 3865.43 column/sec. Elapsed time 9.86 sec\n",
      "EvaluatorHoldout: Processed 35581 (100.0%) in 11.03 sec. Users per second: 3226\n",
      "RP3betaRecommender: Similarity column 38121 (100.0%), 3679.36 column/sec. Elapsed time 10.36 sec\n",
      "EvaluatorHoldout: Processed 35569 (100.0%) in 10.96 sec. Users per second: 3245\n",
      "RP3betaRecommender: Similarity column 38121 (100.0%), 3846.97 column/sec. Elapsed time 9.91 sec\n",
      "EvaluatorHoldout: Processed 35573 (100.0%) in 10.99 sec. Users per second: 3237\n",
      "RP3betaRecommender: Similarity column 38121 (100.0%), 3850.70 column/sec. Elapsed time 9.90 sec\n",
      "EvaluatorHoldout: Processed 35567 (100.0%) in 10.95 sec. Users per second: 3247\n",
      "RP3betaRecommender: Similarity column 38121 (100.0%), 3425.49 column/sec. Elapsed time 11.13 sec\n",
      "EvaluatorHoldout: Processed 35582 (100.0%) in 10.93 sec. Users per second: 3256\n",
      "RP3betaRecommender: Similarity column 38121 (100.0%), 3821.86 column/sec. Elapsed time 9.97 sec\n",
      "EvaluatorHoldout: Processed 35567 (100.0%) in 10.97 sec. Users per second: 3243\n",
      "RP3betaRecommender: Similarity column 38121 (100.0%), 3800.76 column/sec. Elapsed time 10.03 sec\n",
      "EvaluatorHoldout: Processed 35578 (100.0%) in 11.01 sec. Users per second: 3233\n",
      "RP3betaRecommender: Similarity column 38121 (100.0%), 3380.03 column/sec. Elapsed time 11.28 sec\n",
      "EvaluatorHoldout: Processed 35563 (100.0%) in 10.93 sec. Users per second: 3253\n",
      "RP3betaRecommender: Similarity column 38121 (100.0%), 3861.59 column/sec. Elapsed time 9.87 sec\n",
      "EvaluatorHoldout: Processed 35560 (100.0%) in 11.05 sec. Users per second: 3218\n"
     ]
    },
    {
     "name": "stderr",
     "output_type": "stream",
     "text": [
      "[I 2024-12-24 13:18:06,848] Trial 57 finished with value: 0.05449593656738093 and parameters: {'topK': 24, 'alpha': 0.4576748056722534, 'beta': 0.18538960654742317}. Best is trial 42 with value: 0.05517828622068708.\n"
     ]
    },
    {
     "name": "stdout",
     "output_type": "stream",
     "text": [
      "RP3betaRecommender: Similarity column 38121 (100.0%), 3654.73 column/sec. Elapsed time 10.43 sec\n",
      "EvaluatorHoldout: Processed 35569 (100.0%) in 10.51 sec. Users per second: 3383\n",
      "RP3betaRecommender: Similarity column 38121 (100.0%), 4031.01 column/sec. Elapsed time 9.46 sec\n",
      "EvaluatorHoldout: Processed 35581 (100.0%) in 10.57 sec. Users per second: 3366\n",
      "RP3betaRecommender: Similarity column 38121 (100.0%), 4039.56 column/sec. Elapsed time 9.44 sec\n",
      "EvaluatorHoldout: Processed 35569 (100.0%) in 10.59 sec. Users per second: 3358\n",
      "RP3betaRecommender: Similarity column 38121 (100.0%), 3365.76 column/sec. Elapsed time 11.33 sec\n",
      "EvaluatorHoldout: Processed 35573 (100.0%) in 10.52 sec. Users per second: 3383\n",
      "RP3betaRecommender: Similarity column 38121 (100.0%), 3631.02 column/sec. Elapsed time 10.50 sec\n",
      "EvaluatorHoldout: Processed 35567 (100.0%) in 10.54 sec. Users per second: 3375\n",
      "RP3betaRecommender: Similarity column 38121 (100.0%), 4043.79 column/sec. Elapsed time 9.43 sec\n",
      "EvaluatorHoldout: Processed 35582 (100.0%) in 10.53 sec. Users per second: 3378\n",
      "RP3betaRecommender: Similarity column 38121 (100.0%), 3929.48 column/sec. Elapsed time 9.70 sec\n",
      "EvaluatorHoldout: Processed 35567 (100.0%) in 10.56 sec. Users per second: 3369\n",
      "RP3betaRecommender: Similarity column 38121 (100.0%), 4127.65 column/sec. Elapsed time 9.24 sec\n",
      "EvaluatorHoldout: Processed 35578 (100.0%) in 10.51 sec. Users per second: 3385\n",
      "RP3betaRecommender: Similarity column 38121 (100.0%), 4039.17 column/sec. Elapsed time 9.44 sec\n",
      "EvaluatorHoldout: Processed 35563 (100.0%) in 10.49 sec. Users per second: 3391\n",
      "RP3betaRecommender: Similarity column 38121 (100.0%), 4033.02 column/sec. Elapsed time 9.45 sec\n",
      "EvaluatorHoldout: Processed 35560 (100.0%) in 10.63 sec. Users per second: 3345\n"
     ]
    },
    {
     "name": "stderr",
     "output_type": "stream",
     "text": [
      "[I 2024-12-24 13:21:34,616] Trial 58 finished with value: 0.04726472496585377 and parameters: {'topK': 6, 'alpha': 0.30049347395264175, 'beta': 0.63719872636567}. Best is trial 42 with value: 0.05517828622068708.\n"
     ]
    },
    {
     "name": "stdout",
     "output_type": "stream",
     "text": [
      "RP3betaRecommender: Similarity column 38121 (100.0%), 3268.14 column/sec. Elapsed time 11.66 sec\n",
      "EvaluatorHoldout: Processed 35569 (100.0%) in 12.50 sec. Users per second: 2845\n",
      "RP3betaRecommender: Similarity column 38121 (100.0%), 3251.90 column/sec. Elapsed time 11.72 sec\n",
      "EvaluatorHoldout: Processed 35581 (100.0%) in 12.57 sec. Users per second: 2831\n",
      "RP3betaRecommender: Similarity column 38121 (100.0%), 3317.48 column/sec. Elapsed time 11.49 sec\n",
      "EvaluatorHoldout: Processed 35569 (100.0%) in 12.60 sec. Users per second: 2823\n",
      "RP3betaRecommender: Similarity column 38121 (100.0%), 3278.79 column/sec. Elapsed time 11.63 sec\n",
      "EvaluatorHoldout: Processed 35573 (100.0%) in 12.57 sec. Users per second: 2831\n",
      "RP3betaRecommender: Similarity column 38121 (100.0%), 3252.51 column/sec. Elapsed time 11.72 sec\n",
      "EvaluatorHoldout: Processed 35567 (100.0%) in 12.54 sec. Users per second: 2836\n",
      "RP3betaRecommender: Similarity column 38121 (100.0%), 3278.94 column/sec. Elapsed time 11.63 sec\n",
      "EvaluatorHoldout: Processed 35582 (100.0%) in 12.66 sec. Users per second: 2811\n",
      "RP3betaRecommender: Similarity column 38121 (100.0%), 3280.67 column/sec. Elapsed time 11.62 sec\n",
      "EvaluatorHoldout: Processed 35567 (100.0%) in 12.55 sec. Users per second: 2833\n",
      "RP3betaRecommender: Similarity column 38121 (100.0%), 3245.25 column/sec. Elapsed time 11.75 sec\n",
      "EvaluatorHoldout: Processed 35578 (100.0%) in 12.63 sec. Users per second: 2817\n",
      "RP3betaRecommender: Similarity column 38121 (100.0%), 3252.84 column/sec. Elapsed time 11.72 sec\n",
      "EvaluatorHoldout: Processed 35563 (100.0%) in 12.59 sec. Users per second: 2824\n",
      "RP3betaRecommender: Similarity column 38121 (100.0%), 3291.25 column/sec. Elapsed time 11.58 sec\n",
      "EvaluatorHoldout: Processed 35560 (100.0%) in 12.63 sec. Users per second: 2815\n"
     ]
    },
    {
     "name": "stderr",
     "output_type": "stream",
     "text": [
      "[I 2024-12-24 13:25:57,074] Trial 59 finished with value: 0.05032117966103996 and parameters: {'topK': 90, 'alpha': 0.40949831361786737, 'beta': 0.2150964806781407}. Best is trial 42 with value: 0.05517828622068708.\n"
     ]
    },
    {
     "name": "stdout",
     "output_type": "stream",
     "text": [
      "RP3betaRecommender: Similarity column 38121 (100.0%), 3440.40 column/sec. Elapsed time 11.08 sec\n",
      "EvaluatorHoldout: Processed 35569 (100.0%) in 11.51 sec. Users per second: 3089\n",
      "RP3betaRecommender: Similarity column 38121 (100.0%), 3775.83 column/sec. Elapsed time 10.10 sec\n",
      "EvaluatorHoldout: Processed 35581 (100.0%) in 11.50 sec. Users per second: 3094\n",
      "RP3betaRecommender: Similarity column 38121 (100.0%), 3809.23 column/sec. Elapsed time 10.01 sec\n",
      "EvaluatorHoldout: Processed 35569 (100.0%) in 11.51 sec. Users per second: 3090\n",
      "RP3betaRecommender: Similarity column 38121 (100.0%), 3267.82 column/sec. Elapsed time 11.67 sec\n",
      "EvaluatorHoldout: Processed 35573 (100.0%) in 11.46 sec. Users per second: 3103\n",
      "RP3betaRecommender: Similarity column 38121 (100.0%), 3775.66 column/sec. Elapsed time 10.10 sec\n",
      "EvaluatorHoldout: Processed 35567 (100.0%) in 11.52 sec. Users per second: 3088\n",
      "RP3betaRecommender: Similarity column 38121 (100.0%), 3760.32 column/sec. Elapsed time 10.14 sec\n",
      "EvaluatorHoldout: Processed 35582 (100.0%) in 11.49 sec. Users per second: 3098\n",
      "RP3betaRecommender: Similarity column 38121 (100.0%), 3801.43 column/sec. Elapsed time 10.03 sec\n",
      "EvaluatorHoldout: Processed 35567 (100.0%) in 11.50 sec. Users per second: 3091\n",
      "RP3betaRecommender: Similarity column 38121 (100.0%), 3185.57 column/sec. Elapsed time 11.97 sec\n",
      "EvaluatorHoldout: Processed 35578 (100.0%) in 11.23 sec. Users per second: 3167\n",
      "RP3betaRecommender: Similarity column 38121 (100.0%), 3647.16 column/sec. Elapsed time 10.45 sec\n",
      "EvaluatorHoldout: Processed 35563 (100.0%) in 11.51 sec. Users per second: 3090\n",
      "RP3betaRecommender: Similarity column 38121 (100.0%), 3555.83 column/sec. Elapsed time 10.72 sec\n",
      "EvaluatorHoldout: Processed 35560 (100.0%) in 11.53 sec. Users per second: 3085\n"
     ]
    },
    {
     "name": "stderr",
     "output_type": "stream",
     "text": [
      "[I 2024-12-24 13:29:47,404] Trial 60 finished with value: 0.045259549888561026 and parameters: {'topK': 33, 'alpha': 0.9909270285768919, 'beta': 0.5966709487489148}. Best is trial 42 with value: 0.05517828622068708.\n"
     ]
    },
    {
     "name": "stdout",
     "output_type": "stream",
     "text": [
      "RP3betaRecommender: Similarity column 38121 (100.0%), 3644.88 column/sec. Elapsed time 10.46 sec\n",
      "EvaluatorHoldout: Processed 35569 (100.0%) in 10.88 sec. Users per second: 3270\n",
      "RP3betaRecommender: Similarity column 38121 (100.0%), 3910.02 column/sec. Elapsed time 9.75 sec\n",
      "EvaluatorHoldout: Processed 35581 (100.0%) in 10.76 sec. Users per second: 3308\n",
      "RP3betaRecommender: Similarity column 38121 (100.0%), 3884.15 column/sec. Elapsed time 9.81 sec\n",
      "EvaluatorHoldout: Processed 35569 (100.0%) in 1.63 min. Users per second: 364\n",
      "RP3betaRecommender: Similarity column 38121 (100.0%), 3965.83 column/sec. Elapsed time 9.61 sec\n",
      "EvaluatorHoldout: Processed 35573 (100.0%) in 10.71 sec. Users per second: 3320\n",
      "RP3betaRecommender: Similarity column 38121 (100.0%), 3886.47 column/sec. Elapsed time 9.81 sec\n",
      "EvaluatorHoldout: Processed 35567 (100.0%) in 2.57 min. Users per second: 231\n",
      "RP3betaRecommender: Similarity column 38121 (100.0%), 3986.93 column/sec. Elapsed time 9.56 sec\n",
      "EvaluatorHoldout: Processed 35582 (100.0%) in 10.77 sec. Users per second: 3304\n",
      "RP3betaRecommender: Similarity column 38121 (100.0%), 3939.42 column/sec. Elapsed time 9.68 sec\n",
      "EvaluatorHoldout: Processed 35567 (100.0%) in 10.76 sec. Users per second: 3304\n",
      "RP3betaRecommender: Similarity column 38121 (100.0%), 1856.83 column/sec. Elapsed time 20.53 sec\n",
      "EvaluatorHoldout: Processed 35578 (100.0%) in 10.77 sec. Users per second: 3305\n",
      "RP3betaRecommender: Similarity column 38121 (100.0%), 3929.57 column/sec. Elapsed time 9.70 sec\n",
      "EvaluatorHoldout: Processed 35563 (100.0%) in 10.73 sec. Users per second: 3313\n",
      "RP3betaRecommender: Similarity column 38121 (100.0%), 1068.57 column/sec. Elapsed time 35.67 sec\n",
      "EvaluatorHoldout: Processed 35560 (100.0%) in 10.73 sec. Users per second: 3315\n"
     ]
    },
    {
     "name": "stderr",
     "output_type": "stream",
     "text": [
      "[I 2024-12-24 13:37:45,924] Trial 61 finished with value: 0.05464368161537618 and parameters: {'topK': 19, 'alpha': 0.4662621497003061, 'beta': 0.12492805257225732}. Best is trial 42 with value: 0.05517828622068708.\n"
     ]
    },
    {
     "name": "stdout",
     "output_type": "stream",
     "text": [
      "RP3betaRecommender: Similarity column 38121 (100.0%), 3940.19 column/sec. Elapsed time 9.67 sec\n",
      "EvaluatorHoldout: Processed 35569 (100.0%) in 10.78 sec. Users per second: 3299\n",
      "RP3betaRecommender: Similarity column 38121 (100.0%), 3943.28 column/sec. Elapsed time 9.67 sec\n",
      "EvaluatorHoldout: Processed 35581 (100.0%) in 57.35 sec. Users per second: 620\n",
      "RP3betaRecommender: Similarity column 38121 (100.0%), 3890.34 column/sec. Elapsed time 9.80 sec\n",
      "EvaluatorHoldout: Processed 35569 (100.0%) in 10.77 sec. Users per second: 3304\n",
      "RP3betaRecommender: Similarity column 38121 (100.0%), 3883.89 column/sec. Elapsed time 9.82 sec\n",
      "EvaluatorHoldout: Processed 35573 (100.0%) in 22.59 sec. Users per second: 1575\n",
      "RP3betaRecommender: Similarity column 38121 (100.0%), 3882.59 column/sec. Elapsed time 9.82 sec\n",
      "EvaluatorHoldout: Processed 35567 (100.0%) in 10.75 sec. Users per second: 3310\n",
      "RP3betaRecommender: Similarity column 38121 (100.0%), 3969.48 column/sec. Elapsed time 9.60 sec\n",
      "EvaluatorHoldout: Processed 35582 (100.0%) in 1.40 min. Users per second: 422\n",
      "RP3betaRecommender: Similarity column 38121 (100.0%), 3922.03 column/sec. Elapsed time 9.72 sec\n",
      "EvaluatorHoldout: Processed 35567 (100.0%) in 10.75 sec. Users per second: 3310\n",
      "RP3betaRecommender: Similarity column 38121 (100.0%), 3944.05 column/sec. Elapsed time 9.67 sec\n",
      "EvaluatorHoldout: Processed 35578 (100.0%) in 10.63 sec. Users per second: 3346\n",
      "RP3betaRecommender: Similarity column 38121 (100.0%), 1727.28 column/sec. Elapsed time 22.07 sec\n",
      "EvaluatorHoldout: Processed 35563 (100.0%) in 10.75 sec. Users per second: 3307\n",
      "RP3betaRecommender: Similarity column 38121 (100.0%), 3948.11 column/sec. Elapsed time 9.66 sec\n",
      "EvaluatorHoldout: Processed 35560 (100.0%) in 10.77 sec. Users per second: 3303\n"
     ]
    },
    {
     "name": "stderr",
     "output_type": "stream",
     "text": [
      "[I 2024-12-24 13:43:40,423] Trial 62 finished with value: 0.054996436589282605 and parameters: {'topK': 17, 'alpha': 0.4328498843770064, 'beta': 0.18056448935686142}. Best is trial 42 with value: 0.05517828622068708.\n"
     ]
    },
    {
     "name": "stdout",
     "output_type": "stream",
     "text": [
      "RP3betaRecommender: Similarity column 29600 (77.6%), 62.73 column/sec. Elapsed time 7.86 min\n",
      "RP3betaRecommender: Similarity column 38121 (100.0%), 80.47 column/sec. Elapsed time 7.90 min\n",
      "EvaluatorHoldout: Processed 35569 (100.0%) in 10.91 sec. Users per second: 3260\n",
      "RP3betaRecommender: Similarity column 38121 (100.0%), 3826.61 column/sec. Elapsed time 9.96 sec\n",
      "EvaluatorHoldout: Processed 35581 (100.0%) in 10.97 sec. Users per second: 3244\n",
      "RP3betaRecommender: Similarity column 38121 (100.0%), 3864.60 column/sec. Elapsed time 9.86 sec\n",
      "EvaluatorHoldout: Processed 35569 (100.0%) in 10.92 sec. Users per second: 3258\n",
      "RP3betaRecommender: Similarity column 38121 (100.0%), 3843.31 column/sec. Elapsed time 9.92 sec\n",
      "EvaluatorHoldout: Processed 35573 (100.0%) in 10.98 sec. Users per second: 3239\n",
      "RP3betaRecommender: Similarity column 38121 (100.0%), 3548.63 column/sec. Elapsed time 10.74 sec\n",
      "EvaluatorHoldout: Processed 35567 (100.0%) in 10.97 sec. Users per second: 3243\n",
      "RP3betaRecommender: Similarity column 38121 (100.0%), 3875.32 column/sec. Elapsed time 9.84 sec\n",
      "EvaluatorHoldout: Processed 35582 (100.0%) in 10.99 sec. Users per second: 3237\n",
      "RP3betaRecommender: Similarity column 38121 (100.0%), 3813.08 column/sec. Elapsed time 10.00 sec\n",
      "EvaluatorHoldout: Processed 35567 (100.0%) in 10.90 sec. Users per second: 3263\n",
      "RP3betaRecommender: Similarity column 38121 (100.0%), 3802.66 column/sec. Elapsed time 10.02 sec\n",
      "EvaluatorHoldout: Processed 35578 (100.0%) in 11.04 sec. Users per second: 3224\n",
      "RP3betaRecommender: Similarity column 38121 (100.0%), 3586.40 column/sec. Elapsed time 10.63 sec\n",
      "EvaluatorHoldout: Processed 35563 (100.0%) in 11.05 sec. Users per second: 3217\n",
      "RP3betaRecommender: Similarity column 38121 (100.0%), 986.38 column/sec. Elapsed time 38.65 sec\n",
      "EvaluatorHoldout: Processed 35560 (100.0%) in 10.95 sec. Users per second: 3248\n"
     ]
    },
    {
     "name": "stderr",
     "output_type": "stream",
     "text": [
      "[I 2024-12-24 13:55:30,361] Trial 63 finished with value: 0.05447642082473442 and parameters: {'topK': 25, 'alpha': 0.3450264104952252, 'beta': 0.18350279170990652}. Best is trial 42 with value: 0.05517828622068708.\n"
     ]
    },
    {
     "name": "stdout",
     "output_type": "stream",
     "text": [
      "RP3betaRecommender: Similarity column 38121 (100.0%), 3613.06 column/sec. Elapsed time 10.55 sec\n",
      "EvaluatorHoldout: Processed 35569 (100.0%) in 11.87 sec. Users per second: 2998\n",
      "RP3betaRecommender: Similarity column 33000 (86.6%), 34.92 column/sec. Elapsed time 15.75 min\n",
      "RP3betaRecommender: Similarity column 38121 (100.0%), 40.29 column/sec. Elapsed time 15.77 min\n",
      "EvaluatorHoldout: Processed 35581 (100.0%) in 11.47 sec. Users per second: 3103\n",
      "RP3betaRecommender: Similarity column 38121 (100.0%), 3672.97 column/sec. Elapsed time 10.38 sec\n",
      "EvaluatorHoldout: Processed 35569 (100.0%) in 11.15 sec. Users per second: 3190\n",
      "RP3betaRecommender: Similarity column 38121 (100.0%), 3569.81 column/sec. Elapsed time 10.68 sec\n",
      "EvaluatorHoldout: Processed 35573 (100.0%) in 11.75 sec. Users per second: 3026\n",
      "RP3betaRecommender: Similarity column 38121 (100.0%), 3615.14 column/sec. Elapsed time 10.54 sec\n",
      "EvaluatorHoldout: Processed 35567 (100.0%) in 11.76 sec. Users per second: 3024\n",
      "RP3betaRecommender: Similarity column 38121 (100.0%), 3624.39 column/sec. Elapsed time 10.52 sec\n",
      "EvaluatorHoldout: Processed 35582 (100.0%) in 11.77 sec. Users per second: 3024\n",
      "RP3betaRecommender: Similarity column 38121 (100.0%), 3235.15 column/sec. Elapsed time 11.78 sec\n",
      "EvaluatorHoldout: Processed 35567 (100.0%) in 11.77 sec. Users per second: 3022\n",
      "RP3betaRecommender: Similarity column 38121 (100.0%), 3663.12 column/sec. Elapsed time 10.41 sec\n",
      "EvaluatorHoldout: Processed 35578 (100.0%) in 11.73 sec. Users per second: 3034\n",
      "RP3betaRecommender: Similarity column 38121 (100.0%), 3631.89 column/sec. Elapsed time 10.50 sec\n",
      "EvaluatorHoldout: Processed 35563 (100.0%) in 11.77 sec. Users per second: 3022\n",
      "RP3betaRecommender: Similarity column 38121 (100.0%), 3660.84 column/sec. Elapsed time 10.41 sec\n",
      "EvaluatorHoldout: Processed 35560 (100.0%) in 11.76 sec. Users per second: 3025\n"
     ]
    },
    {
     "name": "stderr",
     "output_type": "stream",
     "text": [
      "[I 2024-12-24 14:15:01,302] Trial 64 finished with value: 0.05259601437142551 and parameters: {'topK': 48, 'alpha': 0.5274755179531527, 'beta': 0.2615777407296832}. Best is trial 42 with value: 0.05517828622068708.\n"
     ]
    },
    {
     "name": "stdout",
     "output_type": "stream",
     "text": [
      "RP3betaRecommender: Similarity column 38121 (100.0%), 1995.99 column/sec. Elapsed time 19.10 sec\n",
      "EvaluatorHoldout: Processed 35569 (100.0%) in 17.26 sec. Users per second: 2061\n",
      "RP3betaRecommender: Similarity column 38121 (100.0%), 2251.16 column/sec. Elapsed time 16.93 sec\n",
      "EvaluatorHoldout: Processed 35581 (100.0%) in 17.32 sec. Users per second: 2055\n",
      "RP3betaRecommender: Similarity column 38121 (100.0%), 2224.13 column/sec. Elapsed time 17.14 sec\n",
      "EvaluatorHoldout: Processed 35569 (100.0%) in 17.26 sec. Users per second: 2061\n",
      "RP3betaRecommender: Similarity column 38121 (100.0%), 2224.39 column/sec. Elapsed time 17.14 sec\n",
      "EvaluatorHoldout: Processed 35573 (100.0%) in 17.21 sec. Users per second: 2067\n",
      "RP3betaRecommender: Similarity column 38121 (100.0%), 2227.46 column/sec. Elapsed time 17.11 sec\n",
      "EvaluatorHoldout: Processed 35567 (100.0%) in 17.29 sec. Users per second: 2057\n",
      "RP3betaRecommender: Similarity column 38121 (100.0%), 2209.37 column/sec. Elapsed time 17.25 sec\n",
      "EvaluatorHoldout: Processed 35582 (100.0%) in 17.29 sec. Users per second: 2058\n",
      "RP3betaRecommender: Similarity column 38121 (100.0%), 2207.42 column/sec. Elapsed time 17.27 sec\n",
      "EvaluatorHoldout: Processed 35567 (100.0%) in 17.23 sec. Users per second: 2065\n",
      "RP3betaRecommender: Similarity column 38121 (100.0%), 2214.88 column/sec. Elapsed time 17.21 sec\n",
      "EvaluatorHoldout: Processed 35578 (100.0%) in 17.29 sec. Users per second: 2057\n",
      "RP3betaRecommender: Similarity column 38121 (100.0%), 2215.99 column/sec. Elapsed time 17.20 sec\n",
      "EvaluatorHoldout: Processed 35563 (100.0%) in 17.26 sec. Users per second: 2061\n",
      "RP3betaRecommender: Similarity column 38121 (100.0%), 2207.30 column/sec. Elapsed time 17.27 sec\n",
      "EvaluatorHoldout: Processed 35560 (100.0%) in 17.16 sec. Users per second: 2072\n"
     ]
    },
    {
     "name": "stderr",
     "output_type": "stream",
     "text": [
      "[I 2024-12-24 14:21:55,668] Trial 65 finished with value: 0.038533983633923394 and parameters: {'topK': 298, 'alpha': 0.39438006514735313, 'beta': 0.7324164991591868}. Best is trial 42 with value: 0.05517828622068708.\n"
     ]
    },
    {
     "name": "stdout",
     "output_type": "stream",
     "text": [
      "RP3betaRecommender: Similarity column 38121 (100.0%), 3954.10 column/sec. Elapsed time 9.64 sec\n",
      "EvaluatorHoldout: Processed 35569 (100.0%) in 10.70 sec. Users per second: 3324\n",
      "RP3betaRecommender: Similarity column 38121 (100.0%), 3636.26 column/sec. Elapsed time 10.48 sec\n",
      "EvaluatorHoldout: Processed 35581 (100.0%) in 10.71 sec. Users per second: 3321\n",
      "RP3betaRecommender: Similarity column 38121 (100.0%), 3905.41 column/sec. Elapsed time 9.76 sec\n",
      "EvaluatorHoldout: Processed 35569 (100.0%) in 10.77 sec. Users per second: 3303\n",
      "RP3betaRecommender: Similarity column 38121 (100.0%), 3953.45 column/sec. Elapsed time 9.64 sec\n",
      "EvaluatorHoldout: Processed 35573 (100.0%) in 10.74 sec. Users per second: 3313\n",
      "RP3betaRecommender: Similarity column 38121 (100.0%), 3939.22 column/sec. Elapsed time 9.68 sec\n",
      "EvaluatorHoldout: Processed 35567 (100.0%) in 10.69 sec. Users per second: 3328\n",
      "RP3betaRecommender: Similarity column 38121 (100.0%), 3951.69 column/sec. Elapsed time 9.65 sec\n",
      "EvaluatorHoldout: Processed 35582 (100.0%) in 10.73 sec. Users per second: 3316\n",
      "RP3betaRecommender: Similarity column 38121 (100.0%), 3919.25 column/sec. Elapsed time 9.73 sec\n",
      "EvaluatorHoldout: Processed 35567 (100.0%) in 10.72 sec. Users per second: 3317\n",
      "RP3betaRecommender: Similarity column 38121 (100.0%), 3920.55 column/sec. Elapsed time 9.72 sec\n",
      "EvaluatorHoldout: Processed 35578 (100.0%) in 10.69 sec. Users per second: 3330\n",
      "RP3betaRecommender: Similarity column 38121 (100.0%), 4015.65 column/sec. Elapsed time 9.49 sec\n",
      "EvaluatorHoldout: Processed 35563 (100.0%) in 10.71 sec. Users per second: 3320\n",
      "RP3betaRecommender: Similarity column 38121 (100.0%), 3921.10 column/sec. Elapsed time 9.72 sec\n",
      "EvaluatorHoldout: Processed 35560 (100.0%) in 10.70 sec. Users per second: 3323\n"
     ]
    },
    {
     "name": "stderr",
     "output_type": "stream",
     "text": [
      "[I 2024-12-24 14:25:25,467] Trial 66 finished with value: 0.05058820596873961 and parameters: {'topK': 13, 'alpha': 1.3396377029387387, 'beta': 0.1557301520456467}. Best is trial 42 with value: 0.05517828622068708.\n"
     ]
    },
    {
     "name": "stdout",
     "output_type": "stream",
     "text": [
      "RP3betaRecommender: Similarity column 38121 (100.0%), 3727.94 column/sec. Elapsed time 10.23 sec\n",
      "EvaluatorHoldout: Processed 35569 (100.0%) in 11.32 sec. Users per second: 3142\n",
      "RP3betaRecommender: Similarity column 38121 (100.0%), 3702.60 column/sec. Elapsed time 10.30 sec\n",
      "EvaluatorHoldout: Processed 35581 (100.0%) in 11.37 sec. Users per second: 3131\n",
      "RP3betaRecommender: Similarity column 38121 (100.0%), 3760.69 column/sec. Elapsed time 10.14 sec\n",
      "EvaluatorHoldout: Processed 35569 (100.0%) in 11.34 sec. Users per second: 3138\n",
      "RP3betaRecommender: Similarity column 38121 (100.0%), 3787.91 column/sec. Elapsed time 10.06 sec\n",
      "EvaluatorHoldout: Processed 35573 (100.0%) in 11.27 sec. Users per second: 3157\n",
      "RP3betaRecommender: Similarity column 38121 (100.0%), 3601.77 column/sec. Elapsed time 10.58 sec\n",
      "EvaluatorHoldout: Processed 35567 (100.0%) in 11.36 sec. Users per second: 3130\n",
      "RP3betaRecommender: Similarity column 38121 (100.0%), 3443.79 column/sec. Elapsed time 11.07 sec\n",
      "EvaluatorHoldout: Processed 35582 (100.0%) in 11.34 sec. Users per second: 3137\n",
      "RP3betaRecommender: Similarity column 38121 (100.0%), 3767.76 column/sec. Elapsed time 10.12 sec\n",
      "EvaluatorHoldout: Processed 35567 (100.0%) in 11.34 sec. Users per second: 3136\n",
      "RP3betaRecommender: Similarity column 38121 (100.0%), 3775.50 column/sec. Elapsed time 10.10 sec\n",
      "EvaluatorHoldout: Processed 35578 (100.0%) in 11.34 sec. Users per second: 3137\n",
      "RP3betaRecommender: Similarity column 38121 (100.0%), 3728.76 column/sec. Elapsed time 10.22 sec\n",
      "EvaluatorHoldout: Processed 35563 (100.0%) in 11.34 sec. Users per second: 3137\n",
      "RP3betaRecommender: Similarity column 38121 (100.0%), 3094.58 column/sec. Elapsed time 12.32 sec\n",
      "EvaluatorHoldout: Processed 35560 (100.0%) in 11.22 sec. Users per second: 3168\n"
     ]
    },
    {
     "name": "stderr",
     "output_type": "stream",
     "text": [
      "[I 2024-12-24 14:29:12,909] Trial 67 finished with value: 0.053728499880959936 and parameters: {'topK': 33, 'alpha': 0.4464554427677337, 'beta': 0.28354517273013236}. Best is trial 42 with value: 0.05517828622068708.\n"
     ]
    },
    {
     "name": "stdout",
     "output_type": "stream",
     "text": [
      "RP3betaRecommender: Similarity column 38121 (100.0%), 3477.10 column/sec. Elapsed time 10.96 sec\n",
      "EvaluatorHoldout: Processed 35569 (100.0%) in 12.05 sec. Users per second: 2953\n",
      "RP3betaRecommender: Similarity column 38121 (100.0%), 3529.55 column/sec. Elapsed time 10.80 sec\n",
      "EvaluatorHoldout: Processed 35581 (100.0%) in 12.17 sec. Users per second: 2925\n",
      "RP3betaRecommender: Similarity column 38121 (100.0%), 3500.02 column/sec. Elapsed time 10.89 sec\n",
      "EvaluatorHoldout: Processed 35569 (100.0%) in 12.00 sec. Users per second: 2965\n",
      "RP3betaRecommender: Similarity column 38121 (100.0%), 3500.07 column/sec. Elapsed time 10.89 sec\n",
      "EvaluatorHoldout: Processed 35573 (100.0%) in 12.04 sec. Users per second: 2955\n",
      "RP3betaRecommender: Similarity column 38121 (100.0%), 3510.38 column/sec. Elapsed time 10.86 sec\n",
      "EvaluatorHoldout: Processed 35567 (100.0%) in 11.99 sec. Users per second: 2965\n",
      "RP3betaRecommender: Similarity column 38121 (100.0%), 3196.75 column/sec. Elapsed time 11.92 sec\n",
      "EvaluatorHoldout: Processed 35582 (100.0%) in 12.02 sec. Users per second: 2960\n",
      "RP3betaRecommender: Similarity column 38121 (100.0%), 3548.91 column/sec. Elapsed time 10.74 sec\n",
      "EvaluatorHoldout: Processed 35567 (100.0%) in 11.98 sec. Users per second: 2968\n",
      "RP3betaRecommender: Similarity column 38121 (100.0%), 3529.85 column/sec. Elapsed time 10.80 sec\n",
      "EvaluatorHoldout: Processed 35578 (100.0%) in 12.01 sec. Users per second: 2963\n",
      "RP3betaRecommender: Similarity column 38121 (100.0%), 3496.94 column/sec. Elapsed time 10.90 sec\n",
      "EvaluatorHoldout: Processed 35563 (100.0%) in 11.93 sec. Users per second: 2980\n",
      "RP3betaRecommender: Similarity column 38121 (100.0%), 3488.08 column/sec. Elapsed time 10.93 sec\n",
      "EvaluatorHoldout: Processed 35560 (100.0%) in 12.12 sec. Users per second: 2935\n"
     ]
    },
    {
     "name": "stderr",
     "output_type": "stream",
     "text": [
      "[I 2024-12-24 14:33:17,400] Trial 68 finished with value: 0.051798249314694365 and parameters: {'topK': 61, 'alpha': 0.5052905902107107, 'beta': 0.22662032468689117}. Best is trial 42 with value: 0.05517828622068708.\n"
     ]
    },
    {
     "name": "stdout",
     "output_type": "stream",
     "text": [
      "RP3betaRecommender: Similarity column 38121 (100.0%), 4081.16 column/sec. Elapsed time 9.34 sec\n",
      "EvaluatorHoldout: Processed 35569 (100.0%) in 10.43 sec. Users per second: 3409\n",
      "RP3betaRecommender: Similarity column 38121 (100.0%), 4094.38 column/sec. Elapsed time 9.31 sec\n",
      "EvaluatorHoldout: Processed 35581 (100.0%) in 10.48 sec. Users per second: 3396\n",
      "RP3betaRecommender: Similarity column 38121 (100.0%), 3424.63 column/sec. Elapsed time 11.13 sec\n",
      "EvaluatorHoldout: Processed 35569 (100.0%) in 10.43 sec. Users per second: 3410\n",
      "RP3betaRecommender: Similarity column 38121 (100.0%), 4040.16 column/sec. Elapsed time 9.44 sec\n",
      "EvaluatorHoldout: Processed 35573 (100.0%) in 10.45 sec. Users per second: 3404\n",
      "RP3betaRecommender: Similarity column 38121 (100.0%), 4113.47 column/sec. Elapsed time 9.27 sec\n",
      "EvaluatorHoldout: Processed 35567 (100.0%) in 10.46 sec. Users per second: 3402\n",
      "RP3betaRecommender: Similarity column 38121 (100.0%), 4066.11 column/sec. Elapsed time 9.38 sec\n",
      "EvaluatorHoldout: Processed 35582 (100.0%) in 10.45 sec. Users per second: 3405\n",
      "RP3betaRecommender: Similarity column 38121 (100.0%), 4088.98 column/sec. Elapsed time 9.32 sec\n",
      "EvaluatorHoldout: Processed 35567 (100.0%) in 10.49 sec. Users per second: 3390\n",
      "RP3betaRecommender: Similarity column 38121 (100.0%), 4060.70 column/sec. Elapsed time 9.39 sec\n",
      "EvaluatorHoldout: Processed 35578 (100.0%) in 10.42 sec. Users per second: 3414\n",
      "RP3betaRecommender: Similarity column 38121 (100.0%), 4015.17 column/sec. Elapsed time 9.49 sec\n",
      "EvaluatorHoldout: Processed 35563 (100.0%) in 10.45 sec. Users per second: 3403\n",
      "RP3betaRecommender: Similarity column 38121 (100.0%), 3570.57 column/sec. Elapsed time 10.68 sec\n",
      "EvaluatorHoldout: Processed 35560 (100.0%) in 10.39 sec. Users per second: 3422\n"
     ]
    },
    {
     "name": "stderr",
     "output_type": "stream",
     "text": [
      "[I 2024-12-24 14:36:42,335] Trial 69 finished with value: 0.052770905875218446 and parameters: {'topK': 6, 'alpha': 0.32819142288937514, 'beta': 0.17707925997924645}. Best is trial 42 with value: 0.05517828622068708.\n"
     ]
    },
    {
     "name": "stdout",
     "output_type": "stream",
     "text": [
      "RP3betaRecommender: Similarity column 38121 (100.0%), 3232.86 column/sec. Elapsed time 11.79 sec\n",
      "EvaluatorHoldout: Processed 35569 (100.0%) in 11.30 sec. Users per second: 3148\n",
      "RP3betaRecommender: Similarity column 38121 (100.0%), 3671.78 column/sec. Elapsed time 10.38 sec\n",
      "EvaluatorHoldout: Processed 35581 (100.0%) in 11.39 sec. Users per second: 3124\n",
      "RP3betaRecommender: Similarity column 38121 (100.0%), 3678.74 column/sec. Elapsed time 10.36 sec\n",
      "EvaluatorHoldout: Processed 35569 (100.0%) in 11.28 sec. Users per second: 3152\n",
      "RP3betaRecommender: Similarity column 38121 (100.0%), 3701.25 column/sec. Elapsed time 10.30 sec\n",
      "EvaluatorHoldout: Processed 35573 (100.0%) in 11.31 sec. Users per second: 3146\n",
      "RP3betaRecommender: Similarity column 38121 (100.0%), 3460.87 column/sec. Elapsed time 11.01 sec\n",
      "EvaluatorHoldout: Processed 35567 (100.0%) in 11.28 sec. Users per second: 3153\n",
      "RP3betaRecommender: Similarity column 38121 (100.0%), 3677.29 column/sec. Elapsed time 10.37 sec\n",
      "EvaluatorHoldout: Processed 35582 (100.0%) in 11.29 sec. Users per second: 3153\n",
      "RP3betaRecommender: Similarity column 38121 (100.0%), 3647.18 column/sec. Elapsed time 10.45 sec\n",
      "EvaluatorHoldout: Processed 35567 (100.0%) in 11.30 sec. Users per second: 3149\n",
      "RP3betaRecommender: Similarity column 38121 (100.0%), 3686.88 column/sec. Elapsed time 10.34 sec\n",
      "EvaluatorHoldout: Processed 35578 (100.0%) in 11.29 sec. Users per second: 3151\n",
      "RP3betaRecommender: Similarity column 38121 (100.0%), 3695.04 column/sec. Elapsed time 10.32 sec\n",
      "EvaluatorHoldout: Processed 35563 (100.0%) in 11.27 sec. Users per second: 3154\n",
      "RP3betaRecommender: Similarity column 38121 (100.0%), 3705.27 column/sec. Elapsed time 10.29 sec\n",
      "EvaluatorHoldout: Processed 35560 (100.0%) in 11.28 sec. Users per second: 3153\n"
     ]
    },
    {
     "name": "stderr",
     "output_type": "stream",
     "text": [
      "[I 2024-12-24 14:40:30,356] Trial 70 finished with value: 0.05286714254697311 and parameters: {'topK': 39, 'alpha': 0.5561600871148827, 'beta': 0.13285447358666147}. Best is trial 42 with value: 0.05517828622068708.\n"
     ]
    },
    {
     "name": "stdout",
     "output_type": "stream",
     "text": [
      "RP3betaRecommender: Similarity column 38121 (100.0%), 3893.31 column/sec. Elapsed time 9.79 sec\n",
      "EvaluatorHoldout: Processed 35569 (100.0%) in 10.72 sec. Users per second: 3318\n",
      "RP3betaRecommender: Similarity column 38121 (100.0%), 3953.80 column/sec. Elapsed time 9.64 sec\n",
      "EvaluatorHoldout: Processed 35581 (100.0%) in 10.77 sec. Users per second: 3303\n",
      "RP3betaRecommender: Similarity column 38121 (100.0%), 3944.36 column/sec. Elapsed time 9.66 sec\n",
      "EvaluatorHoldout: Processed 35569 (100.0%) in 10.76 sec. Users per second: 3304\n",
      "RP3betaRecommender: Similarity column 38121 (100.0%), 3863.09 column/sec. Elapsed time 9.87 sec\n",
      "EvaluatorHoldout: Processed 35573 (100.0%) in 10.69 sec. Users per second: 3327\n",
      "RP3betaRecommender: Similarity column 38121 (100.0%), 3872.43 column/sec. Elapsed time 9.84 sec\n",
      "EvaluatorHoldout: Processed 35567 (100.0%) in 10.72 sec. Users per second: 3317\n",
      "RP3betaRecommender: Similarity column 38121 (100.0%), 3499.21 column/sec. Elapsed time 10.89 sec\n",
      "EvaluatorHoldout: Processed 35582 (100.0%) in 10.81 sec. Users per second: 3291\n",
      "RP3betaRecommender: Similarity column 38121 (100.0%), 3944.44 column/sec. Elapsed time 9.66 sec\n",
      "EvaluatorHoldout: Processed 35567 (100.0%) in 10.71 sec. Users per second: 3321\n",
      "RP3betaRecommender: Similarity column 38121 (100.0%), 3919.62 column/sec. Elapsed time 9.73 sec\n",
      "EvaluatorHoldout: Processed 35578 (100.0%) in 10.71 sec. Users per second: 3323\n",
      "RP3betaRecommender: Similarity column 38121 (100.0%), 3912.57 column/sec. Elapsed time 9.74 sec\n",
      "EvaluatorHoldout: Processed 35563 (100.0%) in 10.62 sec. Users per second: 3349\n",
      "RP3betaRecommender: Similarity column 38121 (100.0%), 3532.77 column/sec. Elapsed time 10.79 sec\n",
      "EvaluatorHoldout: Processed 35560 (100.0%) in 10.43 sec. Users per second: 3408\n"
     ]
    },
    {
     "name": "stderr",
     "output_type": "stream",
     "text": [
      "[I 2024-12-24 14:44:02,383] Trial 71 finished with value: 0.05464393794559572 and parameters: {'topK': 18, 'alpha': 0.43265090860670874, 'beta': 0.10673394419257859}. Best is trial 42 with value: 0.05517828622068708.\n"
     ]
    },
    {
     "name": "stdout",
     "output_type": "stream",
     "text": [
      "RP3betaRecommender: Similarity column 38121 (100.0%), 3883.35 column/sec. Elapsed time 9.82 sec\n",
      "EvaluatorHoldout: Processed 35569 (100.0%) in 11.00 sec. Users per second: 3234\n",
      "RP3betaRecommender: Similarity column 38121 (100.0%), 3652.56 column/sec. Elapsed time 10.44 sec\n",
      "EvaluatorHoldout: Processed 35581 (100.0%) in 10.96 sec. Users per second: 3246\n",
      "RP3betaRecommender: Similarity column 38121 (100.0%), 3824.31 column/sec. Elapsed time 9.97 sec\n",
      "EvaluatorHoldout: Processed 35569 (100.0%) in 11.06 sec. Users per second: 3215\n",
      "RP3betaRecommender: Similarity column 38121 (100.0%), 3805.56 column/sec. Elapsed time 10.02 sec\n",
      "EvaluatorHoldout: Processed 35573 (100.0%) in 11.00 sec. Users per second: 3233\n",
      "RP3betaRecommender: Similarity column 38121 (100.0%), 3823.76 column/sec. Elapsed time 9.97 sec\n",
      "EvaluatorHoldout: Processed 35567 (100.0%) in 11.01 sec. Users per second: 3231\n",
      "RP3betaRecommender: Similarity column 38121 (100.0%), 3873.10 column/sec. Elapsed time 9.84 sec\n",
      "EvaluatorHoldout: Processed 35582 (100.0%) in 10.95 sec. Users per second: 3251\n",
      "RP3betaRecommender: Similarity column 38121 (100.0%), 3832.87 column/sec. Elapsed time 9.95 sec\n",
      "EvaluatorHoldout: Processed 35567 (100.0%) in 10.96 sec. Users per second: 3246\n",
      "RP3betaRecommender: Similarity column 38121 (100.0%), 3794.92 column/sec. Elapsed time 10.05 sec\n",
      "EvaluatorHoldout: Processed 35578 (100.0%) in 10.95 sec. Users per second: 3250\n",
      "RP3betaRecommender: Similarity column 38121 (100.0%), 3867.52 column/sec. Elapsed time 9.86 sec\n",
      "EvaluatorHoldout: Processed 35563 (100.0%) in 10.96 sec. Users per second: 3245\n",
      "RP3betaRecommender: Similarity column 38121 (100.0%), 3491.85 column/sec. Elapsed time 10.92 sec\n",
      "EvaluatorHoldout: Processed 35560 (100.0%) in 11.00 sec. Users per second: 3233\n"
     ]
    },
    {
     "name": "stderr",
     "output_type": "stream",
     "text": [
      "[I 2024-12-24 14:47:39,922] Trial 72 finished with value: 0.054430637962084916 and parameters: {'topK': 25, 'alpha': 0.3780646714369322, 'beta': 0.17019492167205244}. Best is trial 42 with value: 0.05517828622068708.\n"
     ]
    },
    {
     "name": "stdout",
     "output_type": "stream",
     "text": [
      "RP3betaRecommender: Similarity column 38121 (100.0%), 3517.63 column/sec. Elapsed time 10.84 sec\n",
      "EvaluatorHoldout: Processed 35569 (100.0%) in 10.71 sec. Users per second: 3322\n",
      "RP3betaRecommender: Similarity column 38121 (100.0%), 3927.31 column/sec. Elapsed time 9.71 sec\n",
      "EvaluatorHoldout: Processed 35581 (100.0%) in 10.72 sec. Users per second: 3319\n",
      "RP3betaRecommender: Similarity column 38121 (100.0%), 3719.75 column/sec. Elapsed time 10.25 sec\n",
      "EvaluatorHoldout: Processed 35569 (100.0%) in 10.72 sec. Users per second: 3319\n",
      "RP3betaRecommender: Similarity column 38121 (100.0%), 3910.50 column/sec. Elapsed time 9.75 sec\n",
      "EvaluatorHoldout: Processed 35573 (100.0%) in 10.66 sec. Users per second: 3337\n",
      "RP3betaRecommender: Similarity column 38121 (100.0%), 3994.64 column/sec. Elapsed time 9.54 sec\n",
      "EvaluatorHoldout: Processed 35567 (100.0%) in 10.71 sec. Users per second: 3322\n",
      "RP3betaRecommender: Similarity column 38121 (100.0%), 3495.33 column/sec. Elapsed time 10.91 sec\n",
      "EvaluatorHoldout: Processed 35582 (100.0%) in 10.66 sec. Users per second: 3339\n",
      "RP3betaRecommender: Similarity column 38121 (100.0%), 3895.12 column/sec. Elapsed time 9.79 sec\n",
      "EvaluatorHoldout: Processed 35567 (100.0%) in 10.69 sec. Users per second: 3327\n",
      "RP3betaRecommender: Similarity column 38121 (100.0%), 3965.05 column/sec. Elapsed time 9.61 sec\n",
      "EvaluatorHoldout: Processed 35578 (100.0%) in 10.66 sec. Users per second: 3338\n",
      "RP3betaRecommender: Similarity column 38121 (100.0%), 3877.91 column/sec. Elapsed time 9.83 sec\n",
      "EvaluatorHoldout: Processed 35563 (100.0%) in 10.70 sec. Users per second: 3322\n",
      "RP3betaRecommender: Similarity column 38121 (100.0%), 3890.60 column/sec. Elapsed time 9.80 sec\n",
      "EvaluatorHoldout: Processed 35560 (100.0%) in 10.67 sec. Users per second: 3334\n"
     ]
    },
    {
     "name": "stderr",
     "output_type": "stream",
     "text": [
      "[I 2024-12-24 14:51:11,865] Trial 73 finished with value: 0.05491115672896503 and parameters: {'topK': 15, 'alpha': 0.42018169860905885, 'beta': 0.11909545613343217}. Best is trial 42 with value: 0.05517828622068708.\n"
     ]
    },
    {
     "name": "stdout",
     "output_type": "stream",
     "text": [
      "RP3betaRecommender: Similarity column 38121 (100.0%), 3210.71 column/sec. Elapsed time 11.87 sec\n",
      "EvaluatorHoldout: Processed 35569 (100.0%) in 10.83 sec. Users per second: 3283\n",
      "RP3betaRecommender: Similarity column 38121 (100.0%), 3962.62 column/sec. Elapsed time 9.62 sec\n",
      "EvaluatorHoldout: Processed 35581 (100.0%) in 10.84 sec. Users per second: 3282\n",
      "RP3betaRecommender: Similarity column 38121 (100.0%), 3954.03 column/sec. Elapsed time 9.64 sec\n",
      "EvaluatorHoldout: Processed 35569 (100.0%) in 10.88 sec. Users per second: 3269\n",
      "RP3betaRecommender: Similarity column 38121 (100.0%), 3974.93 column/sec. Elapsed time 9.59 sec\n",
      "EvaluatorHoldout: Processed 35573 (100.0%) in 10.80 sec. Users per second: 3293\n",
      "RP3betaRecommender: Similarity column 38121 (100.0%), 3912.46 column/sec. Elapsed time 9.74 sec\n",
      "EvaluatorHoldout: Processed 35567 (100.0%) in 10.92 sec. Users per second: 3258\n",
      "RP3betaRecommender: Similarity column 38121 (100.0%), 3957.52 column/sec. Elapsed time 9.63 sec\n",
      "EvaluatorHoldout: Processed 35582 (100.0%) in 10.79 sec. Users per second: 3297\n",
      "RP3betaRecommender: Similarity column 38121 (100.0%), 3898.72 column/sec. Elapsed time 9.78 sec\n",
      "EvaluatorHoldout: Processed 35567 (100.0%) in 10.87 sec. Users per second: 3272\n",
      "RP3betaRecommender: Similarity column 38121 (100.0%), 3809.70 column/sec. Elapsed time 10.01 sec\n",
      "EvaluatorHoldout: Processed 35578 (100.0%) in 10.84 sec. Users per second: 3281\n",
      "RP3betaRecommender: Similarity column 38121 (100.0%), 3630.34 column/sec. Elapsed time 10.50 sec\n",
      "EvaluatorHoldout: Processed 35563 (100.0%) in 10.80 sec. Users per second: 3293\n",
      "RP3betaRecommender: Similarity column 38121 (100.0%), 3916.21 column/sec. Elapsed time 9.73 sec\n",
      "EvaluatorHoldout: Processed 35560 (100.0%) in 10.80 sec. Users per second: 3293\n"
     ]
    },
    {
     "name": "stderr",
     "output_type": "stream",
     "text": [
      "[I 2024-12-24 14:54:45,804] Trial 74 finished with value: 0.05299577176513644 and parameters: {'topK': 13, 'alpha': 0.41158050368890226, 'beta': 0.47361653086377115}. Best is trial 42 with value: 0.05517828622068708.\n"
     ]
    },
    {
     "name": "stdout",
     "output_type": "stream",
     "text": [
      "RP3betaRecommender: Similarity column 38121 (100.0%), 3587.94 column/sec. Elapsed time 10.62 sec\n",
      "EvaluatorHoldout: Processed 35569 (100.0%) in 11.63 sec. Users per second: 3059\n",
      "RP3betaRecommender: Similarity column 38121 (100.0%), 3639.27 column/sec. Elapsed time 10.47 sec\n",
      "EvaluatorHoldout: Processed 35581 (100.0%) in 11.70 sec. Users per second: 3041\n",
      "RP3betaRecommender: Similarity column 38121 (100.0%), 3235.25 column/sec. Elapsed time 11.78 sec\n",
      "EvaluatorHoldout: Processed 35569 (100.0%) in 11.38 sec. Users per second: 3125\n",
      "RP3betaRecommender: Similarity column 38121 (100.0%), 3062.40 column/sec. Elapsed time 12.45 sec\n",
      "EvaluatorHoldout: Processed 35573 (100.0%) in 11.56 sec. Users per second: 3078\n",
      "RP3betaRecommender: Similarity column 38121 (100.0%), 3257.86 column/sec. Elapsed time 11.70 sec\n",
      "EvaluatorHoldout: Processed 35567 (100.0%) in 11.66 sec. Users per second: 3052\n",
      "RP3betaRecommender: Similarity column 38121 (100.0%), 3599.14 column/sec. Elapsed time 10.59 sec\n",
      "EvaluatorHoldout: Processed 35582 (100.0%) in 11.63 sec. Users per second: 3059\n",
      "RP3betaRecommender: Similarity column 38121 (100.0%), 3583.09 column/sec. Elapsed time 10.64 sec\n",
      "EvaluatorHoldout: Processed 35567 (100.0%) in 11.61 sec. Users per second: 3063\n",
      "RP3betaRecommender: Similarity column 38121 (100.0%), 3644.66 column/sec. Elapsed time 10.46 sec\n",
      "EvaluatorHoldout: Processed 35578 (100.0%) in 11.67 sec. Users per second: 3049\n",
      "RP3betaRecommender: Similarity column 38121 (100.0%), 3570.91 column/sec. Elapsed time 10.68 sec\n",
      "EvaluatorHoldout: Processed 35563 (100.0%) in 11.62 sec. Users per second: 3060\n",
      "RP3betaRecommender: Similarity column 38121 (100.0%), 3632.94 column/sec. Elapsed time 10.49 sec\n",
      "EvaluatorHoldout: Processed 35560 (100.0%) in 11.63 sec. Users per second: 3058\n"
     ]
    },
    {
     "name": "stderr",
     "output_type": "stream",
     "text": [
      "[I 2024-12-24 14:58:43,714] Trial 75 finished with value: 0.05249893220128897 and parameters: {'topK': 51, 'alpha': 0.37376395769469156, 'beta': 0.2001086039622666}. Best is trial 42 with value: 0.05517828622068708.\n"
     ]
    },
    {
     "name": "stdout",
     "output_type": "stream",
     "text": [
      "RP3betaRecommender: Similarity column 38121 (100.0%), 3733.68 column/sec. Elapsed time 10.21 sec\n",
      "EvaluatorHoldout: Processed 35569 (100.0%) in 11.04 sec. Users per second: 3222\n",
      "RP3betaRecommender: Similarity column 38121 (100.0%), 3763.68 column/sec. Elapsed time 10.13 sec\n",
      "EvaluatorHoldout: Processed 35581 (100.0%) in 11.08 sec. Users per second: 3211\n",
      "RP3betaRecommender: Similarity column 38121 (100.0%), 3776.87 column/sec. Elapsed time 10.09 sec\n",
      "EvaluatorHoldout: Processed 35569 (100.0%) in 11.01 sec. Users per second: 3230\n",
      "RP3betaRecommender: Similarity column 38121 (100.0%), 3760.69 column/sec. Elapsed time 10.14 sec\n",
      "EvaluatorHoldout: Processed 35573 (100.0%) in 11.08 sec. Users per second: 3212\n",
      "RP3betaRecommender: Similarity column 38121 (100.0%), 3764.12 column/sec. Elapsed time 10.13 sec\n",
      "EvaluatorHoldout: Processed 35567 (100.0%) in 11.08 sec. Users per second: 3210\n",
      "RP3betaRecommender: Similarity column 38121 (100.0%), 3827.52 column/sec. Elapsed time 9.96 sec\n",
      "EvaluatorHoldout: Processed 35582 (100.0%) in 11.03 sec. Users per second: 3225\n",
      "RP3betaRecommender: Similarity column 38121 (100.0%), 3854.53 column/sec. Elapsed time 9.89 sec\n",
      "EvaluatorHoldout: Processed 35567 (100.0%) in 11.06 sec. Users per second: 3216\n",
      "RP3betaRecommender: Similarity column 38121 (100.0%), 3759.97 column/sec. Elapsed time 10.14 sec\n",
      "EvaluatorHoldout: Processed 35578 (100.0%) in 11.04 sec. Users per second: 3222\n",
      "RP3betaRecommender: Similarity column 38121 (100.0%), 3772.22 column/sec. Elapsed time 10.11 sec\n",
      "EvaluatorHoldout: Processed 35563 (100.0%) in 11.14 sec. Users per second: 3193\n",
      "RP3betaRecommender: Similarity column 38121 (100.0%), 3835.73 column/sec. Elapsed time 9.94 sec\n",
      "EvaluatorHoldout: Processed 35560 (100.0%) in 11.01 sec. Users per second: 3230\n"
     ]
    },
    {
     "name": "stderr",
     "output_type": "stream",
     "text": [
      "[I 2024-12-24 15:02:22,624] Trial 76 finished with value: 0.05366865393688407 and parameters: {'topK': 30, 'alpha': 0.49318657588757386, 'beta': 0.12355849978176134}. Best is trial 42 with value: 0.05517828622068708.\n"
     ]
    },
    {
     "name": "stdout",
     "output_type": "stream",
     "text": [
      "RP3betaRecommender: Similarity column 38121 (100.0%), 3664.35 column/sec. Elapsed time 10.40 sec\n",
      "EvaluatorHoldout: Processed 35569 (100.0%) in 11.35 sec. Users per second: 3134\n",
      "RP3betaRecommender: Similarity column 38121 (100.0%), 3738.25 column/sec. Elapsed time 10.20 sec\n",
      "EvaluatorHoldout: Processed 35581 (100.0%) in 11.42 sec. Users per second: 3115\n",
      "RP3betaRecommender: Similarity column 38121 (100.0%), 3678.07 column/sec. Elapsed time 10.36 sec\n",
      "EvaluatorHoldout: Processed 35569 (100.0%) in 11.36 sec. Users per second: 3130\n",
      "RP3betaRecommender: Similarity column 38121 (100.0%), 3763.04 column/sec. Elapsed time 10.13 sec\n",
      "EvaluatorHoldout: Processed 35573 (100.0%) in 11.37 sec. Users per second: 3128\n",
      "RP3betaRecommender: Similarity column 38121 (100.0%), 3502.17 column/sec. Elapsed time 10.88 sec\n",
      "EvaluatorHoldout: Processed 35567 (100.0%) in 11.42 sec. Users per second: 3114\n",
      "RP3betaRecommender: Similarity column 38121 (100.0%), 3758.03 column/sec. Elapsed time 10.14 sec\n",
      "EvaluatorHoldout: Processed 35582 (100.0%) in 11.36 sec. Users per second: 3131\n",
      "RP3betaRecommender: Similarity column 38121 (100.0%), 3759.27 column/sec. Elapsed time 10.14 sec\n",
      "EvaluatorHoldout: Processed 35567 (100.0%) in 11.33 sec. Users per second: 3140\n",
      "RP3betaRecommender: Similarity column 38121 (100.0%), 3695.20 column/sec. Elapsed time 10.32 sec\n",
      "EvaluatorHoldout: Processed 35578 (100.0%) in 11.36 sec. Users per second: 3131\n",
      "RP3betaRecommender: Similarity column 38121 (100.0%), 3396.92 column/sec. Elapsed time 11.22 sec\n",
      "EvaluatorHoldout: Processed 35563 (100.0%) in 11.42 sec. Users per second: 3115\n",
      "RP3betaRecommender: Similarity column 38121 (100.0%), 3696.93 column/sec. Elapsed time 10.31 sec\n",
      "EvaluatorHoldout: Processed 35560 (100.0%) in 11.36 sec. Users per second: 3129\n"
     ]
    },
    {
     "name": "stderr",
     "output_type": "stream",
     "text": [
      "[I 2024-12-24 15:06:10,169] Trial 77 finished with value: 0.05344577522647448 and parameters: {'topK': 38, 'alpha': 0.33197633717325403, 'beta': 0.23706674358733054}. Best is trial 42 with value: 0.05517828622068708.\n"
     ]
    },
    {
     "name": "stdout",
     "output_type": "stream",
     "text": [
      "RP3betaRecommender: Similarity column 38121 (100.0%), 3983.21 column/sec. Elapsed time 9.57 sec\n",
      "EvaluatorHoldout: Processed 35569 (100.0%) in 10.62 sec. Users per second: 3349\n",
      "RP3betaRecommender: Similarity column 38121 (100.0%), 4054.70 column/sec. Elapsed time 9.40 sec\n",
      "EvaluatorHoldout: Processed 35581 (100.0%) in 10.57 sec. Users per second: 3368\n",
      "RP3betaRecommender: Similarity column 38121 (100.0%), 3510.72 column/sec. Elapsed time 10.86 sec\n",
      "EvaluatorHoldout: Processed 35569 (100.0%) in 10.58 sec. Users per second: 3361\n",
      "RP3betaRecommender: Similarity column 38121 (100.0%), 3957.45 column/sec. Elapsed time 9.63 sec\n",
      "EvaluatorHoldout: Processed 35573 (100.0%) in 10.63 sec. Users per second: 3346\n",
      "RP3betaRecommender: Similarity column 38121 (100.0%), 3951.97 column/sec. Elapsed time 9.65 sec\n",
      "EvaluatorHoldout: Processed 35567 (100.0%) in 10.60 sec. Users per second: 3355\n",
      "RP3betaRecommender: Similarity column 38121 (100.0%), 3966.43 column/sec. Elapsed time 9.61 sec\n",
      "EvaluatorHoldout: Processed 35582 (100.0%) in 10.59 sec. Users per second: 3359\n",
      "RP3betaRecommender: Similarity column 38121 (100.0%), 3932.29 column/sec. Elapsed time 9.69 sec\n",
      "EvaluatorHoldout: Processed 35567 (100.0%) in 10.59 sec. Users per second: 3360\n",
      "RP3betaRecommender: Similarity column 38121 (100.0%), 3660.46 column/sec. Elapsed time 10.41 sec\n",
      "EvaluatorHoldout: Processed 35578 (100.0%) in 10.66 sec. Users per second: 3336\n",
      "RP3betaRecommender: Similarity column 38121 (100.0%), 3992.80 column/sec. Elapsed time 9.55 sec\n",
      "EvaluatorHoldout: Processed 35563 (100.0%) in 10.57 sec. Users per second: 3364\n",
      "RP3betaRecommender: Similarity column 38121 (100.0%), 3934.45 column/sec. Elapsed time 9.69 sec\n",
      "EvaluatorHoldout: Processed 35560 (100.0%) in 10.54 sec. Users per second: 3373\n"
     ]
    },
    {
     "name": "stderr",
     "output_type": "stream",
     "text": [
      "[I 2024-12-24 15:09:38,867] Trial 78 finished with value: 0.05496233211751196 and parameters: {'topK': 12, 'alpha': 0.4563448901488731, 'beta': 0.15686206664780888}. Best is trial 42 with value: 0.05517828622068708.\n"
     ]
    },
    {
     "name": "stdout",
     "output_type": "stream",
     "text": [
      "RP3betaRecommender: Similarity column 38121 (100.0%), 3385.30 column/sec. Elapsed time 11.26 sec\n",
      "EvaluatorHoldout: Processed 35569 (100.0%) in 10.63 sec. Users per second: 3345\n",
      "RP3betaRecommender: Similarity column 38121 (100.0%), 3936.27 column/sec. Elapsed time 9.68 sec\n",
      "EvaluatorHoldout: Processed 35581 (100.0%) in 10.64 sec. Users per second: 3345\n",
      "RP3betaRecommender: Similarity column 38121 (100.0%), 3872.58 column/sec. Elapsed time 9.84 sec\n",
      "EvaluatorHoldout: Processed 35569 (100.0%) in 10.63 sec. Users per second: 3345\n",
      "RP3betaRecommender: Similarity column 38121 (100.0%), 3944.09 column/sec. Elapsed time 9.67 sec\n",
      "EvaluatorHoldout: Processed 35573 (100.0%) in 10.61 sec. Users per second: 3352\n",
      "RP3betaRecommender: Similarity column 38121 (100.0%), 4025.67 column/sec. Elapsed time 9.47 sec\n",
      "EvaluatorHoldout: Processed 35567 (100.0%) in 10.74 sec. Users per second: 3311\n",
      "RP3betaRecommender: Similarity column 38121 (100.0%), 3567.75 column/sec. Elapsed time 10.68 sec\n",
      "EvaluatorHoldout: Processed 35582 (100.0%) in 10.63 sec. Users per second: 3346\n",
      "RP3betaRecommender: Similarity column 38121 (100.0%), 4037.99 column/sec. Elapsed time 9.44 sec\n",
      "EvaluatorHoldout: Processed 35567 (100.0%) in 10.64 sec. Users per second: 3342\n",
      "RP3betaRecommender: Similarity column 38121 (100.0%), 4019.74 column/sec. Elapsed time 9.48 sec\n",
      "EvaluatorHoldout: Processed 35578 (100.0%) in 10.63 sec. Users per second: 3346\n",
      "RP3betaRecommender: Similarity column 38121 (100.0%), 3938.19 column/sec. Elapsed time 9.68 sec\n",
      "EvaluatorHoldout: Processed 35563 (100.0%) in 10.64 sec. Users per second: 3342\n",
      "RP3betaRecommender: Similarity column 38121 (100.0%), 4015.81 column/sec. Elapsed time 9.49 sec\n",
      "EvaluatorHoldout: Processed 35560 (100.0%) in 10.63 sec. Users per second: 3346\n"
     ]
    },
    {
     "name": "stderr",
     "output_type": "stream",
     "text": [
      "[I 2024-12-24 15:13:08,690] Trial 79 finished with value: 0.054467850912245784 and parameters: {'topK': 12, 'alpha': 0.630723816347976, 'beta': 0.1436215998934303}. Best is trial 42 with value: 0.05517828622068708.\n"
     ]
    },
    {
     "name": "stdout",
     "output_type": "stream",
     "text": [
      "RP3betaRecommender: Similarity column 38121 (100.0%), 3460.79 column/sec. Elapsed time 11.02 sec\n",
      "EvaluatorHoldout: Processed 35569 (100.0%) in 10.43 sec. Users per second: 3410\n",
      "RP3betaRecommender: Similarity column 38121 (100.0%), 4030.86 column/sec. Elapsed time 9.46 sec\n",
      "EvaluatorHoldout: Processed 35581 (100.0%) in 10.43 sec. Users per second: 3410\n",
      "RP3betaRecommender: Similarity column 38121 (100.0%), 4032.00 column/sec. Elapsed time 9.45 sec\n",
      "EvaluatorHoldout: Processed 35569 (100.0%) in 10.49 sec. Users per second: 3390\n",
      "RP3betaRecommender: Similarity column 38121 (100.0%), 4062.72 column/sec. Elapsed time 9.38 sec\n",
      "EvaluatorHoldout: Processed 35573 (100.0%) in 10.39 sec. Users per second: 3423\n",
      "RP3betaRecommender: Similarity column 38121 (100.0%), 4021.10 column/sec. Elapsed time 9.48 sec\n",
      "EvaluatorHoldout: Processed 35567 (100.0%) in 10.41 sec. Users per second: 3418\n",
      "RP3betaRecommender: Similarity column 38121 (100.0%), 4075.22 column/sec. Elapsed time 9.35 sec\n",
      "EvaluatorHoldout: Processed 35582 (100.0%) in 10.43 sec. Users per second: 3413\n",
      "RP3betaRecommender: Similarity column 38121 (100.0%), 4105.32 column/sec. Elapsed time 9.29 sec\n",
      "EvaluatorHoldout: Processed 35567 (100.0%) in 10.41 sec. Users per second: 3416\n",
      "RP3betaRecommender: Similarity column 38121 (100.0%), 4072.70 column/sec. Elapsed time 9.36 sec\n",
      "EvaluatorHoldout: Processed 35578 (100.0%) in 10.44 sec. Users per second: 3409\n",
      "RP3betaRecommender: Similarity column 38121 (100.0%), 4050.86 column/sec. Elapsed time 9.41 sec\n",
      "EvaluatorHoldout: Processed 35563 (100.0%) in 10.46 sec. Users per second: 3401\n",
      "RP3betaRecommender: Similarity column 38121 (100.0%), 4104.02 column/sec. Elapsed time 9.29 sec\n",
      "EvaluatorHoldout: Processed 35560 (100.0%) in 10.37 sec. Users per second: 3430\n"
     ]
    },
    {
     "name": "stderr",
     "output_type": "stream",
     "text": [
      "[I 2024-12-24 15:16:32,006] Trial 80 finished with value: 0.04746740578797622 and parameters: {'topK': 5, 'alpha': 1.1631671672560164, 'beta': 0.1005930005749619}. Best is trial 42 with value: 0.05517828622068708.\n"
     ]
    },
    {
     "name": "stdout",
     "output_type": "stream",
     "text": [
      "RP3betaRecommender: Similarity column 38121 (100.0%), 3902.62 column/sec. Elapsed time 9.77 sec\n",
      "EvaluatorHoldout: Processed 35569 (100.0%) in 10.90 sec. Users per second: 3265\n",
      "RP3betaRecommender: Similarity column 38121 (100.0%), 3848.09 column/sec. Elapsed time 9.91 sec\n",
      "EvaluatorHoldout: Processed 35581 (100.0%) in 10.87 sec. Users per second: 3272\n",
      "RP3betaRecommender: Similarity column 38121 (100.0%), 3840.63 column/sec. Elapsed time 9.93 sec\n",
      "EvaluatorHoldout: Processed 35569 (100.0%) in 10.91 sec. Users per second: 3259\n",
      "RP3betaRecommender: Similarity column 38121 (100.0%), 3639.45 column/sec. Elapsed time 10.47 sec\n",
      "EvaluatorHoldout: Processed 35573 (100.0%) in 11.02 sec. Users per second: 3227\n",
      "RP3betaRecommender: Similarity column 38121 (100.0%), 3852.45 column/sec. Elapsed time 9.90 sec\n",
      "EvaluatorHoldout: Processed 35567 (100.0%) in 10.97 sec. Users per second: 3242\n",
      "RP3betaRecommender: Similarity column 38121 (100.0%), 3907.85 column/sec. Elapsed time 9.75 sec\n",
      "EvaluatorHoldout: Processed 35582 (100.0%) in 10.89 sec. Users per second: 3268\n",
      "RP3betaRecommender: Similarity column 38121 (100.0%), 3876.83 column/sec. Elapsed time 9.83 sec\n",
      "EvaluatorHoldout: Processed 35567 (100.0%) in 11.00 sec. Users per second: 3233\n",
      "RP3betaRecommender: Similarity column 38121 (100.0%), 3879.94 column/sec. Elapsed time 9.83 sec\n",
      "EvaluatorHoldout: Processed 35578 (100.0%) in 10.92 sec. Users per second: 3259\n",
      "RP3betaRecommender: Similarity column 38121 (100.0%), 3893.61 column/sec. Elapsed time 9.79 sec\n",
      "EvaluatorHoldout: Processed 35563 (100.0%) in 10.89 sec. Users per second: 3266\n",
      "RP3betaRecommender: Similarity column 38121 (100.0%), 3894.80 column/sec. Elapsed time 9.79 sec\n",
      "EvaluatorHoldout: Processed 35560 (100.0%) in 10.94 sec. Users per second: 3251\n"
     ]
    },
    {
     "name": "stderr",
     "output_type": "stream",
     "text": [
      "[I 2024-12-24 15:20:06,826] Trial 81 finished with value: 0.05454355337444158 and parameters: {'topK': 23, 'alpha': 0.4520847102129405, 'beta': 0.1651513185503219}. Best is trial 42 with value: 0.05517828622068708.\n"
     ]
    },
    {
     "name": "stdout",
     "output_type": "stream",
     "text": [
      "RP3betaRecommender: Similarity column 38121 (100.0%), 3953.80 column/sec. Elapsed time 9.64 sec\n",
      "EvaluatorHoldout: Processed 35569 (100.0%) in 10.85 sec. Users per second: 3277\n",
      "RP3betaRecommender: Similarity column 38121 (100.0%), 3941.35 column/sec. Elapsed time 9.67 sec\n",
      "EvaluatorHoldout: Processed 35581 (100.0%) in 10.56 sec. Users per second: 3370\n",
      "RP3betaRecommender: Similarity column 38121 (100.0%), 3813.29 column/sec. Elapsed time 10.00 sec\n",
      "EvaluatorHoldout: Processed 35569 (100.0%) in 10.47 sec. Users per second: 3396\n",
      "RP3betaRecommender: Similarity column 38121 (100.0%), 3979.35 column/sec. Elapsed time 9.58 sec\n",
      "EvaluatorHoldout: Processed 35573 (100.0%) in 10.35 sec. Users per second: 3436\n",
      "RP3betaRecommender: Similarity column 38121 (100.0%), 3967.06 column/sec. Elapsed time 9.61 sec\n",
      "EvaluatorHoldout: Processed 35567 (100.0%) in 10.39 sec. Users per second: 3424\n",
      "RP3betaRecommender: Similarity column 38121 (100.0%), 3955.44 column/sec. Elapsed time 9.64 sec\n",
      "EvaluatorHoldout: Processed 35582 (100.0%) in 10.33 sec. Users per second: 3443\n",
      "RP3betaRecommender: Similarity column 38121 (100.0%), 4013.04 column/sec. Elapsed time 9.50 sec\n",
      "EvaluatorHoldout: Processed 35567 (100.0%) in 10.32 sec. Users per second: 3448\n",
      "RP3betaRecommender: Similarity column 38121 (100.0%), 4014.90 column/sec. Elapsed time 9.49 sec\n",
      "EvaluatorHoldout: Processed 35578 (100.0%) in 10.38 sec. Users per second: 3429\n",
      "RP3betaRecommender: Similarity column 38121 (100.0%), 4007.83 column/sec. Elapsed time 9.51 sec\n",
      "EvaluatorHoldout: Processed 35563 (100.0%) in 10.43 sec. Users per second: 3409\n",
      "RP3betaRecommender: Similarity column 38121 (100.0%), 3965.50 column/sec. Elapsed time 9.61 sec\n",
      "EvaluatorHoldout: Processed 35560 (100.0%) in 10.81 sec. Users per second: 3288\n"
     ]
    },
    {
     "name": "stderr",
     "output_type": "stream",
     "text": [
      "[I 2024-12-24 15:23:33,979] Trial 82 finished with value: 0.054568625969497866 and parameters: {'topK': 21, 'alpha': 0.4049405748860197, 'beta': 0.1272317285275082}. Best is trial 42 with value: 0.05517828622068708.\n"
     ]
    },
    {
     "name": "stdout",
     "output_type": "stream",
     "text": [
      "RP3betaRecommender: Similarity column 38121 (100.0%), 3363.34 column/sec. Elapsed time 11.33 sec\n",
      "EvaluatorHoldout: Processed 35569 (100.0%) in 11.22 sec. Users per second: 3171\n",
      "RP3betaRecommender: Similarity column 38121 (100.0%), 3763.84 column/sec. Elapsed time 10.13 sec\n",
      "EvaluatorHoldout: Processed 35581 (100.0%) in 11.11 sec. Users per second: 3203\n",
      "RP3betaRecommender: Similarity column 38121 (100.0%), 3780.04 column/sec. Elapsed time 10.08 sec\n",
      "EvaluatorHoldout: Processed 35569 (100.0%) in 11.03 sec. Users per second: 3225\n",
      "RP3betaRecommender: Similarity column 38121 (100.0%), 3622.88 column/sec. Elapsed time 10.52 sec\n",
      "EvaluatorHoldout: Processed 35573 (100.0%) in 10.74 sec. Users per second: 3311\n",
      "RP3betaRecommender: Similarity column 38121 (100.0%), 3820.73 column/sec. Elapsed time 9.98 sec\n",
      "EvaluatorHoldout: Processed 35567 (100.0%) in 10.80 sec. Users per second: 3294\n",
      "RP3betaRecommender: Similarity column 38121 (100.0%), 3449.58 column/sec. Elapsed time 11.05 sec\n",
      "EvaluatorHoldout: Processed 35582 (100.0%) in 11.04 sec. Users per second: 3224\n",
      "RP3betaRecommender: Similarity column 38121 (100.0%), 3861.62 column/sec. Elapsed time 9.87 sec\n",
      "EvaluatorHoldout: Processed 35567 (100.0%) in 11.04 sec. Users per second: 3221\n",
      "RP3betaRecommender: Similarity column 38121 (100.0%), 3574.07 column/sec. Elapsed time 10.67 sec\n",
      "EvaluatorHoldout: Processed 35578 (100.0%) in 11.08 sec. Users per second: 3212\n",
      "RP3betaRecommender: Similarity column 38121 (100.0%), 3729.11 column/sec. Elapsed time 10.22 sec\n",
      "EvaluatorHoldout: Processed 35563 (100.0%) in 11.24 sec. Users per second: 3165\n",
      "RP3betaRecommender: Similarity column 38121 (100.0%), 3758.27 column/sec. Elapsed time 10.14 sec\n",
      "EvaluatorHoldout: Processed 35560 (100.0%) in 11.08 sec. Users per second: 3210\n"
     ]
    },
    {
     "name": "stderr",
     "output_type": "stream",
     "text": [
      "[I 2024-12-24 15:27:16,262] Trial 83 finished with value: 0.054042321313141774 and parameters: {'topK': 30, 'alpha': 0.3793559560924479, 'beta': 0.2029947772492477}. Best is trial 42 with value: 0.05517828622068708.\n"
     ]
    },
    {
     "name": "stdout",
     "output_type": "stream",
     "text": [
      "RP3betaRecommender: Similarity column 38121 (100.0%), 3265.68 column/sec. Elapsed time 11.67 sec\n",
      "EvaluatorHoldout: Processed 35569 (100.0%) in 11.42 sec. Users per second: 3113\n",
      "RP3betaRecommender: Similarity column 38121 (100.0%), 3635.93 column/sec. Elapsed time 10.48 sec\n",
      "EvaluatorHoldout: Processed 35581 (100.0%) in 11.48 sec. Users per second: 3100\n",
      "RP3betaRecommender: Similarity column 38121 (100.0%), 3636.26 column/sec. Elapsed time 10.48 sec\n",
      "EvaluatorHoldout: Processed 35569 (100.0%) in 11.57 sec. Users per second: 3073\n",
      "RP3betaRecommender: Similarity column 38121 (100.0%), 3647.25 column/sec. Elapsed time 10.45 sec\n",
      "EvaluatorHoldout: Processed 35573 (100.0%) in 11.39 sec. Users per second: 3122\n",
      "RP3betaRecommender: Similarity column 38121 (100.0%), 3597.79 column/sec. Elapsed time 10.60 sec\n",
      "EvaluatorHoldout: Processed 35567 (100.0%) in 11.53 sec. Users per second: 3086\n",
      "RP3betaRecommender: Similarity column 38121 (100.0%), 3622.98 column/sec. Elapsed time 10.52 sec\n",
      "EvaluatorHoldout: Processed 35582 (100.0%) in 11.39 sec. Users per second: 3123\n",
      "RP3betaRecommender: Similarity column 38121 (100.0%), 3592.15 column/sec. Elapsed time 10.61 sec\n",
      "EvaluatorHoldout: Processed 35567 (100.0%) in 11.39 sec. Users per second: 3122\n",
      "RP3betaRecommender: Similarity column 38121 (100.0%), 3630.02 column/sec. Elapsed time 10.50 sec\n",
      "EvaluatorHoldout: Processed 35578 (100.0%) in 11.52 sec. Users per second: 3089\n",
      "RP3betaRecommender: Similarity column 38121 (100.0%), 3644.27 column/sec. Elapsed time 10.46 sec\n",
      "EvaluatorHoldout: Processed 35563 (100.0%) in 11.42 sec. Users per second: 3115\n",
      "RP3betaRecommender: Similarity column 38121 (100.0%), 3640.10 column/sec. Elapsed time 10.47 sec\n",
      "EvaluatorHoldout: Processed 35560 (100.0%) in 11.38 sec. Users per second: 3124\n"
     ]
    },
    {
     "name": "stderr",
     "output_type": "stream",
     "text": [
      "[I 2024-12-24 15:31:07,420] Trial 84 finished with value: 0.05261587971520165 and parameters: {'topK': 44, 'alpha': 0.5359889203426392, 'beta': 0.1471220068591452}. Best is trial 42 with value: 0.05517828622068708.\n"
     ]
    },
    {
     "name": "stdout",
     "output_type": "stream",
     "text": [
      "RP3betaRecommender: Similarity column 38121 (100.0%), 3813.34 column/sec. Elapsed time 10.00 sec\n",
      "EvaluatorHoldout: Processed 35569 (100.0%) in 10.68 sec. Users per second: 3330\n",
      "RP3betaRecommender: Similarity column 38121 (100.0%), 3907.20 column/sec. Elapsed time 9.76 sec\n",
      "EvaluatorHoldout: Processed 35581 (100.0%) in 10.70 sec. Users per second: 3326\n",
      "RP3betaRecommender: Similarity column 38121 (100.0%), 3641.16 column/sec. Elapsed time 10.47 sec\n",
      "EvaluatorHoldout: Processed 35569 (100.0%) in 10.75 sec. Users per second: 3308\n",
      "RP3betaRecommender: Similarity column 38121 (100.0%), 3897.57 column/sec. Elapsed time 9.78 sec\n",
      "EvaluatorHoldout: Processed 35573 (100.0%) in 10.73 sec. Users per second: 3314\n",
      "RP3betaRecommender: Similarity column 38121 (100.0%), 3910.82 column/sec. Elapsed time 9.75 sec\n",
      "EvaluatorHoldout: Processed 35567 (100.0%) in 10.74 sec. Users per second: 3313\n",
      "RP3betaRecommender: Similarity column 38121 (100.0%), 3936.70 column/sec. Elapsed time 9.68 sec\n",
      "EvaluatorHoldout: Processed 35582 (100.0%) in 10.78 sec. Users per second: 3302\n",
      "RP3betaRecommender: Similarity column 38121 (100.0%), 3909.38 column/sec. Elapsed time 9.75 sec\n",
      "EvaluatorHoldout: Processed 35567 (100.0%) in 10.71 sec. Users per second: 3320\n",
      "RP3betaRecommender: Similarity column 38121 (100.0%), 3900.71 column/sec. Elapsed time 9.77 sec\n",
      "EvaluatorHoldout: Processed 35578 (100.0%) in 10.79 sec. Users per second: 3299\n",
      "RP3betaRecommender: Similarity column 38121 (100.0%), 3969.45 column/sec. Elapsed time 9.60 sec\n",
      "EvaluatorHoldout: Processed 35563 (100.0%) in 10.75 sec. Users per second: 3307\n",
      "RP3betaRecommender: Similarity column 38121 (100.0%), 3959.78 column/sec. Elapsed time 9.63 sec\n",
      "EvaluatorHoldout: Processed 35560 (100.0%) in 10.70 sec. Users per second: 3323\n"
     ]
    },
    {
     "name": "stderr",
     "output_type": "stream",
     "text": [
      "[I 2024-12-24 15:34:38,394] Trial 85 finished with value: 0.054741016588848876 and parameters: {'topK': 15, 'alpha': 0.5756189172773637, 'beta': 0.21809907865881145}. Best is trial 42 with value: 0.05517828622068708.\n"
     ]
    },
    {
     "name": "stdout",
     "output_type": "stream",
     "text": [
      "RP3betaRecommender: Similarity column 38121 (100.0%), 2845.64 column/sec. Elapsed time 13.40 sec\n",
      "EvaluatorHoldout: Processed 35569 (100.0%) in 13.80 sec. Users per second: 2577\n",
      "RP3betaRecommender: Similarity column 38121 (100.0%), 2888.63 column/sec. Elapsed time 13.20 sec\n",
      "EvaluatorHoldout: Processed 35581 (100.0%) in 13.81 sec. Users per second: 2576\n",
      "RP3betaRecommender: Similarity column 38121 (100.0%), 2858.69 column/sec. Elapsed time 13.34 sec\n",
      "EvaluatorHoldout: Processed 35569 (100.0%) in 13.79 sec. Users per second: 2579\n",
      "RP3betaRecommender: Similarity column 38121 (100.0%), 2912.90 column/sec. Elapsed time 13.09 sec\n",
      "EvaluatorHoldout: Processed 35573 (100.0%) in 13.78 sec. Users per second: 2582\n",
      "RP3betaRecommender: Similarity column 38121 (100.0%), 2876.63 column/sec. Elapsed time 13.25 sec\n",
      "EvaluatorHoldout: Processed 35567 (100.0%) in 13.80 sec. Users per second: 2577\n",
      "RP3betaRecommender: Similarity column 38121 (100.0%), 2868.06 column/sec. Elapsed time 13.29 sec\n",
      "EvaluatorHoldout: Processed 35582 (100.0%) in 13.83 sec. Users per second: 2572\n",
      "RP3betaRecommender: Similarity column 38121 (100.0%), 2859.58 column/sec. Elapsed time 13.33 sec\n",
      "EvaluatorHoldout: Processed 35567 (100.0%) in 13.76 sec. Users per second: 2584\n",
      "RP3betaRecommender: Similarity column 38121 (100.0%), 2902.44 column/sec. Elapsed time 13.13 sec\n",
      "EvaluatorHoldout: Processed 35578 (100.0%) in 13.82 sec. Users per second: 2574\n",
      "RP3betaRecommender: Similarity column 38121 (100.0%), 2852.83 column/sec. Elapsed time 13.36 sec\n",
      "EvaluatorHoldout: Processed 35563 (100.0%) in 13.85 sec. Users per second: 2568\n",
      "RP3betaRecommender: Similarity column 38121 (100.0%), 2866.80 column/sec. Elapsed time 13.30 sec\n",
      "EvaluatorHoldout: Processed 35560 (100.0%) in 13.81 sec. Users per second: 2576\n"
     ]
    },
    {
     "name": "stderr",
     "output_type": "stream",
     "text": [
      "[I 2024-12-24 15:39:41,484] Trial 86 finished with value: 0.04788813044995445 and parameters: {'topK': 152, 'alpha': 0.47895936140693507, 'beta': 0.19035839393739779}. Best is trial 42 with value: 0.05517828622068708.\n"
     ]
    },
    {
     "name": "stdout",
     "output_type": "stream",
     "text": [
      "RP3betaRecommender: Similarity column 38121 (100.0%), 3726.78 column/sec. Elapsed time 10.23 sec\n",
      "EvaluatorHoldout: Processed 35569 (100.0%) in 11.18 sec. Users per second: 3182\n",
      "RP3betaRecommender: Similarity column 38121 (100.0%), 3698.79 column/sec. Elapsed time 10.31 sec\n",
      "EvaluatorHoldout: Processed 35581 (100.0%) in 11.26 sec. Users per second: 3161\n",
      "RP3betaRecommender: Similarity column 38121 (100.0%), 3704.53 column/sec. Elapsed time 10.29 sec\n",
      "EvaluatorHoldout: Processed 35569 (100.0%) in 11.23 sec. Users per second: 3166\n",
      "RP3betaRecommender: Similarity column 38121 (100.0%), 3766.74 column/sec. Elapsed time 10.12 sec\n",
      "EvaluatorHoldout: Processed 35573 (100.0%) in 11.22 sec. Users per second: 3170\n",
      "RP3betaRecommender: Similarity column 38121 (100.0%), 3662.53 column/sec. Elapsed time 10.41 sec\n",
      "EvaluatorHoldout: Processed 35567 (100.0%) in 11.28 sec. Users per second: 3152\n",
      "RP3betaRecommender: Similarity column 38121 (100.0%), 3730.05 column/sec. Elapsed time 10.22 sec\n",
      "EvaluatorHoldout: Processed 35582 (100.0%) in 11.27 sec. Users per second: 3156\n",
      "RP3betaRecommender: Similarity column 38121 (100.0%), 3711.26 column/sec. Elapsed time 10.27 sec\n",
      "EvaluatorHoldout: Processed 35567 (100.0%) in 11.25 sec. Users per second: 3163\n",
      "RP3betaRecommender: Similarity column 38121 (100.0%), 3671.15 column/sec. Elapsed time 10.38 sec\n",
      "EvaluatorHoldout: Processed 35578 (100.0%) in 11.27 sec. Users per second: 3156\n",
      "RP3betaRecommender: Similarity column 38121 (100.0%), 3706.40 column/sec. Elapsed time 10.29 sec\n",
      "EvaluatorHoldout: Processed 35563 (100.0%) in 11.22 sec. Users per second: 3169\n",
      "RP3betaRecommender: Similarity column 38121 (100.0%), 3601.46 column/sec. Elapsed time 10.58 sec\n",
      "EvaluatorHoldout: Processed 35560 (100.0%) in 11.22 sec. Users per second: 3169\n"
     ]
    },
    {
     "name": "stderr",
     "output_type": "stream",
     "text": [
      "[I 2024-12-24 15:43:25,895] Trial 87 finished with value: 0.05341984237863261 and parameters: {'topK': 36, 'alpha': 0.4311284634904056, 'beta': 0.16357296013229383}. Best is trial 42 with value: 0.05517828622068708.\n"
     ]
    },
    {
     "name": "stdout",
     "output_type": "stream",
     "text": [
      "RP3betaRecommender: Similarity column 38121 (100.0%), 3906.25 column/sec. Elapsed time 9.76 sec\n",
      "EvaluatorHoldout: Processed 35569 (100.0%) in 11.11 sec. Users per second: 3203\n",
      "RP3betaRecommender: Similarity column 38121 (100.0%), 3868.62 column/sec. Elapsed time 9.85 sec\n",
      "EvaluatorHoldout: Processed 35581 (100.0%) in 11.12 sec. Users per second: 3200\n",
      "RP3betaRecommender: Similarity column 38121 (100.0%), 3778.63 column/sec. Elapsed time 10.09 sec\n",
      "EvaluatorHoldout: Processed 35569 (100.0%) in 11.10 sec. Users per second: 3205\n",
      "RP3betaRecommender: Similarity column 38121 (100.0%), 3864.59 column/sec. Elapsed time 9.86 sec\n",
      "EvaluatorHoldout: Processed 35573 (100.0%) in 11.09 sec. Users per second: 3207\n",
      "RP3betaRecommender: Similarity column 38121 (100.0%), 3832.83 column/sec. Elapsed time 9.95 sec\n",
      "EvaluatorHoldout: Processed 35567 (100.0%) in 11.10 sec. Users per second: 3203\n",
      "RP3betaRecommender: Similarity column 38121 (100.0%), 3899.94 column/sec. Elapsed time 9.77 sec\n",
      "EvaluatorHoldout: Processed 35582 (100.0%) in 11.15 sec. Users per second: 3190\n",
      "RP3betaRecommender: Similarity column 38121 (100.0%), 3887.53 column/sec. Elapsed time 9.81 sec\n",
      "EvaluatorHoldout: Processed 35567 (100.0%) in 11.12 sec. Users per second: 3199\n",
      "RP3betaRecommender: Similarity column 38121 (100.0%), 3844.05 column/sec. Elapsed time 9.92 sec\n",
      "EvaluatorHoldout: Processed 35578 (100.0%) in 11.11 sec. Users per second: 3203\n",
      "RP3betaRecommender: Similarity column 38121 (100.0%), 3837.77 column/sec. Elapsed time 9.93 sec\n",
      "EvaluatorHoldout: Processed 35563 (100.0%) in 11.12 sec. Users per second: 3199\n",
      "RP3betaRecommender: Similarity column 38121 (100.0%), 3887.40 column/sec. Elapsed time 9.81 sec\n",
      "EvaluatorHoldout: Processed 35560 (100.0%) in 11.15 sec. Users per second: 3189\n"
     ]
    },
    {
     "name": "stderr",
     "output_type": "stream",
     "text": [
      "[I 2024-12-24 15:47:02,950] Trial 88 finished with value: 0.04025935009415089 and parameters: {'topK': 24, 'alpha': 0.3234050414231392, 'beta': 0.8089725270512038}. Best is trial 42 with value: 0.05517828622068708.\n"
     ]
    },
    {
     "name": "stdout",
     "output_type": "stream",
     "text": [
      "RP3betaRecommender: Similarity column 38121 (100.0%), 2447.93 column/sec. Elapsed time 15.57 sec\n",
      "EvaluatorHoldout: Processed 35569 (100.0%) in 14.90 sec. Users per second: 2386\n",
      "RP3betaRecommender: Similarity column 38121 (100.0%), 2680.69 column/sec. Elapsed time 14.22 sec\n",
      "EvaluatorHoldout: Processed 35581 (100.0%) in 14.93 sec. Users per second: 2383\n",
      "RP3betaRecommender: Similarity column 38121 (100.0%), 2674.27 column/sec. Elapsed time 14.25 sec\n",
      "EvaluatorHoldout: Processed 35569 (100.0%) in 14.84 sec. Users per second: 2397\n",
      "RP3betaRecommender: Similarity column 38121 (100.0%), 2664.77 column/sec. Elapsed time 14.31 sec\n",
      "EvaluatorHoldout: Processed 35573 (100.0%) in 14.89 sec. Users per second: 2390\n",
      "RP3betaRecommender: Similarity column 38121 (100.0%), 2722.09 column/sec. Elapsed time 14.00 sec\n",
      "EvaluatorHoldout: Processed 35567 (100.0%) in 14.89 sec. Users per second: 2388\n",
      "RP3betaRecommender: Similarity column 38121 (100.0%), 2680.72 column/sec. Elapsed time 14.22 sec\n",
      "EvaluatorHoldout: Processed 35582 (100.0%) in 14.90 sec. Users per second: 2388\n",
      "RP3betaRecommender: Similarity column 38121 (100.0%), 2684.55 column/sec. Elapsed time 14.20 sec\n",
      "EvaluatorHoldout: Processed 35567 (100.0%) in 14.89 sec. Users per second: 2388\n",
      "RP3betaRecommender: Similarity column 38121 (100.0%), 2676.86 column/sec. Elapsed time 14.24 sec\n",
      "EvaluatorHoldout: Processed 35578 (100.0%) in 14.86 sec. Users per second: 2394\n",
      "RP3betaRecommender: Similarity column 38121 (100.0%), 2643.02 column/sec. Elapsed time 14.42 sec\n",
      "EvaluatorHoldout: Processed 35563 (100.0%) in 14.87 sec. Users per second: 2391\n",
      "RP3betaRecommender: Similarity column 38121 (100.0%), 2686.18 column/sec. Elapsed time 14.19 sec\n",
      "EvaluatorHoldout: Processed 35560 (100.0%) in 14.86 sec. Users per second: 2393\n"
     ]
    },
    {
     "name": "stderr",
     "output_type": "stream",
     "text": [
      "[I 2024-12-24 15:52:36,557] Trial 89 finished with value: 0.04670662521337234 and parameters: {'topK': 187, 'alpha': 0.8664092608559238, 'beta': 0.24586778014164595}. Best is trial 42 with value: 0.05517828622068708.\n"
     ]
    },
    {
     "name": "stdout",
     "output_type": "stream",
     "text": [
      "RP3betaRecommender: Similarity column 38121 (100.0%), 3218.85 column/sec. Elapsed time 11.84 sec\n",
      "EvaluatorHoldout: Processed 35569 (100.0%) in 11.60 sec. Users per second: 3066\n",
      "RP3betaRecommender: Similarity column 38121 (100.0%), 3498.68 column/sec. Elapsed time 10.90 sec\n",
      "EvaluatorHoldout: Processed 35581 (100.0%) in 11.58 sec. Users per second: 3072\n",
      "RP3betaRecommender: Similarity column 38121 (100.0%), 3538.47 column/sec. Elapsed time 10.77 sec\n",
      "EvaluatorHoldout: Processed 35569 (100.0%) in 11.50 sec. Users per second: 3093\n",
      "RP3betaRecommender: Similarity column 38121 (100.0%), 3541.42 column/sec. Elapsed time 10.76 sec\n",
      "EvaluatorHoldout: Processed 35573 (100.0%) in 11.43 sec. Users per second: 3112\n",
      "RP3betaRecommender: Similarity column 38121 (100.0%), 3036.17 column/sec. Elapsed time 12.56 sec\n",
      "EvaluatorHoldout: Processed 35567 (100.0%) in 11.55 sec. Users per second: 3081\n",
      "RP3betaRecommender: Similarity column 38121 (100.0%), 3530.54 column/sec. Elapsed time 10.80 sec\n",
      "EvaluatorHoldout: Processed 35582 (100.0%) in 11.60 sec. Users per second: 3068\n",
      "RP3betaRecommender: Similarity column 38121 (100.0%), 3525.39 column/sec. Elapsed time 10.81 sec\n",
      "EvaluatorHoldout: Processed 35567 (100.0%) in 11.62 sec. Users per second: 3060\n",
      "RP3betaRecommender: Similarity column 38121 (100.0%), 3510.01 column/sec. Elapsed time 10.86 sec\n",
      "EvaluatorHoldout: Processed 35578 (100.0%) in 11.53 sec. Users per second: 3085\n",
      "RP3betaRecommender: Similarity column 38121 (100.0%), 3538.15 column/sec. Elapsed time 10.77 sec\n",
      "EvaluatorHoldout: Processed 35563 (100.0%) in 11.56 sec. Users per second: 3077\n",
      "RP3betaRecommender: Similarity column 38121 (100.0%), 3535.43 column/sec. Elapsed time 10.78 sec\n",
      "EvaluatorHoldout: Processed 35560 (100.0%) in 11.57 sec. Users per second: 3073\n"
     ]
    },
    {
     "name": "stderr",
     "output_type": "stream",
     "text": [
      "[I 2024-12-24 15:56:34,919] Trial 90 finished with value: 0.05163263350338689 and parameters: {'topK': 56, 'alpha': 0.35784726998783434, 'beta': 0.11916730128138306}. Best is trial 42 with value: 0.05517828622068708.\n"
     ]
    },
    {
     "name": "stdout",
     "output_type": "stream",
     "text": [
      "RP3betaRecommender: Similarity column 38121 (100.0%), 3751.13 column/sec. Elapsed time 10.16 sec\n",
      "EvaluatorHoldout: Processed 35569 (100.0%) in 10.59 sec. Users per second: 3360\n",
      "RP3betaRecommender: Similarity column 38121 (100.0%), 3980.65 column/sec. Elapsed time 9.58 sec\n",
      "EvaluatorHoldout: Processed 35581 (100.0%) in 10.61 sec. Users per second: 3354\n",
      "RP3betaRecommender: Similarity column 38121 (100.0%), 4007.05 column/sec. Elapsed time 9.51 sec\n",
      "EvaluatorHoldout: Processed 35569 (100.0%) in 10.57 sec. Users per second: 3365\n",
      "RP3betaRecommender: Similarity column 38121 (100.0%), 3979.55 column/sec. Elapsed time 9.58 sec\n",
      "EvaluatorHoldout: Processed 35573 (100.0%) in 10.39 sec. Users per second: 3425\n",
      "RP3betaRecommender: Similarity column 38121 (100.0%), 3604.71 column/sec. Elapsed time 10.58 sec\n",
      "EvaluatorHoldout: Processed 35567 (100.0%) in 10.37 sec. Users per second: 3430\n",
      "RP3betaRecommender: Similarity column 38121 (100.0%), 3926.56 column/sec. Elapsed time 9.71 sec\n",
      "EvaluatorHoldout: Processed 35582 (100.0%) in 10.57 sec. Users per second: 3368\n",
      "RP3betaRecommender: Similarity column 38121 (100.0%), 3972.90 column/sec. Elapsed time 9.60 sec\n",
      "EvaluatorHoldout: Processed 35567 (100.0%) in 10.63 sec. Users per second: 3347\n",
      "RP3betaRecommender: Similarity column 38121 (100.0%), 3478.53 column/sec. Elapsed time 10.96 sec\n",
      "EvaluatorHoldout: Processed 35578 (100.0%) in 10.53 sec. Users per second: 3378\n",
      "RP3betaRecommender: Similarity column 38121 (100.0%), 3959.55 column/sec. Elapsed time 9.63 sec\n",
      "EvaluatorHoldout: Processed 35563 (100.0%) in 10.57 sec. Users per second: 3364\n",
      "RP3betaRecommender: Similarity column 38121 (100.0%), 4006.66 column/sec. Elapsed time 9.51 sec\n",
      "EvaluatorHoldout: Processed 35560 (100.0%) in 10.61 sec. Users per second: 3352\n"
     ]
    },
    {
     "name": "stderr",
     "output_type": "stream",
     "text": [
      "[I 2024-12-24 16:00:03,628] Trial 91 finished with value: 0.05478062631160049 and parameters: {'topK': 10, 'alpha': 0.43615804558345556, 'beta': 0.17907632394220238}. Best is trial 42 with value: 0.05517828622068708.\n"
     ]
    },
    {
     "name": "stdout",
     "output_type": "stream",
     "text": [
      "RP3betaRecommender: Similarity column 38121 (100.0%), 3975.01 column/sec. Elapsed time 9.59 sec\n",
      "EvaluatorHoldout: Processed 35569 (100.0%) in 10.66 sec. Users per second: 3338\n",
      "RP3betaRecommender: Similarity column 38121 (100.0%), 3900.74 column/sec. Elapsed time 9.77 sec\n",
      "EvaluatorHoldout: Processed 35581 (100.0%) in 10.47 sec. Users per second: 3400\n",
      "RP3betaRecommender: Similarity column 38121 (100.0%), 3353.67 column/sec. Elapsed time 11.37 sec\n",
      "EvaluatorHoldout: Processed 35569 (100.0%) in 10.62 sec. Users per second: 3349\n",
      "RP3betaRecommender: Similarity column 38121 (100.0%), 3757.16 column/sec. Elapsed time 10.15 sec\n",
      "EvaluatorHoldout: Processed 35573 (100.0%) in 10.69 sec. Users per second: 3328\n",
      "RP3betaRecommender: Similarity column 38121 (100.0%), 3894.39 column/sec. Elapsed time 9.79 sec\n",
      "EvaluatorHoldout: Processed 35567 (100.0%) in 10.74 sec. Users per second: 3312\n",
      "RP3betaRecommender: Similarity column 38121 (100.0%), 3907.18 column/sec. Elapsed time 9.76 sec\n",
      "EvaluatorHoldout: Processed 35582 (100.0%) in 10.71 sec. Users per second: 3323\n",
      "RP3betaRecommender: Similarity column 38121 (100.0%), 3921.92 column/sec. Elapsed time 9.72 sec\n",
      "EvaluatorHoldout: Processed 35567 (100.0%) in 10.78 sec. Users per second: 3299\n",
      "RP3betaRecommender: Similarity column 38121 (100.0%), 3898.50 column/sec. Elapsed time 9.78 sec\n",
      "EvaluatorHoldout: Processed 35578 (100.0%) in 10.68 sec. Users per second: 3331\n",
      "RP3betaRecommender: Similarity column 38121 (100.0%), 3902.69 column/sec. Elapsed time 9.77 sec\n",
      "EvaluatorHoldout: Processed 35563 (100.0%) in 10.75 sec. Users per second: 3309\n",
      "RP3betaRecommender: Similarity column 38121 (100.0%), 3975.21 column/sec. Elapsed time 9.59 sec\n",
      "EvaluatorHoldout: Processed 35560 (100.0%) in 10.72 sec. Users per second: 3318\n"
     ]
    },
    {
     "name": "stderr",
     "output_type": "stream",
     "text": [
      "[I 2024-12-24 16:03:34,969] Trial 92 finished with value: 0.054741922611376025 and parameters: {'topK': 17, 'alpha': 0.39402348721593494, 'beta': 0.10112397860391048}. Best is trial 42 with value: 0.05517828622068708.\n"
     ]
    },
    {
     "name": "stdout",
     "output_type": "stream",
     "text": [
      "RP3betaRecommender: Similarity column 38121 (100.0%), 3627.54 column/sec. Elapsed time 10.51 sec\n",
      "EvaluatorHoldout: Processed 35569 (100.0%) in 11.02 sec. Users per second: 3229\n",
      "RP3betaRecommender: Similarity column 38121 (100.0%), 3381.93 column/sec. Elapsed time 11.27 sec\n",
      "EvaluatorHoldout: Processed 35581 (100.0%) in 11.11 sec. Users per second: 3201\n",
      "RP3betaRecommender: Similarity column 38121 (100.0%), 3270.04 column/sec. Elapsed time 11.66 sec\n",
      "EvaluatorHoldout: Processed 35569 (100.0%) in 11.00 sec. Users per second: 3232\n",
      "RP3betaRecommender: Similarity column 38121 (100.0%), 3790.25 column/sec. Elapsed time 10.06 sec\n",
      "EvaluatorHoldout: Processed 35573 (100.0%) in 11.08 sec. Users per second: 3211\n",
      "RP3betaRecommender: Similarity column 38121 (100.0%), 3837.95 column/sec. Elapsed time 9.93 sec\n",
      "EvaluatorHoldout: Processed 35567 (100.0%) in 11.11 sec. Users per second: 3203\n",
      "RP3betaRecommender: Similarity column 38121 (100.0%), 3484.45 column/sec. Elapsed time 10.94 sec\n",
      "EvaluatorHoldout: Processed 35582 (100.0%) in 11.15 sec. Users per second: 3190\n",
      "RP3betaRecommender: Similarity column 38121 (100.0%), 3493.58 column/sec. Elapsed time 10.91 sec\n",
      "EvaluatorHoldout: Processed 35567 (100.0%) in 11.19 sec. Users per second: 3178\n",
      "RP3betaRecommender: Similarity column 38121 (100.0%), 3653.99 column/sec. Elapsed time 10.43 sec\n",
      "EvaluatorHoldout: Processed 35578 (100.0%) in 11.08 sec. Users per second: 3212\n",
      "RP3betaRecommender: Similarity column 38121 (100.0%), 3775.08 column/sec. Elapsed time 10.10 sec\n",
      "EvaluatorHoldout: Processed 35563 (100.0%) in 10.77 sec. Users per second: 3302\n",
      "RP3betaRecommender: Similarity column 38121 (100.0%), 3358.23 column/sec. Elapsed time 11.35 sec\n",
      "EvaluatorHoldout: Processed 35560 (100.0%) in 11.01 sec. Users per second: 3230\n"
     ]
    },
    {
     "name": "stderr",
     "output_type": "stream",
     "text": [
      "[I 2024-12-24 16:07:20,016] Trial 93 finished with value: 0.05401009193533786 and parameters: {'topK': 28, 'alpha': 0.46332392270032147, 'beta': 0.15148303169987581}. Best is trial 42 with value: 0.05517828622068708.\n"
     ]
    },
    {
     "name": "stdout",
     "output_type": "stream",
     "text": [
      "RP3betaRecommender: Similarity column 38121 (100.0%), 3543.52 column/sec. Elapsed time 10.76 sec\n",
      "EvaluatorHoldout: Processed 35569 (100.0%) in 10.47 sec. Users per second: 3399\n",
      "RP3betaRecommender: Similarity column 38121 (100.0%), 3982.87 column/sec. Elapsed time 9.57 sec\n",
      "EvaluatorHoldout: Processed 35581 (100.0%) in 10.57 sec. Users per second: 3367\n",
      "RP3betaRecommender: Similarity column 38121 (100.0%), 3860.52 column/sec. Elapsed time 9.87 sec\n",
      "EvaluatorHoldout: Processed 35569 (100.0%) in 10.55 sec. Users per second: 3372\n",
      "RP3betaRecommender: Similarity column 38121 (100.0%), 4034.50 column/sec. Elapsed time 9.45 sec\n",
      "EvaluatorHoldout: Processed 35573 (100.0%) in 10.54 sec. Users per second: 3376\n",
      "RP3betaRecommender: Similarity column 38121 (100.0%), 3937.67 column/sec. Elapsed time 9.68 sec\n",
      "EvaluatorHoldout: Processed 35567 (100.0%) in 10.56 sec. Users per second: 3368\n",
      "RP3betaRecommender: Similarity column 38121 (100.0%), 3862.15 column/sec. Elapsed time 9.87 sec\n",
      "EvaluatorHoldout: Processed 35582 (100.0%) in 10.56 sec. Users per second: 3369\n",
      "RP3betaRecommender: Similarity column 38121 (100.0%), 3976.61 column/sec. Elapsed time 9.59 sec\n",
      "EvaluatorHoldout: Processed 35567 (100.0%) in 10.56 sec. Users per second: 3370\n",
      "RP3betaRecommender: Similarity column 38121 (100.0%), 3976.29 column/sec. Elapsed time 9.59 sec\n",
      "EvaluatorHoldout: Processed 35578 (100.0%) in 10.99 sec. Users per second: 3238\n",
      "RP3betaRecommender: Similarity column 38121 (100.0%), 3662.54 column/sec. Elapsed time 10.41 sec\n",
      "EvaluatorHoldout: Processed 35563 (100.0%) in 10.64 sec. Users per second: 3342\n",
      "RP3betaRecommender: Similarity column 38121 (100.0%), 3895.62 column/sec. Elapsed time 9.79 sec\n",
      "EvaluatorHoldout: Processed 35560 (100.0%) in 10.77 sec. Users per second: 3303\n"
     ]
    },
    {
     "name": "stderr",
     "output_type": "stream",
     "text": [
      "[I 2024-12-24 16:10:49,086] Trial 94 finished with value: 0.054540276996476254 and parameters: {'topK': 10, 'alpha': 0.4941431684309194, 'beta': 0.12637551229913713}. Best is trial 42 with value: 0.05517828622068708.\n"
     ]
    },
    {
     "name": "stdout",
     "output_type": "stream",
     "text": [
      "RP3betaRecommender: Similarity column 38121 (100.0%), 3824.54 column/sec. Elapsed time 9.97 sec\n",
      "EvaluatorHoldout: Processed 35569 (100.0%) in 11.04 sec. Users per second: 3221\n",
      "RP3betaRecommender: Similarity column 38121 (100.0%), 3568.89 column/sec. Elapsed time 10.68 sec\n",
      "EvaluatorHoldout: Processed 35581 (100.0%) in 11.04 sec. Users per second: 3222\n",
      "RP3betaRecommender: Similarity column 38121 (100.0%), 3805.65 column/sec. Elapsed time 10.02 sec\n",
      "EvaluatorHoldout: Processed 35569 (100.0%) in 10.94 sec. Users per second: 3252\n",
      "RP3betaRecommender: Similarity column 38121 (100.0%), 3822.42 column/sec. Elapsed time 9.97 sec\n",
      "EvaluatorHoldout: Processed 35573 (100.0%) in 11.41 sec. Users per second: 3117\n",
      "RP3betaRecommender: Similarity column 38121 (100.0%), 3794.57 column/sec. Elapsed time 10.05 sec\n",
      "EvaluatorHoldout: Processed 35567 (100.0%) in 11.02 sec. Users per second: 3229\n",
      "RP3betaRecommender: Similarity column 38121 (100.0%), 3631.72 column/sec. Elapsed time 10.50 sec\n",
      "EvaluatorHoldout: Processed 35582 (100.0%) in 11.07 sec. Users per second: 3213\n",
      "RP3betaRecommender: Similarity column 38121 (100.0%), 3750.19 column/sec. Elapsed time 10.17 sec\n",
      "EvaluatorHoldout: Processed 35567 (100.0%) in 10.55 sec. Users per second: 3370\n",
      "RP3betaRecommender: Similarity column 38121 (100.0%), 3661.97 column/sec. Elapsed time 10.41 sec\n",
      "EvaluatorHoldout: Processed 35578 (100.0%) in 10.49 sec. Users per second: 3391\n",
      "RP3betaRecommender: Similarity column 38121 (100.0%), 3683.83 column/sec. Elapsed time 10.35 sec\n",
      "EvaluatorHoldout: Processed 35563 (100.0%) in 10.66 sec. Users per second: 3337\n",
      "RP3betaRecommender: Similarity column 38121 (100.0%), 3622.09 column/sec. Elapsed time 10.52 sec\n",
      "EvaluatorHoldout: Processed 35560 (100.0%) in 10.77 sec. Users per second: 3303\n"
     ]
    },
    {
     "name": "stderr",
     "output_type": "stream",
     "text": [
      "[I 2024-12-24 16:14:26,716] Trial 95 finished with value: 0.054703834318202284 and parameters: {'topK': 20, 'alpha': 0.4275149603743258, 'beta': 0.14441807094729578}. Best is trial 42 with value: 0.05517828622068708.\n"
     ]
    },
    {
     "name": "stdout",
     "output_type": "stream",
     "text": [
      "RP3betaRecommender: Similarity column 38121 (100.0%), 3632.51 column/sec. Elapsed time 10.49 sec\n",
      "EvaluatorHoldout: Processed 35569 (100.0%) in 11.65 sec. Users per second: 3053\n",
      "RP3betaRecommender: Similarity column 38121 (100.0%), 3660.81 column/sec. Elapsed time 10.41 sec\n",
      "EvaluatorHoldout: Processed 35581 (100.0%) in 11.58 sec. Users per second: 3072\n",
      "RP3betaRecommender: Similarity column 38121 (100.0%), 3715.97 column/sec. Elapsed time 10.26 sec\n",
      "EvaluatorHoldout: Processed 35569 (100.0%) in 11.32 sec. Users per second: 3143\n",
      "RP3betaRecommender: Similarity column 38121 (100.0%), 3757.66 column/sec. Elapsed time 10.14 sec\n",
      "EvaluatorHoldout: Processed 35573 (100.0%) in 11.25 sec. Users per second: 3162\n",
      "RP3betaRecommender: Similarity column 38121 (100.0%), 3684.85 column/sec. Elapsed time 10.35 sec\n",
      "EvaluatorHoldout: Processed 35567 (100.0%) in 11.28 sec. Users per second: 3154\n",
      "RP3betaRecommender: Similarity column 38121 (100.0%), 3702.78 column/sec. Elapsed time 10.30 sec\n",
      "EvaluatorHoldout: Processed 35582 (100.0%) in 11.32 sec. Users per second: 3143\n",
      "RP3betaRecommender: Similarity column 38121 (100.0%), 3546.38 column/sec. Elapsed time 10.75 sec\n",
      "EvaluatorHoldout: Processed 35567 (100.0%) in 11.31 sec. Users per second: 3145\n",
      "RP3betaRecommender: Similarity column 38121 (100.0%), 3542.38 column/sec. Elapsed time 10.76 sec\n",
      "EvaluatorHoldout: Processed 35578 (100.0%) in 11.31 sec. Users per second: 3145\n",
      "RP3betaRecommender: Similarity column 38121 (100.0%), 3636.52 column/sec. Elapsed time 10.48 sec\n",
      "EvaluatorHoldout: Processed 35563 (100.0%) in 11.27 sec. Users per second: 3155\n",
      "RP3betaRecommender: Similarity column 38121 (100.0%), 3699.22 column/sec. Elapsed time 10.31 sec\n",
      "EvaluatorHoldout: Processed 35560 (100.0%) in 11.28 sec. Users per second: 3152\n"
     ]
    },
    {
     "name": "stderr",
     "output_type": "stream",
     "text": [
      "[I 2024-12-24 16:18:15,732] Trial 96 finished with value: 0.05284120997107106 and parameters: {'topK': 43, 'alpha': 0.30024171822997603, 'beta': 0.3235112143722441}. Best is trial 42 with value: 0.05517828622068708.\n"
     ]
    },
    {
     "name": "stdout",
     "output_type": "stream",
     "text": [
      "RP3betaRecommender: Similarity column 38121 (100.0%), 4071.25 column/sec. Elapsed time 9.36 sec\n",
      "EvaluatorHoldout: Processed 35569 (100.0%) in 10.11 sec. Users per second: 3519\n",
      "RP3betaRecommender: Similarity column 38121 (100.0%), 3582.89 column/sec. Elapsed time 10.64 sec\n",
      "EvaluatorHoldout: Processed 35581 (100.0%) in 10.16 sec. Users per second: 3501\n",
      "RP3betaRecommender: Similarity column 38121 (100.0%), 4083.86 column/sec. Elapsed time 9.33 sec\n",
      "EvaluatorHoldout: Processed 35569 (100.0%) in 10.11 sec. Users per second: 3517\n",
      "RP3betaRecommender: Similarity column 38121 (100.0%), 4085.01 column/sec. Elapsed time 9.33 sec\n",
      "EvaluatorHoldout: Processed 35573 (100.0%) in 10.14 sec. Users per second: 3508\n",
      "RP3betaRecommender: Similarity column 38121 (100.0%), 3647.46 column/sec. Elapsed time 10.45 sec\n",
      "EvaluatorHoldout: Processed 35567 (100.0%) in 10.13 sec. Users per second: 3512\n",
      "RP3betaRecommender: Similarity column 38121 (100.0%), 3698.36 column/sec. Elapsed time 10.31 sec\n",
      "EvaluatorHoldout: Processed 35582 (100.0%) in 10.32 sec. Users per second: 3449\n",
      "RP3betaRecommender: Similarity column 38121 (100.0%), 4108.82 column/sec. Elapsed time 9.28 sec\n",
      "EvaluatorHoldout: Processed 35567 (100.0%) in 10.06 sec. Users per second: 3536\n",
      "RP3betaRecommender: Similarity column 38121 (100.0%), 4160.35 column/sec. Elapsed time 9.16 sec\n",
      "EvaluatorHoldout: Processed 35578 (100.0%) in 10.09 sec. Users per second: 3528\n",
      "RP3betaRecommender: Similarity column 38121 (100.0%), 4169.53 column/sec. Elapsed time 9.14 sec\n",
      "EvaluatorHoldout: Processed 35563 (100.0%) in 10.16 sec. Users per second: 3500\n",
      "RP3betaRecommender: Similarity column 38121 (100.0%), 3515.41 column/sec. Elapsed time 10.84 sec\n",
      "EvaluatorHoldout: Processed 35560 (100.0%) in 10.13 sec. Users per second: 3509\n"
     ]
    },
    {
     "name": "stderr",
     "output_type": "stream",
     "text": [
      "[I 2024-12-24 16:21:38,524] Trial 97 finished with value: 0.05117919402346258 and parameters: {'topK': 5, 'alpha': 0.36176200082234294, 'beta': 0.19535549579998518}. Best is trial 42 with value: 0.05517828622068708.\n"
     ]
    },
    {
     "name": "stdout",
     "output_type": "stream",
     "text": [
      "RP3betaRecommender: Similarity column 38121 (100.0%), 2641.15 column/sec. Elapsed time 14.43 sec\n",
      "EvaluatorHoldout: Processed 35569 (100.0%) in 13.00 sec. Users per second: 2736\n",
      "RP3betaRecommender: Similarity column 38121 (100.0%), 3047.69 column/sec. Elapsed time 12.51 sec\n",
      "EvaluatorHoldout: Processed 35581 (100.0%) in 13.02 sec. Users per second: 2733\n",
      "RP3betaRecommender: Similarity column 38121 (100.0%), 3028.78 column/sec. Elapsed time 12.59 sec\n",
      "EvaluatorHoldout: Processed 35569 (100.0%) in 13.00 sec. Users per second: 2735\n",
      "RP3betaRecommender: Similarity column 38121 (100.0%), 2961.03 column/sec. Elapsed time 12.87 sec\n",
      "EvaluatorHoldout: Processed 35573 (100.0%) in 12.94 sec. Users per second: 2750\n",
      "RP3betaRecommender: Similarity column 38121 (100.0%), 2934.56 column/sec. Elapsed time 12.99 sec\n",
      "EvaluatorHoldout: Processed 35567 (100.0%) in 12.95 sec. Users per second: 2746\n",
      "RP3betaRecommender: Similarity column 38121 (100.0%), 3027.85 column/sec. Elapsed time 12.59 sec\n",
      "EvaluatorHoldout: Processed 35582 (100.0%) in 12.97 sec. Users per second: 2744\n",
      "RP3betaRecommender: Similarity column 38121 (100.0%), 3032.94 column/sec. Elapsed time 12.57 sec\n",
      "EvaluatorHoldout: Processed 35567 (100.0%) in 12.97 sec. Users per second: 2743\n",
      "RP3betaRecommender: Similarity column 38121 (100.0%), 3031.90 column/sec. Elapsed time 12.57 sec\n",
      "EvaluatorHoldout: Processed 35578 (100.0%) in 12.95 sec. Users per second: 2747\n",
      "RP3betaRecommender: Similarity column 38121 (100.0%), 2744.38 column/sec. Elapsed time 13.89 sec\n",
      "EvaluatorHoldout: Processed 35563 (100.0%) in 12.97 sec. Users per second: 2743\n",
      "RP3betaRecommender: Similarity column 38121 (100.0%), 3022.40 column/sec. Elapsed time 12.61 sec\n",
      "EvaluatorHoldout: Processed 35560 (100.0%) in 12.93 sec. Users per second: 2751\n"
     ]
    },
    {
     "name": "stderr",
     "output_type": "stream",
     "text": [
      "[I 2024-12-24 16:26:25,639] Trial 98 finished with value: 0.04893226771176491 and parameters: {'topK': 128, 'alpha': 0.41100665638912254, 'beta': 0.22052571642933036}. Best is trial 42 with value: 0.05517828622068708.\n"
     ]
    },
    {
     "name": "stdout",
     "output_type": "stream",
     "text": [
      "RP3betaRecommender: Similarity column 38121 (100.0%), 3343.14 column/sec. Elapsed time 11.40 sec\n",
      "EvaluatorHoldout: Processed 35569 (100.0%) in 11.30 sec. Users per second: 3146\n",
      "RP3betaRecommender: Similarity column 38121 (100.0%), 3755.81 column/sec. Elapsed time 10.15 sec\n",
      "EvaluatorHoldout: Processed 35581 (100.0%) in 11.26 sec. Users per second: 3160\n",
      "RP3betaRecommender: Similarity column 38121 (100.0%), 3774.41 column/sec. Elapsed time 10.10 sec\n",
      "EvaluatorHoldout: Processed 35569 (100.0%) in 11.23 sec. Users per second: 3169\n",
      "RP3betaRecommender: Similarity column 38121 (100.0%), 3817.22 column/sec. Elapsed time 9.99 sec\n",
      "EvaluatorHoldout: Processed 35573 (100.0%) in 11.28 sec. Users per second: 3153\n",
      "RP3betaRecommender: Similarity column 38121 (100.0%), 3740.82 column/sec. Elapsed time 10.19 sec\n",
      "EvaluatorHoldout: Processed 35567 (100.0%) in 11.21 sec. Users per second: 3172\n",
      "RP3betaRecommender: Similarity column 38121 (100.0%), 3661.47 column/sec. Elapsed time 10.41 sec\n",
      "EvaluatorHoldout: Processed 35582 (100.0%) in 11.27 sec. Users per second: 3156\n",
      "RP3betaRecommender: Similarity column 38121 (100.0%), 3772.21 column/sec. Elapsed time 10.11 sec\n",
      "EvaluatorHoldout: Processed 35567 (100.0%) in 11.25 sec. Users per second: 3161\n",
      "RP3betaRecommender: Similarity column 38121 (100.0%), 3808.84 column/sec. Elapsed time 10.01 sec\n",
      "EvaluatorHoldout: Processed 35578 (100.0%) in 11.29 sec. Users per second: 3152\n",
      "RP3betaRecommender: Similarity column 38121 (100.0%), 3795.61 column/sec. Elapsed time 10.04 sec\n",
      "EvaluatorHoldout: Processed 35563 (100.0%) in 11.31 sec. Users per second: 3145\n",
      "RP3betaRecommender: Similarity column 38121 (100.0%), 3787.49 column/sec. Elapsed time 10.06 sec\n",
      "EvaluatorHoldout: Processed 35560 (100.0%) in 11.61 sec. Users per second: 3062\n"
     ]
    },
    {
     "name": "stderr",
     "output_type": "stream",
     "text": [
      "[I 2024-12-24 16:30:11,521] Trial 99 finished with value: 0.05259509025886934 and parameters: {'topK': 36, 'alpha': 0.5145226258808551, 'beta': 0.39859841102867366}. Best is trial 42 with value: 0.05517828622068708.\n"
     ]
    }
   ],
   "source": [
    "import optuna\n",
    "\n",
    "optuna_study = optuna.create_study(study_name=\"rp3_kcross_trainVal\", direction=\"maximize\")\n",
    "        \n",
    "save_results = SaveResults()\n",
    "        \n",
    "optuna_study.optimize(objective_function_smaller,\n",
    "                      callbacks=[save_results],\n",
    "                      n_trials = 100\n",
    "                      )"
   ]
  },
  {
   "cell_type": "code",
   "execution_count": 26,
   "metadata": {},
   "outputs": [
    {
     "name": "stdout",
     "output_type": "stream",
     "text": [
      "{'result': 0.05517828622068708, 'topK': 14.0, 'alpha': 0.3683550822991944, 'beta': 0.19877125816137325}\n"
     ]
    }
   ],
   "source": [
    "best_index = save_results.results_df[\"result\"].idxmax()\n",
    "best_hyperparams = save_results.results_df.loc[best_index].to_dict()\n",
    "print(best_hyperparams)"
   ]
  },
  {
   "cell_type": "markdown",
   "metadata": {},
   "source": [
    "# Producing the csv with the all dataset"
   ]
  },
  {
   "cell_type": "code",
   "execution_count": 27,
   "metadata": {},
   "outputs": [
    {
     "name": "stdout",
     "output_type": "stream",
     "text": [
      "RP3betaRecommender: Similarity column 38121 (100.0%), 3086.58 column/sec. Elapsed time 12.35 sec\n"
     ]
    }
   ],
   "source": [
    "recommender = RP3betaRecommender(URM_all)\n",
    "best_hyperparams = optuna_study.best_params\n",
    "recommender.fit(**best_hyperparams)"
   ]
  },
  {
   "cell_type": "code",
   "execution_count": 29,
   "metadata": {},
   "outputs": [
    {
     "name": "stdout",
     "output_type": "stream",
     "text": [
      "   user_id\n",
      "0        0\n",
      "1        1\n",
      "2        2\n",
      "3        3\n",
      "4        4\n",
      "5        5\n",
      "6        6\n",
      "7        7\n",
      "8        8\n",
      "9        9\n"
     ]
    }
   ],
   "source": [
    "target_user = pd.read_csv(\"Dataset/data_target_users_test.csv\")\n",
    "print(target_user.head(10))\n",
    "\n",
    "user_id = target_user['user_id']\n",
    "recommendations = []\n",
    "for user in user_id:\n",
    "    recommendations.append(recommender.recommend(user, cutoff=10))\n",
    "\n",
    "# Saving in a submission file for the competition\n",
    "submission = pd.DataFrame(columns=['user_id', 'item_list'])\n",
    "submission['user_id'] = user_id\n",
    "# Convert list of recommendations into a space-separated string\n",
    "submission['item_list'] = [' '.join(map(str, recs)) for recs in recommendations]\n",
    "\n",
    "# Save the submission file\n",
    "submission.to_csv(f\"submissions/rp3_localTestCross55_bestParam_k:{best_hyperparams['topK']}_alpha:{best_hyperparams['alpha']}_beta_{best_hyperparams['beta']}.csv\", index=False)"
   ]
  }
 ],
 "metadata": {
  "kernelspec": {
   "display_name": "RecSysPD",
   "language": "python",
   "name": "python3"
  },
  "language_info": {
   "codemirror_mode": {
    "name": "ipython",
    "version": 3
   },
   "file_extension": ".py",
   "mimetype": "text/x-python",
   "name": "python",
   "nbconvert_exporter": "python",
   "pygments_lexer": "ipython3",
   "version": "3.8.20"
  }
 },
 "nbformat": 4,
 "nbformat_minor": 2
}
