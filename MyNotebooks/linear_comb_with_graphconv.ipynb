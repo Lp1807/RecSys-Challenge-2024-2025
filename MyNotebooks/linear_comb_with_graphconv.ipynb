{
 "cells": [
  {
   "cell_type": "code",
   "execution_count": 1,
   "metadata": {},
   "outputs": [],
   "source": [
    "import os\n",
    "\n",
    "os.chdir('../')"
   ]
  },
  {
   "cell_type": "code",
   "execution_count": 4,
   "metadata": {},
   "outputs": [
    {
     "name": "stdout",
     "output_type": "stream",
     "text": [
      "   user_id  item_id  data\n",
      "0        0        0   1.0\n",
      "1        0        2   1.0\n",
      "2        0      120   1.0\n",
      "3        0      128   1.0\n",
      "4        0      211   1.0\n",
      "5        0      232   1.0\n",
      "6        0      282   1.0\n",
      "7        0      453   1.0\n",
      "8        0      458   1.0\n",
      "9        0      491   1.0\n"
     ]
    }
   ],
   "source": [
    "import numpy as np\n",
    "import pandas as pd\n",
    "import matplotlib.pyplot as plt\n",
    "\n",
    "data_train_path = \"Dataset/data_train.csv\"\n",
    "\n",
    "URM_all_dataframe = pd.read_csv(data_train_path)\n",
    "print(URM_all_dataframe.head(10))"
   ]
  },
  {
   "cell_type": "code",
   "execution_count": 5,
   "metadata": {},
   "outputs": [
    {
     "name": "stdout",
     "output_type": "stream",
     "text": [
      "Warning: 141 (0.39 %) of 35736 users have no sampled items\n",
      "EvaluatorHoldout: Ignoring 141 ( 0.4%) Users that have less than 1 test interactions\n"
     ]
    }
   ],
   "source": [
    "import numpy as np\n",
    "import scipy.sparse as sps\n",
    "from Data_manager.split_functions.split_train_validation_random_holdout import split_train_in_two_percentage_global_sample\n",
    "from Evaluation.Evaluator import EvaluatorHoldout\n",
    "\n",
    "\n",
    "\n",
    "URM_all = sps.coo_matrix((URM_all_dataframe['data'], (URM_all_dataframe['user_id'], URM_all_dataframe['item_id'])))\n",
    "URM_all = URM_all.tocsr()\n",
    "\n",
    "URM_train_validation, URM_test = split_train_in_two_percentage_global_sample(URM_all, train_percentage = 0.8)\n",
    "evaluator_test = EvaluatorHoldout(URM_test, cutoff_list=[10])"
   ]
  },
  {
   "cell_type": "markdown",
   "metadata": {},
   "source": [
    "# For the sake of speed let's use topK=100 for both"
   ]
  },
  {
   "cell_type": "code",
   "execution_count": null,
   "metadata": {},
   "outputs": [
    {
     "name": "stderr",
     "output_type": "stream",
     "text": [
      "/Users/lucapagano/miniconda3/envs/RecSysPD/lib/python3.8/site-packages/implicit/cpu/als.py:95: RuntimeWarning: OpenBLAS is configured to use 8 threads. It is highly recommended to disable its internal threadpool by setting the environment variable 'OPENBLAS_NUM_THREADS=1' or by calling 'threadpoolctl.threadpool_limits(1, \"blas\")'. Having OpenBLAS use a threadpool can lead to severe performance issues here.\n",
      "  check_blas_config()\n"
     ]
    },
    {
     "data": {
      "application/vnd.jupyter.widget-view+json": {
       "model_id": "6e0c8f6493c149349d126187182689f3",
       "version_major": 2,
       "version_minor": 0
      },
      "text/plain": [
       "  0%|          | 0/10 [00:00<?, ?it/s]"
      ]
     },
     "metadata": {},
     "output_type": "display_data"
    },
    {
     "ename": "AttributeError",
     "evalue": "'GraphConvolution' object has no attribute 'W_sparse'",
     "output_type": "error",
     "traceback": [
      "\u001b[0;31m---------------------------------------------------------------------------\u001b[0m",
      "\u001b[0;31mAttributeError\u001b[0m                            Traceback (most recent call last)",
      "Cell \u001b[0;32mIn[6], line 17\u001b[0m\n\u001b[1;32m     15\u001b[0m W_graph_convolution \u001b[38;5;241m=\u001b[39m sps\u001b[38;5;241m.\u001b[39mload_npz(\u001b[38;5;124m\"\u001b[39m\u001b[38;5;124mSimilarityMatrixes/graphConvolution_W_sparse_TRAINVAL_num_factors:5645_alpha:_0.223329.npz\u001b[39m\u001b[38;5;124m\"\u001b[39m)\n\u001b[1;32m     16\u001b[0m graph_recommender \u001b[38;5;241m=\u001b[39m GraphConvolution(URM_train_validation)\n\u001b[0;32m---> 17\u001b[0m graph_recommender\u001b[38;5;241m.\u001b[39mW_sparse \u001b[38;5;241m=\u001b[39m similarityMatrixTopK(\u001b[43mgraph_recommender\u001b[49m\u001b[38;5;241;43m.\u001b[39;49m\u001b[43mW_sparse\u001b[49m, k\u001b[38;5;241m=\u001b[39m\u001b[38;5;241m100\u001b[39m, use_absolute_values\u001b[38;5;241m=\u001b[39m\u001b[38;5;28;01mTrue\u001b[39;00m)\n\u001b[1;32m     18\u001b[0m gc\u001b[38;5;241m.\u001b[39mcollect()\n",
      "\u001b[0;31mAttributeError\u001b[0m: 'GraphConvolution' object has no attribute 'W_sparse'"
     ]
    }
   ],
   "source": [
    "from Recommenders.KNN.ItemKNNCustomSimilarityRecommender import ItemKNNCustomSimilarityRecommender\n",
    "from Recommenders.MatrixFactorization.ImplicitALSRecommender import ImplicitALSRecommender\n",
    "import gc\n",
    "from Recommenders.Recommender_utils import similarityMatrixTopK\n",
    "\n",
    "best_similarity = sps.load_npz(\"SimilarityMatrixes/merging_models_final_similarity_TRAINVAL.npz\")\n",
    "best_similarity = similarityMatrixTopK(best_similarity, k=100, use_absolute_values=True)\n",
    "gc.collect()\n",
    "similarity_rec = ItemKNNCustomSimilarityRecommender(URM_train_validation)\n",
    "similarity_rec.fit(best_similarity)\n",
    "\n",
    "IALS_recommender = ImplicitALSRecommender(URM_train_validation)\n",
    "IALS_recommender.fit(factors=1903, regularization=0.43781149051372426, iterations=10, use_gpu=False, **{\"alpha\": 10.365656056877015})\n",
    "from Recommenders.Neural.Convolution.GraphConvolution import GraphConvolution\n",
    "W_graph_convolution = sps.load_npz(\"SimilarityMatrixes/graphConvolution_W_sparse_TRAINVAL_num_factors:5645_alpha:_0.223329.npz\")\n",
    "graph_recommender = GraphConvolution(URM_train_validation)"
   ]
  },
  {
   "cell_type": "code",
   "execution_count": 7,
   "metadata": {},
   "outputs": [
    {
     "data": {
      "text/plain": [
       "488"
      ]
     },
     "execution_count": 7,
     "metadata": {},
     "output_type": "execute_result"
    }
   ],
   "source": [
    "graph_recommender.W_sparse = similarityMatrixTopK(W_graph_convolution, k=100, use_absolute_values=True)\n",
    "gc.collect()"
   ]
  },
  {
   "cell_type": "code",
   "execution_count": 8,
   "metadata": {},
   "outputs": [
    {
     "name": "stderr",
     "output_type": "stream",
     "text": [
      "[I 2025-01-04 12:13:22,877] A new study created in memory with name: linear_comb\n"
     ]
    },
    {
     "name": "stdout",
     "output_type": "stream",
     "text": [
      "[0.05651724 0.40896517 0.53451759]\n",
      "EvaluatorHoldout: Processed 35595 (100.0%) in 38.09 sec. Users per second: 934\n"
     ]
    },
    {
     "name": "stderr",
     "output_type": "stream",
     "text": [
      "[I 2025-01-04 12:14:01,023] Trial 0 finished with value: 0.052981731204443244 and parameters: {'alpha_0': 0.09738646076365964, 'alpha_1': 0.7046995401196545, 'alpha_2': 0.9210425044634367}. Best is trial 0 with value: 0.052981731204443244.\n"
     ]
    },
    {
     "name": "stdout",
     "output_type": "stream",
     "text": [
      "[0.27474705 0.62311109 0.10214185]\n",
      "EvaluatorHoldout: Processed 35595 (100.0%) in 37.31 sec. Users per second: 954\n"
     ]
    },
    {
     "name": "stderr",
     "output_type": "stream",
     "text": [
      "[I 2025-01-04 12:14:38,368] Trial 1 finished with value: 0.05518643380000133 and parameters: {'alpha_0': 0.3684681293954496, 'alpha_1': 0.8356653021572328, 'alpha_2': 0.1369842421062364}. Best is trial 1 with value: 0.05518643380000133.\n"
     ]
    },
    {
     "name": "stdout",
     "output_type": "stream",
     "text": [
      "[0.22904504 0.1529509  0.61800406]\n",
      "EvaluatorHoldout: Processed 35595 (100.0%) in 36.70 sec. Users per second: 970\n"
     ]
    },
    {
     "name": "stderr",
     "output_type": "stream",
     "text": [
      "[I 2025-01-04 12:15:15,094] Trial 2 finished with value: 0.05871486096896777 and parameters: {'alpha_0': 0.31502597833591817, 'alpha_1': 0.21036694554228452, 'alpha_2': 0.8499958475719169}. Best is trial 2 with value: 0.05871486096896777.\n"
     ]
    },
    {
     "name": "stdout",
     "output_type": "stream",
     "text": [
      "[0.36651092 0.37196293 0.26152615]\n",
      "EvaluatorHoldout: Processed 35595 (100.0%) in 37.18 sec. Users per second: 957\n"
     ]
    },
    {
     "name": "stderr",
     "output_type": "stream",
     "text": [
      "[I 2025-01-04 12:15:52,304] Trial 3 finished with value: 0.05844243439755239 and parameters: {'alpha_0': 0.7118922757493831, 'alpha_1': 0.7224819913121904, 'alpha_2': 0.5079751734331459}. Best is trial 2 with value: 0.05871486096896777.\n"
     ]
    },
    {
     "name": "stdout",
     "output_type": "stream",
     "text": [
      "[0.39569169 0.48455017 0.11975814]\n",
      "EvaluatorHoldout: Processed 35595 (100.0%) in 38.18 sec. Users per second: 932\n"
     ]
    },
    {
     "name": "stderr",
     "output_type": "stream",
     "text": [
      "[I 2025-01-04 12:16:30,507] Trial 4 finished with value: 0.05776532284496676 and parameters: {'alpha_0': 0.8129524856795796, 'alpha_1': 0.9955131019004503, 'alpha_2': 0.2460442849534572}. Best is trial 2 with value: 0.05871486096896777.\n"
     ]
    },
    {
     "name": "stdout",
     "output_type": "stream",
     "text": [
      "[0.28929597 0.31943854 0.39126548]\n",
      "EvaluatorHoldout: Processed 35595 (100.0%) in 38.52 sec. Users per second: 924\n"
     ]
    },
    {
     "name": "stderr",
     "output_type": "stream",
     "text": [
      "[I 2025-01-04 12:17:09,056] Trial 5 finished with value: 0.058171018981172336 and parameters: {'alpha_0': 0.6513439650088979, 'alpha_1': 0.7192093483537898, 'alpha_2': 0.8809262376497935}. Best is trial 2 with value: 0.05871486096896777.\n"
     ]
    },
    {
     "name": "stdout",
     "output_type": "stream",
     "text": [
      "[0.23860175 0.69492363 0.06647462]\n",
      "EvaluatorHoldout: Processed 35595 (100.0%) in 36.39 sec. Users per second: 978\n"
     ]
    },
    {
     "name": "stderr",
     "output_type": "stream",
     "text": [
      "[I 2025-01-04 12:17:45,472] Trial 6 finished with value: 0.05413222719438285 and parameters: {'alpha_0': 0.31192376414689793, 'alpha_1': 0.9084727957252994, 'alpha_2': 0.08690219349051365}. Best is trial 2 with value: 0.05871486096896777.\n"
     ]
    },
    {
     "name": "stdout",
     "output_type": "stream",
     "text": [
      "[0.41310399 0.20359649 0.38329952]\n",
      "EvaluatorHoldout: Processed 35595 (100.0%) in 36.95 sec. Users per second: 963\n"
     ]
    },
    {
     "name": "stderr",
     "output_type": "stream",
     "text": [
      "[I 2025-01-04 12:18:22,447] Trial 7 finished with value: 0.06010275876984479 and parameters: {'alpha_0': 0.9559385381293101, 'alpha_1': 0.4711301114342593, 'alpha_2': 0.8869698333829878}. Best is trial 7 with value: 0.06010275876984479.\n"
     ]
    },
    {
     "name": "stdout",
     "output_type": "stream",
     "text": [
      "[0.44638792 0.23539833 0.31821375]\n",
      "EvaluatorHoldout: Processed 35595 (100.0%) in 35.94 sec. Users per second: 991\n"
     ]
    },
    {
     "name": "stderr",
     "output_type": "stream",
     "text": [
      "[I 2025-01-04 12:18:58,406] Trial 8 finished with value: 0.06006075737407193 and parameters: {'alpha_0': 0.9878586627367195, 'alpha_1': 0.520937662010982, 'alpha_2': 0.7042085899790614}. Best is trial 7 with value: 0.06010275876984479.\n"
     ]
    },
    {
     "name": "stdout",
     "output_type": "stream",
     "text": [
      "[0.16679376 0.70365793 0.1295483 ]\n",
      "EvaluatorHoldout: Processed 35595 (100.0%) in 35.91 sec. Users per second: 991\n"
     ]
    },
    {
     "name": "stderr",
     "output_type": "stream",
     "text": [
      "[I 2025-01-04 12:19:34,338] Trial 9 finished with value: 0.05297504554099375 and parameters: {'alpha_0': 0.1520661799614551, 'alpha_1': 0.6415262259395179, 'alpha_2': 0.11810942490986476}. Best is trial 7 with value: 0.06010275876984479.\n"
     ]
    },
    {
     "name": "stdout",
     "output_type": "stream",
     "text": [
      "[0.5376341  0.14253635 0.31982955]\n",
      "EvaluatorHoldout: Processed 35595 (100.0%) in 37.40 sec. Users per second: 952\n"
     ]
    },
    {
     "name": "stderr",
     "output_type": "stream",
     "text": [
      "[I 2025-01-04 12:20:11,771] Trial 10 finished with value: 0.0607625212654693 and parameters: {'alpha_0': 0.9502897315214438, 'alpha_1': 0.25193868601651986, 'alpha_2': 0.5653115003348341}. Best is trial 10 with value: 0.0607625212654693.\n"
     ]
    },
    {
     "name": "stdout",
     "output_type": "stream",
     "text": [
      "[0.53661225 0.13373964 0.32964811]\n",
      "EvaluatorHoldout: Processed 35595 (100.0%) in 35.59 sec. Users per second: 1000\n"
     ]
    },
    {
     "name": "stderr",
     "output_type": "stream",
     "text": [
      "[I 2025-01-04 12:20:47,395] Trial 11 finished with value: 0.06078734082947993 and parameters: {'alpha_0': 0.9572039838563208, 'alpha_1': 0.23856353055912582, 'alpha_2': 0.5880232629832144}. Best is trial 11 with value: 0.06078734082947993.\n"
     ]
    },
    {
     "name": "stdout",
     "output_type": "stream",
     "text": [
      "[0.5706418 0.0542407 0.3751175]\n",
      "EvaluatorHoldout: Processed 35595 (100.0%) in 37.61 sec. Users per second: 946\n"
     ]
    },
    {
     "name": "stderr",
     "output_type": "stream",
     "text": [
      "[I 2025-01-04 12:21:25,038] Trial 12 finished with value: 0.06069153082406187 and parameters: {'alpha_0': 0.833793046262476, 'alpha_1': 0.0792537787717355, 'alpha_2': 0.5481027895075723}. Best is trial 11 with value: 0.06078734082947993.\n"
     ]
    },
    {
     "name": "stdout",
     "output_type": "stream",
     "text": [
      "[0.48345951 0.24215802 0.27438247]\n",
      "EvaluatorHoldout: Processed 35595 (100.0%) in 38.25 sec. Users per second: 931\n"
     ]
    },
    {
     "name": "stderr",
     "output_type": "stream",
     "text": [
      "[I 2025-01-04 12:22:03,324] Trial 13 finished with value: 0.06023233711708049 and parameters: {'alpha_0': 0.5606711464443066, 'alpha_1': 0.2808322392026011, 'alpha_2': 0.3182031410527163}. Best is trial 11 with value: 0.06078734082947993.\n"
     ]
    },
    {
     "name": "stdout",
     "output_type": "stream",
     "text": [
      "[0.48287124 0.17309035 0.34403841]\n",
      "EvaluatorHoldout: Processed 35595 (100.0%) in 36.39 sec. Users per second: 978\n"
     ]
    },
    {
     "name": "stderr",
     "output_type": "stream",
     "text": [
      "[I 2025-01-04 12:22:39,749] Trial 14 finished with value: 0.06051605473392046 and parameters: {'alpha_0': 0.8495506174557867, 'alpha_1': 0.3045304856283522, 'alpha_2': 0.6052918990378215}. Best is trial 11 with value: 0.06078734082947993.\n"
     ]
    },
    {
     "name": "stdout",
     "output_type": "stream",
     "text": [
      "[0.50207027 0.00382488 0.49410485]\n",
      "EvaluatorHoldout: Processed 35595 (100.0%) in 36.77 sec. Users per second: 968\n"
     ]
    },
    {
     "name": "stderr",
     "output_type": "stream",
     "text": [
      "[I 2025-01-04 12:23:16,548] Trial 15 finished with value: 0.06017179490609576 and parameters: {'alpha_0': 0.7193696875923106, 'alpha_1': 0.005480316322602707, 'alpha_2': 0.7079567840527848}. Best is trial 11 with value: 0.06078734082947993.\n"
     ]
    },
    {
     "name": "stdout",
     "output_type": "stream",
     "text": [
      "[0.54797215 0.23731997 0.21470787]\n",
      "EvaluatorHoldout: Processed 35595 (100.0%) in 38.92 sec. Users per second: 915\n"
     ]
    },
    {
     "name": "stderr",
     "output_type": "stream",
     "text": [
      "[I 2025-01-04 12:23:55,500] Trial 16 finished with value: 0.06056022225343567 and parameters: {'alpha_0': 0.9834793675487123, 'alpha_1': 0.4259327667917494, 'alpha_2': 0.3853494421775422}. Best is trial 11 with value: 0.06078734082947993.\n"
     ]
    },
    {
     "name": "stdout",
     "output_type": "stream",
     "text": [
      "[0.49378258 0.13225787 0.37395955]\n",
      "EvaluatorHoldout: Processed 35595 (100.0%) in 35.96 sec. Users per second: 990\n"
     ]
    },
    {
     "name": "stderr",
     "output_type": "stream",
     "text": [
      "[I 2025-01-04 12:24:31,495] Trial 17 finished with value: 0.06064292068843102 and parameters: {'alpha_0': 0.5219442238143412, 'alpha_1': 0.1398008650343755, 'alpha_2': 0.39528738610636444}. Best is trial 11 with value: 0.06078734082947993.\n"
     ]
    },
    {
     "name": "stdout",
     "output_type": "stream",
     "text": [
      "[0.43620545 0.20097775 0.3628168 ]\n",
      "EvaluatorHoldout: Processed 35595 (100.0%) in 36.54 sec. Users per second: 974\n"
     ]
    },
    {
     "name": "stderr",
     "output_type": "stream",
     "text": [
      "[I 2025-01-04 12:25:08,063] Trial 18 finished with value: 0.06023261694057959 and parameters: {'alpha_0': 0.8148852923381904, 'alpha_1': 0.375451087397527, 'alpha_2': 0.6777862778326357}. Best is trial 11 with value: 0.06078734082947993.\n"
     ]
    },
    {
     "name": "stdout",
     "output_type": "stream",
     "text": [
      "[0.47749595 0.11021485 0.4122892 ]\n",
      "EvaluatorHoldout: Processed 35595 (100.0%) in 36.98 sec. Users per second: 963\n"
     ]
    },
    {
     "name": "stderr",
     "output_type": "stream",
     "text": [
      "[I 2025-01-04 12:25:45,115] Trial 19 finished with value: 0.06061456598371745 and parameters: {'alpha_0': 0.8965216313687483, 'alpha_1': 0.20693368749474317, 'alpha_2': 0.7740928137206361}. Best is trial 11 with value: 0.06078734082947993.\n"
     ]
    },
    {
     "name": "stdout",
     "output_type": "stream",
     "text": [
      "[0.28539545 0.26029208 0.45431246]\n",
      "EvaluatorHoldout: Processed 35595 (100.0%) in 37.28 sec. Users per second: 955\n"
     ]
    },
    {
     "name": "stderr",
     "output_type": "stream",
     "text": [
      "[I 2025-01-04 12:26:22,423] Trial 20 finished with value: 0.05865132654175827 and parameters: {'alpha_0': 0.6246342451086144, 'alpha_1': 0.5696914511918931, 'alpha_2': 0.994336519791762}. Best is trial 11 with value: 0.06078734082947993.\n"
     ]
    },
    {
     "name": "stdout",
     "output_type": "stream",
     "text": [
      "[0.62222549 0.00431324 0.37346128]\n",
      "EvaluatorHoldout: Processed 35595 (100.0%) in 38.22 sec. Users per second: 931\n"
     ]
    },
    {
     "name": "stderr",
     "output_type": "stream",
     "text": [
      "[I 2025-01-04 12:27:00,683] Trial 21 finished with value: 0.06045728288037436 and parameters: {'alpha_0': 0.8890085914950295, 'alpha_1': 0.006162564456275055, 'alpha_2': 0.5335851585809401}. Best is trial 11 with value: 0.06078734082947993.\n"
     ]
    },
    {
     "name": "stdout",
     "output_type": "stream",
     "text": [
      "[0.51308267 0.07573727 0.41118006]\n",
      "EvaluatorHoldout: Processed 35595 (100.0%) in 37.48 sec. Users per second: 950\n"
     ]
    },
    {
     "name": "stderr",
     "output_type": "stream",
     "text": [
      "[I 2025-01-04 12:27:38,196] Trial 22 finished with value: 0.06066811372205238 and parameters: {'alpha_0': 0.7612413701534768, 'alpha_1': 0.11236852114165821, 'alpha_2': 0.6100523146786253}. Best is trial 11 with value: 0.06078734082947993.\n"
     ]
    },
    {
     "name": "stdout",
     "output_type": "stream",
     "text": [
      "[0.62023719 0.07970045 0.30006237]\n",
      "EvaluatorHoldout: Processed 35595 (100.0%) in 36.84 sec. Users per second: 966\n"
     ]
    },
    {
     "name": "stderr",
     "output_type": "stream",
     "text": [
      "[I 2025-01-04 12:28:15,065] Trial 23 finished with value: 0.06088387213292238 and parameters: {'alpha_0': 0.9034214800092999, 'alpha_1': 0.11608961606265625, 'alpha_2': 0.4370630994782631}. Best is trial 23 with value: 0.06088387213292238.\n"
     ]
    },
    {
     "name": "stdout",
     "output_type": "stream",
     "text": [
      "[0.55128815 0.19193623 0.25677563]\n",
      "EvaluatorHoldout: Processed 35595 (100.0%) in 36.62 sec. Users per second: 972\n"
     ]
    },
    {
     "name": "stderr",
     "output_type": "stream",
     "text": [
      "[I 2025-01-04 12:28:51,713] Trial 24 finished with value: 0.06067834678938566 and parameters: {'alpha_0': 0.919775840622918, 'alpha_1': 0.32022872856452594, 'alpha_2': 0.42840757330303625}. Best is trial 23 with value: 0.06088387213292238.\n"
     ]
    },
    {
     "name": "stdout",
     "output_type": "stream",
     "text": [
      "[0.52839382 0.14554828 0.3260579 ]\n",
      "EvaluatorHoldout: Processed 35595 (100.0%) in 36.96 sec. Users per second: 963\n"
     ]
    },
    {
     "name": "stderr",
     "output_type": "stream",
     "text": [
      "[I 2025-01-04 12:29:28,702] Trial 25 finished with value: 0.06074634389973444 and parameters: {'alpha_0': 0.7602170537619951, 'alpha_1': 0.20940496044489204, 'alpha_2': 0.46910991119125794}. Best is trial 23 with value: 0.06088387213292238.\n"
     ]
    },
    {
     "name": "stdout",
     "output_type": "stream",
     "text": [
      "[0.68394995 0.11204481 0.20400524]\n",
      "EvaluatorHoldout: Processed 35595 (100.0%) in 34.89 sec. Users per second: 1020\n"
     ]
    },
    {
     "name": "stderr",
     "output_type": "stream",
     "text": [
      "[I 2025-01-04 12:30:03,619] Trial 26 finished with value: 0.06108282664097911 and parameters: {'alpha_0': 0.9945924318006905, 'alpha_1': 0.16293432567723154, 'alpha_2': 0.2966621607616989}. Best is trial 26 with value: 0.06108282664097911.\n"
     ]
    },
    {
     "name": "stdout",
     "output_type": "stream",
     "text": [
      "[0.71705702 0.10709985 0.17584313]\n",
      "EvaluatorHoldout: Processed 35595 (100.0%) in 35.97 sec. Users per second: 989\n"
     ]
    },
    {
     "name": "stderr",
     "output_type": "stream",
     "text": [
      "[I 2025-01-04 12:30:39,622] Trial 27 finished with value: 0.06110140981990795 and parameters: {'alpha_0': 0.9992876176006741, 'alpha_1': 0.14925389448078902, 'alpha_2': 0.2450542420509539}. Best is trial 27 with value: 0.06110140981990795.\n"
     ]
    },
    {
     "name": "stdout",
     "output_type": "stream",
     "text": [
      "[0.59406043 0.11240398 0.29353559]\n",
      "EvaluatorHoldout: Processed 35595 (100.0%) in 35.79 sec. Users per second: 995\n"
     ]
    },
    {
     "name": "stderr",
     "output_type": "stream",
     "text": [
      "[I 2025-01-04 12:31:15,444] Trial 28 finished with value: 0.06095275888132879 and parameters: {'alpha_0': 0.45127484884146907, 'alpha_1': 0.0853870865708759, 'alpha_2': 0.22298275495852216}. Best is trial 27 with value: 0.06110140981990795.\n"
     ]
    },
    {
     "name": "stdout",
     "output_type": "stream",
     "text": [
      "[0.57393625 0.08958969 0.33647406]\n",
      "EvaluatorHoldout: Processed 35595 (100.0%) in 35.68 sec. Users per second: 998\n"
     ]
    },
    {
     "name": "stderr",
     "output_type": "stream",
     "text": [
      "[I 2025-01-04 12:31:51,151] Trial 29 finished with value: 0.060882165321059736 and parameters: {'alpha_0': 0.4169605264204503, 'alpha_1': 0.06508626033728462, 'alpha_2': 0.2444459619855207}. Best is trial 27 with value: 0.06110140981990795.\n"
     ]
    },
    {
     "name": "stdout",
     "output_type": "stream",
     "text": [
      "[0.10480311 0.73384615 0.16135075]\n",
      "EvaluatorHoldout: Processed 35595 (100.0%) in 35.29 sec. Users per second: 1009\n"
     ]
    },
    {
     "name": "stderr",
     "output_type": "stream",
     "text": [
      "[I 2025-01-04 12:32:26,468] Trial 30 finished with value: 0.051639759017338076 and parameters: {'alpha_0': 0.02378136057634228, 'alpha_1': 0.16652044434724084, 'alpha_2': 0.036612848989439395}. Best is trial 27 with value: 0.06110140981990795.\n"
     ]
    },
    {
     "name": "stdout",
     "output_type": "stream",
     "text": [
      "[0.61472456 0.10017082 0.28510462]\n",
      "EvaluatorHoldout: Processed 35595 (100.0%) in 35.73 sec. Users per second: 996\n"
     ]
    },
    {
     "name": "stderr",
     "output_type": "stream",
     "text": [
      "[I 2025-01-04 12:33:02,229] Trial 31 finished with value: 0.060963158059026586 and parameters: {'alpha_0': 0.45491852453286097, 'alpha_1': 0.07413004940303002, 'alpha_2': 0.21098778398900048}. Best is trial 27 with value: 0.06110140981990795.\n"
     ]
    },
    {
     "name": "stdout",
     "output_type": "stream",
     "text": [
      "[0.64830779 0.08674259 0.26494962]\n",
      "EvaluatorHoldout: Processed 35595 (100.0%) in 34.95 sec. Users per second: 1018\n"
     ]
    },
    {
     "name": "stderr",
     "output_type": "stream",
     "text": [
      "[I 2025-01-04 12:33:37,213] Trial 32 finished with value: 0.06095081795418765 and parameters: {'alpha_0': 0.47834189442502395, 'alpha_1': 0.06400140951005735, 'alpha_2': 0.19548817085194414}. Best is trial 27 with value: 0.06110140981990795.\n"
     ]
    },
    {
     "name": "stdout",
     "output_type": "stream",
     "text": [
      "[0.37383285 0.21601424 0.41015291]\n",
      "EvaluatorHoldout: Processed 35595 (100.0%) in 35.30 sec. Users per second: 1008\n"
     ]
    },
    {
     "name": "stderr",
     "output_type": "stream",
     "text": [
      "[I 2025-01-04 12:34:12,538] Trial 33 finished with value: 0.05982021507390036 and parameters: {'alpha_0': 0.27615579216908603, 'alpha_1': 0.1595728794479861, 'alpha_2': 0.30298595419812246}. Best is trial 27 with value: 0.06110140981990795.\n"
     ]
    },
    {
     "name": "stdout",
     "output_type": "stream",
     "text": [
      "[0.66601317 0.05411155 0.27987528]\n",
      "EvaluatorHoldout: Processed 35595 (100.0%) in 35.31 sec. Users per second: 1008\n"
     ]
    },
    {
     "name": "stderr",
     "output_type": "stream",
     "text": [
      "[I 2025-01-04 12:34:47,875] Trial 34 finished with value: 0.06082720843171571 and parameters: {'alpha_0': 0.4121427559944969, 'alpha_1': 0.03348535008457759, 'alpha_2': 0.17319262362574}. Best is trial 27 with value: 0.06110140981990795.\n"
     ]
    },
    {
     "name": "stdout",
     "output_type": "stream",
     "text": [
      "[0.26012005 0.38910764 0.35077231]\n",
      "EvaluatorHoldout: Processed 35595 (100.0%) in 35.90 sec. Users per second: 992\n"
     ]
    },
    {
     "name": "stderr",
     "output_type": "stream",
     "text": [
      "[I 2025-01-04 12:35:23,802] Trial 35 finished with value: 0.057212213236652654 and parameters: {'alpha_0': 0.24191691420326122, 'alpha_1': 0.361877984910538, 'alpha_2': 0.32622535885401777}. Best is trial 27 with value: 0.06110140981990795.\n"
     ]
    },
    {
     "name": "stdout",
     "output_type": "stream",
     "text": [
      "[0.7223588  0.21154141 0.06609979]\n",
      "EvaluatorHoldout: Processed 35595 (100.0%) in 35.29 sec. Users per second: 1009\n"
     ]
    },
    {
     "name": "stderr",
     "output_type": "stream",
     "text": [
      "[I 2025-01-04 12:35:59,123] Trial 36 finished with value: 0.060972520440491604 and parameters: {'alpha_0': 0.6018591641628873, 'alpha_1': 0.17625331800589905, 'alpha_2': 0.0550734102384306}. Best is trial 27 with value: 0.06110140981990795.\n"
     ]
    },
    {
     "name": "stdout",
     "output_type": "stream",
     "text": [
      "[0.69309446 0.22542439 0.08148114]\n",
      "EvaluatorHoldout: Processed 35595 (100.0%) in 35.01 sec. Users per second: 1017\n"
     ]
    },
    {
     "name": "stderr",
     "output_type": "stream",
     "text": [
      "[I 2025-01-04 12:36:34,166] Trial 37 finished with value: 0.0609202480730064 and parameters: {'alpha_0': 0.5565007892573182, 'alpha_1': 0.1809982021557209, 'alpha_2': 0.06542300233920709}. Best is trial 27 with value: 0.06110140981990795.\n"
     ]
    },
    {
     "name": "stdout",
     "output_type": "stream",
     "text": [
      "[0.43428367 0.40278844 0.1629279 ]\n",
      "EvaluatorHoldout: Processed 35595 (100.0%) in 37.86 sec. Users per second: 940\n"
     ]
    },
    {
     "name": "stderr",
     "output_type": "stream",
     "text": [
      "[I 2025-01-04 12:37:12,062] Trial 38 finished with value: 0.05876804750087298 and parameters: {'alpha_0': 0.3828794738354566, 'alpha_1': 0.3551121904265831, 'alpha_2': 0.14364285705370752}. Best is trial 27 with value: 0.06110140981990795.\n"
     ]
    },
    {
     "name": "stdout",
     "output_type": "stream",
     "text": [
      "[0.43403014 0.56262915 0.00334071]\n",
      "EvaluatorHoldout: Processed 35595 (100.0%) in 36.17 sec. Users per second: 984\n"
     ]
    },
    {
     "name": "stderr",
     "output_type": "stream",
     "text": [
      "[I 2025-01-04 12:37:48,267] Trial 39 finished with value: 0.05744256148870341 and parameters: {'alpha_0': 0.6023742003395769, 'alpha_1': 0.7808519626592263, 'alpha_2': 0.004636447176615932}. Best is trial 27 with value: 0.06110140981990795.\n"
     ]
    },
    {
     "name": "stdout",
     "output_type": "stream",
     "text": [
      "[0.55642814 0.21332325 0.23024861]\n",
      "EvaluatorHoldout: Processed 35595 (100.0%) in 35.95 sec. Users per second: 990\n"
     ]
    },
    {
     "name": "stderr",
     "output_type": "stream",
     "text": [
      "[I 2025-01-04 12:38:24,247] Trial 40 finished with value: 0.060652135911720896 and parameters: {'alpha_0': 0.6753198667493372, 'alpha_1': 0.25890392079414115, 'alpha_2': 0.27944571945438124}. Best is trial 27 with value: 0.06110140981990795.\n"
     ]
    },
    {
     "name": "stdout",
     "output_type": "stream",
     "text": [
      "[0.50541297 0.15728361 0.33730342]\n",
      "EvaluatorHoldout: Processed 35595 (100.0%) in 35.63 sec. Users per second: 999\n"
     ]
    },
    {
     "name": "stderr",
     "output_type": "stream",
     "text": [
      "[I 2025-01-04 12:38:59,908] Trial 41 finished with value: 0.06064090060802894 and parameters: {'alpha_0': 0.3288508936494076, 'alpha_1': 0.10233780638243355, 'alpha_2': 0.2194691040924288}. Best is trial 27 with value: 0.06110140981990795.\n"
     ]
    },
    {
     "name": "stdout",
     "output_type": "stream",
     "text": [
      "[0.73478057 0.08051251 0.18470692]\n",
      "EvaluatorHoldout: Processed 35595 (100.0%) in 34.57 sec. Users per second: 1030\n"
     ]
    },
    {
     "name": "stderr",
     "output_type": "stream",
     "text": [
      "[I 2025-01-04 12:39:34,508] Trial 42 finished with value: 0.060955415532320784 and parameters: {'alpha_0': 0.4982679020732289, 'alpha_1': 0.054596977133960056, 'alpha_2': 0.1252530774274246}. Best is trial 27 with value: 0.06110140981990795.\n"
     ]
    },
    {
     "name": "stdout",
     "output_type": "stream",
     "text": [
      "[0.76204187 0.06662533 0.1713328 ]\n",
      "EvaluatorHoldout: Processed 35595 (100.0%) in 37.53 sec. Users per second: 948\n"
     ]
    },
    {
     "name": "stderr",
     "output_type": "stream",
     "text": [
      "[I 2025-01-04 12:40:12,071] Trial 43 finished with value: 0.060936784415501516 and parameters: {'alpha_0': 0.5114729342257351, 'alpha_1': 0.044718083004327905, 'alpha_2': 0.11499642432440949}. Best is trial 27 with value: 0.06110140981990795.\n"
     ]
    },
    {
     "name": "stdout",
     "output_type": "stream",
     "text": [
      "[0.66179691 0.15701764 0.18118545]\n",
      "EvaluatorHoldout: Processed 35595 (100.0%) in 36.20 sec. Users per second: 983\n"
     ]
    },
    {
     "name": "stderr",
     "output_type": "stream",
     "text": [
      "[I 2025-01-04 12:40:48,300] Trial 44 finished with value: 0.06096532195309917 and parameters: {'alpha_0': 0.5729034688478738, 'alpha_1': 0.1359268222308671, 'alpha_2': 0.1568483791214832}. Best is trial 27 with value: 0.06110140981990795.\n"
     ]
    },
    {
     "name": "stdout",
     "output_type": "stream",
     "text": [
      "[0.59938582 0.22403974 0.17657444]\n",
      "EvaluatorHoldout: Processed 35595 (100.0%) in 36.40 sec. Users per second: 978\n"
     ]
    },
    {
     "name": "stderr",
     "output_type": "stream",
     "text": [
      "[I 2025-01-04 12:41:24,728] Trial 45 finished with value: 0.060727173202940486 and parameters: {'alpha_0': 0.5728621904000295, 'alpha_1': 0.214125682747475, 'alpha_2': 0.1687607834406143}. Best is trial 27 with value: 0.06110140981990795.\n"
     ]
    },
    {
     "name": "stdout",
     "output_type": "stream",
     "text": [
      "[0.4654301  0.34364591 0.19092399]\n",
      "EvaluatorHoldout: Processed 35595 (100.0%) in 36.20 sec. Users per second: 983\n"
     ]
    },
    {
     "name": "stderr",
     "output_type": "stream",
     "text": [
      "[I 2025-01-04 12:42:00,963] Trial 46 finished with value: 0.059520757106511876 and parameters: {'alpha_0': 0.19935035033062753, 'alpha_1': 0.14718844441540566, 'alpha_2': 0.08177546793375695}. Best is trial 27 with value: 0.06110140981990795.\n"
     ]
    },
    {
     "name": "stdout",
     "output_type": "stream",
     "text": [
      "[0.64728716 0.18497241 0.16774043]\n",
      "EvaluatorHoldout: Processed 35595 (100.0%) in 36.36 sec. Users per second: 979\n"
     ]
    },
    {
     "name": "stderr",
     "output_type": "stream",
     "text": [
      "[I 2025-01-04 12:42:37,356] Trial 47 finished with value: 0.06091905631475617 and parameters: {'alpha_0': 0.9969384205113863, 'alpha_1': 0.2848907118425157, 'alpha_2': 0.25835037360531193}. Best is trial 27 with value: 0.06110140981990795.\n"
     ]
    },
    {
     "name": "stdout",
     "output_type": "stream",
     "text": [
      "[0.47682645 0.28699469 0.23617887]\n",
      "EvaluatorHoldout: Processed 35595 (100.0%) in 34.12 sec. Users per second: 1043\n"
     ]
    },
    {
     "name": "stderr",
     "output_type": "stream",
     "text": [
      "[I 2025-01-04 12:43:11,509] Trial 48 finished with value: 0.0599438424337269 and parameters: {'alpha_0': 0.7163926537712686, 'alpha_1': 0.43118599265047386, 'alpha_2': 0.3548393933628423}. Best is trial 27 with value: 0.06110140981990795.\n"
     ]
    },
    {
     "name": "stdout",
     "output_type": "stream",
     "text": [
      "[0.41807521 0.57655064 0.00537415]\n",
      "EvaluatorHoldout: Processed 35595 (100.0%) in 33.29 sec. Users per second: 1069\n"
     ]
    },
    {
     "name": "stderr",
     "output_type": "stream",
     "text": [
      "[I 2025-01-04 12:43:44,830] Trial 49 finished with value: 0.05722948091068387 and parameters: {'alpha_0': 0.6605503798499952, 'alpha_1': 0.9109383608218984, 'alpha_2': 0.008491054852194507}. Best is trial 27 with value: 0.06110140981990795.\n"
     ]
    },
    {
     "name": "stdout",
     "output_type": "stream",
     "text": [
      "[0.75000272 0.18031471 0.06968256]\n",
      "EvaluatorHoldout: Processed 35595 (100.0%) in 33.31 sec. Users per second: 1068\n"
     ]
    },
    {
     "name": "stderr",
     "output_type": "stream",
     "text": [
      "[I 2025-01-04 12:44:18,173] Trial 50 finished with value: 0.06099883611261431 and parameters: {'alpha_0': 0.7718419515582101, 'alpha_1': 0.18556527395558825, 'alpha_2': 0.07171164045087638}. Best is trial 27 with value: 0.06110140981990795.\n"
     ]
    },
    {
     "name": "stdout",
     "output_type": "stream",
     "text": [
      "[0.76702997 0.17546652 0.05750351]\n",
      "EvaluatorHoldout: Processed 35595 (100.0%) in 33.95 sec. Users per second: 1048\n"
     ]
    },
    {
     "name": "stderr",
     "output_type": "stream",
     "text": [
      "[I 2025-01-04 12:44:52,160] Trial 51 finished with value: 0.06099340686782576 and parameters: {'alpha_0': 0.786246470590166, 'alpha_1': 0.17986250390298156, 'alpha_2': 0.058944150884400706}. Best is trial 27 with value: 0.06110140981990795.\n"
     ]
    },
    {
     "name": "stdout",
     "output_type": "stream",
     "text": [
      "[0.76915459 0.17848654 0.05235887]\n",
      "EvaluatorHoldout: Processed 35595 (100.0%) in 34.02 sec. Users per second: 1046\n"
     ]
    },
    {
     "name": "stderr",
     "output_type": "stream",
     "text": [
      "[I 2025-01-04 12:45:26,209] Trial 52 finished with value: 0.06099922184540642 and parameters: {'alpha_0': 0.7724393419711915, 'alpha_1': 0.17924877877768716, 'alpha_2': 0.05258247374471896}. Best is trial 27 with value: 0.06110140981990795.\n"
     ]
    },
    {
     "name": "stdout",
     "output_type": "stream",
     "text": [
      "[0.71418846 0.23097095 0.05484059]\n",
      "EvaluatorHoldout: Processed 35595 (100.0%) in 34.76 sec. Users per second: 1024\n"
     ]
    },
    {
     "name": "stderr",
     "output_type": "stream",
     "text": [
      "[I 2025-01-04 12:46:01,001] Trial 53 finished with value: 0.060949018611047956 and parameters: {'alpha_0': 0.7798102726227794, 'alpha_1': 0.2521932631290993, 'alpha_2': 0.059879512117409606}. Best is trial 27 with value: 0.06110140981990795.\n"
     ]
    },
    {
     "name": "stdout",
     "output_type": "stream",
     "text": [
      "[0.75002516 0.16514436 0.08483048]\n",
      "EvaluatorHoldout: Processed 35595 (100.0%) in 34.74 sec. Users per second: 1025\n"
     ]
    },
    {
     "name": "stderr",
     "output_type": "stream",
     "text": [
      "[I 2025-01-04 12:46:35,766] Trial 54 finished with value: 0.06100706136272749 and parameters: {'alpha_0': 0.860036151926841, 'alpha_1': 0.1893671397346639, 'alpha_2': 0.09727310938112373}. Best is trial 27 with value: 0.06110140981990795.\n"
     ]
    },
    {
     "name": "stdout",
     "output_type": "stream",
     "text": [
      "[0.66842919 0.25014547 0.08142534]\n",
      "EvaluatorHoldout: Processed 35595 (100.0%) in 35.53 sec. Users per second: 1002\n"
     ]
    },
    {
     "name": "stderr",
     "output_type": "stream",
     "text": [
      "[I 2025-01-04 12:47:11,327] Trial 55 finished with value: 0.06081033540915387 and parameters: {'alpha_0': 0.861874439613658, 'alpha_1': 0.3225382534757081, 'alpha_2': 0.10499005332344154}. Best is trial 27 with value: 0.06110140981990795.\n"
     ]
    },
    {
     "name": "stdout",
     "output_type": "stream",
     "text": [
      "[0.78605153 0.18587744 0.02807103]\n",
      "EvaluatorHoldout: Processed 35595 (100.0%) in 36.55 sec. Users per second: 974\n"
     ]
    },
    {
     "name": "stderr",
     "output_type": "stream",
     "text": [
      "[I 2025-01-04 12:47:47,911] Trial 56 finished with value: 0.06101611716466158 and parameters: {'alpha_0': 0.9411059745955709, 'alpha_1': 0.22254313284032842, 'alpha_2': 0.03360825283035973}. Best is trial 27 with value: 0.06110140981990795.\n"
     ]
    },
    {
     "name": "stdout",
     "output_type": "stream",
     "text": [
      "[0.7876003 0.1932268 0.0191729]\n",
      "EvaluatorHoldout: Processed 35595 (100.0%) in 38.19 sec. Users per second: 932\n"
     ]
    },
    {
     "name": "stderr",
     "output_type": "stream",
     "text": [
      "[I 2025-01-04 12:48:26,138] Trial 57 finished with value: 0.06101161657714368 and parameters: {'alpha_0': 0.9525258018444469, 'alpha_1': 0.23368898397753618, 'alpha_2': 0.023187752696008368}. Best is trial 27 with value: 0.06110140981990795.\n"
     ]
    },
    {
     "name": "stdout",
     "output_type": "stream",
     "text": [
      "[0.78612791 0.19693254 0.01693954]\n",
      "EvaluatorHoldout: Processed 35595 (100.0%) in 37.55 sec. Users per second: 948\n"
     ]
    },
    {
     "name": "stderr",
     "output_type": "stream",
     "text": [
      "[I 2025-01-04 12:49:03,722] Trial 58 finished with value: 0.061014015701329534 and parameters: {'alpha_0': 0.9429825646510835, 'alpha_1': 0.23622613015832497, 'alpha_2': 0.02031945668332181}. Best is trial 27 with value: 0.06110140981990795.\n"
     ]
    },
    {
     "name": "stdout",
     "output_type": "stream",
     "text": [
      "[0.80254914 0.19660491 0.00084595]\n",
      "EvaluatorHoldout: Processed 35595 (100.0%) in 35.95 sec. Users per second: 990\n"
     ]
    },
    {
     "name": "stderr",
     "output_type": "stream",
     "text": [
      "[I 2025-01-04 12:49:39,704] Trial 59 finished with value: 0.06103980405665858 and parameters: {'alpha_0': 0.9488756067763038, 'alpha_1': 0.23245131768139038, 'alpha_2': 0.0010001883566835845}. Best is trial 27 with value: 0.06110140981990795.\n"
     ]
    },
    {
     "name": "stdout",
     "output_type": "stream",
     "text": [
      "[0.67934229 0.29842313 0.02223458]\n",
      "EvaluatorHoldout: Processed 35595 (100.0%) in 38.41 sec. Users per second: 927\n"
     ]
    },
    {
     "name": "stderr",
     "output_type": "stream",
     "text": [
      "[I 2025-01-04 12:50:18,145] Trial 60 finished with value: 0.06066885285743118 and parameters: {'alpha_0': 0.9565084776602103, 'alpha_1': 0.420177365811395, 'alpha_2': 0.031306105660974935}. Best is trial 27 with value: 0.06110140981990795.\n"
     ]
    },
    {
     "name": "stdout",
     "output_type": "stream",
     "text": [
      "[0.80263658 0.19303583 0.00432759]\n",
      "EvaluatorHoldout: Processed 35595 (100.0%) in 36.34 sec. Users per second: 979\n"
     ]
    },
    {
     "name": "stderr",
     "output_type": "stream",
     "text": [
      "[I 2025-01-04 12:50:54,523] Trial 61 finished with value: 0.06104616418838747 and parameters: {'alpha_0': 0.932621322549269, 'alpha_1': 0.22429743795389254, 'alpha_2': 0.005028433317985057}. Best is trial 27 with value: 0.06110140981990795.\n"
     ]
    },
    {
     "name": "stdout",
     "output_type": "stream",
     "text": [
      "[0.79869929 0.1976709  0.00362981]\n",
      "EvaluatorHoldout: Processed 35595 (100.0%) in 36.89 sec. Users per second: 965\n"
     ]
    },
    {
     "name": "stderr",
     "output_type": "stream",
     "text": [
      "[I 2025-01-04 12:51:31,444] Trial 62 finished with value: 0.06101629553820694 and parameters: {'alpha_0': 0.9381118821430544, 'alpha_1': 0.23217426835632274, 'alpha_2': 0.004263386556449363}. Best is trial 27 with value: 0.06110140981990795.\n"
     ]
    },
    {
     "name": "stdout",
     "output_type": "stream",
     "text": [
      "[7.65279005e-01 2.34090489e-01 6.30505685e-04]\n",
      "EvaluatorHoldout: Processed 35595 (100.0%) in 36.11 sec. Users per second: 986\n"
     ]
    },
    {
     "name": "stderr",
     "output_type": "stream",
     "text": [
      "[I 2025-01-04 12:52:07,583] Trial 63 finished with value: 0.060983953069918335 and parameters: {'alpha_0': 0.9228602457085588, 'alpha_1': 0.28229286911244444, 'alpha_2': 0.0007603352864260738}. Best is trial 27 with value: 0.06110140981990795.\n"
     ]
    },
    {
     "name": "stdout",
     "output_type": "stream",
     "text": [
      "[0.58205314 0.34219278 0.07575408]\n",
      "EvaluatorHoldout: Processed 35595 (100.0%) in 35.91 sec. Users per second: 991\n"
     ]
    },
    {
     "name": "stderr",
     "output_type": "stream",
     "text": [
      "[I 2025-01-04 12:52:43,522] Trial 64 finished with value: 0.06012358611094203 and parameters: {'alpha_0': 0.9756968046563418, 'alpha_1': 0.573618414852416, 'alpha_2': 0.12698670630364217}. Best is trial 27 with value: 0.06110140981990795.\n"
     ]
    },
    {
     "name": "stdout",
     "output_type": "stream",
     "text": [
      "[0.69104228 0.24205098 0.06690675]\n",
      "EvaluatorHoldout: Processed 35595 (100.0%) in 36.71 sec. Users per second: 970\n"
     ]
    },
    {
     "name": "stderr",
     "output_type": "stream",
     "text": [
      "[I 2025-01-04 12:53:20,264] Trial 65 finished with value: 0.06087790219332387 and parameters: {'alpha_0': 0.9219314127987805, 'alpha_1': 0.32292437998721163, 'alpha_2': 0.08926144273805964}. Best is trial 27 with value: 0.06110140981990795.\n"
     ]
    },
    {
     "name": "stdout",
     "output_type": "stream",
     "text": [
      "[0.76729923 0.2024675  0.03023328]\n",
      "EvaluatorHoldout: Processed 35595 (100.0%) in 37.71 sec. Users per second: 944\n"
     ]
    },
    {
     "name": "stderr",
     "output_type": "stream",
     "text": [
      "[I 2025-01-04 12:53:58,008] Trial 66 finished with value: 0.06100590750885551 and parameters: {'alpha_0': 0.8202053230759492, 'alpha_1': 0.21642784474728258, 'alpha_2': 0.03231789540039824}. Best is trial 27 with value: 0.06110140981990795.\n"
     ]
    },
    {
     "name": "stdout",
     "output_type": "stream",
     "text": [
      "[0.58755314 0.08835962 0.32408724]\n",
      "EvaluatorHoldout: Processed 35595 (100.0%) in 37.28 sec. Users per second: 955\n"
     ]
    },
    {
     "name": "stderr",
     "output_type": "stream",
     "text": [
      "[I 2025-01-04 12:54:35,321] Trial 67 finished with value: 0.06089621335259621 and parameters: {'alpha_0': 0.8786522287011864, 'alpha_1': 0.13213677073116922, 'alpha_2': 0.4846539972257247}. Best is trial 27 with value: 0.06110140981990795.\n"
     ]
    },
    {
     "name": "stdout",
     "output_type": "stream",
     "text": [
      "[0.77913079 0.21807629 0.00279292]\n",
      "EvaluatorHoldout: Processed 35595 (100.0%) in 36.92 sec. Users per second: 964\n"
     ]
    },
    {
     "name": "stderr",
     "output_type": "stream",
     "text": [
      "[I 2025-01-04 12:55:12,277] Trial 68 finished with value: 0.06098513590949133 and parameters: {'alpha_0': 0.9357240328258036, 'alpha_1': 0.26190625136450585, 'alpha_2': 0.003354253107985879}. Best is trial 27 with value: 0.06110140981990795.\n"
     ]
    },
    {
     "name": "stdout",
     "output_type": "stream",
     "text": [
      "[0.70751504 0.16197823 0.13050674]\n",
      "EvaluatorHoldout: Processed 35595 (100.0%) in 37.03 sec. Users per second: 961\n"
     ]
    },
    {
     "name": "stderr",
     "output_type": "stream",
     "text": [
      "[I 2025-01-04 12:55:49,341] Trial 69 finished with value: 0.060996993290923056 and parameters: {'alpha_0': 0.9985116959100098, 'alpha_1': 0.2285988906453374, 'alpha_2': 0.18418337142052493}. Best is trial 27 with value: 0.06110140981990795.\n"
     ]
    },
    {
     "name": "stdout",
     "output_type": "stream",
     "text": [
      "[0.62121871 0.27758887 0.10119242]\n",
      "EvaluatorHoldout: Processed 35595 (100.0%) in 36.10 sec. Users per second: 986\n"
     ]
    },
    {
     "name": "stderr",
     "output_type": "stream",
     "text": [
      "[I 2025-01-04 12:56:25,471] Trial 70 finished with value: 0.060571622552657634 and parameters: {'alpha_0': 0.8938026179273242, 'alpha_1': 0.39939180613465486, 'alpha_2': 0.1455945390918739}. Best is trial 27 with value: 0.06110140981990795.\n"
     ]
    },
    {
     "name": "stdout",
     "output_type": "stream",
     "text": [
      "[0.74723422 0.23022071 0.02254508]\n",
      "EvaluatorHoldout: Processed 35595 (100.0%) in 35.64 sec. Users per second: 999\n"
     ]
    },
    {
     "name": "stderr",
     "output_type": "stream",
     "text": [
      "[I 2025-01-04 12:57:01,141] Trial 71 finished with value: 0.060996502763673244 and parameters: {'alpha_0': 0.9609565311520807, 'alpha_1': 0.29606793368894124, 'alpha_2': 0.028993373005977357}. Best is trial 27 with value: 0.06110140981990795.\n"
     ]
    },
    {
     "name": "stdout",
     "output_type": "stream",
     "text": [
      "[0.77316288 0.20024452 0.0265926 ]\n",
      "EvaluatorHoldout: Processed 35595 (100.0%) in 36.99 sec. Users per second: 962\n"
     ]
    },
    {
     "name": "stderr",
     "output_type": "stream",
     "text": [
      "[I 2025-01-04 12:57:38,164] Trial 72 finished with value: 0.061005429244786864 and parameters: {'alpha_0': 0.9452102173871193, 'alpha_1': 0.244803743283517, 'alpha_2': 0.03251009004812934}. Best is trial 27 with value: 0.06110140981990795.\n"
     ]
    },
    {
     "name": "stdout",
     "output_type": "stream",
     "text": [
      "[0.65228826 0.26919448 0.07851725]\n",
      "EvaluatorHoldout: Processed 35595 (100.0%) in 35.80 sec. Users per second: 994\n"
     ]
    },
    {
     "name": "stderr",
     "output_type": "stream",
     "text": [
      "[I 2025-01-04 12:58:14,007] Trial 73 finished with value: 0.06069877056033658 and parameters: {'alpha_0': 0.8356449155173256, 'alpha_1': 0.34486440140757646, 'alpha_2': 0.10058826132153509}. Best is trial 27 with value: 0.06110140981990795.\n"
     ]
    },
    {
     "name": "stdout",
     "output_type": "stream",
     "text": [
      "[0.90188886 0.0961653  0.00194583]\n",
      "EvaluatorHoldout: Processed 35595 (100.0%) in 34.99 sec. Users per second: 1017\n"
     ]
    },
    {
     "name": "stderr",
     "output_type": "stream",
     "text": [
      "[I 2025-01-04 12:58:49,036] Trial 74 finished with value: 0.060993162719035515 and parameters: {'alpha_0': 0.9674378428388603, 'alpha_1': 0.10315456611321472, 'alpha_2': 0.0020872549905226806}. Best is trial 27 with value: 0.06110140981990795.\n"
     ]
    },
    {
     "name": "stdout",
     "output_type": "stream",
     "text": [
      "[0.7237912  0.21457994 0.06162886]\n",
      "EvaluatorHoldout: Processed 35595 (100.0%) in 36.87 sec. Users per second: 965\n"
     ]
    },
    {
     "name": "stderr",
     "output_type": "stream",
     "text": [
      "[I 2025-01-04 12:59:25,945] Trial 75 finished with value: 0.060972013190721826 and parameters: {'alpha_0': 0.9041736091847278, 'alpha_1': 0.2680573099012941, 'alpha_2': 0.07698793767093912}. Best is trial 27 with value: 0.06110140981990795.\n"
     ]
    },
    {
     "name": "stdout",
     "output_type": "stream",
     "text": [
      "[0.77286006 0.19552274 0.0316172 ]\n",
      "EvaluatorHoldout: Processed 35595 (100.0%) in 36.73 sec. Users per second: 969\n"
     ]
    },
    {
     "name": "stderr",
     "output_type": "stream",
     "text": [
      "[I 2025-01-04 13:00:02,706] Trial 76 finished with value: 0.061017759316113945 and parameters: {'alpha_0': 0.936308043228053, 'alpha_1': 0.2368727839677043, 'alpha_2': 0.03830374950771814}. Best is trial 27 with value: 0.06110140981990795.\n"
     ]
    },
    {
     "name": "stdout",
     "output_type": "stream",
     "text": [
      "[0.59288538 0.14118171 0.26593291]\n",
      "EvaluatorHoldout: Processed 35595 (100.0%) in 36.75 sec. Users per second: 968\n"
     ]
    },
    {
     "name": "stderr",
     "output_type": "stream",
     "text": [
      "[I 2025-01-04 13:00:39,488] Trial 77 finished with value: 0.060896178792721384 and parameters: {'alpha_0': 0.8662816316789169, 'alpha_1': 0.2062846029426044, 'alpha_2': 0.3885621154117003}. Best is trial 27 with value: 0.06110140981990795.\n"
     ]
    },
    {
     "name": "stdout",
     "output_type": "stream",
     "text": [
      "[0.66298935 0.30688611 0.03012455]\n",
      "EvaluatorHoldout: Processed 35595 (100.0%) in 36.09 sec. Users per second: 986\n"
     ]
    },
    {
     "name": "stderr",
     "output_type": "stream",
     "text": [
      "[I 2025-01-04 13:01:15,610] Trial 78 finished with value: 0.060584990535052195 and parameters: {'alpha_0': 0.9985091592196527, 'alpha_1': 0.462192323001946, 'alpha_2': 0.0453697129967717}. Best is trial 27 with value: 0.06110140981990795.\n"
     ]
    },
    {
     "name": "stdout",
     "output_type": "stream",
     "text": [
      "[0.53453489 0.08425217 0.38121295]\n",
      "EvaluatorHoldout: Processed 35595 (100.0%) in 38.44 sec. Users per second: 926\n"
     ]
    },
    {
     "name": "stderr",
     "output_type": "stream",
     "text": [
      "[I 2025-01-04 13:01:54,078] Trial 79 finished with value: 0.06073995143780084 and parameters: {'alpha_0': 0.9135535226505469, 'alpha_1': 0.1439922185940644, 'alpha_2': 0.6515167444755764}. Best is trial 27 with value: 0.06110140981990795.\n"
     ]
    },
    {
     "name": "stdout",
     "output_type": "stream",
     "text": [
      "[0.67528958 0.22466222 0.10004819]\n",
      "EvaluatorHoldout: Processed 35595 (100.0%) in 36.68 sec. Users per second: 970\n"
     ]
    },
    {
     "name": "stderr",
     "output_type": "stream",
     "text": [
      "[I 2025-01-04 13:02:30,790] Trial 80 finished with value: 0.06087501588639208 and parameters: {'alpha_0': 0.9430667778791526, 'alpha_1': 0.3137490705257887, 'alpha_2': 0.1397209880706149}. Best is trial 27 with value: 0.06110140981990795.\n"
     ]
    },
    {
     "name": "stdout",
     "output_type": "stream",
     "text": [
      "[0.78657114 0.1907694  0.02265946]\n",
      "EvaluatorHoldout: Processed 35595 (100.0%) in 37.19 sec. Users per second: 957\n"
     ]
    },
    {
     "name": "stderr",
     "output_type": "stream",
     "text": [
      "[I 2025-01-04 13:03:08,014] Trial 81 finished with value: 0.061006115982936815 and parameters: {'alpha_0': 0.9684830015073798, 'alpha_1': 0.23488901468715598, 'alpha_2': 0.02789996046493383}. Best is trial 27 with value: 0.06110140981990795.\n"
     ]
    },
    {
     "name": "stdout",
     "output_type": "stream",
     "text": [
      "[0.73902129 0.19191828 0.06906043]\n"
     ]
    },
    {
     "name": "stderr",
     "output_type": "stream",
     "text": [
      "[W 2025-01-04 13:03:43,510] Trial 82 failed with parameters: {'alpha_0': 0.8892508959592103, 'alpha_1': 0.2309317803790319, 'alpha_2': 0.08309915929590303} because of the following error: KeyboardInterrupt().\n",
      "Traceback (most recent call last):\n",
      "  File \"/Users/lucapagano/miniconda3/envs/RecSysPD/lib/python3.8/site-packages/optuna/study/_optimize.py\", line 197, in _run_trial\n",
      "    value_or_values = func(trial)\n",
      "  File \"/var/folders/50/7hjr20g17_18p725nbt0qqv00000gn/T/ipykernel_46733/3714798673.py\", line 14, in objective_function\n",
      "    result_dict, _ = evaluator_test.evaluateRecommender(final_recommender)\n",
      "  File \"/Users/lucapagano/Developer/RecSys/Competizione/Evaluation/Evaluator.py\", line 276, in evaluateRecommender\n",
      "    results_dict = self._run_evaluation_on_selected_users(recommender_object, self.users_to_evaluate)\n",
      "  File \"/Users/lucapagano/Developer/RecSys/Competizione/Evaluation/Evaluator.py\", line 476, in _run_evaluation_on_selected_users\n",
      "    recommended_items_batch_list, scores_batch = recommender_object.recommend(test_user_batch_array,\n",
      "  File \"/Users/lucapagano/Developer/RecSys/Competizione/Recommenders/BaseRecommender.py\", line 147, in recommend\n",
      "    scores_batch = self._compute_item_score(user_id_array, items_to_compute=items_to_compute)\n",
      "  File \"/Users/lucapagano/Developer/RecSys/Competizione/Recommenders/Hybrid/GeneralizedLinearHybridRecommender.py\", line 71, in _compute_item_score\n",
      "    result = result + self.alphas[index]*self.recommenders[index]._compute_item_score(user_id_array,items_to_compute)\n",
      "KeyboardInterrupt\n",
      "[W 2025-01-04 13:03:43,512] Trial 82 failed with value None.\n"
     ]
    },
    {
     "ename": "KeyboardInterrupt",
     "evalue": "",
     "output_type": "error",
     "traceback": [
      "\u001b[0;31m---------------------------------------------------------------------------\u001b[0m",
      "\u001b[0;31mKeyboardInterrupt\u001b[0m                         Traceback (most recent call last)",
      "Cell \u001b[0;32mIn[8], line 39\u001b[0m\n\u001b[1;32m     35\u001b[0m optuna_study \u001b[38;5;241m=\u001b[39m optuna\u001b[38;5;241m.\u001b[39mcreate_study(study_name\u001b[38;5;241m=\u001b[39m\u001b[38;5;124m\"\u001b[39m\u001b[38;5;124mlinear_comb\u001b[39m\u001b[38;5;124m\"\u001b[39m, direction\u001b[38;5;241m=\u001b[39m\u001b[38;5;124m\"\u001b[39m\u001b[38;5;124mmaximize\u001b[39m\u001b[38;5;124m\"\u001b[39m)\n\u001b[1;32m     37\u001b[0m save_results \u001b[38;5;241m=\u001b[39m SaveResults()\n\u001b[0;32m---> 39\u001b[0m \u001b[43moptuna_study\u001b[49m\u001b[38;5;241;43m.\u001b[39;49m\u001b[43moptimize\u001b[49m\u001b[43m(\u001b[49m\u001b[43mobjective_function\u001b[49m\u001b[43m,\u001b[49m\n\u001b[1;32m     40\u001b[0m \u001b[43m                      \u001b[49m\u001b[43mcallbacks\u001b[49m\u001b[38;5;241;43m=\u001b[39;49m\u001b[43m[\u001b[49m\u001b[43msave_results\u001b[49m\u001b[43m]\u001b[49m\u001b[43m,\u001b[49m\n\u001b[1;32m     41\u001b[0m \u001b[43m                      \u001b[49m\u001b[43mn_trials\u001b[49m\u001b[43m \u001b[49m\u001b[38;5;241;43m=\u001b[39;49m\u001b[43m \u001b[49m\u001b[38;5;241;43m100\u001b[39;49m\n\u001b[1;32m     42\u001b[0m \u001b[43m                      \u001b[49m\u001b[43m)\u001b[49m\n",
      "File \u001b[0;32m~/miniconda3/envs/RecSysPD/lib/python3.8/site-packages/optuna/study/study.py:475\u001b[0m, in \u001b[0;36mStudy.optimize\u001b[0;34m(self, func, n_trials, timeout, n_jobs, catch, callbacks, gc_after_trial, show_progress_bar)\u001b[0m\n\u001b[1;32m    373\u001b[0m \u001b[38;5;28;01mdef\u001b[39;00m \u001b[38;5;21moptimize\u001b[39m(\n\u001b[1;32m    374\u001b[0m     \u001b[38;5;28mself\u001b[39m,\n\u001b[1;32m    375\u001b[0m     func: ObjectiveFuncType,\n\u001b[0;32m   (...)\u001b[0m\n\u001b[1;32m    382\u001b[0m     show_progress_bar: \u001b[38;5;28mbool\u001b[39m \u001b[38;5;241m=\u001b[39m \u001b[38;5;28;01mFalse\u001b[39;00m,\n\u001b[1;32m    383\u001b[0m ) \u001b[38;5;241m-\u001b[39m\u001b[38;5;241m>\u001b[39m \u001b[38;5;28;01mNone\u001b[39;00m:\n\u001b[1;32m    384\u001b[0m \u001b[38;5;250m    \u001b[39m\u001b[38;5;124;03m\"\"\"Optimize an objective function.\u001b[39;00m\n\u001b[1;32m    385\u001b[0m \n\u001b[1;32m    386\u001b[0m \u001b[38;5;124;03m    Optimization is done by choosing a suitable set of hyperparameter values from a given\u001b[39;00m\n\u001b[0;32m   (...)\u001b[0m\n\u001b[1;32m    473\u001b[0m \u001b[38;5;124;03m            If nested invocation of this method occurs.\u001b[39;00m\n\u001b[1;32m    474\u001b[0m \u001b[38;5;124;03m    \"\"\"\u001b[39;00m\n\u001b[0;32m--> 475\u001b[0m     \u001b[43m_optimize\u001b[49m\u001b[43m(\u001b[49m\n\u001b[1;32m    476\u001b[0m \u001b[43m        \u001b[49m\u001b[43mstudy\u001b[49m\u001b[38;5;241;43m=\u001b[39;49m\u001b[38;5;28;43mself\u001b[39;49m\u001b[43m,\u001b[49m\n\u001b[1;32m    477\u001b[0m \u001b[43m        \u001b[49m\u001b[43mfunc\u001b[49m\u001b[38;5;241;43m=\u001b[39;49m\u001b[43mfunc\u001b[49m\u001b[43m,\u001b[49m\n\u001b[1;32m    478\u001b[0m \u001b[43m        \u001b[49m\u001b[43mn_trials\u001b[49m\u001b[38;5;241;43m=\u001b[39;49m\u001b[43mn_trials\u001b[49m\u001b[43m,\u001b[49m\n\u001b[1;32m    479\u001b[0m \u001b[43m        \u001b[49m\u001b[43mtimeout\u001b[49m\u001b[38;5;241;43m=\u001b[39;49m\u001b[43mtimeout\u001b[49m\u001b[43m,\u001b[49m\n\u001b[1;32m    480\u001b[0m \u001b[43m        \u001b[49m\u001b[43mn_jobs\u001b[49m\u001b[38;5;241;43m=\u001b[39;49m\u001b[43mn_jobs\u001b[49m\u001b[43m,\u001b[49m\n\u001b[1;32m    481\u001b[0m \u001b[43m        \u001b[49m\u001b[43mcatch\u001b[49m\u001b[38;5;241;43m=\u001b[39;49m\u001b[38;5;28;43mtuple\u001b[39;49m\u001b[43m(\u001b[49m\u001b[43mcatch\u001b[49m\u001b[43m)\u001b[49m\u001b[43m \u001b[49m\u001b[38;5;28;43;01mif\u001b[39;49;00m\u001b[43m \u001b[49m\u001b[38;5;28;43misinstance\u001b[39;49m\u001b[43m(\u001b[49m\u001b[43mcatch\u001b[49m\u001b[43m,\u001b[49m\u001b[43m \u001b[49m\u001b[43mIterable\u001b[49m\u001b[43m)\u001b[49m\u001b[43m \u001b[49m\u001b[38;5;28;43;01melse\u001b[39;49;00m\u001b[43m \u001b[49m\u001b[43m(\u001b[49m\u001b[43mcatch\u001b[49m\u001b[43m,\u001b[49m\u001b[43m)\u001b[49m\u001b[43m,\u001b[49m\n\u001b[1;32m    482\u001b[0m \u001b[43m        \u001b[49m\u001b[43mcallbacks\u001b[49m\u001b[38;5;241;43m=\u001b[39;49m\u001b[43mcallbacks\u001b[49m\u001b[43m,\u001b[49m\n\u001b[1;32m    483\u001b[0m \u001b[43m        \u001b[49m\u001b[43mgc_after_trial\u001b[49m\u001b[38;5;241;43m=\u001b[39;49m\u001b[43mgc_after_trial\u001b[49m\u001b[43m,\u001b[49m\n\u001b[1;32m    484\u001b[0m \u001b[43m        \u001b[49m\u001b[43mshow_progress_bar\u001b[49m\u001b[38;5;241;43m=\u001b[39;49m\u001b[43mshow_progress_bar\u001b[49m\u001b[43m,\u001b[49m\n\u001b[1;32m    485\u001b[0m \u001b[43m    \u001b[49m\u001b[43m)\u001b[49m\n",
      "File \u001b[0;32m~/miniconda3/envs/RecSysPD/lib/python3.8/site-packages/optuna/study/_optimize.py:63\u001b[0m, in \u001b[0;36m_optimize\u001b[0;34m(study, func, n_trials, timeout, n_jobs, catch, callbacks, gc_after_trial, show_progress_bar)\u001b[0m\n\u001b[1;32m     61\u001b[0m \u001b[38;5;28;01mtry\u001b[39;00m:\n\u001b[1;32m     62\u001b[0m     \u001b[38;5;28;01mif\u001b[39;00m n_jobs \u001b[38;5;241m==\u001b[39m \u001b[38;5;241m1\u001b[39m:\n\u001b[0;32m---> 63\u001b[0m         \u001b[43m_optimize_sequential\u001b[49m\u001b[43m(\u001b[49m\n\u001b[1;32m     64\u001b[0m \u001b[43m            \u001b[49m\u001b[43mstudy\u001b[49m\u001b[43m,\u001b[49m\n\u001b[1;32m     65\u001b[0m \u001b[43m            \u001b[49m\u001b[43mfunc\u001b[49m\u001b[43m,\u001b[49m\n\u001b[1;32m     66\u001b[0m \u001b[43m            \u001b[49m\u001b[43mn_trials\u001b[49m\u001b[43m,\u001b[49m\n\u001b[1;32m     67\u001b[0m \u001b[43m            \u001b[49m\u001b[43mtimeout\u001b[49m\u001b[43m,\u001b[49m\n\u001b[1;32m     68\u001b[0m \u001b[43m            \u001b[49m\u001b[43mcatch\u001b[49m\u001b[43m,\u001b[49m\n\u001b[1;32m     69\u001b[0m \u001b[43m            \u001b[49m\u001b[43mcallbacks\u001b[49m\u001b[43m,\u001b[49m\n\u001b[1;32m     70\u001b[0m \u001b[43m            \u001b[49m\u001b[43mgc_after_trial\u001b[49m\u001b[43m,\u001b[49m\n\u001b[1;32m     71\u001b[0m \u001b[43m            \u001b[49m\u001b[43mreseed_sampler_rng\u001b[49m\u001b[38;5;241;43m=\u001b[39;49m\u001b[38;5;28;43;01mFalse\u001b[39;49;00m\u001b[43m,\u001b[49m\n\u001b[1;32m     72\u001b[0m \u001b[43m            \u001b[49m\u001b[43mtime_start\u001b[49m\u001b[38;5;241;43m=\u001b[39;49m\u001b[38;5;28;43;01mNone\u001b[39;49;00m\u001b[43m,\u001b[49m\n\u001b[1;32m     73\u001b[0m \u001b[43m            \u001b[49m\u001b[43mprogress_bar\u001b[49m\u001b[38;5;241;43m=\u001b[39;49m\u001b[43mprogress_bar\u001b[49m\u001b[43m,\u001b[49m\n\u001b[1;32m     74\u001b[0m \u001b[43m        \u001b[49m\u001b[43m)\u001b[49m\n\u001b[1;32m     75\u001b[0m     \u001b[38;5;28;01melse\u001b[39;00m:\n\u001b[1;32m     76\u001b[0m         \u001b[38;5;28;01mif\u001b[39;00m n_jobs \u001b[38;5;241m==\u001b[39m \u001b[38;5;241m-\u001b[39m\u001b[38;5;241m1\u001b[39m:\n",
      "File \u001b[0;32m~/miniconda3/envs/RecSysPD/lib/python3.8/site-packages/optuna/study/_optimize.py:160\u001b[0m, in \u001b[0;36m_optimize_sequential\u001b[0;34m(study, func, n_trials, timeout, catch, callbacks, gc_after_trial, reseed_sampler_rng, time_start, progress_bar)\u001b[0m\n\u001b[1;32m    157\u001b[0m         \u001b[38;5;28;01mbreak\u001b[39;00m\n\u001b[1;32m    159\u001b[0m \u001b[38;5;28;01mtry\u001b[39;00m:\n\u001b[0;32m--> 160\u001b[0m     frozen_trial \u001b[38;5;241m=\u001b[39m \u001b[43m_run_trial\u001b[49m\u001b[43m(\u001b[49m\u001b[43mstudy\u001b[49m\u001b[43m,\u001b[49m\u001b[43m \u001b[49m\u001b[43mfunc\u001b[49m\u001b[43m,\u001b[49m\u001b[43m \u001b[49m\u001b[43mcatch\u001b[49m\u001b[43m)\u001b[49m\n\u001b[1;32m    161\u001b[0m \u001b[38;5;28;01mfinally\u001b[39;00m:\n\u001b[1;32m    162\u001b[0m     \u001b[38;5;66;03m# The following line mitigates memory problems that can be occurred in some\u001b[39;00m\n\u001b[1;32m    163\u001b[0m     \u001b[38;5;66;03m# environments (e.g., services that use computing containers such as GitHub Actions).\u001b[39;00m\n\u001b[1;32m    164\u001b[0m     \u001b[38;5;66;03m# Please refer to the following PR for further details:\u001b[39;00m\n\u001b[1;32m    165\u001b[0m     \u001b[38;5;66;03m# https://github.com/optuna/optuna/pull/325.\u001b[39;00m\n\u001b[1;32m    166\u001b[0m     \u001b[38;5;28;01mif\u001b[39;00m gc_after_trial:\n",
      "File \u001b[0;32m~/miniconda3/envs/RecSysPD/lib/python3.8/site-packages/optuna/study/_optimize.py:248\u001b[0m, in \u001b[0;36m_run_trial\u001b[0;34m(study, func, catch)\u001b[0m\n\u001b[1;32m    241\u001b[0m         \u001b[38;5;28;01massert\u001b[39;00m \u001b[38;5;28;01mFalse\u001b[39;00m, \u001b[38;5;124m\"\u001b[39m\u001b[38;5;124mShould not reach.\u001b[39m\u001b[38;5;124m\"\u001b[39m\n\u001b[1;32m    243\u001b[0m \u001b[38;5;28;01mif\u001b[39;00m (\n\u001b[1;32m    244\u001b[0m     frozen_trial\u001b[38;5;241m.\u001b[39mstate \u001b[38;5;241m==\u001b[39m TrialState\u001b[38;5;241m.\u001b[39mFAIL\n\u001b[1;32m    245\u001b[0m     \u001b[38;5;129;01mand\u001b[39;00m func_err \u001b[38;5;129;01mis\u001b[39;00m \u001b[38;5;129;01mnot\u001b[39;00m \u001b[38;5;28;01mNone\u001b[39;00m\n\u001b[1;32m    246\u001b[0m     \u001b[38;5;129;01mand\u001b[39;00m \u001b[38;5;129;01mnot\u001b[39;00m \u001b[38;5;28misinstance\u001b[39m(func_err, catch)\n\u001b[1;32m    247\u001b[0m ):\n\u001b[0;32m--> 248\u001b[0m     \u001b[38;5;28;01mraise\u001b[39;00m func_err\n\u001b[1;32m    249\u001b[0m \u001b[38;5;28;01mreturn\u001b[39;00m frozen_trial\n",
      "File \u001b[0;32m~/miniconda3/envs/RecSysPD/lib/python3.8/site-packages/optuna/study/_optimize.py:197\u001b[0m, in \u001b[0;36m_run_trial\u001b[0;34m(study, func, catch)\u001b[0m\n\u001b[1;32m    195\u001b[0m \u001b[38;5;28;01mwith\u001b[39;00m get_heartbeat_thread(trial\u001b[38;5;241m.\u001b[39m_trial_id, study\u001b[38;5;241m.\u001b[39m_storage):\n\u001b[1;32m    196\u001b[0m     \u001b[38;5;28;01mtry\u001b[39;00m:\n\u001b[0;32m--> 197\u001b[0m         value_or_values \u001b[38;5;241m=\u001b[39m \u001b[43mfunc\u001b[49m\u001b[43m(\u001b[49m\u001b[43mtrial\u001b[49m\u001b[43m)\u001b[49m\n\u001b[1;32m    198\u001b[0m     \u001b[38;5;28;01mexcept\u001b[39;00m exceptions\u001b[38;5;241m.\u001b[39mTrialPruned \u001b[38;5;28;01mas\u001b[39;00m e:\n\u001b[1;32m    199\u001b[0m         \u001b[38;5;66;03m# TODO(mamu): Handle multi-objective cases.\u001b[39;00m\n\u001b[1;32m    200\u001b[0m         state \u001b[38;5;241m=\u001b[39m TrialState\u001b[38;5;241m.\u001b[39mPRUNED\n",
      "Cell \u001b[0;32mIn[8], line 14\u001b[0m, in \u001b[0;36mobjective_function\u001b[0;34m(trial)\u001b[0m\n\u001b[1;32m     12\u001b[0m final_recommender \u001b[38;5;241m=\u001b[39m GeneralizedLinearHybridRecommender(URM_train_validation, new_recommenders)\n\u001b[1;32m     13\u001b[0m final_recommender\u001b[38;5;241m.\u001b[39mfit(\u001b[38;5;241m*\u001b[39m\u001b[38;5;241m*\u001b[39m{\u001b[38;5;124m\"\u001b[39m\u001b[38;5;124malphas\u001b[39m\u001b[38;5;124m\"\u001b[39m: alphas})\n\u001b[0;32m---> 14\u001b[0m result_dict, _ \u001b[38;5;241m=\u001b[39m \u001b[43mevaluator_test\u001b[49m\u001b[38;5;241;43m.\u001b[39;49m\u001b[43mevaluateRecommender\u001b[49m\u001b[43m(\u001b[49m\u001b[43mfinal_recommender\u001b[49m\u001b[43m)\u001b[49m\n\u001b[1;32m     16\u001b[0m MAP \u001b[38;5;241m=\u001b[39m result_dict\u001b[38;5;241m.\u001b[39mloc[\u001b[38;5;241m10\u001b[39m][\u001b[38;5;124m\"\u001b[39m\u001b[38;5;124mMAP\u001b[39m\u001b[38;5;124m\"\u001b[39m]\n\u001b[1;32m     18\u001b[0m \u001b[38;5;28;01mreturn\u001b[39;00m MAP\n",
      "File \u001b[0;32m~/Developer/RecSys/Competizione/Evaluation/Evaluator.py:276\u001b[0m, in \u001b[0;36mEvaluator.evaluateRecommender\u001b[0;34m(self, recommender_object)\u001b[0m\n\u001b[1;32m    273\u001b[0m \u001b[38;5;28mself\u001b[39m\u001b[38;5;241m.\u001b[39m_start_time_print \u001b[38;5;241m=\u001b[39m time\u001b[38;5;241m.\u001b[39mtime()\n\u001b[1;32m    274\u001b[0m \u001b[38;5;28mself\u001b[39m\u001b[38;5;241m.\u001b[39m_n_users_evaluated \u001b[38;5;241m=\u001b[39m \u001b[38;5;241m0\u001b[39m\n\u001b[0;32m--> 276\u001b[0m results_dict \u001b[38;5;241m=\u001b[39m \u001b[38;5;28;43mself\u001b[39;49m\u001b[38;5;241;43m.\u001b[39;49m\u001b[43m_run_evaluation_on_selected_users\u001b[49m\u001b[43m(\u001b[49m\u001b[43mrecommender_object\u001b[49m\u001b[43m,\u001b[49m\u001b[43m \u001b[49m\u001b[38;5;28;43mself\u001b[39;49m\u001b[38;5;241;43m.\u001b[39;49m\u001b[43musers_to_evaluate\u001b[49m\u001b[43m)\u001b[49m\n\u001b[1;32m    279\u001b[0m \u001b[38;5;28;01mif\u001b[39;00m \u001b[38;5;28mself\u001b[39m\u001b[38;5;241m.\u001b[39m_n_users_evaluated \u001b[38;5;241m>\u001b[39m \u001b[38;5;241m0\u001b[39m:\n\u001b[1;32m    281\u001b[0m     \u001b[38;5;28;01mfor\u001b[39;00m cutoff \u001b[38;5;129;01min\u001b[39;00m \u001b[38;5;28mself\u001b[39m\u001b[38;5;241m.\u001b[39mcutoff_list:\n",
      "File \u001b[0;32m~/Developer/RecSys/Competizione/Evaluation/Evaluator.py:476\u001b[0m, in \u001b[0;36mEvaluatorHoldout._run_evaluation_on_selected_users\u001b[0;34m(self, recommender_object, users_to_evaluate, block_size)\u001b[0m\n\u001b[1;32m    473\u001b[0m     user_batch_start \u001b[38;5;241m=\u001b[39m user_batch_end\n\u001b[1;32m    475\u001b[0m     \u001b[38;5;66;03m# Compute predictions for a batch of users using vectorization, much more efficient than computing it one at a time\u001b[39;00m\n\u001b[0;32m--> 476\u001b[0m     recommended_items_batch_list, scores_batch \u001b[38;5;241m=\u001b[39m \u001b[43mrecommender_object\u001b[49m\u001b[38;5;241;43m.\u001b[39;49m\u001b[43mrecommend\u001b[49m\u001b[43m(\u001b[49m\u001b[43mtest_user_batch_array\u001b[49m\u001b[43m,\u001b[49m\n\u001b[1;32m    477\u001b[0m \u001b[43m                                                              \u001b[49m\u001b[43mremove_seen_flag\u001b[49m\u001b[38;5;241;43m=\u001b[39;49m\u001b[38;5;28;43mself\u001b[39;49m\u001b[38;5;241;43m.\u001b[39;49m\u001b[43mexclude_seen\u001b[49m\u001b[43m,\u001b[49m\n\u001b[1;32m    478\u001b[0m \u001b[43m                                                              \u001b[49m\u001b[43mcutoff\u001b[49m\u001b[43m \u001b[49m\u001b[38;5;241;43m=\u001b[39;49m\u001b[43m \u001b[49m\u001b[38;5;28;43mself\u001b[39;49m\u001b[38;5;241;43m.\u001b[39;49m\u001b[43mmax_cutoff\u001b[49m\u001b[43m,\u001b[49m\n\u001b[1;32m    479\u001b[0m \u001b[43m                                                              \u001b[49m\u001b[43mremove_top_pop_flag\u001b[49m\u001b[38;5;241;43m=\u001b[39;49m\u001b[38;5;28;43;01mFalse\u001b[39;49;00m\u001b[43m,\u001b[49m\n\u001b[1;32m    480\u001b[0m \u001b[43m                                                              \u001b[49m\u001b[43mremove_custom_items_flag\u001b[49m\u001b[38;5;241;43m=\u001b[39;49m\u001b[38;5;28;43mself\u001b[39;49m\u001b[38;5;241;43m.\u001b[39;49m\u001b[43mignore_items_flag\u001b[49m\u001b[43m,\u001b[49m\n\u001b[1;32m    481\u001b[0m \u001b[43m                                                              \u001b[49m\u001b[43mreturn_scores\u001b[49m\u001b[43m \u001b[49m\u001b[38;5;241;43m=\u001b[39;49m\u001b[43m \u001b[49m\u001b[38;5;28;43;01mTrue\u001b[39;49;00m\n\u001b[1;32m    482\u001b[0m \u001b[43m                                                             \u001b[49m\u001b[43m)\u001b[49m\n\u001b[1;32m    484\u001b[0m     results_dict \u001b[38;5;241m=\u001b[39m \u001b[38;5;28mself\u001b[39m\u001b[38;5;241m.\u001b[39m_compute_metrics_on_recommendation_list(test_user_batch_array \u001b[38;5;241m=\u001b[39m test_user_batch_array,\n\u001b[1;32m    485\u001b[0m                                                  recommended_items_batch_list \u001b[38;5;241m=\u001b[39m recommended_items_batch_list,\n\u001b[1;32m    486\u001b[0m                                                  scores_batch \u001b[38;5;241m=\u001b[39m scores_batch,\n\u001b[1;32m    487\u001b[0m                                                  results_dict \u001b[38;5;241m=\u001b[39m results_dict)\n\u001b[1;32m    490\u001b[0m \u001b[38;5;28;01mreturn\u001b[39;00m results_dict\n",
      "File \u001b[0;32m~/Developer/RecSys/Competizione/Recommenders/BaseRecommender.py:147\u001b[0m, in \u001b[0;36mBaseRecommender.recommend\u001b[0;34m(self, user_id_array, cutoff, remove_seen_flag, items_to_compute, remove_top_pop_flag, remove_custom_items_flag, return_scores)\u001b[0m\n\u001b[1;32m    143\u001b[0m cutoff \u001b[38;5;241m=\u001b[39m \u001b[38;5;28mmin\u001b[39m(cutoff, \u001b[38;5;28mself\u001b[39m\u001b[38;5;241m.\u001b[39mURM_train\u001b[38;5;241m.\u001b[39mshape[\u001b[38;5;241m1\u001b[39m] \u001b[38;5;241m-\u001b[39m \u001b[38;5;241m1\u001b[39m)\n\u001b[1;32m    145\u001b[0m \u001b[38;5;66;03m# Compute the scores using the model-specific function\u001b[39;00m\n\u001b[1;32m    146\u001b[0m \u001b[38;5;66;03m# Vectorize over all users in user_id_array\u001b[39;00m\n\u001b[0;32m--> 147\u001b[0m scores_batch \u001b[38;5;241m=\u001b[39m \u001b[38;5;28;43mself\u001b[39;49m\u001b[38;5;241;43m.\u001b[39;49m\u001b[43m_compute_item_score\u001b[49m\u001b[43m(\u001b[49m\u001b[43muser_id_array\u001b[49m\u001b[43m,\u001b[49m\u001b[43m \u001b[49m\u001b[43mitems_to_compute\u001b[49m\u001b[38;5;241;43m=\u001b[39;49m\u001b[43mitems_to_compute\u001b[49m\u001b[43m)\u001b[49m\n\u001b[1;32m    150\u001b[0m \u001b[38;5;28;01mfor\u001b[39;00m user_index \u001b[38;5;129;01min\u001b[39;00m \u001b[38;5;28mrange\u001b[39m(\u001b[38;5;28mlen\u001b[39m(user_id_array)):\n\u001b[1;32m    152\u001b[0m     user_id \u001b[38;5;241m=\u001b[39m user_id_array[user_index]\n",
      "File \u001b[0;32m~/Developer/RecSys/Competizione/Recommenders/Hybrid/GeneralizedLinearHybridRecommender.py:71\u001b[0m, in \u001b[0;36mGeneralizedLinearHybridRecommender._compute_item_score\u001b[0;34m(self, user_id_array, items_to_compute)\u001b[0m\n\u001b[1;32m     69\u001b[0m result \u001b[38;5;241m=\u001b[39m \u001b[38;5;28mself\u001b[39m\u001b[38;5;241m.\u001b[39malphas[\u001b[38;5;241m0\u001b[39m]\u001b[38;5;241m*\u001b[39m\u001b[38;5;28mself\u001b[39m\u001b[38;5;241m.\u001b[39mrecommenders[\u001b[38;5;241m0\u001b[39m]\u001b[38;5;241m.\u001b[39m_compute_item_score(user_id_array,items_to_compute)\n\u001b[1;32m     70\u001b[0m \u001b[38;5;28;01mfor\u001b[39;00m index \u001b[38;5;129;01min\u001b[39;00m \u001b[38;5;28mrange\u001b[39m(\u001b[38;5;241m1\u001b[39m,\u001b[38;5;28mlen\u001b[39m(\u001b[38;5;28mself\u001b[39m\u001b[38;5;241m.\u001b[39malphas)):\n\u001b[0;32m---> 71\u001b[0m     result \u001b[38;5;241m=\u001b[39m result \u001b[38;5;241m+\u001b[39m \u001b[38;5;28;43mself\u001b[39;49m\u001b[38;5;241;43m.\u001b[39;49m\u001b[43malphas\u001b[49m\u001b[43m[\u001b[49m\u001b[43mindex\u001b[49m\u001b[43m]\u001b[49m\u001b[38;5;241;43m*\u001b[39;49m\u001b[38;5;28;43mself\u001b[39;49m\u001b[38;5;241;43m.\u001b[39;49m\u001b[43mrecommenders\u001b[49m\u001b[43m[\u001b[49m\u001b[43mindex\u001b[49m\u001b[43m]\u001b[49m\u001b[38;5;241;43m.\u001b[39;49m\u001b[43m_compute_item_score\u001b[49m\u001b[43m(\u001b[49m\u001b[43muser_id_array\u001b[49m\u001b[43m,\u001b[49m\u001b[43mitems_to_compute\u001b[49m\u001b[43m)\u001b[49m\n\u001b[1;32m     72\u001b[0m \u001b[38;5;28;01mreturn\u001b[39;00m result\n",
      "\u001b[0;31mKeyboardInterrupt\u001b[0m: "
     ]
    }
   ],
   "source": [
    "new_recommenders = [similarity_rec, IALS_recommender, graph_recommender]\n",
    "from Recommenders.Hybrid.GeneralizedLinearHybridRecommender import GeneralizedLinearHybridRecommender\n",
    "def objective_function(trial):\n",
    "\n",
    "    raw_alphas = [trial.suggest_float(f'alpha_{i}', 0, 1) for i in range(len(new_recommenders))]\n",
    "    \n",
    "    # Normalizza per garantire che la somma sia esattamente 1\n",
    "    alphas = np.array(raw_alphas) / sum(raw_alphas)\n",
    "    print(alphas)\n",
    "    # Salva le alphas normalizzate come attributo del trial\n",
    "    trial.set_user_attr(\"normalized_alphas\", alphas.tolist())\n",
    "    final_recommender = GeneralizedLinearHybridRecommender(URM_train_validation, new_recommenders)\n",
    "    final_recommender.fit(**{\"alphas\": alphas})\n",
    "    result_dict, _ = evaluator_test.evaluateRecommender(final_recommender)\n",
    "\n",
    "    MAP = result_dict.loc[10][\"MAP\"]\n",
    "    \n",
    "    return MAP\n",
    "\n",
    "\n",
    "class SaveResults(object):\n",
    "    \n",
    "    def __init__(self):\n",
    "        self.results_df = pd.DataFrame(columns = [\"result\"])\n",
    "    \n",
    "    def __call__(self, optuna_study, optuna_trial):\n",
    "        hyperparam_dict = optuna_trial.params.copy()\n",
    "        hyperparam_dict[\"result\"] = optuna_trial.values[0]\n",
    "        \n",
    "        self.results_df = pd.concat([self.results_df, pd.DataFrame([hyperparam_dict])], ignore_index=True)\n",
    "        self.results_df.to_csv(\"logs/Hybrid/linear_comb_similarity_IALS_GRAPH.csv\", index = False)\n",
    "        \n",
    "import optuna\n",
    "\n",
    "optuna_study = optuna.create_study(study_name=\"linear_comb\", direction=\"maximize\")\n",
    "        \n",
    "save_results = SaveResults()\n",
    "        \n",
    "optuna_study.optimize(objective_function,\n",
    "                      callbacks=[save_results],\n",
    "                      n_trials = 100\n",
    "                      )"
   ]
  }
 ],
 "metadata": {
  "kernelspec": {
   "display_name": "RecSysPD",
   "language": "python",
   "name": "python3"
  },
  "language_info": {
   "codemirror_mode": {
    "name": "ipython",
    "version": 3
   },
   "file_extension": ".py",
   "mimetype": "text/x-python",
   "name": "python",
   "nbconvert_exporter": "python",
   "pygments_lexer": "ipython3",
   "version": "3.8.20"
  }
 },
 "nbformat": 4,
 "nbformat_minor": 2
}
