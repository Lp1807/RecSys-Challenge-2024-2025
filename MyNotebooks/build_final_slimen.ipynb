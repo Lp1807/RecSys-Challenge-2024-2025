{
 "cells": [
  {
   "cell_type": "code",
   "execution_count": 1,
   "metadata": {},
   "outputs": [],
   "source": [
    "import os\n",
    "os.chdir('../')"
   ]
  },
  {
   "cell_type": "code",
   "execution_count": 2,
   "metadata": {},
   "outputs": [
    {
     "name": "stdout",
     "output_type": "stream",
     "text": [
      "   user_id  item_id  data\n",
      "0        0        0   1.0\n",
      "1        0        2   1.0\n",
      "2        0      120   1.0\n",
      "3        0      128   1.0\n",
      "4        0      211   1.0\n",
      "5        0      232   1.0\n",
      "6        0      282   1.0\n",
      "7        0      453   1.0\n",
      "8        0      458   1.0\n",
      "9        0      491   1.0\n"
     ]
    }
   ],
   "source": [
    "import numpy as np\n",
    "import pandas as pd\n",
    "import matplotlib.pyplot as plt\n",
    "\n",
    "data_train_path = \"Dataset/data_train.csv\"\n",
    "\n",
    "URM_all_dataframe = pd.read_csv(data_train_path)\n",
    "print(URM_all_dataframe.head(10))"
   ]
  },
  {
   "cell_type": "code",
   "execution_count": null,
   "metadata": {},
   "outputs": [
    {
     "name": "stdout",
     "output_type": "stream",
     "text": [
      "Warning: 141 (0.39 %) of 35736 users have no sampled items\n",
      "Warning: 456 (1.28 %) of 35736 users have no sampled items\n",
      "EvaluatorHoldout: Ignoring 456 ( 1.3%) Users that have less than 1 test interactions\n",
      "EvaluatorHoldout: Ignoring 141 ( 0.4%) Users that have less than 1 test interactions\n"
     ]
    }
   ],
   "source": [
    "import numpy as np\n",
    "import scipy.sparse as sps\n",
    "from Data_manager.split_functions.split_train_validation_random_holdout import split_train_in_two_percentage_global_sample\n",
    "from Evaluation.Evaluator import EvaluatorHoldout\n",
    "\n",
    "\n",
    "\n",
    "URM_all = sps.coo_matrix((URM_all_dataframe['data'], (URM_all_dataframe['user_id'], URM_all_dataframe['item_id'])))\n",
    "URM_all = URM_all.tocsr()\n",
    "\n",
    "URM_train_validation, URM_test = split_train_in_two_percentage_global_sample(URM_all, train_percentage = 0.8)\n",
    "URM_train, URM_validation = split_train_in_two_percentage_global_sample(URM_train_validation, train_percentage = 0.8)\n",
    "\n",
    "evaluator_validation = EvaluatorHoldout(URM_validation, cutoff_list=[10])\n",
    "evaluator_test = EvaluatorHoldout(URM_test, cutoff_list=[10])"
   ]
  },
  {
   "cell_type": "code",
   "execution_count": null,
   "metadata": {},
   "outputs": [],
   "source": [
    "from Recommenders.SLIM.SLIMElasticNetRecommender import SLIMElasticNetRecommender\n",
    "\n",
    "def objective_function_2(trial):\n",
    "\n",
    "    params = {\n",
    "        'topK': trial.suggest_int('topK', 5, 1000),\n",
    "        'l1_ratio': trial.suggest_float('l1_ratio', 1e-5, 1, log=True),\n",
    "        'alpha': trial.suggest_float('alpha', 1e-3, 1),\n",
    "    }\n",
    "\n",
    "\n",
    "    MAP = 0\n",
    "    recommender = SLIMElasticNetRecommender(URM_train)\n",
    "    recommender.fit(**params)\n",
    "\n",
    "    result_dict, _ = evaluator_validation.evaluateRecommender(recommender)\n",
    "\n",
    "    MAP = result_dict.loc[10][\"MAP\"]\n",
    "    \n",
    "    return MAP"
   ]
  },
  {
   "cell_type": "code",
   "execution_count": 20,
   "metadata": {},
   "outputs": [],
   "source": [
    "class SaveResults(object):\n",
    "    \n",
    "    def __init__(self):\n",
    "        self.results_df = pd.DataFrame(columns = [\"result\"])\n",
    "    \n",
    "    def __call__(self, optuna_study, optuna_trial):\n",
    "        hyperparam_dict = optuna_trial.params.copy()\n",
    "        hyperparam_dict[\"result\"] = optuna_trial.values[0]\n",
    "        \n",
    "        self.results_df = pd.concat([self.results_df, pd.DataFrame([hyperparam_dict])], ignore_index=True)\n",
    "        self.results_df.to_csv(\"logs/Slimnet_firstrun_noKFOLD.csv\", index = False)"
   ]
  },
  {
   "cell_type": "code",
   "execution_count": 21,
   "metadata": {},
   "outputs": [
    {
     "name": "stderr",
     "output_type": "stream",
     "text": [
      "[I 2024-11-28 17:51:38,424] A new study created in memory with name: no-name-b9f6ea64-a152-464e-b0d6-b66f404372c5\n"
     ]
    },
    {
     "name": "stdout",
     "output_type": "stream",
     "text": [
      "SLIMElasticNetRecommender: Processed 13082 (34.3%) in 5.00 min. Items per second: 43.60\n",
      "SLIMElasticNetRecommender: Processed 26193 (68.7%) in 10.00 min. Items per second: 43.65\n",
      "SLIMElasticNetRecommender: Processed 38121 (100.0%) in 14.58 min. Items per second: 43.58\n",
      "EvaluatorHoldout: Processed 35280 (100.0%) in 19.32 sec. Users per second: 1826\n"
     ]
    },
    {
     "name": "stderr",
     "output_type": "stream",
     "text": [
      "[I 2024-11-28 18:06:32,550] Trial 0 finished with value: 0.018272710605406292 and parameters: {'topK': 425, 'l1_ratio': 6.796499604599277e-05, 'alpha': 0.6436682568690753}. Best is trial 0 with value: 0.018272710605406292.\n"
     ]
    },
    {
     "name": "stdout",
     "output_type": "stream",
     "text": [
      "SLIMElasticNetRecommender: Processed 9298 (24.4%) in 5.00 min. Items per second: 30.99\n",
      "SLIMElasticNetRecommender: Processed 18590 (48.8%) in 10.00 min. Items per second: 30.98\n",
      "SLIMElasticNetRecommender: Processed 28546 (74.9%) in 15.00 min. Items per second: 31.71\n",
      "SLIMElasticNetRecommender: Processed 38121 (100.0%) in 19.60 min. Items per second: 32.42\n",
      "EvaluatorHoldout: Processed 35280 (100.0%) in 24.04 sec. Users per second: 1467\n"
     ]
    },
    {
     "name": "stderr",
     "output_type": "stream",
     "text": [
      "[I 2024-11-28 18:26:32,562] Trial 1 finished with value: 0.02098395826584583 and parameters: {'topK': 606, 'l1_ratio': 4.626701411465976e-05, 'alpha': 0.11393574353005559}. Best is trial 1 with value: 0.02098395826584583.\n"
     ]
    },
    {
     "name": "stdout",
     "output_type": "stream",
     "text": [
      "SLIMElasticNetRecommender: Processed 38121 (100.0%) in 3.57 min. Items per second: 178.07\n",
      "EvaluatorHoldout: Processed 35280 (100.0%) in 9.91 sec. Users per second: 3558\n"
     ]
    },
    {
     "name": "stderr",
     "output_type": "stream",
     "text": [
      "[I 2024-11-28 18:30:16,583] Trial 2 finished with value: 0.006268466778245674 and parameters: {'topK': 881, 'l1_ratio': 0.004964055481157354, 'alpha': 0.32874330761754095}. Best is trial 1 with value: 0.02098395826584583.\n"
     ]
    },
    {
     "name": "stdout",
     "output_type": "stream",
     "text": [
      "SLIMElasticNetRecommender: Processed 38121 (100.0%) in 3.72 min. Items per second: 170.81\n",
      "EvaluatorHoldout: Processed 35280 (100.0%) in 10.24 sec. Users per second: 3446\n"
     ]
    },
    {
     "name": "stderr",
     "output_type": "stream",
     "text": [
      "[I 2024-11-28 18:34:10,042] Trial 3 finished with value: 0.01110153916063813 and parameters: {'topK': 389, 'l1_ratio': 0.0007750479468993968, 'alpha': 0.8458688311052315}. Best is trial 1 with value: 0.02098395826584583.\n"
     ]
    },
    {
     "name": "stdout",
     "output_type": "stream",
     "text": [
      "SLIMElasticNetRecommender: Processed 38121 (100.0%) in 3.58 min. Items per second: 177.29\n",
      "EvaluatorHoldout: Processed 35280 (100.0%) in 9.87 sec. Users per second: 3574\n"
     ]
    },
    {
     "name": "stderr",
     "output_type": "stream",
     "text": [
      "[I 2024-11-28 18:37:54,960] Trial 4 finished with value: 0.004528483020192168 and parameters: {'topK': 247, 'l1_ratio': 0.0032981086133295552, 'alpha': 0.634279059903567}. Best is trial 1 with value: 0.02098395826584583.\n"
     ]
    },
    {
     "name": "stdout",
     "output_type": "stream",
     "text": [
      "SLIMElasticNetRecommender: Processed 10226 (26.8%) in 5.00 min. Items per second: 34.08\n",
      "SLIMElasticNetRecommender: Processed 21116 (55.4%) in 10.00 min. Items per second: 35.19\n",
      "SLIMElasticNetRecommender: Processed 32431 (85.1%) in 15.00 min. Items per second: 36.03\n",
      "SLIMElasticNetRecommender: Processed 38121 (100.0%) in 17.43 min. Items per second: 36.46\n",
      "EvaluatorHoldout: Processed 35280 (100.0%) in 21.52 sec. Users per second: 1639\n"
     ]
    },
    {
     "name": "stderr",
     "output_type": "stream",
     "text": [
      "[I 2024-11-28 18:55:42,219] Trial 5 finished with value: 0.019228266835834784 and parameters: {'topK': 410, 'l1_ratio': 1.029383176181538e-05, 'alpha': 0.5270381268164381}. Best is trial 1 with value: 0.02098395826584583.\n"
     ]
    },
    {
     "name": "stdout",
     "output_type": "stream",
     "text": [
      "SLIMElasticNetRecommender: Processed 7339 (19.3%) in 5.00 min. Items per second: 24.46\n",
      "SLIMElasticNetRecommender: Processed 15276 (40.1%) in 10.00 min. Items per second: 25.46\n",
      "SLIMElasticNetRecommender: Processed 23161 (60.8%) in 15.00 min. Items per second: 25.73\n",
      "SLIMElasticNetRecommender: Processed 31145 (81.7%) in 20.00 min. Items per second: 25.95\n",
      "SLIMElasticNetRecommender: Processed 38121 (100.0%) in 24.69 min. Items per second: 25.73\n",
      "EvaluatorHoldout: Processed 35280 (100.0%) in 19.64 sec. Users per second: 1796\n"
     ]
    },
    {
     "name": "stderr",
     "output_type": "stream",
     "text": [
      "[I 2024-11-28 19:20:43,339] Trial 6 finished with value: 0.028395620748298427 and parameters: {'topK': 387, 'l1_ratio': 1.5640376016036053e-05, 'alpha': 0.008736571610664936}. Best is trial 6 with value: 0.028395620748298427.\n"
     ]
    },
    {
     "name": "stdout",
     "output_type": "stream",
     "text": [
      "SLIMElasticNetRecommender: Processed 38121 (100.0%) in 3.56 min. Items per second: 178.40\n",
      "EvaluatorHoldout: Processed 35280 (100.0%) in 9.86 sec. Users per second: 3577\n"
     ]
    },
    {
     "name": "stderr",
     "output_type": "stream",
     "text": [
      "[I 2024-11-28 19:24:26,908] Trial 7 finished with value: 0.00017945326278659586 and parameters: {'topK': 769, 'l1_ratio': 0.19141999770780052, 'alpha': 0.4214041085230173}. Best is trial 6 with value: 0.028395620748298427.\n"
     ]
    },
    {
     "name": "stdout",
     "output_type": "stream",
     "text": [
      "SLIMElasticNetRecommender: Processed 38121 (100.0%) in 3.79 min. Items per second: 167.65\n",
      "EvaluatorHoldout: Processed 35280 (100.0%) in 10.10 sec. Users per second: 3492\n"
     ]
    },
    {
     "name": "stderr",
     "output_type": "stream",
     "text": [
      "[I 2024-11-28 19:28:24,418] Trial 8 finished with value: 0.013502247327502936 and parameters: {'topK': 15, 'l1_ratio': 0.0007836537944539452, 'alpha': 0.6828221900830829}. Best is trial 6 with value: 0.028395620748298427.\n"
     ]
    },
    {
     "name": "stdout",
     "output_type": "stream",
     "text": [
      "SLIMElasticNetRecommender: Processed 38121 (100.0%) in 3.44 min. Items per second: 184.44\n",
      "EvaluatorHoldout: Processed 35280 (100.0%) in 10.07 sec. Users per second: 3505\n"
     ]
    },
    {
     "name": "stderr",
     "output_type": "stream",
     "text": [
      "[I 2024-11-28 19:32:01,205] Trial 9 finished with value: 0.00017945326278659586 and parameters: {'topK': 580, 'l1_ratio': 0.10840422854874443, 'alpha': 0.6189534320776766}. Best is trial 6 with value: 0.028395620748298427.\n"
     ]
    },
    {
     "name": "stdout",
     "output_type": "stream",
     "text": [
      "SLIMElasticNetRecommender: Processed 38121 (100.0%) in 4.08 min. Items per second: 155.77\n",
      "EvaluatorHoldout: Processed 35280 (100.0%) in 10.39 sec. Users per second: 3397\n"
     ]
    },
    {
     "name": "stderr",
     "output_type": "stream",
     "text": [
      "[I 2024-11-28 19:36:16,344] Trial 10 finished with value: 0.016966513920383248 and parameters: {'topK': 142, 'l1_ratio': 0.014513713111641544, 'alpha': 0.026626886267646643}. Best is trial 6 with value: 0.028395620748298427.\n"
     ]
    },
    {
     "name": "stdout",
     "output_type": "stream",
     "text": [
      "SLIMElasticNetRecommender: Processed 7695 (20.2%) in 5.00 min. Items per second: 25.65\n",
      "SLIMElasticNetRecommender: Processed 15792 (41.4%) in 10.00 min. Items per second: 26.32\n",
      "SLIMElasticNetRecommender: Processed 24039 (63.1%) in 15.00 min. Items per second: 26.71\n",
      "SLIMElasticNetRecommender: Processed 32311 (84.8%) in 20.00 min. Items per second: 26.92\n",
      "SLIMElasticNetRecommender: Processed 38121 (100.0%) in 23.53 min. Items per second: 27.00\n",
      "EvaluatorHoldout: Processed 35280 (100.0%) in 23.76 sec. Users per second: 1485\n"
     ]
    },
    {
     "name": "stderr",
     "output_type": "stream",
     "text": [
      "[I 2024-11-28 20:00:12,179] Trial 11 finished with value: 0.027697143936939093 and parameters: {'topK': 654, 'l1_ratio': 1.0762159355991949e-05, 'alpha': 0.010656888952667143}. Best is trial 6 with value: 0.028395620748298427.\n"
     ]
    },
    {
     "name": "stdout",
     "output_type": "stream",
     "text": [
      "SLIMElasticNetRecommender: Processed 10287 (27.0%) in 5.00 min. Items per second: 34.29\n",
      "SLIMElasticNetRecommender: Processed 20880 (54.8%) in 10.00 min. Items per second: 34.80\n",
      "SLIMElasticNetRecommender: Processed 31890 (83.7%) in 15.00 min. Items per second: 35.43\n",
      "SLIMElasticNetRecommender: Processed 38121 (100.0%) in 17.72 min. Items per second: 35.86\n",
      "EvaluatorHoldout: Processed 35280 (100.0%) in 25.84 sec. Users per second: 1365\n"
     ]
    },
    {
     "name": "stderr",
     "output_type": "stream",
     "text": [
      "[I 2024-11-28 20:18:21,469] Trial 12 finished with value: 0.019605219468739804 and parameters: {'topK': 725, 'l1_ratio': 1.1598888902745981e-05, 'alpha': 0.22802106080129259}. Best is trial 6 with value: 0.028395620748298427.\n"
     ]
    },
    {
     "name": "stdout",
     "output_type": "stream",
     "text": [
      "SLIMElasticNetRecommender: Processed 8247 (21.6%) in 5.00 min. Items per second: 27.49\n",
      "SLIMElasticNetRecommender: Processed 16957 (44.5%) in 10.00 min. Items per second: 28.26\n",
      "SLIMElasticNetRecommender: Processed 25564 (67.1%) in 15.00 min. Items per second: 28.40\n",
      "SLIMElasticNetRecommender: Processed 34277 (89.9%) in 20.00 min. Items per second: 28.56\n",
      "SLIMElasticNetRecommender: Processed 38121 (100.0%) in 22.24 min. Items per second: 28.57\n",
      "EvaluatorHoldout: Processed 35280 (100.0%) in 26.53 sec. Users per second: 1330\n"
     ]
    },
    {
     "name": "stderr",
     "output_type": "stream",
     "text": [
      "[I 2024-11-28 20:41:02,599] Trial 13 finished with value: 0.02790051695281209 and parameters: {'topK': 956, 'l1_ratio': 0.0001759539178387075, 'alpha': 0.009789654686741998}. Best is trial 6 with value: 0.028395620748298427.\n"
     ]
    },
    {
     "name": "stdout",
     "output_type": "stream",
     "text": [
      "SLIMElasticNetRecommender: Processed 13013 (34.1%) in 5.00 min. Items per second: 43.37\n",
      "SLIMElasticNetRecommender: Processed 26801 (70.3%) in 10.00 min. Items per second: 44.66\n",
      "SLIMElasticNetRecommender: Processed 33210 (87.1%) in 15.00 min. Items per second: 36.90\n",
      "SLIMElasticNetRecommender: Processed 38121 (100.0%) in 16.79 min. Items per second: 37.84\n",
      "EvaluatorHoldout: Processed 35280 (100.0%) in 19.04 sec. Users per second: 1853\n"
     ]
    },
    {
     "name": "stderr",
     "output_type": "stream",
     "text": [
      "[I 2024-11-28 20:58:09,022] Trial 14 finished with value: 0.018753138160026026 and parameters: {'topK': 995, 'l1_ratio': 0.00018329867686945524, 'alpha': 0.20493735137255528}. Best is trial 6 with value: 0.028395620748298427.\n"
     ]
    },
    {
     "name": "stdout",
     "output_type": "stream",
     "text": [
      "SLIMElasticNetRecommender: Processed 2437 ( 6.4%) in 5.00 min. Items per second: 8.12\n",
      "SLIMElasticNetRecommender: Processed 16010 (42.0%) in 10.00 min. Items per second: 26.68\n",
      "SLIMElasticNetRecommender: Processed 30006 (78.7%) in 15.00 min. Items per second: 33.34\n",
      "SLIMElasticNetRecommender: Processed 38121 (100.0%) in 17.83 min. Items per second: 35.63\n",
      "EvaluatorHoldout: Processed 35280 (100.0%) in 16.54 sec. Users per second: 2133\n"
     ]
    },
    {
     "name": "stderr",
     "output_type": "stream",
     "text": [
      "[I 2024-11-28 21:16:15,407] Trial 15 finished with value: 0.019936918484324852 and parameters: {'topK': 260, 'l1_ratio': 0.0002993252649946555, 'alpha': 0.17560527808462367}. Best is trial 6 with value: 0.028395620748298427.\n"
     ]
    },
    {
     "name": "stdout",
     "output_type": "stream",
     "text": [
      "SLIMElasticNetRecommender: Processed 10383 (27.2%) in 5.00 min. Items per second: 34.60\n",
      "SLIMElasticNetRecommender: Processed 21747 (57.0%) in 10.00 min. Items per second: 36.24\n",
      "SLIMElasticNetRecommender: Processed 33773 (88.6%) in 15.00 min. Items per second: 37.52\n",
      "SLIMElasticNetRecommender: Processed 38121 (100.0%) in 16.79 min. Items per second: 37.84\n",
      "EvaluatorHoldout: Processed 35280 (100.0%) in 26.55 sec. Users per second: 1329\n"
     ]
    },
    {
     "name": "stderr",
     "output_type": "stream",
     "text": [
      "[I 2024-11-28 21:33:29,724] Trial 16 finished with value: 0.018519579194111558 and parameters: {'topK': 858, 'l1_ratio': 6.169699608144791e-05, 'alpha': 0.33420315264608247}. Best is trial 6 with value: 0.028395620748298427.\n"
     ]
    },
    {
     "name": "stdout",
     "output_type": "stream",
     "text": [
      "SLIMElasticNetRecommender: Processed 38121 (100.0%) in 4.57 min. Items per second: 139.05\n",
      "EvaluatorHoldout: Processed 35280 (100.0%) in 10.66 sec. Users per second: 3310\n"
     ]
    },
    {
     "name": "stderr",
     "output_type": "stream",
     "text": [
      "[I 2024-11-28 21:38:14,582] Trial 17 finished with value: 0.015502987438361985 and parameters: {'topK': 492, 'l1_ratio': 0.0002613271241765565, 'alpha': 0.9584638780143071}. Best is trial 6 with value: 0.028395620748298427.\n"
     ]
    },
    {
     "name": "stdout",
     "output_type": "stream",
     "text": [
      "SLIMElasticNetRecommender: Processed 38121 (100.0%) in 3.40 min. Items per second: 186.68\n",
      "EvaluatorHoldout: Processed 35280 (100.0%) in 9.78 sec. Users per second: 3608\n"
     ]
    },
    {
     "name": "stderr",
     "output_type": "stream",
     "text": [
      "[I 2024-11-28 21:41:48,587] Trial 18 finished with value: 0.00017945326278659586 and parameters: {'topK': 988, 'l1_ratio': 0.9369638385250506, 'alpha': 0.10878081342420398}. Best is trial 6 with value: 0.028395620748298427.\n"
     ]
    },
    {
     "name": "stdout",
     "output_type": "stream",
     "text": [
      "SLIMElasticNetRecommender: Processed 10651 (27.9%) in 5.00 min. Items per second: 35.50\n",
      "SLIMElasticNetRecommender: Processed 22375 (58.7%) in 10.00 min. Items per second: 37.29\n",
      "SLIMElasticNetRecommender: Processed 34570 (90.7%) in 15.00 min. Items per second: 38.41\n",
      "SLIMElasticNetRecommender: Processed 38121 (100.0%) in 16.47 min. Items per second: 38.57\n",
      "EvaluatorHoldout: Processed 35280 (100.0%) in 19.77 sec. Users per second: 1784\n"
     ]
    },
    {
     "name": "stderr",
     "output_type": "stream",
     "text": [
      "[I 2024-11-28 21:58:36,780] Trial 19 finished with value: 0.019925235305762456 and parameters: {'topK': 315, 'l1_ratio': 4.101998993815384e-05, 'alpha': 0.31487022964639805}. Best is trial 6 with value: 0.028395620748298427.\n"
     ]
    },
    {
     "name": "stdout",
     "output_type": "stream",
     "text": [
      "SLIMElasticNetRecommender: Processed 14462 (37.9%) in 5.00 min. Items per second: 48.20\n",
      "SLIMElasticNetRecommender: Processed 29795 (78.2%) in 10.00 min. Items per second: 49.65\n",
      "SLIMElasticNetRecommender: Processed 38121 (100.0%) in 12.58 min. Items per second: 50.52\n",
      "EvaluatorHoldout: Processed 35280 (100.0%) in 13.79 sec. Users per second: 2559\n"
     ]
    },
    {
     "name": "stderr",
     "output_type": "stream",
     "text": [
      "[I 2024-11-28 22:11:25,124] Trial 20 finished with value: 0.02134665307922078 and parameters: {'topK': 136, 'l1_ratio': 0.0007818782714477396, 'alpha': 0.08781453759304403}. Best is trial 6 with value: 0.028395620748298427.\n"
     ]
    },
    {
     "name": "stdout",
     "output_type": "stream",
     "text": [
      "SLIMElasticNetRecommender: Processed 7676 (20.1%) in 5.00 min. Items per second: 25.58\n",
      "SLIMElasticNetRecommender: Processed 15386 (40.4%) in 10.00 min. Items per second: 25.64\n",
      "SLIMElasticNetRecommender: Processed 23241 (61.0%) in 15.00 min. Items per second: 25.82\n",
      "SLIMElasticNetRecommender: Processed 31125 (81.6%) in 20.00 min. Items per second: 25.94\n",
      "SLIMElasticNetRecommender: Processed 38121 (100.0%) in 24.36 min. Items per second: 26.08\n",
      "EvaluatorHoldout: Processed 35280 (100.0%) in 22.76 sec. Users per second: 1550\n"
     ]
    },
    {
     "name": "stderr",
     "output_type": "stream",
     "text": [
      "[I 2024-11-28 22:36:09,600] Trial 21 finished with value: 0.0270578928661404 and parameters: {'topK': 634, 'l1_ratio': 1.5279937873887006e-05, 'alpha': 0.013128278328245396}. Best is trial 6 with value: 0.028395620748298427.\n"
     ]
    },
    {
     "name": "stdout",
     "output_type": "stream",
     "text": [
      "SLIMElasticNetRecommender: Processed 8690 (22.8%) in 5.00 min. Items per second: 28.96\n",
      "SLIMElasticNetRecommender: Processed 17514 (45.9%) in 10.00 min. Items per second: 29.19\n",
      "SLIMElasticNetRecommender: Processed 26533 (69.6%) in 15.00 min. Items per second: 29.48\n",
      "SLIMElasticNetRecommender: Processed 35662 (93.5%) in 20.00 min. Items per second: 29.72\n",
      "SLIMElasticNetRecommender: Processed 38121 (100.0%) in 21.37 min. Items per second: 29.73\n",
      "EvaluatorHoldout: Processed 35280 (100.0%) in 24.10 sec. Users per second: 1464\n"
     ]
    },
    {
     "name": "stderr",
     "output_type": "stream",
     "text": [
      "[I 2024-11-28 22:57:56,050] Trial 22 finished with value: 0.02656724998200264 and parameters: {'topK': 724, 'l1_ratio': 2.5247556946137674e-05, 'alpha': 0.01500860405203432}. Best is trial 6 with value: 0.028395620748298427.\n"
     ]
    },
    {
     "name": "stdout",
     "output_type": "stream",
     "text": [
      "SLIMElasticNetRecommender: Processed 10546 (27.7%) in 5.00 min. Items per second: 35.15\n",
      "SLIMElasticNetRecommender: Processed 21514 (56.4%) in 10.00 min. Items per second: 35.85\n",
      "SLIMElasticNetRecommender: Processed 32707 (85.8%) in 15.00 min. Items per second: 36.34\n",
      "SLIMElasticNetRecommender: Processed 38121 (100.0%) in 17.37 min. Items per second: 36.57\n",
      "EvaluatorHoldout: Processed 35280 (100.0%) in 22.78 sec. Users per second: 1549\n"
     ]
    },
    {
     "name": "stderr",
     "output_type": "stream",
     "text": [
      "[I 2024-11-28 23:15:41,299] Trial 23 finished with value: 0.020292260555015467 and parameters: {'topK': 519, 'l1_ratio': 0.00012205740979738148, 'alpha': 0.1487188465007399}. Best is trial 6 with value: 0.028395620748298427.\n"
     ]
    },
    {
     "name": "stdout",
     "output_type": "stream",
     "text": [
      "SLIMElasticNetRecommender: Processed 10443 (27.4%) in 5.00 min. Items per second: 34.80\n",
      "SLIMElasticNetRecommender: Processed 21239 (55.7%) in 10.00 min. Items per second: 35.39\n",
      "SLIMElasticNetRecommender: Processed 32282 (84.7%) in 15.00 min. Items per second: 35.87\n",
      "SLIMElasticNetRecommender: Processed 38121 (100.0%) in 17.57 min. Items per second: 36.17\n",
      "EvaluatorHoldout: Processed 35280 (100.0%) in 26.35 sec. Users per second: 1339\n"
     ]
    },
    {
     "name": "stderr",
     "output_type": "stream",
     "text": [
      "[I 2024-11-28 23:33:41,890] Trial 24 finished with value: 0.01921382230140729 and parameters: {'topK': 863, 'l1_ratio': 2.6233717239826932e-05, 'alpha': 0.25245811496418574}. Best is trial 6 with value: 0.028395620748298427.\n"
     ]
    },
    {
     "name": "stdout",
     "output_type": "stream",
     "text": [
      "SLIMElasticNetRecommender: Processed 9988 (26.2%) in 5.00 min. Items per second: 33.29\n",
      "SLIMElasticNetRecommender: Processed 20462 (53.7%) in 10.00 min. Items per second: 34.10\n",
      "SLIMElasticNetRecommender: Processed 30970 (81.2%) in 15.00 min. Items per second: 34.41\n",
      "SLIMElasticNetRecommender: Processed 38121 (100.0%) in 18.29 min. Items per second: 34.74\n",
      "EvaluatorHoldout: Processed 35280 (100.0%) in 24.29 sec. Users per second: 1452\n"
     ]
    },
    {
     "name": "stderr",
     "output_type": "stream",
     "text": [
      "[I 2024-11-28 23:52:23,632] Trial 25 finished with value: 0.0218260267069788 and parameters: {'topK': 670, 'l1_ratio': 9.755519934619549e-05, 'alpha': 0.07503786557633307}. Best is trial 6 with value: 0.028395620748298427.\n"
     ]
    },
    {
     "name": "stdout",
     "output_type": "stream",
     "text": [
      "SLIMElasticNetRecommender: Processed 33909 (89.0%) in 5.00 min. Items per second: 113.03\n",
      "SLIMElasticNetRecommender: Processed 38121 (100.0%) in 5.61 min. Items per second: 113.30\n",
      "EvaluatorHoldout: Processed 35280 (100.0%) in 11.04 sec. Users per second: 3196\n"
     ]
    },
    {
     "name": "stderr",
     "output_type": "stream",
     "text": [
      "[I 2024-11-28 23:58:11,190] Trial 26 finished with value: 0.01652118314256944 and parameters: {'topK': 512, 'l1_ratio': 0.00041243222661062237, 'alpha': 0.4180969843997316}. Best is trial 6 with value: 0.028395620748298427.\n"
     ]
    },
    {
     "name": "stdout",
     "output_type": "stream",
     "text": [
      "SLIMElasticNetRecommender: Processed 8527 (22.4%) in 5.00 min. Items per second: 28.42\n",
      "SLIMElasticNetRecommender: Processed 17209 (45.1%) in 10.00 min. Items per second: 28.68\n",
      "SLIMElasticNetRecommender: Processed 25971 (68.1%) in 15.00 min. Items per second: 28.85\n",
      "SLIMElasticNetRecommender: Processed 34822 (91.3%) in 20.00 min. Items per second: 29.02\n",
      "SLIMElasticNetRecommender: Processed 38121 (100.0%) in 21.78 min. Items per second: 29.18\n",
      "EvaluatorHoldout: Processed 35280 (100.0%) in 24.16 sec. Users per second: 1461\n"
     ]
    },
    {
     "name": "stderr",
     "output_type": "stream",
     "text": [
      "[I 2024-11-29 00:20:22,142] Trial 27 finished with value: 0.028606775051289675 and parameters: {'topK': 785, 'l1_ratio': 2.680270651061613e-05, 'alpha': 0.007651234350067528}. Best is trial 27 with value: 0.028606775051289675.\n"
     ]
    },
    {
     "name": "stdout",
     "output_type": "stream",
     "text": [
      "SLIMElasticNetRecommender: Processed 38121 (100.0%) in 3.61 min. Items per second: 175.92\n",
      "EvaluatorHoldout: Processed 35280 (100.0%) in 9.83 sec. Users per second: 3589\n"
     ]
    },
    {
     "name": "stderr",
     "output_type": "stream",
     "text": [
      "[I 2024-11-29 00:24:08,695] Trial 28 finished with value: 0.0005130385487528351 and parameters: {'topK': 920, 'l1_ratio': 0.02044292452458749, 'alpha': 0.2657012675387805}. Best is trial 27 with value: 0.028606775051289675.\n"
     ]
    },
    {
     "name": "stdout",
     "output_type": "stream",
     "text": [
      "SLIMElasticNetRecommender: Processed 10516 (27.6%) in 5.00 min. Items per second: 35.05\n",
      "SLIMElasticNetRecommender: Processed 21445 (56.3%) in 10.00 min. Items per second: 35.74\n",
      "SLIMElasticNetRecommender: Processed 32612 (85.5%) in 15.00 min. Items per second: 36.23\n",
      "SLIMElasticNetRecommender: Processed 38121 (100.0%) in 17.33 min. Items per second: 36.67\n",
      "EvaluatorHoldout: Processed 35280 (100.0%) in 25.87 sec. Users per second: 1364\n"
     ]
    },
    {
     "name": "stderr",
     "output_type": "stream",
     "text": [
      "[I 2024-11-29 00:41:54,481] Trial 29 finished with value: 0.019637672992477397 and parameters: {'topK': 788, 'l1_ratio': 8.435326477518603e-05, 'alpha': 0.17776371268093824}. Best is trial 27 with value: 0.028606775051289675.\n"
     ]
    },
    {
     "name": "stdout",
     "output_type": "stream",
     "text": [
      "SLIMElasticNetRecommender: Processed 9609 (25.2%) in 5.00 min. Items per second: 32.03\n",
      "SLIMElasticNetRecommender: Processed 19510 (51.2%) in 10.00 min. Items per second: 32.51\n",
      "SLIMElasticNetRecommender: Processed 29681 (77.9%) in 15.00 min. Items per second: 32.98\n",
      "SLIMElasticNetRecommender: Processed 38121 (100.0%) in 19.04 min. Items per second: 33.36\n",
      "EvaluatorHoldout: Processed 35280 (100.0%) in 26.58 sec. Users per second: 1327\n"
     ]
    },
    {
     "name": "stderr",
     "output_type": "stream",
     "text": [
      "[I 2024-11-29 01:01:24,036] Trial 30 finished with value: 0.022063983596083594 and parameters: {'topK': 925, 'l1_ratio': 2.8207338386900084e-05, 'alpha': 0.06446006725645698}. Best is trial 27 with value: 0.028606775051289675.\n"
     ]
    },
    {
     "name": "stdout",
     "output_type": "stream",
     "text": [
      "SLIMElasticNetRecommender: Processed 7902 (20.7%) in 5.00 min. Items per second: 26.34\n",
      "SLIMElasticNetRecommender: Processed 15893 (41.7%) in 10.00 min. Items per second: 26.49\n",
      "SLIMElasticNetRecommender: Processed 23987 (62.9%) in 15.00 min. Items per second: 26.65\n",
      "SLIMElasticNetRecommender: Processed 32058 (84.1%) in 20.00 min. Items per second: 26.71\n",
      "SLIMElasticNetRecommender: Processed 38121 (100.0%) in 23.69 min. Items per second: 26.82\n",
      "EvaluatorHoldout: Processed 35280 (100.0%) in 24.03 sec. Users per second: 1468\n"
     ]
    },
    {
     "name": "stderr",
     "output_type": "stream",
     "text": [
      "[I 2024-11-29 01:25:29,846] Trial 31 finished with value: 0.029344384380735524 and parameters: {'topK': 789, 'l1_ratio': 1.6673539235805637e-05, 'alpha': 0.006000546382289203}. Best is trial 31 with value: 0.029344384380735524.\n"
     ]
    },
    {
     "name": "stdout",
     "output_type": "stream",
     "text": [
      "SLIMElasticNetRecommender: Processed 10043 (26.3%) in 5.00 min. Items per second: 33.47\n",
      "SLIMElasticNetRecommender: Processed 20423 (53.6%) in 10.00 min. Items per second: 34.04\n",
      "SLIMElasticNetRecommender: Processed 30972 (81.2%) in 15.00 min. Items per second: 34.41\n",
      "SLIMElasticNetRecommender: Processed 38121 (100.0%) in 18.26 min. Items per second: 34.79\n",
      "EvaluatorHoldout: Processed 35280 (100.0%) in 25.81 sec. Users per second: 1367\n"
     ]
    },
    {
     "name": "stderr",
     "output_type": "stream",
     "text": [
      "[I 2024-11-29 01:44:11,647] Trial 32 finished with value: 0.02072558646474439 and parameters: {'topK': 806, 'l1_ratio': 4.217072529291999e-05, 'alpha': 0.11233531506898714}. Best is trial 31 with value: 0.029344384380735524.\n"
     ]
    },
    {
     "name": "stdout",
     "output_type": "stream",
     "text": [
      "SLIMElasticNetRecommender: Processed 10251 (26.9%) in 5.00 min. Items per second: 34.16\n",
      "SLIMElasticNetRecommender: Processed 20902 (54.8%) in 10.00 min. Items per second: 34.83\n",
      "SLIMElasticNetRecommender: Processed 31713 (83.2%) in 15.00 min. Items per second: 35.23\n",
      "SLIMElasticNetRecommender: Processed 38121 (100.0%) in 17.85 min. Items per second: 35.59\n",
      "EvaluatorHoldout: Processed 35280 (100.0%) in 27.08 sec. Users per second: 1303\n"
     ]
    },
    {
     "name": "stderr",
     "output_type": "stream",
     "text": [
      "[I 2024-11-29 02:02:30,267] Trial 33 finished with value: 0.020325977216283157 and parameters: {'topK': 955, 'l1_ratio': 2.0991396688618307e-05, 'alpha': 0.12907375633077892}. Best is trial 31 with value: 0.029344384380735524.\n"
     ]
    },
    {
     "name": "stdout",
     "output_type": "stream",
     "text": [
      "SLIMElasticNetRecommender: Processed 9665 (25.4%) in 5.00 min. Items per second: 32.21\n",
      "SLIMElasticNetRecommender: Processed 20186 (53.0%) in 10.00 min. Items per second: 33.64\n",
      "SLIMElasticNetRecommender: Processed 30955 (81.2%) in 15.00 min. Items per second: 34.39\n",
      "SLIMElasticNetRecommender: Processed 38121 (100.0%) in 18.21 min. Items per second: 34.89\n",
      "EvaluatorHoldout: Processed 35280 (100.0%) in 25.96 sec. Users per second: 1359\n"
     ]
    },
    {
     "name": "stderr",
     "output_type": "stream",
     "text": [
      "[I 2024-11-29 02:21:08,975] Trial 34 finished with value: 0.02214870491847492 and parameters: {'topK': 840, 'l1_ratio': 5.131628233752431e-05, 'alpha': 0.0629257713305807}. Best is trial 31 with value: 0.029344384380735524.\n"
     ]
    },
    {
     "name": "stdout",
     "output_type": "stream",
     "text": [
      "SLIMElasticNetRecommender: Processed 7398 (19.4%) in 5.00 min. Items per second: 24.65\n",
      "SLIMElasticNetRecommender: Processed 14871 (39.0%) in 10.00 min. Items per second: 24.78\n",
      "SLIMElasticNetRecommender: Processed 22384 (58.7%) in 15.00 min. Items per second: 24.87\n",
      "SLIMElasticNetRecommender: Processed 29873 (78.4%) in 20.00 min. Items per second: 24.89\n",
      "SLIMElasticNetRecommender: Processed 37440 (98.2%) in 25.00 min. Items per second: 24.96\n",
      "SLIMElasticNetRecommender: Processed 38121 (100.0%) in 25.46 min. Items per second: 24.95\n",
      "EvaluatorHoldout: Processed 35280 (100.0%) in 22.44 sec. Users per second: 1573\n"
     ]
    },
    {
     "name": "stderr",
     "output_type": "stream",
     "text": [
      "[I 2024-11-29 02:46:59,382] Trial 35 finished with value: 0.0325512712360066 and parameters: {'topK': 734, 'l1_ratio': 0.00012146265227371838, 'alpha': 0.0014665049349635376}. Best is trial 35 with value: 0.0325512712360066.\n"
     ]
    },
    {
     "name": "stdout",
     "output_type": "stream",
     "text": [
      "SLIMElasticNetRecommender: Processed 10200 (26.8%) in 5.00 min. Items per second: 34.00\n",
      "SLIMElasticNetRecommender: Processed 20802 (54.6%) in 10.00 min. Items per second: 34.67\n",
      "SLIMElasticNetRecommender: Processed 31562 (82.8%) in 15.00 min. Items per second: 35.07\n",
      "SLIMElasticNetRecommender: Processed 38121 (100.0%) in 17.95 min. Items per second: 35.40\n",
      "EvaluatorHoldout: Processed 35280 (100.0%) in 23.55 sec. Users per second: 1498\n"
     ]
    },
    {
     "name": "stderr",
     "output_type": "stream",
     "text": [
      "[I 2024-11-29 03:05:20,057] Trial 36 finished with value: 0.020283023791527018 and parameters: {'topK': 583, 'l1_ratio': 8.135113307421849e-05, 'alpha': 0.15461324240465732}. Best is trial 35 with value: 0.0325512712360066.\n"
     ]
    },
    {
     "name": "stdout",
     "output_type": "stream",
     "text": [
      "SLIMElasticNetRecommender: Processed 23892 (62.7%) in 5.00 min. Items per second: 79.64\n",
      "SLIMElasticNetRecommender: Processed 38121 (100.0%) in 7.83 min. Items per second: 81.11\n",
      "EvaluatorHoldout: Processed 35280 (100.0%) in 11.82 sec. Users per second: 2985\n"
     ]
    },
    {
     "name": "stderr",
     "output_type": "stream",
     "text": [
      "[I 2024-11-29 03:13:21,937] Trial 37 finished with value: 0.019745815786631978 and parameters: {'topK': 719, 'l1_ratio': 0.001797447371594598, 'alpha': 0.06390400846886807}. Best is trial 35 with value: 0.0325512712360066.\n"
     ]
    },
    {
     "name": "stdout",
     "output_type": "stream",
     "text": [
      "SLIMElasticNetRecommender: Processed 10845 (28.4%) in 5.00 min. Items per second: 36.15\n",
      "SLIMElasticNetRecommender: Processed 22194 (58.2%) in 10.00 min. Items per second: 36.99\n",
      "SLIMElasticNetRecommender: Processed 33929 (89.0%) in 15.00 min. Items per second: 37.70\n",
      "SLIMElasticNetRecommender: Processed 38121 (100.0%) in 16.77 min. Items per second: 37.89\n",
      "EvaluatorHoldout: Processed 35280 (100.0%) in 20.63 sec. Users per second: 1710\n"
     ]
    },
    {
     "name": "stderr",
     "output_type": "stream",
     "text": [
      "[I 2024-11-29 03:30:28,842] Trial 38 finished with value: 0.01895297821509558 and parameters: {'topK': 367, 'l1_ratio': 1.9302889162462997e-05, 'alpha': 0.7408273276086803}. Best is trial 35 with value: 0.0325512712360066.\n"
     ]
    },
    {
     "name": "stdout",
     "output_type": "stream",
     "text": [
      "SLIMElasticNetRecommender: Processed 10695 (28.1%) in 5.00 min. Items per second: 35.65\n",
      "SLIMElasticNetRecommender: Processed 21821 (57.2%) in 10.00 min. Items per second: 36.37\n",
      "SLIMElasticNetRecommender: Processed 33259 (87.2%) in 15.00 min. Items per second: 36.95\n",
      "SLIMElasticNetRecommender: Processed 38121 (100.0%) in 17.09 min. Items per second: 37.17\n",
      "EvaluatorHoldout: Processed 35280 (100.0%) in 21.81 sec. Users per second: 1618\n"
     ]
    },
    {
     "name": "stderr",
     "output_type": "stream",
     "text": [
      "[I 2024-11-29 03:47:56,238] Trial 39 finished with value: 0.019193720080624824 and parameters: {'topK': 446, 'l1_ratio': 3.922718163555358e-05, 'alpha': 0.3987079691053078}. Best is trial 35 with value: 0.0325512712360066.\n"
     ]
    },
    {
     "name": "stdout",
     "output_type": "stream",
     "text": [
      "SLIMElasticNetRecommender: Processed 10834 (28.4%) in 5.00 min. Items per second: 36.11\n",
      "SLIMElasticNetRecommender: Processed 22110 (58.0%) in 10.00 min. Items per second: 36.85\n",
      "SLIMElasticNetRecommender: Processed 33768 (88.6%) in 15.00 min. Items per second: 37.52\n",
      "SLIMElasticNetRecommender: Processed 38121 (100.0%) in 16.85 min. Items per second: 37.71\n",
      "EvaluatorHoldout: Processed 35280 (100.0%) in 24.83 sec. Users per second: 1421\n"
     ]
    },
    {
     "name": "stderr",
     "output_type": "stream",
     "text": [
      "[I 2024-11-29 04:05:12,303] Trial 40 finished with value: 0.018472339200230375 and parameters: {'topK': 701, 'l1_ratio': 1.0260265930427457e-05, 'alpha': 0.5655626323728906}. Best is trial 35 with value: 0.0325512712360066.\n"
     ]
    },
    {
     "name": "stdout",
     "output_type": "stream",
     "text": [
      "SLIMElasticNetRecommender: Processed 8953 (23.5%) in 5.00 min. Items per second: 29.84\n",
      "SLIMElasticNetRecommender: Processed 18478 (48.5%) in 10.00 min. Items per second: 30.79\n",
      "SLIMElasticNetRecommender: Processed 28381 (74.4%) in 15.00 min. Items per second: 31.53\n",
      "SLIMElasticNetRecommender: Processed 38121 (100.0%) in 19.88 min. Items per second: 31.96\n",
      "EvaluatorHoldout: Processed 35280 (100.0%) in 25.43 sec. Users per second: 1388\n"
     ]
    },
    {
     "name": "stderr",
     "output_type": "stream",
     "text": [
      "[I 2024-11-29 04:25:30,811] Trial 41 finished with value: 0.028135382923009645 and parameters: {'topK': 906, 'l1_ratio': 0.000160048352333611, 'alpha': 0.009050292897454496}. Best is trial 35 with value: 0.0325512712360066.\n"
     ]
    },
    {
     "name": "stdout",
     "output_type": "stream",
     "text": [
      "SLIMElasticNetRecommender: Processed 13375 (35.1%) in 5.00 min. Items per second: 44.58\n",
      "SLIMElasticNetRecommender: Processed 28063 (73.6%) in 10.00 min. Items per second: 46.77\n",
      "SLIMElasticNetRecommender: Processed 38121 (100.0%) in 13.28 min. Items per second: 47.83\n",
      "EvaluatorHoldout: Processed 35280 (100.0%) in 14.39 sec. Users per second: 2452\n"
     ]
    },
    {
     "name": "stderr",
     "output_type": "stream",
     "text": [
      "[I 2024-11-29 04:39:02,193] Trial 42 finished with value: 0.021410941492998988 and parameters: {'topK': 771, 'l1_ratio': 0.0017032429396390276, 'alpha': 0.04417806608266307}. Best is trial 35 with value: 0.0325512712360066.\n"
     ]
    },
    {
     "name": "stdout",
     "output_type": "stream",
     "text": [
      "SLIMElasticNetRecommender: Processed 13377 (35.1%) in 5.00 min. Items per second: 44.58\n",
      "SLIMElasticNetRecommender: Processed 27627 (72.5%) in 10.00 min. Items per second: 46.04\n",
      "SLIMElasticNetRecommender: Processed 38121 (100.0%) in 13.55 min. Items per second: 46.89\n",
      "EvaluatorHoldout: Processed 35280 (100.0%) in 14.97 sec. Users per second: 2356\n"
     ]
    },
    {
     "name": "stderr",
     "output_type": "stream",
     "text": [
      "[I 2024-11-29 04:52:50,277] Trial 43 finished with value: 0.019187018590505017 and parameters: {'topK': 824, 'l1_ratio': 0.0004909922745817959, 'alpha': 0.12612730463430874}. Best is trial 35 with value: 0.0325512712360066.\n"
     ]
    },
    {
     "name": "stdout",
     "output_type": "stream",
     "text": [
      "SLIMElasticNetRecommender: Processed 9028 (23.7%) in 5.00 min. Items per second: 30.09\n",
      "SLIMElasticNetRecommender: Processed 18656 (48.9%) in 10.00 min. Items per second: 31.09\n",
      "SLIMElasticNetRecommender: Processed 19786 (51.9%) in 25.96 min. Items per second: 12.70\n",
      "SLIMElasticNetRecommender: Processed 29685 (77.9%) in 30.96 min. Items per second: 15.98\n",
      "SLIMElasticNetRecommender: Processed 38121 (100.0%) in 35.17 min. Items per second: 18.06\n",
      "EvaluatorHoldout: Processed 35280 (100.0%) in 24.01 sec. Users per second: 1470\n"
     ]
    },
    {
     "name": "stderr",
     "output_type": "stream",
     "text": [
      "[I 2024-11-29 05:28:24,765] Trial 44 finished with value: 0.02918402440341129 and parameters: {'topK': 774, 'l1_ratio': 0.00016342752277232722, 'alpha': 0.006340279990129394}. Best is trial 35 with value: 0.0325512712360066.\n"
     ]
    },
    {
     "name": "stdout",
     "output_type": "stream",
     "text": [
      "SLIMElasticNetRecommender: Processed 10204 (26.8%) in 5.00 min. Items per second: 34.01\n",
      "SLIMElasticNetRecommender: Processed 21207 (55.6%) in 10.00 min. Items per second: 35.34\n",
      "SLIMElasticNetRecommender: Processed 32474 (85.2%) in 15.00 min. Items per second: 36.08\n",
      "SLIMElasticNetRecommender: Processed 38121 (100.0%) in 17.44 min. Items per second: 36.43\n",
      "EvaluatorHoldout: Processed 35280 (100.0%) in 23.54 sec. Users per second: 1498\n"
     ]
    },
    {
     "name": "stderr",
     "output_type": "stream",
     "text": [
      "[I 2024-11-29 05:46:14,949] Trial 45 finished with value: 0.02148313154626905 and parameters: {'topK': 607, 'l1_ratio': 1.710353302436731e-05, 'alpha': 0.09395806046395616}. Best is trial 35 with value: 0.0325512712360066.\n"
     ]
    },
    {
     "name": "stdout",
     "output_type": "stream",
     "text": [
      "SLIMElasticNetRecommender: Processed 10798 (28.3%) in 5.00 min. Items per second: 35.99\n",
      "SLIMElasticNetRecommender: Processed 22010 (57.7%) in 10.00 min. Items per second: 36.68\n",
      "SLIMElasticNetRecommender: Processed 33527 (87.9%) in 15.00 min. Items per second: 37.25\n",
      "SLIMElasticNetRecommender: Processed 38121 (100.0%) in 16.94 min. Items per second: 37.50\n",
      "EvaluatorHoldout: Processed 35280 (100.0%) in 25.46 sec. Users per second: 1386\n"
     ]
    },
    {
     "name": "stderr",
     "output_type": "stream",
     "text": [
      "[I 2024-11-29 06:03:37,186] Trial 46 finished with value: 0.01952541797142134 and parameters: {'topK': 751, 'l1_ratio': 6.231800597798747e-05, 'alpha': 0.20737326837537265}. Best is trial 35 with value: 0.0325512712360066.\n"
     ]
    },
    {
     "name": "stdout",
     "output_type": "stream",
     "text": [
      "SLIMElasticNetRecommender: Processed 9023 (23.7%) in 5.00 min. Items per second: 30.07\n",
      "SLIMElasticNetRecommender: Processed 18192 (47.7%) in 10.00 min. Items per second: 30.32\n",
      "SLIMElasticNetRecommender: Processed 27587 (72.4%) in 15.00 min. Items per second: 30.65\n",
      "SLIMElasticNetRecommender: Processed 37447 (98.2%) in 20.00 min. Items per second: 31.20\n",
      "SLIMElasticNetRecommender: Processed 38121 (100.0%) in 20.35 min. Items per second: 31.22\n",
      "EvaluatorHoldout: Processed 35280 (100.0%) in 22.57 sec. Users per second: 1563\n"
     ]
    },
    {
     "name": "stderr",
     "output_type": "stream",
     "text": [
      "[I 2024-11-29 06:24:21,139] Trial 47 finished with value: 0.030646710668393258 and parameters: {'topK': 685, 'l1_ratio': 0.00012307304106372088, 'alpha': 0.0037361675245038825}. Best is trial 35 with value: 0.0325512712360066.\n"
     ]
    },
    {
     "name": "stdout",
     "output_type": "stream",
     "text": [
      "SLIMElasticNetRecommender: Processed 38121 (100.0%) in 3.42 min. Items per second: 185.87\n",
      "EvaluatorHoldout: Processed 35280 (100.0%) in 9.81 sec. Users per second: 3596\n"
     ]
    },
    {
     "name": "stderr",
     "output_type": "stream",
     "text": [
      "[I 2024-11-29 06:27:56,091] Trial 48 finished with value: 0.0012051625544397717 and parameters: {'topK': 662, 'l1_ratio': 0.00828739599639411, 'alpha': 0.47828911714101474}. Best is trial 35 with value: 0.0325512712360066.\n"
     ]
    },
    {
     "name": "stdout",
     "output_type": "stream",
     "text": [
      "SLIMElasticNetRecommender: Processed 14838 (38.9%) in 5.00 min. Items per second: 49.45\n",
      "SLIMElasticNetRecommender: Processed 30496 (80.0%) in 10.00 min. Items per second: 50.82\n",
      "SLIMElasticNetRecommender: Processed 38121 (100.0%) in 12.30 min. Items per second: 51.63\n",
      "EvaluatorHoldout: Processed 35280 (100.0%) in 13.96 sec. Users per second: 2526\n"
     ]
    },
    {
     "name": "stderr",
     "output_type": "stream",
     "text": [
      "[I 2024-11-29 06:40:28,396] Trial 49 finished with value: 0.02064764199330513 and parameters: {'topK': 696, 'l1_ratio': 0.0014124512004779711, 'alpha': 0.0572695302593132}. Best is trial 35 with value: 0.0325512712360066.\n"
     ]
    },
    {
     "name": "stdout",
     "output_type": "stream",
     "text": [
      "SLIMElasticNetRecommender: Processed 38121 (100.0%) in 4.69 min. Items per second: 135.50\n",
      "EvaluatorHoldout: Processed 35280 (100.0%) in 10.60 sec. Users per second: 3329\n"
     ]
    },
    {
     "name": "stderr",
     "output_type": "stream",
     "text": [
      "[I 2024-11-29 06:45:20,381] Trial 50 finished with value: 0.01564121720116659 and parameters: {'topK': 767, 'l1_ratio': 0.00029538052504715466, 'alpha': 0.7723835179291632}. Best is trial 35 with value: 0.0325512712360066.\n"
     ]
    },
    {
     "name": "stdout",
     "output_type": "stream",
     "text": [
      "SLIMElasticNetRecommender: Processed 9352 (24.5%) in 5.00 min. Items per second: 31.17\n",
      "SLIMElasticNetRecommender: Processed 18937 (49.7%) in 10.00 min. Items per second: 31.56\n",
      "SLIMElasticNetRecommender: Processed 28837 (75.6%) in 15.00 min. Items per second: 32.04\n",
      "SLIMElasticNetRecommender: Processed 38121 (100.0%) in 19.59 min. Items per second: 32.42\n",
      "EvaluatorHoldout: Processed 35280 (100.0%) in 22.52 sec. Users per second: 1567\n"
     ]
    },
    {
     "name": "stderr",
     "output_type": "stream",
     "text": [
      "[I 2024-11-29 07:05:18,749] Trial 51 finished with value: 0.023897744349061913 and parameters: {'topK': 556, 'l1_ratio': 3.319757767885574e-05, 'alpha': 0.03754707264385745}. Best is trial 35 with value: 0.0325512712360066.\n"
     ]
    },
    {
     "name": "stdout",
     "output_type": "stream",
     "text": [
      "SLIMElasticNetRecommender: Processed 9417 (24.7%) in 5.00 min. Items per second: 31.39\n",
      "SLIMElasticNetRecommender: Processed 19069 (50.0%) in 10.00 min. Items per second: 31.78\n",
      "SLIMElasticNetRecommender: Processed 29053 (76.2%) in 15.00 min. Items per second: 32.28\n",
      "SLIMElasticNetRecommender: Processed 38121 (100.0%) in 19.44 min. Items per second: 32.67\n",
      "EvaluatorHoldout: Processed 35280 (100.0%) in 20.28 sec. Users per second: 1739\n"
     ]
    },
    {
     "name": "stderr",
     "output_type": "stream",
     "text": [
      "[I 2024-11-29 07:25:05,825] Trial 52 finished with value: 0.021587641273440178 and parameters: {'topK': 349, 'l1_ratio': 0.00015572092902344753, 'alpha': 0.0996645194896994}. Best is trial 35 with value: 0.0325512712360066.\n"
     ]
    },
    {
     "name": "stdout",
     "output_type": "stream",
     "text": [
      "SLIMElasticNetRecommender: Processed 7091 (18.6%) in 5.00 min. Items per second: 23.63\n",
      "SLIMElasticNetRecommender: Processed 14225 (37.3%) in 10.00 min. Items per second: 23.71\n",
      "SLIMElasticNetRecommender: Processed 21440 (56.2%) in 15.00 min. Items per second: 23.82\n",
      "SLIMElasticNetRecommender: Processed 28594 (75.0%) in 20.00 min. Items per second: 23.83\n",
      "SLIMElasticNetRecommender: Processed 35888 (94.1%) in 25.00 min. Items per second: 23.92\n",
      "SLIMElasticNetRecommender: Processed 38121 (100.0%) in 26.58 min. Items per second: 23.90\n",
      "EvaluatorHoldout: Processed 35280 (100.0%) in 19.07 sec. Users per second: 1850\n"
     ]
    },
    {
     "name": "stderr",
     "output_type": "stream",
     "text": [
      "[I 2024-11-29 07:52:00,008] Trial 53 finished with value: 0.03182544631609159 and parameters: {'topK': 448, 'l1_ratio': 1.3793108531892051e-05, 'alpha': 0.002258704293741193}. Best is trial 35 with value: 0.0325512712360066.\n"
     ]
    },
    {
     "name": "stdout",
     "output_type": "stream",
     "text": [
      "SLIMElasticNetRecommender: Processed 8572 (22.5%) in 5.00 min. Items per second: 28.57\n",
      "SLIMElasticNetRecommender: Processed 17326 (45.5%) in 10.00 min. Items per second: 28.87\n",
      "SLIMElasticNetRecommender: Processed 26633 (69.9%) in 15.00 min. Items per second: 29.59\n",
      "SLIMElasticNetRecommender: Processed 33614 (88.2%) in 20.00 min. Items per second: 28.01\n",
      "SLIMElasticNetRecommender: Processed 35082 (92.0%) in 25.37 min. Items per second: 23.05\n",
      "SLIMElasticNetRecommender: Processed 38086 (99.9%) in 33.96 min. Items per second: 18.69\n",
      "SLIMElasticNetRecommender: Processed 38121 (100.0%) in 33.98 min. Items per second: 18.70\n",
      "EvaluatorHoldout: Processed 35280 (100.0%) in 23.74 sec. Users per second: 1486\n"
     ]
    },
    {
     "name": "stderr",
     "output_type": "stream",
     "text": [
      "[I 2024-11-29 08:26:22,713] Trial 54 finished with value: 0.023665898436093534 and parameters: {'topK': 624, 'l1_ratio': 7.117933223861663e-05, 'alpha': 0.039436792355622474}. Best is trial 35 with value: 0.0325512712360066.\n"
     ]
    },
    {
     "name": "stdout",
     "output_type": "stream",
     "text": [
      "SLIMElasticNetRecommender: Processed 1861 ( 4.9%) in 16.64 min. Items per second: 1.86\n",
      "SLIMElasticNetRecommender: Processed 2987 ( 7.8%) in 24.54 min. Items per second: 2.03\n",
      "SLIMElasticNetRecommender: Processed 7729 (20.3%) in 30.79 min. Items per second: 4.18\n",
      "SLIMElasticNetRecommender: Processed 8681 (22.8%) in 36.79 min. Items per second: 3.93\n",
      "SLIMElasticNetRecommender: Processed 10084 (26.5%) in 41.82 min. Items per second: 4.02\n",
      "SLIMElasticNetRecommender: Processed 14369 (37.7%) in 46.82 min. Items per second: 5.11\n",
      "SLIMElasticNetRecommender: Processed 22679 (59.5%) in 51.82 min. Items per second: 7.29\n",
      "SLIMElasticNetRecommender: Processed 30782 (80.7%) in 56.82 min. Items per second: 9.03\n",
      "SLIMElasticNetRecommender: Processed 38121 (100.0%) in 1.02 hour. Items per second: 10.39\n",
      "EvaluatorHoldout: Processed 35280 (100.0%) in 24.22 sec. Users per second: 1457\n"
     ]
    },
    {
     "name": "stderr",
     "output_type": "stream",
     "text": [
      "[I 2024-11-29 09:27:57,082] Trial 55 finished with value: 0.02805383575387743 and parameters: {'topK': 809, 'l1_ratio': 1.37022173707623e-05, 'alpha': 0.009382806698829217}. Best is trial 35 with value: 0.0325512712360066.\n"
     ]
    },
    {
     "name": "stdout",
     "output_type": "stream",
     "text": [
      "SLIMElasticNetRecommender: Processed 19787 (51.9%) in 5.00 min. Items per second: 65.95\n",
      "SLIMElasticNetRecommender: Processed 38121 (100.0%) in 9.21 min. Items per second: 69.02\n",
      "EvaluatorHoldout: Processed 35280 (100.0%) in 12.34 sec. Users per second: 2860\n"
     ]
    },
    {
     "name": "stderr",
     "output_type": "stream",
     "text": [
      "[I 2024-11-29 09:37:21,820] Trial 56 finished with value: 0.01857927734585904 and parameters: {'topK': 556, 'l1_ratio': 0.0005238901895253549, 'alpha': 0.16350600744084617}. Best is trial 35 with value: 0.0325512712360066.\n"
     ]
    },
    {
     "name": "stdout",
     "output_type": "stream",
     "text": [
      "SLIMElasticNetRecommender: Processed 9353 (24.5%) in 5.00 min. Items per second: 31.17\n",
      "SLIMElasticNetRecommender: Processed 19174 (50.3%) in 10.00 min. Items per second: 31.95\n",
      "SLIMElasticNetRecommender: Processed 29356 (77.0%) in 15.00 min. Items per second: 32.61\n",
      "SLIMElasticNetRecommender: Processed 38121 (100.0%) in 19.09 min. Items per second: 33.27\n",
      "EvaluatorHoldout: Processed 35280 (100.0%) in 26.89 sec. Users per second: 1312\n"
     ]
    },
    {
     "name": "stderr",
     "output_type": "stream",
     "text": [
      "[I 2024-11-29 09:56:54,749] Trial 57 finished with value: 0.02076968492423396 and parameters: {'topK': 887, 'l1_ratio': 0.00011925200323498651, 'alpha': 0.09958927074243018}. Best is trial 35 with value: 0.0325512712360066.\n"
     ]
    },
    {
     "name": "stdout",
     "output_type": "stream",
     "text": [
      "SLIMElasticNetRecommender: Processed 7881 (20.7%) in 5.00 min. Items per second: 26.27\n",
      "SLIMElasticNetRecommender: Processed 15427 (40.5%) in 10.00 min. Items per second: 25.71\n",
      "SLIMElasticNetRecommender: Processed 23009 (60.4%) in 15.00 min. Items per second: 25.56\n",
      "SLIMElasticNetRecommender: Processed 30692 (80.5%) in 20.00 min. Items per second: 25.57\n",
      "SLIMElasticNetRecommender: Processed 38121 (100.0%) in 24.93 min. Items per second: 25.49\n",
      "EvaluatorHoldout: Processed 35280 (100.0%) in 19.87 sec. Users per second: 1776\n"
     ]
    },
    {
     "name": "stderr",
     "output_type": "stream",
     "text": [
      "[I 2024-11-29 10:22:10,398] Trial 58 finished with value: 0.029629260698987702 and parameters: {'topK': 420, 'l1_ratio': 0.00025329127173670074, 'alpha': 0.00556908777745766}. Best is trial 35 with value: 0.0325512712360066.\n"
     ]
    },
    {
     "name": "stdout",
     "output_type": "stream",
     "text": [
      "SLIMElasticNetRecommender: Processed 12008 (31.5%) in 5.00 min. Items per second: 40.02\n",
      "SLIMElasticNetRecommender: Processed 25157 (66.0%) in 10.00 min. Items per second: 41.92\n",
      "SLIMElasticNetRecommender: Processed 38121 (100.0%) in 14.94 min. Items per second: 42.51\n",
      "EvaluatorHoldout: Processed 35280 (100.0%) in 18.79 sec. Users per second: 1878\n"
     ]
    },
    {
     "name": "stderr",
     "output_type": "stream",
     "text": [
      "[I 2024-11-29 10:37:26,044] Trial 59 finished with value: 0.0195483197908793 and parameters: {'topK': 435, 'l1_ratio': 0.00023095633588758233, 'alpha': 0.18849377511821058}. Best is trial 35 with value: 0.0325512712360066.\n"
     ]
    },
    {
     "name": "stdout",
     "output_type": "stream",
     "text": [
      "SLIMElasticNetRecommender: Processed 38121 (100.0%) in 4.95 min. Items per second: 128.32\n",
      "EvaluatorHoldout: Processed 35280 (100.0%) in 10.96 sec. Users per second: 3220\n"
     ]
    },
    {
     "name": "stderr",
     "output_type": "stream",
     "text": [
      "[I 2024-11-29 10:42:34,174] Trial 60 finished with value: 0.0005130385487528351 and parameters: {'topK': 475, 'l1_ratio': 0.04526554327563404, 'alpha': 0.1342858860812294}. Best is trial 35 with value: 0.0325512712360066.\n"
     ]
    },
    {
     "name": "stdout",
     "output_type": "stream",
     "text": [
      "SLIMElasticNetRecommender: Processed 5096 (13.4%) in 5.00 min. Items per second: 16.98\n",
      "SLIMElasticNetRecommender: Processed 10109 (26.5%) in 10.00 min. Items per second: 16.84\n",
      "SLIMElasticNetRecommender: Processed 15013 (39.4%) in 15.00 min. Items per second: 16.68\n",
      "SLIMElasticNetRecommender: Processed 20473 (53.7%) in 20.00 min. Items per second: 17.06\n",
      "SLIMElasticNetRecommender: Processed 25793 (67.7%) in 25.00 min. Items per second: 17.19\n",
      "SLIMElasticNetRecommender: Processed 30968 (81.2%) in 30.00 min. Items per second: 17.20\n",
      "SLIMElasticNetRecommender: Processed 36004 (94.4%) in 35.00 min. Items per second: 17.14\n",
      "SLIMElasticNetRecommender: Processed 38121 (100.0%) in 37.37 min. Items per second: 17.00\n",
      "EvaluatorHoldout: Processed 35280 (100.0%) in 40.91 sec. Users per second: 862\n"
     ]
    },
    {
     "name": "stderr",
     "output_type": "stream",
     "text": [
      "[I 2024-11-29 11:20:37,585] Trial 61 finished with value: 0.03101646352985531 and parameters: {'topK': 298, 'l1_ratio': 5.1208890449947916e-05, 'alpha': 0.003361052026450242}. Best is trial 35 with value: 0.0325512712360066.\n"
     ]
    },
    {
     "name": "stdout",
     "output_type": "stream",
     "text": [
      "SLIMElasticNetRecommender: Processed 10317 (27.1%) in 5.00 min. Items per second: 34.38\n",
      "SLIMElasticNetRecommender: Processed 21474 (56.3%) in 10.00 min. Items per second: 35.79\n",
      "SLIMElasticNetRecommender: Processed 38121 (100.0%) in 14.46 min. Items per second: 43.93\n",
      "EvaluatorHoldout: Processed 35280 (100.0%) in 11.92 sec. Users per second: 2960\n"
     ]
    },
    {
     "name": "stderr",
     "output_type": "stream",
     "text": [
      "[I 2024-11-29 11:35:17,319] Trial 62 finished with value: 0.017265604191412192 and parameters: {'topK': 277, 'l1_ratio': 0.00011505691634371303, 'alpha': 0.9894917370269232}. Best is trial 35 with value: 0.0325512712360066.\n"
     ]
    },
    {
     "name": "stdout",
     "output_type": "stream",
     "text": [
      "SLIMElasticNetRecommender: Processed 9186 (24.1%) in 5.00 min. Items per second: 30.61\n",
      "SLIMElasticNetRecommender: Processed 19235 (50.5%) in 10.00 min. Items per second: 32.05\n",
      "SLIMElasticNetRecommender: Processed 29817 (78.2%) in 15.00 min. Items per second: 33.13\n",
      "SLIMElasticNetRecommender: Processed 38121 (100.0%) in 18.80 min. Items per second: 33.79\n",
      "EvaluatorHoldout: Processed 35280 (100.0%) in 17.08 sec. Users per second: 2065\n"
     ]
    },
    {
     "name": "stderr",
     "output_type": "stream",
     "text": [
      "[I 2024-11-29 11:54:22,678] Trial 63 finished with value: 0.024194451193175166 and parameters: {'topK': 207, 'l1_ratio': 5.145461791468963e-05, 'alpha': 0.043238609053526104}. Best is trial 35 with value: 0.0325512712360066.\n"
     ]
    },
    {
     "name": "stdout",
     "output_type": "stream",
     "text": [
      "SLIMElasticNetRecommender: Processed 8218 (21.6%) in 5.00 min. Items per second: 27.39\n",
      "SLIMElasticNetRecommender: Processed 13717 (36.0%) in 10.00 min. Items per second: 22.86\n",
      "SLIMElasticNetRecommender: Processed 18258 (47.9%) in 15.00 min. Items per second: 20.28\n",
      "SLIMElasticNetRecommender: Processed 22482 (59.0%) in 20.00 min. Items per second: 18.73\n",
      "SLIMElasticNetRecommender: Processed 27137 (71.2%) in 25.00 min. Items per second: 18.09\n",
      "SLIMElasticNetRecommender: Processed 32253 (84.6%) in 30.00 min. Items per second: 17.92\n",
      "SLIMElasticNetRecommender: Processed 37693 (98.9%) in 35.00 min. Items per second: 17.95\n",
      "SLIMElasticNetRecommender: Processed 38121 (100.0%) in 35.42 min. Items per second: 17.94\n",
      "EvaluatorHoldout: Processed 35280 (100.0%) in 38.74 sec. Users per second: 911\n"
     ]
    },
    {
     "name": "stderr",
     "output_type": "stream",
     "text": [
      "[I 2024-11-29 12:30:26,652] Trial 64 finished with value: 0.03135957914911889 and parameters: {'topK': 311, 'l1_ratio': 0.00022114961130715192, 'alpha': 0.002872530335753392}. Best is trial 35 with value: 0.0325512712360066.\n",
      "[W 2024-11-29 12:32:07,427] Trial 65 failed with parameters: {'topK': 351, 'l1_ratio': 0.00038686272459315373, 'alpha': 0.06940118198228047} because of the following error: KeyboardInterrupt().\n",
      "Traceback (most recent call last):\n",
      "  File \"/Users/lucapagano/miniconda3/envs/RecSysPD/lib/python3.8/site-packages/optuna/study/_optimize.py\", line 197, in _run_trial\n",
      "    value_or_values = func(trial)\n",
      "  File \"<ipython-input-19-3af5e999a324>\", line 14, in objective_function_2\n",
      "    recommender.fit(**params)\n",
      "  File \"/Users/lucapagano/miniconda3/envs/RecSysPD/lib/python3.8/site-packages/sklearn/utils/_testing.py\", line 156, in wrapper\n",
      "    return fn(*args, **kwargs)\n",
      "  File \"/Users/lucapagano/Developer/RecSys/Competizione/Recommenders/SLIM/SLIMElasticNetRecommender.py\", line 87, in fit\n",
      "    self.model.fit(URM_train, y)\n",
      "  File \"/Users/lucapagano/miniconda3/envs/RecSysPD/lib/python3.8/site-packages/sklearn/base.py\", line 1152, in wrapper\n",
      "    return fit_method(estimator, *args, **kwargs)\n",
      "  File \"/Users/lucapagano/miniconda3/envs/RecSysPD/lib/python3.8/site-packages/sklearn/linear_model/_coordinate_descent.py\", line 1001, in fit\n",
      "    _, this_coef, this_dual_gap, this_iter = self.path(\n",
      "  File \"/Users/lucapagano/miniconda3/envs/RecSysPD/lib/python3.8/site-packages/sklearn/linear_model/_coordinate_descent.py\", line 589, in enet_path\n",
      "    model = cd_fast.sparse_enet_coordinate_descent(\n",
      "KeyboardInterrupt\n",
      "[W 2024-11-29 12:32:07,437] Trial 65 failed with value None.\n"
     ]
    },
    {
     "ename": "KeyboardInterrupt",
     "evalue": "",
     "output_type": "error",
     "traceback": [
      "\u001b[0;31m---------------------------------------------------------------------------\u001b[0m",
      "\u001b[0;31mKeyboardInterrupt\u001b[0m                         Traceback (most recent call last)",
      "Cell \u001b[0;32mIn[21], line 7\u001b[0m\n\u001b[1;32m      3\u001b[0m optuna_study \u001b[38;5;241m=\u001b[39m optuna\u001b[38;5;241m.\u001b[39mcreate_study(direction\u001b[38;5;241m=\u001b[39m\u001b[38;5;124m\"\u001b[39m\u001b[38;5;124mmaximize\u001b[39m\u001b[38;5;124m\"\u001b[39m)\n\u001b[1;32m      5\u001b[0m save_results \u001b[38;5;241m=\u001b[39m SaveResults()\n\u001b[0;32m----> 7\u001b[0m \u001b[43moptuna_study\u001b[49m\u001b[38;5;241;43m.\u001b[39;49m\u001b[43moptimize\u001b[49m\u001b[43m(\u001b[49m\u001b[43mobjective_function_2\u001b[49m\u001b[43m,\u001b[49m\n\u001b[1;32m      8\u001b[0m \u001b[43m                      \u001b[49m\u001b[43mcallbacks\u001b[49m\u001b[38;5;241;43m=\u001b[39;49m\u001b[43m[\u001b[49m\u001b[43msave_results\u001b[49m\u001b[43m]\u001b[49m\u001b[43m,\u001b[49m\n\u001b[1;32m      9\u001b[0m \u001b[43m                      \u001b[49m\u001b[43mn_trials\u001b[49m\u001b[43m \u001b[49m\u001b[38;5;241;43m=\u001b[39;49m\u001b[43m \u001b[49m\u001b[38;5;241;43m100\u001b[39;49m\u001b[43m)\u001b[49m\n",
      "File \u001b[0;32m~/miniconda3/envs/RecSysPD/lib/python3.8/site-packages/optuna/study/study.py:475\u001b[0m, in \u001b[0;36mStudy.optimize\u001b[0;34m(self, func, n_trials, timeout, n_jobs, catch, callbacks, gc_after_trial, show_progress_bar)\u001b[0m\n\u001b[1;32m    373\u001b[0m \u001b[38;5;28;01mdef\u001b[39;00m \u001b[38;5;21moptimize\u001b[39m(\n\u001b[1;32m    374\u001b[0m     \u001b[38;5;28mself\u001b[39m,\n\u001b[1;32m    375\u001b[0m     func: ObjectiveFuncType,\n\u001b[0;32m   (...)\u001b[0m\n\u001b[1;32m    382\u001b[0m     show_progress_bar: \u001b[38;5;28mbool\u001b[39m \u001b[38;5;241m=\u001b[39m \u001b[38;5;28;01mFalse\u001b[39;00m,\n\u001b[1;32m    383\u001b[0m ) \u001b[38;5;241m-\u001b[39m\u001b[38;5;241m>\u001b[39m \u001b[38;5;28;01mNone\u001b[39;00m:\n\u001b[1;32m    384\u001b[0m \u001b[38;5;250m    \u001b[39m\u001b[38;5;124;03m\"\"\"Optimize an objective function.\u001b[39;00m\n\u001b[1;32m    385\u001b[0m \n\u001b[1;32m    386\u001b[0m \u001b[38;5;124;03m    Optimization is done by choosing a suitable set of hyperparameter values from a given\u001b[39;00m\n\u001b[0;32m   (...)\u001b[0m\n\u001b[1;32m    473\u001b[0m \u001b[38;5;124;03m            If nested invocation of this method occurs.\u001b[39;00m\n\u001b[1;32m    474\u001b[0m \u001b[38;5;124;03m    \"\"\"\u001b[39;00m\n\u001b[0;32m--> 475\u001b[0m     \u001b[43m_optimize\u001b[49m\u001b[43m(\u001b[49m\n\u001b[1;32m    476\u001b[0m \u001b[43m        \u001b[49m\u001b[43mstudy\u001b[49m\u001b[38;5;241;43m=\u001b[39;49m\u001b[38;5;28;43mself\u001b[39;49m\u001b[43m,\u001b[49m\n\u001b[1;32m    477\u001b[0m \u001b[43m        \u001b[49m\u001b[43mfunc\u001b[49m\u001b[38;5;241;43m=\u001b[39;49m\u001b[43mfunc\u001b[49m\u001b[43m,\u001b[49m\n\u001b[1;32m    478\u001b[0m \u001b[43m        \u001b[49m\u001b[43mn_trials\u001b[49m\u001b[38;5;241;43m=\u001b[39;49m\u001b[43mn_trials\u001b[49m\u001b[43m,\u001b[49m\n\u001b[1;32m    479\u001b[0m \u001b[43m        \u001b[49m\u001b[43mtimeout\u001b[49m\u001b[38;5;241;43m=\u001b[39;49m\u001b[43mtimeout\u001b[49m\u001b[43m,\u001b[49m\n\u001b[1;32m    480\u001b[0m \u001b[43m        \u001b[49m\u001b[43mn_jobs\u001b[49m\u001b[38;5;241;43m=\u001b[39;49m\u001b[43mn_jobs\u001b[49m\u001b[43m,\u001b[49m\n\u001b[1;32m    481\u001b[0m \u001b[43m        \u001b[49m\u001b[43mcatch\u001b[49m\u001b[38;5;241;43m=\u001b[39;49m\u001b[38;5;28;43mtuple\u001b[39;49m\u001b[43m(\u001b[49m\u001b[43mcatch\u001b[49m\u001b[43m)\u001b[49m\u001b[43m \u001b[49m\u001b[38;5;28;43;01mif\u001b[39;49;00m\u001b[43m \u001b[49m\u001b[38;5;28;43misinstance\u001b[39;49m\u001b[43m(\u001b[49m\u001b[43mcatch\u001b[49m\u001b[43m,\u001b[49m\u001b[43m \u001b[49m\u001b[43mIterable\u001b[49m\u001b[43m)\u001b[49m\u001b[43m \u001b[49m\u001b[38;5;28;43;01melse\u001b[39;49;00m\u001b[43m \u001b[49m\u001b[43m(\u001b[49m\u001b[43mcatch\u001b[49m\u001b[43m,\u001b[49m\u001b[43m)\u001b[49m\u001b[43m,\u001b[49m\n\u001b[1;32m    482\u001b[0m \u001b[43m        \u001b[49m\u001b[43mcallbacks\u001b[49m\u001b[38;5;241;43m=\u001b[39;49m\u001b[43mcallbacks\u001b[49m\u001b[43m,\u001b[49m\n\u001b[1;32m    483\u001b[0m \u001b[43m        \u001b[49m\u001b[43mgc_after_trial\u001b[49m\u001b[38;5;241;43m=\u001b[39;49m\u001b[43mgc_after_trial\u001b[49m\u001b[43m,\u001b[49m\n\u001b[1;32m    484\u001b[0m \u001b[43m        \u001b[49m\u001b[43mshow_progress_bar\u001b[49m\u001b[38;5;241;43m=\u001b[39;49m\u001b[43mshow_progress_bar\u001b[49m\u001b[43m,\u001b[49m\n\u001b[1;32m    485\u001b[0m \u001b[43m    \u001b[49m\u001b[43m)\u001b[49m\n",
      "File \u001b[0;32m~/miniconda3/envs/RecSysPD/lib/python3.8/site-packages/optuna/study/_optimize.py:63\u001b[0m, in \u001b[0;36m_optimize\u001b[0;34m(study, func, n_trials, timeout, n_jobs, catch, callbacks, gc_after_trial, show_progress_bar)\u001b[0m\n\u001b[1;32m     61\u001b[0m \u001b[38;5;28;01mtry\u001b[39;00m:\n\u001b[1;32m     62\u001b[0m     \u001b[38;5;28;01mif\u001b[39;00m n_jobs \u001b[38;5;241m==\u001b[39m \u001b[38;5;241m1\u001b[39m:\n\u001b[0;32m---> 63\u001b[0m         \u001b[43m_optimize_sequential\u001b[49m\u001b[43m(\u001b[49m\n\u001b[1;32m     64\u001b[0m \u001b[43m            \u001b[49m\u001b[43mstudy\u001b[49m\u001b[43m,\u001b[49m\n\u001b[1;32m     65\u001b[0m \u001b[43m            \u001b[49m\u001b[43mfunc\u001b[49m\u001b[43m,\u001b[49m\n\u001b[1;32m     66\u001b[0m \u001b[43m            \u001b[49m\u001b[43mn_trials\u001b[49m\u001b[43m,\u001b[49m\n\u001b[1;32m     67\u001b[0m \u001b[43m            \u001b[49m\u001b[43mtimeout\u001b[49m\u001b[43m,\u001b[49m\n\u001b[1;32m     68\u001b[0m \u001b[43m            \u001b[49m\u001b[43mcatch\u001b[49m\u001b[43m,\u001b[49m\n\u001b[1;32m     69\u001b[0m \u001b[43m            \u001b[49m\u001b[43mcallbacks\u001b[49m\u001b[43m,\u001b[49m\n\u001b[1;32m     70\u001b[0m \u001b[43m            \u001b[49m\u001b[43mgc_after_trial\u001b[49m\u001b[43m,\u001b[49m\n\u001b[1;32m     71\u001b[0m \u001b[43m            \u001b[49m\u001b[43mreseed_sampler_rng\u001b[49m\u001b[38;5;241;43m=\u001b[39;49m\u001b[38;5;28;43;01mFalse\u001b[39;49;00m\u001b[43m,\u001b[49m\n\u001b[1;32m     72\u001b[0m \u001b[43m            \u001b[49m\u001b[43mtime_start\u001b[49m\u001b[38;5;241;43m=\u001b[39;49m\u001b[38;5;28;43;01mNone\u001b[39;49;00m\u001b[43m,\u001b[49m\n\u001b[1;32m     73\u001b[0m \u001b[43m            \u001b[49m\u001b[43mprogress_bar\u001b[49m\u001b[38;5;241;43m=\u001b[39;49m\u001b[43mprogress_bar\u001b[49m\u001b[43m,\u001b[49m\n\u001b[1;32m     74\u001b[0m \u001b[43m        \u001b[49m\u001b[43m)\u001b[49m\n\u001b[1;32m     75\u001b[0m     \u001b[38;5;28;01melse\u001b[39;00m:\n\u001b[1;32m     76\u001b[0m         \u001b[38;5;28;01mif\u001b[39;00m n_jobs \u001b[38;5;241m==\u001b[39m \u001b[38;5;241m-\u001b[39m\u001b[38;5;241m1\u001b[39m:\n",
      "File \u001b[0;32m~/miniconda3/envs/RecSysPD/lib/python3.8/site-packages/optuna/study/_optimize.py:160\u001b[0m, in \u001b[0;36m_optimize_sequential\u001b[0;34m(study, func, n_trials, timeout, catch, callbacks, gc_after_trial, reseed_sampler_rng, time_start, progress_bar)\u001b[0m\n\u001b[1;32m    157\u001b[0m         \u001b[38;5;28;01mbreak\u001b[39;00m\n\u001b[1;32m    159\u001b[0m \u001b[38;5;28;01mtry\u001b[39;00m:\n\u001b[0;32m--> 160\u001b[0m     frozen_trial \u001b[38;5;241m=\u001b[39m \u001b[43m_run_trial\u001b[49m\u001b[43m(\u001b[49m\u001b[43mstudy\u001b[49m\u001b[43m,\u001b[49m\u001b[43m \u001b[49m\u001b[43mfunc\u001b[49m\u001b[43m,\u001b[49m\u001b[43m \u001b[49m\u001b[43mcatch\u001b[49m\u001b[43m)\u001b[49m\n\u001b[1;32m    161\u001b[0m \u001b[38;5;28;01mfinally\u001b[39;00m:\n\u001b[1;32m    162\u001b[0m     \u001b[38;5;66;03m# The following line mitigates memory problems that can be occurred in some\u001b[39;00m\n\u001b[1;32m    163\u001b[0m     \u001b[38;5;66;03m# environments (e.g., services that use computing containers such as GitHub Actions).\u001b[39;00m\n\u001b[1;32m    164\u001b[0m     \u001b[38;5;66;03m# Please refer to the following PR for further details:\u001b[39;00m\n\u001b[1;32m    165\u001b[0m     \u001b[38;5;66;03m# https://github.com/optuna/optuna/pull/325.\u001b[39;00m\n\u001b[1;32m    166\u001b[0m     \u001b[38;5;28;01mif\u001b[39;00m gc_after_trial:\n",
      "File \u001b[0;32m~/miniconda3/envs/RecSysPD/lib/python3.8/site-packages/optuna/study/_optimize.py:248\u001b[0m, in \u001b[0;36m_run_trial\u001b[0;34m(study, func, catch)\u001b[0m\n\u001b[1;32m    241\u001b[0m         \u001b[38;5;28;01massert\u001b[39;00m \u001b[38;5;28;01mFalse\u001b[39;00m, \u001b[38;5;124m\"\u001b[39m\u001b[38;5;124mShould not reach.\u001b[39m\u001b[38;5;124m\"\u001b[39m\n\u001b[1;32m    243\u001b[0m \u001b[38;5;28;01mif\u001b[39;00m (\n\u001b[1;32m    244\u001b[0m     frozen_trial\u001b[38;5;241m.\u001b[39mstate \u001b[38;5;241m==\u001b[39m TrialState\u001b[38;5;241m.\u001b[39mFAIL\n\u001b[1;32m    245\u001b[0m     \u001b[38;5;129;01mand\u001b[39;00m func_err \u001b[38;5;129;01mis\u001b[39;00m \u001b[38;5;129;01mnot\u001b[39;00m \u001b[38;5;28;01mNone\u001b[39;00m\n\u001b[1;32m    246\u001b[0m     \u001b[38;5;129;01mand\u001b[39;00m \u001b[38;5;129;01mnot\u001b[39;00m \u001b[38;5;28misinstance\u001b[39m(func_err, catch)\n\u001b[1;32m    247\u001b[0m ):\n\u001b[0;32m--> 248\u001b[0m     \u001b[38;5;28;01mraise\u001b[39;00m func_err\n\u001b[1;32m    249\u001b[0m \u001b[38;5;28;01mreturn\u001b[39;00m frozen_trial\n",
      "File \u001b[0;32m~/miniconda3/envs/RecSysPD/lib/python3.8/site-packages/optuna/study/_optimize.py:197\u001b[0m, in \u001b[0;36m_run_trial\u001b[0;34m(study, func, catch)\u001b[0m\n\u001b[1;32m    195\u001b[0m \u001b[38;5;28;01mwith\u001b[39;00m get_heartbeat_thread(trial\u001b[38;5;241m.\u001b[39m_trial_id, study\u001b[38;5;241m.\u001b[39m_storage):\n\u001b[1;32m    196\u001b[0m     \u001b[38;5;28;01mtry\u001b[39;00m:\n\u001b[0;32m--> 197\u001b[0m         value_or_values \u001b[38;5;241m=\u001b[39m \u001b[43mfunc\u001b[49m\u001b[43m(\u001b[49m\u001b[43mtrial\u001b[49m\u001b[43m)\u001b[49m\n\u001b[1;32m    198\u001b[0m     \u001b[38;5;28;01mexcept\u001b[39;00m exceptions\u001b[38;5;241m.\u001b[39mTrialPruned \u001b[38;5;28;01mas\u001b[39;00m e:\n\u001b[1;32m    199\u001b[0m         \u001b[38;5;66;03m# TODO(mamu): Handle multi-objective cases.\u001b[39;00m\n\u001b[1;32m    200\u001b[0m         state \u001b[38;5;241m=\u001b[39m TrialState\u001b[38;5;241m.\u001b[39mPRUNED\n",
      "Cell \u001b[0;32mIn[19], line 14\u001b[0m, in \u001b[0;36mobjective_function_2\u001b[0;34m(trial)\u001b[0m\n\u001b[1;32m     12\u001b[0m MAP \u001b[38;5;241m=\u001b[39m \u001b[38;5;241m0\u001b[39m\n\u001b[1;32m     13\u001b[0m recommender \u001b[38;5;241m=\u001b[39m SLIMElasticNetRecommender(URM_train)\n\u001b[0;32m---> 14\u001b[0m \u001b[43mrecommender\u001b[49m\u001b[38;5;241;43m.\u001b[39;49m\u001b[43mfit\u001b[49m\u001b[43m(\u001b[49m\u001b[38;5;241;43m*\u001b[39;49m\u001b[38;5;241;43m*\u001b[39;49m\u001b[43mparams\u001b[49m\u001b[43m)\u001b[49m\n\u001b[1;32m     16\u001b[0m result_dict, _ \u001b[38;5;241m=\u001b[39m evaluator_validation\u001b[38;5;241m.\u001b[39mevaluateRecommender(recommender)\n\u001b[1;32m     18\u001b[0m MAP \u001b[38;5;241m=\u001b[39m result_dict\u001b[38;5;241m.\u001b[39mloc[\u001b[38;5;241m10\u001b[39m][\u001b[38;5;124m\"\u001b[39m\u001b[38;5;124mMAP\u001b[39m\u001b[38;5;124m\"\u001b[39m]\n",
      "File \u001b[0;32m~/miniconda3/envs/RecSysPD/lib/python3.8/site-packages/sklearn/utils/_testing.py:156\u001b[0m, in \u001b[0;36m_IgnoreWarnings.__call__.<locals>.wrapper\u001b[0;34m(*args, **kwargs)\u001b[0m\n\u001b[1;32m    154\u001b[0m \u001b[38;5;28;01mwith\u001b[39;00m warnings\u001b[38;5;241m.\u001b[39mcatch_warnings():\n\u001b[1;32m    155\u001b[0m     warnings\u001b[38;5;241m.\u001b[39msimplefilter(\u001b[38;5;124m\"\u001b[39m\u001b[38;5;124mignore\u001b[39m\u001b[38;5;124m\"\u001b[39m, \u001b[38;5;28mself\u001b[39m\u001b[38;5;241m.\u001b[39mcategory)\n\u001b[0;32m--> 156\u001b[0m     \u001b[38;5;28;01mreturn\u001b[39;00m \u001b[43mfn\u001b[49m\u001b[43m(\u001b[49m\u001b[38;5;241;43m*\u001b[39;49m\u001b[43margs\u001b[49m\u001b[43m,\u001b[49m\u001b[43m \u001b[49m\u001b[38;5;241;43m*\u001b[39;49m\u001b[38;5;241;43m*\u001b[39;49m\u001b[43mkwargs\u001b[49m\u001b[43m)\u001b[49m\n",
      "File \u001b[0;32m~/Developer/RecSys/Competizione/Recommenders/SLIM/SLIMElasticNetRecommender.py:87\u001b[0m, in \u001b[0;36mSLIMElasticNetRecommender.fit\u001b[0;34m(self, l1_ratio, alpha, positive_only, topK)\u001b[0m\n\u001b[1;32m     84\u001b[0m URM_train\u001b[38;5;241m.\u001b[39mdata[start_pos: end_pos] \u001b[38;5;241m=\u001b[39m \u001b[38;5;241m0.0\u001b[39m\n\u001b[1;32m     86\u001b[0m \u001b[38;5;66;03m# fit one ElasticNet model per column\u001b[39;00m\n\u001b[0;32m---> 87\u001b[0m \u001b[38;5;28;43mself\u001b[39;49m\u001b[38;5;241;43m.\u001b[39;49m\u001b[43mmodel\u001b[49m\u001b[38;5;241;43m.\u001b[39;49m\u001b[43mfit\u001b[49m\u001b[43m(\u001b[49m\u001b[43mURM_train\u001b[49m\u001b[43m,\u001b[49m\u001b[43m \u001b[49m\u001b[43my\u001b[49m\u001b[43m)\u001b[49m\n\u001b[1;32m     89\u001b[0m \u001b[38;5;66;03m# self.model.coef_ contains the coefficient of the ElasticNet model\u001b[39;00m\n\u001b[1;32m     90\u001b[0m \u001b[38;5;66;03m# let's keep only the non-zero values\u001b[39;00m\n\u001b[1;32m     91\u001b[0m nonzero_model_coef_index \u001b[38;5;241m=\u001b[39m \u001b[38;5;28mself\u001b[39m\u001b[38;5;241m.\u001b[39mmodel\u001b[38;5;241m.\u001b[39msparse_coef_\u001b[38;5;241m.\u001b[39mindices\n",
      "File \u001b[0;32m~/miniconda3/envs/RecSysPD/lib/python3.8/site-packages/sklearn/base.py:1152\u001b[0m, in \u001b[0;36m_fit_context.<locals>.decorator.<locals>.wrapper\u001b[0;34m(estimator, *args, **kwargs)\u001b[0m\n\u001b[1;32m   1145\u001b[0m     estimator\u001b[38;5;241m.\u001b[39m_validate_params()\n\u001b[1;32m   1147\u001b[0m \u001b[38;5;28;01mwith\u001b[39;00m config_context(\n\u001b[1;32m   1148\u001b[0m     skip_parameter_validation\u001b[38;5;241m=\u001b[39m(\n\u001b[1;32m   1149\u001b[0m         prefer_skip_nested_validation \u001b[38;5;129;01mor\u001b[39;00m global_skip_validation\n\u001b[1;32m   1150\u001b[0m     )\n\u001b[1;32m   1151\u001b[0m ):\n\u001b[0;32m-> 1152\u001b[0m     \u001b[38;5;28;01mreturn\u001b[39;00m \u001b[43mfit_method\u001b[49m\u001b[43m(\u001b[49m\u001b[43mestimator\u001b[49m\u001b[43m,\u001b[49m\u001b[43m \u001b[49m\u001b[38;5;241;43m*\u001b[39;49m\u001b[43margs\u001b[49m\u001b[43m,\u001b[49m\u001b[43m \u001b[49m\u001b[38;5;241;43m*\u001b[39;49m\u001b[38;5;241;43m*\u001b[39;49m\u001b[43mkwargs\u001b[49m\u001b[43m)\u001b[49m\n",
      "File \u001b[0;32m~/miniconda3/envs/RecSysPD/lib/python3.8/site-packages/sklearn/linear_model/_coordinate_descent.py:1001\u001b[0m, in \u001b[0;36mElasticNet.fit\u001b[0;34m(self, X, y, sample_weight, check_input)\u001b[0m\n\u001b[1;32m    999\u001b[0m \u001b[38;5;28;01melse\u001b[39;00m:\n\u001b[1;32m   1000\u001b[0m     this_Xy \u001b[38;5;241m=\u001b[39m \u001b[38;5;28;01mNone\u001b[39;00m\n\u001b[0;32m-> 1001\u001b[0m _, this_coef, this_dual_gap, this_iter \u001b[38;5;241m=\u001b[39m \u001b[38;5;28;43mself\u001b[39;49m\u001b[38;5;241;43m.\u001b[39;49m\u001b[43mpath\u001b[49m\u001b[43m(\u001b[49m\n\u001b[1;32m   1002\u001b[0m \u001b[43m    \u001b[49m\u001b[43mX\u001b[49m\u001b[43m,\u001b[49m\n\u001b[1;32m   1003\u001b[0m \u001b[43m    \u001b[49m\u001b[43my\u001b[49m\u001b[43m[\u001b[49m\u001b[43m:\u001b[49m\u001b[43m,\u001b[49m\u001b[43m \u001b[49m\u001b[43mk\u001b[49m\u001b[43m]\u001b[49m\u001b[43m,\u001b[49m\n\u001b[1;32m   1004\u001b[0m \u001b[43m    \u001b[49m\u001b[43ml1_ratio\u001b[49m\u001b[38;5;241;43m=\u001b[39;49m\u001b[38;5;28;43mself\u001b[39;49m\u001b[38;5;241;43m.\u001b[39;49m\u001b[43ml1_ratio\u001b[49m\u001b[43m,\u001b[49m\n\u001b[1;32m   1005\u001b[0m \u001b[43m    \u001b[49m\u001b[43meps\u001b[49m\u001b[38;5;241;43m=\u001b[39;49m\u001b[38;5;28;43;01mNone\u001b[39;49;00m\u001b[43m,\u001b[49m\n\u001b[1;32m   1006\u001b[0m \u001b[43m    \u001b[49m\u001b[43mn_alphas\u001b[49m\u001b[38;5;241;43m=\u001b[39;49m\u001b[38;5;28;43;01mNone\u001b[39;49;00m\u001b[43m,\u001b[49m\n\u001b[1;32m   1007\u001b[0m \u001b[43m    \u001b[49m\u001b[43malphas\u001b[49m\u001b[38;5;241;43m=\u001b[39;49m\u001b[43m[\u001b[49m\u001b[43malpha\u001b[49m\u001b[43m]\u001b[49m\u001b[43m,\u001b[49m\n\u001b[1;32m   1008\u001b[0m \u001b[43m    \u001b[49m\u001b[43mprecompute\u001b[49m\u001b[38;5;241;43m=\u001b[39;49m\u001b[43mprecompute\u001b[49m\u001b[43m,\u001b[49m\n\u001b[1;32m   1009\u001b[0m \u001b[43m    \u001b[49m\u001b[43mXy\u001b[49m\u001b[38;5;241;43m=\u001b[39;49m\u001b[43mthis_Xy\u001b[49m\u001b[43m,\u001b[49m\n\u001b[1;32m   1010\u001b[0m \u001b[43m    \u001b[49m\u001b[43mcopy_X\u001b[49m\u001b[38;5;241;43m=\u001b[39;49m\u001b[38;5;28;43;01mTrue\u001b[39;49;00m\u001b[43m,\u001b[49m\n\u001b[1;32m   1011\u001b[0m \u001b[43m    \u001b[49m\u001b[43mcoef_init\u001b[49m\u001b[38;5;241;43m=\u001b[39;49m\u001b[43mcoef_\u001b[49m\u001b[43m[\u001b[49m\u001b[43mk\u001b[49m\u001b[43m]\u001b[49m\u001b[43m,\u001b[49m\n\u001b[1;32m   1012\u001b[0m \u001b[43m    \u001b[49m\u001b[43mverbose\u001b[49m\u001b[38;5;241;43m=\u001b[39;49m\u001b[38;5;28;43;01mFalse\u001b[39;49;00m\u001b[43m,\u001b[49m\n\u001b[1;32m   1013\u001b[0m \u001b[43m    \u001b[49m\u001b[43mreturn_n_iter\u001b[49m\u001b[38;5;241;43m=\u001b[39;49m\u001b[38;5;28;43;01mTrue\u001b[39;49;00m\u001b[43m,\u001b[49m\n\u001b[1;32m   1014\u001b[0m \u001b[43m    \u001b[49m\u001b[43mpositive\u001b[49m\u001b[38;5;241;43m=\u001b[39;49m\u001b[38;5;28;43mself\u001b[39;49m\u001b[38;5;241;43m.\u001b[39;49m\u001b[43mpositive\u001b[49m\u001b[43m,\u001b[49m\n\u001b[1;32m   1015\u001b[0m \u001b[43m    \u001b[49m\u001b[43mcheck_input\u001b[49m\u001b[38;5;241;43m=\u001b[39;49m\u001b[38;5;28;43;01mFalse\u001b[39;49;00m\u001b[43m,\u001b[49m\n\u001b[1;32m   1016\u001b[0m \u001b[43m    \u001b[49m\u001b[38;5;66;43;03m# from here on **params\u001b[39;49;00m\n\u001b[1;32m   1017\u001b[0m \u001b[43m    \u001b[49m\u001b[43mtol\u001b[49m\u001b[38;5;241;43m=\u001b[39;49m\u001b[38;5;28;43mself\u001b[39;49m\u001b[38;5;241;43m.\u001b[39;49m\u001b[43mtol\u001b[49m\u001b[43m,\u001b[49m\n\u001b[1;32m   1018\u001b[0m \u001b[43m    \u001b[49m\u001b[43mX_offset\u001b[49m\u001b[38;5;241;43m=\u001b[39;49m\u001b[43mX_offset\u001b[49m\u001b[43m,\u001b[49m\n\u001b[1;32m   1019\u001b[0m \u001b[43m    \u001b[49m\u001b[43mX_scale\u001b[49m\u001b[38;5;241;43m=\u001b[39;49m\u001b[43mX_scale\u001b[49m\u001b[43m,\u001b[49m\n\u001b[1;32m   1020\u001b[0m \u001b[43m    \u001b[49m\u001b[43mmax_iter\u001b[49m\u001b[38;5;241;43m=\u001b[39;49m\u001b[38;5;28;43mself\u001b[39;49m\u001b[38;5;241;43m.\u001b[39;49m\u001b[43mmax_iter\u001b[49m\u001b[43m,\u001b[49m\n\u001b[1;32m   1021\u001b[0m \u001b[43m    \u001b[49m\u001b[43mrandom_state\u001b[49m\u001b[38;5;241;43m=\u001b[39;49m\u001b[38;5;28;43mself\u001b[39;49m\u001b[38;5;241;43m.\u001b[39;49m\u001b[43mrandom_state\u001b[49m\u001b[43m,\u001b[49m\n\u001b[1;32m   1022\u001b[0m \u001b[43m    \u001b[49m\u001b[43mselection\u001b[49m\u001b[38;5;241;43m=\u001b[39;49m\u001b[38;5;28;43mself\u001b[39;49m\u001b[38;5;241;43m.\u001b[39;49m\u001b[43mselection\u001b[49m\u001b[43m,\u001b[49m\n\u001b[1;32m   1023\u001b[0m \u001b[43m    \u001b[49m\u001b[43msample_weight\u001b[49m\u001b[38;5;241;43m=\u001b[39;49m\u001b[43msample_weight\u001b[49m\u001b[43m,\u001b[49m\n\u001b[1;32m   1024\u001b[0m \u001b[43m\u001b[49m\u001b[43m)\u001b[49m\n\u001b[1;32m   1025\u001b[0m coef_[k] \u001b[38;5;241m=\u001b[39m this_coef[:, \u001b[38;5;241m0\u001b[39m]\n\u001b[1;32m   1026\u001b[0m dual_gaps_[k] \u001b[38;5;241m=\u001b[39m this_dual_gap[\u001b[38;5;241m0\u001b[39m]\n",
      "File \u001b[0;32m~/miniconda3/envs/RecSysPD/lib/python3.8/site-packages/sklearn/linear_model/_coordinate_descent.py:589\u001b[0m, in \u001b[0;36menet_path\u001b[0;34m(X, y, l1_ratio, eps, n_alphas, alphas, precompute, Xy, copy_X, coef_init, verbose, return_n_iter, positive, check_input, **params)\u001b[0m\n\u001b[1;32m    587\u001b[0m l2_reg \u001b[38;5;241m=\u001b[39m alpha \u001b[38;5;241m*\u001b[39m (\u001b[38;5;241m1.0\u001b[39m \u001b[38;5;241m-\u001b[39m l1_ratio) \u001b[38;5;241m*\u001b[39m n_samples\n\u001b[1;32m    588\u001b[0m \u001b[38;5;28;01mif\u001b[39;00m \u001b[38;5;129;01mnot\u001b[39;00m multi_output \u001b[38;5;129;01mand\u001b[39;00m sparse\u001b[38;5;241m.\u001b[39missparse(X):\n\u001b[0;32m--> 589\u001b[0m     model \u001b[38;5;241m=\u001b[39m \u001b[43mcd_fast\u001b[49m\u001b[38;5;241;43m.\u001b[39;49m\u001b[43msparse_enet_coordinate_descent\u001b[49m\u001b[43m(\u001b[49m\n\u001b[1;32m    590\u001b[0m \u001b[43m        \u001b[49m\u001b[43mw\u001b[49m\u001b[38;5;241;43m=\u001b[39;49m\u001b[43mcoef_\u001b[49m\u001b[43m,\u001b[49m\n\u001b[1;32m    591\u001b[0m \u001b[43m        \u001b[49m\u001b[43malpha\u001b[49m\u001b[38;5;241;43m=\u001b[39;49m\u001b[43ml1_reg\u001b[49m\u001b[43m,\u001b[49m\n\u001b[1;32m    592\u001b[0m \u001b[43m        \u001b[49m\u001b[43mbeta\u001b[49m\u001b[38;5;241;43m=\u001b[39;49m\u001b[43ml2_reg\u001b[49m\u001b[43m,\u001b[49m\n\u001b[1;32m    593\u001b[0m \u001b[43m        \u001b[49m\u001b[43mX_data\u001b[49m\u001b[38;5;241;43m=\u001b[39;49m\u001b[43mX\u001b[49m\u001b[38;5;241;43m.\u001b[39;49m\u001b[43mdata\u001b[49m\u001b[43m,\u001b[49m\n\u001b[1;32m    594\u001b[0m \u001b[43m        \u001b[49m\u001b[43mX_indices\u001b[49m\u001b[38;5;241;43m=\u001b[39;49m\u001b[43mX\u001b[49m\u001b[38;5;241;43m.\u001b[39;49m\u001b[43mindices\u001b[49m\u001b[43m,\u001b[49m\n\u001b[1;32m    595\u001b[0m \u001b[43m        \u001b[49m\u001b[43mX_indptr\u001b[49m\u001b[38;5;241;43m=\u001b[39;49m\u001b[43mX\u001b[49m\u001b[38;5;241;43m.\u001b[39;49m\u001b[43mindptr\u001b[49m\u001b[43m,\u001b[49m\n\u001b[1;32m    596\u001b[0m \u001b[43m        \u001b[49m\u001b[43my\u001b[49m\u001b[38;5;241;43m=\u001b[39;49m\u001b[43my\u001b[49m\u001b[43m,\u001b[49m\n\u001b[1;32m    597\u001b[0m \u001b[43m        \u001b[49m\u001b[43msample_weight\u001b[49m\u001b[38;5;241;43m=\u001b[39;49m\u001b[43msample_weight\u001b[49m\u001b[43m,\u001b[49m\n\u001b[1;32m    598\u001b[0m \u001b[43m        \u001b[49m\u001b[43mX_mean\u001b[49m\u001b[38;5;241;43m=\u001b[39;49m\u001b[43mX_sparse_scaling\u001b[49m\u001b[43m,\u001b[49m\n\u001b[1;32m    599\u001b[0m \u001b[43m        \u001b[49m\u001b[43mmax_iter\u001b[49m\u001b[38;5;241;43m=\u001b[39;49m\u001b[43mmax_iter\u001b[49m\u001b[43m,\u001b[49m\n\u001b[1;32m    600\u001b[0m \u001b[43m        \u001b[49m\u001b[43mtol\u001b[49m\u001b[38;5;241;43m=\u001b[39;49m\u001b[43mtol\u001b[49m\u001b[43m,\u001b[49m\n\u001b[1;32m    601\u001b[0m \u001b[43m        \u001b[49m\u001b[43mrng\u001b[49m\u001b[38;5;241;43m=\u001b[39;49m\u001b[43mrng\u001b[49m\u001b[43m,\u001b[49m\n\u001b[1;32m    602\u001b[0m \u001b[43m        \u001b[49m\u001b[43mrandom\u001b[49m\u001b[38;5;241;43m=\u001b[39;49m\u001b[43mrandom\u001b[49m\u001b[43m,\u001b[49m\n\u001b[1;32m    603\u001b[0m \u001b[43m        \u001b[49m\u001b[43mpositive\u001b[49m\u001b[38;5;241;43m=\u001b[39;49m\u001b[43mpositive\u001b[49m\u001b[43m,\u001b[49m\n\u001b[1;32m    604\u001b[0m \u001b[43m    \u001b[49m\u001b[43m)\u001b[49m\n\u001b[1;32m    605\u001b[0m \u001b[38;5;28;01melif\u001b[39;00m multi_output:\n\u001b[1;32m    606\u001b[0m     model \u001b[38;5;241m=\u001b[39m cd_fast\u001b[38;5;241m.\u001b[39menet_coordinate_descent_multi_task(\n\u001b[1;32m    607\u001b[0m         coef_, l1_reg, l2_reg, X, y, max_iter, tol, rng, random\n\u001b[1;32m    608\u001b[0m     )\n",
      "\u001b[0;31mKeyboardInterrupt\u001b[0m: "
     ]
    }
   ],
   "source": [
    "import optuna\n",
    "\n",
    "optuna_study = optuna.create_study(direction=\"maximize\")\n",
    "        \n",
    "save_results = SaveResults()\n",
    "        \n",
    "optuna_study.optimize(objective_function_2,\n",
    "                      callbacks=[save_results],\n",
    "                      n_trials = 100)"
   ]
  },
  {
   "cell_type": "code",
   "execution_count": 23,
   "metadata": {},
   "outputs": [
    {
     "name": "stdout",
     "output_type": "stream",
     "text": [
      "{'result': 0.0325512712360066, 'topK': 734.0, 'l1_ratio': 0.00012146265227371838, 'alpha': 0.0014665049349635376}\n"
     ]
    }
   ],
   "source": [
    "best_index = save_results.results_df[\"result\"].idxmax()\n",
    "best_hyperparams = save_results.results_df.loc[best_index].to_dict()\n",
    "print(best_hyperparams)"
   ]
  },
  {
   "cell_type": "code",
   "execution_count": 35,
   "metadata": {},
   "outputs": [
    {
     "name": "stdout",
     "output_type": "stream",
     "text": [
      "Best alpha: 0.0014665049349635376, l1_ratio: 0.00012146265227371838, topK: 734\n"
     ]
    }
   ],
   "source": [
    "# Let's retrain the model with the best hyperparameters and evaluate its accuracy on the test set\n",
    "alpha = best_hyperparams[\"alpha\"]\n",
    "l1_ratio = best_hyperparams[\"l1_ratio\"]\n",
    "topK = int(best_hyperparams[\"topK\"])\n",
    "print(\"Best alpha: {}, l1_ratio: {}, topK: {}\".format(alpha, l1_ratio, topK))\n",
    "\n",
    "newRecommender = SLIMElasticNetRecommender(URM_train_validation)"
   ]
  },
  {
   "cell_type": "code",
   "execution_count": 36,
   "metadata": {},
   "outputs": [
    {
     "name": "stdout",
     "output_type": "stream",
     "text": [
      "SLIMElasticNetRecommender: Processed 4017 (10.5%) in 5.00 min. Items per second: 13.39\n",
      "SLIMElasticNetRecommender: Processed 8049 (21.1%) in 10.00 min. Items per second: 13.41\n",
      "SLIMElasticNetRecommender: Processed 11994 (31.5%) in 15.00 min. Items per second: 13.32\n",
      "SLIMElasticNetRecommender: Processed 16066 (42.1%) in 20.00 min. Items per second: 13.39\n",
      "SLIMElasticNetRecommender: Processed 20110 (52.8%) in 25.00 min. Items per second: 13.40\n",
      "SLIMElasticNetRecommender: Processed 23821 (62.5%) in 30.00 min. Items per second: 13.23\n",
      "SLIMElasticNetRecommender: Processed 27413 (71.9%) in 35.00 min. Items per second: 13.05\n",
      "SLIMElasticNetRecommender: Processed 31027 (81.4%) in 40.01 min. Items per second: 12.93\n",
      "SLIMElasticNetRecommender: Processed 34774 (91.2%) in 45.01 min. Items per second: 12.88\n",
      "SLIMElasticNetRecommender: Processed 38121 (100.0%) in 49.82 min. Items per second: 12.75\n"
     ]
    }
   ],
   "source": [
    "newRecommender.fit(topK=topK, l1_ratio=l1_ratio, alpha=alpha)"
   ]
  },
  {
   "cell_type": "code",
   "execution_count": 38,
   "metadata": {},
   "outputs": [
    {
     "name": "stdout",
     "output_type": "stream",
     "text": [
      "EvaluatorHoldout: Processed 35595 (100.0%) in 44.40 sec. Users per second: 802\n"
     ]
    },
    {
     "data": {
      "text/plain": [
       "0.05697943464504593"
      ]
     },
     "execution_count": 38,
     "metadata": {},
     "output_type": "execute_result"
    }
   ],
   "source": [
    "result_dict, _ = evaluator_test.evaluateRecommender(newRecommender)\n",
    "\n",
    "best_MAP_test = result_dict.loc[10][\"MAP\"]\n",
    "\n",
    "best_MAP_test"
   ]
  },
  {
   "cell_type": "code",
   "execution_count": 37,
   "metadata": {},
   "outputs": [
    {
     "name": "stdout",
     "output_type": "stream",
     "text": [
      "   user_id\n",
      "0        0\n",
      "1        1\n",
      "2        2\n",
      "3        3\n",
      "4        4\n",
      "5        5\n",
      "6        6\n",
      "7        7\n",
      "8        8\n",
      "9        9\n"
     ]
    }
   ],
   "source": [
    "target_user = pd.read_csv(\"Dataset/data_target_users_test.csv\")\n",
    "print(target_user.head(10))"
   ]
  },
  {
   "cell_type": "code",
   "execution_count": 39,
   "metadata": {},
   "outputs": [],
   "source": [
    "user_id = target_user['user_id']\n",
    "recommendations = []\n",
    "for user in user_id:\n",
    "    recommendations.append(newRecommender.recommend(user, cutoff=10))\n",
    "\n",
    "# Saving in a submission file for the competition\n",
    "submission = pd.DataFrame(columns=['user_id', 'item_list'])\n",
    "submission['user_id'] = user_id\n",
    "# Convert list of recommendations into a space-separated string\n",
    "submission['item_list'] = [' '.join(map(str, recs)) for recs in recommendations]\n",
    "\n",
    "# Save the submission file\n",
    "submission.to_csv(\"submissions/slimnet_notWhole.csv\", index=False)"
   ]
  },
  {
   "cell_type": "markdown",
   "metadata": {},
   "source": [
    "# Let's improve our Slimnet model"
   ]
  },
  {
   "cell_type": "markdown",
   "metadata": {},
   "source": [
    "Now we'll split the model in two portion, in a 80-20 manner. Then, based on the previous results, I'll repeat the optuna process with a smaller hyperspace."
   ]
  },
  {
   "cell_type": "code",
   "execution_count": 3,
   "metadata": {},
   "outputs": [],
   "source": [
    "import os\n",
    "os.chdir('../')"
   ]
  },
  {
   "cell_type": "code",
   "execution_count": 4,
   "metadata": {},
   "outputs": [
    {
     "name": "stdout",
     "output_type": "stream",
     "text": [
      "   user_id  item_id  data\n",
      "0        0        0   1.0\n",
      "1        0        2   1.0\n",
      "2        0      120   1.0\n",
      "3        0      128   1.0\n",
      "4        0      211   1.0\n",
      "5        0      232   1.0\n",
      "6        0      282   1.0\n",
      "7        0      453   1.0\n",
      "8        0      458   1.0\n",
      "9        0      491   1.0\n"
     ]
    }
   ],
   "source": [
    "import numpy as np\n",
    "import pandas as pd\n",
    "import matplotlib.pyplot as plt\n",
    "\n",
    "data_train_path = \"Dataset/data_train.csv\"\n",
    "\n",
    "URM_all_dataframe = pd.read_csv(data_train_path)\n",
    "print(URM_all_dataframe.head(10))"
   ]
  },
  {
   "cell_type": "code",
   "execution_count": 6,
   "metadata": {},
   "outputs": [
    {
     "name": "stdout",
     "output_type": "stream",
     "text": [
      "Warning: 141 (0.39 %) of 35736 users have no sampled items\n",
      "EvaluatorHoldout: Ignoring 141 ( 0.4%) Users that have less than 1 test interactions\n"
     ]
    }
   ],
   "source": [
    "import numpy as np\n",
    "import scipy.sparse as sps\n",
    "from Data_manager.split_functions.split_train_validation_random_holdout import split_train_in_two_percentage_global_sample\n",
    "from Evaluation.Evaluator import EvaluatorHoldout\n",
    "\n",
    "\n",
    "\n",
    "URM_all = sps.coo_matrix((URM_all_dataframe['data'], (URM_all_dataframe['user_id'], URM_all_dataframe['item_id'])))\n",
    "URM_all = URM_all.tocsr()\n",
    "\n",
    "URM_train_validation, URM_test = split_train_in_two_percentage_global_sample(URM_all, train_percentage = 0.8)\n",
    "\n",
    "evaluator_test = EvaluatorHoldout(URM_test, cutoff_list=[10])"
   ]
  },
  {
   "cell_type": "markdown",
   "metadata": {},
   "source": [
    "## Optuna new test\n"
   ]
  },
  {
   "cell_type": "code",
   "execution_count": 11,
   "metadata": {},
   "outputs": [],
   "source": [
    "from Recommenders.SLIM.SLIMElasticNetRecommender import SLIMElasticNetRecommender\n",
    "\n",
    "def objective_function(trial):\n",
    "\n",
    "    params = {\n",
    "        \"topK\" : trial.suggest_int(\"topK\", 300, 800),  # Range ristretto\n",
    "        \"l1_ratio\" : trial.suggest_float(\"l1_ratio\", 1e-5, 1e-4, log=True),  # Distribuzione logaritmica\n",
    "        \"alpha\" : trial.suggest_float(\"alpha\", 0.001, 0.2, log=True),\n",
    "    }\n",
    "\n",
    "\n",
    "    MAP = 0\n",
    "    recommender = SLIMElasticNetRecommender(URM_train_validation)\n",
    "    recommender.fit(**params)\n",
    "\n",
    "    result_dict, _ = evaluator_test.evaluateRecommender(recommender)\n",
    "\n",
    "    MAP = result_dict.loc[10][\"MAP\"]\n",
    "    \n",
    "    return MAP"
   ]
  },
  {
   "cell_type": "code",
   "execution_count": 12,
   "metadata": {},
   "outputs": [],
   "source": [
    "class SaveResults(object):\n",
    "    \n",
    "    def __init__(self):\n",
    "        self.results_df = pd.DataFrame(columns = [\"result\"])\n",
    "    \n",
    "    def __call__(self, optuna_study, optuna_trial):\n",
    "        hyperparam_dict = optuna_trial.params.copy()\n",
    "        hyperparam_dict[\"result\"] = optuna_trial.values[0]\n",
    "        \n",
    "        self.results_df = pd.concat([self.results_df, pd.DataFrame([hyperparam_dict])], ignore_index=True)\n",
    "        self.results_df.to_csv(\"logs/Slimnet_optune2.csv\", index = False)"
   ]
  },
  {
   "cell_type": "code",
   "execution_count": 14,
   "metadata": {},
   "outputs": [
    {
     "name": "stderr",
     "output_type": "stream",
     "text": [
      "/Users/lucapagano/miniconda3/envs/RecSysPD/lib/python3.8/site-packages/optuna/_experimental.py:31: ExperimentalWarning: Argument ``multivariate`` is an experimental feature. The interface can change in the future.\n",
      "  warnings.warn(\n",
      "[I 2024-11-29 16:21:53,254] A new study created in memory with name: no-name-1d1c2e00-4293-42ac-acde-f3295fa00dc5\n"
     ]
    },
    {
     "name": "stdout",
     "output_type": "stream",
     "text": [
      "SLIMElasticNetRecommender: Processed 3361 ( 8.8%) in 5.00 min. Items per second: 11.20\n",
      "SLIMElasticNetRecommender: Processed 4077 (10.7%) in 5.00 min. Items per second: 13.58\n",
      "SLIMElasticNetRecommender: Processed 4792 (12.6%) in 5.00 min. Items per second: 15.97\n",
      "SLIMElasticNetRecommender: Processed 4893 (12.8%) in 5.00 min. Items per second: 16.30\n",
      "SLIMElasticNetRecommender: Processed 6646 (17.4%) in 10.00 min. Items per second: 11.07\n",
      "SLIMElasticNetRecommender: Processed 8038 (21.1%) in 10.00 min. Items per second: 13.39\n",
      "SLIMElasticNetRecommender: Processed 9473 (24.8%) in 10.00 min. Items per second: 15.78\n",
      "SLIMElasticNetRecommender: Processed 9669 (25.4%) in 10.00 min. Items per second: 16.11\n",
      "SLIMElasticNetRecommender: Processed 10071 (26.4%) in 15.00 min. Items per second: 11.19\n",
      "SLIMElasticNetRecommender: Processed 14273 (37.4%) in 15.00 min. Items per second: 15.86\n",
      "SLIMElasticNetRecommender: Processed 14634 (38.4%) in 15.00 min. Items per second: 16.26\n",
      "SLIMElasticNetRecommender: Processed 12139 (31.8%) in 15.00 min. Items per second: 13.48\n",
      "SLIMElasticNetRecommender: Processed 13457 (35.3%) in 20.00 min. Items per second: 11.21\n",
      "SLIMElasticNetRecommender: Processed 19727 (51.7%) in 20.00 min. Items per second: 16.44\n",
      "SLIMElasticNetRecommender: Processed 16275 (42.7%) in 20.00 min. Items per second: 13.56\n",
      "SLIMElasticNetRecommender: Processed 19155 (50.2%) in 20.00 min. Items per second: 15.96\n",
      "SLIMElasticNetRecommender: Processed 16862 (44.2%) in 25.00 min. Items per second: 11.24\n",
      "SLIMElasticNetRecommender: Processed 20387 (53.5%) in 25.00 min. Items per second: 13.59\n",
      "SLIMElasticNetRecommender: Processed 24082 (63.2%) in 25.00 min. Items per second: 16.05\n",
      "SLIMElasticNetRecommender: Processed 24820 (65.1%) in 25.00 min. Items per second: 16.54\n",
      "SLIMElasticNetRecommender: Processed 24715 (64.8%) in 30.00 min. Items per second: 13.73\n",
      "SLIMElasticNetRecommender: Processed 29378 (77.1%) in 30.00 min. Items per second: 16.32\n",
      "SLIMElasticNetRecommender: Processed 20499 (53.8%) in 30.01 min. Items per second: 11.39\n",
      "SLIMElasticNetRecommender: Processed 30316 (79.5%) in 30.01 min. Items per second: 16.84\n",
      "SLIMElasticNetRecommender: Processed 28806 (75.6%) in 35.00 min. Items per second: 13.71\n",
      "SLIMElasticNetRecommender: Processed 34494 (90.5%) in 35.01 min. Items per second: 16.42\n",
      "SLIMElasticNetRecommender: Processed 35746 (93.8%) in 35.01 min. Items per second: 17.02\n",
      "SLIMElasticNetRecommender: Processed 23923 (62.8%) in 35.01 min. Items per second: 11.39\n",
      "SLIMElasticNetRecommender: Processed 38121 (100.0%) in 37.15 min. Items per second: 17.10\n",
      "EvaluatorHoldout: Processed 35595 (100.0%) in 30.55 sec. Users per second: 1165\n"
     ]
    },
    {
     "name": "stderr",
     "output_type": "stream",
     "text": [
      "[I 2024-11-29 16:59:33,395] Trial 2 finished with value: 0.03244622037605513 and parameters: {'topK': 798, 'l1_ratio': 1.163097910281427e-05, 'alpha': 0.14929565196812855}. Best is trial 2 with value: 0.03244622037605513.\n"
     ]
    },
    {
     "name": "stdout",
     "output_type": "stream",
     "text": [
      "SLIMElasticNetRecommender: Processed 38121 (100.0%) in 38.52 min. Items per second: 16.49\n",
      "EvaluatorHoldout: Processed 35595 (100.0%) in 28.72 sec. Users per second: 1239\n"
     ]
    },
    {
     "name": "stderr",
     "output_type": "stream",
     "text": [
      "[I 2024-11-29 17:00:53,410] Trial 3 finished with value: 0.04154749641580495 and parameters: {'topK': 729, 'l1_ratio': 8.347557758290899e-05, 'alpha': 0.027661538414329983}. Best is trial 3 with value: 0.04154749641580495.\n"
     ]
    },
    {
     "name": "stdout",
     "output_type": "stream",
     "text": [
      "SLIMElasticNetRecommender: Processed 33007 (86.6%) in 40.01 min. Items per second: 13.75\n",
      "SLIMElasticNetRecommender: Processed 27275 (71.5%) in 40.01 min. Items per second: 11.36\n",
      "SLIMElasticNetRecommender: Processed 3460 ( 9.1%) in 5.00 min. Items per second: 11.53\n",
      "SLIMElasticNetRecommender: Processed 4553 (11.9%) in 5.00 min. Items per second: 15.17\n",
      "SLIMElasticNetRecommender: Processed 37094 (97.3%) in 45.01 min. Items per second: 13.74\n",
      "SLIMElasticNetRecommender: Processed 30547 (80.1%) in 45.01 min. Items per second: 11.31\n",
      "SLIMElasticNetRecommender: Processed 38121 (100.0%) in 46.26 min. Items per second: 13.73\n",
      "EvaluatorHoldout: Processed 35595 (100.0%) in 23.45 sec. Users per second: 1518\n"
     ]
    },
    {
     "name": "stderr",
     "output_type": "stream",
     "text": [
      "[I 2024-11-29 17:08:32,697] Trial 0 finished with value: 0.05471963803548121 and parameters: {'topK': 538, 'l1_ratio': 4.9426163115072966e-05, 'alpha': 0.002741375904328748}. Best is trial 0 with value: 0.05471963803548121.\n"
     ]
    },
    {
     "name": "stdout",
     "output_type": "stream",
     "text": [
      "SLIMElasticNetRecommender: Processed 7009 (18.4%) in 10.00 min. Items per second: 11.68\n",
      "SLIMElasticNetRecommender: Processed 9455 (24.8%) in 10.00 min. Items per second: 15.76\n",
      "SLIMElasticNetRecommender: Processed 34213 (89.7%) in 50.01 min. Items per second: 11.40\n",
      "SLIMElasticNetRecommender: Processed 5466 (14.3%) in 5.00 min. Items per second: 18.22\n",
      "SLIMElasticNetRecommender: Processed 10910 (28.6%) in 15.00 min. Items per second: 12.12\n",
      "SLIMElasticNetRecommender: Processed 14621 (38.4%) in 15.00 min. Items per second: 16.24\n",
      "SLIMElasticNetRecommender: Processed 37867 (99.3%) in 55.01 min. Items per second: 11.47\n",
      "SLIMElasticNetRecommender: Processed 38121 (100.0%) in 55.37 min. Items per second: 11.47\n",
      "EvaluatorHoldout: Processed 35595 (100.0%) in 24.84 sec. Users per second: 1433\n"
     ]
    },
    {
     "name": "stderr",
     "output_type": "stream",
     "text": [
      "[I 2024-11-29 17:17:40,719] Trial 1 finished with value: 0.056353419309380266 and parameters: {'topK': 608, 'l1_ratio': 1.0538593699690003e-05, 'alpha': 0.001866054512804347}. Best is trial 1 with value: 0.056353419309380266.\n"
     ]
    },
    {
     "name": "stdout",
     "output_type": "stream",
     "text": [
      "SLIMElasticNetRecommender: Processed 10754 (28.2%) in 10.00 min. Items per second: 17.92\n",
      "SLIMElasticNetRecommender: Processed 14724 (38.6%) in 20.00 min. Items per second: 12.27\n",
      "SLIMElasticNetRecommender: Processed 19963 (52.4%) in 20.00 min. Items per second: 16.63\n",
      "SLIMElasticNetRecommender: Processed 4942 (13.0%) in 5.00 min. Items per second: 16.47\n",
      "SLIMElasticNetRecommender: Processed 16296 (42.7%) in 15.00 min. Items per second: 18.10\n",
      "SLIMElasticNetRecommender: Processed 18558 (48.7%) in 25.00 min. Items per second: 12.37\n",
      "SLIMElasticNetRecommender: Processed 25149 (66.0%) in 25.00 min. Items per second: 16.76\n",
      "SLIMElasticNetRecommender: Processed 9747 (25.6%) in 10.00 min. Items per second: 16.24\n",
      "SLIMElasticNetRecommender: Processed 21797 (57.2%) in 20.00 min. Items per second: 18.16\n",
      "SLIMElasticNetRecommender: Processed 22330 (58.6%) in 30.01 min. Items per second: 12.40\n",
      "SLIMElasticNetRecommender: Processed 30411 (79.8%) in 30.00 min. Items per second: 16.89\n",
      "SLIMElasticNetRecommender: Processed 14597 (38.3%) in 15.00 min. Items per second: 16.22\n",
      "SLIMElasticNetRecommender: Processed 27413 (71.9%) in 25.00 min. Items per second: 18.27\n",
      "SLIMElasticNetRecommender: Processed 26156 (68.6%) in 35.01 min. Items per second: 12.45\n",
      "SLIMElasticNetRecommender: Processed 36026 (94.5%) in 35.00 min. Items per second: 17.15\n",
      "SLIMElasticNetRecommender: Processed 19680 (51.6%) in 20.00 min. Items per second: 16.40\n",
      "SLIMElasticNetRecommender: Processed 38121 (100.0%) in 36.81 min. Items per second: 17.26\n",
      "EvaluatorHoldout: Processed 35595 (100.0%) in 27.97 sec. Users per second: 1272\n"
     ]
    },
    {
     "name": "stderr",
     "output_type": "stream",
     "text": [
      "[I 2024-11-29 17:38:10,248] Trial 5 finished with value: 0.034919195669089104 and parameters: {'topK': 641, 'l1_ratio': 8.390413779899312e-05, 'alpha': 0.09001867428140549}. Best is trial 1 with value: 0.056353419309380266.\n"
     ]
    },
    {
     "name": "stdout",
     "output_type": "stream",
     "text": [
      "SLIMElasticNetRecommender: Processed 33279 (87.3%) in 30.00 min. Items per second: 18.49\n",
      "SLIMElasticNetRecommender: Processed 30007 (78.7%) in 40.01 min. Items per second: 12.50\n",
      "SLIMElasticNetRecommender: Processed 38121 (100.0%) in 34.11 min. Items per second: 18.63\n",
      "SLIMElasticNetRecommender: Processed 24626 (64.6%) in 25.00 min. Items per second: 16.41\n",
      "EvaluatorHoldout: Processed 35595 (100.0%) in 24.76 sec. Users per second: 1438\n"
     ]
    },
    {
     "name": "stderr",
     "output_type": "stream",
     "text": [
      "[I 2024-11-29 17:43:04,158] Trial 6 finished with value: 0.03459348891965726 and parameters: {'topK': 431, 'l1_ratio': 7.256012818633235e-05, 'alpha': 0.11232963941483616}. Best is trial 1 with value: 0.056353419309380266.\n"
     ]
    },
    {
     "name": "stdout",
     "output_type": "stream",
     "text": [
      "SLIMElasticNetRecommender: Processed 5073 (13.3%) in 5.00 min. Items per second: 16.90\n",
      "SLIMElasticNetRecommender: Processed 33949 (89.1%) in 45.01 min. Items per second: 12.57\n",
      "SLIMElasticNetRecommender: Processed 29677 (77.8%) in 30.00 min. Items per second: 16.48\n",
      "SLIMElasticNetRecommender: Processed 4551 (11.9%) in 5.00 min. Items per second: 15.16\n",
      "SLIMElasticNetRecommender: Processed 10060 (26.4%) in 10.00 min. Items per second: 16.76\n",
      "SLIMElasticNetRecommender: Processed 37659 (98.8%) in 50.01 min. Items per second: 12.55\n",
      "SLIMElasticNetRecommender: Processed 38121 (100.0%) in 50.63 min. Items per second: 12.55\n",
      "EvaluatorHoldout: Processed 35595 (100.0%) in 26.21 sec. Users per second: 1358\n"
     ]
    },
    {
     "name": "stderr",
     "output_type": "stream",
     "text": [
      "[I 2024-11-29 17:50:37,672] Trial 4 finished with value: 0.05606538616757551 and parameters: {'topK': 746, 'l1_ratio': 1.7079329095455382e-05, 'alpha': 0.0019917578307937717}. Best is trial 1 with value: 0.056353419309380266.\n"
     ]
    },
    {
     "name": "stdout",
     "output_type": "stream",
     "text": [
      "SLIMElasticNetRecommender: Processed 34792 (91.3%) in 35.00 min. Items per second: 16.57\n",
      "SLIMElasticNetRecommender: Processed 9165 (24.0%) in 10.00 min. Items per second: 15.27\n",
      "SLIMElasticNetRecommender: Processed 15200 (39.9%) in 15.00 min. Items per second: 16.89\n",
      "SLIMElasticNetRecommender: Processed 4385 (11.5%) in 5.00 min. Items per second: 14.61\n",
      "SLIMElasticNetRecommender: Processed 38121 (100.0%) in 38.23 min. Items per second: 16.62\n",
      "EvaluatorHoldout: Processed 35595 (100.0%) in 26.21 sec. Users per second: 1358\n"
     ]
    },
    {
     "name": "stderr",
     "output_type": "stream",
     "text": [
      "[I 2024-11-29 17:56:21,201] Trial 7 finished with value: 0.04558934284956032 and parameters: {'topK': 646, 'l1_ratio': 5.7451226211573666e-05, 'alpha': 0.014480298075074196}. Best is trial 1 with value: 0.056353419309380266.\n"
     ]
    },
    {
     "name": "stdout",
     "output_type": "stream",
     "text": [
      "SLIMElasticNetRecommender: Processed 13845 (36.3%) in 15.00 min. Items per second: 15.38\n",
      "SLIMElasticNetRecommender: Processed 20527 (53.8%) in 20.00 min. Items per second: 17.10\n",
      "SLIMElasticNetRecommender: Processed 8783 (23.0%) in 10.00 min. Items per second: 14.64\n",
      "SLIMElasticNetRecommender: Processed 4852 (12.7%) in 5.00 min. Items per second: 16.17\n",
      "SLIMElasticNetRecommender: Processed 18635 (48.9%) in 20.00 min. Items per second: 15.53\n",
      "SLIMElasticNetRecommender: Processed 25886 (67.9%) in 25.00 min. Items per second: 17.25\n",
      "SLIMElasticNetRecommender: Processed 13267 (34.8%) in 15.00 min. Items per second: 14.74\n",
      "SLIMElasticNetRecommender: Processed 9706 (25.5%) in 10.00 min. Items per second: 16.17\n",
      "SLIMElasticNetRecommender: Processed 23480 (61.6%) in 25.00 min. Items per second: 15.65\n",
      "SLIMElasticNetRecommender: Processed 31385 (82.3%) in 30.00 min. Items per second: 17.43\n",
      "SLIMElasticNetRecommender: Processed 17747 (46.6%) in 20.00 min. Items per second: 14.79\n",
      "SLIMElasticNetRecommender: Processed 14574 (38.2%) in 15.00 min. Items per second: 16.19\n",
      "SLIMElasticNetRecommender: Processed 28172 (73.9%) in 30.01 min. Items per second: 15.65\n",
      "SLIMElasticNetRecommender: Processed 36974 (97.0%) in 35.00 min. Items per second: 17.60\n",
      "SLIMElasticNetRecommender: Processed 38121 (100.0%) in 36.03 min. Items per second: 17.63\n",
      "EvaluatorHoldout: Processed 35595 (100.0%) in 25.35 sec. Users per second: 1404\n"
     ]
    },
    {
     "name": "stderr",
     "output_type": "stream",
     "text": [
      "[I 2024-11-29 18:14:37,509] Trial 8 finished with value: 0.03633739021665579 and parameters: {'topK': 520, 'l1_ratio': 3.142657424597051e-05, 'alpha': 0.0741122051469697}. Best is trial 1 with value: 0.056353419309380266.\n"
     ]
    },
    {
     "name": "stdout",
     "output_type": "stream",
     "text": [
      "SLIMElasticNetRecommender: Processed 22267 (58.4%) in 25.00 min. Items per second: 14.84\n",
      "SLIMElasticNetRecommender: Processed 19506 (51.2%) in 20.00 min. Items per second: 16.25\n",
      "SLIMElasticNetRecommender: Processed 32978 (86.5%) in 35.01 min. Items per second: 15.70\n",
      "SLIMElasticNetRecommender: Processed 5029 (13.2%) in 5.00 min. Items per second: 16.76\n",
      "SLIMElasticNetRecommender: Processed 26757 (70.2%) in 30.00 min. Items per second: 14.86\n",
      "SLIMElasticNetRecommender: Processed 24444 (64.1%) in 25.00 min. Items per second: 16.29\n",
      "SLIMElasticNetRecommender: Processed 37754 (99.0%) in 40.01 min. Items per second: 15.73\n",
      "SLIMElasticNetRecommender: Processed 38121 (100.0%) in 40.37 min. Items per second: 15.74\n",
      "EvaluatorHoldout: Processed 35595 (100.0%) in 19.88 sec. Users per second: 1790\n"
     ]
    },
    {
     "name": "stderr",
     "output_type": "stream",
     "text": [
      "[I 2024-11-29 18:23:46,337] Trial 9 finished with value: 0.04920134136905997 and parameters: {'topK': 312, 'l1_ratio': 3.7222989148069846e-05, 'alpha': 0.008390028532104011}. Best is trial 1 with value: 0.056353419309380266.\n"
     ]
    },
    {
     "name": "stdout",
     "output_type": "stream",
     "text": [
      "SLIMElasticNetRecommender: Processed 10119 (26.5%) in 10.00 min. Items per second: 16.86\n",
      "SLIMElasticNetRecommender: Processed 31414 (82.4%) in 35.00 min. Items per second: 14.96\n",
      "SLIMElasticNetRecommender: Processed 29663 (77.8%) in 30.00 min. Items per second: 16.48\n",
      "SLIMElasticNetRecommender: Processed 4003 (10.5%) in 5.00 min. Items per second: 13.34\n",
      "SLIMElasticNetRecommender: Processed 15381 (40.3%) in 15.00 min. Items per second: 17.09\n",
      "SLIMElasticNetRecommender: Processed 36197 (95.0%) in 40.00 min. Items per second: 15.08\n",
      "SLIMElasticNetRecommender: Processed 34984 (91.8%) in 35.00 min. Items per second: 16.66\n",
      "SLIMElasticNetRecommender: Processed 38121 (100.0%) in 42.01 min. Items per second: 15.12\n",
      "EvaluatorHoldout: Processed 35595 (100.0%) in 21.70 sec. Users per second: 1640\n"
     ]
    },
    {
     "name": "stderr",
     "output_type": "stream",
     "text": [
      "[I 2024-11-29 18:33:00,261] Trial 10 finished with value: 0.04183272909294677 and parameters: {'topK': 342, 'l1_ratio': 5.889498879782151e-05, 'alpha': 0.03033750188685329}. Best is trial 1 with value: 0.056353419309380266.\n"
     ]
    },
    {
     "name": "stdout",
     "output_type": "stream",
     "text": [
      "SLIMElasticNetRecommender: Processed 7923 (20.8%) in 10.00 min. Items per second: 13.20\n",
      "SLIMElasticNetRecommender: Processed 38121 (100.0%) in 37.95 min. Items per second: 16.74\n",
      "SLIMElasticNetRecommender: Processed 20745 (54.4%) in 20.00 min. Items per second: 17.28\n",
      "EvaluatorHoldout: Processed 35595 (100.0%) in 23.51 sec. Users per second: 1514\n"
     ]
    },
    {
     "name": "stderr",
     "output_type": "stream",
     "text": [
      "[I 2024-11-29 18:34:42,093] Trial 11 finished with value: 0.03838391895597826 and parameters: {'topK': 422, 'l1_ratio': 2.8693645989479266e-05, 'alpha': 0.05296431250436037}. Best is trial 1 with value: 0.056353419309380266.\n"
     ]
    },
    {
     "name": "stdout",
     "output_type": "stream",
     "text": [
      "SLIMElasticNetRecommender: Processed 3547 ( 9.3%) in 5.00 min. Items per second: 11.82\n",
      "SLIMElasticNetRecommender: Processed 11925 (31.3%) in 15.00 min. Items per second: 13.25\n",
      "SLIMElasticNetRecommender: Processed 26239 (68.8%) in 25.00 min. Items per second: 17.49\n",
      "SLIMElasticNetRecommender: Processed 3728 ( 9.8%) in 5.00 min. Items per second: 12.42\n",
      "SLIMElasticNetRecommender: Processed 7246 (19.0%) in 10.00 min. Items per second: 12.07\n",
      "SLIMElasticNetRecommender: Processed 16113 (42.3%) in 20.00 min. Items per second: 13.42\n",
      "SLIMElasticNetRecommender: Processed 31976 (83.9%) in 30.00 min. Items per second: 17.76\n",
      "SLIMElasticNetRecommender: Processed 7565 (19.8%) in 10.00 min. Items per second: 12.61\n",
      "SLIMElasticNetRecommender: Processed 10901 (28.6%) in 15.00 min. Items per second: 12.11\n",
      "SLIMElasticNetRecommender: Processed 20253 (53.1%) in 25.00 min. Items per second: 13.50\n",
      "SLIMElasticNetRecommender: Processed 37811 (99.2%) in 35.00 min. Items per second: 18.00\n",
      "SLIMElasticNetRecommender: Processed 11272 (29.6%) in 15.00 min. Items per second: 12.52\n",
      "SLIMElasticNetRecommender: Processed 38121 (100.0%) in 35.27 min. Items per second: 18.01\n",
      "EvaluatorHoldout: Processed 35595 (100.0%) in 29.44 sec. Users per second: 1209\n"
     ]
    },
    {
     "name": "stderr",
     "output_type": "stream",
     "text": [
      "[I 2024-11-29 18:50:23,821] Trial 12 finished with value: 0.03280103991776877 and parameters: {'topK': 799, 'l1_ratio': 3.334583803618099e-05, 'alpha': 0.13423213022877548}. Best is trial 1 with value: 0.056353419309380266.\n"
     ]
    },
    {
     "name": "stdout",
     "output_type": "stream",
     "text": [
      "SLIMElasticNetRecommender: Processed 14431 (37.9%) in 20.00 min. Items per second: 12.02\n",
      "SLIMElasticNetRecommender: Processed 24240 (63.6%) in 30.00 min. Items per second: 13.46\n",
      "SLIMElasticNetRecommender: Processed 14967 (39.3%) in 20.00 min. Items per second: 12.47\n",
      "SLIMElasticNetRecommender: Processed 3557 ( 9.3%) in 5.00 min. Items per second: 11.85\n",
      "SLIMElasticNetRecommender: Processed 17971 (47.1%) in 25.00 min. Items per second: 11.98\n",
      "SLIMElasticNetRecommender: Processed 28226 (74.0%) in 35.00 min. Items per second: 13.44\n",
      "SLIMElasticNetRecommender: Processed 18639 (48.9%) in 25.00 min. Items per second: 12.42\n",
      "SLIMElasticNetRecommender: Processed 7114 (18.7%) in 10.00 min. Items per second: 11.85\n",
      "SLIMElasticNetRecommender: Processed 21537 (56.5%) in 30.00 min. Items per second: 11.96\n",
      "SLIMElasticNetRecommender: Processed 32257 (84.6%) in 40.01 min. Items per second: 13.44\n",
      "SLIMElasticNetRecommender: Processed 22326 (58.6%) in 30.00 min. Items per second: 12.40\n",
      "SLIMElasticNetRecommender: Processed 10650 (27.9%) in 15.00 min. Items per second: 11.83\n",
      "SLIMElasticNetRecommender: Processed 23377 (61.3%) in 38.71 min. Items per second: 10.06\n",
      "SLIMElasticNetRecommender: Processed 10787 (28.3%) in 21.32 min. Items per second: 8.43\n",
      "SLIMElasticNetRecommender: Processed 33746 (88.5%) in 47.95 min. Items per second: 11.73\n",
      "SLIMElasticNetRecommender: Processed 22967 (60.2%) in 37.02 min. Items per second: 10.34\n",
      "SLIMElasticNetRecommender: Processed 35144 (92.2%) in 52.99 min. Items per second: 11.05\n",
      "SLIMElasticNetRecommender: Processed 11979 (31.4%) in 26.36 min. Items per second: 7.57\n",
      "SLIMElasticNetRecommender: Processed 24239 (63.6%) in 42.06 min. Items per second: 9.60\n",
      "SLIMElasticNetRecommender: Processed 24599 (64.5%) in 43.76 min. Items per second: 9.37\n",
      "SLIMElasticNetRecommender: Processed 24491 (64.2%) in 53.93 min. Items per second: 7.57\n",
      "SLIMElasticNetRecommender: Processed 35424 (92.9%) in 1.08 hour. Items per second: 9.10\n",
      "SLIMElasticNetRecommender: Processed 12238 (32.1%) in 38.23 min. Items per second: 5.33\n",
      "SLIMElasticNetRecommender: Processed 24858 (65.2%) in 55.63 min. Items per second: 7.45\n",
      "SLIMElasticNetRecommender: Processed 25273 (66.3%) in 1.02 hour. Items per second: 6.91\n",
      "SLIMElasticNetRecommender: Processed 35904 (94.2%) in 1.17 hour. Items per second: 8.53\n",
      "SLIMElasticNetRecommender: Processed 12652 (33.2%) in 43.53 min. Items per second: 4.84\n",
      "SLIMElasticNetRecommender: Processed 24928 (65.4%) in 59.23 min. Items per second: 7.01\n",
      "SLIMElasticNetRecommender: Processed 13365 (35.1%) in 51.59 min. Items per second: 4.32\n",
      "SLIMElasticNetRecommender: Processed 25627 (67.2%) in 1.12 hour. Items per second: 6.35\n",
      "SLIMElasticNetRecommender: Processed 25918 (68.0%) in 1.15 hour. Items per second: 6.26\n",
      "SLIMElasticNetRecommender: Processed 36703 (96.3%) in 1.30 hour. Items per second: 7.82\n",
      "SLIMElasticNetRecommender: Processed 36977 (97.0%) in 1.40 hour. Items per second: 7.35\n",
      "SLIMElasticNetRecommender: Processed 13618 (35.7%) in 57.25 min. Items per second: 3.96\n",
      "SLIMElasticNetRecommender: Processed 26164 (68.6%) in 1.24 hour. Items per second: 5.84\n",
      "SLIMElasticNetRecommender: Processed 25882 (67.9%) in 1.22 hour. Items per second: 5.91\n",
      "SLIMElasticNetRecommender: Processed 38121 (100.0%) in 1.43 hour. Items per second: 7.43\n",
      "EvaluatorHoldout: Processed 35595 (100.0%) in 25.10 sec. Users per second: 1418\n"
     ]
    },
    {
     "name": "stderr",
     "output_type": "stream",
     "text": [
      "[I 2024-11-29 19:49:45,153] Trial 13 finished with value: 0.05243661941997218 and parameters: {'topK': 530, 'l1_ratio': 1.2728048703850778e-05, 'alpha': 0.00440850112398156}. Best is trial 1 with value: 0.056353419309380266.\n"
     ]
    },
    {
     "name": "stdout",
     "output_type": "stream",
     "text": [
      "SLIMElasticNetRecommender: Processed 16101 (42.2%) in 1.04 hour. Items per second: 4.31\n",
      "SLIMElasticNetRecommender: Processed 28507 (74.8%) in 1.33 hour. Items per second: 5.97\n",
      "SLIMElasticNetRecommender: Processed 28413 (74.5%) in 1.30 hour. Items per second: 6.08\n",
      "SLIMElasticNetRecommender: Processed 2437 ( 6.4%) in 5.00 min. Items per second: 8.12\n",
      "SLIMElasticNetRecommender: Processed 19044 (50.0%) in 1.12 hour. Items per second: 4.72\n",
      "SLIMElasticNetRecommender: Processed 31458 (82.5%) in 1.41 hour. Items per second: 6.19\n",
      "SLIMElasticNetRecommender: Processed 31462 (82.5%) in 1.38 hour. Items per second: 6.32\n",
      "SLIMElasticNetRecommender: Processed 5266 (13.8%) in 10.00 min. Items per second: 8.77\n",
      "SLIMElasticNetRecommender: Processed 33670 (88.3%) in 1.49 hour. Items per second: 6.26\n",
      "SLIMElasticNetRecommender: Processed 21248 (55.7%) in 1.20 hour. Items per second: 4.90\n",
      "SLIMElasticNetRecommender: Processed 33798 (88.7%) in 1.47 hour. Items per second: 6.40\n",
      "SLIMElasticNetRecommender: Processed 7289 (19.1%) in 15.00 min. Items per second: 8.10\n",
      "SLIMElasticNetRecommender: Processed 35601 (93.4%) in 1.58 hour. Items per second: 6.27\n",
      "SLIMElasticNetRecommender: Processed 23162 (60.8%) in 1.29 hour. Items per second: 5.00\n",
      "SLIMElasticNetRecommender: Processed 35844 (94.0%) in 1.55 hour. Items per second: 6.43\n",
      "SLIMElasticNetRecommender: Processed 9223 (24.2%) in 20.01 min. Items per second: 7.68\n",
      "SLIMElasticNetRecommender: Processed 37407 (98.1%) in 1.66 hour. Items per second: 6.26\n",
      "SLIMElasticNetRecommender: Processed 24942 (65.4%) in 1.37 hour. Items per second: 5.05\n",
      "SLIMElasticNetRecommender: Processed 37737 (99.0%) in 1.63 hour. Items per second: 6.42\n",
      "SLIMElasticNetRecommender: Processed 38121 (100.0%) in 1.65 hour. Items per second: 6.42\n"
     ]
    },
    {
     "name": "stderr",
     "output_type": "stream",
     "text": [
      "/Users/lucapagano/miniconda3/envs/RecSysPD/lib/python3.8/site-packages/sklearn/linear_model/_coordinate_descent.py:589: ConvergenceWarning: Objective did not converge. You might want to increase the number of iterations. Duality gap: 1.7862721681594849, tolerance: 0.06379999965429306\n",
      "  model = cd_fast.sparse_enet_coordinate_descent(\n",
      "/Users/lucapagano/miniconda3/envs/RecSysPD/lib/python3.8/site-packages/sklearn/linear_model/_coordinate_descent.py:589: ConvergenceWarning: Objective did not converge. You might want to increase the number of iterations. Duality gap: 0.11800127476453781, tolerance: 0.03909999877214432\n",
      "  model = cd_fast.sparse_enet_coordinate_descent(\n",
      "/Users/lucapagano/miniconda3/envs/RecSysPD/lib/python3.8/site-packages/sklearn/linear_model/_coordinate_descent.py:589: ConvergenceWarning: Objective did not converge. You might want to increase the number of iterations. Duality gap: 0.04743358492851257, tolerance: 0.021299999207258224\n",
      "  model = cd_fast.sparse_enet_coordinate_descent(\n",
      "/Users/lucapagano/miniconda3/envs/RecSysPD/lib/python3.8/site-packages/sklearn/linear_model/_coordinate_descent.py:589: ConvergenceWarning: Objective did not converge. You might want to increase the number of iterations. Duality gap: 0.6473323702812195, tolerance: 0.10379999876022339\n",
      "  model = cd_fast.sparse_enet_coordinate_descent(\n",
      "/Users/lucapagano/miniconda3/envs/RecSysPD/lib/python3.8/site-packages/sklearn/linear_model/_coordinate_descent.py:589: ConvergenceWarning: Objective did not converge. You might want to increase the number of iterations. Duality gap: 0.11220216751098633, tolerance: 0.039799999445676804\n",
      "  model = cd_fast.sparse_enet_coordinate_descent(\n"
     ]
    },
    {
     "name": "stdout",
     "output_type": "stream",
     "text": [
      "EvaluatorHoldout: Processed 35595 (100.0%) in 29.75 sec. Users per second: 1196\n"
     ]
    },
    {
     "name": "stderr",
     "output_type": "stream",
     "text": [
      "/Users/lucapagano/miniconda3/envs/RecSysPD/lib/python3.8/site-packages/sklearn/linear_model/_coordinate_descent.py:589: ConvergenceWarning: Objective did not converge. You might want to increase the number of iterations. Duality gap: 3.7403388023376465, tolerance: 0.05849999934434891\n",
      "  model = cd_fast.sparse_enet_coordinate_descent(\n",
      "[I 2024-11-29 20:14:09,972] Trial 15 finished with value: 0.05448745811008584 and parameters: {'topK': 638, 'l1_ratio': 1.203446596270446e-05, 'alpha': 0.0028520147362317057}. Best is trial 1 with value: 0.056353419309380266.\n"
     ]
    },
    {
     "name": "stdout",
     "output_type": "stream",
     "text": [
      "SLIMElasticNetRecommender: Processed 38121 (100.0%) in 1.69 hour. Items per second: 6.25\n",
      "SLIMElasticNetRecommender: Processed 11111 (29.1%) in 25.01 min. Items per second: 7.40\n",
      "EvaluatorHoldout: Processed 35595 (100.0%) in 26.09 sec. Users per second: 1364\n"
     ]
    },
    {
     "name": "stderr",
     "output_type": "stream",
     "text": [
      "[I 2024-11-29 20:15:01,370] Trial 14 finished with value: 0.05661292271742975 and parameters: {'topK': 618, 'l1_ratio': 1.0698202234476407e-05, 'alpha': 0.001713740156107851}. Best is trial 14 with value: 0.05661292271742975.\n"
     ]
    },
    {
     "name": "stdout",
     "output_type": "stream",
     "text": [
      "SLIMElasticNetRecommender: Processed 27111 (71.1%) in 1.45 hour. Items per second: 5.18\n",
      "SLIMElasticNetRecommender: Processed 2463 ( 6.5%) in 5.00 min. Items per second: 8.20\n",
      "SLIMElasticNetRecommender: Processed 13561 (35.6%) in 30.01 min. Items per second: 7.53\n",
      "SLIMElasticNetRecommender: Processed 2957 ( 7.8%) in 5.00 min. Items per second: 9.85\n",
      "SLIMElasticNetRecommender: Processed 29149 (76.5%) in 1.54 hour. Items per second: 5.27\n",
      "SLIMElasticNetRecommender: Processed 4559 (12.0%) in 10.00 min. Items per second: 7.59\n",
      "SLIMElasticNetRecommender: Processed 15610 (40.9%) in 35.01 min. Items per second: 7.43\n",
      "SLIMElasticNetRecommender: Processed 5444 (14.3%) in 10.00 min. Items per second: 9.07\n",
      "SLIMElasticNetRecommender: Processed 30880 (81.0%) in 1.62 hour. Items per second: 5.29\n",
      "SLIMElasticNetRecommender: Processed 6377 (16.7%) in 15.00 min. Items per second: 7.08\n",
      "SLIMElasticNetRecommender: Processed 17426 (45.7%) in 40.01 min. Items per second: 7.26\n",
      "SLIMElasticNetRecommender: Processed 7670 (20.1%) in 15.00 min. Items per second: 8.52\n",
      "SLIMElasticNetRecommender: Processed 32643 (85.6%) in 1.70 hour. Items per second: 5.32\n",
      "SLIMElasticNetRecommender: Processed 8211 (21.5%) in 20.01 min. Items per second: 6.84\n",
      "SLIMElasticNetRecommender: Processed 19297 (50.6%) in 45.01 min. Items per second: 7.15\n",
      "SLIMElasticNetRecommender: Processed 9920 (26.0%) in 20.00 min. Items per second: 8.26\n",
      "SLIMElasticNetRecommender: Processed 34399 (90.2%) in 1.79 hour. Items per second: 5.35\n",
      "SLIMElasticNetRecommender: Processed 10200 (26.8%) in 25.01 min. Items per second: 6.80\n",
      "SLIMElasticNetRecommender: Processed 21268 (55.8%) in 50.01 min. Items per second: 7.09\n",
      "SLIMElasticNetRecommender: Processed 12301 (32.3%) in 25.00 min. Items per second: 8.20\n",
      "SLIMElasticNetRecommender: Processed 36250 (95.1%) in 1.87 hour. Items per second: 5.38\n",
      "SLIMElasticNetRecommender: Processed 11942 (31.3%) in 30.01 min. Items per second: 6.63\n",
      "SLIMElasticNetRecommender: Processed 23054 (60.5%) in 55.01 min. Items per second: 6.98\n",
      "SLIMElasticNetRecommender: Processed 14511 (38.1%) in 30.01 min. Items per second: 8.06\n",
      "SLIMElasticNetRecommender: Processed 37881 (99.4%) in 1.95 hour. Items per second: 5.38\n",
      "SLIMElasticNetRecommender: Processed 38121 (100.0%) in 1.97 hour. Items per second: 5.38\n",
      "EvaluatorHoldout: Processed 35595 (100.0%) in 30.44 sec. Users per second: 1169\n"
     ]
    },
    {
     "name": "stderr",
     "output_type": "stream",
     "text": [
      "[I 2024-11-29 20:48:54,038] Trial 16 finished with value: 0.05660675768176605 and parameters: {'topK': 665, 'l1_ratio': 1.0551681270996056e-05, 'alpha': 0.001683186481737685}. Best is trial 14 with value: 0.05661292271742975.\n"
     ]
    },
    {
     "name": "stdout",
     "output_type": "stream",
     "text": [
      "SLIMElasticNetRecommender: Processed 13714 (36.0%) in 35.01 min. Items per second: 6.53\n",
      "SLIMElasticNetRecommender: Processed 24825 (65.1%) in 1.00 hour. Items per second: 6.89\n",
      "SLIMElasticNetRecommender: Processed 16710 (43.8%) in 35.01 min. Items per second: 7.95\n",
      "SLIMElasticNetRecommender: Processed 1574 ( 4.1%) in 5.00 min. Items per second: 5.24\n",
      "SLIMElasticNetRecommender: Processed 15483 (40.6%) in 40.01 min. Items per second: 6.45\n",
      "SLIMElasticNetRecommender: Processed 26544 (69.6%) in 1.08 hour. Items per second: 6.80\n",
      "SLIMElasticNetRecommender: Processed 18875 (49.5%) in 40.01 min. Items per second: 7.86\n",
      "SLIMElasticNetRecommender: Processed 3447 ( 9.0%) in 10.00 min. Items per second: 5.74\n",
      "SLIMElasticNetRecommender: Processed 17606 (46.2%) in 45.01 min. Items per second: 6.52\n",
      "SLIMElasticNetRecommender: Processed 28620 (75.1%) in 1.17 hour. Items per second: 6.81\n",
      "SLIMElasticNetRecommender: Processed 21538 (56.5%) in 45.01 min. Items per second: 7.97\n",
      "SLIMElasticNetRecommender: Processed 5024 (13.2%) in 15.01 min. Items per second: 5.58\n",
      "SLIMElasticNetRecommender: Processed 19404 (50.9%) in 50.02 min. Items per second: 6.47\n",
      "SLIMElasticNetRecommender: Processed 30435 (79.8%) in 1.25 hour. Items per second: 6.76\n",
      "SLIMElasticNetRecommender: Processed 23758 (62.3%) in 50.01 min. Items per second: 7.92\n",
      "SLIMElasticNetRecommender: Processed 6602 (17.3%) in 20.01 min. Items per second: 5.50\n",
      "SLIMElasticNetRecommender: Processed 21174 (55.5%) in 55.02 min. Items per second: 6.41\n",
      "SLIMElasticNetRecommender: Processed 32222 (84.5%) in 1.33 hour. Items per second: 6.71\n",
      "SLIMElasticNetRecommender: Processed 25949 (68.1%) in 55.01 min. Items per second: 7.86\n",
      "SLIMElasticNetRecommender: Processed 8187 (21.5%) in 25.01 min. Items per second: 5.46\n",
      "SLIMElasticNetRecommender: Processed 22971 (60.3%) in 1.00 hour. Items per second: 6.38\n",
      "SLIMElasticNetRecommender: Processed 34069 (89.4%) in 1.42 hour. Items per second: 6.68\n",
      "SLIMElasticNetRecommender: Processed 28135 (73.8%) in 1.00 hour. Items per second: 7.81\n",
      "SLIMElasticNetRecommender: Processed 9972 (26.2%) in 30.01 min. Items per second: 5.54\n",
      "SLIMElasticNetRecommender: Processed 24947 (65.4%) in 1.08 hour. Items per second: 6.39\n",
      "SLIMElasticNetRecommender: Processed 36085 (94.7%) in 1.50 hour. Items per second: 6.68\n",
      "SLIMElasticNetRecommender: Processed 30599 (80.3%) in 1.08 hour. Items per second: 7.84\n",
      "SLIMElasticNetRecommender: Processed 11510 (30.2%) in 35.01 min. Items per second: 5.48\n",
      "SLIMElasticNetRecommender: Processed 26678 (70.0%) in 1.17 hour. Items per second: 6.35\n",
      "SLIMElasticNetRecommender: Processed 37871 (99.3%) in 1.58 hour. Items per second: 6.64\n",
      "SLIMElasticNetRecommender: Processed 32861 (86.2%) in 1.17 hour. Items per second: 7.82\n",
      "SLIMElasticNetRecommender: Processed 38121 (100.0%) in 1.60 hour. Items per second: 6.64\n",
      "EvaluatorHoldout: Processed 35595 (100.0%) in 32.68 sec. Users per second: 1089\n"
     ]
    },
    {
     "name": "stderr",
     "output_type": "stream",
     "text": [
      "[I 2024-11-29 21:26:01,073] Trial 17 finished with value: 0.055366193084901906 and parameters: {'topK': 783, 'l1_ratio': 1.2993672661684087e-05, 'alpha': 0.002368886119354067}. Best is trial 14 with value: 0.05661292271742975.\n"
     ]
    },
    {
     "name": "stdout",
     "output_type": "stream",
     "text": [
      "SLIMElasticNetRecommender: Processed 13101 (34.4%) in 40.01 min. Items per second: 5.46\n",
      "SLIMElasticNetRecommender: Processed 28382 (74.5%) in 1.25 hour. Items per second: 6.31\n",
      "SLIMElasticNetRecommender: Processed 35157 (92.2%) in 1.25 hour. Items per second: 7.81\n",
      "SLIMElasticNetRecommender: Processed 2255 ( 5.9%) in 5.00 min. Items per second: 7.51\n",
      "SLIMElasticNetRecommender: Processed 14685 (38.5%) in 45.01 min. Items per second: 5.44\n",
      "SLIMElasticNetRecommender: Processed 30171 (79.1%) in 1.33 hour. Items per second: 6.28\n",
      "SLIMElasticNetRecommender: Processed 37433 (98.2%) in 1.33 hour. Items per second: 7.80\n",
      "SLIMElasticNetRecommender: Processed 4540 (11.9%) in 10.00 min. Items per second: 7.56\n",
      "SLIMElasticNetRecommender: Processed 38121 (100.0%) in 1.36 hour. Items per second: 7.79\n",
      "EvaluatorHoldout: Processed 35595 (100.0%) in 29.58 sec. Users per second: 1203\n"
     ]
    },
    {
     "name": "stderr",
     "output_type": "stream",
     "text": [
      "[I 2024-11-29 21:37:03,172] Trial 19 finished with value: 0.045870765021837887 and parameters: {'topK': 700, 'l1_ratio': 1.072543545623973e-05, 'alpha': 0.013596286671601671}. Best is trial 14 with value: 0.05661292271742975.\n"
     ]
    },
    {
     "name": "stdout",
     "output_type": "stream",
     "text": [
      "SLIMElasticNetRecommender: Processed 16553 (43.4%) in 50.02 min. Items per second: 5.52\n",
      "SLIMElasticNetRecommender: Processed 32233 (84.6%) in 1.42 hour. Items per second: 6.32\n",
      "SLIMElasticNetRecommender: Processed 7074 (18.6%) in 15.00 min. Items per second: 7.86\n",
      "SLIMElasticNetRecommender: Processed 1811 ( 4.8%) in 5.00 min. Items per second: 6.03\n",
      "SLIMElasticNetRecommender: Processed 18100 (47.5%) in 55.02 min. Items per second: 5.48\n",
      "SLIMElasticNetRecommender: Processed 34038 (89.3%) in 1.50 hour. Items per second: 6.30\n",
      "SLIMElasticNetRecommender: Processed 9320 (24.4%) in 20.01 min. Items per second: 7.76\n",
      "SLIMElasticNetRecommender: Processed 3401 ( 8.9%) in 10.00 min. Items per second: 5.67\n",
      "SLIMElasticNetRecommender: Processed 19709 (51.7%) in 1.00 hour. Items per second: 5.47\n",
      "SLIMElasticNetRecommender: Processed 35794 (93.9%) in 1.58 hour. Items per second: 6.28\n",
      "SLIMElasticNetRecommender: Processed 11559 (30.3%) in 25.01 min. Items per second: 7.70\n",
      "SLIMElasticNetRecommender: Processed 5016 (13.2%) in 15.00 min. Items per second: 5.57\n",
      "SLIMElasticNetRecommender: Processed 21251 (55.7%) in 1.08 hour. Items per second: 5.45\n",
      "SLIMElasticNetRecommender: Processed 37548 (98.5%) in 1.67 hour. Items per second: 6.26\n",
      "SLIMElasticNetRecommender: Processed 38121 (100.0%) in 1.69 hour. Items per second: 6.27\n"
     ]
    },
    {
     "name": "stderr",
     "output_type": "stream",
     "text": [
      "/Users/lucapagano/miniconda3/envs/RecSysPD/lib/python3.8/site-packages/sklearn/linear_model/_coordinate_descent.py:589: ConvergenceWarning: Objective did not converge. You might want to increase the number of iterations. Duality gap: 0.08747368305921555, tolerance: 0.0340999998152256\n",
      "  model = cd_fast.sparse_enet_coordinate_descent(\n"
     ]
    },
    {
     "name": "stdout",
     "output_type": "stream",
     "text": [
      "EvaluatorHoldout: Processed 35595 (100.0%) in 28.04 sec. Users per second: 1270\n"
     ]
    },
    {
     "name": "stderr",
     "output_type": "stream",
     "text": [
      "[I 2024-11-29 21:55:57,080] Trial 18 finished with value: 0.05728544003638611 and parameters: {'topK': 798, 'l1_ratio': 2.6887704087324067e-05, 'alpha': 0.0013270159003249949}. Best is trial 18 with value: 0.05728544003638611.\n"
     ]
    },
    {
     "name": "stdout",
     "output_type": "stream",
     "text": [
      "SLIMElasticNetRecommender: Processed 14132 (37.1%) in 30.01 min. Items per second: 7.85\n",
      "SLIMElasticNetRecommender: Processed 6969 (18.3%) in 20.00 min. Items per second: 5.81\n",
      "SLIMElasticNetRecommender: Processed 23201 (60.9%) in 1.17 hour. Items per second: 5.52\n",
      "SLIMElasticNetRecommender: Processed 2044 ( 5.4%) in 5.00 min. Items per second: 6.81\n",
      "SLIMElasticNetRecommender: Processed 16578 (43.5%) in 35.01 min. Items per second: 7.89\n",
      "SLIMElasticNetRecommender: Processed 8614 (22.6%) in 25.01 min. Items per second: 5.74\n",
      "SLIMElasticNetRecommender: Processed 24806 (65.1%) in 1.25 hour. Items per second: 5.51\n",
      "SLIMElasticNetRecommender: Processed 4144 (10.9%) in 10.00 min. Items per second: 6.90\n",
      "SLIMElasticNetRecommender: Processed 19083 (50.1%) in 40.01 min. Items per second: 7.95\n",
      "SLIMElasticNetRecommender: Processed 10457 (27.4%) in 30.01 min. Items per second: 5.81\n",
      "SLIMElasticNetRecommender: Processed 26601 (69.8%) in 1.33 hour. Items per second: 5.54\n",
      "SLIMElasticNetRecommender: Processed 6532 (17.1%) in 15.00 min. Items per second: 7.25\n",
      "SLIMElasticNetRecommender: Processed 22008 (57.7%) in 45.01 min. Items per second: 8.15\n",
      "SLIMElasticNetRecommender: Processed 12432 (32.6%) in 35.01 min. Items per second: 5.92\n",
      "SLIMElasticNetRecommender: Processed 28483 (74.7%) in 1.42 hour. Items per second: 5.58\n",
      "SLIMElasticNetRecommender: Processed 8935 (23.4%) in 20.01 min. Items per second: 7.44\n",
      "SLIMElasticNetRecommender: Processed 24909 (65.3%) in 50.01 min. Items per second: 8.30\n",
      "SLIMElasticNetRecommender: Processed 14591 (38.3%) in 40.01 min. Items per second: 6.08\n",
      "SLIMElasticNetRecommender: Processed 30604 (80.3%) in 1.50 hour. Items per second: 5.67\n",
      "SLIMElasticNetRecommender: Processed 11424 (30.0%) in 25.01 min. Items per second: 7.61\n",
      "SLIMElasticNetRecommender: Processed 27895 (73.2%) in 55.02 min. Items per second: 8.45\n",
      "SLIMElasticNetRecommender: Processed 16622 (43.6%) in 45.01 min. Items per second: 6.15\n",
      "SLIMElasticNetRecommender: Processed 32540 (85.4%) in 1.58 hour. Items per second: 5.71\n",
      "SLIMElasticNetRecommender: Processed 13803 (36.2%) in 30.01 min. Items per second: 7.67\n",
      "SLIMElasticNetRecommender: Processed 30743 (80.6%) in 1.00 hour. Items per second: 8.54\n",
      "SLIMElasticNetRecommender: Processed 18666 (49.0%) in 50.01 min. Items per second: 6.22\n",
      "SLIMElasticNetRecommender: Processed 34579 (90.7%) in 1.67 hour. Items per second: 5.76\n",
      "SLIMElasticNetRecommender: Processed 16248 (42.6%) in 35.01 min. Items per second: 7.73\n",
      "SLIMElasticNetRecommender: Processed 33749 (88.5%) in 1.08 hour. Items per second: 8.65\n",
      "SLIMElasticNetRecommender: Processed 20673 (54.2%) in 55.01 min. Items per second: 6.26\n",
      "SLIMElasticNetRecommender: Processed 36453 (95.6%) in 1.75 hour. Items per second: 5.78\n",
      "SLIMElasticNetRecommender: Processed 18407 (48.3%) in 40.01 min. Items per second: 7.67\n",
      "SLIMElasticNetRecommender: Processed 36384 (95.4%) in 1.17 hour. Items per second: 8.66\n",
      "SLIMElasticNetRecommender: Processed 22629 (59.4%) in 1.00 hour. Items per second: 6.28\n",
      "SLIMElasticNetRecommender: Processed 37856 (99.3%) in 1.83 hour. Items per second: 5.73\n",
      "SLIMElasticNetRecommender: Processed 38121 (100.0%) in 1.86 hour. Items per second: 5.69\n",
      "EvaluatorHoldout: Processed 35595 (100.0%) in 21.66 sec. Users per second: 1643\n"
     ]
    },
    {
     "name": "stderr",
     "output_type": "stream",
     "text": [
      "[I 2024-11-29 22:40:51,145] Trial 20 finished with value: 0.05752152188308774 and parameters: {'topK': 388, 'l1_ratio': 1.2266241065741703e-05, 'alpha': 0.0012535954469301137}. Best is trial 20 with value: 0.05752152188308774.\n"
     ]
    },
    {
     "name": "stdout",
     "output_type": "stream",
     "text": [
      "SLIMElasticNetRecommender: Processed 38121 (100.0%) in 1.25 hour. Items per second: 8.49\n",
      "SLIMElasticNetRecommender: Processed 19937 (52.3%) in 45.01 min. Items per second: 7.38\n",
      "EvaluatorHoldout: Processed 35595 (100.0%) in 28.19 sec. Users per second: 1263\n"
     ]
    },
    {
     "name": "stderr",
     "output_type": "stream",
     "text": [
      "[I 2024-11-29 22:41:21,090] Trial 21 finished with value: 0.042420213513132285 and parameters: {'topK': 629, 'l1_ratio': 1.2788730699807888e-05, 'alpha': 0.024563293487758396}. Best is trial 20 with value: 0.05752152188308774.\n"
     ]
    },
    {
     "name": "stdout",
     "output_type": "stream",
     "text": [
      "SLIMElasticNetRecommender: Processed 23895 (62.7%) in 1.08 hour. Items per second: 6.13\n",
      "SLIMElasticNetRecommender: Processed 2162 ( 5.7%) in 5.00 min. Items per second: 7.20\n",
      "SLIMElasticNetRecommender: Processed 22464 (58.9%) in 50.01 min. Items per second: 7.49\n",
      "SLIMElasticNetRecommender: Processed 2220 ( 5.8%) in 5.00 min. Items per second: 7.40\n",
      "SLIMElasticNetRecommender: Processed 26089 (68.4%) in 1.17 hour. Items per second: 6.21\n",
      "SLIMElasticNetRecommender: Processed 4306 (11.3%) in 10.00 min. Items per second: 7.17\n",
      "SLIMElasticNetRecommender: Processed 24969 (65.5%) in 55.02 min. Items per second: 7.56\n",
      "SLIMElasticNetRecommender: Processed 4429 (11.6%) in 10.00 min. Items per second: 7.38\n",
      "SLIMElasticNetRecommender: Processed 28276 (74.2%) in 1.25 hour. Items per second: 6.28\n",
      "SLIMElasticNetRecommender: Processed 6475 (17.0%) in 15.00 min. Items per second: 7.19\n",
      "SLIMElasticNetRecommender: Processed 27496 (72.1%) in 1.00 hour. Items per second: 7.64\n",
      "SLIMElasticNetRecommender: Processed 6667 (17.5%) in 15.00 min. Items per second: 7.41\n",
      "SLIMElasticNetRecommender: Processed 30591 (80.2%) in 1.33 hour. Items per second: 6.37\n",
      "SLIMElasticNetRecommender: Processed 8615 (22.6%) in 20.01 min. Items per second: 7.18\n",
      "SLIMElasticNetRecommender: Processed 30020 (78.7%) in 1.08 hour. Items per second: 7.69\n",
      "SLIMElasticNetRecommender: Processed 8880 (23.3%) in 20.00 min. Items per second: 7.40\n",
      "SLIMElasticNetRecommender: Processed 32857 (86.2%) in 1.42 hour. Items per second: 6.44\n",
      "SLIMElasticNetRecommender: Processed 10767 (28.2%) in 25.01 min. Items per second: 7.18\n",
      "SLIMElasticNetRecommender: Processed 32552 (85.4%) in 1.17 hour. Items per second: 7.75\n",
      "SLIMElasticNetRecommender: Processed 11089 (29.1%) in 25.00 min. Items per second: 7.39\n",
      "SLIMElasticNetRecommender: Processed 35136 (92.2%) in 1.50 hour. Items per second: 6.51\n",
      "SLIMElasticNetRecommender: Processed 12911 (33.9%) in 30.01 min. Items per second: 7.17\n",
      "SLIMElasticNetRecommender: Processed 35123 (92.1%) in 1.25 hour. Items per second: 7.80\n",
      "SLIMElasticNetRecommender: Processed 13303 (34.9%) in 30.01 min. Items per second: 7.39\n",
      "SLIMElasticNetRecommender: Processed 37402 (98.1%) in 1.58 hour. Items per second: 6.56\n",
      "SLIMElasticNetRecommender: Processed 38121 (100.0%) in 1.61 hour. Items per second: 6.58\n",
      "EvaluatorHoldout: Processed 35595 (100.0%) in 20.49 sec. Users per second: 1737\n"
     ]
    },
    {
     "name": "stderr",
     "output_type": "stream",
     "text": [
      "[I 2024-11-29 23:14:01,005] Trial 22 finished with value: 0.056674884112935385 and parameters: {'topK': 303, 'l1_ratio': 1.0257403880537272e-05, 'alpha': 0.001672241664397209}. Best is trial 20 with value: 0.05752152188308774.\n"
     ]
    },
    {
     "name": "stdout",
     "output_type": "stream",
     "text": [
      "SLIMElasticNetRecommender: Processed 15087 (39.6%) in 35.01 min. Items per second: 7.18\n",
      "SLIMElasticNetRecommender: Processed 37678 (98.8%) in 1.33 hour. Items per second: 7.85\n",
      "SLIMElasticNetRecommender: Processed 15532 (40.7%) in 35.01 min. Items per second: 7.39\n",
      "SLIMElasticNetRecommender: Processed 38121 (100.0%) in 1.35 hour. Items per second: 7.86\n",
      "EvaluatorHoldout: Processed 35595 (100.0%) in 28.01 sec. Users per second: 1271\n"
     ]
    },
    {
     "name": "stderr",
     "output_type": "stream",
     "text": [
      "[I 2024-11-29 23:17:18,213] Trial 23 finished with value: 0.05748500101449755 and parameters: {'topK': 773, 'l1_ratio': 6.56561536753363e-05, 'alpha': 0.001234594911194835}. Best is trial 20 with value: 0.05752152188308774.\n"
     ]
    },
    {
     "name": "stdout",
     "output_type": "stream",
     "text": [
      "SLIMElasticNetRecommender: Processed 2198 ( 5.8%) in 5.00 min. Items per second: 7.32\n",
      "SLIMElasticNetRecommender: Processed 17274 (45.3%) in 40.01 min. Items per second: 7.20\n",
      "SLIMElasticNetRecommender: Processed 17794 (46.7%) in 40.01 min. Items per second: 7.41\n",
      "SLIMElasticNetRecommender: Processed 2531 ( 6.6%) in 5.00 min. Items per second: 8.43\n",
      "SLIMElasticNetRecommender: Processed 4351 (11.4%) in 10.00 min. Items per second: 7.25\n",
      "SLIMElasticNetRecommender: Processed 19448 (51.0%) in 45.01 min. Items per second: 7.20\n",
      "SLIMElasticNetRecommender: Processed 20050 (52.6%) in 45.01 min. Items per second: 7.42\n",
      "SLIMElasticNetRecommender: Processed 5056 (13.3%) in 10.00 min. Items per second: 8.42\n",
      "SLIMElasticNetRecommender: Processed 6512 (17.1%) in 15.00 min. Items per second: 7.23\n",
      "SLIMElasticNetRecommender: Processed 21635 (56.8%) in 50.01 min. Items per second: 7.21\n",
      "SLIMElasticNetRecommender: Processed 22291 (58.5%) in 50.01 min. Items per second: 7.43\n",
      "SLIMElasticNetRecommender: Processed 7613 (20.0%) in 15.00 min. Items per second: 8.46\n",
      "SLIMElasticNetRecommender: Processed 8687 (22.8%) in 20.00 min. Items per second: 7.24\n",
      "SLIMElasticNetRecommender: Processed 23804 (62.4%) in 55.01 min. Items per second: 7.21\n",
      "SLIMElasticNetRecommender: Processed 24529 (64.3%) in 55.01 min. Items per second: 7.43\n",
      "SLIMElasticNetRecommender: Processed 10145 (26.6%) in 20.00 min. Items per second: 8.45\n",
      "SLIMElasticNetRecommender: Processed 10869 (28.5%) in 25.00 min. Items per second: 7.24\n",
      "SLIMElasticNetRecommender: Processed 25941 (68.0%) in 1.00 hour. Items per second: 7.20\n",
      "SLIMElasticNetRecommender: Processed 26737 (70.1%) in 1.00 hour. Items per second: 7.42\n",
      "SLIMElasticNetRecommender: Processed 12675 (33.2%) in 25.00 min. Items per second: 8.45\n",
      "SLIMElasticNetRecommender: Processed 13016 (34.1%) in 30.01 min. Items per second: 7.23\n",
      "SLIMElasticNetRecommender: Processed 28063 (73.6%) in 1.08 hour. Items per second: 7.19\n",
      "SLIMElasticNetRecommender: Processed 28917 (75.9%) in 1.08 hour. Items per second: 7.41\n",
      "SLIMElasticNetRecommender: Processed 15250 (40.0%) in 30.01 min. Items per second: 8.47\n",
      "SLIMElasticNetRecommender: Processed 15265 (40.0%) in 35.01 min. Items per second: 7.27\n",
      "SLIMElasticNetRecommender: Processed 30316 (79.5%) in 1.17 hour. Items per second: 7.22\n",
      "SLIMElasticNetRecommender: Processed 31274 (82.0%) in 1.17 hour. Items per second: 7.44\n",
      "SLIMElasticNetRecommender: Processed 17950 (47.1%) in 35.01 min. Items per second: 8.55\n",
      "SLIMElasticNetRecommender: Processed 17518 (46.0%) in 40.01 min. Items per second: 7.30\n",
      "SLIMElasticNetRecommender: Processed 32556 (85.4%) in 1.25 hour. Items per second: 7.23\n",
      "SLIMElasticNetRecommender: Processed 33596 (88.1%) in 1.25 hour. Items per second: 7.46\n",
      "SLIMElasticNetRecommender: Processed 20582 (54.0%) in 40.01 min. Items per second: 8.57\n",
      "SLIMElasticNetRecommender: Processed 19743 (51.8%) in 45.01 min. Items per second: 7.31\n",
      "SLIMElasticNetRecommender: Processed 34792 (91.3%) in 1.33 hour. Items per second: 7.25\n",
      "SLIMElasticNetRecommender: Processed 35886 (94.1%) in 1.33 hour. Items per second: 7.47\n",
      "SLIMElasticNetRecommender: Processed 23174 (60.8%) in 45.01 min. Items per second: 8.58\n",
      "SLIMElasticNetRecommender: Processed 21961 (57.6%) in 50.01 min. Items per second: 7.32\n",
      "SLIMElasticNetRecommender: Processed 36994 (97.0%) in 1.42 hour. Items per second: 7.25\n",
      "SLIMElasticNetRecommender: Processed 38121 (100.0%) in 1.41 hour. Items per second: 7.48\n",
      "EvaluatorHoldout: Processed 35595 (100.0%) in 22.20 sec. Users per second: 1603\n"
     ]
    },
    {
     "name": "stderr",
     "output_type": "stream",
     "text": [
      "[I 2024-11-30 00:06:36,778] Trial 25 finished with value: 0.057739659351119736 and parameters: {'topK': 397, 'l1_ratio': 1.6964852697073956e-05, 'alpha': 0.0011716256257856626}. Best is trial 25 with value: 0.057739659351119736.\n"
     ]
    },
    {
     "name": "stdout",
     "output_type": "stream",
     "text": [
      "SLIMElasticNetRecommender: Processed 25756 (67.6%) in 50.01 min. Items per second: 8.58\n",
      "SLIMElasticNetRecommender: Processed 38121 (100.0%) in 1.46 hour. Items per second: 7.25\n",
      "EvaluatorHoldout: Processed 35595 (100.0%) in 21.44 sec. Users per second: 1660\n"
     ]
    },
    {
     "name": "stderr",
     "output_type": "stream",
     "text": [
      "[I 2024-11-30 00:08:48,426] Trial 24 finished with value: 0.0570588253656082 and parameters: {'topK': 350, 'l1_ratio': 1.06504414023804e-05, 'alpha': 0.0014918923453893867}. Best is trial 25 with value: 0.057739659351119736.\n"
     ]
    },
    {
     "name": "stdout",
     "output_type": "stream",
     "text": [
      "SLIMElasticNetRecommender: Processed 24172 (63.4%) in 55.01 min. Items per second: 7.32\n",
      "SLIMElasticNetRecommender: Processed 2842 ( 7.5%) in 5.00 min. Items per second: 9.47\n",
      "SLIMElasticNetRecommender: Processed 28308 (74.3%) in 55.01 min. Items per second: 8.58\n",
      "SLIMElasticNetRecommender: Processed 2479 ( 6.5%) in 5.00 min. Items per second: 8.26\n",
      "SLIMElasticNetRecommender: Processed 26322 (69.0%) in 1.00 hour. Items per second: 7.31\n",
      "SLIMElasticNetRecommender: Processed 5668 (14.9%) in 10.00 min. Items per second: 9.44\n",
      "SLIMElasticNetRecommender: Processed 30878 (81.0%) in 1.00 hour. Items per second: 8.58\n",
      "SLIMElasticNetRecommender: Processed 4961 (13.0%) in 10.00 min. Items per second: 8.26\n",
      "SLIMElasticNetRecommender: Processed 28455 (74.6%) in 1.08 hour. Items per second: 7.29\n",
      "SLIMElasticNetRecommender: Processed 8490 (22.3%) in 15.00 min. Items per second: 9.43\n",
      "SLIMElasticNetRecommender: Processed 33485 (87.8%) in 1.08 hour. Items per second: 8.58\n",
      "SLIMElasticNetRecommender: Processed 7447 (19.5%) in 15.00 min. Items per second: 8.27\n",
      "SLIMElasticNetRecommender: Processed 30666 (80.4%) in 1.17 hour. Items per second: 7.30\n",
      "SLIMElasticNetRecommender: Processed 11339 (29.7%) in 20.00 min. Items per second: 9.45\n",
      "SLIMElasticNetRecommender: Processed 36086 (94.7%) in 1.17 hour. Items per second: 8.59\n",
      "SLIMElasticNetRecommender: Processed 10063 (26.4%) in 20.01 min. Items per second: 8.38\n",
      "SLIMElasticNetRecommender: Processed 33014 (86.6%) in 1.25 hour. Items per second: 7.33\n",
      "SLIMElasticNetRecommender: Processed 38121 (100.0%) in 1.22 hour. Items per second: 8.65\n"
     ]
    },
    {
     "name": "stderr",
     "output_type": "stream",
     "text": [
      "/Users/lucapagano/miniconda3/envs/RecSysPD/lib/python3.8/site-packages/sklearn/linear_model/_coordinate_descent.py:589: ConvergenceWarning: Objective did not converge. You might want to increase the number of iterations. Duality gap: 0.25295668840408325, tolerance: 0.044199999421834946\n",
      "  model = cd_fast.sparse_enet_coordinate_descent(\n",
      "/Users/lucapagano/miniconda3/envs/RecSysPD/lib/python3.8/site-packages/sklearn/linear_model/_coordinate_descent.py:589: ConvergenceWarning: Objective did not converge. You might want to increase the number of iterations. Duality gap: 0.030349131673574448, tolerance: 0.02159999869763851\n",
      "  model = cd_fast.sparse_enet_coordinate_descent(\n"
     ]
    },
    {
     "name": "stdout",
     "output_type": "stream",
     "text": [
      "EvaluatorHoldout: Processed 35595 (100.0%) in 27.39 sec. Users per second: 1299\n"
     ]
    },
    {
     "name": "stderr",
     "output_type": "stream",
     "text": [
      "[I 2024-11-30 00:31:11,415] Trial 27 finished with value: 0.05712188487325251 and parameters: {'topK': 776, 'l1_ratio': 7.995986796639301e-05, 'alpha': 0.0013911853435436088}. Best is trial 25 with value: 0.057739659351119736.\n"
     ]
    },
    {
     "name": "stdout",
     "output_type": "stream",
     "text": [
      "SLIMElasticNetRecommender: Processed 14764 (38.7%) in 25.01 min. Items per second: 9.84\n",
      "SLIMElasticNetRecommender: Processed 13479 (35.4%) in 25.01 min. Items per second: 8.98\n",
      "SLIMElasticNetRecommender: Processed 36129 (94.8%) in 1.33 hour. Items per second: 7.53\n"
     ]
    },
    {
     "ename": "KeyboardInterrupt",
     "evalue": "",
     "output_type": "error",
     "traceback": [
      "\u001b[0;31m---------------------------------------------------------------------------\u001b[0m",
      "\u001b[0;31mKeyboardInterrupt\u001b[0m                         Traceback (most recent call last)",
      "File \u001b[0;32m~/miniconda3/envs/RecSysPD/lib/python3.8/site-packages/optuna/study/_optimize.py:97\u001b[0m, in \u001b[0;36m_optimize\u001b[0;34m(study, func, n_trials, timeout, n_jobs, catch, callbacks, gc_after_trial, show_progress_bar)\u001b[0m\n\u001b[1;32m     96\u001b[0m \u001b[38;5;28;01mif\u001b[39;00m \u001b[38;5;28mlen\u001b[39m(futures) \u001b[38;5;241m>\u001b[39m\u001b[38;5;241m=\u001b[39m n_jobs:\n\u001b[0;32m---> 97\u001b[0m     completed, futures \u001b[38;5;241m=\u001b[39m \u001b[43mwait\u001b[49m\u001b[43m(\u001b[49m\u001b[43mfutures\u001b[49m\u001b[43m,\u001b[49m\u001b[43m \u001b[49m\u001b[43mreturn_when\u001b[49m\u001b[38;5;241;43m=\u001b[39;49m\u001b[43mFIRST_COMPLETED\u001b[49m\u001b[43m)\u001b[49m\n\u001b[1;32m     98\u001b[0m     \u001b[38;5;66;03m# Raise if exception occurred in executing the completed futures.\u001b[39;00m\n",
      "File \u001b[0;32m~/miniconda3/envs/RecSysPD/lib/python3.8/concurrent/futures/_base.py:305\u001b[0m, in \u001b[0;36mwait\u001b[0;34m(fs, timeout, return_when)\u001b[0m\n\u001b[1;32m    303\u001b[0m     waiter \u001b[38;5;241m=\u001b[39m _create_and_install_waiters(fs, return_when)\n\u001b[0;32m--> 305\u001b[0m \u001b[43mwaiter\u001b[49m\u001b[38;5;241;43m.\u001b[39;49m\u001b[43mevent\u001b[49m\u001b[38;5;241;43m.\u001b[39;49m\u001b[43mwait\u001b[49m\u001b[43m(\u001b[49m\u001b[43mtimeout\u001b[49m\u001b[43m)\u001b[49m\n\u001b[1;32m    306\u001b[0m \u001b[38;5;28;01mfor\u001b[39;00m f \u001b[38;5;129;01min\u001b[39;00m fs:\n",
      "File \u001b[0;32m~/miniconda3/envs/RecSysPD/lib/python3.8/threading.py:558\u001b[0m, in \u001b[0;36mEvent.wait\u001b[0;34m(self, timeout)\u001b[0m\n\u001b[1;32m    557\u001b[0m \u001b[38;5;28;01mif\u001b[39;00m \u001b[38;5;129;01mnot\u001b[39;00m signaled:\n\u001b[0;32m--> 558\u001b[0m     signaled \u001b[38;5;241m=\u001b[39m \u001b[38;5;28;43mself\u001b[39;49m\u001b[38;5;241;43m.\u001b[39;49m\u001b[43m_cond\u001b[49m\u001b[38;5;241;43m.\u001b[39;49m\u001b[43mwait\u001b[49m\u001b[43m(\u001b[49m\u001b[43mtimeout\u001b[49m\u001b[43m)\u001b[49m\n\u001b[1;32m    559\u001b[0m \u001b[38;5;28;01mreturn\u001b[39;00m signaled\n",
      "File \u001b[0;32m~/miniconda3/envs/RecSysPD/lib/python3.8/threading.py:302\u001b[0m, in \u001b[0;36mCondition.wait\u001b[0;34m(self, timeout)\u001b[0m\n\u001b[1;32m    301\u001b[0m \u001b[38;5;28;01mif\u001b[39;00m timeout \u001b[38;5;129;01mis\u001b[39;00m \u001b[38;5;28;01mNone\u001b[39;00m:\n\u001b[0;32m--> 302\u001b[0m     \u001b[43mwaiter\u001b[49m\u001b[38;5;241;43m.\u001b[39;49m\u001b[43macquire\u001b[49m\u001b[43m(\u001b[49m\u001b[43m)\u001b[49m\n\u001b[1;32m    303\u001b[0m     gotit \u001b[38;5;241m=\u001b[39m \u001b[38;5;28;01mTrue\u001b[39;00m\n",
      "\u001b[0;31mKeyboardInterrupt\u001b[0m: ",
      "\nDuring handling of the above exception, another exception occurred:\n",
      "\u001b[0;31mKeyboardInterrupt\u001b[0m                         Traceback (most recent call last)",
      "Cell \u001b[0;32mIn[14], line 10\u001b[0m\n\u001b[1;32m      6\u001b[0m optuna_study \u001b[38;5;241m=\u001b[39m optuna\u001b[38;5;241m.\u001b[39mcreate_study(sampler\u001b[38;5;241m=\u001b[39msampler, direction\u001b[38;5;241m=\u001b[39m\u001b[38;5;124m\"\u001b[39m\u001b[38;5;124mmaximize\u001b[39m\u001b[38;5;124m\"\u001b[39m)\n\u001b[1;32m      8\u001b[0m save_results \u001b[38;5;241m=\u001b[39m SaveResults()\n\u001b[0;32m---> 10\u001b[0m \u001b[43moptuna_study\u001b[49m\u001b[38;5;241;43m.\u001b[39;49m\u001b[43moptimize\u001b[49m\u001b[43m(\u001b[49m\u001b[43mobjective_function\u001b[49m\u001b[43m,\u001b[49m\n\u001b[1;32m     11\u001b[0m \u001b[43m                      \u001b[49m\u001b[43mcallbacks\u001b[49m\u001b[38;5;241;43m=\u001b[39;49m\u001b[43m[\u001b[49m\u001b[43msave_results\u001b[49m\u001b[43m]\u001b[49m\u001b[43m,\u001b[49m\n\u001b[1;32m     12\u001b[0m \u001b[43m                      \u001b[49m\u001b[43mn_trials\u001b[49m\u001b[43m \u001b[49m\u001b[38;5;241;43m=\u001b[39;49m\u001b[43m \u001b[49m\u001b[38;5;241;43m100\u001b[39;49m\u001b[43m,\u001b[49m\n\u001b[1;32m     13\u001b[0m \u001b[43m                      \u001b[49m\u001b[43mn_jobs\u001b[49m\u001b[38;5;241;43m=\u001b[39;49m\u001b[38;5;241;43m4\u001b[39;49m\u001b[43m)\u001b[49m\n",
      "File \u001b[0;32m~/miniconda3/envs/RecSysPD/lib/python3.8/site-packages/optuna/study/study.py:475\u001b[0m, in \u001b[0;36mStudy.optimize\u001b[0;34m(self, func, n_trials, timeout, n_jobs, catch, callbacks, gc_after_trial, show_progress_bar)\u001b[0m\n\u001b[1;32m    373\u001b[0m \u001b[38;5;28;01mdef\u001b[39;00m \u001b[38;5;21moptimize\u001b[39m(\n\u001b[1;32m    374\u001b[0m     \u001b[38;5;28mself\u001b[39m,\n\u001b[1;32m    375\u001b[0m     func: ObjectiveFuncType,\n\u001b[0;32m   (...)\u001b[0m\n\u001b[1;32m    382\u001b[0m     show_progress_bar: \u001b[38;5;28mbool\u001b[39m \u001b[38;5;241m=\u001b[39m \u001b[38;5;28;01mFalse\u001b[39;00m,\n\u001b[1;32m    383\u001b[0m ) \u001b[38;5;241m-\u001b[39m\u001b[38;5;241m>\u001b[39m \u001b[38;5;28;01mNone\u001b[39;00m:\n\u001b[1;32m    384\u001b[0m \u001b[38;5;250m    \u001b[39m\u001b[38;5;124;03m\"\"\"Optimize an objective function.\u001b[39;00m\n\u001b[1;32m    385\u001b[0m \n\u001b[1;32m    386\u001b[0m \u001b[38;5;124;03m    Optimization is done by choosing a suitable set of hyperparameter values from a given\u001b[39;00m\n\u001b[0;32m   (...)\u001b[0m\n\u001b[1;32m    473\u001b[0m \u001b[38;5;124;03m            If nested invocation of this method occurs.\u001b[39;00m\n\u001b[1;32m    474\u001b[0m \u001b[38;5;124;03m    \"\"\"\u001b[39;00m\n\u001b[0;32m--> 475\u001b[0m     \u001b[43m_optimize\u001b[49m\u001b[43m(\u001b[49m\n\u001b[1;32m    476\u001b[0m \u001b[43m        \u001b[49m\u001b[43mstudy\u001b[49m\u001b[38;5;241;43m=\u001b[39;49m\u001b[38;5;28;43mself\u001b[39;49m\u001b[43m,\u001b[49m\n\u001b[1;32m    477\u001b[0m \u001b[43m        \u001b[49m\u001b[43mfunc\u001b[49m\u001b[38;5;241;43m=\u001b[39;49m\u001b[43mfunc\u001b[49m\u001b[43m,\u001b[49m\n\u001b[1;32m    478\u001b[0m \u001b[43m        \u001b[49m\u001b[43mn_trials\u001b[49m\u001b[38;5;241;43m=\u001b[39;49m\u001b[43mn_trials\u001b[49m\u001b[43m,\u001b[49m\n\u001b[1;32m    479\u001b[0m \u001b[43m        \u001b[49m\u001b[43mtimeout\u001b[49m\u001b[38;5;241;43m=\u001b[39;49m\u001b[43mtimeout\u001b[49m\u001b[43m,\u001b[49m\n\u001b[1;32m    480\u001b[0m \u001b[43m        \u001b[49m\u001b[43mn_jobs\u001b[49m\u001b[38;5;241;43m=\u001b[39;49m\u001b[43mn_jobs\u001b[49m\u001b[43m,\u001b[49m\n\u001b[1;32m    481\u001b[0m \u001b[43m        \u001b[49m\u001b[43mcatch\u001b[49m\u001b[38;5;241;43m=\u001b[39;49m\u001b[38;5;28;43mtuple\u001b[39;49m\u001b[43m(\u001b[49m\u001b[43mcatch\u001b[49m\u001b[43m)\u001b[49m\u001b[43m \u001b[49m\u001b[38;5;28;43;01mif\u001b[39;49;00m\u001b[43m \u001b[49m\u001b[38;5;28;43misinstance\u001b[39;49m\u001b[43m(\u001b[49m\u001b[43mcatch\u001b[49m\u001b[43m,\u001b[49m\u001b[43m \u001b[49m\u001b[43mIterable\u001b[49m\u001b[43m)\u001b[49m\u001b[43m \u001b[49m\u001b[38;5;28;43;01melse\u001b[39;49;00m\u001b[43m \u001b[49m\u001b[43m(\u001b[49m\u001b[43mcatch\u001b[49m\u001b[43m,\u001b[49m\u001b[43m)\u001b[49m\u001b[43m,\u001b[49m\n\u001b[1;32m    482\u001b[0m \u001b[43m        \u001b[49m\u001b[43mcallbacks\u001b[49m\u001b[38;5;241;43m=\u001b[39;49m\u001b[43mcallbacks\u001b[49m\u001b[43m,\u001b[49m\n\u001b[1;32m    483\u001b[0m \u001b[43m        \u001b[49m\u001b[43mgc_after_trial\u001b[49m\u001b[38;5;241;43m=\u001b[39;49m\u001b[43mgc_after_trial\u001b[49m\u001b[43m,\u001b[49m\n\u001b[1;32m    484\u001b[0m \u001b[43m        \u001b[49m\u001b[43mshow_progress_bar\u001b[49m\u001b[38;5;241;43m=\u001b[39;49m\u001b[43mshow_progress_bar\u001b[49m\u001b[43m,\u001b[49m\n\u001b[1;32m    485\u001b[0m \u001b[43m    \u001b[49m\u001b[43m)\u001b[49m\n",
      "File \u001b[0;32m~/miniconda3/envs/RecSysPD/lib/python3.8/site-packages/optuna/study/_optimize.py:102\u001b[0m, in \u001b[0;36m_optimize\u001b[0;34m(study, func, n_trials, timeout, n_jobs, catch, callbacks, gc_after_trial, show_progress_bar)\u001b[0m\n\u001b[1;32m     99\u001b[0m                     \u001b[38;5;28;01mfor\u001b[39;00m f \u001b[38;5;129;01min\u001b[39;00m completed:\n\u001b[1;32m    100\u001b[0m                         f\u001b[38;5;241m.\u001b[39mresult()\n\u001b[0;32m--> 102\u001b[0m                 futures\u001b[38;5;241m.\u001b[39madd(\n\u001b[1;32m    103\u001b[0m                     executor\u001b[38;5;241m.\u001b[39msubmit(\n\u001b[1;32m    104\u001b[0m                         _optimize_sequential,\n\u001b[1;32m    105\u001b[0m                         study,\n\u001b[1;32m    106\u001b[0m                         func,\n\u001b[1;32m    107\u001b[0m                         \u001b[38;5;241m1\u001b[39m,\n\u001b[1;32m    108\u001b[0m                         timeout,\n\u001b[1;32m    109\u001b[0m                         catch,\n\u001b[1;32m    110\u001b[0m                         callbacks,\n\u001b[1;32m    111\u001b[0m                         gc_after_trial,\n\u001b[1;32m    112\u001b[0m                         \u001b[38;5;28;01mTrue\u001b[39;00m,\n\u001b[1;32m    113\u001b[0m                         time_start,\n\u001b[1;32m    114\u001b[0m                         progress_bar,\n\u001b[1;32m    115\u001b[0m                     )\n\u001b[1;32m    116\u001b[0m                 )\n\u001b[1;32m    117\u001b[0m \u001b[38;5;28;01mfinally\u001b[39;00m:\n\u001b[1;32m    118\u001b[0m     study\u001b[38;5;241m.\u001b[39m_thread_local\u001b[38;5;241m.\u001b[39min_optimize_loop \u001b[38;5;241m=\u001b[39m \u001b[38;5;28;01mFalse\u001b[39;00m\n",
      "File \u001b[0;32m~/miniconda3/envs/RecSysPD/lib/python3.8/concurrent/futures/_base.py:644\u001b[0m, in \u001b[0;36mExecutor.__exit__\u001b[0;34m(self, exc_type, exc_val, exc_tb)\u001b[0m\n\u001b[1;32m    643\u001b[0m \u001b[38;5;28;01mdef\u001b[39;00m \u001b[38;5;21m__exit__\u001b[39m(\u001b[38;5;28mself\u001b[39m, exc_type, exc_val, exc_tb):\n\u001b[0;32m--> 644\u001b[0m     \u001b[38;5;28;43mself\u001b[39;49m\u001b[38;5;241;43m.\u001b[39;49m\u001b[43mshutdown\u001b[49m\u001b[43m(\u001b[49m\u001b[43mwait\u001b[49m\u001b[38;5;241;43m=\u001b[39;49m\u001b[38;5;28;43;01mTrue\u001b[39;49;00m\u001b[43m)\u001b[49m\n\u001b[1;32m    645\u001b[0m     \u001b[38;5;28;01mreturn\u001b[39;00m \u001b[38;5;28;01mFalse\u001b[39;00m\n",
      "File \u001b[0;32m~/miniconda3/envs/RecSysPD/lib/python3.8/concurrent/futures/thread.py:236\u001b[0m, in \u001b[0;36mThreadPoolExecutor.shutdown\u001b[0;34m(self, wait)\u001b[0m\n\u001b[1;32m    234\u001b[0m \u001b[38;5;28;01mif\u001b[39;00m wait:\n\u001b[1;32m    235\u001b[0m     \u001b[38;5;28;01mfor\u001b[39;00m t \u001b[38;5;129;01min\u001b[39;00m \u001b[38;5;28mself\u001b[39m\u001b[38;5;241m.\u001b[39m_threads:\n\u001b[0;32m--> 236\u001b[0m         \u001b[43mt\u001b[49m\u001b[38;5;241;43m.\u001b[39;49m\u001b[43mjoin\u001b[49m\u001b[43m(\u001b[49m\u001b[43m)\u001b[49m\n",
      "File \u001b[0;32m~/miniconda3/envs/RecSysPD/lib/python3.8/threading.py:1011\u001b[0m, in \u001b[0;36mThread.join\u001b[0;34m(self, timeout)\u001b[0m\n\u001b[1;32m   1008\u001b[0m     \u001b[38;5;28;01mraise\u001b[39;00m \u001b[38;5;167;01mRuntimeError\u001b[39;00m(\u001b[38;5;124m\"\u001b[39m\u001b[38;5;124mcannot join current thread\u001b[39m\u001b[38;5;124m\"\u001b[39m)\n\u001b[1;32m   1010\u001b[0m \u001b[38;5;28;01mif\u001b[39;00m timeout \u001b[38;5;129;01mis\u001b[39;00m \u001b[38;5;28;01mNone\u001b[39;00m:\n\u001b[0;32m-> 1011\u001b[0m     \u001b[38;5;28;43mself\u001b[39;49m\u001b[38;5;241;43m.\u001b[39;49m\u001b[43m_wait_for_tstate_lock\u001b[49m\u001b[43m(\u001b[49m\u001b[43m)\u001b[49m\n\u001b[1;32m   1012\u001b[0m \u001b[38;5;28;01melse\u001b[39;00m:\n\u001b[1;32m   1013\u001b[0m     \u001b[38;5;66;03m# the behavior of a negative timeout isn't documented, but\u001b[39;00m\n\u001b[1;32m   1014\u001b[0m     \u001b[38;5;66;03m# historically .join(timeout=x) for x<0 has acted as if timeout=0\u001b[39;00m\n\u001b[1;32m   1015\u001b[0m     \u001b[38;5;28mself\u001b[39m\u001b[38;5;241m.\u001b[39m_wait_for_tstate_lock(timeout\u001b[38;5;241m=\u001b[39m\u001b[38;5;28mmax\u001b[39m(timeout, \u001b[38;5;241m0\u001b[39m))\n",
      "File \u001b[0;32m~/miniconda3/envs/RecSysPD/lib/python3.8/threading.py:1027\u001b[0m, in \u001b[0;36mThread._wait_for_tstate_lock\u001b[0;34m(self, block, timeout)\u001b[0m\n\u001b[1;32m   1025\u001b[0m \u001b[38;5;28;01mif\u001b[39;00m lock \u001b[38;5;129;01mis\u001b[39;00m \u001b[38;5;28;01mNone\u001b[39;00m:  \u001b[38;5;66;03m# already determined that the C code is done\u001b[39;00m\n\u001b[1;32m   1026\u001b[0m     \u001b[38;5;28;01massert\u001b[39;00m \u001b[38;5;28mself\u001b[39m\u001b[38;5;241m.\u001b[39m_is_stopped\n\u001b[0;32m-> 1027\u001b[0m \u001b[38;5;28;01melif\u001b[39;00m \u001b[43mlock\u001b[49m\u001b[38;5;241;43m.\u001b[39;49m\u001b[43macquire\u001b[49m\u001b[43m(\u001b[49m\u001b[43mblock\u001b[49m\u001b[43m,\u001b[49m\u001b[43m \u001b[49m\u001b[43mtimeout\u001b[49m\u001b[43m)\u001b[49m:\n\u001b[1;32m   1028\u001b[0m     lock\u001b[38;5;241m.\u001b[39mrelease()\n\u001b[1;32m   1029\u001b[0m     \u001b[38;5;28mself\u001b[39m\u001b[38;5;241m.\u001b[39m_stop()\n",
      "\u001b[0;31mKeyboardInterrupt\u001b[0m: "
     ]
    }
   ],
   "source": [
    "import optuna\n",
    "\n",
    "sampler = optuna.samplers.TPESampler(\n",
    "    multivariate=True\n",
    ")\n",
    "optuna_study = optuna.create_study(sampler=sampler, direction=\"maximize\")\n",
    "        \n",
    "save_results = SaveResults()\n",
    "        \n",
    "optuna_study.optimize(objective_function,\n",
    "                      callbacks=[save_results],\n",
    "                      n_trials = 100,\n",
    "                      n_jobs=4)"
   ]
  }
 ],
 "metadata": {
  "kernelspec": {
   "display_name": "RecSysPD",
   "language": "python",
   "name": "python3"
  },
  "language_info": {
   "codemirror_mode": {
    "name": "ipython",
    "version": 3
   },
   "file_extension": ".py",
   "mimetype": "text/x-python",
   "name": "python",
   "nbconvert_exporter": "python",
   "pygments_lexer": "ipython3",
   "version": "3.8.20"
  }
 },
 "nbformat": 4,
 "nbformat_minor": 2
}
