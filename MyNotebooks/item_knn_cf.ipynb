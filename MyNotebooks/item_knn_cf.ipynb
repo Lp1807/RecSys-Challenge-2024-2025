{
 "cells": [
  {
   "cell_type": "code",
   "execution_count": 1,
   "metadata": {},
   "outputs": [],
   "source": [
    "import os\n",
    "os.chdir(\"../\")"
   ]
  },
  {
   "cell_type": "code",
   "execution_count": 2,
   "metadata": {},
   "outputs": [],
   "source": [
    "import numpy as np\n",
    "import pandas as pd\n",
    "import matplotlib.pyplot as plt\n",
    "\n",
    "\n",
    "k_fold = 10\n",
    "seeds = [192760, 1393659, 1269293, 138973, 931308, 1088652, 1361151, 1456105, 820535, 1240839]\n"
   ]
  },
  {
   "cell_type": "code",
   "execution_count": 3,
   "metadata": {},
   "outputs": [
    {
     "name": "stdout",
     "output_type": "stream",
     "text": [
      "   user_id  item_id  data\n",
      "0        0        0   1.0\n",
      "1        0        2   1.0\n",
      "2        0      120   1.0\n",
      "3        0      128   1.0\n",
      "4        0      211   1.0\n",
      "5        0      232   1.0\n",
      "6        0      282   1.0\n",
      "7        0      453   1.0\n",
      "8        0      458   1.0\n",
      "9        0      491   1.0\n"
     ]
    }
   ],
   "source": [
    "data_train_path = \"Dataset/data_train.csv\"\n",
    "\n",
    "URM_all_dataframe = pd.read_csv(data_train_path)\n",
    "print(URM_all_dataframe.head(10))"
   ]
  },
  {
   "cell_type": "markdown",
   "metadata": {},
   "source": [
    "# Characteristics of the dataset"
   ]
  },
  {
   "cell_type": "code",
   "execution_count": 4,
   "metadata": {},
   "outputs": [
    {
     "name": "stdout",
     "output_type": "stream",
     "text": [
      "The number of interactions is 1764607\n"
     ]
    }
   ],
   "source": [
    "print (\"The number of interactions is {}\".format(len(URM_all_dataframe)))"
   ]
  },
  {
   "cell_type": "code",
   "execution_count": 5,
   "metadata": {},
   "outputs": [
    {
     "name": "stdout",
     "output_type": "stream",
     "text": [
      "Number of items\t 38121, Number of users\t 35736\n",
      "Max ID items\t 38120, Max Id users\t 35735\n",
      "\n",
      "Average interactions per user 49.38\n",
      "Average interactions per item 46.29\n",
      "\n",
      "Sparsity 99.87 %\n"
     ]
    }
   ],
   "source": [
    "userID_unique = URM_all_dataframe[\"user_id\"].unique()\n",
    "itemID_unique = URM_all_dataframe[\"item_id\"].unique()\n",
    "\n",
    "n_users = len(userID_unique)\n",
    "n_items = len(itemID_unique)\n",
    "n_interactions = len(URM_all_dataframe)\n",
    "\n",
    "print (\"Number of items\\t {}, Number of users\\t {}\".format(n_items, n_users))\n",
    "print (\"Max ID items\\t {}, Max Id users\\t {}\\n\".format(max(itemID_unique), max(userID_unique)))\n",
    "print (\"Average interactions per user {:.2f}\".format(n_interactions/n_users))\n",
    "print (\"Average interactions per item {:.2f}\\n\".format(n_interactions/n_items))\n",
    "\n",
    "print (\"Sparsity {:.2f} %\".format((1-float(n_interactions)/(n_items*n_users))*100))"
   ]
  },
  {
   "cell_type": "markdown",
   "metadata": {},
   "source": [
    "# Splitting dataset"
   ]
  },
  {
   "cell_type": "code",
   "execution_count": 6,
   "metadata": {},
   "outputs": [],
   "source": [
    "import scipy.sparse as sps\n",
    "\n",
    "URM_all = sps.coo_matrix((URM_all_dataframe['data'], (URM_all_dataframe['user_id'], URM_all_dataframe['item_id'])))\n"
   ]
  },
  {
   "cell_type": "markdown",
   "metadata": {},
   "source": [
    "## K-fold Cross-validation\n",
    "To find the optimal parameters, we should use cross-validation to better find our parameters"
   ]
  },
  {
   "cell_type": "code",
   "execution_count": 7,
   "metadata": {},
   "outputs": [],
   "source": [
    "k_fold = 10\n",
    "seeds = [192760, 1393659, 1269293, 138973, 931308, 1088652, 1361151, 1456105, 820535, 1240839]\n",
    "assert len(seeds) == k_fold"
   ]
  },
  {
   "cell_type": "code",
   "execution_count": null,
   "metadata": {},
   "outputs": [
    {
     "name": "stdout",
     "output_type": "stream",
     "text": [
      "Warning: 167 (0.47 %) of 35736 users have no sampled items\n",
      "Warning: 425 (1.19 %) of 35736 users have no sampled items\n",
      "EvaluatorHoldout: Ignoring 425 ( 1.2%) Users that have less than 1 test interactions\n",
      "EvaluatorHoldout: Ignoring 167 ( 0.5%) Users that have less than 1 test interactions\n",
      "Warning: 155 (0.43 %) of 35736 users have no sampled items\n",
      "Warning: 447 (1.25 %) of 35736 users have no sampled items\n",
      "EvaluatorHoldout: Ignoring 447 ( 1.3%) Users that have less than 1 test interactions\n",
      "EvaluatorHoldout: Ignoring 155 ( 0.4%) Users that have less than 1 test interactions\n",
      "Warning: 167 (0.47 %) of 35736 users have no sampled items\n",
      "Warning: 441 (1.23 %) of 35736 users have no sampled items\n",
      "EvaluatorHoldout: Ignoring 441 ( 1.2%) Users that have less than 1 test interactions\n",
      "EvaluatorHoldout: Ignoring 167 ( 0.5%) Users that have less than 1 test interactions\n",
      "Warning: 163 (0.46 %) of 35736 users have no sampled items\n",
      "Warning: 467 (1.31 %) of 35736 users have no sampled items\n",
      "EvaluatorHoldout: Ignoring 467 ( 1.3%) Users that have less than 1 test interactions\n",
      "EvaluatorHoldout: Ignoring 163 ( 0.5%) Users that have less than 1 test interactions\n",
      "Warning: 169 (0.47 %) of 35736 users have no sampled items\n",
      "Warning: 425 (1.19 %) of 35736 users have no sampled items\n",
      "EvaluatorHoldout: Ignoring 425 ( 1.2%) Users that have less than 1 test interactions\n",
      "EvaluatorHoldout: Ignoring 169 ( 0.5%) Users that have less than 1 test interactions\n",
      "Warning: 154 (0.43 %) of 35736 users have no sampled items\n",
      "Warning: 413 (1.16 %) of 35736 users have no sampled items\n",
      "EvaluatorHoldout: Ignoring 413 ( 1.2%) Users that have less than 1 test interactions\n",
      "EvaluatorHoldout: Ignoring 154 ( 0.4%) Users that have less than 1 test interactions\n",
      "Warning: 169 (0.47 %) of 35736 users have no sampled items\n",
      "Warning: 409 (1.14 %) of 35736 users have no sampled items\n",
      "EvaluatorHoldout: Ignoring 409 ( 1.1%) Users that have less than 1 test interactions\n",
      "EvaluatorHoldout: Ignoring 169 ( 0.5%) Users that have less than 1 test interactions\n",
      "Warning: 158 (0.44 %) of 35736 users have no sampled items\n",
      "Warning: 400 (1.12 %) of 35736 users have no sampled items\n",
      "EvaluatorHoldout: Ignoring 400 ( 1.1%) Users that have less than 1 test interactions\n",
      "EvaluatorHoldout: Ignoring 158 ( 0.4%) Users that have less than 1 test interactions\n",
      "Warning: 173 (0.48 %) of 35736 users have no sampled items\n",
      "Warning: 466 (1.30 %) of 35736 users have no sampled items\n",
      "EvaluatorHoldout: Ignoring 466 ( 1.3%) Users that have less than 1 test interactions\n",
      "EvaluatorHoldout: Ignoring 173 ( 0.5%) Users that have less than 1 test interactions\n",
      "Warning: 176 (0.49 %) of 35736 users have no sampled items\n",
      "Warning: 459 (1.28 %) of 35736 users have no sampled items\n",
      "EvaluatorHoldout: Ignoring 459 ( 1.3%) Users that have less than 1 test interactions\n",
      "EvaluatorHoldout: Ignoring 176 ( 0.5%) Users that have less than 1 test interactions\n"
     ]
    }
   ],
   "source": [
    "import numpy as np\n",
    "import scipy.sparse as sps\n",
    "from Data_manager.split_functions.split_train_validation_random_holdout import split_train_in_two_percentage_global_sample\n",
    "from Evaluation.Evaluator import EvaluatorHoldout\n",
    "\n",
    "\n",
    "\n",
    "URM_all = sps.coo_matrix((URM_all_dataframe['data'], (URM_all_dataframe['user_id'], URM_all_dataframe['item_id'])))\n",
    "URM_all = URM_all.tocsr()\n",
    "urm_trains = []\n",
    "urm_validations = []\n",
    "urm_test = []\n",
    "# Defining evaluators\n",
    "evaluator_validation = []\n",
    "evaluator_test = []\n",
    "\n",
    "for i in range(k_fold):\n",
    "    # Splitting data into 64% train, 16% validation, 20% test\n",
    "    URM_train_validation, URM_test = split_train_in_two_percentage_global_sample(URM_all, train_percentage = 0.8, seed=seeds[i])\n",
    "    URM_train, URM_validation = split_train_in_two_percentage_global_sample(URM_train_validation, train_percentage = 0.8, seed=seeds[i])\n",
    "    \n",
    "    urm_trains.append(URM_train)\n",
    "    urm_validations.append(URM_validation)\n",
    "    urm_test.append(URM_test)\n",
    "    \n",
    "    evaluator_validation.append(EvaluatorHoldout(URM_validation, cutoff_list=[10]))\n",
    "    evaluator_test.append(EvaluatorHoldout(URM_test, cutoff_list=[10]))"
   ]
  },
  {
   "cell_type": "markdown",
   "metadata": {},
   "source": [
    "# Optuna: finding the optimal hyperparameters"
   ]
  },
  {
   "cell_type": "markdown",
   "metadata": {},
   "source": [
    "### Step 2: Define the objective function that will be run by the optimizer\n",
    "\n",
    "The obective function should:\n",
    "* Use the optuna trial instance to acquire the hyperparameter values required\n",
    "* Fit the model\n",
    "* Evaluate on the validation and return the result of a desired metric"
   ]
  },
  {
   "cell_type": "code",
   "execution_count": 9,
   "metadata": {},
   "outputs": [
    {
     "name": "stderr",
     "output_type": "stream",
     "text": [
      "/Users/lucapagano/miniconda3/envs/RecSysPD/lib/python3.8/site-packages/tqdm/auto.py:21: TqdmWarning: IProgress not found. Please update jupyter and ipywidgets. See https://ipywidgets.readthedocs.io/en/stable/user_install.html\n",
      "  from .autonotebook import tqdm as notebook_tqdm\n"
     ]
    }
   ],
   "source": [
    "import optuna\n",
    "import pandas as pd\n",
    "from Recommenders.KNN.ItemKNNCFRecommender import ItemKNNCFRecommender\n",
    "\n",
    "def objective_function(optuna_trial):\n",
    "    \n",
    "    similarity = optuna_trial.suggest_categorical(\"similarity\", ['cosine', 'dice', 'jaccard', 'asymmetric', 'tversky', 'euclidean'])\n",
    "    \n",
    "    params = {\"similarity\": similarity,\n",
    "                   \"topK\": optuna_trial.suggest_int(\"topK\", 5, 500),\n",
    "                   \"shrink\": optuna_trial.suggest_int(\"shrink\", 0, 100),\n",
    "                  }\n",
    "    \n",
    "    if similarity == \"asymmetric\":\n",
    "        params[\"asymmetric_alpha\"] = optuna_trial.suggest_float(\"asymmetric_alpha\", 0, 0.15, log=False)\n",
    "        params[\"normalize\"] = True     \n",
    "\n",
    "    elif similarity == \"tversky\":\n",
    "        params[\"tversky_alpha\"] = optuna_trial.suggest_float(\"tversky_alpha\", 0, 2, log=False)\n",
    "        params[\"tversky_beta\"] = optuna_trial.suggest_float(\"tversky_beta\", 0, 2, log=False)\n",
    "        params[\"normalize\"] = True \n",
    "\n",
    "    elif similarity == \"euclidean\":\n",
    "        params[\"normalize_avg_row\"] = optuna_trial.suggest_categorical(\"normalize_avg_row\", [True, False])\n",
    "        params[\"similarity_from_distance_mode\"] = optuna_trial.suggest_categorical(\"similarity_from_distance_mode\", [\"lin\", \"log\", \"exp\"])\n",
    "        params[\"normalize\"] = optuna_trial.suggest_categorical(\"normalize\", [True, False])\n",
    "        \n",
    "    MAP = 0\n",
    "    for i in range(k_fold):\n",
    "        recommender = ItemKNNCFRecommender(urm_trains[i])\n",
    "        recommender.fit(**params)\n",
    "\n",
    "        result_dict, _ = evaluator_validation[i].evaluateRecommender(recommender)\n",
    "\n",
    "        MAP += result_dict[\"MAP\"].item()\n",
    "    \n",
    "    MAP /= k_fold\n",
    "    \n",
    "    return MAP"
   ]
  },
  {
   "cell_type": "markdown",
   "metadata": {},
   "source": [
    "### Step 3: Create an object/function that will be called after every call of the objective function to log the results in a dataframe for easier readability"
   ]
  },
  {
   "cell_type": "code",
   "execution_count": 10,
   "metadata": {},
   "outputs": [],
   "source": [
    "class SaveResults(object):\n",
    "    \n",
    "    def __init__(self):\n",
    "        self.results_df = pd.DataFrame(columns = [\"result\"])\n",
    "    \n",
    "    def __call__(self, optuna_study, optuna_trial):\n",
    "        hyperparam_dict = optuna_trial.params.copy()\n",
    "        hyperparam_dict[\"result\"] = optuna_trial.values[0]\n",
    "        \n",
    "        self.results_df = pd.concat([self.results_df, pd.DataFrame([hyperparam_dict])], ignore_index=True)\n",
    "        self.results_df.to_csv(\"logs/KNN_similarity_search.csv\", index = False)"
   ]
  },
  {
   "cell_type": "markdown",
   "metadata": {},
   "source": [
    "### Step 4: Create an optuna Study and run"
   ]
  },
  {
   "cell_type": "code",
   "execution_count": 12,
   "metadata": {},
   "outputs": [
    {
     "name": "stderr",
     "output_type": "stream",
     "text": [
      "[I 2024-11-27 17:13:30,856] A new study created in memory with name: no-name-26ed80dc-ea18-4615-8161-657d3e1f6de0\n"
     ]
    },
    {
     "name": "stdout",
     "output_type": "stream",
     "text": [
      "Similarity column 38121 (100.0%), 5528.75 column/sec. Elapsed time 6.90 sec\n",
      "EvaluatorHoldout: Processed 35311 (100.0%) in 14.70 sec. Users per second: 2402\n",
      "Similarity column 38121 (100.0%), 5321.37 column/sec. Elapsed time 7.16 sec\n",
      "EvaluatorHoldout: Processed 35289 (100.0%) in 14.67 sec. Users per second: 2405\n",
      "Similarity column 38121 (100.0%), 5556.82 column/sec. Elapsed time 6.86 sec\n",
      "EvaluatorHoldout: Processed 35295 (100.0%) in 14.41 sec. Users per second: 2449\n",
      "Similarity column 38121 (100.0%), 5652.62 column/sec. Elapsed time 6.74 sec\n",
      "EvaluatorHoldout: Processed 35269 (100.0%) in 14.42 sec. Users per second: 2445\n",
      "Similarity column 38121 (100.0%), 5496.14 column/sec. Elapsed time 6.94 sec\n",
      "EvaluatorHoldout: Processed 35311 (100.0%) in 14.55 sec. Users per second: 2426\n",
      "Similarity column 38121 (100.0%), 5619.08 column/sec. Elapsed time 6.78 sec\n",
      "EvaluatorHoldout: Processed 35323 (100.0%) in 15.08 sec. Users per second: 2343\n",
      "Similarity column 38121 (100.0%), 5555.46 column/sec. Elapsed time 6.86 sec\n",
      "EvaluatorHoldout: Processed 35327 (100.0%) in 14.70 sec. Users per second: 2404\n",
      "Similarity column 38121 (100.0%), 5526.24 column/sec. Elapsed time 6.90 sec\n",
      "EvaluatorHoldout: Processed 35336 (100.0%) in 14.68 sec. Users per second: 2407\n",
      "Similarity column 38121 (100.0%), 5616.70 column/sec. Elapsed time 6.79 sec\n",
      "EvaluatorHoldout: Processed 35270 (100.0%) in 14.39 sec. Users per second: 2451\n",
      "Similarity column 38121 (100.0%), 5523.77 column/sec. Elapsed time 6.90 sec\n",
      "EvaluatorHoldout: Processed 35277 (100.0%) in 14.52 sec. Users per second: 2430\n"
     ]
    },
    {
     "name": "stderr",
     "output_type": "stream",
     "text": [
      "[I 2024-11-27 17:17:07,401] Trial 0 finished with value: 0.026694197434272114 and parameters: {'similarity': 'jaccard', 'topK': 155, 'shrink': 61}. Best is trial 0 with value: 0.026694197434272114.\n"
     ]
    },
    {
     "name": "stdout",
     "output_type": "stream",
     "text": [
      "Similarity column 38121 (100.0%), 5523.51 column/sec. Elapsed time 6.90 sec\n",
      "EvaluatorHoldout: Processed 35311 (100.0%) in 15.39 sec. Users per second: 2295\n",
      "Similarity column 38121 (100.0%), 5570.75 column/sec. Elapsed time 6.84 sec\n",
      "EvaluatorHoldout: Processed 35289 (100.0%) in 15.35 sec. Users per second: 2300\n",
      "Similarity column 38121 (100.0%), 5527.68 column/sec. Elapsed time 6.90 sec\n",
      "EvaluatorHoldout: Processed 35295 (100.0%) in 15.34 sec. Users per second: 2300\n",
      "Similarity column 38121 (100.0%), 5460.54 column/sec. Elapsed time 6.98 sec\n",
      "EvaluatorHoldout: Processed 35269 (100.0%) in 15.38 sec. Users per second: 2294\n",
      "Similarity column 38121 (100.0%), 5557.37 column/sec. Elapsed time 6.86 sec\n",
      "EvaluatorHoldout: Processed 35311 (100.0%) in 15.42 sec. Users per second: 2290\n",
      "Similarity column 38121 (100.0%), 5405.97 column/sec. Elapsed time 7.05 sec\n",
      "EvaluatorHoldout: Processed 35323 (100.0%) in 15.11 sec. Users per second: 2337\n",
      "Similarity column 38121 (100.0%), 5629.85 column/sec. Elapsed time 6.77 sec\n",
      "EvaluatorHoldout: Processed 35327 (100.0%) in 15.06 sec. Users per second: 2346\n",
      "Similarity column 38121 (100.0%), 5638.72 column/sec. Elapsed time 6.76 sec\n",
      "EvaluatorHoldout: Processed 35336 (100.0%) in 15.44 sec. Users per second: 2288\n",
      "Similarity column 38121 (100.0%), 5528.90 column/sec. Elapsed time 6.89 sec\n",
      "EvaluatorHoldout: Processed 35270 (100.0%) in 15.28 sec. Users per second: 2309\n",
      "Similarity column 38121 (100.0%), 5580.65 column/sec. Elapsed time 6.83 sec\n",
      "EvaluatorHoldout: Processed 35277 (100.0%) in 15.20 sec. Users per second: 2321\n"
     ]
    },
    {
     "name": "stderr",
     "output_type": "stream",
     "text": [
      "[I 2024-11-27 17:20:50,843] Trial 1 finished with value: 0.02629863696172157 and parameters: {'similarity': 'jaccard', 'topK': 192, 'shrink': 79}. Best is trial 0 with value: 0.026694197434272114.\n"
     ]
    },
    {
     "name": "stdout",
     "output_type": "stream",
     "text": [
      "Similarity column 38121 (100.0%), 5515.51 column/sec. Elapsed time 6.91 sec\n",
      "EvaluatorHoldout: Processed 35311 (100.0%) in 17.94 sec. Users per second: 1968\n",
      "Similarity column 38121 (100.0%), 5531.02 column/sec. Elapsed time 6.89 sec\n",
      "EvaluatorHoldout: Processed 35289 (100.0%) in 17.96 sec. Users per second: 1965\n",
      "Similarity column 38121 (100.0%), 5563.24 column/sec. Elapsed time 6.85 sec\n",
      "EvaluatorHoldout: Processed 35295 (100.0%) in 17.92 sec. Users per second: 1969\n",
      "Similarity column 38121 (100.0%), 5369.76 column/sec. Elapsed time 7.10 sec\n",
      "EvaluatorHoldout: Processed 35269 (100.0%) in 17.90 sec. Users per second: 1971\n",
      "Similarity column 38121 (100.0%), 5591.16 column/sec. Elapsed time 6.82 sec\n",
      "EvaluatorHoldout: Processed 35311 (100.0%) in 18.07 sec. Users per second: 1954\n",
      "Similarity column 38121 (100.0%), 5484.18 column/sec. Elapsed time 6.95 sec\n",
      "EvaluatorHoldout: Processed 35323 (100.0%) in 18.27 sec. Users per second: 1933\n",
      "Similarity column 38121 (100.0%), 5551.52 column/sec. Elapsed time 6.87 sec\n",
      "EvaluatorHoldout: Processed 35327 (100.0%) in 18.07 sec. Users per second: 1955\n",
      "Similarity column 38121 (100.0%), 5494.83 column/sec. Elapsed time 6.94 sec\n",
      "EvaluatorHoldout: Processed 35336 (100.0%) in 18.13 sec. Users per second: 1949\n",
      "Similarity column 38121 (100.0%), 5456.44 column/sec. Elapsed time 6.99 sec\n",
      "EvaluatorHoldout: Processed 35270 (100.0%) in 18.07 sec. Users per second: 1952\n",
      "Similarity column 38121 (100.0%), 5521.00 column/sec. Elapsed time 6.90 sec\n",
      "EvaluatorHoldout: Processed 35277 (100.0%) in 17.47 sec. Users per second: 2020\n"
     ]
    },
    {
     "name": "stderr",
     "output_type": "stream",
     "text": [
      "[I 2024-11-27 17:25:02,372] Trial 2 finished with value: 0.026105476358645352 and parameters: {'similarity': 'jaccard', 'topK': 404, 'shrink': 40}. Best is trial 0 with value: 0.026694197434272114.\n"
     ]
    },
    {
     "name": "stdout",
     "output_type": "stream",
     "text": [
      "Similarity column 38121 (100.0%), 866.24 column/sec. Elapsed time 44.01 sec\n",
      "EvaluatorHoldout: Processed 35311 (100.0%) in 17.82 sec. Users per second: 1982\n",
      "Similarity column 38121 (100.0%), 862.29 column/sec. Elapsed time 44.21 sec\n",
      "EvaluatorHoldout: Processed 35289 (100.0%) in 17.72 sec. Users per second: 1991\n",
      "Similarity column 38121 (100.0%), 874.07 column/sec. Elapsed time 43.61 sec\n",
      "EvaluatorHoldout: Processed 35295 (100.0%) in 17.75 sec. Users per second: 1989\n",
      "Similarity column 38121 (100.0%), 861.51 column/sec. Elapsed time 44.25 sec\n",
      "EvaluatorHoldout: Processed 35269 (100.0%) in 17.87 sec. Users per second: 1974\n",
      "Similarity column 38121 (100.0%), 853.63 column/sec. Elapsed time 44.66 sec\n",
      "EvaluatorHoldout: Processed 35311 (100.0%) in 17.73 sec. Users per second: 1992\n",
      "Similarity column 38121 (100.0%), 834.33 column/sec. Elapsed time 45.69 sec\n",
      "EvaluatorHoldout: Processed 35323 (100.0%) in 17.83 sec. Users per second: 1982\n",
      "Similarity column 38121 (100.0%), 845.85 column/sec. Elapsed time 45.07 sec\n",
      "EvaluatorHoldout: Processed 35327 (100.0%) in 17.80 sec. Users per second: 1985\n",
      "Similarity column 38121 (100.0%), 855.11 column/sec. Elapsed time 44.58 sec\n",
      "EvaluatorHoldout: Processed 35336 (100.0%) in 17.67 sec. Users per second: 2000\n",
      "Similarity column 38121 (100.0%), 864.78 column/sec. Elapsed time 44.08 sec\n",
      "EvaluatorHoldout: Processed 35270 (100.0%) in 17.71 sec. Users per second: 1992\n",
      "Similarity column 38121 (100.0%), 863.50 column/sec. Elapsed time 44.15 sec\n",
      "EvaluatorHoldout: Processed 35277 (100.0%) in 17.70 sec. Users per second: 1993\n"
     ]
    },
    {
     "name": "stderr",
     "output_type": "stream",
     "text": [
      "[I 2024-11-27 17:35:25,748] Trial 3 finished with value: 0.01228088431745719 and parameters: {'similarity': 'euclidean', 'topK': 409, 'shrink': 31, 'normalize_avg_row': False, 'similarity_from_distance_mode': 'log', 'normalize': True}. Best is trial 0 with value: 0.026694197434272114.\n"
     ]
    },
    {
     "name": "stdout",
     "output_type": "stream",
     "text": [
      "Similarity column 38121 (100.0%), 5460.09 column/sec. Elapsed time 6.98 sec\n",
      "EvaluatorHoldout: Processed 35311 (100.0%) in 16.60 sec. Users per second: 2127\n",
      "Similarity column 38121 (100.0%), 5638.00 column/sec. Elapsed time 6.76 sec\n",
      "EvaluatorHoldout: Processed 35289 (100.0%) in 16.67 sec. Users per second: 2117\n",
      "Similarity column 38121 (100.0%), 5514.22 column/sec. Elapsed time 6.91 sec\n",
      "EvaluatorHoldout: Processed 35295 (100.0%) in 16.66 sec. Users per second: 2119\n",
      "Similarity column 38121 (100.0%), 5532.87 column/sec. Elapsed time 6.89 sec\n",
      "EvaluatorHoldout: Processed 35269 (100.0%) in 16.54 sec. Users per second: 2132\n",
      "Similarity column 38121 (100.0%), 5549.76 column/sec. Elapsed time 6.87 sec\n",
      "EvaluatorHoldout: Processed 35311 (100.0%) in 16.47 sec. Users per second: 2144\n",
      "Similarity column 38121 (100.0%), 5638.42 column/sec. Elapsed time 6.76 sec\n",
      "EvaluatorHoldout: Processed 35323 (100.0%) in 16.63 sec. Users per second: 2124\n",
      "Similarity column 38121 (100.0%), 5587.79 column/sec. Elapsed time 6.82 sec\n",
      "EvaluatorHoldout: Processed 35327 (100.0%) in 16.56 sec. Users per second: 2133\n",
      "Similarity column 38121 (100.0%), 5548.99 column/sec. Elapsed time 6.87 sec\n",
      "EvaluatorHoldout: Processed 35336 (100.0%) in 16.71 sec. Users per second: 2114\n",
      "Similarity column 38121 (100.0%), 5557.02 column/sec. Elapsed time 6.86 sec\n",
      "EvaluatorHoldout: Processed 35270 (100.0%) in 16.75 sec. Users per second: 2106\n",
      "Similarity column 38121 (100.0%), 5465.01 column/sec. Elapsed time 6.98 sec\n",
      "EvaluatorHoldout: Processed 35277 (100.0%) in 16.54 sec. Users per second: 2132\n"
     ]
    },
    {
     "name": "stderr",
     "output_type": "stream",
     "text": [
      "[I 2024-11-27 17:39:21,620] Trial 4 finished with value: 0.025492607866096945 and parameters: {'similarity': 'cosine', 'topK': 201, 'shrink': 60}. Best is trial 0 with value: 0.026694197434272114.\n"
     ]
    },
    {
     "name": "stdout",
     "output_type": "stream",
     "text": [
      "Similarity column 38121 (100.0%), 5474.10 column/sec. Elapsed time 6.96 sec\n",
      "EvaluatorHoldout: Processed 35311 (100.0%) in 13.58 sec. Users per second: 2600\n",
      "Similarity column 38121 (100.0%), 5475.91 column/sec. Elapsed time 6.96 sec\n",
      "EvaluatorHoldout: Processed 35289 (100.0%) in 13.55 sec. Users per second: 2604\n",
      "Similarity column 38121 (100.0%), 5477.00 column/sec. Elapsed time 6.96 sec\n",
      "EvaluatorHoldout: Processed 35295 (100.0%) in 13.58 sec. Users per second: 2599\n",
      "Similarity column 38121 (100.0%), 5493.72 column/sec. Elapsed time 6.94 sec\n",
      "EvaluatorHoldout: Processed 35269 (100.0%) in 13.52 sec. Users per second: 2609\n",
      "Similarity column 38121 (100.0%), 5485.27 column/sec. Elapsed time 6.95 sec\n",
      "EvaluatorHoldout: Processed 35311 (100.0%) in 13.66 sec. Users per second: 2584\n",
      "Similarity column 38121 (100.0%), 5572.23 column/sec. Elapsed time 6.84 sec\n",
      "EvaluatorHoldout: Processed 35323 (100.0%) in 13.54 sec. Users per second: 2609\n",
      "Similarity column 38121 (100.0%), 5462.87 column/sec. Elapsed time 6.98 sec\n",
      "EvaluatorHoldout: Processed 35327 (100.0%) in 13.60 sec. Users per second: 2598\n",
      "Similarity column 38121 (100.0%), 5485.05 column/sec. Elapsed time 6.95 sec\n",
      "EvaluatorHoldout: Processed 35336 (100.0%) in 13.53 sec. Users per second: 2611\n",
      "Similarity column 38121 (100.0%), 5467.73 column/sec. Elapsed time 6.97 sec\n",
      "EvaluatorHoldout: Processed 35270 (100.0%) in 13.51 sec. Users per second: 2611\n",
      "Similarity column 38121 (100.0%), 5456.08 column/sec. Elapsed time 6.99 sec\n",
      "EvaluatorHoldout: Processed 35277 (100.0%) in 13.53 sec. Users per second: 2607\n"
     ]
    },
    {
     "name": "stderr",
     "output_type": "stream",
     "text": [
      "[I 2024-11-27 17:42:47,477] Trial 5 finished with value: 0.024752719184510216 and parameters: {'similarity': 'asymmetric', 'topK': 115, 'shrink': 76, 'asymmetric_alpha': 0.07130882771241516}. Best is trial 0 with value: 0.026694197434272114.\n"
     ]
    },
    {
     "name": "stdout",
     "output_type": "stream",
     "text": [
      "Similarity column 38121 (100.0%), 5651.47 column/sec. Elapsed time 6.75 sec\n",
      "EvaluatorHoldout: Processed 35311 (100.0%) in 14.48 sec. Users per second: 2439\n",
      "Similarity column 38121 (100.0%), 5680.29 column/sec. Elapsed time 6.71 sec\n",
      "EvaluatorHoldout: Processed 35289 (100.0%) in 14.37 sec. Users per second: 2456\n",
      "Similarity column 38121 (100.0%), 5681.38 column/sec. Elapsed time 6.71 sec\n",
      "EvaluatorHoldout: Processed 35295 (100.0%) in 14.32 sec. Users per second: 2464\n",
      "Similarity column 38121 (100.0%), 5663.41 column/sec. Elapsed time 6.73 sec\n",
      "EvaluatorHoldout: Processed 35269 (100.0%) in 14.29 sec. Users per second: 2469\n",
      "Similarity column 38121 (100.0%), 5634.06 column/sec. Elapsed time 6.77 sec\n",
      "EvaluatorHoldout: Processed 35311 (100.0%) in 14.51 sec. Users per second: 2434\n",
      "Similarity column 38121 (100.0%), 5483.13 column/sec. Elapsed time 6.95 sec\n",
      "EvaluatorHoldout: Processed 35323 (100.0%) in 14.49 sec. Users per second: 2438\n",
      "Similarity column 38121 (100.0%), 5683.97 column/sec. Elapsed time 6.71 sec\n",
      "EvaluatorHoldout: Processed 35327 (100.0%) in 14.46 sec. Users per second: 2443\n",
      "Similarity column 38121 (100.0%), 5686.69 column/sec. Elapsed time 6.70 sec\n",
      "EvaluatorHoldout: Processed 35336 (100.0%) in 14.43 sec. Users per second: 2449\n",
      "Similarity column 38121 (100.0%), 5705.37 column/sec. Elapsed time 6.68 sec\n",
      "EvaluatorHoldout: Processed 35270 (100.0%) in 14.38 sec. Users per second: 2452\n",
      "Similarity column 38121 (100.0%), 5557.26 column/sec. Elapsed time 6.86 sec\n",
      "EvaluatorHoldout: Processed 35277 (100.0%) in 14.02 sec. Users per second: 2515\n"
     ]
    },
    {
     "name": "stderr",
     "output_type": "stream",
     "text": [
      "[I 2024-11-27 17:46:19,462] Trial 6 finished with value: 0.02592063472176052 and parameters: {'similarity': 'cosine', 'topK': 100, 'shrink': 77}. Best is trial 0 with value: 0.026694197434272114.\n"
     ]
    },
    {
     "name": "stdout",
     "output_type": "stream",
     "text": [
      "Similarity column 38121 (100.0%), 1020.67 column/sec. Elapsed time 37.35 sec\n",
      "EvaluatorHoldout: Processed 35311 (100.0%) in 16.66 sec. Users per second: 2119\n",
      "Similarity column 38121 (100.0%), 984.80 column/sec. Elapsed time 38.71 sec\n",
      "EvaluatorHoldout: Processed 35289 (100.0%) in 16.63 sec. Users per second: 2122\n",
      "Similarity column 38121 (100.0%), 995.92 column/sec. Elapsed time 38.28 sec\n",
      "EvaluatorHoldout: Processed 35295 (100.0%) in 16.62 sec. Users per second: 2124\n",
      "Similarity column 38121 (100.0%), 980.88 column/sec. Elapsed time 38.86 sec\n",
      "EvaluatorHoldout: Processed 35269 (100.0%) in 16.80 sec. Users per second: 2099\n",
      "Similarity column 38121 (100.0%), 965.45 column/sec. Elapsed time 39.49 sec\n",
      "EvaluatorHoldout: Processed 35311 (100.0%) in 17.19 sec. Users per second: 2054\n",
      "Similarity column 38121 (100.0%), 951.78 column/sec. Elapsed time 40.05 sec\n",
      "EvaluatorHoldout: Processed 35323 (100.0%) in 16.75 sec. Users per second: 2109\n",
      "Similarity column 38121 (100.0%), 987.10 column/sec. Elapsed time 38.62 sec\n",
      "EvaluatorHoldout: Processed 35327 (100.0%) in 17.40 sec. Users per second: 2030\n",
      "Similarity column 38121 (100.0%), 951.42 column/sec. Elapsed time 40.07 sec\n",
      "EvaluatorHoldout: Processed 35336 (100.0%) in 16.70 sec. Users per second: 2116\n",
      "Similarity column 38121 (100.0%), 989.39 column/sec. Elapsed time 38.53 sec\n",
      "EvaluatorHoldout: Processed 35270 (100.0%) in 16.73 sec. Users per second: 2108\n",
      "Similarity column 38121 (100.0%), 975.49 column/sec. Elapsed time 39.08 sec\n",
      "EvaluatorHoldout: Processed 35277 (100.0%) in 16.73 sec. Users per second: 2108\n"
     ]
    },
    {
     "name": "stderr",
     "output_type": "stream",
     "text": [
      "[I 2024-11-27 17:55:37,905] Trial 7 finished with value: 0.012877985799095881 and parameters: {'similarity': 'euclidean', 'topK': 333, 'shrink': 89, 'normalize_avg_row': True, 'similarity_from_distance_mode': 'lin', 'normalize': True}. Best is trial 0 with value: 0.026694197434272114.\n"
     ]
    },
    {
     "name": "stdout",
     "output_type": "stream",
     "text": [
      "Similarity column 38121 (100.0%), 5707.79 column/sec. Elapsed time 6.68 sec\n",
      "EvaluatorHoldout: Processed 35311 (100.0%) in 17.60 sec. Users per second: 2006\n",
      "Similarity column 38121 (100.0%), 5763.60 column/sec. Elapsed time 6.61 sec\n",
      "EvaluatorHoldout: Processed 35289 (100.0%) in 17.66 sec. Users per second: 1998\n",
      "Similarity column 38121 (100.0%), 5734.10 column/sec. Elapsed time 6.65 sec\n",
      "EvaluatorHoldout: Processed 35295 (100.0%) in 17.67 sec. Users per second: 1997\n",
      "Similarity column 38121 (100.0%), 5717.54 column/sec. Elapsed time 6.67 sec\n",
      "EvaluatorHoldout: Processed 35269 (100.0%) in 17.52 sec. Users per second: 2014\n",
      "Similarity column 38121 (100.0%), 5739.97 column/sec. Elapsed time 6.64 sec\n",
      "EvaluatorHoldout: Processed 35311 (100.0%) in 17.54 sec. Users per second: 2013\n",
      "Similarity column 38121 (100.0%), 5760.97 column/sec. Elapsed time 6.62 sec\n",
      "EvaluatorHoldout: Processed 35323 (100.0%) in 17.57 sec. Users per second: 2011\n",
      "Similarity column 38121 (100.0%), 5699.62 column/sec. Elapsed time 6.69 sec\n",
      "EvaluatorHoldout: Processed 35327 (100.0%) in 17.60 sec. Users per second: 2007\n",
      "Similarity column 38121 (100.0%), 5689.42 column/sec. Elapsed time 6.70 sec\n",
      "EvaluatorHoldout: Processed 35336 (100.0%) in 17.59 sec. Users per second: 2009\n",
      "Similarity column 38121 (100.0%), 5782.16 column/sec. Elapsed time 6.59 sec\n",
      "EvaluatorHoldout: Processed 35270 (100.0%) in 17.61 sec. Users per second: 2003\n",
      "Similarity column 38121 (100.0%), 5763.75 column/sec. Elapsed time 6.61 sec\n",
      "EvaluatorHoldout: Processed 35277 (100.0%) in 17.61 sec. Users per second: 2003\n"
     ]
    },
    {
     "name": "stderr",
     "output_type": "stream",
     "text": [
      "[I 2024-11-27 17:59:42,789] Trial 8 finished with value: 0.025689104709806017 and parameters: {'similarity': 'dice', 'topK': 373, 'shrink': 41}. Best is trial 0 with value: 0.026694197434272114.\n"
     ]
    },
    {
     "name": "stdout",
     "output_type": "stream",
     "text": [
      "Similarity column 38121 (100.0%), 960.17 column/sec. Elapsed time 39.70 sec\n",
      "EvaluatorHoldout: Processed 35311 (100.0%) in 15.06 sec. Users per second: 2345\n",
      "Similarity column 38121 (100.0%), 976.94 column/sec. Elapsed time 39.02 sec\n",
      "EvaluatorHoldout: Processed 35289 (100.0%) in 15.44 sec. Users per second: 2286\n",
      "Similarity column 38121 (100.0%), 967.60 column/sec. Elapsed time 39.40 sec\n",
      "EvaluatorHoldout: Processed 35295 (100.0%) in 15.56 sec. Users per second: 2268\n",
      "Similarity column 38121 (100.0%), 947.97 column/sec. Elapsed time 40.21 sec\n",
      "EvaluatorHoldout: Processed 35269 (100.0%) in 15.29 sec. Users per second: 2306\n",
      "Similarity column 38121 (100.0%), 970.91 column/sec. Elapsed time 39.26 sec\n",
      "EvaluatorHoldout: Processed 35311 (100.0%) in 14.98 sec. Users per second: 2358\n",
      "Similarity column 38121 (100.0%), 952.98 column/sec. Elapsed time 40.00 sec\n",
      "EvaluatorHoldout: Processed 35323 (100.0%) in 15.28 sec. Users per second: 2311\n",
      "Similarity column 38121 (100.0%), 990.21 column/sec. Elapsed time 38.50 sec\n",
      "EvaluatorHoldout: Processed 35327 (100.0%) in 15.57 sec. Users per second: 2268\n",
      "Similarity column 38121 (100.0%), 920.31 column/sec. Elapsed time 41.42 sec\n",
      "EvaluatorHoldout: Processed 35336 (100.0%) in 15.75 sec. Users per second: 2243\n",
      "Similarity column 38121 (100.0%), 941.74 column/sec. Elapsed time 40.48 sec\n",
      "EvaluatorHoldout: Processed 35270 (100.0%) in 15.43 sec. Users per second: 2287\n",
      "Similarity column 38121 (100.0%), 936.88 column/sec. Elapsed time 40.69 sec\n",
      "EvaluatorHoldout: Processed 35277 (100.0%) in 15.37 sec. Users per second: 2296\n"
     ]
    },
    {
     "name": "stderr",
     "output_type": "stream",
     "text": [
      "[I 2024-11-27 18:08:56,126] Trial 9 finished with value: 0.013774146699099885 and parameters: {'similarity': 'euclidean', 'topK': 250, 'shrink': 99, 'normalize_avg_row': False, 'similarity_from_distance_mode': 'log', 'normalize': True}. Best is trial 0 with value: 0.026694197434272114.\n"
     ]
    },
    {
     "name": "stdout",
     "output_type": "stream",
     "text": [
      "Similarity column 38121 (100.0%), 5746.19 column/sec. Elapsed time 6.63 sec\n",
      "EvaluatorHoldout: Processed 35311 (100.0%) in 10.60 sec. Users per second: 3332\n",
      "Similarity column 38121 (100.0%), 5759.96 column/sec. Elapsed time 6.62 sec\n",
      "EvaluatorHoldout: Processed 35289 (100.0%) in 10.63 sec. Users per second: 3321\n",
      "Similarity column 38121 (100.0%), 5780.40 column/sec. Elapsed time 6.59 sec\n",
      "EvaluatorHoldout: Processed 35295 (100.0%) in 10.64 sec. Users per second: 3319\n",
      "Similarity column 38121 (100.0%), 5778.97 column/sec. Elapsed time 6.60 sec\n",
      "EvaluatorHoldout: Processed 35269 (100.0%) in 10.59 sec. Users per second: 3330\n",
      "Similarity column 38121 (100.0%), 5725.45 column/sec. Elapsed time 6.66 sec\n",
      "EvaluatorHoldout: Processed 35311 (100.0%) in 10.65 sec. Users per second: 3315\n",
      "Similarity column 38121 (100.0%), 5782.87 column/sec. Elapsed time 6.59 sec\n",
      "EvaluatorHoldout: Processed 35323 (100.0%) in 10.67 sec. Users per second: 3311\n",
      "Similarity column 38121 (100.0%), 5747.66 column/sec. Elapsed time 6.63 sec\n",
      "EvaluatorHoldout: Processed 35327 (100.0%) in 10.58 sec. Users per second: 3339\n",
      "Similarity column 38121 (100.0%), 5736.55 column/sec. Elapsed time 6.65 sec\n",
      "EvaluatorHoldout: Processed 35336 (100.0%) in 10.59 sec. Users per second: 3338\n",
      "Similarity column 38121 (100.0%), 5793.64 column/sec. Elapsed time 6.58 sec\n",
      "EvaluatorHoldout: Processed 35270 (100.0%) in 10.63 sec. Users per second: 3317\n",
      "Similarity column 38121 (100.0%), 5762.28 column/sec. Elapsed time 6.62 sec\n",
      "EvaluatorHoldout: Processed 35277 (100.0%) in 10.58 sec. Users per second: 3334\n"
     ]
    },
    {
     "name": "stderr",
     "output_type": "stream",
     "text": [
      "[I 2024-11-27 18:11:49,576] Trial 10 finished with value: 0.029920996641919568 and parameters: {'similarity': 'tversky', 'topK': 21, 'shrink': 7, 'tversky_alpha': 0.1713472572934025, 'tversky_beta': 1.4208397443282883}. Best is trial 10 with value: 0.029920996641919568.\n"
     ]
    },
    {
     "name": "stdout",
     "output_type": "stream",
     "text": [
      "Similarity column 38121 (100.0%), 5762.61 column/sec. Elapsed time 6.62 sec\n",
      "EvaluatorHoldout: Processed 35311 (100.0%) in 10.31 sec. Users per second: 3424\n",
      "Similarity column 38121 (100.0%), 5736.97 column/sec. Elapsed time 6.64 sec\n",
      "EvaluatorHoldout: Processed 35289 (100.0%) in 10.29 sec. Users per second: 3430\n",
      "Similarity column 38121 (100.0%), 5767.15 column/sec. Elapsed time 6.61 sec\n",
      "EvaluatorHoldout: Processed 35295 (100.0%) in 10.34 sec. Users per second: 3414\n",
      "Similarity column 38121 (100.0%), 5780.39 column/sec. Elapsed time 6.59 sec\n",
      "EvaluatorHoldout: Processed 35269 (100.0%) in 10.34 sec. Users per second: 3410\n",
      "Similarity column 38121 (100.0%), 5737.72 column/sec. Elapsed time 6.64 sec\n",
      "EvaluatorHoldout: Processed 35311 (100.0%) in 10.32 sec. Users per second: 3421\n",
      "Similarity column 38121 (100.0%), 5795.25 column/sec. Elapsed time 6.58 sec\n",
      "EvaluatorHoldout: Processed 35323 (100.0%) in 9.98 sec. Users per second: 3541\n",
      "Similarity column 38121 (100.0%), 5890.01 column/sec. Elapsed time 6.47 sec\n",
      "EvaluatorHoldout: Processed 35327 (100.0%) in 10.31 sec. Users per second: 3426\n",
      "Similarity column 38121 (100.0%), 5732.88 column/sec. Elapsed time 6.65 sec\n",
      "EvaluatorHoldout: Processed 35336 (100.0%) in 10.25 sec. Users per second: 3448\n",
      "Similarity column 38121 (100.0%), 5784.34 column/sec. Elapsed time 6.59 sec\n",
      "EvaluatorHoldout: Processed 35270 (100.0%) in 10.28 sec. Users per second: 3431\n",
      "Similarity column 38121 (100.0%), 5773.12 column/sec. Elapsed time 6.60 sec\n",
      "EvaluatorHoldout: Processed 35277 (100.0%) in 10.27 sec. Users per second: 3434\n"
     ]
    },
    {
     "name": "stderr",
     "output_type": "stream",
     "text": [
      "[I 2024-11-27 18:14:39,405] Trial 11 finished with value: 0.028153627579534535 and parameters: {'similarity': 'tversky', 'topK': 11, 'shrink': 0, 'tversky_alpha': 0.022882518128568063, 'tversky_beta': 1.4716944313520872}. Best is trial 10 with value: 0.029920996641919568.\n"
     ]
    },
    {
     "name": "stdout",
     "output_type": "stream",
     "text": [
      "Similarity column 38121 (100.0%), 5747.79 column/sec. Elapsed time 6.63 sec\n",
      "EvaluatorHoldout: Processed 35311 (100.0%) in 10.54 sec. Users per second: 3351\n",
      "Similarity column 38121 (100.0%), 5768.46 column/sec. Elapsed time 6.61 sec\n",
      "EvaluatorHoldout: Processed 35289 (100.0%) in 10.58 sec. Users per second: 3337\n",
      "Similarity column 38121 (100.0%), 5822.60 column/sec. Elapsed time 6.55 sec\n",
      "EvaluatorHoldout: Processed 35295 (100.0%) in 10.38 sec. Users per second: 3402\n",
      "Similarity column 38121 (100.0%), 5862.63 column/sec. Elapsed time 6.50 sec\n",
      "EvaluatorHoldout: Processed 35269 (100.0%) in 10.36 sec. Users per second: 3405\n",
      "Similarity column 38121 (100.0%), 5867.91 column/sec. Elapsed time 6.50 sec\n",
      "EvaluatorHoldout: Processed 35311 (100.0%) in 10.27 sec. Users per second: 3439\n",
      "Similarity column 38121 (100.0%), 5878.97 column/sec. Elapsed time 6.48 sec\n",
      "EvaluatorHoldout: Processed 35323 (100.0%) in 10.35 sec. Users per second: 3414\n",
      "Similarity column 38121 (100.0%), 5850.88 column/sec. Elapsed time 6.52 sec\n",
      "EvaluatorHoldout: Processed 35327 (100.0%) in 10.31 sec. Users per second: 3425\n",
      "Similarity column 38121 (100.0%), 5852.31 column/sec. Elapsed time 6.51 sec\n",
      "EvaluatorHoldout: Processed 35336 (100.0%) in 10.31 sec. Users per second: 3426\n",
      "Similarity column 38121 (100.0%), 5873.11 column/sec. Elapsed time 6.49 sec\n",
      "EvaluatorHoldout: Processed 35270 (100.0%) in 10.34 sec. Users per second: 3411\n",
      "Similarity column 38121 (100.0%), 5867.25 column/sec. Elapsed time 6.50 sec\n",
      "EvaluatorHoldout: Processed 35277 (100.0%) in 10.36 sec. Users per second: 3404\n"
     ]
    },
    {
     "name": "stderr",
     "output_type": "stream",
     "text": [
      "[I 2024-11-27 18:17:29,597] Trial 12 finished with value: 0.028980039749587894 and parameters: {'similarity': 'tversky', 'topK': 23, 'shrink': 4, 'tversky_alpha': 0.02186961981061563, 'tversky_beta': 1.4520518296793974}. Best is trial 10 with value: 0.029920996641919568.\n"
     ]
    },
    {
     "name": "stdout",
     "output_type": "stream",
     "text": [
      "Similarity column 38121 (100.0%), 5861.84 column/sec. Elapsed time 6.50 sec\n",
      "EvaluatorHoldout: Processed 35311 (100.0%) in 10.29 sec. Users per second: 3432\n",
      "Similarity column 38121 (100.0%), 5817.10 column/sec. Elapsed time 6.55 sec\n",
      "EvaluatorHoldout: Processed 35289 (100.0%) in 10.27 sec. Users per second: 3436\n",
      "Similarity column 38121 (100.0%), 5869.79 column/sec. Elapsed time 6.49 sec\n",
      "EvaluatorHoldout: Processed 35295 (100.0%) in 10.23 sec. Users per second: 3451\n",
      "Similarity column 38121 (100.0%), 5830.33 column/sec. Elapsed time 6.54 sec\n",
      "EvaluatorHoldout: Processed 35269 (100.0%) in 10.29 sec. Users per second: 3426\n",
      "Similarity column 38121 (100.0%), 5861.89 column/sec. Elapsed time 6.50 sec\n",
      "EvaluatorHoldout: Processed 35311 (100.0%) in 10.29 sec. Users per second: 3432\n",
      "Similarity column 38121 (100.0%), 5848.77 column/sec. Elapsed time 6.52 sec\n",
      "EvaluatorHoldout: Processed 35323 (100.0%) in 10.28 sec. Users per second: 3435\n",
      "Similarity column 38121 (100.0%), 5867.97 column/sec. Elapsed time 6.50 sec\n",
      "EvaluatorHoldout: Processed 35327 (100.0%) in 10.28 sec. Users per second: 3438\n",
      "Similarity column 38121 (100.0%), 5825.72 column/sec. Elapsed time 6.54 sec\n",
      "EvaluatorHoldout: Processed 35336 (100.0%) in 10.29 sec. Users per second: 3434\n",
      "Similarity column 38121 (100.0%), 5854.94 column/sec. Elapsed time 6.51 sec\n",
      "EvaluatorHoldout: Processed 35270 (100.0%) in 10.24 sec. Users per second: 3443\n",
      "Similarity column 38121 (100.0%), 5830.93 column/sec. Elapsed time 6.54 sec\n",
      "EvaluatorHoldout: Processed 35277 (100.0%) in 10.30 sec. Users per second: 3426\n"
     ]
    },
    {
     "name": "stderr",
     "output_type": "stream",
     "text": [
      "[I 2024-11-27 18:20:18,654] Trial 13 finished with value: 0.02901113272152254 and parameters: {'similarity': 'tversky', 'topK': 21, 'shrink': 6, 'tversky_alpha': 0.0018719792577313807, 'tversky_beta': 1.3963102612344551}. Best is trial 10 with value: 0.029920996641919568.\n"
     ]
    },
    {
     "name": "stdout",
     "output_type": "stream",
     "text": [
      "Similarity column 38121 (100.0%), 5842.97 column/sec. Elapsed time 6.52 sec\n",
      "EvaluatorHoldout: Processed 35311 (100.0%) in 11.88 sec. Users per second: 2973\n",
      "Similarity column 38121 (100.0%), 5849.57 column/sec. Elapsed time 6.52 sec\n",
      "EvaluatorHoldout: Processed 35289 (100.0%) in 11.79 sec. Users per second: 2993\n",
      "Similarity column 38121 (100.0%), 5809.25 column/sec. Elapsed time 6.56 sec\n",
      "EvaluatorHoldout: Processed 35295 (100.0%) in 11.81 sec. Users per second: 2988\n",
      "Similarity column 38121 (100.0%), 5841.07 column/sec. Elapsed time 6.53 sec\n",
      "EvaluatorHoldout: Processed 35269 (100.0%) in 11.76 sec. Users per second: 2998\n",
      "Similarity column 38121 (100.0%), 5809.48 column/sec. Elapsed time 6.56 sec\n",
      "EvaluatorHoldout: Processed 35311 (100.0%) in 11.84 sec. Users per second: 2983\n",
      "Similarity column 38121 (100.0%), 5856.84 column/sec. Elapsed time 6.51 sec\n",
      "EvaluatorHoldout: Processed 35323 (100.0%) in 11.80 sec. Users per second: 2994\n",
      "Similarity column 38121 (100.0%), 5838.60 column/sec. Elapsed time 6.53 sec\n",
      "EvaluatorHoldout: Processed 35327 (100.0%) in 11.78 sec. Users per second: 2999\n",
      "Similarity column 38121 (100.0%), 5824.34 column/sec. Elapsed time 6.55 sec\n",
      "EvaluatorHoldout: Processed 35336 (100.0%) in 11.85 sec. Users per second: 2981\n",
      "Similarity column 38121 (100.0%), 5846.89 column/sec. Elapsed time 6.52 sec\n",
      "EvaluatorHoldout: Processed 35270 (100.0%) in 11.80 sec. Users per second: 2989\n",
      "Similarity column 38121 (100.0%), 5845.67 column/sec. Elapsed time 6.52 sec\n",
      "EvaluatorHoldout: Processed 35277 (100.0%) in 11.82 sec. Users per second: 2985\n"
     ]
    },
    {
     "name": "stderr",
     "output_type": "stream",
     "text": [
      "[I 2024-11-27 18:23:23,381] Trial 14 finished with value: 0.027466120983577192 and parameters: {'similarity': 'tversky', 'topK': 75, 'shrink': 17, 'tversky_alpha': 0.19884207367156795, 'tversky_beta': 0.6820733987284551}. Best is trial 10 with value: 0.029920996641919568.\n"
     ]
    },
    {
     "name": "stdout",
     "output_type": "stream",
     "text": [
      "Similarity column 38121 (100.0%), 5738.48 column/sec. Elapsed time 6.64 sec\n",
      "EvaluatorHoldout: Processed 35311 (100.0%) in 17.85 sec. Users per second: 1979\n",
      "Similarity column 38121 (100.0%), 5703.94 column/sec. Elapsed time 6.68 sec\n",
      "EvaluatorHoldout: Processed 35289 (100.0%) in 17.77 sec. Users per second: 1986\n",
      "Similarity column 38121 (100.0%), 5734.75 column/sec. Elapsed time 6.65 sec\n",
      "EvaluatorHoldout: Processed 35295 (100.0%) in 17.81 sec. Users per second: 1981\n",
      "Similarity column 38121 (100.0%), 5739.97 column/sec. Elapsed time 6.64 sec\n",
      "EvaluatorHoldout: Processed 35269 (100.0%) in 17.99 sec. Users per second: 1961\n",
      "Similarity column 38121 (100.0%), 5743.39 column/sec. Elapsed time 6.64 sec\n",
      "EvaluatorHoldout: Processed 35311 (100.0%) in 17.92 sec. Users per second: 1971\n",
      "Similarity column 38121 (100.0%), 5741.51 column/sec. Elapsed time 6.64 sec\n",
      "EvaluatorHoldout: Processed 35323 (100.0%) in 18.03 sec. Users per second: 1959\n",
      "Similarity column 38121 (100.0%), 5544.14 column/sec. Elapsed time 6.88 sec\n",
      "EvaluatorHoldout: Processed 35327 (100.0%) in 18.17 sec. Users per second: 1945\n",
      "Similarity column 38121 (100.0%), 5624.40 column/sec. Elapsed time 6.78 sec\n",
      "EvaluatorHoldout: Processed 35336 (100.0%) in 17.87 sec. Users per second: 1977\n",
      "Similarity column 38121 (100.0%), 5748.79 column/sec. Elapsed time 6.63 sec\n",
      "EvaluatorHoldout: Processed 35270 (100.0%) in 17.83 sec. Users per second: 1979\n",
      "Similarity column 38121 (100.0%), 5591.80 column/sec. Elapsed time 6.82 sec\n",
      "EvaluatorHoldout: Processed 35277 (100.0%) in 17.86 sec. Users per second: 1975\n"
     ]
    },
    {
     "name": "stderr",
     "output_type": "stream",
     "text": [
      "[I 2024-11-27 18:27:32,315] Trial 15 finished with value: 0.026508185029871834 and parameters: {'similarity': 'tversky', 'topK': 492, 'shrink': 18, 'tversky_alpha': 1.1286556177771927, 'tversky_beta': 1.9672434573323871}. Best is trial 10 with value: 0.029920996641919568.\n"
     ]
    },
    {
     "name": "stdout",
     "output_type": "stream",
     "text": [
      "Similarity column 38121 (100.0%), 5818.16 column/sec. Elapsed time 6.55 sec\n",
      "EvaluatorHoldout: Processed 35311 (100.0%) in 11.41 sec. Users per second: 3094\n",
      "Similarity column 38121 (100.0%), 5849.46 column/sec. Elapsed time 6.52 sec\n",
      "EvaluatorHoldout: Processed 35289 (100.0%) in 11.38 sec. Users per second: 3101\n",
      "Similarity column 38121 (100.0%), 5813.63 column/sec. Elapsed time 6.56 sec\n",
      "EvaluatorHoldout: Processed 35295 (100.0%) in 11.34 sec. Users per second: 3113\n",
      "Similarity column 38121 (100.0%), 5849.87 column/sec. Elapsed time 6.52 sec\n",
      "EvaluatorHoldout: Processed 35269 (100.0%) in 11.37 sec. Users per second: 3101\n",
      "Similarity column 38121 (100.0%), 5820.06 column/sec. Elapsed time 6.55 sec\n",
      "EvaluatorHoldout: Processed 35311 (100.0%) in 11.42 sec. Users per second: 3092\n",
      "Similarity column 38121 (100.0%), 5868.70 column/sec. Elapsed time 6.50 sec\n",
      "EvaluatorHoldout: Processed 35323 (100.0%) in 11.39 sec. Users per second: 3101\n",
      "Similarity column 38121 (100.0%), 5820.50 column/sec. Elapsed time 6.55 sec\n",
      "EvaluatorHoldout: Processed 35327 (100.0%) in 11.43 sec. Users per second: 3091\n",
      "Similarity column 38121 (100.0%), 5839.87 column/sec. Elapsed time 6.53 sec\n",
      "EvaluatorHoldout: Processed 35336 (100.0%) in 11.43 sec. Users per second: 3093\n",
      "Similarity column 38121 (100.0%), 5785.89 column/sec. Elapsed time 6.59 sec\n",
      "EvaluatorHoldout: Processed 35270 (100.0%) in 11.54 sec. Users per second: 3057\n",
      "Similarity column 38121 (100.0%), 5718.96 column/sec. Elapsed time 6.67 sec\n",
      "EvaluatorHoldout: Processed 35277 (100.0%) in 11.57 sec. Users per second: 3048\n"
     ]
    },
    {
     "name": "stderr",
     "output_type": "stream",
     "text": [
      "[I 2024-11-27 18:30:33,349] Trial 16 finished with value: 0.028435230707951824 and parameters: {'similarity': 'tversky', 'topK': 56, 'shrink': 17, 'tversky_alpha': 0.6703524746260271, 'tversky_beta': 1.1852589203228783}. Best is trial 10 with value: 0.029920996641919568.\n"
     ]
    },
    {
     "name": "stdout",
     "output_type": "stream",
     "text": [
      "Similarity column 38121 (100.0%), 5920.17 column/sec. Elapsed time 6.44 sec\n",
      "EvaluatorHoldout: Processed 35311 (100.0%) in 13.60 sec. Users per second: 2597\n",
      "Similarity column 38121 (100.0%), 5830.14 column/sec. Elapsed time 6.54 sec\n",
      "EvaluatorHoldout: Processed 35289 (100.0%) in 13.63 sec. Users per second: 2590\n",
      "Similarity column 38121 (100.0%), 5886.60 column/sec. Elapsed time 6.48 sec\n",
      "EvaluatorHoldout: Processed 35295 (100.0%) in 13.43 sec. Users per second: 2629\n",
      "Similarity column 38121 (100.0%), 5921.75 column/sec. Elapsed time 6.44 sec\n",
      "EvaluatorHoldout: Processed 35269 (100.0%) in 13.38 sec. Users per second: 2636\n",
      "Similarity column 38121 (100.0%), 5923.71 column/sec. Elapsed time 6.44 sec\n",
      "EvaluatorHoldout: Processed 35311 (100.0%) in 13.44 sec. Users per second: 2627\n",
      "Similarity column 38121 (100.0%), 5930.91 column/sec. Elapsed time 6.43 sec\n",
      "EvaluatorHoldout: Processed 35323 (100.0%) in 13.46 sec. Users per second: 2625\n",
      "Similarity column 38121 (100.0%), 5905.38 column/sec. Elapsed time 6.46 sec\n",
      "EvaluatorHoldout: Processed 35327 (100.0%) in 13.39 sec. Users per second: 2638\n",
      "Similarity column 38121 (100.0%), 5893.43 column/sec. Elapsed time 6.47 sec\n",
      "EvaluatorHoldout: Processed 35336 (100.0%) in 13.45 sec. Users per second: 2628\n",
      "Similarity column 38121 (100.0%), 5920.83 column/sec. Elapsed time 6.44 sec\n",
      "EvaluatorHoldout: Processed 35270 (100.0%) in 13.43 sec. Users per second: 2626\n",
      "Similarity column 38121 (100.0%), 5908.71 column/sec. Elapsed time 6.45 sec\n",
      "EvaluatorHoldout: Processed 35277 (100.0%) in 13.40 sec. Users per second: 2632\n"
     ]
    },
    {
     "name": "stderr",
     "output_type": "stream",
     "text": [
      "[I 2024-11-27 18:33:54,061] Trial 17 finished with value: 0.026558655745151056 and parameters: {'similarity': 'dice', 'topK': 140, 'shrink': 27}. Best is trial 10 with value: 0.029920996641919568.\n"
     ]
    },
    {
     "name": "stdout",
     "output_type": "stream",
     "text": [
      "Similarity column 38121 (100.0%), 5592.70 column/sec. Elapsed time 6.82 sec\n",
      "EvaluatorHoldout: Processed 35311 (100.0%) in 10.15 sec. Users per second: 3478\n",
      "Similarity column 38121 (100.0%), 5550.19 column/sec. Elapsed time 6.87 sec\n",
      "EvaluatorHoldout: Processed 35289 (100.0%) in 10.19 sec. Users per second: 3464\n",
      "Similarity column 38121 (100.0%), 5590.98 column/sec. Elapsed time 6.82 sec\n",
      "EvaluatorHoldout: Processed 35295 (100.0%) in 10.09 sec. Users per second: 3497\n",
      "Similarity column 38121 (100.0%), 5539.96 column/sec. Elapsed time 6.88 sec\n",
      "EvaluatorHoldout: Processed 35269 (100.0%) in 10.14 sec. Users per second: 3479\n",
      "Similarity column 38121 (100.0%), 5587.79 column/sec. Elapsed time 6.82 sec\n",
      "EvaluatorHoldout: Processed 35311 (100.0%) in 10.20 sec. Users per second: 3463\n",
      "Similarity column 38121 (100.0%), 5598.17 column/sec. Elapsed time 6.81 sec\n",
      "EvaluatorHoldout: Processed 35323 (100.0%) in 10.09 sec. Users per second: 3500\n",
      "Similarity column 38121 (100.0%), 5579.37 column/sec. Elapsed time 6.83 sec\n",
      "EvaluatorHoldout: Processed 35327 (100.0%) in 10.17 sec. Users per second: 3474\n",
      "Similarity column 38121 (100.0%), 5573.58 column/sec. Elapsed time 6.84 sec\n",
      "EvaluatorHoldout: Processed 35336 (100.0%) in 10.11 sec. Users per second: 3497\n",
      "Similarity column 38121 (100.0%), 5586.97 column/sec. Elapsed time 6.82 sec\n",
      "EvaluatorHoldout: Processed 35270 (100.0%) in 10.14 sec. Users per second: 3479\n",
      "Similarity column 38121 (100.0%), 5577.30 column/sec. Elapsed time 6.84 sec\n",
      "EvaluatorHoldout: Processed 35277 (100.0%) in 10.12 sec. Users per second: 3484\n"
     ]
    },
    {
     "name": "stderr",
     "output_type": "stream",
     "text": [
      "[I 2024-11-27 18:36:44,178] Trial 18 finished with value: 0.029728076131490595 and parameters: {'similarity': 'asymmetric', 'topK': 12, 'shrink': 7, 'asymmetric_alpha': 0.001429735546449748}. Best is trial 10 with value: 0.029920996641919568.\n"
     ]
    },
    {
     "name": "stdout",
     "output_type": "stream",
     "text": [
      "Similarity column 38121 (100.0%), 5511.82 column/sec. Elapsed time 6.92 sec\n",
      "EvaluatorHoldout: Processed 35311 (100.0%) in 14.56 sec. Users per second: 2425\n",
      "Similarity column 38121 (100.0%), 5495.98 column/sec. Elapsed time 6.94 sec\n",
      "EvaluatorHoldout: Processed 35289 (100.0%) in 14.52 sec. Users per second: 2430\n",
      "Similarity column 38121 (100.0%), 5490.44 column/sec. Elapsed time 6.94 sec\n",
      "EvaluatorHoldout: Processed 35295 (100.0%) in 14.51 sec. Users per second: 2433\n",
      "Similarity column 38121 (100.0%), 5497.69 column/sec. Elapsed time 6.93 sec\n",
      "EvaluatorHoldout: Processed 35269 (100.0%) in 14.54 sec. Users per second: 2426\n",
      "Similarity column 38121 (100.0%), 5491.45 column/sec. Elapsed time 6.94 sec\n",
      "EvaluatorHoldout: Processed 35311 (100.0%) in 14.45 sec. Users per second: 2443\n",
      "Similarity column 38121 (100.0%), 5464.52 column/sec. Elapsed time 6.98 sec\n",
      "EvaluatorHoldout: Processed 35323 (100.0%) in 14.47 sec. Users per second: 2441\n",
      "Similarity column 38121 (100.0%), 5486.00 column/sec. Elapsed time 6.95 sec\n",
      "EvaluatorHoldout: Processed 35327 (100.0%) in 14.53 sec. Users per second: 2431\n",
      "Similarity column 38121 (100.0%), 5480.38 column/sec. Elapsed time 6.96 sec\n",
      "EvaluatorHoldout: Processed 35336 (100.0%) in 14.46 sec. Users per second: 2444\n",
      "Similarity column 38121 (100.0%), 5457.80 column/sec. Elapsed time 6.98 sec\n",
      "EvaluatorHoldout: Processed 35270 (100.0%) in 14.48 sec. Users per second: 2436\n",
      "Similarity column 38121 (100.0%), 5472.21 column/sec. Elapsed time 6.97 sec\n",
      "EvaluatorHoldout: Processed 35277 (100.0%) in 14.53 sec. Users per second: 2428\n"
     ]
    },
    {
     "name": "stderr",
     "output_type": "stream",
     "text": [
      "[I 2024-11-27 18:40:20,022] Trial 19 finished with value: 0.024568353634282027 and parameters: {'similarity': 'asymmetric', 'topK': 287, 'shrink': 13, 'asymmetric_alpha': 0.004049147897006569}. Best is trial 10 with value: 0.029920996641919568.\n"
     ]
    },
    {
     "name": "stdout",
     "output_type": "stream",
     "text": [
      "Similarity column 38121 (100.0%), 5537.80 column/sec. Elapsed time 6.88 sec\n",
      "EvaluatorHoldout: Processed 35311 (100.0%) in 11.43 sec. Users per second: 3089\n",
      "Similarity column 38121 (100.0%), 5510.42 column/sec. Elapsed time 6.92 sec\n",
      "EvaluatorHoldout: Processed 35289 (100.0%) in 11.45 sec. Users per second: 3081\n",
      "Similarity column 38121 (100.0%), 5522.80 column/sec. Elapsed time 6.90 sec\n",
      "EvaluatorHoldout: Processed 35295 (100.0%) in 11.48 sec. Users per second: 3076\n",
      "Similarity column 38121 (100.0%), 5500.72 column/sec. Elapsed time 6.93 sec\n",
      "EvaluatorHoldout: Processed 35269 (100.0%) in 11.48 sec. Users per second: 3073\n",
      "Similarity column 38121 (100.0%), 5536.36 column/sec. Elapsed time 6.89 sec\n",
      "EvaluatorHoldout: Processed 35311 (100.0%) in 11.47 sec. Users per second: 3080\n",
      "Similarity column 38121 (100.0%), 5508.77 column/sec. Elapsed time 6.92 sec\n",
      "EvaluatorHoldout: Processed 35323 (100.0%) in 11.53 sec. Users per second: 3064\n",
      "Similarity column 38121 (100.0%), 5518.07 column/sec. Elapsed time 6.91 sec\n",
      "EvaluatorHoldout: Processed 35327 (100.0%) in 11.52 sec. Users per second: 3066\n",
      "Similarity column 38121 (100.0%), 5520.05 column/sec. Elapsed time 6.91 sec\n",
      "EvaluatorHoldout: Processed 35336 (100.0%) in 11.54 sec. Users per second: 3062\n",
      "Similarity column 38121 (100.0%), 5530.81 column/sec. Elapsed time 6.89 sec\n",
      "EvaluatorHoldout: Processed 35270 (100.0%) in 11.52 sec. Users per second: 3062\n",
      "Similarity column 38121 (100.0%), 5525.91 column/sec. Elapsed time 6.90 sec\n",
      "EvaluatorHoldout: Processed 35277 (100.0%) in 11.45 sec. Users per second: 3082\n"
     ]
    },
    {
     "name": "stderr",
     "output_type": "stream",
     "text": [
      "[I 2024-11-27 18:43:24,468] Trial 20 finished with value: 0.027619415793228297 and parameters: {'similarity': 'asymmetric', 'topK': 61, 'shrink': 28, 'asymmetric_alpha': 0.0005241294489499032}. Best is trial 10 with value: 0.029920996641919568.\n"
     ]
    },
    {
     "name": "stdout",
     "output_type": "stream",
     "text": [
      "Similarity column 38121 (100.0%), 5513.37 column/sec. Elapsed time 6.91 sec\n",
      "EvaluatorHoldout: Processed 35311 (100.0%) in 10.31 sec. Users per second: 3424\n",
      "Similarity column 38121 (100.0%), 5536.44 column/sec. Elapsed time 6.89 sec\n",
      "EvaluatorHoldout: Processed 35289 (100.0%) in 10.31 sec. Users per second: 3422\n",
      "Similarity column 38121 (100.0%), 5496.56 column/sec. Elapsed time 6.94 sec\n",
      "EvaluatorHoldout: Processed 35295 (100.0%) in 10.30 sec. Users per second: 3427\n",
      "Similarity column 38121 (100.0%), 5537.42 column/sec. Elapsed time 6.88 sec\n",
      "EvaluatorHoldout: Processed 35269 (100.0%) in 10.33 sec. Users per second: 3414\n",
      "Similarity column 38121 (100.0%), 5502.86 column/sec. Elapsed time 6.93 sec\n",
      "EvaluatorHoldout: Processed 35311 (100.0%) in 10.40 sec. Users per second: 3397\n",
      "Similarity column 38121 (100.0%), 5540.41 column/sec. Elapsed time 6.88 sec\n",
      "EvaluatorHoldout: Processed 35323 (100.0%) in 10.36 sec. Users per second: 3408\n",
      "Similarity column 38121 (100.0%), 5506.90 column/sec. Elapsed time 6.92 sec\n",
      "EvaluatorHoldout: Processed 35327 (100.0%) in 10.31 sec. Users per second: 3427\n",
      "Similarity column 38121 (100.0%), 5523.83 column/sec. Elapsed time 6.90 sec\n",
      "EvaluatorHoldout: Processed 35336 (100.0%) in 10.41 sec. Users per second: 3395\n",
      "Similarity column 38121 (100.0%), 5535.56 column/sec. Elapsed time 6.89 sec\n",
      "EvaluatorHoldout: Processed 35270 (100.0%) in 10.29 sec. Users per second: 3426\n",
      "Similarity column 38121 (100.0%), 5527.30 column/sec. Elapsed time 6.90 sec\n",
      "EvaluatorHoldout: Processed 35277 (100.0%) in 10.35 sec. Users per second: 3407\n"
     ]
    },
    {
     "name": "stderr",
     "output_type": "stream",
     "text": [
      "[I 2024-11-27 18:46:17,294] Trial 21 finished with value: 0.02980846501540424 and parameters: {'similarity': 'asymmetric', 'topK': 16, 'shrink': 7, 'asymmetric_alpha': 0.13659168816347517}. Best is trial 10 with value: 0.029920996641919568.\n"
     ]
    },
    {
     "name": "stdout",
     "output_type": "stream",
     "text": [
      "Similarity column 38121 (100.0%), 5542.83 column/sec. Elapsed time 6.88 sec\n",
      "EvaluatorHoldout: Processed 35311 (100.0%) in 10.07 sec. Users per second: 3507\n",
      "Similarity column 38121 (100.0%), 5451.48 column/sec. Elapsed time 6.99 sec\n",
      "EvaluatorHoldout: Processed 35289 (100.0%) in 10.34 sec. Users per second: 3414\n",
      "Similarity column 38121 (100.0%), 5469.39 column/sec. Elapsed time 6.97 sec\n",
      "EvaluatorHoldout: Processed 35295 (100.0%) in 10.18 sec. Users per second: 3466\n",
      "Similarity column 38121 (100.0%), 5397.72 column/sec. Elapsed time 7.06 sec\n",
      "EvaluatorHoldout: Processed 35269 (100.0%) in 10.10 sec. Users per second: 3492\n",
      "Similarity column 38121 (100.0%), 5446.15 column/sec. Elapsed time 7.00 sec\n",
      "EvaluatorHoldout: Processed 35311 (100.0%) in 10.17 sec. Users per second: 3472\n",
      "Similarity column 38121 (100.0%), 5529.27 column/sec. Elapsed time 6.89 sec\n",
      "EvaluatorHoldout: Processed 35323 (100.0%) in 10.27 sec. Users per second: 3439\n",
      "Similarity column 38121 (100.0%), 5454.14 column/sec. Elapsed time 6.99 sec\n",
      "EvaluatorHoldout: Processed 35327 (100.0%) in 10.19 sec. Users per second: 3468\n",
      "Similarity column 38121 (100.0%), 5500.47 column/sec. Elapsed time 6.93 sec\n",
      "EvaluatorHoldout: Processed 35336 (100.0%) in 10.25 sec. Users per second: 3448\n",
      "Similarity column 38121 (100.0%), 5526.62 column/sec. Elapsed time 6.90 sec\n",
      "EvaluatorHoldout: Processed 35270 (100.0%) in 10.14 sec. Users per second: 3480\n",
      "Similarity column 38121 (100.0%), 5490.82 column/sec. Elapsed time 6.94 sec\n",
      "EvaluatorHoldout: Processed 35277 (100.0%) in 10.14 sec. Users per second: 3479\n"
     ]
    },
    {
     "name": "stderr",
     "output_type": "stream",
     "text": [
      "[I 2024-11-27 18:49:09,076] Trial 22 finished with value: 0.03046875439593815 and parameters: {'similarity': 'asymmetric', 'topK': 6, 'shrink': 7, 'asymmetric_alpha': 0.14580390736946253}. Best is trial 22 with value: 0.03046875439593815.\n"
     ]
    },
    {
     "name": "stdout",
     "output_type": "stream",
     "text": [
      "Similarity column 38121 (100.0%), 5494.96 column/sec. Elapsed time 6.94 sec\n",
      "EvaluatorHoldout: Processed 35311 (100.0%) in 12.02 sec. Users per second: 2937\n",
      "Similarity column 38121 (100.0%), 5469.40 column/sec. Elapsed time 6.97 sec\n",
      "EvaluatorHoldout: Processed 35289 (100.0%) in 12.06 sec. Users per second: 2927\n",
      "Similarity column 38121 (100.0%), 5499.61 column/sec. Elapsed time 6.93 sec\n",
      "EvaluatorHoldout: Processed 35295 (100.0%) in 12.10 sec. Users per second: 2917\n",
      "Similarity column 38121 (100.0%), 5493.76 column/sec. Elapsed time 6.94 sec\n",
      "EvaluatorHoldout: Processed 35269 (100.0%) in 12.07 sec. Users per second: 2922\n",
      "Similarity column 38121 (100.0%), 5474.49 column/sec. Elapsed time 6.96 sec\n",
      "EvaluatorHoldout: Processed 35311 (100.0%) in 12.03 sec. Users per second: 2935\n",
      "Similarity column 38121 (100.0%), 5511.78 column/sec. Elapsed time 6.92 sec\n",
      "EvaluatorHoldout: Processed 35323 (100.0%) in 12.04 sec. Users per second: 2934\n",
      "Similarity column 38121 (100.0%), 5463.23 column/sec. Elapsed time 6.98 sec\n",
      "EvaluatorHoldout: Processed 35327 (100.0%) in 12.06 sec. Users per second: 2929\n",
      "Similarity column 38121 (100.0%), 5482.91 column/sec. Elapsed time 6.95 sec\n",
      "EvaluatorHoldout: Processed 35336 (100.0%) in 12.09 sec. Users per second: 2922\n",
      "Similarity column 38121 (100.0%), 5501.72 column/sec. Elapsed time 6.93 sec\n",
      "EvaluatorHoldout: Processed 35270 (100.0%) in 12.02 sec. Users per second: 2935\n",
      "Similarity column 38121 (100.0%), 5492.18 column/sec. Elapsed time 6.94 sec\n",
      "EvaluatorHoldout: Processed 35277 (100.0%) in 12.14 sec. Users per second: 2907\n"
     ]
    },
    {
     "name": "stderr",
     "output_type": "stream",
     "text": [
      "[I 2024-11-27 18:52:19,787] Trial 23 finished with value: 0.02743077837272348 and parameters: {'similarity': 'asymmetric', 'topK': 80, 'shrink': 23, 'asymmetric_alpha': 0.14565146141014543}. Best is trial 22 with value: 0.03046875439593815.\n"
     ]
    },
    {
     "name": "stdout",
     "output_type": "stream",
     "text": [
      "Similarity column 38121 (100.0%), 5517.53 column/sec. Elapsed time 6.91 sec\n",
      "EvaluatorHoldout: Processed 35311 (100.0%) in 11.65 sec. Users per second: 3032\n",
      "Similarity column 38121 (100.0%), 5475.39 column/sec. Elapsed time 6.96 sec\n",
      "EvaluatorHoldout: Processed 35289 (100.0%) in 11.65 sec. Users per second: 3028\n",
      "Similarity column 38121 (100.0%), 5496.85 column/sec. Elapsed time 6.94 sec\n",
      "EvaluatorHoldout: Processed 35295 (100.0%) in 11.63 sec. Users per second: 3036\n",
      "Similarity column 38121 (100.0%), 5474.00 column/sec. Elapsed time 6.96 sec\n",
      "EvaluatorHoldout: Processed 35269 (100.0%) in 11.60 sec. Users per second: 3039\n",
      "Similarity column 38121 (100.0%), 5508.37 column/sec. Elapsed time 6.92 sec\n",
      "EvaluatorHoldout: Processed 35311 (100.0%) in 11.64 sec. Users per second: 3033\n",
      "Similarity column 38121 (100.0%), 5522.69 column/sec. Elapsed time 6.90 sec\n",
      "EvaluatorHoldout: Processed 35323 (100.0%) in 11.63 sec. Users per second: 3038\n",
      "Similarity column 38121 (100.0%), 5510.39 column/sec. Elapsed time 6.92 sec\n",
      "EvaluatorHoldout: Processed 35327 (100.0%) in 11.69 sec. Users per second: 3023\n",
      "Similarity column 38121 (100.0%), 5494.14 column/sec. Elapsed time 6.94 sec\n",
      "EvaluatorHoldout: Processed 35336 (100.0%) in 11.63 sec. Users per second: 3039\n",
      "Similarity column 38121 (100.0%), 5511.26 column/sec. Elapsed time 6.92 sec\n",
      "EvaluatorHoldout: Processed 35270 (100.0%) in 11.96 sec. Users per second: 2949\n",
      "Similarity column 38121 (100.0%), 34.71 column/sec. Elapsed time 18.31 min\n",
      "EvaluatorHoldout: Processed 35277 (100.0%) in 57.94 sec. Users per second: 609\n"
     ]
    },
    {
     "name": "stderr",
     "output_type": "stream",
     "text": [
      "[I 2024-11-27 19:14:24,032] Trial 24 finished with value: 0.027635739378332424 and parameters: {'similarity': 'asymmetric', 'topK': 52, 'shrink': 38, 'asymmetric_alpha': 0.1370162976045869}. Best is trial 22 with value: 0.03046875439593815.\n"
     ]
    },
    {
     "name": "stdout",
     "output_type": "stream",
     "text": [
      "Similarity column 38121 (100.0%), 5571.01 column/sec. Elapsed time 6.84 sec\n",
      "EvaluatorHoldout: Processed 35311 (100.0%) in 1.28 min. Users per second: 460\n",
      "Similarity column 38121 (100.0%), 5574.91 column/sec. Elapsed time 6.84 sec\n",
      "EvaluatorHoldout: Processed 35289 (100.0%) in 1.75 min. Users per second: 336\n",
      "Similarity column 38121 (100.0%), 5282.77 column/sec. Elapsed time 7.22 sec\n",
      "EvaluatorHoldout: Processed 35295 (100.0%) in 12.70 sec. Users per second: 2780\n",
      "Similarity column 38121 (100.0%), 5489.06 column/sec. Elapsed time 6.94 sec\n",
      "EvaluatorHoldout: Processed 35269 (100.0%) in 12.30 sec. Users per second: 2868\n",
      "Similarity column 38121 (100.0%), 5555.68 column/sec. Elapsed time 6.86 sec\n",
      "EvaluatorHoldout: Processed 35311 (100.0%) in 12.30 sec. Users per second: 2871\n",
      "Similarity column 38121 (100.0%), 5572.14 column/sec. Elapsed time 6.84 sec\n",
      "EvaluatorHoldout: Processed 35323 (100.0%) in 12.25 sec. Users per second: 2884\n",
      "Similarity column 38121 (100.0%), 5541.01 column/sec. Elapsed time 6.88 sec\n",
      "EvaluatorHoldout: Processed 35327 (100.0%) in 12.30 sec. Users per second: 2872\n",
      "Similarity column 38121 (100.0%), 5543.57 column/sec. Elapsed time 6.88 sec\n",
      "EvaluatorHoldout: Processed 35336 (100.0%) in 12.28 sec. Users per second: 2877\n",
      "Similarity column 38121 (100.0%), 5473.04 column/sec. Elapsed time 6.97 sec\n",
      "EvaluatorHoldout: Processed 35270 (100.0%) in 12.48 sec. Users per second: 2827\n",
      "Similarity column 38121 (100.0%), 5469.23 column/sec. Elapsed time 6.97 sec\n",
      "EvaluatorHoldout: Processed 35277 (100.0%) in 12.72 sec. Users per second: 2773\n"
     ]
    },
    {
     "name": "stderr",
     "output_type": "stream",
     "text": [
      "[I 2024-11-27 19:20:15,064] Trial 25 finished with value: 0.026704867469499592 and parameters: {'similarity': 'asymmetric', 'topK': 156, 'shrink': 0, 'asymmetric_alpha': 0.10360223002133565}. Best is trial 22 with value: 0.03046875439593815.\n"
     ]
    },
    {
     "name": "stdout",
     "output_type": "stream",
     "text": [
      "Similarity column 38121 (100.0%), 431.49 column/sec. Elapsed time 1.47 min\n",
      "EvaluatorHoldout: Processed 35311 (100.0%) in 12.79 sec. Users per second: 2761\n",
      "Similarity column 38121 (100.0%), 5420.39 column/sec. Elapsed time 7.03 sec\n",
      "EvaluatorHoldout: Processed 35289 (100.0%) in 12.39 sec. Users per second: 2848\n",
      "Similarity column 38121 (100.0%), 5487.34 column/sec. Elapsed time 6.95 sec\n",
      "EvaluatorHoldout: Processed 35295 (100.0%) in 12.37 sec. Users per second: 2854\n",
      "Similarity column 38121 (100.0%), 5460.92 column/sec. Elapsed time 6.98 sec\n",
      "EvaluatorHoldout: Processed 35269 (100.0%) in 12.33 sec. Users per second: 2861\n",
      "Similarity column 38121 (100.0%), 5488.11 column/sec. Elapsed time 6.95 sec\n",
      "EvaluatorHoldout: Processed 35311 (100.0%) in 12.48 sec. Users per second: 2829\n",
      "Similarity column 38121 (100.0%), 5344.31 column/sec. Elapsed time 7.13 sec\n",
      "EvaluatorHoldout: Processed 35323 (100.0%) in 12.46 sec. Users per second: 2835\n",
      "Similarity column 38121 (100.0%), 5482.31 column/sec. Elapsed time 6.95 sec\n",
      "EvaluatorHoldout: Processed 35327 (100.0%) in 12.40 sec. Users per second: 2848\n",
      "Similarity column 38121 (100.0%), 5479.37 column/sec. Elapsed time 6.96 sec\n",
      "EvaluatorHoldout: Processed 35336 (100.0%) in 12.44 sec. Users per second: 2840\n",
      "Similarity column 38121 (100.0%), 5496.08 column/sec. Elapsed time 6.94 sec\n",
      "EvaluatorHoldout: Processed 35270 (100.0%) in 12.40 sec. Users per second: 2845\n",
      "Similarity column 38121 (100.0%), 5481.36 column/sec. Elapsed time 6.95 sec\n",
      "EvaluatorHoldout: Processed 35277 (100.0%) in 12.41 sec. Users per second: 2842\n"
     ]
    },
    {
     "name": "stderr",
     "output_type": "stream",
     "text": [
      "[I 2024-11-27 19:24:51,471] Trial 26 finished with value: 0.027238981405244722 and parameters: {'similarity': 'asymmetric', 'topK': 112, 'shrink': 11, 'asymmetric_alpha': 0.11311601881812045}. Best is trial 22 with value: 0.03046875439593815.\n"
     ]
    },
    {
     "name": "stdout",
     "output_type": "stream",
     "text": [
      "Similarity column 38121 (100.0%), 5759.53 column/sec. Elapsed time 6.62 sec\n",
      "EvaluatorHoldout: Processed 35311 (100.0%) in 15.23 sec. Users per second: 2319\n",
      "Similarity column 38121 (100.0%), 5808.34 column/sec. Elapsed time 6.56 sec\n",
      "EvaluatorHoldout: Processed 35289 (100.0%) in 15.11 sec. Users per second: 2336\n",
      "Similarity column 38121 (100.0%), 5823.72 column/sec. Elapsed time 6.55 sec\n",
      "EvaluatorHoldout: Processed 35295 (100.0%) in 15.14 sec. Users per second: 2331\n",
      "Similarity column 38121 (100.0%), 5822.43 column/sec. Elapsed time 6.55 sec\n",
      "EvaluatorHoldout: Processed 35269 (100.0%) in 3.38 min. Users per second: 174\n",
      "Similarity column 38121 (100.0%), 3140.36 column/sec. Elapsed time 12.14 sec\n",
      "EvaluatorHoldout: Processed 35311 (100.0%) in 14.83 sec. Users per second: 2381\n",
      "Similarity column 38121 (100.0%), 5915.62 column/sec. Elapsed time 6.44 sec\n",
      "EvaluatorHoldout: Processed 35323 (100.0%) in 14.72 sec. Users per second: 2400\n",
      "Similarity column 38121 (100.0%), 5897.98 column/sec. Elapsed time 6.46 sec\n",
      "EvaluatorHoldout: Processed 35327 (100.0%) in 14.78 sec. Users per second: 2390\n",
      "Similarity column 38121 (100.0%), 5892.81 column/sec. Elapsed time 6.47 sec\n",
      "EvaluatorHoldout: Processed 35336 (100.0%) in 14.68 sec. Users per second: 2407\n",
      "Similarity column 38121 (100.0%), 5884.06 column/sec. Elapsed time 6.48 sec\n",
      "EvaluatorHoldout: Processed 35270 (100.0%) in 14.64 sec. Users per second: 2409\n",
      "Similarity column 38121 (100.0%), 5918.11 column/sec. Elapsed time 6.44 sec\n",
      "EvaluatorHoldout: Processed 35277 (100.0%) in 14.77 sec. Users per second: 2389\n"
     ]
    },
    {
     "name": "stderr",
     "output_type": "stream",
     "text": [
      "[I 2024-11-27 19:31:40,893] Trial 27 finished with value: 0.026147219339966627 and parameters: {'similarity': 'dice', 'topK': 204, 'shrink': 49}. Best is trial 22 with value: 0.03046875439593815.\n"
     ]
    },
    {
     "name": "stdout",
     "output_type": "stream",
     "text": [
      "Similarity column 38121 (100.0%), 5788.87 column/sec. Elapsed time 6.59 sec\n",
      "EvaluatorHoldout: Processed 35311 (100.0%) in 11.48 sec. Users per second: 3075\n",
      "Similarity column 38121 (100.0%), 5673.94 column/sec. Elapsed time 6.72 sec\n",
      "EvaluatorHoldout: Processed 35289 (100.0%) in 1.13 min. Users per second: 522\n",
      "Similarity column 38121 (100.0%), 5732.00 column/sec. Elapsed time 6.65 sec\n",
      "EvaluatorHoldout: Processed 35295 (100.0%) in 11.59 sec. Users per second: 3045\n",
      "Similarity column 38121 (100.0%), 5720.99 column/sec. Elapsed time 6.66 sec\n",
      "EvaluatorHoldout: Processed 35269 (100.0%) in 11.83 sec. Users per second: 2981\n",
      "Similarity column 38121 (100.0%), 5710.94 column/sec. Elapsed time 6.68 sec\n",
      "EvaluatorHoldout: Processed 35311 (100.0%) in 12.02 sec. Users per second: 2937\n",
      "Similarity column 38121 (100.0%), 5782.51 column/sec. Elapsed time 6.59 sec\n",
      "EvaluatorHoldout: Processed 35323 (100.0%) in 12.02 sec. Users per second: 2940\n",
      "Similarity column 38121 (100.0%), 5755.84 column/sec. Elapsed time 6.62 sec\n",
      "EvaluatorHoldout: Processed 35327 (100.0%) in 11.52 sec. Users per second: 3066\n",
      "Similarity column 38121 (100.0%), 5770.68 column/sec. Elapsed time 6.61 sec\n",
      "EvaluatorHoldout: Processed 35336 (100.0%) in 11.64 sec. Users per second: 3035\n",
      "Similarity column 38121 (100.0%), 5809.40 column/sec. Elapsed time 6.56 sec\n",
      "EvaluatorHoldout: Processed 35270 (100.0%) in 11.40 sec. Users per second: 3095\n",
      "Similarity column 38121 (100.0%), 5685.66 column/sec. Elapsed time 6.70 sec\n",
      "EvaluatorHoldout: Processed 35277 (100.0%) in 11.82 sec. Users per second: 2983\n"
     ]
    },
    {
     "name": "stderr",
     "output_type": "stream",
     "text": [
      "[I 2024-11-27 19:35:40,701] Trial 28 finished with value: 0.027807940681756006 and parameters: {'similarity': 'cosine', 'topK': 36, 'shrink': 22}. Best is trial 22 with value: 0.03046875439593815.\n"
     ]
    },
    {
     "name": "stdout",
     "output_type": "stream",
     "text": [
      "Similarity column 38121 (100.0%), 5620.39 column/sec. Elapsed time 6.78 sec\n",
      "EvaluatorHoldout: Processed 35311 (100.0%) in 13.75 sec. Users per second: 2569\n",
      "Similarity column 38121 (100.0%), 5644.60 column/sec. Elapsed time 6.75 sec\n",
      "EvaluatorHoldout: Processed 35289 (100.0%) in 13.55 sec. Users per second: 2604\n",
      "Similarity column 38121 (100.0%), 5812.81 column/sec. Elapsed time 6.56 sec\n",
      "EvaluatorHoldout: Processed 35295 (100.0%) in 13.35 sec. Users per second: 2645\n",
      "Similarity column 38121 (100.0%), 5694.71 column/sec. Elapsed time 6.69 sec\n",
      "EvaluatorHoldout: Processed 35269 (100.0%) in 13.54 sec. Users per second: 2604\n",
      "Similarity column 38121 (100.0%), 5547.32 column/sec. Elapsed time 6.87 sec\n",
      "EvaluatorHoldout: Processed 35311 (100.0%) in 13.58 sec. Users per second: 2599\n",
      "Similarity column 38121 (100.0%), 5678.44 column/sec. Elapsed time 6.71 sec\n",
      "EvaluatorHoldout: Processed 35323 (100.0%) in 13.79 sec. Users per second: 2562\n",
      "Similarity column 38121 (100.0%), 5381.83 column/sec. Elapsed time 7.08 sec\n",
      "EvaluatorHoldout: Processed 35327 (100.0%) in 13.67 sec. Users per second: 2584\n",
      "Similarity column 38121 (100.0%), 5596.36 column/sec. Elapsed time 6.81 sec\n",
      "EvaluatorHoldout: Processed 35336 (100.0%) in 13.69 sec. Users per second: 2581\n",
      "Similarity column 38121 (100.0%), 5505.60 column/sec. Elapsed time 6.92 sec\n",
      "EvaluatorHoldout: Processed 35270 (100.0%) in 13.63 sec. Users per second: 2587\n",
      "Similarity column 38121 (100.0%), 5696.62 column/sec. Elapsed time 6.69 sec\n",
      "EvaluatorHoldout: Processed 35277 (100.0%) in 13.40 sec. Users per second: 2632\n"
     ]
    },
    {
     "name": "stderr",
     "output_type": "stream",
     "text": [
      "[I 2024-11-27 19:39:06,181] Trial 29 finished with value: 0.026833584487440342 and parameters: {'similarity': 'jaccard', 'topK': 159, 'shrink': 10}. Best is trial 22 with value: 0.03046875439593815.\n"
     ]
    },
    {
     "name": "stdout",
     "output_type": "stream",
     "text": [
      "Similarity column 38121 (100.0%), 5600.74 column/sec. Elapsed time 6.81 sec\n",
      "EvaluatorHoldout: Processed 35311 (100.0%) in 9.98 sec. Users per second: 3540\n",
      "Similarity column 38121 (100.0%), 5609.27 column/sec. Elapsed time 6.80 sec\n",
      "EvaluatorHoldout: Processed 35289 (100.0%) in 10.04 sec. Users per second: 3514\n",
      "Similarity column 38121 (100.0%), 5595.51 column/sec. Elapsed time 6.81 sec\n",
      "EvaluatorHoldout: Processed 35295 (100.0%) in 9.90 sec. Users per second: 3564\n",
      "Similarity column 38121 (100.0%), 5607.34 column/sec. Elapsed time 6.80 sec\n",
      "EvaluatorHoldout: Processed 35269 (100.0%) in 9.97 sec. Users per second: 3537\n",
      "Similarity column 38121 (100.0%), 5606.66 column/sec. Elapsed time 6.80 sec\n",
      "EvaluatorHoldout: Processed 35311 (100.0%) in 9.96 sec. Users per second: 3545\n",
      "Similarity column 38121 (100.0%), 5587.63 column/sec. Elapsed time 6.82 sec\n",
      "EvaluatorHoldout: Processed 35323 (100.0%) in 9.92 sec. Users per second: 3560\n",
      "Similarity column 38121 (100.0%), 5602.03 column/sec. Elapsed time 6.80 sec\n",
      "EvaluatorHoldout: Processed 35327 (100.0%) in 9.93 sec. Users per second: 3558\n",
      "Similarity column 38121 (100.0%), 5475.60 column/sec. Elapsed time 6.96 sec\n",
      "EvaluatorHoldout: Processed 35336 (100.0%) in 10.12 sec. Users per second: 3490\n",
      "Similarity column 38121 (100.0%), 5603.60 column/sec. Elapsed time 6.80 sec\n",
      "EvaluatorHoldout: Processed 35270 (100.0%) in 9.95 sec. Users per second: 3546\n",
      "Similarity column 38121 (100.0%), 5562.67 column/sec. Elapsed time 6.85 sec\n",
      "EvaluatorHoldout: Processed 35277 (100.0%) in 9.92 sec. Users per second: 3555\n"
     ]
    },
    {
     "name": "stderr",
     "output_type": "stream",
     "text": [
      "[I 2024-11-27 19:41:54,513] Trial 30 finished with value: 0.03040489222277116 and parameters: {'similarity': 'asymmetric', 'topK': 5, 'shrink': 34, 'asymmetric_alpha': 0.06777736013210511}. Best is trial 22 with value: 0.03046875439593815.\n"
     ]
    },
    {
     "name": "stdout",
     "output_type": "stream",
     "text": [
      "Similarity column 38121 (100.0%), 5600.31 column/sec. Elapsed time 6.81 sec\n",
      "EvaluatorHoldout: Processed 35311 (100.0%) in 10.10 sec. Users per second: 3497\n",
      "Similarity column 38121 (100.0%), 5614.27 column/sec. Elapsed time 6.79 sec\n",
      "EvaluatorHoldout: Processed 35289 (100.0%) in 10.05 sec. Users per second: 3510\n",
      "Similarity column 38121 (100.0%), 5567.19 column/sec. Elapsed time 6.85 sec\n",
      "EvaluatorHoldout: Processed 35295 (100.0%) in 10.08 sec. Users per second: 3503\n",
      "Similarity column 38121 (100.0%), 5603.57 column/sec. Elapsed time 6.80 sec\n",
      "EvaluatorHoldout: Processed 35269 (100.0%) in 10.10 sec. Users per second: 3493\n",
      "Similarity column 38121 (100.0%), 5563.97 column/sec. Elapsed time 6.85 sec\n",
      "EvaluatorHoldout: Processed 35311 (100.0%) in 10.04 sec. Users per second: 3517\n",
      "Similarity column 38121 (100.0%), 5632.34 column/sec. Elapsed time 6.77 sec\n",
      "EvaluatorHoldout: Processed 35323 (100.0%) in 10.07 sec. Users per second: 3509\n",
      "Similarity column 38121 (100.0%), 5524.44 column/sec. Elapsed time 6.90 sec\n",
      "EvaluatorHoldout: Processed 35327 (100.0%) in 10.08 sec. Users per second: 3504\n",
      "Similarity column 38121 (100.0%), 5605.38 column/sec. Elapsed time 6.80 sec\n",
      "EvaluatorHoldout: Processed 35336 (100.0%) in 10.11 sec. Users per second: 3496\n",
      "Similarity column 38121 (100.0%), 5609.51 column/sec. Elapsed time 6.80 sec\n",
      "EvaluatorHoldout: Processed 35270 (100.0%) in 10.11 sec. Users per second: 3489\n",
      "Similarity column 38121 (100.0%), 5599.42 column/sec. Elapsed time 6.81 sec\n",
      "EvaluatorHoldout: Processed 35277 (100.0%) in 10.14 sec. Users per second: 3480\n"
     ]
    },
    {
     "name": "stderr",
     "output_type": "stream",
     "text": [
      "[I 2024-11-27 19:44:43,927] Trial 31 finished with value: 0.02968191323725635 and parameters: {'similarity': 'asymmetric', 'topK': 7, 'shrink': 53, 'asymmetric_alpha': 0.05942177660833714}. Best is trial 22 with value: 0.03046875439593815.\n"
     ]
    },
    {
     "name": "stdout",
     "output_type": "stream",
     "text": [
      "Similarity column 38121 (100.0%), 5579.14 column/sec. Elapsed time 6.83 sec\n",
      "EvaluatorHoldout: Processed 35311 (100.0%) in 11.92 sec. Users per second: 2963\n",
      "Similarity column 38121 (100.0%), 5578.86 column/sec. Elapsed time 6.83 sec\n",
      "EvaluatorHoldout: Processed 35289 (100.0%) in 11.86 sec. Users per second: 2977\n",
      "Similarity column 38121 (100.0%), 5579.36 column/sec. Elapsed time 6.83 sec\n",
      "EvaluatorHoldout: Processed 35295 (100.0%) in 11.90 sec. Users per second: 2965\n",
      "Similarity column 38121 (100.0%), 5582.36 column/sec. Elapsed time 6.83 sec\n",
      "EvaluatorHoldout: Processed 35269 (100.0%) in 11.83 sec. Users per second: 2981\n",
      "Similarity column 38121 (100.0%), 5532.64 column/sec. Elapsed time 6.89 sec\n",
      "EvaluatorHoldout: Processed 35311 (100.0%) in 11.94 sec. Users per second: 2958\n",
      "Similarity column 38121 (100.0%), 5485.44 column/sec. Elapsed time 6.95 sec\n",
      "EvaluatorHoldout: Processed 35323 (100.0%) in 12.16 sec. Users per second: 2905\n",
      "Similarity column 38121 (100.0%), 5582.51 column/sec. Elapsed time 6.83 sec\n",
      "EvaluatorHoldout: Processed 35327 (100.0%) in 11.91 sec. Users per second: 2967\n",
      "Similarity column 38121 (100.0%), 5542.10 column/sec. Elapsed time 6.88 sec\n",
      "EvaluatorHoldout: Processed 35336 (100.0%) in 11.87 sec. Users per second: 2976\n",
      "Similarity column 38121 (100.0%), 5588.52 column/sec. Elapsed time 6.82 sec\n",
      "EvaluatorHoldout: Processed 35270 (100.0%) in 11.87 sec. Users per second: 2971\n",
      "Similarity column 38121 (100.0%), 5579.84 column/sec. Elapsed time 6.83 sec\n",
      "EvaluatorHoldout: Processed 35277 (100.0%) in 11.89 sec. Users per second: 2968\n"
     ]
    },
    {
     "name": "stderr",
     "output_type": "stream",
     "text": [
      "[I 2024-11-27 19:47:52,192] Trial 32 finished with value: 0.026890986137939787 and parameters: {'similarity': 'asymmetric', 'topK': 78, 'shrink': 34, 'asymmetric_alpha': 0.04517367207204913}. Best is trial 22 with value: 0.03046875439593815.\n"
     ]
    },
    {
     "name": "stdout",
     "output_type": "stream",
     "text": [
      "Similarity column 38121 (100.0%), 5593.06 column/sec. Elapsed time 6.82 sec\n",
      "EvaluatorHoldout: Processed 35311 (100.0%) in 10.95 sec. Users per second: 3224\n",
      "Similarity column 38121 (100.0%), 5580.83 column/sec. Elapsed time 6.83 sec\n",
      "EvaluatorHoldout: Processed 35289 (100.0%) in 10.95 sec. Users per second: 3222\n",
      "Similarity column 38121 (100.0%), 5582.48 column/sec. Elapsed time 6.83 sec\n",
      "EvaluatorHoldout: Processed 35295 (100.0%) in 10.95 sec. Users per second: 3223\n",
      "Similarity column 38121 (100.0%), 5557.38 column/sec. Elapsed time 6.86 sec\n",
      "EvaluatorHoldout: Processed 35269 (100.0%) in 10.96 sec. Users per second: 3219\n",
      "Similarity column 38121 (100.0%), 5587.41 column/sec. Elapsed time 6.82 sec\n",
      "EvaluatorHoldout: Processed 35311 (100.0%) in 11.08 sec. Users per second: 3188\n",
      "Similarity column 38121 (100.0%), 5604.99 column/sec. Elapsed time 6.80 sec\n",
      "EvaluatorHoldout: Processed 35323 (100.0%) in 11.00 sec. Users per second: 3211\n",
      "Similarity column 38121 (100.0%), 5593.48 column/sec. Elapsed time 6.82 sec\n",
      "EvaluatorHoldout: Processed 35327 (100.0%) in 11.03 sec. Users per second: 3203\n",
      "Similarity column 38121 (100.0%), 5569.24 column/sec. Elapsed time 6.84 sec\n",
      "EvaluatorHoldout: Processed 35336 (100.0%) in 10.97 sec. Users per second: 3222\n",
      "Similarity column 38121 (100.0%), 5602.00 column/sec. Elapsed time 6.80 sec\n",
      "EvaluatorHoldout: Processed 35270 (100.0%) in 11.05 sec. Users per second: 3192\n",
      "Similarity column 38121 (100.0%), 5596.00 column/sec. Elapsed time 6.81 sec\n",
      "EvaluatorHoldout: Processed 35277 (100.0%) in 10.96 sec. Users per second: 3220\n"
     ]
    },
    {
     "name": "stderr",
     "output_type": "stream",
     "text": [
      "[I 2024-11-27 19:50:50,820] Trial 33 finished with value: 0.028688153768077828 and parameters: {'similarity': 'asymmetric', 'topK': 47, 'shrink': 14, 'asymmetric_alpha': 0.10838591780838677}. Best is trial 22 with value: 0.03046875439593815.\n"
     ]
    },
    {
     "name": "stdout",
     "output_type": "stream",
     "text": [
      "Similarity column 38121 (100.0%), 5704.97 column/sec. Elapsed time 6.68 sec\n",
      "EvaluatorHoldout: Processed 35311 (100.0%) in 13.04 sec. Users per second: 2709\n",
      "Similarity column 38121 (100.0%), 5701.32 column/sec. Elapsed time 6.69 sec\n",
      "EvaluatorHoldout: Processed 35289 (100.0%) in 13.04 sec. Users per second: 2705\n",
      "Similarity column 38121 (100.0%), 5707.21 column/sec. Elapsed time 6.68 sec\n",
      "EvaluatorHoldout: Processed 35295 (100.0%) in 13.03 sec. Users per second: 2710\n",
      "Similarity column 38121 (100.0%), 5657.68 column/sec. Elapsed time 6.74 sec\n",
      "EvaluatorHoldout: Processed 35269 (100.0%) in 13.01 sec. Users per second: 2710\n",
      "Similarity column 38121 (100.0%), 5754.19 column/sec. Elapsed time 6.62 sec\n",
      "EvaluatorHoldout: Processed 35311 (100.0%) in 13.09 sec. Users per second: 2697\n",
      "Similarity column 38121 (100.0%), 5710.68 column/sec. Elapsed time 6.68 sec\n",
      "EvaluatorHoldout: Processed 35323 (100.0%) in 13.00 sec. Users per second: 2717\n",
      "Similarity column 38121 (100.0%), 5719.64 column/sec. Elapsed time 6.66 sec\n",
      "EvaluatorHoldout: Processed 35327 (100.0%) in 13.08 sec. Users per second: 2701\n",
      "Similarity column 38121 (100.0%), 5705.90 column/sec. Elapsed time 6.68 sec\n",
      "EvaluatorHoldout: Processed 35336 (100.0%) in 13.16 sec. Users per second: 2685\n",
      "Similarity column 38121 (100.0%), 5659.97 column/sec. Elapsed time 6.74 sec\n",
      "EvaluatorHoldout: Processed 35270 (100.0%) in 13.08 sec. Users per second: 2697\n",
      "Similarity column 38121 (100.0%), 5704.52 column/sec. Elapsed time 6.68 sec\n",
      "EvaluatorHoldout: Processed 35277 (100.0%) in 13.08 sec. Users per second: 2698\n"
     ]
    },
    {
     "name": "stderr",
     "output_type": "stream",
     "text": [
      "[I 2024-11-27 19:54:09,637] Trial 34 finished with value: 0.0269973899044266 and parameters: {'similarity': 'jaccard', 'topK': 103, 'shrink': 68}. Best is trial 22 with value: 0.03046875439593815.\n"
     ]
    },
    {
     "name": "stdout",
     "output_type": "stream",
     "text": [
      "Similarity column 38121 (100.0%), 5568.00 column/sec. Elapsed time 6.85 sec\n",
      "EvaluatorHoldout: Processed 35311 (100.0%) in 11.06 sec. Users per second: 3192\n",
      "Similarity column 38121 (100.0%), 5589.19 column/sec. Elapsed time 6.82 sec\n",
      "EvaluatorHoldout: Processed 35289 (100.0%) in 11.33 sec. Users per second: 3115\n",
      "Similarity column 38121 (100.0%), 5519.79 column/sec. Elapsed time 6.91 sec\n",
      "EvaluatorHoldout: Processed 35295 (100.0%) in 11.03 sec. Users per second: 3200\n",
      "Similarity column 38121 (100.0%), 5584.65 column/sec. Elapsed time 6.83 sec\n",
      "EvaluatorHoldout: Processed 35269 (100.0%) in 11.03 sec. Users per second: 3198\n",
      "Similarity column 38121 (100.0%), 5591.46 column/sec. Elapsed time 6.82 sec\n",
      "EvaluatorHoldout: Processed 35311 (100.0%) in 11.02 sec. Users per second: 3203\n",
      "Similarity column 38121 (100.0%), 5575.61 column/sec. Elapsed time 6.84 sec\n",
      "EvaluatorHoldout: Processed 35323 (100.0%) in 11.07 sec. Users per second: 3189\n",
      "Similarity column 38121 (100.0%), 5436.74 column/sec. Elapsed time 7.01 sec\n",
      "EvaluatorHoldout: Processed 35327 (100.0%) in 11.15 sec. Users per second: 3168\n",
      "Similarity column 38121 (100.0%), 5556.71 column/sec. Elapsed time 6.86 sec\n",
      "EvaluatorHoldout: Processed 35336 (100.0%) in 11.04 sec. Users per second: 3201\n",
      "Similarity column 38121 (100.0%), 5597.48 column/sec. Elapsed time 6.81 sec\n",
      "EvaluatorHoldout: Processed 35270 (100.0%) in 11.01 sec. Users per second: 3204\n",
      "Similarity column 38121 (100.0%), 5583.49 column/sec. Elapsed time 6.83 sec\n",
      "EvaluatorHoldout: Processed 35277 (100.0%) in 10.98 sec. Users per second: 3212\n"
     ]
    },
    {
     "name": "stderr",
     "output_type": "stream",
     "text": [
      "[I 2024-11-27 19:57:09,439] Trial 35 finished with value: 0.028573607014720927 and parameters: {'similarity': 'asymmetric', 'topK': 42, 'shrink': 23, 'asymmetric_alpha': 0.12834534766473438}. Best is trial 22 with value: 0.03046875439593815.\n"
     ]
    },
    {
     "name": "stdout",
     "output_type": "stream",
     "text": [
      "Similarity column 38121 (100.0%), 5567.58 column/sec. Elapsed time 6.85 sec\n",
      "EvaluatorHoldout: Processed 35311 (100.0%) in 13.20 sec. Users per second: 2676\n",
      "Similarity column 38121 (100.0%), 5526.19 column/sec. Elapsed time 6.90 sec\n",
      "EvaluatorHoldout: Processed 35289 (100.0%) in 13.17 sec. Users per second: 2680\n",
      "Similarity column 38121 (100.0%), 5562.52 column/sec. Elapsed time 6.85 sec\n",
      "EvaluatorHoldout: Processed 35295 (100.0%) in 13.11 sec. Users per second: 2692\n",
      "Similarity column 38121 (100.0%), 5535.15 column/sec. Elapsed time 6.89 sec\n",
      "EvaluatorHoldout: Processed 35269 (100.0%) in 13.16 sec. Users per second: 2680\n",
      "Similarity column 38121 (100.0%), 5567.47 column/sec. Elapsed time 6.85 sec\n",
      "EvaluatorHoldout: Processed 35311 (100.0%) in 13.15 sec. Users per second: 2684\n",
      "Similarity column 38121 (100.0%), 5588.73 column/sec. Elapsed time 6.82 sec\n",
      "EvaluatorHoldout: Processed 35323 (100.0%) in 13.11 sec. Users per second: 2693\n",
      "Similarity column 38121 (100.0%), 5575.25 column/sec. Elapsed time 6.84 sec\n",
      "EvaluatorHoldout: Processed 35327 (100.0%) in 13.19 sec. Users per second: 2679\n",
      "Similarity column 38121 (100.0%), 5559.23 column/sec. Elapsed time 6.86 sec\n",
      "EvaluatorHoldout: Processed 35336 (100.0%) in 13.09 sec. Users per second: 2700\n",
      "Similarity column 38121 (100.0%), 5536.39 column/sec. Elapsed time 6.89 sec\n",
      "EvaluatorHoldout: Processed 35270 (100.0%) in 13.09 sec. Users per second: 2694\n",
      "Similarity column 38121 (100.0%), 5567.42 column/sec. Elapsed time 6.85 sec\n",
      "EvaluatorHoldout: Processed 35277 (100.0%) in 13.13 sec. Users per second: 2687\n"
     ]
    },
    {
     "name": "stderr",
     "output_type": "stream",
     "text": [
      "[I 2024-11-27 20:00:30,197] Trial 36 finished with value: 0.025372873785889254 and parameters: {'similarity': 'asymmetric', 'topK': 133, 'shrink': 45, 'asymmetric_alpha': 0.08952831308312997}. Best is trial 22 with value: 0.03046875439593815.\n"
     ]
    },
    {
     "name": "stdout",
     "output_type": "stream",
     "text": [
      "Similarity column 38121 (100.0%), 5745.58 column/sec. Elapsed time 6.63 sec\n",
      "EvaluatorHoldout: Processed 35311 (100.0%) in 15.51 sec. Users per second: 2276\n",
      "Similarity column 38121 (100.0%), 5718.59 column/sec. Elapsed time 6.67 sec\n",
      "EvaluatorHoldout: Processed 35289 (100.0%) in 15.52 sec. Users per second: 2273\n",
      "Similarity column 38121 (100.0%), 5748.75 column/sec. Elapsed time 6.63 sec\n",
      "EvaluatorHoldout: Processed 35295 (100.0%) in 15.57 sec. Users per second: 2266\n",
      "Similarity column 38121 (100.0%), 5744.66 column/sec. Elapsed time 6.64 sec\n",
      "EvaluatorHoldout: Processed 35269 (100.0%) in 15.55 sec. Users per second: 2268\n",
      "Similarity column 38121 (100.0%), 5706.17 column/sec. Elapsed time 6.68 sec\n",
      "EvaluatorHoldout: Processed 35311 (100.0%) in 15.54 sec. Users per second: 2273\n",
      "Similarity column 38121 (100.0%), 5718.15 column/sec. Elapsed time 6.67 sec\n",
      "EvaluatorHoldout: Processed 35323 (100.0%) in 15.60 sec. Users per second: 2265\n",
      "Similarity column 38121 (100.0%), 5745.73 column/sec. Elapsed time 6.63 sec\n",
      "EvaluatorHoldout: Processed 35327 (100.0%) in 15.58 sec. Users per second: 2267\n",
      "Similarity column 38121 (100.0%), 5741.35 column/sec. Elapsed time 6.64 sec\n",
      "EvaluatorHoldout: Processed 35336 (100.0%) in 15.50 sec. Users per second: 2280\n",
      "Similarity column 38121 (100.0%), 5728.26 column/sec. Elapsed time 6.65 sec\n",
      "EvaluatorHoldout: Processed 35270 (100.0%) in 15.48 sec. Users per second: 2278\n",
      "Similarity column 38121 (100.0%), 5747.68 column/sec. Elapsed time 6.63 sec\n",
      "EvaluatorHoldout: Processed 35277 (100.0%) in 15.56 sec. Users per second: 2267\n"
     ]
    },
    {
     "name": "stderr",
     "output_type": "stream",
     "text": [
      "[I 2024-11-27 20:04:13,014] Trial 37 finished with value: 0.025634031900663094 and parameters: {'similarity': 'cosine', 'topK': 181, 'shrink': 59}. Best is trial 22 with value: 0.03046875439593815.\n"
     ]
    },
    {
     "name": "stdout",
     "output_type": "stream",
     "text": [
      "Similarity column 38121 (100.0%), 1183.54 column/sec. Elapsed time 32.21 sec\n",
      "EvaluatorHoldout: Processed 35311 (100.0%) in 10.02 sec. Users per second: 3523\n",
      "Similarity column 38121 (100.0%), 1067.42 column/sec. Elapsed time 35.71 sec\n",
      "EvaluatorHoldout: Processed 35289 (100.0%) in 9.98 sec. Users per second: 3534\n",
      "Similarity column 38121 (100.0%), 1365.75 column/sec. Elapsed time 27.91 sec\n",
      "EvaluatorHoldout: Processed 35295 (100.0%) in 9.98 sec. Users per second: 3535\n",
      "Similarity column 38121 (100.0%), 1137.34 column/sec. Elapsed time 33.52 sec\n",
      "EvaluatorHoldout: Processed 35269 (100.0%) in 10.01 sec. Users per second: 3525\n",
      "Similarity column 38121 (100.0%), 1083.96 column/sec. Elapsed time 35.17 sec\n",
      "EvaluatorHoldout: Processed 35311 (100.0%) in 10.03 sec. Users per second: 3521\n",
      "Similarity column 38121 (100.0%), 1161.65 column/sec. Elapsed time 32.82 sec\n",
      "EvaluatorHoldout: Processed 35323 (100.0%) in 10.07 sec. Users per second: 3508\n",
      "Similarity column 38121 (100.0%), 1135.27 column/sec. Elapsed time 33.58 sec\n",
      "EvaluatorHoldout: Processed 35327 (100.0%) in 10.02 sec. Users per second: 3527\n",
      "Similarity column 38121 (100.0%), 1203.57 column/sec. Elapsed time 31.67 sec\n",
      "EvaluatorHoldout: Processed 35336 (100.0%) in 10.09 sec. Users per second: 3501\n",
      "Similarity column 38121 (100.0%), 1261.10 column/sec. Elapsed time 30.23 sec\n",
      "EvaluatorHoldout: Processed 35270 (100.0%) in 9.97 sec. Users per second: 3539\n",
      "Similarity column 38121 (100.0%), 1203.47 column/sec. Elapsed time 31.68 sec\n",
      "EvaluatorHoldout: Processed 35277 (100.0%) in 10.05 sec. Users per second: 3512\n"
     ]
    },
    {
     "name": "stderr",
     "output_type": "stream",
     "text": [
      "[I 2024-11-27 20:11:18,138] Trial 38 finished with value: 0.011987667100543793 and parameters: {'similarity': 'euclidean', 'topK': 87, 'shrink': 33, 'normalize_avg_row': True, 'similarity_from_distance_mode': 'exp', 'normalize': False}. Best is trial 22 with value: 0.03046875439593815.\n"
     ]
    },
    {
     "name": "stdout",
     "output_type": "stream",
     "text": [
      "Similarity column 38121 (100.0%), 5630.37 column/sec. Elapsed time 6.77 sec\n",
      "EvaluatorHoldout: Processed 35311 (100.0%) in 17.78 sec. Users per second: 1987\n",
      "Similarity column 38121 (100.0%), 5600.35 column/sec. Elapsed time 6.81 sec\n",
      "EvaluatorHoldout: Processed 35289 (100.0%) in 17.79 sec. Users per second: 1983\n",
      "Similarity column 38121 (100.0%), 5610.56 column/sec. Elapsed time 6.79 sec\n",
      "EvaluatorHoldout: Processed 35295 (100.0%) in 17.82 sec. Users per second: 1981\n",
      "Similarity column 38121 (100.0%), 5644.73 column/sec. Elapsed time 6.75 sec\n",
      "EvaluatorHoldout: Processed 35269 (100.0%) in 17.81 sec. Users per second: 1981\n",
      "Similarity column 38121 (100.0%), 5665.61 column/sec. Elapsed time 6.73 sec\n",
      "EvaluatorHoldout: Processed 35311 (100.0%) in 17.89 sec. Users per second: 1974\n",
      "Similarity column 38121 (100.0%), 5625.82 column/sec. Elapsed time 6.78 sec\n",
      "EvaluatorHoldout: Processed 35323 (100.0%) in 17.84 sec. Users per second: 1980\n",
      "Similarity column 38121 (100.0%), 5601.21 column/sec. Elapsed time 6.81 sec\n",
      "EvaluatorHoldout: Processed 35327 (100.0%) in 17.84 sec. Users per second: 1980\n",
      "Similarity column 38121 (100.0%), 5599.90 column/sec. Elapsed time 6.81 sec\n",
      "EvaluatorHoldout: Processed 35336 (100.0%) in 17.91 sec. Users per second: 1973\n",
      "Similarity column 38121 (100.0%), 5484.11 column/sec. Elapsed time 6.95 sec\n",
      "EvaluatorHoldout: Processed 35270 (100.0%) in 17.88 sec. Users per second: 1973\n",
      "Similarity column 38121 (100.0%), 5623.74 column/sec. Elapsed time 6.78 sec\n",
      "EvaluatorHoldout: Processed 35277 (100.0%) in 17.88 sec. Users per second: 1973\n"
     ]
    },
    {
     "name": "stderr",
     "output_type": "stream",
     "text": [
      "[I 2024-11-27 20:15:27,310] Trial 39 finished with value: 0.02579360454788742 and parameters: {'similarity': 'jaccard', 'topK': 472, 'shrink': 7}. Best is trial 22 with value: 0.03046875439593815.\n"
     ]
    },
    {
     "name": "stdout",
     "output_type": "stream",
     "text": [
      "Similarity column 38121 (100.0%), 5818.51 column/sec. Elapsed time 6.55 sec\n",
      "EvaluatorHoldout: Processed 35311 (100.0%) in 17.21 sec. Users per second: 2052\n",
      "Similarity column 38121 (100.0%), 5812.69 column/sec. Elapsed time 6.56 sec\n",
      "EvaluatorHoldout: Processed 35289 (100.0%) in 17.09 sec. Users per second: 2064\n",
      "Similarity column 38121 (100.0%), 5731.47 column/sec. Elapsed time 6.65 sec\n",
      "EvaluatorHoldout: Processed 35295 (100.0%) in 17.07 sec. Users per second: 2068\n",
      "Similarity column 38121 (100.0%), 5813.88 column/sec. Elapsed time 6.56 sec\n",
      "EvaluatorHoldout: Processed 35269 (100.0%) in 17.08 sec. Users per second: 2064\n",
      "Similarity column 38121 (100.0%), 5807.99 column/sec. Elapsed time 6.56 sec\n",
      "EvaluatorHoldout: Processed 35311 (100.0%) in 17.15 sec. Users per second: 2059\n",
      "Similarity column 38121 (100.0%), 5826.85 column/sec. Elapsed time 6.54 sec\n",
      "EvaluatorHoldout: Processed 35323 (100.0%) in 17.12 sec. Users per second: 2064\n",
      "Similarity column 38121 (100.0%), 5783.11 column/sec. Elapsed time 6.59 sec\n",
      "EvaluatorHoldout: Processed 35327 (100.0%) in 17.16 sec. Users per second: 2058\n",
      "Similarity column 38121 (100.0%), 5769.87 column/sec. Elapsed time 6.61 sec\n",
      "EvaluatorHoldout: Processed 35336 (100.0%) in 17.23 sec. Users per second: 2051\n",
      "Similarity column 38121 (100.0%), 5823.35 column/sec. Elapsed time 6.55 sec\n",
      "EvaluatorHoldout: Processed 35270 (100.0%) in 17.13 sec. Users per second: 2059\n",
      "Similarity column 38121 (100.0%), 5824.63 column/sec. Elapsed time 6.54 sec\n",
      "EvaluatorHoldout: Processed 35277 (100.0%) in 17.10 sec. Users per second: 2063\n"
     ]
    },
    {
     "name": "stderr",
     "output_type": "stream",
     "text": [
      "[I 2024-11-27 20:19:26,214] Trial 40 finished with value: 0.013895765657118383 and parameters: {'similarity': 'tversky', 'topK': 243, 'shrink': 1, 'tversky_alpha': 1.7745640150742061, 'tversky_beta': 0.01962425613000618}. Best is trial 22 with value: 0.03046875439593815.\n"
     ]
    },
    {
     "name": "stdout",
     "output_type": "stream",
     "text": [
      "Similarity column 38121 (100.0%), 5573.18 column/sec. Elapsed time 6.84 sec\n",
      "EvaluatorHoldout: Processed 35311 (100.0%) in 10.20 sec. Users per second: 3462\n",
      "Similarity column 38121 (100.0%), 5610.14 column/sec. Elapsed time 6.80 sec\n",
      "EvaluatorHoldout: Processed 35289 (100.0%) in 10.27 sec. Users per second: 3436\n",
      "Similarity column 38121 (100.0%), 5600.58 column/sec. Elapsed time 6.81 sec\n",
      "EvaluatorHoldout: Processed 35295 (100.0%) in 10.27 sec. Users per second: 3438\n",
      "Similarity column 38121 (100.0%), 5578.21 column/sec. Elapsed time 6.83 sec\n",
      "EvaluatorHoldout: Processed 35269 (100.0%) in 10.23 sec. Users per second: 3449\n",
      "Similarity column 38121 (100.0%), 5611.82 column/sec. Elapsed time 6.79 sec\n",
      "EvaluatorHoldout: Processed 35311 (100.0%) in 10.21 sec. Users per second: 3457\n",
      "Similarity column 38121 (100.0%), 5619.72 column/sec. Elapsed time 6.78 sec\n",
      "EvaluatorHoldout: Processed 35323 (100.0%) in 10.33 sec. Users per second: 3421\n",
      "Similarity column 38121 (100.0%), 5610.60 column/sec. Elapsed time 6.79 sec\n",
      "EvaluatorHoldout: Processed 35327 (100.0%) in 10.22 sec. Users per second: 3457\n",
      "Similarity column 38121 (100.0%), 5592.18 column/sec. Elapsed time 6.82 sec\n",
      "EvaluatorHoldout: Processed 35336 (100.0%) in 10.26 sec. Users per second: 3445\n",
      "Similarity column 38121 (100.0%), 5530.42 column/sec. Elapsed time 6.89 sec\n",
      "EvaluatorHoldout: Processed 35270 (100.0%) in 10.63 sec. Users per second: 3318\n",
      "Similarity column 38121 (100.0%), 5578.74 column/sec. Elapsed time 6.83 sec\n",
      "EvaluatorHoldout: Processed 35277 (100.0%) in 10.49 sec. Users per second: 3363\n"
     ]
    },
    {
     "name": "stderr",
     "output_type": "stream",
     "text": [
      "[I 2024-11-27 20:22:17,898] Trial 41 finished with value: 0.029746267211575545 and parameters: {'similarity': 'asymmetric', 'topK': 18, 'shrink': 10, 'asymmetric_alpha': 0.030387919097704358}. Best is trial 22 with value: 0.03046875439593815.\n"
     ]
    },
    {
     "name": "stdout",
     "output_type": "stream",
     "text": [
      "Similarity column 38121 (100.0%), 5486.82 column/sec. Elapsed time 6.95 sec\n",
      "EvaluatorHoldout: Processed 35311 (100.0%) in 10.78 sec. Users per second: 3275\n",
      "Similarity column 38121 (100.0%), 5558.44 column/sec. Elapsed time 6.86 sec\n",
      "EvaluatorHoldout: Processed 35289 (100.0%) in 10.67 sec. Users per second: 3306\n",
      "Similarity column 38121 (100.0%), 5428.53 column/sec. Elapsed time 7.02 sec\n",
      "EvaluatorHoldout: Processed 35295 (100.0%) in 10.83 sec. Users per second: 3259\n",
      "Similarity column 38121 (100.0%), 5447.35 column/sec. Elapsed time 7.00 sec\n",
      "EvaluatorHoldout: Processed 35269 (100.0%) in 10.69 sec. Users per second: 3300\n",
      "Similarity column 38121 (100.0%), 5540.07 column/sec. Elapsed time 6.88 sec\n",
      "EvaluatorHoldout: Processed 35311 (100.0%) in 10.70 sec. Users per second: 3299\n",
      "Similarity column 38121 (100.0%), 5598.81 column/sec. Elapsed time 6.81 sec\n",
      "EvaluatorHoldout: Processed 35323 (100.0%) in 10.74 sec. Users per second: 3290\n",
      "Similarity column 38121 (100.0%), 5576.53 column/sec. Elapsed time 6.84 sec\n",
      "EvaluatorHoldout: Processed 35327 (100.0%) in 11.35 sec. Users per second: 3113\n",
      "Similarity column 38121 (100.0%), 5300.26 column/sec. Elapsed time 7.19 sec\n",
      "EvaluatorHoldout: Processed 35336 (100.0%) in 10.98 sec. Users per second: 3218\n",
      "Similarity column 38121 (100.0%), 5531.64 column/sec. Elapsed time 6.89 sec\n",
      "EvaluatorHoldout: Processed 35270 (100.0%) in 10.62 sec. Users per second: 3320\n",
      "Similarity column 38121 (100.0%), 5522.33 column/sec. Elapsed time 6.90 sec\n",
      "EvaluatorHoldout: Processed 35277 (100.0%) in 10.76 sec. Users per second: 3278\n"
     ]
    },
    {
     "name": "stderr",
     "output_type": "stream",
     "text": [
      "[I 2024-11-27 20:25:15,828] Trial 42 finished with value: 0.029032020010429017 and parameters: {'similarity': 'asymmetric', 'topK': 33, 'shrink': 10, 'asymmetric_alpha': 0.02820101848484423}. Best is trial 22 with value: 0.03046875439593815.\n"
     ]
    },
    {
     "name": "stdout",
     "output_type": "stream",
     "text": [
      "Similarity column 38121 (100.0%), 5539.99 column/sec. Elapsed time 6.88 sec\n",
      "EvaluatorHoldout: Processed 35311 (100.0%) in 9.86 sec. Users per second: 3582\n",
      "Similarity column 38121 (100.0%), 5623.53 column/sec. Elapsed time 6.78 sec\n",
      "EvaluatorHoldout: Processed 35289 (100.0%) in 9.91 sec. Users per second: 3560\n",
      "Similarity column 38121 (100.0%), 5589.46 column/sec. Elapsed time 6.82 sec\n",
      "EvaluatorHoldout: Processed 35295 (100.0%) in 9.91 sec. Users per second: 3560\n",
      "Similarity column 38121 (100.0%), 5655.67 column/sec. Elapsed time 6.74 sec\n",
      "EvaluatorHoldout: Processed 35269 (100.0%) in 10.32 sec. Users per second: 3417\n",
      "Similarity column 38121 (100.0%), 5449.39 column/sec. Elapsed time 7.00 sec\n",
      "EvaluatorHoldout: Processed 35311 (100.0%) in 10.11 sec. Users per second: 3492\n",
      "Similarity column 38121 (100.0%), 5596.00 column/sec. Elapsed time 6.81 sec\n",
      "EvaluatorHoldout: Processed 35323 (100.0%) in 10.29 sec. Users per second: 3431\n",
      "Similarity column 38121 (100.0%), 5399.48 column/sec. Elapsed time 7.06 sec\n",
      "EvaluatorHoldout: Processed 35327 (100.0%) in 10.31 sec. Users per second: 3425\n",
      "Similarity column 38121 (100.0%), 5513.97 column/sec. Elapsed time 6.91 sec\n",
      "EvaluatorHoldout: Processed 35336 (100.0%) in 10.28 sec. Users per second: 3439\n",
      "Similarity column 38121 (100.0%), 5501.33 column/sec. Elapsed time 6.93 sec\n",
      "EvaluatorHoldout: Processed 35270 (100.0%) in 10.20 sec. Users per second: 3457\n",
      "Similarity column 38121 (100.0%), 5528.89 column/sec. Elapsed time 6.89 sec\n",
      "EvaluatorHoldout: Processed 35277 (100.0%) in 10.23 sec. Users per second: 3450\n"
     ]
    },
    {
     "name": "stderr",
     "output_type": "stream",
     "text": [
      "[I 2024-11-27 20:28:06,462] Trial 43 finished with value: 0.030736762228581672 and parameters: {'similarity': 'asymmetric', 'topK': 5, 'shrink': 19, 'asymmetric_alpha': 0.03387809323596958}. Best is trial 43 with value: 0.030736762228581672.\n"
     ]
    },
    {
     "name": "stdout",
     "output_type": "stream",
     "text": [
      "Similarity column 38121 (100.0%), 5531.47 column/sec. Elapsed time 6.89 sec\n",
      "EvaluatorHoldout: Processed 35311 (100.0%) in 10.38 sec. Users per second: 3401\n",
      "Similarity column 38121 (100.0%), 5520.70 column/sec. Elapsed time 6.91 sec\n",
      "EvaluatorHoldout: Processed 35289 (100.0%) in 10.31 sec. Users per second: 3423\n",
      "Similarity column 38121 (100.0%), 5521.91 column/sec. Elapsed time 6.90 sec\n",
      "EvaluatorHoldout: Processed 35295 (100.0%) in 10.37 sec. Users per second: 3404\n",
      "Similarity column 38121 (100.0%), 5523.40 column/sec. Elapsed time 6.90 sec\n",
      "EvaluatorHoldout: Processed 35269 (100.0%) in 10.29 sec. Users per second: 3428\n",
      "Similarity column 38121 (100.0%), 5495.24 column/sec. Elapsed time 6.94 sec\n",
      "EvaluatorHoldout: Processed 35311 (100.0%) in 10.32 sec. Users per second: 3422\n",
      "Similarity column 38121 (100.0%), 5536.25 column/sec. Elapsed time 6.89 sec\n",
      "EvaluatorHoldout: Processed 35323 (100.0%) in 10.36 sec. Users per second: 3408\n",
      "Similarity column 38121 (100.0%), 5525.09 column/sec. Elapsed time 6.90 sec\n",
      "EvaluatorHoldout: Processed 35327 (100.0%) in 10.34 sec. Users per second: 3415\n",
      "Similarity column 38121 (100.0%), 5516.26 column/sec. Elapsed time 6.91 sec\n",
      "EvaluatorHoldout: Processed 35336 (100.0%) in 10.21 sec. Users per second: 3462\n",
      "Similarity column 38121 (100.0%), 5608.25 column/sec. Elapsed time 6.80 sec\n",
      "EvaluatorHoldout: Processed 35270 (100.0%) in 10.51 sec. Users per second: 3354\n",
      "Similarity column 38121 (100.0%), 5371.04 column/sec. Elapsed time 7.10 sec\n",
      "EvaluatorHoldout: Processed 35277 (100.0%) in 10.54 sec. Users per second: 3347\n"
     ]
    },
    {
     "name": "stderr",
     "output_type": "stream",
     "text": [
      "[I 2024-11-27 20:30:59,624] Trial 44 finished with value: 0.030580120080588413 and parameters: {'similarity': 'asymmetric', 'topK': 8, 'shrink': 20, 'asymmetric_alpha': 0.12492384144430149}. Best is trial 43 with value: 0.030736762228581672.\n"
     ]
    },
    {
     "name": "stdout",
     "output_type": "stream",
     "text": [
      "Similarity column 38121 (100.0%), 1239.29 column/sec. Elapsed time 30.76 sec\n",
      "EvaluatorHoldout: Processed 35311 (100.0%) in 10.48 sec. Users per second: 3368\n",
      "Similarity column 38121 (100.0%), 1200.58 column/sec. Elapsed time 31.75 sec\n",
      "EvaluatorHoldout: Processed 35289 (100.0%) in 10.38 sec. Users per second: 3399\n",
      "Similarity column 38121 (100.0%), 1564.28 column/sec. Elapsed time 24.37 sec\n",
      "EvaluatorHoldout: Processed 35295 (100.0%) in 10.21 sec. Users per second: 3458\n",
      "Similarity column 38121 (100.0%), 1297.80 column/sec. Elapsed time 29.37 sec\n",
      "EvaluatorHoldout: Processed 35269 (100.0%) in 10.21 sec. Users per second: 3455\n",
      "Similarity column 38121 (100.0%), 1234.50 column/sec. Elapsed time 30.88 sec\n",
      "EvaluatorHoldout: Processed 35311 (100.0%) in 9.99 sec. Users per second: 3535\n",
      "Similarity column 38121 (100.0%), 1395.60 column/sec. Elapsed time 27.32 sec\n",
      "EvaluatorHoldout: Processed 35323 (100.0%) in 9.95 sec. Users per second: 3550\n",
      "Similarity column 38121 (100.0%), 1391.53 column/sec. Elapsed time 27.39 sec\n",
      "EvaluatorHoldout: Processed 35327 (100.0%) in 9.86 sec. Users per second: 3585\n",
      "Similarity column 38121 (100.0%), 1491.71 column/sec. Elapsed time 25.56 sec\n",
      "EvaluatorHoldout: Processed 35336 (100.0%) in 9.85 sec. Users per second: 3586\n",
      "Similarity column 38121 (100.0%), 1565.45 column/sec. Elapsed time 24.35 sec\n",
      "EvaluatorHoldout: Processed 35270 (100.0%) in 9.85 sec. Users per second: 3579\n",
      "Similarity column 38121 (100.0%), 1468.95 column/sec. Elapsed time 25.95 sec\n",
      "EvaluatorHoldout: Processed 35277 (100.0%) in 9.91 sec. Users per second: 3559\n"
     ]
    },
    {
     "name": "stderr",
     "output_type": "stream",
     "text": [
      "[I 2024-11-27 20:37:18,396] Trial 45 finished with value: 0.01208330223309712 and parameters: {'similarity': 'euclidean', 'topK': 64, 'shrink': 22, 'normalize_avg_row': False, 'similarity_from_distance_mode': 'lin', 'normalize': False}. Best is trial 43 with value: 0.030736762228581672.\n"
     ]
    },
    {
     "name": "stdout",
     "output_type": "stream",
     "text": [
      "Similarity column 38121 (100.0%), 5986.84 column/sec. Elapsed time 6.37 sec\n",
      "EvaluatorHoldout: Processed 35311 (100.0%) in 9.96 sec. Users per second: 3544\n",
      "Similarity column 38121 (100.0%), 5966.19 column/sec. Elapsed time 6.39 sec\n",
      "EvaluatorHoldout: Processed 35289 (100.0%) in 10.15 sec. Users per second: 3478\n",
      "Similarity column 38121 (100.0%), 5839.64 column/sec. Elapsed time 6.53 sec\n",
      "EvaluatorHoldout: Processed 35295 (100.0%) in 10.46 sec. Users per second: 3375\n",
      "Similarity column 38121 (100.0%), 5853.75 column/sec. Elapsed time 6.51 sec\n",
      "EvaluatorHoldout: Processed 35269 (100.0%) in 10.33 sec. Users per second: 3414\n",
      "Similarity column 38121 (100.0%), 5832.67 column/sec. Elapsed time 6.54 sec\n",
      "EvaluatorHoldout: Processed 35311 (100.0%) in 10.38 sec. Users per second: 3403\n",
      "Similarity column 38121 (100.0%), 5869.23 column/sec. Elapsed time 6.50 sec\n",
      "EvaluatorHoldout: Processed 35323 (100.0%) in 10.39 sec. Users per second: 3399\n",
      "Similarity column 38121 (100.0%), 5833.96 column/sec. Elapsed time 6.53 sec\n",
      "EvaluatorHoldout: Processed 35327 (100.0%) in 10.40 sec. Users per second: 3397\n",
      "Similarity column 38121 (100.0%), 5836.91 column/sec. Elapsed time 6.53 sec\n",
      "EvaluatorHoldout: Processed 35336 (100.0%) in 10.38 sec. Users per second: 3405\n",
      "Similarity column 38121 (100.0%), 5854.67 column/sec. Elapsed time 6.51 sec\n",
      "EvaluatorHoldout: Processed 35270 (100.0%) in 10.37 sec. Users per second: 3402\n",
      "Similarity column 38121 (100.0%), 5855.52 column/sec. Elapsed time 6.51 sec\n",
      "EvaluatorHoldout: Processed 35277 (100.0%) in 10.42 sec. Users per second: 3386\n"
     ]
    },
    {
     "name": "stderr",
     "output_type": "stream",
     "text": [
      "[I 2024-11-27 20:40:07,630] Trial 46 finished with value: 0.02936059031137101 and parameters: {'similarity': 'dice', 'topK': 5, 'shrink': 29}. Best is trial 43 with value: 0.030736762228581672.\n"
     ]
    },
    {
     "name": "stdout",
     "output_type": "stream",
     "text": [
      "Similarity column 38121 (100.0%), 5754.13 column/sec. Elapsed time 6.62 sec\n",
      "EvaluatorHoldout: Processed 35311 (100.0%) in 11.67 sec. Users per second: 3026\n",
      "Similarity column 38121 (100.0%), 5746.02 column/sec. Elapsed time 6.63 sec\n",
      "EvaluatorHoldout: Processed 35289 (100.0%) in 11.57 sec. Users per second: 3050\n",
      "Similarity column 38121 (100.0%), 5728.82 column/sec. Elapsed time 6.65 sec\n",
      "EvaluatorHoldout: Processed 35295 (100.0%) in 11.33 sec. Users per second: 3116\n",
      "Similarity column 38121 (100.0%), 5721.30 column/sec. Elapsed time 6.66 sec\n",
      "EvaluatorHoldout: Processed 35269 (100.0%) in 11.19 sec. Users per second: 3153\n",
      "Similarity column 38121 (100.0%), 5837.17 column/sec. Elapsed time 6.53 sec\n",
      "EvaluatorHoldout: Processed 35311 (100.0%) in 11.23 sec. Users per second: 3144\n",
      "Similarity column 38121 (100.0%), 5875.47 column/sec. Elapsed time 6.49 sec\n",
      "EvaluatorHoldout: Processed 35323 (100.0%) in 11.22 sec. Users per second: 3148\n",
      "Similarity column 38121 (100.0%), 5831.72 column/sec. Elapsed time 6.54 sec\n",
      "EvaluatorHoldout: Processed 35327 (100.0%) in 11.20 sec. Users per second: 3155\n",
      "Similarity column 38121 (100.0%), 5872.03 column/sec. Elapsed time 6.49 sec\n",
      "EvaluatorHoldout: Processed 35336 (100.0%) in 11.30 sec. Users per second: 3127\n",
      "Similarity column 38121 (100.0%), 5881.49 column/sec. Elapsed time 6.48 sec\n",
      "EvaluatorHoldout: Processed 35270 (100.0%) in 11.21 sec. Users per second: 3146\n",
      "Similarity column 38121 (100.0%), 5875.45 column/sec. Elapsed time 6.49 sec\n",
      "EvaluatorHoldout: Processed 35277 (100.0%) in 11.21 sec. Users per second: 3147\n"
     ]
    },
    {
     "name": "stderr",
     "output_type": "stream",
     "text": [
      "[I 2024-11-27 20:43:07,514] Trial 47 finished with value: 0.02784621707215216 and parameters: {'similarity': 'tversky', 'topK': 36, 'shrink': 36, 'tversky_alpha': 0.6791723514847717, 'tversky_beta': 0.67387936589126}. Best is trial 43 with value: 0.030736762228581672.\n"
     ]
    },
    {
     "name": "stdout",
     "output_type": "stream",
     "text": [
      "Similarity column 38121 (100.0%), 5792.87 column/sec. Elapsed time 6.58 sec\n",
      "EvaluatorHoldout: Processed 35311 (100.0%) in 12.88 sec. Users per second: 2742\n",
      "Similarity column 38121 (100.0%), 5780.71 column/sec. Elapsed time 6.59 sec\n",
      "EvaluatorHoldout: Processed 35289 (100.0%) in 12.77 sec. Users per second: 2763\n",
      "Similarity column 38121 (100.0%), 5770.53 column/sec. Elapsed time 6.61 sec\n",
      "EvaluatorHoldout: Processed 35295 (100.0%) in 12.83 sec. Users per second: 2751\n",
      "Similarity column 38121 (100.0%), 5768.12 column/sec. Elapsed time 6.61 sec\n",
      "EvaluatorHoldout: Processed 35269 (100.0%) in 12.81 sec. Users per second: 2754\n",
      "Similarity column 38121 (100.0%), 5736.26 column/sec. Elapsed time 6.65 sec\n",
      "EvaluatorHoldout: Processed 35311 (100.0%) in 12.83 sec. Users per second: 2751\n",
      "Similarity column 38121 (100.0%), 5794.15 column/sec. Elapsed time 6.58 sec\n",
      "EvaluatorHoldout: Processed 35323 (100.0%) in 12.86 sec. Users per second: 2748\n",
      "Similarity column 38121 (100.0%), 5776.58 column/sec. Elapsed time 6.60 sec\n",
      "EvaluatorHoldout: Processed 35327 (100.0%) in 12.88 sec. Users per second: 2742\n",
      "Similarity column 38121 (100.0%), 5553.47 column/sec. Elapsed time 6.86 sec\n",
      "EvaluatorHoldout: Processed 35336 (100.0%) in 13.48 sec. Users per second: 2621\n",
      "Similarity column 38121 (100.0%), 5728.38 column/sec. Elapsed time 6.65 sec\n",
      "EvaluatorHoldout: Processed 35270 (100.0%) in 12.86 sec. Users per second: 2742\n",
      "Similarity column 38121 (100.0%), 5777.80 column/sec. Elapsed time 6.60 sec\n",
      "EvaluatorHoldout: Processed 35277 (100.0%) in 13.02 sec. Users per second: 2709\n"
     ]
    },
    {
     "name": "stderr",
     "output_type": "stream",
     "text": [
      "[I 2024-11-27 20:46:23,669] Trial 48 finished with value: 0.02702463585963415 and parameters: {'similarity': 'cosine', 'topK': 88, 'shrink': 20}. Best is trial 43 with value: 0.030736762228581672.\n"
     ]
    },
    {
     "name": "stdout",
     "output_type": "stream",
     "text": [
      "Similarity column 38121 (100.0%), 5518.76 column/sec. Elapsed time 6.91 sec\n",
      "EvaluatorHoldout: Processed 35311 (100.0%) in 15.98 sec. Users per second: 2210\n",
      "Similarity column 38121 (100.0%), 5485.86 column/sec. Elapsed time 6.95 sec\n",
      "EvaluatorHoldout: Processed 35289 (100.0%) in 15.92 sec. Users per second: 2217\n",
      "Similarity column 38121 (100.0%), 5529.05 column/sec. Elapsed time 6.89 sec\n",
      "EvaluatorHoldout: Processed 35295 (100.0%) in 15.96 sec. Users per second: 2211\n",
      "Similarity column 38121 (100.0%), 5530.75 column/sec. Elapsed time 6.89 sec\n",
      "EvaluatorHoldout: Processed 35269 (100.0%) in 15.96 sec. Users per second: 2210\n",
      "Similarity column 38121 (100.0%), 5522.47 column/sec. Elapsed time 6.90 sec\n",
      "EvaluatorHoldout: Processed 35311 (100.0%) in 15.91 sec. Users per second: 2220\n",
      "Similarity column 38121 (100.0%), 5509.31 column/sec. Elapsed time 6.92 sec\n",
      "EvaluatorHoldout: Processed 35323 (100.0%) in 15.94 sec. Users per second: 2216\n",
      "Similarity column 38121 (100.0%), 5530.46 column/sec. Elapsed time 6.89 sec\n",
      "EvaluatorHoldout: Processed 35327 (100.0%) in 15.95 sec. Users per second: 2215\n",
      "Similarity column 38121 (100.0%), 5530.06 column/sec. Elapsed time 6.89 sec\n",
      "EvaluatorHoldout: Processed 35336 (100.0%) in 15.98 sec. Users per second: 2211\n",
      "Similarity column 38121 (100.0%), 5536.66 column/sec. Elapsed time 6.89 sec\n",
      "EvaluatorHoldout: Processed 35270 (100.0%) in 15.91 sec. Users per second: 2217\n",
      "Similarity column 38121 (100.0%), 5520.85 column/sec. Elapsed time 6.90 sec\n",
      "EvaluatorHoldout: Processed 35277 (100.0%) in 16.03 sec. Users per second: 2201\n"
     ]
    },
    {
     "name": "stderr",
     "output_type": "stream",
     "text": [
      "[I 2024-11-27 20:50:13,723] Trial 49 finished with value: 0.02337137156669735 and parameters: {'similarity': 'asymmetric', 'topK': 329, 'shrink': 41, 'asymmetric_alpha': 0.08410649526075206}. Best is trial 43 with value: 0.030736762228581672.\n"
     ]
    },
    {
     "name": "stdout",
     "output_type": "stream",
     "text": [
      "Similarity column 38121 (100.0%), 5855.68 column/sec. Elapsed time 6.51 sec\n",
      "EvaluatorHoldout: Processed 35311 (100.0%) in 11.55 sec. Users per second: 3056\n",
      "Similarity column 38121 (100.0%), 5860.28 column/sec. Elapsed time 6.50 sec\n",
      "EvaluatorHoldout: Processed 35289 (100.0%) in 11.50 sec. Users per second: 3069\n",
      "Similarity column 38121 (100.0%), 5844.06 column/sec. Elapsed time 6.52 sec\n",
      "EvaluatorHoldout: Processed 35295 (100.0%) in 11.69 sec. Users per second: 3020\n",
      "Similarity column 38121 (100.0%), 5695.79 column/sec. Elapsed time 6.69 sec\n",
      "EvaluatorHoldout: Processed 35269 (100.0%) in 11.89 sec. Users per second: 2967\n",
      "Similarity column 38121 (100.0%), 5701.04 column/sec. Elapsed time 6.69 sec\n",
      "EvaluatorHoldout: Processed 35311 (100.0%) in 11.89 sec. Users per second: 2969\n",
      "Similarity column 38121 (100.0%), 5755.69 column/sec. Elapsed time 6.62 sec\n",
      "EvaluatorHoldout: Processed 35323 (100.0%) in 11.97 sec. Users per second: 2952\n",
      "Similarity column 38121 (100.0%), 5728.83 column/sec. Elapsed time 6.65 sec\n",
      "EvaluatorHoldout: Processed 35327 (100.0%) in 11.97 sec. Users per second: 2952\n",
      "Similarity column 38121 (100.0%), 5721.09 column/sec. Elapsed time 6.66 sec\n",
      "EvaluatorHoldout: Processed 35336 (100.0%) in 11.94 sec. Users per second: 2959\n",
      "Similarity column 38121 (100.0%), 5737.85 column/sec. Elapsed time 6.64 sec\n",
      "EvaluatorHoldout: Processed 35270 (100.0%) in 11.95 sec. Users per second: 2951\n",
      "Similarity column 38121 (100.0%), 5729.16 column/sec. Elapsed time 6.65 sec\n",
      "EvaluatorHoldout: Processed 35277 (100.0%) in 12.14 sec. Users per second: 2905\n"
     ]
    },
    {
     "name": "stderr",
     "output_type": "stream",
     "text": [
      "[I 2024-11-27 20:53:19,649] Trial 50 finished with value: 0.028217791422069156 and parameters: {'similarity': 'tversky', 'topK': 64, 'shrink': 15, 'tversky_alpha': 1.4292196701760305, 'tversky_beta': 1.8428743536010357}. Best is trial 43 with value: 0.030736762228581672.\n"
     ]
    },
    {
     "name": "stdout",
     "output_type": "stream",
     "text": [
      "Similarity column 38121 (100.0%), 5239.70 column/sec. Elapsed time 7.28 sec\n",
      "EvaluatorHoldout: Processed 35311 (100.0%) in 11.28 sec. Users per second: 3132\n",
      "Similarity column 38121 (100.0%), 5196.05 column/sec. Elapsed time 7.34 sec\n",
      "EvaluatorHoldout: Processed 35289 (100.0%) in 10.92 sec. Users per second: 3232\n",
      "Similarity column 38121 (100.0%), 5289.38 column/sec. Elapsed time 7.21 sec\n",
      "EvaluatorHoldout: Processed 35295 (100.0%) in 10.87 sec. Users per second: 3248\n",
      "Similarity column 38121 (100.0%), 5227.38 column/sec. Elapsed time 7.29 sec\n",
      "EvaluatorHoldout: Processed 35269 (100.0%) in 11.60 sec. Users per second: 3041\n",
      "Similarity column 38121 (100.0%), 5486.16 column/sec. Elapsed time 6.95 sec\n",
      "EvaluatorHoldout: Processed 35311 (100.0%) in 11.23 sec. Users per second: 3145\n",
      "Similarity column 38121 (100.0%), 5151.57 column/sec. Elapsed time 7.40 sec\n",
      "EvaluatorHoldout: Processed 35323 (100.0%) in 11.52 sec. Users per second: 3067\n",
      "Similarity column 38121 (100.0%), 4998.09 column/sec. Elapsed time 7.63 sec\n",
      "EvaluatorHoldout: Processed 35327 (100.0%) in 11.98 sec. Users per second: 2949\n",
      "Similarity column 38121 (100.0%), 5321.41 column/sec. Elapsed time 7.16 sec\n",
      "EvaluatorHoldout: Processed 35336 (100.0%) in 11.15 sec. Users per second: 3168\n",
      "Similarity column 38121 (100.0%), 5336.50 column/sec. Elapsed time 7.14 sec\n",
      "EvaluatorHoldout: Processed 35270 (100.0%) in 10.97 sec. Users per second: 3214\n",
      "Similarity column 38121 (100.0%), 5431.25 column/sec. Elapsed time 7.02 sec\n",
      "EvaluatorHoldout: Processed 35277 (100.0%) in 10.79 sec. Users per second: 3270\n"
     ]
    },
    {
     "name": "stderr",
     "output_type": "stream",
     "text": [
      "[I 2024-11-27 20:56:24,873] Trial 51 finished with value: 0.02925204846285377 and parameters: {'similarity': 'asymmetric', 'topK': 25, 'shrink': 5, 'asymmetric_alpha': 0.14817340240454221}. Best is trial 43 with value: 0.030736762228581672.\n"
     ]
    },
    {
     "name": "stdout",
     "output_type": "stream",
     "text": [
      "Similarity column 38121 (100.0%), 5337.41 column/sec. Elapsed time 7.14 sec\n"
     ]
    },
    {
     "name": "stderr",
     "output_type": "stream",
     "text": [
      "[W 2024-11-27 20:56:42,024] Trial 52 failed with parameters: {'similarity': 'asymmetric', 'topK': 6, 'shrink': 25, 'asymmetric_alpha': 0.12605589777718657} because of the following error: KeyboardInterrupt().\n",
      "Traceback (most recent call last):\n",
      "  File \"/Users/lucapagano/miniconda3/envs/RecSysPD/lib/python3.8/site-packages/optuna/study/_optimize.py\", line 197, in _run_trial\n",
      "    value_or_values = func(trial)\n",
      "  File \"<ipython-input-9-bab864f4fcbe>\", line 33, in objective_function\n",
      "    result_dict, _ = evaluator_validation[i].evaluateRecommender(recommender)\n",
      "  File \"/Users/lucapagano/Developer/RecSys/Competizione/Evaluation/Evaluator.py\", line 276, in evaluateRecommender\n",
      "    results_dict = self._run_evaluation_on_selected_users(recommender_object, self.users_to_evaluate)\n",
      "  File \"/Users/lucapagano/Developer/RecSys/Competizione/Evaluation/Evaluator.py\", line 484, in _run_evaluation_on_selected_users\n",
      "    results_dict = self._compute_metrics_on_recommendation_list(test_user_batch_array = test_user_batch_array,\n",
      "  File \"/Users/lucapagano/Developer/RecSys/Competizione/Evaluation/Evaluator.py\", line 368, in _compute_metrics_on_recommendation_list\n",
      "    results_current_cutoff[EvaluatorMetrics.NDCG.value]                 += ndcg(recommended_items_current_cutoff, relevant_items, relevance=self.get_user_test_ratings(test_user), at=cutoff)\n",
      "  File \"/Users/lucapagano/Developer/RecSys/Competizione/Evaluation/metrics.py\", line 256, in ndcg\n",
      "    rank_scores = np.asarray([it2rel.get(it, 0.0) for it in ranked_list[:at]], dtype=np.float64)\n",
      "  File \"/Users/lucapagano/Developer/RecSys/Competizione/Evaluation/metrics.py\", line 256, in <listcomp>\n",
      "    rank_scores = np.asarray([it2rel.get(it, 0.0) for it in ranked_list[:at]], dtype=np.float64)\n",
      "KeyboardInterrupt\n",
      "[W 2024-11-27 20:56:42,026] Trial 52 failed with value None.\n"
     ]
    },
    {
     "ename": "KeyboardInterrupt",
     "evalue": "",
     "output_type": "error",
     "traceback": [
      "\u001b[0;31m---------------------------------------------------------------------------\u001b[0m",
      "\u001b[0;31mKeyboardInterrupt\u001b[0m                         Traceback (most recent call last)",
      "Cell \u001b[0;32mIn[12], line 5\u001b[0m\n\u001b[1;32m      1\u001b[0m optuna_study \u001b[38;5;241m=\u001b[39m optuna\u001b[38;5;241m.\u001b[39mcreate_study(direction\u001b[38;5;241m=\u001b[39m\u001b[38;5;124m\"\u001b[39m\u001b[38;5;124mmaximize\u001b[39m\u001b[38;5;124m\"\u001b[39m)\n\u001b[1;32m      3\u001b[0m save_results \u001b[38;5;241m=\u001b[39m SaveResults()\n\u001b[0;32m----> 5\u001b[0m \u001b[43moptuna_study\u001b[49m\u001b[38;5;241;43m.\u001b[39;49m\u001b[43moptimize\u001b[49m\u001b[43m(\u001b[49m\u001b[43mobjective_function\u001b[49m\u001b[43m,\u001b[49m\n\u001b[1;32m      6\u001b[0m \u001b[43m                      \u001b[49m\u001b[43mcallbacks\u001b[49m\u001b[38;5;241;43m=\u001b[39;49m\u001b[43m[\u001b[49m\u001b[43msave_results\u001b[49m\u001b[43m]\u001b[49m\u001b[43m,\u001b[49m\n\u001b[1;32m      7\u001b[0m \u001b[43m                      \u001b[49m\u001b[43mn_trials\u001b[49m\u001b[43m \u001b[49m\u001b[38;5;241;43m=\u001b[39;49m\u001b[43m \u001b[49m\u001b[38;5;241;43m500\u001b[39;49m\u001b[43m)\u001b[49m\n",
      "File \u001b[0;32m~/miniconda3/envs/RecSysPD/lib/python3.8/site-packages/optuna/study/study.py:475\u001b[0m, in \u001b[0;36mStudy.optimize\u001b[0;34m(self, func, n_trials, timeout, n_jobs, catch, callbacks, gc_after_trial, show_progress_bar)\u001b[0m\n\u001b[1;32m    373\u001b[0m \u001b[38;5;28;01mdef\u001b[39;00m \u001b[38;5;21moptimize\u001b[39m(\n\u001b[1;32m    374\u001b[0m     \u001b[38;5;28mself\u001b[39m,\n\u001b[1;32m    375\u001b[0m     func: ObjectiveFuncType,\n\u001b[0;32m   (...)\u001b[0m\n\u001b[1;32m    382\u001b[0m     show_progress_bar: \u001b[38;5;28mbool\u001b[39m \u001b[38;5;241m=\u001b[39m \u001b[38;5;28;01mFalse\u001b[39;00m,\n\u001b[1;32m    383\u001b[0m ) \u001b[38;5;241m-\u001b[39m\u001b[38;5;241m>\u001b[39m \u001b[38;5;28;01mNone\u001b[39;00m:\n\u001b[1;32m    384\u001b[0m \u001b[38;5;250m    \u001b[39m\u001b[38;5;124;03m\"\"\"Optimize an objective function.\u001b[39;00m\n\u001b[1;32m    385\u001b[0m \n\u001b[1;32m    386\u001b[0m \u001b[38;5;124;03m    Optimization is done by choosing a suitable set of hyperparameter values from a given\u001b[39;00m\n\u001b[0;32m   (...)\u001b[0m\n\u001b[1;32m    473\u001b[0m \u001b[38;5;124;03m            If nested invocation of this method occurs.\u001b[39;00m\n\u001b[1;32m    474\u001b[0m \u001b[38;5;124;03m    \"\"\"\u001b[39;00m\n\u001b[0;32m--> 475\u001b[0m     \u001b[43m_optimize\u001b[49m\u001b[43m(\u001b[49m\n\u001b[1;32m    476\u001b[0m \u001b[43m        \u001b[49m\u001b[43mstudy\u001b[49m\u001b[38;5;241;43m=\u001b[39;49m\u001b[38;5;28;43mself\u001b[39;49m\u001b[43m,\u001b[49m\n\u001b[1;32m    477\u001b[0m \u001b[43m        \u001b[49m\u001b[43mfunc\u001b[49m\u001b[38;5;241;43m=\u001b[39;49m\u001b[43mfunc\u001b[49m\u001b[43m,\u001b[49m\n\u001b[1;32m    478\u001b[0m \u001b[43m        \u001b[49m\u001b[43mn_trials\u001b[49m\u001b[38;5;241;43m=\u001b[39;49m\u001b[43mn_trials\u001b[49m\u001b[43m,\u001b[49m\n\u001b[1;32m    479\u001b[0m \u001b[43m        \u001b[49m\u001b[43mtimeout\u001b[49m\u001b[38;5;241;43m=\u001b[39;49m\u001b[43mtimeout\u001b[49m\u001b[43m,\u001b[49m\n\u001b[1;32m    480\u001b[0m \u001b[43m        \u001b[49m\u001b[43mn_jobs\u001b[49m\u001b[38;5;241;43m=\u001b[39;49m\u001b[43mn_jobs\u001b[49m\u001b[43m,\u001b[49m\n\u001b[1;32m    481\u001b[0m \u001b[43m        \u001b[49m\u001b[43mcatch\u001b[49m\u001b[38;5;241;43m=\u001b[39;49m\u001b[38;5;28;43mtuple\u001b[39;49m\u001b[43m(\u001b[49m\u001b[43mcatch\u001b[49m\u001b[43m)\u001b[49m\u001b[43m \u001b[49m\u001b[38;5;28;43;01mif\u001b[39;49;00m\u001b[43m \u001b[49m\u001b[38;5;28;43misinstance\u001b[39;49m\u001b[43m(\u001b[49m\u001b[43mcatch\u001b[49m\u001b[43m,\u001b[49m\u001b[43m \u001b[49m\u001b[43mIterable\u001b[49m\u001b[43m)\u001b[49m\u001b[43m \u001b[49m\u001b[38;5;28;43;01melse\u001b[39;49;00m\u001b[43m \u001b[49m\u001b[43m(\u001b[49m\u001b[43mcatch\u001b[49m\u001b[43m,\u001b[49m\u001b[43m)\u001b[49m\u001b[43m,\u001b[49m\n\u001b[1;32m    482\u001b[0m \u001b[43m        \u001b[49m\u001b[43mcallbacks\u001b[49m\u001b[38;5;241;43m=\u001b[39;49m\u001b[43mcallbacks\u001b[49m\u001b[43m,\u001b[49m\n\u001b[1;32m    483\u001b[0m \u001b[43m        \u001b[49m\u001b[43mgc_after_trial\u001b[49m\u001b[38;5;241;43m=\u001b[39;49m\u001b[43mgc_after_trial\u001b[49m\u001b[43m,\u001b[49m\n\u001b[1;32m    484\u001b[0m \u001b[43m        \u001b[49m\u001b[43mshow_progress_bar\u001b[49m\u001b[38;5;241;43m=\u001b[39;49m\u001b[43mshow_progress_bar\u001b[49m\u001b[43m,\u001b[49m\n\u001b[1;32m    485\u001b[0m \u001b[43m    \u001b[49m\u001b[43m)\u001b[49m\n",
      "File \u001b[0;32m~/miniconda3/envs/RecSysPD/lib/python3.8/site-packages/optuna/study/_optimize.py:63\u001b[0m, in \u001b[0;36m_optimize\u001b[0;34m(study, func, n_trials, timeout, n_jobs, catch, callbacks, gc_after_trial, show_progress_bar)\u001b[0m\n\u001b[1;32m     61\u001b[0m \u001b[38;5;28;01mtry\u001b[39;00m:\n\u001b[1;32m     62\u001b[0m     \u001b[38;5;28;01mif\u001b[39;00m n_jobs \u001b[38;5;241m==\u001b[39m \u001b[38;5;241m1\u001b[39m:\n\u001b[0;32m---> 63\u001b[0m         \u001b[43m_optimize_sequential\u001b[49m\u001b[43m(\u001b[49m\n\u001b[1;32m     64\u001b[0m \u001b[43m            \u001b[49m\u001b[43mstudy\u001b[49m\u001b[43m,\u001b[49m\n\u001b[1;32m     65\u001b[0m \u001b[43m            \u001b[49m\u001b[43mfunc\u001b[49m\u001b[43m,\u001b[49m\n\u001b[1;32m     66\u001b[0m \u001b[43m            \u001b[49m\u001b[43mn_trials\u001b[49m\u001b[43m,\u001b[49m\n\u001b[1;32m     67\u001b[0m \u001b[43m            \u001b[49m\u001b[43mtimeout\u001b[49m\u001b[43m,\u001b[49m\n\u001b[1;32m     68\u001b[0m \u001b[43m            \u001b[49m\u001b[43mcatch\u001b[49m\u001b[43m,\u001b[49m\n\u001b[1;32m     69\u001b[0m \u001b[43m            \u001b[49m\u001b[43mcallbacks\u001b[49m\u001b[43m,\u001b[49m\n\u001b[1;32m     70\u001b[0m \u001b[43m            \u001b[49m\u001b[43mgc_after_trial\u001b[49m\u001b[43m,\u001b[49m\n\u001b[1;32m     71\u001b[0m \u001b[43m            \u001b[49m\u001b[43mreseed_sampler_rng\u001b[49m\u001b[38;5;241;43m=\u001b[39;49m\u001b[38;5;28;43;01mFalse\u001b[39;49;00m\u001b[43m,\u001b[49m\n\u001b[1;32m     72\u001b[0m \u001b[43m            \u001b[49m\u001b[43mtime_start\u001b[49m\u001b[38;5;241;43m=\u001b[39;49m\u001b[38;5;28;43;01mNone\u001b[39;49;00m\u001b[43m,\u001b[49m\n\u001b[1;32m     73\u001b[0m \u001b[43m            \u001b[49m\u001b[43mprogress_bar\u001b[49m\u001b[38;5;241;43m=\u001b[39;49m\u001b[43mprogress_bar\u001b[49m\u001b[43m,\u001b[49m\n\u001b[1;32m     74\u001b[0m \u001b[43m        \u001b[49m\u001b[43m)\u001b[49m\n\u001b[1;32m     75\u001b[0m     \u001b[38;5;28;01melse\u001b[39;00m:\n\u001b[1;32m     76\u001b[0m         \u001b[38;5;28;01mif\u001b[39;00m n_jobs \u001b[38;5;241m==\u001b[39m \u001b[38;5;241m-\u001b[39m\u001b[38;5;241m1\u001b[39m:\n",
      "File \u001b[0;32m~/miniconda3/envs/RecSysPD/lib/python3.8/site-packages/optuna/study/_optimize.py:160\u001b[0m, in \u001b[0;36m_optimize_sequential\u001b[0;34m(study, func, n_trials, timeout, catch, callbacks, gc_after_trial, reseed_sampler_rng, time_start, progress_bar)\u001b[0m\n\u001b[1;32m    157\u001b[0m         \u001b[38;5;28;01mbreak\u001b[39;00m\n\u001b[1;32m    159\u001b[0m \u001b[38;5;28;01mtry\u001b[39;00m:\n\u001b[0;32m--> 160\u001b[0m     frozen_trial \u001b[38;5;241m=\u001b[39m \u001b[43m_run_trial\u001b[49m\u001b[43m(\u001b[49m\u001b[43mstudy\u001b[49m\u001b[43m,\u001b[49m\u001b[43m \u001b[49m\u001b[43mfunc\u001b[49m\u001b[43m,\u001b[49m\u001b[43m \u001b[49m\u001b[43mcatch\u001b[49m\u001b[43m)\u001b[49m\n\u001b[1;32m    161\u001b[0m \u001b[38;5;28;01mfinally\u001b[39;00m:\n\u001b[1;32m    162\u001b[0m     \u001b[38;5;66;03m# The following line mitigates memory problems that can be occurred in some\u001b[39;00m\n\u001b[1;32m    163\u001b[0m     \u001b[38;5;66;03m# environments (e.g., services that use computing containers such as GitHub Actions).\u001b[39;00m\n\u001b[1;32m    164\u001b[0m     \u001b[38;5;66;03m# Please refer to the following PR for further details:\u001b[39;00m\n\u001b[1;32m    165\u001b[0m     \u001b[38;5;66;03m# https://github.com/optuna/optuna/pull/325.\u001b[39;00m\n\u001b[1;32m    166\u001b[0m     \u001b[38;5;28;01mif\u001b[39;00m gc_after_trial:\n",
      "File \u001b[0;32m~/miniconda3/envs/RecSysPD/lib/python3.8/site-packages/optuna/study/_optimize.py:248\u001b[0m, in \u001b[0;36m_run_trial\u001b[0;34m(study, func, catch)\u001b[0m\n\u001b[1;32m    241\u001b[0m         \u001b[38;5;28;01massert\u001b[39;00m \u001b[38;5;28;01mFalse\u001b[39;00m, \u001b[38;5;124m\"\u001b[39m\u001b[38;5;124mShould not reach.\u001b[39m\u001b[38;5;124m\"\u001b[39m\n\u001b[1;32m    243\u001b[0m \u001b[38;5;28;01mif\u001b[39;00m (\n\u001b[1;32m    244\u001b[0m     frozen_trial\u001b[38;5;241m.\u001b[39mstate \u001b[38;5;241m==\u001b[39m TrialState\u001b[38;5;241m.\u001b[39mFAIL\n\u001b[1;32m    245\u001b[0m     \u001b[38;5;129;01mand\u001b[39;00m func_err \u001b[38;5;129;01mis\u001b[39;00m \u001b[38;5;129;01mnot\u001b[39;00m \u001b[38;5;28;01mNone\u001b[39;00m\n\u001b[1;32m    246\u001b[0m     \u001b[38;5;129;01mand\u001b[39;00m \u001b[38;5;129;01mnot\u001b[39;00m \u001b[38;5;28misinstance\u001b[39m(func_err, catch)\n\u001b[1;32m    247\u001b[0m ):\n\u001b[0;32m--> 248\u001b[0m     \u001b[38;5;28;01mraise\u001b[39;00m func_err\n\u001b[1;32m    249\u001b[0m \u001b[38;5;28;01mreturn\u001b[39;00m frozen_trial\n",
      "File \u001b[0;32m~/miniconda3/envs/RecSysPD/lib/python3.8/site-packages/optuna/study/_optimize.py:197\u001b[0m, in \u001b[0;36m_run_trial\u001b[0;34m(study, func, catch)\u001b[0m\n\u001b[1;32m    195\u001b[0m \u001b[38;5;28;01mwith\u001b[39;00m get_heartbeat_thread(trial\u001b[38;5;241m.\u001b[39m_trial_id, study\u001b[38;5;241m.\u001b[39m_storage):\n\u001b[1;32m    196\u001b[0m     \u001b[38;5;28;01mtry\u001b[39;00m:\n\u001b[0;32m--> 197\u001b[0m         value_or_values \u001b[38;5;241m=\u001b[39m \u001b[43mfunc\u001b[49m\u001b[43m(\u001b[49m\u001b[43mtrial\u001b[49m\u001b[43m)\u001b[49m\n\u001b[1;32m    198\u001b[0m     \u001b[38;5;28;01mexcept\u001b[39;00m exceptions\u001b[38;5;241m.\u001b[39mTrialPruned \u001b[38;5;28;01mas\u001b[39;00m e:\n\u001b[1;32m    199\u001b[0m         \u001b[38;5;66;03m# TODO(mamu): Handle multi-objective cases.\u001b[39;00m\n\u001b[1;32m    200\u001b[0m         state \u001b[38;5;241m=\u001b[39m TrialState\u001b[38;5;241m.\u001b[39mPRUNED\n",
      "Cell \u001b[0;32mIn[9], line 33\u001b[0m, in \u001b[0;36mobjective_function\u001b[0;34m(optuna_trial)\u001b[0m\n\u001b[1;32m     30\u001b[0m     recommender \u001b[38;5;241m=\u001b[39m ItemKNNCFRecommender(urm_trains[i])\n\u001b[1;32m     31\u001b[0m     recommender\u001b[38;5;241m.\u001b[39mfit(\u001b[38;5;241m*\u001b[39m\u001b[38;5;241m*\u001b[39mparams)\n\u001b[0;32m---> 33\u001b[0m     result_dict, _ \u001b[38;5;241m=\u001b[39m \u001b[43mevaluator_validation\u001b[49m\u001b[43m[\u001b[49m\u001b[43mi\u001b[49m\u001b[43m]\u001b[49m\u001b[38;5;241;43m.\u001b[39;49m\u001b[43mevaluateRecommender\u001b[49m\u001b[43m(\u001b[49m\u001b[43mrecommender\u001b[49m\u001b[43m)\u001b[49m\n\u001b[1;32m     35\u001b[0m     MAP \u001b[38;5;241m+\u001b[39m\u001b[38;5;241m=\u001b[39m result_dict[\u001b[38;5;124m\"\u001b[39m\u001b[38;5;124mMAP\u001b[39m\u001b[38;5;124m\"\u001b[39m]\u001b[38;5;241m.\u001b[39mitem()\n\u001b[1;32m     37\u001b[0m MAP \u001b[38;5;241m/\u001b[39m\u001b[38;5;241m=\u001b[39m k_fold\n",
      "File \u001b[0;32m~/Developer/RecSys/Competizione/Evaluation/Evaluator.py:276\u001b[0m, in \u001b[0;36mEvaluator.evaluateRecommender\u001b[0;34m(self, recommender_object)\u001b[0m\n\u001b[1;32m    273\u001b[0m \u001b[38;5;28mself\u001b[39m\u001b[38;5;241m.\u001b[39m_start_time_print \u001b[38;5;241m=\u001b[39m time\u001b[38;5;241m.\u001b[39mtime()\n\u001b[1;32m    274\u001b[0m \u001b[38;5;28mself\u001b[39m\u001b[38;5;241m.\u001b[39m_n_users_evaluated \u001b[38;5;241m=\u001b[39m \u001b[38;5;241m0\u001b[39m\n\u001b[0;32m--> 276\u001b[0m results_dict \u001b[38;5;241m=\u001b[39m \u001b[38;5;28;43mself\u001b[39;49m\u001b[38;5;241;43m.\u001b[39;49m\u001b[43m_run_evaluation_on_selected_users\u001b[49m\u001b[43m(\u001b[49m\u001b[43mrecommender_object\u001b[49m\u001b[43m,\u001b[49m\u001b[43m \u001b[49m\u001b[38;5;28;43mself\u001b[39;49m\u001b[38;5;241;43m.\u001b[39;49m\u001b[43musers_to_evaluate\u001b[49m\u001b[43m)\u001b[49m\n\u001b[1;32m    279\u001b[0m \u001b[38;5;28;01mif\u001b[39;00m \u001b[38;5;28mself\u001b[39m\u001b[38;5;241m.\u001b[39m_n_users_evaluated \u001b[38;5;241m>\u001b[39m \u001b[38;5;241m0\u001b[39m:\n\u001b[1;32m    281\u001b[0m     \u001b[38;5;28;01mfor\u001b[39;00m cutoff \u001b[38;5;129;01min\u001b[39;00m \u001b[38;5;28mself\u001b[39m\u001b[38;5;241m.\u001b[39mcutoff_list:\n",
      "File \u001b[0;32m~/Developer/RecSys/Competizione/Evaluation/Evaluator.py:484\u001b[0m, in \u001b[0;36mEvaluatorHoldout._run_evaluation_on_selected_users\u001b[0;34m(self, recommender_object, users_to_evaluate, block_size)\u001b[0m\n\u001b[1;32m    475\u001b[0m     \u001b[38;5;66;03m# Compute predictions for a batch of users using vectorization, much more efficient than computing it one at a time\u001b[39;00m\n\u001b[1;32m    476\u001b[0m     recommended_items_batch_list, scores_batch \u001b[38;5;241m=\u001b[39m recommender_object\u001b[38;5;241m.\u001b[39mrecommend(test_user_batch_array,\n\u001b[1;32m    477\u001b[0m                                                               remove_seen_flag\u001b[38;5;241m=\u001b[39m\u001b[38;5;28mself\u001b[39m\u001b[38;5;241m.\u001b[39mexclude_seen,\n\u001b[1;32m    478\u001b[0m                                                               cutoff \u001b[38;5;241m=\u001b[39m \u001b[38;5;28mself\u001b[39m\u001b[38;5;241m.\u001b[39mmax_cutoff,\n\u001b[0;32m   (...)\u001b[0m\n\u001b[1;32m    481\u001b[0m                                                               return_scores \u001b[38;5;241m=\u001b[39m \u001b[38;5;28;01mTrue\u001b[39;00m\n\u001b[1;32m    482\u001b[0m                                                              )\n\u001b[0;32m--> 484\u001b[0m     results_dict \u001b[38;5;241m=\u001b[39m \u001b[38;5;28;43mself\u001b[39;49m\u001b[38;5;241;43m.\u001b[39;49m\u001b[43m_compute_metrics_on_recommendation_list\u001b[49m\u001b[43m(\u001b[49m\u001b[43mtest_user_batch_array\u001b[49m\u001b[43m \u001b[49m\u001b[38;5;241;43m=\u001b[39;49m\u001b[43m \u001b[49m\u001b[43mtest_user_batch_array\u001b[49m\u001b[43m,\u001b[49m\n\u001b[1;32m    485\u001b[0m \u001b[43m                                                 \u001b[49m\u001b[43mrecommended_items_batch_list\u001b[49m\u001b[43m \u001b[49m\u001b[38;5;241;43m=\u001b[39;49m\u001b[43m \u001b[49m\u001b[43mrecommended_items_batch_list\u001b[49m\u001b[43m,\u001b[49m\n\u001b[1;32m    486\u001b[0m \u001b[43m                                                 \u001b[49m\u001b[43mscores_batch\u001b[49m\u001b[43m \u001b[49m\u001b[38;5;241;43m=\u001b[39;49m\u001b[43m \u001b[49m\u001b[43mscores_batch\u001b[49m\u001b[43m,\u001b[49m\n\u001b[1;32m    487\u001b[0m \u001b[43m                                                 \u001b[49m\u001b[43mresults_dict\u001b[49m\u001b[43m \u001b[49m\u001b[38;5;241;43m=\u001b[39;49m\u001b[43m \u001b[49m\u001b[43mresults_dict\u001b[49m\u001b[43m)\u001b[49m\n\u001b[1;32m    490\u001b[0m \u001b[38;5;28;01mreturn\u001b[39;00m results_dict\n",
      "File \u001b[0;32m~/Developer/RecSys/Competizione/Evaluation/Evaluator.py:368\u001b[0m, in \u001b[0;36mEvaluator._compute_metrics_on_recommendation_list\u001b[0;34m(self, test_user_batch_array, recommended_items_batch_list, scores_batch, results_dict)\u001b[0m\n\u001b[1;32m    366\u001b[0m results_current_cutoff[EvaluatorMetrics\u001b[38;5;241m.\u001b[39mPRECISION_RECALL_MIN_DEN\u001b[38;5;241m.\u001b[39mvalue]   \u001b[38;5;241m+\u001b[39m\u001b[38;5;241m=\u001b[39m precision_recall_min_denominator(is_relevant_current_cutoff, \u001b[38;5;28mlen\u001b[39m(relevant_items))\n\u001b[1;32m    367\u001b[0m results_current_cutoff[EvaluatorMetrics\u001b[38;5;241m.\u001b[39mRECALL\u001b[38;5;241m.\u001b[39mvalue]               \u001b[38;5;241m+\u001b[39m\u001b[38;5;241m=\u001b[39m recall(is_relevant_current_cutoff, relevant_items)\n\u001b[0;32m--> 368\u001b[0m results_current_cutoff[EvaluatorMetrics\u001b[38;5;241m.\u001b[39mNDCG\u001b[38;5;241m.\u001b[39mvalue]                 \u001b[38;5;241m+\u001b[39m\u001b[38;5;241m=\u001b[39m \u001b[43mndcg\u001b[49m\u001b[43m(\u001b[49m\u001b[43mrecommended_items_current_cutoff\u001b[49m\u001b[43m,\u001b[49m\u001b[43m \u001b[49m\u001b[43mrelevant_items\u001b[49m\u001b[43m,\u001b[49m\u001b[43m \u001b[49m\u001b[43mrelevance\u001b[49m\u001b[38;5;241;43m=\u001b[39;49m\u001b[38;5;28;43mself\u001b[39;49m\u001b[38;5;241;43m.\u001b[39;49m\u001b[43mget_user_test_ratings\u001b[49m\u001b[43m(\u001b[49m\u001b[43mtest_user\u001b[49m\u001b[43m)\u001b[49m\u001b[43m,\u001b[49m\u001b[43m \u001b[49m\u001b[43mat\u001b[49m\u001b[38;5;241;43m=\u001b[39;49m\u001b[43mcutoff\u001b[49m\u001b[43m)\u001b[49m\n\u001b[1;32m    369\u001b[0m results_current_cutoff[EvaluatorMetrics\u001b[38;5;241m.\u001b[39mARHR\u001b[38;5;241m.\u001b[39mvalue]                 \u001b[38;5;241m+\u001b[39m\u001b[38;5;241m=\u001b[39m arhr_all_hits(is_relevant_current_cutoff)\n\u001b[1;32m    371\u001b[0m results_current_cutoff[EvaluatorMetrics\u001b[38;5;241m.\u001b[39mMRR\u001b[38;5;241m.\u001b[39mvalue]\u001b[38;5;241m.\u001b[39madd_recommendations(is_relevant_current_cutoff)\n",
      "File \u001b[0;32m~/Developer/RecSys/Competizione/Evaluation/metrics.py:256\u001b[0m, in \u001b[0;36mndcg\u001b[0;34m(ranked_list, pos_items, relevance, at)\u001b[0m\n\u001b[1;32m    253\u001b[0m it2rel \u001b[38;5;241m=\u001b[39m {it: r \u001b[38;5;28;01mfor\u001b[39;00m it, r \u001b[38;5;129;01min\u001b[39;00m \u001b[38;5;28mzip\u001b[39m(pos_items, relevance)}\n\u001b[1;32m    255\u001b[0m \u001b[38;5;66;03m# Creates array of length \"at\" with the relevance associated to the item in that position\u001b[39;00m\n\u001b[0;32m--> 256\u001b[0m rank_scores \u001b[38;5;241m=\u001b[39m np\u001b[38;5;241m.\u001b[39masarray([it2rel\u001b[38;5;241m.\u001b[39mget(it, \u001b[38;5;241m0.0\u001b[39m) \u001b[38;5;28;01mfor\u001b[39;00m it \u001b[38;5;129;01min\u001b[39;00m ranked_list[:at]], dtype\u001b[38;5;241m=\u001b[39mnp\u001b[38;5;241m.\u001b[39mfloat64)\n\u001b[1;32m    258\u001b[0m \u001b[38;5;66;03m# DCG uses the relevance of the recommended items\u001b[39;00m\n\u001b[1;32m    259\u001b[0m rank_dcg \u001b[38;5;241m=\u001b[39m dcg(rank_scores)\n",
      "File \u001b[0;32m~/Developer/RecSys/Competizione/Evaluation/metrics.py:256\u001b[0m, in \u001b[0;36m<listcomp>\u001b[0;34m(.0)\u001b[0m\n\u001b[1;32m    253\u001b[0m it2rel \u001b[38;5;241m=\u001b[39m {it: r \u001b[38;5;28;01mfor\u001b[39;00m it, r \u001b[38;5;129;01min\u001b[39;00m \u001b[38;5;28mzip\u001b[39m(pos_items, relevance)}\n\u001b[1;32m    255\u001b[0m \u001b[38;5;66;03m# Creates array of length \"at\" with the relevance associated to the item in that position\u001b[39;00m\n\u001b[0;32m--> 256\u001b[0m rank_scores \u001b[38;5;241m=\u001b[39m np\u001b[38;5;241m.\u001b[39masarray([\u001b[43mit2rel\u001b[49m\u001b[38;5;241;43m.\u001b[39;49m\u001b[43mget\u001b[49m(it, \u001b[38;5;241m0.0\u001b[39m) \u001b[38;5;28;01mfor\u001b[39;00m it \u001b[38;5;129;01min\u001b[39;00m ranked_list[:at]], dtype\u001b[38;5;241m=\u001b[39mnp\u001b[38;5;241m.\u001b[39mfloat64)\n\u001b[1;32m    258\u001b[0m \u001b[38;5;66;03m# DCG uses the relevance of the recommended items\u001b[39;00m\n\u001b[1;32m    259\u001b[0m rank_dcg \u001b[38;5;241m=\u001b[39m dcg(rank_scores)\n",
      "\u001b[0;31mKeyboardInterrupt\u001b[0m: "
     ]
    }
   ],
   "source": [
    "optuna_study = optuna.create_study(direction=\"maximize\")\n",
    "        \n",
    "save_results = SaveResults()\n",
    "        \n",
    "optuna_study.optimize(objective_function,\n",
    "                      callbacks=[save_results],\n",
    "                      n_trials = 500)"
   ]
  },
  {
   "cell_type": "markdown",
   "metadata": {},
   "source": [
    "# First Optuna Analysis\n",
    "We can infer from the first iteration (~50) that *euclidian* consistently has worse results and that we tend to get better performance with small value of K and shrink with *asymmetric* and *tversky* similarity functions, specifically with a **MAP** of around 0.30. Therefore, to better improve the hyperparameter research I will repeat the process with a smaller hyperparameter feature space, hoping that it will speed up the convergence. For this reason I killed the above cell."
   ]
  },
  {
   "cell_type": "code",
   "execution_count": 13,
   "metadata": {},
   "outputs": [],
   "source": [
    "import optuna\n",
    "import pandas as pd\n",
    "from Recommenders.KNN.ItemKNNCFRecommender import ItemKNNCFRecommender\n",
    "\n",
    "def objective_function(optuna_trial):\n",
    "    \n",
    "    similarity = optuna_trial.suggest_categorical(\"similarity\", ['cosine', 'dice', 'jaccard', 'asymmetric', 'tversky'])\n",
    "    \n",
    "    params = {\"similarity\": similarity,\n",
    "                   \"topK\": optuna_trial.suggest_int(\"topK\", 5, 80),\n",
    "                   \"shrink\": optuna_trial.suggest_int(\"shrink\", 0, 50),\n",
    "                  }\n",
    "    \n",
    "    if similarity == \"asymmetric\":\n",
    "        params[\"asymmetric_alpha\"] = optuna_trial.suggest_float(\"asymmetric_alpha\", 0, 0.15, log=False)\n",
    "        params[\"normalize\"] = True     \n",
    "\n",
    "    elif similarity == \"tversky\":\n",
    "        params[\"tversky_alpha\"] = optuna_trial.suggest_float(\"tversky_alpha\", 0, 2, log=False)\n",
    "        params[\"tversky_beta\"] = optuna_trial.suggest_float(\"tversky_beta\", 0, 2, log=False)\n",
    "        params[\"normalize\"] = True \n",
    "\n",
    "    MAP = 0\n",
    "    for i in range(k_fold):\n",
    "        recommender = ItemKNNCFRecommender(urm_trains[i])\n",
    "        recommender.fit(**params)\n",
    "\n",
    "        result_dict, _ = evaluator_validation[i].evaluateRecommender(recommender)\n",
    "\n",
    "        MAP += result_dict[\"MAP\"].item()\n",
    "    \n",
    "    MAP /= k_fold\n",
    "    \n",
    "    return MAP"
   ]
  },
  {
   "cell_type": "code",
   "execution_count": 14,
   "metadata": {},
   "outputs": [],
   "source": [
    "class SaveResults(object):\n",
    "    \n",
    "    def __init__(self):\n",
    "        self.results_df = pd.DataFrame(columns = [\"result\"])\n",
    "    \n",
    "    def __call__(self, optuna_study, optuna_trial):\n",
    "        hyperparam_dict = optuna_trial.params.copy()\n",
    "        hyperparam_dict[\"result\"] = optuna_trial.values[0]\n",
    "        \n",
    "        self.results_df = pd.concat([self.results_df, pd.DataFrame([hyperparam_dict])], ignore_index=True)\n",
    "        self.results_df.to_csv(\"logs/KNN_similarity_search_smaller_hyper.csv\", index = False)"
   ]
  },
  {
   "cell_type": "code",
   "execution_count": 15,
   "metadata": {},
   "outputs": [
    {
     "name": "stderr",
     "output_type": "stream",
     "text": [
      "[I 2024-11-27 21:02:46,482] A new study created in memory with name: no-name-0b4b2fa0-4c37-4ed7-a270-bf13725d6027\n"
     ]
    },
    {
     "name": "stdout",
     "output_type": "stream",
     "text": [
      "Similarity column 38121 (100.0%), 5645.67 column/sec. Elapsed time 6.75 sec\n",
      "EvaluatorHoldout: Processed 35311 (100.0%) in 12.15 sec. Users per second: 2907\n",
      "Similarity column 38121 (100.0%), 5674.18 column/sec. Elapsed time 6.72 sec\n",
      "EvaluatorHoldout: Processed 35289 (100.0%) in 11.83 sec. Users per second: 2982\n",
      "Similarity column 38121 (100.0%), 5701.23 column/sec. Elapsed time 6.69 sec\n",
      "EvaluatorHoldout: Processed 35295 (100.0%) in 11.85 sec. Users per second: 2979\n",
      "Similarity column 38121 (100.0%), 5758.46 column/sec. Elapsed time 6.62 sec\n",
      "EvaluatorHoldout: Processed 35269 (100.0%) in 11.79 sec. Users per second: 2992\n",
      "Similarity column 38121 (100.0%), 5717.29 column/sec. Elapsed time 6.67 sec\n",
      "EvaluatorHoldout: Processed 35311 (100.0%) in 11.98 sec. Users per second: 2947\n",
      "Similarity column 38121 (100.0%), 5634.16 column/sec. Elapsed time 6.77 sec\n",
      "EvaluatorHoldout: Processed 35323 (100.0%) in 11.89 sec. Users per second: 2971\n",
      "Similarity column 38121 (100.0%), 5741.91 column/sec. Elapsed time 6.64 sec\n",
      "EvaluatorHoldout: Processed 35327 (100.0%) in 11.85 sec. Users per second: 2981\n",
      "Similarity column 38121 (100.0%), 5633.84 column/sec. Elapsed time 6.77 sec\n",
      "EvaluatorHoldout: Processed 35336 (100.0%) in 11.80 sec. Users per second: 2996\n",
      "Similarity column 38121 (100.0%), 5699.97 column/sec. Elapsed time 6.69 sec\n",
      "EvaluatorHoldout: Processed 35270 (100.0%) in 11.87 sec. Users per second: 2972\n",
      "Similarity column 38121 (100.0%), 5761.88 column/sec. Elapsed time 6.62 sec\n",
      "EvaluatorHoldout: Processed 35277 (100.0%) in 11.78 sec. Users per second: 2994\n"
     ]
    },
    {
     "name": "stderr",
     "output_type": "stream",
     "text": [
      "[I 2024-11-27 21:05:53,445] Trial 0 finished with value: 0.02725874946486771 and parameters: {'similarity': 'tversky', 'topK': 41, 'shrink': 24, 'tversky_alpha': 1.0490696185422574, 'tversky_beta': 0.5956663450958362}. Best is trial 0 with value: 0.02725874946486771.\n"
     ]
    },
    {
     "name": "stdout",
     "output_type": "stream",
     "text": [
      "Similarity column 38121 (100.0%), 5633.25 column/sec. Elapsed time 6.77 sec\n",
      "EvaluatorHoldout: Processed 35311 (100.0%) in 10.71 sec. Users per second: 3296\n",
      "Similarity column 38121 (100.0%), 5697.78 column/sec. Elapsed time 6.69 sec\n",
      "EvaluatorHoldout: Processed 35289 (100.0%) in 10.70 sec. Users per second: 3298\n",
      "Similarity column 38121 (100.0%), 5666.72 column/sec. Elapsed time 6.73 sec\n",
      "EvaluatorHoldout: Processed 35295 (100.0%) in 10.73 sec. Users per second: 3289\n",
      "Similarity column 38121 (100.0%), 5663.16 column/sec. Elapsed time 6.73 sec\n",
      "EvaluatorHoldout: Processed 35269 (100.0%) in 10.70 sec. Users per second: 3296\n",
      "Similarity column 38121 (100.0%), 5705.64 column/sec. Elapsed time 6.68 sec\n",
      "EvaluatorHoldout: Processed 35311 (100.0%) in 10.68 sec. Users per second: 3305\n",
      "Similarity column 38121 (100.0%), 5559.68 column/sec. Elapsed time 6.86 sec\n",
      "EvaluatorHoldout: Processed 35323 (100.0%) in 10.71 sec. Users per second: 3298\n",
      "Similarity column 38121 (100.0%), 5663.92 column/sec. Elapsed time 6.73 sec\n",
      "EvaluatorHoldout: Processed 35327 (100.0%) in 10.72 sec. Users per second: 3294\n",
      "Similarity column 38121 (100.0%), 5701.73 column/sec. Elapsed time 6.69 sec\n",
      "EvaluatorHoldout: Processed 35336 (100.0%) in 10.76 sec. Users per second: 3284\n",
      "Similarity column 38121 (100.0%), 5718.25 column/sec. Elapsed time 6.67 sec\n",
      "EvaluatorHoldout: Processed 35270 (100.0%) in 10.69 sec. Users per second: 3298\n",
      "Similarity column 38121 (100.0%), 5705.92 column/sec. Elapsed time 6.68 sec\n",
      "EvaluatorHoldout: Processed 35277 (100.0%) in 10.74 sec. Users per second: 3286\n"
     ]
    },
    {
     "name": "stderr",
     "output_type": "stream",
     "text": [
      "[I 2024-11-27 21:08:48,210] Trial 1 finished with value: 0.028234284284982352 and parameters: {'similarity': 'cosine', 'topK': 9, 'shrink': 43}. Best is trial 1 with value: 0.028234284284982352.\n"
     ]
    },
    {
     "name": "stdout",
     "output_type": "stream",
     "text": [
      "Similarity column 38121 (100.0%), 5583.91 column/sec. Elapsed time 6.83 sec\n",
      "EvaluatorHoldout: Processed 35311 (100.0%) in 11.37 sec. Users per second: 3105\n",
      "Similarity column 38121 (100.0%), 5655.33 column/sec. Elapsed time 6.74 sec\n",
      "EvaluatorHoldout: Processed 35289 (100.0%) in 11.34 sec. Users per second: 3112\n",
      "Similarity column 38121 (100.0%), 5606.02 column/sec. Elapsed time 6.80 sec\n",
      "EvaluatorHoldout: Processed 35295 (100.0%) in 11.33 sec. Users per second: 3114\n",
      "Similarity column 38121 (100.0%), 5608.74 column/sec. Elapsed time 6.80 sec\n",
      "EvaluatorHoldout: Processed 35269 (100.0%) in 11.46 sec. Users per second: 3079\n",
      "Similarity column 38121 (100.0%), 5617.62 column/sec. Elapsed time 6.79 sec\n",
      "EvaluatorHoldout: Processed 35311 (100.0%) in 11.31 sec. Users per second: 3121\n",
      "Similarity column 38121 (100.0%), 5622.17 column/sec. Elapsed time 6.78 sec\n",
      "EvaluatorHoldout: Processed 35323 (100.0%) in 11.43 sec. Users per second: 3091\n",
      "Similarity column 38121 (100.0%), 5649.36 column/sec. Elapsed time 6.75 sec\n",
      "EvaluatorHoldout: Processed 35327 (100.0%) in 11.36 sec. Users per second: 3109\n",
      "Similarity column 38121 (100.0%), 5736.43 column/sec. Elapsed time 6.65 sec\n",
      "EvaluatorHoldout: Processed 35336 (100.0%) in 11.32 sec. Users per second: 3123\n",
      "Similarity column 38121 (100.0%), 5573.81 column/sec. Elapsed time 6.84 sec\n",
      "EvaluatorHoldout: Processed 35270 (100.0%) in 11.42 sec. Users per second: 3090\n",
      "Similarity column 38121 (100.0%), 5594.12 column/sec. Elapsed time 6.81 sec\n",
      "EvaluatorHoldout: Processed 35277 (100.0%) in 11.65 sec. Users per second: 3027\n"
     ]
    },
    {
     "name": "stderr",
     "output_type": "stream",
     "text": [
      "[I 2024-11-27 21:11:51,174] Trial 2 finished with value: 0.02794233928331889 and parameters: {'similarity': 'jaccard', 'topK': 37, 'shrink': 5}. Best is trial 1 with value: 0.028234284284982352.\n"
     ]
    },
    {
     "name": "stdout",
     "output_type": "stream",
     "text": [
      "Similarity column 38121 (100.0%), 5828.03 column/sec. Elapsed time 6.54 sec\n",
      "EvaluatorHoldout: Processed 35311 (100.0%) in 10.99 sec. Users per second: 3214\n",
      "Similarity column 38121 (100.0%), 5729.85 column/sec. Elapsed time 6.65 sec\n",
      "EvaluatorHoldout: Processed 35289 (100.0%) in 10.90 sec. Users per second: 3239\n",
      "Similarity column 38121 (100.0%), 5847.13 column/sec. Elapsed time 6.52 sec\n",
      "EvaluatorHoldout: Processed 35295 (100.0%) in 10.91 sec. Users per second: 3236\n",
      "Similarity column 38121 (100.0%), 5843.94 column/sec. Elapsed time 6.52 sec\n",
      "EvaluatorHoldout: Processed 35269 (100.0%) in 10.82 sec. Users per second: 3260\n",
      "Similarity column 38121 (100.0%), 5842.11 column/sec. Elapsed time 6.53 sec\n",
      "EvaluatorHoldout: Processed 35311 (100.0%) in 10.91 sec. Users per second: 3238\n",
      "Similarity column 38121 (100.0%), 5829.38 column/sec. Elapsed time 6.54 sec\n",
      "EvaluatorHoldout: Processed 35323 (100.0%) in 10.87 sec. Users per second: 3249\n",
      "Similarity column 38121 (100.0%), 5823.62 column/sec. Elapsed time 6.55 sec\n",
      "EvaluatorHoldout: Processed 35327 (100.0%) in 10.92 sec. Users per second: 3236\n",
      "Similarity column 38121 (100.0%), 5828.66 column/sec. Elapsed time 6.54 sec\n",
      "EvaluatorHoldout: Processed 35336 (100.0%) in 10.87 sec. Users per second: 3252\n",
      "Similarity column 38121 (100.0%), 5786.40 column/sec. Elapsed time 6.59 sec\n",
      "EvaluatorHoldout: Processed 35270 (100.0%) in 10.93 sec. Users per second: 3226\n",
      "Similarity column 38121 (100.0%), 5796.02 column/sec. Elapsed time 6.58 sec\n",
      "EvaluatorHoldout: Processed 35277 (100.0%) in 11.00 sec. Users per second: 3206\n"
     ]
    },
    {
     "name": "stderr",
     "output_type": "stream",
     "text": [
      "[I 2024-11-27 21:14:46,965] Trial 3 finished with value: 0.027937652200840806 and parameters: {'similarity': 'dice', 'topK': 22, 'shrink': 3}. Best is trial 1 with value: 0.028234284284982352.\n"
     ]
    },
    {
     "name": "stdout",
     "output_type": "stream",
     "text": [
      "Similarity column 38121 (100.0%), 5385.24 column/sec. Elapsed time 7.08 sec\n",
      "EvaluatorHoldout: Processed 35311 (100.0%) in 11.63 sec. Users per second: 3035\n",
      "Similarity column 38121 (100.0%), 5302.62 column/sec. Elapsed time 7.19 sec\n",
      "EvaluatorHoldout: Processed 35289 (100.0%) in 11.54 sec. Users per second: 3058\n",
      "Similarity column 38121 (100.0%), 5344.85 column/sec. Elapsed time 7.13 sec\n",
      "EvaluatorHoldout: Processed 35295 (100.0%) in 11.47 sec. Users per second: 3078\n",
      "Similarity column 38121 (100.0%), 5418.85 column/sec. Elapsed time 7.03 sec\n",
      "EvaluatorHoldout: Processed 35269 (100.0%) in 11.33 sec. Users per second: 3114\n",
      "Similarity column 38121 (100.0%), 5463.93 column/sec. Elapsed time 6.98 sec\n",
      "EvaluatorHoldout: Processed 35311 (100.0%) in 11.33 sec. Users per second: 3117\n",
      "Similarity column 38121 (100.0%), 5386.81 column/sec. Elapsed time 7.08 sec\n",
      "EvaluatorHoldout: Processed 35323 (100.0%) in 11.34 sec. Users per second: 3115\n",
      "Similarity column 38121 (100.0%), 5453.12 column/sec. Elapsed time 6.99 sec\n",
      "EvaluatorHoldout: Processed 35327 (100.0%) in 11.36 sec. Users per second: 3109\n",
      "Similarity column 38121 (100.0%), 5420.71 column/sec. Elapsed time 7.03 sec\n",
      "EvaluatorHoldout: Processed 35336 (100.0%) in 11.35 sec. Users per second: 3114\n",
      "Similarity column 38121 (100.0%), 5476.60 column/sec. Elapsed time 6.96 sec\n",
      "EvaluatorHoldout: Processed 35270 (100.0%) in 11.39 sec. Users per second: 3096\n",
      "Similarity column 38121 (100.0%), 5467.32 column/sec. Elapsed time 6.97 sec\n",
      "EvaluatorHoldout: Processed 35277 (100.0%) in 11.35 sec. Users per second: 3107\n"
     ]
    },
    {
     "name": "stderr",
     "output_type": "stream",
     "text": [
      "[I 2024-11-27 21:17:52,086] Trial 4 finished with value: 0.027054157594004064 and parameters: {'similarity': 'asymmetric', 'topK': 70, 'shrink': 0, 'asymmetric_alpha': 0.033574713439775715}. Best is trial 1 with value: 0.028234284284982352.\n"
     ]
    },
    {
     "name": "stdout",
     "output_type": "stream",
     "text": [
      "Similarity column 38121 (100.0%), 5462.70 column/sec. Elapsed time 6.98 sec\n",
      "EvaluatorHoldout: Processed 35311 (100.0%) in 12.04 sec. Users per second: 2933\n",
      "Similarity column 38121 (100.0%), 5433.98 column/sec. Elapsed time 7.02 sec\n",
      "EvaluatorHoldout: Processed 35289 (100.0%) in 12.00 sec. Users per second: 2941\n",
      "Similarity column 38121 (100.0%), 5405.85 column/sec. Elapsed time 7.05 sec\n",
      "EvaluatorHoldout: Processed 35295 (100.0%) in 11.95 sec. Users per second: 2954\n",
      "Similarity column 38121 (100.0%), 5468.70 column/sec. Elapsed time 6.97 sec\n",
      "EvaluatorHoldout: Processed 35269 (100.0%) in 11.98 sec. Users per second: 2944\n",
      "Similarity column 38121 (100.0%), 5403.60 column/sec. Elapsed time 7.05 sec\n",
      "EvaluatorHoldout: Processed 35311 (100.0%) in 12.14 sec. Users per second: 2907\n",
      "Similarity column 38121 (100.0%), 5274.08 column/sec. Elapsed time 7.23 sec\n",
      "EvaluatorHoldout: Processed 35323 (100.0%) in 12.07 sec. Users per second: 2926\n",
      "Similarity column 38121 (100.0%), 5465.13 column/sec. Elapsed time 6.98 sec\n",
      "EvaluatorHoldout: Processed 35327 (100.0%) in 12.12 sec. Users per second: 2915\n",
      "Similarity column 38121 (100.0%), 5464.18 column/sec. Elapsed time 6.98 sec\n",
      "EvaluatorHoldout: Processed 35336 (100.0%) in 12.13 sec. Users per second: 2912\n",
      "Similarity column 38121 (100.0%), 5388.30 column/sec. Elapsed time 7.07 sec\n",
      "EvaluatorHoldout: Processed 35270 (100.0%) in 12.33 sec. Users per second: 2861\n",
      "Similarity column 38121 (100.0%), 5362.86 column/sec. Elapsed time 7.11 sec\n",
      "EvaluatorHoldout: Processed 35277 (100.0%) in 12.27 sec. Users per second: 2874\n"
     ]
    },
    {
     "name": "stderr",
     "output_type": "stream",
     "text": [
      "[I 2024-11-27 21:21:04,165] Trial 5 finished with value: 0.027551374131738637 and parameters: {'similarity': 'asymmetric', 'topK': 64, 'shrink': 30, 'asymmetric_alpha': 0.10356718486038888}. Best is trial 1 with value: 0.028234284284982352.\n"
     ]
    },
    {
     "name": "stdout",
     "output_type": "stream",
     "text": [
      "Similarity column 38121 (100.0%), 5556.16 column/sec. Elapsed time 6.86 sec\n",
      "EvaluatorHoldout: Processed 35311 (100.0%) in 13.19 sec. Users per second: 2678\n",
      "Similarity column 38121 (100.0%), 5595.97 column/sec. Elapsed time 6.81 sec\n",
      "EvaluatorHoldout: Processed 35289 (100.0%) in 13.20 sec. Users per second: 2673\n",
      "Similarity column 38121 (100.0%), 5534.47 column/sec. Elapsed time 6.89 sec\n",
      "EvaluatorHoldout: Processed 35295 (100.0%) in 13.06 sec. Users per second: 2702\n",
      "Similarity column 38121 (100.0%), 5662.37 column/sec. Elapsed time 6.73 sec\n",
      "EvaluatorHoldout: Processed 35269 (100.0%) in 13.08 sec. Users per second: 2697\n",
      "Similarity column 38121 (100.0%), 5609.51 column/sec. Elapsed time 6.80 sec\n",
      "EvaluatorHoldout: Processed 35311 (100.0%) in 13.28 sec. Users per second: 2658\n",
      "Similarity column 38121 (100.0%), 5674.93 column/sec. Elapsed time 6.72 sec\n",
      "EvaluatorHoldout: Processed 35323 (100.0%) in 13.05 sec. Users per second: 2706\n",
      "Similarity column 38121 (100.0%), 5624.98 column/sec. Elapsed time 6.78 sec\n",
      "EvaluatorHoldout: Processed 35327 (100.0%) in 13.06 sec. Users per second: 2704\n",
      "Similarity column 38121 (100.0%), 5629.83 column/sec. Elapsed time 6.77 sec\n",
      "EvaluatorHoldout: Processed 35336 (100.0%) in 13.15 sec. Users per second: 2687\n",
      "Similarity column 38121 (100.0%), 5611.13 column/sec. Elapsed time 6.79 sec\n",
      "EvaluatorHoldout: Processed 35270 (100.0%) in 13.24 sec. Users per second: 2665\n",
      "Similarity column 38121 (100.0%), 5667.44 column/sec. Elapsed time 6.73 sec\n",
      "EvaluatorHoldout: Processed 35277 (100.0%) in 13.07 sec. Users per second: 2700\n"
     ]
    },
    {
     "name": "stderr",
     "output_type": "stream",
     "text": [
      "[I 2024-11-27 21:24:23,980] Trial 6 finished with value: 0.026968633140962393 and parameters: {'similarity': 'cosine', 'topK': 62, 'shrink': 47}. Best is trial 1 with value: 0.028234284284982352.\n"
     ]
    },
    {
     "name": "stdout",
     "output_type": "stream",
     "text": [
      "Similarity column 38121 (100.0%), 5433.05 column/sec. Elapsed time 7.02 sec\n",
      "EvaluatorHoldout: Processed 35311 (100.0%) in 12.04 sec. Users per second: 2932\n",
      "Similarity column 38121 (100.0%), 5466.46 column/sec. Elapsed time 6.97 sec\n",
      "EvaluatorHoldout: Processed 35289 (100.0%) in 12.08 sec. Users per second: 2921\n",
      "Similarity column 38121 (100.0%), 5449.72 column/sec. Elapsed time 7.00 sec\n",
      "EvaluatorHoldout: Processed 35295 (100.0%) in 12.09 sec. Users per second: 2919\n",
      "Similarity column 38121 (100.0%), 5464.86 column/sec. Elapsed time 6.98 sec\n",
      "EvaluatorHoldout: Processed 35269 (100.0%) in 12.02 sec. Users per second: 2934\n",
      "Similarity column 38121 (100.0%), 5430.69 column/sec. Elapsed time 7.02 sec\n",
      "EvaluatorHoldout: Processed 35311 (100.0%) in 12.05 sec. Users per second: 2930\n",
      "Similarity column 38121 (100.0%), 5483.41 column/sec. Elapsed time 6.95 sec\n",
      "EvaluatorHoldout: Processed 35323 (100.0%) in 12.07 sec. Users per second: 2925\n",
      "Similarity column 38121 (100.0%), 5471.95 column/sec. Elapsed time 6.97 sec\n",
      "EvaluatorHoldout: Processed 35327 (100.0%) in 12.05 sec. Users per second: 2932\n",
      "Similarity column 38121 (100.0%), 5416.18 column/sec. Elapsed time 7.04 sec\n",
      "EvaluatorHoldout: Processed 35336 (100.0%) in 12.07 sec. Users per second: 2928\n",
      "Similarity column 38121 (100.0%), 5476.18 column/sec. Elapsed time 6.96 sec\n",
      "EvaluatorHoldout: Processed 35270 (100.0%) in 12.06 sec. Users per second: 2925\n",
      "Similarity column 38121 (100.0%), 5476.77 column/sec. Elapsed time 6.96 sec\n",
      "EvaluatorHoldout: Processed 35277 (100.0%) in 12.02 sec. Users per second: 2935\n"
     ]
    },
    {
     "name": "stderr",
     "output_type": "stream",
     "text": [
      "[I 2024-11-27 21:27:34,972] Trial 7 finished with value: 0.0267785994445081 and parameters: {'similarity': 'asymmetric', 'topK': 64, 'shrink': 46, 'asymmetric_alpha': 0.0020467161490351046}. Best is trial 1 with value: 0.028234284284982352.\n"
     ]
    },
    {
     "name": "stdout",
     "output_type": "stream",
     "text": [
      "Similarity column 38121 (100.0%), 5693.69 column/sec. Elapsed time 6.70 sec\n",
      "EvaluatorHoldout: Processed 35311 (100.0%) in 11.88 sec. Users per second: 2973\n",
      "Similarity column 38121 (100.0%), 5611.25 column/sec. Elapsed time 6.79 sec\n",
      "EvaluatorHoldout: Processed 35289 (100.0%) in 11.84 sec. Users per second: 2981\n",
      "Similarity column 38121 (100.0%), 5678.61 column/sec. Elapsed time 6.71 sec\n",
      "EvaluatorHoldout: Processed 35295 (100.0%) in 11.85 sec. Users per second: 2979\n",
      "Similarity column 38121 (100.0%), 5672.94 column/sec. Elapsed time 6.72 sec\n",
      "EvaluatorHoldout: Processed 35269 (100.0%) in 11.88 sec. Users per second: 2968\n",
      "Similarity column 38121 (100.0%), 5679.52 column/sec. Elapsed time 6.71 sec\n",
      "EvaluatorHoldout: Processed 35311 (100.0%) in 11.82 sec. Users per second: 2988\n",
      "Similarity column 38121 (100.0%), 5655.03 column/sec. Elapsed time 6.74 sec\n",
      "EvaluatorHoldout: Processed 35323 (100.0%) in 11.76 sec. Users per second: 3004\n",
      "Similarity column 38121 (100.0%), 5623.42 column/sec. Elapsed time 6.78 sec\n",
      "EvaluatorHoldout: Processed 35327 (100.0%) in 11.96 sec. Users per second: 2953\n",
      "Similarity column 38121 (100.0%), 5672.51 column/sec. Elapsed time 6.72 sec\n",
      "EvaluatorHoldout: Processed 35336 (100.0%) in 11.90 sec. Users per second: 2970\n",
      "Similarity column 38121 (100.0%), 5609.58 column/sec. Elapsed time 6.80 sec\n",
      "EvaluatorHoldout: Processed 35270 (100.0%) in 11.91 sec. Users per second: 2962\n",
      "Similarity column 38121 (100.0%), 5640.27 column/sec. Elapsed time 6.76 sec\n",
      "EvaluatorHoldout: Processed 35277 (100.0%) in 11.88 sec. Users per second: 2970\n"
     ]
    },
    {
     "name": "stderr",
     "output_type": "stream",
     "text": [
      "[I 2024-11-27 21:30:41,617] Trial 8 finished with value: 0.026655255876561368 and parameters: {'similarity': 'cosine', 'topK': 60, 'shrink': 1}. Best is trial 1 with value: 0.028234284284982352.\n"
     ]
    },
    {
     "name": "stdout",
     "output_type": "stream",
     "text": [
      "Similarity column 38121 (100.0%), 5714.36 column/sec. Elapsed time 6.67 sec\n",
      "EvaluatorHoldout: Processed 35311 (100.0%) in 12.65 sec. Users per second: 2792\n",
      "Similarity column 38121 (100.0%), 5682.15 column/sec. Elapsed time 6.71 sec\n",
      "EvaluatorHoldout: Processed 35289 (100.0%) in 12.86 sec. Users per second: 2744\n",
      "Similarity column 38121 (100.0%), 5733.20 column/sec. Elapsed time 6.65 sec\n",
      "EvaluatorHoldout: Processed 35295 (100.0%) in 12.73 sec. Users per second: 2773\n",
      "Similarity column 38121 (100.0%), 5750.09 column/sec. Elapsed time 6.63 sec\n",
      "EvaluatorHoldout: Processed 35269 (100.0%) in 12.83 sec. Users per second: 2748\n",
      "Similarity column 38121 (100.0%), 5677.89 column/sec. Elapsed time 6.71 sec\n",
      "EvaluatorHoldout: Processed 35311 (100.0%) in 13.29 sec. Users per second: 2657\n",
      "Similarity column 38121 (100.0%), 5711.34 column/sec. Elapsed time 6.67 sec\n",
      "EvaluatorHoldout: Processed 35323 (100.0%) in 13.22 sec. Users per second: 2671\n",
      "Similarity column 38121 (100.0%), 5918.22 column/sec. Elapsed time 6.44 sec\n",
      "EvaluatorHoldout: Processed 35327 (100.0%) in 12.75 sec. Users per second: 2771\n",
      "Similarity column 38121 (100.0%), 5905.84 column/sec. Elapsed time 6.45 sec\n",
      "EvaluatorHoldout: Processed 35336 (100.0%) in 12.68 sec. Users per second: 2788\n",
      "Similarity column 38121 (100.0%), 5941.66 column/sec. Elapsed time 6.42 sec\n",
      "EvaluatorHoldout: Processed 35270 (100.0%) in 12.64 sec. Users per second: 2791\n",
      "Similarity column 38121 (100.0%), 5914.84 column/sec. Elapsed time 6.44 sec\n",
      "EvaluatorHoldout: Processed 35277 (100.0%) in 12.68 sec. Users per second: 2783\n"
     ]
    },
    {
     "name": "stderr",
     "output_type": "stream",
     "text": [
      "[I 2024-11-27 21:33:57,064] Trial 9 finished with value: 0.027016364435876943 and parameters: {'similarity': 'tversky', 'topK': 73, 'shrink': 23, 'tversky_alpha': 0.5661589066859287, 'tversky_beta': 0.46454302327905306}. Best is trial 1 with value: 0.028234284284982352.\n"
     ]
    },
    {
     "name": "stdout",
     "output_type": "stream",
     "text": [
      "Similarity column 38121 (100.0%), 5760.81 column/sec. Elapsed time 6.62 sec\n",
      "EvaluatorHoldout: Processed 35311 (100.0%) in 10.55 sec. Users per second: 3348\n",
      "Similarity column 38121 (100.0%), 5883.85 column/sec. Elapsed time 6.48 sec\n",
      "EvaluatorHoldout: Processed 35289 (100.0%) in 10.52 sec. Users per second: 3355\n",
      "Similarity column 38121 (100.0%), 5842.87 column/sec. Elapsed time 6.52 sec\n",
      "EvaluatorHoldout: Processed 35295 (100.0%) in 10.56 sec. Users per second: 3343\n",
      "Similarity column 38121 (100.0%), 5909.10 column/sec. Elapsed time 6.45 sec\n",
      "EvaluatorHoldout: Processed 35269 (100.0%) in 10.57 sec. Users per second: 3338\n",
      "Similarity column 38121 (100.0%), 5894.72 column/sec. Elapsed time 6.47 sec\n",
      "EvaluatorHoldout: Processed 35311 (100.0%) in 10.57 sec. Users per second: 3340\n",
      "Similarity column 38121 (100.0%), 5901.93 column/sec. Elapsed time 6.46 sec\n",
      "EvaluatorHoldout: Processed 35323 (100.0%) in 10.33 sec. Users per second: 3421\n",
      "Similarity column 38121 (100.0%), 5772.42 column/sec. Elapsed time 6.60 sec\n",
      "EvaluatorHoldout: Processed 35327 (100.0%) in 10.46 sec. Users per second: 3377\n",
      "Similarity column 38121 (100.0%), 5882.20 column/sec. Elapsed time 6.48 sec\n",
      "EvaluatorHoldout: Processed 35336 (100.0%) in 10.56 sec. Users per second: 3345\n",
      "Similarity column 38121 (100.0%), 5892.48 column/sec. Elapsed time 6.47 sec\n",
      "EvaluatorHoldout: Processed 35270 (100.0%) in 10.54 sec. Users per second: 3346\n",
      "Similarity column 38121 (100.0%), 5897.87 column/sec. Elapsed time 6.46 sec\n",
      "EvaluatorHoldout: Processed 35277 (100.0%) in 10.58 sec. Users per second: 3333\n"
     ]
    },
    {
     "name": "stderr",
     "output_type": "stream",
     "text": [
      "[I 2024-11-27 21:36:47,705] Trial 10 finished with value: 0.028502427926618612 and parameters: {'similarity': 'cosine', 'topK': 7, 'shrink': 36}. Best is trial 10 with value: 0.028502427926618612.\n"
     ]
    },
    {
     "name": "stdout",
     "output_type": "stream",
     "text": [
      "Similarity column 38121 (100.0%), 5905.83 column/sec. Elapsed time 6.45 sec\n",
      "EvaluatorHoldout: Processed 35311 (100.0%) in 10.44 sec. Users per second: 3383\n",
      "Similarity column 38121 (100.0%), 5901.84 column/sec. Elapsed time 6.46 sec\n",
      "EvaluatorHoldout: Processed 35289 (100.0%) in 10.43 sec. Users per second: 3384\n",
      "Similarity column 38121 (100.0%), 5885.62 column/sec. Elapsed time 6.48 sec\n",
      "EvaluatorHoldout: Processed 35295 (100.0%) in 10.58 sec. Users per second: 3335\n",
      "Similarity column 38121 (100.0%), 5679.05 column/sec. Elapsed time 6.71 sec\n",
      "EvaluatorHoldout: Processed 35269 (100.0%) in 10.43 sec. Users per second: 3380\n",
      "Similarity column 38121 (100.0%), 5654.97 column/sec. Elapsed time 6.74 sec\n",
      "EvaluatorHoldout: Processed 35311 (100.0%) in 10.45 sec. Users per second: 3381\n",
      "Similarity column 38121 (100.0%), 5698.65 column/sec. Elapsed time 6.69 sec\n",
      "EvaluatorHoldout: Processed 35323 (100.0%) in 10.62 sec. Users per second: 3325\n",
      "Similarity column 38121 (100.0%), 5661.07 column/sec. Elapsed time 6.73 sec\n",
      "EvaluatorHoldout: Processed 35327 (100.0%) in 10.44 sec. Users per second: 3385\n",
      "Similarity column 38121 (100.0%), 5616.40 column/sec. Elapsed time 6.79 sec\n",
      "EvaluatorHoldout: Processed 35336 (100.0%) in 10.55 sec. Users per second: 3351\n",
      "Similarity column 38121 (100.0%), 5531.96 column/sec. Elapsed time 6.89 sec\n",
      "EvaluatorHoldout: Processed 35270 (100.0%) in 10.46 sec. Users per second: 3371\n",
      "Similarity column 38121 (100.0%), 5686.60 column/sec. Elapsed time 6.70 sec\n",
      "EvaluatorHoldout: Processed 35277 (100.0%) in 10.43 sec. Users per second: 3382\n"
     ]
    },
    {
     "name": "stderr",
     "output_type": "stream",
     "text": [
      "[I 2024-11-27 21:39:39,564] Trial 11 finished with value: 0.028567698922842954 and parameters: {'similarity': 'cosine', 'topK': 5, 'shrink': 34}. Best is trial 11 with value: 0.028567698922842954.\n"
     ]
    },
    {
     "name": "stdout",
     "output_type": "stream",
     "text": [
      "Similarity column 38121 (100.0%), 5692.95 column/sec. Elapsed time 6.70 sec\n",
      "EvaluatorHoldout: Processed 35311 (100.0%) in 10.57 sec. Users per second: 3341\n",
      "Similarity column 38121 (100.0%), 5680.76 column/sec. Elapsed time 6.71 sec\n",
      "EvaluatorHoldout: Processed 35289 (100.0%) in 10.44 sec. Users per second: 3381\n",
      "Similarity column 38121 (100.0%), 5650.63 column/sec. Elapsed time 6.75 sec\n",
      "EvaluatorHoldout: Processed 35295 (100.0%) in 10.48 sec. Users per second: 3369\n",
      "Similarity column 38121 (100.0%), 5682.89 column/sec. Elapsed time 6.71 sec\n",
      "EvaluatorHoldout: Processed 35269 (100.0%) in 10.43 sec. Users per second: 3381\n",
      "Similarity column 38121 (100.0%), 5683.47 column/sec. Elapsed time 6.71 sec\n",
      "EvaluatorHoldout: Processed 35311 (100.0%) in 10.49 sec. Users per second: 3365\n",
      "Similarity column 38121 (100.0%), 5666.61 column/sec. Elapsed time 6.73 sec\n",
      "EvaluatorHoldout: Processed 35323 (100.0%) in 10.44 sec. Users per second: 3384\n",
      "Similarity column 38121 (100.0%), 5682.99 column/sec. Elapsed time 6.71 sec\n",
      "EvaluatorHoldout: Processed 35327 (100.0%) in 10.49 sec. Users per second: 3368\n",
      "Similarity column 38121 (100.0%), 5679.25 column/sec. Elapsed time 6.71 sec\n",
      "EvaluatorHoldout: Processed 35336 (100.0%) in 10.46 sec. Users per second: 3378\n",
      "Similarity column 38121 (100.0%), 5696.49 column/sec. Elapsed time 6.69 sec\n",
      "EvaluatorHoldout: Processed 35270 (100.0%) in 10.47 sec. Users per second: 3370\n",
      "Similarity column 38121 (100.0%), 5685.04 column/sec. Elapsed time 6.71 sec\n",
      "EvaluatorHoldout: Processed 35277 (100.0%) in 10.47 sec. Users per second: 3368\n"
     ]
    },
    {
     "name": "stderr",
     "output_type": "stream",
     "text": [
      "[I 2024-11-27 21:42:31,765] Trial 12 finished with value: 0.02849257617535894 and parameters: {'similarity': 'cosine', 'topK': 5, 'shrink': 36}. Best is trial 11 with value: 0.028567698922842954.\n"
     ]
    },
    {
     "name": "stdout",
     "output_type": "stream",
     "text": [
      "Similarity column 38121 (100.0%), 5679.22 column/sec. Elapsed time 6.71 sec\n",
      "EvaluatorHoldout: Processed 35311 (100.0%) in 11.18 sec. Users per second: 3158\n",
      "Similarity column 38121 (100.0%), 5630.22 column/sec. Elapsed time 6.77 sec\n",
      "EvaluatorHoldout: Processed 35289 (100.0%) in 11.07 sec. Users per second: 3188\n",
      "Similarity column 38121 (100.0%), 5665.69 column/sec. Elapsed time 6.73 sec\n",
      "EvaluatorHoldout: Processed 35295 (100.0%) in 11.16 sec. Users per second: 3164\n",
      "Similarity column 38121 (100.0%), 5700.14 column/sec. Elapsed time 6.69 sec\n",
      "EvaluatorHoldout: Processed 35269 (100.0%) in 10.99 sec. Users per second: 3208\n",
      "Similarity column 38121 (100.0%), 5707.62 column/sec. Elapsed time 6.68 sec\n",
      "EvaluatorHoldout: Processed 35311 (100.0%) in 11.05 sec. Users per second: 3196\n",
      "Similarity column 38121 (100.0%), 5687.31 column/sec. Elapsed time 6.70 sec\n",
      "EvaluatorHoldout: Processed 35323 (100.0%) in 11.04 sec. Users per second: 3200\n",
      "Similarity column 38121 (100.0%), 5674.03 column/sec. Elapsed time 6.72 sec\n",
      "EvaluatorHoldout: Processed 35327 (100.0%) in 11.10 sec. Users per second: 3184\n",
      "Similarity column 38121 (100.0%), 5665.48 column/sec. Elapsed time 6.73 sec\n",
      "EvaluatorHoldout: Processed 35336 (100.0%) in 11.09 sec. Users per second: 3186\n",
      "Similarity column 38121 (100.0%), 5638.91 column/sec. Elapsed time 6.76 sec\n",
      "EvaluatorHoldout: Processed 35270 (100.0%) in 11.03 sec. Users per second: 3198\n",
      "Similarity column 38121 (100.0%), 5705.22 column/sec. Elapsed time 6.68 sec\n",
      "EvaluatorHoldout: Processed 35277 (100.0%) in 11.09 sec. Users per second: 3180\n"
     ]
    },
    {
     "name": "stderr",
     "output_type": "stream",
     "text": [
      "[I 2024-11-27 21:45:30,141] Trial 13 finished with value: 0.02826946723431454 and parameters: {'similarity': 'cosine', 'topK': 21, 'shrink': 16}. Best is trial 11 with value: 0.028567698922842954.\n"
     ]
    },
    {
     "name": "stdout",
     "output_type": "stream",
     "text": [
      "Similarity column 38121 (100.0%), 5648.71 column/sec. Elapsed time 6.75 sec\n",
      "EvaluatorHoldout: Processed 35311 (100.0%) in 10.94 sec. Users per second: 3228\n",
      "Similarity column 38121 (100.0%), 5580.89 column/sec. Elapsed time 6.83 sec\n",
      "EvaluatorHoldout: Processed 35289 (100.0%) in 10.91 sec. Users per second: 3234\n",
      "Similarity column 38121 (100.0%), 5613.47 column/sec. Elapsed time 6.79 sec\n",
      "EvaluatorHoldout: Processed 35295 (100.0%) in 10.97 sec. Users per second: 3217\n",
      "Similarity column 38121 (100.0%), 5643.15 column/sec. Elapsed time 6.76 sec\n",
      "EvaluatorHoldout: Processed 35269 (100.0%) in 10.96 sec. Users per second: 3219\n",
      "Similarity column 38121 (100.0%), 5640.51 column/sec. Elapsed time 6.76 sec\n",
      "EvaluatorHoldout: Processed 35311 (100.0%) in 10.95 sec. Users per second: 3226\n",
      "Similarity column 38121 (100.0%), 5652.09 column/sec. Elapsed time 6.74 sec\n",
      "EvaluatorHoldout: Processed 35323 (100.0%) in 10.91 sec. Users per second: 3239\n",
      "Similarity column 38121 (100.0%), 5623.31 column/sec. Elapsed time 6.78 sec\n",
      "EvaluatorHoldout: Processed 35327 (100.0%) in 10.83 sec. Users per second: 3261\n",
      "Similarity column 38121 (100.0%), 5668.43 column/sec. Elapsed time 6.73 sec\n",
      "EvaluatorHoldout: Processed 35336 (100.0%) in 11.00 sec. Users per second: 3213\n",
      "Similarity column 38121 (100.0%), 5648.37 column/sec. Elapsed time 6.75 sec\n",
      "EvaluatorHoldout: Processed 35270 (100.0%) in 10.91 sec. Users per second: 3233\n",
      "Similarity column 38121 (100.0%), 5586.10 column/sec. Elapsed time 6.82 sec\n",
      "EvaluatorHoldout: Processed 35277 (100.0%) in 10.91 sec. Users per second: 3234\n"
     ]
    },
    {
     "name": "stderr",
     "output_type": "stream",
     "text": [
      "[I 2024-11-27 21:48:28,233] Trial 14 finished with value: 0.02870517487175896 and parameters: {'similarity': 'jaccard', 'topK': 19, 'shrink': 36}. Best is trial 14 with value: 0.02870517487175896.\n"
     ]
    },
    {
     "name": "stdout",
     "output_type": "stream",
     "text": [
      "Similarity column 38121 (100.0%), 5570.88 column/sec. Elapsed time 6.84 sec\n",
      "EvaluatorHoldout: Processed 35311 (100.0%) in 11.47 sec. Users per second: 3078\n",
      "Similarity column 38121 (100.0%), 5734.70 column/sec. Elapsed time 6.65 sec\n",
      "EvaluatorHoldout: Processed 35289 (100.0%) in 11.55 sec. Users per second: 3056\n",
      "Similarity column 38121 (100.0%), 5619.98 column/sec. Elapsed time 6.78 sec\n",
      "EvaluatorHoldout: Processed 35295 (100.0%) in 11.60 sec. Users per second: 3042\n",
      "Similarity column 38121 (100.0%), 5641.35 column/sec. Elapsed time 6.76 sec\n",
      "EvaluatorHoldout: Processed 35269 (100.0%) in 11.05 sec. Users per second: 3192\n",
      "Similarity column 38121 (100.0%), 5841.47 column/sec. Elapsed time 6.53 sec\n",
      "EvaluatorHoldout: Processed 35311 (100.0%) in 11.06 sec. Users per second: 3193\n",
      "Similarity column 38121 (100.0%), 5871.29 column/sec. Elapsed time 6.49 sec\n",
      "EvaluatorHoldout: Processed 35323 (100.0%) in 11.07 sec. Users per second: 3190\n",
      "Similarity column 38121 (100.0%), 5852.92 column/sec. Elapsed time 6.51 sec\n",
      "EvaluatorHoldout: Processed 35327 (100.0%) in 11.02 sec. Users per second: 3205\n",
      "Similarity column 38121 (100.0%), 5813.71 column/sec. Elapsed time 6.56 sec\n",
      "EvaluatorHoldout: Processed 35336 (100.0%) in 10.99 sec. Users per second: 3214\n",
      "Similarity column 38121 (100.0%), 5923.03 column/sec. Elapsed time 6.44 sec\n",
      "EvaluatorHoldout: Processed 35270 (100.0%) in 10.93 sec. Users per second: 3228\n",
      "Similarity column 38121 (100.0%), 5924.89 column/sec. Elapsed time 6.43 sec\n",
      "EvaluatorHoldout: Processed 35277 (100.0%) in 11.06 sec. Users per second: 3191\n"
     ]
    },
    {
     "name": "stderr",
     "output_type": "stream",
     "text": [
      "[I 2024-11-27 21:51:27,152] Trial 15 finished with value: 0.028567919244959588 and parameters: {'similarity': 'jaccard', 'topK': 22, 'shrink': 38}. Best is trial 14 with value: 0.02870517487175896.\n"
     ]
    },
    {
     "name": "stdout",
     "output_type": "stream",
     "text": [
      "Similarity column 38121 (100.0%), 5874.59 column/sec. Elapsed time 6.49 sec\n",
      "EvaluatorHoldout: Processed 35311 (100.0%) in 11.01 sec. Users per second: 3207\n",
      "Similarity column 38121 (100.0%), 5699.49 column/sec. Elapsed time 6.69 sec\n",
      "EvaluatorHoldout: Processed 35289 (100.0%) in 11.10 sec. Users per second: 3181\n",
      "Similarity column 38121 (100.0%), 6020.90 column/sec. Elapsed time 6.33 sec\n",
      "EvaluatorHoldout: Processed 35295 (100.0%) in 11.20 sec. Users per second: 3150\n",
      "Similarity column 38121 (100.0%), 5937.45 column/sec. Elapsed time 6.42 sec\n",
      "EvaluatorHoldout: Processed 35269 (100.0%) in 11.28 sec. Users per second: 3127\n",
      "Similarity column 38121 (100.0%), 5893.91 column/sec. Elapsed time 6.47 sec\n",
      "EvaluatorHoldout: Processed 35311 (100.0%) in 11.39 sec. Users per second: 3101\n",
      "Similarity column 38121 (100.0%), 5945.99 column/sec. Elapsed time 6.41 sec\n",
      "EvaluatorHoldout: Processed 35323 (100.0%) in 11.30 sec. Users per second: 3127\n",
      "Similarity column 38121 (100.0%), 5859.81 column/sec. Elapsed time 6.51 sec\n",
      "EvaluatorHoldout: Processed 35327 (100.0%) in 11.30 sec. Users per second: 3127\n",
      "Similarity column 38121 (100.0%), 5825.87 column/sec. Elapsed time 6.54 sec\n",
      "EvaluatorHoldout: Processed 35336 (100.0%) in 11.29 sec. Users per second: 3131\n",
      "Similarity column 38121 (100.0%), 5887.24 column/sec. Elapsed time 6.48 sec\n",
      "EvaluatorHoldout: Processed 35270 (100.0%) in 11.26 sec. Users per second: 3133\n",
      "Similarity column 38121 (100.0%), 5854.40 column/sec. Elapsed time 6.51 sec\n",
      "EvaluatorHoldout: Processed 35277 (100.0%) in 11.33 sec. Users per second: 3115\n"
     ]
    },
    {
     "name": "stderr",
     "output_type": "stream",
     "text": [
      "[I 2024-11-27 21:54:25,587] Trial 16 finished with value: 0.028358887334879658 and parameters: {'similarity': 'jaccard', 'topK': 28, 'shrink': 41}. Best is trial 14 with value: 0.02870517487175896.\n"
     ]
    },
    {
     "name": "stdout",
     "output_type": "stream",
     "text": [
      "Similarity column 38121 (100.0%), 5896.69 column/sec. Elapsed time 6.46 sec\n",
      "EvaluatorHoldout: Processed 35311 (100.0%) in 12.03 sec. Users per second: 2936\n",
      "Similarity column 38121 (100.0%), 5861.37 column/sec. Elapsed time 6.50 sec\n",
      "EvaluatorHoldout: Processed 35289 (100.0%) in 11.99 sec. Users per second: 2943\n",
      "Similarity column 38121 (100.0%), 5797.58 column/sec. Elapsed time 6.58 sec\n",
      "EvaluatorHoldout: Processed 35295 (100.0%) in 11.97 sec. Users per second: 2949\n",
      "Similarity column 38121 (100.0%), 5883.78 column/sec. Elapsed time 6.48 sec\n",
      "EvaluatorHoldout: Processed 35269 (100.0%) in 11.89 sec. Users per second: 2967\n",
      "Similarity column 38121 (100.0%), 5859.01 column/sec. Elapsed time 6.51 sec\n",
      "EvaluatorHoldout: Processed 35311 (100.0%) in 11.99 sec. Users per second: 2944\n",
      "Similarity column 38121 (100.0%), 5890.25 column/sec. Elapsed time 6.47 sec\n",
      "EvaluatorHoldout: Processed 35323 (100.0%) in 11.98 sec. Users per second: 2950\n",
      "Similarity column 38121 (100.0%), 5846.06 column/sec. Elapsed time 6.52 sec\n",
      "EvaluatorHoldout: Processed 35327 (100.0%) in 11.99 sec. Users per second: 2947\n",
      "Similarity column 38121 (100.0%), 5848.92 column/sec. Elapsed time 6.52 sec\n",
      "EvaluatorHoldout: Processed 35336 (100.0%) in 12.01 sec. Users per second: 2943\n",
      "Similarity column 38121 (100.0%), 5811.90 column/sec. Elapsed time 6.56 sec\n",
      "EvaluatorHoldout: Processed 35270 (100.0%) in 11.99 sec. Users per second: 2943\n",
      "Similarity column 38121 (100.0%), 5941.36 column/sec. Elapsed time 6.42 sec\n",
      "EvaluatorHoldout: Processed 35277 (100.0%) in 12.05 sec. Users per second: 2928\n"
     ]
    },
    {
     "name": "stderr",
     "output_type": "stream",
     "text": [
      "[I 2024-11-27 21:57:31,715] Trial 17 finished with value: 0.0278255577411609 and parameters: {'similarity': 'jaccard', 'topK': 49, 'shrink': 50}. Best is trial 14 with value: 0.02870517487175896.\n"
     ]
    },
    {
     "name": "stdout",
     "output_type": "stream",
     "text": [
      "Similarity column 38121 (100.0%), 5923.23 column/sec. Elapsed time 6.44 sec\n",
      "EvaluatorHoldout: Processed 35311 (100.0%) in 10.84 sec. Users per second: 3259\n",
      "Similarity column 38121 (100.0%), 5862.59 column/sec. Elapsed time 6.50 sec\n",
      "EvaluatorHoldout: Processed 35289 (100.0%) in 11.23 sec. Users per second: 3143\n",
      "Similarity column 38121 (100.0%), 5913.19 column/sec. Elapsed time 6.45 sec\n",
      "EvaluatorHoldout: Processed 35295 (100.0%) in 11.19 sec. Users per second: 3155\n",
      "Similarity column 38121 (100.0%), 5835.06 column/sec. Elapsed time 6.53 sec\n",
      "EvaluatorHoldout: Processed 35269 (100.0%) in 11.25 sec. Users per second: 3135\n",
      "Similarity column 38121 (100.0%), 5883.47 column/sec. Elapsed time 6.48 sec\n",
      "EvaluatorHoldout: Processed 35311 (100.0%) in 11.20 sec. Users per second: 3152\n",
      "Similarity column 38121 (100.0%), 5884.47 column/sec. Elapsed time 6.48 sec\n",
      "EvaluatorHoldout: Processed 35323 (100.0%) in 11.19 sec. Users per second: 3158\n",
      "Similarity column 38121 (100.0%), 5876.69 column/sec. Elapsed time 6.49 sec\n",
      "EvaluatorHoldout: Processed 35327 (100.0%) in 11.20 sec. Users per second: 3153\n",
      "Similarity column 38121 (100.0%), 5899.42 column/sec. Elapsed time 6.46 sec\n",
      "EvaluatorHoldout: Processed 35336 (100.0%) in 11.24 sec. Users per second: 3144\n",
      "Similarity column 38121 (100.0%), 5721.48 column/sec. Elapsed time 6.66 sec\n",
      "EvaluatorHoldout: Processed 35270 (100.0%) in 10.75 sec. Users per second: 3281\n",
      "Similarity column 38121 (100.0%), 5749.47 column/sec. Elapsed time 6.63 sec\n",
      "EvaluatorHoldout: Processed 35277 (100.0%) in 10.77 sec. Users per second: 3275\n"
     ]
    },
    {
     "name": "stderr",
     "output_type": "stream",
     "text": [
      "[I 2024-11-27 22:00:28,864] Trial 18 finished with value: 0.028354047110665453 and parameters: {'similarity': 'jaccard', 'topK': 31, 'shrink': 17}. Best is trial 14 with value: 0.02870517487175896.\n"
     ]
    },
    {
     "name": "stdout",
     "output_type": "stream",
     "text": [
      "Similarity column 38121 (100.0%), 5825.89 column/sec. Elapsed time 6.54 sec\n",
      "EvaluatorHoldout: Processed 35311 (100.0%) in 10.33 sec. Users per second: 3418\n",
      "Similarity column 38121 (100.0%), 5845.19 column/sec. Elapsed time 6.52 sec\n",
      "EvaluatorHoldout: Processed 35289 (100.0%) in 10.24 sec. Users per second: 3447\n",
      "Similarity column 38121 (100.0%), 5999.76 column/sec. Elapsed time 6.35 sec\n",
      "EvaluatorHoldout: Processed 35295 (100.0%) in 10.28 sec. Users per second: 3434\n",
      "Similarity column 38121 (100.0%), 5895.88 column/sec. Elapsed time 6.47 sec\n",
      "EvaluatorHoldout: Processed 35269 (100.0%) in 10.26 sec. Users per second: 3437\n",
      "Similarity column 38121 (100.0%), 5808.88 column/sec. Elapsed time 6.56 sec\n",
      "EvaluatorHoldout: Processed 35311 (100.0%) in 10.26 sec. Users per second: 3440\n",
      "Similarity column 38121 (100.0%), 5853.53 column/sec. Elapsed time 6.51 sec\n",
      "EvaluatorHoldout: Processed 35323 (100.0%) in 10.26 sec. Users per second: 3442\n",
      "Similarity column 38121 (100.0%), 5995.06 column/sec. Elapsed time 6.36 sec\n",
      "EvaluatorHoldout: Processed 35327 (100.0%) in 10.30 sec. Users per second: 3430\n",
      "Similarity column 38121 (100.0%), 5805.28 column/sec. Elapsed time 6.57 sec\n",
      "EvaluatorHoldout: Processed 35336 (100.0%) in 10.25 sec. Users per second: 3449\n",
      "Similarity column 38121 (100.0%), 5978.64 column/sec. Elapsed time 6.38 sec\n",
      "EvaluatorHoldout: Processed 35270 (100.0%) in 10.23 sec. Users per second: 3447\n",
      "Similarity column 38121 (100.0%), 5864.47 column/sec. Elapsed time 6.50 sec\n",
      "EvaluatorHoldout: Processed 35277 (100.0%) in 10.22 sec. Users per second: 3450\n"
     ]
    },
    {
     "name": "stderr",
     "output_type": "stream",
     "text": [
      "[I 2024-11-27 22:03:17,406] Trial 19 finished with value: 0.02884895977496917 and parameters: {'similarity': 'jaccard', 'topK': 17, 'shrink': 29}. Best is trial 19 with value: 0.02884895977496917.\n"
     ]
    },
    {
     "name": "stdout",
     "output_type": "stream",
     "text": [
      "Similarity column 38121 (100.0%), 6033.52 column/sec. Elapsed time 6.32 sec\n",
      "EvaluatorHoldout: Processed 35311 (100.0%) in 11.52 sec. Users per second: 3066\n",
      "Similarity column 38121 (100.0%), 6024.65 column/sec. Elapsed time 6.33 sec\n",
      "EvaluatorHoldout: Processed 35289 (100.0%) in 11.80 sec. Users per second: 2992\n",
      "Similarity column 38121 (100.0%), 6053.67 column/sec. Elapsed time 6.30 sec\n",
      "EvaluatorHoldout: Processed 35295 (100.0%) in 11.78 sec. Users per second: 2996\n",
      "Similarity column 38121 (100.0%), 6025.08 column/sec. Elapsed time 6.33 sec\n",
      "EvaluatorHoldout: Processed 35269 (100.0%) in 11.76 sec. Users per second: 3000\n",
      "Similarity column 38121 (100.0%), 6016.34 column/sec. Elapsed time 6.34 sec\n",
      "EvaluatorHoldout: Processed 35311 (100.0%) in 11.61 sec. Users per second: 3042\n",
      "Similarity column 38121 (100.0%), 5992.67 column/sec. Elapsed time 6.36 sec\n",
      "EvaluatorHoldout: Processed 35323 (100.0%) in 11.28 sec. Users per second: 3131\n",
      "Similarity column 38121 (100.0%), 5980.99 column/sec. Elapsed time 6.37 sec\n",
      "EvaluatorHoldout: Processed 35327 (100.0%) in 11.33 sec. Users per second: 3118\n",
      "Similarity column 38121 (100.0%), 5977.68 column/sec. Elapsed time 6.38 sec\n",
      "EvaluatorHoldout: Processed 35336 (100.0%) in 11.35 sec. Users per second: 3113\n",
      "Similarity column 38121 (100.0%), 5998.81 column/sec. Elapsed time 6.35 sec\n",
      "EvaluatorHoldout: Processed 35270 (100.0%) in 11.25 sec. Users per second: 3134\n",
      "Similarity column 38121 (100.0%), 5972.85 column/sec. Elapsed time 6.38 sec\n",
      "EvaluatorHoldout: Processed 35277 (100.0%) in 11.29 sec. Users per second: 3124\n"
     ]
    },
    {
     "name": "stderr",
     "output_type": "stream",
     "text": [
      "[I 2024-11-27 22:06:17,043] Trial 20 finished with value: 0.0276604563237443 and parameters: {'similarity': 'dice', 'topK': 48, 'shrink': 30}. Best is trial 19 with value: 0.02884895977496917.\n"
     ]
    },
    {
     "name": "stdout",
     "output_type": "stream",
     "text": [
      "Similarity column 38121 (100.0%), 5888.06 column/sec. Elapsed time 6.47 sec\n",
      "EvaluatorHoldout: Processed 35311 (100.0%) in 10.31 sec. Users per second: 3425\n",
      "Similarity column 38121 (100.0%), 5776.57 column/sec. Elapsed time 6.60 sec\n",
      "EvaluatorHoldout: Processed 35289 (100.0%) in 10.28 sec. Users per second: 3431\n",
      "Similarity column 38121 (100.0%), 5854.74 column/sec. Elapsed time 6.51 sec\n",
      "EvaluatorHoldout: Processed 35295 (100.0%) in 10.35 sec. Users per second: 3410\n",
      "Similarity column 38121 (100.0%), 5794.71 column/sec. Elapsed time 6.58 sec\n",
      "EvaluatorHoldout: Processed 35269 (100.0%) in 10.31 sec. Users per second: 3421\n",
      "Similarity column 38121 (100.0%), 5786.13 column/sec. Elapsed time 6.59 sec\n",
      "EvaluatorHoldout: Processed 35311 (100.0%) in 10.47 sec. Users per second: 3371\n",
      "Similarity column 38121 (100.0%), 5746.62 column/sec. Elapsed time 6.63 sec\n",
      "EvaluatorHoldout: Processed 35323 (100.0%) in 10.63 sec. Users per second: 3324\n",
      "Similarity column 38121 (100.0%), 5787.84 column/sec. Elapsed time 6.59 sec\n",
      "EvaluatorHoldout: Processed 35327 (100.0%) in 10.52 sec. Users per second: 3358\n",
      "Similarity column 38121 (100.0%), 5765.92 column/sec. Elapsed time 6.61 sec\n",
      "EvaluatorHoldout: Processed 35336 (100.0%) in 10.54 sec. Users per second: 3352\n",
      "Similarity column 38121 (100.0%), 5721.08 column/sec. Elapsed time 6.66 sec\n",
      "EvaluatorHoldout: Processed 35270 (100.0%) in 10.67 sec. Users per second: 3305\n",
      "Similarity column 38121 (100.0%), 5714.83 column/sec. Elapsed time 6.67 sec\n",
      "EvaluatorHoldout: Processed 35277 (100.0%) in 10.61 sec. Users per second: 3326\n"
     ]
    },
    {
     "name": "stderr",
     "output_type": "stream",
     "text": [
      "[I 2024-11-27 22:09:08,767] Trial 21 finished with value: 0.02875496678233248 and parameters: {'similarity': 'jaccard', 'topK': 16, 'shrink': 39}. Best is trial 19 with value: 0.02884895977496917.\n"
     ]
    },
    {
     "name": "stdout",
     "output_type": "stream",
     "text": [
      "Similarity column 38121 (100.0%), 5695.71 column/sec. Elapsed time 6.69 sec\n",
      "EvaluatorHoldout: Processed 35311 (100.0%) in 10.51 sec. Users per second: 3358\n",
      "Similarity column 38121 (100.0%), 5655.95 column/sec. Elapsed time 6.74 sec\n",
      "EvaluatorHoldout: Processed 35289 (100.0%) in 10.49 sec. Users per second: 3363\n",
      "Similarity column 38121 (100.0%), 5655.99 column/sec. Elapsed time 6.74 sec\n",
      "EvaluatorHoldout: Processed 35295 (100.0%) in 10.83 sec. Users per second: 3258\n",
      "Similarity column 38121 (100.0%), 5648.81 column/sec. Elapsed time 6.75 sec\n",
      "EvaluatorHoldout: Processed 35269 (100.0%) in 11.10 sec. Users per second: 3178\n",
      "Similarity column 38121 (100.0%), 5805.34 column/sec. Elapsed time 6.57 sec\n",
      "EvaluatorHoldout: Processed 35311 (100.0%) in 10.55 sec. Users per second: 3348\n",
      "Similarity column 38121 (100.0%), 5661.71 column/sec. Elapsed time 6.73 sec\n",
      "EvaluatorHoldout: Processed 35323 (100.0%) in 10.50 sec. Users per second: 3365\n",
      "Similarity column 38121 (100.0%), 5857.96 column/sec. Elapsed time 6.51 sec\n",
      "EvaluatorHoldout: Processed 35327 (100.0%) in 10.67 sec. Users per second: 3311\n",
      "Similarity column 38121 (100.0%), 5884.85 column/sec. Elapsed time 6.48 sec\n",
      "EvaluatorHoldout: Processed 35336 (100.0%) in 10.70 sec. Users per second: 3304\n",
      "Similarity column 38121 (100.0%), 5851.09 column/sec. Elapsed time 6.52 sec\n",
      "EvaluatorHoldout: Processed 35270 (100.0%) in 10.39 sec. Users per second: 3393\n",
      "Similarity column 38121 (100.0%), 5674.48 column/sec. Elapsed time 6.72 sec\n",
      "EvaluatorHoldout: Processed 35277 (100.0%) in 10.56 sec. Users per second: 3341\n"
     ]
    },
    {
     "name": "stderr",
     "output_type": "stream",
     "text": [
      "[I 2024-11-27 22:12:02,665] Trial 22 finished with value: 0.029046122316842837 and parameters: {'similarity': 'jaccard', 'topK': 13, 'shrink': 29}. Best is trial 22 with value: 0.029046122316842837.\n"
     ]
    },
    {
     "name": "stdout",
     "output_type": "stream",
     "text": [
      "Similarity column 38121 (100.0%), 5915.54 column/sec. Elapsed time 6.44 sec\n",
      "EvaluatorHoldout: Processed 35311 (100.0%) in 10.52 sec. Users per second: 3356\n",
      "Similarity column 38121 (100.0%), 5958.34 column/sec. Elapsed time 6.40 sec\n",
      "EvaluatorHoldout: Processed 35289 (100.0%) in 10.25 sec. Users per second: 3443\n",
      "Similarity column 38121 (100.0%), 5823.28 column/sec. Elapsed time 6.55 sec\n",
      "EvaluatorHoldout: Processed 35295 (100.0%) in 10.31 sec. Users per second: 3423\n",
      "Similarity column 38121 (100.0%), 5882.26 column/sec. Elapsed time 6.48 sec\n",
      "EvaluatorHoldout: Processed 35269 (100.0%) in 10.27 sec. Users per second: 3433\n",
      "Similarity column 38121 (100.0%), 5800.01 column/sec. Elapsed time 6.57 sec\n",
      "EvaluatorHoldout: Processed 35311 (100.0%) in 10.37 sec. Users per second: 3405\n",
      "Similarity column 38121 (100.0%), 5843.85 column/sec. Elapsed time 6.52 sec\n",
      "EvaluatorHoldout: Processed 35323 (100.0%) in 10.31 sec. Users per second: 3427\n",
      "Similarity column 38121 (100.0%), 5877.33 column/sec. Elapsed time 6.49 sec\n",
      "EvaluatorHoldout: Processed 35327 (100.0%) in 10.24 sec. Users per second: 3451\n",
      "Similarity column 38121 (100.0%), 5819.25 column/sec. Elapsed time 6.55 sec\n",
      "EvaluatorHoldout: Processed 35336 (100.0%) in 10.27 sec. Users per second: 3439\n",
      "Similarity column 38121 (100.0%), 5823.13 column/sec. Elapsed time 6.55 sec\n",
      "EvaluatorHoldout: Processed 35270 (100.0%) in 10.27 sec. Users per second: 3435\n",
      "Similarity column 38121 (100.0%), 5795.24 column/sec. Elapsed time 6.58 sec\n",
      "EvaluatorHoldout: Processed 35277 (100.0%) in 10.23 sec. Users per second: 3450\n"
     ]
    },
    {
     "name": "stderr",
     "output_type": "stream",
     "text": [
      "[I 2024-11-27 22:14:51,942] Trial 23 finished with value: 0.028906129073999115 and parameters: {'similarity': 'jaccard', 'topK': 15, 'shrink': 30}. Best is trial 22 with value: 0.029046122316842837.\n"
     ]
    },
    {
     "name": "stdout",
     "output_type": "stream",
     "text": [
      "Similarity column 38121 (100.0%), 5858.13 column/sec. Elapsed time 6.51 sec\n",
      "EvaluatorHoldout: Processed 35311 (100.0%) in 10.30 sec. Users per second: 3430\n",
      "Similarity column 38121 (100.0%), 5709.49 column/sec. Elapsed time 6.68 sec\n",
      "EvaluatorHoldout: Processed 35289 (100.0%) in 10.44 sec. Users per second: 3381\n",
      "Similarity column 38121 (100.0%), 5689.13 column/sec. Elapsed time 6.70 sec\n",
      "EvaluatorHoldout: Processed 35295 (100.0%) in 10.41 sec. Users per second: 3392\n",
      "Similarity column 38121 (100.0%), 5714.68 column/sec. Elapsed time 6.67 sec\n",
      "EvaluatorHoldout: Processed 35269 (100.0%) in 10.46 sec. Users per second: 3373\n",
      "Similarity column 38121 (100.0%), 5815.01 column/sec. Elapsed time 6.56 sec\n",
      "EvaluatorHoldout: Processed 35311 (100.0%) in 10.52 sec. Users per second: 3356\n",
      "Similarity column 38121 (100.0%), 5708.86 column/sec. Elapsed time 6.68 sec\n",
      "EvaluatorHoldout: Processed 35323 (100.0%) in 10.51 sec. Users per second: 3362\n",
      "Similarity column 38121 (100.0%), 5696.32 column/sec. Elapsed time 6.69 sec\n",
      "EvaluatorHoldout: Processed 35327 (100.0%) in 10.52 sec. Users per second: 3359\n",
      "Similarity column 38121 (100.0%), 5618.18 column/sec. Elapsed time 6.79 sec\n",
      "EvaluatorHoldout: Processed 35336 (100.0%) in 10.58 sec. Users per second: 3340\n",
      "Similarity column 38121 (100.0%), 5700.61 column/sec. Elapsed time 6.69 sec\n",
      "EvaluatorHoldout: Processed 35270 (100.0%) in 10.61 sec. Users per second: 3323\n",
      "Similarity column 38121 (100.0%), 5636.59 column/sec. Elapsed time 6.76 sec\n",
      "EvaluatorHoldout: Processed 35277 (100.0%) in 10.52 sec. Users per second: 3352\n"
     ]
    },
    {
     "name": "stderr",
     "output_type": "stream",
     "text": [
      "[I 2024-11-27 22:17:44,648] Trial 24 finished with value: 0.029046122316842837 and parameters: {'similarity': 'jaccard', 'topK': 13, 'shrink': 29}. Best is trial 22 with value: 0.029046122316842837.\n"
     ]
    },
    {
     "name": "stdout",
     "output_type": "stream",
     "text": [
      "Similarity column 38121 (100.0%), 5709.31 column/sec. Elapsed time 6.68 sec\n",
      "EvaluatorHoldout: Processed 35311 (100.0%) in 10.25 sec. Users per second: 3446\n",
      "Similarity column 38121 (100.0%), 5793.30 column/sec. Elapsed time 6.58 sec\n",
      "EvaluatorHoldout: Processed 35289 (100.0%) in 10.63 sec. Users per second: 3319\n",
      "Similarity column 38121 (100.0%), 5933.35 column/sec. Elapsed time 6.42 sec\n",
      "EvaluatorHoldout: Processed 35295 (100.0%) in 10.66 sec. Users per second: 3310\n",
      "Similarity column 38121 (100.0%), 5875.47 column/sec. Elapsed time 6.49 sec\n",
      "EvaluatorHoldout: Processed 35269 (100.0%) in 10.70 sec. Users per second: 3298\n",
      "Similarity column 38121 (100.0%), 5867.57 column/sec. Elapsed time 6.50 sec\n",
      "EvaluatorHoldout: Processed 35311 (100.0%) in 10.62 sec. Users per second: 3324\n",
      "Similarity column 38121 (100.0%), 5933.14 column/sec. Elapsed time 6.43 sec\n",
      "EvaluatorHoldout: Processed 35323 (100.0%) in 10.62 sec. Users per second: 3326\n",
      "Similarity column 38121 (100.0%), 5812.00 column/sec. Elapsed time 6.56 sec\n",
      "EvaluatorHoldout: Processed 35327 (100.0%) in 10.68 sec. Users per second: 3308\n",
      "Similarity column 38121 (100.0%), 5840.79 column/sec. Elapsed time 6.53 sec\n",
      "EvaluatorHoldout: Processed 35336 (100.0%) in 10.69 sec. Users per second: 3305\n",
      "Similarity column 38121 (100.0%), 5820.99 column/sec. Elapsed time 6.55 sec\n",
      "EvaluatorHoldout: Processed 35270 (100.0%) in 10.65 sec. Users per second: 3312\n",
      "Similarity column 38121 (100.0%), 5860.03 column/sec. Elapsed time 6.51 sec\n",
      "EvaluatorHoldout: Processed 35277 (100.0%) in 10.70 sec. Users per second: 3297\n"
     ]
    },
    {
     "name": "stderr",
     "output_type": "stream",
     "text": [
      "[I 2024-11-27 22:20:37,197] Trial 25 finished with value: 0.029006131541644477 and parameters: {'similarity': 'jaccard', 'topK': 14, 'shrink': 18}. Best is trial 22 with value: 0.029046122316842837.\n"
     ]
    },
    {
     "name": "stdout",
     "output_type": "stream",
     "text": [
      "Similarity column 38121 (100.0%), 5873.17 column/sec. Elapsed time 6.49 sec\n",
      "EvaluatorHoldout: Processed 35311 (100.0%) in 11.28 sec. Users per second: 3129\n",
      "Similarity column 38121 (100.0%), 5868.54 column/sec. Elapsed time 6.50 sec\n",
      "EvaluatorHoldout: Processed 35289 (100.0%) in 11.36 sec. Users per second: 3106\n",
      "Similarity column 38121 (100.0%), 5849.44 column/sec. Elapsed time 6.52 sec\n",
      "EvaluatorHoldout: Processed 35295 (100.0%) in 11.26 sec. Users per second: 3136\n",
      "Similarity column 38121 (100.0%), 5859.01 column/sec. Elapsed time 6.51 sec\n",
      "EvaluatorHoldout: Processed 35269 (100.0%) in 11.20 sec. Users per second: 3148\n",
      "Similarity column 38121 (100.0%), 5892.89 column/sec. Elapsed time 6.47 sec\n",
      "EvaluatorHoldout: Processed 35311 (100.0%) in 11.26 sec. Users per second: 3136\n",
      "Similarity column 38121 (100.0%), 5791.91 column/sec. Elapsed time 6.58 sec\n",
      "EvaluatorHoldout: Processed 35323 (100.0%) in 11.25 sec. Users per second: 3141\n",
      "Similarity column 38121 (100.0%), 5825.38 column/sec. Elapsed time 6.54 sec\n",
      "EvaluatorHoldout: Processed 35327 (100.0%) in 11.24 sec. Users per second: 3142\n",
      "Similarity column 38121 (100.0%), 5856.78 column/sec. Elapsed time 6.51 sec\n",
      "EvaluatorHoldout: Processed 35336 (100.0%) in 11.29 sec. Users per second: 3129\n",
      "Similarity column 38121 (100.0%), 5926.78 column/sec. Elapsed time 6.43 sec\n",
      "EvaluatorHoldout: Processed 35270 (100.0%) in 11.26 sec. Users per second: 3133\n",
      "Similarity column 38121 (100.0%), 5858.12 column/sec. Elapsed time 6.51 sec\n",
      "EvaluatorHoldout: Processed 35277 (100.0%) in 11.24 sec. Users per second: 3139\n"
     ]
    },
    {
     "name": "stderr",
     "output_type": "stream",
     "text": [
      "[I 2024-11-27 22:23:36,081] Trial 26 finished with value: 0.028356553867566213 and parameters: {'similarity': 'jaccard', 'topK': 31, 'shrink': 18}. Best is trial 22 with value: 0.029046122316842837.\n"
     ]
    },
    {
     "name": "stdout",
     "output_type": "stream",
     "text": [
      "Similarity column 38121 (100.0%), 5867.53 column/sec. Elapsed time 6.50 sec\n",
      "EvaluatorHoldout: Processed 35311 (100.0%) in 10.60 sec. Users per second: 3330\n",
      "Similarity column 38121 (100.0%), 5910.24 column/sec. Elapsed time 6.45 sec\n",
      "EvaluatorHoldout: Processed 35289 (100.0%) in 10.59 sec. Users per second: 3333\n",
      "Similarity column 38121 (100.0%), 5896.53 column/sec. Elapsed time 6.46 sec\n",
      "EvaluatorHoldout: Processed 35295 (100.0%) in 10.65 sec. Users per second: 3315\n",
      "Similarity column 38121 (100.0%), 5857.66 column/sec. Elapsed time 6.51 sec\n",
      "EvaluatorHoldout: Processed 35269 (100.0%) in 10.64 sec. Users per second: 3313\n",
      "Similarity column 38121 (100.0%), 5890.38 column/sec. Elapsed time 6.47 sec\n",
      "EvaluatorHoldout: Processed 35311 (100.0%) in 10.68 sec. Users per second: 3307\n",
      "Similarity column 38121 (100.0%), 5884.57 column/sec. Elapsed time 6.48 sec\n",
      "EvaluatorHoldout: Processed 35323 (100.0%) in 10.63 sec. Users per second: 3324\n",
      "Similarity column 38121 (100.0%), 5863.57 column/sec. Elapsed time 6.50 sec\n",
      "EvaluatorHoldout: Processed 35327 (100.0%) in 10.58 sec. Users per second: 3340\n",
      "Similarity column 38121 (100.0%), 5868.70 column/sec. Elapsed time 6.50 sec\n",
      "EvaluatorHoldout: Processed 35336 (100.0%) in 10.64 sec. Users per second: 3322\n",
      "Similarity column 38121 (100.0%), 5914.95 column/sec. Elapsed time 6.44 sec\n",
      "EvaluatorHoldout: Processed 35270 (100.0%) in 10.49 sec. Users per second: 3363\n",
      "Similarity column 38121 (100.0%), 5845.80 column/sec. Elapsed time 6.52 sec\n",
      "EvaluatorHoldout: Processed 35277 (100.0%) in 10.57 sec. Users per second: 3339\n"
     ]
    },
    {
     "name": "stderr",
     "output_type": "stream",
     "text": [
      "[I 2024-11-27 22:26:28,104] Trial 27 finished with value: 0.02894674462506311 and parameters: {'similarity': 'jaccard', 'topK': 13, 'shrink': 10}. Best is trial 22 with value: 0.029046122316842837.\n"
     ]
    },
    {
     "name": "stdout",
     "output_type": "stream",
     "text": [
      "Similarity column 38121 (100.0%), 6037.48 column/sec. Elapsed time 6.31 sec\n",
      "EvaluatorHoldout: Processed 35311 (100.0%) in 11.13 sec. Users per second: 3171\n",
      "Similarity column 38121 (100.0%), 6032.40 column/sec. Elapsed time 6.32 sec\n",
      "EvaluatorHoldout: Processed 35289 (100.0%) in 11.21 sec. Users per second: 3148\n",
      "Similarity column 38121 (100.0%), 5995.41 column/sec. Elapsed time 6.36 sec\n",
      "EvaluatorHoldout: Processed 35295 (100.0%) in 11.13 sec. Users per second: 3171\n",
      "Similarity column 38121 (100.0%), 6067.89 column/sec. Elapsed time 6.28 sec\n",
      "EvaluatorHoldout: Processed 35269 (100.0%) in 11.12 sec. Users per second: 3173\n",
      "Similarity column 38121 (100.0%), 6052.41 column/sec. Elapsed time 6.30 sec\n",
      "EvaluatorHoldout: Processed 35311 (100.0%) in 11.21 sec. Users per second: 3150\n",
      "Similarity column 38121 (100.0%), 6078.77 column/sec. Elapsed time 6.27 sec\n",
      "EvaluatorHoldout: Processed 35323 (100.0%) in 11.16 sec. Users per second: 3166\n",
      "Similarity column 38121 (100.0%), 6053.78 column/sec. Elapsed time 6.30 sec\n",
      "EvaluatorHoldout: Processed 35327 (100.0%) in 11.16 sec. Users per second: 3167\n",
      "Similarity column 38121 (100.0%), 6047.91 column/sec. Elapsed time 6.30 sec\n",
      "EvaluatorHoldout: Processed 35336 (100.0%) in 11.21 sec. Users per second: 3152\n",
      "Similarity column 38121 (100.0%), 6065.69 column/sec. Elapsed time 6.28 sec\n",
      "EvaluatorHoldout: Processed 35270 (100.0%) in 11.11 sec. Users per second: 3175\n",
      "Similarity column 38121 (100.0%), 6056.95 column/sec. Elapsed time 6.29 sec\n",
      "EvaluatorHoldout: Processed 35277 (100.0%) in 11.15 sec. Users per second: 3164\n"
     ]
    },
    {
     "name": "stderr",
     "output_type": "stream",
     "text": [
      "[I 2024-11-27 22:29:23,874] Trial 28 finished with value: 0.0281323069256581 and parameters: {'similarity': 'dice', 'topK': 27, 'shrink': 21}. Best is trial 22 with value: 0.029046122316842837.\n"
     ]
    },
    {
     "name": "stdout",
     "output_type": "stream",
     "text": [
      "Similarity column 38121 (100.0%), 5946.82 column/sec. Elapsed time 6.41 sec\n",
      "EvaluatorHoldout: Processed 35311 (100.0%) in 10.46 sec. Users per second: 3377\n",
      "Similarity column 38121 (100.0%), 5948.93 column/sec. Elapsed time 6.41 sec\n",
      "EvaluatorHoldout: Processed 35289 (100.0%) in 10.55 sec. Users per second: 3345\n",
      "Similarity column 38121 (100.0%), 5931.91 column/sec. Elapsed time 6.43 sec\n",
      "EvaluatorHoldout: Processed 35295 (100.0%) in 10.49 sec. Users per second: 3366\n",
      "Similarity column 38121 (100.0%), 5942.62 column/sec. Elapsed time 6.41 sec\n",
      "EvaluatorHoldout: Processed 35269 (100.0%) in 10.49 sec. Users per second: 3363\n",
      "Similarity column 38121 (100.0%), 5947.35 column/sec. Elapsed time 6.41 sec\n",
      "EvaluatorHoldout: Processed 35311 (100.0%) in 10.56 sec. Users per second: 3343\n",
      "Similarity column 38121 (100.0%), 5958.02 column/sec. Elapsed time 6.40 sec\n",
      "EvaluatorHoldout: Processed 35323 (100.0%) in 10.48 sec. Users per second: 3371\n",
      "Similarity column 38121 (100.0%), 5623.07 column/sec. Elapsed time 6.78 sec\n",
      "EvaluatorHoldout: Processed 35327 (100.0%) in 10.75 sec. Users per second: 3285\n",
      "Similarity column 38121 (100.0%), 5655.52 column/sec. Elapsed time 6.74 sec\n",
      "EvaluatorHoldout: Processed 35336 (100.0%) in 10.78 sec. Users per second: 3279\n",
      "Similarity column 38121 (100.0%), 5445.13 column/sec. Elapsed time 7.00 sec\n",
      "EvaluatorHoldout: Processed 35270 (100.0%) in 10.45 sec. Users per second: 3376\n",
      "Similarity column 38121 (100.0%), 5922.94 column/sec. Elapsed time 6.44 sec\n",
      "EvaluatorHoldout: Processed 35277 (100.0%) in 10.56 sec. Users per second: 3341\n"
     ]
    },
    {
     "name": "stderr",
     "output_type": "stream",
     "text": [
      "[I 2024-11-27 22:32:15,986] Trial 29 finished with value: 0.029293838052656045 and parameters: {'similarity': 'tversky', 'topK': 12, 'shrink': 26, 'tversky_alpha': 1.815244291704603, 'tversky_beta': 1.956553645005748}. Best is trial 29 with value: 0.029293838052656045.\n"
     ]
    },
    {
     "name": "stdout",
     "output_type": "stream",
     "text": [
      "Similarity column 38121 (100.0%), 5940.24 column/sec. Elapsed time 6.42 sec\n",
      "EvaluatorHoldout: Processed 35311 (100.0%) in 11.53 sec. Users per second: 3062\n",
      "Similarity column 38121 (100.0%), 5929.71 column/sec. Elapsed time 6.43 sec\n",
      "EvaluatorHoldout: Processed 35289 (100.0%) in 11.49 sec. Users per second: 3070\n",
      "Similarity column 38121 (100.0%), 5942.79 column/sec. Elapsed time 6.41 sec\n",
      "EvaluatorHoldout: Processed 35295 (100.0%) in 11.48 sec. Users per second: 3075\n",
      "Similarity column 38121 (100.0%), 5933.19 column/sec. Elapsed time 6.43 sec\n",
      "EvaluatorHoldout: Processed 35269 (100.0%) in 11.48 sec. Users per second: 3072\n",
      "Similarity column 38121 (100.0%), 5952.54 column/sec. Elapsed time 6.40 sec\n",
      "EvaluatorHoldout: Processed 35311 (100.0%) in 11.42 sec. Users per second: 3093\n",
      "Similarity column 38121 (100.0%), 5757.71 column/sec. Elapsed time 6.62 sec\n",
      "EvaluatorHoldout: Processed 35323 (100.0%) in 11.19 sec. Users per second: 3156\n",
      "Similarity column 38121 (100.0%), 5912.37 column/sec. Elapsed time 6.45 sec\n",
      "EvaluatorHoldout: Processed 35327 (100.0%) in 11.49 sec. Users per second: 3076\n",
      "Similarity column 38121 (100.0%), 5931.58 column/sec. Elapsed time 6.43 sec\n",
      "EvaluatorHoldout: Processed 35336 (100.0%) in 11.43 sec. Users per second: 3092\n",
      "Similarity column 38121 (100.0%), 5940.78 column/sec. Elapsed time 6.42 sec\n",
      "EvaluatorHoldout: Processed 35270 (100.0%) in 11.49 sec. Users per second: 3069\n",
      "Similarity column 38121 (100.0%), 5824.48 column/sec. Elapsed time 6.54 sec\n",
      "EvaluatorHoldout: Processed 35277 (100.0%) in 11.46 sec. Users per second: 3077\n"
     ]
    },
    {
     "name": "stderr",
     "output_type": "stream",
     "text": [
      "[I 2024-11-27 22:35:16,216] Trial 30 finished with value: 0.02828374576935618 and parameters: {'similarity': 'tversky', 'topK': 40, 'shrink': 26, 'tversky_alpha': 1.988110390184099, 'tversky_beta': 1.9683994250126706}. Best is trial 29 with value: 0.029293838052656045.\n"
     ]
    },
    {
     "name": "stdout",
     "output_type": "stream",
     "text": [
      "Similarity column 38121 (100.0%), 5938.08 column/sec. Elapsed time 6.42 sec\n",
      "EvaluatorHoldout: Processed 35311 (100.0%) in 10.53 sec. Users per second: 3353\n",
      "Similarity column 38121 (100.0%), 5960.96 column/sec. Elapsed time 6.40 sec\n",
      "EvaluatorHoldout: Processed 35289 (100.0%) in 10.55 sec. Users per second: 3344\n",
      "Similarity column 38121 (100.0%), 5954.15 column/sec. Elapsed time 6.40 sec\n",
      "EvaluatorHoldout: Processed 35295 (100.0%) in 10.54 sec. Users per second: 3348\n",
      "Similarity column 38121 (100.0%), 5917.05 column/sec. Elapsed time 6.44 sec\n",
      "EvaluatorHoldout: Processed 35269 (100.0%) in 10.60 sec. Users per second: 3328\n",
      "Similarity column 38121 (100.0%), 5958.14 column/sec. Elapsed time 6.40 sec\n",
      "EvaluatorHoldout: Processed 35311 (100.0%) in 10.57 sec. Users per second: 3342\n",
      "Similarity column 38121 (100.0%), 5912.98 column/sec. Elapsed time 6.45 sec\n",
      "EvaluatorHoldout: Processed 35323 (100.0%) in 10.58 sec. Users per second: 3340\n",
      "Similarity column 38121 (100.0%), 5955.03 column/sec. Elapsed time 6.40 sec\n",
      "EvaluatorHoldout: Processed 35327 (100.0%) in 10.56 sec. Users per second: 3344\n",
      "Similarity column 38121 (100.0%), 5939.21 column/sec. Elapsed time 6.42 sec\n",
      "EvaluatorHoldout: Processed 35336 (100.0%) in 10.57 sec. Users per second: 3343\n",
      "Similarity column 38121 (100.0%), 5887.13 column/sec. Elapsed time 6.48 sec\n",
      "EvaluatorHoldout: Processed 35270 (100.0%) in 10.54 sec. Users per second: 3348\n",
      "Similarity column 38121 (100.0%), 5927.88 column/sec. Elapsed time 6.43 sec\n",
      "EvaluatorHoldout: Processed 35277 (100.0%) in 10.56 sec. Users per second: 3339\n"
     ]
    },
    {
     "name": "stderr",
     "output_type": "stream",
     "text": [
      "[I 2024-11-27 22:38:07,167] Trial 31 finished with value: 0.028859398108296085 and parameters: {'similarity': 'tversky', 'topK': 12, 'shrink': 12, 'tversky_alpha': 1.9655007628712315, 'tversky_beta': 1.872600659245062}. Best is trial 29 with value: 0.029293838052656045.\n"
     ]
    },
    {
     "name": "stdout",
     "output_type": "stream",
     "text": [
      "Similarity column 38121 (100.0%), 5955.31 column/sec. Elapsed time 6.40 sec\n",
      "EvaluatorHoldout: Processed 35311 (100.0%) in 10.57 sec. Users per second: 3342\n",
      "Similarity column 38121 (100.0%), 5959.72 column/sec. Elapsed time 6.40 sec\n",
      "EvaluatorHoldout: Processed 35289 (100.0%) in 10.52 sec. Users per second: 3354\n",
      "Similarity column 38121 (100.0%), 5954.50 column/sec. Elapsed time 6.40 sec\n",
      "EvaluatorHoldout: Processed 35295 (100.0%) in 10.53 sec. Users per second: 3351\n",
      "Similarity column 38121 (100.0%), 5952.80 column/sec. Elapsed time 6.40 sec\n",
      "EvaluatorHoldout: Processed 35269 (100.0%) in 10.55 sec. Users per second: 3344\n",
      "Similarity column 38121 (100.0%), 5962.40 column/sec. Elapsed time 6.39 sec\n",
      "EvaluatorHoldout: Processed 35311 (100.0%) in 10.46 sec. Users per second: 3377\n",
      "Similarity column 38121 (100.0%), 5977.86 column/sec. Elapsed time 6.38 sec\n",
      "EvaluatorHoldout: Processed 35323 (100.0%) in 10.57 sec. Users per second: 3341\n",
      "Similarity column 38121 (100.0%), 5955.37 column/sec. Elapsed time 6.40 sec\n",
      "EvaluatorHoldout: Processed 35327 (100.0%) in 10.57 sec. Users per second: 3341\n",
      "Similarity column 38121 (100.0%), 5939.92 column/sec. Elapsed time 6.42 sec\n",
      "EvaluatorHoldout: Processed 35336 (100.0%) in 10.55 sec. Users per second: 3348\n",
      "Similarity column 38121 (100.0%), 5971.21 column/sec. Elapsed time 6.38 sec\n",
      "EvaluatorHoldout: Processed 35270 (100.0%) in 10.46 sec. Users per second: 3372\n",
      "Similarity column 38121 (100.0%), 5907.91 column/sec. Elapsed time 6.45 sec\n",
      "EvaluatorHoldout: Processed 35277 (100.0%) in 10.51 sec. Users per second: 3357\n"
     ]
    },
    {
     "name": "stderr",
     "output_type": "stream",
     "text": [
      "[I 2024-11-27 22:40:57,603] Trial 32 finished with value: 0.029250564863291993 and parameters: {'similarity': 'tversky', 'topK': 10, 'shrink': 27, 'tversky_alpha': 1.3070233154865663, 'tversky_beta': 1.2785424371776632}. Best is trial 29 with value: 0.029293838052656045.\n"
     ]
    },
    {
     "name": "stdout",
     "output_type": "stream",
     "text": [
      "Similarity column 38121 (100.0%), 5951.55 column/sec. Elapsed time 6.41 sec\n",
      "EvaluatorHoldout: Processed 35311 (100.0%) in 10.54 sec. Users per second: 3350\n",
      "Similarity column 38121 (100.0%), 5953.33 column/sec. Elapsed time 6.40 sec\n",
      "EvaluatorHoldout: Processed 35289 (100.0%) in 10.51 sec. Users per second: 3359\n",
      "Similarity column 38121 (100.0%), 5962.29 column/sec. Elapsed time 6.39 sec\n",
      "EvaluatorHoldout: Processed 35295 (100.0%) in 10.55 sec. Users per second: 3346\n",
      "Similarity column 38121 (100.0%), 5941.48 column/sec. Elapsed time 6.42 sec\n",
      "EvaluatorHoldout: Processed 35269 (100.0%) in 10.49 sec. Users per second: 3362\n",
      "Similarity column 38121 (100.0%), 5956.00 column/sec. Elapsed time 6.40 sec\n",
      "EvaluatorHoldout: Processed 35311 (100.0%) in 10.52 sec. Users per second: 3356\n",
      "Similarity column 38121 (100.0%), 5919.22 column/sec. Elapsed time 6.44 sec\n",
      "EvaluatorHoldout: Processed 35323 (100.0%) in 10.51 sec. Users per second: 3360\n",
      "Similarity column 38121 (100.0%), 5937.57 column/sec. Elapsed time 6.42 sec\n",
      "EvaluatorHoldout: Processed 35327 (100.0%) in 10.57 sec. Users per second: 3342\n",
      "Similarity column 38121 (100.0%), 5956.18 column/sec. Elapsed time 6.40 sec\n",
      "EvaluatorHoldout: Processed 35336 (100.0%) in 10.50 sec. Users per second: 3364\n",
      "Similarity column 38121 (100.0%), 5964.97 column/sec. Elapsed time 6.39 sec\n",
      "EvaluatorHoldout: Processed 35270 (100.0%) in 10.53 sec. Users per second: 3351\n",
      "Similarity column 38121 (100.0%), 5959.07 column/sec. Elapsed time 6.40 sec\n",
      "EvaluatorHoldout: Processed 35277 (100.0%) in 10.60 sec. Users per second: 3329\n"
     ]
    },
    {
     "name": "stderr",
     "output_type": "stream",
     "text": [
      "[I 2024-11-27 22:43:48,158] Trial 33 finished with value: 0.029286142450277285 and parameters: {'similarity': 'tversky', 'topK': 10, 'shrink': 26, 'tversky_alpha': 1.367425888341859, 'tversky_beta': 1.35484269932913}. Best is trial 29 with value: 0.029293838052656045.\n"
     ]
    },
    {
     "name": "stdout",
     "output_type": "stream",
     "text": [
      "Similarity column 38121 (100.0%), 5945.03 column/sec. Elapsed time 6.41 sec\n",
      "EvaluatorHoldout: Processed 35311 (100.0%) in 10.46 sec. Users per second: 3374\n",
      "Similarity column 38121 (100.0%), 5928.07 column/sec. Elapsed time 6.43 sec\n",
      "EvaluatorHoldout: Processed 35289 (100.0%) in 10.44 sec. Users per second: 3381\n",
      "Similarity column 38121 (100.0%), 5932.18 column/sec. Elapsed time 6.43 sec\n",
      "EvaluatorHoldout: Processed 35295 (100.0%) in 10.41 sec. Users per second: 3390\n",
      "Similarity column 38121 (100.0%), 5901.32 column/sec. Elapsed time 6.46 sec\n",
      "EvaluatorHoldout: Processed 35269 (100.0%) in 10.44 sec. Users per second: 3379\n",
      "Similarity column 38121 (100.0%), 5948.19 column/sec. Elapsed time 6.41 sec\n",
      "EvaluatorHoldout: Processed 35311 (100.0%) in 10.48 sec. Users per second: 3369\n",
      "Similarity column 38121 (100.0%), 5960.10 column/sec. Elapsed time 6.40 sec\n",
      "EvaluatorHoldout: Processed 35323 (100.0%) in 10.42 sec. Users per second: 3389\n",
      "Similarity column 38121 (100.0%), 5941.83 column/sec. Elapsed time 6.42 sec\n",
      "EvaluatorHoldout: Processed 35327 (100.0%) in 10.45 sec. Users per second: 3380\n",
      "Similarity column 38121 (100.0%), 5932.94 column/sec. Elapsed time 6.43 sec\n",
      "EvaluatorHoldout: Processed 35336 (100.0%) in 10.47 sec. Users per second: 3375\n",
      "Similarity column 38121 (100.0%), 5952.84 column/sec. Elapsed time 6.40 sec\n",
      "EvaluatorHoldout: Processed 35270 (100.0%) in 10.50 sec. Users per second: 3358\n",
      "Similarity column 38121 (100.0%), 5557.79 column/sec. Elapsed time 6.86 sec\n",
      "EvaluatorHoldout: Processed 35277 (100.0%) in 10.55 sec. Users per second: 3344\n"
     ]
    },
    {
     "name": "stderr",
     "output_type": "stream",
     "text": [
      "[I 2024-11-27 22:46:38,529] Trial 34 finished with value: 0.029448512559073832 and parameters: {'similarity': 'tversky', 'topK': 8, 'shrink': 25, 'tversky_alpha': 1.2998325814754637, 'tversky_beta': 1.3603642784934196}. Best is trial 34 with value: 0.029448512559073832.\n"
     ]
    },
    {
     "name": "stdout",
     "output_type": "stream",
     "text": [
      "Similarity column 38121 (100.0%), 5735.59 column/sec. Elapsed time 6.65 sec\n",
      "EvaluatorHoldout: Processed 35311 (100.0%) in 10.52 sec. Users per second: 3358\n",
      "Similarity column 38121 (100.0%), 5695.16 column/sec. Elapsed time 6.69 sec\n",
      "EvaluatorHoldout: Processed 35289 (100.0%) in 10.53 sec. Users per second: 3352\n",
      "Similarity column 38121 (100.0%), 5666.99 column/sec. Elapsed time 6.73 sec\n",
      "EvaluatorHoldout: Processed 35295 (100.0%) in 10.62 sec. Users per second: 3323\n",
      "Similarity column 38121 (100.0%), 5714.87 column/sec. Elapsed time 6.67 sec\n",
      "EvaluatorHoldout: Processed 35269 (100.0%) in 10.53 sec. Users per second: 3350\n",
      "Similarity column 38121 (100.0%), 5734.47 column/sec. Elapsed time 6.65 sec\n",
      "EvaluatorHoldout: Processed 35311 (100.0%) in 10.51 sec. Users per second: 3361\n",
      "Similarity column 38121 (100.0%), 5562.23 column/sec. Elapsed time 6.85 sec\n",
      "EvaluatorHoldout: Processed 35323 (100.0%) in 10.57 sec. Users per second: 3341\n",
      "Similarity column 38121 (100.0%), 5706.78 column/sec. Elapsed time 6.68 sec\n",
      "EvaluatorHoldout: Processed 35327 (100.0%) in 10.53 sec. Users per second: 3356\n",
      "Similarity column 38121 (100.0%), 5738.09 column/sec. Elapsed time 6.64 sec\n",
      "EvaluatorHoldout: Processed 35336 (100.0%) in 10.50 sec. Users per second: 3365\n",
      "Similarity column 38121 (100.0%), 5709.83 column/sec. Elapsed time 6.68 sec\n",
      "EvaluatorHoldout: Processed 35270 (100.0%) in 10.54 sec. Users per second: 3345\n",
      "Similarity column 38121 (100.0%), 5748.41 column/sec. Elapsed time 6.63 sec\n",
      "EvaluatorHoldout: Processed 35277 (100.0%) in 10.49 sec. Users per second: 3364\n"
     ]
    },
    {
     "name": "stderr",
     "output_type": "stream",
     "text": [
      "[I 2024-11-27 22:49:31,815] Trial 35 finished with value: 0.029366815425631215 and parameters: {'similarity': 'tversky', 'topK': 9, 'shrink': 25, 'tversky_alpha': 1.3010478049785037, 'tversky_beta': 1.3121906320047536}. Best is trial 34 with value: 0.029448512559073832.\n"
     ]
    },
    {
     "name": "stdout",
     "output_type": "stream",
     "text": [
      "Similarity column 38121 (100.0%), 5706.86 column/sec. Elapsed time 6.68 sec\n",
      "EvaluatorHoldout: Processed 35311 (100.0%) in 10.51 sec. Users per second: 3358\n",
      "Similarity column 38121 (100.0%), 5733.88 column/sec. Elapsed time 6.65 sec\n",
      "EvaluatorHoldout: Processed 35289 (100.0%) in 10.46 sec. Users per second: 3373\n",
      "Similarity column 38121 (100.0%), 5664.08 column/sec. Elapsed time 6.73 sec\n",
      "EvaluatorHoldout: Processed 35295 (100.0%) in 10.49 sec. Users per second: 3365\n",
      "Similarity column 38121 (100.0%), 5728.38 column/sec. Elapsed time 6.65 sec\n",
      "EvaluatorHoldout: Processed 35269 (100.0%) in 10.49 sec. Users per second: 3364\n",
      "Similarity column 38121 (100.0%), 5658.71 column/sec. Elapsed time 6.74 sec\n",
      "EvaluatorHoldout: Processed 35311 (100.0%) in 10.45 sec. Users per second: 3379\n",
      "Similarity column 38121 (100.0%), 5767.74 column/sec. Elapsed time 6.61 sec\n",
      "EvaluatorHoldout: Processed 35323 (100.0%) in 10.51 sec. Users per second: 3362\n",
      "Similarity column 38121 (100.0%), 5663.94 column/sec. Elapsed time 6.73 sec\n",
      "EvaluatorHoldout: Processed 35327 (100.0%) in 10.55 sec. Users per second: 3349\n",
      "Similarity column 38121 (100.0%), 5739.44 column/sec. Elapsed time 6.64 sec\n",
      "EvaluatorHoldout: Processed 35336 (100.0%) in 10.48 sec. Users per second: 3372\n",
      "Similarity column 38121 (100.0%), 5681.40 column/sec. Elapsed time 6.71 sec\n",
      "EvaluatorHoldout: Processed 35270 (100.0%) in 10.48 sec. Users per second: 3367\n",
      "Similarity column 38121 (100.0%), 5748.90 column/sec. Elapsed time 6.63 sec\n",
      "EvaluatorHoldout: Processed 35277 (100.0%) in 10.47 sec. Users per second: 3368\n"
     ]
    },
    {
     "name": "stderr",
     "output_type": "stream",
     "text": [
      "[I 2024-11-27 22:52:24,574] Trial 36 finished with value: 0.029228022509935538 and parameters: {'similarity': 'tversky', 'topK': 9, 'shrink': 21, 'tversky_alpha': 1.3891935347952846, 'tversky_beta': 1.321802671949434}. Best is trial 34 with value: 0.029448512559073832.\n"
     ]
    },
    {
     "name": "stdout",
     "output_type": "stream",
     "text": [
      "Similarity column 38121 (100.0%), 5710.59 column/sec. Elapsed time 6.68 sec\n",
      "EvaluatorHoldout: Processed 35311 (100.0%) in 11.06 sec. Users per second: 3193\n",
      "Similarity column 38121 (100.0%), 5696.96 column/sec. Elapsed time 6.69 sec\n",
      "EvaluatorHoldout: Processed 35289 (100.0%) in 11.08 sec. Users per second: 3185\n",
      "Similarity column 38121 (100.0%), 5728.60 column/sec. Elapsed time 6.65 sec\n",
      "EvaluatorHoldout: Processed 35295 (100.0%) in 11.03 sec. Users per second: 3200\n",
      "Similarity column 38121 (100.0%), 5737.15 column/sec. Elapsed time 6.64 sec\n",
      "EvaluatorHoldout: Processed 35269 (100.0%) in 11.06 sec. Users per second: 3189\n",
      "Similarity column 38121 (100.0%), 5739.00 column/sec. Elapsed time 6.64 sec\n",
      "EvaluatorHoldout: Processed 35311 (100.0%) in 11.05 sec. Users per second: 3197\n",
      "Similarity column 38121 (100.0%), 5756.95 column/sec. Elapsed time 6.62 sec\n",
      "EvaluatorHoldout: Processed 35323 (100.0%) in 11.09 sec. Users per second: 3185\n",
      "Similarity column 38121 (100.0%), 5698.60 column/sec. Elapsed time 6.69 sec\n",
      "EvaluatorHoldout: Processed 35327 (100.0%) in 11.05 sec. Users per second: 3198\n",
      "Similarity column 38121 (100.0%), 5696.66 column/sec. Elapsed time 6.69 sec\n",
      "EvaluatorHoldout: Processed 35336 (100.0%) in 11.04 sec. Users per second: 3200\n",
      "Similarity column 38121 (100.0%), 5704.93 column/sec. Elapsed time 6.68 sec\n",
      "EvaluatorHoldout: Processed 35270 (100.0%) in 11.07 sec. Users per second: 3186\n",
      "Similarity column 38121 (100.0%), 5763.45 column/sec. Elapsed time 6.61 sec\n",
      "EvaluatorHoldout: Processed 35277 (100.0%) in 11.07 sec. Users per second: 3188\n"
     ]
    },
    {
     "name": "stderr",
     "output_type": "stream",
     "text": [
      "[I 2024-11-27 22:55:22,932] Trial 37 finished with value: 0.028576682264120735 and parameters: {'similarity': 'tversky', 'topK': 25, 'shrink': 24, 'tversky_alpha': 1.4855888461663507, 'tversky_beta': 1.4293051972473596}. Best is trial 34 with value: 0.029448512559073832.\n"
     ]
    },
    {
     "name": "stdout",
     "output_type": "stream",
     "text": [
      "Similarity column 38121 (100.0%), 5745.75 column/sec. Elapsed time 6.63 sec\n",
      "EvaluatorHoldout: Processed 35311 (100.0%) in 11.37 sec. Users per second: 3105\n",
      "Similarity column 38121 (100.0%), 5705.36 column/sec. Elapsed time 6.68 sec\n",
      "EvaluatorHoldout: Processed 35289 (100.0%) in 11.36 sec. Users per second: 3107\n",
      "Similarity column 38121 (100.0%), 5738.08 column/sec. Elapsed time 6.64 sec\n",
      "EvaluatorHoldout: Processed 35295 (100.0%) in 11.41 sec. Users per second: 3094\n",
      "Similarity column 38121 (100.0%), 5699.14 column/sec. Elapsed time 6.69 sec\n",
      "EvaluatorHoldout: Processed 35269 (100.0%) in 11.35 sec. Users per second: 3108\n",
      "Similarity column 38121 (100.0%), 5724.46 column/sec. Elapsed time 6.66 sec\n",
      "EvaluatorHoldout: Processed 35311 (100.0%) in 11.43 sec. Users per second: 3089\n",
      "Similarity column 38121 (100.0%), 5709.85 column/sec. Elapsed time 6.68 sec\n",
      "EvaluatorHoldout: Processed 35323 (100.0%) in 11.39 sec. Users per second: 3102\n",
      "Similarity column 38121 (100.0%), 5731.29 column/sec. Elapsed time 6.65 sec\n",
      "EvaluatorHoldout: Processed 35327 (100.0%) in 11.47 sec. Users per second: 3079\n",
      "Similarity column 38121 (100.0%), 5680.50 column/sec. Elapsed time 6.71 sec\n",
      "EvaluatorHoldout: Processed 35336 (100.0%) in 11.38 sec. Users per second: 3105\n",
      "Similarity column 38121 (100.0%), 5745.17 column/sec. Elapsed time 6.64 sec\n",
      "EvaluatorHoldout: Processed 35270 (100.0%) in 11.42 sec. Users per second: 3087\n",
      "Similarity column 38121 (100.0%), 5693.53 column/sec. Elapsed time 6.70 sec\n",
      "EvaluatorHoldout: Processed 35277 (100.0%) in 11.39 sec. Users per second: 3098\n"
     ]
    },
    {
     "name": "stderr",
     "output_type": "stream",
     "text": [
      "[I 2024-11-27 22:58:24,763] Trial 38 finished with value: 0.028358916403712093 and parameters: {'similarity': 'tversky', 'topK': 35, 'shrink': 33, 'tversky_alpha': 1.5429719044674257, 'tversky_beta': 1.5039687109309856}. Best is trial 34 with value: 0.029448512559073832.\n"
     ]
    },
    {
     "name": "stdout",
     "output_type": "stream",
     "text": [
      "Similarity column 38121 (100.0%), 5613.64 column/sec. Elapsed time 6.79 sec\n",
      "EvaluatorHoldout: Processed 35311 (100.0%) in 10.93 sec. Users per second: 3231\n",
      "Similarity column 38121 (100.0%), 5713.59 column/sec. Elapsed time 6.67 sec\n",
      "EvaluatorHoldout: Processed 35289 (100.0%) in 10.50 sec. Users per second: 3360\n",
      "Similarity column 38121 (100.0%), 5935.63 column/sec. Elapsed time 6.42 sec\n",
      "EvaluatorHoldout: Processed 35295 (100.0%) in 10.45 sec. Users per second: 3376\n",
      "Similarity column 38121 (100.0%), 5953.31 column/sec. Elapsed time 6.40 sec\n",
      "EvaluatorHoldout: Processed 35269 (100.0%) in 10.47 sec. Users per second: 3369\n",
      "Similarity column 38121 (100.0%), 5953.47 column/sec. Elapsed time 6.40 sec\n",
      "EvaluatorHoldout: Processed 35311 (100.0%) in 10.47 sec. Users per second: 3374\n",
      "Similarity column 38121 (100.0%), 5963.91 column/sec. Elapsed time 6.39 sec\n",
      "EvaluatorHoldout: Processed 35323 (100.0%) in 10.23 sec. Users per second: 3452\n",
      "Similarity column 38121 (100.0%), 5727.38 column/sec. Elapsed time 6.66 sec\n",
      "EvaluatorHoldout: Processed 35327 (100.0%) in 10.25 sec. Users per second: 3448\n",
      "Similarity column 38121 (100.0%), 5898.96 column/sec. Elapsed time 6.46 sec\n",
      "EvaluatorHoldout: Processed 35336 (100.0%) in 10.46 sec. Users per second: 3379\n",
      "Similarity column 38121 (100.0%), 5946.48 column/sec. Elapsed time 6.41 sec\n",
      "EvaluatorHoldout: Processed 35270 (100.0%) in 10.46 sec. Users per second: 3372\n",
      "Similarity column 38121 (100.0%), 5940.30 column/sec. Elapsed time 6.42 sec\n",
      "EvaluatorHoldout: Processed 35277 (100.0%) in 10.44 sec. Users per second: 3380\n"
     ]
    },
    {
     "name": "stderr",
     "output_type": "stream",
     "text": [
      "[I 2024-11-27 23:01:15,559] Trial 39 finished with value: 0.029277247787542326 and parameters: {'similarity': 'tversky', 'topK': 8, 'shrink': 21, 'tversky_alpha': 1.048032799809977, 'tversky_beta': 1.0064251249019027}. Best is trial 34 with value: 0.029448512559073832.\n"
     ]
    },
    {
     "name": "stdout",
     "output_type": "stream",
     "text": [
      "Similarity column 38121 (100.0%), 5957.28 column/sec. Elapsed time 6.40 sec\n",
      "EvaluatorHoldout: Processed 35311 (100.0%) in 10.92 sec. Users per second: 3233\n",
      "Similarity column 38121 (100.0%), 5958.21 column/sec. Elapsed time 6.40 sec\n",
      "EvaluatorHoldout: Processed 35289 (100.0%) in 10.93 sec. Users per second: 3230\n",
      "Similarity column 38121 (100.0%), 5941.46 column/sec. Elapsed time 6.42 sec\n",
      "EvaluatorHoldout: Processed 35295 (100.0%) in 11.06 sec. Users per second: 3192\n",
      "Similarity column 38121 (100.0%), 5957.49 column/sec. Elapsed time 6.40 sec\n",
      "EvaluatorHoldout: Processed 35269 (100.0%) in 10.88 sec. Users per second: 3243\n",
      "Similarity column 38121 (100.0%), 5939.96 column/sec. Elapsed time 6.42 sec\n",
      "EvaluatorHoldout: Processed 35311 (100.0%) in 10.91 sec. Users per second: 3238\n",
      "Similarity column 38121 (100.0%), 5952.14 column/sec. Elapsed time 6.40 sec\n",
      "EvaluatorHoldout: Processed 35323 (100.0%) in 10.97 sec. Users per second: 3220\n",
      "Similarity column 38121 (100.0%), 5946.67 column/sec. Elapsed time 6.41 sec\n",
      "EvaluatorHoldout: Processed 35327 (100.0%) in 11.01 sec. Users per second: 3207\n",
      "Similarity column 38121 (100.0%), 5954.49 column/sec. Elapsed time 6.40 sec\n",
      "EvaluatorHoldout: Processed 35336 (100.0%) in 10.87 sec. Users per second: 3251\n",
      "Similarity column 38121 (100.0%), 5970.39 column/sec. Elapsed time 6.39 sec\n",
      "EvaluatorHoldout: Processed 35270 (100.0%) in 10.89 sec. Users per second: 3240\n",
      "Similarity column 38121 (100.0%), 5943.87 column/sec. Elapsed time 6.41 sec\n",
      "EvaluatorHoldout: Processed 35277 (100.0%) in 10.91 sec. Users per second: 3235\n"
     ]
    },
    {
     "name": "stderr",
     "output_type": "stream",
     "text": [
      "[I 2024-11-27 23:04:10,067] Trial 40 finished with value: 0.02779626806058051 and parameters: {'similarity': 'tversky', 'topK': 18, 'shrink': 24, 'tversky_alpha': 1.6592277305351826, 'tversky_beta': 0.9104248746219519}. Best is trial 34 with value: 0.029448512559073832.\n"
     ]
    },
    {
     "name": "stdout",
     "output_type": "stream",
     "text": [
      "Similarity column 38121 (100.0%), 5948.35 column/sec. Elapsed time 6.41 sec\n",
      "EvaluatorHoldout: Processed 35311 (100.0%) in 10.47 sec. Users per second: 3372\n",
      "Similarity column 38121 (100.0%), 5915.72 column/sec. Elapsed time 6.44 sec\n",
      "EvaluatorHoldout: Processed 35289 (100.0%) in 10.48 sec. Users per second: 3367\n",
      "Similarity column 38121 (100.0%), 5958.97 column/sec. Elapsed time 6.40 sec\n",
      "EvaluatorHoldout: Processed 35295 (100.0%) in 10.49 sec. Users per second: 3365\n",
      "Similarity column 38121 (100.0%), 5970.79 column/sec. Elapsed time 6.38 sec\n",
      "EvaluatorHoldout: Processed 35269 (100.0%) in 10.47 sec. Users per second: 3368\n",
      "Similarity column 38121 (100.0%), 5961.08 column/sec. Elapsed time 6.39 sec\n",
      "EvaluatorHoldout: Processed 35311 (100.0%) in 10.46 sec. Users per second: 3375\n",
      "Similarity column 38121 (100.0%), 5956.87 column/sec. Elapsed time 6.40 sec\n",
      "EvaluatorHoldout: Processed 35323 (100.0%) in 10.46 sec. Users per second: 3376\n",
      "Similarity column 38121 (100.0%), 5964.28 column/sec. Elapsed time 6.39 sec\n",
      "EvaluatorHoldout: Processed 35327 (100.0%) in 10.45 sec. Users per second: 3380\n",
      "Similarity column 38121 (100.0%), 5897.50 column/sec. Elapsed time 6.46 sec\n",
      "EvaluatorHoldout: Processed 35336 (100.0%) in 10.51 sec. Users per second: 3363\n",
      "Similarity column 38121 (100.0%), 5983.11 column/sec. Elapsed time 6.37 sec\n",
      "EvaluatorHoldout: Processed 35270 (100.0%) in 10.48 sec. Users per second: 3364\n",
      "Similarity column 38121 (100.0%), 5960.02 column/sec. Elapsed time 6.40 sec\n",
      "EvaluatorHoldout: Processed 35277 (100.0%) in 10.53 sec. Users per second: 3351\n"
     ]
    },
    {
     "name": "stderr",
     "output_type": "stream",
     "text": [
      "[I 2024-11-27 23:07:00,039] Trial 41 finished with value: 0.029404954981951066 and parameters: {'similarity': 'tversky', 'topK': 9, 'shrink': 20, 'tversky_alpha': 0.9979356156326036, 'tversky_beta': 1.0363356989521597}. Best is trial 34 with value: 0.029448512559073832.\n"
     ]
    },
    {
     "name": "stdout",
     "output_type": "stream",
     "text": [
      "Similarity column 38121 (100.0%), 5955.72 column/sec. Elapsed time 6.40 sec\n",
      "EvaluatorHoldout: Processed 35311 (100.0%) in 10.27 sec. Users per second: 3439\n",
      "Similarity column 38121 (100.0%), 5951.31 column/sec. Elapsed time 6.41 sec\n",
      "EvaluatorHoldout: Processed 35289 (100.0%) in 10.28 sec. Users per second: 3434\n",
      "Similarity column 38121 (100.0%), 5876.63 column/sec. Elapsed time 6.49 sec\n",
      "EvaluatorHoldout: Processed 35295 (100.0%) in 10.27 sec. Users per second: 3436\n",
      "Similarity column 38121 (100.0%), 5943.87 column/sec. Elapsed time 6.41 sec\n",
      "EvaluatorHoldout: Processed 35269 (100.0%) in 10.25 sec. Users per second: 3442\n",
      "Similarity column 38121 (100.0%), 5958.50 column/sec. Elapsed time 6.40 sec\n",
      "EvaluatorHoldout: Processed 35311 (100.0%) in 10.31 sec. Users per second: 3426\n",
      "Similarity column 38121 (100.0%), 5980.44 column/sec. Elapsed time 6.37 sec\n",
      "EvaluatorHoldout: Processed 35323 (100.0%) in 10.27 sec. Users per second: 3439\n",
      "Similarity column 38121 (100.0%), 5947.19 column/sec. Elapsed time 6.41 sec\n",
      "EvaluatorHoldout: Processed 35327 (100.0%) in 10.33 sec. Users per second: 3421\n",
      "Similarity column 38121 (100.0%), 5891.86 column/sec. Elapsed time 6.47 sec\n",
      "EvaluatorHoldout: Processed 35336 (100.0%) in 10.22 sec. Users per second: 3457\n",
      "Similarity column 38121 (100.0%), 5964.61 column/sec. Elapsed time 6.39 sec\n",
      "EvaluatorHoldout: Processed 35270 (100.0%) in 10.23 sec. Users per second: 3448\n",
      "Similarity column 38121 (100.0%), 5948.43 column/sec. Elapsed time 6.41 sec\n",
      "EvaluatorHoldout: Processed 35277 (100.0%) in 10.27 sec. Users per second: 3436\n"
     ]
    },
    {
     "name": "stderr",
     "output_type": "stream",
     "text": [
      "[I 2024-11-27 23:09:47,986] Trial 42 finished with value: 0.030054071643618112 and parameters: {'similarity': 'tversky', 'topK': 5, 'shrink': 13, 'tversky_alpha': 0.675360665359654, 'tversky_beta': 1.0578935749434597}. Best is trial 42 with value: 0.030054071643618112.\n"
     ]
    },
    {
     "name": "stdout",
     "output_type": "stream",
     "text": [
      "Similarity column 38121 (100.0%), 5953.75 column/sec. Elapsed time 6.40 sec\n",
      "EvaluatorHoldout: Processed 35311 (100.0%) in 10.26 sec. Users per second: 3441\n",
      "Similarity column 38121 (100.0%), 5953.17 column/sec. Elapsed time 6.40 sec\n",
      "EvaluatorHoldout: Processed 35289 (100.0%) in 10.27 sec. Users per second: 3438\n",
      "Similarity column 38121 (100.0%), 5952.77 column/sec. Elapsed time 6.40 sec\n",
      "EvaluatorHoldout: Processed 35295 (100.0%) in 10.37 sec. Users per second: 3405\n",
      "Similarity column 38121 (100.0%), 5952.28 column/sec. Elapsed time 6.40 sec\n",
      "EvaluatorHoldout: Processed 35269 (100.0%) in 10.26 sec. Users per second: 3438\n",
      "Similarity column 38121 (100.0%), 5963.49 column/sec. Elapsed time 6.39 sec\n",
      "EvaluatorHoldout: Processed 35311 (100.0%) in 10.29 sec. Users per second: 3433\n",
      "Similarity column 38121 (100.0%), 5976.01 column/sec. Elapsed time 6.38 sec\n",
      "EvaluatorHoldout: Processed 35323 (100.0%) in 10.27 sec. Users per second: 3439\n",
      "Similarity column 38121 (100.0%), 5967.20 column/sec. Elapsed time 6.39 sec\n",
      "EvaluatorHoldout: Processed 35327 (100.0%) in 10.32 sec. Users per second: 3423\n",
      "Similarity column 38121 (100.0%), 5955.25 column/sec. Elapsed time 6.40 sec\n",
      "EvaluatorHoldout: Processed 35336 (100.0%) in 10.29 sec. Users per second: 3432\n",
      "Similarity column 38121 (100.0%), 5947.86 column/sec. Elapsed time 6.41 sec\n",
      "EvaluatorHoldout: Processed 35270 (100.0%) in 10.28 sec. Users per second: 3431\n",
      "Similarity column 38121 (100.0%), 5916.73 column/sec. Elapsed time 6.44 sec\n",
      "EvaluatorHoldout: Processed 35277 (100.0%) in 10.26 sec. Users per second: 3438\n"
     ]
    },
    {
     "name": "stderr",
     "output_type": "stream",
     "text": [
      "[I 2024-11-27 23:12:35,982] Trial 43 finished with value: 0.03039681743699531 and parameters: {'similarity': 'tversky', 'topK': 5, 'shrink': 13, 'tversky_alpha': 0.45611792337968154, 'tversky_beta': 0.9667504767113941}. Best is trial 43 with value: 0.03039681743699531.\n"
     ]
    },
    {
     "name": "stdout",
     "output_type": "stream",
     "text": [
      "Similarity column 38121 (100.0%), 5961.81 column/sec. Elapsed time 6.39 sec\n",
      "EvaluatorHoldout: Processed 35311 (100.0%) in 10.27 sec. Users per second: 3439\n",
      "Similarity column 38121 (100.0%), 5908.43 column/sec. Elapsed time 6.45 sec\n",
      "EvaluatorHoldout: Processed 35289 (100.0%) in 10.24 sec. Users per second: 3447\n",
      "Similarity column 38121 (100.0%), 5960.82 column/sec. Elapsed time 6.40 sec\n",
      "EvaluatorHoldout: Processed 35295 (100.0%) in 10.28 sec. Users per second: 3432\n",
      "Similarity column 38121 (100.0%), 5961.01 column/sec. Elapsed time 6.40 sec\n",
      "EvaluatorHoldout: Processed 35269 (100.0%) in 10.18 sec. Users per second: 3463\n",
      "Similarity column 38121 (100.0%), 5964.22 column/sec. Elapsed time 6.39 sec\n",
      "EvaluatorHoldout: Processed 35311 (100.0%) in 10.28 sec. Users per second: 3433\n",
      "Similarity column 38121 (100.0%), 5973.80 column/sec. Elapsed time 6.38 sec\n",
      "EvaluatorHoldout: Processed 35323 (100.0%) in 10.34 sec. Users per second: 3417\n",
      "Similarity column 38121 (100.0%), 5956.21 column/sec. Elapsed time 6.40 sec\n",
      "EvaluatorHoldout: Processed 35327 (100.0%) in 10.33 sec. Users per second: 3421\n",
      "Similarity column 38121 (100.0%), 5959.29 column/sec. Elapsed time 6.40 sec\n",
      "EvaluatorHoldout: Processed 35336 (100.0%) in 10.30 sec. Users per second: 3431\n",
      "Similarity column 38121 (100.0%), 5961.41 column/sec. Elapsed time 6.39 sec\n",
      "EvaluatorHoldout: Processed 35270 (100.0%) in 10.26 sec. Users per second: 3438\n",
      "Similarity column 38121 (100.0%), 5959.20 column/sec. Elapsed time 6.40 sec\n",
      "EvaluatorHoldout: Processed 35277 (100.0%) in 10.27 sec. Users per second: 3434\n"
     ]
    },
    {
     "name": "stderr",
     "output_type": "stream",
     "text": [
      "[I 2024-11-27 23:15:23,843] Trial 44 finished with value: 0.03022494955006198 and parameters: {'similarity': 'tversky', 'topK': 5, 'shrink': 8, 'tversky_alpha': 0.46963947213763363, 'tversky_beta': 0.9370689467388909}. Best is trial 43 with value: 0.03039681743699531.\n"
     ]
    },
    {
     "name": "stdout",
     "output_type": "stream",
     "text": [
      "Similarity column 38121 (100.0%), 5688.89 column/sec. Elapsed time 6.70 sec\n",
      "EvaluatorHoldout: Processed 35311 (100.0%) in 10.22 sec. Users per second: 3455\n",
      "Similarity column 38121 (100.0%), 5685.42 column/sec. Elapsed time 6.71 sec\n",
      "EvaluatorHoldout: Processed 35289 (100.0%) in 10.21 sec. Users per second: 3455\n",
      "Similarity column 38121 (100.0%), 5687.72 column/sec. Elapsed time 6.70 sec\n",
      "EvaluatorHoldout: Processed 35295 (100.0%) in 10.27 sec. Users per second: 3437\n",
      "Similarity column 38121 (100.0%), 5683.80 column/sec. Elapsed time 6.71 sec\n",
      "EvaluatorHoldout: Processed 35269 (100.0%) in 10.22 sec. Users per second: 3449\n",
      "Similarity column 38121 (100.0%), 5674.61 column/sec. Elapsed time 6.72 sec\n",
      "EvaluatorHoldout: Processed 35311 (100.0%) in 10.26 sec. Users per second: 3442\n",
      "Similarity column 38121 (100.0%), 5693.88 column/sec. Elapsed time 6.70 sec\n",
      "EvaluatorHoldout: Processed 35323 (100.0%) in 10.23 sec. Users per second: 3451\n",
      "Similarity column 38121 (100.0%), 5688.81 column/sec. Elapsed time 6.70 sec\n",
      "EvaluatorHoldout: Processed 35327 (100.0%) in 10.26 sec. Users per second: 3442\n",
      "Similarity column 38121 (100.0%), 5679.75 column/sec. Elapsed time 6.71 sec\n",
      "EvaluatorHoldout: Processed 35336 (100.0%) in 10.31 sec. Users per second: 3427\n",
      "Similarity column 38121 (100.0%), 5687.73 column/sec. Elapsed time 6.70 sec\n",
      "EvaluatorHoldout: Processed 35270 (100.0%) in 10.23 sec. Users per second: 3448\n",
      "Similarity column 38121 (100.0%), 5674.15 column/sec. Elapsed time 6.72 sec\n",
      "EvaluatorHoldout: Processed 35277 (100.0%) in 10.20 sec. Users per second: 3459\n"
     ]
    },
    {
     "name": "stderr",
     "output_type": "stream",
     "text": [
      "[I 2024-11-27 23:18:13,742] Trial 45 finished with value: 0.030424161878390654 and parameters: {'similarity': 'asymmetric', 'topK': 5, 'shrink': 7, 'asymmetric_alpha': 0.1459122411174812}. Best is trial 45 with value: 0.030424161878390654.\n"
     ]
    },
    {
     "name": "stdout",
     "output_type": "stream",
     "text": [
      "Similarity column 38121 (100.0%), 5692.96 column/sec. Elapsed time 6.70 sec\n",
      "EvaluatorHoldout: Processed 35311 (100.0%) in 10.20 sec. Users per second: 3461\n",
      "Similarity column 38121 (100.0%), 5687.04 column/sec. Elapsed time 6.70 sec\n",
      "EvaluatorHoldout: Processed 35289 (100.0%) in 10.22 sec. Users per second: 3454\n",
      "Similarity column 38121 (100.0%), 5685.88 column/sec. Elapsed time 6.70 sec\n",
      "EvaluatorHoldout: Processed 35295 (100.0%) in 10.22 sec. Users per second: 3452\n",
      "Similarity column 38121 (100.0%), 5638.32 column/sec. Elapsed time 6.76 sec\n",
      "EvaluatorHoldout: Processed 35269 (100.0%) in 10.21 sec. Users per second: 3454\n",
      "Similarity column 38121 (100.0%), 5684.26 column/sec. Elapsed time 6.71 sec\n",
      "EvaluatorHoldout: Processed 35311 (100.0%) in 10.21 sec. Users per second: 3458\n",
      "Similarity column 38121 (100.0%), 5707.20 column/sec. Elapsed time 6.68 sec\n",
      "EvaluatorHoldout: Processed 35323 (100.0%) in 10.23 sec. Users per second: 3454\n",
      "Similarity column 38121 (100.0%), 5687.94 column/sec. Elapsed time 6.70 sec\n",
      "EvaluatorHoldout: Processed 35327 (100.0%) in 10.19 sec. Users per second: 3466\n",
      "Similarity column 38121 (100.0%), 5682.04 column/sec. Elapsed time 6.71 sec\n",
      "EvaluatorHoldout: Processed 35336 (100.0%) in 10.23 sec. Users per second: 3456\n",
      "Similarity column 38121 (100.0%), 5693.04 column/sec. Elapsed time 6.70 sec\n",
      "EvaluatorHoldout: Processed 35270 (100.0%) in 10.27 sec. Users per second: 3434\n",
      "Similarity column 38121 (100.0%), 5688.66 column/sec. Elapsed time 6.70 sec\n",
      "EvaluatorHoldout: Processed 35277 (100.0%) in 10.15 sec. Users per second: 3475\n"
     ]
    },
    {
     "name": "stderr",
     "output_type": "stream",
     "text": [
      "[I 2024-11-27 23:21:03,338] Trial 46 finished with value: 0.03015265283127075 and parameters: {'similarity': 'asymmetric', 'topK': 5, 'shrink': 5, 'asymmetric_alpha': 0.14909321787646207}. Best is trial 45 with value: 0.030424161878390654.\n"
     ]
    },
    {
     "name": "stdout",
     "output_type": "stream",
     "text": [
      "Similarity column 38121 (100.0%), 5693.68 column/sec. Elapsed time 6.70 sec\n",
      "EvaluatorHoldout: Processed 35311 (100.0%) in 10.25 sec. Users per second: 3446\n",
      "Similarity column 38121 (100.0%), 5691.11 column/sec. Elapsed time 6.70 sec\n",
      "EvaluatorHoldout: Processed 35289 (100.0%) in 10.29 sec. Users per second: 3429\n",
      "Similarity column 38121 (100.0%), 5670.09 column/sec. Elapsed time 6.72 sec\n",
      "EvaluatorHoldout: Processed 35295 (100.0%) in 10.19 sec. Users per second: 3464\n",
      "Similarity column 38121 (100.0%), 5676.52 column/sec. Elapsed time 6.72 sec\n",
      "EvaluatorHoldout: Processed 35269 (100.0%) in 10.33 sec. Users per second: 3416\n",
      "Similarity column 38121 (100.0%), 5688.53 column/sec. Elapsed time 6.70 sec\n",
      "EvaluatorHoldout: Processed 35311 (100.0%) in 10.27 sec. Users per second: 3440\n",
      "Similarity column 38121 (100.0%), 5706.03 column/sec. Elapsed time 6.68 sec\n",
      "EvaluatorHoldout: Processed 35323 (100.0%) in 10.28 sec. Users per second: 3434\n",
      "Similarity column 38121 (100.0%), 5609.25 column/sec. Elapsed time 6.80 sec\n",
      "EvaluatorHoldout: Processed 35327 (100.0%) in 10.26 sec. Users per second: 3443\n",
      "Similarity column 38121 (100.0%), 5675.82 column/sec. Elapsed time 6.72 sec\n",
      "EvaluatorHoldout: Processed 35336 (100.0%) in 10.27 sec. Users per second: 3441\n",
      "Similarity column 38121 (100.0%), 5695.02 column/sec. Elapsed time 6.69 sec\n",
      "EvaluatorHoldout: Processed 35270 (100.0%) in 10.20 sec. Users per second: 3458\n",
      "Similarity column 38121 (100.0%), 5690.28 column/sec. Elapsed time 6.70 sec\n",
      "EvaluatorHoldout: Processed 35277 (100.0%) in 10.24 sec. Users per second: 3446\n"
     ]
    },
    {
     "name": "stderr",
     "output_type": "stream",
     "text": [
      "[I 2024-11-27 23:23:53,437] Trial 47 finished with value: 0.03020225506538124 and parameters: {'similarity': 'asymmetric', 'topK': 6, 'shrink': 5, 'asymmetric_alpha': 0.14817173757411603}. Best is trial 45 with value: 0.030424161878390654.\n"
     ]
    },
    {
     "name": "stdout",
     "output_type": "stream",
     "text": [
      "Similarity column 38121 (100.0%), 5681.33 column/sec. Elapsed time 6.71 sec\n",
      "EvaluatorHoldout: Processed 35311 (100.0%) in 10.22 sec. Users per second: 3457\n",
      "Similarity column 38121 (100.0%), 5681.33 column/sec. Elapsed time 6.71 sec\n",
      "EvaluatorHoldout: Processed 35289 (100.0%) in 10.24 sec. Users per second: 3447\n",
      "Similarity column 38121 (100.0%), 5686.64 column/sec. Elapsed time 6.70 sec\n",
      "EvaluatorHoldout: Processed 35295 (100.0%) in 10.21 sec. Users per second: 3458\n",
      "Similarity column 38121 (100.0%), 5679.79 column/sec. Elapsed time 6.71 sec\n",
      "EvaluatorHoldout: Processed 35269 (100.0%) in 10.22 sec. Users per second: 3451\n",
      "Similarity column 38121 (100.0%), 5692.02 column/sec. Elapsed time 6.70 sec\n",
      "EvaluatorHoldout: Processed 35311 (100.0%) in 10.28 sec. Users per second: 3434\n",
      "Similarity column 38121 (100.0%), 5706.22 column/sec. Elapsed time 6.68 sec\n",
      "EvaluatorHoldout: Processed 35323 (100.0%) in 10.16 sec. Users per second: 3476\n",
      "Similarity column 38121 (100.0%), 5692.10 column/sec. Elapsed time 6.70 sec\n",
      "EvaluatorHoldout: Processed 35327 (100.0%) in 10.24 sec. Users per second: 3450\n",
      "Similarity column 38121 (100.0%), 5639.12 column/sec. Elapsed time 6.76 sec\n",
      "EvaluatorHoldout: Processed 35336 (100.0%) in 10.28 sec. Users per second: 3437\n",
      "Similarity column 38121 (100.0%), 5691.63 column/sec. Elapsed time 6.70 sec\n",
      "EvaluatorHoldout: Processed 35270 (100.0%) in 10.20 sec. Users per second: 3457\n",
      "Similarity column 38121 (100.0%), 5698.79 column/sec. Elapsed time 6.69 sec\n",
      "EvaluatorHoldout: Processed 35277 (100.0%) in 10.24 sec. Users per second: 3445\n"
     ]
    },
    {
     "name": "stderr",
     "output_type": "stream",
     "text": [
      "[I 2024-11-27 23:26:43,182] Trial 48 finished with value: 0.030154115066336362 and parameters: {'similarity': 'asymmetric', 'topK': 5, 'shrink': 5, 'asymmetric_alpha': 0.14880145874708858}. Best is trial 45 with value: 0.030424161878390654.\n"
     ]
    },
    {
     "name": "stdout",
     "output_type": "stream",
     "text": [
      "Similarity column 38121 (100.0%), 5681.43 column/sec. Elapsed time 6.71 sec\n",
      "EvaluatorHoldout: Processed 35311 (100.0%) in 10.63 sec. Users per second: 3321\n",
      "Similarity column 38121 (100.0%), 5674.74 column/sec. Elapsed time 6.72 sec\n",
      "EvaluatorHoldout: Processed 35289 (100.0%) in 10.61 sec. Users per second: 3325\n",
      "Similarity column 38121 (100.0%), 5642.67 column/sec. Elapsed time 6.76 sec\n",
      "EvaluatorHoldout: Processed 35295 (100.0%) in 10.57 sec. Users per second: 3338\n",
      "Similarity column 38121 (100.0%), 5654.70 column/sec. Elapsed time 6.74 sec\n",
      "EvaluatorHoldout: Processed 35269 (100.0%) in 10.61 sec. Users per second: 3323\n",
      "Similarity column 38121 (100.0%), 5659.68 column/sec. Elapsed time 6.74 sec\n",
      "EvaluatorHoldout: Processed 35311 (100.0%) in 10.66 sec. Users per second: 3311\n",
      "Similarity column 38121 (100.0%), 5679.58 column/sec. Elapsed time 6.71 sec\n",
      "EvaluatorHoldout: Processed 35323 (100.0%) in 10.65 sec. Users per second: 3317\n",
      "Similarity column 38121 (100.0%), 5687.08 column/sec. Elapsed time 6.70 sec\n",
      "EvaluatorHoldout: Processed 35327 (100.0%) in 10.66 sec. Users per second: 3315\n",
      "Similarity column 38121 (100.0%), 5673.29 column/sec. Elapsed time 6.72 sec\n",
      "EvaluatorHoldout: Processed 35336 (100.0%) in 10.66 sec. Users per second: 3316\n",
      "Similarity column 38121 (100.0%), 5691.56 column/sec. Elapsed time 6.70 sec\n",
      "EvaluatorHoldout: Processed 35270 (100.0%) in 10.60 sec. Users per second: 3327\n",
      "Similarity column 38121 (100.0%), 5658.54 column/sec. Elapsed time 6.74 sec\n",
      "EvaluatorHoldout: Processed 35277 (100.0%) in 10.64 sec. Users per second: 3315\n"
     ]
    },
    {
     "name": "stderr",
     "output_type": "stream",
     "text": [
      "[I 2024-11-27 23:29:37,154] Trial 49 finished with value: 0.029710200430265604 and parameters: {'similarity': 'asymmetric', 'topK': 19, 'shrink': 8, 'asymmetric_alpha': 0.14678267587811913}. Best is trial 45 with value: 0.030424161878390654.\n"
     ]
    },
    {
     "name": "stdout",
     "output_type": "stream",
     "text": [
      "Similarity column 38121 (100.0%), 5667.25 column/sec. Elapsed time 6.73 sec\n",
      "EvaluatorHoldout: Processed 35311 (100.0%) in 11.19 sec. Users per second: 3157\n",
      "Similarity column 38121 (100.0%), 5657.24 column/sec. Elapsed time 6.74 sec\n",
      "EvaluatorHoldout: Processed 35289 (100.0%) in 11.19 sec. Users per second: 3154\n",
      "Similarity column 38121 (100.0%), 5669.50 column/sec. Elapsed time 6.72 sec\n",
      "EvaluatorHoldout: Processed 35295 (100.0%) in 11.24 sec. Users per second: 3140\n",
      "Similarity column 38121 (100.0%), 5665.38 column/sec. Elapsed time 6.73 sec\n",
      "EvaluatorHoldout: Processed 35269 (100.0%) in 11.19 sec. Users per second: 3152\n",
      "Similarity column 38121 (100.0%), 5673.12 column/sec. Elapsed time 6.72 sec\n",
      "EvaluatorHoldout: Processed 35311 (100.0%) in 11.22 sec. Users per second: 3147\n",
      "Similarity column 38121 (100.0%), 5633.49 column/sec. Elapsed time 6.77 sec\n",
      "EvaluatorHoldout: Processed 35323 (100.0%) in 11.25 sec. Users per second: 3140\n",
      "Similarity column 38121 (100.0%), 5660.20 column/sec. Elapsed time 6.73 sec\n",
      "EvaluatorHoldout: Processed 35327 (100.0%) in 11.22 sec. Users per second: 3150\n",
      "Similarity column 38121 (100.0%), 5655.78 column/sec. Elapsed time 6.74 sec\n",
      "EvaluatorHoldout: Processed 35336 (100.0%) in 11.22 sec. Users per second: 3150\n",
      "Similarity column 38121 (100.0%), 5676.61 column/sec. Elapsed time 6.72 sec\n",
      "EvaluatorHoldout: Processed 35270 (100.0%) in 11.22 sec. Users per second: 3144\n",
      "Similarity column 38121 (100.0%), 5664.44 column/sec. Elapsed time 6.73 sec\n",
      "EvaluatorHoldout: Processed 35277 (100.0%) in 11.17 sec. Users per second: 3157\n"
     ]
    },
    {
     "name": "stderr",
     "output_type": "stream",
     "text": [
      "[I 2024-11-27 23:32:37,141] Trial 50 finished with value: 0.0282841979594306 and parameters: {'similarity': 'asymmetric', 'topK': 54, 'shrink': 3, 'asymmetric_alpha': 0.12511543531112804}. Best is trial 45 with value: 0.030424161878390654.\n"
     ]
    },
    {
     "name": "stdout",
     "output_type": "stream",
     "text": [
      "Similarity column 38121 (100.0%), 5636.87 column/sec. Elapsed time 6.76 sec\n",
      "EvaluatorHoldout: Processed 35311 (100.0%) in 10.30 sec. Users per second: 3428\n",
      "Similarity column 38121 (100.0%), 5682.45 column/sec. Elapsed time 6.71 sec\n",
      "EvaluatorHoldout: Processed 35289 (100.0%) in 10.15 sec. Users per second: 3475\n",
      "Similarity column 38121 (100.0%), 5685.00 column/sec. Elapsed time 6.71 sec\n",
      "EvaluatorHoldout: Processed 35295 (100.0%) in 10.26 sec. Users per second: 3441\n",
      "Similarity column 38121 (100.0%), 5696.36 column/sec. Elapsed time 6.69 sec\n",
      "EvaluatorHoldout: Processed 35269 (100.0%) in 10.22 sec. Users per second: 3450\n",
      "Similarity column 38121 (100.0%), 5679.15 column/sec. Elapsed time 6.71 sec\n",
      "EvaluatorHoldout: Processed 35311 (100.0%) in 10.23 sec. Users per second: 3453\n",
      "Similarity column 38121 (100.0%), 5662.31 column/sec. Elapsed time 6.73 sec\n",
      "EvaluatorHoldout: Processed 35323 (100.0%) in 10.20 sec. Users per second: 3463\n",
      "Similarity column 38121 (100.0%), 5681.92 column/sec. Elapsed time 6.71 sec\n",
      "EvaluatorHoldout: Processed 35327 (100.0%) in 10.21 sec. Users per second: 3459\n",
      "Similarity column 38121 (100.0%), 5681.99 column/sec. Elapsed time 6.71 sec\n",
      "EvaluatorHoldout: Processed 35336 (100.0%) in 10.24 sec. Users per second: 3449\n",
      "Similarity column 38121 (100.0%), 5685.75 column/sec. Elapsed time 6.70 sec\n",
      "EvaluatorHoldout: Processed 35270 (100.0%) in 10.18 sec. Users per second: 3465\n",
      "Similarity column 38121 (100.0%), 5688.50 column/sec. Elapsed time 6.70 sec\n",
      "EvaluatorHoldout: Processed 35277 (100.0%) in 10.17 sec. Users per second: 3469\n"
     ]
    },
    {
     "name": "stderr",
     "output_type": "stream",
     "text": [
      "[I 2024-11-27 23:35:26,862] Trial 51 finished with value: 0.030278464261007026 and parameters: {'similarity': 'asymmetric', 'topK': 5, 'shrink': 6, 'asymmetric_alpha': 0.14138474779184304}. Best is trial 45 with value: 0.030424161878390654.\n"
     ]
    },
    {
     "name": "stdout",
     "output_type": "stream",
     "text": [
      "Similarity column 38121 (100.0%), 5689.71 column/sec. Elapsed time 6.70 sec\n",
      "EvaluatorHoldout: Processed 35311 (100.0%) in 10.26 sec. Users per second: 3440\n",
      "Similarity column 38121 (100.0%), 5689.41 column/sec. Elapsed time 6.70 sec\n",
      "EvaluatorHoldout: Processed 35289 (100.0%) in 10.27 sec. Users per second: 3436\n",
      "Similarity column 38121 (100.0%), 5683.22 column/sec. Elapsed time 6.71 sec\n",
      "EvaluatorHoldout: Processed 35295 (100.0%) in 10.21 sec. Users per second: 3456\n",
      "Similarity column 38121 (100.0%), 5694.67 column/sec. Elapsed time 6.69 sec\n",
      "EvaluatorHoldout: Processed 35269 (100.0%) in 10.26 sec. Users per second: 3437\n",
      "Similarity column 38121 (100.0%), 5686.27 column/sec. Elapsed time 6.70 sec\n",
      "EvaluatorHoldout: Processed 35311 (100.0%) in 10.21 sec. Users per second: 3458\n",
      "Similarity column 38121 (100.0%), 5703.05 column/sec. Elapsed time 6.68 sec\n",
      "EvaluatorHoldout: Processed 35323 (100.0%) in 10.24 sec. Users per second: 3450\n",
      "Similarity column 38121 (100.0%), 5645.94 column/sec. Elapsed time 6.75 sec\n",
      "EvaluatorHoldout: Processed 35327 (100.0%) in 10.22 sec. Users per second: 3455\n",
      "Similarity column 38121 (100.0%), 5674.62 column/sec. Elapsed time 6.72 sec\n",
      "EvaluatorHoldout: Processed 35336 (100.0%) in 10.20 sec. Users per second: 3464\n",
      "Similarity column 38121 (100.0%), 5682.75 column/sec. Elapsed time 6.71 sec\n",
      "EvaluatorHoldout: Processed 35270 (100.0%) in 10.33 sec. Users per second: 3416\n",
      "Similarity column 38121 (100.0%), 5687.23 column/sec. Elapsed time 6.70 sec\n",
      "EvaluatorHoldout: Processed 35277 (100.0%) in 10.23 sec. Users per second: 3450\n"
     ]
    },
    {
     "name": "stderr",
     "output_type": "stream",
     "text": [
      "[I 2024-11-27 23:38:16,779] Trial 52 finished with value: 0.03042744766298779 and parameters: {'similarity': 'asymmetric', 'topK': 5, 'shrink': 7, 'asymmetric_alpha': 0.14402343213512012}. Best is trial 52 with value: 0.03042744766298779.\n"
     ]
    },
    {
     "name": "stdout",
     "output_type": "stream",
     "text": [
      "Similarity column 38121 (100.0%), 5692.00 column/sec. Elapsed time 6.70 sec\n",
      "EvaluatorHoldout: Processed 35311 (100.0%) in 10.28 sec. Users per second: 3435\n",
      "Similarity column 38121 (100.0%), 5681.52 column/sec. Elapsed time 6.71 sec\n",
      "EvaluatorHoldout: Processed 35289 (100.0%) in 10.31 sec. Users per second: 3422\n",
      "Similarity column 38121 (100.0%), 5679.85 column/sec. Elapsed time 6.71 sec\n",
      "EvaluatorHoldout: Processed 35295 (100.0%) in 10.31 sec. Users per second: 3424\n",
      "Similarity column 38121 (100.0%), 5689.90 column/sec. Elapsed time 6.70 sec\n",
      "EvaluatorHoldout: Processed 35269 (100.0%) in 10.28 sec. Users per second: 3432\n",
      "Similarity column 38121 (100.0%), 5637.70 column/sec. Elapsed time 6.76 sec\n",
      "EvaluatorHoldout: Processed 35311 (100.0%) in 10.30 sec. Users per second: 3427\n",
      "Similarity column 38121 (100.0%), 5696.77 column/sec. Elapsed time 6.69 sec\n",
      "EvaluatorHoldout: Processed 35323 (100.0%) in 10.32 sec. Users per second: 3423\n",
      "Similarity column 38121 (100.0%), 5678.83 column/sec. Elapsed time 6.71 sec\n",
      "EvaluatorHoldout: Processed 35327 (100.0%) in 10.36 sec. Users per second: 3409\n",
      "Similarity column 38121 (100.0%), 5682.48 column/sec. Elapsed time 6.71 sec\n",
      "EvaluatorHoldout: Processed 35336 (100.0%) in 10.30 sec. Users per second: 3430\n",
      "Similarity column 38121 (100.0%), 5697.10 column/sec. Elapsed time 6.69 sec\n",
      "EvaluatorHoldout: Processed 35270 (100.0%) in 10.29 sec. Users per second: 3429\n",
      "Similarity column 38121 (100.0%), 5673.00 column/sec. Elapsed time 6.72 sec\n",
      "EvaluatorHoldout: Processed 35277 (100.0%) in 10.32 sec. Users per second: 3417\n"
     ]
    },
    {
     "name": "stderr",
     "output_type": "stream",
     "text": [
      "[I 2024-11-27 23:41:07,377] Trial 53 finished with value: 0.03051633682996082 and parameters: {'similarity': 'asymmetric', 'topK': 7, 'shrink': 8, 'asymmetric_alpha': 0.11585980987490632}. Best is trial 53 with value: 0.03051633682996082.\n"
     ]
    },
    {
     "name": "stdout",
     "output_type": "stream",
     "text": [
      "Similarity column 38121 (100.0%), 5681.00 column/sec. Elapsed time 6.71 sec\n",
      "EvaluatorHoldout: Processed 35311 (100.0%) in 10.39 sec. Users per second: 3399\n",
      "Similarity column 38121 (100.0%), 5684.14 column/sec. Elapsed time 6.71 sec\n",
      "EvaluatorHoldout: Processed 35289 (100.0%) in 10.42 sec. Users per second: 3387\n",
      "Similarity column 38121 (100.0%), 5684.10 column/sec. Elapsed time 6.71 sec\n",
      "EvaluatorHoldout: Processed 35295 (100.0%) in 10.36 sec. Users per second: 3405\n",
      "Similarity column 38121 (100.0%), 5678.66 column/sec. Elapsed time 6.71 sec\n",
      "EvaluatorHoldout: Processed 35269 (100.0%) in 10.43 sec. Users per second: 3383\n",
      "Similarity column 38121 (100.0%), 5686.83 column/sec. Elapsed time 6.70 sec\n",
      "EvaluatorHoldout: Processed 35311 (100.0%) in 10.39 sec. Users per second: 3400\n",
      "Similarity column 38121 (100.0%), 5692.82 column/sec. Elapsed time 6.70 sec\n",
      "EvaluatorHoldout: Processed 35323 (100.0%) in 10.43 sec. Users per second: 3387\n",
      "Similarity column 38121 (100.0%), 5666.69 column/sec. Elapsed time 6.73 sec\n",
      "EvaluatorHoldout: Processed 35327 (100.0%) in 10.38 sec. Users per second: 3405\n",
      "Similarity column 38121 (100.0%), 5665.01 column/sec. Elapsed time 6.73 sec\n",
      "EvaluatorHoldout: Processed 35336 (100.0%) in 10.50 sec. Users per second: 3367\n",
      "Similarity column 38121 (100.0%), 5663.46 column/sec. Elapsed time 6.73 sec\n",
      "EvaluatorHoldout: Processed 35270 (100.0%) in 10.38 sec. Users per second: 3398\n",
      "Similarity column 38121 (100.0%), 5666.65 column/sec. Elapsed time 6.73 sec\n",
      "EvaluatorHoldout: Processed 35277 (100.0%) in 10.48 sec. Users per second: 3365\n"
     ]
    },
    {
     "name": "stderr",
     "output_type": "stream",
     "text": [
      "[I 2024-11-27 23:43:59,158] Trial 54 finished with value: 0.03019406382696086 and parameters: {'similarity': 'asymmetric', 'topK': 11, 'shrink': 8, 'asymmetric_alpha': 0.11028447911147443}. Best is trial 53 with value: 0.03051633682996082.\n"
     ]
    },
    {
     "name": "stdout",
     "output_type": "stream",
     "text": [
      "Similarity column 38121 (100.0%), 5651.51 column/sec. Elapsed time 6.75 sec\n",
      "EvaluatorHoldout: Processed 35311 (100.0%) in 11.55 sec. Users per second: 3059\n",
      "Similarity column 38121 (100.0%), 5637.29 column/sec. Elapsed time 6.76 sec\n",
      "EvaluatorHoldout: Processed 35289 (100.0%) in 11.54 sec. Users per second: 3058\n",
      "Similarity column 38121 (100.0%), 5606.82 column/sec. Elapsed time 6.80 sec\n",
      "EvaluatorHoldout: Processed 35295 (100.0%) in 11.53 sec. Users per second: 3061\n",
      "Similarity column 38121 (100.0%), 5651.08 column/sec. Elapsed time 6.75 sec\n",
      "EvaluatorHoldout: Processed 35269 (100.0%) in 11.54 sec. Users per second: 3057\n",
      "Similarity column 38121 (100.0%), 5656.66 column/sec. Elapsed time 6.74 sec\n",
      "EvaluatorHoldout: Processed 35311 (100.0%) in 11.56 sec. Users per second: 3054\n",
      "Similarity column 38121 (100.0%), 5670.29 column/sec. Elapsed time 6.72 sec\n",
      "EvaluatorHoldout: Processed 35323 (100.0%) in 11.57 sec. Users per second: 3052\n",
      "Similarity column 38121 (100.0%), 5654.17 column/sec. Elapsed time 6.74 sec\n",
      "EvaluatorHoldout: Processed 35327 (100.0%) in 11.58 sec. Users per second: 3049\n",
      "Similarity column 38121 (100.0%), 5649.92 column/sec. Elapsed time 6.75 sec\n",
      "EvaluatorHoldout: Processed 35336 (100.0%) in 11.60 sec. Users per second: 3045\n",
      "Similarity column 38121 (100.0%), 5671.86 column/sec. Elapsed time 6.72 sec\n",
      "EvaluatorHoldout: Processed 35270 (100.0%) in 11.59 sec. Users per second: 3043\n",
      "Similarity column 38121 (100.0%), 5655.55 column/sec. Elapsed time 6.74 sec\n",
      "EvaluatorHoldout: Processed 35277 (100.0%) in 11.56 sec. Users per second: 3051\n"
     ]
    },
    {
     "name": "stderr",
     "output_type": "stream",
     "text": [
      "[I 2024-11-27 23:47:02,940] Trial 55 finished with value: 0.027469542921099564 and parameters: {'similarity': 'asymmetric', 'topK': 80, 'shrink': 0, 'asymmetric_alpha': 0.11509236215440889}. Best is trial 53 with value: 0.03051633682996082.\n"
     ]
    },
    {
     "name": "stdout",
     "output_type": "stream",
     "text": [
      "Similarity column 38121 (100.0%), 5684.51 column/sec. Elapsed time 6.71 sec\n",
      "EvaluatorHoldout: Processed 35311 (100.0%) in 10.76 sec. Users per second: 3282\n",
      "Similarity column 38121 (100.0%), 5676.06 column/sec. Elapsed time 6.72 sec\n",
      "EvaluatorHoldout: Processed 35289 (100.0%) in 10.72 sec. Users per second: 3292\n",
      "Similarity column 38121 (100.0%), 5681.73 column/sec. Elapsed time 6.71 sec\n",
      "EvaluatorHoldout: Processed 35295 (100.0%) in 10.79 sec. Users per second: 3272\n",
      "Similarity column 38121 (100.0%), 5652.24 column/sec. Elapsed time 6.74 sec\n",
      "EvaluatorHoldout: Processed 35269 (100.0%) in 10.79 sec. Users per second: 3269\n",
      "Similarity column 38121 (100.0%), 5663.90 column/sec. Elapsed time 6.73 sec\n",
      "EvaluatorHoldout: Processed 35311 (100.0%) in 10.71 sec. Users per second: 3295\n",
      "Similarity column 38121 (100.0%), 5690.57 column/sec. Elapsed time 6.70 sec\n",
      "EvaluatorHoldout: Processed 35323 (100.0%) in 10.72 sec. Users per second: 3294\n",
      "Similarity column 38121 (100.0%), 5683.44 column/sec. Elapsed time 6.71 sec\n",
      "EvaluatorHoldout: Processed 35327 (100.0%) in 10.74 sec. Users per second: 3291\n",
      "Similarity column 38121 (100.0%), 5670.75 column/sec. Elapsed time 6.72 sec\n",
      "EvaluatorHoldout: Processed 35336 (100.0%) in 10.80 sec. Users per second: 3272\n",
      "Similarity column 38121 (100.0%), 5688.49 column/sec. Elapsed time 6.70 sec\n",
      "EvaluatorHoldout: Processed 35270 (100.0%) in 10.69 sec. Users per second: 3299\n",
      "Similarity column 38121 (100.0%), 5674.13 column/sec. Elapsed time 6.72 sec\n",
      "EvaluatorHoldout: Processed 35277 (100.0%) in 10.77 sec. Users per second: 3277\n"
     ]
    },
    {
     "name": "stderr",
     "output_type": "stream",
     "text": [
      "[I 2024-11-27 23:49:58,048] Trial 56 finished with value: 0.029743792522756673 and parameters: {'similarity': 'asymmetric', 'topK': 21, 'shrink': 14, 'asymmetric_alpha': 0.1268389594863297}. Best is trial 53 with value: 0.03051633682996082.\n"
     ]
    },
    {
     "name": "stdout",
     "output_type": "stream",
     "text": [
      "Similarity column 38121 (100.0%), 5670.63 column/sec. Elapsed time 6.72 sec\n",
      "EvaluatorHoldout: Processed 35311 (100.0%) in 10.50 sec. Users per second: 3364\n",
      "Similarity column 38121 (100.0%), 5677.78 column/sec. Elapsed time 6.71 sec\n",
      "EvaluatorHoldout: Processed 35289 (100.0%) in 10.52 sec. Users per second: 3355\n",
      "Similarity column 38121 (100.0%), 5670.38 column/sec. Elapsed time 6.72 sec\n",
      "EvaluatorHoldout: Processed 35295 (100.0%) in 10.54 sec. Users per second: 3347\n",
      "Similarity column 38121 (100.0%), 5627.68 column/sec. Elapsed time 6.77 sec\n",
      "EvaluatorHoldout: Processed 35269 (100.0%) in 10.54 sec. Users per second: 3345\n",
      "Similarity column 38121 (100.0%), 5673.36 column/sec. Elapsed time 6.72 sec\n",
      "EvaluatorHoldout: Processed 35311 (100.0%) in 10.45 sec. Users per second: 3380\n",
      "Similarity column 38121 (100.0%), 5688.61 column/sec. Elapsed time 6.70 sec\n",
      "EvaluatorHoldout: Processed 35323 (100.0%) in 10.55 sec. Users per second: 3347\n",
      "Similarity column 38121 (100.0%), 5667.21 column/sec. Elapsed time 6.73 sec\n",
      "EvaluatorHoldout: Processed 35327 (100.0%) in 10.60 sec. Users per second: 3333\n",
      "Similarity column 38121 (100.0%), 5643.62 column/sec. Elapsed time 6.75 sec\n",
      "EvaluatorHoldout: Processed 35336 (100.0%) in 10.51 sec. Users per second: 3362\n",
      "Similarity column 38121 (100.0%), 5588.44 column/sec. Elapsed time 6.82 sec\n",
      "EvaluatorHoldout: Processed 35270 (100.0%) in 10.57 sec. Users per second: 3337\n",
      "Similarity column 38121 (100.0%), 5676.97 column/sec. Elapsed time 6.72 sec\n",
      "EvaluatorHoldout: Processed 35277 (100.0%) in 10.55 sec. Users per second: 3345\n"
     ]
    },
    {
     "name": "stderr",
     "output_type": "stream",
     "text": [
      "[I 2024-11-27 23:52:51,191] Trial 57 finished with value: 0.02981269851035386 and parameters: {'similarity': 'asymmetric', 'topK': 16, 'shrink': 8, 'asymmetric_alpha': 0.07170258191889035}. Best is trial 53 with value: 0.03051633682996082.\n"
     ]
    },
    {
     "name": "stdout",
     "output_type": "stream",
     "text": [
      "Similarity column 38121 (100.0%), 5668.09 column/sec. Elapsed time 6.73 sec\n",
      "EvaluatorHoldout: Processed 35311 (100.0%) in 10.39 sec. Users per second: 3399\n",
      "Similarity column 38121 (100.0%), 5680.33 column/sec. Elapsed time 6.71 sec\n",
      "EvaluatorHoldout: Processed 35289 (100.0%) in 10.40 sec. Users per second: 3394\n",
      "Similarity column 38121 (100.0%), 5650.55 column/sec. Elapsed time 6.75 sec\n",
      "EvaluatorHoldout: Processed 35295 (100.0%) in 10.30 sec. Users per second: 3428\n",
      "Similarity column 38121 (100.0%), 5675.31 column/sec. Elapsed time 6.72 sec\n",
      "EvaluatorHoldout: Processed 35269 (100.0%) in 10.34 sec. Users per second: 3412\n",
      "Similarity column 38121 (100.0%), 5666.10 column/sec. Elapsed time 6.73 sec\n",
      "EvaluatorHoldout: Processed 35311 (100.0%) in 10.34 sec. Users per second: 3416\n",
      "Similarity column 38121 (100.0%), 5653.58 column/sec. Elapsed time 6.74 sec\n",
      "EvaluatorHoldout: Processed 35323 (100.0%) in 10.37 sec. Users per second: 3408\n",
      "Similarity column 38121 (100.0%), 5675.39 column/sec. Elapsed time 6.72 sec\n",
      "EvaluatorHoldout: Processed 35327 (100.0%) in 10.37 sec. Users per second: 3407\n",
      "Similarity column 38121 (100.0%), 5670.86 column/sec. Elapsed time 6.72 sec\n",
      "EvaluatorHoldout: Processed 35336 (100.0%) in 10.32 sec. Users per second: 3425\n",
      "Similarity column 38121 (100.0%), 5688.10 column/sec. Elapsed time 6.70 sec\n",
      "EvaluatorHoldout: Processed 35270 (100.0%) in 10.35 sec. Users per second: 3409\n",
      "Similarity column 38121 (100.0%), 5673.12 column/sec. Elapsed time 6.72 sec\n",
      "EvaluatorHoldout: Processed 35277 (100.0%) in 10.37 sec. Users per second: 3402\n"
     ]
    },
    {
     "name": "stderr",
     "output_type": "stream",
     "text": [
      "[I 2024-11-27 23:55:42,386] Trial 58 finished with value: 0.030567188974046183 and parameters: {'similarity': 'asymmetric', 'topK': 8, 'shrink': 10, 'asymmetric_alpha': 0.12768925899302405}. Best is trial 58 with value: 0.030567188974046183.\n"
     ]
    },
    {
     "name": "stdout",
     "output_type": "stream",
     "text": [
      "Similarity column 38121 (100.0%), 5680.05 column/sec. Elapsed time 6.71 sec\n",
      "EvaluatorHoldout: Processed 35311 (100.0%) in 10.40 sec. Users per second: 3396\n",
      "Similarity column 38121 (100.0%), 5668.42 column/sec. Elapsed time 6.73 sec\n",
      "EvaluatorHoldout: Processed 35289 (100.0%) in 10.35 sec. Users per second: 3410\n",
      "Similarity column 38121 (100.0%), 5676.95 column/sec. Elapsed time 6.72 sec\n",
      "EvaluatorHoldout: Processed 35295 (100.0%) in 10.33 sec. Users per second: 3417\n",
      "Similarity column 38121 (100.0%), 5672.93 column/sec. Elapsed time 6.72 sec\n",
      "EvaluatorHoldout: Processed 35269 (100.0%) in 10.49 sec. Users per second: 3363\n",
      "Similarity column 38121 (100.0%), 5682.12 column/sec. Elapsed time 6.71 sec\n",
      "EvaluatorHoldout: Processed 35311 (100.0%) in 10.32 sec. Users per second: 3420\n",
      "Similarity column 38121 (100.0%), 5691.34 column/sec. Elapsed time 6.70 sec\n",
      "EvaluatorHoldout: Processed 35323 (100.0%) in 10.33 sec. Users per second: 3420\n",
      "Similarity column 38121 (100.0%), 5636.40 column/sec. Elapsed time 6.76 sec\n",
      "EvaluatorHoldout: Processed 35327 (100.0%) in 10.35 sec. Users per second: 3414\n",
      "Similarity column 38121 (100.0%), 5666.76 column/sec. Elapsed time 6.73 sec\n",
      "EvaluatorHoldout: Processed 35336 (100.0%) in 10.32 sec. Users per second: 3425\n",
      "Similarity column 38121 (100.0%), 5688.03 column/sec. Elapsed time 6.70 sec\n",
      "EvaluatorHoldout: Processed 35270 (100.0%) in 10.41 sec. Users per second: 3386\n",
      "Similarity column 38121 (100.0%), 5672.09 column/sec. Elapsed time 6.72 sec\n",
      "EvaluatorHoldout: Processed 35277 (100.0%) in 10.38 sec. Users per second: 3400\n"
     ]
    },
    {
     "name": "stderr",
     "output_type": "stream",
     "text": [
      "[I 2024-11-27 23:58:33,655] Trial 59 finished with value: 0.030602630329943103 and parameters: {'similarity': 'asymmetric', 'topK': 8, 'shrink': 11, 'asymmetric_alpha': 0.13030551212491975}. Best is trial 59 with value: 0.030602630329943103.\n"
     ]
    },
    {
     "name": "stdout",
     "output_type": "stream",
     "text": [
      "Similarity column 38121 (100.0%), 5663.03 column/sec. Elapsed time 6.73 sec\n",
      "EvaluatorHoldout: Processed 35311 (100.0%) in 10.77 sec. Users per second: 3278\n",
      "Similarity column 38121 (100.0%), 5665.52 column/sec. Elapsed time 6.73 sec\n",
      "EvaluatorHoldout: Processed 35289 (100.0%) in 10.77 sec. Users per second: 3278\n",
      "Similarity column 38121 (100.0%), 5661.98 column/sec. Elapsed time 6.73 sec\n",
      "EvaluatorHoldout: Processed 35295 (100.0%) in 10.81 sec. Users per second: 3266\n",
      "Similarity column 38121 (100.0%), 5680.43 column/sec. Elapsed time 6.71 sec\n",
      "EvaluatorHoldout: Processed 35269 (100.0%) in 10.78 sec. Users per second: 3270\n",
      "Similarity column 38121 (100.0%), 5672.31 column/sec. Elapsed time 6.72 sec\n",
      "EvaluatorHoldout: Processed 35311 (100.0%) in 10.69 sec. Users per second: 3302\n",
      "Similarity column 38121 (100.0%), 5676.13 column/sec. Elapsed time 6.72 sec\n",
      "EvaluatorHoldout: Processed 35323 (100.0%) in 10.75 sec. Users per second: 3286\n",
      "Similarity column 38121 (100.0%), 5680.17 column/sec. Elapsed time 6.71 sec\n",
      "EvaluatorHoldout: Processed 35327 (100.0%) in 10.76 sec. Users per second: 3283\n",
      "Similarity column 38121 (100.0%), 5665.80 column/sec. Elapsed time 6.73 sec\n",
      "EvaluatorHoldout: Processed 35336 (100.0%) in 10.73 sec. Users per second: 3294\n",
      "Similarity column 38121 (100.0%), 5686.10 column/sec. Elapsed time 6.70 sec\n",
      "EvaluatorHoldout: Processed 35270 (100.0%) in 10.71 sec. Users per second: 3293\n",
      "Similarity column 38121 (100.0%), 5632.02 column/sec. Elapsed time 6.77 sec\n",
      "EvaluatorHoldout: Processed 35277 (100.0%) in 10.75 sec. Users per second: 3283\n"
     ]
    },
    {
     "name": "stderr",
     "output_type": "stream",
     "text": [
      "[I 2024-11-28 00:01:28,892] Trial 60 finished with value: 0.029594602548655834 and parameters: {'similarity': 'asymmetric', 'topK': 23, 'shrink': 11, 'asymmetric_alpha': 0.12729365539084397}. Best is trial 59 with value: 0.030602630329943103.\n"
     ]
    },
    {
     "name": "stdout",
     "output_type": "stream",
     "text": [
      "Similarity column 38121 (100.0%), 5667.83 column/sec. Elapsed time 6.73 sec\n",
      "EvaluatorHoldout: Processed 35311 (100.0%) in 10.33 sec. Users per second: 3418\n",
      "Similarity column 38121 (100.0%), 5678.91 column/sec. Elapsed time 6.71 sec\n",
      "EvaluatorHoldout: Processed 35289 (100.0%) in 10.31 sec. Users per second: 3422\n",
      "Similarity column 38121 (100.0%), 5643.74 column/sec. Elapsed time 6.75 sec\n",
      "EvaluatorHoldout: Processed 35295 (100.0%) in 10.38 sec. Users per second: 3401\n",
      "Similarity column 38121 (100.0%), 5678.47 column/sec. Elapsed time 6.71 sec\n",
      "EvaluatorHoldout: Processed 35269 (100.0%) in 10.27 sec. Users per second: 3436\n",
      "Similarity column 38121 (100.0%), 5671.80 column/sec. Elapsed time 6.72 sec\n",
      "EvaluatorHoldout: Processed 35311 (100.0%) in 10.26 sec. Users per second: 3443\n",
      "Similarity column 38121 (100.0%), 5677.58 column/sec. Elapsed time 6.71 sec\n",
      "EvaluatorHoldout: Processed 35323 (100.0%) in 10.45 sec. Users per second: 3381\n",
      "Similarity column 38121 (100.0%), 5677.47 column/sec. Elapsed time 6.71 sec\n",
      "EvaluatorHoldout: Processed 35327 (100.0%) in 10.32 sec. Users per second: 3423\n",
      "Similarity column 38121 (100.0%), 5666.76 column/sec. Elapsed time 6.73 sec\n",
      "EvaluatorHoldout: Processed 35336 (100.0%) in 10.32 sec. Users per second: 3424\n",
      "Similarity column 38121 (100.0%), 5655.64 column/sec. Elapsed time 6.74 sec\n",
      "EvaluatorHoldout: Processed 35270 (100.0%) in 10.28 sec. Users per second: 3430\n",
      "Similarity column 38121 (100.0%), 5671.43 column/sec. Elapsed time 6.72 sec\n",
      "EvaluatorHoldout: Processed 35277 (100.0%) in 10.30 sec. Users per second: 3425\n"
     ]
    },
    {
     "name": "stderr",
     "output_type": "stream",
     "text": [
      "[I 2024-11-28 00:04:19,773] Trial 61 finished with value: 0.02974625521165667 and parameters: {'similarity': 'asymmetric', 'topK': 8, 'shrink': 3, 'asymmetric_alpha': 0.1329774418242538}. Best is trial 59 with value: 0.030602630329943103.\n"
     ]
    },
    {
     "name": "stdout",
     "output_type": "stream",
     "text": [
      "Similarity column 38121 (100.0%), 5694.22 column/sec. Elapsed time 6.69 sec\n",
      "EvaluatorHoldout: Processed 35311 (100.0%) in 10.41 sec. Users per second: 3391\n",
      "Similarity column 38121 (100.0%), 5694.67 column/sec. Elapsed time 6.69 sec\n",
      "EvaluatorHoldout: Processed 35289 (100.0%) in 10.33 sec. Users per second: 3415\n",
      "Similarity column 38121 (100.0%), 5687.35 column/sec. Elapsed time 6.70 sec\n",
      "EvaluatorHoldout: Processed 35295 (100.0%) in 10.31 sec. Users per second: 3422\n",
      "Similarity column 38121 (100.0%), 5691.05 column/sec. Elapsed time 6.70 sec\n",
      "EvaluatorHoldout: Processed 35269 (100.0%) in 10.29 sec. Users per second: 3427\n",
      "Similarity column 38121 (100.0%), 5689.66 column/sec. Elapsed time 6.70 sec\n",
      "EvaluatorHoldout: Processed 35311 (100.0%) in 10.34 sec. Users per second: 3415\n",
      "Similarity column 38121 (100.0%), 5693.58 column/sec. Elapsed time 6.70 sec\n",
      "EvaluatorHoldout: Processed 35323 (100.0%) in 10.38 sec. Users per second: 3401\n",
      "Similarity column 38121 (100.0%), 5683.18 column/sec. Elapsed time 6.71 sec\n",
      "EvaluatorHoldout: Processed 35327 (100.0%) in 10.33 sec. Users per second: 3421\n",
      "Similarity column 38121 (100.0%), 5664.88 column/sec. Elapsed time 6.73 sec\n",
      "EvaluatorHoldout: Processed 35336 (100.0%) in 10.34 sec. Users per second: 3417\n",
      "Similarity column 38121 (100.0%), 5698.31 column/sec. Elapsed time 6.69 sec\n",
      "EvaluatorHoldout: Processed 35270 (100.0%) in 10.37 sec. Users per second: 3401\n",
      "Similarity column 38121 (100.0%), 5679.59 column/sec. Elapsed time 6.71 sec\n",
      "EvaluatorHoldout: Processed 35277 (100.0%) in 10.32 sec. Users per second: 3419\n"
     ]
    },
    {
     "name": "stderr",
     "output_type": "stream",
     "text": [
      "[I 2024-11-28 00:07:10,646] Trial 62 finished with value: 0.030741304277784633 and parameters: {'similarity': 'asymmetric', 'topK': 7, 'shrink': 15, 'asymmetric_alpha': 0.13274186941110777}. Best is trial 62 with value: 0.030741304277784633.\n"
     ]
    },
    {
     "name": "stdout",
     "output_type": "stream",
     "text": [
      "Similarity column 38121 (100.0%), 5665.35 column/sec. Elapsed time 6.73 sec\n",
      "EvaluatorHoldout: Processed 35311 (100.0%) in 10.35 sec. Users per second: 3412\n",
      "Similarity column 38121 (100.0%), 5684.67 column/sec. Elapsed time 6.71 sec\n",
      "EvaluatorHoldout: Processed 35289 (100.0%) in 10.46 sec. Users per second: 3375\n",
      "Similarity column 38121 (100.0%), 5661.01 column/sec. Elapsed time 6.73 sec\n",
      "EvaluatorHoldout: Processed 35295 (100.0%) in 10.47 sec. Users per second: 3372\n",
      "Similarity column 38121 (100.0%), 5643.24 column/sec. Elapsed time 6.76 sec\n",
      "EvaluatorHoldout: Processed 35269 (100.0%) in 10.45 sec. Users per second: 3375\n",
      "Similarity column 38121 (100.0%), 5692.27 column/sec. Elapsed time 6.70 sec\n",
      "EvaluatorHoldout: Processed 35311 (100.0%) in 10.46 sec. Users per second: 3376\n",
      "Similarity column 38121 (100.0%), 5696.71 column/sec. Elapsed time 6.69 sec\n",
      "EvaluatorHoldout: Processed 35323 (100.0%) in 10.49 sec. Users per second: 3367\n",
      "Similarity column 38121 (100.0%), 5656.55 column/sec. Elapsed time 6.74 sec\n",
      "EvaluatorHoldout: Processed 35327 (100.0%) in 10.43 sec. Users per second: 3386\n",
      "Similarity column 38121 (100.0%), 5675.57 column/sec. Elapsed time 6.72 sec\n",
      "EvaluatorHoldout: Processed 35336 (100.0%) in 10.43 sec. Users per second: 3389\n",
      "Similarity column 38121 (100.0%), 5635.77 column/sec. Elapsed time 6.76 sec\n",
      "EvaluatorHoldout: Processed 35270 (100.0%) in 10.43 sec. Users per second: 3380\n",
      "Similarity column 38121 (100.0%), 5699.89 column/sec. Elapsed time 6.69 sec\n",
      "EvaluatorHoldout: Processed 35277 (100.0%) in 10.42 sec. Users per second: 3386\n"
     ]
    },
    {
     "name": "stderr",
     "output_type": "stream",
     "text": [
      "[I 2024-11-28 00:10:02,743] Trial 63 finished with value: 0.030411486366712377 and parameters: {'similarity': 'asymmetric', 'topK': 11, 'shrink': 15, 'asymmetric_alpha': 0.09529313444017987}. Best is trial 62 with value: 0.030741304277784633.\n"
     ]
    },
    {
     "name": "stdout",
     "output_type": "stream",
     "text": [
      "Similarity column 38121 (100.0%), 5686.73 column/sec. Elapsed time 6.70 sec\n",
      "EvaluatorHoldout: Processed 35311 (100.0%) in 10.54 sec. Users per second: 3349\n",
      "Similarity column 38121 (100.0%), 5682.73 column/sec. Elapsed time 6.71 sec\n",
      "EvaluatorHoldout: Processed 35289 (100.0%) in 10.54 sec. Users per second: 3349\n",
      "Similarity column 38121 (100.0%), 5682.94 column/sec. Elapsed time 6.71 sec\n",
      "EvaluatorHoldout: Processed 35295 (100.0%) in 10.60 sec. Users per second: 3329\n",
      "Similarity column 38121 (100.0%), 5677.10 column/sec. Elapsed time 6.71 sec\n",
      "EvaluatorHoldout: Processed 35269 (100.0%) in 10.55 sec. Users per second: 3344\n",
      "Similarity column 38121 (100.0%), 5685.44 column/sec. Elapsed time 6.71 sec\n",
      "EvaluatorHoldout: Processed 35311 (100.0%) in 10.58 sec. Users per second: 3338\n",
      "Similarity column 38121 (100.0%), 5684.06 column/sec. Elapsed time 6.71 sec\n",
      "EvaluatorHoldout: Processed 35323 (100.0%) in 10.60 sec. Users per second: 3333\n",
      "Similarity column 38121 (100.0%), 5679.54 column/sec. Elapsed time 6.71 sec\n",
      "EvaluatorHoldout: Processed 35327 (100.0%) in 10.56 sec. Users per second: 3344\n",
      "Similarity column 38121 (100.0%), 5624.22 column/sec. Elapsed time 6.78 sec\n",
      "EvaluatorHoldout: Processed 35336 (100.0%) in 10.58 sec. Users per second: 3340\n",
      "Similarity column 38121 (100.0%), 5687.65 column/sec. Elapsed time 6.70 sec\n",
      "EvaluatorHoldout: Processed 35270 (100.0%) in 10.53 sec. Users per second: 3348\n",
      "Similarity column 38121 (100.0%), 5673.82 column/sec. Elapsed time 6.72 sec\n",
      "EvaluatorHoldout: Processed 35277 (100.0%) in 10.53 sec. Users per second: 3350\n"
     ]
    },
    {
     "name": "stderr",
     "output_type": "stream",
     "text": [
      "[I 2024-11-28 00:12:55,950] Trial 64 finished with value: 0.030086742065370774 and parameters: {'similarity': 'asymmetric', 'topK': 15, 'shrink': 15, 'asymmetric_alpha': 0.09993225579670513}. Best is trial 62 with value: 0.030741304277784633.\n"
     ]
    },
    {
     "name": "stdout",
     "output_type": "stream",
     "text": [
      "Similarity column 38121 (100.0%), 5632.20 column/sec. Elapsed time 6.77 sec\n",
      "EvaluatorHoldout: Processed 35311 (100.0%) in 10.42 sec. Users per second: 3388\n",
      "Similarity column 38121 (100.0%), 5693.23 column/sec. Elapsed time 6.70 sec\n",
      "EvaluatorHoldout: Processed 35289 (100.0%) in 10.43 sec. Users per second: 3383\n",
      "Similarity column 38121 (100.0%), 5679.86 column/sec. Elapsed time 6.71 sec\n",
      "EvaluatorHoldout: Processed 35295 (100.0%) in 10.44 sec. Users per second: 3382\n",
      "Similarity column 38121 (100.0%), 5682.06 column/sec. Elapsed time 6.71 sec\n",
      "EvaluatorHoldout: Processed 35269 (100.0%) in 10.43 sec. Users per second: 3380\n",
      "Similarity column 38121 (100.0%), 5662.78 column/sec. Elapsed time 6.73 sec\n",
      "EvaluatorHoldout: Processed 35311 (100.0%) in 10.56 sec. Users per second: 3343\n",
      "Similarity column 38121 (100.0%), 5673.58 column/sec. Elapsed time 6.72 sec\n",
      "EvaluatorHoldout: Processed 35323 (100.0%) in 10.44 sec. Users per second: 3383\n",
      "Similarity column 38121 (100.0%), 5673.50 column/sec. Elapsed time 6.72 sec\n",
      "EvaluatorHoldout: Processed 35327 (100.0%) in 10.44 sec. Users per second: 3385\n",
      "Similarity column 38121 (100.0%), 5659.03 column/sec. Elapsed time 6.74 sec\n",
      "EvaluatorHoldout: Processed 35336 (100.0%) in 10.41 sec. Users per second: 3394\n",
      "Similarity column 38121 (100.0%), 5683.52 column/sec. Elapsed time 6.71 sec\n",
      "EvaluatorHoldout: Processed 35270 (100.0%) in 10.45 sec. Users per second: 3376\n",
      "Similarity column 38121 (100.0%), 5679.92 column/sec. Elapsed time 6.71 sec\n",
      "EvaluatorHoldout: Processed 35277 (100.0%) in 10.41 sec. Users per second: 3389\n"
     ]
    },
    {
     "name": "stderr",
     "output_type": "stream",
     "text": [
      "[I 2024-11-28 00:15:48,029] Trial 65 finished with value: 0.03020875489012425 and parameters: {'similarity': 'asymmetric', 'topK': 12, 'shrink': 10, 'asymmetric_alpha': 0.08036855035385024}. Best is trial 62 with value: 0.030741304277784633.\n"
     ]
    },
    {
     "name": "stdout",
     "output_type": "stream",
     "text": [
      "Similarity column 38121 (100.0%), 5683.55 column/sec. Elapsed time 6.71 sec\n",
      "EvaluatorHoldout: Processed 35311 (100.0%) in 10.59 sec. Users per second: 3334\n",
      "Similarity column 38121 (100.0%), 5675.45 column/sec. Elapsed time 6.72 sec\n",
      "EvaluatorHoldout: Processed 35289 (100.0%) in 10.62 sec. Users per second: 3323\n",
      "Similarity column 38121 (100.0%), 5677.69 column/sec. Elapsed time 6.71 sec\n",
      "EvaluatorHoldout: Processed 35295 (100.0%) in 10.61 sec. Users per second: 3327\n",
      "Similarity column 38121 (100.0%), 5683.17 column/sec. Elapsed time 6.71 sec\n",
      "EvaluatorHoldout: Processed 35269 (100.0%) in 10.65 sec. Users per second: 3310\n",
      "Similarity column 38121 (100.0%), 5666.45 column/sec. Elapsed time 6.73 sec\n",
      "EvaluatorHoldout: Processed 35311 (100.0%) in 10.59 sec. Users per second: 3333\n",
      "Similarity column 38121 (100.0%), 5703.16 column/sec. Elapsed time 6.68 sec\n",
      "EvaluatorHoldout: Processed 35323 (100.0%) in 10.60 sec. Users per second: 3331\n",
      "Similarity column 38121 (100.0%), 5675.98 column/sec. Elapsed time 6.72 sec\n",
      "EvaluatorHoldout: Processed 35327 (100.0%) in 10.59 sec. Users per second: 3334\n",
      "Similarity column 38121 (100.0%), 5602.69 column/sec. Elapsed time 6.80 sec\n",
      "EvaluatorHoldout: Processed 35336 (100.0%) in 10.68 sec. Users per second: 3309\n",
      "Similarity column 38121 (100.0%), 5687.21 column/sec. Elapsed time 6.70 sec\n",
      "EvaluatorHoldout: Processed 35270 (100.0%) in 10.63 sec. Users per second: 3319\n",
      "Similarity column 38121 (100.0%), 5664.30 column/sec. Elapsed time 6.73 sec\n",
      "EvaluatorHoldout: Processed 35277 (100.0%) in 10.58 sec. Users per second: 3334\n"
     ]
    },
    {
     "name": "stderr",
     "output_type": "stream",
     "text": [
      "[I 2024-11-28 00:18:41,884] Trial 66 finished with value: 0.02990617447428883 and parameters: {'similarity': 'asymmetric', 'topK': 17, 'shrink': 10, 'asymmetric_alpha': 0.1298209814602638}. Best is trial 62 with value: 0.030741304277784633.\n"
     ]
    },
    {
     "name": "stdout",
     "output_type": "stream",
     "text": [
      "Similarity column 38121 (100.0%), 5683.93 column/sec. Elapsed time 6.71 sec\n",
      "EvaluatorHoldout: Processed 35311 (100.0%) in 10.46 sec. Users per second: 3375\n",
      "Similarity column 38121 (100.0%), 5673.08 column/sec. Elapsed time 6.72 sec\n",
      "EvaluatorHoldout: Processed 35289 (100.0%) in 10.44 sec. Users per second: 3381\n",
      "Similarity column 38121 (100.0%), 5616.72 column/sec. Elapsed time 6.79 sec\n",
      "EvaluatorHoldout: Processed 35295 (100.0%) in 10.48 sec. Users per second: 3369\n",
      "Similarity column 38121 (100.0%), 5678.11 column/sec. Elapsed time 6.71 sec\n",
      "EvaluatorHoldout: Processed 35269 (100.0%) in 10.46 sec. Users per second: 3372\n",
      "Similarity column 38121 (100.0%), 5676.23 column/sec. Elapsed time 6.72 sec\n",
      "EvaluatorHoldout: Processed 35311 (100.0%) in 10.44 sec. Users per second: 3383\n",
      "Similarity column 38121 (100.0%), 5701.59 column/sec. Elapsed time 6.69 sec\n",
      "EvaluatorHoldout: Processed 35323 (100.0%) in 10.50 sec. Users per second: 3365\n",
      "Similarity column 38121 (100.0%), 5687.52 column/sec. Elapsed time 6.70 sec\n",
      "EvaluatorHoldout: Processed 35327 (100.0%) in 10.47 sec. Users per second: 3373\n",
      "Similarity column 38121 (100.0%), 5638.27 column/sec. Elapsed time 6.76 sec\n",
      "EvaluatorHoldout: Processed 35336 (100.0%) in 10.48 sec. Users per second: 3372\n",
      "Similarity column 38121 (100.0%), 5688.96 column/sec. Elapsed time 6.70 sec\n",
      "EvaluatorHoldout: Processed 35270 (100.0%) in 10.46 sec. Users per second: 3372\n",
      "Similarity column 38121 (100.0%), 5679.26 column/sec. Elapsed time 6.71 sec\n",
      "EvaluatorHoldout: Processed 35277 (100.0%) in 10.43 sec. Users per second: 3381\n"
     ]
    },
    {
     "name": "stderr",
     "output_type": "stream",
     "text": [
      "[I 2024-11-28 00:21:34,142] Trial 67 finished with value: 0.03040755329767602 and parameters: {'similarity': 'asymmetric', 'topK': 11, 'shrink': 16, 'asymmetric_alpha': 0.11944583798588407}. Best is trial 62 with value: 0.030741304277784633.\n"
     ]
    },
    {
     "name": "stdout",
     "output_type": "stream",
     "text": [
      "Similarity column 38121 (100.0%), 6067.16 column/sec. Elapsed time 6.28 sec\n",
      "EvaluatorHoldout: Processed 35311 (100.0%) in 10.71 sec. Users per second: 3297\n",
      "Similarity column 38121 (100.0%), 6044.33 column/sec. Elapsed time 6.31 sec\n",
      "EvaluatorHoldout: Processed 35289 (100.0%) in 10.60 sec. Users per second: 3330\n",
      "Similarity column 38121 (100.0%), 5990.22 column/sec. Elapsed time 6.36 sec\n",
      "EvaluatorHoldout: Processed 35295 (100.0%) in 10.60 sec. Users per second: 3330\n",
      "Similarity column 38121 (100.0%), 6145.93 column/sec. Elapsed time 6.20 sec\n",
      "EvaluatorHoldout: Processed 35269 (100.0%) in 10.59 sec. Users per second: 3332\n",
      "Similarity column 38121 (100.0%), 6063.24 column/sec. Elapsed time 6.29 sec\n",
      "EvaluatorHoldout: Processed 35311 (100.0%) in 10.66 sec. Users per second: 3312\n",
      "Similarity column 38121 (100.0%), 6050.68 column/sec. Elapsed time 6.30 sec\n",
      "EvaluatorHoldout: Processed 35323 (100.0%) in 10.68 sec. Users per second: 3308\n",
      "Similarity column 38121 (100.0%), 6051.73 column/sec. Elapsed time 6.30 sec\n",
      "EvaluatorHoldout: Processed 35327 (100.0%) in 10.61 sec. Users per second: 3329\n",
      "Similarity column 38121 (100.0%), 6033.34 column/sec. Elapsed time 6.32 sec\n",
      "EvaluatorHoldout: Processed 35336 (100.0%) in 10.65 sec. Users per second: 3317\n",
      "Similarity column 38121 (100.0%), 6066.84 column/sec. Elapsed time 6.28 sec\n",
      "EvaluatorHoldout: Processed 35270 (100.0%) in 10.69 sec. Users per second: 3299\n",
      "Similarity column 38121 (100.0%), 6053.17 column/sec. Elapsed time 6.30 sec\n",
      "EvaluatorHoldout: Processed 35277 (100.0%) in 10.65 sec. Users per second: 3313\n"
     ]
    },
    {
     "name": "stderr",
     "output_type": "stream",
     "text": [
      "[I 2024-11-28 00:24:24,647] Trial 68 finished with value: 0.02857853332327238 and parameters: {'similarity': 'dice', 'topK': 14, 'shrink': 7}. Best is trial 62 with value: 0.030741304277784633.\n"
     ]
    },
    {
     "name": "stdout",
     "output_type": "stream",
     "text": [
      "Similarity column 38121 (100.0%), 5670.77 column/sec. Elapsed time 6.72 sec\n",
      "EvaluatorHoldout: Processed 35311 (100.0%) in 10.34 sec. Users per second: 3416\n",
      "Similarity column 38121 (100.0%), 5687.05 column/sec. Elapsed time 6.70 sec\n",
      "EvaluatorHoldout: Processed 35289 (100.0%) in 10.28 sec. Users per second: 3434\n",
      "Similarity column 38121 (100.0%), 5674.36 column/sec. Elapsed time 6.72 sec\n",
      "EvaluatorHoldout: Processed 35295 (100.0%) in 10.26 sec. Users per second: 3439\n",
      "Similarity column 38121 (100.0%), 5694.39 column/sec. Elapsed time 6.69 sec\n",
      "EvaluatorHoldout: Processed 35269 (100.0%) in 10.31 sec. Users per second: 3419\n",
      "Similarity column 38121 (100.0%), 5665.87 column/sec. Elapsed time 6.73 sec\n",
      "EvaluatorHoldout: Processed 35311 (100.0%) in 10.26 sec. Users per second: 3440\n",
      "Similarity column 38121 (100.0%), 5704.70 column/sec. Elapsed time 6.68 sec\n",
      "EvaluatorHoldout: Processed 35323 (100.0%) in 10.30 sec. Users per second: 3430\n",
      "Similarity column 38121 (100.0%), 5639.47 column/sec. Elapsed time 6.76 sec\n",
      "EvaluatorHoldout: Processed 35327 (100.0%) in 10.30 sec. Users per second: 3430\n",
      "Similarity column 38121 (100.0%), 5684.92 column/sec. Elapsed time 6.71 sec\n",
      "EvaluatorHoldout: Processed 35336 (100.0%) in 10.17 sec. Users per second: 3475\n",
      "Similarity column 38121 (100.0%), 5692.96 column/sec. Elapsed time 6.70 sec\n",
      "EvaluatorHoldout: Processed 35270 (100.0%) in 10.26 sec. Users per second: 3438\n",
      "Similarity column 38121 (100.0%), 5677.43 column/sec. Elapsed time 6.71 sec\n",
      "EvaluatorHoldout: Processed 35277 (100.0%) in 10.23 sec. Users per second: 3449\n"
     ]
    },
    {
     "name": "stderr",
     "output_type": "stream",
     "text": [
      "[I 2024-11-28 00:27:14,910] Trial 69 finished with value: 0.029496681120729912 and parameters: {'similarity': 'asymmetric', 'topK': 7, 'shrink': 3, 'asymmetric_alpha': 0.08873104216398485}. Best is trial 62 with value: 0.030741304277784633.\n"
     ]
    },
    {
     "name": "stdout",
     "output_type": "stream",
     "text": [
      "Similarity column 38121 (100.0%), 5897.62 column/sec. Elapsed time 6.46 sec\n",
      "EvaluatorHoldout: Processed 35311 (100.0%) in 10.58 sec. Users per second: 3337\n",
      "Similarity column 38121 (100.0%), 5876.82 column/sec. Elapsed time 6.49 sec\n",
      "EvaluatorHoldout: Processed 35289 (100.0%) in 10.55 sec. Users per second: 3345\n",
      "Similarity column 38121 (100.0%), 5876.65 column/sec. Elapsed time 6.49 sec\n",
      "EvaluatorHoldout: Processed 35295 (100.0%) in 10.53 sec. Users per second: 3352\n",
      "Similarity column 38121 (100.0%), 5832.90 column/sec. Elapsed time 6.54 sec\n",
      "EvaluatorHoldout: Processed 35269 (100.0%) in 10.59 sec. Users per second: 3331\n",
      "Similarity column 38121 (100.0%), 5876.46 column/sec. Elapsed time 6.49 sec\n",
      "EvaluatorHoldout: Processed 35311 (100.0%) in 10.57 sec. Users per second: 3342\n",
      "Similarity column 38121 (100.0%), 5884.27 column/sec. Elapsed time 6.48 sec\n",
      "EvaluatorHoldout: Processed 35323 (100.0%) in 10.57 sec. Users per second: 3342\n",
      "Similarity column 38121 (100.0%), 5868.92 column/sec. Elapsed time 6.50 sec\n",
      "EvaluatorHoldout: Processed 35327 (100.0%) in 10.70 sec. Users per second: 3302\n",
      "Similarity column 38121 (100.0%), 5883.12 column/sec. Elapsed time 6.48 sec\n",
      "EvaluatorHoldout: Processed 35336 (100.0%) in 10.58 sec. Users per second: 3340\n",
      "Similarity column 38121 (100.0%), 5870.90 column/sec. Elapsed time 6.49 sec\n",
      "EvaluatorHoldout: Processed 35270 (100.0%) in 10.60 sec. Users per second: 3328\n",
      "Similarity column 38121 (100.0%), 5889.33 column/sec. Elapsed time 6.47 sec\n",
      "EvaluatorHoldout: Processed 35277 (100.0%) in 10.55 sec. Users per second: 3343\n"
     ]
    },
    {
     "name": "stderr",
     "output_type": "stream",
     "text": [
      "[I 2024-11-28 00:30:06,075] Trial 70 finished with value: 0.02890863202956918 and parameters: {'similarity': 'cosine', 'topK': 10, 'shrink': 11}. Best is trial 62 with value: 0.030741304277784633.\n"
     ]
    },
    {
     "name": "stdout",
     "output_type": "stream",
     "text": [
      "Similarity column 38121 (100.0%), 5684.95 column/sec. Elapsed time 6.71 sec\n",
      "EvaluatorHoldout: Processed 35311 (100.0%) in 10.52 sec. Users per second: 3357\n",
      "Similarity column 38121 (100.0%), 5675.16 column/sec. Elapsed time 6.72 sec\n",
      "EvaluatorHoldout: Processed 35289 (100.0%) in 10.44 sec. Users per second: 3381\n",
      "Similarity column 38121 (100.0%), 5637.30 column/sec. Elapsed time 6.76 sec\n",
      "EvaluatorHoldout: Processed 35295 (100.0%) in 10.45 sec. Users per second: 3379\n",
      "Similarity column 38121 (100.0%), 5672.24 column/sec. Elapsed time 6.72 sec\n",
      "EvaluatorHoldout: Processed 35269 (100.0%) in 10.46 sec. Users per second: 3373\n",
      "Similarity column 38121 (100.0%), 5673.02 column/sec. Elapsed time 6.72 sec\n",
      "EvaluatorHoldout: Processed 35311 (100.0%) in 10.48 sec. Users per second: 3368\n",
      "Similarity column 38121 (100.0%), 5701.56 column/sec. Elapsed time 6.69 sec\n",
      "EvaluatorHoldout: Processed 35323 (100.0%) in 10.54 sec. Users per second: 3350\n",
      "Similarity column 38121 (100.0%), 5676.49 column/sec. Elapsed time 6.72 sec\n",
      "EvaluatorHoldout: Processed 35327 (100.0%) in 10.56 sec. Users per second: 3345\n",
      "Similarity column 38121 (100.0%), 5686.24 column/sec. Elapsed time 6.70 sec\n",
      "EvaluatorHoldout: Processed 35336 (100.0%) in 10.52 sec. Users per second: 3360\n",
      "Similarity column 38121 (100.0%), 5701.65 column/sec. Elapsed time 6.69 sec\n",
      "EvaluatorHoldout: Processed 35270 (100.0%) in 10.49 sec. Users per second: 3364\n",
      "Similarity column 38121 (100.0%), 5625.69 column/sec. Elapsed time 6.78 sec\n",
      "EvaluatorHoldout: Processed 35277 (100.0%) in 10.55 sec. Users per second: 3344\n"
     ]
    },
    {
     "name": "stderr",
     "output_type": "stream",
     "text": [
      "[I 2024-11-28 00:32:58,697] Trial 71 finished with value: 0.03032849965577968 and parameters: {'similarity': 'asymmetric', 'topK': 12, 'shrink': 16, 'asymmetric_alpha': 0.11791870623132791}. Best is trial 62 with value: 0.030741304277784633.\n"
     ]
    },
    {
     "name": "stdout",
     "output_type": "stream",
     "text": [
      "Similarity column 38121 (100.0%), 5643.54 column/sec. Elapsed time 6.75 sec\n",
      "EvaluatorHoldout: Processed 35311 (100.0%) in 10.33 sec. Users per second: 3419\n",
      "Similarity column 38121 (100.0%), 5632.90 column/sec. Elapsed time 6.77 sec\n",
      "EvaluatorHoldout: Processed 35289 (100.0%) in 10.34 sec. Users per second: 3413\n",
      "Similarity column 38121 (100.0%), 5686.86 column/sec. Elapsed time 6.70 sec\n",
      "EvaluatorHoldout: Processed 35295 (100.0%) in 10.32 sec. Users per second: 3420\n",
      "Similarity column 38121 (100.0%), 5684.44 column/sec. Elapsed time 6.71 sec\n",
      "EvaluatorHoldout: Processed 35269 (100.0%) in 10.32 sec. Users per second: 3419\n",
      "Similarity column 38121 (100.0%), 5686.69 column/sec. Elapsed time 6.70 sec\n",
      "EvaluatorHoldout: Processed 35311 (100.0%) in 10.32 sec. Users per second: 3423\n",
      "Similarity column 38121 (100.0%), 5689.06 column/sec. Elapsed time 6.70 sec\n",
      "EvaluatorHoldout: Processed 35323 (100.0%) in 10.33 sec. Users per second: 3419\n",
      "Similarity column 38121 (100.0%), 5678.65 column/sec. Elapsed time 6.71 sec\n",
      "EvaluatorHoldout: Processed 35327 (100.0%) in 10.38 sec. Users per second: 3403\n",
      "Similarity column 38121 (100.0%), 5670.00 column/sec. Elapsed time 6.72 sec\n",
      "EvaluatorHoldout: Processed 35336 (100.0%) in 10.39 sec. Users per second: 3402\n",
      "Similarity column 38121 (100.0%), 5689.49 column/sec. Elapsed time 6.70 sec\n",
      "EvaluatorHoldout: Processed 35270 (100.0%) in 10.32 sec. Users per second: 3418\n",
      "Similarity column 38121 (100.0%), 5692.31 column/sec. Elapsed time 6.70 sec\n",
      "EvaluatorHoldout: Processed 35277 (100.0%) in 10.33 sec. Users per second: 3413\n"
     ]
    },
    {
     "name": "stderr",
     "output_type": "stream",
     "text": [
      "[I 2024-11-28 00:35:49,706] Trial 72 finished with value: 0.03074136955346731 and parameters: {'similarity': 'asymmetric', 'topK': 7, 'shrink': 15, 'asymmetric_alpha': 0.13704359298891727}. Best is trial 72 with value: 0.03074136955346731.\n"
     ]
    },
    {
     "name": "stdout",
     "output_type": "stream",
     "text": [
      "Similarity column 38121 (100.0%), 5686.21 column/sec. Elapsed time 6.70 sec\n",
      "EvaluatorHoldout: Processed 35311 (100.0%) in 10.32 sec. Users per second: 3421\n",
      "Similarity column 38121 (100.0%), 5686.30 column/sec. Elapsed time 6.70 sec\n",
      "EvaluatorHoldout: Processed 35289 (100.0%) in 10.32 sec. Users per second: 3420\n",
      "Similarity column 38121 (100.0%), 5639.33 column/sec. Elapsed time 6.76 sec\n",
      "EvaluatorHoldout: Processed 35295 (100.0%) in 10.32 sec. Users per second: 3419\n",
      "Similarity column 38121 (100.0%), 5676.86 column/sec. Elapsed time 6.72 sec\n",
      "EvaluatorHoldout: Processed 35269 (100.0%) in 10.43 sec. Users per second: 3380\n",
      "Similarity column 38121 (100.0%), 5681.56 column/sec. Elapsed time 6.71 sec\n",
      "EvaluatorHoldout: Processed 35311 (100.0%) in 10.36 sec. Users per second: 3407\n",
      "Similarity column 38121 (100.0%), 5699.38 column/sec. Elapsed time 6.69 sec\n",
      "EvaluatorHoldout: Processed 35323 (100.0%) in 10.36 sec. Users per second: 3411\n",
      "Similarity column 38121 (100.0%), 5677.04 column/sec. Elapsed time 6.71 sec\n",
      "EvaluatorHoldout: Processed 35327 (100.0%) in 10.38 sec. Users per second: 3402\n",
      "Similarity column 38121 (100.0%), 5656.78 column/sec. Elapsed time 6.74 sec\n",
      "EvaluatorHoldout: Processed 35336 (100.0%) in 10.36 sec. Users per second: 3410\n",
      "Similarity column 38121 (100.0%), 5645.22 column/sec. Elapsed time 6.75 sec\n",
      "EvaluatorHoldout: Processed 35270 (100.0%) in 10.35 sec. Users per second: 3409\n",
      "Similarity column 38121 (100.0%), 5685.55 column/sec. Elapsed time 6.70 sec\n",
      "EvaluatorHoldout: Processed 35277 (100.0%) in 10.33 sec. Users per second: 3416\n"
     ]
    },
    {
     "name": "stderr",
     "output_type": "stream",
     "text": [
      "[I 2024-11-28 00:38:40,858] Trial 73 finished with value: 0.03067715825866399 and parameters: {'similarity': 'asymmetric', 'topK': 7, 'shrink': 19, 'asymmetric_alpha': 0.13599014580817717}. Best is trial 72 with value: 0.03074136955346731.\n"
     ]
    },
    {
     "name": "stdout",
     "output_type": "stream",
     "text": [
      "Similarity column 38121 (100.0%), 5694.48 column/sec. Elapsed time 6.69 sec\n",
      "EvaluatorHoldout: Processed 35311 (100.0%) in 10.40 sec. Users per second: 3396\n",
      "Similarity column 38121 (100.0%), 5680.51 column/sec. Elapsed time 6.71 sec\n",
      "EvaluatorHoldout: Processed 35289 (100.0%) in 10.41 sec. Users per second: 3391\n",
      "Similarity column 38121 (100.0%), 5685.62 column/sec. Elapsed time 6.70 sec\n",
      "EvaluatorHoldout: Processed 35295 (100.0%) in 10.35 sec. Users per second: 3410\n",
      "Similarity column 38121 (100.0%), 5683.08 column/sec. Elapsed time 6.71 sec\n",
      "EvaluatorHoldout: Processed 35269 (100.0%) in 10.36 sec. Users per second: 3404\n",
      "Similarity column 38121 (100.0%), 5691.78 column/sec. Elapsed time 6.70 sec\n",
      "EvaluatorHoldout: Processed 35311 (100.0%) in 10.41 sec. Users per second: 3393\n",
      "Similarity column 38121 (100.0%), 5660.22 column/sec. Elapsed time 6.73 sec\n",
      "EvaluatorHoldout: Processed 35323 (100.0%) in 10.39 sec. Users per second: 3400\n",
      "Similarity column 38121 (100.0%), 5680.09 column/sec. Elapsed time 6.71 sec\n",
      "EvaluatorHoldout: Processed 35327 (100.0%) in 10.44 sec. Users per second: 3384\n",
      "Similarity column 38121 (100.0%), 5675.42 column/sec. Elapsed time 6.72 sec\n",
      "EvaluatorHoldout: Processed 35336 (100.0%) in 10.36 sec. Users per second: 3410\n",
      "Similarity column 38121 (100.0%), 5685.58 column/sec. Elapsed time 6.70 sec\n",
      "EvaluatorHoldout: Processed 35270 (100.0%) in 10.35 sec. Users per second: 3407\n",
      "Similarity column 38121 (100.0%), 5678.23 column/sec. Elapsed time 6.71 sec\n",
      "EvaluatorHoldout: Processed 35277 (100.0%) in 10.34 sec. Users per second: 3411\n"
     ]
    },
    {
     "name": "stderr",
     "output_type": "stream",
     "text": [
      "[I 2024-11-28 00:41:32,237] Trial 74 finished with value: 0.030680390011078185 and parameters: {'similarity': 'asymmetric', 'topK': 7, 'shrink': 19, 'asymmetric_alpha': 0.13626679344709808}. Best is trial 72 with value: 0.03074136955346731.\n"
     ]
    },
    {
     "name": "stdout",
     "output_type": "stream",
     "text": [
      "Similarity column 38121 (100.0%), 5649.49 column/sec. Elapsed time 6.75 sec\n",
      "EvaluatorHoldout: Processed 35311 (100.0%) in 10.39 sec. Users per second: 3397\n",
      "Similarity column 38121 (100.0%), 5680.40 column/sec. Elapsed time 6.71 sec\n",
      "EvaluatorHoldout: Processed 35289 (100.0%) in 10.38 sec. Users per second: 3401\n",
      "Similarity column 38121 (100.0%), 5681.85 column/sec. Elapsed time 6.71 sec\n",
      "EvaluatorHoldout: Processed 35295 (100.0%) in 10.41 sec. Users per second: 3390\n",
      "Similarity column 38121 (100.0%), 5634.06 column/sec. Elapsed time 6.77 sec\n",
      "EvaluatorHoldout: Processed 35269 (100.0%) in 10.35 sec. Users per second: 3407\n",
      "Similarity column 38121 (100.0%), 5669.20 column/sec. Elapsed time 6.72 sec\n",
      "EvaluatorHoldout: Processed 35311 (100.0%) in 10.40 sec. Users per second: 3396\n",
      "Similarity column 38121 (100.0%), 5682.97 column/sec. Elapsed time 6.71 sec\n",
      "EvaluatorHoldout: Processed 35323 (100.0%) in 10.44 sec. Users per second: 3382\n",
      "Similarity column 38121 (100.0%), 5683.79 column/sec. Elapsed time 6.71 sec\n",
      "EvaluatorHoldout: Processed 35327 (100.0%) in 10.37 sec. Users per second: 3405\n",
      "Similarity column 38121 (100.0%), 5673.15 column/sec. Elapsed time 6.72 sec\n",
      "EvaluatorHoldout: Processed 35336 (100.0%) in 10.39 sec. Users per second: 3399\n",
      "Similarity column 38121 (100.0%), 5686.67 column/sec. Elapsed time 6.70 sec\n",
      "EvaluatorHoldout: Processed 35270 (100.0%) in 10.34 sec. Users per second: 3412\n",
      "Similarity column 38121 (100.0%), 5640.79 column/sec. Elapsed time 6.76 sec\n",
      "EvaluatorHoldout: Processed 35277 (100.0%) in 10.45 sec. Users per second: 3374\n"
     ]
    },
    {
     "name": "stderr",
     "output_type": "stream",
     "text": [
      "[I 2024-11-28 00:44:23,846] Trial 75 finished with value: 0.030623182925522314 and parameters: {'similarity': 'asymmetric', 'topK': 8, 'shrink': 18, 'asymmetric_alpha': 0.13537848731533952}. Best is trial 72 with value: 0.03074136955346731.\n"
     ]
    },
    {
     "name": "stdout",
     "output_type": "stream",
     "text": [
      "Similarity column 38121 (100.0%), 5673.68 column/sec. Elapsed time 6.72 sec\n",
      "EvaluatorHoldout: Processed 35311 (100.0%) in 10.39 sec. Users per second: 3400\n",
      "Similarity column 38121 (100.0%), 5673.01 column/sec. Elapsed time 6.72 sec\n",
      "EvaluatorHoldout: Processed 35289 (100.0%) in 10.39 sec. Users per second: 3398\n",
      "Similarity column 38121 (100.0%), 5658.47 column/sec. Elapsed time 6.74 sec\n",
      "EvaluatorHoldout: Processed 35295 (100.0%) in 10.45 sec. Users per second: 3377\n",
      "Similarity column 38121 (100.0%), 5679.26 column/sec. Elapsed time 6.71 sec\n",
      "EvaluatorHoldout: Processed 35269 (100.0%) in 10.38 sec. Users per second: 3399\n",
      "Similarity column 38121 (100.0%), 5686.35 column/sec. Elapsed time 6.70 sec\n",
      "EvaluatorHoldout: Processed 35311 (100.0%) in 10.40 sec. Users per second: 3395\n",
      "Similarity column 38121 (100.0%), 5693.24 column/sec. Elapsed time 6.70 sec\n",
      "EvaluatorHoldout: Processed 35323 (100.0%) in 10.43 sec. Users per second: 3388\n",
      "Similarity column 38121 (100.0%), 5623.74 column/sec. Elapsed time 6.78 sec\n",
      "EvaluatorHoldout: Processed 35327 (100.0%) in 10.39 sec. Users per second: 3401\n",
      "Similarity column 38121 (100.0%), 5675.70 column/sec. Elapsed time 6.72 sec\n",
      "EvaluatorHoldout: Processed 35336 (100.0%) in 10.38 sec. Users per second: 3405\n",
      "Similarity column 38121 (100.0%), 5691.72 column/sec. Elapsed time 6.70 sec\n",
      "EvaluatorHoldout: Processed 35270 (100.0%) in 10.33 sec. Users per second: 3415\n",
      "Similarity column 38121 (100.0%), 5658.33 column/sec. Elapsed time 6.74 sec\n",
      "EvaluatorHoldout: Processed 35277 (100.0%) in 10.39 sec. Users per second: 3397\n"
     ]
    },
    {
     "name": "stderr",
     "output_type": "stream",
     "text": [
      "[I 2024-11-28 00:47:15,380] Trial 76 finished with value: 0.030544649578195138 and parameters: {'similarity': 'asymmetric', 'topK': 8, 'shrink': 20, 'asymmetric_alpha': 0.13556554784397204}. Best is trial 72 with value: 0.03074136955346731.\n"
     ]
    },
    {
     "name": "stdout",
     "output_type": "stream",
     "text": [
      "Similarity column 38121 (100.0%), 5684.98 column/sec. Elapsed time 6.71 sec\n",
      "EvaluatorHoldout: Processed 35311 (100.0%) in 10.70 sec. Users per second: 3299\n",
      "Similarity column 38121 (100.0%), 5681.05 column/sec. Elapsed time 6.71 sec\n",
      "EvaluatorHoldout: Processed 35289 (100.0%) in 10.73 sec. Users per second: 3290\n",
      "Similarity column 38121 (100.0%), 5659.33 column/sec. Elapsed time 6.74 sec\n",
      "EvaluatorHoldout: Processed 35295 (100.0%) in 10.81 sec. Users per second: 3266\n",
      "Similarity column 38121 (100.0%), 5673.02 column/sec. Elapsed time 6.72 sec\n",
      "EvaluatorHoldout: Processed 35269 (100.0%) in 10.78 sec. Users per second: 3273\n",
      "Similarity column 38121 (100.0%), 5673.31 column/sec. Elapsed time 6.72 sec\n",
      "EvaluatorHoldout: Processed 35311 (100.0%) in 10.74 sec. Users per second: 3289\n",
      "Similarity column 38121 (100.0%), 5694.72 column/sec. Elapsed time 6.69 sec\n",
      "EvaluatorHoldout: Processed 35323 (100.0%) in 10.70 sec. Users per second: 3300\n",
      "Similarity column 38121 (100.0%), 5663.96 column/sec. Elapsed time 6.73 sec\n",
      "EvaluatorHoldout: Processed 35327 (100.0%) in 10.74 sec. Users per second: 3289\n",
      "Similarity column 38121 (100.0%), 5631.91 column/sec. Elapsed time 6.77 sec\n",
      "EvaluatorHoldout: Processed 35336 (100.0%) in 10.75 sec. Users per second: 3289\n",
      "Similarity column 38121 (100.0%), 5686.78 column/sec. Elapsed time 6.70 sec\n",
      "EvaluatorHoldout: Processed 35270 (100.0%) in 10.74 sec. Users per second: 3284\n",
      "Similarity column 38121 (100.0%), 5684.23 column/sec. Elapsed time 6.71 sec\n",
      "EvaluatorHoldout: Processed 35277 (100.0%) in 10.71 sec. Users per second: 3293\n"
     ]
    },
    {
     "name": "stderr",
     "output_type": "stream",
     "text": [
      "[I 2024-11-28 00:50:10,481] Trial 77 finished with value: 0.029777826337434456 and parameters: {'similarity': 'asymmetric', 'topK': 19, 'shrink': 19, 'asymmetric_alpha': 0.13572494555648026}. Best is trial 72 with value: 0.03074136955346731.\n"
     ]
    },
    {
     "name": "stdout",
     "output_type": "stream",
     "text": [
      "Similarity column 38121 (100.0%), 6045.44 column/sec. Elapsed time 6.31 sec\n",
      "EvaluatorHoldout: Processed 35311 (100.0%) in 10.79 sec. Users per second: 3271\n",
      "Similarity column 38121 (100.0%), 6058.67 column/sec. Elapsed time 6.29 sec\n",
      "EvaluatorHoldout: Processed 35289 (100.0%) in 10.78 sec. Users per second: 3273\n",
      "Similarity column 38121 (100.0%), 6039.68 column/sec. Elapsed time 6.31 sec\n",
      "EvaluatorHoldout: Processed 35295 (100.0%) in 10.73 sec. Users per second: 3290\n",
      "Similarity column 38121 (100.0%), 6026.82 column/sec. Elapsed time 6.33 sec\n",
      "EvaluatorHoldout: Processed 35269 (100.0%) in 10.63 sec. Users per second: 3317\n",
      "Similarity column 38121 (100.0%), 6048.24 column/sec. Elapsed time 6.30 sec\n",
      "EvaluatorHoldout: Processed 35311 (100.0%) in 10.73 sec. Users per second: 3291\n",
      "Similarity column 38121 (100.0%), 6010.38 column/sec. Elapsed time 6.34 sec\n",
      "EvaluatorHoldout: Processed 35323 (100.0%) in 10.71 sec. Users per second: 3298\n",
      "Similarity column 38121 (100.0%), 6049.21 column/sec. Elapsed time 6.30 sec\n",
      "EvaluatorHoldout: Processed 35327 (100.0%) in 10.74 sec. Users per second: 3290\n",
      "Similarity column 38121 (100.0%), 6061.28 column/sec. Elapsed time 6.29 sec\n",
      "EvaluatorHoldout: Processed 35336 (100.0%) in 10.74 sec. Users per second: 3291\n",
      "Similarity column 38121 (100.0%), 6083.39 column/sec. Elapsed time 6.27 sec\n",
      "EvaluatorHoldout: Processed 35270 (100.0%) in 10.79 sec. Users per second: 3268\n",
      "Similarity column 38121 (100.0%), 6042.06 column/sec. Elapsed time 6.31 sec\n",
      "EvaluatorHoldout: Processed 35277 (100.0%) in 10.71 sec. Users per second: 3292\n"
     ]
    },
    {
     "name": "stderr",
     "output_type": "stream",
     "text": [
      "[I 2024-11-28 00:53:02,019] Trial 78 finished with value: 0.028714129234027684 and parameters: {'similarity': 'dice', 'topK': 15, 'shrink': 22}. Best is trial 72 with value: 0.03074136955346731.\n"
     ]
    },
    {
     "name": "stdout",
     "output_type": "stream",
     "text": [
      "Similarity column 38121 (100.0%), 5624.20 column/sec. Elapsed time 6.78 sec\n",
      "EvaluatorHoldout: Processed 35311 (100.0%) in 10.33 sec. Users per second: 3419\n",
      "Similarity column 38121 (100.0%), 5681.61 column/sec. Elapsed time 6.71 sec\n",
      "EvaluatorHoldout: Processed 35289 (100.0%) in 10.32 sec. Users per second: 3420\n",
      "Similarity column 38121 (100.0%), 5674.44 column/sec. Elapsed time 6.72 sec\n",
      "EvaluatorHoldout: Processed 35295 (100.0%) in 10.34 sec. Users per second: 3414\n",
      "Similarity column 38121 (100.0%), 5676.77 column/sec. Elapsed time 6.72 sec\n",
      "EvaluatorHoldout: Processed 35269 (100.0%) in 10.31 sec. Users per second: 3421\n",
      "Similarity column 38121 (100.0%), 5693.86 column/sec. Elapsed time 6.70 sec\n",
      "EvaluatorHoldout: Processed 35311 (100.0%) in 10.43 sec. Users per second: 3384\n",
      "Similarity column 38121 (100.0%), 5695.47 column/sec. Elapsed time 6.69 sec\n",
      "EvaluatorHoldout: Processed 35323 (100.0%) in 10.39 sec. Users per second: 3399\n",
      "Similarity column 38121 (100.0%), 5674.22 column/sec. Elapsed time 6.72 sec\n",
      "EvaluatorHoldout: Processed 35327 (100.0%) in 10.33 sec. Users per second: 3418\n",
      "Similarity column 38121 (100.0%), 5682.04 column/sec. Elapsed time 6.71 sec\n",
      "EvaluatorHoldout: Processed 35336 (100.0%) in 10.46 sec. Users per second: 3379\n",
      "Similarity column 38121 (100.0%), 5692.98 column/sec. Elapsed time 6.70 sec\n",
      "EvaluatorHoldout: Processed 35270 (100.0%) in 10.44 sec. Users per second: 3380\n",
      "Similarity column 38121 (100.0%), 5674.97 column/sec. Elapsed time 6.72 sec\n",
      "EvaluatorHoldout: Processed 35277 (100.0%) in 10.43 sec. Users per second: 3381\n"
     ]
    },
    {
     "name": "stderr",
     "output_type": "stream",
     "text": [
      "[I 2024-11-28 00:55:53,374] Trial 79 finished with value: 0.030544435886347466 and parameters: {'similarity': 'asymmetric', 'topK': 8, 'shrink': 20, 'asymmetric_alpha': 0.135358492911828}. Best is trial 72 with value: 0.03074136955346731.\n"
     ]
    },
    {
     "name": "stdout",
     "output_type": "stream",
     "text": [
      "Similarity column 38121 (100.0%), 5895.87 column/sec. Elapsed time 6.47 sec\n",
      "EvaluatorHoldout: Processed 35311 (100.0%) in 10.83 sec. Users per second: 3260\n",
      "Similarity column 38121 (100.0%), 5835.28 column/sec. Elapsed time 6.53 sec\n",
      "EvaluatorHoldout: Processed 35289 (100.0%) in 10.78 sec. Users per second: 3273\n",
      "Similarity column 38121 (100.0%), 5879.97 column/sec. Elapsed time 6.48 sec\n",
      "EvaluatorHoldout: Processed 35295 (100.0%) in 10.79 sec. Users per second: 3270\n",
      "Similarity column 38121 (100.0%), 5860.04 column/sec. Elapsed time 6.51 sec\n",
      "EvaluatorHoldout: Processed 35269 (100.0%) in 10.81 sec. Users per second: 3263\n",
      "Similarity column 38121 (100.0%), 5873.37 column/sec. Elapsed time 6.49 sec\n",
      "EvaluatorHoldout: Processed 35311 (100.0%) in 10.87 sec. Users per second: 3248\n",
      "Similarity column 38121 (100.0%), 5906.42 column/sec. Elapsed time 6.45 sec\n",
      "EvaluatorHoldout: Processed 35323 (100.0%) in 10.86 sec. Users per second: 3252\n",
      "Similarity column 38121 (100.0%), 5877.33 column/sec. Elapsed time 6.49 sec\n",
      "EvaluatorHoldout: Processed 35327 (100.0%) in 10.83 sec. Users per second: 3263\n",
      "Similarity column 38121 (100.0%), 5856.08 column/sec. Elapsed time 6.51 sec\n",
      "EvaluatorHoldout: Processed 35336 (100.0%) in 10.84 sec. Users per second: 3258\n",
      "Similarity column 38121 (100.0%), 5881.11 column/sec. Elapsed time 6.48 sec\n",
      "EvaluatorHoldout: Processed 35270 (100.0%) in 10.81 sec. Users per second: 3262\n",
      "Similarity column 38121 (100.0%), 5879.51 column/sec. Elapsed time 6.48 sec\n",
      "EvaluatorHoldout: Processed 35277 (100.0%) in 10.83 sec. Users per second: 3256\n"
     ]
    },
    {
     "name": "stderr",
     "output_type": "stream",
     "text": [
      "[I 2024-11-28 00:58:46,959] Trial 80 finished with value: 0.02861172639108493 and parameters: {'similarity': 'cosine', 'topK': 14, 'shrink': 18}. Best is trial 72 with value: 0.03074136955346731.\n"
     ]
    },
    {
     "name": "stdout",
     "output_type": "stream",
     "text": [
      "Similarity column 38121 (100.0%), 5677.31 column/sec. Elapsed time 6.71 sec\n",
      "EvaluatorHoldout: Processed 35311 (100.0%) in 10.39 sec. Users per second: 3397\n",
      "Similarity column 38121 (100.0%), 5678.82 column/sec. Elapsed time 6.71 sec\n",
      "EvaluatorHoldout: Processed 35289 (100.0%) in 10.39 sec. Users per second: 3398\n",
      "Similarity column 38121 (100.0%), 5668.91 column/sec. Elapsed time 6.72 sec\n",
      "EvaluatorHoldout: Processed 35295 (100.0%) in 10.50 sec. Users per second: 3363\n",
      "Similarity column 38121 (100.0%), 5683.84 column/sec. Elapsed time 6.71 sec\n",
      "EvaluatorHoldout: Processed 35269 (100.0%) in 10.34 sec. Users per second: 3411\n",
      "Similarity column 38121 (100.0%), 5674.91 column/sec. Elapsed time 6.72 sec\n",
      "EvaluatorHoldout: Processed 35311 (100.0%) in 10.37 sec. Users per second: 3405\n",
      "Similarity column 38121 (100.0%), 5695.84 column/sec. Elapsed time 6.69 sec\n",
      "EvaluatorHoldout: Processed 35323 (100.0%) in 10.42 sec. Users per second: 3391\n",
      "Similarity column 38121 (100.0%), 5645.48 column/sec. Elapsed time 6.75 sec\n",
      "EvaluatorHoldout: Processed 35327 (100.0%) in 10.45 sec. Users per second: 3381\n",
      "Similarity column 38121 (100.0%), 5674.13 column/sec. Elapsed time 6.72 sec\n",
      "EvaluatorHoldout: Processed 35336 (100.0%) in 10.39 sec. Users per second: 3401\n",
      "Similarity column 38121 (100.0%), 5691.59 column/sec. Elapsed time 6.70 sec\n",
      "EvaluatorHoldout: Processed 35270 (100.0%) in 10.42 sec. Users per second: 3384\n",
      "Similarity column 38121 (100.0%), 5665.00 column/sec. Elapsed time 6.73 sec\n",
      "EvaluatorHoldout: Processed 35277 (100.0%) in 10.42 sec. Users per second: 3386\n"
     ]
    },
    {
     "name": "stderr",
     "output_type": "stream",
     "text": [
      "[I 2024-11-28 01:01:38,647] Trial 81 finished with value: 0.030503068817687023 and parameters: {'similarity': 'asymmetric', 'topK': 9, 'shrink': 19, 'asymmetric_alpha': 0.1365089136890144}. Best is trial 72 with value: 0.03074136955346731.\n"
     ]
    },
    {
     "name": "stdout",
     "output_type": "stream",
     "text": [
      "Similarity column 38121 (100.0%), 5675.20 column/sec. Elapsed time 6.72 sec\n",
      "EvaluatorHoldout: Processed 35311 (100.0%) in 10.35 sec. Users per second: 3412\n",
      "Similarity column 38121 (100.0%), 5651.47 column/sec. Elapsed time 6.75 sec\n",
      "EvaluatorHoldout: Processed 35289 (100.0%) in 10.33 sec. Users per second: 3415\n",
      "Similarity column 38121 (100.0%), 5675.84 column/sec. Elapsed time 6.72 sec\n",
      "EvaluatorHoldout: Processed 35295 (100.0%) in 10.39 sec. Users per second: 3397\n",
      "Similarity column 38121 (100.0%), 5629.15 column/sec. Elapsed time 6.77 sec\n",
      "EvaluatorHoldout: Processed 35269 (100.0%) in 10.35 sec. Users per second: 3406\n",
      "Similarity column 38121 (100.0%), 5660.94 column/sec. Elapsed time 6.73 sec\n",
      "EvaluatorHoldout: Processed 35311 (100.0%) in 10.39 sec. Users per second: 3399\n",
      "Similarity column 38121 (100.0%), 5691.67 column/sec. Elapsed time 6.70 sec\n",
      "EvaluatorHoldout: Processed 35323 (100.0%) in 10.48 sec. Users per second: 3370\n",
      "Similarity column 38121 (100.0%), 5686.44 column/sec. Elapsed time 6.70 sec\n",
      "EvaluatorHoldout: Processed 35327 (100.0%) in 10.37 sec. Users per second: 3408\n",
      "Similarity column 38121 (100.0%), 5674.54 column/sec. Elapsed time 6.72 sec\n",
      "EvaluatorHoldout: Processed 35336 (100.0%) in 10.40 sec. Users per second: 3398\n",
      "Similarity column 38121 (100.0%), 5669.57 column/sec. Elapsed time 6.72 sec\n",
      "EvaluatorHoldout: Processed 35270 (100.0%) in 10.34 sec. Users per second: 3412\n",
      "Similarity column 38121 (100.0%), 5633.66 column/sec. Elapsed time 6.77 sec\n",
      "EvaluatorHoldout: Processed 35277 (100.0%) in 10.36 sec. Users per second: 3405\n"
     ]
    },
    {
     "name": "stderr",
     "output_type": "stream",
     "text": [
      "[I 2024-11-28 01:04:30,109] Trial 82 finished with value: 0.030630035927779485 and parameters: {'similarity': 'asymmetric', 'topK': 8, 'shrink': 17, 'asymmetric_alpha': 0.1338485911506275}. Best is trial 72 with value: 0.03074136955346731.\n"
     ]
    },
    {
     "name": "stdout",
     "output_type": "stream",
     "text": [
      "Similarity column 38121 (100.0%), 5687.06 column/sec. Elapsed time 6.70 sec\n",
      "EvaluatorHoldout: Processed 35311 (100.0%) in 10.33 sec. Users per second: 3417\n",
      "Similarity column 38121 (100.0%), 5685.81 column/sec. Elapsed time 6.70 sec\n",
      "EvaluatorHoldout: Processed 35289 (100.0%) in 10.33 sec. Users per second: 3415\n",
      "Similarity column 38121 (100.0%), 5686.47 column/sec. Elapsed time 6.70 sec\n",
      "EvaluatorHoldout: Processed 35295 (100.0%) in 10.38 sec. Users per second: 3401\n",
      "Similarity column 38121 (100.0%), 5683.42 column/sec. Elapsed time 6.71 sec\n",
      "EvaluatorHoldout: Processed 35269 (100.0%) in 10.33 sec. Users per second: 3414\n",
      "Similarity column 38121 (100.0%), 5690.59 column/sec. Elapsed time 6.70 sec\n",
      "EvaluatorHoldout: Processed 35311 (100.0%) in 10.39 sec. Users per second: 3399\n",
      "Similarity column 38121 (100.0%), 5688.19 column/sec. Elapsed time 6.70 sec\n",
      "EvaluatorHoldout: Processed 35323 (100.0%) in 10.33 sec. Users per second: 3419\n",
      "Similarity column 38121 (100.0%), 5646.40 column/sec. Elapsed time 6.75 sec\n",
      "EvaluatorHoldout: Processed 35327 (100.0%) in 10.35 sec. Users per second: 3414\n",
      "Similarity column 38121 (100.0%), 5677.90 column/sec. Elapsed time 6.71 sec\n",
      "EvaluatorHoldout: Processed 35336 (100.0%) in 10.44 sec. Users per second: 3385\n",
      "Similarity column 38121 (100.0%), 5687.91 column/sec. Elapsed time 6.70 sec\n",
      "EvaluatorHoldout: Processed 35270 (100.0%) in 10.29 sec. Users per second: 3427\n",
      "Similarity column 38121 (100.0%), 5680.29 column/sec. Elapsed time 6.71 sec\n",
      "EvaluatorHoldout: Processed 35277 (100.0%) in 10.39 sec. Users per second: 3396\n"
     ]
    },
    {
     "name": "stderr",
     "output_type": "stream",
     "text": [
      "[I 2024-11-28 01:07:21,186] Trial 83 finished with value: 0.030735559537031953 and parameters: {'similarity': 'asymmetric', 'topK': 7, 'shrink': 17, 'asymmetric_alpha': 0.13430826065343748}. Best is trial 72 with value: 0.03074136955346731.\n"
     ]
    },
    {
     "name": "stdout",
     "output_type": "stream",
     "text": [
      "Similarity column 38121 (100.0%), 5688.24 column/sec. Elapsed time 6.70 sec\n",
      "EvaluatorHoldout: Processed 35311 (100.0%) in 10.31 sec. Users per second: 3425\n",
      "Similarity column 38121 (100.0%), 5683.44 column/sec. Elapsed time 6.71 sec\n",
      "EvaluatorHoldout: Processed 35289 (100.0%) in 10.31 sec. Users per second: 3423\n",
      "Similarity column 38121 (100.0%), 5612.77 column/sec. Elapsed time 6.79 sec\n",
      "EvaluatorHoldout: Processed 35295 (100.0%) in 10.38 sec. Users per second: 3401\n",
      "Similarity column 38121 (100.0%), 5676.27 column/sec. Elapsed time 6.72 sec\n",
      "EvaluatorHoldout: Processed 35269 (100.0%) in 10.34 sec. Users per second: 3412\n",
      "Similarity column 38121 (100.0%), 5687.69 column/sec. Elapsed time 6.70 sec\n",
      "EvaluatorHoldout: Processed 35311 (100.0%) in 10.36 sec. Users per second: 3408\n",
      "Similarity column 38121 (100.0%), 5697.07 column/sec. Elapsed time 6.69 sec\n",
      "EvaluatorHoldout: Processed 35323 (100.0%) in 10.37 sec. Users per second: 3405\n",
      "Similarity column 38121 (100.0%), 5680.40 column/sec. Elapsed time 6.71 sec\n",
      "EvaluatorHoldout: Processed 35327 (100.0%) in 10.30 sec. Users per second: 3428\n",
      "Similarity column 38121 (100.0%), 5676.79 column/sec. Elapsed time 6.72 sec\n",
      "EvaluatorHoldout: Processed 35336 (100.0%) in 10.30 sec. Users per second: 3429\n",
      "Similarity column 38121 (100.0%), 5691.71 column/sec. Elapsed time 6.70 sec\n",
      "EvaluatorHoldout: Processed 35270 (100.0%) in 10.31 sec. Users per second: 3421\n",
      "Similarity column 38121 (100.0%), 5637.08 column/sec. Elapsed time 6.76 sec\n",
      "EvaluatorHoldout: Processed 35277 (100.0%) in 10.35 sec. Users per second: 3409\n"
     ]
    },
    {
     "name": "stderr",
     "output_type": "stream",
     "text": [
      "[I 2024-11-28 01:10:12,141] Trial 84 finished with value: 0.030748464071112515 and parameters: {'similarity': 'asymmetric', 'topK': 7, 'shrink': 17, 'asymmetric_alpha': 0.12617601740578305}. Best is trial 84 with value: 0.030748464071112515.\n"
     ]
    },
    {
     "name": "stdout",
     "output_type": "stream",
     "text": [
      "Similarity column 38121 (100.0%), 5654.19 column/sec. Elapsed time 6.74 sec\n",
      "EvaluatorHoldout: Processed 35311 (100.0%) in 11.86 sec. Users per second: 2978\n",
      "Similarity column 38121 (100.0%), 5663.40 column/sec. Elapsed time 6.73 sec\n",
      "EvaluatorHoldout: Processed 35289 (100.0%) in 11.91 sec. Users per second: 2963\n",
      "Similarity column 38121 (100.0%), 5651.33 column/sec. Elapsed time 6.75 sec\n",
      "EvaluatorHoldout: Processed 35295 (100.0%) in 11.98 sec. Users per second: 2947\n",
      "Similarity column 38121 (100.0%), 5661.83 column/sec. Elapsed time 6.73 sec\n",
      "EvaluatorHoldout: Processed 35269 (100.0%) in 11.87 sec. Users per second: 2972\n",
      "Similarity column 38121 (100.0%), 5665.54 column/sec. Elapsed time 6.73 sec\n",
      "EvaluatorHoldout: Processed 35311 (100.0%) in 11.90 sec. Users per second: 2967\n",
      "Similarity column 38121 (100.0%), 5672.87 column/sec. Elapsed time 6.72 sec\n",
      "EvaluatorHoldout: Processed 35323 (100.0%) in 11.89 sec. Users per second: 2970\n",
      "Similarity column 38121 (100.0%), 5639.02 column/sec. Elapsed time 6.76 sec\n",
      "EvaluatorHoldout: Processed 35327 (100.0%) in 11.89 sec. Users per second: 2971\n",
      "Similarity column 38121 (100.0%), 5656.92 column/sec. Elapsed time 6.74 sec\n",
      "EvaluatorHoldout: Processed 35336 (100.0%) in 11.93 sec. Users per second: 2961\n",
      "Similarity column 38121 (100.0%), 5660.05 column/sec. Elapsed time 6.74 sec\n",
      "EvaluatorHoldout: Processed 35270 (100.0%) in 11.87 sec. Users per second: 2972\n",
      "Similarity column 38121 (100.0%), 5637.63 column/sec. Elapsed time 6.76 sec\n",
      "EvaluatorHoldout: Processed 35277 (100.0%) in 11.83 sec. Users per second: 2982\n"
     ]
    },
    {
     "name": "stderr",
     "output_type": "stream",
     "text": [
      "[I 2024-11-28 01:13:19,070] Trial 85 finished with value: 0.02797421363638804 and parameters: {'similarity': 'asymmetric', 'topK': 69, 'shrink': 17, 'asymmetric_alpha': 0.13741115246454066}. Best is trial 84 with value: 0.030748464071112515.\n"
     ]
    },
    {
     "name": "stdout",
     "output_type": "stream",
     "text": [
      "Similarity column 38121 (100.0%), 5649.22 column/sec. Elapsed time 6.75 sec\n",
      "EvaluatorHoldout: Processed 35311 (100.0%) in 10.38 sec. Users per second: 3403\n",
      "Similarity column 38121 (100.0%), 5675.81 column/sec. Elapsed time 6.72 sec\n",
      "EvaluatorHoldout: Processed 35289 (100.0%) in 10.39 sec. Users per second: 3396\n",
      "Similarity column 38121 (100.0%), 5685.46 column/sec. Elapsed time 6.71 sec\n",
      "EvaluatorHoldout: Processed 35295 (100.0%) in 10.40 sec. Users per second: 3393\n",
      "Similarity column 38121 (100.0%), 5692.83 column/sec. Elapsed time 6.70 sec\n",
      "EvaluatorHoldout: Processed 35269 (100.0%) in 10.43 sec. Users per second: 3380\n",
      "Similarity column 38121 (100.0%), 5689.33 column/sec. Elapsed time 6.70 sec\n",
      "EvaluatorHoldout: Processed 35311 (100.0%) in 10.44 sec. Users per second: 3383\n",
      "Similarity column 38121 (100.0%), 5701.36 column/sec. Elapsed time 6.69 sec\n",
      "EvaluatorHoldout: Processed 35323 (100.0%) in 10.40 sec. Users per second: 3396\n",
      "Similarity column 38121 (100.0%), 5680.60 column/sec. Elapsed time 6.71 sec\n",
      "EvaluatorHoldout: Processed 35327 (100.0%) in 10.40 sec. Users per second: 3397\n",
      "Similarity column 38121 (100.0%), 5679.94 column/sec. Elapsed time 6.71 sec\n",
      "EvaluatorHoldout: Processed 35336 (100.0%) in 10.41 sec. Users per second: 3396\n",
      "Similarity column 38121 (100.0%), 5688.52 column/sec. Elapsed time 6.70 sec\n",
      "EvaluatorHoldout: Processed 35270 (100.0%) in 10.42 sec. Users per second: 3384\n",
      "Similarity column 38121 (100.0%), 5681.05 column/sec. Elapsed time 6.71 sec\n",
      "EvaluatorHoldout: Processed 35277 (100.0%) in 10.20 sec. Users per second: 3460\n"
     ]
    },
    {
     "name": "stderr",
     "output_type": "stream",
     "text": [
      "[I 2024-11-28 01:16:10,449] Trial 86 finished with value: 0.03049570835231371 and parameters: {'similarity': 'asymmetric', 'topK': 10, 'shrink': 14, 'asymmetric_alpha': 0.06045193483428955}. Best is trial 84 with value: 0.030748464071112515.\n"
     ]
    },
    {
     "name": "stdout",
     "output_type": "stream",
     "text": [
      "Similarity column 38121 (100.0%), 5685.15 column/sec. Elapsed time 6.71 sec\n",
      "EvaluatorHoldout: Processed 35311 (100.0%) in 10.58 sec. Users per second: 3338\n",
      "Similarity column 38121 (100.0%), 5678.55 column/sec. Elapsed time 6.71 sec\n",
      "EvaluatorHoldout: Processed 35289 (100.0%) in 10.52 sec. Users per second: 3353\n",
      "Similarity column 38121 (100.0%), 5613.36 column/sec. Elapsed time 6.79 sec\n",
      "EvaluatorHoldout: Processed 35295 (100.0%) in 10.51 sec. Users per second: 3359\n",
      "Similarity column 38121 (100.0%), 5682.57 column/sec. Elapsed time 6.71 sec\n",
      "EvaluatorHoldout: Processed 35269 (100.0%) in 10.58 sec. Users per second: 3334\n",
      "Similarity column 38121 (100.0%), 5692.19 column/sec. Elapsed time 6.70 sec\n",
      "EvaluatorHoldout: Processed 35311 (100.0%) in 10.57 sec. Users per second: 3342\n",
      "Similarity column 38121 (100.0%), 5675.64 column/sec. Elapsed time 6.72 sec\n",
      "EvaluatorHoldout: Processed 35323 (100.0%) in 10.61 sec. Users per second: 3330\n",
      "Similarity column 38121 (100.0%), 5669.38 column/sec. Elapsed time 6.72 sec\n",
      "EvaluatorHoldout: Processed 35327 (100.0%) in 10.52 sec. Users per second: 3357\n",
      "Similarity column 38121 (100.0%), 5680.14 column/sec. Elapsed time 6.71 sec\n",
      "EvaluatorHoldout: Processed 35336 (100.0%) in 10.62 sec. Users per second: 3329\n",
      "Similarity column 38121 (100.0%), 5694.84 column/sec. Elapsed time 6.69 sec\n",
      "EvaluatorHoldout: Processed 35270 (100.0%) in 10.52 sec. Users per second: 3351\n",
      "Similarity column 38121 (100.0%), 5686.53 column/sec. Elapsed time 6.70 sec\n",
      "EvaluatorHoldout: Processed 35277 (100.0%) in 10.49 sec. Users per second: 3363\n"
     ]
    },
    {
     "name": "stderr",
     "output_type": "stream",
     "text": [
      "[I 2024-11-28 01:19:03,613] Trial 87 finished with value: 0.03009540263038189 and parameters: {'similarity': 'asymmetric', 'topK': 13, 'shrink': 23, 'asymmetric_alpha': 0.12630098055366545}. Best is trial 84 with value: 0.030748464071112515.\n"
     ]
    },
    {
     "name": "stdout",
     "output_type": "stream",
     "text": [
      "Similarity column 38121 (100.0%), 5682.21 column/sec. Elapsed time 6.71 sec\n",
      "EvaluatorHoldout: Processed 35311 (100.0%) in 10.34 sec. Users per second: 3416\n",
      "Similarity column 38121 (100.0%), 5646.13 column/sec. Elapsed time 6.75 sec\n",
      "EvaluatorHoldout: Processed 35289 (100.0%) in 10.33 sec. Users per second: 3417\n",
      "Similarity column 38121 (100.0%), 5689.59 column/sec. Elapsed time 6.70 sec\n",
      "EvaluatorHoldout: Processed 35295 (100.0%) in 10.35 sec. Users per second: 3410\n",
      "Similarity column 38121 (100.0%), 5681.11 column/sec. Elapsed time 6.71 sec\n",
      "EvaluatorHoldout: Processed 35269 (100.0%) in 10.32 sec. Users per second: 3419\n",
      "Similarity column 38121 (100.0%), 5687.74 column/sec. Elapsed time 6.70 sec\n",
      "EvaluatorHoldout: Processed 35311 (100.0%) in 10.34 sec. Users per second: 3416\n",
      "Similarity column 38121 (100.0%), 5709.99 column/sec. Elapsed time 6.68 sec\n",
      "EvaluatorHoldout: Processed 35323 (100.0%) in 10.34 sec. Users per second: 3416\n",
      "Similarity column 38121 (100.0%), 5701.05 column/sec. Elapsed time 6.69 sec\n",
      "EvaluatorHoldout: Processed 35327 (100.0%) in 10.35 sec. Users per second: 3413\n",
      "Similarity column 38121 (100.0%), 5680.31 column/sec. Elapsed time 6.71 sec\n",
      "EvaluatorHoldout: Processed 35336 (100.0%) in 10.36 sec. Users per second: 3412\n",
      "Similarity column 38121 (100.0%), 5646.43 column/sec. Elapsed time 6.75 sec\n",
      "EvaluatorHoldout: Processed 35270 (100.0%) in 10.28 sec. Users per second: 3430\n",
      "Similarity column 38121 (100.0%), 5670.87 column/sec. Elapsed time 6.72 sec\n",
      "EvaluatorHoldout: Processed 35277 (100.0%) in 10.28 sec. Users per second: 3432\n"
     ]
    },
    {
     "name": "stderr",
     "output_type": "stream",
     "text": [
      "[I 2024-11-28 01:21:54,422] Trial 88 finished with value: 0.030721925289751956 and parameters: {'similarity': 'asymmetric', 'topK': 7, 'shrink': 17, 'asymmetric_alpha': 0.1403598937711039}. Best is trial 84 with value: 0.030748464071112515.\n"
     ]
    },
    {
     "name": "stdout",
     "output_type": "stream",
     "text": [
      "Similarity column 38121 (100.0%), 5667.68 column/sec. Elapsed time 6.73 sec\n",
      "EvaluatorHoldout: Processed 35311 (100.0%) in 10.29 sec. Users per second: 3432\n",
      "Similarity column 38121 (100.0%), 5684.96 column/sec. Elapsed time 6.71 sec\n",
      "EvaluatorHoldout: Processed 35289 (100.0%) in 10.37 sec. Users per second: 3404\n",
      "Similarity column 38121 (100.0%), 5669.94 column/sec. Elapsed time 6.72 sec\n",
      "EvaluatorHoldout: Processed 35295 (100.0%) in 10.38 sec. Users per second: 3400\n",
      "Similarity column 38121 (100.0%), 5675.36 column/sec. Elapsed time 6.72 sec\n",
      "EvaluatorHoldout: Processed 35269 (100.0%) in 10.33 sec. Users per second: 3414\n",
      "Similarity column 38121 (100.0%), 5680.72 column/sec. Elapsed time 6.71 sec\n",
      "EvaluatorHoldout: Processed 35311 (100.0%) in 10.35 sec. Users per second: 3413\n",
      "Similarity column 38121 (100.0%), 5652.47 column/sec. Elapsed time 6.74 sec\n",
      "EvaluatorHoldout: Processed 35323 (100.0%) in 10.31 sec. Users per second: 3425\n",
      "Similarity column 38121 (100.0%), 5690.13 column/sec. Elapsed time 6.70 sec\n",
      "EvaluatorHoldout: Processed 35327 (100.0%) in 10.33 sec. Users per second: 3418\n",
      "Similarity column 38121 (100.0%), 5679.40 column/sec. Elapsed time 6.71 sec\n",
      "EvaluatorHoldout: Processed 35336 (100.0%) in 10.37 sec. Users per second: 3409\n",
      "Similarity column 38121 (100.0%), 5682.39 column/sec. Elapsed time 6.71 sec\n",
      "EvaluatorHoldout: Processed 35270 (100.0%) in 10.31 sec. Users per second: 3422\n",
      "Similarity column 38121 (100.0%), 5688.25 column/sec. Elapsed time 6.70 sec\n",
      "EvaluatorHoldout: Processed 35277 (100.0%) in 10.34 sec. Users per second: 3412\n"
     ]
    },
    {
     "name": "stderr",
     "output_type": "stream",
     "text": [
      "[I 2024-11-28 01:24:45,360] Trial 89 finished with value: 0.03073218019700242 and parameters: {'similarity': 'asymmetric', 'topK': 7, 'shrink': 17, 'asymmetric_alpha': 0.025984650614222227}. Best is trial 84 with value: 0.030748464071112515.\n"
     ]
    },
    {
     "name": "stdout",
     "output_type": "stream",
     "text": [
      "Similarity column 38121 (100.0%), 5689.78 column/sec. Elapsed time 6.70 sec\n",
      "EvaluatorHoldout: Processed 35311 (100.0%) in 10.29 sec. Users per second: 3431\n",
      "Similarity column 38121 (100.0%), 5683.42 column/sec. Elapsed time 6.71 sec\n",
      "EvaluatorHoldout: Processed 35289 (100.0%) in 10.31 sec. Users per second: 3424\n",
      "Similarity column 38121 (100.0%), 5683.85 column/sec. Elapsed time 6.71 sec\n",
      "EvaluatorHoldout: Processed 35295 (100.0%) in 10.26 sec. Users per second: 3439\n",
      "Similarity column 38121 (100.0%), 5647.93 column/sec. Elapsed time 6.75 sec\n",
      "EvaluatorHoldout: Processed 35269 (100.0%) in 10.31 sec. Users per second: 3421\n",
      "Similarity column 38121 (100.0%), 5675.11 column/sec. Elapsed time 6.72 sec\n",
      "EvaluatorHoldout: Processed 35311 (100.0%) in 10.39 sec. Users per second: 3400\n",
      "Similarity column 38121 (100.0%), 5700.33 column/sec. Elapsed time 6.69 sec\n",
      "EvaluatorHoldout: Processed 35323 (100.0%) in 10.34 sec. Users per second: 3415\n",
      "Similarity column 38121 (100.0%), 5656.36 column/sec. Elapsed time 6.74 sec\n",
      "EvaluatorHoldout: Processed 35327 (100.0%) in 10.35 sec. Users per second: 3414\n",
      "Similarity column 38121 (100.0%), 5685.19 column/sec. Elapsed time 6.71 sec\n",
      "EvaluatorHoldout: Processed 35336 (100.0%) in 10.29 sec. Users per second: 3432\n",
      "Similarity column 38121 (100.0%), 5678.93 column/sec. Elapsed time 6.71 sec\n",
      "EvaluatorHoldout: Processed 35270 (100.0%) in 10.31 sec. Users per second: 3420\n",
      "Similarity column 38121 (100.0%), 5696.84 column/sec. Elapsed time 6.69 sec\n",
      "EvaluatorHoldout: Processed 35277 (100.0%) in 10.25 sec. Users per second: 3443\n"
     ]
    },
    {
     "name": "stderr",
     "output_type": "stream",
     "text": [
      "[I 2024-11-28 01:27:35,986] Trial 90 finished with value: 0.030716967696395953 and parameters: {'similarity': 'asymmetric', 'topK': 7, 'shrink': 17, 'asymmetric_alpha': 0.008213282861831626}. Best is trial 84 with value: 0.030748464071112515.\n"
     ]
    },
    {
     "name": "stdout",
     "output_type": "stream",
     "text": [
      "Similarity column 38121 (100.0%), 5688.44 column/sec. Elapsed time 6.70 sec\n",
      "EvaluatorHoldout: Processed 35311 (100.0%) in 10.36 sec. Users per second: 3408\n",
      "Similarity column 38121 (100.0%), 5632.88 column/sec. Elapsed time 6.77 sec\n",
      "EvaluatorHoldout: Processed 35289 (100.0%) in 10.40 sec. Users per second: 3393\n",
      "Similarity column 38121 (100.0%), 5679.18 column/sec. Elapsed time 6.71 sec\n",
      "EvaluatorHoldout: Processed 35295 (100.0%) in 10.43 sec. Users per second: 3384\n",
      "Similarity column 38121 (100.0%), 5690.03 column/sec. Elapsed time 6.70 sec\n",
      "EvaluatorHoldout: Processed 35269 (100.0%) in 10.44 sec. Users per second: 3377\n",
      "Similarity column 38121 (100.0%), 5680.31 column/sec. Elapsed time 6.71 sec\n",
      "EvaluatorHoldout: Processed 35311 (100.0%) in 10.36 sec. Users per second: 3408\n",
      "Similarity column 38121 (100.0%), 5693.07 column/sec. Elapsed time 6.70 sec\n",
      "EvaluatorHoldout: Processed 35323 (100.0%) in 10.43 sec. Users per second: 3385\n",
      "Similarity column 38121 (100.0%), 5674.27 column/sec. Elapsed time 6.72 sec\n",
      "EvaluatorHoldout: Processed 35327 (100.0%) in 10.41 sec. Users per second: 3394\n",
      "Similarity column 38121 (100.0%), 5671.03 column/sec. Elapsed time 6.72 sec\n",
      "EvaluatorHoldout: Processed 35336 (100.0%) in 10.55 sec. Users per second: 3348\n",
      "Similarity column 38121 (100.0%), 5687.87 column/sec. Elapsed time 6.70 sec\n",
      "EvaluatorHoldout: Processed 35270 (100.0%) in 10.43 sec. Users per second: 3383\n",
      "Similarity column 38121 (100.0%), 5681.74 column/sec. Elapsed time 6.71 sec\n",
      "EvaluatorHoldout: Processed 35277 (100.0%) in 10.39 sec. Users per second: 3395\n"
     ]
    },
    {
     "name": "stderr",
     "output_type": "stream",
     "text": [
      "[I 2024-11-28 01:30:27,759] Trial 91 finished with value: 0.030452224312616977 and parameters: {'similarity': 'asymmetric', 'topK': 10, 'shrink': 17, 'asymmetric_alpha': 0.0002527113876032612}. Best is trial 84 with value: 0.030748464071112515.\n"
     ]
    },
    {
     "name": "stdout",
     "output_type": "stream",
     "text": [
      "Similarity column 38121 (100.0%), 5692.06 column/sec. Elapsed time 6.70 sec\n",
      "EvaluatorHoldout: Processed 35311 (100.0%) in 10.30 sec. Users per second: 3428\n",
      "Similarity column 38121 (100.0%), 5644.76 column/sec. Elapsed time 6.75 sec\n",
      "EvaluatorHoldout: Processed 35289 (100.0%) in 10.30 sec. Users per second: 3427\n",
      "Similarity column 38121 (100.0%), 5675.78 column/sec. Elapsed time 6.72 sec\n",
      "EvaluatorHoldout: Processed 35295 (100.0%) in 10.29 sec. Users per second: 3430\n",
      "Similarity column 38121 (100.0%), 5685.10 column/sec. Elapsed time 6.71 sec\n",
      "EvaluatorHoldout: Processed 35269 (100.0%) in 10.27 sec. Users per second: 3434\n",
      "Similarity column 38121 (100.0%), 5667.48 column/sec. Elapsed time 6.73 sec\n",
      "EvaluatorHoldout: Processed 35311 (100.0%) in 10.35 sec. Users per second: 3413\n",
      "Similarity column 38121 (100.0%), 5701.04 column/sec. Elapsed time 6.69 sec\n",
      "EvaluatorHoldout: Processed 35323 (100.0%) in 10.30 sec. Users per second: 3429\n",
      "Similarity column 38121 (100.0%), 5696.47 column/sec. Elapsed time 6.69 sec\n",
      "EvaluatorHoldout: Processed 35327 (100.0%) in 10.36 sec. Users per second: 3409\n",
      "Similarity column 38121 (100.0%), 5664.68 column/sec. Elapsed time 6.73 sec\n",
      "EvaluatorHoldout: Processed 35336 (100.0%) in 10.31 sec. Users per second: 3429\n",
      "Similarity column 38121 (100.0%), 5639.14 column/sec. Elapsed time 6.76 sec\n",
      "EvaluatorHoldout: Processed 35270 (100.0%) in 10.29 sec. Users per second: 3426\n",
      "Similarity column 38121 (100.0%), 5668.06 column/sec. Elapsed time 6.73 sec\n",
      "EvaluatorHoldout: Processed 35277 (100.0%) in 10.32 sec. Users per second: 3420\n"
     ]
    },
    {
     "name": "stderr",
     "output_type": "stream",
     "text": [
      "[I 2024-11-28 01:33:18,453] Trial 92 finished with value: 0.03072365346427989 and parameters: {'similarity': 'asymmetric', 'topK': 7, 'shrink': 15, 'asymmetric_alpha': 0.011843388064133358}. Best is trial 84 with value: 0.030748464071112515.\n"
     ]
    },
    {
     "name": "stdout",
     "output_type": "stream",
     "text": [
      "Similarity column 38121 (100.0%), 5622.10 column/sec. Elapsed time 6.78 sec\n",
      "EvaluatorHoldout: Processed 35311 (100.0%) in 10.26 sec. Users per second: 3440\n",
      "Similarity column 38121 (100.0%), 5686.98 column/sec. Elapsed time 6.70 sec\n",
      "EvaluatorHoldout: Processed 35289 (100.0%) in 10.31 sec. Users per second: 3423\n",
      "Similarity column 38121 (100.0%), 5678.85 column/sec. Elapsed time 6.71 sec\n",
      "EvaluatorHoldout: Processed 35295 (100.0%) in 10.25 sec. Users per second: 3443\n",
      "Similarity column 38121 (100.0%), 5646.97 column/sec. Elapsed time 6.75 sec\n",
      "EvaluatorHoldout: Processed 35269 (100.0%) in 10.27 sec. Users per second: 3436\n",
      "Similarity column 38121 (100.0%), 5693.07 column/sec. Elapsed time 6.70 sec\n",
      "EvaluatorHoldout: Processed 35311 (100.0%) in 10.31 sec. Users per second: 3424\n",
      "Similarity column 38121 (100.0%), 5691.67 column/sec. Elapsed time 6.70 sec\n",
      "EvaluatorHoldout: Processed 35323 (100.0%) in 10.27 sec. Users per second: 3438\n",
      "Similarity column 38121 (100.0%), 5680.11 column/sec. Elapsed time 6.71 sec\n",
      "EvaluatorHoldout: Processed 35327 (100.0%) in 10.36 sec. Users per second: 3411\n",
      "Similarity column 38121 (100.0%), 5674.06 column/sec. Elapsed time 6.72 sec\n",
      "EvaluatorHoldout: Processed 35336 (100.0%) in 10.29 sec. Users per second: 3434\n",
      "Similarity column 38121 (100.0%), 5695.93 column/sec. Elapsed time 6.69 sec\n",
      "EvaluatorHoldout: Processed 35270 (100.0%) in 10.28 sec. Users per second: 3432\n",
      "Similarity column 38121 (100.0%), 5685.17 column/sec. Elapsed time 6.71 sec\n",
      "EvaluatorHoldout: Processed 35277 (100.0%) in 10.27 sec. Users per second: 3435\n"
     ]
    },
    {
     "name": "stderr",
     "output_type": "stream",
     "text": [
      "[I 2024-11-28 01:36:08,964] Trial 93 finished with value: 0.030698488786862387 and parameters: {'similarity': 'asymmetric', 'topK': 6, 'shrink': 14, 'asymmetric_alpha': 0.011523687154233297}. Best is trial 84 with value: 0.030748464071112515.\n"
     ]
    },
    {
     "name": "stdout",
     "output_type": "stream",
     "text": [
      "Similarity column 38121 (100.0%), 5673.31 column/sec. Elapsed time 6.72 sec\n",
      "EvaluatorHoldout: Processed 35311 (100.0%) in 11.19 sec. Users per second: 3157\n",
      "Similarity column 38121 (100.0%), 5662.39 column/sec. Elapsed time 6.73 sec\n",
      "EvaluatorHoldout: Processed 35289 (100.0%) in 11.26 sec. Users per second: 3135\n",
      "Similarity column 38121 (100.0%), 5642.94 column/sec. Elapsed time 6.76 sec\n",
      "EvaluatorHoldout: Processed 35295 (100.0%) in 11.20 sec. Users per second: 3150\n",
      "Similarity column 38121 (100.0%), 5661.36 column/sec. Elapsed time 6.73 sec\n",
      "EvaluatorHoldout: Processed 35269 (100.0%) in 11.22 sec. Users per second: 3143\n",
      "Similarity column 38121 (100.0%), 5664.89 column/sec. Elapsed time 6.73 sec\n",
      "EvaluatorHoldout: Processed 35311 (100.0%) in 11.20 sec. Users per second: 3154\n",
      "Similarity column 38121 (100.0%), 5631.69 column/sec. Elapsed time 6.77 sec\n",
      "EvaluatorHoldout: Processed 35323 (100.0%) in 11.22 sec. Users per second: 3147\n",
      "Similarity column 38121 (100.0%), 5656.64 column/sec. Elapsed time 6.74 sec\n",
      "EvaluatorHoldout: Processed 35327 (100.0%) in 11.22 sec. Users per second: 3150\n",
      "Similarity column 38121 (100.0%), 5657.27 column/sec. Elapsed time 6.74 sec\n",
      "EvaluatorHoldout: Processed 35336 (100.0%) in 11.29 sec. Users per second: 3129\n",
      "Similarity column 38121 (100.0%), 5681.06 column/sec. Elapsed time 6.71 sec\n",
      "EvaluatorHoldout: Processed 35270 (100.0%) in 11.18 sec. Users per second: 3154\n",
      "Similarity column 38121 (100.0%), 5665.23 column/sec. Elapsed time 6.73 sec\n",
      "EvaluatorHoldout: Processed 35277 (100.0%) in 11.19 sec. Users per second: 3152\n"
     ]
    },
    {
     "name": "stderr",
     "output_type": "stream",
     "text": [
      "[I 2024-11-28 01:39:09,032] Trial 94 finished with value: 0.028596574383343714 and parameters: {'similarity': 'asymmetric', 'topK': 46, 'shrink': 13, 'asymmetric_alpha': 0.010159855270308011}. Best is trial 84 with value: 0.030748464071112515.\n"
     ]
    },
    {
     "name": "stdout",
     "output_type": "stream",
     "text": [
      "Similarity column 38121 (100.0%), 5688.68 column/sec. Elapsed time 6.70 sec\n",
      "EvaluatorHoldout: Processed 35311 (100.0%) in 10.25 sec. Users per second: 3446\n",
      "Similarity column 38121 (100.0%), 5692.05 column/sec. Elapsed time 6.70 sec\n",
      "EvaluatorHoldout: Processed 35289 (100.0%) in 10.32 sec. Users per second: 3419\n",
      "Similarity column 38121 (100.0%), 5688.11 column/sec. Elapsed time 6.70 sec\n",
      "EvaluatorHoldout: Processed 35295 (100.0%) in 10.31 sec. Users per second: 3424\n",
      "Similarity column 38121 (100.0%), 5672.86 column/sec. Elapsed time 6.72 sec\n",
      "EvaluatorHoldout: Processed 35269 (100.0%) in 10.32 sec. Users per second: 3417\n",
      "Similarity column 38121 (100.0%), 5686.04 column/sec. Elapsed time 6.70 sec\n",
      "EvaluatorHoldout: Processed 35311 (100.0%) in 10.29 sec. Users per second: 3433\n",
      "Similarity column 38121 (100.0%), 5657.65 column/sec. Elapsed time 6.74 sec\n",
      "EvaluatorHoldout: Processed 35323 (100.0%) in 10.30 sec. Users per second: 3429\n",
      "Similarity column 38121 (100.0%), 5686.24 column/sec. Elapsed time 6.70 sec\n",
      "EvaluatorHoldout: Processed 35327 (100.0%) in 10.27 sec. Users per second: 3441\n",
      "Similarity column 38121 (100.0%), 5674.31 column/sec. Elapsed time 6.72 sec\n",
      "EvaluatorHoldout: Processed 35336 (100.0%) in 10.38 sec. Users per second: 3405\n",
      "Similarity column 38121 (100.0%), 5693.76 column/sec. Elapsed time 6.70 sec\n",
      "EvaluatorHoldout: Processed 35270 (100.0%) in 10.36 sec. Users per second: 3404\n",
      "Similarity column 38121 (100.0%), 5690.68 column/sec. Elapsed time 6.70 sec\n",
      "EvaluatorHoldout: Processed 35277 (100.0%) in 10.33 sec. Users per second: 3414\n"
     ]
    },
    {
     "name": "stderr",
     "output_type": "stream",
     "text": [
      "[I 2024-11-28 01:41:59,660] Trial 95 finished with value: 0.030736918769751532 and parameters: {'similarity': 'asymmetric', 'topK': 6, 'shrink': 15, 'asymmetric_alpha': 0.01348436598738291}. Best is trial 84 with value: 0.030748464071112515.\n"
     ]
    },
    {
     "name": "stdout",
     "output_type": "stream",
     "text": [
      "Similarity column 38121 (100.0%), 6039.67 column/sec. Elapsed time 6.31 sec\n",
      "EvaluatorHoldout: Processed 35311 (100.0%) in 10.39 sec. Users per second: 3397\n",
      "Similarity column 38121 (100.0%), 6115.72 column/sec. Elapsed time 6.23 sec\n",
      "EvaluatorHoldout: Processed 35289 (100.0%) in 10.36 sec. Users per second: 3407\n",
      "Similarity column 38121 (100.0%), 6113.59 column/sec. Elapsed time 6.24 sec\n",
      "EvaluatorHoldout: Processed 35295 (100.0%) in 10.42 sec. Users per second: 3386\n",
      "Similarity column 38121 (100.0%), 6068.15 column/sec. Elapsed time 6.28 sec\n",
      "EvaluatorHoldout: Processed 35269 (100.0%) in 10.33 sec. Users per second: 3416\n",
      "Similarity column 38121 (100.0%), 6033.31 column/sec. Elapsed time 6.32 sec\n",
      "EvaluatorHoldout: Processed 35311 (100.0%) in 10.30 sec. Users per second: 3427\n",
      "Similarity column 38121 (100.0%), 6015.98 column/sec. Elapsed time 6.34 sec\n",
      "EvaluatorHoldout: Processed 35323 (100.0%) in 10.37 sec. Users per second: 3405\n",
      "Similarity column 38121 (100.0%), 6114.11 column/sec. Elapsed time 6.23 sec\n",
      "EvaluatorHoldout: Processed 35327 (100.0%) in 10.40 sec. Users per second: 3398\n",
      "Similarity column 38121 (100.0%), 6056.76 column/sec. Elapsed time 6.29 sec\n",
      "EvaluatorHoldout: Processed 35336 (100.0%) in 10.39 sec. Users per second: 3401\n",
      "Similarity column 38121 (100.0%), 6063.32 column/sec. Elapsed time 6.29 sec\n",
      "EvaluatorHoldout: Processed 35270 (100.0%) in 10.37 sec. Users per second: 3401\n",
      "Similarity column 38121 (100.0%), 6037.43 column/sec. Elapsed time 6.31 sec\n",
      "EvaluatorHoldout: Processed 35277 (100.0%) in 10.38 sec. Users per second: 3398\n"
     ]
    },
    {
     "name": "stderr",
     "output_type": "stream",
     "text": [
      "[I 2024-11-28 01:44:47,330] Trial 96 finished with value: 0.029333608553963282 and parameters: {'similarity': 'dice', 'topK': 6, 'shrink': 15}. Best is trial 84 with value: 0.030748464071112515.\n"
     ]
    },
    {
     "name": "stdout",
     "output_type": "stream",
     "text": [
      "Similarity column 38121 (100.0%), 5686.49 column/sec. Elapsed time 6.70 sec\n",
      "EvaluatorHoldout: Processed 35311 (100.0%) in 10.48 sec. Users per second: 3369\n",
      "Similarity column 38121 (100.0%), 5682.04 column/sec. Elapsed time 6.71 sec\n",
      "EvaluatorHoldout: Processed 35289 (100.0%) in 10.50 sec. Users per second: 3361\n",
      "Similarity column 38121 (100.0%), 5683.02 column/sec. Elapsed time 6.71 sec\n",
      "EvaluatorHoldout: Processed 35295 (100.0%) in 10.44 sec. Users per second: 3381\n",
      "Similarity column 38121 (100.0%), 5688.09 column/sec. Elapsed time 6.70 sec\n",
      "EvaluatorHoldout: Processed 35269 (100.0%) in 10.45 sec. Users per second: 3373\n",
      "Similarity column 38121 (100.0%), 5675.45 column/sec. Elapsed time 6.72 sec\n",
      "EvaluatorHoldout: Processed 35311 (100.0%) in 10.46 sec. Users per second: 3377\n",
      "Similarity column 38121 (100.0%), 5663.64 column/sec. Elapsed time 6.73 sec\n",
      "EvaluatorHoldout: Processed 35323 (100.0%) in 10.52 sec. Users per second: 3358\n",
      "Similarity column 38121 (100.0%), 5684.68 column/sec. Elapsed time 6.71 sec\n",
      "EvaluatorHoldout: Processed 35327 (100.0%) in 10.46 sec. Users per second: 3376\n",
      "Similarity column 38121 (100.0%), 5684.11 column/sec. Elapsed time 6.71 sec\n",
      "EvaluatorHoldout: Processed 35336 (100.0%) in 10.41 sec. Users per second: 3394\n",
      "Similarity column 38121 (100.0%), 5675.36 column/sec. Elapsed time 6.72 sec\n",
      "EvaluatorHoldout: Processed 35270 (100.0%) in 10.47 sec. Users per second: 3367\n",
      "Similarity column 38121 (100.0%), 5681.23 column/sec. Elapsed time 6.71 sec\n",
      "EvaluatorHoldout: Processed 35277 (100.0%) in 10.42 sec. Users per second: 3385\n"
     ]
    },
    {
     "name": "stderr",
     "output_type": "stream",
     "text": [
      "[I 2024-11-28 01:47:39,498] Trial 97 finished with value: 0.03027302316574672 and parameters: {'similarity': 'asymmetric', 'topK': 12, 'shrink': 14, 'asymmetric_alpha': 0.014706176113748236}. Best is trial 84 with value: 0.030748464071112515.\n"
     ]
    },
    {
     "name": "stdout",
     "output_type": "stream",
     "text": [
      "Similarity column 38121 (100.0%), 5882.31 column/sec. Elapsed time 6.48 sec\n",
      "EvaluatorHoldout: Processed 35311 (100.0%) in 10.59 sec. Users per second: 3333\n",
      "Similarity column 38121 (100.0%), 5871.09 column/sec. Elapsed time 6.49 sec\n",
      "EvaluatorHoldout: Processed 35289 (100.0%) in 10.57 sec. Users per second: 3339\n",
      "Similarity column 38121 (100.0%), 5884.37 column/sec. Elapsed time 6.48 sec\n",
      "EvaluatorHoldout: Processed 35295 (100.0%) in 10.56 sec. Users per second: 3342\n",
      "Similarity column 38121 (100.0%), 5888.62 column/sec. Elapsed time 6.47 sec\n",
      "EvaluatorHoldout: Processed 35269 (100.0%) in 10.62 sec. Users per second: 3321\n",
      "Similarity column 38121 (100.0%), 5897.53 column/sec. Elapsed time 6.46 sec\n",
      "EvaluatorHoldout: Processed 35311 (100.0%) in 10.58 sec. Users per second: 3339\n",
      "Similarity column 38121 (100.0%), 5851.48 column/sec. Elapsed time 6.51 sec\n",
      "EvaluatorHoldout: Processed 35323 (100.0%) in 10.61 sec. Users per second: 3330\n",
      "Similarity column 38121 (100.0%), 5885.95 column/sec. Elapsed time 6.48 sec\n",
      "EvaluatorHoldout: Processed 35327 (100.0%) in 10.56 sec. Users per second: 3345\n",
      "Similarity column 38121 (100.0%), 5883.43 column/sec. Elapsed time 6.48 sec\n",
      "EvaluatorHoldout: Processed 35336 (100.0%) in 10.58 sec. Users per second: 3341\n",
      "Similarity column 38121 (100.0%), 5891.81 column/sec. Elapsed time 6.47 sec\n",
      "EvaluatorHoldout: Processed 35270 (100.0%) in 10.67 sec. Users per second: 3304\n",
      "Similarity column 38121 (100.0%), 5884.06 column/sec. Elapsed time 6.48 sec\n",
      "EvaluatorHoldout: Processed 35277 (100.0%) in 10.60 sec. Users per second: 3328\n"
     ]
    },
    {
     "name": "stderr",
     "output_type": "stream",
     "text": [
      "[I 2024-11-28 01:50:30,653] Trial 98 finished with value: 0.028926393072549184 and parameters: {'similarity': 'cosine', 'topK': 10, 'shrink': 12}. Best is trial 84 with value: 0.030748464071112515.\n"
     ]
    },
    {
     "name": "stdout",
     "output_type": "stream",
     "text": [
      "Similarity column 38121 (100.0%), 5697.08 column/sec. Elapsed time 6.69 sec\n",
      "EvaluatorHoldout: Processed 35311 (100.0%) in 10.19 sec. Users per second: 3464\n",
      "Similarity column 38121 (100.0%), 5685.22 column/sec. Elapsed time 6.71 sec\n",
      "EvaluatorHoldout: Processed 35289 (100.0%) in 10.32 sec. Users per second: 3419\n",
      "Similarity column 38121 (100.0%), 5691.20 column/sec. Elapsed time 6.70 sec\n",
      "EvaluatorHoldout: Processed 35295 (100.0%) in 10.28 sec. Users per second: 3433\n",
      "Similarity column 38121 (100.0%), 5698.78 column/sec. Elapsed time 6.69 sec\n",
      "EvaluatorHoldout: Processed 35269 (100.0%) in 10.25 sec. Users per second: 3440\n",
      "Similarity column 38121 (100.0%), 5686.49 column/sec. Elapsed time 6.70 sec\n",
      "EvaluatorHoldout: Processed 35311 (100.0%) in 10.28 sec. Users per second: 3434\n",
      "Similarity column 38121 (100.0%), 5644.17 column/sec. Elapsed time 6.75 sec\n",
      "EvaluatorHoldout: Processed 35323 (100.0%) in 10.31 sec. Users per second: 3426\n",
      "Similarity column 38121 (100.0%), 5666.32 column/sec. Elapsed time 6.73 sec\n",
      "EvaluatorHoldout: Processed 35327 (100.0%) in 10.30 sec. Users per second: 3430\n",
      "Similarity column 38121 (100.0%), 5690.03 column/sec. Elapsed time 6.70 sec\n",
      "EvaluatorHoldout: Processed 35336 (100.0%) in 10.30 sec. Users per second: 3432\n",
      "Similarity column 38121 (100.0%), 5671.92 column/sec. Elapsed time 6.72 sec\n",
      "EvaluatorHoldout: Processed 35270 (100.0%) in 10.32 sec. Users per second: 3418\n",
      "Similarity column 38121 (100.0%), 5674.09 column/sec. Elapsed time 6.72 sec\n",
      "EvaluatorHoldout: Processed 35277 (100.0%) in 10.27 sec. Users per second: 3434\n"
     ]
    },
    {
     "name": "stderr",
     "output_type": "stream",
     "text": [
      "[I 2024-11-28 01:53:21,000] Trial 99 finished with value: 0.03077093449957048 and parameters: {'similarity': 'asymmetric', 'topK': 6, 'shrink': 16, 'asymmetric_alpha': 0.027505755116038835}. Best is trial 99 with value: 0.03077093449957048.\n"
     ]
    },
    {
     "name": "stdout",
     "output_type": "stream",
     "text": [
      "Similarity column 38121 (100.0%), 5627.78 column/sec. Elapsed time 6.77 sec\n",
      "EvaluatorHoldout: Processed 35311 (100.0%) in 11.47 sec. Users per second: 3078\n",
      "Similarity column 38121 (100.0%), 5668.34 column/sec. Elapsed time 6.73 sec\n",
      "EvaluatorHoldout: Processed 35289 (100.0%) in 11.45 sec. Users per second: 3082\n",
      "Similarity column 38121 (100.0%), 5666.22 column/sec. Elapsed time 6.73 sec\n",
      "EvaluatorHoldout: Processed 35295 (100.0%) in 11.44 sec. Users per second: 3084\n",
      "Similarity column 38121 (100.0%), 5626.99 column/sec. Elapsed time 6.77 sec\n",
      "EvaluatorHoldout: Processed 35269 (100.0%) in 11.42 sec. Users per second: 3088\n",
      "Similarity column 38121 (100.0%), 5666.79 column/sec. Elapsed time 6.73 sec\n",
      "EvaluatorHoldout: Processed 35311 (100.0%) in 11.45 sec. Users per second: 3084\n",
      "Similarity column 38121 (100.0%), 5678.42 column/sec. Elapsed time 6.71 sec\n",
      "EvaluatorHoldout: Processed 35323 (100.0%) in 11.46 sec. Users per second: 3081\n",
      "Similarity column 38121 (100.0%), 5677.02 column/sec. Elapsed time 6.71 sec\n",
      "EvaluatorHoldout: Processed 35327 (100.0%) in 11.55 sec. Users per second: 3059\n",
      "Similarity column 38121 (100.0%), 5663.70 column/sec. Elapsed time 6.73 sec\n",
      "EvaluatorHoldout: Processed 35336 (100.0%) in 11.48 sec. Users per second: 3077\n",
      "Similarity column 38121 (100.0%), 5653.80 column/sec. Elapsed time 6.74 sec\n",
      "EvaluatorHoldout: Processed 35270 (100.0%) in 11.42 sec. Users per second: 3088\n",
      "Similarity column 38121 (100.0%), 5668.03 column/sec. Elapsed time 6.73 sec\n",
      "EvaluatorHoldout: Processed 35277 (100.0%) in 11.48 sec. Users per second: 3074\n"
     ]
    },
    {
     "name": "stderr",
     "output_type": "stream",
     "text": [
      "[I 2024-11-28 01:56:23,565] Trial 100 finished with value: 0.028353893476374025 and parameters: {'similarity': 'asymmetric', 'topK': 54, 'shrink': 16, 'asymmetric_alpha': 0.027352809528190844}. Best is trial 99 with value: 0.03077093449957048.\n"
     ]
    },
    {
     "name": "stdout",
     "output_type": "stream",
     "text": [
      "Similarity column 38121 (100.0%), 5694.21 column/sec. Elapsed time 6.69 sec\n",
      "EvaluatorHoldout: Processed 35311 (100.0%) in 10.33 sec. Users per second: 3417\n",
      "Similarity column 38121 (100.0%), 5688.58 column/sec. Elapsed time 6.70 sec\n",
      "EvaluatorHoldout: Processed 35289 (100.0%) in 10.26 sec. Users per second: 3440\n",
      "Similarity column 38121 (100.0%), 5663.40 column/sec. Elapsed time 6.73 sec\n",
      "EvaluatorHoldout: Processed 35295 (100.0%) in 10.62 sec. Users per second: 3325\n",
      "Similarity column 38121 (100.0%), 5643.65 column/sec. Elapsed time 6.75 sec\n",
      "EvaluatorHoldout: Processed 35269 (100.0%) in 10.28 sec. Users per second: 3431\n",
      "Similarity column 38121 (100.0%), 5698.11 column/sec. Elapsed time 6.69 sec\n",
      "EvaluatorHoldout: Processed 35311 (100.0%) in 10.27 sec. Users per second: 3439\n",
      "Similarity column 38121 (100.0%), 5675.34 column/sec. Elapsed time 6.72 sec\n",
      "EvaluatorHoldout: Processed 35323 (100.0%) in 10.34 sec. Users per second: 3417\n",
      "Similarity column 38121 (100.0%), 5666.62 column/sec. Elapsed time 6.73 sec\n",
      "EvaluatorHoldout: Processed 35327 (100.0%) in 10.25 sec. Users per second: 3445\n",
      "Similarity column 38121 (100.0%), 5688.60 column/sec. Elapsed time 6.70 sec\n",
      "EvaluatorHoldout: Processed 35336 (100.0%) in 10.31 sec. Users per second: 3427\n",
      "Similarity column 38121 (100.0%), 5692.19 column/sec. Elapsed time 6.70 sec\n",
      "EvaluatorHoldout: Processed 35270 (100.0%) in 10.31 sec. Users per second: 3422\n",
      "Similarity column 38121 (100.0%), 5687.88 column/sec. Elapsed time 6.70 sec\n",
      "EvaluatorHoldout: Processed 35277 (100.0%) in 10.28 sec. Users per second: 3433\n"
     ]
    },
    {
     "name": "stderr",
     "output_type": "stream",
     "text": [
      "[I 2024-11-28 01:59:14,409] Trial 101 finished with value: 0.030744450237130468 and parameters: {'similarity': 'asymmetric', 'topK': 6, 'shrink': 15, 'asymmetric_alpha': 0.02063333248664806}. Best is trial 99 with value: 0.03077093449957048.\n"
     ]
    },
    {
     "name": "stdout",
     "output_type": "stream",
     "text": [
      "Similarity column 38121 (100.0%), 5688.77 column/sec. Elapsed time 6.70 sec\n",
      "EvaluatorHoldout: Processed 35311 (100.0%) in 10.26 sec. Users per second: 3441\n",
      "Similarity column 38121 (100.0%), 5692.92 column/sec. Elapsed time 6.70 sec\n",
      "EvaluatorHoldout: Processed 35289 (100.0%) in 10.25 sec. Users per second: 3443\n",
      "Similarity column 38121 (100.0%), 5690.67 column/sec. Elapsed time 6.70 sec\n",
      "EvaluatorHoldout: Processed 35295 (100.0%) in 10.32 sec. Users per second: 3420\n",
      "Similarity column 38121 (100.0%), 5688.07 column/sec. Elapsed time 6.70 sec\n",
      "EvaluatorHoldout: Processed 35269 (100.0%) in 10.30 sec. Users per second: 3423\n",
      "Similarity column 38121 (100.0%), 5700.01 column/sec. Elapsed time 6.69 sec\n",
      "EvaluatorHoldout: Processed 35311 (100.0%) in 10.28 sec. Users per second: 3435\n",
      "Similarity column 38121 (100.0%), 5685.37 column/sec. Elapsed time 6.71 sec\n",
      "EvaluatorHoldout: Processed 35323 (100.0%) in 10.29 sec. Users per second: 3434\n",
      "Similarity column 38121 (100.0%), 5640.68 column/sec. Elapsed time 6.76 sec\n",
      "EvaluatorHoldout: Processed 35327 (100.0%) in 10.28 sec. Users per second: 3435\n",
      "Similarity column 38121 (100.0%), 5678.05 column/sec. Elapsed time 6.71 sec\n",
      "EvaluatorHoldout: Processed 35336 (100.0%) in 10.29 sec. Users per second: 3433\n",
      "Similarity column 38121 (100.0%), 5681.03 column/sec. Elapsed time 6.71 sec\n",
      "EvaluatorHoldout: Processed 35270 (100.0%) in 10.25 sec. Users per second: 3440\n",
      "Similarity column 38121 (100.0%), 5696.12 column/sec. Elapsed time 6.69 sec\n",
      "EvaluatorHoldout: Processed 35277 (100.0%) in 10.29 sec. Users per second: 3429\n"
     ]
    },
    {
     "name": "stderr",
     "output_type": "stream",
     "text": [
      "[I 2024-11-28 02:02:04,709] Trial 102 finished with value: 0.030743702933589263 and parameters: {'similarity': 'asymmetric', 'topK': 6, 'shrink': 15, 'asymmetric_alpha': 0.02281043604175397}. Best is trial 99 with value: 0.03077093449957048.\n"
     ]
    },
    {
     "name": "stdout",
     "output_type": "stream",
     "text": [
      "Similarity column 38121 (100.0%), 5682.39 column/sec. Elapsed time 6.71 sec\n",
      "EvaluatorHoldout: Processed 35311 (100.0%) in 10.38 sec. Users per second: 3403\n",
      "Similarity column 38121 (100.0%), 5682.33 column/sec. Elapsed time 6.71 sec\n",
      "EvaluatorHoldout: Processed 35289 (100.0%) in 10.35 sec. Users per second: 3410\n",
      "Similarity column 38121 (100.0%), 5684.17 column/sec. Elapsed time 6.71 sec\n",
      "EvaluatorHoldout: Processed 35295 (100.0%) in 10.44 sec. Users per second: 3382\n",
      "Similarity column 38121 (100.0%), 5667.78 column/sec. Elapsed time 6.73 sec\n",
      "EvaluatorHoldout: Processed 35269 (100.0%) in 10.37 sec. Users per second: 3402\n",
      "Similarity column 38121 (100.0%), 5674.27 column/sec. Elapsed time 6.72 sec\n",
      "EvaluatorHoldout: Processed 35311 (100.0%) in 10.42 sec. Users per second: 3390\n",
      "Similarity column 38121 (100.0%), 5692.03 column/sec. Elapsed time 6.70 sec\n",
      "EvaluatorHoldout: Processed 35323 (100.0%) in 10.47 sec. Users per second: 3373\n",
      "Similarity column 38121 (100.0%), 5692.89 column/sec. Elapsed time 6.70 sec\n",
      "EvaluatorHoldout: Processed 35327 (100.0%) in 10.39 sec. Users per second: 3400\n",
      "Similarity column 38121 (100.0%), 5671.08 column/sec. Elapsed time 6.72 sec\n",
      "EvaluatorHoldout: Processed 35336 (100.0%) in 10.42 sec. Users per second: 3392\n",
      "Similarity column 38121 (100.0%), 5648.96 column/sec. Elapsed time 6.75 sec\n",
      "EvaluatorHoldout: Processed 35270 (100.0%) in 10.40 sec. Users per second: 3393\n",
      "Similarity column 38121 (100.0%), 5695.25 column/sec. Elapsed time 6.69 sec\n",
      "EvaluatorHoldout: Processed 35277 (100.0%) in 10.43 sec. Users per second: 3383\n"
     ]
    },
    {
     "name": "stderr",
     "output_type": "stream",
     "text": [
      "[I 2024-11-28 02:04:56,379] Trial 103 finished with value: 0.03029335162800369 and parameters: {'similarity': 'asymmetric', 'topK': 11, 'shrink': 12, 'asymmetric_alpha': 0.025081345023854968}. Best is trial 99 with value: 0.03077093449957048.\n"
     ]
    },
    {
     "name": "stdout",
     "output_type": "stream",
     "text": [
      "Similarity column 38121 (100.0%), 5676.24 column/sec. Elapsed time 6.72 sec\n",
      "EvaluatorHoldout: Processed 35311 (100.0%) in 10.27 sec. Users per second: 3437\n",
      "Similarity column 38121 (100.0%), 5687.81 column/sec. Elapsed time 6.70 sec\n",
      "EvaluatorHoldout: Processed 35289 (100.0%) in 10.30 sec. Users per second: 3426\n",
      "Similarity column 38121 (100.0%), 5688.14 column/sec. Elapsed time 6.70 sec\n",
      "EvaluatorHoldout: Processed 35295 (100.0%) in 10.24 sec. Users per second: 3447\n",
      "Similarity column 38121 (100.0%), 5647.11 column/sec. Elapsed time 6.75 sec\n",
      "EvaluatorHoldout: Processed 35269 (100.0%) in 10.26 sec. Users per second: 3438\n",
      "Similarity column 38121 (100.0%), 5690.42 column/sec. Elapsed time 6.70 sec\n",
      "EvaluatorHoldout: Processed 35311 (100.0%) in 10.29 sec. Users per second: 3430\n",
      "Similarity column 38121 (100.0%), 5702.98 column/sec. Elapsed time 6.68 sec\n",
      "EvaluatorHoldout: Processed 35323 (100.0%) in 10.30 sec. Users per second: 3430\n",
      "Similarity column 38121 (100.0%), 5685.06 column/sec. Elapsed time 6.71 sec\n",
      "EvaluatorHoldout: Processed 35327 (100.0%) in 10.38 sec. Users per second: 3404\n",
      "Similarity column 38121 (100.0%), 5679.72 column/sec. Elapsed time 6.71 sec\n",
      "EvaluatorHoldout: Processed 35336 (100.0%) in 10.28 sec. Users per second: 3436\n",
      "Similarity column 38121 (100.0%), 5713.82 column/sec. Elapsed time 6.67 sec\n",
      "EvaluatorHoldout: Processed 35270 (100.0%) in 10.27 sec. Users per second: 3435\n",
      "Similarity column 38121 (100.0%), 5694.31 column/sec. Elapsed time 6.69 sec\n",
      "EvaluatorHoldout: Processed 35277 (100.0%) in 10.33 sec. Users per second: 3416\n"
     ]
    },
    {
     "name": "stderr",
     "output_type": "stream",
     "text": [
      "[I 2024-11-28 02:07:46,763] Trial 104 finished with value: 0.030770419574461565 and parameters: {'similarity': 'asymmetric', 'topK': 6, 'shrink': 15, 'asymmetric_alpha': 0.042853918330983766}. Best is trial 99 with value: 0.03077093449957048.\n"
     ]
    },
    {
     "name": "stdout",
     "output_type": "stream",
     "text": [
      "Similarity column 38121 (100.0%), 5650.87 column/sec. Elapsed time 6.75 sec\n",
      "EvaluatorHoldout: Processed 35311 (100.0%) in 10.27 sec. Users per second: 3439\n",
      "Similarity column 38121 (100.0%), 5692.55 column/sec. Elapsed time 6.70 sec\n",
      "EvaluatorHoldout: Processed 35289 (100.0%) in 10.31 sec. Users per second: 3422\n",
      "Similarity column 38121 (100.0%), 5677.09 column/sec. Elapsed time 6.71 sec\n",
      "EvaluatorHoldout: Processed 35295 (100.0%) in 10.23 sec. Users per second: 3449\n",
      "Similarity column 38121 (100.0%), 5689.44 column/sec. Elapsed time 6.70 sec\n",
      "EvaluatorHoldout: Processed 35269 (100.0%) in 10.26 sec. Users per second: 3437\n",
      "Similarity column 38121 (100.0%), 5678.93 column/sec. Elapsed time 6.71 sec\n",
      "EvaluatorHoldout: Processed 35311 (100.0%) in 10.21 sec. Users per second: 3458\n",
      "Similarity column 38121 (100.0%), 5668.89 column/sec. Elapsed time 6.72 sec\n",
      "EvaluatorHoldout: Processed 35323 (100.0%) in 10.28 sec. Users per second: 3436\n",
      "Similarity column 38121 (100.0%), 5683.58 column/sec. Elapsed time 6.71 sec\n",
      "EvaluatorHoldout: Processed 35327 (100.0%) in 10.29 sec. Users per second: 3433\n",
      "Similarity column 38121 (100.0%), 5673.93 column/sec. Elapsed time 6.72 sec\n",
      "EvaluatorHoldout: Processed 35336 (100.0%) in 10.31 sec. Users per second: 3427\n",
      "Similarity column 38121 (100.0%), 5639.74 column/sec. Elapsed time 6.76 sec\n",
      "EvaluatorHoldout: Processed 35270 (100.0%) in 10.29 sec. Users per second: 3428\n",
      "Similarity column 38121 (100.0%), 5685.99 column/sec. Elapsed time 6.70 sec\n",
      "EvaluatorHoldout: Processed 35277 (100.0%) in 10.26 sec. Users per second: 3440\n"
     ]
    },
    {
     "name": "stderr",
     "output_type": "stream",
     "text": [
      "[I 2024-11-28 02:10:37,125] Trial 105 finished with value: 0.030772534046485507 and parameters: {'similarity': 'asymmetric', 'topK': 6, 'shrink': 15, 'asymmetric_alpha': 0.037763980930551}. Best is trial 105 with value: 0.030772534046485507.\n"
     ]
    },
    {
     "name": "stdout",
     "output_type": "stream",
     "text": [
      "Similarity column 38121 (100.0%), 5691.76 column/sec. Elapsed time 6.70 sec\n",
      "EvaluatorHoldout: Processed 35311 (100.0%) in 10.26 sec. Users per second: 3441\n",
      "Similarity column 38121 (100.0%), 5675.16 column/sec. Elapsed time 6.72 sec\n",
      "EvaluatorHoldout: Processed 35289 (100.0%) in 10.21 sec. Users per second: 3455\n",
      "Similarity column 38121 (100.0%), 5685.14 column/sec. Elapsed time 6.71 sec\n",
      "EvaluatorHoldout: Processed 35295 (100.0%) in 10.30 sec. Users per second: 3425\n",
      "Similarity column 38121 (100.0%), 5640.25 column/sec. Elapsed time 6.76 sec\n",
      "EvaluatorHoldout: Processed 35269 (100.0%) in 10.25 sec. Users per second: 3440\n",
      "Similarity column 38121 (100.0%), 5689.91 column/sec. Elapsed time 6.70 sec\n",
      "EvaluatorHoldout: Processed 35311 (100.0%) in 10.25 sec. Users per second: 3445\n",
      "Similarity column 38121 (100.0%), 5710.53 column/sec. Elapsed time 6.68 sec\n",
      "EvaluatorHoldout: Processed 35323 (100.0%) in 10.28 sec. Users per second: 3436\n",
      "Similarity column 38121 (100.0%), 5695.19 column/sec. Elapsed time 6.69 sec\n",
      "EvaluatorHoldout: Processed 35327 (100.0%) in 10.27 sec. Users per second: 3440\n",
      "Similarity column 38121 (100.0%), 5637.30 column/sec. Elapsed time 6.76 sec\n",
      "EvaluatorHoldout: Processed 35336 (100.0%) in 10.27 sec. Users per second: 3440\n",
      "Similarity column 38121 (100.0%), 5675.06 column/sec. Elapsed time 6.72 sec\n",
      "EvaluatorHoldout: Processed 35270 (100.0%) in 10.19 sec. Users per second: 3463\n",
      "Similarity column 38121 (100.0%), 5674.83 column/sec. Elapsed time 6.72 sec\n",
      "EvaluatorHoldout: Processed 35277 (100.0%) in 10.31 sec. Users per second: 3422\n"
     ]
    },
    {
     "name": "stderr",
     "output_type": "stream",
     "text": [
      "[I 2024-11-28 02:13:27,286] Trial 106 finished with value: 0.030769425133122995 and parameters: {'similarity': 'asymmetric', 'topK': 5, 'shrink': 16, 'asymmetric_alpha': 0.04241594608984876}. Best is trial 105 with value: 0.030772534046485507.\n"
     ]
    },
    {
     "name": "stdout",
     "output_type": "stream",
     "text": [
      "Similarity column 38121 (100.0%), 5692.19 column/sec. Elapsed time 6.70 sec\n",
      "EvaluatorHoldout: Processed 35311 (100.0%) in 10.28 sec. Users per second: 3435\n",
      "Similarity column 38121 (100.0%), 5688.53 column/sec. Elapsed time 6.70 sec\n",
      "EvaluatorHoldout: Processed 35289 (100.0%) in 10.26 sec. Users per second: 3440\n",
      "Similarity column 38121 (100.0%), 5690.18 column/sec. Elapsed time 6.70 sec\n",
      "EvaluatorHoldout: Processed 35295 (100.0%) in 10.26 sec. Users per second: 3439\n",
      "Similarity column 38121 (100.0%), 5675.94 column/sec. Elapsed time 6.72 sec\n",
      "EvaluatorHoldout: Processed 35269 (100.0%) in 10.23 sec. Users per second: 3449\n",
      "Similarity column 38121 (100.0%), 5684.90 column/sec. Elapsed time 6.71 sec\n",
      "EvaluatorHoldout: Processed 35311 (100.0%) in 10.27 sec. Users per second: 3440\n",
      "Similarity column 38121 (100.0%), 5703.64 column/sec. Elapsed time 6.68 sec\n",
      "EvaluatorHoldout: Processed 35323 (100.0%) in 10.31 sec. Users per second: 3427\n",
      "Similarity column 38121 (100.0%), 5690.96 column/sec. Elapsed time 6.70 sec\n",
      "EvaluatorHoldout: Processed 35327 (100.0%) in 10.28 sec. Users per second: 3436\n",
      "Similarity column 38121 (100.0%), 5684.74 column/sec. Elapsed time 6.71 sec\n",
      "EvaluatorHoldout: Processed 35336 (100.0%) in 10.27 sec. Users per second: 3441\n",
      "Similarity column 38121 (100.0%), 5698.45 column/sec. Elapsed time 6.69 sec\n",
      "EvaluatorHoldout: Processed 35270 (100.0%) in 10.24 sec. Users per second: 3445\n",
      "Similarity column 38121 (100.0%), 5649.18 column/sec. Elapsed time 6.75 sec\n",
      "EvaluatorHoldout: Processed 35277 (100.0%) in 10.27 sec. Users per second: 3437\n"
     ]
    },
    {
     "name": "stderr",
     "output_type": "stream",
     "text": [
      "[I 2024-11-28 02:16:17,441] Trial 107 finished with value: 0.030701864143761803 and parameters: {'similarity': 'asymmetric', 'topK': 5, 'shrink': 13, 'asymmetric_alpha': 0.04866124181384188}. Best is trial 105 with value: 0.030772534046485507.\n"
     ]
    },
    {
     "name": "stdout",
     "output_type": "stream",
     "text": [
      "Similarity column 38121 (100.0%), 5687.29 column/sec. Elapsed time 6.70 sec\n",
      "EvaluatorHoldout: Processed 35311 (100.0%) in 10.46 sec. Users per second: 3375\n",
      "Similarity column 38121 (100.0%), 5678.06 column/sec. Elapsed time 6.71 sec\n",
      "EvaluatorHoldout: Processed 35289 (100.0%) in 10.51 sec. Users per second: 3357\n",
      "Similarity column 38121 (100.0%), 5683.50 column/sec. Elapsed time 6.71 sec\n",
      "EvaluatorHoldout: Processed 35295 (100.0%) in 10.52 sec. Users per second: 3356\n",
      "Similarity column 38121 (100.0%), 5620.90 column/sec. Elapsed time 6.78 sec\n",
      "EvaluatorHoldout: Processed 35269 (100.0%) in 10.50 sec. Users per second: 3358\n",
      "Similarity column 38121 (100.0%), 5676.80 column/sec. Elapsed time 6.72 sec\n",
      "EvaluatorHoldout: Processed 35311 (100.0%) in 10.47 sec. Users per second: 3373\n",
      "Similarity column 38121 (100.0%), 5692.66 column/sec. Elapsed time 6.70 sec\n",
      "EvaluatorHoldout: Processed 35323 (100.0%) in 10.55 sec. Users per second: 3348\n",
      "Similarity column 38121 (100.0%), 5676.86 column/sec. Elapsed time 6.72 sec\n",
      "EvaluatorHoldout: Processed 35327 (100.0%) in 10.55 sec. Users per second: 3347\n",
      "Similarity column 38121 (100.0%), 5683.25 column/sec. Elapsed time 6.71 sec\n",
      "EvaluatorHoldout: Processed 35336 (100.0%) in 10.52 sec. Users per second: 3358\n",
      "Similarity column 38121 (100.0%), 5695.33 column/sec. Elapsed time 6.69 sec\n",
      "EvaluatorHoldout: Processed 35270 (100.0%) in 10.53 sec. Users per second: 3350\n",
      "Similarity column 38121 (100.0%), 5670.06 column/sec. Elapsed time 6.72 sec\n",
      "EvaluatorHoldout: Processed 35277 (100.0%) in 10.51 sec. Users per second: 3355\n"
     ]
    },
    {
     "name": "stderr",
     "output_type": "stream",
     "text": [
      "[I 2024-11-28 02:19:10,163] Trial 108 finished with value: 0.030237251303322436 and parameters: {'similarity': 'asymmetric', 'topK': 13, 'shrink': 15, 'asymmetric_alpha': 0.03979006984190766}. Best is trial 105 with value: 0.030772534046485507.\n"
     ]
    },
    {
     "name": "stdout",
     "output_type": "stream",
     "text": [
      "Similarity column 38121 (100.0%), 5681.34 column/sec. Elapsed time 6.71 sec\n",
      "EvaluatorHoldout: Processed 35311 (100.0%) in 10.33 sec. Users per second: 3419\n",
      "Similarity column 38121 (100.0%), 5670.09 column/sec. Elapsed time 6.72 sec\n",
      "EvaluatorHoldout: Processed 35289 (100.0%) in 10.36 sec. Users per second: 3407\n",
      "Similarity column 38121 (100.0%), 5648.28 column/sec. Elapsed time 6.75 sec\n",
      "EvaluatorHoldout: Processed 35295 (100.0%) in 10.37 sec. Users per second: 3403\n",
      "Similarity column 38121 (100.0%), 5691.82 column/sec. Elapsed time 6.70 sec\n",
      "EvaluatorHoldout: Processed 35269 (100.0%) in 10.37 sec. Users per second: 3400\n",
      "Similarity column 38121 (100.0%), 5681.74 column/sec. Elapsed time 6.71 sec\n",
      "EvaluatorHoldout: Processed 35311 (100.0%) in 10.36 sec. Users per second: 3407\n",
      "Similarity column 38121 (100.0%), 5699.92 column/sec. Elapsed time 6.69 sec\n",
      "EvaluatorHoldout: Processed 35323 (100.0%) in 10.39 sec. Users per second: 3398\n",
      "Similarity column 38121 (100.0%), 5694.60 column/sec. Elapsed time 6.69 sec\n",
      "EvaluatorHoldout: Processed 35327 (100.0%) in 10.38 sec. Users per second: 3403\n",
      "Similarity column 38121 (100.0%), 5671.09 column/sec. Elapsed time 6.72 sec\n",
      "EvaluatorHoldout: Processed 35336 (100.0%) in 10.40 sec. Users per second: 3398\n",
      "Similarity column 38121 (100.0%), 5699.77 column/sec. Elapsed time 6.69 sec\n",
      "EvaluatorHoldout: Processed 35270 (100.0%) in 10.39 sec. Users per second: 3396\n",
      "Similarity column 38121 (100.0%), 5680.64 column/sec. Elapsed time 6.71 sec\n",
      "EvaluatorHoldout: Processed 35277 (100.0%) in 10.35 sec. Users per second: 3409\n"
     ]
    },
    {
     "name": "stderr",
     "output_type": "stream",
     "text": [
      "[I 2024-11-28 02:22:01,397] Trial 109 finished with value: 0.030497984239711857 and parameters: {'similarity': 'asymmetric', 'topK': 9, 'shrink': 12, 'asymmetric_alpha': 0.03649094732855439}. Best is trial 105 with value: 0.030772534046485507.\n"
     ]
    },
    {
     "name": "stdout",
     "output_type": "stream",
     "text": [
      "Similarity column 38121 (100.0%), 5697.29 column/sec. Elapsed time 6.69 sec\n",
      "EvaluatorHoldout: Processed 35311 (100.0%) in 10.23 sec. Users per second: 3450\n",
      "Similarity column 38121 (100.0%), 5688.88 column/sec. Elapsed time 6.70 sec\n",
      "EvaluatorHoldout: Processed 35289 (100.0%) in 10.19 sec. Users per second: 3463\n",
      "Similarity column 38121 (100.0%), 5687.91 column/sec. Elapsed time 6.70 sec\n",
      "EvaluatorHoldout: Processed 35295 (100.0%) in 10.34 sec. Users per second: 3414\n",
      "Similarity column 38121 (100.0%), 5683.56 column/sec. Elapsed time 6.71 sec\n",
      "EvaluatorHoldout: Processed 35269 (100.0%) in 10.25 sec. Users per second: 3440\n",
      "Similarity column 38121 (100.0%), 5679.64 column/sec. Elapsed time 6.71 sec\n",
      "EvaluatorHoldout: Processed 35311 (100.0%) in 10.32 sec. Users per second: 3420\n",
      "Similarity column 38121 (100.0%), 5709.96 column/sec. Elapsed time 6.68 sec\n",
      "EvaluatorHoldout: Processed 35323 (100.0%) in 10.31 sec. Users per second: 3427\n",
      "Similarity column 38121 (100.0%), 5691.40 column/sec. Elapsed time 6.70 sec\n",
      "EvaluatorHoldout: Processed 35327 (100.0%) in 10.32 sec. Users per second: 3425\n",
      "Similarity column 38121 (100.0%), 5678.03 column/sec. Elapsed time 6.71 sec\n",
      "EvaluatorHoldout: Processed 35336 (100.0%) in 10.24 sec. Users per second: 3452\n",
      "Similarity column 38121 (100.0%), 5653.45 column/sec. Elapsed time 6.74 sec\n",
      "EvaluatorHoldout: Processed 35270 (100.0%) in 10.20 sec. Users per second: 3458\n",
      "Similarity column 38121 (100.0%), 5696.84 column/sec. Elapsed time 6.69 sec\n",
      "EvaluatorHoldout: Processed 35277 (100.0%) in 10.27 sec. Users per second: 3436\n"
     ]
    },
    {
     "name": "stderr",
     "output_type": "stream",
     "text": [
      "[I 2024-11-28 02:24:51,522] Trial 110 finished with value: 0.030688549775712733 and parameters: {'similarity': 'asymmetric', 'topK': 5, 'shrink': 14, 'asymmetric_alpha': 0.018604556682914955}. Best is trial 105 with value: 0.030772534046485507.\n"
     ]
    },
    {
     "name": "stdout",
     "output_type": "stream",
     "text": [
      "Similarity column 38121 (100.0%), 5693.39 column/sec. Elapsed time 6.70 sec\n",
      "EvaluatorHoldout: Processed 35311 (100.0%) in 10.38 sec. Users per second: 3403\n",
      "Similarity column 38121 (100.0%), 5681.48 column/sec. Elapsed time 6.71 sec\n",
      "EvaluatorHoldout: Processed 35289 (100.0%) in 10.48 sec. Users per second: 3369\n",
      "Similarity column 38121 (100.0%), 5690.94 column/sec. Elapsed time 6.70 sec\n",
      "EvaluatorHoldout: Processed 35295 (100.0%) in 10.36 sec. Users per second: 3407\n",
      "Similarity column 38121 (100.0%), 5691.57 column/sec. Elapsed time 6.70 sec\n",
      "EvaluatorHoldout: Processed 35269 (100.0%) in 10.32 sec. Users per second: 3419\n",
      "Similarity column 38121 (100.0%), 5690.79 column/sec. Elapsed time 6.70 sec\n",
      "EvaluatorHoldout: Processed 35311 (100.0%) in 10.45 sec. Users per second: 3378\n",
      "Similarity column 38121 (100.0%), 5695.49 column/sec. Elapsed time 6.69 sec\n",
      "EvaluatorHoldout: Processed 35323 (100.0%) in 10.43 sec. Users per second: 3386\n",
      "Similarity column 38121 (100.0%), 5692.35 column/sec. Elapsed time 6.70 sec\n",
      "EvaluatorHoldout: Processed 35327 (100.0%) in 10.45 sec. Users per second: 3380\n",
      "Similarity column 38121 (100.0%), 5674.51 column/sec. Elapsed time 6.72 sec\n",
      "EvaluatorHoldout: Processed 35336 (100.0%) in 10.45 sec. Users per second: 3382\n",
      "Similarity column 38121 (100.0%), 5688.83 column/sec. Elapsed time 6.70 sec\n",
      "EvaluatorHoldout: Processed 35270 (100.0%) in 10.39 sec. Users per second: 3393\n",
      "Similarity column 38121 (100.0%), 5686.29 column/sec. Elapsed time 6.70 sec\n",
      "EvaluatorHoldout: Processed 35277 (100.0%) in 10.40 sec. Users per second: 3393\n"
     ]
    },
    {
     "name": "stderr",
     "output_type": "stream",
     "text": [
      "[I 2024-11-28 02:27:43,084] Trial 111 finished with value: 0.030484912983980393 and parameters: {'similarity': 'asymmetric', 'topK': 10, 'shrink': 16, 'asymmetric_alpha': 0.02779818792701327}. Best is trial 105 with value: 0.030772534046485507.\n"
     ]
    },
    {
     "name": "stdout",
     "output_type": "stream",
     "text": [
      "Similarity column 38121 (100.0%), 5692.15 column/sec. Elapsed time 6.70 sec\n",
      "EvaluatorHoldout: Processed 35311 (100.0%) in 10.31 sec. Users per second: 3425\n",
      "Similarity column 38121 (100.0%), 5637.50 column/sec. Elapsed time 6.76 sec\n",
      "EvaluatorHoldout: Processed 35289 (100.0%) in 10.31 sec. Users per second: 3422\n",
      "Similarity column 38121 (100.0%), 5614.78 column/sec. Elapsed time 6.79 sec\n",
      "EvaluatorHoldout: Processed 35295 (100.0%) in 10.28 sec. Users per second: 3432\n",
      "Similarity column 38121 (100.0%), 5642.41 column/sec. Elapsed time 6.76 sec\n",
      "EvaluatorHoldout: Processed 35269 (100.0%) in 10.32 sec. Users per second: 3417\n",
      "Similarity column 38121 (100.0%), 5691.45 column/sec. Elapsed time 6.70 sec\n",
      "EvaluatorHoldout: Processed 35311 (100.0%) in 10.28 sec. Users per second: 3435\n",
      "Similarity column 38121 (100.0%), 5696.09 column/sec. Elapsed time 6.69 sec\n",
      "EvaluatorHoldout: Processed 35323 (100.0%) in 10.33 sec. Users per second: 3419\n",
      "Similarity column 38121 (100.0%), 5646.92 column/sec. Elapsed time 6.75 sec\n",
      "EvaluatorHoldout: Processed 35327 (100.0%) in 10.34 sec. Users per second: 3418\n",
      "Similarity column 38121 (100.0%), 5681.52 column/sec. Elapsed time 6.71 sec\n",
      "EvaluatorHoldout: Processed 35336 (100.0%) in 10.33 sec. Users per second: 3421\n",
      "Similarity column 38121 (100.0%), 5688.61 column/sec. Elapsed time 6.70 sec\n",
      "EvaluatorHoldout: Processed 35270 (100.0%) in 10.32 sec. Users per second: 3419\n",
      "Similarity column 38121 (100.0%), 5681.56 column/sec. Elapsed time 6.71 sec\n",
      "EvaluatorHoldout: Processed 35277 (100.0%) in 10.39 sec. Users per second: 3394\n"
     ]
    },
    {
     "name": "stderr",
     "output_type": "stream",
     "text": [
      "[I 2024-11-28 02:30:33,976] Trial 112 finished with value: 0.030737170310798406 and parameters: {'similarity': 'asymmetric', 'topK': 6, 'shrink': 22, 'asymmetric_alpha': 0.04365176808359613}. Best is trial 105 with value: 0.030772534046485507.\n"
     ]
    },
    {
     "name": "stdout",
     "output_type": "stream",
     "text": [
      "Similarity column 38121 (100.0%), 5688.37 column/sec. Elapsed time 6.70 sec\n",
      "EvaluatorHoldout: Processed 35311 (100.0%) in 10.31 sec. Users per second: 3425\n",
      "Similarity column 38121 (100.0%), 5691.58 column/sec. Elapsed time 6.70 sec\n",
      "EvaluatorHoldout: Processed 35289 (100.0%) in 10.29 sec. Users per second: 3430\n",
      "Similarity column 38121 (100.0%), 5638.98 column/sec. Elapsed time 6.76 sec\n",
      "EvaluatorHoldout: Processed 35295 (100.0%) in 10.29 sec. Users per second: 3429\n",
      "Similarity column 38121 (100.0%), 5692.34 column/sec. Elapsed time 6.70 sec\n",
      "EvaluatorHoldout: Processed 35269 (100.0%) in 10.31 sec. Users per second: 3422\n",
      "Similarity column 38121 (100.0%), 5677.84 column/sec. Elapsed time 6.71 sec\n",
      "EvaluatorHoldout: Processed 35311 (100.0%) in 10.31 sec. Users per second: 3425\n",
      "Similarity column 38121 (100.0%), 5636.00 column/sec. Elapsed time 6.76 sec\n",
      "EvaluatorHoldout: Processed 35323 (100.0%) in 10.33 sec. Users per second: 3420\n",
      "Similarity column 38121 (100.0%), 5692.40 column/sec. Elapsed time 6.70 sec\n",
      "EvaluatorHoldout: Processed 35327 (100.0%) in 10.30 sec. Users per second: 3429\n",
      "Similarity column 38121 (100.0%), 5680.65 column/sec. Elapsed time 6.71 sec\n",
      "EvaluatorHoldout: Processed 35336 (100.0%) in 10.27 sec. Users per second: 3440\n",
      "Similarity column 38121 (100.0%), 5686.19 column/sec. Elapsed time 6.70 sec\n",
      "EvaluatorHoldout: Processed 35270 (100.0%) in 10.30 sec. Users per second: 3423\n",
      "Similarity column 38121 (100.0%), 5677.91 column/sec. Elapsed time 6.71 sec\n",
      "EvaluatorHoldout: Processed 35277 (100.0%) in 10.30 sec. Users per second: 3424\n"
     ]
    },
    {
     "name": "stderr",
     "output_type": "stream",
     "text": [
      "[I 2024-11-28 02:33:24,571] Trial 113 finished with value: 0.030735937822646286 and parameters: {'similarity': 'asymmetric', 'topK': 6, 'shrink': 22, 'asymmetric_alpha': 0.0453156937557121}. Best is trial 105 with value: 0.030772534046485507.\n"
     ]
    },
    {
     "name": "stdout",
     "output_type": "stream",
     "text": [
      "Similarity column 38121 (100.0%), 5640.63 column/sec. Elapsed time 6.76 sec\n",
      "EvaluatorHoldout: Processed 35311 (100.0%) in 10.30 sec. Users per second: 3427\n",
      "Similarity column 38121 (100.0%), 5694.31 column/sec. Elapsed time 6.69 sec\n",
      "EvaluatorHoldout: Processed 35289 (100.0%) in 10.27 sec. Users per second: 3435\n",
      "Similarity column 38121 (100.0%), 5681.87 column/sec. Elapsed time 6.71 sec\n",
      "EvaluatorHoldout: Processed 35295 (100.0%) in 10.32 sec. Users per second: 3419\n",
      "Similarity column 38121 (100.0%), 5643.20 column/sec. Elapsed time 6.76 sec\n",
      "EvaluatorHoldout: Processed 35269 (100.0%) in 10.20 sec. Users per second: 3459\n",
      "Similarity column 38121 (100.0%), 5693.26 column/sec. Elapsed time 6.70 sec\n",
      "EvaluatorHoldout: Processed 35311 (100.0%) in 10.19 sec. Users per second: 3466\n",
      "Similarity column 38121 (100.0%), 5708.87 column/sec. Elapsed time 6.68 sec\n",
      "EvaluatorHoldout: Processed 35323 (100.0%) in 10.26 sec. Users per second: 3443\n",
      "Similarity column 38121 (100.0%), 5689.74 column/sec. Elapsed time 6.70 sec\n",
      "EvaluatorHoldout: Processed 35327 (100.0%) in 10.35 sec. Users per second: 3413\n",
      "Similarity column 38121 (100.0%), 5692.34 column/sec. Elapsed time 6.70 sec\n",
      "EvaluatorHoldout: Processed 35336 (100.0%) in 10.29 sec. Users per second: 3433\n",
      "Similarity column 38121 (100.0%), 5698.64 column/sec. Elapsed time 6.69 sec\n",
      "EvaluatorHoldout: Processed 35270 (100.0%) in 10.28 sec. Users per second: 3432\n",
      "Similarity column 38121 (100.0%), 5636.13 column/sec. Elapsed time 6.76 sec\n",
      "EvaluatorHoldout: Processed 35277 (100.0%) in 10.27 sec. Users per second: 3435\n"
     ]
    },
    {
     "name": "stderr",
     "output_type": "stream",
     "text": [
      "[I 2024-11-28 02:36:14,858] Trial 114 finished with value: 0.030733888836012958 and parameters: {'similarity': 'asymmetric', 'topK': 5, 'shrink': 22, 'asymmetric_alpha': 0.04818342645949031}. Best is trial 105 with value: 0.030772534046485507.\n"
     ]
    },
    {
     "name": "stdout",
     "output_type": "stream",
     "text": [
      "Similarity column 38121 (100.0%), 5676.64 column/sec. Elapsed time 6.72 sec\n",
      "EvaluatorHoldout: Processed 35311 (100.0%) in 11.08 sec. Users per second: 3187\n",
      "Similarity column 38121 (100.0%), 5675.22 column/sec. Elapsed time 6.72 sec\n",
      "EvaluatorHoldout: Processed 35289 (100.0%) in 11.09 sec. Users per second: 3182\n",
      "Similarity column 38121 (100.0%), 5678.58 column/sec. Elapsed time 6.71 sec\n",
      "EvaluatorHoldout: Processed 35295 (100.0%) in 11.12 sec. Users per second: 3174\n",
      "Similarity column 38121 (100.0%), 5669.24 column/sec. Elapsed time 6.72 sec\n",
      "EvaluatorHoldout: Processed 35269 (100.0%) in 11.06 sec. Users per second: 3189\n",
      "Similarity column 38121 (100.0%), 5675.82 column/sec. Elapsed time 6.72 sec\n",
      "EvaluatorHoldout: Processed 35311 (100.0%) in 11.09 sec. Users per second: 3185\n",
      "Similarity column 38121 (100.0%), 5674.06 column/sec. Elapsed time 6.72 sec\n",
      "EvaluatorHoldout: Processed 35323 (100.0%) in 11.05 sec. Users per second: 3197\n",
      "Similarity column 38121 (100.0%), 5633.64 column/sec. Elapsed time 6.77 sec\n",
      "EvaluatorHoldout: Processed 35327 (100.0%) in 11.18 sec. Users per second: 3159\n",
      "Similarity column 38121 (100.0%), 5676.76 column/sec. Elapsed time 6.72 sec\n",
      "EvaluatorHoldout: Processed 35336 (100.0%) in 11.08 sec. Users per second: 3188\n",
      "Similarity column 38121 (100.0%), 5691.72 column/sec. Elapsed time 6.70 sec\n",
      "EvaluatorHoldout: Processed 35270 (100.0%) in 11.16 sec. Users per second: 3161\n",
      "Similarity column 38121 (100.0%), 5669.27 column/sec. Elapsed time 6.72 sec\n",
      "EvaluatorHoldout: Processed 35277 (100.0%) in 11.10 sec. Users per second: 3179\n"
     ]
    },
    {
     "name": "stderr",
     "output_type": "stream",
     "text": [
      "[I 2024-11-28 02:39:13,578] Trial 115 finished with value: 0.028955920448559175 and parameters: {'similarity': 'asymmetric', 'topK': 34, 'shrink': 21, 'asymmetric_alpha': 0.04396761645465876}. Best is trial 105 with value: 0.030772534046485507.\n"
     ]
    },
    {
     "name": "stdout",
     "output_type": "stream",
     "text": [
      "Similarity column 38121 (100.0%), 5686.17 column/sec. Elapsed time 6.70 sec\n",
      "EvaluatorHoldout: Processed 35311 (100.0%) in 10.39 sec. Users per second: 3399\n",
      "Similarity column 38121 (100.0%), 5688.50 column/sec. Elapsed time 6.70 sec\n",
      "EvaluatorHoldout: Processed 35289 (100.0%) in 10.43 sec. Users per second: 3383\n",
      "Similarity column 38121 (100.0%), 5683.74 column/sec. Elapsed time 6.71 sec\n",
      "EvaluatorHoldout: Processed 35295 (100.0%) in 10.37 sec. Users per second: 3404\n",
      "Similarity column 38121 (100.0%), 5691.00 column/sec. Elapsed time 6.70 sec\n",
      "EvaluatorHoldout: Processed 35269 (100.0%) in 10.34 sec. Users per second: 3411\n",
      "Similarity column 38121 (100.0%), 5689.81 column/sec. Elapsed time 6.70 sec\n",
      "EvaluatorHoldout: Processed 35311 (100.0%) in 10.36 sec. Users per second: 3409\n",
      "Similarity column 38121 (100.0%), 5694.87 column/sec. Elapsed time 6.69 sec\n",
      "EvaluatorHoldout: Processed 35323 (100.0%) in 10.37 sec. Users per second: 3406\n",
      "Similarity column 38121 (100.0%), 5652.32 column/sec. Elapsed time 6.74 sec\n",
      "EvaluatorHoldout: Processed 35327 (100.0%) in 10.38 sec. Users per second: 3404\n",
      "Similarity column 38121 (100.0%), 5682.08 column/sec. Elapsed time 6.71 sec\n",
      "EvaluatorHoldout: Processed 35336 (100.0%) in 10.37 sec. Users per second: 3409\n",
      "Similarity column 38121 (100.0%), 5650.26 column/sec. Elapsed time 6.75 sec\n",
      "EvaluatorHoldout: Processed 35270 (100.0%) in 10.35 sec. Users per second: 3407\n",
      "Similarity column 38121 (100.0%), 5686.22 column/sec. Elapsed time 6.70 sec\n",
      "EvaluatorHoldout: Processed 35277 (100.0%) in 10.43 sec. Users per second: 3382\n"
     ]
    },
    {
     "name": "stderr",
     "output_type": "stream",
     "text": [
      "[I 2024-11-28 02:42:04,961] Trial 116 finished with value: 0.030562289555037325 and parameters: {'similarity': 'asymmetric', 'topK': 9, 'shrink': 13, 'asymmetric_alpha': 0.05579581604822363}. Best is trial 105 with value: 0.030772534046485507.\n"
     ]
    },
    {
     "name": "stdout",
     "output_type": "stream",
     "text": [
      "Similarity column 38121 (100.0%), 6041.15 column/sec. Elapsed time 6.31 sec\n",
      "EvaluatorHoldout: Processed 35311 (100.0%) in 10.59 sec. Users per second: 3335\n",
      "Similarity column 38121 (100.0%), 6081.49 column/sec. Elapsed time 6.27 sec\n",
      "EvaluatorHoldout: Processed 35289 (100.0%) in 10.52 sec. Users per second: 3356\n",
      "Similarity column 38121 (100.0%), 6063.03 column/sec. Elapsed time 6.29 sec\n",
      "EvaluatorHoldout: Processed 35295 (100.0%) in 10.59 sec. Users per second: 3334\n",
      "Similarity column 38121 (100.0%), 6024.06 column/sec. Elapsed time 6.33 sec\n",
      "EvaluatorHoldout: Processed 35269 (100.0%) in 10.56 sec. Users per second: 3340\n",
      "Similarity column 38121 (100.0%), 6060.41 column/sec. Elapsed time 6.29 sec\n",
      "EvaluatorHoldout: Processed 35311 (100.0%) in 10.63 sec. Users per second: 3322\n",
      "Similarity column 38121 (100.0%), 6075.06 column/sec. Elapsed time 6.28 sec\n",
      "EvaluatorHoldout: Processed 35323 (100.0%) in 10.56 sec. Users per second: 3344\n",
      "Similarity column 38121 (100.0%), 6028.22 column/sec. Elapsed time 6.32 sec\n",
      "EvaluatorHoldout: Processed 35327 (100.0%) in 10.57 sec. Users per second: 3341\n",
      "Similarity column 38121 (100.0%), 6058.02 column/sec. Elapsed time 6.29 sec\n",
      "EvaluatorHoldout: Processed 35336 (100.0%) in 10.56 sec. Users per second: 3346\n",
      "Similarity column 38121 (100.0%), 6038.58 column/sec. Elapsed time 6.31 sec\n",
      "EvaluatorHoldout: Processed 35270 (100.0%) in 10.57 sec. Users per second: 3336\n",
      "Similarity column 38121 (100.0%), 6045.71 column/sec. Elapsed time 6.31 sec\n",
      "EvaluatorHoldout: Processed 35277 (100.0%) in 10.57 sec. Users per second: 3338\n"
     ]
    },
    {
     "name": "stderr",
     "output_type": "stream",
     "text": [
      "[I 2024-11-28 02:44:54,858] Trial 117 finished with value: 0.029010039558014546 and parameters: {'similarity': 'dice', 'topK': 11, 'shrink': 18}. Best is trial 105 with value: 0.030772534046485507.\n"
     ]
    },
    {
     "name": "stdout",
     "output_type": "stream",
     "text": [
      "Similarity column 38121 (100.0%), 5902.77 column/sec. Elapsed time 6.46 sec\n",
      "EvaluatorHoldout: Processed 35311 (100.0%) in 10.38 sec. Users per second: 3402\n",
      "Similarity column 38121 (100.0%), 5838.43 column/sec. Elapsed time 6.53 sec\n",
      "EvaluatorHoldout: Processed 35289 (100.0%) in 10.38 sec. Users per second: 3400\n",
      "Similarity column 38121 (100.0%), 5895.45 column/sec. Elapsed time 6.47 sec\n",
      "EvaluatorHoldout: Processed 35295 (100.0%) in 10.46 sec. Users per second: 3374\n",
      "Similarity column 38121 (100.0%), 5929.70 column/sec. Elapsed time 6.43 sec\n",
      "EvaluatorHoldout: Processed 35269 (100.0%) in 10.37 sec. Users per second: 3401\n",
      "Similarity column 38121 (100.0%), 5894.63 column/sec. Elapsed time 6.47 sec\n",
      "EvaluatorHoldout: Processed 35311 (100.0%) in 10.42 sec. Users per second: 3389\n",
      "Similarity column 38121 (100.0%), 5890.65 column/sec. Elapsed time 6.47 sec\n",
      "EvaluatorHoldout: Processed 35323 (100.0%) in 10.38 sec. Users per second: 3404\n",
      "Similarity column 38121 (100.0%), 5914.88 column/sec. Elapsed time 6.44 sec\n",
      "EvaluatorHoldout: Processed 35327 (100.0%) in 10.40 sec. Users per second: 3397\n",
      "Similarity column 38121 (100.0%), 5866.06 column/sec. Elapsed time 6.50 sec\n",
      "EvaluatorHoldout: Processed 35336 (100.0%) in 10.36 sec. Users per second: 3411\n",
      "Similarity column 38121 (100.0%), 5882.08 column/sec. Elapsed time 6.48 sec\n",
      "EvaluatorHoldout: Processed 35270 (100.0%) in 10.33 sec. Users per second: 3414\n",
      "Similarity column 38121 (100.0%), 5842.79 column/sec. Elapsed time 6.52 sec\n",
      "EvaluatorHoldout: Processed 35277 (100.0%) in 10.37 sec. Users per second: 3401\n"
     ]
    },
    {
     "name": "stderr",
     "output_type": "stream",
     "text": [
      "[I 2024-11-28 02:47:44,585] Trial 118 finished with value: 0.02945747165764882 and parameters: {'similarity': 'jaccard', 'topK': 6, 'shrink': 20}. Best is trial 105 with value: 0.030772534046485507.\n"
     ]
    },
    {
     "name": "stdout",
     "output_type": "stream",
     "text": [
      "Similarity column 38121 (100.0%), 5682.04 column/sec. Elapsed time 6.71 sec\n",
      "EvaluatorHoldout: Processed 35311 (100.0%) in 10.40 sec. Users per second: 3395\n",
      "Similarity column 38121 (100.0%), 5624.57 column/sec. Elapsed time 6.78 sec\n",
      "EvaluatorHoldout: Processed 35289 (100.0%) in 10.43 sec. Users per second: 3384\n",
      "Similarity column 38121 (100.0%), 5682.21 column/sec. Elapsed time 6.71 sec\n",
      "EvaluatorHoldout: Processed 35295 (100.0%) in 10.37 sec. Users per second: 3403\n",
      "Similarity column 38121 (100.0%), 5643.09 column/sec. Elapsed time 6.76 sec\n",
      "EvaluatorHoldout: Processed 35269 (100.0%) in 10.40 sec. Users per second: 3391\n",
      "Similarity column 38121 (100.0%), 5687.04 column/sec. Elapsed time 6.70 sec\n",
      "EvaluatorHoldout: Processed 35311 (100.0%) in 10.41 sec. Users per second: 3391\n",
      "Similarity column 38121 (100.0%), 5704.46 column/sec. Elapsed time 6.68 sec\n",
      "EvaluatorHoldout: Processed 35323 (100.0%) in 10.48 sec. Users per second: 3371\n",
      "Similarity column 38121 (100.0%), 5622.33 column/sec. Elapsed time 6.78 sec\n",
      "EvaluatorHoldout: Processed 35327 (100.0%) in 10.39 sec. Users per second: 3399\n",
      "Similarity column 38121 (100.0%), 5672.21 column/sec. Elapsed time 6.72 sec\n",
      "EvaluatorHoldout: Processed 35336 (100.0%) in 10.41 sec. Users per second: 3395\n",
      "Similarity column 38121 (100.0%), 5694.87 column/sec. Elapsed time 6.69 sec\n",
      "EvaluatorHoldout: Processed 35270 (100.0%) in 10.39 sec. Users per second: 3395\n",
      "Similarity column 38121 (100.0%), 5695.96 column/sec. Elapsed time 6.69 sec\n",
      "EvaluatorHoldout: Processed 35277 (100.0%) in 10.43 sec. Users per second: 3382\n"
     ]
    },
    {
     "name": "stderr",
     "output_type": "stream",
     "text": [
      "[I 2024-11-28 02:50:36,348] Trial 119 finished with value: 0.030521815348056973 and parameters: {'similarity': 'asymmetric', 'topK': 9, 'shrink': 22, 'asymmetric_alpha': 0.033344257346556466}. Best is trial 105 with value: 0.030772534046485507.\n"
     ]
    },
    {
     "name": "stdout",
     "output_type": "stream",
     "text": [
      "Similarity column 38121 (100.0%), 5676.91 column/sec. Elapsed time 6.72 sec\n",
      "EvaluatorHoldout: Processed 35311 (100.0%) in 10.56 sec. Users per second: 3342\n",
      "Similarity column 38121 (100.0%), 5669.74 column/sec. Elapsed time 6.72 sec\n",
      "EvaluatorHoldout: Processed 35289 (100.0%) in 10.57 sec. Users per second: 3338\n",
      "Similarity column 38121 (100.0%), 5665.38 column/sec. Elapsed time 6.73 sec\n",
      "EvaluatorHoldout: Processed 35295 (100.0%) in 10.59 sec. Users per second: 3334\n",
      "Similarity column 38121 (100.0%), 5676.27 column/sec. Elapsed time 6.72 sec\n",
      "EvaluatorHoldout: Processed 35269 (100.0%) in 10.66 sec. Users per second: 3309\n",
      "Similarity column 38121 (100.0%), 5675.72 column/sec. Elapsed time 6.72 sec\n",
      "EvaluatorHoldout: Processed 35311 (100.0%) in 10.57 sec. Users per second: 3341\n",
      "Similarity column 38121 (100.0%), 5695.85 column/sec. Elapsed time 6.69 sec\n",
      "EvaluatorHoldout: Processed 35323 (100.0%) in 10.58 sec. Users per second: 3337\n",
      "Similarity column 38121 (100.0%), 5637.45 column/sec. Elapsed time 6.76 sec\n",
      "EvaluatorHoldout: Processed 35327 (100.0%) in 10.50 sec. Users per second: 3364\n",
      "Similarity column 38121 (100.0%), 5671.65 column/sec. Elapsed time 6.72 sec\n",
      "EvaluatorHoldout: Processed 35336 (100.0%) in 10.49 sec. Users per second: 3370\n",
      "Similarity column 38121 (100.0%), 5672.38 column/sec. Elapsed time 6.72 sec\n",
      "EvaluatorHoldout: Processed 35270 (100.0%) in 10.63 sec. Users per second: 3318\n",
      "Similarity column 38121 (100.0%), 5674.06 column/sec. Elapsed time 6.72 sec\n",
      "EvaluatorHoldout: Processed 35277 (100.0%) in 10.62 sec. Users per second: 3322\n"
     ]
    },
    {
     "name": "stderr",
     "output_type": "stream",
     "text": [
      "[I 2024-11-28 02:53:29,780] Trial 120 finished with value: 0.029989617011497948 and parameters: {'similarity': 'asymmetric', 'topK': 16, 'shrink': 15, 'asymmetric_alpha': 0.02101791583828119}. Best is trial 105 with value: 0.030772534046485507.\n"
     ]
    },
    {
     "name": "stdout",
     "output_type": "stream",
     "text": [
      "Similarity column 38121 (100.0%), 5689.78 column/sec. Elapsed time 6.70 sec\n",
      "EvaluatorHoldout: Processed 35311 (100.0%) in 10.30 sec. Users per second: 3429\n",
      "Similarity column 38121 (100.0%), 5684.88 column/sec. Elapsed time 6.71 sec\n",
      "EvaluatorHoldout: Processed 35289 (100.0%) in 10.27 sec. Users per second: 3437\n",
      "Similarity column 38121 (100.0%), 5690.19 column/sec. Elapsed time 6.70 sec\n",
      "EvaluatorHoldout: Processed 35295 (100.0%) in 10.29 sec. Users per second: 3431\n",
      "Similarity column 38121 (100.0%), 5690.16 column/sec. Elapsed time 6.70 sec\n",
      "EvaluatorHoldout: Processed 35269 (100.0%) in 10.30 sec. Users per second: 3423\n",
      "Similarity column 38121 (100.0%), 5664.84 column/sec. Elapsed time 6.73 sec\n",
      "EvaluatorHoldout: Processed 35311 (100.0%) in 10.20 sec. Users per second: 3461\n",
      "Similarity column 38121 (100.0%), 5693.50 column/sec. Elapsed time 6.70 sec\n",
      "EvaluatorHoldout: Processed 35323 (100.0%) in 10.28 sec. Users per second: 3436\n",
      "Similarity column 38121 (100.0%), 5688.62 column/sec. Elapsed time 6.70 sec\n",
      "EvaluatorHoldout: Processed 35327 (100.0%) in 10.25 sec. Users per second: 3448\n",
      "Similarity column 38121 (100.0%), 5679.45 column/sec. Elapsed time 6.71 sec\n",
      "EvaluatorHoldout: Processed 35336 (100.0%) in 10.27 sec. Users per second: 3439\n",
      "Similarity column 38121 (100.0%), 5701.44 column/sec. Elapsed time 6.69 sec\n",
      "EvaluatorHoldout: Processed 35270 (100.0%) in 10.19 sec. Users per second: 3460\n",
      "Similarity column 38121 (100.0%), 5686.92 column/sec. Elapsed time 6.70 sec\n",
      "EvaluatorHoldout: Processed 35277 (100.0%) in 10.31 sec. Users per second: 3421\n"
     ]
    },
    {
     "name": "stderr",
     "output_type": "stream",
     "text": [
      "[I 2024-11-28 02:56:19,957] Trial 121 finished with value: 0.030763390768575045 and parameters: {'similarity': 'asymmetric', 'topK': 5, 'shrink': 16, 'asymmetric_alpha': 0.030809948408082433}. Best is trial 105 with value: 0.030772534046485507.\n"
     ]
    },
    {
     "name": "stdout",
     "output_type": "stream",
     "text": [
      "Similarity column 38121 (100.0%), 5678.25 column/sec. Elapsed time 6.71 sec\n",
      "EvaluatorHoldout: Processed 35311 (100.0%) in 10.30 sec. Users per second: 3428\n",
      "Similarity column 38121 (100.0%), 5685.44 column/sec. Elapsed time 6.71 sec\n",
      "EvaluatorHoldout: Processed 35289 (100.0%) in 10.35 sec. Users per second: 3410\n",
      "Similarity column 38121 (100.0%), 5680.14 column/sec. Elapsed time 6.71 sec\n",
      "EvaluatorHoldout: Processed 35295 (100.0%) in 10.34 sec. Users per second: 3414\n",
      "Similarity column 38121 (100.0%), 5682.06 column/sec. Elapsed time 6.71 sec\n",
      "EvaluatorHoldout: Processed 35269 (100.0%) in 10.29 sec. Users per second: 3429\n",
      "Similarity column 38121 (100.0%), 5670.63 column/sec. Elapsed time 6.72 sec\n",
      "EvaluatorHoldout: Processed 35311 (100.0%) in 10.30 sec. Users per second: 3430\n",
      "Similarity column 38121 (100.0%), 5702.01 column/sec. Elapsed time 6.69 sec\n",
      "EvaluatorHoldout: Processed 35323 (100.0%) in 10.32 sec. Users per second: 3423\n",
      "Similarity column 38121 (100.0%), 5678.78 column/sec. Elapsed time 6.71 sec\n",
      "EvaluatorHoldout: Processed 35327 (100.0%) in 10.33 sec. Users per second: 3420\n",
      "Similarity column 38121 (100.0%), 5672.53 column/sec. Elapsed time 6.72 sec\n",
      "EvaluatorHoldout: Processed 35336 (100.0%) in 10.27 sec. Users per second: 3442\n",
      "Similarity column 38121 (100.0%), 5640.41 column/sec. Elapsed time 6.76 sec\n",
      "EvaluatorHoldout: Processed 35270 (100.0%) in 10.26 sec. Users per second: 3436\n",
      "Similarity column 38121 (100.0%), 5688.69 column/sec. Elapsed time 6.70 sec\n",
      "EvaluatorHoldout: Processed 35277 (100.0%) in 10.25 sec. Users per second: 3442\n"
     ]
    },
    {
     "name": "stderr",
     "output_type": "stream",
     "text": [
      "[I 2024-11-28 02:59:10,512] Trial 122 finished with value: 0.030772281383142263 and parameters: {'similarity': 'asymmetric', 'topK': 6, 'shrink': 16, 'asymmetric_alpha': 0.0339997645081786}. Best is trial 105 with value: 0.030772534046485507.\n"
     ]
    },
    {
     "name": "stdout",
     "output_type": "stream",
     "text": [
      "Similarity column 38121 (100.0%), 5681.07 column/sec. Elapsed time 6.71 sec\n",
      "EvaluatorHoldout: Processed 35311 (100.0%) in 10.27 sec. Users per second: 3437\n",
      "Similarity column 38121 (100.0%), 5619.58 column/sec. Elapsed time 6.78 sec\n",
      "EvaluatorHoldout: Processed 35289 (100.0%) in 10.28 sec. Users per second: 3432\n",
      "Similarity column 38121 (100.0%), 5688.56 column/sec. Elapsed time 6.70 sec\n",
      "EvaluatorHoldout: Processed 35295 (100.0%) in 10.23 sec. Users per second: 3450\n",
      "Similarity column 38121 (100.0%), 5680.85 column/sec. Elapsed time 6.71 sec\n",
      "EvaluatorHoldout: Processed 35269 (100.0%) in 10.19 sec. Users per second: 3461\n",
      "Similarity column 38121 (100.0%), 5644.43 column/sec. Elapsed time 6.75 sec\n",
      "EvaluatorHoldout: Processed 35311 (100.0%) in 10.31 sec. Users per second: 3426\n",
      "Similarity column 38121 (100.0%), 5700.78 column/sec. Elapsed time 6.69 sec\n",
      "EvaluatorHoldout: Processed 35323 (100.0%) in 10.25 sec. Users per second: 3448\n",
      "Similarity column 38121 (100.0%), 5665.83 column/sec. Elapsed time 6.73 sec\n",
      "EvaluatorHoldout: Processed 35327 (100.0%) in 10.23 sec. Users per second: 3454\n",
      "Similarity column 38121 (100.0%), 5628.78 column/sec. Elapsed time 6.77 sec\n",
      "EvaluatorHoldout: Processed 35336 (100.0%) in 10.32 sec. Users per second: 3423\n",
      "Similarity column 38121 (100.0%), 5693.71 column/sec. Elapsed time 6.70 sec\n",
      "EvaluatorHoldout: Processed 35270 (100.0%) in 10.27 sec. Users per second: 3434\n",
      "Similarity column 38121 (100.0%), 5689.00 column/sec. Elapsed time 6.70 sec\n",
      "EvaluatorHoldout: Processed 35277 (100.0%) in 10.26 sec. Users per second: 3439\n"
     ]
    },
    {
     "name": "stderr",
     "output_type": "stream",
     "text": [
      "[I 2024-11-28 03:02:00,780] Trial 123 finished with value: 0.03076374596594884 and parameters: {'similarity': 'asymmetric', 'topK': 5, 'shrink': 16, 'asymmetric_alpha': 0.03167340895720981}. Best is trial 105 with value: 0.030772534046485507.\n"
     ]
    },
    {
     "name": "stdout",
     "output_type": "stream",
     "text": [
      "Similarity column 38121 (100.0%), 5696.13 column/sec. Elapsed time 6.69 sec\n",
      "EvaluatorHoldout: Processed 35311 (100.0%) in 10.29 sec. Users per second: 3433\n",
      "Similarity column 38121 (100.0%), 5632.42 column/sec. Elapsed time 6.77 sec\n",
      "EvaluatorHoldout: Processed 35289 (100.0%) in 10.27 sec. Users per second: 3435\n",
      "Similarity column 38121 (100.0%), 5684.93 column/sec. Elapsed time 6.71 sec\n",
      "EvaluatorHoldout: Processed 35295 (100.0%) in 10.26 sec. Users per second: 3440\n",
      "Similarity column 38121 (100.0%), 5676.45 column/sec. Elapsed time 6.72 sec\n",
      "EvaluatorHoldout: Processed 35269 (100.0%) in 10.24 sec. Users per second: 3443\n",
      "Similarity column 38121 (100.0%), 5690.16 column/sec. Elapsed time 6.70 sec\n",
      "EvaluatorHoldout: Processed 35311 (100.0%) in 10.36 sec. Users per second: 3408\n",
      "Similarity column 38121 (100.0%), 5701.51 column/sec. Elapsed time 6.69 sec\n",
      "EvaluatorHoldout: Processed 35323 (100.0%) in 10.30 sec. Users per second: 3429\n",
      "Similarity column 38121 (100.0%), 5692.63 column/sec. Elapsed time 6.70 sec\n",
      "EvaluatorHoldout: Processed 35327 (100.0%) in 10.28 sec. Users per second: 3437\n",
      "Similarity column 38121 (100.0%), 5683.64 column/sec. Elapsed time 6.71 sec\n",
      "EvaluatorHoldout: Processed 35336 (100.0%) in 10.33 sec. Users per second: 3420\n",
      "Similarity column 38121 (100.0%), 5669.30 column/sec. Elapsed time 6.72 sec\n",
      "EvaluatorHoldout: Processed 35270 (100.0%) in 10.28 sec. Users per second: 3431\n",
      "Similarity column 38121 (100.0%), 5676.54 column/sec. Elapsed time 6.72 sec\n",
      "EvaluatorHoldout: Processed 35277 (100.0%) in 10.23 sec. Users per second: 3448\n"
     ]
    },
    {
     "name": "stderr",
     "output_type": "stream",
     "text": [
      "[I 2024-11-28 03:04:51,152] Trial 124 finished with value: 0.03074753759560996 and parameters: {'similarity': 'asymmetric', 'topK': 5, 'shrink': 19, 'asymmetric_alpha': 0.03536916772494588}. Best is trial 105 with value: 0.030772534046485507.\n"
     ]
    },
    {
     "name": "stdout",
     "output_type": "stream",
     "text": [
      "Similarity column 38121 (100.0%), 5683.81 column/sec. Elapsed time 6.71 sec\n",
      "EvaluatorHoldout: Processed 35311 (100.0%) in 10.25 sec. Users per second: 3445\n",
      "Similarity column 38121 (100.0%), 5688.86 column/sec. Elapsed time 6.70 sec\n",
      "EvaluatorHoldout: Processed 35289 (100.0%) in 10.22 sec. Users per second: 3451\n",
      "Similarity column 38121 (100.0%), 5686.84 column/sec. Elapsed time 6.70 sec\n",
      "EvaluatorHoldout: Processed 35295 (100.0%) in 10.24 sec. Users per second: 3448\n",
      "Similarity column 38121 (100.0%), 5647.78 column/sec. Elapsed time 6.75 sec\n",
      "EvaluatorHoldout: Processed 35269 (100.0%) in 10.22 sec. Users per second: 3452\n",
      "Similarity column 38121 (100.0%), 5692.38 column/sec. Elapsed time 6.70 sec\n",
      "EvaluatorHoldout: Processed 35311 (100.0%) in 10.26 sec. Users per second: 3443\n",
      "Similarity column 38121 (100.0%), 5696.17 column/sec. Elapsed time 6.69 sec\n",
      "EvaluatorHoldout: Processed 35323 (100.0%) in 10.23 sec. Users per second: 3452\n",
      "Similarity column 38121 (100.0%), 5644.65 column/sec. Elapsed time 6.75 sec\n",
      "EvaluatorHoldout: Processed 35327 (100.0%) in 10.29 sec. Users per second: 3433\n",
      "Similarity column 38121 (100.0%), 5684.76 column/sec. Elapsed time 6.71 sec\n",
      "EvaluatorHoldout: Processed 35336 (100.0%) in 10.27 sec. Users per second: 3442\n",
      "Similarity column 38121 (100.0%), 5653.22 column/sec. Elapsed time 6.74 sec\n",
      "EvaluatorHoldout: Processed 35270 (100.0%) in 10.23 sec. Users per second: 3446\n",
      "Similarity column 38121 (100.0%), 5642.71 column/sec. Elapsed time 6.76 sec\n",
      "EvaluatorHoldout: Processed 35277 (100.0%) in 10.24 sec. Users per second: 3446\n"
     ]
    },
    {
     "name": "stderr",
     "output_type": "stream",
     "text": [
      "[I 2024-11-28 03:07:41,225] Trial 125 finished with value: 0.030760663893071843 and parameters: {'similarity': 'asymmetric', 'topK': 5, 'shrink': 16, 'asymmetric_alpha': 0.03694356385165629}. Best is trial 105 with value: 0.030772534046485507.\n"
     ]
    },
    {
     "name": "stdout",
     "output_type": "stream",
     "text": [
      "Similarity column 38121 (100.0%), 5887.76 column/sec. Elapsed time 6.47 sec\n",
      "EvaluatorHoldout: Processed 35311 (100.0%) in 10.47 sec. Users per second: 3372\n",
      "Similarity column 38121 (100.0%), 5891.15 column/sec. Elapsed time 6.47 sec\n",
      "EvaluatorHoldout: Processed 35289 (100.0%) in 10.46 sec. Users per second: 3374\n",
      "Similarity column 38121 (100.0%), 5889.92 column/sec. Elapsed time 6.47 sec\n",
      "EvaluatorHoldout: Processed 35295 (100.0%) in 10.48 sec. Users per second: 3369\n",
      "Similarity column 38121 (100.0%), 5898.27 column/sec. Elapsed time 6.46 sec\n",
      "EvaluatorHoldout: Processed 35269 (100.0%) in 10.51 sec. Users per second: 3357\n",
      "Similarity column 38121 (100.0%), 5904.70 column/sec. Elapsed time 6.46 sec\n",
      "EvaluatorHoldout: Processed 35311 (100.0%) in 10.39 sec. Users per second: 3397\n",
      "Similarity column 38121 (100.0%), 5913.30 column/sec. Elapsed time 6.45 sec\n",
      "EvaluatorHoldout: Processed 35323 (100.0%) in 10.49 sec. Users per second: 3366\n",
      "Similarity column 38121 (100.0%), 5899.67 column/sec. Elapsed time 6.46 sec\n",
      "EvaluatorHoldout: Processed 35327 (100.0%) in 10.52 sec. Users per second: 3357\n",
      "Similarity column 38121 (100.0%), 5903.18 column/sec. Elapsed time 6.46 sec\n",
      "EvaluatorHoldout: Processed 35336 (100.0%) in 10.50 sec. Users per second: 3366\n",
      "Similarity column 38121 (100.0%), 5907.75 column/sec. Elapsed time 6.45 sec\n",
      "EvaluatorHoldout: Processed 35270 (100.0%) in 10.46 sec. Users per second: 3373\n",
      "Similarity column 38121 (100.0%), 5899.92 column/sec. Elapsed time 6.46 sec\n",
      "EvaluatorHoldout: Processed 35277 (100.0%) in 10.52 sec. Users per second: 3354\n"
     ]
    },
    {
     "name": "stderr",
     "output_type": "stream",
     "text": [
      "[I 2024-11-28 03:10:31,051] Trial 126 finished with value: 0.028204175133573272 and parameters: {'similarity': 'cosine', 'topK': 5, 'shrink': 44}. Best is trial 105 with value: 0.030772534046485507.\n"
     ]
    },
    {
     "name": "stdout",
     "output_type": "stream",
     "text": [
      "Similarity column 38121 (100.0%), 5688.07 column/sec. Elapsed time 6.70 sec\n",
      "EvaluatorHoldout: Processed 35311 (100.0%) in 10.37 sec. Users per second: 3405\n",
      "Similarity column 38121 (100.0%), 5681.66 column/sec. Elapsed time 6.71 sec\n",
      "EvaluatorHoldout: Processed 35289 (100.0%) in 10.37 sec. Users per second: 3402\n",
      "Similarity column 38121 (100.0%), 5691.15 column/sec. Elapsed time 6.70 sec\n",
      "EvaluatorHoldout: Processed 35295 (100.0%) in 10.47 sec. Users per second: 3372\n",
      "Similarity column 38121 (100.0%), 5675.74 column/sec. Elapsed time 6.72 sec\n",
      "EvaluatorHoldout: Processed 35269 (100.0%) in 10.40 sec. Users per second: 3391\n",
      "Similarity column 38121 (100.0%), 5684.13 column/sec. Elapsed time 6.71 sec\n",
      "EvaluatorHoldout: Processed 35311 (100.0%) in 10.42 sec. Users per second: 3389\n",
      "Similarity column 38121 (100.0%), 5687.19 column/sec. Elapsed time 6.70 sec\n",
      "EvaluatorHoldout: Processed 35323 (100.0%) in 10.46 sec. Users per second: 3377\n",
      "Similarity column 38121 (100.0%), 5679.76 column/sec. Elapsed time 6.71 sec\n",
      "EvaluatorHoldout: Processed 35327 (100.0%) in 10.41 sec. Users per second: 3392\n",
      "Similarity column 38121 (100.0%), 5682.67 column/sec. Elapsed time 6.71 sec\n",
      "EvaluatorHoldout: Processed 35336 (100.0%) in 10.38 sec. Users per second: 3403\n",
      "Similarity column 38121 (100.0%), 5699.73 column/sec. Elapsed time 6.69 sec\n",
      "EvaluatorHoldout: Processed 35270 (100.0%) in 10.40 sec. Users per second: 3391\n",
      "Similarity column 38121 (100.0%), 5695.94 column/sec. Elapsed time 6.69 sec\n",
      "EvaluatorHoldout: Processed 35277 (100.0%) in 10.37 sec. Users per second: 3402\n"
     ]
    },
    {
     "name": "stderr",
     "output_type": "stream",
     "text": [
      "[I 2024-11-28 03:13:22,578] Trial 127 finished with value: 0.030591913989008474 and parameters: {'similarity': 'asymmetric', 'topK': 9, 'shrink': 18, 'asymmetric_alpha': 0.033530262995286844}. Best is trial 105 with value: 0.030772534046485507.\n"
     ]
    },
    {
     "name": "stdout",
     "output_type": "stream",
     "text": [
      "Similarity column 38121 (100.0%), 5638.34 column/sec. Elapsed time 6.76 sec\n",
      "EvaluatorHoldout: Processed 35311 (100.0%) in 10.42 sec. Users per second: 3387\n",
      "Similarity column 38121 (100.0%), 5681.60 column/sec. Elapsed time 6.71 sec\n",
      "EvaluatorHoldout: Processed 35289 (100.0%) in 10.52 sec. Users per second: 3354\n",
      "Similarity column 38121 (100.0%), 5682.18 column/sec. Elapsed time 6.71 sec\n",
      "EvaluatorHoldout: Processed 35295 (100.0%) in 10.50 sec. Users per second: 3360\n",
      "Similarity column 38121 (100.0%), 5681.33 column/sec. Elapsed time 6.71 sec\n",
      "EvaluatorHoldout: Processed 35269 (100.0%) in 10.45 sec. Users per second: 3373\n",
      "Similarity column 38121 (100.0%), 5684.68 column/sec. Elapsed time 6.71 sec\n",
      "EvaluatorHoldout: Processed 35311 (100.0%) in 10.46 sec. Users per second: 3377\n",
      "Similarity column 38121 (100.0%), 5701.27 column/sec. Elapsed time 6.69 sec\n",
      "EvaluatorHoldout: Processed 35323 (100.0%) in 10.52 sec. Users per second: 3356\n",
      "Similarity column 38121 (100.0%), 5685.28 column/sec. Elapsed time 6.71 sec\n",
      "EvaluatorHoldout: Processed 35327 (100.0%) in 10.48 sec. Users per second: 3370\n",
      "Similarity column 38121 (100.0%), 5682.42 column/sec. Elapsed time 6.71 sec\n",
      "EvaluatorHoldout: Processed 35336 (100.0%) in 10.54 sec. Users per second: 3354\n",
      "Similarity column 38121 (100.0%), 5694.72 column/sec. Elapsed time 6.69 sec\n",
      "EvaluatorHoldout: Processed 35270 (100.0%) in 10.54 sec. Users per second: 3345\n",
      "Similarity column 38121 (100.0%), 5677.33 column/sec. Elapsed time 6.71 sec\n",
      "EvaluatorHoldout: Processed 35277 (100.0%) in 10.49 sec. Users per second: 3364\n"
     ]
    },
    {
     "name": "stderr",
     "output_type": "stream",
     "text": [
      "[I 2024-11-28 03:16:15,040] Trial 128 finished with value: 0.030313214760291075 and parameters: {'similarity': 'asymmetric', 'topK': 12, 'shrink': 16, 'asymmetric_alpha': 0.03121577076887609}. Best is trial 105 with value: 0.030772534046485507.\n"
     ]
    },
    {
     "name": "stdout",
     "output_type": "stream",
     "text": [
      "Similarity column 38121 (100.0%), 5688.32 column/sec. Elapsed time 6.70 sec\n",
      "EvaluatorHoldout: Processed 35311 (100.0%) in 10.28 sec. Users per second: 3433\n",
      "Similarity column 38121 (100.0%), 5692.19 column/sec. Elapsed time 6.70 sec\n",
      "EvaluatorHoldout: Processed 35289 (100.0%) in 10.32 sec. Users per second: 3419\n",
      "Similarity column 38121 (100.0%), 5687.65 column/sec. Elapsed time 6.70 sec\n",
      "EvaluatorHoldout: Processed 35295 (100.0%) in 10.24 sec. Users per second: 3445\n",
      "Similarity column 38121 (100.0%), 5699.32 column/sec. Elapsed time 6.69 sec\n",
      "EvaluatorHoldout: Processed 35269 (100.0%) in 10.28 sec. Users per second: 3431\n",
      "Similarity column 38121 (100.0%), 5669.63 column/sec. Elapsed time 6.72 sec\n",
      "EvaluatorHoldout: Processed 35311 (100.0%) in 10.35 sec. Users per second: 3413\n",
      "Similarity column 38121 (100.0%), 5706.54 column/sec. Elapsed time 6.68 sec\n",
      "EvaluatorHoldout: Processed 35323 (100.0%) in 10.32 sec. Users per second: 3423\n",
      "Similarity column 38121 (100.0%), 5659.70 column/sec. Elapsed time 6.74 sec\n",
      "EvaluatorHoldout: Processed 35327 (100.0%) in 10.30 sec. Users per second: 3431\n",
      "Similarity column 38121 (100.0%), 5674.87 column/sec. Elapsed time 6.72 sec\n",
      "EvaluatorHoldout: Processed 35336 (100.0%) in 10.33 sec. Users per second: 3422\n",
      "Similarity column 38121 (100.0%), 5701.93 column/sec. Elapsed time 6.69 sec\n",
      "EvaluatorHoldout: Processed 35270 (100.0%) in 10.33 sec. Users per second: 3415\n",
      "Similarity column 38121 (100.0%), 5680.19 column/sec. Elapsed time 6.71 sec\n",
      "EvaluatorHoldout: Processed 35277 (100.0%) in 10.24 sec. Users per second: 3444\n"
     ]
    },
    {
     "name": "stderr",
     "output_type": "stream",
     "text": [
      "[I 2024-11-28 03:19:05,489] Trial 129 finished with value: 0.030754739331705427 and parameters: {'similarity': 'asymmetric', 'topK': 5, 'shrink': 19, 'asymmetric_alpha': 0.037450904241761125}. Best is trial 105 with value: 0.030772534046485507.\n"
     ]
    },
    {
     "name": "stdout",
     "output_type": "stream",
     "text": [
      "Similarity column 38121 (100.0%), 5677.57 column/sec. Elapsed time 6.71 sec\n",
      "EvaluatorHoldout: Processed 35311 (100.0%) in 10.33 sec. Users per second: 3420\n",
      "Similarity column 38121 (100.0%), 5695.37 column/sec. Elapsed time 6.69 sec\n",
      "EvaluatorHoldout: Processed 35289 (100.0%) in 10.31 sec. Users per second: 3423\n",
      "Similarity column 38121 (100.0%), 5686.45 column/sec. Elapsed time 6.70 sec\n",
      "EvaluatorHoldout: Processed 35295 (100.0%) in 10.26 sec. Users per second: 3442\n",
      "Similarity column 38121 (100.0%), 5682.13 column/sec. Elapsed time 6.71 sec\n",
      "EvaluatorHoldout: Processed 35269 (100.0%) in 10.30 sec. Users per second: 3425\n",
      "Similarity column 38121 (100.0%), 5690.97 column/sec. Elapsed time 6.70 sec\n",
      "EvaluatorHoldout: Processed 35311 (100.0%) in 10.32 sec. Users per second: 3420\n",
      "Similarity column 38121 (100.0%), 5706.57 column/sec. Elapsed time 6.68 sec\n",
      "EvaluatorHoldout: Processed 35323 (100.0%) in 10.27 sec. Users per second: 3438\n",
      "Similarity column 38121 (100.0%), 5689.52 column/sec. Elapsed time 6.70 sec\n",
      "EvaluatorHoldout: Processed 35327 (100.0%) in 10.29 sec. Users per second: 3434\n",
      "Similarity column 38121 (100.0%), 5681.02 column/sec. Elapsed time 6.71 sec\n",
      "EvaluatorHoldout: Processed 35336 (100.0%) in 10.35 sec. Users per second: 3415\n",
      "Similarity column 38121 (100.0%), 5694.08 column/sec. Elapsed time 6.69 sec\n",
      "EvaluatorHoldout: Processed 35270 (100.0%) in 10.29 sec. Users per second: 3429\n",
      "Similarity column 38121 (100.0%), 5671.13 column/sec. Elapsed time 6.72 sec\n",
      "EvaluatorHoldout: Processed 35277 (100.0%) in 10.11 sec. Users per second: 3489\n"
     ]
    },
    {
     "name": "stderr",
     "output_type": "stream",
     "text": [
      "[I 2024-11-28 03:21:55,743] Trial 130 finished with value: 0.030759425011771833 and parameters: {'similarity': 'asymmetric', 'topK': 5, 'shrink': 19, 'asymmetric_alpha': 0.03967459538205673}. Best is trial 105 with value: 0.030772534046485507.\n"
     ]
    },
    {
     "name": "stdout",
     "output_type": "stream",
     "text": [
      "Similarity column 38121 (100.0%), 5671.18 column/sec. Elapsed time 6.72 sec\n",
      "EvaluatorHoldout: Processed 35311 (100.0%) in 10.31 sec. Users per second: 3424\n",
      "Similarity column 38121 (100.0%), 5683.18 column/sec. Elapsed time 6.71 sec\n",
      "EvaluatorHoldout: Processed 35289 (100.0%) in 10.32 sec. Users per second: 3419\n",
      "Similarity column 38121 (100.0%), 5682.67 column/sec. Elapsed time 6.71 sec\n",
      "EvaluatorHoldout: Processed 35295 (100.0%) in 10.28 sec. Users per second: 3434\n",
      "Similarity column 38121 (100.0%), 5674.97 column/sec. Elapsed time 6.72 sec\n",
      "EvaluatorHoldout: Processed 35269 (100.0%) in 10.31 sec. Users per second: 3422\n",
      "Similarity column 38121 (100.0%), 5696.72 column/sec. Elapsed time 6.69 sec\n",
      "EvaluatorHoldout: Processed 35311 (100.0%) in 10.32 sec. Users per second: 3422\n",
      "Similarity column 38121 (100.0%), 5709.41 column/sec. Elapsed time 6.68 sec\n",
      "EvaluatorHoldout: Processed 35323 (100.0%) in 10.27 sec. Users per second: 3439\n",
      "Similarity column 38121 (100.0%), 5688.56 column/sec. Elapsed time 6.70 sec\n",
      "EvaluatorHoldout: Processed 35327 (100.0%) in 10.32 sec. Users per second: 3423\n",
      "Similarity column 38121 (100.0%), 5678.71 column/sec. Elapsed time 6.71 sec\n",
      "EvaluatorHoldout: Processed 35336 (100.0%) in 10.28 sec. Users per second: 3437\n",
      "Similarity column 38121 (100.0%), 5695.95 column/sec. Elapsed time 6.69 sec\n",
      "EvaluatorHoldout: Processed 35270 (100.0%) in 10.25 sec. Users per second: 3442\n",
      "Similarity column 38121 (100.0%), 5696.63 column/sec. Elapsed time 6.69 sec\n",
      "EvaluatorHoldout: Processed 35277 (100.0%) in 10.33 sec. Users per second: 3416\n"
     ]
    },
    {
     "name": "stderr",
     "output_type": "stream",
     "text": [
      "[I 2024-11-28 03:24:46,222] Trial 131 finished with value: 0.030756759402249666 and parameters: {'similarity': 'asymmetric', 'topK': 5, 'shrink': 19, 'asymmetric_alpha': 0.038593925748087496}. Best is trial 105 with value: 0.030772534046485507.\n"
     ]
    },
    {
     "name": "stdout",
     "output_type": "stream",
     "text": [
      "Similarity column 38121 (100.0%), 5689.54 column/sec. Elapsed time 6.70 sec\n",
      "EvaluatorHoldout: Processed 35311 (100.0%) in 10.31 sec. Users per second: 3425\n",
      "Similarity column 38121 (100.0%), 5681.01 column/sec. Elapsed time 6.71 sec\n",
      "EvaluatorHoldout: Processed 35289 (100.0%) in 10.27 sec. Users per second: 3434\n",
      "Similarity column 38121 (100.0%), 5685.21 column/sec. Elapsed time 6.71 sec\n",
      "EvaluatorHoldout: Processed 35295 (100.0%) in 10.28 sec. Users per second: 3434\n",
      "Similarity column 38121 (100.0%), 5682.54 column/sec. Elapsed time 6.71 sec\n",
      "EvaluatorHoldout: Processed 35269 (100.0%) in 10.28 sec. Users per second: 3430\n",
      "Similarity column 38121 (100.0%), 5677.15 column/sec. Elapsed time 6.71 sec\n",
      "EvaluatorHoldout: Processed 35311 (100.0%) in 10.29 sec. Users per second: 3431\n",
      "Similarity column 38121 (100.0%), 5653.47 column/sec. Elapsed time 6.74 sec\n",
      "EvaluatorHoldout: Processed 35323 (100.0%) in 10.31 sec. Users per second: 3426\n",
      "Similarity column 38121 (100.0%), 5688.77 column/sec. Elapsed time 6.70 sec\n",
      "EvaluatorHoldout: Processed 35327 (100.0%) in 10.35 sec. Users per second: 3412\n",
      "Similarity column 38121 (100.0%), 5684.29 column/sec. Elapsed time 6.71 sec\n",
      "EvaluatorHoldout: Processed 35336 (100.0%) in 10.28 sec. Users per second: 3437\n",
      "Similarity column 38121 (100.0%), 5657.22 column/sec. Elapsed time 6.74 sec\n",
      "EvaluatorHoldout: Processed 35270 (100.0%) in 10.27 sec. Users per second: 3436\n",
      "Similarity column 38121 (100.0%), 5695.39 column/sec. Elapsed time 6.69 sec\n",
      "EvaluatorHoldout: Processed 35277 (100.0%) in 10.22 sec. Users per second: 3451\n"
     ]
    },
    {
     "name": "stderr",
     "output_type": "stream",
     "text": [
      "[I 2024-11-28 03:27:36,628] Trial 132 finished with value: 0.030754255656988527 and parameters: {'similarity': 'asymmetric', 'topK': 5, 'shrink': 19, 'asymmetric_alpha': 0.03737767847094378}. Best is trial 105 with value: 0.030772534046485507.\n"
     ]
    },
    {
     "name": "stdout",
     "output_type": "stream",
     "text": [
      "Similarity column 38121 (100.0%), 5681.85 column/sec. Elapsed time 6.71 sec\n",
      "EvaluatorHoldout: Processed 35311 (100.0%) in 10.27 sec. Users per second: 3438\n",
      "Similarity column 38121 (100.0%), 5641.49 column/sec. Elapsed time 6.76 sec\n",
      "EvaluatorHoldout: Processed 35289 (100.0%) in 10.24 sec. Users per second: 3446\n",
      "Similarity column 38121 (100.0%), 5697.23 column/sec. Elapsed time 6.69 sec\n",
      "EvaluatorHoldout: Processed 35295 (100.0%) in 10.26 sec. Users per second: 3439\n",
      "Similarity column 38121 (100.0%), 5533.64 column/sec. Elapsed time 6.89 sec\n",
      "EvaluatorHoldout: Processed 35269 (100.0%) in 10.18 sec. Users per second: 3464\n",
      "Similarity column 38121 (100.0%), 5695.56 column/sec. Elapsed time 6.69 sec\n",
      "EvaluatorHoldout: Processed 35311 (100.0%) in 10.27 sec. Users per second: 3439\n",
      "Similarity column 38121 (100.0%), 5708.03 column/sec. Elapsed time 6.68 sec\n",
      "EvaluatorHoldout: Processed 35323 (100.0%) in 10.23 sec. Users per second: 3452\n",
      "Similarity column 38121 (100.0%), 5632.12 column/sec. Elapsed time 6.77 sec\n",
      "EvaluatorHoldout: Processed 35327 (100.0%) in 10.25 sec. Users per second: 3446\n",
      "Similarity column 38121 (100.0%), 5679.45 column/sec. Elapsed time 6.71 sec\n",
      "EvaluatorHoldout: Processed 35336 (100.0%) in 10.28 sec. Users per second: 3436\n",
      "Similarity column 38121 (100.0%), 5689.11 column/sec. Elapsed time 6.70 sec\n",
      "EvaluatorHoldout: Processed 35270 (100.0%) in 10.26 sec. Users per second: 3438\n",
      "Similarity column 38121 (100.0%), 5694.43 column/sec. Elapsed time 6.69 sec\n",
      "EvaluatorHoldout: Processed 35277 (100.0%) in 10.30 sec. Users per second: 3427\n"
     ]
    },
    {
     "name": "stderr",
     "output_type": "stream",
     "text": [
      "[I 2024-11-28 03:30:26,873] Trial 133 finished with value: 0.030755223100214567 and parameters: {'similarity': 'asymmetric', 'topK': 5, 'shrink': 19, 'asymmetric_alpha': 0.037192013185142495}. Best is trial 105 with value: 0.030772534046485507.\n"
     ]
    },
    {
     "name": "stdout",
     "output_type": "stream",
     "text": [
      "Similarity column 38121 (100.0%), 5656.96 column/sec. Elapsed time 6.74 sec\n",
      "EvaluatorHoldout: Processed 35311 (100.0%) in 10.42 sec. Users per second: 3390\n",
      "Similarity column 38121 (100.0%), 5676.92 column/sec. Elapsed time 6.72 sec\n",
      "EvaluatorHoldout: Processed 35289 (100.0%) in 10.43 sec. Users per second: 3384\n",
      "Similarity column 38121 (100.0%), 5665.90 column/sec. Elapsed time 6.73 sec\n",
      "EvaluatorHoldout: Processed 35295 (100.0%) in 10.36 sec. Users per second: 3406\n",
      "Similarity column 38121 (100.0%), 5682.51 column/sec. Elapsed time 6.71 sec\n",
      "EvaluatorHoldout: Processed 35269 (100.0%) in 10.36 sec. Users per second: 3403\n",
      "Similarity column 38121 (100.0%), 5672.95 column/sec. Elapsed time 6.72 sec\n",
      "EvaluatorHoldout: Processed 35311 (100.0%) in 10.37 sec. Users per second: 3404\n",
      "Similarity column 38121 (100.0%), 5636.75 column/sec. Elapsed time 6.76 sec\n",
      "EvaluatorHoldout: Processed 35323 (100.0%) in 10.41 sec. Users per second: 3393\n",
      "Similarity column 38121 (100.0%), 5670.37 column/sec. Elapsed time 6.72 sec\n",
      "EvaluatorHoldout: Processed 35327 (100.0%) in 10.40 sec. Users per second: 3398\n",
      "Similarity column 38121 (100.0%), 5670.29 column/sec. Elapsed time 6.72 sec\n",
      "EvaluatorHoldout: Processed 35336 (100.0%) in 10.40 sec. Users per second: 3397\n",
      "Similarity column 38121 (100.0%), 5682.00 column/sec. Elapsed time 6.71 sec\n",
      "EvaluatorHoldout: Processed 35270 (100.0%) in 10.41 sec. Users per second: 3387\n",
      "Similarity column 38121 (100.0%), 5671.84 column/sec. Elapsed time 6.72 sec\n",
      "EvaluatorHoldout: Processed 35277 (100.0%) in 10.37 sec. Users per second: 3402\n"
     ]
    },
    {
     "name": "stderr",
     "output_type": "stream",
     "text": [
      "[I 2024-11-28 03:33:18,487] Trial 134 finished with value: 0.030655842061425242 and parameters: {'similarity': 'asymmetric', 'topK': 8, 'shrink': 20, 'asymmetric_alpha': 0.039351081857577484}. Best is trial 105 with value: 0.030772534046485507.\n"
     ]
    },
    {
     "name": "stdout",
     "output_type": "stream",
     "text": [
      "Similarity column 38121 (100.0%), 5684.96 column/sec. Elapsed time 6.71 sec\n",
      "EvaluatorHoldout: Processed 35311 (100.0%) in 10.42 sec. Users per second: 3389\n",
      "Similarity column 38121 (100.0%), 5691.06 column/sec. Elapsed time 6.70 sec\n",
      "EvaluatorHoldout: Processed 35289 (100.0%) in 10.38 sec. Users per second: 3399\n",
      "Similarity column 38121 (100.0%), 5686.40 column/sec. Elapsed time 6.70 sec\n",
      "EvaluatorHoldout: Processed 35295 (100.0%) in 10.41 sec. Users per second: 3389\n",
      "Similarity column 38121 (100.0%), 5693.62 column/sec. Elapsed time 6.70 sec\n",
      "EvaluatorHoldout: Processed 35269 (100.0%) in 10.41 sec. Users per second: 3387\n",
      "Similarity column 38121 (100.0%), 5695.68 column/sec. Elapsed time 6.69 sec\n",
      "EvaluatorHoldout: Processed 35311 (100.0%) in 10.36 sec. Users per second: 3407\n",
      "Similarity column 38121 (100.0%), 5660.40 column/sec. Elapsed time 6.73 sec\n",
      "EvaluatorHoldout: Processed 35323 (100.0%) in 10.41 sec. Users per second: 3394\n",
      "Similarity column 38121 (100.0%), 5691.30 column/sec. Elapsed time 6.70 sec\n",
      "EvaluatorHoldout: Processed 35327 (100.0%) in 10.39 sec. Users per second: 3398\n",
      "Similarity column 38121 (100.0%), 5683.84 column/sec. Elapsed time 6.71 sec\n",
      "EvaluatorHoldout: Processed 35336 (100.0%) in 10.40 sec. Users per second: 3399\n",
      "Similarity column 38121 (100.0%), 5672.00 column/sec. Elapsed time 6.72 sec\n",
      "EvaluatorHoldout: Processed 35270 (100.0%) in 10.43 sec. Users per second: 3383\n",
      "Similarity column 38121 (100.0%), 5686.81 column/sec. Elapsed time 6.70 sec\n",
      "EvaluatorHoldout: Processed 35277 (100.0%) in 10.38 sec. Users per second: 3398\n"
     ]
    },
    {
     "name": "stderr",
     "output_type": "stream",
     "text": [
      "[I 2024-11-28 03:36:09,982] Trial 135 finished with value: 0.030585488799833353 and parameters: {'similarity': 'asymmetric', 'topK': 9, 'shrink': 18, 'asymmetric_alpha': 0.039183821740161065}. Best is trial 105 with value: 0.030772534046485507.\n"
     ]
    },
    {
     "name": "stdout",
     "output_type": "stream",
     "text": [
      "Similarity column 38121 (100.0%), 5687.27 column/sec. Elapsed time 6.70 sec\n",
      "EvaluatorHoldout: Processed 35311 (100.0%) in 10.30 sec. Users per second: 3429\n",
      "Similarity column 38121 (100.0%), 5702.51 column/sec. Elapsed time 6.68 sec\n",
      "EvaluatorHoldout: Processed 35289 (100.0%) in 10.34 sec. Users per second: 3414\n",
      "Similarity column 38121 (100.0%), 5691.24 column/sec. Elapsed time 6.70 sec\n",
      "EvaluatorHoldout: Processed 35295 (100.0%) in 10.27 sec. Users per second: 3438\n",
      "Similarity column 38121 (100.0%), 5694.37 column/sec. Elapsed time 6.69 sec\n",
      "EvaluatorHoldout: Processed 35269 (100.0%) in 10.27 sec. Users per second: 3435\n",
      "Similarity column 38121 (100.0%), 5682.13 column/sec. Elapsed time 6.71 sec\n",
      "EvaluatorHoldout: Processed 35311 (100.0%) in 10.31 sec. Users per second: 3424\n",
      "Similarity column 38121 (100.0%), 5698.61 column/sec. Elapsed time 6.69 sec\n",
      "EvaluatorHoldout: Processed 35323 (100.0%) in 10.25 sec. Users per second: 3447\n",
      "Similarity column 38121 (100.0%), 5677.38 column/sec. Elapsed time 6.71 sec\n",
      "EvaluatorHoldout: Processed 35327 (100.0%) in 10.33 sec. Users per second: 3419\n",
      "Similarity column 38121 (100.0%), 5685.62 column/sec. Elapsed time 6.70 sec\n",
      "EvaluatorHoldout: Processed 35336 (100.0%) in 10.27 sec. Users per second: 3440\n",
      "Similarity column 38121 (100.0%), 5640.65 column/sec. Elapsed time 6.76 sec\n",
      "EvaluatorHoldout: Processed 35270 (100.0%) in 10.21 sec. Users per second: 3456\n",
      "Similarity column 38121 (100.0%), 5648.89 column/sec. Elapsed time 6.75 sec\n",
      "EvaluatorHoldout: Processed 35277 (100.0%) in 10.24 sec. Users per second: 3444\n"
     ]
    },
    {
     "name": "stderr",
     "output_type": "stream",
     "text": [
      "[I 2024-11-28 03:39:00,275] Trial 136 finished with value: 0.030747436422519363 and parameters: {'similarity': 'asymmetric', 'topK': 5, 'shrink': 19, 'asymmetric_alpha': 0.02999864442825064}. Best is trial 105 with value: 0.030772534046485507.\n"
     ]
    },
    {
     "name": "stdout",
     "output_type": "stream",
     "text": [
      "Similarity column 38121 (100.0%), 5688.79 column/sec. Elapsed time 6.70 sec\n",
      "EvaluatorHoldout: Processed 35311 (100.0%) in 10.44 sec. Users per second: 3382\n",
      "Similarity column 38121 (100.0%), 5688.68 column/sec. Elapsed time 6.70 sec\n",
      "EvaluatorHoldout: Processed 35289 (100.0%) in 10.46 sec. Users per second: 3375\n",
      "Similarity column 38121 (100.0%), 5686.30 column/sec. Elapsed time 6.70 sec\n",
      "EvaluatorHoldout: Processed 35295 (100.0%) in 10.46 sec. Users per second: 3375\n",
      "Similarity column 38121 (100.0%), 5682.88 column/sec. Elapsed time 6.71 sec\n",
      "EvaluatorHoldout: Processed 35269 (100.0%) in 10.40 sec. Users per second: 3393\n",
      "Similarity column 38121 (100.0%), 5693.80 column/sec. Elapsed time 6.70 sec\n",
      "EvaluatorHoldout: Processed 35311 (100.0%) in 10.50 sec. Users per second: 3362\n",
      "Similarity column 38121 (100.0%), 5658.84 column/sec. Elapsed time 6.74 sec\n",
      "EvaluatorHoldout: Processed 35323 (100.0%) in 10.43 sec. Users per second: 3387\n",
      "Similarity column 38121 (100.0%), 5659.75 column/sec. Elapsed time 6.74 sec\n",
      "EvaluatorHoldout: Processed 35327 (100.0%) in 10.46 sec. Users per second: 3378\n",
      "Similarity column 38121 (100.0%), 5683.60 column/sec. Elapsed time 6.71 sec\n",
      "EvaluatorHoldout: Processed 35336 (100.0%) in 10.48 sec. Users per second: 3373\n",
      "Similarity column 38121 (100.0%), 5686.07 column/sec. Elapsed time 6.70 sec\n",
      "EvaluatorHoldout: Processed 35270 (100.0%) in 10.42 sec. Users per second: 3385\n",
      "Similarity column 38121 (100.0%), 5671.32 column/sec. Elapsed time 6.72 sec\n",
      "EvaluatorHoldout: Processed 35277 (100.0%) in 10.56 sec. Users per second: 3341\n"
     ]
    },
    {
     "name": "stderr",
     "output_type": "stream",
     "text": [
      "[I 2024-11-28 03:41:52,405] Trial 137 finished with value: 0.030468460079142685 and parameters: {'similarity': 'asymmetric', 'topK': 10, 'shrink': 21, 'asymmetric_alpha': 0.05221963678247078}. Best is trial 105 with value: 0.030772534046485507.\n"
     ]
    },
    {
     "name": "stdout",
     "output_type": "stream",
     "text": [
      "Similarity column 38121 (100.0%), 5686.48 column/sec. Elapsed time 6.70 sec\n",
      "EvaluatorHoldout: Processed 35311 (100.0%) in 10.35 sec. Users per second: 3412\n",
      "Similarity column 38121 (100.0%), 5684.08 column/sec. Elapsed time 6.71 sec\n",
      "EvaluatorHoldout: Processed 35289 (100.0%) in 10.45 sec. Users per second: 3378\n",
      "Similarity column 38121 (100.0%), 5682.24 column/sec. Elapsed time 6.71 sec\n",
      "EvaluatorHoldout: Processed 35295 (100.0%) in 10.32 sec. Users per second: 3420\n",
      "Similarity column 38121 (100.0%), 5685.00 column/sec. Elapsed time 6.71 sec\n",
      "EvaluatorHoldout: Processed 35269 (100.0%) in 10.36 sec. Users per second: 3405\n",
      "Similarity column 38121 (100.0%), 5672.57 column/sec. Elapsed time 6.72 sec\n",
      "EvaluatorHoldout: Processed 35311 (100.0%) in 10.38 sec. Users per second: 3403\n",
      "Similarity column 38121 (100.0%), 5653.35 column/sec. Elapsed time 6.74 sec\n",
      "EvaluatorHoldout: Processed 35323 (100.0%) in 10.37 sec. Users per second: 3408\n",
      "Similarity column 38121 (100.0%), 5676.34 column/sec. Elapsed time 6.72 sec\n",
      "EvaluatorHoldout: Processed 35327 (100.0%) in 10.47 sec. Users per second: 3375\n",
      "Similarity column 38121 (100.0%), 5668.36 column/sec. Elapsed time 6.73 sec\n",
      "EvaluatorHoldout: Processed 35336 (100.0%) in 10.38 sec. Users per second: 3404\n",
      "Similarity column 38121 (100.0%), 5691.14 column/sec. Elapsed time 6.70 sec\n",
      "EvaluatorHoldout: Processed 35270 (100.0%) in 10.31 sec. Users per second: 3422\n",
      "Similarity column 38121 (100.0%), 5686.58 column/sec. Elapsed time 6.70 sec\n",
      "EvaluatorHoldout: Processed 35277 (100.0%) in 10.37 sec. Users per second: 3402\n"
     ]
    },
    {
     "name": "stderr",
     "output_type": "stream",
     "text": [
      "[I 2024-11-28 03:44:43,718] Trial 138 finished with value: 0.030687982605918457 and parameters: {'similarity': 'asymmetric', 'topK': 8, 'shrink': 18, 'asymmetric_alpha': 0.041222238035692305}. Best is trial 105 with value: 0.030772534046485507.\n"
     ]
    },
    {
     "name": "stdout",
     "output_type": "stream",
     "text": [
      "Similarity column 38121 (100.0%), 5678.45 column/sec. Elapsed time 6.71 sec\n",
      "EvaluatorHoldout: Processed 35311 (100.0%) in 11.21 sec. Users per second: 3151\n",
      "Similarity column 38121 (100.0%), 5671.90 column/sec. Elapsed time 6.72 sec\n",
      "EvaluatorHoldout: Processed 35289 (100.0%) in 11.20 sec. Users per second: 3152\n",
      "Similarity column 38121 (100.0%), 5673.94 column/sec. Elapsed time 6.72 sec\n",
      "EvaluatorHoldout: Processed 35295 (100.0%) in 11.16 sec. Users per second: 3164\n",
      "Similarity column 38121 (100.0%), 5678.43 column/sec. Elapsed time 6.71 sec\n",
      "EvaluatorHoldout: Processed 35269 (100.0%) in 11.23 sec. Users per second: 3139\n",
      "Similarity column 38121 (100.0%), 5650.55 column/sec. Elapsed time 6.75 sec\n",
      "EvaluatorHoldout: Processed 35311 (100.0%) in 11.20 sec. Users per second: 3153\n",
      "Similarity column 38121 (100.0%), 5680.44 column/sec. Elapsed time 6.71 sec\n",
      "EvaluatorHoldout: Processed 35323 (100.0%) in 11.20 sec. Users per second: 3154\n",
      "Similarity column 38121 (100.0%), 5659.60 column/sec. Elapsed time 6.74 sec\n",
      "EvaluatorHoldout: Processed 35327 (100.0%) in 11.22 sec. Users per second: 3147\n",
      "Similarity column 38121 (100.0%), 5665.49 column/sec. Elapsed time 6.73 sec\n",
      "EvaluatorHoldout: Processed 35336 (100.0%) in 11.17 sec. Users per second: 3163\n",
      "Similarity column 38121 (100.0%), 5691.90 column/sec. Elapsed time 6.70 sec\n",
      "EvaluatorHoldout: Processed 35270 (100.0%) in 11.15 sec. Users per second: 3163\n",
      "Similarity column 38121 (100.0%), 5673.01 column/sec. Elapsed time 6.72 sec\n",
      "EvaluatorHoldout: Processed 35277 (100.0%) in 11.22 sec. Users per second: 3144\n"
     ]
    },
    {
     "name": "stderr",
     "output_type": "stream",
     "text": [
      "[I 2024-11-28 03:47:43,447] Trial 139 finished with value: 0.028803707546758796 and parameters: {'similarity': 'asymmetric', 'topK': 41, 'shrink': 16, 'asymmetric_alpha': 0.03547685972739962}. Best is trial 105 with value: 0.030772534046485507.\n"
     ]
    },
    {
     "name": "stdout",
     "output_type": "stream",
     "text": [
      "Similarity column 38121 (100.0%), 5827.92 column/sec. Elapsed time 6.54 sec\n",
      "EvaluatorHoldout: Processed 35311 (100.0%) in 10.33 sec. Users per second: 3419\n",
      "Similarity column 38121 (100.0%), 5825.44 column/sec. Elapsed time 6.54 sec\n",
      "EvaluatorHoldout: Processed 35289 (100.0%) in 10.35 sec. Users per second: 3408\n",
      "Similarity column 38121 (100.0%), 5838.52 column/sec. Elapsed time 6.53 sec\n",
      "EvaluatorHoldout: Processed 35295 (100.0%) in 10.38 sec. Users per second: 3401\n",
      "Similarity column 38121 (100.0%), 5893.88 column/sec. Elapsed time 6.47 sec\n",
      "EvaluatorHoldout: Processed 35269 (100.0%) in 10.39 sec. Users per second: 3394\n",
      "Similarity column 38121 (100.0%), 5964.31 column/sec. Elapsed time 6.39 sec\n",
      "EvaluatorHoldout: Processed 35311 (100.0%) in 10.32 sec. Users per second: 3420\n",
      "Similarity column 38121 (100.0%), 5946.38 column/sec. Elapsed time 6.41 sec\n",
      "EvaluatorHoldout: Processed 35323 (100.0%) in 10.26 sec. Users per second: 3444\n",
      "Similarity column 38121 (100.0%), 5943.72 column/sec. Elapsed time 6.41 sec\n",
      "EvaluatorHoldout: Processed 35327 (100.0%) in 10.45 sec. Users per second: 3380\n",
      "Similarity column 38121 (100.0%), 5933.64 column/sec. Elapsed time 6.42 sec\n",
      "EvaluatorHoldout: Processed 35336 (100.0%) in 10.32 sec. Users per second: 3423\n",
      "Similarity column 38121 (100.0%), 5843.96 column/sec. Elapsed time 6.52 sec\n",
      "EvaluatorHoldout: Processed 35270 (100.0%) in 10.31 sec. Users per second: 3421\n",
      "Similarity column 38121 (100.0%), 5962.46 column/sec. Elapsed time 6.39 sec\n",
      "EvaluatorHoldout: Processed 35277 (100.0%) in 10.34 sec. Users per second: 3411\n"
     ]
    },
    {
     "name": "stderr",
     "output_type": "stream",
     "text": [
      "[I 2024-11-28 03:50:32,641] Trial 140 finished with value: 0.029446895640734293 and parameters: {'similarity': 'jaccard', 'topK': 5, 'shrink': 19}. Best is trial 105 with value: 0.030772534046485507.\n"
     ]
    },
    {
     "name": "stdout",
     "output_type": "stream",
     "text": [
      "Similarity column 38121 (100.0%), 5696.30 column/sec. Elapsed time 6.69 sec\n",
      "EvaluatorHoldout: Processed 35311 (100.0%) in 10.10 sec. Users per second: 3495\n",
      "Similarity column 38121 (100.0%), 5642.22 column/sec. Elapsed time 6.76 sec\n",
      "EvaluatorHoldout: Processed 35289 (100.0%) in 10.27 sec. Users per second: 3437\n",
      "Similarity column 38121 (100.0%), 5659.47 column/sec. Elapsed time 6.74 sec\n",
      "EvaluatorHoldout: Processed 35295 (100.0%) in 10.22 sec. Users per second: 3453\n",
      "Similarity column 38121 (100.0%), 5685.50 column/sec. Elapsed time 6.70 sec\n",
      "EvaluatorHoldout: Processed 35269 (100.0%) in 10.21 sec. Users per second: 3454\n",
      "Similarity column 38121 (100.0%), 5685.17 column/sec. Elapsed time 6.71 sec\n",
      "EvaluatorHoldout: Processed 35311 (100.0%) in 10.27 sec. Users per second: 3438\n",
      "Similarity column 38121 (100.0%), 5664.02 column/sec. Elapsed time 6.73 sec\n",
      "EvaluatorHoldout: Processed 35323 (100.0%) in 10.26 sec. Users per second: 3442\n",
      "Similarity column 38121 (100.0%), 5681.75 column/sec. Elapsed time 6.71 sec\n",
      "EvaluatorHoldout: Processed 35327 (100.0%) in 10.25 sec. Users per second: 3447\n",
      "Similarity column 38121 (100.0%), 5683.09 column/sec. Elapsed time 6.71 sec\n",
      "EvaluatorHoldout: Processed 35336 (100.0%) in 10.27 sec. Users per second: 3441\n",
      "Similarity column 38121 (100.0%), 5679.67 column/sec. Elapsed time 6.71 sec\n",
      "EvaluatorHoldout: Processed 35270 (100.0%) in 10.28 sec. Users per second: 3431\n",
      "Similarity column 38121 (100.0%), 5688.75 column/sec. Elapsed time 6.70 sec\n",
      "EvaluatorHoldout: Processed 35277 (100.0%) in 10.32 sec. Users per second: 3417\n"
     ]
    },
    {
     "name": "stderr",
     "output_type": "stream",
     "text": [
      "[I 2024-11-28 03:53:22,671] Trial 141 finished with value: 0.0307383440121044 and parameters: {'similarity': 'asymmetric', 'topK': 5, 'shrink': 20, 'asymmetric_alpha': 0.03666022529369708}. Best is trial 105 with value: 0.030772534046485507.\n"
     ]
    },
    {
     "name": "stdout",
     "output_type": "stream",
     "text": [
      "Similarity column 38121 (100.0%), 5688.33 column/sec. Elapsed time 6.70 sec\n",
      "EvaluatorHoldout: Processed 35311 (100.0%) in 10.39 sec. Users per second: 3400\n",
      "Similarity column 38121 (100.0%), 5684.55 column/sec. Elapsed time 6.71 sec\n",
      "EvaluatorHoldout: Processed 35289 (100.0%) in 10.30 sec. Users per second: 3426\n",
      "Similarity column 38121 (100.0%), 5675.90 column/sec. Elapsed time 6.72 sec\n",
      "EvaluatorHoldout: Processed 35295 (100.0%) in 10.32 sec. Users per second: 3421\n",
      "Similarity column 38121 (100.0%), 5680.36 column/sec. Elapsed time 6.71 sec\n",
      "EvaluatorHoldout: Processed 35269 (100.0%) in 10.33 sec. Users per second: 3415\n",
      "Similarity column 38121 (100.0%), 5641.59 column/sec. Elapsed time 6.76 sec\n",
      "EvaluatorHoldout: Processed 35311 (100.0%) in 10.30 sec. Users per second: 3427\n",
      "Similarity column 38121 (100.0%), 5703.31 column/sec. Elapsed time 6.68 sec\n",
      "EvaluatorHoldout: Processed 35323 (100.0%) in 10.36 sec. Users per second: 3408\n",
      "Similarity column 38121 (100.0%), 5679.97 column/sec. Elapsed time 6.71 sec\n",
      "EvaluatorHoldout: Processed 35327 (100.0%) in 10.34 sec. Users per second: 3415\n",
      "Similarity column 38121 (100.0%), 5690.48 column/sec. Elapsed time 6.70 sec\n",
      "EvaluatorHoldout: Processed 35336 (100.0%) in 10.34 sec. Users per second: 3416\n",
      "Similarity column 38121 (100.0%), 5653.41 column/sec. Elapsed time 6.74 sec\n",
      "EvaluatorHoldout: Processed 35270 (100.0%) in 10.29 sec. Users per second: 3428\n",
      "Similarity column 38121 (100.0%), 5683.96 column/sec. Elapsed time 6.71 sec\n",
      "EvaluatorHoldout: Processed 35277 (100.0%) in 10.32 sec. Users per second: 3417\n"
     ]
    },
    {
     "name": "stderr",
     "output_type": "stream",
     "text": [
      "[I 2024-11-28 03:56:13,525] Trial 142 finished with value: 0.030754432567200313 and parameters: {'similarity': 'asymmetric', 'topK': 7, 'shrink': 19, 'asymmetric_alpha': 0.030214157588738313}. Best is trial 105 with value: 0.030772534046485507.\n"
     ]
    },
    {
     "name": "stdout",
     "output_type": "stream",
     "text": [
      "Similarity column 38121 (100.0%), 5672.47 column/sec. Elapsed time 6.72 sec\n",
      "EvaluatorHoldout: Processed 35311 (100.0%) in 10.34 sec. Users per second: 3414\n",
      "Similarity column 38121 (100.0%), 5628.34 column/sec. Elapsed time 6.77 sec\n",
      "EvaluatorHoldout: Processed 35289 (100.0%) in 10.34 sec. Users per second: 3414\n",
      "Similarity column 38121 (100.0%), 5680.59 column/sec. Elapsed time 6.71 sec\n",
      "EvaluatorHoldout: Processed 35295 (100.0%) in 10.40 sec. Users per second: 3395\n",
      "Similarity column 38121 (100.0%), 5684.59 column/sec. Elapsed time 6.71 sec\n",
      "EvaluatorHoldout: Processed 35269 (100.0%) in 10.40 sec. Users per second: 3391\n",
      "Similarity column 38121 (100.0%), 5688.80 column/sec. Elapsed time 6.70 sec\n",
      "EvaluatorHoldout: Processed 35311 (100.0%) in 10.46 sec. Users per second: 3377\n",
      "Similarity column 38121 (100.0%), 5684.73 column/sec. Elapsed time 6.71 sec\n",
      "EvaluatorHoldout: Processed 35323 (100.0%) in 10.36 sec. Users per second: 3411\n",
      "Similarity column 38121 (100.0%), 5686.05 column/sec. Elapsed time 6.70 sec\n",
      "EvaluatorHoldout: Processed 35327 (100.0%) in 10.34 sec. Users per second: 3417\n",
      "Similarity column 38121 (100.0%), 5682.73 column/sec. Elapsed time 6.71 sec\n",
      "EvaluatorHoldout: Processed 35336 (100.0%) in 10.37 sec. Users per second: 3409\n",
      "Similarity column 38121 (100.0%), 5692.61 column/sec. Elapsed time 6.70 sec\n",
      "EvaluatorHoldout: Processed 35270 (100.0%) in 10.29 sec. Users per second: 3426\n",
      "Similarity column 38121 (100.0%), 5642.52 column/sec. Elapsed time 6.76 sec\n",
      "EvaluatorHoldout: Processed 35277 (100.0%) in 10.29 sec. Users per second: 3427\n"
     ]
    },
    {
     "name": "stderr",
     "output_type": "stream",
     "text": [
      "[I 2024-11-28 03:59:04,711] Trial 143 finished with value: 0.030720940655272633 and parameters: {'similarity': 'asymmetric', 'topK': 7, 'shrink': 17, 'asymmetric_alpha': 0.030531420461494867}. Best is trial 105 with value: 0.030772534046485507.\n"
     ]
    },
    {
     "name": "stdout",
     "output_type": "stream",
     "text": [
      "Similarity column 38121 (100.0%), 5691.64 column/sec. Elapsed time 6.70 sec\n",
      "EvaluatorHoldout: Processed 35311 (100.0%) in 10.38 sec. Users per second: 3401\n",
      "Similarity column 38121 (100.0%), 5666.10 column/sec. Elapsed time 6.73 sec\n",
      "EvaluatorHoldout: Processed 35289 (100.0%) in 10.36 sec. Users per second: 3405\n",
      "Similarity column 38121 (100.0%), 5634.32 column/sec. Elapsed time 6.77 sec\n",
      "EvaluatorHoldout: Processed 35295 (100.0%) in 10.40 sec. Users per second: 3395\n",
      "Similarity column 38121 (100.0%), 5671.64 column/sec. Elapsed time 6.72 sec\n",
      "EvaluatorHoldout: Processed 35269 (100.0%) in 10.36 sec. Users per second: 3406\n",
      "Similarity column 38121 (100.0%), 5683.59 column/sec. Elapsed time 6.71 sec\n",
      "EvaluatorHoldout: Processed 35311 (100.0%) in 10.41 sec. Users per second: 3392\n",
      "Similarity column 38121 (100.0%), 5684.63 column/sec. Elapsed time 6.71 sec\n",
      "EvaluatorHoldout: Processed 35323 (100.0%) in 10.46 sec. Users per second: 3376\n",
      "Similarity column 38121 (100.0%), 5637.23 column/sec. Elapsed time 6.76 sec\n",
      "EvaluatorHoldout: Processed 35327 (100.0%) in 10.37 sec. Users per second: 3406\n",
      "Similarity column 38121 (100.0%), 5671.06 column/sec. Elapsed time 6.72 sec\n",
      "EvaluatorHoldout: Processed 35336 (100.0%) in 10.41 sec. Users per second: 3395\n",
      "Similarity column 38121 (100.0%), 5668.13 column/sec. Elapsed time 6.73 sec\n",
      "EvaluatorHoldout: Processed 35270 (100.0%) in 10.39 sec. Users per second: 3394\n",
      "Similarity column 38121 (100.0%), 5684.00 column/sec. Elapsed time 6.71 sec\n",
      "EvaluatorHoldout: Processed 35277 (100.0%) in 10.42 sec. Users per second: 3386\n"
     ]
    },
    {
     "name": "stderr",
     "output_type": "stream",
     "text": [
      "[I 2024-11-28 04:01:56,347] Trial 144 finished with value: 0.030600870761765507 and parameters: {'similarity': 'asymmetric', 'topK': 8, 'shrink': 23, 'asymmetric_alpha': 0.041825529373426394}. Best is trial 105 with value: 0.030772534046485507.\n"
     ]
    },
    {
     "name": "stdout",
     "output_type": "stream",
     "text": [
      "Similarity column 38121 (100.0%), 5627.36 column/sec. Elapsed time 6.77 sec\n",
      "EvaluatorHoldout: Processed 35311 (100.0%) in 10.44 sec. Users per second: 3382\n",
      "Similarity column 38121 (100.0%), 5687.53 column/sec. Elapsed time 6.70 sec\n",
      "EvaluatorHoldout: Processed 35289 (100.0%) in 10.41 sec. Users per second: 3389\n",
      "Similarity column 38121 (100.0%), 5639.62 column/sec. Elapsed time 6.76 sec\n",
      "EvaluatorHoldout: Processed 35295 (100.0%) in 10.39 sec. Users per second: 3398\n",
      "Similarity column 38121 (100.0%), 5676.25 column/sec. Elapsed time 6.72 sec\n",
      "EvaluatorHoldout: Processed 35269 (100.0%) in 10.38 sec. Users per second: 3397\n",
      "Similarity column 38121 (100.0%), 5679.98 column/sec. Elapsed time 6.71 sec\n",
      "EvaluatorHoldout: Processed 35311 (100.0%) in 10.41 sec. Users per second: 3393\n",
      "Similarity column 38121 (100.0%), 5703.64 column/sec. Elapsed time 6.68 sec\n",
      "EvaluatorHoldout: Processed 35323 (100.0%) in 10.46 sec. Users per second: 3378\n",
      "Similarity column 38121 (100.0%), 5680.37 column/sec. Elapsed time 6.71 sec\n",
      "EvaluatorHoldout: Processed 35327 (100.0%) in 10.41 sec. Users per second: 3392\n",
      "Similarity column 38121 (100.0%), 5670.74 column/sec. Elapsed time 6.72 sec\n",
      "EvaluatorHoldout: Processed 35336 (100.0%) in 10.50 sec. Users per second: 3366\n",
      "Similarity column 38121 (100.0%), 5700.20 column/sec. Elapsed time 6.69 sec\n",
      "EvaluatorHoldout: Processed 35270 (100.0%) in 10.37 sec. Users per second: 3402\n",
      "Similarity column 38121 (100.0%), 5691.38 column/sec. Elapsed time 6.70 sec\n",
      "EvaluatorHoldout: Processed 35277 (100.0%) in 10.42 sec. Users per second: 3386\n"
     ]
    },
    {
     "name": "stderr",
     "output_type": "stream",
     "text": [
      "[I 2024-11-28 04:04:48,106] Trial 145 finished with value: 0.030483015706570655 and parameters: {'similarity': 'asymmetric', 'topK': 10, 'shrink': 16, 'asymmetric_alpha': 0.03217870604985114}. Best is trial 105 with value: 0.030772534046485507.\n"
     ]
    },
    {
     "name": "stdout",
     "output_type": "stream",
     "text": [
      "Similarity column 38121 (100.0%), 5692.86 column/sec. Elapsed time 6.70 sec\n",
      "EvaluatorHoldout: Processed 35311 (100.0%) in 10.33 sec. Users per second: 3417\n",
      "Similarity column 38121 (100.0%), 5692.68 column/sec. Elapsed time 6.70 sec\n",
      "EvaluatorHoldout: Processed 35289 (100.0%) in 10.39 sec. Users per second: 3397\n",
      "Similarity column 38121 (100.0%), 5684.52 column/sec. Elapsed time 6.71 sec\n",
      "EvaluatorHoldout: Processed 35295 (100.0%) in 10.23 sec. Users per second: 3451\n",
      "Similarity column 38121 (100.0%), 5684.74 column/sec. Elapsed time 6.71 sec\n",
      "EvaluatorHoldout: Processed 35269 (100.0%) in 10.30 sec. Users per second: 3424\n",
      "Similarity column 38121 (100.0%), 5638.90 column/sec. Elapsed time 6.76 sec\n",
      "EvaluatorHoldout: Processed 35311 (100.0%) in 10.34 sec. Users per second: 3416\n",
      "Similarity column 38121 (100.0%), 5700.41 column/sec. Elapsed time 6.69 sec\n",
      "EvaluatorHoldout: Processed 35323 (100.0%) in 10.37 sec. Users per second: 3408\n",
      "Similarity column 38121 (100.0%), 5675.29 column/sec. Elapsed time 6.72 sec\n",
      "EvaluatorHoldout: Processed 35327 (100.0%) in 10.36 sec. Users per second: 3410\n",
      "Similarity column 38121 (100.0%), 5675.56 column/sec. Elapsed time 6.72 sec\n",
      "EvaluatorHoldout: Processed 35336 (100.0%) in 10.36 sec. Users per second: 3412\n",
      "Similarity column 38121 (100.0%), 5693.31 column/sec. Elapsed time 6.70 sec\n",
      "EvaluatorHoldout: Processed 35270 (100.0%) in 10.37 sec. Users per second: 3403\n",
      "Similarity column 38121 (100.0%), 5672.78 column/sec. Elapsed time 6.72 sec\n",
      "EvaluatorHoldout: Processed 35277 (100.0%) in 10.29 sec. Users per second: 3430\n"
     ]
    },
    {
     "name": "stderr",
     "output_type": "stream",
     "text": [
      "[I 2024-11-28 04:07:38,957] Trial 146 finished with value: 0.030738673059958598 and parameters: {'similarity': 'asymmetric', 'topK': 7, 'shrink': 17, 'asymmetric_alpha': 0.03777273754754858}. Best is trial 105 with value: 0.030772534046485507.\n"
     ]
    },
    {
     "name": "stdout",
     "output_type": "stream",
     "text": [
      "Similarity column 38121 (100.0%), 5693.36 column/sec. Elapsed time 6.70 sec\n",
      "EvaluatorHoldout: Processed 35311 (100.0%) in 10.40 sec. Users per second: 3395\n",
      "Similarity column 38121 (100.0%), 5677.45 column/sec. Elapsed time 6.71 sec\n",
      "EvaluatorHoldout: Processed 35289 (100.0%) in 10.50 sec. Users per second: 3360\n",
      "Similarity column 38121 (100.0%), 5637.61 column/sec. Elapsed time 6.76 sec\n",
      "EvaluatorHoldout: Processed 35295 (100.0%) in 10.43 sec. Users per second: 3384\n",
      "Similarity column 38121 (100.0%), 5682.68 column/sec. Elapsed time 6.71 sec\n",
      "EvaluatorHoldout: Processed 35269 (100.0%) in 10.41 sec. Users per second: 3388\n",
      "Similarity column 38121 (100.0%), 5693.07 column/sec. Elapsed time 6.70 sec\n",
      "EvaluatorHoldout: Processed 35311 (100.0%) in 10.49 sec. Users per second: 3367\n",
      "Similarity column 38121 (100.0%), 5679.97 column/sec. Elapsed time 6.71 sec\n",
      "EvaluatorHoldout: Processed 35323 (100.0%) in 10.41 sec. Users per second: 3392\n",
      "Similarity column 38121 (100.0%), 5634.83 column/sec. Elapsed time 6.77 sec\n",
      "EvaluatorHoldout: Processed 35327 (100.0%) in 10.47 sec. Users per second: 3374\n",
      "Similarity column 38121 (100.0%), 5678.04 column/sec. Elapsed time 6.71 sec\n",
      "EvaluatorHoldout: Processed 35336 (100.0%) in 10.46 sec. Users per second: 3378\n",
      "Similarity column 38121 (100.0%), 5652.92 column/sec. Elapsed time 6.74 sec\n",
      "EvaluatorHoldout: Processed 35270 (100.0%) in 10.46 sec. Users per second: 3373\n",
      "Similarity column 38121 (100.0%), 5688.13 column/sec. Elapsed time 6.70 sec\n",
      "EvaluatorHoldout: Processed 35277 (100.0%) in 10.46 sec. Users per second: 3374\n"
     ]
    },
    {
     "name": "stderr",
     "output_type": "stream",
     "text": [
      "[I 2024-11-28 04:10:31,088] Trial 147 finished with value: 0.030393780765362914 and parameters: {'similarity': 'asymmetric', 'topK': 11, 'shrink': 20, 'asymmetric_alpha': 0.04599108862426779}. Best is trial 105 with value: 0.030772534046485507.\n"
     ]
    },
    {
     "name": "stdout",
     "output_type": "stream",
     "text": [
      "Similarity column 38121 (100.0%), 6074.96 column/sec. Elapsed time 6.28 sec\n",
      "EvaluatorHoldout: Processed 35311 (100.0%) in 10.47 sec. Users per second: 3374\n",
      "Similarity column 38121 (100.0%), 6046.68 column/sec. Elapsed time 6.30 sec\n",
      "EvaluatorHoldout: Processed 35289 (100.0%) in 10.35 sec. Users per second: 3410\n",
      "Similarity column 38121 (100.0%), 6042.17 column/sec. Elapsed time 6.31 sec\n",
      "EvaluatorHoldout: Processed 35295 (100.0%) in 10.35 sec. Users per second: 3411\n",
      "Similarity column 38121 (100.0%), 6034.36 column/sec. Elapsed time 6.32 sec\n",
      "EvaluatorHoldout: Processed 35269 (100.0%) in 10.27 sec. Users per second: 3436\n",
      "Similarity column 38121 (100.0%), 6071.97 column/sec. Elapsed time 6.28 sec\n",
      "EvaluatorHoldout: Processed 35311 (100.0%) in 10.42 sec. Users per second: 3389\n",
      "Similarity column 38121 (100.0%), 6052.23 column/sec. Elapsed time 6.30 sec\n",
      "EvaluatorHoldout: Processed 35323 (100.0%) in 10.35 sec. Users per second: 3413\n",
      "Similarity column 38121 (100.0%), 6063.60 column/sec. Elapsed time 6.29 sec\n",
      "EvaluatorHoldout: Processed 35327 (100.0%) in 10.37 sec. Users per second: 3408\n",
      "Similarity column 38121 (100.0%), 6057.74 column/sec. Elapsed time 6.29 sec\n",
      "EvaluatorHoldout: Processed 35336 (100.0%) in 10.35 sec. Users per second: 3413\n",
      "Similarity column 38121 (100.0%), 6046.74 column/sec. Elapsed time 6.30 sec\n",
      "EvaluatorHoldout: Processed 35270 (100.0%) in 10.42 sec. Users per second: 3386\n",
      "Similarity column 38121 (100.0%), 6063.88 column/sec. Elapsed time 6.29 sec\n",
      "EvaluatorHoldout: Processed 35277 (100.0%) in 10.37 sec. Users per second: 3402\n"
     ]
    },
    {
     "name": "stderr",
     "output_type": "stream",
     "text": [
      "[I 2024-11-28 04:13:18,843] Trial 148 finished with value: 0.02907407755190087 and parameters: {'similarity': 'dice', 'topK': 5, 'shrink': 50}. Best is trial 105 with value: 0.030772534046485507.\n"
     ]
    },
    {
     "name": "stdout",
     "output_type": "stream",
     "text": [
      "Similarity column 38121 (100.0%), 5686.95 column/sec. Elapsed time 6.70 sec\n",
      "EvaluatorHoldout: Processed 35311 (100.0%) in 10.38 sec. Users per second: 3403\n",
      "Similarity column 38121 (100.0%), 5638.21 column/sec. Elapsed time 6.76 sec\n",
      "EvaluatorHoldout: Processed 35289 (100.0%) in 10.37 sec. Users per second: 3404\n",
      "Similarity column 38121 (100.0%), 5645.37 column/sec. Elapsed time 6.75 sec\n",
      "EvaluatorHoldout: Processed 35295 (100.0%) in 10.39 sec. Users per second: 3397\n",
      "Similarity column 38121 (100.0%), 5694.37 column/sec. Elapsed time 6.69 sec\n",
      "EvaluatorHoldout: Processed 35269 (100.0%) in 10.36 sec. Users per second: 3403\n",
      "Similarity column 38121 (100.0%), 5686.75 column/sec. Elapsed time 6.70 sec\n",
      "EvaluatorHoldout: Processed 35311 (100.0%) in 10.37 sec. Users per second: 3406\n",
      "Similarity column 38121 (100.0%), 5661.63 column/sec. Elapsed time 6.73 sec\n",
      "EvaluatorHoldout: Processed 35323 (100.0%) in 10.39 sec. Users per second: 3401\n",
      "Similarity column 38121 (100.0%), 5685.91 column/sec. Elapsed time 6.70 sec\n",
      "EvaluatorHoldout: Processed 35327 (100.0%) in 10.40 sec. Users per second: 3396\n",
      "Similarity column 38121 (100.0%), 5685.18 column/sec. Elapsed time 6.71 sec\n",
      "EvaluatorHoldout: Processed 35336 (100.0%) in 10.47 sec. Users per second: 3375\n",
      "Similarity column 38121 (100.0%), 5699.46 column/sec. Elapsed time 6.69 sec\n",
      "EvaluatorHoldout: Processed 35270 (100.0%) in 10.40 sec. Users per second: 3392\n",
      "Similarity column 38121 (100.0%), 5627.61 column/sec. Elapsed time 6.77 sec\n",
      "EvaluatorHoldout: Processed 35277 (100.0%) in 10.37 sec. Users per second: 3401\n"
     ]
    },
    {
     "name": "stderr",
     "output_type": "stream",
     "text": [
      "[I 2024-11-28 04:16:10,389] Trial 149 finished with value: 0.030575289146204793 and parameters: {'similarity': 'asymmetric', 'topK': 9, 'shrink': 18, 'asymmetric_alpha': 0.028586120296221318}. Best is trial 105 with value: 0.030772534046485507.\n"
     ]
    },
    {
     "name": "stdout",
     "output_type": "stream",
     "text": [
      "Similarity column 38121 (100.0%), 5692.89 column/sec. Elapsed time 6.70 sec\n",
      "EvaluatorHoldout: Processed 35311 (100.0%) in 10.35 sec. Users per second: 3410\n",
      "Similarity column 38121 (100.0%), 5692.18 column/sec. Elapsed time 6.70 sec\n",
      "EvaluatorHoldout: Processed 35289 (100.0%) in 10.32 sec. Users per second: 3419\n",
      "Similarity column 38121 (100.0%), 5634.77 column/sec. Elapsed time 6.77 sec\n",
      "EvaluatorHoldout: Processed 35295 (100.0%) in 10.33 sec. Users per second: 3416\n",
      "Similarity column 38121 (100.0%), 5692.42 column/sec. Elapsed time 6.70 sec\n",
      "EvaluatorHoldout: Processed 35269 (100.0%) in 10.33 sec. Users per second: 3414\n",
      "Similarity column 38121 (100.0%), 5675.28 column/sec. Elapsed time 6.72 sec\n",
      "EvaluatorHoldout: Processed 35311 (100.0%) in 10.30 sec. Users per second: 3428\n",
      "Similarity column 38121 (100.0%), 5687.83 column/sec. Elapsed time 6.70 sec\n",
      "EvaluatorHoldout: Processed 35323 (100.0%) in 10.37 sec. Users per second: 3406\n",
      "Similarity column 38121 (100.0%), 5655.31 column/sec. Elapsed time 6.74 sec\n",
      "EvaluatorHoldout: Processed 35327 (100.0%) in 10.31 sec. Users per second: 3427\n",
      "Similarity column 38121 (100.0%), 5684.49 column/sec. Elapsed time 6.71 sec\n",
      "EvaluatorHoldout: Processed 35336 (100.0%) in 10.35 sec. Users per second: 3414\n",
      "Similarity column 38121 (100.0%), 5689.08 column/sec. Elapsed time 6.70 sec\n",
      "EvaluatorHoldout: Processed 35270 (100.0%) in 10.37 sec. Users per second: 3403\n",
      "Similarity column 38121 (100.0%), 5688.83 column/sec. Elapsed time 6.70 sec\n",
      "EvaluatorHoldout: Processed 35277 (100.0%) in 10.36 sec. Users per second: 3405\n"
     ]
    },
    {
     "name": "stderr",
     "output_type": "stream",
     "text": [
      "[I 2024-11-28 04:19:01,329] Trial 150 finished with value: 0.030749509349058003 and parameters: {'similarity': 'asymmetric', 'topK': 7, 'shrink': 14, 'asymmetric_alpha': 0.051335859176543895}. Best is trial 105 with value: 0.030772534046485507.\n"
     ]
    },
    {
     "name": "stdout",
     "output_type": "stream",
     "text": [
      "Similarity column 38121 (100.0%), 5692.57 column/sec. Elapsed time 6.70 sec\n",
      "EvaluatorHoldout: Processed 35311 (100.0%) in 10.29 sec. Users per second: 3431\n",
      "Similarity column 38121 (100.0%), 5682.59 column/sec. Elapsed time 6.71 sec\n",
      "EvaluatorHoldout: Processed 35289 (100.0%) in 10.37 sec. Users per second: 3402\n",
      "Similarity column 38121 (100.0%), 5684.74 column/sec. Elapsed time 6.71 sec\n",
      "EvaluatorHoldout: Processed 35295 (100.0%) in 10.38 sec. Users per second: 3401\n",
      "Similarity column 38121 (100.0%), 5706.93 column/sec. Elapsed time 6.68 sec\n",
      "EvaluatorHoldout: Processed 35269 (100.0%) in 10.32 sec. Users per second: 3418\n",
      "Similarity column 38121 (100.0%), 5691.89 column/sec. Elapsed time 6.70 sec\n",
      "EvaluatorHoldout: Processed 35311 (100.0%) in 10.37 sec. Users per second: 3405\n",
      "Similarity column 38121 (100.0%), 5696.86 column/sec. Elapsed time 6.69 sec\n",
      "EvaluatorHoldout: Processed 35323 (100.0%) in 10.35 sec. Users per second: 3411\n",
      "Similarity column 38121 (100.0%), 5643.03 column/sec. Elapsed time 6.76 sec\n",
      "EvaluatorHoldout: Processed 35327 (100.0%) in 10.33 sec. Users per second: 3420\n",
      "Similarity column 38121 (100.0%), 5684.17 column/sec. Elapsed time 6.71 sec\n",
      "EvaluatorHoldout: Processed 35336 (100.0%) in 10.32 sec. Users per second: 3423\n",
      "Similarity column 38121 (100.0%), 5690.79 column/sec. Elapsed time 6.70 sec\n",
      "EvaluatorHoldout: Processed 35270 (100.0%) in 10.29 sec. Users per second: 3428\n",
      "Similarity column 38121 (100.0%), 5689.00 column/sec. Elapsed time 6.70 sec\n",
      "EvaluatorHoldout: Processed 35277 (100.0%) in 10.35 sec. Users per second: 3407\n"
     ]
    },
    {
     "name": "stderr",
     "output_type": "stream",
     "text": [
      "[I 2024-11-28 04:21:52,179] Trial 151 finished with value: 0.030744274454777343 and parameters: {'similarity': 'asymmetric', 'topK': 7, 'shrink': 14, 'asymmetric_alpha': 0.06203665430776092}. Best is trial 105 with value: 0.030772534046485507.\n"
     ]
    },
    {
     "name": "stdout",
     "output_type": "stream",
     "text": [
      "Similarity column 38121 (100.0%), 5682.39 column/sec. Elapsed time 6.71 sec\n",
      "EvaluatorHoldout: Processed 35311 (100.0%) in 10.35 sec. Users per second: 3413\n",
      "Similarity column 38121 (100.0%), 5687.11 column/sec. Elapsed time 6.70 sec\n",
      "EvaluatorHoldout: Processed 35289 (100.0%) in 10.37 sec. Users per second: 3404\n",
      "Similarity column 38121 (100.0%), 5685.22 column/sec. Elapsed time 6.71 sec\n",
      "EvaluatorHoldout: Processed 35295 (100.0%) in 10.25 sec. Users per second: 3442\n",
      "Similarity column 38121 (100.0%), 5670.09 column/sec. Elapsed time 6.72 sec\n",
      "EvaluatorHoldout: Processed 35269 (100.0%) in 10.31 sec. Users per second: 3422\n",
      "Similarity column 38121 (100.0%), 5676.65 column/sec. Elapsed time 6.72 sec\n",
      "EvaluatorHoldout: Processed 35311 (100.0%) in 10.37 sec. Users per second: 3405\n",
      "Similarity column 38121 (100.0%), 5650.37 column/sec. Elapsed time 6.75 sec\n",
      "EvaluatorHoldout: Processed 35323 (100.0%) in 10.31 sec. Users per second: 3427\n",
      "Similarity column 38121 (100.0%), 5673.46 column/sec. Elapsed time 6.72 sec\n",
      "EvaluatorHoldout: Processed 35327 (100.0%) in 10.34 sec. Users per second: 3416\n",
      "Similarity column 38121 (100.0%), 5620.15 column/sec. Elapsed time 6.78 sec\n",
      "EvaluatorHoldout: Processed 35336 (100.0%) in 10.30 sec. Users per second: 3432\n",
      "Similarity column 38121 (100.0%), 5711.11 column/sec. Elapsed time 6.67 sec\n",
      "EvaluatorHoldout: Processed 35270 (100.0%) in 10.31 sec. Users per second: 3422\n",
      "Similarity column 38121 (100.0%), 5690.69 column/sec. Elapsed time 6.70 sec\n",
      "EvaluatorHoldout: Processed 35277 (100.0%) in 10.34 sec. Users per second: 3413\n"
     ]
    },
    {
     "name": "stderr",
     "output_type": "stream",
     "text": [
      "[I 2024-11-28 04:24:43,004] Trial 152 finished with value: 0.030732636730855578 and parameters: {'similarity': 'asymmetric', 'topK': 7, 'shrink': 13, 'asymmetric_alpha': 0.051312077635153636}. Best is trial 105 with value: 0.030772534046485507.\n"
     ]
    },
    {
     "name": "stdout",
     "output_type": "stream",
     "text": [
      "Similarity column 38121 (100.0%), 5693.18 column/sec. Elapsed time 6.70 sec\n",
      "EvaluatorHoldout: Processed 35311 (100.0%) in 10.33 sec. Users per second: 3420\n",
      "Similarity column 38121 (100.0%), 5692.65 column/sec. Elapsed time 6.70 sec\n",
      "EvaluatorHoldout: Processed 35289 (100.0%) in 10.26 sec. Users per second: 3439\n",
      "Similarity column 38121 (100.0%), 5680.86 column/sec. Elapsed time 6.71 sec\n",
      "EvaluatorHoldout: Processed 35295 (100.0%) in 10.26 sec. Users per second: 3439\n",
      "Similarity column 38121 (100.0%), 5693.72 column/sec. Elapsed time 6.70 sec\n",
      "EvaluatorHoldout: Processed 35269 (100.0%) in 10.30 sec. Users per second: 3424\n",
      "Similarity column 38121 (100.0%), 5681.84 column/sec. Elapsed time 6.71 sec\n",
      "EvaluatorHoldout: Processed 35311 (100.0%) in 10.22 sec. Users per second: 3454\n",
      "Similarity column 38121 (100.0%), 5695.86 column/sec. Elapsed time 6.69 sec\n",
      "EvaluatorHoldout: Processed 35323 (100.0%) in 10.28 sec. Users per second: 3435\n",
      "Similarity column 38121 (100.0%), 5694.06 column/sec. Elapsed time 6.69 sec\n",
      "EvaluatorHoldout: Processed 35327 (100.0%) in 10.31 sec. Users per second: 3428\n",
      "Similarity column 38121 (100.0%), 5677.05 column/sec. Elapsed time 6.71 sec\n",
      "EvaluatorHoldout: Processed 35336 (100.0%) in 10.38 sec. Users per second: 3403\n",
      "Similarity column 38121 (100.0%), 5691.32 column/sec. Elapsed time 6.70 sec\n",
      "EvaluatorHoldout: Processed 35270 (100.0%) in 9.72 sec. Users per second: 3629\n",
      "Similarity column 38121 (100.0%), 5635.97 column/sec. Elapsed time 6.76 sec\n",
      "EvaluatorHoldout: Processed 35277 (100.0%) in 9.79 sec. Users per second: 3603\n"
     ]
    },
    {
     "name": "stderr",
     "output_type": "stream",
     "text": [
      "[I 2024-11-28 04:27:32,356] Trial 153 finished with value: 0.030765993435975397 and parameters: {'similarity': 'asymmetric', 'topK': 5, 'shrink': 16, 'asymmetric_alpha': 0.04175298127579515}. Best is trial 105 with value: 0.030772534046485507.\n"
     ]
    },
    {
     "name": "stdout",
     "output_type": "stream",
     "text": [
      "Similarity column 38121 (100.0%), 5698.64 column/sec. Elapsed time 6.69 sec\n",
      "EvaluatorHoldout: Processed 35311 (100.0%) in 10.29 sec. Users per second: 3431\n",
      "Similarity column 38121 (100.0%), 5685.41 column/sec. Elapsed time 6.71 sec\n",
      "EvaluatorHoldout: Processed 35289 (100.0%) in 10.15 sec. Users per second: 3477\n",
      "Similarity column 38121 (100.0%), 5685.44 column/sec. Elapsed time 6.71 sec\n",
      "EvaluatorHoldout: Processed 35295 (100.0%) in 10.25 sec. Users per second: 3444\n",
      "Similarity column 38121 (100.0%), 5685.41 column/sec. Elapsed time 6.71 sec\n",
      "EvaluatorHoldout: Processed 35269 (100.0%) in 10.21 sec. Users per second: 3454\n",
      "Similarity column 38121 (100.0%), 5637.88 column/sec. Elapsed time 6.76 sec\n",
      "EvaluatorHoldout: Processed 35311 (100.0%) in 10.20 sec. Users per second: 3461\n",
      "Similarity column 38121 (100.0%), 5701.18 column/sec. Elapsed time 6.69 sec\n",
      "EvaluatorHoldout: Processed 35323 (100.0%) in 9.85 sec. Users per second: 3588\n",
      "Similarity column 38121 (100.0%), 5702.82 column/sec. Elapsed time 6.68 sec\n",
      "EvaluatorHoldout: Processed 35327 (100.0%) in 9.76 sec. Users per second: 3619\n",
      "Similarity column 38121 (100.0%), 5641.72 column/sec. Elapsed time 6.76 sec\n",
      "EvaluatorHoldout: Processed 35336 (100.0%) in 9.78 sec. Users per second: 3612\n",
      "Similarity column 38121 (100.0%), 5695.62 column/sec. Elapsed time 6.69 sec\n",
      "EvaluatorHoldout: Processed 35270 (100.0%) in 9.68 sec. Users per second: 3645\n",
      "Similarity column 38121 (100.0%), 5694.65 column/sec. Elapsed time 6.69 sec\n",
      "EvaluatorHoldout: Processed 35277 (100.0%) in 9.79 sec. Users per second: 3602\n"
     ]
    },
    {
     "name": "stderr",
     "output_type": "stream",
     "text": [
      "[I 2024-11-28 04:30:19,810] Trial 154 finished with value: 0.03076506692205843 and parameters: {'similarity': 'asymmetric', 'topK': 5, 'shrink': 16, 'asymmetric_alpha': 0.03397318637062275}. Best is trial 105 with value: 0.030772534046485507.\n"
     ]
    },
    {
     "name": "stdout",
     "output_type": "stream",
     "text": [
      "Similarity column 38121 (100.0%), 5674.84 column/sec. Elapsed time 6.72 sec\n",
      "EvaluatorHoldout: Processed 35311 (100.0%) in 9.87 sec. Users per second: 3579\n",
      "Similarity column 38121 (100.0%), 5687.39 column/sec. Elapsed time 6.70 sec\n",
      "EvaluatorHoldout: Processed 35289 (100.0%) in 9.86 sec. Users per second: 3579\n",
      "Similarity column 38121 (100.0%), 5685.85 column/sec. Elapsed time 6.70 sec\n",
      "EvaluatorHoldout: Processed 35295 (100.0%) in 9.92 sec. Users per second: 3558\n",
      "Similarity column 38121 (100.0%), 5703.06 column/sec. Elapsed time 6.68 sec\n",
      "EvaluatorHoldout: Processed 35269 (100.0%) in 9.73 sec. Users per second: 3624\n",
      "Similarity column 38121 (100.0%), 5698.74 column/sec. Elapsed time 6.69 sec\n",
      "EvaluatorHoldout: Processed 35311 (100.0%) in 9.79 sec. Users per second: 3607\n",
      "Similarity column 38121 (100.0%), 5695.46 column/sec. Elapsed time 6.69 sec\n",
      "EvaluatorHoldout: Processed 35323 (100.0%) in 9.78 sec. Users per second: 3613\n",
      "Similarity column 38121 (100.0%), 5670.48 column/sec. Elapsed time 6.72 sec\n",
      "EvaluatorHoldout: Processed 35327 (100.0%) in 9.68 sec. Users per second: 3650\n",
      "Similarity column 38121 (100.0%), 5684.07 column/sec. Elapsed time 6.71 sec\n",
      "EvaluatorHoldout: Processed 35336 (100.0%) in 9.90 sec. Users per second: 3571\n",
      "Similarity column 38121 (100.0%), 5691.05 column/sec. Elapsed time 6.70 sec\n",
      "EvaluatorHoldout: Processed 35270 (100.0%) in 10.11 sec. Users per second: 3489\n",
      "Similarity column 38121 (100.0%), 5681.38 column/sec. Elapsed time 6.71 sec\n",
      "EvaluatorHoldout: Processed 35277 (100.0%) in 10.07 sec. Users per second: 3503\n"
     ]
    },
    {
     "name": "stderr",
     "output_type": "stream",
     "text": [
      "[I 2024-11-28 04:33:05,937] Trial 155 finished with value: 0.03078142287004788 and parameters: {'similarity': 'asymmetric', 'topK': 6, 'shrink': 16, 'asymmetric_alpha': 0.024628530649850728}. Best is trial 155 with value: 0.03078142287004788.\n"
     ]
    },
    {
     "name": "stdout",
     "output_type": "stream",
     "text": [
      "Similarity column 38121 (100.0%), 5888.94 column/sec. Elapsed time 6.47 sec\n",
      "EvaluatorHoldout: Processed 35311 (100.0%) in 10.22 sec. Users per second: 3454\n",
      "Similarity column 38121 (100.0%), 5837.87 column/sec. Elapsed time 6.53 sec\n",
      "EvaluatorHoldout: Processed 35289 (100.0%) in 10.15 sec. Users per second: 3478\n",
      "Similarity column 38121 (100.0%), 5869.24 column/sec. Elapsed time 6.50 sec\n",
      "EvaluatorHoldout: Processed 35295 (100.0%) in 10.16 sec. Users per second: 3475\n",
      "Similarity column 38121 (100.0%), 5849.17 column/sec. Elapsed time 6.52 sec\n",
      "EvaluatorHoldout: Processed 35269 (100.0%) in 10.17 sec. Users per second: 3468\n",
      "Similarity column 38121 (100.0%), 5901.51 column/sec. Elapsed time 6.46 sec\n",
      "EvaluatorHoldout: Processed 35311 (100.0%) in 10.19 sec. Users per second: 3466\n",
      "Similarity column 38121 (100.0%), 5904.87 column/sec. Elapsed time 6.46 sec\n",
      "EvaluatorHoldout: Processed 35323 (100.0%) in 10.21 sec. Users per second: 3459\n",
      "Similarity column 38121 (100.0%), 5821.66 column/sec. Elapsed time 6.55 sec\n",
      "EvaluatorHoldout: Processed 35327 (100.0%) in 10.21 sec. Users per second: 3462\n",
      "Similarity column 38121 (100.0%), 5879.49 column/sec. Elapsed time 6.48 sec\n",
      "EvaluatorHoldout: Processed 35336 (100.0%) in 10.23 sec. Users per second: 3453\n",
      "Similarity column 38121 (100.0%), 5897.78 column/sec. Elapsed time 6.46 sec\n",
      "EvaluatorHoldout: Processed 35270 (100.0%) in 10.20 sec. Users per second: 3459\n",
      "Similarity column 38121 (100.0%), 5882.74 column/sec. Elapsed time 6.48 sec\n",
      "EvaluatorHoldout: Processed 35277 (100.0%) in 10.22 sec. Users per second: 3450\n"
     ]
    },
    {
     "name": "stderr",
     "output_type": "stream",
     "text": [
      "[I 2024-11-28 04:35:53,194] Trial 156 finished with value: 0.029111252855180163 and parameters: {'similarity': 'cosine', 'topK': 5, 'shrink': 16}. Best is trial 155 with value: 0.03078142287004788.\n"
     ]
    },
    {
     "name": "stdout",
     "output_type": "stream",
     "text": [
      "Similarity column 38121 (100.0%), 5686.44 column/sec. Elapsed time 6.70 sec\n",
      "EvaluatorHoldout: Processed 35311 (100.0%) in 10.25 sec. Users per second: 3444\n",
      "Similarity column 38121 (100.0%), 5651.28 column/sec. Elapsed time 6.75 sec\n",
      "EvaluatorHoldout: Processed 35289 (100.0%) in 10.31 sec. Users per second: 3422\n",
      "Similarity column 38121 (100.0%), 5688.62 column/sec. Elapsed time 6.70 sec\n",
      "EvaluatorHoldout: Processed 35295 (100.0%) in 10.24 sec. Users per second: 3447\n",
      "Similarity column 38121 (100.0%), 5688.75 column/sec. Elapsed time 6.70 sec\n",
      "EvaluatorHoldout: Processed 35269 (100.0%) in 10.27 sec. Users per second: 3435\n",
      "Similarity column 38121 (100.0%), 5648.09 column/sec. Elapsed time 6.75 sec\n",
      "EvaluatorHoldout: Processed 35311 (100.0%) in 10.24 sec. Users per second: 3447\n",
      "Similarity column 38121 (100.0%), 5696.88 column/sec. Elapsed time 6.69 sec\n",
      "EvaluatorHoldout: Processed 35323 (100.0%) in 10.22 sec. Users per second: 3456\n",
      "Similarity column 38121 (100.0%), 5664.16 column/sec. Elapsed time 6.73 sec\n",
      "EvaluatorHoldout: Processed 35327 (100.0%) in 10.31 sec. Users per second: 3425\n",
      "Similarity column 38121 (100.0%), 5668.16 column/sec. Elapsed time 6.73 sec\n",
      "EvaluatorHoldout: Processed 35336 (100.0%) in 10.31 sec. Users per second: 3427\n",
      "Similarity column 38121 (100.0%), 5697.58 column/sec. Elapsed time 6.69 sec\n",
      "EvaluatorHoldout: Processed 35270 (100.0%) in 10.29 sec. Users per second: 3427\n",
      "Similarity column 38121 (100.0%), 5642.31 column/sec. Elapsed time 6.76 sec\n",
      "EvaluatorHoldout: Processed 35277 (100.0%) in 10.23 sec. Users per second: 3449\n"
     ]
    },
    {
     "name": "stderr",
     "output_type": "stream",
     "text": [
      "[I 2024-11-28 04:38:43,490] Trial 157 finished with value: 0.030579233810191397 and parameters: {'similarity': 'asymmetric', 'topK': 9, 'shrink': 16, 'asymmetric_alpha': 0.02308474507159075}. Best is trial 155 with value: 0.03078142287004788.\n"
     ]
    },
    {
     "name": "stdout",
     "output_type": "stream",
     "text": [
      "Similarity column 38121 (100.0%), 5681.85 column/sec. Elapsed time 6.71 sec\n",
      "EvaluatorHoldout: Processed 35311 (100.0%) in 10.22 sec. Users per second: 3455\n",
      "Similarity column 38121 (100.0%), 5680.31 column/sec. Elapsed time 6.71 sec\n",
      "EvaluatorHoldout: Processed 35289 (100.0%) in 10.20 sec. Users per second: 3459\n",
      "Similarity column 38121 (100.0%), 5681.10 column/sec. Elapsed time 6.71 sec\n",
      "EvaluatorHoldout: Processed 35295 (100.0%) in 10.29 sec. Users per second: 3431\n",
      "Similarity column 38121 (100.0%), 5637.71 column/sec. Elapsed time 6.76 sec\n",
      "EvaluatorHoldout: Processed 35269 (100.0%) in 10.30 sec. Users per second: 3423\n",
      "Similarity column 38121 (100.0%), 5680.61 column/sec. Elapsed time 6.71 sec\n",
      "EvaluatorHoldout: Processed 35311 (100.0%) in 10.24 sec. Users per second: 3449\n",
      "Similarity column 38121 (100.0%), 5682.23 column/sec. Elapsed time 6.71 sec\n",
      "EvaluatorHoldout: Processed 35323 (100.0%) in 10.36 sec. Users per second: 3409\n",
      "Similarity column 38121 (100.0%), 5667.13 column/sec. Elapsed time 6.73 sec\n",
      "EvaluatorHoldout: Processed 35327 (100.0%) in 10.34 sec. Users per second: 3415\n",
      "Similarity column 38121 (100.0%), 5681.05 column/sec. Elapsed time 6.71 sec\n",
      "EvaluatorHoldout: Processed 35336 (100.0%) in 10.34 sec. Users per second: 3418\n",
      "Similarity column 38121 (100.0%), 5683.24 column/sec. Elapsed time 6.71 sec\n",
      "EvaluatorHoldout: Processed 35270 (100.0%) in 10.36 sec. Users per second: 3404\n",
      "Similarity column 38121 (100.0%), 5679.91 column/sec. Elapsed time 6.71 sec\n",
      "EvaluatorHoldout: Processed 35277 (100.0%) in 10.32 sec. Users per second: 3420\n"
     ]
    },
    {
     "name": "stderr",
     "output_type": "stream",
     "text": [
      "[I 2024-11-28 04:41:34,111] Trial 158 finished with value: 0.030684171244410825 and parameters: {'similarity': 'asymmetric', 'topK': 8, 'shrink': 18, 'asymmetric_alpha': 0.0336215728353965}. Best is trial 155 with value: 0.03078142287004788.\n"
     ]
    },
    {
     "name": "stdout",
     "output_type": "stream",
     "text": [
      "Similarity column 38121 (100.0%), 5681.10 column/sec. Elapsed time 6.71 sec\n",
      "EvaluatorHoldout: Processed 35311 (100.0%) in 10.41 sec. Users per second: 3391\n",
      "Similarity column 38121 (100.0%), 5687.01 column/sec. Elapsed time 6.70 sec\n",
      "EvaluatorHoldout: Processed 35289 (100.0%) in 10.43 sec. Users per second: 3383\n",
      "Similarity column 38121 (100.0%), 5686.53 column/sec. Elapsed time 6.70 sec\n",
      "EvaluatorHoldout: Processed 35295 (100.0%) in 10.46 sec. Users per second: 3376\n",
      "Similarity column 38121 (100.0%), 5698.05 column/sec. Elapsed time 6.69 sec\n",
      "EvaluatorHoldout: Processed 35269 (100.0%) in 10.36 sec. Users per second: 3404\n",
      "Similarity column 38121 (100.0%), 5670.51 column/sec. Elapsed time 6.72 sec\n",
      "EvaluatorHoldout: Processed 35311 (100.0%) in 10.39 sec. Users per second: 3397\n",
      "Similarity column 38121 (100.0%), 5637.34 column/sec. Elapsed time 6.76 sec\n",
      "EvaluatorHoldout: Processed 35323 (100.0%) in 10.39 sec. Users per second: 3401\n",
      "Similarity column 38121 (100.0%), 5680.95 column/sec. Elapsed time 6.71 sec\n",
      "EvaluatorHoldout: Processed 35327 (100.0%) in 10.39 sec. Users per second: 3399\n",
      "Similarity column 38121 (100.0%), 5672.92 column/sec. Elapsed time 6.72 sec\n",
      "EvaluatorHoldout: Processed 35336 (100.0%) in 10.43 sec. Users per second: 3389\n",
      "Similarity column 38121 (100.0%), 5685.66 column/sec. Elapsed time 6.70 sec\n",
      "EvaluatorHoldout: Processed 35270 (100.0%) in 10.44 sec. Users per second: 3377\n",
      "Similarity column 38121 (100.0%), 5684.67 column/sec. Elapsed time 6.71 sec\n",
      "EvaluatorHoldout: Processed 35277 (100.0%) in 10.39 sec. Users per second: 3394\n"
     ]
    },
    {
     "name": "stderr",
     "output_type": "stream",
     "text": [
      "[I 2024-11-28 04:44:25,790] Trial 159 finished with value: 0.030307400479006354 and parameters: {'similarity': 'asymmetric', 'topK': 11, 'shrink': 12, 'asymmetric_alpha': 0.04089489678171378}. Best is trial 155 with value: 0.03078142287004788.\n"
     ]
    },
    {
     "name": "stdout",
     "output_type": "stream",
     "text": [
      "Similarity column 38121 (100.0%), 5689.95 column/sec. Elapsed time 6.70 sec\n",
      "EvaluatorHoldout: Processed 35311 (100.0%) in 10.25 sec. Users per second: 3446\n",
      "Similarity column 38121 (100.0%), 5677.80 column/sec. Elapsed time 6.71 sec\n",
      "EvaluatorHoldout: Processed 35289 (100.0%) in 10.25 sec. Users per second: 3444\n",
      "Similarity column 38121 (100.0%), 5680.60 column/sec. Elapsed time 6.71 sec\n",
      "EvaluatorHoldout: Processed 35295 (100.0%) in 10.21 sec. Users per second: 3456\n",
      "Similarity column 38121 (100.0%), 5694.03 column/sec. Elapsed time 6.69 sec\n",
      "EvaluatorHoldout: Processed 35269 (100.0%) in 10.25 sec. Users per second: 3441\n",
      "Similarity column 38121 (100.0%), 5639.57 column/sec. Elapsed time 6.76 sec\n",
      "EvaluatorHoldout: Processed 35311 (100.0%) in 10.28 sec. Users per second: 3433\n",
      "Similarity column 38121 (100.0%), 5693.12 column/sec. Elapsed time 6.70 sec\n",
      "EvaluatorHoldout: Processed 35323 (100.0%) in 10.22 sec. Users per second: 3456\n",
      "Similarity column 38121 (100.0%), 5693.88 column/sec. Elapsed time 6.70 sec\n",
      "EvaluatorHoldout: Processed 35327 (100.0%) in 10.32 sec. Users per second: 3425\n",
      "Similarity column 38121 (100.0%), 5679.34 column/sec. Elapsed time 6.71 sec\n",
      "EvaluatorHoldout: Processed 35336 (100.0%) in 10.26 sec. Users per second: 3446\n",
      "Similarity column 38121 (100.0%), 5679.69 column/sec. Elapsed time 6.71 sec\n",
      "EvaluatorHoldout: Processed 35270 (100.0%) in 10.20 sec. Users per second: 3458\n",
      "Similarity column 38121 (100.0%), 5634.17 column/sec. Elapsed time 6.77 sec\n",
      "EvaluatorHoldout: Processed 35277 (100.0%) in 10.21 sec. Users per second: 3455\n"
     ]
    },
    {
     "name": "stderr",
     "output_type": "stream",
     "text": [
      "[I 2024-11-28 04:47:15,813] Trial 160 finished with value: 0.030757740165260228 and parameters: {'similarity': 'asymmetric', 'topK': 5, 'shrink': 16, 'asymmetric_alpha': 0.025663158991199995}. Best is trial 155 with value: 0.03078142287004788.\n"
     ]
    },
    {
     "name": "stdout",
     "output_type": "stream",
     "text": [
      "Similarity column 38121 (100.0%), 5696.56 column/sec. Elapsed time 6.69 sec\n",
      "EvaluatorHoldout: Processed 35311 (100.0%) in 10.22 sec. Users per second: 3456\n",
      "Similarity column 38121 (100.0%), 5697.42 column/sec. Elapsed time 6.69 sec\n",
      "EvaluatorHoldout: Processed 35289 (100.0%) in 10.27 sec. Users per second: 3436\n",
      "Similarity column 38121 (100.0%), 5665.88 column/sec. Elapsed time 6.73 sec\n",
      "EvaluatorHoldout: Processed 35295 (100.0%) in 10.27 sec. Users per second: 3438\n",
      "Similarity column 38121 (100.0%), 5689.99 column/sec. Elapsed time 6.70 sec\n",
      "EvaluatorHoldout: Processed 35269 (100.0%) in 10.24 sec. Users per second: 3443\n",
      "Similarity column 38121 (100.0%), 5648.25 column/sec. Elapsed time 6.75 sec\n",
      "EvaluatorHoldout: Processed 35311 (100.0%) in 10.22 sec. Users per second: 3455\n",
      "Similarity column 38121 (100.0%), 5691.35 column/sec. Elapsed time 6.70 sec\n",
      "EvaluatorHoldout: Processed 35323 (100.0%) in 10.24 sec. Users per second: 3450\n",
      "Similarity column 38121 (100.0%), 5631.82 column/sec. Elapsed time 6.77 sec\n",
      "EvaluatorHoldout: Processed 35327 (100.0%) in 10.18 sec. Users per second: 3469\n",
      "Similarity column 38121 (100.0%), 5685.44 column/sec. Elapsed time 6.71 sec\n",
      "EvaluatorHoldout: Processed 35336 (100.0%) in 10.23 sec. Users per second: 3455\n",
      "Similarity column 38121 (100.0%), 5702.75 column/sec. Elapsed time 6.68 sec\n",
      "EvaluatorHoldout: Processed 35270 (100.0%) in 10.22 sec. Users per second: 3450\n",
      "Similarity column 38121 (100.0%), 5690.85 column/sec. Elapsed time 6.70 sec\n",
      "EvaluatorHoldout: Processed 35277 (100.0%) in 10.18 sec. Users per second: 3465\n"
     ]
    },
    {
     "name": "stderr",
     "output_type": "stream",
     "text": [
      "[I 2024-11-28 04:50:05,618] Trial 161 finished with value: 0.030751457071230705 and parameters: {'similarity': 'asymmetric', 'topK': 5, 'shrink': 16, 'asymmetric_alpha': 0.024207435157400495}. Best is trial 155 with value: 0.03078142287004788.\n"
     ]
    },
    {
     "name": "stdout",
     "output_type": "stream",
     "text": [
      "Similarity column 38121 (100.0%), 5688.40 column/sec. Elapsed time 6.70 sec\n",
      "EvaluatorHoldout: Processed 35311 (100.0%) in 10.21 sec. Users per second: 3460\n",
      "Similarity column 38121 (100.0%), 5677.31 column/sec. Elapsed time 6.71 sec\n",
      "EvaluatorHoldout: Processed 35289 (100.0%) in 10.27 sec. Users per second: 3435\n",
      "Similarity column 38121 (100.0%), 5684.70 column/sec. Elapsed time 6.71 sec\n",
      "EvaluatorHoldout: Processed 35295 (100.0%) in 10.24 sec. Users per second: 3446\n",
      "Similarity column 38121 (100.0%), 5665.98 column/sec. Elapsed time 6.73 sec\n",
      "EvaluatorHoldout: Processed 35269 (100.0%) in 10.24 sec. Users per second: 3445\n",
      "Similarity column 38121 (100.0%), 5642.61 column/sec. Elapsed time 6.76 sec\n",
      "EvaluatorHoldout: Processed 35311 (100.0%) in 10.23 sec. Users per second: 3451\n",
      "Similarity column 38121 (100.0%), 5682.02 column/sec. Elapsed time 6.71 sec\n",
      "EvaluatorHoldout: Processed 35323 (100.0%) in 10.27 sec. Users per second: 3438\n",
      "Similarity column 38121 (100.0%), 5694.16 column/sec. Elapsed time 6.69 sec\n",
      "EvaluatorHoldout: Processed 35327 (100.0%) in 10.31 sec. Users per second: 3425\n",
      "Similarity column 38121 (100.0%), 5683.62 column/sec. Elapsed time 6.71 sec\n",
      "EvaluatorHoldout: Processed 35336 (100.0%) in 10.26 sec. Users per second: 3443\n",
      "Similarity column 38121 (100.0%), 5680.46 column/sec. Elapsed time 6.71 sec\n",
      "EvaluatorHoldout: Processed 35270 (100.0%) in 10.22 sec. Users per second: 3452\n",
      "Similarity column 38121 (100.0%), 5649.01 column/sec. Elapsed time 6.75 sec\n",
      "EvaluatorHoldout: Processed 35277 (100.0%) in 10.28 sec. Users per second: 3431\n"
     ]
    },
    {
     "name": "stderr",
     "output_type": "stream",
     "text": [
      "[I 2024-11-28 04:52:55,751] Trial 162 finished with value: 0.030704319712874295 and parameters: {'similarity': 'asymmetric', 'topK': 6, 'shrink': 14, 'asymmetric_alpha': 0.01645198873522118}. Best is trial 155 with value: 0.03078142287004788.\n"
     ]
    },
    {
     "name": "stdout",
     "output_type": "stream",
     "text": [
      "Similarity column 38121 (100.0%), 5667.27 column/sec. Elapsed time 6.73 sec\n",
      "EvaluatorHoldout: Processed 35311 (100.0%) in 10.41 sec. Users per second: 3391\n",
      "Similarity column 38121 (100.0%), 5676.76 column/sec. Elapsed time 6.72 sec\n",
      "EvaluatorHoldout: Processed 35289 (100.0%) in 10.36 sec. Users per second: 3405\n",
      "Similarity column 38121 (100.0%), 5668.10 column/sec. Elapsed time 6.73 sec\n",
      "EvaluatorHoldout: Processed 35295 (100.0%) in 10.29 sec. Users per second: 3429\n",
      "Similarity column 38121 (100.0%), 5666.63 column/sec. Elapsed time 6.73 sec\n",
      "EvaluatorHoldout: Processed 35269 (100.0%) in 10.35 sec. Users per second: 3408\n",
      "Similarity column 38121 (100.0%), 5684.39 column/sec. Elapsed time 6.71 sec\n",
      "EvaluatorHoldout: Processed 35311 (100.0%) in 10.32 sec. Users per second: 3422\n",
      "Similarity column 38121 (100.0%), 5686.77 column/sec. Elapsed time 6.70 sec\n",
      "EvaluatorHoldout: Processed 35323 (100.0%) in 10.30 sec. Users per second: 3429\n",
      "Similarity column 38121 (100.0%), 5626.52 column/sec. Elapsed time 6.78 sec\n",
      "EvaluatorHoldout: Processed 35327 (100.0%) in 10.33 sec. Users per second: 3419\n",
      "Similarity column 38121 (100.0%), 5671.93 column/sec. Elapsed time 6.72 sec\n",
      "EvaluatorHoldout: Processed 35336 (100.0%) in 10.35 sec. Users per second: 3415\n",
      "Similarity column 38121 (100.0%), 5696.76 column/sec. Elapsed time 6.69 sec\n",
      "EvaluatorHoldout: Processed 35270 (100.0%) in 10.37 sec. Users per second: 3402\n",
      "Similarity column 38121 (100.0%), 5674.10 column/sec. Elapsed time 6.72 sec\n",
      "EvaluatorHoldout: Processed 35277 (100.0%) in 10.34 sec. Users per second: 3412\n"
     ]
    },
    {
     "name": "stderr",
     "output_type": "stream",
     "text": [
      "[I 2024-11-28 04:55:46,809] Trial 163 finished with value: 0.03066976587323103 and parameters: {'similarity': 'asymmetric', 'topK': 8, 'shrink': 17, 'asymmetric_alpha': 0.028881047657577437}. Best is trial 155 with value: 0.03078142287004788.\n"
     ]
    },
    {
     "name": "stdout",
     "output_type": "stream",
     "text": [
      "Similarity column 38121 (100.0%), 5661.80 column/sec. Elapsed time 6.73 sec\n",
      "EvaluatorHoldout: Processed 35311 (100.0%) in 10.27 sec. Users per second: 3438\n",
      "Similarity column 38121 (100.0%), 5646.44 column/sec. Elapsed time 6.75 sec\n",
      "EvaluatorHoldout: Processed 35289 (100.0%) in 10.28 sec. Users per second: 3432\n",
      "Similarity column 38121 (100.0%), 5677.92 column/sec. Elapsed time 6.71 sec\n",
      "EvaluatorHoldout: Processed 35295 (100.0%) in 10.27 sec. Users per second: 3438\n",
      "Similarity column 38121 (100.0%), 5676.55 column/sec. Elapsed time 6.72 sec\n",
      "EvaluatorHoldout: Processed 35269 (100.0%) in 10.36 sec. Users per second: 3403\n",
      "Similarity column 38121 (100.0%), 5677.17 column/sec. Elapsed time 6.71 sec\n",
      "EvaluatorHoldout: Processed 35311 (100.0%) in 10.28 sec. Users per second: 3436\n",
      "Similarity column 38121 (100.0%), 5702.45 column/sec. Elapsed time 6.69 sec\n",
      "EvaluatorHoldout: Processed 35323 (100.0%) in 10.30 sec. Users per second: 3429\n",
      "Similarity column 38121 (100.0%), 5631.96 column/sec. Elapsed time 6.77 sec\n",
      "EvaluatorHoldout: Processed 35327 (100.0%) in 10.28 sec. Users per second: 3436\n",
      "Similarity column 38121 (100.0%), 5677.45 column/sec. Elapsed time 6.71 sec\n",
      "EvaluatorHoldout: Processed 35336 (100.0%) in 10.26 sec. Users per second: 3446\n",
      "Similarity column 38121 (100.0%), 5683.74 column/sec. Elapsed time 6.71 sec\n",
      "EvaluatorHoldout: Processed 35270 (100.0%) in 10.26 sec. Users per second: 3437\n",
      "Similarity column 38121 (100.0%), 5676.32 column/sec. Elapsed time 6.72 sec\n",
      "EvaluatorHoldout: Processed 35277 (100.0%) in 10.29 sec. Users per second: 3428\n"
     ]
    },
    {
     "name": "stderr",
     "output_type": "stream",
     "text": [
      "[I 2024-11-28 04:58:37,353] Trial 164 finished with value: 0.03076655043160319 and parameters: {'similarity': 'asymmetric', 'topK': 6, 'shrink': 16, 'asymmetric_alpha': 0.0328894723278571}. Best is trial 155 with value: 0.03078142287004788.\n"
     ]
    },
    {
     "name": "stdout",
     "output_type": "stream",
     "text": [
      "Similarity column 38121 (100.0%), 5691.96 column/sec. Elapsed time 6.70 sec\n",
      "EvaluatorHoldout: Processed 35311 (100.0%) in 10.28 sec. Users per second: 3433\n",
      "Similarity column 38121 (100.0%), 5676.15 column/sec. Elapsed time 6.72 sec\n",
      "EvaluatorHoldout: Processed 35289 (100.0%) in 10.23 sec. Users per second: 3450\n",
      "Similarity column 38121 (100.0%), 5688.03 column/sec. Elapsed time 6.70 sec\n",
      "EvaluatorHoldout: Processed 35295 (100.0%) in 10.19 sec. Users per second: 3462\n",
      "Similarity column 38121 (100.0%), 5681.07 column/sec. Elapsed time 6.71 sec\n",
      "EvaluatorHoldout: Processed 35269 (100.0%) in 10.28 sec. Users per second: 3431\n",
      "Similarity column 38121 (100.0%), 5689.82 column/sec. Elapsed time 6.70 sec\n",
      "EvaluatorHoldout: Processed 35311 (100.0%) in 10.21 sec. Users per second: 3457\n",
      "Similarity column 38121 (100.0%), 5692.39 column/sec. Elapsed time 6.70 sec\n",
      "EvaluatorHoldout: Processed 35323 (100.0%) in 10.23 sec. Users per second: 3451\n",
      "Similarity column 38121 (100.0%), 5647.59 column/sec. Elapsed time 6.75 sec\n",
      "EvaluatorHoldout: Processed 35327 (100.0%) in 10.28 sec. Users per second: 3437\n",
      "Similarity column 38121 (100.0%), 5682.61 column/sec. Elapsed time 6.71 sec\n",
      "EvaluatorHoldout: Processed 35336 (100.0%) in 10.26 sec. Users per second: 3443\n",
      "Similarity column 38121 (100.0%), 5697.06 column/sec. Elapsed time 6.69 sec\n",
      "EvaluatorHoldout: Processed 35270 (100.0%) in 10.17 sec. Users per second: 3467\n",
      "Similarity column 38121 (100.0%), 5647.51 column/sec. Elapsed time 6.75 sec\n",
      "EvaluatorHoldout: Processed 35277 (100.0%) in 10.23 sec. Users per second: 3447\n"
     ]
    },
    {
     "name": "stderr",
     "output_type": "stream",
     "text": [
      "[I 2024-11-28 05:01:27,261] Trial 165 finished with value: 0.03071848422218688 and parameters: {'similarity': 'asymmetric', 'topK': 5, 'shrink': 14, 'asymmetric_alpha': 0.03462042576394622}. Best is trial 155 with value: 0.03078142287004788.\n"
     ]
    },
    {
     "name": "stdout",
     "output_type": "stream",
     "text": [
      "Similarity column 38121 (100.0%), 5661.75 column/sec. Elapsed time 6.73 sec\n",
      "EvaluatorHoldout: Processed 35311 (100.0%) in 10.30 sec. Users per second: 3427\n",
      "Similarity column 38121 (100.0%), 5684.29 column/sec. Elapsed time 6.71 sec\n",
      "EvaluatorHoldout: Processed 35289 (100.0%) in 10.39 sec. Users per second: 3397\n",
      "Similarity column 38121 (100.0%), 5684.88 column/sec. Elapsed time 6.71 sec\n",
      "EvaluatorHoldout: Processed 35295 (100.0%) in 10.31 sec. Users per second: 3424\n",
      "Similarity column 38121 (100.0%), 5689.67 column/sec. Elapsed time 6.70 sec\n",
      "EvaluatorHoldout: Processed 35269 (100.0%) in 10.30 sec. Users per second: 3426\n",
      "Similarity column 38121 (100.0%), 5644.67 column/sec. Elapsed time 6.75 sec\n",
      "EvaluatorHoldout: Processed 35311 (100.0%) in 10.32 sec. Users per second: 3421\n",
      "Similarity column 38121 (100.0%), 5689.35 column/sec. Elapsed time 6.70 sec\n",
      "EvaluatorHoldout: Processed 35323 (100.0%) in 10.31 sec. Users per second: 3427\n",
      "Similarity column 38121 (100.0%), 5693.91 column/sec. Elapsed time 6.70 sec\n",
      "EvaluatorHoldout: Processed 35327 (100.0%) in 10.37 sec. Users per second: 3407\n",
      "Similarity column 38121 (100.0%), 5610.97 column/sec. Elapsed time 6.79 sec\n",
      "EvaluatorHoldout: Processed 35336 (100.0%) in 10.32 sec. Users per second: 3424\n",
      "Similarity column 38121 (100.0%), 5686.80 column/sec. Elapsed time 6.70 sec\n",
      "EvaluatorHoldout: Processed 35270 (100.0%) in 10.29 sec. Users per second: 3429\n",
      "Similarity column 38121 (100.0%), 5676.52 column/sec. Elapsed time 6.72 sec\n",
      "EvaluatorHoldout: Processed 35277 (100.0%) in 10.42 sec. Users per second: 3386\n"
     ]
    },
    {
     "name": "stderr",
     "output_type": "stream",
     "text": [
      "[I 2024-11-28 05:04:18,212] Trial 166 finished with value: 0.03054318220223476 and parameters: {'similarity': 'asymmetric', 'topK': 9, 'shrink': 13, 'asymmetric_alpha': 0.04293005348661003}. Best is trial 155 with value: 0.03078142287004788.\n"
     ]
    },
    {
     "name": "stdout",
     "output_type": "stream",
     "text": [
      "Similarity column 38121 (100.0%), 5692.95 column/sec. Elapsed time 6.70 sec\n",
      "EvaluatorHoldout: Processed 35311 (100.0%) in 10.21 sec. Users per second: 3460\n",
      "Similarity column 38121 (100.0%), 5685.81 column/sec. Elapsed time 6.70 sec\n",
      "EvaluatorHoldout: Processed 35289 (100.0%) in 10.29 sec. Users per second: 3429\n",
      "Similarity column 38121 (100.0%), 5693.46 column/sec. Elapsed time 6.70 sec\n",
      "EvaluatorHoldout: Processed 35295 (100.0%) in 10.24 sec. Users per second: 3447\n",
      "Similarity column 38121 (100.0%), 5688.53 column/sec. Elapsed time 6.70 sec\n",
      "EvaluatorHoldout: Processed 35269 (100.0%) in 10.23 sec. Users per second: 3449\n",
      "Similarity column 38121 (100.0%), 5640.26 column/sec. Elapsed time 6.76 sec\n",
      "EvaluatorHoldout: Processed 35311 (100.0%) in 10.23 sec. Users per second: 3452\n",
      "Similarity column 38121 (100.0%), 5702.90 column/sec. Elapsed time 6.68 sec\n",
      "EvaluatorHoldout: Processed 35323 (100.0%) in 10.28 sec. Users per second: 3435\n",
      "Similarity column 38121 (100.0%), 5683.80 column/sec. Elapsed time 6.71 sec\n",
      "EvaluatorHoldout: Processed 35327 (100.0%) in 10.29 sec. Users per second: 3433\n",
      "Similarity column 38121 (100.0%), 5683.31 column/sec. Elapsed time 6.71 sec\n",
      "EvaluatorHoldout: Processed 35336 (100.0%) in 10.19 sec. Users per second: 3467\n",
      "Similarity column 38121 (100.0%), 5689.22 column/sec. Elapsed time 6.70 sec\n",
      "EvaluatorHoldout: Processed 35270 (100.0%) in 10.24 sec. Users per second: 3443\n",
      "Similarity column 38121 (100.0%), 5650.53 column/sec. Elapsed time 6.75 sec\n",
      "EvaluatorHoldout: Processed 35277 (100.0%) in 10.26 sec. Users per second: 3438\n"
     ]
    },
    {
     "name": "stderr",
     "output_type": "stream",
     "text": [
      "[I 2024-11-28 05:07:08,190] Trial 167 finished with value: 0.03077751969213447 and parameters: {'similarity': 'asymmetric', 'topK': 6, 'shrink': 16, 'asymmetric_alpha': 0.026452315224379026}. Best is trial 155 with value: 0.03078142287004788.\n"
     ]
    },
    {
     "name": "stdout",
     "output_type": "stream",
     "text": [
      "Similarity column 38121 (100.0%), 5653.00 column/sec. Elapsed time 6.74 sec\n",
      "EvaluatorHoldout: Processed 35311 (100.0%) in 11.54 sec. Users per second: 3060\n",
      "Similarity column 38121 (100.0%), 5661.02 column/sec. Elapsed time 6.73 sec\n",
      "EvaluatorHoldout: Processed 35289 (100.0%) in 11.54 sec. Users per second: 3057\n",
      "Similarity column 38121 (100.0%), 5605.69 column/sec. Elapsed time 6.80 sec\n",
      "EvaluatorHoldout: Processed 35295 (100.0%) in 11.55 sec. Users per second: 3055\n",
      "Similarity column 38121 (100.0%), 5655.89 column/sec. Elapsed time 6.74 sec\n",
      "EvaluatorHoldout: Processed 35269 (100.0%) in 11.59 sec. Users per second: 3044\n",
      "Similarity column 38121 (100.0%), 5610.58 column/sec. Elapsed time 6.79 sec\n",
      "EvaluatorHoldout: Processed 35311 (100.0%) in 11.52 sec. Users per second: 3066\n",
      "Similarity column 38121 (100.0%), 5674.37 column/sec. Elapsed time 6.72 sec\n",
      "EvaluatorHoldout: Processed 35323 (100.0%) in 11.53 sec. Users per second: 3065\n",
      "Similarity column 38121 (100.0%), 5666.70 column/sec. Elapsed time 6.73 sec\n",
      "EvaluatorHoldout: Processed 35327 (100.0%) in 11.58 sec. Users per second: 3050\n",
      "Similarity column 38121 (100.0%), 5643.10 column/sec. Elapsed time 6.76 sec\n",
      "EvaluatorHoldout: Processed 35336 (100.0%) in 11.53 sec. Users per second: 3065\n",
      "Similarity column 38121 (100.0%), 5673.90 column/sec. Elapsed time 6.72 sec\n",
      "EvaluatorHoldout: Processed 35270 (100.0%) in 11.51 sec. Users per second: 3065\n",
      "Similarity column 38121 (100.0%), 5623.50 column/sec. Elapsed time 6.78 sec\n",
      "EvaluatorHoldout: Processed 35277 (100.0%) in 11.52 sec. Users per second: 3061\n"
     ]
    },
    {
     "name": "stderr",
     "output_type": "stream",
     "text": [
      "[I 2024-11-28 05:10:11,704] Trial 168 finished with value: 0.028175652427185928 and parameters: {'similarity': 'asymmetric', 'topK': 61, 'shrink': 15, 'asymmetric_alpha': 0.026064494595285547}. Best is trial 155 with value: 0.03078142287004788.\n"
     ]
    },
    {
     "name": "stdout",
     "output_type": "stream",
     "text": [
      "Similarity column 38121 (100.0%), 5690.23 column/sec. Elapsed time 6.70 sec\n",
      "EvaluatorHoldout: Processed 35311 (100.0%) in 10.25 sec. Users per second: 3447\n",
      "Similarity column 38121 (100.0%), 5690.62 column/sec. Elapsed time 6.70 sec\n",
      "EvaluatorHoldout: Processed 35289 (100.0%) in 10.22 sec. Users per second: 3454\n",
      "Similarity column 38121 (100.0%), 5630.62 column/sec. Elapsed time 6.77 sec\n",
      "EvaluatorHoldout: Processed 35295 (100.0%) in 10.20 sec. Users per second: 3459\n",
      "Similarity column 38121 (100.0%), 5682.72 column/sec. Elapsed time 6.71 sec\n",
      "EvaluatorHoldout: Processed 35269 (100.0%) in 10.27 sec. Users per second: 3435\n",
      "Similarity column 38121 (100.0%), 5693.93 column/sec. Elapsed time 6.70 sec\n",
      "EvaluatorHoldout: Processed 35311 (100.0%) in 10.30 sec. Users per second: 3429\n",
      "Similarity column 38121 (100.0%), 5694.67 column/sec. Elapsed time 6.69 sec\n",
      "EvaluatorHoldout: Processed 35323 (100.0%) in 10.27 sec. Users per second: 3439\n",
      "Similarity column 38121 (100.0%), 5665.51 column/sec. Elapsed time 6.73 sec\n",
      "EvaluatorHoldout: Processed 35327 (100.0%) in 10.24 sec. Users per second: 3450\n",
      "Similarity column 38121 (100.0%), 5669.98 column/sec. Elapsed time 6.72 sec\n",
      "EvaluatorHoldout: Processed 35336 (100.0%) in 10.19 sec. Users per second: 3467\n",
      "Similarity column 38121 (100.0%), 5642.25 column/sec. Elapsed time 6.76 sec\n",
      "EvaluatorHoldout: Processed 35270 (100.0%) in 10.17 sec. Users per second: 3468\n",
      "Similarity column 38121 (100.0%), 5680.31 column/sec. Elapsed time 6.71 sec\n",
      "EvaluatorHoldout: Processed 35277 (100.0%) in 10.24 sec. Users per second: 3446\n"
     ]
    },
    {
     "name": "stderr",
     "output_type": "stream",
     "text": [
      "[I 2024-11-28 05:13:01,654] Trial 169 finished with value: 0.030723535032448672 and parameters: {'similarity': 'asymmetric', 'topK': 7, 'shrink': 16, 'asymmetric_alpha': 0.018370433397725032}. Best is trial 155 with value: 0.03078142287004788.\n"
     ]
    },
    {
     "name": "stdout",
     "output_type": "stream",
     "text": [
      "Similarity column 38121 (100.0%), 5656.09 column/sec. Elapsed time 6.74 sec\n",
      "EvaluatorHoldout: Processed 35311 (100.0%) in 10.41 sec. Users per second: 3391\n",
      "Similarity column 38121 (100.0%), 5690.54 column/sec. Elapsed time 6.70 sec\n",
      "EvaluatorHoldout: Processed 35289 (100.0%) in 10.29 sec. Users per second: 3431\n",
      "Similarity column 38121 (100.0%), 5686.49 column/sec. Elapsed time 6.70 sec\n",
      "EvaluatorHoldout: Processed 35295 (100.0%) in 10.48 sec. Users per second: 3368\n",
      "Similarity column 38121 (100.0%), 5685.82 column/sec. Elapsed time 6.70 sec\n",
      "EvaluatorHoldout: Processed 35269 (100.0%) in 10.39 sec. Users per second: 3393\n",
      "Similarity column 38121 (100.0%), 5692.13 column/sec. Elapsed time 6.70 sec\n",
      "EvaluatorHoldout: Processed 35311 (100.0%) in 10.35 sec. Users per second: 3412\n",
      "Similarity column 38121 (100.0%), 5680.66 column/sec. Elapsed time 6.71 sec\n",
      "EvaluatorHoldout: Processed 35323 (100.0%) in 10.39 sec. Users per second: 3400\n",
      "Similarity column 38121 (100.0%), 5681.62 column/sec. Elapsed time 6.71 sec\n",
      "EvaluatorHoldout: Processed 35327 (100.0%) in 10.38 sec. Users per second: 3404\n",
      "Similarity column 38121 (100.0%), 5686.09 column/sec. Elapsed time 6.70 sec\n",
      "EvaluatorHoldout: Processed 35336 (100.0%) in 10.40 sec. Users per second: 3396\n",
      "Similarity column 38121 (100.0%), 5630.58 column/sec. Elapsed time 6.77 sec\n",
      "EvaluatorHoldout: Processed 35270 (100.0%) in 10.37 sec. Users per second: 3402\n",
      "Similarity column 38121 (100.0%), 5652.63 column/sec. Elapsed time 6.74 sec\n",
      "EvaluatorHoldout: Processed 35277 (100.0%) in 10.39 sec. Users per second: 3396\n"
     ]
    },
    {
     "name": "stderr",
     "output_type": "stream",
     "text": [
      "[I 2024-11-28 05:15:53,116] Trial 170 finished with value: 0.030501470177671637 and parameters: {'similarity': 'asymmetric', 'topK': 10, 'shrink': 17, 'asymmetric_alpha': 0.032382615785374665}. Best is trial 155 with value: 0.03078142287004788.\n"
     ]
    },
    {
     "name": "stdout",
     "output_type": "stream",
     "text": [
      "Similarity column 38121 (100.0%), 5689.75 column/sec. Elapsed time 6.70 sec\n",
      "EvaluatorHoldout: Processed 35311 (100.0%) in 10.34 sec. Users per second: 3417\n",
      "Similarity column 38121 (100.0%), 5639.20 column/sec. Elapsed time 6.76 sec\n",
      "EvaluatorHoldout: Processed 35289 (100.0%) in 10.31 sec. Users per second: 3422\n",
      "Similarity column 38121 (100.0%), 5676.26 column/sec. Elapsed time 6.72 sec\n",
      "EvaluatorHoldout: Processed 35295 (100.0%) in 10.28 sec. Users per second: 3435\n",
      "Similarity column 38121 (100.0%), 5682.66 column/sec. Elapsed time 6.71 sec\n",
      "EvaluatorHoldout: Processed 35269 (100.0%) in 10.18 sec. Users per second: 3466\n",
      "Similarity column 38121 (100.0%), 5692.50 column/sec. Elapsed time 6.70 sec\n",
      "EvaluatorHoldout: Processed 35311 (100.0%) in 10.32 sec. Users per second: 3423\n",
      "Similarity column 38121 (100.0%), 5706.73 column/sec. Elapsed time 6.68 sec\n",
      "EvaluatorHoldout: Processed 35323 (100.0%) in 10.34 sec. Users per second: 3415\n",
      "Similarity column 38121 (100.0%), 5686.90 column/sec. Elapsed time 6.70 sec\n",
      "EvaluatorHoldout: Processed 35327 (100.0%) in 10.36 sec. Users per second: 3411\n",
      "Similarity column 38121 (100.0%), 5669.71 column/sec. Elapsed time 6.72 sec\n",
      "EvaluatorHoldout: Processed 35336 (100.0%) in 10.30 sec. Users per second: 3430\n",
      "Similarity column 38121 (100.0%), 5707.56 column/sec. Elapsed time 6.68 sec\n",
      "EvaluatorHoldout: Processed 35270 (100.0%) in 10.28 sec. Users per second: 3431\n",
      "Similarity column 38121 (100.0%), 5643.37 column/sec. Elapsed time 6.76 sec\n",
      "EvaluatorHoldout: Processed 35277 (100.0%) in 10.28 sec. Users per second: 3430\n"
     ]
    },
    {
     "name": "stderr",
     "output_type": "stream",
     "text": [
      "[I 2024-11-28 05:18:43,677] Trial 171 finished with value: 0.030761982920326468 and parameters: {'similarity': 'asymmetric', 'topK': 6, 'shrink': 18, 'asymmetric_alpha': 0.038172288660618545}. Best is trial 155 with value: 0.03078142287004788.\n"
     ]
    },
    {
     "name": "stdout",
     "output_type": "stream",
     "text": [
      "Similarity column 38121 (100.0%), 5695.61 column/sec. Elapsed time 6.69 sec\n",
      "EvaluatorHoldout: Processed 35311 (100.0%) in 10.30 sec. Users per second: 3429\n",
      "Similarity column 38121 (100.0%), 5640.70 column/sec. Elapsed time 6.76 sec\n",
      "EvaluatorHoldout: Processed 35289 (100.0%) in 10.31 sec. Users per second: 3421\n",
      "Similarity column 38121 (100.0%), 5689.64 column/sec. Elapsed time 6.70 sec\n",
      "EvaluatorHoldout: Processed 35295 (100.0%) in 10.29 sec. Users per second: 3432\n",
      "Similarity column 38121 (100.0%), 5672.82 column/sec. Elapsed time 6.72 sec\n",
      "EvaluatorHoldout: Processed 35269 (100.0%) in 10.39 sec. Users per second: 3395\n",
      "Similarity column 38121 (100.0%), 5687.41 column/sec. Elapsed time 6.70 sec\n",
      "EvaluatorHoldout: Processed 35311 (100.0%) in 10.31 sec. Users per second: 3426\n",
      "Similarity column 38121 (100.0%), 5701.91 column/sec. Elapsed time 6.69 sec\n",
      "EvaluatorHoldout: Processed 35323 (100.0%) in 10.38 sec. Users per second: 3402\n",
      "Similarity column 38121 (100.0%), 5681.78 column/sec. Elapsed time 6.71 sec\n",
      "EvaluatorHoldout: Processed 35327 (100.0%) in 10.40 sec. Users per second: 3398\n",
      "Similarity column 38121 (100.0%), 5676.72 column/sec. Elapsed time 6.72 sec\n",
      "EvaluatorHoldout: Processed 35336 (100.0%) in 10.31 sec. Users per second: 3426\n",
      "Similarity column 38121 (100.0%), 5683.46 column/sec. Elapsed time 6.71 sec\n",
      "EvaluatorHoldout: Processed 35270 (100.0%) in 10.31 sec. Users per second: 3421\n",
      "Similarity column 38121 (100.0%), 5691.41 column/sec. Elapsed time 6.70 sec\n",
      "EvaluatorHoldout: Processed 35277 (100.0%) in 10.36 sec. Users per second: 3405\n"
     ]
    },
    {
     "name": "stderr",
     "output_type": "stream",
     "text": [
      "[I 2024-11-28 05:21:34,544] Trial 172 finished with value: 0.030765880250657424 and parameters: {'similarity': 'asymmetric', 'topK': 6, 'shrink': 18, 'asymmetric_alpha': 0.027247100594434855}. Best is trial 155 with value: 0.03078142287004788.\n"
     ]
    },
    {
     "name": "stdout",
     "output_type": "stream",
     "text": [
      "Similarity column 38121 (100.0%), 5691.34 column/sec. Elapsed time 6.70 sec\n",
      "EvaluatorHoldout: Processed 35311 (100.0%) in 10.29 sec. Users per second: 3431\n",
      "Similarity column 38121 (100.0%), 5691.12 column/sec. Elapsed time 6.70 sec\n",
      "EvaluatorHoldout: Processed 35289 (100.0%) in 10.35 sec. Users per second: 3409\n",
      "Similarity column 38121 (100.0%), 5691.08 column/sec. Elapsed time 6.70 sec\n",
      "EvaluatorHoldout: Processed 35295 (100.0%) in 10.31 sec. Users per second: 3422\n",
      "Similarity column 38121 (100.0%), 5695.88 column/sec. Elapsed time 6.69 sec\n",
      "EvaluatorHoldout: Processed 35269 (100.0%) in 10.32 sec. Users per second: 3416\n",
      "Similarity column 38121 (100.0%), 5635.57 column/sec. Elapsed time 6.76 sec\n",
      "EvaluatorHoldout: Processed 35311 (100.0%) in 10.31 sec. Users per second: 3426\n",
      "Similarity column 38121 (100.0%), 5695.33 column/sec. Elapsed time 6.69 sec\n",
      "EvaluatorHoldout: Processed 35323 (100.0%) in 10.31 sec. Users per second: 3427\n",
      "Similarity column 38121 (100.0%), 5647.56 column/sec. Elapsed time 6.75 sec\n",
      "EvaluatorHoldout: Processed 35327 (100.0%) in 10.32 sec. Users per second: 3422\n",
      "Similarity column 38121 (100.0%), 5686.58 column/sec. Elapsed time 6.70 sec\n",
      "EvaluatorHoldout: Processed 35336 (100.0%) in 10.34 sec. Users per second: 3417\n",
      "Similarity column 38121 (100.0%), 5670.32 column/sec. Elapsed time 6.72 sec\n",
      "EvaluatorHoldout: Processed 35270 (100.0%) in 10.38 sec. Users per second: 3398\n",
      "Similarity column 38121 (100.0%), 5674.49 column/sec. Elapsed time 6.72 sec\n",
      "EvaluatorHoldout: Processed 35277 (100.0%) in 10.33 sec. Users per second: 3416\n"
     ]
    },
    {
     "name": "stderr",
     "output_type": "stream",
     "text": [
      "[I 2024-11-28 05:24:25,371] Trial 173 finished with value: 0.03074062576562942 and parameters: {'similarity': 'asymmetric', 'topK': 7, 'shrink': 15, 'asymmetric_alpha': 0.027823859937415166}. Best is trial 155 with value: 0.03078142287004788.\n"
     ]
    },
    {
     "name": "stdout",
     "output_type": "stream",
     "text": [
      "Similarity column 38121 (100.0%), 5680.39 column/sec. Elapsed time 6.71 sec\n",
      "EvaluatorHoldout: Processed 35311 (100.0%) in 10.29 sec. Users per second: 3432\n",
      "Similarity column 38121 (100.0%), 5669.39 column/sec. Elapsed time 6.72 sec\n",
      "EvaluatorHoldout: Processed 35289 (100.0%) in 10.36 sec. Users per second: 3407\n",
      "Similarity column 38121 (100.0%), 5681.23 column/sec. Elapsed time 6.71 sec\n",
      "EvaluatorHoldout: Processed 35295 (100.0%) in 10.32 sec. Users per second: 3419\n",
      "Similarity column 38121 (100.0%), 5694.11 column/sec. Elapsed time 6.69 sec\n",
      "EvaluatorHoldout: Processed 35269 (100.0%) in 10.35 sec. Users per second: 3408\n",
      "Similarity column 38121 (100.0%), 5691.59 column/sec. Elapsed time 6.70 sec\n",
      "EvaluatorHoldout: Processed 35311 (100.0%) in 10.31 sec. Users per second: 3423\n",
      "Similarity column 38121 (100.0%), 5703.28 column/sec. Elapsed time 6.68 sec\n",
      "EvaluatorHoldout: Processed 35323 (100.0%) in 10.31 sec. Users per second: 3425\n",
      "Similarity column 38121 (100.0%), 5641.83 column/sec. Elapsed time 6.76 sec\n",
      "EvaluatorHoldout: Processed 35327 (100.0%) in 10.33 sec. Users per second: 3420\n",
      "Similarity column 38121 (100.0%), 5671.03 column/sec. Elapsed time 6.72 sec\n",
      "EvaluatorHoldout: Processed 35336 (100.0%) in 10.33 sec. Users per second: 3419\n",
      "Similarity column 38121 (100.0%), 5700.22 column/sec. Elapsed time 6.69 sec\n",
      "EvaluatorHoldout: Processed 35270 (100.0%) in 10.34 sec. Users per second: 3409\n",
      "Similarity column 38121 (100.0%), 5685.73 column/sec. Elapsed time 6.70 sec\n",
      "EvaluatorHoldout: Processed 35277 (100.0%) in 10.29 sec. Users per second: 3428\n"
     ]
    },
    {
     "name": "stderr",
     "output_type": "stream",
     "text": [
      "[I 2024-11-28 05:27:16,136] Trial 174 finished with value: 0.030767854354462016 and parameters: {'similarity': 'asymmetric', 'topK': 6, 'shrink': 18, 'asymmetric_alpha': 0.03246374617540662}. Best is trial 155 with value: 0.03078142287004788.\n"
     ]
    },
    {
     "name": "stdout",
     "output_type": "stream",
     "text": [
      "Similarity column 38121 (100.0%), 5674.83 column/sec. Elapsed time 6.72 sec\n",
      "EvaluatorHoldout: Processed 35311 (100.0%) in 10.44 sec. Users per second: 3382\n",
      "Similarity column 38121 (100.0%), 5647.37 column/sec. Elapsed time 6.75 sec\n",
      "EvaluatorHoldout: Processed 35289 (100.0%) in 10.40 sec. Users per second: 3394\n",
      "Similarity column 38121 (100.0%), 5688.88 column/sec. Elapsed time 6.70 sec\n",
      "EvaluatorHoldout: Processed 35295 (100.0%) in 10.34 sec. Users per second: 3412\n",
      "Similarity column 38121 (100.0%), 5689.81 column/sec. Elapsed time 6.70 sec\n",
      "EvaluatorHoldout: Processed 35269 (100.0%) in 10.43 sec. Users per second: 3381\n",
      "Similarity column 38121 (100.0%), 5670.17 column/sec. Elapsed time 6.72 sec\n",
      "EvaluatorHoldout: Processed 35311 (100.0%) in 10.39 sec. Users per second: 3399\n",
      "Similarity column 38121 (100.0%), 5705.60 column/sec. Elapsed time 6.68 sec\n",
      "EvaluatorHoldout: Processed 35323 (100.0%) in 10.43 sec. Users per second: 3386\n",
      "Similarity column 38121 (100.0%), 5678.94 column/sec. Elapsed time 6.71 sec\n",
      "EvaluatorHoldout: Processed 35327 (100.0%) in 10.40 sec. Users per second: 3396\n",
      "Similarity column 38121 (100.0%), 5655.33 column/sec. Elapsed time 6.74 sec\n",
      "EvaluatorHoldout: Processed 35336 (100.0%) in 10.38 sec. Users per second: 3404\n",
      "Similarity column 38121 (100.0%), 5685.73 column/sec. Elapsed time 6.70 sec\n",
      "EvaluatorHoldout: Processed 35270 (100.0%) in 10.40 sec. Users per second: 3391\n",
      "Similarity column 38121 (100.0%), 5690.33 column/sec. Elapsed time 6.70 sec\n",
      "EvaluatorHoldout: Processed 35277 (100.0%) in 10.37 sec. Users per second: 3401\n"
     ]
    },
    {
     "name": "stderr",
     "output_type": "stream",
     "text": [
      "[I 2024-11-28 05:30:07,696] Trial 175 finished with value: 0.03058063721578022 and parameters: {'similarity': 'asymmetric', 'topK': 9, 'shrink': 16, 'asymmetric_alpha': 0.02254226547185529}. Best is trial 155 with value: 0.03078142287004788.\n"
     ]
    },
    {
     "name": "stdout",
     "output_type": "stream",
     "text": [
      "Similarity column 38121 (100.0%), 5678.37 column/sec. Elapsed time 6.71 sec\n",
      "EvaluatorHoldout: Processed 35311 (100.0%) in 10.41 sec. Users per second: 3391\n",
      "Similarity column 38121 (100.0%), 5670.41 column/sec. Elapsed time 6.72 sec\n",
      "EvaluatorHoldout: Processed 35289 (100.0%) in 10.27 sec. Users per second: 3435\n",
      "Similarity column 38121 (100.0%), 5661.54 column/sec. Elapsed time 6.73 sec\n",
      "EvaluatorHoldout: Processed 35295 (100.0%) in 10.30 sec. Users per second: 3426\n",
      "Similarity column 38121 (100.0%), 5638.57 column/sec. Elapsed time 6.76 sec\n",
      "EvaluatorHoldout: Processed 35269 (100.0%) in 10.34 sec. Users per second: 3410\n",
      "Similarity column 38121 (100.0%), 5690.56 column/sec. Elapsed time 6.70 sec\n",
      "EvaluatorHoldout: Processed 35311 (100.0%) in 10.29 sec. Users per second: 3430\n",
      "Similarity column 38121 (100.0%), 5695.23 column/sec. Elapsed time 6.69 sec\n",
      "EvaluatorHoldout: Processed 35323 (100.0%) in 10.31 sec. Users per second: 3425\n",
      "Similarity column 38121 (100.0%), 5686.87 column/sec. Elapsed time 6.70 sec\n",
      "EvaluatorHoldout: Processed 35327 (100.0%) in 10.29 sec. Users per second: 3434\n",
      "Similarity column 38121 (100.0%), 5685.52 column/sec. Elapsed time 6.70 sec\n",
      "EvaluatorHoldout: Processed 35336 (100.0%) in 10.34 sec. Users per second: 3417\n",
      "Similarity column 38121 (100.0%), 5629.77 column/sec. Elapsed time 6.77 sec\n",
      "EvaluatorHoldout: Processed 35270 (100.0%) in 10.29 sec. Users per second: 3428\n",
      "Similarity column 38121 (100.0%), 5680.21 column/sec. Elapsed time 6.71 sec\n",
      "EvaluatorHoldout: Processed 35277 (100.0%) in 10.31 sec. Users per second: 3423\n"
     ]
    },
    {
     "name": "stderr",
     "output_type": "stream",
     "text": [
      "[I 2024-11-28 05:32:58,543] Trial 176 finished with value: 0.030762620105664402 and parameters: {'similarity': 'asymmetric', 'topK': 6, 'shrink': 17, 'asymmetric_alpha': 0.025351724424519054}. Best is trial 155 with value: 0.03078142287004788.\n"
     ]
    },
    {
     "name": "stdout",
     "output_type": "stream",
     "text": [
      "Similarity column 38121 (100.0%), 5847.05 column/sec. Elapsed time 6.52 sec\n",
      "EvaluatorHoldout: Processed 35311 (100.0%) in 10.52 sec. Users per second: 3358\n",
      "Similarity column 38121 (100.0%), 5868.69 column/sec. Elapsed time 6.50 sec\n",
      "EvaluatorHoldout: Processed 35289 (100.0%) in 10.42 sec. Users per second: 3386\n",
      "Similarity column 38121 (100.0%), 5905.68 column/sec. Elapsed time 6.45 sec\n",
      "EvaluatorHoldout: Processed 35295 (100.0%) in 10.47 sec. Users per second: 3372\n",
      "Similarity column 38121 (100.0%), 5796.74 column/sec. Elapsed time 6.58 sec\n",
      "EvaluatorHoldout: Processed 35269 (100.0%) in 10.51 sec. Users per second: 3357\n",
      "Similarity column 38121 (100.0%), 5808.96 column/sec. Elapsed time 6.56 sec\n",
      "EvaluatorHoldout: Processed 35311 (100.0%) in 10.50 sec. Users per second: 3362\n",
      "Similarity column 38121 (100.0%), 5807.50 column/sec. Elapsed time 6.56 sec\n",
      "EvaluatorHoldout: Processed 35323 (100.0%) in 10.47 sec. Users per second: 3375\n",
      "Similarity column 38121 (100.0%), 5890.61 column/sec. Elapsed time 6.47 sec\n",
      "EvaluatorHoldout: Processed 35327 (100.0%) in 10.52 sec. Users per second: 3358\n",
      "Similarity column 38121 (100.0%), 5842.26 column/sec. Elapsed time 6.53 sec\n",
      "EvaluatorHoldout: Processed 35336 (100.0%) in 10.48 sec. Users per second: 3372\n",
      "Similarity column 38121 (100.0%), 5947.58 column/sec. Elapsed time 6.41 sec\n",
      "EvaluatorHoldout: Processed 35270 (100.0%) in 10.46 sec. Users per second: 3371\n",
      "Similarity column 38121 (100.0%), 5867.06 column/sec. Elapsed time 6.50 sec\n",
      "EvaluatorHoldout: Processed 35277 (100.0%) in 10.42 sec. Users per second: 3384\n"
     ]
    },
    {
     "name": "stderr",
     "output_type": "stream",
     "text": [
      "[I 2024-11-28 05:35:49,491] Trial 177 finished with value: 0.029356148766239716 and parameters: {'similarity': 'jaccard', 'topK': 8, 'shrink': 18}. Best is trial 155 with value: 0.03078142287004788.\n"
     ]
    },
    {
     "name": "stdout",
     "output_type": "stream",
     "text": [
      "Similarity column 38121 (100.0%), 5687.36 column/sec. Elapsed time 6.70 sec\n",
      "EvaluatorHoldout: Processed 35311 (100.0%) in 10.49 sec. Users per second: 3367\n",
      "Similarity column 38121 (100.0%), 5688.36 column/sec. Elapsed time 6.70 sec\n",
      "EvaluatorHoldout: Processed 35289 (100.0%) in 10.50 sec. Users per second: 3361\n",
      "Similarity column 38121 (100.0%), 5671.44 column/sec. Elapsed time 6.72 sec\n",
      "EvaluatorHoldout: Processed 35295 (100.0%) in 10.52 sec. Users per second: 3355\n",
      "Similarity column 38121 (100.0%), 5681.44 column/sec. Elapsed time 6.71 sec\n",
      "EvaluatorHoldout: Processed 35269 (100.0%) in 10.48 sec. Users per second: 3365\n",
      "Similarity column 38121 (100.0%), 5681.86 column/sec. Elapsed time 6.71 sec\n",
      "EvaluatorHoldout: Processed 35311 (100.0%) in 10.53 sec. Users per second: 3353\n",
      "Similarity column 38121 (100.0%), 5705.33 column/sec. Elapsed time 6.68 sec\n",
      "EvaluatorHoldout: Processed 35323 (100.0%) in 10.49 sec. Users per second: 3367\n",
      "Similarity column 38121 (100.0%), 5699.57 column/sec. Elapsed time 6.69 sec\n",
      "EvaluatorHoldout: Processed 35327 (100.0%) in 10.52 sec. Users per second: 3358\n",
      "Similarity column 38121 (100.0%), 5629.37 column/sec. Elapsed time 6.77 sec\n",
      "EvaluatorHoldout: Processed 35336 (100.0%) in 10.43 sec. Users per second: 3389\n",
      "Similarity column 38121 (100.0%), 5690.15 column/sec. Elapsed time 6.70 sec\n",
      "EvaluatorHoldout: Processed 35270 (100.0%) in 10.46 sec. Users per second: 3372\n",
      "Similarity column 38121 (100.0%), 5666.77 column/sec. Elapsed time 6.73 sec\n",
      "EvaluatorHoldout: Processed 35277 (100.0%) in 10.56 sec. Users per second: 3341\n"
     ]
    },
    {
     "name": "stderr",
     "output_type": "stream",
     "text": [
      "[I 2024-11-28 05:38:42,075] Trial 178 finished with value: 0.03031348260597404 and parameters: {'similarity': 'asymmetric', 'topK': 12, 'shrink': 17, 'asymmetric_alpha': 0.030460507796637778}. Best is trial 155 with value: 0.03078142287004788.\n"
     ]
    },
    {
     "name": "stdout",
     "output_type": "stream",
     "text": [
      "Similarity column 38121 (100.0%), 5691.87 column/sec. Elapsed time 6.70 sec\n",
      "EvaluatorHoldout: Processed 35311 (100.0%) in 10.37 sec. Users per second: 3404\n",
      "Similarity column 38121 (100.0%), 5633.59 column/sec. Elapsed time 6.77 sec\n",
      "EvaluatorHoldout: Processed 35289 (100.0%) in 10.32 sec. Users per second: 3418\n",
      "Similarity column 38121 (100.0%), 5681.36 column/sec. Elapsed time 6.71 sec\n",
      "EvaluatorHoldout: Processed 35295 (100.0%) in 10.25 sec. Users per second: 3442\n",
      "Similarity column 38121 (100.0%), 5663.84 column/sec. Elapsed time 6.73 sec\n",
      "EvaluatorHoldout: Processed 35269 (100.0%) in 10.38 sec. Users per second: 3399\n",
      "Similarity column 38121 (100.0%), 5686.27 column/sec. Elapsed time 6.70 sec\n",
      "EvaluatorHoldout: Processed 35311 (100.0%) in 10.22 sec. Users per second: 3455\n",
      "Similarity column 38121 (100.0%), 5703.14 column/sec. Elapsed time 6.68 sec\n",
      "EvaluatorHoldout: Processed 35323 (100.0%) in 10.34 sec. Users per second: 3416\n",
      "Similarity column 38121 (100.0%), 5641.50 column/sec. Elapsed time 6.76 sec\n",
      "EvaluatorHoldout: Processed 35327 (100.0%) in 10.31 sec. Users per second: 3428\n",
      "Similarity column 38121 (100.0%), 5679.32 column/sec. Elapsed time 6.71 sec\n",
      "EvaluatorHoldout: Processed 35336 (100.0%) in 10.31 sec. Users per second: 3427\n",
      "Similarity column 38121 (100.0%), 5693.56 column/sec. Elapsed time 6.70 sec\n",
      "EvaluatorHoldout: Processed 35270 (100.0%) in 10.32 sec. Users per second: 3418\n",
      "Similarity column 38121 (100.0%), 5651.65 column/sec. Elapsed time 6.75 sec\n",
      "EvaluatorHoldout: Processed 35277 (100.0%) in 10.30 sec. Users per second: 3425\n"
     ]
    },
    {
     "name": "stderr",
     "output_type": "stream",
     "text": [
      "[I 2024-11-28 05:41:32,812] Trial 179 finished with value: 0.030704024683393366 and parameters: {'similarity': 'asymmetric', 'topK': 7, 'shrink': 13, 'asymmetric_alpha': 0.033996586508650874}. Best is trial 155 with value: 0.03078142287004788.\n"
     ]
    },
    {
     "name": "stdout",
     "output_type": "stream",
     "text": [
      "Similarity column 38121 (100.0%), 6061.65 column/sec. Elapsed time 6.29 sec\n",
      "EvaluatorHoldout: Processed 35311 (100.0%) in 10.37 sec. Users per second: 3406\n",
      "Similarity column 38121 (100.0%), 5979.33 column/sec. Elapsed time 6.38 sec\n",
      "EvaluatorHoldout: Processed 35289 (100.0%) in 10.35 sec. Users per second: 3409\n",
      "Similarity column 38121 (100.0%), 6051.22 column/sec. Elapsed time 6.30 sec\n",
      "EvaluatorHoldout: Processed 35295 (100.0%) in 10.39 sec. Users per second: 3397\n",
      "Similarity column 38121 (100.0%), 6082.03 column/sec. Elapsed time 6.27 sec\n",
      "EvaluatorHoldout: Processed 35269 (100.0%) in 10.49 sec. Users per second: 3363\n",
      "Similarity column 38121 (100.0%), 6039.10 column/sec. Elapsed time 6.31 sec\n",
      "EvaluatorHoldout: Processed 35311 (100.0%) in 10.36 sec. Users per second: 3408\n",
      "Similarity column 38121 (100.0%), 6055.94 column/sec. Elapsed time 6.29 sec\n",
      "EvaluatorHoldout: Processed 35323 (100.0%) in 10.40 sec. Users per second: 3398\n",
      "Similarity column 38121 (100.0%), 6015.57 column/sec. Elapsed time 6.34 sec\n",
      "EvaluatorHoldout: Processed 35327 (100.0%) in 10.39 sec. Users per second: 3401\n",
      "Similarity column 38121 (100.0%), 6067.92 column/sec. Elapsed time 6.28 sec\n",
      "EvaluatorHoldout: Processed 35336 (100.0%) in 10.43 sec. Users per second: 3389\n",
      "Similarity column 38121 (100.0%), 6078.03 column/sec. Elapsed time 6.27 sec\n",
      "EvaluatorHoldout: Processed 35270 (100.0%) in 10.42 sec. Users per second: 3386\n",
      "Similarity column 38121 (100.0%), 6049.85 column/sec. Elapsed time 6.30 sec\n",
      "EvaluatorHoldout: Processed 35277 (100.0%) in 10.44 sec. Users per second: 3380\n"
     ]
    },
    {
     "name": "stderr",
     "output_type": "stream",
     "text": [
      "[I 2024-11-28 05:44:20,972] Trial 180 finished with value: 0.029333608553963282 and parameters: {'similarity': 'dice', 'topK': 6, 'shrink': 15}. Best is trial 155 with value: 0.03078142287004788.\n"
     ]
    },
    {
     "name": "stdout",
     "output_type": "stream",
     "text": [
      "Similarity column 38121 (100.0%), 5669.77 column/sec. Elapsed time 6.72 sec\n",
      "EvaluatorHoldout: Processed 35311 (100.0%) in 10.25 sec. Users per second: 3444\n",
      "Similarity column 38121 (100.0%), 5687.10 column/sec. Elapsed time 6.70 sec\n",
      "EvaluatorHoldout: Processed 35289 (100.0%) in 10.27 sec. Users per second: 3436\n",
      "Similarity column 38121 (100.0%), 5629.31 column/sec. Elapsed time 6.77 sec\n",
      "EvaluatorHoldout: Processed 35295 (100.0%) in 10.25 sec. Users per second: 3444\n",
      "Similarity column 38121 (100.0%), 5687.59 column/sec. Elapsed time 6.70 sec\n",
      "EvaluatorHoldout: Processed 35269 (100.0%) in 10.34 sec. Users per second: 3411\n",
      "Similarity column 38121 (100.0%), 5673.39 column/sec. Elapsed time 6.72 sec\n",
      "EvaluatorHoldout: Processed 35311 (100.0%) in 10.33 sec. Users per second: 3418\n",
      "Similarity column 38121 (100.0%), 5698.44 column/sec. Elapsed time 6.69 sec\n",
      "EvaluatorHoldout: Processed 35323 (100.0%) in 10.31 sec. Users per second: 3425\n",
      "Similarity column 38121 (100.0%), 5684.92 column/sec. Elapsed time 6.71 sec\n",
      "EvaluatorHoldout: Processed 35327 (100.0%) in 10.34 sec. Users per second: 3416\n",
      "Similarity column 38121 (100.0%), 5643.19 column/sec. Elapsed time 6.76 sec\n",
      "EvaluatorHoldout: Processed 35336 (100.0%) in 10.31 sec. Users per second: 3427\n",
      "Similarity column 38121 (100.0%), 5682.83 column/sec. Elapsed time 6.71 sec\n",
      "EvaluatorHoldout: Processed 35270 (100.0%) in 10.30 sec. Users per second: 3426\n",
      "Similarity column 38121 (100.0%), 5684.75 column/sec. Elapsed time 6.71 sec\n",
      "EvaluatorHoldout: Processed 35277 (100.0%) in 10.36 sec. Users per second: 3404\n"
     ]
    },
    {
     "name": "stderr",
     "output_type": "stream",
     "text": [
      "[I 2024-11-28 05:47:11,637] Trial 181 finished with value: 0.03077557453659263 and parameters: {'similarity': 'asymmetric', 'topK': 6, 'shrink': 16, 'asymmetric_alpha': 0.02523927884036455}. Best is trial 155 with value: 0.03078142287004788.\n"
     ]
    },
    {
     "name": "stdout",
     "output_type": "stream",
     "text": [
      "Similarity column 38121 (100.0%), 5687.66 column/sec. Elapsed time 6.70 sec\n",
      "EvaluatorHoldout: Processed 35311 (100.0%) in 10.31 sec. Users per second: 3424\n",
      "Similarity column 38121 (100.0%), 5676.22 column/sec. Elapsed time 6.72 sec\n",
      "EvaluatorHoldout: Processed 35289 (100.0%) in 10.33 sec. Users per second: 3415\n",
      "Similarity column 38121 (100.0%), 5677.29 column/sec. Elapsed time 6.71 sec\n",
      "EvaluatorHoldout: Processed 35295 (100.0%) in 10.27 sec. Users per second: 3436\n",
      "Similarity column 38121 (100.0%), 5675.97 column/sec. Elapsed time 6.72 sec\n",
      "EvaluatorHoldout: Processed 35269 (100.0%) in 10.28 sec. Users per second: 3432\n",
      "Similarity column 38121 (100.0%), 5646.75 column/sec. Elapsed time 6.75 sec\n",
      "EvaluatorHoldout: Processed 35311 (100.0%) in 10.25 sec. Users per second: 3445\n",
      "Similarity column 38121 (100.0%), 5694.77 column/sec. Elapsed time 6.69 sec\n",
      "EvaluatorHoldout: Processed 35323 (100.0%) in 10.29 sec. Users per second: 3434\n",
      "Similarity column 38121 (100.0%), 5637.78 column/sec. Elapsed time 6.76 sec\n",
      "EvaluatorHoldout: Processed 35327 (100.0%) in 10.30 sec. Users per second: 3431\n",
      "Similarity column 38121 (100.0%), 5678.26 column/sec. Elapsed time 6.71 sec\n",
      "EvaluatorHoldout: Processed 35336 (100.0%) in 10.31 sec. Users per second: 3428\n",
      "Similarity column 38121 (100.0%), 5683.09 column/sec. Elapsed time 6.71 sec\n",
      "EvaluatorHoldout: Processed 35270 (100.0%) in 10.32 sec. Users per second: 3419\n",
      "Similarity column 38121 (100.0%), 5701.28 column/sec. Elapsed time 6.69 sec\n",
      "EvaluatorHoldout: Processed 35277 (100.0%) in 10.27 sec. Users per second: 3436\n"
     ]
    },
    {
     "name": "stderr",
     "output_type": "stream",
     "text": [
      "[I 2024-11-28 05:50:02,133] Trial 182 finished with value: 0.030757265460059857 and parameters: {'similarity': 'asymmetric', 'topK': 6, 'shrink': 17, 'asymmetric_alpha': 0.018874655713500985}. Best is trial 155 with value: 0.03078142287004788.\n"
     ]
    },
    {
     "name": "stdout",
     "output_type": "stream",
     "text": [
      "Similarity column 38121 (100.0%), 5682.16 column/sec. Elapsed time 6.71 sec\n",
      "EvaluatorHoldout: Processed 35311 (100.0%) in 10.36 sec. Users per second: 3409\n",
      "Similarity column 38121 (100.0%), 5632.46 column/sec. Elapsed time 6.77 sec\n",
      "EvaluatorHoldout: Processed 35289 (100.0%) in 10.34 sec. Users per second: 3412\n",
      "Similarity column 38121 (100.0%), 5650.75 column/sec. Elapsed time 6.75 sec\n",
      "EvaluatorHoldout: Processed 35295 (100.0%) in 10.34 sec. Users per second: 3413\n",
      "Similarity column 38121 (100.0%), 5682.98 column/sec. Elapsed time 6.71 sec\n",
      "EvaluatorHoldout: Processed 35269 (100.0%) in 10.34 sec. Users per second: 3409\n",
      "Similarity column 38121 (100.0%), 5683.50 column/sec. Elapsed time 6.71 sec\n",
      "EvaluatorHoldout: Processed 35311 (100.0%) in 10.34 sec. Users per second: 3415\n",
      "Similarity column 38121 (100.0%), 5695.10 column/sec. Elapsed time 6.69 sec\n",
      "EvaluatorHoldout: Processed 35323 (100.0%) in 10.26 sec. Users per second: 3444\n",
      "Similarity column 38121 (100.0%), 5637.25 column/sec. Elapsed time 6.76 sec\n",
      "EvaluatorHoldout: Processed 35327 (100.0%) in 10.34 sec. Users per second: 3416\n",
      "Similarity column 38121 (100.0%), 5672.48 column/sec. Elapsed time 6.72 sec\n",
      "EvaluatorHoldout: Processed 35336 (100.0%) in 10.36 sec. Users per second: 3412\n",
      "Similarity column 38121 (100.0%), 5689.03 column/sec. Elapsed time 6.70 sec\n",
      "EvaluatorHoldout: Processed 35270 (100.0%) in 10.40 sec. Users per second: 3393\n",
      "Similarity column 38121 (100.0%), 5684.25 column/sec. Elapsed time 6.71 sec\n",
      "EvaluatorHoldout: Processed 35277 (100.0%) in 10.31 sec. Users per second: 3421\n"
     ]
    },
    {
     "name": "stderr",
     "output_type": "stream",
     "text": [
      "[I 2024-11-28 05:52:53,170] Trial 183 finished with value: 0.03062215705956009 and parameters: {'similarity': 'asymmetric', 'topK': 8, 'shrink': 14, 'asymmetric_alpha': 0.02463641196418319}. Best is trial 155 with value: 0.03078142287004788.\n"
     ]
    },
    {
     "name": "stdout",
     "output_type": "stream",
     "text": [
      "Similarity column 38121 (100.0%), 5648.84 column/sec. Elapsed time 6.75 sec\n",
      "EvaluatorHoldout: Processed 35311 (100.0%) in 11.54 sec. Users per second: 3060\n",
      "Similarity column 38121 (100.0%), 5664.21 column/sec. Elapsed time 6.73 sec\n",
      "EvaluatorHoldout: Processed 35289 (100.0%) in 11.55 sec. Users per second: 3056\n",
      "Similarity column 38121 (100.0%), 5655.28 column/sec. Elapsed time 6.74 sec\n",
      "EvaluatorHoldout: Processed 35295 (100.0%) in 11.56 sec. Users per second: 3053\n",
      "Similarity column 38121 (100.0%), 5667.56 column/sec. Elapsed time 6.73 sec\n",
      "EvaluatorHoldout: Processed 35269 (100.0%) in 11.60 sec. Users per second: 3041\n",
      "Similarity column 38121 (100.0%), 5666.26 column/sec. Elapsed time 6.73 sec\n",
      "EvaluatorHoldout: Processed 35311 (100.0%) in 11.54 sec. Users per second: 3059\n",
      "Similarity column 38121 (100.0%), 5676.76 column/sec. Elapsed time 6.72 sec\n",
      "EvaluatorHoldout: Processed 35323 (100.0%) in 11.56 sec. Users per second: 3056\n",
      "Similarity column 38121 (100.0%), 5609.58 column/sec. Elapsed time 6.80 sec\n",
      "EvaluatorHoldout: Processed 35327 (100.0%) in 11.54 sec. Users per second: 3060\n",
      "Similarity column 38121 (100.0%), 5657.81 column/sec. Elapsed time 6.74 sec\n",
      "EvaluatorHoldout: Processed 35336 (100.0%) in 11.58 sec. Users per second: 3050\n",
      "Similarity column 38121 (100.0%), 5660.04 column/sec. Elapsed time 6.74 sec\n",
      "EvaluatorHoldout: Processed 35270 (100.0%) in 11.58 sec. Users per second: 3047\n",
      "Similarity column 38121 (100.0%), 5673.39 column/sec. Elapsed time 6.72 sec\n",
      "EvaluatorHoldout: Processed 35277 (100.0%) in 11.59 sec. Users per second: 3043\n"
     ]
    },
    {
     "name": "stderr",
     "output_type": "stream",
     "text": [
      "[I 2024-11-28 05:55:56,827] Trial 184 finished with value: 0.028225131355619836 and parameters: {'similarity': 'asymmetric', 'topK': 57, 'shrink': 18, 'asymmetric_alpha': 0.046689495161451725}. Best is trial 155 with value: 0.03078142287004788.\n"
     ]
    },
    {
     "name": "stdout",
     "output_type": "stream",
     "text": [
      "Similarity column 38121 (100.0%), 5684.51 column/sec. Elapsed time 6.71 sec\n",
      "EvaluatorHoldout: Processed 35311 (100.0%) in 10.40 sec. Users per second: 3397\n",
      "Similarity column 38121 (100.0%), 5695.86 column/sec. Elapsed time 6.69 sec\n",
      "EvaluatorHoldout: Processed 35289 (100.0%) in 10.40 sec. Users per second: 3392\n",
      "Similarity column 38121 (100.0%), 5678.34 column/sec. Elapsed time 6.71 sec\n",
      "EvaluatorHoldout: Processed 35295 (100.0%) in 10.36 sec. Users per second: 3407\n",
      "Similarity column 38121 (100.0%), 5665.80 column/sec. Elapsed time 6.73 sec\n",
      "EvaluatorHoldout: Processed 35269 (100.0%) in 10.42 sec. Users per second: 3386\n",
      "Similarity column 38121 (100.0%), 5688.74 column/sec. Elapsed time 6.70 sec\n",
      "EvaluatorHoldout: Processed 35311 (100.0%) in 10.38 sec. Users per second: 3401\n",
      "Similarity column 38121 (100.0%), 5700.57 column/sec. Elapsed time 6.69 sec\n",
      "EvaluatorHoldout: Processed 35323 (100.0%) in 10.36 sec. Users per second: 3409\n",
      "Similarity column 38121 (100.0%), 5676.37 column/sec. Elapsed time 6.72 sec\n",
      "EvaluatorHoldout: Processed 35327 (100.0%) in 10.49 sec. Users per second: 3367\n",
      "Similarity column 38121 (100.0%), 5674.39 column/sec. Elapsed time 6.72 sec\n",
      "EvaluatorHoldout: Processed 35336 (100.0%) in 10.42 sec. Users per second: 3392\n",
      "Similarity column 38121 (100.0%), 5698.54 column/sec. Elapsed time 6.69 sec\n",
      "EvaluatorHoldout: Processed 35270 (100.0%) in 10.34 sec. Users per second: 3411\n",
      "Similarity column 38121 (100.0%), 5633.32 column/sec. Elapsed time 6.77 sec\n",
      "EvaluatorHoldout: Processed 35277 (100.0%) in 10.41 sec. Users per second: 3389\n"
     ]
    },
    {
     "name": "stderr",
     "output_type": "stream",
     "text": [
      "[I 2024-11-28 05:58:48,348] Trial 185 finished with value: 0.030594916931229642 and parameters: {'similarity': 'asymmetric', 'topK': 9, 'shrink': 16, 'asymmetric_alpha': 0.028027187056848233}. Best is trial 155 with value: 0.03078142287004788.\n"
     ]
    },
    {
     "name": "stdout",
     "output_type": "stream",
     "text": [
      "Similarity column 38121 (100.0%), 5674.45 column/sec. Elapsed time 6.72 sec\n",
      "EvaluatorHoldout: Processed 35311 (100.0%) in 10.38 sec. Users per second: 3401\n",
      "Similarity column 38121 (100.0%), 5686.03 column/sec. Elapsed time 6.70 sec\n",
      "EvaluatorHoldout: Processed 35289 (100.0%) in 10.31 sec. Users per second: 3422\n",
      "Similarity column 38121 (100.0%), 5678.56 column/sec. Elapsed time 6.71 sec\n",
      "EvaluatorHoldout: Processed 35295 (100.0%) in 10.29 sec. Users per second: 3431\n",
      "Similarity column 38121 (100.0%), 5645.78 column/sec. Elapsed time 6.75 sec\n",
      "EvaluatorHoldout: Processed 35269 (100.0%) in 10.27 sec. Users per second: 3433\n",
      "Similarity column 38121 (100.0%), 5676.92 column/sec. Elapsed time 6.72 sec\n",
      "EvaluatorHoldout: Processed 35311 (100.0%) in 10.28 sec. Users per second: 3435\n",
      "Similarity column 38121 (100.0%), 5661.26 column/sec. Elapsed time 6.73 sec\n",
      "EvaluatorHoldout: Processed 35323 (100.0%) in 10.44 sec. Users per second: 3384\n",
      "Similarity column 38121 (100.0%), 5686.85 column/sec. Elapsed time 6.70 sec\n",
      "EvaluatorHoldout: Processed 35327 (100.0%) in 10.30 sec. Users per second: 3429\n",
      "Similarity column 38121 (100.0%), 5663.67 column/sec. Elapsed time 6.73 sec\n",
      "EvaluatorHoldout: Processed 35336 (100.0%) in 10.35 sec. Users per second: 3413\n",
      "Similarity column 38121 (100.0%), 5660.85 column/sec. Elapsed time 6.73 sec\n",
      "EvaluatorHoldout: Processed 35270 (100.0%) in 10.33 sec. Users per second: 3415\n",
      "Similarity column 38121 (100.0%), 5697.94 column/sec. Elapsed time 6.69 sec\n",
      "EvaluatorHoldout: Processed 35277 (100.0%) in 10.40 sec. Users per second: 3393\n"
     ]
    },
    {
     "name": "stderr",
     "output_type": "stream",
     "text": [
      "[I 2024-11-28 06:01:39,340] Trial 186 finished with value: 0.030743263046184653 and parameters: {'similarity': 'asymmetric', 'topK': 7, 'shrink': 15, 'asymmetric_alpha': 0.03207491875178624}. Best is trial 155 with value: 0.03078142287004788.\n"
     ]
    },
    {
     "name": "stdout",
     "output_type": "stream",
     "text": [
      "Similarity column 38121 (100.0%), 5687.59 column/sec. Elapsed time 6.70 sec\n",
      "EvaluatorHoldout: Processed 35311 (100.0%) in 10.40 sec. Users per second: 3396\n",
      "Similarity column 38121 (100.0%), 5674.41 column/sec. Elapsed time 6.72 sec\n",
      "EvaluatorHoldout: Processed 35289 (100.0%) in 10.29 sec. Users per second: 3429\n",
      "Similarity column 38121 (100.0%), 5694.76 column/sec. Elapsed time 6.69 sec\n",
      "EvaluatorHoldout: Processed 35295 (100.0%) in 10.31 sec. Users per second: 3425\n",
      "Similarity column 38121 (100.0%), 5632.91 column/sec. Elapsed time 6.77 sec\n",
      "EvaluatorHoldout: Processed 35269 (100.0%) in 10.32 sec. Users per second: 3419\n",
      "Similarity column 38121 (100.0%), 5663.25 column/sec. Elapsed time 6.73 sec\n",
      "EvaluatorHoldout: Processed 35311 (100.0%) in 10.28 sec. Users per second: 3434\n",
      "Similarity column 38121 (100.0%), 5693.96 column/sec. Elapsed time 6.69 sec\n",
      "EvaluatorHoldout: Processed 35323 (100.0%) in 10.35 sec. Users per second: 3412\n",
      "Similarity column 38121 (100.0%), 5686.56 column/sec. Elapsed time 6.70 sec\n",
      "EvaluatorHoldout: Processed 35327 (100.0%) in 10.35 sec. Users per second: 3414\n",
      "Similarity column 38121 (100.0%), 5678.92 column/sec. Elapsed time 6.71 sec\n",
      "EvaluatorHoldout: Processed 35336 (100.0%) in 10.28 sec. Users per second: 3438\n",
      "Similarity column 38121 (100.0%), 5644.77 column/sec. Elapsed time 6.75 sec\n",
      "EvaluatorHoldout: Processed 35270 (100.0%) in 10.26 sec. Users per second: 3436\n",
      "Similarity column 38121 (100.0%), 5643.68 column/sec. Elapsed time 6.75 sec\n",
      "EvaluatorHoldout: Processed 35277 (100.0%) in 10.28 sec. Users per second: 3432\n"
     ]
    },
    {
     "name": "stderr",
     "output_type": "stream",
     "text": [
      "[I 2024-11-28 06:04:30,106] Trial 187 finished with value: 0.03075969421158281 and parameters: {'similarity': 'asymmetric', 'topK': 6, 'shrink': 17, 'asymmetric_alpha': 0.021347813546199915}. Best is trial 155 with value: 0.03078142287004788.\n"
     ]
    },
    {
     "name": "stdout",
     "output_type": "stream",
     "text": [
      "Similarity column 38121 (100.0%), 5683.13 column/sec. Elapsed time 6.71 sec\n",
      "EvaluatorHoldout: Processed 35311 (100.0%) in 10.40 sec. Users per second: 3396\n",
      "Similarity column 38121 (100.0%), 5636.57 column/sec. Elapsed time 6.76 sec\n",
      "EvaluatorHoldout: Processed 35289 (100.0%) in 10.39 sec. Users per second: 3395\n",
      "Similarity column 38121 (100.0%), 5679.92 column/sec. Elapsed time 6.71 sec\n",
      "EvaluatorHoldout: Processed 35295 (100.0%) in 10.46 sec. Users per second: 3373\n",
      "Similarity column 38121 (100.0%), 5686.73 column/sec. Elapsed time 6.70 sec\n",
      "EvaluatorHoldout: Processed 35269 (100.0%) in 10.47 sec. Users per second: 3369\n",
      "Similarity column 38121 (100.0%), 5685.13 column/sec. Elapsed time 6.71 sec\n",
      "EvaluatorHoldout: Processed 35311 (100.0%) in 10.43 sec. Users per second: 3387\n",
      "Similarity column 38121 (100.0%), 5692.85 column/sec. Elapsed time 6.70 sec\n",
      "EvaluatorHoldout: Processed 35323 (100.0%) in 10.43 sec. Users per second: 3388\n",
      "Similarity column 38121 (100.0%), 5690.42 column/sec. Elapsed time 6.70 sec\n",
      "EvaluatorHoldout: Processed 35327 (100.0%) in 10.48 sec. Users per second: 3370\n",
      "Similarity column 38121 (100.0%), 5667.78 column/sec. Elapsed time 6.73 sec\n",
      "EvaluatorHoldout: Processed 35336 (100.0%) in 10.43 sec. Users per second: 3387\n",
      "Similarity column 38121 (100.0%), 5669.26 column/sec. Elapsed time 6.72 sec\n",
      "EvaluatorHoldout: Processed 35270 (100.0%) in 10.39 sec. Users per second: 3396\n",
      "Similarity column 38121 (100.0%), 5642.56 column/sec. Elapsed time 6.76 sec\n",
      "EvaluatorHoldout: Processed 35277 (100.0%) in 10.43 sec. Users per second: 3384\n"
     ]
    },
    {
     "name": "stderr",
     "output_type": "stream",
     "text": [
      "[I 2024-11-28 06:07:22,039] Trial 188 finished with value: 0.030487496887731325 and parameters: {'similarity': 'asymmetric', 'topK': 10, 'shrink': 17, 'asymmetric_alpha': 0.021910383669435728}. Best is trial 155 with value: 0.03078142287004788.\n"
     ]
    },
    {
     "name": "stdout",
     "output_type": "stream",
     "text": [
      "Similarity column 38121 (100.0%), 5685.61 column/sec. Elapsed time 6.70 sec\n",
      "EvaluatorHoldout: Processed 35311 (100.0%) in 10.29 sec. Users per second: 3431\n",
      "Similarity column 38121 (100.0%), 5687.05 column/sec. Elapsed time 6.70 sec\n",
      "EvaluatorHoldout: Processed 35289 (100.0%) in 10.35 sec. Users per second: 3411\n",
      "Similarity column 38121 (100.0%), 5665.37 column/sec. Elapsed time 6.73 sec\n",
      "EvaluatorHoldout: Processed 35295 (100.0%) in 10.30 sec. Users per second: 3428\n",
      "Similarity column 38121 (100.0%), 5683.02 column/sec. Elapsed time 6.71 sec\n",
      "EvaluatorHoldout: Processed 35269 (100.0%) in 10.38 sec. Users per second: 3399\n",
      "Similarity column 38121 (100.0%), 5689.90 column/sec. Elapsed time 6.70 sec\n",
      "EvaluatorHoldout: Processed 35311 (100.0%) in 10.26 sec. Users per second: 3440\n",
      "Similarity column 38121 (100.0%), 5691.25 column/sec. Elapsed time 6.70 sec\n",
      "EvaluatorHoldout: Processed 35323 (100.0%) in 10.41 sec. Users per second: 3394\n",
      "Similarity column 38121 (100.0%), 5686.39 column/sec. Elapsed time 6.70 sec\n",
      "EvaluatorHoldout: Processed 35327 (100.0%) in 10.32 sec. Users per second: 3424\n",
      "Similarity column 38121 (100.0%), 5677.44 column/sec. Elapsed time 6.71 sec\n",
      "EvaluatorHoldout: Processed 35336 (100.0%) in 10.31 sec. Users per second: 3429\n",
      "Similarity column 38121 (100.0%), 5687.35 column/sec. Elapsed time 6.70 sec\n",
      "EvaluatorHoldout: Processed 35270 (100.0%) in 10.31 sec. Users per second: 3420\n",
      "Similarity column 38121 (100.0%), 5677.38 column/sec. Elapsed time 6.71 sec\n",
      "EvaluatorHoldout: Processed 35277 (100.0%) in 10.30 sec. Users per second: 3426\n"
     ]
    },
    {
     "name": "stderr",
     "output_type": "stream",
     "text": [
      "[I 2024-11-28 06:10:12,752] Trial 189 finished with value: 0.030730379614148935 and parameters: {'similarity': 'asymmetric', 'topK': 6, 'shrink': 14, 'asymmetric_alpha': 0.025511496828084526}. Best is trial 155 with value: 0.03078142287004788.\n"
     ]
    },
    {
     "name": "stdout",
     "output_type": "stream",
     "text": [
      "Similarity column 38121 (100.0%), 5877.54 column/sec. Elapsed time 6.49 sec\n",
      "EvaluatorHoldout: Processed 35311 (100.0%) in 10.54 sec. Users per second: 3352\n",
      "Similarity column 38121 (100.0%), 5833.81 column/sec. Elapsed time 6.53 sec\n",
      "EvaluatorHoldout: Processed 35289 (100.0%) in 10.53 sec. Users per second: 3351\n",
      "Similarity column 38121 (100.0%), 5865.45 column/sec. Elapsed time 6.50 sec\n",
      "EvaluatorHoldout: Processed 35295 (100.0%) in 10.48 sec. Users per second: 3368\n",
      "Similarity column 38121 (100.0%), 5882.59 column/sec. Elapsed time 6.48 sec\n",
      "EvaluatorHoldout: Processed 35269 (100.0%) in 10.56 sec. Users per second: 3339\n",
      "Similarity column 38121 (100.0%), 5878.40 column/sec. Elapsed time 6.48 sec\n",
      "EvaluatorHoldout: Processed 35311 (100.0%) in 10.44 sec. Users per second: 3381\n",
      "Similarity column 38121 (100.0%), 5894.24 column/sec. Elapsed time 6.47 sec\n",
      "EvaluatorHoldout: Processed 35323 (100.0%) in 10.50 sec. Users per second: 3364\n",
      "Similarity column 38121 (100.0%), 5820.25 column/sec. Elapsed time 6.55 sec\n",
      "EvaluatorHoldout: Processed 35327 (100.0%) in 10.51 sec. Users per second: 3360\n",
      "Similarity column 38121 (100.0%), 5878.37 column/sec. Elapsed time 6.48 sec\n",
      "EvaluatorHoldout: Processed 35336 (100.0%) in 10.58 sec. Users per second: 3341\n",
      "Similarity column 38121 (100.0%), 5895.09 column/sec. Elapsed time 6.47 sec\n",
      "EvaluatorHoldout: Processed 35270 (100.0%) in 10.57 sec. Users per second: 3336\n",
      "Similarity column 38121 (100.0%), 5884.26 column/sec. Elapsed time 6.48 sec\n",
      "EvaluatorHoldout: Processed 35277 (100.0%) in 10.54 sec. Users per second: 3347\n"
     ]
    },
    {
     "name": "stderr",
     "output_type": "stream",
     "text": [
      "[I 2024-11-28 06:13:03,354] Trial 190 finished with value: 0.029042145115561847 and parameters: {'similarity': 'cosine', 'topK': 8, 'shrink': 15}. Best is trial 155 with value: 0.03078142287004788.\n"
     ]
    },
    {
     "name": "stdout",
     "output_type": "stream",
     "text": [
      "Similarity column 38121 (100.0%), 5677.47 column/sec. Elapsed time 6.71 sec\n",
      "EvaluatorHoldout: Processed 35311 (100.0%) in 10.26 sec. Users per second: 3442\n",
      "Similarity column 38121 (100.0%), 5686.85 column/sec. Elapsed time 6.70 sec\n",
      "EvaluatorHoldout: Processed 35289 (100.0%) in 10.33 sec. Users per second: 3415\n",
      "Similarity column 38121 (100.0%), 5689.18 column/sec. Elapsed time 6.70 sec\n",
      "EvaluatorHoldout: Processed 35295 (100.0%) in 10.25 sec. Users per second: 3444\n",
      "Similarity column 38121 (100.0%), 5684.32 column/sec. Elapsed time 6.71 sec\n",
      "EvaluatorHoldout: Processed 35269 (100.0%) in 10.32 sec. Users per second: 3418\n",
      "Similarity column 38121 (100.0%), 5694.68 column/sec. Elapsed time 6.69 sec\n",
      "EvaluatorHoldout: Processed 35311 (100.0%) in 10.23 sec. Users per second: 3452\n",
      "Similarity column 38121 (100.0%), 5698.37 column/sec. Elapsed time 6.69 sec\n",
      "EvaluatorHoldout: Processed 35323 (100.0%) in 10.24 sec. Users per second: 3449\n",
      "Similarity column 38121 (100.0%), 5674.91 column/sec. Elapsed time 6.72 sec\n",
      "EvaluatorHoldout: Processed 35327 (100.0%) in 10.21 sec. Users per second: 3460\n",
      "Similarity column 38121 (100.0%), 5676.22 column/sec. Elapsed time 6.72 sec\n",
      "EvaluatorHoldout: Processed 35336 (100.0%) in 10.21 sec. Users per second: 3462\n",
      "Similarity column 38121 (100.0%), 5653.99 column/sec. Elapsed time 6.74 sec\n",
      "EvaluatorHoldout: Processed 35270 (100.0%) in 10.19 sec. Users per second: 3462\n",
      "Similarity column 38121 (100.0%), 5680.23 column/sec. Elapsed time 6.71 sec\n",
      "EvaluatorHoldout: Processed 35277 (100.0%) in 10.28 sec. Users per second: 3432\n"
     ]
    },
    {
     "name": "stderr",
     "output_type": "stream",
     "text": [
      "[I 2024-11-28 06:15:53,440] Trial 191 finished with value: 0.030749226112750643 and parameters: {'similarity': 'asymmetric', 'topK': 5, 'shrink': 17, 'asymmetric_alpha': 0.04094399471950608}. Best is trial 155 with value: 0.03078142287004788.\n"
     ]
    },
    {
     "name": "stdout",
     "output_type": "stream",
     "text": [
      "Similarity column 38121 (100.0%), 5658.62 column/sec. Elapsed time 6.74 sec\n",
      "EvaluatorHoldout: Processed 35311 (100.0%) in 11.97 sec. Users per second: 2950\n",
      "Similarity column 38121 (100.0%), 5659.94 column/sec. Elapsed time 6.74 sec\n",
      "EvaluatorHoldout: Processed 35289 (100.0%) in 12.03 sec. Users per second: 2932\n",
      "Similarity column 38121 (100.0%), 5632.66 column/sec. Elapsed time 6.77 sec\n",
      "EvaluatorHoldout: Processed 35295 (100.0%) in 12.07 sec. Users per second: 2924\n",
      "Similarity column 38121 (100.0%), 5649.50 column/sec. Elapsed time 6.75 sec\n",
      "EvaluatorHoldout: Processed 35269 (100.0%) in 12.06 sec. Users per second: 2923\n",
      "Similarity column 38121 (100.0%), 5658.66 column/sec. Elapsed time 6.74 sec\n",
      "EvaluatorHoldout: Processed 35311 (100.0%) in 12.01 sec. Users per second: 2940\n",
      "Similarity column 38121 (100.0%), 5652.93 column/sec. Elapsed time 6.74 sec\n",
      "EvaluatorHoldout: Processed 35323 (100.0%) in 12.02 sec. Users per second: 2940\n",
      "Similarity column 38121 (100.0%), 5602.90 column/sec. Elapsed time 6.80 sec\n",
      "EvaluatorHoldout: Processed 35327 (100.0%) in 12.01 sec. Users per second: 2942\n",
      "Similarity column 38121 (100.0%), 5636.82 column/sec. Elapsed time 6.76 sec\n",
      "EvaluatorHoldout: Processed 35336 (100.0%) in 12.03 sec. Users per second: 2937\n",
      "Similarity column 38121 (100.0%), 5615.03 column/sec. Elapsed time 6.79 sec\n",
      "EvaluatorHoldout: Processed 35270 (100.0%) in 12.00 sec. Users per second: 2939\n",
      "Similarity column 38121 (100.0%), 5652.95 column/sec. Elapsed time 6.74 sec\n",
      "EvaluatorHoldout: Processed 35277 (100.0%) in 12.00 sec. Users per second: 2940\n"
     ]
    },
    {
     "name": "stderr",
     "output_type": "stream",
     "text": [
      "[I 2024-11-28 06:19:01,869] Trial 192 finished with value: 0.027537801474826446 and parameters: {'similarity': 'asymmetric', 'topK': 80, 'shrink': 18, 'asymmetric_alpha': 0.035319417803483646}. Best is trial 155 with value: 0.03078142287004788.\n"
     ]
    },
    {
     "name": "stdout",
     "output_type": "stream",
     "text": [
      "Similarity column 38121 (100.0%), 5679.39 column/sec. Elapsed time 6.71 sec\n",
      "EvaluatorHoldout: Processed 35311 (100.0%) in 10.31 sec. Users per second: 3425\n",
      "Similarity column 38121 (100.0%), 5690.30 column/sec. Elapsed time 6.70 sec\n",
      "EvaluatorHoldout: Processed 35289 (100.0%) in 10.34 sec. Users per second: 3414\n",
      "Similarity column 38121 (100.0%), 5685.10 column/sec. Elapsed time 6.71 sec\n",
      "EvaluatorHoldout: Processed 35295 (100.0%) in 10.27 sec. Users per second: 3438\n",
      "Similarity column 38121 (100.0%), 5691.08 column/sec. Elapsed time 6.70 sec\n",
      "EvaluatorHoldout: Processed 35269 (100.0%) in 10.30 sec. Users per second: 3425\n",
      "Similarity column 38121 (100.0%), 5650.49 column/sec. Elapsed time 6.75 sec\n",
      "EvaluatorHoldout: Processed 35311 (100.0%) in 10.31 sec. Users per second: 3426\n",
      "Similarity column 38121 (100.0%), 5693.28 column/sec. Elapsed time 6.70 sec\n",
      "EvaluatorHoldout: Processed 35323 (100.0%) in 10.38 sec. Users per second: 3402\n",
      "Similarity column 38121 (100.0%), 5680.54 column/sec. Elapsed time 6.71 sec\n",
      "EvaluatorHoldout: Processed 35327 (100.0%) in 10.37 sec. Users per second: 3406\n",
      "Similarity column 38121 (100.0%), 5670.59 column/sec. Elapsed time 6.72 sec\n",
      "EvaluatorHoldout: Processed 35336 (100.0%) in 10.32 sec. Users per second: 3424\n",
      "Similarity column 38121 (100.0%), 5699.80 column/sec. Elapsed time 6.69 sec\n",
      "EvaluatorHoldout: Processed 35270 (100.0%) in 10.26 sec. Users per second: 3436\n",
      "Similarity column 38121 (100.0%), 5634.85 column/sec. Elapsed time 6.77 sec\n",
      "EvaluatorHoldout: Processed 35277 (100.0%) in 10.27 sec. Users per second: 3435\n"
     ]
    },
    {
     "name": "stderr",
     "output_type": "stream",
     "text": [
      "[I 2024-11-28 06:21:52,568] Trial 193 finished with value: 0.030768593794306142 and parameters: {'similarity': 'asymmetric', 'topK': 6, 'shrink': 16, 'asymmetric_alpha': 0.029993585358567543}. Best is trial 155 with value: 0.03078142287004788.\n"
     ]
    },
    {
     "name": "stdout",
     "output_type": "stream",
     "text": [
      "Similarity column 38121 (100.0%), 5684.55 column/sec. Elapsed time 6.71 sec\n",
      "EvaluatorHoldout: Processed 35311 (100.0%) in 10.33 sec. Users per second: 3418\n",
      "Similarity column 38121 (100.0%), 5634.20 column/sec. Elapsed time 6.77 sec\n",
      "EvaluatorHoldout: Processed 35289 (100.0%) in 10.32 sec. Users per second: 3419\n",
      "Similarity column 38121 (100.0%), 5682.70 column/sec. Elapsed time 6.71 sec\n",
      "EvaluatorHoldout: Processed 35295 (100.0%) in 10.35 sec. Users per second: 3409\n",
      "Similarity column 38121 (100.0%), 5681.34 column/sec. Elapsed time 6.71 sec\n",
      "EvaluatorHoldout: Processed 35269 (100.0%) in 10.41 sec. Users per second: 3389\n",
      "Similarity column 38121 (100.0%), 5663.31 column/sec. Elapsed time 6.73 sec\n",
      "EvaluatorHoldout: Processed 35311 (100.0%) in 10.32 sec. Users per second: 3421\n",
      "Similarity column 38121 (100.0%), 5700.86 column/sec. Elapsed time 6.69 sec\n",
      "EvaluatorHoldout: Processed 35323 (100.0%) in 10.39 sec. Users per second: 3398\n",
      "Similarity column 38121 (100.0%), 5687.55 column/sec. Elapsed time 6.70 sec\n",
      "EvaluatorHoldout: Processed 35327 (100.0%) in 10.35 sec. Users per second: 3412\n",
      "Similarity column 38121 (100.0%), 5670.66 column/sec. Elapsed time 6.72 sec\n",
      "EvaluatorHoldout: Processed 35336 (100.0%) in 10.37 sec. Users per second: 3409\n",
      "Similarity column 38121 (100.0%), 5694.22 column/sec. Elapsed time 6.69 sec\n",
      "EvaluatorHoldout: Processed 35270 (100.0%) in 10.31 sec. Users per second: 3422\n",
      "Similarity column 38121 (100.0%), 5691.74 column/sec. Elapsed time 6.70 sec\n",
      "EvaluatorHoldout: Processed 35277 (100.0%) in 10.40 sec. Users per second: 3393\n"
     ]
    },
    {
     "name": "stderr",
     "output_type": "stream",
     "text": [
      "[I 2024-11-28 06:24:43,662] Trial 194 finished with value: 0.030731746624964966 and parameters: {'similarity': 'asymmetric', 'topK': 7, 'shrink': 16, 'asymmetric_alpha': 0.028512190546435657}. Best is trial 155 with value: 0.03078142287004788.\n"
     ]
    },
    {
     "name": "stdout",
     "output_type": "stream",
     "text": [
      "Similarity column 38121 (100.0%), 5633.89 column/sec. Elapsed time 6.77 sec\n",
      "EvaluatorHoldout: Processed 35311 (100.0%) in 10.37 sec. Users per second: 3404\n",
      "Similarity column 38121 (100.0%), 5690.34 column/sec. Elapsed time 6.70 sec\n",
      "EvaluatorHoldout: Processed 35289 (100.0%) in 10.36 sec. Users per second: 3407\n",
      "Similarity column 38121 (100.0%), 5649.09 column/sec. Elapsed time 6.75 sec\n",
      "EvaluatorHoldout: Processed 35295 (100.0%) in 10.33 sec. Users per second: 3415\n",
      "Similarity column 38121 (100.0%), 5690.53 column/sec. Elapsed time 6.70 sec\n",
      "EvaluatorHoldout: Processed 35269 (100.0%) in 10.39 sec. Users per second: 3393\n",
      "Similarity column 38121 (100.0%), 5694.29 column/sec. Elapsed time 6.69 sec\n",
      "EvaluatorHoldout: Processed 35311 (100.0%) in 10.43 sec. Users per second: 3386\n",
      "Similarity column 38121 (100.0%), 5696.18 column/sec. Elapsed time 6.69 sec\n",
      "EvaluatorHoldout: Processed 35323 (100.0%) in 10.36 sec. Users per second: 3410\n",
      "Similarity column 38121 (100.0%), 5693.77 column/sec. Elapsed time 6.70 sec\n",
      "EvaluatorHoldout: Processed 35327 (100.0%) in 10.30 sec. Users per second: 3429\n",
      "Similarity column 38121 (100.0%), 5631.36 column/sec. Elapsed time 6.77 sec\n",
      "EvaluatorHoldout: Processed 35336 (100.0%) in 10.42 sec. Users per second: 3391\n",
      "Similarity column 38121 (100.0%), 5685.40 column/sec. Elapsed time 6.71 sec\n",
      "EvaluatorHoldout: Processed 35270 (100.0%) in 10.37 sec. Users per second: 3403\n",
      "Similarity column 38121 (100.0%), 5691.40 column/sec. Elapsed time 6.70 sec\n",
      "EvaluatorHoldout: Processed 35277 (100.0%) in 10.43 sec. Users per second: 3383\n"
     ]
    },
    {
     "name": "stderr",
     "output_type": "stream",
     "text": [
      "[I 2024-11-28 06:27:34,999] Trial 195 finished with value: 0.030432647562631043 and parameters: {'similarity': 'asymmetric', 'topK': 7, 'shrink': 32, 'asymmetric_alpha': 0.020185760781720574}. Best is trial 155 with value: 0.03078142287004788.\n"
     ]
    },
    {
     "name": "stdout",
     "output_type": "stream",
     "text": [
      "Similarity column 38121 (100.0%), 5658.69 column/sec. Elapsed time 6.74 sec\n",
      "EvaluatorHoldout: Processed 35311 (100.0%) in 11.83 sec. Users per second: 2986\n",
      "Similarity column 38121 (100.0%), 5648.63 column/sec. Elapsed time 6.75 sec\n",
      "EvaluatorHoldout: Processed 35289 (100.0%) in 11.89 sec. Users per second: 2968\n",
      "Similarity column 38121 (100.0%), 5656.91 column/sec. Elapsed time 6.74 sec\n",
      "EvaluatorHoldout: Processed 35295 (100.0%) in 11.93 sec. Users per second: 2960\n",
      "Similarity column 38121 (100.0%), 5657.53 column/sec. Elapsed time 6.74 sec\n",
      "EvaluatorHoldout: Processed 35269 (100.0%) in 11.73 sec. Users per second: 3008\n",
      "Similarity column 38121 (100.0%), 5613.90 column/sec. Elapsed time 6.79 sec\n",
      "EvaluatorHoldout: Processed 35311 (100.0%) in 11.85 sec. Users per second: 2980\n",
      "Similarity column 38121 (100.0%), 5673.20 column/sec. Elapsed time 6.72 sec\n",
      "EvaluatorHoldout: Processed 35323 (100.0%) in 11.90 sec. Users per second: 2968\n",
      "Similarity column 38121 (100.0%), 5653.83 column/sec. Elapsed time 6.74 sec\n",
      "EvaluatorHoldout: Processed 35327 (100.0%) in 11.92 sec. Users per second: 2964\n",
      "Similarity column 38121 (100.0%), 5641.85 column/sec. Elapsed time 6.76 sec\n",
      "EvaluatorHoldout: Processed 35336 (100.0%) in 11.90 sec. Users per second: 2970\n",
      "Similarity column 38121 (100.0%), 5664.54 column/sec. Elapsed time 6.73 sec\n",
      "EvaluatorHoldout: Processed 35270 (100.0%) in 11.83 sec. Users per second: 2980\n",
      "Similarity column 38121 (100.0%), 5663.39 column/sec. Elapsed time 6.73 sec\n",
      "EvaluatorHoldout: Processed 35277 (100.0%) in 11.85 sec. Users per second: 2977\n"
     ]
    },
    {
     "name": "stderr",
     "output_type": "stream",
     "text": [
      "[I 2024-11-28 06:30:41,699] Trial 196 finished with value: 0.02779556161346844 and parameters: {'similarity': 'asymmetric', 'topK': 76, 'shrink': 14, 'asymmetric_alpha': 0.031502903926736346}. Best is trial 155 with value: 0.03078142287004788.\n"
     ]
    },
    {
     "name": "stdout",
     "output_type": "stream",
     "text": [
      "Similarity column 38121 (100.0%), 5646.29 column/sec. Elapsed time 6.75 sec\n",
      "EvaluatorHoldout: Processed 35311 (100.0%) in 10.34 sec. Users per second: 3416\n",
      "Similarity column 38121 (100.0%), 5693.85 column/sec. Elapsed time 6.70 sec\n",
      "EvaluatorHoldout: Processed 35289 (100.0%) in 10.30 sec. Users per second: 3425\n",
      "Similarity column 38121 (100.0%), 5672.29 column/sec. Elapsed time 6.72 sec\n",
      "EvaluatorHoldout: Processed 35295 (100.0%) in 10.35 sec. Users per second: 3410\n",
      "Similarity column 38121 (100.0%), 5693.83 column/sec. Elapsed time 6.70 sec\n",
      "EvaluatorHoldout: Processed 35269 (100.0%) in 10.28 sec. Users per second: 3430\n",
      "Similarity column 38121 (100.0%), 5708.36 column/sec. Elapsed time 6.68 sec\n",
      "EvaluatorHoldout: Processed 35311 (100.0%) in 10.39 sec. Users per second: 3400\n",
      "Similarity column 38121 (100.0%), 5704.98 column/sec. Elapsed time 6.68 sec\n",
      "EvaluatorHoldout: Processed 35323 (100.0%) in 10.38 sec. Users per second: 3404\n",
      "Similarity column 38121 (100.0%), 5680.31 column/sec. Elapsed time 6.71 sec\n",
      "EvaluatorHoldout: Processed 35327 (100.0%) in 10.29 sec. Users per second: 3434\n",
      "Similarity column 38121 (100.0%), 5635.54 column/sec. Elapsed time 6.76 sec\n",
      "EvaluatorHoldout: Processed 35336 (100.0%) in 10.31 sec. Users per second: 3426\n",
      "Similarity column 38121 (100.0%), 5678.01 column/sec. Elapsed time 6.71 sec\n",
      "EvaluatorHoldout: Processed 35270 (100.0%) in 10.33 sec. Users per second: 3414\n",
      "Similarity column 38121 (100.0%), 5704.23 column/sec. Elapsed time 6.68 sec\n",
      "EvaluatorHoldout: Processed 35277 (100.0%) in 10.34 sec. Users per second: 3413\n"
     ]
    },
    {
     "name": "stderr",
     "output_type": "stream",
     "text": [
      "[I 2024-11-28 06:33:32,521] Trial 197 finished with value: 0.03077653029029358 and parameters: {'similarity': 'asymmetric', 'topK': 6, 'shrink': 16, 'asymmetric_alpha': 0.034408229683770726}. Best is trial 155 with value: 0.03078142287004788.\n"
     ]
    },
    {
     "name": "stdout",
     "output_type": "stream",
     "text": [
      "Similarity column 38121 (100.0%), 5970.05 column/sec. Elapsed time 6.39 sec\n",
      "EvaluatorHoldout: Processed 35311 (100.0%) in 10.62 sec. Users per second: 3325\n",
      "Similarity column 38121 (100.0%), 5976.13 column/sec. Elapsed time 6.38 sec\n",
      "EvaluatorHoldout: Processed 35289 (100.0%) in 10.66 sec. Users per second: 3311\n",
      "Similarity column 38121 (100.0%), 5963.11 column/sec. Elapsed time 6.39 sec\n",
      "EvaluatorHoldout: Processed 35295 (100.0%) in 10.58 sec. Users per second: 3335\n",
      "Similarity column 38121 (100.0%), 5971.60 column/sec. Elapsed time 6.38 sec\n",
      "EvaluatorHoldout: Processed 35269 (100.0%) in 10.56 sec. Users per second: 3340\n",
      "Similarity column 38121 (100.0%), 5950.51 column/sec. Elapsed time 6.41 sec\n",
      "EvaluatorHoldout: Processed 35311 (100.0%) in 10.61 sec. Users per second: 3327\n",
      "Similarity column 38121 (100.0%), 5975.61 column/sec. Elapsed time 6.38 sec\n",
      "EvaluatorHoldout: Processed 35323 (100.0%) in 10.61 sec. Users per second: 3330\n",
      "Similarity column 38121 (100.0%), 5967.65 column/sec. Elapsed time 6.39 sec\n",
      "EvaluatorHoldout: Processed 35327 (100.0%) in 10.63 sec. Users per second: 3324\n",
      "Similarity column 38121 (100.0%), 5957.25 column/sec. Elapsed time 6.40 sec\n",
      "EvaluatorHoldout: Processed 35336 (100.0%) in 10.63 sec. Users per second: 3325\n",
      "Similarity column 38121 (100.0%), 5984.44 column/sec. Elapsed time 6.37 sec\n",
      "EvaluatorHoldout: Processed 35270 (100.0%) in 10.61 sec. Users per second: 3325\n",
      "Similarity column 38121 (100.0%), 5923.15 column/sec. Elapsed time 6.44 sec\n",
      "EvaluatorHoldout: Processed 35277 (100.0%) in 10.64 sec. Users per second: 3315\n"
     ]
    },
    {
     "name": "stderr",
     "output_type": "stream",
     "text": [
      "[I 2024-11-28 06:36:23,701] Trial 198 finished with value: 0.027980267370226557 and parameters: {'similarity': 'tversky', 'topK': 9, 'shrink': 15, 'tversky_alpha': 0.13108245931890683, 'tversky_beta': 0.16272028306527697}. Best is trial 155 with value: 0.03078142287004788.\n"
     ]
    },
    {
     "name": "stdout",
     "output_type": "stream",
     "text": [
      "Similarity column 38121 (100.0%), 5668.67 column/sec. Elapsed time 6.72 sec\n",
      "EvaluatorHoldout: Processed 35311 (100.0%) in 10.33 sec. Users per second: 3418\n",
      "Similarity column 38121 (100.0%), 5679.65 column/sec. Elapsed time 6.71 sec\n",
      "EvaluatorHoldout: Processed 35289 (100.0%) in 10.36 sec. Users per second: 3407\n",
      "Similarity column 38121 (100.0%), 5679.61 column/sec. Elapsed time 6.71 sec\n",
      "EvaluatorHoldout: Processed 35295 (100.0%) in 10.32 sec. Users per second: 3419\n",
      "Similarity column 38121 (100.0%), 5694.32 column/sec. Elapsed time 6.69 sec\n",
      "EvaluatorHoldout: Processed 35269 (100.0%) in 10.28 sec. Users per second: 3429\n",
      "Similarity column 38121 (100.0%), 5633.79 column/sec. Elapsed time 6.77 sec\n",
      "EvaluatorHoldout: Processed 35311 (100.0%) in 10.31 sec. Users per second: 3427\n",
      "Similarity column 38121 (100.0%), 5689.72 column/sec. Elapsed time 6.70 sec\n",
      "EvaluatorHoldout: Processed 35323 (100.0%) in 10.31 sec. Users per second: 3428\n",
      "Similarity column 38121 (100.0%), 5628.78 column/sec. Elapsed time 6.77 sec\n",
      "EvaluatorHoldout: Processed 35327 (100.0%) in 10.32 sec. Users per second: 3424\n",
      "Similarity column 38121 (100.0%), 5669.89 column/sec. Elapsed time 6.72 sec\n",
      "EvaluatorHoldout: Processed 35336 (100.0%) in 10.26 sec. Users per second: 3443\n",
      "Similarity column 38121 (100.0%), 5700.16 column/sec. Elapsed time 6.69 sec\n",
      "EvaluatorHoldout: Processed 35270 (100.0%) in 10.33 sec. Users per second: 3414\n",
      "Similarity column 38121 (100.0%), 5686.24 column/sec. Elapsed time 6.70 sec\n",
      "EvaluatorHoldout: Processed 35277 (100.0%) in 10.27 sec. Users per second: 3434\n"
     ]
    },
    {
     "name": "stderr",
     "output_type": "stream",
     "text": [
      "[I 2024-11-28 06:39:14,413] Trial 199 finished with value: 0.03077462836249707 and parameters: {'similarity': 'asymmetric', 'topK': 6, 'shrink': 16, 'asymmetric_alpha': 0.03420883590351088}. Best is trial 155 with value: 0.03078142287004788.\n"
     ]
    }
   ],
   "source": [
    "optuna_study = optuna.create_study(direction=\"maximize\")\n",
    "        \n",
    "save_results = SaveResults()\n",
    "        \n",
    "optuna_study.optimize(objective_function,\n",
    "                      callbacks=[save_results],\n",
    "                      n_trials = 200)"
   ]
  },
  {
   "cell_type": "code",
   "execution_count": 19,
   "metadata": {},
   "outputs": [
    {
     "name": "stdout",
     "output_type": "stream",
     "text": [
      "{'similarity': 'asymmetric', 'topK': 6, 'shrink': 16, 'asymmetric_alpha': 0.024628530649850728}\n"
     ]
    }
   ],
   "source": [
    "best_params = optuna_study.best_params\n",
    "print(best_params)"
   ]
  },
  {
   "cell_type": "markdown",
   "metadata": {},
   "source": [
    "## Test value\n",
    "Let's see how it comparsed with the test set"
   ]
  },
  {
   "cell_type": "code",
   "execution_count": 21,
   "metadata": {},
   "outputs": [
    {
     "name": "stdout",
     "output_type": "stream",
     "text": [
      "ItemKNNCFRecommender: URM Detected 425 ( 0.6%) users with no interactions.\n",
      "Similarity column 38121 (100.0%), 5330.30 column/sec. Elapsed time 7.15 sec\n",
      "EvaluatorHoldout: Processed 35569 (100.0%) in 10.84 sec. Users per second: 3281\n",
      "ItemKNNCFRecommender: URM Detected 447 ( 0.6%) users with no interactions.\n",
      "Similarity column 38121 (100.0%), 5390.94 column/sec. Elapsed time 7.07 sec\n",
      "EvaluatorHoldout: Processed 35581 (100.0%) in 10.75 sec. Users per second: 3311\n",
      "ItemKNNCFRecommender: URM Detected 441 ( 0.6%) users with no interactions.\n",
      "Similarity column 38121 (100.0%), 5332.37 column/sec. Elapsed time 7.15 sec\n",
      "EvaluatorHoldout: Processed 35569 (100.0%) in 10.74 sec. Users per second: 3313\n",
      "ItemKNNCFRecommender: URM Detected 467 ( 0.7%) users with no interactions.\n",
      "Similarity column 38121 (100.0%), 5385.65 column/sec. Elapsed time 7.08 sec\n",
      "EvaluatorHoldout: Processed 35573 (100.0%) in 10.78 sec. Users per second: 3299\n",
      "ItemKNNCFRecommender: URM Detected 425 ( 0.6%) users with no interactions.\n",
      "Similarity column 38121 (100.0%), 5350.58 column/sec. Elapsed time 7.12 sec\n",
      "EvaluatorHoldout: Processed 35567 (100.0%) in 10.78 sec. Users per second: 3298\n",
      "ItemKNNCFRecommender: URM Detected 413 ( 0.6%) users with no interactions.\n",
      "Similarity column 38121 (100.0%), 5335.44 column/sec. Elapsed time 7.14 sec\n",
      "EvaluatorHoldout: Processed 35582 (100.0%) in 10.76 sec. Users per second: 3308\n",
      "ItemKNNCFRecommender: URM Detected 409 ( 0.6%) users with no interactions.\n",
      "Similarity column 38121 (100.0%), 5377.35 column/sec. Elapsed time 7.09 sec\n",
      "EvaluatorHoldout: Processed 35567 (100.0%) in 10.78 sec. Users per second: 3299\n",
      "ItemKNNCFRecommender: URM Detected 400 ( 0.6%) users with no interactions.\n",
      "Similarity column 38121 (100.0%), 5362.65 column/sec. Elapsed time 7.11 sec\n",
      "EvaluatorHoldout: Processed 35578 (100.0%) in 10.72 sec. Users per second: 3320\n",
      "ItemKNNCFRecommender: URM Detected 466 ( 0.7%) users with no interactions.\n",
      "Similarity column 38121 (100.0%), 5359.56 column/sec. Elapsed time 7.11 sec\n",
      "EvaluatorHoldout: Processed 35563 (100.0%) in 10.86 sec. Users per second: 3274\n",
      "ItemKNNCFRecommender: URM Detected 459 ( 0.6%) users with no interactions.\n",
      "Similarity column 38121 (100.0%), 5353.15 column/sec. Elapsed time 7.12 sec\n",
      "EvaluatorHoldout: Processed 35560 (100.0%) in 10.83 sec. Users per second: 3283\n"
     ]
    },
    {
     "data": {
      "text/plain": [
       "0.04021931143181421"
      ]
     },
     "execution_count": 21,
     "metadata": {},
     "output_type": "execute_result"
    }
   ],
   "source": [
    "urm_train_validations = []\n",
    "for i in range(k_fold):\n",
    "    urm_train_validations.append(sps.vstack([urm_trains[i], urm_validations[i]]))\n",
    "\n",
    "best_MAP_test = 0\n",
    "\n",
    "for i in range(k_fold):\n",
    "    recommender = ItemKNNCFRecommender(urm_train_validations[i])\n",
    "    recommender.fit(**best_params)\n",
    "\n",
    "    result_dict, _ = evaluator_test[i].evaluateRecommender(recommender)\n",
    "\n",
    "    best_MAP_test += result_dict[\"MAP\"].item()\n",
    "\n",
    "best_MAP_test /= k_fold\n",
    "best_MAP_test"
   ]
  },
  {
   "cell_type": "markdown",
   "metadata": {},
   "source": [
    "# Let's try predict the best item for users\n",
    "Let's see which items recommend with the current configuration. Then it may make sense to retray optuna with an even smaller hyperparameter with 80% of the whole dataset to see which results it provides."
   ]
  },
  {
   "cell_type": "code",
   "execution_count": 22,
   "metadata": {},
   "outputs": [
    {
     "name": "stdout",
     "output_type": "stream",
     "text": [
      "   user_id\n",
      "0        0\n",
      "1        1\n",
      "2        2\n",
      "3        3\n",
      "4        4\n",
      "5        5\n",
      "6        6\n",
      "7        7\n",
      "8        8\n",
      "9        9\n"
     ]
    }
   ],
   "source": [
    "target_user = pd.read_csv(\"Dataset/data_target_users_test.csv\")\n",
    "print(target_user.head(10))"
   ]
  },
  {
   "cell_type": "code",
   "execution_count": null,
   "metadata": {},
   "outputs": [],
   "source": [
    "recommender = ItemKNNCFRecommender(URM_all)\n",
    "recommender.fit(**best_params)\n",
    "\n",
    "user_id = target_user['user_id']\n",
    "recommendations = []\n",
    "for user in user_id:\n",
    "    recommendations.append(recommender.recommend(user, cutoff=10))\n",
    "\n",
    "# Saving in a submission file for the competition\n",
    "submission = pd.DataFrame(columns=['user_id', 'item_list'])\n",
    "submission['user_id'] = user_id\n",
    "# Convert list of recommendations into a space-separated string\n",
    "submission['item_list'] = [' '.join(map(str, recs)) for recs in recommendations]\n",
    "\n",
    "# Save the submission file\n",
    "submission.to_csv(\"submissions/knn_Sim:{}_K:{}_Shr:{}_AsymAlpha{}.csv\".format(\n",
    "    best_params[\"similarity\"], \n",
    "    best_params[\"topK\"], \n",
    "    best_params[\"shrink\"], \n",
    "    best_params[\"asymmetric_alpha\"]), \n",
    "    index=False)"
   ]
  },
  {
   "cell_type": "markdown",
   "metadata": {},
   "source": [
    "# We can further improve the hyperparameters repeating the Optuna process by including the dataset"
   ]
  },
  {
   "cell_type": "code",
   "execution_count": 34,
   "metadata": {},
   "outputs": [
    {
     "name": "stdout",
     "output_type": "stream",
     "text": [
      "Warning: 167 (0.47 %) of 35736 users have no sampled items\n",
      "Warning: 425 (1.19 %) of 35736 users have no sampled items\n",
      "EvaluatorHoldout: Ignoring 425 ( 1.2%) Users that have less than 1 test interactions\n",
      "EvaluatorHoldout: Ignoring 167 ( 0.5%) Users that have less than 1 test interactions\n",
      "Warning: 155 (0.43 %) of 35736 users have no sampled items\n",
      "Warning: 447 (1.25 %) of 35736 users have no sampled items\n",
      "EvaluatorHoldout: Ignoring 447 ( 1.3%) Users that have less than 1 test interactions\n",
      "EvaluatorHoldout: Ignoring 155 ( 0.4%) Users that have less than 1 test interactions\n",
      "Warning: 167 (0.47 %) of 35736 users have no sampled items\n",
      "Warning: 441 (1.23 %) of 35736 users have no sampled items\n",
      "EvaluatorHoldout: Ignoring 441 ( 1.2%) Users that have less than 1 test interactions\n",
      "EvaluatorHoldout: Ignoring 167 ( 0.5%) Users that have less than 1 test interactions\n",
      "Warning: 163 (0.46 %) of 35736 users have no sampled items\n",
      "Warning: 467 (1.31 %) of 35736 users have no sampled items\n",
      "EvaluatorHoldout: Ignoring 467 ( 1.3%) Users that have less than 1 test interactions\n",
      "EvaluatorHoldout: Ignoring 163 ( 0.5%) Users that have less than 1 test interactions\n",
      "Warning: 169 (0.47 %) of 35736 users have no sampled items\n",
      "Warning: 425 (1.19 %) of 35736 users have no sampled items\n",
      "EvaluatorHoldout: Ignoring 425 ( 1.2%) Users that have less than 1 test interactions\n",
      "EvaluatorHoldout: Ignoring 169 ( 0.5%) Users that have less than 1 test interactions\n",
      "Warning: 154 (0.43 %) of 35736 users have no sampled items\n",
      "Warning: 413 (1.16 %) of 35736 users have no sampled items\n",
      "EvaluatorHoldout: Ignoring 413 ( 1.2%) Users that have less than 1 test interactions\n",
      "EvaluatorHoldout: Ignoring 154 ( 0.4%) Users that have less than 1 test interactions\n",
      "Warning: 169 (0.47 %) of 35736 users have no sampled items\n",
      "Warning: 409 (1.14 %) of 35736 users have no sampled items\n",
      "EvaluatorHoldout: Ignoring 409 ( 1.1%) Users that have less than 1 test interactions\n",
      "EvaluatorHoldout: Ignoring 169 ( 0.5%) Users that have less than 1 test interactions\n",
      "Warning: 158 (0.44 %) of 35736 users have no sampled items\n",
      "Warning: 400 (1.12 %) of 35736 users have no sampled items\n",
      "EvaluatorHoldout: Ignoring 400 ( 1.1%) Users that have less than 1 test interactions\n",
      "EvaluatorHoldout: Ignoring 158 ( 0.4%) Users that have less than 1 test interactions\n",
      "Warning: 173 (0.48 %) of 35736 users have no sampled items\n",
      "Warning: 466 (1.30 %) of 35736 users have no sampled items\n",
      "EvaluatorHoldout: Ignoring 466 ( 1.3%) Users that have less than 1 test interactions\n",
      "EvaluatorHoldout: Ignoring 173 ( 0.5%) Users that have less than 1 test interactions\n",
      "Warning: 176 (0.49 %) of 35736 users have no sampled items\n",
      "Warning: 459 (1.28 %) of 35736 users have no sampled items\n",
      "EvaluatorHoldout: Ignoring 459 ( 1.3%) Users that have less than 1 test interactions\n",
      "EvaluatorHoldout: Ignoring 176 ( 0.5%) Users that have less than 1 test interactions\n"
     ]
    }
   ],
   "source": [
    "import numpy as np\n",
    "import scipy.sparse as sps\n",
    "from Data_manager.split_functions.split_train_validation_random_holdout import split_train_in_two_percentage_global_sample\n",
    "from Evaluation.Evaluator import EvaluatorHoldout\n",
    "\n",
    "\n",
    "\n",
    "URM_all = sps.coo_matrix((URM_all_dataframe['data'], (URM_all_dataframe['user_id'], URM_all_dataframe['item_id'])))\n",
    "URM_all = URM_all.tocsr()\n",
    "urm_trains = []\n",
    "urm_validations = []\n",
    "urm_train_validations = []\n",
    "urm_test = []\n",
    "# Defining evaluators\n",
    "evaluator_validation = []\n",
    "evaluator_test = []\n",
    "\n",
    "for i in range(k_fold):\n",
    "    # Splitting data into 64% train, 16% validation, 20% test\n",
    "    URM_train_validation, URM_test = split_train_in_two_percentage_global_sample(URM_all, train_percentage = 0.8, seed=seeds[i])\n",
    "    URM_train, URM_validation = split_train_in_two_percentage_global_sample(URM_train_validation, train_percentage = 0.8, seed=seeds[i])\n",
    "    \n",
    "    urm_trains.append(URM_train)\n",
    "    urm_validations.append(URM_validation)\n",
    "    urm_train_validations.append(URM_train_validation)\n",
    "    urm_test.append(URM_test)\n",
    "    \n",
    "    evaluator_validation.append(EvaluatorHoldout(URM_validation, cutoff_list=[10]))\n",
    "    evaluator_test.append(EvaluatorHoldout(URM_test, cutoff_list=[10]))"
   ]
  },
  {
   "cell_type": "code",
   "execution_count": 36,
   "metadata": {},
   "outputs": [],
   "source": [
    "import optuna\n",
    "import pandas as pd\n",
    "from Recommenders.KNN.ItemKNNCFRecommender import ItemKNNCFRecommender\n",
    "\n",
    "def objective_function(optuna_trial):\n",
    "    \n",
    "    similarity = optuna_trial.suggest_categorical(\"similarity\", ['cosine', 'dice', 'jaccard', 'asymmetric', 'tversky'])\n",
    "    \n",
    "    params = {\"similarity\": similarity,\n",
    "                   \"topK\": optuna_trial.suggest_int(\"topK\", 5, 20),\n",
    "                   \"shrink\": optuna_trial.suggest_int(\"shrink\", 0, 30),\n",
    "                  }\n",
    "    \n",
    "    if similarity == \"asymmetric\":\n",
    "        params[\"asymmetric_alpha\"] = optuna_trial.suggest_float(\"asymmetric_alpha\", 0, 0.15, log=False)\n",
    "        params[\"normalize\"] = True     \n",
    "\n",
    "    elif similarity == \"tversky\":\n",
    "        params[\"tversky_alpha\"] = optuna_trial.suggest_float(\"tversky_alpha\", 0, 2, log=False)\n",
    "        params[\"tversky_beta\"] = optuna_trial.suggest_float(\"tversky_beta\", 0, 2, log=False)\n",
    "        params[\"normalize\"] = True \n",
    "\n",
    "    MAP = 0\n",
    "    for i in range(k_fold):\n",
    "        recommender = ItemKNNCFRecommender(urm_train_validations[i])\n",
    "        recommender.fit(**params)\n",
    "\n",
    "        result_dict, _ = evaluator_test[i].evaluateRecommender(recommender)\n",
    "\n",
    "        MAP += result_dict.loc[10][\"MAP\"]\n",
    "    \n",
    "    MAP /= k_fold\n",
    "    \n",
    "    return MAP"
   ]
  },
  {
   "cell_type": "code",
   "execution_count": 37,
   "metadata": {},
   "outputs": [],
   "source": [
    "class SaveResults(object):\n",
    "    \n",
    "    def __init__(self):\n",
    "        self.results_df = pd.DataFrame(columns = [\"result\"])\n",
    "    \n",
    "    def __call__(self, optuna_study, optuna_trial):\n",
    "        hyperparam_dict = optuna_trial.params.copy()\n",
    "        hyperparam_dict[\"result\"] = optuna_trial.values[0]\n",
    "        \n",
    "        self.results_df = pd.concat([self.results_df, pd.DataFrame([hyperparam_dict])], ignore_index=True)\n",
    "        self.results_df.to_csv(\"logs/KNN_similarity_final_v2.csv\", index = False)"
   ]
  },
  {
   "cell_type": "code",
   "execution_count": 38,
   "metadata": {},
   "outputs": [
    {
     "name": "stderr",
     "output_type": "stream",
     "text": [
      "[I 2024-11-28 15:34:52,319] A new study created in memory with name: no-name-ddc324a3-7660-4a33-b011-79c8a36bd6cf\n"
     ]
    },
    {
     "name": "stdout",
     "output_type": "stream",
     "text": [
      "Similarity column 38121 (100.0%), 5020.15 column/sec. Elapsed time 7.59 sec\n",
      "EvaluatorHoldout: Processed 35569 (100.0%) in 11.21 sec. Users per second: 3173\n",
      "Similarity column 38121 (100.0%), 5026.71 column/sec. Elapsed time 7.58 sec\n",
      "EvaluatorHoldout: Processed 35581 (100.0%) in 11.23 sec. Users per second: 3169\n",
      "Similarity column 38121 (100.0%), 4994.93 column/sec. Elapsed time 7.63 sec\n",
      "EvaluatorHoldout: Processed 35569 (100.0%) in 11.14 sec. Users per second: 3193\n",
      "Similarity column 38121 (100.0%), 5053.22 column/sec. Elapsed time 7.54 sec\n",
      "EvaluatorHoldout: Processed 35573 (100.0%) in 11.16 sec. Users per second: 3186\n",
      "Similarity column 38121 (100.0%), 5050.17 column/sec. Elapsed time 7.55 sec\n",
      "EvaluatorHoldout: Processed 35567 (100.0%) in 11.11 sec. Users per second: 3201\n",
      "Similarity column 38121 (100.0%), 5044.62 column/sec. Elapsed time 7.56 sec\n",
      "EvaluatorHoldout: Processed 35582 (100.0%) in 11.21 sec. Users per second: 3176\n",
      "Similarity column 38121 (100.0%), 5048.16 column/sec. Elapsed time 7.55 sec\n",
      "EvaluatorHoldout: Processed 35567 (100.0%) in 11.12 sec. Users per second: 3199\n",
      "Similarity column 38121 (100.0%), 5006.26 column/sec. Elapsed time 7.61 sec\n",
      "EvaluatorHoldout: Processed 35578 (100.0%) in 11.12 sec. Users per second: 3199\n",
      "Similarity column 38121 (100.0%), 5052.48 column/sec. Elapsed time 7.55 sec\n",
      "EvaluatorHoldout: Processed 35563 (100.0%) in 11.14 sec. Users per second: 3193\n",
      "Similarity column 38121 (100.0%), 5007.08 column/sec. Elapsed time 7.61 sec\n",
      "EvaluatorHoldout: Processed 35560 (100.0%) in 11.20 sec. Users per second: 3175\n"
     ]
    },
    {
     "name": "stderr",
     "output_type": "stream",
     "text": [
      "[I 2024-11-28 15:38:01,076] Trial 0 finished with value: 0.049956190873710456 and parameters: {'similarity': 'tversky', 'topK': 19, 'shrink': 22, 'tversky_alpha': 0.9545980511376628, 'tversky_beta': 1.1748421355890462}. Best is trial 0 with value: 0.049956190873710456.\n"
     ]
    },
    {
     "name": "stdout",
     "output_type": "stream",
     "text": [
      "Similarity column 38121 (100.0%), 4942.10 column/sec. Elapsed time 7.71 sec\n",
      "EvaluatorHoldout: Processed 35569 (100.0%) in 10.54 sec. Users per second: 3374\n",
      "Similarity column 38121 (100.0%), 5105.84 column/sec. Elapsed time 7.47 sec\n",
      "EvaluatorHoldout: Processed 35581 (100.0%) in 10.74 sec. Users per second: 3313\n",
      "Similarity column 38121 (100.0%), 4913.01 column/sec. Elapsed time 7.76 sec\n",
      "EvaluatorHoldout: Processed 35569 (100.0%) in 10.87 sec. Users per second: 3273\n",
      "Similarity column 38121 (100.0%), 5137.84 column/sec. Elapsed time 7.42 sec\n",
      "EvaluatorHoldout: Processed 35573 (100.0%) in 10.69 sec. Users per second: 3328\n",
      "Similarity column 38121 (100.0%), 4880.95 column/sec. Elapsed time 7.81 sec\n",
      "EvaluatorHoldout: Processed 35567 (100.0%) in 10.98 sec. Users per second: 3240\n",
      "Similarity column 38121 (100.0%), 4959.21 column/sec. Elapsed time 7.69 sec\n",
      "EvaluatorHoldout: Processed 35582 (100.0%) in 10.94 sec. Users per second: 3253\n",
      "Similarity column 38121 (100.0%), 4880.25 column/sec. Elapsed time 7.81 sec\n",
      "EvaluatorHoldout: Processed 35567 (100.0%) in 10.80 sec. Users per second: 3294\n",
      "Similarity column 38121 (100.0%), 4981.03 column/sec. Elapsed time 7.65 sec\n",
      "EvaluatorHoldout: Processed 35578 (100.0%) in 10.71 sec. Users per second: 3321\n",
      "Similarity column 38121 (100.0%), 5032.03 column/sec. Elapsed time 7.58 sec\n",
      "EvaluatorHoldout: Processed 35563 (100.0%) in 10.73 sec. Users per second: 3313\n",
      "Similarity column 38121 (100.0%), 5084.96 column/sec. Elapsed time 7.50 sec\n",
      "EvaluatorHoldout: Processed 35560 (100.0%) in 10.84 sec. Users per second: 3282\n"
     ]
    },
    {
     "name": "stderr",
     "output_type": "stream",
     "text": [
      "[I 2024-11-28 15:41:06,630] Trial 1 finished with value: 0.05018479770296993 and parameters: {'similarity': 'jaccard', 'topK': 13, 'shrink': 18}. Best is trial 1 with value: 0.05018479770296993.\n"
     ]
    },
    {
     "name": "stdout",
     "output_type": "stream",
     "text": [
      "Similarity column 38121 (100.0%), 5023.40 column/sec. Elapsed time 7.59 sec\n",
      "EvaluatorHoldout: Processed 35569 (100.0%) in 10.43 sec. Users per second: 3411\n",
      "Similarity column 38121 (100.0%), 5094.67 column/sec. Elapsed time 7.48 sec\n",
      "EvaluatorHoldout: Processed 35581 (100.0%) in 10.37 sec. Users per second: 3430\n",
      "Similarity column 38121 (100.0%), 5120.89 column/sec. Elapsed time 7.44 sec\n",
      "EvaluatorHoldout: Processed 35569 (100.0%) in 10.50 sec. Users per second: 3388\n",
      "Similarity column 38121 (100.0%), 5148.99 column/sec. Elapsed time 7.40 sec\n",
      "EvaluatorHoldout: Processed 35573 (100.0%) in 10.48 sec. Users per second: 3395\n",
      "Similarity column 38121 (100.0%), 5090.59 column/sec. Elapsed time 7.49 sec\n",
      "EvaluatorHoldout: Processed 35567 (100.0%) in 10.43 sec. Users per second: 3410\n",
      "Similarity column 38121 (100.0%), 5020.50 column/sec. Elapsed time 7.59 sec\n",
      "EvaluatorHoldout: Processed 35582 (100.0%) in 10.95 sec. Users per second: 3251\n",
      "Similarity column 38121 (100.0%), 5048.61 column/sec. Elapsed time 7.55 sec\n",
      "EvaluatorHoldout: Processed 35567 (100.0%) in 11.58 sec. Users per second: 3072\n",
      "Similarity column 38121 (100.0%), 4991.52 column/sec. Elapsed time 7.64 sec\n",
      "EvaluatorHoldout: Processed 35578 (100.0%) in 10.78 sec. Users per second: 3300\n",
      "Similarity column 38121 (100.0%), 5096.91 column/sec. Elapsed time 7.48 sec\n",
      "EvaluatorHoldout: Processed 35563 (100.0%) in 10.47 sec. Users per second: 3397\n",
      "Similarity column 38121 (100.0%), 5152.19 column/sec. Elapsed time 7.40 sec\n",
      "EvaluatorHoldout: Processed 35560 (100.0%) in 11.04 sec. Users per second: 3220\n"
     ]
    },
    {
     "name": "stderr",
     "output_type": "stream",
     "text": [
      "[I 2024-11-28 15:44:10,058] Trial 2 finished with value: 0.05298976421616701 and parameters: {'similarity': 'tversky', 'topK': 11, 'shrink': 28, 'tversky_alpha': 0.19835131141436757, 'tversky_beta': 1.4131296504830837}. Best is trial 2 with value: 0.05298976421616701.\n"
     ]
    },
    {
     "name": "stdout",
     "output_type": "stream",
     "text": [
      "Similarity column 38121 (100.0%), 4771.91 column/sec. Elapsed time 7.99 sec\n",
      "EvaluatorHoldout: Processed 35569 (100.0%) in 10.98 sec. Users per second: 3240\n",
      "Similarity column 38121 (100.0%), 4868.60 column/sec. Elapsed time 7.83 sec\n",
      "EvaluatorHoldout: Processed 35581 (100.0%) in 10.59 sec. Users per second: 3359\n",
      "Similarity column 38121 (100.0%), 4630.21 column/sec. Elapsed time 8.23 sec\n",
      "EvaluatorHoldout: Processed 35569 (100.0%) in 11.11 sec. Users per second: 3202\n",
      "Similarity column 38121 (100.0%), 4863.43 column/sec. Elapsed time 7.84 sec\n",
      "EvaluatorHoldout: Processed 35573 (100.0%) in 10.60 sec. Users per second: 3356\n",
      "Similarity column 38121 (100.0%), 4908.62 column/sec. Elapsed time 7.77 sec\n",
      "EvaluatorHoldout: Processed 35567 (100.0%) in 10.68 sec. Users per second: 3331\n",
      "Similarity column 38121 (100.0%), 4747.55 column/sec. Elapsed time 8.03 sec\n",
      "EvaluatorHoldout: Processed 35582 (100.0%) in 11.01 sec. Users per second: 3233\n",
      "Similarity column 38121 (100.0%), 4941.35 column/sec. Elapsed time 7.71 sec\n",
      "EvaluatorHoldout: Processed 35567 (100.0%) in 10.67 sec. Users per second: 3335\n",
      "Similarity column 38121 (100.0%), 4814.34 column/sec. Elapsed time 7.92 sec\n",
      "EvaluatorHoldout: Processed 35578 (100.0%) in 10.69 sec. Users per second: 3327\n",
      "Similarity column 38121 (100.0%), 4884.39 column/sec. Elapsed time 7.80 sec\n",
      "EvaluatorHoldout: Processed 35563 (100.0%) in 10.58 sec. Users per second: 3363\n",
      "Similarity column 38121 (100.0%), 4854.04 column/sec. Elapsed time 7.85 sec\n",
      "EvaluatorHoldout: Processed 35560 (100.0%) in 10.91 sec. Users per second: 3260\n"
     ]
    },
    {
     "name": "stderr",
     "output_type": "stream",
     "text": [
      "[I 2024-11-28 15:47:17,308] Trial 3 finished with value: 0.050130633527657086 and parameters: {'similarity': 'asymmetric', 'topK': 20, 'shrink': 2, 'asymmetric_alpha': 0.019825097980394495}. Best is trial 2 with value: 0.05298976421616701.\n"
     ]
    },
    {
     "name": "stdout",
     "output_type": "stream",
     "text": [
      "Similarity column 38121 (100.0%), 5074.62 column/sec. Elapsed time 7.51 sec\n",
      "EvaluatorHoldout: Processed 35569 (100.0%) in 10.60 sec. Users per second: 3354\n",
      "Similarity column 38121 (100.0%), 5196.30 column/sec. Elapsed time 7.34 sec\n",
      "EvaluatorHoldout: Processed 35581 (100.0%) in 10.22 sec. Users per second: 3482\n",
      "Similarity column 38121 (100.0%), 5178.85 column/sec. Elapsed time 7.36 sec\n",
      "EvaluatorHoldout: Processed 35569 (100.0%) in 10.26 sec. Users per second: 3466\n",
      "Similarity column 38121 (100.0%), 5216.90 column/sec. Elapsed time 7.31 sec\n",
      "EvaluatorHoldout: Processed 35573 (100.0%) in 10.45 sec. Users per second: 3406\n",
      "Similarity column 38121 (100.0%), 5085.99 column/sec. Elapsed time 7.50 sec\n",
      "EvaluatorHoldout: Processed 35567 (100.0%) in 10.73 sec. Users per second: 3316\n",
      "Similarity column 38121 (100.0%), 5139.26 column/sec. Elapsed time 7.42 sec\n",
      "EvaluatorHoldout: Processed 35582 (100.0%) in 10.88 sec. Users per second: 3271\n",
      "Similarity column 38121 (100.0%), 5136.22 column/sec. Elapsed time 7.42 sec\n",
      "EvaluatorHoldout: Processed 35567 (100.0%) in 10.54 sec. Users per second: 3375\n",
      "Similarity column 38121 (100.0%), 5207.61 column/sec. Elapsed time 7.32 sec\n",
      "EvaluatorHoldout: Processed 35578 (100.0%) in 10.23 sec. Users per second: 3477\n",
      "Similarity column 38121 (100.0%), 5208.05 column/sec. Elapsed time 7.32 sec\n",
      "EvaluatorHoldout: Processed 35563 (100.0%) in 10.24 sec. Users per second: 3471\n",
      "Similarity column 38121 (100.0%), 5097.17 column/sec. Elapsed time 7.48 sec\n",
      "EvaluatorHoldout: Processed 35560 (100.0%) in 10.75 sec. Users per second: 3307\n"
     ]
    },
    {
     "name": "stderr",
     "output_type": "stream",
     "text": [
      "[I 2024-11-28 15:50:17,490] Trial 4 finished with value: 0.04957288086268531 and parameters: {'similarity': 'tversky', 'topK': 7, 'shrink': 25, 'tversky_alpha': 1.851554481507151, 'tversky_beta': 1.1014920102094916}. Best is trial 2 with value: 0.05298976421616701.\n"
     ]
    },
    {
     "name": "stdout",
     "output_type": "stream",
     "text": [
      "Similarity column 38121 (100.0%), 4838.42 column/sec. Elapsed time 7.88 sec\n",
      "EvaluatorHoldout: Processed 35569 (100.0%) in 10.46 sec. Users per second: 3400\n",
      "Similarity column 38121 (100.0%), 4766.97 column/sec. Elapsed time 8.00 sec\n",
      "EvaluatorHoldout: Processed 35581 (100.0%) in 10.60 sec. Users per second: 3357\n",
      "Similarity column 38121 (100.0%), 4821.25 column/sec. Elapsed time 7.91 sec\n",
      "EvaluatorHoldout: Processed 35569 (100.0%) in 10.57 sec. Users per second: 3366\n",
      "Similarity column 38121 (100.0%), 4957.85 column/sec. Elapsed time 7.69 sec\n",
      "EvaluatorHoldout: Processed 35573 (100.0%) in 9.94 sec. Users per second: 3578\n",
      "Similarity column 38121 (100.0%), 5010.46 column/sec. Elapsed time 7.61 sec\n",
      "EvaluatorHoldout: Processed 35567 (100.0%) in 9.95 sec. Users per second: 3574\n",
      "Similarity column 38121 (100.0%), 4878.87 column/sec. Elapsed time 7.81 sec\n",
      "EvaluatorHoldout: Processed 35582 (100.0%) in 10.55 sec. Users per second: 3373\n",
      "Similarity column 38121 (100.0%), 4897.98 column/sec. Elapsed time 7.78 sec\n",
      "EvaluatorHoldout: Processed 35567 (100.0%) in 11.00 sec. Users per second: 3233\n",
      "Similarity column 38121 (100.0%), 4817.48 column/sec. Elapsed time 7.91 sec\n",
      "EvaluatorHoldout: Processed 35578 (100.0%) in 10.17 sec. Users per second: 3497\n",
      "Similarity column 38121 (100.0%), 4975.31 column/sec. Elapsed time 7.66 sec\n",
      "EvaluatorHoldout: Processed 35563 (100.0%) in 10.47 sec. Users per second: 3398\n",
      "Similarity column 38121 (100.0%), 4966.99 column/sec. Elapsed time 7.67 sec\n",
      "EvaluatorHoldout: Processed 35560 (100.0%) in 10.52 sec. Users per second: 3380\n"
     ]
    },
    {
     "name": "stderr",
     "output_type": "stream",
     "text": [
      "[I 2024-11-28 15:53:20,068] Trial 5 finished with value: 0.053721478526970026 and parameters: {'similarity': 'asymmetric', 'topK': 8, 'shrink': 9, 'asymmetric_alpha': 0.09764920359114282}. Best is trial 5 with value: 0.053721478526970026.\n"
     ]
    },
    {
     "name": "stdout",
     "output_type": "stream",
     "text": [
      "Similarity column 38121 (100.0%), 5004.81 column/sec. Elapsed time 7.62 sec\n",
      "EvaluatorHoldout: Processed 35569 (100.0%) in 10.57 sec. Users per second: 3365\n",
      "Similarity column 38121 (100.0%), 4972.70 column/sec. Elapsed time 7.67 sec\n",
      "EvaluatorHoldout: Processed 35581 (100.0%) in 10.51 sec. Users per second: 3384\n",
      "Similarity column 38121 (100.0%), 5019.28 column/sec. Elapsed time 7.59 sec\n",
      "EvaluatorHoldout: Processed 35569 (100.0%) in 10.60 sec. Users per second: 3356\n",
      "Similarity column 38121 (100.0%), 4999.09 column/sec. Elapsed time 7.63 sec\n",
      "EvaluatorHoldout: Processed 35573 (100.0%) in 10.54 sec. Users per second: 3374\n",
      "Similarity column 38121 (100.0%), 4963.10 column/sec. Elapsed time 7.68 sec\n",
      "EvaluatorHoldout: Processed 35567 (100.0%) in 10.54 sec. Users per second: 3375\n",
      "Similarity column 38121 (100.0%), 5017.63 column/sec. Elapsed time 7.60 sec\n",
      "EvaluatorHoldout: Processed 35582 (100.0%) in 10.49 sec. Users per second: 3391\n",
      "Similarity column 38121 (100.0%), 4972.68 column/sec. Elapsed time 7.67 sec\n",
      "EvaluatorHoldout: Processed 35567 (100.0%) in 10.50 sec. Users per second: 3386\n",
      "Similarity column 38121 (100.0%), 4951.14 column/sec. Elapsed time 7.70 sec\n",
      "EvaluatorHoldout: Processed 35578 (100.0%) in 9.95 sec. Users per second: 3575\n",
      "Similarity column 38121 (100.0%), 4974.12 column/sec. Elapsed time 7.66 sec\n",
      "EvaluatorHoldout: Processed 35563 (100.0%) in 10.15 sec. Users per second: 3505\n",
      "Similarity column 38121 (100.0%), 5003.80 column/sec. Elapsed time 7.62 sec\n",
      "EvaluatorHoldout: Processed 35560 (100.0%) in 10.69 sec. Users per second: 3328\n"
     ]
    },
    {
     "name": "stderr",
     "output_type": "stream",
     "text": [
      "[I 2024-11-28 15:56:21,486] Trial 6 finished with value: 0.05244911207082363 and parameters: {'similarity': 'asymmetric', 'topK': 9, 'shrink': 3, 'asymmetric_alpha': 0.033231014302036614}. Best is trial 5 with value: 0.053721478526970026.\n"
     ]
    },
    {
     "name": "stdout",
     "output_type": "stream",
     "text": [
      "Similarity column 38121 (100.0%), 5168.12 column/sec. Elapsed time 7.38 sec\n",
      "EvaluatorHoldout: Processed 35569 (100.0%) in 11.07 sec. Users per second: 3214\n",
      "Similarity column 38121 (100.0%), 5143.37 column/sec. Elapsed time 7.41 sec\n",
      "EvaluatorHoldout: Processed 35581 (100.0%) in 11.05 sec. Users per second: 3221\n",
      "Similarity column 38121 (100.0%), 5151.34 column/sec. Elapsed time 7.40 sec\n",
      "EvaluatorHoldout: Processed 35569 (100.0%) in 11.26 sec. Users per second: 3158\n",
      "Similarity column 38121 (100.0%), 5166.84 column/sec. Elapsed time 7.38 sec\n",
      "EvaluatorHoldout: Processed 35573 (100.0%) in 11.11 sec. Users per second: 3202\n",
      "Similarity column 38121 (100.0%), 5167.34 column/sec. Elapsed time 7.38 sec\n",
      "EvaluatorHoldout: Processed 35567 (100.0%) in 11.00 sec. Users per second: 3235\n",
      "Similarity column 38121 (100.0%), 5182.47 column/sec. Elapsed time 7.36 sec\n",
      "EvaluatorHoldout: Processed 35582 (100.0%) in 11.06 sec. Users per second: 3218\n",
      "Similarity column 38121 (100.0%), 5173.09 column/sec. Elapsed time 7.37 sec\n",
      "EvaluatorHoldout: Processed 35567 (100.0%) in 11.12 sec. Users per second: 3198\n",
      "Similarity column 38121 (100.0%), 5149.74 column/sec. Elapsed time 7.40 sec\n",
      "EvaluatorHoldout: Processed 35578 (100.0%) in 11.07 sec. Users per second: 3213\n",
      "Similarity column 38121 (100.0%), 5129.49 column/sec. Elapsed time 7.43 sec\n",
      "EvaluatorHoldout: Processed 35563 (100.0%) in 11.05 sec. Users per second: 3218\n",
      "Similarity column 38121 (100.0%), 5178.22 column/sec. Elapsed time 7.36 sec\n",
      "EvaluatorHoldout: Processed 35560 (100.0%) in 11.12 sec. Users per second: 3199\n"
     ]
    },
    {
     "name": "stderr",
     "output_type": "stream",
     "text": [
      "[I 2024-11-28 15:59:26,710] Trial 7 finished with value: 0.04936124520779749 and parameters: {'similarity': 'cosine', 'topK': 14, 'shrink': 16}. Best is trial 5 with value: 0.053721478526970026.\n"
     ]
    },
    {
     "name": "stdout",
     "output_type": "stream",
     "text": [
      "Similarity column 38121 (100.0%), 5161.30 column/sec. Elapsed time 7.39 sec\n",
      "EvaluatorHoldout: Processed 35569 (100.0%) in 10.86 sec. Users per second: 3275\n",
      "Similarity column 38121 (100.0%), 5134.33 column/sec. Elapsed time 7.42 sec\n",
      "EvaluatorHoldout: Processed 35581 (100.0%) in 10.83 sec. Users per second: 3286\n",
      "Similarity column 38121 (100.0%), 5136.22 column/sec. Elapsed time 7.42 sec\n",
      "EvaluatorHoldout: Processed 35569 (100.0%) in 10.84 sec. Users per second: 3282\n",
      "Similarity column 38121 (100.0%), 5115.03 column/sec. Elapsed time 7.45 sec\n",
      "EvaluatorHoldout: Processed 35573 (100.0%) in 10.86 sec. Users per second: 3276\n",
      "Similarity column 38121 (100.0%), 5140.98 column/sec. Elapsed time 7.42 sec\n",
      "EvaluatorHoldout: Processed 35567 (100.0%) in 10.88 sec. Users per second: 3268\n",
      "Similarity column 38121 (100.0%), 5152.22 column/sec. Elapsed time 7.40 sec\n",
      "EvaluatorHoldout: Processed 35582 (100.0%) in 10.90 sec. Users per second: 3265\n",
      "Similarity column 38121 (100.0%), 5145.53 column/sec. Elapsed time 7.41 sec\n",
      "EvaluatorHoldout: Processed 35567 (100.0%) in 10.89 sec. Users per second: 3265\n",
      "Similarity column 38121 (100.0%), 5156.71 column/sec. Elapsed time 7.39 sec\n",
      "EvaluatorHoldout: Processed 35578 (100.0%) in 10.93 sec. Users per second: 3255\n",
      "Similarity column 38121 (100.0%), 5131.71 column/sec. Elapsed time 7.43 sec\n",
      "EvaluatorHoldout: Processed 35563 (100.0%) in 10.83 sec. Users per second: 3285\n",
      "Similarity column 38121 (100.0%), 5181.52 column/sec. Elapsed time 7.36 sec\n",
      "EvaluatorHoldout: Processed 35560 (100.0%) in 10.86 sec. Users per second: 3275\n"
     ]
    },
    {
     "name": "stderr",
     "output_type": "stream",
     "text": [
      "[I 2024-11-28 16:02:30,790] Trial 8 finished with value: 0.050354199382516084 and parameters: {'similarity': 'jaccard', 'topK': 12, 'shrink': 15}. Best is trial 5 with value: 0.053721478526970026.\n"
     ]
    },
    {
     "name": "stdout",
     "output_type": "stream",
     "text": [
      "Similarity column 38121 (100.0%), 5013.15 column/sec. Elapsed time 7.60 sec\n",
      "EvaluatorHoldout: Processed 35569 (100.0%) in 10.43 sec. Users per second: 3412\n",
      "Similarity column 38121 (100.0%), 4974.73 column/sec. Elapsed time 7.66 sec\n",
      "EvaluatorHoldout: Processed 35581 (100.0%) in 10.42 sec. Users per second: 3415\n",
      "Similarity column 38121 (100.0%), 5019.55 column/sec. Elapsed time 7.59 sec\n",
      "EvaluatorHoldout: Processed 35569 (100.0%) in 10.46 sec. Users per second: 3402\n",
      "Similarity column 38121 (100.0%), 5016.79 column/sec. Elapsed time 7.60 sec\n",
      "EvaluatorHoldout: Processed 35573 (100.0%) in 10.41 sec. Users per second: 3418\n",
      "Similarity column 38121 (100.0%), 5009.29 column/sec. Elapsed time 7.61 sec\n",
      "EvaluatorHoldout: Processed 35567 (100.0%) in 10.46 sec. Users per second: 3401\n",
      "Similarity column 38121 (100.0%), 5014.19 column/sec. Elapsed time 7.60 sec\n",
      "EvaluatorHoldout: Processed 35582 (100.0%) in 10.37 sec. Users per second: 3432\n",
      "Similarity column 38121 (100.0%), 5006.75 column/sec. Elapsed time 7.61 sec\n",
      "EvaluatorHoldout: Processed 35567 (100.0%) in 10.45 sec. Users per second: 3403\n",
      "Similarity column 38121 (100.0%), 5011.45 column/sec. Elapsed time 7.61 sec\n",
      "EvaluatorHoldout: Processed 35578 (100.0%) in 10.37 sec. Users per second: 3432\n",
      "Similarity column 38121 (100.0%), 4964.98 column/sec. Elapsed time 7.68 sec\n",
      "EvaluatorHoldout: Processed 35563 (100.0%) in 10.42 sec. Users per second: 3412\n",
      "Similarity column 38121 (100.0%), 5016.64 column/sec. Elapsed time 7.60 sec\n",
      "EvaluatorHoldout: Processed 35560 (100.0%) in 10.46 sec. Users per second: 3400\n"
     ]
    },
    {
     "name": "stderr",
     "output_type": "stream",
     "text": [
      "[I 2024-11-28 16:05:31,623] Trial 9 finished with value: 0.053711385031778545 and parameters: {'similarity': 'asymmetric', 'topK': 5, 'shrink': 3, 'asymmetric_alpha': 0.06815409995379614}. Best is trial 5 with value: 0.053721478526970026.\n"
     ]
    },
    {
     "name": "stdout",
     "output_type": "stream",
     "text": [
      "Similarity column 38121 (100.0%), 5300.15 column/sec. Elapsed time 7.19 sec\n",
      "EvaluatorHoldout: Processed 35569 (100.0%) in 11.03 sec. Users per second: 3225\n",
      "Similarity column 38121 (100.0%), 5252.58 column/sec. Elapsed time 7.26 sec\n",
      "EvaluatorHoldout: Processed 35581 (100.0%) in 11.00 sec. Users per second: 3234\n",
      "Similarity column 38121 (100.0%), 5303.52 column/sec. Elapsed time 7.19 sec\n",
      "EvaluatorHoldout: Processed 35569 (100.0%) in 11.05 sec. Users per second: 3220\n",
      "Similarity column 38121 (100.0%), 5252.61 column/sec. Elapsed time 7.26 sec\n",
      "EvaluatorHoldout: Processed 35573 (100.0%) in 11.10 sec. Users per second: 3204\n",
      "Similarity column 38121 (100.0%), 5277.36 column/sec. Elapsed time 7.22 sec\n",
      "EvaluatorHoldout: Processed 35567 (100.0%) in 11.05 sec. Users per second: 3218\n",
      "Similarity column 38121 (100.0%), 5306.78 column/sec. Elapsed time 7.18 sec\n",
      "EvaluatorHoldout: Processed 35582 (100.0%) in 11.03 sec. Users per second: 3226\n",
      "Similarity column 38121 (100.0%), 5283.77 column/sec. Elapsed time 7.21 sec\n",
      "EvaluatorHoldout: Processed 35567 (100.0%) in 11.02 sec. Users per second: 3226\n",
      "Similarity column 38121 (100.0%), 5291.63 column/sec. Elapsed time 7.20 sec\n",
      "EvaluatorHoldout: Processed 35578 (100.0%) in 11.14 sec. Users per second: 3195\n",
      "Similarity column 38121 (100.0%), 5293.48 column/sec. Elapsed time 7.20 sec\n",
      "EvaluatorHoldout: Processed 35563 (100.0%) in 11.08 sec. Users per second: 3211\n",
      "Similarity column 38121 (100.0%), 5301.76 column/sec. Elapsed time 7.19 sec\n",
      "EvaluatorHoldout: Processed 35560 (100.0%) in 11.05 sec. Users per second: 3217\n"
     ]
    },
    {
     "name": "stderr",
     "output_type": "stream",
     "text": [
      "[I 2024-11-28 16:08:35,630] Trial 10 finished with value: 0.04896185875217192 and parameters: {'similarity': 'dice', 'topK': 17, 'shrink': 10}. Best is trial 5 with value: 0.053721478526970026.\n"
     ]
    },
    {
     "name": "stdout",
     "output_type": "stream",
     "text": [
      "Similarity column 38121 (100.0%), 4969.15 column/sec. Elapsed time 7.67 sec\n",
      "EvaluatorHoldout: Processed 35569 (100.0%) in 10.31 sec. Users per second: 3450\n",
      "Similarity column 38121 (100.0%), 5009.44 column/sec. Elapsed time 7.61 sec\n",
      "EvaluatorHoldout: Processed 35581 (100.0%) in 10.44 sec. Users per second: 3407\n",
      "Similarity column 38121 (100.0%), 4959.70 column/sec. Elapsed time 7.69 sec\n",
      "EvaluatorHoldout: Processed 35569 (100.0%) in 10.40 sec. Users per second: 3421\n",
      "Similarity column 38121 (100.0%), 4991.97 column/sec. Elapsed time 7.64 sec\n",
      "EvaluatorHoldout: Processed 35573 (100.0%) in 10.43 sec. Users per second: 3411\n",
      "Similarity column 38121 (100.0%), 4976.04 column/sec. Elapsed time 7.66 sec\n",
      "EvaluatorHoldout: Processed 35567 (100.0%) in 10.45 sec. Users per second: 3402\n",
      "Similarity column 38121 (100.0%), 4938.35 column/sec. Elapsed time 7.72 sec\n",
      "EvaluatorHoldout: Processed 35582 (100.0%) in 10.08 sec. Users per second: 3530\n",
      "Similarity column 38121 (100.0%), 4900.50 column/sec. Elapsed time 7.78 sec\n",
      "EvaluatorHoldout: Processed 35567 (100.0%) in 10.43 sec. Users per second: 3410\n",
      "Similarity column 38121 (100.0%), 4877.19 column/sec. Elapsed time 7.82 sec\n",
      "EvaluatorHoldout: Processed 35578 (100.0%) in 10.39 sec. Users per second: 3425\n",
      "Similarity column 38121 (100.0%), 4941.67 column/sec. Elapsed time 7.71 sec\n",
      "EvaluatorHoldout: Processed 35563 (100.0%) in 10.54 sec. Users per second: 3375\n",
      "Similarity column 38121 (100.0%), 5007.62 column/sec. Elapsed time 7.61 sec\n",
      "EvaluatorHoldout: Processed 35560 (100.0%) in 10.41 sec. Users per second: 3415\n"
     ]
    },
    {
     "name": "stderr",
     "output_type": "stream",
     "text": [
      "[I 2024-11-28 16:11:36,850] Trial 11 finished with value: 0.054667788015379304 and parameters: {'similarity': 'asymmetric', 'topK': 5, 'shrink': 7, 'asymmetric_alpha': 0.11233762540787884}. Best is trial 11 with value: 0.054667788015379304.\n"
     ]
    },
    {
     "name": "stdout",
     "output_type": "stream",
     "text": [
      "Similarity column 38121 (100.0%), 4947.42 column/sec. Elapsed time 7.71 sec\n",
      "EvaluatorHoldout: Processed 35569 (100.0%) in 10.59 sec. Users per second: 3359\n",
      "Similarity column 38121 (100.0%), 4857.33 column/sec. Elapsed time 7.85 sec\n",
      "EvaluatorHoldout: Processed 35581 (100.0%) in 10.28 sec. Users per second: 3463\n",
      "Similarity column 38121 (100.0%), 4835.84 column/sec. Elapsed time 7.88 sec\n",
      "EvaluatorHoldout: Processed 35569 (100.0%) in 10.49 sec. Users per second: 3389\n",
      "Similarity column 38121 (100.0%), 5004.79 column/sec. Elapsed time 7.62 sec\n",
      "EvaluatorHoldout: Processed 35573 (100.0%) in 10.50 sec. Users per second: 3388\n",
      "Similarity column 38121 (100.0%), 4974.99 column/sec. Elapsed time 7.66 sec\n",
      "EvaluatorHoldout: Processed 35567 (100.0%) in 10.14 sec. Users per second: 3507\n",
      "Similarity column 38121 (100.0%), 4844.11 column/sec. Elapsed time 7.87 sec\n",
      "EvaluatorHoldout: Processed 35582 (100.0%) in 10.42 sec. Users per second: 3415\n",
      "Similarity column 38121 (100.0%), 5005.23 column/sec. Elapsed time 7.62 sec\n",
      "EvaluatorHoldout: Processed 35567 (100.0%) in 10.45 sec. Users per second: 3405\n",
      "Similarity column 38121 (100.0%), 5008.01 column/sec. Elapsed time 7.61 sec\n",
      "EvaluatorHoldout: Processed 35578 (100.0%) in 10.52 sec. Users per second: 3381\n",
      "Similarity column 38121 (100.0%), 5004.87 column/sec. Elapsed time 7.62 sec\n",
      "EvaluatorHoldout: Processed 35563 (100.0%) in 10.44 sec. Users per second: 3408\n",
      "Similarity column 38121 (100.0%), 4971.78 column/sec. Elapsed time 7.67 sec\n",
      "EvaluatorHoldout: Processed 35560 (100.0%) in 10.41 sec. Users per second: 3416\n"
     ]
    },
    {
     "name": "stderr",
     "output_type": "stream",
     "text": [
      "[I 2024-11-28 16:14:38,615] Trial 12 finished with value: 0.054721583491509726 and parameters: {'similarity': 'asymmetric', 'topK': 5, 'shrink': 9, 'asymmetric_alpha': 0.13783014063190935}. Best is trial 12 with value: 0.054721583491509726.\n"
     ]
    },
    {
     "name": "stdout",
     "output_type": "stream",
     "text": [
      "Similarity column 38121 (100.0%), 5008.30 column/sec. Elapsed time 7.61 sec\n",
      "EvaluatorHoldout: Processed 35569 (100.0%) in 10.42 sec. Users per second: 3414\n",
      "Similarity column 38121 (100.0%), 4954.32 column/sec. Elapsed time 7.69 sec\n",
      "EvaluatorHoldout: Processed 35581 (100.0%) in 10.39 sec. Users per second: 3424\n",
      "Similarity column 38121 (100.0%), 5012.55 column/sec. Elapsed time 7.61 sec\n",
      "EvaluatorHoldout: Processed 35569 (100.0%) in 10.51 sec. Users per second: 3386\n",
      "Similarity column 38121 (100.0%), 5011.77 column/sec. Elapsed time 7.61 sec\n",
      "EvaluatorHoldout: Processed 35573 (100.0%) in 10.44 sec. Users per second: 3407\n",
      "Similarity column 38121 (100.0%), 5014.56 column/sec. Elapsed time 7.60 sec\n",
      "EvaluatorHoldout: Processed 35567 (100.0%) in 10.50 sec. Users per second: 3386\n",
      "Similarity column 38121 (100.0%), 4982.99 column/sec. Elapsed time 7.65 sec\n",
      "EvaluatorHoldout: Processed 35582 (100.0%) in 10.46 sec. Users per second: 3401\n",
      "Similarity column 38121 (100.0%), 5010.87 column/sec. Elapsed time 7.61 sec\n",
      "EvaluatorHoldout: Processed 35567 (100.0%) in 10.42 sec. Users per second: 3413\n",
      "Similarity column 38121 (100.0%), 4969.91 column/sec. Elapsed time 7.67 sec\n",
      "EvaluatorHoldout: Processed 35578 (100.0%) in 10.41 sec. Users per second: 3418\n",
      "Similarity column 38121 (100.0%), 5012.86 column/sec. Elapsed time 7.60 sec\n",
      "EvaluatorHoldout: Processed 35563 (100.0%) in 10.49 sec. Users per second: 3391\n",
      "Similarity column 38121 (100.0%), 5022.35 column/sec. Elapsed time 7.59 sec\n",
      "EvaluatorHoldout: Processed 35560 (100.0%) in 10.45 sec. Users per second: 3404\n"
     ]
    },
    {
     "name": "stderr",
     "output_type": "stream",
     "text": [
      "[I 2024-11-28 16:17:39,803] Trial 13 finished with value: 0.05470473909357585 and parameters: {'similarity': 'asymmetric', 'topK': 5, 'shrink': 9, 'asymmetric_alpha': 0.14899957402254185}. Best is trial 12 with value: 0.054721583491509726.\n"
     ]
    },
    {
     "name": "stdout",
     "output_type": "stream",
     "text": [
      "Similarity column 38121 (100.0%), 5305.88 column/sec. Elapsed time 7.18 sec\n",
      "EvaluatorHoldout: Processed 35569 (100.0%) in 10.62 sec. Users per second: 3350\n",
      "Similarity column 38121 (100.0%), 5285.52 column/sec. Elapsed time 7.21 sec\n",
      "EvaluatorHoldout: Processed 35581 (100.0%) in 10.61 sec. Users per second: 3355\n",
      "Similarity column 38121 (100.0%), 5262.30 column/sec. Elapsed time 7.24 sec\n",
      "EvaluatorHoldout: Processed 35569 (100.0%) in 10.59 sec. Users per second: 3358\n",
      "Similarity column 38121 (100.0%), 5295.22 column/sec. Elapsed time 7.20 sec\n",
      "EvaluatorHoldout: Processed 35573 (100.0%) in 10.57 sec. Users per second: 3365\n",
      "Similarity column 38121 (100.0%), 5256.73 column/sec. Elapsed time 7.25 sec\n",
      "EvaluatorHoldout: Processed 35567 (100.0%) in 10.61 sec. Users per second: 3352\n",
      "Similarity column 38121 (100.0%), 5315.66 column/sec. Elapsed time 7.17 sec\n",
      "EvaluatorHoldout: Processed 35582 (100.0%) in 10.67 sec. Users per second: 3335\n",
      "Similarity column 38121 (100.0%), 5293.57 column/sec. Elapsed time 7.20 sec\n",
      "EvaluatorHoldout: Processed 35567 (100.0%) in 10.60 sec. Users per second: 3354\n",
      "Similarity column 38121 (100.0%), 5288.75 column/sec. Elapsed time 7.21 sec\n",
      "EvaluatorHoldout: Processed 35578 (100.0%) in 10.71 sec. Users per second: 3321\n",
      "Similarity column 38121 (100.0%), 5288.91 column/sec. Elapsed time 7.21 sec\n",
      "EvaluatorHoldout: Processed 35563 (100.0%) in 10.56 sec. Users per second: 3368\n",
      "Similarity column 38121 (100.0%), 5330.39 column/sec. Elapsed time 7.15 sec\n",
      "EvaluatorHoldout: Processed 35560 (100.0%) in 10.64 sec. Users per second: 3341\n"
     ]
    },
    {
     "name": "stderr",
     "output_type": "stream",
     "text": [
      "[I 2024-11-28 16:20:39,335] Trial 14 finished with value: 0.05123244966632061 and parameters: {'similarity': 'dice', 'topK': 7, 'shrink': 12}. Best is trial 12 with value: 0.054721583491509726.\n"
     ]
    },
    {
     "name": "stdout",
     "output_type": "stream",
     "text": [
      "Similarity column 38121 (100.0%), 5161.67 column/sec. Elapsed time 7.39 sec\n",
      "EvaluatorHoldout: Processed 35569 (100.0%) in 10.79 sec. Users per second: 3295\n",
      "Similarity column 38121 (100.0%), 5164.04 column/sec. Elapsed time 7.38 sec\n",
      "EvaluatorHoldout: Processed 35581 (100.0%) in 10.73 sec. Users per second: 3315\n",
      "Similarity column 38121 (100.0%), 5134.63 column/sec. Elapsed time 7.42 sec\n",
      "EvaluatorHoldout: Processed 35569 (100.0%) in 10.73 sec. Users per second: 3315\n",
      "Similarity column 38121 (100.0%), 5162.27 column/sec. Elapsed time 7.38 sec\n",
      "EvaluatorHoldout: Processed 35573 (100.0%) in 10.69 sec. Users per second: 3327\n",
      "Similarity column 38121 (100.0%), 5119.89 column/sec. Elapsed time 7.45 sec\n",
      "EvaluatorHoldout: Processed 35567 (100.0%) in 10.68 sec. Users per second: 3330\n",
      "Similarity column 38121 (100.0%), 5172.20 column/sec. Elapsed time 7.37 sec\n",
      "EvaluatorHoldout: Processed 35582 (100.0%) in 10.72 sec. Users per second: 3318\n",
      "Similarity column 38121 (100.0%), 5169.85 column/sec. Elapsed time 7.37 sec\n",
      "EvaluatorHoldout: Processed 35567 (100.0%) in 10.75 sec. Users per second: 3308\n",
      "Similarity column 38121 (100.0%), 5149.18 column/sec. Elapsed time 7.40 sec\n",
      "EvaluatorHoldout: Processed 35578 (100.0%) in 10.76 sec. Users per second: 3307\n",
      "Similarity column 38121 (100.0%), 5090.25 column/sec. Elapsed time 7.49 sec\n",
      "EvaluatorHoldout: Processed 35563 (100.0%) in 10.39 sec. Users per second: 3422\n",
      "Similarity column 38121 (100.0%), 5068.81 column/sec. Elapsed time 7.52 sec\n",
      "EvaluatorHoldout: Processed 35560 (100.0%) in 10.78 sec. Users per second: 3299\n"
     ]
    },
    {
     "name": "stderr",
     "output_type": "stream",
     "text": [
      "[I 2024-11-28 16:23:41,071] Trial 15 finished with value: 0.05015399926848054 and parameters: {'similarity': 'cosine', 'topK': 10, 'shrink': 5}. Best is trial 12 with value: 0.054721583491509726.\n"
     ]
    },
    {
     "name": "stdout",
     "output_type": "stream",
     "text": [
      "Similarity column 38121 (100.0%), 4897.48 column/sec. Elapsed time 7.78 sec\n",
      "EvaluatorHoldout: Processed 35569 (100.0%) in 10.07 sec. Users per second: 3531\n",
      "Similarity column 38121 (100.0%), 4860.48 column/sec. Elapsed time 7.84 sec\n",
      "EvaluatorHoldout: Processed 35581 (100.0%) in 10.02 sec. Users per second: 3550\n",
      "Similarity column 38121 (100.0%), 4953.05 column/sec. Elapsed time 7.70 sec\n",
      "EvaluatorHoldout: Processed 35569 (100.0%) in 10.43 sec. Users per second: 3410\n",
      "Similarity column 38121 (100.0%), 5008.92 column/sec. Elapsed time 7.61 sec\n",
      "EvaluatorHoldout: Processed 35573 (100.0%) in 10.42 sec. Users per second: 3415\n",
      "Similarity column 38121 (100.0%), 5016.11 column/sec. Elapsed time 7.60 sec\n",
      "EvaluatorHoldout: Processed 35567 (100.0%) in 10.46 sec. Users per second: 3401\n",
      "Similarity column 38121 (100.0%), 5019.25 column/sec. Elapsed time 7.59 sec\n",
      "EvaluatorHoldout: Processed 35582 (100.0%) in 10.42 sec. Users per second: 3413\n",
      "Similarity column 38121 (100.0%), 4960.68 column/sec. Elapsed time 7.68 sec\n",
      "EvaluatorHoldout: Processed 35567 (100.0%) in 10.43 sec. Users per second: 3411\n",
      "Similarity column 38121 (100.0%), 5008.34 column/sec. Elapsed time 7.61 sec\n",
      "EvaluatorHoldout: Processed 35578 (100.0%) in 10.48 sec. Users per second: 3394\n",
      "Similarity column 38121 (100.0%), 5009.08 column/sec. Elapsed time 7.61 sec\n",
      "EvaluatorHoldout: Processed 35563 (100.0%) in 10.39 sec. Users per second: 3424\n",
      "Similarity column 38121 (100.0%), 5020.47 column/sec. Elapsed time 7.59 sec\n",
      "EvaluatorHoldout: Processed 35560 (100.0%) in 10.49 sec. Users per second: 3390\n"
     ]
    },
    {
     "name": "stderr",
     "output_type": "stream",
     "text": [
      "[I 2024-11-28 16:26:41,831] Trial 16 finished with value: 0.053317463090378124 and parameters: {'similarity': 'asymmetric', 'topK': 5, 'shrink': 0, 'asymmetric_alpha': 0.1480045552034469}. Best is trial 12 with value: 0.054721583491509726.\n"
     ]
    },
    {
     "name": "stdout",
     "output_type": "stream",
     "text": [
      "Similarity column 38121 (100.0%), 5011.13 column/sec. Elapsed time 7.61 sec\n",
      "EvaluatorHoldout: Processed 35569 (100.0%) in 10.80 sec. Users per second: 3293\n",
      "Similarity column 38121 (100.0%), 4960.56 column/sec. Elapsed time 7.68 sec\n",
      "EvaluatorHoldout: Processed 35581 (100.0%) in 10.78 sec. Users per second: 3299\n",
      "Similarity column 38121 (100.0%), 5007.38 column/sec. Elapsed time 7.61 sec\n",
      "EvaluatorHoldout: Processed 35569 (100.0%) in 10.89 sec. Users per second: 3266\n",
      "Similarity column 38121 (100.0%), 5000.73 column/sec. Elapsed time 7.62 sec\n",
      "EvaluatorHoldout: Processed 35573 (100.0%) in 10.80 sec. Users per second: 3292\n",
      "Similarity column 38121 (100.0%), 5004.43 column/sec. Elapsed time 7.62 sec\n",
      "EvaluatorHoldout: Processed 35567 (100.0%) in 10.85 sec. Users per second: 3279\n",
      "Similarity column 38121 (100.0%), 5014.84 column/sec. Elapsed time 7.60 sec\n",
      "EvaluatorHoldout: Processed 35582 (100.0%) in 10.81 sec. Users per second: 3290\n",
      "Similarity column 38121 (100.0%), 5002.35 column/sec. Elapsed time 7.62 sec\n",
      "EvaluatorHoldout: Processed 35567 (100.0%) in 10.85 sec. Users per second: 3279\n",
      "Similarity column 38121 (100.0%), 5002.11 column/sec. Elapsed time 7.62 sec\n",
      "EvaluatorHoldout: Processed 35578 (100.0%) in 10.79 sec. Users per second: 3296\n",
      "Similarity column 38121 (100.0%), 5009.58 column/sec. Elapsed time 7.61 sec\n",
      "EvaluatorHoldout: Processed 35563 (100.0%) in 11.01 sec. Users per second: 3231\n",
      "Similarity column 38121 (100.0%), 4876.33 column/sec. Elapsed time 7.82 sec\n",
      "EvaluatorHoldout: Processed 35560 (100.0%) in 11.33 sec. Users per second: 3138\n"
     ]
    },
    {
     "name": "stderr",
     "output_type": "stream",
     "text": [
      "[I 2024-11-28 16:29:47,681] Trial 17 finished with value: 0.051947449736567106 and parameters: {'similarity': 'asymmetric', 'topK': 15, 'shrink': 12, 'asymmetric_alpha': 0.1425435106872523}. Best is trial 12 with value: 0.054721583491509726.\n"
     ]
    },
    {
     "name": "stdout",
     "output_type": "stream",
     "text": [
      "Similarity column 38121 (100.0%), 4837.71 column/sec. Elapsed time 7.88 sec\n",
      "EvaluatorHoldout: Processed 35569 (100.0%) in 10.88 sec. Users per second: 3268\n",
      "Similarity column 38121 (100.0%), 5006.21 column/sec. Elapsed time 7.61 sec\n",
      "EvaluatorHoldout: Processed 35581 (100.0%) in 10.64 sec. Users per second: 3344\n",
      "Similarity column 38121 (100.0%), 5016.26 column/sec. Elapsed time 7.60 sec\n",
      "EvaluatorHoldout: Processed 35569 (100.0%) in 10.54 sec. Users per second: 3376\n",
      "Similarity column 38121 (100.0%), 4973.63 column/sec. Elapsed time 7.66 sec\n",
      "EvaluatorHoldout: Processed 35573 (100.0%) in 10.52 sec. Users per second: 3381\n",
      "Similarity column 38121 (100.0%), 5014.86 column/sec. Elapsed time 7.60 sec\n",
      "EvaluatorHoldout: Processed 35567 (100.0%) in 10.54 sec. Users per second: 3375\n",
      "Similarity column 38121 (100.0%), 4986.37 column/sec. Elapsed time 7.65 sec\n",
      "EvaluatorHoldout: Processed 35582 (100.0%) in 10.55 sec. Users per second: 3374\n",
      "Similarity column 38121 (100.0%), 5000.20 column/sec. Elapsed time 7.62 sec\n",
      "EvaluatorHoldout: Processed 35567 (100.0%) in 10.52 sec. Users per second: 3381\n",
      "Similarity column 38121 (100.0%), 4965.21 column/sec. Elapsed time 7.68 sec\n",
      "EvaluatorHoldout: Processed 35578 (100.0%) in 10.57 sec. Users per second: 3365\n",
      "Similarity column 38121 (100.0%), 4747.82 column/sec. Elapsed time 8.03 sec\n",
      "EvaluatorHoldout: Processed 35563 (100.0%) in 10.36 sec. Users per second: 3433\n",
      "Similarity column 38121 (100.0%), 4700.25 column/sec. Elapsed time 8.11 sec\n",
      "EvaluatorHoldout: Processed 35560 (100.0%) in 10.59 sec. Users per second: 3357\n"
     ]
    },
    {
     "name": "stderr",
     "output_type": "stream",
     "text": [
      "[I 2024-11-28 16:32:51,290] Trial 18 finished with value: 0.05374691274701807 and parameters: {'similarity': 'asymmetric', 'topK': 7, 'shrink': 20, 'asymmetric_alpha': 0.12959462729278437}. Best is trial 12 with value: 0.054721583491509726.\n"
     ]
    },
    {
     "name": "stdout",
     "output_type": "stream",
     "text": [
      "Similarity column 38121 (100.0%), 4970.16 column/sec. Elapsed time 7.67 sec\n",
      "EvaluatorHoldout: Processed 35569 (100.0%) in 10.71 sec. Users per second: 3322\n",
      "Similarity column 38121 (100.0%), 4972.74 column/sec. Elapsed time 7.67 sec\n",
      "EvaluatorHoldout: Processed 35581 (100.0%) in 10.72 sec. Users per second: 3320\n",
      "Similarity column 38121 (100.0%), 4953.95 column/sec. Elapsed time 7.70 sec\n",
      "EvaluatorHoldout: Processed 35569 (100.0%) in 10.70 sec. Users per second: 3324\n",
      "Similarity column 38121 (100.0%), 4969.70 column/sec. Elapsed time 7.67 sec\n",
      "EvaluatorHoldout: Processed 35573 (100.0%) in 10.60 sec. Users per second: 3355\n",
      "Similarity column 38121 (100.0%), 5057.54 column/sec. Elapsed time 7.54 sec\n",
      "EvaluatorHoldout: Processed 35567 (100.0%) in 10.39 sec. Users per second: 3424\n",
      "Similarity column 38121 (100.0%), 5077.31 column/sec. Elapsed time 7.51 sec\n",
      "EvaluatorHoldout: Processed 35582 (100.0%) in 10.81 sec. Users per second: 3293\n",
      "Similarity column 38121 (100.0%), 5064.07 column/sec. Elapsed time 7.53 sec\n",
      "EvaluatorHoldout: Processed 35567 (100.0%) in 10.51 sec. Users per second: 3384\n",
      "Similarity column 38121 (100.0%), 5084.09 column/sec. Elapsed time 7.50 sec\n",
      "EvaluatorHoldout: Processed 35578 (100.0%) in 10.09 sec. Users per second: 3525\n",
      "Similarity column 38121 (100.0%), 5168.82 column/sec. Elapsed time 7.38 sec\n",
      "EvaluatorHoldout: Processed 35563 (100.0%) in 10.18 sec. Users per second: 3492\n",
      "Similarity column 38121 (100.0%), 5043.34 column/sec. Elapsed time 7.56 sec\n",
      "EvaluatorHoldout: Processed 35560 (100.0%) in 10.43 sec. Users per second: 3409\n"
     ]
    },
    {
     "name": "stderr",
     "output_type": "stream",
     "text": [
      "[I 2024-11-28 16:35:53,443] Trial 19 finished with value: 0.05085260831898557 and parameters: {'similarity': 'jaccard', 'topK': 9, 'shrink': 7}. Best is trial 12 with value: 0.054721583491509726.\n"
     ]
    },
    {
     "name": "stdout",
     "output_type": "stream",
     "text": [
      "Similarity column 38121 (100.0%), 5090.39 column/sec. Elapsed time 7.49 sec\n",
      "EvaluatorHoldout: Processed 35569 (100.0%) in 10.36 sec. Users per second: 3433\n",
      "Similarity column 38121 (100.0%), 5043.45 column/sec. Elapsed time 7.56 sec\n",
      "EvaluatorHoldout: Processed 35581 (100.0%) in 10.46 sec. Users per second: 3403\n",
      "Similarity column 38121 (100.0%), 5008.91 column/sec. Elapsed time 7.61 sec\n",
      "EvaluatorHoldout: Processed 35569 (100.0%) in 11.29 sec. Users per second: 3150\n",
      "Similarity column 38121 (100.0%), 5052.12 column/sec. Elapsed time 7.55 sec\n",
      "EvaluatorHoldout: Processed 35573 (100.0%) in 10.22 sec. Users per second: 3482\n",
      "Similarity column 38121 (100.0%), 5086.17 column/sec. Elapsed time 7.50 sec\n",
      "EvaluatorHoldout: Processed 35567 (100.0%) in 10.38 sec. Users per second: 3428\n",
      "Similarity column 38121 (100.0%), 4801.94 column/sec. Elapsed time 7.94 sec\n",
      "EvaluatorHoldout: Processed 35582 (100.0%) in 10.34 sec. Users per second: 3441\n",
      "Similarity column 38121 (100.0%), 5102.92 column/sec. Elapsed time 7.47 sec\n",
      "EvaluatorHoldout: Processed 35567 (100.0%) in 10.34 sec. Users per second: 3441\n",
      "Similarity column 38121 (100.0%), 4940.14 column/sec. Elapsed time 7.72 sec\n",
      "EvaluatorHoldout: Processed 35578 (100.0%) in 10.42 sec. Users per second: 3414\n",
      "Similarity column 38121 (100.0%), 5073.61 column/sec. Elapsed time 7.51 sec\n",
      "EvaluatorHoldout: Processed 35563 (100.0%) in 10.58 sec. Users per second: 3360\n",
      "Similarity column 38121 (100.0%), 5029.59 column/sec. Elapsed time 7.58 sec\n",
      "EvaluatorHoldout: Processed 35560 (100.0%) in 10.19 sec. Users per second: 3489\n"
     ]
    },
    {
     "name": "stderr",
     "output_type": "stream",
     "text": [
      "[I 2024-11-28 16:38:54,356] Trial 20 finished with value: 0.05130519390324497 and parameters: {'similarity': 'cosine', 'topK': 6, 'shrink': 12}. Best is trial 12 with value: 0.054721583491509726.\n"
     ]
    },
    {
     "name": "stdout",
     "output_type": "stream",
     "text": [
      "Similarity column 38121 (100.0%), 5016.04 column/sec. Elapsed time 7.60 sec\n",
      "EvaluatorHoldout: Processed 35569 (100.0%) in 10.62 sec. Users per second: 3349\n",
      "Similarity column 38121 (100.0%), 4617.83 column/sec. Elapsed time 8.26 sec\n",
      "EvaluatorHoldout: Processed 35581 (100.0%) in 10.70 sec. Users per second: 3327\n",
      "Similarity column 38121 (100.0%), 4871.50 column/sec. Elapsed time 7.83 sec\n",
      "EvaluatorHoldout: Processed 35569 (100.0%) in 10.61 sec. Users per second: 3352\n",
      "Similarity column 38121 (100.0%), 4879.48 column/sec. Elapsed time 7.81 sec\n",
      "EvaluatorHoldout: Processed 35573 (100.0%) in 10.07 sec. Users per second: 3532\n",
      "Similarity column 38121 (100.0%), 4960.47 column/sec. Elapsed time 7.68 sec\n",
      "EvaluatorHoldout: Processed 35567 (100.0%) in 10.21 sec. Users per second: 3483\n",
      "Similarity column 38121 (100.0%), 4956.15 column/sec. Elapsed time 7.69 sec\n",
      "EvaluatorHoldout: Processed 35582 (100.0%) in 10.43 sec. Users per second: 3411\n",
      "Similarity column 38121 (100.0%), 4930.06 column/sec. Elapsed time 7.73 sec\n",
      "EvaluatorHoldout: Processed 35567 (100.0%) in 10.41 sec. Users per second: 3415\n",
      "Similarity column 38121 (100.0%), 4809.70 column/sec. Elapsed time 7.93 sec\n",
      "EvaluatorHoldout: Processed 35578 (100.0%) in 10.23 sec. Users per second: 3477\n",
      "Similarity column 38121 (100.0%), 5019.43 column/sec. Elapsed time 7.59 sec\n",
      "EvaluatorHoldout: Processed 35563 (100.0%) in 9.96 sec. Users per second: 3571\n",
      "Similarity column 38121 (100.0%), 4997.66 column/sec. Elapsed time 7.63 sec\n",
      "EvaluatorHoldout: Processed 35560 (100.0%) in 9.86 sec. Users per second: 3608\n"
     ]
    },
    {
     "name": "stderr",
     "output_type": "stream",
     "text": [
      "[I 2024-11-28 16:41:55,666] Trial 21 finished with value: 0.054661543846547575 and parameters: {'similarity': 'asymmetric', 'topK': 5, 'shrink': 7, 'asymmetric_alpha': 0.10867177268245315}. Best is trial 12 with value: 0.054721583491509726.\n"
     ]
    },
    {
     "name": "stdout",
     "output_type": "stream",
     "text": [
      "Similarity column 38121 (100.0%), 5010.12 column/sec. Elapsed time 7.61 sec\n",
      "EvaluatorHoldout: Processed 35569 (100.0%) in 9.91 sec. Users per second: 3588\n",
      "Similarity column 38121 (100.0%), 4988.79 column/sec. Elapsed time 7.64 sec\n",
      "EvaluatorHoldout: Processed 35581 (100.0%) in 10.38 sec. Users per second: 3428\n",
      "Similarity column 38121 (100.0%), 4924.30 column/sec. Elapsed time 7.74 sec\n",
      "EvaluatorHoldout: Processed 35569 (100.0%) in 10.03 sec. Users per second: 3546\n",
      "Similarity column 38121 (100.0%), 4730.00 column/sec. Elapsed time 8.06 sec\n",
      "EvaluatorHoldout: Processed 35573 (100.0%) in 10.55 sec. Users per second: 3372\n",
      "Similarity column 38121 (100.0%), 4683.67 column/sec. Elapsed time 8.14 sec\n",
      "EvaluatorHoldout: Processed 35567 (100.0%) in 10.66 sec. Users per second: 3338\n",
      "Similarity column 38121 (100.0%), 4957.38 column/sec. Elapsed time 7.69 sec\n",
      "EvaluatorHoldout: Processed 35582 (100.0%) in 10.10 sec. Users per second: 3523\n",
      "Similarity column 38121 (100.0%), 4908.52 column/sec. Elapsed time 7.77 sec\n",
      "EvaluatorHoldout: Processed 35567 (100.0%) in 10.09 sec. Users per second: 3524\n",
      "Similarity column 38121 (100.0%), 4937.41 column/sec. Elapsed time 7.72 sec\n",
      "EvaluatorHoldout: Processed 35578 (100.0%) in 10.32 sec. Users per second: 3448\n",
      "Similarity column 38121 (100.0%), 4765.49 column/sec. Elapsed time 8.00 sec\n",
      "EvaluatorHoldout: Processed 35563 (100.0%) in 10.97 sec. Users per second: 3243\n",
      "Similarity column 38121 (100.0%), 4662.25 column/sec. Elapsed time 8.18 sec\n",
      "EvaluatorHoldout: Processed 35560 (100.0%) in 10.83 sec. Users per second: 3282\n"
     ]
    },
    {
     "name": "stderr",
     "output_type": "stream",
     "text": [
      "[I 2024-11-28 16:44:58,488] Trial 22 finished with value: 0.054331205242867886 and parameters: {'similarity': 'asymmetric', 'topK': 6, 'shrink': 7, 'asymmetric_alpha': 0.1179453413202052}. Best is trial 12 with value: 0.054721583491509726.\n"
     ]
    },
    {
     "name": "stdout",
     "output_type": "stream",
     "text": [
      "Similarity column 38121 (100.0%), 4823.37 column/sec. Elapsed time 7.90 sec\n",
      "EvaluatorHoldout: Processed 35569 (100.0%) in 10.54 sec. Users per second: 3374\n",
      "Similarity column 38121 (100.0%), 4936.12 column/sec. Elapsed time 7.72 sec\n",
      "EvaluatorHoldout: Processed 35581 (100.0%) in 10.24 sec. Users per second: 3476\n",
      "Similarity column 38121 (100.0%), 4934.40 column/sec. Elapsed time 7.73 sec\n",
      "EvaluatorHoldout: Processed 35569 (100.0%) in 10.25 sec. Users per second: 3470\n",
      "Similarity column 38121 (100.0%), 4937.55 column/sec. Elapsed time 7.72 sec\n",
      "EvaluatorHoldout: Processed 35573 (100.0%) in 10.46 sec. Users per second: 3402\n",
      "Similarity column 38121 (100.0%), 4917.97 column/sec. Elapsed time 7.75 sec\n",
      "EvaluatorHoldout: Processed 35567 (100.0%) in 10.77 sec. Users per second: 3303\n",
      "Similarity column 38121 (100.0%), 4703.72 column/sec. Elapsed time 8.10 sec\n",
      "EvaluatorHoldout: Processed 35582 (100.0%) in 10.81 sec. Users per second: 3291\n",
      "Similarity column 38121 (100.0%), 4818.72 column/sec. Elapsed time 7.91 sec\n",
      "EvaluatorHoldout: Processed 35567 (100.0%) in 10.43 sec. Users per second: 3410\n",
      "Similarity column 38121 (100.0%), 4976.37 column/sec. Elapsed time 7.66 sec\n",
      "EvaluatorHoldout: Processed 35578 (100.0%) in 10.44 sec. Users per second: 3409\n",
      "Similarity column 38121 (100.0%), 4782.75 column/sec. Elapsed time 7.97 sec\n",
      "EvaluatorHoldout: Processed 35563 (100.0%) in 10.37 sec. Users per second: 3429\n",
      "Similarity column 38121 (100.0%), 4924.89 column/sec. Elapsed time 7.74 sec\n",
      "EvaluatorHoldout: Processed 35560 (100.0%) in 10.07 sec. Users per second: 3532\n"
     ]
    },
    {
     "name": "stderr",
     "output_type": "stream",
     "text": [
      "[I 2024-11-28 16:48:01,537] Trial 23 finished with value: 0.05371564512251851 and parameters: {'similarity': 'asymmetric', 'topK': 8, 'shrink': 10, 'asymmetric_alpha': 0.08802775830816323}. Best is trial 12 with value: 0.054721583491509726.\n"
     ]
    },
    {
     "name": "stdout",
     "output_type": "stream",
     "text": [
      "Similarity column 38121 (100.0%), 4998.08 column/sec. Elapsed time 7.63 sec\n",
      "EvaluatorHoldout: Processed 35569 (100.0%) in 9.92 sec. Users per second: 3587\n",
      "Similarity column 38121 (100.0%), 5012.30 column/sec. Elapsed time 7.61 sec\n",
      "EvaluatorHoldout: Processed 35581 (100.0%) in 9.98 sec. Users per second: 3565\n",
      "Similarity column 38121 (100.0%), 4912.43 column/sec. Elapsed time 7.76 sec\n",
      "EvaluatorHoldout: Processed 35569 (100.0%) in 10.48 sec. Users per second: 3393\n",
      "Similarity column 38121 (100.0%), 4835.92 column/sec. Elapsed time 7.88 sec\n",
      "EvaluatorHoldout: Processed 35573 (100.0%) in 10.38 sec. Users per second: 3426\n",
      "Similarity column 38121 (100.0%), 4806.61 column/sec. Elapsed time 7.93 sec\n",
      "EvaluatorHoldout: Processed 35567 (100.0%) in 9.98 sec. Users per second: 3563\n",
      "Similarity column 38121 (100.0%), 5010.09 column/sec. Elapsed time 7.61 sec\n",
      "EvaluatorHoldout: Processed 35582 (100.0%) in 10.65 sec. Users per second: 3342\n",
      "Similarity column 38121 (100.0%), 4823.76 column/sec. Elapsed time 7.90 sec\n",
      "EvaluatorHoldout: Processed 35567 (100.0%) in 10.41 sec. Users per second: 3418\n",
      "Similarity column 38121 (100.0%), 4549.72 column/sec. Elapsed time 8.38 sec\n",
      "EvaluatorHoldout: Processed 35578 (100.0%) in 10.77 sec. Users per second: 3303\n",
      "Similarity column 38121 (100.0%), 4855.64 column/sec. Elapsed time 7.85 sec\n",
      "EvaluatorHoldout: Processed 35563 (100.0%) in 10.06 sec. Users per second: 3534\n",
      "Similarity column 38121 (100.0%), 4942.02 column/sec. Elapsed time 7.71 sec\n",
      "EvaluatorHoldout: Processed 35560 (100.0%) in 9.99 sec. Users per second: 3558\n"
     ]
    },
    {
     "name": "stderr",
     "output_type": "stream",
     "text": [
      "[I 2024-11-28 16:51:02,846] Trial 24 finished with value: 0.054751337198370366 and parameters: {'similarity': 'asymmetric', 'topK': 5, 'shrink': 13, 'asymmetric_alpha': 0.12814701649007615}. Best is trial 24 with value: 0.054751337198370366.\n"
     ]
    },
    {
     "name": "stdout",
     "output_type": "stream",
     "text": [
      "Similarity column 38121 (100.0%), 4958.40 column/sec. Elapsed time 7.69 sec\n",
      "EvaluatorHoldout: Processed 35569 (100.0%) in 10.38 sec. Users per second: 3428\n",
      "Similarity column 38121 (100.0%), 4802.83 column/sec. Elapsed time 7.94 sec\n",
      "EvaluatorHoldout: Processed 35581 (100.0%) in 10.33 sec. Users per second: 3445\n",
      "Similarity column 38121 (100.0%), 4822.56 column/sec. Elapsed time 7.90 sec\n",
      "EvaluatorHoldout: Processed 35569 (100.0%) in 10.16 sec. Users per second: 3502\n",
      "Similarity column 38121 (100.0%), 4872.09 column/sec. Elapsed time 7.82 sec\n",
      "EvaluatorHoldout: Processed 35573 (100.0%) in 10.80 sec. Users per second: 3293\n",
      "Similarity column 38121 (100.0%), 4809.51 column/sec. Elapsed time 7.93 sec\n",
      "EvaluatorHoldout: Processed 35567 (100.0%) in 11.00 sec. Users per second: 3234\n",
      "Similarity column 38121 (100.0%), 4909.22 column/sec. Elapsed time 7.77 sec\n",
      "EvaluatorHoldout: Processed 35582 (100.0%) in 10.62 sec. Users per second: 3351\n",
      "Similarity column 38121 (100.0%), 4968.67 column/sec. Elapsed time 7.67 sec\n",
      "EvaluatorHoldout: Processed 35567 (100.0%) in 10.28 sec. Users per second: 3459\n",
      "Similarity column 38121 (100.0%), 4878.60 column/sec. Elapsed time 7.81 sec\n",
      "EvaluatorHoldout: Processed 35578 (100.0%) in 10.39 sec. Users per second: 3424\n",
      "Similarity column 38121 (100.0%), 4820.06 column/sec. Elapsed time 7.91 sec\n",
      "EvaluatorHoldout: Processed 35563 (100.0%) in 10.59 sec. Users per second: 3358\n",
      "Similarity column 38121 (100.0%), 4899.62 column/sec. Elapsed time 7.78 sec\n",
      "EvaluatorHoldout: Processed 35560 (100.0%) in 10.18 sec. Users per second: 3494\n"
     ]
    },
    {
     "name": "stderr",
     "output_type": "stream",
     "text": [
      "[I 2024-11-28 16:54:06,222] Trial 25 finished with value: 0.0529798439829112 and parameters: {'similarity': 'asymmetric', 'topK': 10, 'shrink': 14, 'asymmetric_alpha': 0.1482396062674972}. Best is trial 24 with value: 0.054751337198370366.\n"
     ]
    },
    {
     "name": "stdout",
     "output_type": "stream",
     "text": [
      "Similarity column 38121 (100.0%), 5236.76 column/sec. Elapsed time 7.28 sec\n",
      "EvaluatorHoldout: Processed 35569 (100.0%) in 10.30 sec. Users per second: 3452\n",
      "Similarity column 38121 (100.0%), 5190.37 column/sec. Elapsed time 7.34 sec\n",
      "EvaluatorHoldout: Processed 35581 (100.0%) in 10.40 sec. Users per second: 3422\n",
      "Similarity column 38121 (100.0%), 5138.90 column/sec. Elapsed time 7.42 sec\n",
      "EvaluatorHoldout: Processed 35569 (100.0%) in 11.12 sec. Users per second: 3199\n",
      "Similarity column 38121 (100.0%), 5170.51 column/sec. Elapsed time 7.37 sec\n",
      "EvaluatorHoldout: Processed 35573 (100.0%) in 10.45 sec. Users per second: 3406\n",
      "Similarity column 38121 (100.0%), 5225.04 column/sec. Elapsed time 7.30 sec\n",
      "EvaluatorHoldout: Processed 35567 (100.0%) in 10.28 sec. Users per second: 3459\n",
      "Similarity column 38121 (100.0%), 5044.26 column/sec. Elapsed time 7.56 sec\n",
      "EvaluatorHoldout: Processed 35582 (100.0%) in 10.71 sec. Users per second: 3322\n",
      "Similarity column 38121 (100.0%), 5250.31 column/sec. Elapsed time 7.26 sec\n",
      "EvaluatorHoldout: Processed 35567 (100.0%) in 10.18 sec. Users per second: 3495\n",
      "Similarity column 38121 (100.0%), 5234.14 column/sec. Elapsed time 7.28 sec\n",
      "EvaluatorHoldout: Processed 35578 (100.0%) in 10.03 sec. Users per second: 3545\n",
      "Similarity column 38121 (100.0%), 5076.56 column/sec. Elapsed time 7.51 sec\n",
      "EvaluatorHoldout: Processed 35563 (100.0%) in 10.70 sec. Users per second: 3325\n",
      "Similarity column 38121 (100.0%), 5014.35 column/sec. Elapsed time 7.60 sec\n",
      "EvaluatorHoldout: Processed 35560 (100.0%) in 10.62 sec. Users per second: 3348\n"
     ]
    },
    {
     "name": "stderr",
     "output_type": "stream",
     "text": [
      "[I 2024-11-28 16:57:06,297] Trial 26 finished with value: 0.05153403547456008 and parameters: {'similarity': 'dice', 'topK': 6, 'shrink': 17}. Best is trial 24 with value: 0.054751337198370366.\n"
     ]
    },
    {
     "name": "stdout",
     "output_type": "stream",
     "text": [
      "Similarity column 38121 (100.0%), 4854.69 column/sec. Elapsed time 7.85 sec\n",
      "EvaluatorHoldout: Processed 35569 (100.0%) in 10.65 sec. Users per second: 3341\n",
      "Similarity column 38121 (100.0%), 4855.10 column/sec. Elapsed time 7.85 sec\n",
      "EvaluatorHoldout: Processed 35581 (100.0%) in 10.59 sec. Users per second: 3359\n",
      "Similarity column 38121 (100.0%), 4857.07 column/sec. Elapsed time 7.85 sec\n",
      "EvaluatorHoldout: Processed 35569 (100.0%) in 10.60 sec. Users per second: 3356\n",
      "Similarity column 38121 (100.0%), 4821.94 column/sec. Elapsed time 7.91 sec\n",
      "EvaluatorHoldout: Processed 35573 (100.0%) in 10.60 sec. Users per second: 3356\n",
      "Similarity column 38121 (100.0%), 4857.58 column/sec. Elapsed time 7.85 sec\n",
      "EvaluatorHoldout: Processed 35567 (100.0%) in 10.64 sec. Users per second: 3342\n",
      "Similarity column 38121 (100.0%), 4672.03 column/sec. Elapsed time 8.16 sec\n",
      "EvaluatorHoldout: Processed 35582 (100.0%) in 10.78 sec. Users per second: 3302\n",
      "Similarity column 38121 (100.0%), 4706.14 column/sec. Elapsed time 8.10 sec\n",
      "EvaluatorHoldout: Processed 35567 (100.0%) in 10.96 sec. Users per second: 3244\n",
      "Similarity column 38121 (100.0%), 4769.27 column/sec. Elapsed time 7.99 sec\n",
      "EvaluatorHoldout: Processed 35578 (100.0%) in 10.72 sec. Users per second: 3319\n",
      "Similarity column 38121 (100.0%), 4816.01 column/sec. Elapsed time 7.92 sec\n",
      "EvaluatorHoldout: Processed 35563 (100.0%) in 10.75 sec. Users per second: 3307\n",
      "Similarity column 38121 (100.0%), 4735.58 column/sec. Elapsed time 8.05 sec\n",
      "EvaluatorHoldout: Processed 35560 (100.0%) in 10.69 sec. Users per second: 3325\n"
     ]
    },
    {
     "name": "stderr",
     "output_type": "stream",
     "text": [
      "[I 2024-11-28 17:00:13,254] Trial 27 finished with value: 0.05339188967254899 and parameters: {'similarity': 'asymmetric', 'topK': 8, 'shrink': 20, 'asymmetric_alpha': 0.12848509224193866}. Best is trial 24 with value: 0.054751337198370366.\n"
     ]
    },
    {
     "name": "stdout",
     "output_type": "stream",
     "text": [
      "Similarity column 38121 (100.0%), 4751.64 column/sec. Elapsed time 8.02 sec\n",
      "EvaluatorHoldout: Processed 35569 (100.0%) in 10.95 sec. Users per second: 3248\n",
      "Similarity column 38121 (100.0%), 4809.78 column/sec. Elapsed time 7.93 sec\n",
      "EvaluatorHoldout: Processed 35581 (100.0%) in 10.93 sec. Users per second: 3255\n",
      "Similarity column 38121 (100.0%), 4776.76 column/sec. Elapsed time 7.98 sec\n",
      "EvaluatorHoldout: Processed 35569 (100.0%) in 11.19 sec. Users per second: 3177\n",
      "Similarity column 38121 (100.0%), 4869.22 column/sec. Elapsed time 7.83 sec\n",
      "EvaluatorHoldout: Processed 35573 (100.0%) in 11.12 sec. Users per second: 3198\n",
      "Similarity column 38121 (100.0%), 4746.38 column/sec. Elapsed time 8.03 sec\n",
      "EvaluatorHoldout: Processed 35567 (100.0%) in 10.92 sec. Users per second: 3257\n",
      "Similarity column 38121 (100.0%), 4976.74 column/sec. Elapsed time 7.66 sec\n",
      "EvaluatorHoldout: Processed 35582 (100.0%) in 10.27 sec. Users per second: 3466\n",
      "Similarity column 38121 (100.0%), 5014.32 column/sec. Elapsed time 7.60 sec\n",
      "EvaluatorHoldout: Processed 35567 (100.0%) in 10.20 sec. Users per second: 3489\n",
      "Similarity column 38121 (100.0%), 4968.30 column/sec. Elapsed time 7.67 sec\n",
      "EvaluatorHoldout: Processed 35578 (100.0%) in 10.19 sec. Users per second: 3493\n",
      "Similarity column 38121 (100.0%), 5014.20 column/sec. Elapsed time 7.60 sec\n",
      "EvaluatorHoldout: Processed 35563 (100.0%) in 10.16 sec. Users per second: 3501\n",
      "Similarity column 38121 (100.0%), 4971.18 column/sec. Elapsed time 7.67 sec\n",
      "EvaluatorHoldout: Processed 35560 (100.0%) in 11.27 sec. Users per second: 3155\n"
     ]
    },
    {
     "name": "stderr",
     "output_type": "stream",
     "text": [
      "[I 2024-11-28 17:03:18,886] Trial 28 finished with value: 0.051799697315411355 and parameters: {'similarity': 'asymmetric', 'topK': 16, 'shrink': 13, 'asymmetric_alpha': 0.06070498977569355}. Best is trial 24 with value: 0.054751337198370366.\n"
     ]
    },
    {
     "name": "stdout",
     "output_type": "stream",
     "text": [
      "Similarity column 38121 (100.0%), 5011.11 column/sec. Elapsed time 7.61 sec\n",
      "EvaluatorHoldout: Processed 35569 (100.0%) in 12.30 sec. Users per second: 2892\n",
      "Similarity column 38121 (100.0%), 4850.66 column/sec. Elapsed time 7.86 sec\n",
      "EvaluatorHoldout: Processed 35581 (100.0%) in 12.12 sec. Users per second: 2935\n",
      "Similarity column 38121 (100.0%), 5188.92 column/sec. Elapsed time 7.35 sec\n",
      "EvaluatorHoldout: Processed 35569 (100.0%) in 11.85 sec. Users per second: 3001\n",
      "Similarity column 38121 (100.0%), 5019.43 column/sec. Elapsed time 7.59 sec\n",
      "EvaluatorHoldout: Processed 35573 (100.0%) in 12.13 sec. Users per second: 2932\n",
      "Similarity column 38121 (100.0%), 5106.05 column/sec. Elapsed time 7.47 sec\n",
      "EvaluatorHoldout: Processed 35567 (100.0%) in 11.77 sec. Users per second: 3021\n",
      "Similarity column 38121 (100.0%), 5244.02 column/sec. Elapsed time 7.27 sec\n",
      "EvaluatorHoldout: Processed 35582 (100.0%) in 11.74 sec. Users per second: 3032\n",
      "Similarity column 38121 (100.0%), 5197.66 column/sec. Elapsed time 7.33 sec\n",
      "EvaluatorHoldout: Processed 35567 (100.0%) in 12.17 sec. Users per second: 2922\n",
      "Similarity column 38121 (100.0%), 5049.27 column/sec. Elapsed time 7.55 sec\n",
      "EvaluatorHoldout: Processed 35578 (100.0%) in 12.39 sec. Users per second: 2872\n",
      "Similarity column 38121 (100.0%), 5159.78 column/sec. Elapsed time 7.39 sec\n",
      "EvaluatorHoldout: Processed 35563 (100.0%) in 11.61 sec. Users per second: 3064\n",
      "Similarity column 38121 (100.0%), 5212.91 column/sec. Elapsed time 7.31 sec\n",
      "EvaluatorHoldout: Processed 35560 (100.0%) in 11.63 sec. Users per second: 3059\n"
     ]
    },
    {
     "name": "stderr",
     "output_type": "stream",
     "text": [
      "[I 2024-11-28 17:06:34,652] Trial 29 finished with value: 0.03586132176944134 and parameters: {'similarity': 'tversky', 'topK': 18, 'shrink': 9, 'tversky_alpha': 1.9898156959353377, 'tversky_beta': 0.045012465436169435}. Best is trial 24 with value: 0.054751337198370366.\n"
     ]
    },
    {
     "name": "stdout",
     "output_type": "stream",
     "text": [
      "Similarity column 38121 (100.0%), 5095.60 column/sec. Elapsed time 7.48 sec\n",
      "EvaluatorHoldout: Processed 35569 (100.0%) in 10.69 sec. Users per second: 3329\n",
      "Similarity column 38121 (100.0%), 5122.51 column/sec. Elapsed time 7.44 sec\n",
      "EvaluatorHoldout: Processed 35581 (100.0%) in 10.38 sec. Users per second: 3429\n",
      "Similarity column 38121 (100.0%), 5140.15 column/sec. Elapsed time 7.42 sec\n",
      "EvaluatorHoldout: Processed 35569 (100.0%) in 10.36 sec. Users per second: 3433\n",
      "Similarity column 38121 (100.0%), 5247.65 column/sec. Elapsed time 7.26 sec\n",
      "EvaluatorHoldout: Processed 35573 (100.0%) in 10.11 sec. Users per second: 3517\n",
      "Similarity column 38121 (100.0%), 5273.34 column/sec. Elapsed time 7.23 sec\n",
      "EvaluatorHoldout: Processed 35567 (100.0%) in 10.16 sec. Users per second: 3502\n",
      "Similarity column 38121 (100.0%), 5288.26 column/sec. Elapsed time 7.21 sec\n",
      "EvaluatorHoldout: Processed 35582 (100.0%) in 10.46 sec. Users per second: 3402\n",
      "Similarity column 38121 (100.0%), 5171.82 column/sec. Elapsed time 7.37 sec\n",
      "EvaluatorHoldout: Processed 35567 (100.0%) in 10.44 sec. Users per second: 3408\n",
      "Similarity column 38121 (100.0%), 5061.38 column/sec. Elapsed time 7.53 sec\n",
      "EvaluatorHoldout: Processed 35578 (100.0%) in 10.40 sec. Users per second: 3422\n",
      "Similarity column 38121 (100.0%), 5315.73 column/sec. Elapsed time 7.17 sec\n",
      "EvaluatorHoldout: Processed 35563 (100.0%) in 10.51 sec. Users per second: 3385\n",
      "Similarity column 38121 (100.0%), 4953.00 column/sec. Elapsed time 7.70 sec\n",
      "EvaluatorHoldout: Processed 35560 (100.0%) in 10.68 sec. Users per second: 3329\n"
     ]
    },
    {
     "name": "stderr",
     "output_type": "stream",
     "text": [
      "[I 2024-11-28 17:09:33,963] Trial 30 finished with value: 0.05149021902152436 and parameters: {'similarity': 'dice', 'topK': 6, 'shrink': 22}. Best is trial 24 with value: 0.054751337198370366.\n"
     ]
    },
    {
     "name": "stdout",
     "output_type": "stream",
     "text": [
      "Similarity column 38121 (100.0%), 4687.21 column/sec. Elapsed time 8.13 sec\n",
      "EvaluatorHoldout: Processed 35569 (100.0%) in 10.73 sec. Users per second: 3314\n",
      "Similarity column 38121 (100.0%), 4833.04 column/sec. Elapsed time 7.89 sec\n",
      "EvaluatorHoldout: Processed 35581 (100.0%) in 10.52 sec. Users per second: 3384\n",
      "Similarity column 38121 (100.0%), 4805.67 column/sec. Elapsed time 7.93 sec\n",
      "EvaluatorHoldout: Processed 35569 (100.0%) in 10.10 sec. Users per second: 3522\n",
      "Similarity column 38121 (100.0%), 4967.81 column/sec. Elapsed time 7.67 sec\n",
      "EvaluatorHoldout: Processed 35573 (100.0%) in 10.01 sec. Users per second: 3552\n",
      "Similarity column 38121 (100.0%), 4951.07 column/sec. Elapsed time 7.70 sec\n",
      "EvaluatorHoldout: Processed 35567 (100.0%) in 10.06 sec. Users per second: 3534\n",
      "Similarity column 38121 (100.0%), 4745.06 column/sec. Elapsed time 8.03 sec\n",
      "EvaluatorHoldout: Processed 35582 (100.0%) in 10.61 sec. Users per second: 3353\n",
      "Similarity column 38121 (100.0%), 4762.50 column/sec. Elapsed time 8.00 sec\n",
      "EvaluatorHoldout: Processed 35567 (100.0%) in 10.94 sec. Users per second: 3252\n",
      "Similarity column 38121 (100.0%), 4752.04 column/sec. Elapsed time 8.02 sec\n",
      "EvaluatorHoldout: Processed 35578 (100.0%) in 10.21 sec. Users per second: 3484\n",
      "Similarity column 38121 (100.0%), 4758.01 column/sec. Elapsed time 8.01 sec\n",
      "EvaluatorHoldout: Processed 35563 (100.0%) in 10.89 sec. Users per second: 3267\n",
      "Similarity column 38121 (100.0%), 4460.24 column/sec. Elapsed time 8.55 sec\n",
      "EvaluatorHoldout: Processed 35560 (100.0%) in 10.93 sec. Users per second: 3252\n"
     ]
    },
    {
     "name": "stderr",
     "output_type": "stream",
     "text": [
      "[I 2024-11-28 17:12:39,342] Trial 31 finished with value: 0.05457817445212565 and parameters: {'similarity': 'asymmetric', 'topK': 5, 'shrink': 6, 'asymmetric_alpha': 0.1255766234761123}. Best is trial 24 with value: 0.054751337198370366.\n"
     ]
    },
    {
     "name": "stdout",
     "output_type": "stream",
     "text": [
      "Similarity column 38121 (100.0%), 4783.90 column/sec. Elapsed time 7.97 sec\n",
      "EvaluatorHoldout: Processed 35569 (100.0%) in 10.45 sec. Users per second: 3404\n",
      "Similarity column 38121 (100.0%), 4641.75 column/sec. Elapsed time 8.21 sec\n",
      "EvaluatorHoldout: Processed 35581 (100.0%) in 10.67 sec. Users per second: 3334\n",
      "Similarity column 38121 (100.0%), 4811.04 column/sec. Elapsed time 7.92 sec\n",
      "EvaluatorHoldout: Processed 35569 (100.0%) in 10.57 sec. Users per second: 3365\n",
      "Similarity column 38121 (100.0%), 4834.23 column/sec. Elapsed time 7.89 sec\n",
      "EvaluatorHoldout: Processed 35573 (100.0%) in 10.48 sec. Users per second: 3394\n",
      "Similarity column 38121 (100.0%), 4790.86 column/sec. Elapsed time 7.96 sec\n",
      "EvaluatorHoldout: Processed 35567 (100.0%) in 10.47 sec. Users per second: 3397\n",
      "Similarity column 38121 (100.0%), 4842.79 column/sec. Elapsed time 7.87 sec\n",
      "EvaluatorHoldout: Processed 35582 (100.0%) in 10.52 sec. Users per second: 3382\n",
      "Similarity column 38121 (100.0%), 4828.95 column/sec. Elapsed time 7.89 sec\n",
      "EvaluatorHoldout: Processed 35567 (100.0%) in 10.49 sec. Users per second: 3389\n",
      "Similarity column 38121 (100.0%), 4812.28 column/sec. Elapsed time 7.92 sec\n",
      "EvaluatorHoldout: Processed 35578 (100.0%) in 10.50 sec. Users per second: 3387\n",
      "Similarity column 38121 (100.0%), 4799.15 column/sec. Elapsed time 7.94 sec\n",
      "EvaluatorHoldout: Processed 35563 (100.0%) in 10.45 sec. Users per second: 3405\n",
      "Similarity column 38121 (100.0%), 4832.70 column/sec. Elapsed time 7.89 sec\n",
      "EvaluatorHoldout: Processed 35560 (100.0%) in 10.53 sec. Users per second: 3376\n"
     ]
    },
    {
     "name": "stderr",
     "output_type": "stream",
     "text": [
      "[I 2024-11-28 17:15:44,402] Trial 32 finished with value: 0.0547476943652361 and parameters: {'similarity': 'asymmetric', 'topK': 5, 'shrink': 10, 'asymmetric_alpha': 0.13445103782401027}. Best is trial 24 with value: 0.054751337198370366.\n"
     ]
    },
    {
     "name": "stdout",
     "output_type": "stream",
     "text": [
      "Similarity column 38121 (100.0%), 5004.86 column/sec. Elapsed time 7.62 sec\n",
      "EvaluatorHoldout: Processed 35569 (100.0%) in 10.62 sec. Users per second: 3348\n",
      "Similarity column 38121 (100.0%), 4928.21 column/sec. Elapsed time 7.74 sec\n",
      "EvaluatorHoldout: Processed 35581 (100.0%) in 10.63 sec. Users per second: 3348\n",
      "Similarity column 38121 (100.0%), 4912.73 column/sec. Elapsed time 7.76 sec\n",
      "EvaluatorHoldout: Processed 35569 (100.0%) in 10.65 sec. Users per second: 3341\n",
      "Similarity column 38121 (100.0%), 5004.67 column/sec. Elapsed time 7.62 sec\n",
      "EvaluatorHoldout: Processed 35573 (100.0%) in 10.71 sec. Users per second: 3321\n",
      "Similarity column 38121 (100.0%), 4957.77 column/sec. Elapsed time 7.69 sec\n",
      "EvaluatorHoldout: Processed 35567 (100.0%) in 11.00 sec. Users per second: 3232\n",
      "Similarity column 38121 (100.0%), 5010.81 column/sec. Elapsed time 7.61 sec\n",
      "EvaluatorHoldout: Processed 35582 (100.0%) in 10.97 sec. Users per second: 3245\n",
      "Similarity column 38121 (100.0%), 5005.13 column/sec. Elapsed time 7.62 sec\n",
      "EvaluatorHoldout: Processed 35567 (100.0%) in 10.73 sec. Users per second: 3315\n",
      "Similarity column 38121 (100.0%), 5175.27 column/sec. Elapsed time 7.37 sec\n",
      "EvaluatorHoldout: Processed 35578 (100.0%) in 10.72 sec. Users per second: 3319\n",
      "Similarity column 38121 (100.0%), 4954.18 column/sec. Elapsed time 7.69 sec\n",
      "EvaluatorHoldout: Processed 35563 (100.0%) in 10.49 sec. Users per second: 3391\n",
      "Similarity column 38121 (100.0%), 5071.35 column/sec. Elapsed time 7.52 sec\n",
      "EvaluatorHoldout: Processed 35560 (100.0%) in 11.10 sec. Users per second: 3203\n"
     ]
    },
    {
     "name": "stderr",
     "output_type": "stream",
     "text": [
      "[I 2024-11-28 17:18:49,564] Trial 33 finished with value: 0.05139007279029619 and parameters: {'similarity': 'jaccard', 'topK': 7, 'shrink': 10}. Best is trial 24 with value: 0.054751337198370366.\n"
     ]
    },
    {
     "name": "stdout",
     "output_type": "stream",
     "text": [
      "Similarity column 38121 (100.0%), 4816.43 column/sec. Elapsed time 7.91 sec\n",
      "EvaluatorHoldout: Processed 35569 (100.0%) in 10.36 sec. Users per second: 3432\n",
      "Similarity column 38121 (100.0%), 4925.42 column/sec. Elapsed time 7.74 sec\n",
      "EvaluatorHoldout: Processed 35581 (100.0%) in 9.88 sec. Users per second: 3601\n",
      "Similarity column 38121 (100.0%), 4963.31 column/sec. Elapsed time 7.68 sec\n",
      "EvaluatorHoldout: Processed 35569 (100.0%) in 10.04 sec. Users per second: 3541\n",
      "Similarity column 38121 (100.0%), 4944.73 column/sec. Elapsed time 7.71 sec\n",
      "EvaluatorHoldout: Processed 35573 (100.0%) in 10.26 sec. Users per second: 3469\n",
      "Similarity column 38121 (100.0%), 4632.28 column/sec. Elapsed time 8.23 sec\n",
      "EvaluatorHoldout: Processed 35567 (100.0%) in 10.23 sec. Users per second: 3475\n",
      "Similarity column 38121 (100.0%), 5031.37 column/sec. Elapsed time 7.58 sec\n",
      "EvaluatorHoldout: Processed 35582 (100.0%) in 9.95 sec. Users per second: 3575\n",
      "Similarity column 38121 (100.0%), 4999.78 column/sec. Elapsed time 7.62 sec\n",
      "EvaluatorHoldout: Processed 35567 (100.0%) in 9.99 sec. Users per second: 3561\n",
      "Similarity column 38121 (100.0%), 4929.33 column/sec. Elapsed time 7.73 sec\n",
      "EvaluatorHoldout: Processed 35578 (100.0%) in 10.28 sec. Users per second: 3460\n",
      "Similarity column 38121 (100.0%), 4962.30 column/sec. Elapsed time 7.68 sec\n",
      "EvaluatorHoldout: Processed 35563 (100.0%) in 10.26 sec. Users per second: 3468\n",
      "Similarity column 38121 (100.0%), 4657.16 column/sec. Elapsed time 8.19 sec\n",
      "EvaluatorHoldout: Processed 35560 (100.0%) in 10.24 sec. Users per second: 3471\n"
     ]
    },
    {
     "name": "stderr",
     "output_type": "stream",
     "text": [
      "[I 2024-11-28 17:21:49,585] Trial 34 finished with value: 0.0541656644406303 and parameters: {'similarity': 'asymmetric', 'topK': 6, 'shrink': 5, 'asymmetric_alpha': 0.13288389525784408}. Best is trial 24 with value: 0.054751337198370366.\n"
     ]
    },
    {
     "name": "stdout",
     "output_type": "stream",
     "text": [
      "Similarity column 38121 (100.0%), 5113.64 column/sec. Elapsed time 7.45 sec\n",
      "EvaluatorHoldout: Processed 35569 (100.0%) in 10.49 sec. Users per second: 3391\n",
      "Similarity column 38121 (100.0%), 5107.95 column/sec. Elapsed time 7.46 sec\n",
      "EvaluatorHoldout: Processed 35581 (100.0%) in 10.33 sec. Users per second: 3443\n",
      "Similarity column 38121 (100.0%), 5101.69 column/sec. Elapsed time 7.47 sec\n",
      "EvaluatorHoldout: Processed 35569 (100.0%) in 10.43 sec. Users per second: 3409\n",
      "Similarity column 38121 (100.0%), 5148.30 column/sec. Elapsed time 7.40 sec\n",
      "EvaluatorHoldout: Processed 35573 (100.0%) in 10.17 sec. Users per second: 3497\n",
      "Similarity column 38121 (100.0%), 5069.74 column/sec. Elapsed time 7.52 sec\n",
      "EvaluatorHoldout: Processed 35567 (100.0%) in 10.34 sec. Users per second: 3440\n",
      "Similarity column 38121 (100.0%), 5162.95 column/sec. Elapsed time 7.38 sec\n",
      "EvaluatorHoldout: Processed 35582 (100.0%) in 10.12 sec. Users per second: 3515\n",
      "Similarity column 38121 (100.0%), 5178.73 column/sec. Elapsed time 7.36 sec\n",
      "EvaluatorHoldout: Processed 35567 (100.0%) in 10.11 sec. Users per second: 3516\n",
      "Similarity column 38121 (100.0%), 5061.88 column/sec. Elapsed time 7.53 sec\n",
      "EvaluatorHoldout: Processed 35578 (100.0%) in 10.08 sec. Users per second: 3528\n",
      "Similarity column 38121 (100.0%), 5164.54 column/sec. Elapsed time 7.38 sec\n",
      "EvaluatorHoldout: Processed 35563 (100.0%) in 10.12 sec. Users per second: 3515\n",
      "Similarity column 38121 (100.0%), 5193.19 column/sec. Elapsed time 7.34 sec\n",
      "EvaluatorHoldout: Processed 35560 (100.0%) in 10.02 sec. Users per second: 3548\n"
     ]
    },
    {
     "name": "stderr",
     "output_type": "stream",
     "text": [
      "[I 2024-11-28 17:24:47,502] Trial 35 finished with value: 0.053768526855190034 and parameters: {'similarity': 'tversky', 'topK': 9, 'shrink': 18, 'tversky_alpha': 0.007612269209903655, 'tversky_beta': 1.958601897181006}. Best is trial 24 with value: 0.054751337198370366.\n"
     ]
    },
    {
     "name": "stdout",
     "output_type": "stream",
     "text": [
      "Similarity column 38121 (100.0%), 5018.73 column/sec. Elapsed time 7.60 sec\n",
      "EvaluatorHoldout: Processed 35569 (100.0%) in 10.03 sec. Users per second: 3547\n",
      "Similarity column 38121 (100.0%), 4956.76 column/sec. Elapsed time 7.69 sec\n",
      "EvaluatorHoldout: Processed 35581 (100.0%) in 10.30 sec. Users per second: 3454\n",
      "Similarity column 38121 (100.0%), 4940.10 column/sec. Elapsed time 7.72 sec\n",
      "EvaluatorHoldout: Processed 35569 (100.0%) in 10.05 sec. Users per second: 3539\n",
      "Similarity column 38121 (100.0%), 4884.66 column/sec. Elapsed time 7.80 sec\n",
      "EvaluatorHoldout: Processed 35573 (100.0%) in 10.69 sec. Users per second: 3327\n",
      "Similarity column 38121 (100.0%), 4814.13 column/sec. Elapsed time 7.92 sec\n",
      "EvaluatorHoldout: Processed 35567 (100.0%) in 10.47 sec. Users per second: 3397\n",
      "Similarity column 38121 (100.0%), 4983.83 column/sec. Elapsed time 7.65 sec\n",
      "EvaluatorHoldout: Processed 35582 (100.0%) in 10.18 sec. Users per second: 3497\n",
      "Similarity column 38121 (100.0%), 4907.50 column/sec. Elapsed time 7.77 sec\n",
      "EvaluatorHoldout: Processed 35567 (100.0%) in 10.30 sec. Users per second: 3452\n",
      "Similarity column 38121 (100.0%), 4909.97 column/sec. Elapsed time 7.76 sec\n",
      "EvaluatorHoldout: Processed 35578 (100.0%) in 10.14 sec. Users per second: 3509\n",
      "Similarity column 38121 (100.0%), 4932.97 column/sec. Elapsed time 7.73 sec\n",
      "EvaluatorHoldout: Processed 35563 (100.0%) in 10.05 sec. Users per second: 3537\n",
      "Similarity column 38121 (100.0%), 5002.78 column/sec. Elapsed time 7.62 sec\n",
      "EvaluatorHoldout: Processed 35560 (100.0%) in 10.38 sec. Users per second: 3427\n"
     ]
    },
    {
     "name": "stderr",
     "output_type": "stream",
     "text": [
      "[I 2024-11-28 17:27:47,761] Trial 36 finished with value: 0.05396800202106444 and parameters: {'similarity': 'asymmetric', 'topK': 7, 'shrink': 14, 'asymmetric_alpha': 0.14919631793765004}. Best is trial 24 with value: 0.054751337198370366.\n"
     ]
    },
    {
     "name": "stdout",
     "output_type": "stream",
     "text": [
      "Similarity column 38121 (100.0%), 4958.59 column/sec. Elapsed time 7.69 sec\n",
      "EvaluatorHoldout: Processed 35569 (100.0%) in 10.19 sec. Users per second: 3490\n",
      "Similarity column 38121 (100.0%), 4914.11 column/sec. Elapsed time 7.76 sec\n",
      "EvaluatorHoldout: Processed 35581 (100.0%) in 10.18 sec. Users per second: 3495\n",
      "Similarity column 38121 (100.0%), 5016.43 column/sec. Elapsed time 7.60 sec\n",
      "EvaluatorHoldout: Processed 35569 (100.0%) in 10.15 sec. Users per second: 3505\n",
      "Similarity column 38121 (100.0%), 4915.46 column/sec. Elapsed time 7.76 sec\n",
      "EvaluatorHoldout: Processed 35573 (100.0%) in 10.66 sec. Users per second: 3336\n",
      "Similarity column 38121 (100.0%), 4831.65 column/sec. Elapsed time 7.89 sec\n",
      "EvaluatorHoldout: Processed 35567 (100.0%) in 10.80 sec. Users per second: 3292\n",
      "Similarity column 38121 (100.0%), 4840.24 column/sec. Elapsed time 7.88 sec\n",
      "EvaluatorHoldout: Processed 35582 (100.0%) in 10.75 sec. Users per second: 3311\n",
      "Similarity column 38121 (100.0%), 4793.39 column/sec. Elapsed time 7.95 sec\n",
      "EvaluatorHoldout: Processed 35567 (100.0%) in 10.99 sec. Users per second: 3237\n",
      "Similarity column 38121 (100.0%), 4696.06 column/sec. Elapsed time 8.12 sec\n",
      "EvaluatorHoldout: Processed 35578 (100.0%) in 10.82 sec. Users per second: 3287\n",
      "Similarity column 38121 (100.0%), 4826.07 column/sec. Elapsed time 7.90 sec\n",
      "EvaluatorHoldout: Processed 35563 (100.0%) in 10.73 sec. Users per second: 3314\n",
      "Similarity column 38121 (100.0%), 4814.63 column/sec. Elapsed time 7.92 sec\n",
      "EvaluatorHoldout: Processed 35560 (100.0%) in 10.55 sec. Users per second: 3372\n"
     ]
    },
    {
     "name": "stderr",
     "output_type": "stream",
     "text": [
      "[I 2024-11-28 17:30:52,478] Trial 37 finished with value: 0.05252193517247898 and parameters: {'similarity': 'asymmetric', 'topK': 12, 'shrink': 9, 'asymmetric_alpha': 0.13595772135350698}. Best is trial 24 with value: 0.054751337198370366.\n"
     ]
    },
    {
     "name": "stdout",
     "output_type": "stream",
     "text": [
      "Similarity column 38121 (100.0%), 5021.05 column/sec. Elapsed time 7.59 sec\n",
      "EvaluatorHoldout: Processed 35569 (100.0%) in 11.66 sec. Users per second: 3050\n",
      "Similarity column 38121 (100.0%), 5060.05 column/sec. Elapsed time 7.53 sec\n",
      "EvaluatorHoldout: Processed 35581 (100.0%) in 11.54 sec. Users per second: 3085\n",
      "Similarity column 38121 (100.0%), 5052.76 column/sec. Elapsed time 7.54 sec\n",
      "EvaluatorHoldout: Processed 35569 (100.0%) in 11.59 sec. Users per second: 3070\n",
      "Similarity column 38121 (100.0%), 5045.94 column/sec. Elapsed time 7.55 sec\n",
      "EvaluatorHoldout: Processed 35573 (100.0%) in 11.54 sec. Users per second: 3083\n",
      "Similarity column 38121 (100.0%), 5073.15 column/sec. Elapsed time 7.51 sec\n",
      "EvaluatorHoldout: Processed 35567 (100.0%) in 11.58 sec. Users per second: 3073\n",
      "Similarity column 38121 (100.0%), 5082.86 column/sec. Elapsed time 7.50 sec\n",
      "EvaluatorHoldout: Processed 35582 (100.0%) in 11.58 sec. Users per second: 3072\n",
      "Similarity column 38121 (100.0%), 5073.29 column/sec. Elapsed time 7.51 sec\n",
      "EvaluatorHoldout: Processed 35567 (100.0%) in 11.51 sec. Users per second: 3091\n",
      "Similarity column 38121 (100.0%), 5018.42 column/sec. Elapsed time 7.60 sec\n",
      "EvaluatorHoldout: Processed 35578 (100.0%) in 11.54 sec. Users per second: 3084\n",
      "Similarity column 38121 (100.0%), 5073.48 column/sec. Elapsed time 7.51 sec\n",
      "EvaluatorHoldout: Processed 35563 (100.0%) in 11.59 sec. Users per second: 3068\n",
      "Similarity column 38121 (100.0%), 5012.53 column/sec. Elapsed time 7.61 sec\n",
      "EvaluatorHoldout: Processed 35560 (100.0%) in 11.67 sec. Users per second: 3047\n"
     ]
    },
    {
     "name": "stderr",
     "output_type": "stream",
     "text": [
      "[I 2024-11-28 17:34:05,063] Trial 38 finished with value: 0.03997089893693652 and parameters: {'similarity': 'tversky', 'topK': 8, 'shrink': 28, 'tversky_alpha': 1.1228438201494293, 'tversky_beta': 0.005613701635930113}. Best is trial 24 with value: 0.054751337198370366.\n"
     ]
    },
    {
     "name": "stdout",
     "output_type": "stream",
     "text": [
      "Similarity column 38121 (100.0%), 4957.48 column/sec. Elapsed time 7.69 sec\n",
      "EvaluatorHoldout: Processed 35569 (100.0%) in 11.01 sec. Users per second: 3231\n",
      "Similarity column 38121 (100.0%), 5029.22 column/sec. Elapsed time 7.58 sec\n",
      "EvaluatorHoldout: Processed 35581 (100.0%) in 11.05 sec. Users per second: 3221\n",
      "Similarity column 38121 (100.0%), 4984.95 column/sec. Elapsed time 7.65 sec\n",
      "EvaluatorHoldout: Processed 35569 (100.0%) in 11.40 sec. Users per second: 3119\n",
      "Similarity column 38121 (100.0%), 4997.64 column/sec. Elapsed time 7.63 sec\n",
      "EvaluatorHoldout: Processed 35573 (100.0%) in 11.38 sec. Users per second: 3125\n",
      "Similarity column 38121 (100.0%), 4925.17 column/sec. Elapsed time 7.74 sec\n",
      "EvaluatorHoldout: Processed 35567 (100.0%) in 11.39 sec. Users per second: 3123\n",
      "Similarity column 38121 (100.0%), 4980.24 column/sec. Elapsed time 7.65 sec\n",
      "EvaluatorHoldout: Processed 35582 (100.0%) in 11.50 sec. Users per second: 3093\n",
      "Similarity column 38121 (100.0%), 4959.20 column/sec. Elapsed time 7.69 sec\n",
      "EvaluatorHoldout: Processed 35567 (100.0%) in 11.67 sec. Users per second: 3047\n",
      "Similarity column 38121 (100.0%), 4955.18 column/sec. Elapsed time 7.69 sec\n",
      "EvaluatorHoldout: Processed 35578 (100.0%) in 11.42 sec. Users per second: 3116\n",
      "Similarity column 38121 (100.0%), 5014.05 column/sec. Elapsed time 7.60 sec\n",
      "EvaluatorHoldout: Processed 35563 (100.0%) in 11.40 sec. Users per second: 3118\n",
      "Similarity column 38121 (100.0%), 4530.15 column/sec. Elapsed time 8.41 sec\n",
      "EvaluatorHoldout: Processed 35560 (100.0%) in 11.69 sec. Users per second: 3043\n"
     ]
    },
    {
     "name": "stderr",
     "output_type": "stream",
     "text": [
      "[I 2024-11-28 17:37:16,787] Trial 39 finished with value: 0.048643103621064956 and parameters: {'similarity': 'cosine', 'topK': 20, 'shrink': 11}. Best is trial 24 with value: 0.054751337198370366.\n"
     ]
    },
    {
     "name": "stdout",
     "output_type": "stream",
     "text": [
      "Similarity column 38121 (100.0%), 5088.17 column/sec. Elapsed time 7.49 sec\n",
      "EvaluatorHoldout: Processed 35569 (100.0%) in 10.50 sec. Users per second: 3388\n",
      "Similarity column 38121 (100.0%), 4942.56 column/sec. Elapsed time 7.71 sec\n",
      "EvaluatorHoldout: Processed 35581 (100.0%) in 10.50 sec. Users per second: 3390\n",
      "Similarity column 38121 (100.0%), 4999.84 column/sec. Elapsed time 7.62 sec\n",
      "EvaluatorHoldout: Processed 35569 (100.0%) in 10.57 sec. Users per second: 3364\n",
      "Similarity column 38121 (100.0%), 4957.30 column/sec. Elapsed time 7.69 sec\n",
      "EvaluatorHoldout: Processed 35573 (100.0%) in 9.97 sec. Users per second: 3568\n",
      "Similarity column 38121 (100.0%), 5171.03 column/sec. Elapsed time 7.37 sec\n",
      "EvaluatorHoldout: Processed 35567 (100.0%) in 9.98 sec. Users per second: 3564\n",
      "Similarity column 38121 (100.0%), 5166.58 column/sec. Elapsed time 7.38 sec\n",
      "EvaluatorHoldout: Processed 35582 (100.0%) in 9.94 sec. Users per second: 3578\n",
      "Similarity column 38121 (100.0%), 5108.59 column/sec. Elapsed time 7.46 sec\n",
      "EvaluatorHoldout: Processed 35567 (100.0%) in 9.93 sec. Users per second: 3581\n",
      "Similarity column 38121 (100.0%), 5198.56 column/sec. Elapsed time 7.33 sec\n",
      "EvaluatorHoldout: Processed 35578 (100.0%) in 9.96 sec. Users per second: 3573\n",
      "Similarity column 38121 (100.0%), 5132.07 column/sec. Elapsed time 7.43 sec\n",
      "EvaluatorHoldout: Processed 35563 (100.0%) in 10.31 sec. Users per second: 3450\n",
      "Similarity column 38121 (100.0%), 5001.33 column/sec. Elapsed time 7.62 sec\n",
      "EvaluatorHoldout: Processed 35560 (100.0%) in 10.07 sec. Users per second: 3532\n"
     ]
    },
    {
     "name": "stderr",
     "output_type": "stream",
     "text": [
      "[I 2024-11-28 17:40:14,919] Trial 40 finished with value: 0.05164858908764127 and parameters: {'similarity': 'jaccard', 'topK': 5, 'shrink': 26}. Best is trial 24 with value: 0.054751337198370366.\n"
     ]
    },
    {
     "name": "stdout",
     "output_type": "stream",
     "text": [
      "Similarity column 38121 (100.0%), 5010.52 column/sec. Elapsed time 7.61 sec\n",
      "EvaluatorHoldout: Processed 35569 (100.0%) in 9.85 sec. Users per second: 3613\n",
      "Similarity column 38121 (100.0%), 4991.31 column/sec. Elapsed time 7.64 sec\n",
      "EvaluatorHoldout: Processed 35581 (100.0%) in 10.03 sec. Users per second: 3546\n",
      "Similarity column 38121 (100.0%), 4956.34 column/sec. Elapsed time 7.69 sec\n",
      "EvaluatorHoldout: Processed 35569 (100.0%) in 10.37 sec. Users per second: 3431\n",
      "Similarity column 38121 (100.0%), 4894.28 column/sec. Elapsed time 7.79 sec\n",
      "EvaluatorHoldout: Processed 35573 (100.0%) in 9.97 sec. Users per second: 3568\n",
      "Similarity column 38121 (100.0%), 4981.34 column/sec. Elapsed time 7.65 sec\n",
      "EvaluatorHoldout: Processed 35567 (100.0%) in 10.04 sec. Users per second: 3543\n",
      "Similarity column 38121 (100.0%), 4990.29 column/sec. Elapsed time 7.64 sec\n",
      "EvaluatorHoldout: Processed 35582 (100.0%) in 9.95 sec. Users per second: 3575\n",
      "Similarity column 38121 (100.0%), 4938.98 column/sec. Elapsed time 7.72 sec\n",
      "EvaluatorHoldout: Processed 35567 (100.0%) in 9.91 sec. Users per second: 3588\n",
      "Similarity column 38121 (100.0%), 4975.83 column/sec. Elapsed time 7.66 sec\n",
      "EvaluatorHoldout: Processed 35578 (100.0%) in 10.02 sec. Users per second: 3550\n",
      "Similarity column 38121 (100.0%), 4985.51 column/sec. Elapsed time 7.65 sec\n",
      "EvaluatorHoldout: Processed 35563 (100.0%) in 9.95 sec. Users per second: 3574\n",
      "Similarity column 38121 (100.0%), 4946.32 column/sec. Elapsed time 7.71 sec\n",
      "EvaluatorHoldout: Processed 35560 (100.0%) in 9.97 sec. Users per second: 3565\n"
     ]
    },
    {
     "name": "stderr",
     "output_type": "stream",
     "text": [
      "[I 2024-11-28 17:43:12,151] Trial 41 finished with value: 0.054669660983334166 and parameters: {'similarity': 'asymmetric', 'topK': 5, 'shrink': 7, 'asymmetric_alpha': 0.11224150432901596}. Best is trial 24 with value: 0.054751337198370366.\n"
     ]
    },
    {
     "name": "stdout",
     "output_type": "stream",
     "text": [
      "Similarity column 38121 (100.0%), 4768.51 column/sec. Elapsed time 7.99 sec\n",
      "EvaluatorHoldout: Processed 35569 (100.0%) in 10.21 sec. Users per second: 3484\n",
      "Similarity column 38121 (100.0%), 4974.16 column/sec. Elapsed time 7.66 sec\n",
      "EvaluatorHoldout: Processed 35581 (100.0%) in 10.03 sec. Users per second: 3548\n",
      "Similarity column 38121 (100.0%), 4951.14 column/sec. Elapsed time 7.70 sec\n",
      "EvaluatorHoldout: Processed 35569 (100.0%) in 9.98 sec. Users per second: 3565\n",
      "Similarity column 38121 (100.0%), 4983.69 column/sec. Elapsed time 7.65 sec\n",
      "EvaluatorHoldout: Processed 35573 (100.0%) in 10.42 sec. Users per second: 3413\n",
      "Similarity column 38121 (100.0%), 4690.54 column/sec. Elapsed time 8.13 sec\n",
      "EvaluatorHoldout: Processed 35567 (100.0%) in 10.33 sec. Users per second: 3443\n",
      "Similarity column 38121 (100.0%), 4943.31 column/sec. Elapsed time 7.71 sec\n",
      "EvaluatorHoldout: Processed 35582 (100.0%) in 10.59 sec. Users per second: 3359\n",
      "Similarity column 38121 (100.0%), 4808.60 column/sec. Elapsed time 7.93 sec\n",
      "EvaluatorHoldout: Processed 35567 (100.0%) in 10.42 sec. Users per second: 3414\n",
      "Similarity column 38121 (100.0%), 4772.47 column/sec. Elapsed time 7.99 sec\n",
      "EvaluatorHoldout: Processed 35578 (100.0%) in 10.44 sec. Users per second: 3407\n",
      "Similarity column 38121 (100.0%), 4761.24 column/sec. Elapsed time 8.01 sec\n",
      "EvaluatorHoldout: Processed 35563 (100.0%) in 10.60 sec. Users per second: 3356\n",
      "Similarity column 38121 (100.0%), 4886.81 column/sec. Elapsed time 7.80 sec\n",
      "EvaluatorHoldout: Processed 35560 (100.0%) in 10.45 sec. Users per second: 3402\n"
     ]
    },
    {
     "name": "stderr",
     "output_type": "stream",
     "text": [
      "[I 2024-11-28 17:46:14,616] Trial 42 finished with value: 0.05439284175247172 and parameters: {'similarity': 'asymmetric', 'topK': 6, 'shrink': 8, 'asymmetric_alpha': 0.11835377300192301}. Best is trial 24 with value: 0.054751337198370366.\n"
     ]
    },
    {
     "name": "stdout",
     "output_type": "stream",
     "text": [
      "Similarity column 38121 (100.0%), 4811.79 column/sec. Elapsed time 7.92 sec\n",
      "EvaluatorHoldout: Processed 35569 (100.0%) in 10.78 sec. Users per second: 3300\n",
      "Similarity column 38121 (100.0%), 4809.77 column/sec. Elapsed time 7.93 sec\n",
      "EvaluatorHoldout: Processed 35581 (100.0%) in 10.18 sec. Users per second: 3496\n",
      "Similarity column 38121 (100.0%), 4842.51 column/sec. Elapsed time 7.87 sec\n",
      "EvaluatorHoldout: Processed 35569 (100.0%) in 10.71 sec. Users per second: 3320\n",
      "Similarity column 38121 (100.0%), 4742.39 column/sec. Elapsed time 8.04 sec\n",
      "EvaluatorHoldout: Processed 35573 (100.0%) in 10.20 sec. Users per second: 3487\n",
      "Similarity column 38121 (100.0%), 4563.69 column/sec. Elapsed time 8.35 sec\n",
      "EvaluatorHoldout: Processed 35567 (100.0%) in 10.15 sec. Users per second: 3504\n",
      "Similarity column 38121 (100.0%), 4628.00 column/sec. Elapsed time 8.24 sec\n",
      "EvaluatorHoldout: Processed 35582 (100.0%) in 10.63 sec. Users per second: 3346\n",
      "Similarity column 38121 (100.0%), 4696.81 column/sec. Elapsed time 8.12 sec\n",
      "EvaluatorHoldout: Processed 35567 (100.0%) in 10.50 sec. Users per second: 3387\n",
      "Similarity column 38121 (100.0%), 4807.88 column/sec. Elapsed time 7.93 sec\n",
      "EvaluatorHoldout: Processed 35578 (100.0%) in 10.40 sec. Users per second: 3422\n",
      "Similarity column 38121 (100.0%), 4755.37 column/sec. Elapsed time 8.02 sec\n",
      "EvaluatorHoldout: Processed 35563 (100.0%) in 10.51 sec. Users per second: 3384\n",
      "Similarity column 38121 (100.0%), 4718.56 column/sec. Elapsed time 8.08 sec\n",
      "EvaluatorHoldout: Processed 35560 (100.0%) in 10.50 sec. Users per second: 3388\n"
     ]
    },
    {
     "name": "stderr",
     "output_type": "stream",
     "text": [
      "[I 2024-11-28 17:49:20,120] Trial 43 finished with value: 0.05419592615030949 and parameters: {'similarity': 'asymmetric', 'topK': 5, 'shrink': 4, 'asymmetric_alpha': 0.10017735262305613}. Best is trial 24 with value: 0.054751337198370366.\n"
     ]
    },
    {
     "name": "stdout",
     "output_type": "stream",
     "text": [
      "Similarity column 38121 (100.0%), 4722.95 column/sec. Elapsed time 8.07 sec\n",
      "EvaluatorHoldout: Processed 35569 (100.0%) in 10.51 sec. Users per second: 3383\n",
      "Similarity column 38121 (100.0%), 4739.93 column/sec. Elapsed time 8.04 sec\n",
      "EvaluatorHoldout: Processed 35581 (100.0%) in 10.61 sec. Users per second: 3353\n",
      "Similarity column 38121 (100.0%), 4623.92 column/sec. Elapsed time 8.24 sec\n",
      "EvaluatorHoldout: Processed 35569 (100.0%) in 10.59 sec. Users per second: 3357\n",
      "Similarity column 38121 (100.0%), 4768.74 column/sec. Elapsed time 7.99 sec\n",
      "EvaluatorHoldout: Processed 35573 (100.0%) in 10.55 sec. Users per second: 3371\n",
      "Similarity column 38121 (100.0%), 4740.50 column/sec. Elapsed time 8.04 sec\n",
      "EvaluatorHoldout: Processed 35567 (100.0%) in 10.85 sec. Users per second: 3277\n",
      "Similarity column 38121 (100.0%), 4543.69 column/sec. Elapsed time 8.39 sec\n",
      "EvaluatorHoldout: Processed 35582 (100.0%) in 10.86 sec. Users per second: 3277\n",
      "Similarity column 38121 (100.0%), 4785.70 column/sec. Elapsed time 7.97 sec\n",
      "EvaluatorHoldout: Processed 35567 (100.0%) in 10.08 sec. Users per second: 3528\n",
      "Similarity column 38121 (100.0%), 4736.58 column/sec. Elapsed time 8.05 sec\n",
      "EvaluatorHoldout: Processed 35578 (100.0%) in 10.63 sec. Users per second: 3346\n",
      "Similarity column 38121 (100.0%), 4802.95 column/sec. Elapsed time 7.94 sec\n",
      "EvaluatorHoldout: Processed 35563 (100.0%) in 10.42 sec. Users per second: 3413\n",
      "Similarity column 38121 (100.0%), 4779.34 column/sec. Elapsed time 7.98 sec\n",
      "EvaluatorHoldout: Processed 35560 (100.0%) in 10.48 sec. Users per second: 3393\n"
     ]
    },
    {
     "name": "stderr",
     "output_type": "stream",
     "text": [
      "[I 2024-11-28 17:52:26,951] Trial 44 finished with value: 0.054320377477089954 and parameters: {'similarity': 'asymmetric', 'topK': 6, 'shrink': 15, 'asymmetric_alpha': 0.138337723509633}. Best is trial 24 with value: 0.054751337198370366.\n"
     ]
    },
    {
     "name": "stdout",
     "output_type": "stream",
     "text": [
      "Similarity column 38121 (100.0%), 4816.46 column/sec. Elapsed time 7.91 sec\n",
      "EvaluatorHoldout: Processed 35569 (100.0%) in 10.50 sec. Users per second: 3388\n",
      "Similarity column 38121 (100.0%), 4790.20 column/sec. Elapsed time 7.96 sec\n",
      "EvaluatorHoldout: Processed 35581 (100.0%) in 10.68 sec. Users per second: 3330\n",
      "Similarity column 38121 (100.0%), 4750.24 column/sec. Elapsed time 8.03 sec\n",
      "EvaluatorHoldout: Processed 35569 (100.0%) in 10.46 sec. Users per second: 3401\n",
      "Similarity column 38121 (100.0%), 4795.60 column/sec. Elapsed time 7.95 sec\n",
      "EvaluatorHoldout: Processed 35573 (100.0%) in 10.43 sec. Users per second: 3411\n",
      "Similarity column 38121 (100.0%), 4710.50 column/sec. Elapsed time 8.09 sec\n",
      "EvaluatorHoldout: Processed 35567 (100.0%) in 10.65 sec. Users per second: 3339\n",
      "Similarity column 38121 (100.0%), 4801.07 column/sec. Elapsed time 7.94 sec\n",
      "EvaluatorHoldout: Processed 35582 (100.0%) in 10.46 sec. Users per second: 3403\n",
      "Similarity column 38121 (100.0%), 4784.07 column/sec. Elapsed time 7.97 sec\n",
      "EvaluatorHoldout: Processed 35567 (100.0%) in 10.48 sec. Users per second: 3394\n",
      "Similarity column 38121 (100.0%), 4781.34 column/sec. Elapsed time 7.97 sec\n",
      "EvaluatorHoldout: Processed 35578 (100.0%) in 10.53 sec. Users per second: 3380\n",
      "Similarity column 38121 (100.0%), 4794.72 column/sec. Elapsed time 7.95 sec\n",
      "EvaluatorHoldout: Processed 35563 (100.0%) in 10.56 sec. Users per second: 3367\n",
      "Similarity column 38121 (100.0%), 4822.96 column/sec. Elapsed time 7.90 sec\n",
      "EvaluatorHoldout: Processed 35560 (100.0%) in 10.47 sec. Users per second: 3395\n"
     ]
    },
    {
     "name": "stderr",
     "output_type": "stream",
     "text": [
      "[I 2024-11-28 17:55:32,277] Trial 45 finished with value: 0.05304435719216564 and parameters: {'similarity': 'asymmetric', 'topK': 7, 'shrink': 1, 'asymmetric_alpha': 0.12315099080268847}. Best is trial 24 with value: 0.054751337198370366.\n"
     ]
    },
    {
     "name": "stdout",
     "output_type": "stream",
     "text": [
      "Similarity column 38121 (100.0%), 4810.63 column/sec. Elapsed time 7.92 sec\n",
      "EvaluatorHoldout: Processed 35569 (100.0%) in 10.45 sec. Users per second: 3404\n",
      "Similarity column 38121 (100.0%), 4799.09 column/sec. Elapsed time 7.94 sec\n",
      "EvaluatorHoldout: Processed 35581 (100.0%) in 10.53 sec. Users per second: 3380\n",
      "Similarity column 38121 (100.0%), 4712.98 column/sec. Elapsed time 8.09 sec\n",
      "EvaluatorHoldout: Processed 35569 (100.0%) in 10.62 sec. Users per second: 3349\n",
      "Similarity column 38121 (100.0%), 4739.72 column/sec. Elapsed time 8.04 sec\n",
      "EvaluatorHoldout: Processed 35573 (100.0%) in 10.45 sec. Users per second: 3405\n",
      "Similarity column 38121 (100.0%), 4767.98 column/sec. Elapsed time 8.00 sec\n",
      "EvaluatorHoldout: Processed 35567 (100.0%) in 10.48 sec. Users per second: 3394\n",
      "Similarity column 38121 (100.0%), 4776.16 column/sec. Elapsed time 7.98 sec\n",
      "EvaluatorHoldout: Processed 35582 (100.0%) in 10.43 sec. Users per second: 3412\n",
      "Similarity column 38121 (100.0%), 4734.61 column/sec. Elapsed time 8.05 sec\n",
      "EvaluatorHoldout: Processed 35567 (100.0%) in 10.45 sec. Users per second: 3402\n",
      "Similarity column 38121 (100.0%), 4726.06 column/sec. Elapsed time 8.07 sec\n",
      "EvaluatorHoldout: Processed 35578 (100.0%) in 10.42 sec. Users per second: 3413\n",
      "Similarity column 38121 (100.0%), 4764.57 column/sec. Elapsed time 8.00 sec\n",
      "EvaluatorHoldout: Processed 35563 (100.0%) in 10.48 sec. Users per second: 3393\n",
      "Similarity column 38121 (100.0%), 4776.28 column/sec. Elapsed time 7.98 sec\n",
      "EvaluatorHoldout: Processed 35560 (100.0%) in 10.50 sec. Users per second: 3385\n"
     ]
    },
    {
     "name": "stderr",
     "output_type": "stream",
     "text": [
      "[I 2024-11-28 17:58:37,618] Trial 46 finished with value: 0.05475140053738076 and parameters: {'similarity': 'asymmetric', 'topK': 5, 'shrink': 11, 'asymmetric_alpha': 0.1359659814099829}. Best is trial 46 with value: 0.05475140053738076.\n"
     ]
    },
    {
     "name": "stdout",
     "output_type": "stream",
     "text": [
      "Similarity column 38121 (100.0%), 4683.40 column/sec. Elapsed time 8.14 sec\n",
      "EvaluatorHoldout: Processed 35569 (100.0%) in 10.98 sec. Users per second: 3238\n",
      "Similarity column 38121 (100.0%), 4627.55 column/sec. Elapsed time 8.24 sec\n",
      "EvaluatorHoldout: Processed 35581 (100.0%) in 10.81 sec. Users per second: 3293\n",
      "Similarity column 38121 (100.0%), 4740.70 column/sec. Elapsed time 8.04 sec\n",
      "EvaluatorHoldout: Processed 35569 (100.0%) in 10.71 sec. Users per second: 3321\n",
      "Similarity column 38121 (100.0%), 4723.45 column/sec. Elapsed time 8.07 sec\n",
      "EvaluatorHoldout: Processed 35573 (100.0%) in 11.02 sec. Users per second: 3227\n",
      "Similarity column 38121 (100.0%), 4713.33 column/sec. Elapsed time 8.09 sec\n",
      "EvaluatorHoldout: Processed 35567 (100.0%) in 10.75 sec. Users per second: 3307\n",
      "Similarity column 38121 (100.0%), 4774.59 column/sec. Elapsed time 7.98 sec\n",
      "EvaluatorHoldout: Processed 35582 (100.0%) in 10.68 sec. Users per second: 3333\n",
      "Similarity column 38121 (100.0%), 4648.20 column/sec. Elapsed time 8.20 sec\n",
      "EvaluatorHoldout: Processed 35567 (100.0%) in 10.90 sec. Users per second: 3263\n",
      "Similarity column 38121 (100.0%), 4721.68 column/sec. Elapsed time 8.07 sec\n",
      "EvaluatorHoldout: Processed 35578 (100.0%) in 10.72 sec. Users per second: 3318\n",
      "Similarity column 38121 (100.0%), 4653.70 column/sec. Elapsed time 8.19 sec\n",
      "EvaluatorHoldout: Processed 35563 (100.0%) in 10.60 sec. Users per second: 3354\n",
      "Similarity column 38121 (100.0%), 4804.21 column/sec. Elapsed time 7.93 sec\n",
      "EvaluatorHoldout: Processed 35560 (100.0%) in 10.63 sec. Users per second: 3346\n"
     ]
    },
    {
     "name": "stderr",
     "output_type": "stream",
     "text": [
      "[I 2024-11-28 18:01:46,907] Trial 47 finished with value: 0.05234995632318701 and parameters: {'similarity': 'asymmetric', 'topK': 13, 'shrink': 12, 'asymmetric_alpha': 0.13867999322144448}. Best is trial 46 with value: 0.05475140053738076.\n"
     ]
    },
    {
     "name": "stdout",
     "output_type": "stream",
     "text": [
      "Similarity column 38121 (100.0%), 4642.13 column/sec. Elapsed time 8.21 sec\n",
      "EvaluatorHoldout: Processed 35569 (100.0%) in 10.43 sec. Users per second: 3410\n",
      "Similarity column 38121 (100.0%), 4761.66 column/sec. Elapsed time 8.01 sec\n",
      "EvaluatorHoldout: Processed 35581 (100.0%) in 10.51 sec. Users per second: 3385\n",
      "Similarity column 38121 (100.0%), 4741.94 column/sec. Elapsed time 8.04 sec\n",
      "EvaluatorHoldout: Processed 35569 (100.0%) in 10.51 sec. Users per second: 3386\n",
      "Similarity column 38121 (100.0%), 4729.65 column/sec. Elapsed time 8.06 sec\n",
      "EvaluatorHoldout: Processed 35573 (100.0%) in 10.52 sec. Users per second: 3382\n",
      "Similarity column 38121 (100.0%), 4729.62 column/sec. Elapsed time 8.06 sec\n",
      "EvaluatorHoldout: Processed 35567 (100.0%) in 10.86 sec. Users per second: 3274\n",
      "Similarity column 38121 (100.0%), 4760.34 column/sec. Elapsed time 8.01 sec\n",
      "EvaluatorHoldout: Processed 35582 (100.0%) in 10.60 sec. Users per second: 3358\n",
      "Similarity column 38121 (100.0%), 4745.85 column/sec. Elapsed time 8.03 sec\n",
      "EvaluatorHoldout: Processed 35567 (100.0%) in 10.58 sec. Users per second: 3362\n",
      "Similarity column 38121 (100.0%), 4752.18 column/sec. Elapsed time 8.02 sec\n",
      "EvaluatorHoldout: Processed 35578 (100.0%) in 10.59 sec. Users per second: 3359\n",
      "Similarity column 38121 (100.0%), 4759.21 column/sec. Elapsed time 8.01 sec\n",
      "EvaluatorHoldout: Processed 35563 (100.0%) in 10.70 sec. Users per second: 3324\n",
      "Similarity column 38121 (100.0%), 4766.15 column/sec. Elapsed time 8.00 sec\n",
      "EvaluatorHoldout: Processed 35560 (100.0%) in 10.54 sec. Users per second: 3372\n"
     ]
    },
    {
     "name": "stderr",
     "output_type": "stream",
     "text": [
      "[I 2024-11-28 18:04:53,643] Trial 48 finished with value: 0.05391805095827581 and parameters: {'similarity': 'asymmetric', 'topK': 7, 'shrink': 16, 'asymmetric_alpha': 0.13766938106446422}. Best is trial 46 with value: 0.05475140053738076.\n"
     ]
    },
    {
     "name": "stdout",
     "output_type": "stream",
     "text": [
      "Similarity column 38121 (100.0%), 4840.90 column/sec. Elapsed time 7.87 sec\n",
      "EvaluatorHoldout: Processed 35569 (100.0%) in 10.99 sec. Users per second: 3236\n",
      "Similarity column 38121 (100.0%), 4692.09 column/sec. Elapsed time 8.12 sec\n",
      "EvaluatorHoldout: Processed 35581 (100.0%) in 11.03 sec. Users per second: 3225\n",
      "Similarity column 38121 (100.0%), 4801.86 column/sec. Elapsed time 7.94 sec\n",
      "EvaluatorHoldout: Processed 35569 (100.0%) in 10.97 sec. Users per second: 3242\n",
      "Similarity column 38121 (100.0%), 4919.01 column/sec. Elapsed time 7.75 sec\n",
      "EvaluatorHoldout: Processed 35573 (100.0%) in 10.80 sec. Users per second: 3295\n",
      "Similarity column 38121 (100.0%), 4916.94 column/sec. Elapsed time 7.75 sec\n",
      "EvaluatorHoldout: Processed 35567 (100.0%) in 11.59 sec. Users per second: 3069\n",
      "Similarity column 38121 (100.0%), 4835.68 column/sec. Elapsed time 7.88 sec\n",
      "EvaluatorHoldout: Processed 35582 (100.0%) in 11.02 sec. Users per second: 3229\n",
      "Similarity column 38121 (100.0%), 4910.43 column/sec. Elapsed time 7.76 sec\n",
      "EvaluatorHoldout: Processed 35567 (100.0%) in 10.74 sec. Users per second: 3312\n",
      "Similarity column 38121 (100.0%), 4868.65 column/sec. Elapsed time 7.83 sec\n",
      "EvaluatorHoldout: Processed 35578 (100.0%) in 10.72 sec. Users per second: 3320\n",
      "Similarity column 38121 (100.0%), 4879.36 column/sec. Elapsed time 7.81 sec\n",
      "EvaluatorHoldout: Processed 35563 (100.0%) in 10.85 sec. Users per second: 3277\n",
      "Similarity column 38121 (100.0%), 4904.13 column/sec. Elapsed time 7.77 sec\n",
      "EvaluatorHoldout: Processed 35560 (100.0%) in 10.77 sec. Users per second: 3302\n"
     ]
    },
    {
     "name": "stderr",
     "output_type": "stream",
     "text": [
      "[I 2024-11-28 18:08:02,081] Trial 49 finished with value: 0.0507211723932392 and parameters: {'similarity': 'cosine', 'topK': 8, 'shrink': 11}. Best is trial 46 with value: 0.05475140053738076.\n"
     ]
    },
    {
     "name": "stdout",
     "output_type": "stream",
     "text": [
      "Similarity column 38121 (100.0%), 5047.03 column/sec. Elapsed time 7.55 sec\n",
      "EvaluatorHoldout: Processed 35569 (100.0%) in 10.49 sec. Users per second: 3392\n",
      "Similarity column 38121 (100.0%), 5009.18 column/sec. Elapsed time 7.61 sec\n",
      "EvaluatorHoldout: Processed 35581 (100.0%) in 10.49 sec. Users per second: 3392\n",
      "Similarity column 38121 (100.0%), 5036.56 column/sec. Elapsed time 7.57 sec\n",
      "EvaluatorHoldout: Processed 35569 (100.0%) in 10.62 sec. Users per second: 3351\n",
      "Similarity column 38121 (100.0%), 5039.26 column/sec. Elapsed time 7.56 sec\n",
      "EvaluatorHoldout: Processed 35573 (100.0%) in 10.60 sec. Users per second: 3354\n",
      "Similarity column 38121 (100.0%), 5035.00 column/sec. Elapsed time 7.57 sec\n",
      "EvaluatorHoldout: Processed 35567 (100.0%) in 10.49 sec. Users per second: 3392\n",
      "Similarity column 38121 (100.0%), 5033.25 column/sec. Elapsed time 7.57 sec\n",
      "EvaluatorHoldout: Processed 35582 (100.0%) in 10.58 sec. Users per second: 3364\n",
      "Similarity column 38121 (100.0%), 5033.42 column/sec. Elapsed time 7.57 sec\n",
      "EvaluatorHoldout: Processed 35567 (100.0%) in 10.71 sec. Users per second: 3320\n",
      "Similarity column 38121 (100.0%), 5016.75 column/sec. Elapsed time 7.60 sec\n",
      "EvaluatorHoldout: Processed 35578 (100.0%) in 10.80 sec. Users per second: 3295\n",
      "Similarity column 38121 (100.0%), 5056.83 column/sec. Elapsed time 7.54 sec\n",
      "EvaluatorHoldout: Processed 35563 (100.0%) in 10.33 sec. Users per second: 3443\n",
      "Similarity column 38121 (100.0%), 5013.11 column/sec. Elapsed time 7.60 sec\n",
      "EvaluatorHoldout: Processed 35560 (100.0%) in 10.43 sec. Users per second: 3408\n"
     ]
    },
    {
     "name": "stderr",
     "output_type": "stream",
     "text": [
      "[I 2024-11-28 18:11:04,738] Trial 50 finished with value: 0.05178881308808446 and parameters: {'similarity': 'dice', 'topK': 5, 'shrink': 14}. Best is trial 46 with value: 0.05475140053738076.\n"
     ]
    },
    {
     "name": "stdout",
     "output_type": "stream",
     "text": [
      "Similarity column 38121 (100.0%), 4763.03 column/sec. Elapsed time 8.00 sec\n",
      "EvaluatorHoldout: Processed 35569 (100.0%) in 10.45 sec. Users per second: 3404\n",
      "Similarity column 38121 (100.0%), 4760.15 column/sec. Elapsed time 8.01 sec\n",
      "EvaluatorHoldout: Processed 35581 (100.0%) in 10.48 sec. Users per second: 3394\n",
      "Similarity column 38121 (100.0%), 4763.90 column/sec. Elapsed time 8.00 sec\n",
      "EvaluatorHoldout: Processed 35569 (100.0%) in 10.63 sec. Users per second: 3346\n",
      "Similarity column 38121 (100.0%), 4743.99 column/sec. Elapsed time 8.04 sec\n",
      "EvaluatorHoldout: Processed 35573 (100.0%) in 10.61 sec. Users per second: 3354\n",
      "Similarity column 38121 (100.0%), 4766.17 column/sec. Elapsed time 8.00 sec\n",
      "EvaluatorHoldout: Processed 35567 (100.0%) in 10.49 sec. Users per second: 3389\n",
      "Similarity column 38121 (100.0%), 4776.29 column/sec. Elapsed time 7.98 sec\n",
      "EvaluatorHoldout: Processed 35582 (100.0%) in 10.51 sec. Users per second: 3386\n",
      "Similarity column 38121 (100.0%), 4752.34 column/sec. Elapsed time 8.02 sec\n",
      "EvaluatorHoldout: Processed 35567 (100.0%) in 10.43 sec. Users per second: 3409\n",
      "Similarity column 38121 (100.0%), 4721.93 column/sec. Elapsed time 8.07 sec\n",
      "EvaluatorHoldout: Processed 35578 (100.0%) in 10.52 sec. Users per second: 3383\n",
      "Similarity column 38121 (100.0%), 4518.88 column/sec. Elapsed time 8.44 sec\n",
      "EvaluatorHoldout: Processed 35563 (100.0%) in 10.97 sec. Users per second: 3243\n",
      "Similarity column 38121 (100.0%), 4729.77 column/sec. Elapsed time 8.06 sec\n",
      "EvaluatorHoldout: Processed 35560 (100.0%) in 10.89 sec. Users per second: 3266\n"
     ]
    },
    {
     "name": "stderr",
     "output_type": "stream",
     "text": [
      "[I 2024-11-28 18:14:11,787] Trial 51 finished with value: 0.05469887852907335 and parameters: {'similarity': 'asymmetric', 'topK': 5, 'shrink': 8, 'asymmetric_alpha': 0.12959265912411697}. Best is trial 46 with value: 0.05475140053738076.\n"
     ]
    },
    {
     "name": "stdout",
     "output_type": "stream",
     "text": [
      "Similarity column 38121 (100.0%), 4745.76 column/sec. Elapsed time 8.03 sec\n",
      "EvaluatorHoldout: Processed 35569 (100.0%) in 10.53 sec. Users per second: 3378\n",
      "Similarity column 38121 (100.0%), 4734.92 column/sec. Elapsed time 8.05 sec\n",
      "EvaluatorHoldout: Processed 35581 (100.0%) in 10.66 sec. Users per second: 3337\n",
      "Similarity column 38121 (100.0%), 4754.53 column/sec. Elapsed time 8.02 sec\n",
      "EvaluatorHoldout: Processed 35569 (100.0%) in 10.71 sec. Users per second: 3321\n",
      "Similarity column 38121 (100.0%), 4782.16 column/sec. Elapsed time 7.97 sec\n",
      "EvaluatorHoldout: Processed 35573 (100.0%) in 10.59 sec. Users per second: 3360\n",
      "Similarity column 38121 (100.0%), 4749.36 column/sec. Elapsed time 8.03 sec\n",
      "EvaluatorHoldout: Processed 35567 (100.0%) in 10.92 sec. Users per second: 3258\n",
      "Similarity column 38121 (100.0%), 4688.77 column/sec. Elapsed time 8.13 sec\n",
      "EvaluatorHoldout: Processed 35582 (100.0%) in 10.37 sec. Users per second: 3431\n",
      "Similarity column 38121 (100.0%), 4720.96 column/sec. Elapsed time 8.07 sec\n",
      "EvaluatorHoldout: Processed 35567 (100.0%) in 10.67 sec. Users per second: 3335\n",
      "Similarity column 38121 (100.0%), 4603.49 column/sec. Elapsed time 8.28 sec\n",
      "EvaluatorHoldout: Processed 35578 (100.0%) in 10.39 sec. Users per second: 3425\n",
      "Similarity column 38121 (100.0%), 4760.25 column/sec. Elapsed time 8.01 sec\n",
      "EvaluatorHoldout: Processed 35563 (100.0%) in 10.77 sec. Users per second: 3302\n",
      "Similarity column 38121 (100.0%), 4753.88 column/sec. Elapsed time 8.02 sec\n",
      "EvaluatorHoldout: Processed 35560 (100.0%) in 10.46 sec. Users per second: 3400\n"
     ]
    },
    {
     "name": "stderr",
     "output_type": "stream",
     "text": [
      "[I 2024-11-28 18:17:18,908] Trial 52 finished with value: 0.05442241750038211 and parameters: {'similarity': 'asymmetric', 'topK': 6, 'shrink': 9, 'asymmetric_alpha': 0.12810173606249184}. Best is trial 46 with value: 0.05475140053738076.\n"
     ]
    },
    {
     "name": "stdout",
     "output_type": "stream",
     "text": [
      "Similarity column 38121 (100.0%), 4727.03 column/sec. Elapsed time 8.06 sec\n",
      "EvaluatorHoldout: Processed 35569 (100.0%) in 10.43 sec. Users per second: 3409\n",
      "Similarity column 38121 (100.0%), 4667.48 column/sec. Elapsed time 8.17 sec\n",
      "EvaluatorHoldout: Processed 35581 (100.0%) in 10.68 sec. Users per second: 3332\n",
      "Similarity column 38121 (100.0%), 4686.87 column/sec. Elapsed time 8.13 sec\n",
      "EvaluatorHoldout: Processed 35569 (100.0%) in 10.58 sec. Users per second: 3362\n",
      "Similarity column 38121 (100.0%), 4738.94 column/sec. Elapsed time 8.04 sec\n",
      "EvaluatorHoldout: Processed 35573 (100.0%) in 10.43 sec. Users per second: 3411\n",
      "Similarity column 38121 (100.0%), 4614.03 column/sec. Elapsed time 8.26 sec\n",
      "EvaluatorHoldout: Processed 35567 (100.0%) in 10.67 sec. Users per second: 3333\n",
      "Similarity column 38121 (100.0%), 4794.55 column/sec. Elapsed time 7.95 sec\n",
      "EvaluatorHoldout: Processed 35582 (100.0%) in 10.48 sec. Users per second: 3395\n",
      "Similarity column 38121 (100.0%), 4755.33 column/sec. Elapsed time 8.02 sec\n",
      "EvaluatorHoldout: Processed 35567 (100.0%) in 10.42 sec. Users per second: 3412\n",
      "Similarity column 38121 (100.0%), 4755.69 column/sec. Elapsed time 8.02 sec\n",
      "EvaluatorHoldout: Processed 35578 (100.0%) in 10.43 sec. Users per second: 3410\n",
      "Similarity column 38121 (100.0%), 4796.21 column/sec. Elapsed time 7.95 sec\n",
      "EvaluatorHoldout: Processed 35563 (100.0%) in 10.72 sec. Users per second: 3317\n",
      "Similarity column 38121 (100.0%), 4680.50 column/sec. Elapsed time 8.14 sec\n",
      "EvaluatorHoldout: Processed 35560 (100.0%) in 10.48 sec. Users per second: 3393\n"
     ]
    },
    {
     "name": "stderr",
     "output_type": "stream",
     "text": [
      "[I 2024-11-28 18:20:25,433] Trial 53 finished with value: 0.05474848353760371 and parameters: {'similarity': 'asymmetric', 'topK': 5, 'shrink': 11, 'asymmetric_alpha': 0.14120831205968126}. Best is trial 46 with value: 0.05475140053738076.\n"
     ]
    },
    {
     "name": "stdout",
     "output_type": "stream",
     "text": [
      "Similarity column 38121 (100.0%), 4789.97 column/sec. Elapsed time 7.96 sec\n",
      "EvaluatorHoldout: Processed 35569 (100.0%) in 10.44 sec. Users per second: 3407\n",
      "Similarity column 38121 (100.0%), 4785.49 column/sec. Elapsed time 7.97 sec\n",
      "EvaluatorHoldout: Processed 35581 (100.0%) in 10.50 sec. Users per second: 3389\n",
      "Similarity column 38121 (100.0%), 4746.06 column/sec. Elapsed time 8.03 sec\n",
      "EvaluatorHoldout: Processed 35569 (100.0%) in 10.47 sec. Users per second: 3398\n",
      "Similarity column 38121 (100.0%), 4732.63 column/sec. Elapsed time 8.05 sec\n",
      "EvaluatorHoldout: Processed 35573 (100.0%) in 10.67 sec. Users per second: 3333\n",
      "Similarity column 38121 (100.0%), 4784.13 column/sec. Elapsed time 7.97 sec\n",
      "EvaluatorHoldout: Processed 35567 (100.0%) in 10.39 sec. Users per second: 3423\n",
      "Similarity column 38121 (100.0%), 4756.80 column/sec. Elapsed time 8.01 sec\n",
      "EvaluatorHoldout: Processed 35582 (100.0%) in 10.40 sec. Users per second: 3422\n",
      "Similarity column 38121 (100.0%), 4610.65 column/sec. Elapsed time 8.27 sec\n",
      "EvaluatorHoldout: Processed 35567 (100.0%) in 10.45 sec. Users per second: 3403\n",
      "Similarity column 38121 (100.0%), 4757.59 column/sec. Elapsed time 8.01 sec\n",
      "EvaluatorHoldout: Processed 35578 (100.0%) in 10.67 sec. Users per second: 3334\n",
      "Similarity column 38121 (100.0%), 4776.73 column/sec. Elapsed time 7.98 sec\n",
      "EvaluatorHoldout: Processed 35563 (100.0%) in 10.55 sec. Users per second: 3372\n",
      "Similarity column 38121 (100.0%), 4701.61 column/sec. Elapsed time 8.11 sec\n",
      "EvaluatorHoldout: Processed 35560 (100.0%) in 10.51 sec. Users per second: 3382\n"
     ]
    },
    {
     "name": "stderr",
     "output_type": "stream",
     "text": [
      "[I 2024-11-28 18:23:31,293] Trial 54 finished with value: 0.05441123901386179 and parameters: {'similarity': 'asymmetric', 'topK': 6, 'shrink': 11, 'asymmetric_alpha': 0.1498994725223724}. Best is trial 46 with value: 0.05475140053738076.\n"
     ]
    },
    {
     "name": "stdout",
     "output_type": "stream",
     "text": [
      "Similarity column 38121 (100.0%), 4779.41 column/sec. Elapsed time 7.98 sec\n",
      "EvaluatorHoldout: Processed 35569 (100.0%) in 10.58 sec. Users per second: 3361\n",
      "Similarity column 38121 (100.0%), 4730.23 column/sec. Elapsed time 8.06 sec\n",
      "EvaluatorHoldout: Processed 35581 (100.0%) in 10.20 sec. Users per second: 3488\n",
      "Similarity column 38121 (100.0%), 4632.46 column/sec. Elapsed time 8.23 sec\n",
      "EvaluatorHoldout: Processed 35569 (100.0%) in 10.68 sec. Users per second: 3331\n",
      "Similarity column 38121 (100.0%), 4728.36 column/sec. Elapsed time 8.06 sec\n",
      "EvaluatorHoldout: Processed 35573 (100.0%) in 10.55 sec. Users per second: 3373\n",
      "Similarity column 38121 (100.0%), 4658.20 column/sec. Elapsed time 8.18 sec\n",
      "EvaluatorHoldout: Processed 35567 (100.0%) in 10.79 sec. Users per second: 3297\n",
      "Similarity column 38121 (100.0%), 4874.05 column/sec. Elapsed time 7.82 sec\n",
      "EvaluatorHoldout: Processed 35582 (100.0%) in 10.56 sec. Users per second: 3370\n",
      "Similarity column 38121 (100.0%), 4731.04 column/sec. Elapsed time 8.06 sec\n",
      "EvaluatorHoldout: Processed 35567 (100.0%) in 10.69 sec. Users per second: 3328\n",
      "Similarity column 38121 (100.0%), 4734.48 column/sec. Elapsed time 8.05 sec\n",
      "EvaluatorHoldout: Processed 35578 (100.0%) in 10.58 sec. Users per second: 3363\n",
      "Similarity column 38121 (100.0%), 4788.64 column/sec. Elapsed time 7.96 sec\n",
      "EvaluatorHoldout: Processed 35563 (100.0%) in 10.79 sec. Users per second: 3296\n",
      "Similarity column 38121 (100.0%), 4759.47 column/sec. Elapsed time 8.01 sec\n",
      "EvaluatorHoldout: Processed 35560 (100.0%) in 10.76 sec. Users per second: 3306\n"
     ]
    },
    {
     "name": "stderr",
     "output_type": "stream",
     "text": [
      "[I 2024-11-28 18:26:38,310] Trial 55 finished with value: 0.05402270959743958 and parameters: {'similarity': 'asymmetric', 'topK': 7, 'shrink': 13, 'asymmetric_alpha': 0.14035042718746665}. Best is trial 46 with value: 0.05475140053738076.\n"
     ]
    },
    {
     "name": "stdout",
     "output_type": "stream",
     "text": [
      "Similarity column 38121 (100.0%), 4850.52 column/sec. Elapsed time 7.86 sec\n",
      "EvaluatorHoldout: Processed 35569 (100.0%) in 10.64 sec. Users per second: 3342\n",
      "Similarity column 38121 (100.0%), 4712.16 column/sec. Elapsed time 8.09 sec\n",
      "EvaluatorHoldout: Processed 35581 (100.0%) in 10.82 sec. Users per second: 3289\n",
      "Similarity column 38121 (100.0%), 4860.65 column/sec. Elapsed time 7.84 sec\n",
      "EvaluatorHoldout: Processed 35569 (100.0%) in 10.85 sec. Users per second: 3277\n",
      "Similarity column 38121 (100.0%), 4754.80 column/sec. Elapsed time 8.02 sec\n",
      "EvaluatorHoldout: Processed 35573 (100.0%) in 10.71 sec. Users per second: 3323\n",
      "Similarity column 38121 (100.0%), 4930.77 column/sec. Elapsed time 7.73 sec\n",
      "EvaluatorHoldout: Processed 35567 (100.0%) in 10.47 sec. Users per second: 3399\n",
      "Similarity column 38121 (100.0%), 4666.82 column/sec. Elapsed time 8.17 sec\n",
      "EvaluatorHoldout: Processed 35582 (100.0%) in 10.64 sec. Users per second: 3345\n",
      "Similarity column 38121 (100.0%), 4870.53 column/sec. Elapsed time 7.83 sec\n",
      "EvaluatorHoldout: Processed 35567 (100.0%) in 10.61 sec. Users per second: 3353\n",
      "Similarity column 38121 (100.0%), 4829.27 column/sec. Elapsed time 7.89 sec\n",
      "EvaluatorHoldout: Processed 35578 (100.0%) in 10.81 sec. Users per second: 3291\n",
      "Similarity column 38121 (100.0%), 4830.84 column/sec. Elapsed time 7.89 sec\n",
      "EvaluatorHoldout: Processed 35563 (100.0%) in 10.59 sec. Users per second: 3359\n",
      "Similarity column 38121 (100.0%), 4918.00 column/sec. Elapsed time 7.75 sec\n",
      "EvaluatorHoldout: Processed 35560 (100.0%) in 10.64 sec. Users per second: 3342\n"
     ]
    },
    {
     "name": "stderr",
     "output_type": "stream",
     "text": [
      "[I 2024-11-28 18:29:45,510] Trial 56 finished with value: 0.05182231659359378 and parameters: {'similarity': 'jaccard', 'topK': 5, 'shrink': 10}. Best is trial 46 with value: 0.05475140053738076.\n"
     ]
    },
    {
     "name": "stdout",
     "output_type": "stream",
     "text": [
      "Similarity column 38121 (100.0%), 4738.50 column/sec. Elapsed time 8.04 sec\n",
      "EvaluatorHoldout: Processed 35569 (100.0%) in 10.92 sec. Users per second: 3259\n",
      "Similarity column 38121 (100.0%), 4704.69 column/sec. Elapsed time 8.10 sec\n",
      "EvaluatorHoldout: Processed 35581 (100.0%) in 10.69 sec. Users per second: 3327\n",
      "Similarity column 38121 (100.0%), 4732.28 column/sec. Elapsed time 8.06 sec\n",
      "EvaluatorHoldout: Processed 35569 (100.0%) in 10.57 sec. Users per second: 3365\n",
      "Similarity column 38121 (100.0%), 4723.55 column/sec. Elapsed time 8.07 sec\n",
      "EvaluatorHoldout: Processed 35573 (100.0%) in 10.69 sec. Users per second: 3329\n",
      "Similarity column 38121 (100.0%), 4702.95 column/sec. Elapsed time 8.11 sec\n",
      "EvaluatorHoldout: Processed 35567 (100.0%) in 10.58 sec. Users per second: 3361\n",
      "Similarity column 38121 (100.0%), 4731.64 column/sec. Elapsed time 8.06 sec\n",
      "EvaluatorHoldout: Processed 35582 (100.0%) in 10.59 sec. Users per second: 3361\n",
      "Similarity column 38121 (100.0%), 4721.14 column/sec. Elapsed time 8.07 sec\n",
      "EvaluatorHoldout: Processed 35567 (100.0%) in 10.62 sec. Users per second: 3349\n",
      "Similarity column 38121 (100.0%), 4699.68 column/sec. Elapsed time 8.11 sec\n",
      "EvaluatorHoldout: Processed 35578 (100.0%) in 10.59 sec. Users per second: 3360\n",
      "Similarity column 38121 (100.0%), 4635.71 column/sec. Elapsed time 8.22 sec\n",
      "EvaluatorHoldout: Processed 35563 (100.0%) in 11.18 sec. Users per second: 3181\n",
      "Similarity column 38121 (100.0%), 4557.49 column/sec. Elapsed time 8.36 sec\n",
      "EvaluatorHoldout: Processed 35560 (100.0%) in 10.64 sec. Users per second: 3341\n"
     ]
    },
    {
     "name": "stderr",
     "output_type": "stream",
     "text": [
      "[I 2024-11-28 18:32:54,251] Trial 57 finished with value: 0.05445722228528951 and parameters: {'similarity': 'asymmetric', 'topK': 6, 'shrink': 13, 'asymmetric_alpha': 0.015210722429248133}. Best is trial 46 with value: 0.05475140053738076.\n"
     ]
    },
    {
     "name": "stdout",
     "output_type": "stream",
     "text": [
      "Similarity column 38121 (100.0%), 4687.08 column/sec. Elapsed time 8.13 sec\n",
      "EvaluatorHoldout: Processed 35569 (100.0%) in 10.79 sec. Users per second: 3297\n",
      "Similarity column 38121 (100.0%), 4667.41 column/sec. Elapsed time 8.17 sec\n",
      "EvaluatorHoldout: Processed 35581 (100.0%) in 10.93 sec. Users per second: 3255\n",
      "Similarity column 38121 (100.0%), 4722.72 column/sec. Elapsed time 8.07 sec\n",
      "EvaluatorHoldout: Processed 35569 (100.0%) in 10.63 sec. Users per second: 3346\n",
      "Similarity column 38121 (100.0%), 4737.80 column/sec. Elapsed time 8.05 sec\n",
      "EvaluatorHoldout: Processed 35573 (100.0%) in 10.88 sec. Users per second: 3268\n",
      "Similarity column 38121 (100.0%), 4735.59 column/sec. Elapsed time 8.05 sec\n",
      "EvaluatorHoldout: Processed 35567 (100.0%) in 10.69 sec. Users per second: 3327\n",
      "Similarity column 38121 (100.0%), 4745.25 column/sec. Elapsed time 8.03 sec\n",
      "EvaluatorHoldout: Processed 35582 (100.0%) in 10.78 sec. Users per second: 3301\n",
      "Similarity column 38121 (100.0%), 4726.74 column/sec. Elapsed time 8.06 sec\n",
      "EvaluatorHoldout: Processed 35567 (100.0%) in 10.62 sec. Users per second: 3349\n",
      "Similarity column 38121 (100.0%), 4528.10 column/sec. Elapsed time 8.42 sec\n",
      "EvaluatorHoldout: Processed 35578 (100.0%) in 11.11 sec. Users per second: 3202\n",
      "Similarity column 38121 (100.0%), 4663.84 column/sec. Elapsed time 8.17 sec\n",
      "EvaluatorHoldout: Processed 35563 (100.0%) in 10.65 sec. Users per second: 3338\n",
      "Similarity column 38121 (100.0%), 4630.04 column/sec. Elapsed time 8.23 sec\n",
      "EvaluatorHoldout: Processed 35560 (100.0%) in 10.52 sec. Users per second: 3381\n"
     ]
    },
    {
     "name": "stderr",
     "output_type": "stream",
     "text": [
      "[I 2024-11-28 18:36:03,738] Trial 58 finished with value: 0.05244966146531107 and parameters: {'similarity': 'asymmetric', 'topK': 11, 'shrink': 5, 'asymmetric_alpha': 0.04771444994260275}. Best is trial 46 with value: 0.05475140053738076.\n"
     ]
    },
    {
     "name": "stdout",
     "output_type": "stream",
     "text": [
      "Similarity column 38121 (100.0%), 4969.69 column/sec. Elapsed time 7.67 sec\n",
      "EvaluatorHoldout: Processed 35569 (100.0%) in 10.56 sec. Users per second: 3369\n",
      "Similarity column 38121 (100.0%), 4941.64 column/sec. Elapsed time 7.71 sec\n",
      "EvaluatorHoldout: Processed 35581 (100.0%) in 10.49 sec. Users per second: 3392\n",
      "Similarity column 38121 (100.0%), 4981.01 column/sec. Elapsed time 7.65 sec\n",
      "EvaluatorHoldout: Processed 35569 (100.0%) in 10.47 sec. Users per second: 3399\n",
      "Similarity column 38121 (100.0%), 4989.50 column/sec. Elapsed time 7.64 sec\n",
      "EvaluatorHoldout: Processed 35573 (100.0%) in 10.51 sec. Users per second: 3384\n",
      "Similarity column 38121 (100.0%), 4973.39 column/sec. Elapsed time 7.66 sec\n",
      "EvaluatorHoldout: Processed 35567 (100.0%) in 10.46 sec. Users per second: 3401\n",
      "Similarity column 38121 (100.0%), 4950.17 column/sec. Elapsed time 7.70 sec\n",
      "EvaluatorHoldout: Processed 35582 (100.0%) in 10.67 sec. Users per second: 3336\n",
      "Similarity column 38121 (100.0%), 4990.25 column/sec. Elapsed time 7.64 sec\n",
      "EvaluatorHoldout: Processed 35567 (100.0%) in 10.66 sec. Users per second: 3338\n",
      "Similarity column 38121 (100.0%), 4996.73 column/sec. Elapsed time 7.63 sec\n",
      "EvaluatorHoldout: Processed 35578 (100.0%) in 10.68 sec. Users per second: 3330\n",
      "Similarity column 38121 (100.0%), 4883.82 column/sec. Elapsed time 7.81 sec\n",
      "EvaluatorHoldout: Processed 35563 (100.0%) in 10.43 sec. Users per second: 3408\n",
      "Similarity column 38121 (100.0%), 4999.14 column/sec. Elapsed time 7.63 sec\n",
      "EvaluatorHoldout: Processed 35560 (100.0%) in 11.39 sec. Users per second: 3123\n"
     ]
    },
    {
     "name": "stderr",
     "output_type": "stream",
     "text": [
      "[I 2024-11-28 18:39:08,137] Trial 59 finished with value: 0.05113326363051527 and parameters: {'similarity': 'tversky', 'topK': 5, 'shrink': 8, 'tversky_alpha': 0.7167850270139798, 'tversky_beta': 0.5756015280198922}. Best is trial 46 with value: 0.05475140053738076.\n"
     ]
    },
    {
     "name": "stdout",
     "output_type": "stream",
     "text": [
      "Similarity column 38121 (100.0%), 4585.26 column/sec. Elapsed time 8.31 sec\n",
      "EvaluatorHoldout: Processed 35569 (100.0%) in 10.56 sec. Users per second: 3368\n",
      "Similarity column 38121 (100.0%), 4894.01 column/sec. Elapsed time 7.79 sec\n",
      "EvaluatorHoldout: Processed 35581 (100.0%) in 10.72 sec. Users per second: 3318\n",
      "Similarity column 38121 (100.0%), 4740.89 column/sec. Elapsed time 8.04 sec\n",
      "EvaluatorHoldout: Processed 35569 (100.0%) in 10.62 sec. Users per second: 3351\n",
      "Similarity column 38121 (100.0%), 4786.61 column/sec. Elapsed time 7.96 sec\n",
      "EvaluatorHoldout: Processed 35573 (100.0%) in 10.64 sec. Users per second: 3342\n",
      "Similarity column 38121 (100.0%), 4724.22 column/sec. Elapsed time 8.07 sec\n",
      "EvaluatorHoldout: Processed 35567 (100.0%) in 10.61 sec. Users per second: 3353\n",
      "Similarity column 38121 (100.0%), 4715.38 column/sec. Elapsed time 8.08 sec\n",
      "EvaluatorHoldout: Processed 35582 (100.0%) in 10.60 sec. Users per second: 3357\n",
      "Similarity column 38121 (100.0%), 4787.98 column/sec. Elapsed time 7.96 sec\n",
      "EvaluatorHoldout: Processed 35567 (100.0%) in 10.63 sec. Users per second: 3345\n",
      "Similarity column 38121 (100.0%), 4782.44 column/sec. Elapsed time 7.97 sec\n",
      "EvaluatorHoldout: Processed 35578 (100.0%) in 10.66 sec. Users per second: 3336\n",
      "Similarity column 38121 (100.0%), 4794.65 column/sec. Elapsed time 7.95 sec\n",
      "EvaluatorHoldout: Processed 35563 (100.0%) in 10.64 sec. Users per second: 3343\n",
      "Similarity column 38121 (100.0%), 4793.78 column/sec. Elapsed time 7.95 sec\n",
      "EvaluatorHoldout: Processed 35560 (100.0%) in 10.63 sec. Users per second: 3345\n"
     ]
    },
    {
     "name": "stderr",
     "output_type": "stream",
     "text": [
      "[I 2024-11-28 18:42:14,997] Trial 60 finished with value: 0.05341784940304935 and parameters: {'similarity': 'asymmetric', 'topK': 9, 'shrink': 11, 'asymmetric_alpha': 0.0903063516896433}. Best is trial 46 with value: 0.05475140053738076.\n"
     ]
    },
    {
     "name": "stdout",
     "output_type": "stream",
     "text": [
      "Similarity column 38121 (100.0%), 4794.42 column/sec. Elapsed time 7.95 sec\n",
      "EvaluatorHoldout: Processed 35569 (100.0%) in 10.52 sec. Users per second: 3382\n",
      "Similarity column 38121 (100.0%), 4789.87 column/sec. Elapsed time 7.96 sec\n",
      "EvaluatorHoldout: Processed 35581 (100.0%) in 10.49 sec. Users per second: 3392\n",
      "Similarity column 38121 (100.0%), 4795.44 column/sec. Elapsed time 7.95 sec\n",
      "EvaluatorHoldout: Processed 35569 (100.0%) in 10.45 sec. Users per second: 3405\n",
      "Similarity column 38121 (100.0%), 4753.55 column/sec. Elapsed time 8.02 sec\n",
      "EvaluatorHoldout: Processed 35573 (100.0%) in 10.41 sec. Users per second: 3416\n",
      "Similarity column 38121 (100.0%), 4756.62 column/sec. Elapsed time 8.01 sec\n",
      "EvaluatorHoldout: Processed 35567 (100.0%) in 10.43 sec. Users per second: 3410\n",
      "Similarity column 38121 (100.0%), 4767.71 column/sec. Elapsed time 8.00 sec\n",
      "EvaluatorHoldout: Processed 35582 (100.0%) in 10.43 sec. Users per second: 3410\n",
      "Similarity column 38121 (100.0%), 4788.12 column/sec. Elapsed time 7.96 sec\n",
      "EvaluatorHoldout: Processed 35567 (100.0%) in 10.53 sec. Users per second: 3376\n",
      "Similarity column 38121 (100.0%), 4782.04 column/sec. Elapsed time 7.97 sec\n",
      "EvaluatorHoldout: Processed 35578 (100.0%) in 10.50 sec. Users per second: 3388\n",
      "Similarity column 38121 (100.0%), 4795.58 column/sec. Elapsed time 7.95 sec\n",
      "EvaluatorHoldout: Processed 35563 (100.0%) in 10.65 sec. Users per second: 3338\n",
      "Similarity column 38121 (100.0%), 4767.91 column/sec. Elapsed time 8.00 sec\n",
      "EvaluatorHoldout: Processed 35560 (100.0%) in 10.44 sec. Users per second: 3407\n"
     ]
    },
    {
     "name": "stderr",
     "output_type": "stream",
     "text": [
      "[I 2024-11-28 18:45:20,052] Trial 61 finished with value: 0.05468844903699531 and parameters: {'similarity': 'asymmetric', 'topK': 5, 'shrink': 8, 'asymmetric_alpha': 0.13318873703188486}. Best is trial 46 with value: 0.05475140053738076.\n"
     ]
    },
    {
     "name": "stdout",
     "output_type": "stream",
     "text": [
      "Similarity column 38121 (100.0%), 4690.57 column/sec. Elapsed time 8.13 sec\n",
      "EvaluatorHoldout: Processed 35569 (100.0%) in 10.52 sec. Users per second: 3380\n",
      "Similarity column 38121 (100.0%), 4752.24 column/sec. Elapsed time 8.02 sec\n",
      "EvaluatorHoldout: Processed 35581 (100.0%) in 10.44 sec. Users per second: 3409\n",
      "Similarity column 38121 (100.0%), 4771.45 column/sec. Elapsed time 7.99 sec\n",
      "EvaluatorHoldout: Processed 35569 (100.0%) in 10.44 sec. Users per second: 3407\n",
      "Similarity column 38121 (100.0%), 4736.76 column/sec. Elapsed time 8.05 sec\n",
      "EvaluatorHoldout: Processed 35573 (100.0%) in 10.46 sec. Users per second: 3401\n",
      "Similarity column 38121 (100.0%), 4660.00 column/sec. Elapsed time 8.18 sec\n",
      "EvaluatorHoldout: Processed 35567 (100.0%) in 10.51 sec. Users per second: 3383\n",
      "Similarity column 38121 (100.0%), 4775.23 column/sec. Elapsed time 7.98 sec\n",
      "EvaluatorHoldout: Processed 35582 (100.0%) in 10.46 sec. Users per second: 3401\n",
      "Similarity column 38121 (100.0%), 4773.81 column/sec. Elapsed time 7.99 sec\n",
      "EvaluatorHoldout: Processed 35567 (100.0%) in 10.51 sec. Users per second: 3385\n",
      "Similarity column 38121 (100.0%), 4765.45 column/sec. Elapsed time 8.00 sec\n",
      "EvaluatorHoldout: Processed 35578 (100.0%) in 10.52 sec. Users per second: 3382\n",
      "Similarity column 38121 (100.0%), 4733.58 column/sec. Elapsed time 8.05 sec\n",
      "EvaluatorHoldout: Processed 35563 (100.0%) in 10.50 sec. Users per second: 3385\n",
      "Similarity column 38121 (100.0%), 4762.33 column/sec. Elapsed time 8.00 sec\n",
      "EvaluatorHoldout: Processed 35560 (100.0%) in 10.51 sec. Users per second: 3382\n"
     ]
    },
    {
     "name": "stderr",
     "output_type": "stream",
     "text": [
      "[I 2024-11-28 18:48:25,766] Trial 62 finished with value: 0.05458455126292302 and parameters: {'similarity': 'asymmetric', 'topK': 5, 'shrink': 6, 'asymmetric_alpha': 0.12075522801845004}. Best is trial 46 with value: 0.05475140053738076.\n"
     ]
    },
    {
     "name": "stdout",
     "output_type": "stream",
     "text": [
      "Similarity column 38121 (100.0%), 4774.59 column/sec. Elapsed time 7.98 sec\n",
      "EvaluatorHoldout: Processed 35569 (100.0%) in 10.56 sec. Users per second: 3367\n",
      "Similarity column 38121 (100.0%), 4776.01 column/sec. Elapsed time 7.98 sec\n",
      "EvaluatorHoldout: Processed 35581 (100.0%) in 10.52 sec. Users per second: 3383\n",
      "Similarity column 38121 (100.0%), 4745.83 column/sec. Elapsed time 8.03 sec\n",
      "EvaluatorHoldout: Processed 35569 (100.0%) in 10.54 sec. Users per second: 3373\n",
      "Similarity column 38121 (100.0%), 4742.80 column/sec. Elapsed time 8.04 sec\n",
      "EvaluatorHoldout: Processed 35573 (100.0%) in 10.64 sec. Users per second: 3343\n",
      "Similarity column 38121 (100.0%), 4753.71 column/sec. Elapsed time 8.02 sec\n",
      "EvaluatorHoldout: Processed 35567 (100.0%) in 10.60 sec. Users per second: 3356\n",
      "Similarity column 38121 (100.0%), 4770.05 column/sec. Elapsed time 7.99 sec\n",
      "EvaluatorHoldout: Processed 35582 (100.0%) in 10.50 sec. Users per second: 3388\n",
      "Similarity column 38121 (100.0%), 4769.47 column/sec. Elapsed time 7.99 sec\n",
      "EvaluatorHoldout: Processed 35567 (100.0%) in 10.52 sec. Users per second: 3382\n",
      "Similarity column 38121 (100.0%), 4735.16 column/sec. Elapsed time 8.05 sec\n",
      "EvaluatorHoldout: Processed 35578 (100.0%) in 10.55 sec. Users per second: 3371\n",
      "Similarity column 38121 (100.0%), 4784.67 column/sec. Elapsed time 7.97 sec\n",
      "EvaluatorHoldout: Processed 35563 (100.0%) in 10.57 sec. Users per second: 3365\n",
      "Similarity column 38121 (100.0%), 4775.42 column/sec. Elapsed time 7.98 sec\n",
      "EvaluatorHoldout: Processed 35560 (100.0%) in 10.61 sec. Users per second: 3353\n"
     ]
    },
    {
     "name": "stderr",
     "output_type": "stream",
     "text": [
      "[I 2024-11-28 18:51:31,930] Trial 63 finished with value: 0.05439707598779945 and parameters: {'similarity': 'asymmetric', 'topK': 6, 'shrink': 10, 'asymmetric_alpha': 0.14348898354946232}. Best is trial 46 with value: 0.05475140053738076.\n"
     ]
    },
    {
     "name": "stdout",
     "output_type": "stream",
     "text": [
      "Similarity column 38121 (100.0%), 4758.39 column/sec. Elapsed time 8.01 sec\n",
      "EvaluatorHoldout: Processed 35569 (100.0%) in 10.65 sec. Users per second: 3340\n",
      "Similarity column 38121 (100.0%), 4782.62 column/sec. Elapsed time 7.97 sec\n",
      "EvaluatorHoldout: Processed 35581 (100.0%) in 10.61 sec. Users per second: 3354\n",
      "Similarity column 38121 (100.0%), 4781.97 column/sec. Elapsed time 7.97 sec\n",
      "EvaluatorHoldout: Processed 35569 (100.0%) in 10.58 sec. Users per second: 3361\n",
      "Similarity column 38121 (100.0%), 4723.89 column/sec. Elapsed time 8.07 sec\n",
      "EvaluatorHoldout: Processed 35573 (100.0%) in 10.56 sec. Users per second: 3370\n",
      "Similarity column 38121 (100.0%), 4740.34 column/sec. Elapsed time 8.04 sec\n",
      "EvaluatorHoldout: Processed 35567 (100.0%) in 10.55 sec. Users per second: 3371\n",
      "Similarity column 38121 (100.0%), 4793.35 column/sec. Elapsed time 7.95 sec\n",
      "EvaluatorHoldout: Processed 35582 (100.0%) in 10.60 sec. Users per second: 3356\n",
      "Similarity column 38121 (100.0%), 4774.63 column/sec. Elapsed time 7.98 sec\n",
      "EvaluatorHoldout: Processed 35567 (100.0%) in 10.60 sec. Users per second: 3356\n",
      "Similarity column 38121 (100.0%), 4772.24 column/sec. Elapsed time 7.99 sec\n",
      "EvaluatorHoldout: Processed 35578 (100.0%) in 10.72 sec. Users per second: 3318\n",
      "Similarity column 38121 (100.0%), 4773.54 column/sec. Elapsed time 7.99 sec\n",
      "EvaluatorHoldout: Processed 35563 (100.0%) in 10.58 sec. Users per second: 3361\n",
      "Similarity column 38121 (100.0%), 4748.51 column/sec. Elapsed time 8.03 sec\n",
      "EvaluatorHoldout: Processed 35560 (100.0%) in 10.56 sec. Users per second: 3369\n"
     ]
    },
    {
     "name": "stderr",
     "output_type": "stream",
     "text": [
      "[I 2024-11-28 18:54:38,394] Trial 64 finished with value: 0.05405455798224736 and parameters: {'similarity': 'asymmetric', 'topK': 7, 'shrink': 12, 'asymmetric_alpha': 0.14218365142389439}. Best is trial 46 with value: 0.05475140053738076.\n"
     ]
    },
    {
     "name": "stdout",
     "output_type": "stream",
     "text": [
      "Similarity column 38121 (100.0%), 4880.24 column/sec. Elapsed time 7.81 sec\n",
      "EvaluatorHoldout: Processed 35569 (100.0%) in 10.55 sec. Users per second: 3371\n",
      "Similarity column 38121 (100.0%), 4887.83 column/sec. Elapsed time 7.80 sec\n",
      "EvaluatorHoldout: Processed 35581 (100.0%) in 10.58 sec. Users per second: 3363\n",
      "Similarity column 38121 (100.0%), 4872.56 column/sec. Elapsed time 7.82 sec\n",
      "EvaluatorHoldout: Processed 35569 (100.0%) in 10.74 sec. Users per second: 3313\n",
      "Similarity column 38121 (100.0%), 4859.51 column/sec. Elapsed time 7.84 sec\n",
      "EvaluatorHoldout: Processed 35573 (100.0%) in 10.59 sec. Users per second: 3359\n",
      "Similarity column 38121 (100.0%), 4877.03 column/sec. Elapsed time 7.82 sec\n",
      "EvaluatorHoldout: Processed 35567 (100.0%) in 10.55 sec. Users per second: 3372\n",
      "Similarity column 38121 (100.0%), 4880.40 column/sec. Elapsed time 7.81 sec\n",
      "EvaluatorHoldout: Processed 35582 (100.0%) in 10.54 sec. Users per second: 3377\n",
      "Similarity column 38121 (100.0%), 4863.10 column/sec. Elapsed time 7.84 sec\n",
      "EvaluatorHoldout: Processed 35567 (100.0%) in 10.79 sec. Users per second: 3297\n",
      "Similarity column 38121 (100.0%), 4895.80 column/sec. Elapsed time 7.79 sec\n",
      "EvaluatorHoldout: Processed 35578 (100.0%) in 10.59 sec. Users per second: 3359\n",
      "Similarity column 38121 (100.0%), 4918.83 column/sec. Elapsed time 7.75 sec\n",
      "EvaluatorHoldout: Processed 35563 (100.0%) in 10.60 sec. Users per second: 3356\n",
      "Similarity column 38121 (100.0%), 4924.77 column/sec. Elapsed time 7.74 sec\n",
      "EvaluatorHoldout: Processed 35560 (100.0%) in 10.60 sec. Users per second: 3355\n"
     ]
    },
    {
     "name": "stderr",
     "output_type": "stream",
     "text": [
      "[I 2024-11-28 18:57:42,991] Trial 65 finished with value: 0.051612249586708035 and parameters: {'similarity': 'cosine', 'topK': 5, 'shrink': 8}. Best is trial 46 with value: 0.05475140053738076.\n"
     ]
    },
    {
     "name": "stdout",
     "output_type": "stream",
     "text": [
      "Similarity column 38121 (100.0%), 4635.33 column/sec. Elapsed time 8.22 sec\n",
      "EvaluatorHoldout: Processed 35569 (100.0%) in 10.57 sec. Users per second: 3365\n",
      "Similarity column 38121 (100.0%), 4717.55 column/sec. Elapsed time 8.08 sec\n",
      "EvaluatorHoldout: Processed 35581 (100.0%) in 10.60 sec. Users per second: 3358\n",
      "Similarity column 38121 (100.0%), 4499.34 column/sec. Elapsed time 8.47 sec\n",
      "EvaluatorHoldout: Processed 35569 (100.0%) in 10.46 sec. Users per second: 3399\n",
      "Similarity column 38121 (100.0%), 4710.86 column/sec. Elapsed time 8.09 sec\n",
      "EvaluatorHoldout: Processed 35573 (100.0%) in 10.59 sec. Users per second: 3359\n",
      "Similarity column 38121 (100.0%), 4653.17 column/sec. Elapsed time 8.19 sec\n",
      "EvaluatorHoldout: Processed 35567 (100.0%) in 11.03 sec. Users per second: 3224\n",
      "Similarity column 38121 (100.0%), 4609.26 column/sec. Elapsed time 8.27 sec\n",
      "EvaluatorHoldout: Processed 35582 (100.0%) in 10.65 sec. Users per second: 3340\n",
      "Similarity column 38121 (100.0%), 4766.26 column/sec. Elapsed time 8.00 sec\n",
      "EvaluatorHoldout: Processed 35567 (100.0%) in 10.47 sec. Users per second: 3399\n",
      "Similarity column 38121 (100.0%), 4769.15 column/sec. Elapsed time 7.99 sec\n",
      "EvaluatorHoldout: Processed 35578 (100.0%) in 10.51 sec. Users per second: 3387\n",
      "Similarity column 38121 (100.0%), 4746.71 column/sec. Elapsed time 8.03 sec\n",
      "EvaluatorHoldout: Processed 35563 (100.0%) in 10.43 sec. Users per second: 3408\n",
      "Similarity column 38121 (100.0%), 4737.17 column/sec. Elapsed time 8.05 sec\n",
      "EvaluatorHoldout: Processed 35560 (100.0%) in 10.60 sec. Users per second: 3354\n"
     ]
    },
    {
     "name": "stderr",
     "output_type": "stream",
     "text": [
      "[I 2024-11-28 19:00:50,775] Trial 66 finished with value: 0.05444701448951389 and parameters: {'similarity': 'asymmetric', 'topK': 6, 'shrink': 9, 'asymmetric_alpha': 0.10484159950252771}. Best is trial 46 with value: 0.05475140053738076.\n"
     ]
    },
    {
     "name": "stdout",
     "output_type": "stream",
     "text": [
      "Similarity column 38121 (100.0%), 5056.17 column/sec. Elapsed time 7.54 sec\n",
      "EvaluatorHoldout: Processed 35569 (100.0%) in 10.47 sec. Users per second: 3396\n",
      "Similarity column 38121 (100.0%), 5092.57 column/sec. Elapsed time 7.49 sec\n",
      "EvaluatorHoldout: Processed 35581 (100.0%) in 10.44 sec. Users per second: 3407\n",
      "Similarity column 38121 (100.0%), 5034.56 column/sec. Elapsed time 7.57 sec\n",
      "EvaluatorHoldout: Processed 35569 (100.0%) in 10.26 sec. Users per second: 3467\n",
      "Similarity column 38121 (100.0%), 5145.58 column/sec. Elapsed time 7.41 sec\n",
      "EvaluatorHoldout: Processed 35573 (100.0%) in 10.54 sec. Users per second: 3376\n",
      "Similarity column 38121 (100.0%), 5065.04 column/sec. Elapsed time 7.53 sec\n",
      "EvaluatorHoldout: Processed 35567 (100.0%) in 10.62 sec. Users per second: 3350\n",
      "Similarity column 38121 (100.0%), 5073.70 column/sec. Elapsed time 7.51 sec\n",
      "EvaluatorHoldout: Processed 35582 (100.0%) in 10.62 sec. Users per second: 3349\n",
      "Similarity column 38121 (100.0%), 5055.08 column/sec. Elapsed time 7.54 sec\n",
      "EvaluatorHoldout: Processed 35567 (100.0%) in 10.52 sec. Users per second: 3380\n",
      "Similarity column 38121 (100.0%), 5054.32 column/sec. Elapsed time 7.54 sec\n",
      "EvaluatorHoldout: Processed 35578 (100.0%) in 10.89 sec. Users per second: 3268\n",
      "Similarity column 38121 (100.0%), 4998.45 column/sec. Elapsed time 7.63 sec\n",
      "EvaluatorHoldout: Processed 35563 (100.0%) in 10.60 sec. Users per second: 3355\n",
      "Similarity column 38121 (100.0%), 5062.70 column/sec. Elapsed time 7.53 sec\n",
      "EvaluatorHoldout: Processed 35560 (100.0%) in 10.56 sec. Users per second: 3368\n"
     ]
    },
    {
     "name": "stderr",
     "output_type": "stream",
     "text": [
      "[I 2024-11-28 19:03:52,913] Trial 67 finished with value: 0.05131703108191343 and parameters: {'similarity': 'dice', 'topK': 6, 'shrink': 3}. Best is trial 46 with value: 0.05475140053738076.\n"
     ]
    },
    {
     "name": "stdout",
     "output_type": "stream",
     "text": [
      "Similarity column 38121 (100.0%), 4772.82 column/sec. Elapsed time 7.99 sec\n",
      "EvaluatorHoldout: Processed 35569 (100.0%) in 10.52 sec. Users per second: 3381\n",
      "Similarity column 38121 (100.0%), 4772.30 column/sec. Elapsed time 7.99 sec\n",
      "EvaluatorHoldout: Processed 35581 (100.0%) in 10.52 sec. Users per second: 3382\n",
      "Similarity column 38121 (100.0%), 4739.13 column/sec. Elapsed time 8.04 sec\n",
      "EvaluatorHoldout: Processed 35569 (100.0%) in 10.52 sec. Users per second: 3381\n",
      "Similarity column 38121 (100.0%), 4742.97 column/sec. Elapsed time 8.04 sec\n",
      "EvaluatorHoldout: Processed 35573 (100.0%) in 10.52 sec. Users per second: 3380\n",
      "Similarity column 38121 (100.0%), 4780.61 column/sec. Elapsed time 7.97 sec\n",
      "EvaluatorHoldout: Processed 35567 (100.0%) in 10.57 sec. Users per second: 3366\n",
      "Similarity column 38121 (100.0%), 4785.68 column/sec. Elapsed time 7.97 sec\n",
      "EvaluatorHoldout: Processed 35582 (100.0%) in 10.60 sec. Users per second: 3356\n",
      "Similarity column 38121 (100.0%), 4772.50 column/sec. Elapsed time 7.99 sec\n",
      "EvaluatorHoldout: Processed 35567 (100.0%) in 10.59 sec. Users per second: 3359\n",
      "Similarity column 38121 (100.0%), 4769.60 column/sec. Elapsed time 7.99 sec\n",
      "EvaluatorHoldout: Processed 35578 (100.0%) in 10.54 sec. Users per second: 3375\n",
      "Similarity column 38121 (100.0%), 4742.31 column/sec. Elapsed time 8.04 sec\n",
      "EvaluatorHoldout: Processed 35563 (100.0%) in 10.51 sec. Users per second: 3384\n",
      "Similarity column 38121 (100.0%), 4747.86 column/sec. Elapsed time 8.03 sec\n",
      "EvaluatorHoldout: Processed 35560 (100.0%) in 10.54 sec. Users per second: 3373\n"
     ]
    },
    {
     "name": "stderr",
     "output_type": "stream",
     "text": [
      "[I 2024-11-28 19:06:58,963] Trial 68 finished with value: 0.05407988539214213 and parameters: {'similarity': 'asymmetric', 'topK': 7, 'shrink': 16, 'asymmetric_alpha': 0.0007209180102233093}. Best is trial 46 with value: 0.05475140053738076.\n"
     ]
    },
    {
     "name": "stdout",
     "output_type": "stream",
     "text": [
      "Similarity column 38121 (100.0%), 4712.15 column/sec. Elapsed time 8.09 sec\n",
      "EvaluatorHoldout: Processed 35569 (100.0%) in 10.56 sec. Users per second: 3367\n",
      "Similarity column 38121 (100.0%), 4757.65 column/sec. Elapsed time 8.01 sec\n",
      "EvaluatorHoldout: Processed 35581 (100.0%) in 10.73 sec. Users per second: 3316\n",
      "Similarity column 38121 (100.0%), 4795.03 column/sec. Elapsed time 7.95 sec\n",
      "EvaluatorHoldout: Processed 35569 (100.0%) in 10.62 sec. Users per second: 3349\n",
      "Similarity column 38121 (100.0%), 4740.49 column/sec. Elapsed time 8.04 sec\n",
      "EvaluatorHoldout: Processed 35573 (100.0%) in 10.66 sec. Users per second: 3338\n",
      "Similarity column 38121 (100.0%), 4753.57 column/sec. Elapsed time 8.02 sec\n",
      "EvaluatorHoldout: Processed 35567 (100.0%) in 10.63 sec. Users per second: 3347\n",
      "Similarity column 38121 (100.0%), 4770.03 column/sec. Elapsed time 7.99 sec\n",
      "EvaluatorHoldout: Processed 35582 (100.0%) in 10.53 sec. Users per second: 3380\n",
      "Similarity column 38121 (100.0%), 4711.22 column/sec. Elapsed time 8.09 sec\n",
      "EvaluatorHoldout: Processed 35567 (100.0%) in 10.49 sec. Users per second: 3392\n",
      "Similarity column 38121 (100.0%), 4726.27 column/sec. Elapsed time 8.07 sec\n",
      "EvaluatorHoldout: Processed 35578 (100.0%) in 10.56 sec. Users per second: 3368\n",
      "Similarity column 38121 (100.0%), 4760.82 column/sec. Elapsed time 8.01 sec\n",
      "EvaluatorHoldout: Processed 35563 (100.0%) in 10.40 sec. Users per second: 3421\n",
      "Similarity column 38121 (100.0%), 4719.80 column/sec. Elapsed time 8.08 sec\n",
      "EvaluatorHoldout: Processed 35560 (100.0%) in 10.49 sec. Users per second: 3391\n"
     ]
    },
    {
     "name": "stderr",
     "output_type": "stream",
     "text": [
      "[I 2024-11-28 19:10:05,412] Trial 69 finished with value: 0.05457043378018893 and parameters: {'similarity': 'asymmetric', 'topK': 5, 'shrink': 6, 'asymmetric_alpha': 0.1312733900100339}. Best is trial 46 with value: 0.05475140053738076.\n"
     ]
    },
    {
     "name": "stdout",
     "output_type": "stream",
     "text": [
      "Similarity column 38121 (100.0%), 4733.78 column/sec. Elapsed time 8.05 sec\n",
      "EvaluatorHoldout: Processed 35569 (100.0%) in 10.57 sec. Users per second: 3365\n",
      "Similarity column 38121 (100.0%), 4739.23 column/sec. Elapsed time 8.04 sec\n",
      "EvaluatorHoldout: Processed 35581 (100.0%) in 10.72 sec. Users per second: 3318\n",
      "Similarity column 38121 (100.0%), 4701.26 column/sec. Elapsed time 8.11 sec\n",
      "EvaluatorHoldout: Processed 35569 (100.0%) in 10.60 sec. Users per second: 3355\n",
      "Similarity column 38121 (100.0%), 4777.68 column/sec. Elapsed time 7.98 sec\n",
      "EvaluatorHoldout: Processed 35573 (100.0%) in 10.64 sec. Users per second: 3345\n",
      "Similarity column 38121 (100.0%), 4781.50 column/sec. Elapsed time 7.97 sec\n",
      "EvaluatorHoldout: Processed 35567 (100.0%) in 10.65 sec. Users per second: 3340\n",
      "Similarity column 38121 (100.0%), 4785.53 column/sec. Elapsed time 7.97 sec\n",
      "EvaluatorHoldout: Processed 35582 (100.0%) in 10.68 sec. Users per second: 3333\n",
      "Similarity column 38121 (100.0%), 4767.84 column/sec. Elapsed time 8.00 sec\n",
      "EvaluatorHoldout: Processed 35567 (100.0%) in 10.61 sec. Users per second: 3351\n",
      "Similarity column 38121 (100.0%), 4736.75 column/sec. Elapsed time 8.05 sec\n",
      "EvaluatorHoldout: Processed 35578 (100.0%) in 10.60 sec. Users per second: 3357\n",
      "Similarity column 38121 (100.0%), 4732.08 column/sec. Elapsed time 8.06 sec\n",
      "EvaluatorHoldout: Processed 35563 (100.0%) in 10.77 sec. Users per second: 3301\n",
      "Similarity column 38121 (100.0%), 4746.39 column/sec. Elapsed time 8.03 sec\n",
      "EvaluatorHoldout: Processed 35560 (100.0%) in 10.59 sec. Users per second: 3358\n"
     ]
    },
    {
     "name": "stderr",
     "output_type": "stream",
     "text": [
      "[I 2024-11-28 19:13:12,567] Trial 70 finished with value: 0.053705082412578264 and parameters: {'similarity': 'asymmetric', 'topK': 8, 'shrink': 13, 'asymmetric_alpha': 0.11849376114618909}. Best is trial 46 with value: 0.05475140053738076.\n"
     ]
    },
    {
     "name": "stdout",
     "output_type": "stream",
     "text": [
      "Similarity column 38121 (100.0%), 4716.94 column/sec. Elapsed time 8.08 sec\n",
      "EvaluatorHoldout: Processed 35569 (100.0%) in 10.50 sec. Users per second: 3387\n",
      "Similarity column 38121 (100.0%), 4743.06 column/sec. Elapsed time 8.04 sec\n",
      "EvaluatorHoldout: Processed 35581 (100.0%) in 10.45 sec. Users per second: 3405\n",
      "Similarity column 38121 (100.0%), 4747.51 column/sec. Elapsed time 8.03 sec\n",
      "EvaluatorHoldout: Processed 35569 (100.0%) in 10.46 sec. Users per second: 3399\n",
      "Similarity column 38121 (100.0%), 4738.99 column/sec. Elapsed time 8.04 sec\n",
      "EvaluatorHoldout: Processed 35573 (100.0%) in 10.78 sec. Users per second: 3300\n",
      "Similarity column 38121 (100.0%), 4543.19 column/sec. Elapsed time 8.39 sec\n",
      "EvaluatorHoldout: Processed 35567 (100.0%) in 10.53 sec. Users per second: 3379\n",
      "Similarity column 38121 (100.0%), 4783.08 column/sec. Elapsed time 7.97 sec\n",
      "EvaluatorHoldout: Processed 35582 (100.0%) in 10.53 sec. Users per second: 3380\n",
      "Similarity column 38121 (100.0%), 4767.73 column/sec. Elapsed time 8.00 sec\n",
      "EvaluatorHoldout: Processed 35567 (100.0%) in 10.87 sec. Users per second: 3273\n",
      "Similarity column 38121 (100.0%), 4636.84 column/sec. Elapsed time 8.22 sec\n",
      "EvaluatorHoldout: Processed 35578 (100.0%) in 10.59 sec. Users per second: 3361\n",
      "Similarity column 38121 (100.0%), 4756.91 column/sec. Elapsed time 8.01 sec\n",
      "EvaluatorHoldout: Processed 35563 (100.0%) in 10.89 sec. Users per second: 3265\n",
      "Similarity column 38121 (100.0%), 4700.42 column/sec. Elapsed time 8.11 sec\n",
      "EvaluatorHoldout: Processed 35560 (100.0%) in 10.63 sec. Users per second: 3346\n"
     ]
    },
    {
     "name": "stderr",
     "output_type": "stream",
     "text": [
      "[I 2024-11-28 19:16:20,139] Trial 71 finished with value: 0.054686031386643165 and parameters: {'similarity': 'asymmetric', 'topK': 5, 'shrink': 8, 'asymmetric_alpha': 0.13314892029499387}. Best is trial 46 with value: 0.05475140053738076.\n"
     ]
    },
    {
     "name": "stdout",
     "output_type": "stream",
     "text": [
      "Similarity column 38121 (100.0%), 4712.08 column/sec. Elapsed time 8.09 sec\n",
      "EvaluatorHoldout: Processed 35569 (100.0%) in 10.70 sec. Users per second: 3325\n",
      "Similarity column 38121 (100.0%), 4644.88 column/sec. Elapsed time 8.21 sec\n",
      "EvaluatorHoldout: Processed 35581 (100.0%) in 10.64 sec. Users per second: 3344\n",
      "Similarity column 38121 (100.0%), 4781.15 column/sec. Elapsed time 7.97 sec\n",
      "EvaluatorHoldout: Processed 35569 (100.0%) in 10.51 sec. Users per second: 3384\n",
      "Similarity column 38121 (100.0%), 4740.92 column/sec. Elapsed time 8.04 sec\n",
      "EvaluatorHoldout: Processed 35573 (100.0%) in 10.53 sec. Users per second: 3379\n",
      "Similarity column 38121 (100.0%), 4706.92 column/sec. Elapsed time 8.10 sec\n",
      "EvaluatorHoldout: Processed 35567 (100.0%) in 10.60 sec. Users per second: 3355\n",
      "Similarity column 38121 (100.0%), 4746.73 column/sec. Elapsed time 8.03 sec\n",
      "EvaluatorHoldout: Processed 35582 (100.0%) in 10.93 sec. Users per second: 3257\n",
      "Similarity column 38121 (100.0%), 4630.71 column/sec. Elapsed time 8.23 sec\n",
      "EvaluatorHoldout: Processed 35567 (100.0%) in 10.61 sec. Users per second: 3351\n",
      "Similarity column 38121 (100.0%), 4742.22 column/sec. Elapsed time 8.04 sec\n",
      "EvaluatorHoldout: Processed 35578 (100.0%) in 10.54 sec. Users per second: 3377\n",
      "Similarity column 38121 (100.0%), 4641.11 column/sec. Elapsed time 8.21 sec\n",
      "EvaluatorHoldout: Processed 35563 (100.0%) in 10.77 sec. Users per second: 3301\n",
      "Similarity column 38121 (100.0%), 4638.30 column/sec. Elapsed time 8.22 sec\n",
      "EvaluatorHoldout: Processed 35560 (100.0%) in 11.00 sec. Users per second: 3234\n"
     ]
    },
    {
     "name": "stderr",
     "output_type": "stream",
     "text": [
      "[I 2024-11-28 19:19:28,566] Trial 72 finished with value: 0.05472743940229474 and parameters: {'similarity': 'asymmetric', 'topK': 5, 'shrink': 10, 'asymmetric_alpha': 0.14370710603124978}. Best is trial 46 with value: 0.05475140053738076.\n"
     ]
    },
    {
     "name": "stdout",
     "output_type": "stream",
     "text": [
      "Similarity column 38121 (100.0%), 4598.96 column/sec. Elapsed time 8.29 sec\n",
      "EvaluatorHoldout: Processed 35569 (100.0%) in 10.72 sec. Users per second: 3317\n",
      "Similarity column 38121 (100.0%), 4550.29 column/sec. Elapsed time 8.38 sec\n",
      "EvaluatorHoldout: Processed 35581 (100.0%) in 10.80 sec. Users per second: 3294\n",
      "Similarity column 38121 (100.0%), 4535.62 column/sec. Elapsed time 8.40 sec\n",
      "EvaluatorHoldout: Processed 35569 (100.0%) in 11.05 sec. Users per second: 3218\n",
      "Similarity column 38121 (100.0%), 4447.26 column/sec. Elapsed time 8.57 sec\n",
      "EvaluatorHoldout: Processed 35573 (100.0%) in 10.98 sec. Users per second: 3241\n",
      "Similarity column 38121 (100.0%), 4735.85 column/sec. Elapsed time 8.05 sec\n",
      "EvaluatorHoldout: Processed 35567 (100.0%) in 10.75 sec. Users per second: 3309\n",
      "Similarity column 38121 (100.0%), 4654.94 column/sec. Elapsed time 8.19 sec\n",
      "EvaluatorHoldout: Processed 35582 (100.0%) in 10.53 sec. Users per second: 3379\n",
      "Similarity column 38121 (100.0%), 4744.40 column/sec. Elapsed time 8.03 sec\n",
      "EvaluatorHoldout: Processed 35567 (100.0%) in 10.56 sec. Users per second: 3367\n",
      "Similarity column 38121 (100.0%), 4741.43 column/sec. Elapsed time 8.04 sec\n",
      "EvaluatorHoldout: Processed 35578 (100.0%) in 10.53 sec. Users per second: 3378\n",
      "Similarity column 38121 (100.0%), 4714.09 column/sec. Elapsed time 8.09 sec\n",
      "EvaluatorHoldout: Processed 35563 (100.0%) in 10.52 sec. Users per second: 3382\n",
      "Similarity column 38121 (100.0%), 4748.18 column/sec. Elapsed time 8.03 sec\n",
      "EvaluatorHoldout: Processed 35560 (100.0%) in 10.61 sec. Users per second: 3353\n"
     ]
    },
    {
     "name": "stderr",
     "output_type": "stream",
     "text": [
      "[I 2024-11-28 19:22:38,174] Trial 73 finished with value: 0.054395108491976166 and parameters: {'similarity': 'asymmetric', 'topK': 6, 'shrink': 10, 'asymmetric_alpha': 0.14395964975802644}. Best is trial 46 with value: 0.05475140053738076.\n"
     ]
    },
    {
     "name": "stdout",
     "output_type": "stream",
     "text": [
      "Similarity column 38121 (100.0%), 4749.26 column/sec. Elapsed time 8.03 sec\n",
      "EvaluatorHoldout: Processed 35569 (100.0%) in 10.59 sec. Users per second: 3359\n",
      "Similarity column 38121 (100.0%), 4740.66 column/sec. Elapsed time 8.04 sec\n",
      "EvaluatorHoldout: Processed 35581 (100.0%) in 10.53 sec. Users per second: 3379\n",
      "Similarity column 38121 (100.0%), 4716.85 column/sec. Elapsed time 8.08 sec\n",
      "EvaluatorHoldout: Processed 35569 (100.0%) in 10.47 sec. Users per second: 3397\n",
      "Similarity column 38121 (100.0%), 4745.63 column/sec. Elapsed time 8.03 sec\n",
      "EvaluatorHoldout: Processed 35573 (100.0%) in 10.53 sec. Users per second: 3379\n",
      "Similarity column 38121 (100.0%), 4737.10 column/sec. Elapsed time 8.05 sec\n",
      "EvaluatorHoldout: Processed 35567 (100.0%) in 10.50 sec. Users per second: 3386\n",
      "Similarity column 38121 (100.0%), 4722.02 column/sec. Elapsed time 8.07 sec\n",
      "EvaluatorHoldout: Processed 35582 (100.0%) in 10.64 sec. Users per second: 3345\n",
      "Similarity column 38121 (100.0%), 4702.04 column/sec. Elapsed time 8.11 sec\n",
      "EvaluatorHoldout: Processed 35567 (100.0%) in 10.81 sec. Users per second: 3291\n",
      "Similarity column 38121 (100.0%), 4519.80 column/sec. Elapsed time 8.43 sec\n",
      "EvaluatorHoldout: Processed 35578 (100.0%) in 10.57 sec. Users per second: 3366\n",
      "Similarity column 38121 (100.0%), 4738.24 column/sec. Elapsed time 8.05 sec\n",
      "EvaluatorHoldout: Processed 35563 (100.0%) in 10.50 sec. Users per second: 3385\n",
      "Similarity column 38121 (100.0%), 4707.04 column/sec. Elapsed time 8.10 sec\n",
      "EvaluatorHoldout: Processed 35560 (100.0%) in 10.50 sec. Users per second: 3385\n"
     ]
    },
    {
     "name": "stderr",
     "output_type": "stream",
     "text": [
      "[I 2024-11-28 19:25:45,268] Trial 74 finished with value: 0.05475680745670376 and parameters: {'similarity': 'asymmetric', 'topK': 5, 'shrink': 11, 'asymmetric_alpha': 0.14401030086806713}. Best is trial 74 with value: 0.05475680745670376.\n"
     ]
    },
    {
     "name": "stdout",
     "output_type": "stream",
     "text": [
      "Similarity column 38121 (100.0%), 4842.20 column/sec. Elapsed time 7.87 sec\n",
      "EvaluatorHoldout: Processed 35569 (100.0%) in 10.69 sec. Users per second: 3328\n",
      "Similarity column 38121 (100.0%), 4860.83 column/sec. Elapsed time 7.84 sec\n",
      "EvaluatorHoldout: Processed 35581 (100.0%) in 10.62 sec. Users per second: 3349\n",
      "Similarity column 38121 (100.0%), 4839.70 column/sec. Elapsed time 7.88 sec\n",
      "EvaluatorHoldout: Processed 35569 (100.0%) in 10.59 sec. Users per second: 3360\n",
      "Similarity column 38121 (100.0%), 4864.90 column/sec. Elapsed time 7.84 sec\n",
      "EvaluatorHoldout: Processed 35573 (100.0%) in 10.59 sec. Users per second: 3361\n",
      "Similarity column 38121 (100.0%), 4846.93 column/sec. Elapsed time 7.86 sec\n",
      "EvaluatorHoldout: Processed 35567 (100.0%) in 10.67 sec. Users per second: 3333\n",
      "Similarity column 38121 (100.0%), 4840.90 column/sec. Elapsed time 7.87 sec\n",
      "EvaluatorHoldout: Processed 35582 (100.0%) in 10.63 sec. Users per second: 3347\n",
      "Similarity column 38121 (100.0%), 4816.88 column/sec. Elapsed time 7.91 sec\n",
      "EvaluatorHoldout: Processed 35567 (100.0%) in 10.60 sec. Users per second: 3355\n",
      "Similarity column 38121 (100.0%), 4851.76 column/sec. Elapsed time 7.86 sec\n",
      "EvaluatorHoldout: Processed 35578 (100.0%) in 10.65 sec. Users per second: 3340\n",
      "Similarity column 38121 (100.0%), 4872.31 column/sec. Elapsed time 7.82 sec\n",
      "EvaluatorHoldout: Processed 35563 (100.0%) in 10.66 sec. Users per second: 3335\n",
      "Similarity column 38121 (100.0%), 4782.56 column/sec. Elapsed time 7.97 sec\n",
      "EvaluatorHoldout: Processed 35560 (100.0%) in 10.79 sec. Users per second: 3297\n"
     ]
    },
    {
     "name": "stderr",
     "output_type": "stream",
     "text": [
      "[I 2024-11-28 19:28:51,865] Trial 75 finished with value: 0.051643572736399114 and parameters: {'similarity': 'jaccard', 'topK': 6, 'shrink': 11}. Best is trial 74 with value: 0.05475680745670376.\n"
     ]
    },
    {
     "name": "stdout",
     "output_type": "stream",
     "text": [
      "Similarity column 38121 (100.0%), 4730.96 column/sec. Elapsed time 8.06 sec\n",
      "EvaluatorHoldout: Processed 35569 (100.0%) in 10.89 sec. Users per second: 3265\n",
      "Similarity column 38121 (100.0%), 4709.04 column/sec. Elapsed time 8.10 sec\n",
      "EvaluatorHoldout: Processed 35581 (100.0%) in 10.99 sec. Users per second: 3238\n",
      "Similarity column 38121 (100.0%), 4730.79 column/sec. Elapsed time 8.06 sec\n",
      "EvaluatorHoldout: Processed 35569 (100.0%) in 10.92 sec. Users per second: 3259\n",
      "Similarity column 38121 (100.0%), 4725.08 column/sec. Elapsed time 8.07 sec\n",
      "EvaluatorHoldout: Processed 35573 (100.0%) in 10.92 sec. Users per second: 3257\n",
      "Similarity column 38121 (100.0%), 4705.65 column/sec. Elapsed time 8.10 sec\n",
      "EvaluatorHoldout: Processed 35567 (100.0%) in 10.88 sec. Users per second: 3268\n",
      "Similarity column 38121 (100.0%), 4749.82 column/sec. Elapsed time 8.03 sec\n",
      "EvaluatorHoldout: Processed 35582 (100.0%) in 10.87 sec. Users per second: 3272\n",
      "Similarity column 38121 (100.0%), 4719.84 column/sec. Elapsed time 8.08 sec\n",
      "EvaluatorHoldout: Processed 35567 (100.0%) in 10.97 sec. Users per second: 3242\n",
      "Similarity column 38121 (100.0%), 4759.57 column/sec. Elapsed time 8.01 sec\n",
      "EvaluatorHoldout: Processed 35578 (100.0%) in 10.93 sec. Users per second: 3255\n",
      "Similarity column 38121 (100.0%), 4767.99 column/sec. Elapsed time 8.00 sec\n",
      "EvaluatorHoldout: Processed 35563 (100.0%) in 10.88 sec. Users per second: 3269\n",
      "Similarity column 38121 (100.0%), 4745.72 column/sec. Elapsed time 8.03 sec\n",
      "EvaluatorHoldout: Processed 35560 (100.0%) in 11.12 sec. Users per second: 3199\n"
     ]
    },
    {
     "name": "stderr",
     "output_type": "stream",
     "text": [
      "[I 2024-11-28 19:32:02,231] Trial 76 finished with value: 0.05189422610822371 and parameters: {'similarity': 'asymmetric', 'topK': 15, 'shrink': 14, 'asymmetric_alpha': 0.1452224853398242}. Best is trial 74 with value: 0.05475680745670376.\n"
     ]
    },
    {
     "name": "stdout",
     "output_type": "stream",
     "text": [
      "Similarity column 38121 (100.0%), 4911.57 column/sec. Elapsed time 7.76 sec\n",
      "EvaluatorHoldout: Processed 35569 (100.0%) in 10.56 sec. Users per second: 3367\n",
      "Similarity column 38121 (100.0%), 4956.17 column/sec. Elapsed time 7.69 sec\n",
      "EvaluatorHoldout: Processed 35581 (100.0%) in 10.66 sec. Users per second: 3337\n",
      "Similarity column 38121 (100.0%), 4940.79 column/sec. Elapsed time 7.72 sec\n",
      "EvaluatorHoldout: Processed 35569 (100.0%) in 10.72 sec. Users per second: 3319\n",
      "Similarity column 38121 (100.0%), 4956.32 column/sec. Elapsed time 7.69 sec\n",
      "EvaluatorHoldout: Processed 35573 (100.0%) in 10.60 sec. Users per second: 3356\n",
      "Similarity column 38121 (100.0%), 4922.82 column/sec. Elapsed time 7.74 sec\n",
      "EvaluatorHoldout: Processed 35567 (100.0%) in 10.60 sec. Users per second: 3354\n",
      "Similarity column 38121 (100.0%), 4946.44 column/sec. Elapsed time 7.71 sec\n",
      "EvaluatorHoldout: Processed 35582 (100.0%) in 10.67 sec. Users per second: 3335\n",
      "Similarity column 38121 (100.0%), 4938.90 column/sec. Elapsed time 7.72 sec\n",
      "EvaluatorHoldout: Processed 35567 (100.0%) in 10.62 sec. Users per second: 3348\n",
      "Similarity column 38121 (100.0%), 4907.38 column/sec. Elapsed time 7.77 sec\n",
      "EvaluatorHoldout: Processed 35578 (100.0%) in 10.62 sec. Users per second: 3351\n",
      "Similarity column 38121 (100.0%), 4964.99 column/sec. Elapsed time 7.68 sec\n",
      "EvaluatorHoldout: Processed 35563 (100.0%) in 10.64 sec. Users per second: 3343\n",
      "Similarity column 38121 (100.0%), 4968.33 column/sec. Elapsed time 7.67 sec\n",
      "EvaluatorHoldout: Processed 35560 (100.0%) in 10.57 sec. Users per second: 3363\n"
     ]
    },
    {
     "name": "stderr",
     "output_type": "stream",
     "text": [
      "[I 2024-11-28 19:35:07,016] Trial 77 finished with value: 0.05204267749612697 and parameters: {'similarity': 'tversky', 'topK': 7, 'shrink': 12, 'tversky_alpha': 1.5160972343468067, 'tversky_beta': 1.9272376419409674}. Best is trial 74 with value: 0.05475680745670376.\n"
     ]
    },
    {
     "name": "stdout",
     "output_type": "stream",
     "text": [
      "Similarity column 38121 (100.0%), 4724.97 column/sec. Elapsed time 8.07 sec\n",
      "EvaluatorHoldout: Processed 35569 (100.0%) in 10.46 sec. Users per second: 3402\n",
      "Similarity column 38121 (100.0%), 4717.31 column/sec. Elapsed time 8.08 sec\n",
      "EvaluatorHoldout: Processed 35581 (100.0%) in 10.45 sec. Users per second: 3403\n",
      "Similarity column 38121 (100.0%), 4751.67 column/sec. Elapsed time 8.02 sec\n",
      "EvaluatorHoldout: Processed 35569 (100.0%) in 10.50 sec. Users per second: 3387\n",
      "Similarity column 38121 (100.0%), 4751.28 column/sec. Elapsed time 8.02 sec\n",
      "EvaluatorHoldout: Processed 35573 (100.0%) in 10.56 sec. Users per second: 3368\n",
      "Similarity column 38121 (100.0%), 4767.35 column/sec. Elapsed time 8.00 sec\n",
      "EvaluatorHoldout: Processed 35567 (100.0%) in 10.45 sec. Users per second: 3402\n",
      "Similarity column 38121 (100.0%), 4788.75 column/sec. Elapsed time 7.96 sec\n",
      "EvaluatorHoldout: Processed 35582 (100.0%) in 10.72 sec. Users per second: 3321\n",
      "Similarity column 38121 (100.0%), 4682.83 column/sec. Elapsed time 8.14 sec\n",
      "EvaluatorHoldout: Processed 35567 (100.0%) in 10.90 sec. Users per second: 3264\n",
      "Similarity column 38121 (100.0%), 4739.31 column/sec. Elapsed time 8.04 sec\n",
      "EvaluatorHoldout: Processed 35578 (100.0%) in 10.69 sec. Users per second: 3329\n",
      "Similarity column 38121 (100.0%), 4632.74 column/sec. Elapsed time 8.23 sec\n",
      "EvaluatorHoldout: Processed 35563 (100.0%) in 10.57 sec. Users per second: 3364\n",
      "Similarity column 38121 (100.0%), 4723.37 column/sec. Elapsed time 8.07 sec\n",
      "EvaluatorHoldout: Processed 35560 (100.0%) in 10.46 sec. Users per second: 3398\n"
     ]
    },
    {
     "name": "stderr",
     "output_type": "stream",
     "text": [
      "[I 2024-11-28 19:38:13,871] Trial 78 finished with value: 0.05475006134644143 and parameters: {'similarity': 'asymmetric', 'topK': 5, 'shrink': 12, 'asymmetric_alpha': 0.139888254261058}. Best is trial 74 with value: 0.05475680745670376.\n"
     ]
    },
    {
     "name": "stdout",
     "output_type": "stream",
     "text": [
      "Similarity column 38121 (100.0%), 4860.38 column/sec. Elapsed time 7.84 sec\n",
      "EvaluatorHoldout: Processed 35569 (100.0%) in 10.41 sec. Users per second: 3416\n",
      "Similarity column 38121 (100.0%), 4772.20 column/sec. Elapsed time 7.99 sec\n",
      "EvaluatorHoldout: Processed 35581 (100.0%) in 10.63 sec. Users per second: 3348\n",
      "Similarity column 38121 (100.0%), 4708.54 column/sec. Elapsed time 8.10 sec\n",
      "EvaluatorHoldout: Processed 35569 (100.0%) in 10.62 sec. Users per second: 3350\n",
      "Similarity column 38121 (100.0%), 4730.55 column/sec. Elapsed time 8.06 sec\n",
      "EvaluatorHoldout: Processed 35573 (100.0%) in 10.51 sec. Users per second: 3384\n",
      "Similarity column 38121 (100.0%), 4736.51 column/sec. Elapsed time 8.05 sec\n",
      "EvaluatorHoldout: Processed 35567 (100.0%) in 10.51 sec. Users per second: 3384\n",
      "Similarity column 38121 (100.0%), 4770.47 column/sec. Elapsed time 7.99 sec\n",
      "EvaluatorHoldout: Processed 35582 (100.0%) in 10.65 sec. Users per second: 3342\n",
      "Similarity column 38121 (100.0%), 4605.84 column/sec. Elapsed time 8.28 sec\n",
      "EvaluatorHoldout: Processed 35567 (100.0%) in 10.54 sec. Users per second: 3376\n",
      "Similarity column 38121 (100.0%), 4772.19 column/sec. Elapsed time 7.99 sec\n",
      "EvaluatorHoldout: Processed 35578 (100.0%) in 10.75 sec. Users per second: 3311\n",
      "Similarity column 38121 (100.0%), 4722.73 column/sec. Elapsed time 8.07 sec\n",
      "EvaluatorHoldout: Processed 35563 (100.0%) in 10.64 sec. Users per second: 3342\n",
      "Similarity column 38121 (100.0%), 4745.63 column/sec. Elapsed time 8.03 sec\n",
      "EvaluatorHoldout: Processed 35560 (100.0%) in 10.65 sec. Users per second: 3338\n"
     ]
    },
    {
     "name": "stderr",
     "output_type": "stream",
     "text": [
      "[I 2024-11-28 19:41:20,622] Trial 79 finished with value: 0.05455819453151408 and parameters: {'similarity': 'asymmetric', 'topK': 5, 'shrink': 17, 'asymmetric_alpha': 0.1374542316493351}. Best is trial 74 with value: 0.05475680745670376.\n"
     ]
    },
    {
     "name": "stdout",
     "output_type": "stream",
     "text": [
      "Similarity column 38121 (100.0%), 4737.74 column/sec. Elapsed time 8.05 sec\n",
      "EvaluatorHoldout: Processed 35569 (100.0%) in 10.57 sec. Users per second: 3366\n",
      "Similarity column 38121 (100.0%), 4737.15 column/sec. Elapsed time 8.05 sec\n",
      "EvaluatorHoldout: Processed 35581 (100.0%) in 10.47 sec. Users per second: 3400\n",
      "Similarity column 38121 (100.0%), 4806.24 column/sec. Elapsed time 7.93 sec\n",
      "EvaluatorHoldout: Processed 35569 (100.0%) in 10.60 sec. Users per second: 3356\n",
      "Similarity column 38121 (100.0%), 4777.69 column/sec. Elapsed time 7.98 sec\n",
      "EvaluatorHoldout: Processed 35573 (100.0%) in 10.58 sec. Users per second: 3364\n",
      "Similarity column 38121 (100.0%), 4805.87 column/sec. Elapsed time 7.93 sec\n",
      "EvaluatorHoldout: Processed 35567 (100.0%) in 10.47 sec. Users per second: 3397\n",
      "Similarity column 38121 (100.0%), 4800.75 column/sec. Elapsed time 7.94 sec\n",
      "EvaluatorHoldout: Processed 35582 (100.0%) in 10.52 sec. Users per second: 3383\n",
      "Similarity column 38121 (100.0%), 4798.64 column/sec. Elapsed time 7.94 sec\n",
      "EvaluatorHoldout: Processed 35567 (100.0%) in 10.53 sec. Users per second: 3377\n",
      "Similarity column 38121 (100.0%), 4793.26 column/sec. Elapsed time 7.95 sec\n",
      "EvaluatorHoldout: Processed 35578 (100.0%) in 10.50 sec. Users per second: 3389\n",
      "Similarity column 38121 (100.0%), 4738.85 column/sec. Elapsed time 8.04 sec\n",
      "EvaluatorHoldout: Processed 35563 (100.0%) in 10.46 sec. Users per second: 3401\n",
      "Similarity column 38121 (100.0%), 4808.31 column/sec. Elapsed time 7.93 sec\n",
      "EvaluatorHoldout: Processed 35560 (100.0%) in 10.54 sec. Users per second: 3375\n"
     ]
    },
    {
     "name": "stderr",
     "output_type": "stream",
     "text": [
      "[I 2024-11-28 19:44:26,092] Trial 80 finished with value: 0.05472887266730666 and parameters: {'similarity': 'asymmetric', 'topK': 5, 'shrink': 15, 'asymmetric_alpha': 0.12594925316333078}. Best is trial 74 with value: 0.05475680745670376.\n"
     ]
    },
    {
     "name": "stdout",
     "output_type": "stream",
     "text": [
      "Similarity column 38121 (100.0%), 4805.91 column/sec. Elapsed time 7.93 sec\n",
      "EvaluatorHoldout: Processed 35569 (100.0%) in 10.43 sec. Users per second: 3411\n",
      "Similarity column 38121 (100.0%), 4749.58 column/sec. Elapsed time 8.03 sec\n",
      "EvaluatorHoldout: Processed 35581 (100.0%) in 10.42 sec. Users per second: 3413\n",
      "Similarity column 38121 (100.0%), 4768.42 column/sec. Elapsed time 7.99 sec\n",
      "EvaluatorHoldout: Processed 35569 (100.0%) in 10.55 sec. Users per second: 3373\n",
      "Similarity column 38121 (100.0%), 4789.41 column/sec. Elapsed time 7.96 sec\n",
      "EvaluatorHoldout: Processed 35573 (100.0%) in 10.59 sec. Users per second: 3360\n",
      "Similarity column 38121 (100.0%), 4785.04 column/sec. Elapsed time 7.97 sec\n",
      "EvaluatorHoldout: Processed 35567 (100.0%) in 10.47 sec. Users per second: 3397\n",
      "Similarity column 38121 (100.0%), 4808.99 column/sec. Elapsed time 7.93 sec\n",
      "EvaluatorHoldout: Processed 35582 (100.0%) in 10.50 sec. Users per second: 3388\n",
      "Similarity column 38121 (100.0%), 4794.32 column/sec. Elapsed time 7.95 sec\n",
      "EvaluatorHoldout: Processed 35567 (100.0%) in 10.48 sec. Users per second: 3394\n",
      "Similarity column 38121 (100.0%), 4764.49 column/sec. Elapsed time 8.00 sec\n",
      "EvaluatorHoldout: Processed 35578 (100.0%) in 10.52 sec. Users per second: 3382\n",
      "Similarity column 38121 (100.0%), 4807.12 column/sec. Elapsed time 7.93 sec\n",
      "EvaluatorHoldout: Processed 35563 (100.0%) in 10.38 sec. Users per second: 3426\n",
      "Similarity column 38121 (100.0%), 4777.58 column/sec. Elapsed time 7.98 sec\n",
      "EvaluatorHoldout: Processed 35560 (100.0%) in 10.45 sec. Users per second: 3403\n"
     ]
    },
    {
     "name": "stderr",
     "output_type": "stream",
     "text": [
      "[I 2024-11-28 19:47:30,984] Trial 81 finished with value: 0.05474857476821665 and parameters: {'similarity': 'asymmetric', 'topK': 5, 'shrink': 13, 'asymmetric_alpha': 0.12572926273786628}. Best is trial 74 with value: 0.05475680745670376.\n"
     ]
    },
    {
     "name": "stdout",
     "output_type": "stream",
     "text": [
      "Similarity column 38121 (100.0%), 4777.17 column/sec. Elapsed time 7.98 sec\n",
      "EvaluatorHoldout: Processed 35569 (100.0%) in 10.40 sec. Users per second: 3420\n",
      "Similarity column 38121 (100.0%), 4798.19 column/sec. Elapsed time 7.94 sec\n",
      "EvaluatorHoldout: Processed 35581 (100.0%) in 10.41 sec. Users per second: 3417\n",
      "Similarity column 38121 (100.0%), 4768.61 column/sec. Elapsed time 7.99 sec\n",
      "EvaluatorHoldout: Processed 35569 (100.0%) in 10.62 sec. Users per second: 3350\n",
      "Similarity column 38121 (100.0%), 4771.39 column/sec. Elapsed time 7.99 sec\n",
      "EvaluatorHoldout: Processed 35573 (100.0%) in 10.46 sec. Users per second: 3400\n",
      "Similarity column 38121 (100.0%), 4774.23 column/sec. Elapsed time 7.98 sec\n",
      "EvaluatorHoldout: Processed 35567 (100.0%) in 10.50 sec. Users per second: 3387\n",
      "Similarity column 38121 (100.0%), 4763.81 column/sec. Elapsed time 8.00 sec\n",
      "EvaluatorHoldout: Processed 35582 (100.0%) in 10.46 sec. Users per second: 3400\n",
      "Similarity column 38121 (100.0%), 4746.74 column/sec. Elapsed time 8.03 sec\n",
      "EvaluatorHoldout: Processed 35567 (100.0%) in 10.54 sec. Users per second: 3376\n",
      "Similarity column 38121 (100.0%), 4776.88 column/sec. Elapsed time 7.98 sec\n",
      "EvaluatorHoldout: Processed 35578 (100.0%) in 10.61 sec. Users per second: 3353\n",
      "Similarity column 38121 (100.0%), 4794.55 column/sec. Elapsed time 7.95 sec\n",
      "EvaluatorHoldout: Processed 35563 (100.0%) in 10.52 sec. Users per second: 3380\n",
      "Similarity column 38121 (100.0%), 4758.42 column/sec. Elapsed time 8.01 sec\n",
      "EvaluatorHoldout: Processed 35560 (100.0%) in 10.55 sec. Users per second: 3370\n"
     ]
    },
    {
     "name": "stderr",
     "output_type": "stream",
     "text": [
      "[I 2024-11-28 19:50:36,376] Trial 82 finished with value: 0.054375706522017744 and parameters: {'similarity': 'asymmetric', 'topK': 6, 'shrink': 15, 'asymmetric_alpha': 0.12460193234103495}. Best is trial 74 with value: 0.05475680745670376.\n"
     ]
    },
    {
     "name": "stdout",
     "output_type": "stream",
     "text": [
      "Similarity column 38121 (100.0%), 4795.87 column/sec. Elapsed time 7.95 sec\n",
      "EvaluatorHoldout: Processed 35569 (100.0%) in 10.54 sec. Users per second: 3374\n",
      "Similarity column 38121 (100.0%), 4796.50 column/sec. Elapsed time 7.95 sec\n",
      "EvaluatorHoldout: Processed 35581 (100.0%) in 10.46 sec. Users per second: 3402\n",
      "Similarity column 38121 (100.0%), 4769.69 column/sec. Elapsed time 7.99 sec\n",
      "EvaluatorHoldout: Processed 35569 (100.0%) in 10.53 sec. Users per second: 3379\n",
      "Similarity column 38121 (100.0%), 4724.53 column/sec. Elapsed time 8.07 sec\n",
      "EvaluatorHoldout: Processed 35573 (100.0%) in 10.46 sec. Users per second: 3400\n",
      "Similarity column 38121 (100.0%), 4779.85 column/sec. Elapsed time 7.98 sec\n",
      "EvaluatorHoldout: Processed 35567 (100.0%) in 10.50 sec. Users per second: 3388\n",
      "Similarity column 38121 (100.0%), 4823.59 column/sec. Elapsed time 7.90 sec\n",
      "EvaluatorHoldout: Processed 35582 (100.0%) in 10.51 sec. Users per second: 3384\n",
      "Similarity column 38121 (100.0%), 4785.55 column/sec. Elapsed time 7.97 sec\n",
      "EvaluatorHoldout: Processed 35567 (100.0%) in 10.50 sec. Users per second: 3386\n",
      "Similarity column 38121 (100.0%), 4802.89 column/sec. Elapsed time 7.94 sec\n",
      "EvaluatorHoldout: Processed 35578 (100.0%) in 10.50 sec. Users per second: 3387\n",
      "Similarity column 38121 (100.0%), 4802.90 column/sec. Elapsed time 7.94 sec\n",
      "EvaluatorHoldout: Processed 35563 (100.0%) in 10.42 sec. Users per second: 3414\n",
      "Similarity column 38121 (100.0%), 4784.12 column/sec. Elapsed time 7.97 sec\n",
      "EvaluatorHoldout: Processed 35560 (100.0%) in 10.45 sec. Users per second: 3403\n"
     ]
    },
    {
     "name": "stderr",
     "output_type": "stream",
     "text": [
      "[I 2024-11-28 19:53:41,443] Trial 83 finished with value: 0.054739987583397175 and parameters: {'similarity': 'asymmetric', 'topK': 5, 'shrink': 14, 'asymmetric_alpha': 0.12556864950361357}. Best is trial 74 with value: 0.05475680745670376.\n"
     ]
    },
    {
     "name": "stdout",
     "output_type": "stream",
     "text": [
      "Similarity column 38121 (100.0%), 4776.79 column/sec. Elapsed time 7.98 sec\n",
      "EvaluatorHoldout: Processed 35569 (100.0%) in 10.53 sec. Users per second: 3378\n",
      "Similarity column 38121 (100.0%), 4769.76 column/sec. Elapsed time 7.99 sec\n",
      "EvaluatorHoldout: Processed 35581 (100.0%) in 10.43 sec. Users per second: 3413\n",
      "Similarity column 38121 (100.0%), 4763.18 column/sec. Elapsed time 8.00 sec\n",
      "EvaluatorHoldout: Processed 35569 (100.0%) in 10.78 sec. Users per second: 3298\n",
      "Similarity column 38121 (100.0%), 4764.50 column/sec. Elapsed time 8.00 sec\n",
      "EvaluatorHoldout: Processed 35573 (100.0%) in 10.36 sec. Users per second: 3435\n",
      "Similarity column 38121 (100.0%), 4773.04 column/sec. Elapsed time 7.99 sec\n",
      "EvaluatorHoldout: Processed 35567 (100.0%) in 10.36 sec. Users per second: 3433\n",
      "Similarity column 38121 (100.0%), 4817.15 column/sec. Elapsed time 7.91 sec\n",
      "EvaluatorHoldout: Processed 35582 (100.0%) in 10.36 sec. Users per second: 3435\n",
      "Similarity column 38121 (100.0%), 4705.32 column/sec. Elapsed time 8.10 sec\n",
      "EvaluatorHoldout: Processed 35567 (100.0%) in 10.60 sec. Users per second: 3355\n",
      "Similarity column 38121 (100.0%), 4780.90 column/sec. Elapsed time 7.97 sec\n",
      "EvaluatorHoldout: Processed 35578 (100.0%) in 10.52 sec. Users per second: 3383\n",
      "Similarity column 38121 (100.0%), 4791.31 column/sec. Elapsed time 7.96 sec\n",
      "EvaluatorHoldout: Processed 35563 (100.0%) in 10.53 sec. Users per second: 3378\n",
      "Similarity column 38121 (100.0%), 4791.47 column/sec. Elapsed time 7.96 sec\n",
      "EvaluatorHoldout: Processed 35560 (100.0%) in 10.50 sec. Users per second: 3388\n"
     ]
    },
    {
     "name": "stderr",
     "output_type": "stream",
     "text": [
      "[I 2024-11-28 19:56:46,710] Trial 84 finished with value: 0.054747950402628476 and parameters: {'similarity': 'asymmetric', 'topK': 5, 'shrink': 14, 'asymmetric_alpha': 0.11556339026685115}. Best is trial 74 with value: 0.05475680745670376.\n"
     ]
    },
    {
     "name": "stdout",
     "output_type": "stream",
     "text": [
      "Similarity column 38121 (100.0%), 4771.32 column/sec. Elapsed time 7.99 sec\n",
      "EvaluatorHoldout: Processed 35569 (100.0%) in 10.57 sec. Users per second: 3364\n",
      "Similarity column 38121 (100.0%), 4762.78 column/sec. Elapsed time 8.00 sec\n",
      "EvaluatorHoldout: Processed 35581 (100.0%) in 10.54 sec. Users per second: 3377\n",
      "Similarity column 38121 (100.0%), 4753.02 column/sec. Elapsed time 8.02 sec\n",
      "EvaluatorHoldout: Processed 35569 (100.0%) in 10.54 sec. Users per second: 3376\n",
      "Similarity column 38121 (100.0%), 4758.20 column/sec. Elapsed time 8.01 sec\n",
      "EvaluatorHoldout: Processed 35573 (100.0%) in 10.52 sec. Users per second: 3383\n",
      "Similarity column 38121 (100.0%), 4763.05 column/sec. Elapsed time 8.00 sec\n",
      "EvaluatorHoldout: Processed 35567 (100.0%) in 10.53 sec. Users per second: 3379\n",
      "Similarity column 38121 (100.0%), 4762.81 column/sec. Elapsed time 8.00 sec\n",
      "EvaluatorHoldout: Processed 35582 (100.0%) in 10.59 sec. Users per second: 3361\n",
      "Similarity column 38121 (100.0%), 4677.18 column/sec. Elapsed time 8.15 sec\n",
      "EvaluatorHoldout: Processed 35567 (100.0%) in 11.04 sec. Users per second: 3222\n",
      "Similarity column 38121 (100.0%), 4628.53 column/sec. Elapsed time 8.24 sec\n",
      "EvaluatorHoldout: Processed 35578 (100.0%) in 10.89 sec. Users per second: 3267\n",
      "Similarity column 38121 (100.0%), 4706.03 column/sec. Elapsed time 8.10 sec\n",
      "EvaluatorHoldout: Processed 35563 (100.0%) in 11.08 sec. Users per second: 3210\n",
      "Similarity column 38121 (100.0%), 4747.45 column/sec. Elapsed time 8.03 sec\n",
      "EvaluatorHoldout: Processed 35560 (100.0%) in 10.97 sec. Users per second: 3242\n"
     ]
    },
    {
     "name": "stderr",
     "output_type": "stream",
     "text": [
      "[I 2024-11-28 19:59:54,964] Trial 85 finished with value: 0.05443091977726845 and parameters: {'similarity': 'asymmetric', 'topK': 6, 'shrink': 13, 'asymmetric_alpha': 0.11581760790348355}. Best is trial 74 with value: 0.05475680745670376.\n"
     ]
    },
    {
     "name": "stdout",
     "output_type": "stream",
     "text": [
      "Similarity column 38121 (100.0%), 5038.10 column/sec. Elapsed time 7.57 sec\n",
      "EvaluatorHoldout: Processed 35569 (100.0%) in 10.90 sec. Users per second: 3263\n",
      "Similarity column 38121 (100.0%), 5185.04 column/sec. Elapsed time 7.35 sec\n",
      "EvaluatorHoldout: Processed 35581 (100.0%) in 10.71 sec. Users per second: 3321\n",
      "Similarity column 38121 (100.0%), 5163.36 column/sec. Elapsed time 7.38 sec\n",
      "EvaluatorHoldout: Processed 35569 (100.0%) in 10.79 sec. Users per second: 3296\n",
      "Similarity column 38121 (100.0%), 5184.19 column/sec. Elapsed time 7.35 sec\n",
      "EvaluatorHoldout: Processed 35573 (100.0%) in 10.68 sec. Users per second: 3329\n",
      "Similarity column 38121 (100.0%), 5130.09 column/sec. Elapsed time 7.43 sec\n",
      "EvaluatorHoldout: Processed 35567 (100.0%) in 11.00 sec. Users per second: 3233\n",
      "Similarity column 38121 (100.0%), 5048.66 column/sec. Elapsed time 7.55 sec\n",
      "EvaluatorHoldout: Processed 35582 (100.0%) in 10.75 sec. Users per second: 3310\n",
      "Similarity column 38121 (100.0%), 5183.80 column/sec. Elapsed time 7.35 sec\n",
      "EvaluatorHoldout: Processed 35567 (100.0%) in 10.97 sec. Users per second: 3243\n",
      "Similarity column 38121 (100.0%), 5142.57 column/sec. Elapsed time 7.41 sec\n",
      "EvaluatorHoldout: Processed 35578 (100.0%) in 11.01 sec. Users per second: 3232\n",
      "Similarity column 38121 (100.0%), 4975.37 column/sec. Elapsed time 7.66 sec\n",
      "EvaluatorHoldout: Processed 35563 (100.0%) in 10.69 sec. Users per second: 3326\n",
      "Similarity column 38121 (100.0%), 5156.07 column/sec. Elapsed time 7.39 sec\n",
      "EvaluatorHoldout: Processed 35560 (100.0%) in 10.83 sec. Users per second: 3282\n"
     ]
    },
    {
     "name": "stderr",
     "output_type": "stream",
     "text": [
      "[I 2024-11-28 20:02:59,159] Trial 86 finished with value: 0.05154109650940429 and parameters: {'similarity': 'dice', 'topK': 6, 'shrink': 14}. Best is trial 74 with value: 0.05475680745670376.\n"
     ]
    },
    {
     "name": "stdout",
     "output_type": "stream",
     "text": [
      "Similarity column 38121 (100.0%), 5055.60 column/sec. Elapsed time 7.54 sec\n",
      "EvaluatorHoldout: Processed 35569 (100.0%) in 10.73 sec. Users per second: 3315\n",
      "Similarity column 38121 (100.0%), 5026.88 column/sec. Elapsed time 7.58 sec\n",
      "EvaluatorHoldout: Processed 35581 (100.0%) in 10.95 sec. Users per second: 3250\n",
      "Similarity column 38121 (100.0%), 5065.25 column/sec. Elapsed time 7.53 sec\n",
      "EvaluatorHoldout: Processed 35569 (100.0%) in 10.90 sec. Users per second: 3262\n",
      "Similarity column 38121 (100.0%), 5049.26 column/sec. Elapsed time 7.55 sec\n",
      "EvaluatorHoldout: Processed 35573 (100.0%) in 10.85 sec. Users per second: 3277\n",
      "Similarity column 38121 (100.0%), 5024.88 column/sec. Elapsed time 7.59 sec\n",
      "EvaluatorHoldout: Processed 35567 (100.0%) in 10.71 sec. Users per second: 3321\n",
      "Similarity column 38121 (100.0%), 5080.39 column/sec. Elapsed time 7.50 sec\n",
      "EvaluatorHoldout: Processed 35582 (100.0%) in 10.71 sec. Users per second: 3323\n",
      "Similarity column 38121 (100.0%), 5072.86 column/sec. Elapsed time 7.51 sec\n",
      "EvaluatorHoldout: Processed 35567 (100.0%) in 10.73 sec. Users per second: 3315\n",
      "Similarity column 38121 (100.0%), 5015.35 column/sec. Elapsed time 7.60 sec\n",
      "EvaluatorHoldout: Processed 35578 (100.0%) in 10.79 sec. Users per second: 3298\n",
      "Similarity column 38121 (100.0%), 5060.65 column/sec. Elapsed time 7.53 sec\n",
      "EvaluatorHoldout: Processed 35563 (100.0%) in 10.70 sec. Users per second: 3322\n",
      "Similarity column 38121 (100.0%), 5034.95 column/sec. Elapsed time 7.57 sec\n",
      "EvaluatorHoldout: Processed 35560 (100.0%) in 10.95 sec. Users per second: 3248\n"
     ]
    },
    {
     "name": "stderr",
     "output_type": "stream",
     "text": [
      "[I 2024-11-28 20:06:03,122] Trial 87 finished with value: 0.05118613277374756 and parameters: {'similarity': 'cosine', 'topK': 5, 'shrink': 18}. Best is trial 74 with value: 0.05475680745670376.\n"
     ]
    },
    {
     "name": "stdout",
     "output_type": "stream",
     "text": [
      "Similarity column 38121 (100.0%), 4870.31 column/sec. Elapsed time 7.83 sec\n",
      "EvaluatorHoldout: Processed 35569 (100.0%) in 10.75 sec. Users per second: 3307\n",
      "Similarity column 38121 (100.0%), 4612.14 column/sec. Elapsed time 8.27 sec\n",
      "EvaluatorHoldout: Processed 35581 (100.0%) in 10.76 sec. Users per second: 3308\n",
      "Similarity column 38121 (100.0%), 4911.17 column/sec. Elapsed time 7.76 sec\n",
      "EvaluatorHoldout: Processed 35569 (100.0%) in 10.54 sec. Users per second: 3374\n",
      "Similarity column 38121 (100.0%), 4860.15 column/sec. Elapsed time 7.84 sec\n",
      "EvaluatorHoldout: Processed 35573 (100.0%) in 10.59 sec. Users per second: 3361\n",
      "Similarity column 38121 (100.0%), 4700.46 column/sec. Elapsed time 8.11 sec\n",
      "EvaluatorHoldout: Processed 35567 (100.0%) in 10.55 sec. Users per second: 3371\n",
      "Similarity column 38121 (100.0%), 4906.72 column/sec. Elapsed time 7.77 sec\n",
      "EvaluatorHoldout: Processed 35582 (100.0%) in 10.76 sec. Users per second: 3306\n",
      "Similarity column 38121 (100.0%), 4901.25 column/sec. Elapsed time 7.78 sec\n",
      "EvaluatorHoldout: Processed 35567 (100.0%) in 10.60 sec. Users per second: 3356\n",
      "Similarity column 38121 (100.0%), 4856.51 column/sec. Elapsed time 7.85 sec\n",
      "EvaluatorHoldout: Processed 35578 (100.0%) in 10.69 sec. Users per second: 3327\n",
      "Similarity column 38121 (100.0%), 4916.68 column/sec. Elapsed time 7.75 sec\n",
      "EvaluatorHoldout: Processed 35563 (100.0%) in 10.78 sec. Users per second: 3298\n",
      "Similarity column 38121 (100.0%), 4919.01 column/sec. Elapsed time 7.75 sec\n",
      "EvaluatorHoldout: Processed 35560 (100.0%) in 10.96 sec. Users per second: 3245\n"
     ]
    },
    {
     "name": "stderr",
     "output_type": "stream",
     "text": [
      "[I 2024-11-28 20:09:09,255] Trial 88 finished with value: 0.05464954360990544 and parameters: {'similarity': 'asymmetric', 'topK': 5, 'shrink': 17, 'asymmetric_alpha': 0.11267438914006657}. Best is trial 74 with value: 0.05475680745670376.\n"
     ]
    },
    {
     "name": "stdout",
     "output_type": "stream",
     "text": [
      "Similarity column 38121 (100.0%), 4757.06 column/sec. Elapsed time 8.01 sec\n",
      "EvaluatorHoldout: Processed 35569 (100.0%) in 10.73 sec. Users per second: 3316\n",
      "Similarity column 38121 (100.0%), 4909.21 column/sec. Elapsed time 7.77 sec\n",
      "EvaluatorHoldout: Processed 35581 (100.0%) in 10.69 sec. Users per second: 3329\n",
      "Similarity column 38121 (100.0%), 4904.35 column/sec. Elapsed time 7.77 sec\n",
      "EvaluatorHoldout: Processed 35569 (100.0%) in 11.00 sec. Users per second: 3234\n",
      "Similarity column 38121 (100.0%), 4871.09 column/sec. Elapsed time 7.83 sec\n",
      "EvaluatorHoldout: Processed 35573 (100.0%) in 10.72 sec. Users per second: 3317\n",
      "Similarity column 38121 (100.0%), 4911.60 column/sec. Elapsed time 7.76 sec\n",
      "EvaluatorHoldout: Processed 35567 (100.0%) in 10.78 sec. Users per second: 3300\n",
      "Similarity column 38121 (100.0%), 4918.95 column/sec. Elapsed time 7.75 sec\n",
      "EvaluatorHoldout: Processed 35582 (100.0%) in 10.71 sec. Users per second: 3321\n",
      "Similarity column 38121 (100.0%), 4860.48 column/sec. Elapsed time 7.84 sec\n",
      "EvaluatorHoldout: Processed 35567 (100.0%) in 10.62 sec. Users per second: 3349\n",
      "Similarity column 38121 (100.0%), 4899.33 column/sec. Elapsed time 7.78 sec\n",
      "EvaluatorHoldout: Processed 35578 (100.0%) in 10.87 sec. Users per second: 3273\n",
      "Similarity column 38121 (100.0%), 4908.96 column/sec. Elapsed time 7.77 sec\n",
      "EvaluatorHoldout: Processed 35563 (100.0%) in 10.64 sec. Users per second: 3342\n",
      "Similarity column 38121 (100.0%), 4864.96 column/sec. Elapsed time 7.84 sec\n",
      "EvaluatorHoldout: Processed 35560 (100.0%) in 10.68 sec. Users per second: 3328\n"
     ]
    },
    {
     "name": "stderr",
     "output_type": "stream",
     "text": [
      "[I 2024-11-28 20:12:15,276] Trial 89 finished with value: 0.05406540864111185 and parameters: {'similarity': 'asymmetric', 'topK': 7, 'shrink': 12, 'asymmetric_alpha': 0.1321384637815736}. Best is trial 74 with value: 0.05475680745670376.\n"
     ]
    },
    {
     "name": "stdout",
     "output_type": "stream",
     "text": [
      "Similarity column 38121 (100.0%), 4909.51 column/sec. Elapsed time 7.76 sec\n",
      "EvaluatorHoldout: Processed 35569 (100.0%) in 11.14 sec. Users per second: 3194\n",
      "Similarity column 38121 (100.0%), 4891.62 column/sec. Elapsed time 7.79 sec\n",
      "EvaluatorHoldout: Processed 35581 (100.0%) in 11.33 sec. Users per second: 3141\n",
      "Similarity column 38121 (100.0%), 4871.59 column/sec. Elapsed time 7.83 sec\n",
      "EvaluatorHoldout: Processed 35569 (100.0%) in 11.43 sec. Users per second: 3112\n",
      "Similarity column 38121 (100.0%), 4732.08 column/sec. Elapsed time 8.06 sec\n",
      "EvaluatorHoldout: Processed 35573 (100.0%) in 11.19 sec. Users per second: 3178\n",
      "Similarity column 38121 (100.0%), 4904.25 column/sec. Elapsed time 7.77 sec\n",
      "EvaluatorHoldout: Processed 35567 (100.0%) in 11.05 sec. Users per second: 3219\n",
      "Similarity column 38121 (100.0%), 4873.33 column/sec. Elapsed time 7.82 sec\n",
      "EvaluatorHoldout: Processed 35582 (100.0%) in 11.03 sec. Users per second: 3227\n",
      "Similarity column 38121 (100.0%), 4906.00 column/sec. Elapsed time 7.77 sec\n",
      "EvaluatorHoldout: Processed 35567 (100.0%) in 11.07 sec. Users per second: 3214\n",
      "Similarity column 38121 (100.0%), 4903.22 column/sec. Elapsed time 7.77 sec\n",
      "EvaluatorHoldout: Processed 35578 (100.0%) in 11.00 sec. Users per second: 3234\n",
      "Similarity column 38121 (100.0%), 4860.31 column/sec. Elapsed time 7.84 sec\n",
      "EvaluatorHoldout: Processed 35563 (100.0%) in 11.16 sec. Users per second: 3187\n",
      "Similarity column 38121 (100.0%), 4903.14 column/sec. Elapsed time 7.77 sec\n",
      "EvaluatorHoldout: Processed 35560 (100.0%) in 11.11 sec. Users per second: 3200\n"
     ]
    },
    {
     "name": "stderr",
     "output_type": "stream",
     "text": [
      "[I 2024-11-28 20:15:25,445] Trial 90 finished with value: 0.051446273462637235 and parameters: {'similarity': 'asymmetric', 'topK': 18, 'shrink': 13, 'asymmetric_alpha': 0.12293600917908937}. Best is trial 74 with value: 0.05475680745670376.\n"
     ]
    },
    {
     "name": "stdout",
     "output_type": "stream",
     "text": [
      "Similarity column 38121 (100.0%), 4913.64 column/sec. Elapsed time 7.76 sec\n",
      "EvaluatorHoldout: Processed 35569 (100.0%) in 10.86 sec. Users per second: 3276\n",
      "Similarity column 38121 (100.0%), 4904.72 column/sec. Elapsed time 7.77 sec\n",
      "EvaluatorHoldout: Processed 35581 (100.0%) in 10.74 sec. Users per second: 3313\n",
      "Similarity column 38121 (100.0%), 4912.99 column/sec. Elapsed time 7.76 sec\n",
      "EvaluatorHoldout: Processed 35569 (100.0%) in 10.61 sec. Users per second: 3353\n",
      "Similarity column 38121 (100.0%), 4874.63 column/sec. Elapsed time 7.82 sec\n",
      "EvaluatorHoldout: Processed 35573 (100.0%) in 10.68 sec. Users per second: 3331\n",
      "Similarity column 38121 (100.0%), 4902.76 column/sec. Elapsed time 7.78 sec\n",
      "EvaluatorHoldout: Processed 35567 (100.0%) in 10.66 sec. Users per second: 3338\n",
      "Similarity column 38121 (100.0%), 4915.99 column/sec. Elapsed time 7.75 sec\n",
      "EvaluatorHoldout: Processed 35582 (100.0%) in 10.67 sec. Users per second: 3335\n",
      "Similarity column 38121 (100.0%), 4865.45 column/sec. Elapsed time 7.84 sec\n",
      "EvaluatorHoldout: Processed 35567 (100.0%) in 10.61 sec. Users per second: 3354\n",
      "Similarity column 38121 (100.0%), 4894.84 column/sec. Elapsed time 7.79 sec\n",
      "EvaluatorHoldout: Processed 35578 (100.0%) in 10.80 sec. Users per second: 3295\n",
      "Similarity column 38121 (100.0%), 4839.85 column/sec. Elapsed time 7.88 sec\n",
      "EvaluatorHoldout: Processed 35563 (100.0%) in 10.90 sec. Users per second: 3263\n",
      "Similarity column 38121 (100.0%), 4898.02 column/sec. Elapsed time 7.78 sec\n",
      "EvaluatorHoldout: Processed 35560 (100.0%) in 10.93 sec. Users per second: 3253\n"
     ]
    },
    {
     "name": "stderr",
     "output_type": "stream",
     "text": [
      "[I 2024-11-28 20:18:31,249] Trial 91 finished with value: 0.05472943769894236 and parameters: {'similarity': 'asymmetric', 'topK': 5, 'shrink': 15, 'asymmetric_alpha': 0.12619593140412}. Best is trial 74 with value: 0.05475680745670376.\n"
     ]
    },
    {
     "name": "stdout",
     "output_type": "stream",
     "text": [
      "Similarity column 38121 (100.0%), 4754.62 column/sec. Elapsed time 8.02 sec\n",
      "EvaluatorHoldout: Processed 35569 (100.0%) in 10.87 sec. Users per second: 3272\n",
      "Similarity column 38121 (100.0%), 4698.08 column/sec. Elapsed time 8.11 sec\n",
      "EvaluatorHoldout: Processed 35581 (100.0%) in 10.89 sec. Users per second: 3268\n",
      "Similarity column 38121 (100.0%), 4750.95 column/sec. Elapsed time 8.02 sec\n",
      "EvaluatorHoldout: Processed 35569 (100.0%) in 10.99 sec. Users per second: 3235\n",
      "Similarity column 38121 (100.0%), 4918.58 column/sec. Elapsed time 7.75 sec\n",
      "EvaluatorHoldout: Processed 35573 (100.0%) in 10.84 sec. Users per second: 3283\n",
      "Similarity column 38121 (100.0%), 4873.44 column/sec. Elapsed time 7.82 sec\n",
      "EvaluatorHoldout: Processed 35567 (100.0%) in 10.91 sec. Users per second: 3259\n",
      "Similarity column 38121 (100.0%), 4755.56 column/sec. Elapsed time 8.02 sec\n",
      "EvaluatorHoldout: Processed 35582 (100.0%) in 10.98 sec. Users per second: 3240\n",
      "Similarity column 38121 (100.0%), 4908.84 column/sec. Elapsed time 7.77 sec\n",
      "EvaluatorHoldout: Processed 35567 (100.0%) in 10.98 sec. Users per second: 3238\n",
      "Similarity column 38121 (100.0%), 4707.77 column/sec. Elapsed time 8.10 sec\n",
      "EvaluatorHoldout: Processed 35578 (100.0%) in 10.93 sec. Users per second: 3255\n",
      "Similarity column 38121 (100.0%), 4752.60 column/sec. Elapsed time 8.02 sec\n",
      "EvaluatorHoldout: Processed 35563 (100.0%) in 11.07 sec. Users per second: 3212\n",
      "Similarity column 38121 (100.0%), 4756.28 column/sec. Elapsed time 8.01 sec\n",
      "EvaluatorHoldout: Processed 35560 (100.0%) in 10.94 sec. Users per second: 3251\n"
     ]
    },
    {
     "name": "stderr",
     "output_type": "stream",
     "text": [
      "[I 2024-11-28 20:21:40,773] Trial 92 finished with value: 0.05474431140719973 and parameters: {'similarity': 'asymmetric', 'topK': 5, 'shrink': 16, 'asymmetric_alpha': 0.07508309774335584}. Best is trial 74 with value: 0.05475680745670376.\n"
     ]
    },
    {
     "name": "stdout",
     "output_type": "stream",
     "text": [
      "Similarity column 38121 (100.0%), 4768.46 column/sec. Elapsed time 7.99 sec\n",
      "EvaluatorHoldout: Processed 35569 (100.0%) in 10.97 sec. Users per second: 3243\n",
      "Similarity column 38121 (100.0%), 4720.50 column/sec. Elapsed time 8.08 sec\n",
      "EvaluatorHoldout: Processed 35581 (100.0%) in 10.99 sec. Users per second: 3236\n",
      "Similarity column 38121 (100.0%), 4759.86 column/sec. Elapsed time 8.01 sec\n",
      "EvaluatorHoldout: Processed 35569 (100.0%) in 11.03 sec. Users per second: 3223\n",
      "Similarity column 38121 (100.0%), 4766.69 column/sec. Elapsed time 8.00 sec\n",
      "EvaluatorHoldout: Processed 35573 (100.0%) in 11.08 sec. Users per second: 3212\n",
      "Similarity column 38121 (100.0%), 4735.11 column/sec. Elapsed time 8.05 sec\n",
      "EvaluatorHoldout: Processed 35567 (100.0%) in 10.40 sec. Users per second: 3420\n",
      "Similarity column 38121 (100.0%), 4685.58 column/sec. Elapsed time 8.14 sec\n",
      "EvaluatorHoldout: Processed 35582 (100.0%) in 10.85 sec. Users per second: 3279\n",
      "Similarity column 38121 (100.0%), 4752.78 column/sec. Elapsed time 8.02 sec\n",
      "EvaluatorHoldout: Processed 35567 (100.0%) in 11.11 sec. Users per second: 3202\n",
      "Similarity column 38121 (100.0%), 4655.58 column/sec. Elapsed time 8.19 sec\n",
      "EvaluatorHoldout: Processed 35578 (100.0%) in 10.75 sec. Users per second: 3308\n",
      "Similarity column 38121 (100.0%), 4737.27 column/sec. Elapsed time 8.05 sec\n",
      "EvaluatorHoldout: Processed 35563 (100.0%) in 10.64 sec. Users per second: 3343\n",
      "Similarity column 38121 (100.0%), 4776.60 column/sec. Elapsed time 7.98 sec\n",
      "EvaluatorHoldout: Processed 35560 (100.0%) in 10.61 sec. Users per second: 3350\n"
     ]
    },
    {
     "name": "stderr",
     "output_type": "stream",
     "text": [
      "[I 2024-11-28 20:24:50,176] Trial 93 finished with value: 0.05443387468000042 and parameters: {'similarity': 'asymmetric', 'topK': 6, 'shrink': 16, 'asymmetric_alpha': 0.07116583154981751}. Best is trial 74 with value: 0.05475680745670376.\n"
     ]
    },
    {
     "name": "stdout",
     "output_type": "stream",
     "text": [
      "Similarity column 38121 (100.0%), 4762.25 column/sec. Elapsed time 8.00 sec\n",
      "EvaluatorHoldout: Processed 35569 (100.0%) in 10.44 sec. Users per second: 3406\n",
      "Similarity column 38121 (100.0%), 4756.89 column/sec. Elapsed time 8.01 sec\n",
      "EvaluatorHoldout: Processed 35581 (100.0%) in 10.43 sec. Users per second: 3411\n",
      "Similarity column 38121 (100.0%), 4779.77 column/sec. Elapsed time 7.98 sec\n",
      "EvaluatorHoldout: Processed 35569 (100.0%) in 10.52 sec. Users per second: 3380\n",
      "Similarity column 38121 (100.0%), 4782.88 column/sec. Elapsed time 7.97 sec\n",
      "EvaluatorHoldout: Processed 35573 (100.0%) in 10.43 sec. Users per second: 3410\n",
      "Similarity column 38121 (100.0%), 4790.66 column/sec. Elapsed time 7.96 sec\n",
      "EvaluatorHoldout: Processed 35567 (100.0%) in 10.51 sec. Users per second: 3385\n",
      "Similarity column 38121 (100.0%), 4648.26 column/sec. Elapsed time 8.20 sec\n",
      "EvaluatorHoldout: Processed 35582 (100.0%) in 10.95 sec. Users per second: 3250\n",
      "Similarity column 38121 (100.0%), 4746.91 column/sec. Elapsed time 8.03 sec\n",
      "EvaluatorHoldout: Processed 35567 (100.0%) in 11.03 sec. Users per second: 3225\n",
      "Similarity column 38121 (100.0%), 4737.46 column/sec. Elapsed time 8.05 sec\n",
      "EvaluatorHoldout: Processed 35578 (100.0%) in 10.92 sec. Users per second: 3258\n",
      "Similarity column 38121 (100.0%), 4918.99 column/sec. Elapsed time 7.75 sec\n",
      "EvaluatorHoldout: Processed 35563 (100.0%) in 11.00 sec. Users per second: 3234\n",
      "Similarity column 38121 (100.0%), 4919.28 column/sec. Elapsed time 7.75 sec\n",
      "EvaluatorHoldout: Processed 35560 (100.0%) in 10.90 sec. Users per second: 3263\n"
     ]
    },
    {
     "name": "stderr",
     "output_type": "stream",
     "text": [
      "[I 2024-11-28 20:27:57,528] Trial 94 finished with value: 0.054742236736660524 and parameters: {'similarity': 'asymmetric', 'topK': 5, 'shrink': 11, 'asymmetric_alpha': 0.04139629268811345}. Best is trial 74 with value: 0.05475680745670376.\n"
     ]
    },
    {
     "name": "stdout",
     "output_type": "stream",
     "text": [
      "Similarity column 38121 (100.0%), 4764.96 column/sec. Elapsed time 8.00 sec\n",
      "EvaluatorHoldout: Processed 35569 (100.0%) in 10.96 sec. Users per second: 3247\n",
      "Similarity column 38121 (100.0%), 4861.53 column/sec. Elapsed time 7.84 sec\n",
      "EvaluatorHoldout: Processed 35581 (100.0%) in 10.93 sec. Users per second: 3255\n",
      "Similarity column 38121 (100.0%), 4769.12 column/sec. Elapsed time 7.99 sec\n",
      "EvaluatorHoldout: Processed 35569 (100.0%) in 11.02 sec. Users per second: 3228\n",
      "Similarity column 38121 (100.0%), 4761.93 column/sec. Elapsed time 8.01 sec\n",
      "EvaluatorHoldout: Processed 35573 (100.0%) in 10.91 sec. Users per second: 3261\n",
      "Similarity column 38121 (100.0%), 4891.23 column/sec. Elapsed time 7.79 sec\n",
      "EvaluatorHoldout: Processed 35567 (100.0%) in 10.96 sec. Users per second: 3244\n",
      "Similarity column 38121 (100.0%), 4860.84 column/sec. Elapsed time 7.84 sec\n",
      "EvaluatorHoldout: Processed 35582 (100.0%) in 10.91 sec. Users per second: 3260\n",
      "Similarity column 38121 (100.0%), 4745.10 column/sec. Elapsed time 8.03 sec\n",
      "EvaluatorHoldout: Processed 35567 (100.0%) in 11.06 sec. Users per second: 3215\n",
      "Similarity column 38121 (100.0%), 4757.21 column/sec. Elapsed time 8.01 sec\n",
      "EvaluatorHoldout: Processed 35578 (100.0%) in 10.92 sec. Users per second: 3260\n",
      "Similarity column 38121 (100.0%), 4725.77 column/sec. Elapsed time 8.07 sec\n",
      "EvaluatorHoldout: Processed 35563 (100.0%) in 10.60 sec. Users per second: 3354\n",
      "Similarity column 38121 (100.0%), 4932.09 column/sec. Elapsed time 7.73 sec\n",
      "EvaluatorHoldout: Processed 35560 (100.0%) in 11.01 sec. Users per second: 3230\n"
     ]
    },
    {
     "name": "stderr",
     "output_type": "stream",
     "text": [
      "[I 2024-11-28 20:31:06,610] Trial 95 finished with value: 0.05447127076094086 and parameters: {'similarity': 'asymmetric', 'topK': 6, 'shrink': 11, 'asymmetric_alpha': 0.04795890356001037}. Best is trial 74 with value: 0.05475680745670376.\n"
     ]
    },
    {
     "name": "stdout",
     "output_type": "stream",
     "text": [
      "Similarity column 38121 (100.0%), 4916.46 column/sec. Elapsed time 7.75 sec\n",
      "EvaluatorHoldout: Processed 35569 (100.0%) in 10.93 sec. Users per second: 3255\n",
      "Similarity column 38121 (100.0%), 5082.51 column/sec. Elapsed time 7.50 sec\n",
      "EvaluatorHoldout: Processed 35581 (100.0%) in 10.93 sec. Users per second: 3255\n",
      "Similarity column 38121 (100.0%), 4920.19 column/sec. Elapsed time 7.75 sec\n",
      "EvaluatorHoldout: Processed 35569 (100.0%) in 11.08 sec. Users per second: 3210\n",
      "Similarity column 38121 (100.0%), 4896.80 column/sec. Elapsed time 7.78 sec\n",
      "EvaluatorHoldout: Processed 35573 (100.0%) in 10.98 sec. Users per second: 3239\n",
      "Similarity column 38121 (100.0%), 4923.76 column/sec. Elapsed time 7.74 sec\n",
      "EvaluatorHoldout: Processed 35567 (100.0%) in 11.00 sec. Users per second: 3233\n",
      "Similarity column 38121 (100.0%), 5184.22 column/sec. Elapsed time 7.35 sec\n",
      "EvaluatorHoldout: Processed 35582 (100.0%) in 11.06 sec. Users per second: 3217\n",
      "Similarity column 38121 (100.0%), 4938.59 column/sec. Elapsed time 7.72 sec\n",
      "EvaluatorHoldout: Processed 35567 (100.0%) in 11.10 sec. Users per second: 3206\n",
      "Similarity column 38121 (100.0%), 4898.74 column/sec. Elapsed time 7.78 sec\n",
      "EvaluatorHoldout: Processed 35578 (100.0%) in 11.00 sec. Users per second: 3235\n",
      "Similarity column 38121 (100.0%), 5174.27 column/sec. Elapsed time 7.37 sec\n",
      "EvaluatorHoldout: Processed 35563 (100.0%) in 11.05 sec. Users per second: 3218\n",
      "Similarity column 38121 (100.0%), 4909.37 column/sec. Elapsed time 7.76 sec\n",
      "EvaluatorHoldout: Processed 35560 (100.0%) in 11.02 sec. Users per second: 3227\n"
     ]
    },
    {
     "name": "stderr",
     "output_type": "stream",
     "text": [
      "[I 2024-11-28 20:34:14,651] Trial 96 finished with value: 0.051844313916728856 and parameters: {'similarity': 'jaccard', 'topK': 5, 'shrink': 12}. Best is trial 74 with value: 0.05475680745670376.\n"
     ]
    },
    {
     "name": "stdout",
     "output_type": "stream",
     "text": [
      "Similarity column 38121 (100.0%), 4773.61 column/sec. Elapsed time 7.99 sec\n",
      "EvaluatorHoldout: Processed 35569 (100.0%) in 11.01 sec. Users per second: 3232\n",
      "Similarity column 38121 (100.0%), 4761.58 column/sec. Elapsed time 8.01 sec\n",
      "EvaluatorHoldout: Processed 35581 (100.0%) in 11.00 sec. Users per second: 3234\n",
      "Similarity column 38121 (100.0%), 4949.98 column/sec. Elapsed time 7.70 sec\n",
      "EvaluatorHoldout: Processed 35569 (100.0%) in 10.93 sec. Users per second: 3254\n",
      "Similarity column 38121 (100.0%), 4765.62 column/sec. Elapsed time 8.00 sec\n",
      "EvaluatorHoldout: Processed 35573 (100.0%) in 10.98 sec. Users per second: 3241\n",
      "Similarity column 38121 (100.0%), 4769.56 column/sec. Elapsed time 7.99 sec\n",
      "EvaluatorHoldout: Processed 35567 (100.0%) in 11.00 sec. Users per second: 3235\n",
      "Similarity column 38121 (100.0%), 4738.19 column/sec. Elapsed time 8.05 sec\n",
      "EvaluatorHoldout: Processed 35582 (100.0%) in 11.02 sec. Users per second: 3230\n",
      "Similarity column 38121 (100.0%), 4757.47 column/sec. Elapsed time 8.01 sec\n",
      "EvaluatorHoldout: Processed 35567 (100.0%) in 10.88 sec. Users per second: 3270\n",
      "Similarity column 38121 (100.0%), 4744.65 column/sec. Elapsed time 8.03 sec\n",
      "EvaluatorHoldout: Processed 35578 (100.0%) in 10.96 sec. Users per second: 3246\n",
      "Similarity column 38121 (100.0%), 4882.37 column/sec. Elapsed time 7.81 sec\n",
      "EvaluatorHoldout: Processed 35563 (100.0%) in 10.92 sec. Users per second: 3258\n",
      "Similarity column 38121 (100.0%), 4922.11 column/sec. Elapsed time 7.74 sec\n",
      "EvaluatorHoldout: Processed 35560 (100.0%) in 11.03 sec. Users per second: 3224\n"
     ]
    },
    {
     "name": "stderr",
     "output_type": "stream",
     "text": [
      "[I 2024-11-28 20:37:24,221] Trial 97 finished with value: 0.05386923674270515 and parameters: {'similarity': 'asymmetric', 'topK': 5, 'shrink': 30, 'asymmetric_alpha': 0.08142309494604869}. Best is trial 74 with value: 0.05475680745670376.\n"
     ]
    },
    {
     "name": "stdout",
     "output_type": "stream",
     "text": [
      "Similarity column 38121 (100.0%), 4767.06 column/sec. Elapsed time 8.00 sec\n",
      "EvaluatorHoldout: Processed 35569 (100.0%) in 10.94 sec. Users per second: 3251\n",
      "Similarity column 38121 (100.0%), 4726.23 column/sec. Elapsed time 8.07 sec\n",
      "EvaluatorHoldout: Processed 35581 (100.0%) in 10.91 sec. Users per second: 3261\n",
      "Similarity column 38121 (100.0%), 4916.35 column/sec. Elapsed time 7.75 sec\n",
      "EvaluatorHoldout: Processed 35569 (100.0%) in 11.00 sec. Users per second: 3233\n",
      "Similarity column 38121 (100.0%), 4759.98 column/sec. Elapsed time 8.01 sec\n",
      "EvaluatorHoldout: Processed 35573 (100.0%) in 10.92 sec. Users per second: 3258\n",
      "Similarity column 38121 (100.0%), 4769.28 column/sec. Elapsed time 7.99 sec\n",
      "EvaluatorHoldout: Processed 35567 (100.0%) in 10.99 sec. Users per second: 3237\n",
      "Similarity column 38121 (100.0%), 4770.37 column/sec. Elapsed time 7.99 sec\n",
      "EvaluatorHoldout: Processed 35582 (100.0%) in 10.97 sec. Users per second: 3243\n",
      "Similarity column 38121 (100.0%), 4722.92 column/sec. Elapsed time 8.07 sec\n",
      "EvaluatorHoldout: Processed 35567 (100.0%) in 11.01 sec. Users per second: 3230\n",
      "Similarity column 38121 (100.0%), 4755.50 column/sec. Elapsed time 8.02 sec\n",
      "EvaluatorHoldout: Processed 35578 (100.0%) in 11.03 sec. Users per second: 3227\n",
      "Similarity column 38121 (100.0%), 4768.52 column/sec. Elapsed time 7.99 sec\n",
      "EvaluatorHoldout: Processed 35563 (100.0%) in 10.97 sec. Users per second: 3243\n",
      "Similarity column 38121 (100.0%), 4695.71 column/sec. Elapsed time 8.12 sec\n",
      "EvaluatorHoldout: Processed 35560 (100.0%) in 10.94 sec. Users per second: 3251\n"
     ]
    },
    {
     "name": "stderr",
     "output_type": "stream",
     "text": [
      "[I 2024-11-28 20:40:34,378] Trial 98 finished with value: 0.054472943037449505 and parameters: {'similarity': 'asymmetric', 'topK': 6, 'shrink': 11, 'asymmetric_alpha': 0.04021416561504586}. Best is trial 74 with value: 0.05475680745670376.\n"
     ]
    },
    {
     "name": "stdout",
     "output_type": "stream",
     "text": [
      "Similarity column 38121 (100.0%), 4854.54 column/sec. Elapsed time 7.85 sec\n",
      "EvaluatorHoldout: Processed 35569 (100.0%) in 10.92 sec. Users per second: 3258\n",
      "Similarity column 38121 (100.0%), 5106.73 column/sec. Elapsed time 7.46 sec\n",
      "EvaluatorHoldout: Processed 35581 (100.0%) in 10.79 sec. Users per second: 3297\n",
      "Similarity column 38121 (100.0%), 5061.69 column/sec. Elapsed time 7.53 sec\n",
      "EvaluatorHoldout: Processed 35569 (100.0%) in 10.56 sec. Users per second: 3367\n",
      "Similarity column 38121 (100.0%), 5124.68 column/sec. Elapsed time 7.44 sec\n",
      "EvaluatorHoldout: Processed 35573 (100.0%) in 10.81 sec. Users per second: 3290\n",
      "Similarity column 38121 (100.0%), 5122.73 column/sec. Elapsed time 7.44 sec\n",
      "EvaluatorHoldout: Processed 35567 (100.0%) in 10.66 sec. Users per second: 3336\n",
      "Similarity column 38121 (100.0%), 5087.12 column/sec. Elapsed time 7.49 sec\n",
      "EvaluatorHoldout: Processed 35582 (100.0%) in 10.68 sec. Users per second: 3331\n",
      "Similarity column 38121 (100.0%), 5123.18 column/sec. Elapsed time 7.44 sec\n",
      "EvaluatorHoldout: Processed 35567 (100.0%) in 10.73 sec. Users per second: 3316\n",
      "Similarity column 38121 (100.0%), 5119.54 column/sec. Elapsed time 7.45 sec\n",
      "EvaluatorHoldout: Processed 35578 (100.0%) in 10.78 sec. Users per second: 3300\n",
      "Similarity column 38121 (100.0%), 5119.93 column/sec. Elapsed time 7.45 sec\n",
      "EvaluatorHoldout: Processed 35563 (100.0%) in 10.59 sec. Users per second: 3357\n",
      "Similarity column 38121 (100.0%), 5081.43 column/sec. Elapsed time 7.50 sec\n",
      "EvaluatorHoldout: Processed 35560 (100.0%) in 10.69 sec. Users per second: 3327\n"
     ]
    },
    {
     "name": "stderr",
     "output_type": "stream",
     "text": [
      "[I 2024-11-28 20:43:37,980] Trial 99 finished with value: 0.05183022613290113 and parameters: {'similarity': 'tversky', 'topK': 5, 'shrink': 19, 'tversky_alpha': 0.5270943712746126, 'tversky_beta': 0.6017617701560966}. Best is trial 74 with value: 0.05475680745670376.\n"
     ]
    }
   ],
   "source": [
    "optuna_study = optuna.create_study(direction=\"maximize\")\n",
    "        \n",
    "save_results = SaveResults()\n",
    "        \n",
    "optuna_study.optimize(objective_function,\n",
    "                      callbacks=[save_results],\n",
    "                      n_trials = 100)"
   ]
  },
  {
   "cell_type": "code",
   "execution_count": 40,
   "metadata": {},
   "outputs": [],
   "source": [
    "best_index = save_results.results_df[\"result\"].idxmax()\n",
    "best_hyperparams = save_results.results_df.loc[best_index].to_dict()"
   ]
  },
  {
   "cell_type": "code",
   "execution_count": 41,
   "metadata": {},
   "outputs": [
    {
     "data": {
      "text/plain": [
       "{'result': 0.05475680745670376,\n",
       " 'similarity': 'asymmetric',\n",
       " 'topK': 5.0,\n",
       " 'shrink': 11.0,\n",
       " 'tversky_alpha': nan,\n",
       " 'tversky_beta': nan,\n",
       " 'asymmetric_alpha': 0.14401030086806713}"
      ]
     },
     "execution_count": 41,
     "metadata": {},
     "output_type": "execute_result"
    }
   ],
   "source": [
    "best_hyperparams"
   ]
  }
 ],
 "metadata": {
  "kernelspec": {
   "display_name": "RecSysPD",
   "language": "python",
   "name": "python3"
  },
  "language_info": {
   "codemirror_mode": {
    "name": "ipython",
    "version": 3
   },
   "file_extension": ".py",
   "mimetype": "text/x-python",
   "name": "python",
   "nbconvert_exporter": "python",
   "pygments_lexer": "ipython3",
   "version": "3.8.20"
  }
 },
 "nbformat": 4,
 "nbformat_minor": 2
}
