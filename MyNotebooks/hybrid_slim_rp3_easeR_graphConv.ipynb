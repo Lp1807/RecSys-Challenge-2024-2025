{
 "cells": [
  {
   "cell_type": "code",
   "execution_count": 2,
   "metadata": {},
   "outputs": [],
   "source": [
    "import os\n",
    "\n",
    "os.chdir('../')"
   ]
  },
  {
   "cell_type": "code",
   "execution_count": 3,
   "metadata": {},
   "outputs": [
    {
     "name": "stdout",
     "output_type": "stream",
     "text": [
      "   user_id  item_id  data\n",
      "0        0        0   1.0\n",
      "1        0        2   1.0\n",
      "2        0      120   1.0\n",
      "3        0      128   1.0\n",
      "4        0      211   1.0\n",
      "5        0      232   1.0\n",
      "6        0      282   1.0\n",
      "7        0      453   1.0\n",
      "8        0      458   1.0\n",
      "9        0      491   1.0\n"
     ]
    }
   ],
   "source": [
    "import numpy as np\n",
    "import pandas as pd\n",
    "import matplotlib.pyplot as plt\n",
    "\n",
    "data_train_path = \"Dataset/data_train.csv\"\n",
    "\n",
    "URM_all_dataframe = pd.read_csv(data_train_path)\n",
    "print(URM_all_dataframe.head(10))"
   ]
  },
  {
   "cell_type": "code",
   "execution_count": 4,
   "metadata": {},
   "outputs": [
    {
     "name": "stdout",
     "output_type": "stream",
     "text": [
      "Warning: 141 (0.39 %) of 35736 users have no sampled items\n",
      "EvaluatorHoldout: Ignoring 141 ( 0.4%) Users that have less than 1 test interactions\n"
     ]
    }
   ],
   "source": [
    "import numpy as np\n",
    "import scipy.sparse as sps\n",
    "from Data_manager.split_functions.split_train_validation_random_holdout import split_train_in_two_percentage_global_sample\n",
    "from Evaluation.Evaluator import EvaluatorHoldout\n",
    "\n",
    "\n",
    "\n",
    "URM_all = sps.coo_matrix((URM_all_dataframe['data'], (URM_all_dataframe['user_id'], URM_all_dataframe['item_id'])))\n",
    "URM_all = URM_all.tocsr()\n",
    "\n",
    "URM_train_validation, URM_test = split_train_in_two_percentage_global_sample(URM_all, train_percentage = 0.8)\n",
    "evaluator_test = EvaluatorHoldout(URM_test, cutoff_list=[10])"
   ]
  },
  {
   "cell_type": "code",
   "execution_count": null,
   "metadata": {},
   "outputs": [],
   "source": [
    "# This includes SLIM, RP3, EASER\n",
    "old_similarity_matrix = sps.load_npz(\"SimilarityMatrixes/merging_models_final_similarity_TRAINVAL.npz\")\n",
    "# This includes graphConvolution Similarity Matrix\n",
    "gC_similarity_matrix = sps.load_npz(\"SimilarityMatrixes/graphConvolution_W_sparse_TRAINVAL_num_factors:5645_alpha:_0.223329.npz\")"
   ]
  },
  {
   "cell_type": "code",
   "execution_count": null,
   "metadata": {},
   "outputs": [],
   "source": [
    "from Recommenders.KNN.ItemKNNCustomSimilarityRecommender import ItemKNNCustomSimilarityRecommender\n",
    "\n",
    "def objective_function(trial):\n",
    "\n",
    "    alpha = trial.suggest_uniform('alpha', 0.0, 1.0)\n",
    "\n",
    "    recommender = ItemKNNCustomSimilarityRecommender(URM_train_validation)\n",
    "\n",
    "    new_similarity = old_similarity_matrix * alpha + gC_similarity_matrix * (1-alpha)\n",
    "\n",
    "    assert type(new_similarity) is sps.csr_matrix\n",
    "\n",
    "    recommender.fit(new_similarity)\n",
    "\n",
    "    result_dict, _ = evaluator_test.evaluateRecommender(recommender)\n",
    "\n",
    "    MAP = result_dict.loc[10][\"MAP\"]\n",
    "    \n",
    "    return MAP\n",
    "\n",
    "class SaveResults(object):\n",
    "    \n",
    "    def __init__(self):\n",
    "        self.results_df = pd.DataFrame(columns = [\"result\"])\n",
    "    \n",
    "    def __call__(self, optuna_study, optuna_trial):\n",
    "        hyperparam_dict = optuna_trial.params.copy()\n",
    "        hyperparam_dict[\"result\"] = optuna_trial.values[0]\n",
    "        \n",
    "        self.results_df = pd.concat([self.results_df, pd.DataFrame([hyperparam_dict])], ignore_index=True)\n",
    "        self.results_df.to_csv(\"logs/Hybrid/hybrid_slim_EASER_GRAPHCONV.csv\", index = False)\n",
    "        \n",
    "import optuna\n",
    "\n",
    "optuna_study = optuna.create_study(study_name=\"hybrid_slim_rp3_easeR_graphConv\", direction=\"maximize\")\n",
    "        \n",
    "save_results = SaveResults()\n",
    "        \n",
    "optuna_study.optimize(objective_function,\n",
    "                      callbacks=[save_results],\n",
    "                      n_trials = 100\n",
    "                      )"
   ]
  },
  {
   "cell_type": "markdown",
   "metadata": {},
   "source": [
    "# Let's just try linear combination"
   ]
  },
  {
   "cell_type": "code",
   "execution_count": 4,
   "metadata": {},
   "outputs": [],
   "source": [
    "# This includes SLIM, RP3, EASER\n",
    "old_similarity_matrix = sps.load_npz(\"SimilarityMatrixes/merging_models_final_similarity_TRAINVAL.npz\")\n",
    "# This includes graphConvolution Similarity Matrix\n",
    "gC_similarity_matrix = sps.load_npz(\"SimilarityMatrixes/graphConvolution_W_sparse_TRAINVAL_num_factors:5645_alpha:_0.223329.npz\")"
   ]
  },
  {
   "cell_type": "code",
   "execution_count": 5,
   "metadata": {},
   "outputs": [
    {
     "name": "stdout",
     "output_type": "stream",
     "text": [
      "<class 'scipy.sparse._csr.csr_matrix'>\n",
      "<class 'scipy.sparse._csr.csr_matrix'>\n"
     ]
    }
   ],
   "source": [
    "print(type(old_similarity_matrix))\n",
    "print(type(gC_similarity_matrix))"
   ]
  },
  {
   "cell_type": "code",
   "execution_count": 5,
   "metadata": {},
   "outputs": [],
   "source": [
    "from Recommenders.KNN.ItemKNNCustomSimilarityRecommender import ItemKNNCustomSimilarityRecommender\n",
    "\n",
    "MM_recommend = ItemKNNCustomSimilarityRecommender(URM_train_validation)\n",
    "MM_recommend.fit(old_similarity_matrix)\n",
    "\n",
    "from Recommenders.Neural.Convolution.GraphConvolution import GraphConvolution\n",
    "\n",
    "GC_recommend = GraphConvolution(URM_train_validation)\n",
    "GC_recommend.W_sparse = gC_similarity_matrix"
   ]
  },
  {
   "cell_type": "code",
   "execution_count": null,
   "metadata": {},
   "outputs": [
    {
     "name": "stderr",
     "output_type": "stream",
     "text": [
      "[I 2024-12-31 16:35:57,497] A new study created in memory with name: HYBRID_IALS_INCLUDED\n",
      "/var/folders/50/7hjr20g17_18p725nbt0qqv00000gn/T/ipykernel_24088/160973572.py:8: FutureWarning: suggest_uniform has been deprecated in v3.0.0. This feature will be removed in v6.0.0. See https://github.com/optuna/optuna/releases/tag/v3.0.0. Use suggest_float instead.\n",
      "  alpha = trial.suggest_uniform('alpha', 0, 1)\n"
     ]
    },
    {
     "name": "stdout",
     "output_type": "stream",
     "text": [
      "EvaluatorHoldout: Processed 4000 (11.2%) in 5.81 min. Users per second: 11\n"
     ]
    }
   ],
   "source": [
    "from Recommenders.Hybrid.GeneralizedLinearCoupleHybridRecommender import GeneralizedLinearCoupleHybridRecommender\n",
    "import optuna\n",
    "\n",
    "recommenders = [MM_recommend, GC_recommend]\n",
    "\n",
    "def objective_function(trial):\n",
    "    recommender = GeneralizedLinearCoupleHybridRecommender(URM_train_validation, recommenders)\n",
    "    alpha = trial.suggest_uniform('alpha', 0, 1)\n",
    "    recommender.fit(alpha)\n",
    "    result_dict, _ = evaluator_test.evaluateRecommender(recommender)\n",
    "    MAP = result_dict.loc[10][\"MAP\"]\n",
    "    return MAP\n",
    "\n",
    "class SaveResults(object):\n",
    "    \n",
    "    def __init__(self):\n",
    "        self.results_df = pd.DataFrame(columns = [\"result\"])\n",
    "    \n",
    "    def __call__(self, optuna_study, optuna_trial):\n",
    "        hyperparam_dict = optuna_trial.params.copy()\n",
    "        hyperparam_dict[\"result\"] = optuna_trial.values[0]\n",
    "        \n",
    "        self.results_df = pd.concat([self.results_df, pd.DataFrame([hyperparam_dict])], ignore_index=True)\n",
    "        self.results_df.to_csv(\"logs/Hybrid/hybrid_slim_EASER_GRAPHCONV_LINEARLY_COMBINED.csv\", index = False)\n",
    "\n",
    "optuna_study = optuna.create_study(study_name=\"HYBRID_IALS_INCLUDED\", direction=\"maximize\")\n",
    "        \n",
    "save_results = SaveResults()\n",
    "        \n",
    "optuna_study.optimize(objective_function,\n",
    "                      callbacks=[save_results],\n",
    "                      n_trials = 100,\n",
    "                      )"
   ]
  },
  {
   "cell_type": "code",
   "execution_count": 6,
   "metadata": {},
   "outputs": [
    {
     "name": "stdout",
     "output_type": "stream",
     "text": [
      "RP3betaRecommender: Similarity column 38121 (100.0%), 2946.02 column/sec. Elapsed time 12.94 sec\n"
     ]
    }
   ],
   "source": [
    "from Recommenders.GraphBased.RP3betaRecommender import RP3betaRecommender\n",
    "from Recommenders.KNN.ItemKNNCustomSimilarityRecommender import ItemKNNCustomSimilarityRecommender\n",
    "from Recommenders.MatrixFactorization.ImplicitALSRecommender import ImplicitALSRecommender\n",
    "from Recommenders.Hybrid.GeneralizedLinearCoupleHybridRecommender import GeneralizedLinearCoupleHybridRecommender\n",
    "\n",
    "\n",
    "slim_W = sps.load_npz(\"SimilarityMatrixes/slim_best_W.npz\")\n",
    "easeR_W = sps.load_npz(\"SimilarityMatrixes/easeR_best_W.npz\")\n",
    "alpha_slim_EASER = 0.622977719931239\n",
    "\n",
    "similarity_SLIM_EASER = slim_W.multiply(alpha_slim_EASER) + easeR_W.multiply(1-alpha_slim_EASER)\n",
    "del slim_W, easeR_W\n",
    "# RP3\n",
    "rp3_recommender = RP3betaRecommender(URM_all)\n",
    "rp3_recommender.fit(topK=14, alpha=0.3683550822991944, beta=0.19877125816137325)\n",
    "\n",
    "# Hybrid\n",
    "final_recommender = ItemKNNCustomSimilarityRecommender(URM_all)\n",
    "alpha = 0.8407690672301905\n",
    "new_similarity = similarity_SLIM_EASER.multiply(alpha) + rp3_recommender.W_sparse.multiply(1-alpha)\n",
    "del similarity_SLIM_EASER, rp3_recommender\n",
    "final_recommender.fit(new_similarity)\n",
    "\n",
    "sps.save_npz(\"SimilarityMatrixes/merging_models_final_similarity_SLIM_RP3_EASER.npz\", final_recommender.W_sparse)"
   ]
  }
 ],
 "metadata": {
  "kernelspec": {
   "display_name": "RecSysPD",
   "language": "python",
   "name": "python3"
  },
  "language_info": {
   "codemirror_mode": {
    "name": "ipython",
    "version": 3
   },
   "file_extension": ".py",
   "mimetype": "text/x-python",
   "name": "python",
   "nbconvert_exporter": "python",
   "pygments_lexer": "ipython3",
   "version": "3.8.20"
  }
 },
 "nbformat": 4,
 "nbformat_minor": 2
}
