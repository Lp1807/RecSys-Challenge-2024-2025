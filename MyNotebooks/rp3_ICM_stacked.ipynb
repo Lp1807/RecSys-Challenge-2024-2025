{
 "cells": [
  {
   "cell_type": "code",
   "execution_count": 1,
   "metadata": {},
   "outputs": [],
   "source": [
    "import os\n",
    "\n",
    "os.chdir('../')"
   ]
  },
  {
   "cell_type": "code",
   "execution_count": 2,
   "metadata": {},
   "outputs": [],
   "source": [
    "import numpy as np\n",
    "import pandas as pd\n",
    "import matplotlib.pyplot as plt\n",
    "\n",
    "data_train_path = \"Dataset/data_train.csv\"\n",
    "\n",
    "ICM_all_dataframe = pd.read_csv(\"Dataset/data_ICM_metadata.csv\")\n",
    "URM_all_dataframe = pd.read_csv(\"Dataset/data_train.csv\")"
   ]
  },
  {
   "cell_type": "code",
   "execution_count": 4,
   "metadata": {},
   "outputs": [
    {
     "name": "stdout",
     "output_type": "stream",
     "text": [
      "Warning: 141 (0.39 %) of 35736 users have no sampled items\n",
      "EvaluatorHoldout: Ignoring 141 ( 0.4%) Users that have less than 1 test interactions\n"
     ]
    }
   ],
   "source": [
    "import numpy as np\n",
    "import scipy.sparse as sps\n",
    "from Data_manager.split_functions.split_train_validation_random_holdout import split_train_in_two_percentage_global_sample\n",
    "from Evaluation.Evaluator import EvaluatorHoldout\n",
    "\n",
    "ICM_all = sps.coo_matrix((ICM_all_dataframe['data'], (ICM_all_dataframe['item_id'], ICM_all_dataframe['feature_id'])))\n",
    "ICM_all = ICM_all.tocsr()\n",
    "\n",
    "URM_all = sps.coo_matrix((URM_all_dataframe['data'], (URM_all_dataframe['user_id'], URM_all_dataframe['item_id'])))\n",
    "URM_all = URM_all.tocsr()\n",
    "\n",
    "#ICM_train_validation, ICM_test = split_train_in_two_percentage_global_sample(ICM_all, train_percentage=0.8)\n",
    "URM_train_validation, URM_test = split_train_in_two_percentage_global_sample(URM_all, train_percentage=0.8)\n",
    "evaluator_test = EvaluatorHoldout(URM_test, cutoff_list=[10])"
   ]
  },
  {
   "cell_type": "code",
   "execution_count": 7,
   "metadata": {},
   "outputs": [
    {
     "name": "stdout",
     "output_type": "stream",
     "text": [
      "RP3betaRecommender: Similarity column 38121 (100.0%), 914.18 column/sec. Elapsed time 41.70 sec\n"
     ]
    }
   ],
   "source": [
    "from Recommenders.GraphBased.RP3betaRecommender import RP3betaRecommender\n",
    "\n",
    "stacked_URM = sps.vstack([URM_all, ICM_all.T])\n",
    "# RP3\n",
    "rp3_recommender = RP3betaRecommender(stacked_URM)\n",
    "rp3_recommender.fit(topK=14, alpha=0.3683550822991944, beta=0.19877125816137325)"
   ]
  },
  {
   "cell_type": "code",
   "execution_count": 8,
   "metadata": {},
   "outputs": [
    {
     "name": "stdout",
     "output_type": "stream",
     "text": [
      "   user_id\n",
      "0        0\n",
      "1        1\n",
      "2        2\n",
      "3        3\n",
      "4        4\n",
      "5        5\n",
      "6        6\n",
      "7        7\n",
      "8        8\n",
      "9        9\n"
     ]
    }
   ],
   "source": [
    "target_user = pd.read_csv(\"Dataset/data_target_users_test.csv\")\n",
    "print(target_user.head(10))\n",
    "\n",
    "user_id = target_user['user_id']\n",
    "recommendations = []\n",
    "for user in user_id:\n",
    "    recommendations.append(rp3_recommender.recommend(user, cutoff=10))\n",
    "\n",
    "# Saving in a submission file for the competition\n",
    "submission = pd.DataFrame(columns=['user_id', 'item_list'])\n",
    "submission['user_id'] = user_id\n",
    "# Convert list of recommendations into a space-separated string\n",
    "submission['item_list'] = [' '.join(map(str, recs)) for recs in recommendations]\n",
    "\n",
    "# Save the submission file\n",
    "submission.to_csv(f\"submissions/rp3_stacked_samebestparam.csv\", index=False)"
   ]
  },
  {
   "cell_type": "markdown",
   "metadata": {},
   "source": [
    "# Okay, maybe hyperparameter tuning?\n",
    "Let's avoid k fold for the moment"
   ]
  },
  {
   "cell_type": "code",
   "execution_count": 4,
   "metadata": {},
   "outputs": [],
   "source": [
    "import os\n",
    "os.chdir('../')"
   ]
  },
  {
   "cell_type": "code",
   "execution_count": 5,
   "metadata": {},
   "outputs": [
    {
     "name": "stdout",
     "output_type": "stream",
     "text": [
      "   user_id  item_id  data\n",
      "0        0        0   1.0\n",
      "1        0        2   1.0\n",
      "2        0      120   1.0\n",
      "3        0      128   1.0\n",
      "4        0      211   1.0\n",
      "5        0      232   1.0\n",
      "6        0      282   1.0\n",
      "7        0      453   1.0\n",
      "8        0      458   1.0\n",
      "9        0      491   1.0\n"
     ]
    }
   ],
   "source": [
    "import numpy as np\n",
    "import pandas as pd\n",
    "import matplotlib.pyplot as plt\n",
    "\n",
    "data_train_path = \"Dataset/data_train.csv\"\n",
    "\n",
    "URM_all_dataframe = pd.read_csv(data_train_path)\n",
    "ICM_all_dataframe = pd.read_csv(\"Dataset/data_ICM_metadata.csv\")\n",
    "\n",
    "\n",
    "print(URM_all_dataframe.head(10))"
   ]
  },
  {
   "cell_type": "code",
   "execution_count": 6,
   "metadata": {},
   "outputs": [
    {
     "name": "stdout",
     "output_type": "stream",
     "text": [
      "Warning: 141 (0.39 %) of 35736 users have no sampled items\n",
      "EvaluatorHoldout: Ignoring 141 ( 0.4%) Users that have less than 1 test interactions\n"
     ]
    }
   ],
   "source": [
    "import numpy as np\n",
    "import scipy.sparse as sps\n",
    "from Data_manager.split_functions.split_train_validation_random_holdout import split_train_in_two_percentage_global_sample\n",
    "from Evaluation.Evaluator import EvaluatorHoldout\n",
    "\n",
    "\n",
    "\n",
    "URM_all = sps.coo_matrix((URM_all_dataframe['data'], (URM_all_dataframe['user_id'], URM_all_dataframe['item_id'])))\n",
    "URM_all = URM_all.tocsr()\n",
    "\n",
    "URM_train_validation, URM_test = split_train_in_two_percentage_global_sample(URM_all, train_percentage = 0.8)\n",
    "evaluator_test = EvaluatorHoldout(URM_test, cutoff_list=[10])\n",
    "\n",
    "ICM_all = sps.coo_matrix((ICM_all_dataframe['data'], (ICM_all_dataframe['item_id'], ICM_all_dataframe['feature_id'])))"
   ]
  },
  {
   "cell_type": "code",
   "execution_count": 7,
   "metadata": {},
   "outputs": [],
   "source": [
    "stacked_URM_train = sps.vstack([URM_train_validation, ICM_all.T])"
   ]
  },
  {
   "cell_type": "code",
   "execution_count": 9,
   "metadata": {},
   "outputs": [
    {
     "name": "stderr",
     "output_type": "stream",
     "text": [
      "[I 2024-12-30 13:02:43,033] A new study created in memory with name: rp3_stacked\n"
     ]
    },
    {
     "name": "stdout",
     "output_type": "stream",
     "text": [
      "RP3betaRecommender: Similarity column 38121 (100.0%), 882.95 column/sec. Elapsed time 43.17 sec\n",
      "EvaluatorHoldout: Processed 35595 (100.0%) in 17.73 sec. Users per second: 2008\n"
     ]
    },
    {
     "name": "stderr",
     "output_type": "stream",
     "text": [
      "[I 2024-12-30 13:03:48,516] Trial 0 finished with value: 0.018065415153278634 and parameters: {'topK': 252, 'alpha': 0.5090155916828913, 'beta': 1.3211353738564091}. Best is trial 0 with value: 0.018065415153278634.\n"
     ]
    },
    {
     "name": "stdout",
     "output_type": "stream",
     "text": [
      "RP3betaRecommender: Similarity column 38121 (100.0%), 1035.91 column/sec. Elapsed time 36.80 sec\n",
      "EvaluatorHoldout: Processed 35595 (100.0%) in 14.63 sec. Users per second: 2432\n"
     ]
    },
    {
     "name": "stderr",
     "output_type": "stream",
     "text": [
      "[I 2024-12-30 13:04:41,398] Trial 1 finished with value: 0.03160567294764429 and parameters: {'topK': 43, 'alpha': 0.20252393930250912, 'beta': 0.9203773949673912}. Best is trial 1 with value: 0.03160567294764429.\n"
     ]
    },
    {
     "name": "stdout",
     "output_type": "stream",
     "text": [
      "RP3betaRecommender: Similarity column 38121 (100.0%), 839.33 column/sec. Elapsed time 45.42 sec\n",
      "EvaluatorHoldout: Processed 35595 (100.0%) in 20.35 sec. Users per second: 1749\n"
     ]
    },
    {
     "name": "stderr",
     "output_type": "stream",
     "text": [
      "[I 2024-12-30 13:05:53,447] Trial 2 finished with value: 0.04378088705163956 and parameters: {'topK': 284, 'alpha': 0.30963518670137447, 'beta': 0.3524702194922955}. Best is trial 2 with value: 0.04378088705163956.\n"
     ]
    },
    {
     "name": "stdout",
     "output_type": "stream",
     "text": [
      "RP3betaRecommender: Similarity column 38121 (100.0%), 776.40 column/sec. Elapsed time 49.10 sec\n",
      "EvaluatorHoldout: Processed 35595 (100.0%) in 23.17 sec. Users per second: 1536\n"
     ]
    },
    {
     "name": "stderr",
     "output_type": "stream",
     "text": [
      "[I 2024-12-30 13:07:12,299] Trial 3 finished with value: 0.029486071255771382 and parameters: {'topK': 298, 'alpha': 0.17224216895581068, 'beta': 0.8004319812971081}. Best is trial 2 with value: 0.04378088705163956.\n"
     ]
    },
    {
     "name": "stdout",
     "output_type": "stream",
     "text": [
      "RP3betaRecommender: Similarity column 38121 (100.0%), 931.73 column/sec. Elapsed time 40.91 sec\n",
      "EvaluatorHoldout: Processed 35595 (100.0%) in 14.68 sec. Users per second: 2425\n"
     ]
    },
    {
     "name": "stderr",
     "output_type": "stream",
     "text": [
      "[I 2024-12-30 13:08:09,085] Trial 4 finished with value: 0.024794427833407538 and parameters: {'topK': 24, 'alpha': 1.5644369116760615, 'beta': 0.6728056096959001}. Best is trial 2 with value: 0.04378088705163956.\n"
     ]
    },
    {
     "name": "stdout",
     "output_type": "stream",
     "text": [
      "RP3betaRecommender: Similarity column 38121 (100.0%), 1023.57 column/sec. Elapsed time 37.24 sec\n",
      "EvaluatorHoldout: Processed 35595 (100.0%) in 15.00 sec. Users per second: 2373\n"
     ]
    },
    {
     "name": "stderr",
     "output_type": "stream",
     "text": [
      "[I 2024-12-30 13:09:02,390] Trial 5 finished with value: 0.045835914175566816 and parameters: {'topK': 19, 'alpha': 0.1334644685856401, 'beta': 0.5362200449491026}. Best is trial 5 with value: 0.045835914175566816.\n"
     ]
    },
    {
     "name": "stdout",
     "output_type": "stream",
     "text": [
      "RP3betaRecommender: Similarity column 38121 (100.0%), 959.82 column/sec. Elapsed time 39.72 sec\n",
      "EvaluatorHoldout: Processed 35595 (100.0%) in 15.44 sec. Users per second: 2305\n"
     ]
    },
    {
     "name": "stderr",
     "output_type": "stream",
     "text": [
      "[I 2024-12-30 13:09:59,753] Trial 6 finished with value: 0.04957124127920438 and parameters: {'topK': 64, 'alpha': 0.5404107519347416, 'beta': 0.2633751181402024}. Best is trial 6 with value: 0.04957124127920438.\n"
     ]
    },
    {
     "name": "stdout",
     "output_type": "stream",
     "text": [
      "RP3betaRecommender: Similarity column 38121 (100.0%), 1082.35 column/sec. Elapsed time 35.22 sec\n",
      "EvaluatorHoldout: Processed 35595 (100.0%) in 14.92 sec. Users per second: 2385\n"
     ]
    },
    {
     "name": "stderr",
     "output_type": "stream",
     "text": [
      "[I 2024-12-30 13:10:50,810] Trial 7 finished with value: 0.013431271558115495 and parameters: {'topK': 38, 'alpha': 0.20282717110688542, 'beta': 1.6938701668296694}. Best is trial 6 with value: 0.04957124127920438.\n"
     ]
    },
    {
     "name": "stdout",
     "output_type": "stream",
     "text": [
      "RP3betaRecommender: Similarity column 38121 (100.0%), 901.23 column/sec. Elapsed time 42.30 sec\n",
      "EvaluatorHoldout: Processed 35595 (100.0%) in 18.47 sec. Users per second: 1927\n"
     ]
    },
    {
     "name": "stderr",
     "output_type": "stream",
     "text": [
      "[I 2024-12-30 13:11:54,569] Trial 8 finished with value: 0.02647193515229704 and parameters: {'topK': 147, 'alpha': 0.07725616696526005, 'beta': 0.8327858985817569}. Best is trial 6 with value: 0.04957124127920438.\n"
     ]
    },
    {
     "name": "stdout",
     "output_type": "stream",
     "text": [
      "RP3betaRecommender: Similarity column 38121 (100.0%), 933.38 column/sec. Elapsed time 40.84 sec\n",
      "EvaluatorHoldout: Processed 35595 (100.0%) in 15.44 sec. Users per second: 2306\n"
     ]
    },
    {
     "name": "stderr",
     "output_type": "stream",
     "text": [
      "[I 2024-12-30 13:12:52,104] Trial 9 finished with value: 0.012104224777423536 and parameters: {'topK': 39, 'alpha': 1.660278144803422, 'beta': 1.6965641142072097}. Best is trial 6 with value: 0.04957124127920438.\n"
     ]
    },
    {
     "name": "stdout",
     "output_type": "stream",
     "text": [
      "RP3betaRecommender: Similarity column 38121 (100.0%), 932.40 column/sec. Elapsed time 40.88 sec\n",
      "EvaluatorHoldout: Processed 35595 (100.0%) in 16.60 sec. Users per second: 2144\n"
     ]
    },
    {
     "name": "stderr",
     "output_type": "stream",
     "text": [
      "[I 2024-12-30 13:13:52,937] Trial 10 finished with value: 0.044171971049971996 and parameters: {'topK': 131, 'alpha': 0.8667324433026422, 'beta': 0.019999087430411178}. Best is trial 6 with value: 0.04957124127920438.\n"
     ]
    },
    {
     "name": "stdout",
     "output_type": "stream",
     "text": [
      "RP3betaRecommender: Similarity column 38121 (100.0%), 923.67 column/sec. Elapsed time 41.27 sec\n",
      "EvaluatorHoldout: Processed 35595 (100.0%) in 16.82 sec. Users per second: 2116\n"
     ]
    },
    {
     "name": "stderr",
     "output_type": "stream",
     "text": [
      "[I 2024-12-30 13:14:53,796] Trial 11 finished with value: 0.047856858574303086 and parameters: {'topK': 96, 'alpha': 0.7241540946694108, 'beta': 0.279257561569888}. Best is trial 6 with value: 0.04957124127920438.\n"
     ]
    },
    {
     "name": "stdout",
     "output_type": "stream",
     "text": [
      "RP3betaRecommender: Similarity column 38121 (100.0%), 893.93 column/sec. Elapsed time 42.64 sec\n",
      "EvaluatorHoldout: Processed 35595 (100.0%) in 17.07 sec. Users per second: 2086\n"
     ]
    },
    {
     "name": "stderr",
     "output_type": "stream",
     "text": [
      "[I 2024-12-30 13:15:56,150] Trial 12 finished with value: 0.045268248171112004 and parameters: {'topK': 89, 'alpha': 0.8758430722585611, 'beta': 0.053659729884700025}. Best is trial 6 with value: 0.04957124127920438.\n"
     ]
    },
    {
     "name": "stdout",
     "output_type": "stream",
     "text": [
      "RP3betaRecommender: Similarity column 38121 (100.0%), 391.57 column/sec. Elapsed time 1.62 min\n",
      "EvaluatorHoldout: Processed 35595 (100.0%) in 26.60 sec. Users per second: 1338\n"
     ]
    },
    {
     "name": "stderr",
     "output_type": "stream",
     "text": [
      "[I 2024-12-30 13:18:16,313] Trial 13 finished with value: 0.03947590842302048 and parameters: {'topK': 96, 'alpha': 1.17766528154963, 'beta': 0.32365651004201973}. Best is trial 6 with value: 0.04957124127920438.\n"
     ]
    },
    {
     "name": "stdout",
     "output_type": "stream",
     "text": [
      "RP3betaRecommender: Similarity column 38121 (100.0%), 417.79 column/sec. Elapsed time 1.52 min\n",
      "EvaluatorHoldout: Processed 35595 (100.0%) in 28.21 sec. Users per second: 1262\n"
     ]
    },
    {
     "name": "stderr",
     "output_type": "stream",
     "text": [
      "[I 2024-12-30 13:20:23,941] Trial 14 finished with value: 0.020340493916347135 and parameters: {'topK': 195, 'alpha': 0.6045760257591812, 'beta': 1.2595505441956634}. Best is trial 6 with value: 0.04957124127920438.\n"
     ]
    },
    {
     "name": "stdout",
     "output_type": "stream",
     "text": [
      "RP3betaRecommender: Similarity column 38121 (100.0%), 492.26 column/sec. Elapsed time 1.29 min\n",
      "EvaluatorHoldout: Processed 35595 (100.0%) in 38.07 sec. Users per second: 935\n"
     ]
    },
    {
     "name": "stderr",
     "output_type": "stream",
     "text": [
      "[I 2024-12-30 13:22:26,898] Trial 15 finished with value: 0.03848113030856267 and parameters: {'topK': 90, 'alpha': 1.2123035308853995, 'beta': 0.3110336934176625}. Best is trial 6 with value: 0.04957124127920438.\n"
     ]
    },
    {
     "name": "stdout",
     "output_type": "stream",
     "text": [
      "RP3betaRecommender: Similarity column 38121 (100.0%), 718.85 column/sec. Elapsed time 53.03 sec\n",
      "EvaluatorHoldout: Processed 35595 (100.0%) in 16.85 sec. Users per second: 2113\n"
     ]
    },
    {
     "name": "stderr",
     "output_type": "stream",
     "text": [
      "[I 2024-12-30 13:23:40,860] Trial 16 finished with value: 0.024035479613018194 and parameters: {'topK': 179, 'alpha': 0.6592696619331867, 'beta': 1.1291887067221742}. Best is trial 6 with value: 0.04957124127920438.\n"
     ]
    },
    {
     "name": "stdout",
     "output_type": "stream",
     "text": [
      "RP3betaRecommender: Similarity column 38121 (100.0%), 923.48 column/sec. Elapsed time 41.28 sec\n",
      "EvaluatorHoldout: Processed 35595 (100.0%) in 17.59 sec. Users per second: 2024\n"
     ]
    },
    {
     "name": "stderr",
     "output_type": "stream",
     "text": [
      "[I 2024-12-30 13:24:43,426] Trial 17 finished with value: 0.017683550837575328 and parameters: {'topK': 110, 'alpha': 1.9270578520737576, 'beta': 0.5132270643258614}. Best is trial 6 with value: 0.04957124127920438.\n"
     ]
    },
    {
     "name": "stdout",
     "output_type": "stream",
     "text": [
      "RP3betaRecommender: Similarity column 38121 (100.0%), 911.23 column/sec. Elapsed time 41.83 sec\n",
      "EvaluatorHoldout: Processed 35595 (100.0%) in 16.12 sec. Users per second: 2208\n"
     ]
    },
    {
     "name": "stderr",
     "output_type": "stream",
     "text": [
      "[I 2024-12-30 13:25:43,509] Trial 18 finished with value: 0.03909403295897068 and parameters: {'topK': 59, 'alpha': 1.1924467254402071, 'beta': 0.15895707285862393}. Best is trial 6 with value: 0.04957124127920438.\n"
     ]
    },
    {
     "name": "stdout",
     "output_type": "stream",
     "text": [
      "RP3betaRecommender: Similarity column 38121 (100.0%), 1004.90 column/sec. Elapsed time 37.93 sec\n",
      "EvaluatorHoldout: Processed 35595 (100.0%) in 14.06 sec. Users per second: 2532\n"
     ]
    },
    {
     "name": "stderr",
     "output_type": "stream",
     "text": [
      "[I 2024-12-30 13:26:37,165] Trial 19 finished with value: 0.012385353748185881 and parameters: {'topK': 67, 'alpha': 0.4793740494746849, 'beta': 1.9559049182062473}. Best is trial 6 with value: 0.04957124127920438.\n"
     ]
    },
    {
     "name": "stdout",
     "output_type": "stream",
     "text": [
      "RP3betaRecommender: Similarity column 38121 (100.0%), 830.61 column/sec. Elapsed time 45.89 sec\n",
      "EvaluatorHoldout: Processed 35595 (100.0%) in 19.13 sec. Users per second: 1860\n"
     ]
    },
    {
     "name": "stderr",
     "output_type": "stream",
     "text": [
      "[I 2024-12-30 13:27:47,597] Trial 20 finished with value: 0.04420656882877547 and parameters: {'topK': 181, 'alpha': 0.7703907019057601, 'beta': 0.5669286255017787}. Best is trial 6 with value: 0.04957124127920438.\n"
     ]
    },
    {
     "name": "stdout",
     "output_type": "stream",
     "text": [
      "RP3betaRecommender: Similarity column 38121 (100.0%), 1007.20 column/sec. Elapsed time 37.85 sec\n",
      "EvaluatorHoldout: Processed 35595 (100.0%) in 12.94 sec. Users per second: 2751\n"
     ]
    },
    {
     "name": "stderr",
     "output_type": "stream",
     "text": [
      "[I 2024-12-30 13:28:39,319] Trial 21 finished with value: 0.04951897002655372 and parameters: {'topK': 8, 'alpha': 0.40088524852383983, 'beta': 0.4623968539432173}. Best is trial 6 with value: 0.04957124127920438.\n"
     ]
    },
    {
     "name": "stdout",
     "output_type": "stream",
     "text": [
      "RP3betaRecommender: Similarity column 38121 (100.0%), 997.16 column/sec. Elapsed time 38.23 sec\n",
      "EvaluatorHoldout: Processed 35595 (100.0%) in 13.65 sec. Users per second: 2608\n"
     ]
    },
    {
     "name": "stderr",
     "output_type": "stream",
     "text": [
      "[I 2024-12-30 13:29:31,858] Trial 22 finished with value: 0.050446123385439044 and parameters: {'topK': 8, 'alpha': 0.4189267915338339, 'beta': 0.2851442000803139}. Best is trial 22 with value: 0.050446123385439044.\n"
     ]
    },
    {
     "name": "stdout",
     "output_type": "stream",
     "text": [
      "RP3betaRecommender: Similarity column 38121 (100.0%), 1021.36 column/sec. Elapsed time 37.32 sec\n",
      "EvaluatorHoldout: Processed 35595 (100.0%) in 13.39 sec. Users per second: 2659\n"
     ]
    },
    {
     "name": "stderr",
     "output_type": "stream",
     "text": [
      "[I 2024-12-30 13:30:23,368] Trial 23 finished with value: 0.04952390094025001 and parameters: {'topK': 6, 'alpha': 0.3911996174268088, 'beta': 0.1829999915054687}. Best is trial 22 with value: 0.050446123385439044.\n"
     ]
    },
    {
     "name": "stdout",
     "output_type": "stream",
     "text": [
      "RP3betaRecommender: Similarity column 38121 (100.0%), 1013.38 column/sec. Elapsed time 37.62 sec\n",
      "EvaluatorHoldout: Processed 35595 (100.0%) in 13.76 sec. Users per second: 2587\n"
     ]
    },
    {
     "name": "stderr",
     "output_type": "stream",
     "text": [
      "[I 2024-12-30 13:31:15,483] Trial 24 finished with value: 0.04438271381971193 and parameters: {'topK': 8, 'alpha': 0.00209707878207982, 'beta': 0.18113901635614826}. Best is trial 22 with value: 0.050446123385439044.\n"
     ]
    },
    {
     "name": "stdout",
     "output_type": "stream",
     "text": [
      "RP3betaRecommender: Similarity column 38121 (100.0%), 985.63 column/sec. Elapsed time 38.68 sec\n",
      "EvaluatorHoldout: Processed 35595 (100.0%) in 14.97 sec. Users per second: 2378\n"
     ]
    },
    {
     "name": "stderr",
     "output_type": "stream",
     "text": [
      "[I 2024-12-30 13:32:11,069] Trial 25 finished with value: 0.04357704845294259 and parameters: {'topK': 59, 'alpha': 0.3697598604719926, 'beta': 0.6889168050849858}. Best is trial 22 with value: 0.050446123385439044.\n"
     ]
    },
    {
     "name": "stdout",
     "output_type": "stream",
     "text": [
      "RP3betaRecommender: Similarity column 38121 (100.0%), 993.60 column/sec. Elapsed time 38.37 sec\n",
      "EvaluatorHoldout: Processed 35595 (100.0%) in 15.53 sec. Users per second: 2292\n"
     ]
    },
    {
     "name": "stderr",
     "output_type": "stream",
     "text": [
      "[I 2024-12-30 13:33:06,904] Trial 26 finished with value: 0.04306145303089961 and parameters: {'topK': 68, 'alpha': 1.0344806563944002, 'beta': 0.13178280582489718}. Best is trial 22 with value: 0.050446123385439044.\n"
     ]
    },
    {
     "name": "stdout",
     "output_type": "stream",
     "text": [
      "RP3betaRecommender: Similarity column 38121 (100.0%), 1008.28 column/sec. Elapsed time 37.81 sec\n",
      "EvaluatorHoldout: Processed 35595 (100.0%) in 14.61 sec. Users per second: 2436\n"
     ]
    },
    {
     "name": "stderr",
     "output_type": "stream",
     "text": [
      "[I 2024-12-30 13:34:00,511] Trial 27 finished with value: 0.05023312530518407 and parameters: {'topK': 32, 'alpha': 0.5841889277545043, 'beta': 0.4111788283815654}. Best is trial 22 with value: 0.050446123385439044.\n"
     ]
    },
    {
     "name": "stdout",
     "output_type": "stream",
     "text": [
      "RP3betaRecommender: Similarity column 38121 (100.0%), 901.51 column/sec. Elapsed time 42.28 sec\n",
      "EvaluatorHoldout: Processed 35595 (100.0%) in 17.42 sec. Users per second: 2043\n"
     ]
    },
    {
     "name": "stderr",
     "output_type": "stream",
     "text": [
      "[I 2024-12-30 13:35:03,845] Trial 28 finished with value: 0.04807879205434855 and parameters: {'topK': 121, 'alpha': 0.5713846121841555, 'beta': 0.41405810528866627}. Best is trial 22 with value: 0.050446123385439044.\n"
     ]
    },
    {
     "name": "stdout",
     "output_type": "stream",
     "text": [
      "RP3betaRecommender: Similarity column 38121 (100.0%), 841.05 column/sec. Elapsed time 45.33 sec\n",
      "EvaluatorHoldout: Processed 35595 (100.0%) in 19.76 sec. Users per second: 1801\n"
     ]
    },
    {
     "name": "stderr",
     "output_type": "stream",
     "text": [
      "[I 2024-12-30 13:36:14,615] Trial 29 finished with value: 0.041604210284571425 and parameters: {'topK': 226, 'alpha': 0.5460781029833898, 'beta': 0.6871983049043591}. Best is trial 22 with value: 0.050446123385439044.\n"
     ]
    },
    {
     "name": "stdout",
     "output_type": "stream",
     "text": [
      "RP3betaRecommender: Similarity column 38121 (100.0%), 967.28 column/sec. Elapsed time 39.41 sec\n",
      "EvaluatorHoldout: Processed 35595 (100.0%) in 14.47 sec. Users per second: 2461\n"
     ]
    },
    {
     "name": "stderr",
     "output_type": "stream",
     "text": [
      "[I 2024-12-30 13:37:09,534] Trial 30 finished with value: 0.025413148805900176 and parameters: {'topK': 37, 'alpha': 0.9870123734514409, 'beta': 1.1416259083334153}. Best is trial 22 with value: 0.050446123385439044.\n"
     ]
    },
    {
     "name": "stdout",
     "output_type": "stream",
     "text": [
      "RP3betaRecommender: Similarity column 38121 (100.0%), 1019.91 column/sec. Elapsed time 37.38 sec\n",
      "EvaluatorHoldout: Processed 35595 (100.0%) in 13.74 sec. Users per second: 2590\n"
     ]
    },
    {
     "name": "stderr",
     "output_type": "stream",
     "text": [
      "[I 2024-12-30 13:38:01,460] Trial 31 finished with value: 0.050099234777488434 and parameters: {'topK': 7, 'alpha': 0.31758606965267777, 'beta': 0.23889423644673086}. Best is trial 22 with value: 0.050446123385439044.\n"
     ]
    },
    {
     "name": "stdout",
     "output_type": "stream",
     "text": [
      "RP3betaRecommender: Similarity column 38121 (100.0%), 1000.41 column/sec. Elapsed time 38.10 sec\n",
      "EvaluatorHoldout: Processed 35595 (100.0%) in 14.08 sec. Users per second: 2528\n"
     ]
    },
    {
     "name": "stderr",
     "output_type": "stream",
     "text": [
      "[I 2024-12-30 13:38:54,633] Trial 32 finished with value: 0.04939546306887064 and parameters: {'topK': 28, 'alpha': 0.26734548434715, 'beta': 0.21105335661741179}. Best is trial 22 with value: 0.050446123385439044.\n"
     ]
    },
    {
     "name": "stdout",
     "output_type": "stream",
     "text": [
      "RP3betaRecommender: Similarity column 38121 (100.0%), 1017.25 column/sec. Elapsed time 37.47 sec\n",
      "EvaluatorHoldout: Processed 35595 (100.0%) in 15.25 sec. Users per second: 2334\n"
     ]
    },
    {
     "name": "stderr",
     "output_type": "stream",
     "text": [
      "[I 2024-12-30 13:39:48,950] Trial 33 finished with value: 0.049787602815624575 and parameters: {'topK': 52, 'alpha': 0.45806846743349416, 'beta': 0.39561079421988943}. Best is trial 22 with value: 0.050446123385439044.\n"
     ]
    },
    {
     "name": "stdout",
     "output_type": "stream",
     "text": [
      "RP3betaRecommender: Similarity column 38121 (100.0%), 1021.62 column/sec. Elapsed time 37.31 sec\n",
      "EvaluatorHoldout: Processed 35595 (100.0%) in 14.61 sec. Users per second: 2436\n"
     ]
    },
    {
     "name": "stderr",
     "output_type": "stream",
     "text": [
      "[I 2024-12-30 13:40:42,130] Trial 34 finished with value: 0.03209553575609113 and parameters: {'topK': 47, 'alpha': 0.2800125217440501, 'beta': 0.9391307968340834}. Best is trial 22 with value: 0.050446123385439044.\n"
     ]
    },
    {
     "name": "stdout",
     "output_type": "stream",
     "text": [
      "RP3betaRecommender: Similarity column 38121 (100.0%), 952.64 column/sec. Elapsed time 40.01 sec\n",
      "EvaluatorHoldout: Processed 35595 (100.0%) in 14.55 sec. Users per second: 2447\n"
     ]
    },
    {
     "name": "stderr",
     "output_type": "stream",
     "text": [
      "[I 2024-12-30 13:41:37,798] Trial 35 finished with value: 0.0506926523477285 and parameters: {'topK': 21, 'alpha': 0.43290700661033554, 'beta': 0.4110781245561372}. Best is trial 35 with value: 0.0506926523477285.\n"
     ]
    },
    {
     "name": "stdout",
     "output_type": "stream",
     "text": [
      "RP3betaRecommender: Similarity column 38121 (100.0%), 1025.09 column/sec. Elapsed time 37.19 sec\n",
      "EvaluatorHoldout: Processed 35595 (100.0%) in 14.03 sec. Users per second: 2536\n"
     ]
    },
    {
     "name": "stderr",
     "output_type": "stream",
     "text": [
      "[I 2024-12-30 13:42:30,026] Trial 36 finished with value: 0.03973968499231775 and parameters: {'topK': 24, 'alpha': 0.7379794054310962, 'beta': 0.8045762849643268}. Best is trial 35 with value: 0.0506926523477285.\n"
     ]
    },
    {
     "name": "stdout",
     "output_type": "stream",
     "text": [
      "RP3betaRecommender: Similarity column 38121 (100.0%), 1041.23 column/sec. Elapsed time 36.61 sec\n",
      "EvaluatorHoldout: Processed 35595 (100.0%) in 14.37 sec. Users per second: 2476\n"
     ]
    },
    {
     "name": "stderr",
     "output_type": "stream",
     "text": [
      "[I 2024-12-30 13:43:21,952] Trial 37 finished with value: 0.04654111510221729 and parameters: {'topK': 21, 'alpha': 0.26472282690034665, 'beta': 0.6171246533385795}. Best is trial 35 with value: 0.0506926523477285.\n"
     ]
    },
    {
     "name": "stdout",
     "output_type": "stream",
     "text": [
      "RP3betaRecommender: Similarity column 38121 (100.0%), 887.18 column/sec. Elapsed time 42.97 sec\n",
      "EvaluatorHoldout: Processed 35595 (100.0%) in 14.16 sec. Users per second: 2514\n"
     ]
    },
    {
     "name": "stderr",
     "output_type": "stream",
     "text": [
      "[I 2024-12-30 13:44:20,426] Trial 38 finished with value: 0.03945631074455193 and parameters: {'topK': 78, 'alpha': 0.07171457351439123, 'beta': 0.003273599825934448}. Best is trial 35 with value: 0.0506926523477285.\n"
     ]
    },
    {
     "name": "stdout",
     "output_type": "stream",
     "text": [
      "RP3betaRecommender: Similarity column 38121 (100.0%), 842.18 column/sec. Elapsed time 45.26 sec\n",
      "EvaluatorHoldout: Processed 35595 (100.0%) in 19.07 sec. Users per second: 1867\n"
     ]
    },
    {
     "name": "stderr",
     "output_type": "stream",
     "text": [
      "[I 2024-12-30 13:45:30,762] Trial 39 finished with value: 0.04082757298264934 and parameters: {'topK': 242, 'alpha': 0.15792531414423633, 'beta': 0.4397304990678558}. Best is trial 35 with value: 0.0506926523477285.\n"
     ]
    },
    {
     "name": "stdout",
     "output_type": "stream",
     "text": [
      "RP3betaRecommender: Similarity column 38121 (100.0%), 1017.39 column/sec. Elapsed time 37.47 sec\n",
      "EvaluatorHoldout: Processed 35595 (100.0%) in 13.46 sec. Users per second: 2644\n"
     ]
    },
    {
     "name": "stderr",
     "output_type": "stream",
     "text": [
      "[I 2024-12-30 13:46:22,310] Trial 40 finished with value: 0.049201086071922806 and parameters: {'topK': 6, 'alpha': 0.36071264147110027, 'beta': 0.1030586461296783}. Best is trial 35 with value: 0.0506926523477285.\n"
     ]
    },
    {
     "name": "stdout",
     "output_type": "stream",
     "text": [
      "RP3betaRecommender: Similarity column 38121 (100.0%), 977.78 column/sec. Elapsed time 38.99 sec\n",
      "EvaluatorHoldout: Processed 35595 (100.0%) in 15.38 sec. Users per second: 2315\n"
     ]
    },
    {
     "name": "stderr",
     "output_type": "stream",
     "text": [
      "[I 2024-12-30 13:47:18,220] Trial 41 finished with value: 0.04990338731362581 and parameters: {'topK': 49, 'alpha': 0.4883235631523293, 'beta': 0.3810056345929494}. Best is trial 35 with value: 0.0506926523477285.\n"
     ]
    },
    {
     "name": "stdout",
     "output_type": "stream",
     "text": [
      "RP3betaRecommender: Similarity column 38121 (100.0%), 999.83 column/sec. Elapsed time 38.13 sec\n",
      "EvaluatorHoldout: Processed 35595 (100.0%) in 14.86 sec. Users per second: 2395\n"
     ]
    },
    {
     "name": "stderr",
     "output_type": "stream",
     "text": [
      "[I 2024-12-30 13:48:12,424] Trial 42 finished with value: 0.050856120553759106 and parameters: {'topK': 33, 'alpha': 0.46586787229319027, 'beta': 0.3436271568889233}. Best is trial 42 with value: 0.050856120553759106.\n"
     ]
    },
    {
     "name": "stdout",
     "output_type": "stream",
     "text": [
      "RP3betaRecommender: Similarity column 38121 (100.0%), 984.97 column/sec. Elapsed time 38.70 sec\n",
      "EvaluatorHoldout: Processed 35595 (100.0%) in 14.76 sec. Users per second: 2411\n"
     ]
    },
    {
     "name": "stderr",
     "output_type": "stream",
     "text": [
      "[I 2024-12-30 13:49:07,350] Trial 43 finished with value: 0.05012453149073282 and parameters: {'topK': 33, 'alpha': 0.6513170919934878, 'beta': 0.2678038500858621}. Best is trial 42 with value: 0.050856120553759106.\n"
     ]
    },
    {
     "name": "stdout",
     "output_type": "stream",
     "text": [
      "RP3betaRecommender: Similarity column 38121 (100.0%), 1017.74 column/sec. Elapsed time 37.45 sec\n",
      "EvaluatorHoldout: Processed 35595 (100.0%) in 14.60 sec. Users per second: 2438\n"
     ]
    },
    {
     "name": "stderr",
     "output_type": "stream",
     "text": [
      "[I 2024-12-30 13:50:00,721] Trial 44 finished with value: 0.048584282615043634 and parameters: {'topK': 32, 'alpha': 0.667123445583591, 'beta': 0.48971899040147926}. Best is trial 42 with value: 0.050856120553759106.\n"
     ]
    },
    {
     "name": "stdout",
     "output_type": "stream",
     "text": [
      "RP3betaRecommender: Similarity column 38121 (100.0%), 964.36 column/sec. Elapsed time 39.53 sec\n",
      "EvaluatorHoldout: Processed 35595 (100.0%) in 15.27 sec. Users per second: 2331\n"
     ]
    },
    {
     "name": "stderr",
     "output_type": "stream",
     "text": [
      "[I 2024-12-30 13:50:56,986] Trial 45 finished with value: 0.04437954768928066 and parameters: {'topK': 41, 'alpha': 0.808920602006201, 'beta': 0.6155615732174952}. Best is trial 42 with value: 0.050856120553759106.\n"
     ]
    },
    {
     "name": "stdout",
     "output_type": "stream",
     "text": [
      "RP3betaRecommender: Similarity column 38121 (100.0%), 980.42 column/sec. Elapsed time 38.88 sec\n",
      "EvaluatorHoldout: Processed 35595 (100.0%) in 16.32 sec. Users per second: 2181\n"
     ]
    },
    {
     "name": "stderr",
     "output_type": "stream",
     "text": [
      "[I 2024-12-30 13:51:54,611] Trial 46 finished with value: 0.04438611852476001 and parameters: {'topK': 79, 'alpha': 0.9777041144936475, 'beta': 0.32801194796365074}. Best is trial 42 with value: 0.050856120553759106.\n"
     ]
    },
    {
     "name": "stdout",
     "output_type": "stream",
     "text": [
      "RP3betaRecommender: Similarity column 38121 (100.0%), 1028.50 column/sec. Elapsed time 37.06 sec\n",
      "EvaluatorHoldout: Processed 35595 (100.0%) in 13.84 sec. Users per second: 2571\n"
     ]
    },
    {
     "name": "stderr",
     "output_type": "stream",
     "text": [
      "[I 2024-12-30 13:52:46,344] Trial 47 finished with value: 0.020568428551361387 and parameters: {'topK': 18, 'alpha': 0.6381880731787947, 'beta': 1.4867019098457157}. Best is trial 42 with value: 0.050856120553759106.\n"
     ]
    },
    {
     "name": "stdout",
     "output_type": "stream",
     "text": [
      "RP3betaRecommender: Similarity column 38121 (100.0%), 1051.51 column/sec. Elapsed time 36.25 sec\n",
      "EvaluatorHoldout: Processed 35595 (100.0%) in 15.36 sec. Users per second: 2317\n"
     ]
    },
    {
     "name": "stderr",
     "output_type": "stream",
     "text": [
      "[I 2024-12-30 13:53:38,974] Trial 48 finished with value: 0.03931559408424027 and parameters: {'topK': 28, 'alpha': 0.8987595727247959, 'beta': 0.7536232061275119}. Best is trial 42 with value: 0.050856120553759106.\n"
     ]
    },
    {
     "name": "stdout",
     "output_type": "stream",
     "text": [
      "RP3betaRecommender: Similarity column 38121 (100.0%), 743.49 column/sec. Elapsed time 51.27 sec\n"
     ]
    },
    {
     "name": "stderr",
     "output_type": "stream",
     "text": [
      "[W 2024-12-30 13:54:51,379] Trial 49 failed with parameters: {'topK': 275, 'alpha': 0.47122679548928015, 'beta': 0.2803874761956744} because of the following error: KeyboardInterrupt().\n",
      "Traceback (most recent call last):\n",
      "  File \"/Users/lucapagano/miniconda3/envs/RecSysPD/lib/python3.8/site-packages/optuna/study/_optimize.py\", line 197, in _run_trial\n",
      "    value_or_values = func(trial)\n",
      "  File \"/var/folders/50/7hjr20g17_18p725nbt0qqv00000gn/T/ipykernel_77445/1784160990.py\", line 15, in objective_function\n",
      "    result_dict, _ = evaluator_test.evaluateRecommender(recommender)\n",
      "  File \"/Users/lucapagano/Developer/RecSys/Competizione/Evaluation/Evaluator.py\", line 276, in evaluateRecommender\n",
      "    results_dict = self._run_evaluation_on_selected_users(recommender_object, self.users_to_evaluate)\n",
      "  File \"/Users/lucapagano/Developer/RecSys/Competizione/Evaluation/Evaluator.py\", line 476, in _run_evaluation_on_selected_users\n",
      "    recommended_items_batch_list, scores_batch = recommender_object.recommend(test_user_batch_array,\n",
      "  File \"/Users/lucapagano/Developer/RecSys/Competizione/Recommenders/BaseRecommender.py\", line 147, in recommend\n",
      "    scores_batch = self._compute_item_score(user_id_array, items_to_compute=items_to_compute)\n",
      "  File \"/Users/lucapagano/Developer/RecSys/Competizione/Recommenders/BaseSimilarityMatrixRecommender.py\", line 90, in _compute_item_score\n",
      "    item_scores = user_profile_array.dot(self.W_sparse).toarray()\n",
      "  File \"/Users/lucapagano/miniconda3/envs/RecSysPD/lib/python3.8/site-packages/scipy/sparse/_base.py\", line 416, in dot\n",
      "    return self @ other\n",
      "  File \"/Users/lucapagano/miniconda3/envs/RecSysPD/lib/python3.8/site-packages/scipy/sparse/_base.py\", line 630, in __matmul__\n",
      "    return self._mul_dispatch(other)\n",
      "  File \"/Users/lucapagano/miniconda3/envs/RecSysPD/lib/python3.8/site-packages/scipy/sparse/_base.py\", line 541, in _mul_dispatch\n",
      "    return self._mul_sparse_matrix(other)\n",
      "  File \"/Users/lucapagano/miniconda3/envs/RecSysPD/lib/python3.8/site-packages/scipy/sparse/_compressed.py\", line 533, in _mul_sparse_matrix\n",
      "    fn(M, N, np.asarray(self.indptr, dtype=idx_dtype),\n",
      "KeyboardInterrupt\n",
      "[W 2024-12-30 13:54:51,400] Trial 49 failed with value None.\n"
     ]
    },
    {
     "ename": "KeyboardInterrupt",
     "evalue": "",
     "output_type": "error",
     "traceback": [
      "\u001b[0;31m---------------------------------------------------------------------------\u001b[0m",
      "\u001b[0;31mKeyboardInterrupt\u001b[0m                         Traceback (most recent call last)",
      "Cell \u001b[0;32mIn[9], line 38\u001b[0m\n\u001b[1;32m     34\u001b[0m optuna_study \u001b[38;5;241m=\u001b[39m optuna\u001b[38;5;241m.\u001b[39mcreate_study(study_name\u001b[38;5;241m=\u001b[39m\u001b[38;5;124m\"\u001b[39m\u001b[38;5;124mrp3_stacked\u001b[39m\u001b[38;5;124m\"\u001b[39m, direction\u001b[38;5;241m=\u001b[39m\u001b[38;5;124m\"\u001b[39m\u001b[38;5;124mmaximize\u001b[39m\u001b[38;5;124m\"\u001b[39m)\n\u001b[1;32m     36\u001b[0m save_results \u001b[38;5;241m=\u001b[39m SaveResults()\n\u001b[0;32m---> 38\u001b[0m \u001b[43moptuna_study\u001b[49m\u001b[38;5;241;43m.\u001b[39;49m\u001b[43moptimize\u001b[49m\u001b[43m(\u001b[49m\u001b[43mobjective_function\u001b[49m\u001b[43m,\u001b[49m\n\u001b[1;32m     39\u001b[0m \u001b[43m                      \u001b[49m\u001b[43mcallbacks\u001b[49m\u001b[38;5;241;43m=\u001b[39;49m\u001b[43m[\u001b[49m\u001b[43msave_results\u001b[49m\u001b[43m]\u001b[49m\u001b[43m,\u001b[49m\n\u001b[1;32m     40\u001b[0m \u001b[43m                      \u001b[49m\u001b[43mn_trials\u001b[49m\u001b[43m \u001b[49m\u001b[38;5;241;43m=\u001b[39;49m\u001b[43m \u001b[49m\u001b[38;5;241;43m100\u001b[39;49m\u001b[43m,\u001b[49m\n\u001b[1;32m     41\u001b[0m \u001b[43m                      \u001b[49m\u001b[43m)\u001b[49m\n",
      "File \u001b[0;32m~/miniconda3/envs/RecSysPD/lib/python3.8/site-packages/optuna/study/study.py:475\u001b[0m, in \u001b[0;36mStudy.optimize\u001b[0;34m(self, func, n_trials, timeout, n_jobs, catch, callbacks, gc_after_trial, show_progress_bar)\u001b[0m\n\u001b[1;32m    373\u001b[0m \u001b[38;5;28;01mdef\u001b[39;00m \u001b[38;5;21moptimize\u001b[39m(\n\u001b[1;32m    374\u001b[0m     \u001b[38;5;28mself\u001b[39m,\n\u001b[1;32m    375\u001b[0m     func: ObjectiveFuncType,\n\u001b[0;32m   (...)\u001b[0m\n\u001b[1;32m    382\u001b[0m     show_progress_bar: \u001b[38;5;28mbool\u001b[39m \u001b[38;5;241m=\u001b[39m \u001b[38;5;28;01mFalse\u001b[39;00m,\n\u001b[1;32m    383\u001b[0m ) \u001b[38;5;241m-\u001b[39m\u001b[38;5;241m>\u001b[39m \u001b[38;5;28;01mNone\u001b[39;00m:\n\u001b[1;32m    384\u001b[0m \u001b[38;5;250m    \u001b[39m\u001b[38;5;124;03m\"\"\"Optimize an objective function.\u001b[39;00m\n\u001b[1;32m    385\u001b[0m \n\u001b[1;32m    386\u001b[0m \u001b[38;5;124;03m    Optimization is done by choosing a suitable set of hyperparameter values from a given\u001b[39;00m\n\u001b[0;32m   (...)\u001b[0m\n\u001b[1;32m    473\u001b[0m \u001b[38;5;124;03m            If nested invocation of this method occurs.\u001b[39;00m\n\u001b[1;32m    474\u001b[0m \u001b[38;5;124;03m    \"\"\"\u001b[39;00m\n\u001b[0;32m--> 475\u001b[0m     \u001b[43m_optimize\u001b[49m\u001b[43m(\u001b[49m\n\u001b[1;32m    476\u001b[0m \u001b[43m        \u001b[49m\u001b[43mstudy\u001b[49m\u001b[38;5;241;43m=\u001b[39;49m\u001b[38;5;28;43mself\u001b[39;49m\u001b[43m,\u001b[49m\n\u001b[1;32m    477\u001b[0m \u001b[43m        \u001b[49m\u001b[43mfunc\u001b[49m\u001b[38;5;241;43m=\u001b[39;49m\u001b[43mfunc\u001b[49m\u001b[43m,\u001b[49m\n\u001b[1;32m    478\u001b[0m \u001b[43m        \u001b[49m\u001b[43mn_trials\u001b[49m\u001b[38;5;241;43m=\u001b[39;49m\u001b[43mn_trials\u001b[49m\u001b[43m,\u001b[49m\n\u001b[1;32m    479\u001b[0m \u001b[43m        \u001b[49m\u001b[43mtimeout\u001b[49m\u001b[38;5;241;43m=\u001b[39;49m\u001b[43mtimeout\u001b[49m\u001b[43m,\u001b[49m\n\u001b[1;32m    480\u001b[0m \u001b[43m        \u001b[49m\u001b[43mn_jobs\u001b[49m\u001b[38;5;241;43m=\u001b[39;49m\u001b[43mn_jobs\u001b[49m\u001b[43m,\u001b[49m\n\u001b[1;32m    481\u001b[0m \u001b[43m        \u001b[49m\u001b[43mcatch\u001b[49m\u001b[38;5;241;43m=\u001b[39;49m\u001b[38;5;28;43mtuple\u001b[39;49m\u001b[43m(\u001b[49m\u001b[43mcatch\u001b[49m\u001b[43m)\u001b[49m\u001b[43m \u001b[49m\u001b[38;5;28;43;01mif\u001b[39;49;00m\u001b[43m \u001b[49m\u001b[38;5;28;43misinstance\u001b[39;49m\u001b[43m(\u001b[49m\u001b[43mcatch\u001b[49m\u001b[43m,\u001b[49m\u001b[43m \u001b[49m\u001b[43mIterable\u001b[49m\u001b[43m)\u001b[49m\u001b[43m \u001b[49m\u001b[38;5;28;43;01melse\u001b[39;49;00m\u001b[43m \u001b[49m\u001b[43m(\u001b[49m\u001b[43mcatch\u001b[49m\u001b[43m,\u001b[49m\u001b[43m)\u001b[49m\u001b[43m,\u001b[49m\n\u001b[1;32m    482\u001b[0m \u001b[43m        \u001b[49m\u001b[43mcallbacks\u001b[49m\u001b[38;5;241;43m=\u001b[39;49m\u001b[43mcallbacks\u001b[49m\u001b[43m,\u001b[49m\n\u001b[1;32m    483\u001b[0m \u001b[43m        \u001b[49m\u001b[43mgc_after_trial\u001b[49m\u001b[38;5;241;43m=\u001b[39;49m\u001b[43mgc_after_trial\u001b[49m\u001b[43m,\u001b[49m\n\u001b[1;32m    484\u001b[0m \u001b[43m        \u001b[49m\u001b[43mshow_progress_bar\u001b[49m\u001b[38;5;241;43m=\u001b[39;49m\u001b[43mshow_progress_bar\u001b[49m\u001b[43m,\u001b[49m\n\u001b[1;32m    485\u001b[0m \u001b[43m    \u001b[49m\u001b[43m)\u001b[49m\n",
      "File \u001b[0;32m~/miniconda3/envs/RecSysPD/lib/python3.8/site-packages/optuna/study/_optimize.py:63\u001b[0m, in \u001b[0;36m_optimize\u001b[0;34m(study, func, n_trials, timeout, n_jobs, catch, callbacks, gc_after_trial, show_progress_bar)\u001b[0m\n\u001b[1;32m     61\u001b[0m \u001b[38;5;28;01mtry\u001b[39;00m:\n\u001b[1;32m     62\u001b[0m     \u001b[38;5;28;01mif\u001b[39;00m n_jobs \u001b[38;5;241m==\u001b[39m \u001b[38;5;241m1\u001b[39m:\n\u001b[0;32m---> 63\u001b[0m         \u001b[43m_optimize_sequential\u001b[49m\u001b[43m(\u001b[49m\n\u001b[1;32m     64\u001b[0m \u001b[43m            \u001b[49m\u001b[43mstudy\u001b[49m\u001b[43m,\u001b[49m\n\u001b[1;32m     65\u001b[0m \u001b[43m            \u001b[49m\u001b[43mfunc\u001b[49m\u001b[43m,\u001b[49m\n\u001b[1;32m     66\u001b[0m \u001b[43m            \u001b[49m\u001b[43mn_trials\u001b[49m\u001b[43m,\u001b[49m\n\u001b[1;32m     67\u001b[0m \u001b[43m            \u001b[49m\u001b[43mtimeout\u001b[49m\u001b[43m,\u001b[49m\n\u001b[1;32m     68\u001b[0m \u001b[43m            \u001b[49m\u001b[43mcatch\u001b[49m\u001b[43m,\u001b[49m\n\u001b[1;32m     69\u001b[0m \u001b[43m            \u001b[49m\u001b[43mcallbacks\u001b[49m\u001b[43m,\u001b[49m\n\u001b[1;32m     70\u001b[0m \u001b[43m            \u001b[49m\u001b[43mgc_after_trial\u001b[49m\u001b[43m,\u001b[49m\n\u001b[1;32m     71\u001b[0m \u001b[43m            \u001b[49m\u001b[43mreseed_sampler_rng\u001b[49m\u001b[38;5;241;43m=\u001b[39;49m\u001b[38;5;28;43;01mFalse\u001b[39;49;00m\u001b[43m,\u001b[49m\n\u001b[1;32m     72\u001b[0m \u001b[43m            \u001b[49m\u001b[43mtime_start\u001b[49m\u001b[38;5;241;43m=\u001b[39;49m\u001b[38;5;28;43;01mNone\u001b[39;49;00m\u001b[43m,\u001b[49m\n\u001b[1;32m     73\u001b[0m \u001b[43m            \u001b[49m\u001b[43mprogress_bar\u001b[49m\u001b[38;5;241;43m=\u001b[39;49m\u001b[43mprogress_bar\u001b[49m\u001b[43m,\u001b[49m\n\u001b[1;32m     74\u001b[0m \u001b[43m        \u001b[49m\u001b[43m)\u001b[49m\n\u001b[1;32m     75\u001b[0m     \u001b[38;5;28;01melse\u001b[39;00m:\n\u001b[1;32m     76\u001b[0m         \u001b[38;5;28;01mif\u001b[39;00m n_jobs \u001b[38;5;241m==\u001b[39m \u001b[38;5;241m-\u001b[39m\u001b[38;5;241m1\u001b[39m:\n",
      "File \u001b[0;32m~/miniconda3/envs/RecSysPD/lib/python3.8/site-packages/optuna/study/_optimize.py:160\u001b[0m, in \u001b[0;36m_optimize_sequential\u001b[0;34m(study, func, n_trials, timeout, catch, callbacks, gc_after_trial, reseed_sampler_rng, time_start, progress_bar)\u001b[0m\n\u001b[1;32m    157\u001b[0m         \u001b[38;5;28;01mbreak\u001b[39;00m\n\u001b[1;32m    159\u001b[0m \u001b[38;5;28;01mtry\u001b[39;00m:\n\u001b[0;32m--> 160\u001b[0m     frozen_trial \u001b[38;5;241m=\u001b[39m \u001b[43m_run_trial\u001b[49m\u001b[43m(\u001b[49m\u001b[43mstudy\u001b[49m\u001b[43m,\u001b[49m\u001b[43m \u001b[49m\u001b[43mfunc\u001b[49m\u001b[43m,\u001b[49m\u001b[43m \u001b[49m\u001b[43mcatch\u001b[49m\u001b[43m)\u001b[49m\n\u001b[1;32m    161\u001b[0m \u001b[38;5;28;01mfinally\u001b[39;00m:\n\u001b[1;32m    162\u001b[0m     \u001b[38;5;66;03m# The following line mitigates memory problems that can be occurred in some\u001b[39;00m\n\u001b[1;32m    163\u001b[0m     \u001b[38;5;66;03m# environments (e.g., services that use computing containers such as GitHub Actions).\u001b[39;00m\n\u001b[1;32m    164\u001b[0m     \u001b[38;5;66;03m# Please refer to the following PR for further details:\u001b[39;00m\n\u001b[1;32m    165\u001b[0m     \u001b[38;5;66;03m# https://github.com/optuna/optuna/pull/325.\u001b[39;00m\n\u001b[1;32m    166\u001b[0m     \u001b[38;5;28;01mif\u001b[39;00m gc_after_trial:\n",
      "File \u001b[0;32m~/miniconda3/envs/RecSysPD/lib/python3.8/site-packages/optuna/study/_optimize.py:248\u001b[0m, in \u001b[0;36m_run_trial\u001b[0;34m(study, func, catch)\u001b[0m\n\u001b[1;32m    241\u001b[0m         \u001b[38;5;28;01massert\u001b[39;00m \u001b[38;5;28;01mFalse\u001b[39;00m, \u001b[38;5;124m\"\u001b[39m\u001b[38;5;124mShould not reach.\u001b[39m\u001b[38;5;124m\"\u001b[39m\n\u001b[1;32m    243\u001b[0m \u001b[38;5;28;01mif\u001b[39;00m (\n\u001b[1;32m    244\u001b[0m     frozen_trial\u001b[38;5;241m.\u001b[39mstate \u001b[38;5;241m==\u001b[39m TrialState\u001b[38;5;241m.\u001b[39mFAIL\n\u001b[1;32m    245\u001b[0m     \u001b[38;5;129;01mand\u001b[39;00m func_err \u001b[38;5;129;01mis\u001b[39;00m \u001b[38;5;129;01mnot\u001b[39;00m \u001b[38;5;28;01mNone\u001b[39;00m\n\u001b[1;32m    246\u001b[0m     \u001b[38;5;129;01mand\u001b[39;00m \u001b[38;5;129;01mnot\u001b[39;00m \u001b[38;5;28misinstance\u001b[39m(func_err, catch)\n\u001b[1;32m    247\u001b[0m ):\n\u001b[0;32m--> 248\u001b[0m     \u001b[38;5;28;01mraise\u001b[39;00m func_err\n\u001b[1;32m    249\u001b[0m \u001b[38;5;28;01mreturn\u001b[39;00m frozen_trial\n",
      "File \u001b[0;32m~/miniconda3/envs/RecSysPD/lib/python3.8/site-packages/optuna/study/_optimize.py:197\u001b[0m, in \u001b[0;36m_run_trial\u001b[0;34m(study, func, catch)\u001b[0m\n\u001b[1;32m    195\u001b[0m \u001b[38;5;28;01mwith\u001b[39;00m get_heartbeat_thread(trial\u001b[38;5;241m.\u001b[39m_trial_id, study\u001b[38;5;241m.\u001b[39m_storage):\n\u001b[1;32m    196\u001b[0m     \u001b[38;5;28;01mtry\u001b[39;00m:\n\u001b[0;32m--> 197\u001b[0m         value_or_values \u001b[38;5;241m=\u001b[39m \u001b[43mfunc\u001b[49m\u001b[43m(\u001b[49m\u001b[43mtrial\u001b[49m\u001b[43m)\u001b[49m\n\u001b[1;32m    198\u001b[0m     \u001b[38;5;28;01mexcept\u001b[39;00m exceptions\u001b[38;5;241m.\u001b[39mTrialPruned \u001b[38;5;28;01mas\u001b[39;00m e:\n\u001b[1;32m    199\u001b[0m         \u001b[38;5;66;03m# TODO(mamu): Handle multi-objective cases.\u001b[39;00m\n\u001b[1;32m    200\u001b[0m         state \u001b[38;5;241m=\u001b[39m TrialState\u001b[38;5;241m.\u001b[39mPRUNED\n",
      "Cell \u001b[0;32mIn[9], line 15\u001b[0m, in \u001b[0;36mobjective_function\u001b[0;34m(trial)\u001b[0m\n\u001b[1;32m     12\u001b[0m recommender \u001b[38;5;241m=\u001b[39m RP3betaRecommender(stacked_URM_train)\n\u001b[1;32m     13\u001b[0m recommender\u001b[38;5;241m.\u001b[39mfit(\u001b[38;5;241m*\u001b[39m\u001b[38;5;241m*\u001b[39mparams)\n\u001b[0;32m---> 15\u001b[0m result_dict, _ \u001b[38;5;241m=\u001b[39m \u001b[43mevaluator_test\u001b[49m\u001b[38;5;241;43m.\u001b[39;49m\u001b[43mevaluateRecommender\u001b[49m\u001b[43m(\u001b[49m\u001b[43mrecommender\u001b[49m\u001b[43m)\u001b[49m\n\u001b[1;32m     17\u001b[0m MAP \u001b[38;5;241m+\u001b[39m\u001b[38;5;241m=\u001b[39m result_dict\u001b[38;5;241m.\u001b[39mloc[\u001b[38;5;241m10\u001b[39m][\u001b[38;5;124m\"\u001b[39m\u001b[38;5;124mMAP\u001b[39m\u001b[38;5;124m\"\u001b[39m]\n\u001b[1;32m     20\u001b[0m \u001b[38;5;28;01mreturn\u001b[39;00m MAP\n",
      "File \u001b[0;32m~/Developer/RecSys/Competizione/Evaluation/Evaluator.py:276\u001b[0m, in \u001b[0;36mEvaluator.evaluateRecommender\u001b[0;34m(self, recommender_object)\u001b[0m\n\u001b[1;32m    273\u001b[0m \u001b[38;5;28mself\u001b[39m\u001b[38;5;241m.\u001b[39m_start_time_print \u001b[38;5;241m=\u001b[39m time\u001b[38;5;241m.\u001b[39mtime()\n\u001b[1;32m    274\u001b[0m \u001b[38;5;28mself\u001b[39m\u001b[38;5;241m.\u001b[39m_n_users_evaluated \u001b[38;5;241m=\u001b[39m \u001b[38;5;241m0\u001b[39m\n\u001b[0;32m--> 276\u001b[0m results_dict \u001b[38;5;241m=\u001b[39m \u001b[38;5;28;43mself\u001b[39;49m\u001b[38;5;241;43m.\u001b[39;49m\u001b[43m_run_evaluation_on_selected_users\u001b[49m\u001b[43m(\u001b[49m\u001b[43mrecommender_object\u001b[49m\u001b[43m,\u001b[49m\u001b[43m \u001b[49m\u001b[38;5;28;43mself\u001b[39;49m\u001b[38;5;241;43m.\u001b[39;49m\u001b[43musers_to_evaluate\u001b[49m\u001b[43m)\u001b[49m\n\u001b[1;32m    279\u001b[0m \u001b[38;5;28;01mif\u001b[39;00m \u001b[38;5;28mself\u001b[39m\u001b[38;5;241m.\u001b[39m_n_users_evaluated \u001b[38;5;241m>\u001b[39m \u001b[38;5;241m0\u001b[39m:\n\u001b[1;32m    281\u001b[0m     \u001b[38;5;28;01mfor\u001b[39;00m cutoff \u001b[38;5;129;01min\u001b[39;00m \u001b[38;5;28mself\u001b[39m\u001b[38;5;241m.\u001b[39mcutoff_list:\n",
      "File \u001b[0;32m~/Developer/RecSys/Competizione/Evaluation/Evaluator.py:476\u001b[0m, in \u001b[0;36mEvaluatorHoldout._run_evaluation_on_selected_users\u001b[0;34m(self, recommender_object, users_to_evaluate, block_size)\u001b[0m\n\u001b[1;32m    473\u001b[0m     user_batch_start \u001b[38;5;241m=\u001b[39m user_batch_end\n\u001b[1;32m    475\u001b[0m     \u001b[38;5;66;03m# Compute predictions for a batch of users using vectorization, much more efficient than computing it one at a time\u001b[39;00m\n\u001b[0;32m--> 476\u001b[0m     recommended_items_batch_list, scores_batch \u001b[38;5;241m=\u001b[39m \u001b[43mrecommender_object\u001b[49m\u001b[38;5;241;43m.\u001b[39;49m\u001b[43mrecommend\u001b[49m\u001b[43m(\u001b[49m\u001b[43mtest_user_batch_array\u001b[49m\u001b[43m,\u001b[49m\n\u001b[1;32m    477\u001b[0m \u001b[43m                                                              \u001b[49m\u001b[43mremove_seen_flag\u001b[49m\u001b[38;5;241;43m=\u001b[39;49m\u001b[38;5;28;43mself\u001b[39;49m\u001b[38;5;241;43m.\u001b[39;49m\u001b[43mexclude_seen\u001b[49m\u001b[43m,\u001b[49m\n\u001b[1;32m    478\u001b[0m \u001b[43m                                                              \u001b[49m\u001b[43mcutoff\u001b[49m\u001b[43m \u001b[49m\u001b[38;5;241;43m=\u001b[39;49m\u001b[43m \u001b[49m\u001b[38;5;28;43mself\u001b[39;49m\u001b[38;5;241;43m.\u001b[39;49m\u001b[43mmax_cutoff\u001b[49m\u001b[43m,\u001b[49m\n\u001b[1;32m    479\u001b[0m \u001b[43m                                                              \u001b[49m\u001b[43mremove_top_pop_flag\u001b[49m\u001b[38;5;241;43m=\u001b[39;49m\u001b[38;5;28;43;01mFalse\u001b[39;49;00m\u001b[43m,\u001b[49m\n\u001b[1;32m    480\u001b[0m \u001b[43m                                                              \u001b[49m\u001b[43mremove_custom_items_flag\u001b[49m\u001b[38;5;241;43m=\u001b[39;49m\u001b[38;5;28;43mself\u001b[39;49m\u001b[38;5;241;43m.\u001b[39;49m\u001b[43mignore_items_flag\u001b[49m\u001b[43m,\u001b[49m\n\u001b[1;32m    481\u001b[0m \u001b[43m                                                              \u001b[49m\u001b[43mreturn_scores\u001b[49m\u001b[43m \u001b[49m\u001b[38;5;241;43m=\u001b[39;49m\u001b[43m \u001b[49m\u001b[38;5;28;43;01mTrue\u001b[39;49;00m\n\u001b[1;32m    482\u001b[0m \u001b[43m                                                             \u001b[49m\u001b[43m)\u001b[49m\n\u001b[1;32m    484\u001b[0m     results_dict \u001b[38;5;241m=\u001b[39m \u001b[38;5;28mself\u001b[39m\u001b[38;5;241m.\u001b[39m_compute_metrics_on_recommendation_list(test_user_batch_array \u001b[38;5;241m=\u001b[39m test_user_batch_array,\n\u001b[1;32m    485\u001b[0m                                                  recommended_items_batch_list \u001b[38;5;241m=\u001b[39m recommended_items_batch_list,\n\u001b[1;32m    486\u001b[0m                                                  scores_batch \u001b[38;5;241m=\u001b[39m scores_batch,\n\u001b[1;32m    487\u001b[0m                                                  results_dict \u001b[38;5;241m=\u001b[39m results_dict)\n\u001b[1;32m    490\u001b[0m \u001b[38;5;28;01mreturn\u001b[39;00m results_dict\n",
      "File \u001b[0;32m~/Developer/RecSys/Competizione/Recommenders/BaseRecommender.py:147\u001b[0m, in \u001b[0;36mBaseRecommender.recommend\u001b[0;34m(self, user_id_array, cutoff, remove_seen_flag, items_to_compute, remove_top_pop_flag, remove_custom_items_flag, return_scores)\u001b[0m\n\u001b[1;32m    143\u001b[0m cutoff \u001b[38;5;241m=\u001b[39m \u001b[38;5;28mmin\u001b[39m(cutoff, \u001b[38;5;28mself\u001b[39m\u001b[38;5;241m.\u001b[39mURM_train\u001b[38;5;241m.\u001b[39mshape[\u001b[38;5;241m1\u001b[39m] \u001b[38;5;241m-\u001b[39m \u001b[38;5;241m1\u001b[39m)\n\u001b[1;32m    145\u001b[0m \u001b[38;5;66;03m# Compute the scores using the model-specific function\u001b[39;00m\n\u001b[1;32m    146\u001b[0m \u001b[38;5;66;03m# Vectorize over all users in user_id_array\u001b[39;00m\n\u001b[0;32m--> 147\u001b[0m scores_batch \u001b[38;5;241m=\u001b[39m \u001b[38;5;28;43mself\u001b[39;49m\u001b[38;5;241;43m.\u001b[39;49m\u001b[43m_compute_item_score\u001b[49m\u001b[43m(\u001b[49m\u001b[43muser_id_array\u001b[49m\u001b[43m,\u001b[49m\u001b[43m \u001b[49m\u001b[43mitems_to_compute\u001b[49m\u001b[38;5;241;43m=\u001b[39;49m\u001b[43mitems_to_compute\u001b[49m\u001b[43m)\u001b[49m\n\u001b[1;32m    150\u001b[0m \u001b[38;5;28;01mfor\u001b[39;00m user_index \u001b[38;5;129;01min\u001b[39;00m \u001b[38;5;28mrange\u001b[39m(\u001b[38;5;28mlen\u001b[39m(user_id_array)):\n\u001b[1;32m    152\u001b[0m     user_id \u001b[38;5;241m=\u001b[39m user_id_array[user_index]\n",
      "File \u001b[0;32m~/Developer/RecSys/Competizione/Recommenders/BaseSimilarityMatrixRecommender.py:90\u001b[0m, in \u001b[0;36mBaseItemSimilarityMatrixRecommender._compute_item_score\u001b[0;34m(self, user_id_array, items_to_compute)\u001b[0m\n\u001b[1;32m     88\u001b[0m     item_scores[:, items_to_compute] \u001b[38;5;241m=\u001b[39m item_scores_all[:, items_to_compute]\n\u001b[1;32m     89\u001b[0m \u001b[38;5;28;01melse\u001b[39;00m:\n\u001b[0;32m---> 90\u001b[0m     item_scores \u001b[38;5;241m=\u001b[39m \u001b[43muser_profile_array\u001b[49m\u001b[38;5;241;43m.\u001b[39;49m\u001b[43mdot\u001b[49m\u001b[43m(\u001b[49m\u001b[38;5;28;43mself\u001b[39;49m\u001b[38;5;241;43m.\u001b[39;49m\u001b[43mW_sparse\u001b[49m\u001b[43m)\u001b[49m\u001b[38;5;241m.\u001b[39mtoarray()\n\u001b[1;32m     92\u001b[0m \u001b[38;5;28;01mreturn\u001b[39;00m item_scores\n",
      "File \u001b[0;32m~/miniconda3/envs/RecSysPD/lib/python3.8/site-packages/scipy/sparse/_base.py:416\u001b[0m, in \u001b[0;36mspmatrix.dot\u001b[0;34m(self, other)\u001b[0m\n\u001b[1;32m    414\u001b[0m     \u001b[38;5;28;01mreturn\u001b[39;00m \u001b[38;5;28mself\u001b[39m \u001b[38;5;241m*\u001b[39m other\n\u001b[1;32m    415\u001b[0m \u001b[38;5;28;01melse\u001b[39;00m:\n\u001b[0;32m--> 416\u001b[0m     \u001b[38;5;28;01mreturn\u001b[39;00m \u001b[38;5;28;43mself\u001b[39;49m\u001b[43m \u001b[49m\u001b[38;5;241;43m@\u001b[39;49m\u001b[43m \u001b[49m\u001b[43mother\u001b[49m\n",
      "File \u001b[0;32m~/miniconda3/envs/RecSysPD/lib/python3.8/site-packages/scipy/sparse/_base.py:630\u001b[0m, in \u001b[0;36mspmatrix.__matmul__\u001b[0;34m(self, other)\u001b[0m\n\u001b[1;32m    627\u001b[0m \u001b[38;5;28;01mif\u001b[39;00m isscalarlike(other):\n\u001b[1;32m    628\u001b[0m     \u001b[38;5;28;01mraise\u001b[39;00m \u001b[38;5;167;01mValueError\u001b[39;00m(\u001b[38;5;124m\"\u001b[39m\u001b[38;5;124mScalar operands are not allowed, \u001b[39m\u001b[38;5;124m\"\u001b[39m\n\u001b[1;32m    629\u001b[0m                      \u001b[38;5;124m\"\u001b[39m\u001b[38;5;124muse \u001b[39m\u001b[38;5;124m'\u001b[39m\u001b[38;5;124m*\u001b[39m\u001b[38;5;124m'\u001b[39m\u001b[38;5;124m instead\u001b[39m\u001b[38;5;124m\"\u001b[39m)\n\u001b[0;32m--> 630\u001b[0m \u001b[38;5;28;01mreturn\u001b[39;00m \u001b[38;5;28;43mself\u001b[39;49m\u001b[38;5;241;43m.\u001b[39;49m\u001b[43m_mul_dispatch\u001b[49m\u001b[43m(\u001b[49m\u001b[43mother\u001b[49m\u001b[43m)\u001b[49m\n",
      "File \u001b[0;32m~/miniconda3/envs/RecSysPD/lib/python3.8/site-packages/scipy/sparse/_base.py:541\u001b[0m, in \u001b[0;36mspmatrix._mul_dispatch\u001b[0;34m(self, other)\u001b[0m\n\u001b[1;32m    539\u001b[0m     \u001b[38;5;28;01mif\u001b[39;00m \u001b[38;5;28mself\u001b[39m\u001b[38;5;241m.\u001b[39mshape[\u001b[38;5;241m1\u001b[39m] \u001b[38;5;241m!=\u001b[39m other\u001b[38;5;241m.\u001b[39mshape[\u001b[38;5;241m0\u001b[39m]:\n\u001b[1;32m    540\u001b[0m         \u001b[38;5;28;01mraise\u001b[39;00m \u001b[38;5;167;01mValueError\u001b[39;00m(\u001b[38;5;124m'\u001b[39m\u001b[38;5;124mdimension mismatch\u001b[39m\u001b[38;5;124m'\u001b[39m)\n\u001b[0;32m--> 541\u001b[0m     \u001b[38;5;28;01mreturn\u001b[39;00m \u001b[38;5;28;43mself\u001b[39;49m\u001b[38;5;241;43m.\u001b[39;49m\u001b[43m_mul_sparse_matrix\u001b[49m\u001b[43m(\u001b[49m\u001b[43mother\u001b[49m\u001b[43m)\u001b[49m\n\u001b[1;32m    543\u001b[0m \u001b[38;5;66;03m# If it's a list or whatever, treat it like a matrix\u001b[39;00m\n\u001b[1;32m    544\u001b[0m other_a \u001b[38;5;241m=\u001b[39m np\u001b[38;5;241m.\u001b[39masanyarray(other)\n",
      "File \u001b[0;32m~/miniconda3/envs/RecSysPD/lib/python3.8/site-packages/scipy/sparse/_compressed.py:533\u001b[0m, in \u001b[0;36m_cs_matrix._mul_sparse_matrix\u001b[0;34m(self, other)\u001b[0m\n\u001b[1;32m    530\u001b[0m data \u001b[38;5;241m=\u001b[39m np\u001b[38;5;241m.\u001b[39mempty(nnz, dtype\u001b[38;5;241m=\u001b[39mupcast(\u001b[38;5;28mself\u001b[39m\u001b[38;5;241m.\u001b[39mdtype, other\u001b[38;5;241m.\u001b[39mdtype))\n\u001b[1;32m    532\u001b[0m fn \u001b[38;5;241m=\u001b[39m \u001b[38;5;28mgetattr\u001b[39m(_sparsetools, \u001b[38;5;28mself\u001b[39m\u001b[38;5;241m.\u001b[39mformat \u001b[38;5;241m+\u001b[39m \u001b[38;5;124m'\u001b[39m\u001b[38;5;124m_matmat\u001b[39m\u001b[38;5;124m'\u001b[39m)\n\u001b[0;32m--> 533\u001b[0m \u001b[43mfn\u001b[49m\u001b[43m(\u001b[49m\u001b[43mM\u001b[49m\u001b[43m,\u001b[49m\u001b[43m \u001b[49m\u001b[43mN\u001b[49m\u001b[43m,\u001b[49m\u001b[43m \u001b[49m\u001b[43mnp\u001b[49m\u001b[38;5;241;43m.\u001b[39;49m\u001b[43masarray\u001b[49m\u001b[43m(\u001b[49m\u001b[38;5;28;43mself\u001b[39;49m\u001b[38;5;241;43m.\u001b[39;49m\u001b[43mindptr\u001b[49m\u001b[43m,\u001b[49m\u001b[43m \u001b[49m\u001b[43mdtype\u001b[49m\u001b[38;5;241;43m=\u001b[39;49m\u001b[43midx_dtype\u001b[49m\u001b[43m)\u001b[49m\u001b[43m,\u001b[49m\n\u001b[1;32m    534\u001b[0m \u001b[43m   \u001b[49m\u001b[43mnp\u001b[49m\u001b[38;5;241;43m.\u001b[39;49m\u001b[43masarray\u001b[49m\u001b[43m(\u001b[49m\u001b[38;5;28;43mself\u001b[39;49m\u001b[38;5;241;43m.\u001b[39;49m\u001b[43mindices\u001b[49m\u001b[43m,\u001b[49m\u001b[43m \u001b[49m\u001b[43mdtype\u001b[49m\u001b[38;5;241;43m=\u001b[39;49m\u001b[43midx_dtype\u001b[49m\u001b[43m)\u001b[49m\u001b[43m,\u001b[49m\n\u001b[1;32m    535\u001b[0m \u001b[43m   \u001b[49m\u001b[38;5;28;43mself\u001b[39;49m\u001b[38;5;241;43m.\u001b[39;49m\u001b[43mdata\u001b[49m\u001b[43m,\u001b[49m\n\u001b[1;32m    536\u001b[0m \u001b[43m   \u001b[49m\u001b[43mnp\u001b[49m\u001b[38;5;241;43m.\u001b[39;49m\u001b[43masarray\u001b[49m\u001b[43m(\u001b[49m\u001b[43mother\u001b[49m\u001b[38;5;241;43m.\u001b[39;49m\u001b[43mindptr\u001b[49m\u001b[43m,\u001b[49m\u001b[43m \u001b[49m\u001b[43mdtype\u001b[49m\u001b[38;5;241;43m=\u001b[39;49m\u001b[43midx_dtype\u001b[49m\u001b[43m)\u001b[49m\u001b[43m,\u001b[49m\n\u001b[1;32m    537\u001b[0m \u001b[43m   \u001b[49m\u001b[43mnp\u001b[49m\u001b[38;5;241;43m.\u001b[39;49m\u001b[43masarray\u001b[49m\u001b[43m(\u001b[49m\u001b[43mother\u001b[49m\u001b[38;5;241;43m.\u001b[39;49m\u001b[43mindices\u001b[49m\u001b[43m,\u001b[49m\u001b[43m \u001b[49m\u001b[43mdtype\u001b[49m\u001b[38;5;241;43m=\u001b[39;49m\u001b[43midx_dtype\u001b[49m\u001b[43m)\u001b[49m\u001b[43m,\u001b[49m\n\u001b[1;32m    538\u001b[0m \u001b[43m   \u001b[49m\u001b[43mother\u001b[49m\u001b[38;5;241;43m.\u001b[39;49m\u001b[43mdata\u001b[49m\u001b[43m,\u001b[49m\n\u001b[1;32m    539\u001b[0m \u001b[43m   \u001b[49m\u001b[43mindptr\u001b[49m\u001b[43m,\u001b[49m\u001b[43m \u001b[49m\u001b[43mindices\u001b[49m\u001b[43m,\u001b[49m\u001b[43m \u001b[49m\u001b[43mdata\u001b[49m\u001b[43m)\u001b[49m\n\u001b[1;32m    541\u001b[0m \u001b[38;5;28;01mreturn\u001b[39;00m \u001b[38;5;28mself\u001b[39m\u001b[38;5;241m.\u001b[39m\u001b[38;5;18m__class__\u001b[39m((data, indices, indptr), shape\u001b[38;5;241m=\u001b[39m(M, N))\n",
      "\u001b[0;31mKeyboardInterrupt\u001b[0m: "
     ]
    }
   ],
   "source": [
    "import optuna\n",
    "from Recommenders.GraphBased.RP3betaRecommender import RP3betaRecommender\n",
    "\n",
    "def objective_function(trial):\n",
    "    params = {\n",
    "        'topK': trial.suggest_int('topK', 5, 300),\n",
    "        'alpha': trial.suggest_float('alpha', 0, 2),\n",
    "        'beta': trial.suggest_float('beta', 0, 2),\n",
    "    }\n",
    "    \n",
    "    MAP = 0\n",
    "    recommender = RP3betaRecommender(stacked_URM_train)\n",
    "    recommender.fit(**params)\n",
    "\n",
    "    result_dict, _ = evaluator_test.evaluateRecommender(recommender)\n",
    "\n",
    "    MAP += result_dict.loc[10][\"MAP\"]\n",
    "    \n",
    "    \n",
    "    return MAP\n",
    "\n",
    "class SaveResults(object):\n",
    "    \n",
    "    def __init__(self):\n",
    "        self.results_df = pd.DataFrame(columns = [\"result\"])\n",
    "    \n",
    "    def __call__(self, optuna_study, optuna_trial):\n",
    "        hyperparam_dict = optuna_trial.params.copy()\n",
    "        hyperparam_dict[\"result\"] = optuna_trial.values[0]\n",
    "        \n",
    "        self.results_df = pd.concat([self.results_df, pd.DataFrame([hyperparam_dict])], ignore_index=True)\n",
    "        self.results_df.to_csv(\"logs/RP3/rp3_stacked.csv\", index = False)\n",
    "\n",
    "optuna_study = optuna.create_study(study_name=\"rp3_stacked\", direction=\"maximize\")\n",
    "        \n",
    "save_results = SaveResults()\n",
    "        \n",
    "optuna_study.optimize(objective_function,\n",
    "                      callbacks=[save_results],\n",
    "                      n_trials = 100,\n",
    "                      )"
   ]
  },
  {
   "cell_type": "markdown",
   "metadata": {},
   "source": [
    "## Reducing hyperparameter"
   ]
  },
  {
   "cell_type": "code",
   "execution_count": 10,
   "metadata": {},
   "outputs": [
    {
     "name": "stderr",
     "output_type": "stream",
     "text": [
      "[I 2024-12-30 13:55:30,245] A new study created in memory with name: rp3_stacked\n"
     ]
    },
    {
     "name": "stdout",
     "output_type": "stream",
     "text": [
      "RP3betaRecommender: Similarity column 38121 (100.0%), 949.79 column/sec. Elapsed time 40.13 sec\n",
      "EvaluatorHoldout: Processed 35595 (100.0%) in 15.82 sec. Users per second: 2249\n"
     ]
    },
    {
     "name": "stderr",
     "output_type": "stream",
     "text": [
      "[I 2024-12-30 13:56:28,752] Trial 0 finished with value: 0.032643711106205016 and parameters: {'topK': 97, 'alpha': 0.4351994863080879, 'beta': 0.916718686530137}. Best is trial 0 with value: 0.032643711106205016.\n"
     ]
    },
    {
     "name": "stdout",
     "output_type": "stream",
     "text": [
      "RP3betaRecommender: Similarity column 38121 (100.0%), 1008.48 column/sec. Elapsed time 37.80 sec\n",
      "EvaluatorHoldout: Processed 35595 (100.0%) in 14.70 sec. Users per second: 2421\n"
     ]
    },
    {
     "name": "stderr",
     "output_type": "stream",
     "text": [
      "[I 2024-12-30 13:57:22,563] Trial 1 finished with value: 0.03356469719975766 and parameters: {'topK': 39, 'alpha': 0.8162417566749208, 'beta': 0.9312235631330348}. Best is trial 1 with value: 0.03356469719975766.\n"
     ]
    },
    {
     "name": "stdout",
     "output_type": "stream",
     "text": [
      "RP3betaRecommender: Similarity column 38121 (100.0%), 952.51 column/sec. Elapsed time 40.02 sec\n",
      "EvaluatorHoldout: Processed 35595 (100.0%) in 15.88 sec. Users per second: 2242\n"
     ]
    },
    {
     "name": "stderr",
     "output_type": "stream",
     "text": [
      "[I 2024-12-30 13:58:20,470] Trial 2 finished with value: 0.044144190485107565 and parameters: {'topK': 91, 'alpha': 0.15790521145800307, 'beta': 0.3814487860926379}. Best is trial 2 with value: 0.044144190485107565.\n"
     ]
    },
    {
     "name": "stdout",
     "output_type": "stream",
     "text": [
      "RP3betaRecommender: Similarity column 38121 (100.0%), 944.52 column/sec. Elapsed time 40.36 sec\n",
      "EvaluatorHoldout: Processed 35595 (100.0%) in 15.20 sec. Users per second: 2342\n"
     ]
    },
    {
     "name": "stderr",
     "output_type": "stream",
     "text": [
      "[I 2024-12-30 13:59:17,495] Trial 3 finished with value: 0.050234708370399464 and parameters: {'topK': 46, 'alpha': 0.5468299603330776, 'beta': 0.3061327537400548}. Best is trial 3 with value: 0.050234708370399464.\n"
     ]
    },
    {
     "name": "stdout",
     "output_type": "stream",
     "text": [
      "RP3betaRecommender: Similarity column 38121 (100.0%), 972.17 column/sec. Elapsed time 39.21 sec\n",
      "EvaluatorHoldout: Processed 35595 (100.0%) in 15.71 sec. Users per second: 2265\n"
     ]
    },
    {
     "name": "stderr",
     "output_type": "stream",
     "text": [
      "[I 2024-12-30 14:00:14,593] Trial 4 finished with value: 0.04412869316851452 and parameters: {'topK': 67, 'alpha': 0.9979819709384284, 'beta': 0.21106313520312447}. Best is trial 3 with value: 0.050234708370399464.\n"
     ]
    },
    {
     "name": "stdout",
     "output_type": "stream",
     "text": [
      "RP3betaRecommender: Similarity column 38121 (100.0%), 992.04 column/sec. Elapsed time 38.43 sec\n",
      "EvaluatorHoldout: Processed 35595 (100.0%) in 15.09 sec. Users per second: 2359\n"
     ]
    },
    {
     "name": "stderr",
     "output_type": "stream",
     "text": [
      "[I 2024-12-30 14:01:09,928] Trial 5 finished with value: 0.045745831075791464 and parameters: {'topK': 49, 'alpha': 0.9102466596023475, 'beta': 0.3871169147539274}. Best is trial 3 with value: 0.050234708370399464.\n"
     ]
    },
    {
     "name": "stdout",
     "output_type": "stream",
     "text": [
      "RP3betaRecommender: Similarity column 38121 (100.0%), 1031.06 column/sec. Elapsed time 36.97 sec\n",
      "EvaluatorHoldout: Processed 35595 (100.0%) in 14.67 sec. Users per second: 2427\n"
     ]
    },
    {
     "name": "stderr",
     "output_type": "stream",
     "text": [
      "[I 2024-12-30 14:02:02,550] Trial 6 finished with value: 0.050704245513345944 and parameters: {'topK': 21, 'alpha': 0.5896523403518685, 'beta': 0.22521857794141587}. Best is trial 6 with value: 0.050704245513345944.\n"
     ]
    },
    {
     "name": "stdout",
     "output_type": "stream",
     "text": [
      "RP3betaRecommender: Similarity column 38121 (100.0%), 917.00 column/sec. Elapsed time 41.57 sec\n",
      "EvaluatorHoldout: Processed 35595 (100.0%) in 15.52 sec. Users per second: 2293\n"
     ]
    },
    {
     "name": "stderr",
     "output_type": "stream",
     "text": [
      "[I 2024-12-30 14:03:01,582] Trial 7 finished with value: 0.04938554549974492 and parameters: {'topK': 62, 'alpha': 0.5404760177203254, 'beta': 0.41519008910679456}. Best is trial 6 with value: 0.050704245513345944.\n"
     ]
    },
    {
     "name": "stdout",
     "output_type": "stream",
     "text": [
      "RP3betaRecommender: Similarity column 38121 (100.0%), 954.66 column/sec. Elapsed time 39.93 sec\n",
      "EvaluatorHoldout: Processed 35595 (100.0%) in 15.09 sec. Users per second: 2359\n"
     ]
    },
    {
     "name": "stderr",
     "output_type": "stream",
     "text": [
      "[I 2024-12-30 14:03:58,239] Trial 8 finished with value: 0.04967150393424966 and parameters: {'topK': 52, 'alpha': 0.5622501554781016, 'beta': 0.1695483450940808}. Best is trial 6 with value: 0.050704245513345944.\n"
     ]
    },
    {
     "name": "stdout",
     "output_type": "stream",
     "text": [
      "RP3betaRecommender: Similarity column 38121 (100.0%), 963.98 column/sec. Elapsed time 39.55 sec\n",
      "EvaluatorHoldout: Processed 35595 (100.0%) in 15.98 sec. Users per second: 2228\n"
     ]
    },
    {
     "name": "stderr",
     "output_type": "stream",
     "text": [
      "[I 2024-12-30 14:04:56,090] Trial 9 finished with value: 0.045908489911859605 and parameters: {'topK': 86, 'alpha': 0.8105379752720725, 'beta': 0.4996561240583557}. Best is trial 6 with value: 0.050704245513345944.\n"
     ]
    },
    {
     "name": "stdout",
     "output_type": "stream",
     "text": [
      "RP3betaRecommender: Similarity column 38121 (100.0%), 999.76 column/sec. Elapsed time 38.13 sec\n",
      "EvaluatorHoldout: Processed 35595 (100.0%) in 13.75 sec. Users per second: 2590\n"
     ]
    },
    {
     "name": "stderr",
     "output_type": "stream",
     "text": [
      "[I 2024-12-30 14:05:48,588] Trial 10 finished with value: 0.04332006457122186 and parameters: {'topK': 10, 'alpha': 0.032952904128198846, 'beta': 0.008259093307131038}. Best is trial 6 with value: 0.050704245513345944.\n"
     ]
    },
    {
     "name": "stdout",
     "output_type": "stream",
     "text": [
      "RP3betaRecommender: Similarity column 38121 (100.0%), 1024.54 column/sec. Elapsed time 37.21 sec\n",
      "EvaluatorHoldout: Processed 35595 (100.0%) in 14.28 sec. Users per second: 2493\n"
     ]
    },
    {
     "name": "stderr",
     "output_type": "stream",
     "text": [
      "[I 2024-12-30 14:06:41,025] Trial 11 finished with value: 0.04615459412214415 and parameters: {'topK': 20, 'alpha': 0.43733249316584155, 'beta': 0.683316233147201}. Best is trial 6 with value: 0.050704245513345944.\n"
     ]
    },
    {
     "name": "stdout",
     "output_type": "stream",
     "text": [
      "RP3betaRecommender: Similarity column 38121 (100.0%), 999.17 column/sec. Elapsed time 38.15 sec\n",
      "EvaluatorHoldout: Processed 35595 (100.0%) in 14.56 sec. Users per second: 2445\n"
     ]
    },
    {
     "name": "stderr",
     "output_type": "stream",
     "text": [
      "[I 2024-12-30 14:07:34,995] Trial 12 finished with value: 0.04988926124366317 and parameters: {'topK': 28, 'alpha': 0.6750455606745427, 'beta': 0.22139573618276254}. Best is trial 6 with value: 0.050704245513345944.\n"
     ]
    },
    {
     "name": "stdout",
     "output_type": "stream",
     "text": [
      "RP3betaRecommender: Similarity column 38121 (100.0%), 1024.22 column/sec. Elapsed time 37.22 sec\n",
      "EvaluatorHoldout: Processed 35595 (100.0%) in 13.68 sec. Users per second: 2602\n"
     ]
    },
    {
     "name": "stderr",
     "output_type": "stream",
     "text": [
      "[I 2024-12-30 14:08:26,571] Trial 13 finished with value: 0.04728962178119212 and parameters: {'topK': 5, 'alpha': 0.2869057727652382, 'beta': 0.05632850755370322}. Best is trial 6 with value: 0.050704245513345944.\n"
     ]
    },
    {
     "name": "stdout",
     "output_type": "stream",
     "text": [
      "RP3betaRecommender: Similarity column 38121 (100.0%), 967.95 column/sec. Elapsed time 39.38 sec\n",
      "EvaluatorHoldout: Processed 35595 (100.0%) in 15.13 sec. Users per second: 2353\n"
     ]
    },
    {
     "name": "stderr",
     "output_type": "stream",
     "text": [
      "[I 2024-12-30 14:09:22,282] Trial 14 finished with value: 0.045869407153223844 and parameters: {'topK': 33, 'alpha': 0.6392051706050395, 'beta': 0.636947232738402}. Best is trial 6 with value: 0.050704245513345944.\n"
     ]
    },
    {
     "name": "stdout",
     "output_type": "stream",
     "text": [
      "RP3betaRecommender: Similarity column 38121 (100.0%), 984.04 column/sec. Elapsed time 38.74 sec\n",
      "EvaluatorHoldout: Processed 35595 (100.0%) in 14.36 sec. Users per second: 2478\n"
     ]
    },
    {
     "name": "stderr",
     "output_type": "stream",
     "text": [
      "[I 2024-12-30 14:10:16,322] Trial 15 finished with value: 0.050875522021327314 and parameters: {'topK': 20, 'alpha': 0.3266065961536102, 'beta': 0.2687217856251941}. Best is trial 15 with value: 0.050875522021327314.\n"
     ]
    },
    {
     "name": "stdout",
     "output_type": "stream",
     "text": [
      "RP3betaRecommender: Similarity column 38121 (100.0%), 991.80 column/sec. Elapsed time 38.43 sec\n",
      "EvaluatorHoldout: Processed 35595 (100.0%) in 14.33 sec. Users per second: 2484\n"
     ]
    },
    {
     "name": "stderr",
     "output_type": "stream",
     "text": [
      "[I 2024-12-30 14:11:10,014] Trial 16 finished with value: 0.04744078555709223 and parameters: {'topK': 20, 'alpha': 0.2890417382050357, 'beta': 0.5936492859884241}. Best is trial 15 with value: 0.050875522021327314.\n"
     ]
    },
    {
     "name": "stdout",
     "output_type": "stream",
     "text": [
      "RP3betaRecommender: Similarity column 38121 (100.0%), 1025.55 column/sec. Elapsed time 37.17 sec\n",
      "EvaluatorHoldout: Processed 35595 (100.0%) in 13.99 sec. Users per second: 2545\n"
     ]
    },
    {
     "name": "stderr",
     "output_type": "stream",
     "text": [
      "[I 2024-12-30 14:12:02,099] Trial 17 finished with value: 0.05002269245947961 and parameters: {'topK': 19, 'alpha': 0.3258587143523298, 'beta': 0.11279550237418423}. Best is trial 15 with value: 0.050875522021327314.\n"
     ]
    },
    {
     "name": "stdout",
     "output_type": "stream",
     "text": [
      "RP3betaRecommender: Similarity column 38121 (100.0%), 933.50 column/sec. Elapsed time 40.83 sec\n",
      "EvaluatorHoldout: Processed 35595 (100.0%) in 15.62 sec. Users per second: 2278\n"
     ]
    },
    {
     "name": "stderr",
     "output_type": "stream",
     "text": [
      "[I 2024-12-30 14:13:00,517] Trial 18 finished with value: 0.04914304554991258 and parameters: {'topK': 67, 'alpha': 0.3821296500215999, 'beta': 0.28795203595535407}. Best is trial 15 with value: 0.050875522021327314.\n"
     ]
    },
    {
     "name": "stdout",
     "output_type": "stream",
     "text": [
      "RP3betaRecommender: Similarity column 38121 (100.0%), 1014.70 column/sec. Elapsed time 37.57 sec\n",
      "EvaluatorHoldout: Processed 35595 (100.0%) in 16.06 sec. Users per second: 2217\n"
     ]
    },
    {
     "name": "stderr",
     "output_type": "stream",
     "text": [
      "[I 2024-12-30 14:13:55,190] Trial 19 finished with value: 0.039848730314805694 and parameters: {'topK': 31, 'alpha': 0.17271867084752546, 'beta': 0.738627116956211}. Best is trial 15 with value: 0.050875522021327314.\n"
     ]
    },
    {
     "name": "stdout",
     "output_type": "stream",
     "text": [
      "RP3betaRecommender: Similarity column 38121 (100.0%), 939.61 column/sec. Elapsed time 40.57 sec\n",
      "EvaluatorHoldout: Processed 35595 (100.0%) in 13.96 sec. Users per second: 2549\n"
     ]
    },
    {
     "name": "stderr",
     "output_type": "stream",
     "text": [
      "[I 2024-12-30 14:14:51,414] Trial 20 finished with value: 0.047837788212628705 and parameters: {'topK': 14, 'alpha': 0.707829833999911, 'beta': 0.5171102437314034}. Best is trial 15 with value: 0.050875522021327314.\n"
     ]
    },
    {
     "name": "stdout",
     "output_type": "stream",
     "text": [
      "RP3betaRecommender: Similarity column 38121 (100.0%), 1009.02 column/sec. Elapsed time 37.78 sec\n",
      "EvaluatorHoldout: Processed 35595 (100.0%) in 14.62 sec. Users per second: 2434\n"
     ]
    },
    {
     "name": "stderr",
     "output_type": "stream",
     "text": [
      "[I 2024-12-30 14:15:45,166] Trial 21 finished with value: 0.05039680978913823 and parameters: {'topK': 42, 'alpha': 0.5086683352275194, 'beta': 0.2972181516902495}. Best is trial 15 with value: 0.050875522021327314.\n"
     ]
    },
    {
     "name": "stdout",
     "output_type": "stream",
     "text": [
      "RP3betaRecommender: Similarity column 38121 (100.0%), 963.93 column/sec. Elapsed time 39.55 sec\n",
      "EvaluatorHoldout: Processed 35595 (100.0%) in 14.48 sec. Users per second: 2459\n"
     ]
    },
    {
     "name": "stderr",
     "output_type": "stream",
     "text": [
      "[I 2024-12-30 14:16:40,591] Trial 22 finished with value: 0.05037762459949388 and parameters: {'topK': 41, 'alpha': 0.4381323195445059, 'beta': 0.2982756169210643}. Best is trial 15 with value: 0.050875522021327314.\n"
     ]
    },
    {
     "name": "stdout",
     "output_type": "stream",
     "text": [
      "RP3betaRecommender: Similarity column 38121 (100.0%), 954.77 column/sec. Elapsed time 39.93 sec\n",
      "EvaluatorHoldout: Processed 35595 (100.0%) in 14.62 sec. Users per second: 2435\n"
     ]
    },
    {
     "name": "stderr",
     "output_type": "stream",
     "text": [
      "[I 2024-12-30 14:17:36,202] Trial 23 finished with value: 0.05025237738490804 and parameters: {'topK': 27, 'alpha': 0.6126024368166811, 'beta': 0.11274197617144074}. Best is trial 15 with value: 0.050875522021327314.\n"
     ]
    },
    {
     "name": "stdout",
     "output_type": "stream",
     "text": [
      "RP3betaRecommender: Similarity column 38121 (100.0%), 964.78 column/sec. Elapsed time 39.51 sec\n",
      "EvaluatorHoldout: Processed 35595 (100.0%) in 15.53 sec. Users per second: 2292\n"
     ]
    },
    {
     "name": "stderr",
     "output_type": "stream",
     "text": [
      "[I 2024-12-30 14:18:33,314] Trial 24 finished with value: 0.04976908095260228 and parameters: {'topK': 58, 'alpha': 0.4909641288745034, 'beta': 0.26471892477062947}. Best is trial 15 with value: 0.050875522021327314.\n"
     ]
    },
    {
     "name": "stdout",
     "output_type": "stream",
     "text": [
      "RP3betaRecommender: Similarity column 38121 (100.0%), 944.63 column/sec. Elapsed time 40.36 sec\n",
      "EvaluatorHoldout: Processed 35595 (100.0%) in 14.65 sec. Users per second: 2429\n"
     ]
    },
    {
     "name": "stderr",
     "output_type": "stream",
     "text": [
      "[I 2024-12-30 14:19:29,898] Trial 25 finished with value: 0.04690568498785776 and parameters: {'topK': 38, 'alpha': 0.19448449104823073, 'beta': 0.462815563996825}. Best is trial 15 with value: 0.050875522021327314.\n"
     ]
    },
    {
     "name": "stdout",
     "output_type": "stream",
     "text": [
      "RP3betaRecommender: Similarity column 38121 (100.0%), 924.60 column/sec. Elapsed time 41.23 sec\n",
      "EvaluatorHoldout: Processed 35595 (100.0%) in 15.67 sec. Users per second: 2271\n"
     ]
    },
    {
     "name": "stderr",
     "output_type": "stream",
     "text": [
      "[I 2024-12-30 14:20:28,962] Trial 26 finished with value: 0.04774701948953784 and parameters: {'topK': 79, 'alpha': 0.7292521090730223, 'beta': 0.14879872566532176}. Best is trial 15 with value: 0.050875522021327314.\n"
     ]
    },
    {
     "name": "stdout",
     "output_type": "stream",
     "text": [
      "RP3betaRecommender: Similarity column 38121 (100.0%), 1005.48 column/sec. Elapsed time 37.91 sec\n",
      "EvaluatorHoldout: Processed 35595 (100.0%) in 14.57 sec. Users per second: 2444\n"
     ]
    },
    {
     "name": "stderr",
     "output_type": "stream",
     "text": [
      "[I 2024-12-30 14:21:22,563] Trial 27 finished with value: 0.0506478549466311 and parameters: {'topK': 24, 'alpha': 0.36045466064818754, 'beta': 0.35940193562179296}. Best is trial 15 with value: 0.050875522021327314.\n"
     ]
    },
    {
     "name": "stdout",
     "output_type": "stream",
     "text": [
      "RP3betaRecommender: Similarity column 38121 (100.0%), 1009.01 column/sec. Elapsed time 37.78 sec\n",
      "EvaluatorHoldout: Processed 35595 (100.0%) in 13.79 sec. Users per second: 2581\n"
     ]
    },
    {
     "name": "stderr",
     "output_type": "stream",
     "text": [
      "[I 2024-12-30 14:22:14,845] Trial 28 finished with value: 0.04657611868083673 and parameters: {'topK': 6, 'alpha': 0.22703443147648453, 'beta': 0.5544819731221341}. Best is trial 15 with value: 0.050875522021327314.\n"
     ]
    },
    {
     "name": "stdout",
     "output_type": "stream",
     "text": [
      "RP3betaRecommender: Similarity column 38121 (100.0%), 1043.27 column/sec. Elapsed time 36.54 sec\n",
      "EvaluatorHoldout: Processed 35595 (100.0%) in 14.08 sec. Users per second: 2527\n"
     ]
    },
    {
     "name": "stderr",
     "output_type": "stream",
     "text": [
      "[I 2024-12-30 14:23:06,306] Trial 29 finished with value: 0.035072632592859046 and parameters: {'topK': 15, 'alpha': 0.06180775466257038, 'beta': 0.821169370811513}. Best is trial 15 with value: 0.050875522021327314.\n"
     ]
    },
    {
     "name": "stdout",
     "output_type": "stream",
     "text": [
      "RP3betaRecommender: Similarity column 38121 (100.0%), 970.03 column/sec. Elapsed time 39.30 sec\n",
      "EvaluatorHoldout: Processed 35595 (100.0%) in 14.73 sec. Users per second: 2417\n"
     ]
    },
    {
     "name": "stderr",
     "output_type": "stream",
     "text": [
      "[I 2024-12-30 14:24:01,385] Trial 30 finished with value: 0.05059963611796573 and parameters: {'topK': 26, 'alpha': 0.3634184406908666, 'beta': 0.3647871601390261}. Best is trial 15 with value: 0.050875522021327314.\n"
     ]
    },
    {
     "name": "stdout",
     "output_type": "stream",
     "text": [
      "RP3betaRecommender: Similarity column 38121 (100.0%), 1009.69 column/sec. Elapsed time 37.75 sec\n",
      "EvaluatorHoldout: Processed 35595 (100.0%) in 14.44 sec. Users per second: 2464\n"
     ]
    },
    {
     "name": "stderr",
     "output_type": "stream",
     "text": [
      "[I 2024-12-30 14:24:54,658] Trial 31 finished with value: 0.050639356562026394 and parameters: {'topK': 24, 'alpha': 0.35706016036298927, 'beta': 0.36152743653946806}. Best is trial 15 with value: 0.050875522021327314.\n"
     ]
    },
    {
     "name": "stdout",
     "output_type": "stream",
     "text": [
      "RP3betaRecommender: Similarity column 38121 (100.0%), 1004.97 column/sec. Elapsed time 37.93 sec\n",
      "EvaluatorHoldout: Processed 35595 (100.0%) in 14.09 sec. Users per second: 2526\n"
     ]
    },
    {
     "name": "stderr",
     "output_type": "stream",
     "text": [
      "[I 2024-12-30 14:25:47,864] Trial 32 finished with value: 0.0504464723286871 and parameters: {'topK': 22, 'alpha': 0.412188555752682, 'beta': 0.44203407485030877}. Best is trial 15 with value: 0.050875522021327314.\n"
     ]
    },
    {
     "name": "stdout",
     "output_type": "stream",
     "text": [
      "RP3betaRecommender: Similarity column 38121 (100.0%), 1003.70 column/sec. Elapsed time 37.98 sec\n",
      "EvaluatorHoldout: Processed 35595 (100.0%) in 14.81 sec. Users per second: 2403\n"
     ]
    },
    {
     "name": "stderr",
     "output_type": "stream",
     "text": [
      "[I 2024-12-30 14:26:41,806] Trial 33 finished with value: 0.04895478899524244 and parameters: {'topK': 35, 'alpha': 0.25606399531564106, 'beta': 0.3424308736844363}. Best is trial 15 with value: 0.050875522021327314.\n"
     ]
    },
    {
     "name": "stdout",
     "output_type": "stream",
     "text": [
      "RP3betaRecommender: Similarity column 38121 (100.0%), 968.97 column/sec. Elapsed time 39.34 sec\n",
      "EvaluatorHoldout: Processed 35595 (100.0%) in 13.66 sec. Users per second: 2606\n"
     ]
    },
    {
     "name": "stderr",
     "output_type": "stream",
     "text": [
      "[I 2024-12-30 14:27:35,564] Trial 34 finished with value: 0.047046653600802936 and parameters: {'topK': 13, 'alpha': 0.08860739536778484, 'beta': 0.22577929094122287}. Best is trial 15 with value: 0.050875522021327314.\n"
     ]
    },
    {
     "name": "stdout",
     "output_type": "stream",
     "text": [
      "RP3betaRecommender: Similarity column 38121 (100.0%), 940.61 column/sec. Elapsed time 40.53 sec\n",
      "EvaluatorHoldout: Processed 35595 (100.0%) in 15.42 sec. Users per second: 2308\n"
     ]
    },
    {
     "name": "stderr",
     "output_type": "stream",
     "text": [
      "[I 2024-12-30 14:28:33,766] Trial 35 finished with value: 0.041918413055158345 and parameters: {'topK': 99, 'alpha': 0.11921927454584003, 'beta': 0.1794353782499103}. Best is trial 15 with value: 0.050875522021327314.\n"
     ]
    },
    {
     "name": "stdout",
     "output_type": "stream",
     "text": [
      "RP3betaRecommender: Similarity column 38121 (100.0%), 1025.82 column/sec. Elapsed time 37.16 sec\n",
      "EvaluatorHoldout: Processed 35595 (100.0%) in 13.79 sec. Users per second: 2581\n"
     ]
    },
    {
     "name": "stderr",
     "output_type": "stream",
     "text": [
      "[I 2024-12-30 14:29:25,739] Trial 36 finished with value: 0.03284076482116853 and parameters: {'topK': 25, 'alpha': 0.3388893638156609, 'beta': 0.9988188016354613}. Best is trial 15 with value: 0.050875522021327314.\n"
     ]
    },
    {
     "name": "stdout",
     "output_type": "stream",
     "text": [
      "RP3betaRecommender: Similarity column 38121 (100.0%), 973.83 column/sec. Elapsed time 39.14 sec\n",
      "EvaluatorHoldout: Processed 35595 (100.0%) in 14.32 sec. Users per second: 2485\n"
     ]
    },
    {
     "name": "stderr",
     "output_type": "stream",
     "text": [
      "[I 2024-12-30 14:30:20,564] Trial 37 finished with value: 0.05086316742363781 and parameters: {'topK': 32, 'alpha': 0.49788496072899824, 'beta': 0.3480414227034168}. Best is trial 15 with value: 0.050875522021327314.\n"
     ]
    },
    {
     "name": "stdout",
     "output_type": "stream",
     "text": [
      "RP3betaRecommender: Similarity column 38121 (100.0%), 1008.87 column/sec. Elapsed time 37.79 sec\n",
      "EvaluatorHoldout: Processed 35595 (100.0%) in 14.68 sec. Users per second: 2425\n"
     ]
    },
    {
     "name": "stderr",
     "output_type": "stream",
     "text": [
      "[I 2024-12-30 14:31:14,351] Trial 38 finished with value: 0.05085340035719113 and parameters: {'topK': 33, 'alpha': 0.4813532332856181, 'beta': 0.25066248994964235}. Best is trial 15 with value: 0.050875522021327314.\n"
     ]
    },
    {
     "name": "stdout",
     "output_type": "stream",
     "text": [
      "RP3betaRecommender: Similarity column 38121 (100.0%), 984.13 column/sec. Elapsed time 38.73 sec\n",
      "EvaluatorHoldout: Processed 35595 (100.0%) in 14.81 sec. Users per second: 2404\n"
     ]
    },
    {
     "name": "stderr",
     "output_type": "stream",
     "text": [
      "[I 2024-12-30 14:32:09,528] Trial 39 finished with value: 0.0499813822611949 and parameters: {'topK': 46, 'alpha': 0.5794753395089863, 'beta': 0.23414831153407845}. Best is trial 15 with value: 0.050875522021327314.\n"
     ]
    },
    {
     "name": "stdout",
     "output_type": "stream",
     "text": [
      "RP3betaRecommender: Similarity column 38121 (100.0%), 995.66 column/sec. Elapsed time 38.29 sec\n",
      "EvaluatorHoldout: Processed 35595 (100.0%) in 14.58 sec. Users per second: 2441\n"
     ]
    },
    {
     "name": "stderr",
     "output_type": "stream",
     "text": [
      "[I 2024-12-30 14:33:03,470] Trial 40 finished with value: 0.04985771142281721 and parameters: {'topK': 35, 'alpha': 0.4867176132598362, 'beta': 0.08397704876254042}. Best is trial 15 with value: 0.050875522021327314.\n"
     ]
    },
    {
     "name": "stdout",
     "output_type": "stream",
     "text": [
      "RP3betaRecommender: Similarity column 38121 (100.0%), 963.81 column/sec. Elapsed time 39.55 sec\n",
      "EvaluatorHoldout: Processed 35595 (100.0%) in 14.71 sec. Users per second: 2420\n"
     ]
    },
    {
     "name": "stderr",
     "output_type": "stream",
     "text": [
      "[I 2024-12-30 14:33:59,139] Trial 41 finished with value: 0.05049255513414617 and parameters: {'topK': 30, 'alpha': 0.4560625198097905, 'beta': 0.40952413448296254}. Best is trial 15 with value: 0.050875522021327314.\n"
     ]
    },
    {
     "name": "stdout",
     "output_type": "stream",
     "text": [
      "RP3betaRecommender: Similarity column 38121 (100.0%), 1017.97 column/sec. Elapsed time 37.45 sec\n",
      "EvaluatorHoldout: Processed 35595 (100.0%) in 14.17 sec. Users per second: 2512\n"
     ]
    },
    {
     "name": "stderr",
     "output_type": "stream",
     "text": [
      "[I 2024-12-30 14:34:51,606] Trial 42 finished with value: 0.05101035235464066 and parameters: {'topK': 16, 'alpha': 0.5425382756999916, 'beta': 0.3274697806062692}. Best is trial 42 with value: 0.05101035235464066.\n"
     ]
    },
    {
     "name": "stdout",
     "output_type": "stream",
     "text": [
      "RP3betaRecommender: Similarity column 38121 (100.0%), 988.33 column/sec. Elapsed time 38.57 sec\n",
      "EvaluatorHoldout: Processed 35595 (100.0%) in 14.04 sec. Users per second: 2535\n"
     ]
    },
    {
     "name": "stderr",
     "output_type": "stream",
     "text": [
      "[I 2024-12-30 14:35:45,418] Trial 43 finished with value: 0.048819594110996206 and parameters: {'topK': 16, 'alpha': 0.7649014901112307, 'beta': 0.25613737185329427}. Best is trial 42 with value: 0.05101035235464066.\n"
     ]
    },
    {
     "name": "stdout",
     "output_type": "stream",
     "text": [
      "RP3betaRecommender: Similarity column 38121 (100.0%), 1018.79 column/sec. Elapsed time 37.42 sec\n",
      "EvaluatorHoldout: Processed 35595 (100.0%) in 13.31 sec. Users per second: 2674\n"
     ]
    },
    {
     "name": "stderr",
     "output_type": "stream",
     "text": [
      "[I 2024-12-30 14:36:37,279] Trial 44 finished with value: 0.05073879089492074 and parameters: {'topK': 11, 'alpha': 0.5468138686828252, 'beta': 0.1744635901586134}. Best is trial 42 with value: 0.05101035235464066.\n"
     ]
    },
    {
     "name": "stdout",
     "output_type": "stream",
     "text": [
      "RP3betaRecommender: Similarity column 38121 (100.0%), 964.90 column/sec. Elapsed time 39.51 sec\n",
      "EvaluatorHoldout: Processed 35595 (100.0%) in 13.41 sec. Users per second: 2654\n"
     ]
    },
    {
     "name": "stderr",
     "output_type": "stream",
     "text": [
      "[I 2024-12-30 14:37:30,861] Trial 45 finished with value: 0.050562115242686674 and parameters: {'topK': 9, 'alpha': 0.5130842078964803, 'beta': 0.18381891113788149}. Best is trial 42 with value: 0.05101035235464066.\n"
     ]
    },
    {
     "name": "stdout",
     "output_type": "stream",
     "text": [
      "RP3betaRecommender: Similarity column 38121 (100.0%), 1029.25 column/sec. Elapsed time 37.04 sec\n",
      "EvaluatorHoldout: Processed 35595 (100.0%) in 14.17 sec. Users per second: 2512\n"
     ]
    },
    {
     "name": "stderr",
     "output_type": "stream",
     "text": [
      "[I 2024-12-30 14:38:22,776] Trial 46 finished with value: 0.0502738535597769 and parameters: {'topK': 9, 'alpha': 0.5461529442353414, 'beta': 0.31156882099272354}. Best is trial 42 with value: 0.05101035235464066.\n"
     ]
    },
    {
     "name": "stdout",
     "output_type": "stream",
     "text": [
      "RP3betaRecommender: Similarity column 38121 (100.0%), 1012.42 column/sec. Elapsed time 37.65 sec\n",
      "EvaluatorHoldout: Processed 35595 (100.0%) in 13.73 sec. Users per second: 2592\n"
     ]
    },
    {
     "name": "stderr",
     "output_type": "stream",
     "text": [
      "[I 2024-12-30 14:39:15,034] Trial 47 finished with value: 0.049562332635445155 and parameters: {'topK': 17, 'alpha': 0.6197913342951511, 'beta': 0.021086028779610716}. Best is trial 42 with value: 0.05101035235464066.\n"
     ]
    },
    {
     "name": "stdout",
     "output_type": "stream",
     "text": [
      "RP3betaRecommender: Similarity column 38121 (100.0%), 1003.51 column/sec. Elapsed time 37.99 sec\n",
      "EvaluatorHoldout: Processed 35595 (100.0%) in 14.55 sec. Users per second: 2447\n"
     ]
    },
    {
     "name": "stderr",
     "output_type": "stream",
     "text": [
      "[I 2024-12-30 14:40:09,390] Trial 48 finished with value: 0.04890368162997558 and parameters: {'topK': 55, 'alpha': 0.6682366101375649, 'beta': 0.14128545742635687}. Best is trial 42 with value: 0.05101035235464066.\n"
     ]
    },
    {
     "name": "stdout",
     "output_type": "stream",
     "text": [
      "RP3betaRecommender: Similarity column 38121 (100.0%), 1006.73 column/sec. Elapsed time 37.86 sec\n",
      "EvaluatorHoldout: Processed 35595 (100.0%) in 13.71 sec. Users per second: 2597\n"
     ]
    },
    {
     "name": "stderr",
     "output_type": "stream",
     "text": [
      "[I 2024-12-30 14:41:01,778] Trial 49 finished with value: 0.043479174888570886 and parameters: {'topK': 11, 'alpha': 0.9618020260350816, 'beta': 0.46596611094438806}. Best is trial 42 with value: 0.05101035235464066.\n"
     ]
    },
    {
     "name": "stdout",
     "output_type": "stream",
     "text": [
      "RP3betaRecommender: Similarity column 38121 (100.0%), 994.20 column/sec. Elapsed time 38.34 sec\n",
      "EvaluatorHoldout: Processed 35595 (100.0%) in 15.07 sec. Users per second: 2362\n"
     ]
    },
    {
     "name": "stderr",
     "output_type": "stream",
     "text": [
      "[I 2024-12-30 14:41:56,900] Trial 50 finished with value: 0.0501393576768611 and parameters: {'topK': 45, 'alpha': 0.4044276145168515, 'beta': 0.3268117845872455}. Best is trial 42 with value: 0.05101035235464066.\n"
     ]
    },
    {
     "name": "stdout",
     "output_type": "stream",
     "text": [
      "RP3betaRecommender: Similarity column 38121 (100.0%), 1013.56 column/sec. Elapsed time 37.61 sec\n",
      "EvaluatorHoldout: Processed 35595 (100.0%) in 14.00 sec. Users per second: 2542\n"
     ]
    },
    {
     "name": "stderr",
     "output_type": "stream",
     "text": [
      "[I 2024-12-30 14:42:49,567] Trial 51 finished with value: 0.05080963752265703 and parameters: {'topK': 20, 'alpha': 0.5526934179555131, 'beta': 0.18811692527291474}. Best is trial 42 with value: 0.05101035235464066.\n"
     ]
    },
    {
     "name": "stdout",
     "output_type": "stream",
     "text": [
      "RP3betaRecommender: Similarity column 38121 (100.0%), 983.87 column/sec. Elapsed time 38.75 sec\n",
      "EvaluatorHoldout: Processed 35595 (100.0%) in 13.78 sec. Users per second: 2584\n"
     ]
    },
    {
     "name": "stderr",
     "output_type": "stream",
     "text": [
      "[I 2024-12-30 14:43:43,081] Trial 52 finished with value: 0.05087197573227725 and parameters: {'topK': 19, 'alpha': 0.5572898802577079, 'beta': 0.1923578542302703}. Best is trial 42 with value: 0.05101035235464066.\n"
     ]
    },
    {
     "name": "stdout",
     "output_type": "stream",
     "text": [
      "RP3betaRecommender: Similarity column 38121 (100.0%), 998.31 column/sec. Elapsed time 38.18 sec\n",
      "EvaluatorHoldout: Processed 35595 (100.0%) in 13.98 sec. Users per second: 2546\n"
     ]
    },
    {
     "name": "stderr",
     "output_type": "stream",
     "text": [
      "[I 2024-12-30 14:44:36,114] Trial 53 finished with value: 0.05121059226705907 and parameters: {'topK': 19, 'alpha': 0.4597861336105879, 'beta': 0.2537260375314267}. Best is trial 53 with value: 0.05121059226705907.\n"
     ]
    },
    {
     "name": "stdout",
     "output_type": "stream",
     "text": [
      "RP3betaRecommender: Similarity column 38121 (100.0%), 1003.86 column/sec. Elapsed time 37.97 sec\n",
      "EvaluatorHoldout: Processed 35595 (100.0%) in 14.72 sec. Users per second: 2418\n"
     ]
    },
    {
     "name": "stderr",
     "output_type": "stream",
     "text": [
      "[I 2024-12-30 14:45:30,016] Trial 54 finished with value: 0.05056025123913678 and parameters: {'topK': 31, 'alpha': 0.4544983861060602, 'beta': 0.3938794854489475}. Best is trial 53 with value: 0.05121059226705907.\n"
     ]
    },
    {
     "name": "stdout",
     "output_type": "stream",
     "text": [
      "RP3betaRecommender: Similarity column 38121 (100.0%), 991.40 column/sec. Elapsed time 38.45 sec\n",
      "EvaluatorHoldout: Processed 35595 (100.0%) in 14.04 sec. Users per second: 2536\n"
     ]
    },
    {
     "name": "stderr",
     "output_type": "stream",
     "text": [
      "[I 2024-12-30 14:46:23,696] Trial 55 finished with value: 0.04946837214072594 and parameters: {'topK': 38, 'alpha': 0.30781625607999336, 'beta': 0.2575145667012323}. Best is trial 53 with value: 0.05121059226705907.\n"
     ]
    },
    {
     "name": "stdout",
     "output_type": "stream",
     "text": [
      "RP3betaRecommender: Similarity column 38121 (100.0%), 952.49 column/sec. Elapsed time 40.02 sec\n",
      "EvaluatorHoldout: Processed 35595 (100.0%) in 14.34 sec. Users per second: 2482\n"
     ]
    },
    {
     "name": "stderr",
     "output_type": "stream",
     "text": [
      "[I 2024-12-30 14:47:19,003] Trial 56 finished with value: 0.05116515606570207 and parameters: {'topK': 18, 'alpha': 0.47752254314220877, 'beta': 0.27295352811360385}. Best is trial 53 with value: 0.05121059226705907.\n"
     ]
    },
    {
     "name": "stdout",
     "output_type": "stream",
     "text": [
      "RP3betaRecommender: Similarity column 38121 (100.0%), 1010.49 column/sec. Elapsed time 37.73 sec\n",
      "EvaluatorHoldout: Processed 35595 (100.0%) in 14.18 sec. Users per second: 2511\n"
     ]
    },
    {
     "name": "stderr",
     "output_type": "stream",
     "text": [
      "[I 2024-12-30 14:48:11,873] Trial 57 finished with value: 0.04995285921644817 and parameters: {'topK': 17, 'alpha': 0.6016411278468571, 'beta': 0.42854896137630677}. Best is trial 53 with value: 0.05121059226705907.\n"
     ]
    },
    {
     "name": "stdout",
     "output_type": "stream",
     "text": [
      "RP3betaRecommender: Similarity column 38121 (100.0%), 1012.42 column/sec. Elapsed time 37.65 sec\n",
      "EvaluatorHoldout: Processed 35595 (100.0%) in 13.33 sec. Users per second: 2671\n"
     ]
    },
    {
     "name": "stderr",
     "output_type": "stream",
     "text": [
      "[I 2024-12-30 14:49:03,529] Trial 58 finished with value: 0.048020264349592674 and parameters: {'topK': 5, 'alpha': 0.40391004601033964, 'beta': 0.29061710426336806}. Best is trial 53 with value: 0.05121059226705907.\n"
     ]
    },
    {
     "name": "stdout",
     "output_type": "stream",
     "text": [
      "RP3betaRecommender: Similarity column 38121 (100.0%), 1038.90 column/sec. Elapsed time 36.69 sec\n",
      "EvaluatorHoldout: Processed 35595 (100.0%) in 13.94 sec. Users per second: 2554\n"
     ]
    },
    {
     "name": "stderr",
     "output_type": "stream",
     "text": [
      "[I 2024-12-30 14:49:55,158] Trial 59 finished with value: 0.05023579421935753 and parameters: {'topK': 22, 'alpha': 0.6491157686241349, 'beta': 0.2117046678484582}. Best is trial 53 with value: 0.05121059226705907.\n"
     ]
    },
    {
     "name": "stdout",
     "output_type": "stream",
     "text": [
      "RP3betaRecommender: Similarity column 38121 (100.0%), 961.79 column/sec. Elapsed time 39.64 sec\n",
      "EvaluatorHoldout: Processed 35595 (100.0%) in 14.05 sec. Users per second: 2533\n"
     ]
    },
    {
     "name": "stderr",
     "output_type": "stream",
     "text": [
      "[I 2024-12-30 14:50:49,646] Trial 60 finished with value: 0.05056607625022982 and parameters: {'topK': 18, 'alpha': 0.5163070930925953, 'beta': 0.1047988935302605}. Best is trial 53 with value: 0.05121059226705907.\n"
     ]
    },
    {
     "name": "stdout",
     "output_type": "stream",
     "text": [
      "RP3betaRecommender: Similarity column 38121 (100.0%), 998.55 column/sec. Elapsed time 38.17 sec\n",
      "EvaluatorHoldout: Processed 35595 (100.0%) in 14.46 sec. Users per second: 2462\n"
     ]
    },
    {
     "name": "stderr",
     "output_type": "stream",
     "text": [
      "[I 2024-12-30 14:51:43,329] Trial 61 finished with value: 0.05104517755971442 and parameters: {'topK': 28, 'alpha': 0.49235908404403034, 'beta': 0.25475178792668624}. Best is trial 53 with value: 0.05121059226705907.\n"
     ]
    },
    {
     "name": "stdout",
     "output_type": "stream",
     "text": [
      "RP3betaRecommender: Similarity column 38121 (100.0%), 1011.06 column/sec. Elapsed time 37.70 sec\n",
      "EvaluatorHoldout: Processed 35595 (100.0%) in 13.89 sec. Users per second: 2563\n"
     ]
    },
    {
     "name": "stderr",
     "output_type": "stream",
     "text": [
      "[I 2024-12-30 14:52:36,037] Trial 62 finished with value: 0.051072486549518 and parameters: {'topK': 28, 'alpha': 0.46452959127036597, 'beta': 0.2784202687993524}. Best is trial 53 with value: 0.05121059226705907.\n"
     ]
    },
    {
     "name": "stdout",
     "output_type": "stream",
     "text": [
      "RP3betaRecommender: Similarity column 38121 (100.0%), 1000.54 column/sec. Elapsed time 38.10 sec\n",
      "EvaluatorHoldout: Processed 35595 (100.0%) in 14.05 sec. Users per second: 2534\n"
     ]
    },
    {
     "name": "stderr",
     "output_type": "stream",
     "text": [
      "[I 2024-12-30 14:53:29,253] Trial 63 finished with value: 0.05041015658967413 and parameters: {'topK': 29, 'alpha': 0.5840943813244678, 'beta': 0.1436499800082084}. Best is trial 53 with value: 0.05121059226705907.\n"
     ]
    },
    {
     "name": "stdout",
     "output_type": "stream",
     "text": [
      "RP3betaRecommender: Similarity column 38121 (100.0%), 999.69 column/sec. Elapsed time 38.13 sec\n",
      "EvaluatorHoldout: Processed 35595 (100.0%) in 14.13 sec. Users per second: 2519\n"
     ]
    },
    {
     "name": "stderr",
     "output_type": "stream",
     "text": [
      "[I 2024-12-30 14:54:22,476] Trial 64 finished with value: 0.05121624447877932 and parameters: {'topK': 22, 'alpha': 0.4577231933020279, 'beta': 0.27904779036624533}. Best is trial 64 with value: 0.05121624447877932.\n"
     ]
    },
    {
     "name": "stdout",
     "output_type": "stream",
     "text": [
      "RP3betaRecommender: Similarity column 38121 (100.0%), 999.38 column/sec. Elapsed time 38.14 sec\n",
      "EvaluatorHoldout: Processed 35595 (100.0%) in 14.24 sec. Users per second: 2500\n"
     ]
    },
    {
     "name": "stderr",
     "output_type": "stream",
     "text": [
      "[I 2024-12-30 14:55:15,910] Trial 65 finished with value: 0.05098897651489111 and parameters: {'topK': 27, 'alpha': 0.45527411730361556, 'beta': 0.26978577488828104}. Best is trial 64 with value: 0.05121624447877932.\n"
     ]
    },
    {
     "name": "stdout",
     "output_type": "stream",
     "text": [
      "RP3betaRecommender: Similarity column 38121 (100.0%), 1007.84 column/sec. Elapsed time 37.82 sec\n",
      "EvaluatorHoldout: Processed 35595 (100.0%) in 14.13 sec. Users per second: 2519\n"
     ]
    },
    {
     "name": "stderr",
     "output_type": "stream",
     "text": [
      "[I 2024-12-30 14:56:09,187] Trial 66 finished with value: 0.05089603720872001 and parameters: {'topK': 28, 'alpha': 0.4297718387322543, 'beta': 0.31923536791029594}. Best is trial 64 with value: 0.05121624447877932.\n"
     ]
    },
    {
     "name": "stdout",
     "output_type": "stream",
     "text": [
      "RP3betaRecommender: Similarity column 38121 (100.0%), 982.42 column/sec. Elapsed time 38.80 sec\n",
      "EvaluatorHoldout: Processed 35595 (100.0%) in 14.41 sec. Users per second: 2470\n"
     ]
    },
    {
     "name": "stderr",
     "output_type": "stream",
     "text": [
      "[I 2024-12-30 14:57:03,648] Trial 67 finished with value: 0.05088294793498997 and parameters: {'topK': 23, 'alpha': 0.45009458194176477, 'beta': 0.38643335504453713}. Best is trial 64 with value: 0.05121624447877932.\n"
     ]
    },
    {
     "name": "stdout",
     "output_type": "stream",
     "text": [
      "RP3betaRecommender: Similarity column 38121 (100.0%), 999.63 column/sec. Elapsed time 38.13 sec\n",
      "EvaluatorHoldout: Processed 35595 (100.0%) in 14.09 sec. Users per second: 2526\n"
     ]
    },
    {
     "name": "stderr",
     "output_type": "stream",
     "text": [
      "[I 2024-12-30 14:57:57,036] Trial 68 finished with value: 0.05067296994182614 and parameters: {'topK': 27, 'alpha': 0.3877580412979609, 'beta': 0.28113650924292544}. Best is trial 64 with value: 0.05121624447877932.\n"
     ]
    },
    {
     "name": "stdout",
     "output_type": "stream",
     "text": [
      "RP3betaRecommender: Similarity column 38121 (100.0%), 957.27 column/sec. Elapsed time 39.82 sec\n",
      "EvaluatorHoldout: Processed 35595 (100.0%) in 15.74 sec. Users per second: 2262\n"
     ]
    },
    {
     "name": "stderr",
     "output_type": "stream",
     "text": [
      "[I 2024-12-30 14:58:54,810] Trial 69 finished with value: 0.048850014604332054 and parameters: {'topK': 82, 'alpha': 0.4710842385821136, 'beta': 0.23132501601761873}. Best is trial 64 with value: 0.05121624447877932.\n"
     ]
    },
    {
     "name": "stdout",
     "output_type": "stream",
     "text": [
      "RP3betaRecommender: Similarity column 38121 (100.0%), 1016.01 column/sec. Elapsed time 37.52 sec\n",
      "EvaluatorHoldout: Processed 35595 (100.0%) in 14.18 sec. Users per second: 2511\n"
     ]
    },
    {
     "name": "stderr",
     "output_type": "stream",
     "text": [
      "[I 2024-12-30 14:59:47,393] Trial 70 finished with value: 0.051087973832599096 and parameters: {'topK': 14, 'alpha': 0.5142880253987883, 'beta': 0.31766001180447406}. Best is trial 64 with value: 0.05121624447877932.\n"
     ]
    },
    {
     "name": "stdout",
     "output_type": "stream",
     "text": [
      "RP3betaRecommender: Similarity column 38121 (100.0%), 977.61 column/sec. Elapsed time 38.99 sec\n",
      "EvaluatorHoldout: Processed 35595 (100.0%) in 14.22 sec. Users per second: 2503\n"
     ]
    },
    {
     "name": "stderr",
     "output_type": "stream",
     "text": [
      "[I 2024-12-30 15:00:41,420] Trial 71 finished with value: 0.05093454805717591 and parameters: {'topK': 12, 'alpha': 0.5159497788876027, 'beta': 0.32347107424705834}. Best is trial 64 with value: 0.05121624447877932.\n"
     ]
    },
    {
     "name": "stdout",
     "output_type": "stream",
     "text": [
      "RP3betaRecommender: Similarity column 38121 (100.0%), 1017.49 column/sec. Elapsed time 37.47 sec\n",
      "EvaluatorHoldout: Processed 35595 (100.0%) in 14.29 sec. Users per second: 2491\n"
     ]
    },
    {
     "name": "stderr",
     "output_type": "stream",
     "text": [
      "[I 2024-12-30 15:01:33,994] Trial 72 finished with value: 0.05124435503470303 and parameters: {'topK': 14, 'alpha': 0.429500775390083, 'beta': 0.2839235349854802}. Best is trial 72 with value: 0.05124435503470303.\n"
     ]
    },
    {
     "name": "stdout",
     "output_type": "stream",
     "text": [
      "RP3betaRecommender: Similarity column 38121 (100.0%), 995.70 column/sec. Elapsed time 38.28 sec\n",
      "EvaluatorHoldout: Processed 35595 (100.0%) in 14.16 sec. Users per second: 2514\n"
     ]
    },
    {
     "name": "stderr",
     "output_type": "stream",
     "text": [
      "[I 2024-12-30 15:02:27,427] Trial 73 finished with value: 0.05116898217825125 and parameters: {'topK': 14, 'alpha': 0.4147056972894465, 'beta': 0.21263436394806437}. Best is trial 72 with value: 0.05124435503470303.\n"
     ]
    },
    {
     "name": "stdout",
     "output_type": "stream",
     "text": [
      "RP3betaRecommender: Similarity column 38121 (100.0%), 1040.39 column/sec. Elapsed time 36.64 sec\n",
      "EvaluatorHoldout: Processed 35595 (100.0%) in 13.58 sec. Users per second: 2622\n"
     ]
    },
    {
     "name": "stderr",
     "output_type": "stream",
     "text": [
      "[I 2024-12-30 15:03:18,431] Trial 74 finished with value: 0.05066498661083403 and parameters: {'topK': 8, 'alpha': 0.41932649528721017, 'beta': 0.20078303709016732}. Best is trial 72 with value: 0.05124435503470303.\n"
     ]
    },
    {
     "name": "stdout",
     "output_type": "stream",
     "text": [
      "RP3betaRecommender: Similarity column 38121 (100.0%), 984.34 column/sec. Elapsed time 38.73 sec\n",
      "EvaluatorHoldout: Processed 35595 (100.0%) in 13.65 sec. Users per second: 2607\n"
     ]
    },
    {
     "name": "stderr",
     "output_type": "stream",
     "text": [
      "[I 2024-12-30 15:04:11,646] Trial 75 finished with value: 0.05116677703529598 and parameters: {'topK': 14, 'alpha': 0.3770264993754173, 'beta': 0.24005818060135695}. Best is trial 72 with value: 0.05124435503470303.\n"
     ]
    },
    {
     "name": "stdout",
     "output_type": "stream",
     "text": [
      "RP3betaRecommender: Similarity column 38121 (100.0%), 1008.17 column/sec. Elapsed time 37.81 sec\n",
      "EvaluatorHoldout: Processed 35595 (100.0%) in 13.92 sec. Users per second: 2557\n"
     ]
    },
    {
     "name": "stderr",
     "output_type": "stream",
     "text": [
      "[I 2024-12-30 15:05:04,205] Trial 76 finished with value: 0.05089204275613696 and parameters: {'topK': 15, 'alpha': 0.3760441640175992, 'beta': 0.15991144793625445}. Best is trial 72 with value: 0.05124435503470303.\n"
     ]
    },
    {
     "name": "stdout",
     "output_type": "stream",
     "text": [
      "RP3betaRecommender: Similarity column 38121 (100.0%), 999.20 column/sec. Elapsed time 38.15 sec\n",
      "EvaluatorHoldout: Processed 35595 (100.0%) in 13.99 sec. Users per second: 2544\n"
     ]
    },
    {
     "name": "stderr",
     "output_type": "stream",
     "text": [
      "[I 2024-12-30 15:05:57,155] Trial 77 finished with value: 0.049549277921589654 and parameters: {'topK': 13, 'alpha': 0.27917884076400534, 'beta': 0.06556863644160232}. Best is trial 72 with value: 0.05124435503470303.\n"
     ]
    },
    {
     "name": "stdout",
     "output_type": "stream",
     "text": [
      "RP3betaRecommender: Similarity column 38121 (100.0%), 988.60 column/sec. Elapsed time 38.56 sec\n",
      "EvaluatorHoldout: Processed 35595 (100.0%) in 14.80 sec. Users per second: 2404\n"
     ]
    },
    {
     "name": "stderr",
     "output_type": "stream",
     "text": [
      "[I 2024-12-30 15:06:52,163] Trial 78 finished with value: 0.04833105907062727 and parameters: {'topK': 68, 'alpha': 0.3419823465756332, 'beta': 0.22143192699394115}. Best is trial 72 with value: 0.05124435503470303.\n"
     ]
    },
    {
     "name": "stdout",
     "output_type": "stream",
     "text": [
      "RP3betaRecommender: Similarity column 38121 (100.0%), 1020.60 column/sec. Elapsed time 37.35 sec\n",
      "EvaluatorHoldout: Processed 35595 (100.0%) in 13.63 sec. Users per second: 2611\n"
     ]
    },
    {
     "name": "stderr",
     "output_type": "stream",
     "text": [
      "[I 2024-12-30 15:07:43,891] Trial 79 finished with value: 0.04952850520739091 and parameters: {'topK': 7, 'alpha': 0.3112372084235793, 'beta': 0.37367895267882967}. Best is trial 72 with value: 0.05124435503470303.\n"
     ]
    },
    {
     "name": "stdout",
     "output_type": "stream",
     "text": [
      "RP3betaRecommender: Similarity column 38121 (100.0%), 1004.43 column/sec. Elapsed time 37.95 sec\n",
      "EvaluatorHoldout: Processed 35595 (100.0%) in 13.97 sec. Users per second: 2548\n"
     ]
    },
    {
     "name": "stderr",
     "output_type": "stream",
     "text": [
      "[I 2024-12-30 15:08:36,752] Trial 80 finished with value: 0.051223742856695204 and parameters: {'topK': 14, 'alpha': 0.39347221447386627, 'beta': 0.2912363390285757}. Best is trial 72 with value: 0.05124435503470303.\n"
     ]
    },
    {
     "name": "stdout",
     "output_type": "stream",
     "text": [
      "RP3betaRecommender: Similarity column 38121 (100.0%), 1001.40 column/sec. Elapsed time 38.07 sec\n",
      "EvaluatorHoldout: Processed 35595 (100.0%) in 13.41 sec. Users per second: 2654\n"
     ]
    },
    {
     "name": "stderr",
     "output_type": "stream",
     "text": [
      "[I 2024-12-30 15:09:29,176] Trial 81 finished with value: 0.05125150669903978 and parameters: {'topK': 14, 'alpha': 0.395738203308753, 'beta': 0.28000003850122873}. Best is trial 81 with value: 0.05125150669903978.\n"
     ]
    },
    {
     "name": "stdout",
     "output_type": "stream",
     "text": [
      "RP3betaRecommender: Similarity column 38121 (100.0%), 1040.42 column/sec. Elapsed time 36.64 sec\n",
      "EvaluatorHoldout: Processed 35595 (100.0%) in 14.01 sec. Users per second: 2540\n"
     ]
    },
    {
     "name": "stderr",
     "output_type": "stream",
     "text": [
      "[I 2024-12-30 15:10:20,606] Trial 82 finished with value: 0.05120549301332949 and parameters: {'topK': 14, 'alpha': 0.38871129332043947, 'beta': 0.29327127344414355}. Best is trial 81 with value: 0.05125150669903978.\n"
     ]
    },
    {
     "name": "stdout",
     "output_type": "stream",
     "text": [
      "RP3betaRecommender: Similarity column 38121 (100.0%), 929.62 column/sec. Elapsed time 41.01 sec\n",
      "EvaluatorHoldout: Processed 35595 (100.0%) in 13.61 sec. Users per second: 2616\n"
     ]
    },
    {
     "name": "stderr",
     "output_type": "stream",
     "text": [
      "[I 2024-12-30 15:11:16,067] Trial 83 finished with value: 0.0512317930777667 and parameters: {'topK': 11, 'alpha': 0.3840505968379671, 'beta': 0.23683864126255427}. Best is trial 81 with value: 0.05125150669903978.\n"
     ]
    },
    {
     "name": "stdout",
     "output_type": "stream",
     "text": [
      "RP3betaRecommender: Similarity column 38121 (100.0%), 1011.85 column/sec. Elapsed time 37.67 sec\n",
      "EvaluatorHoldout: Processed 35595 (100.0%) in 13.92 sec. Users per second: 2556\n"
     ]
    },
    {
     "name": "stderr",
     "output_type": "stream",
     "text": [
      "[I 2024-12-30 15:12:08,469] Trial 84 finished with value: 0.05110394495392218 and parameters: {'topK': 10, 'alpha': 0.38705596031100137, 'beta': 0.22859359829795603}. Best is trial 81 with value: 0.05125150669903978.\n"
     ]
    },
    {
     "name": "stdout",
     "output_type": "stream",
     "text": [
      "RP3betaRecommender: Similarity column 38121 (100.0%), 1021.65 column/sec. Elapsed time 37.31 sec\n",
      "EvaluatorHoldout: Processed 35595 (100.0%) in 13.49 sec. Users per second: 2639\n"
     ]
    },
    {
     "name": "stderr",
     "output_type": "stream",
     "text": [
      "[I 2024-12-30 15:12:59,882] Trial 85 finished with value: 0.0474243584683942 and parameters: {'topK': 5, 'alpha': 0.24359782455072232, 'beta': 0.1267658101342158}. Best is trial 81 with value: 0.05125150669903978.\n"
     ]
    },
    {
     "name": "stdout",
     "output_type": "stream",
     "text": [
      "RP3betaRecommender: Similarity column 38121 (100.0%), 988.89 column/sec. Elapsed time 38.55 sec\n",
      "EvaluatorHoldout: Processed 35595 (100.0%) in 13.96 sec. Users per second: 2550\n"
     ]
    },
    {
     "name": "stderr",
     "output_type": "stream",
     "text": [
      "[I 2024-12-30 15:13:53,330] Trial 86 finished with value: 0.05077568411828679 and parameters: {'topK': 21, 'alpha': 0.35269290062851144, 'beta': 0.3443696630894058}. Best is trial 81 with value: 0.05125150669903978.\n"
     ]
    },
    {
     "name": "stdout",
     "output_type": "stream",
     "text": [
      "RP3betaRecommender: Similarity column 38121 (100.0%), 1018.40 column/sec. Elapsed time 37.43 sec\n",
      "EvaluatorHoldout: Processed 35595 (100.0%) in 14.36 sec. Users per second: 2479\n"
     ]
    },
    {
     "name": "stderr",
     "output_type": "stream",
     "text": [
      "[I 2024-12-30 15:14:45,961] Trial 87 finished with value: 0.05123274849106957 and parameters: {'topK': 13, 'alpha': 0.43382492185133475, 'beta': 0.30004972761309096}. Best is trial 81 with value: 0.05125150669903978.\n"
     ]
    },
    {
     "name": "stdout",
     "output_type": "stream",
     "text": [
      "RP3betaRecommender: Similarity column 38121 (100.0%), 1010.26 column/sec. Elapsed time 37.73 sec\n",
      "EvaluatorHoldout: Processed 35595 (100.0%) in 13.76 sec. Users per second: 2586\n"
     ]
    },
    {
     "name": "stderr",
     "output_type": "stream",
     "text": [
      "[I 2024-12-30 15:15:38,171] Trial 88 finished with value: 0.05036993224034774 and parameters: {'topK': 8, 'alpha': 0.4277490175249792, 'beta': 0.29465218572977525}. Best is trial 81 with value: 0.05125150669903978.\n"
     ]
    },
    {
     "name": "stdout",
     "output_type": "stream",
     "text": [
      "RP3betaRecommender: Similarity column 38121 (100.0%), 1008.02 column/sec. Elapsed time 37.82 sec\n",
      "EvaluatorHoldout: Processed 35595 (100.0%) in 12.82 sec. Users per second: 2777\n"
     ]
    },
    {
     "name": "stderr",
     "output_type": "stream",
     "text": [
      "[I 2024-12-30 15:16:29,523] Trial 89 finished with value: 0.05095838656668643 and parameters: {'topK': 12, 'alpha': 0.32477019784446737, 'beta': 0.20851443318712076}. Best is trial 81 with value: 0.05125150669903978.\n"
     ]
    },
    {
     "name": "stdout",
     "output_type": "stream",
     "text": [
      "RP3betaRecommender: Similarity column 38121 (100.0%), 1050.25 column/sec. Elapsed time 36.30 sec\n",
      "EvaluatorHoldout: Processed 35595 (100.0%) in 13.39 sec. Users per second: 2658\n"
     ]
    },
    {
     "name": "stderr",
     "output_type": "stream",
     "text": [
      "[I 2024-12-30 15:17:19,897] Trial 90 finished with value: 0.040775053121870124 and parameters: {'topK': 10, 'alpha': 0.4023259404851096, 'beta': 0.8452352079890663}. Best is trial 81 with value: 0.05125150669903978.\n"
     ]
    },
    {
     "name": "stdout",
     "output_type": "stream",
     "text": [
      "RP3betaRecommender: Similarity column 38121 (100.0%), 983.25 column/sec. Elapsed time 38.77 sec\n",
      "EvaluatorHoldout: Processed 35595 (100.0%) in 13.83 sec. Users per second: 2574\n"
     ]
    },
    {
     "name": "stderr",
     "output_type": "stream",
     "text": [
      "[I 2024-12-30 15:18:13,336] Trial 91 finished with value: 0.05119702918859912 and parameters: {'topK': 14, 'alpha': 0.376505789404437, 'beta': 0.23252296390676985}. Best is trial 81 with value: 0.05125150669903978.\n"
     ]
    },
    {
     "name": "stdout",
     "output_type": "stream",
     "text": [
      "RP3betaRecommender: Similarity column 38121 (100.0%), 1005.04 column/sec. Elapsed time 37.93 sec\n",
      "EvaluatorHoldout: Processed 35595 (100.0%) in 14.58 sec. Users per second: 2441\n"
     ]
    },
    {
     "name": "stderr",
     "output_type": "stream",
     "text": [
      "[I 2024-12-30 15:19:06,793] Trial 92 finished with value: 0.05135146723389284 and parameters: {'topK': 15, 'alpha': 0.4295346473303171, 'beta': 0.29566454493527333}. Best is trial 92 with value: 0.05135146723389284.\n"
     ]
    },
    {
     "name": "stdout",
     "output_type": "stream",
     "text": [
      "RP3betaRecommender: Similarity column 38121 (100.0%), 954.93 column/sec. Elapsed time 39.92 sec\n",
      "EvaluatorHoldout: Processed 35595 (100.0%) in 13.62 sec. Users per second: 2613\n"
     ]
    },
    {
     "name": "stderr",
     "output_type": "stream",
     "text": [
      "[I 2024-12-30 15:20:01,349] Trial 93 finished with value: 0.050817226202180085 and parameters: {'topK': 17, 'alpha': 0.3577137905672352, 'beta': 0.34389037676889406}. Best is trial 92 with value: 0.05135146723389284.\n"
     ]
    },
    {
     "name": "stdout",
     "output_type": "stream",
     "text": [
      "RP3betaRecommender: Similarity column 38121 (100.0%), 1009.45 column/sec. Elapsed time 37.76 sec\n",
      "EvaluatorHoldout: Processed 35595 (100.0%) in 13.66 sec. Users per second: 2606\n"
     ]
    },
    {
     "name": "stderr",
     "output_type": "stream",
     "text": [
      "[I 2024-12-30 15:20:53,785] Trial 94 finished with value: 0.05116881049371374 and parameters: {'topK': 20, 'alpha': 0.4377419138067039, 'beta': 0.2992196423431174}. Best is trial 92 with value: 0.05135146723389284.\n"
     ]
    },
    {
     "name": "stdout",
     "output_type": "stream",
     "text": [
      "RP3betaRecommender: Similarity column 38121 (100.0%), 981.41 column/sec. Elapsed time 38.84 sec\n",
      "EvaluatorHoldout: Processed 35595 (100.0%) in 13.89 sec. Users per second: 2563\n"
     ]
    },
    {
     "name": "stderr",
     "output_type": "stream",
     "text": [
      "[I 2024-12-30 15:21:47,608] Trial 95 finished with value: 0.04986035469579321 and parameters: {'topK': 24, 'alpha': 0.29909603914636823, 'beta': 0.4086102228109185}. Best is trial 92 with value: 0.05135146723389284.\n"
     ]
    },
    {
     "name": "stdout",
     "output_type": "stream",
     "text": [
      "RP3betaRecommender: Similarity column 38121 (100.0%), 1014.02 column/sec. Elapsed time 37.59 sec\n",
      "EvaluatorHoldout: Processed 35595 (100.0%) in 13.56 sec. Users per second: 2625\n"
     ]
    },
    {
     "name": "stderr",
     "output_type": "stream",
     "text": [
      "[I 2024-12-30 15:22:39,619] Trial 96 finished with value: 0.050572648200543205 and parameters: {'topK': 12, 'alpha': 0.2644669674979627, 'beta': 0.25431309857398227}. Best is trial 92 with value: 0.05135146723389284.\n"
     ]
    },
    {
     "name": "stdout",
     "output_type": "stream",
     "text": [
      "RP3betaRecommender: Similarity column 38121 (100.0%), 1009.51 column/sec. Elapsed time 37.76 sec\n",
      "EvaluatorHoldout: Processed 35595 (100.0%) in 13.48 sec. Users per second: 2640\n"
     ]
    },
    {
     "name": "stderr",
     "output_type": "stream",
     "text": [
      "[I 2024-12-30 15:23:31,807] Trial 97 finished with value: 0.0495410169967675 and parameters: {'topK': 7, 'alpha': 0.3304529580883502, 'beta': 0.3638646304923815}. Best is trial 92 with value: 0.05135146723389284.\n"
     ]
    },
    {
     "name": "stdout",
     "output_type": "stream",
     "text": [
      "RP3betaRecommender: Similarity column 38121 (100.0%), 1037.45 column/sec. Elapsed time 36.74 sec\n",
      "EvaluatorHoldout: Processed 35595 (100.0%) in 13.44 sec. Users per second: 2649\n"
     ]
    },
    {
     "name": "stderr",
     "output_type": "stream",
     "text": [
      "[I 2024-12-30 15:24:22,768] Trial 98 finished with value: 0.051015389177629517 and parameters: {'topK': 16, 'alpha': 0.38463379276369936, 'beta': 0.3084803046201766}. Best is trial 92 with value: 0.05135146723389284.\n"
     ]
    },
    {
     "name": "stdout",
     "output_type": "stream",
     "text": [
      "RP3betaRecommender: Similarity column 38121 (100.0%), 933.82 column/sec. Elapsed time 40.82 sec\n",
      "EvaluatorHoldout: Processed 35595 (100.0%) in 14.95 sec. Users per second: 2381\n"
     ]
    },
    {
     "name": "stderr",
     "output_type": "stream",
     "text": [
      "[I 2024-12-30 15:25:19,457] Trial 99 finished with value: 0.0504057596817799 and parameters: {'topK': 19, 'alpha': 0.4370630696485556, 'beta': 0.4579907084172361}. Best is trial 92 with value: 0.05135146723389284.\n"
     ]
    }
   ],
   "source": [
    "def objective_function_smaller(trial):\n",
    "    params = {\n",
    "        'topK': trial.suggest_int('topK', 5, 100),\n",
    "        'alpha': trial.suggest_float('alpha', 0, 1),\n",
    "        'beta': trial.suggest_float('beta', 0, 1),\n",
    "    }\n",
    "    \n",
    "    MAP = 0\n",
    "    recommender = RP3betaRecommender(stacked_URM_train)\n",
    "    recommender.fit(**params)\n",
    "\n",
    "    result_dict, _ = evaluator_test.evaluateRecommender(recommender)\n",
    "\n",
    "    MAP += result_dict.loc[10][\"MAP\"]\n",
    "    \n",
    "    return MAP\n",
    "\n",
    "\n",
    "class SaveResults(object):\n",
    "    \n",
    "    def __init__(self):\n",
    "        self.results_df = pd.DataFrame(columns = [\"result\"])\n",
    "    \n",
    "    def __call__(self, optuna_study, optuna_trial):\n",
    "        hyperparam_dict = optuna_trial.params.copy()\n",
    "        hyperparam_dict[\"result\"] = optuna_trial.values[0]\n",
    "        \n",
    "        self.results_df = pd.concat([self.results_df, pd.DataFrame([hyperparam_dict])], ignore_index=True)\n",
    "        self.results_df.to_csv(\"logs/RP3/rp3_stacked_smallerhyper.csv\", index = False)\n",
    "\n",
    "optuna_study = optuna.create_study(study_name=\"rp3_stacked\", direction=\"maximize\")\n",
    "        \n",
    "save_results = SaveResults()\n",
    "        \n",
    "optuna_study.optimize(objective_function_smaller,\n",
    "                      callbacks=[save_results],\n",
    "                      n_trials = 100,\n",
    "                      )"
   ]
  },
  {
   "cell_type": "code",
   "execution_count": 11,
   "metadata": {},
   "outputs": [
    {
     "name": "stdout",
     "output_type": "stream",
     "text": [
      "{'result': 0.05135146723389284, 'topK': 15.0, 'alpha': 0.4295346473303171, 'beta': 0.29566454493527333}\n"
     ]
    }
   ],
   "source": [
    "best_index = save_results.results_df[\"result\"].idxmax()\n",
    "best_hyperparams = save_results.results_df.loc[best_index].to_dict()\n",
    "print(best_hyperparams)"
   ]
  },
  {
   "cell_type": "markdown",
   "metadata": {},
   "source": [
    "So, even after tuning, still worse than normal RP3"
   ]
  },
  {
   "cell_type": "markdown",
   "metadata": {},
   "source": []
  }
 ],
 "metadata": {
  "kernelspec": {
   "display_name": "RecSysPD",
   "language": "python",
   "name": "python3"
  },
  "language_info": {
   "codemirror_mode": {
    "name": "ipython",
    "version": 3
   },
   "file_extension": ".py",
   "mimetype": "text/x-python",
   "name": "python",
   "nbconvert_exporter": "python",
   "pygments_lexer": "ipython3",
   "version": "3.8.20"
  }
 },
 "nbformat": 4,
 "nbformat_minor": 2
}
