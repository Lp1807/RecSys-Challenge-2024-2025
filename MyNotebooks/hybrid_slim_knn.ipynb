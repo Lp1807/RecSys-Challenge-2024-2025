{
 "cells": [
  {
   "cell_type": "markdown",
   "metadata": {},
   "source": [
    "# Trying my best two models"
   ]
  },
  {
   "cell_type": "code",
   "execution_count": 1,
   "metadata": {},
   "outputs": [],
   "source": [
    "import os\n",
    "\n",
    "os.chdir('../')"
   ]
  },
  {
   "cell_type": "code",
   "execution_count": 2,
   "metadata": {},
   "outputs": [
    {
     "name": "stdout",
     "output_type": "stream",
     "text": [
      "   user_id  item_id  data\n",
      "0        0        0   1.0\n",
      "1        0        2   1.0\n",
      "2        0      120   1.0\n",
      "3        0      128   1.0\n",
      "4        0      211   1.0\n",
      "5        0      232   1.0\n",
      "6        0      282   1.0\n",
      "7        0      453   1.0\n",
      "8        0      458   1.0\n",
      "9        0      491   1.0\n"
     ]
    }
   ],
   "source": [
    "import numpy as np\n",
    "import pandas as pd\n",
    "import matplotlib.pyplot as plt\n",
    "\n",
    "data_train_path = \"Dataset/data_train.csv\"\n",
    "\n",
    "URM_all_dataframe = pd.read_csv(data_train_path)\n",
    "print(URM_all_dataframe.head(10))"
   ]
  },
  {
   "cell_type": "code",
   "execution_count": 3,
   "metadata": {},
   "outputs": [
    {
     "name": "stdout",
     "output_type": "stream",
     "text": [
      "Warning: 141 (0.39 %) of 35736 users have no sampled items\n",
      "EvaluatorHoldout: Ignoring 141 ( 0.4%) Users that have less than 1 test interactions\n"
     ]
    }
   ],
   "source": [
    "import numpy as np\n",
    "import scipy.sparse as sps\n",
    "from Data_manager.split_functions.split_train_validation_random_holdout import split_train_in_two_percentage_global_sample\n",
    "from Evaluation.Evaluator import EvaluatorHoldout\n",
    "\n",
    "\n",
    "\n",
    "URM_all = sps.coo_matrix((URM_all_dataframe['data'], (URM_all_dataframe['user_id'], URM_all_dataframe['item_id'])))\n",
    "URM_all = URM_all.tocsr()\n",
    "\n",
    "URM_train_validation, URM_test = split_train_in_two_percentage_global_sample(URM_all, train_percentage = 0.8)\n",
    "\n",
    "evaluator_test = EvaluatorHoldout(URM_test, cutoff_list=[10])"
   ]
  },
  {
   "cell_type": "code",
   "execution_count": null,
   "metadata": {},
   "outputs": [],
   "source": [
    "'''knn_Simasymmetric_K6_Shr16_AsymAlpha0.024628530649850728.csv\n",
    "Complete · Luca Pagano · 25d ago\n",
    "0.08603'''"
   ]
  },
  {
   "cell_type": "code",
   "execution_count": null,
   "metadata": {},
   "outputs": [],
   "source": [
    "'''\n",
    "result,topK,l1_ratio,alpha\n",
    "\n",
    "0.06001721416196575,142.0,0.4033590645217344,9.521340863590419e-05\n",
    "'''"
   ]
  },
  {
   "cell_type": "code",
   "execution_count": 15,
   "metadata": {},
   "outputs": [
    {
     "name": "stderr",
     "output_type": "stream",
     "text": [
      "Progress: 100%|██████████| 38121/38121 [09:54<00:00, 64.16items/s] \n"
     ]
    },
    {
     "name": "stdout",
     "output_type": "stream",
     "text": [
      "Similarity column 38121 (100.0%), 4775.37 column/sec. Elapsed time 7.98 sec\n"
     ]
    }
   ],
   "source": [
    "from Recommenders.KNN.ItemKNNCFRecommender import ItemKNNCFRecommender\n",
    "from Recommenders.SLIM.SLIMElasticNetRecommender_Peppe import MultiThreadSLIM_SLIMElasticNetRecommender\n",
    "\n",
    "slim_recommender = MultiThreadSLIM_SLIMElasticNetRecommender(URM_train_validation)\n",
    "\n",
    "topK = int(142.0)\n",
    "alpha = 9.521340863590419e-05\n",
    "l1_ratio = 0.4033590645217344\n",
    "slim_recommender.fit(topK=topK, l1_ratio=l1_ratio, alpha=alpha)\n",
    "\n",
    "knn_recommender = ItemKNNCFRecommender(URM_train_validation)\n",
    "knn_recommender.fit(shrink=16, topK=6, asymmetric_alpha=0.024628530649850728)"
   ]
  },
  {
   "cell_type": "code",
   "execution_count": 16,
   "metadata": {},
   "outputs": [],
   "source": [
    "from Recommenders.KNN.ItemKNNCustomSimilarityRecommender import ItemKNNCustomSimilarityRecommender\n",
    "\n",
    "def objective_function(trial):\n",
    "\n",
    "    alpha = trial.suggest_uniform('alpha', 0.0, 1.0)\n",
    "\n",
    "\n",
    "    recommender = ItemKNNCustomSimilarityRecommender(URM_train_validation)\n",
    "\n",
    "    new_similarity = slim_recommender.W_sparse * alpha + knn_recommender.W_sparse * (1-alpha)\n",
    "\n",
    "    recommender.fit(new_similarity)\n",
    "\n",
    "    result_dict, _ = evaluator_test.evaluateRecommender(recommender)\n",
    "\n",
    "    MAP = result_dict.loc[10][\"MAP\"]\n",
    "    \n",
    "    return MAP"
   ]
  },
  {
   "cell_type": "code",
   "execution_count": 17,
   "metadata": {},
   "outputs": [],
   "source": [
    "class SaveResults(object):\n",
    "    \n",
    "    def __init__(self):\n",
    "        self.results_df = pd.DataFrame(columns = [\"result\"])\n",
    "    \n",
    "    def __call__(self, optuna_study, optuna_trial):\n",
    "        hyperparam_dict = optuna_trial.params.copy()\n",
    "        hyperparam_dict[\"result\"] = optuna_trial.values[0]\n",
    "        \n",
    "        self.results_df = pd.concat([self.results_df, pd.DataFrame([hyperparam_dict])], ignore_index=True)\n",
    "        self.results_df.to_csv(\"logs/hybrid_slim_KNN_MERGINGMODELS.csv\", index = False)"
   ]
  },
  {
   "cell_type": "code",
   "execution_count": 18,
   "metadata": {},
   "outputs": [
    {
     "name": "stderr",
     "output_type": "stream",
     "text": [
      "[I 2024-12-23 19:43:37,635] A new study created in memory with name: hybrid_slim_knn\n",
      "<ipython-input-16-3192f54068d0>:5: FutureWarning: suggest_uniform has been deprecated in v3.0.0. This feature will be removed in v6.0.0. See https://github.com/optuna/optuna/releases/tag/v3.0.0. Use suggest_float instead.\n",
      "  alpha = trial.suggest_uniform('alpha', 0.0, 1.0)\n"
     ]
    },
    {
     "name": "stdout",
     "output_type": "stream",
     "text": [
      "EvaluatorHoldout: Processed 35595 (100.0%) in 16.13 sec. Users per second: 2207\n"
     ]
    },
    {
     "name": "stderr",
     "output_type": "stream",
     "text": [
      "[I 2024-12-23 19:43:53,809] Trial 0 finished with value: 0.05952740821008664 and parameters: {'alpha': 0.7551383802895948}. Best is trial 0 with value: 0.05952740821008664.\n",
      "<ipython-input-16-3192f54068d0>:5: FutureWarning: suggest_uniform has been deprecated in v3.0.0. This feature will be removed in v6.0.0. See https://github.com/optuna/optuna/releases/tag/v3.0.0. Use suggest_float instead.\n",
      "  alpha = trial.suggest_uniform('alpha', 0.0, 1.0)\n"
     ]
    },
    {
     "name": "stdout",
     "output_type": "stream",
     "text": [
      "EvaluatorHoldout: Processed 35595 (100.0%) in 15.91 sec. Users per second: 2237\n"
     ]
    },
    {
     "name": "stderr",
     "output_type": "stream",
     "text": [
      "[I 2024-12-23 19:44:09,759] Trial 1 finished with value: 0.05941037063792883 and parameters: {'alpha': 0.7429532102635861}. Best is trial 0 with value: 0.05952740821008664.\n",
      "<ipython-input-16-3192f54068d0>:5: FutureWarning: suggest_uniform has been deprecated in v3.0.0. This feature will be removed in v6.0.0. See https://github.com/optuna/optuna/releases/tag/v3.0.0. Use suggest_float instead.\n",
      "  alpha = trial.suggest_uniform('alpha', 0.0, 1.0)\n"
     ]
    },
    {
     "name": "stdout",
     "output_type": "stream",
     "text": [
      "EvaluatorHoldout: Processed 35595 (100.0%) in 15.55 sec. Users per second: 2289\n"
     ]
    },
    {
     "name": "stderr",
     "output_type": "stream",
     "text": [
      "[I 2024-12-23 19:44:25,345] Trial 2 finished with value: 0.05838212295734224 and parameters: {'alpha': 0.6344787823299306}. Best is trial 0 with value: 0.05952740821008664.\n",
      "<ipython-input-16-3192f54068d0>:5: FutureWarning: suggest_uniform has been deprecated in v3.0.0. This feature will be removed in v6.0.0. See https://github.com/optuna/optuna/releases/tag/v3.0.0. Use suggest_float instead.\n",
      "  alpha = trial.suggest_uniform('alpha', 0.0, 1.0)\n"
     ]
    },
    {
     "name": "stdout",
     "output_type": "stream",
     "text": [
      "EvaluatorHoldout: Processed 35595 (100.0%) in 15.43 sec. Users per second: 2307\n"
     ]
    },
    {
     "name": "stderr",
     "output_type": "stream",
     "text": [
      "[I 2024-12-23 19:44:40,811] Trial 3 finished with value: 0.053966480266309964 and parameters: {'alpha': 0.2993667658375585}. Best is trial 0 with value: 0.05952740821008664.\n",
      "<ipython-input-16-3192f54068d0>:5: FutureWarning: suggest_uniform has been deprecated in v3.0.0. This feature will be removed in v6.0.0. See https://github.com/optuna/optuna/releases/tag/v3.0.0. Use suggest_float instead.\n",
      "  alpha = trial.suggest_uniform('alpha', 0.0, 1.0)\n"
     ]
    },
    {
     "name": "stdout",
     "output_type": "stream",
     "text": [
      "EvaluatorHoldout: Processed 35595 (100.0%) in 15.44 sec. Users per second: 2306\n"
     ]
    },
    {
     "name": "stderr",
     "output_type": "stream",
     "text": [
      "[I 2024-12-23 19:44:56,290] Trial 4 finished with value: 0.053970395565631935 and parameters: {'alpha': 0.3002150936016247}. Best is trial 0 with value: 0.05952740821008664.\n",
      "<ipython-input-16-3192f54068d0>:5: FutureWarning: suggest_uniform has been deprecated in v3.0.0. This feature will be removed in v6.0.0. See https://github.com/optuna/optuna/releases/tag/v3.0.0. Use suggest_float instead.\n",
      "  alpha = trial.suggest_uniform('alpha', 0.0, 1.0)\n"
     ]
    },
    {
     "name": "stdout",
     "output_type": "stream",
     "text": [
      "EvaluatorHoldout: Processed 35595 (100.0%) in 15.59 sec. Users per second: 2283\n"
     ]
    },
    {
     "name": "stderr",
     "output_type": "stream",
     "text": [
      "[I 2024-12-23 19:45:11,917] Trial 5 finished with value: 0.05749475135842409 and parameters: {'alpha': 0.5575644975360587}. Best is trial 0 with value: 0.05952740821008664.\n",
      "<ipython-input-16-3192f54068d0>:5: FutureWarning: suggest_uniform has been deprecated in v3.0.0. This feature will be removed in v6.0.0. See https://github.com/optuna/optuna/releases/tag/v3.0.0. Use suggest_float instead.\n",
      "  alpha = trial.suggest_uniform('alpha', 0.0, 1.0)\n"
     ]
    },
    {
     "name": "stdout",
     "output_type": "stream",
     "text": [
      "EvaluatorHoldout: Processed 35595 (100.0%) in 15.43 sec. Users per second: 2307\n"
     ]
    },
    {
     "name": "stderr",
     "output_type": "stream",
     "text": [
      "[I 2024-12-23 19:45:27,379] Trial 6 finished with value: 0.05088146186038993 and parameters: {'alpha': 0.03757431166244918}. Best is trial 0 with value: 0.05952740821008664.\n",
      "<ipython-input-16-3192f54068d0>:5: FutureWarning: suggest_uniform has been deprecated in v3.0.0. This feature will be removed in v6.0.0. See https://github.com/optuna/optuna/releases/tag/v3.0.0. Use suggest_float instead.\n",
      "  alpha = trial.suggest_uniform('alpha', 0.0, 1.0)\n"
     ]
    },
    {
     "name": "stdout",
     "output_type": "stream",
     "text": [
      "EvaluatorHoldout: Processed 35595 (100.0%) in 15.64 sec. Users per second: 2276\n"
     ]
    },
    {
     "name": "stderr",
     "output_type": "stream",
     "text": [
      "[I 2024-12-23 19:45:43,053] Trial 7 finished with value: 0.05788166921963616 and parameters: {'alpha': 0.5909506893930958}. Best is trial 0 with value: 0.05952740821008664.\n",
      "<ipython-input-16-3192f54068d0>:5: FutureWarning: suggest_uniform has been deprecated in v3.0.0. This feature will be removed in v6.0.0. See https://github.com/optuna/optuna/releases/tag/v3.0.0. Use suggest_float instead.\n",
      "  alpha = trial.suggest_uniform('alpha', 0.0, 1.0)\n"
     ]
    },
    {
     "name": "stdout",
     "output_type": "stream",
     "text": [
      "EvaluatorHoldout: Processed 35595 (100.0%) in 15.85 sec. Users per second: 2245\n"
     ]
    },
    {
     "name": "stderr",
     "output_type": "stream",
     "text": [
      "[I 2024-12-23 19:45:58,945] Trial 8 finished with value: 0.05934215167548311 and parameters: {'alpha': 0.7335919421693203}. Best is trial 0 with value: 0.05952740821008664.\n",
      "<ipython-input-16-3192f54068d0>:5: FutureWarning: suggest_uniform has been deprecated in v3.0.0. This feature will be removed in v6.0.0. See https://github.com/optuna/optuna/releases/tag/v3.0.0. Use suggest_float instead.\n",
      "  alpha = trial.suggest_uniform('alpha', 0.0, 1.0)\n"
     ]
    },
    {
     "name": "stdout",
     "output_type": "stream",
     "text": [
      "EvaluatorHoldout: Processed 35595 (100.0%) in 15.88 sec. Users per second: 2242\n"
     ]
    },
    {
     "name": "stderr",
     "output_type": "stream",
     "text": [
      "[I 2024-12-23 19:46:14,856] Trial 9 finished with value: 0.05983047824177008 and parameters: {'alpha': 0.7954851800815174}. Best is trial 9 with value: 0.05983047824177008.\n",
      "<ipython-input-16-3192f54068d0>:5: FutureWarning: suggest_uniform has been deprecated in v3.0.0. This feature will be removed in v6.0.0. See https://github.com/optuna/optuna/releases/tag/v3.0.0. Use suggest_float instead.\n",
      "  alpha = trial.suggest_uniform('alpha', 0.0, 1.0)\n"
     ]
    },
    {
     "name": "stdout",
     "output_type": "stream",
     "text": [
      "EvaluatorHoldout: Processed 35595 (100.0%) in 15.73 sec. Users per second: 2262\n"
     ]
    },
    {
     "name": "stderr",
     "output_type": "stream",
     "text": [
      "[I 2024-12-23 19:46:30,629] Trial 10 finished with value: 0.060184812830407275 and parameters: {'alpha': 0.888858027288759}. Best is trial 10 with value: 0.060184812830407275.\n",
      "<ipython-input-16-3192f54068d0>:5: FutureWarning: suggest_uniform has been deprecated in v3.0.0. This feature will be removed in v6.0.0. See https://github.com/optuna/optuna/releases/tag/v3.0.0. Use suggest_float instead.\n",
      "  alpha = trial.suggest_uniform('alpha', 0.0, 1.0)\n"
     ]
    },
    {
     "name": "stdout",
     "output_type": "stream",
     "text": [
      "EvaluatorHoldout: Processed 35595 (100.0%) in 15.64 sec. Users per second: 2276\n"
     ]
    },
    {
     "name": "stderr",
     "output_type": "stream",
     "text": [
      "[I 2024-12-23 19:46:46,307] Trial 11 finished with value: 0.06002425657250578 and parameters: {'alpha': 0.9951088907200603}. Best is trial 10 with value: 0.060184812830407275.\n",
      "<ipython-input-16-3192f54068d0>:5: FutureWarning: suggest_uniform has been deprecated in v3.0.0. This feature will be removed in v6.0.0. See https://github.com/optuna/optuna/releases/tag/v3.0.0. Use suggest_float instead.\n",
      "  alpha = trial.suggest_uniform('alpha', 0.0, 1.0)\n"
     ]
    },
    {
     "name": "stdout",
     "output_type": "stream",
     "text": [
      "EvaluatorHoldout: Processed 35595 (100.0%) in 15.81 sec. Users per second: 2252\n"
     ]
    },
    {
     "name": "stderr",
     "output_type": "stream",
     "text": [
      "[I 2024-12-23 19:47:02,153] Trial 12 finished with value: 0.06015275241528745 and parameters: {'alpha': 0.971655315293614}. Best is trial 10 with value: 0.060184812830407275.\n",
      "<ipython-input-16-3192f54068d0>:5: FutureWarning: suggest_uniform has been deprecated in v3.0.0. This feature will be removed in v6.0.0. See https://github.com/optuna/optuna/releases/tag/v3.0.0. Use suggest_float instead.\n",
      "  alpha = trial.suggest_uniform('alpha', 0.0, 1.0)\n"
     ]
    },
    {
     "name": "stdout",
     "output_type": "stream",
     "text": [
      "EvaluatorHoldout: Processed 35595 (100.0%) in 15.67 sec. Users per second: 2272\n"
     ]
    },
    {
     "name": "stderr",
     "output_type": "stream",
     "text": [
      "[I 2024-12-23 19:47:17,863] Trial 13 finished with value: 0.06018183399219892 and parameters: {'alpha': 0.963908846654574}. Best is trial 10 with value: 0.060184812830407275.\n",
      "<ipython-input-16-3192f54068d0>:5: FutureWarning: suggest_uniform has been deprecated in v3.0.0. This feature will be removed in v6.0.0. See https://github.com/optuna/optuna/releases/tag/v3.0.0. Use suggest_float instead.\n",
      "  alpha = trial.suggest_uniform('alpha', 0.0, 1.0)\n"
     ]
    },
    {
     "name": "stdout",
     "output_type": "stream",
     "text": [
      "EvaluatorHoldout: Processed 35595 (100.0%) in 15.88 sec. Users per second: 2241\n"
     ]
    },
    {
     "name": "stderr",
     "output_type": "stream",
     "text": [
      "[I 2024-12-23 19:47:33,784] Trial 14 finished with value: 0.06019544054921031 and parameters: {'alpha': 0.8873118444149007}. Best is trial 14 with value: 0.06019544054921031.\n",
      "<ipython-input-16-3192f54068d0>:5: FutureWarning: suggest_uniform has been deprecated in v3.0.0. This feature will be removed in v6.0.0. See https://github.com/optuna/optuna/releases/tag/v3.0.0. Use suggest_float instead.\n",
      "  alpha = trial.suggest_uniform('alpha', 0.0, 1.0)\n"
     ]
    },
    {
     "name": "stdout",
     "output_type": "stream",
     "text": [
      "EvaluatorHoldout: Processed 35595 (100.0%) in 15.63 sec. Users per second: 2277\n"
     ]
    },
    {
     "name": "stderr",
     "output_type": "stream",
     "text": [
      "[I 2024-12-23 19:47:49,456] Trial 15 finished with value: 0.05497624064374827 and parameters: {'alpha': 0.37282578885194284}. Best is trial 14 with value: 0.06019544054921031.\n",
      "<ipython-input-16-3192f54068d0>:5: FutureWarning: suggest_uniform has been deprecated in v3.0.0. This feature will be removed in v6.0.0. See https://github.com/optuna/optuna/releases/tag/v3.0.0. Use suggest_float instead.\n",
      "  alpha = trial.suggest_uniform('alpha', 0.0, 1.0)\n"
     ]
    },
    {
     "name": "stdout",
     "output_type": "stream",
     "text": [
      "EvaluatorHoldout: Processed 35595 (100.0%) in 15.66 sec. Users per second: 2273\n"
     ]
    },
    {
     "name": "stderr",
     "output_type": "stream",
     "text": [
      "[I 2024-12-23 19:48:05,156] Trial 16 finished with value: 0.060103308383331784 and parameters: {'alpha': 0.8564740846233763}. Best is trial 14 with value: 0.06019544054921031.\n",
      "<ipython-input-16-3192f54068d0>:5: FutureWarning: suggest_uniform has been deprecated in v3.0.0. This feature will be removed in v6.0.0. See https://github.com/optuna/optuna/releases/tag/v3.0.0. Use suggest_float instead.\n",
      "  alpha = trial.suggest_uniform('alpha', 0.0, 1.0)\n"
     ]
    },
    {
     "name": "stdout",
     "output_type": "stream",
     "text": [
      "EvaluatorHoldout: Processed 35595 (100.0%) in 15.59 sec. Users per second: 2284\n"
     ]
    },
    {
     "name": "stderr",
     "output_type": "stream",
     "text": [
      "[I 2024-12-23 19:48:20,780] Trial 17 finished with value: 0.05566082381821767 and parameters: {'alpha': 0.42268089126189523}. Best is trial 14 with value: 0.06019544054921031.\n",
      "<ipython-input-16-3192f54068d0>:5: FutureWarning: suggest_uniform has been deprecated in v3.0.0. This feature will be removed in v6.0.0. See https://github.com/optuna/optuna/releases/tag/v3.0.0. Use suggest_float instead.\n",
      "  alpha = trial.suggest_uniform('alpha', 0.0, 1.0)\n"
     ]
    },
    {
     "name": "stdout",
     "output_type": "stream",
     "text": [
      "EvaluatorHoldout: Processed 35595 (100.0%) in 15.62 sec. Users per second: 2279\n"
     ]
    },
    {
     "name": "stderr",
     "output_type": "stream",
     "text": [
      "[I 2024-12-23 19:48:36,439] Trial 18 finished with value: 0.060067819851635784 and parameters: {'alpha': 0.837187808943144}. Best is trial 14 with value: 0.06019544054921031.\n",
      "<ipython-input-16-3192f54068d0>:5: FutureWarning: suggest_uniform has been deprecated in v3.0.0. This feature will be removed in v6.0.0. See https://github.com/optuna/optuna/releases/tag/v3.0.0. Use suggest_float instead.\n",
      "  alpha = trial.suggest_uniform('alpha', 0.0, 1.0)\n"
     ]
    },
    {
     "name": "stdout",
     "output_type": "stream",
     "text": [
      "EvaluatorHoldout: Processed 35595 (100.0%) in 15.41 sec. Users per second: 2310\n"
     ]
    },
    {
     "name": "stderr",
     "output_type": "stream",
     "text": [
      "[I 2024-12-23 19:48:51,885] Trial 19 finished with value: 0.0601945609446646 and parameters: {'alpha': 0.899660123264346}. Best is trial 14 with value: 0.06019544054921031.\n",
      "<ipython-input-16-3192f54068d0>:5: FutureWarning: suggest_uniform has been deprecated in v3.0.0. This feature will be removed in v6.0.0. See https://github.com/optuna/optuna/releases/tag/v3.0.0. Use suggest_float instead.\n",
      "  alpha = trial.suggest_uniform('alpha', 0.0, 1.0)\n"
     ]
    },
    {
     "name": "stdout",
     "output_type": "stream",
     "text": [
      "EvaluatorHoldout: Processed 35595 (100.0%) in 15.69 sec. Users per second: 2268\n"
     ]
    },
    {
     "name": "stderr",
     "output_type": "stream",
     "text": [
      "[I 2024-12-23 19:49:07,616] Trial 20 finished with value: 0.058786230454159726 and parameters: {'alpha': 0.6707926147973365}. Best is trial 14 with value: 0.06019544054921031.\n",
      "<ipython-input-16-3192f54068d0>:5: FutureWarning: suggest_uniform has been deprecated in v3.0.0. This feature will be removed in v6.0.0. See https://github.com/optuna/optuna/releases/tag/v3.0.0. Use suggest_float instead.\n",
      "  alpha = trial.suggest_uniform('alpha', 0.0, 1.0)\n"
     ]
    },
    {
     "name": "stdout",
     "output_type": "stream",
     "text": [
      "EvaluatorHoldout: Processed 35595 (100.0%) in 15.51 sec. Users per second: 2296\n"
     ]
    },
    {
     "name": "stderr",
     "output_type": "stream",
     "text": [
      "[I 2024-12-23 19:49:23,158] Trial 21 finished with value: 0.060208166386841316 and parameters: {'alpha': 0.8859061064558166}. Best is trial 21 with value: 0.060208166386841316.\n",
      "<ipython-input-16-3192f54068d0>:5: FutureWarning: suggest_uniform has been deprecated in v3.0.0. This feature will be removed in v6.0.0. See https://github.com/optuna/optuna/releases/tag/v3.0.0. Use suggest_float instead.\n",
      "  alpha = trial.suggest_uniform('alpha', 0.0, 1.0)\n"
     ]
    },
    {
     "name": "stdout",
     "output_type": "stream",
     "text": [
      "EvaluatorHoldout: Processed 35595 (100.0%) in 15.57 sec. Users per second: 2286\n"
     ]
    },
    {
     "name": "stderr",
     "output_type": "stream",
     "text": [
      "[I 2024-12-23 19:49:38,767] Trial 22 finished with value: 0.06024873187557387 and parameters: {'alpha': 0.9079561602219699}. Best is trial 22 with value: 0.06024873187557387.\n",
      "<ipython-input-16-3192f54068d0>:5: FutureWarning: suggest_uniform has been deprecated in v3.0.0. This feature will be removed in v6.0.0. See https://github.com/optuna/optuna/releases/tag/v3.0.0. Use suggest_float instead.\n",
      "  alpha = trial.suggest_uniform('alpha', 0.0, 1.0)\n"
     ]
    },
    {
     "name": "stdout",
     "output_type": "stream",
     "text": [
      "EvaluatorHoldout: Processed 35595 (100.0%) in 15.57 sec. Users per second: 2287\n"
     ]
    },
    {
     "name": "stderr",
     "output_type": "stream",
     "text": [
      "[I 2024-12-23 19:49:54,372] Trial 23 finished with value: 0.06022387217751563 and parameters: {'alpha': 0.9030271989213267}. Best is trial 22 with value: 0.06024873187557387.\n",
      "<ipython-input-16-3192f54068d0>:5: FutureWarning: suggest_uniform has been deprecated in v3.0.0. This feature will be removed in v6.0.0. See https://github.com/optuna/optuna/releases/tag/v3.0.0. Use suggest_float instead.\n",
      "  alpha = trial.suggest_uniform('alpha', 0.0, 1.0)\n"
     ]
    },
    {
     "name": "stdout",
     "output_type": "stream",
     "text": [
      "EvaluatorHoldout: Processed 35595 (100.0%) in 15.42 sec. Users per second: 2308\n"
     ]
    },
    {
     "name": "stderr",
     "output_type": "stream",
     "text": [
      "[I 2024-12-23 19:50:09,829] Trial 24 finished with value: 0.051761498962087295 and parameters: {'alpha': 0.11693431720121683}. Best is trial 22 with value: 0.06024873187557387.\n",
      "<ipython-input-16-3192f54068d0>:5: FutureWarning: suggest_uniform has been deprecated in v3.0.0. This feature will be removed in v6.0.0. See https://github.com/optuna/optuna/releases/tag/v3.0.0. Use suggest_float instead.\n",
      "  alpha = trial.suggest_uniform('alpha', 0.0, 1.0)\n"
     ]
    },
    {
     "name": "stdout",
     "output_type": "stream",
     "text": [
      "EvaluatorHoldout: Processed 35595 (100.0%) in 15.50 sec. Users per second: 2296\n"
     ]
    },
    {
     "name": "stderr",
     "output_type": "stream",
     "text": [
      "[I 2024-12-23 19:50:25,368] Trial 25 finished with value: 0.05886174043527442 and parameters: {'alpha': 0.6780434849375614}. Best is trial 22 with value: 0.06024873187557387.\n",
      "<ipython-input-16-3192f54068d0>:5: FutureWarning: suggest_uniform has been deprecated in v3.0.0. This feature will be removed in v6.0.0. See https://github.com/optuna/optuna/releases/tag/v3.0.0. Use suggest_float instead.\n",
      "  alpha = trial.suggest_uniform('alpha', 0.0, 1.0)\n"
     ]
    },
    {
     "name": "stdout",
     "output_type": "stream",
     "text": [
      "EvaluatorHoldout: Processed 35595 (100.0%) in 15.38 sec. Users per second: 2315\n"
     ]
    },
    {
     "name": "stderr",
     "output_type": "stream",
     "text": [
      "[I 2024-12-23 19:50:40,783] Trial 26 finished with value: 0.05688177178442465 and parameters: {'alpha': 0.511320220466075}. Best is trial 22 with value: 0.06024873187557387.\n",
      "<ipython-input-16-3192f54068d0>:5: FutureWarning: suggest_uniform has been deprecated in v3.0.0. This feature will be removed in v6.0.0. See https://github.com/optuna/optuna/releases/tag/v3.0.0. Use suggest_float instead.\n",
      "  alpha = trial.suggest_uniform('alpha', 0.0, 1.0)\n"
     ]
    },
    {
     "name": "stdout",
     "output_type": "stream",
     "text": [
      "EvaluatorHoldout: Processed 35595 (100.0%) in 15.63 sec. Users per second: 2278\n"
     ]
    },
    {
     "name": "stderr",
     "output_type": "stream",
     "text": [
      "[I 2024-12-23 19:50:56,447] Trial 27 finished with value: 0.059947728747347634 and parameters: {'alpha': 0.8129796259906665}. Best is trial 22 with value: 0.06024873187557387.\n",
      "<ipython-input-16-3192f54068d0>:5: FutureWarning: suggest_uniform has been deprecated in v3.0.0. This feature will be removed in v6.0.0. See https://github.com/optuna/optuna/releases/tag/v3.0.0. Use suggest_float instead.\n",
      "  alpha = trial.suggest_uniform('alpha', 0.0, 1.0)\n"
     ]
    },
    {
     "name": "stdout",
     "output_type": "stream",
     "text": [
      "EvaluatorHoldout: Processed 35595 (100.0%) in 15.14 sec. Users per second: 2351\n"
     ]
    },
    {
     "name": "stderr",
     "output_type": "stream",
     "text": [
      "[I 2024-12-23 19:51:11,627] Trial 28 finished with value: 0.060242741868951774 and parameters: {'alpha': 0.9128437589318703}. Best is trial 22 with value: 0.06024873187557387.\n",
      "<ipython-input-16-3192f54068d0>:5: FutureWarning: suggest_uniform has been deprecated in v3.0.0. This feature will be removed in v6.0.0. See https://github.com/optuna/optuna/releases/tag/v3.0.0. Use suggest_float instead.\n",
      "  alpha = trial.suggest_uniform('alpha', 0.0, 1.0)\n"
     ]
    },
    {
     "name": "stdout",
     "output_type": "stream",
     "text": [
      "EvaluatorHoldout: Processed 35595 (100.0%) in 15.40 sec. Users per second: 2312\n"
     ]
    },
    {
     "name": "stderr",
     "output_type": "stream",
     "text": [
      "[I 2024-12-23 19:51:27,061] Trial 29 finished with value: 0.05955928021814905 and parameters: {'alpha': 0.759048290492154}. Best is trial 22 with value: 0.06024873187557387.\n",
      "<ipython-input-16-3192f54068d0>:5: FutureWarning: suggest_uniform has been deprecated in v3.0.0. This feature will be removed in v6.0.0. See https://github.com/optuna/optuna/releases/tag/v3.0.0. Use suggest_float instead.\n",
      "  alpha = trial.suggest_uniform('alpha', 0.0, 1.0)\n"
     ]
    },
    {
     "name": "stdout",
     "output_type": "stream",
     "text": [
      "EvaluatorHoldout: Processed 35595 (100.0%) in 15.28 sec. Users per second: 2329\n"
     ]
    },
    {
     "name": "stderr",
     "output_type": "stream",
     "text": [
      "[I 2024-12-23 19:51:42,382] Trial 30 finished with value: 0.0602603517972232 and parameters: {'alpha': 0.9410902710694672}. Best is trial 30 with value: 0.0602603517972232.\n",
      "<ipython-input-16-3192f54068d0>:5: FutureWarning: suggest_uniform has been deprecated in v3.0.0. This feature will be removed in v6.0.0. See https://github.com/optuna/optuna/releases/tag/v3.0.0. Use suggest_float instead.\n",
      "  alpha = trial.suggest_uniform('alpha', 0.0, 1.0)\n"
     ]
    },
    {
     "name": "stdout",
     "output_type": "stream",
     "text": [
      "EvaluatorHoldout: Processed 35595 (100.0%) in 15.49 sec. Users per second: 2298\n"
     ]
    },
    {
     "name": "stderr",
     "output_type": "stream",
     "text": [
      "[I 2024-12-23 19:51:57,906] Trial 31 finished with value: 0.06026790703170636 and parameters: {'alpha': 0.9381323542909653}. Best is trial 31 with value: 0.06026790703170636.\n",
      "<ipython-input-16-3192f54068d0>:5: FutureWarning: suggest_uniform has been deprecated in v3.0.0. This feature will be removed in v6.0.0. See https://github.com/optuna/optuna/releases/tag/v3.0.0. Use suggest_float instead.\n",
      "  alpha = trial.suggest_uniform('alpha', 0.0, 1.0)\n"
     ]
    },
    {
     "name": "stdout",
     "output_type": "stream",
     "text": [
      "EvaluatorHoldout: Processed 35595 (100.0%) in 15.32 sec. Users per second: 2324\n"
     ]
    },
    {
     "name": "stderr",
     "output_type": "stream",
     "text": [
      "[I 2024-12-23 19:52:13,262] Trial 32 finished with value: 0.06027155365587559 and parameters: {'alpha': 0.9348248594268964}. Best is trial 32 with value: 0.06027155365587559.\n",
      "<ipython-input-16-3192f54068d0>:5: FutureWarning: suggest_uniform has been deprecated in v3.0.0. This feature will be removed in v6.0.0. See https://github.com/optuna/optuna/releases/tag/v3.0.0. Use suggest_float instead.\n",
      "  alpha = trial.suggest_uniform('alpha', 0.0, 1.0)\n"
     ]
    },
    {
     "name": "stdout",
     "output_type": "stream",
     "text": [
      "EvaluatorHoldout: Processed 35595 (100.0%) in 15.85 sec. Users per second: 2246\n"
     ]
    },
    {
     "name": "stderr",
     "output_type": "stream",
     "text": [
      "[I 2024-12-23 19:52:29,151] Trial 33 finished with value: 0.06003299799106604 and parameters: {'alpha': 0.9964801401394394}. Best is trial 32 with value: 0.06027155365587559.\n",
      "<ipython-input-16-3192f54068d0>:5: FutureWarning: suggest_uniform has been deprecated in v3.0.0. This feature will be removed in v6.0.0. See https://github.com/optuna/optuna/releases/tag/v3.0.0. Use suggest_float instead.\n",
      "  alpha = trial.suggest_uniform('alpha', 0.0, 1.0)\n"
     ]
    },
    {
     "name": "stdout",
     "output_type": "stream",
     "text": [
      "EvaluatorHoldout: Processed 35595 (100.0%) in 15.71 sec. Users per second: 2266\n"
     ]
    },
    {
     "name": "stderr",
     "output_type": "stream",
     "text": [
      "[I 2024-12-23 19:52:44,903] Trial 34 finished with value: 0.05935722869940972 and parameters: {'alpha': 0.7357095380253947}. Best is trial 32 with value: 0.06027155365587559.\n",
      "<ipython-input-16-3192f54068d0>:5: FutureWarning: suggest_uniform has been deprecated in v3.0.0. This feature will be removed in v6.0.0. See https://github.com/optuna/optuna/releases/tag/v3.0.0. Use suggest_float instead.\n",
      "  alpha = trial.suggest_uniform('alpha', 0.0, 1.0)\n"
     ]
    },
    {
     "name": "stdout",
     "output_type": "stream",
     "text": [
      "EvaluatorHoldout: Processed 35595 (100.0%) in 15.75 sec. Users per second: 2261\n"
     ]
    },
    {
     "name": "stderr",
     "output_type": "stream",
     "text": [
      "[I 2024-12-23 19:53:00,691] Trial 35 finished with value: 0.06026717570017015 and parameters: {'alpha': 0.9390309876304104}. Best is trial 32 with value: 0.06027155365587559.\n",
      "<ipython-input-16-3192f54068d0>:5: FutureWarning: suggest_uniform has been deprecated in v3.0.0. This feature will be removed in v6.0.0. See https://github.com/optuna/optuna/releases/tag/v3.0.0. Use suggest_float instead.\n",
      "  alpha = trial.suggest_uniform('alpha', 0.0, 1.0)\n"
     ]
    },
    {
     "name": "stdout",
     "output_type": "stream",
     "text": [
      "EvaluatorHoldout: Processed 35595 (100.0%) in 15.46 sec. Users per second: 2302\n"
     ]
    },
    {
     "name": "stderr",
     "output_type": "stream",
     "text": [
      "[I 2024-12-23 19:53:16,194] Trial 36 finished with value: 0.059815956405503634 and parameters: {'alpha': 0.7939307104555162}. Best is trial 32 with value: 0.06027155365587559.\n",
      "<ipython-input-16-3192f54068d0>:5: FutureWarning: suggest_uniform has been deprecated in v3.0.0. This feature will be removed in v6.0.0. See https://github.com/optuna/optuna/releases/tag/v3.0.0. Use suggest_float instead.\n",
      "  alpha = trial.suggest_uniform('alpha', 0.0, 1.0)\n"
     ]
    },
    {
     "name": "stdout",
     "output_type": "stream",
     "text": [
      "EvaluatorHoldout: Processed 35595 (100.0%) in 15.77 sec. Users per second: 2258\n"
     ]
    },
    {
     "name": "stderr",
     "output_type": "stream",
     "text": [
      "[I 2024-12-23 19:53:31,999] Trial 37 finished with value: 0.06019766798885893 and parameters: {'alpha': 0.9616467278548765}. Best is trial 32 with value: 0.06027155365587559.\n",
      "<ipython-input-16-3192f54068d0>:5: FutureWarning: suggest_uniform has been deprecated in v3.0.0. This feature will be removed in v6.0.0. See https://github.com/optuna/optuna/releases/tag/v3.0.0. Use suggest_float instead.\n",
      "  alpha = trial.suggest_uniform('alpha', 0.0, 1.0)\n"
     ]
    },
    {
     "name": "stdout",
     "output_type": "stream",
     "text": [
      "EvaluatorHoldout: Processed 35595 (100.0%) in 15.54 sec. Users per second: 2291\n"
     ]
    },
    {
     "name": "stderr",
     "output_type": "stream",
     "text": [
      "[I 2024-12-23 19:53:47,579] Trial 38 finished with value: 0.05265776694158335 and parameters: {'alpha': 0.19111291325708724}. Best is trial 32 with value: 0.06027155365587559.\n",
      "<ipython-input-16-3192f54068d0>:5: FutureWarning: suggest_uniform has been deprecated in v3.0.0. This feature will be removed in v6.0.0. See https://github.com/optuna/optuna/releases/tag/v3.0.0. Use suggest_float instead.\n",
      "  alpha = trial.suggest_uniform('alpha', 0.0, 1.0)\n"
     ]
    },
    {
     "name": "stdout",
     "output_type": "stream",
     "text": [
      "EvaluatorHoldout: Processed 35595 (100.0%) in 15.35 sec. Users per second: 2319\n"
     ]
    },
    {
     "name": "stderr",
     "output_type": "stream",
     "text": [
      "[I 2024-12-23 19:54:02,964] Trial 39 finished with value: 0.058898690515208144 and parameters: {'alpha': 0.686390210466677}. Best is trial 32 with value: 0.06027155365587559.\n",
      "<ipython-input-16-3192f54068d0>:5: FutureWarning: suggest_uniform has been deprecated in v3.0.0. This feature will be removed in v6.0.0. See https://github.com/optuna/optuna/releases/tag/v3.0.0. Use suggest_float instead.\n",
      "  alpha = trial.suggest_uniform('alpha', 0.0, 1.0)\n"
     ]
    },
    {
     "name": "stdout",
     "output_type": "stream",
     "text": [
      "EvaluatorHoldout: Processed 35595 (100.0%) in 15.83 sec. Users per second: 2248\n"
     ]
    },
    {
     "name": "stderr",
     "output_type": "stream",
     "text": [
      "[I 2024-12-23 19:54:18,840] Trial 40 finished with value: 0.05798821731248846 and parameters: {'alpha': 0.5991559498243582}. Best is trial 32 with value: 0.06027155365587559.\n",
      "<ipython-input-16-3192f54068d0>:5: FutureWarning: suggest_uniform has been deprecated in v3.0.0. This feature will be removed in v6.0.0. See https://github.com/optuna/optuna/releases/tag/v3.0.0. Use suggest_float instead.\n",
      "  alpha = trial.suggest_uniform('alpha', 0.0, 1.0)\n"
     ]
    },
    {
     "name": "stdout",
     "output_type": "stream",
     "text": [
      "EvaluatorHoldout: Processed 35595 (100.0%) in 15.81 sec. Users per second: 2252\n"
     ]
    },
    {
     "name": "stderr",
     "output_type": "stream",
     "text": [
      "[I 2024-12-23 19:54:34,685] Trial 41 finished with value: 0.06028004981081074 and parameters: {'alpha': 0.9272059079255991}. Best is trial 41 with value: 0.06028004981081074.\n",
      "<ipython-input-16-3192f54068d0>:5: FutureWarning: suggest_uniform has been deprecated in v3.0.0. This feature will be removed in v6.0.0. See https://github.com/optuna/optuna/releases/tag/v3.0.0. Use suggest_float instead.\n",
      "  alpha = trial.suggest_uniform('alpha', 0.0, 1.0)\n"
     ]
    },
    {
     "name": "stdout",
     "output_type": "stream",
     "text": [
      "EvaluatorHoldout: Processed 35595 (100.0%) in 15.59 sec. Users per second: 2283\n"
     ]
    },
    {
     "name": "stderr",
     "output_type": "stream",
     "text": [
      "[I 2024-12-23 19:54:50,312] Trial 42 finished with value: 0.06025604296126666 and parameters: {'alpha': 0.9424749201828643}. Best is trial 41 with value: 0.06028004981081074.\n",
      "<ipython-input-16-3192f54068d0>:5: FutureWarning: suggest_uniform has been deprecated in v3.0.0. This feature will be removed in v6.0.0. See https://github.com/optuna/optuna/releases/tag/v3.0.0. Use suggest_float instead.\n",
      "  alpha = trial.suggest_uniform('alpha', 0.0, 1.0)\n"
     ]
    },
    {
     "name": "stdout",
     "output_type": "stream",
     "text": [
      "EvaluatorHoldout: Processed 35595 (100.0%) in 15.99 sec. Users per second: 2226\n"
     ]
    },
    {
     "name": "stderr",
     "output_type": "stream",
     "text": [
      "[I 2024-12-23 19:55:06,340] Trial 43 finished with value: 0.06008568953638292 and parameters: {'alpha': 0.8539177694147744}. Best is trial 41 with value: 0.06028004981081074.\n",
      "<ipython-input-16-3192f54068d0>:5: FutureWarning: suggest_uniform has been deprecated in v3.0.0. This feature will be removed in v6.0.0. See https://github.com/optuna/optuna/releases/tag/v3.0.0. Use suggest_float instead.\n",
      "  alpha = trial.suggest_uniform('alpha', 0.0, 1.0)\n"
     ]
    },
    {
     "name": "stdout",
     "output_type": "stream",
     "text": [
      "EvaluatorHoldout: Processed 35595 (100.0%) in 15.67 sec. Users per second: 2271\n"
     ]
    },
    {
     "name": "stderr",
     "output_type": "stream",
     "text": [
      "[I 2024-12-23 19:55:22,051] Trial 44 finished with value: 0.06026630389946697 and parameters: {'alpha': 0.9402354086398033}. Best is trial 41 with value: 0.06028004981081074.\n",
      "<ipython-input-16-3192f54068d0>:5: FutureWarning: suggest_uniform has been deprecated in v3.0.0. This feature will be removed in v6.0.0. See https://github.com/optuna/optuna/releases/tag/v3.0.0. Use suggest_float instead.\n",
      "  alpha = trial.suggest_uniform('alpha', 0.0, 1.0)\n"
     ]
    },
    {
     "name": "stdout",
     "output_type": "stream",
     "text": [
      "EvaluatorHoldout: Processed 35595 (100.0%) in 15.54 sec. Users per second: 2290\n"
     ]
    },
    {
     "name": "stderr",
     "output_type": "stream",
     "text": [
      "[I 2024-12-23 19:55:37,629] Trial 45 finished with value: 0.059693014668992586 and parameters: {'alpha': 0.7782335239954145}. Best is trial 41 with value: 0.06028004981081074.\n",
      "<ipython-input-16-3192f54068d0>:5: FutureWarning: suggest_uniform has been deprecated in v3.0.0. This feature will be removed in v6.0.0. See https://github.com/optuna/optuna/releases/tag/v3.0.0. Use suggest_float instead.\n",
      "  alpha = trial.suggest_uniform('alpha', 0.0, 1.0)\n"
     ]
    },
    {
     "name": "stdout",
     "output_type": "stream",
     "text": [
      "EvaluatorHoldout: Processed 35595 (100.0%) in 15.85 sec. Users per second: 2245\n"
     ]
    },
    {
     "name": "stderr",
     "output_type": "stream",
     "text": [
      "[I 2024-12-23 19:55:53,522] Trial 46 finished with value: 0.06007232824299629 and parameters: {'alpha': 0.8389142357796607}. Best is trial 41 with value: 0.06028004981081074.\n",
      "<ipython-input-16-3192f54068d0>:5: FutureWarning: suggest_uniform has been deprecated in v3.0.0. This feature will be removed in v6.0.0. See https://github.com/optuna/optuna/releases/tag/v3.0.0. Use suggest_float instead.\n",
      "  alpha = trial.suggest_uniform('alpha', 0.0, 1.0)\n"
     ]
    },
    {
     "name": "stdout",
     "output_type": "stream",
     "text": [
      "EvaluatorHoldout: Processed 35595 (100.0%) in 15.42 sec. Users per second: 2308\n"
     ]
    },
    {
     "name": "stderr",
     "output_type": "stream",
     "text": [
      "[I 2024-12-23 19:56:08,979] Trial 47 finished with value: 0.060063294737755485 and parameters: {'alpha': 0.9881876863366548}. Best is trial 41 with value: 0.06028004981081074.\n",
      "<ipython-input-16-3192f54068d0>:5: FutureWarning: suggest_uniform has been deprecated in v3.0.0. This feature will be removed in v6.0.0. See https://github.com/optuna/optuna/releases/tag/v3.0.0. Use suggest_float instead.\n",
      "  alpha = trial.suggest_uniform('alpha', 0.0, 1.0)\n"
     ]
    },
    {
     "name": "stdout",
     "output_type": "stream",
     "text": [
      "EvaluatorHoldout: Processed 35595 (100.0%) in 15.76 sec. Users per second: 2259\n"
     ]
    },
    {
     "name": "stderr",
     "output_type": "stream",
     "text": [
      "[I 2024-12-23 19:56:24,775] Trial 48 finished with value: 0.060231825407972006 and parameters: {'alpha': 0.9484914057218737}. Best is trial 41 with value: 0.06028004981081074.\n",
      "<ipython-input-16-3192f54068d0>:5: FutureWarning: suggest_uniform has been deprecated in v3.0.0. This feature will be removed in v6.0.0. See https://github.com/optuna/optuna/releases/tag/v3.0.0. Use suggest_float instead.\n",
      "  alpha = trial.suggest_uniform('alpha', 0.0, 1.0)\n"
     ]
    },
    {
     "name": "stdout",
     "output_type": "stream",
     "text": [
      "EvaluatorHoldout: Processed 35595 (100.0%) in 15.56 sec. Users per second: 2288\n"
     ]
    },
    {
     "name": "stderr",
     "output_type": "stream",
     "text": [
      "[I 2024-12-23 19:56:40,370] Trial 49 finished with value: 0.05995813795855752 and parameters: {'alpha': 0.8195737704851191}. Best is trial 41 with value: 0.06028004981081074.\n",
      "<ipython-input-16-3192f54068d0>:5: FutureWarning: suggest_uniform has been deprecated in v3.0.0. This feature will be removed in v6.0.0. See https://github.com/optuna/optuna/releases/tag/v3.0.0. Use suggest_float instead.\n",
      "  alpha = trial.suggest_uniform('alpha', 0.0, 1.0)\n"
     ]
    },
    {
     "name": "stdout",
     "output_type": "stream",
     "text": [
      "EvaluatorHoldout: Processed 35595 (100.0%) in 15.37 sec. Users per second: 2316\n"
     ]
    },
    {
     "name": "stderr",
     "output_type": "stream",
     "text": [
      "[I 2024-12-23 19:56:55,779] Trial 50 finished with value: 0.06013514471668517 and parameters: {'alpha': 0.8589657468013767}. Best is trial 41 with value: 0.06028004981081074.\n",
      "<ipython-input-16-3192f54068d0>:5: FutureWarning: suggest_uniform has been deprecated in v3.0.0. This feature will be removed in v6.0.0. See https://github.com/optuna/optuna/releases/tag/v3.0.0. Use suggest_float instead.\n",
      "  alpha = trial.suggest_uniform('alpha', 0.0, 1.0)\n"
     ]
    },
    {
     "name": "stdout",
     "output_type": "stream",
     "text": [
      "EvaluatorHoldout: Processed 35595 (100.0%) in 15.39 sec. Users per second: 2313\n"
     ]
    },
    {
     "name": "stderr",
     "output_type": "stream",
     "text": [
      "[I 2024-12-23 19:57:11,206] Trial 51 finished with value: 0.060276472306390494 and parameters: {'alpha': 0.9339442481231531}. Best is trial 41 with value: 0.06028004981081074.\n",
      "<ipython-input-16-3192f54068d0>:5: FutureWarning: suggest_uniform has been deprecated in v3.0.0. This feature will be removed in v6.0.0. See https://github.com/optuna/optuna/releases/tag/v3.0.0. Use suggest_float instead.\n",
      "  alpha = trial.suggest_uniform('alpha', 0.0, 1.0)\n"
     ]
    },
    {
     "name": "stdout",
     "output_type": "stream",
     "text": [
      "EvaluatorHoldout: Processed 35595 (100.0%) in 15.80 sec. Users per second: 2253\n"
     ]
    },
    {
     "name": "stderr",
     "output_type": "stream",
     "text": [
      "[I 2024-12-23 19:57:27,043] Trial 52 finished with value: 0.06027505646637373 and parameters: {'alpha': 0.9313104622044998}. Best is trial 41 with value: 0.06028004981081074.\n",
      "<ipython-input-16-3192f54068d0>:5: FutureWarning: suggest_uniform has been deprecated in v3.0.0. This feature will be removed in v6.0.0. See https://github.com/optuna/optuna/releases/tag/v3.0.0. Use suggest_float instead.\n",
      "  alpha = trial.suggest_uniform('alpha', 0.0, 1.0)\n"
     ]
    },
    {
     "name": "stdout",
     "output_type": "stream",
     "text": [
      "EvaluatorHoldout: Processed 35595 (100.0%) in 15.83 sec. Users per second: 2248\n"
     ]
    },
    {
     "name": "stderr",
     "output_type": "stream",
     "text": [
      "[I 2024-12-23 19:57:42,917] Trial 53 finished with value: 0.06027234072914476 and parameters: {'alpha': 0.9212911809835566}. Best is trial 41 with value: 0.06028004981081074.\n",
      "<ipython-input-16-3192f54068d0>:5: FutureWarning: suggest_uniform has been deprecated in v3.0.0. This feature will be removed in v6.0.0. See https://github.com/optuna/optuna/releases/tag/v3.0.0. Use suggest_float instead.\n",
      "  alpha = trial.suggest_uniform('alpha', 0.0, 1.0)\n"
     ]
    },
    {
     "name": "stdout",
     "output_type": "stream",
     "text": [
      "EvaluatorHoldout: Processed 35595 (100.0%) in 15.80 sec. Users per second: 2253\n"
     ]
    },
    {
     "name": "stderr",
     "output_type": "stream",
     "text": [
      "[I 2024-12-23 19:57:58,760] Trial 54 finished with value: 0.06003859780555754 and parameters: {'alpha': 0.9957069850034799}. Best is trial 41 with value: 0.06028004981081074.\n",
      "<ipython-input-16-3192f54068d0>:5: FutureWarning: suggest_uniform has been deprecated in v3.0.0. This feature will be removed in v6.0.0. See https://github.com/optuna/optuna/releases/tag/v3.0.0. Use suggest_float instead.\n",
      "  alpha = trial.suggest_uniform('alpha', 0.0, 1.0)\n"
     ]
    },
    {
     "name": "stdout",
     "output_type": "stream",
     "text": [
      "EvaluatorHoldout: Processed 35595 (100.0%) in 15.63 sec. Users per second: 2277\n"
     ]
    },
    {
     "name": "stderr",
     "output_type": "stream",
     "text": [
      "[I 2024-12-23 19:58:14,433] Trial 55 finished with value: 0.06020175831722207 and parameters: {'alpha': 0.884958332000813}. Best is trial 41 with value: 0.06028004981081074.\n",
      "<ipython-input-16-3192f54068d0>:5: FutureWarning: suggest_uniform has been deprecated in v3.0.0. This feature will be removed in v6.0.0. See https://github.com/optuna/optuna/releases/tag/v3.0.0. Use suggest_float instead.\n",
      "  alpha = trial.suggest_uniform('alpha', 0.0, 1.0)\n"
     ]
    },
    {
     "name": "stdout",
     "output_type": "stream",
     "text": [
      "EvaluatorHoldout: Processed 35595 (100.0%) in 15.75 sec. Users per second: 2260\n"
     ]
    },
    {
     "name": "stderr",
     "output_type": "stream",
     "text": [
      "[I 2024-12-23 19:58:30,223] Trial 56 finished with value: 0.05915601665116875 and parameters: {'alpha': 0.7138269283624623}. Best is trial 41 with value: 0.06028004981081074.\n",
      "<ipython-input-16-3192f54068d0>:5: FutureWarning: suggest_uniform has been deprecated in v3.0.0. This feature will be removed in v6.0.0. See https://github.com/optuna/optuna/releases/tag/v3.0.0. Use suggest_float instead.\n",
      "  alpha = trial.suggest_uniform('alpha', 0.0, 1.0)\n"
     ]
    },
    {
     "name": "stdout",
     "output_type": "stream",
     "text": [
      "EvaluatorHoldout: Processed 35595 (100.0%) in 15.17 sec. Users per second: 2347\n"
     ]
    },
    {
     "name": "stderr",
     "output_type": "stream",
     "text": [
      "[I 2024-12-23 19:58:45,429] Trial 57 finished with value: 0.06008298048816181 and parameters: {'alpha': 0.8523665700423447}. Best is trial 41 with value: 0.06028004981081074.\n",
      "<ipython-input-16-3192f54068d0>:5: FutureWarning: suggest_uniform has been deprecated in v3.0.0. This feature will be removed in v6.0.0. See https://github.com/optuna/optuna/releases/tag/v3.0.0. Use suggest_float instead.\n",
      "  alpha = trial.suggest_uniform('alpha', 0.0, 1.0)\n"
     ]
    },
    {
     "name": "stdout",
     "output_type": "stream",
     "text": [
      "EvaluatorHoldout: Processed 35595 (100.0%) in 15.40 sec. Users per second: 2311\n"
     ]
    },
    {
     "name": "stderr",
     "output_type": "stream",
     "text": [
      "[I 2024-12-23 19:59:00,871] Trial 58 finished with value: 0.055444620588318734 and parameters: {'alpha': 0.4065297257825918}. Best is trial 41 with value: 0.06028004981081074.\n",
      "<ipython-input-16-3192f54068d0>:5: FutureWarning: suggest_uniform has been deprecated in v3.0.0. This feature will be removed in v6.0.0. See https://github.com/optuna/optuna/releases/tag/v3.0.0. Use suggest_float instead.\n",
      "  alpha = trial.suggest_uniform('alpha', 0.0, 1.0)\n"
     ]
    },
    {
     "name": "stdout",
     "output_type": "stream",
     "text": [
      "EvaluatorHoldout: Processed 35595 (100.0%) in 15.60 sec. Users per second: 2282\n"
     ]
    },
    {
     "name": "stderr",
     "output_type": "stream",
     "text": [
      "[I 2024-12-23 19:59:16,504] Trial 59 finished with value: 0.060263116587177326 and parameters: {'alpha': 0.9177641709938136}. Best is trial 41 with value: 0.06028004981081074.\n",
      "<ipython-input-16-3192f54068d0>:5: FutureWarning: suggest_uniform has been deprecated in v3.0.0. This feature will be removed in v6.0.0. See https://github.com/optuna/optuna/releases/tag/v3.0.0. Use suggest_float instead.\n",
      "  alpha = trial.suggest_uniform('alpha', 0.0, 1.0)\n"
     ]
    },
    {
     "name": "stdout",
     "output_type": "stream",
     "text": [
      "EvaluatorHoldout: Processed 35595 (100.0%) in 15.58 sec. Users per second: 2285\n"
     ]
    },
    {
     "name": "stderr",
     "output_type": "stream",
     "text": [
      "[I 2024-12-23 19:59:32,123] Trial 60 finished with value: 0.05967667342256272 and parameters: {'alpha': 0.772431479244533}. Best is trial 41 with value: 0.06028004981081074.\n",
      "<ipython-input-16-3192f54068d0>:5: FutureWarning: suggest_uniform has been deprecated in v3.0.0. This feature will be removed in v6.0.0. See https://github.com/optuna/optuna/releases/tag/v3.0.0. Use suggest_float instead.\n",
      "  alpha = trial.suggest_uniform('alpha', 0.0, 1.0)\n"
     ]
    },
    {
     "name": "stdout",
     "output_type": "stream",
     "text": [
      "EvaluatorHoldout: Processed 35595 (100.0%) in 15.66 sec. Users per second: 2273\n"
     ]
    },
    {
     "name": "stderr",
     "output_type": "stream",
     "text": [
      "[I 2024-12-23 19:59:47,821] Trial 61 finished with value: 0.060281057621342456 and parameters: {'alpha': 0.9320877696005746}. Best is trial 61 with value: 0.060281057621342456.\n",
      "<ipython-input-16-3192f54068d0>:5: FutureWarning: suggest_uniform has been deprecated in v3.0.0. This feature will be removed in v6.0.0. See https://github.com/optuna/optuna/releases/tag/v3.0.0. Use suggest_float instead.\n",
      "  alpha = trial.suggest_uniform('alpha', 0.0, 1.0)\n"
     ]
    },
    {
     "name": "stdout",
     "output_type": "stream",
     "text": [
      "EvaluatorHoldout: Processed 35595 (100.0%) in 15.95 sec. Users per second: 2231\n"
     ]
    },
    {
     "name": "stderr",
     "output_type": "stream",
     "text": [
      "[I 2024-12-23 20:00:03,812] Trial 62 finished with value: 0.060198598875798814 and parameters: {'alpha': 0.8848582006206267}. Best is trial 61 with value: 0.060281057621342456.\n",
      "<ipython-input-16-3192f54068d0>:5: FutureWarning: suggest_uniform has been deprecated in v3.0.0. This feature will be removed in v6.0.0. See https://github.com/optuna/optuna/releases/tag/v3.0.0. Use suggest_float instead.\n",
      "  alpha = trial.suggest_uniform('alpha', 0.0, 1.0)\n"
     ]
    },
    {
     "name": "stdout",
     "output_type": "stream",
     "text": [
      "EvaluatorHoldout: Processed 35595 (100.0%) in 15.73 sec. Users per second: 2262\n"
     ]
    },
    {
     "name": "stderr",
     "output_type": "stream",
     "text": [
      "[I 2024-12-23 20:00:19,583] Trial 63 finished with value: 0.06018797784600401 and parameters: {'alpha': 0.9632640397064476}. Best is trial 61 with value: 0.060281057621342456.\n",
      "<ipython-input-16-3192f54068d0>:5: FutureWarning: suggest_uniform has been deprecated in v3.0.0. This feature will be removed in v6.0.0. See https://github.com/optuna/optuna/releases/tag/v3.0.0. Use suggest_float instead.\n",
      "  alpha = trial.suggest_uniform('alpha', 0.0, 1.0)\n"
     ]
    },
    {
     "name": "stdout",
     "output_type": "stream",
     "text": [
      "EvaluatorHoldout: Processed 35595 (100.0%) in 15.58 sec. Users per second: 2284\n"
     ]
    },
    {
     "name": "stderr",
     "output_type": "stream",
     "text": [
      "[I 2024-12-23 20:00:35,205] Trial 64 finished with value: 0.060187644510440716 and parameters: {'alpha': 0.8715456450500181}. Best is trial 61 with value: 0.060281057621342456.\n",
      "<ipython-input-16-3192f54068d0>:5: FutureWarning: suggest_uniform has been deprecated in v3.0.0. This feature will be removed in v6.0.0. See https://github.com/optuna/optuna/releases/tag/v3.0.0. Use suggest_float instead.\n",
      "  alpha = trial.suggest_uniform('alpha', 0.0, 1.0)\n"
     ]
    },
    {
     "name": "stdout",
     "output_type": "stream",
     "text": [
      "EvaluatorHoldout: Processed 35595 (100.0%) in 15.61 sec. Users per second: 2280\n"
     ]
    },
    {
     "name": "stderr",
     "output_type": "stream",
     "text": [
      "[I 2024-12-23 20:00:50,854] Trial 65 finished with value: 0.06026261602641548 and parameters: {'alpha': 0.9180852770724267}. Best is trial 61 with value: 0.060281057621342456.\n",
      "<ipython-input-16-3192f54068d0>:5: FutureWarning: suggest_uniform has been deprecated in v3.0.0. This feature will be removed in v6.0.0. See https://github.com/optuna/optuna/releases/tag/v3.0.0. Use suggest_float instead.\n",
      "  alpha = trial.suggest_uniform('alpha', 0.0, 1.0)\n"
     ]
    },
    {
     "name": "stdout",
     "output_type": "stream",
     "text": [
      "EvaluatorHoldout: Processed 35595 (100.0%) in 15.59 sec. Users per second: 2283\n"
     ]
    },
    {
     "name": "stderr",
     "output_type": "stream",
     "text": [
      "[I 2024-12-23 20:01:06,483] Trial 66 finished with value: 0.059956055447414724 and parameters: {'alpha': 0.8144198484152139}. Best is trial 61 with value: 0.060281057621342456.\n",
      "<ipython-input-16-3192f54068d0>:5: FutureWarning: suggest_uniform has been deprecated in v3.0.0. This feature will be removed in v6.0.0. See https://github.com/optuna/optuna/releases/tag/v3.0.0. Use suggest_float instead.\n",
      "  alpha = trial.suggest_uniform('alpha', 0.0, 1.0)\n"
     ]
    },
    {
     "name": "stdout",
     "output_type": "stream",
     "text": [
      "EvaluatorHoldout: Processed 35595 (100.0%) in 15.67 sec. Users per second: 2271\n"
     ]
    },
    {
     "name": "stderr",
     "output_type": "stream",
     "text": [
      "[I 2024-12-23 20:01:22,191] Trial 67 finished with value: 0.06015227749572278 and parameters: {'alpha': 0.9730293192452282}. Best is trial 61 with value: 0.060281057621342456.\n",
      "<ipython-input-16-3192f54068d0>:5: FutureWarning: suggest_uniform has been deprecated in v3.0.0. This feature will be removed in v6.0.0. See https://github.com/optuna/optuna/releases/tag/v3.0.0. Use suggest_float instead.\n",
      "  alpha = trial.suggest_uniform('alpha', 0.0, 1.0)\n"
     ]
    },
    {
     "name": "stdout",
     "output_type": "stream",
     "text": [
      "EvaluatorHoldout: Processed 35595 (100.0%) in 15.84 sec. Users per second: 2248\n"
     ]
    },
    {
     "name": "stderr",
     "output_type": "stream",
     "text": [
      "[I 2024-12-23 20:01:38,067] Trial 68 finished with value: 0.06028501639921608 and parameters: {'alpha': 0.9242014366593713}. Best is trial 68 with value: 0.06028501639921608.\n",
      "<ipython-input-16-3192f54068d0>:5: FutureWarning: suggest_uniform has been deprecated in v3.0.0. This feature will be removed in v6.0.0. See https://github.com/optuna/optuna/releases/tag/v3.0.0. Use suggest_float instead.\n",
      "  alpha = trial.suggest_uniform('alpha', 0.0, 1.0)\n"
     ]
    },
    {
     "name": "stdout",
     "output_type": "stream",
     "text": [
      "EvaluatorHoldout: Processed 35595 (100.0%) in 15.68 sec. Users per second: 2270\n"
     ]
    },
    {
     "name": "stderr",
     "output_type": "stream",
     "text": [
      "[I 2024-12-23 20:01:53,783] Trial 69 finished with value: 0.060255175619902165 and parameters: {'alpha': 0.9154608440569096}. Best is trial 68 with value: 0.06028501639921608.\n",
      "<ipython-input-16-3192f54068d0>:5: FutureWarning: suggest_uniform has been deprecated in v3.0.0. This feature will be removed in v6.0.0. See https://github.com/optuna/optuna/releases/tag/v3.0.0. Use suggest_float instead.\n",
      "  alpha = trial.suggest_uniform('alpha', 0.0, 1.0)\n"
     ]
    },
    {
     "name": "stdout",
     "output_type": "stream",
     "text": [
      "EvaluatorHoldout: Processed 35595 (100.0%) in 15.46 sec. Users per second: 2302\n"
     ]
    },
    {
     "name": "stderr",
     "output_type": "stream",
     "text": [
      "[I 2024-12-23 20:02:09,283] Trial 70 finished with value: 0.05997269769920227 and parameters: {'alpha': 0.8255879172740282}. Best is trial 68 with value: 0.06028501639921608.\n",
      "<ipython-input-16-3192f54068d0>:5: FutureWarning: suggest_uniform has been deprecated in v3.0.0. This feature will be removed in v6.0.0. See https://github.com/optuna/optuna/releases/tag/v3.0.0. Use suggest_float instead.\n",
      "  alpha = trial.suggest_uniform('alpha', 0.0, 1.0)\n"
     ]
    },
    {
     "name": "stdout",
     "output_type": "stream",
     "text": [
      "EvaluatorHoldout: Processed 35595 (100.0%) in 15.67 sec. Users per second: 2271\n"
     ]
    },
    {
     "name": "stderr",
     "output_type": "stream",
     "text": [
      "[I 2024-12-23 20:02:24,992] Trial 71 finished with value: 0.06026871974617265 and parameters: {'alpha': 0.9291846441916229}. Best is trial 68 with value: 0.06028501639921608.\n",
      "<ipython-input-16-3192f54068d0>:5: FutureWarning: suggest_uniform has been deprecated in v3.0.0. This feature will be removed in v6.0.0. See https://github.com/optuna/optuna/releases/tag/v3.0.0. Use suggest_float instead.\n",
      "  alpha = trial.suggest_uniform('alpha', 0.0, 1.0)\n"
     ]
    },
    {
     "name": "stdout",
     "output_type": "stream",
     "text": [
      "EvaluatorHoldout: Processed 35595 (100.0%) in 15.63 sec. Users per second: 2277\n"
     ]
    },
    {
     "name": "stderr",
     "output_type": "stream",
     "text": [
      "[I 2024-12-23 20:02:40,663] Trial 72 finished with value: 0.06002838814975163 and parameters: {'alpha': 0.9979415664945557}. Best is trial 68 with value: 0.06028501639921608.\n",
      "<ipython-input-16-3192f54068d0>:5: FutureWarning: suggest_uniform has been deprecated in v3.0.0. This feature will be removed in v6.0.0. See https://github.com/optuna/optuna/releases/tag/v3.0.0. Use suggest_float instead.\n",
      "  alpha = trial.suggest_uniform('alpha', 0.0, 1.0)\n"
     ]
    },
    {
     "name": "stdout",
     "output_type": "stream",
     "text": [
      "EvaluatorHoldout: Processed 35595 (100.0%) in 15.67 sec. Users per second: 2271\n"
     ]
    },
    {
     "name": "stderr",
     "output_type": "stream",
     "text": [
      "[I 2024-12-23 20:02:56,371] Trial 73 finished with value: 0.060206887671487595 and parameters: {'alpha': 0.8866193725109283}. Best is trial 68 with value: 0.06028501639921608.\n",
      "<ipython-input-16-3192f54068d0>:5: FutureWarning: suggest_uniform has been deprecated in v3.0.0. This feature will be removed in v6.0.0. See https://github.com/optuna/optuna/releases/tag/v3.0.0. Use suggest_float instead.\n",
      "  alpha = trial.suggest_uniform('alpha', 0.0, 1.0)\n"
     ]
    },
    {
     "name": "stdout",
     "output_type": "stream",
     "text": [
      "EvaluatorHoldout: Processed 35595 (100.0%) in 15.69 sec. Users per second: 2268\n"
     ]
    },
    {
     "name": "stderr",
     "output_type": "stream",
     "text": [
      "[I 2024-12-23 20:03:12,103] Trial 74 finished with value: 0.06015769336249562 and parameters: {'alpha': 0.9698141159240418}. Best is trial 68 with value: 0.06028501639921608.\n",
      "<ipython-input-16-3192f54068d0>:5: FutureWarning: suggest_uniform has been deprecated in v3.0.0. This feature will be removed in v6.0.0. See https://github.com/optuna/optuna/releases/tag/v3.0.0. Use suggest_float instead.\n",
      "  alpha = trial.suggest_uniform('alpha', 0.0, 1.0)\n"
     ]
    },
    {
     "name": "stdout",
     "output_type": "stream",
     "text": [
      "EvaluatorHoldout: Processed 35595 (100.0%) in 15.61 sec. Users per second: 2280\n"
     ]
    },
    {
     "name": "stderr",
     "output_type": "stream",
     "text": [
      "[I 2024-12-23 20:03:27,757] Trial 75 finished with value: 0.050709353685753356 and parameters: {'alpha': 0.021471696966491094}. Best is trial 68 with value: 0.06028501639921608.\n",
      "<ipython-input-16-3192f54068d0>:5: FutureWarning: suggest_uniform has been deprecated in v3.0.0. This feature will be removed in v6.0.0. See https://github.com/optuna/optuna/releases/tag/v3.0.0. Use suggest_float instead.\n",
      "  alpha = trial.suggest_uniform('alpha', 0.0, 1.0)\n"
     ]
    },
    {
     "name": "stdout",
     "output_type": "stream",
     "text": [
      "EvaluatorHoldout: Processed 35595 (100.0%) in 15.50 sec. Users per second: 2296\n"
     ]
    },
    {
     "name": "stderr",
     "output_type": "stream",
     "text": [
      "[I 2024-12-23 20:03:43,299] Trial 76 finished with value: 0.05414962307440019 and parameters: {'alpha': 0.311877315288744}. Best is trial 68 with value: 0.06028501639921608.\n",
      "<ipython-input-16-3192f54068d0>:5: FutureWarning: suggest_uniform has been deprecated in v3.0.0. This feature will be removed in v6.0.0. See https://github.com/optuna/optuna/releases/tag/v3.0.0. Use suggest_float instead.\n",
      "  alpha = trial.suggest_uniform('alpha', 0.0, 1.0)\n"
     ]
    },
    {
     "name": "stdout",
     "output_type": "stream",
     "text": [
      "EvaluatorHoldout: Processed 35595 (100.0%) in 15.78 sec. Users per second: 2256\n"
     ]
    },
    {
     "name": "stderr",
     "output_type": "stream",
     "text": [
      "[I 2024-12-23 20:03:59,113] Trial 77 finished with value: 0.06026301736689267 and parameters: {'alpha': 0.9170864284132075}. Best is trial 68 with value: 0.06028501639921608.\n",
      "<ipython-input-16-3192f54068d0>:5: FutureWarning: suggest_uniform has been deprecated in v3.0.0. This feature will be removed in v6.0.0. See https://github.com/optuna/optuna/releases/tag/v3.0.0. Use suggest_float instead.\n",
      "  alpha = trial.suggest_uniform('alpha', 0.0, 1.0)\n"
     ]
    },
    {
     "name": "stdout",
     "output_type": "stream",
     "text": [
      "EvaluatorHoldout: Processed 35595 (100.0%) in 15.80 sec. Users per second: 2252\n"
     ]
    },
    {
     "name": "stderr",
     "output_type": "stream",
     "text": [
      "[I 2024-12-23 20:04:14,957] Trial 78 finished with value: 0.06017637576170889 and parameters: {'alpha': 0.8688405177627107}. Best is trial 68 with value: 0.06028501639921608.\n",
      "<ipython-input-16-3192f54068d0>:5: FutureWarning: suggest_uniform has been deprecated in v3.0.0. This feature will be removed in v6.0.0. See https://github.com/optuna/optuna/releases/tag/v3.0.0. Use suggest_float instead.\n",
      "  alpha = trial.suggest_uniform('alpha', 0.0, 1.0)\n"
     ]
    },
    {
     "name": "stdout",
     "output_type": "stream",
     "text": [
      "EvaluatorHoldout: Processed 35595 (100.0%) in 15.66 sec. Users per second: 2273\n"
     ]
    },
    {
     "name": "stderr",
     "output_type": "stream",
     "text": [
      "[I 2024-12-23 20:04:30,655] Trial 79 finished with value: 0.0598147579582453 and parameters: {'alpha': 0.7913624690214875}. Best is trial 68 with value: 0.06028501639921608.\n",
      "<ipython-input-16-3192f54068d0>:5: FutureWarning: suggest_uniform has been deprecated in v3.0.0. This feature will be removed in v6.0.0. See https://github.com/optuna/optuna/releases/tag/v3.0.0. Use suggest_float instead.\n",
      "  alpha = trial.suggest_uniform('alpha', 0.0, 1.0)\n"
     ]
    },
    {
     "name": "stdout",
     "output_type": "stream",
     "text": [
      "EvaluatorHoldout: Processed 35595 (100.0%) in 15.50 sec. Users per second: 2297\n"
     ]
    },
    {
     "name": "stderr",
     "output_type": "stream",
     "text": [
      "[I 2024-12-23 20:04:46,244] Trial 80 finished with value: 0.056416095313902 and parameters: {'alpha': 0.47659422483006697}. Best is trial 68 with value: 0.06028501639921608.\n",
      "<ipython-input-16-3192f54068d0>:5: FutureWarning: suggest_uniform has been deprecated in v3.0.0. This feature will be removed in v6.0.0. See https://github.com/optuna/optuna/releases/tag/v3.0.0. Use suggest_float instead.\n",
      "  alpha = trial.suggest_uniform('alpha', 0.0, 1.0)\n"
     ]
    },
    {
     "name": "stdout",
     "output_type": "stream",
     "text": [
      "EvaluatorHoldout: Processed 35595 (100.0%) in 15.59 sec. Users per second: 2284\n"
     ]
    },
    {
     "name": "stderr",
     "output_type": "stream",
     "text": [
      "[I 2024-12-23 20:05:01,871] Trial 81 finished with value: 0.060263155606390194 and parameters: {'alpha': 0.9282481864094887}. Best is trial 68 with value: 0.06028501639921608.\n",
      "<ipython-input-16-3192f54068d0>:5: FutureWarning: suggest_uniform has been deprecated in v3.0.0. This feature will be removed in v6.0.0. See https://github.com/optuna/optuna/releases/tag/v3.0.0. Use suggest_float instead.\n",
      "  alpha = trial.suggest_uniform('alpha', 0.0, 1.0)\n"
     ]
    },
    {
     "name": "stdout",
     "output_type": "stream",
     "text": [
      "EvaluatorHoldout: Processed 35595 (100.0%) in 15.78 sec. Users per second: 2256\n"
     ]
    },
    {
     "name": "stderr",
     "output_type": "stream",
     "text": [
      "[I 2024-12-23 20:05:17,687] Trial 82 finished with value: 0.060219160886247264 and parameters: {'alpha': 0.9547709260326572}. Best is trial 68 with value: 0.06028501639921608.\n",
      "<ipython-input-16-3192f54068d0>:5: FutureWarning: suggest_uniform has been deprecated in v3.0.0. This feature will be removed in v6.0.0. See https://github.com/optuna/optuna/releases/tag/v3.0.0. Use suggest_float instead.\n",
      "  alpha = trial.suggest_uniform('alpha', 0.0, 1.0)\n"
     ]
    },
    {
     "name": "stdout",
     "output_type": "stream",
     "text": [
      "EvaluatorHoldout: Processed 35595 (100.0%) in 15.74 sec. Users per second: 2262\n"
     ]
    },
    {
     "name": "stderr",
     "output_type": "stream",
     "text": [
      "[I 2024-12-23 20:05:33,462] Trial 83 finished with value: 0.06017691757135327 and parameters: {'alpha': 0.8967103838844799}. Best is trial 68 with value: 0.06028501639921608.\n",
      "<ipython-input-16-3192f54068d0>:5: FutureWarning: suggest_uniform has been deprecated in v3.0.0. This feature will be removed in v6.0.0. See https://github.com/optuna/optuna/releases/tag/v3.0.0. Use suggest_float instead.\n",
      "  alpha = trial.suggest_uniform('alpha', 0.0, 1.0)\n"
     ]
    },
    {
     "name": "stdout",
     "output_type": "stream",
     "text": [
      "EvaluatorHoldout: Processed 35595 (100.0%) in 15.76 sec. Users per second: 2259\n"
     ]
    },
    {
     "name": "stderr",
     "output_type": "stream",
     "text": [
      "[I 2024-12-23 20:05:49,262] Trial 84 finished with value: 0.06026070854431401 and parameters: {'alpha': 0.9376477360529357}. Best is trial 68 with value: 0.06028501639921608.\n",
      "<ipython-input-16-3192f54068d0>:5: FutureWarning: suggest_uniform has been deprecated in v3.0.0. This feature will be removed in v6.0.0. See https://github.com/optuna/optuna/releases/tag/v3.0.0. Use suggest_float instead.\n",
      "  alpha = trial.suggest_uniform('alpha', 0.0, 1.0)\n"
     ]
    },
    {
     "name": "stdout",
     "output_type": "stream",
     "text": [
      "EvaluatorHoldout: Processed 35595 (100.0%) in 15.66 sec. Users per second: 2273\n"
     ]
    },
    {
     "name": "stderr",
     "output_type": "stream",
     "text": [
      "[I 2024-12-23 20:06:04,964] Trial 85 finished with value: 0.060154003259774706 and parameters: {'alpha': 0.972906248940991}. Best is trial 68 with value: 0.06028501639921608.\n",
      "<ipython-input-16-3192f54068d0>:5: FutureWarning: suggest_uniform has been deprecated in v3.0.0. This feature will be removed in v6.0.0. See https://github.com/optuna/optuna/releases/tag/v3.0.0. Use suggest_float instead.\n",
      "  alpha = trial.suggest_uniform('alpha', 0.0, 1.0)\n"
     ]
    },
    {
     "name": "stdout",
     "output_type": "stream",
     "text": [
      "EvaluatorHoldout: Processed 35595 (100.0%) in 15.33 sec. Users per second: 2321\n"
     ]
    },
    {
     "name": "stderr",
     "output_type": "stream",
     "text": [
      "[I 2024-12-23 20:06:20,338] Trial 86 finished with value: 0.06006692463940482 and parameters: {'alpha': 0.8427863977106689}. Best is trial 68 with value: 0.06028501639921608.\n",
      "<ipython-input-16-3192f54068d0>:5: FutureWarning: suggest_uniform has been deprecated in v3.0.0. This feature will be removed in v6.0.0. See https://github.com/optuna/optuna/releases/tag/v3.0.0. Use suggest_float instead.\n",
      "  alpha = trial.suggest_uniform('alpha', 0.0, 1.0)\n"
     ]
    },
    {
     "name": "stdout",
     "output_type": "stream",
     "text": [
      "EvaluatorHoldout: Processed 35595 (100.0%) in 15.57 sec. Users per second: 2287\n"
     ]
    },
    {
     "name": "stderr",
     "output_type": "stream",
     "text": [
      "[I 2024-12-23 20:06:35,939] Trial 87 finished with value: 0.060187900922412434 and parameters: {'alpha': 0.8954181667486724}. Best is trial 68 with value: 0.06028501639921608.\n",
      "<ipython-input-16-3192f54068d0>:5: FutureWarning: suggest_uniform has been deprecated in v3.0.0. This feature will be removed in v6.0.0. See https://github.com/optuna/optuna/releases/tag/v3.0.0. Use suggest_float instead.\n",
      "  alpha = trial.suggest_uniform('alpha', 0.0, 1.0)\n"
     ]
    },
    {
     "name": "stdout",
     "output_type": "stream",
     "text": [
      "EvaluatorHoldout: Processed 35595 (100.0%) in 15.34 sec. Users per second: 2320\n"
     ]
    },
    {
     "name": "stderr",
     "output_type": "stream",
     "text": [
      "[I 2024-12-23 20:06:51,323] Trial 88 finished with value: 0.06016790301830143 and parameters: {'alpha': 0.8672542199915502}. Best is trial 68 with value: 0.06028501639921608.\n",
      "<ipython-input-16-3192f54068d0>:5: FutureWarning: suggest_uniform has been deprecated in v3.0.0. This feature will be removed in v6.0.0. See https://github.com/optuna/optuna/releases/tag/v3.0.0. Use suggest_float instead.\n",
      "  alpha = trial.suggest_uniform('alpha', 0.0, 1.0)\n"
     ]
    },
    {
     "name": "stdout",
     "output_type": "stream",
     "text": [
      "EvaluatorHoldout: Processed 35595 (100.0%) in 15.67 sec. Users per second: 2271\n"
     ]
    },
    {
     "name": "stderr",
     "output_type": "stream",
     "text": [
      "[I 2024-12-23 20:07:07,031] Trial 89 finished with value: 0.060264623843636005 and parameters: {'alpha': 0.9410464506544368}. Best is trial 68 with value: 0.06028501639921608.\n",
      "<ipython-input-16-3192f54068d0>:5: FutureWarning: suggest_uniform has been deprecated in v3.0.0. This feature will be removed in v6.0.0. See https://github.com/optuna/optuna/releases/tag/v3.0.0. Use suggest_float instead.\n",
      "  alpha = trial.suggest_uniform('alpha', 0.0, 1.0)\n"
     ]
    },
    {
     "name": "stdout",
     "output_type": "stream",
     "text": [
      "EvaluatorHoldout: Processed 35595 (100.0%) in 15.31 sec. Users per second: 2325\n"
     ]
    },
    {
     "name": "stderr",
     "output_type": "stream",
     "text": [
      "[I 2024-12-23 20:07:22,384] Trial 90 finished with value: 0.06015760306088826 and parameters: {'alpha': 0.9693255285527183}. Best is trial 68 with value: 0.06028501639921608.\n",
      "<ipython-input-16-3192f54068d0>:5: FutureWarning: suggest_uniform has been deprecated in v3.0.0. This feature will be removed in v6.0.0. See https://github.com/optuna/optuna/releases/tag/v3.0.0. Use suggest_float instead.\n",
      "  alpha = trial.suggest_uniform('alpha', 0.0, 1.0)\n"
     ]
    },
    {
     "name": "stdout",
     "output_type": "stream",
     "text": [
      "EvaluatorHoldout: Processed 35595 (100.0%) in 15.44 sec. Users per second: 2305\n"
     ]
    },
    {
     "name": "stderr",
     "output_type": "stream",
     "text": [
      "[I 2024-12-23 20:07:37,867] Trial 91 finished with value: 0.060278339654444124 and parameters: {'alpha': 0.9331743107806275}. Best is trial 68 with value: 0.06028501639921608.\n",
      "<ipython-input-16-3192f54068d0>:5: FutureWarning: suggest_uniform has been deprecated in v3.0.0. This feature will be removed in v6.0.0. See https://github.com/optuna/optuna/releases/tag/v3.0.0. Use suggest_float instead.\n",
      "  alpha = trial.suggest_uniform('alpha', 0.0, 1.0)\n"
     ]
    },
    {
     "name": "stdout",
     "output_type": "stream",
     "text": [
      "EvaluatorHoldout: Processed 35595 (100.0%) in 15.50 sec. Users per second: 2297\n"
     ]
    },
    {
     "name": "stderr",
     "output_type": "stream",
     "text": [
      "[I 2024-12-23 20:07:53,406] Trial 92 finished with value: 0.060254320541718816 and parameters: {'alpha': 0.9084301460592139}. Best is trial 68 with value: 0.06028501639921608.\n",
      "<ipython-input-16-3192f54068d0>:5: FutureWarning: suggest_uniform has been deprecated in v3.0.0. This feature will be removed in v6.0.0. See https://github.com/optuna/optuna/releases/tag/v3.0.0. Use suggest_float instead.\n",
      "  alpha = trial.suggest_uniform('alpha', 0.0, 1.0)\n"
     ]
    },
    {
     "name": "stdout",
     "output_type": "stream",
     "text": [
      "EvaluatorHoldout: Processed 35595 (100.0%) in 15.76 sec. Users per second: 2258\n"
     ]
    },
    {
     "name": "stderr",
     "output_type": "stream",
     "text": [
      "[I 2024-12-23 20:08:09,207] Trial 93 finished with value: 0.06027939986220468 and parameters: {'alpha': 0.9308812347998017}. Best is trial 68 with value: 0.06028501639921608.\n",
      "<ipython-input-16-3192f54068d0>:5: FutureWarning: suggest_uniform has been deprecated in v3.0.0. This feature will be removed in v6.0.0. See https://github.com/optuna/optuna/releases/tag/v3.0.0. Use suggest_float instead.\n",
      "  alpha = trial.suggest_uniform('alpha', 0.0, 1.0)\n"
     ]
    },
    {
     "name": "stdout",
     "output_type": "stream",
     "text": [
      "EvaluatorHoldout: Processed 35595 (100.0%) in 15.35 sec. Users per second: 2319\n"
     ]
    },
    {
     "name": "stderr",
     "output_type": "stream",
     "text": [
      "[I 2024-12-23 20:08:24,600] Trial 94 finished with value: 0.06010385911165331 and parameters: {'alpha': 0.9829937751191327}. Best is trial 68 with value: 0.06028501639921608.\n",
      "<ipython-input-16-3192f54068d0>:5: FutureWarning: suggest_uniform has been deprecated in v3.0.0. This feature will be removed in v6.0.0. See https://github.com/optuna/optuna/releases/tag/v3.0.0. Use suggest_float instead.\n",
      "  alpha = trial.suggest_uniform('alpha', 0.0, 1.0)\n"
     ]
    },
    {
     "name": "stdout",
     "output_type": "stream",
     "text": [
      "EvaluatorHoldout: Processed 35595 (100.0%) in 15.68 sec. Users per second: 2270\n"
     ]
    },
    {
     "name": "stderr",
     "output_type": "stream",
     "text": [
      "[I 2024-12-23 20:08:40,320] Trial 95 finished with value: 0.060220750640470826 and parameters: {'alpha': 0.9548315708080041}. Best is trial 68 with value: 0.06028501639921608.\n",
      "<ipython-input-16-3192f54068d0>:5: FutureWarning: suggest_uniform has been deprecated in v3.0.0. This feature will be removed in v6.0.0. See https://github.com/optuna/optuna/releases/tag/v3.0.0. Use suggest_float instead.\n",
      "  alpha = trial.suggest_uniform('alpha', 0.0, 1.0)\n"
     ]
    },
    {
     "name": "stdout",
     "output_type": "stream",
     "text": [
      "EvaluatorHoldout: Processed 35595 (100.0%) in 15.27 sec. Users per second: 2331\n"
     ]
    },
    {
     "name": "stderr",
     "output_type": "stream",
     "text": [
      "[I 2024-12-23 20:08:55,627] Trial 96 finished with value: 0.06008213321382117 and parameters: {'alpha': 0.8458868508083317}. Best is trial 68 with value: 0.06028501639921608.\n",
      "<ipython-input-16-3192f54068d0>:5: FutureWarning: suggest_uniform has been deprecated in v3.0.0. This feature will be removed in v6.0.0. See https://github.com/optuna/optuna/releases/tag/v3.0.0. Use suggest_float instead.\n",
      "  alpha = trial.suggest_uniform('alpha', 0.0, 1.0)\n"
     ]
    },
    {
     "name": "stdout",
     "output_type": "stream",
     "text": [
      "EvaluatorHoldout: Processed 35595 (100.0%) in 15.75 sec. Users per second: 2260\n"
     ]
    },
    {
     "name": "stderr",
     "output_type": "stream",
     "text": [
      "[I 2024-12-23 20:09:11,419] Trial 97 finished with value: 0.06002086858997755 and parameters: {'alpha': 0.9999307173872467}. Best is trial 68 with value: 0.06028501639921608.\n",
      "<ipython-input-16-3192f54068d0>:5: FutureWarning: suggest_uniform has been deprecated in v3.0.0. This feature will be removed in v6.0.0. See https://github.com/optuna/optuna/releases/tag/v3.0.0. Use suggest_float instead.\n",
      "  alpha = trial.suggest_uniform('alpha', 0.0, 1.0)\n"
     ]
    },
    {
     "name": "stdout",
     "output_type": "stream",
     "text": [
      "EvaluatorHoldout: Processed 35595 (100.0%) in 15.26 sec. Users per second: 2333\n"
     ]
    },
    {
     "name": "stderr",
     "output_type": "stream",
     "text": [
      "[I 2024-12-23 20:09:26,718] Trial 98 finished with value: 0.06018108816781188 and parameters: {'alpha': 0.8724181291175191}. Best is trial 68 with value: 0.06028501639921608.\n",
      "<ipython-input-16-3192f54068d0>:5: FutureWarning: suggest_uniform has been deprecated in v3.0.0. This feature will be removed in v6.0.0. See https://github.com/optuna/optuna/releases/tag/v3.0.0. Use suggest_float instead.\n",
      "  alpha = trial.suggest_uniform('alpha', 0.0, 1.0)\n"
     ]
    },
    {
     "name": "stdout",
     "output_type": "stream",
     "text": [
      "EvaluatorHoldout: Processed 35595 (100.0%) in 15.76 sec. Users per second: 2259\n"
     ]
    },
    {
     "name": "stderr",
     "output_type": "stream",
     "text": [
      "[I 2024-12-23 20:09:42,513] Trial 99 finished with value: 0.05248409799842431 and parameters: {'alpha': 0.17779817360350747}. Best is trial 68 with value: 0.06028501639921608.\n"
     ]
    }
   ],
   "source": [
    "import optuna\n",
    "\n",
    "optuna_study = optuna.create_study(study_name=\"hybrid_slim_knn\", direction=\"maximize\")\n",
    "        \n",
    "save_results = SaveResults()\n",
    "        \n",
    "optuna_study.optimize(objective_function,\n",
    "                      callbacks=[save_results],\n",
    "                      n_trials = 100\n",
    "                      )"
   ]
  },
  {
   "cell_type": "code",
   "execution_count": 19,
   "metadata": {},
   "outputs": [
    {
     "name": "stdout",
     "output_type": "stream",
     "text": [
      "{'result': 0.06028501639921608, 'alpha': 0.9242014366593713}\n"
     ]
    }
   ],
   "source": [
    "best_index = save_results.results_df[\"result\"].idxmax()\n",
    "best_hyperparams = save_results.results_df.loc[best_index].to_dict()\n",
    "print(best_hyperparams)"
   ]
  },
  {
   "cell_type": "code",
   "execution_count": 20,
   "metadata": {},
   "outputs": [
    {
     "name": "stdout",
     "output_type": "stream",
     "text": [
      "EvaluatorHoldout: Processed 35595 (100.0%) in 15.44 sec. Users per second: 2305\n",
      "MAP on test considering validation: 0.06001747614811059\n"
     ]
    }
   ],
   "source": [
    "# let's see the performance on test of the slimnet\n",
    "\n",
    "result_dict, _ = evaluator_test.evaluateRecommender(slim_recommender)\n",
    "\n",
    "MAP = result_dict.loc[10][\"MAP\"]\n",
    "\n",
    "print(\"MAP on test considering validation: \"+str(MAP))"
   ]
  },
  {
   "cell_type": "markdown",
   "metadata": {},
   "source": [
    "So we had slightly better results than with the slimnet"
   ]
  },
  {
   "cell_type": "markdown",
   "metadata": {},
   "source": [
    "# Submission"
   ]
  },
  {
   "cell_type": "code",
   "execution_count": 22,
   "metadata": {},
   "outputs": [
    {
     "name": "stderr",
     "output_type": "stream",
     "text": [
      "Progress: 100%|██████████| 38121/38121 [13:22<00:00, 47.52items/s] \n"
     ]
    },
    {
     "name": "stdout",
     "output_type": "stream",
     "text": [
      "Similarity column 38121 (100.0%), 4353.27 column/sec. Elapsed time 8.76 sec\n"
     ]
    }
   ],
   "source": [
    "# Let's produce the csv\n",
    "\n",
    "alpha = best_hyperparams[\"alpha\"]\n",
    "\n",
    "slim_recommender = MultiThreadSLIM_SLIMElasticNetRecommender(URM_all)\n",
    "\n",
    "topK = int(142.0)\n",
    "alpha = 9.521340863590419e-05\n",
    "l1_ratio = 0.4033590645217344\n",
    "slim_recommender.fit(topK=topK, l1_ratio=l1_ratio, alpha=alpha)\n",
    "\n",
    "knn_recommender = ItemKNNCFRecommender(URM_all)\n",
    "knn_recommender.fit(shrink=16, topK=6, asymmetric_alpha=0.024628530649850728)\n",
    "\n",
    "recommender = ItemKNNCustomSimilarityRecommender(URM_all)\n",
    "\n",
    "new_similarity = slim_recommender.W_sparse * alpha + knn_recommender.W_sparse * (1-alpha)\n",
    "\n",
    "recommender.fit(new_similarity)"
   ]
  },
  {
   "cell_type": "code",
   "execution_count": 23,
   "metadata": {},
   "outputs": [
    {
     "name": "stdout",
     "output_type": "stream",
     "text": [
      "   user_id\n",
      "0        0\n",
      "1        1\n",
      "2        2\n",
      "3        3\n",
      "4        4\n",
      "5        5\n",
      "6        6\n",
      "7        7\n",
      "8        8\n",
      "9        9\n"
     ]
    }
   ],
   "source": [
    "# Let's produce the csv\n",
    "target_user = pd.read_csv(\"Dataset/data_target_users_test.csv\")\n",
    "print(target_user.head(10))\n",
    "\n",
    "user_id = target_user['user_id']\n",
    "recommendations = []\n",
    "for user in user_id:\n",
    "    recommendations.append(recommender.recommend(user, cutoff=10))\n",
    "\n",
    "# Saving in a submission file for the competition\n",
    "submission = pd.DataFrame(columns=['user_id', 'item_list'])\n",
    "submission['user_id'] = user_id\n",
    "# Convert list of recommendations into a space-separated string\n",
    "submission['item_list'] = [' '.join(map(str, recs)) for recs in recommendations]\n",
    "\n",
    "# Save the submission file\n",
    "submission.to_csv(\"submissions/hybrid_slim_knn.csv\", index=False)"
   ]
  }
 ],
 "metadata": {
  "kernelspec": {
   "display_name": "RecSysPD",
   "language": "python",
   "name": "python3"
  },
  "language_info": {
   "codemirror_mode": {
    "name": "ipython",
    "version": 3
   },
   "file_extension": ".py",
   "mimetype": "text/x-python",
   "name": "python",
   "nbconvert_exporter": "python",
   "pygments_lexer": "ipython3",
   "version": "3.8.20"
  }
 },
 "nbformat": 4,
 "nbformat_minor": 2
}
